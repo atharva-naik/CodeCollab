{
 "cells": [
  {
   "cell_type": "markdown",
   "id": "838519a5",
   "metadata": {},
   "source": [
    "# Intraday Seasonality Analysis Using DB2 and Python\n",
    "\n",
    "This notebook shows how to extract and visualize intraday seasonality data for financial securities from DB2 using Python. This notebook covers the following:\n",
    "\n",
    "1. Install the `ibm-db` Python client library\n",
    "1. Connect to a DB2 database\n",
    "1. Implement a Python function that:\n",
    "    * Queries a DB2 database for intraday seasonality data for a security\n",
    "    * Plots the query results\n",
    "1. Plot intraday seasonality for select securities\n",
    "\n",
    "## Install the `ibm-db` Python Client Library\n",
    "\n",
    "IBM provides the [ibm-db Python library](https://code.google.com/p/ibm-db/) to facilitate connecting to IBM DB2. You can install the `ibm-db` library in your IBM Knowledge Anyhow Workbench environment using the `pip` installer:"
   ]
  },
  {
   "cell_type": "code",
   "execution_count": null,
   "id": "42f93286",
   "metadata": {},
   "outputs": [],
   "source": [
    "!pip install ibm_db"
   ]
  },
  {
   "cell_type": "markdown",
   "id": "2d7ab5ba",
   "metadata": {},
   "source": [
    "The above command installs the `ibm_db` package in your IBM Knowledge Anyhow Workbench.  This package is now available to all notebooks. \n",
    "\n",
    "<div class=\"alert alert-block alert-info\" style=\"margin-top: 20px\">**Note:** You only need to run this step once. Rerunning the command will simply detect that the <span style=\"white-space: pre;font-family: monospace;\">ibm_db</span> library has already been installed in your Knowledge Anyhow Workbench and no repeated installation is required.\n",
    "\n",
    "Also note, that connecting to DB2 requires a DB2 driver which is already pre-installed in your Knowledge Anyhow Workbench in <span style=\"white-space: pre;font-family: monospace;\">/opt/db2_v10.5_linuxamd64/clidriver/lib/libdb2.so</span>.</div>\n",
    "\n",
    "</div>\n",
    "\n",
    "## Connect to a DB2 Database\n",
    "\n",
    "If you have not previously done so as part of another tutorial, **[click here to import the credentials file](/tutorials/eurex/db2_bludb_credentials.json)** into your workbench.\n",
    "\n",
    "You should now see the `db2_bludb_credentials.json` file in your \"Recent Data\" panel.\n",
    "\n",
    "Create a database connection `conn`:"
   ]
  },
  {
   "cell_type": "code",
   "execution_count": null,
   "id": "6759681b",
   "metadata": {},
   "outputs": [],
   "source": [
    "# import ibm_db driver modules, used to create DB2 connection from Python\n",
    "import ibm_db\n",
    "import ibm_db_dbi\n",
    "# import JSON module, used to read JSON credentials file\n",
    "import json\n",
    "\n",
    "# load the database credentials JSON file\n",
    "with file('/resources/db2_bludb_credentials.json') as f:\n",
    "    db_credentials = json.load(f)\n",
    "    # create a DB2 DSN connection string, using the db credentials\n",
    "    dsn = '''DRIVER={{{dsn_driver}}};\\\n",
    "             DATABASE={dsn_database};\\\n",
    "             HOSTNAME={dsn_hostname};\\\n",
    "             PORT={dsn_port};\\\n",
    "             PROTOCOL={dsn_protocol};\\\n",
    "             UID={dsn_uid};\\\n",
    "             PWD={dsn_pwd};'''.format(**db_credentials)\n",
    "    # create DB2 connection, using the dsn\n",
    "    raw_conn = ibm_db.connect(dsn, db_credentials['dsn_uid'], db_credentials['dsn_pwd'])\n",
    "    conn = ibm_db_dbi.Connection(raw_conn)"
   ]
  },
  {
   "cell_type": "markdown",
   "id": "df6d68c5",
   "metadata": {},
   "source": [
    "<div class=\"alert alert-block alert-info\" style=\"margin-top: 20px\">**Note:** You can find details about this code and an in-depth description about creating a DB2 database connection in the **Tutorial - Access DB2 Using Python** that you can download from our [Welcome](/pages/welcome) page.\n",
    "</div>\n",
    "\n",
    "## Implement `analyse_seasonality` Function\n",
    "\n",
    "The following code snippet implements a function that issues a SQL query against the `eurex` DB2 database containing financial data. Furthermore, it plots a graph of the results:"
   ]
  },
  {
   "cell_type": "code",
   "execution_count": null,
   "id": "d9ff8c57",
   "metadata": {},
   "outputs": [],
   "source": [
    "import pandas\n",
    "from matplotlib import pyplot as plt\n",
    "from IPython.core.pylabtools import figsize\n",
    "\n",
    "pandas.options.display.mpl_style = 'default' # use pandas default style for plots\n",
    "\n",
    "def analyse_seasonality(secid):\n",
    "\n",
    "    # query intraday seasonality stats\n",
    "    sqlstring = '''\n",
    "        select minute, \n",
    "            avg(vwaprice) as vwaprice, \n",
    "            avg(range1) as range, \n",
    "            avg(units) as units, \n",
    "            avg(buyunits) as buyunits,\n",
    "            avg(sellunits) as sellunits\n",
    "        from (select \n",
    "             date(data_timestamp),\n",
    "             minute(data_timestamp) as Minute,\n",
    "             sum(units*price)/sum(units) as vwaprice,\n",
    "             max(price)-min(price) as range1,\n",
    "             sum(units) as units,\n",
    "             sum(aggressor_side*units) as buyunits,\n",
    "             sum((1-aggressor_side)*units) as sellunits\n",
    "            from eurex.f_eurex_trades\n",
    "            where security_id = {secid}\n",
    "            and hour(data_timestamp) < '22'\n",
    "            group by date(data_timestamp),minute(data_timestamp)\n",
    "            order by date(data_timestamp), minute(data_timestamp)) as a\n",
    "        group by minute\n",
    "        order by minute'''.format(secid=secid)\n",
    "    df = pandas.read_sql(sqlstring, conn)\n",
    "    \n",
    "    # query product name to be included in visualization\n",
    "    product_id_sql_string = '''\n",
    "        select distinct product_id\n",
    "        from eurex.f_eurex_trades\n",
    "        where security_id = {secid}'''.format(secid=secid)\n",
    "    product_id_df = pandas.read_sql(product_id_sql_string, conn)\n",
    "    product = product_id_df.iloc[0]['PRODUCT_ID']\n",
    "    \n",
    "    # define plot layout, graph size and main title\n",
    "    figsize(10,10) \n",
    "    f, (ax1, ax2, ax3, ax4) = plt.subplots(4)\n",
    "    title = \"Intraday seasonalities - averages per minute: {0} - {1}\".format(product, secid)\n",
    "    f.suptitle(title, fontsize=16)\n",
    "    x = df.index\n",
    "    \n",
    "    # plot Prices chart\n",
    "    ax1.set_xlim(0, max(x))\n",
    "    ax1.plot(x, df['VWAPRICE'])\n",
    "    ax1.set_title('Prices')\n",
    "\n",
    "    # plot Price range chart\n",
    "    ax2.set_xlim(0, max(x))\n",
    "    ax2.plot(x, df['RANGE'])\n",
    "    ax2.set_title('Price range')\n",
    "\n",
    "    # plot Traded contracts chart\n",
    "    ax3.set_xlim(0, max(x))\n",
    "    ax3.plot(x, df['UNITS'])\n",
    "    ax3.set_title('Traded contracts')\n",
    "    \n",
    "    # plot Order imbalance chart\n",
    "    ax4.set_xlim(0, max(x))\n",
    "    ax4.plot(x, abs(df['BUYUNITS'] - df['SELLUNITS']) / df['UNITS'])\n",
    "    ax4.set_title('Order imbalance')"
   ]
  },
  {
   "cell_type": "markdown",
   "id": "56737d32",
   "metadata": {},
   "source": [
    "## Plot Intraday Seasonality for Select Securities\n",
    "\n",
    "Let's test the `analyse_seasonality` function by invoking it for the FDAX security ID **464957**. You should see a set of plots titled \"Intraday seasonalities - averages per minute: FDAX - 464957\"."
   ]
  },
  {
   "cell_type": "code",
   "execution_count": null,
   "id": "dafaf189",
   "metadata": {},
   "outputs": [],
   "source": [
    "# show plots inline in notebook\n",
    "%matplotlib inline  "
   ]
  },
  {
   "cell_type": "markdown",
   "id": "681e8fcb",
   "metadata": {},
   "source": [
    "<div class=\"alert alert-block alert-info\">**Note:** The <span style=\"white-space: pre;font-family: monospace;\">%%time</span> notebook magic function at the top of a code cell measures and prints the cell execution time. It provides an easy way to measure performance of long running tasks during your analysis.\n",
    "</div>"
   ]
  },
  {
   "cell_type": "code",
   "execution_count": null,
   "id": "a96d01e5",
   "metadata": {},
   "outputs": [],
   "source": [
    "%%time\n",
    "analyse_seasonality(464957)"
   ]
  },
  {
   "cell_type": "markdown",
   "id": "560b1c16",
   "metadata": {},
   "source": [
    "Having confirmed that the `analyse_seasonality` function works, let's invoke the function for a set of additional securities.\n",
    "\n",
    "Here we make use of [IPython Interactive Widgets](http://nbviewer.ipython.org/github/ipython/ipython/blob/master/examples/Interactive%20Widgets/Index.ipynb) to invoke the `analyse_seasonality` function for the selected security."
   ]
  },
  {
   "cell_type": "code",
   "execution_count": null,
   "id": "b1a83942",
   "metadata": {},
   "outputs": [],
   "source": [
    "from ipywidgets import interact\n",
    "from IPython.html import widgets\n",
    "\n",
    "securities = [\n",
    "    '464977',\n",
    "    '454608',\n",
    "    '566988',\n",
    "    '567008',\n",
    "    '558044',\n",
    "    '661030',\n",
    "    '661055',\n",
    "    '653147',\n",
    "    '760534',\n",
    "    '760554',\n",
    "    '750818',\n",
    "    '855848',\n",
    "    '855868',\n",
    "    '847251',\n",
    "]\n",
    "\n",
    "# Display an interactive widget that plots intraday seasonality\n",
    "# data for a list of securities.\n",
    "def show_widget(securities):\n",
    "    interact(\n",
    "        analyse_seasonality,\n",
    "        secid = widgets.Dropdown(description=\"Security\", \n",
    "                                     options=securities, \n",
    "                                       value=securities[0]),\n",
    "        div=widgets.HTML(value='<div id=\"intraday\" style=\"width: 800px; height: 600px\"></div>')\n",
    "    )\n",
    "\n",
    "show_widget(securities)"
   ]
  },
  {
   "cell_type": "markdown",
   "id": "f48413ae",
   "metadata": {},
   "source": [
    "## Next Steps\n",
    "\n",
    "Feel free to analyze additional securities.  To obtain a list of **all** valid security IDs, run the following query:"
   ]
  },
  {
   "cell_type": "code",
   "execution_count": null,
   "id": "8090b093",
   "metadata": {},
   "outputs": [],
   "source": [
    "%%time\n",
    "security_ids_df = pandas.read_sql('select distinct security_id, product_id \\\n",
    "                      from eurex.f_eurex_trades \\\n",
    "                      order by security_id', conn)"
   ]
  },
  {
   "cell_type": "code",
   "execution_count": null,
   "id": "86acf9b4",
   "metadata": {},
   "outputs": [],
   "source": [
    "security_ids_df.head()"
   ]
  },
  {
   "cell_type": "markdown",
   "id": "48f24e12",
   "metadata": {},
   "source": [
    "Show the intraday seasonality for the first 50 securities."
   ]
  }
 ],
 "metadata": {},
 "nbformat": 4,
 "nbformat_minor": 5
}
