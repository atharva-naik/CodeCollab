{
 "cells": [
  {
   "cell_type": "code",
   "execution_count": null,
   "id": "ea57e246",
   "metadata": {},
   "outputs": [],
   "source": [
    "import pandas as pd\n",
    "pols = pd.read_csv(\"pollutants.csv\", dtype = object)"
   ]
  },
  {
   "cell_type": "code",
   "execution_count": null,
   "id": "aee7a449",
   "metadata": {},
   "outputs": [],
   "source": [
    "cols = ['fiscal_year', 'result']\n",
    "pols[cols] = pols[cols].apply(pd.to_numeric, errors = 'coerce')"
   ]
  },
  {
   "cell_type": "markdown",
   "id": "8920e834",
   "metadata": {},
   "source": [
    "**Exercise 1**: Select the `general_location` column from `pols`."
   ]
  },
  {
   "cell_type": "code",
   "execution_count": null,
   "id": "eaac342a",
   "metadata": {},
   "outputs": [],
   "source": [
    "pols['general_location']"
   ]
  },
  {
   "cell_type": "code",
   "execution_count": null,
   "id": "ec2873b9",
   "metadata": {},
   "outputs": [],
   "source": [
    "pols[pols.columns[3]]"
   ]
  },
  {
   "cell_type": "code",
   "execution_count": null,
   "id": "d71f18c8",
   "metadata": {},
   "outputs": [],
   "source": [
    "pols.general_location"
   ]
  },
  {
   "cell_type": "markdown",
   "id": "ac089bf9",
   "metadata": {},
   "source": [
    "**Exercise 2**: what is the general location for the 94th entry  of `pols`."
   ]
  },
  {
   "cell_type": "code",
   "execution_count": null,
   "id": "5309852f",
   "metadata": {},
   "outputs": [],
   "source": [
    "pols.general_location[93]"
   ]
  },
  {
   "cell_type": "code",
   "execution_count": null,
   "id": "bc6924b8",
   "metadata": {},
   "outputs": [],
   "source": [
    "pols.iloc[93, 3]"
   ]
  },
  {
   "cell_type": "code",
   "execution_count": null,
   "id": "c319a04b",
   "metadata": {},
   "outputs": [],
   "source": [
    "pols.loc[93, 'general_location']"
   ]
  },
  {
   "cell_type": "markdown",
   "id": "ef219eb9",
   "metadata": {},
   "source": [
    "**Exercise 3**: Select the first row of data (the first record) from `pols`. Hint: use `loc` or `iloc`."
   ]
  },
  {
   "cell_type": "code",
   "execution_count": null,
   "id": "f9ba04eb",
   "metadata": {},
   "outputs": [],
   "source": [
    "pols.iloc[[1,9,19,91],[3,10,14,21]]\n"
   ]
  },
  {
   "cell_type": "markdown",
   "id": "c1aac656",
   "metadata": {},
   "source": [
    "***Exercise 7***: Select the general_location and specific_location columns of records 1 - 1000"
   ]
  },
  {
   "cell_type": "code",
   "execution_count": null,
   "id": "274a764c",
   "metadata": {},
   "outputs": [],
   "source": [
    "pols.iloc[1:1001, [3, 17]]"
   ]
  },
  {
   "cell_type": "markdown",
   "id": "debd3246",
   "metadata": {},
   "source": [
    "**Exercise 8**: Select tests done in the `Beaufort Sea`. Hint: `pols.general_location` equals what? "
   ]
  },
  {
   "cell_type": "code",
   "execution_count": null,
   "id": "aa8cb922",
   "metadata": {},
   "outputs": [],
   "source": [
    "pols.loc[pols['general_location'] == 'Beaufort Sea']"
   ]
  },
  {
   "cell_type": "markdown",
   "id": "1a40273a",
   "metadata": {},
   "source": [
    "**Exercise 9**: Select tests whose `parameter` is not `NaN`."
   ]
  },
  {
   "cell_type": "code",
   "execution_count": null,
   "id": "855f9188",
   "metadata": {},
   "outputs": [],
   "source": [
    "pols.dropna(subset = ['parameter'])"
   ]
  },
  {
   "cell_type": "markdown",
   "id": "290b4244",
   "metadata": {},
   "source": [
    "**Exercise 10**: Select the `parameter` column."
   ]
  },
  {
   "cell_type": "code",
   "execution_count": null,
   "id": "72054c6e",
   "metadata": {},
   "outputs": [],
   "source": [
    "pols.parameter"
   ]
  },
  {
   "cell_type": "markdown",
   "id": "4d164b73",
   "metadata": {},
   "source": [
    "**Exercise 11**:  Select the `parameter` column for the first 1000 tests."
   ]
  },
  {
   "cell_type": "code",
   "execution_count": null,
   "id": "20eefd58",
   "metadata": {},
   "outputs": [],
   "source": [
    "pols.loc[0:999, 'parameter']"
   ]
  },
  {
   "cell_type": "markdown",
   "id": "af75197d",
   "metadata": {},
   "source": [
    "**Exercise 12**:  Select the `parameter` column for the last 1000 tests."
   ]
  },
  {
   "cell_type": "code",
   "execution_count": null,
   "id": "22c1529a",
   "metadata": {},
   "outputs": [],
   "source": [
    "top5 = MR.groupby(['parameter', 'units']).head(5)\n",
    "top5"
   ]
  },
  {
   "cell_type": "markdown",
   "id": "c354fd5c",
   "metadata": {},
   "source": [
    "**Exercise 20** How do we know that the units are aligned?  Find the different units that are used for the Mississippi River tests:"
   ]
  },
  {
   "cell_type": "code",
   "execution_count": null,
   "id": "90b5d81d",
   "metadata": {},
   "outputs": [],
   "source": [
    "MR.units.unique()"
   ]
  },
  {
   "cell_type": "markdown",
   "id": "8ea06595",
   "metadata": {},
   "source": [
    "Oh, it looks like there might be some differences.  I'm going to go through one way to match up the units so we can be sure we are looking at the most concentrated pollutants in the dataset. **I did this last night at almost midnight and I feel like it is kind of klunky but this is my solution** First I am going to duplicate the result column in a new column called 'adj': "
   ]
  },
  {
   "cell_type": "code",
   "execution_count": null,
   "id": "b0b61661",
   "metadata": {},
   "outputs": [],
   "source": [
    "MR = MR.assign(adj = MR['result'])\n",
    "MR"
   ]
  },
  {
   "cell_type": "markdown",
   "id": "a927dfec",
   "metadata": {},
   "source": [
    "We have micrograms, nanograms, and picograms per gram so I am going to adjust accordingly now:"
   ]
  },
  {
   "cell_type": "code",
   "execution_count": null,
   "id": "2a1cd12d",
   "metadata": {},
   "outputs": [],
   "source": [
    "MR.loc[MR['units'] == 'micrograms per dry gram', 'adj'] =  1000000\n",
    "MR.loc[MR['units'].str.contains(\"ng\"), 'adj'] =  1000\n",
    "MR.loc[MR['units'].str.contains(\"cent\"), 'adj'] = 1\n",
    "MR.loc[MR['units'] == 'CFU/g', 'adj'] =  1\n",
    "MR.loc[MR['units'] == 'Number', 'adj'] = 1\n",
    "MR.loc[MR['units'] == 'G', 'adj'] = 1\n",
    "MR.loc[MR['units'] == 'pg/g', 'adj'] = 1"
   ]
  },
  {
   "cell_type": "markdown",
   "id": "b692bc0a",
   "metadata": {},
   "source": [
    "**Exercise 21**: Did the adjustment catch all of the different types of units?"
   ]
  },
  {
   "cell_type": "code",
   "execution_count": null,
   "id": "7fa2f0d5",
   "metadata": {},
   "outputs": [],
   "source": [
    "MR.adj.unique()\n"
   ]
  },
  {
   "cell_type": "markdown",
   "id": "a722fd43",
   "metadata": {},
   "source": [
    "Now I will compensate for the unit adjustment like this: "
   ]
  },
  {
   "cell_type": "code",
   "execution_count": null,
   "id": "bc100b18",
   "metadata": {},
   "outputs": [],
   "source": [
    "MR['result'] = MR.result*MR.adj\n",
    "MR"
   ]
  },
  {
   "cell_type": "markdown",
   "id": "0754ec9d",
   "metadata": {},
   "source": [
    "**Exercise 22** What pollutants have the highest mean result value? `(Hint: Look at the discussion of groupby in the slides)`"
   ]
  },
  {
   "cell_type": "code",
   "execution_count": null,
   "id": "281b9a1b",
   "metadata": {},
   "outputs": [],
   "source": [
    "pols.iloc[-1000:, 10]"
   ]
  },
  {
   "cell_type": "markdown",
   "id": "a2ff746f",
   "metadata": {},
   "source": [
    "## Now, let's start to ask some more meaningful questions about our data"
   ]
  },
  {
   "cell_type": "markdown",
   "id": "bc9f6724",
   "metadata": {},
   "source": [
    "**Exercise 13**: What are the different pollutants present in the dataset? List each pollutant only once. Hint: `parameter` corresponds to pollutant?"
   ]
  },
  {
   "cell_type": "code",
   "execution_count": null,
   "id": "c90412d4",
   "metadata": {},
   "outputs": [],
   "source": [
    "pols.parameter.unique()"
   ]
  },
  {
   "cell_type": "markdown",
   "id": "eb1c5225",
   "metadata": {},
   "source": [
    "**Exercise 14**: How many pollutants are there?"
   ]
  },
  {
   "cell_type": "code",
   "execution_count": null,
   "id": "8051f361",
   "metadata": {},
   "outputs": [],
   "source": [
    "len(pols.parameter.unique())"
   ]
  },
  {
   "cell_type": "markdown",
   "id": "4202c693",
   "metadata": {},
   "source": [
    "**Exercise 15**: What pollutants are in the Mississippi River? Hint: Select the `parameter` column, but only for tests in the Mississippi River."
   ]
  },
  {
   "cell_type": "code",
   "execution_count": null,
   "id": "b09bb588",
   "metadata": {},
   "outputs": [],
   "source": [
    "pols[pols.general_location == \"Mississippi River\"].parameter"
   ]
  },
  {
   "cell_type": "markdown",
   "id": "03681af5",
   "metadata": {},
   "source": [
    "**Exercise 16**: How many different pollutants are in the Mississippi River? Hint: how long is the array of unique pollutants?"
   ]
  },
  {
   "cell_type": "code",
   "execution_count": null,
   "id": "42b3d2a0",
   "metadata": {},
   "outputs": [],
   "source": [
    "len(pols[pols.general_location == 'Mississippi River'].parameter.unique())"
   ]
  },
  {
   "cell_type": "markdown",
   "id": "eb389ed6",
   "metadata": {},
   "source": [
    "**Exercise 17**: What is the oldest test on record for the Mississippi River? Hint: What is the minimum value of `fiscal_year` for tests in the Mississippi River?"
   ]
  },
  {
   "cell_type": "code",
   "execution_count": null,
   "id": "3ea941ca",
   "metadata": {},
   "outputs": [],
   "source": [
    "pols[pols.general_location == 'Mississippi River'].fiscal_year.min()"
   ]
  },
  {
   "cell_type": "markdown",
   "id": "26fcb2d7",
   "metadata": {},
   "source": [
    "**Exercise 18**: What is the most recent test on record for the Mississippi River? Hint: What is the maximum value of `fiscal_year` for tests in the Mississippi River?"
   ]
  },
  {
   "cell_type": "code",
   "execution_count": null,
   "id": "216b3c1f",
   "metadata": {},
   "outputs": [],
   "source": [
    "pols.loc[0,:]"
   ]
  },
  {
   "cell_type": "code",
   "execution_count": null,
   "id": "a826c84f",
   "metadata": {},
   "outputs": [],
   "source": [
    "pols.iloc[0,]"
   ]
  },
  {
   "cell_type": "markdown",
   "id": "f694c84f",
   "metadata": {},
   "source": [
    "**Exercise 4**: Select the first 100 values from the `parameter` column in `pols` `Series`."
   ]
  },
  {
   "cell_type": "code",
   "execution_count": null,
   "id": "c68cbafc",
   "metadata": {},
   "outputs": [],
   "source": [
    "pols.parameter[0:100]"
   ]
  },
  {
   "cell_type": "code",
   "execution_count": null,
   "id": "01d91f1c",
   "metadata": {},
   "outputs": [],
   "source": [
    "pols.iloc[0:100, 10]"
   ]
  },
  {
   "cell_type": "code",
   "execution_count": null,
   "id": "8638c576",
   "metadata": {},
   "outputs": [],
   "source": [
    "pols['parameter'][0:100]"
   ]
  },
  {
   "cell_type": "code",
   "execution_count": null,
   "id": "3b9b3817",
   "metadata": {},
   "outputs": [],
   "source": [
    "pols.loc[0:99, 'parameter']"
   ]
  },
  {
   "cell_type": "markdown",
   "id": "a0091a3a",
   "metadata": {},
   "source": [
    "**Exercise 5**: Select the records with the `1`, `2`, `3`, `5`, and `8` row index positions. In other words, generate the following `DataFrame`:\n",
    "\n",
    "![DataFrame](pols_pic1.png)"
   ]
  },
  {
   "cell_type": "code",
   "execution_count": null,
   "id": "4280cedd",
   "metadata": {},
   "outputs": [],
   "source": [
    "pols.iloc[[1,2,3,5,8], :]"
   ]
  },
  {
   "cell_type": "markdown",
   "id": "dd456b76",
   "metadata": {},
   "source": [
    "**Exercise 6**: Select the `general_location`, `parameter`, `result`, and `units` columns of the records with the `1`, `9`, `19`, and `91` index positions. In other words, generate the following `DataFrame`:\n",
    "\n",
    "![DataFrame](pols_pic2.png)"
   ]
  },
  {
   "cell_type": "code",
   "execution_count": null,
   "id": "27f06b2b",
   "metadata": {},
   "outputs": [],
   "source": [
    "pols[pols.general_location == 'Mississippi River'].fiscal_year.max()"
   ]
  },
  {
   "cell_type": "markdown",
   "id": "a36005d5",
   "metadata": {},
   "source": [
    "**Exercise 19**: Lets explore the Mississippi River data in more detail. What are the most concentrated pollutants at each specific location? `Hint: first, create a dataframe corresponding to only Mississippi River data with result values greater than zero, then sort by the highest result. Then, group by 'parameter' and 'units'`"
   ]
  },
  {
   "cell_type": "code",
   "execution_count": null,
   "id": "cf0d10e9",
   "metadata": {},
   "outputs": [],
   "source": [
    "MR = pols[(pols.general_location == \"Mississippi River\") & (pols.result > 0)]\n",
    "MR.sort_values('result', ascending = False)"
   ]
  },
  {
   "cell_type": "code",
   "execution_count": null,
   "id": "9faf7184",
   "metadata": {},
   "outputs": [],
   "source": [
    "MR.groupby('parameter')[['result']].mean()\n"
   ]
  },
  {
   "cell_type": "markdown",
   "id": "d0ba75e1",
   "metadata": {},
   "source": [
    "**Exercise 23** Let's see which pollutants changed the most in the MIssissippi river over the course of the study `(hint: create a dataframe from a pivot table, then find the difference between the highest and lowest values)`"
   ]
  }
 ],
 "metadata": {},
 "nbformat": 4,
 "nbformat_minor": 5
}
