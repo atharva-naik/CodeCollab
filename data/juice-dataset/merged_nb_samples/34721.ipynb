{
 "cells": [
  {
   "cell_type": "markdown",
   "id": "c125c7c9",
   "metadata": {},
   "source": [
    "# 1- Load the required modules"
   ]
  },
  {
   "cell_type": "code",
   "execution_count": null,
   "id": "e943cf06",
   "metadata": {},
   "outputs": [],
   "source": [
    "import pandas as pd\n",
    "import numpy as np\n",
    "%matplotlib inline\n",
    "import sklearn.model_selection as cv\n",
    "import sklearn\n",
    "# You must install the library colour and colorclassifier:\n",
    "# Run the command \"pip install colour colorclassifier colormath==1.0.8\n",
    "from colour import Color\n",
    "from colorclassifier import Classifier\n",
    "from datetime import datetime"
   ]
  },
  {
   "cell_type": "markdown",
   "id": "9d19446e",
   "metadata": {},
   "source": [
    "# 2- Load csv file with preprocessed location"
   ]
  },
  {
   "cell_type": "code",
   "execution_count": null,
   "id": "fc55f1bf",
   "metadata": {},
   "outputs": [],
   "source": [
    "ENCODING = 'latin1'\n",
    "\n",
    "# Read csv file with preprocessed locations\n",
    "# The original locations were imputed to country locations\n",
    "data = pd.read_csv(\"tweet_location_preprocessing/gender-classifier-tweet-location-preprocessed-0-18836.csv\", encoding=ENCODING)\n",
    "\n",
    "# In addition rows with gender == 'unknown' and gender == NaN has been deleted\n",
    "assert data[~data.gender.isin(['male', 'female', 'brand'])].empty\n",
    "\n",
    "data.head()"
   ]
  },
  {
   "cell_type": "markdown",
   "id": "a84521b2",
   "metadata": {},
   "source": [
    "# 3- Select attrs that will be used"
   ]
  },
  {
   "cell_type": "code",
   "execution_count": null,
   "id": "c8c2d0d5",
   "metadata": {},
   "outputs": [],
   "source": [
    "# Drop attributes that we won't use\n",
    "data = data.drop(['Unnamed: 0', '_unit_id', '_golden', '_unit_state', '_trusted_judgments', '_last_judgment_at', 'gender:confidence', 'profile_yn', 'profile_yn:confidence', 'gender_gold', 'profile_yn_gold', 'profileimage', 'tweet_id'], axis=1);\n",
    "data.head()"
   ]
  },
  {
   "cell_type": "markdown",
   "id": "ee139e78",
   "metadata": {},
   "source": [
    "# 4- Preprocess fields with string values and transform coordinates to binary"
   ]
  },
  {
   "cell_type": "code",
   "execution_count": null,
   "id": "7b83fe12",
   "metadata": {},
   "outputs": [],
   "source": [
    "# Description attr treatment. Change to number of words writed\n",
    "for index, row in data.iterrows() :\n",
    "    data.set_value(index, 'description', len(str(row['description'])))\n",
    "    data.set_value(index, 'text', len(str(row['text'])))\n",
    "    data.set_value(index, 'name', len(str(row['name'])))\n",
    "    data.set_value(index, 'tweet_coord', \"false\" if pd.isnull(row['tweet_coord']) else \"true\")\n",
    "\n",
    "data.rename(columns={'description': 'description_length', 'text': 'text_length', 'name': 'name_length'}, inplace=True)\n",
    "data.head()"
   ]
  },
  {
   "cell_type": "markdown",
   "id": "dfc43435",
   "metadata": {},
   "source": [
    "# 5- Change color values to color categories"
   ]
  },
  {
   "cell_type": "code",
   "execution_count": null,
   "id": "7eaa90f7",
   "metadata": {},
   "outputs": [],
   "source": [
    "def hexToColor(hex):\n",
    "    l = len(hex)\n",
    "    if (l > 6): hex = '0' * 6\n",
    "    elif (l < 6): hex = hex + '0' * (6 - l)\n",
    "    rgb = Color('#' + hex).rgb\n",
    "    i = lambda f: int(round(f))\n",
    "    return Classifier(rgb = [i(rgb[0]*255), i(rgb[1]*255), i(rgb[2]*255)]).get_name()\n",
    "\n",
    "data.sidebar_color = data.sidebar_color.apply(hexToColor)\n",
    "#Hay 14 colores distintos sin contar los valores del estilo \"1.10E+17\" para los que se ha puesto \"0\"\n",
    "#Son los colores de la libreria Classifier, de los que se elige el más similar.\n",
    "print(\"Sidebar colors:\")\n",
    "print(data.sidebar_color.unique())\n",
    "\n",
    "data.link_color = data.link_color.apply(hexToColor)\n",
    "print(\"Link colors:\")\n",
    "print(data.link_color.unique())\n",
    "\n",
    "time = lambda t: 'Unknown' if pd.isnull(t) else t\n",
    "data.user_timezone = data.user_timezone.apply(time)\n",
    "data.head()"
   ]
  },
  {
   "cell_type": "markdown",
   "id": "4ae7fe3e",
   "metadata": {},
   "source": [
    "# 6- Change create date values to categories"
   ]
  },
  {
   "cell_type": "code",
   "execution_count": null,
   "id": "1337fd3c",
   "metadata": {},
   "outputs": [],
   "source": [
    "# Tuits are only created at midday (between 12h - 13h) probably the time when the tuits were obtained\n",
    "def whichTimeRange(hour):\n",
    "    assert hour >= 0 and hour < 24\n",
    "    if (hour in range(1, 6)): return 'early_morning'\n",
    "    if (hour in range(6, 12)): return 'morning'\n",
    "    if (hour in range(12, 14)): return 'midday'\n",
    "    if (hour in range(14, 21)): return 'afternoon'\n",
    "    return 'evening' # 21 .. 0\n",
    "\n",
    "def dateToRange(date):\n",
    "    return whichTimeRange(datetime.strptime(date, '%m/%d/%y %H:%M').hour)\n",
    "\n",
    "data.created = data.created.apply(dateToRange)\n",
    "data.tweet_created = data.tweet_created.apply(dateToRange)"
   ]
  },
  {
   "cell_type": "code",
   "execution_count": null,
   "id": "ae2643db",
   "metadata": {},
   "outputs": [],
   "source": [
    "data.head()"
   ]
  },
  {
   "cell_type": "markdown",
   "id": "70b2b25c",
   "metadata": {},
   "source": [
    "# 7- Export CSV"
   ]
  }
 ],
 "metadata": {},
 "nbformat": 4,
 "nbformat_minor": 5
}
