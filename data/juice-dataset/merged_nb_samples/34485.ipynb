{
 "cells": [
  {
   "cell_type": "code",
   "execution_count": null,
   "id": "d479b7cc",
   "metadata": {},
   "outputs": [],
   "source": [
    "#Change Notebook Styling and Add Button to Show/Hide Code\n",
    "from IPython.display import HTML\n",
    "HTML(\"\"\"\n",
    "<link href='https://fonts.googleapis.com/css?family=Roboto' rel='stylesheet' type='text/css'>\n",
    "<style>\n",
    "div.text_cell_render {\n",
    "    font-family: 'Roboto' sans-serif;\n",
    "    text-align: justify;\n",
    "    line-height: 130%;\n",
    "    font-size: 115%;\n",
    "    width:700px;\n",
    "}\n",
    "div.output_area {\n",
    "    font-family: 'Roboto' sans-serif;\n",
    "    line-height: 130%;\n",
    "    font-size: 115%;\n",
    "    margin-left: 100px;\n",
    "    width:750px;\n",
    "}\n",
    ".dataframe * {\n",
    "    border: 1px solid lightgray !important;\n",
    "}\n",
    "div.output_prompt {display: none;}\n",
    "div.prompt {display: none;}\n",
    "\"\"\"\n",
    "#div.output_area pre {display: none;}\n",
    "\"\"\"\n",
    "</style>\n",
    "<script>\n",
    "code_shown=true; \n",
    "function code_toggle() {\n",
    " if (code_shown){\n",
    " $('div.input').hide();\n",
    " } else {\n",
    " $('div.input').show();\n",
    " }\n",
    " code_shown = !code_shown\n",
    "} \n",
    "$( document ).ready(code_toggle);\n",
    "</script>\n",
    "<form action=\"javascript:code_toggle()\"><input type=\"submit\" value=\"Click here to toggle code\"></form>\n",
    "\"\"\")"
   ]
  },
  {
   "cell_type": "markdown",
   "id": "df2cf4ba",
   "metadata": {},
   "source": [
    "## A Look at NYC Business Licenses\n",
    "\n",
    "New York requires dozens of types of businesses to register for a license through the Department of Community Affairs (DCA). Licenses cover everything from sidewalk cafes to laundromats to cigarette dealers and the data is made available through [NYC Open data](https://data.cityofnewyork.us/Business/Legally-Operating-Businesses/w7w3-xahh). This notebook explores the data set.\n",
    "\n",
    "Dataset: https://data.cityofnewyork.us/Business/Legally-Operating-Businesses/w7w3-xahh  \n",
    "DCA License Information: http://www1.nyc.gov/site/dca/businesses/licenses-apply.page"
   ]
  },
  {
   "cell_type": "markdown",
   "id": "7a643750",
   "metadata": {},
   "source": [
    "### License Overview\n",
    "\n",
    "Individual and Business licenses are recorded in this dataset. The majority of individual licenses (57.8%) are Home Improvement Salesperson Licenses with Tow Truck Drivers and Locksmiths taking the #2 and #3 spots.  Individual licenses are excluded from the rest of this notebook leaving 49,983 business licenses.\n"
   ]
  },
  {
   "cell_type": "code",
   "execution_count": null,
   "id": "020ef63e",
   "metadata": {},
   "outputs": [],
   "source": [
    "print 'License Types Counts:'\n",
    "pd.DataFrame(df['License Type'].value_counts())"
   ]
  },
  {
   "cell_type": "markdown",
   "id": "e88a2012",
   "metadata": {},
   "source": [
    "### Licenses by Borough (Businesses Only)"
   ]
  },
  {
   "cell_type": "markdown",
   "id": "093c1c34",
   "metadata": {},
   "source": [
    "Manhattan has the most licenses per resident with Staten Island coming in 2nd place."
   ]
  },
  {
   "cell_type": "code",
   "execution_count": null,
   "id": "344b86f9",
   "metadata": {},
   "outputs": [],
   "source": [
    "df_a = df[df['License Type'] == 'Business']['Address Borough'].fillna('Not Listed')\n",
    "#Population Estimates: https://www1.nyc.gov/site/planning/data-maps/nyc-population/current-future-populations.page\n",
    "populations = pd.Series({\n",
    "        \"Brooklyn\":2636735,\n",
    "        \"Queens\":2339150,\n",
    "        \"Manhattan\":1644518,\n",
    "        \"Bronx\":1455444,\n",
    "        \"Staten Island\":474558\n",
    "    })\n",
    "df_l = df_a.value_counts().to_frame().join(populations.to_frame())\n",
    "df_l = df_l.dropna()\n",
    "df_l.columns = ['licenses','population']\n",
    "df_l['Licenses Per 1000 Residents'] = df_l['licenses'] / (df_l['population'] / 1000)\n",
    "df_l"
   ]
  },
  {
   "cell_type": "markdown",
   "id": "3e223998",
   "metadata": {},
   "source": [
    "*Population Estimate Source: https://www1.nyc.gov/site/planning/data-maps/nyc-population/current-future-populations.page*"
   ]
  },
  {
   "cell_type": "markdown",
   "id": "b119e571",
   "metadata": {},
   "source": [
    "### Fourth Most Common License Type by Borough"
   ]
  },
  {
   "cell_type": "markdown",
   "id": "ff09fb6e",
   "metadata": {},
   "source": [
    "All Boroughs shared the most three common license types (although the order varied).  These were 'Cigarette Retail Dealer', 'Home Improvement Contractor', and 'Secondhand Dealer - General'.  Fourth place started to vary somewhat and is shown below:"
   ]
  },
  {
   "cell_type": "code",
   "execution_count": null,
   "id": "7e3b1546",
   "metadata": {},
   "outputs": [],
   "source": [
    "fourth_place = pd.Series({\n",
    "    'Manhattan': 'Sidewalk Cafe',\n",
    "    'Brooklyn': 'Electronics Store',\n",
    "    'Queens': 'Electronics Store',\n",
    "    'Bronx': 'Electronics Store',\n",
    "    'Staten Island': 'Amusement Device Portable'\n",
    "    }, name='')\n",
    "pd.DataFrame(fourth_place.sort_values(axis=0, ascending=False))"
   ]
  },
  {
   "cell_type": "markdown",
   "id": "496e25cc",
   "metadata": {},
   "source": [
    "Note: sightseeing guides and temporary street fair vendors are excluded from this dataset"
   ]
  },
  {
   "cell_type": "markdown",
   "id": "57e3169f",
   "metadata": {},
   "source": [
    "### All Licence Type Counts (Businesses Only)"
   ]
  },
  {
   "cell_type": "code",
   "execution_count": null,
   "id": "94ee46e0",
   "metadata": {},
   "outputs": [],
   "source": [
    "df_f = df[df['License Type'] == 'Business']['License Category']\n",
    "pd.DataFrame(df_f.value_counts())"
   ]
  },
  {
   "cell_type": "code",
   "execution_count": null,
   "id": "88438b85",
   "metadata": {},
   "outputs": [],
   "source": [
    "# Exported dataframe for use in zipcode maps\n",
    "# All Licenses:\n",
    "df_zip = df[df['License Type'] == 'Business']\n",
    "export_df = pd.DataFrame(df_zip['Address ZIP'].value_counts())\n",
    "export_df.index.name = 'Zipcode'\n",
    "export_df.columns = ['License Count']\n",
    "#export_df.head()\n",
    "export_df.to_csv('data/licenses_by_zip_all.csv',index=True)\n",
    "\n",
    "# Licenses by type\n",
    "df_zip = df[df['License Type'] == 'Business']\n",
    "export_df = df_zip[['Address ZIP', 'License Category']]\n",
    "export_df = export_df.groupby(['Address ZIP', 'License Category']).size().reset_index()\n",
    "export_df.columns = ['ZIP','License Category','License Count']\n",
    "export_df.to_csv('data/licenses_by_zip_and_type.csv',index=False)"
   ]
  },
  {
   "cell_type": "markdown",
   "id": "df2eb1f8",
   "metadata": {},
   "source": [
    "### Map of Counts by Zip - All Licence Types"
   ]
  },
  {
   "cell_type": "code",
   "execution_count": null,
   "id": "e2290cd3",
   "metadata": {},
   "outputs": [],
   "source": [
    "from IPython.display import HTML\n",
    "HTML(\"\"\"\n",
    "<iframe width=\"100%\" height=\"520\" frameborder=\"0\" src=\"https://aplucche.carto.com/viz/ba1b648a-7c45-11e6-acb6-0e98b61680bf/embed_map\" allowfullscreen webkitallowfullscreen mozallowfullscreen oallowfullscreen msallowfullscreen></iframe>\n",
    "\"\"\")"
   ]
  },
  {
   "cell_type": "markdown",
   "id": "be262fe5",
   "metadata": {},
   "source": [
    "### Map of Counts by Zip - Sidewalk Cafes"
   ]
  },
  {
   "cell_type": "code",
   "execution_count": null,
   "id": "19083d0a",
   "metadata": {},
   "outputs": [],
   "source": [
    "from IPython.display import HTML\n",
    "HTML(\"\"\"\n",
    "<iframe width=\"100%\" height=\"520\" frameborder=\"0\" src=\"https://aplucche.carto.com/viz/e2ed7bec-808b-11e6-aa89-0e3ff518bd15/embed_map\" allowfullscreen webkitallowfullscreen mozallowfullscreen oallowfullscreen msallowfullscreen></iframe>\n",
    "\"\"\")"
   ]
  },
  {
   "cell_type": "markdown",
   "id": "7bad9b46",
   "metadata": {},
   "source": [
    "### Map of Counts by Zip - Cigarette Retail Dealers"
   ]
  },
  {
   "cell_type": "code",
   "execution_count": null,
   "id": "5db1b805",
   "metadata": {},
   "outputs": [],
   "source": [
    "HTML(\"\"\"\n",
    "<iframe width=\"100%\" height=\"520\" frameborder=\"0\" src=\"https://aplucche.carto.com/viz/39d3f738-6912-48b0-b285-16e5644507fb/embed_map\" allowfullscreen webkitallowfullscreen mozallowfullscreen oallowfullscreen msallowfullscreen></iframe>\n",
    "\"\"\")"
   ]
  },
  {
   "cell_type": "markdown",
   "id": "0dbea488",
   "metadata": {},
   "source": [
    "### Map of Counts by Zip - Debt Collection Agencies"
   ]
  }
 ],
 "metadata": {},
 "nbformat": 4,
 "nbformat_minor": 5
}
