{
 "cells": [
  {
   "cell_type": "code",
   "execution_count": null,
   "id": "9a856010",
   "metadata": {},
   "outputs": [],
   "source": [
    "%pylab inline\n",
    "from imp import reload\n",
    "import scipy.stats as stats\n",
    "import shardlib.trees as tr\n",
    "import shardlib.plotFuncs as pf\n",
    "import shardlib.dbaccess as dba\n",
    "import shardlib.dataProcessing as dp\n",
    "import shardlib.sessionFuncs as sf\n",
    "import shardlib.queues as qs\n",
    "from shardlib.comp_analysis import XCPCompAnalysis\n",
    "from shardlib.comp_analysis import XSCompAnalysis\n",
    "from shardlib.comp_analysis import FEMCompAnalysis\n",
    "from shardlib.comp_analysis import SIMCompAnalysis\n",
    "from shardlib.comp_analysis import PSCCompAnalysis"
   ]
  },
  {
   "cell_type": "markdown",
   "id": "3d6dea5c",
   "metadata": {},
   "source": [
    "[Documentation](docs/enrupture_guide.pdf)"
   ]
  },
  {
   "cell_type": "markdown",
   "id": "4abafcc5",
   "metadata": {},
   "source": [
    "# Contents"
   ]
  },
  {
   "cell_type": "markdown",
   "id": "604f57c5",
   "metadata": {},
   "source": [
    "<b>[1. Initialization](#1.-Initialization)</b>\n",
    "\n",
    "<a href=\"#1(a)-New-Session\">1(a) New Session</a>\n",
    "\n",
    " <a href=\"#1(b)-Number-and-Distribution-of-the-Simulations\">1(b) Number and Distribution of the Simulations</a>\n",
    "\n",
    " <a href=\"#1(c)-Container-size-convergence\">1(c) Container size convergence</a>\n",
    "\n",
    " <a href=\"#1(d)-Number-and-Distribution-of-Simulations-with-Optimal-Size-Container\">1(d) Number and Distribution of Simulations with Optimal Size Container</a>\n",
    "\n",
    "<b><a href=\"#2.-Analysis-of-the-Model-Types\">2. Analysis of the Model Types</a></b>\n",
    "\n",
    " <i><a href=\"#2(a)-XFEM-crackPartition\">2(a) XFEM crackPartition</a></i>\n",
    "\n",
    "  <a href=\"#2(a)i.-Number-and-Distribution-of-XFEM-CP-Simulations\">2(a)i. Number and Distribution of XFEM CP Simulations</a>\n",
    "\n",
    "  <a href=\"#2(a)ii.-Initialization\">2(a)ii. Initialization</a>\n",
    "\n",
    "  <a href=\"#2(a)iii.-Analysis-Step\">2(a)iii. Analysis Step</a>\n",
    "\n",
    " <i><a href=\"#2(b)-XFEM-simple\">2(b) XFEM simple</a></i>\n",
    "\n",
    "  <a href=\"#2(b)i.-Number-and-Distribution-of-XFEM-simple-Simulations\">2(b)i. Number and Distribution of XFEM simple Simulations</a>\n",
    "\n",
    "  <a href=\"#2(b)ii.-Initialization\">2(b)ii. Initialization</a>\n",
    "\n",
    "  <a href=\"#2(b)iii.-Analysis-step\">2(b)iii. Analysis Step</a>\n",
    "\n",
    " <i><a href=\"#2(c)-FEM\">2(c) FEM</a></i>\n",
    "\n",
    "  <a href=\"#2(c)i.-Container-Size-Comparison-for-XFEM-and-FEM-Analyses\">2(c)i. Container Size Comparison for XFEM and FEM Analyses</a>\n",
    "\n",
    "  <a href=\"#2(c)ii.-Number-and-Distribution-of-FEM-Simulations\">2(c)ii. Number and Distribution of FEM Simulations</a>\n",
    "\n",
    "  <a href=\"#2(c)iii.-Initialization\">2(c)iii. Initialization</a>\n",
    "\n",
    "  <a href=\"#2(c)iv.-Analysis-Step\">2(c)iv. Analysis Step</a>\n",
    "\n",
    "<b><a href=\"#3.-Comparison-of-the-Model-Types\">3. Comparison of the Model Types</a></b>\n",
    "\n",
    " <a href=\"#3(a)-Initialization\">3(a) Initialization</a>\n",
    "\n",
    " <a href=\"#3(b)-Analysis-Step\">3(b) Analysis Step</a>"
   ]
  },
  {
   "cell_type": "markdown",
   "id": "736f92f8",
   "metadata": {},
   "source": [
    "# 1. Initialization"
   ]
  },
  {
   "cell_type": "markdown",
   "id": "d97d30f9",
   "metadata": {},
   "source": [
    "## 1(a) New Session"
   ]
  },
  {
   "cell_type": "code",
   "execution_count": null,
   "id": "a8f9eb48",
   "metadata": {},
   "outputs": [],
   "source": [
    "sf.createNewSessionFiles(False)"
   ]
  },
  {
   "cell_type": "markdown",
   "id": "b40f2dc8",
   "metadata": {},
   "source": [
    "## 1(b) Number and Distribution of the Simulations"
   ]
  },
  {
   "cell_type": "markdown",
   "id": "2da61867",
   "metadata": {},
   "source": [
    "### 1(b)i. All Simulations"
   ]
  },
  {
   "cell_type": "code",
   "execution_count": null,
   "id": "a9fdde8b",
   "metadata": {},
   "outputs": [],
   "source": [
    "allSimTree = tr.createTreeFromDbKeys(dba.getAllShelveKeys())\n",
    "allKeysTree = tr.createTreeOfKeys(allSimTree)\n",
    "sf.setSimIdAsFailed([allSimTree], sf.getSimIdsFromShelve('failed'))\n",
    "tr.assignBarWidthsAndMarks(allSimTree, allKeysTree)\n",
    "tr.assignLegendNames(allSimTree)\n",
    "allSimTree.printStats2()\n",
    "fig = figure(figsize=(12.9,8),dpi=100)\n",
    "tr.barPlot(allSimTree, allKeysTree, fig)"
   ]
  },
  {
   "cell_type": "markdown",
   "id": "f808dab3",
   "metadata": {},
   "source": [
    "### 1(b)ii. Simulations with Equal Initial Conditions and Material"
   ]
  },
  {
   "cell_type": "code",
   "execution_count": null,
   "id": "68788fe8",
   "metadata": {},
   "outputs": [],
   "source": [
    "dbKeys = pf.filterSimIds(dba.getAllShelveKeys(), \n",
    "                         {'sigma':100, 'omega':60, 'gamma':45, 'v':0.3, 'E':2e5})\n",
    "simTree = tr.createTreeFromDbKeys(dbKeys)\n",
    "sf.setSimIdAsFailed([allSimTree, simTree], sf.getSimIdsFromShelve('failed'))\n",
    "keysTree = tr.createTreeOfKeys(simTree)\n",
    "simTree.printStats2()"
   ]
  },
  {
   "cell_type": "code",
   "execution_count": null,
   "id": "22361a3f",
   "metadata": {},
   "outputs": [],
   "source": [
    "tr.assignBarWidthsAndMarks(simTree, keysTree)\n",
    "tr.assignLegendNames(simTree)\n",
    "fig = figure(figsize=(12.9,8),dpi=100)\n",
    "tr.barPlot(simTree, keysTree, fig)"
   ]
  },
  {
   "cell_type": "markdown",
   "id": "08b9fd63",
   "metadata": {},
   "source": [
    "### 1(b)iii. Assignment of Crack Ratio"
   ]
  },
  {
   "cell_type": "code",
   "execution_count": null,
   "id": "0c3b6074",
   "metadata": {},
   "outputs": [],
   "source": [
    "crackRatio = '10.0'"
   ]
  },
  {
   "cell_type": "markdown",
   "id": "e256a366",
   "metadata": {},
   "source": [
    "### 1(b)iv. Simulations with Equal Crack Ratio"
   ]
  },
  {
   "cell_type": "markdown",
   "id": "8125989a",
   "metadata": {},
   "source": [
    "#### 2(b)iB. Successful Simulations vs Seed Parameters Plots"
   ]
  },
  {
   "cell_type": "code",
   "execution_count": null,
   "id": "ea6db14a",
   "metadata": {},
   "outputs": [],
   "source": [
    "for n in sorted(crTree.getTreeBranch(['XFEM', 'simple']).getChildren(), key=lambda x: x.getName()):\n",
    "    fig = figure(figsize=(8.1,5),dpi=100)\n",
    "    title = 'Elements - {0}'.format(n.getName())\n",
    "    pf.create3dScatterPlotSummary(n.getSuccessfulMembers(), n.getFailedMembers(), title, fig)"
   ]
  },
  {
   "cell_type": "markdown",
   "id": "c18d02a1",
   "metadata": {},
   "source": [
    "#### 2(b)iC. Stats for All XFEM simple Simulations with the Specified Crack Ratio and Optimal Container Size"
   ]
  },
  {
   "cell_type": "code",
   "execution_count": null,
   "id": "a10a0f08",
   "metadata": {},
   "outputs": [],
   "source": [
    "dhcrTree.getTreeBranch(['XFEM', 'simple']).printStats2()"
   ]
  },
  {
   "cell_type": "markdown",
   "id": "7addddaf",
   "metadata": {},
   "source": [
    "### 2(b)ii. Initialization"
   ]
  },
  {
   "cell_type": "code",
   "execution_count": null,
   "id": "934df557",
   "metadata": {},
   "outputs": [],
   "source": [
    "criteria_xs = ['rmsd', 'K1']\n",
    "sifs_xs = ['K1', 'K2', 'K3']"
   ]
  },
  {
   "cell_type": "code",
   "execution_count": null,
   "id": "5af240f7",
   "metadata": {},
   "outputs": [],
   "source": [
    "cq_xs = qs.CompQueue()"
   ]
  },
  {
   "cell_type": "code",
   "execution_count": null,
   "id": "58f70273",
   "metadata": {},
   "outputs": [],
   "source": [
    "elements_xs = ['LinearHexRI', 'LinearHexFI', 'LinearTet'][2]\n",
    "cq_xs.loadSession(dhcrTree.getTreeBranch(['XFEM', 'simple', elements_xs]))\n",
    "cq_xs.printQueue()"
   ]
  },
  {
   "cell_type": "markdown",
   "id": "6c61b5e5",
   "metadata": {},
   "source": [
    "### 2(b)iii. Analysis step"
   ]
  },
  {
   "cell_type": "markdown",
   "id": "b467bf45",
   "metadata": {},
   "source": [
    "#### 2(b)iiiA. Box Plots"
   ]
  },
  {
   "cell_type": "code",
   "execution_count": null,
   "id": "5a317da1",
   "metadata": {},
   "outputs": [],
   "source": [
    "analysis1 = ['LinearHexRI', 'LinearHexFI', 'LinearTet'][0]\n",
    "analysis2 = ['LinearHexRI', 'LinearHexFI', 'LinearTet'][2]\n",
    "xs = XSCompAnalysis.XSCompAnalysis(pNode = dhcrTree,\n",
    "    analysisBranches = [['XFEM', 'simple', analysis1], ['XFEM', 'simple', analysis2]], \n",
    "    criteria = criteria_xs, sifs = sifs_xs)\n",
    "fig = figure(figsize=(12,10), dpi=100) #10\n",
    "xs.runMethods()\n",
    "xs.createFigure(fig)"
   ]
  },
  {
   "cell_type": "markdown",
   "id": "fc144311",
   "metadata": {},
   "source": [
    "#### 2(b)iiiB. Assignment of Failed simIds"
   ]
  },
  {
   "cell_type": "code",
   "execution_count": null,
   "id": "09ba1c5e",
   "metadata": {},
   "outputs": [],
   "source": [
    "selectionIdNumber = 5\n",
    "xs.assignSimIdAsFailed([allSimTree, simTree, crTree, dhcrTree], cq_xs, selectionIdNumber)"
   ]
  },
  {
   "cell_type": "markdown",
   "id": "77ca3433",
   "metadata": {},
   "source": [
    "#### 2(b)iiiC. Add simIds to CQ"
   ]
  },
  {
   "cell_type": "code",
   "execution_count": null,
   "id": "328d2461",
   "metadata": {},
   "outputs": [],
   "source": [
    "selectionIdNumber = 4\n",
    "xs.addToQueue(cq_xs, selectionIdNumber)\n",
    "cq_xs.printQueue()"
   ]
  },
  {
   "cell_type": "markdown",
   "id": "96f981c4",
   "metadata": {},
   "source": [
    "#### 2(b)iiiD. SIFs Plots of simIds in CQ"
   ]
  },
  {
   "cell_type": "code",
   "execution_count": null,
   "id": "4ce19ac9",
   "metadata": {},
   "outputs": [],
   "source": [
    "tr.assignBarWidthsAndMarks(dhcrTree, dhcrKeysTree)\n",
    "tr.assignLegendNames(dhcrTree)\n",
    "fig = figure(figsize=(12,8),dpi=100)\n",
    "tr.barPlot(dhcrTree, dhcrKeysTree, fig)"
   ]
  },
  {
   "cell_type": "markdown",
   "id": "1afba479",
   "metadata": {},
   "source": [
    "---------------"
   ]
  },
  {
   "cell_type": "markdown",
   "id": "5d0043f6",
   "metadata": {},
   "source": [
    "# 2. Analysis of the Model Types"
   ]
  },
  {
   "cell_type": "markdown",
   "id": "faecd79b",
   "metadata": {},
   "source": [
    "## 2(a) XFEM crackPartition"
   ]
  },
  {
   "cell_type": "markdown",
   "id": "b2a0b807",
   "metadata": {},
   "source": [
    "### 2(a)i. Number and Distribution of XFEM CP Simulations"
   ]
  },
  {
   "cell_type": "markdown",
   "id": "97471c47",
   "metadata": {},
   "source": [
    "#### 2(a)iA. Stats for all XFEM CP Simulations with the Specified Crack Ratio"
   ]
  },
  {
   "cell_type": "code",
   "execution_count": null,
   "id": "cd2523d0",
   "metadata": {},
   "outputs": [],
   "source": [
    "crTree.getTreeBranch(['XFEM', 'crackPartition', 'LinearTet']).printStats2()"
   ]
  },
  {
   "cell_type": "markdown",
   "id": "38279b68",
   "metadata": {},
   "source": [
    "#### 2(a)iB. Successful Simulations vs Seed Parameters Plots"
   ]
  },
  {
   "cell_type": "code",
   "execution_count": null,
   "id": "e7c3ef0e",
   "metadata": {},
   "outputs": [],
   "source": [
    "trbr_xcp = crTree.getTreeBranch(['XFEM', 'crackPartition', 'LinearTet'])\n",
    "crackEdges = dba.getParameterRange(trbr_xcp.getAllMembers(), 'crackEdges')\n",
    "for ce in sorted(crackEdges):\n",
    "    sf_xcp = pf.filterSimIds(trbr_xcp.getSuccessfulMembers(), {'crackEdges':ce})\n",
    "    ff_xcp = pf.filterSimIds(trbr_xcp.getFailedMembers(), {'crackEdges':ce})\n",
    "    fig = figure(figsize=(8.1,5),dpi=100)\n",
    "    pf.create3dScatterPlotSummary(sf_xcp, ff_xcp, 'Crack edges: {0}'.format(ce), fig)"
   ]
  },
  {
   "cell_type": "markdown",
   "id": "ce1f66e4",
   "metadata": {},
   "source": [
    "#### 2(a)iC. Stats for all XFEM CP Simulations with the Specified Crack Ratio and Optimal Container Size"
   ]
  },
  {
   "cell_type": "code",
   "execution_count": null,
   "id": "82a8c313",
   "metadata": {},
   "outputs": [],
   "source": [
    "dhcrTree.getTreeBranch(['XFEM', 'crackPartition', 'LinearTet']).printStats2()"
   ]
  },
  {
   "cell_type": "markdown",
   "id": "7b0963fb",
   "metadata": {},
   "source": [
    "### 2(a)ii. Initialization"
   ]
  },
  {
   "cell_type": "code",
   "execution_count": null,
   "id": "cf03b7c2",
   "metadata": {},
   "outputs": [],
   "source": [
    "queue_num_fc = 1\n",
    "fig = figure(figsize=(8,10), dpi=100)\n",
    "pf.plotSimId(cq_fc.getByNumber(queue_num_fc), fig)"
   ]
  },
  {
   "cell_type": "markdown",
   "id": "1f05915d",
   "metadata": {},
   "source": [
    "#### 2(c)ivG. Save a Selected simId to the Session successful File"
   ]
  },
  {
   "cell_type": "code",
   "execution_count": null,
   "id": "13a21f0f",
   "metadata": {},
   "outputs": [],
   "source": [
    "sf.writeToShelve(cq_fc.getByNumber(queue_num_fc), 'successful')"
   ]
  },
  {
   "cell_type": "markdown",
   "id": "17cfafda",
   "metadata": {},
   "source": [
    "# 3. Comparison of the Model Types"
   ]
  },
  {
   "cell_type": "markdown",
   "id": "b9cd5689",
   "metadata": {},
   "source": [
    "## 3(a) Initialization"
   ]
  },
  {
   "cell_type": "code",
   "execution_count": null,
   "id": "c8afc2b6",
   "metadata": {},
   "outputs": [],
   "source": [
    "criteria_sc = ['rmsd', 'K1']\n",
    "sifs_sc = ['K1', 'K2', 'K3']"
   ]
  },
  {
   "cell_type": "code",
   "execution_count": null,
   "id": "e03e7370",
   "metadata": {},
   "outputs": [],
   "source": [
    "lq = qs.LeavesQueue()\n",
    "for i in tr.getTreeLeaves(dhcrTree):\n",
    "    lq.addLeaf(i)\n",
    "lq.printQueue()"
   ]
  },
  {
   "cell_type": "markdown",
   "id": "8750ac4a",
   "metadata": {},
   "source": [
    "## 3(b) Analysis Step"
   ]
  },
  {
   "cell_type": "markdown",
   "id": "3e492768",
   "metadata": {},
   "source": [
    "#### 3(b)i. Box Plot"
   ]
  },
  {
   "cell_type": "code",
   "execution_count": null,
   "id": "bcf0a7a0",
   "metadata": {},
   "outputs": [],
   "source": [
    "sc = SIMCompAnalysis.BoxCompPlot(lq, criteria_sc, sifs_sc)\n",
    "fig = figure(figsize=(12,8),dpi=100)\n",
    "sc.createCompBoxPlot([3,9,10,11,12], 'difference', fig)"
   ]
  },
  {
   "cell_type": "markdown",
   "id": "cce25f14",
   "metadata": {},
   "source": [
    "#### 3(b)ii. Histogram"
   ]
  },
  {
   "cell_type": "code",
   "execution_count": null,
   "id": "df2f4674",
   "metadata": {},
   "outputs": [],
   "source": [
    "crKeys = pf.filterSimIds(dbKeys, {'crackRatio':float(crackRatio)})\n",
    "crTree = tr.createTreeFromDbKeys(crKeys)\n",
    "sf.setSimIdAsFailed([allSimTree, simTree, crTree], sf.getSimIdsFromShelve('failed'))\n",
    "crKeysTree = tr.createTreeOfKeys(crTree)\n",
    "crTree.printStats2()"
   ]
  },
  {
   "cell_type": "code",
   "execution_count": null,
   "id": "e72bfb45",
   "metadata": {},
   "outputs": [],
   "source": [
    "tr.assignBarWidthsAndMarks(crTree, crKeysTree)\n",
    "tr.assignLegendNames(crTree)\n",
    "fig = figure(figsize=(12,8),dpi=100)\n",
    "tr.barPlot(crTree, crKeysTree, fig)"
   ]
  },
  {
   "cell_type": "markdown",
   "id": "e436950d",
   "metadata": {},
   "source": [
    "## 1(c) Container size convergence"
   ]
  },
  {
   "cell_type": "markdown",
   "id": "ca19eefe",
   "metadata": {},
   "source": [
    "### 1(c)i. Contour Plots for SCS - Preview Stage"
   ]
  },
  {
   "cell_type": "markdown",
   "id": "fd0dd082",
   "metadata": {},
   "source": [
    "#### 2(a)iiiF. Errors and SIFs Plots for a Selected simId"
   ]
  },
  {
   "cell_type": "code",
   "execution_count": null,
   "id": "fbfd375d",
   "metadata": {},
   "outputs": [],
   "source": [
    "queue_num_xcp = 1\n",
    "cq_xcp.printQueue()\n",
    "fig = figure(figsize=(8,10), dpi=100)\n",
    "pf.plotSimId(cq_xcp.getByNumber(queue_num_xcp), fig)"
   ]
  },
  {
   "cell_type": "markdown",
   "id": "13601dae",
   "metadata": {},
   "source": [
    "#### 2(a)iiiG. Save a Selected simId to the Session successful File"
   ]
  },
  {
   "cell_type": "code",
   "execution_count": null,
   "id": "1a959e49",
   "metadata": {},
   "outputs": [],
   "source": [
    "sf.writeToShelve(cq_xcp.getByNumber(queue_num_xcp), 'successful')"
   ]
  },
  {
   "cell_type": "markdown",
   "id": "cc641015",
   "metadata": {},
   "source": [
    "------------"
   ]
  },
  {
   "cell_type": "markdown",
   "id": "61b5d720",
   "metadata": {},
   "source": [
    "## 2(b) XFEM simple"
   ]
  },
  {
   "cell_type": "markdown",
   "id": "47fb8a0e",
   "metadata": {},
   "source": [
    "### 2(b)i. Number and Distribution of XFEM simple Simulations"
   ]
  },
  {
   "cell_type": "markdown",
   "id": "1bffa6f2",
   "metadata": {},
   "source": [
    "#### 2(b)iA. Stats for All XFEM simple Simulations with the Specified Crack Ratio"
   ]
  },
  {
   "cell_type": "code",
   "execution_count": null,
   "id": "7a592de7",
   "metadata": {},
   "outputs": [],
   "source": [
    "crTree.getTreeBranch(['XFEM', 'simple']).printStats2()"
   ]
  },
  {
   "cell_type": "code",
   "execution_count": null,
   "id": "98d4c76d",
   "metadata": {},
   "outputs": [],
   "source": [
    "fig = figure(figsize=(8,10), dpi=100)\n",
    "pf.plotContainerSizeComparison(optD, optH, crackRatio, simTree, fig)"
   ]
  },
  {
   "cell_type": "markdown",
   "id": "3907d2d0",
   "metadata": {},
   "source": [
    "### 2(c)ii. Number and Distribution of FEM Simulations"
   ]
  },
  {
   "cell_type": "markdown",
   "id": "9cb259f7",
   "metadata": {},
   "source": [
    "#### 2(c)iiA. Stats for All FEM Simulations with the Specified Crack Ratio"
   ]
  },
  {
   "cell_type": "code",
   "execution_count": null,
   "id": "d6f0aee9",
   "metadata": {},
   "outputs": [],
   "source": [
    "crTree.getTreeBranch(['FEM']).printStats2()"
   ]
  },
  {
   "cell_type": "markdown",
   "id": "f33640a5",
   "metadata": {},
   "source": [
    "#### 2(c)iiB. Stats for All FEM Simulations with the Specified Crack Ratio and Optimal Container Size"
   ]
  },
  {
   "cell_type": "code",
   "execution_count": null,
   "id": "69c794f3",
   "metadata": {},
   "outputs": [],
   "source": [
    "dhcrTree.getTreeBranch(['FEM']).printStats2()"
   ]
  },
  {
   "cell_type": "markdown",
   "id": "db90c34d",
   "metadata": {},
   "source": [
    "### 2(c)iii. Initialization"
   ]
  },
  {
   "cell_type": "code",
   "execution_count": null,
   "id": "4c80d93a",
   "metadata": {},
   "outputs": [],
   "source": [
    "criteria_fc = ['rmsd', 'K1']\n",
    "sifs_fc = ['K1', 'K2', 'K3']"
   ]
  },
  {
   "cell_type": "code",
   "execution_count": null,
   "id": "896815e3",
   "metadata": {},
   "outputs": [],
   "source": [
    "cq_fc = qs.CompQueue()"
   ]
  },
  {
   "cell_type": "code",
   "execution_count": null,
   "id": "47243499",
   "metadata": {},
   "outputs": [],
   "source": [
    "cq_fc.loadSession(dhcrTree.getTreeBranch(['FEM'])) # 'elliptic', 'LinearHexRI'\n",
    "cq_fc.printQueue()"
   ]
  },
  {
   "cell_type": "markdown",
   "id": "e95ca09c",
   "metadata": {},
   "source": [
    "### 2(c)iv. Analysis Step"
   ]
  },
  {
   "cell_type": "markdown",
   "id": "9487165c",
   "metadata": {},
   "source": [
    "#### 2(c)ivA. Box Plot"
   ]
  },
  {
   "cell_type": "code",
   "execution_count": null,
   "id": "4f5b8369",
   "metadata": {},
   "outputs": [],
   "source": [
    "analysisType = 'XFEM'\n",
    "modelType = 'crackPartition'\n",
    "elements = 'LinearTet'\n",
    "s_sims, f_sims = pf.getBranchSimIdsByCriteria(crTree, [analysisType, modelType, elements])\n",
    "errDictCSConv = pf.selectSimsForMinErrors(\n",
    "            s_sims, ['areaDiff', 'avgNormError', 'maxNormError', 'dotProd'], ['K1', 'K2', 'K3'])\n",
    "for errType in ['areaDiff', 'avgNormError', 'dotProd', 'maxNormError']:\n",
    "    fig = figure(figsize=(15,5), dpi=100)\n",
    "    pf.createContourPlot4(errDictCSConv[errType], fig, errType, levels=15)"
   ]
  },
  {
   "cell_type": "markdown",
   "id": "77ff5014",
   "metadata": {},
   "source": [
    "### 1(c)ii. Optimal Container Size"
   ]
  },
  {
   "cell_type": "code",
   "execution_count": null,
   "id": "845e4723",
   "metadata": {},
   "outputs": [],
   "source": [
    "optD = 180\n",
    "optH = 120"
   ]
  },
  {
   "cell_type": "markdown",
   "id": "93faca66",
   "metadata": {},
   "source": [
    "### 1(c)iii. Contour Plots for CSC - Verification Stage"
   ]
  },
  {
   "cell_type": "code",
   "execution_count": null,
   "id": "fba7e8e0",
   "metadata": {},
   "outputs": [],
   "source": [
    "criteriaParam = 'rmsd' #'avgNormError', 'areaDiff', 'dotProd', 'maxNormError'\n",
    "criteriaSif = 'K1' #'K2', 'K3'\n",
    "errorTypes = ['areaDiff', 'avgNormError', 'dotProd', 'maxNormError']\n",
    "SIFs = ['K1', 'K3'] #'K2', \n",
    "d = pf.selectSimsForMinErrors(s_sims, [criteriaParam], [criteriaSif])[criteriaParam][criteriaSif]\n",
    "selSim = set([d[k][0] for k in d.keys()])\n",
    "d = pf.selectSimsForMinErrors(selSim, errorTypes, SIFs)\n",
    "for errType in errorTypes:\n",
    "    fig = figure(figsize=(15,5), dpi=100)\n",
    "    pf.createContourPlot4(d[errType], fig, errType, selected=(optD,optH), levels=15)"
   ]
  },
  {
   "cell_type": "markdown",
   "id": "5a4b6e7c",
   "metadata": {},
   "source": [
    "## 1(d) Number and Distribution of Simulations with Optimal Size Container"
   ]
  },
  {
   "cell_type": "code",
   "execution_count": null,
   "id": "a61b2001",
   "metadata": {},
   "outputs": [],
   "source": [
    "dhcrKeys = pf.filterSimIds(crKeys, {'d':optD, 'h':optH})\n",
    "dhcrTree = tr.createTreeFromDbKeys(dhcrKeys)\n",
    "sf.setSimIdAsFailed([allSimTree, simTree, crTree, dhcrTree], sf.getSimIdsFromShelve('failed'))\n",
    "dhcrKeysTree = tr.createTreeOfKeys(dhcrTree)\n",
    "dhcrTree.printStats2()"
   ]
  },
  {
   "cell_type": "code",
   "execution_count": null,
   "id": "fac2a437",
   "metadata": {},
   "outputs": [],
   "source": [
    "crackEdge = 0.4\n",
    "fig = figure(figsize=(12,10), dpi=100)\n",
    "xcp = XCPCompAnalysis.XCPCompAnalysis(dhcrTree.getTreeBranch(['XFEM', 'crackPartition', 'LinearTet']),\n",
    "                          crackEdge, criteria_xcp, sifs_xcp)\n",
    "xcp.runMethods()\n",
    "xcp.createFigure(fig)"
   ]
  },
  {
   "cell_type": "markdown",
   "id": "645e8469",
   "metadata": {},
   "source": [
    "#### 2(a)iiiB. Assignment of Failed simIds"
   ]
  },
  {
   "cell_type": "code",
   "execution_count": null,
   "id": "edc5928c",
   "metadata": {},
   "outputs": [],
   "source": [
    "selectionIdNumber = None\n",
    "xcp.assignSimIdAsFailed([allSimTree, simTree, crTree, dhcrTree], cq_xcp, selectionIdNumber)"
   ]
  },
  {
   "cell_type": "markdown",
   "id": "4755cc9d",
   "metadata": {},
   "source": [
    "#### 2(a)iiiC. Add simIds to CQ"
   ]
  },
  {
   "cell_type": "code",
   "execution_count": null,
   "id": "5de54539",
   "metadata": {},
   "outputs": [],
   "source": [
    "selectionIdNumber = 3\n",
    "xcp.addToQueue(cq_xcp, selectionIdNumber)\n",
    "cq_xcp.printQueue()"
   ]
  },
  {
   "cell_type": "markdown",
   "id": "a839578e",
   "metadata": {},
   "source": [
    "#### 2(a)iiiD. SIFs Plots of simIds in the CQ"
   ]
  },
  {
   "cell_type": "code",
   "execution_count": null,
   "id": "cbc89f40",
   "metadata": {},
   "outputs": [],
   "source": [
    "fig = figure(figsize(8,10), dpi=100)\n",
    "cq_xcp.plotComp(fig)\n",
    "cq_xcp.printQueue()"
   ]
  },
  {
   "cell_type": "markdown",
   "id": "cf923bae",
   "metadata": {},
   "source": [
    "#### 2(a)iiiE. Remove simId from CQ"
   ]
  },
  {
   "cell_type": "code",
   "execution_count": null,
   "id": "57053315",
   "metadata": {},
   "outputs": [],
   "source": [
    "num = None\n",
    "cq_xcp.removeFromQueue(num)\n",
    "cq_xcp.printQueue()"
   ]
  },
  {
   "cell_type": "code",
   "execution_count": null,
   "id": "edd928b8",
   "metadata": {},
   "outputs": [],
   "source": [
    "num = None\n",
    "cq_fc.removeFromQueue(num)\n",
    "cq_fc.printQueue()"
   ]
  },
  {
   "cell_type": "markdown",
   "id": "0bdd8b15",
   "metadata": {},
   "source": [
    "#### 2(c)ivF. Errors and SIFs Plots for a Selected simId"
   ]
  },
  {
   "cell_type": "code",
   "execution_count": null,
   "id": "136be8e3",
   "metadata": {},
   "outputs": [],
   "source": [
    "fig = figure(figsize(8,10), dpi=100)\n",
    "cq_xs.plotComp(fig)\n",
    "cq_xs.printQueue()"
   ]
  },
  {
   "cell_type": "markdown",
   "id": "51b48521",
   "metadata": {},
   "source": [
    "#### 2(b)iiiE. Remove a simId from CQ"
   ]
  },
  {
   "cell_type": "code",
   "execution_count": null,
   "id": "7dc2c415",
   "metadata": {},
   "outputs": [],
   "source": [
    "num = None\n",
    "cq_xs.removeFromQueue(num)\n",
    "cq_xs.printQueue()"
   ]
  },
  {
   "cell_type": "markdown",
   "id": "cb856f29",
   "metadata": {},
   "source": [
    "#### 2(b)iiiF. Errors and SIFs Plots for a Selected simId"
   ]
  },
  {
   "cell_type": "code",
   "execution_count": null,
   "id": "284bf44d",
   "metadata": {},
   "outputs": [],
   "source": [
    "queue_num_xs = 1\n",
    "cq_xs.printQueue()\n",
    "fig = figure(figsize=(8,10), dpi=100)\n",
    "pf.plotSimId(cq_xs.getByNumber(queue_num_xs), fig)"
   ]
  },
  {
   "cell_type": "markdown",
   "id": "0508253d",
   "metadata": {},
   "source": [
    "#### 2(b)iiiG. Save a Selected simId to the Session successful File"
   ]
  },
  {
   "cell_type": "code",
   "execution_count": null,
   "id": "ba3f3e37",
   "metadata": {},
   "outputs": [],
   "source": [
    "sf.writeToShelve(cq_xs.getByNumber(queue_num_xs), 'successful')"
   ]
  },
  {
   "cell_type": "markdown",
   "id": "d29cee63",
   "metadata": {},
   "source": [
    "## 2(c) FEM"
   ]
  },
  {
   "cell_type": "markdown",
   "id": "7a64d482",
   "metadata": {},
   "source": [
    "### 2(c)i. Container Size Comparison for XFEM and FEM Analyses"
   ]
  },
  {
   "cell_type": "code",
   "execution_count": null,
   "id": "02c2459d",
   "metadata": {},
   "outputs": [],
   "source": [
    "analysis1 = ['FEM', 'elliptic', 'QuadraticRI']\n",
    "analysis2 = ['FEM', 'simpleScale', 'LinearRI']\n",
    "fc = FEMCompAnalysis.FEMCompAnalysis(dhcrTree, [analysis1, analysis2], criteria_fc, sifs_fc)\n",
    "fig = figure(figsize=(12,10), dpi=100) #10\n",
    "fc.runMethods()\n",
    "fc.createFigure(fig)"
   ]
  },
  {
   "cell_type": "markdown",
   "id": "1cdd85ca",
   "metadata": {},
   "source": [
    "#### 2(c)ivB. Assignment of Failed simIds"
   ]
  },
  {
   "cell_type": "code",
   "execution_count": null,
   "id": "72f7ea43",
   "metadata": {},
   "outputs": [],
   "source": [
    "selectionIdNumber = None\n",
    "fc.assignSimIdAsFailed([allSimTree, simTree, crTree, dhcrTree], cq_fc, selectionIdNumber)"
   ]
  },
  {
   "cell_type": "markdown",
   "id": "bf30f56a",
   "metadata": {},
   "source": [
    "#### 2(c)ivC. Add simIds to CQ"
   ]
  },
  {
   "cell_type": "code",
   "execution_count": null,
   "id": "c87af20b",
   "metadata": {},
   "outputs": [],
   "source": [
    "selectionIdNumber = 1\n",
    "fc.addToQueue(cq_fc, selectionIdNumber)\n",
    "cq_fc.printQueue()"
   ]
  },
  {
   "cell_type": "markdown",
   "id": "85828796",
   "metadata": {},
   "source": [
    "#### 2(c)ivD. SIFs Plots of simIds in CQ"
   ]
  },
  {
   "cell_type": "code",
   "execution_count": null,
   "id": "b0802c24",
   "metadata": {},
   "outputs": [],
   "source": [
    "fig = figure(figsize(8,10), dpi=100)\n",
    "cq_fc.plotComp(fig)"
   ]
  },
  {
   "cell_type": "markdown",
   "id": "207efffc",
   "metadata": {},
   "source": [
    "#### 2(c)ivE. Remove a simId from the CQ"
   ]
  },
  {
   "cell_type": "code",
   "execution_count": null,
   "id": "47b30606",
   "metadata": {},
   "outputs": [],
   "source": [
    "sc = SIMCompAnalysis.HistCompPlot(lq, criteria_sc, sifs_sc)\n",
    "fig = figure(figsize=(10,10),dpi=100)\n",
    "items = {1:20, 2:20, 9:200}\n",
    "sc.createCompHistPlot(items, 'difference', [-50, 50], fig)"
   ]
  },
  {
   "cell_type": "markdown",
   "id": "db4e8f3c",
   "metadata": {},
   "source": [
    "#### 3(b)iii. Correlation Plot"
   ]
  },
  {
   "cell_type": "code",
   "execution_count": null,
   "id": "eadd929d",
   "metadata": {},
   "outputs": [],
   "source": [
    "criteria_xcp = ['rmsd', 'K1']\n",
    "sifs_xcp = ['K1', 'K2', 'K3']"
   ]
  },
  {
   "cell_type": "code",
   "execution_count": null,
   "id": "19c0cfb8",
   "metadata": {},
   "outputs": [],
   "source": [
    "cq_xcp = qs.CompQueue()"
   ]
  },
  {
   "cell_type": "code",
   "execution_count": null,
   "id": "5c8952e5",
   "metadata": {},
   "outputs": [],
   "source": [
    "cq_xcp.loadSession(dhcrTree.getTreeBranch(['XFEM', 'crackPartition', 'LinearTet']))\n",
    "cq_xcp.printQueue()"
   ]
  },
  {
   "cell_type": "markdown",
   "id": "d033122b",
   "metadata": {},
   "source": [
    "### 2(a)iii. Analysis Step"
   ]
  },
  {
   "cell_type": "markdown",
   "id": "655f11af",
   "metadata": {},
   "source": [
    "#### 2(a)iiiA. Box Plot"
   ]
  },
  {
   "cell_type": "code",
   "execution_count": null,
   "id": "e87b67af",
   "metadata": {},
   "outputs": [],
   "source": [
    "sc = SIMCompAnalysis.CorrCompPlot(lq, criteria_sc, sifs_sc)\n",
    "fig = figure(figsize=(10,10),dpi=100)\n",
    "sc.createCompCorrPlot([1,2,3,9], 'difference', [-100, 100], fig)"
   ]
  },
  {
   "cell_type": "code",
   "execution_count": null,
   "id": "6a86632b",
   "metadata": {},
   "outputs": [],
   "source": [
    "sc = SIMCompAnalysis.CorrCompPlot(lq, criteria_sc, sifs_sc)\n",
    "fig = figure(figsize=(10,10),dpi=100)\n",
    "sc.createCompCorrPlot([1, 9], 'results', None, fig)"
   ]
  },
  {
   "cell_type": "markdown",
   "id": "defdf425",
   "metadata": {},
   "source": [
    "#### 3(b)iv. Range Plot"
   ]
  },
  {
   "cell_type": "code",
   "execution_count": null,
   "id": "d4866ff5",
   "metadata": {},
   "outputs": [],
   "source": [
    "sc = SIMCompAnalysis.RangeCompPlot(lq, criteria_sc, sifs_sc)\n",
    "fig = figure(figsize=(12,14),dpi=100)\n",
    "opts = {'data':['results', 'errors'],'errors':'difference', 'optSim':True, 'range':True,\n",
    "        'analytical':True, 'dataPoints':True, 'rangeType':1}\n",
    "sc.createCompRangePlot({3:11,12:14}, opts, fig)  # 1:7, 2:7, 3:11, 4:11, 5:7, 6:7, 7:11, 8:11, 9:79, 10:29, 11:29, 12:14"
   ]
  },
  {
   "cell_type": "markdown",
   "id": "4f862c9d",
   "metadata": {},
   "source": [
    "#### 3(b)v. Bounds Plot"
   ]
  }
 ],
 "metadata": {},
 "nbformat": 4,
 "nbformat_minor": 5
}
