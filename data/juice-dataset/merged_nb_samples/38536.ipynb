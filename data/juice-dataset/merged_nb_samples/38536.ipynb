{
 "cells": [
  {
   "cell_type": "markdown",
   "id": "9342414f",
   "metadata": {},
   "source": [
    "# This notebook demonstrates the use of demodulator.py\n",
    "_________________________"
   ]
  },
  {
   "cell_type": "code",
   "execution_count": null,
   "id": "d6d7da98",
   "metadata": {},
   "outputs": [],
   "source": [
    "import demodulator as dmod\n",
    "\n",
    "%matplotlib inline\n",
    "\n",
    "d = 0.0094 # pickup coil diameter in meters\n",
    "Nturns = 10 # number of turns in the pickup coil"
   ]
  },
  {
   "cell_type": "markdown",
   "id": "8e3ae427",
   "metadata": {},
   "source": [
    "--------------------------------------"
   ]
  },
  {
   "cell_type": "markdown",
   "id": "b67bf456",
   "metadata": {},
   "source": [
    "## First, let's look at data from the small pulsed field. \n",
    "### Sample data files are:\n",
    "- **450V_84K** (8MB), containing the TDO and pickup signal as 8 bit unsigned ints (4M points each)\n",
    "- **450V_84KScale.txt**, containing the oscilloscope scaling factors for channel 1 (TDO) and channel 2 (pickup)\n",
    "- (This pulse was with a 450V charge on the capacitor bank, with the sample at 85K)\n",
    "\n",
    "#### First, load the data and calculate field from the pickup signal:"
   ]
  },
  {
   "cell_type": "code",
   "execution_count": null,
   "id": "d52d9cf7",
   "metadata": {},
   "outputs": [],
   "source": [
    "Sfile = r'./ExampleData/450V_84K'\n",
    "dict_450_84 = dmod.dataload_spf_bin(Sfile)\n",
    "dict_450_84 = dmod.pu_to_field(dict_450_84, Nturns, d, plot=True)"
   ]
  },
  {
   "cell_type": "markdown",
   "id": "487fe68a",
   "metadata": {},
   "source": [
    "#### Next, let's demod:\n",
    "##### (To play around with speed and resolution of demod(), you change change L and/or nstep)\n",
    "- TDO data has been decimated from 4,000,000 points to 400,000"
   ]
  },
  {
   "cell_type": "code",
   "execution_count": null,
   "id": "635a95fe",
   "metadata": {},
   "outputs": [],
   "source": [
    "demod_450_84 = dmod.demod(dict_450_84, L=None, nstep=None, plot=True)"
   ]
  },
  {
   "cell_type": "markdown",
   "id": "61c41dbc",
   "metadata": {},
   "source": [
    "#### Now that we have frequency, amplitude, and field vs. time, we can spline fit to look at frequency and amplitude vs. field:\n",
    "- **if plot**: plot frequency (and amplitude, if amp) vs. field\n",
    "- **if updown**: split data into up and down sweeps\n",
    "- **if delta**: look at change in frequency rather than absolute frequency\n",
    "- **if amp**: also spline fit (and plot, if plot) amplitude"
   ]
  },
  {
   "cell_type": "code",
   "execution_count": null,
   "id": "3da7536d",
   "metadata": {},
   "outputs": [],
   "source": [
    "demod_450_84 = dmod.spline_plot(demod_450_84, plot=True, updown=True, delta=True, amp=True)"
   ]
  },
  {
   "cell_type": "markdown",
   "id": "9f0e53ca",
   "metadata": {},
   "source": [
    "#### Finally, we can save the data:\n",
    "- Output file will be called 'file_root_demod.txt'\n",
    "    - if file_root is None, file_root is set to the name of the original int data file, e.g. 450V_84K\n",
    "- if tdo_pu: tdo and pickup voltage data will be save in a separate file\n",
    "    - data will be saved as doubles, the file will be big\n",
    "- In this case, output file is **450V_84K_demod.txt**"
   ]
  },
  {
   "cell_type": "code",
   "execution_count": null,
   "id": "b28eecc7",
   "metadata": {},
   "outputs": [],
   "source": [
    "dmod.data_save(demod_450_84, file_root=None, spline=True, tdo_pu=False)"
   ]
  },
  {
   "cell_type": "markdown",
   "id": "133849a0",
   "metadata": {},
   "source": [
    "---------------------------------------"
   ]
  },
  {
   "cell_type": "markdown",
   "id": "ce3661d0",
   "metadata": {},
   "source": [
    "## Next, let's look at data taken at LANL:\n",
    "- We only need to worry about one file here: **s007_012216dat.txt** (60.1MB)\n",
    "- You wont be able to run this section yourself because I've only included a few lines of this file on GitHub\n",
    "- TDO data is 2,200,000 points"
   ]
  },
  {
   "cell_type": "code",
   "execution_count": null,
   "id": "e5f004a0",
   "metadata": {},
   "outputs": [],
   "source": [
    "Lfile = r'./ExampleData/LANL_example.txt'\n",
    "LANL_dict = dmod.dataload_lanl_csv(Lfile)"
   ]
  },
  {
   "cell_type": "code",
   "execution_count": null,
   "id": "afe14be9",
   "metadata": {},
   "outputs": [],
   "source": [
    "demod_L = dmod.demod(LANL_dict, L=None, nstep=None, plot=True)"
   ]
  },
  {
   "cell_type": "code",
   "execution_count": null,
   "id": "4cdee80e",
   "metadata": {},
   "outputs": [],
   "source": [
    "demod_L = dmod.spline_plot(demod_L, plot=True, updown=True, delta=True, amp=True)"
   ]
  },
  {
   "cell_type": "markdown",
   "id": "d63ce92b",
   "metadata": {},
   "source": [
    "#### Save the data if you'd like:\n",
    "- Output file: **LANL_example_demod.txt**"
   ]
  }
 ],
 "metadata": {},
 "nbformat": 4,
 "nbformat_minor": 5
}
