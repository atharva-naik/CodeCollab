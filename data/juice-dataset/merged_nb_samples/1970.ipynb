{
 "cells": [
  {
   "cell_type": "markdown",
   "id": "5363fc5f",
   "metadata": {},
   "source": [
    "# --- Day 20: Firewall Rules ---\n",
    "\n",
    "You'd like to set up a small hidden computer here so you can use it to get back into the network later. However, the corporate firewall only allows communication with certain external IP addresses.\n",
    "\n",
    "You've retrieved the list of blocked IPs from the firewall, but the list seems to be messy and poorly maintained, and it's not clear which IPs are allowed. Also, rather than being written in dot-decimal notation, they are written as plain 32-bit integers, which can have any value from 0 through 4294967295, inclusive.\n",
    "\n",
    "For example, suppose only the values 0 through 9 were valid, and that you retrieved the following blacklist:\n",
    "\n",
    "```\n",
    "5-8\n",
    "0-2\n",
    "4-7```\n",
    "\n",
    "The blacklist specifies ranges of IPs (inclusive of both the start and end value) that are not allowed. Then, the only IPs that this firewall allows are 3 and 9, since those are the only numbers not in any range.\n",
    "\n",
    "**Given the list of blocked IPs you retrieved from the firewall (your puzzle input), what is the lowest-valued IP that is not blocked?**"
   ]
  },
  {
   "cell_type": "code",
   "execution_count": null,
   "id": "1a598cdd",
   "metadata": {},
   "outputs": [],
   "source": [
    "with open(f'inputs/20.txt') as f:\n",
    "    data = f.read().strip().split()\n",
    "data[:3]"
   ]
  },
  {
   "cell_type": "markdown",
   "id": "2d46eb65",
   "metadata": {},
   "source": [
    "first up, parsing the data:"
   ]
  },
  {
   "cell_type": "code",
   "execution_count": null,
   "id": "9c2d97ae",
   "metadata": {},
   "outputs": [],
   "source": [
    "blocklist = []\n",
    "for line in data:\n",
    "    r = [int(i) for i in line.split(\"-\")]\n",
    "    blocklist.append(r)\n",
    "blocklist[:3]"
   ]
  },
  {
   "cell_type": "code",
   "execution_count": null,
   "id": "9bdf2deb",
   "metadata": {},
   "outputs": [],
   "source": [
    "test_list = [[5,8],[0,2],[4,7]]\n",
    "test_list"
   ]
  },
  {
   "cell_type": "markdown",
   "id": "99057714",
   "metadata": {},
   "source": [
    "Now to sort the blocklists to make it easy to look up if a number is in the blocklist:"
   ]
  },
  {
   "cell_type": "code",
   "execution_count": null,
   "id": "0f3890fa",
   "metadata": {},
   "outputs": [],
   "source": [
    "blocklist = sorted(blocklist, key=lambda x: (x[0], x[1]))\n",
    "test_list = sorted(test_list, key=lambda x: (x[0], x[1]))\n",
    "blocklist[:4]"
   ]
  },
  {
   "cell_type": "markdown",
   "id": "49b74b5f",
   "metadata": {},
   "source": [
    "so trying a simple way where I go through each port pair until I find the first unblocked one:"
   ]
  },
  {
   "cell_type": "code",
   "execution_count": null,
   "id": "d83a676b",
   "metadata": {},
   "outputs": [],
   "source": [
    "def find_first_unblocked_port(blocklist=test_list):\n",
    "    low_num = blocklist[0][0]\n",
    "    max_num = blocklist[0][1]\n",
    "    \n",
    "    if low_num > 0:\n",
    "        return 0\n",
    "    \n",
    "    for lower, upper in blocklist[1:]:\n",
    "        if lower > max_num + 1:\n",
    "            print(f\"Found it! {max_num+1:,} is the first unblocked port.\")\n",
    "            return max_num + 1\n",
    "        elif upper > max_num:\n",
    "                max_num = upper \n",
    "    return False\n",
    "\n",
    "find_first_unblocked_port()"
   ]
  },
  {
   "cell_type": "code",
   "execution_count": null,
   "id": "fee1858f",
   "metadata": {},
   "outputs": [],
   "source": [
    "%time find_first_unblocked_port(blocklist)"
   ]
  },
  {
   "cell_type": "markdown",
   "id": "c97cf7c7",
   "metadata": {},
   "source": [
    "`23923783` is the answer to part 1"
   ]
  },
  {
   "cell_type": "markdown",
   "id": "603d612e",
   "metadata": {},
   "source": [
    "# --- Part Two ---\n",
    "\n",
    "**How many IPs are allowed by the blacklist?**\n",
    "\n",
    "Here, I'm just modifying the above func to go through the entire blocklist and count the unblocked ports:"
   ]
  }
 ],
 "metadata": {},
 "nbformat": 4,
 "nbformat_minor": 5
}
