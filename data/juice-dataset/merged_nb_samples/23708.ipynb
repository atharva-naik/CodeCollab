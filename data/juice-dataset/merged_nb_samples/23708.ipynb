{
 "cells": [
  {
   "cell_type": "markdown",
   "id": "488fb9f7",
   "metadata": {},
   "source": [
    "__(2v2) Unarmed dead case not featuring an attack nor a violent crime suspect__"
   ]
  },
  {
   "cell_type": "code",
   "execution_count": null,
   "id": "312bf50a",
   "metadata": {},
   "outputs": [],
   "source": [
    "df_whole[(df_whole[\"armed\"]==\"unarmed\") \n",
    "         & (df_whole[\"threat_level\"]==\"other\") \n",
    "         & (df_whole[\"suspect\"]==0)].shape[0]"
   ]
  },
  {
   "cell_type": "code",
   "execution_count": null,
   "id": "baf82e3a",
   "metadata": {},
   "outputs": [],
   "source": [
    "df_whole[(df_whole[\"armed\"]==\"unarmed\") \n",
    "         & (df_whole[\"threat_level\"]==\"other\")\n",
    "         & (df_whole[\"suspect\"]==0)].race.value_counts()"
   ]
  },
  {
   "cell_type": "code",
   "execution_count": null,
   "id": "c5ac0a2d",
   "metadata": {},
   "outputs": [],
   "source": [
    "df_whole[(df_whole[\"armed\"]==\"unarmed\") \n",
    "         & (df_whole[\"threat_level\"]==\"other\")\n",
    "         & (df_whole[\"suspect\"]==0)].race.value_counts(normalize=True)"
   ]
  },
  {
   "cell_type": "markdown",
   "id": "936cef1d",
   "metadata": {},
   "source": [
    "_Proportion with respect to whole race group in dataset_"
   ]
  },
  {
   "cell_type": "code",
   "execution_count": null,
   "id": "b34b384a",
   "metadata": {},
   "outputs": [],
   "source": [
    "(df_whole[(df_whole[\"armed\"]==\"unarmed\") \n",
    "         & (df_whole[\"threat_level\"]==\"other\")\n",
    "         & (df_whole[\"suspect\"]==0)].race.value_counts()\n",
    "/df_whole.race.fillna(value=\"?\").value_counts()).sort_values(ascending=False)"
   ]
  },
  {
   "cell_type": "markdown",
   "id": "c5cf4491",
   "metadata": {},
   "source": [
    "_Chi-Square test_"
   ]
  },
  {
   "cell_type": "code",
   "execution_count": null,
   "id": "1fa888e9",
   "metadata": {},
   "outputs": [],
   "source": [
    "f_obs_2v2 = [23, 24, 9]"
   ]
  },
  {
   "cell_type": "code",
   "execution_count": null,
   "id": "3776086b",
   "metadata": {},
   "outputs": [],
   "source": [
    "total_positives=df_wh_top_3_races[(df_wh_top_3_races[\"armed\"]==\"unarmed\") \n",
    "         & (df_wh_top_3_races[\"threat_level\"]==\"other\") \n",
    "         & (df_wh_top_3_races[\"suspect\"]==0)].shape[0]\n",
    "\n",
    "chisquare(f_obs_2v2, f_exp=([x * float(total_positives) for x in t3_group_proportions]))"
   ]
  },
  {
   "cell_type": "markdown",
   "id": "f0926b05",
   "metadata": {},
   "source": [
    "We can reject the null hypothesis."
   ]
  },
  {
   "cell_type": "markdown",
   "id": "e68b612a",
   "metadata": {},
   "source": [
    "__(3) Unarmed fleeing felon case__ "
   ]
  },
  {
   "cell_type": "code",
   "execution_count": null,
   "id": "ff4b0ef4",
   "metadata": {},
   "outputs": [],
   "source": [
    "df_whole[(df_whole[\"armed\"]==\"unarmed\") \n",
    "         & (df_whole[\"fleeing?\"]==\"YES\")].shape[0]"
   ]
  },
  {
   "cell_type": "code",
   "execution_count": null,
   "id": "d24bc08f",
   "metadata": {},
   "outputs": [],
   "source": [
    "df_whole[(df_whole[\"armed\"]==\"unarmed\") \n",
    "         & (df_whole[\"fleeing?\"]==\"YES\")].race.fillna(value=\"?\").value_counts()"
   ]
  },
  {
   "cell_type": "code",
   "execution_count": null,
   "id": "8af6189a",
   "metadata": {},
   "outputs": [],
   "source": [
    "df_whole[(df_whole[\"armed\"]==\"unarmed\") \n",
    "         & (df_whole[\"fleeing?\"]==\"YES\")].race.fillna(value=\"?\").value_counts(normalize=True)"
   ]
  },
  {
   "cell_type": "code",
   "execution_count": null,
   "id": "ca1366cb",
   "metadata": {},
   "outputs": [],
   "source": [
    "(df_whole[(df_whole[\"armed\"]==\"unarmed\") \n",
    "         & (df_whole[\"fleeing?\"]==\"YES\")].race.fillna(value=\"?\").value_counts()\n",
    "/df_whole.race.fillna(value=\"?\").value_counts()).sort_values(ascending=False)"
   ]
  },
  {
   "cell_type": "markdown",
   "id": "c2b1c949",
   "metadata": {},
   "source": [
    "__(3v2) Unarmed fleeing felon case not featuring an attack nor a violent crime suspect__"
   ]
  },
  {
   "cell_type": "code",
   "execution_count": null,
   "id": "e43c4282",
   "metadata": {},
   "outputs": [],
   "source": [
    "df_whole.race.fillna(value=\"?\").value_counts(normalize=True).plot.bar(rot=0)\n",
    "plt.show()"
   ]
  },
  {
   "cell_type": "markdown",
   "id": "553fcc0b",
   "metadata": {},
   "source": [
    "_For the subsequent Chi-Square tests_"
   ]
  },
  {
   "cell_type": "markdown",
   "id": "78fa0cb5",
   "metadata": {},
   "source": [
    "_1) Whole group_"
   ]
  },
  {
   "cell_type": "code",
   "execution_count": null,
   "id": "365dfda9",
   "metadata": {},
   "outputs": [],
   "source": [
    "overall_group_proportions = df_whole.race.fillna(value=\"?\").value_counts(normalize=True).tolist()\n",
    "group_proportions_2015 = df2015.race.fillna(value=\"?\").value_counts(normalize=True).tolist()\n",
    "\n",
    "print \"The values saved in the variable overall_group_proportions:\"\n",
    "print overall_group_proportions\n"
   ]
  },
  {
   "cell_type": "markdown",
   "id": "b462ac00",
   "metadata": {},
   "source": [
    "_2) Top 3 group_"
   ]
  },
  {
   "cell_type": "code",
   "execution_count": null,
   "id": "9df95d0b",
   "metadata": {},
   "outputs": [],
   "source": [
    "t3_group_proportions = df_wh_top_3_races.race.fillna(value=\"?\").value_counts(normalize=True).tolist()\n",
    "t2_group_proportions_2015 = df2015_t2.race.fillna(value=\"?\").value_counts(normalize=True).tolist()\n",
    "\n",
    "print \"The values saved in the variable t3_group_proportions:\"\n",
    "print t3_group_proportions"
   ]
  },
  {
   "cell_type": "markdown",
   "id": "eb577291",
   "metadata": {},
   "source": [
    "__(1) Officer was charged__ (only available for 2015 data)"
   ]
  },
  {
   "cell_type": "code",
   "execution_count": null,
   "id": "e26ca10c",
   "metadata": {},
   "outputs": [],
   "source": [
    "df2015[df2015.is_officer_charged].shape[0]"
   ]
  },
  {
   "cell_type": "code",
   "execution_count": null,
   "id": "c9ef00d4",
   "metadata": {},
   "outputs": [],
   "source": [
    "df2015[df2015.is_officer_charged].race.fillna(value=\"?\").value_counts(normalize=True)"
   ]
  },
  {
   "cell_type": "code",
   "execution_count": null,
   "id": "99f54e18",
   "metadata": {},
   "outputs": [],
   "source": [
    "(df2015[df2015.is_officer_charged].race.value_counts()\n",
    " /df2015.race.fillna(value=\"?\").value_counts()).sort_values(ascending=False)"
   ]
  },
  {
   "cell_type": "markdown",
   "id": "3c9c99c6",
   "metadata": {},
   "source": [
    "__(2) Unarmed__"
   ]
  },
  {
   "cell_type": "code",
   "execution_count": null,
   "id": "b5456251",
   "metadata": {},
   "outputs": [],
   "source": [
    "def weapon_groups(weapon):\n",
    "    if weapon in [\"guns and explosives\", \"gun and knife\", \"hatchet and gun\"]:\n",
    "        weapon=\"gun\"\n",
    "    elif weapon==\"motorcycle\":\n",
    "        weapon=\"vehicle\"\n",
    "    elif weapon==\"in vehicle with criminal\":    \n",
    "        weapon=\"unarmed\"\n",
    "    elif weapon in [\"baseball bat\", \"hammer\", \"Taser\", \"metal pipe\", \"screwdriver\", \"crossbow\", \"rock\", \"baton\", \"metal pole\", \"brick\"                               \n",
    ",\"flashlight\",\"carjack\",\"pole\",\"chain\",\"flagpole\",\"pipe\",\"hand torch\",\"metal object\",\"metal rake\",\"piece of wood\",\"bean-bag gun\"\n",
    ",\"contractor's level\",\"beer bottle\"]:\n",
    "        weapon=\"blunt object\"\n",
    "    elif weapon not in [\"gun\", \"knife\", \"unarmed\", \"vehicle\",\"toy weapon\", \"undetermined\", \"unknown weapon\"]:\n",
    "        weapon=\"other\"\n",
    "    return weapon\n",
    "\n",
    "df_clust_[\"weapon_groups\"]=df_clust_[\"armed\"].apply(weapon_groups)"
   ]
  },
  {
   "cell_type": "code",
   "execution_count": null,
   "id": "8478ef1c",
   "metadata": {},
   "outputs": [],
   "source": [
    "df_clust=df_clust_.drop([\"age\", \"full_state\",\"date_in_year\",\"armed\", \"description\", \"city\", \"name\", \"month\", \"day_of_month\", \"fleeing?\", \"suspect?\", \"race\"], axis=1)"
   ]
  },
  {
   "cell_type": "code",
   "execution_count": null,
   "id": "b53b9f51",
   "metadata": {},
   "outputs": [],
   "source": [
    "df_clust.head()"
   ]
  },
  {
   "cell_type": "markdown",
   "id": "d4bf7d28",
   "metadata": {},
   "source": [
    "__Forming linkage matrix__"
   ]
  },
  {
   "cell_type": "code",
   "execution_count": null,
   "id": "ea154e87",
   "metadata": {},
   "outputs": [],
   "source": [
    "from sklearn import metrics\n",
    "from scipy.spatial.distance import pdist, squareform\n",
    "from sklearn.preprocessing import LabelEncoder"
   ]
  },
  {
   "cell_type": "code",
   "execution_count": null,
   "id": "acc2959c",
   "metadata": {},
   "outputs": [],
   "source": [
    "from scipy.cluster.hierarchy import dendrogram, linkage, cophenet, fcluster"
   ]
  },
  {
   "cell_type": "code",
   "execution_count": null,
   "id": "1bb140a2",
   "metadata": {},
   "outputs": [],
   "source": [
    "#scipy pdist requires label-encoded X values\n",
    "X=df_clust.copy()\n",
    "le = LabelEncoder()\n",
    "for x in X.columns:\n",
    "    X[x]=le.fit_transform(X[x])"
   ]
  },
  {
   "cell_type": "code",
   "execution_count": null,
   "id": "189f5cbf",
   "metadata": {},
   "outputs": [],
   "source": [
    "#Basic Dissimilarity measure function, modeled on k-modes\n",
    "\n",
    "def diss(row1, row2):\n",
    "    diss=0\n",
    "    for i1,i2 in zip(row1, row2):\n",
    "        if i1!=i2:\n",
    "            diss+=1\n",
    "        else:\n",
    "            pass\n",
    "    return diss \n",
    "    \n",
    "my_metric = pdist(X, (lambda u,v: diss(u,v)))"
   ]
  },
  {
   "cell_type": "markdown",
   "id": "227cb7b5",
   "metadata": {},
   "source": [
    "---------------"
   ]
  },
  {
   "cell_type": "code",
   "execution_count": null,
   "id": "52fc5c3e",
   "metadata": {},
   "outputs": [],
   "source": [
    "Z = linkage(my_metric,'complete') \n",
    "#works with single linkage as well,\n",
    "#but not with 'average linkage'"
   ]
  },
  {
   "cell_type": "code",
   "execution_count": null,
   "id": "43135e43",
   "metadata": {},
   "outputs": [],
   "source": [
    "c, coph_dists = cophenet(Z, my_metric)\n",
    "c"
   ]
  },
  {
   "cell_type": "markdown",
   "id": "2c4f56de",
   "metadata": {},
   "source": [
    "__What clusters do we have?__\n",
    "\n",
    "Hierarchical clustering leaves the final choice of clusters to the researcher, so exploration is as per interest.\n",
    "At a relatively low level of dissimilarity (1, the maximum being 4), I identified 18 clusters with non-homogenous sizes. Their number is quite apprehensible, so they are worth looking into."
   ]
  },
  {
   "cell_type": "code",
   "execution_count": null,
   "id": "a6297a74",
   "metadata": {},
   "outputs": [],
   "source": [
    "float(df2015[(df2015[\"armed\"]==\"unarmed\")].shape[0])/float(df2015.shape[0])"
   ]
  },
  {
   "cell_type": "markdown",
   "id": "ef7e8fa7",
   "metadata": {},
   "source": [
    "2016"
   ]
  },
  {
   "cell_type": "code",
   "execution_count": null,
   "id": "5fe5a621",
   "metadata": {},
   "outputs": [],
   "source": [
    "float(df2016[(df2016[\"armed\"]==\"unarmed\")].shape[0])/float(df2016.shape[0])"
   ]
  },
  {
   "cell_type": "markdown",
   "id": "fca8f790",
   "metadata": {},
   "source": [
    "_Chi-Square Test_"
   ]
  },
  {
   "cell_type": "code",
   "execution_count": null,
   "id": "204d7b81",
   "metadata": {},
   "outputs": [],
   "source": [
    "chisquare([(137 * float(df2015[(df2015[\"armed\"]==\"unarmed\")].shape[0]) / float(df2015.shape[0])),\n",
    "           (137 * float(df2016[(df2016[\"armed\"]==\"unarmed\")].shape[0]) / float(df2016.shape[0]))])"
   ]
  },
  {
   "cell_type": "markdown",
   "id": "4cd42270",
   "metadata": {},
   "source": [
    "No significant difference."
   ]
  },
  {
   "cell_type": "markdown",
   "id": "6108e18a",
   "metadata": {},
   "source": [
    "2015"
   ]
  },
  {
   "cell_type": "code",
   "execution_count": null,
   "id": "4f1b2322",
   "metadata": {},
   "outputs": [],
   "source": [
    "float(df2015[(df2015[\"armed\"]==\"unarmed\") \n",
    "         & (df2015[\"threat_level\"]==\"other\") \n",
    "         & (df2015[\"suspect\"]==0)].shape[0])/float(df2015.shape[0])"
   ]
  },
  {
   "cell_type": "code",
   "execution_count": null,
   "id": "f6d635d8",
   "metadata": {},
   "outputs": [],
   "source": [
    "float(df2016[(df2016[\"armed\"]==\"unarmed\") \n",
    "         & (df2016[\"threat_level\"]==\"other\") \n",
    "         & (df2016[\"suspect\"]==0)].shape[0])/float(df2016.shape[0])"
   ]
  },
  {
   "cell_type": "markdown",
   "id": "9221d11d",
   "metadata": {},
   "source": [
    "### Race profile for these groups (basic descriptive enquiry)"
   ]
  },
  {
   "cell_type": "code",
   "execution_count": null,
   "id": "fa5e7643",
   "metadata": {},
   "outputs": [],
   "source": [
    "df_whole=pd.concat([df2015.drop([\"is_officer_charged\", \"description\"], axis=1), df2016], ignore_index=True)"
   ]
  },
  {
   "cell_type": "code",
   "execution_count": null,
   "id": "11ab948a",
   "metadata": {},
   "outputs": [],
   "source": [
    "df_wh_top_3_races=df_whole[(df_whole[\"race\"]==\"W\") \n",
    "         | (df_whole[\"race\"]==\"B\") \n",
    "         | (df_whole[\"race\"]==\"H\")]\n",
    "\n",
    "df2015_t2=df2015[(df2015[\"race\"]==\"W\") \n",
    "         | (df2015[\"race\"]==\"B\")]\n"
   ]
  },
  {
   "cell_type": "markdown",
   "id": "813e0f7a",
   "metadata": {},
   "source": [
    "- W: White\n",
    "- B: Black\n",
    "- H: Hispanic\n",
    "- A: Asian or Pacific Islander\n",
    "- N: Native American\n",
    "- O: Other"
   ]
  },
  {
   "cell_type": "markdown",
   "id": "2151c6b0",
   "metadata": {},
   "source": [
    "__(0) whole dataset__\n"
   ]
  },
  {
   "cell_type": "code",
   "execution_count": null,
   "id": "8c0a4ec0",
   "metadata": {},
   "outputs": [],
   "source": [
    "df_whole.race.fillna(value=\"?\").value_counts()"
   ]
  },
  {
   "cell_type": "markdown",
   "id": "c8bccdb6",
   "metadata": {},
   "source": [
    "_All races_"
   ]
  },
  {
   "cell_type": "code",
   "execution_count": null,
   "id": "4ea4a433",
   "metadata": {},
   "outputs": [],
   "source": [
    "df_whole[(df_whole[\"armed\"]==\"unarmed\")].shape[0]"
   ]
  },
  {
   "cell_type": "code",
   "execution_count": null,
   "id": "b715f5cc",
   "metadata": {},
   "outputs": [],
   "source": [
    "float(df_whole[(df_whole[\"armed\"]==\"unarmed\")].shape[0])/float(df_whole.shape[0])"
   ]
  },
  {
   "cell_type": "code",
   "execution_count": null,
   "id": "f7c052b5",
   "metadata": {},
   "outputs": [],
   "source": [
    "df_whole[(df_whole[\"armed\"]==\"unarmed\")].race.fillna(value=\"?\").value_counts()"
   ]
  },
  {
   "cell_type": "code",
   "execution_count": null,
   "id": "551e7566",
   "metadata": {},
   "outputs": [],
   "source": [
    "df_whole[(df_whole[\"armed\"]==\"unarmed\")].race.fillna(value=\"?\").value_counts(normalize=True)"
   ]
  },
  {
   "cell_type": "code",
   "execution_count": null,
   "id": "0bc3e5e2",
   "metadata": {},
   "outputs": [],
   "source": [
    "(df_whole[(df_whole[\"armed\"]==\"unarmed\")].race.fillna(value=\"?\").value_counts()\n",
    "/df_whole.race.fillna(value=\"?\").value_counts()).sort_values(ascending=False)"
   ]
  },
  {
   "cell_type": "code",
   "execution_count": null,
   "id": "1ba94dc1",
   "metadata": {},
   "outputs": [],
   "source": [
    "f_obs_2t3= [52, 55, 24] #frequencies of unarmed deceased by racial group"
   ]
  },
  {
   "cell_type": "code",
   "execution_count": null,
   "id": "44498918",
   "metadata": {},
   "outputs": [],
   "source": [
    "total_positives=df_wh_top_3_races[(df_wh_top_3_races[\"armed\"]==\"unarmed\")].shape[0]\n",
    "\n",
    "chisquare(f_obs_2t3,f_exp=([x * total_positives for x in t3_group_proportions]))"
   ]
  },
  {
   "cell_type": "markdown",
   "id": "ab9a09f4",
   "metadata": {},
   "source": [
    "2) By all but one of the proxies used, there are notable differences between races in the dataset as to the proportion of cases falling in my discriminant groups, and Black people stand before any single racial group when looking at the proportion of the whole group in the dataset. In other words: _\"for the Black people __that were killed__\"_ a greater proportion than other races were so in _circumstances for which justifiability would have needed investigation_, by my chosen proxies.\n",
    "However, only two cases had frequencies large enough for my statistical test (Chi-Square). For the \"unarmed cases\" group, we can reject the null hypothesis of no difference with p-value = 0.01 and for the \"unarmed cases not featuring an attacking person or a violent crime suspect\". "
   ]
  },
  {
   "cell_type": "markdown",
   "id": "82bab202",
   "metadata": {},
   "source": [
    "__Discussion__\n",
    "\n",
    "As a reminder, the implications regarding probability of justifiability that can be derived using these factors, as there are still a plethora of possible circumstances that would argue against racial disadvantage: so far, I have not separated. For example, some \"unarmed\" shot people were actually collateral victims because of being in cars with people who they were armed and had a confrontation with police. All these factors need be accounted for. \n",
    "\n",
    "The general limitations I encountered with my proxies lend weight to the argument that for reliable tools to investigate 'justifiability' of police killings and their interaction with other factors as racial profiles, information available to the public like news data is not enough, and therefore the American authorities (FBI), who only can explore ways of obtaining the needed information from the police agencies, are the ones with a role to play.\n",
    "\n",
    "I must stress that I am JUST reporting the p-value using the Chi-Square test of variable independence. That was the one statistical test I found for categorical data, but I have yet to research its theoretical weight. I have nevertheless, as stated, sticked by the advice that the frequencies have a particular minimum (equal to 5)).\n",
    "\n",
    "Looking forward, the proxies that could not be statistically assessed can be as we get data for more years. "
   ]
  },
  {
   "cell_type": "markdown",
   "id": "9376823a",
   "metadata": {},
   "source": [
    "### Hierarchical Clustering"
   ]
  },
  {
   "cell_type": "markdown",
   "id": "a0efcab2",
   "metadata": {},
   "source": [
    "I applied clustering techniques to the variables relative to behaviour of the people shot (\"flee\", \"weapon_groups\" and \"threat-level\"). The \"flee\" variable values is thus explained:\n",
    "\n",
    "- \"Not fleeing\" are cases that did not feature a chase at any point.\n",
    "- \"Car\" & \"Foot\" are cases where the shot person tried to flee from police at some point, either by car or by foot\n",
    "- \"Other\" are cases where the question is irrelevant or makes no sense.\n",
    "\n",
    "The \"threat-level\" variable values are thus explained:\n",
    "\n",
    "- the \"attack\" value corresponds to cases where the individuals had already 1) fired shots, 2) brandished a gun or 3) started an attack on a person with a weapon or their bare hands.\n",
    "- \"other\" groups all other cases (they mention at least two distinct groups within (one of whom includes people holding non-firearm weapons) in their story, but they do not provide this information in the data put at our disposition).\n",
    "- \"undetermined\" are cases where the Washington Post was unable to determine the circumstances of the shootings because of limited information or ongoing investigations\n",
    "\n",
    "Clustering techniques use distance to form clusters. For categorical data, alternatives are needed. After exploring different alternatives. I believe hierarchical clustering that will re-use the distance function presented in the paper should be a more effective way to appreciate similarity."
   ]
  },
  {
   "cell_type": "markdown",
   "id": "efa7a112",
   "metadata": {},
   "source": [
    "---"
   ]
  },
  {
   "cell_type": "markdown",
   "id": "ab3d3c97",
   "metadata": {},
   "source": [
    "__Data transformation__"
   ]
  },
  {
   "cell_type": "code",
   "execution_count": null,
   "id": "1e1096ec",
   "metadata": {},
   "outputs": [],
   "source": [
    "#I define groups here rather than modifying the data in the dataset to be able to revert if wanted"
   ]
  },
  {
   "cell_type": "code",
   "execution_count": null,
   "id": "969e1e4c",
   "metadata": {},
   "outputs": [],
   "source": [
    "df_clust_ = pd.concat([df2015.drop(\"is_officer_charged\", axis=1), df2016], ignore_index=True)"
   ]
  },
  {
   "cell_type": "code",
   "execution_count": null,
   "id": "9d5f3597",
   "metadata": {},
   "outputs": [],
   "source": [
    "max_dist = 1.0 #gives groups with 1 difference (so 2 variables in common)\n",
    "clusters = fcluster(Z, max_dist, criterion='distance') \n"
   ]
  },
  {
   "cell_type": "code",
   "execution_count": null,
   "id": "87cfc889",
   "metadata": {},
   "outputs": [],
   "source": [
    "df_hier_clust=df_clust.copy()\n",
    "df_hier_clust[\"clusters_max_dist_1\"]=clusters\n",
    "#then would get count for each of the clusters with value_counts() & inspect\n",
    "#clusters with a chosen minimum count of samples"
   ]
  },
  {
   "cell_type": "code",
   "execution_count": null,
   "id": "0bcb3bd7",
   "metadata": {},
   "outputs": [],
   "source": [
    "print \"we have {} clusters with a dissimilarity of 1 only.\".format(df_hier_clust[\"clusters_max_dist_1\"].nunique())"
   ]
  },
  {
   "cell_type": "markdown",
   "id": "90f3c202",
   "metadata": {},
   "source": [
    "I only retain clusters making a large proportion of the total dataset (keeping in mind that proportions in our dataset are of more insterest than they would have been for a mere sample). "
   ]
  },
  {
   "cell_type": "code",
   "execution_count": null,
   "id": "faa5f2a5",
   "metadata": {},
   "outputs": [],
   "source": [
    "df_whole[(df_whole[\"armed\"]==\"unarmed\") \n",
    "         & (df_whole[\"fleeing?\"]==\"YES\") \n",
    "         & (df_whole[\"threat_level\"]==\"other\") \n",
    "         & (df_whole[\"suspect?\"]==0)].shape[0]"
   ]
  },
  {
   "cell_type": "code",
   "execution_count": null,
   "id": "582e9693",
   "metadata": {},
   "outputs": [],
   "source": [
    "df_whole[(df_whole[\"armed\"]==\"unarmed\") \n",
    "         & (df_whole[\"fleeing?\"]==\"YES\") \n",
    "         & (df_whole[\"threat_level\"]==\"other\") \n",
    "         & (df_whole[\"suspect?\"]==0)].race.fillna(value=\"?\").value_counts()"
   ]
  },
  {
   "cell_type": "code",
   "execution_count": null,
   "id": "2b29fc03",
   "metadata": {},
   "outputs": [],
   "source": [
    "df_whole[(df_whole[\"armed\"]==\"unarmed\") \n",
    "         & (df_whole[\"fleeing?\"]==\"YES\") \n",
    "         & (df_whole[\"threat_level\"]==\"other\") \n",
    "         & (df_whole[\"suspect?\"]==0)].race.fillna(value=\"?\").value_counts(normalize=True)"
   ]
  },
  {
   "cell_type": "code",
   "execution_count": null,
   "id": "f4e7fb7d",
   "metadata": {},
   "outputs": [],
   "source": [
    "(df_whole[(df_whole[\"armed\"]==\"unarmed\") \n",
    "         & (df_whole[\"fleeing?\"]==\"YES\") \n",
    "         & (df_whole[\"threat_level\"]==\"other\") \n",
    "         & (df_whole[\"suspect?\"]==0)].race.fillna(value=\"?\").value_counts()\n",
    "/df_whole.race.fillna(value=\"?\").value_counts()).sort_values(ascending=False)"
   ]
  },
  {
   "cell_type": "markdown",
   "id": "0b944711",
   "metadata": {},
   "source": [
    "__EXTRA : (-1) dead who likely were perpetrating a violent crime__"
   ]
  }
 ],
 "metadata": {},
 "nbformat": 4,
 "nbformat_minor": 5
}
