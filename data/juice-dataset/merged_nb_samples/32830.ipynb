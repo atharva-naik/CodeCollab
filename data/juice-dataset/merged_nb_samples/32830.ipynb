{
 "cells": [
  {
   "cell_type": "markdown",
   "id": "a39754c2",
   "metadata": {},
   "source": [
    "# MAP583 - Data Camp\n",
    "# Course project\n",
    "# Credit Card Fraud Detection"
   ]
  },
  {
   "cell_type": "markdown",
   "id": "81a86c19",
   "metadata": {},
   "source": [
    "We have chosen this dataset from Kaggle (https://www.kaggle.com/mlg-ulb/creditcardfraud/data), containing credid card transactions data, and the objective is to predict the transactions which are frauds."
   ]
  },
  {
   "cell_type": "code",
   "execution_count": null,
   "id": "1c2e1b02",
   "metadata": {},
   "outputs": [],
   "source": [
    "import numpy as np\n",
    "import pandas as pd\n",
    "import matplotlib.pyplot as plt\n",
    "from matplotlib import style\n",
    "import seaborn as sns\n",
    "\n",
    "%matplotlib inline\n",
    "# %matplotlib notebook\n",
    "style.use('ggplot')"
   ]
  },
  {
   "cell_type": "markdown",
   "id": "43846013",
   "metadata": {},
   "source": [
    "## Loading dataset"
   ]
  },
  {
   "cell_type": "code",
   "execution_count": null,
   "id": "f6aad369",
   "metadata": {},
   "outputs": [],
   "source": [
    "data = pd.read_csv(\"../data/creditcard.csv\")\n",
    "data.head()"
   ]
  },
  {
   "cell_type": "code",
   "execution_count": null,
   "id": "bcf56010",
   "metadata": {},
   "outputs": [],
   "source": [
    "# Check if there is null data\n",
    "# data.isnull().sum()"
   ]
  },
  {
   "cell_type": "code",
   "execution_count": null,
   "id": "ac256c45",
   "metadata": {},
   "outputs": [],
   "source": [
    "# data.describe()"
   ]
  },
  {
   "cell_type": "markdown",
   "id": "94ae49c1",
   "metadata": {},
   "source": [
    "## Removing 'Time' column and normalizing (scaling) data"
   ]
  },
  {
   "cell_type": "code",
   "execution_count": null,
   "id": "24c890cb",
   "metadata": {},
   "outputs": [],
   "source": [
    "data.drop(['Time'], axis=1, inplace=True)"
   ]
  },
  {
   "cell_type": "code",
   "execution_count": null,
   "id": "8060c468",
   "metadata": {},
   "outputs": [],
   "source": [
    "labels = data['Class']"
   ]
  },
  {
   "cell_type": "markdown",
   "id": "1ed4b895",
   "metadata": {},
   "source": [
    "The following is necessary, because of the way the SVDD library is coded"
   ]
  },
  {
   "cell_type": "code",
   "execution_count": null,
   "id": "cd7fc4b1",
   "metadata": {},
   "outputs": [],
   "source": [
    "labels_svm = labels.copy()\n",
    "labels_svm[labels == 1] = -1 # fraud\n",
    "labels_svm[labels == 0] = 1 # non-fraud"
   ]
  },
  {
   "cell_type": "code",
   "execution_count": null,
   "id": "64439f61",
   "metadata": {},
   "outputs": [],
   "source": [
    "from sklearn.preprocessing import StandardScaler\n",
    "\n",
    "scaled_features = StandardScaler().fit_transform(data.values)\n",
    "scaled_data = pd.DataFrame(scaled_features,\n",
    "                           index=data.index,\n",
    "                           columns=data.columns)"
   ]
  },
  {
   "cell_type": "code",
   "execution_count": null,
   "id": "7a22b3bf",
   "metadata": {},
   "outputs": [],
   "source": [
    "scaled_data.drop(['Class'], axis=1, inplace=True)\n",
    "scaled_data.describe()"
   ]
  },
  {
   "cell_type": "markdown",
   "id": "b4da2906",
   "metadata": {},
   "source": [
    "## Check target class"
   ]
  },
  {
   "cell_type": "code",
   "execution_count": null,
   "id": "cc1e8104",
   "metadata": {},
   "outputs": [],
   "source": [
    "class_counts = labels_svm.value_counts()\n",
    "print(class_counts)\n",
    "\n",
    "# Plot a histogram\n",
    "class_counts.plot(kind='bar')\n",
    "plt.title(\"Fraud distribution\")\n",
    "plt.xlabel(\"Class\")\n",
    "plt.ylabel(\"Frequency (log)\")\n",
    "plt.yscale('log')"
   ]
  },
  {
   "cell_type": "code",
   "execution_count": null,
   "id": "41306db0",
   "metadata": {},
   "outputs": [],
   "source": [
    "print('Baseline: {:.3f}%'.format(len(labels_svm[labels_svm == 1]) / len(labels_svm) * 100))"
   ]
  },
  {
   "cell_type": "markdown",
   "id": "2b4b15e9",
   "metadata": {},
   "source": [
    "The baseline accuracy is therefore 99.827%, so any model which performs below this threshold isn't doing very well"
   ]
  },
  {
   "cell_type": "markdown",
   "id": "6ec1aa08",
   "metadata": {},
   "source": [
    "## Splitting data"
   ]
  },
  {
   "cell_type": "code",
   "execution_count": null,
   "id": "af44e0c6",
   "metadata": {},
   "outputs": [],
   "source": [
    "from sklearn.model_selection import train_test_split\n",
    "\n",
    "test_size = 0.2  # \"Pareto rule\", 80/20\n",
    "X_train, X_test, y_train, y_test = train_test_split(scaled_data,\n",
    "                                                    labels_svm,\n",
    "                                                    test_size=test_size)"
   ]
  },
  {
   "cell_type": "markdown",
   "id": "33970a83",
   "metadata": {},
   "source": [
    "## We will use only non-fraud points to train SVDD\n",
    "In the library we only have SVDD implemented. There is not an implementation of SVDD-neg (a version that incorporates negative examples also)."
   ]
  },
  {
   "cell_type": "markdown",
   "id": "6f975cab",
   "metadata": {},
   "source": [
    "LIBSVM:\n",
    "\n",
    "https://github.com/cjlin1/libsvm\n",
    "\n",
    "https://github.com/cjlin1/libsvm/tree/master/python # bindings em Python\n",
    "\n",
    "https://www.csie.ntu.edu.tw/~cjlin/libsvm/index.html\n",
    "\n",
    "https://www.csie.ntu.edu.tw/~cjlin/papers/libsvm.pdf # article\n",
    "\n",
    "https://www.csie.ntu.edu.tw/~cjlin/papers/guide/guide.pdf # guide\n",
    "\n",
    "SVDD:\n",
    "\n",
    "https://www.csie.ntu.edu.tw/~cjlin/libsvmtools/#libsvm_for_svdd_and_finding_the_smallest_sphere_containing_all_data\n",
    "\n",
    "One-class SVM:\n",
    "\n",
    "http://scikit-learn.org/stable/auto_examples/svm/plot_oneclass.html"
   ]
  },
  {
   "cell_type": "markdown",
   "id": "239d2b46",
   "metadata": {},
   "source": [
    "Outras pessoas tiveram a mesma pergunta, mas aparentemente ninguém tem o SVDD-neg implementado\n",
    "https://www.reddit.com/r/MachineLearning/comments/396o0n/experience_training_support_vector_data/"
   ]
  },
  {
   "cell_type": "markdown",
   "id": "b7334115",
   "metadata": {},
   "source": [
    "Biblioteca em MATLAB (tem a ver com o criador de SVDD)\n",
    "\n",
    "https://www.tudelft.nl/ewi/over-de-faculteit/afdelingen/intelligent-systems/pattern-recognition-bioinformatics/pattern-recognition-laboratory/data-and-software/dd-tools/"
   ]
  },
  {
   "cell_type": "code",
   "execution_count": null,
   "id": "8321898d",
   "metadata": {},
   "outputs": [],
   "source": [
    "non_fraud_X_train = X_train[y_train==1].values.tolist()\n",
    "non_fraud_y_train = y_train[y_train==1].values.tolist()"
   ]
  },
  {
   "cell_type": "code",
   "execution_count": null,
   "id": "6d878078",
   "metadata": {},
   "outputs": [],
   "source": [
    "from svm import *\n",
    "from svmutil import *"
   ]
  },
  {
   "cell_type": "code",
   "execution_count": null,
   "id": "03067e64",
   "metadata": {},
   "outputs": [],
   "source": [
    "problem = svm_problem(non_fraud_y_train,\n",
    "                      non_fraud_X_train,\n",
    "                      isKernel=False) # set to True if precomputed Kernel"
   ]
  },
  {
   "cell_type": "code",
   "execution_count": null,
   "id": "d503fbde",
   "metadata": {},
   "outputs": [],
   "source": [
    "# {'C': 6.325283529810813e-06, 'kernel': {'coef0': 1.9690049850021658, 'gamma': 0.9417836463715797, 'type': 3}}\n",
    "param = svm_parameter()\n",
    "param.svm_type = 5\n",
    "param.kernel_type = 3\n",
    "param.degree = 2\n",
    "param.gamma = 0.9417836463715797\n",
    "param.C = 6.325283529810813e-06\n",
    "param.coef0 = 1.9690049850021658\n",
    "param.eps = 0.001\n",
    "param.cross_validation = False\n",
    "param.nr_fold = 0\n",
    "model = svm_train(problem, param)"
   ]
  },
  {
   "cell_type": "code",
   "execution_count": null,
   "id": "9cf5ec93",
   "metadata": {},
   "outputs": [],
   "source": [
    "y_test = y_test.values.tolist()\n",
    "X_test = X_test.values.tolist()"
   ]
  },
  {
   "cell_type": "markdown",
   "id": "a2681431",
   "metadata": {},
   "source": [
    "As we don't use the negative labels in the training set, I am adding them to our test set (maybe this is wrong to do)"
   ]
  }
 ],
 "metadata": {},
 "nbformat": 4,
 "nbformat_minor": 5
}
