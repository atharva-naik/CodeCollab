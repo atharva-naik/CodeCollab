{
 "cells": [
  {
   "cell_type": "markdown",
   "id": "f9b5fc0c",
   "metadata": {},
   "source": [
    "# Gridded monthly air temperature"
   ]
  },
  {
   "cell_type": "markdown",
   "id": "468c4381",
   "metadata": {},
   "source": [
    "## Introduction\n",
    "\n",
    "SWB really should be supplied with accurate minimum and maximum air temperature data even though for application to Hawaii potential evapotranspiration is supplied from external estimates rather than being calculated from air temperatures by means of the Hargreaves-Samani relation. Although not important to the Maui test case, the peaks on the Big Island reach elevations where snow is possible. Supplying appropriate air temperature data to SWB will potentially allow SWB to approximate snowfall episodes.\n",
    "\n",
    "The air temperature data in the Maui test case come from the Evapotranspiration of Hawaii website and are products of Thomas Giambelluca's lab at the University of Hawaii at Manoa:\n",
    " \n",
    "http://evapotranspiration.geography.hawaii.edu/assets/files/ASCIIFiles/Tmax_month_ascii.rar\n",
    "http://evapotranspiration.geography.hawaii.edu/assets/files/ASCIIFiles/Tmin_month_ascii.rar\n",
    "\n",
    "\n",
    "## Preliminaries\n"
   ]
  },
  {
   "cell_type": "code",
   "execution_count": null,
   "id": "110a32b3",
   "metadata": {},
   "outputs": [],
   "source": [
    "import os\n",
    "import numpy as np\n",
    "import pandas as pd\n",
    "import gdal\n",
    "\n",
    "%run ../../COMMON/plot_and_table_functions.py\n",
    "\n",
    "# grid files\n",
    "tmin_grid_filename  = '../input/air_temperature_monthly/tminjan_250m_maui.asc'\n",
    "tmax_grid_filename  = '../input/air_temperature_monthly/tmaxjan_250m_maui.asc'"
   ]
  },
  {
   "cell_type": "markdown",
   "id": "da6bee6d",
   "metadata": {},
   "source": [
    "## Read grids"
   ]
  },
  {
   "cell_type": "code",
   "execution_count": null,
   "id": "1ebc689f",
   "metadata": {},
   "outputs": [],
   "source": [
    "# read in runoff zone grid\n",
    "tmin_data, tmin_gt, tmin_proj, tmin_xy  = read_raster( tmin_grid_filename )\n",
    "tmax_data, tmax_gt, tmax_proj, tmax_xy  = read_raster( tmax_grid_filename )"
   ]
  },
  {
   "cell_type": "markdown",
   "id": "7b2600aa",
   "metadata": {},
   "source": [
    "## Input datasets and grids"
   ]
  },
  {
   "cell_type": "markdown",
   "id": "eeb17b4a",
   "metadata": {},
   "source": [
    "### Example Minimum Air Temperature Grid"
   ]
  },
  {
   "cell_type": "code",
   "execution_count": null,
   "id": "9a11fcf7",
   "metadata": {},
   "outputs": [],
   "source": [
    "make_plot( x=tmin_xy[0], y=tmin_xy[1], var=tmin_data * 1.8 + 32., discrete=False, title='Mean Minimum Air Temperature for January',\n",
    "           barlabel='Air Temperature, in degrees Fahrenheit', minz=20., maxz=80. )"
   ]
  },
  {
   "cell_type": "markdown",
   "id": "785ea3c3",
   "metadata": {},
   "source": [
    "## Example Maximum Air Temperture Grid"
   ]
  }
 ],
 "metadata": {},
 "nbformat": 4,
 "nbformat_minor": 5
}
