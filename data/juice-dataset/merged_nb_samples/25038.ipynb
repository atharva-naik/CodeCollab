{
 "cells": [
  {
   "cell_type": "markdown",
   "id": "bdc75aec",
   "metadata": {},
   "source": [
    "# Accelerate Signal Processing: FFT Convolution"
   ]
  },
  {
   "cell_type": "markdown",
   "id": "d95320cb",
   "metadata": {},
   "source": [
    "In this lesson, we demonstrate the use of **hardware optimized FFT** functions from *Accelerate* to **speedup convolution** for image processing.\n",
    "\n",
    "* We can use the `vectorize` decorator for higher-level annotation of numeric functions and get a great deal of GPU benefit.  \n",
    "* However, we also have the option of more explicitly controlling CUDA operations, as shown in this notebook."
   ]
  },
  {
   "cell_type": "markdown",
   "id": "2d6e93b9",
   "metadata": {},
   "source": [
    "## Table of Contents\n",
    "* [Accelerate Signal Processing: FFT Convolution](#Accelerate-Signal-Processing:-FFT-Convolution)\n",
    "\t* [Overview](#Overview)\n",
    "\t* [Set-up](#Set-up)\n",
    "\t* [Prepare data](#Prepare-data)\n",
    "* [Comparing implementations of a Convolution](#Comparing-implementations-of-a-Convolution)\n",
    "\t* [Numpy naive implementation](#Numpy-naive-implementation)\n",
    "\t* [Scipy Implementation](#Scipy-Implementation)\n",
    "\t* [Accelerate Implementation with MKL](#Accelerate-Implementation-with-MKL)\n",
    "\t* [Accelerate Implementation with GPU](#Accelerate-Implementation-with-GPU)\n",
    "\t* [Comparing all Implementations](#Comparing-all-Implementations)\n",
    "\t* [Using VML to intrinsics](#Using-VML-to-intrinsics)\n",
    "\t* [Script for convolution filter](#Script-for-convolution-filter)\n"
   ]
  },
  {
   "cell_type": "markdown",
   "id": "807e2fdf",
   "metadata": {},
   "source": [
    "## Set-up"
   ]
  },
  {
   "cell_type": "code",
   "execution_count": null,
   "id": "ef152504",
   "metadata": {},
   "outputs": [],
   "source": [
    "import sys\n",
    "\n",
    "import numpy as np\n",
    "from scipy.signal import fftconvolve\n",
    "from scipy.misc import imresize\n",
    "import skimage.data\n",
    "from skimage.color import rgb2gray\n",
    "from matplotlib import pyplot as plt\n",
    "\n",
    "from numba import cuda, vectorize\n",
    "from timeit import default_timer as timer\n",
    "\n",
    "%matplotlib inline"
   ]
  },
  {
   "cell_type": "markdown",
   "id": "f0cfcf88",
   "metadata": {},
   "source": [
    "## Prepare data"
   ]
  },
  {
   "cell_type": "code",
   "execution_count": null,
   "id": "b592b999",
   "metadata": {},
   "outputs": [],
   "source": [
    "# Build 5x5 laplacian filter\n",
    "laplacian_pts = '''\n",
    "-4 -1 0 -1 -4\n",
    "-1  2 3  2 -1\n",
    " 0  3 4  3  0\n",
    "-1  2 3  2 -1\n",
    "-4 -1 0 -1 -4\n",
    "'''.split()\n",
    "\n",
    "laplacian = np.array(laplacian_pts, dtype=np.float32).reshape(5, 5)\n",
    "\n",
    "# Build Image\n",
    "image = rgb2gray(skimage.data.astronaut())\n",
    "image = imresize(image, 2.0).astype(np.float32)\n",
    "\n",
    "print(\"Image size: %s\" % (image.shape,))\n",
    "\n",
    "response = np.zeros_like(image)\n",
    "response[:5, :5] = laplacian\n",
    "\n",
    "plt.figure(figsize=(8,8))\n",
    "plt.imshow(image, cmap=plt.cm.gray)"
   ]
  },
  {
   "cell_type": "code",
   "execution_count": null,
   "id": "4d729cbd",
   "metadata": {},
   "outputs": [],
   "source": [
    "plt.figure(figsize=(8,8))\n",
    "plt.imshow(response[:5, :5], cmap=plt.cm.gray)"
   ]
  },
  {
   "cell_type": "code",
   "execution_count": null,
   "id": "968992fa",
   "metadata": {},
   "outputs": [],
   "source": [
    "response"
   ]
  },
  {
   "cell_type": "markdown",
   "id": "66c88e3f",
   "metadata": {},
   "source": [
    "# Comparing implementations of a Convolution"
   ]
  },
  {
   "cell_type": "markdown",
   "id": "5c63cedc",
   "metadata": {},
   "source": [
    "Herein, we'll demonstrate 4 different implementations and then profile and compare each."
   ]
  },
  {
   "cell_type": "markdown",
   "id": "73a023f5",
   "metadata": {},
   "source": [
    "## Numpy naive implementation"
   ]
  },
  {
   "cell_type": "code",
   "execution_count": null,
   "id": "3c60a22f",
   "metadata": {},
   "outputs": [],
   "source": [
    "def naive_fftconvolve(image):\n",
    "    freq_image = np.fft.rfft2(image)\n",
    "    freq_response = np.fft.rfft2(response)\n",
    "    return np.fft.irfft2(freq_image * freq_response).real\n",
    "\n",
    "cvimage_naive = naive_fftconvolve(image)\n",
    "\n",
    "plt.figure(figsize=(8,8))\n",
    "plt.imshow(cvimage_naive, cmap=plt.cm.gray);"
   ]
  },
  {
   "cell_type": "markdown",
   "id": "b8e0dd1b",
   "metadata": {},
   "source": [
    "## Scipy Implementation"
   ]
  },
  {
   "cell_type": "markdown",
   "id": "64535e48",
   "metadata": {},
   "source": [
    "Using scipy.signal.fftconvolve"
   ]
  },
  {
   "cell_type": "code",
   "execution_count": null,
   "id": "c7a68fb7",
   "metadata": {},
   "outputs": [],
   "source": [
    "cvimage_cpu = fftconvolve(image, laplacian, mode='same')\n",
    "\n",
    "plt.figure(figsize=(8,8))\n",
    "plt.imshow(cvimage_cpu, cmap=plt.cm.gray);"
   ]
  },
  {
   "cell_type": "markdown",
   "id": "e0efd7bc",
   "metadata": {},
   "source": [
    "## Accelerate Implementation with MKL"
   ]
  },
  {
   "cell_type": "code",
   "execution_count": null,
   "id": "dee3fbfe",
   "metadata": {},
   "outputs": [],
   "source": [
    "import accelerate.mkl.fftpack as mklfft\n",
    "\n",
    "def mkl_fftconvolve(image):\n",
    "    freq_image = mklfft.rfft2(image)\n",
    "    freq_response = mklfft.rfft2(response)\n",
    "    return mklfft.irfft2(freq_image * freq_response).real\n",
    "\n",
    "cvimage_mkl = mkl_fftconvolve(image)\n",
    "\n",
    "plt.figure(figsize=(8,8))\n",
    "plt.imshow(cvimage_mkl, cmap=plt.cm.gray);"
   ]
  },
  {
   "cell_type": "markdown",
   "id": "67765552",
   "metadata": {},
   "source": [
    "## Accelerate Implementation with GPU\n"
   ]
  },
  {
   "cell_type": "code",
   "execution_count": null,
   "id": "bf16a62e",
   "metadata": {},
   "outputs": [],
   "source": [
    "import accelerate.cuda.fft as cufft\n",
    "\n",
    "@vectorize(['complex64(complex64, complex64)'], target='cuda')\n",
    "def gpu_mult(a, b):\n",
    "    # a GPU ufunc to compute the elementwise product \n",
    "    return a * b\n",
    "\n",
    "\n",
    "def gpu_fftconvolve(image):\n",
    "    image_complex = image.astype(np.complex64)\n",
    "    response_complex = response.astype(np.complex64)\n",
    "\n",
    "    # explicit CPU->GPU memory transfer\n",
    "    d_image_complex = cuda.to_device(image_complex)\n",
    "    d_response_complex = cuda.to_device(response_complex)\n",
    "\n",
    "    # GPU forward FFT\n",
    "    cufft.fft_inplace(d_image_complex)\n",
    "    cufft.fft_inplace(d_response_complex)\n",
    "\n",
    "    # GPU ufunc\n",
    "    gpu_mult(d_image_complex, d_response_complex, out=d_image_complex)\n",
    "\n",
    "    # GPU inverse FFT\n",
    "    cufft.ifft_inplace(d_image_complex)\n",
    "\n",
    "    # explicit GPU->CPU memory transfer\n",
    "    cvimage_gpu = d_image_complex.copy_to_host().real\n",
    "    return cvimage_gpu"
   ]
  },
  {
   "cell_type": "markdown",
   "id": "b255512a",
   "metadata": {},
   "source": [
    "Note: the `gpu_mult` gpu ufunc is necessary to keep the memory "
   ]
  },
  {
   "cell_type": "code",
   "execution_count": null,
   "id": "b4217f05",
   "metadata": {},
   "outputs": [],
   "source": [
    "cvimage_gpu = gpu_fftconvolve(image)\n",
    "\n",
    "plt.figure(figsize=(8,8))\n",
    "plt.imshow(cvimage_gpu, cmap=plt.cm.gray);"
   ]
  },
  {
   "cell_type": "markdown",
   "id": "bf62a9e9",
   "metadata": {},
   "source": [
    "## Timing all Implementations"
   ]
  },
  {
   "cell_type": "code",
   "execution_count": null,
   "id": "a7e1cc2a",
   "metadata": {},
   "outputs": [],
   "source": [
    "print('scipy')\n",
    "%timeit fftconvolve(image, laplacian, mode='same')\n",
    "print('\\nnaive')\n",
    "%timeit naive_fftconvolve(image)\n",
    "print('\\nmkl')\n",
    "%timeit mkl_fftconvolve(image)\n",
    "print('\\ngpu')\n",
    "%timeit gpu_fftconvolve(image)"
   ]
  },
  {
   "cell_type": "markdown",
   "id": "9a9351e6",
   "metadata": {},
   "source": [
    "## Using VML to intrinsics"
   ]
  },
  {
   "cell_type": "markdown",
   "id": "307e7e46",
   "metadata": {},
   "source": [
    "Intel's Vector Math Library (VML)"
   ]
  },
  {
   "cell_type": "markdown",
   "id": "ecfa2b3e",
   "metadata": {},
   "source": [
    "The VML math functions leverages SIMD instructions for higher throughput.  Use vml ufuncs inplace of numpy ufuncs for simple performance gain when lower precision result is acceptable.\n",
    "\n",
    "See https://docs.continuum.io/accelerate/mkl_ufuncs for a full list of supported functions."
   ]
  }
 ],
 "metadata": {},
 "nbformat": 4,
 "nbformat_minor": 5
}
