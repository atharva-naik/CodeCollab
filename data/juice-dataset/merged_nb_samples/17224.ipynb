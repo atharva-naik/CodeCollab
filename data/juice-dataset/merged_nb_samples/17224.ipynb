{
 "cells": [
  {
   "cell_type": "markdown",
   "id": "a576fff4",
   "metadata": {},
   "source": [
    "# Presentation\n",
    "\n",
    "In this workbook we gonna implement a Genetic Algorithm to find a good solution (can be different to the optimal one) to the <a href=\"https://en.wikipedia.org/wiki/Travelling_salesman_problem\" taraget=\"_blank\">Traveling Salesman Problem</a>.\n",
    "\n",
    "This problem is well known as it is a part of the NP-Complet Problem in in combinatorial optimization and theoretical computer science.\n",
    "\n",
    "The principle is simple : <br/>\n",
    "<i>Given a list of cities and the distances between each pair of cities, what is the shortest possible route that visits each city exactly once?</i>\n",
    "\n",
    "To do so, we can think about creating all combinations on path, calculate every distances and keep the shortest one. The issue with this solution is the combinatory explosion. For example, if you consider only 70 cities, you have :\n",
    "\n",
    "$$\\begin{eqnarray}\n",
    "Nb_{path} &=& Nb_{cities}! => 1.19 * 10^{100} \\text{ with 70 cities}\n",
    "\\end{eqnarray}$$\n",
    "\n",
    "If we consider a computer able to run 1 000 000 paths par seconds, you will need 3.8 * 10^86 years ... Impossible\n",
    "\n",
    "One good solution in such cases is to go for Genetic Algorithms\n",
    "\n",
    "To know more how it works you can take a look to <a href=\"https://en.wikipedia.org/wiki/Genetic_algorithm\" target=\"_blank\">this webpage</a>.\n",
    "\n",
    "Now let's code it ! (For information, a version with an OpenGL visualization is available on <a href=\"https://github.com/Coni63/scripts_Python/blob/master/Python_Scripts/Algo%20genetique/2eme%20-%20TS%20Problem/script_opengl_cleaner.py\" target=\"_blank\">my github</a>)"
   ]
  },
  {
   "cell_type": "code",
   "execution_count": null,
   "id": "50ac5982",
   "metadata": {},
   "outputs": [],
   "source": [
    "import random\n",
    "import math\n",
    "import matplotlib.pyplot as plt\n",
    "\n",
    "%matplotlib inline"
   ]
  },
  {
   "cell_type": "markdown",
   "id": "e25343ba",
   "metadata": {},
   "source": [
    "For this problem, we can considere a mutation as the swap of 2 points. We cannot exchange only a point by another one as all points must be only once in the path.\n",
    "Also for the crossover, usually we should keep the beginning of one element of the population and finish with the end of another one. The invert is done on the other element. Unfortunately, this cannot be done as simply in this example for the same reason (we cannot go twice in the same city or no go in one). So for this we only cut the fist element and fill the end with non visited cities in the order of the second list. for e.g. :\n",
    "\n",
    "A = [2, 4, 5, 3, 1] <br/>\n",
    "B = [1, 5, 4, 3, 2] <br/>\n",
    "if we cut A at position 3, we have :\n",
    "\n",
    "A = [2, 4, 5] + [1, 3] as 1 is before 3 in B and both are not in A[:3]\n",
    "\n"
   ]
  },
  {
   "cell_type": "code",
   "execution_count": null,
   "id": "80c1db2d",
   "metadata": {},
   "outputs": [],
   "source": [
    "class Individu:\n",
    "    def __init__(self, P):\n",
    "        self.path = P\n",
    "        self.score = 0\n",
    "        self.set_score()\n",
    "\n",
    "    def set_score(self):\n",
    "        for i in range(len(self.path) - 1):\n",
    "            self.score += math.pow(self.path[i+1][0] - self.path[i][0], 2) + \\\n",
    "                          math.pow(self.path[i+1][1] - self.path[i][1], 2)\n",
    "\n",
    "    def __repr__(self):\n",
    "        return \"{} - {}\".format(self.path, self.fitness)\n",
    "\n",
    "    def mutate(self):\n",
    "        a = random.randrange(len(self.path))\n",
    "        b = random.randrange(len(self.path))\n",
    "        new_path = self.path[:]\n",
    "        new_path[a], new_path[b] = new_path[b], new_path[a]\n",
    "        return [Individu(new_path)]\n",
    "\n",
    "    def cross_over(self, other):\n",
    "        a = random.randrange(len(self.path))\n",
    "        b = random.randrange(len(self.path))\n",
    "        if a != b :\n",
    "            start = min(a, b)\n",
    "            end = max(a, b)\n",
    "        else:\n",
    "            start = 0\n",
    "            end = len(self.path) // 2\n",
    "\n",
    "        new1 = self.path[start:end]\n",
    "        new2 = self.path[:start] + self.path[end:]\n",
    "        for each in other.path:\n",
    "            if each not in new1:\n",
    "                new1 += [each]\n",
    "        for each in self.path:\n",
    "            if each not in new2:\n",
    "                new2 += [each]\n",
    "\n",
    "        return [Individu(new1), Individu(new2)]"
   ]
  },
  {
   "cell_type": "markdown",
   "id": "94992e69",
   "metadata": {},
   "source": [
    "Now we can setup our problem"
   ]
  },
  {
   "cell_type": "code",
   "execution_count": null,
   "id": "2c0488ad",
   "metadata": {},
   "outputs": [],
   "source": [
    "nb_cities = 35\n",
    "best_every_gen = []\n",
    "w, h = 1000, 1000 #space for cities\n",
    "\n",
    "#define genetic parameter\n",
    "mutation_ratio = 5e-1\n",
    "cross_ratio = 0.7\n",
    "population = 100\n",
    "population_list = []"
   ]
  },
  {
   "cell_type": "markdown",
   "id": "ae0864de",
   "metadata": {},
   "source": [
    "setup the list of cities and the population"
   ]
  },
  {
   "cell_type": "code",
   "execution_count": null,
   "id": "d0737384",
   "metadata": {},
   "outputs": [],
   "source": [
    "cities = [( random.randrange(w), random.randrange(h) ) for _ in range(nb_cities)]"
   ]
  },
  {
   "cell_type": "code",
   "execution_count": null,
   "id": "5f08f674",
   "metadata": {},
   "outputs": [],
   "source": [
    "for i in range(population):\n",
    "    random.shuffle(cities)\n",
    "    population_list.append(Individu(cities[:]))"
   ]
  },
  {
   "cell_type": "markdown",
   "id": "fd9f408a",
   "metadata": {},
   "source": [
    "And we can now run the main script. For this example we just gonna stop the while loop if we reach 1000 generations or 100 time that the script find a better path. This is beacuse this script can run forever. If there is improvement we gonna store the generation, the distance for later visulization. We algo gonna store the best solution."
   ]
  },
  {
   "cell_type": "code",
   "execution_count": null,
   "id": "037da4b4",
   "metadata": {},
   "outputs": [],
   "source": [
    "improvement = 0\n",
    "previous_best = 1e20\n",
    "max_generation = 1000\n",
    "current_generation = 0\n",
    "\n",
    "while current_generation < max_generation and improvement < 100:\n",
    "    # ranking\n",
    "    population_list.sort(key = lambda x : x.score)\n",
    "    \n",
    "    # Selection\n",
    "    to_delete = population_list[population//2:]\n",
    "    population_list = population_list[:population//2]\n",
    "\n",
    "    # Delete all instances not kept to free memory\n",
    "    for each in to_delete:\n",
    "        del each\n",
    "    \n",
    "    # For each remaining elements, we do crossover\n",
    "    new_indiv = []\n",
    "    for elem in population_list:\n",
    "        if random.random() < cross_ratio and len(new_indiv) < population//2:\n",
    "            elem2 = random.choice(population_list)\n",
    "            while elem == elem2:\n",
    "                elem = random.choice(population_list)\n",
    "            new_indiv += elem.cross_over(elem2)\n",
    "\n",
    "    # and mutation\n",
    "    for each in population_list:\n",
    "        if random.random() <= mutation_ratio:\n",
    "            new_indiv += each.mutate()\n",
    "\n",
    "    population_list.extend(new_indiv)\n",
    "    \n",
    "    best_this_generation = population_list[0].score\n",
    "    if best_this_generation < previous_best:\n",
    "        previous_best = best_this_generation\n",
    "        improvement += 1\n",
    "        best_every_gen.append((current_generation, best_this_generation))\n",
    "        print(current_generation, best_this_generation)\n",
    "        final_elem = population_list[0]\n",
    "    \n",
    "    current_generation += 1        "
   ]
  },
  {
   "cell_type": "markdown",
   "id": "1a933f9b",
   "metadata": {},
   "source": [
    "We can now check distances related to generations by unzipping values from best_every_gen"
   ]
  },
  {
   "cell_type": "code",
   "execution_count": null,
   "id": "08fadbac",
   "metadata": {},
   "outputs": [],
   "source": [
    "X, Y = zip(*best_every_gen)\n",
    "print(X, \"\\n\\n\", Y)"
   ]
  },
  {
   "cell_type": "code",
   "execution_count": null,
   "id": "19ddb912",
   "metadata": {},
   "outputs": [],
   "source": [
    "plt.plot(X, Y)\n",
    "plt.xlabel('Generation')\n",
    "plt.ylabel('Distance')\n",
    "plt.show()"
   ]
  },
  {
   "cell_type": "markdown",
   "id": "d196fdd5",
   "metadata": {},
   "source": [
    "We can see that we divided by around 8 the traveling distances in around 200 generations. Originally we generate 100 samples for the population, then we generated around 50 new samples per generation with crossover and mutation. So we succeed to find a stable minimum with only 10 100 samples instead of 35! (= 10^40). As this path remains stable for around 200 other generation, that means that this distance is a minimum (maybe only locale) stable. If, now we look at the steps at the beginning, it's not really stable as we can find a clearly better path few generations after. The main advantage of this solution is that we can quickly get a good result but you cannot be sure that this is the best one ..."
   ]
  },
  {
   "cell_type": "markdown",
   "id": "39a4c5df",
   "metadata": {},
   "source": [
    "As we stored the best element, we can also display his path between every cities."
   ]
  }
 ],
 "metadata": {},
 "nbformat": 4,
 "nbformat_minor": 5
}
