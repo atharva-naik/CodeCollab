{
 "cells": [
  {
   "cell_type": "markdown",
   "id": "d2482f91",
   "metadata": {},
   "source": [
    "# 1. Introduction"
   ]
  },
  {
   "cell_type": "markdown",
   "id": "2ea0893e",
   "metadata": {},
   "source": [
    "**Problem statement** <br>\n",
    "Using the UCI PIMA Indian Diabetes dataset to predict a person has diabetes or not using the medical attributes provided.\n",
    "\n",
    "** Assumptions **\n",
    "1. This is enough data to split and reliably predict if the patient has diabetes, the dataset has only 786 data points\n",
    "2. Just these attributes are enough to diagnose the ailment\n",
    "\n",
    "** Similar Problems ** <br> \n",
    "This is very much like some common 2 class classification problems like classifying mail into spam and ham based on the contents of the email. Obviously the attributes there would be strings and not numbers like this dataset, therefore the way in which we process at least some of the features will be different.\n",
    "\n",
    "** Why am I solving this problem and what do I want the next steps to be? **\n",
    "1. I am a beginner at data science & ML, I want to use this problem to learn more about 2 class classification algorithms and how they work\n",
    "2. I hope to use this as a way to get a better understanding of the various 2 class classification algorithms\n",
    "3. ***Most Importantly*** I want to get some valuable feedback on how I have tried to solve the problem and how it can be improved\n",
    "\n",
    "So lets get started...\n"
   ]
  },
  {
   "cell_type": "code",
   "execution_count": null,
   "id": "1130cc36",
   "metadata": {},
   "outputs": [],
   "source": [
    "# Importing required libraries to get started\n",
    "import pandas as pd\n",
    "import numpy as np\n",
    "import matplotlib.pyplot as plt\n",
    "import seaborn as sns\n",
    "sns.set_style(\"whitegrid\")\n",
    "\n",
    "%matplotlib inline"
   ]
  },
  {
   "cell_type": "markdown",
   "id": "1d936803",
   "metadata": {},
   "source": [
    "# 2. Data Exploration"
   ]
  },
  {
   "cell_type": "markdown",
   "id": "5eaec8b7",
   "metadata": {},
   "source": [
    "Lets pull in the data and see what's in it, Here is what we already know about this data <br>\n",
    "\n",
    "## 2.1 Data Overview\n",
    "\n",
    "<br>\n",
    "** Columns **\n",
    "1. pregnancies - Number of times pregnant \n",
    "2. Glucose - Plasma glucose concentration a 2 hours in an oral glucose tolerance test \n",
    "3. BloodPressure - Diastolic blood pressure (mm Hg) \n",
    "4. SkinThickness - Triceps skin fold thickness (mm) \n",
    "5. Insulin - 2-Hour serum insulin (mu U/ml) \n",
    "6. BMI - Body mass index (weight in kg/(height in m)^2) \n",
    "7. DiabetesPedigreeFunction - Diabetes pedigree function \n",
    "8. Age - Age (years) \n",
    "9. Outcome - Class variable (0 or 1) class value 1 is interpreted as \"tested positive for\n",
    "   diabetes\n",
    "   \n",
    "**Class distribution:** <br>\n",
    "0 : 500 <br>\n",
    "1 :  268 <br>\n",
    "\n",
    "**Data characteristics:**\n",
    "* The database contains only data about **female** patients who are of **Pima Indian heritage** are **21 or older**\n",
    "* All the attributes are numeric\n",
    "* The data may contain invalid or null values\n",
    "* Total number of cases presented are 786"
   ]
  },
  {
   "cell_type": "code",
   "execution_count": null,
   "id": "65f5251b",
   "metadata": {},
   "outputs": [],
   "source": [
    "data = pd.read_csv('diabetes.csv')\n",
    "data.head()"
   ]
  },
  {
   "cell_type": "code",
   "execution_count": null,
   "id": "3f619a65",
   "metadata": {},
   "outputs": [],
   "source": [
    "data.describe()"
   ]
  },
  {
   "cell_type": "code",
   "execution_count": null,
   "id": "dec0e9e7",
   "metadata": {},
   "outputs": [],
   "source": [
    "sns.set(style='ticks')\n",
    "plt.figure(figsize=(20,20))\n",
    "sns.pairplot(data, hue='Outcome')"
   ]
  },
  {
   "cell_type": "markdown",
   "id": "3f945d2e",
   "metadata": {},
   "source": [
    "## 2.2 Invalid data\n",
    "Based on the description above, Plasma glucose levels, blood pressure, skin thickness, insulin and BMI all have min values at 0 which does not pass my smoke test, especially blood pressure, since the diastolic blood pressure most likely cannot be 0 for a living person, I think..."
   ]
  },
  {
   "cell_type": "markdown",
   "id": "294a5a85",
   "metadata": {},
   "source": [
    "1. Blood Pressure: <br>\n",
    "Based on the information provided for [blood pressure in adults on wikipedia](https://en.wikipedia.org/wiki/Blood_pressure#Classification), any diastolic blood pressure under 60 is considered hypotension which needs to be treated immideately as it indicates not enough blood is reaching the person's organs, the person is considered to be in \"shock\". Browsing more on this subject there are cases where the diastolic bp is read even lower while not exhibiting signs of hypotension but that's mostly rare. the distolic blood pressure can be low in case the person is sleeping too.\n",
    "**Assuming** these are normal healthy women who are currently not suffering from hypotension or are in the ER currently being treated for hypotension and they are awake at the time of the data collection, the 0 values are clearly invalid. Lets find out how many cases we have of this"
   ]
  },
  {
   "cell_type": "code",
   "execution_count": null,
   "id": "db01b83c",
   "metadata": {},
   "outputs": [],
   "source": [
    "print(data[data.BloodPressure == 0].shape[0])\n",
    "print(data[data.BloodPressure == 0].index.tolist())\n",
    "print(data[data.BloodPressure == 0].groupby('Outcome')['Age'].count())"
   ]
  },
  {
   "cell_type": "markdown",
   "id": "3e1c07e8",
   "metadata": {},
   "source": [
    "2.Plasma glucose levels: <br>\n",
    "the range is normally 3.9 to 7.2 for non-diabetic patients even after fasting [[Source]](https://en.wikipedia.org/wiki/Blood_sugar_level). Given this, the 0s here are not valid either. Number of cases of this:"
   ]
  },
  {
   "cell_type": "code",
   "execution_count": null,
   "id": "545650ac",
   "metadata": {},
   "outputs": [],
   "source": [
    "print(data[data.Glucose == 0].shape[0])\n",
    "print(data[data.Glucose == 0].index.tolist())\n",
    "print(data[data.Glucose == 0].groupby('Outcome')['Age'].count())"
   ]
  },
  {
   "cell_type": "markdown",
   "id": "f7bfc5bf",
   "metadata": {},
   "source": [
    "3.Skin Fold Thickness: <br>\n",
    "    for normal healthy adults the skin fold thinkness is not less than 10mm even for girls [[source]](https://www.ncbi.nlm.nih.gov/pmc/articles/PMC5083983/)"
   ]
  },
  {
   "cell_type": "code",
   "execution_count": null,
   "id": "bbc44bac",
   "metadata": {},
   "outputs": [],
   "source": [
    "print(data[data.SkinThickness == 0].shape[0])\n",
    "print(data[data.SkinThickness == 0].index.tolist())\n",
    "print(data[data.SkinThickness == 0].groupby('Outcome')['Age'].count())"
   ]
  },
  {
   "cell_type": "markdown",
   "id": "7df9122d",
   "metadata": {},
   "source": [
    "4.BMI: <br>\n",
    "Based on WebMD data BMI among adults range from 18.5 to 30.0 or higher. Assuming none of these women are extremely short or extremely underweight the BMI should not be 0 or close to 0 [[Source]](https://www.webmd.com/a-to-z-guides/body-mass-index-bmi-for-adults)"
   ]
  },
  {
   "cell_type": "code",
   "execution_count": null,
   "id": "81eb4ebf",
   "metadata": {},
   "outputs": [],
   "source": [
    "print(data[data.BMI == 0].shape[0])\n",
    "print(data[data.BMI == 0].index.tolist())\n",
    "print(data[data.BMI == 0].groupby('Outcome')['Age'].count())"
   ]
  },
  {
   "cell_type": "markdown",
   "id": "bd05f569",
   "metadata": {},
   "source": [
    "5.Insulin:\n",
    "ok so turns out in some rare cases a person can have zero insulin but they almost definitely have diabetes, which doesn't seem to be the case as per the data since 236 cases have insulin value 0 but are classified to not having diabetes"
   ]
  },
  {
   "cell_type": "markdown",
   "id": "e5c3e0dd",
   "metadata": {},
   "source": [
    "There are a couple of ways I can handle these invalid data values:\n",
    "\n",
    "1. Ignore/remove these casses - this may not work in the Skin Thickness and Insulin levels have large number of such invalid data points, removing those would leave me with very little data in an already small dataset. This may work for bmi, glucose and BP invalid data points\n",
    "2. put average/mean values - this may not work out in all cases either, e.g. blood pressure, the blood pressure may be correlated to the diabetes therefore putting an average value for BP may provide a wrong signal to the model or reduce its predictive value\n",
    "3. not using those features for the classification algorthm - this may work, perhaps in the case of skin thickness.\n",
    "\n",
    "Lets also visualize these features to see how the Outcome is related to each of them"
   ]
  },
  {
   "cell_type": "markdown",
   "id": "0a37a451",
   "metadata": {},
   "source": [
    "### Visualizing the different columns wrt the classes"
   ]
  },
  {
   "cell_type": "markdown",
   "id": "c8d477a2",
   "metadata": {},
   "source": [
    "1. Blood Pressure"
   ]
  },
  {
   "cell_type": "code",
   "execution_count": null,
   "id": "0cd6a774",
   "metadata": {},
   "outputs": [],
   "source": [
    "plt.figure(figsize=(14,3))\n",
    "bp_pivot = data.groupby('BloodPressure').Outcome.mean().reset_index()\n",
    "sns.barplot(bp_pivot.BloodPressure, bp_pivot.Outcome)\n",
    "plt.title('% chance of being diagnosed with diabetes by blood pressure reading')\n",
    "plt.show()\n",
    "\n",
    "plt.figure(figsize=(14,3))\n",
    "bp_pivot = data.groupby('BloodPressure').Outcome.count().reset_index()\n",
    "sns.distplot(data[data.Outcome == 0]['BloodPressure'], color='turquoise', kde=False, label='0 Class')\n",
    "sns.distplot(data[data.Outcome == 1]['BloodPressure'], color='coral', kde=False, label='1 Class')\n",
    "plt.legend()\n",
    "plt.title('count # of people with blood pressure values')\n",
    "plt.show()"
   ]
  },
  {
   "cell_type": "markdown",
   "id": "225b615c",
   "metadata": {},
   "source": [
    "2.Plasma Glucose Level"
   ]
  },
  {
   "cell_type": "code",
   "execution_count": null,
   "id": "8445079c",
   "metadata": {},
   "outputs": [],
   "source": [
    "plt.figure(figsize=(20,5))\n",
    "glucose_pivot = data.groupby('Glucose').Outcome.mean().reset_index()\n",
    "sns.barplot(glucose_pivot.Glucose, glucose_pivot.Outcome)\n",
    "plt.title('% chance of being diagnosed with diabetes by Glucose reading')\n",
    "plt.show()\n",
    "\n",
    "plt.figure(figsize=(14,3))\n",
    "glucose_pivot = data.groupby('Glucose').Outcome.count().reset_index()\n",
    "sns.distplot(data[data.Outcome == 0]['Glucose'], color='turquoise', kde=False, label='0 Class')\n",
    "sns.distplot(data[data.Outcome == 1]['Glucose'], color='coral', kde=False, label='1 class')\n",
    "plt.legend()\n",
    "plt.title('count # of people with Glucose values')\n",
    "plt.show()"
   ]
  },
  {
   "cell_type": "markdown",
   "id": "d702044b",
   "metadata": {},
   "source": [
    "As expected the glucose feature seems to be highly correlated to the chances of getting diabetes"
   ]
  },
  {
   "cell_type": "code",
   "execution_count": null,
   "id": "863ed867",
   "metadata": {},
   "outputs": [],
   "source": [
    "plt.figure(figsize=(20,5))\n",
    "BMI_pivot = data.groupby('BMI').Outcome.mean().reset_index()\n",
    "sns.barplot(BMI_pivot.BMI, BMI_pivot.Outcome)\n",
    "plt.title('% chance of being diagnosed with diabetes by BMI reading')\n",
    "plt.show()\n",
    "\n",
    "plt.figure(figsize=(14,3))\n",
    "BMI_pivot = data.groupby('BMI').Outcome.count().reset_index()\n",
    "sns.distplot(data[data.Outcome == 0]['BMI'], color='turquoise', kde=False, label='Class 0')\n",
    "sns.distplot(data[data.Outcome == 1]['BMI'], color='coral', kde=False, label='Class 1')\n",
    "plt.legend()\n",
    "plt.title('count # of people with BMI values')\n",
    "plt.show()"
   ]
  },
  {
   "cell_type": "code",
   "execution_count": null,
   "id": "cc01422e",
   "metadata": {},
   "outputs": [],
   "source": [
    "plt.figure(figsize=(14,3))\n",
    "Insulin_pivot = data.groupby('Insulin').Outcome.mean().reset_index()\n",
    "sns.barplot(Insulin_pivot.Insulin, Insulin_pivot.Outcome)\n",
    "plt.title('% chance of being diagnosed with diabetes by Insulin reading')\n",
    "plt.show()\n",
    "\n",
    "plt.figure(figsize=(14,3))\n",
    "Insulin_pivot = data.groupby('Insulin').Outcome.count().reset_index()\n",
    "sns.distplot(data[data.Outcome == 0]['Insulin'], color='turquoise', kde=False, label='Class 0')\n",
    "sns.distplot(data[data.Outcome == 1]['Insulin'], color='coral', kde=False, label='Class 1')\n",
    "plt.legend()\n",
    "plt.title('count # of people with Insulin values')\n",
    "plt.show()"
   ]
  },
  {
   "cell_type": "code",
   "execution_count": null,
   "id": "0315ba72",
   "metadata": {},
   "outputs": [],
   "source": [
    "plt.figure(figsize=(14,3))\n",
    "SkinThickness_pivot = data.groupby('SkinThickness').Outcome.mean().reset_index()\n",
    "sns.barplot(SkinThickness_pivot.SkinThickness, SkinThickness_pivot.Outcome)\n",
    "plt.title('% chance of being diagnosed with diabetes by skin thickness reading')\n",
    "plt.show()\n",
    "\n",
    "plt.figure(figsize=(14,3))\n",
    "SkinThickness_pivot = data.groupby('SkinThickness').Outcome.count().reset_index()\n",
    "sns.distplot(data[data.Outcome == 0]['SkinThickness'], color='turquoise', kde=False, label='Class 0')\n",
    "sns.distplot(data[data.Outcome == 1]['SkinThickness'], color='coral', kde=False, label='Class 1')\n",
    "plt.legend()\n",
    "plt.title('count # of people with Skin thickness values')\n",
    "plt.show()"
   ]
  },
  {
   "cell_type": "markdown",
   "id": "5fb15313",
   "metadata": {},
   "source": [
    "## 2.3 Data Selection and Model Fitting"
   ]
  },
  {
   "cell_type": "markdown",
   "id": "442591d8",
   "metadata": {},
   "source": [
    "for the time being I am not removing the outlier in the data specifically BP, insulin and glucose because they are reletively few of them in the data. I see that these are the 3 features which seem to be effecting the classification the most, given this I will use them for the initial models, without any regularization. I will also be normalizing all the values since they are numeric and vary in their min and max values. Finally I am going to split the data into an 80-20 split for train and test sets and perform 5-fold cross validation of the training data to pic the best classifier for the job which will then be used for getting test predictions. I am using 5 classifiers that I know the theory behind."
   ]
  }
 ],
 "metadata": {},
 "nbformat": 4,
 "nbformat_minor": 5
}
