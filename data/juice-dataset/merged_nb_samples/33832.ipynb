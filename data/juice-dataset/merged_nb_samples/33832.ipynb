{
 "cells": [
  {
   "cell_type": "markdown",
   "id": "87e4c5c2",
   "metadata": {},
   "source": [
    "# Introduction to Time Series\n",
    "\n",
    "## Visualization"
   ]
  },
  {
   "cell_type": "code",
   "execution_count": null,
   "id": "85bb1601",
   "metadata": {},
   "outputs": [],
   "source": [
    "import matplotlib.pyplot as plt\n",
    "import numpy as np\n",
    "import pandas as pd\n",
    "import statsmodels as sm\n",
    "import seaborn as sns\n",
    "\n",
    "%matplotlib inline\n",
    "\n",
    "bike_sharing_df = pd.read_csv('bike_sharing_day.csv', index_col=0)\n",
    "bike_sharing_df.dteday = pd.to_datetime(bike_sharing_df.dteday)\n",
    "\n",
    "bike_sharing_df.set_index('dteday', inplace=True)\n",
    "bike_sharing_df.head()"
   ]
  },
  {
   "cell_type": "markdown",
   "id": "5705929f",
   "metadata": {},
   "source": [
    "## Pair Plot"
   ]
  },
  {
   "cell_type": "code",
   "execution_count": null,
   "id": "b4194929",
   "metadata": {},
   "outputs": [],
   "source": [
    "sns.pairplot(bike_sharing_df)"
   ]
  },
  {
   "cell_type": "markdown",
   "id": "9ca3e33f",
   "metadata": {},
   "source": [
    "## Time Series Plot"
   ]
  },
  {
   "cell_type": "code",
   "execution_count": null,
   "id": "b47c5fa4",
   "metadata": {},
   "outputs": [],
   "source": [
    "plt.figure(figsize=(20,6))\n",
    "bike_sharing_df.cnt.plot()\n",
    "bike_sharing_df.casual.plot()\n",
    "bike_sharing_df.registered.plot()\n",
    "plt.legend()"
   ]
  },
  {
   "cell_type": "markdown",
   "id": "027344d1",
   "metadata": {},
   "source": [
    "## Lag Plots"
   ]
  },
  {
   "cell_type": "code",
   "execution_count": null,
   "id": "c28a0f99",
   "metadata": {},
   "outputs": [],
   "source": [
    "from pandas.plotting import lag_plot, autocorrelation_plot"
   ]
  },
  {
   "cell_type": "code",
   "execution_count": null,
   "id": "94f18367",
   "metadata": {},
   "outputs": [],
   "source": [
    "_, ax = plt.subplots(1,5, figsize=(20,5))\n",
    "\n",
    "for i in range(5):\n",
    "    lag_plot(bike_sharing_df.cnt, ax=ax[i], lag=(i)*5+1)"
   ]
  },
  {
   "cell_type": "markdown",
   "id": "d2eefc33",
   "metadata": {},
   "source": [
    "## Autocorrelation Plot\n"
   ]
  },
  {
   "cell_type": "markdown",
   "id": "8349b1d2",
   "metadata": {},
   "source": [
    "Just as correlation measures the extent of a linear relationship between two variables, autocorrelation measures the linear relationship between lagged values of a time series."
   ]
  }
 ],
 "metadata": {},
 "nbformat": 4,
 "nbformat_minor": 5
}
