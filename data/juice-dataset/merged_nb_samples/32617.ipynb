{
 "cells": [
  {
   "cell_type": "code",
   "execution_count": null,
   "id": "04ff931f",
   "metadata": {},
   "outputs": [],
   "source": [
    "import pandas as pd\n",
    "import numpy as np\n",
    "%matplotlib inline\n",
    "import matplotlib.pyplot as plt"
   ]
  },
  {
   "cell_type": "markdown",
   "id": "9e361af5",
   "metadata": {},
   "source": [
    "## Import Dataset"
   ]
  },
  {
   "cell_type": "code",
   "execution_count": null,
   "id": "9ac71c27",
   "metadata": {},
   "outputs": [],
   "source": [
    "dataset = pd.read_csv(\"divvytrips.csv\")\n",
    "dataset.head()"
   ]
  },
  {
   "cell_type": "markdown",
   "id": "2e19b725",
   "metadata": {},
   "source": [
    "## Detect and Delete Missing Values"
   ]
  },
  {
   "cell_type": "code",
   "execution_count": null,
   "id": "a7e4dc4e",
   "metadata": {},
   "outputs": [],
   "source": [
    "sum(dataset.isnull().values.ravel())"
   ]
  },
  {
   "cell_type": "code",
   "execution_count": null,
   "id": "e588e213",
   "metadata": {},
   "outputs": [],
   "source": [
    "dataset.info()\n",
    "#gender and birthyear have missing values"
   ]
  },
  {
   "cell_type": "code",
   "execution_count": null,
   "id": "ed2d8293",
   "metadata": {},
   "outputs": [],
   "source": [
    "dataset = dataset.dropna()"
   ]
  },
  {
   "cell_type": "code",
   "execution_count": null,
   "id": "997329bd",
   "metadata": {},
   "outputs": [],
   "source": [
    "dataset.info()"
   ]
  },
  {
   "cell_type": "markdown",
   "id": "c7a07ce3",
   "metadata": {},
   "source": [
    "## Reduce Dataset to 35000 rows "
   ]
  },
  {
   "cell_type": "code",
   "execution_count": null,
   "id": "6d5d6f73",
   "metadata": {},
   "outputs": [],
   "source": [
    "dataset = dataset.drop(dataset.index[range(35000,1234638)])\n",
    "dataset.info()"
   ]
  },
  {
   "cell_type": "markdown",
   "id": "89508b52",
   "metadata": {},
   "source": [
    "## Graph 1: Birth Year Frequency Distribution"
   ]
  },
  {
   "cell_type": "code",
   "execution_count": null,
   "id": "71792c15",
   "metadata": {},
   "outputs": [],
   "source": [
    "plt.subplots(figsize=(20,8))\n",
    "plt.hist(dataset['birthyear'], bins=np.arange(dataset['birthyear'].min(), dataset['birthyear'].max()+1))\n",
    "plt.title('Birth Year Frequency Distribution',size=15)\n",
    "plt.xlabel('Birth Years', size=15)\n",
    "plt.ylabel('Frequency', size=15)\n",
    "plt.show()"
   ]
  },
  {
   "cell_type": "markdown",
   "id": "d390775b",
   "metadata": {},
   "source": [
    "## Graph 2: Male to Female Ratio Pie Chart"
   ]
  },
  {
   "cell_type": "code",
   "execution_count": null,
   "id": "008c0a34",
   "metadata": {},
   "outputs": [],
   "source": [
    "sums = dataset.gender.groupby(dataset.gender).count()"
   ]
  },
  {
   "cell_type": "code",
   "execution_count": null,
   "id": "84b67378",
   "metadata": {},
   "outputs": [],
   "source": [
    "sums"
   ]
  },
  {
   "cell_type": "code",
   "execution_count": null,
   "id": "9b21e027",
   "metadata": {},
   "outputs": [],
   "source": [
    "plt.axis('equal');\n",
    "plt.pie(sums, labels=sums.index, autopct='%1.1f%%')\n",
    "plt.title('Male to Female Ratio',size=15)\n",
    "plt.show()"
   ]
  },
  {
   "cell_type": "markdown",
   "id": "86bb86dd",
   "metadata": {},
   "source": [
    "## Graph 3: Genderwise Average Trip Duration"
   ]
  },
  {
   "cell_type": "code",
   "execution_count": null,
   "id": "664126f7",
   "metadata": {},
   "outputs": [],
   "source": [
    "avgdist = dataset['tripduration'].groupby(dataset.gender).aggregate(np.mean).plot('bar')\n",
    "plt.title('Genderwise Average Trip Duration')\n",
    "plt.xlabel('Gender', size=15)\n",
    "plt.ylabel('Average Trip Duration',size=15)\n",
    "plt.xticks(size=10)\n",
    "plt.show()"
   ]
  },
  {
   "cell_type": "markdown",
   "id": "e4137284",
   "metadata": {},
   "source": [
    "## Graph 4: Age Frequency Distribution"
   ]
  },
  {
   "cell_type": "code",
   "execution_count": null,
   "id": "60462d8a",
   "metadata": {},
   "outputs": [],
   "source": [
    "dataset['Age'] = 2017 - dataset['birthyear']"
   ]
  },
  {
   "cell_type": "code",
   "execution_count": null,
   "id": "ddc90771",
   "metadata": {},
   "outputs": [],
   "source": [
    "plt.subplots(figsize=(25,8))\n",
    "agedist = dataset['tripduration'].groupby(dataset.Age).aggregate(np.mean).plot('bar')\n",
    "plt.title('Age vs Average Travel Duration',size=15)\n",
    "plt.xlabel('Age', size=15)\n",
    "plt.ylabel('Average Travel Duration',size=15)\n",
    "plt.show()"
   ]
  },
  {
   "cell_type": "markdown",
   "id": "fd125b70",
   "metadata": {},
   "source": [
    "## Graph 5: Scatterplot for Tripduration"
   ]
  },
  {
   "cell_type": "code",
   "execution_count": null,
   "id": "831be4a2",
   "metadata": {},
   "outputs": [],
   "source": [
    "plt.subplots(figsize=(20,8))\n",
    "plt.scatter(dataset['trip_id'],dataset['tripduration'])\n",
    "plt.xticks([])\n",
    "plt.ylabel('Trip Duration',size=15)\n",
    "plt.title('Trip Duration Scatter Plot',size=15)\n",
    "plt.show()"
   ]
  },
  {
   "cell_type": "markdown",
   "id": "fc8f044e",
   "metadata": {},
   "source": [
    "## Graph 6: Top 5 Destinations "
   ]
  },
  {
   "cell_type": "code",
   "execution_count": null,
   "id": "10af0791",
   "metadata": {},
   "outputs": [],
   "source": [
    "from dateutil.parser import parse"
   ]
  },
  {
   "cell_type": "code",
   "execution_count": null,
   "id": "e1d17781",
   "metadata": {},
   "outputs": [],
   "source": [
    "m = []\n",
    "h = []\n",
    "d = []\n",
    "\n",
    "for i in dataset.start_time:\n",
    "    m.append(parse(i).month)\n",
    "    h.append(parse(i).hour)\n",
    "    d.append(parse(i).day)"
   ]
  },
  {
   "cell_type": "code",
   "execution_count": null,
   "id": "7c0f7629",
   "metadata": {},
   "outputs": [],
   "source": [
    "dataset['start_month'] = m\n",
    "dataset['start_day'] = d\n",
    "dataset['start_hour'] = h"
   ]
  },
  {
   "cell_type": "code",
   "execution_count": null,
   "id": "2c79633f",
   "metadata": {},
   "outputs": [],
   "source": [
    "dataset.head()"
   ]
  },
  {
   "cell_type": "markdown",
   "id": "10b19739",
   "metadata": {},
   "source": [
    "### Non-numerical to Numerical Data"
   ]
  },
  {
   "cell_type": "code",
   "execution_count": null,
   "id": "6c763b83",
   "metadata": {},
   "outputs": [],
   "source": [
    "#Function to convert Non-numerical to Numerical Data\n",
    "\n",
    "def handle_non_numerical_data(df):\n",
    "    columns = df.columns.values\n",
    "    for column in columns:\n",
    "        text_digit_vals = {} \n",
    "        def convert_to_int(val):\n",
    "            return text_digit_vals[val]\n",
    "        \n",
    "        if df[column].dtype != np.int64 and df[column].dtype != np.float64:\n",
    "            column_contents = df[column].values.tolist()\n",
    "            unique_elements = set(column_contents)\n",
    "            x=0\n",
    "            for unique in unique_elements:\n",
    "                if unique not in text_digit_vals:\n",
    "                    text_digit_vals[unique] = x\n",
    "                    x = x + 1\n",
    "            \n",
    "            df[column] = list(map(convert_to_int, df[column]))\n",
    "    \n",
    "    return df\n",
    "\n",
    "df = dataset\n",
    "df = handle_non_numerical_data(df)"
   ]
  },
  {
   "cell_type": "code",
   "execution_count": null,
   "id": "4e9db828",
   "metadata": {},
   "outputs": [],
   "source": [
    "df.head()"
   ]
  },
  {
   "cell_type": "code",
   "execution_count": null,
   "id": "f15b135f",
   "metadata": {},
   "outputs": [],
   "source": [
    "x = df.drop(['tripduration','end_time','birthyear','trip_id','from_station_name','to_station_name','start_time','bikeid'], axis=1)\n",
    "y = df.tripduration"
   ]
  },
  {
   "cell_type": "code",
   "execution_count": null,
   "id": "f051c237",
   "metadata": {},
   "outputs": [],
   "source": [
    "x.head()"
   ]
  },
  {
   "cell_type": "code",
   "execution_count": null,
   "id": "c5fceb1a",
   "metadata": {},
   "outputs": [],
   "source": [
    "from sklearn.ensemble import RandomForestRegressor"
   ]
  },
  {
   "cell_type": "code",
   "execution_count": null,
   "id": "e24308c9",
   "metadata": {},
   "outputs": [],
   "source": [
    "from sklearn.model_selection import train_test_split\n",
    "x_train, x_test, y_train, y_test = train_test_split(x, y, test_size=0.40, random_state=123)"
   ]
  },
  {
   "cell_type": "markdown",
   "id": "51cc31c4",
   "metadata": {},
   "source": [
    "## Write CSV File"
   ]
  },
  {
   "cell_type": "code",
   "execution_count": null,
   "id": "36129469",
   "metadata": {},
   "outputs": [],
   "source": [
    "df.to_csv('finaldata.csv')"
   ]
  },
  {
   "cell_type": "markdown",
   "id": "3037cc58",
   "metadata": {},
   "source": [
    "## Random Forest Regressor"
   ]
  },
  {
   "cell_type": "code",
   "execution_count": null,
   "id": "ee2fb37e",
   "metadata": {},
   "outputs": [],
   "source": [
    "rm_model = RandomForestRegressor()"
   ]
  },
  {
   "cell_type": "code",
   "execution_count": null,
   "id": "181afdbb",
   "metadata": {},
   "outputs": [],
   "source": [
    "rm_model.fit(x_train,y_train)\n",
    "y_pred = rm_model.predict(x_test)"
   ]
  },
  {
   "cell_type": "code",
   "execution_count": null,
   "id": "3d5c77da",
   "metadata": {},
   "outputs": [],
   "source": [
    "from sklearn.metrics import mean_squared_error, mean_absolute_error\n",
    "print(\"MSE: \", mean_squared_error(y_test,y_pred))\n",
    "print(\"\\nMAE: \", mean_absolute_error(y_test,y_pred))"
   ]
  },
  {
   "cell_type": "markdown",
   "id": "a0168b9b",
   "metadata": {},
   "source": [
    "## Feature Importance and Selection"
   ]
  },
  {
   "cell_type": "code",
   "execution_count": null,
   "id": "585aafb9",
   "metadata": {},
   "outputs": [],
   "source": [
    "importances = pd.DataFrame({'feature':x.columns,'importance':np.round(rm_model.feature_importances_,3)})\n",
    "importances = importances.sort_values('importance',ascending=False).set_index('feature')\n",
    " \n",
    "print(importances*100,\"%\")\n",
    "importances.plot.bar()"
   ]
  },
  {
   "cell_type": "code",
   "execution_count": null,
   "id": "ca25cf2c",
   "metadata": {},
   "outputs": [],
   "source": [
    "#Eliminating User Type and Start Month\n",
    "x = x.drop(['usertype','start_month'],axis=1)\n",
    "x_train, x_test, y_train, y_test = train_test_split(x, y, test_size=0.30, random_state=123)"
   ]
  },
  {
   "cell_type": "markdown",
   "id": "7ef9a755",
   "metadata": {},
   "source": [
    "## OOB SCORE v/s Number of Estimators"
   ]
  },
  {
   "cell_type": "code",
   "execution_count": null,
   "id": "69367ac4",
   "metadata": {},
   "outputs": [],
   "source": [
    "from sklearn.ensemble import RandomForestRegressor as RFR\n",
    "n_estimators = [10,20,50,80,100,200]\n",
    "oob_errors = []\n",
    "for n in n_estimators:\n",
    "    ranfor = RFR(n_estimators=n, criterion=\"mse\", min_samples_split=2, min_samples_leaf=1,\n",
    "                      max_features=\"auto\", bootstrap=True, oob_score=True, random_state=123, verbose=1)\n",
    "    ranfor.fit(x_train,y_train)\n",
    "    y_pred = ranfor.predict(x_test)\n",
    "    oob_errors.append(ranfor.oob_score_)\n",
    "    \n",
    "from sklearn.metrics import mean_squared_error,mean_absolute_error\n",
    "print(\"OOB Error: \", oob_errors)\n",
    "print(\"\\n MAE: \", mean_absolute_error(y_test,y_pred))"
   ]
  },
  {
   "cell_type": "code",
   "execution_count": null,
   "id": "d114acc9",
   "metadata": {},
   "outputs": [],
   "source": [
    "# Plot OOB vs n_estimators\n",
    "plt.plot(n_estimators,oob_errors)\n",
    "plt.title(\"OOB Score vs Number of Estimators\")\n",
    "plt.xlabel(\"Number of estimators\")\n",
    "plt.ylabel(\"OOB Score\")\n",
    "plt.show()"
   ]
  },
  {
   "cell_type": "markdown",
   "id": "7844e22a",
   "metadata": {},
   "source": [
    "## GridsearchCV for RandomForestRegressor"
   ]
  },
  {
   "cell_type": "code",
   "execution_count": null,
   "id": "afb39e0b",
   "metadata": {},
   "outputs": [],
   "source": [
    "from sklearn.model_selection import GridSearchCV\n",
    "rm_grid = GridSearchCV(rm_model,\n",
    "                   {'n_estimators':[15,35,50], \n",
    "                    'max_depth':[6,8,10], \n",
    "                    'min_samples_split':[5,6,7]}, verbose=1)"
   ]
  },
  {
   "cell_type": "code",
   "execution_count": null,
   "id": "290a3b31",
   "metadata": {},
   "outputs": [],
   "source": [
    "rm_grid.fit(x_train,y_train)\n",
    "print(rm_grid.best_score_)\n",
    "print(rm_grid.best_params_)"
   ]
  },
  {
   "cell_type": "markdown",
   "id": "d97f63e0",
   "metadata": {},
   "source": [
    "## Optimal RandomForestRegressor"
   ]
  }
 ],
 "metadata": {},
 "nbformat": 4,
 "nbformat_minor": 5
}
