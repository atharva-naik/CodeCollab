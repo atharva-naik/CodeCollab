{
 "cells": [
  {
   "cell_type": "code",
   "execution_count": null,
   "id": "52ef5e62",
   "metadata": {},
   "outputs": [],
   "source": [
    "dt['F'].value_counts()"
   ]
  },
  {
   "cell_type": "code",
   "execution_count": null,
   "id": "ae333eaa",
   "metadata": {},
   "outputs": [],
   "source": [
    "dt['D'].value_counts()"
   ]
  },
  {
   "cell_type": "markdown",
   "id": "a904bb25",
   "metadata": {},
   "source": [
    "-**keep only games that have 12 forwards and 6 defensemen.**"
   ]
  },
  {
   "cell_type": "code",
   "execution_count": null,
   "id": "71515691",
   "metadata": {},
   "outputs": [],
   "source": [
    "dt = dt.groupby(['Season', 'GameNumber']).filter(lambda x: ((x['F'] == 12) & (x['D'] == 6)).all())"
   ]
  },
  {
   "cell_type": "code",
   "execution_count": null,
   "id": "1015c728",
   "metadata": {},
   "outputs": [],
   "source": [
    "dt.shape"
   ]
  },
  {
   "cell_type": "markdown",
   "id": "c5ec574b",
   "metadata": {},
   "source": [
    "### summary analysis"
   ]
  },
  {
   "cell_type": "code",
   "execution_count": null,
   "id": "dfeece85",
   "metadata": {},
   "outputs": [],
   "source": [
    "dt.describe()"
   ]
  },
  {
   "cell_type": "code",
   "execution_count": null,
   "id": "3727cd00",
   "metadata": {},
   "outputs": [],
   "source": [
    "dt.groupby(['Win'])['F1', 'F2', 'D1', 'D2'].describe()"
   ]
  },
  {
   "cell_type": "markdown",
   "id": "6be2206c",
   "metadata": {},
   "source": [
    "### estimate roster model"
   ]
  },
  {
   "cell_type": "markdown",
   "id": "f71cbbc0",
   "metadata": {},
   "source": [
    "- regress **win** on the difference in number of players by position and quality per team. Add a constant to the predictors and use **OLS**. The purpose is to deterimine the impact each roster position has on home team success."
   ]
  },
  {
   "cell_type": "markdown",
   "id": "e0263274",
   "metadata": {},
   "source": [
    "- **pivot table using game number as index by whether a team is visitor (1) or home (2)**. The table will display the quality of each player per position and team. The next step is to join columns by team and player quality value. We will have for each team 10 columns ( 5 positions x 2 type of player quality). We will rename the columns as following: VC1 shows the amount of elite centers for the visitor team, HC1 displays the amount of elite centers for the home team etc. We rename the columns and sort them based on team, position and quality. "
   ]
  },
  {
   "cell_type": "code",
   "execution_count": null,
   "id": "478c50d3",
   "metadata": {},
   "outputs": [],
   "source": [
    "dy = pd.pivot_table(dy, index=['Season', 'GameNumber'], columns=['A'], values=['F1', 'F2', 'D1', 'D2'])\n",
    "dy = dy.reset_index()\n",
    "dy.columns = ['_'.join(str(s).strip() for s in col if s) for col in dy.columns]\n",
    "dy = dy.reset_index()\n",
    "dy = dy.rename(columns={'F1_1.0': 'VF1', 'F2_1.0': 'VF2', 'D1_1.0': 'VD1', 'D2_1.0': 'VD2', 'F1_2.0': 'HF1', 'F2_2.0': 'HF2', 'D1_2.0': 'HD1', 'D2_2.0': 'HD2'})\n",
    "dy = dy[['Season', 'GameNumber', 'VF1', 'VF2', 'VD1', 'VD2', 'HF1', 'HF2', 'HD1', 'HD2']]\n",
    "dy.sort_values(['Season', 'GameNumber'], ascending=[True, True], inplace=True)\n",
    "dy.head()"
   ]
  },
  {
   "cell_type": "code",
   "execution_count": null,
   "id": "3e29e28d",
   "metadata": {},
   "outputs": [],
   "source": [
    "dy.shape"
   ]
  },
  {
   "cell_type": "code",
   "execution_count": null,
   "id": "b0c44647",
   "metadata": {},
   "outputs": [],
   "source": [
    "dy.to_csv('season_game_roster.csv', index='False', sep=',')"
   ]
  },
  {
   "cell_type": "markdown",
   "id": "58356c41",
   "metadata": {},
   "source": [
    "# Roster Analysis"
   ]
  },
  {
   "cell_type": "markdown",
   "id": "0c274736",
   "metadata": {},
   "source": [
    "## season_level_analysis"
   ]
  },
  {
   "cell_type": "markdown",
   "id": "de5b2bf4",
   "metadata": {},
   "source": [
    "#### $WinPc = \\beta_{0} + \\beta_{1}MeanF_{1} + \\beta_{2}MeanF_{2} + \\beta_{3}MeanD_{1} + \\beta_{4}MeanD_{2} + e_{s}$"
   ]
  },
  {
   "cell_type": "markdown",
   "id": "caa5b4e5",
   "metadata": {},
   "source": [
    "- merge season_team dataset (dz) and season_team_roster_ranking (dv) for roster analysis at the season level. Use **ds** as the merging dataset."
   ]
  },
  {
   "cell_type": "code",
   "execution_count": null,
   "id": "f0c28821",
   "metadata": {},
   "outputs": [],
   "source": [
    "ds = dv.merge(dz, on=['Season', 'TeamCode'], how='left')\n",
    "ds.head()"
   ]
  },
  {
   "cell_type": "markdown",
   "id": "296684e9",
   "metadata": {},
   "source": [
    "- display the diffence in quality of forwards (DF) and defensemen (DD) per team."
   ]
  },
  {
   "cell_type": "code",
   "execution_count": null,
   "id": "936c656d",
   "metadata": {},
   "outputs": [],
   "source": [
    "ds['DF'] = ds['MeanF1'] - ds['MeanF2']\n",
    "ds['DD'] = ds['MeanD1'] - ds['MeanD2']"
   ]
  },
  {
   "cell_type": "markdown",
   "id": "153e2bfd",
   "metadata": {},
   "source": [
    "- mean goals for and mean goals against per team."
   ]
  },
  {
   "cell_type": "code",
   "execution_count": null,
   "id": "34379a6c",
   "metadata": {},
   "outputs": [],
   "source": [
    "result.params"
   ]
  },
  {
   "cell_type": "markdown",
   "id": "da25c4c9",
   "metadata": {},
   "source": [
    "- regress **win** on the difference in number of players by position and quality per team. Add a constant to the predictors and use **Logit**. The purpose is to deterimine the impact each roster position has on home team success"
   ]
  },
  {
   "cell_type": "code",
   "execution_count": null,
   "id": "3dda6b2f",
   "metadata": {},
   "outputs": [],
   "source": [
    "y = dt['Win']  \n",
    "X = sm.add_constant(dt[['F1', 'D1', 'F2', 'D2']] )\n",
    "result = sm.Logit(y, X).fit()\n",
    "result.summary()"
   ]
  },
  {
   "cell_type": "markdown",
   "id": "36733a84",
   "metadata": {},
   "source": [
    "- regress **goal differential** on the difference in number of players by position and quality per team. Add a constant to the predictors and use **OLS**. The purpose is to deterimine the impact each roster position has on home team success"
   ]
  },
  {
   "cell_type": "code",
   "execution_count": null,
   "id": "dc8a7219",
   "metadata": {},
   "outputs": [],
   "source": [
    "y = dt['GD']  \n",
    "X = sm.add_constant(dt[['F1', 'D1', 'F2', 'D2']] )\n",
    "result = sm.OLS(y, X).fit()\n",
    "result.summary()"
   ]
  },
  {
   "cell_type": "markdown",
   "id": "fe38ad63",
   "metadata": {},
   "source": [
    "- regress **win** on the differential of forwards and defensemen per team. Add a constant to the predictors and use **OLS**."
   ]
  },
  {
   "cell_type": "code",
   "execution_count": null,
   "id": "dc865849",
   "metadata": {},
   "outputs": [],
   "source": [
    "y = dt['Win']  \n",
    "X = sm.add_constant(dt[['DF', 'DD']] )\n",
    "result = sm.OLS(y, X).fit()\n",
    "result.summary()"
   ]
  },
  {
   "cell_type": "markdown",
   "id": "9cc51a83",
   "metadata": {},
   "source": [
    "- regress **win** on the differential of forwards and defensemen per team. Add a constant to the predictors and use **Logit**."
   ]
  },
  {
   "cell_type": "code",
   "execution_count": null,
   "id": "b24682a0",
   "metadata": {},
   "outputs": [],
   "source": [
    "y = dt['Win']  \n",
    "X = sm.add_constant(dt[['DF', 'DD']] )\n",
    "result = sm.Logit(y, X).fit()\n",
    "result.summary()"
   ]
  },
  {
   "cell_type": "markdown",
   "id": "6169e46c",
   "metadata": {},
   "source": [
    "- regress **win** on the differential of forwards per team. Add a constant to the predictors and use **OLS**."
   ]
  },
  {
   "cell_type": "code",
   "execution_count": null,
   "id": "15ce4dbd",
   "metadata": {},
   "outputs": [],
   "source": [
    "y = dt['Win']  \n",
    "X = sm.add_constant(dt[['DF']] )\n",
    "result = sm.OLS(y, X).fit()\n",
    "result.summary()"
   ]
  },
  {
   "cell_type": "markdown",
   "id": "5ab688a9",
   "metadata": {},
   "source": [
    "- regress **win** on the differential of forwards per team. Add a constant to the predictors and use **Logit**."
   ]
  },
  {
   "cell_type": "code",
   "execution_count": null,
   "id": "99e4dd4e",
   "metadata": {},
   "outputs": [],
   "source": [
    "dl['VF'].value_counts()"
   ]
  },
  {
   "cell_type": "code",
   "execution_count": null,
   "id": "14c9f574",
   "metadata": {},
   "outputs": [],
   "source": [
    "dl['VD'].value_counts()"
   ]
  },
  {
   "cell_type": "code",
   "execution_count": null,
   "id": "7f785394",
   "metadata": {},
   "outputs": [],
   "source": [
    "dl['HF'].value_counts()"
   ]
  },
  {
   "cell_type": "code",
   "execution_count": null,
   "id": "7f338e23",
   "metadata": {},
   "outputs": [],
   "source": [
    "dl['HD'].value_counts()"
   ]
  },
  {
   "cell_type": "code",
   "execution_count": null,
   "id": "883b4dbf",
   "metadata": {},
   "outputs": [],
   "source": [
    "dl.describe()"
   ]
  },
  {
   "cell_type": "code",
   "execution_count": null,
   "id": "d20cabdb",
   "metadata": {},
   "outputs": [],
   "source": [
    "dl = dl[['Season', 'GameNumber', 'VTeamCode', 'HTeamCode', 'HGF', 'VGF', 'GD','WinTeam',\n",
    "         'VF1', 'VF2', 'VD1', 'VD2', \n",
    "         'HF1', 'HF2', 'HD1', 'HD2']]"
   ]
  },
  {
   "cell_type": "markdown",
   "id": "db947099",
   "metadata": {},
   "source": [
    "- determine if a game was won by the home or visitor team.\n",
    "- compute the difference in quality of forwards and defensemen between home and visitor team per game (DF1, DF2, DD1, DD2). "
   ]
  },
  {
   "cell_type": "code",
   "execution_count": null,
   "id": "1285eb27",
   "metadata": {},
   "outputs": [],
   "source": [
    "dl['HomeWin'] = dl.apply(lambda x: 1 if x['WinTeam']=='HOME' else 0, axis=1)\n",
    "dl['DF1'] = dl['HF1'] - dl['VF1']\n",
    "dl['DF2'] = dl['HF2'] - dl['VF2']\n",
    "dl['DD1'] = dl['HD1'] - dl['VD1']\n",
    "dl['DD2'] = dl['HD2'] - dl['VD2']"
   ]
  },
  {
   "cell_type": "code",
   "execution_count": null,
   "id": "7535175d",
   "metadata": {},
   "outputs": [],
   "source": [
    "dl.groupby(['WinTeam'])['DF1', 'DF2', 'DD1', 'DD2'].describe()"
   ]
  },
  {
   "cell_type": "markdown",
   "id": "1bc8941a",
   "metadata": {},
   "source": [
    "- regress **home win** on the difference in number of home and visitor players by position and quality (DF1, DF2, DD1, DD2). Add a constant to the predictors and use OLS. The purpose is to deterimine the impact each roster position has on home team success."
   ]
  },
  {
   "cell_type": "code",
   "execution_count": null,
   "id": "3066de46",
   "metadata": {},
   "outputs": [],
   "source": [
    "dm.shape"
   ]
  },
  {
   "cell_type": "code",
   "execution_count": null,
   "id": "fa270103",
   "metadata": {},
   "outputs": [],
   "source": [
    "dm.columns"
   ]
  },
  {
   "cell_type": "code",
   "execution_count": null,
   "id": "6f17cf00",
   "metadata": {},
   "outputs": [],
   "source": [
    "dm = dm.rename(columns={'PlayerNumber': 'EventPlayerNumber', 'TeamCode': 'EventTeamCode', 'PlayerName': 'EventPlayerName' })\n",
    "dm = dm[['Season', 'GameNumber', 'GameDate', 'Period', 'AdvantageType', 'Zone', 'EventNumber', 'EventType', 'EventDetail', 'EventTeamCode', 'EventPlayerNumber', 'EventPlayerName', 'EventTimeFromZero', 'EventTimeFromTwenty', 'VTeamCode', 'VPlayer', 'VPosition', 'HTeamCode', 'HPlayer', 'HPosition', 'ShotType', 'ShotResult', 'Length', 'PenaltyType']]\n",
    "dm = dm.sort_values(['Season', 'GameNumber', 'Period', 'EventNumber'], ascending=[True, True, True, True])"
   ]
  },
  {
   "cell_type": "markdown",
   "id": "23aec26c",
   "metadata": {},
   "source": [
    "- fill in advantage type with even strength 'EV' and event player number with 'TEAM'"
   ]
  },
  {
   "cell_type": "code",
   "execution_count": null,
   "id": "559c4953",
   "metadata": {},
   "outputs": [],
   "source": [
    "dm['AdvantageType'] = dm['AdvantageType'].fillna('EV')\n",
    "dm['EventPlayerNumber'] = dm['EventPlayerNumber'].fillna('TEAM')"
   ]
  },
  {
   "cell_type": "markdown",
   "id": "b0a178ff",
   "metadata": {},
   "source": [
    "- save new datast as play by play"
   ]
  },
  {
   "cell_type": "code",
   "execution_count": null,
   "id": "2a9d2782",
   "metadata": {},
   "outputs": [],
   "source": [
    "dm.to_csv('play_by_play.csv', index='False', sep=',')"
   ]
  },
  {
   "cell_type": "markdown",
   "id": "078370db",
   "metadata": {},
   "source": [
    "#### create new data set and keep variables: \n",
    "- (a) game number.\n",
    "- (b) visitor team information.\n",
    "- (c) home team information."
   ]
  },
  {
   "cell_type": "code",
   "execution_count": null,
   "id": "e600ac46",
   "metadata": {},
   "outputs": [],
   "source": [
    "df = dm[['Season', 'GameNumber', 'VTeamCode', 'VPlayer', 'VPosition', 'HTeamCode', 'HPlayer', 'HPosition']]\n",
    "df = df.sort_values(['Season', 'GameNumber'], ascending=[True, True])\n",
    "df.head()"
   ]
  },
  {
   "cell_type": "markdown",
   "id": "3e80d5bb",
   "metadata": {},
   "source": [
    "- merge season_game_data (dg) on new dataset"
   ]
  },
  {
   "cell_type": "code",
   "execution_count": null,
   "id": "45b29d6e",
   "metadata": {},
   "outputs": [],
   "source": [
    "df = pd.merge(df, dg, on=['Season', 'GameNumber', 'VTeamCode', 'HTeamCode'], how='left')\n",
    "df.head()    "
   ]
  },
  {
   "cell_type": "markdown",
   "id": "2786f494",
   "metadata": {},
   "source": [
    "- reshape the data to have home and visitor team observatons under the same coloumns. "
   ]
  },
  {
   "cell_type": "code",
   "execution_count": null,
   "id": "3cda7aeb",
   "metadata": {},
   "outputs": [],
   "source": [
    "a = [col for col in df.columns if 'Player' in col]\n",
    "b = [col for col in df.columns if 'Position' in col]\n",
    "c = [col for col in df.columns if 'TeamCode' in col]\n",
    "d = [col for col in df.columns if 'GF' in col]\n",
    "e = [col for col in df.columns if 'GA' in col]\n",
    "df = pd.lreshape(df, {'PlayerNumber' : a, 'PlayerPosition' : b, 'TeamCode' : c, 'GF' : d, 'GA' : e })\n",
    "df.head()"
   ]
  },
  {
   "cell_type": "markdown",
   "id": "89b79ebf",
   "metadata": {},
   "source": [
    "- import player rankings"
   ]
  },
  {
   "cell_type": "code",
   "execution_count": null,
   "id": "67b12f57",
   "metadata": {},
   "outputs": [],
   "source": [
    "dp = pd.read_csv('player_rank_manual.csv')\n",
    "dp = dp.drop('Unnamed: 0', axis=1)"
   ]
  },
  {
   "cell_type": "markdown",
   "id": "e198c32d",
   "metadata": {},
   "source": [
    "- **display each player by team per game. Drop duplicates.**"
   ]
  },
  {
   "cell_type": "code",
   "execution_count": null,
   "id": "1fd2acf0",
   "metadata": {},
   "outputs": [],
   "source": [
    "dw = pd.merge(df, dp, on=['Season', 'TeamCode', 'PlayerNumber', 'PlayerPosition'], how='left')"
   ]
  },
  {
   "cell_type": "markdown",
   "id": "3c4a1cb6",
   "metadata": {},
   "source": [
    "- create column that displays the position and roster count by team per game. "
   ]
  },
  {
   "cell_type": "code",
   "execution_count": null,
   "id": "9336f683",
   "metadata": {},
   "outputs": [],
   "source": [
    "dw = dw[dw.PlayerPosition!='G']\n",
    "dw = dw.drop_duplicates(['Season', 'GameNumber', 'TeamCode', 'PlayerNumber'])\n",
    "dw['RosterCount'] = dw.groupby(['Season', 'GameNumber', 'TeamCode'])['PlayerNumber'].transform('count')\n",
    "dw['Position'] = dw.apply(lambda x: 'D' if x['PlayerPosition']=='D' else 'F', 1)\n",
    "dw['PositionCount'] = dw.groupby(['Season', 'GameNumber', 'TeamCode', 'Position'])['PlayerNumber'].transform('count')\n",
    "dw.head()"
   ]
  },
  {
   "cell_type": "markdown",
   "id": "6538f32f",
   "metadata": {},
   "source": [
    "- count the amount of forwards and defensemen by team per game."
   ]
  },
  {
   "cell_type": "code",
   "execution_count": null,
   "id": "7d37e358",
   "metadata": {},
   "outputs": [],
   "source": [
    "dw['FCount'] = dw.apply(lambda x: x['PositionCount'] if x['Position']=='F' else np.NaN, 1)\n",
    "dw['DCount'] = dw.apply(lambda x: x['PositionCount'] if x['Position']=='D' else np.NaN, 1)\n",
    "dw['FCount'] = dw.groupby(['Season','GameNumber', 'TeamCode'])['FCount'].apply(lambda x: x.ffill().bfill())\n",
    "dw['DCount'] = dw.groupby(['Season','GameNumber', 'TeamCode'])['DCount'].apply(lambda x: x.ffill().bfill())\n",
    "dw.head()"
   ]
  },
  {
   "cell_type": "markdown",
   "id": "94b56704",
   "metadata": {},
   "source": [
    "### keep games that have only 12 F and 6 D per team!!!!"
   ]
  },
  {
   "cell_type": "code",
   "execution_count": null,
   "id": "6d2d5018",
   "metadata": {},
   "outputs": [],
   "source": [
    "y = dl['HomeWin']  \n",
    "X = sm.add_constant(dl[['DF1', 'DD1', 'DF2', 'DD2']] )\n",
    "result = sm.OLS(y, X).fit()\n",
    "result.summary()"
   ]
  },
  {
   "cell_type": "markdown",
   "id": "20f5d119",
   "metadata": {},
   "source": [
    "- By increasing the differential of **elite** player quality in forwards and defense (home team – visitor team) by one unit, home win **increases** by 0.4 and 1 game respectfully.\n",
    "- By increasing the differential of **secondary** player quality in forwards and defense (home team – visitor team) by one unit, home win **decreases** by 0.4 and 1 game respectfully."
   ]
  },
  {
   "cell_type": "markdown",
   "id": "07176781",
   "metadata": {},
   "source": [
    "- regress **home win** on the difference in number of elite home and visitor players by position (DF1, DD1). Add a constant to the predictors and use **OLS**. The purpose is to deterimine the impact each roster position has on home team success."
   ]
  },
  {
   "cell_type": "code",
   "execution_count": null,
   "id": "9f5c4b82",
   "metadata": {},
   "outputs": [],
   "source": [
    "y = dl['HomeWin']  \n",
    "X = sm.add_constant(dl[['DF1', 'DD1']] )\n",
    "result = sm.OLS(y, X).fit()\n",
    "result.summary()"
   ]
  },
  {
   "cell_type": "markdown",
   "id": "f6606e75",
   "metadata": {},
   "source": [
    "- regress **home win** on the difference in number of elite home and visitor players by position (DF1, DD1). Add a constant to the predictors and use **Logit**. The purpose is to deterimine the impact each roster position has on home team success."
   ]
  },
  {
   "cell_type": "code",
   "execution_count": null,
   "id": "cc68bea3",
   "metadata": {},
   "outputs": [],
   "source": [
    "y = ds.WinPc\n",
    "y1 = ds.meanGF\n",
    "y2 = ds.meanGA\n",
    "x1 = ds.DF\n",
    "x2 = ds.DD\n",
    "\n",
    "f, axs = plt.subplots(2,3,figsize=(15,8))\n",
    "\n",
    "plt.subplot(2, 3, 1)\n",
    "plt.scatter(x1, y)\n",
    "plt.xlabel('DF')\n",
    "plt.ylabel('Win %')\n",
    "\n",
    "plt.subplot(2, 3, 2)\n",
    "plt.scatter(x1, y1)\n",
    "plt.ylabel('MeanGF')\n",
    "plt.xlabel('DF')\n",
    "\n",
    "plt.subplot(2, 3, 3)\n",
    "plt.scatter(x1, y2)\n",
    "plt.ylabel('MeanGA')\n",
    "plt.xlabel('DF')\n",
    "\n",
    "plt.subplot(2, 3, 4)\n",
    "plt.scatter(x2,y, color = 'r')\n",
    "plt.xlabel('DD')\n",
    "plt.ylabel('Win %')\n",
    "\n",
    "plt.subplot(2, 3, 5)\n",
    "plt.scatter(x2, y1, color = 'r')\n",
    "plt.ylabel('MeanGF')\n",
    "plt.xlabel('DD')\n",
    "\n",
    "plt.subplot(2, 3, 6)\n",
    "plt.scatter(x2, y2, color = 'r')\n",
    "plt.ylabel('MeanGA')\n",
    "plt.xlabel('DD')\n",
    "\n",
    "plt.tight_layout()\n",
    "\n",
    "plt.show()\n",
    "\n"
   ]
  },
  {
   "cell_type": "markdown",
   "id": "0294d5db",
   "metadata": {},
   "source": [
    "## season_game_level_analysis"
   ]
  },
  {
   "cell_type": "markdown",
   "id": "81255c52",
   "metadata": {},
   "source": [
    "#### $HomeWin = \\beta_{0} + \\beta_{1}DF_{1} + \\beta_{2}DF_{2} + \\beta_{3}DD_{1} + \\beta_{4}DD_{2} + e_{s,g}$"
   ]
  },
  {
   "cell_type": "markdown",
   "id": "eae4fe53",
   "metadata": {},
   "source": [
    "- merge season game data (dg) and season game roster (dy)."
   ]
  },
  {
   "cell_type": "code",
   "execution_count": null,
   "id": "dc8cd156",
   "metadata": {},
   "outputs": [],
   "source": [
    "dl = dg.merge(dy, on=['Season', 'GameNumber'], how='left')\n",
    "dl.head()"
   ]
  },
  {
   "cell_type": "markdown",
   "id": "8a5d7df9",
   "metadata": {},
   "source": [
    "- determine if the home or away team won the game."
   ]
  },
  {
   "cell_type": "code",
   "execution_count": null,
   "id": "5f742e73",
   "metadata": {},
   "outputs": [],
   "source": [
    "dl['WinTeam'] = dl.apply(lambda x: 'HOME' if x['GD'] > 0 else 'AWAY', axis=1)"
   ]
  },
  {
   "cell_type": "markdown",
   "id": "3bba85bf",
   "metadata": {},
   "source": [
    "- Calculate the difference between player quality per game for all positions with respect to home team ( Home Team - Visitor Team). There are 5 positions and 2 types of player quality. This will give us a total of 10 differenecs. "
   ]
  },
  {
   "cell_type": "code",
   "execution_count": null,
   "id": "f158818e",
   "metadata": {},
   "outputs": [],
   "source": [
    "dl.shape"
   ]
  },
  {
   "cell_type": "markdown",
   "id": "9daa7d20",
   "metadata": {},
   "source": [
    "- total of forwards and defensemen by team per game."
   ]
  },
  {
   "cell_type": "code",
   "execution_count": null,
   "id": "aaa61403",
   "metadata": {},
   "outputs": [],
   "source": [
    "dl['VF'] = dl['VF1'] + dl['VF2']\n",
    "dl['VD'] = dl['VD1'] + dl['VD2']\n",
    "dl['HF'] = dl['HF1'] + dl['HF2']\n",
    "dl['HD'] = dl['HD1'] + dl['HD2']"
   ]
  },
  {
   "cell_type": "markdown",
   "id": "a29e7104",
   "metadata": {},
   "source": [
    "- total of forwards and defensemen per game."
   ]
  },
  {
   "cell_type": "code",
   "execution_count": null,
   "id": "9cd5d02d",
   "metadata": {},
   "outputs": [],
   "source": [
    "y = dl['GD']  \n",
    "X = sm.add_constant(dl[['DF1', 'DD1', 'DF2', 'DD2']] )\n",
    "result = sm.OLS(y, X).fit()\n",
    "result.summary()"
   ]
  },
  {
   "cell_type": "markdown",
   "id": "69a6173b",
   "metadata": {},
   "source": [
    "## season_game_team_level_analysis"
   ]
  },
  {
   "cell_type": "markdown",
   "id": "0b17de0d",
   "metadata": {},
   "source": [
    "#### $Win = \\beta_{0} + \\beta_{1}F_{1} + \\beta_{2}F_{2} + \\beta_{3}D_{1} + \\beta_{4}D_{2} + e_{s,g,t}$"
   ]
  },
  {
   "cell_type": "markdown",
   "id": "829bc8f6",
   "metadata": {},
   "source": [
    "- use season game data (dg) and season game team roster (dx) to conduct season game team level analysis (dt)."
   ]
  },
  {
   "cell_type": "code",
   "execution_count": null,
   "id": "e70a05a6",
   "metadata": {},
   "outputs": [],
   "source": [
    "dg.head()"
   ]
  },
  {
   "cell_type": "code",
   "execution_count": null,
   "id": "a14bf939",
   "metadata": {},
   "outputs": [],
   "source": [
    "dt = dg.merge(dx, on=['Season', 'GameNumber'], how='left')\n",
    "dt.head()"
   ]
  },
  {
   "cell_type": "markdown",
   "id": "954656a5",
   "metadata": {},
   "source": [
    "- Sum up goals for and against by team per game and find the goal differential (GD) per game. Assign a value of 1 to the team that won the game. "
   ]
  },
  {
   "cell_type": "code",
   "execution_count": null,
   "id": "002760c2",
   "metadata": {},
   "outputs": [],
   "source": [
    "dt['GD'] = dt.apply(lambda x: (x['HGF'] - x['VGF']) if x['HTeamCode']== x['TeamCode'] else (x['VGF'] - x['HGF']), 1)\n",
    "dt['Win'] = dt.apply(lambda x: 1 if x['WinTeam']== x['TeamCode'] else 0, 1)\n",
    "dt['GF'] = dt.apply(lambda x: x['HGF'] if x['HTeamCode']== x['TeamCode'] else x['VGF'], 1)\n",
    "dt['GA'] = dt.apply(lambda x: x['HGF'] if x['HTeamCode']!= x['TeamCode'] else x['VGF'], 1)\n",
    "dt.head()"
   ]
  },
  {
   "cell_type": "code",
   "execution_count": null,
   "id": "91ceb55e",
   "metadata": {},
   "outputs": [],
   "source": [
    "dt['F'] = dt['F1'] + dt['F2']\n",
    "dt['D'] = dt['D1'] + dt['D2']"
   ]
  },
  {
   "cell_type": "markdown",
   "id": "cc6366dd",
   "metadata": {},
   "source": [
    "- display the difference of quality per position."
   ]
  },
  {
   "cell_type": "code",
   "execution_count": null,
   "id": "fe4f5a88",
   "metadata": {},
   "outputs": [],
   "source": [
    "y = dt['Win']  \n",
    "X = sm.add_constant(dt[['F1', 'D1', 'F2', 'D2']] )\n",
    "result = sm.OLS(y, X).fit()\n",
    "result.summary()"
   ]
  },
  {
   "cell_type": "markdown",
   "id": "223456cb",
   "metadata": {},
   "source": [
    "### scatter plots"
   ]
  },
  {
   "cell_type": "markdown",
   "id": "5613a75c",
   "metadata": {},
   "source": [
    "- display how team win percent, mean goals for and mean goals against are effected by the difference in forwards and defensemen quality (DF)."
   ]
  },
  {
   "cell_type": "code",
   "execution_count": null,
   "id": "a600e0bb",
   "metadata": {},
   "outputs": [],
   "source": [
    "ds['meanGF'] = ds['GF']/ ds['GP']\n",
    "ds['meanGA'] = ds['GA']/ ds['GP']"
   ]
  },
  {
   "cell_type": "code",
   "execution_count": null,
   "id": "52e395c9",
   "metadata": {},
   "outputs": [],
   "source": [
    "ds.shape"
   ]
  },
  {
   "cell_type": "code",
   "execution_count": null,
   "id": "e9377136",
   "metadata": {},
   "outputs": [],
   "source": [
    "ds.describe()"
   ]
  },
  {
   "cell_type": "markdown",
   "id": "26751d22",
   "metadata": {},
   "source": [
    "### estimate roster model "
   ]
  },
  {
   "cell_type": "markdown",
   "id": "9a730e10",
   "metadata": {},
   "source": [
    "- regress **team win percent** on the mean of players by position and quality (predictor variables). Add a constant to the predictors and use **OLS**. The purpose is to deterimine the impact each roster position has on team winning percent."
   ]
  },
  {
   "cell_type": "code",
   "execution_count": null,
   "id": "133360db",
   "metadata": {},
   "outputs": [],
   "source": [
    "y = ds['WinPc']  \n",
    "X = sm.add_constant(ds[['MeanF1', 'MeanD1', 'MeanF2', 'MeanD2']] )\n",
    "result = sm.OLS(y, X).fit()\n",
    "result.summary()"
   ]
  },
  {
   "cell_type": "markdown",
   "id": "080e7680",
   "metadata": {},
   "source": [
    "- regress **team win percent** on the mean of top forwards. Add a constant to the predictors and use **OLS**. The purpose is to deterimine the impact each roster position has on team winning percent."
   ]
  },
  {
   "cell_type": "code",
   "execution_count": null,
   "id": "eb92d138",
   "metadata": {},
   "outputs": [],
   "source": [
    "y = ds['WinPc']  \n",
    "X = sm.add_constant(ds[['MeanF1']] )\n",
    "result = sm.OLS(y, X).fit()\n",
    "result.summary()"
   ]
  },
  {
   "cell_type": "markdown",
   "id": "2a3b5240",
   "metadata": {},
   "source": [
    "- regress **team win percent** on the mean of players by position and quality (predictor variables). Add a constant to the predictors and use **Logit**.  The purpose is to deterimine the impact each roster position has on team winning percent."
   ]
  },
  {
   "cell_type": "code",
   "execution_count": null,
   "id": "a30b5074",
   "metadata": {},
   "outputs": [],
   "source": [
    "y = ds['WinPc']  \n",
    "X = sm.add_constant(ds[['MeanF1', 'MeanD1', 'MeanF2', 'MeanD2']] )\n",
    "result = sm.Logit(y, X).fit()\n",
    "result.summary()"
   ]
  },
  {
   "cell_type": "markdown",
   "id": "6a6e9e05",
   "metadata": {},
   "source": [
    "- regress **team win percent** on the mean of top forwards. Add a constant to the predictors and use **Logit**. The purpose is to deterimine the impact each roster position has on team winning percent."
   ]
  },
  {
   "cell_type": "code",
   "execution_count": null,
   "id": "15997b3a",
   "metadata": {},
   "outputs": [],
   "source": [
    "y = ds['WinPc']  \n",
    "X = sm.add_constant(ds[['MeanF1']] )\n",
    "result = sm.Logit(y, X).fit()\n",
    "result.summary()"
   ]
  },
  {
   "cell_type": "markdown",
   "id": "edf79f53",
   "metadata": {},
   "source": [
    "- regress **team win percent** on the difference in the mean quality of forwards (DF). Add a constant to the predictors and use **OLS**. The purpose is to deterimine the impact each roster positi0n has on team win percent."
   ]
  },
  {
   "cell_type": "code",
   "execution_count": null,
   "id": "be3a9d8a",
   "metadata": {},
   "outputs": [],
   "source": [
    "y = ds['WinPc']  \n",
    "X = sm.add_constant(ds[['DF']] )\n",
    "result = sm.OLS(y, X).fit()\n",
    "result.summary()"
   ]
  },
  {
   "cell_type": "markdown",
   "id": "398fde06",
   "metadata": {},
   "source": [
    "- regress **team win percent** on the difference in the mean quality of forwards (DF). Add a constant to the predictors and use **Logit**. The purpose is to deterimine the impact each roster positi0n has on team win percent."
   ]
  },
  {
   "cell_type": "code",
   "execution_count": null,
   "id": "6620255e",
   "metadata": {},
   "outputs": [],
   "source": [
    "y = dt['Win']  \n",
    "X = sm.add_constant(dt[['DF']] )\n",
    "result = sm.Logit(y, X).fit()\n",
    "result.summary()"
   ]
  },
  {
   "cell_type": "markdown",
   "id": "357350f1",
   "metadata": {},
   "source": [
    "- regress **win** on the differential of defensemen per team. Add a constant to the predictors and use **OLS**."
   ]
  },
  {
   "cell_type": "code",
   "execution_count": null,
   "id": "05077127",
   "metadata": {},
   "outputs": [],
   "source": [
    "y = dt['Win']  \n",
    "X = sm.add_constant(dt[['DD']] )\n",
    "result = sm.OLS(y, X).fit()\n",
    "result.summary()"
   ]
  },
  {
   "cell_type": "markdown",
   "id": "0661c9cd",
   "metadata": {},
   "source": [
    "- regress **win** on the differential of defensemen per team. Add a constant to the predictors and use **Logit**."
   ]
  },
  {
   "cell_type": "code",
   "execution_count": null,
   "id": "aa03d610",
   "metadata": {},
   "outputs": [],
   "source": [
    "y = dt['Win']  \n",
    "X = sm.add_constant(dt[['DD']] )\n",
    "result = sm.Logit(y, X).fit()\n",
    "result.summary()"
   ]
  },
  {
   "cell_type": "markdown",
   "id": "ba460d24",
   "metadata": {},
   "source": [
    "- regress **goal differential** on the differential of forwards and defensemen per team. Add a constant to the predictors and use **OLS**."
   ]
  },
  {
   "cell_type": "code",
   "execution_count": null,
   "id": "c0ae21a4",
   "metadata": {},
   "outputs": [],
   "source": [
    "y = dt['GD']\n",
    "X = sm.add_constant(dt[['DF', 'DD']] )\n",
    "result = sm.OLS(y, X).fit()\n",
    "result.summary()"
   ]
  },
  {
   "cell_type": "markdown",
   "id": "013bce91",
   "metadata": {},
   "source": [
    "- regress **goal differential** on the differential of forwards per team. Add a constant to the predictors and use **OLS**."
   ]
  },
  {
   "cell_type": "code",
   "execution_count": null,
   "id": "940b0c38",
   "metadata": {},
   "outputs": [],
   "source": [
    "y = dt['GD']  \n",
    "X = sm.add_constant(dt[['DF']] )\n",
    "result = sm.OLS(y, X).fit()\n",
    "result.summary()"
   ]
  },
  {
   "cell_type": "markdown",
   "id": "ddac6cf5",
   "metadata": {},
   "source": [
    "- regress **goal differential** on the differential of defensemen per team. Add a constant to the predictors and use **OLS**."
   ]
  },
  {
   "cell_type": "code",
   "execution_count": null,
   "id": "621917e6",
   "metadata": {},
   "outputs": [],
   "source": [
    "y = dt['GD']  \n",
    "X = sm.add_constant(dt[['DD']] )\n",
    "result = sm.OLS(y, X).fit()\n",
    "result.summary()"
   ]
  },
  {
   "cell_type": "markdown",
   "id": "88820218",
   "metadata": {},
   "source": [
    "- regress **goals for ** on the differential of forwards per team. Add a constant to the predictors and use **OLS**."
   ]
  },
  {
   "cell_type": "code",
   "execution_count": null,
   "id": "2a13304e",
   "metadata": {},
   "outputs": [],
   "source": [
    "dt['DF'] = dt['F1'] - dt['F2']\n",
    "dt['DD'] = dt['D1'] - dt['D2']"
   ]
  },
  {
   "cell_type": "code",
   "execution_count": null,
   "id": "edf53903",
   "metadata": {},
   "outputs": [],
   "source": [
    "y = ds['WinPc']  \n",
    "X = sm.add_constant(ds[['DF']] )\n",
    "result = sm.Logit(y, X).fit()\n",
    "result.summary()"
   ]
  },
  {
   "cell_type": "markdown",
   "id": "e11d1fb5",
   "metadata": {},
   "source": [
    "- regress **team win percent** on the difference in the mean quality of defensemen (DD). Add a constant to the predictors and use **OLS**. The purpose is to deterimine the impact each roster positi0n has on team win percent."
   ]
  },
  {
   "cell_type": "code",
   "execution_count": null,
   "id": "097a46bf",
   "metadata": {},
   "outputs": [],
   "source": [
    "y = ds['WinPc']  \n",
    "X = sm.add_constant(ds[['DD']] )\n",
    "result = sm.OLS(y, X).fit()\n",
    "result.summary()"
   ]
  },
  {
   "cell_type": "markdown",
   "id": "b8453703",
   "metadata": {},
   "source": [
    "- regress **team win percent** on the difference in the mean quality of defensemen (DD). Add a constant to the predictors and use **Logit**. The purpose is to deterimine the impact each roster positi0n has on team win percent."
   ]
  },
  {
   "cell_type": "code",
   "execution_count": null,
   "id": "53708c28",
   "metadata": {},
   "outputs": [],
   "source": [
    "y = ds['WinPc']  \n",
    "X = sm.add_constant(ds[['DD']] )\n",
    "result = sm.Logit(y, X).fit()\n",
    "result.summary()"
   ]
  },
  {
   "cell_type": "markdown",
   "id": "29ed0e29",
   "metadata": {},
   "source": [
    "- regress **mean goals for** on the mean of players by position and quality (predictor variables). Add a constant to the predictors and use **OLS**. The purpose is to deterimine the impact each roster position has on team winning percent."
   ]
  },
  {
   "cell_type": "code",
   "execution_count": null,
   "id": "2447fd97",
   "metadata": {},
   "outputs": [],
   "source": [
    "y = ds['meanGF']  \n",
    "X = sm.add_constant(ds[['MeanF1', 'MeanD1', 'MeanF2', 'MeanD2']] )\n",
    "result = sm.OLS(y, X).fit()\n",
    "result.summary()"
   ]
  },
  {
   "cell_type": "markdown",
   "id": "a4c8f59a",
   "metadata": {},
   "source": [
    "- regress **mean goals against** on the mean of players by position and quality (predictor variables). Add a constant to the predictors and use **OLS**. The purpose is to deterimine the impact each roster position has on team winning percent."
   ]
  },
  {
   "cell_type": "code",
   "execution_count": null,
   "id": "9ea25c55",
   "metadata": {},
   "outputs": [],
   "source": [
    "y = ds['meanGA']  \n",
    "X = sm.add_constant(ds[['MeanF1', 'MeanD1', 'MeanF2', 'MeanD2']] )\n",
    "result = sm.OLS(y, X).fit()\n",
    "result.summary()"
   ]
  },
  {
   "cell_type": "markdown",
   "id": "31061fb2",
   "metadata": {},
   "source": [
    "- regress **mean goals for** on the differential of players by position and quality (predictor variables). Add a constant to the predictors and use **OLS**. The purpose is to deterimine the impact each roster position has on team winning percent."
   ]
  },
  {
   "cell_type": "code",
   "execution_count": null,
   "id": "95596f1d",
   "metadata": {},
   "outputs": [],
   "source": [
    "y = ds['meanGF']  \n",
    "X = sm.add_constant(ds[['DF', 'DD']] )\n",
    "result = sm.OLS(y, X).fit()\n",
    "result.summary()"
   ]
  },
  {
   "cell_type": "markdown",
   "id": "c062dca2",
   "metadata": {},
   "source": [
    "- regress **mean goals against** on the differential of players by position and quality (predictor variables). Add a constant to the predictors and use **OLS**. The purpose is to deterimine the impact each roster position has on team winning percent."
   ]
  },
  {
   "cell_type": "code",
   "execution_count": null,
   "id": "ab5058ec",
   "metadata": {},
   "outputs": [],
   "source": [
    "y = dt['GF']  \n",
    "X = sm.add_constant(dt[['DF']] )\n",
    "result = sm.OLS(y, X).fit()\n",
    "result.summary()"
   ]
  },
  {
   "cell_type": "markdown",
   "id": "4064a7d4",
   "metadata": {},
   "source": [
    "- regress **goals for** on the differential of defensemen per team. Add a constant to the predictors and use **OLS**."
   ]
  },
  {
   "cell_type": "code",
   "execution_count": null,
   "id": "95f0603a",
   "metadata": {},
   "outputs": [],
   "source": [
    "y = dt['GF']  \n",
    "X = sm.add_constant(dt[['DD']] )\n",
    "result = sm.OLS(y, X).fit()\n",
    "result.summary()"
   ]
  },
  {
   "cell_type": "markdown",
   "id": "8cd64ddb",
   "metadata": {},
   "source": [
    "- regress **goals against ** on the differential of forwards per team. Add a constant to the predictors and use **OLS**."
   ]
  },
  {
   "cell_type": "code",
   "execution_count": null,
   "id": "1a831655",
   "metadata": {},
   "outputs": [],
   "source": [
    "y = dt['GA']  \n",
    "X = sm.add_constant(dt[['DF']] )\n",
    "result = sm.OLS(y, X).fit()\n",
    "result.summary()"
   ]
  },
  {
   "cell_type": "markdown",
   "id": "39f6e744",
   "metadata": {},
   "source": [
    "- regress **goals against** on the differential of defensemen per team. Add a constant to the predictors and use **OLS**."
   ]
  },
  {
   "cell_type": "code",
   "execution_count": null,
   "id": "60c489e6",
   "metadata": {},
   "outputs": [],
   "source": [
    "y = ds['meanGA']  \n",
    "X = sm.add_constant(ds[['DF', 'DD']] )\n",
    "result = sm.OLS(y, X).fit()\n",
    "result.summary()"
   ]
  },
  {
   "cell_type": "code",
   "execution_count": null,
   "id": "20c493da",
   "metadata": {},
   "outputs": [],
   "source": [
    "dy = dx"
   ]
  },
  {
   "cell_type": "code",
   "execution_count": null,
   "id": "2f75e6ee",
   "metadata": {},
   "outputs": [],
   "source": [
    "dy.loc[dy.groupby('GameNumber',as_index=False).head(1).index,'A'] = 1\n",
    "dy = dy.fillna(2)"
   ]
  },
  {
   "cell_type": "code",
   "execution_count": null,
   "id": "f9e7caf3",
   "metadata": {},
   "outputs": [],
   "source": [
    "dv['TeamWin'] =  dv.apply(lambda x: 1 if x['TeamCode']==x['WinTeam'] else 0, 1)\n",
    "dv['TeamLos'] =  dv.apply(lambda x: 1 if x['TeamCode']!=x['WinTeam'] else 0, 1)\n",
    "dv.head()"
   ]
  },
  {
   "cell_type": "markdown",
   "id": "0bf2fa17",
   "metadata": {},
   "source": [
    "- display games played, games won, games loss, goals for and goals against by team for the season."
   ]
  },
  {
   "cell_type": "code",
   "execution_count": null,
   "id": "17ac65aa",
   "metadata": {},
   "outputs": [],
   "source": [
    "dv['GP'] = dv.groupby(['Season', 'Position', 'TeamCode'])['GameNumber'].transform('count')\n",
    "dv['GW'] = dv.groupby(['Season', 'Position', 'WinTeam'])['TeamWin'].transform('sum')\n",
    "dv['GL'] = dv.groupby(['Season', 'Position', 'LossTeam'])['TeamLos'].transform('sum')\n",
    "dv['GF'] = dv.groupby(['Season', 'Position', 'TeamCode'])['GF'].transform('sum')\n",
    "dv['GA'] = dv.groupby(['Season', 'Position', 'TeamCode'])['GA'].transform('sum')\n",
    "dv.head()"
   ]
  },
  {
   "cell_type": "markdown",
   "id": "dddac7a1",
   "metadata": {},
   "source": [
    "- create columns with the mean ranking for forward and defenseman by team per game."
   ]
  },
  {
   "cell_type": "code",
   "execution_count": null,
   "id": "c07057c6",
   "metadata": {},
   "outputs": [],
   "source": [
    "dv['Rank_F'] = dv.apply(lambda x: x['Rank'] if x['Position']=='F' else np.NaN, 1)\n",
    "dv['Rank_D'] = dv.apply(lambda x: x['Rank'] if x['Position']=='D' else np.NaN, 1)\n",
    "dv['Rank_F'] = dv.groupby(['Season','GameNumber', 'TeamCode'])['Rank_F'].apply(lambda x: x.ffill().bfill())\n",
    "dv['Rank_D'] = dv.groupby(['Season','GameNumber', 'TeamCode'])['Rank_D'].apply(lambda x: x.ffill().bfill())\n",
    "dv.head()"
   ]
  },
  {
   "cell_type": "markdown",
   "id": "907d4667",
   "metadata": {},
   "source": [
    "- compute the mean per position by team for the season."
   ]
  },
  {
   "cell_type": "code",
   "execution_count": null,
   "id": "60162ac0",
   "metadata": {},
   "outputs": [],
   "source": [
    "dv['Mean_F']= dv.groupby(['Season', 'TeamCode'])['Rank_F'].transform('mean')\n",
    "dv['Mean_D']= dv.groupby(['Season', 'TeamCode'])['Rank_D'].transform('mean')\n",
    "dv.head()"
   ]
  },
  {
   "cell_type": "markdown",
   "id": "2e8c13d4",
   "metadata": {},
   "source": [
    "- display the quantity of wins and losses per team ( roster of 12 forwards and 6 defensemen)"
   ]
  },
  {
   "cell_type": "code",
   "execution_count": null,
   "id": "15b87e23",
   "metadata": {},
   "outputs": [],
   "source": [
    "dv['L'] = dv.apply(lambda x: x['GL'] if x['TeamCode']== x['LossTeam'] else (x['GP'] - x['GW']), 1)\n",
    "dv['W'] = dv.apply(lambda x: x['GW'] if x['TeamCode']== x['WinTeam'] else (x['GP'] - x['GL']), 1)\n",
    "dv.head()"
   ]
  },
  {
   "cell_type": "markdown",
   "id": "c993f798",
   "metadata": {},
   "source": [
    "- compute win and loss percent by team. Drop duplicate observations."
   ]
  },
  {
   "cell_type": "code",
   "execution_count": null,
   "id": "c671dfee",
   "metadata": {},
   "outputs": [],
   "source": [
    "dv = dv[['Season', 'TeamCode', 'GP', 'L', 'W', 'GF', 'GA', 'Mean_F', 'Mean_D']]\n",
    "dv = dv.drop_duplicates(['Season', 'TeamCode'])\n",
    "dv['WinPc'] = dv['W']/ dv['GP']\n",
    "dv['LossPc'] = dv['L']/ dv['GP']\n",
    "\n",
    "dv = dv[['Season', 'TeamCode', 'GP','W', 'L', 'GF', 'GA', 'WinPc', 'LossPc', 'Mean_F', 'Mean_D']]\n",
    "dv.head()"
   ]
  },
  {
   "cell_type": "markdown",
   "id": "a2cc7a0b",
   "metadata": {},
   "source": [
    "- rank teams based on win percent, mean forwards and mean defensemen. "
   ]
  },
  {
   "cell_type": "code",
   "execution_count": null,
   "id": "c35a9bf4",
   "metadata": {},
   "outputs": [],
   "source": [
    "y = dl['HomeWin']  \n",
    "X = sm.add_constant(dl[['DF1', 'DD1']] )\n",
    "result = sm.Logit(y, X).fit()\n",
    "result.summary()"
   ]
  },
  {
   "cell_type": "markdown",
   "id": "8290d2a9",
   "metadata": {},
   "source": [
    "- regress **home win** on the difference in number of secondary quality home and visitor players by position (DF2, DD2). Add a constant to the predictors and use **Logit**. The purpose is to deterimine the impact each roster position has on home team success."
   ]
  },
  {
   "cell_type": "code",
   "execution_count": null,
   "id": "0ced8250",
   "metadata": {},
   "outputs": [],
   "source": [
    "dl['F'] = dl['VF'] + dl['HF']\n",
    "dl['D'] = dl['VD'] + dl['HD']\n",
    "dl.head()"
   ]
  },
  {
   "cell_type": "markdown",
   "id": "9ec43b74",
   "metadata": {},
   "source": [
    "- **keep games with 12 forwards and 6 defensemen per team.**"
   ]
  },
  {
   "cell_type": "code",
   "execution_count": null,
   "id": "b8366393",
   "metadata": {},
   "outputs": [],
   "source": [
    "dl = dl[((dl['VF'] == 12) & (dl['VD'] == 6) & (dl['HF'] == 12) & (dl['HD'] == 6))]"
   ]
  },
  {
   "cell_type": "code",
   "execution_count": null,
   "id": "f7245932",
   "metadata": {},
   "outputs": [],
   "source": [
    "y = dl['HomeWin']  \n",
    "X = sm.add_constant(dl[['DF2', 'DD2']] )\n",
    "result = sm.Logit(y, X).fit()\n",
    "result.summary()"
   ]
  },
  {
   "cell_type": "markdown",
   "id": "af9464d8",
   "metadata": {},
   "source": [
    "- regress **goal differential** on the difference in number of home and visitor players by position and quality (DF1, DF2, DD1, DD2). Add a constant to the predictors and use OLS. The purpose is to deterimine the impact each roster position has on goal differential."
   ]
  }
 ],
 "metadata": {},
 "nbformat": 4,
 "nbformat_minor": 5
}
