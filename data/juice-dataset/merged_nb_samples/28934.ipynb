{
 "cells": [
  {
   "cell_type": "markdown",
   "id": "4aa16d6a",
   "metadata": {},
   "source": [
    "## Introduction\n",
    "\n",
    "This is a high-level introduction to hashing. You should walk away knowing what the following terms mean: *hash key*, *hash function*, *collision*, *linear probing*, *chaining*."
   ]
  },
  {
   "cell_type": "code",
   "execution_count": null,
   "id": "d00e4aff",
   "metadata": {},
   "outputs": [],
   "source": [
    "import numpy as np\n",
    "from itertools import islice, cycle"
   ]
  },
  {
   "cell_type": "code",
   "execution_count": null,
   "id": "47a43373",
   "metadata": {},
   "outputs": [],
   "source": [
    "def hasher(key, num_slots):\n",
    "    '''Simple hashing function that returns hash value.\n",
    "    Input:\n",
    "        key: (int or str) thing to hash\n",
    "        num_slots: (int) number of memory slots to allocate\n",
    "    Output:\n",
    "        (int) hash value\n",
    "    '''\n",
    "    \n",
    "    assert type(key) == int or type(key) == str, \"key must be an integer or string!\"\n",
    "    \n",
    "    if type(key) == int:\n",
    "        return key % num_slots\n",
    "    elif type(key) == str:\n",
    "        # sum the ASCII values to convert string to integer\n",
    "        str2int = [ord(char) for char in list(key)]\n",
    "        return np.sum(str2int) % num_slots"
   ]
  },
  {
   "cell_type": "code",
   "execution_count": null,
   "id": "8eeadf13",
   "metadata": {},
   "outputs": [],
   "source": [
    "def answer(question):\n",
    "    '''return answer to specific question'''\n",
    "    \n",
    "    if question == 1:\n",
    "        print('We get a collision!')\n",
    "    elif question == 2:\n",
    "        print('1. change modulo number to a prime number')\n",
    "        print('2. increase modulo number to create more buckets')\n",
    "        print('3. extend hashing by adding additional functionality')\n",
    "    elif question == 3:\n",
    "        print('A prime is divisible only by itself and 1 so you do not have to worry about common factors.')\n",
    "    elif question == 4:\n",
    "        print('1. linear probing')\n",
    "        print('2. chaining')"
   ]
  },
  {
   "cell_type": "markdown",
   "id": "65458bdf",
   "metadata": {},
   "source": [
    "---"
   ]
  },
  {
   "cell_type": "markdown",
   "id": "30ee4b2a",
   "metadata": {},
   "source": [
    "## A LITTLE ABOUT HASHING\n",
    "\n",
    "**Hashing:** to convert a key to a numeric value with the goal of saving or returning a specific record in an array, table, database, etc. \n",
    "\n",
    "A **key** can be any unique value like a string or integer, for example. The numeric value returned is called a **hash key**, which represents the position to either store or lookup an item in a table. The hash key ranges between 0 and n-1. In this case, *n* is the maximum number of slots (aka buckets) in the array, table, or database.\n",
    "\n",
    "The process of converting a key to a hash key is known as a **hash function**. It is used whenever access to the array, table, or database is needed."
   ]
  },
  {
   "cell_type": "markdown",
   "id": "8ae27bf4",
   "metadata": {},
   "source": [
    "## DISCLAIMER\n",
    "\n",
    "This is only an introduction to hashing. It's a jumping off point really. There are so many cool things you can do with it. But for now just get the general idea."
   ]
  },
  {
   "cell_type": "markdown",
   "id": "b9029b1e",
   "metadata": {},
   "source": [
    "#### EXAMPLE #1"
   ]
  },
  {
   "cell_type": "code",
   "execution_count": null,
   "id": "05c1d7b6",
   "metadata": {},
   "outputs": [],
   "source": [
    "eighth = hasher('hello world+', 8)\n",
    "eighth"
   ]
  },
  {
   "cell_type": "code",
   "execution_count": null,
   "id": "2b272e28",
   "metadata": {},
   "outputs": [],
   "source": [
    "table[eighth] = 8\n",
    "table"
   ]
  },
  {
   "cell_type": "markdown",
   "id": "396acd7a",
   "metadata": {},
   "source": [
    "## QUESTION #1\n",
    "\n",
    "Now that we've filled all buckets in our table, what happens if we try to add another value?"
   ]
  },
  {
   "cell_type": "code",
   "execution_count": null,
   "id": "fd387160",
   "metadata": {},
   "outputs": [],
   "source": [
    "answer(question=1)"
   ]
  },
  {
   "cell_type": "markdown",
   "id": "d4a710b8",
   "metadata": {},
   "source": [
    "A collision happens when two different keys map to the same bucket. This is usually a problem, though not always. In this case, it is. "
   ]
  },
  {
   "cell_type": "markdown",
   "id": "8cfa09dc",
   "metadata": {},
   "source": [
    "## QUESTION #2\n",
    "\n",
    "So what do we do about it?"
   ]
  },
  {
   "cell_type": "code",
   "execution_count": null,
   "id": "8ec7b03d",
   "metadata": {},
   "outputs": [],
   "source": [
    "answer(question=2)"
   ]
  },
  {
   "cell_type": "markdown",
   "id": "e6f1c12d",
   "metadata": {},
   "source": [
    "## QUESTION #3\n",
    "\n",
    "Why would changing the modulo number to a prime help avoid collisions?"
   ]
  },
  {
   "cell_type": "code",
   "execution_count": null,
   "id": "69115f84",
   "metadata": {},
   "outputs": [],
   "source": [
    "answer(question=3)"
   ]
  },
  {
   "cell_type": "markdown",
   "id": "7f60d7b2",
   "metadata": {},
   "source": [
    "#### EXAMPLE #2"
   ]
  },
  {
   "cell_type": "code",
   "execution_count": null,
   "id": "b8e7bf79",
   "metadata": {},
   "outputs": [],
   "source": [
    "for i in range(8,88,8):\n",
    "    print('index: {:2} | hash: {}'.format(i, hasher('hello world+', i)))"
   ]
  },
  {
   "cell_type": "markdown",
   "id": "735021c8",
   "metadata": {},
   "source": [
    "Yikes! That's a lot of collisions. "
   ]
  },
  {
   "cell_type": "code",
   "execution_count": null,
   "id": "49559542",
   "metadata": {},
   "outputs": [],
   "source": [
    "for i in [7,11,13,17,19,23,29,31,37,41]:\n",
    "    print('index: {:2} | hash: {}'.format(i, hasher('hello world+', i)))"
   ]
  },
  {
   "cell_type": "markdown",
   "id": "d9893663",
   "metadata": {},
   "source": [
    "We still get two collisions in this case but there far fewer of them. We could easily correct this by using larger primes.\n",
    "\n",
    "**Side note:** you should clearly see how this relates to the **dictionary** data structure, which is nothing more than a hash table. It also explains why order is not **guaranteed**. If a collision occurs, the hash function is recomputed with a larger prime to create more memory slots (aka buckets). Therefore, a new hash function leads to new indices.  "
   ]
  },
  {
   "cell_type": "markdown",
   "id": "66e5f106",
   "metadata": {},
   "source": [
    "#### EXAMPLE #3"
   ]
  },
  {
   "cell_type": "code",
   "execution_count": null,
   "id": "9bf435eb",
   "metadata": {},
   "outputs": [],
   "source": [
    "mydict = {'a':1, 'b':2, 'c':3}"
   ]
  },
  {
   "cell_type": "code",
   "execution_count": null,
   "id": "0069f61b",
   "metadata": {},
   "outputs": [],
   "source": [
    "# here order is guaranteed\n",
    "for _ in range(3):\n",
    "    for k,v in mydict.items():\n",
    "        print(k,v)\n",
    "    print('---')"
   ]
  },
  {
   "cell_type": "code",
   "execution_count": null,
   "id": "754ff496",
   "metadata": {},
   "outputs": [],
   "source": [
    "# let's add keys and values\n",
    "mydict['d'] = 'o'\n",
    "for k,v in mydict.items():\n",
    "    print(k,v)\n",
    "print('\\n---\\n')\n",
    "\n",
    "mydict['e'] = 'm'\n",
    "for k,v in mydict.items():\n",
    "    print(k,v)\n",
    "print('\\n---\\n')\n",
    "\n",
    "mydict['f'] = 'g'\n",
    "for k,v in mydict.items():\n",
    "    print(k,v)"
   ]
  },
  {
   "cell_type": "markdown",
   "id": "ff71f08e",
   "metadata": {},
   "source": [
    "Notice the hash table (and order) was recomputed everytime we added a key?"
   ]
  },
  {
   "cell_type": "markdown",
   "id": "bf47130c",
   "metadata": {},
   "source": [
    "## QUESTION #4\n",
    "\n",
    "Can you think of a way to address collisions without resorting the methods above?"
   ]
  },
  {
   "cell_type": "code",
   "execution_count": null,
   "id": "aa7c1829",
   "metadata": {},
   "outputs": [],
   "source": [
    "answer(question=4)"
   ]
  },
  {
   "cell_type": "markdown",
   "id": "da3bdc91",
   "metadata": {},
   "source": [
    "## EXTEND HASH FUNCTION\n",
    "\n",
    "Great. Now let's discuss some ways to extend our hashing function to handle collisions."
   ]
  },
  {
   "cell_type": "markdown",
   "id": "85edea2e",
   "metadata": {},
   "source": [
    "#### LINEAR PROBING\n",
    "\n",
    "The idea of linear probing is simple. When a collision occurs, try the next index. If it's empty, is it. If not, try the next and the next and the next until you find one that works."
   ]
  },
  {
   "cell_type": "code",
   "execution_count": null,
   "id": "12af78f4",
   "metadata": {},
   "outputs": [],
   "source": [
    "def updater(table, ix, value):\n",
    "    '''Runs the linear search.\n",
    "    \n",
    "    Input: \n",
    "        table: numpy array initialized with all zeros the size of num_slots\n",
    "        ix: (int) initial index to try\n",
    "        value: (int) value to store\n",
    "    '''\n",
    "    while True:\n",
    "        if np.all(table) != 0:\n",
    "            print('all slots taken')\n",
    "            break\n",
    "        else:\n",
    "            if table[ix] == 0:\n",
    "                table[ix] = value\n",
    "                break\n",
    "            else:\n",
    "                print('{} taken, linear searching...'.format(int(ix)))\n",
    "                if ix+1 == table.size:  ## reset index if ix   \n",
    "                    ix = 0               ## is last index value\n",
    "                else:\n",
    "                    ix += 1        \n",
    "    return table"
   ]
  },
  {
   "cell_type": "code",
   "execution_count": null,
   "id": "ea8fd102",
   "metadata": {},
   "outputs": [],
   "source": [
    "def linear_probe_hasher(table, value, key, num_slots):\n",
    "    '''\n",
    "    Input:\n",
    "        table: numpy array initialized with all zeros the size of num_slots\n",
    "        value: (int) value to store\n",
    "        key: (int or str) thing to hash\n",
    "        num_slots: (int) number of memory slots to allocate\n",
    "    Output:\n",
    "        (int) hash value\n",
    "    '''\n",
    "    \n",
    "    assert len(table) == num_slots, \"your table length does not match the number of slots!\"\n",
    "    assert type(key) == int or type(key) == str, \"key must be an integer or string!\"\n",
    "    \n",
    "    if type(key) == int:\n",
    "        idx = key % num_slots\n",
    "        return updater(table2, idx, value)\n",
    "    elif type(key) == str:\n",
    "        # sum the ASCII values to convert string to integer\n",
    "        str2int = [ord(char) for char in list(key)]\n",
    "        idx = np.sum(str2int) % num_slots\n",
    "        return updater(table2, idx, 1)"
   ]
  },
  {
   "cell_type": "markdown",
   "id": "a6f61c10",
   "metadata": {},
   "source": [
    "#### EXAMPLE #4"
   ]
  },
  {
   "cell_type": "code",
   "execution_count": null,
   "id": "947b0160",
   "metadata": {},
   "outputs": [],
   "source": [
    "table2 = np.zeros(5).astype('int')\n",
    "table2"
   ]
  },
  {
   "cell_type": "code",
   "execution_count": null,
   "id": "1c3c79d7",
   "metadata": {},
   "outputs": [],
   "source": [
    "# initial position\n",
    "hasher(key=99, num_slots=5)"
   ]
  },
  {
   "cell_type": "code",
   "execution_count": null,
   "id": "7daacb5a",
   "metadata": {},
   "outputs": [],
   "source": [
    "linear_probe_hasher(table2, value=1, key=99, num_slots=5)"
   ]
  },
  {
   "cell_type": "code",
   "execution_count": null,
   "id": "3efe91a5",
   "metadata": {},
   "outputs": [],
   "source": [
    "# let's purposely choose a collision\n",
    "hasher(key=94, num_slots=5)"
   ]
  },
  {
   "cell_type": "code",
   "execution_count": null,
   "id": "e8f0953c",
   "metadata": {},
   "outputs": [],
   "source": [
    "linear_probe_hasher(table2, value=2, key=94, num_slots=5)"
   ]
  },
  {
   "cell_type": "code",
   "execution_count": null,
   "id": "20a0474b",
   "metadata": {},
   "outputs": [],
   "source": [
    "# another collision\n",
    "hasher(key=94, num_slots=5)"
   ]
  },
  {
   "cell_type": "code",
   "execution_count": null,
   "id": "6f2ffac7",
   "metadata": {},
   "outputs": [],
   "source": [
    "linear_probe_hasher(table2, value=3, key=94, num_slots=5)"
   ]
  },
  {
   "cell_type": "code",
   "execution_count": null,
   "id": "a0755c36",
   "metadata": {},
   "outputs": [],
   "source": [
    "linear_probe_hasher(table2, value=4, key=94, num_slots=5)"
   ]
  },
  {
   "cell_type": "code",
   "execution_count": null,
   "id": "b4c1e999",
   "metadata": {},
   "outputs": [],
   "source": [
    "linear_probe_hasher(table2, value=5, key=94, num_slots=5)"
   ]
  },
  {
   "cell_type": "markdown",
   "id": "670a406c",
   "metadata": {},
   "source": [
    "#### CHAINING\n",
    "Chaining uses linked lists to append values in order when collisions occur."
   ]
  },
  {
   "cell_type": "code",
   "execution_count": null,
   "id": "1a09cc0b",
   "metadata": {},
   "outputs": [],
   "source": [
    "table[third] = 3\n",
    "table"
   ]
  },
  {
   "cell_type": "code",
   "execution_count": null,
   "id": "a74cc823",
   "metadata": {},
   "outputs": [],
   "source": [
    "fourth = hasher('18', 8)\n",
    "fourth"
   ]
  },
  {
   "cell_type": "code",
   "execution_count": null,
   "id": "4cfb9954",
   "metadata": {},
   "outputs": [],
   "source": [
    "table[fourth] = 4\n",
    "table"
   ]
  },
  {
   "cell_type": "code",
   "execution_count": null,
   "id": "d41bee5a",
   "metadata": {},
   "outputs": [],
   "source": [
    "fifth = hasher('no', 8)\n",
    "fifth"
   ]
  },
  {
   "cell_type": "code",
   "execution_count": null,
   "id": "be1db1a8",
   "metadata": {},
   "outputs": [],
   "source": [
    "table[fifth] = 5\n",
    "table"
   ]
  },
  {
   "cell_type": "code",
   "execution_count": null,
   "id": "346bc2a9",
   "metadata": {},
   "outputs": [],
   "source": [
    "sixth = hasher(20, 8)\n",
    "sixth"
   ]
  },
  {
   "cell_type": "code",
   "execution_count": null,
   "id": "b2004fa4",
   "metadata": {},
   "outputs": [],
   "source": [
    "table[sixth] = 6\n",
    "table"
   ]
  },
  {
   "cell_type": "code",
   "execution_count": null,
   "id": "378577b2",
   "metadata": {},
   "outputs": [],
   "source": [
    "seventh = hasher('h', 8)\n",
    "seventh"
   ]
  },
  {
   "cell_type": "code",
   "execution_count": null,
   "id": "87051f84",
   "metadata": {},
   "outputs": [],
   "source": [
    "table[seventh] = 7\n",
    "table"
   ]
  },
  {
   "cell_type": "code",
   "execution_count": null,
   "id": "25e05ae7",
   "metadata": {},
   "outputs": [],
   "source": [
    "def chain_hasher(table, value, key, num_slots):\n",
    "    '''\n",
    "    Input:\n",
    "        table: list of lists\n",
    "        value: (int) value to store\n",
    "        key: (int or str) thing to hash\n",
    "        num_slots: (int) number of memory slots to allocate\n",
    "    Output:\n",
    "        (int) hash value\n",
    "    '''\n",
    "    \n",
    "    assert len(table) == num_slots, \"your table length does not match the number of slots!\"\n",
    "    assert type(key) == int or type(key) == str, \"key must be an integer or string!\"\n",
    "    \n",
    "    if type(key) == int:\n",
    "        idx = key % num_slots\n",
    "        \n",
    "    elif type(key) == str:\n",
    "        # sum the ASCII values to convert string to integer\n",
    "        str2int = [ord(char) for char in list(key)]\n",
    "        idx = np.sum(str2int) % num_slots\n",
    "        \n",
    "    return table[idx].append(value)"
   ]
  },
  {
   "cell_type": "markdown",
   "id": "0a9e2ee3",
   "metadata": {},
   "source": [
    "#### EXAMPLE #5"
   ]
  }
 ],
 "metadata": {},
 "nbformat": 4,
 "nbformat_minor": 5
}
