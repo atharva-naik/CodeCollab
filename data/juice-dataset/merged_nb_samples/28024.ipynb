{
 "cells": [
  {
   "cell_type": "markdown",
   "id": "6a871758",
   "metadata": {},
   "source": [
    "## Music similarity search using ConvNet on STFT spectrograms\n",
    "\n",
    "Below example uses 4th model [(ConvNet on STFT spectrograms)](https://gitlab.crowdai.org/gg12/WWWMusicalGenreRecognitionChallenge) from [CrowdAI Learning to Recognize Musical Genre competition](crowdai.org/challenges/www-2018-challenge-learning-to-recognize-musical-genre) to extract features from music.\n",
    "\n",
    "Music comes from [GTZAN music dataset](http://marsyasweb.appspot.com/download/data_sets/)."
   ]
  },
  {
   "cell_type": "code",
   "execution_count": null,
   "id": "a4bd0360",
   "metadata": {},
   "outputs": [],
   "source": [
    "# run this in case you use Google's Colab\n",
    "!pip install git+http://github.com/lambdaofgod/findkit\n",
    "!mkdir -p ../resources"
   ]
  },
  {
   "cell_type": "code",
   "execution_count": null,
   "id": "e4f136d8",
   "metadata": {},
   "outputs": [],
   "source": [
    "import numpy as np\n",
    "import scipy\n",
    "\n",
    "import librosa\n",
    "import librosa.display\n",
    "import glob\n",
    "import keras\n",
    "\n",
    "from findkit.feature_extractor import KerasFeatureExtractor\n",
    "from findkit.index import AnnoyIndex\n",
    "\n",
    "import matplotlib.pyplot as plt\n",
    "%matplotlib inline\n",
    "\n",
    "\n",
    "from IPython.display import Audio, display"
   ]
  },
  {
   "cell_type": "code",
   "execution_count": null,
   "id": "9485db5a",
   "metadata": {},
   "outputs": [],
   "source": [
    "def stft3_quick(file_path):\n",
    "    res = []\n",
    "\n",
    "    Y, sr = librosa.load(file_path)\n",
    "\n",
    "    for i in np.arange(0.0, 9.5, 0.5):\n",
    "        y = Y[int(66150 * i):min(len(Y), int(66150 * (i + 1)))]\n",
    "        if y.shape[0] < 66150:\n",
    "            y = np.pad(y, (0, 66150 - y.shape[0]), 'constant')\n",
    "        res.append(np.abs(librosa.stft(y, n_fft=1024, window=scipy.signal.hann, hop_length=512))[:, :128].T)\n",
    "    res = np.array(res)\n",
    "    return res, file_path\n",
    "\n",
    "\n",
    "def stft3_quick_iter(paths):\n",
    "    for p in paths:\n",
    "        stft, path = stft3_quick(p)\n",
    "        yield np.expand_dims(stft, -1)\n",
    "\n",
    "\n",
    "def truncate_keras_model(model, layer_name):\n",
    "    output = model.get_layer(layer_name).output\n",
    "    return keras.models.Model(model.input, output)\n",
    "\n",
    "\n",
    "def play_track(path):\n",
    "    track, fs = librosa.load(path)\n",
    "    librosa.output.write_wav('/tmp/example.wav', track, fs)\n",
    "    print(path)\n",
    "    display(Audio('/tmp/example.wav'))\n",
    "    \n",
    "\n",
    "def display_track(path):\n",
    "    track, fs = librosa.load(path)\n",
    "    librosa.output.write_wav('/tmp/example.wav', track, fs)\n",
    "    print(path)\n",
    "    display(Audio('/tmp/example.wav'))\n",
    "    spec = librosa.stft(track, n_fft=1024)\n",
    "    librosa.display.specshow(np.abs(spec));"
   ]
  },
  {
   "cell_type": "markdown",
   "id": "6bf50c78",
   "metadata": {},
   "source": [
    "## Setup data"
   ]
  },
  {
   "cell_type": "code",
   "execution_count": null,
   "id": "2c157c23",
   "metadata": {},
   "outputs": [],
   "source": [
    "MODEL_PATH = '../resources/keras_genre_recognition_simple_model.h5'\n",
    "DATASET_PATH = '../resources/genres.tar.gz'"
   ]
  },
  {
   "cell_type": "code",
   "execution_count": null,
   "id": "d5f01637",
   "metadata": {},
   "outputs": [],
   "source": [
    "# Download GTZAN dataset\n",
    "!wget -nc http://opihi.cs.uvic.ca/sound/genres.tar.gz -O $DATASET_PATH\n",
    "!tar -xvf ../resources/genres.tar.gz -C ../resources\n",
    "# Download Keras model\n",
    "!wget -nc https://gitlab.crowdai.org/gg12/WWWMusicalGenreRecognitionChallenge/raw/master/best_rescnnqstft3_b128.h5 -O $MODEL_PATH"
   ]
  },
  {
   "cell_type": "markdown",
   "id": "a2f36145",
   "metadata": {},
   "source": [
    "## Setup model"
   ]
  },
  {
   "cell_type": "code",
   "execution_count": null,
   "id": "3b21ab5c",
   "metadata": {},
   "outputs": [],
   "source": [
    "full_model = keras.models.load_model(MODEL_PATH)\n",
    "full_model.summary()"
   ]
  },
  {
   "cell_type": "code",
   "execution_count": null,
   "id": "1f5cf4c1",
   "metadata": {},
   "outputs": [],
   "source": [
    "paths = glob.glob('../resources/**/*.au', recursive=True)"
   ]
  },
  {
   "cell_type": "markdown",
   "id": "be517ddd",
   "metadata": {},
   "source": [
    "## Play example track and display its STFT"
   ]
  }
 ],
 "metadata": {},
 "nbformat": 4,
 "nbformat_minor": 5
}
