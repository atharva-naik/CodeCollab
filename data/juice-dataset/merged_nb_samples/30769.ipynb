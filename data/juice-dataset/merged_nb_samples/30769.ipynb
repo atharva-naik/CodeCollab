{
 "cells": [
  {
   "cell_type": "markdown",
   "id": "274af551",
   "metadata": {},
   "source": [
    "# Working with data 2018. Time series\n",
    "## Contact\n",
    "Javier Garcia-Bernardo\n",
    "garcia@uva.nl\n"
   ]
  },
  {
   "cell_type": "code",
   "execution_count": null,
   "id": "44d2945b",
   "metadata": {},
   "outputs": [],
   "source": [
    "import pandas as pd\n",
    "import numpy as np\n",
    "import pylab as plt\n",
    "import seaborn as sns\n",
    "from scipy.stats import chi2_contingency,ttest_ind\n",
    "\n",
    "#Visualize in line\n",
    "%matplotlib inline\n",
    "\n",
    "\n",
    "#Be able to plot images saved in the hard drive\n",
    "from IPython.display import Image,display\n",
    "\n",
    "#Make the notebook wider\n",
    "from IPython.core.display import display, HTML \n",
    "display(HTML(\"<style>.container { width:90% !important; }</style>\"))\n",
    "\n",
    "\n",
    "pd.options.mode.chained_assignment = None  # default='warn'"
   ]
  },
  {
   "cell_type": "markdown",
   "id": "005ed014",
   "metadata": {},
   "source": [
    "## 4. Parse dates\n",
    "pandas is cool\n",
    "- Use parse_dates=[columns] when reading the file"
   ]
  },
  {
   "cell_type": "code",
   "execution_count": null,
   "id": "b83a2558",
   "metadata": {},
   "outputs": [],
   "source": [
    "!head data/exchange-rate-twi-may-1970-aug-1.tsv"
   ]
  },
  {
   "cell_type": "markdown",
   "id": "38f1ee59",
   "metadata": {},
   "source": [
    "### 4.1. Use parse_dates when reading the file"
   ]
  },
  {
   "cell_type": "code",
   "execution_count": null,
   "id": "ce030a6e",
   "metadata": {},
   "outputs": [],
   "source": [
    "pd.read_csv?"
   ]
  },
  {
   "cell_type": "code",
   "execution_count": null,
   "id": "3de1d21a",
   "metadata": {},
   "outputs": [],
   "source": [
    "df = pd.read_csv(\"data/exchange-rate-twi-may-1970-aug-1.tsv\",sep=\"\\t\",parse_dates=[\"Month\"],skipfooter=2)\n",
    "df.columns = [\"Date\",\"Rate\"]\n",
    "df.head()"
   ]
  },
  {
   "cell_type": "code",
   "execution_count": null,
   "id": "a38953ec",
   "metadata": {},
   "outputs": [],
   "source": [
    "df.dtypes"
   ]
  },
  {
   "cell_type": "markdown",
   "id": "94be6563",
   "metadata": {},
   "source": [
    "### 4.2. You can now filter by date"
   ]
  },
  {
   "cell_type": "code",
   "execution_count": null,
   "id": "573020ee",
   "metadata": {},
   "outputs": [],
   "source": [
    "#filter by time\n",
    "df_after1980 = df.loc[df[\"Date\"] > \"1980-05-02\"] #year-month-date\n",
    "df_after1980.head()"
   ]
  },
  {
   "cell_type": "markdown",
   "id": "6e1e2683",
   "metadata": {},
   "source": [
    "### 4.3. And still extract columns of year and month"
   ]
  },
  {
   "cell_type": "code",
   "execution_count": null,
   "id": "7cd52811",
   "metadata": {},
   "outputs": [],
   "source": [
    "#make columns with year and month (useful for models)\n",
    "df_after1980[\"Year\"] = df_after1980[\"Date\"].dt.year\n",
    "df_after1980[\"Month\"] = df_after1980[\"Date\"].dt.month\n",
    "df_after1980.head()"
   ]
  },
  {
   "cell_type": "markdown",
   "id": "277ca74a",
   "metadata": {},
   "source": [
    "### 4.4. You can resample the data with a specific frequency\n",
    "- Very similar to groupby.\n",
    "- Groups the data with a specific frequency\n",
    "    - \"A\" = End of year\n",
    "    - \"B\" = Business day\n",
    "    - others: http://pandas.pydata.org/pandas-docs/stable/timeseries.html#offset-aliases\n",
    "- Then you tell pandas to apply a function to the group (mean/max/median...)\n"
   ]
  },
  {
   "cell_type": "code",
   "execution_count": null,
   "id": "3ef29671",
   "metadata": {},
   "outputs": [],
   "source": [
    "#resample\n",
    "df_after1980_resampled = df_after1980.resample(\"Q\",on=\"Date\").mean().reset_index()\n",
    "df_after1980_resampled.head()"
   ]
  },
  {
   "cell_type": "code",
   "execution_count": null,
   "id": "dd576704",
   "metadata": {},
   "outputs": [],
   "source": [
    "df_after1980_resampled = df_after1980_resampled.reset_index()\n",
    "df_after1980_resampled.head()"
   ]
  },
  {
   "cell_type": "markdown",
   "id": "8a5ac120",
   "metadata": {},
   "source": [
    "### 4.5 And of course plot it with a line plot"
   ]
  }
 ],
 "metadata": {},
 "nbformat": 4,
 "nbformat_minor": 5
}
