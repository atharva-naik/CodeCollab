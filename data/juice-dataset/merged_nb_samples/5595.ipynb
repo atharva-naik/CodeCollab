{
 "cells": [
  {
   "cell_type": "code",
   "execution_count": null,
   "id": "c6193e0b",
   "metadata": {},
   "outputs": [],
   "source": [
    "%matplotlib inline"
   ]
  },
  {
   "cell_type": "code",
   "execution_count": null,
   "id": "13cb3e06",
   "metadata": {},
   "outputs": [],
   "source": [
    "import matplotlib.pyplot as plt\n",
    "import numpy as np\n",
    "from keras.layers import Input, Dense, Lambda, Flatten, Reshape, Layer\n",
    "from keras.layers import Conv1D, MaxPooling1D, LSTM, UpSampling1D\n",
    "from keras.models import Model\n",
    "from keras import backend as K\n",
    "from keras import metrics\n",
    "from scipy.stats import norm"
   ]
  },
  {
   "cell_type": "markdown",
   "id": "4ef38d67",
   "metadata": {},
   "source": [
    "# Image Parameters"
   ]
  },
  {
   "cell_type": "code",
   "execution_count": null,
   "id": "7117b49d",
   "metadata": {},
   "outputs": [],
   "source": [
    "# input image dimensions\n",
    "img_rows, img_cols, img_chns = 28, 28, 1\n",
    "\n",
    "# number of convolutional filters to use\n",
    "filters = 64\n",
    "\n",
    "# convolution kernel size\n",
    "num_conv = 3\n",
    "\n",
    "batch_size = 100\n",
    "if K.image_data_format() == 'channels_first':\n",
    "    original_img_size = (img_chns, img_rows, img_cols)\n",
    "else:\n",
    "    original_img_size = (img_rows, img_cols, img_chns)"
   ]
  },
  {
   "cell_type": "markdown",
   "id": "9116c972",
   "metadata": {},
   "source": [
    "# Import MNIST Images"
   ]
  },
  {
   "cell_type": "code",
   "execution_count": null,
   "id": "43637d07",
   "metadata": {},
   "outputs": [],
   "source": [
    "from keras.datasets import mnist"
   ]
  },
  {
   "cell_type": "code",
   "execution_count": null,
   "id": "612ac04c",
   "metadata": {},
   "outputs": [],
   "source": [
    "(x_train, _), (x_test, y_test) = mnist.load_data()\n",
    "\n",
    "x_train = x_train.astype('float32') / 255.\n",
    "x_train = x_train.reshape((x_train.shape[0],) + original_img_size)\n",
    "x_test = x_test.astype('float32') / 255.\n",
    "x_test = x_test.reshape((x_test.shape[0],) + original_img_size)\n",
    "\n",
    "print('x_train.shape:', x_train.shape)"
   ]
  },
  {
   "cell_type": "markdown",
   "id": "1281ff11",
   "metadata": {},
   "source": [
    "### Convert to shape of multivariate time series"
   ]
  },
  {
   "cell_type": "code",
   "execution_count": null,
   "id": "93786b64",
   "metadata": {},
   "outputs": [],
   "source": [
    "x_train = np.asarray([x_train[i,:,:,:].reshape(28*28) for i in range(x_train.shape[0])])\n",
    "x_test = np.asarray([x_test[i,:,:,:].reshape(28*28) for i in range(x_test.shape[0])])"
   ]
  },
  {
   "cell_type": "markdown",
   "id": "dededf22",
   "metadata": {},
   "source": [
    "# Simple LSTM\n",
    "Without \"return sequence\" not \"stateful\" parameter"
   ]
  },
  {
   "cell_type": "code",
   "execution_count": null,
   "id": "d8161bbf",
   "metadata": {},
   "outputs": [],
   "source": [
    "model.predict(x_train[0:10].reshape(1,10,784)).shape"
   ]
  },
  {
   "cell_type": "markdown",
   "id": "38854312",
   "metadata": {},
   "source": [
    "# ConvNet1"
   ]
  },
  {
   "cell_type": "code",
   "execution_count": null,
   "id": "079bfc46",
   "metadata": {},
   "outputs": [],
   "source": [
    "x = Input(shape=(10,28*28))\n",
    "conv_1 = Conv1D(filters=1, \n",
    "                kernel_size=2, \n",
    "                padding='same', \n",
    "                activation='relu')(x)\n",
    "#max_pooling_1 = MaxPooling1D(pool_size=2)(conv_1)\n",
    "#lstm_1 = LSTM(100)(max_pooling_1)\n",
    "model = Model(x,conv_1)\n",
    "model.compile(optimizer=\"adam\", loss=\"mse\")"
   ]
  },
  {
   "cell_type": "code",
   "execution_count": null,
   "id": "3a323cb7",
   "metadata": {},
   "outputs": [],
   "source": [
    "print model.predict(x_train[0:10].reshape(1,10,784)).shape\n",
    "print x_train[0:10].reshape(1,10,784).shape"
   ]
  },
  {
   "cell_type": "code",
   "execution_count": null,
   "id": "975eb29c",
   "metadata": {},
   "outputs": [],
   "source": [
    "model.summary()"
   ]
  },
  {
   "cell_type": "code",
   "execution_count": null,
   "id": "ddb1128d",
   "metadata": {},
   "outputs": [],
   "source": [
    "for layer in model.layers:\n",
    "    if layer.get_weights():\n",
    "        print layer.get_weights()[0].shape, layer.get_weights()[1].shape"
   ]
  },
  {
   "cell_type": "markdown",
   "id": "1f12b0bb",
   "metadata": {},
   "source": [
    "# ConvNet1D + MaxPooling"
   ]
  },
  {
   "cell_type": "code",
   "execution_count": null,
   "id": "0123f80d",
   "metadata": {},
   "outputs": [],
   "source": [
    "x = Input(shape=(10,28*28))\n",
    "conv_1 = Conv1D(filters=1, \n",
    "                kernel_size=2, \n",
    "                padding='same', \n",
    "                activation='relu')(x)\n",
    "max_pooling_1 = MaxPooling1D(pool_size=2)(conv_1)\n",
    "#lstm_1 = LSTM(100)(max_pooling_1)\n",
    "model = Model(x,max_pooling_1)\n",
    "model.compile(optimizer=\"adam\", loss=\"mse\")"
   ]
  },
  {
   "cell_type": "markdown",
   "id": "c99a9cd7",
   "metadata": {},
   "source": [
    "# Maxpooling and upsampling"
   ]
  },
  {
   "cell_type": "code",
   "execution_count": null,
   "id": "3e7a1abb",
   "metadata": {},
   "outputs": [],
   "source": [
    "x = Input(shape=(10,28*28))\n",
    "max_pooling_1 = MaxPooling1D(pool_size=2)(x)\n",
    "upsampling_1 = UpSampling1D(size=2)(max_pooling_1)\n",
    "model = Model(x,upsampling_1)\n",
    "model.compile(optimizer=\"adam\", loss=\"mse\")"
   ]
  },
  {
   "cell_type": "markdown",
   "id": "46cc06e4",
   "metadata": {},
   "source": [
    "# Auto Encoder"
   ]
  },
  {
   "cell_type": "code",
   "execution_count": null,
   "id": "eb5e6725",
   "metadata": {},
   "outputs": [],
   "source": [
    "from keras.layers import RepeatVector"
   ]
  },
  {
   "cell_type": "code",
   "execution_count": null,
   "id": "606fe57a",
   "metadata": {},
   "outputs": [],
   "source": [
    "timesteps = 10\n",
    "input_dim = 28*28\n",
    "latent_dim = 100\n",
    "\n",
    "inputs = Input(shape=(timesteps, input_dim))\n",
    "encoded = LSTM(latent_dim)(inputs)\n",
    "\n",
    "decoded = RepeatVector(timesteps)(encoded)\n",
    "decoded = LSTM(input_dim, return_sequences=True)(decoded)\n",
    "\n",
    "sequence_autoencoder = Model(inputs, decoded)\n",
    "encoder = Model(inputs, encoded)\n",
    "model.compile(optimizer=\"adam\", loss=\"mse\")"
   ]
  },
  {
   "cell_type": "code",
   "execution_count": null,
   "id": "fdf59d9c",
   "metadata": {},
   "outputs": [],
   "source": [
    "model.predict(x_train[0:10].reshape(1,10,784)).shape, encoder.predict(x_train[0:10].reshape(1,10,784)).shape"
   ]
  },
  {
   "cell_type": "markdown",
   "id": "953751cc",
   "metadata": {},
   "source": [
    "# Deep Auto Encoder"
   ]
  },
  {
   "cell_type": "code",
   "execution_count": null,
   "id": "46e69f30",
   "metadata": {},
   "outputs": [],
   "source": [
    "x = Input(shape=(10,28*28))\n",
    "lstm_1 = LSTM(32)(x)\n",
    "model = Model(x,lstm_1)\n",
    "model.compile(optimizer=\"adam\", loss=\"mse\")"
   ]
  },
  {
   "cell_type": "code",
   "execution_count": null,
   "id": "6748bcbe",
   "metadata": {},
   "outputs": [],
   "source": [
    "model.predict(x_train[0:30].reshape(3,10,784)).shape"
   ]
  },
  {
   "cell_type": "markdown",
   "id": "97290186",
   "metadata": {},
   "source": [
    "# Simple stateful LSTM\n",
    "Without \"return sequence\"\n",
    "Stateful LSTM share their internal states between examples"
   ]
  },
  {
   "cell_type": "code",
   "execution_count": null,
   "id": "534c2fe6",
   "metadata": {},
   "outputs": [],
   "source": [
    "x = Input(shape=(10,28*28),batch_shape=(3,10,28*28))\n",
    "lstm_1 = LSTM(32,\n",
    "              stateful=True)(x)\n",
    "model = Model(x,lstm_1)\n",
    "model.compile(optimizer=\"adam\", loss=\"mse\")"
   ]
  },
  {
   "cell_type": "markdown",
   "id": "b1fcc1f6",
   "metadata": {},
   "source": [
    "# Simple return sequence LSTM \n",
    "Without \"stateful\""
   ]
  },
  {
   "cell_type": "markdown",
   "id": "0a990267",
   "metadata": {},
   "source": [
    "# Deep Auto Encoder with ConvNet1D"
   ]
  },
  {
   "cell_type": "code",
   "execution_count": null,
   "id": "54c7cbe3",
   "metadata": {},
   "outputs": [],
   "source": [
    "timesteps = 10\n",
    "input_dim = 28*28\n",
    "latent_dim = 100\n",
    "\n",
    "inputs = Input(shape=(timesteps, input_dim))\n",
    "conv_1 = Conv1D(filters=300, \n",
    "                kernel_size=2, \n",
    "                padding='same', \n",
    "                activation='relu')(inputs)\n",
    "max_pooling_1 = MaxPooling1D(pool_size=2)(conv_1)\n",
    "encoded_h1 = LSTM(300, return_sequences=True)(max_pooling_1)\n",
    "\n",
    "encoded = LSTM(latent_dim)(encoded_h1)\n",
    "decoded = RepeatVector(timesteps)(encoded)\n",
    "\n",
    "#upsampling_1 = UpSampling1D(size=2)(decoded)\n",
    "deconv_1 = Conv1D(filters=300, \n",
    "                kernel_size=2, \n",
    "                padding='same', \n",
    "                activation='relu')(decoded)\n",
    "decoded_h1 = LSTM(300, return_sequences=True)(deconv_1)\n",
    "decoded = LSTM(input_dim, return_sequences=True)(decoded_h1)\n",
    "\n",
    "sequence_autoencoder = Model(inputs, decoded)\n",
    "encoder = Model(inputs, encoded)\n",
    "sequence_autoencoder.compile(optimizer=\"adam\", loss=\"mse\")"
   ]
  },
  {
   "cell_type": "code",
   "execution_count": null,
   "id": "8ccb42db",
   "metadata": {},
   "outputs": [],
   "source": [
    "print sequence_autoencoder.predict(x_train[0:10].reshape(1,10,784)).shape\n",
    "print x_train[0:10].reshape(1,10,784).shape"
   ]
  },
  {
   "cell_type": "code",
   "execution_count": null,
   "id": "74376736",
   "metadata": {},
   "outputs": [],
   "source": [
    "sequence_autoencoder.summary()"
   ]
  },
  {
   "cell_type": "markdown",
   "id": "2a279555",
   "metadata": {},
   "source": [
    "# Variational Sequential Auto Encoder"
   ]
  },
  {
   "cell_type": "markdown",
   "id": "1e6db8ab",
   "metadata": {},
   "source": [
    "## Create sampling function"
   ]
  },
  {
   "cell_type": "code",
   "execution_count": null,
   "id": "c8542dbd",
   "metadata": {},
   "outputs": [],
   "source": [
    "def sampling(args):\n",
    "    z_mean, z_log_var = args\n",
    "    epsilon = K.random_normal(shape=(K.shape(z_mean)[0], latent_dim),\n",
    "                              mean=0., stddev=epsilon_std)\n",
    "    return z_mean + K.exp(z_log_var) * epsilon"
   ]
  },
  {
   "cell_type": "markdown",
   "id": "784f05d4",
   "metadata": {},
   "source": [
    "## Create the loss function"
   ]
  },
  {
   "cell_type": "code",
   "execution_count": null,
   "id": "7159c7d9",
   "metadata": {},
   "outputs": [],
   "source": [
    "def vae_loss(x, x_decoded_mean_squash):\n",
    "    x = K.flatten(x)\n",
    "    x_decoded_mean_squash = K.flatten(x_decoded_mean_squash)\n",
    "    xent_loss = img_rows * img_cols * metrics.binary_crossentropy(x, x_decoded_mean_squash)\n",
    "    kl_loss = - 0.5 * K.mean(1 + z_log_var - K.square(z_mean) - K.exp(z_log_var), axis=-1)\n",
    "    return K.mean(xent_loss + kl_loss)"
   ]
  },
  {
   "cell_type": "markdown",
   "id": "6f5c1865",
   "metadata": {},
   "source": [
    "## Meta Parameters"
   ]
  },
  {
   "cell_type": "markdown",
   "id": "075372c3",
   "metadata": {},
   "source": [
    "Meta parameters"
   ]
  },
  {
   "cell_type": "code",
   "execution_count": null,
   "id": "300e6d77",
   "metadata": {},
   "outputs": [],
   "source": [
    "x = Input(shape=(10,28*28))\n",
    "lstm_2 = LSTM(32, return_sequences=True)(x)\n",
    "model = Model(x,lstm_2)\n",
    "model.compile(optimizer=\"adam\", loss=\"mse\")"
   ]
  },
  {
   "cell_type": "markdown",
   "id": "488d4771",
   "metadata": {},
   "source": [
    "# Stacked LSTM"
   ]
  },
  {
   "cell_type": "code",
   "execution_count": null,
   "id": "d261d03b",
   "metadata": {},
   "outputs": [],
   "source": [
    "timesteps = 10\n",
    "input_dim = 28*28\n",
    "latent_dim = 100\n",
    "\n",
    "inputs = Input(shape=(timesteps, input_dim))\n",
    "encoded_h1 = LSTM(300, return_sequences=True)(inputs)\n",
    "encoded = LSTM(latent_dim)(encoded_h1)\n",
    "\n",
    "decoded = RepeatVector(timesteps)(encoded)\n",
    "decoded_h1 = LSTM(300, return_sequences=True)(decoded)\n",
    "decoded = LSTM(input_dim, return_sequences=True)(decoded_h1)\n",
    "\n",
    "sequence_autoencoder = Model(inputs, decoded)\n",
    "encoder = Model(inputs, encoded)\n",
    "model.compile(optimizer=\"adam\", loss=\"mse\")"
   ]
  },
  {
   "cell_type": "code",
   "execution_count": null,
   "id": "0d26877f",
   "metadata": {},
   "outputs": [],
   "source": [
    "x = Input(shape=(10,28*28))\n",
    "lstm_2 = LSTM(32, return_sequences=True)(x)\n",
    "lstm_3 = LSTM(15, return_sequences=True)(lstm_2)\n",
    "lstm_4 = LSTM(5)(lstm_3)\n",
    "model = Model(x,lstm_4)\n",
    "model.compile(optimizer=\"adam\", loss=\"mse\")"
   ]
  }
 ],
 "metadata": {},
 "nbformat": 4,
 "nbformat_minor": 5
}
