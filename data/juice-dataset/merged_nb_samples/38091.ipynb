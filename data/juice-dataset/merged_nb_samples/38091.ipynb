{
 "cells": [
  {
   "cell_type": "markdown",
   "id": "2a8f9f34",
   "metadata": {},
   "source": [
    "Engineers collect data and make conclusions based on the results. An important way to view results is with statistical charts. In this post we will build a bar chart that compares the tensile strength of 3D-printed ABS plastic under different printing conditions. We will add error bars to the chart to show the amount of uncertainty in the data. For this plot, the hieght of the bars represent the mean or average of the measured tensile stength in the sample of data. The error bars on the plot will represent +1/-1 standard deviation about the mean."
   ]
  },
  {
   "cell_type": "markdown",
   "id": "9b448e82",
   "metadata": {},
   "source": [
    "The data we are going to plot is stored in an Microsoft Excel File. You can download the sample data here (clicking link will start the download):\n",
    "\n",
    "[3D-printed-tensile-bar-data.xlsx](https://github.com/ProfessorKazarinoff/staticsite/raw/master/content/code/matplotlib_plots/3D-printed_tensile_test_data.xlsx)\n",
    "\n",
    "We'll use **pandas** to load the data into the notebook. I recommend that undergraduate engineers use the **Anaconda** distribution of Python, which comes with the **pandas** library already installed. If **pandas** is not available, open a terminal or the **Anaconda Prompt** and type:\n",
    "\n",
    "```\n",
    "pip install pandas\n",
    "```\n",
    "\n",
    "or \n",
    "\n",
    "```\n",
    "conda install pandas\n",
    "\n",
    "```\n",
    "\n",
    "Note that when I first tried to run the ```pd.read_excel()``` function, I was returned an error:\n",
    "\n",
    "\n",
    "```python\n",
    "ImportError: Install xlrd >= 0.9.0 for Excel support\n",
    "````\n",
    "\n",
    "To solve this, I went to the **Anaconda Prompt** and typed:\n",
    "\n",
    "```\n",
    "conda install xlrd\n",
    "```\n",
    "\n",
    "Once the **xlrd** module was installed, the ```pd.read_excel()``` function worked just fine.\n",
    "\n",
    "To start the jupyter notebook, we need to import the required packages:\n",
    "\n",
    "**pandas**\n",
    "**numpy**\n",
    "**matplotlib**\n",
    "\n",
    "The ```%matplotlib inline``` magic command is add so that we can see our plots right in the **jupyter notebook**.\n"
   ]
  },
  {
   "cell_type": "code",
   "execution_count": null,
   "id": "419eb86b",
   "metadata": {},
   "outputs": [],
   "source": [
    "import pandas as pd\n",
    "import numpy as np\n",
    "import matplotlib.pyplot as plt\n",
    "%matplotlib inline"
   ]
  },
  {
   "cell_type": "code",
   "execution_count": null,
   "id": "fdd920c4",
   "metadata": {},
   "outputs": [],
   "source": [
    "data_url = 'https://github.com/ProfessorKazarinoff/staticsite/raw/master/content/code/matplotlib_plots/3D-printed_tensile_test_data.xlsx'\n",
    "df = pd.read_excel(data_url)\n",
    "df.head()\n",
    "#https://raw.githubusercontent.com/guipsamora/pandas_exercises/master/06_Stats/US_Baby_Names/US_Baby_Names_right.csv"
   ]
  },
  {
   "cell_type": "markdown",
   "id": "983a91b4",
   "metadata": {},
   "source": [
    "**Pandas** has a nice little method to view the staticstics for column in our datafram called ```describe()```. We'll use the ```describe()``` method to get a look at our basic statistics. The tensile strength column is the one we are interested in. Note the ```describe()``` method needs to include the ```()``` parenthesis at the end. "
   ]
  },
  {
   "cell_type": "code",
   "execution_count": null,
   "id": "ff9b2227",
   "metadata": {},
   "outputs": [],
   "source": [
    "df['Tensile Strength (Mpa)'].describe()"
   ]
  },
  {
   "cell_type": "markdown",
   "id": "970adf54",
   "metadata": {},
   "source": [
    "This gives us the mean for the whole tensile strength column, but we are intrested in comparing the two materials, ABS and HIPS. HIPS stands for High-Impact PolyStyrene and is a common 3-D printing fillament material like ABS and PLA. We need a way to only group the ABS data together and group the HIPS data seperatly. We can view the statistics for the rows that are ABS data and the rows that are HIPS data seperatly using **pandas** ```groupby``` method."
   ]
  },
  {
   "cell_type": "code",
   "execution_count": null,
   "id": "57accf5f",
   "metadata": {},
   "outputs": [],
   "source": [
    "df['Tensile Strength (Mpa)'].groupby(df['Material']).describe()"
   ]
  },
  {
   "cell_type": "code",
   "execution_count": null,
   "id": "f155cfb4",
   "metadata": {},
   "outputs": [],
   "source": [
    "ABS_df = df[df['Material'] == 'ABS']\n",
    "HIPS_df = df[df['Material'] == 'HIPS']"
   ]
  },
  {
   "cell_type": "markdown",
   "id": "1f5a94b8",
   "metadata": {},
   "source": [
    "Let's save the ```mean``` (the average) and the ```std``` (standard deviation) to new variables"
   ]
  },
  {
   "cell_type": "code",
   "execution_count": null,
   "id": "064f50e6",
   "metadata": {},
   "outputs": [],
   "source": [
    "ABS_mean = ABS_df['Tensile Strength (Mpa)'].mean()\n",
    "ABS_stdev = ABS_df['Tensile Strength (Mpa)'].std()\n",
    "\n",
    "HIPS_mean = HIPS_df['Tensile Strength (Mpa)'].mean()\n",
    "HIPS_stdev = HIPS_df['Tensile Strength (Mpa)'].std()"
   ]
  },
  {
   "cell_type": "markdown",
   "id": "94b3712c",
   "metadata": {},
   "source": [
    "Time to fire up the plot. We will build a plot using **matplotlib**.  \n",
    "\n",
    "We'll use **matplotlibs** ```plt.bar``` method to build the plot. "
   ]
  }
 ],
 "metadata": {},
 "nbformat": 4,
 "nbformat_minor": 5
}
