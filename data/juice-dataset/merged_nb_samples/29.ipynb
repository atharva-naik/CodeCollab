{
 "cells": [
  {
   "cell_type": "markdown",
   "id": "51ce0d0b",
   "metadata": {},
   "source": [
    "<h1> <center> Movie Analysis Plot </center> </h1> "
   ]
  },
  {
   "cell_type": "code",
   "execution_count": null,
   "id": "0e69d386",
   "metadata": {},
   "outputs": [],
   "source": [
    "import pandas as pd\n",
    "import random\n",
    "from plotly.graph_objs import *"
   ]
  },
  {
   "cell_type": "markdown",
   "id": "6d69a3a1",
   "metadata": {},
   "source": [
    "**Using plotly offline mode**"
   ]
  },
  {
   "cell_type": "code",
   "execution_count": null,
   "id": "69b76d16",
   "metadata": {},
   "outputs": [],
   "source": [
    "from plotly.offline import init_notebook_mode,iplot,plot\n",
    "init_notebook_mode(connected=True)"
   ]
  },
  {
   "cell_type": "markdown",
   "id": "ffa586c8",
   "metadata": {},
   "source": [
    "**Reading the Dataset**"
   ]
  },
  {
   "cell_type": "code",
   "execution_count": null,
   "id": "0a800c82",
   "metadata": {},
   "outputs": [],
   "source": [
    "dataset = pd.read_csv('finalDataset.csv')\n",
    "\n",
    "dataset.head(3)"
   ]
  },
  {
   "cell_type": "markdown",
   "id": "28a19570",
   "metadata": {},
   "source": [
    "**List of Years**"
   ]
  },
  {
   "cell_type": "code",
   "execution_count": null,
   "id": "f78984c3",
   "metadata": {},
   "outputs": [],
   "source": [
    "yearList = [1990, 1995, 2000, 2005, 2010, 2014]"
   ]
  },
  {
   "cell_type": "markdown",
   "id": "4ef2a805",
   "metadata": {},
   "source": [
    "**List of Genres**"
   ]
  },
  {
   "cell_type": "code",
   "execution_count": null,
   "id": "8e04a5df",
   "metadata": {},
   "outputs": [],
   "source": [
    "genreList = ['Action', 'Adventure', 'Animation', 'Biography', 'Comedy', 'Crime', \\\n",
    " 'Documentary', 'Drama', 'Family', 'Fantasy', 'History', 'Horror', \\\n",
    " 'Musical', 'Mystery' ,'Romance', 'Sci-Fi', 'Sport', 'Thriller', 'War', 'Western']"
   ]
  },
  {
   "cell_type": "markdown",
   "id": "bd4b24bd",
   "metadata": {},
   "source": [
    "**\n",
    "Function to calcuate mean rating for specific genre and year\n",
    "**"
   ]
  },
  {
   "cell_type": "code",
   "execution_count": null,
   "id": "2e0c5313",
   "metadata": {},
   "outputs": [],
   "source": [
    "def calculateMeanRating(genre, year):\n",
    "    \n",
    "    return round(dataset[(dataset.GENRE.str.contains(genre, na = False)) & (dataset.YEAR == year)]['RATING'].mean(),2)\n"
   ]
  },
  {
   "cell_type": "markdown",
   "id": "77966fa3",
   "metadata": {},
   "source": [
    "**\n",
    "Function to calculate movie count for specific genre and year\n",
    "**"
   ]
  },
  {
   "cell_type": "code",
   "execution_count": null,
   "id": "1978b82d",
   "metadata": {},
   "outputs": [],
   "source": [
    "def calculateMovieCount(genre, year):\n",
    "    \n",
    "    return len(dataset[(dataset.GENRE.str.contains(genre, na = False)) & (dataset.YEAR == year)])"
   ]
  },
  {
   "cell_type": "markdown",
   "id": "bf40c345",
   "metadata": {},
   "source": [
    "**\n",
    "Function to calculate mean box office for specific genre and year\n",
    "**"
   ]
  },
  {
   "cell_type": "code",
   "execution_count": null,
   "id": "65d32c49",
   "metadata": {},
   "outputs": [],
   "source": [
    "def calculateMeanBoxOffice(genre, year):\n",
    "    \n",
    "    return int(dataset[(dataset.GENRE.str.contains(genre, na = False)) & (dataset.YEAR == year)]['ADJ. BOX OFFICE'].mean())"
   ]
  },
  {
   "cell_type": "markdown",
   "id": "9cad16f9",
   "metadata": {},
   "source": [
    "**\n",
    "Function to calculate standard rating for specific year\n",
    "**"
   ]
  },
  {
   "cell_type": "code",
   "execution_count": null,
   "id": "88e60b92",
   "metadata": {},
   "outputs": [],
   "source": [
    "def calculateStandradRating(year):\n",
    "    \n",
    "    return round(dataset[dataset.YEAR == year]['RATING'].mean(),2)"
   ]
  },
  {
   "cell_type": "markdown",
   "id": "eded5f12",
   "metadata": {},
   "source": [
    "**\n",
    "Lists with\n",
    "**\n",
    "* **First index - Mean Rating for each genre**\n",
    "* **Second index - Movie Count for each gerne**\n",
    "* **Third index - Mean Adj. Box Office for genre**\n"
   ]
  },
  {
   "cell_type": "code",
   "execution_count": null,
   "id": "5a6ebd29",
   "metadata": {},
   "outputs": [],
   "source": [
    "\n",
    "list1990 = [[calculateMeanRating(genre, yearList[0]) for genre in genreList], \\\n",
    "           [calculateMovieCount(genre, yearList[0]) for genre in genreList], \\\n",
    "           [calculateMeanBoxOffice(genre, yearList[0]) for genre in genreList]]\n",
    "\n",
    "list1995 = [[calculateMeanRating(genre, yearList[1]) for genre in genreList], \\\n",
    "           [calculateMovieCount(genre, yearList[1]) for genre in genreList], \\\n",
    "           [calculateMeanBoxOffice(genre, yearList[1]) for genre in genreList]]\n",
    "\n",
    "list2000 = [[calculateMeanRating(genre, yearList[2]) for genre in genreList], \\\n",
    "           [calculateMovieCount(genre, yearList[2]) for genre in genreList], \\\n",
    "           [calculateMeanBoxOffice(genre, yearList[2]) for genre in genreList]]\n",
    "\n",
    "list2005 = [[calculateMeanRating(genre, yearList[3]) for genre in genreList], \\\n",
    "           [calculateMovieCount(genre, yearList[3]) for genre in genreList], \\\n",
    "           [calculateMeanBoxOffice(genre, yearList[3]) for genre in genreList]]\n",
    "\n",
    "list2010 = [[calculateMeanRating(genre, yearList[4]) for genre in genreList], \\\n",
    "           [calculateMovieCount(genre, yearList[4]) for genre in genreList], \\\n",
    "           [calculateMeanBoxOffice(genre, yearList[4]) for genre in genreList]]\n",
    "\n",
    "list2014 = [[calculateMeanRating(genre, yearList[5]) for genre in genreList], \\\n",
    "           [calculateMovieCount(genre, yearList[5]) for genre in genreList], \\\n",
    "           [calculateMeanBoxOffice(genre, yearList[5]) for genre in genreList]]\n"
   ]
  },
  {
   "cell_type": "markdown",
   "id": "1e83a83b",
   "metadata": {},
   "source": [
    "**List with standard rating for specific year** "
   ]
  },
  {
   "cell_type": "code",
   "execution_count": null,
   "id": "657959d9",
   "metadata": {},
   "outputs": [],
   "source": [
    "standardRatingList = [calculateStandradRating(year) for year in yearList]"
   ]
  },
  {
   "cell_type": "markdown",
   "id": "7abff029",
   "metadata": {},
   "source": [
    "**List with rgb colors**"
   ]
  },
  {
   "cell_type": "code",
   "execution_count": null,
   "id": "9ff586f3",
   "metadata": {},
   "outputs": [],
   "source": [
    "randomColorList = ['rgb({},{},{})'.format(red, green, blue) \n",
    "    for red, green, blue in zip(random.sample(range(255), 20), random.sample(range(255), 20), random.sample(range(255), 20))]"
   ]
  },
  {
   "cell_type": "markdown",
   "id": "8f78f4cb",
   "metadata": {},
   "source": [
    "** Function that return dictionary data to plot standard rating **"
   ]
  },
  {
   "cell_type": "code",
   "execution_count": null,
   "id": "cc7ac6d6",
   "metadata": {},
   "outputs": [],
   "source": [
    "def function_(xValue, yValue):\n",
    "    \n",
    "    return {\n",
    "        'x' : [-10000000] + xValue + [140000000],\n",
    "        'y' : 22 * [yValue],\n",
    "        'mode': 'lines',\n",
    "        'showlegend' : True,\n",
    "        'name': 'Standard Rating: ' + str(yValue),\n",
    "        'hoverinfo': 'text',\n",
    "        'text' : 'Standard Rating: ' + str(yValue)\n",
    "    }"
   ]
  },
  {
   "cell_type": "markdown",
   "id": "fe9d25ba",
   "metadata": {},
   "source": [
    "** Function that return dicitonary data to plot the data point **"
   ]
  },
  {
   "cell_type": "code",
   "execution_count": null,
   "id": "0878d031",
   "metadata": {},
   "outputs": [],
   "source": [
    "def data_(rating, movieCount, boxoffice, genre, i):\n",
    "    \n",
    "    return {\n",
    "        'x' : [boxoffice],\n",
    "        'y' : [rating],\n",
    "        'name': genre,\n",
    "        'mode' : 'markers',\n",
    "        'marker': {\n",
    "            'size' : [movieCount],\n",
    "            'sizemode' : 'diameter',\n",
    "            'color' : randomColorList[i],\n",
    "            'line' : {\n",
    "                'width' : 1\n",
    "            } \n",
    "        },\n",
    "        'text' : 'Genre: ' + genre + \\\n",
    "                 '<br>Mean Rating: ' + str(rating) + \\\n",
    "                 '<br>Movie Count: ' + str(movieCount) + \\\n",
    "                 '<br>Mean Box Office: ' + str(round(boxoffice/1000000, 2)) + 'M',\n",
    "        'hoverinfo': 'text'\n",
    "    }"
   ]
  },
  {
   "cell_type": "markdown",
   "id": "7bd2ddd3",
   "metadata": {},
   "source": [
    "** Initialize the figure **"
   ]
  },
  {
   "cell_type": "code",
   "execution_count": null,
   "id": "5a9dd8d1",
   "metadata": {},
   "outputs": [],
   "source": [
    "figure = {\n",
    "    'data' : [], \n",
    "    'layout' : {},\n",
    "    'frames' : []\n",
    "}"
   ]
  },
  {
   "cell_type": "markdown",
   "id": "9943e3a4",
   "metadata": {},
   "source": [
    "** Setting x-axis, y-axis, title, backgroud, buttons of layout **"
   ]
  },
  {
   "cell_type": "code",
   "execution_count": null,
   "id": "62d636f9",
   "metadata": {},
   "outputs": [],
   "source": [
    "figure['layout']['xaxis'] = {'title' : ' Mean Adj. Box Office',\n",
    "                             'titlefont' : {\n",
    "                                 'size' : 20, 'family' : 'Droid Sans'\n",
    "                             },\n",
    "                            'showline' : True,\n",
    "                            'zeroline' : False,\n",
    "                            'range' : [-10000000, 140000000],\n",
    "                            'gridcolor' : '#FFFFFF',\n",
    "                            'ticks' : 'outside',\n",
    "                            'tickwidth' : 2}\n",
    "\n",
    "figure['layout']['yaxis'] = {'title' : 'Mean Rating',\n",
    "                            'titlefont' : {\n",
    "                                'size' : 20, 'family' : 'Droid Sans'\n",
    "                            },\n",
    "                            'showline' : True,\n",
    "                            'range' : [3.5,9],\n",
    "                            'gridcolor' : '#FFFFFF',\n",
    "                            'ticks' : 'outside',\n",
    "                            'tickwidth' : 2}\n",
    "\n",
    "figure['layout']['title'] = 'Movie Analysis'\n",
    "\n",
    "figure['layout']['titlefont'] = {'size' : 28, 'family' : 'Times New Roman'}\n",
    "\n",
    "figure['layout']['plot_bgcolor'] = 'rgb(223,232,243)'\n",
    "\n",
    "figure['layout']['updatemenus'] = [\n",
    "    {\n",
    "        'type': 'buttons',\n",
    "        'buttons' : [{\n",
    "            'label' : 'Play',\n",
    "            'method' : 'animate',\n",
    "            'args' : [None, {'frame' : {'duration' : 500, 'redraw': False},'fromcurrent': True,\n",
    "                             'transistion' : {'duration': 300, 'easing': 'quadratic-in-out'}}]\n",
    "        },\n",
    "        {\n",
    "            'label' :'Pause',\n",
    "            'method' : 'animate',\n",
    "            'args' : [[None], {'frame' : {'duration' : 0, 'redraw' : False}, 'mode': 'immediate',\n",
    "                                'transistion': {'duration': 0}}]\n",
    "        }],\n",
    "        'direction' : 'left',\n",
    "        'pad': {'r': 10, 't': 87},\n",
    "        'showactive' : False,\n",
    "        'x': 0.1,\n",
    "        'y': 0,\n",
    "        'xanchor': 'right',\n",
    "        'yanchor': 'top'\n",
    "    }\n",
    "]\n",
    "\n",
    "figure['layout']['legend'] = { 'font': { 'family' : 'Droid Sans',  \n",
    "                                        'size' : 16 }}"
   ]
  },
  {
   "cell_type": "markdown",
   "id": "c6a64738",
   "metadata": {},
   "source": [
    "** Initial Data **"
   ]
  },
  {
   "cell_type": "code",
   "execution_count": null,
   "id": "96b78137",
   "metadata": {},
   "outputs": [],
   "source": [
    "for i in range(len(genreList)):\n",
    "    figure['data'].append(data_(list1990[0][i], list1990[1][i], list1990[2][i], genreList[i], i))\n",
    "    \n",
    "figure['data'].append(function_(list1990[2], standardRatingList[0]))"
   ]
  },
  {
   "cell_type": "markdown",
   "id": "75466142",
   "metadata": {},
   "source": [
    "** Create a Dictionary for sliders **"
   ]
  },
  {
   "cell_type": "code",
   "execution_count": null,
   "id": "f61bc0ff",
   "metadata": {},
   "outputs": [],
   "source": [
    "sliders_dict = {\n",
    "    'active': 0,\n",
    "    'yanchor': 'top',\n",
    "    'xanchor': 'left',\n",
    "    'currentvalue': {\n",
    "        'font': {'size': 20}, \n",
    "        'prefix': 'Year:',\n",
    "        'visible': True,\n",
    "        'xanchor': 'right'\n",
    "    },\n",
    "    'transition': {'duration': 300, 'easing': 'cubic-in-out'},\n",
    "    'pad': {'b': 10, 't': 50},\n",
    "    'len': 0.9,\n",
    "    'x': 0.1,\n",
    "    'y': 0,\n",
    "    'steps': []\n",
    "}"
   ]
  },
  {
   "cell_type": "markdown",
   "id": "6f03b5b0",
   "metadata": {},
   "source": [
    "** Adding data to frames and then appending slider dict data to sliders **"
   ]
  },
  {
   "cell_type": "code",
   "execution_count": null,
   "id": "5224d9c9",
   "metadata": {},
   "outputs": [],
   "source": [
    "for year in yearList:\n",
    "    frame = {'data' : [], 'name': year}\n",
    "      \n",
    "    for i in range(len(genreList)):\n",
    "        if year == 1990:\n",
    "            frame['data'].append(data_(list1990[0][i], list1990[1][i], list1990[2][i], genreList[i], i))\n",
    "        elif year == 1995:\n",
    "            frame['data'].append(data_(list1995[0][i], list1995[1][i], list1995[2][i], genreList[i], i))\n",
    "        elif year == 2000:\n",
    "            frame['data'].append(data_(list2000[0][i], list2000[1][i], list2000[2][i], genreList[i], i))\n",
    "        elif year == 2005:\n",
    "            frame['data'].append(data_(list2005[0][i], list2005[1][i], list2005[2][i], genreList[i], i))\n",
    "        elif year == 2010:\n",
    "            frame['data'].append(data_(list2010[0][i], list2010[1][i], list2010[2][i], genreList[i], i))\n",
    "        else:\n",
    "            frame['data'].append(data_(list2014[0][i], list2014[1][i], list2014[2][i], genreList[i], i))\n",
    "         \n",
    "    if year == 1990:\n",
    "        frame['data'].append(function_(list1990[2], standardRatingList[0]))\n",
    "    elif year == 1995: \n",
    "        frame['data'].append(function_(list1995[2], standardRatingList[1]))\n",
    "    elif year == 2000:\n",
    "        frame['data'].append(function_(list2000[2], standardRatingList[2]))\n",
    "    elif year == 2005:\n",
    "        frame['data'].append(function_(list2005[2], standardRatingList[3]))\n",
    "    elif year == 2010:\n",
    "        frame['data'].append(function_(list2010[2], standardRatingList[4]))\n",
    "    else:\n",
    "        frame['data'].append(function_(list2014[2], standardRatingList[5]))\n",
    "        \n",
    "    figure['frames'].append(frame)\n",
    "        \n",
    "    slider_step = {'args': [\n",
    "        [year],\n",
    "        {'frame': {'duration': 300, 'redraw': True},\n",
    "         'mode': 'immediate',\n",
    "       'transition': {'duration': 300}}\n",
    "     ],\n",
    "     'label': year,\n",
    "     'method': 'animate'}\n",
    "    sliders_dict['steps'].append(slider_step)\n",
    "\n",
    "    \n",
    "figure['layout']['sliders'] = [sliders_dict]"
   ]
  },
  {
   "cell_type": "markdown",
   "id": "37037cb4",
   "metadata": {},
   "source": [
    "\n",
    "### Plotting the figure\n"
   ]
  }
 ],
 "metadata": {},
 "nbformat": 4,
 "nbformat_minor": 5
}
