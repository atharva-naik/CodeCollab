{
 "cells": [
  {
   "cell_type": "markdown",
   "id": "39c088fa",
   "metadata": {},
   "source": [
    "## File in Python"
   ]
  },
  {
   "cell_type": "markdown",
   "id": "b61d8b12",
   "metadata": {},
   "source": [
    "### - Read"
   ]
  },
  {
   "cell_type": "code",
   "execution_count": null,
   "id": "9049e7d5",
   "metadata": {},
   "outputs": [],
   "source": [
    "fo = open(\"C:\\\\Users\\\\SMohan910\\\\Desktop\\\\Sample.txt\")\n",
    "content = fo.read()\n",
    "print (content)"
   ]
  },
  {
   "cell_type": "markdown",
   "id": "3098399d",
   "metadata": {},
   "source": [
    "### -  Readline"
   ]
  },
  {
   "cell_type": "code",
   "execution_count": null,
   "id": "d6ed15cb",
   "metadata": {},
   "outputs": [],
   "source": [
    "fo = open(\"C:\\\\Users\\\\SMohan910\\\\Desktop\\\\Sample.txt\")\n",
    "content = fo.readline()\n",
    "print (content)"
   ]
  },
  {
   "cell_type": "markdown",
   "id": "ce4879a4",
   "metadata": {},
   "source": [
    "### - Readlines"
   ]
  },
  {
   "cell_type": "code",
   "execution_count": null,
   "id": "73c4dc81",
   "metadata": {},
   "outputs": [],
   "source": [
    "fo = open(\"C:\\\\Users\\\\SMohan910\\\\Desktop\\\\Sample.txt\")\n",
    "content = fo.readlines()\n",
    "print (content)"
   ]
  },
  {
   "cell_type": "markdown",
   "id": "ae1e9882",
   "metadata": {},
   "source": [
    "### - Write"
   ]
  },
  {
   "cell_type": "code",
   "execution_count": null,
   "id": "3514a4aa",
   "metadata": {},
   "outputs": [],
   "source": [
    "fo = open(\"C:\\\\Users\\\\SMohan910\\\\Desktop\\\\Sample_out.txt\",'a')\n",
    "content = \"Python is a great language.\\nIt is easy to understand.\\n\"\n",
    "fo.write(content)\n",
    "fo.close()"
   ]
  },
  {
   "cell_type": "markdown",
   "id": "15245865",
   "metadata": {},
   "source": [
    "### - Writelines"
   ]
  },
  {
   "cell_type": "code",
   "execution_count": null,
   "id": "c5fa4f11",
   "metadata": {},
   "outputs": [],
   "source": [
    "l = [1,2,3,4,5]\n",
    "l[:2]"
   ]
  },
  {
   "cell_type": "code",
   "execution_count": null,
   "id": "b2528f48",
   "metadata": {},
   "outputs": [],
   "source": [
    "import re\n",
    "import io"
   ]
  },
  {
   "cell_type": "code",
   "execution_count": null,
   "id": "714d2322",
   "metadata": {},
   "outputs": [],
   "source": [
    "zenPython = '''\n",
    "The Zen of Python, by Tim Peters\n",
    "\n",
    "Beautiful is better than ugly.\n",
    "Explicit is better than implicit.\n",
    "Simple is better than complex.\n",
    "Complex is better than complicated.\n",
    "Flat is better than nested.\n",
    "Sparse is better than dense.\n",
    "Readability counts.\n",
    "Special cases aren't special enough to break the rules.\n",
    "Although practicality beats purity.\n",
    "Errors should never pass silently.\n",
    "Unless explicitly silenced.\n",
    "In the face of ambiguity, refuse the temptation to guess.\n",
    "There should be one-- and preferably only one --obvious way to do it.\n",
    "Although that way may not be obvious at first unless you're Dutch.\n",
    "Now is better than never.\n",
    "Although never is often better than *right* now.\n",
    "If the implementation is hard to explain, it's a bad idea.\n",
    "If the implementation is easy to explain, it may be a good idea.\n",
    "Namespaces are one honking great idea -- let's do more of those!\n",
    "\n",
    "'''\n",
    "\n",
    "fp = io.StringIO(zenPython)\n",
    "zenlines = fp.readlines()\n",
    "zenlines = [line.strip() for line in zenlines]\n",
    "l = []\n",
    "pattern1 = r'(\\-- )(.*)(\\--)'\n",
    "for line in zenlines:\n",
    "    match = re.search(pattern1,line)\n",
    "    if match != None:\n",
    "        l.append(match.group(2))\n",
    "pattern2 = r'(\\*)(\\w+)'\n",
    "for line in zenlines:\n",
    "    match = re.search(pattern2,line)\n",
    "    if match != None:\n",
    "        l.append(match.group(2))\n",
    "print (l)"
   ]
  },
  {
   "cell_type": "code",
   "execution_count": null,
   "id": "b0eee895",
   "metadata": {},
   "outputs": [],
   "source": [
    "zenPython = '''\n",
    "The Zen of Python, by Tim Peters\n",
    "\n",
    "Beautiful is better than ugly.\n",
    "Explicit is better than implicit.\n",
    "Simple is better than complex.\n",
    "Complex is better than complicated.\n",
    "Flat is better than nested.\n",
    "Sparse is better than dense.\n",
    "Readability counts.\n",
    "Special cases aren't special enough to break the rules.\n",
    "Although practicality beats purity.\n",
    "Errors should never pass silently.\n",
    "Unless explicitly silenced.\n",
    "In the face of ambiguity, refuse the temptation to guess.\n",
    "There should be one-- and preferably only one --obvious way to do it.\n",
    "Although that way may not be obvious at first unless you're Dutch.\n",
    "Now is better than never.\n",
    "Although never is often better than *right* now.\n",
    "If the implementation is hard to explain, it's a bad idea.\n",
    "If the implementation is easy to explain, it may be a good idea.\n",
    "Namespaces are one honking great idea -- let's do more of those!\n",
    "\n",
    "'''\n",
    "\n",
    "fp = io.StringIO(zenPython)\n",
    "zenlines = fp.readlines()\n",
    "zenlines = [line.strip() for line in zenlines]\n",
    "# l = []\n",
    "# match = re.findall(r'(\\-- )(.*)(\\--)','(\\*)(\\w+)')\n",
    "# print (match.group())\n",
    "# pattern1 = r'(\\-- )(.*)(\\--)'\n",
    "for line in zenlines:\n",
    "    match = re.findall(r'(\\-- )(.*)(\\--)',line)\n",
    "    if len(match)!=0:\n",
    "        print (match)\n",
    "# pattern2 = r'(\\*)(\\w+)'\n",
    "# for line in zenlines:\n",
    "#     match = re.search(pattern2,line)\n",
    "#     if match != None:\n",
    "#         l.append(match.group(2))\n",
    "# print (l)"
   ]
  },
  {
   "cell_type": "markdown",
   "id": "150c788b",
   "metadata": {},
   "source": [
    "## Google Python class :\n",
    "\n",
    "In Python a regular expression search is typically written as:\n",
    "  #####  match = re.search(pat, str)\n",
    "- The re.search() method takes a regular expression pattern and a string and searches for that pattern within the string. If the search is successful, search() returns a match object or None otherwise."
   ]
  },
  {
   "cell_type": "markdown",
   "id": "9afae988",
   "metadata": {},
   "source": [
    "### Example"
   ]
  },
  {
   "cell_type": "code",
   "execution_count": null,
   "id": "9fcddead",
   "metadata": {},
   "outputs": [],
   "source": [
    "str = 'an example word: cat!!'\n",
    "match = re.search(r'word:\\s\\w\\w\\w\\W', str)\n",
    "# If-statement after search() tests if it succeeded\n",
    "if match:\n",
    "    print ('found', match.group()) ## 'found word:cat'\n",
    "else:\n",
    "    print ('did not find')"
   ]
  },
  {
   "cell_type": "markdown",
   "id": "93a64bd9",
   "metadata": {},
   "source": [
    "- The code match = re.search(pat, str) stores the search result in a variable named \"match\". Then the if-statement tests the match -- if true the search succeeded and match.group() is the matching text (e.g. 'word:cat'). Otherwise if the match is false (None to be more specific), then the search did not succeed, and there is no matching text.\n",
    "\n",
    "\n",
    "- The 'r' at the start of the pattern string designates a python \"raw\" string which passes through backslashes without change which is very handy for regular expressions (Java needs this feature badly!). I recommend that you always write pattern strings with the 'r' just as a habit."
   ]
  },
  {
   "cell_type": "markdown",
   "id": "1152ceba",
   "metadata": {},
   "source": [
    "### Repetition\n",
    "\n",
    "Things get more interesting when you use + and * to specify repetition in the pattern\n",
    "\n",
    "- '+' -- 1 or more occurrences of the pattern to its left, e.g. 'i+' = one or more i's\n",
    "- '*' -- 0 or more occurrences of the pattern to its left\n",
    "- '?' -- match 0 or 1 occurrences of the pattern to its left"
   ]
  },
  {
   "cell_type": "markdown",
   "id": "37f332b5",
   "metadata": {},
   "source": [
    "#### Repitition Example :"
   ]
  },
  {
   "cell_type": "code",
   "execution_count": null,
   "id": "e2a14e27",
   "metadata": {},
   "outputs": [],
   "source": [
    "new_str = \"Joke: what do you call a pig with three eyes? piiig!\"\n",
    "\n",
    "# i+ = one or more i's, as many as possible.\n",
    "match = re.search(r'pi+','piig')\n",
    "print (match.group())\n",
    "\n",
    "## Finds the first/leftmost solution, and within it drives the +\n",
    "## as far as possible (aka 'leftmost and largest').\n",
    "## In this example, note that it does not get to the second set of i's.\n",
    "match = re.search(r'i+', 'piigiiii')\n",
    "print (match.group())\n",
    "\n",
    "## \\s* = zero or more whitespace chars\n",
    "## Here look for 3 digits, possibly separated by whitespace.\n",
    "match = re.search(r'\\d\\s*\\d\\s*\\d','xx1 2  3xx')\n",
    "print (match.group())\n",
    "match = re.search(r'\\d\\s*\\d\\s*\\d','xx12  3xx')\n",
    "print (match.group())\n",
    "match = re.search(r'\\d\\s*\\d\\s*\\d','xx123xx')\n",
    "print (match.group())\n",
    "\n",
    "## ^ matches the starting of a string\n",
    "match = re.search(r'^f\\w+','foobar')\n",
    "print (match.group())\n",
    "match = re.search(r'b\\w+','foobar')\n",
    "print (match.group())"
   ]
  },
  {
   "cell_type": "markdown",
   "id": "2d23f872",
   "metadata": {},
   "source": [
    "#### Email Example :"
   ]
  },
  {
   "cell_type": "code",
   "execution_count": null,
   "id": "84756db8",
   "metadata": {},
   "outputs": [],
   "source": [
    "new_str = \"purple alice-b@google.com monkey dishwasher\"\n",
    "match = re.search(r'\\w+@\\w+',new_str)\n",
    "print (match.group())"
   ]
  },
  {
   "cell_type": "markdown",
   "id": "19080ed6",
   "metadata": {},
   "source": [
    "### Squaure Brackets\n",
    "\n",
    "- Square brackets can be used to indicate a set of chars, so [abc] matches 'a' or 'b' or 'c'. The codes \\w, \\s etc. work inside square brackets too with the one exception that dot (.) just means a literal dot. For the emails problem, the square brackets are an easy way to add '.' and '-' to the set of chars which can appear around the @ with the pattern r'[\\w.-]+@[\\w.-]+' to get the whole email address.\n",
    "\n",
    "\n",
    "- (More square-bracket features) You can also use a dash to indicate a range, so [a-z] matches all lowercase letters. To use a dash without indicating a range, put the dash last, e.g. [abc-]. An up-hat (^) at the start of a square-bracket set inverts it, so [^ab] means any char except 'a' or 'b'.\n",
    "\n"
   ]
  },
  {
   "cell_type": "markdown",
   "id": "fb905fe6",
   "metadata": {},
   "source": [
    "#### Sqaure Bracket Example on Email :"
   ]
  },
  {
   "cell_type": "code",
   "execution_count": null,
   "id": "c65c5328",
   "metadata": {},
   "outputs": [],
   "source": [
    "new_str = \"purple alice-b@google.com monkey dishwasher\"\n",
    "match = re.search(r'[\\w.-]+@[\\w.-]+',new_str)\n",
    "print (match.group())"
   ]
  },
  {
   "cell_type": "markdown",
   "id": "b5fc2f47",
   "metadata": {},
   "source": [
    "### Group Extraction\n",
    "\n",
    "- The \"group\" feature of a regular expression allows you to pick out parts of the matching text. Suppose for the emails problem that we want to extract the username and host separately. To do this, add parenthesis ( ) around the username and host in the pattern, like this: r'([\\w.-]+)@([\\w.-]+)'. In this case, the parenthesis do not change what the pattern will match, instead they establish logical \"groups\" inside of the match text. On a successful search, match.group(1) is the match text corresponding to the 1st left parenthesis, and match.group(2) is the text corresponding to the 2nd left parenthesis. The plain match.group() is still the whole match text as usual.\n",
    "\n",
    "\n",
    "- A common workflow with regular expressions is that you write a pattern for the thing you are looking for, adding parenthesis groups to extract the parts you want.\n"
   ]
  },
  {
   "cell_type": "markdown",
   "id": "57cf91c2",
   "metadata": {},
   "source": [
    "#### Group Extraction Example :"
   ]
  },
  {
   "cell_type": "code",
   "execution_count": null,
   "id": "3851a871",
   "metadata": {},
   "outputs": [],
   "source": [
    "new_str = 'purple alice-b@google.com monkey dishwasher'\n",
    "match = re.search(r'([\\w.-]+)@([\\w.-]+)\\.([\\w]+)',new_str)\n",
    "if match:\n",
    "    print (match.group())\n",
    "    print (match.group(1))\n",
    "    print (match.group(2))\n",
    "    print (match.group(3))"
   ]
  },
  {
   "cell_type": "markdown",
   "id": "faed62a1",
   "metadata": {},
   "source": [
    "### Findall\n",
    "\n",
    "- findall() is probably the single most powerful function in the re module. Above we used re.search() to find the first match for a pattern. findall() finds *all* the matches and returns them as a list of strings, with each string representing one match."
   ]
  },
  {
   "cell_type": "markdown",
   "id": "6eb53761",
   "metadata": {},
   "source": [
    "#### Findall Example :"
   ]
  }
 ],
 "metadata": {},
 "nbformat": 4,
 "nbformat_minor": 5
}
