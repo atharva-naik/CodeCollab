{
 "cells": [
  {
   "cell_type": "markdown",
   "id": "ab2b520d",
   "metadata": {},
   "source": [
    "# Classification Task\n",
    "Objective: Predict which loans will default such that a lender can decide which loans to put money in."
   ]
  },
  {
   "cell_type": "code",
   "execution_count": null,
   "id": "5c4e807a",
   "metadata": {},
   "outputs": [],
   "source": [
    "import pandas as pd\n",
    "import numpy as np\n",
    "import pickle"
   ]
  },
  {
   "cell_type": "code",
   "execution_count": null,
   "id": "13a0b876",
   "metadata": {},
   "outputs": [],
   "source": [
    "from datetime import datetime"
   ]
  },
  {
   "cell_type": "code",
   "execution_count": null,
   "id": "8b6add0c",
   "metadata": {},
   "outputs": [],
   "source": [
    "import seaborn as sns\n",
    "import matplotlib.pyplot as plt\n",
    "%matplotlib inline"
   ]
  },
  {
   "cell_type": "code",
   "execution_count": null,
   "id": "bf71d17a",
   "metadata": {},
   "outputs": [],
   "source": [
    "pd.set_option('display.max_columns', 100)"
   ]
  },
  {
   "cell_type": "markdown",
   "id": "86a3b6d9",
   "metadata": {},
   "source": [
    "## About\n",
    "\n",
    "This file contains complete loan data for all loans issued through the time period stated, including the current loan status (Current, Late, Fully Paid, etc.) and latest payment information. The file containing loan data through the \"present\" contains complete loan data for all loans issued through the previous completed calendar quarter.\n",
    "\n",
    "The data dictionary is in an accompanying file titled LCDataDictionary.xlsx\n",
    "\n",
    "Source: https://www.lendingclub.com/info/download-data.action"
   ]
  },
  {
   "cell_type": "code",
   "execution_count": null,
   "id": "e24122ab",
   "metadata": {},
   "outputs": [],
   "source": [
    "loans = pd.read_csv('lending-club-loan-data/loan.csv')\n",
    "loans.head(2)"
   ]
  },
  {
   "cell_type": "code",
   "execution_count": null,
   "id": "fb620976",
   "metadata": {},
   "outputs": [],
   "source": [
    "loans.shape"
   ]
  },
  {
   "cell_type": "code",
   "execution_count": null,
   "id": "dab066a1",
   "metadata": {},
   "outputs": [],
   "source": [
    "loans.columns.values"
   ]
  },
  {
   "cell_type": "markdown",
   "id": "e3bd0c62",
   "metadata": {},
   "source": [
    "There are 74 columns. At a glance, some of the important columns that would help to predict defaults are listed below."
   ]
  },
  {
   "cell_type": "markdown",
   "id": "06421dbe",
   "metadata": {},
   "source": [
    "### Exploratory Data Analysis"
   ]
  },
  {
   "cell_type": "code",
   "execution_count": null,
   "id": "c05b22d5",
   "metadata": {},
   "outputs": [],
   "source": [
    "# summary of all variables\n",
    "train.describe(include='all')"
   ]
  },
  {
   "cell_type": "code",
   "execution_count": null,
   "id": "e87cc969",
   "metadata": {},
   "outputs": [],
   "source": [
    "# univariate plot\n",
    "sns.distplot(train.loan_amnt);"
   ]
  },
  {
   "cell_type": "markdown",
   "id": "8e225a6c",
   "metadata": {},
   "source": [
    "The univariate distribution for the loan amount does not follow a normal distribution."
   ]
  },
  {
   "cell_type": "code",
   "execution_count": null,
   "id": "e313404a",
   "metadata": {},
   "outputs": [],
   "source": [
    "sns.boxplot(x = 'loan_status', y = 'loan_amnt', data=train);"
   ]
  },
  {
   "cell_type": "markdown",
   "id": "1bd2e5cf",
   "metadata": {},
   "source": [
    "The median value of loan amount for Charged Off loans is higher."
   ]
  },
  {
   "cell_type": "code",
   "execution_count": null,
   "id": "d37d1dee",
   "metadata": {},
   "outputs": [],
   "source": [
    "g = sns.FacetGrid(train, col ='loan_status')\n",
    "g.map(sns.distplot, \"loan_amnt\");"
   ]
  },
  {
   "cell_type": "markdown",
   "id": "6ff52352",
   "metadata": {},
   "source": [
    "The loan amount for both the loan statuses follows a roughly similar distribution."
   ]
  },
  {
   "cell_type": "code",
   "execution_count": null,
   "id": "64ada478",
   "metadata": {},
   "outputs": [],
   "source": [
    "# Create another column called 'default' to help with EDA\n",
    "train['default'] = np.where(train.loan_status == 'Charged Off', 1, 0)"
   ]
  },
  {
   "cell_type": "code",
   "execution_count": null,
   "id": "b50f126a",
   "metadata": {},
   "outputs": [],
   "source": [
    "plt.figure(figsize=(15, 5))\n",
    "sns.barplot(x=\"purpose\", y=\"default\", data=train,estimator=np.mean)\n",
    "plt.xticks(rotation='vertical');"
   ]
  },
  {
   "cell_type": "markdown",
   "id": "2f0a49a7",
   "metadata": {},
   "source": [
    "Small business loans have the highest proportion of defaults while loans for purchasing a car have the lowest."
   ]
  },
  {
   "cell_type": "markdown",
   "id": "7e630c1f",
   "metadata": {},
   "source": [
    "### Task for Students:\n",
    "* Explore each variable in the data set further."
   ]
  },
  {
   "cell_type": "code",
   "execution_count": null,
   "id": "1ad275e4",
   "metadata": {},
   "outputs": [],
   "source": [
    "# Remove observations containing ANY\n",
    "loans_df = loans_df.query('home_ownership != \"ANY\"')"
   ]
  },
  {
   "cell_type": "code",
   "execution_count": null,
   "id": "7b970bc7",
   "metadata": {},
   "outputs": [],
   "source": [
    "loans_df.home_ownership.value_counts()"
   ]
  },
  {
   "cell_type": "markdown",
   "id": "f4c62dfc",
   "metadata": {},
   "source": [
    "#### Verification Status"
   ]
  },
  {
   "cell_type": "code",
   "execution_count": null,
   "id": "625290d5",
   "metadata": {},
   "outputs": [],
   "source": [
    "loans_df.verification_status.value_counts()"
   ]
  },
  {
   "cell_type": "markdown",
   "id": "d26ce944",
   "metadata": {},
   "source": [
    "#### Credit Line Time\n",
    "Since the length of time an applicant has a credit history is an important predictor of whether he will default on his loan, we calculate the number of days between the `issue_d` and the `earliest_credit_line`."
   ]
  },
  {
   "cell_type": "code",
   "execution_count": null,
   "id": "e8e7f8dc",
   "metadata": {},
   "outputs": [],
   "source": [
    "loans_df.issue_d.value_counts()"
   ]
  },
  {
   "cell_type": "code",
   "execution_count": null,
   "id": "923a92e9",
   "metadata": {},
   "outputs": [],
   "source": [
    "loans_df.earliest_cr_line.value_counts()"
   ]
  },
  {
   "cell_type": "markdown",
   "id": "3dfe1a93",
   "metadata": {},
   "source": [
    "Since the issue date and the earliest credit line variables are not in date time format, we'll have to convert them to datetime."
   ]
  },
  {
   "cell_type": "code",
   "execution_count": null,
   "id": "d50f057a",
   "metadata": {},
   "outputs": [],
   "source": [
    "loans_df.issue_d = pd.to_datetime(loans_df.issue_d)\n",
    "loans_df.issue_d.value_counts()"
   ]
  },
  {
   "cell_type": "code",
   "execution_count": null,
   "id": "f5337d44",
   "metadata": {},
   "outputs": [],
   "source": [
    "loans_df.earliest_cr_line = pd.to_datetime(loans_df.earliest_cr_line)\n",
    "loans_df.earliest_cr_line.value_counts()"
   ]
  },
  {
   "cell_type": "code",
   "execution_count": null,
   "id": "ed4ea609",
   "metadata": {},
   "outputs": [],
   "source": [
    "loans_df['credit_line_days'] = (loans_df['issue_d'] - loans_df['earliest_cr_line']).dt.days"
   ]
  },
  {
   "cell_type": "markdown",
   "id": "c8988936",
   "metadata": {},
   "source": [
    "Since we now do not need the `earliest_cr_line` and `issue_d` variables we drop them."
   ]
  },
  {
   "cell_type": "code",
   "execution_count": null,
   "id": "6bf15163",
   "metadata": {},
   "outputs": [],
   "source": [
    "loans_df = loans_df.loc[:, pd.notnull(loans_df).sum() > int(len(loans_df)*(1 - frac))]"
   ]
  },
  {
   "cell_type": "code",
   "execution_count": null,
   "id": "13790839",
   "metadata": {},
   "outputs": [],
   "source": [
    "loans_df.head()"
   ]
  },
  {
   "cell_type": "code",
   "execution_count": null,
   "id": "5ce2be67",
   "metadata": {},
   "outputs": [],
   "source": [
    "loans_df.shape"
   ]
  },
  {
   "cell_type": "code",
   "execution_count": null,
   "id": "23e25981",
   "metadata": {},
   "outputs": [],
   "source": [
    "loans_df.isnull().sum()"
   ]
  },
  {
   "cell_type": "markdown",
   "id": "a95eab59",
   "metadata": {},
   "source": [
    "Variables such as `mths_since_last_delinq`, `mths_since_last_record`, `revol_util` and `total_rev_hi_lim` still have `NA` values. These values will be replaced with the mean later."
   ]
  },
  {
   "cell_type": "code",
   "execution_count": null,
   "id": "daf4fd4f",
   "metadata": {},
   "outputs": [],
   "source": [
    "from sklearn.model_selection import train_test_split\n",
    "\n",
    "train, test = train_test_split(loans_df, test_size=0.30, random_state=1)"
   ]
  },
  {
   "cell_type": "code",
   "execution_count": null,
   "id": "96316415",
   "metadata": {},
   "outputs": [],
   "source": [
    "train.shape"
   ]
  },
  {
   "cell_type": "code",
   "execution_count": null,
   "id": "ac73a427",
   "metadata": {},
   "outputs": [],
   "source": [
    "test.shape"
   ]
  },
  {
   "cell_type": "code",
   "execution_count": null,
   "id": "04da269a",
   "metadata": {},
   "outputs": [],
   "source": [
    "imp_cols = ['loan_amnt', 'term', 'int_rate', 'installment', 'emp_length', 'home_ownership', \n",
    "           'annual_inc', 'verification_status', 'issue_d', 'loan_status', 'purpose', 'dti', 'delinq_2yrs', 'earliest_cr_line', \n",
    "           'inq_last_6mths', 'mths_since_last_delinq', 'mths_since_last_record', 'open_acc', 'pub_rec', 'revol_bal', 'revol_util',\n",
    "           'total_acc', 'acc_now_delinq', 'max_bal_bc','all_util', 'total_rev_hi_lim', 'inq_fi', 'inq_last_12m']"
   ]
  },
  {
   "cell_type": "markdown",
   "id": "e300e673",
   "metadata": {},
   "source": [
    "Some columns have unstructured text such as `desc` and `emp_title`, while others such as `funded_amnt` are created after the loan has been invested in, a scenario which we do not care about."
   ]
  },
  {
   "cell_type": "markdown",
   "id": "1fb46b6d",
   "metadata": {},
   "source": [
    "#### Task For Students\n",
    "Explore each variable in the data dictionary and see why or why not it was included."
   ]
  },
  {
   "cell_type": "code",
   "execution_count": null,
   "id": "20f74b3f",
   "metadata": {},
   "outputs": [],
   "source": [
    "# subset the original data frame to include the columns mentioned above.\n",
    "loans_df = loans[imp_cols]\n",
    "del (loans)"
   ]
  },
  {
   "cell_type": "markdown",
   "id": "fb09c240",
   "metadata": {},
   "source": [
    "The number of columns in the data frame have been reduced from the previous 74."
   ]
  },
  {
   "cell_type": "markdown",
   "id": "f47978a1",
   "metadata": {},
   "source": [
    "## Feature Engineering\n",
    "Feature engineering a few variables."
   ]
  },
  {
   "cell_type": "markdown",
   "id": "ef774973",
   "metadata": {},
   "source": [
    "#### Term"
   ]
  },
  {
   "cell_type": "code",
   "execution_count": null,
   "id": "061a5b61",
   "metadata": {},
   "outputs": [],
   "source": [
    "loans_df.term.value_counts()"
   ]
  },
  {
   "cell_type": "markdown",
   "id": "5558dc25",
   "metadata": {},
   "source": [
    "#### Employment Length"
   ]
  },
  {
   "cell_type": "code",
   "execution_count": null,
   "id": "d0336779",
   "metadata": {},
   "outputs": [],
   "source": [
    "loans_df.emp_length.value_counts()"
   ]
  },
  {
   "cell_type": "markdown",
   "id": "0a92645f",
   "metadata": {},
   "source": [
    "We could leave 'emp_length' as categorical data, but it shouldn't be treated as such or as ordinal data since the intervals are easy to determine. We thus convert it into numerical data."
   ]
  },
  {
   "cell_type": "code",
   "execution_count": null,
   "id": "bb66ef6b",
   "metadata": {},
   "outputs": [],
   "source": [
    "loans_df.drop(axis=1, labels=['earliest_cr_line', 'issue_d'], inplace=True)"
   ]
  },
  {
   "cell_type": "markdown",
   "id": "31a5e7bf",
   "metadata": {},
   "source": [
    "#### Loan Status"
   ]
  },
  {
   "cell_type": "code",
   "execution_count": null,
   "id": "1b0b3731",
   "metadata": {},
   "outputs": [],
   "source": [
    "loans_df.loan_status.value_counts()"
   ]
  },
  {
   "cell_type": "code",
   "execution_count": null,
   "id": "7d3a562c",
   "metadata": {},
   "outputs": [],
   "source": [
    "# consider only loans that are fully paid, charged off or default.\n",
    "loans_df = loans_df.query('loan_status == \"Fully Paid\" | loan_status == \"Charged Off\" | loan_status == \"Default\"')"
   ]
  },
  {
   "cell_type": "code",
   "execution_count": null,
   "id": "a425e08d",
   "metadata": {},
   "outputs": [],
   "source": [
    "# Replace Default with Charged Off so there are only 2 factors\n",
    "loans_df.loan_status.replace(inplace=True, to_replace='Default', value='Charged Off')"
   ]
  },
  {
   "cell_type": "markdown",
   "id": "4937c11d",
   "metadata": {},
   "source": [
    "#### Find the number of NA values under each column."
   ]
  },
  {
   "cell_type": "markdown",
   "id": "fa7f4a83",
   "metadata": {},
   "source": [
    "#### Drop columns which have more than 90% NA values."
   ]
  },
  {
   "cell_type": "code",
   "execution_count": null,
   "id": "50a09d48",
   "metadata": {},
   "outputs": [],
   "source": [
    "frac = 0.9"
   ]
  },
  {
   "cell_type": "code",
   "execution_count": null,
   "id": "ff6c6df8",
   "metadata": {},
   "outputs": [],
   "source": [
    "replace_dict = {'10+ years':10, '2 years':2, '< 1 year':0, '3 years':3, '1 year':1, '5 years':5, '4 years':4, 'n/a':0, \n",
    "                '7 years':7, '8 years':8, '6 years':6, '9 years':9}"
   ]
  },
  {
   "cell_type": "code",
   "execution_count": null,
   "id": "455ed2c3",
   "metadata": {},
   "outputs": [],
   "source": [
    "loans_df.emp_length.replace(replace_dict, inplace=True)"
   ]
  },
  {
   "cell_type": "markdown",
   "id": "58e892a3",
   "metadata": {},
   "source": [
    "#### Home Ownership"
   ]
  },
  {
   "cell_type": "markdown",
   "id": "97e7cd43",
   "metadata": {},
   "source": [
    "Since there are only a few observations with home ownership ANY, remove those observations."
   ]
  },
  {
   "cell_type": "code",
   "execution_count": null,
   "id": "98ee3671",
   "metadata": {},
   "outputs": [],
   "source": [
    "X_test = pd.get_dummies(columns=['term', 'home_ownership', 'verification_status', 'purpose'], data=X_test)"
   ]
  },
  {
   "cell_type": "code",
   "execution_count": null,
   "id": "5d1fc391",
   "metadata": {},
   "outputs": [],
   "source": [
    "X_test.columns.values"
   ]
  },
  {
   "cell_type": "markdown",
   "id": "9ef08a48",
   "metadata": {},
   "source": [
    "#### Replace NA values with the mean in the trainining and testing set."
   ]
  },
  {
   "cell_type": "code",
   "execution_count": null,
   "id": "66351953",
   "metadata": {},
   "outputs": [],
   "source": [
    "X_train.isnull().sum()"
   ]
  },
  {
   "cell_type": "code",
   "execution_count": null,
   "id": "4d824244",
   "metadata": {},
   "outputs": [],
   "source": [
    "X_train.fillna(X_train.mean(), inplace=True)"
   ]
  },
  {
   "cell_type": "code",
   "execution_count": null,
   "id": "3a0873d7",
   "metadata": {},
   "outputs": [],
   "source": [
    "X_test.fillna(X_train.mean(), inplace=True)"
   ]
  },
  {
   "cell_type": "code",
   "execution_count": null,
   "id": "2d339b5b",
   "metadata": {},
   "outputs": [],
   "source": [
    "X_test.isnull().sum()"
   ]
  },
  {
   "cell_type": "code",
   "execution_count": null,
   "id": "e8a9c006",
   "metadata": {},
   "outputs": [],
   "source": [
    "y_train.value_counts()"
   ]
  },
  {
   "cell_type": "code",
   "execution_count": null,
   "id": "062b3a08",
   "metadata": {},
   "outputs": [],
   "source": [
    "y_train = np.where(y_train == 'Charged Off', 1, 0)"
   ]
  },
  {
   "cell_type": "code",
   "execution_count": null,
   "id": "15edda76",
   "metadata": {},
   "outputs": [],
   "source": [
    "y_test = np.where(y_test == 'Charged Off', 1, 0)"
   ]
  },
  {
   "cell_type": "markdown",
   "id": "e652a9c5",
   "metadata": {},
   "source": [
    "### Modelling\n",
    "Fit a Random Forest Model with Accuracy as the Performance Metric."
   ]
  }
 ],
 "metadata": {},
 "nbformat": 4,
 "nbformat_minor": 5
}
