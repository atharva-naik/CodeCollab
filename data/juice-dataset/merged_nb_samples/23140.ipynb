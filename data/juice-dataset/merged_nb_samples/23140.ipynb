{
 "cells": [
  {
   "cell_type": "markdown",
   "id": "7201c179",
   "metadata": {},
   "source": [
    "# Python documentation\n",
    "---\n",
    "Alexandre Boucaud <aboucaud@ias.u-psud.fr>"
   ]
  },
  {
   "cell_type": "markdown",
   "id": "3b4e1e0f",
   "metadata": {},
   "source": [
    "## Overview"
   ]
  },
  {
   "cell_type": "markdown",
   "id": "7c0d3856",
   "metadata": {},
   "source": [
    "* [Introduction](#Introduction)\n",
    "* [Method documentation](#Method-documentation)\n",
    "* [Class documentation](#Class-documentation)\n",
    "* [Module documentation](#Module-documentation)\n",
    "* [Comments](#Comments)\n",
    "* [Tips](#Tips)\n",
    "* [Links](#Links)"
   ]
  },
  {
   "cell_type": "markdown",
   "id": "49775c90",
   "metadata": {},
   "source": [
    "## Introduction"
   ]
  },
  {
   "cell_type": "markdown",
   "id": "d5b95ede",
   "metadata": {},
   "source": [
    "This presentation covers the inner documentation of a Python project, meaning the **documentation towards other developers & collaborators**, not a user manual.\n",
    "\n",
    "* Such documentation is written via **docstrings**, a line or block of characters that will be interpreted as such and be delivered to the user when requested.\n",
    "\n",
    "* Everything in Python is an object and **every object can have its own docstring**. \n",
    "\n",
    "* The documentation can be accessed through the builtin **`help()`** function, or via a **?** at right after an object name in an *IPython* terminal."
   ]
  },
  {
   "cell_type": "code",
   "execution_count": null,
   "id": "af3ecbe1",
   "metadata": {},
   "outputs": [],
   "source": [
    "def f():\n",
    "    \"\"\"This is a single-line docstring\"\"\"\n",
    "    \n",
    "help(f)"
   ]
  },
  {
   "cell_type": "markdown",
   "id": "42ed635c",
   "metadata": {},
   "source": [
    "# Python docstring"
   ]
  },
  {
   "cell_type": "markdown",
   "id": "d9008fee",
   "metadata": {},
   "source": [
    "## A Python docstring "
   ]
  },
  {
   "cell_type": "markdown",
   "id": "9f1877c8",
   "metadata": {},
   "source": [
    "* starts with `\"\"\"` and ends with `\"\"\"` on a **new line**. "
   ]
  },
  {
   "cell_type": "code",
   "execution_count": null,
   "id": "4f19ee7d",
   "metadata": {},
   "outputs": [],
   "source": [
    "\"\"\"This is a classic Python docstring.\n",
    "\n",
    "It uses multiple lines.\n",
    "\"\"\""
   ]
  },
  {
   "cell_type": "markdown",
   "id": "52a06c52",
   "metadata": {},
   "source": [
    "The only exception is if the docstring is one-line long."
   ]
  },
  {
   "cell_type": "code",
   "execution_count": null,
   "id": "1fdad06f",
   "metadata": {},
   "outputs": [],
   "source": [
    "\"\"\"This is a one-line docstring.\"\"\""
   ]
  },
  {
   "cell_type": "markdown",
   "id": "9cb776c7",
   "metadata": {},
   "source": [
    "* uses **double quotes** `\"\"\"` instead of simple quotes `'''`."
   ]
  },
  {
   "cell_type": "markdown",
   "id": "de87f9d5",
   "metadata": {},
   "source": [
    "* shall be wrapped after **72** characters."
   ]
  },
  {
   "cell_type": "markdown",
   "id": "6d3269ec",
   "metadata": {},
   "source": [
    "* has a blank line between paragraphs & sections."
   ]
  },
  {
   "cell_type": "markdown",
   "id": "830c13e4",
   "metadata": {},
   "source": [
    "## The docstring structure is"
   ]
  },
  {
   "cell_type": "markdown",
   "id": "28228656",
   "metadata": {},
   "source": [
    "1. Short description\n",
    "2. Deprecation warning *(if applicable)*\n",
    "3. Extended description *(optional)*\n",
    "4. Sections *(see [methods](#Method-documentation) and [classes](#Class-documentation))*\n",
    "5. Links *(optional, use ReStructured Text syntax)*"
   ]
  },
  {
   "cell_type": "markdown",
   "id": "21f721ef",
   "metadata": {},
   "source": [
    "## Comments"
   ]
  },
  {
   "cell_type": "markdown",
   "id": "28bdcfca",
   "metadata": {},
   "source": [
    "start with the **`#` character** in Python. \n",
    "\n",
    "\n",
    "In a given Python line, everything behind this character will be **escaped** when interpreting the code.\n",
    "\n",
    "\n",
    "There are 3 main user cases for comments in Python:\n",
    "\n",
    "* boilerplate\n",
    "* block comment\n",
    "* inline comment"
   ]
  },
  {
   "cell_type": "markdown",
   "id": "363b7635",
   "metadata": {},
   "source": [
    "## boilerplate"
   ]
  },
  {
   "cell_type": "markdown",
   "id": "351f4e1d",
   "metadata": {},
   "source": [
    "Should be present at **the top** of every `.py` file, before the module docstring."
   ]
  },
  {
   "cell_type": "code",
   "execution_count": null,
   "id": "05b7554c",
   "metadata": {},
   "outputs": [],
   "source": [
    "# -*- coding: utf-8 -*-\n",
    "\n",
    "# Copyright (C) 2012-2020 Euclid Developers\n",
    "#\n",
    "# This file is part of <this code>.\n",
    "#\n",
    "# <this code> is free software: you can redistribute it and/or modify\n",
    "# it under the terms of the GNU Lesser General Public License as \n",
    "# published by the Free Software Foundation, either version 3 of \n",
    "# the License, or (at your option) any later version.\n",
    "#\n",
    "# <this code> is distributed in the hope that it will be useful,\n",
    "# but WITHOUT ANY WARRANTY; without even the implied warranty of\n",
    "# MERCHANTABILITY or FITNESS FOR A PARTICULAR PURPOSE.  See the\n",
    "# GNU Lesser General Public License for more details.\n",
    "#\n",
    "# You should have received a copy of the GNU Lesser General Public License\n",
    "# along with <this code>.  If not, see <http://www.gnu.org/licenses/>"
   ]
  },
  {
   "cell_type": "markdown",
   "id": "79d7ccba",
   "metadata": {},
   "source": [
    "## block comments"
   ]
  },
  {
   "cell_type": "markdown",
   "id": "798ce7a4",
   "metadata": {},
   "source": [
    "Are used to help another developer read the code"
   ]
  },
  {
   "cell_type": "code",
   "execution_count": null,
   "id": "aa4cafa8",
   "metadata": {},
   "outputs": [],
   "source": [
    "# This is an example of a block comment\n",
    "# it can add some explanations on the \n",
    "# current process and for instance give\n",
    "# some references."
   ]
  },
  {
   "cell_type": "markdown",
   "id": "a0f9ec54",
   "metadata": {},
   "source": [
    "They can also be used to write flags, such as TODO's (which are recognized in some IDEs)"
   ]
  },
  {
   "cell_type": "code",
   "execution_count": null,
   "id": "d31ea9c5",
   "metadata": {},
   "outputs": [],
   "source": [
    "# TODO: check that the returned type is the same as the input type"
   ]
  },
  {
   "cell_type": "markdown",
   "id": "6a332506",
   "metadata": {},
   "source": [
    "## inline comments"
   ]
  },
  {
   "cell_type": "markdown",
   "id": "0ffa666a",
   "metadata": {},
   "source": [
    "Are used for very specific help that only applies to the current line."
   ]
  },
  {
   "cell_type": "code",
   "execution_count": null,
   "id": "73862e88",
   "metadata": {},
   "outputs": [],
   "source": [
    "url_regex = (\n",
    "    r'^(?:http|ftp)s?://'  # http:// or https:// or ftp:// or ftps://\n",
    "    r'(?:(?:[A-Z0-9](?:[A-Z0-9-]{0,61}[A-Z0-9])?\\.)+'\n",
    "    r'(?:[A-Z]{2,6}\\.?|[A-Z0-9-]{2,}\\.?)|'  # domain...\n",
    "    r'localhost|'  # localhost...\n",
    "    r'\\d{1,3}\\.\\d{1,3}\\.\\d{1,3}\\.\\d{1,3})'  # ...or ip\n",
    "    r'(?::\\d+)?'  # optional port\n",
    "    r'(?:/?|[/?]\\S+)$')"
   ]
  },
  {
   "cell_type": "markdown",
   "id": "25f31baa",
   "metadata": {},
   "source": [
    "They should be used with parcimony."
   ]
  },
  {
   "cell_type": "markdown",
   "id": "9cceab00",
   "metadata": {},
   "source": [
    "## Tips"
   ]
  },
  {
   "cell_type": "markdown",
   "id": "1480b7fe",
   "metadata": {},
   "source": [
    "* `array_like` type should be used for functions that take arguments which can have not only a type ndarray, or types that can be converted to an ndarray.\n",
    "\n",
    "\n",
    "* Variable, module, function, and class names should be written between single back-ticks ( \\``numpy`\\` ).\n",
    "* Use ``*italics*``, `**bold**` and ` ``monospace`` `to augment the readibility elsewhere.\n",
    "\n",
    "\n",
    "* Notes and Warnings if points in the docstring **deserve** special emphasis. Should be used **sparingly**."
   ]
  },
  {
   "cell_type": "code",
   "execution_count": null,
   "id": "207294f9",
   "metadata": {},
   "outputs": [],
   "source": [
    "    \"\"\"\n",
    "    Methods\n",
    "    -------\n",
    "    method_alpha(arg='rgb')\n",
    "        `method_alpha` short description\n",
    "    method_gamma(arg2=1.0)\n",
    "        `method_gamma` short description\n",
    "\n",
    "    \"\"\""
   ]
  },
  {
   "cell_type": "markdown",
   "id": "74156133",
   "metadata": {},
   "source": [
    "## Class properties"
   ]
  },
  {
   "cell_type": "markdown",
   "id": "0861be1a",
   "metadata": {},
   "source": [
    "Properties should only be documented in their **getter** method, even if the setter method contains notable behavior."
   ]
  },
  {
   "cell_type": "code",
   "execution_count": null,
   "id": "bf1096dc",
   "metadata": {},
   "outputs": [],
   "source": [
    "    @property\n",
    "    def size(self):\n",
    "        \"\"\"float: property of the class\n",
    "        \n",
    "        Both getter and setter method documentation is\n",
    "        defined in the getter method docstring\n",
    "        \n",
    "        \"\"\"\n",
    "        return self._size\n",
    "        \n",
    "    @size.setter\n",
    "    def size(self, value):\n",
    "        self._size = value"
   ]
  },
  {
   "cell_type": "markdown",
   "id": "544e8a13",
   "metadata": {},
   "source": [
    "## Class representation"
   ]
  },
  {
   "cell_type": "markdown",
   "id": "bbe96707",
   "metadata": {},
   "source": [
    "As part of the overall documentation, it is useful to **provide** classes with **representations**, that is a definition of `__repr__` and optionally `__str__` special methods.\n",
    "\n",
    "Such methods are called when the class instance is printed on screen."
   ]
  },
  {
   "cell_type": "code",
   "execution_count": null,
   "id": "45d57df0",
   "metadata": {},
   "outputs": [],
   "source": [
    "class MyClass(object):\n",
    "    def __init__(self, value1, value2):\n",
    "        self.value1 = value1\n",
    "        self.value2 = value2\n",
    "        \n",
    "    def __repr__(self):\n",
    "        return \"{!s}({!r})\".format(self.__class__.__name__, self.__dict__)\n",
    "    \n",
    "print(MyClass(2, 5))"
   ]
  },
  {
   "cell_type": "markdown",
   "id": "3cbbf1af",
   "metadata": {},
   "source": [
    "# Module documentation"
   ]
  },
  {
   "cell_type": "markdown",
   "id": "bc1a0709",
   "metadata": {},
   "source": [
    "## The module docstring"
   ]
  },
  {
   "cell_type": "markdown",
   "id": "3899576a",
   "metadata": {},
   "source": [
    "* appears right after the [boilerplate](#boilerplate) and **before the imports**.\n",
    "\n",
    "* must be written with the exact **same structure and syntax** as the previous examples.\n",
    "\n",
    "* should explain the **scope** of the current module.\n",
    "\n",
    "* can be placed in **`__init__.py`** files to document submodules."
   ]
  },
  {
   "cell_type": "markdown",
   "id": "a6afebdc",
   "metadata": {},
   "source": [
    "Should follow the structure, keeping in mind most of these sections are optional :\n",
    "\n",
    "1. summary\n",
    "2. extended summary\n",
    "3. routine listings\n",
    "4. see also\n",
    "5. notes\n",
    "6. references\n",
    "7. examples"
   ]
  },
  {
   "cell_type": "markdown",
   "id": "28b1874e",
   "metadata": {},
   "source": [
    "## Module variable docstring"
   ]
  }
 ],
 "metadata": {},
 "nbformat": 4,
 "nbformat_minor": 5
}
