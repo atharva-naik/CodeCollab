{
 "cells": [
  {
   "cell_type": "markdown",
   "id": "ad9cda4e",
   "metadata": {},
   "source": [
    "# Investigating Misclassifications by Model\n",
    "\n",
    "**Methods:**\n",
    ">1. Load and concat data\n",
    ">2. Identify misclassified cases\n",
    ">3. Investigate the respective predictions by model"
   ]
  },
  {
   "cell_type": "code",
   "execution_count": null,
   "id": "65ffe2b8",
   "metadata": {},
   "outputs": [],
   "source": [
    "%matplotlib inline\n",
    "import numpy as np\n",
    "import pandas as pd\n",
    "import matplotlib.pyplot as plt\n",
    "import sklearn.svm as skl_svm\n",
    "import sklearn.cross_validation as skl_cv\n",
    "import seaborn as sns\n",
    "import os\n",
    "import sys\n",
    "\n",
    "base_path = '/home/lundi/Python/MNIST/'\n",
    "sys.path.append(base_path + '/libraries/')\n",
    "\n",
    "import time\n",
    "import glob\n",
    "\n",
    "import MNIST_model_functions as mmf\n",
    "MNIST_model_functions = mmf.MNIST_model_functions()"
   ]
  },
  {
   "cell_type": "markdown",
   "id": "373721f5",
   "metadata": {},
   "source": [
    "## 1. Load and concat data"
   ]
  },
  {
   "cell_type": "code",
   "execution_count": null,
   "id": "408e140d",
   "metadata": {},
   "outputs": [],
   "source": [
    "prediction_data_v1 = pd.DataFrame()\n",
    "\n",
    "for filename in glob.glob(base_path + '/data/prediction_results/2016.11.7-*_results.csv'):\n",
    "    prediction_data_v1 = pd.concat([prediction_data_v1, pd.read_csv(filename)])\n",
    "prediction_data_v1 = prediction_data_v1.rename(columns = {'Unnamed: 0': 'datum_index'})\n",
    "#prediction_data_v1 = prediction_data_v1.drop(['Unnamed: 0'], axis = 1)"
   ]
  },
  {
   "cell_type": "markdown",
   "id": "f5053299",
   "metadata": {},
   "source": [
    "## 2. Identify misclassified cases"
   ]
  },
  {
   "cell_type": "code",
   "execution_count": null,
   "id": "5313918e",
   "metadata": {},
   "outputs": [],
   "source": [
    "prediction_data_v1.loc[prediction_data_v1['datum_index'] == 0]"
   ]
  },
  {
   "cell_type": "markdown",
   "id": "d83267f7",
   "metadata": {},
   "source": [
    "I will calculate the fraction of misclassifications for each datum"
   ]
  },
  {
   "cell_type": "code",
   "execution_count": null,
   "id": "d823e528",
   "metadata": {},
   "outputs": [],
   "source": [
    "average_misclassification_fraction = prediction_data_v1.groupby(['datum_index'])['is_misclassified'].mean().reset_index()\n",
    "average_misclassification_fraction = average_misclassification_fraction.rename(columns = {'is_misclassified': 'misclassified_frac'})"
   ]
  },
  {
   "cell_type": "markdown",
   "id": "e1d75c6e",
   "metadata": {},
   "source": [
    "Now, I will merge this data onto the original prediction data"
   ]
  },
  {
   "cell_type": "code",
   "execution_count": null,
   "id": "faf15ba4",
   "metadata": {},
   "outputs": [],
   "source": [
    "prediction_data_v2 = pd.merge(prediction_data_v1, average_misclassification_fraction, on = ['datum_index'])"
   ]
  },
  {
   "cell_type": "markdown",
   "id": "1de78796",
   "metadata": {},
   "source": [
    "Now I will grab cases where the misclassification is 0.5"
   ]
  },
  {
   "cell_type": "code",
   "execution_count": null,
   "id": "cde0b6d2",
   "metadata": {},
   "outputs": [],
   "source": [
    "split_classified_data = prediction_data_v2.loc[prediction_data_v2['misclassified_frac'] == 0.5].drop(['misclassified_frac'], axis=1)"
   ]
  },
  {
   "cell_type": "markdown",
   "id": "d85ea0be",
   "metadata": {},
   "source": [
    "## 3. Investigate the respective predictions by model"
   ]
  },
  {
   "cell_type": "markdown",
   "id": "7a1c1e83",
   "metadata": {},
   "source": [
    "Let's predict which models predict together. To do this, I will pivot the table to yield predictions"
   ]
  },
  {
   "cell_type": "code",
   "execution_count": null,
   "id": "f796a601",
   "metadata": {},
   "outputs": [],
   "source": [
    "split_classified_pivot_data = pd.pivot_table(split_classified_data[['datum_index','Actual','Predicted','is_misclassified','Model']], \n",
    "                   values = ['is_misclassified'], index = ['datum_index'], columns = ['Model'])"
   ]
  },
  {
   "cell_type": "code",
   "execution_count": null,
   "id": "c7266a0a",
   "metadata": {},
   "outputs": [],
   "source": [
    "split_classified_pivot_data.corr()"
   ]
  },
  {
   "cell_type": "markdown",
   "id": "1c14d91c",
   "metadata": {},
   "source": [
    "A -1.0 here means that they don't predict the same at all. So GBM predicts quite differently from RF and SVC_Poly"
   ]
  },
  {
   "cell_type": "markdown",
   "id": "d2a435aa",
   "metadata": {},
   "source": [
    "Let's see the misclassifications by model and by number (using the overall data)"
   ]
  }
 ],
 "metadata": {},
 "nbformat": 4,
 "nbformat_minor": 5
}
