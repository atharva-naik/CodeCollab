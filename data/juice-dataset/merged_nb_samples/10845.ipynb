{
 "cells": [
  {
   "cell_type": "markdown",
   "id": "5f7fe4ee",
   "metadata": {},
   "source": [
    "# STELLAB Userguide"
   ]
  },
  {
   "cell_type": "markdown",
   "id": "20095e8f",
   "metadata": {},
   "source": [
    "Prepared by Benoit Côté"
   ]
  },
  {
   "cell_type": "markdown",
   "id": "9781b407",
   "metadata": {},
   "source": [
    "The STELLAB module (which is a contraction for Stellar Abundances) enables to plot observational data for comparison with galactic chemical evolution (GCE) predictions.  The abundance ratios are presented in the following spectroscopic notation :"
   ]
  },
  {
   "cell_type": "markdown",
   "id": "a174126b",
   "metadata": {},
   "source": [
    "$$[A/B]=\\log(n_A/n_B)-\\log(n_A/n_B)_\\odot.$$"
   ]
  },
  {
   "cell_type": "markdown",
   "id": "bc5d1c4b",
   "metadata": {},
   "source": [
    "The following sections describe how to use the code."
   ]
  },
  {
   "cell_type": "code",
   "execution_count": null,
   "id": "86a4ba08",
   "metadata": {},
   "outputs": [],
   "source": [
    "# Import the needed packages\n",
    "%matplotlib nbagg\n",
    "import matplotlib\n",
    "import matplotlib.pyplot as plt"
   ]
  },
  {
   "cell_type": "code",
   "execution_count": null,
   "id": "b1a9ba77",
   "metadata": {},
   "outputs": [],
   "source": [
    "# Import the observational data module\n",
    "import stellab"
   ]
  },
  {
   "cell_type": "markdown",
   "id": "d8d227a0",
   "metadata": {},
   "source": [
    "## Simple Plot"
   ]
  },
  {
   "cell_type": "markdown",
   "id": "88c36eff",
   "metadata": {},
   "source": [
    "In order to plot observed stellar abundances, you just need to enter the wanted ratios with the *xaxis* and *yaxis* parameters.  Stellab has been coded in a way that any abundance ratio can be plotted (see Appendix A below), as long as the considered data sets contain the elements.  In this example, we consider the Milky Way."
   ]
  },
  {
   "cell_type": "code",
   "execution_count": null,
   "id": "13c6b1e3",
   "metadata": {},
   "outputs": [],
   "source": [
    "# Create an instance of Stellab\n",
    "s = stellab.stellab()"
   ]
  },
  {
   "cell_type": "code",
   "execution_count": null,
   "id": "6cc9475b",
   "metadata": {},
   "outputs": [],
   "source": [
    "# Plot observational data (you can try all the ratios you want)\n",
    "%matplotlib nbagg\n",
    "s.plot_spectro(xaxis='[Fe/H]', yaxis='[Eu/Fe]')\n",
    "plt.xlim(-4.5,0.75)\n",
    "plt.ylim(-1.6,1.6)"
   ]
  },
  {
   "cell_type": "markdown",
   "id": "812cd821",
   "metadata": {},
   "source": [
    "## Solar Normalization"
   ]
  },
  {
   "cell_type": "markdown",
   "id": "c594d03f",
   "metadata": {},
   "source": [
    "By default, the solar normalization $\\log(n_A/n_B)_\\odot$ is taken from the reference paper that provide the data set.  But every data point can be re-normalized to any other solar values (see Appendix B), using the *norm* parameter.  This is highly recommended, since the original data points may not have the same solar normalization."
   ]
  },
  {
   "cell_type": "code",
   "execution_count": null,
   "id": "697b8ad3",
   "metadata": {},
   "outputs": [],
   "source": [
    "# First, you can see the list of the available solar abundances\n",
    "s.list_solar_norm()"
   ]
  },
  {
   "cell_type": "markdown",
   "id": "1b1f950f",
   "metadata": {},
   "source": [
    "Here is an example of how the observational data can be re-normalized."
   ]
  },
  {
   "cell_type": "code",
   "execution_count": null,
   "id": "564e4321",
   "metadata": {},
   "outputs": [],
   "source": [
    "# Plot using the default solar normalization of each data set\n",
    "%matplotlib nbagg\n",
    "s.plot_spectro(xaxis='[Fe/H]', yaxis='[Ca/Fe]')\n",
    "plt.xlim(-4.5,0.75)\n",
    "plt.ylim(-1.4,1.6)"
   ]
  },
  {
   "cell_type": "code",
   "execution_count": null,
   "id": "1c9e7cc1",
   "metadata": {},
   "outputs": [],
   "source": [
    "# Plot using the same solar normalization for all data sets\n",
    "%matplotlib nbagg\n",
    "s.plot_spectro(xaxis='[Fe/H]', yaxis='[Ca/Fe]', norm='Asplund_et_al_2009')\n",
    "plt.xlim(-4.5,0.75)\n",
    "plt.ylim(-1.4,1.6)"
   ]
  },
  {
   "cell_type": "markdown",
   "id": "315bbae2",
   "metadata": {},
   "source": [
    "#### Important Note\n",
    "\n",
    "In some papers, I had a hard time finding the solar normalization used by the authors.  This means I cannot apply the re-normalization for their data set.  When that happens, I print a warning below the plot and add two asterisk after the reference paper in the legend."
   ]
  },
  {
   "cell_type": "markdown",
   "id": "05992cb8",
   "metadata": {},
   "source": [
    "## Personal Selection"
   ]
  },
  {
   "cell_type": "markdown",
   "id": "6d465af8",
   "metadata": {},
   "source": [
    "You can select a subset of the observational data implemented in Stellab."
   ]
  },
  {
   "cell_type": "code",
   "execution_count": null,
   "id": "06822177",
   "metadata": {},
   "outputs": [],
   "source": [
    "# First, you can see the list of the available reference papers\n",
    "s.list_ref_papers()"
   ]
  },
  {
   "cell_type": "code",
   "execution_count": null,
   "id": "2184439d",
   "metadata": {},
   "outputs": [],
   "source": [
    "# Create a list of reference papers\n",
    "%matplotlib nbagg\n",
    "obs = ['stellab_data/milky_way_data/Jacobson_et_al_2015_stellab',\\\n",
    "       'stellab_data/milky_way_data/Venn_et_al_2004_stellab',\\\n",
    "       'stellab_data/milky_way_data/Yong_et_al_2013_stellab',\\\n",
    "       'stellab_data/milky_way_data/Bensby_et_al_2014_stellab']\n",
    "\n",
    "# Plot data using your selection of data points\n",
    "s.plot_spectro(xaxis='[Fe/H]', yaxis='[Ca/Fe]', norm='Asplund_et_al_2009', obs=obs)\n",
    "\n",
    "plt.xlim(-4.5,0.7)\n",
    "plt.ylim(-1.4,1.6)"
   ]
  },
  {
   "cell_type": "markdown",
   "id": "de670db8",
   "metadata": {},
   "source": [
    "## Galaxy Selection"
   ]
  },
  {
   "cell_type": "markdown",
   "id": "3dcac25c",
   "metadata": {},
   "source": [
    "The Milky Way (milky_way) is the default galaxy.  But you can select another galaxy among Sculptor, Fornax, and Carina (use lower case letters)."
   ]
  },
  {
   "cell_type": "code",
   "execution_count": null,
   "id": "afa051cd",
   "metadata": {},
   "outputs": [],
   "source": [
    "# Plot data using a specific galaxy\n",
    "%matplotlib nbagg\n",
    "s.plot_spectro(xaxis='[Fe/H]', yaxis='[Si/Fe]',norm='Asplund_et_al_2009', galaxy='fornax')\n",
    "plt.xlim(-4.5,0.75)\n",
    "plt.ylim(-1.4,1.4)"
   ]
  },
  {
   "cell_type": "markdown",
   "id": "7daaafa1",
   "metadata": {},
   "source": [
    "## Plot Error Bars"
   ]
  },
  {
   "cell_type": "markdown",
   "id": "35621c9f",
   "metadata": {},
   "source": [
    "It is possible to plot error bars with the **show_err** parameter, and print the mean errors with the **show_mean_err** parameter."
   ]
  }
 ],
 "metadata": {},
 "nbformat": 4,
 "nbformat_minor": 5
}
