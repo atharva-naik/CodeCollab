{
 "cells": [
  {
   "cell_type": "raw",
   "id": "bef56d95",
   "metadata": {},
   "source": [
    "---\n",
    "title: \"mysql_batch_and_fetch\"\n",
    "date: 2018-07-02T19:00:00+02:00\n",
    "draft: false\n",
    "tags: [mysql_batch_and_fetch, MySQL]\n",
    "---"
   ]
  },
  {
   "cell_type": "code",
   "execution_count": null,
   "id": "ced34b04",
   "metadata": {},
   "outputs": [],
   "source": [
    "import warnings; warnings.filterwarnings('ignore')"
   ]
  },
  {
   "cell_type": "markdown",
   "id": "8006d494",
   "metadata": {},
   "source": [
    "load the `oxyba` module"
   ]
  },
  {
   "cell_type": "code",
   "execution_count": null,
   "id": "eec4f404",
   "metadata": {},
   "outputs": [],
   "source": [
    "import oxyba as ox"
   ]
  },
  {
   "cell_type": "markdown",
   "id": "d1d921ad",
   "metadata": {},
   "source": [
    "Define the credentials to access the database"
   ]
  },
  {
   "cell_type": "code",
   "execution_count": null,
   "id": "85b84fd6",
   "metadata": {},
   "outputs": [],
   "source": [
    "cfg_mysql = {'user': 'anonymous', 'passwd': '', 'host': 'ensembldb.ensembl.org', 'port': 3306}"
   ]
  },
  {
   "cell_type": "markdown",
   "id": "e29288e9",
   "metadata": {},
   "source": [
    "### All SQL statements in one string"
   ]
  },
  {
   "cell_type": "markdown",
   "id": "78caa83d",
   "metadata": {},
   "source": [
    "Fetch the data and show the result table as tuple of tuple"
   ]
  },
  {
   "cell_type": "code",
   "execution_count": null,
   "id": "e1b89a32",
   "metadata": {},
   "outputs": [],
   "source": [
    "sql_query = \"set @x := 12; set @y := 3; select @x * @y, @y * 2.5;\"\n",
    "\n",
    "data = ox.mysql_batch_and_fetch(cfg_mysql, sql_query)\n",
    "data"
   ]
  },
  {
   "cell_type": "markdown",
   "id": "5ae3b991",
   "metadata": {},
   "source": [
    "Convert to ndarray or dataframe"
   ]
  },
  {
   "cell_type": "code",
   "execution_count": null,
   "id": "2259d6f3",
   "metadata": {},
   "outputs": [],
   "source": [
    "import pandas as pd\n",
    "import numpy as np\n",
    "df = pd.DataFrame(np.asarray(data))\n",
    "df"
   ]
  },
  {
   "cell_type": "markdown",
   "id": "c259df7e",
   "metadata": {},
   "source": [
    "### Queries as array of strings"
   ]
  },
  {
   "cell_type": "code",
   "execution_count": null,
   "id": "6a9bd40a",
   "metadata": {},
   "outputs": [],
   "source": [
    "sql_query = [\"set @x := 12\", \"set @y := 3\", \"select @x * @y, @y * 2.5\"]\n",
    "data = ox.mysql_batch_and_fetch(cfg_mysql, sql_query)\n",
    "data"
   ]
  },
  {
   "cell_type": "markdown",
   "id": "fd561d5b",
   "metadata": {},
   "source": [
    "### Each SQL statement as input argument"
   ]
  }
 ],
 "metadata": {},
 "nbformat": 4,
 "nbformat_minor": 5
}
