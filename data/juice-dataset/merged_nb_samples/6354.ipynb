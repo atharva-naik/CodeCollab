{
 "cells": [
  {
   "cell_type": "markdown",
   "id": "a36c3a35",
   "metadata": {},
   "source": [
    "# Exploratory Data Analysis on the Emergency - 911 Calls Dataset"
   ]
  },
  {
   "cell_type": "markdown",
   "id": "9ff9e434",
   "metadata": {},
   "source": [
    "In this project we will be analyzing some 911 call data from [Kaggle](https://www.kaggle.com/mchirico/montcoalert). The data contains the following fields:\n",
    "\n",
    "* lat : String variable, Latitude\n",
    "* lng: String variable, Longitude\n",
    "* desc: String variable, Description of the Emergency Call\n",
    "* zip: String variable, Zipcode\n",
    "* title: String variable, Title\n",
    "* timeStamp: String variable, YYYY-MM-DD HH:MM:SS\n",
    "* twp: String variable, Township\n",
    "* addr: String variable, Address\n",
    "* e: String variable, Dummy variable"
   ]
  },
  {
   "cell_type": "markdown",
   "id": "f00dada3",
   "metadata": {},
   "source": [
    "### Importing packages"
   ]
  },
  {
   "cell_type": "code",
   "execution_count": null,
   "id": "c6e01cdd",
   "metadata": {},
   "outputs": [],
   "source": [
    "import numpy as np\n",
    "import pandas as pd\n",
    "import matplotlib.pyplot as plt\n",
    "import seaborn as sns\n",
    "%matplotlib inline"
   ]
  },
  {
   "cell_type": "markdown",
   "id": "a9910dea",
   "metadata": {},
   "source": [
    "### Loading the dataset"
   ]
  },
  {
   "cell_type": "code",
   "execution_count": null,
   "id": "4297b0a9",
   "metadata": {},
   "outputs": [],
   "source": [
    "data=pd.read_csv(\"911.csv\")"
   ]
  },
  {
   "cell_type": "markdown",
   "id": "3e60b8b6",
   "metadata": {},
   "source": [
    "### Basic data exploration"
   ]
  },
  {
   "cell_type": "code",
   "execution_count": null,
   "id": "fcd59743",
   "metadata": {},
   "outputs": [],
   "source": [
    "data.info()"
   ]
  },
  {
   "cell_type": "code",
   "execution_count": null,
   "id": "89b8729f",
   "metadata": {},
   "outputs": [],
   "source": [
    "data.describe()"
   ]
  },
  {
   "cell_type": "code",
   "execution_count": null,
   "id": "47e7b353",
   "metadata": {},
   "outputs": [],
   "source": [
    "data.head()"
   ]
  },
  {
   "cell_type": "markdown",
   "id": "6807dcd5",
   "metadata": {},
   "source": [
    "### Top 5 zipcodes for 911 calls"
   ]
  },
  {
   "cell_type": "code",
   "execution_count": null,
   "id": "8e64d815",
   "metadata": {},
   "outputs": [],
   "source": [
    "data['zip'].value_counts().head(5)"
   ]
  },
  {
   "cell_type": "markdown",
   "id": "cf02bc8e",
   "metadata": {},
   "source": [
    "### Top 5 townships (twp) for 911 calls"
   ]
  },
  {
   "cell_type": "code",
   "execution_count": null,
   "id": "734af65f",
   "metadata": {},
   "outputs": [],
   "source": [
    "data['twp'].value_counts().head(5)"
   ]
  },
  {
   "cell_type": "markdown",
   "id": "dd404248",
   "metadata": {},
   "source": [
    "### Unique number of calls reported"
   ]
  },
  {
   "cell_type": "code",
   "execution_count": null,
   "id": "d9f5faad",
   "metadata": {},
   "outputs": [],
   "source": [
    "data['title'].nunique()"
   ]
  },
  {
   "cell_type": "markdown",
   "id": "af6ec4f2",
   "metadata": {},
   "source": [
    "#### Creating new features\n",
    "In the titles column there are \"Reasons/Departments\" specified before the title code. \n",
    "For example, if the title column value is Fire: GAS-ODOR/LEAK , the Reason column value would be Fire."
   ]
  },
  {
   "cell_type": "code",
   "execution_count": null,
   "id": "72b964fd",
   "metadata": {},
   "outputs": [],
   "source": [
    "data['reason']=data['title'].apply(lambda x: x.split(':')[0])"
   ]
  },
  {
   "cell_type": "markdown",
   "id": "d76fc1bb",
   "metadata": {},
   "source": [
    "### Most common Reason for a 911 call "
   ]
  },
  {
   "cell_type": "code",
   "execution_count": null,
   "id": "bbee75de",
   "metadata": {},
   "outputs": [],
   "source": [
    "data['reason'].value_counts()"
   ]
  },
  {
   "cell_type": "code",
   "execution_count": null,
   "id": "ca0803e0",
   "metadata": {},
   "outputs": [],
   "source": [
    "sns.countplot(x='reason',data=data)"
   ]
  },
  {
   "cell_type": "markdown",
   "id": "150f6dcf",
   "metadata": {},
   "source": [
    "#### The major reason for 911 calls was EMS- Emergency Medical Services followed by Traffic and Fire"
   ]
  },
  {
   "cell_type": "markdown",
   "id": "cde17762",
   "metadata": {},
   "source": [
    "### Changing the datatype of \"timeStamp\" from string to TimeStamp to extract more information"
   ]
  },
  {
   "cell_type": "markdown",
   "id": "6aeeabf4",
   "metadata": {},
   "source": [
    "### Creating countplots to study the reasons trends during Day of Week and Month"
   ]
  },
  {
   "cell_type": "code",
   "execution_count": null,
   "id": "d2a50203",
   "metadata": {},
   "outputs": [],
   "source": [
    "sns.countplot(x='Day of Week',data=data,hue='reason',palette='viridis')\n",
    "plt.legend(bbox_to_anchor=(1.05,1),loc=2,borderaxespad=0)"
   ]
  },
  {
   "cell_type": "code",
   "execution_count": null,
   "id": "83ea41b9",
   "metadata": {},
   "outputs": [],
   "source": [
    "sns.countplot(x='Month',data=data,hue='reason',palette='viridis')\n",
    "plt.legend(bbox_to_anchor=(1.05,1),loc=2,borderaxespad=0)"
   ]
  },
  {
   "cell_type": "code",
   "execution_count": null,
   "id": "dfb8e491",
   "metadata": {},
   "outputs": [],
   "source": [
    "bymonth=data.groupby('Month').count()"
   ]
  },
  {
   "cell_type": "code",
   "execution_count": null,
   "id": "2d026ac3",
   "metadata": {},
   "outputs": [],
   "source": [
    "bymonth.head()"
   ]
  },
  {
   "cell_type": "markdown",
   "id": "cacfe9f8",
   "metadata": {},
   "source": [
    "### Create a linear fit on the number of calls per month"
   ]
  },
  {
   "cell_type": "code",
   "execution_count": null,
   "id": "925c8595",
   "metadata": {},
   "outputs": [],
   "source": [
    "bymonth['lat'].plot()"
   ]
  },
  {
   "cell_type": "code",
   "execution_count": null,
   "id": "90e0650c",
   "metadata": {},
   "outputs": [],
   "source": [
    "sns.countplot(x='Month',data=data,palette='viridis')\n",
    "plt.legend(bbox_to_anchor=(1.05,1),loc=2,borderaxespad=0)"
   ]
  },
  {
   "cell_type": "code",
   "execution_count": null,
   "id": "7b7bd585",
   "metadata": {},
   "outputs": [],
   "source": [
    "sns.lmplot(x='Month',y='twp',data=bymonth.reset_index())"
   ]
  },
  {
   "cell_type": "code",
   "execution_count": null,
   "id": "8d9d2e8f",
   "metadata": {},
   "outputs": [],
   "source": [
    " data['Date']=data['timeStamp'].apply(lambda x: x.date())"
   ]
  },
  {
   "cell_type": "markdown",
   "id": "e2965203",
   "metadata": {},
   "source": [
    "### Creating a plot of counts of 911 calls datewise "
   ]
  },
  {
   "cell_type": "code",
   "execution_count": null,
   "id": "f16df429",
   "metadata": {},
   "outputs": [],
   "source": [
    "plt.figure(figsize=(12,6))\n",
    "data.groupby('Date').count()['lat'].plot()\n",
    "plt.tight_layout()"
   ]
  },
  {
   "cell_type": "markdown",
   "id": "c9c7e45b",
   "metadata": {},
   "source": [
    "### Creating a plot of counts of 911 calls datewise( reason: Traffic)"
   ]
  },
  {
   "cell_type": "code",
   "execution_count": null,
   "id": "8625ee70",
   "metadata": {},
   "outputs": [],
   "source": [
    "plt.figure(figsize=(12,6))\n",
    "data[data['reason']=='Traffic'].groupby('Date').count()['lat'].plot()\n",
    "plt.title('Traffic')\n",
    "plt.tight_layout()"
   ]
  },
  {
   "cell_type": "markdown",
   "id": "18ecdec5",
   "metadata": {},
   "source": [
    "### Creating a plot of counts of 911 calls datewise( reason: EMS)"
   ]
  },
  {
   "cell_type": "code",
   "execution_count": null,
   "id": "5d377a01",
   "metadata": {},
   "outputs": [],
   "source": [
    "plt.figure(figsize=(12,6))\n",
    "data[data['reason']=='EMS'].groupby('Date').count()['lat'].plot()\n",
    "plt.title('EMS')\n",
    "plt.tight_layout()"
   ]
  },
  {
   "cell_type": "markdown",
   "id": "c31e6b41",
   "metadata": {},
   "source": [
    "### Creating a plot of counts of 911 calls datewise( reason: Fire)"
   ]
  },
  {
   "cell_type": "code",
   "execution_count": null,
   "id": "8cedaefc",
   "metadata": {},
   "outputs": [],
   "source": [
    "plt.figure(figsize=(12,6))\n",
    "data[data['reason']=='Fire'].groupby('Date').count()['lat'].plot()\n",
    "plt.title('Fire')\n",
    "plt.tight_layout()"
   ]
  },
  {
   "cell_type": "code",
   "execution_count": null,
   "id": "ed8f5e3b",
   "metadata": {},
   "outputs": [],
   "source": [
    "plt.figure(figsize=(12,6))\n",
    "data[data['reason']=='Fire'].groupby('Date').count()['lat'].plot()\n",
    "data[data['reason']=='EMS'].groupby('Date').count()['lat'].plot()\n",
    "data[data['reason']=='Traffic'].groupby('Date').count()['lat'].plot()\n",
    "plt.tight_layout()"
   ]
  },
  {
   "cell_type": "markdown",
   "id": "e2da70bc",
   "metadata": {},
   "source": [
    "## HeatMaps"
   ]
  },
  {
   "cell_type": "code",
   "execution_count": null,
   "id": "bea91227",
   "metadata": {},
   "outputs": [],
   "source": [
    "type(data['timeStamp'].iloc[0])"
   ]
  },
  {
   "cell_type": "code",
   "execution_count": null,
   "id": "41ddcaaa",
   "metadata": {},
   "outputs": [],
   "source": [
    "data['timeStamp']=pd.to_datetime(data['timeStamp'])"
   ]
  },
  {
   "cell_type": "code",
   "execution_count": null,
   "id": "6d0faee3",
   "metadata": {},
   "outputs": [],
   "source": [
    "data['Hour']=data['timeStamp'].apply(lambda time: time.hour)\n",
    "data['Month']=data['timeStamp'].apply(lambda time: time.month)\n",
    "data['Day of Week']=data['timeStamp'].apply(lambda time: time.dayofweek)"
   ]
  },
  {
   "cell_type": "code",
   "execution_count": null,
   "id": "4dc31e8f",
   "metadata": {},
   "outputs": [],
   "source": [
    "dmap = {0:'Mon',1:'Tue',2:'Wed',3:'Thu',4:'Fri',5:'Sat',6:'Sun'}\n",
    "data['Day of Week']=data['Day of Week'].map(dmap)"
   ]
  }
 ],
 "metadata": {},
 "nbformat": 4,
 "nbformat_minor": 5
}
