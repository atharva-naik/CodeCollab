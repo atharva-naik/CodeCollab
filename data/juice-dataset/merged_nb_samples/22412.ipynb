{
 "cells": [
  {
   "cell_type": "markdown",
   "id": "55e077e9",
   "metadata": {},
   "source": [
    "-low sparsity on MW, exclude mean FD outliers"
   ]
  },
  {
   "cell_type": "markdown",
   "id": "557b2afe",
   "metadata": {},
   "source": [
    "# Get path of data"
   ]
  },
  {
   "cell_type": "code",
   "execution_count": null,
   "id": "3cddfc77",
   "metadata": {},
   "outputs": [],
   "source": [
    "region_labels_fn = 'data/data_cross_corr_Bzdok_DMN16_preprocessed_ROIS.npy'\n",
    "beh_keysfn = 'data/data_MWQ_keys.npy'\n",
    "behavefn = 'data/data_MWQ_session_preprocessed.npy'\n",
    "rscorrfn = 'data/data_cross_corr_Bzdok_DMN16_preprocessed.npy'"
   ]
  },
  {
   "cell_type": "code",
   "execution_count": null,
   "id": "32a80a04",
   "metadata": {},
   "outputs": [],
   "source": [
    "from os.path import expanduser\n",
    "import numpy as np\n",
    "%matplotlib inline\n",
    "from funlib_scca import *"
   ]
  },
  {
   "cell_type": "markdown",
   "id": "e8fc578f",
   "metadata": {},
   "source": [
    "# Load data"
   ]
  },
  {
   "cell_type": "code",
   "execution_count": null,
   "id": "977987e9",
   "metadata": {},
   "outputs": [],
   "source": [
    "behavioral_data = np.load(expanduser(behavefn))\n",
    "rest_data = np.load(expanduser(rscorrfn))\n",
    "subject_subset = behavioral_data[:, 0].astype('i4') - 1\n",
    "penFC = 0.3\n",
    "penMW_5 = 0.5"
   ]
  },
  {
   "cell_type": "markdown",
   "id": "35f8dc10",
   "metadata": {},
   "source": [
    "# Analysis 1: All instances"
   ]
  },
  {
   "cell_type": "code",
   "execution_count": null,
   "id": "a3ad2708",
   "metadata": {},
   "outputs": [],
   "source": [
    "X = rest_data[subject_subset,:]\n",
    "Y = behavioral_data[:,40:]"
   ]
  },
  {
   "cell_type": "code",
   "execution_count": null,
   "id": "55579066",
   "metadata": {},
   "outputs": [],
   "source": [
    "u, v = SCCA_r(X, Y, 13, penFC, penMW_5)\n",
    "SCCA_Output_Sheet('Results/DMN_16_REVISION/DMN16_allInstances_penBrain%1.1fpenMW%1.1f' %(penFC, penMW_5), region_labels_fn, beh_keysfn, u, v)\n",
    "ALL_CC_35 = csv_CanonicalScores(X, Y, u, v, subject_subset + 1, 'Results/DMN_16_REVISION/DMN16_allInstances_penBrain%1.1fpenMW%1.1f.csv' %(penFC, penMW_5))\n",
    "# np.save('Results/DMN_16_REVISION/SCCAloading_all',(u, v))"
   ]
  },
  {
   "cell_type": "markdown",
   "id": "cfe00fef",
   "metadata": {},
   "source": [
    "# Analysis 2: Leave one random session out"
   ]
  },
  {
   "cell_type": "markdown",
   "id": "20a2ec45",
   "metadata": {},
   "source": [
    "## Create a leave one random session out sample"
   ]
  },
  {
   "cell_type": "code",
   "execution_count": null,
   "id": "60574014",
   "metadata": {},
   "outputs": [],
   "source": [
    "# Restart the random seed\n",
    "np.random.seed(9999)\n",
    "np.random.set_state(np.random.get_state())\n",
    "\n",
    "def LOSO_resample():\n",
    "    session_data = behavioral_data[:,1:40]\n",
    "    #generate participant - ignored session random list\n",
    "    drop_sessions = np.array([np.random.randint(1,4) for p in range(session_data.shape[0])])\n",
    "\n",
    "    resample = np.zeros((session_data.shape[0], 13))\n",
    "    for i, drop in enumerate(drop_sessions):\n",
    "        cur_subj = session_data[i,:].reshape((3, 13))\n",
    "        # drop session\n",
    "        cur_data = np.delete(cur_subj, drop - 1, 0)\n",
    "        cur_data = np.mean(cur_data, axis=0)\n",
    "        resample[i,:] = cur_data\n",
    "\n",
    "    data_imp = imputedata(resample, 'mean', missing=True) #impute outlier\n",
    "\n",
    "    S = data_imp.sum(axis=0) / data_imp.shape[0]\n",
    "    data_imp -= S[np.newaxis, :]\n",
    "    var = (data_imp ** 2).sum(axis=0)\n",
    "    var[var == 0] = 1\n",
    "    data_imp /= var\n",
    "    return data_imp\n",
    "\n",
    "Y_LOSO = LOSO_resample()"
   ]
  },
  {
   "cell_type": "markdown",
   "id": "adde86ce",
   "metadata": {},
   "source": [
    "## Do analysis"
   ]
  },
  {
   "cell_type": "code",
   "execution_count": null,
   "id": "56f0372f",
   "metadata": {},
   "outputs": [],
   "source": [
    "u, v = SCCA_r(X, Y_LOSO, 13, penFC, penMW_5)\n",
    "np.save('Results/DMN_16_REVISION/SCCAloading_LOSO',(u, v))\n",
    "SCCA_Output_Sheet('Results/DMN_16_REVISION/DMN16_LOSO_penBrain%1.1fpenMW%1.1f' %(penFC, penMW_5), region_labels_fn, beh_keysfn, u, v)\n",
    "LOSO_CC_35 = csv_CanonicalScores(X, Y, u, v, subject_subset + 1, 'Results/DMN_16_REVISION/DMN16_LOSO_penBrain%1.1fpenMW%1.1f.csv' %(penFC, penMW_5))"
   ]
  },
  {
   "cell_type": "markdown",
   "id": "e134e6a7",
   "metadata": {},
   "source": [
    "# Analysis 3: Bootstrapping and SCCA on bootstrap sample"
   ]
  },
  {
   "cell_type": "markdown",
   "id": "967e2fc5",
   "metadata": {},
   "source": [
    "## Bootsrtapping and creat bootstrap sample"
   ]
  },
  {
   "cell_type": "code",
   "execution_count": null,
   "id": "5d2fabc9",
   "metadata": {},
   "outputs": [],
   "source": [
    "# randomly initialize the RNG from some platform-dependent source of entropy\n",
    "np.random.seed(47)\n",
    "np.random.set_state(np.random.get_state())\n",
    "\n",
    "I = np.random.randint(X.shape[0],size=X.shape[0])\n",
    "cur_X = X[I,:]\n",
    "cur_Y = Y[I,:]\n",
    "u, v = SCCA_r(cur_X, cur_Y, 13, penFC, penMW_5)\n",
    "np.save('Results/DMN_16_REVISION/SCCAloading_BOOTS',(u, v))\n",
    "\n",
    "SCCA_Output_Sheet('Results/DMN_16_REVISION/DMN16_BootstrapSample_penBrain%1.1fpenMW%1.1f' %(penFC, penMW_5), region_labels_fn, beh_keysfn, u, v)\n",
    "BOOTS_CC_35 = csv_CanonicalScores(X, Y, u, v, subject_subset + 1, 'Results/DMN_16_REVISION/DMN16_BootstrapSample_penBrain%1.1fpenMW%1.1f.csv' %(penFC, penMW_5))"
   ]
  },
  {
   "cell_type": "markdown",
   "id": "c7ae9da7",
   "metadata": {},
   "source": [
    "# Revison 2: Removing data with extreme MeanFD"
   ]
  },
  {
   "cell_type": "code",
   "execution_count": null,
   "id": "ecb3d671",
   "metadata": {},
   "outputs": [],
   "source": [
    "import pandas as pd\n",
    "from funlib_scca import *\n",
    "import numpy as np\n",
    "df = pd.read_csv('./data/CS_MeanFD.csv', header=0, index_col=0)\n",
    "Mean_FD_j = df.values[:,2]\n",
    "# exclude_FC = np.array(range(165))[is_outliers(Mean_FD_j)]\n",
    "exclude_FC = np.array(range(165))[Mean_FD_j>9]\n",
    "exclude_FC_idx = []\n",
    "# find the index of exclude_FC in subject_subset\n",
    "subject_subset = behavioral_data[:, 0].astype('i4') - 1\n",
    "for i, sub in enumerate(subject_subset):\n",
    "    if sub in exclude_FC:\n",
    "        exclude_FC_idx.append(i)\n",
    "    else:\n",
    "        pass"
   ]
  },
  {
   "cell_type": "code",
   "execution_count": null,
   "id": "5ea594e3",
   "metadata": {},
   "outputs": [],
   "source": [
    "behavioral_data = np.delete(behavioral_data, exclude_FC_idx, 0)\n",
    "subject_subset = behavioral_data[:, 0].astype('i4') - 1\n",
    "X = rest_data[subject_subset,:]\n",
    "Y = behavioral_data[:,40:]\n",
    "print X.shape\n",
    "print Y.shape"
   ]
  },
  {
   "cell_type": "markdown",
   "id": "640e71a4",
   "metadata": {},
   "source": [
    "# All instance"
   ]
  }
 ],
 "metadata": {},
 "nbformat": 4,
 "nbformat_minor": 5
}
