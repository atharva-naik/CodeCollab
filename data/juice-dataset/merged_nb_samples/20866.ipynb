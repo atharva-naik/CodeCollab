{
 "cells": [
  {
   "cell_type": "markdown",
   "id": "ed5f60ab",
   "metadata": {},
   "source": [
    "<p><h1><span style=\"color:#2f4f4f\"><u>Project Titanic Data Analysis</u></span></h1></p>"
   ]
  },
  {
   "cell_type": "markdown",
   "id": "443e89d6",
   "metadata": {},
   "source": [
    "The findings in the report presented below are tentative."
   ]
  },
  {
   "cell_type": "markdown",
   "id": "1e81217f",
   "metadata": {},
   "source": [
    "## Introduction\n",
    "This is my final project to conduct data analysis on the Titinic data provided on 891 passengers onboard the ship. "
   ]
  },
  {
   "cell_type": "markdown",
   "id": "a77caba5",
   "metadata": {},
   "source": [
    "## Questions Regarding This Dataset\n",
    "1. What is the survival rate for each gender?\n",
    "2. Does the class of travel determine the survival rate? \n",
    "3. Does age affect the survival rate?"
   ]
  },
  {
   "cell_type": "code",
   "execution_count": null,
   "id": "a9077413",
   "metadata": {},
   "outputs": [],
   "source": [
    "import matplotlib.pyplot as plt\n",
    "%matplotlib inline\n",
    "import numpy as np\n",
    "import pandas as pd\n",
    "import seaborn as sns\n",
    "import csv"
   ]
  },
  {
   "cell_type": "code",
   "execution_count": null,
   "id": "7362b868",
   "metadata": {},
   "outputs": [],
   "source": [
    "# reads and put titanic_data.csv file into a dataframe.\n",
    "titanic_df = pd.read_csv('titanic_data.csv')\n",
    "\n",
    "# shows what are in the fields of titanic_data.csv\n",
    "print (titanic_df.head())"
   ]
  },
  {
   "cell_type": "code",
   "execution_count": null,
   "id": "046bee06",
   "metadata": {},
   "outputs": [],
   "source": [
    "# shows the number of missing 'age' values in the data\n",
    "titanic_df[titanic_df['Age'].isnull()]['PassengerId'].count()"
   ]
  },
  {
   "cell_type": "code",
   "execution_count": null,
   "id": "9edf340e",
   "metadata": {},
   "outputs": [],
   "source": [
    "# shows the number of missing 'age' values by Pclass\n",
    "print (\"Pclass 1:\")\n",
    "print (titanic_df[(titanic_df['Age'].isnull()) & (titanic_df['Pclass']==1)]['Sex'].value_counts())\n",
    "print (\"\")\n",
    "print (\"Pclass 2:\")\n",
    "print (titanic_df[(titanic_df['Age'].isnull()) & (titanic_df['Pclass']==2)]['Sex'].value_counts())\n",
    "print (\"\")\n",
    "print (\"Pclass 3:\")\n",
    "print (titanic_df[(titanic_df['Age'].isnull()) & (titanic_df['Pclass']==3)]['Sex'].value_counts())"
   ]
  },
  {
   "cell_type": "markdown",
   "id": "c5387d7b",
   "metadata": {},
   "source": [
    "### Cleaning up missing values under 'Age' column\n",
    "The missing values under the 'Age' column in this dataset was being replaced by the mean of the age in each class and sex. This is an <em><b>assumption</em></b> made for the lack of information. "
   ]
  },
  {
   "cell_type": "code",
   "execution_count": null,
   "id": "15da5699",
   "metadata": {},
   "outputs": [],
   "source": [
    "# using Pclass and Sex to find the median age for each Pclass and Sex\n",
    "print (\"Age median values by Age and Sex:\")\n",
    "print (titanic_df.groupby(['Sex','Pclass'], as_index=False).median().loc[:, ['Sex','Pclass', 'Age']])\n",
    "\n",
    "# then, apply transformation to Age missing values with regard to Pclass and Sex\n",
    "titanic_df.loc[:, 'Age'] = titanic_df.groupby(['Sex','Pclass']).transform(lambda x: x.fillna(x.median()))"
   ]
  },
  {
   "cell_type": "markdown",
   "id": "ae4189b9",
   "metadata": {},
   "source": [
    "### Question 1: What is the survival rate for each gender?"
   ]
  },
  {
   "cell_type": "code",
   "execution_count": null,
   "id": "fbe02d58",
   "metadata": {},
   "outputs": [],
   "source": [
    "# Categorising by age, where a Child is betwen 0-13 yo, an Adult 14-40 yo and Senior 41-90 yo\n",
    "titanic_df['Age_Cust'] = pd.cut(titanic_df['Age'], bins = [0,13,40,90] , labels=['Childs','Adults','Seniors'])"
   ]
  },
  {
   "cell_type": "code",
   "execution_count": null,
   "id": "e51e173e",
   "metadata": {},
   "outputs": [],
   "source": [
    "sns.factorplot('Age_Cust', data = titanic_df, kind='count')\n",
    "plt.ylabel('Number of people on board ship')\n",
    "plt.title('Age distribution in ship')"
   ]
  },
  {
   "cell_type": "markdown",
   "id": "ab53e73f",
   "metadata": {},
   "source": [
    "#### This is confirmed by looking at the age distribution, a huge percentage belongs to the adult group between age 14 to 40."
   ]
  },
  {
   "cell_type": "markdown",
   "id": "e7c5d541",
   "metadata": {},
   "source": [
    "### Now we look at the survival rate across the ages"
   ]
  },
  {
   "cell_type": "code",
   "execution_count": null,
   "id": "cb2afb2e",
   "metadata": {},
   "outputs": [],
   "source": [
    "figure = plt.figure(figsize=(15,6))\n",
    "plt.hist([titanic_df[titanic_df['Survived']==1]['Age'], titanic_df[titanic_df['Survived']==0]['Age']], stacked=True, bins =50, color = ['g','r'], label = ['Survived','Dead'])\n",
    "plt.title('Survive/Fatality counts across all ages')\n",
    "plt.xlabel('Age')\n",
    "plt.ylabel('Number of passengers')\n",
    "plt.grid(True)\n",
    "plt.legend()"
   ]
  },
  {
   "cell_type": "code",
   "execution_count": null,
   "id": "6bc8158f",
   "metadata": {},
   "outputs": [],
   "source": [
    "sns.barplot('Age_Cust', 'Survived', data = titanic_df, ci=None)\n",
    "plt.title('Survival by Age Category')\n",
    "plt.ylabel('Mean of Survival')"
   ]
  },
  {
   "cell_type": "markdown",
   "id": "49a64386",
   "metadata": {},
   "source": [
    "#### The first chart shows the survival and fatality counts across all ages. It is evident that more passengers under the age of 7 survived as compared to the older passengers. \n",
    "\n",
    "#### The second chart shows clearly that a child (0-13 yo) is much likely to survive than that of the adults or seniors. "
   ]
  },
  {
   "cell_type": "code",
   "execution_count": null,
   "id": "1492cf91",
   "metadata": {},
   "outputs": [],
   "source": [
    "sns.factorplot('Age_Cust', 'Survived', data = titanic_df, hue='Sex', kind='bar', ci=None)\n",
    "plt.title('Survival by Age and Sex')\n",
    "plt.ylabel('Mean of Survival')"
   ]
  },
  {
   "cell_type": "markdown",
   "id": "033c8a01",
   "metadata": {},
   "source": [
    "#### Comparing the survival by age and sex, it suggests that the children and women are given the priority to escape during the shipwreck."
   ]
  },
  {
   "cell_type": "code",
   "execution_count": null,
   "id": "5ad88b32",
   "metadata": {},
   "outputs": [],
   "source": [
    "sns.factorplot('Age_Cust', 'Survived', data = titanic_df, hue='Sex', kind='bar', col='Pclass', ci=None)"
   ]
  },
  {
   "cell_type": "markdown",
   "id": "66f7d39e",
   "metadata": {},
   "source": [
    "#### And it seems evident that the ones who paid a higher fare do have a better chance at survival."
   ]
  },
  {
   "cell_type": "markdown",
   "id": "4306d3dd",
   "metadata": {},
   "source": [
    "### Just Curious - Which are the 3 Biggest Families Onboard?\n",
    "Assumption: The ones with the same last name are part of the same family."
   ]
  },
  {
   "cell_type": "code",
   "execution_count": null,
   "id": "77dd4949",
   "metadata": {},
   "outputs": [],
   "source": [
    "total_counts = titanic_df['Sex'].value_counts()\n",
    "survived = titanic_df[titanic_df['Survived']==1]['Sex'].value_counts()\n",
    "dead = titanic_df[titanic_df['Survived']==0]['Sex'].value_counts()\n",
    "df = pd.DataFrame([survived,dead])\n",
    "df.index = ['Survived','Dead']\n",
    "df.plot(title=\"Survival Count by Gender\", kind='barh',stacked=True)\n",
    "\n",
    "print (\"Total on Board:\")\n",
    "print (total_counts)\n",
    "print (\"\")\n",
    "print (\"Total Survived:\")\n",
    "print (survived)"
   ]
  },
  {
   "cell_type": "code",
   "execution_count": null,
   "id": "91ab8d05",
   "metadata": {},
   "outputs": [],
   "source": [
    "survival_rates_by_gender = survived / total_counts\n",
    "\n",
    "print (\"Survival Rates:\")\n",
    "print (survival_rates_by_gender)"
   ]
  },
  {
   "cell_type": "markdown",
   "id": "065e482f",
   "metadata": {},
   "source": [
    "#### Of the 577 males onboarded the ship, 109 males survived the shipwreck, a 19% survival rate. Of the 314 females onboarded the ship, 233 females survived the shipwreck, a 74% survival rate.\n",
    "\n",
    "#### Purely by looking at the survival rates between genders, females are more likely to survive than males. This could be largely due to the evacuation protocal when the shipwreck happened. Women are likely given the first priority to evacuate before men."
   ]
  },
  {
   "cell_type": "markdown",
   "id": "6b04c9d9",
   "metadata": {},
   "source": [
    "### Question 2: Does the class of travel determine the survival rate?"
   ]
  },
  {
   "cell_type": "code",
   "execution_count": null,
   "id": "5edb711b",
   "metadata": {},
   "outputs": [],
   "source": [
    "# calculating the survived class and dead class\n",
    "survived_class = titanic_df[titanic_df['Survived'] == 1]['Pclass'].value_counts()\n",
    "dead_class = titanic_df[titanic_df['Survived'] == 0]['Pclass'].value_counts()"
   ]
  },
  {
   "cell_type": "code",
   "execution_count": null,
   "id": "75133798",
   "metadata": {},
   "outputs": [],
   "source": [
    "df = pd.DataFrame([survived_class, dead_class])\n",
    "df.index = ['Survived', 'Dead']\n",
    "df.plot(kind='bar', title= 'Survival Count by PClass', figsize=(9, 8))\n",
    "plt.legend(['1st class', '2nd class', '3rd class'], loc='upper left')"
   ]
  },
  {
   "cell_type": "code",
   "execution_count": null,
   "id": "859bb893",
   "metadata": {},
   "outputs": [],
   "source": [
    "print (survived_class/(survived_class+dead_class))"
   ]
  },
  {
   "cell_type": "markdown",
   "id": "b9d8cd3a",
   "metadata": {},
   "source": [
    "#### The chart above shows a representation of survival counts between different classes and clearly shown that PClass 1 passengers have the highest survival count. "
   ]
  },
  {
   "cell_type": "code",
   "execution_count": null,
   "id": "760d9adc",
   "metadata": {},
   "outputs": [],
   "source": [
    "titanic_df.groupby(['Pclass'])['Fare'].mean().plot(kind='bar')\n",
    "plt.ylabel('Fare')\n",
    "plt.title('Mean fare by Pclass')"
   ]
  },
  {
   "cell_type": "markdown",
   "id": "f2772c28",
   "metadata": {},
   "source": [
    "#### The above chart extracts the mean fare of each class. It's evident that class 1 passengers paid a distinctively higher fare and that seems to suggest higher fare meant higher chance in survival."
   ]
  },
  {
   "cell_type": "markdown",
   "id": "23afacf2",
   "metadata": {},
   "source": [
    "### Question 3: Does age affect the survival rate?\n",
    "Earlier, the 177 missing 'Age' fields were filled in with the mean passenger's age of similar Pclass and Sex. <br>"
   ]
  },
  {
   "cell_type": "markdown",
   "id": "350e2dec",
   "metadata": {},
   "source": [
    "<span style = \"color:gray\">\n",
    "<b>Note:</b>\n",
    "<br>\n",
    "<em><b>177 passengers missing age: </b><br>\n",
    "Pclass 1 = 21m, 9f <br>\n",
    "Pclass 2 = 9m, 2f <br> \n",
    "Pclass 3 = 94m, 42f\n",
    "<br><br>\n",
    "<b>Mean age of passengers to be filled in: </b><br>\n",
    "Female, PClass 1 = 35 years old<br>\n",
    "Female, PClass 2 = 28 years old<br>\n",
    "Female, PClass 3 = 21.5 years old<br>\n",
    "Male, PClass 1 = 40 years old<br>\n",
    "Male, PClass 2 = 30 years old<br>\n",
    "Male, PClass 3 = 25 years old</em>\n",
    "</span>\n",
    "<br><br>\n",
    "Below chart shows a comparison of \"Default\" age where the null fields were dropped from the statisics vs. the imputed age values where the mean age were pre-filled in based on the class and sex of the passenger. "
   ]
  },
  {
   "cell_type": "code",
   "execution_count": null,
   "id": "ed2b74bf",
   "metadata": {},
   "outputs": [],
   "source": [
    "# take a look at the defaulted age vs. the one we filled using mean of Pclass and Sex\n",
    "figure = plt.figure(figsize=(15,6))\n",
    "titanic_df2 = pd.read_csv(\"titanic_data.csv\")\n",
    "sns.distplot(titanic_df2.Age.dropna(), kde = False, label = 'Default')\n",
    "sns.distplot(titanic_df.Age, kde = False, label = 'Imputed')\n",
    "plt.title('Comparison between Default and Imputed Age Values')\n",
    "plt.ylabel('Number of passengers')\n",
    "plt.legend()"
   ]
  },
  {
   "cell_type": "markdown",
   "id": "14072fbd",
   "metadata": {},
   "source": [
    "#### Using this way to impute the age did affect the age distribution with tremedous peak at 25-yo and also 40-yo bars.\n",
    "\n",
    "#### The results are skewed because 94 of the male passengers' age are being pre-filled with the mean age of 25 years old for Pclass 3 male passengers. Likewise, there seem to be an unusual spike under 40-yo bar. That is also due to the fact that 21 of the male passengers' age are pre-filled with mean age of 40 years old for Pclass 1 passengers."
   ]
  },
  {
   "cell_type": "code",
   "execution_count": null,
   "id": "157cad1e",
   "metadata": {},
   "outputs": [],
   "source": [
    "survived = titanic_df[titanic_df['Survived']==1]['Age'].describe()\n",
    "dead = titanic_df[titanic_df['Survived']==0]['Age'].describe()\n",
    "\n",
    "print (\"Survived Age:\")\n",
    "print (survived)\n",
    "print (\"\")\n",
    "print (\"Dead Age:\")\n",
    "print (dead)"
   ]
  },
  {
   "cell_type": "markdown",
   "id": "a0d787a6",
   "metadata": {},
   "source": [
    "#### The mean survival age is at 28 years old, not hugely different from the mean fatality age at 30 years old. This could also meant that a large percentage of passengers falls within the adult age range of 14 - 40 years old. \n",
    "\n",
    "#### Exploring that further, we categorize the age of a child, adult and senior accordingly."
   ]
  },
  {
   "cell_type": "code",
   "execution_count": null,
   "id": "fa173d98",
   "metadata": {},
   "outputs": [],
   "source": [
    "def last_name(name):\n",
    "    split_name = name.split(\",\")\n",
    "    last_name = split_name[0]\n",
    "    return last_name\n",
    "    \n",
    "family = titanic_df['Name'].apply(last_name)\n",
    "print (family.value_counts().sort_values(ascending=False).head())"
   ]
  },
  {
   "cell_type": "markdown",
   "id": "13de862a",
   "metadata": {},
   "source": [
    "#### The biggest 3 families on-board Titanic are the Andersson, Sage and Johnson."
   ]
  },
  {
   "cell_type": "markdown",
   "id": "e5fd3a7b",
   "metadata": {},
   "source": [
    "### Going deeper into Andersson's Family..."
   ]
  },
  {
   "cell_type": "code",
   "execution_count": null,
   "id": "7ab2173c",
   "metadata": {},
   "outputs": [],
   "source": [
    "titanic_df[(titanic_df['Name'].apply(last_name))=='Andersson']"
   ]
  },
  {
   "cell_type": "markdown",
   "id": "3ca797d5",
   "metadata": {},
   "source": [
    "#### Supposedly the assumption of all 9 under \"Andersson\" are from the same family, there are only 2 survivals - female age 17 and male age 27. Ironically, the fare paid by both of them are the lowest in the family and both hold a different ticket number."
   ]
  },
  {
   "cell_type": "markdown",
   "id": "4343256c",
   "metadata": {},
   "source": [
    "### Comparing Survival with Gender, Age and Fare"
   ]
  }
 ],
 "metadata": {},
 "nbformat": 4,
 "nbformat_minor": 5
}
