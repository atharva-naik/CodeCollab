{
 "cells": [
  {
   "cell_type": "markdown",
   "id": "183c4ff3",
   "metadata": {},
   "source": [
    "# An analysis of the 2015 NET December results\n",
    "\n",
    "\n",
    "We get our info from [the PDF here](http://cbsenet.nic.in/CMS/Handler/FileHandler.ashx?i=File&ii=7&iii=Y) which states **Complete Result of candidates qualified UGC NET December 2015**.\n",
    "To get started we import some tools."
   ]
  },
  {
   "cell_type": "code",
   "execution_count": null,
   "id": "598978c3",
   "metadata": {},
   "outputs": [],
   "source": [
    "import pandas as pd\n",
    "import matplotlib.pyplot as plt\n",
    "import seaborn as sns\n",
    "import numpy as np\n",
    "%pylab inline"
   ]
  },
  {
   "cell_type": "markdown",
   "id": "5a664984",
   "metadata": {},
   "source": [
    "# Seeing the Data\n",
    "The data is in PDF form so some cleaning is required to cet it into csv format.\n",
    "After that is done, we load it in to the notebook and see what columns need a bit of change."
   ]
  },
  {
   "cell_type": "code",
   "execution_count": null,
   "id": "243e435d",
   "metadata": {},
   "outputs": [],
   "source": [
    "df = pd.read_csv('net.csv')\n",
    "df.drop(['SNo', 'RollNo'], 1, inplace=True)\n",
    "df.Sex = df.Sex == 'M'\n",
    "\n",
    "# We calculate percentages\n",
    "df['P1p'] = df.P1 / 100\n",
    "df['P2p'] = df.P2 / 100\n",
    "df['P3p'] = df.P3 / 150\n",
    "df['Gtp'] = df.Gtotal / 350\n",
    "\n",
    "df.info()"
   ]
  },
  {
   "cell_type": "code",
   "execution_count": null,
   "id": "c6f22191",
   "metadata": {},
   "outputs": [],
   "source": [
    "plt.figure(figsize=(15, 5))\n",
    "plt.subplot(121)\n",
    "df.Sex.hist()\n",
    "plt.subplot(122)\n",
    "sns.heatmap(pd.crosstab(df.Sex, df.Status).apply(lambda x:x/x.sum(), axis=1), annot=True)"
   ]
  },
  {
   "cell_type": "markdown",
   "id": "010e0b33",
   "metadata": {},
   "source": [
    "- So now we know that there are more males sitting for the exams than there are females.\n",
    "- Also that females have a slightly higher success rate."
   ]
  },
  {
   "cell_type": "code",
   "execution_count": null,
   "id": "9cad4086",
   "metadata": {},
   "outputs": [],
   "source": [
    "mapp = {'GEN': 0,\n",
    "        'OBC': 1,\n",
    "        'SC': 2,\n",
    "        'ST': 3,\n",
    "       }\n",
    "plt.figure(figsize=(15, 5))\n",
    "plt.subplot(121)\n",
    "df.Caty.map(mapp).hist()\n",
    "plt.subplot(122)\n",
    "sns.heatmap(pd.crosstab(df.Caty, df.Status).apply(lambda x:x/x.sum(), axis=1), annot=True)"
   ]
  },
  {
   "cell_type": "markdown",
   "id": "c326d8be",
   "metadata": {},
   "source": [
    "- OBC category sees highest number of applications.\n",
    "- It also enjoys the lowest JRF allocation rate."
   ]
  },
  {
   "cell_type": "code",
   "execution_count": null,
   "id": "c490ee44",
   "metadata": {},
   "outputs": [],
   "source": [
    "def plot_marks_by_x(df, x):\n",
    "    plt.figure(figsize=(15, 10))\n",
    "    uq = [i for i in df[x].unique()]\n",
    "    uq.sort()\n",
    "    colors = ['red', 'green', 'blue', 'yellow', 'black', 'white']\n",
    "    print(list(zip(uq, colors)))\n",
    "    for i, c in enumerate(['P1p', 'P2p', 'P3p', 'Gtp']):\n",
    "        plt.subplot(2,2,i+1)\n",
    "        for sb, col in zip(uq, colors):\n",
    "            df.loc[df[x] == sb, c].hist(alpha=0.5, color=col)\n",
    "        plt.title(c)\n",
    "plot_marks_by_x(df, 'Caty')"
   ]
  },
  {
   "cell_type": "markdown",
   "id": "b7a8d468",
   "metadata": {},
   "source": [
    "- Marks are distributed mostly the same for all Categories.\n",
    "- The General category seems to have moved ahead in the mean compared to other reserved categories.\n",
    "- We will check this in the next cell."
   ]
  },
  {
   "cell_type": "code",
   "execution_count": null,
   "id": "21bb06b5",
   "metadata": {},
   "outputs": [],
   "source": [
    "df['notReserved'] = df.Caty == 'GEN'\n",
    "plot_marks_by_x(df, 'notReserved')"
   ]
  },
  {
   "cell_type": "markdown",
   "id": "cceb15a6",
   "metadata": {},
   "source": [
    "- As expected reservation and lower mean are correlated. Not a causal relation though."
   ]
  },
  {
   "cell_type": "code",
   "execution_count": null,
   "id": "19666051",
   "metadata": {},
   "outputs": [],
   "source": [
    "plot_marks_by_x(df, 'Sex')"
   ]
  },
  {
   "cell_type": "markdown",
   "id": "aa4aa5d5",
   "metadata": {},
   "source": [
    "Sex does not seem to have an effect on hwo people perform on the exams."
   ]
  },
  {
   "cell_type": "markdown",
   "id": "576081f0",
   "metadata": {},
   "source": [
    "# Now for Computer Science"
   ]
  },
  {
   "cell_type": "code",
   "execution_count": null,
   "id": "53c2bafe",
   "metadata": {},
   "outputs": [],
   "source": [
    "cdf = df.loc[df.Subect == 87]\n",
    "plt.figure(figsize=(15, 5))\n",
    "plt.subplot(121)\n",
    "cdf.Sex.hist()\n",
    "plt.subplot(122)\n",
    "sns.heatmap(pd.crosstab(cdf.Sex, cdf.Status).apply(lambda x:x/x.sum(), axis=1), annot=True)"
   ]
  },
  {
   "cell_type": "markdown",
   "id": "603ca580",
   "metadata": {},
   "source": [
    "- Again males are more in number.\n",
    "- Both males and females enjoy the same JRF conversion."
   ]
  },
  {
   "cell_type": "code",
   "execution_count": null,
   "id": "458ace67",
   "metadata": {},
   "outputs": [],
   "source": [
    "plot_marks_by_x(cdf, 'Caty')"
   ]
  },
  {
   "cell_type": "markdown",
   "id": "12026417",
   "metadata": {},
   "source": [
    "- This is interesting as Paper1 and Paper2 are almost similar but when you aggregate them, GEN category pulls ahead."
   ]
  },
  {
   "cell_type": "code",
   "execution_count": null,
   "id": "88b8cf95",
   "metadata": {},
   "outputs": [],
   "source": [
    "plot_marks_by_x(cdf, 'Sex')"
   ]
  },
  {
   "cell_type": "markdown",
   "id": "d65bae31",
   "metadata": {},
   "source": [
    "- Again as expected, Sex has no effect."
   ]
  },
  {
   "cell_type": "code",
   "execution_count": null,
   "id": "99e0575f",
   "metadata": {},
   "outputs": [],
   "source": [
    "plot_marks_by_x(cdf, 'Status')"
   ]
  },
  {
   "cell_type": "markdown",
   "id": "0dfe59a0",
   "metadata": {},
   "source": [
    "- This is misleading as it has all categories. (Different cutoffs for each category)"
   ]
  },
  {
   "cell_type": "code",
   "execution_count": null,
   "id": "7160e858",
   "metadata": {},
   "outputs": [],
   "source": [
    "plot_marks_by_x(cdf.loc[cdf.notReserved], 'Status')"
   ]
  },
  {
   "cell_type": "markdown",
   "id": "1e6bc80b",
   "metadata": {},
   "source": [
    "- Here we clearly see the demarcation in the Grand Total Percentage. you need at least 65% to qualify for JRF\n",
    "- Let us see for other categories which are reserved. Due to a lack of number of candidates in the SC and ST categories we will club them."
   ]
  }
 ],
 "metadata": {},
 "nbformat": 4,
 "nbformat_minor": 5
}
