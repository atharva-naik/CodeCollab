{
 "cells": [
  {
   "cell_type": "markdown",
   "id": "f77e1924",
   "metadata": {},
   "source": [
    "\n",
    "This is from the RDKit blog\n",
    "http://rdkit.blogspot.com/2016/05/trying-out-py3dmol.html\n",
    "<hr>\n",
    "\n",
    "I first saw [3DMol.js](http://3dmol.csb.pitt.edu/) from Dave Koes' group at the ACS meeting in San Diego. It looked great, but I haven't had time to get back to it.\n",
    "\n",
    "This morning Dave Tweeted about Jupyter integration for 3DMol.js and I just had to try it. This is the small experiment to see what's possible."
   ]
  },
  {
   "cell_type": "code",
   "execution_count": null,
   "id": "6a89de2f",
   "metadata": {},
   "outputs": [],
   "source": [
    "from rdkit import Chem\n",
    "from rdkit.Chem import AllChem\n",
    "from rdkit.Chem import Draw\n",
    "from rdkit.Chem.Draw import IPythonConsole\n",
    "from rdkit import rdBase\n",
    "print(rdBase.rdkitVersion)\n",
    "import os,time\n",
    "print( time.asctime())"
   ]
  },
  {
   "cell_type": "code",
   "execution_count": null,
   "id": "ff55c304",
   "metadata": {},
   "outputs": [],
   "source": [
    "import py3Dmol"
   ]
  },
  {
   "cell_type": "markdown",
   "id": "6e491305",
   "metadata": {},
   "source": [
    "Start with an example from the py3Dmol docs, just to make sure things are working:"
   ]
  },
  {
   "cell_type": "code",
   "execution_count": null,
   "id": "b99be275",
   "metadata": {},
   "outputs": [],
   "source": [
    "p = py3Dmol.view(query='pdb:1ycr')\n",
    "p.setStyle({'cartoon': {'color':'spectrum'}})\n",
    "p.show()"
   ]
  },
  {
   "cell_type": "markdown",
   "id": "dee31d5e",
   "metadata": {},
   "source": [
    "Demonstrate loading PDB data:"
   ]
  },
  {
   "cell_type": "code",
   "execution_count": null,
   "id": "842bf81f",
   "metadata": {},
   "outputs": [],
   "source": [
    "#crambin = open('1CRN.pdb','r').read()\n",
    "crambin = open('InitialAtomicStructure.pdb','r').read()\n",
    "p = py3Dmol.view(width=400,height=400)\n",
    "p.addModel(crambin,'pdb')\n",
    "#p.setStyle({'cartoon': {'color':'spectrum'}})\n",
    "p.setStyle({'stick':{}})\n",
    "p.setBackgroundColor('0xeeeeee')\n",
    "p.zoomTo()\n",
    "p.show()"
   ]
  },
  {
   "cell_type": "markdown",
   "id": "7db87c4e",
   "metadata": {},
   "source": [
    "Here's a molecule from the RDKit distance geometry tests:"
   ]
  },
  {
   "cell_type": "code",
   "execution_count": null,
   "id": "61ca4ad5",
   "metadata": {},
   "outputs": [],
   "source": [
    "m = Chem.AddHs(Chem.MolFromSmiles('COc1ccc2[C@H](O)[C@@H](COc2c1)N3CCC(O)(CC3)c4ccc(F)cc4'))\n",
    "AllChem.EmbedMultipleConfs(m,useExpTorsionAnglePrefs=True,useBasicKnowledge=True)\n",
    "mb = Chem.MolToMolBlock(m)\n",
    "p = py3Dmol.view(width=400,height=400)\n",
    "p.addModel(mb,'sdf')\n",
    "p.setStyle({'stick':{}})\n",
    "p.setBackgroundColor('0xeeeeee')\n",
    "p.zoomTo()\n",
    "p.show()"
   ]
  },
  {
   "cell_type": "markdown",
   "id": "bf152303",
   "metadata": {},
   "source": [
    "The thing I really want to be able to do is look at multiple molecules, so let's try showing all the conformers aligned to each other."
   ]
  },
  {
   "cell_type": "code",
   "execution_count": null,
   "id": "40641447",
   "metadata": {},
   "outputs": [],
   "source": [
    "core = m.GetSubstructMatch(Chem.MolFromSmiles('C1C(O)c2ccccc2OC1'))\n",
    "print(core)\n",
    "m"
   ]
  },
  {
   "cell_type": "code",
   "execution_count": null,
   "id": "946491c1",
   "metadata": {},
   "outputs": [],
   "source": [
    "AllChem.AlignMolConformers(m,atomIds=core)"
   ]
  },
  {
   "cell_type": "code",
   "execution_count": null,
   "id": "24fdcbbf",
   "metadata": {},
   "outputs": [],
   "source": [
    "p = py3Dmol.view(width=400,height=400)\n",
    "for conf in m.GetConformers():\n",
    "    mb = Chem.MolToMolBlock(m,confId=conf.GetId())\n",
    "    p.addModel(mb,'sdf')\n",
    "p.setStyle({'stick':{}})\n",
    "p.setBackgroundColor('0xeeeeee')\n",
    "p.zoomTo()\n",
    "p.show()"
   ]
  },
  {
   "cell_type": "markdown",
   "id": "621f546d",
   "metadata": {},
   "source": [
    "And lastly, let's look at results from the 3D alignment code:"
   ]
  },
  {
   "cell_type": "code",
   "execution_count": null,
   "id": "968ce148",
   "metadata": {},
   "outputs": [],
   "source": [
    "suppl = Chem.SDMolSupplier('ref_e2.sdf',removeHs=False)\n",
    "ms = [x for x in suppl]\n",
    "len(ms)"
   ]
  },
  {
   "cell_type": "code",
   "execution_count": null,
   "id": "96989d4c",
   "metadata": {},
   "outputs": [],
   "source": [
    "Draw.MolsToGridImage([Chem.RemoveHs(x) for x in ms[:12]],molsPerRow=4)"
   ]
  },
  {
   "cell_type": "markdown",
   "id": "df8f711c",
   "metadata": {},
   "source": [
    "Pick two of those molecules and generate new conformations for them, then display them to demonstrate that they really aren't aligned:"
   ]
  },
  {
   "cell_type": "code",
   "execution_count": null,
   "id": "5b6889a9",
   "metadata": {},
   "outputs": [],
   "source": [
    "refMol = ms[0]\n",
    "prbMol = ms[10]\n",
    "AllChem.EmbedMolecule(refMol,useExpTorsionAnglePrefs=True,useBasicKnowledge=True)\n",
    "AllChem.EmbedMolecule(prbMol,useExpTorsionAnglePrefs=True,useBasicKnowledge=True)\n",
    "\n",
    "p = py3Dmol.view(width=400,height=400)\n",
    "p.addModel(Chem.MolToMolBlock(ms[0]),'sdf')\n",
    "p.addModel(Chem.MolToMolBlock(ms[10]),'sdf')\n",
    "p.setStyle({'stick':{}})\n",
    "p.setBackgroundColor('0xeeeeee')\n",
    "p.zoomTo()\n",
    "p.show()"
   ]
  },
  {
   "cell_type": "markdown",
   "id": "fa2e8db1",
   "metadata": {},
   "source": [
    "Now align and display them:"
   ]
  }
 ],
 "metadata": {},
 "nbformat": 4,
 "nbformat_minor": 5
}
