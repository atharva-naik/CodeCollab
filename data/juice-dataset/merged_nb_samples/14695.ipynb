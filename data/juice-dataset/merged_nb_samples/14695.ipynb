{
 "cells": [
  {
   "cell_type": "markdown",
   "id": "e20e68d2",
   "metadata": {},
   "source": [
    "$$ \\bf{EE0404\\ SIGNAL\\ PROCESSING\\ APPLICATIONS} $$\n",
    "$$ \\ $$\n",
    "$$ $$\n",
    "$$ \\text{Lecture 8} $$\n",
    "\n",
    "$$ \\text{Effects of zeroes and poles on Frequeuncy Response}\n",
    " $$\n",
    "\n",
    "$$ \\text{ By: Güray GÜRKAN, PhD} $$\n",
    "\n",
    "$$ Aug\\ 2016 $$"
   ]
  },
  {
   "cell_type": "markdown",
   "id": "722b5bd0",
   "metadata": {},
   "source": [
    "# Effects of zeroes and poles on Frequency Response\n",
    "\n",
    "**1.)** Effect of zeroes on frequency response\n",
    "\n",
    "- Finite Impulse Response (FIR) Filters \n",
    "\n",
    "**2.)**  Effect of poles on frequency response\n",
    "\n",
    "- Infinite Impulse Response (IIR) Filters \n"
   ]
  },
  {
   "cell_type": "markdown",
   "id": "8fe0d45f",
   "metadata": {},
   "source": [
    "# Filtering is...\n",
    "\n",
    "Filtering usually implies modification of frequency content of an input signal.\n"
   ]
  },
  {
   "cell_type": "code",
   "execution_count": null,
   "id": "a6c46e19",
   "metadata": {},
   "outputs": [],
   "source": [
    "from IPython.display import Image\n",
    "Image('.\\Figs\\EE0404_Lecture8_fig1.png',width=400)"
   ]
  },
  {
   "cell_type": "markdown",
   "id": "3438f63e",
   "metadata": {},
   "source": [
    "# Frequency Content Modification: Ideal Descriptions\n",
    "\n",
    "- Omit frequencies higher than a specific frequency: **Low-pass filtering**\n",
    "\n",
    "\n",
    "- Omit frequencies lower than a specific frequency: **High-pass filtering**\n",
    "\n",
    "\n",
    "- Omit frequencies that are out of a specific band: ** Band-pass filtering **\n",
    "\n",
    "\n",
    "- Omit frequencies that are in a specific band: ** Band-reject filtering ** \n"
   ]
  },
  {
   "cell_type": "markdown",
   "id": "99633bba",
   "metadata": {},
   "source": [
    "# Effect of Zeroes on frequency response"
   ]
  },
  {
   "cell_type": "markdown",
   "id": "85cbaf85",
   "metadata": {},
   "source": [
    "## Example: Simplest Filter via zeroes\n",
    "\n",
    "We want a filter that will have a zero gain at 400 Hz. Calculate transfer function if $f_s$= 2kHz.\n",
    "\n",
    "What is your suggestion?"
   ]
  },
  {
   "cell_type": "markdown",
   "id": "60a3e495",
   "metadata": {},
   "source": [
    "** *Solution* **\n",
    "\n",
    "- We need only one zero at 400 Hz, one root at numerator.\n",
    "\n",
    "- The normalized angular frequency of zero point is\n",
    " $$ \\Omega = 2\\pi \\frac{400} {f_s} = 0.4\\pi $$\n",
    "\n",
    "- The location of zero on unit circle is:\n",
    "\n",
    "$$ e^{j\\Omega} = e^{j\\ 0.4\\pi} $$\n",
    "\n",
    "- and on z-plane\n",
    "\n",
    "$$ z = 1.e^{j\\ 0.4\\pi}=e^{j\\ 0.4\\pi} $$\n"
   ]
  },
  {
   "cell_type": "code",
   "execution_count": null,
   "id": "03670ed4",
   "metadata": {},
   "outputs": [],
   "source": [
    "Image('.\\Figs\\EE0404_Lecture8_fig2.png',width=400)"
   ]
  },
  {
   "cell_type": "markdown",
   "id": "eaf5be55",
   "metadata": {},
   "source": [
    " ** *Frequency Response* ** \n",
    " \n",
    " So for the single zero, we have\n",
    " \n",
    " $$ H(z) = z - e^{j0.4\\pi} $$\n",
    " \n",
    " since\n",
    " \n",
    " $$ H(z) |_{z\\ = \\ e\\ ^{j0.4\\pi}} = e^{j0.4\\pi}- e^{j0.4\\pi} = 0 $$ \n",
    "\n",
    "So this filter has a zero gain for $0.4 \\pi$ . What about other frequencies?"
   ]
  },
  {
   "cell_type": "code",
   "execution_count": null,
   "id": "25a77fbc",
   "metadata": {},
   "outputs": [],
   "source": [
    "%pylab inline\n",
    "\n",
    "# Frequency Response: Single zero at 0.4 pi\n",
    "\n",
    "w = linspace(0,2*pi,100)\n",
    "H = exp(1j*w)-exp(1j*0.4*pi)\n",
    "\n",
    "plot(w/pi, abs(H))\n",
    "xlabel('$\\Omega$ (x $\\pi$)')\n",
    "ylabel('|$H(e^{jw}$|')\n",
    "grid(True)"
   ]
  },
  {
   "cell_type": "markdown",
   "id": "13df8d36",
   "metadata": {},
   "source": [
    "** Realizable? **\n",
    "\n",
    "Consider this single-zero filter\n",
    "\n",
    " $$ H(z) = z - e^{j0.4\\pi} $$\n",
    " \n",
    "- Does it have real coefficients?\n",
    "\n",
    "- Is it casual?"
   ]
  },
  {
   "cell_type": "markdown",
   "id": "82577c01",
   "metadata": {},
   "source": [
    "** *Solution* **\n",
    "\n",
    "- The difference equation of the filter is \n",
    "\n",
    "$$ y(n) = x(n+1) - e^{j0.4\\pi}x(n) $$\n",
    "\n",
    "which has a complex coefficient and is non-causal."
   ]
  },
  {
   "cell_type": "markdown",
   "id": "ada6365b",
   "metadata": {},
   "source": [
    "** 1) Getting rid of non-causality **\n",
    "\n",
    "From the difference equation\n",
    "\n",
    "$$ Y(z) = X(z)z - e^{j0.4\\pi}X(z) $$\n",
    "\n",
    "- By multiplying both sides of the equation by $z^{-1}$, we obtain \n",
    "\n",
    "$$ Y(z)z^{-1} = X(z) - e^{j0.4\\pi}X(z)z^{-1} $$\n",
    "\n",
    "Reverting back to difference equation yields,\n",
    "\n",
    "$$ y(n-1) = x(n) - e^{j0.4\\pi}x(n-1) $$\n",
    "\n",
    "Thus, by introducing a single delay element, that is, by a single delay in samples, the causality is satisfied. For this form,\n",
    "\n",
    "$$ H(z) = \\frac{1-e^{j0.4\\pi}z^{-1}} {z^{-1}} $$"
   ]
  },
  {
   "cell_type": "markdown",
   "id": "9c4d414e",
   "metadata": {},
   "source": [
    "** 2) Getting rid of complex coefficient **\n",
    "\n",
    "- How can it be transformed such that all coefficients are real and the frequency response stays untouched?\n",
    "\n",
    "\n",
    "- Remember that real world signals cosine and sine have two components in Fourier Domain.\n",
    "\n",
    "\n",
    "- So, in addition to $0.4\\pi$, we may add a $2^{nd}$ zero that is symmetrical to the $x$-axis: $ -0.4\\pi$\n",
    "\n",
    "$$ H(z) = \\left( \\frac{1-e\\ ^{j0.4\\pi}z^{-1}} {z^{-1}} \\right) \\left( \\frac{1-e^{-j0.4\\pi}z^{-1}} {z^{-1}} \\right) $$\n",
    "\n",
    "$$H(z) = \\frac {1 - 2 cos(0.4\\pi)z^{-1} + z^{-2} } {z^{-2}} $$\n",
    "\n",
    "This filter has conjugate symmetric zeroes at $\\mp 0.4 \\pi$, causal and has real coefficients."
   ]
  },
  {
   "cell_type": "code",
   "execution_count": null,
   "id": "c3b3e645",
   "metadata": {},
   "outputs": [],
   "source": [
    "Image('.\\Figs\\EE0404_Lecture8_fig3.png',width=300)"
   ]
  },
  {
   "cell_type": "code",
   "execution_count": null,
   "id": "aa7b6cff",
   "metadata": {},
   "outputs": [],
   "source": [
    "# Frequency Response: Complex Conjugate zeroes at 0.4 pi\n",
    "\n",
    "w = linspace(0,2*pi,100)\n",
    "H2 = (1 - 2*cos(0.4*pi)*exp(-1j*w) + exp(- 1j*2*w)) / exp(- 1j*2*w)\n",
    "\n",
    "plot(w/pi, abs(H2))\n",
    "xlabel('$\\Omega$ (x $\\pi$)')\n",
    "ylabel('|$H(e^{jw}$|')\n",
    "grid(True)"
   ]
  },
  {
   "cell_type": "markdown",
   "id": "9cc17919",
   "metadata": {},
   "source": [
    "As the frequency response reveal, the filter has zero gains for $\\mp 0.4 \\pi $\n",
    "\n",
    "*- Note that this plot is sliced from unit circle located in 3 dimensional z-plane. (Will be visited later)* "
   ]
  },
  {
   "cell_type": "markdown",
   "id": "570609e6",
   "metadata": {},
   "source": [
    "The final form of the filter has a difference equation\n",
    "\n",
    "$$ y(n-2) = x(n) - 2 cos(0.4\\pi) x(n-1) + x(n-2) $$\n",
    "\n",
    "Thus, the output is obtained after 2 samples from the first input sample. "
   ]
  },
  {
   "cell_type": "markdown",
   "id": "4cbb73fd",
   "metadata": {},
   "source": [
    "** Impulse response **"
   ]
  },
  {
   "cell_type": "code",
   "execution_count": null,
   "id": "d3ca94dc",
   "metadata": {},
   "outputs": [],
   "source": [
    "h = [1, -2*cos(0.4*pi), 1]\n",
    "n = [0,1,2]\n",
    "\n",
    "stem(n,h)\n",
    "xlim([-.2, 2.2])\n",
    "ylim([-1.1, 1.1])\n",
    "xlabel('n')"
   ]
  },
  {
   "cell_type": "markdown",
   "id": "9e61a00d",
   "metadata": {},
   "source": [
    "- ** *Addition of a third zero at $\\pi$* **\n",
    "\n",
    "If a third zero is desired at $\\Omega = \\pi $, the additional multiplier is\n",
    "\n",
    "$$ \\hat H = \\left( \\frac {1-e^{\\ j\\pi} z^{-1}}{z^{-1}} \\right)= \\left( \\frac {1 + z^{-1}}{z^{-1}} \\right)$$ \n",
    "\n",
    "since $ e^{\\ j\\pi} = -1 $. Thus, \n",
    "\n",
    "$$H(z) = \\left( \\frac {1 - 2 cos(0.4\\pi)z^{-1} + z^{-2} } {z^{-2}} \\right)  \\left( \\frac {1 + z^{-1}}{z^{-1}} \\right) $$\n"
   ]
  },
  {
   "cell_type": "code",
   "execution_count": null,
   "id": "afeb40ca",
   "metadata": {},
   "outputs": [],
   "source": [
    "Image('.\\Figs\\EE0404_Lecture8_fig4.png',width=400)"
   ]
  },
  {
   "cell_type": "code",
   "execution_count": null,
   "id": "463e1a20",
   "metadata": {},
   "outputs": [],
   "source": [
    "# Frequency Response: Complex Conjugate zeroes at 0.4 pi and at pi\n",
    "\n",
    "w = linspace(0,2*pi,100)\n",
    "H3 = ((1 - 2*cos(0.4*pi)*exp(-1j*w) + exp(- 1j*2*w))*(1+exp(-1j*w))) / exp(- 1j*3*w)\n",
    "\n",
    "plot(w/pi, abs(H3))\n",
    "xlabel('$\\Omega$ (x $\\pi$)')\n",
    "ylabel('|$H(e^{jw}$|')\n",
    "grid(True)"
   ]
  },
  {
   "cell_type": "markdown",
   "id": "29d9aac5",
   "metadata": {},
   "source": [
    "** *Impulse response with 3 zeroes* **"
   ]
  },
  {
   "cell_type": "code",
   "execution_count": null,
   "id": "8cbd5641",
   "metadata": {},
   "outputs": [],
   "source": [
    "from scipy.signal import *\n",
    "h2 = convolve([1, -2*cos(0.4*pi), 1],[1, 1])\n",
    "n = [0,1,2,3]\n",
    "\n",
    "stem(n,h2)\n",
    "xlim([-.2, 3.2])\n",
    "ylim([-0.1, 1.1])\n",
    "xlabel('n')"
   ]
  },
  {
   "cell_type": "markdown",
   "id": "990c3dce",
   "metadata": {},
   "source": [
    "# RESULTs on effects of ZEROES:\n",
    "\n",
    "1) By adding zeros at a specific frequency, we obtain zero gain at that frequency.\n",
    "\n",
    "2) We have to use conjugate symmetric zeros to obtain real coefficients.\n",
    "\n",
    "3) We have to introduce delays to obtain a causal form of the filter. \n",
    "\n",
    "**This filter will always be F.I.R.**\n"
   ]
  },
  {
   "cell_type": "markdown",
   "id": "b58f5357",
   "metadata": {},
   "source": [
    "# Effect of Poles on frequency response"
   ]
  },
  {
   "cell_type": "markdown",
   "id": "624de98b",
   "metadata": {},
   "source": [
    "## Example: Simplest Filter via poles\n",
    "\n",
    "We want a filter that will have a large gain at 200 Hz. Calculate the transfer function if $f_s$= 2kHz.\n",
    "\n",
    "- This time, we need only one pole.\n",
    "- However, if the pole is located on unit circle, we obtain infinite gain due to division by 0.\n",
    "- Thus, the pole should be close to (and inside of) unit circle.\n",
    "- The argument of the pole should be at 200 Hz, one root at denumerator.\n"
   ]
  },
  {
   "cell_type": "markdown",
   "id": "fce50c08",
   "metadata": {},
   "source": [
    "** *Solution* **\n",
    "\n",
    "- We need only one pole at 200 Hz, one root at denumerator.\n",
    "\n",
    "- The normalized angular frequency of pole point is\n",
    " $$ \\Omega = 2\\pi \\frac{200} {f_s} = 0.2\\pi $$\n",
    "\n",
    "- The location of pole on z-plane may be:\n",
    "\n",
    "$$ z = 0.95\\ e^{\\ j0.2\\pi} $$\n"
   ]
  },
  {
   "cell_type": "code",
   "execution_count": null,
   "id": "40a87965",
   "metadata": {},
   "outputs": [],
   "source": [
    "Image('.\\Figs\\EE0404_Lecture8_fig5.png',width=400)"
   ]
  },
  {
   "cell_type": "markdown",
   "id": "c4ecde0d",
   "metadata": {},
   "source": [
    " ** *Frequency Response for single pole* ** \n",
    " \n",
    "For the single pole, we have\n",
    " \n",
    " $$ H(z) =\\frac {1} {z - 0.95\\ e^{\\ j0.2\\pi}} $$\n",
    " \n",
    "Now let the norm of the pole point be $r$ instead of 0.95. For this state,\n",
    "\n",
    "$$ H(z) =\\frac {1} {z - r \\ e^{\\ j0.2\\pi}} $$\n",
    "\n",
    "and the frequency response is\n",
    "\n",
    "$$ H(e^{j\\omega}) =\\frac {1} {e^{j\\omega} - r \\ e^{\\ j0.2\\pi}} $$\n",
    "\n",
    "For $\\omega = 0.2\\pi$,\n",
    "\n",
    "$$ H(e^{j\\ 0.2\\pi}) = \\frac {1} {e^{j\\ 0.2\\pi} - r \\ e^{\\ j0.2\\pi}} $$\n",
    "\n",
    "$$\\                 = \\frac {1} {e^{j\\ 0.2\\pi} (1 - r) } $$\n",
    "\n",
    "and\n",
    "\n",
    "$$ \\left| H(e^{j\\ 0.2\\pi}) \\right| = \\frac {1} {|1-r\\ |} $$\n",
    "\n",
    "\n",
    "So this filter has a gain of $ 1/ (1-r) $ for $0.2\\pi$ . That is, as pole gets closer to origin, the gain increases and approaches to infinity. For current state, where $r=0.95$, we have\n",
    "\n",
    "$$ \\left| H(e^{j\\ 0.2\\pi}) \\right| = \\frac {1} {|1-0.95\\ |} = 20$$\n",
    "\n",
    "What about other frequencies?"
   ]
  },
  {
   "cell_type": "code",
   "execution_count": null,
   "id": "a7105227",
   "metadata": {},
   "outputs": [],
   "source": [
    "# Frequency Response for single pole at 0.2pi\n",
    "\n",
    "w = linspace(0,2*pi,100)\n",
    "H4 = 1 / (exp(1j*w) -  0.95*exp(1j*0.2*pi))\n",
    "\n",
    "plot(w/pi, abs(H4))\n",
    "xlabel('$\\Omega$ (x $\\pi$)')\n",
    "ylabel('|$H(e^{jw}$|')\n",
    "grid(True)"
   ]
  },
  {
   "cell_type": "markdown",
   "id": "a8ff2d21",
   "metadata": {},
   "source": [
    "** Realizable? **\n",
    "\n",
    "Consider this single-pole filter\n",
    "\n",
    " $$ H(z) = \\frac {1} {z - 0.95\\ e^{\\ j0.2\\pi}} $$\n",
    " \n",
    "- Does it have real coefficients?\n",
    "\n",
    "- Is it casual?"
   ]
  },
  {
   "cell_type": "markdown",
   "id": "73c58c9c",
   "metadata": {},
   "source": [
    "** *Solution* **\n",
    "\n",
    "- Similar to one we obtained for single zero filter, the difference equation of single pole filter is \n",
    "\n",
    "$$ y(n+1) = x(n) + 0.95 e^{j0.2\\pi}y(n) $$\n",
    "\n",
    "which also has a complex coefficient and is non-causal."
   ]
  },
  {
   "cell_type": "markdown",
   "id": "2ee053db",
   "metadata": {},
   "source": [
    "** 1) Getting rid of non-causality **\n",
    "\n",
    "From the difference equation\n",
    "\n",
    "$$ Y(z)z = X(z) + 0.95\\ e^{j0.2\\pi} Y(z) $$\n",
    "\n",
    "By multiplying both sides with $ z^{-1} $\n",
    "\n",
    "$$ Y(z) = X(z)z^{-1} + 0.95\\ e^{j0.2\\pi} Y(z)z^{-1} $$\n",
    "\n",
    "and back to difference equation\n",
    "\n",
    "$$ y(n) = x(n-1) + 0.95 e^{j0.2\\pi}y(n-1) $$\n",
    "\n",
    "Also, one can easily transfrom $H(z)$ by\n",
    "\n",
    "$$ H(z) = \\frac {1} {z - 0.95\\ e^{\\ j0.2\\pi}} \\left( \\frac{z^{-1}}{z^{-1}} \\right) $$\n",
    "\n",
    "$$ \\    = \\frac {z^{-1}} {1 - 0.95\\ e^{\\ j0.2\\pi}z^{-1}} $$\n",
    "\n",
    "and that yields to same causal difference equation obtained previously."
   ]
  },
  {
   "cell_type": "markdown",
   "id": "337381a3",
   "metadata": {},
   "source": [
    "** 2) Getting rid of complex coefficient **\n",
    "\n",
    "- Similar to one zero case, we need a second pole for which the frequency response stays untouched.\n",
    "\n",
    "- So, in addition to point $ (0.95, 0.2\\pi) $ in polar coordinates, we now add its conjugate pair $ (0.95, -0.2\\pi)$ as the second pole\n",
    "\n",
    "$$ H(z) = \\left( \\frac {z^{-1}} {1 - 0.95\\ e^{\\ j0.2\\pi}z^{-1}} \\right) \\left( \\frac {z^{-1}} {1 - 0.95\\ e^{\\ -j0.2\\pi}z^{-1}} \\right) $$\n",
    " \n",
    "$$ H(z) = \\frac {z^{-2}} {1 -1.9 cos(0.2\\pi)z^{-1} + (0.95)^2z^{-2}} $$"
   ]
  }
 ],
 "metadata": {},
 "nbformat": 4,
 "nbformat_minor": 5
}
