{
 "cells": [
  {
   "cell_type": "code",
   "execution_count": null,
   "id": "8e70dd90",
   "metadata": {},
   "outputs": [],
   "source": [
    "import base64\n",
    "import datetime\n",
    "import json\n",
    "import os\n",
    "import random\n",
    "import time\n",
    "\n",
    "import scipy\n",
    "from scipy import ndimage\n",
    "import numpy as np\n",
    "import pandas as pd\n",
    "import sklearn\n",
    "import matplotlib as mpl\n",
    "import matplotlib.pyplot as plt\n",
    "from pylab import rcParams\n",
    "import seaborn as sns\n",
    "import statsmodels as sm\n",
    "from pylab import rcParams\n",
    "from pylab import *\n",
    "from matplotlib.dates import date2num , DateFormatter\n",
    "from PIL import Image\n",
    "\n",
    "np.random.seed(1337)\n",
    "\n",
    "%matplotlib inline\n",
    "sns.set(font_scale=1.0)\n",
    "rcParams['figure.figsize'] = 8, 6\n",
    "sns.set_style('whitegrid')\n",
    "sns.set_palette(sns.color_palette('muted'))\n",
    "\n",
    "pd.options.display.max_colwidth = 1000"
   ]
  },
  {
   "cell_type": "code",
   "execution_count": null,
   "id": "8386f2fe",
   "metadata": {},
   "outputs": [],
   "source": [
    "from collections import Counter\n",
    "from sklearn.feature_extraction.text import CountVectorizer"
   ]
  },
  {
   "cell_type": "markdown",
   "id": "f76905d5",
   "metadata": {},
   "source": [
    "# Load the Data"
   ]
  },
  {
   "cell_type": "code",
   "execution_count": null,
   "id": "b1ef2192",
   "metadata": {},
   "outputs": [],
   "source": [
    "raw_data = pd.read_json('tmp/raw_data.json')\n",
    "d = pd.read_json('tmp/raw_data.json')\n",
    "raw_data.index.name = 'id'\n",
    "d = raw_data[['street_address']]\n",
    "dd  = raw_data[['street_address', 'display_address']]\n",
    "print len(d)"
   ]
  },
  {
   "cell_type": "code",
   "execution_count": null,
   "id": "e5be93db",
   "metadata": {},
   "outputs": [],
   "source": [
    "d.dtypes"
   ]
  },
  {
   "cell_type": "code",
   "execution_count": null,
   "id": "c3e2e1c1",
   "metadata": {},
   "outputs": [],
   "source": [
    "dd.head()"
   ]
  },
  {
   "cell_type": "code",
   "execution_count": null,
   "id": "0195b12e",
   "metadata": {},
   "outputs": [],
   "source": [
    "#dd[dd.street_address == dd.display_address].value_counts()\n",
    "(dd.street_address == dd.display_address).value_counts()"
   ]
  },
  {
   "cell_type": "markdown",
   "id": "615a7bdf",
   "metadata": {},
   "source": [
    "## Number of words\n",
    "\n",
    "Here I count numbers of abbreviations as words, so it's rather the number of tokens."
   ]
  },
  {
   "cell_type": "code",
   "execution_count": null,
   "id": "2e2cae34",
   "metadata": {},
   "outputs": [],
   "source": [
    "# number of words\n",
    "# daddr_num_words\n",
    "def tokens(x):\n",
    "    return len(x.split(' '))\n",
    "d.loc[:, 'saddr_num_words'] = d.street_address.map(lambda x: tokens(x)).astype(float64)\n",
    "d.saddr_num_words.value_counts().sort_index().plot(kind='bar')"
   ]
  },
  {
   "cell_type": "markdown",
   "id": "4dbfb6fe",
   "metadata": {},
   "source": [
    "## Does the address contain any numbers?\n",
    "\n",
    "If the address contains number, then we can assume it's the exact address, not only the street or neighborhood name."
   ]
  },
  {
   "cell_type": "code",
   "execution_count": null,
   "id": "b4f552f7",
   "metadata": {},
   "outputs": [],
   "source": [
    "def represents_int(s):\n",
    "    try: \n",
    "        int(s)\n",
    "        return True\n",
    "    except ValueError:\n",
    "        return False\n",
    "\n",
    "def has_number(x):\n",
    "    return int(any([represents_int(w.strip()) for w in x.split(' ')]))\n",
    "    \n",
    "d.loc[:, 'saddr_has_number'] = d.street_address.map(lambda x: has_number(x))\n",
    "d.head()"
   ]
  },
  {
   "cell_type": "code",
   "execution_count": null,
   "id": "73734900",
   "metadata": {},
   "outputs": [],
   "source": [
    "d.saddr_has_number.value_counts().plot(kind='barh', figsize=(8,3))"
   ]
  },
  {
   "cell_type": "markdown",
   "id": "1a8548ed",
   "metadata": {},
   "source": [
    "## Does the address contain any ordinal numbers?\n"
   ]
  },
  {
   "cell_type": "code",
   "execution_count": null,
   "id": "1b23ea64",
   "metadata": {},
   "outputs": [],
   "source": [
    "import re\n",
    "p = re.compile('[0-9]+[a-z]+')\n",
    "\n",
    "def is_ordinal(w):    \n",
    "    return p.match(w) != None\n",
    "\n",
    "def has_ordinal_number(x):\n",
    "    return int(any([is_ordinal(w.strip().lower()) for w in x.split(' ')]))\n",
    "    \n",
    "d.loc[:, 'saddr_has_ordinal'] = d.street_address.map(lambda x: has_ordinal_number(x))\n",
    "d.head()"
   ]
  },
  {
   "cell_type": "markdown",
   "id": "5eb1d67f",
   "metadata": {},
   "source": [
    "## Number of uppercase words\n",
    "\n",
    "Note that there are a lot of addresses that contain a single-letter \"word\" which is uppercase, usually referring to East, West, etc\n",
    "For example: E 78th St., W 68 Street.\n",
    "I've excluded these single letter words because I think it's ok to treat them as normal."
   ]
  },
  {
   "cell_type": "code",
   "execution_count": null,
   "id": "d019da03",
   "metadata": {},
   "outputs": [],
   "source": [
    "import re\n",
    "uppercase_pattern = re.compile('^[A-Z]+$')\n",
    "\n",
    "\n",
    "def is_uppercase(w):    \n",
    "    return uppercase_pattern.match(w) != None\n",
    "\n",
    "def uppercase_word_count(x):\n",
    "    return len([w for w in x.split(' ') if is_uppercase(w.strip()) and len(w) > 1])\n",
    "    \n",
    "d.loc[:, 'saddr_num_upper_words'] = d.street_address.map(lambda x: uppercase_word_count(x)).astype(float64)\n",
    "d.head()"
   ]
  },
  {
   "cell_type": "code",
   "execution_count": null,
   "id": "f7d279a2",
   "metadata": {},
   "outputs": [],
   "source": [
    "d[d.saddr_num_upper_words >2].head()"
   ]
  },
  {
   "cell_type": "code",
   "execution_count": null,
   "id": "5f056bf9",
   "metadata": {},
   "outputs": [],
   "source": [
    "d.saddr_num_upper_words.value_counts()"
   ]
  },
  {
   "cell_type": "markdown",
   "id": "00507c36",
   "metadata": {},
   "source": [
    "### Is street address the same as display address?"
   ]
  },
  {
   "cell_type": "code",
   "execution_count": null,
   "id": "e2eea3e2",
   "metadata": {},
   "outputs": [],
   "source": [
    "d.loc[:, 'daddr_saddr_same'] = (dd.street_address == dd.display_address).map(int)\n",
    "d.head()"
   ]
  },
  {
   "cell_type": "markdown",
   "id": "d9006e46",
   "metadata": {},
   "source": [
    "# Num Apts with the Same Street Address"
   ]
  }
 ],
 "metadata": {},
 "nbformat": 4,
 "nbformat_minor": 5
}
