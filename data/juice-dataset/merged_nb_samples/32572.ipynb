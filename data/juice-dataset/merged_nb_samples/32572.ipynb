{
 "cells": [
  {
   "cell_type": "markdown",
   "id": "144a5bd2",
   "metadata": {},
   "source": [
    "# built-in functions\n",
    "```python\n",
    "bool([value])\n",
    "dict(**kwarg) ; numbers = dict(x=5, y=0)\n",
    "dict(mapping, **kwarg) ; numbers2 = dict({'x': 4, 'y': 5}, z=8)\n",
    "dict(iterable, **kwarg) ; numbers3 = dict(dict(zip(['x', 'y', 'z'], [1, 2, 3])))\n",
    "dir([object]) # return a list of valid attributes of the object.\n",
    "divmod(x, y) # returns a tuple (q, r)\n",
    "enumerate(iterable, start=0) ; enumerate(numbers3.values())\n",
    "frozenset([iterable]) ; frozenset(numbers3.items()\n",
    "iter(object[, sentinel]) # use as class method to make iterable objects\n",
    "min/max(arg1, arg2, *args[, key]) ; max(iterable, key=myFunc)\n",
    "next(iterator, default) # use as class method to make iterable objects\n",
    "pow(x, y[, z]) ; x**y % z\n",
    "reversed(seq)\n",
    "slice(start, stop, step) # sliceObj = slice(1,5,2); myList[sliceObj]\n",
    "sorted(iterable[, key][, reverse])\n",
    "sum(iterable, start) # sum will add the 'start' value if provided\n",
    "zip(*iterables) ;\n",
    "```"
   ]
  },
  {
   "cell_type": "markdown",
   "id": "0268f1dd",
   "metadata": {},
   "source": [
    "# ENUMERATE"
   ]
  },
  {
   "cell_type": "code",
   "execution_count": null,
   "id": "3418b6a0",
   "metadata": {},
   "outputs": [],
   "source": [
    "numbers3 = dict(dict(zip(['x', 'y', 'z'], [1, 2, 3])))\n",
    "print(numbers3)\n",
    "a = enumerate(numbers3.values())\n",
    "print(list(a))"
   ]
  },
  {
   "cell_type": "markdown",
   "id": "f81f49bf",
   "metadata": {},
   "source": [
    "# SORTED"
   ]
  },
  {
   "cell_type": "code",
   "execution_count": null,
   "id": "5f694208",
   "metadata": {},
   "outputs": [],
   "source": [
    "# take second element for sort\n",
    "def takeSecond(elem):\n",
    "    return elem[1]\n",
    "\n",
    "# random list\n",
    "random = [(2, 2), (3, 4), (4, 1), (1, 3)]\n",
    "\n",
    "# sort list with key\n",
    "sortedList = sorted(random, key=takeSecond, reverse=True)\n",
    "\n",
    "# print list\n",
    "print('Sorted list:', sortedList)"
   ]
  },
  {
   "cell_type": "markdown",
   "id": "3535fafd",
   "metadata": {},
   "source": [
    "# SLICE"
   ]
  },
  {
   "cell_type": "code",
   "execution_count": null,
   "id": "e845afed",
   "metadata": {},
   "outputs": [],
   "source": [
    "b = slice(1,8,2)\n",
    "'pythonscc'[b]"
   ]
  },
  {
   "cell_type": "markdown",
   "id": "596f93e7",
   "metadata": {},
   "source": [
    "# ZIP"
   ]
  },
  {
   "cell_type": "code",
   "execution_count": null,
   "id": "b22cfd75",
   "metadata": {},
   "outputs": [],
   "source": [
    "numbersList = [1, 2, 3]\n",
    "strList = ['one', 'two']\n",
    "numbersTuple = ('ONE', 'TWO', 'THREE', 'FOUR')\n",
    "\n",
    "result = zip(numbersList, numbersTuple)\n",
    "\n",
    "# Converting to set\n",
    "resultSet = set(result)\n",
    "print(resultSet)\n",
    "\n",
    "result = zip(numbersList, strList, numbersTuple)\n",
    "\n",
    "# Converting to set\n",
    "resultSet = set(result)\n",
    "print(resultSet)"
   ]
  },
  {
   "cell_type": "markdown",
   "id": "34262c97",
   "metadata": {},
   "source": [
    "# UNZIP"
   ]
  }
 ],
 "metadata": {},
 "nbformat": 4,
 "nbformat_minor": 5
}
