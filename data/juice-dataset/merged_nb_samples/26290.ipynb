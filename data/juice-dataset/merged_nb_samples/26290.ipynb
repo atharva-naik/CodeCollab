{
 "cells": [
  {
   "cell_type": "markdown",
   "id": "a46fbd1c",
   "metadata": {},
   "source": [
    "\n",
    "# Getting started\n",
    "\n",
    "Once you've chosen your scenario, download the data from the Iowa website in csv format. Start by loading the data with pandas. You may need to parse the date columns appropriately."
   ]
  },
  {
   "cell_type": "code",
   "execution_count": null,
   "id": "8d17b75b",
   "metadata": {},
   "outputs": [],
   "source": [
    "import pandas as pd\n",
    "import matplotlib.pyplot as plt\n",
    "%matplotlib inline\n",
    "import math\n",
    "\n",
    "## Load the data into a DataFrame\n",
    "df = pd.read_csv('../../../../../Datasets/Iowa_Liquor_Sales_reduced.csv')\n",
    "\n",
    "df.head()\n",
    "\n",
    "## Transform the dates if needed, e.g.\n",
    "# df[\"Date\"] = pd.to_datetime(df[\"Date\"], format=\"%m-%d-%y\")"
   ]
  },
  {
   "cell_type": "code",
   "execution_count": null,
   "id": "da33da6d",
   "metadata": {},
   "outputs": [],
   "source": [
    "df.dtypes"
   ]
  },
  {
   "cell_type": "markdown",
   "id": "8aa36278",
   "metadata": {},
   "source": [
    "## Eradicate Dollar Signs"
   ]
  },
  {
   "cell_type": "code",
   "execution_count": null,
   "id": "afd5a801",
   "metadata": {},
   "outputs": [],
   "source": [
    "df['State Bottle Cost'] = df['State Bottle Cost'].str.replace(\"$\", \"\")\n",
    "df['State Bottle Retail'] = df['State Bottle Retail'].str.replace(\"$\", \"\")\n",
    "df['Sale (Dollars)'] = df['Sale (Dollars)'].str.replace(\"$\", \"\")\n",
    "df.head()"
   ]
  },
  {
   "cell_type": "markdown",
   "id": "df8819b8",
   "metadata": {},
   "source": [
    "## Convert Necessary Columns to Floats"
   ]
  },
  {
   "cell_type": "code",
   "execution_count": null,
   "id": "d56b11c7",
   "metadata": {},
   "outputs": [],
   "source": [
    "len(df_by_county)"
   ]
  },
  {
   "cell_type": "code",
   "execution_count": null,
   "id": "19fe33d8",
   "metadata": {},
   "outputs": [],
   "source": [
    "pop_est.reset_index(inplace=True)"
   ]
  },
  {
   "cell_type": "code",
   "execution_count": null,
   "id": "bcf399f6",
   "metadata": {},
   "outputs": [],
   "source": [
    "pop_est.drop('index', axis=1, inplace=True)\n",
    "pop_est.head()"
   ]
  },
  {
   "cell_type": "code",
   "execution_count": null,
   "id": "1a9c61a8",
   "metadata": {},
   "outputs": [],
   "source": [
    "pop_est.set_index('County', inplace=True)\n",
    "pop_est.head()"
   ]
  },
  {
   "cell_type": "markdown",
   "id": "efa6fd86",
   "metadata": {},
   "source": [
    "## Population per Store based on Current Population"
   ]
  },
  {
   "cell_type": "code",
   "execution_count": null,
   "id": "2d35d177",
   "metadata": {},
   "outputs": [],
   "source": [
    "df_by_county['Pop Store Ratio Current'] = pop_est['2015 Population'] / df_by_county['# of Stores']\n",
    "df_by_county.head()"
   ]
  },
  {
   "cell_type": "markdown",
   "id": "1e7aae27",
   "metadata": {},
   "source": [
    "## Population per Store based on 2020 Pop Estimate"
   ]
  },
  {
   "cell_type": "code",
   "execution_count": null,
   "id": "b1403583",
   "metadata": {},
   "outputs": [],
   "source": [
    "df_by_county['Pop Store Ratio 2020'] = pop_est['2020 Population'] / df_by_county['# of Stores']\n",
    "df_by_county.head()"
   ]
  },
  {
   "cell_type": "code",
   "execution_count": null,
   "id": "6e877c83",
   "metadata": {},
   "outputs": [],
   "source": [
    "combined_df = pd.concat([df_by_county, pop_est], axis=1)\n",
    "combined_df.head()"
   ]
  },
  {
   "cell_type": "markdown",
   "id": "005378cd",
   "metadata": {},
   "source": [
    "## Saturation Level - Population to Store Ratio"
   ]
  },
  {
   "cell_type": "code",
   "execution_count": null,
   "id": "7a6f7ee1",
   "metadata": {},
   "outputs": [],
   "source": [
    "combined_df['Pop Store Ratio Current'].sort_values(ascending=False)"
   ]
  },
  {
   "cell_type": "markdown",
   "id": "59792a35",
   "metadata": {},
   "source": [
    "## Sorted by Profit per Store Grouped by County"
   ]
  },
  {
   "cell_type": "code",
   "execution_count": null,
   "id": "8c25679b",
   "metadata": {},
   "outputs": [],
   "source": [
    "df['State Bottle Cost'] = df['State Bottle Cost'].astype('float')\n",
    "df['State Bottle Retail'] = df['State Bottle Retail'].astype('float')\n",
    "df['Sale (Dollars)'] = df['Sale (Dollars)'].astype('float')\n",
    "df.dtypes"
   ]
  },
  {
   "cell_type": "markdown",
   "id": "8d0a6d03",
   "metadata": {},
   "source": [
    "## Initial Data Length"
   ]
  },
  {
   "cell_type": "code",
   "execution_count": null,
   "id": "c0f73ca0",
   "metadata": {},
   "outputs": [],
   "source": [
    "len(df)"
   ]
  },
  {
   "cell_type": "markdown",
   "id": "c6c11598",
   "metadata": {},
   "source": [
    "## Null Values by Column"
   ]
  },
  {
   "cell_type": "code",
   "execution_count": null,
   "id": "8dc21195",
   "metadata": {},
   "outputs": [],
   "source": [
    "df.isnull().sum()"
   ]
  },
  {
   "cell_type": "code",
   "execution_count": null,
   "id": "ca3edac5",
   "metadata": {},
   "outputs": [],
   "source": [
    "df.dropna(inplace=True)"
   ]
  },
  {
   "cell_type": "markdown",
   "id": "26561e70",
   "metadata": {},
   "source": [
    "## New Length of df after Dropping"
   ]
  },
  {
   "cell_type": "code",
   "execution_count": null,
   "id": "140e6b78",
   "metadata": {},
   "outputs": [],
   "source": [
    "df['County'].value_counts()"
   ]
  },
  {
   "cell_type": "markdown",
   "id": "6a38be06",
   "metadata": {},
   "source": [
    "## Created Column 'ml Sold'"
   ]
  },
  {
   "cell_type": "code",
   "execution_count": null,
   "id": "b7db12b6",
   "metadata": {},
   "outputs": [],
   "source": [
    "df['ml Sold'] = df['Bottle Volume (ml)'] * df['Bottles Sold']\n",
    "df.head()"
   ]
  },
  {
   "cell_type": "markdown",
   "id": "ac4a9f62",
   "metadata": {},
   "source": [
    "## Create a Profit Column ((retail - cost) * bottles sold)"
   ]
  },
  {
   "cell_type": "code",
   "execution_count": null,
   "id": "e5a2ba8d",
   "metadata": {},
   "outputs": [],
   "source": [
    "sns.pairplot(combined_df[['Profit Per Store','Pop Store Ratio Current','Pop Store Ratio 2020','Consumption Per Person','Weeks Rec Unemployment Benefits','Residential Value']])"
   ]
  },
  {
   "cell_type": "code",
   "execution_count": null,
   "id": "4a2a9299",
   "metadata": {},
   "outputs": [],
   "source": [
    "combined_df.corr()"
   ]
  },
  {
   "cell_type": "code",
   "execution_count": null,
   "id": "822c0432",
   "metadata": {},
   "outputs": [],
   "source": [
    "combined_df.dtypes"
   ]
  },
  {
   "cell_type": "markdown",
   "id": "fe97c8ba",
   "metadata": {},
   "source": [
    "# Build your models\n",
    "\n",
    "Using scikit-learn or statsmodels, build the necessary models for your scenario. Evaluate model fit."
   ]
  },
  {
   "cell_type": "code",
   "execution_count": null,
   "id": "fbe20496",
   "metadata": {},
   "outputs": [],
   "source": [
    "from sklearn.metrics import classification_report, confusion_matrix, accuracy_score\n",
    "from sklearn.cross_validation import train_test_split\n",
    "from sklearn.linear_model import LogisticRegression, LogisticRegressionCV\n",
    "from sklearn.grid_search import GridSearchCV\n",
    "from sklearn.linear_model import LinearRegression\n",
    "from sklearn.metrics import r2_score\n",
    "from sklearn.cross_validation import cross_val_score\n",
    "from sklearn import linear_model"
   ]
  },
  {
   "cell_type": "markdown",
   "id": "9454cdd6",
   "metadata": {},
   "source": [
    "## Model with all Values"
   ]
  },
  {
   "cell_type": "code",
   "execution_count": null,
   "id": "c5216809",
   "metadata": {},
   "outputs": [],
   "source": [
    "X = combined_df[['Pop Store Ratio Current','Consumption Per Person', 'Residential Value']]\n",
    "X_future = combined_df[['Pop Store Ratio 2020','Consumption Per Person', 'Residential Value']]\n",
    "y = combined_df['Profit Per Store']\n",
    "\n",
    "X_train, X_test, y_train, y_test = train_test_split(X,y,random_state=99)\n",
    "\n",
    "reg = LinearRegression()\n",
    "model = reg.fit(X_train,y_train)\n",
    "#cross_val_score(model, X_train, y_train, cv=3).mean()"
   ]
  },
  {
   "cell_type": "markdown",
   "id": "a634b218",
   "metadata": {},
   "source": [
    "## Train Score All Values"
   ]
  },
  {
   "cell_type": "code",
   "execution_count": null,
   "id": "9dcb0a7e",
   "metadata": {},
   "outputs": [],
   "source": [
    "model.score(X_train,y_train)"
   ]
  },
  {
   "cell_type": "markdown",
   "id": "2950846d",
   "metadata": {},
   "source": [
    "## Test Score All Values"
   ]
  },
  {
   "cell_type": "code",
   "execution_count": null,
   "id": "baf9271a",
   "metadata": {},
   "outputs": [],
   "source": [
    "model.score(X_test,y_test)"
   ]
  },
  {
   "cell_type": "markdown",
   "id": "da4a0035",
   "metadata": {},
   "source": [
    "## Profit Per Store Predictions by County"
   ]
  },
  {
   "cell_type": "code",
   "execution_count": null,
   "id": "11b91856",
   "metadata": {},
   "outputs": [],
   "source": [
    "combined_df.head()"
   ]
  },
  {
   "cell_type": "markdown",
   "id": "0c284824",
   "metadata": {},
   "source": [
    "## Unemployment Data"
   ]
  },
  {
   "cell_type": "code",
   "execution_count": null,
   "id": "7627299e",
   "metadata": {},
   "outputs": [],
   "source": [
    "fields = ['Year', 'County Name', 'Benefits Paid', 'Weeks Compensated']\n",
    "unemployment = pd.read_csv('../../../../../Datasets/Unemployment_Insurance_Recipients_and_UI_Benefit_Payments_by_County__Annual_.csv', usecols=fields)\n",
    "unemployment.head()"
   ]
  },
  {
   "cell_type": "code",
   "execution_count": null,
   "id": "d8d704c3",
   "metadata": {},
   "outputs": [],
   "source": [
    "unemployment.reset_index(inplace=True)"
   ]
  },
  {
   "cell_type": "code",
   "execution_count": null,
   "id": "99670b55",
   "metadata": {},
   "outputs": [],
   "source": [
    "unemployment.drop('index', axis=1, inplace=True)"
   ]
  },
  {
   "cell_type": "code",
   "execution_count": null,
   "id": "4b801d62",
   "metadata": {},
   "outputs": [],
   "source": [
    "unemployment = unemployment[unemployment.Year == 2015]\n",
    "unemployment.head()"
   ]
  },
  {
   "cell_type": "code",
   "execution_count": null,
   "id": "c6975e57",
   "metadata": {},
   "outputs": [],
   "source": [
    "unemployment.set_index('County Name', inplace=True)"
   ]
  },
  {
   "cell_type": "code",
   "execution_count": null,
   "id": "8ffd6543",
   "metadata": {},
   "outputs": [],
   "source": [
    "combined_df[\"Weeks Rec Unemployment Benefits\"] = (unemployment['Weeks Compensated']) / (combined_df['2015 Population'])"
   ]
  },
  {
   "cell_type": "code",
   "execution_count": null,
   "id": "04daaba3",
   "metadata": {},
   "outputs": [],
   "source": [
    "combined_df.isnull()"
   ]
  },
  {
   "cell_type": "code",
   "execution_count": null,
   "id": "652f011e",
   "metadata": {},
   "outputs": [],
   "source": [
    "combined_df.fillna(value=0, inplace=True)"
   ]
  },
  {
   "cell_type": "markdown",
   "id": "62649bfc",
   "metadata": {},
   "source": [
    "## Outlier Adjusted DataFrame"
   ]
  },
  {
   "cell_type": "code",
   "execution_count": null,
   "id": "43eb9b8b",
   "metadata": {},
   "outputs": [],
   "source": [
    "outlier_adjusted = combined_df.drop(['Davis','Fremont'], axis=0)"
   ]
  },
  {
   "cell_type": "markdown",
   "id": "c4e9657d",
   "metadata": {},
   "source": [
    "## Correlation Between Independent Variables"
   ]
  },
  {
   "cell_type": "code",
   "execution_count": null,
   "id": "aacc7f73",
   "metadata": {},
   "outputs": [],
   "source": [
    "import seaborn as sns"
   ]
  },
  {
   "cell_type": "code",
   "execution_count": null,
   "id": "595bd1be",
   "metadata": {},
   "outputs": [],
   "source": [
    "pop_est.drop([1,2,3,7,8,9], axis=1, inplace=True)"
   ]
  },
  {
   "cell_type": "code",
   "execution_count": null,
   "id": "6121c62d",
   "metadata": {},
   "outputs": [],
   "source": [
    "pop_est.drop([109,110,111,112,113,114,115,116,117,118,119,120,121,122,123,124], inplace=True)"
   ]
  },
  {
   "cell_type": "code",
   "execution_count": null,
   "id": "bb5f1477",
   "metadata": {},
   "outputs": [],
   "source": [
    "print pop_est.head()\n",
    "print pop_est.tail()"
   ]
  },
  {
   "cell_type": "code",
   "execution_count": null,
   "id": "8c1e86a5",
   "metadata": {},
   "outputs": [],
   "source": [
    "names= ['County', '2015 Population','2020 Population','2025 Population']\n",
    "pop_est.columns = names\n",
    "print pop_est.head()"
   ]
  },
  {
   "cell_type": "code",
   "execution_count": null,
   "id": "750a5790",
   "metadata": {},
   "outputs": [],
   "source": [
    "len(pop_est)"
   ]
  },
  {
   "cell_type": "code",
   "execution_count": null,
   "id": "aecb3759",
   "metadata": {},
   "outputs": [],
   "source": [
    "combined_df['Profit Per Store'].sort_values(ascending=False)"
   ]
  },
  {
   "cell_type": "markdown",
   "id": "262d9de0",
   "metadata": {},
   "source": [
    "## Consumption per Person"
   ]
  },
  {
   "cell_type": "code",
   "execution_count": null,
   "id": "7c9c9bbe",
   "metadata": {},
   "outputs": [],
   "source": [
    "combined_df['Consumption Per Person'] = combined_df['ml Sold'] / combined_df[\"2015 Population\"]"
   ]
  },
  {
   "cell_type": "markdown",
   "id": "158d03fe",
   "metadata": {},
   "source": [
    "# Housing Data"
   ]
  },
  {
   "cell_type": "code",
   "execution_count": null,
   "id": "925923b0",
   "metadata": {},
   "outputs": [],
   "source": [
    "fields = ['County Name', 'Residential', 'Commercial']\n",
    "housing = pd.read_csv('../../../../../Datasets/Assessed_Property_Values_By_Tax_District_and_Year.csv', usecols=fields)\n",
    "housing.head()"
   ]
  },
  {
   "cell_type": "code",
   "execution_count": null,
   "id": "f87046b9",
   "metadata": {},
   "outputs": [],
   "source": [
    "housing['Residential'] = housing.Residential.str.replace(\"$\",\"\").astype(float)\n",
    "housing['Commercial'] = housing.Commercial.str.replace(\"$\",\"\").astype(float)"
   ]
  },
  {
   "cell_type": "code",
   "execution_count": null,
   "id": "85d3daff",
   "metadata": {},
   "outputs": [],
   "source": [
    "housing['County Name'] = housing['County Name'].str.title()"
   ]
  },
  {
   "cell_type": "code",
   "execution_count": null,
   "id": "307df190",
   "metadata": {},
   "outputs": [],
   "source": [
    "housing = housing.groupby('County Name').mean()"
   ]
  },
  {
   "cell_type": "code",
   "execution_count": null,
   "id": "0dfa69d6",
   "metadata": {},
   "outputs": [],
   "source": [
    "housing.head()"
   ]
  },
  {
   "cell_type": "code",
   "execution_count": null,
   "id": "be54cecf",
   "metadata": {},
   "outputs": [],
   "source": [
    "combined_df['Residential Value'] = housing.Residential\n",
    "combined_df['Commercial Value'] = housing.Commercial"
   ]
  },
  {
   "cell_type": "code",
   "execution_count": null,
   "id": "660124dd",
   "metadata": {},
   "outputs": [],
   "source": [
    "print(housing.Residential / 10000).sort_values(ascending=False)"
   ]
  },
  {
   "cell_type": "code",
   "execution_count": null,
   "id": "43dadcbf",
   "metadata": {},
   "outputs": [],
   "source": [
    "df['Profit'] = (df['State Bottle Retail'] - df['State Bottle Cost']) * df[\"Bottles Sold\"]\n",
    "df.head()"
   ]
  },
  {
   "cell_type": "code",
   "execution_count": null,
   "id": "231ce4e5",
   "metadata": {},
   "outputs": [],
   "source": [
    "df.describe()"
   ]
  },
  {
   "cell_type": "markdown",
   "id": "2cfc0ef3",
   "metadata": {},
   "source": [
    "# Explore the data\n",
    "\n",
    "Perform some exploratory statistical analysis and make some plots, such as histograms of transaction totals, bottles sold, etc."
   ]
  },
  {
   "cell_type": "markdown",
   "id": "e0b95fad",
   "metadata": {},
   "source": [
    "## Reformat the Dates"
   ]
  },
  {
   "cell_type": "code",
   "execution_count": null,
   "id": "6217633b",
   "metadata": {},
   "outputs": [],
   "source": [
    "df['Date'] = pd.to_datetime(df['Date'])"
   ]
  },
  {
   "cell_type": "markdown",
   "id": "43a97ba8",
   "metadata": {},
   "source": [
    "## Sorting df by Date"
   ]
  },
  {
   "cell_type": "code",
   "execution_count": null,
   "id": "2378950a",
   "metadata": {},
   "outputs": [],
   "source": [
    "y_pred_2015 = model.predict(X)"
   ]
  },
  {
   "cell_type": "code",
   "execution_count": null,
   "id": "48debd01",
   "metadata": {},
   "outputs": [],
   "source": [
    "y_pred_2020 = model.predict(X_future)"
   ]
  },
  {
   "cell_type": "code",
   "execution_count": null,
   "id": "8dccece6",
   "metadata": {},
   "outputs": [],
   "source": [
    "combined_df['y_pred_2015'] = y_pred_2015\n",
    "combined_df['y_pred_2020'] = y_pred_2020"
   ]
  },
  {
   "cell_type": "markdown",
   "id": "a51b5b6b",
   "metadata": {},
   "source": [
    "## Model Removing Outliers"
   ]
  },
  {
   "cell_type": "code",
   "execution_count": null,
   "id": "f2a4c770",
   "metadata": {},
   "outputs": [],
   "source": [
    "df.sort_values('Date').head()"
   ]
  },
  {
   "cell_type": "code",
   "execution_count": null,
   "id": "767db063",
   "metadata": {},
   "outputs": [],
   "source": [
    "df.sort_values('Date').tail()"
   ]
  },
  {
   "cell_type": "markdown",
   "id": "cd484ca9",
   "metadata": {},
   "source": [
    "# Record your findings\n",
    "\n",
    "Be sure to write out any observations from your exploratory analysis."
   ]
  },
  {
   "cell_type": "markdown",
   "id": "b17fdc8c",
   "metadata": {},
   "source": [
    "Multiple columns had a dollar sign which needed to be removed in order to change the column to a float.\n",
    "\n",
    "The Date column is not proper format so I used to_datetime to change the format\n",
    "\n",
    "There are missing values for the following columns: County, County Number, Category, Category Name.\n",
    "\n",
    "The data starts in January of 2015 and ends in March of 2016"
   ]
  },
  {
   "cell_type": "markdown",
   "id": "2cff32f8",
   "metadata": {},
   "source": [
    "# Mine the data\n",
    "\n",
    "Now you are ready to compute the variables you will use for your regression from the data. For example, you may want to compute total sales per store from Jan to March of 2015, mean price per bottle, etc. Refer to the readme for more ideas appropriate to your scenario.\n",
    "\n",
    "Pandas is your friend for this task. Take a look at the operations here for ideas on how to make the best use of pandas and feel free to search for blog and Stack Overflow posts to help you group data by certain variables and compute sums, means, etc. You may find it useful to create a new data frame to house this summary data.\n",
    "\n",
    " \n"
   ]
  },
  {
   "cell_type": "markdown",
   "id": "6328536d",
   "metadata": {},
   "source": [
    "## Sum Columns by County"
   ]
  },
  {
   "cell_type": "code",
   "execution_count": null,
   "id": "17dfe4a3",
   "metadata": {},
   "outputs": [],
   "source": [
    "df_by_county = df.groupby(['County']).sum()\n",
    "df_by_county.head()\n",
    "\n",
    "## drop irrelevant columns: store number"
   ]
  },
  {
   "cell_type": "markdown",
   "id": "a18013db",
   "metadata": {},
   "source": [
    "## Number of Stores in each County"
   ]
  },
  {
   "cell_type": "code",
   "execution_count": null,
   "id": "087b15ec",
   "metadata": {},
   "outputs": [],
   "source": [
    "df_by_county['# of Stores'] = df.groupby(['County'])['Store Number'].nunique()"
   ]
  },
  {
   "cell_type": "markdown",
   "id": "757125c5",
   "metadata": {},
   "source": [
    "#### concat a column of number of stores in a county by using store number unique\n",
    "\n",
    "#### groupby county -- store number unique.sum()"
   ]
  },
  {
   "cell_type": "markdown",
   "id": "1feca378",
   "metadata": {},
   "source": [
    "## Profit Per Store"
   ]
  },
  {
   "cell_type": "code",
   "execution_count": null,
   "id": "5d205c0f",
   "metadata": {},
   "outputs": [],
   "source": [
    "df_by_county['Profit Per Store'] = df_by_county['Profit'] / df_by_county['# of Stores']\n",
    "df_by_county.head()"
   ]
  },
  {
   "cell_type": "markdown",
   "id": "5e8c2284",
   "metadata": {},
   "source": [
    "# Refine the data\n",
    "\n",
    "Look for any statistical relationships, correlations, or other relevant properties of the dataset."
   ]
  },
  {
   "cell_type": "markdown",
   "id": "d99c749c",
   "metadata": {},
   "source": [
    "## Read in Population Estimates"
   ]
  },
  {
   "cell_type": "code",
   "execution_count": null,
   "id": "42702b2f",
   "metadata": {},
   "outputs": [],
   "source": [
    "pop_est = pd.read_excel('pop_est.xls', header=None)\n",
    "##reassign column header\n",
    "## drop rows\n",
    "pop_est.drop([0,1,2,3,4,5,6,7,8,9], inplace=True)\n",
    "pop_est.head(15)"
   ]
  }
 ],
 "metadata": {},
 "nbformat": 4,
 "nbformat_minor": 5
}
