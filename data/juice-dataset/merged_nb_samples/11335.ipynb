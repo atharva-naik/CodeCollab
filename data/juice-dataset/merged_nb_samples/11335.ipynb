{
 "cells": [
  {
   "cell_type": "code",
   "execution_count": null,
   "id": "df6751ee",
   "metadata": {},
   "outputs": [],
   "source": [
    "from IPython.core.interactiveshell import InteractiveShell\n",
    "InteractiveShell.ast_node_interactivity = \"all\""
   ]
  },
  {
   "cell_type": "markdown",
   "id": "c642559b",
   "metadata": {},
   "source": [
    "## Some Definitions "
   ]
  },
  {
   "cell_type": "markdown",
   "id": "16e60516",
   "metadata": {},
   "source": [
    "We define the low dimensional clifford algebras as:\n",
    "\n",
    "$Cl(0,0)=\\langle 1 \\rangle \\simeq \\mathbb{R}(1)$\n",
    "\n",
    "$Cl(1,0)=\\langle 1, i \\rangle \\simeq \\mathbb{C}(1)$\n",
    "\n",
    "$Cl(0,1)=\\langle 1, \\sigma_2 \\rangle \\simeq \\mathbb{R}(1)\\oplus\\mathbb{R}(1)$\n",
    "\n",
    "$Cl(2,0)=\\langle 1, \\gamma_1, \\gamma_2, \\gamma_{12} \\rangle \\simeq \\mathbb{H}(1)$\n",
    "\n",
    "$Cl(1,1)=\\langle 1, \\sigma_1, \\gamma_1, \\sigma_1\\gamma_1 \\rangle \\simeq \\mathbb{R}(2)$\n",
    "\n",
    "$Cl(0,2)=\\langle 1, \\sigma_1, \\sigma_2, \\sigma_{12} \\rangle \\simeq \\mathbb{R}(2)$"
   ]
  },
  {
   "cell_type": "code",
   "execution_count": null,
   "id": "41cccda9",
   "metadata": {},
   "outputs": [],
   "source": [
    "g1 = Matrix([[ 0, 1],[-1, 0]]);g1\n",
    "g2 = Matrix([[ 0, I],[ I, 0]]);g2\n",
    "s1 = Matrix([[ 0, 1],[ 1, 0]]);s1\n",
    "s2 = Matrix([[ 1, 0],[ 0,-1]]);s2\n",
    "Il = Matrix([[0,1,0,0],[-1,0,0,0],[0,0,0,1],[0,0,-1,0]]);Il\n",
    "Jl = Matrix([[0,0,1,0],[0,0,0,-1],[-1,0,0,0],[0,1,0,0]]);Jl\n",
    "Ir = Matrix([[0,1,0,0],[-1,0,0,0],[0,0,0,-1],[0,0,1,0]]);Ir\n",
    "Jr = Matrix([[0,0,1,0],[0,0,0,1],[-1,0,0,0],[0,-1,0,0]]);Jr"
   ]
  },
  {
   "cell_type": "markdown",
   "id": "9683a395",
   "metadata": {},
   "source": [
    "## Implementation"
   ]
  },
  {
   "cell_type": "markdown",
   "id": "25ed1569",
   "metadata": {},
   "source": [
    "Here we define `cl(s,t)` as the function that returns the generators of $Cl(s,t)$ as list of matrices.\n",
    "The first entry of the list is the scalar of the algebra while the other entries are the vectors.\n",
    "\n",
    "We use the relations:\n",
    "\n",
    "$Cl(s,t)\\equiv Cl(s-1,t-1)\\otimes_{\\mathbb{R}}Cl(1,1)$\n",
    "\n",
    "$Cl(s,0)\\equiv Cl(0,s-2)\\otimes_{\\mathbb{R}}Cl(2,0)$\n",
    "\n",
    "$Cl(0,t)\\equiv Cl(t-2,0)\\otimes_{\\mathbb{R}}Cl(0,2)$"
   ]
  },
  {
   "cell_type": "code",
   "execution_count": null,
   "id": "d3bd1789",
   "metadata": {},
   "outputs": [],
   "source": [
    "def cl(s, t):\n",
    "    if ( s < 0 ):\n",
    "        return [eye(1)]\n",
    "    elif ( s == 0 ):\n",
    "        if ( t < 0 ):\n",
    "            return [eye(1)]\n",
    "        elif ( t == 0 ):\n",
    "            return [eye(1)]\n",
    "        elif ( t == 1 ):\n",
    "            return [eye(2), s2]\n",
    "        else:\n",
    "            tmp = cl(t-2, s)\n",
    "            new = [TensorProduct(tmp[0], eye(2))]\n",
    "            for i in range(0, t+s-2):\n",
    "                new.append(TensorProduct(tmp[i+1], s1*s2))\n",
    "            new.append(TensorProduct(tmp[0], s1))\n",
    "            new.append(TensorProduct(tmp[0], s2))\n",
    "            return new\n",
    "    elif ( s == 1 ):\n",
    "        if ( t < 0 ):\n",
    "            return [eye(1)]\n",
    "        elif ( t == 0 ):\n",
    "            return [eye(1), I*eye(1)]\n",
    "        else:\n",
    "            tmp = cl(s-1, t-1)\n",
    "            new = [TensorProduct(tmp[0], eye(2))]\n",
    "            for i in range(0, t+s-2):\n",
    "                new.append(TensorProduct(tmp[i+1], g1*s1))\n",
    "            new.append(TensorProduct(tmp[0], g1))\n",
    "            new.append(TensorProduct(tmp[0], s1))\n",
    "            return new\n",
    "    else:\n",
    "        if ( t < 0 ):\n",
    "            return [eye(1)]\n",
    "        elif ( t == 0 ):\n",
    "            tmp = cl(t, s-2)\n",
    "            new = [TensorProduct(tmp[0], eye(2))]\n",
    "            for i in range(0, t+s-2):\n",
    "                new.append(TensorProduct(tmp[i+1], g1*g2))\n",
    "            new.append(TensorProduct(tmp[0], g1))\n",
    "            new.append(TensorProduct(tmp[0], g2))\n",
    "            return new\n",
    "        else:\n",
    "            tmp = cl(s-1, t-1)\n",
    "            new = [TensorProduct(tmp[0], eye(2))]\n",
    "            for i in range(0, t+s-2):\n",
    "                new.append(TensorProduct(tmp[i+1], g1*s1))\n",
    "            new.append(TensorProduct(tmp[0], g1))\n",
    "            new.append(TensorProduct(tmp[0], s1))\n",
    "            return new"
   ]
  },
  {
   "cell_type": "markdown",
   "id": "a41dfd9e",
   "metadata": {},
   "source": [
    "The function `clifford(s,t)` returns a list of (degree 1) generators for the clifford algebra, written in a basis in which the pseudoscalar is diagonal."
   ]
  },
  {
   "cell_type": "code",
   "execution_count": null,
   "id": "ddfe4c09",
   "metadata": {},
   "outputs": [],
   "source": [
    "def clifford(s, t):\n",
    "    tmp = cl(s, t)\n",
    "    pseudoscalar = 1;\n",
    "    for i in range(0, len(tmp)):\n",
    "        pseudoscalar *= tmp[i]\n",
    "    if ( (I*pseudoscalar).is_Identity or (-I*pseudoscalar).is_Identity ):\n",
    "        return tmp[1:]\n",
    "    else:\n",
    "        m = pseudoscalar.diagonalize()[0]\n",
    "        new = []\n",
    "        for i in range(1, len(tmp)):\n",
    "            new.append(m.inv()*tmp[i]*m)\n",
    "        return new"
   ]
  },
  {
   "cell_type": "markdown",
   "id": "3e8cb4ce",
   "metadata": {},
   "source": [
    "## Example 1:"
   ]
  },
  {
   "cell_type": "code",
   "execution_count": null,
   "id": "b0e420cc",
   "metadata": {},
   "outputs": [],
   "source": [
    "s = 3;\n",
    "t = 1;\n",
    "\n",
    "gamma = clifford(s,t)\n",
    "gamma\n",
    "\n",
    "signature = [];\n",
    "for i in range(0, len(gamma)):\n",
    "    signature.append((gamma[i]**2).trace()/gamma[0].rows)\n",
    "signature"
   ]
  },
  {
   "cell_type": "markdown",
   "id": "529af367",
   "metadata": {},
   "source": [
    "Define the pseudoscalar as $\\Gamma_*=\\Gamma_1\\Gamma_2...\\Gamma_{s+t}$"
   ]
  },
  {
   "cell_type": "code",
   "execution_count": null,
   "id": "793b8c82",
   "metadata": {},
   "outputs": [],
   "source": [
    "pseudoscalar = 1;\n",
    "for i in range(0, len(gamma)):\n",
    "    pseudoscalar *= gamma[i]\n",
    "pseudoscalar"
   ]
  },
  {
   "cell_type": "markdown",
   "id": "05502510",
   "metadata": {},
   "source": [
    "and check that $\\Gamma_*^2=(-1)^{\\frac{(s+t)(s+t-1)}{2}+s}\\mathbb{1}$"
   ]
  },
  {
   "cell_type": "code",
   "execution_count": null,
   "id": "c0019051",
   "metadata": {},
   "outputs": [],
   "source": [
    "pseudoscalar**2 == (gamma[0]**4)*(-1)**(binomial(s+t,2)+s)"
   ]
  },
  {
   "cell_type": "markdown",
   "id": "d739838a",
   "metadata": {},
   "source": [
    "and the element $A=\\Gamma_{i_1}\\Gamma_{i_2}...\\Gamma_{i_t}$ such that $\\Gamma_{i_k}$ are timelike"
   ]
  },
  {
   "cell_type": "code",
   "execution_count": null,
   "id": "b9f675c5",
   "metadata": {},
   "outputs": [],
   "source": [
    "A = 1;\n",
    "for i in range(0, len(gamma)):\n",
    "    if (signature[i] == 1):\n",
    "        A *= gamma[i]\n",
    "A"
   ]
  },
  {
   "cell_type": "markdown",
   "id": "976f9204",
   "metadata": {},
   "source": [
    "We now check the following properties:\n",
    "\n",
    "$\\Gamma^\\dagger_{(s)}=-\\Gamma_{(s)}$\n",
    "\n",
    "$\\Gamma^\\dagger_{(t)}=\\Gamma_{(t)}$"
   ]
  },
  {
   "cell_type": "code",
   "execution_count": null,
   "id": "4b7059e0",
   "metadata": {},
   "outputs": [],
   "source": [
    "for i in range(0, len(gamma)):\n",
    "    gamma[i].conjugate().transpose() == signature[i]*gamma[i]"
   ]
  },
  {
   "cell_type": "markdown",
   "id": "127b87b5",
   "metadata": {},
   "source": [
    "and $\\Gamma^{\\mu\\dagger}=-(-1)^t A \\Gamma^\\mu A^{-1}$"
   ]
  },
  {
   "cell_type": "code",
   "execution_count": null,
   "id": "86f56c91",
   "metadata": {},
   "outputs": [],
   "source": [
    "for i in range(0, len(gamma)):\n",
    "    gamma[i].conjugate().transpose()==-((-1)**t)*A*gamma[i]*(A.inv())"
   ]
  },
  {
   "cell_type": "markdown",
   "id": "a055df52",
   "metadata": {},
   "source": [
    "$\\varepsilon= +1,\\eta=-1:\\quad s-t=0,1,2,\\, \\text{mod}\\, 8$\n",
    "\n",
    "$\\varepsilon= +1,\\eta=+1:\\quad s-t=6,7,8,\\, \\text{mod}\\, 8$\n",
    "\n",
    "$\\varepsilon= -1,\\eta=-1:\\quad s-t=4,5,6,\\, \\text{mod}\\, 8$\n",
    "\n",
    "$\\varepsilon= -1,\\eta=+1:\\quad s-t=2,3,4,\\, \\text{mod}\\, 8$"
   ]
  },
  {
   "cell_type": "code",
   "execution_count": null,
   "id": "fee8542e",
   "metadata": {},
   "outputs": [],
   "source": [
    "eps = 1; eta = -1;"
   ]
  },
  {
   "cell_type": "markdown",
   "id": "eb826765",
   "metadata": {},
   "source": [
    "$B^*B = \\varepsilon\\mathbb{1}$"
   ]
  },
  {
   "cell_type": "code",
   "execution_count": null,
   "id": "4c64ef25",
   "metadata": {},
   "outputs": [],
   "source": [
    "B = Matrix([[ 0, 0, 0, 1],[ 0, 0,-1, 0],[ 0, -1, 0, 0],[ 1, 0, 0, 0]])\n",
    "B\n",
    "B.conjugate() * B == eps * eye(B.rows)"
   ]
  },
  {
   "cell_type": "markdown",
   "id": "24cf09f0",
   "metadata": {},
   "source": [
    "$\\Gamma^\\mu = \\eta B^{-1} \\Gamma^{\\mu*} B$"
   ]
  },
  {
   "cell_type": "code",
   "execution_count": null,
   "id": "64f747f8",
   "metadata": {},
   "outputs": [],
   "source": [
    "for i in range(0, len(gamma)):\n",
    "    gamma[i] == eta * B.inv() * gamma[i].conjugate() * B"
   ]
  },
  {
   "cell_type": "markdown",
   "id": "3974c2c4",
   "metadata": {},
   "source": [
    "$B^T=CA^{-1}$"
   ]
  },
  {
   "cell_type": "code",
   "execution_count": null,
   "id": "91241c64",
   "metadata": {},
   "outputs": [],
   "source": [
    "C = B.transpose() * A\n",
    "C"
   ]
  },
  {
   "cell_type": "markdown",
   "id": "2dc47e21",
   "metadata": {},
   "source": [
    "$\\Gamma^{\\mu T} = (-1)^{t+1} \\eta C \\Gamma^\\mu C^{-1}$\n",
    "\n",
    "$C^\\dagger C = \\mathbb{1}$\n",
    "\n",
    "$C^T = \\varepsilon \\eta^t (-1)^{t(t-1)/2}C$"
   ]
  },
  {
   "cell_type": "code",
   "execution_count": null,
   "id": "f41b9332",
   "metadata": {},
   "outputs": [],
   "source": [
    "for i in range(0, len(gamma)):\n",
    "    gamma[i].transpose() == ((-1)**(t+1)) * eta * C * gamma[i] * C.inv()\n",
    "C.conjugate().transpose() * C == eye(C.rows)\n",
    "C.transpose() == eps * (eta**t) * ((-1)**binomial(t,2)) * C"
   ]
  },
  {
   "cell_type": "markdown",
   "id": "1b19ba54",
   "metadata": {},
   "source": [
    "$\\psi^* = B\\,\\psi$"
   ]
  }
 ],
 "metadata": {},
 "nbformat": 4,
 "nbformat_minor": 5
}
