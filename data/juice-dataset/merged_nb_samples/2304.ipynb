{
 "cells": [
  {
   "cell_type": "markdown",
   "id": "c344b47d",
   "metadata": {},
   "source": [
    "### Getting started\n",
    "\n",
    "This notebook is meant to give a quick introduction into pyaerocom based and into some of the relevant features and workflows when using [pyaerocom](http://aerocom.met.no/pyaerocom/). \n",
    "\n",
    "It ends with a colocation of CAM53-Oslo model AODs both all-sky and clear-sky with Aeronet Sun V3 level 2 data."
   ]
  },
  {
   "cell_type": "markdown",
   "id": "67f82e85",
   "metadata": {},
   "source": [
    "#### Pyaerocom API flowchart (minimal)\n",
    "\n",
    "The following flowchart illustrates the minimal workflow to create standard output in pyaerocom based on a user query (that typically comprises a model ID and observation ID as well as one (or more) variable(s) of interest (products indicated in red are not available yet, date of latest update: 4-10-2018)."
   ]
  },
  {
   "cell_type": "code",
   "execution_count": null,
   "id": "63b1c1cf",
   "metadata": {},
   "outputs": [],
   "source": [
    "from IPython.display import Image\n",
    "flowchart = Image(filename=('../suppl/api_minimal_v0.png'))\n",
    "flowchart"
   ]
  },
  {
   "cell_type": "markdown",
   "id": "d65f5d7c",
   "metadata": {},
   "source": [
    "A user query typically comprises a model (+ experiment -> model run) and an observation network, which are supposed to be compared. \n",
    "\n",
    "**Note**: the flowchart depicts a situation, where the data from the observation network is *ungridded*, that is, the data is not available in a gridded format such as NetCDF, but, for instance, in the form of column seperated text files (as is the case for Aeronet data, which is used as an example here and included in the test dataset). \n",
    "For `gridded` observations (e.g. satellite data), the flowchart is equivalent but with `ReadGridded` class and `GriddedData` for the observation branch (and without caching). \n",
    "\n",
    "This notebook illustrates and briefly discusses the individual aspects displayed in the flowchart."
   ]
  },
  {
   "cell_type": "code",
   "execution_count": null,
   "id": "d7a6556f",
   "metadata": {},
   "outputs": [],
   "source": [
    "import pyaerocom as pya"
   ]
  },
  {
   "cell_type": "markdown",
   "id": "cd230a41",
   "metadata": {},
   "source": [
    "##### Check data directory\n",
    "\n",
    "By default, pyaerocom assumes that the AEROCOM database can be accessed (cf. top of flowchart), that is, it initiates all data query paths relative to the database server path names."
   ]
  },
  {
   "cell_type": "code",
   "execution_count": null,
   "id": "2d16252f",
   "metadata": {},
   "outputs": [],
   "source": [
    "pya.const.BASEDIR"
   ]
  },
  {
   "cell_type": "markdown",
   "id": "3072a565",
   "metadata": {},
   "source": [
    "**NOTE**: Execution of the following lines will only work if you are connected to the AEROCOM data server or if you have access to the pyaerocom testdataset. The latter can be retrieved upon request (please contact jonasg@met.no)."
   ]
  },
  {
   "cell_type": "markdown",
   "id": "89063daf",
   "metadata": {},
   "source": [
    "#### Reading of and working with *gridded* model data (`ReadGridded` and `GriddedData` classes)"
   ]
  },
  {
   "cell_type": "markdown",
   "id": "7a2dfbcb",
   "metadata": {},
   "source": [
    "This section illustrates the reading of gridded data as well as some features of the `GriddedData` class of *pyaerocom*. First, however, we have to find a valid model ID for the reading (cf. flow chart)."
   ]
  },
  {
   "cell_type": "markdown",
   "id": "8caf5bf3",
   "metadata": {},
   "source": [
    "##### Find model data\n",
    "\n",
    "The database contains data from the CAM53-Oslo model, which is used in the following. You can use the `browse_database` function of pyaerocom to find model ID's (which can be quite cryptic sometimes) using wildcard pattern search."
   ]
  },
  {
   "cell_type": "markdown",
   "id": "ca7a9d93",
   "metadata": {},
   "source": [
    "#### Reading of and working with ungridded data (`ReadUngridded` and `UngriddedData` classes)"
   ]
  },
  {
   "cell_type": "markdown",
   "id": "78448f66",
   "metadata": {},
   "source": [
    "Ungridded data in pyaerocom refers to data that is available in the form of *files per station* and that is not sampled in a manner that it would make sense to translate into a rgular gridded format such as the previously introduced `GriddedData` class. \n",
    "\n",
    "Data from the AERONET network (that is introduced in the following), for instance, is provided in the form of column seperated text files per measurement station, where columns correspond to different variables and data rows to individual time stamps. Needless to say that the time stamps (or the covered periods) vary from station to station. \n",
    "\n",
    "The basic workflow for reading of ungridded data, such as Aeronet data, is very similar to the reading of gridded data (comprising a reading class that handles a query and returns a data class, here [UngriddedData](http://aerocom.met.no/pyaerocom/api.html#module-pyaerocom.ungriddeddata) (see also flow chart above).\n",
    "\n",
    "Before we can continue with the data import, some things need to be said related to the caching of `UngriddedData` objects. "
   ]
  },
  {
   "cell_type": "markdown",
   "id": "0ac6e355",
   "metadata": {},
   "source": [
    "##### Caching of UngriddedData\n",
    "\n",
    "Reading of ungridded data is often rather time-consuming. Therefore, pyaerocom uses a caching strategy that stores loaded instances of the `UngriddedData` class as pickle files in a cache directory (illustrated in the left hand side of the flowchart shown above). The loaction of the cache directory can be accessed via:"
   ]
  },
  {
   "cell_type": "code",
   "execution_count": null,
   "id": "0b2ae4d7",
   "metadata": {},
   "outputs": [],
   "source": [
    "pya.const.CACHEDIR"
   ]
  },
  {
   "cell_type": "markdown",
   "id": "6df4bd5f",
   "metadata": {},
   "source": [
    "You may change this directory if required."
   ]
  },
  {
   "cell_type": "code",
   "execution_count": null,
   "id": "79c2a64b",
   "metadata": {},
   "outputs": [],
   "source": [
    "print('Caching is active? {}'.format(pya.const.CACHING))"
   ]
  },
  {
   "cell_type": "markdown",
   "id": "0dd5a59e",
   "metadata": {},
   "source": [
    "**Deactivate caching**"
   ]
  },
  {
   "cell_type": "code",
   "execution_count": null,
   "id": "e7fb29ee",
   "metadata": {},
   "outputs": [],
   "source": [
    "pya.const.CACHING = False"
   ]
  },
  {
   "cell_type": "markdown",
   "id": "4a35ba31",
   "metadata": {},
   "source": [
    "**Activate caching**"
   ]
  },
  {
   "cell_type": "code",
   "execution_count": null,
   "id": "4a186f36",
   "metadata": {},
   "outputs": [],
   "source": [
    "pya.const.CACHING = True"
   ]
  },
  {
   "cell_type": "markdown",
   "id": "6f2acab6",
   "metadata": {},
   "source": [
    "**Note**: if caching is active, make sure you have enough disk quota or change location where the files are stored."
   ]
  },
  {
   "cell_type": "markdown",
   "id": "ca790578",
   "metadata": {},
   "source": [
    "##### Read Aeronet Sun v3 level 2 data\n",
    "\n",
    "As illustrated in the flowchart above,  ungridded observation data can be imported using the `ReadUngridded` class. The reading class requires an ID for the observation network that is supposed to be read. Let's find the right ID for these data:"
   ]
  },
  {
   "cell_type": "code",
   "execution_count": null,
   "id": "8268468c",
   "metadata": {},
   "outputs": [],
   "source": [
    "pya.browse_database('Aeronet*V3*Lev2*')"
   ]
  },
  {
   "cell_type": "markdown",
   "id": "ed632640",
   "metadata": {},
   "source": [
    "It found one match and the dataset ID is *AeronetSunV3Lev2.daily*. It also tells us what variables can be loaded via the interface.\n",
    "\n",
    "**Note**: You can safely ignore all the warnings in the output. These are due to the fact that the testdata set does not contain all observation networks that are available in the AEROCOM database."
   ]
  },
  {
   "cell_type": "code",
   "execution_count": null,
   "id": "1c32e7d7",
   "metadata": {},
   "outputs": [],
   "source": [
    "obs_reader = pya.io.ReadUngridded('AeronetSunV3Lev2.daily')\n",
    "print(obs_reader)"
   ]
  },
  {
   "cell_type": "markdown",
   "id": "3660763b",
   "metadata": {},
   "source": [
    "Let's read the data (you can read a single or multiple variables at the same time). For now, we only read the AOD at 550 nm:"
   ]
  },
  {
   "cell_type": "code",
   "execution_count": null,
   "id": "82be333c",
   "metadata": {},
   "outputs": [],
   "source": [
    "aeronet_data = obs_reader.read(vars_to_retrieve='od550aer')\n",
    "type(aeronet_data) #displays data type"
   ]
  },
  {
   "cell_type": "markdown",
   "id": "61c87757",
   "metadata": {},
   "source": [
    "As you can see, the data object is of type `UngriddedData`. Like the `GriddedData` object, also the `UngriddedData` class has an informative string representation (that can be printed):"
   ]
  },
  {
   "cell_type": "code",
   "execution_count": null,
   "id": "23e19838",
   "metadata": {},
   "outputs": [],
   "source": [
    "print(aeronet_data)"
   ]
  },
  {
   "cell_type": "markdown",
   "id": "4ed0d0a2",
   "metadata": {},
   "source": [
    "##### Access of individual stations"
   ]
  },
  {
   "cell_type": "code",
   "execution_count": null,
   "id": "62598bf5",
   "metadata": {},
   "outputs": [],
   "source": [
    "print(aeronet_data.station_name)"
   ]
  },
  {
   "cell_type": "markdown",
   "id": "ad59f776",
   "metadata": {},
   "source": [
    "Let's say you are interested in the city of Leipzig, Germany."
   ]
  },
  {
   "cell_type": "code",
   "execution_count": null,
   "id": "9442fab4",
   "metadata": {},
   "outputs": [],
   "source": [
    "station_data = aeronet_data['Leipzig']\n",
    "type(station_data)"
   ]
  },
  {
   "cell_type": "markdown",
   "id": "f696fbcb",
   "metadata": {},
   "source": [
    "As you can see, the returned object is of type `StationData`, which is one further data format of pyaerocom (note that this is not displayed in the simplified  flowchart above). `StationData` may be useful for individual stations and is an extended Python dictionary (if you are familiar with Python). \n",
    "\n",
    "You may print it to see what is in there:"
   ]
  },
  {
   "cell_type": "code",
   "execution_count": null,
   "id": "36c73bc2",
   "metadata": {},
   "outputs": [],
   "source": [
    "print(station_data)"
   ]
  },
  {
   "cell_type": "markdown",
   "id": "0f0a6d57",
   "metadata": {},
   "source": [
    "As you can see, this station contains a time-series of the AOD at 550 nm. If you like, you can plot this time-series:"
   ]
  },
  {
   "cell_type": "code",
   "execution_count": null,
   "id": "7fb75a84",
   "metadata": {},
   "outputs": [],
   "source": [
    "station_data.plot_variable('od550aer', style=' xg', figsize=(16,6)).set_title('Leipzig AOD all times')"
   ]
  },
  {
   "cell_type": "markdown",
   "id": "06c559ef",
   "metadata": {},
   "source": [
    "You can also retrieve the `StationData` with specifying more constraints using `to_station_data` (e.g. in monthly resolution and only for the year 2010). And you can overlay different curves, by passing the axes instance returned by the plotting method:"
   ]
  },
  {
   "cell_type": "code",
   "execution_count": null,
   "id": "69151d65",
   "metadata": {},
   "outputs": [],
   "source": [
    "ax=aeronet_data.to_station_data('Leipzig', \n",
    "                                start=2010, \n",
    "                                freq='daily').plot_variable('od550aer', \n",
    "                                                            label='daily')\n",
    "\n",
    "ax=aeronet_data.to_station_data('Leipzig', \n",
    "                                start=2010, \n",
    "                                freq='monthly').plot_variable('od550aer', \n",
    "                                                              label='monthly',\n",
    "                                                              ax=ax)\n",
    "ax.legend()\n",
    "ax.set_title('Leipzig AODs 2010')"
   ]
  },
  {
   "cell_type": "markdown",
   "id": "a2b6111b",
   "metadata": {},
   "source": [
    "#### You can also plot the time-series directly\n",
    "\n",
    "For instance, if you want to do an air-quality check for you next bouldering trip, you may call:"
   ]
  },
  {
   "cell_type": "code",
   "execution_count": null,
   "id": "288172f5",
   "metadata": {},
   "outputs": [],
   "source": [
    "ts = aeronet_data.to_station_data('Fontainebleau', 'od550aer', 2006, None, 'monthly')\n",
    "ts"
   ]
  },
  {
   "cell_type": "code",
   "execution_count": null,
   "id": "6051657a",
   "metadata": {},
   "outputs": [],
   "source": [
    "aeronet_data.plot_station_timeseries('Fontainebleau', 'od550aer', ts_type='monthly',\n",
    "                                     start=2006).set_title('AOD in Fontainebleau, 2006')"
   ]
  },
  {
   "cell_type": "markdown",
   "id": "0151e6c5",
   "metadata": {},
   "source": [
    "Seems like November is a good time (maybe a bit rainy though)"
   ]
  },
  {
   "cell_type": "markdown",
   "id": "67fb87a3",
   "metadata": {},
   "source": [
    "#### Colocation of model and obsdata"
   ]
  },
  {
   "cell_type": "markdown",
   "id": "5b78b59c",
   "metadata": {},
   "source": [
    "Now that we have different data objects loaded we can continue with colocation. In the following, both the all-sky and the clear-sky data from CAM53-Oslo will be colocated with the subset of Aeronet stations that we just loaded. \n",
    "\n",
    "The colocation will be performed for the year of 2010 and two scatter plots will be created. \n",
    "\n",
    "You have also the option to apply a certain filter when colocating using a valid filter name. Here, we use global data and exclude mountain sides."
   ]
  },
  {
   "cell_type": "code",
   "execution_count": null,
   "id": "ef133db8",
   "metadata": {},
   "outputs": [],
   "source": [
    "print(od550csaer)"
   ]
  },
  {
   "cell_type": "markdown",
   "id": "c1ea1e6a",
   "metadata": {},
   "source": [
    "##### Access time stamps\n",
    "\n",
    "Time stamps are represented as numerical values with respect to a reference date and frequency, according to the CF conventions. They can be accessed via the `time` attribute of the data class."
   ]
  },
  {
   "cell_type": "code",
   "execution_count": null,
   "id": "97384ea8",
   "metadata": {},
   "outputs": [],
   "source": [
    "od550aer.time"
   ]
  },
  {
   "cell_type": "markdown",
   "id": "8dd04a16",
   "metadata": {},
   "source": [
    "You may also want the time-stamps in the form of actual datetime-like objects. These can be computed using the `time_stamps()` method:"
   ]
  },
  {
   "cell_type": "code",
   "execution_count": null,
   "id": "208f775e",
   "metadata": {},
   "outputs": [],
   "source": [
    "od550aer.time_stamps()[0:3]"
   ]
  },
  {
   "cell_type": "markdown",
   "id": "3a753101",
   "metadata": {},
   "source": [
    "##### Plotting maps\n",
    "\n",
    "Maps of individual time stamps can be plotted using the quickplot_map method."
   ]
  },
  {
   "cell_type": "code",
   "execution_count": null,
   "id": "249303bb",
   "metadata": {},
   "outputs": [],
   "source": [
    "fig1 = od550aer.quickplot_map('2009-3-15')\n",
    "fig2 = od550csaer.quickplot_map('2009-3-15')"
   ]
  },
  {
   "cell_type": "markdown",
   "id": "28191159",
   "metadata": {},
   "source": [
    "##### Filtering\n",
    "\n",
    "Regional filtering can be performed using the [Filter](http://aerocom.met.no/pyaerocom/api.html#module-pyaerocom.filter) class (cf. flowchart above). \n",
    "\n",
    "An overview of available default regions can be accessed via:"
   ]
  },
  {
   "cell_type": "code",
   "execution_count": null,
   "id": "a249ef8b",
   "metadata": {},
   "outputs": [],
   "source": [
    "print(pya.region.get_all_default_region_ids())"
   ]
  },
  {
   "cell_type": "markdown",
   "id": "1d4fc9bb",
   "metadata": {},
   "source": [
    "Now let's go for north Africa. Create instance of Filter class:"
   ]
  },
  {
   "cell_type": "code",
   "execution_count": null,
   "id": "6871544a",
   "metadata": {},
   "outputs": [],
   "source": [
    "f = pya.Filter('NAFRICA')\n",
    "f"
   ]
  },
  {
   "cell_type": "markdown",
   "id": "e6edb964",
   "metadata": {},
   "source": [
    "... and apply to the two data objects (this can be done by calling the filter with the corresponding data class as input parameter):"
   ]
  },
  {
   "cell_type": "code",
   "execution_count": null,
   "id": "934566d3",
   "metadata": {},
   "outputs": [],
   "source": [
    "od550aer_nafrica = f(od550aer)\n",
    "od550csaer_nafrica = f(od550csaer)"
   ]
  },
  {
   "cell_type": "markdown",
   "id": "9eafeff4",
   "metadata": {},
   "source": [
    "Compare shapes:"
   ]
  },
  {
   "cell_type": "code",
   "execution_count": null,
   "id": "9d116f24",
   "metadata": {},
   "outputs": [],
   "source": [
    "od550aer_nafrica"
   ]
  },
  {
   "cell_type": "code",
   "execution_count": null,
   "id": "4b01334b",
   "metadata": {},
   "outputs": [],
   "source": [
    "od550aer"
   ]
  },
  {
   "cell_type": "markdown",
   "id": "0c563283",
   "metadata": {},
   "source": [
    "As you can see, the filtered object is reduced in the longitude and latitude dimension. Let's plot the two new objects:"
   ]
  },
  {
   "cell_type": "code",
   "execution_count": null,
   "id": "84720569",
   "metadata": {},
   "outputs": [],
   "source": [
    "ax1 = od550aer_nafrica.quickplot_map('2009-3-15')\n",
    "ax2 = od550csaer_nafrica.quickplot_map('2009-3-15')"
   ]
  },
  {
   "cell_type": "markdown",
   "id": "93b67619",
   "metadata": {},
   "source": [
    "##### Filtering of time\n",
    "\n",
    "Filtering of time is not yet included in the Filter class but can be easily performed from the `GriddedData` object directly. If you know the indices of the time stamps you want to crop, you can simply use numpy indexing syntax (remember that we have a 3D array containing time, latitude and lonfgitude). \n",
    "\n",
    "Let's say we want to filter the **year 2009**.\n",
    "\n",
    "Since the time dimension corresponds the first index in the 3D data (time, lat, lon), and since we know, that we have monthly data from 2008-2010 (see above), we may use"
   ]
  },
  {
   "cell_type": "code",
   "execution_count": null,
   "id": "cc313bed",
   "metadata": {},
   "outputs": [],
   "source": [
    "od550aer_nafrica_2009 = od550aer_nafrica[12:24]\n",
    "od550aer_nafrica_2009.time_stamps()"
   ]
  },
  {
   "cell_type": "markdown",
   "id": "224a641e",
   "metadata": {},
   "source": [
    "in order to extract the year 2009."
   ]
  },
  {
   "cell_type": "markdown",
   "id": "9e07de44",
   "metadata": {},
   "source": [
    "However, this methodology might not always be handy (imagine you have a 10 year dataset of `3hourly` sampled data and want to extract three months in the 6th year ...). In that case, you can perform the cropping using the actual timestamps (for comparibility, let's stick to 2009 here):"
   ]
  },
  {
   "cell_type": "code",
   "execution_count": null,
   "id": "3379ef5a",
   "metadata": {},
   "outputs": [],
   "source": [
    "od550aer_nafrica_2009_alt = od550aer_nafrica.crop(time_range=('1-1-2009', '1-1-2010'))\n",
    "od550aer_nafrica_2009.time_stamps()"
   ]
  },
  {
   "cell_type": "markdown",
   "id": "2b21c5d0",
   "metadata": {},
   "source": [
    "##### Data aggregation\n",
    "\n",
    "Let's say we want to compute yearly means for each of the 3 years. In this case we can simply call the `downscale_time` method:"
   ]
  },
  {
   "cell_type": "code",
   "execution_count": null,
   "id": "4f0e222a",
   "metadata": {},
   "outputs": [],
   "source": [
    "od550aer_nafrica.downscale_time('yearly')\n",
    "od550aer_nafrica.quickplot_map('2009')"
   ]
  },
  {
   "cell_type": "markdown",
   "id": "dee06203",
   "metadata": {},
   "source": [
    "**Note**: seasonal aggregation is not yet implemented in pyaerocom but will follow soon."
   ]
  },
  {
   "cell_type": "markdown",
   "id": "816300d5",
   "metadata": {},
   "source": [
    "In the following section the reading of ungridded data is illustrated based on the example of AERONET version 3 (level 2) data. The test dataset contains a randomly picked subset of 100 Aeronet stations. Aeronet provides different products, "
   ]
  },
  {
   "cell_type": "markdown",
   "id": "0dd45b48",
   "metadata": {},
   "source": [
    "##### Overview of what is in the data\n",
    "\n",
    "Simply print the object."
   ]
  },
  {
   "cell_type": "code",
   "execution_count": null,
   "id": "94c10265",
   "metadata": {},
   "outputs": [],
   "source": [
    "print(od550aer)"
   ]
  },
  {
   "cell_type": "code",
   "execution_count": null,
   "id": "9b01f736",
   "metadata": {},
   "outputs": [],
   "source": [
    "col_all_sky_glob = pya.colocation.colocate_gridded_ungridded(od550aer, aeronet_data, \n",
    "                                                                ts_type='monthly',\n",
    "                                                                start=2010,\n",
    "                                                                filter_name='WORLD-noMOUNTAINS')\n",
    "type(col_all_sky_glob)"
   ]
  },
  {
   "cell_type": "markdown",
   "id": "eaf4aa33",
   "metadata": {},
   "source": [
    "Let's do the same for the clear-sky data."
   ]
  },
  {
   "cell_type": "code",
   "execution_count": null,
   "id": "b9f0538f",
   "metadata": {},
   "outputs": [],
   "source": [
    "pya.browse_database('CAM53*-Oslo*UNTUNED*')"
   ]
  },
  {
   "cell_type": "markdown",
   "id": "2ba1824c",
   "metadata": {},
   "source": [
    "##### Read Aerosol optical depth at 550 nm \n",
    "\n",
    "Import both clear-sky (*cs* in variable name) and all-sky data."
   ]
  },
  {
   "cell_type": "code",
   "execution_count": null,
   "id": "45855f2f",
   "metadata": {},
   "outputs": [],
   "source": [
    "import warnings\n",
    "warnings.filterwarnings('ignore')\n",
    "reader = pya.io.ReadGridded('CAM53-Oslo_7310_MG15CLM45_5feb2017IHK_53OSLO_PD_UNTUNED')\n",
    "od550aer = reader.read_var('od550aer')\n",
    "od550csaer = reader.read_var('od550csaer')"
   ]
  },
  {
   "cell_type": "markdown",
   "id": "2be0f7ce",
   "metadata": {},
   "source": [
    "Both data objects are instances of class [GriddedData](http://aerocom.met.no/pyaerocom/api.html#module-pyaerocom.griddeddata) which is based on the [Cube](https://scitools.org.uk/iris/docs/v1.9.0/html/iris/iris/cube.html#iris.cube.Cube) class ([iris library](https://scitools.org.uk/iris/docs/v1.9.0/html/index.html)) and features very similar functionality and more.\n",
    "\n",
    "Some of these features are introduced below."
   ]
  },
  {
   "cell_type": "code",
   "execution_count": null,
   "id": "15e9e981",
   "metadata": {},
   "outputs": [],
   "source": [
    "col_clear_sky_glob = pya.colocation.colocate_gridded_ungridded(od550csaer, aeronet_data, \n",
    "                                                                  ts_type='monthly',\n",
    "                                                                  start=2010,\n",
    "                                                                  filter_name='WORLD-noMOUNTAINS')\n",
    "type(col_clear_sky_glob)"
   ]
  },
  {
   "cell_type": "code",
   "execution_count": null,
   "id": "4b67bd8a",
   "metadata": {},
   "outputs": [],
   "source": [
    "ax1 = col_all_sky_glob.plot_scatter()\n",
    "ax1.set_title('All sky (2010, monthly)')"
   ]
  },
  {
   "cell_type": "code",
   "execution_count": null,
   "id": "714da9f8",
   "metadata": {},
   "outputs": [],
   "source": [
    "ax2 = col_clear_sky_glob.plot_scatter()\n",
    "ax2.set_title('Clear sky (2010, monthly)')"
   ]
  },
  {
   "cell_type": "markdown",
   "id": "f83c5bc5",
   "metadata": {},
   "source": [
    "... or for EUROPE:"
   ]
  }
 ],
 "metadata": {},
 "nbformat": 4,
 "nbformat_minor": 5
}
