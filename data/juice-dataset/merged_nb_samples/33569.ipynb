{
 "cells": [
  {
   "cell_type": "markdown",
   "id": "acf7485b",
   "metadata": {},
   "source": [
    "# An ML primer\n",
    "\n",
    "Department of Medical Genetics, Oslo university Hospital, Norway\n",
    "\n",
    "This presentation was held at the Research Seminar in Strömstad, November 18th, 2015. \n",
    "\n",
    "Hugues Fontenelle, 2015\n",
    "\n",
    "Note that this iPython Notebook is intended to complement the presentation held at the seminar."
   ]
  },
  {
   "cell_type": "markdown",
   "id": "ef3b91ef",
   "metadata": {},
   "source": [
    "## 1) biological problem\n",
    "\n",
    "Predict whether a candidate DNA sequence is a \"donor\" splice site."
   ]
  },
  {
   "cell_type": "markdown",
   "id": "491ccd1e",
   "metadata": {},
   "source": [
    "## 2) get data\n",
    "\n",
    "### ref files\n",
    "\n",
    "First we'll need refence files such as the reference genes and the assembly.\n",
    "Get these files in the same folder as this ipython notebook (the fasta file is ~830 Mb compressed or 3.1Gb uncompressed).\n",
    "\n",
    "```\n",
    "wget http://hgdownload.cse.ucsc.edu/goldenPath/hg19/database/refGene.txt.gz\n",
    "wget ftp://gsapubftp-anonymous@ftp.broadinstitute.org/bundle/2.8/b37/human_g1k_v37.fasta.gz\n",
    "wget ftp://gsapubftp-anonymous@ftp.broadinstitute.org/bundle/2.8/b37/human_g1k_v37.fasta.fai.gz\n",
    "gunzip *\n",
    "```\n",
    "\n",
    "### True Positive set\n",
    "\n",
    "The following python code will create the True Positive set and store in a text file named `splice_u1.txt`."
   ]
  },
  {
   "cell_type": "code",
   "execution_count": null,
   "id": "ccdb977a",
   "metadata": {},
   "outputs": [],
   "source": [
    "REFGENE = 'refGene.txt'\n",
    "REFSEQ = 'human_g1k_v37.fasta'\n",
    "\n",
    "import csv\n",
    "from pyfaidx import Fasta\n",
    "import random\n",
    "random.seed()\n",
    "\n",
    "def splice_u1_generator():\n",
    "    refseq = Fasta(REFSEQ)\n",
    "    with open(REFGENE, 'rb') as refgene:\n",
    "        reader = csv.reader(refgene, delimiter='\\t')\n",
    "        for row in reader:\n",
    "            try:\n",
    "                chrom = row[2].replace('chr', '')\n",
    "                strand = row[3]\n",
    "                exon_starts = [int(x) for x in row[9].split(',') if x]\n",
    "                exon_ends = [int(x) for x in row[10].split(',') if x]\n",
    "                for exon in zip(exon_starts, exon_ends):\n",
    "                    if strand == '+':\n",
    "                        pos = exon[1]\n",
    "                        splice_u1 = refseq[chrom][pos-3:pos+6]\n",
    "                    elif strand == '-':\n",
    "                        pos = exon[0]\n",
    "                        splice_u1 = refseq[chrom][pos-7:pos+2].reverse.complement\n",
    "                    if str(splice_u1)[3:5] == 'GT':\n",
    "                        yield str(splice_u1)\n",
    "            except StopIteration:\n",
    "                raise\n",
    "            except Exception as err:\n",
    "                print 'Skipping one gene because {}'.format(err)\n",
    "                continue"
   ]
  },
  {
   "cell_type": "code",
   "execution_count": null,
   "id": "8662f0bb",
   "metadata": {},
   "outputs": [],
   "source": [
    "splice_gen = splice_u1_generator()"
   ]
  },
  {
   "cell_type": "markdown",
   "id": "4cf474ff",
   "metadata": {},
   "source": [
    "The first ten splice sites look like this:"
   ]
  },
  {
   "cell_type": "code",
   "execution_count": null,
   "id": "b4d74780",
   "metadata": {},
   "outputs": [],
   "source": [
    "for i in range(10):\n",
    "    print '{}) {}'.format(i, splice_gen.next())"
   ]
  },
  {
   "cell_type": "markdown",
   "id": "d9318531",
   "metadata": {},
   "source": [
    "Let's create the file:"
   ]
  },
  {
   "cell_type": "code",
   "execution_count": null,
   "id": "230e0f0b",
   "metadata": {},
   "outputs": [],
   "source": [
    "with open('splice_u1.txt', 'w') as f:\n",
    "        for i in range(1000):\n",
    "            f.write(splice_gen.next() + '\\n')"
   ]
  },
  {
   "cell_type": "markdown",
   "id": "1288a1f7",
   "metadata": {},
   "source": [
    "### True Negative set"
   ]
  },
  {
   "cell_type": "code",
   "execution_count": null,
   "id": "5919c95f",
   "metadata": {},
   "outputs": [],
   "source": [
    "def random_u1():\n",
    "    rnd = ''.join(random.choice('ATCG') for _ in range(7))\n",
    "    u1 = rnd[:3] + 'GT' + rnd[3:]\n",
    "    return u1\n",
    "\n",
    "with open('random_u1.txt', 'w') as f:\n",
    "        for i in range(1000):\n",
    "            f.write(random_u1() + '\\n')"
   ]
  },
  {
   "cell_type": "markdown",
   "id": "b414601e",
   "metadata": {},
   "source": [
    "## 3) Markov model\n",
    "\n",
    "### Re-load the data"
   ]
  },
  {
   "cell_type": "code",
   "execution_count": null,
   "id": "102bcfaf",
   "metadata": {},
   "outputs": [],
   "source": [
    "import numpy as np\n",
    "\n",
    "U1 = []\n",
    "with open('splice_u1.txt', 'rb') as f:\n",
    "    for line in f:\n",
    "        U1.append(line.strip())\n",
    "\n",
    "U_rnd = []\n",
    "with open('random_u1.txt', 'rb') as f:\n",
    "    for line in f:\n",
    "        U_rnd.append(line.strip())"
   ]
  },
  {
   "cell_type": "markdown",
   "id": "82a7d0a0",
   "metadata": {},
   "source": [
    "### Compute incidence probabilities and transition probabilities (markov model)"
   ]
  },
  {
   "cell_type": "code",
   "execution_count": null,
   "id": "c9c37915",
   "metadata": {},
   "outputs": [],
   "source": [
    " def compute_markovmodel(U1):\n",
    "    tr = []\n",
    "    for it in range(8):\n",
    "        tr0 = {'A' : [0, {'A':0, 'T':0, 'C':0, 'G':0}], \n",
    "               'T' : [0, {'A':0, 'T':0, 'C':0, 'G':0}], \n",
    "               'C' : [0, {'A':0, 'T':0, 'C':0, 'G':0}],\n",
    "               'G' : [0, {'A':0, 'T':0, 'C':0, 'G':0}]}\n",
    "        for x in U1:\n",
    "            tr0[x[it]][0] += 1\n",
    "            tr0[x[it]][1][x[it+1]] += 1\n",
    "        tr.append(tr0)\n",
    "    it = 8\n",
    "    tr0 = {'A' : [0], 'T' : [0], 'C' : [0], 'G' : [0]}\n",
    "    for x in U1:\n",
    "        tr0[x[it]][0] += 1\n",
    "    tr.append(tr0)\n",
    "    return tr\n",
    "\n",
    "tr = compute_markovmodel(U1)"
   ]
  },
  {
   "cell_type": "markdown",
   "id": "b97e732a",
   "metadata": {},
   "source": [
    "### Data exploration\n",
    "\n",
    "This is not a necessary step, but we get a better feel of the data and the markov model that we just computed.\n",
    "\n",
    "What is the pobability of a particular \"letter\" in first position?\n"
   ]
  },
  {
   "cell_type": "code",
   "execution_count": null,
   "id": "ea7577de",
   "metadata": {},
   "outputs": [],
   "source": [
    "position = 0 # just play around, change to another position and re-run the next cells"
   ]
  },
  {
   "cell_type": "code",
   "execution_count": null,
   "id": "ce42a573",
   "metadata": {},
   "outputs": [],
   "source": [
    "import matplotlib.pyplot as plt\n",
    "%matplotlib inline\n",
    "\n",
    "tr0 = tr[position]\n",
    "\n",
    "# The slices will be ordered and plotted counter-clockwise.\n",
    "alphabet = ['A', 'C', 'T', 'G']\n",
    "colors = ['yellowgreen', 'gold', 'lightskyblue', 'lightcoral']\n",
    "\n",
    "\n",
    "plt.pie([tr0[letter][0] for letter in alphabet], labels=alphabet, colors=colors,\n",
    "        autopct='%1.1f%%', startangle=90)\n",
    "# Set aspect ratio to be equal so that pie is drawn as a circle.\n",
    "plt.axis('equal')"
   ]
  },
  {
   "cell_type": "markdown",
   "id": "aaa58868",
   "metadata": {},
   "source": [
    "What is the probability of the transition from first to second position?"
   ]
  },
  {
   "cell_type": "code",
   "execution_count": null,
   "id": "5c6c3517",
   "metadata": {},
   "outputs": [],
   "source": [
    "tr0 = tr[position]\n",
    "\n",
    "fig = plt.figure()\n",
    "ax = fig.gca()\n",
    "\n",
    "ax.pie([tr0['A'][1][letter] for letter in alphabet], labels=alphabet, colors=colors, autopct='%1.1f%%', startangle=90,\n",
    "       radius=0.4, center=(0, 0), frame=True)\n",
    "ax.pie([tr0['C'][1][letter] for letter in alphabet], labels=alphabet, colors=colors, autopct='%1.1f%%', startangle=90,\n",
    "       radius=0.4, center=(1, 0), frame=True)\n",
    "ax.pie([tr0['T'][1][letter] for letter in alphabet], labels=alphabet, colors=colors, autopct='%1.1f%%', startangle=90,\n",
    "       radius=0.4, center=(2, 0), frame=True)\n",
    "ax.pie([tr0['G'][1][letter] for letter in alphabet], labels=alphabet, colors=colors, autopct='%1.1f%%', startangle=90,\n",
    "       radius=0.4, center=(3, 0), frame=True)\n",
    "\n",
    "ax.set_xticks([0, 1, 2, 3])\n",
    "ax.set_yticks([0])\n",
    "ax.set_xticklabels(alphabet)\n",
    "ax.set_yticklabels([\"\"])\n",
    "ax.set_xlim((-0.5, 3.5))\n",
    "ax.set_ylim((-0.5, 0.5))\n",
    "plt.xlabel(\"From\")\n",
    "plt.ylabel(\"To\")\n",
    "\n",
    "# Set aspect ratio to be equal so that pie is drawn as a circle.\n",
    "ax.set_aspect('equal')\n",
    "\n",
    "plt.rcParams.update({'font.size': 22, 'figure.figsize': (30.0, 8.0)})\n",
    "plt.show()"
   ]
  },
  {
   "cell_type": "markdown",
   "id": "7fca8db6",
   "metadata": {},
   "source": [
    "### Compute the feature vectors for all data"
   ]
  },
  {
   "cell_type": "code",
   "execution_count": null,
   "id": "dfb20f92",
   "metadata": {},
   "outputs": [],
   "source": [
    "def compute_vector(tr, x0):\n",
    "    v = []\n",
    "    for it in range(8):\n",
    "        tr0 = tr[it]\n",
    "        a = tr0[x0[it]][0]\n",
    "        v.append(float(a) / len(U1))\n",
    "        b = tr0[x0[it]][1][x0[it+1]]\n",
    "        v.append(float(b) / a)\n",
    "    it =  8\n",
    "    tr0 = tr[it]\n",
    "    a = tr0[x0[it]][0]\n",
    "    v.append(float(a) / len(U1))\n",
    "    return v\n",
    "    \n",
    "X=[]\n",
    "for u1 in U1:\n",
    "    v = compute_vector(tr, u1)\n",
    "    X.append(v)\n",
    "for u1 in U_rnd:\n",
    "    v = compute_vector(tr, u1)\n",
    "    X.append(v)\n",
    "X = np.array(X)\n",
    "y = np.concatenate((np.ones(len(U1)), np.zeros(len(U_rnd))))"
   ]
  },
  {
   "cell_type": "markdown",
   "id": "376e5c62",
   "metadata": {},
   "source": [
    "## 4) machine learning"
   ]
  },
  {
   "cell_type": "markdown",
   "id": "34288665",
   "metadata": {},
   "source": [
    "### train ML on data\n",
    "\n",
    "We split first into train and test (80/20 %)"
   ]
  },
  {
   "cell_type": "code",
   "execution_count": null,
   "id": "cfd75436",
   "metadata": {},
   "outputs": [],
   "source": [
    "from sklearn import svm, preprocessing\n",
    "import numpy as np\n",
    "from sklearn import metrics\n",
    "from sklearn.linear_model import LogisticRegression\n",
    "from sklearn.metrics import r2_score\n",
    "\n",
    "# normalize the data attributes\n",
    "normalized_X = preprocessing.normalize(X)\n",
    "# standardize the data attributes\n",
    "standardized_X = preprocessing.scale(X)\n",
    "\n",
    "# don't overfit!!\n",
    "from sklearn.cross_validation import train_test_split\n",
    "X_train, X_test, y_train, y_test = train_test_split(standardized_X, y, test_size=0.2)\n",
    "\n",
    "## LogisticRegression\n",
    "\n",
    "model = LogisticRegression()\n",
    "model.fit(X_train, y_train)\n",
    "\n",
    "print(model)"
   ]
  },
  {
   "cell_type": "markdown",
   "id": "e42a6ccb",
   "metadata": {},
   "source": [
    "## 5) make predictions\n",
    "\n",
    "And print report and confusion matrix."
   ]
  }
 ],
 "metadata": {},
 "nbformat": 4,
 "nbformat_minor": 5
}
