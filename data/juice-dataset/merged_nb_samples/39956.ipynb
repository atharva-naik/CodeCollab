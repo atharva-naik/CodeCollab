{
 "cells": [
  {
   "cell_type": "markdown",
   "id": "0dc9599c",
   "metadata": {},
   "source": [
    "# LHC publications with HEPData records"
   ]
  },
  {
   "cell_type": "markdown",
   "id": "a4efcccc",
   "metadata": {},
   "source": [
    "This notebook counts all Inspire records that have an associated HEPData record using the Inspire API.\n",
    "\n",
    "Count publications per LHC experiment per year and see which fraction has a HEPData record.\n",
    "\n",
    "Written by Graeme Watt (Project Manager for HEPData) on 11th October 2017."
   ]
  },
  {
   "cell_type": "markdown",
   "id": "af705db6",
   "metadata": {},
   "source": [
    "## Get results"
   ]
  },
  {
   "cell_type": "markdown",
   "id": "c46fc7c4",
   "metadata": {},
   "source": [
    "Define a function to compose an Inspire query."
   ]
  },
  {
   "cell_type": "code",
   "execution_count": null,
   "id": "a5f6cf37",
   "metadata": {},
   "outputs": [],
   "source": [
    "def compose_query(collaboration='', year=0, has_hepdata=False):\n",
    "    \"\"\"\n",
    "    Compose an Inspire query for published papers, with optional arguments\n",
    "    to restrict by collaboration, year, and presence of a HEPData record.\n",
    "    \"\"\"\n",
    "\n",
    "    # Restrict search to papers published (in a refereed journal) that are not conference\n",
    "    # papers and that appear in the hep-ex or nucl-ex primary arXiv categories.\n",
    "    query = 'tc p and not tc c and (primarch hep-ex or primarch nucl-ex)'\n",
    "    \n",
    "    # Restrict search to a particular experimental collaboration.\n",
    "    # Empty collaboration searches for papers from all four main LHC collaborations.\n",
    "    if collaboration:\n",
    "        query += ' and collaboration:{}'.format(collaboration)\n",
    "    else:\n",
    "        query += ' and (collaboration:ALICE or collaboration:ATLAS or ' + \\\n",
    "        'collaboration:CMS or collaboration:LHCb)'\n",
    "        \n",
    "    # Restrict search to a particular year.\n",
    "    if year:\n",
    "        query += ' and date {}'.format(year)\n",
    "    \n",
    "    # Restrict search to publications that have a corresponding HEPData record.\n",
    "    if has_hepdata:\n",
    "        query += ' and 035__:HEPDATA'\n",
    "    \n",
    "    return query"
   ]
  },
  {
   "cell_type": "markdown",
   "id": "1a6d1c47",
   "metadata": {},
   "source": [
    "Define a function to get the number of Inspire records for a given query."
   ]
  },
  {
   "cell_type": "code",
   "execution_count": null,
   "id": "05ce7b5d",
   "metadata": {},
   "outputs": [],
   "source": [
    "import requests\n",
    "import re\n",
    "\n",
    "def get_num_results(query):\n",
    "    \"\"\"\n",
    "    Make a search using the Inspire API (https://inspirehep.net/info/hep/api)\n",
    "    with output format MARCXML and returning only the ID number of the first record,\n",
    "    to save unnecessary output.  Returns the number of records in the search result.\n",
    "    \"\"\"\n",
    "    \n",
    "    url = 'https://inspirehep.net/search?p=' + query + '&of=xm&rg=1&ot=001'\n",
    "    \n",
    "    response = requests.get(url)\n",
    "    \n",
    "    m = re.search('Search-Engine-Total-Number-Of-Results: (\\d+)', response.text)\n",
    "    num_results = int(m.group(1)) if m else 0\n",
    "    \n",
    "    return num_results"
   ]
  },
  {
   "cell_type": "markdown",
   "id": "8b74e926",
   "metadata": {},
   "source": [
    "Produce results for all years, then 2010 up to 2018, and the four main LHC collaborations."
   ]
  },
  {
   "cell_type": "code",
   "execution_count": null,
   "id": "ec6ab516",
   "metadata": {},
   "outputs": [],
   "source": [
    "years = [0]\n",
    "[years.append(year) for year in range(2010, 2019)]\n",
    "collaborations = ['', 'ALICE', 'ATLAS', 'CMS', 'LHCb']"
   ]
  },
  {
   "cell_type": "markdown",
   "id": "bebc132f",
   "metadata": {},
   "source": [
    "Loop over all years and collaborations and get number of results from Inspire."
   ]
  },
  {
   "cell_type": "code",
   "execution_count": null,
   "id": "99cbafcb",
   "metadata": {},
   "outputs": [],
   "source": [
    "num_results = {}\n",
    "num_results_with_hepdata = {}\n",
    "fraction_of_results_with_hepdata = {}\n",
    "\n",
    "for year in years:\n",
    "\n",
    "    num_results[year] = {} \n",
    "    num_results_with_hepdata[year] = {}\n",
    "    fraction_of_results_with_hepdata[year] = {}\n",
    "    \n",
    "    for collaboration in collaborations:\n",
    "        \n",
    "        query = compose_query(collaboration, year)\n",
    "        num_results[year][collaboration] = get_num_results(query)\n",
    "        \n",
    "        query_with_hepdata = compose_query(collaboration, year, True)\n",
    "        num_results_with_hepdata[year][collaboration] = get_num_results(query_with_hepdata)\n",
    "        \n",
    "        if num_results[year][collaboration] > 0:\n",
    "            fraction_of_results_with_hepdata[year][collaboration] = \\\n",
    "            float(num_results_with_hepdata[year][collaboration]) / \\\n",
    "            float(num_results[year][collaboration])\n",
    "        else:\n",
    "            fraction_of_results_with_hepdata[year][collaboration] = 0\n",
    "        \n",
    "        print('Year {}, {} collaboration, {} papers, {} with HEPData, fraction {:.2f}.'.format(\n",
    "            year if year else 'all',collaboration if collaboration else 'ALICE+ATLAS+CMS+LHCb',\n",
    "            num_results[year][collaboration],\n",
    "            num_results_with_hepdata[year][collaboration],\n",
    "            fraction_of_results_with_hepdata[year][collaboration]))\n",
    "\n",
    "    print('')"
   ]
  },
  {
   "cell_type": "markdown",
   "id": "77e20fea",
   "metadata": {},
   "source": [
    "## Make some plots"
   ]
  },
  {
   "cell_type": "code",
   "execution_count": null,
   "id": "d89a50c3",
   "metadata": {},
   "outputs": [],
   "source": [
    "from datetime import date\n",
    "import matplotlib.pyplot as plt\n",
    "import seaborn as sns\n",
    "sns.set()\n",
    "%matplotlib inline"
   ]
  },
  {
   "cell_type": "markdown",
   "id": "278709fe",
   "metadata": {},
   "source": [
    "Take all years together.  Make a bar chart of number of papers for {ALICE, ATLAS, CMS, LHCb} and the subset with a HEPData record."
   ]
  },
  {
   "cell_type": "code",
   "execution_count": null,
   "id": "d8e93172",
   "metadata": {},
   "outputs": [],
   "source": [
    "labels = [collaboration for collaboration in collaborations if collaboration]\n",
    "values = [num_results[0][collaboration] for collaboration in collaborations if collaboration]\n",
    "values_with_hepdata = [num_results_with_hepdata[0][collaboration] \n",
    "                       for collaboration in collaborations if collaboration]\n",
    "\n",
    "plt.figure()\n",
    "x = 2*labels\n",
    "y = values + values_with_hepdata\n",
    "hue = len(labels)*['All papers'] + len(labels)*['With HEPData']\n",
    "sns.barplot(x, y, hue)\n",
    "plt.title('LHC publications with HEPData records ({})'.format(date.today()))\n",
    "plt.xlabel('Collaboration')\n",
    "plt.ylabel('Number of papers')\n",
    "plt.savefig('allyears_{}.png'.format(date.today()))\n",
    "plt.show()"
   ]
  },
  {
   "cell_type": "markdown",
   "id": "569737cf",
   "metadata": {},
   "source": [
    "Plot the fraction of papers with a HEPData record for {ALICE, ATLAS, CMS, LHCb}."
   ]
  },
  {
   "cell_type": "code",
   "execution_count": null,
   "id": "2b76fc8f",
   "metadata": {},
   "outputs": [],
   "source": [
    "fraction_with_hepdata = [fraction_of_results_with_hepdata[0][collaboration]\n",
    "                         for collaboration in collaborations if collaboration]\n",
    "plt.figure()\n",
    "x = labels\n",
    "y = fraction_with_hepdata\n",
    "sns.barplot(x, y)\n",
    "plt.title('LHC publications with HEPData records ({})'.format(date.today()))\n",
    "plt.xlabel('Collaboration')\n",
    "plt.ylabel('Fraction of papers with HEPData')\n",
    "plt.savefig('allyears_fraction_{}.png'.format(date.today()))\n",
    "plt.show()"
   ]
  },
  {
   "cell_type": "markdown",
   "id": "4156bf91",
   "metadata": {},
   "source": [
    "For each of the four experiments {ALICE, ATLAS, CMS, LHCb}, make a bar chart of number of papers versus year."
   ]
  },
  {
   "cell_type": "code",
   "execution_count": null,
   "id": "a4ce9977",
   "metadata": {},
   "outputs": [],
   "source": [
    "plt.figure(figsize=(15,15))\n",
    "for sub in range(1, 5):\n",
    "    plt.subplot(2, 2, sub)\n",
    "    collaboration = collaborations[sub]\n",
    "    labels = [year for year in years if year]\n",
    "    values = [num_results[year][collaboration] for year in years if year]\n",
    "    values_with_hepdata = [num_results_with_hepdata[year][collaboration] \n",
    "                           for year in years if year]\n",
    "    x = 2*labels\n",
    "    y = values + values_with_hepdata\n",
    "    hue = len(labels)*['All papers'] + len(labels)*['With HEPData']\n",
    "    sns.barplot(x, y, hue)\n",
    "    plt.title(collaboration)\n",
    "    plt.xlabel('Year')\n",
    "    plt.ylabel('Number of papers')\n",
    "plt.suptitle('LHC publications with HEPData records ({})'.format(date.today()), \n",
    "             fontsize='xx-large')\n",
    "plt.savefig('breakdown_{}.png'.format(date.today()))\n",
    "plt.show()"
   ]
  },
  {
   "cell_type": "markdown",
   "id": "d7243228",
   "metadata": {},
   "source": [
    "For each of the four experiments {ALICE, ATLAS, CMS, LHCb}, make a bar chart of the fraction of papers with a HEPData record versus year."
   ]
  },
  {
   "cell_type": "code",
   "execution_count": null,
   "id": "a9bf9341",
   "metadata": {},
   "outputs": [],
   "source": [
    "plt.figure(figsize=(15,15))\n",
    "for sub in range(1, 5):\n",
    "    plt.subplot(2, 2, sub)\n",
    "    collaboration = collaborations[sub]\n",
    "    labels = [year for year in years if year]\n",
    "    values = [num_results[year][collaboration] for year in years if year]\n",
    "    fraction_with_hepdata = [fraction_of_results_with_hepdata[year][collaboration]\n",
    "                             for year in years if year]\n",
    "    x = labels\n",
    "    y = fraction_with_hepdata\n",
    "    sns.barplot(x, y)\n",
    "    plt.title(collaboration)\n",
    "    plt.xlabel('Year')\n",
    "    plt.ylabel('Fraction of papers with HEPData')\n",
    "plt.suptitle('LHC publications with HEPData records ({})'.format(date.today()), \n",
    "             fontsize='xx-large')\n",
    "plt.savefig('breakdown_fraction_{}.png'.format(date.today()))\n",
    "plt.show()"
   ]
  },
  {
   "cell_type": "markdown",
   "id": "1d6951d1",
   "metadata": {},
   "source": [
    "# Get results for your favourite experiment"
   ]
  }
 ],
 "metadata": {},
 "nbformat": 4,
 "nbformat_minor": 5
}
