{
 "cells": [
  {
   "cell_type": "markdown",
   "id": "3ac70513",
   "metadata": {},
   "source": [
    "# Matplotlib Note #"
   ]
  },
  {
   "cell_type": "code",
   "execution_count": null,
   "id": "f26cb217",
   "metadata": {},
   "outputs": [],
   "source": [
    "import matplotlib.pyplot as plt\n",
    "import numpy as np"
   ]
  },
  {
   "cell_type": "markdown",
   "id": "597c7b5d",
   "metadata": {},
   "source": [
    "## 1. Basic operation. ##"
   ]
  },
  {
   "cell_type": "code",
   "execution_count": null,
   "id": "46eb1056",
   "metadata": {},
   "outputs": [],
   "source": [
    "x = np.linspace(-1, 1, 50)\n",
    "y = 2 * x + 1\n",
    "plt.plot(x, y)      # Set the axis.\n",
    "plt.show()          # Show the figure."
   ]
  },
  {
   "cell_type": "markdown",
   "id": "15e10211",
   "metadata": {},
   "source": [
    "## 2. Multi-figure show. ##"
   ]
  },
  {
   "cell_type": "code",
   "execution_count": null,
   "id": "2224a427",
   "metadata": {},
   "outputs": [],
   "source": [
    "x = np.linspace(-1, 1, 50)\n",
    "y1 = 2 * x + 1\n",
    "y2 = x ** 2\n",
    "plt.figure(figsize=(4, 8))        # The follow code to configure this figure.\n",
    "plt.plot(x, y1)\n",
    "plt.figure(figsize=(4, 4))        # To show two figure.\n",
    "plt.plot(x, y2)\n",
    "plt.show()"
   ]
  },
  {
   "cell_type": "markdown",
   "id": "c30a4fe8",
   "metadata": {},
   "source": [
    "## 3. Configure the axis. ##"
   ]
  },
  {
   "cell_type": "code",
   "execution_count": null,
   "id": "c55321d2",
   "metadata": {},
   "outputs": [],
   "source": [
    "x = np.linspace(-1, 1, 50)\n",
    "y = 2 * x + 1\n",
    "plt.plot(x, y)\n",
    "plt.xlim((-1, 1))       # Set the limit of axis.\n",
    "plt.ylim((-1, 3))\n",
    "plt.xlabel(\"I'm the X axis.\")  # Set the label of axis.\n",
    "plt.ylabel(\"I'm the Y axis.\")\n",
    "new_ticks = np.linspace(-1, 2, 5)\n",
    "plt.xticks(new_ticks)          # Set the value of axis.\n",
    "plt.yticks([-1, 0, 1, 2, 3],\n",
    "           ['Very bad', 'Bad', 'Normal', 'Good', 'Very good'])\n",
    "plt.show()"
   ]
  },
  {
   "cell_type": "markdown",
   "id": "ad69b568",
   "metadata": {},
   "source": [
    "## 4. Set the axis's position. ##"
   ]
  },
  {
   "cell_type": "code",
   "execution_count": null,
   "id": "f72d329a",
   "metadata": {},
   "outputs": [],
   "source": [
    "# gca = get current axis\n",
    "x = np.linspace(-1, 1, 50)\n",
    "y = 2 * x + 1\n",
    "plt.plot(x, y)\n",
    "ax = plt.gca()                          # Set the ax be axes of the figure.\n",
    "ax.spines['right'].set_color('none')    # Set the right axis's color is none.\n",
    "ax.spines['top'].set_color('none')      # Set the right axis's color is none.\n",
    "ax.xaxis.set_ticks_position('bottom')   # Set the bottom tick be the x axis.\n",
    "ax.yaxis.set_ticks_position('left')     # Set the left tick be the y axis.\n",
    "ax.spines['bottom'].set_position(('data', 0)) # Set the position of the ticks.\n",
    "ax.spines['left'].set_position(('data', 0))\n",
    "plt.show()"
   ]
  },
  {
   "cell_type": "markdown",
   "id": "210cd8e1",
   "metadata": {},
   "source": [
    "## 5. The labels. ##"
   ]
  },
  {
   "cell_type": "code",
   "execution_count": null,
   "id": "4ab2e225",
   "metadata": {},
   "outputs": [],
   "source": [
    "x = np.linspace(-1, 1, 50)\n",
    "y1 = 2 * x + 1\n",
    "y2 = x ** 2\n",
    "l1 = plt.plot(x, y1, label='2 * x + 1')\n",
    "l2 = plt.plot(x, y2, label='x ** 2')\n",
    "plt.legend(handles=[l1,l2], labels=[], loc='best')        # To show the labels.\n",
    "# The location of labels can be \"best\",\"upper left\" or others.\n",
    "# Warning:Can't ignore \"labers=[]\" in plt.legend when handles be used.\n",
    "plt.show()"
   ]
  },
  {
   "cell_type": "markdown",
   "id": "6f09bbeb",
   "metadata": {},
   "source": [
    "## 6. Annotation ##"
   ]
  },
  {
   "cell_type": "code",
   "execution_count": null,
   "id": "daf09997",
   "metadata": {},
   "outputs": [],
   "source": [
    "x = np.linspace(-3, 3, 50)\n",
    "y1 = 2 * x + 1\n",
    "y2 = x ** 2\n",
    "\n",
    "l1 = plt.plot(x, y1, label='2 * x + 1')\n",
    "ax = plt.gca()                          # Set the ax be axes of the figure.\n",
    "ax.spines['right'].set_color('none')    # Set the right axis's color is none.\n",
    "ax.spines['top'].set_color('none')      # Set the right axis's color is none.\n",
    "ax.xaxis.set_ticks_position('bottom')   # Set the bottom tick be the x axis.\n",
    "ax.yaxis.set_ticks_position('left')     # Set the left tick be the y axis.\n",
    "ax.spines['bottom'].set_position(('data', 0)) # Set the position of the ticks.\n",
    "ax.spines['left'].set_position(('data', 0))\n",
    "\n",
    "# Draw a point and a line form (x0, y0) to (x0, 0).\n",
    "x0 = 1\n",
    "y0 = 2 * x0 + 1\n",
    "plt.scatter(x0, y0, s=50, color='blue')\n",
    "plt.plot([x0, x0], [y0, 0], 'k--', lw=2.5)\n",
    "\n",
    "# Method One\n",
    "plt.annotate(r\"$2x+1=%s$\" % y0, xy=(x0, y0),xycoords=\"data\", xytext=(+30, -30), textcoords=\"offset points\",\n",
    "             fontsize=16, arrowprops=dict(arrowstyle=\"->\", connectionstyle='arc3,rad=0.2'))\n",
    "\n",
    "# Method Two\n",
    "plt.text(-3, 2, r'$This\\ is\\ \\mu\\ \\sigma_i\\ \\alpha_i!$', fontdict={'size':16, 'color':'r'})\n",
    "\n",
    "plt.show()"
   ]
  },
  {
   "cell_type": "markdown",
   "id": "ac61623a",
   "metadata": {},
   "source": [
    "## 7. Visibility of ticks"
   ]
  },
  {
   "cell_type": "code",
   "execution_count": null,
   "id": "aad408c5",
   "metadata": {},
   "outputs": [],
   "source": [
    "x = np.linspace(-3, 3, 50)\n",
    "y1 = 2 * x + 1\n",
    "y2 = x ** 2\n",
    "\n",
    "l1 = plt.plot(x, y1, label='2 * x + 1')\n",
    "l2 = plt.plot(x, y2, label='x ** 2')\n",
    "\n",
    "ax = plt.gca()                          # Set the ax be axes of the figure.\n",
    "ax.spines['right'].set_color('none')    # Set the right axis's color is none.\n",
    "ax.spines['top'].set_color('none')      # Set the right axis's color is none.\n",
    "ax.xaxis.set_ticks_position('bottom')   # Set the bottom tick be the x axis.\n",
    "ax.yaxis.set_ticks_position('left')     # Set the left tick be the y axis.\n",
    "ax.spines['bottom'].set_position(('data', 0)) # Set the position of the ticks.\n",
    "ax.spines['left'].set_position(('data', 0))\n",
    "\n",
    "# Make the ticks visible.\n",
    "for label in ax.get_xticklabels() + ax.get_yticklabels():\n",
    "    label.set_fontsize(12)\n",
    "    label.set_bbox(dict(facecolor=\"blue\", edgecolor=\"red\", alpha=0.3))\n",
    "\n",
    "plt.show()"
   ]
  },
  {
   "cell_type": "markdown",
   "id": "84eddcaa",
   "metadata": {},
   "source": [
    "## 8. Scatter"
   ]
  },
  {
   "cell_type": "code",
   "execution_count": null,
   "id": "f6959e60",
   "metadata": {},
   "outputs": [],
   "source": [
    "# np.random.normal(average, standard deviation, number)\n",
    "\n",
    "n = 1024\n",
    "X = np.random.normal(0, 1, n)\n",
    "Y = np.random.normal(0, 1, n)\n",
    "T = np.arctan2(Y, X)    # Use this function to produce value's color.\n",
    "plt.scatter(X, Y, s=75, c=T, alpha = 0.3)\n",
    "plt.xlim((-1.5, 1.5))\n",
    "plt.ylim((-1.5, 1.5))\n",
    "plt.show()"
   ]
  },
  {
   "cell_type": "markdown",
   "id": "811fe514",
   "metadata": {},
   "source": [
    "## 9. Bar"
   ]
  },
  {
   "cell_type": "code",
   "execution_count": null,
   "id": "452c9335",
   "metadata": {},
   "outputs": [],
   "source": [
    "n = 12\n",
    "X = np.arange(n)\n",
    "Y1 = (1 - X / float(n)) * np.random.uniform(0.5, 1.0, n)\n",
    "Y2 = (1 - X / float(n)) * np.random.uniform(0.5, 1.0, n)\n",
    "\n",
    "# Set up the bar, the symbol before Y set the direction of the bar.\n",
    "plt.bar(X, +Y1, facecolor=\"#9999ff\", edgecolor=\"white\")\n",
    "plt.bar(X, -Y2, facecolor=\"#ff9999\", edgecolor=\"white\")\n",
    "\n",
    "# Set up the distribution with respect to the data.\n",
    "for x, y in zip(X, Y1):\n",
    "    plt.text(x + 0.1, y + 0.05, \"%.2f\" % y, ha=\"center\", va=\"bottom\")\n",
    "for x, y in zip(X, Y2):\n",
    "    plt.text(x - 0.1,  - y - 0.05, \"-%.2f\" % y, ha=\"center\", va=\"top\")\n",
    "# ha:horizontal alignment\n",
    "# va:vertical alignment\n",
    "    \n",
    "plt.xlim(-1, n)\n",
    "plt.xticks(())    # Make the tick of x axis be invisible.\n",
    "plt.ylim(-1.25, 1.25)\n",
    "plt.yticks(())    # Make the tick of y axis be invisible.\n",
    "plt.show()"
   ]
  },
  {
   "cell_type": "markdown",
   "id": "18f76272",
   "metadata": {},
   "source": [
    "## 10. Contour"
   ]
  },
  {
   "cell_type": "code",
   "execution_count": null,
   "id": "ba172c23",
   "metadata": {},
   "outputs": [],
   "source": [
    "def f(x, y):\n",
    "    # The height function.\n",
    "    return (1 - x/2 + x**5 + y**3) * np.exp(-x**2 - y**2)\n",
    "\n",
    "n = 256\n",
    "x = np.linspace(-3, 3, n)\n",
    "y = np.linspace(-3, 3, n)\n",
    "\n",
    "# Set up the meshgrid with respect to x, y.\n",
    "X, Y = np.meshgrid(x, y)\n",
    "\n",
    "# Use plt.contourf to filling contours.\n",
    "# X, Y and value for (X, Y) point.\n",
    "plt.contourf(X, Y, f(X, Y), 8, alpha=0.75, cmap=plt.cm.hot)\n",
    "# The purpose of the number after height is to set the number of contour.\n",
    "# The cmap's function is to set the color of each part.\n",
    "\n",
    "# Use plt.contour to add contour lines.\n",
    "C = plt.contour(X, Y, f(X, Y), 8, colors=\"black\", linewidth=0.5)\n",
    "\n",
    "# Adding label.\n",
    "plt.clabel(C, inline=True, fontsize=10)\n",
    "\n",
    "# plt.xticks(())\n",
    "# plt.yticks(())\n",
    "plt.show()"
   ]
  },
  {
   "cell_type": "markdown",
   "id": "198bdda9",
   "metadata": {},
   "source": [
    "## 11. Image"
   ]
  },
  {
   "cell_type": "code",
   "execution_count": null,
   "id": "5c56fd56",
   "metadata": {},
   "outputs": [],
   "source": [
    "from mpl_toolkits.mplot3d import Axes3D\n",
    "\n",
    "# Define a 3D figure.\n",
    "fig = plt.figure()\n",
    "ax = Axes3D(fig)\n",
    "\n",
    "# X, Y value.\n",
    "X = np.arange(-4, 4, 0.25)\n",
    "Y = np.arange(-4, 4, 0.25)\n",
    "X, Y = np.meshgrid(X, Y)\n",
    "R = np.sqrt(X ** 2 + Y ** 2)\n",
    "\n",
    "# Height value.\n",
    "Z = np.sin(R)\n",
    "\n",
    "# Draw the equation.\n",
    "ax.plot_surface(X, Y, Z, rstride=1, cstride=1, cmap=plt.get_cmap(\"rainbow\"))\n",
    "# rstride, cstride:set the stride on row and cow.\n",
    "\n",
    "ax.contourf(X, Y, Z, zdir=\"z\", offset=-2, camp=\"rainbow\")\n",
    "# zdir:set which axis to draw the contour.\n",
    "# offset:set where to draw the contour on the axis.\n",
    "\n",
    "ax.set_zlim(-2, 1)    # Set the limit of axis.\n",
    "\n",
    "plt.show()"
   ]
  },
  {
   "cell_type": "markdown",
   "id": "425aba97",
   "metadata": {},
   "source": [
    "## 13.a Subplot_symmetry"
   ]
  },
  {
   "cell_type": "code",
   "execution_count": null,
   "id": "7dd4def0",
   "metadata": {},
   "outputs": [],
   "source": [
    "plt.figure()\n",
    "\n",
    "# plt.subplot(# row, # column, location)\n",
    "# plt.plot([x_1, x_2], [y_1, y_2])\n",
    "plt.subplot(2, 2, 1)\n",
    "plt.plot([1,0], [0,1])\n",
    "\n",
    "plt.subplot(2, 2, 2)\n",
    "plt.plot([0,2], [0,2])\n",
    "\n",
    "# plt.subplot(# row # column location)\n",
    "plt.subplot(223)\n",
    "plt.plot([0,3], [0,3])\n",
    "\n",
    "plt.subplot(224)\n",
    "plt.plot([0,4],[4,0])\n",
    "\n",
    "plt.show()"
   ]
  },
  {
   "cell_type": "markdown",
   "id": "d8d569e4",
   "metadata": {},
   "source": [
    "## 13.b Subplot_asymmetry"
   ]
  },
  {
   "cell_type": "code",
   "execution_count": null,
   "id": "7abd3351",
   "metadata": {},
   "outputs": [],
   "source": [
    "plt.figure()\n",
    "\n",
    "plt.subplot(2, 1, 1)\n",
    "plt.plot([1,0], [0,1])\n",
    "\n",
    "plt.subplot(2, 3, 4)\n",
    "plt.plot([0,2], [0,2])\n",
    "\n",
    "plt.subplot(235)\n",
    "plt.plot([0,3], [0,3])\n",
    "\n",
    "plt.subplot(236)\n",
    "plt.plot([0,4],[4,0])\n",
    "\n",
    "plt.show()"
   ]
  },
  {
   "cell_type": "markdown",
   "id": "d5942910",
   "metadata": {},
   "source": [
    "## 13.c Subplots"
   ]
  },
  {
   "cell_type": "code",
   "execution_count": null,
   "id": "e19542f7",
   "metadata": {},
   "outputs": [],
   "source": [
    "np.random.seed(1)\n",
    "\n",
    "pad = 2\n",
    "x = np.random.randn(4, 3, 3, 2)\n",
    "x_pad = np.pad(x, ((0,0), (pad,pad), (pad,pad), (0,0)),'constant')\n",
    "\n",
    "plt.figure(figsize=(5, 5))\n",
    "fig, axarr = plt.subplots(1, 2)\n",
    "axarr[0].set_title('X')\n",
    "axarr[0].imshow(x[0, :, :, 0])\n",
    "axarr[1].set_title('X_pad')\n",
    "axarr[1].imshow(x_pad[0, :, :, 0])\n",
    "plt.show()"
   ]
  },
  {
   "cell_type": "markdown",
   "id": "e787dafa",
   "metadata": {},
   "source": [
    "## 14.a Subplot in grid : subplot2grid"
   ]
  },
  {
   "cell_type": "code",
   "execution_count": null,
   "id": "c342cea8",
   "metadata": {},
   "outputs": [],
   "source": [
    "# Method One:subplot2grid\n",
    "# plt.subplot2grid((# row, # col), (# begin_row, # begin_col), colspan=1, rowspan=1)\n",
    "\n",
    "plt.figure()\n",
    "\n",
    "ax1 = plt.subplot2grid((3, 3), (0, 0), colspan=3, rowspan=1)\n",
    "ax1.plot([1, 2], [1, 2])\n",
    "ax1.set_title('ax1_title')\n",
    "\n",
    "ax2 = plt.subplot2grid((3, 3), (1, 0), colspan=2)\n",
    "ax3 = plt.subplot2grid((3, 3), (1, 2), rowspan=2)\n",
    "ax4 = plt.subplot2grid((3, 3), (2, 0))\n",
    "ax5 = plt.subplot2grid((3, 3), (2, 1))\n",
    "\n",
    "# Use plt.tight_layout() to make the graph compatible.\n",
    "plt.tight_layout()\n",
    "plt.show()"
   ]
  },
  {
   "cell_type": "markdown",
   "id": "d30d8342",
   "metadata": {},
   "source": [
    "## 14.b Subplot in grid : gridspec"
   ]
  },
  {
   "cell_type": "code",
   "execution_count": null,
   "id": "a6c42a75",
   "metadata": {},
   "outputs": [],
   "source": [
    "import matplotlib.gridspec as gridspec\n",
    "\n",
    "plt.figure()\n",
    "\n",
    "# gs = gridspec.GridSpec(# row, # col)\n",
    "gs = gridspec.GridSpec(3, 3)\n",
    "\n",
    "# plt.subpolt(gs[row, col])\n",
    "ax1 = plt.subplot(gs[0, :])\n",
    "ax2 = plt.subplot(gs[1, :2])\n",
    "ax3 = plt.subplot(gs[1:, 2])\n",
    "ax4 = plt.subplot(gs[-1, 0])\n",
    "ax5 = plt.subplot(gs[-1, -2])\n",
    "\n",
    "plt.tight_layout()\n",
    "plt.show()"
   ]
  },
  {
   "cell_type": "markdown",
   "id": "665d1aa2",
   "metadata": {},
   "source": [
    "## 14.c Subplot in grid : easy to define structure"
   ]
  },
  {
   "cell_type": "code",
   "execution_count": null,
   "id": "0497fe65",
   "metadata": {},
   "outputs": [],
   "source": [
    "# plt.subplot(# row, # col, sharex:to share the x axis in graphs, sharey)\n",
    "# The fig precede the formula be used to confige the figure.\n",
    "\n",
    "fig, ((ax11, ax12),(ax21, ax22)) = plt.subplots(2, 2, sharex=True, sharey=True)\n",
    "ax11.scatter([1,2], [1,2])\n",
    "\n",
    "plt.tight_layout()\n",
    "plt.show()"
   ]
  },
  {
   "cell_type": "markdown",
   "id": "d52b3eb6",
   "metadata": {},
   "source": [
    "## 15. Plot in Plot"
   ]
  },
  {
   "cell_type": "code",
   "execution_count": null,
   "id": "03d72e21",
   "metadata": {},
   "outputs": [],
   "source": [
    "fig = plt.figure()\n",
    "x = [1,2,3,4,5,6,7]\n",
    "y = [1,3,4,2,5,8,6]\n",
    "\n",
    "# Method One.\n",
    "# The values of \"left, bottom, width, height\"  be used to set the percentage of the axes in the figure.\n",
    "left, bottom, width, height = 0.1, 0.1, 0.8, 0.8\n",
    "ax1 = fig.add_axes([left, bottom, width, height])\n",
    "ax1.plot(x, y, 'r')\n",
    "# Set axes need ues \"ax.set_func()\".\n",
    "ax1.set_xlabel('x')\n",
    "ax1.set_ylabel('y')\n",
    "ax1.set_title('title')\n",
    "\n",
    "left, bottom, width, height = 0.2, 0.6, 0.25, 0.25\n",
    "ax2 = fig.add_axes([left, bottom, width, height])\n",
    "ax2.plot(x, y, 'b')\n",
    "ax2.set_xlabel('x')\n",
    "ax2.set_ylabel('y')\n",
    "ax2.set_title('title inside 1')\n",
    "\n",
    "# Method Two.\n",
    "plt.axes([0.6, 0.2, 0.25, 0.25])\n",
    "plt.plot(y[::-1], x, 'g')\n",
    "plt.xlabel('x')\n",
    "plt.ylabel('y')\n",
    "plt.title('title inside 1')\n",
    "\n",
    "plt.show()"
   ]
  },
  {
   "cell_type": "code",
   "execution_count": null,
   "id": "da009185",
   "metadata": {},
   "outputs": [],
   "source": [
    "y = [1,3,4,2,5,8,6]\n",
    "print(y[::-1])"
   ]
  },
  {
   "cell_type": "markdown",
   "id": "783818d2",
   "metadata": {},
   "source": [
    "## 16. Secondary axis"
   ]
  },
  {
   "cell_type": "code",
   "execution_count": null,
   "id": "8c006603",
   "metadata": {},
   "outputs": [],
   "source": [
    "a = np.random.rand(3, 3)\n",
    "\n",
    "plt.imshow(a, interpolation=\"nearest\", cmap=plt.cm.bone, origin=\"upper\")\n",
    "plt.colorbar(shrink=0.8)    # Show the legend about the image.\n",
    "\n",
    "plt.show()"
   ]
  },
  {
   "cell_type": "markdown",
   "id": "76545b9c",
   "metadata": {},
   "source": [
    "## 12. 3D Plot"
   ]
  },
  {
   "cell_type": "code",
   "execution_count": null,
   "id": "d371b633",
   "metadata": {},
   "outputs": [],
   "source": [
    "x = np.arange(0, 10, 0.1)\n",
    "y1 = 0.05 * x **2\n",
    "y2 = -1 * y1\n",
    "\n",
    "fig, ax1 = plt.subplots()\n",
    "ax2 = ax1.twinx()\n",
    "ax1.plot(x, y1, \"g-\")\n",
    "ax2.plot(x, y2, \"b--\")\n",
    "\n",
    "ax1.set_xlabel(\"X data\")\n",
    "ax1.set_ylabel(\"Y1\", color=\"g\")\n",
    "ax2.set_ylabel(\"Y2\", color=\"b\")\n",
    "\n",
    "plt.show()"
   ]
  },
  {
   "cell_type": "markdown",
   "id": "ab0e716c",
   "metadata": {},
   "source": [
    "## 17. Animation"
   ]
  },
  {
   "cell_type": "code",
   "execution_count": null,
   "id": "63b7294c",
   "metadata": {},
   "outputs": [],
   "source": [
    "from matplotlib import animation\n",
    "\n",
    "fig, ax = plt.subplots()\n",
    "\n",
    "x = np.arange(0, 2 * np.pi, 0.01)\n",
    "line, = ax.plot(x, np.sin(x))\n",
    "\n",
    "def animate(i):\n",
    "    line.set_ydata(np.sin(x+i/10))\n",
    "    return line,\n",
    "\n",
    "def init():\n",
    "    line.set_ydata(np.sin(x))\n",
    "    return line,\n",
    "\n",
    "ani = animation.FuncAnimation(fig=fig, func=animate, frames=100, init_func=init, interval=20, blit=False)\n",
    "\n",
    "plt.show()"
   ]
  },
  {
   "cell_type": "markdown",
   "id": "b34353e5",
   "metadata": {},
   "source": [
    "## 18. Other image dispose methods"
   ]
  },
  {
   "cell_type": "code",
   "execution_count": null,
   "id": "bac3c203",
   "metadata": {},
   "outputs": [],
   "source": [
    "import os\n",
    "import scipy\n",
    "from PIL import Image\n",
    "from scipy import ndimage\n",
    "from skimage import transform\n",
    "\n",
    "filename = r'LSTM_Model.jpg'\n",
    "filename = os.path.join(os.getcwd(), r'Matplotlib_img', filename)\n",
    "image = plt.imread(filename)\n",
    "print('The quondam shape of image is {0}'.format(image.shape))\n",
    "new_image = transform.resize(image, output_shape=(90,140), mode='reflect')\n",
    "print('The processed shape of image is {0}'.format(new_image.shape))\n",
    "plt.imshow(new_image)\n",
    "plt.axis('off')\n",
    "plt.show()"
   ]
  },
  {
   "cell_type": "markdown",
   "id": "7d38c2eb",
   "metadata": {},
   "source": [
    "## 19. The use of rcPatams\n",
    "- matplotlib.rcParams['figure.figsize'] : The dpi of figure;\n",
    "- matplotlib.rcParams['savefig.dpi'] :The dpi of save figure;\n",
    "- plt.savefig('plot123_2.png', dpi=200) : The dpi of appointed figure."
   ]
  }
 ],
 "metadata": {},
 "nbformat": 4,
 "nbformat_minor": 5
}
