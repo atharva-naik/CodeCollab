{
 "cells": [
  {
   "cell_type": "markdown",
   "id": "f98ce8c7",
   "metadata": {},
   "source": [
    "![](http://images.plot.ly/logo/plotlyjs-logo@2x.png)"
   ]
  },
  {
   "cell_type": "code",
   "execution_count": null,
   "id": "c7f048de",
   "metadata": {},
   "outputs": [],
   "source": [
    "from IPython.core.display import HTML\n",
    "HTML(\"\"\"\n",
    "<link rel=\"stylesheet\" type=\"text/css\" href=\"https://cdnjs.cloudflare.com/ajax/libs/semantic-ui/2.2.11/semantic.min.css\">\n",
    "<style>\n",
    ".container { width:100% !important;}\n",
    ".plotly-graph-div.js-plotly-plot {margin:0 auto;}\n",
    "</style>\n",
    "\"\"\")"
   ]
  },
  {
   "cell_type": "markdown",
   "id": "8ff8b6d6",
   "metadata": {},
   "source": [
    "# Hands on with Plot.ly"
   ]
  },
  {
   "cell_type": "markdown",
   "id": "2dec04fe",
   "metadata": {},
   "source": [
    "> Plotly is the collaboration platform for modern data science."
   ]
  },
  {
   "cell_type": "markdown",
   "id": "59f91aee",
   "metadata": {},
   "source": [
    "## Plotly : Offline Use"
   ]
  },
  {
   "cell_type": "markdown",
   "id": "bce50620",
   "metadata": {},
   "source": [
    "**Notebook Mode** - Inside Jupyter/IPython Notebooks"
   ]
  },
  {
   "cell_type": "markdown",
   "id": "38be9aba",
   "metadata": {},
   "source": [
    "### Scatter Matrix"
   ]
  },
  {
   "cell_type": "code",
   "execution_count": null,
   "id": "13ccd6c8",
   "metadata": {},
   "outputs": [],
   "source": [
    "df"
   ]
  },
  {
   "cell_type": "code",
   "execution_count": null,
   "id": "e61bb303",
   "metadata": {},
   "outputs": [],
   "source": [
    "df.scatter_matrix()"
   ]
  },
  {
   "cell_type": "markdown",
   "id": "d2185238",
   "metadata": {},
   "source": [
    "### Heatmaps"
   ]
  },
  {
   "cell_type": "code",
   "execution_count": null,
   "id": "49bf7cbc",
   "metadata": {},
   "outputs": [],
   "source": [
    "cf.datagen.heatmap(20,20).iplot(kind='heatmap',colorscale='spectral')"
   ]
  },
  {
   "cell_type": "markdown",
   "id": "f67209e3",
   "metadata": {},
   "source": [
    "### Lines & Shapes"
   ]
  },
  {
   "cell_type": "markdown",
   "id": "cc0c262a",
   "metadata": {},
   "source": [
    "Use `hline` and `vline` for horizontal and vertical lines."
   ]
  },
  {
   "cell_type": "code",
   "execution_count": null,
   "id": "a2bef208",
   "metadata": {},
   "outputs": [],
   "source": [
    "df=cf.datagen.lines(3,columns=['a','b','c'])"
   ]
  },
  {
   "cell_type": "code",
   "execution_count": null,
   "id": "3c7a3871",
   "metadata": {},
   "outputs": [],
   "source": [
    "df.iplot(hline=[2,4],vline=['2015-02-10'])"
   ]
  },
  {
   "cell_type": "markdown",
   "id": "ed744ade",
   "metadata": {},
   "source": [
    "Draw shaded regions with `hspan`"
   ]
  },
  {
   "cell_type": "code",
   "execution_count": null,
   "id": "917e1296",
   "metadata": {},
   "outputs": [],
   "source": [
    "df.iplot(hspan=[(-1,1),(2,5)])"
   ]
  },
  {
   "cell_type": "markdown",
   "id": "fb3c7d17",
   "metadata": {},
   "source": [
    "Extra parameters can be passed in the form of dictionaries, width, fill, color, fillcolor, opacity"
   ]
  },
  {
   "cell_type": "code",
   "execution_count": null,
   "id": "2a6662b8",
   "metadata": {},
   "outputs": [],
   "source": [
    "import pandas as pd\n",
    "from plotly.offline import init_notebook_mode, iplot\n",
    "\n",
    "init_notebook_mode() # run at the start of every notebook"
   ]
  },
  {
   "cell_type": "code",
   "execution_count": null,
   "id": "c31fd4e7",
   "metadata": {},
   "outputs": [],
   "source": [
    "iplot({\n",
    "    \"data\": [{\n",
    "        \"x\": [1, 2, 3],\n",
    "        \"y\": [4, 2, 5]\n",
    "    }],\n",
    "    \"layout\": {\n",
    "        \"title\": \"hello world\"\n",
    "    }\n",
    "})"
   ]
  },
  {
   "cell_type": "code",
   "execution_count": null,
   "id": "bca81952",
   "metadata": {},
   "outputs": [],
   "source": [
    "import plotly.tools as tls\n",
    "# Plotly is very flexible\n",
    "tls.embed('plotly2_demo','219')\n",
    "\n",
    "#X axis is always the index"
   ]
  },
  {
   "cell_type": "code",
   "execution_count": null,
   "id": "3ad2d4bd",
   "metadata": {},
   "outputs": [],
   "source": [
    "import plotly.tools as tls\n",
    "# And expressive\n",
    "\n",
    "tls.embed('PythonPlotBot','25')"
   ]
  },
  {
   "cell_type": "markdown",
   "id": "e99da5b1",
   "metadata": {},
   "source": [
    "## Basics"
   ]
  },
  {
   "cell_type": "markdown",
   "id": "79df0522",
   "metadata": {},
   "source": [
    "`plotly` charts are described _declaratively_ with objects in `plotly.graph_objs` and `dict`. Every aspect of a plotly chart (the colors, the grids, the data, and so on) has a corresponding key-value attribute in these objects. The [reference page](https://plot.ly/python/reference/) contains an extensive list of these attributes.\n",
    "\n",
    "Plotly's graph description places attributes into two categories: **traces** (objects that describe a single series of data in a graph like Scatter or Heatmap) and **layout** attributes that apply to the rest of the chart, like the title, xaxis, or annotations).\n",
    "\n",
    "Here is a simple example of a plotly chart inlined with links to each attribute's reference section."
   ]
  },
  {
   "cell_type": "code",
   "execution_count": null,
   "id": "4aaf237f",
   "metadata": {},
   "outputs": [],
   "source": [
    "from plotly.graph_objs import Scatter, Bar, Layout, Figure\n",
    "\n",
    "data = [\n",
    "    Scatter(                            # all \"scatter\" attributes: https://plot.ly/python/reference/#scatter\n",
    "        x=[1, 2, 3],                    # more about \"x\":  /python/reference/#scatter-x\n",
    "        y=[3, 1, 6],                    # more about \"y\":  /python/reference/#scatter-y\n",
    "        mode=\"markers+lines\",\n",
    "        marker=dict(                    # marker is an dict, marker keys: /python/reference/#scatter-marker\n",
    "            color=\"rgb(16, 32, 77)\"     # more about marker's \"color\": /python/reference/#scatter-marker-color\n",
    "        )\n",
    "    ),\n",
    "    Bar(                            # all \"bar\" chart attributes: /python/reference/#bar\n",
    "        x=[1, 2, 3],                # more about \"x\": /python/reference/#bar-x\n",
    "        y=[3, 1, 6],                # /python/reference/#bar-y\n",
    "        name=\"bar chart example\"    # /python/reference/#bar-name\n",
    "    )\n",
    "]\n",
    "\n",
    "layout = Layout(                # all \"layout\" attributes: /python/reference/#layout\n",
    "    title=\"simple example\",     # more about \"layout's\" \"title\": /python/reference/#layout-title\n",
    "    xaxis=dict(                 # all \"layout's\" \"xaxis\" attributes: /python/reference/#layout-xaxis\n",
    "        title=\"time\"            # more about \"layout's\" \"xaxis's\" \"title\": /python/reference/#layout-xaxis-title\n",
    "    ),\n",
    "    annotations=[\n",
    "        dict(                            # all \"annotation\" attributes: /python/reference/#layout-annotations\n",
    "            text=\"simple annotation\",    # /python/reference/#layout-annotations-text\n",
    "            x=0,                         # /python/reference/#layout-annotations-x\n",
    "            xref=\"paper\",                # /python/reference/#layout-annotations-xref\n",
    "            y=0,                         # /python/reference/#layout-annotations-y\n",
    "            yref=\"paper\"                 # /python/reference/#layout-annotations-yref\n",
    "        )\n",
    "    ]\n",
    ")\n",
    "\n",
    "figure = Figure(data=data, layout=layout)\n",
    "\n",
    "iplot(figure)"
   ]
  },
  {
   "cell_type": "markdown",
   "id": "bc6e395d",
   "metadata": {},
   "source": [
    "The full set of [Plotly Tutorials](https://plot.ly/python/) give you a great idea of what's possible _and_ on how you might implment them with python."
   ]
  },
  {
   "cell_type": "markdown",
   "id": "15eebe1c",
   "metadata": {},
   "source": [
    "## Cheatsheet"
   ]
  },
  {
   "cell_type": "code",
   "execution_count": null,
   "id": "6ded00cc",
   "metadata": {},
   "outputs": [],
   "source": [
    "from IPython.display import IFrame\n",
    "IFrame('https://images.plot.ly/plotly-documentation/images/python_cheat_sheet.pdf',986,600)"
   ]
  },
  {
   "cell_type": "markdown",
   "id": "649a315f",
   "metadata": {},
   "source": [
    "## Chart Types"
   ]
  },
  {
   "cell_type": "markdown",
   "id": "eb376b9a",
   "metadata": {},
   "source": [
    "### Basic Charts"
   ]
  },
  {
   "cell_type": "code",
   "execution_count": null,
   "id": "89d3b939",
   "metadata": {},
   "outputs": [],
   "source": [
    "trace1 = Bar(\n",
    "    x=[1995, 1996, 1997, 1998, 1999, 2000, 2001, 2002, 2003, 2004, 2005, 2006, 2007, 2008, 2009, 2010, 2011, 2012],\n",
    "    y=[219, 146, 112, 127, 124, 180, 236, 207, 236, 263, 350, 430, 474, 526, 488, 537, 500, 439],\n",
    "    name='Rest of world',\n",
    "    marker=dict(\n",
    "        color='rgb(55, 83, 109)'\n",
    "    )\n",
    ")\n",
    "trace2 = Bar(\n",
    "    x=[1995, 1996, 1997, 1998, 1999, 2000, 2001, 2002, 2003, 2004, 2005, 2006, 2007, 2008, 2009, 2010, 2011, 2012],\n",
    "    y=[16, 13, 10, 11, 28, 37, 43, 55, 56, 88, 105, 156, 270, 299, 340, 403, 549, 499],\n",
    "    name='China',\n",
    "    marker=dict(\n",
    "        color='rgb(26, 118, 255)'\n",
    "    )\n",
    ")\n",
    "data = [trace1, trace2]\n",
    "\n",
    "layout = Layout(\n",
    "    title='US Export of Plastic Scrap',\n",
    "    xaxis=dict(\n",
    "        tickfont=dict(\n",
    "            size=14,\n",
    "            color='rgb(107, 107, 107)'\n",
    "        )\n",
    "    ),\n",
    "    yaxis=dict(\n",
    "        title='USD (millions)',\n",
    "        titlefont=dict(\n",
    "            size=16,\n",
    "            color='rgb(107, 107, 107)'\n",
    "        ),\n",
    "        tickfont=dict(\n",
    "            size=14,\n",
    "            color='rgb(107, 107, 107)'\n",
    "        )\n",
    "    ),\n",
    "    legend=dict(\n",
    "        x=0,\n",
    "        y=1.0,\n",
    "        bgcolor='rgba(255, 255, 255, 0)',\n",
    "        bordercolor='rgba(255, 255, 255, 0)'\n",
    "    ),\n",
    "    barmode='group',\n",
    "    bargap=0.15,\n",
    "    bargroupgap=0.1\n",
    ")\n",
    "\n",
    "fig = Figure(data=data, layout=layout)\n",
    "plot_url = iplot(fig)"
   ]
  },
  {
   "cell_type": "markdown",
   "id": "a8295442",
   "metadata": {},
   "source": [
    "### Statistical Charts"
   ]
  },
  {
   "cell_type": "code",
   "execution_count": null,
   "id": "3bfb0901",
   "metadata": {},
   "outputs": [],
   "source": [
    "df = pd.DataFrame({'a': np.random.randn(1000) + 1,\n",
    "                   'b': np.random.randn(1000),\n",
    "                   'c': np.random.randn(1000) - 1})\n",
    "df.head(2)"
   ]
  },
  {
   "cell_type": "code",
   "execution_count": null,
   "id": "30043520",
   "metadata": {},
   "outputs": [],
   "source": [
    "df.iplot(kind='histogram')"
   ]
  },
  {
   "cell_type": "markdown",
   "id": "4b3ff05f",
   "metadata": {},
   "source": [
    "#### Customise your histograms"
   ]
  },
  {
   "cell_type": "markdown",
   "id": "d882f038",
   "metadata": {},
   "source": [
    "```\n",
    "barmode (overlay | group | stack)\n",
    "bins (int)\n",
    "histnorm ('' | 'percent' | 'probability' | 'density' | 'probability density')\n",
    "histfunc ('count' | 'sum' | 'avg' | 'min' | 'max')\n",
    "```"
   ]
  },
  {
   "cell_type": "code",
   "execution_count": null,
   "id": "017c21e3",
   "metadata": {},
   "outputs": [],
   "source": [
    "df.iplot(kind='histogram',\n",
    "         barmode='stack',\n",
    "         bins=100,\n",
    "         histnorm='density',\n",
    "         histfunc='count',\n",
    "         dimensions=(980,720)\n",
    "    )"
   ]
  },
  {
   "cell_type": "code",
   "execution_count": null,
   "id": "d084c843",
   "metadata": {},
   "outputs": [],
   "source": [
    "# Like every chart type, split your traces into subplots or small-multiples with subplots and optionally shape. More on subplots below."
   ]
  },
  {
   "cell_type": "code",
   "execution_count": null,
   "id": "ba8a6130",
   "metadata": {},
   "outputs": [],
   "source": [
    "df.iplot(kind='histogram', subplots=True, shape=(1, 3))"
   ]
  },
  {
   "cell_type": "code",
   "execution_count": null,
   "id": "837b09d2",
   "metadata": {},
   "outputs": [],
   "source": [
    "df.iplot(kind='histogram', subplots=True, shape=(3, 1))"
   ]
  },
  {
   "cell_type": "markdown",
   "id": "269cbdfa",
   "metadata": {},
   "source": [
    "### Box Plots"
   ]
  },
  {
   "cell_type": "code",
   "execution_count": null,
   "id": "8010fb20",
   "metadata": {},
   "outputs": [],
   "source": [
    "df = pd.DataFrame(np.random.rand(10, 5), columns=['A', 'B', 'C', 'D', 'E'])\n",
    "df.iplot(kind='box', dimensions=(980,720))"
   ]
  },
  {
   "cell_type": "markdown",
   "id": "848f55b2",
   "metadata": {},
   "source": [
    "### AREA CHARTS"
   ]
  },
  {
   "cell_type": "markdown",
   "id": "eeb1f950",
   "metadata": {},
   "source": [
    "To produce stacked area plot, each column must be either all positive or all negative values.\n",
    "\n",
    "When input data contains NaN, it will be automatically filled by 0. If you want to drop or fill by different values, use dataframe.dropna() or dataframe.fillna() before calling plot."
   ]
  },
  {
   "cell_type": "markdown",
   "id": "ce91a146",
   "metadata": {},
   "source": [
    "### Subplots"
   ]
  },
  {
   "cell_type": "markdown",
   "id": "de0a28be",
   "metadata": {},
   "source": [
    "`subplots=True` partitions columns into separate subplots. Specify rows and columns with `shape=(rows, cols)` and share axes with `shared_xaxes=True` and `shared_yaxes=True`."
   ]
  },
  {
   "cell_type": "code",
   "execution_count": null,
   "id": "97e81c09",
   "metadata": {},
   "outputs": [],
   "source": [
    "df=cf.datagen.lines(4)\n",
    "df.iplot(subplots=True, shape=(4,1), shared_xaxes=False, fill=True)"
   ]
  },
  {
   "cell_type": "markdown",
   "id": "f07d426f",
   "metadata": {},
   "source": [
    "Add subplot titles with `subplot_titles` as a list of titles or `True` to use column names."
   ]
  },
  {
   "cell_type": "code",
   "execution_count": null,
   "id": "7519ea5c",
   "metadata": {},
   "outputs": [],
   "source": [
    "df.iplot(subplots=True, subplot_titles=True, legend=False)"
   ]
  },
  {
   "cell_type": "code",
   "execution_count": null,
   "id": "c4a8c8d0",
   "metadata": {},
   "outputs": [],
   "source": [
    "df.iplot(vspan={'x0':'2015-02-15','x1':'2015-03-15','color':'rgba(30,30,30,0.3)','fill':True,'opacity':.4})"
   ]
  },
  {
   "cell_type": "markdown",
   "id": "b65815d5",
   "metadata": {},
   "source": [
    "## Customising Figures"
   ]
  },
  {
   "cell_type": "markdown",
   "id": "8903b6bb",
   "metadata": {},
   "source": [
    "`cufflinks` is designed for simple one-line charting with Pandas and Plotly. All of the Plotly chart attributes are not directly assignable in the `df.iplot` call signature.\n",
    "\n",
    "To update attributes of a cufflinks chart that aren't available, first convert it to a figure `(asFigure=True)`, then tweak it, then plot it with `plotly.plotly.iplot`."
   ]
  },
  {
   "cell_type": "markdown",
   "id": "82a126d7",
   "metadata": {},
   "source": [
    "`cufflinks` generates these figure's that describe plotly graphs. For example, this graph:\n"
   ]
  },
  {
   "cell_type": "markdown",
   "id": "5c46e484",
   "metadata": {},
   "source": [
    "#### Bar Charts"
   ]
  },
  {
   "cell_type": "code",
   "execution_count": null,
   "id": "afe9914d",
   "metadata": {},
   "outputs": [],
   "source": [
    "df = pd.read_csv('https://raw.githubusercontent.com/plotly/widgets/master/ipython-examples/311_150k.csv', parse_dates=True, index_col=1, low_memory=False)\n",
    "df.head(3)"
   ]
  },
  {
   "cell_type": "code",
   "execution_count": null,
   "id": "333a3c30",
   "metadata": {},
   "outputs": [],
   "source": [
    "series = df['Complaint Type'].value_counts()[:20]\n",
    "series.head(3)"
   ]
  },
  {
   "cell_type": "code",
   "execution_count": null,
   "id": "eafd46d4",
   "metadata": {},
   "outputs": [],
   "source": [
    "# Plot a series directly\n",
    "series.iplot(kind='bar', yTitle='Number of Complaints', title='NYC 311 Complaints')"
   ]
  },
  {
   "cell_type": "code",
   "execution_count": null,
   "id": "4313f75b",
   "metadata": {},
   "outputs": [],
   "source": [
    "# Plot a dataframe row as a bar\n",
    "df = pd.DataFrame(np.random.rand(10, 4), columns=['A', 'B', 'C', 'D'])\n",
    "row = df.iloc[5]\n",
    "row.iplot(kind='bar')"
   ]
  },
  {
   "cell_type": "code",
   "execution_count": null,
   "id": "99c85bf7",
   "metadata": {},
   "outputs": [],
   "source": [
    "# Call iplot(kind='bar') on a dataframe to produce a grouped bar chart\n",
    "df.iplot(kind='bar')"
   ]
  },
  {
   "cell_type": "code",
   "execution_count": null,
   "id": "eeac8e48",
   "metadata": {},
   "outputs": [],
   "source": [
    "df.iplot(kind='bar', barmode='stack')"
   ]
  },
  {
   "cell_type": "code",
   "execution_count": null,
   "id": "b92a748e",
   "metadata": {},
   "outputs": [],
   "source": [
    "# Make your bar charts horizontal with kind='barh'\n",
    "df.iplot(kind='barh', barmode='stack', bargap=.1)"
   ]
  },
  {
   "cell_type": "markdown",
   "id": "c2b5a906",
   "metadata": {},
   "source": [
    "### Themes for Cufflinks"
   ]
  },
  {
   "cell_type": "code",
   "execution_count": null,
   "id": "9e2fcbac",
   "metadata": {},
   "outputs": [],
   "source": [
    "cf.getThemes()"
   ]
  },
  {
   "cell_type": "code",
   "execution_count": null,
   "id": "6a14d321",
   "metadata": {},
   "outputs": [],
   "source": [
    "cf.set_config_file(theme='white')"
   ]
  },
  {
   "cell_type": "markdown",
   "id": "222c9b81",
   "metadata": {},
   "source": [
    "Try re-running some of the previous graphs!,"
   ]
  },
  {
   "cell_type": "code",
   "execution_count": null,
   "id": "3fc20531",
   "metadata": {},
   "outputs": [],
   "source": [
    "df = pd.DataFrame(np.random.rand(10, 4), columns=['a', 'b', 'c', 'd'])"
   ]
  },
  {
   "cell_type": "code",
   "execution_count": null,
   "id": "d5c587f3",
   "metadata": {},
   "outputs": [],
   "source": [
    "df.iplot(kind='area', fill=True, dimensions=(980,720))"
   ]
  },
  {
   "cell_type": "code",
   "execution_count": null,
   "id": "d820530f",
   "metadata": {},
   "outputs": [],
   "source": [
    "df.iplot(fill=True)"
   ]
  },
  {
   "cell_type": "markdown",
   "id": "e61ec2be",
   "metadata": {},
   "source": [
    "### Scatter Plot"
   ]
  },
  {
   "cell_type": "markdown",
   "id": "bbfa372e",
   "metadata": {},
   "source": [
    "Set `x` and `y` as column names. If `x` isn't supplied, `df.index` will be used."
   ]
  },
  {
   "cell_type": "code",
   "execution_count": null,
   "id": "c8908239",
   "metadata": {},
   "outputs": [],
   "source": [
    "from IPython.display import YouTubeVideo"
   ]
  },
  {
   "cell_type": "code",
   "execution_count": null,
   "id": "1223c550",
   "metadata": {},
   "outputs": [],
   "source": [
    "YouTubeVideo('usdJgEwMinM', 980,720)"
   ]
  },
  {
   "cell_type": "code",
   "execution_count": null,
   "id": "971cf829",
   "metadata": {},
   "outputs": [],
   "source": [
    "df = pd.read_csv('http://www.stat.ubc.ca/~jenny/notOcto/STAT545A/examples/gapminder/data/gapminderDataFiveYear.txt', sep='\\t')\n",
    "df2007 = df[df.year==2007]\n",
    "df1952 = df[df.year==1952]\n",
    "df.head(2)"
   ]
  },
  {
   "cell_type": "code",
   "execution_count": null,
   "id": "9ebc60ae",
   "metadata": {},
   "outputs": [],
   "source": [
    "df2007.iplot(kind='scatter', mode='markers', x='gdpPercap', y='lifeExp')"
   ]
  },
  {
   "cell_type": "markdown",
   "id": "3961672b",
   "metadata": {},
   "source": [
    "It's not possible just yet to add multiple traces to a scatter plot with cufflinks.... so we have to drop down to plotly."
   ]
  },
  {
   "cell_type": "code",
   "execution_count": null,
   "id": "5439e86e",
   "metadata": {},
   "outputs": [],
   "source": [
    "fig = {\n",
    "    'data': [\n",
    "        {'x': df2007.gdpPercap, 'y': df2007.lifeExp, 'text': df2007.country, 'mode': 'markers', 'name': '2007'},\n",
    "        {'x': df1952.gdpPercap, 'y': df1952.lifeExp, 'text': df1952.country, 'mode': 'markers', 'name': '1952'}\n",
    "    ],\n",
    "    'layout': {\n",
    "        'xaxis': {'title': 'GDP per Capita', 'type': 'log'},\n",
    "        'yaxis': {'title': \"Life Expectancy\"}\n",
    "    }\n",
    "}\n",
    "iplot(fig)"
   ]
  },
  {
   "cell_type": "markdown",
   "id": "14e61b51",
   "metadata": {},
   "source": [
    "In the full dataset, you can look through your year values and use them like this:"
   ]
  },
  {
   "cell_type": "code",
   "execution_count": null,
   "id": "5ac0708c",
   "metadata": {},
   "outputs": [],
   "source": [
    "iplot(\n",
    "    {\n",
    "        'data': [\n",
    "            {\n",
    "                'x': df[df['year']==year]['gdpPercap'],\n",
    "                'y': df[df['year']==year]['lifeExp'],\n",
    "                'text' : df[df['year']==year]['country'],\n",
    "                'name': year, 'mode': 'markers',\n",
    "            } for year in [1952, 1982, 2007]\n",
    "        ],\n",
    "        'layout': {\n",
    "            'xaxis': {'title': 'GDP per Capita', 'type': 'log'},\n",
    "            'yaxis': {'title': \"Life Expectancy\"}\n",
    "        }\n",
    "})"
   ]
  },
  {
   "cell_type": "markdown",
   "id": "fd8e1018",
   "metadata": {},
   "source": [
    "### Bubble Charts"
   ]
  },
  {
   "cell_type": "markdown",
   "id": "a46f715c",
   "metadata": {},
   "source": [
    "Add `size` to create a bubble chart. Add hover text with the text attribute."
   ]
  },
  {
   "cell_type": "code",
   "execution_count": null,
   "id": "f7cca57f",
   "metadata": {},
   "outputs": [],
   "source": [
    "import numpy as np\n",
    "import plotly.figure_factory as ff"
   ]
  },
  {
   "cell_type": "code",
   "execution_count": null,
   "id": "6de5c4aa",
   "metadata": {},
   "outputs": [],
   "source": [
    "x,y = np.meshgrid(np.arange(-2, 2, .2),\n",
    "                  np.arange(-2, 2, .25))\n",
    "z = x*np.exp(-x**2 - y**2)\n",
    "v, u = np.gradient(z, .2, .2)\n",
    "\n",
    "# Create quiver figure\n",
    "fig = ff.create_quiver(x, y, u, v,\n",
    "                       scale=.25,\n",
    "                       arrow_scale=.4,\n",
    "                       name='quiver',\n",
    "                       line=dict(width=1))\n",
    "\n",
    "# Create points\n",
    "points = Scatter(x=[-.7, .75], y=[0,0],\n",
    "                    mode='markers',\n",
    "                    marker=dict(size=12),\n",
    "                    name='points')\n",
    "\n",
    "# Add points to figure\n",
    "fig['data'].append(points)\n",
    "\n",
    "iplot(fig)"
   ]
  },
  {
   "cell_type": "code",
   "execution_count": null,
   "id": "20325b38",
   "metadata": {},
   "outputs": [],
   "source": [
    "import pandas as pd\n",
    "\n",
    "df2 = pd.DataFrame(np.random.randn(10, 4),\n",
    "                         columns=['Facebook', 'Twitter', 'Instagram', 'Snapchat'])\n",
    "\n",
    "df2['Contents'] = pd.Series(['apple', 'apple', 'grape', 'apple', 'apple', 'grape', 'pear', 'pear', 'apple', 'pear'])\n",
    "\n",
    "\n",
    "fig = ff.create_scatterplotmatrix(df2, diag='box', index='Contents',\n",
    "                                  height=800, width=800)\n",
    "iplot(fig)"
   ]
  },
  {
   "cell_type": "code",
   "execution_count": null,
   "id": "482bc6fe",
   "metadata": {},
   "outputs": [],
   "source": [
    "df3 = pd.DataFrame(np.random.randn(20, 4),\n",
    "                         columns=['Column A', 'Column B', 'Column C', 'Column D'])\n",
    "\n",
    "df3['Contents'] = pd.Series(['apple', 'apple', 'grape', 'apple', 'apple',\n",
    "                                'grape', 'pear', 'pear', 'apple', 'pear',\n",
    "                                'apple', 'apple', 'grape', 'apple', 'apple',\n",
    "                                'grape', 'pear', 'pear', 'apple', 'pear'])\n",
    "\n",
    "\n",
    "fig = ff.create_scatterplotmatrix(df3, diag='histogram', index='Contents',\n",
    "                                  height=800, width=800)\n",
    "iplot(fig)"
   ]
  },
  {
   "cell_type": "code",
   "execution_count": null,
   "id": "42e30ac7",
   "metadata": {},
   "outputs": [],
   "source": [
    "df4 = pd.DataFrame(np.random.randn(100, 3),\n",
    "                   columns=['Column A', 'Column B', 'Column C'])\n",
    "\n",
    "fig = ff.create_scatterplotmatrix(df4, diag='box', index='Column A',\n",
    "                                  endpts=[-1, 0, 1],\n",
    "                                  height=800, width=800, size=12,\n",
    "                                  marker=dict(symbol=25))\n",
    "\n",
    "iplot(fig)\n"
   ]
  },
  {
   "cell_type": "markdown",
   "id": "db06bf99",
   "metadata": {},
   "source": [
    "### Maps"
   ]
  },
  {
   "cell_type": "code",
   "execution_count": null,
   "id": "c69ca5e3",
   "metadata": {},
   "outputs": [],
   "source": [
    "df = pd.read_csv('https://raw.githubusercontent.com/plotly/datasets/master/2014_world_gdp_with_codes.csv')"
   ]
  },
  {
   "cell_type": "code",
   "execution_count": null,
   "id": "e1747402",
   "metadata": {},
   "outputs": [],
   "source": [
    "df.head(10)"
   ]
  },
  {
   "cell_type": "code",
   "execution_count": null,
   "id": "c5786350",
   "metadata": {},
   "outputs": [],
   "source": [
    "df = pd.read_csv('https://raw.githubusercontent.com/plotly/datasets/master/2014_world_gdp_with_codes.csv')\n",
    "\n",
    "data = [ dict(\n",
    "        type = 'choropleth',\n",
    "        locations = df['CODE'],\n",
    "        z = df['GDP (BILLIONS)'],\n",
    "        text = df['COUNTRY'],\n",
    "        colorscale = [[0,\"rgb(5, 10, 172)\"],[0.35,\"rgb(40, 60, 190)\"],[0.5,\"rgb(70, 100, 245)\"],\\\n",
    "            [0.6,\"rgb(90, 120, 245)\"],[0.7,\"rgb(106, 137, 247)\"],[1,\"rgb(220, 220, 220)\"]],\n",
    "        autocolorscale = False,\n",
    "        reversescale = True,\n",
    "        marker = dict(\n",
    "            line = dict (\n",
    "                color = 'rgb(180,180,180)',\n",
    "                width = 0.5\n",
    "            )\n",
    "        ),\n",
    "        colorbar = dict(\n",
    "            tickprefix = '$',\n",
    "            title = 'GDP<br>Billions US$'\n",
    "        ),\n",
    "    ) ]\n",
    "\n",
    "layout = dict(\n",
    "    title = '2014 Global GDP<br>Source: \\\n",
    "    <a href=\"https://www.cia.gov/library/publications/the-world-factbook/fields/2195.html\"> CIA World Factbook</a>',\n",
    "    geo = dict(\n",
    "        showframe = False,\n",
    "        showcoastlines = False,\n",
    "        projection = dict(\n",
    "            type = 'Mercator'\n",
    "        )\n",
    "    )\n",
    ")\n",
    "\n",
    "fig = dict(data=data, layout=layout)\n",
    "iplot(fig)"
   ]
  },
  {
   "cell_type": "markdown",
   "id": "5dadd939",
   "metadata": {},
   "source": [
    "### 3D Charts"
   ]
  },
  {
   "cell_type": "code",
   "execution_count": null,
   "id": "f9a42fd1",
   "metadata": {},
   "outputs": [],
   "source": [
    "from plotly.graph_objs import Scatter3d\n",
    "\n",
    "# Get Data: this ex will only use part of it (i.e. rows 750-1500)\n",
    "df = pd.read_csv('https://raw.githubusercontent.com/plotly/datasets/master/gapminderDataFiveYear.csv')\n",
    "\n",
    "trace1 = Scatter3d(\n",
    "    x=df['year'][750:1500],\n",
    "    y=df['continent'][750:1500],\n",
    "    z=df['pop'][750:1500],\n",
    "    text=df['country'][750:1500],\n",
    "    mode='markers',\n",
    "    marker=dict(\n",
    "        sizemode='diameter',\n",
    "        sizeref=750,\n",
    "        size=df['gdpPercap'][750:1500],\n",
    "        color = df['lifeExp'][750:1500],\n",
    "        colorscale = 'Viridis',\n",
    "        colorbar = dict(title = 'Life<br>Expectancy'),\n",
    "        line=dict(color='rgb(140, 140, 170)')\n",
    "    )\n",
    ")\n",
    "\n",
    "data=[trace1]\n",
    "layout=dict(height=800, width=800, title='Examining Population and Life Expectancy Over Time')\n",
    "fig=dict(data=data, layout=layout)\n",
    "iplot(fig)\n"
   ]
  },
  {
   "cell_type": "markdown",
   "id": "501c5c2a",
   "metadata": {},
   "source": [
    "## Cufflinks"
   ]
  },
  {
   "cell_type": "code",
   "execution_count": null,
   "id": "724c6950",
   "metadata": {},
   "outputs": [],
   "source": [
    "df.iplot(kind='scatter')"
   ]
  },
  {
   "cell_type": "markdown",
   "id": "bb7458e4",
   "metadata": {},
   "source": [
    "has this description:"
   ]
  },
  {
   "cell_type": "code",
   "execution_count": null,
   "id": "1465234e",
   "metadata": {},
   "outputs": [],
   "source": [
    "figure = df.iplot(kind='scatter', asFigure=True)\n",
    "print figure.to_string()\n",
    "# Or cf.pp(figure['layout'])"
   ]
  },
  {
   "cell_type": "markdown",
   "id": "1fa2b264",
   "metadata": {},
   "source": [
    "So, if you want to edit any attribute of a Plotly graph from cufflinks, first convert it to a figure and then edit the figure objects. Let's add a yaxis title, tick suffixes, and new legend names to this example:"
   ]
  },
  {
   "cell_type": "code",
   "execution_count": null,
   "id": "ebccd75b",
   "metadata": {},
   "outputs": [],
   "source": [
    "df2007.iplot(kind='bubble', x='gdpPercap', y='lifeExp', size='pop', text='country',\n",
    "             xTitle='GDP per Capita', yTitle='Life Expectancy')"
   ]
  },
  {
   "cell_type": "code",
   "execution_count": null,
   "id": "8989d9e8",
   "metadata": {},
   "outputs": [],
   "source": [
    "tls.embed('https://plot.ly/~cufflinks/8')"
   ]
  },
  {
   "cell_type": "code",
   "execution_count": null,
   "id": "18682bbf",
   "metadata": {},
   "outputs": [],
   "source": [
    "import cufflinks as cf\n",
    "\n",
    "# Go offline\n",
    "cf.go_offline()\n",
    "\n",
    "print(cf.__version__)"
   ]
  },
  {
   "cell_type": "code",
   "execution_count": null,
   "id": "0e1cc941",
   "metadata": {},
   "outputs": [],
   "source": [
    "df = cf.datagen.lines(10,10)"
   ]
  },
  {
   "cell_type": "code",
   "execution_count": null,
   "id": "85d874aa",
   "metadata": {},
   "outputs": [],
   "source": [
    "df = cf.datagen.lines()\n",
    "df.head()"
   ]
  },
  {
   "cell_type": "code",
   "execution_count": null,
   "id": "ecf094f0",
   "metadata": {},
   "outputs": [],
   "source": [
    "iplot([{\n",
    "    'x': df.index,\n",
    "    'y': df[col],\n",
    "    'name': col\n",
    "}  for col in df.columns])"
   ]
  },
  {
   "cell_type": "markdown",
   "id": "1285cc08",
   "metadata": {},
   "source": [
    "But with cufflinks, you can plot them directly"
   ]
  }
 ],
 "metadata": {},
 "nbformat": 4,
 "nbformat_minor": 5
}
