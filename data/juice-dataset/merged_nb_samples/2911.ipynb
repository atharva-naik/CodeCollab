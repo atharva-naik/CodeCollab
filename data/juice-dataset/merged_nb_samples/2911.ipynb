{
 "cells": [
  {
   "cell_type": "markdown",
   "id": "0c4548c0",
   "metadata": {},
   "source": [
    "## Gender Labelling with Python"
   ]
  },
  {
   "cell_type": "markdown",
   "id": "28baf979",
   "metadata": {},
   "source": [
    "### Import libraries\n",
    "For code readability the most of the implementation is extracted as functions in file _genderclassifierfunctions.py_\n"
   ]
  },
  {
   "cell_type": "code",
   "execution_count": null,
   "id": "6e383edb",
   "metadata": {},
   "outputs": [],
   "source": [
    "from genderclassifierfunctions import unzipfile\n",
    "from genderclassifierfunctions import loadjsonfiletolist\n",
    "from genderclassifierfunctions import writecsvfile\n",
    "from genderclassifierfunctions import clean\n",
    "from genderclassifierfunctions import feature_processing\n",
    "from genderclassifierfunctions import feature_selection_classifier_1\n",
    "from genderclassifierfunctions import feature_selection_classifier_2\n",
    "from genderclassifierfunctions import feature_selection_classifier_3\n",
    "from genderclassifierfunctions import kmeans_classification\n",
    "from genderclassifierfunctions import minibatchkmeans_classifier\n",
    "from genderclassifierfunctions import plot3d\n",
    "from genderclassifierfunctions import plot2d\n",
    "from genderclassifierfunctions import eigen_decomposition\n",
    "from genderclassifierfunctions import concatenate_result\n",
    "import genderclassifierfunctions\n",
    "from sklearn.decomposition import PCA"
   ]
  },
  {
   "cell_type": "markdown",
   "id": "bb3a3800",
   "metadata": {},
   "source": [
    "### Unzip the file\n",
    "Unzip the file <i>test\\_data.zip</i> in the current directory with password calculated(SHA-256 hash) from the passcode 'welcometotheiconic'.\n",
    "Json file _data.json_ will be extracted to the current directory\n"
   ]
  },
  {
   "cell_type": "code",
   "execution_count": null,
   "id": "77b2acb7",
   "metadata": {},
   "outputs": [],
   "source": [
    "unzipfile('test_data.zip','welcometotheiconic')"
   ]
  },
  {
   "cell_type": "markdown",
   "id": "9ec4bbce",
   "metadata": {},
   "source": [
    "### Load json file as python list and pre-processing\n",
    "For code readability it would be better to put all data cleaning tasks in cleaning step, however for performance/convenience  following pre-processing/cleaning tasks are also executed.\n",
    "-  Removed 249 duplicated records by checking key <i>customer\\_id</i>\n",
    "-  Field <i>coupon_discount_applied</i> is missing for some records, set 0 if missing\n",
    "-  Field <i>is\\_newsletter\\_subscriber</i> has string value Y/N, convert to 1/0 for processing\n"
   ]
  },
  {
   "cell_type": "code",
   "execution_count": null,
   "id": "e7a4d746",
   "metadata": {},
   "outputs": [],
   "source": [
    "keys, datalist = loadjsonfiletolist('data.json')"
   ]
  },
  {
   "cell_type": "markdown",
   "id": "aec8b51a",
   "metadata": {},
   "source": [
    "### Clean the data\n",
    "\n",
    "#### Following corrections are made to the data\n",
    "-  <i>days\\_since\\_last\\_order</i> is in unit of hours, divide it by 24 to get the correctvalue\n",
    "-  <i>average\\_discoun\\t_used</i> is multipliedby 1000, divideby 1000 to get the correctvalue\n",
    "-  Removed 249 duplicated records by checking key <i>customer\\_id</i>\n",
    "-  Field <i>coupon_discount_applied</i> is missing for some records causing data not aligned, set 0 if missing to fix the issue\n",
    "-  Field <i>is\\_newsletter\\_subscriber</i> has string value Y/N, converted to 1/0 for further processing\n",
    "-  _returns_ is rutruned items not returnd orders\n",
    "\n",
    "#### Found following issues/finding in data but no correction is made because not necessary or lack of information\n",
    "\n",
    "-  items in subcategories like wapp_items, wspt_items etc don't add up to the total items, which means some discrepancy in data \n",
    "-  <i>different\\_addresses</i> is a boolean value Ture/False, it probably shows if billing and shipping address are different, it doesn't match the discription in github \"Number of times a different billing and shipping address was used\" https://github.com/theiconic/datascientist \n",
    "-  Same boolean vs integer issue can be found with value <i>cc\\_payments, paypal\\_payments, afterpay\\_payments, apple\\_payments</i> note boolean features are normally not used by k-means clustering\n",
    "-  Extra columns <i>redpen\\_discount\\_used, coupon\\_discount\\_applied<i> are available\n",
    "-  Few customers apprently were buying for resale, their buying pattern may be different\n"
   ]
  },
  {
   "cell_type": "code",
   "execution_count": null,
   "id": "b3e98a38",
   "metadata": {},
   "outputs": [],
   "source": [
    "dataarray = clean(datalist)"
   ]
  },
  {
   "cell_type": "markdown",
   "id": "90ea1e0d",
   "metadata": {},
   "source": [
    " ### Extract and prepare all the needed features\n",
    " - Also normalize each feature because K means is sensitive to variance in data\n",
    " - Categorical values are skipped because K means doesn't work well with them due to only 2 values 0/1\n",
    " - Absolute values are not used, they are more related with how long the customer is with ICONIC and less related with\n",
    "    gender, hence they may do more harm than good\n",
    " - I believe Curvy item has a strong correlation with gender, however they are very right-skewed use np.power(1/6) to\n",
    "    smooth it\n",
    " Full list of selected features as following\n",
    " \n",
    "|Index|Item|\n",
    "|---|---|\n",
    "|\t0\t|\titems/ orders\t|\n",
    "|\t1\t|\tcancels / orders\t|\n",
    "|\t2\t|\treturns / items\t|\n",
    "|\t3\t|\tvoucher / orders\t|\n",
    "|\t4\t|\tfemale_items / (male_items + female_items)\t|\n",
    "|\t5\t|\tmale_items / (male_items + female_items)\t|\n",
    "|\t6\t|\tunisex_items / items\t|\n",
    "|\t7\t|\twapp_items / items\t|\n",
    "|\t8\t|\twftw_items / items\t|\n",
    "|\t9\t|\tmapp_items / items\t|\n",
    "|\t10\t|\twacc_items / items\t|\n",
    "|\t11\t|\tmacc_items / items\t|\n",
    "|\t12\t|\tmftw_items / items\t|\n",
    "|\t13\t|\twspt_items / items\t|\n",
    "|\t14\t|\tmspt_items / items\t|\n",
    "|\t15\t|\tcurvy_items / items (smoothed)\t|\n",
    "|\t16\t|\tsacc_items / items\t|\n",
    "|\t17\t|\tmsite_orders / orders\t|\n",
    "|\t18\t|\tdesktop_orders / orders\t|\n",
    "|\t19\t|\tandroid_orders / orders\t|\n",
    "|\t20\t|\tios_orders / orders\t|\n",
    "|\t21\t|\tother_device_orders / orders\t|\n",
    "|\t22\t|\twork_orders / orders\t|\n",
    "|\t23\t|\thome_orders / orders\t|\n",
    "|\t24\t|\tparcelpoint_orders / orders\t|\n",
    "|\t25\t|\tother_collection_orders / orders\t|\n",
    "|\t26\t|\taverage_discount_onoffer |\n",
    "|\t27\t|\taverage_discount_used |\n",
    "|\t28\t|\trevenue / order\t|\n"
   ]
  },
  {
   "cell_type": "code",
   "execution_count": null,
   "id": "84d9cc0d",
   "metadata": {},
   "outputs": [],
   "source": [
    "allfeatures = feature_processing(dataarray)"
   ]
  },
  {
   "cell_type": "markdown",
   "id": "14ab8d70",
   "metadata": {},
   "source": [
    "### The Ensemble Learning Model with K-means base\n",
    "For this problem I choose an Ensemble Learning approach:\n",
    "-  3 different models are used to do the clustering and combiend to give the final result. (i.e. final label needs to get at least 2 votes from 3 classifiers)\n",
    "-  Model 1: K-means with gender related features\n",
    "-  Model 2: K-means with gender related features and cost effective items like discount rate, cancel/order\n",
    "-  Model 3: Mini Batch K-means with gender related features plus payment method and shipment related features"
   ]
  },
  {
   "cell_type": "markdown",
   "id": "55676f73",
   "metadata": {},
   "source": [
    "### Model 1: K-means\n",
    "\n",
    "#### The K means classifier\n",
    "-  Clustering assign random labels to female (0 or 1), the prior knowledge tells us males < half of the samples, I use the knowledge to assign 0 to female, 1 to male\n",
    "\n",
    "#### The features \n",
    "-  I selected gender and discountrelated features from all features as base, because we have the prior knowledge that these are good indicators\n",
    "-  By eigen decomposition I can see a few features either has too much unintended contribution or negative contribution. They are removed. e.g. parcel shipment features being the biggest contributor or male items not contribute to male gender labeling\n",
    "-  Following are the features\n",
    "\n",
    "|Index|Item|\n",
    "|---|---|\n",
    "|\t0\t|\tmale_items / (male_items + female_items)|\n",
    "|\t1\t|\twapp_items / items|\n",
    "|\t2\t|\twftw_items / items|\n",
    "|\t3\t|\tmapp_items / items|\n",
    "|\t4\t|\twacc_items / items|\n",
    "|\t5\t|\tmacc_items / items|\n",
    "|\t6\t|\tmftw_items / items|\n",
    "|\t7\t|\tcurvy_items / items|\n",
    "|\t8\t|\taverage_discount_onoffer |\n",
    "|\t9\t|\taverage_discount_used |"
   ]
  },
  {
   "cell_type": "code",
   "execution_count": null,
   "id": "69546dea",
   "metadata": {},
   "outputs": [],
   "source": [
    "featureClassifier1 = feature_selection_classifier_1(allfeatures)\n",
    "result_1_kmeans = kmeans_classification(2, featureClassifier1)"
   ]
  },
  {
   "cell_type": "markdown",
   "id": "c9bfa39a",
   "metadata": {},
   "source": [
    "### Model 2: K-means\n",
    "\n",
    "#### The K means classifier\n",
    "-  Clustering assign random labels to female (0 or 1), the prior knowledge tells us males < half of the samples, I use the knowledge to assign 0 to female, 1 to male\n",
    "\n",
    "#### The features \n",
    "-  I selected gender related features plus cost effective items like discount rate, cancel/order from all features\n",
    "-  By eigen decomposition I can see a few features either has too much unintended contribution or negative contribution. They are removed. e.g. parcel shipment features being the biggest contributor or male items not contribute to male gender labeling\n",
    "-  Following are the features\n",
    "\n",
    "|Index|Item|\n",
    "|---|---|\n",
    "|\t0\t|\titems/ orders\t|\n",
    "|\t1\t|\tcancels / orders\t|\n",
    "|\t2\t|\treturns / items\t|\n",
    "|\t3\t|\tvoucher / orders\t|\n",
    "|\t4\t|\tmale_items / (male_items + female_items)\t|\n",
    "|\t5\t|\twapp_items / items\t|\n",
    "|\t6\t|\twftw_items / items\t|\n",
    "|\t7\t|\tmapp_items / items\t|\n",
    "|\t8\t|\twacc_items / items\t|\n",
    "|\t9\t|\tmacc_items / items\t|\n",
    "|\t10\t|\tmftw_items / items\t|\n",
    "|\t11\t|\tmspt_items / items\t|\n",
    "|\t12\t|\tcurvy_items / items\t|\n",
    "|\t13\t|\taverage_discount_onoffer |\n",
    "|\t14\t|\taverage_discount_used |\n",
    "|\t15\t|\trevenue / order\t|\n"
   ]
  },
  {
   "cell_type": "code",
   "execution_count": null,
   "id": "92983d0c",
   "metadata": {},
   "outputs": [],
   "source": [
    "featureClassifier2 = feature_selection_classifier_2(allfeatures)\n",
    "result_2_kmeans = kmeans_classification(2, featureClassifier2)"
   ]
  },
  {
   "cell_type": "markdown",
   "id": "0fb9da19",
   "metadata": {},
   "source": [
    "### Model 3: Mini Batch K-means\n",
    "\n",
    "#### The Mini Batch K means classifier\n",
    "-  Mini Batch K-means has been proposed as an alternative to the K-means algorithm for clustering massive datasets. The advantage of this algorithm is to reduce the computational cost by not using all the dataset each iteration but a subsample of a fixed size\n",
    "\n",
    "#### The features \n",
    "-  I selected gender and discount related features plus payment method and shipment related features from all features\n",
    "-  By eigen decomposition I can see a few features either has too much unintended contribution or negative contribution. They are removed. e.g. parcel shipment features being the biggest contributor or male items not contribute to male gender labeling\n",
    "-  Following are the features\n",
    "\n",
    "|Index|Item|\n",
    "|---|---|\n",
    "|\tIndex\t|\tItem\t|\n",
    "|\t0\t|\tfemale_items / items\t|\n",
    "|\t1\t|\tmale_items / items\t|\n",
    "|\t2\t|\twapp_items / items\t|\n",
    "|\t3\t|\twftw_items / items\t|\n",
    "|\t4\t|\tmapp_items / items\t|\n",
    "|\t5\t|\twacc_items / items\t|\n",
    "|\t6\t|\tmacc_items / items\t|\n",
    "|\t7\t|\tmftw_items / items\t|\n",
    "|\t8\t|\tcurvy_items / items\t|\n",
    "|\t9\t|\tmsite_orders / orders\t|\n",
    "|\t10\t|\tdesktop_orders / orders\t|\n",
    "|\t11\t|\tandroid_orders / orders\t|\n",
    "|\t12\t|\tios_orders / orders\t|\n",
    "|\t13\t|\tother_device_orders / orders\t|\n",
    "|\t14\t|\thome_orders / orders\t|\n",
    "|\t15\t|\tother_collection_orders / orders\t|\n",
    "|\t16\t|\taverage_discount_onoffer |\n",
    "|\t17\t|\taverage_discount_used |\n"
   ]
  },
  {
   "cell_type": "code",
   "execution_count": null,
   "id": "1bd0af67",
   "metadata": {},
   "outputs": [],
   "source": [
    "featureClassifier3 = feature_selection_classifier_3(allfeatures)\n",
    "pcaResult = PCA(n_components=5).fit(featureClassifier3).transform(featureClassifier3)\n",
    "result_3_mbk = minibatchkmeans_classifier(2, featureClassifier3)"
   ]
  },
  {
   "cell_type": "markdown",
   "id": "ef3073f7",
   "metadata": {},
   "source": [
    "### Final Model: Unsupervised ensemble learning\n",
    "-  Final label needs to get at least 2 votes from 3 classifiers (female = 0, male = 1)"
   ]
  },
  {
   "cell_type": "code",
   "execution_count": null,
   "id": "910957a8",
   "metadata": {},
   "outputs": [],
   "source": [
    "final_result = (result_1_kmeans + result_1_kmeans + result_3_mbk)\n",
    "final_result = [1 if row > 1 else 0 for row in final_result]\n",
    "print(\"First 30 final results female = 0\")\n",
    "print(*final_result[:30])"
   ]
  },
  {
   "cell_type": "markdown",
   "id": "a4bd6240",
   "metadata": {},
   "source": [
    "### Print result to csv file _GenderLabelingFinal.csv_ for easy evaluation"
   ]
  },
  {
   "cell_type": "code",
   "execution_count": null,
   "id": "cf909e3e",
   "metadata": {},
   "outputs": [],
   "source": [
    "resultkeys, resultdata = concatenate_result(keys, datalist, \"gender(female=0)\", final_result)\n",
    "writecsvfile('GenderLabellingFinal.csv', resultkeys, resultdata)"
   ]
  },
  {
   "cell_type": "markdown",
   "id": "2c1aa9a2",
   "metadata": {},
   "source": [
    "### Plot final result in 2D with first 2 components of PCA"
   ]
  },
  {
   "cell_type": "code",
   "execution_count": null,
   "id": "8b9b2629",
   "metadata": {},
   "outputs": [],
   "source": [
    "plot2d(pcaResult, final_result, 0, 1)"
   ]
  },
  {
   "cell_type": "markdown",
   "id": "19633890",
   "metadata": {},
   "source": [
    "### A bit fancier,  plot final result in 3D with first 3 components of PCA"
   ]
  },
  {
   "cell_type": "code",
   "execution_count": null,
   "id": "07e639d7",
   "metadata": {},
   "outputs": [],
   "source": [
    "plot3d(pcaResult, final_result, 0, 1, 2)"
   ]
  },
  {
   "cell_type": "markdown",
   "id": "4aeedef6",
   "metadata": {},
   "source": [
    "### Result Analysis: Feature contribution:\n",
    "\n",
    "I use eigendecomposition to find which features contribute most to the clustering result, which helped to select the features and understand the result\n",
    "\n",
    "eigen value decomposition\n",
    "    $$ A \\overrightarrow{v} = \\lambda \\overrightarrow{v} $$\n",
    "The eigenvectors $ \\overrightarrow{v} $ shows how much each feature contribute(weight) to the linear transformation. Since eigenvalue $ \\lambda $ are sorted, we can see the weight of each feature's impact in the descending order\n",
    "\n",
    "Following diagram shows the first and second components of PCA of features of classifier 1, e.g. we can see the feature 0: male_items / (male_items + female_items) contribute positivly to first component.\n",
    "\n",
    "Other features like average_discount_onoffer/orders or payment/shipment related features also contributes to the final result expecially when gender related features provide neutral information\n",
    "\n",
    "By manually checking the result, I noticed around 200 to 500 lables may be incorrect, for example about 6 customers bought Curvy items which suggested they might be femals but the classification shows otherwise."
   ]
  },
  {
   "cell_type": "code",
   "execution_count": null,
   "id": "f4b2ce4f",
   "metadata": {},
   "outputs": [],
   "source": [
    "eigen_decomposition(featureClassifier1, range(featureClassifier1.shape[1]))"
   ]
  },
  {
   "cell_type": "markdown",
   "id": "68a0da0d",
   "metadata": {},
   "source": [
    "### Recommendation of extra features\n",
    "1. Colour of items (expecially for unisex items)\n",
    "2. Size of items\n",
    "3. Customer's name/nick name/email address\n",
    "4. Brand of items\n",
    "5. Search history\n"
   ]
  },
  {
   "cell_type": "markdown",
   "id": "0acedcd4",
   "metadata": {},
   "source": [
    "### Appendix: Python Documentation\n",
    "For the detailed documentation of all functions in file _genderclassifierfunctions.py_ please run"
   ]
  }
 ],
 "metadata": {},
 "nbformat": 4,
 "nbformat_minor": 5
}
