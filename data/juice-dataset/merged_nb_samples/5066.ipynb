{
 "cells": [
  {
   "cell_type": "markdown",
   "id": "605aa678",
   "metadata": {},
   "source": [
    "* Total questions: 52,060\n",
    "* Total answers: 55,304\n",
    "* Top 99 users' average reputation: 11893.464646464647"
   ]
  },
  {
   "cell_type": "code",
   "execution_count": null,
   "id": "131043ae",
   "metadata": {},
   "outputs": [],
   "source": [
    "from lxml import etree\n",
    "def parse(data, attr):\n",
    "    try:\n",
    "        root = etree.fromstring(data)\n",
    "        target = root.attrib.get(attr)\n",
    "    except:\n",
    "        return False\n",
    "    return(target)"
   ]
  },
  {
   "cell_type": "code",
   "execution_count": null,
   "id": "340c65c4",
   "metadata": {},
   "outputs": [],
   "source": [
    "posts = data3\n",
    "users = sc.textFile(localpath('spark-stats-data/allUsers/'))"
   ]
  },
  {
   "cell_type": "code",
   "execution_count": null,
   "id": "23610346",
   "metadata": {},
   "outputs": [],
   "source": [
    "good_users = users.map(lambda x: (parse(x, 'Reputation'),parse(x, 'AccountId'))) \\\n",
    "     .sortByKey(ascending = False) \\\n",
    "     .take(99)\n",
    "\n",
    "good_users = sc.parallelize(good_users)"
   ]
  },
  {
   "cell_type": "code",
   "execution_count": null,
   "id": "15807064",
   "metadata": {},
   "outputs": [],
   "source": [
    "postsByUsers = good_users.join(posts)"
   ]
  },
  {
   "cell_type": "code",
   "execution_count": null,
   "id": "02dedffe",
   "metadata": {},
   "outputs": [],
   "source": [
    "good_users.count()"
   ]
  },
  {
   "cell_type": "code",
   "execution_count": null,
   "id": "749d5e98",
   "metadata": {},
   "outputs": [],
   "source": [
    "def answer_percentage():\n",
    "    return [(7071, 0.9107142857142857)] * 100\n",
    "\n",
    "grader.score(question_name='spark__answer_percentage', func=answer_percentage)"
   ]
  },
  {
   "cell_type": "markdown",
   "id": "6aadd7aa",
   "metadata": {},
   "source": [
    "## Post counts\n"
   ]
  },
  {
   "cell_type": "markdown",
   "id": "b92676f4",
   "metadata": {},
   "source": [
    "If we use the total number of posts made on the site as a metric for tenure, we can look at the differences between \"younger\" and \"older\" users. You can imagine there might be many interesting features - for now just return the top 100 post counts among all users (of all types of posts) and the average reputation for every user who has that count.\n",
    "\n",
    "In other words, aggregate the cases where multiple users have the same post count.\n"
   ]
  },
  {
   "cell_type": "markdown",
   "id": "a6408f76",
   "metadata": {},
   "source": [
    "#### Checkpoints"
   ]
  },
  {
   "cell_type": "markdown",
   "id": "0c6bf638",
   "metadata": {},
   "source": [
    "* Mean of top 100 post counts: 281.51"
   ]
  },
  {
   "cell_type": "code",
   "execution_count": null,
   "id": "73956d76",
   "metadata": {},
   "outputs": [],
   "source": [
    "def post_counts():\n",
    "    return [(118, 3736.5)] * 100\n",
    "\n",
    "grader.score(question_name='spark__post_counts', func=post_counts)"
   ]
  },
  {
   "cell_type": "markdown",
   "id": "b48d9c8c",
   "metadata": {},
   "source": [
    "## Quick answers\n"
   ]
  },
  {
   "cell_type": "markdown",
   "id": "45c433c0",
   "metadata": {},
   "source": [
    "How long do you have to wait to get your question answered? Look at the set of ACCEPTED answers which are posted less than three hours after question creation. What is the average number of these \"quick answers\" as a function of the hour of day the question was asked? You should normalize by how many total accepted answers are garnered by questions posted in a given hour, just like we're counting how many quick accepted answers are garnered by questions posted in a given hour, eg. (quick accepted answers when question hour is 15 / total accepted answers when question hour is 15).\n",
    "\n",
    "Return a list, whose *i*th element correspond to *i*th hour (e.g. 0 -> midnight, 1 -> 1:00, etc.)\n",
    "\n",
    "*Note*: When using the `SimpleDateFormat` class in Scala, it's important to account for your machine's local time zone. Our policy will be to use GMT: `hourFormat.setTimeZone(TimeZone.getTimeZone(\"GMT\"))`\n",
    "\n",
    "*Consider*: What biases are present in our result that we don't account for? How should we handle this?\n"
   ]
  },
  {
   "cell_type": "markdown",
   "id": "3b3ef9c6",
   "metadata": {},
   "source": [
    "* Total quick accepted answers: 8,468\n",
    "* Total accepted answers: 17,096"
   ]
  },
  {
   "cell_type": "code",
   "execution_count": null,
   "id": "c82c3eaa",
   "metadata": {},
   "outputs": [],
   "source": [
    "downvotes.count()"
   ]
  },
  {
   "cell_type": "code",
   "execution_count": null,
   "id": "01004f80",
   "metadata": {},
   "outputs": [],
   "source": [
    "fav_up = favorites.join(upvotes) \\\n",
    "                  .map(lambda x: (x[1][0],x[1][1])) \\\n",
    "                  .reduceByKey(lambda x,y: x+y)\n",
    "\n",
    "fav_down = favorites.join(downvotes) \\\n",
    "                  .map(lambda x: (x[1][0],x[1][1])) \\\n",
    "                  .reduceByKey(lambda x,y: x+y)\n"
   ]
  },
  {
   "cell_type": "code",
   "execution_count": null,
   "id": "a95fe655",
   "metadata": {},
   "outputs": [],
   "source": [
    "fav_down.take(1)"
   ]
  },
  {
   "cell_type": "code",
   "execution_count": null,
   "id": "78620121",
   "metadata": {},
   "outputs": [],
   "source": [
    "ratio_by_fav = fav_up.fullOuterJoin(fav_down) \\\n",
    "              .map(lambda x: (x[0], (0 if x[1][0] == None else x[1][0], 0 if x[1][1] == None else x[1][1]))) \\\n",
    "              .map(lambda x: (x[0],x[1][0]*1.0/(x[1][0]+x[1][1]))) \\\n",
    "              .sortByKey()\n"
   ]
  },
  {
   "cell_type": "code",
   "execution_count": null,
   "id": "1ea052b6",
   "metadata": {},
   "outputs": [],
   "source": [
    "ratio_by_fav.count()"
   ]
  },
  {
   "cell_type": "code",
   "execution_count": null,
   "id": "9c55386f",
   "metadata": {},
   "outputs": [],
   "source": [
    "ratio.takeOrdered(50, key = lambda x: x[0])"
   ]
  },
  {
   "cell_type": "code",
   "execution_count": null,
   "id": "b0e52ab2",
   "metadata": {},
   "outputs": [],
   "source": [
    "def upvote_percentage():\n",
    "    return ratio_by_fav.takeOrdered(50, key = lambda x: x[0])\n",
    "    #return [(20, 0.9952153110047847)] * 50\n",
    "\n",
    "grader.score(question_name='spark__upvote_percentage', func=upvote_percentage)"
   ]
  },
  {
   "cell_type": "code",
   "execution_count": null,
   "id": "5c82b48d",
   "metadata": {},
   "outputs": [],
   "source": [
    "from lxml import etree\n",
    "x = votes3.take(1)\n",
    "str(x)[-1]\n",
    "root = etree.fromstring(str(x)[5:-2])"
   ]
  },
  {
   "cell_type": "markdown",
   "id": "4fbda1f2",
   "metadata": {},
   "source": [
    "## Answer percentage\n"
   ]
  },
  {
   "cell_type": "markdown",
   "id": "039b40b2",
   "metadata": {},
   "source": [
    "Investigate the correlation between a user's reputation and the kind of posts they make. For the 99 users with the highest reputation, single out posts which are either questions or answers and look at the percentage of these posts that are answers: *(answers / (answers + questions))*. \n",
    "\n",
    "Return a tuple of their **user ID** and this fraction.\n",
    "\n",
    "You should also return (-1, fraction) to represent the case where you average over all users (so you will return 100 entries total).\n",
    "\n",
    "Again, you only need to run this on the statistics overflow set.\n"
   ]
  },
  {
   "cell_type": "code",
   "execution_count": null,
   "id": "a0d9d32c",
   "metadata": {},
   "outputs": [],
   "source": [
    "def quick_answers():\n",
    "    return [0.] * 24\n",
    "\n",
    "grader.score(question_name='spark__quick_answers', func=quick_answers)"
   ]
  },
  {
   "cell_type": "markdown",
   "id": "8ae83b8e",
   "metadata": {},
   "source": [
    "## Quick answers&mdash;full\n"
   ]
  },
  {
   "cell_type": "markdown",
   "id": "9dfc8cb4",
   "metadata": {},
   "source": [
    "Same as above, but on the full Stack Exchange data set.\n",
    "\n",
    "No pre-parsed data is available for this question.\n"
   ]
  },
  {
   "cell_type": "markdown",
   "id": "88359657",
   "metadata": {},
   "source": [
    "* Total quick accepted answers: 3,700,224\n",
    "* Total accepted answers: 5,086,888"
   ]
  },
  {
   "cell_type": "markdown",
   "id": "969e710e",
   "metadata": {},
   "source": [
    "## Bad XML\n"
   ]
  },
  {
   "cell_type": "markdown",
   "id": "7aaa52b8",
   "metadata": {},
   "source": [
    "A simple question to test your parsing code. Create an RDD of Post objects where each Post is a valid row of XML from the Cross-Validated (stats.stackexchange.com) `allPosts` data set.\n",
    "\n",
    "We are going to take several shortcuts to speed up and simplify our computations.  First, your parsing function to only attempt to parse rows that start with `  <row` as these denote actual data entries. This should be done in Spark as the data is being read in from disk, without any pre-Spark processing. \n",
    "\n",
    "Return the total number XML rows that started with ` <row` that were subsequently **rejected** during your processing.  Note that the text is unicode, and contains non-ASCII characters.  You may need to re-encode to UTF-8 (depending on your XML parser)\n",
    "\n",
    "Note that this cleaned data set will be used for all subsequent questions.\n",
    "\n",
    "*Question*: Can you figure out what filters you need to put in place to avoid throwing parsing errors entirely?"
   ]
  },
  {
   "cell_type": "code",
   "execution_count": null,
   "id": "56d5c83b",
   "metadata": {},
   "outputs": [],
   "source": [
    "from pyspark import SparkContext\n",
    "sc = SparkContext(\"local[*]\", \"temp\")"
   ]
  },
  {
   "cell_type": "code",
   "execution_count": null,
   "id": "0161dbd4",
   "metadata": {},
   "outputs": [],
   "source": [
    "import os, time\n",
    "def localpath(path):\n",
    "    return 'file://' + os.path.join(os.path.abspath(os.path.curdir), path)"
   ]
  },
  {
   "cell_type": "code",
   "execution_count": null,
   "id": "ee3db81b",
   "metadata": {},
   "outputs": [],
   "source": [
    "data = sc.textFile(localpath('spark-stats-data/allPosts/'))"
   ]
  },
  {
   "cell_type": "code",
   "execution_count": null,
   "id": "e5c4abea",
   "metadata": {},
   "outputs": [],
   "source": [
    "def goodStart(line):\n",
    "    line = line.strip()\n",
    "    if line[:4] == '<row':\n",
    "        return True\n",
    "    return False\n",
    "\n",
    "def goodEnd(line):\n",
    "    line = line.strip()\n",
    "    if line[-2:] == '/>':\n",
    "        return True\n",
    "    return False\n",
    "    \n",
    "x = '    <row AcceptedAnswerId=\"1'\n",
    "goodEnd(x)"
   ]
  },
  {
   "cell_type": "code",
   "execution_count": null,
   "id": "3bb1eae1",
   "metadata": {},
   "outputs": [],
   "source": [
    "data2 = data.filter(lambda x: goodStart(x))\n",
    "data3 = data2.filter(lambda x: goodEnd(x))  # use this for all questions\n",
    "data2.count() - data3.count()\n",
    "data3.count()"
   ]
  },
  {
   "cell_type": "code",
   "execution_count": null,
   "id": "1ffac412",
   "metadata": {},
   "outputs": [],
   "source": [
    "def bad_xml():\n",
    "    return 781\n",
    "\n",
    "grader.score(question_name='spark__bad_xml', func=bad_xml)"
   ]
  },
  {
   "cell_type": "markdown",
   "id": "3792d5fb",
   "metadata": {},
   "source": [
    "## Upvote percentage\n"
   ]
  },
  {
   "cell_type": "markdown",
   "id": "ba82f8dd",
   "metadata": {},
   "source": [
    "Each post on Stack Exchange can be upvoted, downvoted, and favorited. One \"sanity check\" we can do is to look at the ratio of upvotes to downvotes (referred to as `UpMod` and `DownMod` in the schema) as a function of how many times the post has been favorited.\n",
    "\n",
    "You might hypothesize, for example, that posts with more favorites should have a higher upvote/downvote ratio.\n",
    "\n",
    "Instead of looking at individual posts, we'll aggregate across number of favorites by using the post's number of favorites as our key. Since we're computing ratios, bundling together all posts with the same number of favorites effectively averages over them.  Calculate the average percentage of upvotes *(upvotes / (upvotes + downvotes))* for the smallest 50 **keys**.\n",
    "\n",
    "Do the analysis on the smaller Cross-Validated data set.\n"
   ]
  },
  {
   "cell_type": "markdown",
   "id": "57b554d7",
   "metadata": {},
   "source": [
    "* Total upvotes: 313,819\n",
    "* Total downvotes: 13,019\n",
    "* Mean of first 50 keys (averaging the keys themselves): 24.76"
   ]
  },
  {
   "cell_type": "code",
   "execution_count": null,
   "id": "d013045b",
   "metadata": {},
   "outputs": [],
   "source": [
    "def quick_answers_full():\n",
    "    return [0.] * 24\n",
    "\n",
    "grader.score(question_name='spark__quick_answers_full', func=quick_answers_full)"
   ]
  },
  {
   "cell_type": "markdown",
   "id": "79d993bf",
   "metadata": {},
   "source": [
    "## Identify veterans\n"
   ]
  },
  {
   "cell_type": "markdown",
   "id": "5377a1cc",
   "metadata": {},
   "source": [
    "It can be interesting to think about what factors influence a user to remain active on the site over a long period of time. In order not to bias the results towards older users, we'll define a time window between 100 and 150 days after account creation. If the user has made a post in this time, we'll consider them active and well on their way to being veterans of the site; if not, they are inactive and were likely brief users.\n",
    "\n",
    "*Consider*: What other parameterizations of \"activity\" could we use, and how would they differ in terms of splitting our user base?\n",
    "\n",
    "*Consider*: What other biases are still not dealt with, after using the above approach?\n",
    "\n",
    "Let's see if there are differences between the first ever question posts of \"veterans\" vs. \"brief users\". For each group separately, average the score, views, number of answers, and number of favorites of the users' **first question**.\n",
    "\n",
    "*Consider*: What story could you tell from these numbers? How do the numbers support it?\n"
   ]
  },
  {
   "cell_type": "markdown",
   "id": "657e440c",
   "metadata": {},
   "source": [
    "* Total brief users: 24,864\n",
    "* Total veteran users: 2,027"
   ]
  },
  {
   "cell_type": "code",
   "execution_count": null,
   "id": "d19ea71d",
   "metadata": {},
   "outputs": [],
   "source": [
    "def identify_veterans():\n",
    "    return {\"vet_score\": 0,\n",
    "            \"vet_views\": 0,\n",
    "            \"vet_answers\": 0,\n",
    "            \"vet_favorites\": 0,\n",
    "            \"brief_score\": 0,\n",
    "            \"brief_views\": 0,\n",
    "            \"brief_answers\": 0,\n",
    "            \"brief_favorites\": 0\n",
    "           }\n",
    "\n",
    "grader.score(question_name='spark__identify_veterans', func=identify_veterans)"
   ]
  },
  {
   "cell_type": "markdown",
   "id": "8b17da1c",
   "metadata": {},
   "source": [
    "## Identify veterans&mdash;full\n"
   ]
  },
  {
   "cell_type": "markdown",
   "id": "fe55c2d9",
   "metadata": {},
   "source": [
    "* Total brief users: 1,848,628\n",
    "* Total veteran users: 288,285"
   ]
  },
  {
   "cell_type": "code",
   "execution_count": null,
   "id": "82b5d1ee",
   "metadata": {},
   "outputs": [],
   "source": [
    "def identify_veterans_full():\n",
    "    return {\"vet_score\": 0,\n",
    "            \"vet_views\": 0,\n",
    "            \"vet_answers\": 0,\n",
    "            \"vet_favorites\": 0,\n",
    "            \"brief_score\": 0,\n",
    "            \"brief_views\": 0,\n",
    "            \"brief_answers\": 0,\n",
    "            \"brief_favorites\": 0\n",
    "           }\n",
    "\n",
    "grader.score(question_name='spark__identify_veterans_full', func=identify_veterans_full)"
   ]
  },
  {
   "cell_type": "markdown",
   "id": "0f016172",
   "metadata": {},
   "source": [
    "## Word2vec\n"
   ]
  },
  {
   "cell_type": "markdown",
   "id": "2fa30327",
   "metadata": {},
   "source": [
    "Word2Vec is an alternative approach for vectorizing text data. The vectorized representations of words in the vocabulary tend to be useful for predicting other words in the document, hence the famous example \"vector('king') - vector('man') + vector('woman') ~= vector('queen')\".\n",
    "\n",
    "Let's see how good a Word2Vec model we can train using the tags of each Stack Exchange post as documents (this uses the full data set). Use the implementation of Word2Vec from Spark ML (this will require using DataFrames) to return a list of the top 25 closest synonyms to \"ggplot2\" and their similarity score in tuple format (\"string\", number).\n"
   ]
  },
  {
   "cell_type": "markdown",
   "id": "fdc3e024",
   "metadata": {},
   "source": [
    "#### Parameters\n"
   ]
  },
  {
   "cell_type": "markdown",
   "id": "52f06591",
   "metadata": {},
   "source": [
    "The dimensionality of the vector space should be 100. The random seed should be 42L.\n"
   ]
  },
  {
   "cell_type": "markdown",
   "id": "e17980b2",
   "metadata": {},
   "source": [
    "* Mean of the top 25 cosine similarities: 0.7785175901170094"
   ]
  },
  {
   "cell_type": "markdown",
   "id": "c987ea89",
   "metadata": {},
   "source": [
    "## Accessing the data\n"
   ]
  },
  {
   "cell_type": "markdown",
   "id": "15b2a6ba",
   "metadata": {},
   "source": [
    "The data is available on S3 (s3://dataincubator-course/spark-stack-data). There are three sub-folders, `allUsers`, `allPosts`, and `allVotes`, which contain Gzipped XML with the following format:\n",
    "\n",
    "```\n",
    "<row Body=\"&lt;p&gt;I always validate my web pages, and I recommend you do the same BUT many large company websites DO NOT and cannot validate because the importance of the website looking exactly the same on all systems requires rules to be broken. &lt;/p&gt;&#10;&#10;&lt;p&gt;In general, valid websites help your page look good even on odd configurations (like cell phones) so you should always at least try to make it validate.&lt;/p&gt;&#10;\" CommentCount=\"0\" CreationDate=\"2008-10-12T20:26:29.397\" Id=\"195995\" LastActivityDate=\"2008-10-12T20:26:29.397\" OwnerDisplayName=\"Eric Wendelin\" OwnerUserId=\"25066\" ParentId=\"195973\" PostTypeId=\"2\" Score=\"0\" />\n",
    "```\n",
    "\n",
    "Data from the much smaller stats.stackexchange.com is available in the same format on S3 (s3://dataincubator-course/spark-stats-data). This site, Cross-Validated, will be used below in some instances to avoid working with the full data set for every question.\n",
    "\n",
    "The full schema is available as a text file:"
   ]
  },
  {
   "cell_type": "code",
   "execution_count": null,
   "id": "da6e3863",
   "metadata": {},
   "outputs": [],
   "source": [
    "!aws s3 cp s3://dataincubator-course/spark-stats-data/stack_exchange_schema.txt ."
   ]
  },
  {
   "cell_type": "markdown",
   "id": "f2559487",
   "metadata": {},
   "source": [
    "You can either get the data by running the appropriate S3 commands in the terminal, or by running this block for the smaller stats data set:"
   ]
  },
  {
   "cell_type": "code",
   "execution_count": null,
   "id": "4327f9a8",
   "metadata": {},
   "outputs": [],
   "source": [
    "!mkdir -p spark-stats-data\n",
    "!aws s3 sync --exclude '*' --include 'all*' s3://dataincubator-course/spark-stats-data/ ./spark-stats-data\n",
    "!aws s3 sync --exclude '*' --include 'posts*zip' s3://dataincubator-course/spark-stats-data/ ./spark-stats-data"
   ]
  },
  {
   "cell_type": "markdown",
   "id": "1fb1fbbb",
   "metadata": {},
   "source": [
    "And to get the much larger full data set (be warned, this can take 20 or more minutes, so you may want to run it in the terminal to avoid locking up the notebook):"
   ]
  },
  {
   "cell_type": "code",
   "execution_count": null,
   "id": "997815de",
   "metadata": {},
   "outputs": [],
   "source": [
    "!mkdir -p spark-stack-data\n",
    "!aws s3 sync --exclude '*' --include 'all*' s3://dataincubator-course/spark-stack-data/ ./spark-stack-data"
   ]
  },
  {
   "cell_type": "markdown",
   "id": "2b508700",
   "metadata": {},
   "source": [
    "## Data input and parsing\n"
   ]
  },
  {
   "cell_type": "markdown",
   "id": "80ba7be4",
   "metadata": {},
   "source": [
    "Some rows are split across multiple lines; these can be discarded. Incorrectly formatted XML can also be ignored. It is enough to simply skip problematic rows, the loss of data will not significantly impact our results on this large data sets.\n",
    "\n",
    "You will need to handle XML parsing yourself using the `\\` selector in Scala or something like `lxml.etree` in Python. *Warning*: The built-in `xml.etree.ElementTree` behaves differently and the results don't correspond perfectly with the Scala equivalent.\n",
    "\n",
    "To make your code more flexible, it's also recommended to incorporate command-line arguments that specify the location of the input data and where output should be written.\n",
    "\n",
    "The goal should be to have a parsing function that can be applied to the input data to access any XML element desired. It is suggested to use a class structure so that you can create RDDs of Posts, Votes, Users, etc.\n",
    "\n",
    "``` scala\n",
    "// Command line arguments in Scala\n",
    "\n",
    "object Main {\n",
    " def main(args: Array[String]) {\n",
    "   val inputDir = args(0)\n",
    "   val outputDir = args(1)\n",
    "   ...\n",
    "```\n",
    "\n",
    "``` python\n",
    "\n",
    "# Command line arguments using sysv or argparse in Python\n",
    "\n",
    "if __name__ == '__main__':\n",
    "    main(ARGS.input_dir, ARGS.output_dir)\n",
    "```\n",
    "\n",
    "Dates are parsed by default using the Long data type and Unix time (epoch time). In Java/Scala, a given timestamp represents the number of milliseconds since 1970-01-01T00:00:00Z. Also be wary of integer overflow when dealing with Longs. For example, these two are not equal:\n",
    "\n",
    "`val year: Long = 365 * 24 * 60 * 60 * 1000`\n",
    "\n",
    "`val year: Long = 365 * 24 * 60 * 60 * 1000L`"
   ]
  },
  {
   "cell_type": "markdown",
   "id": "ea5f3474",
   "metadata": {},
   "source": [
    "## Questions"
   ]
  },
  {
   "cell_type": "code",
   "execution_count": null,
   "id": "9f350db7",
   "metadata": {},
   "outputs": [],
   "source": [
    "def word2vec():\n",
    "    return [(\"data.frame\", 0.7900882217638416)] * 25\n",
    "\n",
    "grader.score(question_name='spark__word2vec', func=word2vec)"
   ]
  },
  {
   "cell_type": "markdown",
   "id": "8980b4a9",
   "metadata": {},
   "source": [
    "## Classification\n"
   ]
  },
  {
   "cell_type": "markdown",
   "id": "1c369056",
   "metadata": {},
   "source": [
    "We'd like to see if we can predict the tags of a question from its body text. Technically this is a multi-label classification problem, but to simplify things we'll use a one-vs-all approach where we choose the top k most common tags and train k binary classifiers where the labels indicate the presence or absence of that tag.\n",
    "\n",
    "Use a logistic regression model as your classifier.\n",
    "\n",
    "Since we can't reliably save and load models, return a list of 100 tuples (\"string\", [number, number, number,...]) where \"string\" is the tag and the numbers are your model's predicted probabilities for class 0 (eg. 0.2 means a prediction that the tag is present) across the test set.\n",
    "\n",
    "Note that this will require some digging into the result DataFrame to extract.\n",
    "The length of these probability lists is equal to the length of the test set: 4649.\n"
   ]
  },
  {
   "cell_type": "markdown",
   "id": "c5ecccb2",
   "metadata": {},
   "source": [
    "* The training and tests sets were downloaded with the stats data at the beginning of the notebook.  You can also get them from S3:\n",
    "  * s3://dataincubator-course/spark-stats-data/posts_train.zip\n",
    "  * s3://dataincubator-course/spark-stats-data/posts_test.zip\n",
    "* Tokenize the body text into words\n",
    "* number of tags to consider k = 100"
   ]
  }
 ],
 "metadata": {},
 "nbformat": 4,
 "nbformat_minor": 5
}
