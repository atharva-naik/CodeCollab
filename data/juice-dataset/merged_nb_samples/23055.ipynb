{
 "cells": [
  {
   "cell_type": "markdown",
   "id": "4b4ee7c4",
   "metadata": {},
   "source": [
    "# Tutorial on Satellite Image Processing using Python and GDAL\n",
    "\n",
    "## Introduction\n",
    "\n",
    "This tutorial is an introduction to some basic methodoogies of processing satellite images using python and an open soure library called GDAL."
   ]
  },
  {
   "cell_type": "markdown",
   "id": "5d771c63",
   "metadata": {},
   "source": [
    "## Tutorial content\n",
    "\n",
    "We will cover the following topics in this tutorial:\n",
    "- [Installing the libraries](#Installing-the-libraries)\n",
    "- [Introduction to Remote Sensing and Geospatial Data](#Introduction-to-Remote-Sensing-and-Geospatial-Data)\n",
    "- [Landsat 8 Satellite Imagery](#Landsat-8-Satellite-Imagery)\n",
    "- [Loading the image](#Loading-the-image)\n",
    "- [Calculating a spectral index](#Calculating-a-spectral-index)\n",
    "- [Plotting multispectral images](#Plotting-multispectral-images)\n",
    "- [Unsupervised Image Classification](#Unsupervised-Image-Classification)"
   ]
  },
  {
   "cell_type": "markdown",
   "id": "e67954db",
   "metadata": {},
   "source": [
    "## Installing the libraries\n",
    "\n",
    "Before getting started, we need to make sure that all the required libraries and dependencies are installed on your system. The libraries we will be using are `Numpy`, `Matplotlib`, `GDAL`, `scikit-image`, and `scikit-learn`.\n",
    "\n",
    "To download and install Anaconda visit: [Python - Anaconda](https://conda.io/docs/user-guide/install/download.html)\n",
    "Once you're Anaconda python distribution is set up you will already have all the libraries used in this tutorial excep GDAL.\n",
    "\n",
    "To install GDAL, open Anaconda prompt and use the conda package installer:\n",
    "\n",
    "    $ conda install gdal"
   ]
  },
  {
   "cell_type": "code",
   "execution_count": null,
   "id": "986f910a",
   "metadata": {},
   "outputs": [],
   "source": [
    "import numpy as np\n",
    "from matplotlib import pyplot as plt\n",
    "%matplotlib inline\n",
    "from osgeo import gdal\n",
    "print(\"GDAL's version is: \" + gdal.__version__)"
   ]
  },
  {
   "cell_type": "markdown",
   "id": "9e1339e3",
   "metadata": {},
   "source": [
    "## Introduction to Remote Sensing and Geospatial Data\n",
    "\n",
    "__Remote Sensing__ In modern usage, Remote Sensing usually refers to the process of collecting information using sensors onboard satellites or aircrafts for detection or monitoring. It can be classified as active remote sensing (when the signal is emitted by the satellite or aircraft itself or passive remote sensing (when the sensor onboard the satellite or aircraft measures the the electromagnetic radiation from the sun (sunlight) reflected from an object). Remote Sensing is extensively used for detection, monitoring and classification of objects on the earth's surface, atmosphere and oceans in fields such as geography, land surveying, most Earth Science disciplines as well as social sciences, economics, planning, military etc. \n",
    "\n",
    "\n",
    "[<img src=\"https://upload.wikimedia.org/wikipedia/commons/6/61/Remote_Sensing_Illustration.jpg\" width=\"375\">](https://upload.wikimedia.org/wikipedia/commons/6/61/Remote_Sensing_Illustration.jpg)\n",
    "\n",
    "\n",
    "__Geospatial Data__ is any form data that has a spatial or geolocation aspect to it. Geospatial data is commonly analysed and processed in Geographic Information Systems, which are software suites for visualizing, managing, and processing geospatial data. Geospatial data is of two types:\n",
    " - Vector Data\n",
    " - Raster Data\n",
    " \n",
    " \n",
    "*Vector data* is data made up of points, lines and polygons. It could be the outline of a country, state, city, a map of the road network etc. *Raster data* on the other hand is geospatial data made up of pixels. Each pixel has a value which in the case of satellite image is the value of the reflectance measured by the onboard sensor. "
   ]
  },
  {
   "cell_type": "markdown",
   "id": "30da4ea7",
   "metadata": {},
   "source": [
    "## Landsat 8 Satellite Imagery\n",
    "\n",
    "Landsat 8 is an Earth Observation satellite launched jointly by NASA and the United States Geological Survey (USGS) in 2013. It provides modern resolution satellite imagery of the Earth's surface in various bands of the EM spectrum. The images delivered by the satellite are processed and are freely available to download from [Earth Explorer](https://earthexplorer.usgs.gov/) website.\n",
    "\n",
    "We use the following Landsat 8 scene of part of New York City and some surrounding areas :\n",
    "\n",
    "[<img src=\"https://earthexplorer.usgs.gov/browse/landsat_8/2017/014/032/LC08_L1TP_014032_20171018_20171025_01_T1.jpg\" width=\"375\">](https://earthexplorer.usgs.gov/browse/landsat_8/2017/014/032/LC08_L1TP_014032_20171018_20171025_01_T1.jpg)\n",
    "\n",
    "\n",
    "Landsat Scene Identifier: LC80140322017291LGN00\n",
    "Acquisition Date: 2017/10/18\n",
    "Path, Row Coordinates: 014, 032\n",
    "\n",
    "We will use a GeoTiff format image with the image clipped around the area of New York City and containing the stacked spectral bands 1-7 of the original scene. The various spectral bands in the image are:\n",
    "\n",
    "| Bands |  Wavelength (micrometers)  | Resolution (meters) |\n",
    "|------|------|------|\n",
    "|Band 1 - Ultra Blue (coastal/aerosol)|\t0.435 - 0.451|\t30|\n",
    "|Band 2 - Blue|\t0.452 - 0.512\t|30|\n",
    "|Band 3 - Green|\t0.533 - 0.590\t|30|\n",
    "|Band 4 - Red|\t0.636 - 0.673\t|30|\n",
    "|Band 5 - Near Infrared (NIR)|\t0.851 - 0.879\t|30|\n",
    "|Band 6 - Shortwave Infrared (SWIR) 1|\t1.566 - 1.651\t|30|\n",
    "|Band 7 - Shortwave Infrared (SWIR) 2|\t2.107 - 2.294\t|30|\n",
    "\n",
    "\n"
   ]
  },
  {
   "cell_type": "markdown",
   "id": "fc32b2df",
   "metadata": {},
   "source": [
    "## Introduction to GDAL - Geospatial Data Abstraction Library\n",
    "\n",
    "GDAL is an open source software library for processiong raster and vector geospatial data formats. It is released under an X/MIT style Open Source license by the Open Source Geospatial Foundation. As a library, it presents a single raster abstract data model and single vector abstract data model to the calling application for all supported formats. It also comes with a variety of useful command line utilities for data translation and processing. It is a powerful library and has become the most popular for processing geospatial data because of the number of data formats it supports and the languages for which it has bindings.\n",
    "Almost all of the geospatial ibraries in the python package index depend on GDAL. Some of the main reasons why it is used is:\n",
    " - GDAL library is accessible through C, C++, and Python\n",
    " - Reads and writes rasters\n",
    " - Converts image, in memory, into a format Numpy arrays\n",
    " - Propagates projection and transformation information"
   ]
  },
  {
   "cell_type": "markdown",
   "id": "893bc4ed",
   "metadata": {},
   "source": [
    "One of the most important components of the GDAL library is the `GDALDataset` class, which holds all the information which you might want about a raster dataset as well as functions that you might want to perform on a raster image. \n",
    "\n",
    "Some of the class methods include:\n",
    "- `GetRasterBand`\n",
    "- `GetGeoTransform`\n",
    "- `GetProjection`\n",
    "\n",
    "We will see some of these class methods that allow you to access the attributes of the raster dataset. There are also methods that allow you to operate on the raster image and set the class attributes such as `SetProjection` which allows you to set the geographic projection of the image. "
   ]
  },
  {
   "cell_type": "markdown",
   "id": "cf2af0ae",
   "metadata": {},
   "source": [
    "## Loading the image\n",
    "\n",
    "We can load the satellite image using GDAL and create a `GDALDataset` object. As the name suggests, we can open an image with the \"Open\" function within `gdal`.\n",
    "\n",
    "We will use the Landsat 8 satellite image scene described above which is hosted on the following google drive [link](https://drive.google.com/open?id=1b-UiN31ss5dnDteqvbcB3pV93a3Qo1lD). We will assume that you have the image downloaded and in the same folder as the Jupyter Notebook. "
   ]
  },
  {
   "cell_type": "code",
   "execution_count": null,
   "id": "84cb4664",
   "metadata": {},
   "outputs": [],
   "source": [
    "plt.figure(figsize=(10,5))\n",
    "plt.imshow(blue_data)\n",
    "plt.colorbar()"
   ]
  },
  {
   "cell_type": "markdown",
   "id": "ecac823f",
   "metadata": {},
   "source": [
    "Notice it is hard to make anything out from visualizing a single spectral band. This is precisely why band combinations are so sueful. More on those later.\n",
    "\n",
    "With our band data read into a NumPy array, we can print it to console and even perform statistics on it. In addition to helping us store massive amounts of data efficiently, NumPy will help us with some basic linear algebra, numerical operations, and summary statistics.\n",
    "\n",
    "Now let's read all of our bands into a single 3D NumPy array (rows x cols x bands). For this, we will loop over all bands in our raster image dataset and read them into a newly allocated 3 dimensional ndarray:"
   ]
  },
  {
   "cell_type": "code",
   "execution_count": null,
   "id": "190e2cd4",
   "metadata": {},
   "outputs": [],
   "source": [
    "# Initialize a 3d array -- use the size properties of our image for portability!\n",
    "image = np.zeros((data.RasterYSize, data.RasterXSize, data.RasterCount))\n",
    "\n",
    "# Loop over all bands in dataset\n",
    "for b in range(data.RasterCount):\n",
    "    # Remember, GDAL index is on 1, but Python is on 0 -- so we add 1 for our GDAL calls\n",
    "    band = data.GetRasterBand(b + 1)\n",
    "    \n",
    "    # Read in the band's data into the third dimension of our array\n",
    "    image[:, :, b] = band.ReadAsArray()\n",
    "\n",
    "#print(image)\n",
    "#print(image.dtype)"
   ]
  },
  {
   "cell_type": "markdown",
   "id": "5b5fa786",
   "metadata": {},
   "source": [
    "If you noticed in the above blue band array there were some zero values on the edge pixels. As we saw before these 0 values correspond to NoData pixels. So let's choose a smaller subset of the image so that the 0 values of the edge pixels do not interfere in statistics"
   ]
  },
  {
   "cell_type": "code",
   "execution_count": null,
   "id": "8531061b",
   "metadata": {},
   "outputs": [],
   "source": [
    "img = image[5:2505, 4:3014, :]\n",
    "#print(image.shape)\n",
    "print(img)\n",
    "print(img.dtype)\n",
    "print(img.shape)"
   ]
  },
  {
   "cell_type": "markdown",
   "id": "1b72fd1b",
   "metadata": {},
   "source": [
    "## Calculating a spectral index\n",
    "\n",
    "Now that we have all our bands loaded into an ndarray object, let us do some analysis relating to the spectral information contained in the image. The [Normalized Difference Vegetation Index (NDVI)](http://en.wikipedia.org/wiki/NDVI) is a simple spectral index that is used to assess whether the image contains live vegetation or not. It makes use of the fact that live and healthy vegetation reflects highly in the Near Infrared band of the spectrum. Its value ranges betwee -1 and 1 and a high value of NDVI shows the presence of more vegetation. This index is extremely important and used commonly in monitoring land covers and vegetation from satellite images. \n",
    "\n",
    "he NDVI is calculated from these individual measurements as follows:\n",
    "\n",
    "$$NDVI =  \\frac{NIR - Red}{NIR + Red}$$"
   ]
  },
  {
   "cell_type": "code",
   "execution_count": null,
   "id": "0dd3a449",
   "metadata": {},
   "outputs": [],
   "source": [
    "print('Red band mean: {r}'.format(r=img[:, :, 3].mean()))\n",
    "print('NIR band mean: {nir}'.format(nir=img[:, :, 4].mean()))"
   ]
  },
  {
   "cell_type": "code",
   "execution_count": null,
   "id": "bc93e4d7",
   "metadata": {},
   "outputs": [],
   "source": [
    "b_red = 3\n",
    "b_nir = 4\n",
    "ndvi = (img[:, :, b_nir] - img[:, :, b_red]) / \\\n",
    "        (img[:, :, b_nir] + img[:, :, b_red]).astype(np.float64)\n",
    "\n",
    "print('NDVI matrix: ')\n",
    "print(ndvi)\n",
    "\n",
    "print('\\nMax NDVI: {m}'.format(m=ndvi.max()))\n",
    "print('Mean NDVI: {m}'.format(m=ndvi.mean()))\n",
    "print('Median NDVI: {m}'.format(m=np.median(ndvi)))\n",
    "print('Min NDVI: {m}'.format(m=ndvi.min()))"
   ]
  },
  {
   "cell_type": "code",
   "execution_count": null,
   "id": "ddaff179",
   "metadata": {},
   "outputs": [],
   "source": [
    "#The shape of the ndvi matrix is the same as the shape of the img matrix\n",
    "ndvi.shape"
   ]
  },
  {
   "cell_type": "markdown",
   "id": "35512f25",
   "metadata": {},
   "source": [
    "Now let's visualize this NDVI vegetation index by plotting the feature. We will visualize the vegetation index by using a colour map that translates high NDVI to a dark green colour and red color on the opposite end of the index."
   ]
  },
  {
   "cell_type": "code",
   "execution_count": null,
   "id": "97b897b8",
   "metadata": {},
   "outputs": [],
   "source": [
    "plt.figure(figsize=(10,5))\n",
    "plt.imshow(ndvi, cmap = 'RdYlGn')\n",
    "plt.colorbar()"
   ]
  },
  {
   "cell_type": "markdown",
   "id": "340e82cc",
   "metadata": {},
   "source": [
    "For a greyscale image, we can also manually specify a color map:"
   ]
  },
  {
   "cell_type": "code",
   "execution_count": null,
   "id": "ac6a0f7a",
   "metadata": {},
   "outputs": [],
   "source": [
    "data = gdal.Open('nyc.tif', gdal.GA_ReadOnly)\n",
    "print(data)"
   ]
  },
  {
   "cell_type": "markdown",
   "id": "44ca7e16",
   "metadata": {},
   "source": [
    "### Image Attributes\n",
    "\n",
    "Now that we have our raster image loaded intro the variable *data* let's explore some of its attributes."
   ]
  },
  {
   "cell_type": "code",
   "execution_count": null,
   "id": "ca530d02",
   "metadata": {},
   "outputs": [],
   "source": [
    "# What is the number of spectral bands in the image?\n",
    "num_bands = data.RasterCount\n",
    "print('The number of spectral bands in the image: {x}\\n'.format(x=num_bands))\n",
    "\n",
    "# How many rows and columns does the image contain?\n",
    "row = data.RasterYSize\n",
    "col = data.RasterXSize\n",
    "print('The size of the image is: {r} rows x {c} columns\\n'.format(r=row, c=col))\n",
    "\n",
    "# Does our raster image have a description or metadata?\n",
    "desc = data.GetDescription()\n",
    "meta = data.GetMetadata()\n",
    "print('Raster file description: ')\n",
    "print(desc)\n",
    "print('\\n')\n",
    "print('Raster metadata:')\n",
    "print(meta)\n",
    "print('\\n')\n",
    "\n",
    "# What image format driver (e.g., ENVI driver, GeoTIFF driver, HDF driver) was used to open the raster?\n",
    "driver = data.GetDriver()\n",
    "print('The image format driver used to open the raster file: {d}\\n'.format(d=driver.ShortName))\n",
    "\n",
    "# What is the raster image's geographic projection?\n",
    "proj = data.GetProjection()\n",
    "print('Image projection:')\n",
    "print(proj + '\\n')\n",
    "\n",
    "# What is the raster image's \"geo-transform\"?\n",
    "gt = data.GetGeoTransform()\n",
    "print('Image geo-transform: {gt}\\n'.format(gt=gt))"
   ]
  },
  {
   "cell_type": "markdown",
   "id": "b710cc9d",
   "metadata": {},
   "source": [
    "The number of bands, size of the raster, description and metadata are self-explanatory. \n",
    "\n",
    "The coordinate system that the raster image is projected in is given by the `GetProjection` method. As can be seen this raster is projected in the `WGS_1984_UTM_zone_18N` refernce system. For more information on specific geographic and projected coordinate systems and format conversions see [Spatial Reference](http://www.spatialreference.org).\n",
    "\n",
    "The very last item of information we got is called a \"geotransform\". It is a set of 6 numbers that provides all the information about the relation between each pixel and the projected coordinate system. The pixel size in both x and y dimensions of the raster image is listed as the second (30) and the sixth (-30) numbers. This means that our image has a spatial resolution of 30m i.e. each pixel on the image holds the reflectance value of an area of 30m X 30m on the earth's surface. For more information on the [GDAL data model](http://www.gdal.org/gdal_datamodel.html), follow the link."
   ]
  },
  {
   "cell_type": "markdown",
   "id": "98fe118a",
   "metadata": {},
   "source": [
    "#### Image spectral bands\n",
    "\n",
    "The `GDALDataset` object that we created contains lots of useful information but we need to access each spectral band in the raster image individually using the method `GetRasterBand`:"
   ]
  },
  {
   "cell_type": "code",
   "execution_count": null,
   "id": "e14347b1",
   "metadata": {},
   "outputs": [],
   "source": [
    "# Open the blue band in our image\n",
    "blue = data.GetRasterBand(2)\n",
    "print(blue)\n",
    "nodata = blue.GetNoDataValue()\n",
    "print(\"NoData value of pixels: \")\n",
    "print(nodata)"
   ]
  },
  {
   "cell_type": "markdown",
   "id": "d0142530",
   "metadata": {},
   "source": [
    "The NoData value of the pixels is the value that represents the absence of any data in those pixels.\n",
    "\n",
    "Similar to the attributes of the `GDALDataset`, let's explore some attributes and methods of the `GDALRasterBand`:"
   ]
  },
  {
   "cell_type": "code",
   "execution_count": null,
   "id": "0ab33db0",
   "metadata": {},
   "outputs": [],
   "source": [
    "# What is datatype of the values stored in the band?\n",
    "dt = blue.DataType\n",
    "print('Band datatype: {d}'.format(d=dt))\n",
    "\n",
    "# The number that printed out is the way GDAL keeps track of various data types, but there's a more useful definition for use:\n",
    "datatype_name = gdal.GetDataTypeName(dt)\n",
    "print('Band datatype: {t}'.format(t=datatype_name))\n",
    "\n",
    "# Let's see how much space this datatype takes up\n",
    "bytes = gdal.GetDataTypeSize(dt)\n",
    "print('Band datatype size: {b} bytes\\n'.format(b=bytes))\n",
    "\n",
    "# We can use GetStatistics method to get some band spectral statistics\n",
    "band_min, band_max, band_mean, band_stddev = blue.GetStatistics(0, 1)\n",
    "print('Band range: {minimum} to {maximum}'.format(minimum=band_min,\n",
    "                                                 maximum=band_max))\n",
    "print('Band mean, standard deviation: {m}, {s}\\n'.format(m=band_mean, s=band_stddev))"
   ]
  },
  {
   "cell_type": "markdown",
   "id": "5f5a0478",
   "metadata": {},
   "source": [
    "For most applications, we will need to use GDAL to read our raster image and store raster bands into memory in the form of a numpy ndarray which allows us to store our data in a memory efficient way. \n",
    "To read our band into these `np.array` objects, we will use the `ReadAsArray` method from our `GDALRasterBand` object:"
   ]
  },
  {
   "cell_type": "code",
   "execution_count": null,
   "id": "87ad8126",
   "metadata": {},
   "outputs": [],
   "source": [
    "#Access help for any method in the following way:\n",
    "help(blue.ReadAsArray)"
   ]
  },
  {
   "cell_type": "code",
   "execution_count": null,
   "id": "b6625503",
   "metadata": {},
   "outputs": [],
   "source": [
    "blue_data = blue.ReadAsArray()\n",
    "print(blue_data)\n",
    "print('\\n')\n",
    "print('Blue band mean is: {m}'.format(m=blue_data.mean()))\n",
    "print('Size is: {sz}'.format(sz=blue_data.shape))"
   ]
  },
  {
   "cell_type": "markdown",
   "id": "aa63aff0",
   "metadata": {},
   "source": [
    "Now that our band is stored as a ndarray let us also visualize the blue spectral band of our image. "
   ]
  }
 ],
 "metadata": {},
 "nbformat": 4,
 "nbformat_minor": 5
}
