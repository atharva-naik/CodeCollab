{
 "cells": [
  {
   "cell_type": "markdown",
   "id": "9f64b652",
   "metadata": {},
   "source": [
    "* Write a function that coverts the height from inches to meters. The conversion is 1 inch = 0.0254 meters."
   ]
  },
  {
   "cell_type": "markdown",
   "id": "4f06684c",
   "metadata": {},
   "source": [
    "* Write a function to compute the BMI of a person. The formula that gives the BMI is: `BMI = (weight in kg) / ( (height in meters)*(height in meters) )`. Assume your input is the weight in kilograms and the height in meters."
   ]
  },
  {
   "cell_type": "markdown",
   "id": "71575145",
   "metadata": {},
   "source": [
    "* Write the BMI function to accept as input the weight in pounds and the height in inches. Reuse the three functions that you created above."
   ]
  },
  {
   "cell_type": "markdown",
   "id": "45d431b3",
   "metadata": {},
   "source": [
    "#### C. Conditionals\n",
    "\n",
    "Write a function using 'if/elif/else' conditionals to compute the BMI of a person, and return the risk associated with cardiovascular diseases. The function should take as input the BMI and return a string value with the message.\n",
    "\n",
    "_BMI\tRisk_\n",
    "* 27.5 and above $\\rightarrow$ High Risk\n",
    "* 23 - 27.4 $\\rightarrow$\tModerate Risk\n",
    "* 18.5 - 22.9 $\\rightarrow$\tLow Risk\n",
    "* Below 18.5 $\\rightarrow$\tRisk of nutritional deficiency diseases\n"
   ]
  },
  {
   "cell_type": "markdown",
   "id": "db4fedcf",
   "metadata": {},
   "source": [
    "#### D. For Loops\n",
    "\n",
    "* Create a function addNumbers(num) that takes in a positive number as argument and returns the sum of all the number between 0 and that number (inclusive)."
   ]
  },
  {
   "cell_type": "markdown",
   "id": "b9697471",
   "metadata": {},
   "source": [
    "* Ask the user for a number and return a list that contains only elements from the original list a that are smaller than that number given by the user."
   ]
  },
  {
   "cell_type": "code",
   "execution_count": null,
   "id": "196d6ef3",
   "metadata": {},
   "outputs": [],
   "source": [
    "input(\"What number?\")"
   ]
  },
  {
   "cell_type": "markdown",
   "id": "71ed6906",
   "metadata": {},
   "source": [
    "#### E. Lists and Loops\n",
    "\n",
    "Take two lists, say for example these two: \n",
    "\n",
    "`a = [1, 1, 2, 3, 5, 8, 13, 21, 34, 55, 89]\n",
    "b = [1, 2, 3, 4, 5, 6, 7, 8, 9, 10, 11, 12, 13]`\n",
    "\n",
    "and write a program that returns a list that contains only the elements that are common between the lists (without duplicates). Make sure your program works on two lists of different sizes."
   ]
  },
  {
   "cell_type": "markdown",
   "id": "e11f0829",
   "metadata": {},
   "source": [
    "#### F. Lists and Loops\n",
    "\n",
    "* Take a list, say for example this one: `a = [1, 1, 2, 3, 5, 8, 13, 21, 34, 55, 89]` and write a program that prints out all the elements of the list that are less than 5.\n"
   ]
  },
  {
   "cell_type": "markdown",
   "id": "1332c19e",
   "metadata": {},
   "source": [
    "* Instead of printing the elements one by one, make a new list that has all the elements less than 5 from this list in it and print out this new list.\n"
   ]
  },
  {
   "cell_type": "markdown",
   "id": "8ff15786",
   "metadata": {},
   "source": [
    "#### G. Count Vowels\n",
    "\n",
    "We have a list of vowels"
   ]
  },
  {
   "cell_type": "code",
   "execution_count": null,
   "id": "df721adf",
   "metadata": {},
   "outputs": [],
   "source": [
    "vowels = ['a', 'o', 'u', 'i', 'e', 'y']"
   ]
  },
  {
   "cell_type": "markdown",
   "id": "8d2b461c",
   "metadata": {},
   "source": [
    "Write a function that takes as input a list of words, and returns a dictionary with the words as keys and the total number of vowels for each word as the corresponding value for the key.\n"
   ]
  }
 ],
 "metadata": {},
 "nbformat": 4,
 "nbformat_minor": 5
}
