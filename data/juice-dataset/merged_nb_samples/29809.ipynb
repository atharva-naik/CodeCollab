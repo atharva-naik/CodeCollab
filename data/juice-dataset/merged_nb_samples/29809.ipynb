{
 "cells": [
  {
   "cell_type": "code",
   "execution_count": null,
   "id": "ade7964a",
   "metadata": {},
   "outputs": [],
   "source": [
    "import numpy as np\n",
    "import pandas as pd\n",
    "import matplotlib.pyplot as plt\n",
    "import seaborn as sn\n",
    "%matplotlib inline\n",
    "\n",
    "# create a function for labeling #\n",
    "def autolabel(rects):\n",
    "    for rect in rects:\n",
    "        height = rect.get_height()\n",
    "        ax.text(rect.get_x() + rect.get_width()/2., 1.02*height,\n",
    "                '%d' % int(height),\n",
    "                ha='center', va='bottom')"
   ]
  },
  {
   "cell_type": "markdown",
   "id": "f07876ab",
   "metadata": {},
   "source": [
    "#### First We focus on deliveries (CSV)"
   ]
  },
  {
   "cell_type": "code",
   "execution_count": null,
   "id": "391990a6",
   "metadata": {},
   "outputs": [],
   "source": [
    "score_df=pd.read_csv('C:/Users/Madhu/Desktop/Kaggle/IPL/ipl/deliveries.csv')\n",
    "score_df.head()"
   ]
  },
  {
   "cell_type": "markdown",
   "id": "70d1ebcb",
   "metadata": {},
   "source": [
    "#### Top 10 wicket takers "
   ]
  },
  {
   "cell_type": "code",
   "execution_count": null,
   "id": "d06f14c9",
   "metadata": {},
   "outputs": [],
   "source": [
    "bowler_caught=score_df.groupby(['bowler'])['dismissal_kind'].agg(lambda a: (a=='caught').sum()).reset_index().sort_values(by='bowler',\n",
    "                                                                                                                         ascending=True).reset_index(drop=True)\n",
    "\n",
    "bowler_bowled=score_df.groupby(['bowler'])['dismissal_kind'].agg(lambda a: (a=='bowled').sum()).reset_index().sort_values(by='bowler',\n",
    "                                                                                                                         ascending=True).reset_index(drop=True)\n",
    "\n",
    "bowler_lbw=score_df.groupby(['bowler'])['dismissal_kind'].agg(lambda a: (a=='lbw').sum()).reset_index().sort_values(by='bowler',\n",
    "                                                                                                                         ascending=True).reset_index(drop=True)\n",
    "\n",
    "bowler_stumped=score_df.groupby(['bowler'])['dismissal_kind'].agg(lambda a: (a=='stumped').sum()).reset_index().sort_values(by='bowler',\n",
    "                                                                                                                         ascending=True).reset_index(drop=True)\n",
    "\n",
    "bowler_caught_and_bowled=score_df.groupby(['bowler'])['dismissal_kind'].agg(lambda a: (a=='caught and bowled').sum()).reset_index().sort_values(by='bowler',\n",
    "                                                                                                                         ascending=True).reset_index(drop=True)"
   ]
  },
  {
   "cell_type": "markdown",
   "id": "76df154e",
   "metadata": {},
   "source": [
    "As we know a bowler gets a wicket if it is caught,bowled,lbw,stumped and c&b "
   ]
  },
  {
   "cell_type": "code",
   "execution_count": null,
   "id": "81f70e85",
   "metadata": {},
   "outputs": [],
   "source": [
    "bowler_wickets=pd.DataFrame()"
   ]
  },
  {
   "cell_type": "code",
   "execution_count": null,
   "id": "2cd37f68",
   "metadata": {},
   "outputs": [],
   "source": [
    "bowler_wickets['bowler']=bowler_caught['bowler']\n",
    "bowler_wickets['caught']=bowler_caught['dismissal_kind']\n",
    "bowler_wickets['bowled']=bowler_bowled['dismissal_kind']\n",
    "bowler_wickets['lbw']=bowler_lbw['dismissal_kind']\n",
    "bowler_wickets['c&b']=bowler_caught_and_bowled['dismissal_kind']\n",
    "bowler_wickets['stumped']=bowler_stumped['dismissal_kind']\n",
    "bowler_wickets['total_wickets']=bowler_wickets['caught']+bowler_wickets['bowled']+bowler_wickets['lbw']+bowler_wickets['c&b']+bowler_wickets['stumped']"
   ]
  },
  {
   "cell_type": "code",
   "execution_count": null,
   "id": "6e0321c0",
   "metadata": {},
   "outputs": [],
   "source": [
    "bowler_wickets=bowler_wickets.sort_values(by='total_wickets',ascending=False)[:10]\n",
    "bowler_wickets"
   ]
  },
  {
   "cell_type": "markdown",
   "id": "43ca4d34",
   "metadata": {},
   "source": [
    "Malinga seems to have taken the highest wickets in IPL"
   ]
  },
  {
   "cell_type": "code",
   "execution_count": null,
   "id": "0645fb54",
   "metadata": {},
   "outputs": [],
   "source": [
    "temp_df = score_df.groupby('bowler')['wide_runs'].agg(lambda x: (x>0).sum()).reset_index().sort_values(by='wide_runs', ascending=False).reset_index(drop=True)\n",
    "temp_df = temp_df.iloc[:10,:]\n",
    "\n",
    "labels = np.array(temp_df['bowler'])\n",
    "ind = np.arange(len(labels))\n",
    "width = 0.9\n",
    "fig, ax = plt.subplots()\n",
    "rects = ax.bar(ind, np.array(temp_df['wide_runs']), width=width, color='r')\n",
    "ax.set_xticks(ind)\n",
    "ax.set_xticklabels(labels, rotation='vertical')\n",
    "ax.set_ylabel(\"Count\")\n",
    "ax.set_title(\"Bowlers with more wides in IPL\")\n",
    "autolabel(rects)\n",
    "plt.show()"
   ]
  },
  {
   "cell_type": "code",
   "execution_count": null,
   "id": "528e6892",
   "metadata": {},
   "outputs": [],
   "source": [
    "#top players for 4's\n",
    "temp_df = score_df.groupby('batsman')['batsman_runs'].agg(lambda a: (a==4).sum()).reset_index().sort_values(by='batsman_runs', \n",
    "                                                                                           ascending=False).reset_index(drop=True)\n",
    "\n",
    "temp_df=temp_df[:10]\n",
    "labels=np.array(temp_df['batsman'])\n",
    "values=np.array(temp_df['batsman_runs'])\n",
    "ind=np.arange(len(labels))\n",
    "\n",
    "fig,ax=plt.subplots()\n",
    "rects=ax.bar(ind,values,color='g')\n",
    "ax.set_xticks(ind)\n",
    "ax.set_xticklabels(labels,rotation='vertical')\n",
    "ax.set_ylabel(\"4's count\")\n",
    "ax.set_title(\"Batsman with most number of fours\")\n",
    "autolabel(rects)\n",
    "plt.show()"
   ]
  },
  {
   "cell_type": "code",
   "execution_count": null,
   "id": "589e8143",
   "metadata": {},
   "outputs": [],
   "source": [
    "#top players for 6's\n",
    "temp_df = score_df.groupby('batsman')['batsman_runs'].agg(lambda a: (a==6).sum()).reset_index().sort_values(by='batsman_runs', \n",
    "                                                                                           ascending=False).reset_index(drop=True)\n",
    "\n",
    "temp_df=temp_df[:10]\n",
    "labels=np.array(temp_df['batsman'])\n",
    "values=np.array(temp_df['batsman_runs'])\n",
    "ind=np.arange(len(labels))\n",
    "\n",
    "fig,ax=plt.subplots()\n",
    "rects=ax.bar(ind,values,color='b')\n",
    "ax.set_xticks(ind)\n",
    "ax.set_xticklabels(labels,rotation='vertical')\n",
    "ax.set_ylabel(\"6's count\")\n",
    "ax.set_title(\"Batsman with most number of sixes\")\n",
    "autolabel(rects)\n",
    "plt.show()"
   ]
  },
  {
   "cell_type": "markdown",
   "id": "cb2dedf0",
   "metadata": {},
   "source": [
    "#### how many balls faced by each batsman and how much scored"
   ]
  },
  {
   "cell_type": "code",
   "execution_count": null,
   "id": "6f9382e7",
   "metadata": {},
   "outputs": [],
   "source": [
    "#how many balls faced by each batsman\n",
    "balls_faced_df=score_df.groupby(['batsman'])['wide_runs'].agg(lambda a:(a==0).sum()).reset_index().sort_values(by='batsman', \n",
    "                                                                                        ascending=True).reset_index(drop=True)\n",
    "\n",
    "noballs_faced_df=score_df.groupby(['batsman'])['noball_runs'].agg(lambda a:(a!=0).sum()).reset_index().sort_values(by='batsman', \n",
    "                                                                                        ascending=True).reset_index(drop=True)\n",
    "\n",
    "batsman_df=score_df.groupby(['batsman'])['batsman_runs'].agg('sum').reset_index().sort_values(by='batsman',\n",
    "                                                                                        ascending=True).reset_index(drop=True)\n",
    "\n",
    "balls_faced_df['total_balls_faced']=0\n",
    "balls_faced_df['total_balls_faced'].loc[balls_faced_df['batsman']==noballs_faced_df['batsman']]=balls_faced_df['wide_runs']-noballs_faced_df['noball_runs']\n",
    "\n",
    "del balls_faced_df['wide_runs']\n",
    "\n",
    "balls_faced_df['batsman_runs']=batsman_df['batsman_runs']\n",
    "balls_faced_df=balls_faced_df.sort_values(by='total_balls_faced',ascending=False)[:10]\n",
    "balls_faced_df"
   ]
  },
  {
   "cell_type": "code",
   "execution_count": null,
   "id": "64f235ff",
   "metadata": {},
   "outputs": [],
   "source": [
    "balls_faced_df['more_runs']=balls_faced_df['batsman_runs']-balls_faced_df['total_balls_faced']\n",
    "balls_faced_df"
   ]
  },
  {
   "cell_type": "code",
   "execution_count": null,
   "id": "4ccb743c",
   "metadata": {},
   "outputs": [],
   "source": [
    "labels=balls_faced_df['batsman']\n",
    "ind=np.arange(len(labels))\n",
    "values=balls_faced_df['total_balls_faced']\n",
    "values2=balls_faced_df['batsman_runs']\n",
    "\n",
    "fig,ax=plt.subplots()\n",
    "ax2 = ax.twinx()\n",
    "rects=ax.bar(ind,values,width=0.35,color='b')\n",
    "ax.set_xticks(ind)\n",
    "ax.set_xticklabels(labels,rotation='vertical')\n",
    "ax.set_title(\"Most total balls and runs\")\n",
    "ax.set_ylabel('count')\n",
    "\n",
    "rects1=ax.bar(ind+0.35,values2,width=0.35,color='g')\n",
    "\n",
    "autolabel(rects)\n",
    "autolabel(rects1)\n",
    "\n",
    "ax2.plot(ind+0.35, np.array(balls_faced_df['more_runs']), color='r', marker='o')\n",
    "ax2.set_ylabel(\"More runs\", color='r')\n",
    "#ax2.set_ylim([0,100])\n",
    "#ax2.grid(b=False)\n",
    "plt.show()"
   ]
  },
  {
   "cell_type": "markdown",
   "id": "6b4e5e17",
   "metadata": {},
   "source": [
    "Gayle seems to have high strike rate (faced 2232 balls and score 3451 runs) followed by Raina"
   ]
  },
  {
   "cell_type": "markdown",
   "id": "3f6bfb3e",
   "metadata": {},
   "source": [
    "#### Bowlers with more extras in IPL"
   ]
  },
  {
   "cell_type": "code",
   "execution_count": null,
   "id": "5d732561",
   "metadata": {},
   "outputs": [],
   "source": [
    "temp_df = score_df.groupby('bowler')['extra_runs'].agg(lambda x: (x>0).sum()).reset_index().sort_values(by='extra_runs', ascending=False).reset_index(drop=True)\n",
    "temp_df = temp_df.iloc[:10,:]\n",
    "\n",
    "labels = np.array(temp_df['bowler'])\n",
    "ind = np.arange(len(labels))\n",
    "width = 0.9\n",
    "fig, ax = plt.subplots()\n",
    "rects = ax.bar(ind, np.array(temp_df['extra_runs']), width=width, color='r')\n",
    "ax.set_xticks(ind+((width)/2.))\n",
    "ax.set_xticklabels(labels, rotation='vertical')\n",
    "ax.set_ylabel(\"Count\")\n",
    "ax.set_title(\"Bowlers with more extras in IPL\")\n",
    "autolabel(rects)\n",
    "plt.show()"
   ]
  },
  {
   "cell_type": "code",
   "execution_count": null,
   "id": "6cd0be86",
   "metadata": {},
   "outputs": [],
   "source": [
    "plt.figure(figsize=(12,6))\n",
    "sn.countplot(x='dismissal_kind', data=score_df)\n",
    "plt.xticks(rotation='vertical')\n",
    "plt.show()"
   ]
  },
  {
   "cell_type": "markdown",
   "id": "71dd8fb0",
   "metadata": {},
   "source": [
    "Okay Lets get into matches(CSV)"
   ]
  },
  {
   "cell_type": "code",
   "execution_count": null,
   "id": "1d197f6e",
   "metadata": {},
   "outputs": [],
   "source": [
    "match_df=pd.read_csv('C:/Users/Madhu/Desktop/Kaggle/IPL/ipl/matches.csv')\n",
    "match_df[:2]"
   ]
  },
  {
   "cell_type": "code",
   "execution_count": null,
   "id": "c9f7acc4",
   "metadata": {},
   "outputs": [],
   "source": [
    "# Let us get some basic stats #\n",
    "print(\"Number of matches played so far : \", match_df.shape[0])\n",
    "print(\"Number of seasons : \", len(match_df.season.unique()))\n",
    "print('number of cities : ',len(match_df[\"city\"].unique()))"
   ]
  },
  {
   "cell_type": "markdown",
   "id": "ba12dca2",
   "metadata": {},
   "source": [
    "#### Number of matches each season:"
   ]
  },
  {
   "cell_type": "code",
   "execution_count": null,
   "id": "c5750fc4",
   "metadata": {},
   "outputs": [],
   "source": [
    "matches_count=match_df.groupby(['season'])\n",
    "matches_count_season=matches_count['id'].count()\n",
    "matches_count_season.sort_values(ascending=False)\n",
    "# or match_df['season'].value_counts()"
   ]
  },
  {
   "cell_type": "code",
   "execution_count": null,
   "id": "2c7df8a7",
   "metadata": {},
   "outputs": [],
   "source": [
    "#no of macthes in each season\n",
    "sn.countplot(x='season',data=match_df)\n",
    "plt.show()"
   ]
  },
  {
   "cell_type": "code",
   "execution_count": null,
   "id": "24190290",
   "metadata": {},
   "outputs": [],
   "source": [
    "plt.plot(matches_count_season)\n",
    "plt.ylim(40,80)\n",
    "plt.show()"
   ]
  },
  {
   "cell_type": "markdown",
   "id": "aa1dcf3d",
   "metadata": {},
   "source": [
    "#### Number of matches in each venue:"
   ]
  },
  {
   "cell_type": "code",
   "execution_count": null,
   "id": "5ddc4fc8",
   "metadata": {},
   "outputs": [],
   "source": [
    "match_count=match_df.groupby(['venue'])\n",
    "match_count_venue=match_count['id'].count()\n",
    "match_count_venue.sort_values(ascending=False)\n",
    "#or match_df['venue'].value_counts()"
   ]
  },
  {
   "cell_type": "code",
   "execution_count": null,
   "id": "adc79149",
   "metadata": {},
   "outputs": [],
   "source": [
    "plt.figure(figsize=(12,6))\n",
    "sn.countplot(x='venue', data=match_df)\n",
    "plt.xticks(rotation='vertical')\n",
    "plt.show()"
   ]
  },
  {
   "cell_type": "markdown",
   "id": "18a2cc00",
   "metadata": {},
   "source": [
    "#### Number of matches played by each team"
   ]
  },
  {
   "cell_type": "code",
   "execution_count": null,
   "id": "85dfd5cf",
   "metadata": {},
   "outputs": [],
   "source": [
    "#plotting\n",
    "labels=np.array(bowler_wickets['bowler'])\n",
    "ind=np.arange(len(labels))\n",
    "values=np.array(bowler_wickets['total_wickets'])\n",
    "\n",
    "fig,ax = plt.subplots()\n",
    "rects = ax.bar(ind,values,color='b')\n",
    "ax.set_xticklabels(labels,rotation='vertical')\n",
    "ax.set_xticks(ind)\n",
    "ax.set_title(\"Top 10 wicket takers\")\n",
    "ax.set_ylabel('wickets')\n",
    "autolabel(rects)\n",
    "plt.show()"
   ]
  },
  {
   "cell_type": "markdown",
   "id": "ec944edb",
   "metadata": {},
   "source": [
    "#### Top 10 catchers"
   ]
  },
  {
   "cell_type": "code",
   "execution_count": null,
   "id": "9b2c9045",
   "metadata": {},
   "outputs": [],
   "source": [
    "catchers=score_df.groupby(['fielder'])['dismissal_kind'].agg(lambda a: (a=='caught').sum()).reset_index().sort_values(by='fielder',\n",
    "                                                                                                                         ascending=True).reset_index(drop=True)\n",
    "catchers=catchers.sort_values(by='dismissal_kind',ascending=False)[:10]"
   ]
  },
  {
   "cell_type": "code",
   "execution_count": null,
   "id": "ede6fa3a",
   "metadata": {},
   "outputs": [],
   "source": [
    "#plotting\n",
    "labels=np.array(catchers['fielder'])\n",
    "ind=np.arange(10)\n",
    "values=np.array(catchers['dismissal_kind'])\n",
    "\n",
    "fig,ax = plt.subplots()\n",
    "rects = ax.bar(ind,values,color='b')\n",
    "ax.set_xticklabels(labels,rotation='vertical')\n",
    "ax.set_xticks(ind)\n",
    "ax.set_title(\"Top 10 catchers\")\n",
    "ax.set_ylabel('catches')\n",
    "autolabel(rects)\n",
    "plt.show()"
   ]
  },
  {
   "cell_type": "markdown",
   "id": "a8bbf81e",
   "metadata": {},
   "source": [
    "It seems like wicket keepers get higher catches although Raina being in the 2nd place"
   ]
  },
  {
   "cell_type": "markdown",
   "id": "c07a4071",
   "metadata": {},
   "source": [
    "#### Top 10 bowlers with more runs in IPL"
   ]
  },
  {
   "cell_type": "code",
   "execution_count": null,
   "id": "76ce4b13",
   "metadata": {},
   "outputs": [],
   "source": [
    "bowler_runs=score_df.groupby(['bowler'])['total_runs'].agg(lambda a: (a>0).sum()).reset_index().sort_values(by='bowler',\n",
    "                                                                                ascending=True).reset_index(drop=True)\n",
    "\n",
    "bowler_runs=bowler_runs.sort_values(by='total_runs',ascending=False)[:10]\n",
    "bowler_runs"
   ]
  },
  {
   "cell_type": "code",
   "execution_count": null,
   "id": "f6fad8c5",
   "metadata": {},
   "outputs": [],
   "source": [
    "#plotting\n",
    "labels=np.array(bowler_runs['bowler'])\n",
    "ind=np.arange(len(labels))\n",
    "values=np.array(bowler_runs['total_runs'])\n",
    "fig,ax = plt.subplots()\n",
    "rects = ax.bar(ind,values,color='r')\n",
    "ax.set_xticklabels(labels,rotation='vertical')\n",
    "ax.set_xticks(ind)\n",
    "ax.set_title(\"Top 10 bowlers with more runs\")\n",
    "ax.set_ylabel('runs')\n",
    "autolabel(rects)\n",
    "plt.show()"
   ]
  },
  {
   "cell_type": "markdown",
   "id": "fb6b5498",
   "metadata": {},
   "source": [
    "Well, 8/10 are indian players and The spinners give a lot of runs it seems like "
   ]
  },
  {
   "cell_type": "markdown",
   "id": "9bd539a7",
   "metadata": {},
   "source": [
    "#### Top 10 bowlers with Highest runs in an over"
   ]
  },
  {
   "cell_type": "code",
   "execution_count": null,
   "id": "ac027fb7",
   "metadata": {},
   "outputs": [],
   "source": [
    "melt_df = pd.melt(match_df, id_vars=['id','season'], value_vars=['team1', 'team2'])\n",
    "melt_df"
   ]
  },
  {
   "cell_type": "code",
   "execution_count": null,
   "id": "3178b618",
   "metadata": {},
   "outputs": [],
   "source": [
    "t=melt_df.groupby(['value'])\n",
    "t=t['id'].count()\n",
    "t.sort_values(ascending=False)"
   ]
  },
  {
   "cell_type": "code",
   "execution_count": null,
   "id": "e6fd75d7",
   "metadata": {},
   "outputs": [],
   "source": [
    "plt.figure(figsize=(12,6))\n",
    "sn.countplot(x='value', data=melt_df)\n",
    "plt.xticks(rotation='vertical')\n",
    "plt.show()"
   ]
  },
  {
   "cell_type": "markdown",
   "id": "fcbfdb5b",
   "metadata": {},
   "source": [
    "#### Number of wins per team:"
   ]
  },
  {
   "cell_type": "code",
   "execution_count": null,
   "id": "2abf68e0",
   "metadata": {},
   "outputs": [],
   "source": [
    "win_count=match_df.groupby(['winner'])\n",
    "win_count_teams=win_count['id'].count()\n",
    "win_count_teams.sort_values(ascending=False)\n",
    "#or match_df['winner'].value_counts()"
   ]
  },
  {
   "cell_type": "code",
   "execution_count": null,
   "id": "a5da90b3",
   "metadata": {},
   "outputs": [],
   "source": [
    "plt.figure(figsize=(12,6))\n",
    "sn.countplot(x='winner',data=match_df)\n",
    "plt.xticks(rotation='vertical')\n",
    "plt.show()"
   ]
  },
  {
   "cell_type": "markdown",
   "id": "11ba891c",
   "metadata": {},
   "source": [
    "#### Win Percentage for each team (wins/total)"
   ]
  },
  {
   "cell_type": "code",
   "execution_count": null,
   "id": "3d15dc22",
   "metadata": {},
   "outputs": [],
   "source": [
    "plt.figure(figsize=(5,4))\n",
    "sn.countplot(x='toss_decision', data=match_df)\n",
    "plt.xticks(rotation='vertical')\n",
    "plt.show()"
   ]
  },
  {
   "cell_type": "code",
   "execution_count": null,
   "id": "a5b108b8",
   "metadata": {},
   "outputs": [],
   "source": [
    "ts=match_df.toss_decision.value_counts()\n",
    "ts"
   ]
  },
  {
   "cell_type": "code",
   "execution_count": null,
   "id": "fd07ffe3",
   "metadata": {},
   "outputs": [],
   "source": [
    "ts.index"
   ]
  },
  {
   "cell_type": "code",
   "execution_count": null,
   "id": "a0df39db",
   "metadata": {},
   "outputs": [],
   "source": [
    "labels=(np.array(ts.index))\n",
    "labels"
   ]
  },
  {
   "cell_type": "code",
   "execution_count": null,
   "id": "38db6542",
   "metadata": {},
   "outputs": [],
   "source": [
    "sizes=np.array(((ts/ts.sum())*100))\n",
    "sizes"
   ]
  },
  {
   "cell_type": "code",
   "execution_count": null,
   "id": "5ad8a88d",
   "metadata": {},
   "outputs": [],
   "source": [
    "colors = ['gold', 'lightskyblue']\n",
    "plt.pie(sizes,labels=labels,colors=colors,\n",
    "       autopct='%1.1f%%', shadow=True, startangle=90)\n",
    "plt.title(\"Toss decision percentage\")\n",
    "plt.show()"
   ]
  },
  {
   "cell_type": "code",
   "execution_count": null,
   "id": "a89bf6f1",
   "metadata": {},
   "outputs": [],
   "source": [
    "plt.figure(figsize=(12,6))\n",
    "sn.countplot(x='season', hue='toss_decision', data=match_df)\n",
    "plt.xticks(rotation='vertical')\n",
    "plt.show()"
   ]
  },
  {
   "cell_type": "code",
   "execution_count": null,
   "id": "4ebe1c10",
   "metadata": {},
   "outputs": [],
   "source": [
    "#wins over batting second or filed first\n",
    "num_of_wins = (match_df.win_by_wickets>0).sum()\n",
    "num_of_loss = (match_df.win_by_wickets==0).sum()\n",
    "\n",
    "labels = [\"Wins\", \"Loss\"]\n",
    "total = float(num_of_wins + num_of_loss)\n",
    "sizes = [(num_of_wins/total)*100, (num_of_loss/total)*100]\n",
    "\n",
    "colors = ['gold', 'lightskyblue']\n",
    "plt.pie(sizes, labels=labels, colors=colors,\n",
    "        autopct='%1.1f%%', shadow=True, startangle=90)\n",
    "plt.title(\"Win percentage batting second\")\n",
    "plt.show()"
   ]
  },
  {
   "cell_type": "markdown",
   "id": "d917b97e",
   "metadata": {},
   "source": [
    "#### Top players of the match:"
   ]
  },
  {
   "cell_type": "code",
   "execution_count": null,
   "id": "50f91544",
   "metadata": {},
   "outputs": [],
   "source": [
    "tp=match_df['player_of_match'].value_counts()[:10]\n",
    "labels=np.array(tp.keys())\n",
    "values=np.array(tp)\n",
    "ind=np.arange(len(labels))\n",
    "\n",
    "fig,ax=plt.subplots()\n",
    "rects=ax.bar(ind,values,color='g')\n",
    "ax.set_xticklabels(labels,rotation='vertical')\n",
    "ax.set_xticks(ind)\n",
    "ax.set_ylabel(\"Count\")\n",
    "ax.set_title(\"Top players of the matches\")\n",
    "autolabel(rects)\n",
    "plt.show()"
   ]
  },
  {
   "cell_type": "code",
   "execution_count": null,
   "id": "36eed27a",
   "metadata": {},
   "outputs": [],
   "source": [
    "#top empires\n",
    "temp_df = pd.melt(match_df, id_vars=['id'], value_vars=['umpire1', 'umpire2'])\n",
    "temp_series = temp_df.value.value_counts()[:10]\n",
    "labels = np.array(temp_series.index)\n",
    "ind = np.arange(len(labels))\n",
    "width = 0.9\n",
    "fig, ax = plt.subplots()\n",
    "rects = ax.bar(ind, np.array(temp_series), width=width, color='r')\n",
    "ax.set_xticks(ind)\n",
    "ax.set_xticklabels(labels, rotation='vertical')\n",
    "ax.set_ylabel(\"Count\")\n",
    "ax.set_title(\"Top Umpires\")\n",
    "autolabel(rects)\n",
    "plt.show()"
   ]
  },
  {
   "cell_type": "markdown",
   "id": "79eabed7",
   "metadata": {},
   "source": [
    "#### Percentage of toss winner of match winner"
   ]
  },
  {
   "cell_type": "code",
   "execution_count": null,
   "id": "3c204849",
   "metadata": {},
   "outputs": [],
   "source": [
    "temp=score_df.groupby(['match_id','inning','over','bowler'])['total_runs'].agg('sum').reset_index().sort_values(by='total_runs',\n",
    "                                                                                            ascending=False).reset_index(drop=True)\n",
    "temp=temp[:10]\n",
    "temp"
   ]
  },
  {
   "cell_type": "code",
   "execution_count": null,
   "id": "0e927577",
   "metadata": {},
   "outputs": [],
   "source": [
    "#plotting\n",
    "labels=np.array(temp['bowler'])\n",
    "ind=np.arange(len(labels))\n",
    "values=np.array(temp['total_runs'])\n",
    "\n",
    "fig,ax = plt.subplots()\n",
    "rects = ax.bar(ind,values,color='r')\n",
    "ax.set_xticklabels(labels,rotation='vertical')\n",
    "ax.set_xticks(ind)\n",
    "ax.set_title(\"Top 10 bowlers with Highest runs in an over\")\n",
    "ax.set_ylabel('runs')\n",
    "autolabel(rects)\n",
    "plt.show()"
   ]
  },
  {
   "cell_type": "markdown",
   "id": "533c8e41",
   "metadata": {},
   "source": [
    "I wish these were super overs"
   ]
  },
  {
   "cell_type": "markdown",
   "id": "d2efe1c3",
   "metadata": {},
   "source": [
    "#### Top 10 batsmen with Highest runs in an innings"
   ]
  },
  {
   "cell_type": "code",
   "execution_count": null,
   "id": "729c8c03",
   "metadata": {},
   "outputs": [],
   "source": [
    "temp=score_df.groupby(['match_id','inning','batsman'])['batsman_runs'].agg('sum').reset_index().sort_values(by='batsman_runs',\n",
    "                                                                                            ascending=False).reset_index(drop=True)\n",
    "temp=temp.drop_duplicates(subset='batsman', keep='first', inplace=False)[:10]\n",
    "temp"
   ]
  },
  {
   "cell_type": "code",
   "execution_count": null,
   "id": "9e7ef9ef",
   "metadata": {},
   "outputs": [],
   "source": [
    "#plotting\n",
    "labels=np.array(temp['batsman'])\n",
    "ind=np.arange(len(labels))\n",
    "values=np.array(temp['batsman_runs'])\n",
    "\n",
    "fig,ax = plt.subplots()\n",
    "rects = ax.bar(ind,values,color='g')\n",
    "ax.set_xticklabels(labels,rotation='vertical')\n",
    "ax.set_xticks(ind)\n",
    "ax.set_title(\"Top 10 batsmen with Highest runs in an innings\")\n",
    "ax.set_ylabel('runs')\n",
    "autolabel(rects)\n",
    "plt.show()"
   ]
  },
  {
   "cell_type": "markdown",
   "id": "2bbddc34",
   "metadata": {},
   "source": [
    "Gayle is super dangerous and the sky is the limit for him (that match was a nightmare to the oppsition team) followed by Mccullum and ABD"
   ]
  },
  {
   "cell_type": "markdown",
   "id": "dfcac4fe",
   "metadata": {},
   "source": [
    "#### Top batsmen with 2 or more than 2 centuries"
   ]
  },
  {
   "cell_type": "code",
   "execution_count": null,
   "id": "91c7c21d",
   "metadata": {},
   "outputs": [],
   "source": [
    "temp=score_df.groupby(['match_id','inning','batsman'])['batsman_runs'].agg('sum').reset_index().sort_values(by='batsman_runs',\n",
    "                                                                                            ascending=False).reset_index(drop=True)\n",
    "\n",
    "temp['no_of_100s']=0\n",
    "temp['no_of_100s'].loc[temp['batsman_runs']>=100]=1\n",
    "temp=temp.groupby(['batsman'])['no_of_100s'].agg(lambda a:(a==1).sum()).reset_index().sort_values(by='no_of_100s',\n",
    "                                                                                                 ascending=False).reset_index(drop=True)\n",
    "temp=temp[:9]"
   ]
  },
  {
   "cell_type": "code",
   "execution_count": null,
   "id": "d5090767",
   "metadata": {},
   "outputs": [],
   "source": [
    "#plotting\n",
    "labels=np.array(temp['batsman'])\n",
    "ind=np.arange(len(labels))\n",
    "values=np.array(temp['no_of_100s'])\n",
    "\n",
    "fig,ax = plt.subplots()\n",
    "rects = ax.bar(ind,values,color='g')\n",
    "ax.set_xticklabels(labels,rotation='vertical')\n",
    "ax.set_xticks(ind)\n",
    "ax.set_title(\"Top batsmen with 2 or more than 2 centuries\")\n",
    "ax.set_ylabel('Count')\n",
    "autolabel(rects)\n",
    "plt.show()"
   ]
  },
  {
   "cell_type": "markdown",
   "id": "942eb6ef",
   "metadata": {},
   "source": [
    "No wonder if it is Gayle and Kohli is also great at innings"
   ]
  },
  {
   "cell_type": "markdown",
   "id": "680b2975",
   "metadata": {},
   "source": [
    "#### Top 10 run scorers in IPL"
   ]
  },
  {
   "cell_type": "code",
   "execution_count": null,
   "id": "82fb7c32",
   "metadata": {},
   "outputs": [],
   "source": [
    "labels=(np.array(t.keys()))\n",
    "win_pers=(np.array(t))\n",
    "ind = np.arange(len(labels))\n",
    "\n",
    "fig,ax=plt.subplots()\n",
    "rects = ax.bar(ind,win_pers,width=0.9, color='g')\n",
    "ax.set_xticklabels(labels, rotation='vertical')\n",
    "ax.set_ylabel(\"Percentage\")\n",
    "ax.set_xticks(ind)\n",
    "autolabel(rects)\n",
    "plt.show()"
   ]
  },
  {
   "cell_type": "markdown",
   "id": "a9e85193",
   "metadata": {},
   "source": [
    "#### Toss decision:\n",
    "Let us see the toss decisions taken so far."
   ]
  },
  {
   "cell_type": "code",
   "execution_count": null,
   "id": "bd5756a1",
   "metadata": {},
   "outputs": [],
   "source": [
    "toss_count=match_df.groupby(['toss_decision'])\n",
    "toss_count=toss_count['id'].count()\n",
    "toss_count"
   ]
  },
  {
   "cell_type": "code",
   "execution_count": null,
   "id": "d2653cfc",
   "metadata": {},
   "outputs": [],
   "source": [
    "match_df['toss_winner_is_winner']='n'\n",
    "match_df['toss_winner_is_winner'].loc[match_df['toss_winner']==match_df['winner']]='y'\n",
    "temp=match_df['toss_winner_is_winner'].value_counts()\n",
    "labels=np.array(temp.index)\n",
    "values=np.array((temp/temp.sum())*100)\n",
    "colors = ['gold', 'lightskyblue']\n",
    "\n",
    "plt.pie(sizes, labels=labels, colors=colors,\n",
    "        autopct='%1.1f%%', shadow=True, startangle=90)\n",
    "plt.title(\"Toss winner is match winner\")\n",
    "plt.show()"
   ]
  },
  {
   "cell_type": "code",
   "execution_count": null,
   "id": "ec8c4d5c",
   "metadata": {},
   "outputs": [],
   "source": [
    "plt.figure(figsize=(12,6))\n",
    "sn.countplot(x='toss_winner', hue='toss_winner_is_winner', data=match_df)\n",
    "plt.xticks(rotation='vertical')\n",
    "plt.show()"
   ]
  },
  {
   "cell_type": "markdown",
   "id": "c74f05cf",
   "metadata": {},
   "source": [
    "#### each team winining type"
   ]
  }
 ],
 "metadata": {},
 "nbformat": 4,
 "nbformat_minor": 5
}
