{
 "cells": [
  {
   "cell_type": "markdown",
   "id": "58d3e542",
   "metadata": {},
   "source": [
    "# Guitar Tuning Filters\n",
    "\n",
    "* Design Band-Pass Filters using Guitar Frequecies\n",
    "* E2, A2, D3, G3, B3 and E4"
   ]
  },
  {
   "cell_type": "code",
   "execution_count": null,
   "id": "25e27786",
   "metadata": {},
   "outputs": [],
   "source": [
    "%matplotlib inline\n",
    "import matplotlib.pyplot as plt\n",
    "import numpy as np\n",
    "import scipy.signal as sig"
   ]
  },
  {
   "cell_type": "markdown",
   "id": "d3e46421",
   "metadata": {},
   "source": [
    "* Number of FIR taps\n",
    "* Nyquist Frequency"
   ]
  },
  {
   "cell_type": "code",
   "execution_count": null,
   "id": "a2f3fef7",
   "metadata": {},
   "outputs": [],
   "source": [
    "numtaps = 255\n",
    "fs = 44100.\n",
    "nyq = fs/2"
   ]
  },
  {
   "cell_type": "markdown",
   "id": "4766b13b",
   "metadata": {},
   "source": [
    "## Defining the band of FIRs\n",
    "* Define bands and calcutate the coefficients"
   ]
  },
  {
   "cell_type": "code",
   "execution_count": null,
   "id": "87938d85",
   "metadata": {},
   "outputs": [],
   "source": [
    "delta = 1\n",
    "cutoff_freq = {\"e2\":82,\"a2\":110,\"d3\":146,\"g3\":196,\"b3\":247,\"e4\":330}\n",
    "band_e2 = [cutoff_freq[\"e2\"]-delta,cutoff_freq[\"e2\"]+delta]\n",
    "band_a2 = [cutoff_freq[\"a2\"]-delta,cutoff_freq[\"a2\"]+delta]\n",
    "band_d3 = [cutoff_freq[\"d3\"]-delta,cutoff_freq[\"d3\"]+delta]\n",
    "band_g3 = [cutoff_freq[\"g3\"]-delta,cutoff_freq[\"g3\"]+delta]\n",
    "band_b3 = [cutoff_freq[\"b3\"]-delta,cutoff_freq[\"b3\"]+delta]\n",
    "band_e4 = [cutoff_freq[\"e4\"]-delta,cutoff_freq[\"e4\"]+delta]\n",
    "\n",
    "b_e2 = sig.firwin(numtaps, band_e2, nyq=nyq, pass_zero=False)\n",
    "b_a2 = sig.firwin(numtaps, band_a2, nyq=nyq, pass_zero=False)\n",
    "b_d3 = sig.firwin(numtaps, band_d3, nyq=nyq, pass_zero=False)\n",
    "b_g3 = sig.firwin(numtaps, band_g3, nyq=nyq, pass_zero=False)\n",
    "b_b3 = sig.firwin(numtaps, band_b3, nyq=nyq, pass_zero=False)\n",
    "b_e4 = sig.firwin(numtaps, band_e4, nyq=nyq, pass_zero=False)"
   ]
  },
  {
   "cell_type": "markdown",
   "id": "0c952030",
   "metadata": {},
   "source": [
    "## Number of bits and normalization"
   ]
  },
  {
   "cell_type": "code",
   "execution_count": null,
   "id": "ad8537b3",
   "metadata": {},
   "outputs": [],
   "source": [
    "nBits = 15\n",
    "max_val = 2**(nBits) - 1\n",
    "\n",
    "# Normalizacao dos coeficientes\n",
    "bn_e2 = b_e2/ np.max(np.abs(b_e2))\n",
    "bn_a2 = b_a2/ np.max(np.abs(b_a2))\n",
    "bn_d3 = b_d3/ np.max(np.abs(b_d3))\n",
    "bn_g3 = b_g3/ np.max(np.abs(b_g3))\n",
    "bn_b3 = b_b3/ np.max(np.abs(b_b3))\n",
    "bn_e4 = b_e4/ np.max(np.abs(b_e4))"
   ]
  },
  {
   "cell_type": "markdown",
   "id": "ae0f42a7",
   "metadata": {},
   "source": [
    "## Plotting the sync response of each filter"
   ]
  },
  {
   "cell_type": "code",
   "execution_count": null,
   "id": "993d9fc6",
   "metadata": {},
   "outputs": [],
   "source": [
    "plt.subplot(321)\n",
    "plt.plot(bn_e2)\n",
    "plt.title(\"E2 Filter\")\n",
    "\n",
    "plt.subplot(322)\n",
    "plt.plot(bn_a2)\n",
    "plt.title(\"A2 Filter\")\n",
    "\n",
    "plt.subplot(323)\n",
    "plt.plot(bn_d3)\n",
    "plt.title(\"D3 Filter\")\n",
    "\n",
    "plt.subplot(324)\n",
    "plt.plot(bn_g3)\n",
    "plt.title(\"G3 Filter\")\n",
    "\n",
    "plt.subplot(325)\n",
    "plt.plot(bn_b3)\n",
    "plt.title(\"B3 Filter\")\n",
    "\n",
    "plt.subplot(326)\n",
    "plt.plot(bn_e4)\n",
    "plt.title(\"E4 Filter\")\n",
    "\n",
    "plt.tight_layout()\n",
    "plt.show()\n"
   ]
  },
  {
   "cell_type": "code",
   "execution_count": null,
   "id": "e438edcf",
   "metadata": {},
   "outputs": [],
   "source": [
    "#wn, hn = sig.freqz(bn_e4/np.sum(bn_e4.astype(float))) # <= w <= frequencias, h <= resposta (numeros complexos)\n",
    "w_e2, h_e2 = sig.freqz(b_e2)\n",
    "w_a2, h_a2 = sig.freqz(b_a2)\n",
    "w_d3, h_d3 = sig.freqz(b_d3)\n",
    "w_g3, h_g3 = sig.freqz(b_g3)\n",
    "w_b3, h_b3 = sig.freqz(b_b3)\n",
    "w_e4, h_e4 = sig.freqz(b_e4)\n",
    "\n",
    "plt.figure()\n",
    "plt.axis([0,700,-1,2])\n",
    "plt.title(\"Absolute Value\")\n",
    "plt.xlabel(\"Frequency [Hz]\")\n",
    "plt.ylabel(\"Gain\")\n",
    "plt.plot(w_e2*nyq/(np.pi), np.abs(h_e2), label=\"E2\")\n",
    "plt.plot(w_a2*nyq/(np.pi), np.abs(h_a2), label=\"A2\")\n",
    "plt.plot(w_d3*nyq/(np.pi), np.abs(h_d3), label=\"D3\")\n",
    "plt.plot(w_g3*nyq/(np.pi), np.abs(h_g3), label=\"G3\")\n",
    "plt.plot(w_b3*nyq/(np.pi), np.abs(h_b3), label=\"B3\")\n",
    "plt.plot(w_e4*nyq/(np.pi), np.abs(h_e4), label=\"E4\")\n",
    "\n",
    "leg = plt.legend(loc='best', ncol=2, shadow=False, fancybox=False)\n",
    "leg.get_frame().set_alpha(0.5)\n",
    "\n",
    "plt.show()\n",
    "\n",
    "#plt.figure()\n",
    "#plt.axis([0,1000,-140,50])\n",
    "#plt.plot(w*nyq/(np.pi), 20*np.log10(np.abs(h))) # Plot em dB\n",
    "#plt.plot(wn*nyq/(np.pi), 20*np.log10(np.abs(hn))) # Plot em dB\n",
    "#plt.xlabel(\"Frequency [Hz]\")\n",
    "#plt.ylabel(\"Gain [dB]\")\n",
    "#plt.show()"
   ]
  },
  {
   "cell_type": "markdown",
   "id": "fc0e969d",
   "metadata": {},
   "source": [
    "## Getting FIR coefficients to apply in project\n",
    "* Remember to change the coefficients you want in the print!!"
   ]
  }
 ],
 "metadata": {},
 "nbformat": 4,
 "nbformat_minor": 5
}
