{
 "cells": [
  {
   "cell_type": "markdown",
   "id": "ab90e3a3",
   "metadata": {},
   "source": [
    "### Apply Operations to Elements"
   ]
  },
  {
   "cell_type": "markdown",
   "id": "a07beacc",
   "metadata": {},
   "source": [
    "#### Setting up enviornment "
   ]
  },
  {
   "cell_type": "code",
   "execution_count": null,
   "id": "a525b461",
   "metadata": {},
   "outputs": [],
   "source": [
    "# Load library numpy \n",
    "\n",
    "import numpy as np "
   ]
  },
  {
   "cell_type": "markdown",
   "id": "f5059a40",
   "metadata": {},
   "source": [
    "#### Create matrix"
   ]
  },
  {
   "cell_type": "code",
   "execution_count": null,
   "id": "bb8e5be1",
   "metadata": {},
   "outputs": [],
   "source": [
    "matrix= np.array([[10,7,9],\n",
    "                 [11,33,4],\n",
    "                 [22,4,10]])"
   ]
  },
  {
   "cell_type": "markdown",
   "id": "93331de6",
   "metadata": {},
   "source": [
    "#### Calculate Vectorized Function"
   ]
  },
  {
   "cell_type": "code",
   "execution_count": null,
   "id": "4835bdf9",
   "metadata": {},
   "outputs": [],
   "source": [
    "# Create a function that adds 222 to something\n",
    "\n",
    "add_222 = lambda i: i+ 222\n",
    "\n",
    "#Create a vectorized function \n",
    "\n",
    "vectorized_add_222 = np.vectorize(add_222)"
   ]
  },
  {
   "cell_type": "markdown",
   "id": "c6014b7a",
   "metadata": {},
   "source": [
    "### Apply funciton to Elements"
   ]
  }
 ],
 "metadata": {},
 "nbformat": 4,
 "nbformat_minor": 5
}
