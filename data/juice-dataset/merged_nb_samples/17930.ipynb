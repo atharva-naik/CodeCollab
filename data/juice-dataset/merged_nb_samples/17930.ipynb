{
 "cells": [
  {
   "cell_type": "code",
   "execution_count": null,
   "id": "58ef9aac",
   "metadata": {},
   "outputs": [],
   "source": [
    "from IPython.display import HTML\n",
    "\n",
    "HTML('''<script>\n",
    "code_show=true; \n",
    "function code_toggle() {\n",
    " if (code_show){\n",
    " $('div.input').hide();\n",
    " } else {\n",
    " $('div.input').show();\n",
    " }\n",
    " code_show = !code_show\n",
    "} \n",
    "$( document ).ready(code_toggle);\n",
    "</script>\n",
    "<form action=\"javascript:code_toggle()\"><input type=\"submit\" value=\"Click here to toggle on/off the raw code.\"></form>''')"
   ]
  },
  {
   "cell_type": "code",
   "execution_count": null,
   "id": "0acf0d45",
   "metadata": {},
   "outputs": [],
   "source": [
    "import pandas as pd\n",
    "import matplotlib\n",
    "from IPython.display import Image\n",
    "from IPython.core.display import HTML \n",
    "\n",
    "%matplotlib inline"
   ]
  },
  {
   "cell_type": "markdown",
   "id": "abde9af1",
   "metadata": {},
   "source": [
    "# 311 Data Exploration"
   ]
  },
  {
   "cell_type": "markdown",
   "id": "cfbbf4e5",
   "metadata": {},
   "source": [
    "### Reading Standardized Data\n",
    "### Data Table: (Rows, Columns)"
   ]
  },
  {
   "cell_type": "code",
   "execution_count": null,
   "id": "de8a4144",
   "metadata": {},
   "outputs": [],
   "source": [
    "df=pd.read_csv('311_geo_report.csv',parse_dates=['requested_datetime','updated_datetime','closed_date'])\n",
    "df.shape"
   ]
  },
  {
   "cell_type": "markdown",
   "id": "3dfac928",
   "metadata": {},
   "source": [
    "### Sample Data"
   ]
  },
  {
   "cell_type": "code",
   "execution_count": null,
   "id": "918fcd22",
   "metadata": {},
   "outputs": [],
   "source": [
    "df.head()"
   ]
  },
  {
   "cell_type": "markdown",
   "id": "cad946e0",
   "metadata": {},
   "source": [
    "### Number of requests per year"
   ]
  },
  {
   "cell_type": "code",
   "execution_count": null,
   "id": "f7f2acea",
   "metadata": {},
   "outputs": [],
   "source": [
    "df['count']=1\n",
    "df['year']=df.requested_datetime.dt.year\n",
    "df[['year','count']].groupby('year').count().plot(kind='bar')"
   ]
  },
  {
   "cell_type": "markdown",
   "id": "d35ef816",
   "metadata": {},
   "source": [
    "### Limiting data to 2017\n",
    "### Number of requests per month (2017)"
   ]
  },
  {
   "cell_type": "code",
   "execution_count": null,
   "id": "998cff75",
   "metadata": {},
   "outputs": [],
   "source": [
    "df=df[df['year']==2017]\n",
    "df['month']=df.requested_datetime.dt.month\n",
    "df[['month','count']].groupby('month').count().plot(kind='bar')"
   ]
  },
  {
   "cell_type": "markdown",
   "id": "214227f0",
   "metadata": {},
   "source": [
    "### Limiting data to Feb 2017 to June 2017\n",
    "### Total number of requests from Feb to June (2017)"
   ]
  },
  {
   "cell_type": "code",
   "execution_count": null,
   "id": "6c7da181",
   "metadata": {},
   "outputs": [],
   "source": [
    "df=df[df.month>2]\n",
    "df.shape[0]"
   ]
  },
  {
   "cell_type": "markdown",
   "id": "c2b5de7d",
   "metadata": {},
   "source": [
    "### Most frequent request types (top 10)"
   ]
  },
  {
   "cell_type": "code",
   "execution_count": null,
   "id": "260ba374",
   "metadata": {},
   "outputs": [],
   "source": [
    "top_services=df.service_name.value_counts().head(10)\n",
    "top_services.plot(kind='barh',figsize=(10,5))"
   ]
  },
  {
   "cell_type": "markdown",
   "id": "e5d32a2b",
   "metadata": {},
   "source": [
    "### Total Number of frequent requests (top 10) from Feb to June (2017)"
   ]
  },
  {
   "cell_type": "code",
   "execution_count": null,
   "id": "0d493d50",
   "metadata": {},
   "outputs": [],
   "source": [
    "df=df[df.service_name.isin(top_services.keys())]\n",
    "df.shape[0]"
   ]
  },
  {
   "cell_type": "markdown",
   "id": "007793c8",
   "metadata": {},
   "source": [
    "### Request types by month (March 2017 - July 2017)"
   ]
  },
  {
   "cell_type": "code",
   "execution_count": null,
   "id": "587d1b4d",
   "metadata": {},
   "outputs": [],
   "source": [
    "dg=df[['service_name','month','count']].groupby(['month','service_name']).count().unstack()\n",
    "dg.columns=dg.columns.droplevel()\n",
    "dg=dg[list(top_services.keys())]\n",
    "dg.plot(figsize=(10,7),kind='bar',stacked=True).legend(loc='center left', bbox_to_anchor=(1, 0.5))"
   ]
  },
  {
   "cell_type": "markdown",
   "id": "3b0a62c5",
   "metadata": {},
   "source": [
    "### Request types by hours "
   ]
  },
  {
   "cell_type": "code",
   "execution_count": null,
   "id": "20468e27",
   "metadata": {},
   "outputs": [],
   "source": [
    "df['hour']=df.requested_datetime.dt.hour"
   ]
  },
  {
   "cell_type": "code",
   "execution_count": null,
   "id": "b29f2d99",
   "metadata": {},
   "outputs": [],
   "source": [
    "dg=df[['service_name','hour','count']].groupby(['hour','service_name']).count().unstack()\n",
    "dg.columns=dg.columns.droplevel()\n",
    "dg=dg[list(top_services.keys())]\n",
    "dg.plot(figsize=(17,10),kind='bar',stacked=True)"
   ]
  },
  {
   "cell_type": "markdown",
   "id": "1841c580",
   "metadata": {},
   "source": [
    "### Calculating response times"
   ]
  },
  {
   "cell_type": "code",
   "execution_count": null,
   "id": "572fd23e",
   "metadata": {},
   "outputs": [],
   "source": [
    "df['response_time']=df.closed_date-df.requested_datetime\n",
    "df['response_days']=df.response_time.dt.days"
   ]
  },
  {
   "cell_type": "code",
   "execution_count": null,
   "id": "8e5214b2",
   "metadata": {},
   "outputs": [],
   "source": [
    "df=df[df.response_time.dt.seconds>0]"
   ]
  },
  {
   "cell_type": "code",
   "execution_count": null,
   "id": "50a0a64a",
   "metadata": {},
   "outputs": [],
   "source": [
    "dg=df[['service_request_id','service_name','response_days']].pivot(index='service_request_id',columns='service_name')\n",
    "dg.columns=dg.columns.droplevel(0)"
   ]
  },
  {
   "cell_type": "markdown",
   "id": "4525db47",
   "metadata": {},
   "source": [
    "### Response times by types (in days)"
   ]
  },
  {
   "cell_type": "code",
   "execution_count": null,
   "id": "19e5a72b",
   "metadata": {},
   "outputs": [],
   "source": [
    "\n",
    "l=list(dg.median().sort_values(ascending=False).index)\n",
    "l=[s for s in l if s not in ['CS-Lost call (wrong #, hang up, dead air)',\n",
    "                             'Ticket info. (balance, how many, citation #, etc.)',\n",
    "                             'Welcome desk information',\n",
    "                             'ISD-Buildings'\n",
    "                          ]]\n",
    "dg[l].boxplot(figsize=(15,5),vert=False,grid=False,showfliers=False,return_type='axes')"
   ]
  },
  {
   "cell_type": "markdown",
   "id": "5f1f487e",
   "metadata": {},
   "source": [
    "#### * boxplot guide"
   ]
  }
 ],
 "metadata": {},
 "nbformat": 4,
 "nbformat_minor": 5
}
