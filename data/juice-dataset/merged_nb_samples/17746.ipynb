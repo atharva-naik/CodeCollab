{
 "cells": [
  {
   "cell_type": "markdown",
   "id": "bb5fbbcb",
   "metadata": {},
   "source": [
    "**Given Date:** 14/05/2017<br>\n",
    "**Deadline:** 21/05/2017<br>\n",
    "**Mandatory:** Sentence Segmentation <br>\n",
    "**Optional:** Tokenizer, Word Segmentation, Unique Word Count, Character Frequency"
   ]
  },
  {
   "cell_type": "code",
   "execution_count": null,
   "id": "8cf15a26",
   "metadata": {},
   "outputs": [],
   "source": [
    "import nltk as nl\n",
    "import re\n",
    "import codecs"
   ]
  },
  {
   "cell_type": "markdown",
   "id": "6ebc7ea7",
   "metadata": {},
   "source": [
    "<h2>Sentence Segmentation</h2>"
   ]
  }
 ],
 "metadata": {},
 "nbformat": 4,
 "nbformat_minor": 5
}
