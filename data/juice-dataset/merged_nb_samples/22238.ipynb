{
 "cells": [
  {
   "cell_type": "markdown",
   "id": "47294e52",
   "metadata": {},
   "source": [
    "# Project: Exploring Ebay Car Sales Data"
   ]
  },
  {
   "cell_type": "markdown",
   "id": "4826fdb2",
   "metadata": {},
   "source": [
    "In this project, we explore a dataset of used cars from eBay _Kleinanzeigen_, a classifieds section of the German eBay website.\n",
    "\n",
    "The dataset was originally scraped and uploaded to [Kaggle](https://www.kaggle.com/orgesleka/used-cars-database/data). We've made a few modifications from the original dataset that was uploaded to Kaggle:\n",
    "\n",
    "We sampled 50,000 data points from the full dataset, to ensure your code runs quickly in our hosted environment\n",
    "We dirtied the dataset a bit to more closely resemble what you would expect from a scraped dataset (the version uploaded to Kaggle was cleaned to be easier to work with)\n",
    "\n",
    "The aim of this project is to clean the data and analyze the included used car listings."
   ]
  },
  {
   "cell_type": "markdown",
   "id": "cb70afb2",
   "metadata": {},
   "source": [
    "The data dictionary provided with data is as follows:\n",
    "\n",
    "    dateCrawled - When this ad was first crawled. All field-values are taken from this date.\n",
    "    name - Name of the car.\n",
    "    seller - Whether the seller is private or a dealer.\n",
    "    offerType - The type of listing\n",
    "    price - The price on the ad to sell the car.\n",
    "    abtest - Whether the listing is included in an A/B test.\n",
    "    vehicleType - The vehicle Type.\n",
    "    yearOfRegistration - The year in which which year the car was first registered.\n",
    "    gearbox - The transmission type.\n",
    "    powerPS - The power of the car in PS.\n",
    "    model - The car model name.\n",
    "    kilometer - How many kilometers the car has driven.\n",
    "    monthOfRegistration - The month in which which year the car was first registered.\n",
    "    fuelType - What type of fuel the car uses.\n",
    "    brand - The brand of the car.\n",
    "    notRepairedDamage - If the car has a damage which is not yet repaired.\n",
    "    dateCreated - The date on which the eBay listing was created.\n",
    "    nrOfPictures - The number of pictures in the ad.\n",
    "    postalCode - The postal code for the location of the vehicle.\n",
    "    lastSeenOnline - When the crawler saw this ad last online."
   ]
  },
  {
   "cell_type": "code",
   "execution_count": null,
   "id": "68498f95",
   "metadata": {},
   "outputs": [],
   "source": [
    "# import libraries\n",
    "import pandas as pd\n",
    "import numpy as np"
   ]
  },
  {
   "cell_type": "markdown",
   "id": "2e1d7f60",
   "metadata": {},
   "source": [
    "## capture data and get basic information"
   ]
  },
  {
   "cell_type": "code",
   "execution_count": null,
   "id": "5529ffed",
   "metadata": {},
   "outputs": [],
   "source": [
    "bmp_series = pd.Series(brand_mean_price)\n",
    "bmp_series"
   ]
  },
  {
   "cell_type": "code",
   "execution_count": null,
   "id": "b69e5c5a",
   "metadata": {},
   "outputs": [],
   "source": [
    "bmm_series = pd.Series(brand_mean_mileage)\n",
    "bmm_series"
   ]
  },
  {
   "cell_type": "markdown",
   "id": "c2a530b3",
   "metadata": {},
   "source": [
    "Create a dataframe from the brand_mean_prices series via the DataFrame constructor"
   ]
  },
  {
   "cell_type": "code",
   "execution_count": null,
   "id": "e867c484",
   "metadata": {},
   "outputs": [],
   "source": [
    "# convert from float to int\n",
    "brands = pd.DataFrame(bmp_series.astype(int), columns=['mean_price'])\n",
    "brands"
   ]
  },
  {
   "cell_type": "markdown",
   "id": "ff0f939a",
   "metadata": {},
   "source": [
    "Assign the other series as a new column in this dataframe"
   ]
  },
  {
   "cell_type": "code",
   "execution_count": null,
   "id": "886513f3",
   "metadata": {},
   "outputs": [],
   "source": [
    "# convert from float to int\n",
    "brands['mean_mileage_km'] = bmm_series.astype(int)\n",
    "brands"
   ]
  },
  {
   "cell_type": "markdown",
   "id": "3c852043",
   "metadata": {},
   "source": [
    "Analyze dataframe"
   ]
  },
  {
   "cell_type": "code",
   "execution_count": null,
   "id": "c051c78d",
   "metadata": {},
   "outputs": [],
   "source": [
    "brands"
   ]
  },
  {
   "cell_type": "code",
   "execution_count": null,
   "id": "92e00b62",
   "metadata": {},
   "outputs": [],
   "source": [
    "# brands with less than 100,000 km\n",
    "brands[brands['mean_mileage_km'] < 100000]"
   ]
  },
  {
   "cell_type": "code",
   "execution_count": null,
   "id": "de4036f2",
   "metadata": {},
   "outputs": [],
   "source": [
    "# sort by mean mileage\n",
    "brands.sort_values(by='mean_mileage_km')"
   ]
  },
  {
   "cell_type": "code",
   "execution_count": null,
   "id": "d1122846",
   "metadata": {},
   "outputs": [],
   "source": [
    "# sort by mean price\n",
    "brands.sort_values(by='mean_price')"
   ]
  },
  {
   "cell_type": "markdown",
   "id": "2c15b756",
   "metadata": {},
   "source": [
    "Limiting our focus to the top 6 brands"
   ]
  },
  {
   "cell_type": "code",
   "execution_count": null,
   "id": "8461e5a5",
   "metadata": {},
   "outputs": [],
   "source": [
    "autos['odometer_km'].describe()"
   ]
  },
  {
   "cell_type": "code",
   "execution_count": null,
   "id": "911aeac9",
   "metadata": {},
   "outputs": [],
   "source": [
    "autos['odometer_km'].value_counts().sort_index(ascending=True)"
   ]
  },
  {
   "cell_type": "code",
   "execution_count": null,
   "id": "b5471041",
   "metadata": {},
   "outputs": [],
   "source": [
    "# % of cars with odometer reading of 150,000 km\n",
    "(31414/48565) * 100"
   ]
  },
  {
   "cell_type": "markdown",
   "id": "50e64893",
   "metadata": {},
   "source": [
    "The odometer numbers range from 5,000 km to 150,000 km with a majority (64.68%) having the maximum. Users must have been given a set of pre-set options to pick from, explaining the nice rounded numbers. There a lot of high mileage vehicles."
   ]
  },
  {
   "cell_type": "markdown",
   "id": "ca68a107",
   "metadata": {},
   "source": [
    "---"
   ]
  },
  {
   "cell_type": "markdown",
   "id": "431d69ed",
   "metadata": {},
   "source": [
    "## Explore Date Columns"
   ]
  },
  {
   "cell_type": "markdown",
   "id": "e8705d76",
   "metadata": {},
   "source": [
    "There are several date columns in the data:\n",
    "- date_crawled\n",
    "- ad_created\n",
    "- registration_month\n",
    "- registration_year\n",
    "- last_seen\n",
    "\n",
    "Some of these came directly from the website and others were created by the web crawler."
   ]
  },
  {
   "cell_type": "code",
   "execution_count": null,
   "id": "16bd3e6c",
   "metadata": {},
   "outputs": [],
   "source": [
    "dates = ['date_crawled', 'ad_created', 'last_seen', 'registration_month', 'registration_year']\n",
    "autos[dates].describe(include='all')"
   ]
  },
  {
   "cell_type": "code",
   "execution_count": null,
   "id": "348cc83a",
   "metadata": {},
   "outputs": [],
   "source": [
    "autos[dates].info()"
   ]
  },
  {
   "cell_type": "markdown",
   "id": "db33f681",
   "metadata": {},
   "source": [
    "**Observation:**\n",
    "registration_month and registration_year are numeric data types. registration_month has values ranging from 0 to 12, representing the 12 months of the year. Perhaps the 0 means there was no registration month. registration_year ranges from 1000 to 9999. Some of these values do not look valid.\n",
    "\n",
    "\n",
    "date_crawled, ad_created and last_seen are dates identified as strings. They need to be converted into a numerical representation. We will split the date from the timestamp and look at the distribution of the values for each column."
   ]
  },
  {
   "cell_type": "code",
   "execution_count": null,
   "id": "131242d2",
   "metadata": {},
   "outputs": [],
   "source": [
    "autos[dates].head()"
   ]
  },
  {
   "cell_type": "markdown",
   "id": "8679bcce",
   "metadata": {},
   "source": [
    "**date_crawled**"
   ]
  },
  {
   "cell_type": "code",
   "execution_count": null,
   "id": "ef0f1965",
   "metadata": {},
   "outputs": [],
   "source": [
    "autos['unrepaired_damage'].value_counts()"
   ]
  },
  {
   "cell_type": "code",
   "execution_count": null,
   "id": "96fa7e3b",
   "metadata": {},
   "outputs": [],
   "source": [
    "autos['registration_month'].value_counts()"
   ]
  },
  {
   "cell_type": "code",
   "execution_count": null,
   "id": "cce0f432",
   "metadata": {},
   "outputs": [],
   "source": [
    "autos['registration_year'].value_counts()"
   ]
  },
  {
   "cell_type": "code",
   "execution_count": null,
   "id": "1591bfca",
   "metadata": {},
   "outputs": [],
   "source": [
    "autos['odometer'].value_counts()"
   ]
  },
  {
   "cell_type": "code",
   "execution_count": null,
   "id": "affb9bee",
   "metadata": {},
   "outputs": [],
   "source": [
    "autos['abtest'].value_counts()"
   ]
  },
  {
   "cell_type": "code",
   "execution_count": null,
   "id": "a756ab07",
   "metadata": {},
   "outputs": [],
   "source": [
    "autos['offer_type'].value_counts()"
   ]
  },
  {
   "cell_type": "code",
   "execution_count": null,
   "id": "fcead56b",
   "metadata": {},
   "outputs": [],
   "source": [
    "autos['seller'].value_counts()"
   ]
  },
  {
   "cell_type": "code",
   "execution_count": null,
   "id": "9c373db3",
   "metadata": {},
   "outputs": [],
   "source": [
    "autos['vehicle_type'].value_counts()"
   ]
  },
  {
   "cell_type": "markdown",
   "id": "b9b856e0",
   "metadata": {},
   "source": [
    "### drop columns"
   ]
  },
  {
   "cell_type": "markdown",
   "id": "1608a872",
   "metadata": {},
   "source": [
    "We observed a few columns with a couple of unique values where most of the columns had the same value:\n",
    "- offer_type\n",
    "- seller\n",
    "\n",
    "We also observed that all values in the num_photos column were 0. So none of the cars in our dataset had any photos included.\n",
    "\n",
    "We can drop these 3 columns"
   ]
  },
  {
   "cell_type": "code",
   "execution_count": null,
   "id": "0a5be8e9",
   "metadata": {},
   "outputs": [],
   "source": [
    "autos = autos.drop(['offer_type', 'seller', 'num_photos'], axis=1)"
   ]
  },
  {
   "cell_type": "markdown",
   "id": "0cf1fc99",
   "metadata": {},
   "source": [
    "### convert numeric values stored as text to numeric values - price and odometer"
   ]
  },
  {
   "cell_type": "code",
   "execution_count": null,
   "id": "8bba2a3b",
   "metadata": {},
   "outputs": [],
   "source": [
    "autos['registration_year'].describe()"
   ]
  },
  {
   "cell_type": "code",
   "execution_count": null,
   "id": "fefa0f56",
   "metadata": {},
   "outputs": [],
   "source": [
    "(autos['registration_year']\n",
    "     .value_counts()\n",
    "     .sort_index(ascending=False)\n",
    ")"
   ]
  },
  {
   "cell_type": "markdown",
   "id": "f12893e2",
   "metadata": {},
   "source": [
    "Registration year is the year that the car was first registered. This would be close to if not the same year as the car was built.\n",
    "\n",
    "The minimum (1000) and maximum (9999) years are odd. There were no cars in the year 1000 and 9999 is way into the future. If the web crawler captured ads during March and April of 2016, we would expect the registration years to range from 19XX to 2016."
   ]
  },
  {
   "cell_type": "markdown",
   "id": "5410294f",
   "metadata": {},
   "source": [
    "## Cleaning up registration years"
   ]
  },
  {
   "cell_type": "markdown",
   "id": "23078c60",
   "metadata": {},
   "source": [
    "We observed a few odd values in the registration_year column. We need to dive deeper to clean up the column. \n",
    "\n",
    "A car can't be registered before the listing was seen, so any car with a registration year above 2016 is inaccurate. We also need to look at the earlier dates to see what we can remove."
   ]
  },
  {
   "cell_type": "code",
   "execution_count": null,
   "id": "706779f0",
   "metadata": {},
   "outputs": [],
   "source": [
    "years = [2016, 2017, 2018, 2019, 2020]\n",
    "for year in years:\n",
    "    num = autos[autos['registration_year'] > year].shape[0]\n",
    "    print('There are {0} vehicles with registration years higher than {1}'.format(num, year))"
   ]
  },
  {
   "cell_type": "code",
   "execution_count": null,
   "id": "0dec7c81",
   "metadata": {},
   "outputs": [],
   "source": [
    "years = [2016, 2017, 2018, 2019, 2020]\n",
    "for year in years:\n",
    "    num = autos[autos['registration_year'] == year].shape[0]\n",
    "    print('There are {0} vehicles with registration years in {1}'.format(num, year))"
   ]
  },
  {
   "cell_type": "markdown",
   "id": "0c438e08",
   "metadata": {},
   "source": [
    "There are almost 1900 cars with registration years higher than 2016, the year in which the web crawler captured this data. A majority of these have registration years in 2017, 2018 and 2 in 2019. Regardless, these will be removed."
   ]
  },
  {
   "cell_type": "code",
   "execution_count": null,
   "id": "79c6c5dc",
   "metadata": {},
   "outputs": [],
   "source": [
    "years = [1900, 1950, 2000, 2010, 2020]\n",
    "for year in years:\n",
    "    num = autos[autos['registration_year'] < year].shape[0]\n",
    "    print('There are {0} vehicles with registration years lower than {1}'.format(num, year))"
   ]
  },
  {
   "cell_type": "code",
   "execution_count": null,
   "id": "a1f06f5f",
   "metadata": {},
   "outputs": [],
   "source": [
    "(autos['registration_year']\n",
    "     .value_counts()\n",
    "     .sort_index(ascending=True)\n",
    "     .head(10)\n",
    ")"
   ]
  },
  {
   "cell_type": "markdown",
   "id": "e971baca",
   "metadata": {},
   "source": [
    "There are a handful of cars with registration years lower than 1900. This seems very unlikely. Looking at those years further (1800, 1111, 1001, 1000), cars did not even exist during this time! These should be removed."
   ]
  },
  {
   "cell_type": "markdown",
   "id": "40c666e7",
   "metadata": {},
   "source": [
    "Create brand_mean_price and brand_mean_mileage"
   ]
  },
  {
   "cell_type": "code",
   "execution_count": null,
   "id": "4a67e73d",
   "metadata": {},
   "outputs": [],
   "source": [
    "# capture top 20 brands\n",
    "top_20_brands = (autos['brand']\n",
    "                     .value_counts()\n",
    "                     .sort_values(ascending=False)\n",
    "                     .index[:20]\n",
    "                )"
   ]
  },
  {
   "cell_type": "code",
   "execution_count": null,
   "id": "07918809",
   "metadata": {},
   "outputs": [],
   "source": [
    "# calculate mean mileage and mean price for top 20 brands\n",
    "brand_mean_price = {}\n",
    "brand_mean_mileage = {}\n",
    "\n",
    "for brand in top_20_brands:\n",
    "    #print(brand)\n",
    "    brand_autos = autos[autos['brand'] == brand]\n",
    "    #print(brand_autos.head())\n",
    "    mean_price = brand_autos['price'].mean()\n",
    "    #print(mean_price)\n",
    "    mean_mileage = brand_autos['odometer_km'].mean()\n",
    "    #print(mean_mileage)\n",
    "    brand_mean_price[brand] = mean_price\n",
    "    brand_mean_mileage[brand] = mean_mileage"
   ]
  },
  {
   "cell_type": "code",
   "execution_count": null,
   "id": "94ae6785",
   "metadata": {},
   "outputs": [],
   "source": [
    "brand_mean_price"
   ]
  },
  {
   "cell_type": "code",
   "execution_count": null,
   "id": "f5c37ebd",
   "metadata": {},
   "outputs": [],
   "source": [
    "autos.columns"
   ]
  },
  {
   "cell_type": "code",
   "execution_count": null,
   "id": "f7806e84",
   "metadata": {},
   "outputs": [],
   "source": [
    "brand_mean_mileage"
   ]
  },
  {
   "cell_type": "markdown",
   "id": "a5991a81",
   "metadata": {},
   "source": [
    "Convert both dictionaries to series objects via the Series constructor"
   ]
  },
  {
   "cell_type": "markdown",
   "id": "ddd3e538",
   "metadata": {},
   "source": [
    "### Explore odometer_km"
   ]
  },
  {
   "cell_type": "code",
   "execution_count": null,
   "id": "bc8003db",
   "metadata": {},
   "outputs": [],
   "source": [
    "autos['odometer_km'].unique()"
   ]
  },
  {
   "cell_type": "code",
   "execution_count": null,
   "id": "c69b5f59",
   "metadata": {},
   "outputs": [],
   "source": [
    "# convert odometer column to int type after cleaning non-numeric values\n",
    "autos['odometer'] = (autos['odometer']\n",
    "                         .str.replace('km', '')\n",
    "                         .str.replace(',', '')\n",
    "                         .astype(int)\n",
    "                    )"
   ]
  },
  {
   "cell_type": "code",
   "execution_count": null,
   "id": "d3f381ba",
   "metadata": {},
   "outputs": [],
   "source": [
    "# rename odometer column name to include distance information\n",
    "autos.rename({'odometer': 'odometer_km'}, axis=1, inplace=True)"
   ]
  },
  {
   "cell_type": "code",
   "execution_count": null,
   "id": "4908fc65",
   "metadata": {},
   "outputs": [],
   "source": [
    "autos.info()"
   ]
  },
  {
   "cell_type": "markdown",
   "id": "c883f2b5",
   "metadata": {},
   "source": [
    "## Continue Data Exploration"
   ]
  },
  {
   "cell_type": "markdown",
   "id": "cc113569",
   "metadata": {},
   "source": [
    "### Explore prices"
   ]
  },
  {
   "cell_type": "code",
   "execution_count": null,
   "id": "77e41dc9",
   "metadata": {},
   "outputs": [],
   "source": [
    "autos['price'].unique().shape"
   ]
  },
  {
   "cell_type": "code",
   "execution_count": null,
   "id": "efb40d52",
   "metadata": {},
   "outputs": [],
   "source": [
    "autos['price'].describe()"
   ]
  },
  {
   "cell_type": "code",
   "execution_count": null,
   "id": "6530fe4c",
   "metadata": {},
   "outputs": [],
   "source": [
    "autos['price'].value_counts().head(20)"
   ]
  },
  {
   "cell_type": "code",
   "execution_count": null,
   "id": "a3b5d7d8",
   "metadata": {},
   "outputs": [],
   "source": [
    "autos['price'].value_counts().sort_index(ascending=False).head(20)"
   ]
  },
  {
   "cell_type": "code",
   "execution_count": null,
   "id": "35aad360",
   "metadata": {},
   "outputs": [],
   "source": [
    "autos['price'].value_counts().sort_index(ascending=True).head(20)"
   ]
  },
  {
   "cell_type": "markdown",
   "id": "b96bd725",
   "metadata": {},
   "source": [
    "**Observations:**\n",
    "- There are 2357 unique prices\n",
    "- 1421 entries have a price of \\$0\n",
    "- The most expensive is \\$99M\n",
    "- The most expensive 20 are \\$197,000 and up\n",
    "- The 1st quartile is \\$1,100 and the 3rd quartile is \\$7,200 with the 2nd quartile being \\$2,950\n",
    "- Prices go up to \\$350,000 before jumping up to \\$1 M and then much higher\n",
    "- Ebay being a bidding platform, it is possible for prices to start even at \\$1"
   ]
  },
  {
   "cell_type": "code",
   "execution_count": null,
   "id": "093903e4",
   "metadata": {},
   "outputs": [],
   "source": [
    "autos.shape[0]"
   ]
  },
  {
   "cell_type": "code",
   "execution_count": null,
   "id": "0950d968",
   "metadata": {},
   "outputs": [],
   "source": [
    "autos[autos['registration_year'].between(1900, 2016)].shape[0]"
   ]
  },
  {
   "cell_type": "code",
   "execution_count": null,
   "id": "b8d06abf",
   "metadata": {},
   "outputs": [],
   "source": [
    "(46681/48565) * 100"
   ]
  },
  {
   "cell_type": "code",
   "execution_count": null,
   "id": "0972ffcb",
   "metadata": {},
   "outputs": [],
   "source": [
    "(46681/50000) * 100"
   ]
  },
  {
   "cell_type": "markdown",
   "id": "f020b1f9",
   "metadata": {},
   "source": [
    "We will retain 96% of the current dataset by removing cars with registration years earlier than 1900 and later than 2016. From the original dataset of 50,000, we will retain ~93%."
   ]
  },
  {
   "cell_type": "code",
   "execution_count": null,
   "id": "cfd99f59",
   "metadata": {},
   "outputs": [],
   "source": [
    "# get distribution of brands ordered into descending order\n",
    "(autos['brand']\n",
    "         .value_counts(normalize=True)\n",
    "         .sort_values(ascending=False)\n",
    ")"
   ]
  },
  {
   "cell_type": "code",
   "execution_count": null,
   "id": "f73cab6b",
   "metadata": {},
   "outputs": [],
   "source": [
    "top_20_brands"
   ]
  },
  {
   "cell_type": "code",
   "execution_count": null,
   "id": "eb06fd69",
   "metadata": {},
   "outputs": [],
   "source": [
    "# top 6 brands\n",
    "autos['brand'].value_counts(normalize=True).sort_values(ascending=False)[:5].sum()"
   ]
  },
  {
   "cell_type": "markdown",
   "id": "bda5e95b",
   "metadata": {},
   "source": [
    "**Observations**\n",
    "\n",
    "- The top 4 brands account for 50% of all brands.\n",
    "- 23 brands account for less than 1% each with 13 of these accounting for less than 0.5% each\n",
    "- The top 5 brands are all German car manufactuers, accounting for over 60% of all cars, with the 6th being American (Ford) followed by a French (Renault)."
   ]
  },
  {
   "cell_type": "markdown",
   "id": "d2c735b1",
   "metadata": {},
   "source": [
    "Let's calculate the average brand price:"
   ]
  },
  {
   "cell_type": "code",
   "execution_count": null,
   "id": "ac6f168f",
   "metadata": {},
   "outputs": [],
   "source": [
    "# calculate average brand price\n",
    "average_brand_price = {}\n",
    "\n",
    "for brand in top_20_brands:\n",
    "    #print(brand)\n",
    "    brand_autos = autos[autos['brand'] == brand]\n",
    "    #print(brand_autos.head())\n",
    "    average_price = brand_autos['price'].mean()\n",
    "    #print(average_price)\n",
    "    average_brand_price[brand] = average_price\n",
    "\n",
    "print('Average Brand Price:')\n",
    "average_brand_price"
   ]
  },
  {
   "cell_type": "code",
   "execution_count": null,
   "id": "33c415b5",
   "metadata": {},
   "outputs": [],
   "source": [
    "sorted(average_brand_price.items(), key=lambda x: x[1])"
   ]
  },
  {
   "cell_type": "markdown",
   "id": "5c314d66",
   "metadata": {},
   "source": [
    "**Observations**\n",
    "\n",
    "Looking at the top 6 brands, BMW, Audi, Mercedes Benz were amongst the most expensive brands. Opel and Ford were amongst the cheaper with the former being the third cheapest brand. Volkswagen was in the middle of the pack.\n",
    "\n",
    "The most expensive brands were Sonstige Autos and Mini (both had over $10,000 average prices). This may be attributed to both brands being more of a niche. There are not that many models of the mini vs. volkswagen which has so many different car models in various price ranges. The same applies to the other top brands as they are much larger car companies."
   ]
  },
  {
   "cell_type": "markdown",
   "id": "282f7ae0",
   "metadata": {},
   "source": [
    "## Use aggregation to understand average mileage of top brands"
   ]
  },
  {
   "cell_type": "code",
   "execution_count": null,
   "id": "a90d48ce",
   "metadata": {},
   "outputs": [],
   "source": [
    "autos = autos[autos['registration_year'].between(1900, 2016)]"
   ]
  },
  {
   "cell_type": "markdown",
   "id": "1fc92357",
   "metadata": {},
   "source": [
    "Let's look at the distribution of the remaining registrations years:"
   ]
  },
  {
   "cell_type": "code",
   "execution_count": null,
   "id": "65b22f90",
   "metadata": {},
   "outputs": [],
   "source": [
    "(autos['registration_year']\n",
    "     .value_counts(normalize=True)\n",
    "     .sort_values()\n",
    ")"
   ]
  },
  {
   "cell_type": "code",
   "execution_count": null,
   "id": "0bb00f7f",
   "metadata": {},
   "outputs": [],
   "source": [
    "(autos['registration_year']\n",
    "     .value_counts(normalize=True)\n",
    "     .sort_index(ascending=True)\n",
    ")"
   ]
  },
  {
   "cell_type": "markdown",
   "id": "0d481881",
   "metadata": {},
   "source": [
    "Looking through the distribution, we can see most cars were registered from 1990's onwards. The number of cars registered in the earlier years (1910 - 1970) make up a small percentage. We can look at the actual number of registered cars in groups of year periods:"
   ]
  },
  {
   "cell_type": "code",
   "execution_count": null,
   "id": "2c99a444",
   "metadata": {},
   "outputs": [],
   "source": [
    "years = [(1900, 1950), (1950, 1960), (1960, 1970), (1970, 1980), \n",
    "         (1980, 1990), (1990, 2000), (2000, 2010), (2010, 2016)]\n",
    "\n",
    "for start, end in years:\n",
    "    filtered_autos = autos[((autos['registration_year'] >= start) & (autos['registration_year'] < end))]\n",
    "    num = filtered_autos.shape[0]\n",
    "    print(\"There were {} registered cars between {} and {}\".format(num, start, end))"
   ]
  },
  {
   "cell_type": "code",
   "execution_count": null,
   "id": "5d2d1590",
   "metadata": {},
   "outputs": [],
   "source": [
    "before_90 = autos[autos['registration_year'] < 1990]\n",
    "before_90_num = before_90.shape[0]\n",
    "before_90_percent = (before_90_num/autos.shape[0]) * 100\n",
    "print(\"{:.2f}% of cars were registered before 1990\".format(before_90_percent))\n",
    "\n",
    "# after 1990\n",
    "after_90 = autos[autos['registration_year'] >= 1990]\n",
    "after_90_num = after_90.shape[0]\n",
    "after_90_percent = (after_90_num/autos.shape[0]) * 100\n",
    "print(\"{:.2f}% of cars were registered in 1990 or later\".format(after_90_percent))"
   ]
  },
  {
   "cell_type": "markdown",
   "id": "d3a366af",
   "metadata": {},
   "source": [
    "**Observations**\n",
    "\n",
    "We can more clearly see that most the cars were registered in past 20 years. Less than 3% of cars were registered before 1990, while over 97% of cars were registered in 1990 or later. Looking at the distribution, since 1994, each year had at least 1% of registered cars with the exception of 2015."
   ]
  },
  {
   "cell_type": "markdown",
   "id": "740561a2",
   "metadata": {},
   "source": [
    "## Exploring Price By Brand"
   ]
  },
  {
   "cell_type": "markdown",
   "id": "c6a6ba84",
   "metadata": {},
   "source": [
    "We will explore variations across different car brands by using aggregation."
   ]
  },
  {
   "cell_type": "code",
   "execution_count": null,
   "id": "e2e1fc47",
   "metadata": {},
   "outputs": [],
   "source": [
    "(autos['date_crawled']\n",
    "     .str[:10]\n",
    "     .value_counts(normalize=True, dropna=False)\n",
    "     .sort_index(ascending=True)\n",
    "     .count()\n",
    ")"
   ]
  },
  {
   "cell_type": "markdown",
   "id": "77cdab7d",
   "metadata": {},
   "source": [
    "There are 34 dates where the web crawler captured data."
   ]
  },
  {
   "cell_type": "code",
   "execution_count": null,
   "id": "28462f95",
   "metadata": {},
   "outputs": [],
   "source": [
    "(autos['date_crawled']\n",
    "     .str[:10]\n",
    "     .value_counts(normalize=True, dropna=False)\n",
    "     .sort_index(ascending=True)\n",
    ")"
   ]
  },
  {
   "cell_type": "code",
   "execution_count": null,
   "id": "22ca4d88",
   "metadata": {},
   "outputs": [],
   "source": [
    "(autos['date_crawled']\n",
    "     .str[:10]\n",
    "     .value_counts(normalize=True, dropna=False)\n",
    "     .sort_values()\n",
    ")"
   ]
  },
  {
   "cell_type": "markdown",
   "id": "7ed2cc10",
   "metadata": {},
   "source": [
    "The web crawler captured data on a daily basis over the course of a month and a few days. Specifically, from March 5th 2016 to April 7th 2016. The distribution is fairly uniform."
   ]
  },
  {
   "cell_type": "markdown",
   "id": "0764dd48",
   "metadata": {},
   "source": [
    "**ad_created**"
   ]
  },
  {
   "cell_type": "code",
   "execution_count": null,
   "id": "8736630b",
   "metadata": {},
   "outputs": [],
   "source": [
    "(autos['ad_created']\n",
    "     .str[:10]\n",
    "     .value_counts(normalize=True, dropna=False)\n",
    "     .sort_index(ascending=True)\n",
    "     .count()\n",
    ")"
   ]
  },
  {
   "cell_type": "code",
   "execution_count": null,
   "id": "4004c34a",
   "metadata": {},
   "outputs": [],
   "source": [
    "(autos['ad_created']\n",
    "     .str[:10]\n",
    "     .value_counts(normalize=True, dropna=False)\n",
    "     .sort_index(ascending=True)\n",
    ")"
   ]
  },
  {
   "cell_type": "code",
   "execution_count": null,
   "id": "8699eea4",
   "metadata": {},
   "outputs": [],
   "source": [
    "(autos['ad_created']\n",
    "     .str[:10]\n",
    "     .value_counts(normalize=True, dropna=False)\n",
    "     .sort_values()\n",
    ")"
   ]
  },
  {
   "cell_type": "markdown",
   "id": "6de40614",
   "metadata": {},
   "source": [
    "There are 76 dates when ads were created. These dates span from June 11th 2015 to April 7th 2016. The distribution is scattered - there are a number of dates where very few ads were placed and other days when lots of ads were placed."
   ]
  },
  {
   "cell_type": "markdown",
   "id": "0529f104",
   "metadata": {},
   "source": [
    "**last_seen**"
   ]
  },
  {
   "cell_type": "code",
   "execution_count": null,
   "id": "edb4aa15",
   "metadata": {},
   "outputs": [],
   "source": [
    "(autos['last_seen']\n",
    "     .str[:10]\n",
    "     .value_counts(normalize=True, dropna=False)\n",
    "     .sort_index(ascending=True)\n",
    "     .count()\n",
    ")"
   ]
  },
  {
   "cell_type": "code",
   "execution_count": null,
   "id": "ae9f289b",
   "metadata": {},
   "outputs": [],
   "source": [
    "(autos['last_seen']\n",
    "     .str[:10]\n",
    "     .value_counts(normalize=True, dropna=False)\n",
    "     .sort_index(ascending=True)\n",
    ")"
   ]
  },
  {
   "cell_type": "code",
   "execution_count": null,
   "id": "3dbc48f7",
   "metadata": {},
   "outputs": [],
   "source": [
    "(autos['last_seen']\n",
    "     .str[:10]\n",
    "     .value_counts(normalize=True, dropna=False)\n",
    "     .sort_values()\n",
    ")"
   ]
  },
  {
   "cell_type": "markdown",
   "id": "84a9792c",
   "metadata": {},
   "source": [
    "The last_seen date represents when the crawler saw this ad last online. This would ideally be the day the car was sold and the seller removed the listing. The distribution is fairly consistent across the days until the last 3 days where it jumps up 6 - 12 times than the preceeding days. Unless there was some massive sales during those 3 days, this maybe correlated to the last days of the web crawler activity."
   ]
  },
  {
   "cell_type": "markdown",
   "id": "577fe12c",
   "metadata": {},
   "source": [
    "**registration_year**"
   ]
  },
  {
   "cell_type": "code",
   "execution_count": null,
   "id": "c5f818c6",
   "metadata": {},
   "outputs": [],
   "source": [
    "# confirm brand column has no missing data\n",
    "autos.info()"
   ]
  },
  {
   "cell_type": "markdown",
   "id": "2cf64c04",
   "metadata": {},
   "source": [
    "We can confirm that the 'brand' column has no missing data."
   ]
  },
  {
   "cell_type": "code",
   "execution_count": null,
   "id": "9d9c5a57",
   "metadata": {},
   "outputs": [],
   "source": [
    "autos['brand'].value_counts()"
   ]
  },
  {
   "cell_type": "markdown",
   "id": "96ef9c84",
   "metadata": {},
   "source": [
    "Keeping entries with prices between \\$1 and \\$350,000, we retain 48,565 records. This is 97.13% of the data."
   ]
  },
  {
   "cell_type": "code",
   "execution_count": null,
   "id": "fc43ea19",
   "metadata": {},
   "outputs": [],
   "source": [
    "autos = autos[autos['price'].between(1, 350000)]"
   ]
  },
  {
   "cell_type": "code",
   "execution_count": null,
   "id": "4b1941f0",
   "metadata": {},
   "outputs": [],
   "source": [
    "autos = pd.read_csv('autos.csv', delimiter=',', encoding='Latin-1')"
   ]
  },
  {
   "cell_type": "code",
   "execution_count": null,
   "id": "0abbd24f",
   "metadata": {},
   "outputs": [],
   "source": [
    "autos"
   ]
  },
  {
   "cell_type": "markdown",
   "id": "94941139",
   "metadata": {},
   "source": [
    "**Observations:**\n",
    "The following columns have missing data:\n",
    "- vehicleType\n",
    "- gearbox\n",
    "- model\n",
    "- fuelType\n",
    "- notRepairedDamage\n",
    "\n",
    "Columns are either object (15/20) or int (5/20) data types."
   ]
  },
  {
   "cell_type": "code",
   "execution_count": null,
   "id": "3f0e7495",
   "metadata": {},
   "outputs": [],
   "source": [
    "autos.head()"
   ]
  },
  {
   "cell_type": "markdown",
   "id": "d52fadc2",
   "metadata": {},
   "source": [
    "**Observations:**\n",
    "- The data isn't sorted in any way (e.g. not in order of data crawled).\n",
    "- The name column follows a format of \n",
    "    - car_manufacturer_car_model_engine...\n",
    "- The data is not in English (of course it's from a German website)\n",
    "- monthOfRegistration column is represented in numbers\n",
    "- Some columns look like they have been cleaned up and are in lower case format\n",
    "- Units are included (odometer data includes km)\n",
    "- dateCreated includes time portion which looks like it is set to 00:00:00"
   ]
  },
  {
   "cell_type": "markdown",
   "id": "c036b3b4",
   "metadata": {},
   "source": [
    "**More Observations:**\n",
    "- The dataset contains 20 columns, most of which are strings.\n",
    "- Some columns have null values, but none have more than ~20% null values.\n",
    "- The column names use [camelcase](https://en.wikipedia.org/wiki/Camel_case) instead of Python's preferred [snakecase](https://en.wikipedia.org/wiki/Snake_case), which means we can't just replace spaces with underscores."
   ]
  },
  {
   "cell_type": "markdown",
   "id": "07de3b22",
   "metadata": {},
   "source": [
    "## convert column names from camelcase to snakecase"
   ]
  },
  {
   "cell_type": "code",
   "execution_count": null,
   "id": "44511f6d",
   "metadata": {},
   "outputs": [],
   "source": [
    "# remove any entries with prices below $1 and above $350,000\n",
    "autos[autos['price'].between(1, 350000)].shape"
   ]
  },
  {
   "cell_type": "markdown",
   "id": "e45425da",
   "metadata": {},
   "source": [
    "investigate a few columns in more detail:"
   ]
  },
  {
   "cell_type": "code",
   "execution_count": null,
   "id": "a8591991",
   "metadata": {},
   "outputs": [],
   "source": [
    "autos['num_photos'].value_counts()"
   ]
  }
 ],
 "metadata": {},
 "nbformat": 4,
 "nbformat_minor": 5
}
