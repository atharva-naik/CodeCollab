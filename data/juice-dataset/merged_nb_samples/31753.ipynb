{
 "cells": [
  {
   "cell_type": "markdown",
   "id": "4940a146",
   "metadata": {},
   "source": [
    "# Importing useful modules"
   ]
  },
  {
   "cell_type": "code",
   "execution_count": null,
   "id": "1c3fccb0",
   "metadata": {},
   "outputs": [],
   "source": [
    "%matplotlib inline"
   ]
  },
  {
   "cell_type": "code",
   "execution_count": null,
   "id": "2cebced4",
   "metadata": {},
   "outputs": [],
   "source": [
    "from __future__ import division #Importer ça avant toute chose, autrement ne marche pas\n",
    "import graphlab as gl\n",
    "#import pandas as pd\n",
    "gl.canvas.set_target('ipynb') # Pour afficher les graphes dans mon notebook plutôt que new tab"
   ]
  },
  {
   "cell_type": "code",
   "execution_count": null,
   "id": "620af432",
   "metadata": {},
   "outputs": [],
   "source": [
    "import pandas as pd\n",
    "import numpy as np\n",
    "from matplotlib import pyplot as plt\n",
    "from pylab import pcolor, show, colorbar, xticks, yticks\n",
    "import seaborn as sns"
   ]
  },
  {
   "cell_type": "code",
   "execution_count": null,
   "id": "39012258",
   "metadata": {},
   "outputs": [],
   "source": [
    "def sum(a,b):\n",
    "    print a+b\n",
    "    \n",
    "my_tuple = (1,2)\n",
    "sum(*my_tuple)"
   ]
  },
  {
   "cell_type": "markdown",
   "id": "8fa0b7fb",
   "metadata": {},
   "source": [
    "# Functions definitions"
   ]
  },
  {
   "cell_type": "code",
   "execution_count": null,
   "id": "64963d8e",
   "metadata": {},
   "outputs": [],
   "source": [
    "#plot_corr(df_data_viz)\n",
    "corr = df.corr()\n",
    "pcolor(corr)\n",
    "colorbar()\n",
    "yticks(np.arange(0.5,6),range(0,10))\n",
    "xticks(np.arange(0.5,6),range(0,10))\n",
    "show()"
   ]
  },
  {
   "cell_type": "code",
   "execution_count": null,
   "id": "1492d677",
   "metadata": {},
   "outputs": [],
   "source": [
    "def plot_correlation_map( df ):\n",
    "    corr = df.corr()\n",
    "    _ , ax = plt.subplots( figsize =( 12 , 10 ) )\n",
    "    cmap = sns.diverging_palette( 220 , 10 , as_cmap = True )\n",
    "    _ = sns.heatmap(\n",
    "        corr, \n",
    "        cmap = cmap,\n",
    "        square=True, \n",
    "        cbar_kws={ 'shrink' : .9 }, \n",
    "        ax=ax, \n",
    "        annot = True, \n",
    "        annot_kws = { 'fontsize' : 12 }\n",
    "    )"
   ]
  },
  {
   "cell_type": "code",
   "execution_count": null,
   "id": "7e3bd754",
   "metadata": {},
   "outputs": [],
   "source": [
    "plot_correlation_map(df_data_viz)"
   ]
  },
  {
   "cell_type": "code",
   "execution_count": null,
   "id": "96d222bf",
   "metadata": {},
   "outputs": [],
   "source": [
    "corr = df.corr()\n",
    "corr #shape = (6,6)"
   ]
  },
  {
   "cell_type": "code",
   "execution_count": null,
   "id": "03550ab5",
   "metadata": {},
   "outputs": [],
   "source": [
    "df_data_validation.loc[(df_data_validation.Pclass == 1), \"Pclass1\"] = 1\n",
    "df_data_validation.loc[(df_data_validation.Pclass == 2), \"Pclass2\"] = 1\n",
    "df_data_validation.loc[(df_data_validation.Pclass == 3), \"Pclass3\"] = 1\n",
    "df_data_validation = df_data_validation.fillna(0)"
   ]
  },
  {
   "cell_type": "markdown",
   "id": "8292c912",
   "metadata": {},
   "source": [
    "## Check data imbalance"
   ]
  },
  {
   "cell_type": "markdown",
   "id": "5643b256",
   "metadata": {},
   "source": [
    "Can we improve the result with a better balancing of the data ?"
   ]
  },
  {
   "cell_type": "markdown",
   "id": "bfd97a2f",
   "metadata": {},
   "source": [
    "### Going back to Graphlab SFrames"
   ]
  },
  {
   "cell_type": "code",
   "execution_count": null,
   "id": "6d106692",
   "metadata": {},
   "outputs": [],
   "source": [
    "data = gl.SFrame(df_data)\n",
    "data"
   ]
  },
  {
   "cell_type": "code",
   "execution_count": null,
   "id": "67474d0b",
   "metadata": {},
   "outputs": [],
   "source": [
    "data_for_validation = gl.SFrame(df_data_validation)\n",
    "data_for_validation"
   ]
  },
  {
   "cell_type": "markdown",
   "id": "818f8af0",
   "metadata": {},
   "source": [
    "# Defining features, target "
   ]
  },
  {
   "cell_type": "code",
   "execution_count": null,
   "id": "b5f6d2b4",
   "metadata": {},
   "outputs": [],
   "source": [
    "#features = [\"Sex\", \"Pclass1\",\"Pclass2\",\"Pclass3\", \"Is_baby\", \"Age\"]\n",
    "features = [\"Pclass\", \"Fare\"]\n",
    "target = \"Survived\"\n",
    "features"
   ]
  },
  {
   "cell_type": "markdown",
   "id": "4d4a496c",
   "metadata": {},
   "source": [
    "## Splitting data into training and validation sets"
   ]
  },
  {
   "cell_type": "markdown",
   "id": "798bed80",
   "metadata": {},
   "source": [
    "# Model"
   ]
  },
  {
   "cell_type": "code",
   "execution_count": null,
   "id": "7537974b",
   "metadata": {},
   "outputs": [],
   "source": [
    "model = tree_model(train_data,features,MLR=0.2, MCW=0)"
   ]
  },
  {
   "cell_type": "code",
   "execution_count": null,
   "id": "3e4fbfef",
   "metadata": {},
   "outputs": [],
   "source": [
    "#Optimizing min_loss_reduction\n",
    "np.linspace(0,1,num=10)"
   ]
  },
  {
   "cell_type": "code",
   "execution_count": null,
   "id": "32588193",
   "metadata": {},
   "outputs": [],
   "source": [
    "train_acc = []\n",
    "valid_acc = []\n",
    "end = 2\n",
    "nb = 100\n",
    "mlr=1\n",
    "for mcw in np.linspace(0,end,nb):\n",
    "    model_MLR = tree_model(train_data,features,mlr,mcw)\n",
    "    #print \"Training accuracy\", model_MLR.get('training_accuracy')\n",
    "    prediction_validation = model.predict(validation_data)\n",
    "    #print \"Validation accuracy\", calc_accuracy(prediction_validation,validation_data)\n",
    "    train_acc.append(model_MLR.get('training_accuracy'))\n",
    "    valid_acc.append(calc_accuracy(prediction_validation,validation_data))"
   ]
  },
  {
   "cell_type": "code",
   "execution_count": null,
   "id": "f4ad96f4",
   "metadata": {},
   "outputs": [],
   "source": [
    "plt.plot(np.linspace(0,end,nb),train_acc,'*')"
   ]
  },
  {
   "cell_type": "code",
   "execution_count": null,
   "id": "949239ec",
   "metadata": {},
   "outputs": [],
   "source": [
    "plt.plot(np.linspace(0,end,nb),valid_acc,'*')"
   ]
  },
  {
   "cell_type": "code",
   "execution_count": null,
   "id": "b31eacc8",
   "metadata": {},
   "outputs": [],
   "source": [
    "prediction_validation = model.predict(validation_data)\n",
    "prediction_validation"
   ]
  },
  {
   "cell_type": "code",
   "execution_count": null,
   "id": "dcfa4146",
   "metadata": {},
   "outputs": [],
   "source": [
    "model.show(view = \"Tree\")"
   ]
  },
  {
   "cell_type": "code",
   "execution_count": null,
   "id": "f18abed0",
   "metadata": {},
   "outputs": [],
   "source": [
    "model_MLR.show(view=\"Tree\")"
   ]
  },
  {
   "cell_type": "markdown",
   "id": "42131d52",
   "metadata": {},
   "source": [
    "## Estimating error on validation data"
   ]
  },
  {
   "cell_type": "markdown",
   "id": "28412efc",
   "metadata": {},
   "source": [
    "#### Error / accuracy"
   ]
  },
  {
   "cell_type": "code",
   "execution_count": null,
   "id": "cc6499f9",
   "metadata": {},
   "outputs": [],
   "source": [
    "calc_accuracy(prediction_validation,validation_data)"
   ]
  },
  {
   "cell_type": "markdown",
   "id": "450b4c93",
   "metadata": {},
   "source": [
    "# Prediction using the validation data without ground truth"
   ]
  },
  {
   "cell_type": "code",
   "execution_count": null,
   "id": "4056cf6d",
   "metadata": {},
   "outputs": [],
   "source": [
    "prediction = model.predict(data_for_validation)"
   ]
  },
  {
   "cell_type": "markdown",
   "id": "a7e2c1e3",
   "metadata": {},
   "source": [
    "# Working with cross validation"
   ]
  },
  {
   "cell_type": "markdown",
   "id": "358c1de6",
   "metadata": {},
   "source": [
    "First, shuffle data"
   ]
  },
  {
   "cell_type": "code",
   "execution_count": null,
   "id": "49cc8ae8",
   "metadata": {},
   "outputs": [],
   "source": [
    "data_shuffled = gl.cross_validation.shuffle(data)"
   ]
  },
  {
   "cell_type": "markdown",
   "id": "6de2de47",
   "metadata": {},
   "source": [
    "We split the data into a k-set of train/validation data (here k = 5).\n",
    "\n",
    "folds is a kx2 array where folds[k][0] is the train set and folds[k][1] the validation set"
   ]
  },
  {
   "cell_type": "code",
   "execution_count": null,
   "id": "e8ff3926",
   "metadata": {},
   "outputs": [],
   "source": [
    "k = 10\n",
    "folds = gl.cross_validation.KFold(data_shuffled,k)"
   ]
  },
  {
   "cell_type": "markdown",
   "id": "f74793da",
   "metadata": {},
   "source": [
    "We can check that the length of one fold is that of the total data"
   ]
  },
  {
   "cell_type": "code",
   "execution_count": null,
   "id": "91e7f74d",
   "metadata": {},
   "outputs": [],
   "source": [
    "print \"Size of train/validation set in the fold\", len(folds[0][0])+len(folds[0][1])\n",
    "print \"Size of the initial data\", len(data)\n"
   ]
  },
  {
   "cell_type": "code",
   "execution_count": null,
   "id": "f5ccfb1f",
   "metadata": {},
   "outputs": [],
   "source": [
    "acc_sum=0\n",
    "for train,valid in folds:\n",
    "    #m = gl.decision_tree_classifier.create(train,target=\"Survived\",validation_set=None,verbose=None)\n",
    "    m = gl.decision_tree_classifier.create(train,target=\"Survived\",validation_set=valid,verbose=None\n",
    "                                          , min_loss_reduction = 0.2,min_child_weight = 0 )\n",
    "    #print \"EVALUATION\", m.evaluate(valid) #Direct evaluation of the model on the validation set\n",
    "    #print \"PREDICTION\", m.predict(valid) #Prediction of survival using the model\n",
    "    #accuracy = m.evaluate(valid, metric='accuracy')\n",
    "    #acc = accuracy['accuracy'] #accuracy is a dict so we need this step to extract a float\n",
    "    #acc = calc_accuracy(m.predict(valid),valid)\n",
    "    acc = m.get(\"validation_accuracy\")\n",
    "    acc_sum+=acc\n",
    "    print(\"Accuracy of the model : %.6f\" %acc)\n",
    "\n",
    "print \"Average accuracy on %0.f validation sets: %f \" %(k ,(acc_sum/k))"
   ]
  },
  {
   "cell_type": "markdown",
   "id": "053d35eb",
   "metadata": {},
   "source": [
    "# Exporting result as a csv file for submission"
   ]
  },
  {
   "cell_type": "markdown",
   "id": "0d133494",
   "metadata": {},
   "source": [
    "Plot of the correlation matrix"
   ]
  },
  {
   "cell_type": "code",
   "execution_count": null,
   "id": "86517ca2",
   "metadata": {},
   "outputs": [],
   "source": [
    "df_data_viz = pd.DataFrame(df_data)\n",
    "del df_data_viz[\"Sex\"]\n",
    "del df_data_viz[\"Is_baby\"]\n",
    "#del df_data_viz[\"Pclass1\"]\n",
    "#del df_data_viz[\"Pclass2\"]\n",
    "#del df_data_viz[\"Pclass3\"]"
   ]
  },
  {
   "cell_type": "code",
   "execution_count": null,
   "id": "d5ddddd5",
   "metadata": {},
   "outputs": [],
   "source": [
    "df_data_viz.head()"
   ]
  },
  {
   "cell_type": "code",
   "execution_count": null,
   "id": "8c2c636b",
   "metadata": {},
   "outputs": [],
   "source": [
    "plot_categories(df_data, cat='Sex', target=\"Survived\")"
   ]
  },
  {
   "cell_type": "markdown",
   "id": "703a2504",
   "metadata": {},
   "source": [
    "# Performing some data manipulation"
   ]
  },
  {
   "cell_type": "code",
   "execution_count": null,
   "id": "b719ba6a",
   "metadata": {},
   "outputs": [],
   "source": [
    "#Let's remove unused columns for clarity (not necessary)\n",
    "del df_data[\"Name\"]\n",
    "#del df_data[\"SibSp\"]\n",
    "#del df_data['Parch']\n",
    "del df_data[\"Ticket\"]\n",
    "del df_data[\"Cabin\"]\n",
    "del df_data[\"Embarked\"]\n",
    "del df_data_validation[\"Name\"]\n",
    "#del df_data_validation[\"SibSp\"]\n",
    "#del df_data_validation['Parch']\n",
    "del df_data_validation[\"Ticket\"]\n",
    "del df_data_validation[\"Cabin\"]\n",
    "del df_data_validation[\"Embarked\"]"
   ]
  },
  {
   "cell_type": "markdown",
   "id": "20a36097",
   "metadata": {},
   "source": [
    "### Let's examine the feature \"Age\" for which we have to fill in the missing values"
   ]
  },
  {
   "cell_type": "markdown",
   "id": "3d30677b",
   "metadata": {},
   "source": [
    "Age is not defined for all data points, we have to find a way to deal with this feature.\n",
    "### Let's try a simple aproach\n",
    "* if fare is 0 and age is not defined then probably we have a baby and age=0\n",
    "* if age is <1 then age = 0 (baby)\n",
    "\n",
    "Do we still have Nan values ?"
   ]
  },
  {
   "cell_type": "code",
   "execution_count": null,
   "id": "31f92524",
   "metadata": {},
   "outputs": [],
   "source": [
    "df_data[\"Age\"] = df_data[\"Age\"].apply(age_change)\n",
    "df_data_validation[\"Age\"] = df_data_validation[\"Age\"].apply(age_change)"
   ]
  },
  {
   "cell_type": "markdown",
   "id": "69e041ac",
   "metadata": {},
   "source": [
    "Some passenger did not pay for the travel (Fare==0) and age is not defined, they probably are babies so let's change their age to 0."
   ]
  },
  {
   "cell_type": "code",
   "execution_count": null,
   "id": "ec54e929",
   "metadata": {},
   "outputs": [],
   "source": [
    "df_data_validation[df_data_validation[\"Age\"].isnull() & (df_data_validation[\"Fare\"]==0)]"
   ]
  },
  {
   "cell_type": "code",
   "execution_count": null,
   "id": "84ef475d",
   "metadata": {},
   "outputs": [],
   "source": [
    "df_data[df_data[\"Age\"].isnull() & (df_data[\"Fare\"]==0)]"
   ]
  },
  {
   "cell_type": "code",
   "execution_count": null,
   "id": "051d9642",
   "metadata": {},
   "outputs": [],
   "source": [
    "df_data.loc[(df_data.Age.isnull()) & (df_data[\"Fare\"] == 0), \"Age\"] = 0"
   ]
  },
  {
   "cell_type": "code",
   "execution_count": null,
   "id": "2ce085a9",
   "metadata": {},
   "outputs": [],
   "source": [
    "df_data_validation.loc[(df_data_validation.Age.isnull()) & (df_data_validation[\"Fare\"] == 0), \"Age\"] = 0"
   ]
  },
  {
   "cell_type": "markdown",
   "id": "67f18d11",
   "metadata": {},
   "source": [
    "Then we will fill the remaining missing values with the mean of the age. BUT, I make the assumption that the mean age will depend on the class (rich people in 1st class will probably be older)"
   ]
  },
  {
   "cell_type": "code",
   "execution_count": null,
   "id": "b7c3fec8",
   "metadata": {},
   "outputs": [],
   "source": [
    "mean_age_Class1 = round(df_data[\"Age\"][df_data[\"Pclass\"]==1].mean()) #38 \n",
    "mean_age_Class2 = round(df_data[\"Age\"][df_data[\"Pclass\"]==2].mean()) #30\n",
    "mean_age_Class3 = round(df_data[\"Age\"][df_data[\"Pclass\"]==3].mean()) #25"
   ]
  },
  {
   "cell_type": "code",
   "execution_count": null,
   "id": "d1d82f33",
   "metadata": {},
   "outputs": [],
   "source": [
    "df_data.loc[(df_data.Age.isnull()) & (df_data[\"Pclass\"] == 1), \"Age\"] = mean_age_Class1\n",
    "df_data.loc[(df_data.Age.isnull()) & (df_data[\"Pclass\"] == 2), \"Age\"] = mean_age_Class2\n",
    "df_data.loc[(df_data.Age.isnull()) & (df_data[\"Pclass\"] == 3), \"Age\"] = mean_age_Class3\n",
    "\n",
    "df_data[\"Is_baby\"] = 0\n",
    "\n",
    "df_data.loc[(df_data.Age < 4), \"Is_baby\"] = 1"
   ]
  },
  {
   "cell_type": "markdown",
   "id": "b67f5ed4",
   "metadata": {},
   "source": [
    "What are the mean ages for the validation set ?"
   ]
  },
  {
   "cell_type": "code",
   "execution_count": null,
   "id": "c23fbbe0",
   "metadata": {},
   "outputs": [],
   "source": [
    "mean_age_Class1_valid = round(df_data_validation[\"Age\"][df_data_validation[\"Pclass\"]==1].mean()) #41 \n",
    "mean_age_Class2_valid = round(df_data_validation[\"Age\"][df_data_validation[\"Pclass\"]==2].mean()) #29\n",
    "mean_age_Class3_valid = round(df_data_validation[\"Age\"][df_data_validation[\"Pclass\"]==3].mean()) #24"
   ]
  },
  {
   "cell_type": "code",
   "execution_count": null,
   "id": "225af177",
   "metadata": {},
   "outputs": [],
   "source": [
    "df_data_validation.loc[(df_data_validation.Age.isnull()) & (df_data_validation[\"Pclass\"] == 1), \"Age\"] = mean_age_Class1_valid\n",
    "df_data_validation.loc[(df_data_validation.Age.isnull()) & (df_data_validation[\"Pclass\"] == 2), \"Age\"] = mean_age_Class2_valid\n",
    "df_data_validation.loc[(df_data_validation.Age.isnull()) & (df_data_validation[\"Pclass\"] == 3), \"Age\"] = mean_age_Class3_valid\n",
    "\n",
    "df_data_validation[\"Is_baby\"] = 0\n",
    "\n",
    "df_data_validation.loc[(df_data.Age < 4), \"Is_baby\"] = 1"
   ]
  },
  {
   "cell_type": "markdown",
   "id": "c5bcd08a",
   "metadata": {},
   "source": [
    "Let's create some categorical features"
   ]
  },
  {
   "cell_type": "code",
   "execution_count": null,
   "id": "978f3c43",
   "metadata": {},
   "outputs": [],
   "source": [
    "df_data.loc[(df_data.Pclass == 1), \"Pclass1\"] = 1\n",
    "df_data.loc[(df_data.Pclass == 2), \"Pclass2\"] = 1\n",
    "df_data.loc[(df_data.Pclass == 3), \"Pclass3\"] = 1\n",
    "df_data = df_data.fillna(0)"
   ]
  },
  {
   "cell_type": "code",
   "execution_count": null,
   "id": "c76bb27e",
   "metadata": {},
   "outputs": [],
   "source": [
    "df_data_validation = pd.read_csv(\"./test.csv\") #Data used for submission to Kaggle\n",
    "data_validation_raw = gl.SFrame.read_csv(\"./test.csv\")"
   ]
  },
  {
   "cell_type": "markdown",
   "id": "47e1077c",
   "metadata": {},
   "source": [
    "# Let's look at the data"
   ]
  },
  {
   "cell_type": "code",
   "execution_count": null,
   "id": "45d66b49",
   "metadata": {},
   "outputs": [],
   "source": [
    "data_raw.show()"
   ]
  },
  {
   "cell_type": "code",
   "execution_count": null,
   "id": "09770dd7",
   "metadata": {},
   "outputs": [],
   "source": [
    "data_raw[\"Pclass\"].show(view = \"Categorical\")"
   ]
  },
  {
   "cell_type": "code",
   "execution_count": null,
   "id": "eb81f5de",
   "metadata": {},
   "outputs": [],
   "source": [
    "data_raw[\"Sex\"].show()"
   ]
  },
  {
   "cell_type": "code",
   "execution_count": null,
   "id": "31cff71a",
   "metadata": {},
   "outputs": [],
   "source": [
    "Similar operations are done on the validation set"
   ]
  },
  {
   "cell_type": "code",
   "execution_count": null,
   "id": "82536504",
   "metadata": {},
   "outputs": [],
   "source": [
    "plot_categories( df_data , cat = 'Pclass' , target = 'Survived' )"
   ]
  },
  {
   "cell_type": "code",
   "execution_count": null,
   "id": "c53503d1",
   "metadata": {},
   "outputs": [],
   "source": [
    "def plot_categories( df , cat , target , **kwargs ):\n",
    "    row = kwargs.get( 'row' , None )\n",
    "    col = kwargs.get( 'col' , None )\n",
    "    facet = sns.FacetGrid( df , row = row , col = col )\n",
    "    facet.map( sns.barplot , cat , target )\n",
    "    facet.add_legend()"
   ]
  },
  {
   "cell_type": "code",
   "execution_count": null,
   "id": "a04de57d",
   "metadata": {},
   "outputs": [],
   "source": [
    "def plot_corr(df,size=8):\n",
    "    '''Function plots a graphical correlation matrix for each pair of columns in the dataframe.\n",
    "\n",
    "    Input:\n",
    "        df: pandas DataFrame\n",
    "        size: vertical and horizontal size of the plot'''\n",
    "\n",
    "    corr = df.corr()\n",
    "    fig, ax = plt.subplots(figsize=(size, size))\n",
    "    ax.matshow(corr)\n",
    "    pcolor(corr)\n",
    "    colorbar()\n",
    "    plt.xticks(range(len(corr.columns)), corr.columns);\n",
    "    plt.yticks(range(len(corr.columns)), corr.columns);"
   ]
  },
  {
   "cell_type": "code",
   "execution_count": null,
   "id": "9007c158",
   "metadata": {},
   "outputs": [],
   "source": [
    "#prediction_validation is the prediction done on the validation data using the validation set\n",
    "#validation_data is the validation set\n",
    "def calc_accuracy(prediction_validation, validation_data):\n",
    "    accuracy = ((prediction_validation==validation_data[\"Survived\"]).sum())/len(validation_data)\n",
    "    return accuracy\n",
    "#print(\"Accuracy of the model : %.3f\" %accuracy)"
   ]
  },
  {
   "cell_type": "code",
   "execution_count": null,
   "id": "9ef95b72",
   "metadata": {},
   "outputs": [],
   "source": [
    "#All babies should have age 0\n",
    "def age_change(age):\n",
    "    if age<=1:\n",
    "        return 0\n",
    "    else:\n",
    "        return age"
   ]
  },
  {
   "cell_type": "code",
   "execution_count": null,
   "id": "c355037c",
   "metadata": {},
   "outputs": [],
   "source": [
    "def tree_model(data, features,MLR,MCW):\n",
    "    return gl.decision_tree_classifier.create(data,features = features, target = target, \n",
    "                                              validation_set=None, min_loss_reduction = MLR,\n",
    "                                             verbose = None, min_child_weight = MCW, max_depth=3)"
   ]
  },
  {
   "cell_type": "markdown",
   "id": "40dec451",
   "metadata": {},
   "source": [
    "# Importing csv files"
   ]
  },
  {
   "cell_type": "code",
   "execution_count": null,
   "id": "6d9b5251",
   "metadata": {},
   "outputs": [],
   "source": [
    "#Let's work with pandas then import in graphlab\n",
    "df_data = pd.read_csv(\"./train.csv\") #My training data\n",
    "data_raw = gl.SFrame.read_csv(\"./train.csv\")"
   ]
  }
 ],
 "metadata": {},
 "nbformat": 4,
 "nbformat_minor": 5
}
