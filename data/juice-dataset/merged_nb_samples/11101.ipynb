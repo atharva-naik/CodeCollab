{
 "cells": [
  {
   "cell_type": "code",
   "execution_count": null,
   "id": "7a367246",
   "metadata": {},
   "outputs": [],
   "source": [
    "import numpy as np\n",
    "import pandas as pd\n",
    "import matplotlib.pyplot as plt\n",
    "import scipy as sp\n",
    "import seaborn as sns\n",
    "from scipy import stats, integrate\n",
    "%matplotlib inline"
   ]
  },
  {
   "cell_type": "code",
   "execution_count": null,
   "id": "5b87fe43",
   "metadata": {},
   "outputs": [],
   "source": [
    "wages = pd.read_csv('Wages.zip')\n",
    "nurse_wages = pd.read_csv('Nurses-Wages.csv')\n",
    "population_wages = pd.read_csv('Population-Wages.csv')\n",
    "industry = pd.read_csv('2015-RN-industries.csv')"
   ]
  },
  {
   "cell_type": "markdown",
   "id": "86eca4bc",
   "metadata": {},
   "source": [
    "# Nurse and Medical Data Exploration"
   ]
  },
  {
   "cell_type": "markdown",
   "id": "b601f6ec",
   "metadata": {},
   "source": [
    "In my Capstone project I'm going to delve into the DataUSA: https://datausa.io/profile/soc/291141/ information on registered nurses and the medical profession in the United States. The data was release by DataUSA with the Census Bureau as the primary source. The data originally included 2014 and 2015, but I mostly limited it to 2015. \n",
    "\n",
    "For my purposes, I'm going to assume that this data has remained fairly constant and applys to todays current economic distribution. The datasets include four different tables with either nurse specific or US population averages. Most of the tables contain the year, social name for the profession, id for the profession, average wage, margin of error, and number of people.\n",
    "\n",
    "One of the main challenges to this dataset is that I'm working with a summarized data set rather than the raw data itself. This changes or limits that type of analysis that I can carry out. Since this dataset only covers two year, my ability to do a time analysis is also reduced.  "
   ]
  },
  {
   "cell_type": "code",
   "execution_count": null,
   "id": "4b0f6259",
   "metadata": {},
   "outputs": [],
   "source": [
    "wages = wages[wages[\"year\"] == 2015]\n",
    "nurse_wages = nurse_wages[nurse_wages[\"year\"] == 2015]\n",
    "population_wages = population_wages[population_wages[\"year\"] == 2015]"
   ]
  },
  {
   "cell_type": "markdown",
   "id": "9c8039ef",
   "metadata": {},
   "source": [
    "# Analytic Questions"
   ]
  },
  {
   "cell_type": "markdown",
   "id": "6c49e28b",
   "metadata": {},
   "source": [
    "### #1 How do nurse wages compare to the other professions in the US economy? How do they compare to wages in the medical field? "
   ]
  },
  {
   "cell_type": "markdown",
   "id": "fb1f6f27",
   "metadata": {},
   "source": [
    "Let's begin with some simple visualizations of range of wages at the top and bottom of the U.S. economy. I begin by showing a bar graph of the top wage earners compared to the average income of Registered Nurses. From this graph I can see that the nurse earns half or less than half of the highest earning professions. "
   ]
  },
  {
   "cell_type": "code",
   "execution_count": null,
   "id": "5e8f5142",
   "metadata": {},
   "outputs": [],
   "source": [
    "highest = wages[(wages[\"avg_wage\"]>128000) | (wages[\"soc_name\"] == \"Registered nurses\")]\n",
    "highest.plot.bar(x = \"soc_name\", y = \"avg_wage\")\n",
    "plt.ylabel('Average wages')"
   ]
  },
  {
   "cell_type": "markdown",
   "id": "f51b8410",
   "metadata": {},
   "source": [
    "Next I'm showing the average income at the bottom of the U.S. economy compared to the average wage of Registered Nurses. From this I am gathering that nurses earn roughly six times as much as the lowest earning professions which roughly make around 12,000. "
   ]
  },
  {
   "cell_type": "markdown",
   "id": "3ee985ff",
   "metadata": {},
   "source": [
    "Again, I took the data from above and put it in a bar graph to compare the number of nurses who work in \"other\" industries to the most common ones. The \"other\" industries do in totality employ more nurses that the nursing care facilities but are still dwarfed by the hospital field. "
   ]
  },
  {
   "cell_type": "code",
   "execution_count": null,
   "id": "5e429d8f",
   "metadata": {},
   "outputs": [],
   "source": [
    "plt.figure(figsize=(8,5))\n",
    "plt.xticks(rotation = 90)\n",
    "sns.barplot(x = \"naics_name\", y = \"num_ppl\", palette=\"Greens_d\", data=total)"
   ]
  },
  {
   "cell_type": "code",
   "execution_count": null,
   "id": "81686f5c",
   "metadata": {},
   "outputs": [],
   "source": [
    "highest = industry[industry[\"avg_wage\"] > 85000]"
   ]
  },
  {
   "cell_type": "markdown",
   "id": "7ed08fd0",
   "metadata": {},
   "source": [
    "Next, I isolated the professions where nurses earn an average of over 85,000. I put this data into a pie chart, but can I draw accurate conclusions about the actual number of nurses who work in these fields? No. A pie chart only shows me the separation of nurses by category in this sample, it is not able to tell me the total number of nurses in each of these industries. I also notice and interesting error in my data set. The \"Management of companies & enterprises\" is listed twice in the data set which alters the layout of the graph and my data. "
   ]
  },
  {
   "cell_type": "code",
   "execution_count": null,
   "id": "1bdae204",
   "metadata": {},
   "outputs": [],
   "source": [
    "plt.figure(figsize=(8, 5))\n",
    "\n",
    "pie = plt.pie(highest.num_ppl)\n",
    "plt.axis('equal')\n",
    "plt.legend(highest.naics_name, bbox_to_anchor=(0.75,1), loc=\"upper left\", bbox_transform=plt.gcf().transFigure)"
   ]
  },
  {
   "cell_type": "markdown",
   "id": "9e3bc1ed",
   "metadata": {},
   "source": [
    "To get a more accurate visualization of the number of nurses in each of these fields, I put the same data as above into a bar graph. The sheer number of nurses who earn the most in these industries is minuscule compared to the previous graphs. As we can see, only around 1400 nurse work in the highest employer, pharmaceutical and medicine manufacturing. "
   ]
  },
  {
   "cell_type": "code",
   "execution_count": null,
   "id": "55185dde",
   "metadata": {},
   "outputs": [],
   "source": [
    "plt.figure(figsize=(8,5))\n",
    "plt.xticks(rotation = 90)\n",
    "sns.barplot(x = \"naics_name\", y = \"num_ppl\", palette=\"Greens_d\", data=highest)"
   ]
  },
  {
   "cell_type": "markdown",
   "id": "423d67b3",
   "metadata": {},
   "source": [
    "But lastly, I would like to see how these two categories: the most common employer and the highest earning industries, compare to each other on one graph. "
   ]
  },
  {
   "cell_type": "code",
   "execution_count": null,
   "id": "da80d797",
   "metadata": {},
   "outputs": [],
   "source": [
    "most = industry[(industry[\"avg_wage\"] > 85000) | (industry[\"num_ppl\"] > 100000)]"
   ]
  },
  {
   "cell_type": "markdown",
   "id": "91b05ffc",
   "metadata": {},
   "source": [
    "I start by showing how the industries where nurses earn the highest average incomes have negligibles numbers when compared to the most common industries. "
   ]
  },
  {
   "cell_type": "code",
   "execution_count": null,
   "id": "ddfbdd01",
   "metadata": {},
   "outputs": [],
   "source": [
    "plt.figure(figsize=(10,7))\n",
    "plt.xticks(rotation = 90)\n",
    "sns.barplot(x = \"naics_name\", y = \"num_ppl\", palette=\"Greens_d\", data=most)"
   ]
  },
  {
   "cell_type": "markdown",
   "id": "05a43e94",
   "metadata": {},
   "source": [
    "But when comparing the wages for the highest earning and the most common industries, we can see the significant difference in average incomes. The most common fields earn on average 20,000 less that the highest income industries. "
   ]
  },
  {
   "cell_type": "code",
   "execution_count": null,
   "id": "2a9b9bf5",
   "metadata": {},
   "outputs": [],
   "source": [
    "lowest = wages[(wages[\"avg_wage\"]<14000) | (wages[\"soc_name\"] == \"Registered nurses\")]\n",
    "lowest.plot.bar(x = \"soc_name\", y = \"avg_wage\")\n",
    "plt.ylabel('Average wages')"
   ]
  },
  {
   "cell_type": "markdown",
   "id": "c69d392e",
   "metadata": {},
   "source": [
    "Next I'm going to filter all the wages by thier social ID number so that I can isolate all the healthcare professions. Then I will graph this distribution of wages."
   ]
  },
  {
   "cell_type": "code",
   "execution_count": null,
   "id": "988f3c96",
   "metadata": {},
   "outputs": [],
   "source": [
    "wages['Healthcare'] = wages.soc.apply(lambda x:x[:3]) "
   ]
  },
  {
   "cell_type": "code",
   "execution_count": null,
   "id": "d52ce948",
   "metadata": {},
   "outputs": [],
   "source": [
    "wages = wages[wages[\"Healthcare\"] == '291']"
   ]
  },
  {
   "cell_type": "markdown",
   "id": "c1d0eaa0",
   "metadata": {},
   "source": [
    "Here I have filtered all the data to only include professions that are in the medical field. From this bar graph I can see that Registered nurses are eighth from the bottom. I also notice two interesting gaps from this data visualization. There appears to be a large jump in income between Optometrists and the next three highest earners: podiatrists, nurse anesthetists, and dentists. Then again, there is a large gap between dentists and the highest medical earners, physicians and surgeons. Out of these 21 medical professions, only 5 appear to earn over 100,000 and then only physicians and surgeons make over 200,000. "
   ]
  },
  {
   "cell_type": "code",
   "execution_count": null,
   "id": "5b51f361",
   "metadata": {},
   "outputs": [],
   "source": [
    "plt.figure(figsize=(10,7))\n",
    "plt.xticks(rotation = 90)\n",
    "sns.barplot(x = \"soc_name\", y = \"avg_wage\", palette=\"Greens_d\", data=wages)"
   ]
  },
  {
   "cell_type": "markdown",
   "id": "d90a93a7",
   "metadata": {},
   "source": [
    "Next, I'm wanting to separately visualize the average incomes of the highest, middle, and lowest earners in the medical profession. "
   ]
  },
  {
   "cell_type": "code",
   "execution_count": null,
   "id": "7538d4ea",
   "metadata": {},
   "outputs": [],
   "source": [
    "wages_highest = wages[wages[\"avg_wage\"] > 90000]\n",
    "wages_middle = wages[(wages[\"avg_wage\"] < 90000) & (wages[\"avg_wage\"] > 60000)]\n",
    "wages_lowest = wages[wages[\"avg_wage\"] < 60000]\n",
    "\n",
    "wages_highest.plot.bar(x = \"soc_name\", y = \"avg_wage\")\n",
    "wages_middle.plot.bar(x = \"soc_name\", y = \"avg_wage\")\n",
    "wages_lowest.plot.bar(x = \"soc_name\", y = \"avg_wage\")\n"
   ]
  },
  {
   "cell_type": "markdown",
   "id": "3a7af089",
   "metadata": {},
   "source": [
    "### #2 How does the income vary for Registered Nurses? How does this distribution compare to other medical professions? How did this income change between 2014 and 2015?"
   ]
  },
  {
   "cell_type": "markdown",
   "id": "81cf43d2",
   "metadata": {},
   "source": [
    "This first bar graph is rather simple, but shows the variation of incomes within the nursing profession. It is easy to see from this graph that the majority of nurses earn between 10K-50K dollars. It is also interesting to note the spike of nurses who earn over 200,000. I would say that this is a signal that my data set is limited because the nurse who earn more that 200K are all clumped together rather than allowing me to parse out their differences."
   ]
  },
  {
   "cell_type": "code",
   "execution_count": null,
   "id": "66fcf730",
   "metadata": {},
   "outputs": [],
   "source": [
    "plt.figure(figsize=(10,7))\n",
    "plt.xticks(rotation = 90)\n",
    "sns.barplot(x = \"wage_bin_name\", y = \"num_ppl\", palette=\"Greens_d\", data=nurse_wages)"
   ]
  },
  {
   "cell_type": "markdown",
   "id": "a91679cf",
   "metadata": {},
   "source": [
    "Again, I am filtering my population wage distributions by their social ID, to limit my dataset to only the healthcare profession. "
   ]
  },
  {
   "cell_type": "code",
   "execution_count": null,
   "id": "378ccfb6",
   "metadata": {},
   "outputs": [],
   "source": [
    "population_wages['Healthcare'] = population_wages.soc.apply(lambda x:x[:3])\n",
    "population_wages = population_wages[population_wages[\"Healthcare\"] == '291']"
   ]
  },
  {
   "cell_type": "code",
   "execution_count": null,
   "id": "0568bd51",
   "metadata": {},
   "outputs": [],
   "source": [
    "nurses_doctors = population_wages[(population_wages[\"soc\"] == '291141') | (population_wages[\"soc\"] == '291060')]"
   ]
  },
  {
   "cell_type": "markdown",
   "id": "d717decc",
   "metadata": {},
   "source": [
    "This next graph attempts to compare the range of incomes between nurses and doctors. But as you can see, the conclusions that I can draw are limited. The vast majority of physician and surgeon wages are lumped into the greater than 200K category. This means that my ability to parse out the variations for doctor incomes is significantly restricted. "
   ]
  },
  {
   "cell_type": "code",
   "execution_count": null,
   "id": "f5b8f852",
   "metadata": {},
   "outputs": [],
   "source": [
    "plt.figure(figsize=(10,7))\n",
    "plt.xticks(rotation = 90)\n",
    "sns.barplot(x=\"wage_bin_name\", y=\"num_ppl\", hue=\"soc_name\", data=nurses_doctors)"
   ]
  },
  {
   "cell_type": "code",
   "execution_count": null,
   "id": "b7e6fe2c",
   "metadata": {},
   "outputs": [],
   "source": [
    "nurses_NurseAnesthetists = population_wages[(population_wages[\"soc\"] == '291141') | (population_wages[\"soc\"] == '291151')]"
   ]
  },
  {
   "cell_type": "markdown",
   "id": "de53bb56",
   "metadata": {},
   "source": [
    "Now, I am comparing the wage distribution of nurses and nurse anesthetists. What I gather from this bar graph is that the sheer number of nurse anesthetists is much lower than the national number of registered nurses. I can also see that the starting wages of nurse anesthetist appears to begin towards the high end of registered nurse distributions. "
   ]
  },
  {
   "cell_type": "markdown",
   "id": "4244f627",
   "metadata": {},
   "source": [
    "Next, I take the same data as above and put it in a bar graph to try and get a better idea of the variations in quantities between these most common industries. As we can see, hospitals employ around 2 million nurses where as the closest rival only has around 250,000. "
   ]
  },
  {
   "cell_type": "code",
   "execution_count": null,
   "id": "e71298c6",
   "metadata": {},
   "outputs": [],
   "source": [
    "plt.figure(figsize=(10,7))\n",
    "plt.xticks(rotation = 90)\n",
    "sns.barplot(x = \"naics_name\", y = \"num_ppl\", palette=\"Greens_d\", data=common)"
   ]
  },
  {
   "cell_type": "markdown",
   "id": "c7797d3c",
   "metadata": {},
   "source": [
    "How about all the separate other medical industries that also employ nurses. Do their numbers compete with the large percentage of nurses that work at hospitals?  "
   ]
  },
  {
   "cell_type": "code",
   "execution_count": null,
   "id": "5d1cddb4",
   "metadata": {},
   "outputs": [],
   "source": [
    "total = []\n",
    "total = common\n",
    "other = industry.num_ppl[:50].sum()\n",
    "total.loc[56] = other\n",
    "total.loc[56, 'naics_name'] = 'Other'"
   ]
  },
  {
   "cell_type": "markdown",
   "id": "0fd07f33",
   "metadata": {},
   "source": [
    "In this next section, I add up all the separate industries that also employ nurses and put them into an 'Other' category. As compared to the pie graph above, there are a significant number of nurses who work in various other industries but overall hospitals still employ half of all nurses in the job market."
   ]
  },
  {
   "cell_type": "code",
   "execution_count": null,
   "id": "80811693",
   "metadata": {},
   "outputs": [],
   "source": [
    "plt.figure(figsize=(10, 7))\n",
    "plt.pie(total.num_ppl)\n",
    "plt.axis('equal')\n",
    "plt.legend(total.naics_name)"
   ]
  },
  {
   "cell_type": "code",
   "execution_count": null,
   "id": "2a3a3ef8",
   "metadata": {},
   "outputs": [],
   "source": [
    "plt.figure(figsize=(10,7))\n",
    "plt.xticks(rotation = 90)\n",
    "sns.barplot(x=\"wage_bin_name\", y=\"num_ppl\", hue=\"soc_name\", data=nurses_NurseAnesthetists)"
   ]
  },
  {
   "cell_type": "code",
   "execution_count": null,
   "id": "bdce4f98",
   "metadata": {},
   "outputs": [],
   "source": [
    "nurses_PractitionMidwife = population_wages[(population_wages[\"soc\"] == '291141') | (population_wages[\"soc\"] == '2911XX')]"
   ]
  },
  {
   "cell_type": "markdown",
   "id": "63dbb2be",
   "metadata": {},
   "source": [
    "Lastly, I'm showing the difference between registered nurses and both nurse practitioners and nurse midwives. Similar to the last bar graph, the quantity of registered nurses compared to both nurse practitioners and nurse midwives is drastically different. I do see more overlap for the range of incomes for these professions compared to my previous graphs. However, I believe that my dataset is limited by the fact that the nurse practitioners and nurse midwives are lumped into the same professional category. "
   ]
  },
  {
   "cell_type": "code",
   "execution_count": null,
   "id": "6c856228",
   "metadata": {},
   "outputs": [],
   "source": [
    "plt.figure(figsize=(10,7))\n",
    "plt.xticks(rotation = 90)\n",
    "sns.barplot(x=\"wage_bin_name\", y=\"num_ppl\", hue=\"soc_name\", data=nurses_PractitionMidwife)"
   ]
  },
  {
   "cell_type": "code",
   "execution_count": null,
   "id": "50255941",
   "metadata": {},
   "outputs": [],
   "source": [
    "nurse_wages = pd.read_csv('Nurses-Wages.csv')"
   ]
  },
  {
   "cell_type": "markdown",
   "id": "9dbbc3c0",
   "metadata": {},
   "source": [
    "This next bar graph shows the changes for registered nurse wage distributions between 2014 and 2015. While the shape of both distributions is roughly the same, I notice that almost all the categories greater that 20K shift upward in 2015. This informs me that possibly more nurses have entered the market, thereby increasing the number of nurses in that income bracket. However, a portion of nurses have might also have deliberately made a point to work more, which would also increase what income bracket they fall into. "
   ]
  },
  {
   "cell_type": "code",
   "execution_count": null,
   "id": "0d29c8d1",
   "metadata": {},
   "outputs": [],
   "source": [
    "plt.figure(figsize=(10,7))\n",
    "plt.xticks(rotation = 90)\n",
    "sns.barplot(x=\"wage_bin_name\", y=\"num_ppl\", hue=\"year\", data=nurse_wages)"
   ]
  },
  {
   "cell_type": "markdown",
   "id": "68f6d7d6",
   "metadata": {},
   "source": [
    "### #3 How does the number of registered nurses vary by industry? Does the industry difference affect the income level? "
   ]
  },
  {
   "cell_type": "markdown",
   "id": "5df6ad76",
   "metadata": {},
   "source": [
    "For this last part, I'm going to focus solely on the variation with in the nursing profession"
   ]
  },
  {
   "cell_type": "code",
   "execution_count": null,
   "id": "0ddf4d34",
   "metadata": {},
   "outputs": [],
   "source": [
    "common = industry[industry[\"num_ppl\"] > 100000]"
   ]
  },
  {
   "cell_type": "markdown",
   "id": "e4213071",
   "metadata": {},
   "source": [
    "My first figure in this section shows the healthcare industries that employ over 100,000 nurses. As you can see, hospitals far out number the other industries and appear to employ over three times as many nurses as the next four highest industries. "
   ]
  },
  {
   "cell_type": "code",
   "execution_count": null,
   "id": "c1ab5f15",
   "metadata": {},
   "outputs": [],
   "source": [
    "plt.figure(figsize=(10, 7))\n",
    "plt.pie(common.num_ppl)\n",
    "plt.axis('equal')\n",
    "plt.legend(common.naics_name)"
   ]
  }
 ],
 "metadata": {},
 "nbformat": 4,
 "nbformat_minor": 5
}
