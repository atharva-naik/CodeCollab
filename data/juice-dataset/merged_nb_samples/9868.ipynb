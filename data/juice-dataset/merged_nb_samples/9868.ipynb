{
 "cells": [
  {
   "cell_type": "markdown",
   "id": "9257e687",
   "metadata": {},
   "source": [
    "# Objective\n",
    "\n",
    "Using this toy dataset, I would like to generate a predictive model of MPG."
   ]
  },
  {
   "cell_type": "code",
   "execution_count": null,
   "id": "73483c5d",
   "metadata": {},
   "outputs": [],
   "source": [
    "import numpy as np\n",
    "import pandas as pd\n",
    "import matplotlib.pyplot as plt\n",
    "import seaborn as sns\n",
    "\n",
    "df = pd.read_csv('mpg.csv')\n",
    "\n",
    "print(df.head())"
   ]
  },
  {
   "cell_type": "code",
   "execution_count": null,
   "id": "28abed72",
   "metadata": {},
   "outputs": [],
   "source": [
    "print(df.info())"
   ]
  },
  {
   "cell_type": "markdown",
   "id": "2761a975",
   "metadata": {},
   "source": [
    "I found some missing values which in place had a question mark. I would like to replace these with the value -99999."
   ]
  },
  {
   "cell_type": "code",
   "execution_count": null,
   "id": "91c1d41e",
   "metadata": {},
   "outputs": [],
   "source": [
    "df['horsepower'] = df['horsepower'].replace('?',-99999)\n",
    "df['horsepower'] = df['horsepower'].astype('int64')\n",
    "print(df.info())\n",
    "print(df.describe())"
   ]
  },
  {
   "cell_type": "markdown",
   "id": "e3af0bf7",
   "metadata": {},
   "source": [
    "# EDA"
   ]
  },
  {
   "cell_type": "code",
   "execution_count": null,
   "id": "47db89a5",
   "metadata": {},
   "outputs": [],
   "source": [
    "corr = df.corr()\n",
    "sns.heatmap(corr, mask=np.zeros_like(corr, dtype=np.bool), cmap=sns.diverging_palette(220, 10, as_cmap=True), square=True)\n",
    "plt.title(\"Correlation Heatmap\")\n",
    "plt.show()"
   ]
  },
  {
   "cell_type": "markdown",
   "id": "885a2bfa",
   "metadata": {},
   "source": [
    "We see much of the variables strongly correlated with each other in this heatmap. So I think it might be sufficient to model this with linear regression."
   ]
  },
  {
   "cell_type": "code",
   "execution_count": null,
   "id": "b06fd002",
   "metadata": {},
   "outputs": [],
   "source": [
    "print(corr)"
   ]
  },
  {
   "cell_type": "code",
   "execution_count": null,
   "id": "34049162",
   "metadata": {},
   "outputs": [],
   "source": [
    "for i in range(len(corr.index)):\n",
    "    for j in range(len(corr.columns)):\n",
    "        if (np.abs(corr.iloc[i,j]) >= 0.8) & (np.abs(corr.iloc[i,j]) !=1):\n",
    "            print(corr.index.values[i],corr.columns[j],corr.iloc[i,j])\n",
    "            plt.figure(i)\n",
    "            x = list(df[corr.index.values[i]])\n",
    "            y = list(df[corr.columns[j]])\n",
    "            plt.scatter(x,y)\n",
    "            plt.show()"
   ]
  },
  {
   "cell_type": "markdown",
   "id": "05c7c402",
   "metadata": {},
   "source": [
    "Here are the graphs of pairs of variables with the absolute value of their correlation coefficients greater than 0.8. "
   ]
  },
  {
   "cell_type": "markdown",
   "id": "996b591c",
   "metadata": {},
   "source": [
    "- mpg and displacement: mpg increases, displacement decreases.\n",
    "- mpg and weight: mgp increases, weight decreases\n",
    "- cyclinders and displacement: cylinders increases, displacement increases\n",
    "- cylinders and weight: cylinders increases, weight increases\n",
    "- displacement and weight: displacement increases, weight increases\n",
    "- weight and mpg: weight increases, mpg decreases"
   ]
  },
  {
   "cell_type": "markdown",
   "id": "c2df0350",
   "metadata": {},
   "source": [
    "# Modeling"
   ]
  },
  {
   "cell_type": "code",
   "execution_count": null,
   "id": "980b43b8",
   "metadata": {},
   "outputs": [],
   "source": [
    "from sklearn.linear_model import LinearRegression\n",
    "from sklearn.neighbors import KNeighborsRegressor\n",
    "from sklearn import preprocessing\n",
    "from sklearn.model_selection import cross_val_score, train_test_split\n",
    "from sklearn.svm import SVR\n",
    "\n",
    "df = df[df['horsepower'] != -99999]\n",
    "#f = df.drop(['horsepower'],1)\n",
    "\n",
    "print(df.describe())\n",
    "\n",
    "X = np.array(df.drop(['mpg'],1))\n",
    "X = preprocessing.scale(X)\n",
    "\n",
    "y = np.array(df['mpg'])"
   ]
  },
  {
   "cell_type": "markdown",
   "id": "4e09fb6c",
   "metadata": {},
   "source": [
    "# Linear Regression"
   ]
  },
  {
   "cell_type": "code",
   "execution_count": null,
   "id": "4ad99645",
   "metadata": {},
   "outputs": [],
   "source": [
    "lr = LinearRegression()\n",
    "lr.fit(X_train,y_train)\n",
    "acc = lr.score(X_test,y_test)\n",
    "print(acc)"
   ]
  },
  {
   "cell_type": "code",
   "execution_count": null,
   "id": "91ab2086",
   "metadata": {},
   "outputs": [],
   "source": [
    "preds = lr.predict(X_test)\n",
    "\n",
    "plt.figure()\n",
    "plt.plot(range(X_test.shape[0]), preds, 'b', label='preds')\n",
    "plt.plot(range(X_test.shape[0]), y_test, 'r', label='actual')\n",
    "plt.legend()\n",
    "plt.show()"
   ]
  },
  {
   "cell_type": "markdown",
   "id": "96166f62",
   "metadata": {},
   "source": [
    "# K Neighbors Regressor"
   ]
  },
  {
   "cell_type": "code",
   "execution_count": null,
   "id": "020036fb",
   "metadata": {},
   "outputs": [],
   "source": [
    "knn = KNeighborsRegressor(n_neighbors=5, p=1)\n",
    "knn.fit(X_train,y_train)\n",
    "acc = knn.score(X_test,y_test)\n",
    "print(acc)"
   ]
  },
  {
   "cell_type": "code",
   "execution_count": null,
   "id": "f47d47f4",
   "metadata": {},
   "outputs": [],
   "source": [
    "preds = knn.predict(X_test)\n",
    "\n",
    "plt.figure()\n",
    "plt.plot(range(X_test.shape[0]), preds, 'b', label='preds')\n",
    "plt.plot(range(X_test.shape[0]), y_test, 'r', label='actual')\n",
    "plt.legend()\n",
    "plt.show()"
   ]
  },
  {
   "cell_type": "markdown",
   "id": "b4326653",
   "metadata": {},
   "source": [
    "# Support Vector Regressor"
   ]
  },
  {
   "cell_type": "code",
   "execution_count": null,
   "id": "94b2352c",
   "metadata": {},
   "outputs": [],
   "source": [
    "sv = SVR(C=1e5, kernel='linear')\n",
    "sv.fit(X_train, y_train)\n",
    "acc = sv.score(X_test, y_test)\n",
    "print(acc)"
   ]
  },
  {
   "cell_type": "code",
   "execution_count": null,
   "id": "02a6040c",
   "metadata": {},
   "outputs": [],
   "source": [
    "preds = sv.predict(X_test)\n",
    "\n",
    "plt.figure()\n",
    "plt.plot(range(X_test.shape[0]), preds, 'b', label='preds')\n",
    "plt.plot(range(X_test.shape[0]), y_test, 'r', label='actual')\n",
    "plt.legend()\n",
    "plt.show()"
   ]
  },
  {
   "cell_type": "markdown",
   "id": "029d868e",
   "metadata": {},
   "source": [
    "# Neural Network"
   ]
  },
  {
   "cell_type": "code",
   "execution_count": null,
   "id": "a19a564d",
   "metadata": {},
   "outputs": [],
   "source": [
    "from keras.models import Sequential\n",
    "from keras.layers import Dense, Dropout\n",
    "from keras.optimizers import Adam, SGD\n",
    "from keras.callbacks import EarlyStopping\n",
    "\n",
    "in_shape = (X_train.shape[1],)\n",
    "\n",
    "model = Sequential()\n",
    "model.add(Dense(20, activation='sigmoid', input_shape=in_shape))\n",
    "#model.add(Dropout(0.2))\n",
    "model.add(Dense(20, activation='sigmoid'))\n",
    "model.add(Dense(1))\n",
    "\n",
    "early_stopping = EarlyStopping(monitor='loss', patience=5)\n",
    "model.compile(loss='mean_squared_error', optimizer=Adam(lr=0.001))\n",
    "mod_hist = model.fit(X_train, y_train, epochs=1000, batch_size=1, callbacks=[early_stopping], verbose=1, validation_data=(X_test,y_test))"
   ]
  },
  {
   "cell_type": "code",
   "execution_count": null,
   "id": "cf395371",
   "metadata": {},
   "outputs": [],
   "source": [
    "plt.figure()\n",
    "plt.plot(range(X_test.shape[0]), model.predict(X_test), 'b', label='predicted')\n",
    "plt.plot(range(X_test.shape[0]), y_test, 'r', label='actual')\n",
    "plt.legend()\n",
    "plt.show()"
   ]
  },
  {
   "cell_type": "code",
   "execution_count": null,
   "id": "e330b059",
   "metadata": {},
   "outputs": [],
   "source": [
    "plt.figure()\n",
    "plt.plot(mod_hist.history['val_loss'], c='b', label='val_loss')\n",
    "plt.plot(mod_hist.history['loss'], c='r', label='loss')\n",
    "plt.legend()\n",
    "plt.show()"
   ]
  },
  {
   "cell_type": "markdown",
   "id": "7c5bdcea",
   "metadata": {},
   "source": [
    "# Random Forest Regressor"
   ]
  }
 ],
 "metadata": {},
 "nbformat": 4,
 "nbformat_minor": 5
}
