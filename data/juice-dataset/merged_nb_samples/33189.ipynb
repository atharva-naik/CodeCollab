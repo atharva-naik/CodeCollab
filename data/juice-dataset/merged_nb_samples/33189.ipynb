{
 "cells": [
  {
   "cell_type": "markdown",
   "id": "6490cece",
   "metadata": {},
   "source": [
    "# <center><u>Online Retail</u></center>"
   ]
  },
  {
   "cell_type": "markdown",
   "id": "7439acde",
   "metadata": {},
   "source": [
    "# <b>Introduction</b>"
   ]
  },
  {
   "cell_type": "markdown",
   "id": "ddf14783",
   "metadata": {},
   "source": [
    "LINK : https://archive.ics.uci.edu/ml/datasets/Online+Retail\n",
    "\n",
    "This is a transnational data set which contains all the transactions occurring between 01/12/2010 and 09/12/2011 for a UK-based and registered non-store online retail. The company mainly sells unique all-occasion gifts. Many customers of the company are wholesalers."
   ]
  },
  {
   "cell_type": "markdown",
   "id": "f1c59533",
   "metadata": {},
   "source": [
    "\n"
   ]
  },
  {
   "cell_type": "markdown",
   "id": "9a288334",
   "metadata": {},
   "source": [
    "# <b>Attribute Information</b>"
   ]
  },
  {
   "cell_type": "markdown",
   "id": "06072bed",
   "metadata": {},
   "source": [
    "<b>InvoiceNo</b>: Invoice number. Nominal, a 6-digit integral number uniquely assigned to each transaction. If this code starts with letter 'c', it indicates a cancellation.\n",
    "\n",
    "<b>StockCode</b>: Product (item) code. Nominal, a 5-digit integral number uniquely assigned to each distinct product.\n",
    "\n",
    "<b>Description</b>: Product (item) name. Nominal.\n",
    "\n",
    "<b>Quantity</b>: The quantities of each product (item) per transaction. Numeric.\n",
    "\n",
    "<b>InvoiceDate</b>: Invice Date and time. Numeric, the day and time when each transaction was generated.\n",
    "\n",
    "<b>UnitPrice</b>: Unit price. Numeric, Product price per unit in sterling.\n",
    "\n",
    "<b>CustomerID</b>: Customer number. Nominal, a 5-digit integral number uniquely assigned to each customer.\n",
    "\n",
    "<b>Country</b>: Country name. Nominal, the name of the country where each customer resides.\n",
    "\n"
   ]
  },
  {
   "cell_type": "markdown",
   "id": "00657277",
   "metadata": {},
   "source": [
    "# Sample Dataset"
   ]
  },
  {
   "cell_type": "markdown",
   "id": "74c628f7",
   "metadata": {},
   "source": [
    "Import Pandas library in order to convert the file xlsx into csv format."
   ]
  },
  {
   "cell_type": "code",
   "execution_count": null,
   "id": "4795904a",
   "metadata": {},
   "outputs": [],
   "source": [
    "df.shape"
   ]
  },
  {
   "cell_type": "code",
   "execution_count": null,
   "id": "06668354",
   "metadata": {},
   "outputs": [],
   "source": [
    "df.head(20)"
   ]
  },
  {
   "cell_type": "markdown",
   "id": "ee3a04f0",
   "metadata": {},
   "source": [
    "There 541909 rows with 9 columns(variables)."
   ]
  },
  {
   "cell_type": "code",
   "execution_count": null,
   "id": "76046736",
   "metadata": {},
   "outputs": [],
   "source": [
    "df.describe()"
   ]
  },
  {
   "cell_type": "markdown",
   "id": "80cb3fea",
   "metadata": {},
   "source": [
    "Max and Min of <i>Quantity</i> based on the above transaction which the transaction been cancelled(C581484)."
   ]
  },
  {
   "cell_type": "markdown",
   "id": "7000d1b5",
   "metadata": {},
   "source": [
    "Below is datatype for each variables."
   ]
  },
  {
   "cell_type": "code",
   "execution_count": null,
   "id": "628fa187",
   "metadata": {},
   "outputs": [],
   "source": [
    "df.dtypes"
   ]
  },
  {
   "cell_type": "markdown",
   "id": "53e647f7",
   "metadata": {},
   "source": [
    "# Data Cleaning & Transformation"
   ]
  },
  {
   "cell_type": "markdown",
   "id": "5ffb1d53",
   "metadata": {},
   "source": [
    "View the the variables using describe function"
   ]
  },
  {
   "cell_type": "code",
   "execution_count": null,
   "id": "8447fce2",
   "metadata": {},
   "outputs": [],
   "source": [
    "df.info()"
   ]
  },
  {
   "cell_type": "markdown",
   "id": "1f242559",
   "metadata": {},
   "source": [
    "Variable <i>Description</i> and <i>CustomerID</i> have missing values. <i>CustomerID</i> have more than 100000 missing values, and maybe consider it to be removed."
   ]
  },
  {
   "cell_type": "code",
   "execution_count": null,
   "id": "c7dab956",
   "metadata": {},
   "outputs": [],
   "source": [
    "print (df['Country'].unique())"
   ]
  },
  {
   "cell_type": "markdown",
   "id": "82397b84",
   "metadata": {},
   "source": [
    "It's interesting since there are many country involve in this transaction. Of course it is, because this is internation transaction though. Maybe we can view the distribution of customer of each country?"
   ]
  },
  {
   "cell_type": "code",
   "execution_count": null,
   "id": "4704ce4a",
   "metadata": {},
   "outputs": [],
   "source": [
    "plt.rc('figure', figsize=(10, 5))\n",
    "fizsize_with_subplots = (30, 20)\n",
    "fig = plt.figure(figsize=fizsize_with_subplots)\n",
    "fig_dims = (3,2)\n",
    "colors = 'rgbymck'\n",
    "\n",
    "# EDUCATION\n",
    "plt.subplot2grid(fig_dims, (0, 0))\n",
    "df['Country'].value_counts().plot(kind='bar',title='Frequency of education', color=colors)"
   ]
  },
  {
   "cell_type": "markdown",
   "id": "7525f800",
   "metadata": {},
   "source": [
    "Variable <i>Country</i> also need consider to be removed since the number of customers not balance for each country and mostly from UK."
   ]
  },
  {
   "cell_type": "markdown",
   "id": "51a98aa7",
   "metadata": {},
   "source": [
    "<b>Create new variables <i>Time, Date and TotalPrice</i></b>"
   ]
  },
  {
   "cell_type": "code",
   "execution_count": null,
   "id": "9ba97794",
   "metadata": {},
   "outputs": [],
   "source": [
    "df_uk['Time'] = df_uk.InvoiceDate.str[11:]\n",
    "df_uk['Date'] = df_uk.InvoiceDate.str[:10]\n",
    "df_uk['TotalPrice'] = df_uk['Quantity'] * df_uk['UnitPrice']\n",
    "\n",
    "# http://stackoverflow.com/questions/30780742/get-substring-from-pandas-dataframe-while-filtering"
   ]
  },
  {
   "cell_type": "code",
   "execution_count": null,
   "id": "cfaf1dc0",
   "metadata": {},
   "outputs": [],
   "source": [
    "df_uk.head()"
   ]
  },
  {
   "cell_type": "markdown",
   "id": "3c428684",
   "metadata": {},
   "source": [
    "<b>Remove <i>InvoiceDate</i>, <i>UnitPrice</i> and <i>StockCode</i> variable</b>\n"
   ]
  },
  {
   "cell_type": "code",
   "execution_count": null,
   "id": "b1263178",
   "metadata": {},
   "outputs": [],
   "source": [
    "df_uk = df_uk.drop(['InvoiceDate','StockCode','UnitPrice'],axis=1)\n",
    "\n",
    "# http://chrisalbon.com/python/pandas_dropping_column_and_rows.html"
   ]
  },
  {
   "cell_type": "markdown",
   "id": "dfde0141",
   "metadata": {},
   "source": [
    "# Data Visualization"
   ]
  },
  {
   "cell_type": "markdown",
   "id": "1874ce6f",
   "metadata": {},
   "source": [
    "<b>Top 10 Product's Quantity Bought</b>"
   ]
  },
  {
   "cell_type": "code",
   "execution_count": null,
   "id": "cb93780a",
   "metadata": {},
   "outputs": [],
   "source": [
    "df_uk = df[df['Country'] == 'United Kingdom'].copy()\n",
    "df_uk = df_uk[pd.notnull(df_uk['Description'])]\n",
    "df_uk = df_uk[pd.notnull(df_uk['CustomerID'])]\n",
    "df_uk = df_uk.drop(df_uk.columns[[0]],axis=1)\n",
    "\n",
    "#http://stackoverflow.com/questions/32675861/copy-all-values-in-a-column-to-a-new-column-in-a-pandas-dataframe"
   ]
  },
  {
   "cell_type": "code",
   "execution_count": null,
   "id": "f3296a21",
   "metadata": {},
   "outputs": [],
   "source": [
    "graph_prod = df_uk.groupby(['Description']).sum()\n",
    "graph_prod = graph_prod.sort_values('Quantity',ascending=False).head(10)\n",
    "graph_prod['Quantity'].plot(kind='bar',color=colors)\n",
    "graph_prod['Quantity']\n",
    "\n",
    "# http://queirozf.com/entries/pandas-dataframe-by-example\n",
    "# http://chrisalbon.com/python/pandas_sorting_rows_dataframe.html\n",
    "#http://stackoverflow.com/questions/29219055/plot-top-10-verse-all-other-values"
   ]
  },
  {
   "cell_type": "markdown",
   "id": "b8271dba",
   "metadata": {},
   "source": [
    "Above is the graph of 10 products bought by the customer from UK. Product that the most bought is <i>WORLD WAR 2 GLIDERS ASSTD DESIGNS</i> with 47982 units."
   ]
  },
  {
   "cell_type": "markdown",
   "id": "ef480cca",
   "metadata": {},
   "source": [
    "<b>Top 10 Product's Total Price</b>"
   ]
  },
  {
   "cell_type": "code",
   "execution_count": null,
   "id": "b5253094",
   "metadata": {},
   "outputs": [],
   "source": [
    "graph_prod = df_uk.groupby(['Description']).sum()\n",
    "graph_prod = graph_prod.sort_values('TotalPrice',ascending=False).head(10)\n",
    "graph_prod['TotalPrice'].plot(kind='bar',color=colors)\n",
    "graph_prod['TotalPrice']\n",
    "\n",
    "# http://queirozf.com/entries/pandas-dataframe-by-example\n",
    "# http://chrisalbon.com/python/pandas_sorting_rows_dataframe.html\n",
    "#http://stackoverflow.com/questions/29219055/plot-top-10-verse-all-other-values"
   ]
  },
  {
   "cell_type": "markdown",
   "id": "47fbb596",
   "metadata": {},
   "source": [
    "Regency cakestand 3 tier has the highest total price among other product."
   ]
  },
  {
   "cell_type": "markdown",
   "id": "a18e8e61",
   "metadata": {},
   "source": [
    "\n",
    "\n"
   ]
  },
  {
   "cell_type": "markdown",
   "id": "229355db",
   "metadata": {},
   "source": [
    "<b>Top 10 customers based on total price spent</b>"
   ]
  },
  {
   "cell_type": "code",
   "execution_count": null,
   "id": "03cea096",
   "metadata": {},
   "outputs": [],
   "source": [
    "graph_cust = df_uk.groupby(['CustomerID']).sum()\n",
    "graph_cust = graph_cust.sort_values('TotalPrice', ascending=False).head(10)\n",
    "graph_cust['TotalPrice'].plot(kind='bar',color=colors)\n",
    "graph_cust['TotalPrice']"
   ]
  },
  {
   "cell_type": "markdown",
   "id": "359218b0",
   "metadata": {},
   "source": [
    "CustomerID 18102 has spent $256438.49 bought online product which the highest among them. Maybe we should consider in giving any reward to appreciate their money?\n"
   ]
  },
  {
   "cell_type": "code",
   "execution_count": null,
   "id": "4bc5aeab",
   "metadata": {},
   "outputs": [],
   "source": [
    "df_uk['Date'] = pd.to_datetime(df_uk['Date'])\n",
    "df_uk['year'] = df_uk['Date'].dt.year\n",
    "df_uk['month'] = df_uk['Date'].dt.month\n",
    "time_series_bought = df_uk.groupby(['year','month']).sum()\n",
    "\n",
    "ax = time_series_bought['TotalPrice'].plot(kind='line', linestyle='--', marker='o')\n",
    "time_series_bought['TotalPrice'].plot(kind='bar',ax=ax, color=colors)\n",
    "\n",
    "#http://stackoverflow.com/questions/23482201/plot-pandas-dataframe-as-bar-and-line-on-the-same-one-chart"
   ]
  },
  {
   "cell_type": "code",
   "execution_count": null,
   "id": "2bcddc5e",
   "metadata": {},
   "outputs": [],
   "source": [
    "print(time_series_bought['TotalPrice'])"
   ]
  },
  {
   "cell_type": "markdown",
   "id": "741e2c90",
   "metadata": {},
   "source": [
    "It interesting to see that November 2011 have the highest sales. Sales more than 500000 is in May, September, October and November 2011. But in December 2011 the sales sudden fall maybe because it is not a full month transaction (transaction until 9 Dec 2011). We need to dig further what are top 3 products that the customer bought for each month."
   ]
  }
 ],
 "metadata": {},
 "nbformat": 4,
 "nbformat_minor": 5
}
