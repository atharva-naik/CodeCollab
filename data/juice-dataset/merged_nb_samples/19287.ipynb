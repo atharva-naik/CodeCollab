{
 "cells": [
  {
   "cell_type": "code",
   "execution_count": null,
   "id": "0bea49ad",
   "metadata": {},
   "outputs": [],
   "source": [
    "import sqlite3\n",
    "\n",
    "from prettytable import PrettyTable"
   ]
  },
  {
   "cell_type": "markdown",
   "id": "fdead2c7",
   "metadata": {},
   "source": [
    "The [sqlite3](https://docs.python.org/2/library/sqlite3.html) library has been available as part of the Python Standard Library as of version 2.5, and _is a C library that provides a lightweight disk-based database that doesn’t require a separate server process and allows accessing the database using a nonstandard variant of the SQL query language._"
   ]
  },
  {
   "cell_type": "markdown",
   "id": "7ceb5382",
   "metadata": {},
   "source": [
    "We'll also be using the [prettytable](http://code.google.com/p/prettytable/wiki/Tutorial) library to print out the results nicely. \n",
    "\n",
    "It was already present in my Linux Mint version of PyCharm, but if needed, [installation instructions should be here.](http://code.google.com/p/prettytable/wiki/Installation)"
   ]
  },
  {
   "cell_type": "markdown",
   "id": "e4774a91",
   "metadata": {},
   "source": [
    "---"
   ]
  },
  {
   "cell_type": "markdown",
   "id": "25a00733",
   "metadata": {},
   "source": [
    "Ok, so let's get started! \n",
    "\n",
    "First create a [Connection](https://docs.python.org/2/library/sqlite3.html#sqlite3.Connection) object that represents the database."
   ]
  },
  {
   "cell_type": "markdown",
   "id": "e9c010d2",
   "metadata": {},
   "source": [
    "--- "
   ]
  },
  {
   "cell_type": "markdown",
   "id": "a6637b05",
   "metadata": {},
   "source": [
    "Noticing that the only parameters that are changing are the database name and query, we can just wrap it in a quick function like any good ~~lazy~~ programmer would."
   ]
  },
  {
   "cell_type": "code",
   "execution_count": null,
   "id": "e87899af",
   "metadata": {},
   "outputs": [],
   "source": [
    "def query_db(database_name, query):\n",
    "    '''Opens a connections to a SQL database using the sql3lite Python library,\n",
    "        and runs a provided query on the database.\n",
    "\n",
    "    Args:\n",
    "        database_name (string): String containing the name of the database to\n",
    "         be opened.\n",
    "\n",
    "        query (string): SQL query to be executed on the database\n",
    "\n",
    "    Returns:\n",
    "        tabled_results (PrettyTable object): Results in a table to be printed.\n",
    "    '''\n",
    "    connection = sqlite3.connect(database_name)\n",
    "    cursor = connection.cursor()\n",
    "    results_generator = cursor.execute(query)\n",
    "\n",
    "    tabled_results = pprint_results(results_generator)\n",
    "    return tabled_results\n",
    "    \n",
    "def pprint_results(results_generator):\n",
    "    ''' Formats results from sql3lite query into a nicer format to be printed.\n",
    "\n",
    "    Add columns from the sql database, and ascii separators.\n",
    "\n",
    "    Note: Put all results into memory to construct table.\n",
    "\n",
    "    Args:\n",
    "        results_generator (sqlite3.Cursor object): Cursor object containing the\n",
    "            results after executing a query on it.\n",
    "\n",
    "    Returns:\n",
    "        table_output (PrettyTable object): A PrettyTable object containing the\n",
    "         results of the SQL query in a nicely formatted container.\n",
    "    '''\n",
    "\n",
    "    colnames = [colname[0] for colname in results_generator.description]\n",
    "\n",
    "    table_output = PrettyTable(colnames)\n",
    "    table_output.padding_width = 1\n",
    "\n",
    "    for row in results_generator:\n",
    "         table_output.add_row(row)\n",
    "\n",
    "    return table_output"
   ]
  },
  {
   "cell_type": "code",
   "execution_count": null,
   "id": "a1e6e1df",
   "metadata": {},
   "outputs": [],
   "source": [
    "database_name = 'reuters.db'"
   ]
  },
  {
   "cell_type": "code",
   "execution_count": null,
   "id": "caf39ba7",
   "metadata": {},
   "outputs": [],
   "source": [
    "query = '''\n",
    "SELECT *\n",
    "FROM frequency\n",
    "WHERE term = 'net'\n",
    "AND count = 5\n",
    "'''"
   ]
  },
  {
   "cell_type": "code",
   "execution_count": null,
   "id": "5e4809b9",
   "metadata": {},
   "outputs": [],
   "source": [
    "print query_db(database_name, query)"
   ]
  },
  {
   "cell_type": "code",
   "execution_count": null,
   "id": "ac21b4d9",
   "metadata": {},
   "outputs": [],
   "source": [
    "new_query = '''\n",
    "SELECT *\n",
    "FROM frequency\n",
    "WHERE term = 'net'\n",
    "AND count = 6\n",
    "'''"
   ]
  },
  {
   "cell_type": "code",
   "execution_count": null,
   "id": "de036c9f",
   "metadata": {},
   "outputs": [],
   "source": [
    "print query_db(database_name, new_query)"
   ]
  },
  {
   "cell_type": "markdown",
   "id": "58ef51ac",
   "metadata": {},
   "source": [
    "Quick aside regarding the instructions:\n",
    "\n"
   ]
  },
  {
   "cell_type": "markdown",
   "id": "da52001d",
   "metadata": {},
   "source": [
    "---\n",
    "_Many questions ask you to count the number of records returned by a query. Perhaps the easiest way to count the number of records returned by a query Q is to write Q as a subquery:_\n",
    "\n",
    "```SELECT count(*) FROM (\n",
    "  SELECT ...\n",
    ") x;```\n",
    "\n",
    "_(In SQLite, the alias \"x\" is not required, but in other dialects of SQL it is. So we've included it here.)_\n",
    "\n",
    "---"
   ]
  },
  {
   "cell_type": "markdown",
   "id": "493b96e8",
   "metadata": {},
   "source": [
    "If you're like me, and at first said.. \"what?\", hopefully this helps!\n",
    "\n",
    "#### Nesting SQL queries working example"
   ]
  },
  {
   "cell_type": "code",
   "execution_count": null,
   "id": "2a555550",
   "metadata": {},
   "outputs": [],
   "source": [
    "connection = sqlite3.connect('reuters.db')"
   ]
  },
  {
   "cell_type": "markdown",
   "id": "10e81cda",
   "metadata": {},
   "source": [
    "Once we have a a [Connection](https://docs.python.org/2/library/sqlite3.html#sqlite3.Connection), you can create a [Cursor](https://docs.python.org/2/library/sqlite3.html#sqlite3.Cursor) object which will execute SQL statements/queries on the database with its [.execute()](https://docs.python.org/2/library/sqlite3.html#sqlite3.Cursor.execute) method."
   ]
  },
  {
   "cell_type": "code",
   "execution_count": null,
   "id": "2cd7a8da",
   "metadata": {},
   "outputs": [],
   "source": [
    "cursor = connection.cursor()"
   ]
  },
  {
   "cell_type": "code",
   "execution_count": null,
   "id": "28e04616",
   "metadata": {},
   "outputs": [],
   "source": [
    "query = '''\n",
    "SELECT *\n",
    "FROM frequency as f\n",
    "WHERE term = 'net'\n",
    "AND count = 5\n",
    "'''"
   ]
  },
  {
   "cell_type": "code",
   "execution_count": null,
   "id": "692eb099",
   "metadata": {},
   "outputs": [],
   "source": [
    "results_generator = cursor.execute(query)"
   ]
  },
  {
   "cell_type": "markdown",
   "id": "c159cc2a",
   "metadata": {},
   "source": [
    "Executing our query with the Cursor object returns a [generator](https://www.jeffknupp.com/blog/2013/04/07/improve-your-python-yield-and-generators-explained/) which yields each new result without smashing everything into memory at once."
   ]
  },
  {
   "cell_type": "markdown",
   "id": "94a9d566",
   "metadata": {},
   "source": [
    "It has a [.next()](http://anandology.com/python-practice-book/iterators.html) method if we want to the next result. We can run this until all results are exhausted, or just iterate through with a for loop."
   ]
  },
  {
   "cell_type": "code",
   "execution_count": null,
   "id": "9539c65e",
   "metadata": {},
   "outputs": [],
   "source": [
    "results_generator.next()"
   ]
  },
  {
   "cell_type": "markdown",
   "id": "91a85222",
   "metadata": {},
   "source": [
    "Let's execute our query again real quick, since we 'yielded the first result out of our object' in our previous example."
   ]
  },
  {
   "cell_type": "markdown",
   "id": "ab60d586",
   "metadata": {},
   "source": [
    "## [(Pretty) Printing](https://code.google.com/p/prettytable/wiki/Tutorial) out our results table."
   ]
  },
  {
   "cell_type": "markdown",
   "id": "7aaed2b0",
   "metadata": {},
   "source": [
    "Column names are stored in the description attribute of the sqlite3 cursor object.\n",
    "\n",
    "It is a list of tuples with the first position containing the column name."
   ]
  }
 ],
 "metadata": {},
 "nbformat": 4,
 "nbformat_minor": 5
}
