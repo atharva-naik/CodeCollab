{
 "cells": [
  {
   "cell_type": "markdown",
   "id": "bcc6d0bd",
   "metadata": {},
   "source": [
    "<a id=\"top\"></a>\n",
    "<center>\n",
    "    <h1>Pandas Demo: Part 2</h1>\n",
    "    <h3>Advanced features and fancy stuff</h3>\n",
    "    <h4>Jennifer Walker |  jenfly (at) gmail (dot) com </h4>\n",
    "</center>\n",
    "\n",
    "This document is part 2 of a `pandas` demo started [here](https://jenfly.github.io/llc-python-resources/next-steps.html#pandas). Jupyter notebook source code and data are available in the [Github repo](https://github.com/jenfly/llc-python-resources).\n",
    "\n",
    "<i>Please email me with any questions, comments, or suggestions. I'd love to hear from you!</i>"
   ]
  },
  {
   "cell_type": "markdown",
   "id": "4eadde14",
   "metadata": {},
   "source": [
    "#### Example 2 cont'd: Deeper Analysis of Canada Learning Code Events"
   ]
  },
  {
   "cell_type": "markdown",
   "id": "e46d9036",
   "metadata": {},
   "source": [
    "Continuing from Example 2 in [part 1](https://jenfly.github.io/llc-python-resources/next-steps.html#pandas) of this demo, we first import the `pandas` library and read the data from `'llc-workshop-data.csv'` into a frame. Then we parse the dates into months, so we can later compute event attendance totals by month. Finally, we rename the \"Quantity\" column to a more useful \"# Participants\"."
   ]
  },
  {
   "cell_type": "code",
   "execution_count": null,
   "id": "92f1ce4c",
   "metadata": {},
   "outputs": [],
   "source": [
    "import pandas\n",
    "%matplotlib inline\n",
    "\n",
    "events = pandas.read_csv('data/llc-workshop-data.csv')\n",
    "events['date'] = pandas.to_datetime(events['Date Attending'])\n",
    "events['month'] = events['date'].dt.month\n",
    "events = events.rename(columns={'Quantity' : '# Participants'})\n",
    "events.head()"
   ]
  },
  {
   "cell_type": "markdown",
   "id": "1b2a28c7",
   "metadata": {},
   "source": [
    "##### Now, let's get even more fancy-schmancy to showcase some of the superpowers of Python + `pandas`\n",
    "\n",
    "When you were viewing the `'llc-workshop-data.csv'` file, you may have noticed that most of the names in the \"Event Name\" column included the name of the city, in a variety of different formats (e.g. \"in Toronto\", \"(Toronto Edition)\", \"(Toronto)\", \" - Toronto\"). This situation is typical in real world data&mdash;it's often messy and inconsistent, with two or more useful pieces of information smushed into one and no obvious way to extract those parts out of the whole. \n",
    "\n",
    "It would be great to know the city associated with each event and analyze our data on a city-by-city basis. Ideally, we might have a separate file which lists additional information for each event, including the city name. In that case, we could use `pandas` to easily merge that data with the data we've been working with. However, we often don't have all the extra data we might want, so in that situation it would be nice to somehow extract the city names from the event names. But how would we even do this in a spreadsheet? It is possible, but it would be quite excruciating.\n",
    "\n",
    "In Python, however, this sort of task is much, much easier. It requires knowledge of some fairly advanced concepts, but after you've learned those concepts it's pretty straightforward to apply them to a situation like this one. In the code below, I'm using \"regular expressions\" from a library called `re` to look for text patterns that allow me to find and extract the city names. If you'd like to learn more about regular expressions, you can check out [this tutorial](https://www.dataquest.io/blog/regular-expressions-data-scientists/) and this [handy cheatsheet](https://www.dataquest.io/blog/regex-cheatsheet/).\n",
    "\n",
    "The code below may look overwhelming, but as before, don't worry about trying to understand the details of it&mdash;this type of text wrangling is a pretty specialized niche of the data analysis ecosystem and may not be relevant to your work (but for any of you who do need to parse information from text data, it's nice to know that this sort of thing can be done in Python). The code is taking all the event names in our data, looking for the various patterns associated with the city names (\"in Toronto\", \"(Toronto)\", etc.) and then putting the city name and a standardized version of the event name (minus the city) into two new columns of our data table."
   ]
  },
  {
   "cell_type": "code",
   "execution_count": null,
   "id": "2abb7441",
   "metadata": {},
   "outputs": [],
   "source": [
    "import re\n",
    "\n",
    "def parse_event_name(name):\n",
    "    \"\"\"Return a pandas Series with event name parsed into event and city\"\"\"\n",
    "    event, city = name, None\n",
    "    \n",
    "    # Small workaround to keep some patterns from being mistaken for cities\n",
    "    event = event.replace('(Responsive Design)', '[Responsive Design]')\n",
    "    event = event.replace(' - Holiday Edition', '[Holiday Edition]')\n",
    "\n",
    "    # Check for cities listed as '(Vancouver Edition)', '(Vancouver)', '(Winnipeg Launch)', etc.\n",
    "    matches = re.findall('\\([A-Z][a-z]+.*\\)', event)\n",
    "    if len(matches) > 0:\n",
    "        event = event.replace(matches[0], '').strip()      \n",
    "        city = matches[0].replace('(', '').replace(')', '')\n",
    "        city = city.replace('Edition', '').replace('Launch', '').strip()\n",
    "        \n",
    "    # Check for cities listed as 'in Vancouver', 'in Toronto', etc.\n",
    "    matches = re.findall(' in [A-z][a-z]+', event)\n",
    "    if len(matches) > 0:\n",
    "        event = event.replace(matches[0], '').strip()\n",
    "        city = matches[0].replace(' in ', '').strip()\n",
    "   \n",
    "    # Check for cities listed as ' - Vancouver', ' - Toronto', etc.\n",
    "    matches = re.findall(' - [A-z][a-z]+', event)\n",
    "    if len(matches) > 0:\n",
    "        event = event.replace(matches[0], '').strip()\n",
    "        city = matches[0].replace(' - ', '').strip()\n",
    "    \n",
    "    # Some events are named 'Intro to' and others are 'Introduction to'\n",
    "    # Let's standardize them to all use the same convention\n",
    "    event = event.replace('Introduction to', 'Intro to')\n",
    "    \n",
    "    # Return the output as a pandas Series\n",
    "    output = pandas.Series({'Event Name' : name,\n",
    "                            'Event Name (standardized)' : event,\n",
    "                            'City' : city})\n",
    "    return output\n",
    "\n",
    "# Apply the above function to the entire \"Event Name\" column of our data table,\n",
    "# to parse all the event names, and add columns to our data table with the \n",
    "# standardized event name and the city name\n",
    "df = events['Event Name'].apply(parse_event_name).fillna('N/A')\n",
    "events = events.join(df[['Event Name (standardized)', 'City']], how='outer')\n",
    "events[['Event Name', 'Event Name (standardized)', 'City']].head()"
   ]
  },
  {
   "cell_type": "markdown",
   "id": "188c02f2",
   "metadata": {},
   "source": [
    "Now we have a column of city names, and with the code below we can easily check that the city names make sense, and see the number of participants for each city. When I was writing the `parse_event_name` function above, I started with just one pattern to look for the city name, and then used the code below to see what other patterns were in the data, and update my `parse_event_name` function with those patterns, building up my code with an **iterative** approach. `pandas` makes it easy to build up your code in this way, checking for each inconsistency or messiness in your data, and adding a few lines of code to account for it and standardize the data into a consistent format."
   ]
  },
  {
   "cell_type": "code",
   "execution_count": null,
   "id": "19f5316f",
   "metadata": {},
   "outputs": [],
   "source": [
    "city_counts = events['City'].value_counts(dropna=False)\n",
    "city_counts"
   ]
  },
  {
   "cell_type": "markdown",
   "id": "6ad3d6eb",
   "metadata": {},
   "source": [
    "It looks like the code is working the way we want it to, giving us a correct list of city names. For any event name where `parse_event_name` couldn't find a city, we've set the city to \"N/A\". In the code below, we can check all those events and make sure we didn't miss anything. This was another step I used in building up my `parse_event_name` function."
   ]
  },
  {
   "cell_type": "code",
   "execution_count": null,
   "id": "f523ccd2",
   "metadata": {},
   "outputs": [],
   "source": [
    "no_city = list(set(events.loc[events['City'] == 'N/A', 'Event Name']))\n",
    "for name in no_city:\n",
    "    print(name)"
   ]
  },
  {
   "cell_type": "markdown",
   "id": "2508fa8d",
   "metadata": {},
   "source": [
    "Looks like everything is working the way we want it to! The event names above are all missing the city name, so it is correct to list the city as \"N/A\" for these events.\n",
    "\n",
    "Now that we've extracted the city names and standardized the event names, we can see the number of participants across all cities, for each event:"
   ]
  },
  {
   "cell_type": "code",
   "execution_count": null,
   "id": "f9196930",
   "metadata": {},
   "outputs": [],
   "source": [
    "events['Event Name (standardized)'].value_counts()"
   ]
  },
  {
   "cell_type": "markdown",
   "id": "a6b12521",
   "metadata": {},
   "source": [
    "You may recall from [part 1](https://jenfly.github.io/llc-python-resources/next-steps.html#pandas) of the demo, that we found a total of 799 participants for National Learn to Code Day events. In the table above, we have a total of 705 participants for the event \"National Learn to Code Day 2014 Intro to HTML & CSS: Building a Multi-Page Website\". The numbers don't quite match up, suggesting that there are multiple different event names in the \"National Learn to Code Day\" category. Let's explore the data to see the different \"flavours\" of National Learn to Code Day events, and the number of participants in each:"
   ]
  },
  {
   "cell_type": "code",
   "execution_count": null,
   "id": "bbce727f",
   "metadata": {},
   "outputs": [],
   "source": [
    "national = events['Event Name'].str.contains('National Learn to Code Day')\n",
    "national_counts = events.loc[national, 'Event Name (standardized)'].value_counts()\n",
    "print(national_counts)\n",
    "print('\\n*** TOTAL for National Learn to Code Day: ' + str(national_counts.sum()) + ' ***')"
   ]
  },
  {
   "cell_type": "markdown",
   "id": "390dfdb4",
   "metadata": {},
   "source": [
    "We can see that there were 6 different events for National Learn to Code Day, and the grand total attendance for these 6 events matches with our previous findings.\n",
    "\n",
    "Now let's analyze the data on a city-by-city basis to extract even more insights from it. As an example, we can create a pivot table of the attendance for each event, sorted from highest total attendance to lowest, and broken down by city. Here are the first 5 rows of that pivot table:"
   ]
  },
  {
   "cell_type": "code",
   "execution_count": null,
   "id": "c4c15e01",
   "metadata": {},
   "outputs": [],
   "source": [
    "events_by_city = events.pivot_table(values='# Participants', \n",
    "                                    index='Event Name (standardized)',\n",
    "                                    columns='City', aggfunc='sum')\n",
    "events_by_city['Total'] = events_by_city.sum(axis=1)\n",
    "events_by_city = events_by_city.sort_values('Total', ascending=False).fillna(0)\n",
    "events_by_city.head()"
   ]
  },
  {
   "cell_type": "markdown",
   "id": "74849ce4",
   "metadata": {},
   "source": [
    "Let's save `events_by_city` to a .csv file so we can use it elsewhere:"
   ]
  },
  {
   "cell_type": "code",
   "execution_count": null,
   "id": "bae9ea4a",
   "metadata": {},
   "outputs": [],
   "source": [
    "events_by_city.to_csv('data/llc-workshop-attendance-by-city.csv')"
   ]
  },
  {
   "cell_type": "markdown",
   "id": "5062773d",
   "metadata": {},
   "source": [
    "Here's a sorted breakdown by city for the most popular event, \"Intro to HTML & CSS\":"
   ]
  },
  {
   "cell_type": "code",
   "execution_count": null,
   "id": "b2e925d1",
   "metadata": {},
   "outputs": [],
   "source": [
    "events_by_city.loc['Intro to HTML & CSS'].sort_values(ascending=False)"
   ]
  },
  {
   "cell_type": "markdown",
   "id": "37a742b1",
   "metadata": {},
   "source": [
    "Here's another view of the data&mdash;a pivot table of number of participants per month, per city:"
   ]
  }
 ],
 "metadata": {},
 "nbformat": 4,
 "nbformat_minor": 5
}
