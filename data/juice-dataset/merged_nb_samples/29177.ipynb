{
 "cells": [
  {
   "cell_type": "code",
   "execution_count": null,
   "id": "1c07d663",
   "metadata": {},
   "outputs": [],
   "source": [
    "import __init__\n",
    "\n",
    "import pandas as pd\n",
    "\n",
    "import cpLib.conceptDB as db\n",
    "import cpLib.conceptExtraction as cpe\n",
    "\n",
    "import matplotlib.pyplot as plt\n",
    "from pylab import rcParams\n",
    "%matplotlib inline"
   ]
  },
  {
   "cell_type": "markdown",
   "id": "1cb0cd9a",
   "metadata": {},
   "source": [
    "In this notebook, we'll study the relation between dimensions and the semantic field of concepts.\n",
    "\n",
    "To do so, we'll study for a __domain specific corpus__ the __repartition of dimensions__."
   ]
  },
  {
   "cell_type": "markdown",
   "id": "b18abb80",
   "metadata": {},
   "source": [
    "# Workflow"
   ]
  },
  {
   "cell_type": "markdown",
   "id": "f3527891",
   "metadata": {},
   "source": [
    "## build domain"
   ]
  },
  {
   "cell_type": "code",
   "execution_count": null,
   "id": "91911fd2",
   "metadata": {},
   "outputs": [],
   "source": [
    "domainWordList = [open('../../data/domain/luu_animal.txt').read().splitlines(),\n",
    "                  open('../../data/domain/luu_plant.txt').read().splitlines(),\n",
    "                  open('../../data/domain/luu_vehicle.txt').read().splitlines()]\n",
    "\n",
    "def buildCptDf(d, domain, polar=False):\n",
    "    cptList = cpe.buildConceptList(d, domain, True)\n",
    "    if polar:\n",
    "        return pd.DataFrame([c.vect[1:] for c in cptList], index = [c.word for c in cptList])\n",
    "    else:\n",
    "        return pd.DataFrame([c.vect for c in cptList], index = [c.word for c in cptList])\n",
    "\n",
    "cptDf = buildCptDf(db.DB('../../data/voc/npy/text8_polar.npy'), domainWordList[0], polar=True)\n",
    "cptDf[:5]"
   ]
  },
  {
   "cell_type": "markdown",
   "id": "0b57bb4e",
   "metadata": {},
   "source": [
    "## Std study\n",
    "\n",
    "We plot here:\n",
    "* the std for each dimension\n",
    "* the std of std for all dimension"
   ]
  },
  {
   "cell_type": "code",
   "execution_count": null,
   "id": "719ab936",
   "metadata": {},
   "outputs": [],
   "source": [
    "def stdDim(cptDf):\n",
    "    stdSerie = []\n",
    "    for dim in cptDf.columns:\n",
    "        dimensionSerie = cptDf[dim]\n",
    "        stdSerie.append(dimensionSerie.std())\n",
    "\n",
    "        dimensionSerie.plot(kind='kde')\n",
    "\n",
    "    plt.show()\n",
    "\n",
    "    stdSerie = pd.Series(stdSerie)\n",
    "    stdSerie.plot(kind='kde')\n",
    "    return stdSerie.describe()\n",
    "\n",
    "stdDim(cptDf)"
   ]
  },
  {
   "cell_type": "markdown",
   "id": "30e84105",
   "metadata": {},
   "source": [
    "# Domain selection\n",
    "\n",
    "We run here the experiment for animal but you can actually run it on any domain specific corpus"
   ]
  },
  {
   "cell_type": "code",
   "execution_count": null,
   "id": "105050e5",
   "metadata": {},
   "outputs": [],
   "source": [
    "domain = domainWordList[0]"
   ]
  },
  {
   "cell_type": "markdown",
   "id": "34458ace",
   "metadata": {},
   "source": [
    "## Text8 corpus - Carthesian"
   ]
  },
  {
   "cell_type": "code",
   "execution_count": null,
   "id": "03e913ec",
   "metadata": {},
   "outputs": [],
   "source": [
    "cptDf = buildCptDf(db.DB('../../data/voc/npy/text8.npy'), domain, polar=False)\n",
    "stdDim(cptDf)"
   ]
  },
  {
   "cell_type": "markdown",
   "id": "62eb9a5e",
   "metadata": {},
   "source": [
    "## Text8 corpus - Polar"
   ]
  },
  {
   "cell_type": "code",
   "execution_count": null,
   "id": "1c691060",
   "metadata": {},
   "outputs": [],
   "source": [
    "cptDf = buildCptDf(db.DB('../../data/voc/npy/text8_polar.npy'), domain, polar=True)\n",
    "stdDim(cptDf)"
   ]
  },
  {
   "cell_type": "markdown",
   "id": "236955f6",
   "metadata": {},
   "source": [
    "## Wikipedia corpus - Carthesian"
   ]
  },
  {
   "cell_type": "code",
   "execution_count": null,
   "id": "d051c583",
   "metadata": {},
   "outputs": [],
   "source": [
    "cptDf = buildCptDf(db.DB('../../data/voc/npy/wikiEn-skipgram.npy'), domain, polar=False)\n",
    "stdDim(cptDf)"
   ]
  },
  {
   "cell_type": "markdown",
   "id": "e9869e13",
   "metadata": {},
   "source": [
    "## Wikipedia corpus - Polar"
   ]
  }
 ],
 "metadata": {},
 "nbformat": 4,
 "nbformat_minor": 5
}
