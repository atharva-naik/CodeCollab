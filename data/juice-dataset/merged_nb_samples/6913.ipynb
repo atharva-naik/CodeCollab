{
 "cells": [
  {
   "cell_type": "code",
   "execution_count": null,
   "id": "bdc29731",
   "metadata": {},
   "outputs": [],
   "source": [
    "#loading necessary libraries\n",
    "from sklearn.preprocessing import LabelEncoder\n",
    "from sklearn.ensemble import RandomForestClassifier\n",
    "from sklearn.linear_model import LogisticRegression\n",
    "from sklearn.cross_validation import cross_val_score, cross_val_predict\n",
    "import pandas as pd\n",
    "import numpy as np\n",
    "from sklearn import preprocessing\n",
    "from sklearn.metrics import roc_curve, auc\n",
    "import pandas as pd\n",
    "from sklearn import ensemble\n",
    "import random\n",
    "import xgboost as xgb\n",
    "from scipy.stats import rankdata\n",
    "\n"
   ]
  },
  {
   "cell_type": "code",
   "execution_count": null,
   "id": "68711bc9",
   "metadata": {},
   "outputs": [],
   "source": [
    "#importing the datasets\n",
    "train = pd.read_csv(\"train_1.csv\")\n",
    "test = pd.read_csv(\"test_1.csv\")\n",
    "submission = pd.read_csv(\"Sample_Solution_Yrq0zGh.csv\")\n",
    "print \"Train dataset dimensions:\", train.shape\n",
    "print \"Test dataset dimensions:\", test.shape"
   ]
  },
  {
   "cell_type": "code",
   "execution_count": null,
   "id": "c995c849",
   "metadata": {},
   "outputs": [],
   "source": [
    "#making copies\n",
    "train_1 = train.copy()\n",
    "test_1 = test.copy()"
   ]
  },
  {
   "cell_type": "code",
   "execution_count": null,
   "id": "a83fffd7",
   "metadata": {},
   "outputs": [],
   "source": [
    "train.head()"
   ]
  },
  {
   "cell_type": "code",
   "execution_count": null,
   "id": "79d63f32",
   "metadata": {},
   "outputs": [],
   "source": [
    "train_1.dtypes,test_1.dtypes"
   ]
  },
  {
   "cell_type": "markdown",
   "id": "d0caf985",
   "metadata": {},
   "source": [
    "## Train Data Manipulation"
   ]
  },
  {
   "cell_type": "code",
   "execution_count": null,
   "id": "e2179d73",
   "metadata": {},
   "outputs": [],
   "source": [
    "label = train_1['Approved']\n",
    "\n",
    "dropCols = ['Approved']\n",
    "train_1.drop(dropCols, axis=1, inplace = True)"
   ]
  },
  {
   "cell_type": "code",
   "execution_count": null,
   "id": "11a9e77f",
   "metadata": {},
   "outputs": [],
   "source": [
    "le = LabelEncoder()\n",
    "train_1['City_encoded'] = le.fit_transform(train_1['City_Code'])"
   ]
  },
  {
   "cell_type": "code",
   "execution_count": null,
   "id": "3676a3f1",
   "metadata": {},
   "outputs": [],
   "source": [
    "y_train = label\n",
    "X_train = pd.get_dummies(train_1)"
   ]
  },
  {
   "cell_type": "code",
   "execution_count": null,
   "id": "d8706e51",
   "metadata": {},
   "outputs": [],
   "source": [
    "X_train.dtypes"
   ]
  },
  {
   "cell_type": "markdown",
   "id": "57795bb2",
   "metadata": {},
   "source": [
    "## Test Data Manipulation"
   ]
  },
  {
   "cell_type": "code",
   "execution_count": null,
   "id": "59bd93c4",
   "metadata": {},
   "outputs": [],
   "source": [
    "test_1.dtypes"
   ]
  },
  {
   "cell_type": "code",
   "execution_count": null,
   "id": "d751198c",
   "metadata": {},
   "outputs": [],
   "source": [
    "test_1['ID'].to_csv(\"test_ids.csv\", index = False)"
   ]
  },
  {
   "cell_type": "code",
   "execution_count": null,
   "id": "8ff1c1c9",
   "metadata": {},
   "outputs": [],
   "source": [
    "dropCols = ['ID']\n",
    "test_1.drop(dropCols, axis=1, inplace = True)"
   ]
  },
  {
   "cell_type": "code",
   "execution_count": null,
   "id": "f3e4894c",
   "metadata": {},
   "outputs": [],
   "source": [
    "test_1['City_encoded'] = le.fit_transform(test_1['City_Code'])"
   ]
  },
  {
   "cell_type": "code",
   "execution_count": null,
   "id": "b475260b",
   "metadata": {},
   "outputs": [],
   "source": [
    "X_test = pd.get_dummies(test_1)\n",
    "missingCols = list(set(X_train.columns)-set(X_test.columns))\n",
    "for col in missingCols:\n",
    "    X_test[col] = 0\n",
    "X_test = X_test[X_train.columns]\n",
    "assert X_train.columns.equals(X_test.columns)"
   ]
  },
  {
   "cell_type": "code",
   "execution_count": null,
   "id": "a956f140",
   "metadata": {},
   "outputs": [],
   "source": [
    "X_test.dtypes"
   ]
  },
  {
   "cell_type": "markdown",
   "id": "82133ed6",
   "metadata": {},
   "source": [
    "# Model Building"
   ]
  },
  {
   "cell_type": "code",
   "execution_count": null,
   "id": "0038825f",
   "metadata": {},
   "outputs": [],
   "source": [
    "test_ids = pd.read_csv(\"test_ids.csv\", header = None)\n",
    "test_ids = list(test_ids.iloc[:,0])"
   ]
  },
  {
   "cell_type": "markdown",
   "id": "71042348",
   "metadata": {},
   "source": [
    "## XGBoost"
   ]
  },
  {
   "cell_type": "markdown",
   "id": "466416c6",
   "metadata": {},
   "source": [
    "#### XGB1"
   ]
  },
  {
   "cell_type": "code",
   "execution_count": null,
   "id": "5910e619",
   "metadata": {},
   "outputs": [],
   "source": [
    "params = {'booster':'gbtree', 'objective':'binary:logistic', 'max_depth':9, 'eval_metric':'auc',\n",
    "          'eta':0.01, 'silent':1, 'nthread':4, 'subsample': 0.9, 'colsample_bytree':0.9, 'scale_pos_weight': 1,\n",
    "          'min_child_weight':3, 'max_delta_step':3}\n",
    "num_rounds = 800\n",
    "\n",
    "params['seed'] = 1234 \n",
    "dtrain = xgb.DMatrix(X_train, y_train, missing=np.nan)\n",
    "#xgb.cv(params, dtrain, num_rounds, nfold=4)\n",
    "#exit()\n",
    "\n",
    "clf = xgb.train(params, dtrain, num_rounds)\n",
    "dtest = xgb.DMatrix(X_test, missing = np.nan)\n",
    "test_preds_xgb = clf.predict(dtest)\n",
    "\n",
    "submission = pd.DataFrame({ 'ID':test_ids, 'Approved':test_preds_xgb})\n",
    "submission = submission[['ID', 'Approved']]\n",
    "submission.to_csv(\"submissions/xgb_2_1.csv\", index = False)"
   ]
  },
  {
   "cell_type": "markdown",
   "id": "9102effd",
   "metadata": {},
   "source": [
    "#### XGB2.2"
   ]
  },
  {
   "cell_type": "code",
   "execution_count": null,
   "id": "d0207885",
   "metadata": {},
   "outputs": [],
   "source": [
    "params = {'booster':'gbtree', 'objective':'binary:logistic', 'max_depth':9, 'eval_metric':'auc',\n",
    "          'eta':0.01, 'silent':1, 'nthread':4, 'subsample': 0.9, 'colsample_bytree':0.9, 'scale_pos_weight': 1,\n",
    "          'min_child_weight':3, 'max_delta_step':3}\n",
    "num_rounds = 800\n",
    "\n",
    "params['seed'] = 12345 \n",
    "dtrain = xgb.DMatrix(X_train, y_train, missing=np.nan)\n",
    "#xgb.cv(params, dtrain, num_rounds, nfold=4)\n",
    "#exit()\n",
    "\n",
    "clf = xgb.train(params, dtrain, num_rounds)\n",
    "dtest = xgb.DMatrix(X_test, missing = np.nan)\n",
    "test_preds_xgb = clf.predict(dtest)\n",
    "\n",
    "submission = pd.DataFrame({ 'ID':test_ids, 'Approved':test_preds_xgb})\n",
    "submission = submission[['ID', 'Approved']]\n",
    "submission.to_csv(\"submissions/xgb_2_2.csv\", index = False)\n"
   ]
  },
  {
   "cell_type": "markdown",
   "id": "31469515",
   "metadata": {},
   "source": [
    "#### XGB2.3"
   ]
  },
  {
   "cell_type": "code",
   "execution_count": null,
   "id": "1af2dd66",
   "metadata": {},
   "outputs": [],
   "source": [
    "params = {'booster':'gbtree', 'objective':'binary:logistic', 'max_depth':9, 'eval_metric':'auc',\n",
    "          'eta':0.01, 'silent':1, 'nthread':4, 'subsample': 0.9, 'colsample_bytree':0.9, 'scale_pos_weight': 1,\n",
    "          'min_child_weight':3, 'max_delta_step':3}\n",
    "num_rounds = 800\n",
    "\n",
    "params['seed'] = 123456 \n",
    "dtrain = xgb.DMatrix(X_train, y_train, missing=np.nan)\n",
    "#xgb.cv(params, dtrain, num_rounds, nfold=4)\n",
    "#exit()\n",
    "\n",
    "clf = xgb.train(params, dtrain, num_rounds)\n",
    "dtest = xgb.DMatrix(X_test, missing = np.nan)\n",
    "test_preds_xgb = clf.predict(dtest)\n",
    "\n",
    "submission = pd.DataFrame({ 'ID':test_ids, 'Approved':test_preds_xgb})\n",
    "submission = submission[['ID', 'Approved']]\n",
    "submission.to_csv(\"submissions/xgb_2_3.csv\", index = False)"
   ]
  },
  {
   "cell_type": "markdown",
   "id": "5963c973",
   "metadata": {},
   "source": [
    "#### XGB2.4"
   ]
  },
  {
   "cell_type": "code",
   "execution_count": null,
   "id": "e6a8cbf1",
   "metadata": {},
   "outputs": [],
   "source": [
    "params = {'booster':'gbtree', 'objective':'binary:logistic', 'max_depth':9, 'eval_metric':'auc',\n",
    "          'eta':0.01, 'silent':1, 'nthread':4, 'subsample': 0.9, 'colsample_bytree':0.9, 'scale_pos_weight': 1,\n",
    "          'min_child_weight':3, 'max_delta_step':3}\n",
    "num_rounds = 800\n",
    "\n",
    "params['seed'] = 1234567\n",
    "dtrain = xgb.DMatrix(X_train, y_train, missing=np.nan)\n",
    "#xgb.cv(params, dtrain, num_rounds, nfold=4)\n",
    "#exit()\n",
    "\n",
    "clf = xgb.train(params, dtrain, num_rounds)\n",
    "dtest = xgb.DMatrix(X_test, missing = np.nan)\n",
    "test_preds_xgb = clf.predict(dtest)\n",
    "\n",
    "submission = pd.DataFrame({ 'ID':test_ids, 'Approved':test_preds_xgb})\n",
    "submission = submission[['ID', 'Approved']]\n",
    "submission.to_csv(\"submissions/xgb_2_4.csv\", index = False)"
   ]
  },
  {
   "cell_type": "markdown",
   "id": "406764cc",
   "metadata": {},
   "source": [
    "#### RandomForest"
   ]
  },
  {
   "cell_type": "code",
   "execution_count": null,
   "id": "2beead23",
   "metadata": {},
   "outputs": [],
   "source": [
    "y_train = label\n",
    "X_train = pd.get_dummies(train_1)\n",
    "\n",
    "\n",
    "X_test = pd.get_dummies(test_1)\n",
    "missingCols = list(set(X_train.columns)-set(X_test.columns))\n",
    "for col in missingCols:\n",
    "    X_test[col] = 0\n",
    "X_test = X_test[X_train.columns]\n",
    "assert X_train.columns.equals(X_test.columns)\n",
    "\n",
    "# # Modeling\n",
    "X_train_2 = X_train.fillna(-999)\n",
    "X_test_2 = X_test.fillna(-999)\n",
    "\n"
   ]
  },
  {
   "cell_type": "code",
   "execution_count": null,
   "id": "cd5388e5",
   "metadata": {},
   "outputs": [],
   "source": [
    "# from sklearn.cross_validation import KFold\n",
    "# kf = KFold(len(X_train_2), n_folds=4)\n",
    "# scores = cross_val_score(clf, X_train_2, y_train, scoring='roc_auc', cv=kf)\n",
    "seeds = [123,1234,5245326,6536,75]\n",
    "numbers = [1,2,3,4,5]\n",
    "\n",
    "for i in range(5): \n",
    "    clf = RandomForestClassifier(n_estimators=360, max_depth=9, criterion = 'entropy', min_samples_split=2, bootstrap = False, n_jobs=-1, random_state=seeds[i])\n",
    "    clf.fit(X_train_2, y_train)\n",
    "    test_preds = clf.predict_proba(X_test_2)[:,1]\n",
    "    print(\"RF %s done\" % i)\n",
    "\n",
    "    submission = pd.DataFrame({'ID':test['ID'], 'Approved':test_preds})\n",
    "    submission = submission[['ID', 'Approved']]\n",
    "    submission.to_csv(\"submissions/rf_%s.csv\" % str(numbers[i]), index = False)"
   ]
  },
  {
   "cell_type": "markdown",
   "id": "4b6ebb43",
   "metadata": {},
   "source": [
    "## Post Model Building"
   ]
  }
 ],
 "metadata": {},
 "nbformat": 4,
 "nbformat_minor": 5
}
