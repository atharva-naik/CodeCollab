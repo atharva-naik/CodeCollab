{
 "cells": [
  {
   "cell_type": "markdown",
   "id": "bbb4da05",
   "metadata": {},
   "source": [
    "# Image Inpainting"
   ]
  },
  {
   "cell_type": "markdown",
   "id": "9cda26da",
   "metadata": {},
   "source": [
    "### Description"
   ]
  },
  {
   "cell_type": "markdown",
   "id": "beee6c31",
   "metadata": {},
   "source": [
    "We'll first explore a fun application: painting an image. This network is just meant to demonstrate how the simple networks can be scaled to more complicated tasks without much modification.\n",
    "\n",
    "Let's first get an image that we'll try to teach a neural network to paint."
   ]
  }
 ],
 "metadata": {},
 "nbformat": 4,
 "nbformat_minor": 5
}
