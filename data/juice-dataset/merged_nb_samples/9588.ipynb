{
 "cells": [
  {
   "cell_type": "markdown",
   "id": "7e388351",
   "metadata": {},
   "source": [
    "# Analysing a dataset\n",
    "\n",
    "This project is about analyzing data on movie review scores. "
   ]
  },
  {
   "cell_type": "markdown",
   "id": "43815d96",
   "metadata": {},
   "source": [
    "The dataset is stored in the *fandango_score_comparison.csv* file. It contains information on how major movie review services rated movies. The data originally came from FiveThirtyEight."
   ]
  },
  {
   "cell_type": "code",
   "execution_count": null,
   "id": "8d3e6dbb",
   "metadata": {},
   "outputs": [],
   "source": [
    "import pandas as pd\n",
    "import matplotlib.pyplot as plt\n",
    "import numpy\n",
    "import scipy.stats as stats\n",
    "%matplotlib inline\n",
    "\n",
    "movies = pd.read_csv('data/fandango_score_comparison.csv')\n",
    "movies.head(3)\n"
   ]
  },
  {
   "cell_type": "markdown",
   "id": "ebc1b956",
   "metadata": {},
   "source": [
    "Each row represents a single movie. Each column contains information about how the online moview review services RottenTomatoes, Metacritic, IMDB, and Fandango rated the movie.\n",
    "\n",
    "To make it easier to compare scores across services, the columns were normalized so their scale and rounding matched the Fandango ratings. Any column with the suffix _norm is the corresponding column changed to a 0-5 scale. \n",
    "\n",
    "Let us focus on the Metacritic_norm_round and the Fandango_Stars columns, which will let us see how Fandango and Metacritic differ in terms of review scores.\n",
    "\n"
   ]
  },
  {
   "cell_type": "code",
   "execution_count": null,
   "id": "492f7ddf",
   "metadata": {},
   "outputs": [],
   "source": [
    "movies.hist(column = 'Metacritic_norm_round')"
   ]
  },
  {
   "cell_type": "code",
   "execution_count": null,
   "id": "19b97c45",
   "metadata": {},
   "outputs": [],
   "source": [
    "movies.hist(column = 'Fandango_Stars')"
   ]
  },
  {
   "cell_type": "markdown",
   "id": "bf843262",
   "metadata": {},
   "source": [
    "The scores in Metacritic spread over a larger range (from 0.5 up to 4.5) than the scores from Fandango Stars which start from 3.0 to 5.0. Low scores do not exist in Fandango Stars.\n",
    "To compare the highest frequency score, we can see that in Metacritic, it is 3 which is lower than Fandango's which is 4.5."
   ]
  },
  {
   "cell_type": "markdown",
   "id": "00717854",
   "metadata": {},
   "source": [
    "## Quantifying these differences with metrics \n",
    "\n",
    "Metrics include the mean, median and standard deviation."
   ]
  },
  {
   "cell_type": "code",
   "execution_count": null,
   "id": "c74b2454",
   "metadata": {},
   "outputs": [],
   "source": [
    "mean_Meta = movies['Metacritic_norm_round'].mean()\n",
    "mean_Fandango = movies['Fandango_Stars'].mean()\n",
    "print('Mean of Metacritics scores', mean_Meta)\n",
    "print('Mean of Fandango scores', mean_Fandango)\n"
   ]
  },
  {
   "cell_type": "code",
   "execution_count": null,
   "id": "89861fe0",
   "metadata": {},
   "outputs": [],
   "source": [
    "median_Meta = movies['Metacritic_norm_round'].median()\n",
    "median_Fandango = movies['Fandango_Stars'].median()\n",
    "print('Median of Metacritic scores', median_Meta)\n",
    "print('Median of Fandango scores', median_Fandango)"
   ]
  },
  {
   "cell_type": "markdown",
   "id": "fd872358",
   "metadata": {},
   "source": [
    "The median metacritic score appears higher than the mean metacritic score because a few very low reviews \"drag down\" the mean. \n",
    "\n",
    "The median fandango score is lower than the mean fandango score because a few very high ratings \"drag up\" the mean."
   ]
  },
  {
   "cell_type": "code",
   "execution_count": null,
   "id": "41f39878",
   "metadata": {},
   "outputs": [],
   "source": [
    "std_Meta = movies['Metacritic_norm_round'].std()\n",
    "std_Fandango = movies['Fandango_Stars'].std()\n",
    "print('Standard deviation of Metacritics', std_Meta)\n",
    "print('Standard deviation of Fandango', std_Fandango)"
   ]
  },
  {
   "cell_type": "markdown",
   "id": "da38a24f",
   "metadata": {},
   "source": [
    "The standard deviation (for a sample or population) is an indicator of how \"near/dense\" the data are relative to the mean. A small standard deviation indicates that the data are near the mean, large standard deviation indicates that the data are more dispersed."
   ]
  },
  {
   "cell_type": "markdown",
   "id": "cfdaa45f",
   "metadata": {},
   "source": [
    "Fandango ratings appear clustered between 3 and 5, and have a much narrower standard deviation than Metacritic reviews, which go from 0 to 5. The data are more dispersed in Metacritics."
   ]
  },
  {
   "cell_type": "markdown",
   "id": "c7add139",
   "metadata": {},
   "source": [
    "Fandango ratings in general appear to be higher than metacritic ratings.\n",
    "These may be due to movie studio influence on Fandango ratings, and the fact that Fandango calculates its ratings in a hidden way."
   ]
  },
  {
   "cell_type": "markdown",
   "id": "e076d02d",
   "metadata": {},
   "source": [
    "## Findind which movies tend to be the largest outliers."
   ]
  },
  {
   "cell_type": "code",
   "execution_count": null,
   "id": "8823c24b",
   "metadata": {},
   "outputs": [],
   "source": [
    "movies.plot.scatter(x='Metacritic_norm_round', y='Fandango_Stars')"
   ]
  },
  {
   "cell_type": "markdown",
   "id": "68dae72a",
   "metadata": {},
   "source": [
    "Several movies appear to have low ratings in Metacritic and high ratings in Fandango, or vice versa. \n",
    "E.g., the movie rated with the lowest score in Metacritic, i.e. 0.5, is rated 3.5 in Fandango...\n",
    "\n",
    "* Let us explore this further, finding the differences between the columns."
   ]
  },
  {
   "cell_type": "code",
   "execution_count": null,
   "id": "5c7fdc5f",
   "metadata": {},
   "outputs": [],
   "source": [
    "fm_diff = movies['Metacritic_norm_round'] - movies['Fandango_Stars']\n",
    "movies['fm_diff'] = numpy.abs(fm_diff)"
   ]
  },
  {
   "cell_type": "markdown",
   "id": "2fe2b2c2",
   "metadata": {},
   "source": [
    "Getting the absolute value will ensure that we look at any extreme case where Metacritic_norm_round is much greater or much lower than Fandango_Stars."
   ]
  },
  {
   "cell_type": "markdown",
   "id": "4e2215d4",
   "metadata": {},
   "source": [
    "* Let us sort movies based on the fm_diff column, in descending order"
   ]
  },
  {
   "cell_type": "code",
   "execution_count": null,
   "id": "d5c94cbe",
   "metadata": {},
   "outputs": [],
   "source": [
    "movies = movies.sort_values(by='fm_diff', ascending=False)"
   ]
  },
  {
   "cell_type": "markdown",
   "id": "9d528afe",
   "metadata": {},
   "source": [
    "* Let us Print out the top 5 movies with the biggest differences"
   ]
  },
  {
   "cell_type": "code",
   "execution_count": null,
   "id": "cd229f1a",
   "metadata": {},
   "outputs": [],
   "source": [
    "movies[['FILM', 'Fandango_Stars', 'Metacritic_norm_round', 'fm_diff']].head(5)"
   ]
  },
  {
   "cell_type": "markdown",
   "id": "aae53c1c",
   "metadata": {},
   "source": [
    "## Measuring the correlation between Fandango_Stars and Metacritic_norm_round "
   ]
  },
  {
   "cell_type": "markdown",
   "id": "9a39cb74",
   "metadata": {},
   "source": [
    "Let us see what the correlation coefficient between Fandango_Stars and Metacritic_norm_round is. This will help to determine if Fandango consistently has higher scores than Metacritic, or if only a few movies were assigned higher ratings.\n",
    "\n"
   ]
  },
  {
   "cell_type": "code",
   "execution_count": null,
   "id": "b46d5afe",
   "metadata": {},
   "outputs": [],
   "source": [
    "r, p = stats.pearsonr(movies['Fandango_Stars'], movies['Metacritic_norm_round'])\n",
    "print(r)"
   ]
  },
  {
   "cell_type": "markdown",
   "id": "b568f90f",
   "metadata": {},
   "source": [
    "The low correlation between Fandango and Metacritic scores indicates that Fandango scores aren't just inflated, they are fundamentally different. For whatever reason, it appears like Fandango both inflates scores overall, and inflates scores differently depending on the movie."
   ]
  },
  {
   "cell_type": "code",
   "execution_count": null,
   "id": "47eb752d",
   "metadata": {},
   "outputs": [],
   "source": [
    "slope, intercept, r_value, p_value, stderr_slope = stats.linregress(movies[\"Metacritic_norm_round\"], movies[\"Fandango_Stars\"])"
   ]
  },
  {
   "cell_type": "markdown",
   "id": "966548ee",
   "metadata": {},
   "source": [
    "## Creating a linear regression\n",
    "\n",
    "Using the scipy.stats.linregress function, we can create a linear regression with Metacritic_norm_round as the x-values and Fandango_Stars as the y-values."
   ]
  },
  {
   "cell_type": "markdown",
   "id": "2ba7a927",
   "metadata": {},
   "source": [
    "Let us predict what a movie that got a 3.0 in Metacritic would get on Fandango using the formula pred_3 = slope * 3 + intercept"
   ]
  },
  {
   "cell_type": "code",
   "execution_count": null,
   "id": "29dc037e",
   "metadata": {},
   "outputs": [],
   "source": [
    "pred_3 = slope * 3 + intercept\n",
    "pred_3"
   ]
  },
  {
   "cell_type": "markdown",
   "id": "cdcec8b0",
   "metadata": {},
   "source": [
    "Let us draw the linear regression on our scatter plot:"
   ]
  },
  {
   "cell_type": "code",
   "execution_count": null,
   "id": "3c425273",
   "metadata": {},
   "outputs": [],
   "source": [
    "pred_1 = 1 * slope + intercept\n",
    "pred_5 = 5 * slope + intercept\n",
    "#plt.scatter(movies[\"Metacritic_norm_round\"], movies[\"Fandango_Stars\"])\n",
    "#plt.plot([1,5],[pred_1,pred_5])\n",
    "#plt.xlim(1,5)\n",
    "#plt.show()\n",
    "\n",
    "ax = movies.plot.scatter(x='Metacritic_norm_round', y='Fandango_Stars')\n",
    "ax.plot([1,5],[pred_1,pred_5])\n",
    "ax.set_xlim([1,5])"
   ]
  },
  {
   "cell_type": "markdown",
   "id": "91ff17ff",
   "metadata": {},
   "source": [
    "> Since our correlation coefficient is low, we can see from the graph that predicting Fandango scores from Metacritic scores using linear regression is **not relevant**."
   ]
  },
  {
   "cell_type": "markdown",
   "id": "b19cf123",
   "metadata": {},
   "source": [
    "## Plotting using Seaborn: Comparing IMDB scores and Metacritic scores:"
   ]
  },
  {
   "cell_type": "code",
   "execution_count": null,
   "id": "da89ff29",
   "metadata": {},
   "outputs": [],
   "source": [
    "import seaborn as sns\n",
    "sns.regplot(x='Metacritic_norm_round', y='IMDB_norm_round', data=movies);"
   ]
  },
  {
   "cell_type": "markdown",
   "id": "05e03df7",
   "metadata": {},
   "source": [
    "In the simplest invocation, both functions draw a scatterplot of two variables, x and y, and then fit the regression model and plot the resulting regression line and a 95% confidence interval for that regression."
   ]
  },
  {
   "cell_type": "markdown",
   "id": "218e603f",
   "metadata": {},
   "source": [
    "A few other seaborn functions use regplot() in the context of a larger, more complex plot including the jointplot() function. In addition to the plot styles, jointplot() can use regplot() to show the linear regression fit on the joint axes by passing kind=\"reg\" as "
   ]
  }
 ],
 "metadata": {},
 "nbformat": 4,
 "nbformat_minor": 5
}
