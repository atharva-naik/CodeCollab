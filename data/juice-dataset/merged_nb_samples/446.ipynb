{
 "cells": [
  {
   "cell_type": "markdown",
   "id": "1121afb1",
   "metadata": {},
   "source": [
    "# Intro to Data Manipulation and Pandas\n",
    "**Dan Tamayo**\n",
    "\n",
    "*Material draws from a [blog](http://www.ultravioletanalytics.com/2014/10/30/kaggle-titanic-competition-part-i-intro/) working through the Titanic dataset by Dave Novelli, as well as the [Pandas Cookbook](http://pandas.pydata.org/pandas-docs/stable/tutorials.html) by Julia Evans*\n"
   ]
  },
  {
   "cell_type": "markdown",
   "id": "fc13163e",
   "metadata": {},
   "source": [
    "# Follow Along\n",
    "\n",
    "In a terminal, navigate to the directory where you want to add the MachineLearning folder.  Then\n",
    "\n",
    "    cd /path/to/MachineLearning\n",
    "    git pull\n",
    "    cd Day2\n",
    "    source activate ml\n",
    "    jupyter notebook TitanicPandas.ipynb"
   ]
  },
  {
   "cell_type": "markdown",
   "id": "aa670283",
   "metadata": {},
   "source": [
    "# Loading a Dataset"
   ]
  },
  {
   "cell_type": "markdown",
   "id": "e90bcdb8",
   "metadata": {},
   "source": [
    "Wrong way:"
   ]
  },
  {
   "cell_type": "code",
   "execution_count": null,
   "id": "226291a6",
   "metadata": {},
   "outputs": [],
   "source": [
    "import numpy as np\n",
    "df[df['Cabin']!=np.nan]"
   ]
  },
  {
   "cell_type": "markdown",
   "id": "fdf500af",
   "metadata": {},
   "source": [
    "Right Way:"
   ]
  },
  {
   "cell_type": "code",
   "execution_count": null,
   "id": "fc9fdc64",
   "metadata": {},
   "outputs": [],
   "source": [
    "df.loc[df['Cabin'].notnull()]"
   ]
  },
  {
   "cell_type": "markdown",
   "id": "952fe61d",
   "metadata": {},
   "source": [
    "# Approach 1:  Throw out any rows with missing data values"
   ]
  },
  {
   "cell_type": "code",
   "execution_count": null,
   "id": "8e167332",
   "metadata": {},
   "outputs": [],
   "source": [
    "df.notnull().head()"
   ]
  },
  {
   "cell_type": "code",
   "execution_count": null,
   "id": "88230c5e",
   "metadata": {},
   "outputs": [],
   "source": [
    "df_filter = df.loc[df.notnull().all(axis=1)]"
   ]
  },
  {
   "cell_type": "markdown",
   "id": "5d1604e7",
   "metadata": {},
   "source": [
    "# How much data is left?"
   ]
  },
  {
   "cell_type": "code",
   "execution_count": null,
   "id": "48eb99cf",
   "metadata": {},
   "outputs": [],
   "source": [
    "df_filter.shape"
   ]
  },
  {
   "cell_type": "markdown",
   "id": "6d692420",
   "metadata": {},
   "source": [
    "# Approach 2:  Assign missing identifier"
   ]
  },
  {
   "cell_type": "code",
   "execution_count": null,
   "id": "11f0d25f",
   "metadata": {},
   "outputs": [],
   "source": [
    "df.loc[df['Cabin'].isnull(), 'Cabin'] = 'U0'\n",
    "df.head()"
   ]
  },
  {
   "cell_type": "markdown",
   "id": "5afbf92c",
   "metadata": {},
   "source": [
    "# Approach 3: Assign the average/median/mode value"
   ]
  },
  {
   "cell_type": "markdown",
   "id": "0898a6f5",
   "metadata": {},
   "source": [
    "# Plotting"
   ]
  },
  {
   "cell_type": "code",
   "execution_count": null,
   "id": "1c04ae28",
   "metadata": {},
   "outputs": [],
   "source": [
    "%matplotlib inline\n",
    "import seaborn\n",
    "fig = df['Pclass'].hist()"
   ]
  },
  {
   "cell_type": "code",
   "execution_count": null,
   "id": "0d29bbcb",
   "metadata": {},
   "outputs": [],
   "source": [
    "fig = df.hist(figsize=(15,5))"
   ]
  },
  {
   "cell_type": "markdown",
   "id": "6213d1cb",
   "metadata": {},
   "source": [
    "# Filtering"
   ]
  },
  {
   "cell_type": "code",
   "execution_count": null,
   "id": "a8a54486",
   "metadata": {},
   "outputs": [],
   "source": [
    "df.head()"
   ]
  },
  {
   "cell_type": "markdown",
   "id": "ca2dae38",
   "metadata": {},
   "source": [
    "# Boolean Masks"
   ]
  },
  {
   "cell_type": "code",
   "execution_count": null,
   "id": "059f9a4f",
   "metadata": {},
   "outputs": [],
   "source": [
    "mask = df['Embarked'] == 'C'\n",
    "mask.head()"
   ]
  },
  {
   "cell_type": "markdown",
   "id": "ca134a3e",
   "metadata": {},
   "source": [
    "# Filtering Dataframes"
   ]
  },
  {
   "cell_type": "code",
   "execution_count": null,
   "id": "413f3118",
   "metadata": {},
   "outputs": [],
   "source": [
    "df_filter = df[mask] # df_filter = df[df['Embarked'] == 'C']\n",
    "df_filter.head()"
   ]
  },
  {
   "cell_type": "markdown",
   "id": "6d036226",
   "metadata": {},
   "source": [
    "# Memory Issues"
   ]
  },
  {
   "cell_type": "code",
   "execution_count": null,
   "id": "79bb28d8",
   "metadata": {},
   "outputs": [],
   "source": [
    "df_filter = df.loc[df['Embarked'] == 'C']\n",
    "df_filter.head()"
   ]
  },
  {
   "cell_type": "markdown",
   "id": "aa23c959",
   "metadata": {},
   "source": [
    "# Selecting specific columns\n",
    "\n",
    "df.loc[criterion, columns]"
   ]
  },
  {
   "cell_type": "markdown",
   "id": "4e371e0e",
   "metadata": {},
   "source": [
    "# Approach 1:  Creating Dummy (Binary) Variables"
   ]
  },
  {
   "cell_type": "code",
   "execution_count": null,
   "id": "4ddf767c",
   "metadata": {},
   "outputs": [],
   "source": [
    "print(df['Embarked'].unique())"
   ]
  },
  {
   "cell_type": "code",
   "execution_count": null,
   "id": "948b0b94",
   "metadata": {},
   "outputs": [],
   "source": [
    "dummies_df = pd.get_dummies(df['Embarked'])\n",
    "dummies_df.head()"
   ]
  },
  {
   "cell_type": "code",
   "execution_count": null,
   "id": "a9fb6b73",
   "metadata": {},
   "outputs": [],
   "source": [
    "def addEmbarked(name):\n",
    "    return 'Embarked_' + name\n",
    "dummies_df = dummies_df.rename(columns=addEmbarked)\n",
    "dummies_df.head()"
   ]
  },
  {
   "cell_type": "code",
   "execution_count": null,
   "id": "ea398592",
   "metadata": {},
   "outputs": [],
   "source": [
    "df = pd.concat([df, dummies_df], axis=1)\n",
    "df.head()"
   ]
  },
  {
   "cell_type": "markdown",
   "id": "3efc937d",
   "metadata": {},
   "source": [
    "# Approach 2: Factorizing (Make single multi-class feature)"
   ]
  },
  {
   "cell_type": "code",
   "execution_count": null,
   "id": "6dcdfd33",
   "metadata": {},
   "outputs": [],
   "source": [
    "df['EmbarkedNum'] = pd.factorize(df['Embarked'])[0]\n",
    "df.head(6)"
   ]
  },
  {
   "cell_type": "markdown",
   "id": "f2bcbf8f",
   "metadata": {},
   "source": [
    "# What are the classes?"
   ]
  },
  {
   "cell_type": "code",
   "execution_count": null,
   "id": "658ab971",
   "metadata": {},
   "outputs": [],
   "source": [
    "pd.factorize(df['Sex'])"
   ]
  },
  {
   "cell_type": "code",
   "execution_count": null,
   "id": "117e4446",
   "metadata": {},
   "outputs": [],
   "source": [
    "df['Female'] = pd.factorize(df['Sex'])[0]\n",
    "df.head()"
   ]
  },
  {
   "cell_type": "markdown",
   "id": "d10105ac",
   "metadata": {},
   "source": [
    "# Continuous Features: Feature Scaling\n",
    "\n",
    "![Training data](images/04_knn_dataset.png)"
   ]
  },
  {
   "cell_type": "markdown",
   "id": "3c71bdcd",
   "metadata": {},
   "source": [
    "# Requirements for working with data in scikit-learn\n",
    "\n",
    "1. Features should not have missing values\n",
    "2. Features and response should be numeric\n",
    "3. Features and response should be NumPy arrays\n",
    "4. Features and response are separate objects\n",
    "5. Features and response should have specific shapes"
   ]
  },
  {
   "cell_type": "markdown",
   "id": "0578c2ad",
   "metadata": {},
   "source": [
    "# Requirements for working with data in scikit-learn\n",
    "\n",
    "1. **Features should not have missing values**\n",
    "2. Features and response should be numeric\n",
    "3. Features and response should be NumPy arrays\n",
    "4. Features and response are separate objects\n",
    "5. Features and response should have specific shapes"
   ]
  },
  {
   "cell_type": "markdown",
   "id": "125f2a65",
   "metadata": {},
   "source": [
    "# How to Find Valid Values"
   ]
  },
  {
   "cell_type": "markdown",
   "id": "79271f31",
   "metadata": {},
   "source": [
    "# Indexing"
   ]
  },
  {
   "cell_type": "code",
   "execution_count": null,
   "id": "f79bc50d",
   "metadata": {},
   "outputs": [],
   "source": [
    "submit_df = pd.read_csv('data/test.csv', index_col=0)\n",
    "submit_df.head()"
   ]
  },
  {
   "cell_type": "code",
   "execution_count": null,
   "id": "f42dc6d7",
   "metadata": {},
   "outputs": [],
   "source": [
    "input_df = pd.read_csv('data/train.csv', index_col=0)\n",
    "submit_df = pd.read_csv('data/test.csv', index_col=0)\n",
    "df = pd.concat([input_df, submit_df])\n",
    "df.tail()"
   ]
  },
  {
   "cell_type": "code",
   "execution_count": null,
   "id": "037012e6",
   "metadata": {},
   "outputs": [],
   "source": [
    "print(df.shape[1], \"columns\")\n",
    "print(df.shape[0], \"rows\")\n",
    "print(df.columns.values)"
   ]
  },
  {
   "cell_type": "markdown",
   "id": "b2a55845",
   "metadata": {},
   "source": [
    "# Putting it all together"
   ]
  },
  {
   "cell_type": "code",
   "execution_count": null,
   "id": "be8baa44",
   "metadata": {},
   "outputs": [],
   "source": [
    "def process_data(df):\n",
    "    df['Female'] = pd.factorize(df['Sex'])[0]\n",
    "    df.loc[df['Age'].isnull(), 'Age'] = df['Age'].mean()\n",
    "    df.loc[df['Fare'].isnull(), 'Fare'] = df['Fare'].median()\n",
    "    df.loc[df['Cabin'].isnull(), 'Cabin'] = 'U0'\n",
    "    df.loc[df['Embarked'].isnull(), 'Embarked'] = df['Embarked'].dropna().mode()[0]\n",
    "    \n",
    "    dummies_df = pd.get_dummies(df['Embarked'])\n",
    "    def addEmbarked(name):\n",
    "        return 'Embarked_' + name\n",
    "    dummies_df = dummies_df.rename(columns=addEmbarked)\n",
    "    df = pd.concat([df, dummies_df], axis=1)\n",
    "    df['EmbarkedNum'] = pd.factorize(df['Embarked'])[0]\n",
    "    \n",
    "    return df"
   ]
  },
  {
   "cell_type": "code",
   "execution_count": null,
   "id": "d6f1f3b3",
   "metadata": {},
   "outputs": [],
   "source": [
    "df = process_data(df)\n",
    "df.tail()"
   ]
  },
  {
   "cell_type": "code",
   "execution_count": null,
   "id": "3d593a08",
   "metadata": {},
   "outputs": [],
   "source": [
    "features = ['Age', 'Fare', 'Parch', 'Pclass', 'SibSp', 'Female', 'EmbarkedNum']\n",
    "df_test = df.loc[df['Survived'].isnull(), features]\n",
    "df_train = df.loc[df['Survived'].notnull(), features+['Survived']]\n",
    "df_train.head()"
   ]
  },
  {
   "cell_type": "markdown",
   "id": "52f47438",
   "metadata": {},
   "source": [
    "# Requirements for working with data in scikit-learn\n",
    "\n",
    "1. Features should not have missing values\n",
    "2. Features and response should be numeric\n",
    "3. Features and response should be NumPy arrays\n",
    "4. **Features and response are separate objects**\n",
    "5. **Features and response should have specific shapes**"
   ]
  },
  {
   "cell_type": "code",
   "execution_count": null,
   "id": "d19f3d01",
   "metadata": {},
   "outputs": [],
   "source": [
    "X_train = df_train[features].values\n",
    "y_train = df_train['Survived'].values\n",
    "print(X_train[0:5])\n",
    "print(y_train[0:5])\n",
    "print(\"X has {0} rows\".format(X_train.shape[0]))\n",
    "print(\"y has {0} rows\".format(y_train.shape[0]))"
   ]
  },
  {
   "cell_type": "markdown",
   "id": "746fe0fb",
   "metadata": {},
   "source": [
    "# Feature Engineering"
   ]
  },
  {
   "cell_type": "markdown",
   "id": "fc06c166",
   "metadata": {},
   "source": [
    "# Parsing Alphanumeric Features"
   ]
  },
  {
   "cell_type": "code",
   "execution_count": null,
   "id": "d52d41ab",
   "metadata": {},
   "outputs": [],
   "source": [
    "test = df.loc[df['Age'] > 30., ['Age', 'Fare', 'Sex']]\n",
    "test.head()"
   ]
  },
  {
   "cell_type": "markdown",
   "id": "2db63e36",
   "metadata": {},
   "source": [
    "# Combining criteria / columns"
   ]
  },
  {
   "cell_type": "code",
   "execution_count": null,
   "id": "e56db4cd",
   "metadata": {},
   "outputs": [],
   "source": [
    "test = df.loc[(df['Age'] > 30.) & (df['Fare'] < 50.), 'Age':'Fare']\n",
    "test.head()"
   ]
  },
  {
   "cell_type": "code",
   "execution_count": null,
   "id": "e2285d90",
   "metadata": {},
   "outputs": [],
   "source": [
    "input_df = pd.read_csv('data/train.csv')\n",
    "submit_df = pd.read_csv('data/test.csv')\n",
    "\n",
    "print(input_df.shape)\n",
    "print(submit_df.shape)"
   ]
  },
  {
   "cell_type": "code",
   "execution_count": null,
   "id": "1c2e30e6",
   "metadata": {},
   "outputs": [],
   "source": [
    "submit_df.head()"
   ]
  },
  {
   "cell_type": "code",
   "execution_count": null,
   "id": "cf76f1de",
   "metadata": {},
   "outputs": [],
   "source": [
    "input_df.head()"
   ]
  },
  {
   "cell_type": "code",
   "execution_count": null,
   "id": "b8d9dd7a",
   "metadata": {},
   "outputs": [],
   "source": [
    "df[['Fare', 'Sex']].head()"
   ]
  },
  {
   "cell_type": "markdown",
   "id": "f6c7c78b",
   "metadata": {},
   "source": [
    "# Data at a glance"
   ]
  },
  {
   "cell_type": "code",
   "execution_count": null,
   "id": "42dce742",
   "metadata": {},
   "outputs": [],
   "source": [
    "df['Sex'].value_counts()"
   ]
  },
  {
   "cell_type": "code",
   "execution_count": null,
   "id": "d55b32de",
   "metadata": {},
   "outputs": [],
   "source": [
    "df['Age'].median()"
   ]
  },
  {
   "cell_type": "code",
   "execution_count": null,
   "id": "82859e3e",
   "metadata": {},
   "outputs": [],
   "source": [
    "df.loc[df['Fare'].isnull()].shape"
   ]
  },
  {
   "cell_type": "code",
   "execution_count": null,
   "id": "084934db",
   "metadata": {},
   "outputs": [],
   "source": [
    "df['Fare'].median()"
   ]
  },
  {
   "cell_type": "code",
   "execution_count": null,
   "id": "f702eb8e",
   "metadata": {},
   "outputs": [],
   "source": [
    "df.loc[df['Fare'].isnull(), 'Fare'] = df['Fare'].median()"
   ]
  },
  {
   "cell_type": "markdown",
   "id": "ac9bde6a",
   "metadata": {},
   "source": [
    "# Categorical Variables"
   ]
  },
  {
   "cell_type": "code",
   "execution_count": null,
   "id": "b20bea49",
   "metadata": {},
   "outputs": [],
   "source": [
    "df.loc[df['Embarked'].isnull()].shape"
   ]
  },
  {
   "cell_type": "code",
   "execution_count": null,
   "id": "19a8df65",
   "metadata": {},
   "outputs": [],
   "source": [
    "df['Embarked'].mode()"
   ]
  },
  {
   "cell_type": "code",
   "execution_count": null,
   "id": "c51ea171",
   "metadata": {},
   "outputs": [],
   "source": [
    "df['Embarked'].mode()[0]"
   ]
  },
  {
   "cell_type": "code",
   "execution_count": null,
   "id": "ec065a6a",
   "metadata": {},
   "outputs": [],
   "source": [
    "df.loc[df['Embarked'].isnull(), 'Embarked'] = df['Embarked'].dropna().mode()[0]"
   ]
  },
  {
   "cell_type": "markdown",
   "id": "f3202454",
   "metadata": {},
   "source": [
    "# Approach 4: Fit a regression model to predict missing values"
   ]
  },
  {
   "cell_type": "code",
   "execution_count": null,
   "id": "a02a9021",
   "metadata": {},
   "outputs": [],
   "source": [
    "from sklearn.preprocessing import StandardScaler\n",
    "scaler = StandardScaler().fit(df[['Age', 'Fare']]) # .fit(df) to scale all numerical columns\n",
    "print(\"Means = {0}\".format(scaler.mean_))\n",
    "print(\"Stdevs = {0}\".format(scaler.scale_))\n",
    "df[['Age', 'Fare']] = scaler.transform(df[['Age', 'Fare']])\n",
    "df.head()"
   ]
  },
  {
   "cell_type": "markdown",
   "id": "9c84516e",
   "metadata": {},
   "source": [
    "# Requirements for working with data in scikit-learn\n",
    "\n",
    "1. Features should not have missing values\n",
    "2. Features and response should be numeric\n",
    "3. **Features and response should be NumPy arrays**\n",
    "4. Features and response are separate objects\n",
    "5. Features and response should have specific shapes"
   ]
  },
  {
   "cell_type": "markdown",
   "id": "ec86dd01",
   "metadata": {},
   "source": [
    "# Underneath, Pandas series are numpy arrays"
   ]
  },
  {
   "cell_type": "code",
   "execution_count": null,
   "id": "27963e98",
   "metadata": {},
   "outputs": [],
   "source": [
    "df['Cabin'].unique()"
   ]
  },
  {
   "cell_type": "markdown",
   "id": "8740f693",
   "metadata": {},
   "source": [
    "![TitanicPlans](images/titanicplans.jpg)"
   ]
  },
  {
   "cell_type": "markdown",
   "id": "c63b7c3c",
   "metadata": {},
   "source": [
    "# Regular Expressions"
   ]
  },
  {
   "cell_type": "code",
   "execution_count": null,
   "id": "b392d3cd",
   "metadata": {},
   "outputs": [],
   "source": [
    "import re\n",
    "def getDeck(cabin):\n",
    "    match = re.search(\"([A-Z])\", cabin)\n",
    "    return match.group(1) if match is not None else None\n",
    "def getCabinNum(cabin):\n",
    "    match = re.search(\"([0-9]+)\", cabin)\n",
    "    return match.group(1) if match is not None else None\n",
    "print(getDeck('C237'))\n",
    "print(getCabinNum('C237'))"
   ]
  },
  {
   "cell_type": "markdown",
   "id": "686c7d4e",
   "metadata": {},
   "source": [
    "![regex](images/regular_expressions_cheat_sheet.png)"
   ]
  },
  {
   "cell_type": "markdown",
   "id": "fbb0e107",
   "metadata": {},
   "source": [
    "# Apply a function to all rows to generate a new feature"
   ]
  },
  {
   "cell_type": "code",
   "execution_count": null,
   "id": "03011724",
   "metadata": {},
   "outputs": [],
   "source": [
    "for col in df.columns:\n",
    "    print(\"NaNs in column {0} = {1}\".format(col, df.loc[df[col].isnull()].shape[0]))"
   ]
  },
  {
   "cell_type": "code",
   "execution_count": null,
   "id": "ca4193c2",
   "metadata": {},
   "outputs": [],
   "source": [
    "df.loc[df['Age'].isnull(), 'Age'] = df['Age'].mean()"
   ]
  },
  {
   "cell_type": "markdown",
   "id": "86c61355",
   "metadata": {},
   "source": [
    "# Requirements for working with data in scikit-learn\n",
    "\n",
    "1. Features should not have missing values\n",
    "2. **Features and response should be numeric**\n",
    "3. Features and response should be NumPy arrays\n",
    "4. Features and response are separate objects\n",
    "5. Features and response should have specific shapes"
   ]
  },
  {
   "cell_type": "code",
   "execution_count": null,
   "id": "4b177837",
   "metadata": {},
   "outputs": [],
   "source": [
    "fares = df['Fare'].values\n",
    "type(fares)"
   ]
  },
  {
   "cell_type": "markdown",
   "id": "2443741b",
   "metadata": {},
   "source": [
    "# Getting a pipeline ready for sklearn"
   ]
  },
  {
   "cell_type": "markdown",
   "id": "133c3923",
   "metadata": {},
   "source": [
    "# Combining Data Frames"
   ]
  },
  {
   "cell_type": "code",
   "execution_count": null,
   "id": "c8995074",
   "metadata": {},
   "outputs": [],
   "source": [
    "df['Deck'] = df['Cabin'].map(getDeck)\n",
    "df['CabinNum'] = df['Cabin'].map(getCabinNum)\n",
    "df.head()"
   ]
  },
  {
   "cell_type": "code",
   "execution_count": null,
   "id": "e3b78e65",
   "metadata": {},
   "outputs": [],
   "source": [
    "df['CabinNum'].isnull().value_counts()"
   ]
  },
  {
   "cell_type": "code",
   "execution_count": null,
   "id": "33b9da10",
   "metadata": {},
   "outputs": [],
   "source": [
    "df.loc[df['CabinNum'].isnull(), 'CabinNum'] = 0"
   ]
  },
  {
   "cell_type": "code",
   "execution_count": null,
   "id": "e39380a9",
   "metadata": {},
   "outputs": [],
   "source": [
    "df['Deck'].isnull().value_counts()"
   ]
  },
  {
   "cell_type": "code",
   "execution_count": null,
   "id": "e00e57fc",
   "metadata": {},
   "outputs": [],
   "source": [
    "df['DeckNum'] = pd.factorize(df['Deck'])[0]"
   ]
  },
  {
   "cell_type": "markdown",
   "id": "869a50d8",
   "metadata": {},
   "source": [
    "# What to do with the name?"
   ]
  },
  {
   "cell_type": "markdown",
   "id": "e81de02b",
   "metadata": {},
   "source": [
    "# Number of names"
   ]
  }
 ],
 "metadata": {},
 "nbformat": 4,
 "nbformat_minor": 5
}
