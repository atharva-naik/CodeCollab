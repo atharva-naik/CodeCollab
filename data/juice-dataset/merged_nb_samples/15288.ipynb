{
 "cells": [
  {
   "cell_type": "markdown",
   "id": "8afdd47f",
   "metadata": {},
   "source": [
    "# Missouri Flood Analysis"
   ]
  },
  {
   "cell_type": "markdown",
   "id": "f06a2018",
   "metadata": {},
   "source": [
    "Parts of Missouri experienced historic flooding in the month of May 2017.   Some locations saw as much as 11 inches of rainfall. "
   ]
  },
  {
   "cell_type": "code",
   "execution_count": null,
   "id": "334ed361",
   "metadata": {},
   "outputs": [],
   "source": [
    "from arcgis import *\n",
    "from arcgis.mapping import MapImageLayer"
   ]
  },
  {
   "cell_type": "code",
   "execution_count": null,
   "id": "dd0e8d19",
   "metadata": {},
   "outputs": [],
   "source": [
    "import json"
   ]
  },
  {
   "cell_type": "code",
   "execution_count": null,
   "id": "bf459781",
   "metadata": {},
   "outputs": [],
   "source": [
    "gis = GIS(profile=\"idt.esri.com\")"
   ]
  },
  {
   "cell_type": "markdown",
   "id": "e0608ad1",
   "metadata": {},
   "source": [
    "### Visualize the extent of damage"
   ]
  },
  {
   "cell_type": "code",
   "execution_count": null,
   "id": "91b00f34",
   "metadata": {},
   "outputs": [],
   "source": [
    "from ipywidgets import *\n",
    "\n",
    "def side_by_side(address):\n",
    "    postflood = MapImageLayer('https://tiles.arcgis.com/tiles/DO4gTjwJVIJ7O9Ca/arcgis/rest/services/Missouri_Flood_Imagery/MapServer')\n",
    "    normal =  MapImageLayer('https://server.arcgisonline.com/ArcGIS/rest/services/World_Imagery/MapServer')\n",
    "    location = geocode(address)[0]\n",
    "    satmap1 = gis.map(location)\n",
    "    satmap1.add_layer(normal)\n",
    "\n",
    "    satmap2 = gis.map(location)\n",
    "    satmap2.add_layer(postflood)\n",
    "\n",
    "    satmap1.layout=Layout(flex='1 1', padding='6px')\n",
    "    satmap2.layout=Layout(flex='1 1', padding='6px')\n",
    "\n",
    "    box = HBox([satmap1, satmap2])\n",
    "    return box"
   ]
  },
  {
   "cell_type": "markdown",
   "id": "ec5443e8",
   "metadata": {},
   "source": [
    "### Eureka Senior High School, Missouri"
   ]
  },
  {
   "cell_type": "code",
   "execution_count": null,
   "id": "1b61233b",
   "metadata": {},
   "outputs": [],
   "source": [
    "side_by_side('Eureka Senior High School,MO 63025, USA')"
   ]
  },
  {
   "cell_type": "markdown",
   "id": "14dea485",
   "metadata": {},
   "source": [
    "### Old Elam Ave, Missouri "
   ]
  },
  {
   "cell_type": "code",
   "execution_count": null,
   "id": "e7f36d50",
   "metadata": {},
   "outputs": [],
   "source": [
    "side_by_side('Old Elam Ave, Missouri')"
   ]
  },
  {
   "cell_type": "markdown",
   "id": "31303983",
   "metadata": {},
   "source": [
    "### St Louis Soccer Park, Missouri"
   ]
  },
  {
   "cell_type": "code",
   "execution_count": null,
   "id": "72b629a5",
   "metadata": {},
   "outputs": [],
   "source": [
    "side_by_side('St Louis Soccer Park, 1 Soccer Park Rd, Fenton, MO, 63026, USA')"
   ]
  },
  {
   "cell_type": "code",
   "execution_count": null,
   "id": "c80546ea",
   "metadata": {},
   "outputs": [],
   "source": [
    "missouri_post_flood_item = gis.content.search(\"title:MissouriFloodsPost\", \"Imagery Layer\")[0]\n",
    "missouri_post_flood =  missouri_post_flood_item.layers[0]\n",
    "missouri_post_flood_item"
   ]
  },
  {
   "cell_type": "code",
   "execution_count": null,
   "id": "331ac8bb",
   "metadata": {},
   "outputs": [],
   "source": [
    "missouri_pre_flood_item = gis.content.search(\"title:MissouriFloodsPre\", \"Imagery Layer\")[0]\n",
    "missouri_pre_flood =  missouri_pre_flood_item.layers[0]\n",
    "missouri_pre_flood_item"
   ]
  },
  {
   "cell_type": "code",
   "execution_count": null,
   "id": "92a3a9a7",
   "metadata": {},
   "outputs": [],
   "source": [
    "missouri_pre_flood_item.layers[0]"
   ]
  },
  {
   "cell_type": "code",
   "execution_count": null,
   "id": "abae0739",
   "metadata": {},
   "outputs": [],
   "source": [
    "missouri_pre_flood"
   ]
  },
  {
   "cell_type": "markdown",
   "id": "f60115c8",
   "metadata": {},
   "source": [
    "### Visualize pre flooded area on a map \n",
    "\n"
   ]
  },
  {
   "cell_type": "code",
   "execution_count": null,
   "id": "1cf3b608",
   "metadata": {},
   "outputs": [],
   "source": [
    "map_widget = gis.map()\n",
    "map_widget.center = [38.541585,-90.488005]\n",
    "map_widget.zoom = 15\n",
    "map_widget\n"
   ]
  },
  {
   "cell_type": "markdown",
   "id": "f4e36af0",
   "metadata": {},
   "source": [
    "Add the imagery layer of pre-flooded area onto the map widget"
   ]
  },
  {
   "cell_type": "code",
   "execution_count": null,
   "id": "9e697ef8",
   "metadata": {},
   "outputs": [],
   "source": [
    "map_widget.add_layer(missouri_pre_flood)"
   ]
  },
  {
   "cell_type": "markdown",
   "id": "28f2e3bf",
   "metadata": {},
   "source": [
    "## Flood Classification "
   ]
  },
  {
   "cell_type": "markdown",
   "id": "68a27c29",
   "metadata": {},
   "source": [
    "#### Train the Classifier "
   ]
  },
  {
   "cell_type": "code",
   "execution_count": null,
   "id": "15722f13",
   "metadata": {},
   "outputs": [],
   "source": [
    "import json\n",
    "from arcgis.raster.analytics import *\n",
    "with open(\"full_fc.json\", \"r\") as training_sample_file:\n",
    "    file_contents = training_sample_file.read() \n",
    "training_sample_json = json.loads(file_contents)"
   ]
  },
  {
   "cell_type": "code",
   "execution_count": null,
   "id": "d33bf5a8",
   "metadata": {},
   "outputs": [],
   "source": [
    "classifier_definition = train_classifier(input_raster=missouri_post_flood, \n",
    "                                         input_training_sample_json=training_sample_json, \n",
    "                                         classifier_parameters={\"method\":\"svm\",\"params\":{\"maxSampleClass\":1000}},gis=gis)"
   ]
  },
  {
   "cell_type": "markdown",
   "id": "abb837fc",
   "metadata": {},
   "source": [
    "#### Perform Classification "
   ]
  },
  {
   "cell_type": "code",
   "execution_count": null,
   "id": "09174cfa",
   "metadata": {},
   "outputs": [],
   "source": [
    "railroad_bridges = portal.content.search('title:\"Railroad Bridges\" type:Feature Service owner:HIFLD_Admin',outside_org=True)[0]\n",
    "railroad_bridges_layer = railroad_bridges.layers[0]\n",
    "count_railroad_bridges = railroad_bridges_layer.query(return_count_only=True,\n",
    "                                                      geometry_filter=flood_geometery_filter)\n",
    "count_railroad_bridges"
   ]
  },
  {
   "cell_type": "markdown",
   "id": "8c03c0f0",
   "metadata": {},
   "source": [
    "Commercial Count"
   ]
  },
  {
   "cell_type": "code",
   "execution_count": null,
   "id": "3d1b0d67",
   "metadata": {},
   "outputs": [],
   "source": [
    "addresses = portal.content.get(\"d1361b59ac2747109db3780aeb765167\").layers[0]\n",
    "count_commercial = addresses.query(return_ids_only=True,return_count_only=True,\n",
    "                                   where=\"LUCODE ='Commercial'\",\n",
    "                                   geometry_filter=flood_geometery_filter)\n",
    "count_commercial"
   ]
  },
  {
   "cell_type": "markdown",
   "id": "ffe26378",
   "metadata": {},
   "source": [
    "Residential Count"
   ]
  },
  {
   "cell_type": "code",
   "execution_count": null,
   "id": "49e670f6",
   "metadata": {},
   "outputs": [],
   "source": [
    "count_residential = addresses.query(return_count_only=True,\n",
    "                                    where=\"(LUCODE = 'Single Family') OR (LUCODE = 'Duplex/Townhome') OR (LUCODE = 'Multi-Family')\",\n",
    "                                    geometry_filter=flood_geometery_filter)\n",
    "count_residential"
   ]
  },
  {
   "cell_type": "markdown",
   "id": "2efb22b8",
   "metadata": {},
   "source": [
    "Bridges Count"
   ]
  },
  {
   "cell_type": "code",
   "execution_count": null,
   "id": "a55362f6",
   "metadata": {},
   "outputs": [],
   "source": [
    "bridges = portal.content.search('title:\"Railroad Bridges\" type:Feature Service owner:HIFLD_Admin',outside_org=True)[0]\n",
    "bridges_layer = bridges.layers[0]\n",
    "count_bridges = bridges_layer.query(return_count_only=True,\n",
    "                                    geometry_filter=flood_geometery_filter)\n",
    "count_bridges"
   ]
  },
  {
   "cell_type": "markdown",
   "id": "bbb585f0",
   "metadata": {},
   "source": [
    "Primary Roads Count "
   ]
  },
  {
   "cell_type": "code",
   "execution_count": null,
   "id": "b9f7db9a",
   "metadata": {},
   "outputs": [],
   "source": [
    "from arcgis.features import FeatureLayer\n",
    "primary_roads_layer = FeatureLayer(\"https://tigerweb.geo.census.gov/arcgis/rest/services/TIGERweb/Transportation_LargeScale/MapServer/0\")\n",
    "count_primary_roads = primary_roads_layer.query(return_count_only=True,\n",
    "                                                geometry_filter=flood_geometery_filter)\n",
    "count_primary_roads\n"
   ]
  },
  {
   "cell_type": "markdown",
   "id": "8f72893b",
   "metadata": {},
   "source": [
    "Secondary Roads Count"
   ]
  },
  {
   "cell_type": "code",
   "execution_count": null,
   "id": "ec8fde41",
   "metadata": {},
   "outputs": [],
   "source": [
    "secondary_roads_layer = FeatureLayer(\"https://tigerweb.geo.census.gov/arcgis/rest/services/TIGERweb/Transportation_LargeScale/MapServer/1\")\n",
    "count_secondary_roads = secondary_roads_layer.query(return_count_only=True,\n",
    "                                                    geometry_filter=flood_geometery_filter)\n",
    "count_secondary_roads"
   ]
  },
  {
   "cell_type": "markdown",
   "id": "8928f537",
   "metadata": {},
   "source": [
    "Local Roads Count"
   ]
  },
  {
   "cell_type": "markdown",
   "id": "c5e948a1",
   "metadata": {},
   "source": [
    "### With the flood barrier"
   ]
  },
  {
   "cell_type": "code",
   "execution_count": null,
   "id": "7b983715",
   "metadata": {},
   "outputs": [],
   "source": [
    "gis = GIS(profile=\"idt.esri.com\")\n",
    "flood_layer = gis.content.get('c59e914434704a80aedabb1f7df803c5').layers[0]"
   ]
  },
  {
   "cell_type": "code",
   "execution_count": null,
   "id": "e35e65a8",
   "metadata": {},
   "outputs": [],
   "source": [
    "sdf = SpatialDataFrame.from_layer(flood_layer)\n",
    "flood_geometry =sdf.iloc[0].SHAPE"
   ]
  },
  {
   "cell_type": "code",
   "execution_count": null,
   "id": "7cc9b782",
   "metadata": {},
   "outputs": [],
   "source": [
    "fsetflood = flood_layer.query(return_geometry=True)\n",
    "fsetflood_json = json.loads(fsetflood.to_json)\n",
    "fsetflood_json[\"features\"][0][\"geometry\"].update({ \"spatialReference\" : 3857})"
   ]
  },
  {
   "cell_type": "code",
   "execution_count": null,
   "id": "96a9e85b",
   "metadata": {},
   "outputs": [],
   "source": [
    "barrier = {\n",
    "    \"type\" : \"features\",\n",
    "    \"features\"  : [{\"geometry\" : fsetflood_json[\"features\"][0][\"geometry\"],\"attributes\" : {\"Name\" : \"Barrier 0\"}}]\n",
    "}"
   ]
  },
  {
   "cell_type": "code",
   "execution_count": null,
   "id": "805c6f04",
   "metadata": {},
   "outputs": [],
   "source": [
    "travel_modes = sa_layer.retrieve_travel_modes()\n",
    "truck_mode = [t for t in travel_modes['supportedTravelModes'] if t['name'] == 'Trucking Time'][0]\n",
    "\n",
    "service_area_flood = sa_layer.solve_service_area(fire_station_fset, default_breaks=[5], \n",
    "                                     travel_direction='esriNATravelDirectionFromFacility',\n",
    "                                     polygon_barriers=barrier,\n",
    "                                     return_polygon_barriers=True,\n",
    "                                     travel_mode=truck_mode)"
   ]
  },
  {
   "cell_type": "markdown",
   "id": "c5b0074d",
   "metadata": {},
   "source": [
    "### Plot the barrier"
   ]
  },
  {
   "cell_type": "code",
   "execution_count": null,
   "id": "cd9f0537",
   "metadata": {},
   "outputs": [],
   "source": [
    "barrier_feat_list = []\n",
    "for barrier_dict in service_area_flood['polygonBarriers']['features']:\n",
    "    f2 = Feature(barrier_dict['geometry'], barrier_dict['attributes'])\n",
    "    barrier_feat_list.append(f2)"
   ]
  },
  {
   "cell_type": "code",
   "execution_count": null,
   "id": "7de059cf",
   "metadata": {},
   "outputs": [],
   "source": [
    "barrier_area_fset = FeatureSet(barrier_feat_list, \n",
    "                               geometry_type=service_area_flood['polygonBarriers']['geometryType'],\n",
    "                               spatial_reference= service_area_flood['polygonBarriers']['spatialReference'])"
   ]
  },
  {
   "cell_type": "code",
   "execution_count": null,
   "id": "c1b2a219",
   "metadata": {},
   "outputs": [],
   "source": [
    "fill_symbol_barrier = {\"type\": \"esriSFS\",\"style\": \"esriSFSDiagonalCross\",\n",
    "               \"color\": [115,76,255,255]}"
   ]
  },
  {
   "cell_type": "code",
   "execution_count": null,
   "id": "3722e74d",
   "metadata": {},
   "outputs": [],
   "source": [
    "for barrier_area in barrier_area_fset.features:\n",
    "    map_widget2.draw(barrier_area.geometry, symbol=fill_symbol_barrier)"
   ]
  },
  {
   "cell_type": "markdown",
   "id": "b0513e64",
   "metadata": {},
   "source": [
    "### Plot the modified service area"
   ]
  },
  {
   "cell_type": "code",
   "execution_count": null,
   "id": "a7a16bc5",
   "metadata": {},
   "outputs": [],
   "source": [
    "from arcgis.raster.functions import *\n",
    "classified_output = classify(raster1=missouri_post_flood, classifier_definition=classifier_definition)\n",
    "classified_output"
   ]
  },
  {
   "cell_type": "markdown",
   "id": "639070b2",
   "metadata": {},
   "source": [
    "#### Persist the flooded_area imagery layer"
   ]
  },
  {
   "cell_type": "code",
   "execution_count": null,
   "id": "4f33e516",
   "metadata": {},
   "outputs": [],
   "source": [
    "flood_item = classified_output.save(\"flooded_area_layer\")"
   ]
  },
  {
   "cell_type": "code",
   "execution_count": null,
   "id": "3cf191e4",
   "metadata": {},
   "outputs": [],
   "source": [
    "flooded_area_item = gis.content.search(\"title:flooded_area_layer\", \"Imagery Layer\")[0]\n",
    "flooded_area_layer =  flooded_area_item.layers[0]\n",
    "flooded_area_item"
   ]
  },
  {
   "cell_type": "code",
   "execution_count": null,
   "id": "a30dd0a6",
   "metadata": {},
   "outputs": [],
   "source": [
    "from arcgis.raster.functions import *\n",
    "\n",
    "flooded_area = colormap(remap(flooded_area_layer, \n",
    "                              input_ranges=[0,1],\n",
    "                              output_values=[0],\n",
    "                              no_data_ranges=[1,2,2,3,3,4]),\n",
    "                        colormap_name=\"NDVI3\")"
   ]
  },
  {
   "cell_type": "markdown",
   "id": "ef7a2397",
   "metadata": {},
   "source": [
    "## View flooded area on the map"
   ]
  },
  {
   "cell_type": "code",
   "execution_count": null,
   "id": "4ac0a1f3",
   "metadata": {},
   "outputs": [],
   "source": [
    "map_widget.add_layer(flooded_area)"
   ]
  },
  {
   "cell_type": "markdown",
   "id": "850ce0bf",
   "metadata": {},
   "source": [
    "## Raster to Feature layer conversion"
   ]
  },
  {
   "cell_type": "code",
   "execution_count": null,
   "id": "4b43eb70",
   "metadata": {},
   "outputs": [],
   "source": [
    "flood_feature_layer_item = flooded_area.to_features(output_name=\"flood_features_layer\",gis=gis)"
   ]
  },
  {
   "cell_type": "code",
   "execution_count": null,
   "id": "c447e70a",
   "metadata": {},
   "outputs": [],
   "source": [
    "from arcgis.features.use_proximity import create_buffers\n",
    "\n",
    "flood_layer = geoportal.content.get('9fad9110e6a848579e549f81dba51fd6').layers[0]\n",
    "\n",
    "flood_layer.filter = 'st_area_sh > 3000000'\n",
    "flood = create_buffers(flood_layer, distances=[100],units='Meters', output_name='MissouriFlood',gis=gis)"
   ]
  },
  {
   "cell_type": "markdown",
   "id": "4ae2b59d",
   "metadata": {},
   "source": [
    "## Impact Assessment"
   ]
  },
  {
   "cell_type": "code",
   "execution_count": null,
   "id": "e5ee94cd",
   "metadata": {},
   "outputs": [],
   "source": [
    "from arcgis.features import SpatialDataFrame\n",
    "flood_layer = gis.content.get('c59e914434704a80aedabb1f7df803c5').layers[0]\n",
    "sdf = SpatialDataFrame.from_layer(flood_layer)\n",
    "flood_geometry =sdf.iloc[0].SHAPE\n",
    "flood_geometery_filter = geometry.filters.intersects(geometry=flood_geometry, sr=3857)"
   ]
  },
  {
   "cell_type": "code",
   "execution_count": null,
   "id": "ff368b7b",
   "metadata": {},
   "outputs": [],
   "source": [
    "portal = GIS(profile=\"ivt\")"
   ]
  },
  {
   "cell_type": "markdown",
   "id": "6e93c8dc",
   "metadata": {},
   "source": [
    "Railroad bridges count"
   ]
  },
  {
   "cell_type": "code",
   "execution_count": null,
   "id": "34590880",
   "metadata": {},
   "outputs": [],
   "source": [
    "fire_station_fset = FeatureSet(features=fire_station_feat_list, \n",
    "                            geometry_type='esriGeometryPoint', \n",
    "                            spatial_reference={'latestWkid': 3857, 'wkid': 102100})"
   ]
  },
  {
   "cell_type": "code",
   "execution_count": null,
   "id": "a00c8b4d",
   "metadata": {},
   "outputs": [],
   "source": [
    "fire_truck_symbol = {\"type\":\"esriPMS\",\n",
    "                     \"url\":\"http://static.arcgis.com/images/Symbols/SafetyHealth/FireTruck.png\",\n",
    "                     \"contentType\": \"image/png\", \"width\":20, \"height\":20}"
   ]
  },
  {
   "cell_type": "code",
   "execution_count": null,
   "id": "4547ca9b",
   "metadata": {},
   "outputs": [],
   "source": [
    "map_widget2.draw(fire_station_fset, symbol=fire_truck_symbol)"
   ]
  },
  {
   "cell_type": "markdown",
   "id": "d056c035",
   "metadata": {},
   "source": [
    "### Original Service Area"
   ]
  },
  {
   "cell_type": "code",
   "execution_count": null,
   "id": "911b964c",
   "metadata": {},
   "outputs": [],
   "source": [
    "service_area_url = my_gis.properties.helperServices.serviceArea.url\n",
    "sa_layer = network.ServiceAreaLayer(service_area_url, gis=my_gis)"
   ]
  },
  {
   "cell_type": "code",
   "execution_count": null,
   "id": "2a1eeabe",
   "metadata": {},
   "outputs": [],
   "source": [
    "travel_modes = sa_layer.retrieve_travel_modes()\n",
    "truck_mode = [t for t in travel_modes['supportedTravelModes'] if t['name'] == 'Trucking Time'][0]\n",
    "\n",
    "service_area_result = sa_layer.solve_service_area(fire_station_fset, default_breaks=[5], \n",
    "                                     travel_direction='esriNATravelDirectionFromFacility',\n",
    "                                     travel_mode=truck_mode)"
   ]
  },
  {
   "cell_type": "code",
   "execution_count": null,
   "id": "df21a1ac",
   "metadata": {},
   "outputs": [],
   "source": [
    "poly_feat_list = []\n",
    "for polygon_dict in service_area_result['saPolygons']['features']:\n",
    "    f1 = Feature(polygon_dict['geometry'], polygon_dict['attributes'])\n",
    "    poly_feat_list.append(f1)"
   ]
  },
  {
   "cell_type": "code",
   "execution_count": null,
   "id": "81cb7630",
   "metadata": {},
   "outputs": [],
   "source": [
    "service_area_fset = FeatureSet(poly_feat_list, \n",
    "                               geometry_type=service_area_result['saPolygons']['geometryType'],\n",
    "                               spatial_reference=service_area_result['saPolygons']['spatialReference'])"
   ]
  },
  {
   "cell_type": "code",
   "execution_count": null,
   "id": "cb699d21",
   "metadata": {},
   "outputs": [],
   "source": [
    "service_area_fset.df"
   ]
  },
  {
   "cell_type": "code",
   "execution_count": null,
   "id": "aebf4c98",
   "metadata": {},
   "outputs": [],
   "source": [
    "orig_colors = {5: [255, 0, 0, 90]}\n",
    "\n",
    "fill_symbol = {\"type\": \"esriSFS\",\"style\": \"esriSFSSolid\"}"
   ]
  },
  {
   "cell_type": "code",
   "execution_count": null,
   "id": "5033f6a8",
   "metadata": {},
   "outputs": [],
   "source": [
    "for service_area in service_area_fset.features:\n",
    "    \n",
    "    #set color based on drive time\n",
    "    fill_symbol['color'] = orig_colors[service_area.attributes['ToBreak']]\n",
    "    \n",
    "    #set popup\n",
    "    popup={\"title\": \"Service area\", \n",
    "            \"content\": \"{} minutes\".format(service_area.attributes['ToBreak'])}\n",
    "    \n",
    "    map_widget2.draw(service_area.geometry, symbol=fill_symbol, popup=popup)"
   ]
  },
  {
   "cell_type": "code",
   "execution_count": null,
   "id": "70a4d7d7",
   "metadata": {},
   "outputs": [],
   "source": [
    "local_roads_layer = FeatureLayer(\"https://tigerweb.geo.census.gov/arcgis/rest/services/TIGERweb/Transportation_LargeScale/MapServer/2\")\n",
    "count_local_roads = local_roads_layer.query(return_count_only=True,\n",
    "                                            geometry_filter=flood_geometery_filter)\n",
    "count_local_roads"
   ]
  },
  {
   "cell_type": "markdown",
   "id": "f5896f5c",
   "metadata": {},
   "source": [
    "## Plot bar graph of impacted infrastructure"
   ]
  },
  {
   "cell_type": "code",
   "execution_count": null,
   "id": "316cba4d",
   "metadata": {},
   "outputs": [],
   "source": [
    "import matplotlib.pyplot as plt\n",
    "%matplotlib inline\n",
    "\n",
    "names = ['local_roads', 'secondary_roads', 'primary_roads',\"bridges\", \"residential\", \"commercials\",\"railroad_bridges\"]\n",
    "values = [count_local_roads, count_secondary_roads, count_primary_roads, count_bridges, count_residential, count_commercial, count_railroad_bridges]\n",
    "\n",
    "plt.figure(1, figsize=(35, 6))\n",
    "\n",
    "plt.subplot(131)\n",
    "plt.bar(range(7), values, color =\"blue\", width = 0.5)\n",
    "plt.ylabel('Count')\n",
    "plt.xticks(range(len(names)), names)\n",
    "plt.title('Impact Assessment')\n",
    "plt.show()"
   ]
  },
  {
   "cell_type": "markdown",
   "id": "af7dac7a",
   "metadata": {},
   "source": [
    "# 5 minutes service area for Fire Stations near the Flooded Area"
   ]
  },
  {
   "cell_type": "code",
   "execution_count": null,
   "id": "2673b1b8",
   "metadata": {},
   "outputs": [],
   "source": [
    "user_name = 'arcgis_python'\n",
    "password = 'P@ssword123'\n",
    "my_gis = GIS('https://www.arcgis.com', user_name, password)"
   ]
  },
  {
   "cell_type": "code",
   "execution_count": null,
   "id": "5f161296",
   "metadata": {},
   "outputs": [],
   "source": [
    "map_widget2 = gis.map()\n",
    "map_widget2.center = [38.541585,-90.488005]\n",
    "map_widget2.zoom = 13\n",
    "map_widget2"
   ]
  },
  {
   "cell_type": "code",
   "execution_count": null,
   "id": "2ede1c79",
   "metadata": {},
   "outputs": [],
   "source": [
    "import pandas as pd\n",
    "from arcgis import geocoding\n",
    "import arcgis.network as network\n",
    "\n",
    "analysis_url = my_gis.properties.helperServices.closestFacility.url\n",
    "cf_layer = network.ClosestFacilityLayer(analysis_url, gis=my_gis)"
   ]
  },
  {
   "cell_type": "markdown",
   "id": "87a6f395",
   "metadata": {},
   "source": [
    "### Locate nearby firestations"
   ]
  },
  {
   "cell_type": "code",
   "execution_count": null,
   "id": "1ccf6b4a",
   "metadata": {},
   "outputs": [],
   "source": [
    "fire_station_addresses = [\"17065 Manchester Rd, Wildwood, MO 63040, USA\", \"910 W Osage St, Pacific, MO 63069, USA\", \"4849 MO-109, Eureka, MO 63025, USA\", \"55 Crescent Ave, Valley Park, MO 63088, USA\", \"845 Gregory Ln, Fenton, MO 63026, USA\", \"11804 Big Bend Rd, St Louis, MO 63122, USA\"]"
   ]
  },
  {
   "cell_type": "code",
   "execution_count": null,
   "id": "64e691a6",
   "metadata": {},
   "outputs": [],
   "source": [
    "from arcgis.features import Feature, FeatureSet\n",
    "fire_station_feat_list = []\n",
    "\n",
    "for address in fire_station_addresses:\n",
    "    hit = geocoding.geocode(address)[0]\n",
    "    fire_station_feat = Feature(geometry=hit['location'], attributes=hit['attributes'])\n",
    "\n",
    "    fire_station_feat_list.append(fire_station_feat)"
   ]
  }
 ],
 "metadata": {},
 "nbformat": 4,
 "nbformat_minor": 5
}
