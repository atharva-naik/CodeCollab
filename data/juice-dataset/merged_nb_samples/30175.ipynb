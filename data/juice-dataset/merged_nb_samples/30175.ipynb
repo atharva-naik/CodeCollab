{
 "cells": [
  {
   "cell_type": "markdown",
   "id": "6397f416",
   "metadata": {},
   "source": [
    "# Linear Regression via SGD, QR, SVD, LU, etc."
   ]
  },
  {
   "cell_type": "markdown",
   "id": "d5d0b41a",
   "metadata": {},
   "source": [
    "## Imports"
   ]
  },
  {
   "cell_type": "code",
   "execution_count": null,
   "id": "b3249208",
   "metadata": {},
   "outputs": [],
   "source": [
    "%matplotlib inline\n",
    "\n",
    "from IPython.display import display, Math, Latex\n",
    "import matplotlib.pyplot as plt\n",
    "import numpy as np\n",
    "from numpy import dot\n",
    "from numpy.linalg import inv\n",
    "import scipy\n",
    "from scipy.stats import t\n",
    "from sklearn import datasets, linear_model\n",
    "from sklearn.cross_validation import train_test_split"
   ]
  },
  {
   "cell_type": "markdown",
   "id": "c7bd30a0",
   "metadata": {},
   "source": [
    "## Boston Real Estate Prices"
   ]
  },
  {
   "cell_type": "markdown",
   "id": "7955e821",
   "metadata": {},
   "source": [
    "### Features"
   ]
  },
  {
   "cell_type": "code",
   "execution_count": null,
   "id": "6851ab06",
   "metadata": {},
   "outputs": [],
   "source": [
    "boston = datasets.load_boston()\n",
    "print(boston.DESCR)"
   ]
  },
  {
   "cell_type": "markdown",
   "id": "5e63bf07",
   "metadata": {},
   "source": [
    "### Exploratory Data Analysis"
   ]
  },
  {
   "cell_type": "markdown",
   "id": "69257694",
   "metadata": {},
   "source": [
    "#### Effect of % of lower-status population on price"
   ]
  },
  {
   "cell_type": "code",
   "execution_count": null,
   "id": "8fae2988",
   "metadata": {},
   "outputs": [],
   "source": [
    "plt.scatter(boston.data[:, np.where(boston.feature_names == 'LSTAT')], boston.target)\n",
    "plt.title('% lower-status population vs. price', color='black')\n",
    "plt.xlabel('LSTAT', {'fontsize':'large'})\n",
    "plt.ylabel('PRICE', {'fontsize':'large'})\n"
   ]
  },
  {
   "cell_type": "markdown",
   "id": "a5676f0d",
   "metadata": {},
   "source": [
    "#### Effect of number of rooms on price"
   ]
  },
  {
   "cell_type": "code",
   "execution_count": null,
   "id": "5f5aded6",
   "metadata": {},
   "outputs": [],
   "source": [
    "plt.scatter(boston.data[:, np.where(boston.feature_names == 'RM')], boston.target)\n",
    "plt.title('avg. number of rooms vs. price', color='black')\n",
    "plt.xlabel('RM', {'fontsize':'large'})\n",
    "plt.ylabel('PRICE', {'fontsize':'large'})"
   ]
  },
  {
   "cell_type": "markdown",
   "id": "92d5157c",
   "metadata": {},
   "source": [
    "#### Relationship between % lower-status and avg. number of rooms"
   ]
  },
  {
   "cell_type": "code",
   "execution_count": null,
   "id": "6239822e",
   "metadata": {},
   "outputs": [],
   "source": [
    "plt.scatter(boston.data[:, np.where(boston.feature_names == 'LSTAT')],\\\n",
    "            boston.data[:, np.where(boston.feature_names == 'RM')])\n",
    "plt.title('% lower-status vs. avg. number of rooms', color='black')\n",
    "plt.xlabel('LSTAT', {'fontsize':'large'})\n",
    "plt.ylabel('RM', {'fontsize':'large'})"
   ]
  },
  {
   "cell_type": "markdown",
   "id": "f1dfd6de",
   "metadata": {},
   "source": [
    "## Linear regression model"
   ]
  },
  {
   "cell_type": "markdown",
   "id": "e5bb5b71",
   "metadata": {},
   "source": [
    "### Training / Test Set Split"
   ]
  },
  {
   "cell_type": "code",
   "execution_count": null,
   "id": "60de87da",
   "metadata": {},
   "outputs": [],
   "source": [
    "X_train, X_test, y_train, y_test = \\\n",
    "train_test_split(boston.data, boston.target, test_size=0.3, random_state=42)"
   ]
  },
  {
   "cell_type": "markdown",
   "id": "97dc9505",
   "metadata": {},
   "source": [
    "### Model Training"
   ]
  },
  {
   "cell_type": "code",
   "execution_count": null,
   "id": "d8cbba66",
   "metadata": {},
   "outputs": [],
   "source": [
    "bos_regr = linear_model.LinearRegression(fit_intercept=True, normalize=True)\n",
    "\n",
    "bos_regr.fit(X_train, y_train)\n",
    "\n",
    "print(\"\\n%-17s: %.3f\" % (\"Training set R^2\", bos_regr.score(X_train, y_train)))\n",
    "print(\"%-17s: %.3f\" % (\"Test set R^2\", bos_regr.score(X_test, y_test)))\n",
    "\n",
    "print(\"\\nModel weights:\\n\")\n",
    "print(\"%-10s: %8.3f\" % (\"Intercept\", bos_regr.intercept_))\n",
    "for i in range(len(bos_regr.coef_)):\n",
    "    print(\"%-10s: %8.3f\" % (boston.feature_names[i], bos_regr.coef_[i]))\n",
    "    \n",
    "print(\"\"\"\n",
    "\n",
    "Feature description:\n",
    "\n",
    "CRIM     per capita crime rate by town\n",
    "ZN       proportion of residential land zoned for lots over 25,000 sq.ft.\n",
    "INDUS    proportion of non-retail business acres per town\n",
    "CHAS     Charles River dummy variable (= 1 if tract bounds river; 0 otherwise)\n",
    "NOX      nitric oxides concentration (parts per 10 million)\n",
    "RM       average number of rooms per dwelling\n",
    "AGE      proportion of owner-occupied units built prior to 1940\n",
    "DIS      weighted distances to five Boston employment centres\n",
    "RAD      index of accessibility to radial highways\n",
    "TAX      full-value property-tax rate per $10,000\n",
    "PTRATIO  pupil-teacher ratio by town\n",
    "B        1000(Bk - 0.63)^2 where Bk is the proportion of blacks by town\n",
    "LSTAT    % lower status of the population\n",
    "MEDV     Median value of owner-occupied homes in $1000's\n",
    "\"\"\")    "
   ]
  },
  {
   "cell_type": "markdown",
   "id": "ff90ea1d",
   "metadata": {},
   "source": [
    "## Completely Optional - Manual Weight Computation"
   ]
  },
  {
   "cell_type": "code",
   "execution_count": null,
   "id": "afd52be3",
   "metadata": {},
   "outputs": [],
   "source": [
    "diabetes = datasets.load_diabetes()\n",
    "\n",
    "X_no_int = np.array(diabetes.data[:, 0])\n",
    "shape = (diabetes.data.shape[0], 1)\n",
    "X = np.concatenate((np.ones(shape), np.array(diabetes.data[:, 0]).reshape(shape)), axis = 1)\n",
    "y = diabetes.target"
   ]
  },
  {
   "cell_type": "markdown",
   "id": "491b74ae",
   "metadata": {},
   "source": [
    "### Scikit-learn result for comparison"
   ]
  },
  {
   "cell_type": "code",
   "execution_count": null,
   "id": "90cd8278",
   "metadata": {},
   "outputs": [],
   "source": [
    "diab_regr = linear_model.LinearRegression(fit_intercept=True)\n",
    "diab_regr.fit(X_no_int.reshape(shape), y)\n",
    "[diab_regr.intercept_, diab_regr.coef_[0]]"
   ]
  },
  {
   "cell_type": "markdown",
   "id": "a62a3f65",
   "metadata": {},
   "source": [
    "### 1) \"Linear algebra 101\" method: $(X^TX)^{-1}X^TY$"
   ]
  },
  {
   "cell_type": "code",
   "execution_count": null,
   "id": "637fbd25",
   "metadata": {},
   "outputs": [],
   "source": [
    "manual_weights = dot(dot(inv(dot(X.T, X)), X.T), y)\n",
    "print(manual_weights)"
   ]
  },
  {
   "cell_type": "markdown",
   "id": "aa0efa42",
   "metadata": {},
   "source": [
    "### 2) Via QR factorization"
   ]
  },
  {
   "cell_type": "code",
   "execution_count": null,
   "id": "4ffe01b3",
   "metadata": {},
   "outputs": [],
   "source": [
    "(q, r) = np.linalg.qr(X)\n",
    "\n",
    "dot(dot(inv(dot(r.T, r)), r.T), dot(q.T, y))"
   ]
  },
  {
   "cell_type": "markdown",
   "id": "f710f327",
   "metadata": {},
   "source": [
    "### 3) Via Cholesky factorization"
   ]
  },
  {
   "cell_type": "code",
   "execution_count": null,
   "id": "f248d003",
   "metadata": {},
   "outputs": [],
   "source": [
    "L = np.linalg.cholesky(dot(X.T, X))\n",
    "\n",
    "dot(dot(inv(dot(L, L.T)), X.T), y)\n"
   ]
  },
  {
   "cell_type": "markdown",
   "id": "5d01ff4b",
   "metadata": {},
   "source": [
    "### 4) Via SVD"
   ]
  },
  {
   "cell_type": "code",
   "execution_count": null,
   "id": "e38e2f17",
   "metadata": {},
   "outputs": [],
   "source": [
    "U, s, V = np.linalg.svd(X)\n",
    "dot(dot(dot(V, np.diag(np.divide(np.ones(2), s))), U[:, 0:X.shape[1]].T), y)"
   ]
  },
  {
   "cell_type": "markdown",
   "id": "92bff0ec",
   "metadata": {},
   "source": [
    "### 5) Via LU factorization"
   ]
  }
 ],
 "metadata": {},
 "nbformat": 4,
 "nbformat_minor": 5
}
