{
 "cells": [
  {
   "cell_type": "code",
   "execution_count": null,
   "id": "bddbb503",
   "metadata": {},
   "outputs": [],
   "source": [
    "import ROOT\n",
    "from ROOT import gROOT, TCanvas, TF1, TFile, TTree, gRandom, TH1F\n",
    "import rootprint\n",
    "import rootnotes\n",
    "import utils"
   ]
  },
  {
   "cell_type": "code",
   "execution_count": null,
   "id": "2f7a08f9",
   "metadata": {},
   "outputs": [],
   "source": [
    "inputFile_out = TFile(\"~/Desktop/gr-gmaster_home/analysis/analysis/out_cm.root\")"
   ]
  },
  {
   "cell_type": "code",
   "execution_count": null,
   "id": "7e0ff30d",
   "metadata": {},
   "outputs": [],
   "source": [
    "%%rootprint\n",
    "hist = {}\n",
    "for h in inputFile_out.GetListOfKeys():\n",
    "    h = h.ReadObj()\n",
    "    hist[h.GetName()] = h\n",
    "#     print h"
   ]
  },
  {
   "cell_type": "markdown",
   "id": "c4541853",
   "metadata": {},
   "source": [
    "<sup>6</sup>He(α,α) Analysis Update\n",
    "=====================\n",
    "February 10, 2017\n",
    "--------------------"
   ]
  },
  {
   "cell_type": "markdown",
   "id": "7f5b5da9",
   "metadata": {},
   "source": [
    "Worked on getting cross sections for all energies/detectors\n",
    "----\n",
    "\n",
    "Calculated CM energies (assuming all alphas are a result of elastic collision)\n",
    "----\n",
    "\n",
    "Solid angle calculation implementation in progress\n",
    "---"
   ]
  },
  {
   "cell_type": "markdown",
   "id": "5ba9dc19",
   "metadata": {},
   "source": [
    "Detector 1\n",
    "===="
   ]
  },
  {
   "cell_type": "code",
   "execution_count": null,
   "id": "6ada9bd9",
   "metadata": {},
   "outputs": [],
   "source": [
    "%%rootprint\n",
    "det1 = rootnotes.canvas(\"det1\", (696*2,472*2))\n",
    "det1.Divide(2,2)\n",
    "\n",
    "det1.cd(1)\n",
    "hist['e_proj_1_1_he4'].SetTitle(\"Detctor 1 Quad 1\")\n",
    "hist['e_proj_1_1_he4'].Draw()\n",
    "\n",
    "det1.cd(2)\n",
    "hist['e_proj_1_2_he4'].SetTitle(\"Detctor 1 Quad 2\")\n",
    "hist['e_proj_1_2_he4'].Draw()\n",
    "\n",
    "det1.cd(3)\n",
    "hist['CMe_proj_1_1_he4'].SetTitle(\"Detctor 1 Quad 1\")\n",
    "hist['CMe_proj_1_1_he4'].Draw()\n",
    "\n",
    "det1.cd(4)\n",
    "hist['CMe_proj_1_2_he4'].SetTitle(\"Detctor 1 Quad 2\")\n",
    "hist['CMe_proj_1_2_he4'].Draw()"
   ]
  },
  {
   "cell_type": "code",
   "execution_count": null,
   "id": "090b7300",
   "metadata": {},
   "outputs": [],
   "source": [
    "det1"
   ]
  },
  {
   "cell_type": "markdown",
   "id": "824117b8",
   "metadata": {},
   "source": [
    "You can see the statistis are different for Lab energy and CM energy plots... vetoed unreasonable vertex positions/wire positions.\n",
    "----"
   ]
  },
  {
   "cell_type": "code",
   "execution_count": null,
   "id": "468d18ad",
   "metadata": {},
   "outputs": [],
   "source": [
    "%%rootprint\n",
    "det2 = rootnotes.canvas(\"det2\", (696*2,472*2))\n",
    "det2.Divide(2,2)\n",
    "\n",
    "det2.cd(1)\n",
    "hist['e_proj_2_1_he4'].SetTitle(\"Detctor 2 Quad 1\")\n",
    "hist['e_proj_2_1_he4'].Draw()\n",
    "\n",
    "det2.cd(2)\n",
    "hist['e_proj_2_2_he4'].SetTitle(\"Detctor 2 Quad 2\")\n",
    "hist['e_proj_2_2_he4'].Draw()\n",
    "\n",
    "det2.cd(3)\n",
    "hist['CMe_proj_2_1_he4'].SetTitle(\"Detctor 2 Quad 1\")\n",
    "hist['CMe_proj_2_1_he4'].Draw()\n",
    "\n",
    "det2.cd(4)\n",
    "hist['CMe_proj_2_2_he4'].SetTitle(\"Detctor 2 Quad 2\")\n",
    "hist['CMe_proj_2_2_he4'].Draw()"
   ]
  },
  {
   "cell_type": "markdown",
   "id": "c387572f",
   "metadata": {},
   "source": [
    "Detector 2\n",
    "===="
   ]
  },
  {
   "cell_type": "code",
   "execution_count": null,
   "id": "920f9be5",
   "metadata": {},
   "outputs": [],
   "source": [
    "det2"
   ]
  },
  {
   "cell_type": "code",
   "execution_count": null,
   "id": "833ee7a8",
   "metadata": {},
   "outputs": [],
   "source": [
    "%%rootprint\n",
    "det3 = rootnotes.canvas(\"det3\", (696*2,472*2))\n",
    "det3.Divide(2,2)\n",
    "\n",
    "det3.cd(1)\n",
    "hist['e_proj_3_1_he4'].SetTitle(\"Detctor 3 Quad 1\")\n",
    "hist['e_proj_3_1_he4'].Draw()\n",
    "\n",
    "det3.cd(2)\n",
    "hist['e_proj_3_2_he4'].SetTitle(\"Detctor 3 Quad 2\")\n",
    "hist['e_proj_3_2_he4'].Draw()\n",
    "\n",
    "det3.cd(3)\n",
    "hist['CMe_proj_3_1_he4'].SetTitle(\"Detctor 3 Quad 1\")\n",
    "hist['CMe_proj_3_1_he4'].Draw()\n",
    "\n",
    "det3.cd(4)\n",
    "hist['CMe_proj_3_2_he4'].SetTitle(\"Detctor 3 Quad 2\")\n",
    "hist['CMe_proj_3_2_he4'].Draw()"
   ]
  },
  {
   "cell_type": "markdown",
   "id": "db4bc28e",
   "metadata": {},
   "source": [
    "Detector 3\n",
    "===="
   ]
  }
 ],
 "metadata": {},
 "nbformat": 4,
 "nbformat_minor": 5
}
