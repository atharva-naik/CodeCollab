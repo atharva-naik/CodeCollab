{
 "cells": [
  {
   "cell_type": "markdown",
   "id": "aac89eac",
   "metadata": {},
   "source": [
    "And then elements are accessed by square brackets."
   ]
  },
  {
   "cell_type": "code",
   "execution_count": null,
   "id": "0d3a5521",
   "metadata": {},
   "outputs": [],
   "source": [
    "dict1[\"a\"]"
   ]
  },
  {
   "cell_type": "markdown",
   "id": "30d70ab2",
   "metadata": {},
   "source": [
    "Unlike lists, dictionaries can't be indexed by slices, or negative indexing, or anything like that.  The keys in a dictionary are treated as _unordered_, so there is no notion to sequence in the items of a dictionary.  We can use the same notation to assign new elements to the dictionary."
   ]
  },
  {
   "cell_type": "code",
   "execution_count": null,
   "id": "80489867",
   "metadata": {},
   "outputs": [],
   "source": [
    "dict1[\"d\"] = 4"
   ]
  },
  {
   "cell_type": "markdown",
   "id": "1a7f4742",
   "metadata": {},
   "source": [
    "Note that we can make this call even though `dict[\"d\"]` previously did not contain anything (and if we try to just execute this statement, it will throw an exception).  You can also check for a key belonging to a dictionary with the command:"
   ]
  },
  {
   "cell_type": "code",
   "execution_count": null,
   "id": "977e7bbc",
   "metadata": {},
   "outputs": [],
   "source": [
    "\"a\" in dict1"
   ]
  },
  {
   "cell_type": "markdown",
   "id": "42fd31c7",
   "metadata": {},
   "source": [
    "Finally, there is the analogue to list comprehensions: dictionary comprehensions.  These are specified similar to a list comprehension, but are denoted by the syntax `{key(item) : value(item) for item in list}`."
   ]
  },
  {
   "cell_type": "code",
   "execution_count": null,
   "id": "936a46da",
   "metadata": {},
   "outputs": [],
   "source": [
    "{i:i**2 for i in range(10)}"
   ]
  },
  {
   "cell_type": "markdown",
   "id": "d470f71d",
   "metadata": {},
   "source": [
    "### Dictionary internals\n",
    "\n",
    "Internally, dictionaries are represented using _hash tables_.  That is, the dictionary elements are all contained in a relatively small array.  When inserting a new element in the dictionary, we compute a _hash_ of the key, and modulo this number by the size of the array.  If that location in the underlying array is empty, we store the key/value pair at that index.  The the location is already with note _different_ element (which has to be possible, since there are more possible keys than the size of the underlying array) we execute what is called a \"probing strategy\" to find the next free slot.  The details of the hashing function and probing strategy aren't important (some info is on the page linked below), but the key portions are that the process is deterministic, so we can easily both assign elements and look up elements by key (similarly computing the hash and probing until the key at the location matches the key we are looking for ... note that this is why we need to store both the key _and_ value in the array).\n",
    "\n",
    "A good hash function will tend to generate \"random\" locations in the array, so there is a high probably we will find an empty slot without too many probing iterations.  In Python, once the array is 2/3 full, we double (or quadruple, for small-sized dictionaries) the size of the underlying array, and rebuild the hash table (which is required, since the location of different key/values pairs now changes for a different size of underlying array).  Just like with a list, although this rebuilding operation is slow, because it happens relatively infrequently, it does not end up costing too much time.  In big O notation, the operations of a dictionary all have (average case) constant time:\n",
    "\n",
    "- Insert new element: O(1)\n",
    "- Lookup element: O(1)\n",
    "- Delete element: O(1)\n",
    "\n",
    "More information about dictionary internals is here: [Python dictionary implementation](https://www.laurentluce.com/posts/python-dictionary-implementation/)"
   ]
  },
  {
   "cell_type": "markdown",
   "id": "25478a45",
   "metadata": {},
   "source": [
    "### Classes\n",
    "\n",
    "Although this section will not describe it in any detail, it will also be necessary to be familiar with classes in Python.  We will just mention a few notes about classes here, using this example:"
   ]
  },
  {
   "cell_type": "code",
   "execution_count": null,
   "id": "d205e0af",
   "metadata": {},
   "outputs": [],
   "source": [
    "class MyClass:\n",
    "    def __init__(self, n):\n",
    "        self.n = n\n",
    "    \n",
    "    def get_n(self):\n",
    "        return self.n\n",
    "\n",
    "a = MyClass(1)\n",
    "a.get_n()"
   ]
  },
  {
   "cell_type": "markdown",
   "id": "9e296046",
   "metadata": {},
   "source": [
    "The first note is that all functions within a Python class take an instance of that class as the first argument, usually named `self` in implementations (but it can be named anything).  Class methods and static methods (see the discussion in the list below) behave differently, but we won't be using those features much in this class.  The second thing of some importance is that unlike other object-oriented languages, Python does not actually have a distinction between \"public\" and \"private\" variables.  Although here it seems like the \"n\" variable should be private (inaccessible outside the class), and only accessible via the method `get_n()`, we can just as easily access it directly."
   ]
  },
  {
   "cell_type": "code",
   "execution_count": null,
   "id": "155ae4d8",
   "metadata": {},
   "outputs": [],
   "source": [
    "%%bash\n",
    "ls"
   ]
  },
  {
   "cell_type": "markdown",
   "id": "018ff21c",
   "metadata": {},
   "source": [
    "- Profile a function line-by-line with line profiler (may require that you install the necessary pip packages depending on whether it's included in your distribution or not).  Note that we need to call the additional magic command `%load_ext` to load this extension."
   ]
  },
  {
   "cell_type": "code",
   "execution_count": null,
   "id": "61c6f4ae",
   "metadata": {},
   "outputs": [],
   "source": [
    "%load_ext line_profiler"
   ]
  },
  {
   "cell_type": "code",
   "execution_count": null,
   "id": "1c8d26ca",
   "metadata": {},
   "outputs": [],
   "source": [
    "def function_to_profile():\n",
    "    print(sum(x**2 for x in range(1000)))\n",
    "    print(sum(x**3 for x in range(10000)))\n",
    "    \n",
    "%lprun -f function_to_profile function_to_profile()"
   ]
  },
  {
   "cell_type": "markdown",
   "id": "322e8b45",
   "metadata": {},
   "source": [
    "## Python-specific features for Practical Data Science\n",
    "\n",
    "In the remainder of this notebook (which as you go through it, should serve both as an illustration of some concepts in the Notebook, and a brief highlight of some of the relevant Python concepts we'll use frequently throughout this course.  Importantly, these notes are not meant to be a general tutorial on Python, which you are already expected to be familiar with.  If any of the basic Python concepts here seem difficult, we recommend you consult a standard [Python Tutorial](https://docs.python.org/3/tutorial/).  \n",
    "\n",
    "The most common \"built in\" data types you will interact with when doing data science work at lists and dictionaries (there are of course additional types like Numpy Arrays, Pandas Dataframes, and others, but these are provided by external libraries).  It's good to have a brief understanding of how to use these data structures effectively."
   ]
  },
  {
   "cell_type": "markdown",
   "id": "dce14ca9",
   "metadata": {},
   "source": [
    "### Lists\n",
    "\n",
    "Lists are denoted by items within square brackets."
   ]
  },
  {
   "cell_type": "code",
   "execution_count": null,
   "id": "bc38e1fd",
   "metadata": {},
   "outputs": [],
   "source": [
    "list1 = [\"a\", \"b\", \"c\", \"d\"]\n",
    "list2 = [1, 2, 3, \"4\", [1,2]]"
   ]
  },
  {
   "cell_type": "markdown",
   "id": "39bf5442",
   "metadata": {},
   "source": [
    "Items within a list can be accessed via several types of indexing: indexing to a given element, negative indexing (backward from the end of a list), and slice-based indexing that returns subsets of the list."
   ]
  },
  {
   "cell_type": "code",
   "execution_count": null,
   "id": "41232b39",
   "metadata": {},
   "outputs": [],
   "source": [
    "print(list1[0])\n",
    "print(list1[-1])\n",
    "print(list1[1:2])\n",
    "print(list1[0:4:2])\n",
    "for a in list1:\n",
    "    print(a)"
   ]
  },
  {
   "cell_type": "markdown",
   "id": "77e948a5",
   "metadata": {},
   "source": [
    "### List comprehensions\n",
    "\n",
    "One slightly less well-known construct that I use extremely frequently (so it may come up in both sample code and homework code), is the list comprehension.  Briefly, this a method for constructing a list by iterating over another list.  Let's suppose we wanted to create a `list3` object that included every element from `list1`, but with an underscore after each string.  We could do it by explicitly constructing the list and adding each element, like so."
   ]
  },
  {
   "cell_type": "code",
   "execution_count": null,
   "id": "78764829",
   "metadata": {},
   "outputs": [],
   "source": [
    "list3 = []\n",
    "for x in list1:\n",
    "    list3.append(x + \"_\")\n",
    "list3"
   ]
  },
  {
   "cell_type": "markdown",
   "id": "d95684dd",
   "metadata": {},
   "source": [
    "However, this quickly gets verbose, if we want to create several new lists this way.  We could get this same result through a list comprehension, which has the syntax `[some_expression(item) for item in list]`, and returns a new list by applying `some_expression` (not necessarily an actual function, just some expression that involves `item`) to each element of the list."
   ]
  },
  {
   "cell_type": "code",
   "execution_count": null,
   "id": "d7962186",
   "metadata": {},
   "outputs": [],
   "source": [
    "list3 = [x + \"_\" for x in list1]\n",
    "list3"
   ]
  },
  {
   "cell_type": "markdown",
   "id": "b200a223",
   "metadata": {},
   "source": [
    "As a slightly more complex example, let's use list comprehensions to count the number of words in a file.  The \"shakespeare.txt\" file included with this notebook contains test for all the collected works of Shakespeare.  Let's first read all the lines of Shakespeare into a file."
   ]
  },
  {
   "cell_type": "code",
   "execution_count": null,
   "id": "d940ad0f",
   "metadata": {},
   "outputs": [],
   "source": [
    "with open(\"shakespeare.txt\") as f:\n",
    "    lines = f.readlines()"
   ]
  },
  {
   "cell_type": "markdown",
   "id": "65d5f453",
   "metadata": {},
   "source": [
    "Now let's use a list comprehension to count the number of words in each line (given by `len(line.split())`, which splits the line by the space character), and then compute the sum of this whole list."
   ]
  },
  {
   "cell_type": "code",
   "execution_count": null,
   "id": "daed0e41",
   "metadata": {},
   "outputs": [],
   "source": [
    "sum([len(line.split(\" \")) for line in lines])"
   ]
  },
  {
   "cell_type": "markdown",
   "id": "ae748ea6",
   "metadata": {},
   "source": [
    "As a final node, if our only goal is to sum up the total number of words (rather than explicitly create the list containing the number of words in each line), we can omit the brackets from the call above, which creates what is called a _generator expression_.  This is like a list comprehension except that it doesn't actually instantiate the new list: it simply generates each element one at a time and (in this case) passes each to the `sum()` function."
   ]
  },
  {
   "cell_type": "code",
   "execution_count": null,
   "id": "3405c03b",
   "metadata": {},
   "outputs": [],
   "source": [
    "sum(len(line.split(\" \")) for line in lines)"
   ]
  },
  {
   "cell_type": "markdown",
   "id": "5e768d46",
   "metadata": {},
   "source": [
    "### List implmentation internals\n",
    "\n",
    "As a final note about lists, it is important for creating efficient Python code to understand a little bit about the nature of how lists are implemented internally.  Python lists are not really \"lists\" in the typical CS sense of the word, i.e., they are not linked lists or some structure like this.  Instead, a Python list is really a _dynamically sized array_.  That is, a list is an array of fixed-size elements (more precisely, it is an array of abstract \"Python Object\" elements, which in turn point to numbers, strings, other arrays, etc, while having the actual array elements in the list be fixed size).  The arrays are pre-allocated to have a certain amount of \"extra elements\" that can be used to add new items to the list; if we want to append a new item to the list, and do not have enough room in the underlying array, it is resized with some additional buffer (for example, the underlying size could be doubled ... though in reality Python uses a slightly more involved growth algorithm than just doubling each time) to allow for the additional elements.  Because this resizing happens relatively infrequently, it does not cost much from a computational perspective.  Put in big O notation, the following operations are lists are all constant time:\n",
    "\n",
    "- Append: O(1) (average case)\n",
    "- Lookup: O(1)\n",
    "- Delete last element: O(1)\n",
    "\n",
    "On the other hand, if you attempt to insert a new element somewhere in the middle of the list (shifting down later element), or delete an item in the middle of the list (shifting up later elements), these operations are expensive, because we need to copy every single item in the list after the inserted or deleted item, and move it in memory.  In big O notation, the following operations take linear time:\n",
    "\n",
    "- Insert element at arbitrary position: O(n)\n",
    "- Delete element at arbitrary position: O(n)\n",
    "\n",
    "As an illustration of this, let's consider two versions of code that creates an array, either by appending or inserting (at the beginning of the list) new elements:"
   ]
  },
  {
   "cell_type": "code",
   "execution_count": null,
   "id": "58cc4ba0",
   "metadata": {},
   "outputs": [],
   "source": [
    "%%timeit\n",
    "all_words = []\n",
    "for line in lines[:10000]:\n",
    "    for word in line.split():\n",
    "        all_words.insert(0, word)"
   ]
  },
  {
   "cell_type": "code",
   "execution_count": null,
   "id": "c2194423",
   "metadata": {},
   "outputs": [],
   "source": [
    "%%timeit\n",
    "all_words = []\n",
    "for line in lines[:10000]:\n",
    "    for word in line.split():\n",
    "        all_words.append(word)"
   ]
  },
  {
   "cell_type": "markdown",
   "id": "23beeb6f",
   "metadata": {},
   "source": [
    "The second version is about 100x faster than the first.  This type of speed difference can be crucial when you write data processing loops.\n",
    "\n",
    "A good page with further explanation about the internals of Python lists here (more technical than you need for this class certainly, but for those who are curious): [Python list implementation](https://www.laurentluce.com/posts/python-list-implementation/)."
   ]
  },
  {
   "cell_type": "markdown",
   "id": "3abae44d",
   "metadata": {},
   "source": [
    "### Dictionaries\n",
    "\n",
    "The next main built in data type you'll use in data science is the dictionary.  Dictionaries are mappings from keys to values, where keys can be any \"immutable\" Python type (most commonly strings, numbers, booleans, tuples ... but importantly _not_ lists or other dictionaries), and values can be any python type (including lists or dictionaries).\n",
    "\n",
    "Dictionaries can be created with curly brackets, like the following:"
   ]
  },
  {
   "cell_type": "code",
   "execution_count": null,
   "id": "837619fa",
   "metadata": {},
   "outputs": [],
   "source": [
    "dict1 = {\"a\":1, \"b\":2, \"c\":3}"
   ]
  },
  {
   "cell_type": "code",
   "execution_count": null,
   "id": "d8960c6a",
   "metadata": {},
   "outputs": [],
   "source": [
    "a.n"
   ]
  },
  {
   "cell_type": "markdown",
   "id": "3ef79a40",
   "metadata": {},
   "source": [
    "This means that Python doesn't really respect the traditional object-oriented abstractions (they are more just rules of thumb, that can be overridden by any code that wants to).  Be careful of this fact if you're used to classes in more structured languages like C++ or Java."
   ]
  },
  {
   "cell_type": "markdown",
   "id": "407d35d0",
   "metadata": {},
   "source": [
    "## Visualizations in notebook (preview)\n",
    "\n",
    "While we are going to have an entire lecture on visualization, much of which will come with examples on how to generate visualizations in the notebook, I want to give a quick preview here of how we can generate figures inline in the notebook.  The \"magic\" commands here are the following, first to import a relevant plotting library, then a cell magic command that instructs Jupyter to plot figures in the notebook."
   ]
  },
  {
   "cell_type": "code",
   "execution_count": null,
   "id": "5c06a7fc",
   "metadata": {},
   "outputs": [],
   "source": [
    "import matplotlib.pyplot as plt\n",
    "%matplotlib notebook"
   ]
  },
  {
   "cell_type": "markdown",
   "id": "a6dd8c2c",
   "metadata": {},
   "source": [
    "Now let's plot a simple sine wave (using `numpy`, which we'll also cover more later, but hopefully this notation is clear)."
   ]
  },
  {
   "cell_type": "markdown",
   "id": "3eb6ac18",
   "metadata": {},
   "source": [
    "### Getting help\n",
    "\n",
    "This was touched upon in the previous list of commands, but is important enough to warrant further discussion.  One of the nicer elements of the notebook editor is it's built-in support for code autocompletion and function lookup.  After writing some portion of code, you can press the \"tab\" key to autocomplete: if there is only one viable completion of the word you are currently typing, it will simply complete the word.  If there are multiple viable predictions, then it will open a popup menu where you can view all possible completions.  The later is useful for quickly browsing through all functions or variables in a library/object.\n",
    "\n",
    "The second useful command is the inline help popup.  After typing a function name, you can get help for that function by pressing \"Shift-Tab\".  This will bring up a popup with a brief description of the function.  If you want additional help, it may be available for some functions by clicking the <i class=\"fa fa-chevron-up\"></i> button in the top right of the help popup."
   ]
  },
  {
   "cell_type": "markdown",
   "id": "bc1a0aa9",
   "metadata": {},
   "source": [
    "### Cell magics\n",
    "\n",
    "In addition to running Python code, the Jupyter Notebook has some built-in routines for performing operations outside of Python, timing or analyzing code runs, etc.  These \"cell magics\" are prefaced by `%` (at the beginning of a line ... this is technically called a \"line magic\", but I usually see both cases referred to as cell magics) for single-line magics and `%%` at the beginning of a cell for whole-cell magics.  We won't cover very many of these, but some are very useful and so you should be familiar with the basics.  A much more exhaustive list of cell magics is here: [Built-in cell magics](http://ipython.readthedocs.io/en/stable/interactive/magics.html).\n",
    "\n",
    "- Time operations with `%timeit` (for single line), `%%timeit` (for the whole cell).  This command will run the line or cell _multiple_ times and provide average timing.  It is adaptive, so that operations that take less time are run more often, so as to provide a better estimate of the run time (thus, the time it takes to run run this command is not indicative of the actual time it takes to run the code.  If you want to just time a single pass, using `%time` or `%%time`."
   ]
  },
  {
   "cell_type": "code",
   "execution_count": null,
   "id": "aaa9cc1d",
   "metadata": {},
   "outputs": [],
   "source": [
    "%time sum(x**2 for x in range(10000))"
   ]
  },
  {
   "cell_type": "markdown",
   "id": "f0185083",
   "metadata": {},
   "source": [
    "- Execute bash commands with `%%bash`.  Use this very sparingly, as it effectively executes shell commands outside the actual notebook environment, and makes the notebook potentially platform-dependent."
   ]
  },
  {
   "cell_type": "code",
   "execution_count": null,
   "id": "fb2cd1e7",
   "metadata": {},
   "outputs": [],
   "source": [
    "square(4)"
   ]
  },
  {
   "cell_type": "markdown",
   "id": "3dda6215",
   "metadata": {},
   "source": [
    "### Efficient navigation in the notebook\n",
    "\n",
    "Because you'll be spending a lot of timing writing code in the notebook, it helps to become at least a little bit familiar with the features of the editor.  While the notebook in many ways makes a poor actual code editing environment (compared to more fully featured editors ranging from Sublime, vi, Emacs, Atom, etc), it's not that bad if you familiarize yourself with some of the keyboard shortcuts.\n",
    "\n",
    "You can look up all the keyboard shortcuts (in addition to adding your own) in the \"Help -> Keyboard Shortcuts\" menu, but some of the more common ones I use are the following.  First, though, it is important to distinguish between the \"edit mode\" (when directly editing a cell) and \"command mode\" (navigating over cells).  You can switch between these using \"ESC\" or \"Ctrl-M\" (switch to command mode) and \"Enter\" (switch to edit more).\n",
    "\n",
    "Common keyboard shortcuts in command mode:\n",
    "- \"x\": delete a cell (though be careful, because you can only undo the deletion of one cell)\n",
    "- \"a\": insert new cell above\n",
    "- \"b\": insert new cell below\n",
    "- \"m\": convert cell to Markdown\n",
    "- \"y\": convert cell to code\n",
    "- Up/down: navigate up and down over cells\n",
    "- Shift-Enter, Ctrl-Enter: execute cell (also works in edit mode)\n",
    "\n",
    "Common shortcuts in edit mode:\n",
    "- Ctrl-up/Ctrl-down: move to start/end of cell\n",
    "- Tab: indent selected area (when text is selected) or autocomplete (when editing in the middle of a line)\n",
    "- Shift-Tab: unindent selected area (when text is selected), get function help (when following a function name)\n",
    "- Command-/: toggle comment/uncommand selected region\n",
    "\n",
    "The best way to familiarize yourself with these commands is to try to use the notebook entirely without using the mouse.  In practice, you'll often rely on the mouse for some things (for instance, I prefer to have commands like restarting the kernel require a mouse click), but trying to avoid it for some time will get you familiar enough with the common commands to be fairly productive in the Notebook editing environment."
   ]
  }
 ],
 "metadata": {},
 "nbformat": 4,
 "nbformat_minor": 5
}
