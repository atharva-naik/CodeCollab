{
 "cells": [
  {
   "cell_type": "markdown",
   "id": "95eab61e",
   "metadata": {},
   "source": [
    "# Numpy and Matplotlib essential"
   ]
  },
  {
   "cell_type": "markdown",
   "id": "69ba19bf",
   "metadata": {},
   "source": [
    "As suggested in one of the previous challenge, the library *numpy* is providing a very similar object than the list called *array*. The main difference is in the operation you can realise on it which are oriented towards computation. \n",
    "\n",
    "In this lesson we are going to learn a little more how to use this fundamental library to do any numerical analysis in Python.\n",
    "\n",
    "Numpy extend the Python langage by providing new type (array, matrix, masked_array...), functions and method to realise efficient numerical calculation using Python.\n",
    "\n",
    "The most basic numpy type is called *array*. The most basic array is a multi-dimensional object which contains numerical data."
   ]
  },
  {
   "cell_type": "markdown",
   "id": "a269ecc2",
   "metadata": {},
   "source": [
    "[Numpy](http://www.numpy.org/) is **the** numerical library for Python. This library is too big to be taught in a day. That will be extremely boring and not useful at all. \n",
    "\n",
    "This library is at the base of all the other libraries used in science and data science: \n",
    "\n",
    "- [scipy](https://www.scipy.org/) Fundamental library for scientific computing (interation, optimisation...)\n",
    "- [pandas](http://pandas.pydata.org/) data structure and data analysis tools\n",
    "- [matplotlib](https://matplotlib.org/) Python 2D plotting\n",
    "\n",
    "And more specialised one like:\n",
    "\n",
    "- [astropy](http://www.astropy.org/) for the astronomy\n",
    "- [h5py](https://www.h5py.org/) to interact with the HDF5 format\n",
    "- [scikit-learn](http://scikit-learn.org/) for Machine Learning\n",
    "- [TensorFlow](https://www.tensorflow.org) for Deep Learning\n",
    "\n",
    "We are going to learn some of the basic command not seen in the first course using some of these libraries but keep in mind that we are just covering the basics so you can understand how to start using this library and hoping that will peak your interest enough."
   ]
  },
  {
   "cell_type": "markdown",
   "id": "14290eb1",
   "metadata": {},
   "source": [
    "To start, we are going to import the two libraries *numpy* and *matplotlib* that will be use in this episode."
   ]
  },
  {
   "cell_type": "markdown",
   "id": "f3d2df83",
   "metadata": {},
   "source": [
    "**note**\n",
    "\n",
    "HDUList are not object that you are familiar with."
   ]
  },
  {
   "cell_type": "markdown",
   "id": "6020db5b",
   "metadata": {},
   "source": [
    "We can access the first HDU (the one of interest) which contains the image as an element in a list using the index:"
   ]
  },
  {
   "cell_type": "code",
   "execution_count": null,
   "id": "0f2f365e",
   "metadata": {},
   "outputs": [],
   "source": [
    "HDU_copy1 = im1[0]     # As mention an HDU is a list and we want to have access to the first one."
   ]
  },
  {
   "cell_type": "markdown",
   "id": "b1ef78a1",
   "metadata": {},
   "source": [
    "It is also possible to access it by using it's name (or key) as in a dictionary: "
   ]
  },
  {
   "cell_type": "code",
   "execution_count": null,
   "id": "96b36dda",
   "metadata": {},
   "outputs": [],
   "source": [
    "HDU_copy2 = im1['PRIMARY']  # HDU can also be accessed through their name like dictionary"
   ]
  },
  {
   "cell_type": "markdown",
   "id": "cb0dfd68",
   "metadata": {},
   "source": [
    "We can verified that both copy are the same."
   ]
  },
  {
   "cell_type": "code",
   "execution_count": null,
   "id": "3c48a267",
   "metadata": {},
   "outputs": [],
   "source": [
    "HDU_copy1 == HDU_copy2"
   ]
  },
  {
   "cell_type": "markdown",
   "id": "8dc54e54",
   "metadata": {},
   "source": [
    "Fits data, as most of scientific data images containers, are composed with a header and a data part. The header contains metadata relevant to the observations and to the data itself. You can print them on screen by using the attribute *header*."
   ]
  },
  {
   "cell_type": "code",
   "execution_count": null,
   "id": "7d0a08f6",
   "metadata": {},
   "outputs": [],
   "source": [
    "im1[0].header"
   ]
  },
  {
   "cell_type": "markdown",
   "id": "b2a84d2b",
   "metadata": {},
   "source": [
    "To access the data itself (here an image of a nebulae), it is similar but the attribute is called *data*"
   ]
  },
  {
   "cell_type": "code",
   "execution_count": null,
   "id": "6ed9b140",
   "metadata": {},
   "outputs": [],
   "source": [
    "imdata = im1[0].data\n",
    "print(type(imdata))"
   ]
  },
  {
   "cell_type": "markdown",
   "id": "1721484e",
   "metadata": {},
   "source": [
    "We can use matplotlib to show what the image look like"
   ]
  },
  {
   "cell_type": "code",
   "execution_count": null,
   "id": "b55a00ac",
   "metadata": {},
   "outputs": [],
   "source": [
    "plt.imshow(imdata, origin='lower', cmap='gray')\n",
    "plt.colorbar()"
   ]
  },
  {
   "cell_type": "markdown",
   "id": "5af03c21",
   "metadata": {},
   "source": [
    "It is difficult to see anything on that image. This happen very often in astronomical images where very bright objects are saturating the CCD and a linear output will show a limited number of pixel because of contrast. \n",
    "\n",
    "We are going to improve the visible output by doing some simple analysis on the image which will help to side step the contrast problem."
   ]
  },
  {
   "cell_type": "code",
   "execution_count": null,
   "id": "d5db198f",
   "metadata": {},
   "outputs": [],
   "source": [
    "print('mean value im1:', imdata.mean())\n",
    "print('median value im1:', np.median(imdata))  # Note: median is not provided by a method!\n",
    "print('max value im1:', imdata.max())\n",
    "print('min value im1:', imdata.min())"
   ]
  },
  {
   "cell_type": "markdown",
   "id": "433b6e33",
   "metadata": {},
   "source": [
    "The previous result are giving us some useful informations. We can see that the range between the minimum and maximum value is really big and also that the maximum value is very far from the median or median value in a pixel. That probably means that a very small amount of pixels has very high value.\n",
    "\n",
    "We can check it by plotting an histogram which will give us the number of pixel per number of photons."
   ]
  },
  {
   "cell_type": "code",
   "execution_count": null,
   "id": "218dad7b",
   "metadata": {},
   "outputs": [],
   "source": [
    "hist = plt.hist(imdata.ravel(), bins=100)\n",
    "plt.show()"
   ]
  },
  {
   "cell_type": "markdown",
   "id": "f8392960",
   "metadata": {},
   "source": [
    "The histogram confirm our suspicion but we can improve the visualisation by plotting in logarithm."
   ]
  },
  {
   "cell_type": "code",
   "execution_count": null,
   "id": "6cf0d4f4",
   "metadata": {},
   "outputs": [],
   "source": [
    "hist = plt.hist(imdata.ravel(), bins=100)\n",
    "plt.yscale('log')"
   ]
  },
  {
   "cell_type": "markdown",
   "id": "b9a087c5",
   "metadata": {},
   "source": [
    "We can also modify manually the upper limit in number of pixel with photons (y axis) using the method ylim:"
   ]
  },
  {
   "cell_type": "code",
   "execution_count": null,
   "id": "45bd80a4",
   "metadata": {},
   "outputs": [],
   "source": [
    "hist = plt.hist(imdata.ravel(), bins=100)\n",
    "plt.ylim(0,1e5)"
   ]
  },
  {
   "cell_type": "markdown",
   "id": "598fe73f",
   "metadata": {},
   "source": [
    "It is also possible to limit the range in the number of photons in a pixel (x axis) using the *range* argument in the *hist* function:"
   ]
  },
  {
   "cell_type": "code",
   "execution_count": null,
   "id": "bd7df678",
   "metadata": {},
   "outputs": [],
   "source": [
    "hist = plt.hist(imdata.ravel(), bins=100, range=(1,30))\n",
    "plt.ylim(0,1e5)"
   ]
  },
  {
   "cell_type": "markdown",
   "id": "81107da2",
   "metadata": {},
   "source": [
    "Using the previous graphic we can limit the range in photons in plotting the previous image and improve the contrast using the *vmax* argument: "
   ]
  },
  {
   "cell_type": "code",
   "execution_count": null,
   "id": "e863d3ef",
   "metadata": {},
   "outputs": [],
   "source": [
    "plt.imshow(imdata, origin='lower', cmap='gray', vmax=25)\n",
    "plt.colorbar()"
   ]
  },
  {
   "cell_type": "markdown",
   "id": "647b48b8",
   "metadata": {},
   "source": [
    "The next plots does not provide a lot of informations useful in our analysis but it is a classical plot that you can obtain with some visualisation tool. It sum the columns and the lines of the images and divide by the number of pixels in the direction. with this plot you can distinguish the 2 bright objects (stars) which are located for the first one in the lower left part of the imae and the second one, the brightest, which is more central."
   ]
  },
  {
   "cell_type": "code",
   "execution_count": null,
   "id": "55770949",
   "metadata": {},
   "outputs": [],
   "source": [
    "plt.plot(imdata.sum(axis=0)/imdata.shape[0], label='axis0')\n",
    "plt.plot(imdata[:,::-1].sum(axis=1)/imdata.shape[1], label='axis1')\n",
    "plt.legend()"
   ]
  },
  {
   "cell_type": "markdown",
   "id": "350c171d",
   "metadata": {},
   "source": [
    "Another option to improve the contrast visually is to plot the image after a conversion in logarithm (that will flatten the image). The problem is that the image can have negative value. The  *imdata - imdata.min() + 1* assure that every value in the image will be strictly greater than 0."
   ]
  },
  {
   "cell_type": "code",
   "execution_count": null,
   "id": "d57c9e20",
   "metadata": {},
   "outputs": [],
   "source": [
    "logim = np.log(imdata - imdata.min() + 1)\n",
    "plt.imshow(logim, origin='lower', cmap='gray')"
   ]
  },
  {
   "cell_type": "markdown",
   "id": "f957774e",
   "metadata": {},
   "source": [
    "## Masked array"
   ]
  },
  {
   "cell_type": "markdown",
   "id": "75371707",
   "metadata": {},
   "source": [
    "Numpy is providing an extremely useful tool called **masked array**. This tool associated to a numpy array another array composed only of boolean value (**True** or **False**) which indicate to numpy to use (or not) the specific element.\n",
    "\n",
    "We are going to see how it can be used in our case study:"
   ]
  },
  {
   "cell_type": "code",
   "execution_count": null,
   "id": "139f5893",
   "metadata": {},
   "outputs": [],
   "source": [
    "immasked = np.ma.masked_greater(imdata, 25)\n",
    "\n",
    "#mask = imdata > 25\n",
    "#masked1 = np.ma.array(imdata, mask=mask)\n",
    "\n",
    "print(immasked)"
   ]
  },
  {
   "cell_type": "markdown",
   "id": "5d200fe3",
   "metadata": {},
   "source": [
    "Matplotlib is aware of this numpy object and will plot the image by looking **only** at the pixels with the value **True** in the associated mask:"
   ]
  },
  {
   "cell_type": "markdown",
   "id": "1744e02a",
   "metadata": {},
   "source": [
    "Now we are going to add some random noise to that curve. \n",
    "To do it we can use the numpy function *normal* from the module *random* provided by numpy library:"
   ]
  },
  {
   "cell_type": "code",
   "execution_count": null,
   "id": "04505af7",
   "metadata": {},
   "outputs": [],
   "source": [
    "g = 100*g   # To have something visible we are multiplying the function by 100.\n",
    "\n",
    "# Creation of the noise\n",
    "noisy = np.random.normal(g)\n",
    "plt.plot(x, g+noisy)\n",
    "plt.show()"
   ]
  },
  {
   "cell_type": "markdown",
   "id": "14e9960a",
   "metadata": {},
   "source": [
    "We can calculate the Signal to Noise ratio of the previous data set by dividing the noisy function by the standard deviation (the noise)."
   ]
  },
  {
   "cell_type": "code",
   "execution_count": null,
   "id": "db0b96c4",
   "metadata": {},
   "outputs": [],
   "source": [
    "rms = np.std(noisy) # root mean square\n",
    "SN = noisy / rms\n",
    "plt.plot(SN)\n",
    "plt.show()"
   ]
  },
  {
   "cell_type": "code",
   "execution_count": null,
   "id": "920a6023",
   "metadata": {},
   "outputs": [],
   "source": [
    "mask = SN < 1\n",
    "print(mask[:5])\n",
    "print(mask.shape)\n",
    "noisy_ma = np.ma.array(noisy, mask=mask)\n",
    "plt.plot(noisy_ma)\n",
    "plt.show()"
   ]
  },
  {
   "cell_type": "markdown",
   "id": "0849fdbd",
   "metadata": {},
   "source": [
    "# Working with images"
   ]
  },
  {
   "cell_type": "markdown",
   "id": "956ea94f",
   "metadata": {},
   "source": [
    "We are going to learn some commands to deal with images. Since most of the scientific domain are using their own file format, we obviously not learn all of them and I will use it an astronomical image using the format used mainly in this domain, the fits file. \n",
    "\n",
    "In the *data* directory you should find a file called *502nmos.fits*. \n",
    "\n",
    "We can verify that the file is indeed here:"
   ]
  },
  {
   "cell_type": "code",
   "execution_count": null,
   "id": "45975fed",
   "metadata": {},
   "outputs": [],
   "source": [
    "ls *.fits"
   ]
  },
  {
   "cell_type": "markdown",
   "id": "14e3e98e",
   "metadata": {},
   "source": [
    "To be able to manipulate data in this file, we need to import a library which will be able to open the file and put the data in a numpy array. \n",
    "\n",
    "This is a good occasion to install a new library. To realise that, open a terminal. On Microsoft Windows, can you start the **Anaconda prompt** software: \n",
    "\n",
    "![MS Windows terminal](images/anaconda-prompt.png \"Anaconda Prompt terminal\")\n",
    "\n",
    "On Unix system, you can start a terminal or having one started through the Jupyter notebook:\n",
    "\n",
    "![Starting a Terminal with Jupyter](images/jupyter_terminal.png \"Starting a terminal with Jupyter Notebook\")\n",
    "\n",
    "![Terminal using Jupyter](images/jupyter_terminal2.png \"Terminal with Jupyter Notebook\")\n",
    "\n",
    "We are going to use the command **pip** which will allows you to install any package available on the python software repository: [Pypi](https://pypi.python.org/pypi). Here we will install the library [pyfits](http://www.astropy.org/) which will provide us the tools to open the fits images files. \n",
    "\n",
    "**Note:**\n",
    "\n",
    "This is only an example to teach you how to install a library not yet available and how to open a specific image format. I am not expecting you to use this specific library in the furutre. Each domain, has their own file format (most of the time): \n",
    "\n",
    "- [NetCDF](https://www.unidata.ucar.edu/netcdf/)\n",
    "- [HDF5](https://www.hdfgroup.org/HDF5/)\n",
    "- MS Excel\n",
    "- SQL\n",
    "- ...\n",
    "\n",
    "All of these formats can be open using python but you will have to install an additional library to do it.\n",
    "\n",
    "In the previously open terminal:\n",
    "\n",
    "```bash\n",
    "\n",
    "pip install -U pyfits --user\n",
    "```\n",
    "\n",
    "\n",
    "The *pip* command will look at the *pypi* repository if the library *pyfits* is available, the *-U* option will look if there are an upgrade available (if *pyfits* is already present on your system) and the *--user* option will install the library in the user account not on the system wide (you do not have to be administrator to install a new python library)."
   ]
  },
  {
   "cell_type": "markdown",
   "id": "4d095438",
   "metadata": {},
   "source": [
    "<div style='background:#B1E0A8; padding:10px 10px 10px 10px;'>\n",
    "<H2> Challenges </H2>\n",
    "\n",
    " <ol>\n",
    " <li>\n",
    " What is the main format for your data?\n",
    " </li>\n",
    " <li>\n",
    " Find a python library which will allows you to open this format and convert it in a numpy array.\n",
    " </li>\n",
    " </div>"
   ]
  },
  {
   "cell_type": "markdown",
   "id": "88c5e65c",
   "metadata": {},
   "source": [
    "Some available libraries:\n",
    "\n",
    "- FITS, VOTable...: [astropy](http://docs.astropy.org/en/stable/index.html#files-i-o-and-communication)\n",
    "- CSV, HDF5, MS Excel, SQL...: [pandas](http://pandas.pydata.org/pandas-docs/stable/io.html)\n",
    "- NetCDF: [netcdf4](http://unidata.github.io/netcdf4-python/)\n",
    "- Matlab mat: [scipy](https://docs.scipy.org/doc/scipy/reference/tutorial/io.html)\n",
    "- Tiff: [Pillow](https://pillow.readthedocs.io/en/latest/), [pylibtiff](https://github.com/pearu/pylibtiff),[matplotlib]()..."
   ]
  },
  {
   "cell_type": "markdown",
   "id": "e378477d",
   "metadata": {},
   "source": [
    "We are going to the data directory:"
   ]
  }
 ],
 "metadata": {},
 "nbformat": 4,
 "nbformat_minor": 5
}
