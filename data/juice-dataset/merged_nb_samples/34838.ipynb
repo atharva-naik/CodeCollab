{
 "cells": [
  {
   "cell_type": "markdown",
   "id": "e5de4196",
   "metadata": {},
   "source": [
    "# Getting Started with ``spore``"
   ]
  },
  {
   "cell_type": "markdown",
   "id": "e47e11e7",
   "metadata": {},
   "source": [
    "``spore`` is a set of modules/classes/functions to self-consistently create low-frequency radio interferometric EoR foreground models and analyse them in different ways.\n",
    "It centres around 3 basic tasks, each implemented as its own sub-package, which can interact to some degree: \n",
    "1. ``model``: define individual foreground model components analytically, and combine them analytically.\n",
    "2. ``mock``: combine different ``model``s to produce a sampled realisation of the sky.\n",
    "3. ``measure``: given a realisation of the sky (either a result from a ``mock`` or from some external simulation), make measurements of the power spectrum on it.\n",
    "\n",
    "``spore`` also contains a sub-package dedicated to visualising these results."
   ]
  },
  {
   "cell_type": "markdown",
   "id": "55b72acf",
   "metadata": {},
   "source": [
    "In this notebook we'll show some simple examples of how to use the above three sub-packages, focusing on creating ``model``s. First, we'll do a few imports to set us up."
   ]
  },
  {
   "cell_type": "code",
   "execution_count": null,
   "id": "5f2151e0",
   "metadata": {},
   "outputs": [],
   "source": [
    "import numpy as np\n",
    "from spore.mock.foregrounds import PointSourceForegrounds, PointSourceForegroundsDirect\n",
    "\n",
    "import matplotlib.pyplot as plt\n",
    "from matplotlib.colors import LogNorm\n",
    "%matplotlib inline\n",
    "\n",
    "%load_ext autoreload\n",
    "%autoreload 2"
   ]
  },
  {
   "cell_type": "markdown",
   "id": "a26a9580",
   "metadata": {},
   "source": [
    "## Model"
   ]
  },
  {
   "cell_type": "markdown",
   "id": "fdf97685",
   "metadata": {},
   "source": [
    "At this time, ``spore`` defines 4 kinds of models (we'll call them component models): beam models, source counts, spatial distributions, and spectral index distributions. They are imported as follows:"
   ]
  },
  {
   "cell_type": "code",
   "execution_count": null,
   "id": "487ee2d2",
   "metadata": {},
   "outputs": [],
   "source": [
    "from spore.model import beam, source_counts, spatial_dist, spectral_index"
   ]
  },
  {
   "cell_type": "markdown",
   "id": "c0cc5033",
   "metadata": {},
   "source": [
    "Each module comprises a base component class, along with some number of specific models for that component. The idea behind this layout is that you can define your own specific models for that component in your own code, by subclassing the base component class and following its API. Let's have a brief look at each component."
   ]
  },
  {
   "cell_type": "markdown",
   "id": "1f9a4c88",
   "metadata": {},
   "source": [
    "### Beam Models"
   ]
  },
  {
   "cell_type": "markdown",
   "id": "975cf636",
   "metadata": {},
   "source": [
    "The base component class for beam models is ``Beam``. It's input API is such that 1 necessary parameter is present: ``nu0`` which defines the reference frequency for the beam parameters.\n",
    "\n",
    "The main output API that the subclass must implement is ``beam``, which takes a vector of ``l`` (and optionally ``m``) and evaluates beam attenuation at those co-ordinates, at frequency ``f0`` which defines the frequency (as a ratio to ``nu0``) at which the beam quantities are to be evaluated. This latter can be an array. If so, the returned array has an extra dimension (which can get quite large very quickly)."
   ]
  },
  {
   "cell_type": "markdown",
   "id": "8fb3da2a",
   "metadata": {},
   "source": [
    "The obvious simple model is a Circular Gaussian beam, and this is implemented within the class. To call it, use"
   ]
  },
  {
   "cell_type": "code",
   "execution_count": null,
   "id": "e6491b3d",
   "metadata": {},
   "outputs": [],
   "source": [
    "pl_source_counts.dnds(0.5)"
   ]
  },
  {
   "cell_type": "markdown",
   "id": "a77f2188",
   "metadata": {},
   "source": [
    "In addition, one can evaluate any moment of the source counts (defined as $\\mu_n = \\int S^n \\frac{dN}{dS} dS$):"
   ]
  },
  {
   "cell_type": "code",
   "execution_count": null,
   "id": "ddefcde8",
   "metadata": {},
   "outputs": [],
   "source": [
    "pl_source_counts.mu(1)"
   ]
  },
  {
   "cell_type": "markdown",
   "id": "b206d2dd",
   "metadata": {},
   "source": [
    "Finally, one can sample the source counts (at $\\nu_0$):"
   ]
  },
  {
   "cell_type": "code",
   "execution_count": null,
   "id": "c5504bb8",
   "metadata": {},
   "outputs": [],
   "source": [
    "fluxes = pl_source_counts.sample_source_counts(10000)\n",
    "\n",
    "plt.hist(np.log10(fluxes.value),bins=50)\n",
    "plt.yscale('log')\n",
    "plt.xlabel(\"Log10 Flux Density\")"
   ]
  },
  {
   "cell_type": "markdown",
   "id": "0cbf5279",
   "metadata": {},
   "source": [
    "### Spectral Index"
   ]
  },
  {
   "cell_type": "markdown",
   "id": "48b67cc7",
   "metadata": {},
   "source": [
    "At this point, there are only a couple of spectral index distribution models. Note that these all assume that a source has a power-law SED within the bandwidth of interest. Perhaps later versions will generalise to more complicated SED's. The most common/easy spectral index distribution is the universal one (i.e. every source has the same spectral index):"
   ]
  },
  {
   "cell_type": "code",
   "execution_count": null,
   "id": "21fd6797",
   "metadata": {},
   "outputs": [],
   "source": [
    "spec_index_dist = spectral_index.UniversalDist(0.8)"
   ]
  },
  {
   "cell_type": "markdown",
   "id": "1b9dc755",
   "metadata": {},
   "source": [
    "This object has a method to sample this distribution:"
   ]
  },
  {
   "cell_type": "code",
   "execution_count": null,
   "id": "28646e87",
   "metadata": {},
   "outputs": [],
   "source": [
    "spec_index_dist.sample(n=10)"
   ]
  },
  {
   "cell_type": "markdown",
   "id": "3cf3ceb8",
   "metadata": {},
   "source": [
    "### Spatial Distributions"
   ]
  },
  {
   "cell_type": "markdown",
   "id": "e8296359",
   "metadata": {},
   "source": [
    "There are two fundamentally different kinds of spatial distribution -- those that have shot noise from the discreteness of sources, and those that do not. All of these are contained in the ``spatial_dist`` module, and are subclassed from the ``SpatialDistribution`` base component class.\n",
    "\n",
    "We'll use an example of both here:"
   ]
  },
  {
   "cell_type": "code",
   "execution_count": null,
   "id": "09437ae6",
   "metadata": {},
   "outputs": [],
   "source": [
    "pure_sky = spatial_dist.PureClustering_FlatSky(f0 = 1., # Frequencies (as ratios to ref. freq.) to evaluate sky at.\n",
    "                                               sky_size = 2.0,             # Size of sky in l,m co-ordinates\n",
    "                                               ncells = 256,              # Number of grid cells along a side \n",
    "                                               seed = 1234,                # Optional seed to enforce the same realisation on every run\n",
    "                                               power_spectrum = lambda u : (u/0.1)**-2.0   # A function defining an isotropic power spectrum of sources as a function of scale u.\n",
    "                                              )\n",
    "\n",
    "# Define poisson sky with all the same parameters\n",
    "poisson_sky = spatial_dist.PoissonClustering_FlatSky(\n",
    "                                               f0 = 1.,\n",
    "                                               sky_size = 2.0,             \n",
    "                                               ncells = 256,              \n",
    "                                               seed = 1234,                \n",
    "                                               power_spectrum = lambda u : (u/0.1)**-2.0\n",
    "                                              )\n"
   ]
  },
  {
   "cell_type": "markdown",
   "id": "981daf06",
   "metadata": {},
   "source": [
    "To create a uniformly distributed sky, one just needs to not pass the ``power_spectrum`` argument"
   ]
  },
  {
   "cell_type": "markdown",
   "id": "d311c38b",
   "metadata": {},
   "source": [
    "The most relevant method of these classes is ``sky``. It gives a grid of sky brightnesses, at all frequencies. One thing to keep in mind is the \"pure\" clustering classes have a different signature for this method. They require only a mean brightness (for all frequencies), whereas \"poisson\" classes require an array of source positions, fluxes and spectral indices. We'll show both here:"
   ]
  },
  {
   "cell_type": "code",
   "execution_count": null,
   "id": "118689e4",
   "metadata": {},
   "outputs": [],
   "source": [
    "fig, ax = plt.subplots(1,2, figsize=(10,7))\n",
    "\n",
    "# The pure clustering sky call.\n",
    "puresky = pure_sky.sky(sbar=[10.])\n",
    "\n",
    "# For poisson clustering, need a sample of positions. Poisson classes have a method to do this:\n",
    "source_pos = poisson_sky.source_positions(nbar=100000.)\n",
    "npos = len(source_pos[0])\n",
    "fluxes = np.random.uniform(size=npos)\n",
    "specs = 0.8 * np.ones(npos)\n",
    "\n",
    "poissonsky = poisson_sky.sky(source_pos, fluxes, specs)\n",
    "\n",
    "# Plot it up\n",
    "ax[0].imshow(puresky[0,:,:].T, extent=(pure_sky.lgrid[0].min().value,pure_sky.lgrid[0].max().value,pure_sky.lgrid[0].min().value,pure_sky.lgrid[0].max().value), origin='lower')\n",
    "ax[1].imshow(poissonsky[0,:,:].T, extent=(pure_sky.lgrid[0].min().value,pure_sky.lgrid[0].max().value,pure_sky.lgrid[0].min().value,pure_sky.lgrid[0].max().value), origin='lower')"
   ]
  },
  {
   "cell_type": "markdown",
   "id": "de1b065f",
   "metadata": {},
   "source": [
    "Of course, we can also plot say a scatter-plot of the source positions themselves:"
   ]
  },
  {
   "cell_type": "code",
   "execution_count": null,
   "id": "fe90e957",
   "metadata": {},
   "outputs": [],
   "source": [
    "plt.figure(figsize=(7.5,6))\n",
    "plt.scatter(source_pos[0], source_pos[1], s=1, c=fluxes, alpha = 0.3)\n",
    "plt.xlim(-1,1)\n",
    "plt.ylim(-1,1)\n",
    "plt.colorbar()"
   ]
  },
  {
   "cell_type": "markdown",
   "id": "25921d0b",
   "metadata": {},
   "source": [
    "From v0.0.3, there are also built-in classes for populating the sky treating solid-angles as equal, rather than $l,m$-coordinates. We'll show an example of this in the next section, but show here how to create them:"
   ]
  },
  {
   "cell_type": "code",
   "execution_count": null,
   "id": "dc130d17",
   "metadata": {},
   "outputs": [],
   "source": [
    "poisson_sky_sph = spatial_dist.PoissonClustering_Spherical(\n",
    "                                               f0 = 1.,\n",
    "                                               sky_size = 2.0,             \n",
    "                                               ncells = 256,              \n",
    "                                               seed = 1234,                \n",
    "                                               power_spectrum = lambda l : (l/0.3)**-2.0,\n",
    "                                               nside = 64,  # Resolution of underlying spherical HEALpix grid\n",
    "                                               lmax = 1000  # Resolution of power spectrum itself\n",
    "                                              )\n",
    "\n",
    "pure_sky_sph = spatial_dist.PureClustering_Spherical(\n",
    "                                               f0 = 1.,\n",
    "                                               sky_size = 2.0,             \n",
    "                                               ncells = 256,              \n",
    "                                               seed = 1234,                \n",
    "                                               power_spectrum = lambda l : (l/0.3)**-2.0,\n",
    "                                               nside = 64,  # Resolution of underlying spherical HEALpix grid\n",
    "                                               lmax = 1000  # Resolution of power spectrum itself\n",
    "                                              )\n"
   ]
  },
  {
   "cell_type": "markdown",
   "id": "b6b1ed6c",
   "metadata": {},
   "source": [
    "## Mock"
   ]
  },
  {
   "cell_type": "markdown",
   "id": "a2a32901",
   "metadata": {},
   "source": [
    "In this section, we put the models of the first section together to create a self-consistent mock. The way to do this should seem reasonably obvious by inspecting the spatial distribution setup, however, we wrap all of this in a single class. At this point, the class only deals with point-source foregrounds. To use it:"
   ]
  },
  {
   "cell_type": "code",
   "execution_count": null,
   "id": "b9d72687",
   "metadata": {},
   "outputs": [],
   "source": [
    "gaussbeam = beam.CircularGaussian(nu0=150., D=4.) #Note D is the diameter of the array tile."
   ]
  },
  {
   "cell_type": "markdown",
   "id": "82e8ddc7",
   "metadata": {},
   "source": [
    "One can evaluate attenuation at any co-ordinate:"
   ]
  },
  {
   "cell_type": "code",
   "execution_count": null,
   "id": "617eff90",
   "metadata": {},
   "outputs": [],
   "source": [
    "gaussbeam.beam(np.array([0]))"
   ]
  },
  {
   "cell_type": "code",
   "execution_count": null,
   "id": "965bd86d",
   "metadata": {},
   "outputs": [],
   "source": [
    "gaussbeam.beam(np.array([0]), np.array([0.2]))"
   ]
  },
  {
   "cell_type": "code",
   "execution_count": null,
   "id": "051a301a",
   "metadata": {},
   "outputs": [],
   "source": [
    "gaussbeam.beam(np.linspace(0,1,10), f0=np.array([1,1.5]))"
   ]
  },
  {
   "cell_type": "markdown",
   "id": "b70cc3bb",
   "metadata": {},
   "source": [
    "### Source Counts Models"
   ]
  },
  {
   "cell_type": "markdown",
   "id": "ccd60bac",
   "metadata": {},
   "source": [
    "The base component class for source counts is ``SourceCounts``. To it, one must pass ``Smin0`` (the faintest sources at ``nu0``), ``Smax0`` (the brightest sources at ``nu0``), ``f0`` and ``spectral_index``. Along with these, each subclass will define its own set of additional parameters. The simplest example is a power-law:"
   ]
  },
  {
   "cell_type": "code",
   "execution_count": null,
   "id": "6c69d1cc",
   "metadata": {},
   "outputs": [],
   "source": [
    "pl_source_counts = source_counts.PowerLawSourceCounts(Smin0=1e-2, Smax0=1.0, f0=1.0, # Default for spectral_index is 0.8\n",
    "                                                      alpha=6998.,  # Normalisation of powr=er-law\n",
    "                                                      beta =1.54   # Slope of power-law\n",
    "                                                     )"
   ]
  },
  {
   "cell_type": "markdown",
   "id": "3f6b0307",
   "metadata": {},
   "source": [
    "One can evaluate a few simple quantities:"
   ]
  },
  {
   "cell_type": "code",
   "execution_count": null,
   "id": "503ce0b4",
   "metadata": {},
   "outputs": [],
   "source": [
    "print(pl_source_counts.total_number_density)\n",
    "print(pl_source_counts.total_flux_density)\n",
    "print(pl_source_counts.total_squared_flux_density)"
   ]
  },
  {
   "cell_type": "markdown",
   "id": "234e6a79",
   "metadata": {},
   "source": [
    "One can evaluate the actual source counts at any flux density (at $\\nu_0$):"
   ]
  },
  {
   "cell_type": "markdown",
   "id": "459a44fb",
   "metadata": {},
   "source": [
    "We pass each of the models we have created in the previous section. All of the models get saved into the class under the names they are passed as (so you can access ``psd_pure.beam_model`` for instance). Some more methods are also available, which tie together the various components. From this, we can plot the sky distribution and other quantities. Note that all of these models inherently provide the visibility gridded into the $(u,v)$ plane on a regular grid, which is defined in turn by the extent of the sky. \n",
    "\n",
    "Alternatively, one may use a ``Direct`` foreground model, which is able to directly calculate the visibility over an irregular $(u,v)$ layout:"
   ]
  },
  {
   "cell_type": "code",
   "execution_count": null,
   "id": "28b20ae7",
   "metadata": {},
   "outputs": [],
   "source": [
    "u0 = psf_poiss.ugrid_raw0 # This is the u values on a side of the regular grid.\n",
    "N_u = len(u0)\n",
    "u0,v0 = np.meshgrid(u0,u0) #Construct a 2D square of values \n",
    "\n",
    "psf_poiss_direct = PointSourceForegroundsDirect(u0 = u0.flatten(), v0=v0.flatten(),\n",
    "                                                beam_model=gaussbeam,\n",
    "                                                source_counts = pl_source_counts,\n",
    "                                                spec_index_model = spec_index_dist,\n",
    "                                                spatial_dist = poisson_sky)"
   ]
  },
  {
   "cell_type": "markdown",
   "id": "125c1ac3",
   "metadata": {},
   "source": [
    "### Sky Distribution"
   ]
  },
  {
   "cell_type": "code",
   "execution_count": null,
   "id": "88e38dd6",
   "metadata": {},
   "outputs": [],
   "source": [
    "fig, ax = plt.subplots(2,2, figsize=(10,10))\n",
    "\n",
    "lmin = psf_pure.spatial_dist.lgrid[0].min().value\n",
    "lmax = psf_pure.spatial_dist.lgrid[0].max().value\n",
    "\n",
    "ax[0,0].imshow(psf_pure.visible_sky()[0,:,:].T, \n",
    "             extent=(lmin,lmax,lmin,lmax), \n",
    "             origin='lower')\n",
    "\n",
    "ax[0,1].imshow(psf_poiss.visible_sky()[0,:,:].T, \n",
    "             extent=(lmin,lmax,lmin,lmax), \n",
    "             origin='lower')\n",
    "\n",
    "ax[1,0].imshow(psf_pure_sph.visible_sky()[0,:,:].T, \n",
    "             extent=(lmin,lmax,lmin,lmax), \n",
    "             origin='lower')\n",
    "\n",
    "ax[1,1].imshow(psf_poiss_sph.visible_sky()[0,:,:].T, \n",
    "             extent=(lmin,lmax,lmin,lmax), \n",
    "             origin='lower')\n",
    "\n",
    "plt.show()"
   ]
  },
  {
   "cell_type": "markdown",
   "id": "ba41aaf2",
   "metadata": {},
   "source": [
    "### Visibilities"
   ]
  },
  {
   "cell_type": "markdown",
   "id": "5f9cb3ae",
   "metadata": {},
   "source": [
    "We can also determine the visibilities over a uniform grid:"
   ]
  },
  {
   "cell_type": "code",
   "execution_count": null,
   "id": "0fd6c698",
   "metadata": {},
   "outputs": [],
   "source": [
    "fig, ax = plt.subplots(1,3, figsize=(20,7))\n",
    "\n",
    "umin = psf_pure.ugrid_raw0.min().value\n",
    "umax = psf_pure.ugrid_raw0.max().value\n",
    "\n",
    "ax[0].imshow(np.real(psf_pure.visibility[0,:,:].value),\n",
    "             extent=(umin,umax,umin,umax), \n",
    "             origin='lower',vmin=-100., vmax = 100.)\n",
    "\n",
    "ax[1].imshow(np.real(psf_poiss.visibility[0,:,:].value), \n",
    "             extent=(umin,umax,umin,umax), \n",
    "             origin='lower',vmin=-100., vmax = 100.)\n",
    "\n",
    "# This takes quite a while because of the size of u0.\n",
    "ax[2].imshow(np.real(psf_poiss_direct.visibility[0].reshape((N_u,N_u))), \n",
    "             extent=(umin,umax,umin,umax), \n",
    "             origin='lower',vmin=-100., vmax = 100.)\n",
    "\n",
    "plt.show()"
   ]
  },
  {
   "cell_type": "markdown",
   "id": "0621371f",
   "metadata": {},
   "source": [
    "More usefully, we can determine circularly averaged quantities, such as the circularly averaged square visibility:"
   ]
  },
  {
   "cell_type": "code",
   "execution_count": null,
   "id": "a32a4fa9",
   "metadata": {},
   "outputs": [],
   "source": [
    "plt.plot(psf_pure.ugrid, psf_pure.visibility_squared_circular[0,0,:],    # Note the first two dimensions refer to frequency -- we just use nu0\n",
    "         label=\"Pure\") \n",
    "plt.plot(psf_poiss.ugrid, psf_poiss.visibility_squared_circular[0,0,:],\n",
    "         label=\"Poisson\")\n",
    "\n",
    "plt.legend()\n",
    "plt.xscale('log')\n",
    "plt.yscale('log')"
   ]
  },
  {
   "cell_type": "markdown",
   "id": "9eaae2b4",
   "metadata": {},
   "source": [
    "You can see the smallest scales have a significant shot-noise contribution."
   ]
  },
  {
   "cell_type": "markdown",
   "id": "251ff538",
   "metadata": {},
   "source": [
    "### Covariance of Visibilities"
   ]
  },
  {
   "cell_type": "markdown",
   "id": "52cf032d",
   "metadata": {},
   "source": [
    "Because it is such an important quantity, we also provide a function for generating the covariance of visibilities as a function of scale $u$. One can use it like this:"
   ]
  },
  {
   "cell_type": "code",
   "execution_count": null,
   "id": "35bdef70",
   "metadata": {},
   "outputs": [],
   "source": [
    "from spore.mock.utils import visibility_covariance"
   ]
  },
  {
   "cell_type": "markdown",
   "id": "114a542c",
   "metadata": {},
   "source": [
    "Basically, to the function we just pass a number of iterations, and then the arguments we would usually pass to the ``PointSourceForegrounds`` constructor. \n",
    "One thing to be careful of is *not* to set a seed in the spatial distribution -- otherwise each iteration will have the same realisation!"
   ]
  },
  {
   "cell_type": "code",
   "execution_count": null,
   "id": "30b840ee",
   "metadata": {},
   "outputs": [],
   "source": [
    "psf_pure = PointSourceForegrounds(beam_model=gaussbeam,\n",
    "                                  source_counts=pl_source_counts,\n",
    "                                  spec_index_model = spec_index_dist,\n",
    "                                  spatial_dist = pure_sky)\n",
    "\n",
    "psf_poiss = PointSourceForegrounds(beam_model=gaussbeam,\n",
    "                                  source_counts=pl_source_counts,\n",
    "                                  spec_index_model = spec_index_dist,\n",
    "                                  spatial_dist = poisson_sky)\n",
    "\n",
    "psf_pure_sph = PointSourceForegrounds(beam_model=gaussbeam,\n",
    "                                  source_counts=pl_source_counts,\n",
    "                                  spec_index_model = spec_index_dist,\n",
    "                                  spatial_dist = pure_sky_sph)\n",
    "\n",
    "psf_poiss_sph = PointSourceForegrounds(beam_model=gaussbeam,\n",
    "                                  source_counts=pl_source_counts,\n",
    "                                  spec_index_model = spec_index_dist,\n",
    "                                  spatial_dist = poisson_sky_sph)\n"
   ]
  },
  {
   "cell_type": "markdown",
   "id": "e20b3110",
   "metadata": {},
   "source": [
    "### Generate 2D power spectrum"
   ]
  },
  {
   "cell_type": "markdown",
   "id": "7d1eeb48",
   "metadata": {},
   "source": [
    "To generate the 2D power spectrum, we create a foreground object that contains a regular array of frequencies, as we'll need those to form the second dimensions of the 2D power spectrum:"
   ]
  },
  {
   "cell_type": "code",
   "execution_count": null,
   "id": "2e01b3c3",
   "metadata": {},
   "outputs": [],
   "source": [
    "f0 = np.linspace(1,1.6/1.5, 100)    # Gives 100 kHz channels between 150 MHz and 160 MHz\n",
    "\n",
    "fg = Foregrounds(\n",
    "    beam_model=beam.CircularGaussian(\n",
    "        nu0   = 150.,             # The only place the actual reference frequency is defined (in MHz)\n",
    "        D     = 4.,               # The diameter of a tile (for MWA)\n",
    "    ),\n",
    "    galactic_kwargs = dict(\n",
    "        fluctation_temp=253*0.8,  # Unused\n",
    "        Aeff = 20.,\n",
    "        spec_index_model=gal_spec_index,\n",
    "        spatial_dist = GSM(\n",
    "            f0       = f0,        # Frequencies (as ratios to ref. freq.) to evaluate sky at.\n",
    "            sky_size = 2.0,       # Size of sky in l,m co-ordinates\n",
    "            ncells   = 512,       # Number of grid cells along a side \n",
    "            theta0   = 3*np.pi/4.,   # Zenith pointing\n",
    "            low_res  = True       # Use low-res base maps for speed\n",
    "        )\n",
    "    ),\n",
    "    point_source_kwargs = dict(\n",
    "        spec_index_model=spec_index_dist,\n",
    "        spatial_dist = spatial_dist.PoissonClustering_Spherical(\n",
    "            f0       = f0,\n",
    "            sky_size = 2.0,       # Must be the same as the Galactic spatial_dist sky_size\n",
    "            ncells   = 512,       # Must be the same as the Galactic spatial_dist ncells\n",
    "            seed     = 1234,      # Just so we get the same results every time we run the notebook  \n",
    "            nside    = 256,       # Resolution of underlying spherical HEALpix grid\n",
    "            lmax     = 1000,      # Resolution of power spectrum itself\n",
    "            power_spectrum = lambda l : (l/0.3)**-2.0,\n",
    "            \n",
    "        ),\n",
    "        source_counts = source_counts.PowerLawSourceCounts(\n",
    "            Smin0    = 1e-2, \n",
    "            Smax0    = 1., \n",
    "            f0       = f0,\n",
    "            alpha    = 6998.,     # Normalisation of power-law\n",
    "            beta     = 1.54       # Slope of power-law\n",
    "        )\n",
    "    )\n",
    ")"
   ]
  },
  {
   "cell_type": "markdown",
   "id": "40ed4204",
   "metadata": {},
   "source": [
    "We'll first check the simple underlying gridded sky/visibility for all components (we do this at first and last frequencies alternatively to check that all the frequencies \"worked\"):"
   ]
  },
  {
   "cell_type": "code",
   "execution_count": null,
   "id": "afe283d6",
   "metadata": {},
   "outputs": [],
   "source": [
    "fig, ax = plt.subplots(2,3,figsize=(10,5))\n",
    "\n",
    "ax[0,0].imshow(fg.sky[0].T, origin='lower')\n",
    "ax[0,1].imshow(fg.point_source_foregrounds.sky[0].T, origin='lower')\n",
    "ax[0,2].imshow(fg.galactic_foregrounds.sky[0].T, origin='lower')\n",
    "\n",
    "ax[1,0].imshow(fg.visible_sky()[-1].T, origin='lower')\n",
    "ax[1,1].imshow(fg.point_source_foregrounds.visible_sky()[-1].T, origin='lower')\n",
    "ax[1,2].imshow(fg.galactic_foregrounds.visible_sky()[-1].T, origin='lower')\n"
   ]
  },
  {
   "cell_type": "markdown",
   "id": "72079f29",
   "metadata": {},
   "source": [
    "Check the visibilities:"
   ]
  },
  {
   "cell_type": "code",
   "execution_count": null,
   "id": "7b9560ba",
   "metadata": {},
   "outputs": [],
   "source": [
    "fig, ax = plt.subplots(1,3,figsize=(15,5))\n",
    "\n",
    "uextent = (fg.ugrid_raw0[0].value, fg.ugrid_raw0[-1].value, fg.ugrid_raw0[0].value, fg.ugrid_raw0[-1].value)\n",
    "\n",
    "ax[0].imshow(np.abs(fg.visibility[0].T).value, origin='lower', norm=LogNorm(), extent=uextent)\n",
    "ax[1].imshow(np.abs(fg.point_source_foregrounds.visibility[0].T).value, origin='lower', norm=LogNorm(), extent=uextent)\n",
    "ax[2].imshow(np.abs(fg.galactic_foregrounds.visibility[0].T).value, origin='lower', norm=LogNorm(), extent=uextent)"
   ]
  },
  {
   "cell_type": "markdown",
   "id": "5f490e32",
   "metadata": {},
   "source": [
    "Now we can look at the 2D PS of the grid:"
   ]
  },
  {
   "cell_type": "code",
   "execution_count": null,
   "id": "d6238d25",
   "metadata": {},
   "outputs": [],
   "source": [
    "fig, ax = plt.subplots(1,3, figsize=(15,5), subplot_kw={\"xscale\":'log', 'yscale':'log'})\n",
    "\n",
    "ps_2d, kperp, ubins = fg.power_spectrum_2d(natural_units=True, taper=np.blackman)\n",
    "ax[0].imshow(ps_2d.value, extent=(kperp.min().value, kperp.max().value, fg.kpar.min().value, fg.kpar.max().value), \n",
    "             origin='lower', norm=LogNorm())\n",
    "\n",
    "ps_2d, kperp, ubins = fg.point_source_foregrounds.power_spectrum_2d(natural_units=True, taper=np.blackman)\n",
    "ax[1].imshow(ps_2d.value, extent=(kperp.min().value, kperp.max().value, fg.kpar.min().value, fg.kpar.max().value), \n",
    "             origin='lower', norm=LogNorm())\n",
    "\n",
    "ps_2d, kperp, ubins = fg.galactic_foregrounds.power_spectrum_2d(natural_units=True, taper=np.blackman)\n",
    "ax[2].imshow(ps_2d.value, extent=(kperp.min().value, kperp.max().value, fg.kpar.min().value, fg.kpar.max().value), \n",
    "             origin='lower', norm=LogNorm())\n"
   ]
  },
  {
   "cell_type": "code",
   "execution_count": null,
   "id": "9df06c20",
   "metadata": {},
   "outputs": [],
   "source": [
    "plt.plot(ps_2d[0,:])\n",
    "plt.plot(ps_2d[10,:])\n",
    "plt.plot(ps_2d[20,:])\n",
    "plt.plot(ps_2d[30,:])\n",
    "\n",
    "plt.xscale('log')\n",
    "plt.yscale('log')"
   ]
  },
  {
   "cell_type": "code",
   "execution_count": null,
   "id": "13d8f463",
   "metadata": {},
   "outputs": [],
   "source": [
    "fg.ugrid_raw0[1]-fg.ugrid_raw0[0]"
   ]
  },
  {
   "cell_type": "markdown",
   "id": "80e5b62b",
   "metadata": {},
   "source": [
    "Let's make a FlatSky Poisson foreground model for comparison"
   ]
  },
  {
   "cell_type": "code",
   "execution_count": null,
   "id": "aba46e77",
   "metadata": {},
   "outputs": [],
   "source": [
    "ps_fg_flat = PointSourceForegrounds(\n",
    "        beam_model=fg.beam_model,\n",
    "        spec_index_model=fg.point_source_foregrounds.spec_index_model,\n",
    "        source_counts = fg.point_source_foregrounds.source_counts,\n",
    "        spatial_dist = spatial_dist.PoissonClustering_FlatSky(\n",
    "            f0       = f0,\n",
    "            sky_size = 2.0,       \n",
    "            ncells   = 512,       \n",
    "            seed     = 4321,\n",
    "            power_spectrum = lambda l : (l/0.3)**-2.0,\n",
    "        )\n",
    ")"
   ]
  },
  {
   "cell_type": "code",
   "execution_count": null,
   "id": "43e118c9",
   "metadata": {},
   "outputs": [],
   "source": [
    "from scipy.signal import blackmanharris\n",
    "\n",
    "ps_2d, kperp, ubins = ps_fg_flat.power_spectrum_2d(natural_units=True, taper=blackmanharris)\n",
    "plt.imshow(ps_2d.value, extent=(kperp.min().value, kperp.max().value, fg.kpar.min().value, fg.kpar.max().value), \n",
    "             origin='lower', norm=LogNorm())\n",
    "plt.xscale('log')\n",
    "plt.yscale('log')"
   ]
  },
  {
   "cell_type": "code",
   "execution_count": null,
   "id": "dbdb9c59",
   "metadata": {},
   "outputs": [],
   "source": [
    "from powerbox.dft import fft"
   ]
  },
  {
   "cell_type": "code",
   "execution_count": null,
   "id": "a1dc4c8b",
   "metadata": {},
   "outputs": [],
   "source": [
    "from spore.measure.ps_2d_from_single_vis import ps_3d_to_ps_2d"
   ]
  },
  {
   "cell_type": "code",
   "execution_count": null,
   "id": "99affeba",
   "metadata": {},
   "outputs": [],
   "source": [
    "ft3d,eta = fft(fg.visibility.value, L=0.1, a=0, b = 2*np.pi, axes=(0,))\n",
    "ft,eta = fft(fg.visibility[:,100,50], L=0.1, a=0, b = 2*np.pi)\n",
    "\n",
    "plt.plot(eta[0],np.abs(ft3d[:,100,50])**2)\n",
    "plt.plot(eta[0],np.abs(ft)**2)\n"
   ]
  },
  {
   "cell_type": "code",
   "execution_count": null,
   "id": "78a74176",
   "metadata": {},
   "outputs": [],
   "source": [
    "plt.imshow(np.abs(ft3d[:,200,:])**2)"
   ]
  },
  {
   "cell_type": "markdown",
   "id": "72dafa1d",
   "metadata": {},
   "source": [
    "Now import the positions of the tiles (for the MWA) and convert them to physical baselines:"
   ]
  },
  {
   "cell_type": "code",
   "execution_count": null,
   "id": "fd763f01",
   "metadata": {},
   "outputs": [],
   "source": [
    "ps_2d, ubins = ps_3d_to_ps_2d(np.abs(ft3d)**2, fg.ugrid_raw0, fg.nu)"
   ]
  },
  {
   "cell_type": "code",
   "execution_count": null,
   "id": "28d9eca6",
   "metadata": {},
   "outputs": [],
   "source": [
    "plt.imshow(ps_2d[51:], origin='lower',norm=LogNorm())"
   ]
  },
  {
   "cell_type": "code",
   "execution_count": null,
   "id": "40e6221a",
   "metadata": {},
   "outputs": [],
   "source": [
    "from spore.mock.convert_sim_to_vis import pos_to_baselines, baselines_to_u0\n",
    "\n",
    "pos = np.genfromtxt(\"../../../clustering_counts_paper/hex_pos.txt\")[:,[1,2]]  # MWA tile positions\n",
    "baselines = pos_to_baselines(pos)"
   ]
  },
  {
   "cell_type": "markdown",
   "id": "09049fc1",
   "metadata": {},
   "source": [
    "Now we plot the values of $(u,v)$ for the baselines, at the reference frequency of $\\nu_0=150$ MHz. We also show a square corresponding to the range of $u,v$ calculated for our simulated grid."
   ]
  },
  {
   "cell_type": "markdown",
   "id": "84c72fe9",
   "metadata": {},
   "source": [
    "## All-Component Mock"
   ]
  },
  {
   "cell_type": "code",
   "execution_count": null,
   "id": "6e25a3ef",
   "metadata": {},
   "outputs": [],
   "source": [
    "from spore.mock.foregrounds import GalacticForegrounds, ThermalForegrounds, Foregrounds"
   ]
  },
  {
   "cell_type": "code",
   "execution_count": null,
   "id": "f997fc1c",
   "metadata": {},
   "outputs": [],
   "source": [
    "gal_sky = spatial_dist.PureClustering_FlatSky(f0 = 1., # Frequencies (as ratios to ref. freq.) to evaluate sky at.\n",
    "                                              sky_size = 2.0,             # Size of sky in l,m co-ordinates\n",
    "                                              ncells = 256,              # Number of grid cells along a side \n",
    "                                              seed = 4321,                # Optional seed to enforce the same realisation on every run\n",
    "                                              power_spectrum = lambda u : 0.01 * (u/0.1)**-2.7,   # A function defining an isotropic power spectrum of sources as a function of scale u.\n",
    "                                              use_lognormal=False\n",
    "                                             )\n",
    "\n",
    "gal_spec_index = spectral_index.UniversalDist(0.55)\n",
    "\n",
    "gal_fg = GalacticForegrounds(fluctation_temp=253 * 0.8, Aeff=20.,\n",
    "                             beam_model=gaussbeam,\n",
    "                             spec_index_model = gal_spec_index,\n",
    "                             spatial_dist = gal_sky\n",
    "                             )"
   ]
  },
  {
   "cell_type": "code",
   "execution_count": null,
   "id": "e7ec1fd4",
   "metadata": {},
   "outputs": [],
   "source": [
    "th_fg = ThermalForegrounds(Aeff=20., Tsys=100, deltaT = 1000., dnu=1e5)"
   ]
  },
  {
   "cell_type": "code",
   "execution_count": null,
   "id": "a5fddc83",
   "metadata": {},
   "outputs": [],
   "source": [
    "fg = Foregrounds(beam_model=gaussbeam,\n",
    "                 galactic_kwargs = dict(fluctation_temp=253*0.8,\n",
    "                                        Aeff = 20.,\n",
    "                                        spec_index_model=gal_spec_index,\n",
    "                                        spatial_dist = gal_sky),\n",
    "                 point_source_kwargs = dict(spec_index_model=spec_index_dist,\n",
    "                                            spatial_dist = poisson_sky,\n",
    "                                            source_counts = pl_source_counts))"
   ]
  },
  {
   "cell_type": "code",
   "execution_count": null,
   "id": "a207cfc2",
   "metadata": {},
   "outputs": [],
   "source": [
    "plt.imshow(fg.sky[0])\n",
    "plt.colorbar()"
   ]
  },
  {
   "cell_type": "code",
   "execution_count": null,
   "id": "3b076528",
   "metadata": {},
   "outputs": [],
   "source": [
    "plt.imshow(fg.point_source_foregrounds.sky[0])\n",
    "plt.colorbar()"
   ]
  },
  {
   "cell_type": "code",
   "execution_count": null,
   "id": "a3ccb94c",
   "metadata": {},
   "outputs": [],
   "source": [
    "plt.imshow(fg.galactic_foregrounds.sky[0])\n",
    "plt.colorbar()"
   ]
  },
  {
   "cell_type": "code",
   "execution_count": null,
   "id": "a578e29c",
   "metadata": {},
   "outputs": [],
   "source": [
    "plt.imshow(np.abs(fg.visibility[0]))"
   ]
  },
  {
   "cell_type": "code",
   "execution_count": null,
   "id": "b8ebf38f",
   "metadata": {},
   "outputs": [],
   "source": [
    "poisson_sky.seed=None\n",
    "gal_sky.seed=None\n",
    "th_fg.seed = None\n",
    "\n",
    "u, cov_full = visibility_covariance(foreground_model=Foregrounds,\n",
    "                                    niter=100,\n",
    "                                    beam_model=gaussbeam,\n",
    "                                    galactic_kwargs = dict(\n",
    "                                        fluctation_temp=253*0.8,\n",
    "                                        Aeff = 20.,\n",
    "                                        spec_index_model=gal_spec_index,\n",
    "                                        spatial_dist = gal_sky),\n",
    "                                    point_source_kwargs = dict(\n",
    "                                        spec_index_model=spec_index_dist,\n",
    "                                        spatial_dist = poisson_sky,\n",
    "                                        source_counts = pl_source_counts))\n",
    "\n",
    "u, cov_gal = visibility_covariance(foreground_model=GalacticForegrounds,\n",
    "                                    niter=100,\n",
    "                                    beam_model=gaussbeam,\n",
    "                                    fluctation_temp=253*0.8,\n",
    "                                    Aeff = 20.,\n",
    "                                    spec_index_model=gal_spec_index,\n",
    "                                    spatial_dist = gal_sky)\n",
    "\n",
    "u, cov_ps = visibility_covariance(foreground_model=PointSourceForegrounds,\n",
    "                                  niter=100,\n",
    "                                  beam_model=gaussbeam,\n",
    "                                  spec_index_model=spec_index_dist,\n",
    "                                  spatial_dist = poisson_sky,\n",
    "                                  source_counts = pl_source_counts)\n"
   ]
  },
  {
   "cell_type": "code",
   "execution_count": null,
   "id": "742cb93e",
   "metadata": {},
   "outputs": [],
   "source": [
    "plt.plot(u,cov_full, label=\"Total Noise\")\n",
    "plt.plot(u,cov_gal, label='Galactic')\n",
    "plt.plot(u,cov_ps, label=\"PointSource\")\n",
    "\n",
    "plt.axhline(2*th_fg.sigma**4, label='Thermal', color=\"C3\")\n",
    "\n",
    "plt.xscale('log')\n",
    "plt.yscale('log')\n",
    "plt.legend()"
   ]
  },
  {
   "cell_type": "markdown",
   "id": "eb9b7c10",
   "metadata": {},
   "source": [
    "### Using PyGSM to calculate the Galactic model"
   ]
  },
  {
   "cell_type": "code",
   "execution_count": null,
   "id": "89a6e326",
   "metadata": {},
   "outputs": [],
   "source": [
    "# Ensure seed is None\n",
    "poisson_sky.seed = None\n",
    "\n",
    "ubins, cov = visibility_covariance(\n",
    "    niter= 50,  # Number of iterations from which to estimate covariance\n",
    "    beam_model=gaussbeam,\n",
    "    source_counts=pl_source_counts,\n",
    "    spec_index_model = spec_index_dist,\n",
    "    spatial_dist = poisson_sky\n",
    ")"
   ]
  },
  {
   "cell_type": "code",
   "execution_count": null,
   "id": "b5fe4cf9",
   "metadata": {},
   "outputs": [],
   "source": [
    "plt.plot(ubins, cov)\n",
    "plt.xscale('log')\n",
    "plt.yscale(\"log\")"
   ]
  }
 ],
 "metadata": {},
 "nbformat": 4,
 "nbformat_minor": 5
}
