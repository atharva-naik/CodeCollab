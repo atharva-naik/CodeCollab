{
 "cells": [
  {
   "cell_type": "code",
   "execution_count": null,
   "id": "b9cee4e2",
   "metadata": {},
   "outputs": [],
   "source": [
    "show_appoi.shape"
   ]
  },
  {
   "cell_type": "code",
   "execution_count": null,
   "id": "7d732927",
   "metadata": {},
   "outputs": [],
   "source": [
    "show_appoi['age'].mean()"
   ]
  },
  {
   "cell_type": "code",
   "execution_count": null,
   "id": "da2cdf88",
   "metadata": {},
   "outputs": [],
   "source": [
    "df.head()"
   ]
  },
  {
   "cell_type": "code",
   "execution_count": null,
   "id": "08aa8b33",
   "metadata": {},
   "outputs": [],
   "source": [
    "plt.figure(figsize = (17,6));\n",
    "df['scholarship'].value_counts(normalize = True).plot(kind = 'bar',fontsize = 15);\n",
    "labels= ['No','Yes']\n",
    "locations = [0,1]\n",
    "plt.xticks(locations,labels);\n",
    "plt.xlabel('Scholarship',fontsize = 18);\n",
    "plt.ylabel('Show Rate',fontsize = 18);\n",
    "plt.title('Proportion of people received Bolsa Scolarship',fontsize = 18);"
   ]
  },
  {
   "cell_type": "markdown",
   "id": "b0e07af4",
   "metadata": {},
   "source": [
    "> -  ### It shows 1% of people have received Bolsa Familia Scholarship which indeed suggest us that these are the people in our dataset who are financially poor."
   ]
  },
  {
   "cell_type": "code",
   "execution_count": null,
   "id": "6a306e90",
   "metadata": {},
   "outputs": [],
   "source": [
    "df.groupby('scholarship')['show'].value_counts(normalize = True)"
   ]
  },
  {
   "cell_type": "markdown",
   "id": "aafec3d5",
   "metadata": {},
   "source": [
    "> - ### 76% of the finacially poor people visits the scheduled appointment."
   ]
  },
  {
   "cell_type": "code",
   "execution_count": null,
   "id": "a7e202b1",
   "metadata": {},
   "outputs": [],
   "source": [
    "df.groupby('scholarship')['gender'].value_counts(normalize = True)"
   ]
  },
  {
   "cell_type": "markdown",
   "id": "cf3b4ffe",
   "metadata": {},
   "source": [
    "> - ### 81% of female have received Bolsa Familia scholarship among those 1% financially poor people"
   ]
  },
  {
   "cell_type": "code",
   "execution_count": null,
   "id": "6726fbbc",
   "metadata": {},
   "outputs": [],
   "source": [
    "df.groupby('scholarship')['age_grouped'].value_counts(normalize = True)[1].plot(kind = 'bar');"
   ]
  },
  {
   "cell_type": "code",
   "execution_count": null,
   "id": "7db7e81f",
   "metadata": {},
   "outputs": [],
   "source": [
    "plt.figure(figsize = (17,6));\n",
    "plt.bar(0,df.groupby('scholarship')['show'].value_counts(normalize = True)[0]['yes'],width = 0.35);\n",
    "plt.bar(1,df.groupby('scholarship')['show'].value_counts(normalize = True)[1]['yes'],width = 0.35);\n",
    "label = ['No', 'Yes']\n",
    "location = [0,1]\n",
    "plt.xticks(location,label)\n",
    "plt.xlabel('Scholarship',fontsize =18);\n",
    "plt.ylabel('Proportion',fontsize = 18);\n",
    "plt.title('Scholarship VS Proportion',fontsize = 18);"
   ]
  },
  {
   "cell_type": "markdown",
   "id": "b825c22c",
   "metadata": {},
   "source": [
    "> - ### 80% of patients who haven't received Scholarship visits to Doctor whereas 76% of patients who have received visits."
   ]
  },
  {
   "cell_type": "code",
   "execution_count": null,
   "id": "3dc5dd7c",
   "metadata": {},
   "outputs": [],
   "source": [
    "no_scholarship=df.groupby(['scholarship','age_grouped'])['show'].value_counts(normalize = True)[0]\n",
    "yes_scholarship=df.groupby(['scholarship','age_grouped'])['show'].value_counts(normalize = True)[1]"
   ]
  },
  {
   "cell_type": "code",
   "execution_count": null,
   "id": "d2194e0a",
   "metadata": {},
   "outputs": [],
   "source": [
    "yes_scholarship"
   ]
  },
  {
   "cell_type": "markdown",
   "id": "d25f526f",
   "metadata": {},
   "source": [
    "> - ### Above result again indicates rate of people visiting the scheduled appointment is more than missing the appointment."
   ]
  },
  {
   "cell_type": "code",
   "execution_count": null,
   "id": "6aca032a",
   "metadata": {},
   "outputs": [],
   "source": [
    "df.groupby('scholarship').mean()[['hypertension','diabetes','alcoholism','handicap']]"
   ]
  },
  {
   "cell_type": "markdown",
   "id": "8cf42876",
   "metadata": {},
   "source": [
    "> - ### It shows irrespective of receiving scholarship people are suffering more from hypertension."
   ]
  },
  {
   "cell_type": "code",
   "execution_count": null,
   "id": "f681bb62",
   "metadata": {},
   "outputs": [],
   "source": [
    "\n",
    "df['neighbourhood'].value_counts()[0:5]\n"
   ]
  },
  {
   "cell_type": "code",
   "execution_count": null,
   "id": "b48d35b4",
   "metadata": {},
   "outputs": [],
   "source": [
    "df.groupby('neighbourhood')['show'].value_counts(normalize = True).unstack()[0:5]"
   ]
  },
  {
   "cell_type": "code",
   "execution_count": null,
   "id": "b1ed1e6f",
   "metadata": {},
   "outputs": [],
   "source": [
    "plt.figure(figsize = (17,6));\n",
    "ax=sns.barplot(x=df.groupby('neighbourhood')['show'].value_counts(normalize = True).unstack()['yes'].index , \n",
    "            y=df.groupby('neighbourhood')['show'].value_counts(normalize = True).unstack()['yes'],data=df,\n",
    "        order =df.groupby('neighbourhood')['show'].value_counts(normalize = True).unstack().sort_values(by = 'yes',ascending = False).index );\n",
    "ax.set_xticklabels(ax.get_xticklabels(),rotation = 90, fontsize = 7.6);\n",
    "plt.xlabel('Neighbourhood',fontsize = 18);\n",
    "plt.ylabel('Show rate',fontsize = 18);\n",
    "plt.title('Neighbourhood hospital Vs show rate',fontsize = 18);"
   ]
  },
  {
   "cell_type": "markdown",
   "id": "3b21680e",
   "metadata": {},
   "source": [
    "> - ### Graph depicts neighbourhood hospitals where patients more likely to visit"
   ]
  },
  {
   "cell_type": "code",
   "execution_count": null,
   "id": "883e1f04",
   "metadata": {},
   "outputs": [],
   "source": [
    "plt.figure(figsize = (17,6));\n",
    "ax=sns.barplot(x=df.groupby('neighbourhood')['show'].value_counts(normalize = True).unstack().index , \n",
    "            y=df.groupby('neighbourhood')['show'].value_counts(normalize = True).unstack()['no'],data=df,\n",
    "         order =df.groupby('neighbourhood')['show'].value_counts(normalize = True).unstack().sort_values(by = 'no',ascending = False).index );\n",
    "ax.set_xticklabels(ax.get_xticklabels(),rotation = 90, fontsize = 7.6);\n",
    "plt.xlabel('Neighbourhood',fontsize = 18);\n",
    "plt.ylabel('No Show rate',fontsize = 18);\n",
    "plt.title('Neighbourhood Hospital VS No Show rate',fontsize = 18);"
   ]
  },
  {
   "cell_type": "markdown",
   "id": "d7bd8957",
   "metadata": {},
   "source": [
    "> - ### Graph depicts neighbourhood hospitals where patients aren't  likely to visit"
   ]
  },
  {
   "cell_type": "code",
   "execution_count": null,
   "id": "db71dc64",
   "metadata": {},
   "outputs": [],
   "source": [
    "#get name of the weekday from appointmentday \n",
    "df['appointment_weekday'] = df['appointmentday'].dt.weekday_name"
   ]
  },
  {
   "cell_type": "code",
   "execution_count": null,
   "id": "2b5dd8ac",
   "metadata": {},
   "outputs": [],
   "source": [
    "#get month from scheduledday\n",
    "df['scheduledmonth'] = df['scheduledday'].dt.month"
   ]
  },
  {
   "cell_type": "code",
   "execution_count": null,
   "id": "f8b7b5eb",
   "metadata": {},
   "outputs": [],
   "source": [
    "#get weekday name from scheduled day\n",
    "df['scheduled_weekday'] = df['scheduledday'].dt.weekday_name"
   ]
  },
  {
   "cell_type": "code",
   "execution_count": null,
   "id": "77d49fd9",
   "metadata": {},
   "outputs": [],
   "source": [
    "#As we have gathered all the data required from both of these columns,let us drop them\n",
    "df.drop(labels = ['scheduledday','appointmentday'],axis =1 ,inplace = True)"
   ]
  },
  {
   "cell_type": "markdown",
   "id": "0c11d2ce",
   "metadata": {},
   "source": [
    "<a id='eda'></a>\n",
    "## Exploratory Data Analysis"
   ]
  },
  {
   "cell_type": "code",
   "execution_count": null,
   "id": "fa43c7fa",
   "metadata": {},
   "outputs": [],
   "source": [
    "plt.figure(figsize = (17,6));\n",
    "plt.hist(df['age']);\n",
    "plt.xlabel('Age',fontsize = 18);\n",
    "plt.ylabel('Frequency',fontsize = 18);\n",
    "plt.title('Distribution of Age',fontsize = 18);"
   ]
  },
  {
   "cell_type": "markdown",
   "id": "cb8c0e18",
   "metadata": {},
   "source": [
    "> ### Patient's age in our dataset ranges from 0 to 80. 0 age group being the largest among all."
   ]
  },
  {
   "cell_type": "markdown",
   "id": "23818930",
   "metadata": {},
   "source": [
    "- ### Let us check if our dataset contains age group below 0."
   ]
  },
  {
   "cell_type": "code",
   "execution_count": null,
   "id": "702ec3a7",
   "metadata": {},
   "outputs": [],
   "source": [
    "df[df['age'] < 0]"
   ]
  },
  {
   "cell_type": "markdown",
   "id": "f6401dd5",
   "metadata": {},
   "source": [
    "- ### This might be an error because age can't be a negative number"
   ]
  },
  {
   "cell_type": "code",
   "execution_count": null,
   "id": "7c954063",
   "metadata": {},
   "outputs": [],
   "source": [
    "# We should drop it\n",
    "df.drop(index =99832 ,inplace = True)"
   ]
  },
  {
   "cell_type": "code",
   "execution_count": null,
   "id": "4531a855",
   "metadata": {},
   "outputs": [],
   "source": [
    "#Let us confirm again.\n",
    "df.shape"
   ]
  },
  {
   "cell_type": "markdown",
   "id": "ce26a49b",
   "metadata": {},
   "source": [
    "### Proportion of Male & Female "
   ]
  },
  {
   "cell_type": "code",
   "execution_count": null,
   "id": "b940f203",
   "metadata": {},
   "outputs": [],
   "source": [
    "df['gender'].value_counts(normalize = True)"
   ]
  },
  {
   "cell_type": "code",
   "execution_count": null,
   "id": "d5914574",
   "metadata": {},
   "outputs": [],
   "source": [
    "show_yes = df.query(\"show == 'yes'\")\n",
    "show_no = df.query(\"show == 'no'\")"
   ]
  },
  {
   "cell_type": "code",
   "execution_count": null,
   "id": "cc8b4b5b",
   "metadata": {},
   "outputs": [],
   "source": [
    "df.groupby('gender')['show'].value_counts(normalize = True)"
   ]
  },
  {
   "cell_type": "markdown",
   "id": "d0ab3a6c",
   "metadata": {},
   "source": [
    "> -  ### 80% male & female show on their scheduled appointments"
   ]
  },
  {
   "cell_type": "markdown",
   "id": "041521f8",
   "metadata": {},
   "source": [
    "### Proportion of people show to the appointment."
   ]
  },
  {
   "cell_type": "markdown",
   "id": "3b95d4f8",
   "metadata": {},
   "source": [
    "### Even if 68% of the patients do not receive sms they do visit the scheduled appointment & has higher proportion than the one's who have received sms."
   ]
  },
  {
   "cell_type": "code",
   "execution_count": null,
   "id": "62e9db58",
   "metadata": {},
   "outputs": [],
   "source": [
    "plt.figure(figsize = (17,6));\n",
    "df['appointmentmonth'].value_counts(normalize = True).plot(kind = 'bar');\n",
    "location = [0,1,2]\n",
    "labels = ['May','June','April']\n",
    "plt.xticks(location,labels,fontsize = 15)\n",
    "plt.xlabel('Month',fontsize = 18);\n",
    "plt.ylabel('Proportion',fontsize = 18);\n",
    "\n",
    "plt.title('Proportion of patients visit per month', fontsize = 18);"
   ]
  },
  {
   "cell_type": "code",
   "execution_count": null,
   "id": "0e884c3a",
   "metadata": {},
   "outputs": [],
   "source": [
    "plt.figure(figsize = (17,6));\n",
    "df['appointment_weekday'].value_counts(normalize = True).plot(kind = 'bar',fontsize = 15);\n",
    "plt.xlabel('Weekdays',fontsize =18 );\n",
    "plt.ylabel('Proportion',fontsize =18 );\n",
    "plt.title('Proprion of people visiting on scheduled appointment',fontsize = 18);\n"
   ]
  },
  {
   "cell_type": "markdown",
   "id": "c0793014",
   "metadata": {},
   "source": [
    "> - ### On wednesday,Tuesday 23% of people visits the scheduled appointment and least number of people visits on saturday."
   ]
  },
  {
   "cell_type": "code",
   "execution_count": null,
   "id": "ff01530e",
   "metadata": {},
   "outputs": [],
   "source": [
    "weekday=df.groupby('appointment_weekday')['show'].value_counts(normalize = True).reset_index(name= 'count')\n",
    "weekday"
   ]
  },
  {
   "cell_type": "code",
   "execution_count": null,
   "id": "f08db733",
   "metadata": {},
   "outputs": [],
   "source": [
    "show_height01 = weekday.query(\"show== 'yes'\")\n",
    "show_height01"
   ]
  },
  {
   "cell_type": "code",
   "execution_count": null,
   "id": "1ed681c9",
   "metadata": {},
   "outputs": [],
   "source": [
    "noshow_height01 = weekday.query(\"show== 'no'\")\n",
    "noshow_height01"
   ]
  },
  {
   "cell_type": "code",
   "execution_count": null,
   "id": "75653fd1",
   "metadata": {},
   "outputs": [],
   "source": [
    "ind=np.arange(0,6)"
   ]
  },
  {
   "cell_type": "code",
   "execution_count": null,
   "id": "597c61cd",
   "metadata": {},
   "outputs": [],
   "source": [
    "plt.figure(figsize = (17,6));\n",
    "plt.bar(ind,show_height01['count'],alpha= 0.7,label = 'Show',width = 0.25);\n",
    "plt.bar(ind+0.25,noshow_height01['count'],alpha=0.7,label = 'No Show',width=0.25);\n",
    "location = [0,1,2,3,4,5]\n",
    "labels = ['Friday','Monday','Saturday','Thursday','Tuesday','Wednesday']\n",
    "plt.xticks(location,labels,fontsize = 15)\n",
    "plt.xlabel('Weekday',fontsize = 18);\n",
    "plt.ylabel('Proportion',fontsize = 18);\n",
    "plt.title('Proportion of patients visit per day', fontsize = 18);\n",
    "\n",
    "plt.legend();"
   ]
  },
  {
   "cell_type": "markdown",
   "id": "03590cdd",
   "metadata": {},
   "source": [
    "> -  ### We can observe the trend here 80% of the patients do visit on their scheduled appointment & 20% of the patients fail"
   ]
  },
  {
   "cell_type": "markdown",
   "id": "817ec9a2",
   "metadata": {},
   "source": [
    "### Bayes Theorem"
   ]
  },
  {
   "cell_type": "markdown",
   "id": "e0addf25",
   "metadata": {},
   "source": [
    "### Probability of patient who has hypertension visits the scheduled appointment.\n",
    "\n",
    ">- ### P(show|hypertension)"
   ]
  },
  {
   "cell_type": "code",
   "execution_count": null,
   "id": "056c6ec6",
   "metadata": {},
   "outputs": [],
   "source": [
    "df.query(\"hypertension == 1\")['show'].value_counts(normalize= True)"
   ]
  },
  {
   "cell_type": "markdown",
   "id": "8029ce38",
   "metadata": {},
   "source": [
    "### Probability of patient who has diabetes visits the scheduled appointment.\n",
    "\n",
    ">- ### P(show|diabetes)"
   ]
  },
  {
   "cell_type": "code",
   "execution_count": null,
   "id": "794dbff3",
   "metadata": {},
   "outputs": [],
   "source": [
    "df.query(\"diabetes == 1\")['show'].value_counts(normalize= True)"
   ]
  },
  {
   "cell_type": "markdown",
   "id": "ad94c9cd",
   "metadata": {},
   "source": [
    "### Probability of patient who is alcoholic visits the scheduled appointment.\n",
    "\n",
    ">- ### P(show|alcoholic)"
   ]
  },
  {
   "cell_type": "code",
   "execution_count": null,
   "id": "b878c1d4",
   "metadata": {},
   "outputs": [],
   "source": [
    "df.query(\"alcoholism == 1\")['show'].value_counts(normalize= True)"
   ]
  },
  {
   "cell_type": "markdown",
   "id": "c8d3d67a",
   "metadata": {},
   "source": [
    "### Probability of patient who are handicap visits the scheduled appointment.\n",
    "\n",
    ">- ### P(show|handicap)"
   ]
  },
  {
   "cell_type": "code",
   "execution_count": null,
   "id": "75f525e6",
   "metadata": {},
   "outputs": [],
   "source": [
    "df.query(\"handicap == 1\")['show'].value_counts(normalize= True)"
   ]
  },
  {
   "cell_type": "markdown",
   "id": "40a5b821",
   "metadata": {},
   "source": [
    "### Probability of patient visits the scheduled appointment who has hypertension\n",
    "> - ### P(hypertension|show)"
   ]
  },
  {
   "cell_type": "code",
   "execution_count": null,
   "id": "6deb4c21",
   "metadata": {},
   "outputs": [],
   "source": [
    "df.query(\"show == 'yes'\")['hypertension'].value_counts(normalize = True)"
   ]
  },
  {
   "cell_type": "markdown",
   "id": "33bafca9",
   "metadata": {},
   "source": [
    "### Probability of patient visits the scheduled appointment who has diabetes\n",
    "> - ### P(diabetes|show)"
   ]
  },
  {
   "cell_type": "markdown",
   "id": "90533cde",
   "metadata": {},
   "source": [
    "### Let us also calculate the show rate according to gender"
   ]
  },
  {
   "cell_type": "code",
   "execution_count": null,
   "id": "1c916fb2",
   "metadata": {},
   "outputs": [],
   "source": [
    "male = df.query(\"gender == 'M'\")\n",
    "female = df.query(\"gender == 'F'\")"
   ]
  },
  {
   "cell_type": "code",
   "execution_count": null,
   "id": "0e097b27",
   "metadata": {},
   "outputs": [],
   "source": [
    "male.query(\"show == 'yes'\").shape[0] / male.shape[0]"
   ]
  },
  {
   "cell_type": "code",
   "execution_count": null,
   "id": "9cfb8ac0",
   "metadata": {},
   "outputs": [],
   "source": [
    "male.query(\"show == 'no'\").shape[0] / male.shape[0]"
   ]
  },
  {
   "cell_type": "markdown",
   "id": "7e11aff2",
   "metadata": {},
   "source": [
    "- ### It shows 80% of male comes to the scheduled appointment and 20% doesn't."
   ]
  },
  {
   "cell_type": "code",
   "execution_count": null,
   "id": "5c4a8a7c",
   "metadata": {},
   "outputs": [],
   "source": [
    "female.query(\"show == 'yes'\").shape[0] / female.shape[0]"
   ]
  },
  {
   "cell_type": "code",
   "execution_count": null,
   "id": "d1d7d8d1",
   "metadata": {},
   "outputs": [],
   "source": [
    "female.query(\"show == 'no'\").shape[0] /female.shape[0]"
   ]
  },
  {
   "cell_type": "markdown",
   "id": "6b478e67",
   "metadata": {},
   "source": [
    "- ### It shows 80% of female comes to the scheduled appointment and 20% doesn't."
   ]
  },
  {
   "cell_type": "code",
   "execution_count": null,
   "id": "0e4bb1e2",
   "metadata": {},
   "outputs": [],
   "source": [
    "#set figuresize\n",
    "plt.figure(figsize = (17,6));\n",
    "#set bar location and Height\n",
    "plt.bar(1,df['hypertension'].mean(),alpha=0.8,label = 'Hypertension');\n",
    "plt.bar(2,df['diabetes'].mean(),alpha=0.8,label = 'Diabetes');\n",
    "plt.bar(3,df['alcoholism'].mean(),alpha=0.8,label = 'Alcoholism');\n",
    "plt.bar(4,df['handicap'].mean(),alpha=0.8,label = 'Handicap');\n",
    "location = [1,2,3,4]\n",
    "label = ['Hypertension','Diabetes','Alcoholism','Handicap']\n",
    "location = [1,2,3,4]\n",
    "#set ticklabels and title\n",
    "plt.xticks(location,label);\n",
    "plt.xlabel('Disease',fontsize = 18);\n",
    "plt.ylabel('Proportion', fontsize = 18);\n",
    "plt.title('Proportion of Disease',fontsize = 18);\n",
    "plt.legend();"
   ]
  },
  {
   "cell_type": "markdown",
   "id": "b1a6f84f",
   "metadata": {},
   "source": [
    "> ### We can observe Most of the people in our data set are suffering from Hypertension."
   ]
  },
  {
   "cell_type": "markdown",
   "id": "0a1390b1",
   "metadata": {},
   "source": [
    "### Calculate mean age group of people suffering from hypertension"
   ]
  },
  {
   "cell_type": "code",
   "execution_count": null,
   "id": "67d08810",
   "metadata": {},
   "outputs": [],
   "source": [
    "print('Average No. of people have received the SMS is', df['sms_received'].mean())"
   ]
  },
  {
   "cell_type": "code",
   "execution_count": null,
   "id": "66011e97",
   "metadata": {},
   "outputs": [],
   "source": [
    "df.groupby('sms_received')['show'].value_counts(normalize = True)"
   ]
  },
  {
   "cell_type": "code",
   "execution_count": null,
   "id": "b3e68eaa",
   "metadata": {},
   "outputs": [],
   "source": [
    "plt.figure(figsize = (17,6));\n",
    "ind =np.arange(1)\n",
    "plt.bar(ind,df.groupby('sms_received')['show'].value_counts(normalize = True)[0]['yes'],width = 0.35);\n",
    "plt.bar(ind+0.5,df.groupby('sms_received')['show'].value_counts(normalize = True)[1]['yes'],width = 0.35);\n",
    "location = [0,0.5]\n",
    "labels = ['Sms Not Received', 'Sms Received']\n",
    "plt.xticks(location,labels,fontsize = 15);\n",
    "plt.xlabel('Received Sms',fontsize = 18);\n",
    "plt.ylabel('Show Rate',fontsize = 18);\n",
    "plt.title('Proportion of patients who visit to the scheduled appointment after receiving sms',fontsize = 18);"
   ]
  },
  {
   "cell_type": "code",
   "execution_count": null,
   "id": "6a129caa",
   "metadata": {},
   "outputs": [],
   "source": [
    "df_show  =df.query(\"show == 'yes'\")"
   ]
  },
  {
   "cell_type": "code",
   "execution_count": null,
   "id": "535343a4",
   "metadata": {},
   "outputs": [],
   "source": [
    "#set figuresize\n",
    "plt.figure(figsize = (17,6));\n",
    "#plot graph\n",
    "plt.hist(df_show['time_hour']);\n",
    "#set ticklabels and title\n",
    "plt.xlabel('Time of the day', fontsize = 18);\n",
    "plt.ylabel('Frequency', fontsize = 18);\n",
    "plt.title('Frequent times of the day for visiting the scheduled appointment',fontsize = 18);"
   ]
  },
  {
   "cell_type": "markdown",
   "id": "e82abff5",
   "metadata": {},
   "source": [
    "> - ### graph shows 6a.m. to 5p.m are most frequent times "
   ]
  },
  {
   "cell_type": "code",
   "execution_count": null,
   "id": "eaae2230",
   "metadata": {},
   "outputs": [],
   "source": [
    "df['age'].describe()"
   ]
  },
  {
   "cell_type": "markdown",
   "id": "b79ebc46",
   "metadata": {},
   "source": [
    "### Disease as per the age groups"
   ]
  },
  {
   "cell_type": "code",
   "execution_count": null,
   "id": "4606f5a7",
   "metadata": {},
   "outputs": [],
   "source": [
    "#set four different levels of age group\n",
    "bin_labels = ['child', 'young', 'middle_age', 'senior']\n",
    "bin_edges = [0,13,30,50,116]\n",
    "df['age_grouped']=pd.cut(df['age'], bins = bin_edges, labels = bin_labels,include_lowest = True)"
   ]
  },
  {
   "cell_type": "code",
   "execution_count": null,
   "id": "3c2219b3",
   "metadata": {},
   "outputs": [],
   "source": [
    "df['appointmentmonth'].unique()"
   ]
  },
  {
   "cell_type": "code",
   "execution_count": null,
   "id": "c06d53e2",
   "metadata": {},
   "outputs": [],
   "source": [
    "df.groupby('age_grouped')['show'].value_counts(normalize = True)"
   ]
  },
  {
   "cell_type": "code",
   "execution_count": null,
   "id": "968bf368",
   "metadata": {},
   "outputs": [],
   "source": [
    "#use groupby and take the mean  \n",
    "df.groupby('age_grouped').mean()[['hypertension','diabetes','alcoholism','handicap']].plot(kind = 'bar',fontsize = 12);\n",
    "#set labels and title\n",
    "plt.xlabel('Age Group', fontsize = 18);\n",
    "plt.ylabel('Proportion', fontsize = 18);\n",
    "plt.title('Disease according to age groups', fontsize = 18);\n"
   ]
  },
  {
   "cell_type": "markdown",
   "id": "efaac9ae",
   "metadata": {},
   "source": [
    "### Graph depicts Senior people are having highest proportion of Hypertension,Diabetes followed by Middle age group and as expected child group doesnt seem to have any of the major disease except handicap."
   ]
  },
  {
   "cell_type": "code",
   "execution_count": null,
   "id": "4bcea060",
   "metadata": {},
   "outputs": [],
   "source": [
    "df.groupby('hypertension')['age'].mean()"
   ]
  },
  {
   "cell_type": "code",
   "execution_count": null,
   "id": "e8acc239",
   "metadata": {},
   "outputs": [],
   "source": [
    "#set figuresize\n",
    "plt.figure(figsize = (17,6));\n",
    "#filter data by people having hypertension and plot a distribution\n",
    "df.query(\"hypertension == 1\")['age'].plot(kind = 'hist');\n",
    "#set ticklabels and title\n",
    "plt.xlabel('Age', fontsize = 18);\n",
    "plt.ylabel('No.of people having Hypertension', fontsize = 18);\n",
    "plt.title('Distribution plot showing ages having Hypertension',fontsize = 18);\n"
   ]
  },
  {
   "cell_type": "markdown",
   "id": "553947ff",
   "metadata": {},
   "source": [
    "> - ###  Graph depicts 50 to 70 age people are most likely to have Hypertension."
   ]
  },
  {
   "cell_type": "markdown",
   "id": "759f770d",
   "metadata": {},
   "source": [
    "### Let us check if people having hypertension shows to scheduled appointment."
   ]
  },
  {
   "cell_type": "code",
   "execution_count": null,
   "id": "e22c7475",
   "metadata": {},
   "outputs": [],
   "source": [
    "df.isnull().sum()"
   ]
  },
  {
   "cell_type": "code",
   "execution_count": null,
   "id": "18267302",
   "metadata": {},
   "outputs": [],
   "source": [
    "df.info()"
   ]
  },
  {
   "cell_type": "markdown",
   "id": "6d93a2ba",
   "metadata": {},
   "source": [
    "> ## - That's great!! our dataset has zero duplicate and null values."
   ]
  },
  {
   "cell_type": "markdown",
   "id": "1dd45058",
   "metadata": {},
   "source": [
    "### AppointmentID,PatientID column contains some system generated values which will not be of our use in the analysis."
   ]
  },
  {
   "cell_type": "code",
   "execution_count": null,
   "id": "5256d8a2",
   "metadata": {},
   "outputs": [],
   "source": [
    "#drop appointmentID\n",
    "df.drop(['AppointmentID','PatientId'],axis = 1, inplace = True)"
   ]
  },
  {
   "cell_type": "code",
   "execution_count": null,
   "id": "0497e9ee",
   "metadata": {},
   "outputs": [],
   "source": [
    "#convert all the column names to lowercase\n",
    "df.columns = df.columns.str.lower()"
   ]
  },
  {
   "cell_type": "code",
   "execution_count": null,
   "id": "038ff11c",
   "metadata": {},
   "outputs": [],
   "source": [
    "df.columns"
   ]
  },
  {
   "cell_type": "code",
   "execution_count": null,
   "id": "c2eadbc9",
   "metadata": {},
   "outputs": [],
   "source": [
    "#correct the columns with spelling mistakes and also for better understanding change 'no-show' column name to 'show'\n",
    "df.rename({'neighbourhood': 'neighbourhood' , 'hipertension' : 'hypertension', 'no-show':'show','handcap' : 'handicap'}, axis = 1, inplace = True)"
   ]
  },
  {
   "cell_type": "markdown",
   "id": "45217905",
   "metadata": {},
   "source": [
    "- ###  As we have changed the name of column from **no-show** to **show**.We should also change the values accordingly."
   ]
  },
  {
   "cell_type": "code",
   "execution_count": null,
   "id": "e2c60d2f",
   "metadata": {},
   "outputs": [],
   "source": [
    "#change 'No' to 'yes' and vice-versa\n",
    "df['show']=df['show'].map({'No':'yes', 'Yes': 'no'})"
   ]
  },
  {
   "cell_type": "markdown",
   "id": "0a567ddb",
   "metadata": {},
   "source": [
    "- ### appointmentday & scheduledday both are in int.Let's convert them."
   ]
  },
  {
   "cell_type": "code",
   "execution_count": null,
   "id": "18decaf0",
   "metadata": {},
   "outputs": [],
   "source": [
    "show_height=(show_yes['show'].shape[0] / df['show'].shape[0]) *100"
   ]
  },
  {
   "cell_type": "markdown",
   "id": "2189a8d8",
   "metadata": {},
   "source": [
    "### Proportion of people miss the schedule appointment"
   ]
  },
  {
   "cell_type": "code",
   "execution_count": null,
   "id": "f70578e0",
   "metadata": {},
   "outputs": [],
   "source": [
    "no_show_height=(show_no['show'].shape[0] / df['show'].shape[0]) * 100"
   ]
  },
  {
   "cell_type": "code",
   "execution_count": null,
   "id": "12db30f7",
   "metadata": {},
   "outputs": [],
   "source": [
    "#set figure size of graph\n",
    "plt.figure(figsize = (17,6));\n",
    "#set location & height of bar graph\n",
    "plt.bar(1, show_height,alpha=0.7,color = 'g',label = 'Showed to the appointment');\n",
    "plt.bar(2 , no_show_height, alpha=0.7, color = 'r', label = 'Missed appointment');\n",
    "location = [1,2]\n",
    "label = ['Show', 'No Show']\n",
    "#set ticklabels and title for the graph\n",
    "plt.xticks(location,label);\n",
    "plt.ylabel('Proportion of people' , fontsize = 18);\n",
    "plt.title('Graph showing Proportion of poeple shows & misses the appointment',fontsize = 18);\n",
    "plt.legend();"
   ]
  },
  {
   "cell_type": "markdown",
   "id": "d8b7af77",
   "metadata": {},
   "source": [
    "- ### Above graph depicts 80% of people comes to the scheduled appointment & 20% doesnt come."
   ]
  },
  {
   "cell_type": "code",
   "execution_count": null,
   "id": "d076be6f",
   "metadata": {},
   "outputs": [],
   "source": [
    "df.query(\"show == 'yes'\")['diabetes'].value_counts(normalize = True)"
   ]
  },
  {
   "cell_type": "markdown",
   "id": "f831e628",
   "metadata": {},
   "source": [
    "### Probability of patient visits the scheduled appointment who is handicap\n",
    "> - ### P(handicap|show)"
   ]
  },
  {
   "cell_type": "code",
   "execution_count": null,
   "id": "64675234",
   "metadata": {},
   "outputs": [],
   "source": [
    "df.query(\"show == 'yes'\")['handicap'].value_counts(normalize = True)"
   ]
  },
  {
   "cell_type": "markdown",
   "id": "068946e2",
   "metadata": {},
   "source": [
    "### Probability of patient visits the scheduled appointment who is alcoholic\n",
    "> - ### P(alcoholism|show)"
   ]
  },
  {
   "cell_type": "code",
   "execution_count": null,
   "id": "7dc30649",
   "metadata": {},
   "outputs": [],
   "source": [
    "df_new.drop(labels = ['appointmentmonth','appointmentyear','appointment_weekday',\n",
    "                      'scheduledmonth','scheduled_weekday','neighbourhood'],axis =1, inplace= True)"
   ]
  },
  {
   "cell_type": "code",
   "execution_count": null,
   "id": "390788c5",
   "metadata": {},
   "outputs": [],
   "source": [
    "df_new.head()"
   ]
  },
  {
   "cell_type": "code",
   "execution_count": null,
   "id": "606e1a1f",
   "metadata": {},
   "outputs": [],
   "source": [
    "df_new[['no','yes']] = pd.get_dummies(df_new['show'])"
   ]
  },
  {
   "cell_type": "code",
   "execution_count": null,
   "id": "6ab7d197",
   "metadata": {},
   "outputs": [],
   "source": [
    "df_new[['child','young','middle_age','senior']] = pd.get_dummies(df_new['age_grouped'])"
   ]
  },
  {
   "cell_type": "code",
   "execution_count": null,
   "id": "f04af58c",
   "metadata": {},
   "outputs": [],
   "source": [
    "df_new.loc[:,['age_grouped','child','middle_age','senior','young']].head(5)"
   ]
  },
  {
   "cell_type": "markdown",
   "id": "1da4a45d",
   "metadata": {},
   "source": [
    "## Machine Learning Model"
   ]
  },
  {
   "cell_type": "code",
   "execution_count": null,
   "id": "c9e70568",
   "metadata": {},
   "outputs": [],
   "source": [
    "import statsmodels.api as sm"
   ]
  },
  {
   "cell_type": "code",
   "execution_count": null,
   "id": "d8f13ef5",
   "metadata": {},
   "outputs": [],
   "source": [
    "from scipy import stats"
   ]
  },
  {
   "cell_type": "code",
   "execution_count": null,
   "id": "1f85b4bc",
   "metadata": {},
   "outputs": [],
   "source": [
    "stats.chisqprob = lambda chisq, df: stats.chi2.sf(chisq, df)"
   ]
  },
  {
   "cell_type": "code",
   "execution_count": null,
   "id": "8a39f1cb",
   "metadata": {},
   "outputs": [],
   "source": [
    "df_new['intercept'] = 1\n",
    "log_mod = sm.Logit(df_new['yes'], df_new[['intercept','hypertension','diabetes','alcoholism','handicap','child','middle_age','young']])\n",
    "results =log_mod.fit()\n",
    "results.summary()"
   ]
  },
  {
   "cell_type": "code",
   "execution_count": null,
   "id": "b6bb8b1d",
   "metadata": {},
   "outputs": [],
   "source": [
    "np.exp(results.params)"
   ]
  },
  {
   "cell_type": "markdown",
   "id": "ac3ade56",
   "metadata": {},
   "source": [
    "> #### For each increment  in Hypertension patient visit to Doctor increases by 1.01.\n",
    "\n",
    "> #### For each increment in Diabetes pateint visit to Doctor decreases by 0.9209.\n",
    "\n",
    "> #### For each increment in Alcoholic person  visit to Doctor decreases by 0.9144.\n",
    "\n",
    "> #### For each increment  in Handicap patient visit to Doctor increases by 1.03.\n",
    "\n",
    "> #### If a patient belong to child group showing to the scheduled appointment is 0.726 times as less  likely as compared to senior group holding all other parameters constant.\n",
    "\n",
    "> #### If a patient belong to middle_age group showing to the scheduled appointment is 0.735 times as less likely as compared to senior group holding all other parameters constant.\n",
    "\n",
    "> #### If a patient belong to young group showing to the scheduled appointment is 0.572 times as less likely as compared to senior group holding all other parameters constant.\n",
    "\n",
    "> ### Probability\n",
    "\n",
    ">> - #### slope of Diabetes and alcoholism is not equal to zero the are statistically significant in relation to show whereas handicap and hypertension are not statistically significant.child,young,middle_age coefficients suggest that they are statistically significant in relation with senior coefficient."
   ]
  },
  {
   "cell_type": "code",
   "execution_count": null,
   "id": "183bb16d",
   "metadata": {},
   "outputs": [],
   "source": [
    "import pandas as pd\n",
    "import numpy as np\n",
    "from matplotlib import pyplot as plt\n",
    "% matplotlib inline\n",
    "import seaborn as sns"
   ]
  },
  {
   "cell_type": "markdown",
   "id": "02627393",
   "metadata": {},
   "source": [
    "<a id='wrangling'></a>\n",
    "## Data Wrangling"
   ]
  },
  {
   "cell_type": "code",
   "execution_count": null,
   "id": "048071f7",
   "metadata": {},
   "outputs": [],
   "source": [
    "df = pd.read_csv('noshowappointments-kagglev2-may-2016.csv')\n",
    "df.head()"
   ]
  },
  {
   "cell_type": "code",
   "execution_count": null,
   "id": "25e1c425",
   "metadata": {},
   "outputs": [],
   "source": [
    "print('Number of rows and columns in dataset',df.shape)"
   ]
  },
  {
   "cell_type": "code",
   "execution_count": null,
   "id": "69d61712",
   "metadata": {},
   "outputs": [],
   "source": [
    "df.describe()"
   ]
  },
  {
   "cell_type": "code",
   "execution_count": null,
   "id": "209b1d65",
   "metadata": {},
   "outputs": [],
   "source": [
    "df.index"
   ]
  },
  {
   "cell_type": "code",
   "execution_count": null,
   "id": "a0f40b4d",
   "metadata": {},
   "outputs": [],
   "source": [
    "df.dtypes"
   ]
  },
  {
   "cell_type": "code",
   "execution_count": null,
   "id": "fce256ef",
   "metadata": {},
   "outputs": [],
   "source": [
    "df.duplicated().sum()"
   ]
  },
  {
   "cell_type": "code",
   "execution_count": null,
   "id": "7616acdb",
   "metadata": {},
   "outputs": [],
   "source": [
    "#get month from appointmentday\n",
    "df['appointmentmonth'] = df['appointmentday'].dt.month"
   ]
  },
  {
   "cell_type": "code",
   "execution_count": null,
   "id": "c420f6ee",
   "metadata": {},
   "outputs": [],
   "source": [
    "#get year from appointmentday\n",
    "df['appointmentyear'] = df['appointmentday'].dt.year"
   ]
  },
  {
   "cell_type": "code",
   "execution_count": null,
   "id": "264e6130",
   "metadata": {},
   "outputs": [],
   "source": [
    "from sklearn.model_selection import train_test_split"
   ]
  },
  {
   "cell_type": "code",
   "execution_count": null,
   "id": "c63b65f8",
   "metadata": {},
   "outputs": [],
   "source": [
    "from sklearn.metrics import accuracy_score"
   ]
  },
  {
   "cell_type": "code",
   "execution_count": null,
   "id": "5b72cbb1",
   "metadata": {},
   "outputs": [],
   "source": [
    "X_train,X_test,y_train,y_test  = train_test_split(X,y,test_size = 0.40, random_state = 0)"
   ]
  },
  {
   "cell_type": "code",
   "execution_count": null,
   "id": "f7e4747d",
   "metadata": {},
   "outputs": [],
   "source": [
    "knn = KNeighborsClassifier(n_neighbors = 5)\n",
    "knn.fit(X_train,y_train)\n",
    "y_preds = knn.predict(X_test)\n",
    "accuracy_score(y_test,y_preds)"
   ]
  },
  {
   "cell_type": "code",
   "execution_count": null,
   "id": "05f02d01",
   "metadata": {},
   "outputs": [],
   "source": [
    "logreg = LogisticRegression()\n",
    "logreg.fit(X_train,y_train)\n",
    "y_preds=logreg.predict(X_test)\n",
    "accuracy_score(y_test,y_preds)"
   ]
  },
  {
   "cell_type": "markdown",
   "id": "fae0b492",
   "metadata": {},
   "source": [
    "<a id='conclusions'></a>"
   ]
  },
  {
   "cell_type": "markdown",
   "id": "6b941158",
   "metadata": {},
   "source": [
    "<a id='conclusions'></a>\n",
    "## Conclusion"
   ]
  },
  {
   "cell_type": "markdown",
   "id": "06afc499",
   "metadata": {},
   "source": [
    "> 1. Observerd age group of patients in our dataset is from 0 to 80.\n",
    "\n",
    "> 2. Hypertension is observed more followed by diabetes,Alcoholism,Handicap. \n",
    "\n",
    "> 3. Senior people (age above 50) are most likely suffering from hypertension and child are most likely handicap.\n",
    "\n",
    "> 4. More number of female are suffering from Hypertension and diabetes whereas male are more likely to suffering from alcoholism.\n",
    "\n",
    "> 5. Irrespective of gender 80% of people visit to their scheduled appointments & that's a good sign It shows people do care about their health issues.\n",
    "\n",
    "> 6. 1% of people in our dataset have received Bolsa Familia scholarship and out of that Middle age group happen to receive highest rate of scholarship\n",
    "\n",
    "> 7. Parque Industrial,Ilha Do Boi,Aeroporto,Mario Cypreste,Solon Borges are the location of hospitals people most likely visit,\n",
    " Ilhas Oceanicas DE Trindade,Santos Dumont,Santa Cecilia,Santa Clara,Itarare are the location of hospitals people most likely don't visit\n",
    "\t\n",
    "> 8. It shows people who haven't received SMS visit on their scheduled appointment so,receiving SMS is not particularly a good parameter to predict if patient will show or not\n",
    "\n",
    "> 9. What factors are important for us to know in order to predict if a patient will show up for their scheduled appointment?\n",
    "\n",
    ">> - Disease,age group,SMS,scholarship,month,weekday are the top paramenters in predicting if patient will show up on the scheduled appointment.\n",
    "   \n",
    "\n"
   ]
  },
  {
   "cell_type": "markdown",
   "id": "cbb5a226",
   "metadata": {},
   "source": [
    "## Limitation"
   ]
  },
  {
   "cell_type": "markdown",
   "id": "255ccb6a",
   "metadata": {},
   "source": [
    "> - We had only 1% of whole dataset for people who have received scholarship & those are the people who  are financially poor.\n",
    "That means we were not having sufficient data to arrive to any robust conclusion for those 1% of patients.\n",
    "> - Also the dataset contains only 3 month information from 2016, information from rest of the months could have been more useful in analysing."
   ]
  },
  {
   "cell_type": "markdown",
   "id": "cc4baaf4",
   "metadata": {},
   "source": [
    "## Reference"
   ]
  },
  {
   "cell_type": "markdown",
   "id": "aa6477f9",
   "metadata": {},
   "source": [
    "- Data analysis in Python with pandas: [Data School](https://www.youtube.com/watch?v=yzIMircGU5I&list=PL5-da3qGB5ICCsgW1MxlZ0Hq8LL5U3u9y)\n",
    "\n",
    "- Bolsa Familia Scholarship: [Bolsa Familia](https://en.wikipedia.org/wiki/Bolsa_Fam%C3%ADlia)\n",
    "\n",
    "- And everyone on discussion forums who have solved my doubts"
   ]
  },
  {
   "cell_type": "code",
   "execution_count": null,
   "id": "66379a37",
   "metadata": {},
   "outputs": [],
   "source": [
    "#set figuresize\n",
    "plt.figure(figsize = (17,6));\n",
    "#plot a bar graph\n",
    "(df_hyper['show'].value_counts(normalize = True)).plot(kind = 'bar',fontsize = 15);\n",
    "#set location and labels\n",
    "locations = [0,1]\n",
    "labels = ['Yes', 'No']\n",
    "#set ticklabels and title\n",
    "plt.xticks(locations,labels);\n",
    "plt.xlabel('Appointment Status', fontsize = 18);\n",
    "plt.ylabel('Proportion', fontsize = 18);\n",
    "plt.title('Relation between people having hypertension and appointment status', fontsize = 18);"
   ]
  },
  {
   "cell_type": "markdown",
   "id": "8c401cdf",
   "metadata": {},
   "source": [
    "> - ### 80% of patients having Hypertension visit to Doctor on their Scheduled appointment"
   ]
  },
  {
   "cell_type": "code",
   "execution_count": null,
   "id": "5de2b5c6",
   "metadata": {},
   "outputs": [],
   "source": [
    "df.groupby('hypertension')['gender'].value_counts(normalize = True)"
   ]
  },
  {
   "cell_type": "code",
   "execution_count": null,
   "id": "4074d5fc",
   "metadata": {},
   "outputs": [],
   "source": [
    "plt.figure(figsize = (17,6));\n",
    "df_hyper['gender'].value_counts(normalize = True).plot(kind = 'bar',fontsize = 15);\n",
    "locations = [0,1]\n",
    "labels = ['Female', 'Male']\n",
    "plt.xticks(locations,labels);\n",
    "plt.xlabel('Gender', fontsize = 18);\n",
    "plt.ylabel('Frequency', fontsize = 18);\n",
    "plt.title('No. of people having Hypertension', fontsize = 18);"
   ]
  },
  {
   "cell_type": "markdown",
   "id": "5ef3c288",
   "metadata": {},
   "source": [
    "> - ### Graph shows More number of females are suffering from hypertension than males"
   ]
  },
  {
   "cell_type": "markdown",
   "id": "2a8c1f49",
   "metadata": {},
   "source": [
    "### Is there any relation between disease and people visiting on their appointment?"
   ]
  },
  {
   "cell_type": "code",
   "execution_count": null,
   "id": "e86c8516",
   "metadata": {},
   "outputs": [],
   "source": [
    "df.groupby('hypertension')['show'].value_counts(normalize = True)"
   ]
  },
  {
   "cell_type": "code",
   "execution_count": null,
   "id": "a1291dfe",
   "metadata": {},
   "outputs": [],
   "source": [
    "df.groupby('diabetes')['show'].value_counts(normalize = True)"
   ]
  },
  {
   "cell_type": "code",
   "execution_count": null,
   "id": "1cf63530",
   "metadata": {},
   "outputs": [],
   "source": [
    "df.groupby('alcoholism')['show'].value_counts(normalize = True)"
   ]
  },
  {
   "cell_type": "code",
   "execution_count": null,
   "id": "2441e3a7",
   "metadata": {},
   "outputs": [],
   "source": [
    "df.groupby('diabetes')['gender'].value_counts(normalize = True)"
   ]
  },
  {
   "cell_type": "code",
   "execution_count": null,
   "id": "677c1e03",
   "metadata": {},
   "outputs": [],
   "source": [
    "#set figuresize\n",
    "plt.figure(figsize = (17,6));\n",
    "#plot bargraph depicting rate of diabetes\n",
    "df.groupby('diabetes')['gender'].value_counts(normalize = True)[1].plot(kind = 'bar',fontsize = 15);\n",
    "location = [0,1]\n",
    "labels = ['Female','Male']\n",
    "#set xticks,labels and location\n",
    "plt.xticks(location,labels);\n",
    "\n",
    "plt.xlabel('Gender', fontsize = 18);\n",
    "plt.ylabel('diabetes Proportion ', fontsize = 18);\n",
    "plt.title('Proportion of people having diabetes', fontsize = 18);"
   ]
  },
  {
   "cell_type": "markdown",
   "id": "dd459c4f",
   "metadata": {},
   "source": [
    "> - ### 70% of Female are suffering from diabetes whereas 30% of male are suffering from diabetes"
   ]
  },
  {
   "cell_type": "code",
   "execution_count": null,
   "id": "4784d8ae",
   "metadata": {},
   "outputs": [],
   "source": [
    "show_appoi=df.query(\"show == 'yes'\")"
   ]
  },
  {
   "cell_type": "code",
   "execution_count": null,
   "id": "ce53e07a",
   "metadata": {},
   "outputs": [],
   "source": [
    "df.groupby('handicap')['gender'].value_counts(normalize = True)"
   ]
  },
  {
   "cell_type": "code",
   "execution_count": null,
   "id": "51609cba",
   "metadata": {},
   "outputs": [],
   "source": [
    "sns.countplot(df['handicap'],hue = df['show'],data= df);"
   ]
  },
  {
   "cell_type": "code",
   "execution_count": null,
   "id": "83962f96",
   "metadata": {},
   "outputs": [],
   "source": [
    "df.groupby('handicap')['show'].value_counts(normalize = True)"
   ]
  },
  {
   "cell_type": "code",
   "execution_count": null,
   "id": "84ebbbaa",
   "metadata": {},
   "outputs": [],
   "source": [
    "plt.figure(figsize =(17,6));\n",
    "plt.bar(0,df.groupby('handicap')['show'].value_counts(normalize = True)[0]['yes']);\n",
    "plt.bar(1,df.groupby('handicap')['show'].value_counts(normalize = True)[1]['yes']);\n",
    "plt.bar(2,df.groupby('handicap')['show'].value_counts(normalize = True)[2]['yes']);\n",
    "plt.bar(3,df.groupby('handicap')['show'].value_counts(normalize = True)[3]['yes']);\n",
    "plt.bar(4,df.groupby('handicap')['show'].value_counts(normalize = True)[4]['yes']);\n",
    "plt.xlabel('Levels of handicap',fontsize = 18);\n",
    "plt.ylabel('Proportion',fontsize = 18);\n",
    "plt.title('Proportion of patients visiting as per the level of handicap',fontsize = 18);\n"
   ]
  },
  {
   "cell_type": "markdown",
   "id": "cd4eca45",
   "metadata": {},
   "source": [
    ">  - ### 82% of the patient from Level1 visit on their scheduled appointment followed by Level0,Level2,Level3.Only 66% from level4 shows up.\n"
   ]
  },
  {
   "cell_type": "code",
   "execution_count": null,
   "id": "25166de5",
   "metadata": {},
   "outputs": [],
   "source": [
    "df_hyper = df.query(\"hypertension == 1\")"
   ]
  },
  {
   "cell_type": "code",
   "execution_count": null,
   "id": "e8048668",
   "metadata": {},
   "outputs": [],
   "source": [
    "df.groupby('alcoholism')['gender'].value_counts(normalize = True)"
   ]
  },
  {
   "cell_type": "code",
   "execution_count": null,
   "id": "abfc3f2d",
   "metadata": {},
   "outputs": [],
   "source": [
    "#set figuresize\n",
    "plt.figure(figsize = (17,6));\n",
    "#plot bargraph depicting rate of alcohlism\n",
    "df.groupby('alcoholism')['gender'].value_counts(normalize = True)[1].plot(kind = 'bar',fontsize = 15);\n",
    "location = [0,1]\n",
    "labels = ['Male','Female']\n",
    "#set xticks,labels and location\n",
    "plt.xticks(location,labels);\n",
    "\n",
    "plt.xlabel('Gender', fontsize = 18);\n",
    "plt.ylabel('Alcoholic Proportion ', fontsize = 18);\n",
    "plt.title('Proportion of people who are alcoholic', fontsize = 18);"
   ]
  },
  {
   "cell_type": "markdown",
   "id": "b8156798",
   "metadata": {},
   "source": [
    "> - ### 60% of male are alcoholic while 40% of female are alcoholic"
   ]
  },
  {
   "cell_type": "markdown",
   "id": "22d8914c",
   "metadata": {},
   "source": [
    "### Frequent times of the day for visiting the scheduled appointment"
   ]
  }
 ],
 "metadata": {},
 "nbformat": 4,
 "nbformat_minor": 5
}
