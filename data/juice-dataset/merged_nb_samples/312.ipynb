{
 "cells": [
  {
   "cell_type": "markdown",
   "id": "be09b360",
   "metadata": {},
   "source": [
    "# Functional Programming \n",
    "## What, Why and How\n",
    "\n",
    "We will try to explain the first principles of functional programming by trying as much as possible to avoid big FP words.\n",
    "\n",
    "We will use python for this exercise, because it's easy to read; and it provides all the functional features required for understanding concepts described in this document."
   ]
  },
  {
   "cell_type": "markdown",
   "id": "a0a77f55",
   "metadata": {},
   "source": [
    "# A simple problem\n",
    "\n",
    "## Count the number of words in a large file\n",
    "\n",
    "You have a file which may have millions of lines. we need to count the number of words on the file."
   ]
  },
  {
   "cell_type": "markdown",
   "id": "852bdc5e",
   "metadata": {},
   "source": [
    "### A simple solution"
   ]
  },
  {
   "cell_type": "code",
   "execution_count": null,
   "id": "14d663f4",
   "metadata": {},
   "outputs": [],
   "source": [
    "def count_w(filename):\n",
    "    count = 0\n",
    "    offset = 0\n",
    "    file = open(filenames)\n",
    "    for line in file:\n",
    "        for w in line.split():\n",
    "            count += 1\n",
    "    return count\n",
    "# But This Doesnt Scale!"
   ]
  },
  {
   "cell_type": "markdown",
   "id": "29c1cc85",
   "metadata": {},
   "source": [
    "When things don't scale,\n",
    "![title](img/parallel.jpg)"
   ]
  },
  {
   "cell_type": "markdown",
   "id": "4e5e9fd4",
   "metadata": {},
   "source": [
    "Lets try the same example with Threads"
   ]
  },
  {
   "cell_type": "code",
   "execution_count": null,
   "id": "5366a48a",
   "metadata": {},
   "outputs": [],
   "source": [
    "count = 0\n",
    "\n",
    "def count_w_chunk(file_chunk):\n",
    "    global count\n",
    "    count = 0\n",
    "    offset = 0\n",
    "    file = open(filenames)\n",
    "    for line in file:\n",
    "        for w in line.split():\n",
    "            count += 1\n",
    "\n",
    "#actual driver code\n",
    "def count_w(file):\n",
    "    threads = [] # empty thread list\n",
    "    chunks = file.make_chunks()\n",
    "    # magic function parallelize\n",
    "    for chunk in chunks:\n",
    "        parallelize(count_w_chunks(chunk))\n",
    "    print (count)\n"
   ]
  },
  {
   "cell_type": "markdown",
   "id": "45458542",
   "metadata": {},
   "source": [
    "# But the code doesn't work!\n",
    "## Race Conditions\n",
    "\n",
    "Lets take a simpler example"
   ]
  },
  {
   "cell_type": "code",
   "execution_count": null,
   "id": "3c4dd83d",
   "metadata": {},
   "outputs": [],
   "source": [
    "count = 0\n",
    "def increment(delta):\n",
    "    global count\n",
    "    temp = count\n",
    "    temp += delta\n",
    "    count = temp\n",
    "    return count\n",
    "\n",
    "# what will happen if increment(1) is run parallelly 1000 times ?"
   ]
  },
  {
   "cell_type": "markdown",
   "id": "1dd0fa47",
   "metadata": {},
   "source": [
    "The result will be less than 1000 most of the time.\n",
    "We will need some sort of locking/synchronization mechanism to avoid writing the same value to the variable over and over again."
   ]
  },
  {
   "cell_type": "code",
   "execution_count": null,
   "id": "1d1d1cee",
   "metadata": {},
   "outputs": [],
   "source": [
    "# this will work, but sucks\n",
    "count = 0\n",
    "def increment(delta):\n",
    "    global count\n",
    "    with synchronized(count):\n",
    "        count += delta\n",
    "    return count\n"
   ]
  },
  {
   "cell_type": "markdown",
   "id": "693cdcc9",
   "metadata": {},
   "source": [
    "The culprit in the above code is the assignment. Re-assignment to be precise. Once initialized, a `variable` can have different values at different times, depending on what we are `assigning` to it.\n",
    "If we had code that did not change the `state` of `count` variable, we would'nt need to synchronize the assignments."
   ]
  },
  {
   "cell_type": "markdown",
   "id": "f872ecbb",
   "metadata": {},
   "source": [
    "# Principle 1\n",
    "## Avoid shared state change wherever possible"
   ]
  },
  {
   "cell_type": "markdown",
   "id": "9b37d245",
   "metadata": {},
   "source": [
    "# Functions with Side Effects\n",
    "\n",
    "When a function changes it `state` while it's being executed, and the `state` change is persisted between execution.\n",
    "Put simply but inaccurately, if a function might different values while invoking it with the same parameters\n",
    "\n",
    "#### Note\n",
    "Functions that changes `state` outside it's scope also cause side effects. For example,\n",
    "```code\n",
    "def foo():\n",
    "    with open('filename', 'a') as f:\n",
    "        f.write('side effect')\n",
    "    return 0\n",
    "```\n",
    "The above function returns 0 all the time, but still changes the `state` of the file system"
   ]
  },
  {
   "cell_type": "markdown",
   "id": "23b934a3",
   "metadata": {},
   "source": [
    "# What is a function?\n",
    "### We have functions in Mathematics \n",
    "\n",
    "```math\n",
    "f(x) = x^2 + 2x + 3\n",
    "```\n",
    "\n",
    "They do no state manipulation. f(25) is 678 no matter how many times you call it.\n",
    "These kind of functions are called `pure` functions.\n",
    "\n",
    "Read more about pure functions [here](https://en.wikipedia.org/wiki/Pure_function)\n",
    "\n",
    "While you are at it, read about [referential transparency](https://en.wikipedia.org/wiki/Referential_transparency)\n",
    "\n",
    "Its okay if you don't get it.\n"
   ]
  },
  {
   "cell_type": "code",
   "execution_count": null,
   "id": "7b2d2748",
   "metadata": {},
   "outputs": [],
   "source": [
    "# Modeling a 'pure' function\n",
    "def f(x):\n",
    "    return x*x + 2*x + 3"
   ]
  },
  {
   "cell_type": "code",
   "execution_count": null,
   "id": "ba8a9c1a",
   "metadata": {},
   "outputs": [],
   "source": [
    "f(9)"
   ]
  },
  {
   "cell_type": "markdown",
   "id": "76e8bd6c",
   "metadata": {},
   "source": [
    "# Say NO to Mutations"
   ]
  },
  {
   "cell_type": "markdown",
   "id": "5f2d2874",
   "metadata": {},
   "source": [
    "# Imagine a world without assignments\n",
    "\n",
    "* No mutations no race conditions\n",
    "* Free parallelism\n",
    "* Modular code\n",
    "* Mathematical reasonability\n",
    "* Your IDE can tell you if your code is right"
   ]
  },
  {
   "cell_type": "markdown",
   "id": "9843b124",
   "metadata": {},
   "source": [
    "# some fun with fun-ctions\n",
    "#### I do not apologize for my puns"
   ]
  },
  {
   "cell_type": "code",
   "execution_count": null,
   "id": "ea00a440",
   "metadata": {},
   "outputs": [],
   "source": [
    "# frange(0,1,0.1) == [0, .1, .2, .3, .4 ... .9]\n",
    "def frange(a,b,delta):\n",
    "    i = a\n",
    "    while i < b:\n",
    "        yield i\n",
    "        i += delta\n",
    "        \n",
    "# yes there are assignments in the above code, they are avoidable using recursion"
   ]
  },
  {
   "cell_type": "code",
   "execution_count": null,
   "id": "24459967",
   "metadata": {},
   "outputs": [],
   "source": [
    "# integration; approximation of area under the curve. for more accurate value, reduce the value of err\n",
    "def integ(f, a,b):\n",
    "    err = 0.01\n",
    "    return sum( [f(x) * err for x in frange(a,b,err)]\n",
    "    )\n"
   ]
  },
  {
   "cell_type": "code",
   "execution_count": null,
   "id": "32080fc6",
   "metadata": {},
   "outputs": [],
   "source": [
    "def square(x):\n",
    "    return x*x\n",
    "\n",
    "integ(square, 0, 2)"
   ]
  },
  {
   "cell_type": "code",
   "execution_count": null,
   "id": "2311cf9f",
   "metadata": {},
   "outputs": [],
   "source": [
    "# functions returning functions\n",
    "\n",
    "def add_value(value):\n",
    "    def adder(x):\n",
    "        return x + value\n",
    "    return adder"
   ]
  },
  {
   "cell_type": "code",
   "execution_count": null,
   "id": "e888a772",
   "metadata": {},
   "outputs": [],
   "source": [
    "add5 = add_value(5)"
   ]
  },
  {
   "cell_type": "code",
   "execution_count": null,
   "id": "155b1c54",
   "metadata": {},
   "outputs": [],
   "source": [
    "add5(22)"
   ]
  },
  {
   "cell_type": "markdown",
   "id": "44910054",
   "metadata": {},
   "source": [
    "  ### A note about Lambda\n",
    "  \n",
    "  lambda lets you write functions similar to mathematical expressions. It saves mind-space in remembering definitions, and sometimes makes statements more readable.\n",
    "  \n",
    "As a rule of thumb, use lambdas if the return value is a simple expression"
   ]
  },
  {
   "cell_type": "code",
   "execution_count": null,
   "id": "de12bc79",
   "metadata": {},
   "outputs": [],
   "source": [
    "def square(x):\n",
    "    return x*x\n",
    "\n",
    "# is the same as\n",
    "lambda x: x*x\n"
   ]
  },
  {
   "cell_type": "code",
   "execution_count": null,
   "id": "9aaec6a1",
   "metadata": {},
   "outputs": [],
   "source": [
    "# functions taking functions as argument\n",
    "\n",
    "def fogger(f,g):\n",
    "    def fog(x):\n",
    "        return f(g(x))\n",
    "    return fog"
   ]
  },
  {
   "cell_type": "code",
   "execution_count": null,
   "id": "0d57298a",
   "metadata": {},
   "outputs": [],
   "source": [
    "def add6(x):\n",
    "    return x + 6\n",
    "\n",
    "new_function = fogger (add6, add5)\n",
    "new_function(20)"
   ]
  },
  {
   "cell_type": "markdown",
   "id": "fe070e1c",
   "metadata": {},
   "source": [
    "# Map Reduce & Filter"
   ]
  }
 ],
 "metadata": {},
 "nbformat": 4,
 "nbformat_minor": 5
}
