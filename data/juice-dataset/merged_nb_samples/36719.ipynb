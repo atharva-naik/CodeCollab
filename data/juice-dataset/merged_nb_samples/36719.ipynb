{
 "cells": [
  {
   "cell_type": "markdown",
   "id": "19997c77",
   "metadata": {},
   "source": [
    "# Food facts\n",
    "\n",
    "data source: http://world.openfoodfacts.org/data/en.openfoodfacts.org.products.csv"
   ]
  },
  {
   "cell_type": "code",
   "execution_count": null,
   "id": "ef43f39a",
   "metadata": {},
   "outputs": [],
   "source": [
    "import pandas as pd\n",
    "import numpy as np"
   ]
  },
  {
   "cell_type": "markdown",
   "id": "e6248689",
   "metadata": {},
   "source": [
    "According to https://world.openfoodfacts.org/data\n",
    "\n",
    "```\n",
    "CSV Data Export\n",
    "Data for all products, or some of the products, can be downloaded in CSV format (readable with OpenOffice, Excel and many other software) through the advanced search form.\n",
    "\n",
    "Link : http://world.openfoodfacts.org/data/en.openfoodfacts.org.products.csv\n",
    "\n",
    "The file encoding is Unicode UTF-8. The character that separates fields is <tab> (tabulation).\n",
    "```"
   ]
  },
  {
   "cell_type": "code",
   "execution_count": null,
   "id": "216f927c",
   "metadata": {},
   "outputs": [],
   "source": [
    "df = pd.read_csv('food-facts.csv', sep='\\t', low_memory=False)"
   ]
  },
  {
   "cell_type": "code",
   "execution_count": null,
   "id": "b662c7e6",
   "metadata": {},
   "outputs": [],
   "source": [
    "df.head()"
   ]
  },
  {
   "cell_type": "markdown",
   "id": "8b9891d5",
   "metadata": {},
   "source": [
    "How many rows do we have?"
   ]
  },
  {
   "cell_type": "markdown",
   "id": "9141d69c",
   "metadata": {},
   "source": [
    "Summarizing information"
   ]
  },
  {
   "cell_type": "code",
   "execution_count": null,
   "id": "4357e769",
   "metadata": {},
   "outputs": [],
   "source": [
    "df.info()"
   ]
  },
  {
   "cell_type": "markdown",
   "id": "06ef8e2e",
   "metadata": {},
   "source": [
    "What are the columns?"
   ]
  },
  {
   "cell_type": "code",
   "execution_count": null,
   "id": "b5097e8c",
   "metadata": {},
   "outputs": [],
   "source": [
    "df.columns"
   ]
  },
  {
   "cell_type": "markdown",
   "id": "bfcd7a73",
   "metadata": {},
   "source": [
    "What is the name of the 100th column?"
   ]
  },
  {
   "cell_type": "code",
   "execution_count": null,
   "id": "4d4405b6",
   "metadata": {},
   "outputs": [],
   "source": [
    "df.columns[[100,105]]"
   ]
  },
  {
   "cell_type": "markdown",
   "id": "00d4de3e",
   "metadata": {},
   "source": [
    "What is the type of the 100th column?"
   ]
  }
 ],
 "metadata": {},
 "nbformat": 4,
 "nbformat_minor": 5
}
