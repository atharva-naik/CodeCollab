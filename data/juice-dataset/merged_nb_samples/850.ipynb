{
 "cells": [
  {
   "cell_type": "markdown",
   "id": "e63ce561",
   "metadata": {},
   "source": [
    "# Prediction Model for Video games sales"
   ]
  },
  {
   "cell_type": "code",
   "execution_count": null,
   "id": "f7b5a7b6",
   "metadata": {},
   "outputs": [],
   "source": [
    "import numpy as np\n",
    "import pandas as pd\n",
    "%matplotlib inline\n",
    "\n",
    "df = pd.read_csv(\"vgsales.csv\")\n",
    "df.head()"
   ]
  },
  {
   "cell_type": "markdown",
   "id": "ea4a00ae",
   "metadata": {},
   "source": [
    "# Converting the categorical values in Platform, Genre, Publisher into a numerical values"
   ]
  },
  {
   "cell_type": "code",
   "execution_count": null,
   "id": "fe2278c5",
   "metadata": {},
   "outputs": [],
   "source": [
    "from sklearn.preprocessing import LabelEncoder\n",
    "number = LabelEncoder()\n",
    "df['Platform'] = number.fit_transform(df['Platform'].astype('str'))\n",
    "df['Genre'] = number.fit_transform(df['Genre'].astype('str'))\n",
    "df['Publisher'] = number.fit_transform(df['Publisher'].astype('str'))"
   ]
  },
  {
   "cell_type": "code",
   "execution_count": null,
   "id": "22de4315",
   "metadata": {},
   "outputs": [],
   "source": [
    "df.head()"
   ]
  },
  {
   "cell_type": "markdown",
   "id": "d511dfae",
   "metadata": {},
   "source": [
    "# Now that our dataset has been converted into numeric values, we can remove certain features like name and year as they are not a good features"
   ]
  },
  {
   "cell_type": "code",
   "execution_count": null,
   "id": "f6bf6d68",
   "metadata": {},
   "outputs": [],
   "source": [
    "dff = df.drop(['Rank','Name', 'Year'], axis =1)"
   ]
  },
  {
   "cell_type": "code",
   "execution_count": null,
   "id": "9550c014",
   "metadata": {},
   "outputs": [],
   "source": [
    "dff.head()"
   ]
  },
  {
   "cell_type": "markdown",
   "id": "c3fb5dc7",
   "metadata": {},
   "source": [
    "# For experiment purpose we only consider the first 3 features"
   ]
  },
  {
   "cell_type": "code",
   "execution_count": null,
   "id": "83f1d92b",
   "metadata": {},
   "outputs": [],
   "source": [
    "df3 = dff.drop(['NA_Sales','EU_Sales', 'JP_Sales', 'Other_Sales'], axis =1)\n",
    "df3.head()"
   ]
  },
  {
   "cell_type": "code",
   "execution_count": null,
   "id": "4de7badf",
   "metadata": {},
   "outputs": [],
   "source": [
    "columns = [\"Platform\", \"Genre\", \"Publisher\"]\n",
    " \n",
    "labels = df3[\"Global_Sales\"].values\n",
    "features = df3[list(columns)].values"
   ]
  },
  {
   "cell_type": "markdown",
   "id": "6c278b6b",
   "metadata": {},
   "source": [
    "# Creating the model and passing the values"
   ]
  }
 ],
 "metadata": {},
 "nbformat": 4,
 "nbformat_minor": 5
}
