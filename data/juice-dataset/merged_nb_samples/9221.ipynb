{
 "cells": [
  {
   "cell_type": "markdown",
   "id": "60349730",
   "metadata": {},
   "source": [
    "## Credit Scoring Classification\n",
    "\n",
    "\n",
    "This notebook is a quick introduction the Viya Python Client and also Skleanr to fit and compare models.\n"
   ]
  },
  {
   "cell_type": "markdown",
   "id": "e8b0c588",
   "metadata": {},
   "source": [
    "## Load Python Packages including SAS SWAT\n",
    "\n"
   ]
  },
  {
   "cell_type": "code",
   "execution_count": null,
   "id": "71eaca8e",
   "metadata": {},
   "outputs": [],
   "source": [
    "import pandas as pd\n",
    "import numpy as np\n",
    "import matplotlib.pyplot as plt\n",
    "%matplotlib inline\n",
    "import statsmodels.api as sm\n",
    "from statsmodels.nonparametric.kde import KDEUnivariate\n",
    "from statsmodels.nonparametric import smoothers_lowess\n",
    "from pandas import Series, DataFrame\n",
    "from patsy import dmatrices\n",
    "from sklearn.ensemble import RandomForestClassifier\n",
    "\n",
    "import sys\n",
    "sys.path.insert(0, r'\\\\newwinsrc\\sasgen\\dev\\mva-vb005\\GTKWX6ND\\misc\\python')\n",
    "from swat import *\n",
    "from swat.render import render_html"
   ]
  },
  {
   "cell_type": "markdown",
   "id": "3ed66a27",
   "metadata": {},
   "source": [
    "## Load CSV File to Data Frame\n",
    "\n",
    "\n",
    "The function that reads CSV files into DataFrames is called ``read_csv``.   We'll use the ``head`` method to display just the first few records."
   ]
  },
  {
   "cell_type": "code",
   "execution_count": null,
   "id": "7c7a9eb5",
   "metadata": {},
   "outputs": [],
   "source": [
    "\n",
    "df = pd.read_csv(\"C:\\demodata\\cs_accepts_train.csv\")\n",
    "df.head()"
   ]
  },
  {
   "cell_type": "markdown",
   "id": "58d24dec",
   "metadata": {},
   "source": [
    "There are many more Pandas data readers that you read about on the [Pandas web site](http://pandas.pydata.org/pandas-docs/stable/io.html)."
   ]
  },
  {
   "cell_type": "markdown",
   "id": "71d092dd",
   "metadata": {},
   "source": [
    "### Displaying Information about DataFrames\n",
    "\n",
    "We have displayed the DataFrame above.  We can get more information about the DataFrame using various properties and methods.\n",
    "\n",
    "The list of column names can be displayed using the ``columns`` property."
   ]
  },
  {
   "cell_type": "code",
   "execution_count": null,
   "id": "a3e97c9e",
   "metadata": {},
   "outputs": [],
   "source": [
    "df.columns"
   ]
  },
  {
   "cell_type": "markdown",
   "id": "9f7cb332",
   "metadata": {},
   "source": [
    "### Fit  a Random Forest Using Continous Features"
   ]
  },
  {
   "cell_type": "code",
   "execution_count": null,
   "id": "d00b3740",
   "metadata": {},
   "outputs": [],
   "source": [
    "cols = ['Age', 'bureau', 'Income', 'status'] \n",
    "y = ['target']\n",
    "trainArr = df.as_matrix(cols) #training array\n",
    "trainRes = df.as_matrix(y) # training results\n",
    "print(trainArr)\n",
    "print (trainRes)\n",
    "\n",
    "rf = RandomForestClassifier(n_estimators=100) # initialize\n",
    "rf.fit(trainArr, trainRes) # fit the data to the algorithm\n"
   ]
  },
  {
   "cell_type": "markdown",
   "id": "1dda5890",
   "metadata": {},
   "source": [
    "### Fit a Random Forest Using Vectorization to Define Design Matrix"
   ]
  },
  {
   "cell_type": "code",
   "execution_count": null,
   "id": "500e677f",
   "metadata": {},
   "outputs": [],
   "source": [
    "# json format of the features\n",
    "newTrain = df[['Age', 'bureau', 'Income', 'status']].T.to_dict().values()\n",
    "\n",
    "# list format of the target\n",
    "y = ['target']\n",
    "newResponse = df.as_matrix(y).ravel() # training results\n",
    "\n",
    "# vectorizing\n",
    "from sklearn.feature_extraction import DictVectorizer\n",
    "\n",
    "vec = DictVectorizer()\n",
    "newTrain2 = vec.fit_transform(newTrain).toarray()\n",
    "\n",
    "rf = RandomForestClassifier(n_estimators=100) # initialize\n",
    "rf.fit(newTrain2, newResponse)                # fit the data to the algorithm"
   ]
  },
  {
   "cell_type": "markdown",
   "id": "1db71e71",
   "metadata": {},
   "source": [
    "### Define and Score Test Data"
   ]
  }
 ],
 "metadata": {},
 "nbformat": 4,
 "nbformat_minor": 5
}
