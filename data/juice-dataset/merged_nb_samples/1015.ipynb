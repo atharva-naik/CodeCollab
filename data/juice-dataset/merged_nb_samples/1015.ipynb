{
 "cells": [
  {
   "cell_type": "markdown",
   "id": "26cba27c",
   "metadata": {},
   "source": [
    "## Notes about machine generated images:\n",
    "<p> I'm republishing this notebook because questions about machine generated images are getting asked alot.\n",
    " Machine generated images DO NOT count in the scoring of the public or private leaderboard.  It says this in the competition description!  <br>\n",
    "TL:DR - You can identify machine generated images by the length of the decimal in the incidence angle (natural have <= 4, machine generated have > 4).   <br>\n",
    "This really has no effect on your predictions, but I guess it could make it easier for you to hand label the 3425 natural images if you really wanted to.  \n",
    "</p>"
   ]
  },
  {
   "cell_type": "code",
   "execution_count": null,
   "id": "24e26dc8",
   "metadata": {},
   "outputs": [],
   "source": [
    "import numpy as np\n",
    "import pandas as pd\n",
    "import matplotlib.pyplot as plt\n",
    "from subprocess import check_output\n",
    "from mpl_toolkits.axes_grid1 import ImageGrid\n",
    "import random\n",
    "random.seed(1)"
   ]
  },
  {
   "cell_type": "code",
   "execution_count": null,
   "id": "5779ee42",
   "metadata": {},
   "outputs": [],
   "source": [
    "train = pd.read_json(\"../input/train.json\")\n",
    "agg_df = train.groupby('inc_angle').agg({\"is_iceberg\": [len, np.sum]}).sort_values([('is_iceberg', 'len')], ascending=False)\n",
    "agg_df[0:20]"
   ]
  },
  {
   "cell_type": "code",
   "execution_count": null,
   "id": "302857d9",
   "metadata": {},
   "outputs": [],
   "source": [
    "def plot_bands(df, ia):\n",
    "    df = df[df['inc_angle'] == ia]\n",
    "    i = int(np.sqrt(len(df))//1 * 2)\n",
    "    j = int(2*len(df) // i + 1)\n",
    "    fig = plt.figure(1, figsize=(24,24))\n",
    "    grid = ImageGrid(fig, 111, nrows_ncols=(i, j), axes_pad=0.05)\n",
    "    for i, (band1, band2, id_num, inc_angle, iceberg) in enumerate(df.values):\n",
    "        # plot band 1\n",
    "        ax = grid[(i*2)]\n",
    "        band1_sample = band1\n",
    "        band1_sample = np.array(band1_sample).reshape(75, 75)\n",
    "        ax.imshow(band1_sample / 75.)\n",
    "        ax.text(10, 4, 'Id: %s %s' % (id_num, \"Band_1\"), color='k', backgroundcolor='m', alpha=0.8)\n",
    "        ax.text(10, 10, 'Incidence Angle: (%.4f)' % inc_angle, color='w', backgroundcolor='k', alpha=0.8)\n",
    "        ax.text(10, 16, 'Is Iceberg: %s' % iceberg, color='k', backgroundcolor='w', alpha=0.8)\n",
    "        ax.axis('on')\n",
    "        # plot band 2\n",
    "        ax = grid[(i*2)+1]\n",
    "        band2_sample = band2\n",
    "        band2_sample = np.array(band2_sample).reshape(75, 75)\n",
    "        ax.imshow(band2_sample / 75.)\n",
    "        ax.text(10, 4, 'Id: %s %s' % (id_num, \"Band_2\"), color='k', backgroundcolor='m', alpha=0.8)\n",
    "        ax.text(10, 10, 'Incidence Angle: (%.4f)' % inc_angle, color='w', backgroundcolor='k', alpha=0.8)\n",
    "        ax.text(10, 16, 'Is Iceberg: %s' % iceberg, color='k', backgroundcolor='w', alpha=0.8)\n",
    "        ax.axis('on')"
   ]
  },
  {
   "cell_type": "markdown",
   "id": "aee75ad3",
   "metadata": {},
   "source": [
    "## Plot some of the leaky image pairs"
   ]
  },
  {
   "cell_type": "code",
   "execution_count": null,
   "id": "57cdfe76",
   "metadata": {},
   "outputs": [],
   "source": [
    "test = pd.read_json(\"../input/test.json\")\n",
    "test['is_iceberg'] = -999\n",
    "combined = pd.concat([train, test])"
   ]
  },
  {
   "cell_type": "code",
   "execution_count": null,
   "id": "413ed4c7",
   "metadata": {},
   "outputs": [],
   "source": [
    "plot_bands(combined, 42.5128)"
   ]
  },
  {
   "cell_type": "code",
   "execution_count": null,
   "id": "62f6b9d6",
   "metadata": {},
   "outputs": [],
   "source": [
    "def plot_bands_test(df):\n",
    "    df = df.sample(8)\n",
    "    i = 4 #int(np.sqrt(len(df))//1 * 2)\n",
    "    j = 4 #int(2*len(df) // i + 1)\n",
    "    fig = plt.figure(1, figsize=(16,16))\n",
    "    grid = ImageGrid(fig, 111, nrows_ncols=(i, j), axes_pad=0.05)\n",
    "    for i, (band1, band2, id_num, inc_angle, iceberg) in enumerate(df.values):\n",
    "        # plot band 1\n",
    "        ax = grid[(i*2)]\n",
    "        band1_sample = band1\n",
    "        band1_sample = np.array(band1_sample).reshape(75, 75)\n",
    "        ax.imshow(band1_sample / 75.)\n",
    "        ax.text(10, 4, 'Id: %s %s' % (id_num, \"Band_1\"), color='k', backgroundcolor='m', alpha=0.8)\n",
    "        ax.text(10, 10, 'Incidence Angle: (%.8f)' % inc_angle, color='w', backgroundcolor='k', alpha=0.8)\n",
    "        ax.text(10, 16, 'Is Iceberg: %s' % iceberg, color='k', backgroundcolor='w', alpha=0.8)\n",
    "        ax.axis('on')\n",
    "        # plot band 2\n",
    "        ax = grid[(i*2)+1]\n",
    "        band2_sample = band2\n",
    "        band2_sample = np.array(band2_sample).reshape(75, 75)\n",
    "        ax.imshow(band2_sample / 75.)\n",
    "        ax.text(10, 4, 'Id: %s %s' % (id_num, \"Band_2\"), color='k', backgroundcolor='m', alpha=0.8)\n",
    "        ax.text(10, 10, 'Incidence Angle: (%.8f)' % inc_angle, color='w', backgroundcolor='k', alpha=0.8)\n",
    "        ax.text(10, 16, 'Is Iceberg: %s' % iceberg, color='k', backgroundcolor='w', alpha=0.8)\n",
    "        ax.axis('on')"
   ]
  },
  {
   "cell_type": "markdown",
   "id": "2f0cb4d9",
   "metadata": {},
   "source": [
    "## Plot random sample of test images"
   ]
  },
  {
   "cell_type": "code",
   "execution_count": null,
   "id": "6e59b33c",
   "metadata": {},
   "outputs": [],
   "source": [
    "plot_bands_test(test)"
   ]
  },
  {
   "cell_type": "code",
   "execution_count": null,
   "id": "cf62f3f3",
   "metadata": {},
   "outputs": [],
   "source": [
    "def plot_bands_test_juxt(df):\n",
    "    df['precision_4'] = df['inc_angle'].apply(lambda x: len(str(x))) <= 7\n",
    "    df = pd.concat([df[df['precision_4'] == True].sample(8), df[df['precision_4'] == False].sample(8)])\n",
    "    fig = plt.figure(1, figsize=(16,16))\n",
    "    grid = ImageGrid(fig, 111, nrows_ncols=(4, 4), axes_pad=0.05)\n",
    "    for i, (band1, band2, id_num, inc_angle, iceberg, precision_4) in enumerate(df.values):\n",
    "        # plot band 1\n",
    "        ax = grid[(i)]\n",
    "        band1_sample = band1\n",
    "        band1_sample = np.array(band1_sample).reshape(75, 75)\n",
    "        ax.imshow(band1_sample / 75.)\n",
    "        ax.text(10, 4, 'Id: %s %s' % (id_num, \"Band_1\"), color='k', backgroundcolor='m', alpha=0.8)\n",
    "        ax.text(10, 10, 'Incidence Angle: (%.8f)' % inc_angle, color='w', backgroundcolor='k', alpha=0.8)\n",
    "        ax.text(10, 16, 'Is Iceberg: %s' % iceberg, color='k', backgroundcolor='w', alpha=0.8)\n",
    "        if i < 8:\n",
    "            ax.text(10, 22, 'Precision is <= 4: %s' % precision_4, color='k', backgroundcolor='g', alpha=0.8)\n",
    "        else:\n",
    "            ax.text(10, 22, 'Precision is <= 4: %s' % precision_4, color='k', backgroundcolor='r', alpha=0.8)\n",
    "        ax.axis('on')"
   ]
  },
  {
   "cell_type": "markdown",
   "id": "69bede6c",
   "metadata": {},
   "source": [
    "## Something seems suspicious about the precision of the incidence angle"
   ]
  },
  {
   "cell_type": "code",
   "execution_count": null,
   "id": "4362733e",
   "metadata": {},
   "outputs": [],
   "source": [
    "plot_bands_test_juxt(test)"
   ]
  },
  {
   "cell_type": "markdown",
   "id": "d524e829",
   "metadata": {},
   "source": [
    "**It looks like images with incidence angles having less than or equal to 4 decimal places (like all of those in the training set) are the naturally captured images, and those with greater precision are machine generated.**"
   ]
  }
 ],
 "metadata": {},
 "nbformat": 4,
 "nbformat_minor": 5
}
