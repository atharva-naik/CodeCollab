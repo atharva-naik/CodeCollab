{
 "cells": [
  {
   "cell_type": "markdown",
   "id": "bb216021",
   "metadata": {},
   "source": [
    "This ipython file is the project by Hongyi Tang and Weijian Li for course 12752.\n",
    "There are four ipython files in the project in total. Each file consist of one cluster analysis task.\n",
    "In this file, the cluster analysis is demonstrated to 2 building types."
   ]
  },
  {
   "cell_type": "code",
   "execution_count": null,
   "id": "10c28d20",
   "metadata": {},
   "outputs": [],
   "source": [
    "import numpy as np\n",
    "import matplotlib.pyplot as plt\n",
    "import pandas as pd\n",
    "import pickle\n",
    "\n",
    "%matplotlib inline"
   ]
  },
  {
   "cell_type": "markdown",
   "id": "cdd87fc6",
   "metadata": {},
   "source": [
    "Please download the dataset and change the file path."
   ]
  },
  {
   "cell_type": "code",
   "execution_count": null,
   "id": "1f5199f6",
   "metadata": {},
   "outputs": [],
   "source": [
    "# read in data from Commercial Building Energy Consumption Survey (CBECS)\n",
    "data = pd.DataFrame.from_csv('C:/F16-12-752-master/projects/thongyi_weijian1/data/CBECS.csv') \n",
    "data.tail()"
   ]
  },
  {
   "cell_type": "markdown",
   "id": "9d2de1fe",
   "metadata": {},
   "source": [
    "In this case, only two building types which is office and inpatient health care is selected. And four energy consumptions elements are always the same for all four ipython files."
   ]
  },
  {
   "cell_type": "code",
   "execution_count": null,
   "id": "9cc2cc4e",
   "metadata": {},
   "outputs": [],
   "source": [
    "energydata=pd.DataFrame()\n",
    "\n",
    "type_B=[2,16] # Office and inpatient health care are selected to demonstrated cluster analysis.\n",
    "type_C=[1,3,4,5,6,7,8,9,10,11,12,13,14,15,17,18,19,20,21,22,23,24,25,26,91]\n",
    "\n",
    "data_type=data\n",
    "data_type=data_type[data_type.NGUSED!=2]\n",
    "for i in type_C:\n",
    "    data_type=data_type[data_type.PBA!=i]\n",
    "energydata['Building Type']=data_type.PBA\n",
    "index=['ELBTU','NGBTU','ELVNBTU','NGHTBTU'] # Annual Electricity Consumption, Annual Natural Gas consumption, Electricity Ventilation and Natural Gas Heating\n",
    "for i in index:\n",
    "    energydata[i]=data_type[i]/data_type.SQFT # Normalized all the data samples."
   ]
  },
  {
   "cell_type": "markdown",
   "id": "cb228b3f",
   "metadata": {},
   "source": [
    "Before cluster analysis, any row has a zero value is wiped out. And the sample number is counted."
   ]
  },
  {
   "cell_type": "code",
   "execution_count": null,
   "id": "799f6d66",
   "metadata": {},
   "outputs": [],
   "source": [
    "energydata = energydata.dropna(how='any')\n",
    "energydata = energydata[~(energydata == 0).any(axis=1)]\n",
    "PBA1=energydata['Building Type'].unique()\n",
    "count=[]\n",
    "for i in PBA1:\n",
    "    count.append([energydata[energydata['Building Type']==i].shape[0],i])\n",
    "count"
   ]
  },
  {
   "cell_type": "markdown",
   "id": "8712e6b7",
   "metadata": {},
   "source": [
    "The energy consumption pattern is plotted in box graph to help connect the cluster assignment to the building type information."
   ]
  },
  {
   "cell_type": "code",
   "execution_count": null,
   "id": "f7772a94",
   "metadata": {},
   "outputs": [],
   "source": [
    "fig1 = plt.figure(figsize=(20,15))\n",
    "times=1\n",
    "data_seperate=[]\n",
    "title=['Office', 'Inpatient Health Care']\n",
    "# energydata[energydata['Building Type']==type_B[1]]\n",
    "for i in range(len(type_B)):\n",
    "    x=energydata[energydata['Building Type']==type_B[i]]\n",
    "    x=x.drop(x.columns[0],axis=1)\n",
    "    data_seperate.append(x) \n",
    "for i in range(len(type_B)):\n",
    "    plt.subplot(len(type_B),2,times)\n",
    "    data_seperate[i].boxplot()\n",
    "    times=times+1\n",
    "    plt.title(title[i],fontsize=20)\n",
    "    plt.ylim(0,400)\n",
    "    "
   ]
  },
  {
   "cell_type": "markdown",
   "id": "6443bc35",
   "metadata": {},
   "source": [
    "Cluster Analysis"
   ]
  },
  {
   "cell_type": "code",
   "execution_count": null,
   "id": "3cd95731",
   "metadata": {},
   "outputs": [],
   "source": [
    "y=pd.DataFrame()\n",
    "for i in range(len(type_B)):\n",
    "    y=y.append(data_seperate[i])\n",
    "X=y.as_matrix().astype(np.float32)\n",
    "from sklearn.cluster import KMeans\n",
    "num_clust = 2\n",
    "clusters = KMeans(n_clusters=num_clust).fit(X)\n",
    "cluster_assignments = clusters.predict(X)\n",
    "fig2 = plt.figure(figsize=(20,15))\n",
    "for cluster_id in range(len(clusters.cluster_centers_)):\n",
    "    plt.subplot(num_clust,2,cluster_id+1)\n",
    "    cluster_members = X[cluster_assignments==cluster_id,:]\n",
    "    print(len(cluster_members))\n",
    "    for i in range(len(cluster_members)):\n",
    "        plt.plot(cluster_members[i,:], color='grey', lw='0.1')\n",
    "    plt.plot(clusters.cluster_centers_[cluster_id,:], color='k', lw='1')"
   ]
  },
  {
   "cell_type": "markdown",
   "id": "c5a6ad14",
   "metadata": {},
   "source": [
    "Connect the cluster assignment to the building type and count the correctly assigned data samples."
   ]
  }
 ],
 "metadata": {},
 "nbformat": 4,
 "nbformat_minor": 5
}
