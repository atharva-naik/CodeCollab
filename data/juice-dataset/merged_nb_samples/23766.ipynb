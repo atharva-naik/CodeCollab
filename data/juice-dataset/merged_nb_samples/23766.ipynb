{
 "cells": [
  {
   "cell_type": "markdown",
   "id": "fbe7b483",
   "metadata": {},
   "source": [
    "## Wine drinkers"
   ]
  },
  {
   "cell_type": "markdown",
   "id": "03fd10ab",
   "metadata": {},
   "source": [
    "#### Part 1- Segmenting wine drinkers\n",
    "Here I explore online sales data for a wine store based in the Upper East Side in NYC. Although online sales are not representative of total sales for this particular store (most of their sales are in-store), it will be informative to take a look at what online customers are buying.\n",
    "\n",
    "In Part 2 I'll use this data to build wine recommenders."
   ]
  },
  {
   "cell_type": "code",
   "execution_count": null,
   "id": "126586ea",
   "metadata": {},
   "outputs": [],
   "source": [
    "%matplotlib inline\n",
    "\n",
    "import pandas as pd\n",
    "import numpy as np\n",
    "from sklearn.cluster import KMeans\n",
    "from sklearn.decomposition import PCA\n",
    "from sklearn import metrics\n",
    "from ggplot import *\n",
    "import matplotlib.pyplot as plt\n",
    "import seaborn as sns"
   ]
  },
  {
   "cell_type": "code",
   "execution_count": null,
   "id": "9ef1b9d7",
   "metadata": {},
   "outputs": [],
   "source": [
    "data = pd.read_csv('wine_data.csv')"
   ]
  },
  {
   "cell_type": "markdown",
   "id": "11d152ca",
   "metadata": {},
   "source": [
    "#### We have data for purchases by wine type. Each row is a customer."
   ]
  },
  {
   "cell_type": "code",
   "execution_count": null,
   "id": "a460be3c",
   "metadata": {},
   "outputs": [],
   "source": [
    "data.head()"
   ]
  },
  {
   "cell_type": "code",
   "execution_count": null,
   "id": "d50a4efc",
   "metadata": {},
   "outputs": [],
   "source": [
    "data.describe()"
   ]
  },
  {
   "cell_type": "markdown",
   "id": "ba5c5177",
   "metadata": {},
   "source": [
    "### The most popular wines"
   ]
  },
  {
   "cell_type": "code",
   "execution_count": null,
   "id": "f3c9ca00",
   "metadata": {},
   "outputs": [],
   "source": [
    "data.mean().plot(kind='bar')"
   ]
  },
  {
   "cell_type": "markdown",
   "id": "4fd1f41c",
   "metadata": {},
   "source": [
    "The most popular wines are Pinot Noir, Zinfandel, Merlot, Chardonnay, and Sauvignon Blanc."
   ]
  },
  {
   "cell_type": "markdown",
   "id": "c270e601",
   "metadata": {},
   "source": [
    "### Clustering."
   ]
  },
  {
   "cell_type": "code",
   "execution_count": null,
   "id": "6ad0a7c0",
   "metadata": {},
   "outputs": [],
   "source": [
    "X = data[data.columns]\n",
    "\n",
    "# All column names (wine types) are stored as x_cols\n",
    "x_cols = data.columns"
   ]
  },
  {
   "cell_type": "markdown",
   "id": "38d0512b",
   "metadata": {},
   "source": [
    "I'll use the elbow method to find the optimal number of clusters. This identifies the value of k (number of clusters) where the distortion (the within-cluster sum of squared errors or SSE) begins to increase the most rapidly."
   ]
  },
  {
   "cell_type": "code",
   "execution_count": null,
   "id": "6d14f914",
   "metadata": {},
   "outputs": [],
   "source": [
    "distortions = []\n",
    "for i in range (1,10):\n",
    "    km = KMeans(n_clusters=i,\n",
    "               init='k-means++',\n",
    "               n_init=10,\n",
    "               max_iter=300,\n",
    "               random_state=0)\n",
    "    km.fit(X)\n",
    "    distortions.append(km.inertia_)\n",
    "    \n",
    "plt.plot(range(1,10), distortions, marker='o')\n",
    "plt.xlabel('Number of clusters')\n",
    "plt.ylabel('Distortion')\n",
    "plt.show()"
   ]
  },
  {
   "cell_type": "markdown",
   "id": "9850d05d",
   "metadata": {},
   "source": [
    "It looks like the elbow is located at k=3... We can also use the silhouette score; this is a measure of how similar an objects is to its own cluster compared to other clusters. The score is higher when clusters are dense and well separated. A score of 1 is the highest and a score of -1 is the lowest. Scores around zero indicate overlapping clusters."
   ]
  },
  {
   "cell_type": "code",
   "execution_count": null,
   "id": "9231054a",
   "metadata": {},
   "outputs": [],
   "source": [
    "silhouette = {}\n",
    "for i in range (2,10):\n",
    "    km = KMeans(n_clusters=i,\n",
    "               init='k-means++',\n",
    "               n_init=10,\n",
    "               max_iter=300,\n",
    "               tol=1e-04,\n",
    "               random_state=0)\n",
    "    km.fit(X)\n",
    "    silhouette[i] = metrics.silhouette_score(X, km.labels_, metric='euclidean')\n",
    "\n",
    "silhouette"
   ]
  },
  {
   "cell_type": "markdown",
   "id": "2626136b",
   "metadata": {},
   "source": [
    "k=3 gives the highest score, by a hair. In general these scores are not that high indicating that there will be a fair amount of overlap between clusters. "
   ]
  },
  {
   "cell_type": "markdown",
   "id": "75e7a4c4",
   "metadata": {},
   "source": [
    "#### To visualize the data I will project the data to 2D."
   ]
  },
  {
   "cell_type": "code",
   "execution_count": null,
   "id": "a3cb59c0",
   "metadata": {},
   "outputs": [],
   "source": [
    "pca = PCA(n_components=2)\n",
    "\n",
    "data['x']=pca.fit_transform(data[x_cols])[:,0]\n",
    "data['y']=pca.fit_transform(data[x_cols])[:,1]\n",
    "\n",
    "clusters_2d = data[['cluster3', 'x', 'y']]"
   ]
  },
  {
   "cell_type": "code",
   "execution_count": null,
   "id": "9fd5d50a",
   "metadata": {},
   "outputs": [],
   "source": [
    "ggplot(clusters_2d, aes(x='x', y='y', color='cluster3')) + \\\n",
    "    scale_color_gradient(low='#E1FA72', high='#F46FEE') + \\\n",
    "    geom_point(size=75) + ggtitle(\"Customers Grouped by Cluster\")"
   ]
  },
  {
   "cell_type": "markdown",
   "id": "15906bf0",
   "metadata": {},
   "source": [
    "There is some overlap between the clusters. Let's look at the clusters more closely and see what people are buying for each cluster."
   ]
  },
  {
   "cell_type": "markdown",
   "id": "b29bd874",
   "metadata": {},
   "source": [
    "### Analyzing clusters"
   ]
  },
  {
   "cell_type": "code",
   "execution_count": null,
   "id": "2078ede4",
   "metadata": {},
   "outputs": [],
   "source": [
    "# Making columns that indicate whether a customer is in a particular cluster\n",
    "data['is_0'] = data.cluster3==0.0\n",
    "data['is_1'] = data.cluster3==1.0\n",
    "data['is_2'] = data.cluster3==2.0\n",
    "\n",
    "just_wine = data.drop(['cluster3','x','y'],1)"
   ]
  },
  {
   "cell_type": "code",
   "execution_count": null,
   "id": "69fdb3af",
   "metadata": {},
   "outputs": [],
   "source": [
    "# Let's group by cluster\n",
    "cluster0 = just_wine.groupby('is_0').sum()\n",
    "cluster1 = just_wine.groupby('is_1').sum()\n",
    "cluster2 = just_wine.groupby('is_2').sum()"
   ]
  },
  {
   "cell_type": "code",
   "execution_count": null,
   "id": "ebf1e57c",
   "metadata": {},
   "outputs": [],
   "source": [
    "# Getting just the relevant row for each cluster\n",
    "zero = cluster0.iloc[1:2]\n",
    "one = cluster1.iloc[1:2]\n",
    "two = cluster2.iloc[1:2]\n",
    "\n",
    "# Let's put all the groups into one dataframe\n",
    "all_clusters = zero.append(one, ignore_index=True)\n",
    "all_clusters = all_clusters.append(two, ignore_index=True)\n",
    "\n",
    "all_clusters"
   ]
  },
  {
   "cell_type": "code",
   "execution_count": null,
   "id": "8bef8577",
   "metadata": {},
   "outputs": [],
   "source": [
    "'''For some reason appending alphabetizes columns. \n",
    "The previous ordering was more convenient because reds were with reds\n",
    "and whites were with whites, so I'll go back to that column ordering.\n",
    "'''\n",
    "all_clusters = all_clusters.reindex_axis(cluster0.columns, axis=1)\n",
    "all_clusters"
   ]
  },
  {
   "cell_type": "code",
   "execution_count": null,
   "id": "9391cca7",
   "metadata": {},
   "outputs": [],
   "source": [
    "all_clusters.drop(['is_1','is_2'], axis=1, inplace=True)\n",
    "all_clusters"
   ]
  },
  {
   "cell_type": "markdown",
   "id": "c371ea59",
   "metadata": {},
   "source": [
    "Now if you wanted to, you can see which wines are most/least popular for each cluster, and more easily look at differences between the clusters."
   ]
  },
  {
   "cell_type": "markdown",
   "id": "ea6e3355",
   "metadata": {},
   "source": [
    "### Most/least popular wines by cluster"
   ]
  },
  {
   "cell_type": "code",
   "execution_count": null,
   "id": "3f49705d",
   "metadata": {},
   "outputs": [],
   "source": [
    "cluster3 = KMeans(n_clusters=3,\n",
    "               init='k-means++',\n",
    "               n_init=10,\n",
    "               max_iter=300,\n",
    "               tol=1e-04,\n",
    "               random_state=0)"
   ]
  },
  {
   "cell_type": "code",
   "execution_count": null,
   "id": "331d1c6c",
   "metadata": {},
   "outputs": [],
   "source": [
    "# Add a column that indicates which cluster each point falls into\n",
    "data['cluster3'] = cluster3.fit_predict(X)\n",
    "\n",
    "# Let's see how many are in each cluster\n",
    "data.cluster3.value_counts()"
   ]
  },
  {
   "cell_type": "code",
   "execution_count": null,
   "id": "373793fe",
   "metadata": {},
   "outputs": [],
   "source": [
    "all_clusters.plot.bar().legend(loc='center left', bbox_to_anchor=(1, 0.5))"
   ]
  },
  {
   "cell_type": "markdown",
   "id": "b4c59cd5",
   "metadata": {},
   "source": [
    "Just some observations: Most of the Pinot Noir, Zinfandel, Merlot, Chardonnay, and Sauvignon Blanc sales come from cluster 1. And most of the Syrah sales are coming from those in cluster 2."
   ]
  },
  {
   "cell_type": "markdown",
   "id": "c76c7b0e",
   "metadata": {},
   "source": [
    "I'm also interested in the mean purchases for each wine type, grouped by cluster."
   ]
  }
 ],
 "metadata": {},
 "nbformat": 4,
 "nbformat_minor": 5
}
