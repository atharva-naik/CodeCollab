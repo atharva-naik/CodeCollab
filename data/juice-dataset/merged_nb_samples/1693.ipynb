{
 "cells": [
  {
   "cell_type": "code",
   "execution_count": null,
   "id": "3a55c965",
   "metadata": {},
   "outputs": [],
   "source": [
    "%pylab inline\n",
    "import pandas as pd\n",
    "import numpy as np\n",
    "import matplotlib as plt\n",
    "\n",
    "train = pd.read_csv('C:/Users/Roy/Desktop/loan/train.csv') \n",
    "test = pd.read_csv('C:/Users/Roy/Desktop/loan/test.csv')"
   ]
  },
  {
   "cell_type": "markdown",
   "id": "684c7ead",
   "metadata": {},
   "source": [
    "## Distribution analysis\n",
    "\n",
    "### ApplicantIncome"
   ]
  },
  {
   "cell_type": "code",
   "execution_count": null,
   "id": "2d0eca52",
   "metadata": {},
   "outputs": [],
   "source": [
    "train['ApplicantIncome'].hist(bins=50)"
   ]
  },
  {
   "cell_type": "code",
   "execution_count": null,
   "id": "ab89b9a3",
   "metadata": {},
   "outputs": [],
   "source": [
    "train.boxplot(column='ApplicantIncome')"
   ]
  },
  {
   "cell_type": "markdown",
   "id": "cf1def85",
   "metadata": {},
   "source": [
    "This confirms the presence of a lot of outliers/extreme values"
   ]
  },
  {
   "cell_type": "code",
   "execution_count": null,
   "id": "1418ea51",
   "metadata": {},
   "outputs": [],
   "source": [
    "train.boxplot(column='ApplicantIncome', by = 'Education')"
   ]
  },
  {
   "cell_type": "markdown",
   "id": "f98d9ea2",
   "metadata": {},
   "source": [
    "We can see that there is no substantial different between the mean income of graduate and non-graduates. But there are a higher number of graduates with very high incomes, which are appearing to be the outliers."
   ]
  },
  {
   "cell_type": "markdown",
   "id": "947586f0",
   "metadata": {},
   "source": [
    "### LoanAmount"
   ]
  },
  {
   "cell_type": "code",
   "execution_count": null,
   "id": "6bad7c3d",
   "metadata": {},
   "outputs": [],
   "source": [
    "train['LoanAmount'].hist(bins=50)"
   ]
  },
  {
   "cell_type": "code",
   "execution_count": null,
   "id": "028ab1ba",
   "metadata": {},
   "outputs": [],
   "source": [
    "train.boxplot(column='LoanAmount')"
   ]
  },
  {
   "cell_type": "markdown",
   "id": "766d7632",
   "metadata": {},
   "source": [
    "## Categorical variable analysis"
   ]
  },
  {
   "cell_type": "markdown",
   "id": "9dcae997",
   "metadata": {},
   "source": [
    "Frequency Table for Credit History:"
   ]
  },
  {
   "cell_type": "code",
   "execution_count": null,
   "id": "778f7ef8",
   "metadata": {},
   "outputs": [],
   "source": [
    "train['Credit_History'].value_counts(ascending=True)"
   ]
  },
  {
   "cell_type": "markdown",
   "id": "b1d0459a",
   "metadata": {},
   "source": [
    "Probability of getting loan for each Credit History class:"
   ]
  },
  {
   "cell_type": "code",
   "execution_count": null,
   "id": "429cb5bb",
   "metadata": {},
   "outputs": [],
   "source": [
    "train.pivot_table(values='Loan_Status',index=['Credit_History'],aggfunc=lambda x: x.map({'Y':1,'N':0}).mean())"
   ]
  },
  {
   "cell_type": "markdown",
   "id": "f45576d1",
   "metadata": {},
   "source": [
    "Let's plot the relation between Credit_History and our class variable (Loan_Status):"
   ]
  },
  {
   "cell_type": "code",
   "execution_count": null,
   "id": "a2a63a57",
   "metadata": {},
   "outputs": [],
   "source": [
    "temp1 = pd.crosstab(train['Credit_History'], train['Loan_Status'])\n",
    "temp1.plot(kind='bar', stacked=True, color=['red','blue'], grid=False)"
   ]
  },
  {
   "cell_type": "code",
   "execution_count": null,
   "id": "1fdff6d4",
   "metadata": {},
   "outputs": [],
   "source": [
    "temp2 = pd.crosstab(train['Married'], train['Loan_Status'])\n",
    "temp2.plot(kind='bar', stacked=True, color=['red','blue'], grid=False)"
   ]
  },
  {
   "cell_type": "markdown",
   "id": "9cfbcf81",
   "metadata": {},
   "source": [
    "And plot the relation between Self_Employed and our class variable (Loan_Status):"
   ]
  },
  {
   "cell_type": "code",
   "execution_count": null,
   "id": "aa094144",
   "metadata": {},
   "outputs": [],
   "source": [
    "temp3 = pd.crosstab(train['Self_Employed'], train['Loan_Status'])\n",
    "temp3.plot(kind='bar', stacked=True, color=['red','blue'], grid=False)"
   ]
  },
  {
   "cell_type": "markdown",
   "id": "aacca913",
   "metadata": {},
   "source": [
    "And also plot the relation between Property_Area and our class variable (Loan_Status):"
   ]
  },
  {
   "cell_type": "code",
   "execution_count": null,
   "id": "259c53f2",
   "metadata": {},
   "outputs": [],
   "source": [
    "train['Dependents'].fillna(0, inplace=True)\n",
    "test['Dependents'].fillna(0, inplace=True)"
   ]
  },
  {
   "cell_type": "code",
   "execution_count": null,
   "id": "596f1a72",
   "metadata": {},
   "outputs": [],
   "source": [
    "train['Self_Employed'].value_counts()"
   ]
  },
  {
   "cell_type": "code",
   "execution_count": null,
   "id": "2c36b3c9",
   "metadata": {},
   "outputs": [],
   "source": [
    "train['Self_Employed'].fillna(\"No\", inplace=True)\n",
    "test['Self_Employed'].fillna(\"No\", inplace=True)"
   ]
  },
  {
   "cell_type": "code",
   "execution_count": null,
   "id": "20aa7f20",
   "metadata": {},
   "outputs": [],
   "source": [
    "train['LoanAmount'].fillna(mean(train['LoanAmount']), inplace=True)\n",
    "test['LoanAmount'].fillna(mean(train['LoanAmount']), inplace=True)"
   ]
  },
  {
   "cell_type": "code",
   "execution_count": null,
   "id": "cd131bd1",
   "metadata": {},
   "outputs": [],
   "source": [
    "train['Loan_Amount_Term'].value_counts()"
   ]
  },
  {
   "cell_type": "code",
   "execution_count": null,
   "id": "133b6051",
   "metadata": {},
   "outputs": [],
   "source": [
    "train['Loan_Amount_Term'].fillna(360, inplace=True)\n",
    "test['Loan_Amount_Term'].fillna(360, inplace=True)"
   ]
  },
  {
   "cell_type": "code",
   "execution_count": null,
   "id": "f53d80ba",
   "metadata": {},
   "outputs": [],
   "source": [
    "train['Credit_History'].value_counts()"
   ]
  },
  {
   "cell_type": "code",
   "execution_count": null,
   "id": "d4a68a5a",
   "metadata": {},
   "outputs": [],
   "source": [
    "train['Credit_History'].fillna(1, inplace=True)\n",
    "test['Credit_History'].fillna(1, inplace=True)"
   ]
  },
  {
   "cell_type": "code",
   "execution_count": null,
   "id": "4a405251",
   "metadata": {},
   "outputs": [],
   "source": [
    "train.apply(lambda x: sum(x.isnull()),axis=0)"
   ]
  },
  {
   "cell_type": "code",
   "execution_count": null,
   "id": "f6990e52",
   "metadata": {},
   "outputs": [],
   "source": [
    "test.apply(lambda x: sum(x.isnull()),axis=0)"
   ]
  },
  {
   "cell_type": "markdown",
   "id": "852b3a8f",
   "metadata": {},
   "source": [
    "Now we have no missing values"
   ]
  },
  {
   "cell_type": "markdown",
   "id": "61946db7",
   "metadata": {},
   "source": [
    "### Discretize our numerical variables"
   ]
  }
 ],
 "metadata": {},
 "nbformat": 4,
 "nbformat_minor": 5
}
