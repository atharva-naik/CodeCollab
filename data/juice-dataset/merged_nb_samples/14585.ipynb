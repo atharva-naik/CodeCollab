{
 "cells": [
  {
   "cell_type": "markdown",
   "id": "8041ecd2",
   "metadata": {},
   "source": [
    "A dictionary of column names & data types, and number or rows\n",
    "Function produces a \"nice database\""
   ]
  },
  {
   "cell_type": "markdown",
   "id": "935ec1bc",
   "metadata": {},
   "source": [
    "Example:\n",
    "    Input:\n",
    "        {\"first_name\": char(18), age: int}, number of rows = 3\n",
    "    \n",
    "    Output:\n",
    "        ____|_first_name_|_age_|\n",
    "        | 1 |            |     | \n",
    "    "
   ]
  }
 ],
 "metadata": {},
 "nbformat": 4,
 "nbformat_minor": 5
}
