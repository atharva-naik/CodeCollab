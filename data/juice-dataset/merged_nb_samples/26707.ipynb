{
 "cells": [
  {
   "cell_type": "markdown",
   "id": "c849a85d",
   "metadata": {},
   "source": [
    "# Lecture 02: List, Tuples and Dictionaries"
   ]
  },
  {
   "cell_type": "markdown",
   "id": "62364853",
   "metadata": {},
   "source": [
    "## Chapters\n",
    "Chapter 2: List Data: Working with Ordered Data <br>\n",
    "Chapter 3: Structured Data: Working with Structured Data <br>\n",
    "Author: Jurre Hageman"
   ]
  },
  {
   "cell_type": "markdown",
   "id": "f1ef9364",
   "metadata": {},
   "source": [
    "## Working with lists"
   ]
  },
  {
   "cell_type": "markdown",
   "id": "bd344aeb",
   "metadata": {},
   "source": [
    "List are mutable and ordered collections\n",
    "They have the following properties:\n",
    "- Lists are sequences of objects\n",
    "- They are in other languages also called sequences, vectors or arrays\n",
    "- They contain ordered series of objects: characters, strings, numbers, or any other Python object\n",
    "- They are quite similar to strings in many ways but with one important exception: they are mutable\n",
    "- Lists are created using square brackets, with elements separated by commas\n"
   ]
  },
  {
   "cell_type": "markdown",
   "id": "604a15d9",
   "metadata": {},
   "source": [
    "Here is an example of a Python list:"
   ]
  },
  {
   "cell_type": "code",
   "execution_count": null,
   "id": "fcd1131f",
   "metadata": {},
   "outputs": [],
   "source": [
    "molecules = ['DNA', 'RNA', 'Protein']\n",
    "print(type(molecules))"
   ]
  },
  {
   "cell_type": "markdown",
   "id": "92658b0f",
   "metadata": {},
   "source": [
    "As you can see, the data type is a list. In a list, you can combine any data type:"
   ]
  },
  {
   "cell_type": "code",
   "execution_count": null,
   "id": "8a45799d",
   "metadata": {},
   "outputs": [],
   "source": [
    "a_lot_of_types = [True, 1, 1.0, \"string\", ('strings', 'in', 'tuple'), ['strings', 'in', 'list']]\n",
    "for i in a_lot_of_types: #walk through all items using a for loop\n",
    "    print(type(i))"
   ]
  },
  {
   "cell_type": "markdown",
   "id": "99c537a2",
   "metadata": {},
   "source": [
    "They have an order. Like any other sequence in Python, lists have a 0-based index. You can select items by indexing:"
   ]
  },
  {
   "cell_type": "code",
   "execution_count": null,
   "id": "f3ef758f",
   "metadata": {},
   "outputs": [],
   "source": [
    "print(molecules[0]) #First item\n",
    "print(molecules[2]) #Second item"
   ]
  },
  {
   "cell_type": "markdown",
   "id": "1480d8b2",
   "metadata": {},
   "source": [
    "List are dynamic: you can add, delete and change items:"
   ]
  },
  {
   "cell_type": "code",
   "execution_count": null,
   "id": "211206bd",
   "metadata": {},
   "outputs": [],
   "source": [
    "names = ['Jan']\n",
    "print(1, names)\n",
    "names.append('Piet') #append item to the end\n",
    "print(2, names)\n",
    "names = names + ['Truus', 'Lieske', 'Kim', 'Janneke'] #concatenates two lists\n",
    "print(3, names)\n",
    "names.pop(0) #delete first item\n",
    "print(4, names)\n",
    "names.remove('Truus') #Remove item\n",
    "print(5, names)\n",
    "del names[2] #remove by index\n",
    "print(6, names)\n",
    "names[0] = 'Pieter' #replace item\n",
    "print(7, names)"
   ]
  },
  {
   "cell_type": "markdown",
   "id": "f4776ff9",
   "metadata": {},
   "source": [
    "Like strings (or any other collection), you can slice a list. <br>\n",
    "Slicing works as slicing on strings: <br>\n",
    "Thus: object[start:stop:step]"
   ]
  },
  {
   "cell_type": "code",
   "execution_count": null,
   "id": "10cbd0bf",
   "metadata": {},
   "outputs": [],
   "source": [
    "names = names + ['Mies', 'Roos', 'Gert']\n",
    "print(names)\n",
    "print(names[0:2])\n",
    "print(names[::-1]) #slice that reverses the order\n",
    "#catch slice in variable:\n",
    "new_list = names[4:] #Note that a slice ALWAYS returns the same data type\n",
    "print(new_list)"
   ]
  },
  {
   "cell_type": "markdown",
   "id": "80779bc1",
   "metadata": {},
   "source": [
    "list.append() is a list specific method. To find all methods on lists type:"
   ]
  },
  {
   "cell_type": "code",
   "execution_count": null,
   "id": "e61c2ee8",
   "metadata": {},
   "outputs": [],
   "source": [
    "print(dir(list))"
   ]
  },
  {
   "cell_type": "markdown",
   "id": "2753e836",
   "metadata": {},
   "source": [
    "You can make nested lists (list of lists) which represents a table:"
   ]
  },
  {
   "cell_type": "code",
   "execution_count": null,
   "id": "fc4d3f64",
   "metadata": {},
   "outputs": [],
   "source": [
    "table = [[1, 2, 3],[4, 5, 6],[7, 8, 9]]"
   ]
  },
  {
   "cell_type": "markdown",
   "id": "706fb6cb",
   "metadata": {},
   "source": [
    "To show that this actually represents a table:"
   ]
  },
  {
   "cell_type": "code",
   "execution_count": null,
   "id": "610b53b7",
   "metadata": {},
   "outputs": [],
   "source": [
    "my_real_copy = my_list[:] #slices the the objects from my_list\n",
    "my_second_real_copy = my_list.copy()\n",
    "print(1, my_list == my_real_copy) #the content of the list is the same\n",
    "print(2, my_list is my_real_copy) #but now it is NOT the same object in memory!\n",
    "my_real_copy.append('Lipid')\n",
    "my_second_real_copy.append('Carbohydrate')\n",
    "print(3, my_list)\n",
    "print(4, my_real_copy)\n",
    "print(5, my_second_real_copy)"
   ]
  },
  {
   "cell_type": "markdown",
   "id": "ec1b0077",
   "metadata": {},
   "source": [
    "### From list to string"
   ]
  },
  {
   "cell_type": "markdown",
   "id": "6839d326",
   "metadata": {},
   "source": [
    "You can stringify a list using the ''.join() method (which is technically a string method):"
   ]
  },
  {
   "cell_type": "code",
   "execution_count": null,
   "id": "14af380d",
   "metadata": {},
   "outputs": [],
   "source": [
    "print(1, my_list)\n",
    "stringified_list = ''.join(my_list)\n",
    "print(2, stringified_list)\n",
    "stringified_list_commas = ','.join(my_list) #use , as a seperator\n",
    "print(3, stringified_list_commas)"
   ]
  },
  {
   "cell_type": "markdown",
   "id": "b4288107",
   "metadata": {},
   "source": [
    "### String concatenation versus ''.join(list) "
   ]
  },
  {
   "cell_type": "markdown",
   "id": "4ee716df",
   "metadata": {},
   "source": [
    "You probably already did some list concatenation. While this is fine for a small amount of repetitions, string concatenation is a bad thing to do when you need a massive number of concatenations. The reason for this is that strings are immutable. Python will make a new variable each time that you concatenate strings. Thus this approach is very heavy on memory and perfomance is much slower:"
   ]
  },
  {
   "cell_type": "code",
   "execution_count": null,
   "id": "4120c0ad",
   "metadata": {},
   "outputs": [],
   "source": [
    "import time\n",
    "start = time.time()\n",
    "my_dna = 'A'\n",
    "for i in range(100000):\n",
    "    my_dna += 'A' #do not do this\n",
    "end = time.time()\n",
    "print('elapsed time:', (end - start) * 1000 , 'ms')"
   ]
  },
  {
   "cell_type": "markdown",
   "id": "94cfe3d0",
   "metadata": {},
   "source": [
    "Now using the list approach:"
   ]
  },
  {
   "cell_type": "code",
   "execution_count": null,
   "id": "8f28809d",
   "metadata": {},
   "outputs": [],
   "source": [
    "import time\n",
    "start = time.time()\n",
    "my_dna = []\n",
    "for i in range(100000):\n",
    "    my_dna.append('A')\n",
    "''.join(my_dna) #This line stringifies the list \n",
    "end = time.time()\n",
    "print('elapsed time:', (end - start) * 1000 , 'ms')"
   ]
  },
  {
   "cell_type": "markdown",
   "id": "af5533f6",
   "metadata": {},
   "source": [
    "As you can see, the second approach is considerably faster."
   ]
  },
  {
   "cell_type": "markdown",
   "id": "df88b0b7",
   "metadata": {},
   "source": [
    "## Tuples"
   ]
  },
  {
   "cell_type": "markdown",
   "id": "4cc7e776",
   "metadata": {},
   "source": [
    "Tuples are like lists but immutable. Like lists, tuples are ordered collections of objects. As they are immutable, tuples have less methods:"
   ]
  },
  {
   "cell_type": "code",
   "execution_count": null,
   "id": "48833fcb",
   "metadata": {},
   "outputs": [],
   "source": [
    "print(dir(tuple))"
   ]
  },
  {
   "cell_type": "markdown",
   "id": "ca139068",
   "metadata": {},
   "source": [
    "Note that the only \"normal\" methods are count and index. Tuples are created using the () notation."
   ]
  },
  {
   "cell_type": "code",
   "execution_count": null,
   "id": "21962161",
   "metadata": {},
   "outputs": [],
   "source": [
    "my_tuple = ('DNA', 'Protein', 'RNA')"
   ]
  },
  {
   "cell_type": "markdown",
   "id": "60c5c144",
   "metadata": {},
   "source": [
    "Indexing en slicing is all fine: "
   ]
  },
  {
   "cell_type": "code",
   "execution_count": null,
   "id": "e4111122",
   "metadata": {},
   "outputs": [],
   "source": [
    "print(my_tuple[1])\n",
    "print(my_tuple[::-1]) #Note that a slice will always return the same datatype"
   ]
  },
  {
   "cell_type": "markdown",
   "id": "eed1105a",
   "metadata": {},
   "source": [
    "However, modification of a Tuple yields an error:"
   ]
  },
  {
   "cell_type": "code",
   "execution_count": null,
   "id": "40e761de",
   "metadata": {},
   "outputs": [],
   "source": [
    "my_tuple[1] = 'Carbohydrate'"
   ]
  },
  {
   "cell_type": "markdown",
   "id": "fe1543d9",
   "metadata": {},
   "source": [
    "The use of tuples might seem obscure at first but later you will discover that they are very handy. The fact that they are immutable make them ideal as argument 'lists' for functions, to write data to databases and to use as keys in dictionaries (see later). The fact that tuples are immutable garuantees that your data will arrive safe and unmodified! "
   ]
  },
  {
   "cell_type": "markdown",
   "id": "b9b096c9",
   "metadata": {},
   "source": [
    "## Dictionaries"
   ]
  },
  {
   "cell_type": "markdown",
   "id": "5a755cd7",
   "metadata": {},
   "source": [
    "Dictionaries are tables of key/ value pairs. Unlike lists they hold associative data. It is only possible to get from a key to a value. Not the other way around. A dictionary is coded using the {} characters:"
   ]
  },
  {
   "cell_type": "code",
   "execution_count": null,
   "id": "995ba5f9",
   "metadata": {},
   "outputs": [],
   "source": [
    "comp_bases = {'A': 'T', 'C':'G'}"
   ]
  },
  {
   "cell_type": "markdown",
   "id": "d6b63a70",
   "metadata": {},
   "source": [
    "You can access a value by providing the key:"
   ]
  },
  {
   "cell_type": "code",
   "execution_count": null,
   "id": "b2c0d597",
   "metadata": {},
   "outputs": [],
   "source": [
    "for row in table:\n",
    "    print(row)"
   ]
  },
  {
   "cell_type": "markdown",
   "id": "d7bcc222",
   "metadata": {},
   "source": [
    "To get the item from the second column and the second row:"
   ]
  },
  {
   "cell_type": "code",
   "execution_count": null,
   "id": "c272420c",
   "metadata": {},
   "outputs": [],
   "source": [
    "print(table[1][1])"
   ]
  },
  {
   "cell_type": "markdown",
   "id": "8d1c39db",
   "metadata": {},
   "source": [
    "Some usefull list methods are count and index:"
   ]
  },
  {
   "cell_type": "code",
   "execution_count": null,
   "id": "5f47508a",
   "metadata": {},
   "outputs": [],
   "source": [
    "print(1, names)\n",
    "names.append('Lieske')\n",
    "print(2, names)\n",
    "print(3, names.count('Lieske'))\n",
    "print(4, names.index('Janneke'))"
   ]
  },
  {
   "cell_type": "markdown",
   "id": "fcc363f6",
   "metadata": {},
   "source": [
    "And there are some usefull functions that work on lists (and any other iterable):"
   ]
  },
  {
   "cell_type": "code",
   "execution_count": null,
   "id": "f92b6bf2",
   "metadata": {},
   "outputs": [],
   "source": [
    "numbers = [12, 14, 7, 9]\n",
    "print(1, min(numbers))\n",
    "print(2, max(numbers))\n",
    "print(3, len(numbers))\n",
    "print(4, sum(numbers))"
   ]
  },
  {
   "cell_type": "markdown",
   "id": "9297589c",
   "metadata": {},
   "source": [
    "### Warning with making a copy of a list"
   ]
  },
  {
   "cell_type": "markdown",
   "id": "cd5babbd",
   "metadata": {},
   "source": [
    "The following code will NOT make a copy of a list:"
   ]
  },
  {
   "cell_type": "code",
   "execution_count": null,
   "id": "da5a20bd",
   "metadata": {},
   "outputs": [],
   "source": [
    "my_list = ['DNA', 'RNA']\n",
    "print(1, my_list)\n",
    "my_copy = my_list # This is not a copy but a reference to the same object in memory\n",
    "print(2, my_copy)\n",
    "my_copy.append('Protein')\n",
    "print(3, my_list)\n",
    "print(4, my_copy)\n",
    "print(5, my_list == my_copy) #the content of the list is the same\n",
    "print(6, my_list is my_copy) #but it is also the same object in memory!"
   ]
  },
  {
   "cell_type": "markdown",
   "id": "b775c4b9",
   "metadata": {},
   "source": [
    "To make a real copy either slice the list or use the copy method"
   ]
  },
  {
   "cell_type": "code",
   "execution_count": null,
   "id": "092a8241",
   "metadata": {},
   "outputs": [],
   "source": [
    "print(comp_bases['A'])"
   ]
  },
  {
   "cell_type": "markdown",
   "id": "08f26a8a",
   "metadata": {},
   "source": [
    "To add items:"
   ]
  },
  {
   "cell_type": "code",
   "execution_count": null,
   "id": "8661f4a6",
   "metadata": {},
   "outputs": [],
   "source": [
    "comp_bases['T'] = 'A' #this way\n",
    "comp_bases.update({'G':'C'}) #or this way\n",
    "print(comp_bases)"
   ]
  },
  {
   "cell_type": "markdown",
   "id": "c6889ae5",
   "metadata": {},
   "source": [
    "To delete items:"
   ]
  },
  {
   "cell_type": "code",
   "execution_count": null,
   "id": "ae6918fa",
   "metadata": {},
   "outputs": [],
   "source": [
    "del comp_bases['A']\n",
    "del comp_bases['T']\n",
    "print(comp_bases)"
   ]
  },
  {
   "cell_type": "markdown",
   "id": "9220cff4",
   "metadata": {},
   "source": [
    "Asking for a key that does not excists raises an error:"
   ]
  },
  {
   "cell_type": "code",
   "execution_count": null,
   "id": "312c08e5",
   "metadata": {},
   "outputs": [],
   "source": [
    "print(comp_bases['Q'])"
   ]
  },
  {
   "cell_type": "markdown",
   "id": "f8e8a9c5",
   "metadata": {},
   "source": [
    "You can prevent this using the dict.get() method: "
   ]
  },
  {
   "cell_type": "code",
   "execution_count": null,
   "id": "a7d52269",
   "metadata": {},
   "outputs": [],
   "source": [
    "print(comp_bases.get('Q')) #returns None if a key is not found and prevents an error"
   ]
  },
  {
   "cell_type": "markdown",
   "id": "dec24d0e",
   "metadata": {},
   "source": [
    "Keys need to be unique. Importantly, note that dictionaries lack order. It is not possible to have a normal dictionary ordered. Using the sorted function, you can get a sorted copy"
   ]
  },
  {
   "cell_type": "code",
   "execution_count": null,
   "id": "992a7bfa",
   "metadata": {},
   "outputs": [],
   "source": [
    "codon_table = {'ttt': 'F', 'ttc': 'F', 'tta': 'L', 'ttg': 'L', 'tct': 'S', 'tcc': 'S', 'tca': 'S', 'tcg': 'S', 'tat': 'Y', 'tac': 'Y', 'taa': '*', 'tag': '*', 'tgt': 'C', 'tgc': 'C', 'tga': '*', 'tgg': 'W', 'ctt': 'L', 'ctc': 'L', 'cta': 'L', 'ctg': 'L', 'cct': 'P', 'ccc': 'P', 'cca': 'P', 'ccg': 'P', 'cat': 'H', 'cac': 'H', 'caa': 'Q', 'cag': 'Q', 'cgt': 'R', 'cgc': 'R', 'cga': 'R', 'cgg': 'R', 'att': 'I', 'atc': 'I', 'ata': 'I', 'atg': 'M', 'act': 'T', 'acc': 'T', 'aca': 'T', 'acg': 'T', 'aat': 'N', 'aac': 'N', 'aaa': 'K', 'aag': 'K', 'agt': 'S', 'agc': 'S', 'aga': 'R', 'agg': 'R', 'gtt': 'V', 'gtc': 'V', 'gta': 'V', 'gtg': 'V', 'gct': 'A', 'gcc': 'A', 'gca': 'A', 'gcg': 'A', 'gat': 'D', 'gac': 'D', 'gaa': 'E', 'gag': 'E', 'ggt': 'G', 'ggc': 'G', 'gga': 'G', 'ggg': 'G'}\n",
    "for codon in sorted(codon_table):\n",
    "    print(codon, ':', codon_table[codon], end = ', ')"
   ]
  },
  {
   "cell_type": "markdown",
   "id": "9b12df05",
   "metadata": {},
   "source": [
    "## Excercise:"
   ]
  },
  {
   "cell_type": "markdown",
   "id": "91c71187",
   "metadata": {},
   "source": [
    "Now we come to the final excersise: Code a program that will catch a DNA sequence from the user. You can get user input by:"
   ]
  }
 ],
 "metadata": {},
 "nbformat": 4,
 "nbformat_minor": 5
}
