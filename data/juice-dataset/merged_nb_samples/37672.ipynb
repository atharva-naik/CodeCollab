{
 "cells": [
  {
   "cell_type": "markdown",
   "id": "53023809",
   "metadata": {},
   "source": [
    "Doc. found [here](https://docs.python.org/2/library/pickle.html) and nice tutorial found [here](https://www.datacamp.com/community/tutorials/pickle-python-tutorial#what)"
   ]
  },
  {
   "cell_type": "markdown",
   "id": "6e937f94",
   "metadata": {},
   "source": [
    "The **pickle** module is a powerful *serializing* and *de-serializing* of a python object structure"
   ]
  },
  {
   "cell_type": "code",
   "execution_count": null,
   "id": "357e649a",
   "metadata": {},
   "outputs": [],
   "source": [
    "my_dict = {'first_term': 10,\n",
    "          'second_term': {\"a\": 0,\n",
    "                         \"b\": 1}}"
   ]
  },
  {
   "cell_type": "code",
   "execution_count": null,
   "id": "fc65e230",
   "metadata": {},
   "outputs": [],
   "source": [
    "import pickle"
   ]
  },
  {
   "cell_type": "markdown",
   "id": "9e619a1f",
   "metadata": {},
   "source": [
    "### Writing file "
   ]
  },
  {
   "cell_type": "code",
   "execution_count": null,
   "id": "29634efc",
   "metadata": {},
   "outputs": [],
   "source": [
    "file_name = \"../data/my_pickle.txt\""
   ]
  },
  {
   "cell_type": "code",
   "execution_count": null,
   "id": "4029548d",
   "metadata": {},
   "outputs": [],
   "source": [
    "pickle.dump(my_dict, open(file_name, \"wb\"))"
   ]
  },
  {
   "cell_type": "markdown",
   "id": "c8b09956",
   "metadata": {},
   "source": [
    "### Reading file "
   ]
  },
  {
   "cell_type": "code",
   "execution_count": null,
   "id": "5290a973",
   "metadata": {},
   "outputs": [],
   "source": [
    "my_new_dict = pickle.load(open(file_name, \"rb\"))"
   ]
  },
  {
   "cell_type": "code",
   "execution_count": null,
   "id": "58d04ccc",
   "metadata": {},
   "outputs": [],
   "source": [
    "print(my_new_dict)"
   ]
  },
  {
   "cell_type": "markdown",
   "id": "c25fc2e4",
   "metadata": {},
   "source": [
    "# cPickle (C version faster) "
   ]
  },
  {
   "cell_type": "markdown",
   "id": "c9b2c0e7",
   "metadata": {},
   "source": [
    "source of this found [here](https://stackoverflow.com/questions/4529815/saving-an-object-data-persistence)"
   ]
  }
 ],
 "metadata": {},
 "nbformat": 4,
 "nbformat_minor": 5
}
