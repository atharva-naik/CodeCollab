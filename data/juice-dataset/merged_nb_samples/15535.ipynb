{
 "cells": [
  {
   "cell_type": "markdown",
   "id": "49284bb3",
   "metadata": {},
   "source": [
    "# Constructing drive time based service areas\n",
    "This sample shows how the `network` module of the ArcGIS API for Python can be used to construct service areas. In this sample, we generate service areas for two of the fire stations in central Tokyo, Japan. We later observe how the service area varies by time of day for a fire station in the city of Los Angeles."
   ]
  },
  {
   "cell_type": "markdown",
   "id": "3cd9d82c",
   "metadata": {},
   "source": [
    "### Service areas\n",
    "A network service area is a region that encompasses all accessible streets (that is, streets that are within a specified impedance). For instance, the 5-minute service area for a point on a network includes all the streets that can be reached within five minutes from that point.\n",
    "\n",
    "Service areas also help evaluate accessibility. Concentric service areas show how accessibility varies. Once service areas are created, you can use them to identify how much land, how many people, or how much of anything else is within the neighborhood or region.\n",
    "\n",
    "![](http://desktop.arcgis.com/en/arcmap/latest/extensions/network-analyst/GUID-0166E6A5-CDEC-4A03-A022-F4A6EB7F9EAD-web.png)\n",
    "\n",
    "Service area solver provides functionality for finding out how far a vehicle could go within a specified time or distance limit. \n",
    "\n",
    "## Connect to the GIS\n",
    "Establish a connection to your organization which could be an ArcGIS Online organization or an ArcGIS Enterprise. To be able to run the code in this sample notebook, you would need to provide credentials of a user within an ArcGIS Online organization."
   ]
  },
  {
   "cell_type": "code",
   "execution_count": null,
   "id": "56421390",
   "metadata": {},
   "outputs": [],
   "source": [
    "from datetime import datetime\n",
    "from IPython.display import HTML\n",
    "import pandas as pd\n",
    "from arcgis.gis import GIS\n",
    "\n",
    "user_name = 'arcgis_python'\n",
    "password = 'P@ssword123'\n",
    "my_gis = GIS('https://www.arcgis.com', user_name, password)"
   ]
  },
  {
   "cell_type": "markdown",
   "id": "4b26d86f",
   "metadata": {},
   "source": [
    "### Create a Network Layer\n",
    "To perform any network analysis (such as finding the closest facility, the best route between multiple stops, or service area around a facility), you would need to create a `NetworkLayer` object. In this sample, since we are creating service areas, we need to create a `ServiceAreaLayer` which is a type of `NetworkLayer`.\n",
    "\n",
    "To create any `NetworkLayer` object, you would need to provide the URL to the appropriate network analysis service. Hence, in this sample, we provide a `serviceArea` URL to create a `ServiceAreaLayer` object. \n",
    "\n",
    "Since all ArcGIS Online organizations already have access to those routing services, you can access this URL through the `GIS` object's `helperServices` property. If you have your own ArcGIS Server based map service with network analysis capability enabled, you would need to provide the URL for this service.\n",
    "\n",
    "Let us start by importing the `network` module"
   ]
  },
  {
   "cell_type": "code",
   "execution_count": null,
   "id": "890ae7c5",
   "metadata": {},
   "outputs": [],
   "source": [
    "import arcgis.network as network"
   ]
  },
  {
   "cell_type": "code",
   "execution_count": null,
   "id": "8be5e56b",
   "metadata": {},
   "outputs": [],
   "source": [
    "service_area_url = my_gis.properties.helperServices.serviceArea.url\n",
    "service_area_url"
   ]
  },
  {
   "cell_type": "code",
   "execution_count": null,
   "id": "938f9811",
   "metadata": {},
   "outputs": [],
   "source": [
    "sa_layer = network.ServiceAreaLayer(service_area_url, gis=my_gis)"
   ]
  },
  {
   "cell_type": "markdown",
   "id": "e95fcf84",
   "metadata": {},
   "source": [
    "## Create fire station facility layer"
   ]
  },
  {
   "cell_type": "markdown",
   "id": "a6cff29b",
   "metadata": {},
   "source": [
    "We obtained the coordinates of two fire stations in Tokyo. We construct `Feature` and `FeatureSet` objects to represent them."
   ]
  },
  {
   "cell_type": "code",
   "execution_count": null,
   "id": "409edadc",
   "metadata": {},
   "outputs": [],
   "source": [
    "fire_station_1_coord = '139.546910,35.695729'\n",
    "fire_station_2_coord = '139.673726,35.697988'\n",
    "\n",
    "from arcgis.features import Feature, FeatureSet\n",
    "\n",
    "f1 = Feature(geometry={'x':float(fire_station_1_coord.split(',')[0]),\n",
    "                      'y':float(fire_station_1_coord.split(',')[1])})\n",
    "\n",
    "f2 = Feature(geometry={'x':float(fire_station_2_coord.split(',')[0]),\n",
    "                      'y':float(fire_station_2_coord.split(',')[1])})\n",
    "\n",
    "fire_station_fset = FeatureSet([f1,f2], geometry_type='esriGeometryPoint', \n",
    "                            spatial_reference={'latestWkid': 4326})"
   ]
  },
  {
   "cell_type": "markdown",
   "id": "9506a36b",
   "metadata": {},
   "source": [
    "Let us display the fire stations on a map"
   ]
  },
  {
   "cell_type": "code",
   "execution_count": null,
   "id": "11557c50",
   "metadata": {},
   "outputs": [],
   "source": [
    "map1 = my_gis.map('Tokyo', zoomlevel=12)\n",
    "map1"
   ]
  },
  {
   "cell_type": "code",
   "execution_count": null,
   "id": "9da8937f",
   "metadata": {},
   "outputs": [],
   "source": [
    "fire_truck_symbol = {\"type\":\"esriPMS\",\n",
    "                     \"url\":\"http://static.arcgis.com/images/Symbols/SafetyHealth/FireTruck.png\",\n",
    "                     \"contentType\": \"image/png\", \"width\":20, \"height\":20}\n",
    "\n",
    "map1.draw(fire_station_fset, symbol=fire_truck_symbol)"
   ]
  },
  {
   "cell_type": "markdown",
   "id": "b40fdea9",
   "metadata": {},
   "source": [
    "## Compute the service area\n",
    "To compute the service area (area accessible to each facility based on drive times), we use the `solve_service_area()` method of a `ServiceAreaLayer` object. As the fire trucks will be travelling away from the stations, we need to specify the direction of travel in the `travel_direction` parameter. Also, since for the type of vehicles is fire trucks, we could specify the travel mode to make it easier to supply all other related parameters."
   ]
  },
  {
   "cell_type": "code",
   "execution_count": null,
   "id": "427eed1a",
   "metadata": {},
   "outputs": [],
   "source": [
    "travel_modes = sa_layer.retrieve_travel_modes()\n",
    "truck_mode = [t for t in travel_modes['supportedTravelModes'] if t['name'] == 'Trucking Time'][0]\n",
    "\n",
    "result = sa_layer.solve_service_area(fire_station_fset, default_breaks=[5,10,15], \n",
    "                                     travel_direction='esriNATravelDirectionFromFacility',\n",
    "                                     travel_mode=truck_mode)"
   ]
  },
  {
   "cell_type": "markdown",
   "id": "e25ef2bd",
   "metadata": {},
   "source": [
    "#### Read the result back as a `FeatureSet`\n",
    "The `result` variable contains the service area as a dictionary. We inspect its keys and construct `Feature` and `FeatureSet` objects out of it to display in the map"
   ]
  },
  {
   "cell_type": "code",
   "execution_count": null,
   "id": "0b445847",
   "metadata": {},
   "outputs": [],
   "source": [
    "result.keys()"
   ]
  },
  {
   "cell_type": "code",
   "execution_count": null,
   "id": "969128d4",
   "metadata": {},
   "outputs": [],
   "source": [
    "result['saPolygons'].keys()"
   ]
  },
  {
   "cell_type": "code",
   "execution_count": null,
   "id": "a8a3e817",
   "metadata": {},
   "outputs": [],
   "source": [
    "poly_feat_list = []\n",
    "for polygon_dict in result['saPolygons']['features']:\n",
    "    f1 = Feature(polygon_dict['geometry'], polygon_dict['attributes'])\n",
    "    poly_feat_list.append(f1)"
   ]
  },
  {
   "cell_type": "code",
   "execution_count": null,
   "id": "0b5e47ee",
   "metadata": {},
   "outputs": [],
   "source": [
    "service_area_fset = FeatureSet(poly_feat_list, \n",
    "                         geometry_type=result['saPolygons']['geometryType'],\n",
    "                         spatial_reference= result['saPolygons']['spatialReference'])"
   ]
  },
  {
   "cell_type": "markdown",
   "id": "0b9f6b9b",
   "metadata": {},
   "source": [
    "Let us inspect the service area as a Pandas `DataFrame` to understand the attribute information"
   ]
  },
  {
   "cell_type": "code",
   "execution_count": null,
   "id": "604c9d46",
   "metadata": {},
   "outputs": [],
   "source": [
    "service_area_fset.sdf"
   ]
  },
  {
   "cell_type": "markdown",
   "id": "1101e2a0",
   "metadata": {},
   "source": [
    "### Visualize the service area on the map\n",
    "From the DataFrame above, we know, there are 3 service area polygons for each fire station. The drive times are given as a range between `FromBreak` and `ToBreak` columns. Let us use this information to visualize the polygons with different colors and appropriate popup messags on the map"
   ]
  },
  {
   "cell_type": "code",
   "execution_count": null,
   "id": "72963fe4",
   "metadata": {},
   "outputs": [],
   "source": [
    "colors = {5: [0, 128, 0, 90], \n",
    "          10: [255, 255, 0, 90], \n",
    "          15: [255, 0, 0, 90]}\n",
    "\n",
    "fill_symbol = {\"type\": \"esriSFS\",\"style\": \"esriSFSSolid\",\n",
    "               \"color\": [115,76,0,255]}"
   ]
  },
  {
   "cell_type": "code",
   "execution_count": null,
   "id": "8f85cc63",
   "metadata": {},
   "outputs": [],
   "source": [
    "for service_area in service_area_fset.features:\n",
    "    \n",
    "    #set color based on drive time\n",
    "    fill_symbol['color'] = colors[service_area.attributes['ToBreak']]\n",
    "    \n",
    "    #set popup\n",
    "    popup={\"title\": \"Service area\", \n",
    "            \"content\": \"{} minutes\".format(service_area.attributes['ToBreak'])}\n",
    "    \n",
    "    map1.draw(service_area.geometry, symbol=fill_symbol, popup=popup)"
   ]
  },
  {
   "cell_type": "markdown",
   "id": "7b7e0206",
   "metadata": {},
   "source": [
    "Click the drive time areas to explore their attributes. Because the content of the pop-ups may include HTML source code, it is also possible to have the pop-up windows include other resources such as tables and images."
   ]
  },
  {
   "cell_type": "markdown",
   "id": "0e21ca9c",
   "metadata": {},
   "source": [
    "## Constructing service areas for different times of the day\n",
    "The service areas for the facilities may look different depending on what time of day a vehicle would start driving. Therefore, we will run the solver using multiple day times for the `time_of_day` parameter to be able to compare visually the difference between the service areas. We will generate service areas for the following times: 6am, 10am, 2pm, 6pm, and 10pm. \n",
    "\n",
    "In the following example, we assume that the facility is in the downtown of Los Angeles and we want to generate drive time areas at different times during the same day."
   ]
  },
  {
   "cell_type": "code",
   "execution_count": null,
   "id": "f30a4995",
   "metadata": {},
   "outputs": [],
   "source": [
    "times = [datetime(2017, 6, 10, h).timestamp() * 1000 \n",
    "         for h in [6, 10, 14, 18, 22]]\n",
    "\n",
    "# fire station location\n",
    "fire_station = '-118.245847, 34.038608'\n",
    "\n",
    "#loop through each time of the day and compute the service area\n",
    "sa_results = []\n",
    "for daytime in times:\n",
    "    result = sa_layer.solve_service_area(facilities=fire_station, default_breaks=[5,10,15], \n",
    "                                         travel_direction='esriNATravelDirectionFromFacility',\n",
    "                                         time_of_day=daytime, time_of_day_is_utc=False)\n",
    "    sa_results.append(result)"
   ]
  },
  {
   "cell_type": "markdown",
   "id": "8cf0aa09",
   "metadata": {},
   "source": [
    "The service area has been computed, we process it to generate a list of `FeatureSet` objects to animate on the map"
   ]
  },
  {
   "cell_type": "code",
   "execution_count": null,
   "id": "d92ed18f",
   "metadata": {},
   "outputs": [],
   "source": [
    "LA_fset_list=[]\n",
    "for result in sa_results:\n",
    "    poly_feat_list = []\n",
    "    for polygon_dict in result['saPolygons']['features']:\n",
    "        f1 = Feature(polygon_dict['geometry'], polygon_dict['attributes'])\n",
    "        poly_feat_list.append(f1)\n",
    "        \n",
    "    service_area_fset = FeatureSet(poly_feat_list, \n",
    "                         geometry_type=result['saPolygons']['geometryType'],\n",
    "                         spatial_reference= result['saPolygons']['spatialReference'])\n",
    "    \n",
    "    LA_fset_list.append(service_area_fset)"
   ]
  },
  {
   "cell_type": "markdown",
   "id": "3340ed33",
   "metadata": {},
   "source": [
    "Draw and animate the results on a map"
   ]
  }
 ],
 "metadata": {},
 "nbformat": 4,
 "nbformat_minor": 5
}
