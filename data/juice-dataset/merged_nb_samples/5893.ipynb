{
 "cells": [
  {
   "cell_type": "code",
   "execution_count": null,
   "id": "dfe1dd98",
   "metadata": {},
   "outputs": [],
   "source": [
    "import pandas as pd\n",
    "import numpy as np"
   ]
  },
  {
   "cell_type": "code",
   "execution_count": null,
   "id": "7ebfe233",
   "metadata": {},
   "outputs": [],
   "source": [
    "path = r'C:\\Users\\nkad1\\Desktop\\CS 412 Assignments\\Assignment 2\\hw2data\\Q2data.csv'\n",
    "df = pd.read_csv(path, index_col=0, names=['State','City', 'Category', 'Price', 'Rating'])\n",
    "#df2.groupby(['State'])\n",
    "df.sort_values(['State', 'City', 'Category', 'Price', 'Rating'], inplace=True)\n",
    "df2 = df.set_index(['State','City'], inplace=False)\n",
    "df2"
   ]
  },
  {
   "cell_type": "code",
   "execution_count": null,
   "id": "59ccc995",
   "metadata": {},
   "outputs": [],
   "source": [
    "#Calculate the count of each dimension. AKA, how many cities, states, categories, ratings, and prices there are.\n",
    "\n",
    "num_cities = df2.index.get_level_values('City').nunique()\n",
    "num_state = df2.index.get_level_values('State').nunique()\n",
    "num_categories = df2['Category'].nunique()\n",
    "num_ranks = df2['Rating'].nunique()\n",
    "num_prices = df2['Price'].nunique()\n",
    "\n",
    "#Function to calculate total number of cells in a cuboid, depend on the dimension inputs.\n",
    "def calculate_total_cells_in_cuboid(location, category, price, rating):\n",
    "    return location * category * price * rating"
   ]
  },
  {
   "cell_type": "markdown",
   "id": "07e621fc",
   "metadata": {},
   "source": [
    "## Question 2A\n",
    "Calculate the number of cuboids in this cube."
   ]
  },
  {
   "cell_type": "code",
   "execution_count": null,
   "id": "3ee9118d",
   "metadata": {},
   "outputs": [],
   "source": [
    "#Every level is default 1 except for location, which has two levels due to conceptual hierarchy (City, State).\n",
    "#Add one to the level of each dimension in order to account for apex-level (summarized)\n",
    "\n",
    "total_number_cuboids = 3 * 2 * 2 * 2\n",
    "total_number_cuboids"
   ]
  },
  {
   "cell_type": "markdown",
   "id": "225f278c",
   "metadata": {},
   "source": [
    "## Question 2B\n",
    "There are __ total cells in cuboid (location(city), category, price, rating)"
   ]
  },
  {
   "cell_type": "code",
   "execution_count": null,
   "id": "d168181e",
   "metadata": {},
   "outputs": [],
   "source": [
    "num_cells_with_cities = calculate_total_cells_in_cuboid(num_cities, num_categories, num_prices, num_ranks)\n",
    "num_cells_with_cities"
   ]
  },
  {
   "cell_type": "markdown",
   "id": "82a073d1",
   "metadata": {},
   "source": [
    "## Question 2C\n",
    "\n",
    "There are __ total cells in cuboid (location(state), category, price, rating)"
   ]
  },
  {
   "cell_type": "code",
   "execution_count": null,
   "id": "9b02fb60",
   "metadata": {},
   "outputs": [],
   "source": [
    "num_cells_with_states = calculate_total_cells_in_cuboid(num_state, num_categories, num_prices, num_ranks)\n",
    "num_cells_with_states"
   ]
  },
  {
   "cell_type": "markdown",
   "id": "c36a80f0",
   "metadata": {},
   "source": [
    "## Question 2D\n",
    "\n",
    "Further, there are __ cells in the cuboid (* , Category , Rating , Price)."
   ]
  },
  {
   "cell_type": "code",
   "execution_count": null,
   "id": "e06f4101",
   "metadata": {},
   "outputs": [],
   "source": [
    "num_aggr_location = calculate_total_cells_in_cuboid(26, num_categories, num_prices, num_ranks)\n",
    "num_aggr_location"
   ]
  },
  {
   "cell_type": "markdown",
   "id": "de3e438f",
   "metadata": {},
   "source": [
    "## Question 2E\n",
    "\n",
    "Filter"
   ]
  },
  {
   "cell_type": "code",
   "execution_count": null,
   "id": "2c5b3fe7",
   "metadata": {},
   "outputs": [],
   "source": [
    "#df2.loc[df2.index.isin('Illinois')]\n",
    "df3 = df2.xs('Illinois', level='State')\n",
    "df4 = df3.loc[df3['Price'] == 'moderate']\n",
    "df5 = df4.loc[df4['Rating'] == 3]\n",
    "df5"
   ]
  },
  {
   "cell_type": "markdown",
   "id": "7677b5f0",
   "metadata": {},
   "source": [
    "## Question 2F\n",
    "\n",
    "Filter"
   ]
  }
 ],
 "metadata": {},
 "nbformat": 4,
 "nbformat_minor": 5
}
