{
 "cells": [
  {
   "cell_type": "markdown",
   "id": "adf3210c",
   "metadata": {},
   "source": [
    "# Face Recognition on a subset of the Labeled Faces in the Wild dataset"
   ]
  }
 ],
 "metadata": {},
 "nbformat": 4,
 "nbformat_minor": 5
}
