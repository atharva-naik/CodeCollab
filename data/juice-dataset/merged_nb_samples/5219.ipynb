{
 "cells": [
  {
   "cell_type": "code",
   "execution_count": null,
   "id": "577852f0",
   "metadata": {},
   "outputs": [],
   "source": [
    "import numpy as np\n",
    "import pandas as pd\n",
    "from sklearn.decomposition import NMF\n",
    "from matplotlib import pyplot as plt\n",
    "from matplotlib.ticker import AutoMinorLocator\n",
    "from matplotlib import rc\n",
    "rc('font', **{'family': 'serif', 'serif': ['Computer Modern'], 'weight': 'bold'})\n",
    "rc('text', usetex=True)"
   ]
  },
  {
   "cell_type": "markdown",
   "id": "1cd38f41",
   "metadata": {},
   "source": [
    "Set number of clusters for nonnegative matrix factorization:"
   ]
  },
  {
   "cell_type": "code",
   "execution_count": null,
   "id": "5d49b02b",
   "metadata": {},
   "outputs": [],
   "source": [
    "n_clusters = 12"
   ]
  },
  {
   "cell_type": "markdown",
   "id": "a60022e3",
   "metadata": {},
   "source": [
    "Perform nonnegative matrix factorization that decomposes the error matrix into W*H:"
   ]
  },
  {
   "cell_type": "code",
   "execution_count": null,
   "id": "08a7705e",
   "metadata": {},
   "outputs": [],
   "source": [
    "errmtx_df = pd.read_csv('../../oboe/automl/defaults/error_matrix.csv', index_col=0, header=0)\n",
    "model = NMF(n_components=n_clusters, init='nndsvd', random_state=0)\n",
    "model.fit(errmtx_df)\n",
    "H = model.components_\n",
    "cluster_belongings = np.argmax(H, axis=0)"
   ]
  },
  {
   "cell_type": "markdown",
   "id": "9b80d1df",
   "metadata": {},
   "source": [
    "Get algorithm names of the error matrix columns:"
   ]
  }
 ],
 "metadata": {},
 "nbformat": 4,
 "nbformat_minor": 5
}
