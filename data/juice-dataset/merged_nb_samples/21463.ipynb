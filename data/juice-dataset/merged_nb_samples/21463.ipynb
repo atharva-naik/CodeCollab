{
 "cells": [
  {
   "cell_type": "markdown",
   "id": "e573dcc2",
   "metadata": {},
   "source": [
    "# Pandas Idioms"
   ]
  },
  {
   "cell_type": "markdown",
   "id": "5792781d",
   "metadata": {},
   "source": [
    "### Vectorization & Method chaining (Pandorable)"
   ]
  },
  {
   "cell_type": "code",
   "execution_count": null,
   "id": "7b2eea3a",
   "metadata": {},
   "outputs": [],
   "source": [
    "import pandas as pd\n",
    "df = pd.read_csv('census.csv')"
   ]
  },
  {
   "cell_type": "code",
   "execution_count": null,
   "id": "a8534ba0",
   "metadata": {},
   "outputs": [],
   "source": [
    "df.head()"
   ]
  },
  {
   "cell_type": "markdown",
   "id": "59fd6291",
   "metadata": {},
   "source": [
    "#### Method Chaining"
   ]
  },
  {
   "cell_type": "code",
   "execution_count": null,
   "id": "6367bedd",
   "metadata": {},
   "outputs": [],
   "source": [
    "(df.where(df['SUMLEV'] == 50)\n",
    "   .dropna()\n",
    "   .set_index(['STNAME', 'CTYNAME'])\n",
    "   .rename(columns={'ESTIMATEBASE2010' : 'ESTIMATES BASE 2010'}))"
   ]
  },
  {
   "cell_type": "markdown",
   "id": "1b0a22fb",
   "metadata": {},
   "source": [
    "#### Traditional Way (This is faster than the method chaining above)"
   ]
  },
  {
   "cell_type": "code",
   "execution_count": null,
   "id": "2b8ba63c",
   "metadata": {},
   "outputs": [],
   "source": [
    "df2 = df[df['SUMLEV'] == 50]\n",
    "df2.set_index(['STNAME', 'CTYNAME'], inplace=True)\n",
    "df2.rename(columns={'ESTIMATESBASE2010' : 'ESTIMATES BASE 2010'})"
   ]
  },
  {
   "cell_type": "markdown",
   "id": "3a0df8b2",
   "metadata": {},
   "source": [
    "#### Apply"
   ]
  },
  {
   "cell_type": "code",
   "execution_count": null,
   "id": "43271896",
   "metadata": {},
   "outputs": [],
   "source": [
    "import numpy as np\n",
    "\n",
    "def min_max(row):\n",
    "    # data is the columns in question\n",
    "    data = row[['POPESTIMATE2010',\n",
    "                'POPESTIMATE2011',\n",
    "                'POPESTIMATE2012',\n",
    "                'POPESTIMATE2013',\n",
    "                'POPESTIMATE2014',\n",
    "                'POPESTIMATE2015',]]\n",
    "    # this is the definition of how everything will be mapped \n",
    "    # in the 'apply' method\n",
    "    return pd.Series({'min' : np.min(data), 'max':np.max(data)})\n",
    "\n",
    "# apply(function to use, axis to operate on)\n",
    "# axis -> parameter of the index to use\n",
    "# to apply across all rows -> axis = 1\n",
    "df2.apply(min_max, axis=1)"
   ]
  },
  {
   "cell_type": "markdown",
   "id": "1b4a3440",
   "metadata": {},
   "source": [
    "#### Method (that gets passed in to the apply method) that adds new rows"
   ]
  },
  {
   "cell_type": "code",
   "execution_count": null,
   "id": "eeeb11e3",
   "metadata": {},
   "outputs": [],
   "source": [
    "def min_max(row):\n",
    "    # data is the columns in question\n",
    "    data = row[['POPESTIMATE2010',\n",
    "                'POPESTIMATE2011',\n",
    "                'POPESTIMATE2012',\n",
    "                'POPESTIMATE2013',\n",
    "                'POPESTIMATE2014',\n",
    "                'POPESTIMATE2015',]]\n",
    "    row['max'] = np.max(data)\n",
    "    row['min'] = np.min(data)\n",
    "    return row\n",
    "\n",
    "df2.apply(min_max, axis=1)"
   ]
  },
  {
   "cell_type": "markdown",
   "id": "4abb4887",
   "metadata": {},
   "source": [
    "#### Using lambda "
   ]
  }
 ],
 "metadata": {},
 "nbformat": 4,
 "nbformat_minor": 5
}
