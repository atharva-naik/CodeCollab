{
 "cells": [
  {
   "cell_type": "markdown",
   "id": "63db5b62",
   "metadata": {},
   "source": [
    "> **Tip**: Welcome to the Investigate a Dataset project! You will find tips in quoted sections like this to help organize your approach to your investigation. Before submitting your project, it will be a good idea to go back through your report and remove these sections to make the presentation of your work as tidy as possible. First things first, you might want to double-click this Markdown cell and change the title so that it reflects your dataset and investigation.\n",
    "\n",
    "# Project: Investigate a Dataset (Replace this with something more specific!)\n",
    "\n",
    "## Table of Contents\n",
    "<ul>\n",
    "<li><a href=\"#intro\">Introduction</a></li>\n",
    "<li><a href=\"#wrangling\">Data Wrangling</a></li>\n",
    "<li><a href=\"#eda\">Exploratory Data Analysis</a></li>\n",
    "<li><a href=\"#conclusions\">Conclusions</a></li>\n",
    "</ul>"
   ]
  },
  {
   "cell_type": "markdown",
   "id": "c2bc199b",
   "metadata": {},
   "source": [
    "<a id='intro'></a>\n",
    "## Introduction\n",
    "\n",
    "\n",
    "I decided to analyze no show appointment data set. The analysis is done in context to find if there is any relation between patients presence with any condition."
   ]
  },
  {
   "cell_type": "code",
   "execution_count": null,
   "id": "2a89a3fa",
   "metadata": {},
   "outputs": [],
   "source": [
    "# Use this cell to set up import statements for all of the packages that you\n",
    "#   plan to use.\n",
    "\n",
    "# Remember to include a 'magic word' so that your visualizations are plotted\n",
    "#   inline with the notebook. See this page for more:\n",
    "#   http://ipython.readthedocs.io/en/stable/interactive/magics.html\n",
    "import pandas as pd\n",
    "import numpy as np\n",
    "import matplotlib.pyplot as plt\n",
    "% matplotlib inline\n",
    "from datetime import datetime"
   ]
  },
  {
   "cell_type": "markdown",
   "id": "6c40501f",
   "metadata": {},
   "source": [
    "<a id='wrangling'></a>\n",
    "## Data Wrangling\n",
    "\n",
    "\n",
    "Imported the data and made some general observation about data, if null is present, duplicates are present, data types etc\n",
    "\n",
    "### General Properties\n",
    "\n"
   ]
  },
  {
   "cell_type": "code",
   "execution_count": null,
   "id": "79d6b359",
   "metadata": {},
   "outputs": [],
   "source": [
    "# Load your data and print out a few lines. Perform operations to inspect data\n",
    "#   types and look for instances of missing or possibly errant data.\n",
    "df = pd.read_csv('noshowappointments-kagglev2-may-2016.csv')\n",
    "df.head(1)"
   ]
  },
  {
   "cell_type": "code",
   "execution_count": null,
   "id": "fe33e240",
   "metadata": {},
   "outputs": [],
   "source": [
    "'''\n",
    "No null records found\n",
    "'''\n",
    "df.info() \n"
   ]
  },
  {
   "cell_type": "code",
   "execution_count": null,
   "id": "c5b1f8b0",
   "metadata": {},
   "outputs": [],
   "source": [
    "'''First look of data'''\n",
    "df.describe()"
   ]
  },
  {
   "cell_type": "code",
   "execution_count": null,
   "id": "fe9a2e16",
   "metadata": {},
   "outputs": [],
   "source": [
    "'''No duplicates present'''\n",
    "print(sum(df.duplicated()))\n",
    "df.drop_duplicates(inplace=True) #no duplicates found"
   ]
  },
  {
   "cell_type": "markdown",
   "id": "739a775e",
   "metadata": {},
   "source": [
    "> **Tip**: You should _not_ perform too many operations in each cell. Create cells freely to explore your data. One option that you can take with this project is to do a lot of explorations in an initial notebook. These don't have to be organized, but make sure you use enough comments to understand the purpose of each code cell. Then, after you're done with your analysis, create a duplicate notebook where you will trim the excess and organize your steps so that you have a flowing, cohesive report.\n",
    "\n",
    "> **Tip**: Make sure that you keep your reader informed on the steps that you are taking in your investigation. Follow every code cell, or every set of related code cells, with a markdown cell to describe to the reader what was found in the preceding cell(s). Try to make it so that the reader can then understand what they will be seeing in the following cell(s).\n",
    "\n",
    "### Data Cleaning \n",
    "\n",
    "\n",
    "<ul>\n",
    "<li> Convert Appointment day into date format.\n",
    "<li> Convert Scheduled day into date format.\n",
    "<li> Check anomalies in data entry with date, i.e ignore data where schedule day is after appointment day. \n",
    "<li> Rename No-show to more explanatory AppointmentAttendance and store numerical value, 1 for present and 0 for absence for ease of analysis. \n",
    "<li> Save day difference between appointment day and scheduled day for further EDA. \n",
    "</ul>"
   ]
  },
  {
   "cell_type": "code",
   "execution_count": null,
   "id": "b7e0f3c9",
   "metadata": {},
   "outputs": [],
   "source": [
    "'''Convert days from string to date format'''\n",
    "\n",
    "df['AppointmentDay'] = pd.to_datetime(df['AppointmentDay'], format=\"%Y-%m-%d\").dt.date\n",
    "df['ScheduledDay'] = pd.to_datetime(df['ScheduledDay'], format=\"%Y-%m-%d\").dt.date\n"
   ]
  },
  {
   "cell_type": "code",
   "execution_count": null,
   "id": "1792e1ad",
   "metadata": {},
   "outputs": [],
   "source": [
    "'''check if any anomalies are present with date where appointment date is less than scheduled date'''\n",
    "np.where(df['AppointmentDay'] < df['ScheduledDay'])"
   ]
  },
  {
   "cell_type": "code",
   "execution_count": null,
   "id": "59d8745e",
   "metadata": {},
   "outputs": [],
   "source": [
    "'''confirm the above output'''\n",
    "df.loc[27033]"
   ]
  },
  {
   "cell_type": "code",
   "execution_count": null,
   "id": "62d1cf1c",
   "metadata": {},
   "outputs": [],
   "source": [
    "'''save difference of appointment date and scheduled date in a new column to filter upon'''\n",
    "df['DeltaAppointmentScheduled'] = (df['AppointmentDay'] - df['ScheduledDay']).dt.days"
   ]
  },
  {
   "cell_type": "code",
   "execution_count": null,
   "id": "70b4ccd6",
   "metadata": {},
   "outputs": [],
   "source": [
    "'''filter all record where date delta is not equal or greater than 0'''\n",
    "df = df[df['DeltaAppointmentScheduled'] >= 0]"
   ]
  },
  {
   "cell_type": "code",
   "execution_count": null,
   "id": "43859805",
   "metadata": {},
   "outputs": [],
   "source": [
    "'''confirm the number of rows, it should be original raw number - number of anomalies detected in np.where'''\n",
    "df.info()"
   ]
  },
  {
   "cell_type": "code",
   "execution_count": null,
   "id": "e55d5c31",
   "metadata": {},
   "outputs": [],
   "source": [
    "'''rename No-Show to appointment attendance'''\n",
    "df.rename(columns = {'No-show' : 'AppointmentAttendance'} , inplace=True)"
   ]
  },
  {
   "cell_type": "code",
   "execution_count": null,
   "id": "bd224b99",
   "metadata": {},
   "outputs": [],
   "source": [
    "'''replace NO with 1 and Yes with 0'''\n",
    "df['AppointmentAttendance'].replace(\"No\", 1, inplace=True)\n",
    "df['AppointmentAttendance'].replace(\"Yes\", 0, inplace=True)"
   ]
  },
  {
   "cell_type": "code",
   "execution_count": null,
   "id": "7c135dff",
   "metadata": {},
   "outputs": [],
   "source": [
    "'''have a look at data again'''\n",
    "print(df.info())\n",
    "df.head(1)"
   ]
  },
  {
   "cell_type": "code",
   "execution_count": null,
   "id": "a3b27c3d",
   "metadata": {},
   "outputs": [],
   "source": [
    "'''describe the data to see more details'''\n",
    "df.describe()"
   ]
  },
  {
   "cell_type": "markdown",
   "id": "2fd766e7",
   "metadata": {},
   "source": [
    "<a id='eda'></a>\n",
    "## Exploratory Data Analysis\n",
    "\n",
    "> **Tip**: Now that you've trimmed and cleaned your data, you're ready to move on to exploration. Compute statistics and create visualizations with the goal of addressing the research questions that you posed in the Introduction section. It is recommended that you be systematic with your approach. Look at one variable at a time, and then follow it up by looking at relationships between variables.\n",
    "\n",
    "### Research Question 1 - What is the presence and abscence percent overall ?"
   ]
  },
  {
   "cell_type": "code",
   "execution_count": null,
   "id": "76a0a39a",
   "metadata": {},
   "outputs": [],
   "source": [
    "'''Taking mean calculating percent of all patients present for appointment overall'''\n",
    "present = df[\"AppointmentAttendance\"].mean()*100"
   ]
  },
  {
   "cell_type": "code",
   "execution_count": null,
   "id": "c278aec2",
   "metadata": {},
   "outputs": [],
   "source": [
    "'''Simple maths, the abscent percent will be 100 - present percent '''\n",
    "abscent = 100 - present\n",
    "\n",
    "\n",
    "print(\"No of patients present \", round(present,2) , \"%\")\n",
    "print(\"No of patients NOT present \", round(abscent,2) , \"%\")"
   ]
  },
  {
   "cell_type": "markdown",
   "id": "5696bcee",
   "metadata": {},
   "source": [
    "### Research Question 2 - Is there any impact of difference between ScheduledDay and  AppointmentDay on presence of patients?"
   ]
  },
  {
   "cell_type": "code",
   "execution_count": null,
   "id": "dd9d8737",
   "metadata": {},
   "outputs": [],
   "source": [
    "'''Filter all present and abscent data in different data frames to be used later for histogram'''\n",
    "\n",
    "df_present = df.query(\"AppointmentAttendance == 1\")\n",
    "df_not_present = df.query(\"AppointmentAttendance == 0\")"
   ]
  },
  {
   "cell_type": "code",
   "execution_count": null,
   "id": "044e3f7d",
   "metadata": {},
   "outputs": [],
   "source": [
    "'''Check no of rows present in patients present data frame etc'''\n",
    "df_present.info()"
   ]
  },
  {
   "cell_type": "code",
   "execution_count": null,
   "id": "bc70ee3b",
   "metadata": {},
   "outputs": [],
   "source": [
    "'''check no of rows in not present data frame'''\n",
    "df_not_present.info()"
   ]
  },
  {
   "cell_type": "code",
   "execution_count": null,
   "id": "1268d1ba",
   "metadata": {},
   "outputs": [],
   "source": [
    "'''Plot the frequency of delta of scheduled and appointment date to see the overall distribution, this makes it\n",
    "very clear that majority of data points is distributes till 100 days'''\n",
    "df.plot(x=\"AppointmentAttendance\", y= \"DeltaAppointmentScheduled\", kind=\"hist\", title=\"Distribution of Appointment attendance frequency vs Days delta of ScheduledDay and Appointment day\\n\")\n"
   ]
  },
  {
   "cell_type": "markdown",
   "id": "81d6f000",
   "metadata": {},
   "source": [
    "By looking at the above histogram we could see that the distrubution of attendance is right skewed. The less is difference between ScheduledDay and AppointmentDay the more is probability of patients to not miss the appointment."
   ]
  },
  {
   "cell_type": "code",
   "execution_count": null,
   "id": "467eb563",
   "metadata": {},
   "outputs": [],
   "source": [
    "''' Plot distribution of percent of patients present in 100 days delta'''\n",
    "\n",
    "y = df.groupby('DeltaAppointmentScheduled')['AppointmentAttendance'].mean()[0:100]*100\n",
    "x = range(0, 100)\n",
    "plt.figure(figsize=(12,5))\n",
    "plt.scatter(x,y);\n",
    "plt.title(\"Percentage of Scheduled Appointments for 100 days\");\n",
    "plt.xlabel(\"Advance scheduled days\");\n",
    "plt.ylabel(\"Percent of Patients present\");"
   ]
  },
  {
   "cell_type": "markdown",
   "id": "2f34890a",
   "metadata": {},
   "source": [
    "In above scatter plot we could see that the correlation is negative, the data points are more dense and higher when\n",
    "advance scheduled date is less and tends to be more distributes and lower afterwards. The point to note here is, the\n",
    "density is higher in BIN 0-20 even when the actual data points is highest so it means the probability is also higher here\n",
    "along with percentage."
   ]
  },
  {
   "cell_type": "code",
   "execution_count": null,
   "id": "32183165",
   "metadata": {},
   "outputs": [],
   "source": [
    "'''Plot histogram of patients present and anscent, each bin represents 1 weeks here'''\n",
    "plt.figure(figsize=(12,5))\n",
    "plt.hist(df_present['DeltaAppointmentScheduled'], bins=14, range=(0,100));\n",
    "plt.hist(df_not_present['DeltaAppointmentScheduled'], bins=14, range=(0,100));\n",
    "plt.legend(['Patients Present','Patients Missed']);\n",
    "plt.title('Distribution for 100 days');\n",
    "plt.xlabel('Days Scheduled in Advance')\n",
    "plt.ylabel('Appointments');"
   ]
  },
  {
   "cell_type": "markdown",
   "id": "d346d7af",
   "metadata": {},
   "source": [
    "In above histogram we could see the distribution of number of patients missed and patients present after taking appointment. we could see there is similar trend in both of the plot. Patients missing and patients present distribution \n",
    "both are right skewed."
   ]
  },
  {
   "cell_type": "code",
   "execution_count": null,
   "id": "ccb4623f",
   "metadata": {},
   "outputs": [],
   "source": [
    "'''Get percent of patients present if the difference of appointment and scheduled day is between different range '''\n",
    "\n",
    "print(df.query(\"DeltaAppointmentScheduled < 10 \")['AppointmentAttendance'].mean()*100)\n",
    "print(df.query(\"DeltaAppointmentScheduled < 20 and DeltaAppointmentScheduled > 10\")['AppointmentAttendance'].mean()*100)\n",
    "print(df.query(\"DeltaAppointmentScheduled < 30 and DeltaAppointmentScheduled > 20\")['AppointmentAttendance'].mean()*100)\n",
    "print(df.query(\"DeltaAppointmentScheduled < 40 and DeltaAppointmentScheduled > 30\")['AppointmentAttendance'].mean()*100)\n",
    "print(df.query(\"DeltaAppointmentScheduled < 50 and DeltaAppointmentScheduled > 40\")['AppointmentAttendance'].mean()*100)\n",
    "print(df.query(\"DeltaAppointmentScheduled < 60 and DeltaAppointmentScheduled > 50\")['AppointmentAttendance'].mean()*100)\n",
    "print(df.query(\"DeltaAppointmentScheduled < 70 and DeltaAppointmentScheduled > 60\")['AppointmentAttendance'].mean()*100)\n",
    "print(df.query(\"DeltaAppointmentScheduled < 80 and DeltaAppointmentScheduled > 70\")['AppointmentAttendance'].mean()*100)\n",
    "print(df.query(\"DeltaAppointmentScheduled < 90 and DeltaAppointmentScheduled > 80\")['AppointmentAttendance'].mean()*100)\n",
    "print(df.query(\"DeltaAppointmentScheduled < 100 and DeltaAppointmentScheduled > 90\")['AppointmentAttendance'].mean()*100)"
   ]
  },
  {
   "cell_type": "markdown",
   "id": "48a964ec",
   "metadata": {},
   "source": [
    "### Research Question 3  Is there any relation of presence of patients and any medical conditions (including alcoholism) ?"
   ]
  }
 ],
 "metadata": {},
 "nbformat": 4,
 "nbformat_minor": 5
}
