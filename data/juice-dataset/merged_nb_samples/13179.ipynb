{
 "cells": [
  {
   "cell_type": "markdown",
   "id": "d6943bc5",
   "metadata": {},
   "source": [
    "# From Intake to Outcome: Analyzing the Austin Animal Center's Intake and Outcomes Datasets"
   ]
  },
  {
   "cell_type": "markdown",
   "id": "ffff33dd",
   "metadata": {},
   "source": [
    "The [Austin Animal Center](http://www.austintexas.gov/department/aac) provides its [animal intake](https://data.austintexas.gov/Health-and-Community-Services/Austin-Animal-Center-Intakes/wter-evkm) and [outcome datasets](https://data.austintexas.gov/Health-and-Community-Services/Austin-Animal-Center-Outcomes/9t4d-g238) on [Socrata](https://socrata.com/). When an animal is taken into the shelter, it is given a unique identifier that is also used in the outcomes dataset. We have already investigated and performed exploratory data analysis on the [Austin Animal Center's intakes](https://aaronschlegel.me/austin-animal-center-intakes-exploratory-data-analysis-python-pandas-seaborn.html) and [animal outcomes](https://aaronschlegel.me/exploratory-data-analysis-shelter-cat-outcomes-pandas-seaborn.html) individually and found several interesting facets of information. In this analysis, we merge the intakes and outcomes dataset using [pandas](https://pandas.pydata.org/) to enable us to perform exploratory data analysis on the merged data. With the data merged, we will be able to explore in more depth the transition from intake to outcome."
   ]
  },
  {
   "cell_type": "markdown",
   "id": "93a8c9e2",
   "metadata": {},
   "source": [
    "## Getting Started"
   ]
  },
  {
   "cell_type": "markdown",
   "id": "c52f565f",
   "metadata": {},
   "source": [
    "As before, we import the libraries that will be used throughout the analysis. The [`%matplotlib inline`](http://ipython.readthedocs.io/en/stable/interactive/plotting.html) is used for displaying the visualizations."
   ]
  },
  {
   "cell_type": "code",
   "execution_count": null,
   "id": "5460ff9f",
   "metadata": {},
   "outputs": [],
   "source": [
    "%matplotlib inline\n",
    "\n",
    "import requests\n",
    "import pandas as pd\n",
    "import numpy as np\n",
    "import seaborn as sns\n",
    "from urllib.error import HTTPError\n",
    "import matplotlib.pyplot as plt\n",
    "\n",
    "import warnings\n",
    "warnings.simplefilter('ignore')"
   ]
  },
  {
   "cell_type": "markdown",
   "id": "5f830dcd",
   "metadata": {},
   "source": [
    "The following imports a Python module containing the `get_soda_api_data()` function and the other transformation function used in the intakes analysis. The code can be found as a [Github Gist](https://gist.github.com/aschleg/10b2c68953c119a734c247edee5b3049)."
   ]
  },
  {
   "cell_type": "code",
   "execution_count": null,
   "id": "2c96e332",
   "metadata": {},
   "outputs": [],
   "source": [
    "import aac_analysis as aac"
   ]
  },
  {
   "cell_type": "markdown",
   "id": "3ce9fcdf",
   "metadata": {},
   "source": [
    "## Getting the Data"
   ]
  },
  {
   "cell_type": "markdown",
   "id": "4d189f82",
   "metadata": {},
   "source": [
    "As seen in previous analyses, the Austin Animal Center datasets are hosted on the Socrata Open Data Access (SODA) API. We've already extracted the intakes dataset in the most recent analysis. Therefore, we only need to extract the outcomes data using the SODA API. We extract the AAC outcomes dataset using the `get_soda_api_data()` function from the `aac_analysis` module. "
   ]
  },
  {
   "cell_type": "code",
   "execution_count": null,
   "id": "4efc2b15",
   "metadata": {},
   "outputs": [],
   "source": [
    "outcomes_endpoint = 'https://data.austintexas.gov/resource/9t4d-g238.json'\n",
    "\n",
    "outcomes_df = aac.get_soda_api_data(outcomes_endpoint)"
   ]
  },
  {
   "cell_type": "markdown",
   "id": "02ff5b3a",
   "metadata": {},
   "source": [
    "Print the dimensions of the extracted data and the first five rows."
   ]
  },
  {
   "cell_type": "code",
   "execution_count": null,
   "id": "244c8936",
   "metadata": {},
   "outputs": [],
   "source": [
    "print(outcomes_df.shape)\n",
    "outcomes_df.head()"
   ]
  },
  {
   "cell_type": "markdown",
   "id": "73a9e98e",
   "metadata": {},
   "source": [
    "There are slightly more than 80k rows and 12 columns, which match the metadata available on the outcomes data page on Socrata (at the time of this writing). Now that we have the data extracted from the SODA API and converted into a pandas DataFrame let's save the data as a CSV file to avoid the need to call the Socrata API more times than necessary."
   ]
  },
  {
   "cell_type": "code",
   "execution_count": null,
   "id": "6123a40e",
   "metadata": {},
   "outputs": [],
   "source": [
    "outcomes_df.to_csv('../../../datasets/austin animal center intake outcomes/aac_outcomes.csv', \n",
    "                   encoding='utf-8', index=False)"
   ]
  },
  {
   "cell_type": "markdown",
   "id": "d122ff88",
   "metadata": {},
   "source": [
    "## Creating and preparing the merged dataset"
   ]
  },
  {
   "cell_type": "markdown",
   "id": "56c88957",
   "metadata": {},
   "source": [
    "Now that we have the outcomes dataset, we begin adding more features to the data similarly to the intakes. As we have already created the necessary functions during the intakes analysis, this step is merely a matter of applying the functions to the data. Before that, however, we create another function for adding more features related to the animal's estimated date of birth, which is provided in the outcomes data but not the intakes."
   ]
  },
  {
   "cell_type": "code",
   "execution_count": null,
   "id": "d88d3fc4",
   "metadata": {},
   "outputs": [],
   "source": [
    "def transform_birthdates(df):\n",
    "    df['date_of_birth'] = pd.to_datetime(df['date_of_birth'])\n",
    "\n",
    "    df['dob_year'] = df['date_of_birth'].dt.year\n",
    "    df['dob_month'] = df['date_of_birth'].dt.month\n",
    "    df['dob_monthyear'] = pd.to_datetime(df['monthyear']).dt.to_period('M')\n",
    "\n",
    "    return df"
   ]
  },
  {
   "cell_type": "markdown",
   "id": "4aa5bd72",
   "metadata": {},
   "source": [
    "We now add more features to the outcomes using our previously developed functions and the newly written `transform_birthdates()` function. "
   ]
  },
  {
   "cell_type": "code",
   "execution_count": null,
   "id": "b71a234e",
   "metadata": {},
   "outputs": [],
   "source": [
    "outcomes_df = aac.transform_age(outcomes_df, 'age_upon_outcome')\n",
    "outcomes_df = aac.transform_date(outcomes_df, 'outcome')\n",
    "outcomes_df = aac.create_unique_id(outcomes_df, 'outcome')\n",
    "outcomes_df = transform_birthdates(outcomes_df)\n",
    "\n",
    "outcomes_df.head()"
   ]
  },
  {
   "cell_type": "markdown",
   "id": "a396ba6a",
   "metadata": {},
   "source": [
    "The additional feature columns are now added to the outcomes data! The last step in creating the dataset is to load the intakes data we previously worked with and merge the two sets. We load the intakes data that was saved at the end of the analysis with all the added features already included using pandas's [`read_csv`](https://pandas.pydata.org/pandas-docs/stable/generated/pandas.read_csv.html)."
   ]
  },
  {
   "cell_type": "code",
   "execution_count": null,
   "id": "cc3e26f8",
   "metadata": {},
   "outputs": [],
   "source": [
    "intakes_df = pd.read_csv('../../../datasets/austin animal center intake outcomes/aac_intakes_transformed.csv')"
   ]
  },
  {
   "cell_type": "markdown",
   "id": "c79173fb",
   "metadata": {},
   "source": [
    "Both datasets are now loaded as DataFrames. Before proceeding to merge the data, we take an additional step of dropping the duplicate columns in both datasets. First, let's check to see what and how many duplicate columns are in both datasets."
   ]
  },
  {
   "cell_type": "markdown",
   "id": "381cd9c0",
   "metadata": {},
   "source": [
    "We can now update the `time_in_shelter` column using the corrected dates and print the descriptive statistics table to see if the distribution is more in-line with reality."
   ]
  },
  {
   "cell_type": "code",
   "execution_count": null,
   "id": "29ea9257",
   "metadata": {},
   "outputs": [],
   "source": [
    "in_out['time_in_shelter'] = pd.to_datetime(in_out['outcome_datetime']) - pd.to_datetime(in_out['intake_datetime'])\n",
    "in_out['time_in_shelter'].describe()"
   ]
  },
  {
   "cell_type": "markdown",
   "id": "fb4b550a",
   "metadata": {},
   "source": [
    "Much better! We see the mean number of days from intake to outcome is just over two weeks, and about 50% of the animals incoming to the shelter will remain there for less than five days. The most prolonged stay in the shelter is 1,606 days or just under 4.5 years. To double-check that the intake and outcome dates are adjusted, we can filter the dataset again as before. If there are no intake dates that are more recent than the outcome, the returned DataFrame should be empty."
   ]
  },
  {
   "cell_type": "code",
   "execution_count": null,
   "id": "203471cc",
   "metadata": {},
   "outputs": [],
   "source": [
    "in_out[['intake_datetime', 'outcome_datetime']][in_out['intake_datetime'] > in_out['outcome_datetime']]"
   ]
  },
  {
   "cell_type": "markdown",
   "id": "d842188c",
   "metadata": {},
   "source": [
    "The filtered DataFrame is indeed empty! Now that we have merged the intakes and outcomes datasets and cleaned and transformed the data, we can proceed to perform exploratory data analysis! Before moving to the next step, let's quickly remove some of the no longer needed columns left over from the merge and save the data to a CSV."
   ]
  },
  {
   "cell_type": "code",
   "execution_count": null,
   "id": "cf1ed09e",
   "metadata": {},
   "outputs": [],
   "source": [
    "del in_out['Unnamed: 0']\n",
    "del in_out['monthyear']\n",
    "del in_out['age_upon_outcome_Periods']\n",
    "del in_out['age_upon_outcome_Period Range']\n",
    "del in_out['datetime']\n",
    "\n",
    "in_out.to_csv('../../../datasets/austin animal center intake outcomes/aac_intakes_outcomes.csv', \n",
    "              encoding='utf-8', index=False)"
   ]
  },
  {
   "cell_type": "markdown",
   "id": "dd5e3d2c",
   "metadata": {},
   "source": [
    "## Analyzing animals' journey from intake to outcome"
   ]
  },
  {
   "cell_type": "markdown",
   "id": "4c03dc28",
   "metadata": {},
   "source": [
    "Now we're in the heat of the meat! The exploratory data analysis we perform here will be instrumental in later steps when constructing prediction models as we will already have an understanding of what variables are seemingly crucial in determining the animals' length of stay at the shelter or outcome type. Before diving in, we quickly set some default styles for the plots that will be created with [seaborn](https://seaborn.pydata.org/) using [`set`](https://seaborn.pydata.org/generated/seaborn.set.html)."
   ]
  },
  {
   "cell_type": "code",
   "execution_count": null,
   "id": "cd89a97b",
   "metadata": {},
   "outputs": [],
   "source": [
    "sns.set(style=\"white\", context=\"talk\", font_scale=1.2)"
   ]
  },
  {
   "cell_type": "markdown",
   "id": "609b7440",
   "metadata": {},
   "source": [
    "To start, let's get a sense of the distribution of animal types that are included in the data using [`value_counts`](https://pandas.pydata.org/pandas-docs/stable/generated/pandas.Series.value_counts.html)."
   ]
  },
  {
   "cell_type": "code",
   "execution_count": null,
   "id": "a717bec7",
   "metadata": {},
   "outputs": [],
   "source": [
    "in_out['animal_type'].value_counts()"
   ]
  },
  {
   "cell_type": "markdown",
   "id": "58635717",
   "metadata": {},
   "source": [
    "As one might have reasonably assumed, the majority of animals taken into the shelter are cats and dogs. Unfortunately, there is no information regarding what entails the `Other` category, while birds and livestock are taken into the shelter rather rarely in comparison. There are only nine livestock records, which is rather low for our analysis and also not as much of interest. Therefore we filter out these records with [`.loc`](https://pandas.pydata.org/pandas-docs/stable/generated/pandas.DataFrame.loc.html)."
   ]
  },
  {
   "cell_type": "code",
   "execution_count": null,
   "id": "9f2920d0",
   "metadata": {},
   "outputs": [],
   "source": [
    "in_out = in_out.loc[in_out['animal_type'] != 'Livestock']"
   ]
  },
  {
   "cell_type": "markdown",
   "id": "4bd0d57e",
   "metadata": {},
   "source": [
    "Let's investigate the mean duration an animal stays at the shelter until its outcome based on the animal's age group and type. Before plotting, we create a new column that is the float representation of the `time_in_shelter` column, which has a [`timedelta`](https://docs.python.org/3/library/datetime.html#timedelta-objects) data type. This conversion can be done by accessing the `total_seconds()` method of the `dt` attribute and dividing it by the number of seconds in one day."
   ]
  },
  {
   "cell_type": "code",
   "execution_count": null,
   "id": "2c1f5df0",
   "metadata": {},
   "outputs": [],
   "source": [
    "in_out['time_in_shelter'] = pd.to_timedelta(in_out['time_in_shelter'])\n",
    "in_out['time_in_shelter_days'] = in_out['time_in_shelter'].dt.total_seconds() / (24 * 60 * 60)"
   ]
  },
  {
   "cell_type": "code",
   "execution_count": null,
   "id": "bcbac278",
   "metadata": {},
   "outputs": [],
   "source": [
    "animal_shelter_time = in_out.groupby(['animal_type', \n",
    "                                      'age_upon_intake_age_group'])['time_in_shelter_days'].mean().reset_index()\n",
    "\n",
    "bar = sns.barplot(x='age_upon_intake_age_group', y='time_in_shelter_days', \n",
    "                  hue='animal_type', data=animal_shelter_time, order=['(-0.025, 2.5]', '(2.5, 5.0]', '(5.0, 7.5]', \n",
    "                                                                     '(7.5, 10.0]', '(10.0, 12.5]', '(12.5, 15.0]', \n",
    "                                                                     '(15.0, 17.5]', '(17.5, 20.0]', '(20.0, 22.5]', \n",
    "                                                                      '(22.5, 25.0]'])\n",
    "\n",
    "bar.set_title('Mean Time in Shelter', fontsize=32)\n",
    "bar.set_ylabel('Mean Days in Shelter', fontsize=28)\n",
    "bar.set_xlabel('Age Group At Intake', fontsize=28)\n",
    "bar.set_xticklabels(bar.get_xticklabels(), rotation=90)\n",
    "\n",
    "bar.xaxis.labelpad = 10\n",
    "sns.despine(bottom=True)\n",
    "plt.legend(bbox_to_anchor=(1.05, 1), loc=2, borderaxespad=0.)\n",
    "\n",
    "plt.tight_layout()\n",
    "sns.despine(bottom=True)"
   ]
  },
  {
   "cell_type": "markdown",
   "id": "afb70cca",
   "metadata": {},
   "source": [
    "Cats stay in the shelter longer than any other animal. The length of stay also increases for cats as their age increases, up until about 12.5 years old. Interestingly, the time in the shelter for dogs appears to be relatively flat regardless of the age of the dog. Anecdotally, I have seen cats of a higher age remain at local shelters longer on average in general, so these results aren't too surprising in that regard. It is unfortunate, however; since cats are prolific breeders, and in an environment such as Austin, likely breed year round, there is a high chance kittens are coming into the shelter at a much higher rate than cats of an older age. As kittens are adopted much quicker than adult cats in general, older cats can end up staying in a shelter environment longer than younger cats. The data seems to confirm this, as the majority of the cat intakes (and intakes overall) are within 2.5 years of age."
   ]
  },
  {
   "cell_type": "code",
   "execution_count": null,
   "id": "d47b06a3",
   "metadata": {},
   "outputs": [],
   "source": [
    "print('Overall:')\n",
    "print(in_out['age_upon_intake_age_group'].value_counts())\n",
    "print('Cats:')\n",
    "print(in_out.loc[in_out['animal_type'] == 'Cat']['age_upon_intake_age_group'].value_counts())"
   ]
  },
  {
   "cell_type": "markdown",
   "id": "7b35ab2d",
   "metadata": {},
   "source": [
    "Through the combination of the intake and outcome types, we can see the count of overall intakes and their resulting outcomes. As we've seen in the separate intake and outcome analyses, stray animal intakes and adoption or transfer outcomes represent the vast majority of the cases. Therefore, a combination of these intakes and outcomes will likely be the majority of overall cases. The following barplot depicts the top 10 intake to outcome cases concerning total count."
   ]
  },
  {
   "cell_type": "code",
   "execution_count": null,
   "id": "8e6cdf84",
   "metadata": {},
   "outputs": [],
   "source": [
    "in_out['Intake_Outcome'] = in_out['intake_type'] + ' -> ' + in_out['outcome_type']\n",
    "\n",
    "intake_outcomes = in_out['Intake_Outcome'].value_counts()[0:10].plot(kind='bar', \n",
    "                                                                     fontsize=16, \n",
    "                                                                     figsize=(15, 10))\n",
    "intake_outcomes.set_ylabel('Count', fontsize=22)\n",
    "intake_outcomes.set_xlabel('Intake to Outcome', fontsize=22)\n",
    "intake_outcomes.set_title('Intakes to Outcomes', fontsize=26)\n",
    "\n",
    "plt.tight_layout()\n",
    "sns.despine(bottom=True)"
   ]
  },
  {
   "cell_type": "markdown",
   "id": "1d414722",
   "metadata": {},
   "source": [
    "As we suspected, stray intakes to adoption or transfer outcome are the majority of cases in the data, followed by lost animals being returned to their owners `(Stray -> Return to Owner)` and pets being surrendered by their owners and later adopted `(Owner Surrender -> Adoption).` Judging from the above plot, it appears the first few intakes to outcome paths represent the majority of overall cases, but we can quickly find the cumulative proportion of the intake to outcome paths with a quick and dirty loop."
   ]
  },
  {
   "cell_type": "code",
   "execution_count": null,
   "id": "6674549c",
   "metadata": {},
   "outputs": [],
   "source": [
    "for i in range(1, 10):\n",
    "    print(in_out['Intake_Outcome'].value_counts()[0:i].sum() / in_out['Intake_Outcome'].value_counts().sum())"
   ]
  },
  {
   "cell_type": "markdown",
   "id": "89726251",
   "metadata": {},
   "source": [
    "The reported cumulative proportions show the first ten intake to outcome paths regarding overall volume represent about 95% of all cases. Stray intakes to adoptions or transfers alone make up just over half of all animal records. Now that we know more about the volume and types of intakes to outcomes that appear at the shelter, we can turn our attention to finding out which intakes stay in the shelter the longest and the common outcome. The following groups the intakes and outcome results by the mean number of days in the shelter. "
   ]
  },
  {
   "cell_type": "code",
   "execution_count": null,
   "id": "1542f2c0",
   "metadata": {},
   "outputs": [],
   "source": [
    "intake_outcome_days = in_out.groupby('Intake_Outcome')['time_in_shelter_days'].mean().sort_values(ascending=False).plot(kind='bar', \n",
    "                                                                                                                        fontsize=16, \n",
    "                                                                                                                        figsize=(18, 10))\n",
    "\n",
    "intake_outcome_days.set_ylabel('Mean Days in Shelter', fontsize=26)\n",
    "intake_outcome_days.set_xlabel('Intake to Outcome', fontsize=26)\n",
    "intake_outcome_days.set_title('Intakes to Outcomes', fontsize=30)\n",
    "\n",
    "plt.tight_layout()\n",
    "sns.despine(bottom=True)"
   ]
  },
  {
   "cell_type": "markdown",
   "id": "5163feb4",
   "metadata": {},
   "source": [
    "Missing outcome cases and euthanasia requests to adoptions appear to take the longest to resolve on average. Stray and wildlife intakes, as well as owner surrenders that end up in adoptions,  take approximately one month, or about 30 days. As shelters are often short on space for animals and resources in general, knowing the average amount of time an animal may be in the shelter before its outcome can be valuable information for keeping overflow under control. \n",
    "\n",
    "In the outcomes analysis, we noted that an intact animal (not spayed or neutered) would not be adopted before being altered to help keep the animal population down. It was assumed that transfer outcomes represented intact animal intakes being transferred to a different facility to be spayed or neutered. Now that we have the intake sex and outcome sex data resulting from the combination of the two datasets, we can see if this assumption was accurate. The following plots the top 15 intake to outcome cases concerning overall volume, which we saw earlier makes up over 95% of all cases, by the animal's intact status upon intake and outcome."
   ]
  },
  {
   "cell_type": "code",
   "execution_count": null,
   "id": "20518a19",
   "metadata": {},
   "outputs": [],
   "source": [
    "in_out['intact_intake_outcome'] = in_out['sex_upon_intake'] + ' -> ' + in_out['sex_upon_outcome']\n",
    "\n",
    "in_out['intact_intake_outcome'] = in_out['intact_intake_outcome'].str.replace('Neutered|Spayed', 'Altered').str.strip()\n",
    "in_out['intact_intake_outcome'] = in_out['intact_intake_outcome'].str.replace('Male|Female', '').str.strip()\n",
    "\n",
    "top_outcomes = in_out.loc[in_out['Intake_Outcome'].isin(in_out['Intake_Outcome'].value_counts()[0:15].index)]\n",
    "\n",
    "top_outcomes_sex = top_outcomes.groupby(['intact_intake_outcome', \n",
    "                                        'Intake_Outcome'])['count'].sum().reset_index()\n",
    "\n",
    "plt.tight_layout()\n",
    "sns.despine(bottom=True)\n",
    "\n",
    "fact = sns.factorplot(x='Intake_Outcome', y='count', col='intact_intake_outcome', \n",
    "               kind='bar', sharey=False, col_wrap=3, size=6, data=top_outcomes_sex, ci=None)\n",
    "\n",
    "fact.set_xticklabels(rotation=90)\n",
    "fact.set_xlabels('Outcome')"
   ]
  },
  {
   "cell_type": "markdown",
   "id": "eae6a51c",
   "metadata": {},
   "source": [
    "First, it appears there are a few records that may be mislabeled, as the intake status is altered, but the outcome is intact, which would imply the spay or neuter operation was somehow reversed. Fortunately, however, this mislabeling appears only in four cases. As we can see from the `Intact -> Altered` bar plot, by far the most common intake to outcome is a stray intake to adoption, which shows that the animal is spayed or neutered without being transferred. This result indicates that our original assumption of intact animals being transported to partner facilities before being adopted was incorrect and that spays or neuters do occur on-site before adoption. The majority of altered animal intake to outcomes are either owners surrendering their pets to the shelter or the shelter returning a missing pet to its owner, followed by already altered strays being adopted. "
   ]
  },
  {
   "cell_type": "code",
   "execution_count": null,
   "id": "3c00aacd",
   "metadata": {},
   "outputs": [],
   "source": [
    "in_out['intake_cond_outcome'] = in_out['intake_condition'] + ' -> ' + in_out['outcome_type']\n",
    "intake_cond_out = in_out.groupby(['intake_condition', 'outcome_type'])['count'].sum().reset_index()\n",
    "\n",
    "g = sns.factorplot(x='outcome_type', y='count', col='intake_condition', \n",
    "                   col_wrap=3, kind='bar', size=6, sharey=False, data=intake_cond_out)\n",
    "\n",
    "g.set_xticklabels(rotation=90)\n",
    "g.set_xlabels('Outcome')\n",
    "\n",
    "plt.tight_layout()\n",
    "sns.despine(bottom=True)"
   ]
  },
  {
   "cell_type": "markdown",
   "id": "4b074c93",
   "metadata": {},
   "source": [
    "Feral and nursing animals are mostly transferred to other facilities, while pregnant animals are likely to be adopted or transferred. The shelter would likely want to adopt a pregnant pet to an owner who is willing to take care of the resulting offspring rather than further burden any of the shelter's partner facilities. About 50% of sick animals entering the shelter needed to be euthanized, however, the remaining 50% are either transferred or adopted. It is possible the animal will still need to be euthanized after being moved, but hopefully, the partner facility will have the resources to administer more effective care. Injured animals are also often euthanized, suggesting the injury is severe, and euthanasia was, unfortunately, the best course of action. However, injured animals are also often adopted or returned to their owner at a seemingly higher proportion than sick animals, implying the animal has or will recover from its injury.\n",
    "\n",
    "Does the condition of the animal upon intake help determine how long an animal may need to stay at the shelter? One would assume that sick or injured animals may need to stay longer to convalesce and that older animals may remain in the shelter for more days on average before being adopted."
   ]
  },
  {
   "cell_type": "code",
   "execution_count": null,
   "id": "2a0deea1",
   "metadata": {},
   "outputs": [],
   "source": [
    "cols_to_drop = ['index', 'name']\n",
    "\n",
    "outcomes_df.drop(['animal_type', 'breed', 'color'] + cols_to_drop, axis=1, inplace=True)\n",
    "intakes_df.drop(cols_to_drop, axis=1, inplace=True)"
   ]
  },
  {
   "cell_type": "markdown",
   "id": "5c7999f4",
   "metadata": {},
   "source": [
    "The unneeded and duplicate columns are now removed from the datasets. Therefore, we can proceed to merge the data! The unique identifier we created using the provided animal's id and intake and outcome number is set as the index for both datasets. This unique id allows us to perform the merge appropriately as some of the animal IDs in both datasets are not unique, due to some animals being taken into the shelter on multiple occasions. The merge itself is performed using pandas's [`merge`](https://pandas.pydata.org/pandas-docs/stable/generated/pandas.DataFrame.merge.html) function, which merges two DataFrames by using a SQL-style join."
   ]
  },
  {
   "cell_type": "code",
   "execution_count": null,
   "id": "bbd37e99",
   "metadata": {},
   "outputs": [],
   "source": [
    "outcomes_df.set_index('animal_id_new', inplace=True)\n",
    "intakes_df.set_index('animal_id_new', inplace=True)\n",
    "\n",
    "in_out = pd.merge(outcomes_df, intakes_df, how='inner', \n",
    "                  right_index=True, left_index=True, suffixes=['_outcome', '_intake'])"
   ]
  },
  {
   "cell_type": "markdown",
   "id": "ccc1e14e",
   "metadata": {},
   "source": [
    "Let's check the columns of the new dataset along with the dimensions and the first few rows of the data."
   ]
  },
  {
   "cell_type": "code",
   "execution_count": null,
   "id": "4fc243d5",
   "metadata": {},
   "outputs": [],
   "source": [
    "print(in_out.columns)\n",
    "print(in_out.shape)\n",
    "in_out.head()"
   ]
  },
  {
   "cell_type": "markdown",
   "id": "e9de94ac",
   "metadata": {},
   "source": [
    "With one merged dataset that contains the available data of an animal's intake to outcome, we can find the amount of time the animal was in the shelter before its outcome. The intake and outcome datetimes are converted into datetime objects using pandas's [`to_datetime()`](https://pandas.pydata.org/pandas-docs/stable/generated/pandas.to_datetime.html) function. We can then subtract the times to create a `time_in_shelter` column. "
   ]
  },
  {
   "cell_type": "code",
   "execution_count": null,
   "id": "c1144c9d",
   "metadata": {},
   "outputs": [],
   "source": [
    "in_out['outcome_datetime'] = pd.to_datetime(in_out['outcome_datetime'])\n",
    "in_out['intake_datetime'] = pd.to_datetime(in_out['intake_datetime'])\n",
    "\n",
    "in_out['time_in_shelter'] = in_out['outcome_datetime'] - in_out['intake_datetime']"
   ]
  },
  {
   "cell_type": "markdown",
   "id": "baad8a35",
   "metadata": {},
   "source": [
    "Using the [`describe()`](https://pandas.pydata.org/pandas-docs/stable/generated/pandas.DataFrame.describe.html) method, we can get a handy table of descriptive statistics that gives us a general sense of the distribution of the newly created `time_in_shelter` column."
   ]
  },
  {
   "cell_type": "code",
   "execution_count": null,
   "id": "cf03d872",
   "metadata": {},
   "outputs": [],
   "source": [
    "in_out['time_in_shelter'].describe()"
   ]
  },
  {
   "cell_type": "markdown",
   "id": "6c8f1403",
   "metadata": {},
   "source": [
    "Interestingly, the minimum time an animal was in the shelter is $-1,607$ days, which is obviously not a real value. Having a negative number of days in the shelter would imply a number of the intake datetimes are more recent than their respective outcome datetimes. To investigate a little further, we can filter the dataset for intake datetimes that are more recent than their outcomes."
   ]
  },
  {
   "cell_type": "code",
   "execution_count": null,
   "id": "ba5c11e7",
   "metadata": {},
   "outputs": [],
   "source": [
    "in_later = in_out[['intake_datetime', 'outcome_datetime']][in_out['intake_datetime'] > in_out['outcome_datetime']]\n",
    "\n",
    "print(len(in_later))\n",
    "in_later.head()"
   ]
  },
  {
   "cell_type": "markdown",
   "id": "e6b46217",
   "metadata": {},
   "source": [
    "The length of the filtered data indicates there are just over 500 records that have a more recent intake than outcome. As there are just under 80,000 rows in the entire dataset, it is likely the incorrect datetimes are merely a matter of the data being entered incorrectly. Assuming the intake and outcome dates are switched, we can correct the datetimes by replacing the values when the intake is more recent than the outcome."
   ]
  },
  {
   "cell_type": "code",
   "execution_count": null,
   "id": "b26c0678",
   "metadata": {},
   "outputs": [],
   "source": [
    "in_out['intake_datetime'], in_out['outcome_datetime'] = np.where(in_out['intake_datetime'] > in_out['outcome_datetime'],\n",
    "                                                                [in_out['outcome_datetime'], in_out['intake_datetime']],\n",
    "                                                                [in_out['intake_datetime'], in_out['outcome_datetime']])"
   ]
  },
  {
   "cell_type": "code",
   "execution_count": null,
   "id": "580c89a5",
   "metadata": {},
   "outputs": [],
   "source": [
    "set(intakes_df.columns).intersection(outcomes_df.columns)"
   ]
  },
  {
   "cell_type": "markdown",
   "id": "ab20ff33",
   "metadata": {},
   "source": [
    "We want to keep some of the columns like `breed` and `color` in one dataset, but drop the duplicate and no longer needed columns in the other dataset. We choose to keep the still relevant columns in the outcomes dataset, not for any particular reason as the values should be the same across the data. One could investigate further and see if the animal's descriptive values like `color` change from intake to outcome are indeed true, but this isn't germane to our particular analysis."
   ]
  },
  {
   "cell_type": "code",
   "execution_count": null,
   "id": "369f21a3",
   "metadata": {},
   "outputs": [],
   "source": [
    "intake_cond_out_time = in_out.groupby(['intake_cond_outcome'])['time_in_shelter_days'].mean().sort_values(ascending=False).plot(kind='bar', \n",
    "                                                                                                                                figsize=(20, 10),\n",
    "                                                                                                                                fontsize=20)\n",
    "intake_cond_out_time.set_ylabel('Mean Days in Shelter', fontsize=26)\n",
    "intake_cond_out_time.set_xlabel('Intake Condition to Outcome', fontsize=26)\n",
    "intake_cond_out_time.set_title('Mean Days in Shelter by Intake Condition', fontsize=30)\n",
    "\n",
    "plt.tight_layout()\n",
    "sns.despine(bottom=True)"
   ]
  },
  {
   "cell_type": "markdown",
   "id": "56270f95",
   "metadata": {},
   "source": [
    "Most non-normal intake conditions that eventually lead to an adoption appear to take the most days on average, ranging anywhere from about 50 to 60 days. Animals that go missing from the shelter also seem to take the longest to resolve on average. Although it's unclear how an animal would go missing from the shelter, the length of time between the intake and the missing outcome is likely the amount of time the staff keeps a search for the animal before it receives the 'Missing' outcome categorization."
   ]
  },
  {
   "cell_type": "markdown",
   "id": "4ff88613",
   "metadata": {},
   "source": [
    "## Conclusion"
   ]
  },
  {
   "cell_type": "markdown",
   "id": "2bdae5cd",
   "metadata": {},
   "source": [
    "Through the combination of the Austin Animal Center's intakes and outcomes datasets and some cleaning and feature engineering of the data, we were able to investigate further into the complete process from the animal's intake into its outcome. By performing exploratory data analysis on the merged and transformed dataset, we revealed several exciting pieces of information that gives us more knowledge of what to expect when an animal arrives at the shelter regarding the time of stay and possible outcomes. This information will be of critical value when building and validating prediction models as we have prior knowledge of the factors and other components of the data that appear to have importance in predicting the animal's length of stay in the shelter or its outcome."
   ]
  }
 ],
 "metadata": {},
 "nbformat": 4,
 "nbformat_minor": 5
}
