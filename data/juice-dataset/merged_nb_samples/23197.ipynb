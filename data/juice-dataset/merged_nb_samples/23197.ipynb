{
 "cells": [
  {
   "cell_type": "markdown",
   "id": "b6d6920f",
   "metadata": {},
   "source": [
    "## Exploratory analysis and visualisation\n",
    "\n",
    "### This is where we look at the data and try to gain insights from it"
   ]
  },
  {
   "cell_type": "markdown",
   "id": "697869d0",
   "metadata": {},
   "source": [
    "We begin by importing the necessary modules"
   ]
  },
  {
   "cell_type": "code",
   "execution_count": null,
   "id": "711670aa",
   "metadata": {},
   "outputs": [],
   "source": [
    "# Import Dependencies\n",
    "%matplotlib inline\n",
    "\n",
    "# Start Python Imports\n",
    "import math, time, random, datetime\n",
    "\n",
    "# Data Manipulation\n",
    "import pandas as pd\n",
    "\n",
    "# Visualization \n",
    "import matplotlib.pyplot as plt\n",
    "# from quilt.data.ResidentMario import missingno_data\n",
    "# import missingno as msno\n",
    "\n",
    "import seaborn as sns\n",
    "plt.style.use('seaborn-whitegrid')\n",
    "\n",
    "\n",
    "from IPython.display import display"
   ]
  },
  {
   "cell_type": "markdown",
   "id": "38094688",
   "metadata": {},
   "source": [
    "## loading the data"
   ]
  },
  {
   "cell_type": "code",
   "execution_count": null,
   "id": "1a2af1a5",
   "metadata": {},
   "outputs": [],
   "source": [
    "# Import train & test data \n",
    "train = pd.read_csv('/Users/anthonymiyoro/Desktop/Rossmann-Store-Sales-master/train.csv')\n",
    "test = pd.read_csv('/Users/anthonymiyoro/Desktop/Rossmann-Store-Sales-master/test.csv')\n",
    "store=pd.read_csv('/Users/anthonymiyoro/Desktop/Rossmann-Store-Sales-master/store.csv')\n",
    "# sample_submission = pd.read_csv('C:/Users/David/Desktop/rossmann/sample_submission.csv') # example of what a submission should look like"
   ]
  },
  {
   "cell_type": "markdown",
   "id": "e60135da",
   "metadata": {},
   "source": [
    "## Data description\n",
    "\n",
    " Most of the fields are self-explanatory. The following are descriptions for those that aren't.\n",
    "\n",
    "##### Id  -an Id that represents a (Store, Date) duple within the test set\n",
    "\n",
    "##### Store - a unique Id for each store\n",
    "\n",
    "##### Sales - the turnover for any given day (this is what you are predicting)\n",
    "\n",
    "##### Customers - the number of customers on a given day\n",
    "\n",
    "##### Open - an indicator for whether the store was open: 0 = closed, 1 = open\n",
    "\n",
    "##### StateHoliday - indicates a state holiday. Normally all stores, with few exceptions, are closed on state holidays. Note that all schools are closed on public holidays and weekends.  \n",
    "                      a = public holiday, \n",
    "                      b = Easter holiday, \n",
    "                      c = Christmas, \n",
    "                      0 = None\n",
    "                      \n",
    "##### SchoolHoliday - indicates if the (Store, Date) was affected by the closure of public schools\n",
    "\n",
    "##### StoreType - differentiates between 4 different store models: a, b, c, d\n",
    "\n",
    "##### Assortment - describes an assortment level: a = basic, b = extra, c = extended\n",
    "\n",
    "##### CompetitionDistance - distance in meters to the nearest competitor store\n",
    "\n",
    "##### CompetitionOpenSince[Month/Year] - gives the approximate year and month of the time the nearest competitor was opened\n",
    "\n",
    "##### Promo - indicates whether a store is running a promo on that day\n",
    "\n",
    "##### Promo2 - Promo2 is a continuing and consecutive promotion for some stores: \n",
    "                          0 = store is not participating, \n",
    "                          1 = store is participating\n",
    "                          \n",
    "##### Promo2Since[Year/Week] - describes the year and calendar week when the store started participating in Promo2\n",
    "\n",
    "##### PromoInterval - describes the consecutive intervals Promo2 is started, naming the months the promotion is started anew. E.g. \"Feb,May,Aug,Nov\" means each round starts in February, May, August, November of any given year for that store"
   ]
  },
  {
   "cell_type": "markdown",
   "id": "399e2842",
   "metadata": {},
   "source": [
    "## What missing values are there?\n",
    "\n",
    "Where are the holes in our data?\n",
    "\n",
    "These are rows which are missing a value or have NaN instead of something like the rest of the column."
   ]
  },
  {
   "cell_type": "code",
   "execution_count": null,
   "id": "95be71db",
   "metadata": {},
   "outputs": [],
   "source": [
    "train.isnull().sum()"
   ]
  },
  {
   "cell_type": "code",
   "execution_count": null,
   "id": "f2be76de",
   "metadata": {},
   "outputs": [],
   "source": [
    "test.isnull().sum()"
   ]
  },
  {
   "cell_type": "code",
   "execution_count": null,
   "id": "989a11d3",
   "metadata": {},
   "outputs": [],
   "source": [
    "store.isnull().sum()"
   ]
  },
  {
   "cell_type": "markdown",
   "id": "1e3ed09e",
   "metadata": {},
   "source": [
    "## What datatypes are in the dataframe?"
   ]
  },
  {
   "cell_type": "code",
   "execution_count": null,
   "id": "e0189973",
   "metadata": {},
   "outputs": [],
   "source": [
    "train['Date'] = pd.to_datetime(train['Date'], dayfirst=False)\n",
    "test['Date'] = pd.to_datetime(test['Date'], dayfirst=False)"
   ]
  },
  {
   "cell_type": "code",
   "execution_count": null,
   "id": "173532d7",
   "metadata": {},
   "outputs": [],
   "source": [
    "# Different data types in the dataset\n",
    "train.dtypes"
   ]
  },
  {
   "cell_type": "code",
   "execution_count": null,
   "id": "f19dee43",
   "metadata": {},
   "outputs": [],
   "source": [
    "# Different data types in the dataset\n",
    "test.dtypes"
   ]
  },
  {
   "cell_type": "markdown",
   "id": "3dbc2540",
   "metadata": {},
   "source": [
    "## Let's explore each of these features individually"
   ]
  },
  {
   "cell_type": "markdown",
   "id": "b08eb0b0",
   "metadata": {},
   "source": [
    "### Target Feature: Sales\n",
    "\n",
    "Description:  the turnover for any given day"
   ]
  },
  {
   "cell_type": "code",
   "execution_count": null,
   "id": "d8c398f2",
   "metadata": {},
   "outputs": [],
   "source": [
    "train.head(3)"
   ]
  },
  {
   "cell_type": "markdown",
   "id": "098efa0d",
   "metadata": {},
   "source": [
    "There are 3 types of holidays a, b, and c. We will convert them to 1, 2, 3 to represent them"
   ]
  },
  {
   "cell_type": "code",
   "execution_count": null,
   "id": "2e72fc7a",
   "metadata": {},
   "outputs": [],
   "source": [
    "train['StateHoliday'].unique()"
   ]
  },
  {
   "cell_type": "markdown",
   "id": "efa0557f",
   "metadata": {},
   "source": [
    "convert categorical data to numeric data for state holiday"
   ]
  },
  {
   "cell_type": "markdown",
   "id": "508ea51b",
   "metadata": {},
   "source": [
    "### The different types of school holidays"
   ]
  },
  {
   "cell_type": "code",
   "execution_count": null,
   "id": "28276380",
   "metadata": {},
   "outputs": [],
   "source": [
    "train['SchoolHoliday'].unique()"
   ]
  },
  {
   "cell_type": "markdown",
   "id": "bec4928b",
   "metadata": {},
   "source": [
    "### View of data"
   ]
  },
  {
   "cell_type": "markdown",
   "id": "3ff8aea3",
   "metadata": {},
   "source": [
    "When theh"
   ]
  },
  {
   "cell_type": "code",
   "execution_count": null,
   "id": "064dc586",
   "metadata": {},
   "outputs": [],
   "source": [
    "train['Open'].unique()"
   ]
  },
  {
   "cell_type": "markdown",
   "id": "0dd6c716",
   "metadata": {},
   "source": [
    "## analysing test data set"
   ]
  },
  {
   "cell_type": "code",
   "execution_count": null,
   "id": "deba07e1",
   "metadata": {},
   "outputs": [],
   "source": [
    "test.shape"
   ]
  },
  {
   "cell_type": "code",
   "execution_count": null,
   "id": "6e7a1e38",
   "metadata": {},
   "outputs": [],
   "source": [
    "test['Year'] = pd.DatetimeIndex(test['Date']).year\n",
    "test['Month'] = pd.DatetimeIndex(test['Date']).month"
   ]
  },
  {
   "cell_type": "code",
   "execution_count": null,
   "id": "64f991fe",
   "metadata": {},
   "outputs": [],
   "source": [
    "test.head()"
   ]
  },
  {
   "cell_type": "markdown",
   "id": "719b2ad1",
   "metadata": {},
   "source": [
    "### Here we try and see all the information related to a particular store. We can see that data is recorded for every day of the stores operatio for 3 years."
   ]
  },
  {
   "cell_type": "code",
   "execution_count": null,
   "id": "dba2403d",
   "metadata": {},
   "outputs": [],
   "source": [
    "print(train.ix[train['Store'] == 22])"
   ]
  },
  {
   "cell_type": "markdown",
   "id": "ab8edf90",
   "metadata": {},
   "source": [
    "### We now take a look at the StateHoliday feature. '0' represents a working day while 'a'  represents a public holiday. We can change this to 0 and 1"
   ]
  },
  {
   "cell_type": "code",
   "execution_count": null,
   "id": "34f30cca",
   "metadata": {},
   "outputs": [],
   "source": [
    "test['StateHoliday'].unique()"
   ]
  },
  {
   "cell_type": "code",
   "execution_count": null,
   "id": "e401d8f0",
   "metadata": {},
   "outputs": [],
   "source": [
    "test['SchoolHoliday'].unique()"
   ]
  },
  {
   "cell_type": "markdown",
   "id": "addd1f7e",
   "metadata": {},
   "source": [
    "convert categorical data into state holiday into numerical data "
   ]
  },
  {
   "cell_type": "code",
   "execution_count": null,
   "id": "ebe8a165",
   "metadata": {},
   "outputs": [],
   "source": [
    "test.dtypes"
   ]
  },
  {
   "cell_type": "code",
   "execution_count": null,
   "id": "28834159",
   "metadata": {},
   "outputs": [],
   "source": [
    "test.head(5)"
   ]
  },
  {
   "cell_type": "code",
   "execution_count": null,
   "id": "c6ebb1ac",
   "metadata": {},
   "outputs": [],
   "source": [
    "train.head(5)"
   ]
  },
  {
   "cell_type": "markdown",
   "id": "73f35513",
   "metadata": {},
   "source": [
    "# Store Dataset"
   ]
  },
  {
   "cell_type": "markdown",
   "id": "0c48361a",
   "metadata": {},
   "source": [
    "#### We now convert the store types to numerical data types"
   ]
  },
  {
   "cell_type": "code",
   "execution_count": null,
   "id": "5df90fa7",
   "metadata": {},
   "outputs": [],
   "source": [
    "# store.loc[store['StoreType'] == 'a', 'StoreType'] = 1\n",
    "# store.loc[store['StoreType'] == 'b', 'StoreType'] = 2\n",
    "# store.loc[store['StoreType'] == 'c', 'StoreType'] = 3\n",
    "# store.loc[store['StoreType'] == 'd', 'StoreType'] = 4\n",
    "# store['StoreType'] = store['StoreType'].astype(int, copy=False)"
   ]
  },
  {
   "cell_type": "code",
   "execution_count": null,
   "id": "65a569f4",
   "metadata": {},
   "outputs": [],
   "source": [
    "print('levels :', store['StoreType'].unique(), '; data type :', store['StoreType'].dtype)"
   ]
  },
  {
   "cell_type": "markdown",
   "id": "9569636d",
   "metadata": {},
   "source": [
    "#### The assortment of the store refers to the 3 different types of stores. We will convert this categorical data to numerical data "
   ]
  },
  {
   "cell_type": "code",
   "execution_count": null,
   "id": "bd230dde",
   "metadata": {},
   "outputs": [],
   "source": [
    "store.loc[store['Assortment'] == 'a', 'Assortment'] = 1\n",
    "store.loc[store['Assortment'] == 'b', 'Assortment'] = 2\n",
    "store.loc[store['Assortment'] == 'c', 'Assortment'] = 3\n",
    "store['Assortment'] = store['Assortment'].astype(int, copy=False)"
   ]
  },
  {
   "cell_type": "code",
   "execution_count": null,
   "id": "e8919e48",
   "metadata": {},
   "outputs": [],
   "source": [
    "print('levels :', store['Assortment'].unique(), '; data type :', store['Assortment'].dtype)"
   ]
  },
  {
   "cell_type": "code",
   "execution_count": null,
   "id": "b0cfcfd8",
   "metadata": {},
   "outputs": [],
   "source": [
    "store['PromoInterval'].unique()"
   ]
  },
  {
   "cell_type": "code",
   "execution_count": null,
   "id": "cae89afa",
   "metadata": {},
   "outputs": [],
   "source": [
    "store.dtypes"
   ]
  },
  {
   "cell_type": "markdown",
   "id": "dedf2ef9",
   "metadata": {},
   "source": [
    "#### PromoInterval - describes the consecutive intervals Promo2 is started, naming the months the promotion is started anew. E.g. \"Feb,May,Aug,Nov\" means each round starts in February, May, August, November of any given year for that store"
   ]
  },
  {
   "cell_type": "markdown",
   "id": "e1b54355",
   "metadata": {},
   "source": [
    "We will now fill in the blank fields in the dataset with 0s"
   ]
  },
  {
   "cell_type": "code",
   "execution_count": null,
   "id": "89dd4184",
   "metadata": {},
   "outputs": [],
   "source": [
    "store = store.fillna(0)\n",
    "store.head(5)"
   ]
  },
  {
   "cell_type": "markdown",
   "id": "aa372fc2",
   "metadata": {},
   "source": [
    "### There are 3 different types pf promotion dates. Ww will convert this to numerical data by representing the different promotion dates with 1, 2 and 3"
   ]
  },
  {
   "cell_type": "code",
   "execution_count": null,
   "id": "0c9f0dff",
   "metadata": {},
   "outputs": [],
   "source": [
    "store.loc[store['PromoInterval'] == 'Jan,Apr,Jul,Oct', 'PromoInterval'] = 1\n",
    "store.loc[store['PromoInterval'] == 'Feb,May,Aug,Nov', 'PromoInterval'] = 2\n",
    "store.loc[store['PromoInterval'] == 'Mar,Jun,Sept,Dec', 'PromoInterval'] = 3\n",
    "store['PromoInterval'] = store['PromoInterval'].astype(int, copy=False)"
   ]
  },
  {
   "cell_type": "markdown",
   "id": "186391da",
   "metadata": {},
   "source": [
    "### We then merge and export the train and test datasets together below"
   ]
  },
  {
   "cell_type": "code",
   "execution_count": null,
   "id": "c100ef69",
   "metadata": {},
   "outputs": [],
   "source": [
    "train_store = pd.merge(train, store, how = 'left', on='Store')"
   ]
  },
  {
   "cell_type": "code",
   "execution_count": null,
   "id": "6ba595e5",
   "metadata": {},
   "outputs": [],
   "source": [
    "train_store.head(5)"
   ]
  },
  {
   "cell_type": "code",
   "execution_count": null,
   "id": "cf015a51",
   "metadata": {},
   "outputs": [],
   "source": [
    "export_csv = train_store.to_csv(r'/Users/anthonymiyoro/Desktop/train_store.csv', index=None, header=True)"
   ]
  },
  {
   "cell_type": "markdown",
   "id": "fafaf547",
   "metadata": {},
   "source": [
    "## Visual Exploration"
   ]
  },
  {
   "cell_type": "markdown",
   "id": "7031b807",
   "metadata": {},
   "source": [
    "#### We will begin by graphing the number of sales per store type"
   ]
  },
  {
   "cell_type": "code",
   "execution_count": null,
   "id": "673c0d75",
   "metadata": {},
   "outputs": [],
   "source": [
    "train_store.set_index('Date', drop=False, inplace=True)"
   ]
  },
  {
   "cell_type": "markdown",
   "id": "a3114003",
   "metadata": {},
   "source": [
    "We can see the number of sales when compiled monthly below:"
   ]
  },
  {
   "cell_type": "code",
   "execution_count": null,
   "id": "9b6da102",
   "metadata": {},
   "outputs": [],
   "source": [
    "y = train_store['Sales'].resample('MS').sum()\n",
    "\n",
    "y['2013':]"
   ]
  },
  {
   "cell_type": "code",
   "execution_count": null,
   "id": "be067c9f",
   "metadata": {},
   "outputs": [],
   "source": [
    "y['2013'].plot(figsize=(15, 6))\n",
    "plt.show()"
   ]
  },
  {
   "cell_type": "code",
   "execution_count": null,
   "id": "9d556883",
   "metadata": {},
   "outputs": [],
   "source": [
    "y['2014'].plot(figsize=(15, 6))\n",
    "plt.show()"
   ]
  },
  {
   "cell_type": "code",
   "execution_count": null,
   "id": "cf806999",
   "metadata": {},
   "outputs": [],
   "source": [
    "y['2015'].plot(figsize=(15, 6))\n",
    "plt.show()"
   ]
  },
  {
   "cell_type": "code",
   "execution_count": null,
   "id": "40daf806",
   "metadata": {},
   "outputs": [],
   "source": [
    "sns.barplot(x=\"StoreType\", y=\"Sales\", data=train_store, order=[\"a\", \"b\", \"c\", \"d\"])"
   ]
  },
  {
   "cell_type": "markdown",
   "id": "e826d4fc",
   "metadata": {},
   "source": [
    "Then we will look at the different store assortments\n",
    "\n",
    "##### Assortment - describes an assortment level: a = basic, b = extra, c = extended"
   ]
  },
  {
   "cell_type": "code",
   "execution_count": null,
   "id": "ff3ad4bb",
   "metadata": {},
   "outputs": [],
   "source": [
    "sns.barplot(x=\"Assortment\", y=\"Sales\", data=train_store)"
   ]
  },
  {
   "cell_type": "markdown",
   "id": "38f86453",
   "metadata": {},
   "source": [
    "We can also look at the different State Holidays\n",
    "\n",
    "##### StateHoliday - indicates a state holiday. Normally all stores, with few exceptions, are closed on state holidays. Note that all schools are closed on public holidays and weekends.  \n",
    "                      a = public holiday, \n",
    "                      b = Easter holiday, \n",
    "                      c = Christmas, \n",
    "                      0 = None"
   ]
  },
  {
   "cell_type": "code",
   "execution_count": null,
   "id": "d9a677ec",
   "metadata": {},
   "outputs": [],
   "source": [
    "sns.barplot(x=\"StateHoliday\", y=\"Sales\", data=train_store)"
   ]
  },
  {
   "cell_type": "markdown",
   "id": "3c2356b7",
   "metadata": {},
   "source": [
    "Next, we look at how the PromoInterval affects the sales.\n",
    "\n",
    "##### PromoInterval - describes the consecutive intervals Promo2 is started, naming the months the promotion is started anew. E.g. \"Feb,May,Aug,Nov\" means each round starts in February, May, August, November of any given year for that store\n",
    "\n",
    "1 == 'Jan,Apr,Jul,Oct' <br>\n",
    "2 == 'Feb,May,Aug,Nov' <br>\n",
    "3 == 'Mar,Jun,Sept,Dec'<br>"
   ]
  },
  {
   "cell_type": "code",
   "execution_count": null,
   "id": "b7e5c993",
   "metadata": {},
   "outputs": [],
   "source": [
    "sns.barplot(x=\"PromoInterval\", y=\"Sales\", data=train_store)"
   ]
  },
  {
   "cell_type": "markdown",
   "id": "6d2c1c8f",
   "metadata": {},
   "source": [
    "#### We can also look at the average number of sales per week\n",
    "\n",
    "It appeards as though sunday has the lowest number of sales"
   ]
  },
  {
   "cell_type": "code",
   "execution_count": null,
   "id": "37b7a43e",
   "metadata": {},
   "outputs": [],
   "source": [
    "sns.barplot(x=\"DayOfWeek\", y=\"Sales\", data=train_store);"
   ]
  },
  {
   "cell_type": "markdown",
   "id": "ea63a3b5",
   "metadata": {},
   "source": [
    "There also appear to be more sales when it isn't a public holiday."
   ]
  },
  {
   "cell_type": "code",
   "execution_count": null,
   "id": "aa30edc9",
   "metadata": {},
   "outputs": [],
   "source": [
    "train.loc[train['StateHoliday'] == '0', 'StateHoliday'] = 0\n",
    "train.loc[train['StateHoliday'] == 'a', 'StateHoliday'] = 1\n",
    "train.loc[train['StateHoliday'] == 'b', 'StateHoliday'] = 2\n",
    "train.loc[train['StateHoliday'] == 'c', 'StateHoliday'] = 3\n",
    "train['StateHoliday'] = train['StateHoliday'].astype(int, copy=False)"
   ]
  },
  {
   "cell_type": "code",
   "execution_count": null,
   "id": "41840402",
   "metadata": {},
   "outputs": [],
   "source": [
    "train.head(10)"
   ]
  },
  {
   "cell_type": "code",
   "execution_count": null,
   "id": "3aba0ebb",
   "metadata": {},
   "outputs": [],
   "source": [
    "train['Date']=pd.to_datetime(train['Date'],dayfirst=False)"
   ]
  },
  {
   "cell_type": "code",
   "execution_count": null,
   "id": "868c43d6",
   "metadata": {},
   "outputs": [],
   "source": [
    "Date = train['Date']\n",
    "\n",
    "pd.DataFrame({\"year\": Date.dt.year,\n",
    "              \"month\": Date.dt.month,\n",
    "              \"day\": Date.dt.day,\n",
    "              #\"hour\": Date.dt.hour,\n",
    "              \"dayofyear\": Date.dt.dayofyear,\n",
    "              \"week\": Date.dt.week,\n",
    "              \"weekofyear\": Date.dt.weekofyear,\n",
    "              \"dayofweek\": Date.dt.dayofweek,\n",
    "              \"weekday\": Date.dt.weekday,\n",
    "              \"quarter\": Date.dt.quarter,\n",
    "             })"
   ]
  }
 ],
 "metadata": {},
 "nbformat": 4,
 "nbformat_minor": 5
}
