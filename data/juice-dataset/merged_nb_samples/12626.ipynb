{
 "cells": [
  {
   "cell_type": "markdown",
   "id": "fbf06dd2",
   "metadata": {},
   "source": [
    "![Py4Eng](img/logo.png)\n",
    "\n",
    "# Cython and Numba\n",
    "## Yoav Ram"
   ]
  },
  {
   "cell_type": "markdown",
   "id": "a40167a3",
   "metadata": {},
   "source": [
    "# Cython at a glance\n",
    "\n",
    "[Cython](http://docs.cython.org/src/userguide/numpy_tutorial.html#cython-at-a-glance) is a compiler which compiles Python-like code files to C code. Still, ‘’Cython is not a Python to C translator’‘. That is, it doesn’t take your full program and “turns it into C” – rather, the result makes full use of the Python runtime environment. A way of looking at it may be that your code is still Python in that it runs within the Python runtime environment, but rather than compiling to interpreted Python bytecode one compiles to native machine code (but with the addition of extra syntax for easy embedding of faster C-like code).\n",
    "\n",
    "This has two important consequences:\n",
    "\n",
    "- **Speed.** How much depends very much on the program involved though. Typical Python numerical programs would tend to gain very little as most time is spent in lower-level C that is used in a high-level fashion. However for-loop-style programs can gain many orders of magnitude, when typing information is added (and is so made possible as a realistic alternative).\n",
    "- **Easy calling into C code.** One of Cython’s purposes is to allow easy wrapping of C libraries. When writing code in Cython you can call into C code as easily as into Python code.\n",
    "\n",
    "Some Python constructs are not yet supported, though making Cython compile all Python code is a stated goal (among the more important omissions are inner functions and generator functions)."
   ]
  },
  {
   "cell_type": "markdown",
   "id": "889cae45",
   "metadata": {},
   "source": [
    "# Hello world!\n",
    "\n",
    "Let's start with a simple *Hello World!* to check that everything is working.\n",
    "\n",
    "We load the `Cython` magic that will allow us to quickly use Cython inside the notebook. The magic is installed with the `cython` package (`conda install cython` or `pip install cython`). The Cython requires that a C compiler is installed and can be found, and on Windows that may be tricky, here are some resources:\n",
    "\n",
    "- [Install Cython on Windows](https://github.com/cython/cython/wiki/InstallingOnWindows)\n",
    "- [Install C compiler on Windows](https://github.com/cython/cython/wiki/CythonExtensionsOnWindows)\n",
    "- [Compiling Python extensions on Windows](https://blog.ionelmc.ro/2014/12/21/compiling-python-extensions-on-windows/)\n",
    "\n",
    "On Linux/OSX you probably already have a compiler, check with `!gcc --version`. If `gcc` is not found, install it:\n",
    "\n",
    "- On [Ubuntu](https://help.ubuntu.com/community/InstallingCompilers) you should run `sudo apt-get install build-essential`.\n",
    "- On CentOS you just need to install development tools: `sudo yum group install \"Development Tools\"`."
   ]
  },
  {
   "cell_type": "code",
   "execution_count": null,
   "id": "ac09fcdf",
   "metadata": {},
   "outputs": [],
   "source": [
    "%matplotlib inline\n",
    "import matplotlib.pyplot as plt\n",
    "import numpy as np\n",
    "import sys, os\n",
    "\n",
    "import Cython\n",
    "print(\"Cython\", Cython.__version__)\n",
    "\n",
    "%load_ext Cython"
   ]
  },
  {
   "cell_type": "code",
   "execution_count": null,
   "id": "2350a1b9",
   "metadata": {},
   "outputs": [],
   "source": [
    "%%cython \n",
    "print(\"Hello World!\")"
   ]
  },
  {
   "cell_type": "markdown",
   "id": "6b83e760",
   "metadata": {},
   "source": [
    "# First Cython example\n",
    "\n",
    "Let's see a quick example of what Cython can do for us. \n",
    "\n",
    "Consider the following Python [function that returns the first k prime numbers](http://docs.cython.org/en/latest/src/tutorial/cython_tutorial.html) (but not more than 1000):"
   ]
  },
  {
   "cell_type": "markdown",
   "id": "feb38da3",
   "metadata": {},
   "source": [
    "# Example - Mandelbrot fractal"
   ]
  },
  {
   "cell_type": "code",
   "execution_count": null,
   "id": "c2cddeff",
   "metadata": {},
   "outputs": [],
   "source": [
    "import numpy as np\n",
    "\n",
    "def mandelbrot(m, size, iterations):    \n",
    "    for i in range(size):\n",
    "        for j in range(size):\n",
    "            c = -2 + 3.0 / size * j + 1j * (1.5 - 3.0 / size * i)\n",
    "            z = 0\n",
    "            for n in range(iterations):\n",
    "                if np.abs(z) <= 10:\n",
    "                    z = z * z + c\n",
    "                    m[i, j] = n\n",
    "                else:\n",
    "                    break"
   ]
  },
  {
   "cell_type": "code",
   "execution_count": null,
   "id": "42da5410",
   "metadata": {},
   "outputs": [],
   "source": [
    "%%cython\n",
    "def cmandelbrot(int[:,:] m,\n",
    "                int size,\n",
    "                int iterations):\n",
    "    cdef int i, j, n\n",
    "    cdef complex z, c\n",
    "    for i in range(size):\n",
    "        for j in range(size):\n",
    "            c = -2 + 3.0 / size * j + 1j * (1.5 - 3.0 / size * i)\n",
    "            z = 0\n",
    "            for n in range(iterations):\n",
    "                if z.real**2 + z.imag**2 <= 100: # note - no use of np.abs\n",
    "                    z = z * z + c\n",
    "                    m[i, j] = n\n",
    "                else:\n",
    "                    break"
   ]
  },
  {
   "cell_type": "code",
   "execution_count": null,
   "id": "ba3a8891",
   "metadata": {},
   "outputs": [],
   "source": [
    "size = 200\n",
    "iterations = 100\n",
    "m = np.zeros((size, size), dtype=np.int32)"
   ]
  },
  {
   "cell_type": "code",
   "execution_count": null,
   "id": "5810e573",
   "metadata": {},
   "outputs": [],
   "source": [
    "%timeit mandelbrot(m, size, iterations)\n",
    "%timeit cmandelbrot(m, size, iterations)"
   ]
  },
  {
   "cell_type": "code",
   "execution_count": null,
   "id": "7405f91f",
   "metadata": {},
   "outputs": [],
   "source": [
    "mandelbrot(m, size, iterations)\n",
    "plt.imshow(m, cmap='viridis')\n",
    "plt.xticks([])\n",
    "plt.yticks([]);"
   ]
  },
  {
   "cell_type": "markdown",
   "id": "237936a0",
   "metadata": {},
   "source": [
    "# Exercise - difference matrix\n",
    "\n",
    "Write a Cython function that calculates the difference matrix for a given array.\n",
    "Compare it to the NumPy implementation."
   ]
  },
  {
   "cell_type": "code",
   "execution_count": null,
   "id": "5ebd502a",
   "metadata": {},
   "outputs": [],
   "source": [
    "def diff_mat(x):\n",
    "    return x.reshape(-1, 1) - x"
   ]
  },
  {
   "cell_type": "code",
   "execution_count": null,
   "id": "d680c8ba",
   "metadata": {},
   "outputs": [],
   "source": [
    "x = np.random.random(10000)\n",
    "assert np.allclose(diff_mat(x), cdiff_mat(x))\n",
    "%timeit diff_mat(x)\n",
    "%timeit cdiff_mat(x)"
   ]
  },
  {
   "cell_type": "markdown",
   "id": "b41a78c3",
   "metadata": {},
   "source": [
    "You can explore other [compiler directives](https://github.com/cython/cython/wiki/enhancements-compilerdirectives) such as `wraparound` and `nonecheck`."
   ]
  },
  {
   "cell_type": "markdown",
   "id": "3009bcae",
   "metadata": {},
   "source": [
    "# Numba\n",
    "\n",
    "[Numba]((http://numba.pydata.org) speeds functions written directly in Python. \n",
    "With a few annotations, array-oriented and math-heavy Python code can be *just-in-time* (JIT) compiled to native machine instructions, similar in performance to C, C++ and Fortran, without having to switch languages or Python interpreters.\n",
    "\n",
    "Roughly, [JIT](https://en.wikipedia.org/wiki/Just-in-time_compilation) compilation combines the speed of compiled code with the flexibility of interpretation, with the overhead of an interpreter and the additional overhead of compiling (not just interpreting).\n",
    "\n",
    "Numba also allows to release the GIL, thus allowing multithreading in CPU-bounded applications; it also allows to automatically parallelize code - see details in a [blog post](https://www.anaconda.com/blog/developer-blog/parallel-python-with-numba-and-parallelaccelerator/) by Anaconda."
   ]
  },
  {
   "cell_type": "code",
   "execution_count": null,
   "id": "9ceb893c",
   "metadata": {},
   "outputs": [],
   "source": [
    "import numba\n",
    "print('Numba', numba.__version__)"
   ]
  },
  {
   "cell_type": "code",
   "execution_count": null,
   "id": "d4f721b5",
   "metadata": {},
   "outputs": [],
   "source": [
    "@numba.jit()\n",
    "def numandelbrot(m, size, iterations):    \n",
    "    for i in range(size):\n",
    "        for j in range(size):\n",
    "            c = -2 + 3.0 / size * j + 1j * (1.5 - 3.0 / size * i)\n",
    "            z = 0\n",
    "            for n in range(iterations):\n",
    "                if np.abs(z) <= 10:\n",
    "                    z = z * z + c\n",
    "                    m[i, j] = n\n",
    "                else:\n",
    "                    break\n",
    "numandelbrot(m, size, iterations); # run once for jit to work"
   ]
  },
  {
   "cell_type": "code",
   "execution_count": null,
   "id": "cc88bbb4",
   "metadata": {},
   "outputs": [],
   "source": [
    "size = 1000\n",
    "iterations = 1000\n",
    "m = np.zeros((size, size), dtype=np.int32)\n",
    "\n",
    "# %timeit mandelbrot(m, size, iterations)\n",
    "%timeit cmandelbrot(m, size, iterations)\n",
    "%timeit numandelbrot(m, size, iterations)"
   ]
  },
  {
   "cell_type": "markdown",
   "id": "d10379f1",
   "metadata": {},
   "source": [
    "# Exercise - Numba\n",
    "\n",
    "Consider the following NumPy function which calculates the mean squared error of two arrays/"
   ]
  },
  {
   "cell_type": "code",
   "execution_count": null,
   "id": "f0b38ed2",
   "metadata": {},
   "outputs": [],
   "source": [
    "def mean_squared_error_np(yhat, y):\n",
    "    return ((yhat - y)**2).mean()"
   ]
  },
  {
   "cell_type": "markdown",
   "id": "336f5f8a",
   "metadata": {},
   "source": [
    "Write a pure-Python version of this function, then JIT it with Numba."
   ]
  },
  {
   "cell_type": "code",
   "execution_count": null,
   "id": "6122046b",
   "metadata": {},
   "outputs": [],
   "source": [
    "def mean_squared_error_py(yhat, y):\n",
    "    pass\n",
    "\n",
    "def mean_squared_error_nm(yhat, y):\n",
    "    pass"
   ]
  },
  {
   "cell_type": "code",
   "execution_count": null,
   "id": "bc633b4e",
   "metadata": {},
   "outputs": [],
   "source": [
    "n = 100000\n",
    "y = np.random.random(n)\n",
    "yhat = np.random.random(n)\n",
    "%timeit mean_squared_error_np(yhat, y)\n",
    "%timeit mean_squared_error_py(yhat, y)\n",
    "%timeit mean_squared_error_nm(yhat, y)"
   ]
  },
  {
   "cell_type": "markdown",
   "id": "da337ea7",
   "metadata": {},
   "source": [
    "# Releasing the GIL\n",
    "\n",
    "Cython can be directed to [release the GIL](http://docs.cython.org/src/userguide/external_C_code.html#acquiring-and-releasing-the-gil), thus enabling multiple threads to run in parallel (if the OS allows it) and achieve performence gain even in comparison to multi-processing, as threads are cheaper than processes and thread communication is faster than process communication."
   ]
  },
  {
   "cell_type": "code",
   "execution_count": null,
   "id": "277bb645",
   "metadata": {},
   "outputs": [],
   "source": [
    "def display_image(im):\n",
    "    plt.imshow(im, cmap='gray')\n",
    "    plt.xticks([])\n",
    "    plt.yticks([])"
   ]
  },
  {
   "cell_type": "code",
   "execution_count": null,
   "id": "ee654a84",
   "metadata": {},
   "outputs": [],
   "source": [
    "%pwd"
   ]
  },
  {
   "cell_type": "markdown",
   "id": "176569b1",
   "metadata": {},
   "source": [
    "Let's do a segmentation demonstration."
   ]
  },
  {
   "cell_type": "code",
   "execution_count": null,
   "id": "de7cae34",
   "metadata": {},
   "outputs": [],
   "source": [
    "# original image from https://upload.wikimedia.org/wikipedia/commons/5/56/Kobe_Bryant_2014.jpg\n",
    "import imageio\n",
    "image = imageio.imread('../data/Kobe_Bryant_2014.jpg')\n",
    "image = image.mean(axis=2) # greyscale\n",
    "display_image(image)\n",
    "image.dtype, image.shape, image.min(), image.max()"
   ]
  },
  {
   "cell_type": "code",
   "execution_count": null,
   "id": "fdfcfb71",
   "metadata": {},
   "outputs": [],
   "source": [
    "def segment(image, threshold):\n",
    "    output = np.zeros_like(image)\n",
    "    output[image > threshold] = 255\n",
    "    return output\n",
    "\n",
    "display_image(segment(image, 100))"
   ]
  },
  {
   "cell_type": "markdown",
   "id": "49384558",
   "metadata": {},
   "source": [
    "## Cython no-gil"
   ]
  },
  {
   "cell_type": "code",
   "execution_count": null,
   "id": "f3716e12",
   "metadata": {},
   "outputs": [],
   "source": [
    "%%cython\n",
    "import numpy as np\n",
    "import cython \n",
    "\n",
    "# if you comment this out, cython will warn you to add it for faster access\n",
    "@cython.boundscheck(False) \n",
    "cdef void _segment(double[:,:] image, int n, int m, \n",
    "                   double threshold, double[:,:] output) nogil: # note the \"nogil\" directive\n",
    "    cdef int i, j\n",
    "    for i in range(n):\n",
    "        for j in range(m):\n",
    "            if image[i, j] > threshold:\n",
    "                output[i, j] = 255\n",
    "            else:\n",
    "                output[i, j] = 0\n",
    "\n",
    "def csegment(image, threshold):\n",
    "    output = np.zeros_like(image)\n",
    "    n, m = image.shape\n",
    "    _segment(image, n , m, threshold, output)\n",
    "    return output"
   ]
  },
  {
   "cell_type": "code",
   "execution_count": null,
   "id": "5045c4f9",
   "metadata": {},
   "outputs": [],
   "source": [
    "display_image(csegment(image, 100))"
   ]
  },
  {
   "cell_type": "code",
   "execution_count": null,
   "id": "ebc03bf6",
   "metadata": {},
   "outputs": [],
   "source": [
    "%timeit segment(image, 100)\n",
    "%timeit csegment(image, 100)"
   ]
  },
  {
   "cell_type": "markdown",
   "id": "3b988f3f",
   "metadata": {},
   "source": [
    "So performance on a single image is similar, what about using multi-threading for segmenting a bunch of images?\n",
    "\n",
    "Let's download the 30 examples images from the [PASCAL VOC 2012 dataset](http://host.robots.ox.ac.uk/pascal/VOC/voc2012/segexamples/index.html).\n",
    "\n",
    "![example](http://host.robots.ox.ac.uk/pascal/VOC/voc2012/segexamples/images/05.jpg)"
   ]
  },
  {
   "cell_type": "code",
   "execution_count": null,
   "id": "201ca545",
   "metadata": {},
   "outputs": [],
   "source": [
    "image_urls = [\n",
    "    'http://host.robots.ox.ac.uk/pascal/VOC/voc2012/segexamples/images/{:02d}.jpg'.format(i)\n",
    "    for i in range(1,31)\n",
    "]"
   ]
  },
  {
   "cell_type": "code",
   "execution_count": null,
   "id": "5f8e9ff1",
   "metadata": {},
   "outputs": [],
   "source": [
    "display_image(imageio.imread(image_urls[4]))"
   ]
  },
  {
   "cell_type": "markdown",
   "id": "789d1bff",
   "metadata": {},
   "source": [
    "Let's load and flatten the images:"
   ]
  },
  {
   "cell_type": "markdown",
   "id": "e63e6cdf",
   "metadata": {},
   "source": [
    "And the actual C file:"
   ]
  },
  {
   "cell_type": "code",
   "execution_count": null,
   "id": "cf93bde4",
   "metadata": {},
   "outputs": [],
   "source": [
    "%less primes.c"
   ]
  },
  {
   "cell_type": "markdown",
   "id": "c2fe30b4",
   "metadata": {},
   "source": [
    "You can now import `primes` as if it was a regular Python module (if you aren't sure which of the things you are importing, restart your kernel, but don't forger to change directory to `../scripts/cython`)."
   ]
  },
  {
   "cell_type": "code",
   "execution_count": null,
   "id": "cc2ad3c2",
   "metadata": {},
   "outputs": [],
   "source": [
    "import primes"
   ]
  },
  {
   "cell_type": "code",
   "execution_count": null,
   "id": "0dc4475f",
   "metadata": {},
   "outputs": [],
   "source": [
    "primes.cfind_k_primes(10)"
   ]
  },
  {
   "cell_type": "markdown",
   "id": "2d624d6d",
   "metadata": {},
   "source": [
    "# Example - integration\n",
    "\n",
    "This is from Robert Bradshaw [SciPy 2008 slides](http://wiki.sagemath.org/scipy08?action=AttachFile&do=get&target=scipy-cython.tgz).\n",
    "\n",
    "We will write a simple integration code to integrate $f(x) = x^3 - 3x$:"
   ]
  },
  {
   "cell_type": "code",
   "execution_count": null,
   "id": "688edfa0",
   "metadata": {},
   "outputs": [],
   "source": [
    "def f(x):\n",
    "    return x**3 - 3 * x\n",
    "\n",
    "def integrate_f(a , b , N):\n",
    "    s = 0\n",
    "    dx = (b - a )/ N\n",
    "    for i in range(N):\n",
    "        s += f(a + i * dx)\n",
    "    return s * dx"
   ]
  },
  {
   "cell_type": "code",
   "execution_count": null,
   "id": "50234c6a",
   "metadata": {},
   "outputs": [],
   "source": [
    "%timeit integrate_f(0, 1, 100000)"
   ]
  },
  {
   "cell_type": "markdown",
   "id": "c4e3b3b4",
   "metadata": {},
   "source": [
    "Now, the same with Cython. Note that when we define a function with `cdef` we can set a return value but we can only c\n",
    "all it from within Cython. When we define a function with `def` we can import it and call it from Python.\n",
    "\n",
    "Note that we change `x**3` to `x * x * x`."
   ]
  },
  {
   "cell_type": "code",
   "execution_count": null,
   "id": "a0d89982",
   "metadata": {},
   "outputs": [],
   "source": [
    "%%cython\n",
    "cdef double g(double x):\n",
    "    return x * x * x - 3* x\n",
    "\n",
    "def integrate_g(double a , double  b , int N):\n",
    "    cdef double s = 0\n",
    "    cdef double dx = (b - a )/ N\n",
    "    cdef int i\n",
    "    for i in range(N):\n",
    "        s += g( a + i * dx )\n",
    "    return s * dx"
   ]
  },
  {
   "cell_type": "code",
   "execution_count": null,
   "id": "f544701f",
   "metadata": {},
   "outputs": [],
   "source": [
    "%timeit integrate_g(0, 1, 100000)"
   ]
  },
  {
   "cell_type": "markdown",
   "id": "2149ad59",
   "metadata": {},
   "source": [
    "Now let's integrate \n",
    "$$\n",
    "\\int_a^b{\\frac{\\sin{x}}{x}}\n",
    "$$\n",
    "\n",
    "Without Cython, we should use either `math.sin` or `numpy.sin`:"
   ]
  },
  {
   "cell_type": "code",
   "execution_count": null,
   "id": "5e84cfc5",
   "metadata": {},
   "outputs": [],
   "source": [
    "def f(x):\n",
    "    return np.sin(x) / x\n",
    "\n",
    "integrate_f(1, 2, 100000)"
   ]
  },
  {
   "cell_type": "markdown",
   "id": "6a49de93",
   "metadata": {},
   "source": [
    "With Cython, we can import some C functions using an `extern` block:"
   ]
  },
  {
   "cell_type": "code",
   "execution_count": null,
   "id": "94f0d191",
   "metadata": {},
   "outputs": [],
   "source": [
    "%%cython\n",
    "cdef extern from \"math.h\":\n",
    "    double sin(double)\n",
    "    double cos(double)\n",
    "\n",
    "cdef double g(double x):\n",
    "    return sin(x)/x\n",
    "\n",
    "def integrate_g(double a , double  b , int N):\n",
    "    cdef double s = 0\n",
    "    cdef double dx = (b - a) /  N\n",
    "    cdef int i\n",
    "    for i in range(N):\n",
    "        s += g(a + i * dx)\n",
    "    return s * dx"
   ]
  },
  {
   "cell_type": "code",
   "execution_count": null,
   "id": "ea683376",
   "metadata": {},
   "outputs": [],
   "source": [
    "%timeit integrate_f(1, 3, 100000)\n",
    "%timeit integrate_g(1, 3, 100000)"
   ]
  },
  {
   "cell_type": "markdown",
   "id": "d90ef647",
   "metadata": {},
   "source": [
    "# Cython + NumPy\n",
    "\n",
    "Cython works well with NumPy.\n",
    "\n",
    "Let's loop over a NumPy array:"
   ]
  },
  {
   "cell_type": "code",
   "execution_count": null,
   "id": "931ec644",
   "metadata": {},
   "outputs": [],
   "source": [
    "def summ(x):\n",
    "    s = 0\n",
    "    for i in range(x.shape[0]):\n",
    "        s += x[i]\n",
    "    return s"
   ]
  },
  {
   "cell_type": "code",
   "execution_count": null,
   "id": "220a1fca",
   "metadata": {},
   "outputs": [],
   "source": [
    "%%cython\n",
    "cimport numpy as np\n",
    "\n",
    "def csumm(long[:] x): # input type is a buffer\n",
    "    cdef np.ndarray[long, ndim=1] arr = x # put buffer in a cython numpy array\n",
    "    cdef int i = 0\n",
    "    cdef long s = 0\n",
    "    for i in range(arr.shape[0]):\n",
    "        s += arr[i]\n",
    "    return s"
   ]
  },
  {
   "cell_type": "code",
   "execution_count": null,
   "id": "f3055ca7",
   "metadata": {},
   "outputs": [],
   "source": [
    "x = np.random.randint(0, 9, 100000)\n",
    "%timeit summ(x)\n",
    "%timeit csumm(x)"
   ]
  },
  {
   "cell_type": "markdown",
   "id": "c913510b",
   "metadata": {},
   "source": [
    "Note that if you would type `s` and `arr` as made of `int` you would get an error because Python's `int` is a C `long`... But you would get a `ValueError`, not a segmentation fault or anything like that. Here's an example:"
   ]
  },
  {
   "cell_type": "code",
   "execution_count": null,
   "id": "ad4c58e7",
   "metadata": {},
   "outputs": [],
   "source": [
    "y = np.array([0.1, 0.2, 0.3])\n",
    "csumm(y)"
   ]
  },
  {
   "cell_type": "code",
   "execution_count": null,
   "id": "e7736cd2",
   "metadata": {},
   "outputs": [],
   "source": [
    "images = [imageio.imread(url) for url in image_urls]\n",
    "images = [im.mean(axis=2) for im in images]"
   ]
  },
  {
   "cell_type": "markdown",
   "id": "7bb06d96",
   "metadata": {},
   "source": [
    "Let's also resize the images so that the segmentation task is harder."
   ]
  },
  {
   "cell_type": "code",
   "execution_count": null,
   "id": "a787034e",
   "metadata": {},
   "outputs": [],
   "source": [
    "from skimage.transform import resize"
   ]
  },
  {
   "cell_type": "code",
   "execution_count": null,
   "id": "83f013a1",
   "metadata": {},
   "outputs": [],
   "source": [
    "shapes = [im.shape for im in images]\n",
    "images = [resize(im, (w*12, h*12), mode='reflect') \n",
    "          for im, (w, h) in zip(images, shapes)]"
   ]
  },
  {
   "cell_type": "markdown",
   "id": "0f4d950d",
   "metadata": {},
   "source": [
    "First compare the NumPy and Cython versions:"
   ]
  },
  {
   "cell_type": "code",
   "execution_count": null,
   "id": "f1020680",
   "metadata": {},
   "outputs": [],
   "source": [
    "%timeit [segment(im, 100) for im in images]\n",
    "%timeit [csegment(im, 100) for im in images]"
   ]
  },
  {
   "cell_type": "markdown",
   "id": "3342d302",
   "metadata": {},
   "source": [
    "No real difference, of course.\n",
    "Now let's do it with multi-threading, leveraging the `nogil` directive."
   ]
  },
  {
   "cell_type": "code",
   "execution_count": null,
   "id": "3a4b24cb",
   "metadata": {},
   "outputs": [],
   "source": [
    "from concurrent.futures import ThreadPoolExecutor\n",
    "\n",
    "def segment_parallel(images, threshold):\n",
    "    def _segment(im):\n",
    "        return csegment(im, threshold)\n",
    "    \n",
    "    with ThreadPoolExecutor() as executor:\n",
    "        results = executor.map(_segment, images)\n",
    "        return list(results)"
   ]
  },
  {
   "cell_type": "code",
   "execution_count": null,
   "id": "3e1ad674",
   "metadata": {},
   "outputs": [],
   "source": [
    "%timeit [csegment(im, 100) for im in images]\n",
    "%timeit segment_parallel(images, 100)"
   ]
  },
  {
   "cell_type": "markdown",
   "id": "9c1ecf7e",
   "metadata": {},
   "source": [
    "You can look at the process monitor (or `top`/`htop` on Linux/Mac) when the next two cells run to see that the first uses less cores than the latter. "
   ]
  },
  {
   "cell_type": "code",
   "execution_count": null,
   "id": "d141689f",
   "metadata": {},
   "outputs": [],
   "source": [
    "for _ in range(10): \n",
    "    [csegment(im, 100) for im in images];"
   ]
  },
  {
   "cell_type": "code",
   "execution_count": null,
   "id": "2ce10986",
   "metadata": {},
   "outputs": [],
   "source": [
    "for _ in range(10): \n",
    "    segment_parallel(images, 100);"
   ]
  },
  {
   "cell_type": "markdown",
   "id": "9441b3c4",
   "metadata": {},
   "source": [
    "## Numba no-gil"
   ]
  },
  {
   "cell_type": "code",
   "execution_count": null,
   "id": "b76ea77c",
   "metadata": {},
   "outputs": [],
   "source": [
    "@numba.jit(nopython=True, nogil=True)\n",
    "def _nmsegment(image, threshold, output):\n",
    "    n, m = image.shape\n",
    "    for i in range(n):\n",
    "        for j in range(m):\n",
    "            if image[i, j] > threshold:\n",
    "                output[i, j] = 255\n",
    "            else:\n",
    "                output[i, j] = 0\n",
    "    return output\n",
    "\n",
    "def nmsegment(image, threshold):\n",
    "    output = np.empty_like(image)\n",
    "    _nmsegment(image, threshold, output)\n",
    "    return output\n",
    "\n",
    "display_image(nmsegment(image, 100))"
   ]
  },
  {
   "cell_type": "code",
   "execution_count": null,
   "id": "a1698f1b",
   "metadata": {},
   "outputs": [],
   "source": [
    "%timeit segment(images[0], 100)\n",
    "%timeit csegment(images[0], 100)\n",
    "%timeit nmsegment(images[0], 100)"
   ]
  },
  {
   "cell_type": "code",
   "execution_count": null,
   "id": "a2b977b0",
   "metadata": {},
   "outputs": [],
   "source": [
    "from concurrent.futures import ThreadPoolExecutor\n",
    "\n",
    "def segment_parallel(images, threshold):  \n",
    "    def func(image):\n",
    "            return nmsegment(image, threshold)\n",
    "    \n",
    "    with ThreadPoolExecutor() as executor:        \n",
    "        results = executor.map(func, images)\n",
    "        return list(results)"
   ]
  },
  {
   "cell_type": "code",
   "execution_count": null,
   "id": "0adb911b",
   "metadata": {},
   "outputs": [],
   "source": [
    "%timeit [nmsegment(im, 100) for im in images]\n",
    "%timeit segment_parallel(images, 100)"
   ]
  },
  {
   "cell_type": "markdown",
   "id": "67682cde",
   "metadata": {},
   "source": [
    "# Numba automatic parallelization\n",
    "\n",
    "Numba uses Intel's MKL to automate parallelization of for loops with multiple threads.\n",
    "\n",
    "Consider the function for calculation of MSE:"
   ]
  },
  {
   "cell_type": "code",
   "execution_count": null,
   "id": "a1054b75",
   "metadata": {},
   "outputs": [],
   "source": [
    "@numba.jit\n",
    "def mean_squared_error_nm(yhat, y):\n",
    "    mse = 0\n",
    "    n = len(y)\n",
    "    for i in range(n):\n",
    "        mse += (yhat[i] - y[i])**2\n",
    "    mse /= n\n",
    "    return mse"
   ]
  },
  {
   "cell_type": "markdown",
   "id": "4358a487",
   "metadata": {},
   "source": [
    "We can parallelize it by adding the `parallel=True` directive (which requires that we can set `nopython=True` without getting an error) and using `numba.prange` instead of `range`:"
   ]
  },
  {
   "cell_type": "code",
   "execution_count": null,
   "id": "beb4efad",
   "metadata": {},
   "outputs": [],
   "source": [
    "%%cython\n",
    "def cfind_k_primes(int k):\n",
    "    cdef int n_primes, candidate, p\n",
    "    cdef int[1000] primes\n",
    "    n_primes = 0  # the current number of elements in p\n",
    "    candidate = 2\n",
    "    while n_primes < min(k, 1000):\n",
    "        # is candidate prime?\n",
    "        for p in primes[:n_primes]:\n",
    "            if candidate % p == 0:\n",
    "                break # not a prime        \n",
    "        else: # if no break occurred in the loop, we have a prime\n",
    "            primes[n_primes] = candidate\n",
    "            n_primes += 1\n",
    "        candidate += 1\n",
    "\n",
    "    # convert primes from a cython type to a python list\n",
    "    return [p for p in primes[:n_primes]] "
   ]
  },
  {
   "cell_type": "code",
   "execution_count": null,
   "id": "1c10e4b5",
   "metadata": {},
   "outputs": [],
   "source": [
    "find_k_primes(100) == cfind_k_primes(100)"
   ]
  },
  {
   "cell_type": "code",
   "execution_count": null,
   "id": "5565818b",
   "metadata": {},
   "outputs": [],
   "source": [
    "n = 1000\n",
    "%timeit find_k_primes(n)\n",
    "%timeit cfind_k_primes(n)"
   ]
  },
  {
   "cell_type": "markdown",
   "id": "83f3918f",
   "metadata": {},
   "source": [
    "Note that in the inner loop only variables with type definitions, and thus C objects, are reffered to; therefore, the loop is translated to a C loop, and runs very fast."
   ]
  },
  {
   "cell_type": "markdown",
   "id": "215b0c1c",
   "metadata": {},
   "source": [
    "# Creating a Cython module\n",
    "\n",
    "We can now put that Cython code into a separate file with extension `pyx`. "
   ]
  },
  {
   "cell_type": "code",
   "execution_count": null,
   "id": "ada0e8f4",
   "metadata": {},
   "outputs": [],
   "source": [
    "!mkdir ../scripts/cython\n",
    "%cd ../scripts/cython"
   ]
  },
  {
   "cell_type": "code",
   "execution_count": null,
   "id": "664ed7de",
   "metadata": {},
   "outputs": [],
   "source": [
    "%%file primes.pyx\n",
    "def cfind_k_primes(int k):\n",
    "    cdef int n_primes, candidate, p\n",
    "    cdef int[1000] primes\n",
    "    n_primes = 0  # the current number of elements in p\n",
    "    candidate = 2\n",
    "    while n_primes < min(k, 1000):\n",
    "        # is candidate prime?\n",
    "        for p in primes[:n_primes]:\n",
    "            if candidate % p == 0:\n",
    "                break # not a prime        \n",
    "        else: # if no break occurred in the loop, we have a prime\n",
    "            primes[n_primes] = candidate\n",
    "            n_primes += 1\n",
    "        candidate += 1\n",
    "\n",
    "    # convert primes from a cython type to a python list\n",
    "    return [p for p in primes[:n_primes]] "
   ]
  },
  {
   "cell_type": "markdown",
   "id": "14fc346c",
   "metadata": {},
   "source": [
    "Now we compile it and import it with a single stroke using the [`pyximport` module](http://docs.cython.org/en/latest/src/reference/compilation.html#pyximport),\n",
    "\n",
    "> Cython code, unlike Python, must be compiled.\n",
    "> This happens in two stages:\n",
    "> A .pyx file is compiles by Cython to a .c file.\n",
    "> The .c file is compiled by a C comiler to a .so file (or a .pyd file on Windows)"
   ]
  },
  {
   "cell_type": "code",
   "execution_count": null,
   "id": "c3858b4f",
   "metadata": {},
   "outputs": [],
   "source": [
    "import pyximport\n",
    "pyximport.install()"
   ]
  },
  {
   "cell_type": "code",
   "execution_count": null,
   "id": "d540e67a",
   "metadata": {},
   "outputs": [],
   "source": [
    "from primes import cfind_k_primes"
   ]
  },
  {
   "cell_type": "code",
   "execution_count": null,
   "id": "b6ad7e0c",
   "metadata": {},
   "outputs": [],
   "source": [
    "len(cfind_k_primes(100)) == 100"
   ]
  },
  {
   "cell_type": "markdown",
   "id": "f4e7bc0e",
   "metadata": {},
   "source": [
    "You can also do this on your own, without `pyximport`. This is useful when shipping or if you just want to see the C file - for example, to see how much work Cython saved you from doing!\n",
    "\n",
    "You start by writing a `setup.py` file which imports `cythonize` from the Cython package and tells `setup` (the standard way to setup Python packages, using `distutils` or `setuptools`) to build an extension module using `cythonize`."
   ]
  },
  {
   "cell_type": "code",
   "execution_count": null,
   "id": "e3bf0690",
   "metadata": {},
   "outputs": [],
   "source": [
    "@numba.jit(parallel=True, nopython=True)\n",
    "def mean_squared_error_pr(yhat, y):\n",
    "    mse = 0\n",
    "    n = len(y)\n",
    "    for i in numba.prange(n):\n",
    "        mse += (yhat[i] - y[i])**2\n",
    "    mse /= n\n",
    "    return mse"
   ]
  },
  {
   "cell_type": "code",
   "execution_count": null,
   "id": "f1399ebe",
   "metadata": {},
   "outputs": [],
   "source": [
    "n = 1000000\n",
    "y = np.random.random(n)\n",
    "yhat = np.random.random(n)\n",
    "%timeit mean_squared_error_nm(yhat, y)\n",
    "%timeit mean_squared_error_pr(yhat, y)"
   ]
  },
  {
   "cell_type": "markdown",
   "id": "9fbe4f1f",
   "metadata": {},
   "source": [
    "Roughly two-fold faster - which makes sense on my 2-CPU machine."
   ]
  },
  {
   "cell_type": "markdown",
   "id": "9ba80844",
   "metadata": {},
   "source": [
    "# Numba stencils (local filters)\n",
    "\n",
    "Numba's `stencil` decorator works similar to SciPy's `generic_filter`, but uses the JIT capabilities of Numba.\n",
    "\n",
    "Let's start by adding some noise to the images:"
   ]
  }
 ],
 "metadata": {},
 "nbformat": 4,
 "nbformat_minor": 5
}
