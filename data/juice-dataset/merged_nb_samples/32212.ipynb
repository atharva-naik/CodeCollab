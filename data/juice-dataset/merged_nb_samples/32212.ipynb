{
 "cells": [
  {
   "cell_type": "markdown",
   "id": "68cec0b5",
   "metadata": {},
   "source": [
    "# ODSC Predictive Modeling Workshop"
   ]
  },
  {
   "cell_type": "markdown",
   "id": "49b307ea",
   "metadata": {},
   "source": [
    "11/4/2017"
   ]
  },
  {
   "cell_type": "markdown",
   "id": "acb6b787",
   "metadata": {},
   "source": [
    "## Prerequisites "
   ]
  },
  {
   "cell_type": "markdown",
   "id": "3479aeb4",
   "metadata": {},
   "source": [
    "Download Data: https://goo.gl/AoR7xn"
   ]
  },
  {
   "cell_type": "markdown",
   "id": "8304a3c1",
   "metadata": {},
   "source": [
    "Anaconda: https://www.anaconda.com/download/"
   ]
  },
  {
   "cell_type": "markdown",
   "id": "0695c5fe",
   "metadata": {},
   "source": [
    "## Load Packages"
   ]
  },
  {
   "cell_type": "code",
   "execution_count": null,
   "id": "2cb9812e",
   "metadata": {},
   "outputs": [],
   "source": [
    "%matplotlib inline \n",
    "from IPython.core.interactiveshell import InteractiveShell\n",
    "InteractiveShell.ast_node_interactivity = \"all\"\n",
    "import pandas as pd\n",
    "import numpy as np\n",
    "import seaborn"
   ]
  },
  {
   "cell_type": "markdown",
   "id": "905d59b5",
   "metadata": {},
   "source": [
    "## Data Import"
   ]
  },
  {
   "cell_type": "markdown",
   "id": "95538023",
   "metadata": {},
   "source": [
    "\n",
    "The dataset is extracted from a research study that can be found online. <br>\n",
    "https://www.hindawi.com/journals/bmri/2014/781670/sup/\n",
    "\n",
    "Data dictionary<br>\n",
    "https://www.hindawi.com/journals/bmri/2014/781670/tab1/\n",
    "\n",
    "The business problem defined is<br>\n",
    "\"**Can we predict which patient will be readmitted to the hospital within the first 30 days from discharge**?\"\n",
    "\n",
    "Here is an article on the background of hospital readmission. In short, one big problem in healthcare industry today is the rising cost of patient readmission.\n",
    "https://www.speechmed.com/cost-hospital-readmission/\n"
   ]
  },
  {
   "cell_type": "markdown",
   "id": "0bd86b11",
   "metadata": {},
   "source": [
    "The data set we are using today has been sampled down for demo purpose.\n",
    "\n",
    "First, let's read the Excel table into pandas dataframe"
   ]
  },
  {
   "cell_type": "markdown",
   "id": "99e628a2",
   "metadata": {},
   "source": [
    "## Exploratory Data Analysis"
   ]
  },
  {
   "cell_type": "markdown",
   "id": "a8c88df2",
   "metadata": {},
   "source": [
    "The first thing you always want to do is to look at the raw data file. No summary stats can be more intuitive than actually looking at the raw data."
   ]
  },
  {
   "cell_type": "code",
   "execution_count": null,
   "id": "424a8c89",
   "metadata": {},
   "outputs": [],
   "source": [
    "df[:3].transpose()"
   ]
  },
  {
   "cell_type": "markdown",
   "id": "a7ef31dd",
   "metadata": {},
   "source": [
    "There is a combination of categorical, numeric and text features in the data set. There are missing values in some columns, such as weight. For this workshop, we will exclude Text features from the analysis. "
   ]
  },
  {
   "cell_type": "markdown",
   "id": "1889008a",
   "metadata": {},
   "source": [
    "Next, let's get some summary stats for both numeric features. "
   ]
  },
  {
   "cell_type": "code",
   "execution_count": null,
   "id": "46dbaa5f",
   "metadata": {},
   "outputs": [],
   "source": [
    "df.describe()"
   ]
  },
  {
   "cell_type": "code",
   "execution_count": null,
   "id": "35cb568f",
   "metadata": {},
   "outputs": [],
   "source": [
    "# density plot\n",
    "df.number_inpatient.plot.density()"
   ]
  },
  {
   "cell_type": "code",
   "execution_count": null,
   "id": "dc57fa19",
   "metadata": {},
   "outputs": [],
   "source": [
    "# histogram\n",
    "df.number_inpatient.plot.hist()"
   ]
  },
  {
   "cell_type": "markdown",
   "id": "6d7408df",
   "metadata": {},
   "source": [
    "Look for a few things: \n",
    "- Anomaly values, e.g. Outliers, values that does not make business sense, etc.\n",
    "- Extremely skewed features, big difference between mean and median\n",
    "- Features with few unique values, e.g. Min and 75% values are the same, etc"
   ]
  },
  {
   "cell_type": "markdown",
   "id": "aff8efb5",
   "metadata": {},
   "source": [
    "Take a look at frequency tables for categorical features"
   ]
  },
  {
   "cell_type": "code",
   "execution_count": null,
   "id": "6507a577",
   "metadata": {},
   "outputs": [],
   "source": [
    "# frequency table\n",
    "df.weight.value_counts(sort=False, dropna=False)"
   ]
  },
  {
   "cell_type": "markdown",
   "id": "d3d8216c",
   "metadata": {},
   "source": [
    "Frequency table shows that weight column has a large percentage of missing values. This feature may not add much value to the model, but we will keep it in the data for now. "
   ]
  },
  {
   "cell_type": "code",
   "execution_count": null,
   "id": "3d1a4c62",
   "metadata": {},
   "outputs": [],
   "source": [
    "# bar chart\n",
    "pd.crosstab(df.weight, columns='N').plot.bar()"
   ]
  },
  {
   "cell_type": "markdown",
   "id": "4f2aa7ba",
   "metadata": {},
   "source": [
    "Generally, you need to continue to review each feature to flag any potential problem. Let's assume that we have done that and move on....."
   ]
  },
  {
   "cell_type": "markdown",
   "id": "b9c93365",
   "metadata": {},
   "source": [
    "## Data Preparation"
   ]
  },
  {
   "cell_type": "markdown",
   "id": "a6f722e1",
   "metadata": {},
   "source": [
    "#### Missing value imputation"
   ]
  },
  {
   "cell_type": "markdown",
   "id": "723ef4a8",
   "metadata": {},
   "source": [
    "Take a look at missing value distribution in the data set"
   ]
  },
  {
   "cell_type": "code",
   "execution_count": null,
   "id": "453f6a55",
   "metadata": {},
   "outputs": [],
   "source": [
    "df.isnull().sum()"
   ]
  },
  {
   "cell_type": "markdown",
   "id": "9c3d8f2f",
   "metadata": {},
   "source": [
    "There are many ways to impute missing values depending on variable type and algorithms used to train a model. \n",
    "- constant \n",
    "- median imputation \n",
    "- forward fill \n",
    "- backward fill \n",
    "- frequency based \n",
    "- model based \n",
    "- missing value indicator"
   ]
  },
  {
   "cell_type": "code",
   "execution_count": null,
   "id": "d12fff10",
   "metadata": {},
   "outputs": [],
   "source": [
    "# impute missing with median \n",
    "df = df.fillna(df.median())"
   ]
  },
  {
   "cell_type": "code",
   "execution_count": null,
   "id": "f4222f1e",
   "metadata": {},
   "outputs": [],
   "source": [
    "# encode categorical missing into a 'MISSING' category\n",
    "df = df.fillna(value='MISSING')"
   ]
  },
  {
   "cell_type": "code",
   "execution_count": null,
   "id": "6fcd6d13",
   "metadata": {},
   "outputs": [],
   "source": [
    "# check imputation\n",
    "df.isnull().sum()"
   ]
  },
  {
   "cell_type": "markdown",
   "id": "35ec977d",
   "metadata": {},
   "source": [
    "### Split data into feature columns and target column"
   ]
  },
  {
   "cell_type": "markdown",
   "id": "e63de3eb",
   "metadata": {},
   "source": [
    "**We will exclude text features for this workshop"
   ]
  }
 ],
 "metadata": {},
 "nbformat": 4,
 "nbformat_minor": 5
}
