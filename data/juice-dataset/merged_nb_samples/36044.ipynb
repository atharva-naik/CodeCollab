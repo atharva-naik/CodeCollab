{
 "cells": [
  {
   "cell_type": "markdown",
   "id": "f330d4ac",
   "metadata": {},
   "source": [
    "## Who shops Black Friday sales on Thanksgiving Day?"
   ]
  },
  {
   "cell_type": "markdown",
   "id": "1b6f7137",
   "metadata": {},
   "source": [
    "### 1. Introduction\n",
    "\n",
    "In the United States, Black Friday is the Friday after Thanksgiving, or the last Friday in November. It's a shopping extravaganza in which stores typically open their doors extremely early and offer one-time only deals. In years past, people have been known to form lines outside the stores starting Friday at midnight in order to score the best deals, also known as doorbuster deals, on items that are expected to quickly run out, such as TV's and video game consoles.\n",
    "\n",
    "In recent years many stores have added a twist: they have started Black Friday on [*Thursday*](https://en.wikipedia.org/wiki/Black_Friday_%28shopping%29#Black_Thursday): Thanksgiving Day itself. It started a few years back with stores opening later in the evening, but JCPenney opened its doors at 2 P.M. on Thanksgiving Day 2017.\n",
    "\n",
    "A few days before Thanksgiving 2015, [FiveThirtyEight](https://www.fivethirtyeight.com/) surveyed 1,058 respondents on general Thanksgiving [questions](https://github.com/fivethirtyeight/data/tree/master/thanksgiving-2015), such as whether they celebrate Thanksgiving with friends or with family or at all, what types of desserts and turkey stuffings they prefer, etc. They also asked respondents whether they would shop Black Friday sales on Thanksgiving Day itself. In this exploration and visualization, we seek to gain a little more insight on who does Black Friday on Thanksgiving Day using the data collected by FiveThirtyEight."
   ]
  },
  {
   "cell_type": "markdown",
   "id": "e2b39a28",
   "metadata": {},
   "source": [
    "### 2. Reading the data\n",
    "\n",
    "The survey data is available at FiveThirtyEight's [Github repository](https://github.com/fivethirtyeight/data/tree/master/thanksgiving-2015). We start by loading the libraries we will be using and then proceed to read the data."
   ]
  },
  {
   "cell_type": "markdown",
   "id": "6e46f526",
   "metadata": {},
   "source": [
    "Loading main libraries"
   ]
  },
  {
   "cell_type": "code",
   "execution_count": null,
   "id": "060e3007",
   "metadata": {},
   "outputs": [],
   "source": [
    "import pandas as pd\n",
    "import matplotlib.pyplot as plt\n",
    "import numpy as np\n",
    "# Jupyter magic to make matplotlib lines plots appear inline\n",
    "%matplotlib inline"
   ]
  },
  {
   "cell_type": "markdown",
   "id": "2110b62c",
   "metadata": {},
   "source": [
    "Reading the data"
   ]
  },
  {
   "cell_type": "code",
   "execution_count": null,
   "id": "84b1a559",
   "metadata": {},
   "outputs": [],
   "source": [
    "tg_data = pd.read_csv(\"thanksgiving-2015-poll-data.csv\", encoding = \"Latin-1\")\n",
    "tg_data.shape"
   ]
  },
  {
   "cell_type": "markdown",
   "id": "68fb1eb5",
   "metadata": {},
   "source": [
    "Those surveyed answered questions on a variety of [Thanksgiving topics](https://github.com/fivethirtyeight/data/tree/master/thanksgiving-2015). We are interested in finding out who shopped Thanksgiving sales across four categories: gender, age, income, and region."
   ]
  },
  {
   "cell_type": "markdown",
   "id": "49a23939",
   "metadata": {},
   "source": [
    "### 3.0 Pivot tables"
   ]
  },
  {
   "cell_type": "markdown",
   "id": "9a3222cb",
   "metadata": {},
   "source": [
    "We can have pandas compute [pivot tables](https://en.wikipedia.org/wiki/Pivot_table#Mechanics) showing the percentages across categories that shopped Black Friday sales on Thanksgiving Day 2015."
   ]
  },
  {
   "cell_type": "markdown",
   "id": "ccf30911",
   "metadata": {},
   "source": [
    "#### 3.1 Gender\n",
    "\n",
    "The survey asked respondents: *\"What is your gender?\"*. We will rename that column as *\"Gender\"*. Similarly, the column *\"Will you shop any Black Friday sales on Thanksgiving Day?\"*, which will be summarized across categories, will be renamed to *\"Shopped_BF\"*."
   ]
  },
  {
   "cell_type": "code",
   "execution_count": null,
   "id": "a1c169ba",
   "metadata": {},
   "outputs": [],
   "source": [
    "tg_data.rename(columns = {\"What is your gender?\": \"Gender\",\n",
    "                          \"Will you shop any Black Friday sales on Thanksgiving Day?\": \"Shopped_BF\"}, inplace = True)"
   ]
  },
  {
   "cell_type": "markdown",
   "id": "9ba13d7b",
   "metadata": {},
   "source": [
    "We will also change *Shopped_BF* from \"Yes\" and \"No\" to 1's and 0's for ease of computation."
   ]
  },
  {
   "cell_type": "code",
   "execution_count": null,
   "id": "2d5d7274",
   "metadata": {},
   "outputs": [],
   "source": [
    "def yes_no_to_int(yes_no_string):\n",
    "    if yes_no_string == \"Yes\": return 1\n",
    "    if yes_no_string == \"No\": return 0\n",
    "\n",
    "tg_data[\"Shopped_BF\"] = tg_data[\"Shopped_BF\"].apply(yes_no_to_int)    "
   ]
  },
  {
   "cell_type": "markdown",
   "id": "e31c9fe5",
   "metadata": {},
   "source": [
    "Now we are ready to create a [pivot table](https://pandas.pydata.org/pandas-docs/stable/generated/pandas.pivot_table.html) showing the percentages of males and females that shopped Black Friday sales on Thanksgiving Day 2015."
   ]
  },
  {
   "cell_type": "code",
   "execution_count": null,
   "id": "4576c9d3",
   "metadata": {},
   "outputs": [],
   "source": [
    "# Since Shopped_BF is either 1 or 0, the mean value is the fraction of Females or Males that shopped\n",
    "# BF sales on Thanksgiving\n",
    "# NaN's are automatically filtered out\n",
    "gender_pvt_tbl = tg_data.pivot_table(index=\"Gender\", values = \"Shopped_BF\", aggfunc = (lambda x: 100 * np.mean(x)))\n",
    "gender_pvt_tbl"
   ]
  },
  {
   "cell_type": "markdown",
   "id": "8cece270",
   "metadata": {},
   "source": [
    "#### 3.2 Age"
   ]
  },
  {
   "cell_type": "markdown",
   "id": "78ecb659",
   "metadata": {},
   "source": [
    "Without further ado, we can have pandas compute the percentages of people that shopped Black Friday sales on Thanksgiving Day 2015 across age groups."
   ]
  },
  {
   "cell_type": "code",
   "execution_count": null,
   "id": "a55e02e9",
   "metadata": {},
   "outputs": [],
   "source": [
    "age_pvt_tbl = tg_data.pivot_table(index=\"Age\", values = \"Shopped_BF\", aggfunc = (lambda x: 100 * np.mean(x)))\n",
    "age_pvt_tbl"
   ]
  },
  {
   "cell_type": "markdown",
   "id": "644a7990",
   "metadata": {},
   "source": [
    "It seems as one ages, Black Friday sales lose their allure, specially if it involves leaving the family on Thanksgiving Day to go elbow to elbow with strangers to buy material goods. On the other hand, one could see the appeal of doorbuster deals on toys for people with families."
   ]
  },
  {
   "cell_type": "markdown",
   "id": "09bd27ad",
   "metadata": {},
   "source": [
    "#### 3.3 U.S. Region"
   ]
  },
  {
   "cell_type": "markdown",
   "id": "fcef36cf",
   "metadata": {},
   "source": [
    "Similarly for percentages of \"Black Thursday\" shoppers across U.S. regions."
   ]
  },
  {
   "cell_type": "code",
   "execution_count": null,
   "id": "aa5d9a52",
   "metadata": {},
   "outputs": [],
   "source": [
    "region_pvt_tbl = tg_data.pivot_table(index=\"US Region\", values = [\"Shopped_BF\"], aggfunc = (lambda x: 100 * np.mean(x)))\n",
    "region_pvt_tbl"
   ]
  },
  {
   "cell_type": "markdown",
   "id": "f6a17eef",
   "metadata": {},
   "source": [
    "It seems that across the nation, a large majority of two thirds or more choose not to shop on Thanksgiving."
   ]
  },
  {
   "cell_type": "markdown",
   "id": "35125360",
   "metadata": {},
   "source": [
    "#### 3.4 Household Income\n",
    "\n",
    "We will rename *How much total combined money did all members of your HOUSEHOLD earn last year?* to *Household Income*"
   ]
  },
  {
   "cell_type": "code",
   "execution_count": null,
   "id": "fc488a2f",
   "metadata": {},
   "outputs": [],
   "source": [
    "tg_data.rename(columns = {\"How much total combined money did all members of your HOUSEHOLD earn last year?\": \n",
    "                          \"Household Income\"}, inplace = True)"
   ]
  },
  {
   "cell_type": "markdown",
   "id": "2957625c",
   "metadata": {},
   "source": [
    "We will also escape the dollar sign, \"$\", which is a special character"
   ]
  }
 ],
 "metadata": {},
 "nbformat": 4,
 "nbformat_minor": 5
}
