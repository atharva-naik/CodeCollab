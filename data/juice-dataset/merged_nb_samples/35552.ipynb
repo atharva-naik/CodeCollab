{
 "cells": [
  {
   "cell_type": "code",
   "execution_count": null,
   "id": "81661308",
   "metadata": {},
   "outputs": [],
   "source": [
    "%matplotlib inline\n",
    "import MySQLdb as mdb\n",
    "import pandas as pd\n",
    "import numpy as np\n",
    "import scipy\n",
    "import scipy.stats as stats\n",
    "\n",
    "import matplotlib.pyplot as plt\n",
    "import matplotlib\n",
    "import seaborn as sns\n",
    "sns.set()\n",
    "\n",
    "from datetime import datetime\n",
    "import re\n",
    "\n",
    "matplotlib.style.use('ggplot')\n",
    "#pd.set_option('display.notebook_repr_html', True)"
   ]
  },
  {
   "cell_type": "markdown",
   "id": "13c256ec",
   "metadata": {},
   "source": [
    "# Helper Functions "
   ]
  },
  {
   "cell_type": "markdown",
   "id": "d07a741a",
   "metadata": {},
   "source": [
    "### Fetch Data From MySQL"
   ]
  },
  {
   "cell_type": "code",
   "execution_count": null,
   "id": "b817085a",
   "metadata": {},
   "outputs": [],
   "source": [
    "def fetch(cols,table,where=None,group_by=None,order_by=None,Desc=False,limit=None):\n",
    "    \"\"\"\n",
    "    Purpose: Makes the MySQL quesries more efficitent and faster.\n",
    "    \n",
    "    Note: All inputs have to be in STRING format except the 'limit' which is an int\n",
    "    \"\"\"\n",
    "    \n",
    "    # Opening a Connection to donorsChoose Database\n",
    "    con = mdb.connect('localhost', 'idx', 'donorsChoose', 'donors');\n",
    "    cur = con.cursor()\n",
    "    \n",
    "    # Creating a query\n",
    "    query = 'SELECT ' + cols + ' FROM ' + table + ' '\n",
    "    if where: query += ' WHERE ' + where + ' '\n",
    "    if group_by: query += 'GROUP BY ' + group_by + ' '\n",
    "    if order_by: query += 'ORDER BY ' + order_by + ' '\n",
    "    if Desc: query += 'DESC '\n",
    "    if limit: query += 'LIMIT ' + str(limit)\n",
    "    \n",
    "    # fetching the data and turn it into a pandas dataframe\n",
    "    cur.execute(query)\n",
    "    output = np.array(cur.fetchall())\n",
    "    colm = [f[0] for f in cur.description]\n",
    "    output = pd.DataFrame(output)\n",
    "    output.columns = colm\n",
    "\n",
    "    # Closing the connection to the database\n",
    "    con.close()\n",
    "    \n",
    "    return output"
   ]
  },
  {
   "cell_type": "markdown",
   "id": "92decae4",
   "metadata": {},
   "source": [
    "### Statistical Analysis Functions "
   ]
  },
  {
   "cell_type": "code",
   "execution_count": null,
   "id": "9a5c3198",
   "metadata": {},
   "outputs": [],
   "source": [
    "plot_proportions('primary_focus_subject',figSize=(14,10))"
   ]
  },
  {
   "cell_type": "markdown",
   "id": "3b048ba9",
   "metadata": {},
   "source": [
    "Grouping is not done solely based on similarity of the subjects but also funding status distribution. For example, It seems that math & literacy have a similar popularity level in LA!\n",
    "\n",
    "Reducing the levels to:\n",
    "\n",
    "\n",
    "- music and art ('Visual Arts','Music','Performing Arts')\n",
    "- community related ('Early Development','Environmental Science','Character Education','Community Service','Applied Sciences')\n",
    "- health and sports ('Health & Life Science','Health & Wellness','Gym & Fitness', 'Sports','Nutrition','Special Needs')\n",
    "- literacy and math ('Literature & Writing','Literacy','Foreign Languages','ESL','Mathematics')\n",
    "- history and civics ('Social Sciences','History & Geography','Civics & Government','Economics')\n",
    "- Other ('Other','Extracurricular','College & Career Prep','Parent Involvement','')"
   ]
  },
  {
   "cell_type": "code",
   "execution_count": null,
   "id": "29b34b36",
   "metadata": {},
   "outputs": [],
   "source": [
    "primary_subject_mapping = {'Visual Arts': 'music_art', 'Music': 'music_art', 'Performing Arts': 'music_art',\n",
    "                          'Early Development': 'community_related', 'Environmental Science': 'community_related',\n",
    "                          'Character Education': 'community_related', 'Community Service': 'community_related',\n",
    "                           'Applied Sciences': 'community_related', 'Health & Life Science': 'health' , \n",
    "                           'Health & Wellness': 'health', 'Gym & Fitness': 'health', 'Sports': 'health',\n",
    "                           'Nutrition': 'health', 'Literature & Writing': 'literacy_math', 'Literacy': 'literacy_math',\n",
    "                           'Foreign Languages': 'literacy_math', 'ESL': 'literacy_math' ,'Mathematics': 'literacy_math',\n",
    "                           'Social Sciences': 'history_civics','History & Geography': 'history_civics',\n",
    "                           'Civics & Government': 'history_civics', 'Economics': 'history_civics', 'Other': 'other',\n",
    "                           'Extracurricular': 'other', 'College & Career Prep': 'other', 'Special Needs': 'health',\n",
    "                           'Parent Involvement': 'other','': 'other'}\n",
    "\n",
    "projects_la['primary_focus_subject_grouped'] = projects_la.primary_focus_subject.map(primary_subject_mapping).astype(object)\n",
    "\n",
    "# Have to apply the same grouping to the secondary subject\n",
    "projects_la['secondary_focus_subject_grouped'] = projects_la.secondary_focus_subject.map(primary_subject_mapping).astype(object)"
   ]
  },
  {
   "cell_type": "code",
   "execution_count": null,
   "id": "1efd835e",
   "metadata": {},
   "outputs": [],
   "source": [
    "plot_proportions('primary_focus_subject_grouped',figSize=(7,4))"
   ]
  },
  {
   "cell_type": "code",
   "execution_count": null,
   "id": "7fe7dacf",
   "metadata": {},
   "outputs": [],
   "source": [
    "print 'chi2 p-value before grouping:', chi2_test('primary_focus_subject')\n",
    "print 'chi2 p-value after grouping:', chi2_test('primary_focus_subject_grouped')"
   ]
  },
  {
   "cell_type": "markdown",
   "id": "665c1395",
   "metadata": {},
   "source": [
    "Fantastic! After grouping, p-value is much more significant that what we got for primary_focus_area even that primary_focus_area has more levels."
   ]
  },
  {
   "cell_type": "markdown",
   "id": "c0e6a249",
   "metadata": {},
   "source": [
    "### Poverty Level"
   ]
  },
  {
   "cell_type": "markdown",
   "id": "5526405f",
   "metadata": {},
   "source": [
    "It is interesting that schools with lower poverty level are more likely to receive the fund! But their fraction is much lower. So in general more money goes to high poverty schools.\n",
    "\n",
    "Let's make it only two levels: Low & High Poverty."
   ]
  },
  {
   "cell_type": "code",
   "execution_count": null,
   "id": "a58c801f",
   "metadata": {},
   "outputs": [],
   "source": [
    "plot_proportions('poverty_level',figSize=(7,4))"
   ]
  },
  {
   "cell_type": "code",
   "execution_count": null,
   "id": "c585116f",
   "metadata": {},
   "outputs": [],
   "source": [
    "projects_la.poverty_level.value_counts()"
   ]
  },
  {
   "cell_type": "code",
   "execution_count": null,
   "id": "1f066ea0",
   "metadata": {},
   "outputs": [],
   "source": [
    "poverty_level_mapping = {'highest poverty': 'high', 'high poverty': 'high',\n",
    "                         'moderate poverty': 'low', 'low poverty': 'low'}\n",
    "projects_la['poverty_level_grouped'] = projects_la.poverty_level.map(poverty_level_mapping).astype(object)"
   ]
  },
  {
   "cell_type": "markdown",
   "id": "bbaac7a9",
   "metadata": {},
   "source": [
    "### Teacher's Gender"
   ]
  },
  {
   "cell_type": "markdown",
   "id": "855a3513",
   "metadata": {},
   "source": [
    "School zipcode, city, and district are clearly correlated. Out this three, I will include only the school_zipcode in building predictive models. It's more intuitive and also $\\chi^2$ test confirmed that it has the highest degree of variation among the three."
   ]
  },
  {
   "cell_type": "markdown",
   "id": "e83dd766",
   "metadata": {},
   "source": [
    "## Grouping The Levels to Prevent Overfitting"
   ]
  },
  {
   "cell_type": "markdown",
   "id": "63d9eafa",
   "metadata": {},
   "source": [
    "### Resource Type"
   ]
  },
  {
   "cell_type": "code",
   "execution_count": null,
   "id": "3e4e2b3e",
   "metadata": {},
   "outputs": [],
   "source": [
    "projects_la.resource_type.value_counts()"
   ]
  },
  {
   "cell_type": "code",
   "execution_count": null,
   "id": "749298a0",
   "metadata": {},
   "outputs": [],
   "source": [
    "plot_proportions('resource_type',figSize=(7,4))"
   ]
  },
  {
   "cell_type": "markdown",
   "id": "8bc4a9ee",
   "metadata": {},
   "source": [
    "Reducing the levels to:\n",
    "\n",
    "- trips and visitor \n",
    "- book and supplies\n",
    "- Technology and other."
   ]
  },
  {
   "cell_type": "code",
   "execution_count": null,
   "id": "c834d2ed",
   "metadata": {},
   "outputs": [],
   "source": [
    "resource_type_mapping = {'Trips': 'Trips_Visitor', 'Visitors': 'Trips_Visitor',\n",
    "                         'Books': 'Books_Supplies', 'Supplies': 'Books_Supplies',\n",
    "                         'Other': 'Technology_other', 'Technology': 'Technology_other', '':'Technology_other'}\n",
    "projects_la['resource_type_grouped'] = projects_la.resource_type.map(resource_type_mapping).astype(object)"
   ]
  },
  {
   "cell_type": "code",
   "execution_count": null,
   "id": "1f50c532",
   "metadata": {},
   "outputs": [],
   "source": [
    "plot_proportions('resource_type_grouped',figSize=(7,3))"
   ]
  },
  {
   "cell_type": "code",
   "execution_count": null,
   "id": "096f7b91",
   "metadata": {},
   "outputs": [],
   "source": [
    "print 'chi2 p-value before grouping:', chi2_test('resource_type')\n",
    "print 'chi2 p-value after grouping:', chi2_test('resource_type_grouped')"
   ]
  },
  {
   "cell_type": "markdown",
   "id": "0361d9c2",
   "metadata": {},
   "source": [
    "Not bad! $10^{-132}$ is still pretty good! haha! Handling three levels is for sure easier."
   ]
  },
  {
   "cell_type": "markdown",
   "id": "385199ef",
   "metadata": {},
   "source": [
    "### Project Focus Subject & Area"
   ]
  },
  {
   "cell_type": "markdown",
   "id": "ad3aca22",
   "metadata": {},
   "source": [
    "DonorsChoose 'Focus Area' is one way of grouping the 'Focus Subjects'. This grouping is based on context similarity of different subjects. For example, three 'Music & The Arts' different subjects fit into this docus area. See below for more details:"
   ]
  },
  {
   "cell_type": "code",
   "execution_count": null,
   "id": "bbb3d2bd",
   "metadata": {},
   "outputs": [],
   "source": [
    "print '(numofRows, numofColms) =' , projects_la.shape"
   ]
  },
  {
   "cell_type": "code",
   "execution_count": null,
   "id": "2b40420f",
   "metadata": {},
   "outputs": [],
   "source": [
    "projects_la.head()"
   ]
  },
  {
   "cell_type": "markdown",
   "id": "7569651b",
   "metadata": {},
   "source": [
    "To make our life easier, let's create a numerical binary column for funding status"
   ]
  },
  {
   "cell_type": "code",
   "execution_count": null,
   "id": "ff2076d1",
   "metadata": {},
   "outputs": [],
   "source": [
    "# Have a column of success and failures as 1 & 0 for the ease of calculation\n",
    "projects_la['funding_status_binary'] = projects_la.funding_status.map( {'completed': 1, 'expired': 0}).astype(int)"
   ]
  },
  {
   "cell_type": "markdown",
   "id": "e494b090",
   "metadata": {},
   "source": [
    "### Dropping Unrelevant Columns"
   ]
  },
  {
   "cell_type": "markdown",
   "id": "4e281190",
   "metadata": {},
   "source": [
    "Information about the state/county and 'teacher_ny_teaching_fellow' are clearly redundant; these are projecy LA county. Also, it turned out there is no New Leaders New Schools (nlns) in LA. "
   ]
  },
  {
   "cell_type": "code",
   "execution_count": null,
   "id": "e7bf9c08",
   "metadata": {},
   "outputs": [],
   "source": [
    "projects_la.drop(['school_state','school_county','teacher_ny_teaching_fellow','school_nlns'], axis=1, inplace=True)\n",
    "print '(numofRows, numofColms) =' , projects_la.shape"
   ]
  },
  {
   "cell_type": "markdown",
   "id": "bebde1eb",
   "metadata": {},
   "source": [
    "# Correcting for MySQL dtype Assignments"
   ]
  },
  {
   "cell_type": "markdown",
   "id": "e37cd1b2",
   "metadata": {},
   "source": [
    "The fetched data through MySQL are all labeled as object (categorical) data type. Need to correct that for numerical and timestamp data."
   ]
  },
  {
   "cell_type": "markdown",
   "id": "60543ec8",
   "metadata": {},
   "source": [
    "### Correting Numerical Columns dtype"
   ]
  },
  {
   "cell_type": "code",
   "execution_count": null,
   "id": "ea7fd738",
   "metadata": {},
   "outputs": [],
   "source": [
    "numerical_columns = ['vendor_shipping_charges', 'sales_tax', 'payment_processing_charges', \\\n",
    "                     'fulfillment_labor_materials','total_price_excluding_optional_support',\\\n",
    "                     'total_price_including_optional_support', 'students_reached','total_donations','num_donors']\n",
    "\n",
    "projects_la[numerical_columns] = projects_la[numerical_columns].astype(float)"
   ]
  },
  {
   "cell_type": "markdown",
   "id": "1cb73aa1",
   "metadata": {},
   "source": [
    "### Correting Timestamp Columns dtype"
   ]
  },
  {
   "cell_type": "code",
   "execution_count": null,
   "id": "9d7f09e4",
   "metadata": {},
   "outputs": [],
   "source": [
    "plot_proportions('teacher_prefix',figSize=(7,4))"
   ]
  },
  {
   "cell_type": "markdown",
   "id": "3f085ea8",
   "metadata": {},
   "source": [
    "Will group them to male and female. What about the doctors? There are only three projects and it's written by the same person. I am going to assume it's a guy."
   ]
  },
  {
   "cell_type": "code",
   "execution_count": null,
   "id": "afa093ac",
   "metadata": {},
   "outputs": [],
   "source": [
    "projects_la[projects_la.teacher_prefix == 'Dr.']['_teacher_acctid']"
   ]
  },
  {
   "cell_type": "code",
   "execution_count": null,
   "id": "e112b3d2",
   "metadata": {},
   "outputs": [],
   "source": [
    "teacher_gender_mapping = {'Dr.': 'male', 'Mr.': 'male',\n",
    "                         'Ms.': 'female', 'Mrs.': 'female'}\n",
    "projects_la['teacher_gender'] = projects_la.teacher_prefix.map(teacher_gender_mapping).astype(object)"
   ]
  },
  {
   "cell_type": "code",
   "execution_count": null,
   "id": "6ba99f7d",
   "metadata": {},
   "outputs": [],
   "source": [
    "plot_proportions('teacher_gender',figSize=(7,4))"
   ]
  },
  {
   "cell_type": "markdown",
   "id": "2a42b53a",
   "metadata": {},
   "source": [
    "# Analyzing Numerical Variables"
   ]
  },
  {
   "cell_type": "code",
   "execution_count": null,
   "id": "9484b4ec",
   "metadata": {},
   "outputs": [],
   "source": [
    "numerical_variables = projects_la[['vendor_shipping_charges', 'sales_tax','payment_processing_charges', \n",
    "                                    'fulfillment_labor_materials','total_price_excluding_optional_support',\n",
    "                                    'total_price_including_optional_support', 'students_reached',\n",
    "                                    'total_donations','num_donors']]"
   ]
  },
  {
   "cell_type": "markdown",
   "id": "b315d9f4",
   "metadata": {},
   "source": [
    "### Comparing the Medians of Funded and Not Funded Projects Using Bootstrap "
   ]
  },
  {
   "cell_type": "code",
   "execution_count": null,
   "id": "9432bd2c",
   "metadata": {},
   "outputs": [],
   "source": [
    "projects_la.groupby('month_posted').funding_status_binary.mean().plot('bar')"
   ]
  },
  {
   "cell_type": "markdown",
   "id": "5e19b9fc",
   "metadata": {},
   "source": [
    "Wow! A big difference. Let's group them into first and second semester. "
   ]
  },
  {
   "cell_type": "code",
   "execution_count": null,
   "id": "f6f4fb20",
   "metadata": {},
   "outputs": [],
   "source": [
    "projects_la['semester_posted'] = 0\n",
    "\n",
    "for index,row in projects_la.iterrows():\n",
    "    if row['month_posted'] < 7:\n",
    "        projects_la.ix[index,'semester_posted'] = '2nd'\n",
    "    elif row['month_posted'] >= 7:\n",
    "        projects_la.ix[index,'semester_posted'] = '1st'"
   ]
  },
  {
   "cell_type": "code",
   "execution_count": null,
   "id": "bf43c020",
   "metadata": {},
   "outputs": [],
   "source": [
    "projects_la.semester_posted.value_counts()"
   ]
  },
  {
   "cell_type": "code",
   "execution_count": null,
   "id": "2893584d",
   "metadata": {},
   "outputs": [],
   "source": [
    "plot_proportions('semester_posted',figSize=(7,3))"
   ]
  },
  {
   "cell_type": "markdown",
   "id": "79955007",
   "metadata": {},
   "source": [
    "Very good!"
   ]
  },
  {
   "cell_type": "markdown",
   "id": "d214b46a",
   "metadata": {},
   "source": [
    "### Success Rate vs. Year Posted"
   ]
  },
  {
   "cell_type": "code",
   "execution_count": null,
   "id": "9c6663f6",
   "metadata": {},
   "outputs": [],
   "source": [
    "projects_la.groupby('year_posted').funding_status_binary.mean().plot('bar')"
   ]
  },
  {
   "cell_type": "markdown",
   "id": "4a63f9b1",
   "metadata": {},
   "source": [
    "Interesting! 2008 collapse clearly had an impact. Anyway, the year posted in not going to be part of my modeling."
   ]
  },
  {
   "cell_type": "markdown",
   "id": "8b0eaed9",
   "metadata": {},
   "source": [
    "# More Feature Engineering"
   ]
  },
  {
   "cell_type": "markdown",
   "id": "f18618e8",
   "metadata": {},
   "source": [
    "Possibly, teachers who have posted more projects in the past have a higher chance. "
   ]
  },
  {
   "cell_type": "markdown",
   "id": "07844def",
   "metadata": {},
   "source": [
    "## Number of Teacher's Previous Projects "
   ]
  },
  {
   "cell_type": "code",
   "execution_count": null,
   "id": "8e52b20f",
   "metadata": {},
   "outputs": [],
   "source": [
    "def chi2_test(colName):\n",
    "    '''\n",
    "    Purpose: Performs Chi2 independet test on a categorical variable column\n",
    "    and return the associated p-value.\n",
    "    \n",
    "    Note: This function is specifically designed for LA projects and the \n",
    "    independent test perfomed based on the funding status (funded or not)\n",
    "    '''\n",
    "    \n",
    "    # Create a multiIndex_table table based on the variable and funding status\n",
    "    multiIndex_table = projects_la.groupby([colName,'funding_status'])['funding_status'].count()\n",
    "               \n",
    "    # Turning funding status into two columns (completed/expired)\n",
    "    unstacked = multiIndex_table.unstack('funding_status')\n",
    "\n",
    "    # Making sure that there are at least 10 observation per case\n",
    "    unstacked = unstacked[unstacked.completed >= 10]\n",
    "    unstacked = unstacked[unstacked.expired >= 10]\n",
    "    \n",
    "    Chi2, p_value, dof, expected = scipy.stats.chi2_contingency(unstacked)\n",
    "    \n",
    "    return p_value"
   ]
  },
  {
   "cell_type": "code",
   "execution_count": null,
   "id": "a2928155",
   "metadata": {},
   "outputs": [],
   "source": [
    "def bootstrap_median(colName,nofSimulation=1000,nofSample=1000,plot_hist=False):\n",
    "    \"\"\"\n",
    "    Purpose: Performs two groups independent tests and compares their median\n",
    "    \n",
    "    Note: This function is specifically designed for LA projects and the \n",
    "    independent test perfomed based on the funding status (funded or not)\n",
    "    \"\"\"\n",
    "    \n",
    "    median_diff = []\n",
    "    \n",
    "    Funded    = projects_la[projects_la.funding_status=='completed']\n",
    "    notFunded = projects_la[projects_la.funding_status=='expired']\n",
    "\n",
    "    # Bootstraping: finding the median differences and severl (nofSimulation) resample of\n",
    "    # funded and not funded projects. \n",
    "    for i in xrange(nofSimulation):\n",
    "        median1 = Funded[colName].iloc[np.random.randint(0, len(Funded[colName]), size=nofSample)].median()\n",
    "        median2 = notFunded[colName].iloc[np.random.randint(0, len(notFunded[colName]), size=nofSample)].median()\n",
    "        median_diff.append(median1 - median2)\n",
    "\n",
    "    # The number of simulations and resample size will be more than\n",
    "    # couple of thousands --> use normal z test (CLT)\n",
    "    mean = np.mean(median_diff)\n",
    "    SD = np.std(median_diff)\n",
    "    z = mean/SD\n",
    "    z = min(-z,z)  # Two sided test --> use the lower quantile\n",
    "    pValue = 2*stats.norm.cdf(z)\n",
    "    percLow, percHigh = np.percentile(median_diff,[2.5,97.5])\n",
    "\n",
    "\n",
    "    print 'The mean of median difference of {0} is {1}, the confidence interval=({2},{3}), and  p-value={4}.'.\\\n",
    "            format(colName,round(mean,2),round(percLow,2),round(percHigh,2),round(pValue,2))\n",
    "    print\n",
    "    \n",
    "    if plot_hist:\n",
    "        plt.hist(median_diff)   # Optional "
   ]
  },
  {
   "cell_type": "code",
   "execution_count": null,
   "id": "67f949c5",
   "metadata": {},
   "outputs": [],
   "source": [
    "def sampleProportions_chanceOF_success(colName):\n",
    "    \"\"\"\n",
    "    Purpose: Determine wether or not a binary variable contributes to the success probability\n",
    "    \n",
    "    Example: Is being a charter school on not correlated to the chance of getting funded.\n",
    "    \n",
    "    Note: This function is specifically designed for LA projects and the \n",
    "    independent test perfomed based on the funding status (funded or not)\n",
    "    \"\"\"\n",
    "    \n",
    "    # prevalence of the binary varible: what is the prevalence of the charter school?\n",
    "    prevalence = float(sum(projects_la[colName] == '1'))\n",
    "\n",
    "    # Conditional Probability: If it's a charter school, what is the chance of getting funded?\n",
    "    success = sum(projects_la[projects_la[colName] == '1']['funding_status'] == 'completed')\n",
    "    \n",
    "    # Overal success rate: independent of wether or not it's a charter school\n",
    "    overal_success = sum(projects_la.funding_status == 'completed')/float(projects_la.shape[0])\n",
    "    \n",
    "    # funded given it's a charter school\n",
    "    p = success/prevalence\n",
    "    sigma = np.sqrt(p*(1-p)/prevalence)\n",
    "    percLow = p - 1.96*sigma\n",
    "    percHigh = p + 1.96*sigma\n",
    "    \n",
    "    # Confident interval of success rate compare to the overal success\n",
    "    return (percLow - overal_success, percHigh - overal_success)"
   ]
  },
  {
   "cell_type": "markdown",
   "id": "6b1fed7d",
   "metadata": {},
   "source": [
    "### Plotting "
   ]
  },
  {
   "cell_type": "code",
   "execution_count": null,
   "id": "28184503",
   "metadata": {},
   "outputs": [],
   "source": [
    "def plot_proportions(colName,figSize = (14,19)):\n",
    "    \"\"\"\n",
    "    Purpose: Plots stacked barplots for categorical variable\n",
    "    \n",
    "    Note: This function is specifically designed for LA projects and the \n",
    "    independent test perfomed based on the funding status (funded or not)\n",
    "    \"\"\"\n",
    "    \n",
    "    # Create a multiIndex_table table based on the variable and funding status\n",
    "    multiIndex_table = projects_la.groupby([colName,'funding_status'])['funding_status'].count()\n",
    "    \n",
    "    # Turning one of the indices into a column\n",
    "    multiIndex_table = multiIndex_table.unstack('funding_status')\n",
    "    \n",
    "    # Normalizing each row\n",
    "    multiIndex_table = multiIndex_table.div(multiIndex_table.sum(axis=1), axis=0)\n",
    "    \n",
    "    # Making it more readable\n",
    "    font = {'weight' : 'bold', 'size': 13}\n",
    "    matplotlib.rc('font', **font)\n",
    "\n",
    "    ax = multiIndex_table.sort('completed').plot(kind='barh',stacked=True,figsize=figSize)\n",
    "    ax.set_title('Percentage Funded vs. ' + colName)"
   ]
  },
  {
   "cell_type": "markdown",
   "id": "51d3aea4",
   "metadata": {},
   "source": [
    "# Fetching LA Projects"
   ]
  },
  {
   "cell_type": "markdown",
   "id": "5ab753e2",
   "metadata": {},
   "source": [
    "DonorsChoose data is already parsed and stored on the local machine and can be access via a MySQL connection. For now, I am going to work on projects data only. I will look at the donations and essays separately.\n",
    "\n",
    "Let's retrieve all the projects that are done in LA county."
   ]
  },
  {
   "cell_type": "code",
   "execution_count": null,
   "id": "a0235bec",
   "metadata": {},
   "outputs": [],
   "source": [
    "projects_la = fetch('*','projects',where=\"school_county='Los Angeles'\")"
   ]
  },
  {
   "cell_type": "code",
   "execution_count": null,
   "id": "5dd7e5b7",
   "metadata": {},
   "outputs": [],
   "source": [
    "list(projects_la.primary_focus_area.unique())"
   ]
  },
  {
   "cell_type": "code",
   "execution_count": null,
   "id": "9c018ffe",
   "metadata": {},
   "outputs": [],
   "source": [
    "list(projects_la.primary_focus_subject.unique())"
   ]
  },
  {
   "cell_type": "markdown",
   "id": "e552aa57",
   "metadata": {},
   "source": [
    "The goal is to regroup the subjects heuristically to gain more variation (information)."
   ]
  },
  {
   "cell_type": "code",
   "execution_count": null,
   "id": "3e986dde",
   "metadata": {},
   "outputs": [],
   "source": [
    "sns.boxplot(np.log(projects_la.previousProposal_Teacher),groupby=projects_la.funding_status)"
   ]
  },
  {
   "cell_type": "markdown",
   "id": "24e11322",
   "metadata": {},
   "source": [
    "Okay, so there is a difference."
   ]
  },
  {
   "cell_type": "markdown",
   "id": "727caee4",
   "metadata": {},
   "source": [
    "## Number of School Previous Projects "
   ]
  },
  {
   "cell_type": "code",
   "execution_count": null,
   "id": "d9d5b1bb",
   "metadata": {},
   "outputs": [],
   "source": [
    "projects_la['previousProposal_School'] = 0\n",
    "\n",
    "# Create a dictionary for the number of previouse proposals by a teacher\n",
    "# All initial values are zero\n",
    "school_dict = projects_la.set_index('_schoolid')['previousProposal_School'].to_dict()\n",
    "for each in projects_la._schoolid:\n",
    "    school_dict[each] += 1\n",
    "\n",
    "# Create a list of all values --> much faster than updating each row\n",
    "previousProposal = []\n",
    "for i in xrange(len(projects_la._schoolid)):\n",
    "    previousProposal.append(school_dict[projects_la._schoolid[i]])\n",
    "\n",
    "# Finally updating the column\n",
    "projects_la['previousProposal_School'] = previousProposal"
   ]
  },
  {
   "cell_type": "code",
   "execution_count": null,
   "id": "18f60744",
   "metadata": {},
   "outputs": [],
   "source": [
    "bootstrap_median('previousProposal_School',2000,2000)"
   ]
  },
  {
   "cell_type": "code",
   "execution_count": null,
   "id": "25b81672",
   "metadata": {},
   "outputs": [],
   "source": [
    "sns.boxplot(projects_la.previousProposal_School,groupby=projects_la.funding_status)"
   ]
  },
  {
   "cell_type": "markdown",
   "id": "f4bf5663",
   "metadata": {},
   "source": [
    "## Number of Donors  & Total Donations  per Zipcode"
   ]
  },
  {
   "cell_type": "markdown",
   "id": "913652bd",
   "metadata": {},
   "source": [
    "Does it matter how many donors and how much have contrbuted to the projects in LA per zipcode."
   ]
  },
  {
   "cell_type": "code",
   "execution_count": null,
   "id": "ff3eef10",
   "metadata": {},
   "outputs": [],
   "source": [
    "num_donors_per_zip = projects_la.groupby('school_zip').num_donors.sum()\n",
    "num_donors_per_zip_dict = num_donors_per_zip.to_dict()\n",
    "projects_la['donor_per_zip'] = projects_la.school_zip.map(lambda x: num_donors_per_zip_dict[x])\n",
    "\n",
    "donations_per_zip = projects_la.groupby('school_zip').total_donations.sum()\n",
    "donations_per_zip_dict = donations_per_zip.to_dict()\n",
    "projects_la['donation_per_zip'] = projects_la.school_zip.map(lambda x: donations_per_zip_dict[x])\n",
    "\n",
    "projects_la.head()"
   ]
  },
  {
   "cell_type": "code",
   "execution_count": null,
   "id": "4d343365",
   "metadata": {},
   "outputs": [],
   "source": [
    "bootstrap_median('donation_per_zip',nofSimulation=2000,nofSample=2000)\n",
    "bootstrap_median('donor_per_zip',nofSimulation=2000,nofSample=2000)"
   ]
  },
  {
   "cell_type": "markdown",
   "id": "c9d44197",
   "metadata": {},
   "source": [
    "Nope! No dependence!"
   ]
  },
  {
   "cell_type": "markdown",
   "id": "a1c07f31",
   "metadata": {},
   "source": [
    "# Writing The Potentially Important Variable"
   ]
  },
  {
   "cell_type": "code",
   "execution_count": null,
   "id": "8c8a46a4",
   "metadata": {},
   "outputs": [],
   "source": [
    "for each in numerical_variables:\n",
    "    bootstrap_median(each,2000,2000)"
   ]
  },
  {
   "cell_type": "markdown",
   "id": "b8cdd4c6",
   "metadata": {},
   "source": [
    "Not surprisingly, number of donors and total donations are strong indicators of the success. But it's interesting to see how the amount of money teachers ask for is so effective. Sales tax, shipping, and processing charges are highly correlated with the total price. And it seems that fulfillment fee is independent of funding status. "
   ]
  },
  {
   "cell_type": "code",
   "execution_count": null,
   "id": "8b0b58b8",
   "metadata": {},
   "outputs": [],
   "source": [
    "timestamp_columns = ['date_posted', 'date_completed','date_thank_you_packet_mailed','date_expiration']\n",
    "\n",
    "for column in timestamp_columns:\n",
    "    projects_la[column] = pd.to_datetime(projects_la[column])"
   ]
  },
  {
   "cell_type": "code",
   "execution_count": null,
   "id": "644878d0",
   "metadata": {},
   "outputs": [],
   "source": [
    "projects_la.dtypes.value_counts()"
   ]
  },
  {
   "cell_type": "markdown",
   "id": "28ddfeca",
   "metadata": {},
   "source": [
    "Okay, everything looks good. Let's see how LA is doing."
   ]
  },
  {
   "cell_type": "markdown",
   "id": "26e0aeff",
   "metadata": {},
   "source": [
    "# LA in the Last 10 Years"
   ]
  },
  {
   "cell_type": "markdown",
   "id": "3d30813f",
   "metadata": {},
   "source": [
    "What fraction of the projects are funded? How much money is raised? What about not funded projects?"
   ]
  },
  {
   "cell_type": "code",
   "execution_count": null,
   "id": "15b55511",
   "metadata": {},
   "outputs": [],
   "source": [
    "sns.set_style(\"darkgrid\",{\"xtick.major.size\": 1, \"ytick.major.size\": 1,'axes.labelsize': 15,\\\n",
    "                          'axes.titlesize': 32, 'font.size': 32, 'legend.fontsize': 32.0})\n",
    "\n",
    "g = sns.boxplot(np.log10(projects_la.total_price_including_optional_support), groupby=projects_la.funding_status,\\\n",
    "            names=['Funded','Not Funded'], fliersize=1, linewidth=5, widths=0.8, saturation=0.7, \\\n",
    "            label='log10(Total Price)')\n",
    "g.set(ylim=(1.8, 3.8))\n",
    "g.set_title('Low Cost Projects Are More Likely To Get Funded')\n",
    "sns.axlabel('Funding Status','log( Total Price )')"
   ]
  },
  {
   "cell_type": "markdown",
   "id": "febce76c",
   "metadata": {},
   "source": [
    "# Analyzing Timestamp Variables"
   ]
  },
  {
   "cell_type": "markdown",
   "id": "66290f3d",
   "metadata": {},
   "source": [
    "Let's see in there is a correlation between the success rate and the project posting dates in terms of year, month, and weekdays."
   ]
  },
  {
   "cell_type": "code",
   "execution_count": null,
   "id": "ba555f34",
   "metadata": {},
   "outputs": [],
   "source": [
    "projects_la['weekday_posted'] = projects_la['date_posted'].apply(lambda x: x.weekday())\n",
    "projects_la['month_posted'] = projects_la['date_posted'].apply(lambda x: x.month)\n",
    "projects_la['year_posted'] = projects_la['date_posted'].apply(lambda x: x.year)"
   ]
  },
  {
   "cell_type": "markdown",
   "id": "b816d5f5",
   "metadata": {},
   "source": [
    "### Success Rate vs. Weekday Posted "
   ]
  },
  {
   "cell_type": "code",
   "execution_count": null,
   "id": "1054a3ec",
   "metadata": {},
   "outputs": [],
   "source": [
    "projects_la.groupby('weekday_posted').funding_status_binary.mean().plot('bar')"
   ]
  },
  {
   "cell_type": "markdown",
   "id": "8dc674dc",
   "metadata": {},
   "source": [
    "Doesn't seem like it!"
   ]
  },
  {
   "cell_type": "markdown",
   "id": "5c28ee20",
   "metadata": {},
   "source": [
    "### Success Rate vs. Month Posted "
   ]
  },
  {
   "cell_type": "code",
   "execution_count": null,
   "id": "1938dd6a",
   "metadata": {},
   "outputs": [],
   "source": [
    "enhanced_chance = pd.DataFrame([sampleProportions_chanceOF_success(x) for x in binary_variables]).T\n",
    "enhanced_chance.columns = binary_variables.columns\n",
    "enhanced_chance.index = [['2.5%_percentile_Increased_Chance_of_Success',\\\n",
    "                          '97.5%_percentile_Increased_Chance_of_Success']]\n",
    "enhanced_chance.T.sort(['2.5%_percentile_Increased_Chance_of_Success',\\\n",
    "                          '97.5%_percentile_Increased_Chance_of_Success'],ascending=False).T"
   ]
  },
  {
   "cell_type": "markdown",
   "id": "38a51181",
   "metadata": {},
   "source": [
    "Here is the apparent order of predictive values of the binary variables:\n",
    "\n",
    "1. eligible_double_your_impact_match (half of the projects is covered by a sponsor)\n",
    "2. teacher_teach_for_america\n",
    "3. eligible_almost_home_match (the last $100 of the price is covered by a sponsor)\n",
    "4. school_charter_ready_promise\n",
    "5. school_charter\n",
    "6. school_year_round\n",
    "7. school_kipp\n",
    "8. school_magnet"
   ]
  },
  {
   "cell_type": "markdown",
   "id": "0a95f77a",
   "metadata": {},
   "source": [
    "# Analyzing Categorical Variables with More than Two Levels"
   ]
  },
  {
   "cell_type": "code",
   "execution_count": null,
   "id": "b4f4eedb",
   "metadata": {},
   "outputs": [],
   "source": [
    "categorical_variables = projects_la[['school_city','school_zip','school_metro','school_district','teacher_prefix',\n",
    "                                     'primary_focus_subject','primary_focus_area','secondary_focus_subject',\n",
    "                                     'secondary_focus_area', 'resource_type','poverty_level', 'grade_level']]"
   ]
  },
  {
   "cell_type": "code",
   "execution_count": null,
   "id": "f60e1ab7",
   "metadata": {},
   "outputs": [],
   "source": [
    "independent_test_Pvalue = pd.DataFrame([chi2_test(x) for x in categorical_variables]).T\n",
    "independent_test_Pvalue.columns = categorical_variables.columns\n",
    "independent_test_Pvalue.index = ['independent_test_Pvalue']\n",
    "independent_test_Pvalue.T.sort(['independent_test_Pvalue'],ascending=True).T"
   ]
  },
  {
   "cell_type": "markdown",
   "id": "d05405d5",
   "metadata": {},
   "source": [
    "Here is the apparent order of predictive values of the categorical variables based on the $\\chi^2$ independent test p-values:\n",
    "\n",
    "1. resource_type\n",
    "2. school_zip\n",
    "3. school_city\n",
    "4. primary_focus_subject\n",
    "5. school_district\n",
    "6. primary_focus_area\n",
    "7. secondary_focus_subject\n",
    "8. poverty_level\n",
    "9. secondary_focus_area\t\n",
    "10. grade_level\n",
    "11. school_metro\n",
    "12. teacher_prefix"
   ]
  },
  {
   "cell_type": "code",
   "execution_count": null,
   "id": "d2b6c3a7",
   "metadata": {},
   "outputs": [],
   "source": [
    "projects_la['previousProposal_Teacher'] = 0\n",
    "\n",
    "# Create a dictionary for the number of previouse proposals by a teacher\n",
    "# All initial values are zero\n",
    "teach_dict = projects_la.set_index('_teacher_acctid')['previousProposal_Teacher'].to_dict()\n",
    "for each in projects_la._teacher_acctid:\n",
    "    teach_dict[each] += 1\n",
    "\n",
    "# Create a list of all values --> much faster than updating each row\n",
    "previousProposal = []\n",
    "for i in xrange(len(projects_la._teacher_acctid)):\n",
    "    previousProposal.append(teach_dict[projects_la._teacher_acctid[i]])\n",
    "\n",
    "# Finally updating the column\n",
    "projects_la['previousProposal_Teacher'] = previousProposal"
   ]
  },
  {
   "cell_type": "code",
   "execution_count": null,
   "id": "ea210feb",
   "metadata": {},
   "outputs": [],
   "source": [
    "bootstrap_median('previousProposal_Teacher',2000,2000)"
   ]
  },
  {
   "cell_type": "code",
   "execution_count": null,
   "id": "07eef7cd",
   "metadata": {},
   "outputs": [],
   "source": [
    "projects_la.groupby('funding_status').total_price_including_optional_support.sum()"
   ]
  },
  {
   "cell_type": "code",
   "execution_count": null,
   "id": "9cb4fa5d",
   "metadata": {},
   "outputs": [],
   "source": [
    "# make a square figure and axes\n",
    "plt.rcParams['font.size'] = 15.0\n",
    "plt.figure(1, figsize=(6,6))\n",
    "ax = plt.axes([0.1, 0.1, 0.8, 0.8])\n",
    "\n",
    "# The slices will be ordered and plotted counter-clockwise.\n",
    "labels = ['Funded ($26M)', 'Not Funded ($13M)']\n",
    "fracs = [24640797.09, 12833492.76]\n",
    "explode=(0, 0.05)\n",
    "colors=( 'c', 'burlywood')\n",
    "\n",
    "patches, texts, autotext = plt.pie(fracs, explode=explode, labels=labels ,colors=colors,\n",
    "                autopct='%1.1f%%', shadow=True, startangle=90)\n",
    "                # The default startangle is 0, which would start\n",
    "                # the Frogs slice on the x-axis.  With startangle=90,\n",
    "                # everything is rotated counter-clockwise by 90 degrees,\n",
    "                # so the plotting starts on the positive y-axis.\n",
    "\n",
    "# Changing the labels font size\n",
    "texts[0].set_fontsize(20)\n",
    "texts[1].set_fontsize(20)\n",
    "\n",
    "plt.title('$13M Worth Of Projects Did Not Receive Funding', bbox={'facecolor':'0.9', 'pad':7})\n",
    "\n",
    "plt.show()"
   ]
  },
  {
   "cell_type": "code",
   "execution_count": null,
   "id": "f6751063",
   "metadata": {},
   "outputs": [],
   "source": [
    "projects_la.groupby('funding_status').students_reached.sum()"
   ]
  },
  {
   "cell_type": "code",
   "execution_count": null,
   "id": "1b42f919",
   "metadata": {},
   "outputs": [],
   "source": [
    "# make a square figure and axes\n",
    "plt.rcParams['font.size'] = 15.0\n",
    "plt.figure(1, figsize=(6,6))\n",
    "ax = plt.axes([0.1, 0.1, 0.8, 0.8])\n",
    "\n",
    "# The slices will be ordered and plotted counter-clockwise.\n",
    "labels = 'Funded (2.8M)', 'Not Funded (2.2M)'\n",
    "fracs = [2895658 , 2202529 ]\n",
    "explode=(0, 0.05)\n",
    "colors=( 'c', 'burlywood')\n",
    "\n",
    "patches, texts, autotext = plt.pie(fracs, explode=explode, labels=labels ,colors=colors,\n",
    "                autopct='%1.1f%%', shadow=True, startangle=90)\n",
    "                # The default startangle is 0, which would start\n",
    "                # the Frogs slice on the x-axis.  With startangle=90,\n",
    "                # everything is rotated counter-clockwise by 90 degrees,\n",
    "                # so the plotting starts on the positive y-axis.\n",
    "\n",
    "# Changing the labels font size\n",
    "texts[0].set_fontsize(20)\n",
    "texts[1].set_fontsize(20)\n",
    "\n",
    "plt.title('2.2M Students Went Without Beneficiary Support', bbox={'facecolor':'0.9', 'pad':7})\n",
    "\n",
    "plt.show()"
   ]
  },
  {
   "cell_type": "markdown",
   "id": "30a2ab92",
   "metadata": {},
   "source": [
    "# Analyzing Categorical Variables with Two Levels"
   ]
  },
  {
   "cell_type": "markdown",
   "id": "08038dd3",
   "metadata": {},
   "source": [
    "They are several binary variables but only two classes: type of school, type of teacher, and different types of promotions. Let's see what's the enhanced chance of success for each of these variables."
   ]
  },
  {
   "cell_type": "code",
   "execution_count": null,
   "id": "3d41194b",
   "metadata": {},
   "outputs": [],
   "source": [
    "binary_variables = projects_la[['school_charter','school_magnet','school_year_round',\\\n",
    "                            'school_kipp','school_charter_ready_promise','teacher_teach_for_america',\\\n",
    "                            'eligible_double_your_impact_match','eligible_almost_home_match']]"
   ]
  }
 ],
 "metadata": {},
 "nbformat": 4,
 "nbformat_minor": 5
}
