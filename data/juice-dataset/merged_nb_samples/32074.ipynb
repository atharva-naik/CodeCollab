{
 "cells": [
  {
   "cell_type": "markdown",
   "id": "a70bf0d3",
   "metadata": {},
   "source": [
    "<h1>HW 5</h1>"
   ]
  },
  {
   "cell_type": "markdown",
   "id": "67d12bc0",
   "metadata": {},
   "source": [
    "<h2>1. Perform Decision Tree Classifcation</h2>"
   ]
  },
  {
   "cell_type": "markdown",
   "id": "c6c012ef",
   "metadata": {},
   "source": [
    "<b>(a) Read the csv document and print the features names out.</b>"
   ]
  },
  {
   "cell_type": "code",
   "execution_count": null,
   "id": "b9112976",
   "metadata": {},
   "outputs": [],
   "source": [
    "from sklearn.feature_extraction import DictVectorizer\n",
    "import csv\n",
    "from sklearn import tree\n",
    "from sklearn import preprocessing\n",
    "from sklearn.externals.six import StringIO\n",
    "from IPython.display import Image\n",
    "\n",
    "elementsdata = open(r'elementsdata.csv')\n",
    "reader = csv.reader(elementsdata)\n",
    "headers  =  next(reader)\n",
    "print(headers)"
   ]
  },
  {
   "cell_type": "markdown",
   "id": "b68e4ab9",
   "metadata": {},
   "source": [
    "<b>(b) Convert the features to dictionary format and vectorize them.<b/>"
   ]
  },
  {
   "cell_type": "code",
   "execution_count": null,
   "id": "fe6f750e",
   "metadata": {},
   "outputs": [],
   "source": [
    "featureList = []\n",
    "labelList = []\n",
    "for row in reader:\n",
    "    labelList.append(row[len(row)-1])\n",
    "    rowDict = {}\n",
    "    for i in range(1, len(row)-1):\n",
    "        rowDict[headers[i]] = row[i]\n",
    "    featureList.append(rowDict)\n",
    "print(featureList)\n",
    "print(labelList)"
   ]
  },
  {
   "cell_type": "code",
   "execution_count": null,
   "id": "6829db84",
   "metadata": {},
   "outputs": [],
   "source": [
    "vec = DictVectorizer()\n",
    "X = vec.fit_transform(featureList).toarray()\n",
    "print(\"X: \\n\", X)\n",
    "print(\"\\n\")\n",
    "print(vec.get_feature_names())"
   ]
  },
  {
   "cell_type": "markdown",
   "id": "7b16e2b7",
   "metadata": {},
   "source": [
    "<b>(c) Vectorize the labels into binary values.</b>"
   ]
  },
  {
   "cell_type": "code",
   "execution_count": null,
   "id": "3d304556",
   "metadata": {},
   "outputs": [],
   "source": [
    "print(\"labelList: \" + str(labelList))\n",
    "lb = preprocessing.LabelBinarizer()\n",
    "Y = lb.fit_transform(labelList)\n",
    "print(\"Y: \\n\" + str(Y))"
   ]
  },
  {
   "cell_type": "markdown",
   "id": "f301fe74",
   "metadata": {},
   "source": [
    "<b>(d) Use CART algorithm to implement the decision tree.</b>"
   ]
  },
  {
   "cell_type": "code",
   "execution_count": null,
   "id": "df15986c",
   "metadata": {},
   "outputs": [],
   "source": [
    "clf = tree.DecisionTreeClassifier(criterion='gini')\n",
    "clf = clf.fit(X, Y)\n",
    "print(\"clf: \" + str(clf))"
   ]
  },
  {
   "cell_type": "markdown",
   "id": "7ac610d9",
   "metadata": {},
   "source": [
    "<b>(e) Generate the graph of the decision tree.</b>"
   ]
  },
  {
   "cell_type": "code",
   "execution_count": null,
   "id": "60fd9293",
   "metadata": {},
   "outputs": [],
   "source": [
    "with open(\"elements.dot\", 'w') as f:\n",
    "    f = tree.export_graphviz(clf, feature_names=vec.get_feature_names(), out_file=f)"
   ]
  },
  {
   "cell_type": "code",
   "execution_count": null,
   "id": "40d1770f",
   "metadata": {},
   "outputs": [],
   "source": [
    "from graphviz import Source\n",
    "s = Source.from_file(\"elements.dot\")\n",
    "s.view()"
   ]
  },
  {
   "cell_type": "markdown",
   "id": "df860c46",
   "metadata": {},
   "source": [
    "<p>Testing the model by genereating our own data</p>"
   ]
  },
  {
   "cell_type": "markdown",
   "id": "0dd74c34",
   "metadata": {},
   "source": [
    "<p>Apparently, a middle-aged person with fair credit and low income:</p>"
   ]
  },
  {
   "cell_type": "code",
   "execution_count": null,
   "id": "30e633b5",
   "metadata": {},
   "outputs": [],
   "source": [
    "middleAgedX=[[1, 0, 0, 0, 1, 0, 1, 0, 1, 0]]\n",
    "predictedY = clf.predict(middleAgedX)\n",
    "print(\"predictedY: \" + str(predictedY))"
   ]
  },
  {
   "cell_type": "markdown",
   "id": "cca485ff",
   "metadata": {},
   "source": [
    "<p>has better chance than senior with excellent credit:</p>"
   ]
  },
  {
   "cell_type": "code",
   "execution_count": null,
   "id": "8bae4cb6",
   "metadata": {},
   "outputs": [],
   "source": [
    "seniorX=[[0, 1, 0, 1, 0, 0, 1, 0, 1, 0]]\n",
    "predictedY = clf.predict(seniorX)\n",
    "print(\"predictedY: \" + str(predictedY))"
   ]
  },
  {
   "cell_type": "markdown",
   "id": "9f17878e",
   "metadata": {},
   "source": [
    "<br>\n",
    "<h2>2. Perform Decision Tree Regression</h2>"
   ]
  },
  {
   "cell_type": "markdown",
   "id": "d62db774",
   "metadata": {},
   "source": [
    "<b>(a) Generate a data set that looks like the one below</b>\n",
    "<br><img src=\"hw5-2.png\" alt=\"Unfortunately, this image was not copied to the same folder as this script.\"/>"
   ]
  },
  {
   "cell_type": "code",
   "execution_count": null,
   "id": "85ffe791",
   "metadata": {},
   "outputs": [],
   "source": [
    "import numpy as np\n",
    "import matplotlib.pyplot as plt\n",
    "\n",
    "plt.rcParams['figure.figsize'] = (12, 8)\n",
    "plt.rcParams['font.size'] = 14\n",
    "plt.rcParams['lines.markersize'] = 6\n",
    "\n",
    "np.random.seed(0)\n",
    "pi = np.pi\n",
    "X = np.linspace(0, 5, 100)\n",
    "Y = np.zeros(100)\n",
    "#we will need Z for the \"imperfections\"; will load it with mostly 0s and some 1s and-1s, then shuffle\n",
    "Z = np.array([0]*80 + [1]*10 + [-1]*10)\n",
    "np.random.shuffle(Z)\n",
    "\n",
    "for i in range(len(X)):\n",
    "    Y[i] = np.cos(X[i])\n",
    "    Y[i] += 0.5 * np.random.normal() * Z[i]\n",
    "    "
   ]
  },
  {
   "cell_type": "code",
   "execution_count": null,
   "id": "0a49534d",
   "metadata": {},
   "outputs": [],
   "source": [
    "plt.plot(X, Y, 'yo')"
   ]
  },
  {
   "cell_type": "markdown",
   "id": "ce6cecaf",
   "metadata": {},
   "source": [
    "<b>(b) Fit the data set with decision tree regression model, as well as predict the result using your own test data set</b>"
   ]
  },
  {
   "cell_type": "code",
   "execution_count": null,
   "id": "70ee65ef",
   "metadata": {},
   "outputs": [],
   "source": [
    "from sklearn.tree import DecisionTreeRegressor\n",
    "\n",
    "model = DecisionTreeRegressor()\n",
    "model.fit(X.reshape(-1,1), Y)\n",
    "\n",
    "X_test = np.linspace(0, 5, 1000)\n",
    "Y_test = model.predict(X_test.reshape(-1, 1))\n"
   ]
  },
  {
   "cell_type": "markdown",
   "id": "775523e3",
   "metadata": {},
   "source": [
    "<b>(c) Plot the results</b>"
   ]
  },
  {
   "cell_type": "code",
   "execution_count": null,
   "id": "cc54e110",
   "metadata": {},
   "outputs": [],
   "source": [
    "plt.plot(X_test, Y_test, 'b-', X, Y, 'yo')"
   ]
  },
  {
   "cell_type": "markdown",
   "id": "8672566e",
   "metadata": {},
   "source": [
    "<b>Looks very overfitted, will reduce the max depth</b>"
   ]
  },
  {
   "cell_type": "code",
   "execution_count": null,
   "id": "72936871",
   "metadata": {},
   "outputs": [],
   "source": [
    "model_reduced = DecisionTreeRegressor(max_depth = 5)\n",
    "model_reduced.fit(X.reshape(-1,1), Y)\n",
    "\n",
    "Y_test_reduced = model_reduced.predict(X_test.reshape(-1, 1))\n",
    "\n",
    "plt.plot(X_test, Y_test_reduced, 'b-', X, Y, 'yo')"
   ]
  },
  {
   "cell_type": "markdown",
   "id": "73c0bce7",
   "metadata": {},
   "source": [
    "<b>Will reduce depth even more</b>"
   ]
  }
 ],
 "metadata": {},
 "nbformat": 4,
 "nbformat_minor": 5
}
