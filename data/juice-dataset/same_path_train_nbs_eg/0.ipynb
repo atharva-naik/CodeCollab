{
 "cells": [
  {
   "cell_type": "code",
   "execution_count": null,
   "id": "5c0e49fd",
   "metadata": {},
   "outputs": [],
   "source": [
    "pds_g = pds.groupby(by='donor_category')\n",
    "pds_g = pds_g['donation_total'].mean()\n",
    "pds_gx = pds_g.plot(kind='bar')\n",
    "pds_gx.set_ylabel(\"Average Donation Amount\")\n",
    "pds_gx.set_title('Plot between donor category and Average donation amount', fontsize=14)"
   ]
  },
  {
   "cell_type": "code",
   "execution_count": null,
   "id": "cfed6998",
   "metadata": {},
   "outputs": [],
   "source": [
    "subjects = pds.primary_focus_subject.drop_duplicates()\n",
    "df = pd.DataFrame(columns = ['Subjects','donor_teacher_project','donor_teacher_other','donor_other'])\n",
    "df['Subjects'] = subjects\n",
    "df = df.set_index('Subjects')\n",
    "\n",
    "# Filling the data frame\n",
    "pds1 = pds.groupby('primary_focus_subject')\n",
    "for sub,group_s in pds1:\n",
    "    pds2 = group_s.groupby('donor_category')\n",
    "    for dc,group_dc in pds2:\n",
    "        df.loc[sub,dc] = 100*(group_dc.donation_total.sum())/(group_s.donation_total.sum())\n",
    "df.head(10)"
   ]
  },
  {
   "cell_type": "markdown",
   "id": "33e6a763",
   "metadata": {},
   "source": [
    "### 3) How does subject vary with donation amount among teachers donating to own projects ?"
   ]
  },
  {
   "cell_type": "code",
   "execution_count": null,
   "id": "9c43102f",
   "metadata": {},
   "outputs": [],
   "source": [
    "a = pds[pds.donor_category == 'donor_teacher_project']\n",
    "#a = a[(100 * a.donation_total / a.total_donations) > 33]\n",
    "ax = a.groupby(by='primary_focus_subject')['donation_total'].mean().plot(kind='bar',figsize=(20,5))\n",
    "ax.set_ylabel('Average Donation Amount')\n",
    "ax.set_title('Plot between Subject and Donation amount for a teacher contributing to own project', fontsize=14)"
   ]
  },
  {
   "cell_type": "markdown",
   "id": "92bfba5e",
   "metadata": {},
   "source": [
    "### 4) How does subject vary with donation amount among teachers donating to other's projects ?"
   ]
  },
  {
   "cell_type": "code",
   "execution_count": null,
   "id": "b61bf5c8",
   "metadata": {},
   "outputs": [],
   "source": [
    "b = pds[pds.donor_category == 'donor_teacher_other']\n",
    "#a = a[(100 * a.donation_total / a.total_donations) > 33]\n",
    "bx = b.groupby(by='primary_focus_subject')['donation_total'].mean().plot(kind='bar',figsize=(20,5))\n",
    "bx.set_ylabel('Average Donation Amount')\n",
    "bx.set_title('Plot between Subject and Donation amount for a teacher contributing to other project', fontsize=14)"
   ]
  },
  {
   "cell_type": "markdown",
   "id": "9b50941d",
   "metadata": {},
   "source": [
    "### 5) How does subject vary with donation amount among non - teachers ?"
   ]
  },
  {
   "cell_type": "code",
   "execution_count": null,
   "id": "eedc0579",
   "metadata": {},
   "outputs": [],
   "source": [
    "c = pds[pds.donor_category == 'donor_other']\n",
    "#a = a[(100 * a.donation_total / a.total_donations) > 33]\n",
    "cx = c.groupby(by='primary_focus_subject')['donation_total'].mean().plot(kind='bar',figsize=(20,5))\n",
    "cx.set_ylabel('Average Donation Amount')\n",
    "cx.set_title('Plot between Subject and Donation amount for a non-teacher', fontsize=14)"
   ]
  },
  {
   "cell_type": "markdown",
   "id": "63de20f1",
   "metadata": {},
   "source": [
    "### 6) How does donor category vary with sucess of a project ?"
   ]
  },
  {
   "cell_type": "code",
   "execution_count": null,
   "id": "0991ed5d",
   "metadata": {},
   "outputs": [],
   "source": [
    "p = pds[pds.funding_status != 'live'] # Considering only completed projects\n",
    "p.loc[:,'date_completed'] = pd.to_datetime(p['date_completed'])\n",
    "p.loc[:,'date_posted'] = pd.to_datetime(p['date_posted'])\n",
    "p.loc[:,'date_expiration'] = pd.to_datetime(p['date_expiration'])\n",
    "p1 = p.groupby(by='donor_category')\n",
    "p2 = p[p.funding_status == 'completed']\n",
    "p2.loc[:,'project_duration'] = p2['date_completed'] - p2['date_posted']\n",
    "p2.loc[:,'project_expire_duration'] = p2['date_expiration'] - p2['date_posted']\n",
    "p2.loc[:,'project_duration_days'] = p2['project_duration'].astype('timedelta64[D]')\n",
    "p2.loc[:,'project_expire_duration_days'] = p2['project_expire_duration'].astype('timedelta64[D]')\n",
    "p2 = p2[(p2.project_duration_days < p2.project_expire_duration_days) & (p2.project_duration_days < 200)]\n",
    "p3 = p2.groupby(by='donor_category')\n",
    "a = 100*p3.size()/p1.size()\n",
    "b = p3['project_duration_days'].mean()"
   ]
  },
  {
   "cell_type": "code",
   "execution_count": null,
   "id": "bf54a678",
   "metadata": {},
   "outputs": [],
   "source": [
    "#a.plot(kind='bar')\n",
    "ax = a.plot(kind='bar',figsize=(7,5),ylim=(50,100))\n",
    "ax.set_ylabel(\"Project Completion Percent\")"
   ]
  },
  {
   "cell_type": "markdown",
   "id": "3fe7a4dc",
   "metadata": {},
   "source": [
    "### 7) How does donor category vary with duration of the project ?"
   ]
  }
 ],
 "metadata": {},
 "nbformat": 4,
 "nbformat_minor": 5
}
