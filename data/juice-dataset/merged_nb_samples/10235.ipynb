{
 "cells": [
  {
   "cell_type": "markdown",
   "id": "b33dccbc",
   "metadata": {},
   "source": [
    "# Exploring Pandas with `pandas`\n",
    "\n",
    "`pandas` is a Python library for working with data in tables.  \"pandas\" stands for \"**pan**el **da**ta\", with \"panel\" being a name data scientists use for tables.  Plus, pandas are cute (although they can be nasty).\n",
    "\n",
    "In this worksheet, we'll learn how to use `pandas` to build and explore tables."
   ]
  },
  {
   "cell_type": "markdown",
   "id": "00f33034",
   "metadata": {},
   "source": [
    "## Getting started\n",
    "\n",
    "We normally tell Python to use `pandas` with the following command.  (The `as pd` says that we can refer to `pandas` with just `pd`.  That's a way to save typing.)"
   ]
  },
  {
   "cell_type": "code",
   "execution_count": null,
   "id": "afa0ea49",
   "metadata": {},
   "outputs": [],
   "source": [
    "import pandas as pd"
   ]
  },
  {
   "cell_type": "markdown",
   "id": "56306ff9",
   "metadata": {},
   "source": [
    "## Building a row of data\n",
    "If we're building a table by hand, it's sometimes easiest to name each row.  Here's information on a famous giant panda."
   ]
  },
  {
   "cell_type": "code",
   "execution_count": null,
   "id": "bf8e4af8",
   "metadata": {},
   "outputs": [],
   "source": [
    "baiyun = { \"name\": \"Bai Yun\", \"sex\": \"Female\", \"age\": 26, \"home\": \"San Diego Zoo\", \"country\": \"U.S\"}"
   ]
  },
  {
   "cell_type": "markdown",
   "id": "8e7d4523",
   "metadata": {},
   "source": [
    "Let's see what this row looks like."
   ]
  },
  {
   "cell_type": "code",
   "execution_count": null,
   "id": "0cc2ed8e",
   "metadata": {},
   "outputs": [],
   "source": [
    "baiyun"
   ]
  },
  {
   "cell_type": "markdown",
   "id": "23df8e6e",
   "metadata": {},
   "source": [
    "If you had to explain to someone how to enter data for a row, what would you say?  \n",
    "*Write notes in your notebook and be prepared to tell a counselor.*"
   ]
  },
  {
   "cell_type": "markdown",
   "id": "c43cece5",
   "metadata": {},
   "source": [
    "## Adding a few more rows\n",
    "Here are a few more famous giant pandas."
   ]
  },
  {
   "cell_type": "code",
   "execution_count": null,
   "id": "ec0a7d38",
   "metadata": {},
   "outputs": [],
   "source": [
    "baobao = { \"name\": \"Bao Bao\", \"sex\": \"Female\", \"age\": 4, \"home\":\"Woolong\", \"country\": \"China\"}"
   ]
  },
  {
   "cell_type": "code",
   "execution_count": null,
   "id": "d6e9868f",
   "metadata": {},
   "outputs": [],
   "source": [
    "beibei = { \"name\": \"Bei Bei\", \"sex\": \"Male\", \"age\": 2, \"home\":\"National Zoo\", \"country\": \"US\"}"
   ]
  },
  {
   "cell_type": "code",
   "execution_count": null,
   "id": "ef4efb8a",
   "metadata": {},
   "outputs": [],
   "source": [
    "chuang = { \"name\": \"Chuang Chuang\", \"sex\": \"Male\", \"age\": 17, \"home\":\"Chiang Mai Zoo\", \"country\": \"China\"}"
   ]
  },
  {
   "cell_type": "code",
   "execution_count": null,
   "id": "009501f2",
   "metadata": {},
   "outputs": [],
   "source": [
    "damao = { \"name\": \"Da Mao\", \"sex\": \"Male\", \"age\": 9, \"home\":\"Calgary Zoo\", \"country\": \"Canada\"}"
   ]
  },
  {
   "cell_type": "markdown",
   "id": "dea6e8c6",
   "metadata": {},
   "source": [
    "In the following cell, check to see if the entries seem okay.  (Make sure to execute each expression above.)"
   ]
  },
  {
   "cell_type": "markdown",
   "id": "2607eb6f",
   "metadata": {},
   "source": [
    "## Building a table\n",
    "We build a table with `pd.DataFrame(columns-[...],data=[...])`.  `columns` is a list of strings that name the columns.  `data` is a list of the rows."
   ]
  },
  {
   "cell_type": "code",
   "execution_count": null,
   "id": "1cf1d329",
   "metadata": {},
   "outputs": [],
   "source": [
    "giant_pandas = pd.DataFrame(columns=[\"name\",\"sex\",\"age\"],\n",
    "                            data=[baiyun,baobao,beibei,chuang,damao])"
   ]
  },
  {
   "cell_type": "markdown",
   "id": "114e7abe",
   "metadata": {},
   "source": [
    "Let's print out the table.  Make sure to execute the previous command as well as the next command."
   ]
  },
  {
   "cell_type": "code",
   "execution_count": null,
   "id": "1c97089d",
   "metadata": {},
   "outputs": [],
   "source": [
    "giant_pandas"
   ]
  },
  {
   "cell_type": "markdown",
   "id": "44f2bb6b",
   "metadata": {},
   "source": [
    "Pretty cool, isn't it?"
   ]
  },
  {
   "cell_type": "markdown",
   "id": "1938d33e",
   "metadata": {},
   "source": [
    "## Some experiments\n",
    "Let's see what else we can do to build the table."
   ]
  },
  {
   "cell_type": "markdown",
   "id": "fa3c3eea",
   "metadata": {},
   "source": [
    "### Add columns\n",
    "You'll note that we had a \"home\" and a \"country\" for each panda, but these don't appear in the output.  Update the instruction to add those columns."
   ]
  },
  {
   "cell_type": "code",
   "execution_count": null,
   "id": "7f887374",
   "metadata": {},
   "outputs": [],
   "source": [
    "giant_pandas = pd.DataFrame(columns=[\"name\",\"sex\",\"age\"],\n",
    "                            data=[baiyun,baobao,beibei,chuang,damao])\n",
    "giant_pandas"
   ]
  },
  {
   "cell_type": "markdown",
   "id": "e3231444",
   "metadata": {},
   "source": [
    "### Rearrange columns\n",
    "We can control the order in which values appear in the table.  In the command below, change the order of \"sex\" and \"age\".  Change the order of \"home\" and \"country\".  *What effect do you expect that change to have?*"
   ]
  },
  {
   "cell_type": "code",
   "execution_count": null,
   "id": "7fa63297",
   "metadata": {},
   "outputs": [],
   "source": [
    "giant_pandas = pd.DataFrame(columns=[\"name\",\"sex\",\"age\",\"home\",\"country\"],\n",
    "                            data=[baiyun,baobao,beibei,chuang,damao])\n",
    "giant_pandas"
   ]
  },
  {
   "cell_type": "markdown",
   "id": "c7f19071",
   "metadata": {},
   "source": [
    "### Rearrange rows\n",
    "*What do you think happens if we change the order of the rows?*  Rearrange the list of pandas in the `data` below and see what happens."
   ]
  },
  {
   "cell_type": "markdown",
   "id": "a59b99fb",
   "metadata": {},
   "source": [
    "### Add another row\n",
    "You're now ready to add your own data to the table.  Pick one of the giant pandas \n",
    "mentioned one [the Wikipedia page](https://en.wikipedia.org/wiki/List_of_giant_pandas) \n",
    "and add it to the table."
   ]
  },
  {
   "cell_type": "code",
   "execution_count": null,
   "id": "be236290",
   "metadata": {},
   "outputs": [],
   "source": [
    "new_panda = { \"name\": \"name\" }\n",
    "giant_pandas = pd.DataFrame(columns=[\"name\",\"sex\",\"age\",\"home\",\"country\"],\n",
    "                            data=[baiyun,baobao,beibei,chuang,damao])\n",
    "giant_pandas"
   ]
  },
  {
   "cell_type": "markdown",
   "id": "70492ef6",
   "metadata": {},
   "source": [
    "### Add another column\n",
    "Suppose we add a column for favorite food.  What do you expect to happen?  Give it a try and find out."
   ]
  },
  {
   "cell_type": "code",
   "execution_count": null,
   "id": "170ed23a",
   "metadata": {},
   "outputs": [],
   "source": [
    "giant_pandas = pd.DataFrame(columns=[\"name\",\"sex\",\"age\",\"home\",\"country\",\"favefood\"],\n",
    "                            data=[baiyun,baobao,beibei,chuang,damao])\n",
    "giant_pandas"
   ]
  },
  {
   "cell_type": "markdown",
   "id": "ce1327bd",
   "metadata": {},
   "source": [
    "As you've probably discovered.  We get \"NaN\" for any missing data.  And we don't have a favorite food for any of the pandas.  Go back and add one to each.  Since Wikipedia doesn't tell you, you can make it up.  (I used \"Eucalyptus\" and \"Bamboo\".) *Make sure to run the cells again after you enter the data.*"
   ]
  },
  {
   "cell_type": "markdown",
   "id": "cd02cbe7",
   "metadata": {},
   "source": [
    "## Selecting rows\n",
    "What if we want only part of the data set, such as only the pandas that are in China?  Data frames provide a way to do so, but it's a bit weird.  Try the following."
   ]
  },
  {
   "cell_type": "code",
   "execution_count": null,
   "id": "e14d5b77",
   "metadata": {},
   "outputs": [],
   "source": [
    "giant_pandas.loc[giant_pandas[\"country\"] == \"China\"]"
   ]
  },
  {
   "cell_type": "markdown",
   "id": "7ad32074",
   "metadata": {},
   "source": [
    "We might want to name that table for for just those entries."
   ]
  },
  {
   "cell_type": "code",
   "execution_count": null,
   "id": "aa9e50ed",
   "metadata": {},
   "outputs": [],
   "source": [
    "pandas_in_china = giant_pandas.loc[giant_pandas[\"country\"] == \"China\"]\n",
    "pandas_in_china"
   ]
  },
  {
   "cell_type": "markdown",
   "id": "207ebee4",
   "metadata": {},
   "source": [
    "### Your turn\n",
    "Now it's your turn.  Write a command to select just the male pandas."
   ]
  },
  {
   "cell_type": "code",
   "execution_count": null,
   "id": "66cf3d01",
   "metadata": {},
   "outputs": [],
   "source": [
    "male_pandas = []\n",
    "male_pandas"
   ]
  },
  {
   "cell_type": "markdown",
   "id": "74b2e3e2",
   "metadata": {},
   "source": [
    "### A challenge\n",
    "Write a command to select the male pandas in the U.S."
   ]
  },
  {
   "cell_type": "code",
   "execution_count": null,
   "id": "b4c16397",
   "metadata": {},
   "outputs": [],
   "source": [
    "male_pandas_in_us = []"
   ]
  },
  {
   "cell_type": "markdown",
   "id": "7d4e1983",
   "metadata": {},
   "source": [
    "## Selecting columns\n",
    "We can also select just a column of data to get something like a Python list, but more powerful.  You write `data_frame[\"column_name\"]` to get a particular column. Let's select just the \"sex\" column."
   ]
  },
  {
   "cell_type": "code",
   "execution_count": null,
   "id": "f1255e4f",
   "metadata": {},
   "outputs": [],
   "source": [
    "giant_pandas[\"sex\"]"
   ]
  },
  {
   "cell_type": "markdown",
   "id": "bd26cf35",
   "metadata": {},
   "source": [
    "It may be useful to name that column.  Try the following command."
   ]
  },
  {
   "cell_type": "code",
   "execution_count": null,
   "id": "b8450d8c",
   "metadata": {},
   "outputs": [],
   "source": [
    "panda_sexes = giant_pandas[\"sex\"]\n",
    "panda_sexes"
   ]
  },
  {
   "cell_type": "markdown",
   "id": "bf3cf8c0",
   "metadata": {},
   "source": [
    "What can we do once we have a column?  If it's a column of numbers, we can ask \n",
    "for things like the mean, median, and mode.  If it's a column of words, we can count the number of words with `column.value_counts`.  Try the following command."
   ]
  }
 ],
 "metadata": {},
 "nbformat": 4,
 "nbformat_minor": 5
}
