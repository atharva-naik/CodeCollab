{
 "cells": [
  {
   "cell_type": "code",
   "execution_count": null,
   "id": "a9387b85",
   "metadata": {},
   "outputs": [],
   "source": [
    "from __future__ import print_function # note --> this import forces one to use print() as in Python 3\n",
    "                                      # resulting in code that can run in Python 2 or Python 3\n",
    "from mpl_toolkits.axes_grid1 import make_axes_locatable\n",
    "import numpy as np\n",
    "import flopy as fp\n",
    "import pandas as pd\n",
    "import os\n",
    "from scipy.stats.mstats import gmean as sp_gmean\n",
    "import matplotlib.pyplot as plt\n",
    "%matplotlib inline"
   ]
  },
  {
   "cell_type": "markdown",
   "id": "acf5ae32",
   "metadata": {},
   "source": [
    "## Read in the \"true\" k array"
   ]
  },
  {
   "cell_type": "code",
   "execution_count": null,
   "id": "b7b959b5",
   "metadata": {},
   "outputs": [],
   "source": [
    "inK = np.loadtxt('k-true.dat')\n",
    "inK = np.log10(inK)"
   ]
  },
  {
   "cell_type": "code",
   "execution_count": null,
   "id": "a2d25673",
   "metadata": {},
   "outputs": [],
   "source": [
    "# find the geometric mean about which to stretch\n",
    "inK_geomean = np.mean(inK)\n",
    "inK_geomean"
   ]
  },
  {
   "cell_type": "markdown",
   "id": "dc6299a2",
   "metadata": {},
   "source": [
    "#### calculate stretching factors as deviations from the geometric mean on inK (the input K)"
   ]
  },
  {
   "cell_type": "code",
   "execution_count": null,
   "id": "ed55918d",
   "metadata": {},
   "outputs": [],
   "source": [
    "stretch_f = inK-inK_geomean"
   ]
  },
  {
   "cell_type": "markdown",
   "id": "3da012ff",
   "metadata": {},
   "source": [
    "## Read in the head observation locations"
   ]
  },
  {
   "cell_type": "code",
   "execution_count": null,
   "id": "5775d06a",
   "metadata": {},
   "outputs": [],
   "source": [
    "obslox = pd.read_csv('hob.dat', skiprows=3, delim_whitespace=True, header=None)\n",
    "r_obs = obslox[2]\n",
    "c_obs = obslox[3]\n",
    "name_obs = obslox[0]"
   ]
  },
  {
   "cell_type": "markdown",
   "id": "12f7294e",
   "metadata": {},
   "source": [
    "#### Get the locations of the cell centers"
   ]
  },
  {
   "cell_type": "code",
   "execution_count": null,
   "id": "d52397d5",
   "metadata": {},
   "outputs": [],
   "source": [
    "inmod = fp.modflow.Modflow.load('Ex_forward_base.nam')\n",
    "xy=inmod.dis.get_node_coordinates()\n",
    "x_mod = xy[1]\n",
    "y_mod = xy[0]"
   ]
  },
  {
   "cell_type": "markdown",
   "id": "96ec888e",
   "metadata": {},
   "source": [
    "#### Now find the X and Y locations of the observations"
   ]
  },
  {
   "cell_type": "code",
   "execution_count": null,
   "id": "441d4197",
   "metadata": {},
   "outputs": [],
   "source": [
    "x_obs = [x_mod[i-1] for i in c_obs]\n",
    "y_obs = [y_mod[i-1] for i in r_obs]"
   ]
  },
  {
   "cell_type": "markdown",
   "id": "1ba61df0",
   "metadata": {},
   "source": [
    "### Set up HYDMOD data"
   ]
  },
  {
   "cell_type": "code",
   "execution_count": null,
   "id": "e0693338",
   "metadata": {},
   "outputs": [],
   "source": [
    "NHYD = len(name_obs)\n",
    "IHYDUN = 424\n",
    "HYDNOH = -9999999\n",
    "PCKG = 'BAS'\n",
    "ARR = 'HD'\n",
    "hydinfo = []\n",
    "INTYP = 'C'\n",
    "for cob, cx, cy in zip(name_obs,x_obs,y_obs):\n",
    "    hydinfo.append([PCKG, ARR, INTYP, 1, cx, cy, cob])\n",
    "\n",
    "    "
   ]
  },
  {
   "cell_type": "markdown",
   "id": "24d8eac3",
   "metadata": {},
   "source": [
    "### Let's set a few values by which to stretch the K fields"
   ]
  }
 ],
 "metadata": {},
 "nbformat": 4,
 "nbformat_minor": 5
}
