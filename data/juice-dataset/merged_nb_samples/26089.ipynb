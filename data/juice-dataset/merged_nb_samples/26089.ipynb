{
 "cells": [
  {
   "cell_type": "markdown",
   "id": "92df93ab",
   "metadata": {},
   "source": [
    "## Astr 501 Star_Explore Work\n",
    "\n",
    "Utilize [NuGridPy tools](http://nugridpy.phys.uvic.ca) to analyze data, [latest version on Github](https://github.com/NuGrid/NuGridPy) "
   ]
  },
  {
   "cell_type": "markdown",
   "id": "4f00e6c7",
   "metadata": {},
   "source": [
    "## Initialize session"
   ]
  },
  {
   "cell_type": "code",
   "execution_count": null,
   "id": "8260004b",
   "metadata": {},
   "outputs": [],
   "source": [
    "%pylab \n",
    "from nugridpy import nugridse as mp\n",
    "from nugridpy import mesa as ms\n",
    "\n",
    "#data_dir=\"/nugrid_data\" \n",
    "data_dir=\"/data/nugrid_apod2/\"\n",
    "\n",
    "ms.set_nugrid_path(data_dir)\n",
    "mp.set_nugrid_path(data_dir)"
   ]
  },
  {
   "cell_type": "markdown",
   "id": "3c72e0f5",
   "metadata": {},
   "source": [
    "## The MESA stellar evolution model\n",
    "Initialise the 4 solar-mass Z=0.02 MESA stellar evolution model from set1.2 using the seeker method:"
   ]
  },
  {
   "cell_type": "code",
   "execution_count": null,
   "id": "e1eadfc7",
   "metadata": {},
   "outputs": [],
   "source": [
    "s=ms.star_log(mass=4,Z=0.02)"
   ]
  },
  {
   "cell_type": "code",
   "execution_count": null,
   "id": "3bb326e7",
   "metadata": {},
   "outputs": [],
   "source": [
    "##Aside: Commands to get info on data\n",
    "\n",
    "# help\n",
    "# s?\n",
    "#print s.cols\n",
    "#s.data?\n",
    "#np.se.dcols"
   ]
  },
  {
   "cell_type": "markdown",
   "id": "f48a3686",
   "metadata": {},
   "source": [
    "## 9/18 Work"
   ]
  },
  {
   "cell_type": "markdown",
   "id": "7e6983b7",
   "metadata": {},
   "source": [
    "This is the HR diagram (Figure 8.1)"
   ]
  },
  {
   "cell_type": "code",
   "execution_count": null,
   "id": "f4b39f95",
   "metadata": {},
   "outputs": [],
   "source": [
    "ifig=102;close(ifig);figure(ifig)\n",
    "s.hrd_new()\n",
    "legend(loc='lower right').draw_frame(False)\n",
    "annotate('He-core burning', xy=(3.6,3), xytext=(3.5, 2.5), arrowprops=dict(facecolor='black', shrink=0.05))\n",
    "annotate('RGB', xy=(3.65,2.58), xytext=(3.45, 2.2), arrowprops=dict(facecolor='black', shrink=0.05))\n",
    "annotate('main sequence', xy=(4.1,2.55), xytext=(4.0, 3.5), arrowprops=dict(facecolor='black', shrink=0.05))\n",
    "title('The HR diagram for 4 solar mass star - Fig 8.1')"
   ]
  },
  {
   "cell_type": "markdown",
   "id": "9d69ce31",
   "metadata": {},
   "source": [
    "To create figure 8.2, we need to plot Log(R/Rsun) by Log (Teff), which is a similarly formated graph to figure 8.1 (The H-R diagram)"
   ]
  },
  {
   "cell_type": "code",
   "execution_count": null,
   "id": "c0ce6922",
   "metadata": {},
   "outputs": [],
   "source": [
    "import matplotlib.pyplot as plt\n",
    "import numpy as np\n",
    "# Log_Teff = s.get('log_Teff')\n",
    "# Log_R = s.get('log_R')"
   ]
  },
  {
   "cell_type": "code",
   "execution_count": null,
   "id": "77c34524",
   "metadata": {},
   "outputs": [],
   "source": [
    "ifig=120;close(ifig);figure(ifig)\n",
    "s.plot('log_Teff','log_R')\n",
    "gca().invert_xaxis()\n",
    "title('Radius vs. Effective Temperature - Fig 8.2')"
   ]
  },
  {
   "cell_type": "code",
   "execution_count": null,
   "id": "ab92e67c",
   "metadata": {},
   "outputs": [],
   "source": [
    "ifig=101;close(ifig);figure(ifig)\n",
    "s.tcrhoc()\n",
    "axis([0,7,7,8.5])\n",
    "title('Fig 8.3 - Temperature vs. density')"
   ]
  },
  {
   "cell_type": "markdown",
   "id": "92039bdb",
   "metadata": {},
   "source": [
    "Now that we have an overview of the stellar evolution of this $4M_\\odot$ star let's have a closer look at the nucleosynthesis.\n",
    "\n",
    "## The NuGrid post-processing model\n",
    "Initialise the 4 solar-mass Z=0.02 NuGrid nucleosynthesis data from set1.2 using the seeker method:"
   ]
  },
  {
   "cell_type": "code",
   "execution_count": null,
   "id": "9647c009",
   "metadata": {},
   "outputs": [],
   "source": [
    "pt=mp.se(mass=4,Z=0.02)"
   ]
  },
  {
   "cell_type": "markdown",
   "id": "a5c0b5b6",
   "metadata": {},
   "source": [
    "### Abundance profiles "
   ]
  },
  {
   "cell_type": "markdown",
   "id": "0c8dc92a",
   "metadata": {},
   "source": [
    "Let's figure out what model number is required for each stage in the star's life, by plotting T effective versus model number."
   ]
  },
  {
   "cell_type": "code",
   "execution_count": null,
   "id": "48958247",
   "metadata": {},
   "outputs": [],
   "source": [
    "ifig=121;close(ifig);figure(ifig)\n",
    "s.plot('model_number','log_Teff')"
   ]
  },
  {
   "cell_type": "markdown",
   "id": "5d997e56",
   "metadata": {},
   "source": [
    "It looks like the star approaches the MS at a model number of 1100, the RGB at 1300, and the He-core burning stage at 1850"
   ]
  },
  {
   "cell_type": "markdown",
   "id": "e6fbcc26",
   "metadata": {},
   "source": [
    "Let's make figure 8.3 - the Isotopic abundances"
   ]
  },
  {
   "cell_type": "code",
   "execution_count": null,
   "id": "46aab2a7",
   "metadata": {},
   "outputs": [],
   "source": [
    "species=['H-1','He-4','C-12','C-13','N-14','O-16','Ne-22']\n",
    "ifig=108;close(ifig);figure(ifig)\n",
    "pt.abu_profile(isos=species, ifig=ifig, fname=1100, logy=True)\n",
    "title(\"Main Sequence\")\n",
    "#ylim(-7,0)\n",
    "#xlim(0.552,0.556)\n",
    "# ylim(-7,0)\n",
    "# xlim(0.78,0.825)"
   ]
  },
  {
   "cell_type": "markdown",
   "id": "49459c46",
   "metadata": {},
   "source": [
    "At RGB Hydrogen should occur on the decline of the peak after the star turns on the main sequence"
   ]
  },
  {
   "cell_type": "code",
   "execution_count": null,
   "id": "67c58fb7",
   "metadata": {},
   "outputs": [],
   "source": [
    "species=['H-1','He-4','C-12','C-13','N-14','O-16','Ne-22']\n",
    "ifig=109;close(ifig);figure(ifig)\n",
    "pt.abu_profile(isos=species, ifig=ifig, fname=1300, logy=True)\n",
    "ylim(-6,0)\n",
    "#xlim(0.603,0.6033)\n",
    "title(\"RGB\")"
   ]
  },
  {
   "cell_type": "markdown",
   "id": "7695f0a9",
   "metadata": {},
   "source": [
    "The He Shell burning occurs at the second peak in temperature, when He fusion begins"
   ]
  },
  {
   "cell_type": "code",
   "execution_count": null,
   "id": "eb2716c6",
   "metadata": {},
   "outputs": [],
   "source": [
    "species=['H-1','He-4','C-12','C-13','N-14','O-16','Ne-22']\n",
    "ifig=110;close(ifig);figure(ifig)\n",
    "pt.abu_profile(isos=species, ifig=ifig, fname=1850, logy=True)\n",
    "ylim(-6,0.2)\n",
    "xlim(0,1)\n",
    "title(\"He shell burning\")"
   ]
  },
  {
   "cell_type": "markdown",
   "id": "0cdb6a62",
   "metadata": {},
   "source": [
    "## 9/20 HW"
   ]
  },
  {
   "cell_type": "markdown",
   "id": "ee3c97a8",
   "metadata": {},
   "source": [
    "Plot the Pressure scale height for a star at the tip of the red giant branch.\n",
    "For a 4 solar mass star, the very end of the red giant branch occurs at a model number ~1500"
   ]
  },
  {
   "cell_type": "markdown",
   "id": "2647564f",
   "metadata": {},
   "source": [
    "The pressure scale height is Hp = kT/gM where k is the boltzmann constant, T is temperature, M is mass, and g is the gravitational constant"
   ]
  },
  {
   "cell_type": "code",
   "execution_count": null,
   "id": "e834d563",
   "metadata": {},
   "outputs": [],
   "source": [
    "#pt?\n",
    "#thing = pt.get(model number, 'name')\n",
    "#The model number is that for a star in the RGB\n",
    "#print pt.se.dcols\n",
    "mass = pt.get(1500, 'mass')*1.989*(10**30) #Mass in units kg\n",
    "solarmass = pt.get(1500, 'mass') #Mass in units Solar mass\n",
    "rho = pt.get(1500, 'rho') #Stellar density\n",
    "temp = pt.get(1500, 'temperature')*(10**8) #Temp in units Kelvin, T8 in Kelvin\n",
    "rad = pt.get(1500, 'radius')*(10**9) #radius in units m (Why temp and rad have these weird units, I'm unsure)\n",
    "rad_km = pt.get(1500, 'radius')*(10**3)\n",
    "rad_solar = rad_km/695700"
   ]
  },
  {
   "cell_type": "code",
   "execution_count": null,
   "id": "020ff504",
   "metadata": {},
   "outputs": [],
   "source": [
    "#This random cell is great for checking the scale of your variables\n",
    "#print rad"
   ]
  },
  {
   "cell_type": "code",
   "execution_count": null,
   "id": "956edb49",
   "metadata": {},
   "outputs": [],
   "source": [
    "#For the scale height we need to boltzmann constant!\n",
    "k = 1.38064852*10**(-23) #m^2 kg s^-2 K-1\n",
    "#M is th mean mass of a molecule (Hydrogen) in kg (1.6737236 × 10^-27 kg)\n",
    "#Should this be Helium since we're at the tip of the RGB?"
   ]
  },
  {
   "cell_type": "code",
   "execution_count": null,
   "id": "76fdd183",
   "metadata": {},
   "outputs": [],
   "source": [
    "#Pressure as a function of scale height\n",
    "def P(P0,z,M,T):\n",
    "    return (P0)*e**(-(z)*M*9.8/((1.38064852*10**(-23))*(10**T)))\n",
    "#Pressure scale height\n",
    "def HP(T,M,g):\n",
    "    return (k)*T/(M*g) #Where M is the mean molecular weight (in this case, the mass of a H atom in kg)\n",
    "#Gravitational constant g\n",
    "def g(m,r):\n",
    "    return 6.67408*(10**-11)*m*(r**-2)"
   ]
  },
  {
   "cell_type": "code",
   "execution_count": null,
   "id": "5a97ccb5",
   "metadata": {},
   "outputs": [],
   "source": [
    "m_5star = 1.6737236*(10**-27) #for hydrogen, in kg. This may change\n",
    "g_5star = g(mass,rad) #g needs to be in m/s^2\n",
    "Scale_HeightP = HP(temp,m_5star,g_5star) #Unitless!"
   ]
  },
  {
   "cell_type": "code",
   "execution_count": null,
   "id": "f41cfae8",
   "metadata": {},
   "outputs": [],
   "source": [
    "#Check your scale height values\n",
    "#print Scale_HeightP"
   ]
  },
  {
   "cell_type": "code",
   "execution_count": null,
   "id": "80fae8b8",
   "metadata": {},
   "outputs": [],
   "source": [
    "ifig=300;close(ifig);figure(ifig)\n",
    "plt.plot(rad_km,Scale_HeightP)\n",
    "plt.title('Pressure Scale Height as a function of radius')\n",
    "plt.ylabel('Pressure Scale Height')\n",
    "#plt.ylim((0,1.25*10**8))\n",
    "plt.xlabel('Stellar Radius (km)')"
   ]
  },
  {
   "cell_type": "markdown",
   "id": "d7b65eb3",
   "metadata": {},
   "source": [
    "We need to make plots of density v radius, density v mass, temp v radius, and temp v mass"
   ]
  }
 ],
 "metadata": {},
 "nbformat": 4,
 "nbformat_minor": 5
}
