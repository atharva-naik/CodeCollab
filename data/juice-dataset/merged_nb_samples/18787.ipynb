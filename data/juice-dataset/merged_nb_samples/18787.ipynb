{
 "cells": [
  {
   "cell_type": "markdown",
   "id": "74c3f271",
   "metadata": {},
   "source": [
    "# Getting Started"
   ]
  },
  {
   "cell_type": "markdown",
   "id": "88c868f3",
   "metadata": {},
   "source": [
    "## Loading a model and inspecting it"
   ]
  },
  {
   "cell_type": "markdown",
   "id": "7264b8fe",
   "metadata": {},
   "source": [
    "To begin with, cobrapy comes with bundled models for _Salmonella_ and _E. coli_, as well as a \"textbook\" model of _E. coli_ core metabolism. To load a test model, type"
   ]
  },
  {
   "cell_type": "code",
   "execution_count": null,
   "id": "7afc7399",
   "metadata": {},
   "outputs": [],
   "source": [
    "from __future__ import print_function\n",
    "\n",
    "import cobra\n",
    "import cobra.test\n",
    "\n",
    "# \"ecoli\" and \"salmonella\" are also valid arguments\n",
    "model = cobra.test.create_test_model(\"textbook\")"
   ]
  },
  {
   "cell_type": "markdown",
   "id": "a13c3740",
   "metadata": {},
   "source": [
    "The reactions, metabolites, and genes attributes of the cobrapy model are a special type of list called a `cobra.DictList`, and each one is made up of `cobra.Reaction`, `cobra.Metabolite` and `cobra.Gene` objects respectively."
   ]
  },
  {
   "cell_type": "code",
   "execution_count": null,
   "id": "ddf1e622",
   "metadata": {},
   "outputs": [],
   "source": [
    "print(len(model.reactions))\n",
    "print(len(model.metabolites))\n",
    "print(len(model.genes))"
   ]
  },
  {
   "cell_type": "markdown",
   "id": "c27cea88",
   "metadata": {},
   "source": [
    "When using [Jupyter notebook](https://jupyter-notebook-beginner-guide.readthedocs.io/en/latest/) this type of information is rendered as a table."
   ]
  },
  {
   "cell_type": "code",
   "execution_count": null,
   "id": "499b624d",
   "metadata": {},
   "outputs": [],
   "source": [
    "model"
   ]
  },
  {
   "cell_type": "markdown",
   "id": "6dab0d2e",
   "metadata": {},
   "source": [
    "Just like a regular list, objects in the `DictList` can be retrieved by index. For example, to get the 30th reaction in the model (at index 29 because of [0-indexing](https://en.wikipedia.org/wiki/Zero-based_numbering)):"
   ]
  },
  {
   "cell_type": "code",
   "execution_count": null,
   "id": "6cf161f6",
   "metadata": {},
   "outputs": [],
   "source": [
    "model.reactions[29]"
   ]
  },
  {
   "cell_type": "markdown",
   "id": "8c09bb44",
   "metadata": {},
   "source": [
    "Additionally, items can be retrieved by their `id` using the `DictList.get_by_id()` function. For example, to get the cytosolic atp metabolite object (the id is \"atp_c\"), we can do the following:"
   ]
  },
  {
   "cell_type": "markdown",
   "id": "520c1fad",
   "metadata": {},
   "source": [
    "As an added bonus, users with an interactive shell such as IPython will be able to tab-complete to list elements inside a list. While this is not recommended behavior for most code because of the possibility for characters like \"-\" inside ids, this is very useful while in an interactive prompt:"
   ]
  },
  {
   "cell_type": "code",
   "execution_count": null,
   "id": "403ecc37",
   "metadata": {},
   "outputs": [],
   "source": [
    "model.reactions.EX_glc__D_e.bounds"
   ]
  },
  {
   "cell_type": "markdown",
   "id": "95bfebb5",
   "metadata": {},
   "source": [
    "## Reactions"
   ]
  },
  {
   "cell_type": "markdown",
   "id": "67aafa25",
   "metadata": {},
   "source": [
    "We will consider the reaction glucose 6-phosphate isomerase, which interconverts glucose 6-phosphate and fructose 6-phosphate. The reaction id for this reaction in our test model is PGI."
   ]
  },
  {
   "cell_type": "code",
   "execution_count": null,
   "id": "0e5e0f93",
   "metadata": {},
   "outputs": [],
   "source": [
    "pgi = model.reactions.get_by_id(\"PGI\")\n",
    "pgi"
   ]
  },
  {
   "cell_type": "markdown",
   "id": "4278451c",
   "metadata": {},
   "source": [
    "We can view the full name and reaction catalyzed as strings"
   ]
  },
  {
   "cell_type": "code",
   "execution_count": null,
   "id": "35b72075",
   "metadata": {},
   "outputs": [],
   "source": [
    "print(pgi.name)\n",
    "print(pgi.reaction)"
   ]
  },
  {
   "cell_type": "markdown",
   "id": "151c3b5e",
   "metadata": {},
   "source": [
    "We can also view reaction upper and lower bounds. Because the `pgi.lower_bound` < 0, and `pgi.upper_bound` > 0, `pgi` is reversible."
   ]
  },
  {
   "cell_type": "code",
   "execution_count": null,
   "id": "cf7360dd",
   "metadata": {},
   "outputs": [],
   "source": [
    "print(pgi.lower_bound, \"< pgi <\", pgi.upper_bound)\n",
    "print(pgi.reversibility)"
   ]
  },
  {
   "cell_type": "markdown",
   "id": "a70fa48e",
   "metadata": {},
   "source": [
    "We can also ensure the reaction is mass balanced. This function will return elements which violate mass balance. If it comes back empty, then the reaction is mass balanced."
   ]
  },
  {
   "cell_type": "code",
   "execution_count": null,
   "id": "77a47193",
   "metadata": {},
   "outputs": [],
   "source": [
    "pgi.check_mass_balance()"
   ]
  },
  {
   "cell_type": "markdown",
   "id": "c8285b3c",
   "metadata": {},
   "source": [
    "In order to add a metabolite, we pass in a `dict` with the metabolite object and its coefficient"
   ]
  },
  {
   "cell_type": "code",
   "execution_count": null,
   "id": "60e6e4de",
   "metadata": {},
   "outputs": [],
   "source": [
    "pgi.add_metabolites({model.metabolites.get_by_id(\"h_c\"): -1})\n",
    "pgi.reaction"
   ]
  },
  {
   "cell_type": "markdown",
   "id": "1221769f",
   "metadata": {},
   "source": [
    "The reaction is no longer mass balanced"
   ]
  },
  {
   "cell_type": "markdown",
   "id": "42d82736",
   "metadata": {},
   "source": [
    "We can remove the metabolite, and the reaction will be balanced once again."
   ]
  },
  {
   "cell_type": "code",
   "execution_count": null,
   "id": "81fb64ff",
   "metadata": {},
   "outputs": [],
   "source": [
    "pgi.subtract_metabolites({model.metabolites.get_by_id(\"h_c\"): -1})\n",
    "print(pgi.reaction)\n",
    "print(pgi.check_mass_balance())"
   ]
  },
  {
   "cell_type": "markdown",
   "id": "b2119220",
   "metadata": {},
   "source": [
    "It is also possible to build the reaction from a string. However, care must be taken when doing this to ensure reaction id's match those in the model. The direction of the arrow is also used to update the upper and lower bounds."
   ]
  },
  {
   "cell_type": "code",
   "execution_count": null,
   "id": "2febf005",
   "metadata": {},
   "outputs": [],
   "source": [
    "print(atp.formula)"
   ]
  },
  {
   "cell_type": "markdown",
   "id": "2081b9e9",
   "metadata": {},
   "source": [
    "The reactions attribute gives a `frozenset` of all reactions using the given metabolite. We can use this to count the number of reactions which use atp."
   ]
  },
  {
   "cell_type": "code",
   "execution_count": null,
   "id": "7bee344d",
   "metadata": {},
   "outputs": [],
   "source": [
    "len(atp.reactions)"
   ]
  },
  {
   "cell_type": "markdown",
   "id": "595d483e",
   "metadata": {},
   "source": [
    "A metabolite like glucose 6-phosphate will participate in fewer reactions."
   ]
  },
  {
   "cell_type": "code",
   "execution_count": null,
   "id": "0631049c",
   "metadata": {},
   "outputs": [],
   "source": [
    "model.metabolites.get_by_id(\"g6p_c\").reactions"
   ]
  },
  {
   "cell_type": "markdown",
   "id": "9161ca5a",
   "metadata": {},
   "source": [
    "## Genes"
   ]
  },
  {
   "cell_type": "markdown",
   "id": "399cdc01",
   "metadata": {},
   "source": [
    "The `gene_reaction_rule` is a boolean representation of the gene requirements for this reaction to be active as described in [Schellenberger et al 2011 Nature Protocols 6(9):1290-307](http://dx.doi.org/doi:10.1038/nprot.2011.308).\n",
    "\n",
    "The GPR is stored as the gene_reaction_rule for a Reaction object as a string."
   ]
  },
  {
   "cell_type": "code",
   "execution_count": null,
   "id": "8477d989",
   "metadata": {},
   "outputs": [],
   "source": [
    "gpr = pgi.gene_reaction_rule\n",
    "gpr"
   ]
  },
  {
   "cell_type": "markdown",
   "id": "368b2ad7",
   "metadata": {},
   "source": [
    "Corresponding gene objects also exist. These objects are tracked by the reactions itself, as well as by the model"
   ]
  },
  {
   "cell_type": "code",
   "execution_count": null,
   "id": "2457e361",
   "metadata": {},
   "outputs": [],
   "source": [
    "pgi.genes"
   ]
  },
  {
   "cell_type": "code",
   "execution_count": null,
   "id": "66c205ca",
   "metadata": {},
   "outputs": [],
   "source": [
    "pgi_gene = model.genes.get_by_id(\"b4025\")\n",
    "pgi_gene"
   ]
  },
  {
   "cell_type": "markdown",
   "id": "506f6a09",
   "metadata": {},
   "source": [
    "Each gene keeps track of the reactions it catalyzes"
   ]
  },
  {
   "cell_type": "code",
   "execution_count": null,
   "id": "68734296",
   "metadata": {},
   "outputs": [],
   "source": [
    "pgi_gene.reactions"
   ]
  },
  {
   "cell_type": "markdown",
   "id": "f75fa379",
   "metadata": {},
   "source": [
    "Altering the gene_reaction_rule will create new gene objects if necessary and update all relationships."
   ]
  },
  {
   "cell_type": "code",
   "execution_count": null,
   "id": "3c7ea481",
   "metadata": {},
   "outputs": [],
   "source": [
    "pgi.gene_reaction_rule = \"(spam or eggs)\"\n",
    "pgi.genes"
   ]
  },
  {
   "cell_type": "markdown",
   "id": "9a4d3886",
   "metadata": {},
   "source": [
    "Newly created genes are also added to the model"
   ]
  },
  {
   "cell_type": "code",
   "execution_count": null,
   "id": "faf7af7a",
   "metadata": {},
   "outputs": [],
   "source": [
    "model.genes.get_by_id(\"spam\")"
   ]
  },
  {
   "cell_type": "markdown",
   "id": "92b5bf2a",
   "metadata": {},
   "source": [
    "The `delete_model_genes` function will evaluate the GPR and set the upper and lower bounds to 0 if the reaction is knocked out. This function can preserve existing deletions or reset them using the `cumulative_deletions` flag."
   ]
  },
  {
   "cell_type": "code",
   "execution_count": null,
   "id": "90e8d074",
   "metadata": {},
   "outputs": [],
   "source": [
    "cobra.manipulation.delete_model_genes(\n",
    "    model, [\"spam\"], cumulative_deletions=True)\n",
    "print(\"after 1 KO: %4d < flux_PGI < %4d\" % (pgi.lower_bound, pgi.upper_bound))\n",
    "\n",
    "cobra.manipulation.delete_model_genes(\n",
    "    model, [\"eggs\"], cumulative_deletions=True)\n",
    "print(\"after 2 KO:  %4d < flux_PGI < %4d\" % (pgi.lower_bound, pgi.upper_bound))"
   ]
  },
  {
   "cell_type": "markdown",
   "id": "2df04e74",
   "metadata": {},
   "source": [
    "The undelete_model_genes can be used to reset a gene deletion"
   ]
  },
  {
   "cell_type": "code",
   "execution_count": null,
   "id": "9fd88979",
   "metadata": {},
   "outputs": [],
   "source": [
    "cobra.manipulation.undelete_model_genes(model)\n",
    "print(pgi.lower_bound, \"< pgi <\", pgi.upper_bound)"
   ]
  },
  {
   "cell_type": "markdown",
   "id": "ccf513e9",
   "metadata": {},
   "source": [
    "## Making changes reversibly using models as contexts"
   ]
  },
  {
   "cell_type": "markdown",
   "id": "2c089939",
   "metadata": {},
   "source": [
    "Quite often, one wants to make small changes to a model and evaluate the impacts of these. For example, we may want to knock-out all reactions sequentially, and see what the impact of this is on the objective function. One way of doing this would be to create a new copy of the model before each knock-out with `model.copy()`. However, even with small models, this is a very slow approach as models are quite complex objects. Better then would be to do the knock-out, optimizing and then manually resetting the reaction bounds before proceeding with the next reaction. Since this is such a common scenario however, cobrapy allows us to use the model as a context, to have changes reverted automatically."
   ]
  },
  {
   "cell_type": "code",
   "execution_count": null,
   "id": "9a044b38",
   "metadata": {},
   "outputs": [],
   "source": [
    "model = cobra.test.create_test_model('textbook')\n",
    "for reaction in model.reactions[:5]:\n",
    "    with model as model:\n",
    "        reaction.knock_out()\n",
    "        model.optimize()\n",
    "        print('%s blocked (bounds: %s), new growth rate %f' %\n",
    "              (reaction.id, str(reaction.bounds), model.objective.value))"
   ]
  },
  {
   "cell_type": "markdown",
   "id": "3574ba71",
   "metadata": {},
   "source": [
    "If we look at those knocked reactions, see that their bounds have all been reverted."
   ]
  },
  {
   "cell_type": "code",
   "execution_count": null,
   "id": "49f5042b",
   "metadata": {},
   "outputs": [],
   "source": [
    "pgi.reaction = \"g6p_c --> f6p_c + h_c + green_eggs + ham\""
   ]
  },
  {
   "cell_type": "code",
   "execution_count": null,
   "id": "4cc7e3d0",
   "metadata": {},
   "outputs": [],
   "source": [
    "pgi.reaction"
   ]
  },
  {
   "cell_type": "code",
   "execution_count": null,
   "id": "e5ea6e61",
   "metadata": {},
   "outputs": [],
   "source": [
    "pgi.reaction = \"g6p_c <=> f6p_c\"\n",
    "pgi.reaction"
   ]
  },
  {
   "cell_type": "markdown",
   "id": "ecdeb31e",
   "metadata": {},
   "source": [
    "## Metabolites"
   ]
  },
  {
   "cell_type": "markdown",
   "id": "a5e15242",
   "metadata": {},
   "source": [
    "We will consider cytosolic atp as our metabolite, which has the id `\"atp_c\"` in our test model."
   ]
  },
  {
   "cell_type": "code",
   "execution_count": null,
   "id": "390c2a7e",
   "metadata": {},
   "outputs": [],
   "source": [
    "atp = model.metabolites.get_by_id(\"atp_c\")\n",
    "atp"
   ]
  },
  {
   "cell_type": "markdown",
   "id": "7e9afb81",
   "metadata": {},
   "source": [
    "We can print out the metabolite name and compartment (cytosol in this case) directly as string."
   ]
  },
  {
   "cell_type": "code",
   "execution_count": null,
   "id": "57f7ab18",
   "metadata": {},
   "outputs": [],
   "source": [
    "model.metabolites.get_by_id(\"atp_c\")"
   ]
  },
  {
   "cell_type": "code",
   "execution_count": null,
   "id": "ad0bd5b5",
   "metadata": {},
   "outputs": [],
   "source": [
    "print(atp.name)\n",
    "print(atp.compartment)"
   ]
  },
  {
   "cell_type": "markdown",
   "id": "d8a723e6",
   "metadata": {},
   "source": [
    "We can see that ATP is a charged molecule in our model."
   ]
  },
  {
   "cell_type": "code",
   "execution_count": null,
   "id": "a194128c",
   "metadata": {},
   "outputs": [],
   "source": [
    "atp.charge"
   ]
  },
  {
   "cell_type": "markdown",
   "id": "da2f5938",
   "metadata": {},
   "source": [
    "We can see the chemical formula for the metabolite as well."
   ]
  },
  {
   "cell_type": "code",
   "execution_count": null,
   "id": "ec8a2351",
   "metadata": {},
   "outputs": [],
   "source": [
    "[reaction.bounds for reaction in model.reactions[:5]]"
   ]
  },
  {
   "cell_type": "markdown",
   "id": "1db8fdf7",
   "metadata": {},
   "source": [
    "Nested contexts are also supported"
   ]
  },
  {
   "cell_type": "code",
   "execution_count": null,
   "id": "f5ce8573",
   "metadata": {},
   "outputs": [],
   "source": [
    "print('original objective: ', model.objective.expression)\n",
    "with model:\n",
    "    model.objective = 'ATPM'\n",
    "    print('print objective in first context:', model.objective.expression)\n",
    "    with model:\n",
    "        model.objective = 'ACALD'\n",
    "        print('print objective in second context:', model.objective.expression)\n",
    "    print('objective after exiting second context:',\n",
    "          model.objective.expression)\n",
    "print('back to original objective:', model.objective.expression)"
   ]
  },
  {
   "cell_type": "markdown",
   "id": "5cb41a94",
   "metadata": {},
   "source": [
    "Most methods that modify the model are supported like this including adding and removing reactions and metabolites and setting the objective. Supported methods and functions mention this in the corresponding documentation."
   ]
  },
  {
   "cell_type": "markdown",
   "id": "df9992cd",
   "metadata": {},
   "source": [
    "While it does not have any actual effect, for syntactic convenience it is also possible to refer to the model by a different name than outside the context. Such as"
   ]
  }
 ],
 "metadata": {},
 "nbformat": 4,
 "nbformat_minor": 5
}
