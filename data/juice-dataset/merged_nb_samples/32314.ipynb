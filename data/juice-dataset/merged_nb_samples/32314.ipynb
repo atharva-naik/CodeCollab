{
 "cells": [
  {
   "cell_type": "markdown",
   "id": "790e3f85",
   "metadata": {},
   "source": [
    "# Image Clustering with scikit-learn\n",
    "\n",
    "This notebook requires pillow (a Python Image Library that works well with Python 3).\n",
    "\n",
    "If you have Anaconda, you can install it with\n",
    "\n",
    "`conda install pillow`"
   ]
  },
  {
   "cell_type": "code",
   "execution_count": null,
   "id": "f73d5660",
   "metadata": {},
   "outputs": [],
   "source": [
    "import pandas as pd\n",
    "import numpy as np\n",
    "from sklearn.cluster import KMeans\n",
    "from PIL import Image\n",
    "from IPython.display import Image as JImage"
   ]
  },
  {
   "cell_type": "markdown",
   "id": "b674636d",
   "metadata": {},
   "source": [
    "Load the image into memory"
   ]
  },
  {
   "cell_type": "code",
   "execution_count": null,
   "id": "709282de",
   "metadata": {},
   "outputs": [],
   "source": [
    "img = Image.open('puppy.jpg')\n",
    "pix = img.load()"
   ]
  },
  {
   "cell_type": "markdown",
   "id": "d52b2623",
   "metadata": {},
   "source": [
    "Extract individual pixels as 3-dimensional RGB vectors"
   ]
  },
  {
   "cell_type": "code",
   "execution_count": null,
   "id": "bcc5ae62",
   "metadata": {},
   "outputs": [],
   "source": [
    "rgb_vectors = []\n",
    "for x in range(img.width):\n",
    "    for y in range(img.height):\n",
    "        rgb_vec = pix[x,y]\n",
    "        rgb_vectors.append(rgb_vec)"
   ]
  },
  {
   "cell_type": "code",
   "execution_count": null,
   "id": "ccd78280",
   "metadata": {},
   "outputs": [],
   "source": [
    "print(\"Original image: {} pixels, {} unique colours\".format(len(rgb_vectors), len(set(rgb_vectors))))"
   ]
  },
  {
   "cell_type": "markdown",
   "id": "a432e0f4",
   "metadata": {},
   "source": [
    "Load the RGB values into a DataFrame"
   ]
  },
  {
   "cell_type": "code",
   "execution_count": null,
   "id": "12dd15ff",
   "metadata": {},
   "outputs": [],
   "source": [
    "df = pd.DataFrame(columns=['r', 'g', 'b'])\n",
    "df['r'] = [x[0] for x in rgb_vectors]\n",
    "df['g'] = [x[1] for x in rgb_vectors]\n",
    "df['b'] = [x[2] for x in rgb_vectors]"
   ]
  },
  {
   "cell_type": "markdown",
   "id": "fb8318e0",
   "metadata": {},
   "source": [
    "Try different *k* values"
   ]
  },
  {
   "cell_type": "code",
   "execution_count": null,
   "id": "a4135893",
   "metadata": {},
   "outputs": [],
   "source": [
    "k_values = [3, 5, 8, 12, 16]\n",
    "\n",
    "for i in range(len(k_values)):\n",
    "    k = k_values[i]\n",
    "    # run clustering\n",
    "    print(\"Running clustering for k=%d\" % k)\n",
    "    kmeans = KMeans(n_clusters=k)\n",
    "    clusters = kmeans.fit_predict(df)\n",
    "    df['cluster'] = clusters\n",
    "    # use the K cluster centroids as new colours to represent the image\n",
    "    colours = [tuple([int(c) for c in x]) for x in kmeans.cluster_centers_]\n",
    "    # create a new image file\n",
    "    new_img = Image.new('RGB', (img.width, img.height))\n",
    "    img_data = new_img.load()\n",
    "    counter = 0\n",
    "    for x in range(img.width):\n",
    "        for y in range(img.height):\n",
    "            # get cluster index from DF\n",
    "            cluster = df.loc[counter,'cluster']\n",
    "            # get associated colour\n",
    "            cluster_colour = colours[cluster]\n",
    "            # add coloured pixel to new image\n",
    "            img_data[x,y] = cluster_colour\n",
    "            counter += 1\n",
    "    new_img_name = 'puppy_{}.jpg'.format(k)\n",
    "    new_img.save(new_img_name)\n",
    "print('Done!')"
   ]
  },
  {
   "cell_type": "markdown",
   "id": "1fda7a16",
   "metadata": {},
   "source": [
    "The moral of the story is: even 3 colours can draw a puppy!"
   ]
  }
 ],
 "metadata": {},
 "nbformat": 4,
 "nbformat_minor": 5
}
