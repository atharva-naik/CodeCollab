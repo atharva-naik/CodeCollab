{
 "cells": [
  {
   "cell_type": "code",
   "execution_count": null,
   "id": "fb77196e",
   "metadata": {},
   "outputs": [],
   "source": [
    "from __future__ import print_function\n",
    "%matplotlib inline\n",
    "import pandas as pd\n",
    "import matplotlib.pyplot as plt\n",
    "import numpy as np\n",
    "from scipy import stats\n",
    "import seaborn as sns\n",
    "import statsmodels.api as sm\n",
    "from sklearn import linear_model\n",
    "from statsmodels.formula.api import ols\n",
    "from sklearn.linear_model import LinearRegression, Ridge, Lasso\n",
    "from sklearn.preprocessing import PolynomialFeatures\n",
    "from sklearn.pipeline import make_pipeline\n",
    "from sklearn.cross_validation import KFold\n",
    "\n",
    "import warnings\n",
    "warnings.filterwarnings('ignore')\n",
    "\n",
    "df = pd.read_csv(\"VinhoVerde_WhiteWineQuality.csv\", sep=';')\n",
    "df.head()\n",
    "\n"
   ]
  },
  {
   "cell_type": "markdown",
   "id": "4ddd7dda",
   "metadata": {},
   "source": [
    "Loaded the wine data in 'df'"
   ]
  },
  {
   "cell_type": "code",
   "execution_count": null,
   "id": "75575543",
   "metadata": {},
   "outputs": [],
   "source": [
    "df.describe()"
   ]
  },
  {
   "cell_type": "code",
   "execution_count": null,
   "id": "0dba6919",
   "metadata": {},
   "outputs": [],
   "source": [
    "sns.pairplot(df, hue=\"quality\")\n",
    "sns.plt.show()"
   ]
  },
  {
   "cell_type": "markdown",
   "id": "f1037562",
   "metadata": {},
   "source": [
    "The pairplot show correlation of every column on every other column. As we know wine depends greatly on alcohol and density, and the pairplot above also shows the same result, there fore we will move forward with these 2."
   ]
  },
  {
   "cell_type": "markdown",
   "id": "b0f4fff2",
   "metadata": {},
   "source": [
    "### Single Variable Linear Regression"
   ]
  },
  {
   "cell_type": "code",
   "execution_count": null,
   "id": "ee40bc64",
   "metadata": {},
   "outputs": [],
   "source": [
    "sns.lmplot(y=\"alcohol\", x=\"density\", data=df,  hue=\"quality\")\n",
    "sns.plt.show()"
   ]
  },
  {
   "cell_type": "markdown",
   "id": "025dce62",
   "metadata": {},
   "source": [
    "Now that we have seen the correlation and the significant relation, we will move forward and slit our datset to fit it with linear regression model."
   ]
  },
  {
   "cell_type": "markdown",
   "id": "72704032",
   "metadata": {},
   "source": [
    "As we can see from the above stats, R-square value of 0.98 means our data has fit the model pretty well, whereas p value of 0 depicts that the possiblity of a null hypothesis being true is 0, i.e Hnull for this model is 0."
   ]
  },
  {
   "cell_type": "code",
   "execution_count": null,
   "id": "01db9854",
   "metadata": {},
   "outputs": [],
   "source": [
    "print('Parameters: ', results.params)\n",
    "print('R2: ', results.rsquared)"
   ]
  },
  {
   "cell_type": "code",
   "execution_count": null,
   "id": "fb8cc4eb",
   "metadata": {},
   "outputs": [],
   "source": [
    "X = df[[\"density\"]]\n",
    "y = df[[\"alcohol\"]]\n",
    "plt.plot(X, y, \"o\")"
   ]
  },
  {
   "cell_type": "markdown",
   "id": "2aa2f371",
   "metadata": {},
   "source": [
    "The plot shows a negative relation between alcohol and density."
   ]
  },
  {
   "cell_type": "code",
   "execution_count": null,
   "id": "246a1500",
   "metadata": {},
   "outputs": [],
   "source": [
    "X = sm.add_constant(X) #  Our model needs an intercept so we add a column of 1s:\n",
    "plt.plot(X, y, \"o\")\n",
    "x2 = np.linspace(0.98, 1.05, 51)\n",
    "y2 = 329.588 + (-320.991*x2)\n",
    "plt.plot(x2, y2, lw=2, color=\"r\")\n",
    "x2 = np.linspace(0.99, 1.05, 31)\n",
    "y2 = (10.574*x2)\n",
    "plt.plot(x2, y2, lw=2, color=\"g\")\n",
    "plt.show()"
   ]
  },
  {
   "cell_type": "markdown",
   "id": "c53057f3",
   "metadata": {},
   "source": [
    "this plot shows us the regression line and our mean line.\n",
    "Now again after consulting the pairplot above we have picked chlorides, pH and density to plot with alcohol, for the multiple linear regression model."
   ]
  },
  {
   "cell_type": "markdown",
   "id": "42183a36",
   "metadata": {},
   "source": [
    "### Multiple Variable Linear Regression"
   ]
  },
  {
   "cell_type": "code",
   "execution_count": null,
   "id": "0e4beb6e",
   "metadata": {},
   "outputs": [],
   "source": [
    "from sklearn.cross_validation import train_test_split\n",
    "Xpoly = df[[\"density\",\"chlorides\",\"pH\"]].values\n",
    "Ypoly = df[[\"alcohol\"]].values\n",
    "X_trainpoly, X_testpoly, Y_trainpoly, Y_testpoly = train_test_split(Xpoly, Ypoly, test_size = .20 , random_state = 0)\n",
    "print(X_trainpoly)"
   ]
  },
  {
   "cell_type": "code",
   "execution_count": null,
   "id": "6ae6ac95",
   "metadata": {},
   "outputs": [],
   "source": [
    "from sklearn.cross_validation import train_test_split\n",
    "\n",
    "modelpoly = LinearRegression()\n",
    "polyresults = modelpoly.fit(X_trainpoly, Y_trainpoly)\n",
    "\n",
    "Y_predictorpoly=modelpoly.predict(X_trainpoly)\n",
    "print (Y_predictorpoly)\n",
    "\n",
    "\n",
    "#print (results.intercept_, results.coef_)"
   ]
  },
  {
   "cell_type": "code",
   "execution_count": null,
   "id": "54a16b7d",
   "metadata": {},
   "outputs": [],
   "source": [
    "modelpoly = sm.OLS(y, X)\n",
    "polyresults = modelpoly.fit()\n",
    "polyresults.summary()"
   ]
  },
  {
   "cell_type": "markdown",
   "id": "0f7fbd97",
   "metadata": {},
   "source": [
    "The r-square displays a pretty good fit for our multiple linear reg. model.\n",
    "The null hypothesis assumption is here also nullified with p value of 0.\n",
    "\n",
    "Now we shall check the accuracy of our model, by root mean square error value (rmse)."
   ]
  },
  {
   "cell_type": "markdown",
   "id": "0d18a34e",
   "metadata": {},
   "source": [
    "### Accuracy Check : RMSE"
   ]
  },
  {
   "cell_type": "code",
   "execution_count": null,
   "id": "0f1e7bc0",
   "metadata": {},
   "outputs": [],
   "source": [
    "y_null = np.zeros_like(Y_testpoly, dtype=float)\n",
    "y_null.fill(Y_testpoly.mean())\n",
    "y_null[0:33]"
   ]
  },
  {
   "cell_type": "code",
   "execution_count": null,
   "id": "a1724d17",
   "metadata": {},
   "outputs": [],
   "source": [
    "from sklearn import metrics\n",
    "\n",
    "y_null_rmse =np.sqrt(metrics.mean_squared_error(Y_testpoly, y_null))\n",
    "y_null_rmse"
   ]
  },
  {
   "cell_type": "code",
   "execution_count": null,
   "id": "36ab0066",
   "metadata": {},
   "outputs": [],
   "source": [
    "y_null_rmse/Y_testpoly.mean()"
   ]
  },
  {
   "cell_type": "markdown",
   "id": "f2c4fb06",
   "metadata": {},
   "source": [
    "We have a rmse value as 1.2, lets do regularization to improve our model via ridge regression."
   ]
  },
  {
   "cell_type": "markdown",
   "id": "fa6c61ce",
   "metadata": {},
   "source": [
    "### Regularization : Ridge Regression"
   ]
  },
  {
   "cell_type": "code",
   "execution_count": null,
   "id": "41b296f5",
   "metadata": {},
   "outputs": [],
   "source": [
    "rmse = np.sqrt(metrics.mean_squared_error(Y_testpoly, y_pred))\n",
    "rmse"
   ]
  },
  {
   "cell_type": "markdown",
   "id": "2d6a6865",
   "metadata": {},
   "source": [
    "The rmse is reduced, therefore regularization did had a effect on our model.\n",
    "\n",
    "Now lets begin with logistic regression. \n",
    "For that we deduced the quality column as 0 and 1 by classifying the 0-5 quality wine as bad or 0, and 6-10 quality wines as good or 1, hence making our dataset catagorical."
   ]
  },
  {
   "cell_type": "markdown",
   "id": "42d8c002",
   "metadata": {},
   "source": [
    "### Logistic Regression"
   ]
  },
  {
   "cell_type": "code",
   "execution_count": null,
   "id": "b5e976c0",
   "metadata": {},
   "outputs": [],
   "source": [
    "df.quality = df.quality.replace({1: 0,2: 0,3:0,4:0,5:0,6:1,7:1,8:1,9:1,10:1})"
   ]
  },
  {
   "cell_type": "code",
   "execution_count": null,
   "id": "e2bc6e85",
   "metadata": {},
   "outputs": [],
   "source": [
    "sns.lmplot(x='alcohol', y='quality', data=df, ci=None)"
   ]
  },
  {
   "cell_type": "code",
   "execution_count": null,
   "id": "ec225778",
   "metadata": {},
   "outputs": [],
   "source": [
    "#data formating ID is a non-informative column\n",
    "df = df.drop(\"free_sulfur_dioxide\", 1)\n",
    "df = df.drop(\"citric_acid\", 1)\n",
    "df = df.drop(\"density\", 1)\n",
    "df.head()"
   ]
  },
  {
   "cell_type": "markdown",
   "id": "bb05205a",
   "metadata": {},
   "source": [
    "We will drop free sulfur dioxide, citric acid and density as they have insignificant effect on our cassifying variable quality, therefore we removed these columns and display the remaining column relation in the below heat map."
   ]
  },
  {
   "cell_type": "code",
   "execution_count": null,
   "id": "ce39045a",
   "metadata": {},
   "outputs": [],
   "source": [
    "sns.heatmap(df.corr())\n",
    "plt.show()"
   ]
  },
  {
   "cell_type": "markdown",
   "id": "5ffab004",
   "metadata": {},
   "source": [
    "The above heat map shows independence abong the independent variable i.e lack of multi-colinearity"
   ]
  },
  {
   "cell_type": "code",
   "execution_count": null,
   "id": "10237908",
   "metadata": {},
   "outputs": [],
   "source": [
    "#df.fixed_acidity = df.fixed_acidity.astype(int)\n",
    "X = df[[\"residual_sugar\",\"pH\",\"alcohol\"]].values\n",
    "y = df[[\"quality\"]].values\n",
    "X_train, X_test, y_train, y_test = train_test_split(X, y,test_size = .20, random_state=0)\n",
    "\n",
    "from sklearn.linear_model import LogisticRegression\n",
    "classifier=LogisticRegression()\n",
    "classifier.fit(X_train, y_train)\n"
   ]
  },
  {
   "cell_type": "code",
   "execution_count": null,
   "id": "d2e9024f",
   "metadata": {},
   "outputs": [],
   "source": [
    "classifier.score(X_test,y_test)"
   ]
  },
  {
   "cell_type": "markdown",
   "id": "8a12898f",
   "metadata": {},
   "source": [
    "The logistic regression model fit the dataset and the score is 0.67"
   ]
  },
  {
   "cell_type": "code",
   "execution_count": null,
   "id": "8dbc4133",
   "metadata": {},
   "outputs": [],
   "source": [
    "y_pred=classifier.predict(X_test)\n",
    "from sklearn.metrics import confusion_matrix\n",
    "confusion_matrix=confusion_matrix(y_test,y_pred)\n",
    "print(confusion_matrix)"
   ]
  },
  {
   "cell_type": "markdown",
   "id": "7e301dfa",
   "metadata": {},
   "source": [
    "The confusion matrix result is telling us that we have 119+539 correct predictions and 86+236 incorrect predictions."
   ]
  },
  {
   "cell_type": "code",
   "execution_count": null,
   "id": "765f7370",
   "metadata": {},
   "outputs": [],
   "source": [
    "log_rmse =np.sqrt(metrics.mean_squared_error(Y_testpoly, y_pred))\n",
    "log_rmse"
   ]
  },
  {
   "cell_type": "markdown",
   "id": "ba4240e4",
   "metadata": {},
   "source": [
    "the rmse is 9.7, lets perform a K fold validation with 5 folds to test our model."
   ]
  },
  {
   "cell_type": "markdown",
   "id": "0bf05b36",
   "metadata": {},
   "source": [
    "### Accuracy and Cross Validation"
   ]
  },
  {
   "cell_type": "code",
   "execution_count": null,
   "id": "1db8f44b",
   "metadata": {},
   "outputs": [],
   "source": [
    "from sklearn.cross_validation import train_test_split\n",
    "X = df[[\"density\"]]\n",
    "Y = df[[\"alcohol\"]]\n",
    "X_train, X_test, Y_train, Y_test = train_test_split(X, Y, test_size = .20 , random_state = 0)"
   ]
  },
  {
   "cell_type": "code",
   "execution_count": null,
   "id": "2b7e75dd",
   "metadata": {},
   "outputs": [],
   "source": [
    "model = LinearRegression()\n",
    "results = model.fit(X_train.values.reshape(len(X_train),1), Y_train)\n",
    "\n",
    "Y_predictor=model.predict(X_train.values.reshape(len(X_train),1))\n",
    "print (Y_predictor)\n",
    "#print (results.intercept_, results.coef_)"
   ]
  },
  {
   "cell_type": "code",
   "execution_count": null,
   "id": "1817ebd3",
   "metadata": {},
   "outputs": [],
   "source": [
    "model = sm.OLS(Y, X)\n",
    "results = model.fit()\n",
    "results.summary()"
   ]
  },
  {
   "cell_type": "code",
   "execution_count": null,
   "id": "99eebd3a",
   "metadata": {},
   "outputs": [],
   "source": [
    "\n",
    "from sklearn.linear_model import LinearRegression, Lasso, Ridge, ElasticNet, SGDRegressor\n",
    "\n",
    "ridge = Ridge(fit_intercept=True, alpha=0.5)\n",
    "ridge.fit(X_trainpoly,Y_trainpoly)"
   ]
  },
  {
   "cell_type": "code",
   "execution_count": null,
   "id": "0463ea62",
   "metadata": {},
   "outputs": [],
   "source": [
    "y_pred = ridge.predict(X_testpoly)"
   ]
  },
  {
   "cell_type": "code",
   "execution_count": null,
   "id": "eb55e543",
   "metadata": {},
   "outputs": [],
   "source": [
    "#y_pred = ridge.predict(X_testpoly)\n",
    "\n",
    "plt.scatter(Y_testpoly, y_pred)\n",
    "plt.xlabel(\"Alcohol level: $Y_i$\")\n",
    "plt.ylabel(\"Predicted alcohol levels: $\\hat{y}_i$\")\n",
    "plt.title(\"Ridge Regression - Alcohol level vs Predicted Alcohol levels: $Y_i$ vs $\\hat{y}_i$\")"
   ]
  }
 ],
 "metadata": {},
 "nbformat": 4,
 "nbformat_minor": 5
}
