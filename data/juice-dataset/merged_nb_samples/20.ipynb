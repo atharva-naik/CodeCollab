{
 "cells": [
  {
   "cell_type": "markdown",
   "id": "55d733d7",
   "metadata": {},
   "source": [
    "# Intro to Python\n",
    "[NetCDF](#NetCDF) | [Summary stats](#Summary-stats) | [Time slices](#Time-slices) | [Multiple variables](#Multiple-variables) |[Multiple sites](#Multiple-sites) | [Using functions](#Using-functions)\n",
    "\n",
    "The first step in using Python is to load in the relevant packages. Assigning abbreviations when importing packages, makes it easier to call the tools later. The abbreviations below are very common."
   ]
  },
  {
   "cell_type": "code",
   "execution_count": null,
   "id": "1c7314ba",
   "metadata": {},
   "outputs": [],
   "source": [
    "# load some key packages:\n",
    "import numpy as np                # a numerical package\n",
    "import pandas as pd               # a data analysis package\n",
    "import matplotlib.pyplot as plt   # a scientific plotting package\n",
    "\n",
    "# to display the plots in the same document\n",
    "%matplotlib inline"
   ]
  },
  {
   "cell_type": "markdown",
   "id": "70dbe75b",
   "metadata": {},
   "source": [
    "If the cell throws an error, you haven't probably intalled the required packages correctly. To install them open a terminal/command window and run: `conda install package_name`. \n",
    "\n",
    "As a demo of the language, we will plot sin and cos of a range of points on the same axis. The first step is to define the points: "
   ]
  },
  {
   "cell_type": "code",
   "execution_count": null,
   "id": "6c78aff2",
   "metadata": {},
   "outputs": [],
   "source": [
    "# define an array of points (start, end, by)\n",
    "x = np.arange(0,6*np.pi,0.1)\n",
    "\n",
    "# check the array\n",
    "print(x)"
   ]
  },
  {
   "cell_type": "code",
   "execution_count": null,
   "id": "915fd526",
   "metadata": {},
   "outputs": [],
   "source": [
    "# plot the sin of these points\n",
    "plt.plot(x, np.sin(x), 'blue')\n",
    "\n",
    "# plot the cos of these points\n",
    "plt.plot(x, np.cos(x),'red')\n",
    "\n",
    "# show that plot below\n",
    "plt.show()"
   ]
  },
  {
   "cell_type": "markdown",
   "id": "6844a42e",
   "metadata": {},
   "source": [
    "From this example you can see how tools from different packages are called using the abbreviations assigned at the beginning of the notebook. "
   ]
  },
  {
   "cell_type": "markdown",
   "id": "5aace18f",
   "metadata": {},
   "source": [
    "## NetCDF\n",
    "[NetCDF](#NetCDF) | [Summary stats](#Summary-stats) | [Time slices](#Time-slices) | [Multiple variables](#Multiple-variables) |[Multiple sites](#Multiple-sites) | [Using functions](#Using-functions)\n",
    "\n",
    "There are several different tools for working with netcdf data using python. This notebook focuses on xarray, because of its impressive time capabilities. To open the netcdf file, you need the Data URL which you can find at [THREDDS](http://hydromet-thredds.princeton.edu:9000/thredds). The URL goes in quotes because otherwise Python will think you are trying to call a variable that you already assigned a value to (like x in the example above)."
   ]
  },
  {
   "cell_type": "code",
   "execution_count": null,
   "id": "48f0b412",
   "metadata": {},
   "outputs": [],
   "source": [
    "# load the netcdf-handling package:\n",
    "import xarray as xr\n",
    "\n",
    "# from THREDDS server. \n",
    "data_url = 'http://hydromet-thredds.princeton.edu:9000/thredds/dodsC/MonitoringStations/butler.nc'\n",
    "\n",
    "# open the file and assign it the name: ds\n",
    "ds = xr.open_dataset(data_url)\n",
    "\n",
    "# check it out\n",
    "print(ds)"
   ]
  },
  {
   "cell_type": "markdown",
   "id": "1595313d",
   "metadata": {},
   "source": [
    "At this point you haven't pulled over any actual data, you just have a way of referencing the dataset. To get the data we select the variable that we are interested in -in this example we will use air temperature (AirTC_Avg). "
   ]
  },
  {
   "cell_type": "code",
   "execution_count": null,
   "id": "adfde5d4",
   "metadata": {},
   "outputs": [],
   "source": [
    "variable = 'AirTC_Avg'\n",
    "\n",
    "# check it out\n",
    "print(ds[variable])"
   ]
  },
  {
   "cell_type": "code",
   "execution_count": null,
   "id": "304080e8",
   "metadata": {},
   "outputs": [],
   "source": [
    "# plot all the data\n",
    "ds[variable].plot()"
   ]
  },
  {
   "cell_type": "markdown",
   "id": "65db334b",
   "metadata": {},
   "source": [
    "## Summary stats\n",
    "[NetCDF](#NetCDF) | [Summary stats](#Summary-stats) | [Time slices](#Time-slices) | [Multiple variables](#Multiple-variables) |[Multiple sites](#Multiple-sites) | [Using functions](#Using-functions)\n",
    "\n",
    "Once you have loaded the dataset and chosen a variable to look at, you can access lots more tools by converting it into a pandas.DataFrame object. With a dataframe you can create boxplots and compute the summary statistics on that variable over the entire span of the data."
   ]
  },
  {
   "cell_type": "code",
   "execution_count": null,
   "id": "3eb260af",
   "metadata": {},
   "outputs": [],
   "source": [
    "# convert to a pandas object and then to a dataframe\n",
    "df = ds[variable].to_pandas().to_frame(name=variable)\n",
    "\n",
    "# get a summary of the data including the percentiles listed\n",
    "df.describe(percentiles=[.1,.25,.5,.75,.9])"
   ]
  },
  {
   "cell_type": "markdown",
   "id": "733cdeb5",
   "metadata": {},
   "source": [
    "We can explore the annual temperature cycle by creating box plots for each month. We can control the whiskers and set them to .1 and .9 percentile (expressed as percentages so 10, 90). We can also eliminate outliers by setting sym='' (no symbol so they won't plot)."
   ]
  },
  {
   "cell_type": "code",
   "execution_count": null,
   "id": "b7d66020",
   "metadata": {},
   "outputs": [],
   "source": [
    "df['2012-06-03'].boxplot(column=variable, by=df['2012-06-03'].index.hour)\n",
    "# set the labels\n",
    "plt.xlabel(' ')\n",
    "plt.ylabel('Temperature [C]')\n",
    "plt.title('Monthly boxplots')\n",
    "plt.suptitle('')\n",
    "\n",
    "plt.show()"
   ]
  },
  {
   "cell_type": "code",
   "execution_count": null,
   "id": "49730f50",
   "metadata": {},
   "outputs": [],
   "source": [
    "# create a box plot\n",
    "df.boxplot(column=variable, by=df.index.month, whis= [10, 90], sym='')\n",
    "\n",
    "# set the labels\n",
    "plt.xlabel('month')\n",
    "plt.ylabel('Temperature [C]')\n",
    "plt.title('Monthly boxplots')\n",
    "plt.suptitle('')\n",
    "\n",
    "plt.show()"
   ]
  },
  {
   "cell_type": "markdown",
   "id": "f4904a9d",
   "metadata": {},
   "source": [
    "## Time slices\n",
    "[NetCDF](#NetCDF) | [Summary stats](#Summary-stats) | [Time slices](#Time-slices) | [Multiple variables](#Multiple-variables) |[Multiple sites](#Multiple-sites) | [Using functions](#Using-functions)\n",
    "\n",
    "We often are more interested in looking at one particular time, rather than the whole record. Here is one way to select a particular time range:"
   ]
  },
  {
   "cell_type": "code",
   "execution_count": null,
   "id": "2ea6b9a5",
   "metadata": {},
   "outputs": [],
   "source": [
    "# choose a date period (such as a month)\n",
    "a_month = ds[variable].sel(time='2016-01')\n",
    "\n",
    "# or grab the range between two specific days\n",
    "a_week =  ds[variable].sel(time=slice('2015-07-06', '2015-07-13'))\n",
    "\n",
    "# Create a figure with two subplots \n",
    "fig, axes = plt.subplots(ncols=2, nrows=1, figsize=(14,4))\n",
    "\n",
    "# plot the month of data in the first subplot\n",
    "a_month.plot(ax=axes[0])\n",
    "axes[0].set_title('A month')\n",
    "\n",
    "# plot the week of data in the first subplot\n",
    "a_week.plot(ax=axes[1])\n",
    "axes[1].set_title('A week')\n",
    "\n",
    "plt.show()"
   ]
  },
  {
   "cell_type": "markdown",
   "id": "232110b3",
   "metadata": {},
   "source": [
    "## Multiple variables\n",
    "[NetCDF](#NetCDF) | [Summary stats](#Summary-stats) | [Time slices](#Time-slices) | [Multiple variables](#Multiple-variables) |[Multiple sites](#Multiple-sites) | [Using functions](#Using-functions)\n",
    "\n",
    "To plot several variables over a defined period of time, we can use a list of variables, and a slice of time to generate a pandas.DataFrame. Converting to a pandas.DataFrame gives us lots of options for analysis, but it also means that we are going to load the data into local memory, so be careful how much data you try to load. This can get slow if you try to load all the variables for years of data being collected every minute. "
   ]
  },
  {
   "cell_type": "code",
   "execution_count": null,
   "id": "da8b12fe",
   "metadata": {},
   "outputs": [],
   "source": [
    "# slice the dataset by time and grab variables of interest\n",
    "vars_for_a_week = ds[['Rain_mm_3_Tot', 'VW']].sel(time=slice('2015-07-06', '2015-07-13'))\n",
    "print(vars_for_a_week)"
   ]
  },
  {
   "cell_type": "code",
   "execution_count": null,
   "id": "9c784876",
   "metadata": {},
   "outputs": [],
   "source": [
    "# convert to pandas.dataframe\n",
    "df = vars_for_a_week.to_dataframe()[['Rain_mm_3_Tot', 'VW']]\n",
    "df.head()"
   ]
  },
  {
   "cell_type": "code",
   "execution_count": null,
   "id": "abe32ce2",
   "metadata": {},
   "outputs": [],
   "source": [
    "# plot on left and right axes\n",
    "df.plot(secondary_y='Rain_mm_3_Tot', figsize=(12,4))\n",
    "\n",
    "# by setting the limits as (max, min) we flip the axis so that rain comes down from the top\n",
    "plt.ylim(12,0)\n",
    "plt.show()"
   ]
  },
  {
   "cell_type": "markdown",
   "id": "6a2fd028",
   "metadata": {},
   "source": [
    "## Multiple sites\n",
    "[NetCDF](#NetCDF) | [Summary stats](#Summary-stats) | [Time slices](#Time-slices) | [Multiple variables](#Multiple-variables) |[Multiple sites](#Multiple-sites) | [Using functions](#Using-functions)\n",
    "\n",
    "There are numerous situations in which you can imagine wanting to combine data from multiple monitoring stations. This can be a bit tricky because the data are recorded at different frequencies. For instance: Butler records hourly data, and Uppper Washington Stream records 1minute data. In this example we combine water levels from upstream, downstream, and the lake, and compare these to rainfall from Broadmead."
   ]
  },
  {
   "cell_type": "code",
   "execution_count": null,
   "id": "53d487b8",
   "metadata": {},
   "outputs": [],
   "source": [
    "data_url = 'http://hydromet-thredds.princeton.edu:9000/thredds/dodsC/MonitoringStations/broadmead.nc'\n",
    "ds = xr.open_dataset(data_url)\n",
    "broadmead_rain_ds = ds[['Rain_1_mm_Tot', 'Rain_2_mm_Tot']].sel(time=slice('2016-02-23', '2016-02-26'))\n",
    "broadmead_rain = broadmead_rain_ds.to_dataframe().drop(['lat','lon','station_name'], axis=1)\n",
    "ds.close()"
   ]
  },
  {
   "cell_type": "code",
   "execution_count": null,
   "id": "29cc0ffe",
   "metadata": {},
   "outputs": [],
   "source": [
    "data_url = 'http://hydromet-thredds.princeton.edu:9000/thredds/dodsC/MonitoringStations/washington_lake.nc'\n",
    "ds = xr.open_dataset(data_url)\n",
    "washington_lake_level_ds = ds['Lvl_cm_Avg'].sel(time=slice('2016-02-23', '2016-02-26'))\n",
    "washington_lake_level = washington_lake_level_ds.to_dataframe().drop(['lat','lon','station_name'], axis=1)\n",
    "ds.close()"
   ]
  },
  {
   "cell_type": "code",
   "execution_count": null,
   "id": "78d5d2c7",
   "metadata": {},
   "outputs": [],
   "source": [
    "data_url = 'http://hydromet-thredds.princeton.edu:9000/thredds/dodsC/MonitoringStations/washington_up.nc'\n",
    "ds = xr.open_dataset(data_url)\n",
    "washington_up_level_ds = ds['Corrected_cm_Avg'].sel(time=slice('2016-02-23', '2016-02-26'))\n",
    "washington_up_level = washington_up_level_ds.to_dataframe().drop(['lat','lon','station_name'], axis=1)\n",
    "ds.close()"
   ]
  },
  {
   "cell_type": "code",
   "execution_count": null,
   "id": "8eb58922",
   "metadata": {},
   "outputs": [],
   "source": [
    "data_url = 'http://hydromet-thredds.princeton.edu:9000/thredds/dodsC/MonitoringStations/washington_down.nc'\n",
    "ds = xr.open_dataset(data_url)\n",
    "washington_down_level_ds = ds['Corrected_cm_Avg'].sel(time=slice('2016-02-23', '2016-02-26'))\n",
    "washington_down_level = washington_down_level_ds.to_dataframe().drop(['lat','lon','station_name'], axis=1)\n",
    "ds.close()"
   ]
  },
  {
   "cell_type": "markdown",
   "id": "25ad7628",
   "metadata": {},
   "source": [
    "Compute storm depth by subtracting base depth (taken as the first value in the data for the selected time)"
   ]
  },
  {
   "cell_type": "code",
   "execution_count": null,
   "id": "5f450c95",
   "metadata": {},
   "outputs": [],
   "source": [
    "washington_up_storm = washington_up_level-washington_up_level.iloc[0,0]\n",
    "washington_down_storm = washington_down_level-washington_down_level.iloc[0,0]\n",
    "washington_lake_storm = washington_lake_level-washington_lake_level.iloc[0,0]"
   ]
  },
  {
   "cell_type": "markdown",
   "id": "a9f3ce45",
   "metadata": {},
   "source": [
    "Generate a presentation-quality plot and save it"
   ]
  },
  {
   "cell_type": "code",
   "execution_count": null,
   "id": "5d7dc55e",
   "metadata": {},
   "outputs": [],
   "source": [
    "# create a figure with 2 subplots \n",
    "fig, axes = plt.subplots(ncols=1, nrows=2, figsize=(12,10), sharex=True)\n",
    "\n",
    "broadmead_rain.plot(ax=axes[0], linewidth=2)\n",
    "washington_up_storm.plot(ax=axes[1], linewidth=2)\n",
    "washington_down_storm.plot(ax=axes[1], linewidth=2)\n",
    "washington_lake_storm.plot(ax=axes[1], linewidth=2)\n",
    "\n",
    "# set titles and legends\n",
    "plt.suptitle('Timing of Rainfall and Stream Depth peak during February Storm', fontsize=18)\n",
    "axes[0].set_title('Rainfall (mm)')\n",
    "axes[0].set_ylabel('5 min rain (mm)')\n",
    "\n",
    "axes[1].set_title('Stream level minus base level (cm)')\n",
    "axes[1].legend(['upstream','downstream', 'lake'])\n",
    "axes[1].set_ylabel('Storm depth (cm)')\n",
    "axes[1].set_xlabel('Time in UTC')\n",
    "\n",
    "# save fig to current folder\n",
    "plt.savefig('Rain and discharge.png')\n",
    "plt.show()"
   ]
  },
  {
   "cell_type": "markdown",
   "id": "990979d0",
   "metadata": {},
   "source": [
    "## Using functions\n",
    "[NetCDF](#NetCDF) | [Summary stats](#Summary-stats) | [Time slices](#Time-slices) | [Multiple variables](#Multiple-variables) |[Multiple sites](#Multiple-sites) | [Using functions](#Using-functions)\n",
    "\n",
    "You might have noticed that the way we pulled data from multiple datasets was redundant. To simplify this process, we can write a quick function that can be used to pull from any site, any variable and setting your own start and end times. To show how this works, we will use a function to compare tipping bucket rain gage data to disdrometer data."
   ]
  },
  {
   "cell_type": "code",
   "execution_count": null,
   "id": "406d9246",
   "metadata": {},
   "outputs": [],
   "source": [
    "def select(site, var, start, end):\n",
    "    \"\"\"\n",
    "    Select data from netcdf file hosted on the Princeton Hydrometeorology thredds server\n",
    "\n",
    "    Parameters\n",
    "    -----------\n",
    "    site: one of the monitoring stations in quotes ('broadmead')\n",
    "    var: one of the variables from this site in quotes ('Rain_1_mm_Tot'), \n",
    "         or a list of variables(['Hc', 'Hs'])\n",
    "    start: starting time for data.frame ('YYYY-MM-DD hh:mm:ss')\n",
    "    end: ending time for data.frame ('YYYY-MM-DD hh:mm:ss')\n",
    "\n",
    "    Returns\n",
    "    -------\n",
    "    df: pandas.DataFrame object with time index and the variable(s) as the column(s)\n",
    "    \"\"\"\n",
    "\n",
    "    import xarray as xr\n",
    "\n",
    "    data_url = 'http://hydromet-thredds.princeton.edu:9000/thredds/dodsC/MonitoringStations/'+ site+'.nc'\n",
    "    ds = xr.open_dataset(data_url)\n",
    "    _ds = ds[var].sel(time=slice(start, end))\n",
    "    df = _ds.to_dataframe().drop(['lat','lon','station_name'], axis=1)\n",
    "    ds.close()\n",
    "    return df"
   ]
  },
  {
   "cell_type": "markdown",
   "id": "d9b21ebe",
   "metadata": {},
   "source": [
    "Functions can be defined within a notebook as we did above, but it is often more helpful to save them in files that we can use again and again from anywhere. The above function is saved in a file called [select-time-slice.py](http://nbviewer.jupyter.org/github/jsignell/intro-to-netcdf/blob/master/select-time-slice.py). To load the function from there first make sure that you have downloaded the file and placed it in the current folder (right click and save to same folder as notebook), then you can use the function by importing the function from the package:\n",
    "\n",
    "    from select_time_slice import select\n",
    "\n",
    "If you forget how the function works, run: `select?` to see the documentation."
   ]
  }
 ],
 "metadata": {},
 "nbformat": 4,
 "nbformat_minor": 5
}
