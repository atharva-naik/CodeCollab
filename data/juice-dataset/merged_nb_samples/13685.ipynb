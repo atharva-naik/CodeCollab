{
 "cells": [
  {
   "cell_type": "markdown",
   "id": "0291125f",
   "metadata": {},
   "source": [
    "# Time spectral analysis\n",
    "\n",
    "* Purpose: Demo how to look at time spectral characteristics of SSH in daily data from OCCIPUT , ORCA12 and AVISO.\n",
    "* Goal in the 3DA context: compare the spectral content of the reconstructed SSH by AnDA and OI to the Truth: __Does AnDA do better than OI in the high frequencies?__\n",
    "* stephanie.leroux@ocean-next.fr\n",
    "* You can [get this notebook on github here](https://github.com/stephanieleroux/SHARED_NOTEBOOKS/blob/master/2019-04-09_SLX_timespectralanalysis_3DA-GMex.ipynb).\n"
   ]
  },
  {
   "cell_type": "code",
   "execution_count": null,
   "id": "77ef8409",
   "metadata": {},
   "outputs": [],
   "source": [
    "## standart libraries\n",
    "import os,sys,glob\n",
    "import numpy as np\n",
    "import numpy.ma as ma\n",
    "\n",
    "# xarray\n",
    "import xarray as xr\n",
    "\n",
    "# matplotlib\n",
    "import matplotlib.pyplot as plt\n",
    "    \n",
    "# Guillaume Serazin's XSCALE package: https://github.com/serazing/xscale\n",
    "# See the doc on the fft function and normalizations here: https://xscale.readthedocs.io/en/latest/fft.html\n",
    "import xscale.spectral.fft as xfft\n",
    "from xscale.spectral.tools import plot_spectrum\n",
    "import xscale.signal.generator as xgen\n",
    "\n",
    "# My custom module with plot tools for geographical maps\n",
    "import utils_SLX_plots_onw as slx \n",
    "\n",
    "# My custom module dealing with data on the MEOM server\n",
    "import SLX_tools as slxtools"
   ]
  },
  {
   "cell_type": "markdown",
   "id": "4c67eb5d",
   "metadata": {},
   "source": [
    "# Read data :"
   ]
  },
  {
   "cell_type": "markdown",
   "id": "39839163",
   "metadata": {},
   "source": [
    "* Read from datasets on the MEOM server"
   ]
  },
  {
   "cell_type": "code",
   "execution_count": null,
   "id": "47c37f31",
   "metadata": {},
   "outputs": [],
   "source": [
    "SSH_occi,nav_lon_occi,nav_lat_occi = slxtools.readOCCIPUTmb1()\n",
    "\n",
    "SSH_orca12,nav_lon_orca12,nav_lat_orca12 = slxtools.readORCA12()\n",
    "\n",
    "SSH_aviso,lon_aviso,lat_aviso = slxtools.readAVISO()"
   ]
  },
  {
   "cell_type": "markdown",
   "id": "c4063087",
   "metadata": {},
   "source": [
    "* Select 2004 data only, and __center the data by removing mean__\n",
    "\n",
    "_Note: The SSH simulated in the model is relative, so it is not necessarily  centered exactly on the same zero from one simulation to another. A quick fix to deal with this aspect is that you can remove the time-space mean of the SSH from OCCIPUT and from ORCA12 before performing your analysis._"
   ]
  },
  {
   "cell_type": "code",
   "execution_count": null,
   "id": "7c4d47e4",
   "metadata": {},
   "outputs": [],
   "source": [
    "SSH_occi_c   = SSH_occi.sel(time_counter='2004') - SSH_occi.sel(time_counter='2004').mean()\n",
    "\n",
    "SSH_orca12_c = SSH_orca12.sel(time_counter='2004') - SSH_orca12.sel(time_counter='2004').mean()\n",
    "\n",
    "SSH_aviso_c  = SSH_aviso - SSH_aviso.mean() "
   ]
  },
  {
   "cell_type": "markdown",
   "id": "60c42b6e",
   "metadata": {},
   "source": [
    "# Define boundaries for the zoom region"
   ]
  },
  {
   "cell_type": "markdown",
   "id": "fa26538d",
   "metadata": {},
   "source": [
    "* Define boundaries:"
   ]
  },
  {
   "cell_type": "code",
   "execution_count": null,
   "id": "5fb86724",
   "metadata": {},
   "outputs": [],
   "source": [
    "lonlatbounds=  np.zeros((1, 4))  # lonmin,lonmax,latmin,latmax \n",
    "\n",
    "# Here: entire Gulf of Mexico\n",
    "lonlatbounds[0,0] = -99.\n",
    "lonlatbounds[0,1] = -81.9\n",
    "lonlatbounds[0,2] = 18.\n",
    "lonlatbounds[0,3] = 31."
   ]
  },
  {
   "cell_type": "markdown",
   "id": "db382f74",
   "metadata": {},
   "source": [
    "* Initialize my general plot settings "
   ]
  }
 ],
 "metadata": {},
 "nbformat": 4,
 "nbformat_minor": 5
}
