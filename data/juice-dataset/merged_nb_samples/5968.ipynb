{
 "cells": [
  {
   "cell_type": "markdown",
   "id": "751a5579",
   "metadata": {},
   "source": [
    "# Project Composer Diversity"
   ]
  },
  {
   "cell_type": "code",
   "execution_count": null,
   "id": "54b6afcd",
   "metadata": {},
   "outputs": [],
   "source": [
    "import re\n",
    "import io\n",
    "import json\n",
    "from datetime import datetime\n",
    "import urllib\n",
    "from urllib.parse import quote, unquote\n",
    "\n",
    "import pandas as pd\n",
    "import requests\n",
    "from jinja2 import Template\n",
    "\n",
    "import pandas as pd\n",
    "pd.set_option('display.max_colwidth', -1)\n",
    "\n",
    "import recordlinkage"
   ]
  },
  {
   "cell_type": "code",
   "execution_count": null,
   "id": "763182b7",
   "metadata": {},
   "outputs": [],
   "source": [
    "%run -i startup.ipy"
   ]
  },
  {
   "cell_type": "markdown",
   "id": "d9a80af8",
   "metadata": {},
   "source": [
    "## Extract data from the Composer Diversity page"
   ]
  },
  {
   "cell_type": "markdown",
   "id": "c39aef84",
   "metadata": {},
   "source": [
    "The data is inside the javascript callled on the main page, not the HTML itself, so we need to parse it."
   ]
  },
  {
   "cell_type": "code",
   "execution_count": null,
   "id": "1dfdd67d",
   "metadata": {},
   "outputs": [],
   "source": [
    "resp = requests.request('GET', 'https://composerdiversity.com/dist/build.js')"
   ]
  },
  {
   "cell_type": "code",
   "execution_count": null,
   "id": "100adeb6",
   "metadata": {},
   "outputs": [],
   "source": [
    "for line in io.StringIO(resp.content.decode()):\n",
    "    if 'module.exports' in line and 'labelI18nKey' in line:\n",
    "        pattern = re.match(r\".*(\\[\\{.*\\}\\]).*\", line).group(1)\n",
    "        break\n",
    "headers = json.loads(pattern)\n",
    "headers = [h.get('class') for h in headers][:-5] + ['region1', 'region2',\n",
    "                                                    'country', 'url']"
   ]
  },
  {
   "cell_type": "code",
   "execution_count": null,
   "id": "db284119",
   "metadata": {},
   "outputs": [],
   "source": [
    "for line in io.StringIO(resp.content.decode()):\n",
    "    if 'module.exports' in line and 'Composer Diversity Database' in line:\n",
    "        pattern = re.match(r\".*(\\[\\[.*\\]\\]).*\", line).group(1)\n",
    "        break        \n",
    "table = json.loads(pattern)\n",
    "diversity_df = pd.DataFrame(table, columns=headers)"
   ]
  },
  {
   "cell_type": "code",
   "execution_count": null,
   "id": "2c72464c",
   "metadata": {},
   "outputs": [],
   "source": [
    "diversity_df.shape"
   ]
  },
  {
   "cell_type": "markdown",
   "id": "4da373f2",
   "metadata": {},
   "source": [
    "Split death year from artist name and replace it in the \"dead\" column"
   ]
  },
  {
   "cell_type": "code",
   "execution_count": null,
   "id": "b8f41340",
   "metadata": {},
   "outputs": [],
   "source": [
    "for idx, artist in diversity_df.iterrows():\n",
    "    if 'd.' in artist['name']:\n",
    "        death_year = artist['name'].split(' (d.')[1].strip()[:-1]\n",
    "        artist['name'] = artist['name'].split(' (d.')[0]\n",
    "        artist['dead'] = death_year"
   ]
  },
  {
   "cell_type": "markdown",
   "id": "f97386d1",
   "metadata": {},
   "source": [
    "Fix URLs"
   ]
  },
  {
   "cell_type": "code",
   "execution_count": null,
   "id": "ccb38cb9",
   "metadata": {},
   "outputs": [],
   "source": [
    "diversity_df.url = diversity_df.url.apply(lambda url: unquote(url) if url else None)"
   ]
  },
  {
   "cell_type": "code",
   "execution_count": null,
   "id": "6a240967",
   "metadata": {},
   "outputs": [],
   "source": [
    "diversity_df.head()"
   ]
  },
  {
   "cell_type": "markdown",
   "id": "d789dab4",
   "metadata": {},
   "source": [
    "## Find artists in MB collection and not in Diversity DB"
   ]
  },
  {
   "cell_type": "markdown",
   "id": "06d2d74c",
   "metadata": {},
   "source": [
    "https://musicbrainz.org/ws/2/collection/2d5b6052-9f4b-49c1-8e86-2c83cdc3b6e3/artists?fmt=json\n",
    "\n",
    "https://musicbrainz.org/ws/2/artist?collection=2d5b6052-9f4b-49c1-8e86-2c83cdc3b6e3&fmt=json\n"
   ]
  },
  {
   "cell_type": "code",
   "execution_count": null,
   "id": "3c0056bf",
   "metadata": {},
   "outputs": [],
   "source": [
    "collection = resp['artists']\n",
    "collection_size = resp['artist-count']\n",
    "print(collection_size)"
   ]
  },
  {
   "cell_type": "code",
   "execution_count": null,
   "id": "602519c7",
   "metadata": {},
   "outputs": [],
   "source": [
    "collection[0]"
   ]
  },
  {
   "cell_type": "code",
   "execution_count": null,
   "id": "61df6b4e",
   "metadata": {},
   "outputs": [],
   "source": [
    "for idx in range(1, (collection_size) // 100 + 1):\n",
    "    resp = requests.request(\n",
    "        'GET', \n",
    "        f'{ws}/collection/{collection_mbid}/artists?fmt=json&limit=100&offset={100*idx}').json()\n",
    "    collection.extend(resp['artists'])"
   ]
  },
  {
   "cell_type": "code",
   "execution_count": null,
   "id": "824973b7",
   "metadata": {},
   "outputs": [],
   "source": [
    "collection_df = pd.DataFrame(collection)\n",
    "del collection_df['disambiguation']\n",
    "collection_df['url'] = collection_df['id'].apply(mb_artist_link)\n",
    "del collection_df['id']"
   ]
  },
  {
   "cell_type": "code",
   "execution_count": null,
   "id": "f80892c9",
   "metadata": {},
   "outputs": [],
   "source": [
    "collection_df.shape"
   ]
  },
  {
   "cell_type": "code",
   "execution_count": null,
   "id": "9c93e75f",
   "metadata": {},
   "outputs": [],
   "source": [
    "collection_df.head()"
   ]
  },
  {
   "cell_type": "markdown",
   "id": "bf6dd73d",
   "metadata": {},
   "source": [
    "We attempt a record linkage (finding artists with the same sorted name in the diversity project webpage and the musicbrainz collection), using the jarowinkler algorithm (artists are the same if the similarity computed on names is > 95%)"
   ]
  },
  {
   "cell_type": "code",
   "execution_count": null,
   "id": "b42dc286",
   "metadata": {},
   "outputs": [],
   "source": [
    "THRESHOLD = 0.95"
   ]
  },
  {
   "cell_type": "code",
   "execution_count": null,
   "id": "25a358cc",
   "metadata": {},
   "outputs": [],
   "source": [
    "# Indexation step\n",
    "indexer = recordlinkage.Index()\n",
    "indexer.full()\n",
    "pairs = indexer.index(diversity_df, collection_df)\n",
    "print(len(pairs))\n",
    "\n",
    "# Comparison step\n",
    "compare_cl = recordlinkage.Compare()\n",
    "compare_cl.string('name', 'sort-name', method='jarowinkler', \n",
    "                  threshold=THRESHOLD, label='name')\n",
    "features = compare_cl.compute(pairs, diversity_df, collection_df)\n",
    "\n",
    "# Classification step\n",
    "linkage = []\n",
    "for (idx0, idx1) in features[features.sum(axis=1) > 0].index:\n",
    "    linkage.append([\n",
    "        diversity_df.loc[idx0]['name'],\n",
    "        collection_df.loc[idx1]['sort-name'],\n",
    "        collection_df.loc[idx1]['url'],\n",
    "    ])\n",
    "\n",
    "collection_linkage = pd.DataFrame(linkage, columns=['DP name', 'MB sortname', 'mbid'])\n",
    "print(collection_linkage.shape)"
   ]
  },
  {
   "cell_type": "markdown",
   "id": "82e051c1",
   "metadata": {},
   "source": [
    "We found 149 common names."
   ]
  },
  {
   "cell_type": "code",
   "execution_count": null,
   "id": "f27f489d",
   "metadata": {},
   "outputs": [],
   "source": [
    "print(len(set(collection_linkage['DP name'])))\n",
    "print(len(set(collection_linkage['mbid'])))"
   ]
  },
  {
   "cell_type": "markdown",
   "id": "524efdf0",
   "metadata": {},
   "source": [
    "Actually we have only 148 distinct MB entities on one side so at least one record link is wrong"
   ]
  },
  {
   "cell_type": "markdown",
   "id": "8844508f",
   "metadata": {},
   "source": [
    "Escape URLs with single quote in them"
   ]
  },
  {
   "cell_type": "code",
   "execution_count": null,
   "id": "b795902f",
   "metadata": {},
   "outputs": [],
   "source": [
    "dp_urls = diversity_df.url[~diversity_df.url.isnull()]\n",
    "dp_urls = dp_urls.str.replace(\"'\", \"''\")\n",
    "dp_urls = dp_urls.apply(lambda s: unquote(s))"
   ]
  },
  {
   "cell_type": "code",
   "execution_count": null,
   "id": "0c9f61c9",
   "metadata": {},
   "outputs": [],
   "source": [
    "print(dp_urls[797])\n",
    "print(dp_urls[876])"
   ]
  },
  {
   "cell_type": "markdown",
   "id": "2dd0a3d4",
   "metadata": {},
   "source": [
    "Number of links for various sites:"
   ]
  },
  {
   "cell_type": "code",
   "execution_count": null,
   "id": "d82192be",
   "metadata": {},
   "outputs": [],
   "source": [
    "print(f\"Wikidata links: {len(dp_urls[dp_urls.str.match('.*wikidata.*')])}\")\n",
    "print(f\"Google links: {len(dp_urls[dp_urls.str.match('.*google.*')])}\")\n",
    "print(f\"Wikipedia links: {len(dp_urls[dp_urls.str.match('.*wikipedia.*')])}\")"
   ]
  },
  {
   "cell_type": "code",
   "execution_count": null,
   "id": "9824d060",
   "metadata": {},
   "outputs": [],
   "source": [
    "link_from_url = sql(\"\"\"\n",
    "SELECT artist.name, \n",
    "       artist.gid AS url\n",
    "  FROM artist\n",
    "  JOIN l_artist_url AS lau ON lau.entity0 = artist.id\n",
    "  JOIN url                 ON lau.entity1 = url.id\n",
    " WHERE url IN ('%s');\n",
    "\"\"\" % \"', '\".join(dp_urls.tolist()))\n",
    "link_from_url['url'] = link_from_url['url'].apply(mb_artist_link)\n",
    "print(link_from_url.shape)\n",
    "link_from_url.head()"
   ]
  },
  {
   "cell_type": "markdown",
   "id": "5c896337",
   "metadata": {},
   "source": [
    "517 links, but probably some are missed (e.g. wikipedia in Diversity Project vs wikidata for MusicBrainz)"
   ]
  },
  {
   "cell_type": "markdown",
   "id": "c8d77b1e",
   "metadata": {},
   "source": [
    "## Full search in MusicBrainz database"
   ]
  },
  {
   "cell_type": "markdown",
   "id": "39f9cc57",
   "metadata": {},
   "source": [
    "From MusicBrainz we restrict the search to artists who are:\n",
    "- a person\n",
    "- not male\n",
    "\n",
    "so we will be missing some results for the Diversity database."
   ]
  },
  {
   "cell_type": "code",
   "execution_count": null,
   "id": "28f96a59",
   "metadata": {},
   "outputs": [],
   "source": [
    "mb_df = sql(\"\"\"\n",
    "SELECT artist.sort_name AS name, area.name AS country, artist.gid\n",
    "  FROM artist\n",
    "  LEFT OUTER JOIN area ON area.id = artist.area\n",
    " WHERE artist.type = 1\n",
    "   AND artist.gender != 1\n",
    "ORDER BY name;\n",
    "\"\"\")"
   ]
  },
  {
   "cell_type": "code",
   "execution_count": null,
   "id": "3a037a5b",
   "metadata": {},
   "outputs": [],
   "source": [
    "mb_df.head(10)"
   ]
  },
  {
   "cell_type": "markdown",
   "id": "9e0ff584",
   "metadata": {},
   "source": [
    "Let's look for similarities with the recordlinkage library"
   ]
  },
  {
   "cell_type": "code",
   "execution_count": null,
   "id": "e59a68a5",
   "metadata": {},
   "outputs": [],
   "source": [
    "# Indexation step\n",
    "indexer = recordlinkage.index.SortedNeighbourhoodIndex('name', window=9)\n",
    "pairs = indexer.index(diversity_df, mb_df)\n",
    "print(len(pairs))"
   ]
  },
  {
   "cell_type": "markdown",
   "id": "fea9dd86",
   "metadata": {},
   "source": [
    "Comparison algorithm should take into account sex and date of death when known."
   ]
  },
  {
   "cell_type": "code",
   "execution_count": null,
   "id": "a61bb46e",
   "metadata": {},
   "outputs": [],
   "source": [
    "# Comparison step\n",
    "compare_cl = recordlinkage.Compare()\n",
    "compare_cl.string('name', 'name', method='jarowinkler', \n",
    "                  threshold=0.95, label='name')\n",
    "#compare_cl.string('country', 'country', method='jarowinkler', \n",
    "#                  threshold=0.85, label='country')\n",
    "features = compare_cl.compute(pairs, diversity_df, mb_df)\n",
    "features[features.sum(axis=1) > 0].shape"
   ]
  },
  {
   "cell_type": "code",
   "execution_count": null,
   "id": "0832712b",
   "metadata": {},
   "outputs": [],
   "source": [
    "# Classification step\n",
    "linkage = []\n",
    "for (idx0, idx1) in features[features.sum(axis=1) > 0].index:\n",
    "    linkage.append([\n",
    "        diversity_df.loc[idx0]['name'],\n",
    "        mb_df.loc[idx1]['name'],\n",
    "        mb_artist_link(mb_df.loc[idx1]['gid']),\n",
    "        diversity_df.loc[idx0]['country'],\n",
    "        mb_df.loc[idx1]['country'],\n",
    "        diversity_df.loc[idx0]['url'],\n",
    "    ])"
   ]
  },
  {
   "cell_type": "code",
   "execution_count": null,
   "id": "a3b515fe",
   "metadata": {},
   "outputs": [],
   "source": [
    "linkage = pd.DataFrame(linkage, columns=['DP name', 'MB name', 'MBID',\n",
    "                                         'DP country', 'MB area', 'DP url'])\n",
    "linkage.head()"
   ]
  },
  {
   "cell_type": "markdown",
   "id": "87029c17",
   "metadata": {},
   "source": [
    "## HTML output"
   ]
  },
  {
   "cell_type": "code",
   "execution_count": null,
   "id": "1f694e6d",
   "metadata": {},
   "outputs": [],
   "source": [
    "def f(s):\n",
    "    url = f\"https://musicbrainz.org/artist/create?name={quote(s['name'])}&sort_name={quote(s['name'])}\"\n",
    "    if s['male']:\n",
    "        url += \"&gender_id=1\"\n",
    "    elif s['female']:\n",
    "        url += \"&gender_id=2\"\n",
    "    if s['country']:\n",
    "        url += f\"&area.name={quote(s['country'])}\"\n",
    "    if s['dead']:\n",
    "        url += f\"&period.end_date.year={s['dead']}\"\n",
    "    if s['url']:\n",
    "        url += f\"&edit_note={quote(s['url'])}\"\n",
    "    return url\n",
    "diversity_df['add to MB'] = diversity_df.apply(f, axis=1).apply(lambda s: f'<a href=\"{s}\">add to MB</a>')"
   ]
  },
  {
   "cell_type": "code",
   "execution_count": null,
   "id": "b102e34e",
   "metadata": {},
   "outputs": [],
   "source": [
    "template = Template(\"\"\"\n",
    "<!doctype html>\n",
    "\n",
    "<html lang=\"en\">\n",
    "  <head>\n",
    "    <meta charset=\"utf-8\">\n",
    "    <title>Community Project: Composer Diversity</title>\n",
    "    <link href=\"https://maxcdn.bootstrapcdn.com/bootstrap/4.0.0/css/bootstrap.min.css\" \n",
    "          rel=\"stylesheet\" \n",
    "          integrity=\"sha384-Gn5384xqQ1aoWXA+058RXPxPg6fy4IWvTNh0E263XmFcJlSAwiGgFAW/dAiS6JXm\" \n",
    "          crossorigin=\"anonymous\">\n",
    "  </head>\n",
    "\n",
    "  <body style=\"margin: 20px;\">\n",
    "    <h1>Composer Diversity</h1>\n",
    "    \n",
    "    <a href=\"https://composerdiversity.com/\">\n",
    "      Composer Diversity homepage\n",
    "    </a>\n",
    "    <br />\n",
    "    <a href=\"https://community.metabrainz.org/t/project-composer-diversity-ex-womens-composer-database/387801/5\">\n",
    "      Forum link\n",
    "    </a>\n",
    "    <br />\n",
    "    <a href=\"https://wiki.musicbrainz.org/Project_Composer_Diversity\">\n",
    "      Wiki link\n",
    "    </a>\n",
    "    <br />\n",
    "    <a href=\"https://musicbrainz.org/collection/2d5b6052-9f4b-49c1-8e86-2c83cdc3b6e3\">\n",
    "      Collection link\n",
    "    </a>    \n",
    "    \n",
    "    <p>Latest update: {{ datetime.utcnow().isoformat()[:19] }}</p>\n",
    "    <p>Latest MusicBrainz database update: {{ mb_database_version() }}</p>\n",
    "    \n",
    "    <ol>\n",
    "      <li><a href=\"#collection\">MusicBrainz public collection</a></li>\n",
    "      <li><a href=\"#linkage\">Record linkage with collection</a></li>\n",
    "      <li><a href=\"#missing\">Missing in Diversity Project</a></li>\n",
    "      <li><a href=\"#linkage2\">Record linkage through URLs</a></li>\n",
    "      <li><a href=\"#linkage3\">Record linkage with MusicBrainz dump</a></li>\n",
    "      <li><a href=\"#fulllist\">Full list</a></li>\n",
    "    </ol>\n",
    "\n",
    "    <h2 id=\"collection\">MusicBrainz Public collection</h2>\n",
    "    <p>The public MB collection has {{ collection_df.shape[0] }} Artists.</p>\n",
    "    {{ collection_df.to_html(index=True) }}\n",
    "\n",
    "    <h2 id=\"linkage\">Record linkage with collection</h2>\n",
    "    <p>{{ collection_linkage.shape[0] }} linked artists based only on artist names.</p>\n",
    "    {{ collection_linkage.to_html(index=True) }}\n",
    "    \n",
    "    <h2 id=\"missing\">Missing in Diversity Project</h2>\n",
    "    <p>{{ missing_from_dp.shape[0] }} artists in the MB collection \n",
    "       and not found in The Diversity Project.</p>\n",
    "    {{ missing_from_dp.to_html(index=True) }}\n",
    "\n",
    "    <h2 id=\"linkage2\">Record linkage through URLs</h2>\n",
    "    <p>{{ link_from_url.shape[0] }} common artists found by matching URLs.</p>\n",
    "    {{ link_from_url.to_html(index=True) }}\n",
    "    \n",
    "    <h2 id=\"linkage3\">Record linkage with MusicBrainz dump</h2>\n",
    "    {{ linkage.to_html(index=True) }}\n",
    "    \n",
    "    <h2 id=\"fulllist\">Full Diversity Project list</h2>\n",
    "    {{ diversity_df[['name', 'country', 'url', 'add to MB']].to_html(index=True) }}\n",
    "  </body>\n",
    "</html>\n",
    "\"\"\")\n",
    "\n",
    "with open('docs/composer-diversity.html', 'w') as fdout:\n",
    "    fdout.write(template.render(**globals())\n",
    "            .replace('&lt;', '<').replace('&gt;', '>')\n",
    "            .replace('class=\"dataframe\"', 'class=\"table table-striped table-hover table-sm\"')\n",
    "            .replace('thead', 'thead class=\"thead-light\"'))"
   ]
  },
  {
   "cell_type": "markdown",
   "id": "c598c734",
   "metadata": {},
   "source": [
    "## WaPo 35 top female composers "
   ]
  },
  {
   "cell_type": "markdown",
   "id": "b94d3d3c",
   "metadata": {},
   "source": [
    "https://www.washingtonpost.com/entertainment/music/the-top-women-composers-in-classical-music/2017/08/04/319274d4-76f2-11e7-803f-a6c989606ac7_story.html"
   ]
  },
  {
   "cell_type": "code",
   "execution_count": null,
   "id": "6bcbe3f5",
   "metadata": {},
   "outputs": [],
   "source": [
    "collection_linkage.head()"
   ]
  },
  {
   "cell_type": "markdown",
   "id": "168f6b62",
   "metadata": {},
   "source": [
    "We deduce the list of artists present in the collection and missing from the Diversity Project: "
   ]
  },
  {
   "cell_type": "code",
   "execution_count": null,
   "id": "2246a804",
   "metadata": {},
   "outputs": [],
   "source": [
    "missing_from_dp = collection_df[~collection_df['sort-name'].isin(\n",
    "    set(collection_linkage['MB sortname'])\n",
    ")][['sort-name', 'url']]\n",
    "print(missing_from_dp.shape)\n",
    "missing_from_dp.head()"
   ]
  },
  {
   "cell_type": "markdown",
   "id": "4fa42879",
   "metadata": {},
   "source": [
    "## Link through URLs in db"
   ]
  },
  {
   "cell_type": "code",
   "execution_count": null,
   "id": "f88b4ebe",
   "metadata": {},
   "outputs": [],
   "source": [
    "ws = 'https://musicbrainz.org/ws/2'\n",
    "collection_mbid = '2d5b6052-9f4b-49c1-8e86-2c83cdc3b6e3'"
   ]
  },
  {
   "cell_type": "code",
   "execution_count": null,
   "id": "c50537f7",
   "metadata": {},
   "outputs": [],
   "source": [
    "resp = requests.request(\n",
    "    'GET', \n",
    "    f'{ws}/collection/{collection_mbid}/artists?fmt=json&limit=100').json()"
   ]
  },
  {
   "cell_type": "code",
   "execution_count": null,
   "id": "f6c7d1c6",
   "metadata": {},
   "outputs": [],
   "source": [
    "composers = [\n",
    "    \"Meredith Monk\",\n",
    "    \"Caroline Shaw\",\n",
    "    \"Joan Tower\",\n",
    "    \"Kaija Saariaho\",\n",
    "    \"Pauline Oliveros\",\n",
    "    \"Julia Wolfe\",\n",
    "    \"Sofia Gubaidulina\",\n",
    "    \"Missy Mazzoli\",\n",
    "    \"Jennifer Higdon\",\n",
    "    \"Lili Boulanger\",\n",
    "    \"Augusta Read Thomas\",\n",
    "    \"Germaine Tailleferre\",\n",
    "    \"Ruth Crawford Seeger\",\n",
    "    \"Du Yun\",\n",
    "    \"Anna Clyne\",\n",
    "    \"Anna Thorvaldsdottir\",\n",
    "    \"Lera Auerbach\",\n",
    "    \"Paola Prestini\",\n",
    "    \"Unsuk Chin\",\n",
    "    \"Eve Beglarian\",\n",
    "    \"Sarah Kirkland Snider\",\n",
    "    \"Laura Kaminsky\",\n",
    "    \"Gabriela Lena Frank\",\n",
    "    \"Lisa Bielawa\",\n",
    "    \"Melinda Wagner\",\n",
    "    \"Galina Ustvolskaya\",\n",
    "    \"Shulamit Ran\",\n",
    "    \"Chen Yi\",\n",
    "    \"Amy Beach\",\n",
    "    \"Valerie Coleman\",\n",
    "    \"Libby Larsen\",\n",
    "    \"Florence Price\",\n",
    "    \"Gloria Coates\",\n",
    "    \"Judith Weir\",\n",
    "    \"Cécile Chaminade\",\n",
    "]"
   ]
  },
  {
   "cell_type": "code",
   "execution_count": null,
   "id": "f83b0a43",
   "metadata": {},
   "outputs": [],
   "source": [
    "df = sql(\"\"\"\n",
    "SELECT name, sort_name, gid AS mbid, begin_date_year FROM artist\n",
    " WHERE name IN ('%s')\n",
    "ORDER BY name;\n",
    "\"\"\" % \"', '\".join(composers))\n",
    "df.head()"
   ]
  },
  {
   "cell_type": "markdown",
   "id": "217be764",
   "metadata": {},
   "source": [
    "Composers not found with exact name matching:"
   ]
  }
 ],
 "metadata": {},
 "nbformat": 4,
 "nbformat_minor": 5
}
