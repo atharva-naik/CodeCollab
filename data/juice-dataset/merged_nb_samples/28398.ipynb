{
 "cells": [
  {
   "cell_type": "markdown",
   "id": "f52f8e34",
   "metadata": {},
   "source": [
    "# Data wrangling and Analysis about OpenStreetMap in Zurich:\n",
    "1. Data wrangling process\n",
    "2. Import data\n",
    "3. Overview of data files\n",
    "4. Overview of users\n",
    "5. Data creation\n",
    " - Timeline \n",
    " - The number of ways and nodes changed by different computer programs\n",
    "6. Overview of nodes and ways\n",
    " - What are the most common keys for node_tags and way_tags?\n",
    " - What are the most common values for node_tags and way_tags?\n",
    " - Who contribute most for nodes and ways?\n",
    " - How many tags for one node or one tag? \n",
    " - What are the nodes with most and second most tags?\n",
    " - What are the ways with most and second most tags?\n",
    "7. Explore the map of Zurich\n",
    " - Type of street names\n",
    " - Number of data in each canton and each district\n",
    " - Restaurants types, locations and opening on Sunday\n",
    " - Most seen natural scene\n",
    " - The most common area code for phone number\n",
    " - The most common postcode in the address\n",
    "8. Appendix\n",
    " - Decisions made in wrangling data \n",
    " - Fields without consistent format and didn't process\n",
    " - Suggestions for improving and analyzing the data\n",
    "\n",
    "## Data Wrangling process:\n",
    "1. Use `get_element.py` to generate data with only 1/10 and 1/100000 size of original data.\n",
    "2. Use `key_overview.py` to generate to look what are the keys and the values as a reference for further processing.\n",
    "3. Use `exam.py` to look what types of value would appear in the tag I am going to modify. \n",
    "4. Functions used for data processing are all in `clean_format.py` and `is_in.py`.\n",
    "5. Use `functions.py` to run the whole process.\n",
    "6. Out put files are:\n",
    " - nodes.csv\n",
    " - nodes_tags.csv\n",
    " - ways.csv\n",
    " - ways_nodes.csv\n",
    " - ways_tags.csv\n",
    "7. use sqlite3 to combine all csv files into a data base: `OpenStreetMap.db`\n",
    "8. Do exploratory data analysis using Jupyter notebook.  "
   ]
  },
  {
   "cell_type": "markdown",
   "id": "5961ea0a",
   "metadata": {},
   "source": [
    "## Import data"
   ]
  },
  {
   "cell_type": "code",
   "execution_count": null,
   "id": "70b7f4cd",
   "metadata": {},
   "outputs": [],
   "source": [
    "import sqlite3\n",
    "import pandas as pd\n",
    "import numpy as np\n",
    "import matplotlib.pyplot as plt\n",
    "% matplotlib inline\n",
    "import seaborn as sns\n",
    "import plotly.plotly as py # interactive graphing\n",
    "import plotly.tools as tls\n",
    "tls.set_credentials_file(username='XXXXX', api_key='XXXXXX')\n",
    "tls.embed(\"https://plot.ly/~streaming-demos/4\")\n",
    "from plotly.offline import download_plotlyjs, init_notebook_mode, plot, iplot\n",
    "init_notebook_mode(connected=True)\n",
    "from plotly.graph_objs import Bar, Scatter, Marker, Layout \n",
    "import plotly.graph_objs as go\n",
    "from time import time\n",
    "import re\n",
    "\n",
    "import requests\n",
    "from bs4 import BeautifulSoup\n",
    "from collections import defaultdict\n",
    "import gmaps\n",
    "import gmaps.datasets\n",
    "api='XXXX'\n",
    "\n",
    "db = sqlite3.connect(\"HH2.db\")\n",
    "# another way to initialize database:\n",
    "# db = create_engine('sqlite:///311_8M.db') # Initializes database with filename 311_8M.db in current directory\n",
    "# use cursor\n",
    "# c = db.cursor()\n",
    "# c.execute(\"select * from ways_tags where key='highway'\")\n",
    "# c.fetchall()"
   ]
  },
  {
   "cell_type": "markdown",
   "id": "4e9e5fdf",
   "metadata": {},
   "source": [
    "## Overview of data files:\n",
    "* nodes.csv: 212.5 MB\n",
    "* nodes_tags.csv: 15.9 MB\n",
    "* ways.csv: 24.6 MB\n",
    "* ways_tags.csv: 43.1 MB\n",
    "* ways_nodes.csv: 77.6 MB\n",
    "* OpenStreetMap.db (database includes all files above): 331.5 MB\n",
    "* raw osm file: 611.5 MB"
   ]
  },
  {
   "cell_type": "code",
   "execution_count": null,
   "id": "3b7b8957",
   "metadata": {},
   "outputs": [],
   "source": [
    "## number of lines in each file\n",
    "line_nodes = pd.read_sql_query('SELECT count() FROM nodes',db)['count()']\n",
    "line_nodes_tags = pd.read_sql_query('SELECT count() FROM nodes_tags',db)['count()']\n",
    "line_ways = pd.read_sql_query('SELECT count() FROM ways',db)['count()']\n",
    "line_ways_tags = pd.read_sql_query('SELECT count() FROM ways_tags',db)['count()']\n",
    "line_ways_nodes = pd.read_sql_query('SELECT count() FROM ways_nodes',db)['count()']\n",
    "dic_data = {'nodes':line_nodes,'nodes_tags':line_nodes_tags,'ways':line_ways,'ways_tags':line_ways_tags,'ways_nodes':line_ways_nodes}\n",
    "df_data = pd.DataFrame(dic_data)\n",
    "df_data"
   ]
  },
  {
   "cell_type": "markdown",
   "id": "22b5fe98",
   "metadata": {},
   "source": [
    "## Overview of users:"
   ]
  },
  {
   "cell_type": "code",
   "execution_count": null,
   "id": "0888f9a5",
   "metadata": {},
   "outputs": [],
   "source": [
    "c = db.cursor()\n",
    "# number of unique users:\n",
    "c.execute('SELECT count(uid) FROM (SELECT uid FROM nodes UNION SELECT uid FROM ways)')\n",
    "print 'Number of unique users:', c.fetchall()\n",
    "# number of users contribute only once:\n",
    "c.execute('SELECT count() FROM\\\n",
    "          (SELECT uid, count() as num \\\n",
    "          FROM (SELECT uid, id FROM nodes UNION ALL SELECT uid, id FROM ways)\\\n",
    "          GROUP BY uid ORDER BY num DESC)  \\\n",
    "          WHERE num=1' \n",
    "         )\n",
    "print 'Number of users only contribute once', c.fetchall()\n",
    "# users contribute most to nodes:\n",
    "user_node = pd.read_sql_query('SELECT user, count() as num FROM nodes GROUP BY uid ORDER BY num DESC LIMIT 10',db)\n",
    "# users contribute most to ways:\n",
    "user_way = pd.read_sql_query('SELECT user, count() as num FROM ways GROUP BY uid ORDER BY num DESC LIMIT 10',db)\n",
    "# plot\n",
    "graph1 = go.Bar(x=user_node.user, y=user_node.num, name='node-user')\n",
    "graph2 = go.Bar(x=user_way.user, y=user_way.num, name='way-user')\n",
    "fig = tls.make_subplots(rows=1, cols=2, subplot_titles=('node', 'way'))\n",
    "fig.append_trace(graph1, 1, 1)\n",
    "fig.append_trace(graph2, 1, 2)\n",
    "fig['layout'].update(height=400, width=800, title='Users contribute most for nodes and ways')\n",
    "py.iplot(fig, filename='most-common-user')"
   ]
  },
  {
   "cell_type": "markdown",
   "id": "f79e80fd",
   "metadata": {},
   "source": [
    "## Data creation\n",
    "### Timeline "
   ]
  },
  {
   "cell_type": "code",
   "execution_count": null,
   "id": "b61363ae",
   "metadata": {},
   "outputs": [],
   "source": [
    "## timestamp of creating nodes\n",
    "nodes_time = pd.read_sql_query('SELECT timestamp FROM nodes',db)\n",
    "nodes_time['time'] = nodes_time['timestamp'].str.replace('[\\-\\d]{3}T.*Z','')\n",
    "create_time_nodes = nodes_time.groupby('time').count().reset_index()\n",
    "## timestamp of creating ways \n",
    "ways_time = pd.read_sql_query('SELECT timestamp FROM ways',db)\n",
    "ways_time['time'] = ways_time['timestamp'].str.replace('[\\-\\d]{3}T.*Z','')\n",
    "create_time_ways = ways_time.groupby('time').count().reset_index()\n",
    "create_time = pd.concat([create_time_ways,create_time_nodes])\n",
    "## plot\n",
    "graph1 = go.Bar(x=create_time.time, y=create_time.timestamp, name='node')\n",
    "graph2 = go.Bar(x=create_time.time, y=create_time.timestamp, name='way')\n",
    "fig = tls.make_subplots(rows=1, cols=2)\n",
    "fig.append_trace(graph1, 1, 1)\n",
    "fig.append_trace(graph2, 1, 2)\n",
    "fig['layout'].update(height=400, width=1000, title='Time distribution of creating nodes and ways')\n",
    "py.iplot(fig, filename='created-time-nodes-ways')"
   ]
  },
  {
   "cell_type": "markdown",
   "id": "81e7c831",
   "metadata": {},
   "source": [
    "### The number of ways and nodes changed by different computer programs "
   ]
  },
  {
   "cell_type": "code",
   "execution_count": null,
   "id": "5b79bbed",
   "metadata": {},
   "outputs": [],
   "source": [
    "## number of nodes\n",
    "c.execute('SELECT count() FROM nodes')\n",
    "print 'Total number of nodes:', c.fetchall()\n",
    "## number of ways\n",
    "c.execute('SELECT count() FROM ways')\n",
    "print 'Total number of ways:', c.fetchall()"
   ]
  },
  {
   "cell_type": "markdown",
   "id": "96f83e28",
   "metadata": {},
   "source": [
    "### What are the most common keys for node_tags and way_tags?"
   ]
  },
  {
   "cell_type": "code",
   "execution_count": null,
   "id": "1da28f13",
   "metadata": {},
   "outputs": [],
   "source": [
    "# most common key for nodes\n",
    "most_tags_node = pd.read_sql_query('SELECT key, count() as num FROM nodes_tags GROUP BY key ORDER BY num DESC LIMIT 10',db)\n",
    "# most common key for ways\n",
    "most_tags_way = pd.read_sql_query('SELECT key, count() as num FROM ways_tags GROUP BY key ORDER BY num DESC LIMIT 10',db)\n",
    "# plot\n",
    "# py.iplot([Bar(x=most_tags_node.key, y=most_tags_node.num)], filename='most common tags_key for node')\n",
    "graph1 = go.Bar(x=most_tags_node.key, y=most_tags_node.num, name='node-key')\n",
    "graph2 = go.Bar(x=most_tags_way.key, y=most_tags_way.num, name='way-key')\n",
    "fig = tls.make_subplots(rows=1, cols=2, subplot_titles=('node', 'way'))\n",
    "fig.append_trace(graph1, 1, 1)\n",
    "fig.append_trace(graph2, 1, 2)\n",
    "fig['layout'].update(height=400, width=800, title='Most common key for node tags and way tags')\n",
    "py.iplot(fig, filename='most-common-tags-key')"
   ]
  },
  {
   "cell_type": "markdown",
   "id": "42dd3ffc",
   "metadata": {},
   "source": [
    "### What are the most common values for node_tags and way_tags?"
   ]
  },
  {
   "cell_type": "code",
   "execution_count": null,
   "id": "ecfc1ff8",
   "metadata": {},
   "outputs": [],
   "source": [
    "most_value_node = pd.read_sql_query('SELECT key, value, count() as num FROM nodes_tags GROUP BY value ORDER BY num DESC LIMIT 10',db)\n",
    "most_value_node['key-value'] = most_value_node.key.str.cat(most_value_node.value, sep='-')\n",
    "most_value_way = pd.read_sql_query('SELECT key, value, count() as num FROM ways_tags GROUP BY value ORDER BY num DESC LIMIT 10',db)\n",
    "most_value_way['key-value'] = most_value_way.key.str.cat(most_value_way.value, sep='-')\n",
    "\n",
    "graph1 = go.Bar(x=most_value_node['key-value'], y=most_tags_node.num, name='node-value')\n",
    "graph2 = go.Bar(x=most_value_way['key-value'], y=most_tags_way.num, name='way-value')\n",
    "fig = tls.make_subplots(rows=1, cols=2, subplot_titles=('node', 'way'))\n",
    "fig.append_trace(graph1, 1, 1)\n",
    "fig.append_trace(graph2, 1, 2)\n",
    "fig['layout'].update(height=400, width=800, title='Most common value for node tags and way tags (key-value)')\n",
    "py.iplot(fig, filename='most-common-tags-value')\n",
    "\n"
   ]
  },
  {
   "cell_type": "markdown",
   "id": "147ec52c",
   "metadata": {},
   "source": [
    "### How many tags for one node or one tag?"
   ]
  },
  {
   "cell_type": "code",
   "execution_count": null,
   "id": "4c1fb81d",
   "metadata": {},
   "outputs": [],
   "source": [
    "node_num = pd.read_sql_query('SELECT nodes.id, count() as num \\\n",
    "                             FROM nodes LEFT JOIN nodes_tags \\\n",
    "                             ON nodes.id=nodes_tags.id \\\n",
    "                             GROUP BY nodes.id ORDER BY num DESC',db)\n",
    "way_num = pd.read_sql_query('SELECT ways.id, count() as num \\\n",
    "                             FROM ways LEFT JOIN ways_tags \\\n",
    "                             ON ways.id=ways_tags.id \\\n",
    "                             GROUP BY ways.id ORDER BY num DESC',db)\n",
    "print 'Top 5 nodes with most tags:'\n",
    "print node_num.head()\n",
    "print \n",
    "print 'Top 5 ways with most tags:'\n",
    "print way_num.head()\n",
    "\n",
    "fig, (ax1,ax2,ax3) = plt.subplots(1,3,figsize=(12,3))\n",
    "g=sns.countplot(x='num',data=node_num,ax=ax1)\n",
    "g.set(xlim=(-0.5,16),xlabel='Number of Nodes')\n",
    "g.set(title='Number of Tags in One Node \\n max node number ='+str(node_num['num'][0]),ylabel='Count (%)')\n",
    "g=sns.countplot(x='num',data=node_num,ax=ax2)\n",
    "g.set(xlim=(-0.5,16))\n",
    "g.set(ylim=(0,50000))\n",
    "g.set(title='Zoom in \\n- Number of Tags in One Node',xlabel='Number of Nodes')\n",
    "g=sns.countplot(x='num',data=way_num,ax=ax3)\n",
    "g.set(xlim=(-0.5,16))\n",
    "g.set(title='Number of Tags in One Way \\n max way number ='+str(way_num['num'][0]),xlabel='Number of Ways')\n",
    "# node_num = pd.read_sql_query('SELECT nodes.id, count() as num FROM nodes LEFT JOIN nodes_tags ON nodes.id=nodes_tags.id GROUP BY nodes.id ORDER BY num DESC',db)"
   ]
  },
  {
   "cell_type": "markdown",
   "id": "5a8fbb0a",
   "metadata": {},
   "source": [
    "### What's node with most tags"
   ]
  },
  {
   "cell_type": "code",
   "execution_count": null,
   "id": "cb045488",
   "metadata": {},
   "outputs": [],
   "source": [
    " pd.read_sql_query('SELECT type, key, value \\\n",
    "                   FROM nodes_tags\\\n",
    "                   WHERE id IN \\\n",
    "                   (SELECT nID FROM\\\n",
    "                   (SELECT nodes.id as nID, count() as num\\\n",
    "                   FROM nodes LEFT JOIN nodes_tags \\\n",
    "                   ON nodes_tags.id= nodes.id\\\n",
    "                   GROUP BY nodes.id\\\n",
    "                   ORDER BY num DESC\\\n",
    "                   LIMIT 1))',db)"
   ]
  },
  {
   "cell_type": "markdown",
   "id": "bc5398bc",
   "metadata": {},
   "source": [
    "### What is the node with the second most tags"
   ]
  },
  {
   "cell_type": "code",
   "execution_count": null,
   "id": "c6059e76",
   "metadata": {},
   "outputs": [],
   "source": [
    "# see the tags for the second largest node\n",
    "pd.read_sql_query('SELECT type, key, value\\\n",
    "                   FROM nodes_tags\\\n",
    "                   WHERE id in \\\n",
    "                   (SELECT nID FROM\\\n",
    "                   (SELECT nodes.id as nID, count() as num\\\n",
    "                   FROM nodes LEFT JOIN nodes_tags \\\n",
    "                   ON nodes_tags.id= nodes.id\\\n",
    "                   GROUP BY nodes.id\\\n",
    "                   ORDER BY num DESC\\\n",
    "                   LIMIT 1 OFFSET 1))',db)"
   ]
  },
  {
   "cell_type": "markdown",
   "id": "97f0e7e2",
   "metadata": {},
   "source": [
    "### What is the way with most tags?"
   ]
  },
  {
   "cell_type": "code",
   "execution_count": null,
   "id": "fe8875fe",
   "metadata": {},
   "outputs": [],
   "source": [
    "pd.read_sql_query('SELECT type, key, value \\\n",
    "                   FROM ways_tags\\\n",
    "                   WHERE id IN \\\n",
    "                   (SELECT wID FROM\\\n",
    "                   (SELECT ways.id as wID, count() as num\\\n",
    "                   FROM ways LEFT JOIN ways_tags \\\n",
    "                   ON ways_tags.id= ways.id\\\n",
    "                   GROUP BY ways.id\\\n",
    "                   ORDER BY num DESC\\\n",
    "                   LIMIT 1))',db)"
   ]
  },
  {
   "cell_type": "markdown",
   "id": "2e579a03",
   "metadata": {},
   "source": [
    "### What is the way with second most tags?"
   ]
  },
  {
   "cell_type": "code",
   "execution_count": null,
   "id": "52a74079",
   "metadata": {},
   "outputs": [],
   "source": [
    "pd.read_sql_query('SELECT type, key, value \\\n",
    "                   FROM ways_tags\\\n",
    "                   WHERE id IN \\\n",
    "                   (SELECT wID FROM\\\n",
    "                   (SELECT ways.id as wID, count() as num\\\n",
    "                   FROM ways LEFT JOIN ways_tags \\\n",
    "                   ON ways_tags.id= ways.id\\\n",
    "                   GROUP BY ways.id\\\n",
    "                   ORDER BY num DESC\\\n",
    "                   LIMIT 1 OFFSET 1))',db)"
   ]
  },
  {
   "cell_type": "code",
   "execution_count": null,
   "id": "ca9ee987",
   "metadata": {},
   "outputs": [],
   "source": [
    "pd.read_sql_query('SELECT type, key, value \\\n",
    "                   FROM ways_tags\\\n",
    "                   WHERE id IN \\\n",
    "                   (SELECT wID FROM\\\n",
    "                   (SELECT ways.id as wID, count() as num\\\n",
    "                   FROM ways LEFT JOIN ways_tags \\\n",
    "                   ON ways_tags.id= ways.id\\\n",
    "                   GROUP BY ways.id\\\n",
    "                   ORDER BY num DESC\\\n",
    "                   LIMIT 1 OFFSET 4))',db)"
   ]
  },
  {
   "cell_type": "markdown",
   "id": "e7022250",
   "metadata": {},
   "source": [
    "** In general, more tags were used to describe nodes than ways. The first two nodes with most tags are the city of Zurich and Zurich airport. Most of the tags are used to describe the name in different languages. For tags of way, the most tagged way is a recycling center. Most tags are used to describe the material for recycling. The 2nd most tagged way is a hotel, with tags descrbing the way of payment. The 3rd most tagged way is a gas station, with tags descrbing the provided fuel. ** "
   ]
  },
  {
   "cell_type": "markdown",
   "id": "5f99808b",
   "metadata": {},
   "source": [
    "## Explore Zurich\n",
    "### The type of street names in Zurich"
   ]
  },
  {
   "cell_type": "code",
   "execution_count": null,
   "id": "9e806516",
   "metadata": {},
   "outputs": [],
   "source": [
    "count_strasse = pd.read_sql_query('SELECT SUM(num) FROM\\\n",
    "                                  (SELECT count(DISTINCT value) as num FROM nodes_tags WHERE UPPER(value) LIKE \"%STRASSE%\"\\\n",
    "                                  UNION ALL\\\n",
    "                                  SELECT count(DISTINCT value) as num FROM ways_tags WHERE UPPER(value) LIKE \"%STRASSE%\")\\\n",
    "                                  ',db)\n",
    "count_weg = pd.read_sql_query('SELECT SUM(num) FROM\\\n",
    "                                  (SELECT count(DISTINCT value) as num FROM nodes_tags WHERE UPPER(value) LIKE \"%WEG%\"\\\n",
    "                                  UNION ALL\\\n",
    "                                  SELECT count(DISTINCT value) as num FROM ways_tags WHERE UPPER(value) LIKE \"%WEG%\")\\\n",
    "                                  ',db)\n",
    "count_platz = pd.read_sql_query('SELECT SUM(num) FROM\\\n",
    "                                  (SELECT count(DISTINCT value) as num FROM nodes_tags WHERE UPPER(value) LIKE \"%PLATZ%\"\\\n",
    "                                  UNION ALL\\\n",
    "                                  SELECT count(DISTINCT value) as num FROM ways_tags WHERE UPPER(value) LIKE \"%PLATZ%\")\\\n",
    "                                  ',db)\n",
    "count_gasse = pd.read_sql_query('SELECT SUM(num) FROM\\\n",
    "                                  (SELECT count(DISTINCT value) as num FROM nodes_tags WHERE UPPER(value) LIKE \"%GASSE%\"\\\n",
    "                                  UNION ALL\\\n",
    "                                  SELECT count(DISTINCT value) as num FROM ways_tags WHERE UPPER(value) LIKE \"%GASSE%\")\\\n",
    "                                  ',db)\n",
    "street_type = ['strasse','weg','platz','gasse']\n",
    "street_count = [count_strasse['SUM(num)'][0],count_weg['SUM(num)'][0],count_platz['SUM(num)'][0],count_gasse['SUM(num)'][0]]\n",
    "\n",
    "ind = np.arange(len(street_count))  # the x locations for the groups\n",
    "width = 0.35       # the width of the bars\n",
    "plt.figure(figsize=(4,3))\n",
    "plt.bar(range(len(street_count)), street_count, width, color='b')\n",
    "\n",
    "plt.ylabel('Counts')\n",
    "plt.title('Type of Street Names in Zurich')\n",
    "plt.xticks(ind + width / 2, street_type,  rotation='vertical')\n"
   ]
  },
  {
   "cell_type": "markdown",
   "id": "7a237a2e",
   "metadata": {},
   "source": [
    "### Number of data in each canton and each district"
   ]
  },
  {
   "cell_type": "code",
   "execution_count": null,
   "id": "d6c6153b",
   "metadata": {},
   "outputs": [],
   "source": [
    "canton = pd.read_sql_query('SELECT value, count(DISTINCT id) FROM\\\n",
    "                        (SELECT id, value FROM nodes_tags WHERE key=\"canton\"\\\n",
    "                        UNION ALL\\\n",
    "                        SELECT id, value FROM ways_tags WHERE key=\"canton\")\\\n",
    "                        GROUP BY value',db)\n",
    "print 'number of data in each canton:'\n",
    "print canton\n",
    "print\n",
    "district = pd.read_sql_query('SELECT value, count(DISTINCT id) FROM\\\n",
    "                        (SELECT id, value FROM nodes_tags WHERE key=\"district\"\\\n",
    "                        UNION ALL\\\n",
    "                        SELECT id, value FROM ways_tags WHERE key=\"district\")\\\n",
    "                        GROUP BY value',db)\n",
    "print 'number of data in each district:'\n",
    "print district"
   ]
  },
  {
   "cell_type": "markdown",
   "id": "c7253fb9",
   "metadata": {},
   "source": [
    "** Most of the data came from Zurich (52%). 34% data came from another canton: Aargau. 14% data contain too few information to find its canton.**"
   ]
  },
  {
   "cell_type": "markdown",
   "id": "1c6df3cc",
   "metadata": {},
   "source": [
    "### Restaurants types, locations and opening on Sunday"
   ]
  },
  {
   "cell_type": "code",
   "execution_count": null,
   "id": "543ffecc",
   "metadata": {},
   "outputs": [],
   "source": [
    "create = pd.read_sql_query('SELECT value, count()as num FROM\\\n",
    "                            (SELECT id, value FROM nodes_tags WHERE key=\"created_by\" \\\n",
    "                            UNION ALL\\\n",
    "                            SELECT id, value FROM ways_tags WHERE key=\"created_by\")\\\n",
    "                            GROUP BY value ORDER BY num DESC',db)\n",
    "create"
   ]
  },
  {
   "cell_type": "markdown",
   "id": "9133c007",
   "metadata": {},
   "source": [
    "## Overview of nodes and ways\n",
    "### Total number of ways and nodes"
   ]
  },
  {
   "cell_type": "code",
   "execution_count": null,
   "id": "adcd4fe2",
   "metadata": {},
   "outputs": [],
   "source": [
    "## Number of resturants with more than 5 shops\n",
    "cuisine = pd.read_sql_query('SELECT value, count() as num FROM \\\n",
    "                            (SELECT value, id FROM nodes_tags WHERE key=\"cuisine\" \\\n",
    "                            UNION ALL SELECT value, id FROM ways_tags WHERE key=\"cuisine\") a \\\n",
    "                             GROUP BY value HAVING num>5 ORDER BY num DESC',db)\n",
    "plt.figure(figsize=(10,3))\n",
    "g = sns.barplot(x='value',y='num',data=cuisine)\n",
    "g.set_xticklabels(cuisine.value, rotation=90)\n",
    "g.set(title='Restaurant Types (at least 5 restaurants)',xlabel='',ylabel='Count')"
   ]
  },
  {
   "cell_type": "code",
   "execution_count": null,
   "id": "dd1a6307",
   "metadata": {},
   "outputs": [],
   "source": [
    "## group these types of restaurants, to see the number:\n",
    "# 1. regional, swiss, local\n",
    "# 2. italian, pizza\n",
    "# 3. asian, chinese, thai, vietnamese\n",
    "# 4. japanese, sushi\n",
    "# 5. american, burger\n",
    "# 6. indian\n",
    "# 7. turkish, kebab, falafel\n",
    "swiss = pd.read_sql_query('SELECT value, count() FROM nodes_tags WHERE key=\"cuisine\" AND\\\n",
    "                          (UPPER(value) LIKE \"%REGIONAL%\" OR UPPER(value) LIKE \"%SWISS%\" OR UPPER(value) LIKE \"%LOCAL%\")',db)\n",
    "pizza = pd.read_sql_query('SELECT value,count() FROM nodes_tags WHERE key=\"cuisine\" AND\\\n",
    "                          (UPPER(value) LIKE \"%ITALIAN%\" OR UPPER(value) LIKE \"%PIZZA%\")',db)\n",
    "asian = pd.read_sql_query('SELECT value,count() FROM nodes_tags WHERE key=\"cuisine\" AND\\\n",
    "                          (UPPER(value) LIKE \"%VIETNA%\" OR UPPER(value) LIKE \"%CHINESE%\" OR UPPER(value) LIKE \"%THAI%\" OR UPPER(value) LIKE \"%ASIAN%\")',db)\n",
    "japan = pd.read_sql_query('SELECT value,count() FROM nodes_tags WHERE key=\"cuisine\" AND\\\n",
    "                          (UPPER(value) LIKE \"%JAPAN%\" OR UPPER(value) LIKE \"%SUSHI%\")',db)\n",
    "usa = pd.read_sql_query('SELECT value,count() FROM nodes_tags WHERE key=\"cuisine\" AND\\\n",
    "                          (UPPER(value) LIKE \"%AMERICA%\" OR UPPER(value) LIKE \"%BURGER%\")',db)\n",
    "indian = pd.read_sql_query('SELECT value,count() FROM nodes_tags WHERE key=\"cuisine\" AND\\\n",
    "                          (UPPER(value) LIKE \"%INDIAN%\")',db)\n",
    "kebab = pd.read_sql_query('SELECT value,count() FROM nodes_tags WHERE key=\"cuisine\" AND\\\n",
    "                          (UPPER(value) LIKE \"%TURKISH%\" OR UPPER(value) LIKE \"%KEBAB%\" OR UPPER(value) LIKE \"%FALAFEL%\")',db)\n",
    "\n",
    "type_cuisine = pd.concat([swiss,pizza,asian,japan,usa,indian,kebab])\n",
    "type_cuisine.loc[type_cuisine['value']=='vietnamese','value']='Asian'\n",
    "plt.figure(figsize=(8,3))\n",
    "g = sns.barplot(x='value',y='count()',data=type_cuisine)\n",
    "g.set(xlabel='',title='Number of restaurants grouped by cuisine types')\n"
   ]
  },
  {
   "cell_type": "code",
   "execution_count": null,
   "id": "0eaeeebb",
   "metadata": {},
   "outputs": [],
   "source": [
    "## Types and number of restaurant opens on Sunday\n",
    "sun_open_restaurant = pd.read_sql_query('SELECT value, count() as num FROM\\\n",
    "                   (SELECT id, value FROM nodes_tags WHERE id IN\\\n",
    "                   (SELECT id FROM \\\n",
    "                   (SELECT id, key, value FROM nodes_tags WHERE id IN (SELECT id FROM nodes_tags WHERE key=\"cuisine\")) a\\\n",
    "                   WHERE key=\"opening_hours\" AND value LIKE \"%Su ____%\") \\\n",
    "                   AND key=\"cuisine\" \\\n",
    "                   UNION ALL\\\n",
    "                   SELECT id, value FROM ways_tags WHERE id IN\\\n",
    "                   (SELECT id FROM \\\n",
    "                   (SELECT id, key, value FROM ways_tags WHERE id IN (SELECT id FROM ways_tags WHERE key=\"cuisine\")) a\\\n",
    "                   WHERE key=\"opening_hours\" AND value LIKE \"%Su ____%\") \\\n",
    "                   AND key=\"cuisine\")\\\n",
    "                   GROUP BY value ORDER BY num DESC',db)\n",
    "plt.figure(figsize=(10,3))\n",
    "g = sns.barplot(x='value',y='num',data=sun_open_restaurant)\n",
    "g.set_xticklabels(sun_open_restaurant.value,rotation=90)\n",
    "g.set(title='Restaurants open on Sunday',xlabel='',ylabel='Count')"
   ]
  },
  {
   "cell_type": "code",
   "execution_count": null,
   "id": "495a8348",
   "metadata": {},
   "outputs": [],
   "source": [
    "lat_lon_italy = pd.read_sql_query('SELECT lat, lon FROM nodes WHERE id IN\\\n",
    "                  (SELECT id FROM nodes_tags WHERE key=\"cuisine\" AND (UPPER(value) LIKE \"%ITALIAN%\" OR UPPER(value) LIKE \"%PIZZA%\"))\\\n",
    "                  ',db)\n",
    "lat_lon_regional = pd.read_sql_query('SELECT lat, lon FROM nodes WHERE id IN\\\n",
    "                  (SELECT id FROM nodes_tags WHERE key=\"cuisine\" AND (UPPER(value) LIKE \"%REGIONAL%\" OR UPPER(value) LIKE \"%LOCAL%\"))\\\n",
    "                  ',db)\n",
    "lat_lon_sunday = pd.read_sql_query(\"SELECT lat, lon FROM nodes WHERE id IN\\\n",
    "                                   (SELECT id FROM \\\n",
    "                                   (SELECT id, key, value FROM nodes_tags WHERE id IN\\\n",
    "                                   (SELECT id FROM nodes_tags WHERE key='cuisine'))\\\n",
    "                                   WHERE key='opening_hours' AND value LIKE '%Su ____%')\",db)\n",
    "\n",
    "## plot gmap\n",
    "italy = [tuple(x) for x in lat_lon_italy.values]\n",
    "regional = [tuple(x) for x in lat_lon_regional.values]\n",
    "sunday = [tuple(x) for x in lat_lon_sunday.values]\n",
    "gmaps.configure(api_key=api) # Your Google API key\n",
    "\n",
    "italy_layer = gmaps.symbol_layer(italy, fill_color=\"blue\", stroke_color=\"blue\")\n",
    "regional_layer = gmaps.symbol_layer(regional, fill_color=\"red\", stroke_color=\"red\")\n",
    "sunday_layer = gmaps.symbol_layer(sunday, fill_color=\"green\", stroke_color=\"green\")\n",
    "m = gmaps.Map()\n",
    "m.add_layer(italy_layer)\n",
    "m.add_layer(regional_layer)\n",
    "m.add_layer(sunday_layer)\n",
    "m\n"
   ]
  },
  {
   "cell_type": "markdown",
   "id": "dd16ce44",
   "metadata": {},
   "source": [
    "** 1. If we regards pizza as italian food, then Italian food would be the most common cuisine in Zurich. regional cuisine would be the second, then asian cuisine. Italian (blue points) and regional cuisine (red points) doesn't localize at certain region. **\n",
    "\n",
    "** 2. Only less than 10% of restaurnats open on Sunday (green points). These restaurants does not localize at certain region either. **"
   ]
  },
  {
   "cell_type": "markdown",
   "id": "f442ec88",
   "metadata": {},
   "source": [
    "## Most seen natural scene"
   ]
  },
  {
   "cell_type": "code",
   "execution_count": null,
   "id": "747fc100",
   "metadata": {},
   "outputs": [],
   "source": [
    "## Most seen natural scene\n",
    "natural_scene = pd.read_sql_query('SELECT value, count() as num FROM\\\n",
    "                   (SELECT value, id FROM nodes_tags WHERE key=\"natural\" \\\n",
    "                   UNION ALL\\\n",
    "                   SELECT value, id FROM ways_tags WHERE key=\"natural\")\\\n",
    "                   GROUP BY value ORDER BY num DESC',db)\n",
    "print '#1 of most seen natural scene:',natural_scene.loc[0,'value'] ,'with number:',natural_scene.loc[0,'num']\n",
    "plt.figure(figsize=(12,3))\n",
    "g = sns.barplot(x='value',y='num',data=natural_scene[1:])\n",
    "g.set_xticklabels(natural_scene.value,rotation=90)\n",
    "g.set(title='Most seen natural scene',xlabel='',ylabel='Count')"
   ]
  },
  {
   "cell_type": "markdown",
   "id": "ff6f655d",
   "metadata": {},
   "source": [
    "### The most common  postcode in the address"
   ]
  }
 ],
 "metadata": {},
 "nbformat": 4,
 "nbformat_minor": 5
}
