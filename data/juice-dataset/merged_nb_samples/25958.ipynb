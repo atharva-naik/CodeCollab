{
 "cells": [
  {
   "cell_type": "markdown",
   "id": "fbde6c8f",
   "metadata": {},
   "source": [
    "# Homework 1: Data Cleaning and Exploratory Data Analysis \n",
    "***\n",
    "\n",
    "**Name**: Jacob Munoz\n",
    "\n",
    "**Section**: 001\n",
    "***\n",
    "\n",
    "This assignment is due on Moodle by **5pm on Friday September 15th**. Your solutions to theoretical questions should be done in Markdown directly below the associated question.  Your solutions to computational questions should include any specified Python code and results as well as written commentary on your conclusions.  Remember that you are encouraged to discuss the problems with your classmates, but **you must write all code and solutions on your own**.   \n",
    "\n",
    "**NOTES**: \n",
    "\n",
    "- Unless a url is given for a data set, you will find the required data in the same directory as this assignment on GitHub.\n",
    "- If you're not familiar with typesetting math directly into Markdown then by all means, do your work on paper first and then typeset it later.  Remember that there is a [reference guide](https://math.meta.stackexchange.com/questions/5020/mathjax-basic-tutorial-and-quick-reference) linked on Piazza on writing math in Markdown. \n",
    "- It is **bad form** to make your reader interpret numerical output from your code.  If a question asks you to compute some value from the data you should show your code output **AND** write a summary of the results in Markdown directly below your code. \n",
    "\n"
   ]
  },
  {
   "cell_type": "markdown",
   "id": "50ed10a2",
   "metadata": {},
   "source": [
    "You would need to replace 3 elements so that infinity becomes the majority of the data set, having (x, x, infinity, infinty, infinty) would result in infinity being the median of the data set."
   ]
  },
  {
   "cell_type": "markdown",
   "id": "89069c1c",
   "metadata": {},
   "source": [
    "**Part C**: Suppose we have another data set of size $n$. How many elements do we need to replace by some real number $y$, so that the sample mean of the new dataset goes to infinity as $y \\rightarrow \\infty$? And how many elements do we need to replace, so that the sample median of the new dataset goes to infinity? "
   ]
  },
  {
   "cell_type": "markdown",
   "id": "ba06f2d3",
   "metadata": {},
   "source": [
    "For the sample mean to go to infinity, you only need one element(y) to go to infinity because it alone will pull the mean up with it. For the sample median to go to infinity you need (n/2)+1 elements to be y, that way the majority of the elements will go to infinity, similar to question 2B."
   ]
  },
  {
   "cell_type": "markdown",
   "id": "be3be725",
   "metadata": {},
   "source": [
    "### Problem 3 \n",
    "***\n",
    "\n",
    "Let $x_1, x_2, \\ldots, x_n$ be $n$ observations of a variable of interest.  Recall that the sample mean $\\bar{x}_n$ and sample variance $s^2_n$ are given by \n",
    "\n",
    "$$\n",
    "\\bar{x}_n = \\frac{1}{n}\\sum_{k=1}^n x_k \\quad \\textrm{and} \\quad s^2_n = \\frac{1}{n-1}\\sum_{k=1}^n \\left( x_k - \\bar{x}_n\\right)^2\n",
    "$$\n",
    "\n",
    "where here the subscript $n$'s indicate the number of observations in the sample. Notice that a natural computation of the variance requires two passes over the data: one to compute the mean, and a second to subtract the mean from each observation and compute the sum of squares. It is often useful to be able to compute the variance in a single pass, inspecting each value $x_k$ only once; for example, when the data are being collected without enough storage to keep all the values, or when costs of memory access dominate those of computation. In this problem you will explore two methods for such an _online_ computation of the mean and variance.  \n",
    "\n",
    "**Part A**: Show algebraically that the following relation holds between the mean of the first $n-1$ observations and the mean of all $n$ observations: \n",
    "\n",
    "$$\n",
    "\\bar{x}_n = \\bar{x}_{n-1} + \\frac{x_n - \\bar{x}_{n-1}}{n}\n",
    "$$"
   ]
  },
  {
   "cell_type": "markdown",
   "id": "d272e6d1",
   "metadata": {},
   "source": [
    "\n",
    "$$ \\bar x_n = \\frac{x_1 + x_2 + x_3 + ... + x_n}{n} $$\n",
    "$$ $$\n",
    "$$ = \\frac{(x_1 + x_2 + x_3 + ... + x_{n-1})+x_n}{n} $$\n",
    "$$ $$\n",
    "$$ = \\frac{(n-1)\\bar x_{n-1} + x_n}{n} $$\n",
    "$$ $$\n",
    "$$ = \\frac{n\\bar x_{n-1}-\\bar x_{n-1}+x_n}{n} $$ \n",
    "$$ $$\n",
    "$$ = \\bar x_{n-1} + \\frac{x_n-\\bar x_{n-1}}{n} $$\n"
   ]
  },
  {
   "cell_type": "markdown",
   "id": "ea79a8f8",
   "metadata": {},
   "source": [
    "**Part B (Extra Credit)**: Show algebraically that the following relation holds between the variance of the first $n-1$  observations and the variance of all $n$ observations: \n",
    "\n",
    "$$\n",
    "s^2_n = \\frac{(n-2)}{(n-1)}s^2_{n-1} + \\frac{(x_n - \\bar{x}_{n-1})^2}{n}\n",
    "$$"
   ]
  },
  {
   "cell_type": "markdown",
   "id": "c2963d8a",
   "metadata": {},
   "source": [
    "Meh"
   ]
  },
  {
   "cell_type": "markdown",
   "id": "1718b509",
   "metadata": {},
   "source": [
    "**Part C**: It turns out that in some scenarios the variance calculation in **Part B** can suffer from numerical instability (that is, due to round-off errors and finite precision arithmetic, the algorithm can return garbage).  A better method is to update the sum of squares term incrementally and then divide by $n-1$ at the end.  Define the sum of squares with $n$ observations as $\n",
    "M_n = \\sum_{k=1}^n (x_k - \\bar{x}_n)^2$. We can then compute the sample variance as $s_n^2 = M_n/(n-1)$.\n",
    "\n",
    "Show algebraically that the following relation holds between the sum of squares with $n-1$ observations and the sum of squares with all $n$ observations: \n",
    "\n",
    "$$\n",
    "M_n = M_{n-1} + (x_n - \\bar{x}_{n-1})(x_n - \\bar{x}_n)\n",
    "$$"
   ]
  },
  {
   "cell_type": "markdown",
   "id": "7af5465e",
   "metadata": {},
   "source": [
    "$$ M_n=\\sum_{i=1}^n (x_i- \\bar x_n)^2 $$\n",
    "$$ $$\n",
    "$$ =\\sum_{i=1}^{n-1} (x_i - \\bar x_n)^2+(x_n -\\bar x_n)^2  $$\n",
    "$$ $$\n",
    "$$ =\\sum_{i=1}^{n-1} \\left(x_i-\\bar x_n-\\frac{x_n-\\bar x_{n-1}}{n}\\right)^2+(x_n-\\bar x_n)^2 $$\n",
    "$$ $$\n",
    "$$ =\\sum_{i=1}^{n-1}\\left((x_i-\\bar x_{n-1})^2+\\left( \\frac{x_n-\\bar x_{n-1}}{n}\\right)^2-2(x_i-\\bar x_{n-1})\\left( \\frac{x_n-\\bar x_{n-1}}{n}\\right)\\right)+(x_n-\\bar x_n)^2 $$\n",
    "$$ $$\n",
    "$$ =\\sum_{i=1}^{n-1}\\left((x_i-\\bar x_{n-1})^2\\right)+\\sum_{i=1}^{n-1}\\left(\\left(\\frac{x_n-\\bar x_{n-1}}{n}\\right)^2\\right)-2\\left(\\frac{x_n-\\bar x_{n-1}}{n}\\right)\\sum_{i=1}^{n-1}((x_i-\\bar x_{n-1}))+(x_n-\\bar x_n)^2 $$\n",
    "$$ $$\n",
    "$$ = M_{n-1}+(n-1)\\left(\\frac{x_n-\\bar x_{n-1}}{n}\\right)^2-2\\left(\\frac{x_n-\\bar x_{n-1}}{n}\\right)*0+\\left(x_n-\\frac{(n-1)\\bar x_{n-1}+x_n}{n}\\right)^2 $$\n",
    "$$ $$\n",
    "$$ = M_{n-1}+\\left(\\frac{n-1}{n^2}\\right)(x_n-\\bar x_{n-1})^2+\\left(\\frac{n-1}{n}\\right)^2(x_n-\\bar x_{n-1})^2 $$\n",
    "$$ $$\n",
    "$$ = M_{n-1}+\\frac{n-1}{n}(x_n-\\bar x_{n-1})^2 $$\n",
    "$$ $$\n",
    "$$ M_n = M_{n-1}+(x_n-\\bar x_{n-1})(x_n-\\bar x_n)$$"
   ]
  },
  {
   "cell_type": "markdown",
   "id": "8edb6ecd",
   "metadata": {},
   "source": [
    "For parts A/C I collaborated with Kelsey Adams and Andrew Fay"
   ]
  },
  {
   "cell_type": "markdown",
   "id": "2affa1d1",
   "metadata": {},
   "source": [
    "**Informative But Not Required**: Write a Python function that implements the online variance computation in **Part C** and  requires only one pass over the data. "
   ]
  },
  {
   "cell_type": "markdown",
   "id": "26c01976",
   "metadata": {},
   "source": [
    "### Problem 4\n",
    "*** \n",
    "Some claim that the final hours aboard the RMS Titanic were marked by class warfare; others claim it was characterized by male chivalry.  We have the data on survival rates by class and by sex, so let's figure out whether there is evidence for these scenarios. Access the titanic data in titanic_data.csv and store it in a Pandas DataFrame. The data contains information pertaining to class status (**Pclass**), survival of passengers (**Survived**), and gender (**Sex**), among others.  "
   ]
  },
  {
   "cell_type": "code",
   "execution_count": null,
   "id": "36aa2bdf",
   "metadata": {},
   "outputs": [],
   "source": [
    "#Reads in the dirty data\n",
    "in_file = 'titanic_data.csv'\n",
    "titanic_data = pd.read_csv(in_file)"
   ]
  },
  {
   "cell_type": "markdown",
   "id": "e83136dc",
   "metadata": {},
   "source": [
    "**Part A**: Explain in words what patterns you might see in the data if there were male chivalry in the final hours aboard the Titanic?  What patterns might you see if there were class warfare in the final hours?"
   ]
  },
  {
   "cell_type": "markdown",
   "id": "4d0c9fd7",
   "metadata": {},
   "source": [
    "If there was male chivalry I would expect to see the number of male survivors to be much less than that of women survivors. If there were a class warfare I would expect to see the opposite, a much larger number of male survivors."
   ]
  },
  {
   "cell_type": "markdown",
   "id": "a25bdbf8",
   "metadata": {},
   "source": [
    "**Part B**: Create a clean data set by removing any rows from the DataFrame that are missing values corresponding to **Survived**, **Pclass**, **Age**, or **Sex**. Store the clean data in a DataFrame called dfTitanic. "
   ]
  },
  {
   "cell_type": "code",
   "execution_count": null,
   "id": "ef78790b",
   "metadata": {},
   "outputs": [],
   "source": [
    "#Removes entries with missing data in these columns\n",
    "dfTitanic = titanic_data.dropna(subset=[\"Survived\", \"Pclass\", \"Age\", \"Sex\"]).copy()"
   ]
  },
  {
   "cell_type": "raw",
   "id": "b5d5daf2",
   "metadata": {},
   "source": [
    "This simply removes any lines from titanic_data that are missing values in any of the columns(Survived, Pclass, Age, Sex) and displays the new amounnt of data."
   ]
  },
  {
   "cell_type": "markdown",
   "id": "7a6ebef4",
   "metadata": {},
   "source": [
    "**Part C**: Determine the fraction of survivors from each passenger class. "
   ]
  },
  {
   "cell_type": "code",
   "execution_count": null,
   "id": "7c063406",
   "metadata": {},
   "outputs": [],
   "source": [
    "dfClass = dfTitanic['Pclass'].value_counts().reset_index()\n",
    "dfClass.columns = ['class', 'count']\n",
    "dfClass[\"percentage\"] = (dfClass[\"count\"] / len(dfTitanic))\n",
    "display(dfClass)"
   ]
  },
  {
   "cell_type": "markdown",
   "id": "03b9be65",
   "metadata": {},
   "source": [
    "First I made a new dataframe with only the classes and their counts. This allows me to easily use the data to divide the total counts and get the percentages of survivors from each class."
   ]
  },
  {
   "cell_type": "markdown",
   "id": "46d4b3f8",
   "metadata": {},
   "source": [
    "**Part D**: Compute the fraction of survivors according to class and gender.  Did men in first class or women in third class have a higher survival rate? "
   ]
  },
  {
   "cell_type": "code",
   "execution_count": null,
   "id": "1272335e",
   "metadata": {},
   "outputs": [],
   "source": [
    "#Sums up all the male and female survivors from each class\n",
    "male_1_survived = dfTitanic.loc[(dfTitanic[\"Sex\"] == 'male') & (dfTitanic[\"Pclass\"] == 1), \"Survived\"].sum()\n",
    "female_1_survived = dfTitanic.loc[(dfTitanic[\"Sex\"]=='female') & (dfTitanic[\"Pclass\"] == 1), \"Survived\"].sum()\n",
    "male_2_survived = dfTitanic.loc[(dfTitanic[\"Sex\"] == 'male') & (dfTitanic[\"Pclass\"] == 2), \"Survived\"].sum()\n",
    "female_2_survived = dfTitanic.loc[(dfTitanic[\"Sex\"]=='female') & (dfTitanic[\"Pclass\"] == 2), \"Survived\"].sum()\n",
    "male_3_survived = dfTitanic.loc[(dfTitanic[\"Sex\"] == 'male') & (dfTitanic[\"Pclass\"] == 3), \"Survived\"].sum()\n",
    "female_3_survived = dfTitanic.loc[(dfTitanic[\"Sex\"]=='female') & (dfTitanic[\"Pclass\"] == 3), \"Survived\"].sum()\n",
    "\n",
    "#Sums up the total number of men and women in each class to compare to number of survivors\n",
    "total_men_1 = len(dfTitanic.loc[(dfTitanic[\"Sex\"] == 'male') & (dfTitanic[\"Pclass\"] == 1)])\n",
    "total_men_2 = len(dfTitanic.loc[(dfTitanic[\"Sex\"] == 'male') & (dfTitanic[\"Pclass\"] == 2)])\n",
    "total_men_3 = len(dfTitanic.loc[(dfTitanic[\"Sex\"] == 'male') & (dfTitanic[\"Pclass\"] == 3)])\n",
    "total_women_1 = len(dfTitanic.loc[(dfTitanic[\"Sex\"] == 'female') & (dfTitanic[\"Pclass\"] == 1)])\n",
    "total_women_2 = len(dfTitanic.loc[(dfTitanic[\"Sex\"] == 'female') & (dfTitanic[\"Pclass\"] == 2)])\n",
    "total_women_3 = len(dfTitanic.loc[(dfTitanic[\"Sex\"] == 'female') & (dfTitanic[\"Pclass\"] == 3)])\n",
    "\n",
    "\n",
    "print(\"{}/{} men survived from class 1\".format(male_1_survived, total_men_1))\n",
    "print(\"{}/{} men survived from class 2\".format(male_2_survived, total_men_2))\n",
    "print(\"{}/{} men survived from class 3\".format(male_2_survived, total_men_3))\n",
    "print(\"{}/{} women survived from class 1\".format(female_1_survived, total_women_1))\n",
    "print(\"{}/{} women survived from class 2\".format(female_2_survived, total_women_2))\n",
    "print(\"{}/{} women survived from class 3\".format(female_3_survived, total_women_3))"
   ]
  },
  {
   "cell_type": "markdown",
   "id": "a49ad610",
   "metadata": {},
   "source": [
    "Women in third class had a higher survival rate but just barely."
   ]
  },
  {
   "cell_type": "markdown",
   "id": "58be3d41",
   "metadata": {},
   "source": [
    "**Part E**: How would you characterize the distribution of **AGE**? (By _characterize_ we mean that you should indicate whether the data are unimodal, bimodal, multimodal, symmetric, negatively skewed, positively skewed, etc.)  Make any necessary graphical summaries to justify your conclusion. "
   ]
  },
  {
   "cell_type": "code",
   "execution_count": null,
   "id": "e7f8629a",
   "metadata": {},
   "outputs": [],
   "source": [
    "#Sets up the graph\n",
    "my_bins = range(0, 80, 5)\n",
    "fig, ax = plt.subplots(figsize=(10,5))\n",
    "\n",
    "#Uses the age data from the data frame\n",
    "dfTitanic.loc[dfTitanic[\"Age\"]].hist(column = \"Age\", ax = ax, bins = my_bins, facecolor = \"steelblue\", edgecolor = \"white\")\n",
    "\n",
    "#Title\n",
    "ax.set_title(\"Age Distribution\", fontsize = 20)\n",
    "ax.set_xlabel(\"Age\", fontsize = 16)\n",
    "ax.set_ylabel(\"Frequency\", fontsize = 16)\n",
    "\n",
    "#Makes things more clear\n",
    "ax.grid(alpha = 0.25)\n",
    "ax.set_axisbelow(True)\n"
   ]
  },
  {
   "cell_type": "markdown",
   "id": "fe9a09e4",
   "metadata": {},
   "source": [
    "I would say that the age distribution is bimodal because there seems to be a clear split right around 20-25 where most of the data lies to the left and right."
   ]
  },
  {
   "cell_type": "markdown",
   "id": "75f723c7",
   "metadata": {},
   "source": [
    "**Part F**: Were the median and mean ages for females who survived higher or lower than for females who did not survive?  "
   ]
  },
  {
   "cell_type": "code",
   "execution_count": null,
   "id": "fa40121b",
   "metadata": {},
   "outputs": [],
   "source": [
    "#Sums up total females survived, then calculates mean and median using total women survived\n",
    "females_survived = dfTitanic.loc[(dfTitanic[\"Sex\"]=='female') & (dfTitanic[\"Survived\"] == 1)]\n",
    "mean_age_survived = females_survived[\"Age\"].sum() / len(females_survived)\n",
    "median_age_survived = females_survived[\"Age\"].median()\n",
    "\n",
    "#Same as above but for not survived\n",
    "females_not_survived = dfTitanic.loc[(dfTitanic[\"Sex\"]=='female') & (dfTitanic[\"Survived\"] == 0)]\n",
    "mean_age_not_survived = females_not_survived[\"Age\"].sum() / len(females_not_survived)\n",
    "median_age_not_survived = females_not_survived[\"Age\"].median()\n",
    "\n",
    "print(\"{}: mean age survived\".format(mean_age_survived))\n",
    "print(\"{}: mean age not survived\".format(mean_age_not_survived))\n",
    "print(\"{}: median age survived\".format(median_age_survived))\n",
    "print(\"{}: median age not survived\".format(median_age_not_survived))"
   ]
  },
  {
   "cell_type": "markdown",
   "id": "d6264f17",
   "metadata": {},
   "source": [
    "The mean and median age of women were both higher for women who survived."
   ]
  },
  {
   "cell_type": "markdown",
   "id": "f8b8755c",
   "metadata": {},
   "source": [
    "**Part G**: Do the data suggest class warfare, male chivalry, or some combination of both characteristics in the final hours aboard the Titanic?  Justify your conclusion based on the computations done above, or do any other analysis that you like, but be sure to clearly justify your conclusion. "
   ]
  },
  {
   "cell_type": "markdown",
   "id": "9ff76086",
   "metadata": {},
   "source": [
    "The data suggests that there was undoubtly male chivalry. In every single passenger class the women had a higher survival rate than men and by quite a bit. For example in class 1 40/101 men survived while 82/85 women survived which is a staggering difference in percentages. In my opinion there really is no way that there was class warfare."
   ]
  },
  {
   "cell_type": "markdown",
   "id": "3d8efd7c",
   "metadata": {},
   "source": [
    "### Problem 5\n",
    "***\n",
    "Access the data from url https://www.stat.berkeley.edu/~statlabs/data/babies.data and store the information in a Pandas DataFrame.  A description of the variables can be found at https://www.stat.berkeley.edu/~statlabs/labs.html.  These data are a subset from a much larger study dealing with child health and development. \n"
   ]
  },
  {
   "cell_type": "code",
   "execution_count": null,
   "id": "3ac4b07a",
   "metadata": {},
   "outputs": [],
   "source": [
    "#Reads in dirty data from website\n",
    "web_path = 'https://www.stat.berkeley.edu/~statlabs/data/babies.data'\n",
    "file_path = web_path \n",
    "\n",
    "df = pd.read_csv(file_path, delim_whitespace=True)\n",
    "df.info()"
   ]
  },
  {
   "cell_type": "markdown",
   "id": "14235e0b",
   "metadata": {},
   "source": [
    "\n",
    "**Part A**: Create a clean data set that removes subjects if any observations on the subject are unknown.  Note that that collectors of the data set used values like $9$, $99$, $999$, to denote unknown values.  You can look at the documentation linked in the problem description to determine which unknown-value marker was used for each characteristic.  Store the modified data set in a Pandas DataFrame called dfBabies. "
   ]
  }
 ],
 "metadata": {},
 "nbformat": 4,
 "nbformat_minor": 5
}
