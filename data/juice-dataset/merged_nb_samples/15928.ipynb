{
 "cells": [
  {
   "cell_type": "code",
   "execution_count": null,
   "id": "b82bc5d1",
   "metadata": {},
   "outputs": [],
   "source": [
    "%matplotlib inline\n",
    "import xarray as xr\n",
    "import os\n",
    "import numpy as np\n",
    "import matplotlib.pyplot as plt\n",
    "import collections\n",
    "import warnings \n",
    "from netCDF4 import default_fillvals\n",
    "from scipy.stats import hmean\n",
    "\n",
    "# import soil functions\n",
    "from parameter_functions import (is_soil_class, is_param_value, classify_soil_texture)\n",
    "\n",
    "# import veg functions\n",
    "from parameter_functions import (calculate_cv_pft, map_pft_to_nldas_class, is_overstory, \n",
    "                                 calc_root_fract, calc_root_depth_rz1, calc_root_depth_rz2)\n",
    "# import soil layer aggregation functions \n",
    "from parameter_functions import (calculate_first_layer_harmonic_mean, calculate_second_layer_harmonic_mean, \n",
    "                                 calculate_third_layer_harmonic_mean, calculate_first_layer_arithmetic_mean, \n",
    "                                 calculate_second_layer_arithmetic_mean, calculate_third_layer_arithmetic_mean)\n",
    "\n",
    "from parameter_functions_v2 import (soil_class_values, calculate_init_moist, \n",
    "                                    calculate_baseflow_parameters, create_empty_arrays, \n",
    "                                    create_parameter_dataset, calculate_nveg_pfts)\n",
    "\n",
    "# define fillvals\n",
    "fillval_f = default_fillvals['f8']\n",
    "fillval_i = default_fillvals['i4']"
   ]
  },
  {
   "cell_type": "markdown",
   "id": "3b05f758",
   "metadata": {},
   "source": [
    "This is a notebook for deriving new VIC 5 parameters in the RASM domain at multiple resolutions. \n",
    "\n",
    "Currently 50km (`wr50a_ar9v`) and 25km (`wr50a_ar9v`) are supported. \n",
    "\n",
    "The accompanying excel sheet `deriving_new_parameters_v2.xlsx` and Word Doc `procedure_for_derivation.docx` provide additional citations and details on methods. "
   ]
  },
  {
   "cell_type": "markdown",
   "id": "fb630750",
   "metadata": {},
   "source": [
    "__Set resolution for filenames__"
   ]
  },
  {
   "cell_type": "code",
   "execution_count": null,
   "id": "7e6e0205",
   "metadata": {},
   "outputs": [],
   "source": [
    "res = '50km'\n",
    "\n",
    "# set file extensions \n",
    "if res == \"50km\":\n",
    "    grid = 'wr50a_ar9v4'\n",
    "elif res == \"25km\":\n",
    "    grid = 'wr25b_ar9v4'\n",
    "elif res == \"10km\":\n",
    "    raise ValueError(\"we do not have a domain file at %s so this option has not been implemented\" %res)\n",
    "    \n",
    "if res == \"50km\":\n",
    "    nj = 205\n",
    "    ni = 275\n",
    "elif res == \"25km\":\n",
    "    nj = 413\n",
    "    ni = 551\n",
    "    \n",
    "num_veg = 17\n",
    "print(\"calculating parameters at %s\" %res)"
   ]
  },
  {
   "cell_type": "code",
   "execution_count": null,
   "id": "f87db18d",
   "metadata": {},
   "outputs": [],
   "source": [
    "inputdata = '/p/home/gergel/data/inputdata'"
   ]
  },
  {
   "cell_type": "markdown",
   "id": "401d6a51",
   "metadata": {},
   "source": [
    "__Set domain file__"
   ]
  },
  {
   "cell_type": "code",
   "execution_count": null,
   "id": "1a137270",
   "metadata": {},
   "outputs": [],
   "source": [
    "if res == '50km':\n",
    "    domain = xr.open_dataset(os.path.join(inputdata, \n",
    "                                      'domain.lnd.wr50a_ar9v4.100920.nc'))\n",
    "elif res == \"25km\":\n",
    "    domain = xr.open_dataset(os.path.join(inputdata, \n",
    "                                      'domain.lnd.wr25b_ar9v4.170413.nc'))\n",
    "masknan_vals = domain['mask'].where(domain['mask'] == 1).values"
   ]
  },
  {
   "cell_type": "code",
   "execution_count": null,
   "id": "c42a54ac",
   "metadata": {},
   "outputs": [],
   "source": [
    "old_params = xr.open_dataset(os.path.join(inputdata, \n",
    "                                          'vic_params_wr50a_vic5.0.dev_20160328.nc'))"
   ]
  },
  {
   "cell_type": "markdown",
   "id": "8cdd5419",
   "metadata": {},
   "source": [
    "__Options__"
   ]
  },
  {
   "cell_type": "code",
   "execution_count": null,
   "id": "471c5767",
   "metadata": {},
   "outputs": [],
   "source": [
    "# if set to True, add additional organic_fract options to parameter file, including soil organic fraction, \n",
    "# soil particle density of OM, and bulk density of OM \n",
    "organic_fract = True\n",
    "max_snow_albedo = True\n",
    "bulk_density_comb = True"
   ]
  },
  {
   "cell_type": "markdown",
   "id": "83c4b245",
   "metadata": {},
   "source": [
    "__Load soil data__"
   ]
  },
  {
   "cell_type": "code",
   "execution_count": null,
   "id": "3bbb5708",
   "metadata": {},
   "outputs": [],
   "source": [
    "soil_data_vars = collections.OrderedDict()\n",
    "soil_data_vars['silt'] = 'silt_sl*'\n",
    "soil_data_vars['sand'] = 'sand_sl*'\n",
    "soil_data_vars['clay'] = 'clay_sl*'\n",
    "soil_data_vars['bulk_density'] = 'bulk_density_sl*'\n",
    "soil_data_vars['organic_fract'] = 'organic_fract_sl*'\n",
    "\n",
    "# soil data dict with nlayer = 7 (base resolution of data)\n",
    "soil_data = {}\n",
    "soil_data_dir = '/u/home/gergel/data/parameters/soil_data/rasm_grid_netcdfs/%s' %res\n",
    "for soil_var, soil_wildcard in soil_data_vars.items(): \n",
    "    soil_data[soil_var] = xr.open_mfdataset(os.path.join(inputdata, soil_wildcard),\n",
    "                                            concat_dim='nlayer', \n",
    "                                            data_vars='all', \n",
    "                                            coords='all')"
   ]
  },
  {
   "cell_type": "markdown",
   "id": "a01bde45",
   "metadata": {},
   "source": [
    "__calculate soil types based on percent clay, percent sand and bulk density__\n"
   ]
  },
  {
   "cell_type": "code",
   "execution_count": null,
   "id": "ccdd3f73",
   "metadata": {},
   "outputs": [],
   "source": [
    "# classify_soil_texture(sand, clay, silt)\n",
    "soil_type_array = xr.apply_ufunc(classify_soil_texture, \n",
    "                                 soil_data['sand']['sand'].where(domain.mask == 1), \n",
    "                                 soil_data['clay']['clay'].where(domain.mask == 1),  \n",
    "                                 soil_data['silt']['silt'].where(domain.mask == 1),\n",
    "                                 dask='allowed',\n",
    "                                 vectorize=True)"
   ]
  },
  {
   "cell_type": "code",
   "execution_count": null,
   "id": "7ecdecb9",
   "metadata": {},
   "outputs": [],
   "source": [
    "ksat = xr.apply_ufunc(soil_class_values, \n",
    "                      soil_type_array,\n",
    "                      'ksat',\n",
    "                      dask='allowed',\n",
    "                      vectorize=True)\n",
    "quartz = xr.apply_ufunc(soil_class_values, \n",
    "                        soil_type_array,\n",
    "                        'quartz',\n",
    "                        dask='allowed',\n",
    "                        vectorize=True)\n",
    "Wcr_FRACT = xr.apply_ufunc(soil_class_values, \n",
    "                           soil_type_array,\n",
    "                           'Wcr_FRACT',\n",
    "                           dask='allowed',\n",
    "                           vectorize=True)\n",
    "Wpwp_FRACT = xr.apply_ufunc(soil_class_values, \n",
    "                            soil_type_array,\n",
    "                           'Wpwp_FRACT',\n",
    "                            dask='allowed',\n",
    "                            vectorize=True)\n",
    "b = xr.apply_ufunc(soil_class_values, \n",
    "                   soil_type_array,\n",
    "                   'b',\n",
    "                   dask='allowed',\n",
    "                   vectorize=True)\n",
    "bulk_density_min = xr.apply_ufunc(soil_class_values, \n",
    "                   soil_type_array,\n",
    "                   'bulk_density',\n",
    "                   dask='allowed',\n",
    "                   vectorize=True)\n",
    "resid_moist = xr.apply_ufunc(soil_class_values, \n",
    "                             soil_type_array,\n",
    "                             'resid_moist',\n",
    "                             dask='allowed',\n",
    "                             vectorize=True)"
   ]
  },
  {
   "cell_type": "markdown",
   "id": "5141d072",
   "metadata": {},
   "source": [
    "__Load regridded GTOPO 30 data, data var for elevation is called `Band1`, in (m)__"
   ]
  },
  {
   "cell_type": "code",
   "execution_count": null,
   "id": "0fea1893",
   "metadata": {},
   "outputs": [],
   "source": [
    "gtopo_filename = 'sdat_10003_1_20180525_151136146_%s.nc' %grid\n",
    "gtopo = xr.open_dataset(os.path.join(inputdata, gtopo_filename))\n",
    "elev = gtopo['Band1']"
   ]
  },
  {
   "cell_type": "markdown",
   "id": "73b17fb8",
   "metadata": {},
   "source": [
    "__Load regridded WORLDCLIM climate data for annual t and p__"
   ]
  },
  {
   "cell_type": "code",
   "execution_count": null,
   "id": "92368bc4",
   "metadata": {},
   "outputs": [],
   "source": [
    "clim_direc = '/u/home/gergel/data/parameters/world_clim_data/%s' %res\n",
    "prec = xr.open_mfdataset(os.path.join(inputdata, 'prec*'),\n",
    "                                      concat_dim='time', \n",
    "                                      data_vars=['prec'], \n",
    "                                      coords='all')\n",
    "\n",
    "# aggregate to annual, need average annual precip\n",
    "annual_precip = prec['prec'].sum('time')\n",
    "\n",
    "temp = xr.open_mfdataset(os.path.join(inputdata, 'tavg*'),\n",
    "                                      concat_dim='time', \n",
    "                                      data_vars='all', \n",
    "                                      coords='all')\n",
    "tavg = temp['tavg'].mean('time')"
   ]
  },
  {
   "cell_type": "markdown",
   "id": "5e5a11ed",
   "metadata": {},
   "source": [
    "__Load CLM PFTs to use for vegetation parameters__"
   ]
  },
  {
   "cell_type": "code",
   "execution_count": null,
   "id": "6087973d",
   "metadata": {},
   "outputs": [],
   "source": [
    "pfts_data_dir = '/u/home/gergel/data/parameters/pfts/regridded_pfts'\n",
    "pfts_filename = 'mksrf_landuse_rc2000_c110913_%s.nc' %grid\n",
    "veg_data = xr.open_dataset(os.path.join(inputdata, pfts_filename))"
   ]
  },
  {
   "cell_type": "markdown",
   "id": "e5334a59",
   "metadata": {},
   "source": [
    "__Calculate Cv from PFTs__"
   ]
  },
  {
   "cell_type": "code",
   "execution_count": null,
   "id": "73388090",
   "metadata": {},
   "outputs": [],
   "source": [
    "cv = xr.apply_ufunc(calculate_cv_pft, \n",
    "                    veg_data['PCT_PFT'].where(domain.mask == 1),\n",
    "                    dask='allowed',\n",
    "                    vectorize=True)"
   ]
  },
  {
   "cell_type": "markdown",
   "id": "65819ac4",
   "metadata": {},
   "source": [
    "__Calculate number of active PFTs, `Nveg`__ "
   ]
  },
  {
   "cell_type": "code",
   "execution_count": null,
   "id": "42a38934",
   "metadata": {},
   "outputs": [],
   "source": [
    "Nveg = xr.apply_ufunc(calculate_nveg_pfts,\n",
    "                      veg_data['PCT_PFT'].where(domain.mask == 1),\n",
    "                      dask='allowed',\n",
    "                      input_core_dims=[['pft']],\n",
    "                      vectorize=True)"
   ]
  },
  {
   "cell_type": "markdown",
   "id": "0b472886",
   "metadata": {},
   "source": [
    "__Load LAI and vegetation height, `MONTHLY_LAI` and `MONTHLY_HEIGHT_TOP`__"
   ]
  },
  {
   "cell_type": "code",
   "execution_count": null,
   "id": "594d5f97",
   "metadata": {},
   "outputs": [],
   "source": [
    "lai_file = xr.open_dataset(os.path.join(inputdata, \n",
    "                                   'mksrf_lai_78pfts_simyr2005.c170413_%s_lai.nc' %grid))"
   ]
  },
  {
   "cell_type": "code",
   "execution_count": null,
   "id": "33390907",
   "metadata": {},
   "outputs": [],
   "source": [
    "veg_height_file = xr.open_dataset(os.path.join(inputdata, \n",
    "                                'mksrf_lai_78pfts_simyr2005.c170413_%s_veg_height.nc' %grid))"
   ]
  },
  {
   "cell_type": "markdown",
   "id": "5b1c47db",
   "metadata": {},
   "source": [
    "LAI and veg_height from CLM and `PCT_PFT` from CLM have a different number of PFTs (`PCT_PFT` has one more PFT, 17 vs 16). The extra PFT in `PCT_PFT` has `PCT_PFT` = 0 over the entire RASM domain, so I just slice the LAI and veg_height from the 0th PFT (water/bare soil) and concatenate it for the 16th PFT. "
   ]
  },
  {
   "cell_type": "code",
   "execution_count": null,
   "id": "4e3bf654",
   "metadata": {},
   "outputs": [],
   "source": [
    "lai_slice = lai_file['MONTHLY_LAI'].isel(pft = 0)\n",
    "vegheight_slice = veg_height_file['MONTHLY_HEIGHT_TOP'].isel(pft=0)"
   ]
  },
  {
   "cell_type": "code",
   "execution_count": null,
   "id": "42f505ca",
   "metadata": {},
   "outputs": [],
   "source": [
    "lai = xr.concat([lai_file['MONTHLY_LAI'], lai_slice], dim='pft')\n",
    "veg_height = xr.concat([veg_height_file['MONTHLY_HEIGHT_TOP'], vegheight_slice], dim='pft')"
   ]
  },
  {
   "cell_type": "code",
   "execution_count": null,
   "id": "3f3fff86",
   "metadata": {},
   "outputs": [],
   "source": [
    "veg_rough = 0.123 * veg_height\n",
    "displacement = 0.67 * veg_height\n",
    "\n",
    "displacement.values[displacement.values == 0] = 1.0"
   ]
  },
  {
   "cell_type": "markdown",
   "id": "99a825e0",
   "metadata": {},
   "source": [
    "__Change dims and order of dims of LAI array__"
   ]
  },
  {
   "cell_type": "code",
   "execution_count": null,
   "id": "3fecb794",
   "metadata": {},
   "outputs": [],
   "source": [
    "lai = lai.rename({'time': 'month', 'pft': 'veg_class'})\n",
    "lai = lai.transpose('veg_class', 'month', 'nj', 'ni')\n",
    "\n",
    "veg_rough = veg_rough.rename({'time': 'month', 'pft': 'veg_class'})\n",
    "veg_rough = veg_rough.transpose('veg_class', 'month', 'nj', 'ni')\n",
    "\n",
    "displacement = displacement.rename({'time': 'month', 'pft': 'veg_class'})\n",
    "displacement = displacement.transpose('veg_class', 'month', 'nj', 'ni')"
   ]
  },
  {
   "cell_type": "markdown",
   "id": "f0998702",
   "metadata": {},
   "source": [
    "__Note__: map albedo, root zone fraction and root zone depth based on vegetation type. see `deriving_new_parameters_v2.xlsx` sheet titled `PFT-NLDAS Mapping` for mapping between NLDAS vegetation classes (used in old VIC 5 parameters) and CLM PFTs. This mapping is based on obvious relationships and some approximations (used for PFTs 8-11)."
   ]
  },
  {
   "cell_type": "markdown",
   "id": "edf47a74",
   "metadata": {},
   "source": [
    "__Create Dataset for variables and define data_vars__"
   ]
  },
  {
   "cell_type": "code",
   "execution_count": null,
   "id": "13c40145",
   "metadata": {},
   "outputs": [],
   "source": [
    "# loop over pft classes and months \n",
    "for pft in veg_data.pft.values:\n",
    "    for month in old_params.month.values:\n",
    "        nldas = map_pft_to_nldas_class(pft)\n",
    "        if nldas == 0 or nldas == 1:\n",
    "            albedo = 0.12\n",
    "        elif nldas >= 2 and nldas <= 5:\n",
    "            albedo = 0.18\n",
    "        elif nldas >= 6 and nldas <= 8:\n",
    "            albedo = 0.19\n",
    "        elif nldas == 9:\n",
    "            albedo = 0.2\n",
    "        elif nldas == 10: \n",
    "            albedo = 0.12\n",
    "        elif nldas == 11: \n",
    "            albedo = 0.2\n",
    "        params['albedo'].values[pft, month-1, :, :] = np.ones((1, 1, nj, ni)) * albedo"
   ]
  },
  {
   "cell_type": "markdown",
   "id": "9df76c57",
   "metadata": {},
   "source": [
    "__load hydroclimate classes__"
   ]
  },
  {
   "cell_type": "code",
   "execution_count": null,
   "id": "ad8d5e3d",
   "metadata": {},
   "outputs": [],
   "source": [
    "hydro_classes = xr.open_dataset(os.path.join(inputdata,\n",
    "                                             'hydroclimate_masks_%s.nc' %grid))"
   ]
  },
  {
   "cell_type": "markdown",
   "id": "3776c720",
   "metadata": {},
   "source": [
    "__baseflow parameters: Ds, Dsmax, Ws__"
   ]
  },
  {
   "cell_type": "code",
   "execution_count": null,
   "id": "429b4ed3",
   "metadata": {},
   "outputs": [],
   "source": [
    "d1 = calculate_baseflow_parameters(domain, inputdata, hydro_classes, \"d1\")\n",
    "params['Ds'].values = d1\n",
    "\n",
    "d2 = calculate_baseflow_parameters(domain, inputdata, hydro_classes, \"d2\")\n",
    "params['Dsmax'].values = d2\n",
    "\n",
    "d3 = calculate_baseflow_parameters(domain, inputdata, hydro_classes, \"d3\")\n",
    "params['Ws'].values = d3\n",
    "\n",
    "d4 = calculate_baseflow_parameters(domain, inputdata, hydro_classes, \"d4\")\n",
    "params['c'].values = d4"
   ]
  },
  {
   "cell_type": "markdown",
   "id": "037d7426",
   "metadata": {},
   "source": [
    "__b_i (`infilt`)__"
   ]
  },
  {
   "cell_type": "markdown",
   "id": "2c95eab1",
   "metadata": {},
   "source": [
    "First set of changes: \n",
    "--cold/WDS/WS no permafrost: change from 0.05 to 0.25 \n",
    "--cold/WDS/CS no permafrost: change from 0.5 to 0.25 \n",
    "--polar: change from 0.1 to 0.35\n"
   ]
  },
  {
   "cell_type": "code",
   "execution_count": null,
   "id": "0f48b593",
   "metadata": {},
   "outputs": [],
   "source": [
    "bi = np.copy(masknan_vals)\n",
    "bi[np.nonzero(hydro_classes['arid'].values)] = 0.05\n",
    "bi[np.nonzero(hydro_classes['temperate_dry'].values)] = 0.05\n",
    "bi[np.nonzero(hydro_classes['cold_dry_perma'].values)] = 0.3\n",
    "bi[np.nonzero(hydro_classes['cold_dry_noperma'].values)] = 0.5\n",
    "bi[np.nonzero(hydro_classes['cold_wds_ws_perma'].values)] = 0.3\n",
    "######### CHANGED ##############################\n",
    "bi[np.nonzero(hydro_classes['cold_wds_ws_noperma'].values)] = 0.05\n",
    "# bi[np.nonzero(hydro_classes['cold_wds_ws_noperma'].values)] = 0.25\n",
    "bi[np.nonzero(hydro_classes['cold_wds_cs_perma'].values)] = 0.3\n",
    "######### CHANGED ##############################\n",
    "bi[np.nonzero(hydro_classes['cold_wds_cs_noperma'].values)] = 0.5\n",
    "# bi[np.nonzero(hydro_classes['cold_wds_cs_noperma'].values)] = 0.25\n",
    "######### CHANGED ##############################\n",
    "bi[np.nonzero(hydro_classes['polar'].values)] = 0.1\n",
    "# bi[np.nonzero(hydro_classes['polar'].values)] = 0.35\n",
    "\n",
    "params['infilt'].values = bi"
   ]
  },
  {
   "cell_type": "markdown",
   "id": "f0610f33",
   "metadata": {},
   "source": [
    "__soil depths (`depth`)__"
   ]
  },
  {
   "cell_type": "code",
   "execution_count": null,
   "id": "49ffddac",
   "metadata": {},
   "outputs": [],
   "source": [
    "D1 = np.copy(masknan_vals)\n",
    "D2 = np.copy(masknan_vals)\n",
    "D3 = np.copy(masknan_vals)\n",
    "D1[np.nonzero(domain.mask.values)] = 0.3\n",
    "D3[np.nonzero(domain.mask.values)] = 0.5\n",
    "\n",
    "D2[np.nonzero(hydro_classes['arid'].values)] = 2.0\n",
    "D2[np.nonzero(hydro_classes['temperate_dry'].values)] = 2.0\n",
    "D2[np.nonzero(hydro_classes['cold_dry_perma'].values)] = 0.5\n",
    "D2[np.nonzero(hydro_classes['cold_dry_noperma'].values)] = 0.5\n",
    "D2[np.nonzero(hydro_classes['cold_wds_ws_perma'].values)] = 2.0\n",
    "######### CHANGED ##############################\n",
    "# D2[np.nonzero(hydro_classes['cold_wds_ws_noperma'].values)] = 0.5\n",
    "D2[np.nonzero(hydro_classes['cold_wds_ws_noperma'].values)] = 2.0\n",
    "######### CHANGED ##############################\n",
    "# D2[np.nonzero(hydro_classes['cold_wds_cs_perma'].values)] = 1.1\n",
    "D2[np.nonzero(hydro_classes['cold_wds_cs_perma'].values)] = 0.5\n",
    "######### CHANGED ##############################\n",
    "# D2[np.nonzero(hydro_classes['cold_wds_cs_noperma'].values)] = 0.3\n",
    "D2[np.nonzero(hydro_classes['cold_wds_cs_noperma'].values)] = 2.0\n",
    "######### CHANGED ##############################\n",
    "# D2[np.nonzero(hydro_classes['polar'].values)] = 0.3\n",
    "D2[np.nonzero(hydro_classes['polar'].values)] = 0.5\n",
    "\n",
    "depths = np.rollaxis(np.dstack((D1, D2, D3)), axis=2)\n",
    "params['depth'].values = depths"
   ]
  },
  {
   "cell_type": "markdown",
   "id": "f270746e",
   "metadata": {},
   "source": [
    "__aggregate ISRIC soil data to VIC soil depths__"
   ]
  },
  {
   "cell_type": "markdown",
   "id": "8d34c287",
   "metadata": {},
   "source": [
    "first need array of soil depths "
   ]
  },
  {
   "cell_type": "code",
   "execution_count": null,
   "id": "207ce7e9",
   "metadata": {},
   "outputs": [],
   "source": [
    "soil_depths = params['depth'].sum(axis=0)\n",
    "print(\"max soil depth is %.1f m\" % soil_depths.max())"
   ]
  },
  {
   "cell_type": "code",
   "execution_count": null,
   "id": "831c4bd5",
   "metadata": {},
   "outputs": [],
   "source": [
    "ksat_l1 = xr.apply_ufunc(calculate_first_layer_harmonic_mean,\n",
    "                         ksat.isel(nlayer=0), \n",
    "                         ksat.isel(nlayer=1),\n",
    "                         dask='allowed',\n",
    "                         vectorize=True)\n",
    "\n",
    "ksat_l2 = xr.apply_ufunc(calculate_second_layer_harmonic_mean,\n",
    "                         ksat.isel(nlayer=2), \n",
    "                         ksat.isel(nlayer=3),\n",
    "                         ksat.isel(nlayer=4),\n",
    "                         ksat.isel(nlayer=5),\n",
    "                         ksat.isel(nlayer=6),\n",
    "                         soil_depths,\n",
    "                         dask='allowed',\n",
    "                         vectorize=True)\n",
    "\n",
    "ksat_l3 = xr.apply_ufunc(calculate_second_layer_harmonic_mean,\n",
    "                         ksat.isel(nlayer=2), \n",
    "                         ksat.isel(nlayer=3),\n",
    "                         ksat.isel(nlayer=4),\n",
    "                         ksat.isel(nlayer=5),\n",
    "                         ksat.isel(nlayer=6),\n",
    "                         soil_depths,\n",
    "                         dask='allowed',\n",
    "                         vectorize=True)\n",
    "\n",
    "ksat_vals = np.rollaxis(np.dstack((ksat_l1, ksat_l2, ksat_l3)), \n",
    "                        axis=2)\n",
    "\n",
    "params['Ksat'].values = ksat_vals"
   ]
  },
  {
   "cell_type": "code",
   "execution_count": null,
   "id": "a96b95cd",
   "metadata": {},
   "outputs": [],
   "source": [
    "# bulk_density\n",
    "bdm_l1 = xr.apply_ufunc(calculate_first_layer_arithmetic_mean,\n",
    "                         bulk_density_min.isel(nlayer=0), \n",
    "                         bulk_density_min.isel(nlayer=1),\n",
    "                         dask='allowed',\n",
    "                         vectorize=True)\n",
    "\n",
    "bdm_l2 = xr.apply_ufunc(calculate_second_layer_arithmetic_mean,\n",
    "                         bulk_density_min.isel(nlayer=2), \n",
    "                         bulk_density_min.isel(nlayer=3),\n",
    "                         bulk_density_min.isel(nlayer=4),\n",
    "                         bulk_density_min.isel(nlayer=5),\n",
    "                         bulk_density_min.isel(nlayer=6),\n",
    "                         soil_depths,\n",
    "                         dask='allowed',\n",
    "                         vectorize=True)\n",
    "\n",
    "bdm_l3 = xr.apply_ufunc(calculate_second_layer_arithmetic_mean,\n",
    "                         bulk_density_min.isel(nlayer=2), \n",
    "                         bulk_density_min.isel(nlayer=3),\n",
    "                         bulk_density_min.isel(nlayer=4),\n",
    "                         bulk_density_min.isel(nlayer=5),\n",
    "                         bulk_density_min.isel(nlayer=6),\n",
    "                         soil_depths,\n",
    "                         dask='allowed',\n",
    "                         vectorize=True)\n",
    "\n",
    "bdm_vals = np.rollaxis(np.dstack((bdm_l1, bdm_l2, bdm_l3)), \n",
    "                        axis=2)\n",
    "params['bulk_density'].values = bdm_vals"
   ]
  },
  {
   "cell_type": "code",
   "execution_count": null,
   "id": "9c36321c",
   "metadata": {},
   "outputs": [],
   "source": [
    "# expt\n",
    "b_l1 = xr.apply_ufunc(calculate_first_layer_arithmetic_mean,\n",
    "                         b.isel(nlayer=0), \n",
    "                         b.isel(nlayer=1),\n",
    "                         dask='allowed',\n",
    "                         vectorize=True)\n",
    "\n",
    "b_l2 = xr.apply_ufunc(calculate_second_layer_arithmetic_mean,\n",
    "                         b.isel(nlayer=2), \n",
    "                         b.isel(nlayer=3),\n",
    "                         b.isel(nlayer=4),\n",
    "                         b.isel(nlayer=5),\n",
    "                         b.isel(nlayer=6),\n",
    "                         soil_depths,\n",
    "                         dask='allowed',\n",
    "                         vectorize=True)\n",
    "\n",
    "b_l3 = xr.apply_ufunc(calculate_second_layer_arithmetic_mean,\n",
    "                         b.isel(nlayer=2), \n",
    "                         b.isel(nlayer=3),\n",
    "                         b.isel(nlayer=4),\n",
    "                         b.isel(nlayer=5),\n",
    "                         b.isel(nlayer=6),\n",
    "                         soil_depths,\n",
    "                         dask='allowed',\n",
    "                         vectorize=True)\n",
    "\n",
    "expt_vals = np.rollaxis(np.dstack(((b_l1 * 2) + 3, (b_l2 * 2) + 3, (b_l3 * 2) + 3)), \n",
    "                        axis=2)\n",
    "params['expt'].values = expt_vals\n",
    "params['bubble'].values = (np.copy(params['expt'].values) * 0.32) + 4.3"
   ]
  },
  {
   "cell_type": "code",
   "execution_count": null,
   "id": "9d44f5bc",
   "metadata": {},
   "outputs": [],
   "source": [
    "# resid_moist\n",
    "rm_l1 = xr.apply_ufunc(calculate_first_layer_arithmetic_mean,\n",
    "                         resid_moist.isel(nlayer=0), \n",
    "                         resid_moist.isel(nlayer=1),\n",
    "                         dask='allowed',\n",
    "                         vectorize=True)\n",
    "\n",
    "rm_l2 = xr.apply_ufunc(calculate_second_layer_arithmetic_mean,\n",
    "                         resid_moist.isel(nlayer=2), \n",
    "                         resid_moist.isel(nlayer=3),\n",
    "                         resid_moist.isel(nlayer=4),\n",
    "                         resid_moist.isel(nlayer=5),\n",
    "                         resid_moist.isel(nlayer=6),\n",
    "                         soil_depths,\n",
    "                         dask='allowed',\n",
    "                         vectorize=True)\n",
    "\n",
    "rm_l3 = xr.apply_ufunc(calculate_second_layer_arithmetic_mean,\n",
    "                         resid_moist.isel(nlayer=2), \n",
    "                         resid_moist.isel(nlayer=3),\n",
    "                         resid_moist.isel(nlayer=4),\n",
    "                         resid_moist.isel(nlayer=5),\n",
    "                         resid_moist.isel(nlayer=6),\n",
    "                         soil_depths,\n",
    "                         dask='allowed',\n",
    "                         vectorize=True)\n",
    "rm_vals = np.rollaxis(np.dstack((rm_l1, rm_l2, rm_l3)), \n",
    "                        axis=2)\n",
    "params['resid_moist'].values = rm_vals"
   ]
  },
  {
   "cell_type": "code",
   "execution_count": null,
   "id": "af9aad14",
   "metadata": {},
   "outputs": [],
   "source": [
    "# Wcr_FRACT\n",
    "wcr_l1 = xr.apply_ufunc(calculate_first_layer_arithmetic_mean,\n",
    "                         Wcr_FRACT.isel(nlayer=0), \n",
    "                         Wcr_FRACT.isel(nlayer=1),\n",
    "                         dask='allowed',\n",
    "                         vectorize=True)\n",
    "\n",
    "wcr_l2 = xr.apply_ufunc(calculate_second_layer_arithmetic_mean,\n",
    "                         Wcr_FRACT.isel(nlayer=2), \n",
    "                         Wcr_FRACT.isel(nlayer=3),\n",
    "                         Wcr_FRACT.isel(nlayer=4),\n",
    "                         Wcr_FRACT.isel(nlayer=5),\n",
    "                         Wcr_FRACT.isel(nlayer=6),\n",
    "                         soil_depths,\n",
    "                         dask='allowed',\n",
    "                         vectorize=True)\n",
    "\n",
    "wcr_l3 = xr.apply_ufunc(calculate_second_layer_arithmetic_mean,\n",
    "                         Wcr_FRACT.isel(nlayer=2), \n",
    "                         Wcr_FRACT.isel(nlayer=3),\n",
    "                         Wcr_FRACT.isel(nlayer=4),\n",
    "                         Wcr_FRACT.isel(nlayer=5),\n",
    "                         Wcr_FRACT.isel(nlayer=6),\n",
    "                         soil_depths,\n",
    "                         dask='allowed',\n",
    "                         vectorize=True)\n",
    "wcr_vals = np.rollaxis(np.dstack((wcr_l1, wcr_l2, wcr_l3)), \n",
    "                        axis=2)"
   ]
  },
  {
   "cell_type": "code",
   "execution_count": null,
   "id": "d297dc83",
   "metadata": {},
   "outputs": [],
   "source": [
    "# Wpwp_FRACT\n",
    "wpwp_l1 = xr.apply_ufunc(calculate_first_layer_arithmetic_mean,\n",
    "                         Wpwp_FRACT.isel(nlayer=0), \n",
    "                         Wpwp_FRACT.isel(nlayer=1),\n",
    "                         dask='allowed',\n",
    "                         vectorize=True)\n",
    "\n",
    "wpwp_l2 = xr.apply_ufunc(calculate_second_layer_arithmetic_mean,\n",
    "                         Wpwp_FRACT.isel(nlayer=2), \n",
    "                         Wpwp_FRACT.isel(nlayer=3),\n",
    "                         Wpwp_FRACT.isel(nlayer=4),\n",
    "                         Wpwp_FRACT.isel(nlayer=5),\n",
    "                         Wpwp_FRACT.isel(nlayer=6),\n",
    "                         soil_depths,\n",
    "                         dask='allowed',\n",
    "                         vectorize=True)\n",
    "\n",
    "wpwp_l3 = xr.apply_ufunc(calculate_second_layer_arithmetic_mean,\n",
    "                         Wpwp_FRACT.isel(nlayer=2), \n",
    "                         Wpwp_FRACT.isel(nlayer=3),\n",
    "                         Wpwp_FRACT.isel(nlayer=4),\n",
    "                         Wpwp_FRACT.isel(nlayer=5),\n",
    "                         Wpwp_FRACT.isel(nlayer=6),\n",
    "                         soil_depths,\n",
    "                         dask='allowed',\n",
    "                         vectorize=True)\n",
    "\n",
    "wpwp_vals = np.rollaxis(np.dstack((wpwp_l1, wpwp_l2, wpwp_l3)), \n",
    "                        axis=2)"
   ]
  },
  {
   "cell_type": "code",
   "execution_count": null,
   "id": "2827032a",
   "metadata": {},
   "outputs": [],
   "source": [
    "# quartz\n",
    "qz_l1 = xr.apply_ufunc(calculate_first_layer_arithmetic_mean,\n",
    "                         quartz.isel(nlayer=0), \n",
    "                         quartz.isel(nlayer=1),\n",
    "                         dask='allowed',\n",
    "                         vectorize=True)\n",
    "\n",
    "qz_l2 = xr.apply_ufunc(calculate_second_layer_arithmetic_mean,\n",
    "                         quartz.isel(nlayer=2), \n",
    "                         quartz.isel(nlayer=3),\n",
    "                         quartz.isel(nlayer=4),\n",
    "                         quartz.isel(nlayer=5),\n",
    "                         quartz.isel(nlayer=6),\n",
    "                         soil_depths,\n",
    "                         dask='allowed',\n",
    "                         vectorize=True)\n",
    "\n",
    "qz_l3 = xr.apply_ufunc(calculate_second_layer_arithmetic_mean,\n",
    "                         quartz.isel(nlayer=2), \n",
    "                         quartz.isel(nlayer=3),\n",
    "                         quartz.isel(nlayer=4),\n",
    "                         quartz.isel(nlayer=5),\n",
    "                         quartz.isel(nlayer=6),\n",
    "                         soil_depths,\n",
    "                         dask='allowed',\n",
    "                         vectorize=True)\n",
    "qz_vals = np.rollaxis(np.dstack((qz_l1, qz_l2, qz_l3)), \n",
    "                        axis=2)\n",
    "params['quartz'].values = qz_vals"
   ]
  },
  {
   "cell_type": "code",
   "execution_count": null,
   "id": "f7f32c1c",
   "metadata": {},
   "outputs": [],
   "source": [
    "if bulk_density_comb == True:\n",
    "    # bulk_density\n",
    "    bd_l1 = xr.apply_ufunc(calculate_first_layer_arithmetic_mean,\n",
    "                             soil_data['bulk_density']['bulk_density'].isel(nlayer=0), \n",
    "                             soil_data['bulk_density']['bulk_density'].isel(nlayer=1),\n",
    "                             dask='allowed',\n",
    "                             vectorize=True)\n",
    "\n",
    "    bd_l2 = xr.apply_ufunc(calculate_second_layer_arithmetic_mean,\n",
    "                             soil_data['bulk_density']['bulk_density'].isel(nlayer=2), \n",
    "                             soil_data['bulk_density']['bulk_density'].isel(nlayer=3),\n",
    "                             soil_data['bulk_density']['bulk_density'].isel(nlayer=4),\n",
    "                             soil_data['bulk_density']['bulk_density'].isel(nlayer=5),\n",
    "                             soil_data['bulk_density']['bulk_density'].isel(nlayer=6),\n",
    "                             soil_depths,\n",
    "                             dask='allowed',\n",
    "                             vectorize=True)\n",
    "\n",
    "    bd_l3 = xr.apply_ufunc(calculate_second_layer_arithmetic_mean,\n",
    "                             soil_data['bulk_density']['bulk_density'].isel(nlayer=2), \n",
    "                             soil_data['bulk_density']['bulk_density'].isel(nlayer=3),\n",
    "                             soil_data['bulk_density']['bulk_density'].isel(nlayer=4),\n",
    "                             soil_data['bulk_density']['bulk_density'].isel(nlayer=5),\n",
    "                             soil_data['bulk_density']['bulk_density'].isel(nlayer=6),\n",
    "                             soil_depths,\n",
    "                             dask='allowed',\n",
    "                             vectorize=True)\n",
    "    bd_vals = np.rollaxis(np.dstack((bd_l1, bd_l2, bd_l3)), \n",
    "                            axis=2)\n",
    "    params['bulk_density_comb'].values = bd_vals"
   ]
  },
  {
   "cell_type": "code",
   "execution_count": null,
   "id": "d124c175",
   "metadata": {},
   "outputs": [],
   "source": [
    "if organic_fract == True:\n",
    "    # organic fract\n",
    "    of_l1 = xr.apply_ufunc(calculate_first_layer_arithmetic_mean,\n",
    "                             soil_data['organic_fract']['organic_fract'].isel(nlayer=0), \n",
    "                             soil_data['organic_fract']['organic_fract'].isel(nlayer=1),\n",
    "                             dask='allowed',\n",
    "                             vectorize=True)\n",
    "\n",
    "    of_l2 = xr.apply_ufunc(calculate_second_layer_arithmetic_mean,\n",
    "                             soil_data['organic_fract']['organic_fract'].isel(nlayer=2), \n",
    "                             soil_data['organic_fract']['organic_fract'].isel(nlayer=3),\n",
    "                             soil_data['organic_fract']['organic_fract'].isel(nlayer=4),\n",
    "                             soil_data['organic_fract']['organic_fract'].isel(nlayer=5),\n",
    "                             soil_data['organic_fract']['organic_fract'].isel(nlayer=6),\n",
    "                             soil_depths,\n",
    "                             dask='allowed',\n",
    "                             vectorize=True)\n",
    "\n",
    "    of_l3 = xr.apply_ufunc(calculate_second_layer_arithmetic_mean,\n",
    "                             soil_data['organic_fract']['organic_fract'].isel(nlayer=2), \n",
    "                             soil_data['organic_fract']['organic_fract'].isel(nlayer=3),\n",
    "                             soil_data['organic_fract']['organic_fract'].isel(nlayer=4),\n",
    "                             soil_data['organic_fract']['organic_fract'].isel(nlayer=5),\n",
    "                             soil_data['organic_fract']['organic_fract'].isel(nlayer=6),\n",
    "                             soil_depths,\n",
    "                             dask='allowed',\n",
    "                             vectorize=True)\n",
    "    of_vals = np.rollaxis(np.dstack(((of_l1/1000), (of_l2/1000), (of_l3/1000))), \n",
    "                            axis=2)\n",
    "    params['organic'].values = of_vals"
   ]
  },
  {
   "cell_type": "markdown",
   "id": "75daba94",
   "metadata": {},
   "source": [
    "__calculate porosity from bulk density and soil density__"
   ]
  },
  {
   "cell_type": "code",
   "execution_count": null,
   "id": "3da8481c",
   "metadata": {},
   "outputs": [],
   "source": [
    "sd_l1 = np.copy(masknan_vals)\n",
    "sd_l2 = np.copy(masknan_vals)\n",
    "sd_l3 = np.copy(masknan_vals)\n",
    "\n",
    "sd_l1[np.nonzero(masknan_vals)] = 2685.0\n",
    "sd_l2[np.nonzero(masknan_vals)] = 2685.0\n",
    "sd_l3[np.nonzero(masknan_vals)] = 2685.0\n",
    "\n",
    "sd_vals = np.rollaxis(np.dstack((sd_l1, sd_l2, sd_l3)), \n",
    "                        axis=2)\n",
    "params['soil_density'].values = sd_vals"
   ]
  },
  {
   "cell_type": "code",
   "execution_count": null,
   "id": "94bbb11c",
   "metadata": {},
   "outputs": [],
   "source": [
    "if organic_fract == True:\n",
    "    sd_org_l1 = np.copy(masknan_vals)\n",
    "    sd_org_l2 = np.copy(masknan_vals)\n",
    "    sd_org_l3 = np.copy(masknan_vals)\n",
    "\n",
    "    sd_org_l1[np.nonzero(masknan_vals)] = 1300.0\n",
    "    sd_org_l2[np.nonzero(masknan_vals)] = 1300.0\n",
    "    sd_org_l3[np.nonzero(masknan_vals)] = 1300.0\n",
    "\n",
    "    sd_org_vals = np.rollaxis(np.dstack((sd_org_l1, sd_org_l2, sd_org_l3)), \n",
    "                            axis=2)\n",
    "    params['soil_density_org'].values = sd_org_vals"
   ]
  },
  {
   "cell_type": "code",
   "execution_count": null,
   "id": "5ed1b1e6",
   "metadata": {},
   "outputs": [],
   "source": [
    "# calculate porosity\n",
    "if bulk_density_comb == True:\n",
    "    porosity = 1 - (params['bulk_density_comb'] / params['soil_density'])\n",
    "else:\n",
    "    porosity = 1 - (params['bulk_density'] / params['soil_density'])"
   ]
  },
  {
   "cell_type": "code",
   "execution_count": null,
   "id": "a48faf41",
   "metadata": {},
   "outputs": [],
   "source": [
    "params['Wpwp_FRACT'].values = wpwp_vals / porosity.values\n",
    "params['Wcr_FRACT'].values = wcr_vals / porosity.values"
   ]
  },
  {
   "cell_type": "markdown",
   "id": "811abe01",
   "metadata": {},
   "source": [
    "__make initial moisture fully saturated__"
   ]
  },
  {
   "cell_type": "code",
   "execution_count": null,
   "id": "c091a42b",
   "metadata": {},
   "outputs": [],
   "source": [
    "init_moist_l1 = xr.apply_ufunc(calculate_init_moist,\n",
    "                               porosity.isel(nlayer=0), \n",
    "                               params.depth.isel(nlayer=0),\n",
    "                               dask='allowed', \n",
    "                               vectorize=True)\n",
    "init_moist_l2 = xr.apply_ufunc(calculate_init_moist,\n",
    "                               porosity.isel(nlayer=1), \n",
    "                               params.depth.isel(nlayer=1),\n",
    "                               dask='allowed', \n",
    "                               vectorize=True)\n",
    "init_moist_l3 = xr.apply_ufunc(calculate_init_moist,\n",
    "                               porosity.isel(nlayer=1), \n",
    "                               params.depth.isel(nlayer=2),\n",
    "                               dask='allowed', \n",
    "                               vectorize=True)\n",
    "init_moist_vals = np.rollaxis(np.dstack((init_moist_l1, init_moist_l2, init_moist_l3)), \n",
    "                        axis=2)\n",
    "params['init_moist'].values = init_moist_vals"
   ]
  },
  {
   "cell_type": "markdown",
   "id": "a7298644",
   "metadata": {},
   "source": [
    "__add `off_gmt`__"
   ]
  },
  {
   "cell_type": "markdown",
   "id": "4456773e",
   "metadata": {},
   "source": [
    "define `trunk_ratio`, `rarc`, `rmin`, `wind_h`, `RGL`, `rad_atten`, `wind_atten`, `overstory`, `max_snow_albedo`"
   ]
  },
  {
   "cell_type": "code",
   "execution_count": null,
   "id": "5cca208e",
   "metadata": {},
   "outputs": [],
   "source": [
    "# trunk ratio, rarc, rad_atten\n",
    "trunk_ratio = np.copy(arr_veg_classes)\n",
    "params['trunk_ratio'].values = trunk_ratio * 0.2\n",
    "# adjust for bare soil \n",
    "params['trunk_ratio'].values[0, :, :] = 0.0\n",
    "\n",
    "rarc = np.copy(arr_veg_classes)\n",
    "params['rarc'].values = rarc * 60\n",
    "# adjust for bare soil\n",
    "params['rarc'].values[0, :, :] = 100\n",
    "\n",
    "rad_atten = np.copy(arr_veg_classes)\n",
    "params['rad_atten'].values = rad_atten * 0.5\n",
    "# adjust for bare soil \n",
    "params['rad_atten'].values[0, :, :] = 0.0\n",
    "\n",
    "wind_atten = np.copy(arr_veg_classes)\n",
    "params['wind_atten'].values = wind_atten * 0.5\n",
    "# adjust for bare soil \n",
    "params['wind_atten'].values[0, :, :] = 0.0"
   ]
  },
  {
   "cell_type": "code",
   "execution_count": null,
   "id": "559467ae",
   "metadata": {},
   "outputs": [],
   "source": [
    "if max_snow_albedo == True:\n",
    "    # max_albedo\n",
    "    for pft in veg_data.pft.values:\n",
    "        # get nldas mapping from pft\n",
    "        nldas = map_pft_to_nldas_class(pft)\n",
    "        if nldas == 0:\n",
    "            max_alb = 0.34\n",
    "        elif nldas == 1:\n",
    "            max_alb = 0.37\n",
    "        elif nldas == 2:\n",
    "            max_alb = 0.35\n",
    "        elif nldas == 3: \n",
    "            max_alb = 0.35\n",
    "        elif nldas == 4: \n",
    "            max_alb = 0.44\n",
    "        elif nldas == 5:\n",
    "            max_alb = 0.69\n",
    "        elif nldas == 6:\n",
    "            max_alb = 0.43\n",
    "        elif nldas == 7:\n",
    "            max_alb = 0.56\n",
    "        elif nldas == 8:\n",
    "            max_alb = 0.70\n",
    "        elif nldas == 9:\n",
    "            max_alb = 0.65\n",
    "        elif nldas == 10:\n",
    "            max_alb = 0.46\n",
    "        elif nldas == 11:\n",
    "            max_alb = 0.84\n",
    "        params['max_snow_albedo'].values[pft, :, :] = np.ones((1, nj, ni)) * max_alb"
   ]
  },
  {
   "cell_type": "code",
   "execution_count": null,
   "id": "0bc2c92f",
   "metadata": {},
   "outputs": [],
   "source": [
    "# rmin, wind_h\n",
    "for pft in veg_data.pft.values:\n",
    "    # get nldas mapping from pft\n",
    "    nldas = map_pft_to_nldas_class(pft)\n",
    "    if nldas >= 0 and nldas <= 3:\n",
    "        rmin = np.asscalar(old_params.rmin.isel(veg_class=0).mean())\n",
    "        wind_h = np.asscalar(old_params.wind_h.isel(veg_class=0).mean())\n",
    "    elif nldas == 4:\n",
    "        rmin = np.asscalar(old_params.rmin.isel(veg_class=4).mean())\n",
    "        wind_h = np.asscalar(old_params.wind_h.isel(veg_class=4).mean())\n",
    "    elif nldas >= 5 and nldas <= 6:\n",
    "        rmin = np.asscalar(old_params.rmin.isel(veg_class=5).mean())\n",
    "        wind_h = np.asscalar(old_params.wind_h.isel(veg_class=5).mean())\n",
    "    elif nldas >= 7 and nldas <= 8:\n",
    "        rmin = np.asscalar(old_params.rmin.isel(veg_class=7).mean())\n",
    "        wind_h = np.asscalar(old_params.wind_h.isel(veg_class=7).mean())\n",
    "    elif nldas == 9:\n",
    "        rmin = np.asscalar(old_params.rmin.isel(veg_class=9).mean())\n",
    "        wind_h = np.asscalar(old_params.wind_h.isel(veg_class=9).mean())\n",
    "    elif nldas == 10:\n",
    "        rmin = np.asscalar(old_params.rmin.isel(veg_class=10).mean())\n",
    "        wind_h = np.asscalar(old_params.wind_h.isel(veg_class=10).mean())\n",
    "    elif nldas == 11:\n",
    "        rmin = np.asscalar(old_params.rmin.isel(veg_class=11).mean())\n",
    "        wind_h = np.asscalar(old_params.wind_h.isel(veg_class=11).mean())\n",
    "    params['rmin'].values[pft, :, :] = np.ones((1, nj, ni)) * rmin\n",
    "    params['wind_h'].values[pft, :, :] = np.ones((1, nj, ni)) * wind_h"
   ]
  },
  {
   "cell_type": "code",
   "execution_count": null,
   "id": "041fc71d",
   "metadata": {},
   "outputs": [],
   "source": [
    "# RGL\n",
    "for pft in veg_data.pft.values:\n",
    "    # get nldas mapping from pft\n",
    "    nldas = map_pft_to_nldas_class(pft)\n",
    "    if nldas >= 0 and nldas <= 3:\n",
    "        rgl = np.asscalar(old_params.wind_h.isel(veg_class=0).mean())\n",
    "    elif nldas >= 4 and nldas <= 5:\n",
    "        rgl = np.asscalar(old_params.wind_h.isel(veg_class=4).mean())\n",
    "    elif nldas >= 6 and nldas <= 8:\n",
    "        rgl = np.asscalar(old_params.wind_h.isel(veg_class=6).mean())\n",
    "    elif nldas >= 9 and nldas <= 10:\n",
    "        rgl = np.asscalar(old_params.wind_h.isel(veg_class=9).mean())\n",
    "    elif nldas == 11:\n",
    "        rgl = np.asscalar(old_params.wind_h.isel(veg_class=11).mean())\n",
    "    params['RGL'].values[pft, :, :] = np.ones((1, nj, ni)) * rgl"
   ]
  },
  {
   "cell_type": "code",
   "execution_count": null,
   "id": "5a1fb44a",
   "metadata": {},
   "outputs": [],
   "source": [
    "# overstory\n",
    "overstory = np.copy(arr_veg_classes)\n",
    "for pft in veg_data.pft.values:\n",
    "    nldas = map_pft_to_nldas_class(pft)\n",
    "    if nldas > 6:\n",
    "        # no overstory\n",
    "        overstory = 0.0\n",
    "    else: \n",
    "        overstory = 1.0\n",
    "    params['overstory'].values[pft, :, :] = overstory"
   ]
  },
  {
   "cell_type": "code",
   "execution_count": null,
   "id": "82ce8fc0",
   "metadata": {},
   "outputs": [],
   "source": [
    "root_depth_rz1 = xr.apply_ufunc(calc_root_depth_rz1,\n",
    "                           params['Cv'].where(domain.mask == 1), \n",
    "                           dask='allowed',\n",
    "                           vectorize=True)\n",
    "root_depth_rz2 = xr.apply_ufunc(calc_root_depth_rz2,\n",
    "                           params['Cv'].where(domain.mask == 1), \n",
    "                           dask='allowed',\n",
    "                           vectorize=True)\n",
    "root_depth = xr.concat([root_depth_rz1, root_depth_rz2],\n",
    "                      dim='root_zone').transpose('veg_class', 'root_zone', 'nj', 'ni')"
   ]
  },
  {
   "cell_type": "code",
   "execution_count": null,
   "id": "90593ab9",
   "metadata": {},
   "outputs": [],
   "source": [
    "# root fract \n",
    "\n",
    "rz = 0\n",
    "for pft in veg_data.pft.values:\n",
    "    if pft == 0:\n",
    "        root_fract_rz1 = xr.apply_ufunc(calc_root_fract,\n",
    "                                        params['Cv'].isel(veg_class=pft),\n",
    "                                        str(pft),\n",
    "                                        str(rz),\n",
    "                                        dask='allowed',\n",
    "                                        vectorize=True)\n",
    "    else: \n",
    "        root_fract_rz1 = xr.concat([root_fract_rz1, xr.apply_ufunc(calc_root_fract,\n",
    "                                                                   params['Cv'].isel(veg_class=pft),\n",
    "                                                                   str(pft),\n",
    "                                                                   str(rz),\n",
    "                                                                   dask='allowed',\n",
    "                                                                   vectorize=True)],\n",
    "                                  dim='veg_class')\n",
    "rz = 1\n",
    "for pft in veg_data.pft.values:\n",
    "    if pft == 0:\n",
    "        root_fract_rz2 = xr.apply_ufunc(calc_root_fract,\n",
    "                                        params['Cv'].isel(veg_class=pft), \n",
    "                                        str(pft),\n",
    "                                        str(rz),\n",
    "                                        dask='allowed',\n",
    "                                        vectorize=True)\n",
    "    else: \n",
    "        root_fract_rz2 = xr.concat([root_fract_rz2, xr.apply_ufunc(calc_root_fract,\n",
    "                                                                   params['Cv'].isel(veg_class=pft), \n",
    "                                                                   str(pft),\n",
    "                                                                   str(rz),\n",
    "                                                                   dask='allowed',\n",
    "                                                                   vectorize=True)],\n",
    "                                  dim='veg_class')\n",
    "        \n",
    "root_fract = xr.concat([root_fract_rz1, root_fract_rz2], dim='root_zone').transpose('veg_class', 'root_zone', 'nj', 'ni')"
   ]
  },
  {
   "cell_type": "code",
   "execution_count": null,
   "id": "02f42318",
   "metadata": {},
   "outputs": [],
   "source": [
    "params['root_depth'].values = root_depth\n",
    "params['root_fract'].values = root_fract"
   ]
  },
  {
   "cell_type": "markdown",
   "id": "21c6bbd1",
   "metadata": {},
   "source": [
    "__albedo__"
   ]
  },
  {
   "cell_type": "code",
   "execution_count": null,
   "id": "2b4e55e7",
   "metadata": {},
   "outputs": [],
   "source": [
    "if res == \"50km\":\n",
    "    params['off_gmt'].values = old_params['off_gmt'].values\n",
    "\n",
    "elif res == \"25km\":\n",
    "    # load regridded off_gmt from 50km to 25km \n",
    "    off_gmt = xr.open_dataset(os.path.join('/u/home/gergel/data/parameters', \n",
    "                                           'off_gmt_wr25b_ar9v4.nc'))\n",
    "    params['off_gmt'].values = off_gmt['off_gmt'].values"
   ]
  },
  {
   "cell_type": "markdown",
   "id": "facb86ba",
   "metadata": {},
   "source": [
    "__add: elev, c, phi_s, avg_T, dp, bubble, soil_density, off_gmt, rough, snow_rough,\n",
    "annual_prec, fs_active__"
   ]
  }
 ],
 "metadata": {},
 "nbformat": 4,
 "nbformat_minor": 5
}
