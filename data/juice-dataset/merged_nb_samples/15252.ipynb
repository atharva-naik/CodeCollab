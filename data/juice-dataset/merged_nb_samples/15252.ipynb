{
 "cells": [
  {
   "cell_type": "markdown",
   "id": "1cea2b43",
   "metadata": {},
   "source": [
    "***\n",
    "Using just the **Sex** feature for each passenger, we are able to increase the accuracy of our predictions by a significant margin. Now, let's consider using an additional feature to see if we can further improve our predictions. For example, consider all of the male passengers aboard the RMS Titanic: Can we find a subset of those passengers that had a higher rate of survival? Let's start by looking at the **Age** of each male, by again using the `survival_stats` function. This time, we'll use a fourth parameter to filter out the data so that only passengers with the **Sex** 'male' will be included.  \n",
    "Run the code cell below to plot the survival outcomes of male passengers based on their age."
   ]
  },
  {
   "cell_type": "code",
   "execution_count": null,
   "id": "a2047e74",
   "metadata": {},
   "outputs": [],
   "source": [
    "vs.survival_stats(data, outcomes, 'Age', [\"Sex == 'male'\"])"
   ]
  },
  {
   "cell_type": "markdown",
   "id": "915c9fc0",
   "metadata": {},
   "source": [
    "Examining the survival statistics, the majority of males younger than 10 survived the ship sinking, whereas most males age 10 or older *did not survive* the ship sinking. Let's continue to build on our previous prediction: If a passenger was female, then we will predict they survive. If a passenger was male and younger than 10, then we will also predict they survive. Otherwise, we will predict they do not survive.  \n",
    "Fill in the missing code below so that the function will make this prediction.  \n",
    "**Hint:** You can start your implementation of this function using the prediction code you wrote earlier from `predictions_1`."
   ]
  },
  {
   "cell_type": "code",
   "execution_count": null,
   "id": "a6ce3dfd",
   "metadata": {},
   "outputs": [],
   "source": [
    "def predictions_2(data):\n",
    "    \"\"\" Model with two features: \n",
    "            - Predict a passenger survived if they are female.\n",
    "            - Predict a passenger survived if they are male and younger than 10. \"\"\"\n",
    "    \n",
    "    predictions = []\n",
    "    for _, passenger in data.iterrows():\n",
    "        \n",
    "        # Remove the 'pass' statement below \n",
    "        # and write your prediction conditions here\n",
    "        if passenger['Sex']=='female':\n",
    "            predictions.append(1)\n",
    "        elif passenger['Sex']=='male' and passenger['Age']<10:\n",
    "            predictions.append(1)\n",
    "        else:\n",
    "            predictions.append(0)\n",
    "    \n",
    "    # Return our predictions\n",
    "    return pd.Series(predictions)\n",
    "\n",
    "# Make the predictions\n",
    "predictions = predictions_2(data)"
   ]
  },
  {
   "cell_type": "markdown",
   "id": "9b1030d5",
   "metadata": {},
   "source": [
    "### Question 3\n",
    "*How accurate would a prediction be that all female passengers and all male passengers younger than 10 survived?*  \n",
    "**Hint:** Run the code cell below to see the accuracy of this prediction."
   ]
  },
  {
   "cell_type": "code",
   "execution_count": null,
   "id": "f5028ee6",
   "metadata": {},
   "outputs": [],
   "source": [
    "print accuracy_score(outcomes, predictions)"
   ]
  },
  {
   "cell_type": "markdown",
   "id": "5a7b2786",
   "metadata": {},
   "source": [
    "**Answer**: *Predictions have an accuracy of 79.35%.*"
   ]
  },
  {
   "cell_type": "markdown",
   "id": "d1e444fd",
   "metadata": {},
   "source": [
    "***\n",
    "Adding the feature **Age** as a condition in conjunction with **Sex** improves the accuracy by a small margin more than with simply using the feature **Sex** alone. Now it's your turn: Find a series of features and conditions to split the data on to obtain an outcome prediction accuracy of at least 80%. This may require multiple features and multiple levels of conditional statements to succeed. You can use the same feature multiple times with different conditions.   \n",
    "**Pclass**, **Sex**, **Age**, **SibSp**, and **Parch** are some suggested features to try.\n",
    "\n",
    "Use the `survival_stats` function below to to examine various survival statistics.  \n",
    "**Hint:** To use mulitple filter conditions, put each condition in the list passed as the last argument. Example: `[\"Sex == 'male'\", \"Age < 18\"]`"
   ]
  },
  {
   "cell_type": "code",
   "execution_count": null,
   "id": "dc545f45",
   "metadata": {},
   "outputs": [],
   "source": [
    "vs.survival_stats(data, outcomes, 'Age', [\"Sex == 'male'\", \"Age < 18\"])"
   ]
  },
  {
   "cell_type": "code",
   "execution_count": null,
   "id": "3010365b",
   "metadata": {},
   "outputs": [],
   "source": [
    "vs.survival_stats(data, outcomes, 'Fare',[\"Sex == 'male'\", \"Age > 10\", \"Pclass == 1\"])"
   ]
  },
  {
   "cell_type": "markdown",
   "id": "0d6f2f78",
   "metadata": {},
   "source": [
    "After exploring the survival statistics visualization, fill in the missing code below so that the function will make your prediction.  \n",
    "Make sure to keep track of the various features and conditions you tried before arriving at your final prediction model.  \n",
    "**Hint:** You can start your implementation of this function using the prediction code you wrote earlier from `predictions_2`."
   ]
  },
  {
   "cell_type": "markdown",
   "id": "22e07642",
   "metadata": {},
   "source": [
    "### Question 3 - explore features, goal predict accuracy of over 80%"
   ]
  },
  {
   "cell_type": "code",
   "execution_count": null,
   "id": "7280281d",
   "metadata": {},
   "outputs": [],
   "source": [
    "# Let's take a look at all the features once again...\n",
    "data.columns.values"
   ]
  },
  {
   "cell_type": "markdown",
   "id": "0ddd6a8d",
   "metadata": {},
   "source": [
    "**Right now we know that women and children had a higher chance of survival. \n",
    "Perhaps because of the \"women and children first\" idea\n",
    "Now, there are some possible things to explore:**\n",
    "    * Did lower or higher class survive at higher rates?*\n",
    "    * Perhaps the Fare determine location on the ship and hence survival?*\n",
    "    * Maybe people with bigger families (spouses, siblings, parents, children) had a hard time moving?*\n",
    "    * What about the cabin or place of embarkation?*\n",
    "** Now lets investigate all these possibilities ! **"
   ]
  },
  {
   "cell_type": "code",
   "execution_count": null,
   "id": "157d6652",
   "metadata": {},
   "outputs": [],
   "source": [
    "# Investigate the impact of class variable on women\n",
    "vs.survival_stats(data, outcomes, 'Pclass',[\"Sex == 'female'\"])"
   ]
  },
  {
   "cell_type": "markdown",
   "id": "dd3bd4ec",
   "metadata": {},
   "source": [
    "*It's clear that women in class 1 and class 2 survived at higher rates than those \n",
    "in class 3. Perhaps there were only a few lifeboats and they were located/reserved for \n",
    "class 1 and 2 where more wealthy passengers were?*\n",
    "\n",
    "** Now let's dig deeper into the women in class 3 and see if we can diffentiate them better**"
   ]
  },
  {
   "cell_type": "code",
   "execution_count": null,
   "id": "fb3c36fc",
   "metadata": {},
   "outputs": [],
   "source": [
    "# Dig more into women on class 3\n",
    "vs.survival_stats(data, outcomes, 'Embarked',[\"Sex == 'female'\", \"Pclass == 3\"])"
   ]
  },
  {
   "cell_type": "markdown",
   "id": "8198c591",
   "metadata": {},
   "source": [
    "*It seems that women in class 3 who embarked at point C and Q survived at \n",
    "higher rates than they didn't *"
   ]
  },
  {
   "cell_type": "code",
   "execution_count": null,
   "id": "7a31228e",
   "metadata": {},
   "outputs": [],
   "source": [
    "vs.survival_stats(data, outcomes, 'Fare',[\"Sex == 'female'\", \"Pclass == 3\"])"
   ]
  },
  {
   "cell_type": "markdown",
   "id": "514e7bb8",
   "metadata": {},
   "source": [
    "*Clearly women in class 3 who paid leass than $20 Fare also survived at higher rates!\n",
    "That is surprising, maybe the lowest fare cabins where for staff and less priviledged\n",
    "but were situated in a good position to allow survival*"
   ]
  },
  {
   "cell_type": "code",
   "execution_count": null,
   "id": "3abf8cab",
   "metadata": {},
   "outputs": [],
   "source": [
    "vs.survival_stats(data, outcomes, 'Parch',[\"Sex == 'female'\", \"Pclass == 3\"])"
   ]
  },
  {
   "cell_type": "markdown",
   "id": "62b647c4",
   "metadata": {},
   "source": [
    "*It seems women in class 3 with no parents or children also survived at high rates,\n",
    "maybe they were unencumbered!*"
   ]
  },
  {
   "cell_type": "code",
   "execution_count": null,
   "id": "daac191d",
   "metadata": {},
   "outputs": [],
   "source": [
    "vs.survival_stats(data, outcomes, 'Age',[\"Sex == 'female'\", \"Pclass == 3\"])"
   ]
  },
  {
   "cell_type": "markdown",
   "id": "e1864ebc",
   "metadata": {},
   "source": [
    "*Also, women in class 3 and less than 20 years old all survived*"
   ]
  },
  {
   "cell_type": "code",
   "execution_count": null,
   "id": "ccee5998",
   "metadata": {},
   "outputs": [],
   "source": [
    "vs.survival_stats(data, outcomes, 'Cabin',[\"Sex == 'female'\", \"Pclass == 3\"])"
   ]
  },
  {
   "cell_type": "code",
   "execution_count": null,
   "id": "f48999bc",
   "metadata": {},
   "outputs": [],
   "source": [
    "vs.survival_stats(data, outcomes, 'Ticket',[\"Sex == 'female'\", \"Pclass == 3\"])"
   ]
  },
  {
   "cell_type": "markdown",
   "id": "0ab476e3",
   "metadata": {},
   "source": [
    "*But both Cabin and Ticket have too many categories for visualization at the moment.\n",
    "They are good candidates for feature engineering in the future though...*"
   ]
  },
  {
   "cell_type": "markdown",
   "id": "f34d08b2",
   "metadata": {},
   "source": [
    "#### OK, that's a lot of exploration on female passengers. Now lets see what happened to the men... "
   ]
  },
  {
   "cell_type": "code",
   "execution_count": null,
   "id": "b3688923",
   "metadata": {},
   "outputs": [],
   "source": [
    "vs.survival_stats(data, outcomes, 'Pclass',[\"Sex == 'male'\", \"Age > 10\"])"
   ]
  },
  {
   "cell_type": "markdown",
   "id": "69c7466a",
   "metadata": {},
   "source": [
    "*We know male children (under 10) all survived so looking at males over 10, most of\n",
    "them did not survive especially those in class 2. So let's investigate males in class\n",
    "1 and 3*"
   ]
  }
 ],
 "metadata": {},
 "nbformat": 4,
 "nbformat_minor": 5
}
