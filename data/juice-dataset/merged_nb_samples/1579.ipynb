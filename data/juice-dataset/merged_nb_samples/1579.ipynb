{
 "cells": [
  {
   "cell_type": "markdown",
   "id": "94afa37b",
   "metadata": {},
   "source": [
    "## My first neural network - Single layer Perceptron\n",
    "\n",
    "This is my first neural network, a single-layer perceptron classifier with simple multi-dimensional custom data just to evaluate the algorithm."
   ]
  },
  {
   "cell_type": "code",
   "execution_count": null,
   "id": "07f5b00c",
   "metadata": {},
   "outputs": [],
   "source": [
    "import numpy as np \n",
    "from perceptron import Perceptron\n",
    "from plot import plot"
   ]
  },
  {
   "cell_type": "markdown",
   "id": "007f6296",
   "metadata": {},
   "source": [
    "Let's try a two-dimensional, two-classes case. We have to find a line that separates the training data according to its class. "
   ]
  },
  {
   "cell_type": "code",
   "execution_count": null,
   "id": "6d29890a",
   "metadata": {},
   "outputs": [],
   "source": [
    "# train data\n",
    "M, D, C = 6, 2, 2\n",
    "data = np.zeros((M,D+1))  # D + label\n",
    "# last element is the label\n",
    "data[0] = [0.9, 0.1, 0]\n",
    "data[1] = [1.9, 0.8, 1]\n",
    "data[2] = [2, 0.9, 1]\n",
    "data[3] = [1 ,0.2, 0]\n",
    "data[4] = [1.2, 0.1, 1]\n",
    "data[5] = [1.6, 0.6, 1]\n",
    "# train perceptron\n",
    "nn = Perceptron(D,C)     \n",
    "nn.train(data)   "
   ]
  },
  {
   "cell_type": "code",
   "execution_count": null,
   "id": "d748c91a",
   "metadata": {},
   "outputs": [],
   "source": [
    "# test perceptron\n",
    "testData = np.asarray([1.4, 0.3])\n",
    "print(\"testData is of class \", nn.evaluate(testData))\n",
    "plot(data,'test',testData,D,C,nn.w,nn.w0)"
   ]
  },
  {
   "cell_type": "code",
   "execution_count": null,
   "id": "1751e0e6",
   "metadata": {},
   "outputs": [],
   "source": [
    "# test perceptron\n",
    "testData = np.asarray([1., -0.5])\n",
    "print(\"testData is of class \", nn.evaluate(testData))\n",
    "plot(data,'test',testData,D,C,nn.w,nn.w0)"
   ]
  },
  {
   "cell_type": "markdown",
   "id": "65c9e585",
   "metadata": {},
   "source": [
    "Now, with more classes. "
   ]
  }
 ],
 "metadata": {},
 "nbformat": 4,
 "nbformat_minor": 5
}
