{
 "cells": [
  {
   "cell_type": "markdown",
   "id": "a221a58f",
   "metadata": {},
   "source": [
    "#  Numpy, part I: why numpy?"
   ]
  },
  {
   "cell_type": "markdown",
   "id": "c2fc3e49",
   "metadata": {},
   "source": [
    "You might have read somewhere that Python is \"slow\" in comparison to other languages like Fortran or C. While generally true, this statement has only little meaning without context. As a scripting language, python is fast enough. For *numerical computations* (like the computations done by an atmospheric model or by a machine learning algorithm), pure Python is quite slow indeed. Fortunately, there are ways to overcome this problem!\n",
    "\n",
    "In this chapter we are going to explain why the ``numpy`` library was created. Before that, we will discuss some of the differences between python and compiled languages widely used in scientific software development (like C and FORTRAN). "
   ]
  },
  {
   "cell_type": "markdown",
   "id": "0b5ab36d",
   "metadata": {},
   "source": [
    "<h1>Table of Contents<span class=\"tocSkip\"></span></h1>\n",
    "<div class=\"toc\"><ul class=\"toc-item\"><li><span><a href=\"#Numpy,-part-I:-why-numpy?\" data-toc-modified-id=\"Numpy,-part-I:-why-numpy?-13\"><span class=\"toc-item-num\">13&nbsp;&nbsp;</span>Numpy, part I: why numpy?</a></span><ul class=\"toc-item\"><li><span><a href=\"#Why-is-python-&quot;slow&quot;?\" data-toc-modified-id=\"Why-is-python-&quot;slow&quot;?-13.1\"><span class=\"toc-item-num\">13.1&nbsp;&nbsp;</span>Why is python \"slow\"?</a></span></li><li><span><a href=\"#Dynamically-versus-statically-typed-languages\" data-toc-modified-id=\"Dynamically-versus-statically-typed-languages-13.2\"><span class=\"toc-item-num\">13.2&nbsp;&nbsp;</span>Dynamically versus statically typed languages</a></span></li><li><span><a href=\"#Compiled-versus-interpreted-languages\" data-toc-modified-id=\"Compiled-versus-interpreted-languages-13.3\"><span class=\"toc-item-num\">13.3&nbsp;&nbsp;</span>Compiled versus interpreted languages</a></span></li><li><span><a href=\"#Here-comes-numpy\" data-toc-modified-id=\"Here-comes-numpy-13.4\"><span class=\"toc-item-num\">13.4&nbsp;&nbsp;</span>Here comes numpy</a></span></li><li><span><a href=\"#Anatomy-of-a-ndarray\" data-toc-modified-id=\"Anatomy-of-a-ndarray-13.5\"><span class=\"toc-item-num\">13.5&nbsp;&nbsp;</span>Anatomy of a ndarray</a></span></li><li><span><a href=\"#Take-home-points\" data-toc-modified-id=\"Take-home-points-13.6\"><span class=\"toc-item-num\">13.6&nbsp;&nbsp;</span>Take home points</a></span></li><li><span><a href=\"#Further-reading\" data-toc-modified-id=\"Further-reading-13.7\"><span class=\"toc-item-num\">13.7&nbsp;&nbsp;</span>Further reading</a></span></li><li><span><a href=\"#Addendum:-is-python-really-that-slow?\" data-toc-modified-id=\"Addendum:-is-python-really-that-slow?-13.8\"><span class=\"toc-item-num\">13.8&nbsp;&nbsp;</span>Addendum: is python really <em>that</em> slow?</a></span></li><li><span><a href=\"#What's-next?\" data-toc-modified-id=\"What's-next?-13.9\"><span class=\"toc-item-num\">13.9&nbsp;&nbsp;</span>What's next?</a></span></li></ul></li></ul></div>"
   ]
  },
  {
   "cell_type": "markdown",
   "id": "388e347f",
   "metadata": {},
   "source": [
    "## Why is python \"slow\"?"
   ]
  },
  {
   "cell_type": "markdown",
   "id": "2fefdb8c",
   "metadata": {},
   "source": [
    "Last week, we've learned that the memory consumption of a python ``int`` is larger than the memory needed to store the binary number alone. This overhead in memory consumption is due to the nature of python data types, which are all **objects**. We've already learned that these objects come with certain \"services\", for example:"
   ]
  },
  {
   "cell_type": "code",
   "execution_count": null,
   "id": "75816238",
   "metadata": {},
   "outputs": [],
   "source": [
    "s = 'this.needs.some.splitting'\n",
    "' '.join(s.split('.')).title()  # join, split, title are all \"functions\" applied to a string"
   ]
  },
  {
   "cell_type": "markdown",
   "id": "42d38a4a",
   "metadata": {},
   "source": [
    "Everything is an object in Python. Yes, even functions are objects! Let me prove it to you:"
   ]
  },
  {
   "cell_type": "code",
   "execution_count": null,
   "id": "77feedd8",
   "metadata": {},
   "outputs": [],
   "source": [
    "def useful_function(a, b):\n",
    "    \"\"\"This function adds two objects together.\n",
    "    \n",
    "    Parameters\n",
    "    ----------\n",
    "    a : an object\n",
    "    b : another object\n",
    "    \n",
    "    Returns\n",
    "    -------\n",
    "    The sum of the two\n",
    "    \"\"\"\n",
    "    return a + b"
   ]
  },
  {
   "cell_type": "code",
   "execution_count": null,
   "id": "7964e9a0",
   "metadata": {},
   "outputs": [],
   "source": [
    "type(useful_function)"
   ]
  },
  {
   "cell_type": "code",
   "execution_count": null,
   "id": "e9600e8c",
   "metadata": {},
   "outputs": [],
   "source": [
    "print(useful_function.__doc__)"
   ]
  },
  {
   "cell_type": "markdown",
   "id": "59428ae1",
   "metadata": {},
   "source": [
    "Functions are objects of type ``function``, and one of their attributes (``__doc__``) gives us access to their **docstring**. During the course of the semester you are going to learn how to use more and more of these object features, and hopefully you are going to like them more and more (at least this is what happened to me).\n",
    "\n",
    "Now, why does this make python \"slow\"? Well, in simple words, these \"services\" tend to increase the complexity and the number of operations an interpreter has to perform when running a program.  More specialized languages will be less flexible than python, but will be faster at running specialized operations and be less memory hungry.\n",
    "\n",
    "Python's high-level of abstraction (i.e. python's flexibility) makes it slower than its lower-level counterparts like C or FORTRAN. But, why is that so?"
   ]
  },
  {
   "cell_type": "markdown",
   "id": "f1844a92",
   "metadata": {},
   "source": [
    "## Dynamically versus statically typed languages "
   ]
  },
  {
   "cell_type": "markdown",
   "id": "98d0240d",
   "metadata": {},
   "source": [
    "Python is a so-called **dynamically typed** language, which means that the **type** of a variable is determined by the interpreter *at run time*. To understand what that  means in practice, let's have a look at the following code snippet:"
   ]
  },
  {
   "cell_type": "code",
   "execution_count": null,
   "id": "ee96f6d6",
   "metadata": {},
   "outputs": [],
   "source": [
    "a = 2\n",
    "b = 3"
   ]
  },
  {
   "cell_type": "code",
   "execution_count": null,
   "id": "d0483fb5",
   "metadata": {},
   "outputs": [],
   "source": [
    "c = a + b"
   ]
  },
  {
   "cell_type": "markdown",
   "id": "ba646b7a",
   "metadata": {},
   "source": [
    "The line ``c = a + b`` is valid python syntax. The *operation* that has to be applied by the ``+`` operator, however, depends on the type of the variables to be added. Remember what happens when adding two lists for example:  "
   ]
  },
  {
   "cell_type": "code",
   "execution_count": null,
   "id": "26bb4590",
   "metadata": {},
   "outputs": [],
   "source": [
    "a = [2]\n",
    "b = [3]\n",
    "a + b"
   ]
  },
  {
   "cell_type": "markdown",
   "id": "868871b6",
   "metadata": {},
   "source": [
    "In this simple example it would be theoretically possible for the interpreter to predict which operation to apply beforehand (by prior parsing of all lines of the cell). In most cases, however, this is impossible (think of the jupyter notebook cells for example, which can be executed in any order).\n",
    "\n",
    "Languages which assess the type of variables *at run time* are called [dynamically typed programming languages](https://en.wikipedia.org/wiki/Category:Dynamically_typed_programming_languages). Matlab, Python or R are examples falling in this category."
   ]
  },
  {
   "cell_type": "markdown",
   "id": "998948e6",
   "metadata": {},
   "source": [
    "**Statically typed languages**, however, require the *programmer* to provide the type of variables while writing the code. Here is an example of a program written in C:"
   ]
  },
  {
   "cell_type": "markdown",
   "id": "32acddd3",
   "metadata": {},
   "source": [
    "```c\n",
    "#include <stdio.h> \n",
    "int main ()\n",
    "{\n",
    "    int a = 2;\n",
    "    int b = 3;\n",
    "    int c = a + b;\n",
    "    printf (\"Sum of two numbers : %d \\n\", c);\n",
    "}\n",
    "```"
   ]
  },
  {
   "cell_type": "markdown",
   "id": "5221b2dd",
   "metadata": {},
   "source": [
    "The variable type definition is part of the C syntax. This applies to the variables themselves, but also to the output of computations. This is a fundamental difference to python, and comes with several advantages. Static typing usually results in code that executes faster: since the program knows the exact data types that are in use, it can predict the memory consumption of operations beforehand and produce optimized machine code. Another advantage is code documentation: the statement ``int c = a + b`` makes it clear that we are adding two numbers while the python equivalent ``c = a + b`` could produce a number, a string, a list, etc."
   ]
  },
  {
   "cell_type": "markdown",
   "id": "3dc08f4e",
   "metadata": {},
   "source": [
    "## Compiled versus interpreted languages"
   ]
  },
  {
   "cell_type": "markdown",
   "id": "f14f4bab",
   "metadata": {},
   "source": [
    "Statically typed languages often require **compilation**. To run the C code snippet I had to create a new text file (``example.c``), write the code, compile it (``$ gcc -o myprogram example.c``), before finally being able to execute it (``$ ./myprogram``).\n",
    "\n",
    "[gcc](https://en.wikipedia.org/wiki/GNU_Compiler_Collection) is the compiler I used to translate the C source code (a text file) to a low level language (machine code) in order to create an **executable** (``myprogram``). Later changes to the source code require a new compilation step for the changes to take effect.\n",
    "\n",
    "Because of this \"edit-compile-run\" cycle, compiled languages are not interactive: there is no equivalent to python's command line interpreter in C. Compiling complex programs can take from a couple of minutes to several hours in some extreme cases. This compilation time, however, is usually associated with faster execution times: as mentioned earlier, the compiler's task is to optimize the program for memory consumption by source code analysis. Often, a compiled program is optimized for the machine architecture it is compiled onto. Like interpreters, there can be different compilers for the same language. They differ in the optimization steps they undertake to make the program faster, and in their support of various hardware architectures."
   ]
  },
  {
   "cell_type": "markdown",
   "id": "11e35b39",
   "metadata": {},
   "source": [
    "**Interpreters** do not require compilation: they analyze the code at run time. The following code for example is syntactically correct:"
   ]
  },
  {
   "cell_type": "code",
   "execution_count": null,
   "id": "b33ea8eb",
   "metadata": {},
   "outputs": [],
   "source": [
    "def my_func():\n",
    "    a = 1\n",
    "    b = '2'\n",
    "    return a + b"
   ]
  },
  {
   "cell_type": "markdown",
   "id": "0033552e",
   "metadata": {},
   "source": [
    "but its execution of this code results in a TypeError:"
   ]
  },
  {
   "cell_type": "code",
   "execution_count": null,
   "id": "f5123d48",
   "metadata": {},
   "outputs": [],
   "source": [
    "add_lists([1, 2, 3], [4, 5, 6])"
   ]
  },
  {
   "cell_type": "markdown",
   "id": "a5cc5e42",
   "metadata": {},
   "source": [
    "The numpy equivalent is much more intuitive and straightforward:"
   ]
  },
  {
   "cell_type": "code",
   "execution_count": null,
   "id": "553689ff",
   "metadata": {},
   "outputs": [],
   "source": [
    "import numpy as np\n",
    "def add_arrays(A, B):\n",
    "    return np.add(A, B)"
   ]
  },
  {
   "cell_type": "code",
   "execution_count": null,
   "id": "f412d848",
   "metadata": {},
   "outputs": [],
   "source": [
    "add_arrays([1, 2, 3], [4, 5, 6])"
   ]
  },
  {
   "cell_type": "markdown",
   "id": "ffd89087",
   "metadata": {},
   "source": [
    "<img src=\"../img/logo_ex.png\" align=\"left\" style=\"width:1em; height:1em;\"> **Tricky question**: why did I prefer to use the ``np.add`` function here instead of the simpler ``+`` operator?"
   ]
  },
  {
   "cell_type": "markdown",
   "id": "6883ced0",
   "metadata": {},
   "source": [
    "Let's see which of the two functions runs faster:"
   ]
  },
  {
   "cell_type": "code",
   "execution_count": null,
   "id": "0add23e2",
   "metadata": {},
   "outputs": [],
   "source": [
    "n = 10\n",
    "A = np.random.randn(n)\n",
    "B = np.random.randn(n)"
   ]
  },
  {
   "cell_type": "code",
   "execution_count": null,
   "id": "6058206f",
   "metadata": {},
   "outputs": [],
   "source": [
    "%timeit add_lists(A, B)"
   ]
  },
  {
   "cell_type": "code",
   "execution_count": null,
   "id": "68ff3c03",
   "metadata": {},
   "outputs": [],
   "source": [
    "%timeit add_arrays(A, B)"
   ]
  },
  {
   "cell_type": "markdown",
   "id": "2284e25c",
   "metadata": {},
   "source": [
    "Numpy is approximately 5 times faster."
   ]
  },
  {
   "cell_type": "markdown",
   "id": "d864dd2a",
   "metadata": {},
   "source": [
    "<img src=\"../img/logo_ex.png\" align=\"left\" style=\"width:1em; height:1em;\"> **Exercise**: repeat the performance test with n=100 and n=10000. How does the performance scale with the size of the array? Now repeat the test but make the input arguments ``A`` and ``B`` *lists* instead of numpy arrays. How is the performance comparison in this case? Why?"
   ]
  },
  {
   "cell_type": "markdown",
   "id": "5817b8d7",
   "metadata": {},
   "source": [
    "Why is numpy so much faster than pure python? One of the major reasons is **vectorization**, which is the process of applying mathematical operations to *all* elements of an array (\"vector\") at once instead of looping through them like we would do in pure python. \"for loops\" in python are slow because for each addition, python has to:\n",
    "- access the elements a and b in the list A and B\n",
    "- check the type of both a and b\n",
    "- apply the ``+`` operator on the data they store\n",
    "- store the result.\n",
    "\n",
    "Numpy skips the first two steps and does them only once before the actual operation. What does numpy know about the addition operation that the pure python version can't infer?\n",
    "- the type of all numbers to add\n",
    "- the type of the output\n",
    "- the size of the output array (same as input)\n",
    "\n",
    "Numpy can use this information to optimize the computation, but this isn't possible without trade-offs. See the following for example:"
   ]
  },
  {
   "cell_type": "code",
   "execution_count": null,
   "id": "8802ca5b",
   "metadata": {},
   "outputs": [],
   "source": [
    "add_lists([1, 'foo'], [3, 'bar'])  # works fine"
   ]
  },
  {
   "cell_type": "code",
   "execution_count": null,
   "id": "2b3abe0e",
   "metadata": {},
   "outputs": [],
   "source": [
    "add_arrays([1, 'foo'], [3, 'bar'])  # raises a TypeError"
   ]
  },
  {
   "cell_type": "markdown",
   "id": "3b914aef",
   "metadata": {},
   "source": [
    "$\\rightarrow$ numpy can only be that fast because the input and output data types are uniform and known before the operation."
   ]
  },
  {
   "cell_type": "markdown",
   "id": "6e98b62c",
   "metadata": {},
   "source": [
    "Internally, numpy achieves vectorization by relying on a lower-level, statically typed and compiled language: C! At the time of writing, about 55% of the [numpy codebase](https://github.com/numpy/numpy) is written in C/C++. The rest of the codebase offers an interface (a \"layer\") between python and the internal C code. \n",
    "\n",
    "As a result, numpy has to be *compiled* at installation. Most users do not notice this compilation step anymore (recent pip and conda installations are shipped with pre-compiled binaries), but installing numpy used to require several minutes on my laptop when I started to learn python myself."
   ]
  },
  {
   "cell_type": "markdown",
   "id": "0e3e157a",
   "metadata": {},
   "source": [
    "## Anatomy of a ndarray"
   ]
  },
  {
   "cell_type": "markdown",
   "id": "b040a0db",
   "metadata": {},
   "source": [
    "*From the [numpy reference](https://docs.scipy.org/doc/numpy/reference/arrays.html):*"
   ]
  },
  {
   "cell_type": "markdown",
   "id": "f77b55f1",
   "metadata": {},
   "source": [
    "N-dimensional [ndarray](https://docs.scipy.org/doc/numpy/reference/arrays.ndarray.html#arrays-ndarray)'s are the core structure of the numpy library. It is a multidimensional container of items of the same type and size. The number of dimensions and items in an array is defined by its shape, which is a tuple of N positive integers that specify the number of items in each dimension. The type of items in the array is specified by a separate data-type object (dtype), one of which is associated with each ndarray.\n",
    "\n",
    "All ndarrays are homogenous: every item takes up the same size block of memory, and all blocks are interpreted in exactly the same way. \n",
    "\n",
    "An item extracted from an array, e.g., by indexing, is represented by a Python object whose type is one of the array scalar types built in NumPy."
   ]
  },
  {
   "cell_type": "markdown",
   "id": "cae7ecbc",
   "metadata": {},
   "source": [
    "![img](https://docs.scipy.org/doc/numpy/_images/threefundamental.png)"
   ]
  },
  {
   "cell_type": "markdown",
   "id": "e254ec2b",
   "metadata": {},
   "source": [
    "**Figure:** Conceptual diagram showing the relationship between the three fundamental objects used to describe the data in an array: 1) the ndarray itself, 2) the data-type object that describes the layout of a single fixed-size element of the array, 3) the array-scalar Python object that is returned when a single element of the array is accessed."
   ]
  },
  {
   "cell_type": "markdown",
   "id": "465376e7",
   "metadata": {},
   "source": [
    "This contiguous one-dimensional segment of computer memory stored by the array is combined with an indexing scheme that maps N-dimensional indexes into the location of an item in the block. Concretely, this means that there is no difference in the memory layout of these two arrays:"
   ]
  },
  {
   "cell_type": "code",
   "execution_count": null,
   "id": "490206f6",
   "metadata": {},
   "outputs": [],
   "source": [
    "a = np.arange(9)\n",
    "b = a.reshape((3, 3))"
   ]
  },
  {
   "cell_type": "markdown",
   "id": "60414641",
   "metadata": {},
   "source": [
    "Both are internally stored using a one dimensional memory block. The difference lies in the way numpy gives access to the internal data:"
   ]
  },
  {
   "cell_type": "code",
   "execution_count": null,
   "id": "4d5a508b",
   "metadata": {},
   "outputs": [],
   "source": [
    "a[4], b[1, 1]"
   ]
  },
  {
   "cell_type": "markdown",
   "id": "d6578a40",
   "metadata": {},
   "source": [
    "This means that elementwise operations have the same execution speed for N dimensional arrays as for 1-D arrays. Now, let's replace an element from array b:"
   ]
  },
  {
   "cell_type": "code",
   "execution_count": null,
   "id": "61a294dd",
   "metadata": {},
   "outputs": [],
   "source": [
    "b[1, 1] = 99\n",
    "b"
   ]
  },
  {
   "cell_type": "markdown",
   "id": "3ca0f1c3",
   "metadata": {},
   "source": [
    "Since the indexing ``[1, 1]`` is on the left-hand side of the assignment operator, we modified b **in-place**. Numpy located the block of memory that needed to be changed and replaced it with another number. Since all these numbers are integers with a fixed memory size, this is not a problem. But what happens if we try to assign another data type?"
   ]
  },
  {
   "cell_type": "code",
   "execution_count": null,
   "id": "65575817",
   "metadata": {},
   "outputs": [],
   "source": [
    "my_func()"
   ]
  },
  {
   "cell_type": "markdown",
   "id": "953efda1",
   "metadata": {},
   "source": [
    "The interpreter cannot detect these errors before runtime."
   ]
  },
  {
   "cell_type": "markdown",
   "id": "2a3bedcf",
   "metadata": {},
   "source": [
    "**Parenthesis I: python bytecode** \n",
    "\n",
    "When executing a python program from the command line, the CPython interpreter creates a hidden directory called ``__pycache__``. This directory contains [bytecode](https://en.wikipedia.org/wiki/Bytecode) files, which are your python source code files translated to binary files. This is an optimization step which makes subsequent executions of the program run faster. While this conversion step is sometimes called \"compilation\", it should not be mistaken with a C-program compilation: indeed, python bytecode still needs an interpreter to run, while compiled executables can be run without C interpreter."
   ]
  },
  {
   "cell_type": "markdown",
   "id": "bb5097fc",
   "metadata": {},
   "source": [
    "**Parenthesis II: static typing and compilation**\n",
    "\n",
    "Statically typed languages are often compiled, and dynamically typed languages are often interpreted. While this is a good rule of thumb, this is not always true and the vast landscape of programming languages contains many exceptions. This lecture is only a very short introduction to these concepts: you'll have to refer to more advanced computer science lectures if you want to learn about these topics in more detail. "
   ]
  },
  {
   "cell_type": "markdown",
   "id": "8eeebe9d",
   "metadata": {},
   "source": [
    "## Here comes numpy "
   ]
  },
  {
   "cell_type": "markdown",
   "id": "c6a046a6",
   "metadata": {},
   "source": [
    "Let's summarize the two previous chapters: \n",
    "- Python is flexible, interactive and slow\n",
    "- C is less flexible, non-interactive and fast\n",
    "\n",
    "This is a simplification, but not far from the truth. On top of that, the built-in `list` data type in python is mostly useless for arithmetics or vector computations. Indeed, to add two lists together element-wise (a behavior that you would expect as a scientist), you must write:  "
   ]
  },
  {
   "cell_type": "code",
   "execution_count": null,
   "id": "64fffac3",
   "metadata": {},
   "outputs": [],
   "source": [
    "def add_lists(A, B):\n",
    "    \"\"\"Element-wise addition of two lists.\"\"\"\n",
    "    return [a+b for a, b in zip(A, B)]"
   ]
  }
 ],
 "metadata": {},
 "nbformat": 4,
 "nbformat_minor": 5
}
