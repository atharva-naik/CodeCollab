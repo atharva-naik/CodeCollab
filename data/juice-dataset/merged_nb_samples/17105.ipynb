{
 "cells": [
  {
   "cell_type": "markdown",
   "id": "e1ada3f9",
   "metadata": {},
   "source": [
    "<h1 id=\"tocheading\">Finding Patterns in Data using IBM Power and PowerAI</h1>\n",
    "<div id=\"toc\"></div>\n",
    "\n",
    "In this lab we will explore an open source data set, and discover how we can use the tools that are part of **PowerAI** to explore and discover patterns in the data.  For this lab, we will make use of the Lending Club data set, **scikit learn, Tensorflow and Keras**.  Here is a brief description about Lending Club.\n",
    "\n",
    "```\n",
    "About the author's\n",
    "Dustin VanStee - Data Scientist\n",
    "Bob Chesebrough - Data Scientist\n",
    "IBM Cognitive Systems Solution Center\n",
    "contact : vanstee@us.ibm.com\n",
    "```\n"
   ]
  },
  {
   "cell_type": "markdown",
   "id": "2c53ea56",
   "metadata": {},
   "source": [
    "<img src=\"https://github.com/dustinvanstee/random-public-files/raw/master/techu-banner.png\" width=\"800\" height=\"500\" align=\"middle\"/>"
   ]
  },
  {
   "cell_type": "markdown",
   "id": "912146b3",
   "metadata": {},
   "source": [
    "[Lending Club (LC)](https://www.lendingclub.com/) is the world’s largest online marketplace connecting borrowers and investors. It is transforming the banking system to make credit more affordable and investing more rewarding. Lending Club operates at a lower cost than traditional bank lending programs and pass the savings on to borrowers in the form of lower rates and to investors in the form of solid risk-adjusted returns.\n",
    "\n",
    "**The DATA**  \n",
    "The original data set is downloaded from [LC](https://www.lendingclub.com/info/download-data.action) covering complete loan data for all loans issued through the 2007-2018, including the current loan status (Current, Late, Fully Paid, etc.) and latest payment information. Additional features include credit history, number of finance inquiries, address including zip codes, and state, and collections among others. It is quite rich and is an excellent example of credit risk data.  Interestingly, Goldman Sachs’ new peer-to-peer lending platform called Marcus was built almost entirely using the Lending Club data.\n",
    "\n",
    "Here is a link to some extra information regarding the fields of the data set.\n",
    "[Data Dictionary](https://github.com/dustinvanstee/mldl-101/blob/master/lab5-powerai-lc/LCDataDictionary.csv)\n",
    "\n",
    "**Important**\n",
    "\n",
    "In this notebook, we will play with the lending club data, conduct a set of exploratory analysis and try to apply various machine learning techniques to predict borrower’s default. We took a small sample of loans made in 2016 (130K) to help speed up the processing time for the lab\n",
    "\n",
    "\n",
    "Note : to remove a lot of the busy verbose code, we are making using of a utility python file called lc_utils.py.  For implemenation details you can refer here [python code](https://github.com/dustinvanstee/mldl-101/blob/master/lab5-powerai-lc/lc_utils.py)"
   ]
  },
  {
   "cell_type": "markdown",
   "id": "b20211dc",
   "metadata": {},
   "source": [
    "### Quick word on the data science method\n",
    "<img src=\"https://github.com/dustinvanstee/random-public-files/raw/master/dsx-methodology.png\" width=\"900\" height=\"700\" align=\"middle\"/>\n",
    "\n",
    "Here we will use these simple high level steps to work through a typical data science problem.  This workflow is meant to be a high level guide, but in practice this is a highly iterative approach ...\n",
    "\n",
    "### Goals\n",
    "\n",
    "* Perform some initial analysis of the data for **Business Understanding**\n",
    "* **Prepare the Data** for our visualization and modeling\n",
    "* **Visualize** the data\n",
    "* Model using **Dimension Reduction** and **Classification** techniques\n",
    "* **Evaluate** the approach"
   ]
  },
  {
   "cell_type": "markdown",
   "id": "e824832a",
   "metadata": {},
   "source": [
    "## Business/Data Understanding and Preparation\n",
    "<img src=\"https://github.com/dustinvanstee/random-public-files/raw/master/techu-bu-dp.png\" width=\"800\" height=\"500\" align=\"middle\"/>"
   ]
  },
  {
   "cell_type": "markdown",
   "id": "915e1ec9",
   "metadata": {},
   "source": [
    "### Environment bootstrapping\n",
    "Run the following commands to install a few python packages for later use"
   ]
  },
  {
   "cell_type": "code",
   "execution_count": null,
   "id": "55563312",
   "metadata": {},
   "outputs": [],
   "source": [
    "!pip install -q jupyter-pip\n",
    "!pip install -q brunel\n",
    "import brunel\n",
    "# !git fetch origin master\n",
    "# !git reset --hard origin/master"
   ]
  },
  {
   "cell_type": "markdown",
   "id": "b921608b",
   "metadata": {},
   "source": [
    "### Import Libraries"
   ]
  },
  {
   "cell_type": "code",
   "execution_count": null,
   "id": "26bfaa00",
   "metadata": {},
   "outputs": [],
   "source": [
    "# Code functions that are needed to run this lab\n",
    "import pandas as pd\n",
    "import warnings\n",
    "warnings.filterwarnings('ignore')\n",
    "import time\n",
    "from datetime import datetime\n",
    "import math\n",
    "\n",
    "import pandas as pd\n",
    "#pd.set_option('display.height', 1000)\n",
    "pd.set_option('display.max_rows', 500)\n",
    "pd.set_option('display.max_columns', 500)\n",
    "pd.set_option('display.width', 1000)\n",
    "\n",
    "import glob\n",
    "\n",
    "# custom library for some helper functions \n",
    "from sklearn.base import BaseEstimator, TransformerMixin\n",
    "import matplotlib\n",
    "import matplotlib.pyplot as plt\n",
    "import numpy as np\n",
    "\n",
    "import myenv as myenv\n",
    "from lc_utils import *\n"
   ]
  },
  {
   "cell_type": "code",
   "execution_count": null,
   "id": "58f5ffc6",
   "metadata": {},
   "outputs": [],
   "source": [
    "%load_ext autoreload\n",
    "%autoreload 2\n",
    "from lc_utils import *"
   ]
  },
  {
   "cell_type": "markdown",
   "id": "d594a051",
   "metadata": {},
   "source": [
    "### Load the Data\n",
    "Here we load data that was previously downloaded from lendingclub.com.  For speed of this lab, we are restricting the number of loans ~ 130K"
   ]
  },
  {
   "cell_type": "code",
   "execution_count": null,
   "id": "12e951cc",
   "metadata": {},
   "outputs": [],
   "source": [
    "# Transform categorical data into binary indicator columns\n",
    "# code hint, uses pd.get_dummies\n",
    "\n",
    "loan_df = one_hot_encode_keep_cols(loan_df)\n",
    "loan_df.head() # once complete, see how many new columns you have!"
   ]
  },
  {
   "cell_type": "markdown",
   "id": "c8298a64",
   "metadata": {},
   "source": [
    "### Final Result after data preparation ....\n",
    "\n",
    "Ok, so you made it here, lets take a look at the final results of your data preparation work.  It may be helpful to  **qualitatively compare** your original data frame to this one and see how different they look..  Execute the cells below to get a sense of what the tranformations accomplished."
   ]
  },
  {
   "cell_type": "code",
   "execution_count": null,
   "id": "1eebc6b0",
   "metadata": {},
   "outputs": [],
   "source": [
    "loan_df_orig.head(3)"
   ]
  },
  {
   "cell_type": "code",
   "execution_count": null,
   "id": "751fce6b",
   "metadata": {},
   "outputs": [],
   "source": [
    "loan_df.head(3)"
   ]
  },
  {
   "cell_type": "markdown",
   "id": "e9a71229",
   "metadata": {},
   "source": [
    "### Data Visualization\n",
    "As you saw, when you 'describe' a data frame, you get a table statistics showing you the mean,min,max and other statistics about each column.  This is good, but sometimes its also good to look at the histograms of the data as well.  Lets Visualize some of the distributions from our dataset\n"
   ]
  },
  {
   "cell_type": "markdown",
   "id": "cf88bee9",
   "metadata": {},
   "source": [
    "<img src=\"https://github.com/dustinvanstee/random-public-files/raw/master/data-visualization.png\" width=\"800\" height=\"500\" align=\"middle\"/>"
   ]
  },
  {
   "cell_type": "code",
   "execution_count": null,
   "id": "22499717",
   "metadata": {},
   "outputs": [],
   "source": [
    "# Here we plot distribution charts for all the numerical columns in our dataframe\n",
    "plot_histograms(loan_df)"
   ]
  },
  {
   "cell_type": "markdown",
   "id": "cd3c3f26",
   "metadata": {},
   "source": [
    "## Brunel Visualization Examples\n",
    "### The Growth of Lending Club\n",
    "Here we use the builtin Brunel Visualization graphics package.  This documentation was useful in the preparation of the following graphs.\n",
    "* https://brunel.mybluemix.net/docs/Brunel%20Documentation.pdf"
   ]
  },
  {
   "cell_type": "code",
   "execution_count": null,
   "id": "119c3ee0",
   "metadata": {},
   "outputs": [],
   "source": [
    "# Build a statistics data frame based on issue date\n",
    "# aggregate on loan amount\n",
    "vis_df = loan_df_orig.copy()\n",
    "vis_df['default'] = loan_df['default']"
   ]
  },
  {
   "cell_type": "markdown",
   "id": "cc28f7a7",
   "metadata": {},
   "source": [
    "### Outcome Variable: Loan Status\n",
    "On the left is the breakdown of all loan status classifications.  On the right is our simple default classification based on our data prep"
   ]
  },
  {
   "cell_type": "code",
   "execution_count": null,
   "id": "2ccf12f1",
   "metadata": {},
   "outputs": [],
   "source": [
    "a=vis_df.sample(5000) # downsample for speed\n",
    "%brunel data('a') bar x(loan_status) y(#count:linear) color(loan_status)  percent(#count:overall) tooltip(#all) | stack polar bar y(#count) color(default) percent(#count) tooltip(#all) :: width=1200, height=350 "
   ]
  },
  {
   "cell_type": "markdown",
   "id": "72ebf209",
   "metadata": {},
   "source": [
    "### Borrowing by State \n",
    "Most of the money in terms of absolute borrowing is borrowed by people from California. For average loan amount per state, Alaska ranks on top."
   ]
  },
  {
   "cell_type": "code",
   "execution_count": null,
   "id": "8640ae17",
   "metadata": {},
   "outputs": [],
   "source": [
    "loan_df = create_time_features(loan_df)\n",
    "loan_df.head(3)"
   ]
  },
  {
   "cell_type": "markdown",
   "id": "79d9d3ee",
   "metadata": {},
   "source": [
    "### Convert Categorical Data to One hot encode ###\n",
    "\n",
    "If you look above at the data frame, we are almost ready to start building models.  However, there is one important step to complete.  Notice we have some columns that are still built out of string data \n",
    "```\n",
    "example column=home_ownership values=[RENT, MORTGAGE, OWN]\n",
    "```\n",
    "Machine learning algorithms only process numerical data, so we need to transform these **categorical columns** into **indicator columns**\n",
    "\n",
    "From the example above, the transform would yield 3 new columns\n",
    "\n",
    "```\n",
    "example column=RENT values=[0,1]\n",
    "        column=MORTGAGE values=[0,1]\n",
    "        column=OWN values=[0,1]\n",
    "```\n",
    "\n",
    "Conveniently pandas has a nice function called **get_dummies** that we will use for this purpose"
   ]
  },
  {
   "cell_type": "markdown",
   "id": "c48492c6",
   "metadata": {},
   "source": [
    "### Train / Test set creation\n",
    "\n",
    "One of the key points in any machine learning workflow is the **partitioning** of the data set into **train** and **test** sets.  The key idea here is that a model is built using the training data, and evaluated using the test data.  \n",
    "\n",
    "There are more nuances to how you partition data into train/test sets, but for purposes of this lab we will omit these finer points."
   ]
  },
  {
   "cell_type": "code",
   "execution_count": null,
   "id": "72e2cd4a",
   "metadata": {},
   "outputs": [],
   "source": [
    "# Instantiate lendingclub_ml object that will hold our test, and contain methods used for testing.\n",
    "# Implementation done like this to ease the burden on users for keeping track of train/test sets for different\n",
    "# models we are going to build.\n",
    "\n",
    "my_analysis = lendingclub_ml(loan_df)"
   ]
  },
  {
   "cell_type": "code",
   "execution_count": null,
   "id": "33c9ab1b",
   "metadata": {},
   "outputs": [],
   "source": [
    "# Create a train / test split of your data set.  Paramter is test set size percentage \n",
    "# Returns data in the form of dataframes\n",
    "\n",
    "my_analysis.create_train_test(test_size=0.4)"
   ]
  },
  {
   "cell_type": "markdown",
   "id": "899bff5f",
   "metadata": {},
   "source": [
    "### Dimension Reduction\n",
    "For this modeling exercise we will perform a couple of tasks, **dimension reduction** and **classification** as shown in the following diagram.\n",
    "\n",
    "<img src=\"https://github.com/dustinvanstee/random-public-files/raw/master/techu-modeling-workflow.png\" width=\"800\" height=\"500\" align=\"middle\"/>\n",
    "\n",
    "**Dimension Reduction** is useful in scenarios when you have a large number of columns and you would like to reduce that down to a compressed representation .  In this lab we will try 2 methods of dimension reduction.  It will be your choice to decide which method you want to use for the classification part of the lab ! (you could even decice to bypass this if you want ...)\n"
   ]
  },
  {
   "cell_type": "markdown",
   "id": "84a2e25b",
   "metadata": {},
   "source": [
    "## Dimension Reduction - PCA\n",
    "\n",
    "<img src=\"https://github.com/dustinvanstee/random-public-files/raw/master/techu-pca.png\"  width=\"200\" height=\"125\" align=\"middle\"/>\n",
    "\n",
    "Principal component analysis (PCA) is a statistical procedure that uses an orthogonal transformation to convert a set of observations of possibly correlated variables into a set of values of linearly uncorrelated variables called principal components. The number of principal components is less than or equal to the number of original variables.\n",
    "\n",
    "A simple way to think about PCA is that it helps compress the data in a lossy representation of the original dataset.\n",
    "\n",
    "This will also be used to help us visualize the data as you will see below"
   ]
  },
  {
   "cell_type": "code",
   "execution_count": null,
   "id": "f64aef49",
   "metadata": {},
   "outputs": [],
   "source": [
    "# Dimension Reduction using PCA\n",
    "my_analysis.build_pca_model(n_components=20)"
   ]
  },
  {
   "cell_type": "markdown",
   "id": "a7a9a04a",
   "metadata": {},
   "source": [
    "In the chart above, you can see that we get ok results from PCA.  Using the first 20 principal components, we can account for ~50% of the variance described in the dataset.  **Feel free to change the number of principal components above to see if adding more helps with explained variance.**"
   ]
  },
  {
   "cell_type": "markdown",
   "id": "0f6147f8",
   "metadata": {},
   "source": [
    "## Dimension Reduction - AutoEncoder\n",
    "\n",
    "<img src=\"https://github.com/dustinvanstee/random-public-files/raw/master/techu-ae.png\"  width=\"600\" height=\"375\" align=\"middle\"/>\n",
    "\n",
    "An autoencoder is another method that can be used for dimension reduction.  An autoencoder is a **neural network** that tries to reproduce itself given the constraint that it will lose information in the bottleneck layer.  Based on this, its again a lossy representation.  One key difference between autoencoders and PCA is that an autoencoder can find non linear relationships between variables that PCA could not detect."
   ]
  },
  {
   "cell_type": "code",
   "execution_count": null,
   "id": "a0ea1412",
   "metadata": {},
   "outputs": [],
   "source": [
    "# This will build and run your auto-encoder \n",
    "# feel free to adjust \n",
    "# ae_layers -> needs to be an odd number of layers, and symmetric \n",
    "# Regularization -> controls overfitting\n",
    "# epochs -> number of times to loop thru training set\n",
    "\n",
    "my_analysis.build_ae_model(ae_layers=[100,25,6,25,100], regularization=0.001, epochs=1)"
   ]
  },
  {
   "cell_type": "markdown",
   "id": "4f86f338",
   "metadata": {},
   "source": [
    "**Class Contest**  lets see who can find the best settings for the neural network to minimize loss!  Just yell out your results and instructor will add to the leaderboard!"
   ]
  },
  {
   "cell_type": "markdown",
   "id": "1e4efde7",
   "metadata": {},
   "source": [
    "# Now update our test dataframe with new columns that are predicted by our PCA and Autoencoder models.  \n",
    "\n",
    "Here we will now take the models that we built and pass our test data set through the models.   By doing this, we will have reduced the number features in our data set by a significant amount (~177 colums => ~5-20 columns!)  .  \n",
    "\n",
    "In this step we will add new columns to our test/train data frames for both our PCA model and our autoencoder model.  Don't worry about the details of this step, its just required for some followon visualization, and training steps ahead. \n",
    "\n"
   ]
  },
  {
   "cell_type": "code",
   "execution_count": null,
   "id": "83fe0182",
   "metadata": {},
   "outputs": [],
   "source": [
    "loan_df = load_sample_data()\n",
    "loan_df_orig = loan_df\n",
    "loan_df.head()"
   ]
  },
  {
   "cell_type": "markdown",
   "id": "96368b93",
   "metadata": {},
   "source": [
    "### Descriptive Statistics (1D)\n",
    "Lets look at some 1D and 2D descriptive statistics for this dataset\n",
    "\n",
    "In this dataset, we have all types of data.  Numerical, Categorical, Ranked data.  This small module will take you through what is typical done to quickly understand the data\n",
    "\n"
   ]
  },
  {
   "cell_type": "code",
   "execution_count": null,
   "id": "803df15f",
   "metadata": {},
   "outputs": [],
   "source": [
    "# This function provide the number of rows/cols\n",
    "# Information on the types of data\n",
    "# and a report of descriptive statistics\n",
    "\n",
    "quick_overview_1d(loan_df)"
   ]
  },
  {
   "cell_type": "markdown",
   "id": "66e135a9",
   "metadata": {},
   "source": [
    "Here we can get a quick assessment of the statistics for each column.  \n",
    "**Quick Question** can you answer what was the average income for the 133K loan applicants ?"
   ]
  },
  {
   "cell_type": "markdown",
   "id": "a9408393",
   "metadata": {},
   "source": [
    "### Descriptive Statistics (2D)\n",
    "Since we have over 100 numerical variables, creating a 2D correlation plot may be time consuming and difficult to interpret.  Lets look at correlations on a smaller scale for now....\n"
   ]
  },
  {
   "cell_type": "code",
   "execution_count": null,
   "id": "2fe174d7",
   "metadata": {},
   "outputs": [],
   "source": [
    "# Grab only a subset of columns\n",
    "cols = [\"loan_amnt\",\"annual_inc\",\"dti\",\"fico_range_high\",\"open_acc\",'funded_amnt', 'total_acc']\n",
    "quick_overview_2d(loan_df, cols)"
   ]
  },
  {
   "cell_type": "markdown",
   "id": "beee55f8",
   "metadata": {},
   "source": [
    "**Quick Question** : Can you find a negatively correlated variable to annual_inc in the chart above?  Can you think of a reason for this result ?"
   ]
  },
  {
   "cell_type": "markdown",
   "id": "ac59c661",
   "metadata": {},
   "source": [
    "### Create Loan Default column.  This is the column we will predict later\n",
    "The **loan_status** column contains the information of whether or not the loan is in default. \n",
    "\n",
    "This column has more than just a 'default or paid' status.  Since our goal is to build a simple default classifier , we need to make a new column based off the **loan_status** column.\n",
    "\n",
    "Here we will look at all the categorical values in **loan_status**, and create a new column called **default** based off that one.\n"
   ]
  },
  {
   "cell_type": "code",
   "execution_count": null,
   "id": "048630b5",
   "metadata": {},
   "outputs": [],
   "source": [
    "# function to create loan status .... \n",
    "loan_df = create_loan_default(loan_df)\n",
    "loan_df.head(3) # scroll to the right, and see the new 'default' column"
   ]
  },
  {
   "cell_type": "markdown",
   "id": "e871c72b",
   "metadata": {},
   "source": [
    "### Data Preparation - Handle Null Values aka NaNs ...\n",
    "\n",
    "One part of the data science process thats especially time consuming is working with unclean data.  This lending club data set is a great example of that.  If you look at the dataframe shown above, you will see a number of columns with the indicator **NaN** .  This means 'not a number' and needs to be dealt with prior to any machine learning steps.  You have many options here.  Some options are listed below...\n",
    "\n",
    "* Fill with a value -> impute mean/median/min/max/other\n",
    "* drop rows with NaNs\n",
    "* drop columns with large number of NaNs \n",
    "* use data in other columns to derive\n",
    "\n",
    "All these methods are possible, but its up to the data scientist / domain expert to figure out the best approach.  There is definitely some grey area involved in whats the best approach.\n",
    "\n",
    "First, lets understand which columns have NaNs..."
   ]
  },
  {
   "cell_type": "code",
   "execution_count": null,
   "id": "9df2523c",
   "metadata": {},
   "outputs": [],
   "source": [
    "# For every column, count the number of NaNs .... \n",
    "# code hint : uses df.isna().sum()\n",
    "\n",
    "columns_with_nans(loan_df)"
   ]
  },
  {
   "cell_type": "markdown",
   "id": "61ca278a",
   "metadata": {},
   "source": [
    "\n",
    "As you can see, we have some work to do to clean up the NaN values.  Beyond NaN values, we also have to transform columns if they aren't formatted correctly, or maybe we want to transform a column based on custom requirements.  \n",
    "\n",
    "```\n",
    "Example : column=employee_length , values=[1,2,3,4,5,6,7,8,9,10+] formatted as a string\n",
    "          transform into \n",
    "          column=employee_length, [0_3yrs,4_6yrs,gt_6yrs] (categorical:strings)\n",
    "```\n",
    "          \n",
    "Luckily, we took care to process and clean this data below using a few functions.  In practice, **this is where data scientists spend a large portion of their time** as this requires detailed domain knowledge to clean the data.  We have made a fair number of assumptions about how to process the data which we won't go into due to time contraints for the lab."
   ]
  },
  {
   "cell_type": "code",
   "execution_count": null,
   "id": "903a69d5",
   "metadata": {},
   "outputs": [],
   "source": [
    "state_stats = pd.concat([vis_df.groupby('addr_state').sum()['loan_amnt'].to_frame().rename(columns = {'loan_amnt':'state_total'}), vis_df.groupby('addr_state').mean()['loan_amnt'].to_frame().rename(columns = {'loan_amnt':'state_mean'})], axis=1)\n",
    "%brunel data('state_stats') map color(state_total:[blues, reds]) key(ADDR_STATE) label(ADDR_STATE) tooltip(#all) title(\"Total Loan Amount by State\") style('.header {label-location:left}')| map color(state_mean:[blues, reds]) key(ADDR_STATE) label(ADDR_STATE) tooltip(#all) title(\"Average Loan Amount by State\") style('.header {label-location:left}') :: width=1200, height=350 "
   ]
  },
  {
   "cell_type": "markdown",
   "id": "e3240e5f",
   "metadata": {},
   "source": [
    "### Loan Purpose\n",
    "Lets try to get a sense of why people are borrowing ..."
   ]
  },
  {
   "cell_type": "code",
   "execution_count": null,
   "id": "448e2251",
   "metadata": {},
   "outputs": [],
   "source": [
    "purpose_count = vis_df.groupby('purpose')['loan_status'].count().to_frame().rename(columns = {'loan_status':'count'})\n",
    "%brunel bubble data('purpose_count') color(COUNT:[blues, reds]) size(COUNT) label(PURPOSE) tooltip(#all)"
   ]
  },
  {
   "cell_type": "markdown",
   "id": "4367d58a",
   "metadata": {},
   "source": [
    "As you can see, this could go on forever, but hopefully you get a sense of the power of data visualization"
   ]
  },
  {
   "cell_type": "markdown",
   "id": "c46b580c",
   "metadata": {},
   "source": [
    "### Modelling Phase"
   ]
  },
  {
   "cell_type": "markdown",
   "id": "88be8c1a",
   "metadata": {},
   "source": [
    "<img src=\"https://github.com/dustinvanstee/random-public-files/raw/master/modeling.png\" width=\"800\" height=\"500\" align=\"middle\"/>"
   ]
  },
  {
   "cell_type": "code",
   "execution_count": null,
   "id": "1b3e2a3e",
   "metadata": {},
   "outputs": [],
   "source": [
    "my_analysis.update_train_test_df()"
   ]
  },
  {
   "cell_type": "markdown",
   "id": "ea350172",
   "metadata": {},
   "source": [
    "### Cool Visualizations using our dimension reduction columns\n",
    "\n",
    "Next we will plot a few scatterplot grids based on our pricipal component and autoencoder representations of the data\n",
    "\n",
    "We will color each data point using this key\n",
    "```\n",
    "Green -> Fully paid or current loan\n",
    "Red   -> Loan in default\n",
    "```"
   ]
  },
  {
   "cell_type": "code",
   "execution_count": null,
   "id": "df54a9e7",
   "metadata": {},
   "outputs": [],
   "source": [
    "# This will take a minute or so ...\n",
    "my_analysis.visualize_dimred_results(mode='pca')"
   ]
  },
  {
   "cell_type": "code",
   "execution_count": null,
   "id": "bce64610",
   "metadata": {},
   "outputs": [],
   "source": [
    "# This will take a minute or so ...\n",
    "my_analysis.visualize_dimred_results(mode='ae')"
   ]
  },
  {
   "cell_type": "markdown",
   "id": "4bade367",
   "metadata": {},
   "source": [
    "If you can discern a pattern between the red / green dots, its likely we can use a classifier to automatically seperate them! We'll see that in a few more sections"
   ]
  },
  {
   "cell_type": "markdown",
   "id": "b28839f0",
   "metadata": {},
   "source": [
    "### Heatmap commentary\n",
    "Using a heatmap can be another good visualization tool.  You can use this to get a sense of how the data correlates to each other.  In the code below, play with the **sortColumn** input .  In the example below we are sorting by principal component 0, which has the most information encoded in that column.  See if you can find out what PC0 might be composed of.  Try it for PC1, or AE0, AE1...\n",
    "\n",
    "Pro tip, to get the most out of a heatmap, all the data needs to be normalized on a common 0 -> 1 scale so that the coloring of the columns works out ..\n"
   ]
  },
  {
   "cell_type": "code",
   "execution_count": null,
   "id": "83aec8c0",
   "metadata": {},
   "outputs": [],
   "source": [
    "# This will take a minute or so ...\n",
    "bob_heatmap_lc(my_analysis.test_df,sortColumn='PC0',add_corr=1)"
   ]
  },
  {
   "cell_type": "markdown",
   "id": "af6374ac",
   "metadata": {},
   "source": [
    "The resolution is quite small, but try to find columns that go from solid red on bottom to black on top. That would be an indication of high correclation to your sort column"
   ]
  },
  {
   "cell_type": "markdown",
   "id": "7c5369fa",
   "metadata": {},
   "source": [
    "# Final Step - Lending Club Default Prediction\n",
    "\n",
    "<img src=\"https://github.com/dustinvanstee/random-public-files/raw/master/techu-modeling-traintest.png\"  width=\"600\" height=\"375\" align=\"middle\"/>\n",
    "\n",
    "Here we will build a classifier to predict if loan will fail or not.  We will us a \n",
    "** Deep Learning Classifier **  .  You will have 3 options for data sources, \n",
    "* the raw data\n",
    "* PCA dimension reduction features\n",
    "* Autoencoder features\n",
    "\n",
    "To evaluate our model, we will use a simple contingency table (showing true/false positve/negative).  However, this is a fairly simplistic method.  Better method that data scientists use are F1 score, and PR/ROC curves but thats beyond the scope of this lab.\n",
    "\n",
    "Step 1 here is to set our baseline result.  In this example, we are dealing with a **skewed** dataset.  This means, on average, most people will not default, and they pay their loan off.  If you built a classifier that just predicted no default, you would be right most of the time.  Lets see the stats from our dataset below...."
   ]
  },
  {
   "cell_type": "code",
   "execution_count": null,
   "id": "6da99809",
   "metadata": {},
   "outputs": [],
   "source": [
    "# The following cleaning of the data makes use of the steps shown below.....\n",
    "\n",
    "#loan_df1 = drop_sparse_numeric_columns(loan_df)\n",
    "#loan_df2 = drop_columns(loan_df1)\n",
    "#loan_df3 = impute_columns(loan_df2)\n",
    "#loan_df4 = handle_employee_length(loan_df3)\n",
    "#loan_df5 = handle_revol_util(loan_df4)\n",
    "#loan_df6 = drop_rows(loan_df5)\n",
    "\n",
    "loan_df = clean_lendingclub_data(loan_df)\n"
   ]
  },
  {
   "cell_type": "code",
   "execution_count": null,
   "id": "0b19e988",
   "metadata": {},
   "outputs": [],
   "source": [
    "# Final Sanity check ....\n",
    "# If we did our job right, there should not be any NaN's left.  \n",
    "# Use this convenience function to check\n",
    "\n",
    "# code hint df.isna().sum()\n",
    "\n",
    "columns_with_nans(loan_df)"
   ]
  },
  {
   "cell_type": "markdown",
   "id": "13f32412",
   "metadata": {},
   "source": [
    "### Data Preparation - Handle Time Objects\n",
    "Sometimes for columns that contain date information, you may want to break them down into individual columns like month, day, day of week etc.  For our use case, we will create a new column called `time_history` that will indicate how long an applicant has been a borrower.  This is an example of **feature engineering**.  Essentially, using business logic to create a new column (feature) that may have predictive value."
   ]
  }
 ],
 "metadata": {},
 "nbformat": 4,
 "nbformat_minor": 5
}
