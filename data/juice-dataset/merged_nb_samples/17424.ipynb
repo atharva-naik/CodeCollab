{
 "cells": [
  {
   "cell_type": "markdown",
   "id": "23e7cd9b",
   "metadata": {},
   "source": [
    "# Third cleaning pass "
   ]
  },
  {
   "cell_type": "markdown",
   "id": "344eb1b4",
   "metadata": {},
   "source": [
    "* Parse date of reported salary"
   ]
  },
  {
   "cell_type": "code",
   "execution_count": null,
   "id": "f1bafa59",
   "metadata": {},
   "outputs": [],
   "source": [
    "%load_ext autoreload\n",
    "\n",
    "%autoreload 2"
   ]
  },
  {
   "cell_type": "code",
   "execution_count": null,
   "id": "d99b6150",
   "metadata": {},
   "outputs": [],
   "source": [
    "import pandas as pd\n",
    "import numpy as np\n",
    "\n",
    "pd.options.display.max_columns = 999\n",
    "pd.options.display.max_rows = 999\n",
    "\n",
    "\n",
    "import time\n",
    "import unicodedata\n",
    "\n",
    "import datetime\n",
    "from datetime import timedelta, datetime\n",
    "\n",
    "import csv\n",
    "import os\n",
    "\n",
    "import sys\n",
    "sys.path.append('./lib/')\n",
    "from functions import *\n",
    "\n",
    "from tqdm import tnrange, tqdm_notebook\n",
    "from unidecode import unidecode\n",
    "\n",
    "from IPython.core.display import display, HTML\n",
    "display(HTML(\"<style>.container { width:100% !important; }</style>\"))\n",
    "\n",
    "import glob\n",
    "\n",
    "%matplotlib inline\n",
    "\n",
    "import matplotlib\n",
    "import numpy as np\n",
    "import matplotlib.pyplot as plt\n",
    "\n",
    "import seaborn as sns\n",
    "sns.set_style(\"darkgrid\")\n",
    "\n",
    "import locale\n",
    "locale.setlocale(locale.LC_ALL, 'es_ES')"
   ]
  },
  {
   "cell_type": "markdown",
   "id": "30816ac3",
   "metadata": {},
   "source": [
    "# Import data"
   ]
  },
  {
   "cell_type": "code",
   "execution_count": null,
   "id": "8b7deff1",
   "metadata": {},
   "outputs": [],
   "source": [
    "period = '20180210-3'"
   ]
  },
  {
   "cell_type": "code",
   "execution_count": null,
   "id": "a83569c3",
   "metadata": {},
   "outputs": [],
   "source": [
    "df = pd.read_csv('../data/output/02_scraped_data_clean_second_{}.csv'.format(period), encoding='utf-8',low_memory=False\n",
    "                 , sep='|', quoting=1)"
   ]
  },
  {
   "cell_type": "code",
   "execution_count": null,
   "id": "8e570c67",
   "metadata": {},
   "outputs": [],
   "source": [
    "df.shape"
   ]
  },
  {
   "cell_type": "markdown",
   "id": "4936cb72",
   "metadata": {},
   "source": [
    "# Clean dates "
   ]
  },
  {
   "cell_type": "code",
   "execution_count": null,
   "id": "1600054f",
   "metadata": {},
   "outputs": [],
   "source": [
    "pd_preprocess(df)"
   ]
  },
  {
   "cell_type": "markdown",
   "id": "d4340d29",
   "metadata": {},
   "source": [
    "### Fixing -allyear "
   ]
  },
  {
   "cell_type": "code",
   "execution_count": null,
   "id": "86460dde",
   "metadata": {},
   "outputs": [],
   "source": [
    "pd_runfix(pd_allyear, df, 'datets', 'yearmonth')"
   ]
  },
  {
   "cell_type": "markdown",
   "id": "409d2a01",
   "metadata": {},
   "source": [
    "### Year - Month"
   ]
  },
  {
   "cell_type": "code",
   "execution_count": null,
   "id": "093a2006",
   "metadata": {},
   "outputs": [],
   "source": [
    "pd_runfix(pd_yearmonth, df, 'datets', 'yearmonth')"
   ]
  },
  {
   "cell_type": "markdown",
   "id": "af514cdb",
   "metadata": {},
   "source": [
    "### month-allyear "
   ]
  },
  {
   "cell_type": "code",
   "execution_count": null,
   "id": "b550f5c9",
   "metadata": {},
   "outputs": [],
   "source": [
    "pd_runfix(pd_monthallyear, df, 'datets', 'yearmonth')"
   ]
  },
  {
   "cell_type": "markdown",
   "id": "1a934005",
   "metadata": {},
   "source": [
    "### Drop aux columns "
   ]
  },
  {
   "cell_type": "code",
   "execution_count": null,
   "id": "8856e496",
   "metadata": {},
   "outputs": [],
   "source": [
    "cols = [x for x in df.columns if 'aux' in x]\n",
    "cols"
   ]
  },
  {
   "cell_type": "code",
   "execution_count": null,
   "id": "4027dc16",
   "metadata": {},
   "outputs": [],
   "source": [
    "for c in cols:\n",
    "    del df[c]"
   ]
  },
  {
   "cell_type": "markdown",
   "id": "59ce8c75",
   "metadata": {},
   "source": [
    "### what's left"
   ]
  },
  {
   "cell_type": "code",
   "execution_count": null,
   "id": "f954ce86",
   "metadata": {},
   "outputs": [],
   "source": [
    "df.loc[pd.isnull(df['datets']), 'yearmonth'].value_counts().sum()"
   ]
  },
  {
   "cell_type": "code",
   "execution_count": null,
   "id": "04f688da",
   "metadata": {},
   "outputs": [],
   "source": [
    "df.loc[pd.isnull(df['datets']), 'yearmonth'].value_counts()"
   ]
  },
  {
   "cell_type": "markdown",
   "id": "86dc0d8c",
   "metadata": {},
   "source": [
    "## Few examples of missing "
   ]
  },
  {
   "cell_type": "code",
   "execution_count": null,
   "id": "149e3f1f",
   "metadata": {},
   "outputs": [],
   "source": [
    "df.loc[pd.isnull(df['datets']) &\n",
    "       (df['yearmonth'] == 'allyear-diciembre')]"
   ]
  },
  {
   "cell_type": "markdown",
   "id": "7cf57b0c",
   "metadata": {},
   "source": [
    "# High-level date patterns "
   ]
  },
  {
   "cell_type": "code",
   "execution_count": null,
   "id": "2e0219b6",
   "metadata": {},
   "outputs": [],
   "source": [
    "df.groupby(pd.Grouper(freq='M', key='datets'))['entity'].count().plot()"
   ]
  },
  {
   "cell_type": "markdown",
   "id": "f6bac6e1",
   "metadata": {},
   "source": [
    "# Print out file"
   ]
  },
  {
   "cell_type": "code",
   "execution_count": null,
   "id": "89806090",
   "metadata": {},
   "outputs": [],
   "source": [
    "df.to_csv('../data/output/03_scraped_data_clean_third_{}.csv'.format(period), encoding='utf-8', sep='|',\n",
    "           quoting=csv.QUOTE_ALL, index=False)"
   ]
  },
  {
   "cell_type": "markdown",
   "id": "88437600",
   "metadata": {},
   "source": [
    "# Cleanup stats "
   ]
  }
 ],
 "metadata": {},
 "nbformat": 4,
 "nbformat_minor": 5
}
