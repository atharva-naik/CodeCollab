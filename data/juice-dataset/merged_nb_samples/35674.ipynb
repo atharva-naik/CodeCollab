{
 "cells": [
  {
   "cell_type": "code",
   "execution_count": null,
   "id": "86d7c81c",
   "metadata": {},
   "outputs": [],
   "source": [
    "%run ../../common/import_all.py\n",
    "\n",
    "from common.setup_notebook import set_css_style, setup_matplotlib, config_ipython\n",
    "\n",
    "import cv2\n",
    "\n",
    "config_ipython()\n",
    "setup_matplotlib()\n",
    "set_css_style()"
   ]
  },
  {
   "cell_type": "markdown",
   "id": "07457eed",
   "metadata": {},
   "source": [
    "# Blurring, inverting, thresholding an image"
   ]
  },
  {
   "cell_type": "markdown",
   "id": "df7d784c",
   "metadata": {},
   "source": [
    "## The original image\n",
    "\n",
    "This is the original image we'll use here to demonstrate these manipulations. It's basically a photo I've taken of two pens on a red shiny desk, and the interesting thing is that shadow in the corner, due precisely to the surface being reflective."
   ]
  },
  {
   "cell_type": "code",
   "execution_count": null,
   "id": "45cf9b3d",
   "metadata": {},
   "outputs": [],
   "source": [
    "# read an image with OpenCV\n",
    "\n",
    "image = cv2.imread('../../imgs/pens.jpg')\n",
    "\n",
    "# transform into RGB as OpenCV reads in BGR (and Matplotlib uses RGB)\n",
    "RGB_image = cv2.cvtColor(image, cv2.COLOR_BGR2RGB)\n",
    "\n",
    "# show it\n",
    "plt.imshow(RGB_image)\n",
    "plt.grid()\n",
    "plt.show();"
   ]
  },
  {
   "cell_type": "markdown",
   "id": "e8e7ba34",
   "metadata": {},
   "source": [
    "## Blurring\n",
    "\n",
    "*Blurring* is also called *smoothing* and it is an operation typically used to reduce noise on the source. It consists in applying a filter to the image. Let's see what this means.\n",
    "\n",
    "The operation goes like this:\n",
    "\n",
    "$$\n",
    "g(i,j) = \\sum_{h,l} f(i+h, j+l) K(h,l) \\ ,\n",
    "$$\n",
    "\n",
    "where $g(i,j)$ represents the transformed value of the pixel at position $(i,j)$, $K(h,l)$ is the *kernel* and $f$ represents the original pixels. What the sum is doing is weighing every pixel by the kernel and considering its neighborhood. The kernel is a matrix which determines how should the neighborhood be factored in.\n",
    "\n",
    "\n",
    "In the following, we'll go through some common types of filters and we'll try them out on a the image."
   ]
  },
  {
   "cell_type": "markdown",
   "id": "1813c1ee",
   "metadata": {},
   "source": [
    "### Common types of filters and trying them out\n",
    "\n",
    "#### Normalised Box Filter\n",
    "\n",
    "Each pixel value gets transformed into the mean of its neighbours, each of which contributes with equal weight:. The kernel $K$ is a matrix with the same value at each place, and this value is\n",
    "\n",
    "$$\n",
    "k = \\frac{1}{k_w k_h} \\ ,\n",
    "$$\n",
    "\n",
    "where $k_w, k_h$ are the (width and height) dimensions of the matrix. In other words, this filter is considering a neighborhood rectangle of dimension $k_w \\times k_h$ around each pixel and averaging the intensities values inside it, assigning to pixels."
   ]
  },
  {
   "cell_type": "code",
   "execution_count": null,
   "id": "66d6ef53",
   "metadata": {},
   "outputs": [],
   "source": [
    "# a normalised box filter with kernel 50X50 and showing result\n",
    "nb = cv2.blur(RGB_image, (50, 50))\n",
    "\n",
    "plt.imshow(nb)\n",
    "plt.grid()\n",
    "plt.show();"
   ]
  },
  {
   "cell_type": "markdown",
   "id": "fe216370",
   "metadata": {},
   "source": [
    "#### Gaussian Filter\n",
    "\n",
    "It's the most popular but not the fastest. The kernel is given by a gaussian in 2 dimensions, so that at a point $(x, y)$ it is:\n",
    "\n",
    "$$\n",
    "K(x, y) = \\frac{1}{2 \\pi \\sigma_x \\sigma_y} e^{-\\frac{(x - \\mu_x)^2}{2 \\sigma_x^2}} e^{-\\frac{(y - \\mu_y)^2}{2 \\sigma_y^2}} \n",
    "$$\n",
    "\n",
    "This way, the pixel in the middle is given the largest weight and this weight decreases normally with distance to the pixel in consideration. Look at the [docs](http://docs.opencv.org/3.2.0/d4/d86/group__imgproc__filter.html#gaabe8c836e97159a9193fb0b11ac52cf1) for the implementation of this filter in OpenCV3. "
   ]
  },
  {
   "cell_type": "code",
   "execution_count": null,
   "id": "03ac743c",
   "metadata": {},
   "outputs": [],
   "source": [
    "# a Gaussian filter with kernel 49X49 and  and showing result\n",
    "# Note that the third (required) arg is the sigma_x, if 0 means both sigma_x and sigma_y are calculated from the\n",
    "# kernel size. Also note kernel size must be odd (not sure why this constraint)\n",
    "gb = cv2.GaussianBlur(RGB_image, (49, 49), 0)\n",
    "\n",
    "plt.imshow(gb)\n",
    "plt.grid()\n",
    "plt.show();"
   ]
  },
  {
   "cell_type": "markdown",
   "id": "ea3442b6",
   "metadata": {},
   "source": [
    "#### Median Filter\n",
    "\n",
    "Each pixel gets replaced with the median of its neighbours (those in a square around it)."
   ]
  },
  {
   "cell_type": "code",
   "execution_count": null,
   "id": "72c08f94",
   "metadata": {},
   "outputs": [],
   "source": [
    "# a median filter with kernel 49X49 and  and showing result\n",
    "# Note kernel size must be odd as for the gaussian (?)\n",
    "mb = cv2.medianBlur(RGB_image, 49)\n",
    "\n",
    "plt.imshow(mb)\n",
    "plt.grid()\n",
    "plt.show();"
   ]
  },
  {
   "cell_type": "markdown",
   "id": "9a522ee1",
   "metadata": {},
   "source": [
    "#### Bilateral Filter\n",
    "\n",
    "Avoids (to a certain extent) smoothing the edges in a picture (all other filters don't avoid that). Considers neighbouring pixels with weight. In a region of pixels similar in intensity, it will replace pixel with the average of neighborhood, acting similarly to other filters; in a region where there is a boundary of two intensity areas, that is, a region where pixels on one side are sensibly brighter than those on the other side, a bilateral filter yields a value of $1$ for pixels on the same side and $0$ for the others. See [[1]](#bilateral) for a detailed explanation and the OpenCV3 [docs](http://docs.opencv.org/3.2.0/d4/d86/group__imgproc__filter.html#ga9d7064d478c95d60003cf839430737ed) for the API.\n",
    "\n",
    "Note that it's a quite slow algorithm, especially for large diameters of the neighborhood."
   ]
  },
  {
   "cell_type": "code",
   "execution_count": null,
   "id": "96c5567c",
   "metadata": {},
   "outputs": [],
   "source": [
    "# a bilateral filter with kernel of diameter 15 and sigmas in color space and coordinate space\n",
    "bb = cv2.bilateralFilter(RGB_image, 15, 2, 2)\n",
    "\n",
    "plt.imshow(bb)\n",
    "plt.grid()\n",
    "plt.show();"
   ]
  },
  {
   "cell_type": "markdown",
   "id": "bf27bf59",
   "metadata": {},
   "source": [
    "## Inverting\n",
    "\n",
    "Inverting an image means subtracting each pixel value from $255$, so that white becomes black and vice versa. "
   ]
  },
  {
   "cell_type": "code",
   "execution_count": null,
   "id": "f80f32c2",
   "metadata": {},
   "outputs": [],
   "source": [
    "# make the sample image grayscale\n",
    "gray = cv2.cvtColor(image, cv2.COLOR_BGR2GRAY)\n",
    "\n",
    "# invert it\n",
    "inverted = 255 - gray\n",
    "\n",
    "# Plot both gray image and inverted\n",
    "\n",
    "plt.gray()\n",
    "f, (ax1, ax2) = plt.subplots(1, 2, sharey=True)\n",
    "\n",
    "ax1.grid()\n",
    "ax1.imshow(gray)\n",
    "\n",
    "ax2.grid()\n",
    "ax2.imshow(inverted)\n",
    "\n",
    "plt.show();"
   ]
  },
  {
   "cell_type": "markdown",
   "id": "d94a07ce",
   "metadata": {},
   "source": [
    "## Thresholding\n",
    "\n",
    "See the [API](http://docs.opencv.org/2.4/modules/imgproc/doc/miscellaneous_transformations.html?highlight=threshold#cv2.threshold) call `cv2.threshold` needs the gray image as first argument, the threshold $t$ as the second argument and the value to assign as the third argument in the case of a binary and binary inverted thresholding.\n",
    "\n",
    "See [[2]] for an explanation of thresholding with graphics on OpenCV itself. \n",
    "\n",
    "Thresholding is a way to modify the pixels of an image based on a given threshold in their intensity/colour.\n",
    "\n",
    "### Simple Thresholding\n",
    "\n",
    "Applied to grayscale images, it sets the pixel to a new value if it exceeds a given threshold and to another value otherwise. Modes are, calling $p(x, y)$ the pixel, $a$ the value to set and $t$ the threshold:\n",
    "\n",
    "* **binary**: \n",
    "$$\n",
    "p'(x, y) = \n",
    "\\begin{cases}\n",
    "a \\ \\text{if} \\ p(x,y) > t \\\\\n",
    "0 \\ \\text{else}\n",
    "\\end{cases}\n",
    "$$\n",
    "\n",
    "* **binary inverted**: \n",
    "$$\n",
    "p'(x, y) = \n",
    "\\begin{cases}\n",
    "0 \\ \\text{if} \\ p(x,y) > t \\\\\n",
    "a \\ \\text{else}\n",
    "\\end{cases}\n",
    "$$\n",
    "\n",
    "* **threshold truncated**: \n",
    "$$\n",
    "p'(x, y) = \n",
    "\\begin{cases}\n",
    "t \\ \\text{if} \\ p(x,y) > t \\\\\n",
    "p(x,y) \\ \\text{else}\n",
    "\\end{cases}\n",
    "$$\n",
    "\n",
    "* **threshold to zero**: \n",
    "$$\n",
    "p'(x, y) = \n",
    "\\begin{cases}\n",
    "p(x,y) \\ \\text{if} \\ p(x,y) > t \\\\\n",
    "0 \\ \\text{else}\n",
    "\\end{cases}\n",
    "$$\n",
    "\n",
    "* **threshold to zero inverted**:\n",
    "$$\n",
    "p'(x, y) = \n",
    "\\begin{cases}\n",
    "0 \\ \\text{if} \\ p(x,y) > t \\\\\n",
    "p(x,y) \\ \\text{else}\n",
    "\\end{cases}\n",
    "$$"
   ]
  },
  {
   "cell_type": "code",
   "execution_count": null,
   "id": "647172fd",
   "metadata": {},
   "outputs": [],
   "source": [
    "# binary threshold: put 255 (white) if pixel passes 100 threshold, 0 (black) otherwise\n",
    "\n",
    "dest = cv2.threshold(gray, 100, 255, cv2.THRESH_BINARY)[1]\n",
    "\n",
    "plt.gray()\n",
    "plt.grid()\n",
    "plt.imshow(dest)\n",
    "plt.show();"
   ]
  },
  {
   "cell_type": "code",
   "execution_count": null,
   "id": "0c426e2c",
   "metadata": {},
   "outputs": [],
   "source": [
    "# binary inverted threshold: put 0 (black) if pixel passes 100 threshold, 255 (white) otherwise\n",
    "\n",
    "dest = cv2.threshold(gray, 100, 255, cv2.THRESH_BINARY_INV)[1]\n",
    "\n",
    "plt.gray()\n",
    "plt.grid()\n",
    "plt.imshow(dest)\n",
    "plt.show();"
   ]
  },
  {
   "cell_type": "code",
   "execution_count": null,
   "id": "3a249426",
   "metadata": {},
   "outputs": [],
   "source": [
    "# binary truncated: put threshold value if pixel passes 100 threshold, keep pixel value otherwise\n",
    "\n",
    "dest = cv2.threshold(gray, 100, 255, cv2.THRESH_TRUNC)[1]   # note 255 here is useless but needed by method\n",
    "\n",
    "plt.gray()\n",
    "plt.grid()\n",
    "plt.imshow(dest)\n",
    "plt.show();"
   ]
  },
  {
   "cell_type": "code",
   "execution_count": null,
   "id": "d68d5c05",
   "metadata": {},
   "outputs": [],
   "source": [
    "# to zero: put pixel value if pixel passes 100 threshold, 0 otherwise\n",
    "\n",
    "dest = cv2.threshold(gray, 100, 255, cv2.THRESH_TOZERO)[1]   # note 255 here is useless but needed by method\n",
    "\n",
    "plt.gray()\n",
    "plt.grid()\n",
    "plt.imshow(dest)\n",
    "plt.show();"
   ]
  },
  {
   "cell_type": "code",
   "execution_count": null,
   "id": "f94c633a",
   "metadata": {},
   "outputs": [],
   "source": [
    "# to zero inverted: put 0 if pixel passes threshold, keep pixel value otherwise\n",
    "\n",
    "dest = cv2.threshold(gray, 100, 255, cv2.THRESH_TOZERO_INV)[1]   # note 255 here is useless but needed by method\n",
    "\n",
    "plt.gray()\n",
    "plt.grid()\n",
    "plt.imshow(dest)\n",
    "plt.show();"
   ]
  },
  {
   "cell_type": "markdown",
   "id": "7c44c57a",
   "metadata": {},
   "source": [
    "### Adaptive Thresholding\n",
    "\n",
    "Applied to grayscale images, the threshold is calculated locally so it is different for each region and this accounts for different conditions like illumination. Modes are *binary* and *binary inverted*, as above, with the difference that $t = t(x, y)$. The pixel gets set to a specified new value. Methods are:\n",
    "\n",
    "* **Adaptive mean**: $t(x, y)$ is the average of the neighbourhood of pixel $p(x, y)$, the neighborhood being a square of specified size around pixel\n",
    "* **Adaptive gaussian**: $t(x, y)$ is a weighted sum, with gaussian weights of the neighbourhood of pixel $p(x, y)$. The standard deviation depends on the block size. "
   ]
  },
  {
   "cell_type": "code",
   "execution_count": null,
   "id": "a73a6f14",
   "metadata": {},
   "outputs": [],
   "source": [
    "# adaptive mean thresholding with binary method and a neighborhood of 3X3\n",
    "# note that last arg (required) gets subtracted from the mean for computing the threshold\n",
    "\n",
    "dest = cv2.adaptiveThreshold(gray, 100, cv2.ADAPTIVE_THRESH_MEAN_C, cv2.THRESH_BINARY, 3, 0)\n",
    "\n",
    "plt.gray()\n",
    "plt.grid()\n",
    "plt.imshow(dest)\n",
    "plt.show();"
   ]
  },
  {
   "cell_type": "code",
   "execution_count": null,
   "id": "16708d06",
   "metadata": {},
   "outputs": [],
   "source": [
    "# adaptive gaussian thresholding with binary method and a neighborhood of 3X3\n",
    "# note that last arg (required) gets subtracted from the mean for computing the threshold\n",
    "\n",
    "dest = cv2.adaptiveThreshold(gray, 100, cv2.ADAPTIVE_THRESH_GAUSSIAN_C, cv2.THRESH_BINARY, 3, 0)\n",
    "\n",
    "plt.gray()\n",
    "plt.grid()\n",
    "plt.imshow(dest)\n",
    "plt.show();"
   ]
  },
  {
   "cell_type": "markdown",
   "id": "9a1f70fb",
   "metadata": {},
   "source": [
    "### Otsu's Binarization Thresholding\n",
    "\n",
    "This [[2]](#otsu) is a global thresholding method but the value of the threshold is computed as the mean value in between the two peaks of a [bimodal image](../some-glossary.ipynb#Bimodal-image). For this reason, it is not good on non-bimodal images. It minimises the weighted within-class variance where a class is the set of pixels around a peak. "
   ]
  }
 ],
 "metadata": {},
 "nbformat": 4,
 "nbformat_minor": 5
}
