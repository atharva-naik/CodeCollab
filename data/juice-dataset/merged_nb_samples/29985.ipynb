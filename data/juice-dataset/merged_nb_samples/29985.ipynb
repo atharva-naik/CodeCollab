{
 "cells": [
  {
   "cell_type": "markdown",
   "id": "99cab86b",
   "metadata": {},
   "source": [
    "### This notebook has all the functions for the Lorenz63 model.\n",
    "\n"
   ]
  },
  {
   "cell_type": "code",
   "execution_count": null,
   "id": "e4335906",
   "metadata": {},
   "outputs": [],
   "source": [
    "# Calling libraries:\n",
    "from __future__ import division\n",
    "%matplotlib inline\n",
    "import numpy as np\n",
    "import time\n",
    "from scipy.stats import norm, uniform, bernoulli\n",
    "from scipy.linalg import sqrtm \n",
    "import math \n",
    "from resampling_functions import resample, systematic_resampling\n",
    "import scipy\n",
    "import multiprocessing as mp\n",
    "import parmap"
   ]
  },
  {
   "cell_type": "markdown",
   "id": "0dd04dd7",
   "metadata": {},
   "source": [
    "* Here $W$ is $N$ iid copies of $N(0,1)$."
   ]
  },
  {
   "cell_type": "code",
   "execution_count": null,
   "id": "880f7cdd",
   "metadata": {},
   "outputs": [],
   "source": [
    "def propagate_Lorenz63(X, W, dt, delta, theta) :\n",
    "    \"\"\"\n",
    "    usual: 3D Lorenz model + multiplicative noise\n",
    "    compute one step forward, usual Euler-Maruyama discretization\n",
    "    \"\"\"\n",
    "    sigma = theta[0]\n",
    "    rho   = theta[1]\n",
    "    beta  = theta[2]\n",
    "    noise_intensity = theta[3]\n",
    "    #ODE forward + noise\n",
    "    N = np.shape(X)[1]\n",
    "    sqdt = np.sqrt(dt)\n",
    "\n",
    "    for i in range( int(delta/dt) ) :\n",
    "        xx = np.zeros(( 3, N ))\n",
    "        xx[0,:] = X[0,:] + dt*sigma*(X[1,:] - X[0,:]) + noise_intensity*X[0,:]*sqdt*W[i,:]\n",
    "        xx[1,:] = X[1,:] + dt*(X[0,:]*(rho - X[2,:]) - X[1,:]) + noise_intensity*X[1,:]*sqdt*W[i,:]\n",
    "        xx[2,:] = X[2,:] + dt*(X[0,:]*X[1,:] - beta*X[2,:]) + noise_intensity*X[2,:]*sqdt*W[i,:]\n",
    "        X [:,:] = xx[:,:]\n",
    "    \n",
    "    return X"
   ]
  },
  {
   "cell_type": "markdown",
   "id": "42fa6aef",
   "metadata": {},
   "source": [
    "#### Simulate data:\n",
    "\n",
    "* Define a function to simulate observations.\n",
    "\n",
    "* $\\theta = (\\sigma, \\rho, \\beta, \\sigma_{\\text{latent}})$."
   ]
  },
  {
   "cell_type": "code",
   "execution_count": null,
   "id": "cd7b2410",
   "metadata": {},
   "outputs": [],
   "source": [
    "def simulate_observations(x_0, T, dt, delta, H, R, theta) : \n",
    "    \"\"\"\n",
    "    generate a sequence of observations x_0 : initialization\n",
    "    T = number of observations\n",
    "    delta = time between observations\n",
    "    \"\"\"\n",
    "    m  = np.shape(H)[0]\n",
    "    y  = np.zeros(( m, T ))\n",
    "    X  = np.zeros(( 3, 1 ))\n",
    "    trajectory = np.zeros(( 3, T ))\n",
    "    X[:,0] = x_0\n",
    "    \n",
    "    for t in range(T) :\n",
    "        W = np.random.randn(int(delta/dt),1)\n",
    "        X = propagate_Lorenz63(X, W, dt, delta, theta)\n",
    "        trajectory[:,t] = X[:,0]\n",
    "        y[:,t] = np.dot(H, X[:,0]) + np.random.multivariate_normal(np.zeros(m), R, 1)\n",
    "                        \n",
    "    return y, trajectory"
   ]
  },
  {
   "cell_type": "markdown",
   "id": "4cc86056",
   "metadata": {},
   "source": [
    "* First define $g$, the error functiom (that is, the density of $Y_t$ given $X_t$)."
   ]
  }
 ],
 "metadata": {},
 "nbformat": 4,
 "nbformat_minor": 5
}
