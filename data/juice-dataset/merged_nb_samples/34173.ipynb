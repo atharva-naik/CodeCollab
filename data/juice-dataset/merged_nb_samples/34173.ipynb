{
 "cells": [
  {
   "cell_type": "code",
   "execution_count": null,
   "id": "cb0ffb5b",
   "metadata": {},
   "outputs": [],
   "source": [
    "import typing\n",
    "import sys\n",
    "from collections import *\n",
    "from math import ceil\n",
    "import numpy as np\n",
    "# print(sys.version)"
   ]
  },
  {
   "cell_type": "markdown",
   "id": "8121e79e",
   "metadata": {},
   "source": [
    "# 1.1  Is Unique \n",
    "Determine if an array has all unique characters\n",
    " > Problem also suggests completing this without using additional data structures; have yet to complete this way"
   ]
  },
  {
   "cell_type": "code",
   "execution_count": null,
   "id": "5dd9f535",
   "metadata": {},
   "outputs": [],
   "source": [
    "def isUnique(text: str = \"placeholder\") -> bool:\n",
    "    \"\"\"Checks if all characters in text are unique.\n",
    "    Args:\n",
    "        text (str)=\"placeholder\": text to be validated.\n",
    "    Returns:\n",
    "        bool: True if unique, otherwise false.\n",
    "    \"\"\"\n",
    "    set_text: set = set(text)\n",
    "    len_string: int = len(text)\n",
    "    len_set: int = len(set_text)\n",
    "    return len_string == len_set "
   ]
  },
  {
   "cell_type": "code",
   "execution_count": null,
   "id": "7f7bbd7b",
   "metadata": {},
   "outputs": [],
   "source": [
    "print(isUnique(\"aabcdefgh\"))\n",
    "print(isUnique(\"uniq-e\"))\n",
    "print(isUnique.__doc__)"
   ]
  },
  {
   "cell_type": "markdown",
   "id": "61fcf0a2",
   "metadata": {},
   "source": [
    "# 1.2 Check Permutation\n",
    "Given two strings, determine if one is a permutation of the other"
   ]
  },
  {
   "cell_type": "code",
   "execution_count": null,
   "id": "554f6b38",
   "metadata": {},
   "outputs": [],
   "source": [
    "def isPerm(string1, string2):\n",
    "    \"\"\"Determines if string2 is a permutation of string1\n",
    "    \n",
    "    Args:\n",
    "        string1 (str): First string.\n",
    "        string2 (str): Second string.\n",
    "    Returns:\n",
    "        bool: True if string2 is a perm, otherwise False.\n",
    "    \"\"\"\n",
    "    # Reference for Counter \n",
    "    # https://docs.python.org/3.5/library/collections.html#collections.Counter\n",
    "    # print(Counter(string1) + Counter(string2))\n",
    "    return Counter(string1) == Counter(string2)"
   ]
  },
  {
   "cell_type": "code",
   "execution_count": null,
   "id": "76aa1eda",
   "metadata": {},
   "outputs": [],
   "source": [
    "strings = [\"abcd\", \"dcba\", \"cbda\", \"cbad\", \"test\"]\n",
    "count = 1\n",
    "for string1 in strings:\n",
    "    for string2 in strings[count:]:\n",
    "        print(string1 + \" : \" + string2 + \" || \" + str(isPerm(string1,string2)))\n",
    "    count+=1"
   ]
  },
  {
   "cell_type": "markdown",
   "id": "0add5912",
   "metadata": {},
   "source": [
    "# 1.3 URLify\n",
    "Assumptions:\n",
    "1. Extra whitespace for replaced spaces is provided strictly at end of the string.\n",
    "2. Would be nicer to do this in place, but strings are immutable in Python, so that's a no go."
   ]
  },
  {
   "cell_type": "code",
   "execution_count": null,
   "id": "eacca6fe",
   "metadata": {},
   "outputs": [],
   "source": [
    "def URLify(text: str, length: int) -> [str,int]:\n",
    "    \"\"\"Converts spaces in appropriate length strings to %20's, making them appropriate for URLs\n",
    "    Args:\n",
    "        text (str): text to be URLified\n",
    "        length(int): true length of the string, not just the length until final non-space character\n",
    "    Returns:\n",
    "        str: new string with space encodings\n",
    "        int: length of new string, which should be the original length \n",
    "    \"\"\"\n",
    "    counter = 1\n",
    "    string = list(text)\n",
    "    found_text = False\n",
    "    \n",
    "    for char in text[::-1]:\n",
    "        if char != \" \":\n",
    "            found_text = True \n",
    "            string[length-counter] = char\n",
    "            counter += 1\n",
    "\n",
    "        elif char == \" \" and found_text:\n",
    "            string[(length-counter-2):(length-counter + 1)] = \"%\", \"2\", \"0\"\n",
    "            counter += 3\n",
    "\n",
    "        else: next\n",
    "        \n",
    "    return ''.join(string), len(string)"
   ]
  },
  {
   "cell_type": "code",
   "execution_count": null,
   "id": "1189d4b0",
   "metadata": {},
   "outputs": [],
   "source": [
    "string = \"test test  \"\n",
    "print(URLify(string, 11))"
   ]
  },
  {
   "cell_type": "markdown",
   "id": "0bf62606",
   "metadata": {},
   "source": [
    "# 1.4 Palindrome Permutations\n",
    "Given a string, write a function to check if it is a permutation of a palindrome. \n",
    "\n",
    "Assumptions:\n",
    "1. Whitespace is irrelevant, can strip immediately.\n",
    "2. These palindromic permutations are not required themselves, just that they exist"
   ]
  },
  {
   "cell_type": "code",
   "execution_count": null,
   "id": "8325c5a1",
   "metadata": {},
   "outputs": [],
   "source": [
    "def palindromePermutations(perm: str) -> bool:\n",
    "    \"\"\"\"\"\"\n",
    "    perm_count = list(Counter(perm.replace(' ','')).values())\n",
    "    odd_count = 0\n",
    "    \n",
    "    for count in perm_count:\n",
    "        if count % 2: # if an odd number\n",
    "            odd_count +=1\n",
    "            if odd_count > 1:\n",
    "                return False    \n",
    "    return True"
   ]
  },
  {
   "cell_type": "code",
   "execution_count": null,
   "id": "66d031fa",
   "metadata": {},
   "outputs": [],
   "source": [
    "print(palindromePermutations(\"testtest\"))\n",
    "print(palindromePermutations(\"testtesta\"))\n",
    "print(palindromePermutations(\"testtestab\"))\n",
    "print(palindromePermutations(\"testtestaab\"))"
   ]
  },
  {
   "cell_type": "markdown",
   "id": "6706f81f",
   "metadata": {},
   "source": [
    "# 1.5 One Away\n",
    "Given two strings, determine if they are one edit away from each other\n",
    "\n",
    "Assumptions: \n",
    "1. No empty strings"
   ]
  },
  {
   "cell_type": "code",
   "execution_count": null,
   "id": "d966bb6e",
   "metadata": {},
   "outputs": [],
   "source": [
    "def oneAway(string1: str, string2: str) -> bool:\n",
    "    if string1 == string2:\n",
    "        return True\n",
    "    len_s1 = len(string1)\n",
    "    len_s2 = len(string2)\n",
    "    \n",
    "    if abs(len_s1 - len_s2) >= 2:\n",
    "        return False\n",
    "    \n",
    "    counter_1 = Counter(string1)\n",
    "    counter_2 = Counter(string2)\n",
    "    print(\"Difference between Counter dicts: \" + str(counter_1 - counter_2))\n",
    "    if len(counter_1-counter_2) > 1:\n",
    "        return False\n",
    "    \n",
    "    return True"
   ]
  },
  {
   "cell_type": "code",
   "execution_count": null,
   "id": "c25d5180",
   "metadata": {},
   "outputs": [],
   "source": [
    "print(oneAway('pale','ple'))\n",
    "print(oneAway('pale','pales'))\n",
    "print(oneAway('pale','bale'))\n",
    "print(oneAway('pale','bake'))"
   ]
  },
  {
   "cell_type": "markdown",
   "id": "6db6b444",
   "metadata": {},
   "source": [
    "# 1.6 String Compression\n",
    "Given a string of the form \"aaaabbbbccccaaadddd\" -> \"a4b4c4a3d4\", perform this compression"
   ]
  },
  {
   "cell_type": "code",
   "execution_count": null,
   "id": "90b1231a",
   "metadata": {},
   "outputs": [],
   "source": [
    "def stringCompression(string: str) -> str:\n",
    "    \"\"\"\"\"\"\n",
    "    orig_len = len(string)\n",
    "    temp = [string[0], 1]\n",
    "    container = []\n",
    "    comp_string = ''\n",
    "    \n",
    "    # Definitely room for improvement in this approach. Will review in the morning\n",
    "    for index,char in enumerate(string):\n",
    "        if index < len(string)-1:\n",
    "            if char == string[index+1]:\n",
    "                temp[1] += 1\n",
    "\n",
    "            elif char != string[index+1]:\n",
    "                container.append(temp)\n",
    "                comp_string = comp_string + temp[0] + str(temp[1])\n",
    "                temp = [string[index+1],1]\n",
    "        else:\n",
    "            comp_string = comp_string + temp[0] + str(temp[1])\n",
    "            \n",
    "    return string if orig_len <= len(comp_string) else comp_string\n",
    "\n",
    "print(stringCompression('aabbbccccccdeefff'))"
   ]
  },
  {
   "cell_type": "markdown",
   "id": "03e21b27",
   "metadata": {},
   "source": [
    "# 1.7 Rotate Matrix\n",
    "\"Given an image represented by an NxN matrix where each pixel is 4 bytes, write a method to rotate the image by 90 degrees\"\n",
    "This problem took me way too long. Kept trying to think of a clever way to do the rotation and I'm sure one exists, but I broke down and ended up just switch-cased the 4 rotations"
   ]
  },
  {
   "cell_type": "code",
   "execution_count": null,
   "id": "b9f5e427",
   "metadata": {},
   "outputs": [],
   "source": [
    "def rotateMatrix(matrix, size):\n",
    "    \"\"\"\n",
    "    Args:\n",
    "        matrix [[],[], ...]: list of lists representing matrixs (NxN)\n",
    "        size int: value N representing number of rows and columns\n",
    "    Returns:\n",
    "        list: matrix as a list of lists\n",
    "    \"\"\"\n",
    "    temp = 0\n",
    "    for layer in range(ceil(size/2)):\n",
    "        for i in range(size - 2*layer - 1):\n",
    "            curr_pos = [layer,layer+i]\n",
    "            sl1 = size-layer-1\n",
    "            switch = {\n",
    "                    0: [i + layer, sl1],\n",
    "                    1: [sl1, sl1-i],\n",
    "                    2: [sl1-i, layer],\n",
    "                    3: [layer, layer + i]\n",
    "                }\n",
    "            curr = matrix[layer][layer+i]\n",
    "            for j in range(4):\n",
    "                next_pos = switch[j] # find the position \n",
    "                temp = matrix[next_pos[0]][next_pos[1]]\n",
    "                matrix[next_pos[0]][next_pos[1]] = curr\n",
    "                curr = temp\n",
    "                curr_pos = next_pos\n",
    "                \n",
    "                \n",
    "    return matrix"
   ]
  },
  {
   "cell_type": "code",
   "execution_count": null,
   "id": "d7bed897",
   "metadata": {},
   "outputs": [],
   "source": [
    "matrix = [[1,2,3,4],\n",
    "          [5,6,7,8],\n",
    "          [9,10,11,12],\n",
    "          [13,14,15,16]]\n",
    "matrix2 = np.identity(8)\n",
    "matrix3 = [[1,2,3,4,5],\n",
    "          [6,7,8,9,10],\n",
    "          [11,12,13,14,15],\n",
    "          [16,17,18,19,20],\n",
    "          [21,22,23,24,25]]\n",
    "print(rotateMatrix(matrix,4))\n",
    "print(rotateMatrix(matrix2,8))\n",
    "print(rotateMatrix(matrix3,5))"
   ]
  },
  {
   "cell_type": "markdown",
   "id": "b9d87c10",
   "metadata": {},
   "source": [
    "# 1.8 Zero Matrix\n",
    "Write an algorithm such that if an MxN matrix is 0 its entire row and column are set to 0.\n",
    "> Fairly straightforward, but used numpy to remove the tedious bit of finding the '0' indices. "
   ]
  },
  {
   "cell_type": "code",
   "execution_count": null,
   "id": "58fdd379",
   "metadata": {},
   "outputs": [],
   "source": [
    "def zeroMatrix(matrix: []):\n",
    "    N = len(matrix) # rows\n",
    "    M = len(matrix[0]) # cols\n",
    "    row_zero = np.zeros(M)\n",
    "    col_zero = np.zeros(N)\n",
    "    rows = set()\n",
    "    cols = set()\n",
    "    \n",
    "    indices = np.argwhere(matrix == 0)\n",
    "    for pair in indices:\n",
    "        rows.add(pair[0])\n",
    "        cols.add(pair[1])\n",
    "    for row in rows:\n",
    "        print(matrix[row,:])\n",
    "        matrix[row,:] = row_zero\n",
    "    for col in cols:\n",
    "        matrix[:,col] = col_zero\n",
    "    return matrix"
   ]
  },
  {
   "cell_type": "code",
   "execution_count": null,
   "id": "a12dc5e3",
   "metadata": {},
   "outputs": [],
   "source": [
    "matrix = np.array([[1,2,3,4],\n",
    "          [5,0,7,8],\n",
    "          [9,10,1,12],\n",
    "          [13,14,15,16],\n",
    "          [17,18,19,20]])\n",
    "print(zeroMatrix(matrix))"
   ]
  },
  {
   "cell_type": "markdown",
   "id": "28b6cc0c",
   "metadata": {},
   "source": [
    "# 1.9 String Rotation \n",
    "Assume you have a method isSubstring which checks if one word is a substring of another. Given two strings, s1 and s2, write code to heck if s2 is a rotation of s1 using only one call to isSubstring.\n",
    "> Did not use the isSubstring method. Current time complexity is O(2N)=O(N), but I imagine the use of isSubstring would take this down. Space complexity would be O(N^2) from the permutation list.\n",
    "\n",
    "__Assumptions:__\n",
    "1. strings are the same length; really easy to check this anyway so whatever"
   ]
  }
 ],
 "metadata": {},
 "nbformat": 4,
 "nbformat_minor": 5
}
