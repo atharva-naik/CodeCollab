{
 "cells": [
  {
   "cell_type": "markdown",
   "id": "fb517ba1",
   "metadata": {},
   "source": [
    "# Awesome 4 Panel Project\n",
    "# Package: tkinter\n",
    "# GRIB data used"
   ]
  },
  {
   "cell_type": "markdown",
   "id": "ae51527a",
   "metadata": {},
   "source": [
    "## 1) HDWX 4-Panel "
   ]
  },
  {
   "cell_type": "markdown",
   "id": "ced24e99",
   "metadata": {},
   "source": [
    "## 2) Tkinter basics\n",
    "### This is the package we found with the capability to make the awesome 4-panel.  \n",
    "### Below are some of the Basics:"
   ]
  },
  {
   "cell_type": "markdown",
   "id": "08741d79",
   "metadata": {},
   "source": [
    "### Example 1: How to make a simple single \"parent\" window."
   ]
  },
  {
   "cell_type": "code",
   "execution_count": null,
   "id": "0190a3c4",
   "metadata": {},
   "outputs": [],
   "source": [
    "# this imports the 'tkinter' module\n",
    "import tkinter\n",
    "# creates a window\n",
    "window = tkinter.Tk()\n",
    "# This gives the window a fancy title\n",
    "window.title(\"Hello, Python4Geosciences!!!\")\n",
    "\n",
    "# must make fancy title before this piece of code: (it starts the application)\n",
    "window.mainloop()"
   ]
  },
  {
   "cell_type": "markdown",
   "id": "cd867ec7",
   "metadata": {},
   "source": [
    "### Example 2: How to make a Label: (Bonus set the size of window)"
   ]
  },
  {
   "cell_type": "code",
   "execution_count": null,
   "id": "d5877427",
   "metadata": {},
   "outputs": [],
   "source": [
    "window = tkinter.Tk()\n",
    "window.title(\"Hello, Python4Geosciences!!!\")\n",
    "\n",
    "# This changes the size of the window\n",
    "window.geometry(\"300x100\")\n",
    "\n",
    "# Make a label:\n",
    "tamu = tkinter.Label(window, text='Texas A&M University')\n",
    "tamu.pack()\n",
    "\n",
    "# Create second label:\n",
    "lbl = tkinter.Label(window, text='College of Geosciences')\n",
    "# pack(add) the widget to the window\n",
    "lbl.pack()\n",
    "\n",
    "# must make fancy title before this piece of code: (it starts the application)\n",
    "window.mainloop()"
   ]
  },
  {
   "cell_type": "markdown",
   "id": "a047d565",
   "metadata": {},
   "source": [
    "### Example 3: How to make a entry window: "
   ]
  },
  {
   "cell_type": "code",
   "execution_count": null,
   "id": "a8be74c1",
   "metadata": {},
   "outputs": [],
   "source": [
    "window = tkinter.Tk()\n",
    "window.title(\"Hello, Python4Geosciences!!!\")\n",
    "window.geometry(\"300x100\")\n",
    "\n",
    "tamu = tkinter.Label(window, text='Texas A&M University')\n",
    "tamu.pack()\n",
    "lbl = tkinter.Label(window, text='College of Geosciences')\n",
    "lbl.pack()\n",
    "\n",
    "# text entry window\n",
    "ent = tkinter.Entry(window)\n",
    "ent.pack()\n",
    "\n",
    "window.mainloop()"
   ]
  },
  {
   "cell_type": "markdown",
   "id": "6ca94f80",
   "metadata": {},
   "source": [
    "### Example 4: How to make a button:"
   ]
  },
  {
   "cell_type": "code",
   "execution_count": null,
   "id": "9f5fcf19",
   "metadata": {},
   "outputs": [],
   "source": [
    "def Pressed():\n",
    "    print('Buttons are cool')\n",
    "    \n",
    "window = tkinter.Tk()\n",
    "window.title(\"Hello, Python4Geosciences!!!\")\n",
    "window.geometry(\"300x100\")\n",
    "\n",
    "tamu = tkinter.Label(window, text='Texas A&M University')\n",
    "tamu.pack()\n",
    "lbl = tkinter.Label(window, text='College of Geosciences')\n",
    "lbl.pack()\n",
    "\n",
    "ent = tkinter.Entry(window)\n",
    "ent.pack()\n",
    "\n",
    "# button widget\n",
    "btn = tkinter.Button(window, text='Click Me!', command = Pressed)\n",
    "btn.pack()\n",
    "\n",
    "window.mainloop()"
   ]
  },
  {
   "cell_type": "markdown",
   "id": "cf55a8b3",
   "metadata": {},
   "source": [
    "### Example 5: Importance of placement of name.pack( )"
   ]
  },
  {
   "cell_type": "code",
   "execution_count": null,
   "id": "2c9e532b",
   "metadata": {},
   "outputs": [],
   "source": [
    "window = tkinter.Tk()\n",
    "window.title(\"Hello, Python4Geosciences!!!\")\n",
    "window.geometry(\"300x100\")\n",
    "\n",
    "tamu = tkinter.Label(window, text='Texas A&M University')\n",
    "lbl = tkinter.Label(window, text='College of Geosciences')\n",
    "ent = tkinter.Entry(window)\n",
    "btn = tkinter.Button(window, text='Click Me!')\n",
    "\n",
    "# reversed order of pack\n",
    "btn.pack()\n",
    "ent.pack()\n",
    "lbl.pack()\n",
    "tamu.pack()\n",
    "\n",
    "window.mainloop()"
   ]
  },
  {
   "cell_type": "markdown",
   "id": "042cbca0",
   "metadata": {},
   "source": [
    "### Example 6: How to make a \"child\" window from clicking a button on \"parent\" root window."
   ]
  },
  {
   "cell_type": "code",
   "execution_count": null,
   "id": "f511007a",
   "metadata": {},
   "outputs": [],
   "source": [
    "import tkinter as tk\n",
    "from tkinter import *\n",
    "from tkinter.ttk import *\n",
    "from tkinter import PhotoImage\n",
    "\n",
    "# Function to make child window\n",
    "def create_window():\n",
    "    child = tk.Toplevel(root)\n",
    "    child.geometry(\"300x100\")\n",
    "    child.title(\"Child Window\")\n",
    "\n",
    "root = tk.Tk()\n",
    "root.title(\"Hello, Python4Geosciences!!!\")\n",
    "root.geometry(\"300x100\")\n",
    "\n",
    "tamu = tk.Label(root, text='Texas A&M University')\n",
    "tamu.pack()\n",
    "lbl = tk.Label(root, text='College of Geosciences')\n",
    "lbl.pack()\n",
    "\n",
    "# myimage = PhotoImage(file=\"CONUSpic.gif\")\n",
    "# w = tk.Label(root, image=photo)\n",
    "# w.pack()\n",
    "\n",
    "img = tk.PhotoImage(file = \"CONUSpic.gif\")\n",
    "button = tk.Button(root, image=img)\n",
    "button.image = img\n",
    "button.grid()\n",
    "# Command added to button to create the child window\n",
    "b = tk.Button(root, text=\"Create new window\", command=create_window)\n",
    "b.pack()\n",
    "\n",
    "root.mainloop()\n",
    "\n",
    "# This is definitely not what I recommend as an example of good coding style, but it illustrates the basic concepts: \n",
    "#     a button with a command, and a function that creates a window."
   ]
  },
  {
   "cell_type": "code",
   "execution_count": null,
   "id": "397c0a31",
   "metadata": {},
   "outputs": [],
   "source": [
    "from tkinter import *\n",
    "canvas = Canvas(width = 300, height = 200, bg = 'yellow')\n",
    "canvas.pack(expand = YES, fill = BOTH)\n",
    "gif1 = PhotoImage(file='CONUSpic.gif')\n",
    "canvas.create_image(50,10,image = gif1, anchor = NW)\n",
    "mainloop()"
   ]
  },
  {
   "cell_type": "markdown",
   "id": "64c82b16",
   "metadata": {},
   "source": [
    "## 3) Picked specific dates: November 16 2014\n",
    "### SPC website to find severe weather day\n",
    "### Data from NCEP\n"
   ]
  },
  {
   "cell_type": "code",
   "execution_count": null,
   "id": "7198d590",
   "metadata": {},
   "outputs": [],
   "source": [
    "import netCDF4 as nc\n",
    "import numpy as np\n",
    "import matplotlib.pyplot as plt\n",
    "from mpl_toolkits.basemap import Basemap\n",
    "%matplotlib inline\n",
    "import matplotlib.cm as cm\n",
    "\n",
    "ncfile = nc.Dataset(\"20141116T180000Z.ncd\")\n",
    "lat = ncfile['Latitude'][:]\n",
    "lon = ncfile['Longitude'][:]\n",
    "# gathering the variables:\n",
    "gheight = ncfile['Z'][20,:,:]\n",
    "temp = ncfile['T'][0,:,:]\n",
    "rh = ncfile['RH'][11,:,:]\n",
    "vort = ncfile['vor'][15,:,:]\n",
    "\n",
    "bm = Basemap(projection='lcc',llcrnrlat=13.0, llcrnrlon=230.0, urcrnrlat=50.0, urcrnrlon=320.0, lat_1=20.,lat_2=60,lat_0=40,lon_0\n",
    "             =260)"
   ]
  },
  {
   "cell_type": "markdown",
   "id": "d4039fc0",
   "metadata": {},
   "source": [
    "## variables:\n",
    "### Relative Vorticity (s^-1) at 500 hPa"
   ]
  },
  {
   "cell_type": "code",
   "execution_count": null,
   "id": "91ff53fe",
   "metadata": {},
   "outputs": [],
   "source": [
    "lonall, latall = np.meshgrid(lon,lat)\n",
    "lonproj, latproj = bm(lonall, latall)\n",
    "bm.drawcountries()\n",
    "bm.drawcoastlines()\n",
    "bm.drawstates()\n",
    "vortimg = plt.contourf(lonproj, latproj, vort, cmap = cm.inferno)\n",
    "plt.colorbar(vortimg)\n",
    "plt.show()"
   ]
  },
  {
   "cell_type": "markdown",
   "id": "3f014eeb",
   "metadata": {},
   "source": [
    "### Relative Humidity (%) at 700 hPa\n"
   ]
  },
  {
   "cell_type": "code",
   "execution_count": null,
   "id": "85916f46",
   "metadata": {},
   "outputs": [],
   "source": [
    "lonall, latall = np.meshgrid(lon,lat)\n",
    "lonproj, latproj = bm(lonall, latall)\n",
    "bm.drawcountries()\n",
    "bm.drawcoastlines()\n",
    "bm.drawstates()\n",
    "rhimg = plt.contourf(lonproj, latproj, rh, cmap = cm.inferno)\n",
    "plt.colorbar(rhimg)\n",
    "plt.show()"
   ]
  },
  {
   "cell_type": "markdown",
   "id": "c12da0e7",
   "metadata": {},
   "source": [
    "### Temperature (Kelvin) at 1000 hPa\n"
   ]
  },
  {
   "cell_type": "code",
   "execution_count": null,
   "id": "cabba969",
   "metadata": {},
   "outputs": [],
   "source": [
    "lonall, latall = np.meshgrid(lon,lat)\n",
    "lonproj, latproj = bm(lonall, latall)\n",
    "bm.drawcountries()\n",
    "bm.drawcoastlines()\n",
    "bm.drawstates()\n",
    "tempimg = plt.contourf(lonproj, latproj, temp, cmap = cm.inferno)\n",
    "plt.colorbar(tempimg)\n",
    "plt.show()"
   ]
  },
  {
   "cell_type": "markdown",
   "id": "0b54fc93",
   "metadata": {},
   "source": [
    "### Geopotential Height (m) at 250 hPa"
   ]
  }
 ],
 "metadata": {},
 "nbformat": 4,
 "nbformat_minor": 5
}
