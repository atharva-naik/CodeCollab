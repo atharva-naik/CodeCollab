{
 "cells": [
  {
   "cell_type": "markdown",
   "id": "ba09ff68",
   "metadata": {},
   "source": [
    "# Project Stage 3: Entity Matching#\n",
    "\n",
    "The entity we performed our match was on a set of restaurants in New York City. The data for the tables was taken from two different web sources, namely, Tripadvisor and Yelp.\n",
    "\n",
    "We used the py_entitymatching package to help in this process."
   ]
  },
  {
   "cell_type": "code",
   "execution_count": null,
   "id": "de772c58",
   "metadata": {},
   "outputs": [],
   "source": [
    "# Import py_entitymatching package\n",
    "import py_entitymatching as em\n",
    "import os\n",
    "import pandas as pd"
   ]
  },
  {
   "cell_type": "markdown",
   "id": "80f7246a",
   "metadata": {},
   "source": [
    "## Reading in Input Tables##\n",
    "\n",
    "We read the CSV files and set 'ID' as the key attribute.\n",
    "\n",
    "Input table A corresponds to data from TripAdvisor, and input table B corresponds to data from Yelp."
   ]
  },
  {
   "cell_type": "code",
   "execution_count": null,
   "id": "28cab8b0",
   "metadata": {},
   "outputs": [],
   "source": [
    "#path_A = 'C:\\\\Users\\\\bharg\\\\Documents\\\\TripAdvisor_Restaurants.csv'\n",
    "#path_B = 'C:\\\\Users\\\\bharg\\\\Documents\\\\Yelp_Restaurants.csv'\n",
    "path_A = 'C:\\\\Users\\\\Aribhit\\\\TripAdvisor_Restaurants.csv'\n",
    "path_B = 'C:\\\\Users\\\\Aribhit\\\\Yelp_Restaurants.csv'"
   ]
  },
  {
   "cell_type": "code",
   "execution_count": null,
   "id": "cc5c4b0b",
   "metadata": {},
   "outputs": [],
   "source": [
    "A = em.read_csv_metadata(path_A, key='Id', encoding = 'cp1252')"
   ]
  },
  {
   "cell_type": "code",
   "execution_count": null,
   "id": "87475d16",
   "metadata": {},
   "outputs": [],
   "source": [
    "B = em.read_csv_metadata(path_B, key='Id', encoding = 'cp1252')"
   ]
  },
  {
   "cell_type": "markdown",
   "id": "ff8c47b3",
   "metadata": {},
   "source": [
    "# Data Pre-processing#\n",
    "\n",
    "Since there was a lot of variance in how *Address* attribute was defined, created a new attribute called *Street* that is extracted from *Address* (by considering the part of the string till the state appears).\n",
    "\n",
    "Also converted every string type attribute to lower case."
   ]
  },
  {
   "cell_type": "code",
   "execution_count": null,
   "id": "845f6313",
   "metadata": {},
   "outputs": [],
   "source": [
    "A['Street'] = A.apply(lambda row : row['Address'][0:row['Address'].find('New')],axis=1)\n",
    "A['Name']=A['Name'].str.lower()\n",
    "A['Street']=A['Street'].str.lower()\n",
    "A['Address']=A['Address'].str.lower()"
   ]
  },
  {
   "cell_type": "code",
   "execution_count": null,
   "id": "1b4c7e07",
   "metadata": {},
   "outputs": [],
   "source": [
    "def cleaning(row) :\n",
    "    for string in ['New','Jersey','NY','NJ']:\n",
    "        index = row['Address'].find(string)\n",
    "        if index == -1 :\n",
    "            continue\n",
    "        return row['Address'][0:index]\n",
    "    return row['Address']\n",
    "    \n",
    "B['Street'] = B.apply(cleaning,axis =1)\n",
    "B['Name']=B['Name'].str.lower()\n",
    "B['Street']=B['Street'].str.lower()\n",
    "B['Address']=B['Address'].str.lower()"
   ]
  },
  {
   "cell_type": "markdown",
   "id": "8c716816",
   "metadata": {},
   "source": [
    "Deleting *Phone* attribute in case it might act as an unique ID and game the system"
   ]
  },
  {
   "cell_type": "code",
   "execution_count": null,
   "id": "5f31aec7",
   "metadata": {},
   "outputs": [],
   "source": [
    "del A['Phone']\n",
    "del B['Phone']"
   ]
  },
  {
   "cell_type": "markdown",
   "id": "ebd5e5ef",
   "metadata": {},
   "source": [
    "## Applying the Blocker##\n",
    "\n",
    "We have used the combination of two blockers: \n",
    "One blocks based on *Name* of the restaurant (Jaccard Measure with 3 grams with a constraint 0.3) and *Street* (Jaccard Measure with 3 grams with a constraint 0.3). \n",
    "Next blocker is only on the *Street* attribute(Jaccard Measure with 3 grams with a constraint 0.6).\n",
    "\n",
    "We use these blockers and then combine the results of two different blockers using union for the following reasons.\n",
    "*Street* (from *Address*) only because it can capture some pairs where names are same but differ by a new word. Ex. (alfa ristorante, alfa). The constraint is higher - 0.6\n",
    "*Name* only to capture restaurants that have similar names (constraint is 0.3). But added *Street* based rule on top of that to eliminate chain restaurants with multiple branches at different locations (eg: Shake shacks at Manhattan, Shake Shacks at Brooklyn). The constraint is lower threshold in this case compared to the earlier blocker.\n",
    "\n",
    "First, get all possible features for blocking."
   ]
  },
  {
   "cell_type": "code",
   "execution_count": null,
   "id": "b5f8a257",
   "metadata": {},
   "outputs": [],
   "source": [
    "block_f = em.get_features_for_blocking(A, B, validate_inferred_attr_types=False)"
   ]
  },
  {
   "cell_type": "markdown",
   "id": "96825210",
   "metadata": {},
   "source": [
    "First rule-based blocker uses *Name* and *Street* attributes"
   ]
  },
  {
   "cell_type": "code",
   "execution_count": null,
   "id": "cb5ccca9",
   "metadata": {},
   "outputs": [],
   "source": [
    "rb = em.RuleBasedBlocker()\n",
    "ab = em.AttrEquivalenceBlocker()\n",
    "rb.add_rule(['Name_Name_jac_qgm_3_qgm_3(ltuple, rtuple) < 0.5'], block_f)\n",
    "rb.add_rule(['Street_Street_jac_qgm_3_qgm_3(ltuple, rtuple) < 0.3'], block_f)"
   ]
  },
  {
   "cell_type": "code",
   "execution_count": null,
   "id": "77846c96",
   "metadata": {},
   "outputs": [],
   "source": [
    "C = rb.block_tables(A, B, l_output_attrs=['Name', 'Street', 'Address','Cuisines','Take Out'], \\\n",
    "                    r_output_attrs=['Name', 'Street', 'Address','Cuisines','Take Out'], show_progress=True)"
   ]
  },
  {
   "cell_type": "markdown",
   "id": "f7f655db",
   "metadata": {},
   "source": [
    "Second rule-based blocker uses only *Street* attribute"
   ]
  },
  {
   "cell_type": "code",
   "execution_count": null,
   "id": "82f472aa",
   "metadata": {},
   "outputs": [],
   "source": [
    "rb2 = em.RuleBasedBlocker()\n",
    "rb2.add_rule(['Street_Street_jac_qgm_3_qgm_3(ltuple, rtuple) < 0.6'], block_f)\n",
    "E = rb2.block_tables(A, B, l_output_attrs=['Name', 'Street', 'Address','Cuisines','Take Out'], \\\n",
    "                     r_output_attrs=['Name', 'Street', 'Address','Cuisines','Take Out'], n_jobs=-1,show_progress=True)"
   ]
  },
  {
   "cell_type": "markdown",
   "id": "6287d463",
   "metadata": {},
   "source": [
    "Combining blocker1 and blocker2 results to get candidate set C (which is named F in our code)."
   ]
  },
  {
   "cell_type": "code",
   "execution_count": null,
   "id": "aa868cfc",
   "metadata": {},
   "outputs": [],
   "source": [
    "F = em.combine_blocker_outputs_via_union([C, E])"
   ]
  },
  {
   "cell_type": "markdown",
   "id": "512b1ef5",
   "metadata": {},
   "source": [
    "Running debugger to see if F is good. 41/50 outputs of debugger are bad matches.Therefore we are proceeding with the above \n",
    "blocker"
   ]
  },
  {
   "cell_type": "code",
   "execution_count": null,
   "id": "d761713d",
   "metadata": {},
   "outputs": [],
   "source": [
    "dbg = em.debug_blocker(F, A, B, output_size=50)\n",
    "dbg.head()"
   ]
  },
  {
   "cell_type": "code",
   "execution_count": null,
   "id": "1ef740dc",
   "metadata": {},
   "outputs": [],
   "source": [
    "F.to_csv(\"F.csv\",index=False)"
   ]
  },
  {
   "cell_type": "markdown",
   "id": "4b499e07",
   "metadata": {},
   "source": [
    "Taking a sample of 600 tuples from the output, and then we label this sample manually."
   ]
  },
  {
   "cell_type": "code",
   "execution_count": null,
   "id": "c45be6cc",
   "metadata": {},
   "outputs": [],
   "source": [
    "S = em.sample_table(F, 600)\n",
    "S.to_csv('Sample.csv',encoding = 'cp1252')"
   ]
  },
  {
   "cell_type": "markdown",
   "id": "200c8ff9",
   "metadata": {},
   "source": [
    "## Reading the Labelled Sample##\n",
    "Loading the labeled data table, which is present in a file called 'Labelled_Sample_v2.csv'"
   ]
  },
  {
   "cell_type": "code",
   "execution_count": null,
   "id": "f6709029",
   "metadata": {},
   "outputs": [],
   "source": [
    "L = em.read_csv_metadata(\"Labelled_Sample_v2.csv\", key='_id', encoding = 'cp1252',\\\n",
    "                         ltable=A, rtable=B,fk_ltable='ltable_Id', fk_rtable='rtable_Id')"
   ]
  },
  {
   "cell_type": "markdown",
   "id": "ad2ca666",
   "metadata": {},
   "source": [
    "Deleting *Phone* attribute again, because it can help determine matches trivially."
   ]
  },
  {
   "cell_type": "markdown",
   "id": "14fc18f0",
   "metadata": {},
   "source": [
    "## Evaluating Best Matcher##\n",
    "\n",
    "As we picked Random Forest as the best matcher, now we apply it on the evaluation set (set J; defined earlier) to find how well it performs.\n",
    "\n",
    "Create a new Random Forest matcher and train it on set H (feature table obtained from set I):"
   ]
  },
  {
   "cell_type": "code",
   "execution_count": null,
   "id": "40a796b9",
   "metadata": {},
   "outputs": [],
   "source": [
    "rf = em.RFMatcher(name='RF', random_state=0)"
   ]
  },
  {
   "cell_type": "code",
   "execution_count": null,
   "id": "b5d3c77f",
   "metadata": {},
   "outputs": [],
   "source": [
    "rf.fit(table=H, \n",
    "       exclude_attrs=['_id', 'ltable_Id', 'rtable_Id', 'label'], \n",
    "       target_attr='label')"
   ]
  },
  {
   "cell_type": "markdown",
   "id": "43fe6e60",
   "metadata": {},
   "source": [
    "Extracting features from set J:"
   ]
  },
  {
   "cell_type": "code",
   "execution_count": null,
   "id": "6d2638d9",
   "metadata": {},
   "outputs": [],
   "source": [
    "Test_Ft = em.extract_feature_vecs(J, feature_table=Ft,\n",
    "                            attrs_after='label', show_progress=False)"
   ]
  },
  {
   "cell_type": "code",
   "execution_count": null,
   "id": "2e685a9c",
   "metadata": {},
   "outputs": [],
   "source": [
    "Test_Ft = Test_Ft.dropna(axis =0,how ='any')\n",
    "Test_Ft.to_csv(\"Test_Ft.csv\",index=False)"
   ]
  },
  {
   "cell_type": "code",
   "execution_count": null,
   "id": "bb572f10",
   "metadata": {},
   "outputs": [],
   "source": [
    "Test_Ft = em.read_csv_metadata(\"Test_Ft.csv\", key='_id', encoding = 'cp1252',\\\n",
    "                         ltable=A, rtable=B,fk_ltable='ltable_Id', fk_rtable='rtable_Id')"
   ]
  },
  {
   "cell_type": "markdown",
   "id": "98ab6702",
   "metadata": {},
   "source": [
    "Computing predictions on set J:"
   ]
  },
  {
   "cell_type": "code",
   "execution_count": null,
   "id": "11c9e8db",
   "metadata": {},
   "outputs": [],
   "source": [
    "predictions = rf.predict(table=Test_Ft, exclude_attrs=['_id', 'ltable_Id', 'rtable_Id', 'label'], \n",
    "              append=True, target_attr='predicted', inplace=False, return_probs=True,\n",
    "                        probs_attr='proba')"
   ]
  },
  {
   "cell_type": "code",
   "execution_count": null,
   "id": "586e4d2d",
   "metadata": {},
   "outputs": [],
   "source": [
    "predictions[['_id', 'ltable_Id', 'rtable_Id', 'predicted', 'proba']].head()"
   ]
  },
  {
   "cell_type": "code",
   "execution_count": null,
   "id": "17e180ea",
   "metadata": {},
   "outputs": [],
   "source": [
    "eval_result = em.eval_matches(predictions, 'label', 'predicted')\n",
    "em.print_eval_summary(eval_result)"
   ]
  },
  {
   "cell_type": "markdown",
   "id": "d38c0aa4",
   "metadata": {},
   "source": [
    "## Evaluating Other Matchers ##\n",
    "\n",
    "Now, we evaluate the performance of other matchers on set J:"
   ]
  },
  {
   "cell_type": "code",
   "execution_count": null,
   "id": "1e16c76a",
   "metadata": {},
   "outputs": [],
   "source": [
    "del L['ltable_Phone']\n",
    "del L['rtable_Phone']"
   ]
  },
  {
   "cell_type": "markdown",
   "id": "fe942225",
   "metadata": {},
   "source": [
    "## Splitting the Labelled Set##\n",
    "\n",
    "Splitting the labelled set into training and test set, by putting half the tuple pairs in each.<br>\n",
    "The development set is called I<br>\n",
    "The evaluation set is called J"
   ]
  },
  {
   "cell_type": "code",
   "execution_count": null,
   "id": "416e8bd0",
   "metadata": {},
   "outputs": [],
   "source": [
    "IJ = em.split_train_test(L, train_proportion=0.5, random_state=0)\n",
    "I = IJ['train']\n",
    "J = IJ['test']\n",
    "I.to_csv('I.csv',encoding = 'cp1252')\n",
    "J.to_csv('J.csv',encoding = 'cp1252')"
   ]
  },
  {
   "cell_type": "markdown",
   "id": "b1677892",
   "metadata": {},
   "source": [
    "## Creating ML-matchers##\n",
    "\n",
    "Initiating 6 different classifiers (Decision Tree, Random Forest, SVM, Naive Bayes, Logistic Regression, Linear Regression) and then, cross validating them on I set."
   ]
  },
  {
   "cell_type": "code",
   "execution_count": null,
   "id": "2095a870",
   "metadata": {},
   "outputs": [],
   "source": [
    "dt = em.DTMatcher(name='DecisionTree', random_state=0)\n",
    "rf = em.RFMatcher(name='RF', random_state=0)\n",
    "svm = em.SVMMatcher(name='SVM', random_state=0)\n",
    "nb = em.NBMatcher(name ='NaiveBayes')\n",
    "lg = em.LogRegMatcher(name='LogReg', random_state=0)\n",
    "ln = em.LinRegMatcher(name='LinReg')"
   ]
  },
  {
   "cell_type": "markdown",
   "id": "ba167460",
   "metadata": {},
   "source": [
    "## Selecting Best Matcher ##\n",
    "\n",
    "First, we obtain all the features we could use for matching. Ft is our feature table"
   ]
  },
  {
   "cell_type": "code",
   "execution_count": null,
   "id": "de0f7055",
   "metadata": {},
   "outputs": [],
   "source": [
    "Ft = em.get_features_for_matching(A, B, validate_inferred_attr_types=False)"
   ]
  },
  {
   "cell_type": "markdown",
   "id": "f5f5cd1e",
   "metadata": {},
   "source": [
    "Use the system to generate feature vectors from set I. This is called set H"
   ]
  },
  {
   "cell_type": "code",
   "execution_count": null,
   "id": "edd0bdf3",
   "metadata": {},
   "outputs": [],
   "source": [
    "H = em.extract_feature_vecs(I, \n",
    "                            feature_table=Ft, \n",
    "                            attrs_after='label',\n",
    "                            show_progress=False)"
   ]
  },
  {
   "cell_type": "markdown",
   "id": "f3480d30",
   "metadata": {},
   "source": [
    "Perform matches and display results below (after performing cross-validation)"
   ]
  },
  {
   "cell_type": "code",
   "execution_count": null,
   "id": "64c666a1",
   "metadata": {},
   "outputs": [],
   "source": [
    "H = em.impute_table(H, \n",
    "                exclude_attrs=['_id', 'ltable_Id', 'rtable_Id', 'label'],\n",
    "                strategy='mean')"
   ]
  },
  {
   "cell_type": "code",
   "execution_count": null,
   "id": "c8614020",
   "metadata": {},
   "outputs": [],
   "source": [
    "result = em.select_matcher([dt, rf, svm, ln, lg,nb], table=H, \n",
    "        exclude_attrs=['_id', 'ltable_Id', 'rtable_Id', 'label'],\n",
    "        k=5,\n",
    "        target_attr='label', metric_to_select_matcher='f1', random_state=0)\n",
    "result['cv_stats']"
   ]
  },
  {
   "cell_type": "markdown",
   "id": "97dbef1e",
   "metadata": {},
   "source": [
    "Picking Random Forest as it has the highest average F1 score. We are not adding any rule based matchers as the precision,recall and F1 scores are already above the required thresholds."
   ]
  }
 ],
 "metadata": {},
 "nbformat": 4,
 "nbformat_minor": 5
}
