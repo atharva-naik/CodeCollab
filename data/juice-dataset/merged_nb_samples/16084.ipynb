{
 "cells": [
  {
   "cell_type": "code",
   "execution_count": null,
   "id": "7b5335ad",
   "metadata": {},
   "outputs": [],
   "source": [
    "df_complaints.shape"
   ]
  },
  {
   "cell_type": "code",
   "execution_count": null,
   "id": "16180283",
   "metadata": {},
   "outputs": [],
   "source": [
    "df_complaints.head(2)"
   ]
  },
  {
   "cell_type": "code",
   "execution_count": null,
   "id": "ff92f634",
   "metadata": {},
   "outputs": [],
   "source": [
    "df_complaints.columns"
   ]
  },
  {
   "cell_type": "markdown",
   "id": "8b68b949",
   "metadata": {},
   "source": [
    "##### New York City Census Data"
   ]
  },
  {
   "cell_type": "code",
   "execution_count": null,
   "id": "9271d6dd",
   "metadata": {},
   "outputs": [],
   "source": [
    "df_pop.shape"
   ]
  },
  {
   "cell_type": "code",
   "execution_count": null,
   "id": "d576cb5d",
   "metadata": {},
   "outputs": [],
   "source": [
    "df_pop.head(2)"
   ]
  },
  {
   "cell_type": "code",
   "execution_count": null,
   "id": "9217dcb3",
   "metadata": {},
   "outputs": [],
   "source": [
    "df_pop.columns"
   ]
  },
  {
   "cell_type": "markdown",
   "id": "add8bcb6",
   "metadata": {},
   "source": [
    "##### New York City Infrastructure Data"
   ]
  },
  {
   "cell_type": "code",
   "execution_count": null,
   "id": "69fae48b",
   "metadata": {},
   "outputs": [],
   "source": [
    "df_infr.shape"
   ]
  },
  {
   "cell_type": "code",
   "execution_count": null,
   "id": "f4ff13b2",
   "metadata": {},
   "outputs": [],
   "source": [
    "df_infr.head(2)"
   ]
  },
  {
   "cell_type": "code",
   "execution_count": null,
   "id": "1a66cc34",
   "metadata": {},
   "outputs": [],
   "source": [
    "df_infr.columns"
   ]
  },
  {
   "cell_type": "markdown",
   "id": "40a1b316",
   "metadata": {},
   "source": [
    "##### New York City Community Districts Shapefile"
   ]
  },
  {
   "cell_type": "markdown",
   "id": "4e7446af",
   "metadata": {},
   "source": [
    "Finally we count the number of complaints by community district and remove any unwanted columns in our dataset."
   ]
  },
  {
   "cell_type": "code",
   "execution_count": null,
   "id": "535f93a5",
   "metadata": {},
   "outputs": [],
   "source": [
    "df_complaints = df_complaints.groupby(\"Community Board\").count()"
   ]
  },
  {
   "cell_type": "code",
   "execution_count": null,
   "id": "4b9fd7d8",
   "metadata": {},
   "outputs": [],
   "source": [
    "df_complaints.reset_index(inplace = True)\n",
    "df_complaints = df_complaints.iloc[:,:2]\n",
    "df_complaints.rename(columns = {\"Unique Key\": \"Number of Complaints\"}, inplace = True)"
   ]
  },
  {
   "cell_type": "markdown",
   "id": "8bf4cc88",
   "metadata": {},
   "source": [
    "We devise a function that converts the current community district to the more accepted format of 'BK01'."
   ]
  },
  {
   "cell_type": "code",
   "execution_count": null,
   "id": "2bc40fc3",
   "metadata": {},
   "outputs": [],
   "source": [
    "def convertCD(x):\n",
    "    \"\"\"\n",
    "    Convert community district codes to appropriate format.\n",
    "    \"\"\"\n",
    "    borough_codes = {\"BRONX\": \"BX\", \"MANHATTAN\": \"MN\", \"BROOKLYN\": \"BK\", \"STATENISLAND\": \"SI\", \"QUEENS\": \"QN\"}\n",
    "    borough = re.sub(\"\\d| \", \"\", x)  \n",
    "    cd = borough_codes[borough] + x[:2]\n",
    "    return cd"
   ]
  },
  {
   "cell_type": "code",
   "execution_count": null,
   "id": "aa80a35b",
   "metadata": {},
   "outputs": [],
   "source": [
    "df_complaints[\"Community Board\"] = np.vectorize(convertCD)(df_complaints[\"Community Board\"])"
   ]
  },
  {
   "cell_type": "markdown",
   "id": "3b19695c",
   "metadata": {},
   "source": [
    "We begin our data munging by checking the community district columns of this data set. Everything seems to be correct except for the `MN1111` row, which ought to be just `MN11`."
   ]
  },
  {
   "cell_type": "code",
   "execution_count": null,
   "id": "68c3f67d",
   "metadata": {},
   "outputs": [],
   "source": [
    "# df_pop[\"cd_id\"]"
   ]
  },
  {
   "cell_type": "code",
   "execution_count": null,
   "id": "4523ce84",
   "metadata": {},
   "outputs": [],
   "source": [
    "df_pop.ix[15, \"cd_id\"] = 'MN11'"
   ]
  },
  {
   "cell_type": "markdown",
   "id": "23fb816f",
   "metadata": {},
   "source": [
    "Since we are only interested in `Population Density (per sq. mile)`, we drop the rest of the columns. "
   ]
  },
  {
   "cell_type": "code",
   "execution_count": null,
   "id": "63d8a4aa",
   "metadata": {},
   "outputs": [],
   "source": [
    "df_pop = df_pop[[\"cd_id\", \"Population Density (per sq. mile)\"]]"
   ]
  },
  {
   "cell_type": "markdown",
   "id": "bdc40292",
   "metadata": {},
   "source": [
    "The infrastructure data is a bit different since it has less than 59 community districts. Upon closer inspection, we notice that several districts are combined together. The long string values of its community district column requires that we use regular expressions."
   ]
  },
  {
   "cell_type": "code",
   "execution_count": null,
   "id": "5fda317d",
   "metadata": {},
   "outputs": [],
   "source": [
    "df_infr[\"Qualifying Name\"].head()"
   ]
  },
  {
   "cell_type": "code",
   "execution_count": null,
   "id": "910e5ed2",
   "metadata": {},
   "outputs": [],
   "source": [
    "len(df_infr[\"Qualifying Name\"].unique())"
   ]
  },
  {
   "cell_type": "markdown",
   "id": "f86bdff9",
   "metadata": {},
   "source": [
    "We devise the following function to first convert the long string format into our accepted standard. Then we separate the aggregated community districts."
   ]
  },
  {
   "cell_type": "code",
   "execution_count": null,
   "id": "e4428ce7",
   "metadata": {},
   "outputs": [],
   "source": [
    "def extractCD(x):\n",
    "    \"\"\"\n",
    "    Extracts community district from `Qualifying Name`.\n",
    "    \"\"\"\n",
    "    pattern = \"--|-\"\n",
    "    extract = re.sub(pattern, \" \", x).upper().split()\n",
    "    \n",
    "    if len(extract[4]) == 1:\n",
    "        cd = \" \".join([\"0\"+extract[4], extract[1]])\n",
    "    elif extract[3] == \"COMMUNITY\":\n",
    "        if len(extract[5]) == 1:\n",
    "            cd = \" \".join([\"0\"+extract[5], extract[1], extract[2]])\n",
    "        else:\n",
    "            cd = \" \".join([extract[5], extract[1], extract[2]])\n",
    "    else:\n",
    "        cd = \" \".join([extract[4], extract[1]])\n",
    "    \n",
    "    if extract[5] == \"&\":\n",
    "        cd1 = \" \".join([\"0\"+extract[4], extract[1]])\n",
    "        cd2 = \" \".join([\"0\"+extract[6], extract[1]])\n",
    "        return(convertCD(cd1) + convertCD(cd2))\n",
    "    else:\n",
    "        return convertCD(cd)\n",
    "extractCD = np.vectorize(extractCD)"
   ]
  },
  {
   "cell_type": "code",
   "execution_count": null,
   "id": "92fad918",
   "metadata": {},
   "outputs": [],
   "source": [
    "df_infr[\"cd_id\"] = extractCD(df_infr[\"Qualifying Name\"])"
   ]
  },
  {
   "cell_type": "code",
   "execution_count": null,
   "id": "8a931d81",
   "metadata": {},
   "outputs": [],
   "source": [
    "tmp = np.where(df_infr[\"cd_id\"].duplicated())[0].tolist()\n",
    "indx = tmp.copy()\n",
    "for i in range(len(indx)):\n",
    "    indx.append(indx[i]-1)"
   ]
  },
  {
   "cell_type": "code",
   "execution_count": null,
   "id": "301691fe",
   "metadata": {},
   "outputs": [],
   "source": [
    "for i in indx:\n",
    "    if i%2 == 0:\n",
    "        df_infr.ix[i,\"cd_id\"] = df_infr[\"cd_id\"][i][:4]\n",
    "    else:\n",
    "        df_infr.ix[i,\"cd_id\"] = df_infr[\"cd_id\"][i][4:]"
   ]
  },
  {
   "cell_type": "markdown",
   "id": "e13723b0",
   "metadata": {},
   "source": [
    "Finally, we are interested in the number of mobile subscribers per district. This can be found by summing up all the different types of household connections. We will also create a separate dataframe that aggregates internet type by high and low connections."
   ]
  },
  {
   "cell_type": "markdown",
   "id": "5d469053",
   "metadata": {},
   "source": [
    "---"
   ]
  },
  {
   "cell_type": "markdown",
   "id": "06b4cbfb",
   "metadata": {},
   "source": [
    "### Research Question"
   ]
  },
  {
   "cell_type": "markdown",
   "id": "ee83fb74",
   "metadata": {},
   "source": [
    "##### Which Community Districts in NYC show the highest number of complaints and how do factors such as population density per square mile and mobile subscription come into play? "
   ]
  },
  {
   "cell_type": "markdown",
   "id": "7ef7df1c",
   "metadata": {},
   "source": [
    "### Read Data"
   ]
  },
  {
   "cell_type": "markdown",
   "id": "41d824c5",
   "metadata": {},
   "source": [
    "In this analysis, we will make use of the following three datasets: [311 Service Requests from 2010 to Present](https://datahub.cusp.nyu.edu/dataset/erm2-nwe9), New York City Census Data, New York City Infrastructure Data, and finally New York City Community Districts shapefile."
   ]
  },
  {
   "cell_type": "code",
   "execution_count": null,
   "id": "c06158bb",
   "metadata": {},
   "outputs": [],
   "source": [
    "df_complaints = pd.read_csv(\"https://data.cityofnewyork.us/resource/erm2-nwe9.csv\")"
   ]
  },
  {
   "cell_type": "code",
   "execution_count": null,
   "id": "46347c1a",
   "metadata": {},
   "outputs": [],
   "source": [
    "df_pop = pd.read_csv(\"http://cosmo.nyu.edu/~fb55/PUI2016/data/Final_Demographics.csv\")"
   ]
  },
  {
   "cell_type": "code",
   "execution_count": null,
   "id": "93b288d6",
   "metadata": {},
   "outputs": [],
   "source": [
    "df_infr = pd.read_csv(\"http://cosmo.nyu.edu/~fb55/PUI2016/data/ACS_Computer_Use_and_Internet_2014_1Year_Estimate.csv\")"
   ]
  },
  {
   "cell_type": "code",
   "execution_count": null,
   "id": "11b2791a",
   "metadata": {},
   "outputs": [],
   "source": [
    "df_shp = gpd.GeoDataFrame.from_file(\"Community Districts/geo_export_dadb2ff5-7f11-4358-abbe-c37fb52b840b.shp\")"
   ]
  },
  {
   "cell_type": "markdown",
   "id": "fbfc6395",
   "metadata": {},
   "source": [
    "Let's take a look at each of the datasets."
   ]
  },
  {
   "cell_type": "markdown",
   "id": "ff6b6ca6",
   "metadata": {},
   "source": [
    "##### 311 Service Requests from 2010 to Present"
   ]
  },
  {
   "cell_type": "code",
   "execution_count": null,
   "id": "9eb26184",
   "metadata": {},
   "outputs": [],
   "source": [
    "SI = ['0' + str(i) + ' STATEN ISLAND' if len(str(i)) == 1 else str(i) + ' STATEN ISLAND' for i in range(1,4)]\n",
    "BK = ['0' + str(i) + ' BROOKLYN' if len(str(i)) == 1 else str(i) + ' BROOKLYN' for i in range(1,19)]\n",
    "MN = ['0' + str(i) + ' MANHATTAN' if len(str(i)) == 1 else str(i) + ' MANHATTAN' for i in range(1,13)]\n",
    "BX = ['0' + str(i) + ' BRONX' if len(str(i)) == 1 else str(i) + ' BRONX' for i in range(1,13)]\n",
    "QN = ['0' + str(i) + ' QUEENS' if len(str(i)) == 1 else str(i) + ' QUEENS' for i in range(1,15)]"
   ]
  },
  {
   "cell_type": "code",
   "execution_count": null,
   "id": "725a1332",
   "metadata": {},
   "outputs": [],
   "source": [
    "plausible = SI + MN + BK + BX + QN"
   ]
  },
  {
   "cell_type": "code",
   "execution_count": null,
   "id": "ff35cf82",
   "metadata": {},
   "outputs": [],
   "source": [
    "indx = [i if df_complaints.ix[i, \"Community Board\"] in plausible else None for i in range(len(df_complaints))]\n",
    "indx = list(filter(None, indx))"
   ]
  },
  {
   "cell_type": "code",
   "execution_count": null,
   "id": "61a35bb1",
   "metadata": {},
   "outputs": [],
   "source": [
    "df_complaints = df_complaints.iloc[indx, :]"
   ]
  },
  {
   "cell_type": "markdown",
   "id": "7ea63094",
   "metadata": {},
   "source": [
    "We are also interested in checking whether if there are any missing values in the dataset."
   ]
  },
  {
   "cell_type": "code",
   "execution_count": null,
   "id": "83a28765",
   "metadata": {},
   "outputs": [],
   "source": [
    "df_complaints[\"Resolution Description\"].isnull().sum()"
   ]
  },
  {
   "cell_type": "markdown",
   "id": "4fd01e8f",
   "metadata": {},
   "source": [
    "There are 110 rows with missing `Resolution Description`s. Let's see if we can fill in these missing descriptions with other rows with the same `Complaint Type`. Only a few of the missing values can be filled."
   ]
  },
  {
   "cell_type": "code",
   "execution_count": null,
   "id": "6e6678ca",
   "metadata": {},
   "outputs": [],
   "source": [
    "ct = df_complaints[df_complaints[\"Resolution Description\"].isnull()][\"Complaint Type\"].unique()\n",
    "for i in range(len(ct)):\n",
    "    print(ct[i], df_complaints[df_complaints[\"Complaint Type\"] == ct[i]][\"Resolution Description\"].unique())"
   ]
  },
  {
   "cell_type": "code",
   "execution_count": null,
   "id": "28077709",
   "metadata": {},
   "outputs": [],
   "source": [
    "internet = df_infr[['Households: Dial-Up Alone', \n",
    "                    'Households: Dsl', \n",
    "                    'Households: Cable Modem',\n",
    "                    'Households: Fiber-Optic', 'Households: Satellite Internet Service', \n",
    "                    'Households: Two or More Fixed Broadband Types, or Other', \n",
    "                    'Households: Mobile Broadband Alone or With Dialup']].sum(axis=0)\n",
    "internet"
   ]
  },
  {
   "cell_type": "code",
   "execution_count": null,
   "id": "3e1d57c1",
   "metadata": {},
   "outputs": [],
   "source": [
    "df_infr['Mobile Subscription'] = df_infr[['Households: With Mobile Broadband',\n",
    "                                          'Households: With Mobile Broadband.1',\n",
    "                                          'Households: With Mobile Broadband.2', \n",
    "                                          'Households: With Mobile Broadband.3',\n",
    "                                          'Households: With Mobile Broadband.4', \n",
    "                                          'Households: Mobile Broadband Alone or With Dialup']].sum(axis=1)"
   ]
  },
  {
   "cell_type": "code",
   "execution_count": null,
   "id": "6eff195d",
   "metadata": {},
   "outputs": [],
   "source": [
    "df_infr = df_infr[[\"cd_id\", \"Mobile Subscription\"]]"
   ]
  },
  {
   "cell_type": "markdown",
   "id": "8acc64fd",
   "metadata": {},
   "source": [
    "The New York City Community Districts Shapefile is a GeoPandas dataframe. It has 71 community districts coded in community district numbers. For example, community district number 301 stands for `'BK01'`. We first get rid of the extra community districts, then standardize the community district codes."
   ]
  },
  {
   "cell_type": "markdown",
   "id": "eeb6fba5",
   "metadata": {},
   "source": [
    "We begin by checking if all boroughs and community districts are represented in the data."
   ]
  },
  {
   "cell_type": "code",
   "execution_count": null,
   "id": "b02f4ac8",
   "metadata": {},
   "outputs": [],
   "source": [
    "df_complaints[\"Borough\"].unique()"
   ]
  },
  {
   "cell_type": "code",
   "execution_count": null,
   "id": "a1451fa5",
   "metadata": {},
   "outputs": [],
   "source": [
    "print(sorted(list(df_complaints[\"Community Board\"].unique())))"
   ]
  },
  {
   "cell_type": "code",
   "execution_count": null,
   "id": "0c6a5074",
   "metadata": {},
   "outputs": [],
   "source": [
    "len(df_complaints[\"Community Board\"].unique())"
   ]
  },
  {
   "cell_type": "markdown",
   "id": "0a236a80",
   "metadata": {},
   "source": [
    "The extra community districts represent data that either have unspecified borough or unspecified community districts. There are also community districts that doesn't make any sense at all. We create a list of plausible community district values to remove the unlabeled data."
   ]
  },
  {
   "cell_type": "markdown",
   "id": "cdd52de4",
   "metadata": {},
   "source": [
    "<img src=\"Images/311.png\">"
   ]
  },
  {
   "cell_type": "markdown",
   "id": "2ced65f1",
   "metadata": {},
   "source": [
    "### Import Packages"
   ]
  },
  {
   "cell_type": "code",
   "execution_count": null,
   "id": "008d1a53",
   "metadata": {},
   "outputs": [],
   "source": [
    "import os\n",
    "import re\n",
    "import numpy as np\n",
    "import pandas as pd\n",
    "import seaborn as sns\n",
    "import geopandas as gpd\n",
    "import matplotlib.pylab as plt\n",
    "%matplotlib inline"
   ]
  },
  {
   "cell_type": "code",
   "execution_count": null,
   "id": "5d799cb1",
   "metadata": {},
   "outputs": [],
   "source": [
    "%load_ext watermark"
   ]
  },
  {
   "cell_type": "code",
   "execution_count": null,
   "id": "ce0e0872",
   "metadata": {},
   "outputs": [],
   "source": [
    "%watermark -a 'Kevin Han' -u -d -v -p numpy,pandas,geopandas,matplotlib"
   ]
  },
  {
   "cell_type": "code",
   "execution_count": null,
   "id": "cdd729ef",
   "metadata": {},
   "outputs": [],
   "source": [
    "df_shp.shape"
   ]
  },
  {
   "cell_type": "code",
   "execution_count": null,
   "id": "0d178df8",
   "metadata": {},
   "outputs": [],
   "source": [
    "df_shp.head(2)"
   ]
  },
  {
   "cell_type": "code",
   "execution_count": null,
   "id": "66374fd3",
   "metadata": {},
   "outputs": [],
   "source": [
    "df_shp.columns"
   ]
  },
  {
   "cell_type": "markdown",
   "id": "65e530ff",
   "metadata": {},
   "source": [
    "### Data Wrangling"
   ]
  },
  {
   "cell_type": "markdown",
   "id": "8266fa5e",
   "metadata": {},
   "source": [
    "Each of these datasets have a common column, the community district identifier that can be used to join these datasets together. However, New York City only have 59 community districts, yet both the 311 Service Requests from 2010 to Present data and the New York City Community District Shapefile have more than that."
   ]
  },
  {
   "cell_type": "markdown",
   "id": "edfca018",
   "metadata": {},
   "source": [
    "<img src=\"Images/community_districts.png\">"
   ]
  },
  {
   "cell_type": "markdown",
   "id": "e4b984f2",
   "metadata": {},
   "source": [
    "Therefore we need to clean our data to achieve the following end results:\n",
    "- Each dataset should have the same `Community District` column\n",
    "- Extract `Population Density per Square Mile` from `df_pop`\n",
    "- Extract `Mobile Subscription` from `df_infr`\n",
    "- Extract `Number of Complaints` from `df_complaints`"
   ]
  },
  {
   "cell_type": "code",
   "execution_count": null,
   "id": "82414c7b",
   "metadata": {},
   "outputs": [],
   "source": [
    "df_shp[\"boro_cd\"].head(2)"
   ]
  },
  {
   "cell_type": "code",
   "execution_count": null,
   "id": "e1d797ff",
   "metadata": {},
   "outputs": [],
   "source": [
    "len(df_shp[\"boro_cd\"].unique())"
   ]
  },
  {
   "cell_type": "code",
   "execution_count": null,
   "id": "37af1662",
   "metadata": {},
   "outputs": [],
   "source": [
    "def cleanBoroCD(x):\n",
    "    if (x - np.around(x, decimals = -2)) > 20:\n",
    "        return 0\n",
    "    elif (x - np.around(x, decimals = -2)) < 0:\n",
    "        return 0\n",
    "    else:\n",
    "        return x\n",
    "cleanBoroCD = np.vectorize(cleanBoroCD)"
   ]
  },
  {
   "cell_type": "code",
   "execution_count": null,
   "id": "3e8a796b",
   "metadata": {},
   "outputs": [],
   "source": [
    "df_shp[\"boro_cd\"] = cleanBoroCD(df_shp[\"boro_cd\"])\n",
    "df_shp = df_shp[df_shp[\"boro_cd\"] > 0]"
   ]
  },
  {
   "cell_type": "markdown",
   "id": "47254590",
   "metadata": {},
   "source": [
    "We devise the following function to standardize the community district codes. The following convention is used:\n",
    "- 1-Manhattan\n",
    "- 2-Bronx\n",
    "- 3-Brooklyn\n",
    "- 4-Queens\n",
    "- 5-Staten Island"
   ]
  },
  {
   "cell_type": "code",
   "execution_count": null,
   "id": "0ee85ecd",
   "metadata": {},
   "outputs": [],
   "source": [
    "def convertBoroCD(x):\n",
    "    \"\"\"\n",
    "    Convert community district numbers to the following format 'BK01'.\n",
    "    \"\"\"\n",
    "    num2cd= {100: \"MN\", 200: \"BX\", 300: \"BK\", 400: \"QN\", 500: \"SI\"}\n",
    "    num = np.around(x, decimals = -2)\n",
    "    cd_code = str(int(x - num))\n",
    "    if len(cd_code) == 1:\n",
    "        cd = num2cd[num] + \"0\" + cd_code\n",
    "    else:\n",
    "        cd = num2cd[num] + cd_code\n",
    "    return cd\n",
    "convertBoroCD = np.vectorize(convertBoroCD)"
   ]
  },
  {
   "cell_type": "code",
   "execution_count": null,
   "id": "0734a904",
   "metadata": {},
   "outputs": [],
   "source": [
    "df_shp[\"boro_cd\"] = convertBoroCD(df_shp[\"boro_cd\"])"
   ]
  },
  {
   "cell_type": "markdown",
   "id": "8bd7009d",
   "metadata": {},
   "source": [
    "### Final Data"
   ]
  },
  {
   "cell_type": "markdown",
   "id": "52b3e2a5",
   "metadata": {},
   "source": [
    "We combine all datasets except for the shapefile dataset into one single dataframe for our analysis. Using `pd.merge`, we join these datasets by their community district column. Note that we don't yet merge the shapefiles because we want to make a plot of ordered data first."
   ]
  },
  {
   "cell_type": "code",
   "execution_count": null,
   "id": "73a10958",
   "metadata": {},
   "outputs": [],
   "source": [
    "tmp = pd.merge(df_complaints, df_pop, left_on=\"Community Board\", right_on=\"cd_id\")\n",
    "final_data = pd.merge(tmp, df_infr, on=\"cd_id\")"
   ]
  },
  {
   "cell_type": "code",
   "execution_count": null,
   "id": "821aa19e",
   "metadata": {},
   "outputs": [],
   "source": [
    "indx = final_data[\"Number of Complaints\"].copy().sort_values(ascending=False).index\n",
    "for i in range(1,len(final_data)):\n",
    "    final_data.ix[indx[i], \"Rank\"] = i\n",
    "final_data.sort_values(by = \"Rank\", inplace = True)"
   ]
  },
  {
   "cell_type": "code",
   "execution_count": null,
   "id": "420ffe77",
   "metadata": {},
   "outputs": [],
   "source": [
    "final_data.shape"
   ]
  },
  {
   "cell_type": "code",
   "execution_count": null,
   "id": "d97dbf58",
   "metadata": {},
   "outputs": [],
   "source": [
    "final_data.head(2)"
   ]
  },
  {
   "cell_type": "markdown",
   "id": "bc81f123",
   "metadata": {},
   "source": [
    "### Data Visualization"
   ]
  },
  {
   "cell_type": "code",
   "execution_count": null,
   "id": "ec5d41ae",
   "metadata": {},
   "outputs": [],
   "source": [
    "plt.style.use('fivethirtyeight')\n",
    "fig = plt.figure(figsize=(8,6))\n",
    "plt.plot(final_data[\"Rank\"], final_data[\"Mobile Subscription\"], lw=2.5)\n",
    "plt.plot(final_data[\"Rank\"], final_data[\"Population Density (per sq. mile)\"], lw=2.5)\n",
    "plt.title(\"Population Density (per sq. mile) and Mobile Subscription vs. Rank\", fontsize=12)\n",
    "plt.xlabel(\"Rank\", fontsize=10); plt.ylabel(\"Population\", fontsize=10);\n",
    "plt.xticks(fontsize=8); plt.yticks(fontsize=8)\n",
    "plt.legend(prop={'size':10})\n",
    "plt.show()"
   ]
  },
  {
   "cell_type": "markdown",
   "id": "88fffc74",
   "metadata": {},
   "source": [
    "<center>*Figure 1: Suprisingly, Community Districts with high population density are not necessarily those with high number of complaints. An interesting point to notice about this graph is the relatively higher number of complaints for districts with higher number of mobile subscriptions than those with lower number of mobile subscriptions.*</center>"
   ]
  },
  {
   "cell_type": "markdown",
   "id": "9fb1a6c5",
   "metadata": {},
   "source": [
    "We combine the **unordered** shapefile data to our final dataset to make maps. This is required in order for the map to be correctly rendered."
   ]
  },
  {
   "cell_type": "code",
   "execution_count": null,
   "id": "949d61d8",
   "metadata": {},
   "outputs": [],
   "source": [
    "final_data = pd.merge(df_shp, final_data, left_on = \"boro_cd\", right_on = \"Community Board\")\n",
    "final_data.drop([\"Community Board\", \"cd_id\"], axis=1, inplace=True)"
   ]
  },
  {
   "cell_type": "code",
   "execution_count": null,
   "id": "6a1cf610",
   "metadata": {},
   "outputs": [],
   "source": [
    "plt.style.use('classic')\n",
    "plt.style.use('seaborn-white')\n",
    "final_data.plot(\"Number of Complaints\", cmap=\"Reds\", scheme=\"quantiles\", legend=True)\n",
    "plt.title(\"Number of Complaints by NYC Community Districts\")\n",
    "plt.xlabel(\"Longitude\"); plt.ylabel(\"Latitude\")\n",
    "plt.show()"
   ]
  },
  {
   "cell_type": "markdown",
   "id": "9f97515b",
   "metadata": {},
   "source": [
    "<center>*Figure 2: The upper parts of Manhattan and lower parts of Brooklyn seem to have the highest number of complaints.*</center>"
   ]
  },
  {
   "cell_type": "code",
   "execution_count": null,
   "id": "ffb1cb69",
   "metadata": {},
   "outputs": [],
   "source": [
    "final_data.plot(\"Mobile Subscription\", cmap=\"Blues\", scheme=\"quantiles\", legend=True)\n",
    "plt.title(\"Mobile Subscription by NYC Community Districts\")\n",
    "plt.xlabel(\"Longitude\"); plt.ylabel(\"Latitude\")\n",
    "plt.show()"
   ]
  },
  {
   "cell_type": "markdown",
   "id": "59b376c6",
   "metadata": {},
   "source": [
    "<center>*Figure 3: Interestingly enough, the districts with the highest number of complaints are also those with the highest number of mobile subscriptions.*</center>"
   ]
  }
 ],
 "metadata": {},
 "nbformat": 4,
 "nbformat_minor": 5
}
