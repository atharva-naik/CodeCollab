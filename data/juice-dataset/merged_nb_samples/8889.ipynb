{
 "cells": [
  {
   "cell_type": "code",
   "execution_count": null,
   "id": "725dc09e",
   "metadata": {},
   "outputs": [],
   "source": [
    "%matplotlib inline\n",
    "\n",
    "import pandas as pd\n",
    "import numpy as np\n",
    "import matplotlib.pyplot as plt"
   ]
  },
  {
   "cell_type": "markdown",
   "id": "cf0cd8bc",
   "metadata": {},
   "source": [
    "**Some super basic stuff:**"
   ]
  },
  {
   "cell_type": "code",
   "execution_count": null,
   "id": "cf384795",
   "metadata": {},
   "outputs": [],
   "source": [
    "x = np.linspace(0,10,1000)\n",
    "y = np.cos(x)\n",
    "\n",
    "plt.plot(x,y)\n",
    "plt.show()"
   ]
  },
  {
   "cell_type": "markdown",
   "id": "10e24a00",
   "metadata": {},
   "source": [
    "**A little more jazz:**"
   ]
  },
  {
   "cell_type": "code",
   "execution_count": null,
   "id": "86185745",
   "metadata": {},
   "outputs": [],
   "source": [
    "fig = plt.figure(1)\n",
    "ax = fig.add_subplot(111)\n",
    "\n",
    "ax.set_ylabel('cos(x)')\n",
    "ax.set_xlabel('x')\n",
    "ax.set_title('Super sweet plot')\n",
    "\n",
    "plt.plot(x,y)\n",
    "plt.show()"
   ]
  },
  {
   "cell_type": "markdown",
   "id": "a8c6d64b",
   "metadata": {},
   "source": [
    "**Using grids:**"
   ]
  },
  {
   "cell_type": "code",
   "execution_count": null,
   "id": "b257514e",
   "metadata": {},
   "outputs": [],
   "source": [
    "fig = plt.figure(2)\n",
    "ax = fig.add_subplot(211)\n",
    "ax2 = fig.add_subplot(212)\n",
    "\n",
    "ax.plot(x,y)\n",
    "\n",
    "y2 = np.sin(x)\n",
    "ax2.plot(y2)\n",
    "\n",
    "plt.show()"
   ]
  },
  {
   "cell_type": "markdown",
   "id": "78acbd73",
   "metadata": {},
   "source": [
    "**A better back end in notebooks:**"
   ]
  },
  {
   "cell_type": "code",
   "execution_count": null,
   "id": "78b8ce56",
   "metadata": {},
   "outputs": [],
   "source": [
    "%matplotlib nbagg"
   ]
  },
  {
   "cell_type": "code",
   "execution_count": null,
   "id": "3b99586f",
   "metadata": {},
   "outputs": [],
   "source": [
    "fig = plt.figure(3)\n",
    "ax = fig.add_subplot(211)\n",
    "ax2 = fig.add_subplot(212)\n",
    "\n",
    "ax.plot(x,y)\n",
    "\n",
    "y2 = np.sin(x)\n",
    "ax2.plot(y2)\n",
    "\n",
    "plt.tight_layout(pad=1)\n",
    "\n",
    "plt.show()"
   ]
  },
  {
   "cell_type": "markdown",
   "id": "5af8e245",
   "metadata": {},
   "source": [
    "**Something occasionally useful and not really documented:**\n"
   ]
  },
  {
   "cell_type": "markdown",
   "id": "227a18ff",
   "metadata": {},
   "source": [
    "**Adding some style to proceedings:**"
   ]
  },
  {
   "cell_type": "code",
   "execution_count": null,
   "id": "06822a0d",
   "metadata": {},
   "outputs": [],
   "source": [
    "print plt.style.available"
   ]
  },
  {
   "cell_type": "code",
   "execution_count": null,
   "id": "0aab58c1",
   "metadata": {},
   "outputs": [],
   "source": [
    "plt.style.use('ggplot')"
   ]
  },
  {
   "cell_type": "code",
   "execution_count": null,
   "id": "38588b9f",
   "metadata": {},
   "outputs": [],
   "source": [
    "plt.plot(x,y)\n",
    "plt.show()"
   ]
  },
  {
   "cell_type": "markdown",
   "id": "f6750e12",
   "metadata": {},
   "source": [
    "**Having some 'fun':**"
   ]
  },
  {
   "cell_type": "code",
   "execution_count": null,
   "id": "97077aa6",
   "metadata": {},
   "outputs": [],
   "source": [
    "with plt.xkcd():\n",
    "    plt.plot(x,y)\n",
    "    plt.show()\n",
    "# Need to include Humor Sans font for this to look real slick"
   ]
  },
  {
   "cell_type": "markdown",
   "id": "0e2cc4de",
   "metadata": {},
   "source": [
    "**A project worth watching:**"
   ]
  },
  {
   "cell_type": "code",
   "execution_count": null,
   "id": "0d95ca19",
   "metadata": {},
   "outputs": [],
   "source": [
    "import mpld3"
   ]
  },
  {
   "cell_type": "code",
   "execution_count": null,
   "id": "0a191d9f",
   "metadata": {},
   "outputs": [],
   "source": [
    "mpld3.enable_notebook()"
   ]
  },
  {
   "cell_type": "code",
   "execution_count": null,
   "id": "cc64d58a",
   "metadata": {},
   "outputs": [],
   "source": [
    "mpld3.disable_notebook()"
   ]
  },
  {
   "cell_type": "markdown",
   "id": "001c470a",
   "metadata": {},
   "source": [
    "**Pandas <--> Matplotlib**"
   ]
  },
  {
   "cell_type": "code",
   "execution_count": null,
   "id": "b72c6b9c",
   "metadata": {},
   "outputs": [],
   "source": [
    "a = np.random.normal(0,1,100)\n",
    "b = np.random.normal(0,1,100)\n",
    "c = np.random.normal(0,1,100)"
   ]
  },
  {
   "cell_type": "code",
   "execution_count": null,
   "id": "5792dacf",
   "metadata": {},
   "outputs": [],
   "source": [
    "df = pd.DataFrame({'a': a,\n",
    "                   'b': b,\n",
    "                   'c': c})"
   ]
  },
  {
   "cell_type": "code",
   "execution_count": null,
   "id": "03a8ce78",
   "metadata": {},
   "outputs": [],
   "source": [
    "df.head()"
   ]
  },
  {
   "cell_type": "markdown",
   "id": "d56e3e38",
   "metadata": {},
   "source": [
    "**Plot stuff directly:**"
   ]
  },
  {
   "cell_type": "code",
   "execution_count": null,
   "id": "5f7d9faf",
   "metadata": {},
   "outputs": [],
   "source": [
    "plot = df.plot('a','b', kind = 'scatter')"
   ]
  },
  {
   "cell_type": "markdown",
   "id": "02cbd355",
   "metadata": {},
   "source": [
    "**If you want to edit stuff, create figure/axes object first:**"
   ]
  },
  {
   "cell_type": "code",
   "execution_count": null,
   "id": "ade4c5cc",
   "metadata": {},
   "outputs": [],
   "source": [
    "fig, ax = plt.subplots()\n",
    "\n",
    "plot = df.plot('a','b', kind = 'scatter', ax = ax)\n",
    "\n",
    "title = ax.set_title('Britannia Rulez')\n",
    "ylabel = ax.set_ylabel('$10^{10^{10^{10^{10^{10^{10}}}}}}$')\n",
    "xlabel = ax.set_xlabel('this bit normal    $abcd...xyz$')"
   ]
  },
  {
   "cell_type": "markdown",
   "id": "36b42910",
   "metadata": {},
   "source": [
    "**And a lil' sumpin' sumpin' for EDA:**"
   ]
  },
  {
   "cell_type": "code",
   "execution_count": null,
   "id": "92d30e0f",
   "metadata": {},
   "outputs": [],
   "source": [
    "if plt.fignum_exists(3):\n",
    "    plt.close(3)"
   ]
  },
  {
   "cell_type": "markdown",
   "id": "f00db49d",
   "metadata": {},
   "source": [
    "**Two y axes:**"
   ]
  },
  {
   "cell_type": "code",
   "execution_count": null,
   "id": "ffd1cc4e",
   "metadata": {},
   "outputs": [],
   "source": [
    "%matplotlib inline"
   ]
  },
  {
   "cell_type": "code",
   "execution_count": null,
   "id": "b174bcbf",
   "metadata": {},
   "outputs": [],
   "source": [
    "fig = plt.figure(4)\n",
    "ax = fig.add_subplot(111)\n",
    "ax2 = ax.twinx()\n",
    "\n",
    "ax.plot(x,y)\n",
    "ax2.plot(x,x, color = 'r')\n",
    "\n",
    "plt.show()"
   ]
  }
 ],
 "metadata": {},
 "nbformat": 4,
 "nbformat_minor": 5
}
