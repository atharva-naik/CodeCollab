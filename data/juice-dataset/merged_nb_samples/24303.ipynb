{
 "cells": [
  {
   "cell_type": "markdown",
   "id": "cc10f83d",
   "metadata": {},
   "source": [
    "## Binary Search Trees\n",
    "#### Written by David Terpay\n",
    "This notebook will demonstrate some of the functionality of the binary search tree class I built. You can check it out in the binaryTree.py file as well as the attached classes found in the Linked_List, Stack, and Queue folder (I used this as my backend implementation).\n",
    "The documentation and all of the functionality as well as decriptions can be found at the bottom of this notebook.\n",
    "\n",
    "\n",
    "NOTE:\n",
    "properties() takes care of calling nearly all the important functions in the BinarySeachTree class (apart from a few fun and challanging ones). You can individually call every single function by finding its name and making sure you know how to deal with the return type. \n",
    "\n",
    "***some functions do not return numerical data but the treenode objects themselves***"
   ]
  },
  {
   "cell_type": "markdown",
   "id": "790a1f98",
   "metadata": {},
   "source": [
    "### Time to mess around!\n",
    "First let's create a binary search tree with a few treenodes!"
   ]
  },
  {
   "cell_type": "code",
   "execution_count": null,
   "id": "200cdeb4",
   "metadata": {},
   "outputs": [],
   "source": [
    "import binarytree\n",
    "import treenode\n",
    "bst = binarytree.BinarySearchTree() #creating a new linked list\n",
    "bst.insertList(50,25,10,35,75,60,15,0,30,40,55,80,70,79,100,-20)"
   ]
  },
  {
   "cell_type": "markdown",
   "id": "3d62d1c8",
   "metadata": {},
   "source": [
    "### Let's take a look at what our BST looks like.\n",
    "Note: this will be view horizontally not vertically. I have not implemented a printpretty function yet."
   ]
  },
  {
   "cell_type": "code",
   "execution_count": null,
   "id": "dd42c64e",
   "metadata": {},
   "outputs": [],
   "source": [
    "print(bst)"
   ]
  },
  {
   "cell_type": "markdown",
   "id": "1181fc11",
   "metadata": {},
   "source": [
    "### Let's look at the properties of our BST.\n",
    "Properties will return a dictionary of all of the attributes of the BST. printProperties will only print all of the properties as if it were in a dictionary. I implemented all of these properties as seperate functions in the binarytree.py file. You can call the individual functions if need be (read documentation as to what is returned). \n",
    "\n",
    "Properties within the dictionary:\n",
    "\n",
    "#### Nodes: \n",
    "Number of nodes in the bst\n",
    "\n",
    "#### Height: \n",
    "The height of our bst\n",
    "\n",
    "#### Longest Path: \n",
    "Returns a list of the longest path (only the data, not the nodes themselves) from root to leaf node\n",
    "\n",
    "#### Sum Distances: \n",
    "Returns the sum of the distances from the root to every single node in the BST\n",
    "\n",
    "#### Perfect: \n",
    "Checks if our tree is perfect\n",
    "\n",
    "#### Complete: \n",
    "Checks if our tree is complete\n",
    "\n",
    "#### Full: \n",
    "Checks if our tree is full\n",
    "\n",
    "#### Balanced: \n",
    "Checks if our tree is balanced\n",
    "\n",
    "#### Balance Factor: \n",
    "Returns the balance factor in our BST\n",
    "\n",
    "#### Traversals: \n",
    "Inorder, preorder, postorder, and levelorder"
   ]
  },
  {
   "cell_type": "code",
   "execution_count": null,
   "id": "8f1f2a34",
   "metadata": {},
   "outputs": [],
   "source": [
    "bst.printProperties()"
   ]
  },
  {
   "cell_type": "markdown",
   "id": "ca5849cf",
   "metadata": {},
   "source": [
    "### Let's print all of the paths in our BST. \n",
    "Note: This will print all of the paths from our root to leaf nodes only. It does not print paths to internal nodes."
   ]
  },
  {
   "cell_type": "code",
   "execution_count": null,
   "id": "9262f062",
   "metadata": {},
   "outputs": [],
   "source": [
    "bst.printPaths()"
   ]
  },
  {
   "cell_type": "markdown",
   "id": "22ddd992",
   "metadata": {},
   "source": [
    "### Let's mirror our BST. \n",
    "Meaning we will flip it and make smaller numbers be to the right and larger numbers be to the left."
   ]
  },
  {
   "cell_type": "code",
   "execution_count": null,
   "id": "46f2fec7",
   "metadata": {},
   "outputs": [],
   "source": [
    "bst.mirror()\n",
    "print(bst)"
   ]
  },
  {
   "cell_type": "markdown",
   "id": "e00dc055",
   "metadata": {},
   "source": [
    "### Let's convert our binary search tree to a linked list."
   ]
  },
  {
   "cell_type": "code",
   "execution_count": null,
   "id": "e6af7767",
   "metadata": {},
   "outputs": [],
   "source": [
    "linked = bst.bstToLinkedLst()\n",
    "print(linked)"
   ]
  },
  {
   "cell_type": "markdown",
   "id": "ee289ddd",
   "metadata": {},
   "source": [
    "### Let's try removing some nodes in our tree\n"
   ]
  },
  {
   "cell_type": "markdown",
   "id": "bae95e11",
   "metadata": {},
   "source": [
    "Case one: No child removal"
   ]
  },
  {
   "cell_type": "code",
   "execution_count": null,
   "id": "b7aad3c2",
   "metadata": {},
   "outputs": [],
   "source": [
    "bst.mirror()\n",
    "bst.remove(100)\n",
    "print(bst)"
   ]
  },
  {
   "cell_type": "markdown",
   "id": "8865526b",
   "metadata": {},
   "source": [
    "Case two: One child removal"
   ]
  },
  {
   "cell_type": "code",
   "execution_count": null,
   "id": "3bcb3973",
   "metadata": {},
   "outputs": [],
   "source": [
    "bst.remove(0)\n",
    "print(bst)"
   ]
  },
  {
   "cell_type": "markdown",
   "id": "c6eee552",
   "metadata": {},
   "source": [
    "Case three: Two child removal"
   ]
  },
  {
   "cell_type": "code",
   "execution_count": null,
   "id": "20440782",
   "metadata": {},
   "outputs": [],
   "source": [
    "bst.remove(25)\n",
    "print(bst)"
   ]
  },
  {
   "cell_type": "markdown",
   "id": "a07de92e",
   "metadata": {},
   "source": [
    "### Functionality of the Binary Search Tree class.\n",
    "Note the code for the functions will not be seen here. You will need to go to the .py files for that"
   ]
  },
  {
   "cell_type": "code",
   "execution_count": null,
   "id": "9b7abc1f",
   "metadata": {},
   "outputs": [],
   "source": [
    "dir(help(binarytree))"
   ]
  },
  {
   "cell_type": "markdown",
   "id": "316e8686",
   "metadata": {},
   "source": [
    "### Functionality of the TreeNode class.\n",
    "Note the code for the functions will not be seen here. You will need to go to the .py files for that"
   ]
  }
 ],
 "metadata": {},
 "nbformat": 4,
 "nbformat_minor": 5
}
