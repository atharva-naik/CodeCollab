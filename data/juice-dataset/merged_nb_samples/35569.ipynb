{
 "cells": [
  {
   "cell_type": "markdown",
   "id": "886dabd8",
   "metadata": {},
   "source": [
    "# DataPath Example 2\n",
    "This notebook gives a very basic example of how to access data. \n",
    "It assumes that you understand the concepts presented in the \n",
    "example 1 notebook."
   ]
  },
  {
   "cell_type": "code",
   "execution_count": null,
   "id": "a879b62f",
   "metadata": {},
   "outputs": [],
   "source": [
    "# Import deriva modules\n",
    "from deriva.core import ErmrestCatalog, get_credential"
   ]
  },
  {
   "cell_type": "code",
   "execution_count": null,
   "id": "22d89bdf",
   "metadata": {},
   "outputs": [],
   "source": [
    "# Connect with the deriva catalog\n",
    "protocol = 'https'\n",
    "hostname = 'www.facebase.org'\n",
    "catalog_number = 1\n",
    "credential = get_credential(hostname)\n",
    "catalog = ErmrestCatalog(protocol, hostname, catalog_number, credential)"
   ]
  },
  {
   "cell_type": "code",
   "execution_count": null,
   "id": "345570ba",
   "metadata": {},
   "outputs": [],
   "source": [
    "# Get the path builder interface for this catalog\n",
    "pb = catalog.getPathBuilder()"
   ]
  },
  {
   "cell_type": "markdown",
   "id": "5f157afb",
   "metadata": {},
   "source": [
    "## DataPaths\n",
    "The `PathBuilder` object allows you to begin `DataPath`s from the base `Table`s. A `DataPath` begins with a `Table` (or an `TableAlias` to be discussed later) as its \"root\" from which one can \"`link`\", \"`filter`\", and fetch its \"`entities`\"."
   ]
  },
  {
   "cell_type": "markdown",
   "id": "07fa5fa1",
   "metadata": {},
   "source": [
    "### Start a path rooted at a table from the catalog\n",
    "We will reference a table from the PathBuilder `pb` variable from above. Using the PathBuilder, we will reference the \"isa\" schema, then the \"dataset\" table, and from that table start a path."
   ]
  },
  {
   "cell_type": "code",
   "execution_count": null,
   "id": "2ed7b256",
   "metadata": {},
   "outputs": [],
   "source": [
    "path = pb.schemas['isa'].tables['dataset'].path"
   ]
  },
  {
   "cell_type": "markdown",
   "id": "abfd7196",
   "metadata": {},
   "source": [
    "We could have used the more compact dot-notation to start the same path."
   ]
  },
  {
   "cell_type": "code",
   "execution_count": null,
   "id": "d3b5fc33",
   "metadata": {},
   "outputs": [],
   "source": [
    "path = pb.isa.dataset.path"
   ]
  },
  {
   "cell_type": "markdown",
   "id": "7fedf100",
   "metadata": {},
   "source": [
    "### Getting the URI of the current path\n",
    "All DataPaths have URIs for the referenced resources in ERMrest. The URI identifies the resources which are available through \"RESTful\" Web protocols supported by ERMrest."
   ]
  },
  {
   "cell_type": "code",
   "execution_count": null,
   "id": "860a0a9b",
   "metadata": {},
   "outputs": [],
   "source": [
    "print(path.uri)"
   ]
  },
  {
   "cell_type": "markdown",
   "id": "61e89190",
   "metadata": {},
   "source": [
    "## ResultSets\n",
    "The data from a DataPath are accessed through a pythonic container object, the `ResultSet`. The `ResultSet` is returned by the DataPath's `entities()` and other methods."
   ]
  },
  {
   "cell_type": "code",
   "execution_count": null,
   "id": "10ebed96",
   "metadata": {},
   "outputs": [],
   "source": [
    "results = path.entities()"
   ]
  },
  {
   "cell_type": "markdown",
   "id": "e9f3b9b5",
   "metadata": {},
   "source": [
    "### Fetch entities from the catalog\n",
    "Now we can get entities from the server using the ResultSet's `fetch()` method."
   ]
  },
  {
   "cell_type": "code",
   "execution_count": null,
   "id": "404bcf5e",
   "metadata": {},
   "outputs": [],
   "source": [
    "results.fetch()"
   ]
  },
  {
   "cell_type": "markdown",
   "id": "39674a85",
   "metadata": {},
   "source": [
    "`ResultSet`s behave like python containers. For example, we can check the count of rows in this ResultSet."
   ]
  },
  {
   "cell_type": "code",
   "execution_count": null,
   "id": "6dd561e8",
   "metadata": {},
   "outputs": [],
   "source": [
    "len(results)"
   ]
  },
  {
   "cell_type": "markdown",
   "id": "3d08b090",
   "metadata": {},
   "source": [
    "**Note**: If we had not explicitly called the `fetch()` method, then it would have been called implicitly on the first container operation such as `len(...)`, `list(...)`, `iter(...)` or get item `[...]`."
   ]
  },
  {
   "cell_type": "markdown",
   "id": "a7b6af75",
   "metadata": {},
   "source": [
    "### Get an entity\n",
    "To get one entity from the set, use the usual container operator to get an item."
   ]
  },
  {
   "cell_type": "code",
   "execution_count": null,
   "id": "17ff33e4",
   "metadata": {},
   "outputs": [],
   "source": [
    "results[9]"
   ]
  },
  {
   "cell_type": "markdown",
   "id": "cbbf5f77",
   "metadata": {},
   "source": [
    "### Get a specific attribute value from an entity\n",
    "To get one attribute value from an entity get the item using its `Column`'s `name` property."
   ]
  },
  {
   "cell_type": "code",
   "execution_count": null,
   "id": "2310916b",
   "metadata": {},
   "outputs": [],
   "source": [
    "dataset = pb.schemas['isa'].tables['dataset']\n",
    "print (results[9][dataset.accession.name])"
   ]
  },
  {
   "cell_type": "markdown",
   "id": "63a5eea4",
   "metadata": {},
   "source": [
    "## Fetch a Limited Number of Results\n",
    "To set a limit on the number of results to be fetched from the catalog, use the explicit `fetch(limit=...)` method with the desired upper limit to fetch from the catalog."
   ]
  },
  {
   "cell_type": "code",
   "execution_count": null,
   "id": "d8a46cf2",
   "metadata": {},
   "outputs": [],
   "source": [
    "results.fetch(limit=3)\n",
    "len(results)"
   ]
  },
  {
   "cell_type": "markdown",
   "id": "43166952",
   "metadata": {},
   "source": [
    "### Iterate over the ResultSet\n",
    "`ResultSet`s are iterable like a typical container."
   ]
  },
  {
   "cell_type": "code",
   "execution_count": null,
   "id": "39642845",
   "metadata": {},
   "outputs": [],
   "source": [
    "for entity in results:\n",
    "    print(entity[dataset.accession.name])"
   ]
  },
  {
   "cell_type": "markdown",
   "id": "47d5ab27",
   "metadata": {},
   "source": [
    "## Convert to Pandas DataFrame\n",
    "ResultSets can be transformed into the popular Pandas DataFrame."
   ]
  },
  {
   "cell_type": "code",
   "execution_count": null,
   "id": "bab114ea",
   "metadata": {},
   "outputs": [],
   "source": [
    "results.dataframe"
   ]
  },
  {
   "cell_type": "markdown",
   "id": "c21ec8b8",
   "metadata": {},
   "source": [
    "## Selecting Attributes\n",
    "It is also possible to fetch only a subset of attributes from the catalog. The `attributes(...)` method accepts a variable argument list followed by keyword arguments. Each argument must be a `Column` object from the table's `columns` container.\n",
    "\n",
    "### Renaming selected attributes\n",
    "To rename the selected attributes, use \"named\" (a.k.a., \"keyword\") arguments in the method. For example, `attributes(..., new_name=table.column)` will rename `table.column` with `new_name` in the entities returned from the server. (It will not change anything in the stored catalog data.) Note that in python, the named arguments _must come after_ positional arguments."
   ]
  },
  {
   "cell_type": "code",
   "execution_count": null,
   "id": "2ee8a3fe",
   "metadata": {},
   "outputs": [],
   "source": [
    "results = path.attributes(dataset.accession, dataset.title, is_released=dataset.released).fetch(limit=5)"
   ]
  },
  {
   "cell_type": "markdown",
   "id": "4d70fbc6",
   "metadata": {},
   "source": [
    "### Convert to list\n",
    "Now we can look at the results from the above fetch. To demonstrate a different access mode, we can convert the entities to a standard python list and dump to the console."
   ]
  }
 ],
 "metadata": {},
 "nbformat": 4,
 "nbformat_minor": 5
}
