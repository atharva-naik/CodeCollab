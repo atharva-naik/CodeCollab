{
 "cells": [
  {
   "cell_type": "markdown",
   "id": "59cc3e08",
   "metadata": {},
   "source": [
    "### Markdown\n",
    "\n",
    "The text files we create will use a simple \"wiki\" markup style called [markdown](http://daringfireball.net/projects/markdown/basics) to show formatting. This is the convention used in this file, too. \n",
    "\n",
    "You can view the content of this file in the way Markdown renders it by looking on the [web](https://github.com/UCL/ucl_software_carpentry/blob/master/git/git_instructions.md), and compare the [raw text](https://raw.github.com/UCL/ucl_software_carpentry/master/git/git_instructions.md)."
   ]
  },
  {
   "cell_type": "markdown",
   "id": "49e9f6e6",
   "metadata": {},
   "source": [
    "### Displaying Text in this Tutorial\n",
    "\n",
    "This tutorial is based on use of the Git command line. So you'll be typing commands in the shell."
   ]
  },
  {
   "cell_type": "markdown",
   "id": "7671e6e8",
   "metadata": {},
   "source": [
    "To make it easy for me to edit, I've built it using Jupyter notebook."
   ]
  },
  {
   "cell_type": "markdown",
   "id": "b79a8bb5",
   "metadata": {},
   "source": [
    "Commands you can type will look like this, using the %%bash \"magic\" for the notebook."
   ]
  },
  {
   "cell_type": "code",
   "execution_count": null,
   "id": "dd346230",
   "metadata": {},
   "outputs": [],
   "source": [
    "%%bash\n",
    "echo some output"
   ]
  },
  {
   "cell_type": "markdown",
   "id": "df73db69",
   "metadata": {},
   "source": [
    "with the results you should see below. "
   ]
  },
  {
   "cell_type": "markdown",
   "id": "f68a1144",
   "metadata": {},
   "source": [
    "In this document, we will show the new content of an edited document like this:"
   ]
  },
  {
   "cell_type": "code",
   "execution_count": null,
   "id": "a53ba6bb",
   "metadata": {},
   "outputs": [],
   "source": [
    "%%writefile somefile.md\n",
    "Some content here"
   ]
  },
  {
   "cell_type": "markdown",
   "id": "8164d91e",
   "metadata": {},
   "source": [
    "But if you are following along, you should edit the file using a text editor.\n",
    "On windows, we recommend [Notepad++](https://notepad-plus-plus.org).\n",
    "On mac, we recommend [Atom](https://atom.io)"
   ]
  },
  {
   "cell_type": "markdown",
   "id": "14e10acf",
   "metadata": {},
   "source": [
    "### Setting up somewhere to work"
   ]
  },
  {
   "cell_type": "code",
   "execution_count": null,
   "id": "128a0358",
   "metadata": {},
   "outputs": [],
   "source": [
    "%%bash\n",
    "rm -rf learning_git/git_example # Just in case it's left over from a previous class; you won't need this\n",
    "mkdir -p learning_git/git_example\n",
    "cd learning_git/git_example"
   ]
  },
  {
   "cell_type": "markdown",
   "id": "380084b1",
   "metadata": {},
   "source": [
    "I just need to move this Jupyter notebook's current directory as well:"
   ]
  }
 ],
 "metadata": {},
 "nbformat": 4,
 "nbformat_minor": 5
}
