{
 "cells": [
  {
   "cell_type": "code",
   "execution_count": null,
   "id": "49fe1059",
   "metadata": {},
   "outputs": [],
   "source": [
    "import pandas as pd\n",
    "import numpy as np\n",
    "import matplotlib.pyplot as plt\n",
    "import scipy.stats as sts\n",
    "%matplotlib inline\n"
   ]
  },
  {
   "cell_type": "markdown",
   "id": "5ed27b59",
   "metadata": {},
   "source": [
    "# Chi-squared distribution with 3 degrees of freedom\n",
    "\n",
    "Generate sample:"
   ]
  },
  {
   "cell_type": "code",
   "execution_count": null,
   "id": "fe362d2d",
   "metadata": {},
   "outputs": [],
   "source": [
    "chi2_rv = sts.chi2(3)            # 3 degrees of freedom\n",
    "sample = chi2_rv.rvs(1000)       # 1000 variates"
   ]
  },
  {
   "cell_type": "markdown",
   "id": "2fe4a210",
   "metadata": {},
   "source": [
    "\n",
    "Histogram and theoretical distribution:"
   ]
  },
  {
   "cell_type": "code",
   "execution_count": null,
   "id": "5ddbe815",
   "metadata": {},
   "outputs": [],
   "source": [
    "plt.hist(sample, bins=40, normed=True, label='hist')     # histogram based on sample\n",
    "\n",
    "x = np.linspace(0, 15)\n",
    "pdf = chi2_rv.pdf(x)                                     # theorettical probability density function\n",
    "plt.plot(x, pdf, label='theoretical pdf', alpha=0.5)\n",
    "plt.legend()\n",
    "plt.ylabel('$f(x)$')\n",
    "plt.xlabel('$x$')"
   ]
  },
  {
   "cell_type": "markdown",
   "id": "24884269",
   "metadata": {},
   "source": [
    "# Central limit theorem\n",
    "\n",
    "Define function for calculating means of samples with different sizes:"
   ]
  },
  {
   "cell_type": "code",
   "execution_count": null,
   "id": "47218940",
   "metadata": {},
   "outputs": [],
   "source": [
    "def calc_mean(size):\n",
    "    samples = []\n",
    "    sample = None\n",
    "    for i in range(0, 1000):\n",
    "        sample = chi2_rv.rvs(size)                 # generate sample with size = size\n",
    "        samples.append(np.mean(sample))            # append mean of the sample\n",
    "    return samples                                 # return means for each sample"
   ]
  },
  {
   "cell_type": "markdown",
   "id": "cad4a412",
   "metadata": {},
   "source": [
    "According to wikipedia:<br>\n",
    "    $\\sigma^2 = 2k, \\mu = k$\n",
    "<br>\n",
    "So, using Central Limit theorem:<br>\n",
    "    $\\overline{X_n} \\stackrel{\\text{d}}{=} N(\\mu, \\frac{\\sigma^2}{n}) = N(k, \\frac{2k}{n})$"
   ]
  },
  {
   "cell_type": "markdown",
   "id": "411dba40",
   "metadata": {},
   "source": [
    "Create samples with sizes 5, 10 and 50, draw their means' histograms and theoretical distribution function:\n"
   ]
  },
  {
   "cell_type": "code",
   "execution_count": null,
   "id": "2219d8cc",
   "metadata": {},
   "outputs": [],
   "source": [
    "samples_mean = calc_mean(5)                                             # size = 10\n",
    "hist5 = plt.hist(samples_mean, bins=25, normed=True, label='hist')      # histogram of means\n",
    "\n",
    "# add theoretical dist to the plot\n",
    "x = np.linspace(0, 10)\n",
    "norm_rv = sts.norm(chi2_rv.mean(), np.sqrt(chi2_rv.var() / 5.))  \n",
    "pdf = norm_rv.pdf(x)\n",
    "plt.plot(x, pdf, label='theoretical pdf', alpha=1, color='r', linewidth=2.0)\n",
    "plt.legend()\n",
    "plt.ylabel('$f(x)$')\n",
    "plt.xlabel('$x$')"
   ]
  },
  {
   "cell_type": "markdown",
   "id": "e8f1ba31",
   "metadata": {},
   "source": [
    "Same for n = 10 and n = 50:"
   ]
  }
 ],
 "metadata": {},
 "nbformat": 4,
 "nbformat_minor": 5
}
