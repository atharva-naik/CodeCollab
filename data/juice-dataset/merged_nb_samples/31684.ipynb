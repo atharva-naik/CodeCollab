{
 "cells": [
  {
   "cell_type": "markdown",
   "id": "db2864aa",
   "metadata": {},
   "source": [
    "# Calculating a PSF for WFIRST Wide Field Instrument\n",
    "\n",
    "This demonstration notebook offers a graphical interface to the basic functionality of WebbPSF-WFIRST, as well an example of performing a calculation with the Python scripting interface suited for more advanced calculations.\n",
    "\n",
    "## Background and boilerplate\n",
    "\n",
    "Before we can do a calculation, we must set up the notebook by importing the packages we use and setting up logging output so we can follow the progress of the calculations. The cell below imports WebbPSF and standard scientific Python tools, and configures some options to make plots prettier.\n",
    "\n",
    "**You shouldn't need to edit anything in the next cell, just go ahead and run it.**\n",
    "\n",
    "*(Note: click in a cell and use **Shift + Enter** or click the play button <i class=\"fa-step-forward fa\"></i> above to run it)*"
   ]
  },
  {
   "cell_type": "code",
   "execution_count": null,
   "id": "c2e1956b",
   "metadata": {},
   "outputs": [],
   "source": [
    "%matplotlib inline\n",
    "import matplotlib\n",
    "matplotlib.rcParams['figure.figsize'] = (16, 6)  # make the default figure size larger\n",
    "matplotlib.rcParams['image.interpolation'] = 'nearest'  # don't blur/smooth image plots\n",
    "from matplotlib import pyplot as plt\n",
    "import webbpsf\n",
    "import webbpsf.wfirst"
   ]
  },
  {
   "cell_type": "markdown",
   "id": "84156276",
   "metadata": {},
   "source": [
    "The next cell tells WebbPSF to log information about what it is doing so that we can watch the progress of the calculation:"
   ]
  },
  {
   "cell_type": "code",
   "execution_count": null,
   "id": "22657e81",
   "metadata": {},
   "outputs": [],
   "source": [
    "webbpsf.setup_logging()"
   ]
  },
  {
   "cell_type": "markdown",
   "id": "5c4e6e05",
   "metadata": {},
   "source": [
    "**Note:** As you explore in this notebook, you may see certain warnings that look like this:\n",
    "\n",
    "<div class=\"output_subarea output_stderr\" style=\"font-family: monospace; margin: 1em\">Warning: something happened! </div>\n",
    "\n",
    "For the most part, warnings are safe to ignore. In particular, warnings referencing the matplotlib plotting library or the FITS library in Astropy don't indicate anything that could affect the accuracy of the calculations."
   ]
  },
  {
   "cell_type": "markdown",
   "id": "20d9c52a",
   "metadata": {},
   "source": [
    "# Using the WFI model in WebbPSF\n",
    "\n",
    "Each instrument in WebbPSF is represented as a Python `class`, and the Wide Field Instrument model is in `webbpsf.wfirst.WFI`. We need to instantiate one to work with:"
   ]
  },
  {
   "cell_type": "code",
   "execution_count": null,
   "id": "236fa0d4",
   "metadata": {},
   "outputs": [],
   "source": [
    "wfi = webbpsf.wfirst.WFI()"
   ]
  },
  {
   "cell_type": "markdown",
   "id": "976a61c7",
   "metadata": {},
   "source": [
    "## Using the notebook interface\n",
    "\n",
    "There's a notebook-friendly interface for the Wide Field Instrument PSF model. Bring it up in your notebook by running the following cell, then experiment with the different options, or read on for more explanation."
   ]
  },
  {
   "cell_type": "code",
   "execution_count": null,
   "id": "19470ffa",
   "metadata": {},
   "outputs": [],
   "source": [
    "webbpsf.jupyter_gui.show_notebook_interface_wfi(wfi)"
   ]
  },
  {
   "cell_type": "markdown",
   "id": "67c0253a",
   "metadata": {},
   "source": [
    "### Calculate PSF\n",
    "\n",
    "When you click the \"Calculate PSF\" button, you will see some output as the calculation progresses. When it completes, it will show a plot showing three panels (counting left-to-right) representing the optical planes in the model:\n",
    "\n",
    "  1. The entrance pupil transmission in black and white, and the phase ranging from red to blue to show the wavefront error. We include here a plausible estimate for wavefront error due to mirror polishing variations. (This is currently approximated by a map of high-frequency errors in the Hubble primary, since such data is not yet available for the WFIRST primary mirror.)\n",
    "  2. The same transmission and phase map with the addition of the phase term due to field-dependent optical aberrations and intermediate instrument optics. (Specifically, this is based on Zernike coefficients derived from the Cycle 5 optical modeling effort at GSFC.)\n",
    "  3. The final oversampled detector plane, with log-scaled intensity\n",
    "\n",
    "Below that, you will see a side-by-side comparison of the oversampled PSF, and the PSF binned down to detector pixels.\n",
    "\n",
    "Also, a button labeled \"Download FITS image from last calculation\" will appear below the \"Calculate PSF\" button. Click that to download the oversampled and detector-pixel-binned images as a multi-extension FITS file. (WebbPSF also offers tools to analyze PSFs within the notebook or your own scripts, which are described in the next section.)\n",
    "\n",
    "### Display Optical System\n",
    "\n",
    "This shows a 2 x 2 grid of plots. The left hand side shows transmission (e.g. pupil or mask shape), and the right side shows optical path difference (which is converted to phase across the pupil). The first row represents the pupil plane at the primary mirror, and the second row is the notional pupil plane after all the field dependent aberrations have been applied to the wavefront, but before the final propagation to a detector or image plane.\n",
    "\n",
    "### Clear Output\n",
    "\n",
    "The output from the calculation process can be pretty verbose, so this button is here to clear both text output and plots."
   ]
  },
  {
   "cell_type": "markdown",
   "id": "36e475b1",
   "metadata": {},
   "source": [
    "## Using the Python programming interface\n",
    "\n",
    "Alternatively, you can configure the WFI instance yourself in Python. A more detailed example is presented in the [WebbPSF-WFIRST documentation page](https://pythonhosted.org/webbpsf/wfirst.html), but here we will just show a simple monochromatic calculation at the default field position.\n",
    "\n",
    "The `wfi.calcPSF()` method returns a [FITS HDUList object](http://docs.astropy.org/en/stable/io/fits/index.html), which you can then write out to a file or analyze further in the notebook."
   ]
  },
  {
   "cell_type": "code",
   "execution_count": null,
   "id": "c4dfd899",
   "metadata": {},
   "outputs": [],
   "source": [
    "mono_psf = wfi.calc_psf(monochromatic=1.2e-6, display=True)"
   ]
  },
  {
   "cell_type": "markdown",
   "id": "0c0c4e55",
   "metadata": {},
   "source": [
    "Now you have the calculation result in the `mono_psf` variable, and can use various utility functions in WebbPSF to analyze it. The FITS object has an extension called `OVERSAMP` with each pixel split according to the default oversampling factor (4), and an extension called `DET_SAMP` with that image binned down to detector pixels."
   ]
  },
  {
   "cell_type": "code",
   "execution_count": null,
   "id": "e5242d3c",
   "metadata": {},
   "outputs": [],
   "source": [
    "mono_psf.info()"
   ]
  },
  {
   "cell_type": "markdown",
   "id": "490850c4",
   "metadata": {},
   "source": [
    "Let's plot the PSF in detector pixels:"
   ]
  },
  {
   "cell_type": "code",
   "execution_count": null,
   "id": "653e20b6",
   "metadata": {},
   "outputs": [],
   "source": [
    "webbpsf.display_psf(mono_psf, ext='DET_SAMP')"
   ]
  },
  {
   "cell_type": "markdown",
   "id": "5898e69d",
   "metadata": {},
   "source": [
    "WebbPSF also includes functions for measuring EE, profiles, and centroids (described in the [WebbPSF documentation](http://pythonhosted.org/webbpsf/api_reference.html#functions) and the [POPPY documentation](http://pythonhosted.org/poppy/api.html#functions)). Below we measure the radial profile and encircled energy curve for the monochromatic PSF. (Note that the FWHM is also computed and labeled on the radial profile plot.)"
   ]
  },
  {
   "cell_type": "code",
   "execution_count": null,
   "id": "e100ecee",
   "metadata": {},
   "outputs": [],
   "source": [
    "plt.figure(figsize=(8, 6))\n",
    "webbpsf.display_profiles(mono_psf)"
   ]
  },
  {
   "cell_type": "markdown",
   "id": "c1ba30ed",
   "metadata": {},
   "source": [
    "If you want, the FITS object containing the PSF can be written out to a file and downloaded to your computer. This can be useful if you need it as an input to another tool."
   ]
  }
 ],
 "metadata": {},
 "nbformat": 4,
 "nbformat_minor": 5
}
