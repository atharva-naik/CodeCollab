{
 "cells": [
  {
   "cell_type": "code",
   "execution_count": null,
   "id": "1b999d61",
   "metadata": {},
   "outputs": [],
   "source": [
    "import glob, os, re"
   ]
  },
  {
   "cell_type": "code",
   "execution_count": null,
   "id": "a4eeaf74",
   "metadata": {},
   "outputs": [],
   "source": [
    "# path to working directory\n",
    "root = os.getcwd()\n",
    "print root# print(root) for Py3 because print has become a function\n",
    "\n",
    "# path to data directory\n",
    "dpath = os.path.join(root,\"DATA\",\"INAUG\")\n",
    "\n",
    "print os.listdir(dpath)"
   ]
  },
  {
   "cell_type": "markdown",
   "id": "7d3f69d2",
   "metadata": {},
   "source": [
    "### Preprocessing element\n",
    "Functions for import and mininal cleaning of texts "
   ]
  },
  {
   "cell_type": "code",
   "execution_count": null,
   "id": "a2a527f3",
   "metadata": {},
   "outputs": [],
   "source": [
    "def read_txt(path):\n",
    "    \"\"\"\n",
    "    Read all plain text files in directory on path\n",
    "    \"\"\"\n",
    "    fnames = sorted(glob.glob(os.path.join(path,\"*.txt\")))\n",
    "    data = []\n",
    "    metadata = []\n",
    "    for fname in fnames:\n",
    "        with open(fname, 'r') as f:\n",
    "            data.append(f.read())\n",
    "        metadata.append(os.path.basename(fname).split(\".\")[0])\n",
    "    return data, metadata\n",
    "\n",
    "def clean(s):\n",
    "    \"\"\"\n",
    "    Remove number and casefold string s\n",
    "    \"\"\"\n",
    "    return re.sub(r\"\\d\",\"\",s.lower())"
   ]
  },
  {
   "cell_type": "markdown",
   "id": "94f269f2",
   "metadata": {},
   "source": [
    "Apply function to import and clean texts"
   ]
  },
  {
   "cell_type": "code",
   "execution_count": null,
   "id": "89248986",
   "metadata": {},
   "outputs": [],
   "source": [
    "texts, titles = read_txt(dpath)\n",
    "texts = map(clean,texts)\n",
    "# texts = list(map(clean,texts))# for py 3\n",
    "\n",
    "textsnonumber = []\n",
    "for text in texts:\n",
    "    textsnonumber.append(clean(text))\n"
   ]
  },
  {
   "cell_type": "markdown",
   "id": "9a9bbd0c",
   "metadata": {},
   "source": [
    "## and scikit-learn happens ##\n",
    "import vectorizer and model object"
   ]
  }
 ],
 "metadata": {},
 "nbformat": 4,
 "nbformat_minor": 5
}
