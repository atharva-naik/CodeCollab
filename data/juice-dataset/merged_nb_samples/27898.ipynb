{
 "cells": [
  {
   "cell_type": "code",
   "execution_count": null,
   "id": "7db779a1",
   "metadata": {},
   "outputs": [],
   "source": [
    "from sklearn.datasets import fetch_20newsgroups\n",
    "from sklearn.feature_extraction.text import TfidfVectorizer, CountVectorizer\n",
    "from sklearn.decomposition import NMF, LatentDirichletAllocation\n",
    "no_features = 1000\n",
    "dataset = fetch_20newsgroups(shuffle = True, random_state = 1, remove=('headers', 'footers', 'quotes'))\n",
    "documents = dataset.data"
   ]
  },
  {
   "cell_type": "markdown",
   "id": "0eef25e7",
   "metadata": {},
   "source": [
    "---"
   ]
  },
  {
   "cell_type": "markdown",
   "id": "c2bcdf58",
   "metadata": {},
   "source": [
    "### NMF is able to use tf-idf"
   ]
  },
  {
   "cell_type": "code",
   "execution_count": null,
   "id": "b250e871",
   "metadata": {},
   "outputs": [],
   "source": [
    "#NMF is able to use tf-idf\n",
    "tfidf_vectorizer = TfidfVectorizer(max_df=0.95, min_df=2, max_features = no_features, stop_words='english')\n",
    "tfidf = tfidf_vectorizer.fit_transform(documents)\n",
    "tfidf_feature_names = tfidf_vectorizer.get_feature_names()"
   ]
  },
  {
   "cell_type": "markdown",
   "id": "5a1326f1",
   "metadata": {},
   "source": [
    "### LDA"
   ]
  },
  {
   "cell_type": "code",
   "execution_count": null,
   "id": "d9fab018",
   "metadata": {},
   "outputs": [],
   "source": [
    "# LDA can only use raw term counts for LDA because it is a probilistic graphical model\n",
    "tf_vectorizer = TfidfVectorizer(max_df=0.95, min_df=2, max_features = no_features, stop_words='english')\n",
    "tf = tf_vectorizer.fit_transform(documents)\n",
    "tf_feature_names = tf_vectorizer.get_feature_names()\n",
    "no_topics = 10"
   ]
  },
  {
   "cell_type": "markdown",
   "id": "72bc36d1",
   "metadata": {},
   "source": [
    "### # NMF and LDA with Scikit Learn"
   ]
  }
 ],
 "metadata": {},
 "nbformat": 4,
 "nbformat_minor": 5
}
