{
 "cells": [
  {
   "cell_type": "code",
   "execution_count": null,
   "id": "9e46782f",
   "metadata": {},
   "outputs": [],
   "source": [
    "import pandas as pd\n",
    "import matplotlib.pyplot as plt\n",
    "import matplotlib.mlab as mlab\n",
    "import numpy as np\n",
    "import scipy.stats as stats\n",
    "import seaborn as sns\n",
    "\n",
    "train = pd.read_csv('train.csv')\n",
    "train.head(3)"
   ]
  },
  {
   "cell_type": "code",
   "execution_count": null,
   "id": "8bfb2db3",
   "metadata": {},
   "outputs": [],
   "source": [
    "# Inspect the shape of the train dataset\n",
    "print(\"Number of columns: \"+ str(train.shape[1]))\n",
    "print(\"Number of rows: \"+ str(train.shape[0]))"
   ]
  },
  {
   "cell_type": "markdown",
   "id": "62676789",
   "metadata": {},
   "source": [
    "# Missing values\n",
    "First, I want to identify whether there are missing values based on the percentage of NaN values. If a colunm has any many missing values, I would drop that column."
   ]
  },
  {
   "cell_type": "code",
   "execution_count": null,
   "id": "68ff5abb",
   "metadata": {},
   "outputs": [],
   "source": [
    "missing_value = (train.isnull().sum())\n",
    "print (missing_value.sort_values(ascending = False)"
   ]
  },
  {
   "cell_type": "markdown",
   "id": "5a50a1a9",
   "metadata": {},
   "source": [
    "As we can see, there are 19 columns with missing values. We will drop these columns."
   ]
  },
  {
   "cell_type": "code",
   "execution_count": null,
   "id": "3199bf0e",
   "metadata": {},
   "outputs": [],
   "source": [
    "# Drop the columns with missing values\n",
    "train_drop = train.dropna(axis='columns')\n",
    "print(\"Number of columns: \"+ str(train_drop.shape[1]))\n",
    "print(\"Number of rows: \"+ str(train_drop.shape[0]))\n",
    "train_drop.head(5)"
   ]
  },
  {
   "cell_type": "markdown",
   "id": "d5bb7c43",
   "metadata": {},
   "source": [
    "# Data cleanup\n",
    "Among 62 features, there are features that correllate better with the sale price and thus, are important for downstream analyses. Here, we calculate the corralation of all variables salewith "
   ]
  },
  {
   "cell_type": "code",
   "execution_count": null,
   "id": "e808268a",
   "metadata": {},
   "outputs": [],
   "source": [
    "plt.hist(train_drop.SalePrice, bins = 30)\n",
    "plt.show()"
   ]
  },
  {
   "cell_type": "markdown",
   "id": "89e58c16",
   "metadata": {},
   "source": [
    "The distribution looks normal and skews towards lower-priced homes. We can perform log transformation to make the distribution looks more normal."
   ]
  },
  {
   "cell_type": "code",
   "execution_count": null,
   "id": "194d43b9",
   "metadata": {},
   "outputs": [],
   "source": [
    "plt.hist(np.log(train_drop.SalePrice), bins = 30)\n",
    "plt.show()"
   ]
  },
  {
   "cell_type": "markdown",
   "id": "9c16d038",
   "metadata": {},
   "source": [
    "## Numerical variables"
   ]
  },
  {
   "cell_type": "code",
   "execution_count": null,
   "id": "3d49cf81",
   "metadata": {},
   "outputs": [],
   "source": [
    "plt.plot(train_drop.GrLivArea, train_drop.SalePrice,'.')\n",
    "plt.show()"
   ]
  },
  {
   "cell_type": "code",
   "execution_count": null,
   "id": "8ce51196",
   "metadata": {},
   "outputs": [],
   "source": [
    "plt.plot(train_drop.GrLivArea, np.log(train_drop.SalePrice),'.')\n",
    "plt.show()"
   ]
  },
  {
   "cell_type": "markdown",
   "id": "5e1bb7af",
   "metadata": {},
   "source": [
    "# Data story\n",
    "\n",
    "Ask the following questions and look for the answers using code and plots:\n",
    "\n",
    "Can you count something interesting?\n",
    "Can you find trends (e.g. high, low, increasing, decreasing, anomalies)?\n",
    "Can you make a bar plot or a histogram?\n",
    "Can you compare two related quantities?\n",
    "Can you make a scatterplot?\n",
    "Can you make a time-series plot?\n",
    "\n",
    "Looking at the plots, what are some insights you can make? Do you see any correlations? Is there a hypothesis you’d like to investigate further? What other questions do the insights lead you to ask?\n",
    "\n",
    "Now that you’ve asked questions, hopefully you’ve found some interesting insights. Is there a narrative or a way of presenting the insights using text and plots that tells a compelling story? What are some other trends/relationships you think will make the story more complete?"
   ]
  },
  {
   "cell_type": "markdown",
   "id": "8784a2de",
   "metadata": {},
   "source": [
    "## Univariate analysis\n",
    "Since the data sets have both numerical and categorical data, it makes sense to identify which is which."
   ]
  },
  {
   "cell_type": "code",
   "execution_count": null,
   "id": "05e31998",
   "metadata": {},
   "outputs": [],
   "source": [
    "def get_feature_groups():\n",
    "    \"\"\" Returns a list of numerical and categorical features,\n",
    "    excluding SalePrice and Id. \"\"\"\n",
    "    # Numerical Features\n",
    "    num_features = train_drop.select_dtypes(include=['int64','float64']).columns\n",
    "    num_features = num_features.drop(['Id','SalePrice']) # drop ID and SalePrice\n",
    "\n",
    "    # Categorical Features\n",
    "    cat_features = train_drop.select_dtypes(include=['object']).columns\n",
    "    return list(num_features), list(cat_features)\n",
    "\n",
    "num_features, cat_features = get_feature_groups()"
   ]
  },
  {
   "cell_type": "markdown",
   "id": "89322d3b",
   "metadata": {},
   "source": [
    "### Explore categorical features\n",
    "In dealing with cateforical variables, bar plots are usually chosen in place of histograms.\n",
    "\n",
    "Exploring a categorical feature of interest, HouseStyle, I notice that 1-story is the most popular style in Ames, Iowa."
   ]
  },
  {
   "cell_type": "code",
   "execution_count": null,
   "id": "c96bee79",
   "metadata": {},
   "outputs": [],
   "source": [
    "f = pd.melt(train_drop, value_vars=sorted(cat_features))\n",
    "g = sns.FacetGrid(f, col='variable',col_wrap=4, sharex=False, sharey=False)\n",
    "plt.xticks(rotation='vertical')\n",
    "g = g.map(sns.countplot, 'value')\n",
    "[plt.setp(ax.get_xticklabels(), rotation=45) for ax in g.axes.flat]\n",
    "g.fig.tight_layout()\n",
    "plt.show()"
   ]
  },
  {
   "cell_type": "markdown",
   "id": "c141e7d5",
   "metadata": {},
   "source": [
    "## Numerical features"
   ]
  },
  {
   "cell_type": "code",
   "execution_count": null,
   "id": "1ffd2b19",
   "metadata": {},
   "outputs": [],
   "source": [
    "f = pd.melt(train_drop, value_vars=sorted(num_features))\n",
    "g = sns.FacetGrid(f, col='variable', col_wrap=4, sharex=False, sharey=False)\n",
    "g = g.map(sns.distplot, 'value')\n",
    "plt.show()"
   ]
  },
  {
   "cell_type": "code",
   "execution_count": null,
   "id": "ada646ec",
   "metadata": {},
   "outputs": [],
   "source": [
    "print('The oldest home was built in:', train_drop.YearBuilt.min())\n",
    "print ('The newest houme was built in', train_drop.YearBuilt.max())\n",
    "train_drop.YearBuilt.hist(bins=14, rwidth= 0.8)\n",
    "plt.title('Year Built')\n",
    "plt.show()"
   ]
  },
  {
   "cell_type": "markdown",
   "id": "1e06cf73",
   "metadata": {},
   "source": [
    "## Bivariate analysis\n",
    "\n",
    "### Nominal features with Price\n",
    "Since the goal is price prediction, I explore the corellation of price with some features. I choose Yearbuild and Neighborhood because these are logical choices.\n",
    "\n",
    "Is interesting to notice the pattern of the real estate cycle here. Right before each market crash or recession, house prices increased significantly. After the crash, the price continued to decline for at least two years, stabilized until the dawn of the next market crash."
   ]
  },
  {
   "cell_type": "code",
   "execution_count": null,
   "id": "68461860",
   "metadata": {},
   "outputs": [],
   "source": [
    "YearBuilt_meanSalePrice = \\\n",
    "    train_drop.groupby('YearBuilt')['SalePrice'].mean()\n",
    "\n",
    "plt.figure(figsize=(20,5))\n",
    "sns.pointplot(x = train_drop.YearBuilt.values, y = train_drop.SalePrice.values,\n",
    "              order = YearBuilt_meanSalePrice.index)\n",
    "plt.xticks(rotation=90)\n",
    "plt.title(\"House price in Ames since 1872 to 2010\")\n",
    "plt.xlabel(\"Year\")\n",
    "plt.ylabel(\"Price (USD)\")\n",
    "plt.show()"
   ]
  },
  {
   "cell_type": "markdown",
   "id": "25ed157f",
   "metadata": {},
   "source": [
    "Real estate investing is all about location. Among the neighborhood within Ames city limits, it looks like the Neighborhood where most houses locate in is Names. "
   ]
  },
  {
   "cell_type": "code",
   "execution_count": null,
   "id": "008d8232",
   "metadata": {},
   "outputs": [],
   "source": [
    "train_drop.groupby('Neighborhood').Id.count().\\\n",
    "    sort_values().\\\n",
    "    plot(kind='barh')\n",
    "\n",
    "plt.title('Neighborhood')\n",
    "plt.show()"
   ]
  },
  {
   "cell_type": "code",
   "execution_count": null,
   "id": "cb8445fb",
   "metadata": {},
   "outputs": [],
   "source": [
    "Neighborhood_meanSP = \\\n",
    "    train_drop.groupby('Neighborhood')['SalePrice'].mean()\n",
    " \n",
    "Neighborhood_meanSalePrice = Neighborhood_meanSP.sort_values()\n",
    "print (Neighborhood_meanSalePrice)"
   ]
  },
  {
   "cell_type": "code",
   "execution_count": null,
   "id": "0350e956",
   "metadata": {},
   "outputs": [],
   "source": [
    "sns.pointplot(x = train_drop.Neighborhood.values, y = train_drop.SalePrice.values,\n",
    "              order = Neighborhood_meanSalePrice.index)\n",
    "plt.xticks(rotation=45)\n",
    "plt.show()"
   ]
  },
  {
   "cell_type": "markdown",
   "id": "85cfcced",
   "metadata": {},
   "source": [
    "### Numerical features with Price"
   ]
  }
 ],
 "metadata": {},
 "nbformat": 4,
 "nbformat_minor": 5
}
