{
 "cells": [
  {
   "cell_type": "markdown",
   "id": "a2ca6fce",
   "metadata": {},
   "source": [
    "# Demonstration of the BuTools PH package"
   ]
  },
  {
   "cell_type": "markdown",
   "id": "fd2fdce5",
   "metadata": {},
   "source": [
    "Set the precision and initialize butools (load all packages)"
   ]
  },
  {
   "cell_type": "code",
   "execution_count": null,
   "id": "97f6298f",
   "metadata": {},
   "outputs": [],
   "source": [
    "%precision %g\n",
    "%run \"~/github/butools/Python/BuToolsInit.py\""
   ]
  },
  {
   "cell_type": "markdown",
   "id": "3de9a8e0",
   "metadata": {},
   "source": [
    "First the global *butools.verbose* flag is set to True to obtain more messages from the functions."
   ]
  },
  {
   "cell_type": "code",
   "execution_count": null,
   "id": "76d35a33",
   "metadata": {},
   "outputs": [],
   "source": [
    "butools.verbose = True"
   ]
  },
  {
   "cell_type": "markdown",
   "id": "b544edc8",
   "metadata": {},
   "source": [
    "## PH and ME representations"
   ]
  },
  {
   "cell_type": "markdown",
   "id": "9e2c1b67",
   "metadata": {},
   "source": [
    "The BuTools PH package offers tools for both phase-type (PH) and matrix-exponential (ME) distributions. Some functions expect a PH representation for the input (MomentsFromPH, PdfFromPH, CdfFromPH, etc.), and some others expect an ME representation (MomentsFromME, PdfFromME, CdfFromME, etc.).\n",
    "\n",
    "If the global flag called *butools.checkInput* is set to True, these functions enforce the proper representation of their input parameters (the corresponding tolerance is given by the global *butools.checkPrecision* variable).\n",
    "\n",
    "The following example calls the checking functions on a distribution."
   ]
  },
  {
   "cell_type": "markdown",
   "id": "3977e7f6",
   "metadata": {},
   "source": [
    "Note that in the Python version of butools, the vector (like $\\alpha$ above) must be given by $1\\times N$ matrices."
   ]
  },
  {
   "cell_type": "markdown",
   "id": "ab75fbbb",
   "metadata": {},
   "source": [
    "Calling a function that needs a PH representation will fail:"
   ]
  },
  {
   "cell_type": "code",
   "execution_count": null,
   "id": "09c0a4a5",
   "metadata": {},
   "outputs": [],
   "source": [
    "MomentsFromPH(alpha,A)"
   ]
  },
  {
   "cell_type": "markdown",
   "id": "4979f4cf",
   "metadata": {},
   "source": [
    "However, the ME counterpart of this function runs properly:"
   ]
  },
  {
   "cell_type": "code",
   "execution_count": null,
   "id": "dbd5ff04",
   "metadata": {},
   "outputs": [],
   "source": [
    "MomentsFromME(alpha,A)"
   ]
  },
  {
   "cell_type": "markdown",
   "id": "439e46c4",
   "metadata": {},
   "source": [
    "## Moment matching functions"
   ]
  },
  {
   "cell_type": "markdown",
   "id": "1c27469a",
   "metadata": {},
   "source": [
    "BuTools has many functions to obtain a PH or ME distribution based on the moments. Some of them are able to return a proper result only if the input moment set falls into a given region, while some others are more flexible and have much fewer constraints."
   ]
  },
  {
   "cell_type": "markdown",
   "id": "804f2d8b",
   "metadata": {},
   "source": [
    "The following function returns a PH(2) based on 3 moments. The 3 moments must fall into a given constraint, otherwise the procedure fails to return a distribution."
   ]
  },
  {
   "cell_type": "code",
   "execution_count": null,
   "id": "4298fa81",
   "metadata": {},
   "outputs": [],
   "source": [
    "alpha, A = PH2From3Moments ([1,3,20])\n",
    "print(\"alpha=\", alpha)\n",
    "print(\"A=\", A)"
   ]
  },
  {
   "cell_type": "markdown",
   "id": "9dcbf9c8",
   "metadata": {},
   "source": [
    "It can be checked that the moments of the result are the same as the target moments."
   ]
  },
  {
   "cell_type": "code",
   "execution_count": null,
   "id": "48b65ad6",
   "metadata": {},
   "outputs": [],
   "source": [
    "MomentsFromPH(alpha, A)"
   ]
  },
  {
   "cell_type": "markdown",
   "id": "8c97dc55",
   "metadata": {},
   "source": [
    "The extension of the previous matching procedure: matching five moments with a PH(3) "
   ]
  },
  {
   "cell_type": "code",
   "execution_count": null,
   "id": "301b1201",
   "metadata": {},
   "outputs": [],
   "source": [
    "alpha, A = PH3From5Moments ([0.9,2.5,20, 500, 22000])\n",
    "print(\"alpha=\", alpha)\n",
    "print(\"A=\", A)"
   ]
  },
  {
   "cell_type": "markdown",
   "id": "00fbd2a2",
   "metadata": {},
   "source": [
    "If the *graphviz* tool from AT&T is installed, the resulting PH distribution can be visualized by *ImageFromPH*."
   ]
  },
  {
   "cell_type": "code",
   "execution_count": null,
   "id": "2bd8e873",
   "metadata": {},
   "outputs": [],
   "source": [
    "ImageFromPH(alpha,A)"
   ]
  },
  {
   "cell_type": "markdown",
   "id": "c62555ad",
   "metadata": {},
   "source": [
    "**APHFrom3Moments** is a flexible procedure. It is able to matching *any* three moments with an appropriately large APH (acyclic PH). Let us first try to match moments [1,1.28,8] with PH2From3Moments. It fails."
   ]
  },
  {
   "cell_type": "code",
   "execution_count": null,
   "id": "4a42cfd9",
   "metadata": {},
   "outputs": [],
   "source": [
    "alpha, A = PH2From3Moments ([1,1.28,8])"
   ]
  },
  {
   "cell_type": "markdown",
   "id": "cf4591a2",
   "metadata": {},
   "source": [
    "However, APHFrom3Moments is able to obtain a proper PH distribution, although a larger representation."
   ]
  },
  {
   "cell_type": "code",
   "execution_count": null,
   "id": "1fa1404b",
   "metadata": {},
   "outputs": [],
   "source": [
    "alpha, A = APHFrom3Moments ([1,1.28,8])\n",
    "print(\"alpha=\", alpha)\n",
    "print(\"A=\", A)"
   ]
  },
  {
   "cell_type": "code",
   "execution_count": null,
   "id": "6f5da828",
   "metadata": {},
   "outputs": [],
   "source": [
    "MomentsFromME(alpha, A)"
   ]
  },
  {
   "cell_type": "markdown",
   "id": "105a9d6b",
   "metadata": {},
   "source": [
    "Let us plot the feasible region of moments for APHFrom3Moments with increasing number of states. As the number of states grows, the entire region is filled."
   ]
  },
  {
   "cell_type": "code",
   "execution_count": null,
   "id": "53d47c1e",
   "metadata": {},
   "outputs": [],
   "source": [
    "def feasibleBounds (n):\n",
    "    ly = []\n",
    "    uy = []\n",
    "    x = []\n",
    "    for m2 in np.linspace(APH2ndMomentLowerBound(1,n), 1.8, 500):\n",
    "        # convert to normalized moments\n",
    "        ml = NormMomsFromMoms ([1, m2, APH3rdMomentLowerBound(1,m2,n)])\n",
    "        mu = NormMomsFromMoms ([1, m2, APH3rdMomentUpperBound(1,m2,n)])\n",
    "        # record bounds\n",
    "        ly.append(ml[2])\n",
    "        uy.append(min(mu[2],15))\n",
    "        x.append(ml[1])    \n",
    "    return (x, ly, uy)\n",
    "\n",
    "plt.ylim((1.2,3))\n",
    "plt.xlim((1.1,1.8))\n",
    "plt.fill_between (*feasibleBounds(6),color=\"blue\")\n",
    "plt.fill_between (*feasibleBounds(5),color=\"yellow\")\n",
    "plt.fill_between (*feasibleBounds(4),color=\"green\")\n",
    "plt.fill_between (*feasibleBounds(3),color=\"red\")\n",
    "plt.fill_between (*feasibleBounds(2),color=\"orange\")\n",
    "plt.xlabel(\"$n_2(=m_2/m_1^2)$\")\n",
    "plt.ylabel(\"$n_3(=m_3/m_1/m_2)$\");"
   ]
  },
  {
   "cell_type": "markdown",
   "id": "8dbbca53",
   "metadata": {},
   "source": [
    "The next procedure, **MEFromMoments** returns a vector-matrix pair matching any number of moments. Unfortunatly, while the moments are mathcing indeed according to the moment formulas, the density function can be negative, thus *MeFromMoments* can return invalid ME distributions."
   ]
  },
  {
   "cell_type": "code",
   "execution_count": null,
   "id": "3af95b6f",
   "metadata": {},
   "outputs": [],
   "source": [
    "v, H = MEFromMoments ([0.9,2.5,20, 500, 22000])\n",
    "print(\"v=\", v)\n",
    "print(\"H=\", H)"
   ]
  },
  {
   "cell_type": "code",
   "execution_count": null,
   "id": "50b0ea56",
   "metadata": {},
   "outputs": [],
   "source": [
    "MomentsFromME(v, H)"
   ]
  },
  {
   "cell_type": "markdown",
   "id": "8b391e2f",
   "metadata": {},
   "source": [
    "## Advanced representation transformation methods"
   ]
  },
  {
   "cell_type": "markdown",
   "id": "3274846b",
   "metadata": {},
   "source": [
    "Let us find a Markovian representation of a non-Markovian one (for instance $(v, H)$). **PHFromME** looks for a solution having the same size. Warning: it is not always possible to find a non-markovian representation of the same size. It can happen that only a larger Markovian representation exists."
   ]
  },
  {
   "cell_type": "code",
   "execution_count": null,
   "id": "1ffad2e2",
   "metadata": {},
   "outputs": [],
   "source": [
    "beta, B = PHFromME (v, H)\n",
    "print(\"beta=\", beta)\n",
    "print(\"B=\", B)"
   ]
  },
  {
   "cell_type": "markdown",
   "id": "33d20657",
   "metadata": {},
   "source": [
    "*PHFromME* terminates successfully. To show that $(\\beta,B)$ and $(v,H)$ define the same distribution, we plot it and conclude that they match."
   ]
  },
  {
   "cell_type": "code",
   "execution_count": null,
   "id": "52c45395",
   "metadata": {},
   "outputs": [],
   "source": [
    "x = np.linspace(0, 2, 100)\n",
    "y1 = PdfFromME (v, H, x)\n",
    "y2 = PdfFromPH (beta, B, x)\n",
    "plt.plot(x,y1,x,y2);"
   ]
  },
  {
   "cell_type": "markdown",
   "id": "c57eb47e",
   "metadata": {},
   "source": [
    "A more \"scientific\" way to prove the equivalence of the two representations is to find an appropriate similarity transformation that transforms the one to the other. The transformation matrix can be obtained by the *SimilarityMatrix* function of the *RepTrans* package."
   ]
  },
  {
   "cell_type": "code",
   "execution_count": null,
   "id": "9ee75c25",
   "metadata": {},
   "outputs": [],
   "source": [
    "T = SimilarityMatrix(B,H)\n",
    "T"
   ]
  },
  {
   "cell_type": "markdown",
   "id": "a6f9988c",
   "metadata": {},
   "source": [
    "Let us now check if $\\beta,B$ and $v,H$ are equivalent:"
   ]
  },
  {
   "cell_type": "code",
   "execution_count": null,
   "id": "4bdcc15c",
   "metadata": {},
   "outputs": [],
   "source": [
    "la.norm(T.I*B*T - H)"
   ]
  },
  {
   "cell_type": "code",
   "execution_count": null,
   "id": "c8b1fe46",
   "metadata": {},
   "outputs": [],
   "source": [
    "la.norm(beta*T - v)"
   ]
  },
  {
   "cell_type": "markdown",
   "id": "0ab7e5a9",
   "metadata": {},
   "source": [
    "Now let us take an other example $v,H$, where no Markovian representation of the same size exists."
   ]
  },
  {
   "cell_type": "code",
   "execution_count": null,
   "id": "ff5db008",
   "metadata": {},
   "outputs": [],
   "source": [
    "v = ml.matrix([[0.2, 0.3, 0.5]])\n",
    "H = ml.matrix([[-1, 0, 0],[0, -3, 1],[0, -1, -3]])\n",
    "beta, B = PHFromME (v, H)\n",
    "print(\"beta=\", beta)\n",
    "print(\"B=\", B)"
   ]
  },
  {
   "cell_type": "markdown",
   "id": "531a7c26",
   "metadata": {},
   "source": [
    "Note that there are negative entries in $\\beta$ and in the off-diagonals of $B$.\n",
    "However, there is still hope to obtain a valid Markovian representation.\n",
    "It has been proven that all ME distributions have a Markovian monocyclic representation.\n",
    "Luckily we have a function that obtains it, called **MonocyclicPHFromME**. This function is a very strong tool. It is able to convert *any* ME distribution (ok, only those that do not touch the 0 axis apart from point 0) to a PH distribution."
   ]
  },
  {
   "cell_type": "code",
   "execution_count": null,
   "id": "b5662565",
   "metadata": {},
   "outputs": [],
   "source": [
    "beta, B = MonocyclicPHFromME (v, H)\n",
    "print(\"beta=\", beta)\n",
    "print(\"B=\", B)"
   ]
  },
  {
   "cell_type": "markdown",
   "id": "95db1d01",
   "metadata": {},
   "source": [
    "Altough it is larger (9 states instead of 3), but at least Markovian. "
   ]
  },
  {
   "cell_type": "code",
   "execution_count": null,
   "id": "58bf124c",
   "metadata": {},
   "outputs": [],
   "source": [
    "CheckPHRepresentation(beta,B)"
   ]
  },
  {
   "cell_type": "markdown",
   "id": "15ad5a15",
   "metadata": {},
   "source": [
    "Let us check the cdfs now to see if they match."
   ]
  },
  {
   "cell_type": "code",
   "execution_count": null,
   "id": "01d1b3c4",
   "metadata": {},
   "outputs": [],
   "source": [
    "alpha = ml.matrix([[0.2, 0.3, 0.5]])\n",
    "A = ml.matrix([[-1, 0, 0],[0, -3, 1],[0, -1, -3]])"
   ]
  },
  {
   "cell_type": "code",
   "execution_count": null,
   "id": "cfce2274",
   "metadata": {},
   "outputs": [],
   "source": [
    "CheckPHRepresentation(alpha,A)"
   ]
  },
  {
   "cell_type": "code",
   "execution_count": null,
   "id": "0d9097c9",
   "metadata": {},
   "outputs": [],
   "source": [
    "CheckMERepresentation(alpha,A)"
   ]
  },
  {
   "cell_type": "markdown",
   "id": "610c7e46",
   "metadata": {},
   "source": [
    "We can conclude that $\\alpha,A$ is not a PH representation, but it is a proper ME representation. (However, this does not mean that it is a valid ME distribution, the non-negativity of the density function is not checked by the CheckMERepresentation function)."
   ]
  },
  {
   "cell_type": "code",
   "execution_count": null,
   "id": "52f491da",
   "metadata": {},
   "outputs": [],
   "source": [
    "x = np.linspace(0, 2, 100)\n",
    "y1 = CdfFromME (v, H, x)\n",
    "y2 = CdfFromPH (beta, B, x)\n",
    "plt.plot(x,y1,x,y2);"
   ]
  },
  {
   "cell_type": "markdown",
   "id": "65e8f362",
   "metadata": {},
   "source": [
    "If the return value of *MonocyclicPHFromME* is not interesting, there is *CheckMEPositiveDensity* available to decide if the conversion to PH is possible or not, i.e. if \n",
    "the given vector-matrix pair has a non-negative density or not."
   ]
  },
  {
   "cell_type": "code",
   "execution_count": null,
   "id": "39ac3328",
   "metadata": {},
   "outputs": [],
   "source": [
    "CheckMEPositiveDensity(v,H)"
   ]
  },
  {
   "cell_type": "markdown",
   "id": "2a4c427c",
   "metadata": {},
   "source": [
    "Let us obtain the minimal representation of this redundant representation according to controllability, observability and both respects."
   ]
  },
  {
   "cell_type": "code",
   "execution_count": null,
   "id": "9eb07de7",
   "metadata": {},
   "outputs": [],
   "source": [
    "gammac, Gc = MinimalRepFromME(beta,B,\"cont\")\n",
    "print(\"controllability order = \", Gc.shape[0])\n",
    "gammao, Go = MinimalRepFromME(beta,B,\"obs\",1e-4)\n",
    "print(\"observability order = \", Go.shape[0])\n",
    "gamma, G = MinimalRepFromME(beta,B,\"obscont\") # this is the default, \"obscont\" can be omitted\n",
    "print(\"minimal order = \", G.shape[0])\n",
    "print(\"Minimal representation:\")\n",
    "print(\"gamma=\", gamma)\n",
    "print(\"G=\", G)"
   ]
  },
  {
   "cell_type": "markdown",
   "id": "7d22073a",
   "metadata": {},
   "source": [
    "This way we got back a $3\\times 3$ representation. It is not Markovian, but it is more compact, which is beneficial in many numerical methods that use this distribution."
   ]
  },
  {
   "cell_type": "markdown",
   "id": "ef7639fc",
   "metadata": {},
   "source": [
    "An other interesting tool is **MEOrderFromMoments**. Based on a set of moments it determines the minimal order of ME distribution that has those moments. For instance, it is often easy to obtain moments from several queueing models: this method can check if there is an underlying PH or ME distribution or not."
   ]
  },
  {
   "cell_type": "code",
   "execution_count": null,
   "id": "cc7d024d",
   "metadata": {},
   "outputs": [],
   "source": [
    "MEOrderFromMoments(MomentsFromPH(beta,B))"
   ]
  },
  {
   "cell_type": "markdown",
   "id": "ab114fe6",
   "metadata": {},
   "source": [
    "It managed to return the right answer. Note however, that this procedure is quite prone to numerical errors. The Mathematica implementation together with multiple (very high) precision arithmetic does not have this problem."
   ]
  },
  {
   "cell_type": "markdown",
   "id": "c2ace608",
   "metadata": {},
   "source": [
    "## Randomness"
   ]
  },
  {
   "cell_type": "markdown",
   "id": "798d161f",
   "metadata": {},
   "source": [
    "For convenience, there is a procedure to generate a random PH distribution of a given size. Further parameters are the desired order, the desired mean value, and the number of zero entries of the representation (dense random PHs are not diverse enough)."
   ]
  },
  {
   "cell_type": "code",
   "execution_count": null,
   "id": "7810ad19",
   "metadata": {},
   "outputs": [],
   "source": [
    "alpha,A = RandomPH(4, 1.2, 8)\n",
    "print(\"alpha=\",alpha)\n",
    "print(\"A=\",A)"
   ]
  },
  {
   "cell_type": "markdown",
   "id": "b9e18b51",
   "metadata": {},
   "source": [
    "(Zero entries can be located in the initial vector, in the generator, and in the absorbing rates as well, which is not instantly visible from the returned parameters)"
   ]
  },
  {
   "cell_type": "markdown",
   "id": "31badf81",
   "metadata": {},
   "source": [
    "The *SamplesFromPH* function returns a vector of random samples from a PH distribution. The last parameter is the number of samples requested. The samples can be used in simulations, for instance."
   ]
  }
 ],
 "metadata": {},
 "nbformat": 4,
 "nbformat_minor": 5
}
