{
 "cells": [
  {
   "cell_type": "markdown",
   "id": "12d1268e",
   "metadata": {},
   "source": [
    "Convert to and from Pandas DataFrames\n",
    "====================\n",
    "There are no built in methods for the conversions but these functions below should work in most basic instances."
   ]
  },
  {
   "cell_type": "code",
   "execution_count": null,
   "id": "e6d224dc",
   "metadata": {},
   "outputs": [],
   "source": [
    "import raccoon as rc\n",
    "import pandas as pd"
   ]
  },
  {
   "cell_type": "markdown",
   "id": "7b1f81bb",
   "metadata": {},
   "source": [
    "Raccoon to Pandas\n",
    "----------------\n"
   ]
  },
  {
   "cell_type": "code",
   "execution_count": null,
   "id": "acfd049d",
   "metadata": {},
   "outputs": [],
   "source": [
    "def rc_to_pd(raccoon_dataframe):\n",
    "    \"\"\"\n",
    "    Convert a raccoon dataframe to pandas dataframe\n",
    "\n",
    "    :param raccoon_dataframe: raccoon DataFrame\n",
    "    :return: pandas DataFrame\n",
    "    \"\"\"\n",
    "    data_dict = raccoon_dataframe.to_dict(index=False)\n",
    "    return pd.DataFrame(data_dict, columns=raccoon_dataframe.columns, index=raccoon_dataframe.index)"
   ]
  },
  {
   "cell_type": "code",
   "execution_count": null,
   "id": "32e769a2",
   "metadata": {},
   "outputs": [],
   "source": [
    "rc_df = rc.DataFrame({'a': [1, 2, 3], 'b': [4, 5, 6]}, columns=['a', 'b'], index=[7, 8, 9])\n",
    "print(type(rc_df))\n",
    "print(rc_df)"
   ]
  },
  {
   "cell_type": "code",
   "execution_count": null,
   "id": "d9937174",
   "metadata": {},
   "outputs": [],
   "source": [
    "pd_df = rc_to_pd(rc_df)\n",
    "print(type(pd_df))\n",
    "print(pd_df)"
   ]
  },
  {
   "cell_type": "markdown",
   "id": "3cba3476",
   "metadata": {},
   "source": [
    "Pandas to Raccoon\n",
    "-----------"
   ]
  }
 ],
 "metadata": {},
 "nbformat": 4,
 "nbformat_minor": 5
}
