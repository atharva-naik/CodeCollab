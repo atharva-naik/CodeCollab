{
 "cells": [
  {
   "cell_type": "markdown",
   "id": "72350270",
   "metadata": {},
   "source": [
    "minion1016 WFD depth for 1yr (defined as all nights<night=365) vs. WFD depth for 10yr survey gives 4.8 times an improvement in flux, not sqrt(10)= 3.16, so something is wrong. \n",
    "\n",
    "Here, we compare the number of observations/nights in 1yr vs. 10yr data to see whats happening."
   ]
  },
  {
   "cell_type": "code",
   "execution_count": null,
   "id": "80d199fd",
   "metadata": {},
   "outputs": [],
   "source": [
    "import lsst.sims.maf.db as db\n",
    "import lsst.sims.maf.utils as mafUtils\n",
    "import matplotlib.pyplot as plt\n",
    "%matplotlib inline\n",
    "import numpy as np\n",
    "import os\n",
    "import healpy as hp\n",
    "from collections import OrderedDict\n",
    "import pandas as pd\n",
    "from IPython.display import display\n",
    "from copy import deepcopy\n",
    "from scipy.stats import iqr"
   ]
  },
  {
   "cell_type": "code",
   "execution_count": null,
   "id": "8fcf7441",
   "metadata": {},
   "outputs": [],
   "source": [
    "from os.path import expanduser\n",
    "home = expanduser(\"~\")\n",
    "# simdata datapath\n",
    "dbpath= home+'/lsstData/'\n",
    "dbpath+='minion_1016_sqlite_new_dithers.db'   # new afterburner output"
   ]
  },
  {
   "cell_type": "markdown",
   "id": "fdfb2e9e",
   "metadata": {},
   "source": [
    "Access the WFD simdata for different years for all bands."
   ]
  },
  {
   "cell_type": "code",
   "execution_count": null,
   "id": "7c338f8f",
   "metadata": {},
   "outputs": [],
   "source": [
    "simdata= {}\n",
    "opsdb = db.OpsimDatabase(dbpath)\n",
    "propIds, propTags = opsdb.fetchPropInfo()\n",
    "wfdWhere = mafUtils.createSQLWhere('WFD', propTags)\n",
    "\n",
    "colnames = ['fieldID', 'expDate', 'night', 'obsHistID']\n",
    "for yearCut in np.arange(1,10):\n",
    "    nightCutOff= yearCut*365.25\n",
    "    sqlconstraint  = wfdWhere + ' and night <= ' + str(nightCutOff)# + ' and filter==\"' + filterBand + '\"'\n",
    "    simdata['%syr'%int(yearCut)] = opsdb.fetchMetricData(colnames, sqlconstraint)\n",
    "    \n",
    "sqlconstraint= wfdWhere #+ ' and filter==\"' + filterBand + '\"'\n",
    "simdata['10yr'] = opsdb.fetchMetricData(colnames, sqlconstraint)"
   ]
  },
  {
   "cell_type": "code",
   "execution_count": null,
   "id": "e8e4c956",
   "metadata": {},
   "outputs": [],
   "source": [
    "tot10YrObs= len(simdata['10yr']['night'])\n",
    "\n",
    "plt.clf()\n",
    "fig, axes= plt.subplots(1,1)\n",
    "ax=axes\n",
    "binwidth= 100\n",
    "lw= 20\n",
    "for yr in simdata.keys():\n",
    "    lw= 2\n",
    "    histtype= 'step'\n",
    "        \n",
    "    totNightsWithObs= len(np.unique(simdata[yr]['night']))\n",
    "    label= '%s: tot nights w/ obs: %s; '%(yr, totNightsWithObs)\n",
    "    label+= 'tot obs: %s; '%len(simdata[yr]['night'])\n",
    "    label+= '%.2f%% of 10yr tot obs'%(100.*len(simdata[yr]['night'])/tot10YrObs)\n",
    "                                                                                          \n",
    "    counts, bins, eh= ax.hist(simdata[yr]['night'], histtype= histtype, lw= lw, \n",
    "                              label= label, #alpha= 0.6, \n",
    "                              bins=range(min(simdata[yr]['night']), max(simdata[yr]['night']) + binwidth, binwidth)\n",
    "                              )\n",
    "plt.title('all bands; WFD only\\n bin width= %s nights'%(binwidth))\n",
    "ax.set_xlabel('night')\n",
    "ax.set_ylabel('counts')\n",
    "ax.legend(bbox_to_anchor=(1.,-0.15), fontsize= 12)\n",
    "plt.gcf().set_size_inches(10, 5)\n",
    "plt.show()"
   ]
  },
  {
   "cell_type": "markdown",
   "id": "8172dd67",
   "metadata": {},
   "source": [
    "Ok so we have only 6.3% (not 10%) of visits in the first year. Why? Check the full (WFD+DDFs) survey."
   ]
  },
  {
   "cell_type": "markdown",
   "id": "43935e27",
   "metadata": {},
   "source": [
    "Read in the data for WFD+DDFs."
   ]
  },
  {
   "cell_type": "code",
   "execution_count": null,
   "id": "7a26450a",
   "metadata": {},
   "outputs": [],
   "source": [
    "opsdb = db.OpsimDatabase(dbpath)\n",
    "simdata_all= {}\n",
    "colnames = ['fieldID', 'expDate', 'night', 'obsHistID']\n",
    "for yearCut in np.arange(1,10):\n",
    "    nightCutOff= yearCut*365.25\n",
    "    sqlconstraint  = 'night <= ' + str(nightCutOff)\n",
    "    simdata_all['%syr'%int(yearCut)] = opsdb.fetchMetricData(colnames, sqlconstraint)\n",
    "    \n",
    "sqlconstraint= ''\n",
    "simdata_all['10yr'] = opsdb.fetchMetricData(colnames, sqlconstraint)"
   ]
  },
  {
   "cell_type": "code",
   "execution_count": null,
   "id": "87cd61ac",
   "metadata": {},
   "outputs": [],
   "source": [
    "tot10YrObs= len(simdata_all['10yr']['night'])\n",
    "\n",
    "plt.clf()\n",
    "fig, axes= plt.subplots(1,1)\n",
    "ax=axes\n",
    "binwidth= 100\n",
    "lw= 20\n",
    "for yr in simdata_all.keys():\n",
    "    lw= 2\n",
    "    histtype= 'step'\n",
    "        \n",
    "    totNightsWithObs= len(np.unique(simdata_all[yr]['night']))\n",
    "    label= '%s: tot nights w/ obs: %s; '%(yr, totNightsWithObs)\n",
    "    label+= 'tot obs: %s; '%len(simdata_all[yr]['night'])\n",
    "    label+= '%.2f%% of 10yr tot obs'%(100.*len(simdata_all[yr]['night'])/tot10YrObs)\n",
    "                                                                                          \n",
    "    counts, bins, eh= ax.hist(simdata_all[yr]['night'], histtype= histtype, lw= lw, \n",
    "                              label= label,\n",
    "                              bins=range(min(simdata_all[yr]['night']), max(simdata_all[yr]['night']) + binwidth, binwidth)\n",
    "                              )\n",
    "plt.title('all bands; WFD+DDFs \\n bin width= %s nights'%(binwidth))\n",
    "ax.set_xlabel('night')\n",
    "ax.set_ylabel('counts')\n",
    "ax.legend(bbox_to_anchor=(1.,-0.15), fontsize= 12)\n",
    "plt.gcf().set_size_inches(10, 5)\n",
    "plt.show()"
   ]
  },
  {
   "cell_type": "markdown",
   "id": "af64bc58",
   "metadata": {},
   "source": [
    "Ok so WFD+DDFs numbers make more sense: 1yr does have 10% of total visits. \n",
    "\n",
    "#### So DDFs are more strongly prefered in the first year in minion1016, hence fewer than 10% visits for 1yr in WFD."
   ]
  },
  {
   "cell_type": "markdown",
   "id": "046e47f3",
   "metadata": {},
   "source": [
    "##### Find the night by which number of visits= 10% of total 10yr visits"
   ]
  },
  {
   "cell_type": "code",
   "execution_count": null,
   "id": "7aaa068a",
   "metadata": {},
   "outputs": [],
   "source": [
    "for yr in list(simdata.keys())[0:2]:\n",
    "    print('%s: tot obs: %s '%(yr, len(simdata[yr]['night'])))\n",
    "    print('%.2f%% of 10yr tot obs\\n'%(100.*len(simdata[yr]['night'])/tot10YrObs))"
   ]
  },
  {
   "cell_type": "code",
   "execution_count": null,
   "id": "ae184e94",
   "metadata": {},
   "outputs": [],
   "source": [
    "for night in np.unique(simdata['2yr']['night']):\n",
    "    ind= np.where(simdata['2yr']['night']==night)[0] ## all the obs on night\n",
    "    ind= max(ind)  # last observation on this night\n",
    "    #print(ind)\n",
    "    percentObs= 100.*len(simdata[yr]['night'][0:ind])/tot10YrObs\n",
    "    if (percentObs>9.9) and (percentObs<10.1):\n",
    "        print('Upto night= ', night)\n",
    "        print('%.2f%% of 10yr tot obs\\n'%(percentObs))\n",
    "        "
   ]
  },
  {
   "cell_type": "markdown",
   "id": "8e86e481",
   "metadata": {},
   "source": [
    "#### Ok so the 1yr data technically should have the median depth achieved by night= 521 (by which have 10% of WFD total observations)."
   ]
  }
 ],
 "metadata": {},
 "nbformat": 4,
 "nbformat_minor": 5
}
