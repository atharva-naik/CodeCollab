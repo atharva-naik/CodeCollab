{
 "cells": [
  {
   "cell_type": "markdown",
   "id": "439e4f65",
   "metadata": {},
   "source": [
    "<h1><center>GOSS Export Analysis</center></h1>"
   ]
  },
  {
   "cell_type": "code",
   "execution_count": null,
   "id": "6689a67a",
   "metadata": {},
   "outputs": [],
   "source": [
    "from IPython.display import HTML\n",
    "################################\n",
    "HTML('''<script>\n",
    "code_show=true; \n",
    "function code_toggle() {\n",
    " if (code_show){\n",
    " $('div.input').hide();\n",
    " } else {\n",
    " $('div.input').show();\n",
    " }\n",
    " code_show = !code_show\n",
    "} \n",
    "$( document ).ready(code_toggle);\n",
    "</script>\n",
    "<b><a href=\"javascript:code_toggle()\">:)</a></b>''')\n"
   ]
  },
  {
   "cell_type": "markdown",
   "id": "62f3262a",
   "metadata": {},
   "source": [
    "Firstly import the required python packages."
   ]
  },
  {
   "cell_type": "code",
   "execution_count": null,
   "id": "c2415efd",
   "metadata": {},
   "outputs": [],
   "source": [
    "import pandas as pd\n",
    "import numpy as np\n",
    "import plotly.offline as pyoff\n",
    "import plotly.graph_objs as go\n",
    "from __future__ import division\n",
    "import json\n",
    "import datetime\n",
    "pyoff.init_notebook_mode()"
   ]
  },
  {
   "cell_type": "markdown",
   "id": "b0f48986",
   "metadata": {},
   "source": [
    "Import the json object as a pandas dataframe."
   ]
  },
  {
   "cell_type": "code",
   "execution_count": null,
   "id": "5660a114",
   "metadata": {},
   "outputs": [],
   "source": [
    "file_name = 'nhs_useful_notebooks/hscicweb320180214.json'\n",
    "json_file = open(file_name)\n",
    "json_file_complete = json.load(json_file)\n",
    "articles = pd.io.json.json_normalize(json_file_complete['articles'])\n",
    "media = pd.DataFrame(json_file_complete['media'])\n",
    "links = pd.DataFrame(json_file_complete['links'])"
   ]
  },
  {
   "cell_type": "markdown",
   "id": "4f543982",
   "metadata": {},
   "source": [
    "####  First 5 rows of the article data."
   ]
  },
  {
   "cell_type": "code",
   "execution_count": null,
   "id": "caace8f9",
   "metadata": {},
   "outputs": [],
   "source": [
    "articles.head()"
   ]
  },
  {
   "cell_type": "markdown",
   "id": "b12bb62c",
   "metadata": {},
   "source": [
    "#### How many pages are in the GOSS export?"
   ]
  },
  {
   "cell_type": "code",
   "execution_count": null,
   "id": "21b3ad59",
   "metadata": {},
   "outputs": [],
   "source": [
    "print('''There are {} pages in the GOSS export.'''.format(len(articles)))"
   ]
  },
  {
   "cell_type": "markdown",
   "id": "f8f0f845",
   "metadata": {},
   "source": [
    "#### What is the percentage of missing values for each column?"
   ]
  },
  {
   "cell_type": "code",
   "execution_count": null,
   "id": "f0b242d2",
   "metadata": {},
   "outputs": [],
   "source": [
    "def apply_null(value):\n",
    "    if value == []:\n",
    "        return None\n",
    "    else:\n",
    "        return value\n",
    "    \n",
    "for column in articles.columns:\n",
    "    articles[column] = articles[column].apply(apply_null)"
   ]
  },
  {
   "cell_type": "code",
   "execution_count": null,
   "id": "5cefc527",
   "metadata": {},
   "outputs": [],
   "source": [
    "null_df = pd.DataFrame(articles.isnull().sum(axis = 0).sort_values(ascending =False), columns = ['missing_values'])\n",
    "null_df['missing_percentage'] = (null_df['missing_values']/articles.shape[0])*100            \n",
    "text_hover = ['{} : {}%'.format(index,round(column,2)) for index, column in null_df['missing_percentage'].iteritems()]\n",
    "data = go.Bar(\n",
    "    x=list(null_df.index),\n",
    "    y=list(null_df['missing_percentage']),\n",
    "    text = text_hover,\n",
    "    hoverinfo = 'text'\n",
    ")\n",
    "data = [data]\n",
    "layout_nulls = go.Layout(\n",
    "    title = 'Percentage of Missing Values by column',\n",
    "    xaxis = dict(title = 'Page Type'),\n",
    "    yaxis = dict(title = 'Count',\n",
    "                 exponentformat='none',\n",
    "                 showexponent='all'),\n",
    ")\n",
    "fig_nulls = dict(data=data, layout=layout_nulls)\n",
    "pyoff.iplot(fig_nulls)"
   ]
  },
  {
   "cell_type": "markdown",
   "id": "e214e1f3",
   "metadata": {},
   "source": [
    "#### Number of pages by Template ID"
   ]
  },
  {
   "cell_type": "code",
   "execution_count": null,
   "id": "44c6752e",
   "metadata": {},
   "outputs": [],
   "source": [
    "green = 'rgb(102,170,85)'\n",
    "blue = 'rgb(51,102,170)'\n",
    "\n",
    "list_of_template_types_1 = ['Default','Authentication', 'Forms Service','List','Redirect','Home','Blog Entry','Landing','Blog List','Faceted Search','Publication', 'Publication List']\n",
    "list_of_template_types_2 = ['Default','Authentication', 'Forms Service','List','Redirect','Home','Blog Entry','Landing','Blog List','Publication', 'Publication List']\n",
    "\n",
    "list_of_template_colors = [green, green, green, green, green, green, green, green, green, green, green, green]"
   ]
  },
  {
   "cell_type": "code",
   "execution_count": null,
   "id": "fe2d89fc",
   "metadata": {},
   "outputs": [],
   "source": [
    "groupby_template = articles.groupby('ARTICLETEMPLATEID').count()\n",
    "text_hover = ['Template ID: {}<br>Count: {}'.format(index,column) for index, column in groupby_template['ARTICLEDATE'].iteritems()]\n",
    "first_data = groupby_template['ARTICLEDATE']\n",
    "\n",
    "articles['end_date'] = articles['ARTICLEDISPLAYEDATE'].str[:-6].apply(datetime.datetime.strptime, args = ['%B, %d %Y %H:%M:%S'])\n",
    "today = datetime.datetime.now()\n",
    "articles_displayed = articles[(articles['ARTICLEDISPLAY'] == 'on')\\\n",
    "                       &(articles['end_date'] > today)\\\n",
    "                       &(articles['STATUS'] == 'Live')]\n",
    "second_data = articles_displayed.groupby('ARTICLETEMPLATEID').count()['ARTICLEDATE']\n",
    "text_hover_2 = ['Template ID: {}<br>Count: {}'.format(index,column) for index, column in second_data.iteritems()]\n",
    "\n",
    "data = go.Bar(\n",
    "    x=list_of_template_types_1,\n",
    "    y=first_data,\n",
    "    text = text_hover,\n",
    "    hoverinfo = 'text',\n",
    "    marker = dict(color = list_of_template_colors),\n",
    "    name = 'All Articles'\n",
    ")\n",
    "\n",
    "data2 = go.Bar(\n",
    "    x=list_of_template_types_2,\n",
    "    y=second_data,\n",
    "    text = text_hover_2,\n",
    "    hoverinfo = 'text',\n",
    "    marker = dict(color = blue),\n",
    "    name = 'Live Articles'\n",
    ")\n",
    " \n",
    "data = [data, data2]\n",
    "layout_template = go.Layout(\n",
    "    title = 'Number of Articles by Template Type',\n",
    "    xaxis = dict(title = 'Template Type'),\n",
    "    yaxis = dict(title = 'Count',\n",
    "                 exponentformat='none',\n",
    "                 showexponent='all')\n",
    ")\n",
    "fig_template = dict(data=data, layout=layout_template)\n",
    "pyoff.iplot(fig_template)"
   ]
  },
  {
   "cell_type": "markdown",
   "id": "f3a38392",
   "metadata": {},
   "source": [
    "#### Which articles contain media? "
   ]
  },
  {
   "cell_type": "code",
   "execution_count": null,
   "id": "a21ee737",
   "metadata": {},
   "outputs": [],
   "source": [
    "articles_displayed.loc[articles_displayed['Media'].isnull(), 'medialen'] = 'No'\n",
    "articles_displayed.loc[articles_displayed['Media'].str.len() > 0, 'medialen'] = 'Yes'\n",
    "gb_media = articles_displayed.groupby('medialen').count()\n",
    "text_hover = ['Media : {}<br>Count : {}'.format(index,column) for index, column in gb_media['ARTICLEDATE'].iteritems()]\n",
    "data = go.Bar(\n",
    "    x=['No','Yes'],\n",
    "    y=list(gb_media['ARTICLEDATE']),\n",
    "    text = text_hover,\n",
    "    hoverinfo = 'text'\n",
    ")\n",
    "data = [data]\n",
    "layout_media = go.Layout(\n",
    "    title = 'Number of Articles that Contain Media',\n",
    "    xaxis = dict(title = 'Does article contain media?'),\n",
    "    yaxis = dict(title = 'Count',\n",
    "                 exponentformat='none',\n",
    "                 showexponent='all'),\n",
    ")\n",
    "fig_media = dict(data=data, layout=layout_media)\n",
    "pyoff.iplot(fig_media)"
   ]
  },
  {
   "cell_type": "markdown",
   "id": "23e8dcc4",
   "metadata": {},
   "source": [
    "#### Media Data Analysis. "
   ]
  },
  {
   "cell_type": "code",
   "execution_count": null,
   "id": "e900d341",
   "metadata": {},
   "outputs": [],
   "source": [
    "media.head()"
   ]
  },
  {
   "cell_type": "code",
   "execution_count": null,
   "id": "40e6c137",
   "metadata": {},
   "outputs": [],
   "source": [
    "def get_media_len(files):\n",
    "    return len(files)"
   ]
  },
  {
   "cell_type": "code",
   "execution_count": null,
   "id": "e6b8f523",
   "metadata": {},
   "outputs": [],
   "source": [
    "media['num_files'] = media['Files'].apply(get_media_len)"
   ]
  },
  {
   "cell_type": "markdown",
   "id": "ad36e0df",
   "metadata": {},
   "source": [
    "#### How many media items does each row have in the 'Files' column?"
   ]
  },
  {
   "cell_type": "code",
   "execution_count": null,
   "id": "b5173c64",
   "metadata": {},
   "outputs": [],
   "source": [
    "pd.DataFrame(media.groupby('num_files').count()['DESCRIPTION'])"
   ]
  },
  {
   "cell_type": "markdown",
   "id": "cd5dd129",
   "metadata": {},
   "source": [
    "Below are some examples where more than one variant."
   ]
  },
  {
   "cell_type": "code",
   "execution_count": null,
   "id": "0e6d6fad",
   "metadata": {},
   "outputs": [],
   "source": [
    "media[media['num_files'] >1].head()"
   ]
  },
  {
   "cell_type": "code",
   "execution_count": null,
   "id": "f78c1114",
   "metadata": {},
   "outputs": [],
   "source": [
    "def get_media_file(files):\n",
    "    return files[files.keys()[0]]\n",
    "media['file_name'] = media['Files'].apply(get_media_file)\n",
    "media[media['num_files']>1][['MEDIAID','Files','file_name']].head()"
   ]
  },
  {
   "cell_type": "markdown",
   "id": "76b0a941",
   "metadata": {},
   "source": [
    "####  What are the media types in the GOSS Export?"
   ]
  },
  {
   "cell_type": "code",
   "execution_count": null,
   "id": "8cec5944",
   "metadata": {},
   "outputs": [],
   "source": [
    "def get_media_type(files):\n",
    "    return files[files.keys()[0]].split('.')[-1]\n",
    "media['media_type'] = media['Files'].apply(get_media_type)"
   ]
  },
  {
   "cell_type": "code",
   "execution_count": null,
   "id": "4393da67",
   "metadata": {},
   "outputs": [],
   "source": [
    "gb_media_type = media.groupby('media_type').count()\n",
    "text_hover = ['Media : {}<br>Count : {}'.format(index,column) for index, column in gb_media_type['TITLE'].iteritems()]\n",
    "data = go.Bar(\n",
    "    x=gb_media_type.index,\n",
    "    y=list(gb_media_type['TITLE']),\n",
    "    text = text_hover,\n",
    "    hoverinfo = 'text'\n",
    ")\n",
    "data = [data]\n",
    "layout_media = go.Layout(\n",
    "    title = 'Media Types',\n",
    "    xaxis = dict(title = 'Media Type'),\n",
    "    yaxis = dict(title = 'Count',\n",
    "                 exponentformat='none',\n",
    "                 showexponent='all'),\n",
    ")\n",
    "fig_media = dict(data=data, layout=layout_media)\n",
    "pyoff.iplot(fig_media)"
   ]
  },
  {
   "cell_type": "markdown",
   "id": "223d9161",
   "metadata": {},
   "source": [
    "### Examining Topics and Sub Topics - Metadata"
   ]
  },
  {
   "cell_type": "markdown",
   "id": "06dd3b6c",
   "metadata": {},
   "source": [
    "As shown below, 2866 of the articles contain metadata. It is suspected these are mostly publications. It is shown below that 2611 of these are publications."
   ]
  },
  {
   "cell_type": "code",
   "execution_count": null,
   "id": "e72d635d",
   "metadata": {},
   "outputs": [],
   "source": [
    "def extract_topics(metadata, metadata_type):\n",
    "    if metadata is not None:\n",
    "        list_of_topics = []\n",
    "        for item in metadata:\n",
    "            if item['GROUP'] == metadata_type:\n",
    "                list_of_topics.append(item['VALUE'])\n",
    "        if len(list_of_topics) > 0:\n",
    "            return list_of_topics\n",
    "        else:\n",
    "            return None\n",
    "        \n",
    "def get_len(field):\n",
    "    if field is not None:\n",
    "        return len(field)"
   ]
  },
  {
   "cell_type": "markdown",
   "id": "933a0d84",
   "metadata": {},
   "source": [
    "Number of Articles with Metadata"
   ]
  },
  {
   "cell_type": "code",
   "execution_count": null,
   "id": "921af306",
   "metadata": {},
   "outputs": [],
   "source": [
    "len(articles_displayed[articles_displayed['Metadata'].isnull() == False])"
   ]
  },
  {
   "cell_type": "markdown",
   "id": "485d5ce9",
   "metadata": {},
   "source": [
    "Number of Publications with Metadata"
   ]
  },
  {
   "cell_type": "code",
   "execution_count": null,
   "id": "5f459dce",
   "metadata": {},
   "outputs": [],
   "source": [
    "len(articles_displayed[(articles_displayed['Metadata'].isnull() == False)&(articles_displayed['ARTICLETEMPLATEID'] == 23)])"
   ]
  },
  {
   "cell_type": "code",
   "execution_count": null,
   "id": "781e8de7",
   "metadata": {},
   "outputs": [],
   "source": [
    "metadata = articles[articles['Metadata'].isnull() == False]\n",
    "metadata_group = pd.DataFrame([item for sublist in list(metadata['Metadata']) for item in sublist])"
   ]
  },
  {
   "cell_type": "markdown",
   "id": "34cf195e",
   "metadata": {},
   "source": [
    "Below the counts of each value in the GROUP field in the metadata is shown. There are 6038 Topics and 3587 Sub-Topics, meaning that some articles must contain multiple of these fields."
   ]
  },
  {
   "cell_type": "code",
   "execution_count": null,
   "id": "d1b0a539",
   "metadata": {},
   "outputs": [],
   "source": [
    "metadata_group.groupby('GROUP').count()['VALUE']"
   ]
  },
  {
   "cell_type": "code",
   "execution_count": null,
   "id": "6c364760",
   "metadata": {},
   "outputs": [],
   "source": [
    "articles['topics'] = articles['Metadata'].apply(extract_topics, args = ['Topic'])\n",
    "articles['sub-topics'] = articles['Metadata'].apply(extract_topics, args = ['Sub-Topic'])\n",
    "articles['num_topics'] = articles['topics'].apply(get_len)\n",
    "articles['num_subtopics'] = articles['sub-topics'].apply(get_len)"
   ]
  },
  {
   "cell_type": "markdown",
   "id": "16cc4b4b",
   "metadata": {},
   "source": [
    "Below are two sections, showing the counts of the number of topics and subtopics associated with articles."
   ]
  },
  {
   "cell_type": "markdown",
   "id": "d5bc8ca8",
   "metadata": {},
   "source": [
    "#### Topics "
   ]
  },
  {
   "cell_type": "code",
   "execution_count": null,
   "id": "7d344e20",
   "metadata": {},
   "outputs": [],
   "source": [
    "print('''Number of Topics: {}'''.format(len(metadata_group[metadata_group['GROUP'] == 'Topic'].groupby('VALUE').count())))"
   ]
  },
  {
   "cell_type": "markdown",
   "id": "d27a4f95",
   "metadata": {},
   "source": [
    "List of the topics and the number of times they appear in the data."
   ]
  },
  {
   "cell_type": "code",
   "execution_count": null,
   "id": "62bf123f",
   "metadata": {},
   "outputs": [],
   "source": [
    "metadata_group[metadata_group['GROUP'] == 'Topic'].groupby('VALUE').count()['GROUP']"
   ]
  },
  {
   "cell_type": "markdown",
   "id": "6b0d7a86",
   "metadata": {},
   "source": [
    "#### How many topics per article?"
   ]
  },
  {
   "cell_type": "code",
   "execution_count": null,
   "id": "371fa947",
   "metadata": {},
   "outputs": [],
   "source": [
    "topics = pd.DataFrame(articles.groupby('num_topics').count()['ARCHIVEDATE'])\n",
    "topics.columns = ['Count']\n",
    "topics"
   ]
  },
  {
   "cell_type": "markdown",
   "id": "4487cdcd",
   "metadata": {},
   "source": [
    "Here is a list of some of the articles with 48 topics."
   ]
  },
  {
   "cell_type": "code",
   "execution_count": null,
   "id": "b293d505",
   "metadata": {},
   "outputs": [],
   "source": [
    "articles[articles['num_topics'] == 48.0].head()"
   ]
  },
  {
   "cell_type": "markdown",
   "id": "c853ff44",
   "metadata": {},
   "source": [
    "#### Sub-Topics"
   ]
  },
  {
   "cell_type": "code",
   "execution_count": null,
   "id": "eef06e49",
   "metadata": {},
   "outputs": [],
   "source": [
    "print('There are {} sub topics.'.format(len(metadata_group[metadata_group['GROUP'] == 'Sub-Topic'].groupby('VALUE').count())))"
   ]
  },
  {
   "cell_type": "code",
   "execution_count": null,
   "id": "2a19c648",
   "metadata": {},
   "outputs": [],
   "source": [
    "metadata_group[metadata_group['GROUP'] == 'Sub-Topic'].groupby('VALUE').count()"
   ]
  },
  {
   "cell_type": "code",
   "execution_count": null,
   "id": "37283864",
   "metadata": {},
   "outputs": [],
   "source": [
    "subtopics = pd.DataFrame(articles.groupby('num_subtopics').count()['ARCHIVEDATE'])\n",
    "subtopics.columns = ['Count']\n",
    "subtopics"
   ]
  },
  {
   "cell_type": "markdown",
   "id": "e6a02fdb",
   "metadata": {},
   "source": [
    "### GOSS Redirects "
   ]
  },
  {
   "cell_type": "markdown",
   "id": "879d52db",
   "metadata": {},
   "source": [
    "This section will examine the redirects in GOSS."
   ]
  },
  {
   "cell_type": "code",
   "execution_count": null,
   "id": "3a08eaba",
   "metadata": {},
   "outputs": [],
   "source": [
    "print('''Number of redirect articles: {}'''.format(len(articles_displayed[(articles_displayed['ARTICLETEMPLATEID'] == 13)\\\n",
    "                                                                          &(articles_displayed['ARTICLEDISPLAY'] == 'on')])))"
   ]
  },
  {
   "cell_type": "markdown",
   "id": "7a55216e",
   "metadata": {},
   "source": [
    "Example of a redirect address."
   ]
  },
  {
   "cell_type": "code",
   "execution_count": null,
   "id": "97469cbd",
   "metadata": {},
   "outputs": [],
   "source": [
    "articles_displayed[articles_displayed['ARTICLETEMPLATEID'] == 13].loc[121]['Links']"
   ]
  },
  {
   "cell_type": "code",
   "execution_count": null,
   "id": "fbee22fa",
   "metadata": {},
   "outputs": [],
   "source": [
    "articles[articles['ARTICLEHEADING'].str.contains('Commissioning Data Sets')]"
   ]
  },
  {
   "cell_type": "markdown",
   "id": "bf2b5b54",
   "metadata": {},
   "source": [
    "## Examining the 'Extra' part of the metadata (for list pages). "
   ]
  },
  {
   "cell_type": "code",
   "execution_count": null,
   "id": "dad471ce",
   "metadata": {},
   "outputs": [],
   "source": [
    "list_pages = articles_displayed[articles_displayed['ARTICLETEMPLATEID'] == 7]"
   ]
  },
  {
   "cell_type": "code",
   "execution_count": null,
   "id": "fcf52eac",
   "metadata": {},
   "outputs": [],
   "source": [
    "print('''Number of List Pages: {}'''.format(len(list_pages)))"
   ]
  },
  {
   "cell_type": "code",
   "execution_count": null,
   "id": "ab6fb2d1",
   "metadata": {},
   "outputs": [],
   "source": [
    "list_pages.groupby('Extra.SHOWHIDEANCHORS').count()['ARTICLEDATE']"
   ]
  },
  {
   "cell_type": "code",
   "execution_count": null,
   "id": "a3da429e",
   "metadata": {},
   "outputs": [],
   "source": [
    "list_pages.groupby('Extra.INCLUDERELATEDFEATURES').count()['ARTICLEDATE']"
   ]
  },
  {
   "cell_type": "code",
   "execution_count": null,
   "id": "845aa22c",
   "metadata": {},
   "outputs": [],
   "source": [
    "list_pages.groupby('Extra.INCLUDECHILDARTICLES').count()['ARTICLEDATE']"
   ]
  },
  {
   "cell_type": "code",
   "execution_count": null,
   "id": "9460c20a",
   "metadata": {},
   "outputs": [],
   "source": [
    "list_pages.groupby('Extra.INCLUDERELATEDARTICLES').count()['ARTICLEDATE']"
   ]
  },
  {
   "cell_type": "code",
   "execution_count": null,
   "id": "90baa67b",
   "metadata": {},
   "outputs": [],
   "source": [
    "list_pages.groupby('Extra.INCLUDEMETADATAARTICLES').count()['ARTICLEDATE']"
   ]
  },
  {
   "cell_type": "code",
   "execution_count": null,
   "id": "483910bc",
   "metadata": {},
   "outputs": [],
   "source": [
    "list_pages.groupby('Extra.INCLUDEMETADATAMEDIA').count()['ARTICLEDATE']"
   ]
  },
  {
   "cell_type": "code",
   "execution_count": null,
   "id": "59ea81ed",
   "metadata": {},
   "outputs": [],
   "source": [
    "list_pages.groupby('Extra.INCLUDETEMPLATES').count()['ARTICLEDATE']"
   ]
  },
  {
   "cell_type": "code",
   "execution_count": null,
   "id": "bc64ddaa",
   "metadata": {},
   "outputs": [],
   "source": [
    "list_pages.groupby('Extra.INCLUDEMEDIATYPES').count()['ARTICLEDATE']"
   ]
  },
  {
   "cell_type": "code",
   "execution_count": null,
   "id": "d5f34d8d",
   "metadata": {},
   "outputs": [],
   "source": [
    "list_pages.groupby('Extra.COLUMNS').count()['ARTICLEDATE']"
   ]
  },
  {
   "cell_type": "markdown",
   "id": "33c07a88",
   "metadata": {},
   "source": [
    "### Articles Soon to Expire"
   ]
  },
  {
   "cell_type": "code",
   "execution_count": null,
   "id": "4d3d7e25",
   "metadata": {},
   "outputs": [],
   "source": [
    "articles_displayed.loc[:,'year_expiry'] = articles_displayed.loc[:, 'ARTICLEDISPLAYEDATE'].str[-19:-15]"
   ]
  },
  {
   "cell_type": "code",
   "execution_count": null,
   "id": "14384c7b",
   "metadata": {},
   "outputs": [],
   "source": [
    "articles_displayed.groupby('year_expiry').count()['ARCHIVEDATE']"
   ]
  },
  {
   "cell_type": "code",
   "execution_count": null,
   "id": "2646bb34",
   "metadata": {},
   "outputs": [],
   "source": [
    "articles_displayed[articles_displayed['year_expiry'] == '2020']['ARTICLETEMPLATEID']"
   ]
  },
  {
   "cell_type": "code",
   "execution_count": null,
   "id": "0e550143",
   "metadata": {},
   "outputs": [],
   "source": [
    "articles_displayed[articles_displayed['year_expiry'] == '2020']"
   ]
  },
  {
   "cell_type": "markdown",
   "id": "dcbe8c2e",
   "metadata": {},
   "source": [
    "### Articles Start Date"
   ]
  }
 ],
 "metadata": {},
 "nbformat": 4,
 "nbformat_minor": 5
}
