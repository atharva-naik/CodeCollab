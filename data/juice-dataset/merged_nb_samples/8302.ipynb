{
 "cells": [
  {
   "cell_type": "markdown",
   "id": "74b28e5a",
   "metadata": {},
   "source": [
    "# Visualizing Earnings Based On College Majors \n",
    "\n",
    "This is a guided project in my course at [Dataquest.io](dataquest.io), which intends to show my ability to visualise data with histograms, scatter plots, bar plots, with the libraries pandas, matplotlib and numpy.\n",
    "\n",
    "Feel free to discuss this with me!\n",
    "\n"
   ]
  },
  {
   "cell_type": "markdown",
   "id": "019cfabf",
   "metadata": {},
   "source": [
    "In this occassion I will work with the dataset `'recent-grads.csv'` on the job outcomes of students who graduated from college between 2010 and 2012 in the USA. The original data on job outcomes was released by [American Community Survey](https://www.census.gov/programs-surveys/acs/), which conducts surveys and aggregates the data. [FiveThirtyEight](https://github.com/fivethirtyeight/data/tree/master/college-majors) cleaned the dataset and released it on their Github repo."
   ]
  },
  {
   "cell_type": "code",
   "execution_count": null,
   "id": "e942299d",
   "metadata": {},
   "outputs": [],
   "source": [
    "import pandas as pd\n",
    "import matplotlib.pyplot as plt\n",
    "import numpy as np"
   ]
  },
  {
   "cell_type": "code",
   "execution_count": null,
   "id": "01e69b7f",
   "metadata": {},
   "outputs": [],
   "source": [
    "%matplotlib inline"
   ]
  },
  {
   "cell_type": "code",
   "execution_count": null,
   "id": "fc5179d7",
   "metadata": {},
   "outputs": [],
   "source": [
    "recent_grads = pd.read_csv('recent-grads.csv')"
   ]
  },
  {
   "cell_type": "code",
   "execution_count": null,
   "id": "fc450f05",
   "metadata": {},
   "outputs": [],
   "source": [
    "recent_grads.head(2)"
   ]
  },
  {
   "cell_type": "code",
   "execution_count": null,
   "id": "f5c208b3",
   "metadata": {},
   "outputs": [],
   "source": [
    "recent_grads.info()"
   ]
  },
  {
   "cell_type": "code",
   "execution_count": null,
   "id": "a0046089",
   "metadata": {},
   "outputs": [],
   "source": [
    "recent_grads.iloc[0]"
   ]
  },
  {
   "cell_type": "code",
   "execution_count": null,
   "id": "4d11701b",
   "metadata": {},
   "outputs": [],
   "source": [
    "recent_grads.tail(2)"
   ]
  },
  {
   "cell_type": "code",
   "execution_count": null,
   "id": "4b5dae27",
   "metadata": {},
   "outputs": [],
   "source": [
    "recent_grads.describe()"
   ]
  },
  {
   "cell_type": "markdown",
   "id": "98f2e54c",
   "metadata": {},
   "source": [
    "Let's count the number of rows in the dataframe `recent_grads` with [`shape`](https://pandas.pydata.org/pandas-docs/stable/generated/pandas.DataFrame.shape.html):"
   ]
  },
  {
   "cell_type": "code",
   "execution_count": null,
   "id": "bc383fca",
   "metadata": {},
   "outputs": [],
   "source": [
    "raw_data_count = recent_grads.shape[0]\n",
    "raw_data_count"
   ]
  },
  {
   "cell_type": "markdown",
   "id": "e5fb5b63",
   "metadata": {},
   "source": [
    "Let's drop the rows that contain missing values with [`dropna`](https://pandas.pydata.org/pandas-docs/stable/generated/pandas.DataFrame.dropna.html). By using `inplace = True` this will actually change the dataframe to one with NA entries dropped from it."
   ]
  },
  {
   "cell_type": "code",
   "execution_count": null,
   "id": "ec71dd52",
   "metadata": {},
   "outputs": [],
   "source": [
    "recent_grads.dropna(inplace=True)"
   ]
  },
  {
   "cell_type": "markdown",
   "id": "66bd1dee",
   "metadata": {},
   "source": [
    "So now we have 172 rows (only one row had empty cells)."
   ]
  },
  {
   "cell_type": "code",
   "execution_count": null,
   "id": "a282def5",
   "metadata": {},
   "outputs": [],
   "source": [
    "cleaned_data_count = recent_grads.shape[0]\n",
    "cleaned_data_count"
   ]
  },
  {
   "cell_type": "markdown",
   "id": "99d65857",
   "metadata": {},
   "source": [
    "Now let's make some exploratory plots with the method `DataFrame.plot()`.\n",
    "\n",
    "Remember that each row represents a different major in college.\n",
    "\n",
    "`Median` is the median salary of full-time, year-round workers\n",
    "\n",
    "`Full_time` is the number of full time employed (35 hours or more per week)\n",
    "\n",
    "`Sample_size` sample size (unweighted) of full-time for a major\n",
    "\n",
    "`ShareWomen` is women as share of total\n",
    "\n",
    "\n",
    "\n",
    "Rank - Rank by median earnings (the dataset is ordered by this column).\n",
    "\n",
    "Major_code - Major code.\n",
    "\n",
    "Major - Major description.\n",
    "\n",
    "Major_category - Category of major.\n",
    "\n",
    "Total - Total number of people with major.\n",
    "\n",
    "Sample_size - Sample size (unweighted) of full-time.\n",
    "\n",
    "Men - Male graduates.\n",
    "\n",
    "Women - Female graduates.\n",
    "\n",
    "ShareWomen - Women as share of total.\n",
    "\n",
    "Employed - Number employed.\n",
    "\n",
    "Median - Median salary of full-time, year-round workers.\n",
    "\n",
    "Low_wage_jobs - Number in low-wage service jobs.\n",
    "\n",
    "Full_time - Number employed 35 hours or more.\n",
    "\n",
    "Part_time - Number employed less than 35 hours.\n"
   ]
  },
  {
   "cell_type": "code",
   "execution_count": null,
   "id": "07672577",
   "metadata": {},
   "outputs": [],
   "source": [
    "recent_grads.plot(x = 'Sample_size', y = 'Median', \n",
    "                  kind = 'scatter', title = 'Median vs Sample Size')\n"
   ]
  },
  {
   "cell_type": "code",
   "execution_count": null,
   "id": "831bb30f",
   "metadata": {},
   "outputs": [],
   "source": [
    "recent_grads.plot(x = 'Sample_size', y = 'Unemployment_rate', \n",
    "                  kind = 'scatter',\n",
    "                  title = 'Unemployment Rate vs Sample Size')"
   ]
  },
  {
   "cell_type": "code",
   "execution_count": null,
   "id": "6eb92d7f",
   "metadata": {},
   "outputs": [],
   "source": [
    "recent_grads.plot(x = 'Full_time', y = 'Median', \n",
    "                  kind = 'scatter', \n",
    "                  title = 'Median vs Full_time')"
   ]
  },
  {
   "cell_type": "markdown",
   "id": "277fedf9",
   "metadata": {},
   "source": [
    "Does this show a relationship between the median salaries and the number of full-time employees?\n",
    "\n",
    "I'm not sure. It seems like most majors have a low-end number of full time employees with a bottom-end mean salary.\n",
    "\n"
   ]
  },
  {
   "cell_type": "code",
   "execution_count": null,
   "id": "552845ee",
   "metadata": {},
   "outputs": [],
   "source": [
    "recent_grads.plot(x = 'Unemployment_rate', y = 'ShareWomen', \n",
    "                  kind = 'scatter', \n",
    "                  title = 'Share women vs Unemployment Rate')"
   ]
  },
  {
   "cell_type": "code",
   "execution_count": null,
   "id": "62863c5a",
   "metadata": {},
   "outputs": [],
   "source": [
    "recent_grads.plot(x = 'Men', y = 'Median', \n",
    "                  kind = 'scatter', \n",
    "                  title = 'Median vs Men')"
   ]
  },
  {
   "cell_type": "code",
   "execution_count": null,
   "id": "e1ff6b0b",
   "metadata": {},
   "outputs": [],
   "source": [
    "recent_grads.plot(x = 'Women', y = 'Median', \n",
    "                  kind = 'scatter', \n",
    "                  title = 'Median vs Women')"
   ]
  },
  {
   "cell_type": "markdown",
   "id": "9279ac2d",
   "metadata": {},
   "source": [
    "Let's explore the relation between the number of graduates in a major and their salary:"
   ]
  },
  {
   "cell_type": "code",
   "execution_count": null,
   "id": "95ef65b6",
   "metadata": {},
   "outputs": [],
   "source": [
    "recent_grads.plot(x = 'Total', y = 'Median', \n",
    "                  kind = 'scatter', \n",
    "                  title = 'Median vs Total')"
   ]
  },
  {
   "cell_type": "markdown",
   "id": "7659c851",
   "metadata": {},
   "source": [
    "We can see that the major that has the highest salary has a few graduates.\n",
    "\n",
    "\n",
    "Lower salaries are distributed across majors with small and large amounts of graduates."
   ]
  },
  {
   "cell_type": "markdown",
   "id": "321afdc5",
   "metadata": {},
   "source": [
    "Let's select the majors with a majority of women in it (that is, 50% or more are women, i.e. `ShareWomen`>0.5).\n"
   ]
  },
  {
   "cell_type": "code",
   "execution_count": null,
   "id": "0a0bb176",
   "metadata": {},
   "outputs": [],
   "source": [
    "ax = recent_grads.plot(y = 'Median', \n",
    "                       x = 'ShareWomen', \n",
    "                      kind = 'scatter', \n",
    "                      title = 'Share women vs Median')\n",
    "\n",
    "plt.axvline(x=0.5, color='r', linestyle='-')\n",
    "plt.axhline(y = recent_grads['Median'].mean(), \n",
    "            color = 'r', linestyle = '-')"
   ]
  },
  {
   "cell_type": "markdown",
   "id": "1d3e7912",
   "metadata": {},
   "source": [
    "It seems like students that majored in subjects that were majority female do not earn more than the majors where the majority of students are men. Majority women means that more than 50% graduates are women.\n",
    "\n",
    "The red horizontal line marks the mean of the median salaries for full-time working graduates.\n",
    "\n",
    "The red vertical line marks 0.5 of the column ShareWomen, which is the division between the zone where majority are men and those majors where majority are men."
   ]
  },
  {
   "cell_type": "markdown",
   "id": "9e0547ca",
   "metadata": {},
   "source": [
    "## Histogram visuals\n",
    "\n"
   ]
  }
 ],
 "metadata": {},
 "nbformat": 4,
 "nbformat_minor": 5
}
