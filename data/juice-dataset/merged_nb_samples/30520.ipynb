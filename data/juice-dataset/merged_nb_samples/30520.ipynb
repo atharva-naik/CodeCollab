{
 "cells": [
  {
   "cell_type": "markdown",
   "id": "358afbe5",
   "metadata": {},
   "source": [
    "## Using Jupyter/IPython for Teaching\n",
    "\n",
    "<p xmlns:dct=\"http://purl.org/dc/terms/\">\n",
    "  <a rel=\"license\"\n",
    "     href=\"http://creativecommons.org/publicdomain/zero/1.0/\">\n",
    "    <img src=\"http://i.creativecommons.org/p/zero/1.0/88x31.png\" style=\"border-style: none;\" alt=\"CC0\" />\n",
    "  </a>\n",
    "</p>"
   ]
  },
  {
   "cell_type": "markdown",
   "id": "ca296421",
   "metadata": {},
   "source": [
    "This notebook is meant to be a slide show.\n",
    "If it doesn't look like a slide show, you probably have to install [RISE](https://github.com/damianavila/RISE/):\n",
    "\n",
    "    python3 -m pip install rise --user\n",
    "    python3 -m notebook.nbextensions install --python rise --user\n",
    "    python3 -m notebook.nbextensions enable --python rise --user\n",
    "\n",
    "If it doesn't work, you might have to use `python` instead of `python3`.\n",
    "\n",
    "After the installation (and after re-loading the Jupyter notebook), you will have a new item in the toolbar which allows you to start the presentation."
   ]
  },
  {
   "cell_type": "markdown",
   "id": "a4029af7",
   "metadata": {},
   "source": [
    "### What is Jupyter?\n",
    "\n",
    "* formerly known as *IPython* (\"interactive Python\")\n",
    "* an interactive terminal and a browser-based notebook\n",
    "* https://jupyter.org/"
   ]
  },
  {
   "cell_type": "markdown",
   "id": "acf9cc6b",
   "metadata": {},
   "source": [
    "* can be used with different programming languages:\n",
    "\n",
    "  * **Ju**lia (http://julialang.org/)\n",
    "  \n",
    "  * **Pyt**hon (https://www.python.org/)\n",
    "  \n",
    "  * **R** (http://www.r-project.org/)\n",
    "  \n",
    "  * and many others ..."
   ]
  },
  {
   "cell_type": "markdown",
   "id": "fb2272b6",
   "metadata": {},
   "source": [
    "### What's so great about the Jupyter notebook?\n",
    "\n",
    "* mix of text, code and results\n",
    "\n",
    "* media\n",
    "\n",
    "  * images, audio, video\n",
    "  \n",
    "  * anything a web browser can display\n",
    "\n",
    "* equations"
   ]
  },
  {
   "cell_type": "markdown",
   "id": "d69cde5f",
   "metadata": {},
   "source": [
    "### One notebook, many uses\n",
    "\n",
    "* interactive local use\n",
    "\n",
    "* static online HTML pages on http://nbviewer.jupyter.org/\n",
    "\n",
    "* interactive online use at https://mybinder.org/\n",
    "\n",
    "* nbconvert\n",
    "\n",
    "  * HTML\n",
    "  \n",
    "  * $\\mathrm{\\LaTeX}$ $\\to$ PDF\n",
    "  \n",
    "  * `.py` files\n",
    "  \n",
    "  * ...\n",
    "\n",
    "* slide shows!"
   ]
  },
  {
   "cell_type": "markdown",
   "id": "ad6a4310",
   "metadata": {},
   "source": [
    "### HTML5 `<audio>` tag\n",
    "\n",
    "<audio src=\"data/singing.wav\" controls>Your browser does not support the audio element.</audio>\n",
    "![CC BY-SA](data/by-sa.png)[singing.wav](data/singing.wav) by [www.openairlib.net](http://www.openairlib.net/anechoicdb/content/operatic-voice); [CC BY-SA](http://creativecommons.org/licenses/by-sa/3.0/).\n"
   ]
  },
  {
   "cell_type": "markdown",
   "id": "ee49ce22",
   "metadata": {},
   "source": [
    "### Loading Audio Data in Python"
   ]
  },
  {
   "cell_type": "code",
   "execution_count": null,
   "id": "45d561cb",
   "metadata": {},
   "outputs": [],
   "source": [
    "import soundfile as sf\n",
    "sig, fs = sf.read('data/singing.wav')"
   ]
  },
  {
   "cell_type": "markdown",
   "id": "83da2214",
   "metadata": {},
   "source": [
    "### Plotting"
   ]
  },
  {
   "cell_type": "code",
   "execution_count": null,
   "id": "2ffa75d2",
   "metadata": {},
   "outputs": [],
   "source": [
    "%matplotlib inline\n",
    "import matplotlib.pyplot as plt"
   ]
  },
  {
   "cell_type": "code",
   "execution_count": null,
   "id": "09c1c4fe",
   "metadata": {},
   "outputs": [],
   "source": [
    "import numpy as np"
   ]
  },
  {
   "cell_type": "code",
   "execution_count": null,
   "id": "16e401a8",
   "metadata": {},
   "outputs": [],
   "source": [
    "t = np.arange(len(sig)) / fs\n",
    "plt.plot(t, sig)\n",
    "plt.xlabel('time / seconds')\n",
    "plt.grid()"
   ]
  },
  {
   "cell_type": "markdown",
   "id": "55cce2dc",
   "metadata": {},
   "source": [
    "### Spectrogram"
   ]
  },
  {
   "cell_type": "markdown",
   "id": "077c595c",
   "metadata": {},
   "source": [
    "Squared magnitude of the Short Time Fourier Transform (STFT)\n",
    "\n",
    "$$|\\text{STFT}\\{x[n]\\}(m, \\omega)|^2 = \\left| \\sum_{n=-\\infty}^\\infty x[n]w[n-m] \\text{e}^{-j \\omega n}\\right|^2$$"
   ]
  },
  {
   "cell_type": "code",
   "execution_count": null,
   "id": "29ecf0f1",
   "metadata": {},
   "outputs": [],
   "source": [
    "plt.specgram(sig, Fs=fs)\n",
    "plt.ylabel('frequency / Hz')\n",
    "plt.xlabel('time / seconds')\n",
    "plt.ylim(0, 10000);"
   ]
  },
  {
   "cell_type": "markdown",
   "id": "97daa892",
   "metadata": {},
   "source": [
    "## Symbolic Math"
   ]
  }
 ],
 "metadata": {},
 "nbformat": 4,
 "nbformat_minor": 5
}
