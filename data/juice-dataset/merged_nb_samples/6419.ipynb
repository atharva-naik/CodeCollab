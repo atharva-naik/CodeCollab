{
 "cells": [
  {
   "cell_type": "markdown",
   "id": "7d80c806",
   "metadata": {},
   "source": [
    "            \n",
    "# Project: the Movie Database(TMDb) Investigation project\n",
    " \n",
    "## Table of Contents\n",
    "<ul>\n",
    "<li><a href=\"#intro\">Introduction</a></li>\n",
    "    \n",
    "<li><a href=\"#wrangling\">Data Wrangling</a></li>\n",
    "    <ul>\n",
    "        <li><a href=\"#Gen_Prop\">General Properties</a></li>\n",
    "        <li><a href=\"#Data_Clean\">Initial Data Cleaning</a></li>\n",
    "    </ul>     \n",
    "<li><a href=\"#eda\">Exploratory Data Analysis</a></li>\n",
    "    <ul>\n",
    "        <li><a href=\"#Question_1\">Question 1</a></li>\n",
    "        <li><a href=\"#Question_2\">Question 2</a></li>\n",
    "        <li><a href=\"#Question_3\">Question 3</a></li>\n",
    "        <li><a href=\"#Question_4\">Question 4</a></li> \n",
    "    </ul>     \n",
    "<li><a href=\"#conclusions\">Conclusions</a></li>\n",
    "</ul>\n",
    "\n",
    "<a id='intro'></a>\n",
    "## Introduction\n",
    "\n",
    "For this project, we will be investigating the TMDb dataset provided by Udacity and Kaggle. This dataset was chosen because of my interest in movies and I wanted to take on a challenge that would help me further understand the Python data packages. I will be observing how the movie industry changed over the years, the most successful directors in the industry, and see what genres are most common in the industry.\n",
    "\n",
    "We will first start off by importing the packages that we will be using throughout the project."
   ]
  },
  {
   "cell_type": "code",
   "execution_count": null,
   "id": "82753c0b",
   "metadata": {},
   "outputs": [],
   "source": [
    "import pandas as pd\n",
    "import numpy as np\n",
    "import matplotlib.pyplot as plt\n",
    "import seaborn as sns\n",
    "% matplotlib inline\n"
   ]
  },
  {
   "cell_type": "markdown",
   "id": "ad2f67df",
   "metadata": {},
   "source": [
    "<a id='wrangling'></a>\n",
    "## Data Wrangling\n",
    "\n",
    "> **Tip**: In this section of the report, you will load in the data, check for cleanliness, and then trim and clean your dataset for analysis. Make sure that you document your steps carefully and justify your cleaning decisions.\n",
    "\n",
    "<a id='Gen_Prop'></a>\n",
    "### General Properties \n",
    "\n",
    "We are going to start off by loading our data into a dataframe. We will print out a few values that inspect the datatypes and characteristics of the data"
   ]
  },
  {
   "cell_type": "code",
   "execution_count": null,
   "id": "fc7fa21e",
   "metadata": {},
   "outputs": [],
   "source": [
    "# Load your data and print out a few lines. Perform operations to inspect data\n",
    "#   types and look for instances of missing or possibly errant data.\n",
    "df =pd.read_csv('tmdb-movies.csv', encoding = \"UTF-8\")\n",
    "df.head(3)"
   ]
  },
  {
   "cell_type": "code",
   "execution_count": null,
   "id": "ec0f933e",
   "metadata": {},
   "outputs": [],
   "source": [
    "df.describe()"
   ]
  },
  {
   "cell_type": "markdown",
   "id": "c8cc49f6",
   "metadata": {},
   "source": [
    "The column titles seem to be self-explanatory. However, the popularity index seemed to be an index that TMDb has generated with their calculation. Going through the TMDb support page, I found an answer from their forum. \n",
    "\n",
    "Popularity is a value that gets updated daily and takes a number of things into account like views, number of user ratings/watchlist/favourite additions and release date.\n",
    "\n",
    "<cite>Elizabeth Jennings- https://www.themoviedb.org/talk/56e614a2c3a3685aa4008121?language=en</cite>\n",
    "\n",
    "In order to confirm that answer, I generated an correlation matrix and observed its characteristics through an heat map."
   ]
  },
  {
   "cell_type": "code",
   "execution_count": null,
   "id": "387c1fae",
   "metadata": {},
   "outputs": [],
   "source": [
    "corr =df.corr()\n",
    "correlation_matrix =sns.heatmap(corr, xticklabels=corr.columns.values,yticklabels=corr.columns.values)\n"
   ]
  },
  {
   "cell_type": "markdown",
   "id": "4ef7bcad",
   "metadata": {},
   "source": [
    "- We confirmed popularity being uncorrelated from metrics such as time(release date, release_year) and runtime. \n",
    "- Revenue is more correlated than budget, so we can assume that the movie's success is also important.\n",
    "- Vote_count is the most closely correlated value. \n",
    "\n",
    "<a id='Data_Clean'></a>\n",
    "### Data Cleaning \n",
    "\n",
    "We can see from a glance a few characteristics about this dataset. \n",
    "- Special Characters: We have characters '|' that are meant to split the values into multiple values in columns 'cast', 'genre', and 'title'.\n",
    "- Null values: As the database contains modern information such as websites, there are null values for the older movies.\n",
    "- Different Datatypes: The columns that are meant to be an equivalent of another such as 'revenue' and 'revenue_adj' are not in the same datatype.\n",
    "\n",
    "#### Removal of Unused Columns\n",
    "We will do a preliminary removal of the data columns that we will not be using throughout the dataset investigation."
   ]
  },
  {
   "cell_type": "code",
   "execution_count": null,
   "id": "b205e111",
   "metadata": {},
   "outputs": [],
   "source": [
    "# As we will not be using the imdb_id, homepage, keywords, and taglines, we will drop these values.\n",
    "df.drop(['homepage', 'keywords', 'tagline', 'imdb_id', 'production_companies', 'overview', 'runtime'], axis=1, inplace=True)"
   ]
  },
  {
   "cell_type": "markdown",
   "id": "9b55ae6b",
   "metadata": {},
   "source": [
    "#### Check Duplicates and remove them\n",
    "We are expect every value in the dataframe to have a unique id. So we will check duplicates in column id and remove them."
   ]
  },
  {
   "cell_type": "markdown",
   "id": "148775c6",
   "metadata": {},
   "source": [
    "<a id='eda'></a>\n",
    "\n",
    "## Explanatory Data Analysis \n",
    "### Question 1 - Top Grossing Movie Title Each Year\n",
    "\n",
    "<a id='Question_1'></a>\n",
    "#### Data Preparation\n",
    "Now we will answer our questions about this dataset. We are going to start out by observing success of movies in perspective of time. We want to find the top grossing movie each year, so we will do additional data cleaning from the general dataframe we created in the previous section. "
   ]
  },
  {
   "cell_type": "code",
   "execution_count": null,
   "id": "55b20838",
   "metadata": {},
   "outputs": [],
   "source": [
    "# We will create a copy of our dataframe for actors count. We will remove actors with null data in our analysis for this study. \n",
    "df2 = df.copy()\n",
    "df2.drop(['id','release_date', 'director', 'cast', 'vote_count', 'vote_average','popularity' ], axis=1, inplace=True)\n",
    "df2 = df2.sort_values('release_year')\n",
    "max_rev_adj = df2.groupby(['release_year'])['revenue_adj'].transform(max) == df2['revenue_adj']\n",
    "max_rev = df2.groupby(['release_year'])['revenue'].transform(max) == df2['revenue']\n",
    "df2[max_rev_adj].head()"
   ]
  },
  {
   "cell_type": "markdown",
   "id": "68483925",
   "metadata": {},
   "source": [
    "We found the top grossing titles for each year using a group_by function in terms of revenue and adjusted revenue. We will now prepare our data for visualization to see where the biggest success in movies happened throughout the years."
   ]
  },
  {
   "cell_type": "code",
   "execution_count": null,
   "id": "1620a88b",
   "metadata": {},
   "outputs": [],
   "source": [
    "# We will save our data in lists for presentation\n",
    "x_year = []\n",
    "y_revenue = []\n",
    "y_revenue_adj = []\n",
    "for x in range(1960,2016):\n",
    "    x_year.append(x)\n",
    "for y in df2[max_rev]['revenue']:\n",
    "    y_revenue.append(y)\n",
    "for y in df2[max_rev_adj]['revenue_adj']:\n",
    "    y_revenue_adj.append(y)"
   ]
  },
  {
   "cell_type": "markdown",
   "id": "23e302c1",
   "metadata": {},
   "source": [
    "#### Data Visualization\n",
    "\n",
    "We will generate bar graphs based on revenue and adjusted revenue."
   ]
  },
  {
   "cell_type": "code",
   "execution_count": null,
   "id": "e4253c3a",
   "metadata": {},
   "outputs": [],
   "source": [
    "fig=plt.figure(figsize=(18,10))\n",
    "fig.suptitle(\"Top Grossing Movie Each Year\", fontsize=14)\n",
    "\n",
    "ax1 = plt.subplot(221)\n",
    "ax2 = plt.subplot(222)\n",
    "ax1.bar(x_year,y_revenue)\n",
    "ax2.bar(x_year,y_revenue_adj)\n",
    "ax1.set_title(\"Revenue, in 10 Billion, USD\")\n",
    "ax2.set_title(\"Revenue Adjusted, in 10 Billion, USD\")\n",
    "\n"
   ]
  },
  {
   "cell_type": "markdown",
   "id": "1239b127",
   "metadata": {},
   "source": [
    "Looking at the revenue chart, we notice some noteworthy success in movies that overacheived againsts their peers in the 1990's, the 2000's, and the 2010's. From reccollection, we can assume that these movie titles are the 'Titanic', 'Avatar', and 'Star Wars: The Force Awakens'. \n",
    "\n",
    "However, if we look to the revenue adjusted to current currency, we can see that there are some noteworthy success in the 1970's that are almost par to the success of 'Avatar' as well. \n",
    "\n",
    "This leads us to our second question as we broaden our scope, what are the top grossing movie titles per decade."
   ]
  },
  {
   "cell_type": "markdown",
   "id": "a2b80a28",
   "metadata": {},
   "source": [
    "<a id='Question_2'></a>\n",
    "### Question 2 - Top Grossing Movie Title Each Decade\n",
    "\n",
    "#### Data Preparation\n",
    "Since we already have a dataframe that we adjusted based on time. We will use the dataframe we used from our previous question. \n",
    "We will start off by importing a function to generate the specific decades of each movie."
   ]
  },
  {
   "cell_type": "code",
   "execution_count": null,
   "id": "2eb250e5",
   "metadata": {},
   "outputs": [],
   "source": [
    "def decade_converter(x):\n",
    "    decade = x%1960\n",
    "    if(decade < 10):\n",
    "        x= 1960\n",
    "    elif(decade < 20):\n",
    "        x= 1970\n",
    "    elif(decade < 30):\n",
    "        x= 1980\n",
    "    elif(decade < 40):\n",
    "        x= 1990\n",
    "    elif(decade < 50):\n",
    "        x= 2000\n",
    "    elif(decade < 60):\n",
    "        x= 2010\n",
    "    return x"
   ]
  },
  {
   "cell_type": "markdown",
   "id": "59cfa6a9",
   "metadata": {},
   "source": [
    "Using the function that we created just above, we will assign the movie decades to create a new column in our time dataframe."
   ]
  },
  {
   "cell_type": "code",
   "execution_count": null,
   "id": "219f91ee",
   "metadata": {},
   "outputs": [],
   "source": [
    "ans = []\n",
    "for x in df2['release_year']:\n",
    "    ans.append(decade_converter(x))\n",
    "df2=df2.assign(release_decade=ans)\n",
    "max_rev_adj = df2.groupby(['release_decade'])['revenue_adj'].transform(max) == df2['revenue_adj']\n",
    "max_rev = df2.groupby(['release_decade'])['revenue'].transform(max) == df2['revenue']\n",
    "df2 = df2[max_rev]\n",
    "df2[\"movie_decade\"] = df2[\"original_title\"].map(str) + \" (\"+ df2[\"release_year\"].astype(str) + \")\""
   ]
  },
  {
   "cell_type": "markdown",
   "id": "c618fbf5",
   "metadata": {},
   "source": [
    "#### Data Visualization\n",
    "\n",
    "We will now make a bar graph that will visualize the top grossing movies of each decade in terms of revenue and adjusted revenue."
   ]
  },
  {
   "cell_type": "code",
   "execution_count": null,
   "id": "8e6633f9",
   "metadata": {},
   "outputs": [],
   "source": [
    "df2.plot(kind='barh', y= 'revenue', x='movie_decade',legend = False)\n",
    "plt.title(\"Top Grossing Movie Each Decade\")\n",
    "plt.ylabel(\"Director (Movie Count)\")\n",
    "plt.xlabel(\"Revenue (in Billions, USD)\")\n",
    "\n",
    "df2.plot(kind='barh', y= 'revenue_adj', x='movie_decade',legend = False)\n",
    "plt.ylabel(\"Director (Movie Count)\")\n",
    "plt.xlabel(\"Revenue Adjusted (in Billions, USD)\")"
   ]
  },
  {
   "cell_type": "markdown",
   "id": "5023d50a",
   "metadata": {},
   "source": [
    "Our observations from Question 1 - Data Visualization seem to be accurate. If we look at the success of movies in revenue, modern movies seem to be more noteworthy than older ones. However, if we look at movies in adjusted revenue, we can see that older movies such as Star Wars had remarkable successes as well, showing how much of a cultural sensation the movies were in their time period. \n",
    "\n",
    "<a id='Question_3'></a>\n",
    "### Question 3 - Top 10 Directors\n",
    "\n",
    "#### Data Preparation\n",
    "For this question, we will now look at the top grossing directors in the film industry. Like we did for our time-based dataframe, we will perform additional data cleaning from the general dataframe. \n"
   ]
  },
  {
   "cell_type": "code",
   "execution_count": null,
   "id": "fdb27fa8",
   "metadata": {},
   "outputs": [],
   "source": [
    "# We will create a copy of our dataframe for directors count. \n",
    "df3 = df.copy()\n",
    "\n",
    "# We will remove directors with null data in our analysis for this study. \n",
    "df3.dropna(subset=['director'], inplace=True)\n",
    "df3 = df3.groupby('director').agg({'popularity':'max','revenue': 'sum','revenue_adj': 'sum', 'id': 'count','vote_average': 'median'})\n",
    "df3 = df3.rename(index=str, columns={\"id\": \"movie_count\"})\n",
    "\n",
    "rev_df3 = df3.sort_values('revenue', ascending = False)\n",
    "rev_df3 = rev_df3[:10]\n",
    "rev_df3 = rev_df3.reset_index().sort_values('revenue', ascending= True)\n",
    "rev_df3.head()"
   ]
  },
  {
   "cell_type": "code",
   "execution_count": null,
   "id": "b127c58e",
   "metadata": {},
   "outputs": [],
   "source": [
    "# We are going to create a new column for the director's movie count, so that we can use that as our x-axis labels.\n",
    "rev_df3[\"director_count\"] = rev_df3[\"director\"].map(str) + \" (\"+ rev_df3[\"movie_count\"].astype(str) + \")\""
   ]
  },
  {
   "cell_type": "markdown",
   "id": "b578c63f",
   "metadata": {},
   "source": [
    "#### Data Visualization\n",
    "\n",
    "We will now make a bar graph that will visualize the top grossing directors in terms of gross revenue and adjusted revenue."
   ]
  },
  {
   "cell_type": "code",
   "execution_count": null,
   "id": "9cb31ecb",
   "metadata": {},
   "outputs": [],
   "source": [
    "# We will plot our graphs.\n",
    "\n",
    "rev_df3.plot(kind='barh', y= 'revenue', x='director_count',legend = False,xlim= (0,1.7* 10**10))\n",
    "plt.ylabel(\"Director (Movie Count)\")\n",
    "plt.xlabel(\"Revenue (in 10 Billions, USD)\")\n",
    "plt.title(\"Top 10 Grossing Directors\",)\n",
    "\n",
    "rev_df3.plot(kind='barh', y= 'revenue_adj', x='director_count',legend = False, xlim= (0,1.7* 10**10))\n",
    "plt.ylabel(\"Director (Movie Count)\")\n",
    "plt.xlabel(\"Revenue Adjusted (in 10 Billions, USD)\")\n"
   ]
  },
  {
   "cell_type": "markdown",
   "id": "6864c5fa",
   "metadata": {},
   "source": [
    "From a glance, we can make some clear observations.\n",
    "- We can see that many of the top grossing directors has filmed more than 10 films other than David Yates.\n",
    "    - David Yates only filmed independent and TV films prior to the Harry Potter series. So we can see that the success of the Harry Potter Series helped him become one of the top grossing directors in the industry. \n",
    "    \n",
    "- We can see that Steven Spielberg has grossed more than anyone in the filming industry. However, he also has the largest filmography among the directors.\n",
    "\n",
    "<a id='Question_4'></a>\n",
    "### Question 4 - What is the genre distribution?\n",
    "\n",
    "#### Data Preparation\n",
    "For this question, we will now look at the most frequent genres in the film industry. \n",
    "Like we mentioned in our data-wrangling process, the genres column uses '|' in order to separate the multiple values. \n",
    "We will perform additional data cleaning from the general dataframe. "
   ]
  },
  {
   "cell_type": "code",
   "execution_count": null,
   "id": "6e6c8eb1",
   "metadata": {},
   "outputs": [],
   "source": [
    "# We will create a copy of our original dataframe for directors count. \n",
    "df4_pre = df.copy()\n",
    "\n",
    "# We drop the null from the genres.\n",
    "df4_pre.dropna(subset=['genres'], inplace=True)\n",
    "df4 = df4_pre['genres']\n",
    "\n",
    "\n",
    "# We will use a dictionary to keep count of the unique genres.\n",
    "genre_count = dict()\n",
    "\n",
    "for x in df4:\n",
    "    genre_list = x.split('|')\n",
    "    for genre in genre_list:\n",
    "\n",
    "        if genre in genre_count:\n",
    "            genre_count[genre] += 1\n",
    "        else:\n",
    "            genre_count[genre] = 1\n",
    "\n",
    "# Convert the dictionary into a list and sort it based on its value.\n",
    "genre_count =sorted(genre_count.items(), key=lambda x: x[1], reverse= True)\n",
    "genre_df = pd.DataFrame(genre_count, columns=['Genre', 'Genre_count'])\n",
    "genre_df\n"
   ]
  },
  {
   "cell_type": "markdown",
   "id": "3de72d7e",
   "metadata": {},
   "source": [
    "As we have around 20 unique types of genres, we think its best to use a pie chart to clearly visualize the distribution. Since 20 slices will be too much, we will keep the top 9 genres and combine the others into an 'others' category."
   ]
  },
  {
   "cell_type": "code",
   "execution_count": null,
   "id": "a07cad22",
   "metadata": {},
   "outputs": [],
   "source": [
    "df[df.duplicated(['id'],keep=False)]"
   ]
  },
  {
   "cell_type": "markdown",
   "id": "c8d29771",
   "metadata": {},
   "source": [
    "Check if the duplicates are successfully dropped from the database"
   ]
  },
  {
   "cell_type": "code",
   "execution_count": null,
   "id": "d1c6e341",
   "metadata": {},
   "outputs": [],
   "source": [
    "df.drop_duplicates(['id'],inplace = True)\n",
    "df[df.duplicated(['id'],keep=False)]"
   ]
  },
  {
   "cell_type": "markdown",
   "id": "27eb7b34",
   "metadata": {},
   "source": [
    "We do not have any duplicates in our dataset now.\n",
    "\n",
    "### Data Cleaning - Change Datatype\n",
    "We will change the datatype of the float values into integer values for cleaner representation.\n"
   ]
  },
  {
   "cell_type": "code",
   "execution_count": null,
   "id": "fa2092a1",
   "metadata": {},
   "outputs": [],
   "source": [
    "# Since budget and revenue were in integer values, we will change the adjusted values to the datatype to integers\n",
    "df['budget_adj'] = df['budget_adj'].astype(int)\n",
    "df['revenue_adj'] = df['revenue_adj'].astype(int)\n"
   ]
  },
  {
   "cell_type": "code",
   "execution_count": null,
   "id": "339d3d94",
   "metadata": {},
   "outputs": [],
   "source": [
    "# Assign parameters\n",
    "topN = 9 \n",
    "other_count =0\n",
    "\n",
    "# Combine the others category\n",
    "for x in range(topN+1,len(genre_df)):\n",
    "    other_count += genre_df['Genre_count'][x]\n",
    "genre_other_df = pd.DataFrame([[\"Others\", other_count]], columns=['Genre', 'Genre_count'])\n",
    "\n",
    "# Concatenate the original date from up to the topN and append the others dataframe\n",
    "genre_df_conc = genre_df[:topN].append(genre_other_df, ignore_index=True)"
   ]
  },
  {
   "cell_type": "markdown",
   "id": "bcb31b0e",
   "metadata": {},
   "source": [
    "#### Data Visualization\n",
    "\n",
    "We will now make a pie chart and a table to see the individual counts of each unique genre."
   ]
  }
 ],
 "metadata": {},
 "nbformat": 4,
 "nbformat_minor": 5
}
