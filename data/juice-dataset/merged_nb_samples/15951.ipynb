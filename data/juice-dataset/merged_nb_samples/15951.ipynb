{
 "cells": [
  {
   "cell_type": "code",
   "execution_count": null,
   "id": "15375253",
   "metadata": {},
   "outputs": [],
   "source": [
    "top_urls_F03_sum = top_urls_F03.sum()\n",
    "top_urls_F03_rank = []\n",
    "top_urls_F03_url = []\n",
    "top_urls_F03_count = []\n",
    "top_urls_F03_percentage = []\n",
    "\n",
    "i = 1\n",
    "for index, value in top_urls_F03.iteritems():\n",
    "    top_urls_F03_rank.append(i)\n",
    "    top_urls_F03_url.append(index)\n",
    "    top_urls_F03_count.append(value)\n",
    "    top_urls_F03_percentage.append((value/top_urls_F03_sum)*100)\n",
    "    i += 1\n",
    "    \n",
    "data = {'rank': top_urls_F03_rank,'url':top_urls_F03_url, 'value': top_urls_F03_count, 'percentage': top_urls_F03_percentage}\n",
    "df_top_urls_F03 = pd.DataFrame(data=data)\n",
    "display(HTML(df_top_urls_F03[:10].to_html()))"
   ]
  },
  {
   "cell_type": "code",
   "execution_count": null,
   "id": "4a317dfc",
   "metadata": {},
   "outputs": [],
   "source": [
    "compare_list = []\n",
    "for index, row in df_top_urls_S03.iterrows():\n",
    "    if row['rank'] <= 50:\n",
    "        compare_list.append(compareRows(row, df_top_urls_F03))\n",
    "                    \n",
    "                \n",
    "data = {'rank': top_urls_S03_rank[:50],'url':top_urls_S03_url[:50], 'value': top_urls_S03_count[:50], 'percentage': top_urls_S03_percentage[:50],\n",
    "        'difference (rank / percentage / diff)': compare_list}\n",
    "df_top_urls_S03_F03_comparison = pd.DataFrame(data=data)\n",
    "df_top_urls_S03_F03_comparison.set_index(keys='rank', inplace=True)\n",
    "df_top_urls_S03_F03_comparison.style.applymap(colorComparisonField)\n",
    "\n",
    "s = df_top_urls_S03_F03_comparison.style.applymap(colorComparisonField)\n",
    "s.set_caption(\"Calendar Week 03: Sampled URLs x Filtered URLs \")\n",
    "s.set_table_styles(table_styles)"
   ]
  },
  {
   "cell_type": "code",
   "execution_count": null,
   "id": "6de90ade",
   "metadata": {},
   "outputs": [],
   "source": [
    "compare_list = []\n",
    "for index, row in df_top_urls_F03.iterrows():\n",
    "    if row['rank'] <= 50:\n",
    "        compare_list.append(compareRows(row, df_top_urls_S03))\n",
    "                    \n",
    "                \n",
    "data = {'rank': top_urls_F03_rank[:50],'url':top_urls_F03_url[:50], 'value': top_urls_F03_count[:50], 'percentage': top_urls_F03_percentage[:50],\n",
    "        'difference (rank / percentage / diff)': compare_list}\n",
    "df_top_urls_F03_S03_comparison = pd.DataFrame(data=data)\n",
    "df_top_urls_F03_S03_comparison.set_index(keys='rank', inplace=True)\n",
    "df_top_urls_F03_S03_comparison.style.applymap(colorComparisonField)\n",
    "\n",
    "s = df_top_urls_F03_S03_comparison.style.applymap(colorComparisonField)\n",
    "s.set_caption(\"Calendar Week 03: Filtered URLs x Sampled URLs \")\n",
    "s.set_table_styles(table_styles)"
   ]
  },
  {
   "cell_type": "markdown",
   "id": "8feb2f06",
   "metadata": {},
   "source": [
    "### Calendar Week 17 - Sampled x Filtered"
   ]
  },
  {
   "cell_type": "code",
   "execution_count": null,
   "id": "4339082b",
   "metadata": {},
   "outputs": [],
   "source": [
    "top_urls_S03 = tweetsS17['resolved_url'].value_counts()\n",
    "top_urls_F03 = tweetsF17['resolved_url'].value_counts()"
   ]
  },
  {
   "cell_type": "code",
   "execution_count": null,
   "id": "3c3cd1eb",
   "metadata": {},
   "outputs": [],
   "source": [
    "top_urls_S03_sum = top_urls_S03.sum()\n",
    "top_urls_S03_rank = []\n",
    "top_urls_S03_url = []\n",
    "top_urls_S03_count = []\n",
    "top_urls_S03_percentage = []\n",
    "\n",
    "i = 1\n",
    "for index, value in top_urls_S03.iteritems():\n",
    "    top_urls_S03_rank.append(i)\n",
    "    top_urls_S03_url.append(index)\n",
    "    top_urls_S03_count.append(value)\n",
    "    top_urls_S03_percentage.append((value/top_urls_S03_sum)*100)\n",
    "    i += 1\n",
    "    \n",
    "data = {'rank': top_urls_S03_rank,'url':top_urls_S03_url, 'value': top_urls_S03_count, 'percentage': top_urls_S03_percentage}\n",
    "df_top_urls_S03 = pd.DataFrame(data=data)\n",
    "display(HTML(df_top_urls_S03[:10].to_html()))"
   ]
  },
  {
   "cell_type": "code",
   "execution_count": null,
   "id": "8aa0e3d8",
   "metadata": {},
   "outputs": [],
   "source": [
    "compare_list = []\n",
    "for index, row in df_top_urls_S03.iterrows():\n",
    "    if row['rank'] <= 50:\n",
    "        compare_list.append(compareRows(row, df_top_urls_F03))\n",
    "                    \n",
    "                \n",
    "data = {'rank': top_urls_S03_rank[:50],'url':top_urls_S03_url[:50], 'value': top_urls_S03_count[:50], 'percentage': top_urls_S03_percentage[:50],\n",
    "        'difference (rank / percentage / diff)': compare_list}\n",
    "df_top_urls_S03_F03_comparison = pd.DataFrame(data=data)\n",
    "df_top_urls_S03_F03_comparison.set_index(keys='rank', inplace=True)\n",
    "df_top_urls_S03_F03_comparison.style.applymap(colorComparisonField)\n",
    "\n",
    "s = df_top_urls_S03_F03_comparison.style.applymap(colorComparisonField)\n",
    "s.set_caption(\"Calendar Week 17: Sampled URLs x Filtered URLs \")\n",
    "s.set_table_styles(table_styles)"
   ]
  },
  {
   "cell_type": "code",
   "execution_count": null,
   "id": "17eeafd0",
   "metadata": {},
   "outputs": [],
   "source": [
    "compare_list = []\n",
    "for index, row in df_top_urls_F03.iterrows():\n",
    "    if row['rank'] <= 50:\n",
    "        compare_list.append(compareRows(row, df_top_urls_S03))\n",
    "                    \n",
    "                \n",
    "data = {'rank': top_urls_F03_rank[:50],'url':top_urls_F03_url[:50], 'value': top_urls_F03_count[:50], 'percentage': top_urls_F03_percentage[:50],\n",
    "        'difference (rank / percentage / diff)': compare_list}\n",
    "df_top_urls_F03_S03_comparison = pd.DataFrame(data=data)\n",
    "df_top_urls_F03_S03_comparison.set_index(keys='rank', inplace=True)\n",
    "df_top_urls_F03_S03_comparison.style.applymap(colorComparisonField)\n",
    "\n",
    "s = df_top_urls_F03_S03_comparison.style.applymap(colorComparisonField)\n",
    "s.set_caption(\"Calendar Week 17: Filtered URLs x Sampled URLs \")\n",
    "s.set_table_styles(table_styles)"
   ]
  },
  {
   "cell_type": "markdown",
   "id": "bb54455b",
   "metadata": {},
   "source": [
    "## Comparing Top Level Domains shared"
   ]
  },
  {
   "cell_type": "markdown",
   "id": "4a82af6e",
   "metadata": {},
   "source": [
    "### Calendar Week 03: Top Level Domains"
   ]
  },
  {
   "cell_type": "code",
   "execution_count": null,
   "id": "1ef1ba50",
   "metadata": {},
   "outputs": [],
   "source": [
    "top_urls_S03 = tweetsS03['top_level_domain'].value_counts()\n",
    "top_urls_F03 = tweetsF03['top_level_domain'].value_counts()"
   ]
  },
  {
   "cell_type": "code",
   "execution_count": null,
   "id": "d1208051",
   "metadata": {},
   "outputs": [],
   "source": [
    "compare_list = []\n",
    "for index, row in df_top_urls_S03.iterrows():\n",
    "    if row['rank'] <= 50:\n",
    "        compare_list.append(compareRows(row, df_top_urls_F03))\n",
    "                    \n",
    "                \n",
    "data = {'rank': top_urls_S03_rank[:50],'url':top_urls_S03_url[:50], 'value': top_urls_S03_count[:50], 'percentage': top_urls_S03_percentage[:50],\n",
    "        'difference (rank / percentage / diff)': compare_list}\n",
    "df_top_urls_S03_F03_comparison = pd.DataFrame(data=data)\n",
    "df_top_urls_S03_F03_comparison.set_index(keys='rank', inplace=True)\n",
    "df_top_urls_S03_F03_comparison.style.applymap(colorComparisonField)\n",
    "\n",
    "s = df_top_urls_S03_F03_comparison.style.applymap(colorComparisonField)\n",
    "s.set_caption(\"Calendar Week 03: Sampled TLDs x Filtered TLDs \")\n",
    "s.set_table_styles(table_styles)"
   ]
  },
  {
   "cell_type": "code",
   "execution_count": null,
   "id": "4abf268e",
   "metadata": {},
   "outputs": [],
   "source": [
    "compare_list = []\n",
    "for index, row in df_top_urls_F03.iterrows():\n",
    "    if row['rank'] <= 50:\n",
    "        compare_list.append(compareRows(row, df_top_urls_S03))\n",
    "                    \n",
    "                \n",
    "data = {'rank': top_urls_F03_rank[:50],'url':top_urls_F03_url[:50], 'value': top_urls_F03_count[:50], 'percentage': top_urls_F03_percentage[:50],\n",
    "        'difference (rank / percentage)': compare_list}\n",
    "df_top_urls_F03_S03_comparison = pd.DataFrame(data=data)\n",
    "df_top_urls_F03_S03_comparison.set_index(keys='rank', inplace=True)\n",
    "df_top_urls_F03_S03_comparison.style.applymap(colorComparisonField)\n",
    "\n",
    "s = df_top_urls_F03_S03_comparison.style.applymap(colorComparisonField)\n",
    "s.set_caption(\"Calendar Week 03: Filtered TLDs x Sampled TLDs \")\n",
    "s.set_table_styles(table_styles)"
   ]
  },
  {
   "cell_type": "markdown",
   "id": "b156f3b5",
   "metadata": {},
   "source": [
    "### Calendar Week 17: Top Level Domains"
   ]
  },
  {
   "cell_type": "code",
   "execution_count": null,
   "id": "8b779af0",
   "metadata": {},
   "outputs": [],
   "source": [
    "conn = None\n",
    "try:\n",
    "    # read connection parameters\n",
    "    paramsS17 = config.cfgAzureS17()\n",
    "    paramsS03 = config.cfgAzureS03()\n",
    "\n",
    "    paramsF17 = config.cfgAzureF17()\n",
    "    paramsF03 = config.cfgAzureF03()\n",
    "    \n",
    "    # connect to the PostgreSQL server\n",
    "    print('Connecting to the PostgreSQL database...')\n",
    "    connS17 = psycopg2.connect(**paramsS17)\n",
    "    connS03 = psycopg2.connect(**paramsS03)\n",
    "    \n",
    "    connF17 = psycopg2.connect(**paramsF17)\n",
    "    connF03 = psycopg2.connect(**paramsF03)\n",
    "\n",
    "    # create a cursor\n",
    "    curS17 = connS17.cursor()\n",
    "    curS03 = connS03.cursor()\n",
    "    \n",
    "    curF17 = connF17.cursor()\n",
    "    curF03 = connF03.cursor()\n",
    "\n",
    "    # execute a statement\n",
    "    print('PostgreSQL database version:')\n",
    "    \n",
    "    curS17.execute('SELECT version()')\n",
    "    curS03.execute('SELECT version()')\n",
    "    curF17.execute('SELECT version()')\n",
    "    curF03.execute('SELECT version()')\n",
    "    \n",
    "    # display the PostgreSQL database server version\n",
    "    db_version_curS17 = curS17.fetchone()\n",
    "    db_version_curS03 = curS03.fetchone()\n",
    "    db_version_curF17 = curF17.fetchone()\n",
    "    db_version_curF03 = curF03.fetchone()\n",
    "    \n",
    "    print(db_version_curS17)\n",
    "    print(db_version_curS03)\n",
    "    print(db_version_curF17)\n",
    "    print(db_version_curF03)\n",
    "\n",
    "    # close the communication with the PostgreSQL\n",
    "    curS17.close()\n",
    "    curS03.close()\n",
    "    curF17.close()\n",
    "    curF03.close()\n",
    "\n",
    "except (Exception, psycopg2.DatabaseError) as error:\n",
    "    print(error)"
   ]
  },
  {
   "cell_type": "markdown",
   "id": "93b9f294",
   "metadata": {},
   "source": [
    "## Query URLs"
   ]
  },
  {
   "cell_type": "markdown",
   "id": "10133489",
   "metadata": {},
   "source": [
    "### Calendar Week 03 - Sampled"
   ]
  },
  {
   "cell_type": "code",
   "execution_count": null,
   "id": "c2b75351",
   "metadata": {},
   "outputs": [],
   "source": [
    "#tweets03 = pd.read_sql_query(\"SELECT * FROM tweets_info;\", conn, parse_dates=['created_at'] )\n",
    "#tweets03['created_at'] = tweets['created_at'].dt.tz_localize(\"UTC\").dt.tz_convert(\"Europe/Berlin\")\n",
    "tweetsS03 = pd.read_sql_query(\"SELECT * FROM tweets_urls;\", connS03 )\n",
    "\n",
    "print(\"Number of Tweets: %s\" %len(tweetsS03))\n",
    "tweetsS03.head()"
   ]
  },
  {
   "cell_type": "markdown",
   "id": "e6e0cff4",
   "metadata": {},
   "source": [
    "### Calendar Week 17 - Sampled"
   ]
  },
  {
   "cell_type": "code",
   "execution_count": null,
   "id": "d660822d",
   "metadata": {},
   "outputs": [],
   "source": [
    "tweetsS17 = pd.read_sql_query(\"SELECT * FROM tweets_urls;\", connS17 )\n",
    "\n",
    "print(\"Number of Tweets: %s\" %len(tweetsS17))\n",
    "tweetsS17.head()"
   ]
  },
  {
   "cell_type": "markdown",
   "id": "6d174b0a",
   "metadata": {},
   "source": [
    "### Calendar Week 03 - Filtered"
   ]
  },
  {
   "cell_type": "code",
   "execution_count": null,
   "id": "ed560941",
   "metadata": {},
   "outputs": [],
   "source": [
    "tweetsF03 = pd.read_sql_query(\"SELECT * FROM tweets_urls;\", connF03 )\n",
    "\n",
    "print(\"Number of Tweets: %s\" %len(tweetsF03))\n",
    "tweetsF03.head()"
   ]
  },
  {
   "cell_type": "markdown",
   "id": "3a0d640e",
   "metadata": {},
   "source": [
    "### Calendar Week 17 - Filtered"
   ]
  },
  {
   "cell_type": "code",
   "execution_count": null,
   "id": "2c6f1edd",
   "metadata": {},
   "outputs": [],
   "source": [
    "tweetsF17 = pd.read_sql_query(\"SELECT * FROM tweets_urls;\", connF17 )\n",
    "\n",
    "print(\"Number of Tweets: %s\" %len(tweetsF17))\n",
    "tweetsF17.head()"
   ]
  },
  {
   "cell_type": "markdown",
   "id": "af571540",
   "metadata": {},
   "source": [
    "## Comparing Top Short URLs shared"
   ]
  },
  {
   "cell_type": "markdown",
   "id": "e59bff69",
   "metadata": {},
   "source": [
    "### Calendar Week 03 - Short URL - Sampled x Filtered"
   ]
  },
  {
   "cell_type": "code",
   "execution_count": null,
   "id": "9d864e57",
   "metadata": {},
   "outputs": [],
   "source": [
    "attribute = 'short_url'\n",
    "column_name = 'short url'\n",
    "    \n",
    "df_sampled = generateRankingDataframe(tweetsS03[attribute].value_counts(), column_name)\n",
    "df_filtered = generateRankingDataframe(tweetsF03[attribute].value_counts(), column_name)\n",
    "\n",
    "df_sampled_comparison, df_filtered_comparison = generateComparisonDataframes(df_sampled, df_filtered, column_name, 50)"
   ]
  },
  {
   "cell_type": "code",
   "execution_count": null,
   "id": "67fba6a7",
   "metadata": {},
   "outputs": [],
   "source": [
    "s = getPrettyComparisonDataframe(df_sampled_comparison, \"CW 03 - Short URLs - Sampled Data (compared to Filtered Data)\")\n",
    "s"
   ]
  },
  {
   "cell_type": "markdown",
   "id": "31e72bf1",
   "metadata": {},
   "source": [
    "## Comparing Top URLs shared"
   ]
  },
  {
   "cell_type": "markdown",
   "id": "abcd6afb",
   "metadata": {},
   "source": [
    "### Calendar Week 03 - Sampled x Filtered"
   ]
  },
  {
   "cell_type": "code",
   "execution_count": null,
   "id": "64a45672",
   "metadata": {},
   "outputs": [],
   "source": [
    "top_urls_S03 = tweetsS03['resolved_url'].value_counts()\n",
    "top_urls_F03 = tweetsF03['resolved_url'].value_counts()"
   ]
  }
 ],
 "metadata": {},
 "nbformat": 4,
 "nbformat_minor": 5
}
