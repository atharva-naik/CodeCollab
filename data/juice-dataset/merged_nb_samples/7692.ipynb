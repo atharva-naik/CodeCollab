{
 "cells": [
  {
   "cell_type": "code",
   "execution_count": null,
   "id": "8b9dd8fc",
   "metadata": {},
   "outputs": [],
   "source": [
    "import numpy as np\n",
    "import pandas as pd\n",
    "import scipy\n",
    "import matplotlib.pyplot as plt\n",
    "import seaborn as sns\n",
    "from sklearn.cluster import KMeans\n",
    "from sklearn.preprocessing import normalize\n",
    "from sklearn.decomposition import PCA\n",
    "from sklearn.cluster import MiniBatchKMeans\n",
    "%matplotlib inline"
   ]
  },
  {
   "cell_type": "code",
   "execution_count": null,
   "id": "a46856cb",
   "metadata": {},
   "outputs": [],
   "source": [
    "df = pd.read_csv(\"https://raw.githubusercontent.com/Thinkful-Ed/data-201-resources/master/cleveland.csv\", header=None, error_bad_lines=False)\n",
    "\n",
    "# Define the features and the outcome.\n",
    "X = df.iloc[:, :13]\n",
    "y = df.iloc[:, 13]\n",
    "\n",
    "# Replace missing values (marked by ?) with a 0.\n",
    "X = X.replace(to_replace='?', value=0)\n",
    "\n",
    "# Binarize y so that 1 means heart disease diagnosis and 0 means no diagnosis.\n",
    "y = np.where(y > 0, 0, 1)"
   ]
  },
  {
   "cell_type": "code",
   "execution_count": null,
   "id": "ae70dfd2",
   "metadata": {},
   "outputs": [],
   "source": [
    "# Normalize the data.\n",
    "X_norm = normalize(X)\n",
    "\n",
    "# Reduce it to two components.\n",
    "X_pca = PCA(2).fit_transform(X_norm)\n",
    "\n",
    "# Calculate predicted values.\n",
    "y_pred = KMeans(n_clusters=2, random_state=42).fit_predict(X_pca)\n",
    "\n",
    "# Plot the solution.\n",
    "plt.scatter(X_pca[:, 0], X_pca[:, 1], c=y_pred)\n",
    "plt.show()\n",
    "\n",
    "# Check the solution against the data.\n",
    "print('Comparing k-means clusters against the data:')\n",
    "print(pd.crosstab(y_pred, y))"
   ]
  },
  {
   "cell_type": "code",
   "execution_count": null,
   "id": "39c38f51",
   "metadata": {},
   "outputs": [],
   "source": [
    "# Each batch will be made up of 200 data points.\n",
    "minibatchkmeans = MiniBatchKMeans(\n",
    "    init='random',\n",
    "    n_clusters=2,\n",
    "    batch_size=200)\n",
    "minibatchkmeans.fit(X_pca)\n",
    "\n",
    "# Add the new predicted cluster memberships to the data frame.\n",
    "predict_mini = minibatchkmeans.predict(X_pca)\n",
    "\n",
    "# Check the MiniBatch model against our earlier one.\n",
    "print('Comparing k-means and mini batch k-means solutions:')\n",
    "print(pd.crosstab(predict_mini, y_pred))"
   ]
  },
  {
   "cell_type": "code",
   "execution_count": null,
   "id": "e930cfe1",
   "metadata": {},
   "outputs": [],
   "source": [
    "y_pred = KMeans(n_clusters=3, random_state=42).fit_predict(X_pca)\n",
    "\n",
    "# Plot the solution.\n",
    "plt.scatter(X_pca[:, 0], X_pca[:, 1], c=y_pred)\n",
    "plt.show()\n",
    "print('Comparing k-means 3 clusters against the data:')\n",
    "print(pd.crosstab(y_pred, y))\n"
   ]
  },
  {
   "cell_type": "markdown",
   "id": "9496739c",
   "metadata": {},
   "source": [
    "I just changed the number of clusters and ran the code again. Three clusters seems to do well. There are close(ish) numbers on the top left to bottom right diagonals. "
   ]
  },
  {
   "cell_type": "code",
   "execution_count": null,
   "id": "716afeb1",
   "metadata": {},
   "outputs": [],
   "source": [
    "y_pred = KMeans(n_clusters=4, random_state=42).fit_predict(X_pca)\n",
    "\n",
    "# Plot the solution.\n",
    "plt.scatter(X_pca[:, 0], X_pca[:, 1], c=y_pred)\n",
    "plt.show()\n",
    "print('Comparing k-means 4 clusters against the data:')\n",
    "print(pd.crosstab(y_pred, y))\n",
    "\n"
   ]
  },
  {
   "cell_type": "markdown",
   "id": "d861c6c1",
   "metadata": {},
   "source": [
    "This is a poor performance because the numbers are all too close together. The diagonals are too close to the off diagonals. "
   ]
  },
  {
   "cell_type": "code",
   "execution_count": null,
   "id": "2a4617d0",
   "metadata": {},
   "outputs": [],
   "source": [
    "minibatchkmeans = MiniBatchKMeans(\n",
    "    init='random',\n",
    "    n_clusters=3,\n",
    "    batch_size=200)\n",
    "minibatchkmeans.fit(X_pca)\n",
    "\n",
    "# Add the new predicted cluster memberships to the data frame.\n",
    "predict_mini = minibatchkmeans.predict(X_pca)\n",
    "\n",
    "# Check the MiniBatch model against our earlier one.\n",
    "print('Comparing k-means and mini batch k-means solutions with 3 clusters:')\n",
    "print(pd.crosstab(predict_mini, y_pred))"
   ]
  },
  {
   "cell_type": "markdown",
   "id": "4ecddfdb",
   "metadata": {},
   "source": [
    "This grid is much clearer with diagonal patterning."
   ]
  },
  {
   "cell_type": "code",
   "execution_count": null,
   "id": "311264e0",
   "metadata": {},
   "outputs": [],
   "source": [
    "minibatchkmeans = MiniBatchKMeans(\n",
    "    init='random',\n",
    "    n_clusters=4,\n",
    "    batch_size=200)\n",
    "minibatchkmeans.fit(X_pca)\n",
    "\n",
    "# Add the new predicted cluster memberships to the data frame.\n",
    "predict_mini = minibatchkmeans.predict(X_pca)\n",
    "\n",
    "# Check the MiniBatch model against our earlier one.\n",
    "print('Comparing k-means and mini batch k-means solutions with 4 clusters:')\n",
    "print(pd.crosstab(predict_mini, y_pred))"
   ]
  },
  {
   "cell_type": "markdown",
   "id": "05929740",
   "metadata": {},
   "source": [
    "And then its gone again. 4 clusters doesn't seem to work"
   ]
  }
 ],
 "metadata": {},
 "nbformat": 4,
 "nbformat_minor": 5
}
