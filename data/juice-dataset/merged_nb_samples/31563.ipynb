{
 "cells": [
  {
   "cell_type": "markdown",
   "id": "da979c78",
   "metadata": {},
   "source": [
    "# Import Libraries"
   ]
  },
  {
   "cell_type": "code",
   "execution_count": null,
   "id": "209ab8ea",
   "metadata": {},
   "outputs": [],
   "source": [
    "# Handling carto data\n",
    "import cartoframes\n",
    "import pandas as pd\n",
    "pd.options.display.max_columns = 200\n",
    "pd.options.display.max_rows = 200\n",
    "\n",
    "# Requesting data from the web\n",
    "import requests as req\n",
    "import json\n",
    "\n",
    "# Getting data on s3\n",
    "import boto3\n",
    "from io import BytesIO, StringIO\n",
    "from gzip import GzipFile\n",
    "import gzip\n",
    "import boto3\n",
    "\n",
    "# Logging\n",
    "import sys\n",
    "import logging\n",
    "import os\n",
    "logging.basicConfig(stream=sys.stderr, level=logging.INFO)\n",
    "\n",
    "# Creating ColorBrewer palettes for quick visualization\n",
    "import palettable\n",
    "\n",
    "# Often useful tools\n",
    "from datetime import timedelta, datetime\n",
    "from functools import reduce\n",
    "from collections import defaultdict\n",
    "import random\n",
    "from hurry.filesize import size, si, verbose"
   ]
  },
  {
   "cell_type": "markdown",
   "id": "9f9bf228",
   "metadata": {},
   "source": [
    "# Helper script - set environ variables locally"
   ]
  },
  {
   "cell_type": "raw",
   "id": "1032b128",
   "metadata": {},
   "source": [
    "for line in $(cat /Users/nathansuberi/Documents/cred/.env_local); do\n",
    "if [[ $line == *=* ]]; then export $line; fi;\n",
    "done"
   ]
  },
  {
   "cell_type": "markdown",
   "id": "0469ef43",
   "metadata": {},
   "source": [
    "# Authenticate to RW API"
   ]
  }
 ],
 "metadata": {},
 "nbformat": 4,
 "nbformat_minor": 5
}
