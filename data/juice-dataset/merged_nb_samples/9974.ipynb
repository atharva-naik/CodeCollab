{
 "cells": [
  {
   "cell_type": "code",
   "execution_count": null,
   "id": "a9c74845",
   "metadata": {},
   "outputs": [],
   "source": [
    "%matplotlib inline"
   ]
  },
  {
   "cell_type": "markdown",
   "id": "38c30849",
   "metadata": {},
   "source": [
    "\n",
    "# Aligning two matrices with the procrustes function\n",
    "\n",
    "\n",
    "In this example, we load in some synthetic data, rotate it, and then use the\n",
    "procustes function to get the datasets back in alignment.  The procrustes\n",
    "function uses linear transformations to project a source matrix into the\n",
    "space of a target matrix.\n",
    "\n"
   ]
  }
 ],
 "metadata": {},
 "nbformat": 4,
 "nbformat_minor": 5
}
