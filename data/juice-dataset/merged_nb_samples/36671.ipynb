{
 "cells": [
  {
   "cell_type": "markdown",
   "id": "45efa50d",
   "metadata": {},
   "source": [
    "Note that, differently from a linear problem (e.g., the problems presented in the notebooks [least_squares](https://nbviewer.jupyter.org/github/birocoles/Disciplina-metodos-computacionais/blob/master/Content/least_squares.ipynb) and [grav_net](https://nbviewer.jupyter.org/github/birocoles/Disciplina-metodos-computacionais/blob/master/Content/grav_net.ipynb)), the derivative of the predicted data $\\Delta t_{i} (\\mathbf{p})$, $i = A, B, C$, with respect to $x_{0}$ or $y_{0}$ is still a function of $x_{0}$ and $y_{0}$. Consequently, setting the gradient of $\\Phi(\\mathbf{p})$ to the null vector does not result in a linear system for estimating $\\mathbf{p}^{\\ast}$. The problem of estimating $\\mathbf{p}^{\\ast}$ is an example of non-linear optimization problem and needs to be solved iteratively."
   ]
  },
  {
   "cell_type": "markdown",
   "id": "db4f968d",
   "metadata": {},
   "source": [
    "## Synthetic data"
   ]
  },
  {
   "cell_type": "markdown",
   "id": "574203fc",
   "metadata": {},
   "source": [
    "<a id='Auxiliary functions'></a>\n",
    "#### Auxiliary functions"
   ]
  },
  {
   "cell_type": "code",
   "execution_count": null,
   "id": "7a3252f9",
   "metadata": {},
   "outputs": [],
   "source": [
    "def predicted_data(vp,vs,x,y,p):\n",
    "    '''\n",
    "    Computes the predicted data.\n",
    "    \n",
    "    input\n",
    "    vp, vs: floats - seismic velocities\n",
    "    x, y: numpy arrays - coordinates x and y of the stations\n",
    "    p: numpy array - parameter vector\n",
    "    \n",
    "    output\n",
    "    dt: numpy array - predicted data\n",
    "    '''\n",
    "    \n",
    "    if vp <= vs:\n",
    "        raise ValueError('vp must be greater than vs')\n",
    "    \n",
    "    if x.size != y.size:\n",
    "        raise ValueError('x and y must have the same number of elements')\n",
    "    \n",
    "    if (vp != 0.) & (vs != 0.):\n",
    "        alfa = 1./vs - 1./vp\n",
    "    else:\n",
    "        raise ValueError('vp and vs must be non-null')\n",
    "    \n",
    "    # predicted data\n",
    "    dt = alfa*np.sqrt((x - p[0])**2 + (y - p[1])**2)\n",
    "    \n",
    "    return dt"
   ]
  },
  {
   "cell_type": "code",
   "execution_count": null,
   "id": "d8ad1ef9",
   "metadata": {},
   "outputs": [],
   "source": [
    "def plot_data(data, filename=None):\n",
    "    '''\n",
    "    input\n",
    "    data: list of numpy arrays - data sets to be plotted.\n",
    "          In the case of two data sets, the first \n",
    "          one must be the observed data.\n",
    "    filename: string or None - if not None, it saves the figure with\n",
    "              name defined by filename.\n",
    "   \n",
    "    output\n",
    "    matplotlib figure\n",
    "    '''\n",
    "\n",
    "    assert (len(data) == 1) or (len(data) == 2), \\\n",
    "'must use one or two data sets'\n",
    "\n",
    "    plt.figure(figsize=(8,3))\n",
    "    stations_label = ['A', 'B', 'C']\n",
    "    stations = [1,2,3]\n",
    "    \n",
    "    if len(data) == 1:\n",
    "        plt.barh(stations, data[0], align='center', \n",
    "             color='r', alpha=1, label='Observed')\n",
    "    if len(data) == 2:\n",
    "        plt.barh(stations, data[0], align='center', \n",
    "                 color='r', alpha=0.6, label='Observed')\n",
    "        plt.barh(stations, data[1], align='center', \n",
    "                 fill=False, edgecolor='b', alpha=1.,\n",
    "                 linewidth=3., linestyle='dashed', label='Predicted')\n",
    "    plt.yticks(stations, stations_label, fontsize=18)\n",
    "    plt.xticks(fontsize=14)\n",
    "    plt.xlabel('$\\Delta t$ ($s$)', fontsize=18)\n",
    "    plt.ylabel('Stations', fontsize=16)\n",
    "    plt.grid()\n",
    "    plt.legend(bbox_to_anchor=(0., 1.02, 1., .102), \n",
    "               loc=3, ncol=2, borderaxespad=0.)\n",
    "    if filename is not None:\n",
    "        plt.savefig(filename)\n",
    "    plt.show()"
   ]
  },
  {
   "cell_type": "code",
   "execution_count": null,
   "id": "45b502c4",
   "metadata": {},
   "outputs": [],
   "source": [
    "def goal_function_grid(dobs,vp,vs,x,y,x0,y0):\n",
    "    '''\n",
    "    Computes the goal function in a grid of\n",
    "    parameters x0 and y0.\n",
    "    \n",
    "    input\n",
    "    dobs: numpy array - observed data\n",
    "    vp, vs: floats - seismic velocities\n",
    "    x, y: numpy arrays - coordinates x and y of the stations\n",
    "    \n",
    "    output\n",
    "    phi: numpy array - grid of goal function values\n",
    "    '''\n",
    "    \n",
    "    if vp <= vs:\n",
    "        raise ValueError('vp must be greater than vs')\n",
    "    \n",
    "    if x.size != y.size:\n",
    "        raise ValueError('x and y must have the same number of elements')\n",
    "    \n",
    "    if (vp != 0.) & (vs != 0.):\n",
    "        alfa = 1./vs - 1./vp\n",
    "    else:\n",
    "        raise ValueError('vp and vs must be non-null')\n",
    "   \n",
    "    phi = np.zeros_like(x0)\n",
    "    for x, y, dt in zip(x, y, dobs):\n",
    "        phi += (dt - alfa*np.sqrt((x - x0)**2 + (y - y0)**2))**2\n",
    "    return phi"
   ]
  },
  {
   "cell_type": "code",
   "execution_count": null,
   "id": "7c19d5ff",
   "metadata": {},
   "outputs": [],
   "source": [
    "def convergence(phi0,phi,beta):\n",
    "    '''\n",
    "    Evaluate the convergence criterion.\n",
    "    '''\n",
    "\n",
    "    # relative variation\n",
    "    rel_variation = abs((phi0-phi)/phi0)\n",
    "    \n",
    "    return rel_variation < beta"
   ]
  },
  {
   "cell_type": "code",
   "execution_count": null,
   "id": "7fd0550d",
   "metadata": {},
   "outputs": [],
   "source": [
    "def plot_goal_function(x0, y0, phi, p_true=None, stations=None, epicenters=None, \n",
    "                       filename=None):\n",
    "    '''\n",
    "    Plot the goal function, the stations, the true epicenter\n",
    "    location and the set of estimated epicenters produced by\n",
    "    an iterative method.\n",
    "    \n",
    "    input\n",
    "    x0, y0: numpy arrays 2D - grid of epicenter coordinates\n",
    "            on which the goal function is evaluated\n",
    "    phi: numpy array 2D - grid of goal function values\n",
    "    p_true: None or numpy array 1D containing the true coordinates\n",
    "            of the epicenter\n",
    "    stations: numpy array 2D - matrix containing the coordinates of\n",
    "              the stations. The first collumn contains the\n",
    "                x coordinate and the second collumn contains the y coordinate\n",
    "                of the stations.\n",
    "    epicenters: numpy array 2D - matrix containing the estimated coordinates\n",
    "                computed by an iterative method. The first collumn contains the\n",
    "                x coordinate and the second collumn contains the y coordinate\n",
    "                of the estimated epicenters.\n",
    "    filename: string or None - if not None, it saves the figure with\n",
    "              name defined by filename\n",
    "    \n",
    "    output\n",
    "    matplotlib figure\n",
    "    '''\n",
    "    \n",
    "    if p_true is not None:\n",
    "        assert p_true.size == 2, 'p_true must have 2 elements'\n",
    "    if stations is not None:\n",
    "        assert (stations.shape[1] == 2), 'stations must have 2 collumns'\n",
    "        assert (stations.shape[0] >= 3), \\\n",
    "'the number of stations must be greater than or equal to 3'\n",
    "\n",
    "    xmax = np.max(x0)\n",
    "    xmin = np.min(x0)\n",
    "    \n",
    "    ymax = np.max(y0)\n",
    "    ymin = np.min(y0)\n",
    "    \n",
    "    plt.figure(figsize=(8,6))\n",
    "    plt.axis('scaled')\n",
    "    plt.contourf(y0,x0,phi,40, cmap = plt.get_cmap('viridis'))\n",
    "    cbar = plt.colorbar()\n",
    "    cbar.set_label('$\\Delta t$ ($s$)', fontsize=16)\n",
    "    if stations is not None:\n",
    "        plt.plot(stations[:,1], stations[:,0],'k^', markersize=14)\n",
    "    if p_true is not None:\n",
    "        plt.plot([p_true[1]], [p_true[0]], 'ro', markersize=14)\n",
    "    if epicenters is not None:\n",
    "        plt.plot(epicenters[:,1],epicenters[:,0],'w-', linewidth=1)\n",
    "        plt.plot(epicenters[:,1],epicenters[:,0],'wo', markersize=6)\n",
    "    plt.xlabel('y (km)', fontsize=14)\n",
    "    plt.ylabel('x (km)', fontsize=14)\n",
    "    plt.xticks(fontsize=12)\n",
    "    plt.yticks(fontsize=12)\n",
    "    plt.xlim(ymin,ymax)\n",
    "    plt.ylim(xmin,xmax)\n",
    "    if filename is not None:\n",
    "        plt.savefig(filename)\n",
    "    plt.show()"
   ]
  },
  {
   "cell_type": "code",
   "execution_count": null,
   "id": "7ea61f84",
   "metadata": {},
   "outputs": [],
   "source": [
    "def plot_phi(phi, filename=None):\n",
    "    '''\n",
    "    Plot the goal function values along the\n",
    "    iterations.\n",
    "    \n",
    "    input\n",
    "    phi: list - goal function values\n",
    "    filename: string or None - if not None, it saves the figure with\n",
    "              name defined by filename\n",
    "    \n",
    "    output\n",
    "    matplotlib figure\n",
    "    '''\n",
    "    \n",
    "    it = [i for i in range(len(phi))]\n",
    "    plt.figure(figsize=(8,8))\n",
    "    plt.plot(it,phi,'ko')\n",
    "    plt.plot(it,phi,'k-')\n",
    "    plt.xlabel('$k$', fontsize=18)\n",
    "    plt.ylabel('$\\phi(\\mathbf{p})$', fontsize=18)\n",
    "    plt.xticks(fontsize=14)\n",
    "    plt.yticks(fontsize=14)\n",
    "    plt.grid()\n",
    "    plt.xlim(0, len(phi))\n",
    "    plt.ylim(-5.,phi[0]+5.)\n",
    "    if filename is not None:\n",
    "        plt.savefig(filename)\n",
    "    plt.show()"
   ]
  },
  {
   "cell_type": "markdown",
   "id": "82aa1a7f",
   "metadata": {},
   "source": [
    "#### Import the required packages"
   ]
  },
  {
   "cell_type": "code",
   "execution_count": null,
   "id": "19d3022c",
   "metadata": {},
   "outputs": [],
   "source": [
    "%matplotlib inline\n",
    "import numpy as np\n",
    "from matplotlib import pyplot as plt"
   ]
  },
  {
   "cell_type": "markdown",
   "id": "3b4da95c",
   "metadata": {},
   "source": [
    "#### Limits of the simulated study area"
   ]
  },
  {
   "cell_type": "code",
   "execution_count": null,
   "id": "200cc80a",
   "metadata": {},
   "outputs": [],
   "source": [
    "# limits of the study area in km\n",
    "xmin = 0.\n",
    "xmax = 100.\n",
    "ymin = -50.\n",
    "ymax = 50."
   ]
  },
  {
   "cell_type": "markdown",
   "id": "aa4948bb",
   "metadata": {},
   "source": [
    "#### Seismic velocities"
   ]
  },
  {
   "cell_type": "code",
   "execution_count": null,
   "id": "46d44ce5",
   "metadata": {},
   "outputs": [],
   "source": [
    "# seismic velocities in km/s\n",
    "vp = 6.5\n",
    "vs = 6.5/1.6"
   ]
  },
  {
   "cell_type": "markdown",
   "id": "d97c4a9c",
   "metadata": {},
   "source": [
    "#### Coordinates of the epicenter"
   ]
  },
  {
   "cell_type": "code",
   "execution_count": null,
   "id": "a8d84d0a",
   "metadata": {},
   "outputs": [],
   "source": [
    "# coordinates of the simulated epicenter in km\n",
    "p_true = np.array([50., -17.])"
   ]
  },
  {
   "cell_type": "markdown",
   "id": "7c1dcf85",
   "metadata": {},
   "source": [
    "#### Coordinates of the seismic stations"
   ]
  },
  {
   "cell_type": "code",
   "execution_count": null,
   "id": "07d57e71",
   "metadata": {},
   "outputs": [],
   "source": [
    "# coordinates of the seismic stations in km\n",
    "x = np.array([10., 80., 60.])\n",
    "\n",
    "y = np.array([-40., -20., 35.])\n",
    "\n",
    "stations = np.vstack([x, y]).T"
   ]
  },
  {
   "cell_type": "code",
   "execution_count": null,
   "id": "d33e8882",
   "metadata": {},
   "outputs": [],
   "source": [
    "plt.figure(figsize=(8,6))\n",
    "plt.axis('scaled')\n",
    "plt.plot(y, x,'k^', markersize=14, label='Stations')\n",
    "plt.plot([p_true[1]], [p_true[0]], 'ro', markersize=14, label='True epicenter')\n",
    "plt.xlabel('y (km)', fontsize=14)\n",
    "plt.ylabel('x (km)', fontsize=14)\n",
    "plt.legend(loc='best', numpoints=1)\n",
    "plt.xticks(fontsize=12)\n",
    "plt.yticks(fontsize=12)\n",
    "plt.xlim(ymin,ymax)\n",
    "plt.ylim(xmin,xmax)\n",
    "plt.show()"
   ]
  },
  {
   "cell_type": "markdown",
   "id": "007609b7",
   "metadata": {},
   "source": [
    "#### Synthetic data vector"
   ]
  },
  {
   "cell_type": "markdown",
   "id": "0e3cc3b3",
   "metadata": {},
   "source": [
    "Given the model defined in the previous cells, we can simulate an observed data vector $\\mathbf{d}$ by using the function `predicted_data` as follows:"
   ]
  },
  {
   "cell_type": "code",
   "execution_count": null,
   "id": "13d16f2d",
   "metadata": {},
   "outputs": [],
   "source": [
    "d = predicted_data(vp, vs, x, y, p_true)"
   ]
  },
  {
   "cell_type": "markdown",
   "id": "5e203619",
   "metadata": {},
   "source": [
    "#### Goal function"
   ]
  },
  {
   "cell_type": "markdown",
   "id": "35d5a915",
   "metadata": {},
   "source": [
    "In this example, the goal function depends on two parameters, which represent the Cartesian coordinates of the epicenter. It means that, given a point $(x_{0},y_{0})$, and consequently a parameter vector $\\mathbf{p}$, we can calculate the function $\\Phi(\\mathbf{p})$. Then, if we define a grid of points $(x_{0},y_{0})$, each one representing a possible epicenter, we can calculate the goal function $\\Phi(\\mathbf{p})$ on a grid."
   ]
  },
  {
   "cell_type": "markdown",
   "id": "91c6054b",
   "metadata": {},
   "source": [
    "The grid of points representing possible epicenter can be defined as follows:"
   ]
  }
 ],
 "metadata": {},
 "nbformat": 4,
 "nbformat_minor": 5
}
