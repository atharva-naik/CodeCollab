{
 "cells": [
  {
   "cell_type": "code",
   "execution_count": null,
   "id": "abe95c50",
   "metadata": {},
   "outputs": [],
   "source": [
    "import random\n",
    "import numpy\n",
    "from random import randint\n",
    "from IPython.html import widgets \n",
    "from IPython.display import display\n",
    "from ipythonblocks import BlockGrid\n",
    "from IPython.display import clear_output\n",
    "from IPython.html.widgets import interact, interactive"
   ]
  },
  {
   "cell_type": "markdown",
   "id": "7c349ae1",
   "metadata": {},
   "source": [
    "#The Schelling Model"
   ]
  },
  {
   "cell_type": "markdown",
   "id": "43721384",
   "metadata": {},
   "source": [
    "##Concept: The Grid Maker"
   ]
  },
  {
   "cell_type": "code",
   "execution_count": null,
   "id": "e893b32b",
   "metadata": {},
   "outputs": [],
   "source": [
    "#THE GRID MAKER WOOO!!!\n",
    "\n",
    "grid_size = 5 #testing this grid maker\n",
    "\n",
    "grid = BlockGrid(grid_size,grid_size)\n",
    "for i in range(grid.height):\n",
    "    for j in range(grid.width):\n",
    "        rand_int1 = random.randint(1,3)\n",
    "        if rand_int1 == 1:\n",
    "            grid[i,j] = (0, 0, 255)\n",
    "        elif rand_int1 == 2:\n",
    "            grid[i,j] = (255, 0, 0)\n",
    "        elif rand_int1 == 3:\n",
    "            grid[i,j] = (0, 0, 0)\n",
    "        \n",
    "        if grid[i,j] == (0, 0, 255):\n",
    "            grid[i,j] = blue_cell\n",
    "        elif grid[i,j] == (255, 0, 0):\n",
    "            grid[i,j] = red_cell\n",
    "        elif grid[i,j] == (0, 0, 0):\n",
    "            grid[i,j] = empty_cell\n",
    "        cell1 = grid[i,j]\n",
    "grid.show()\n"
   ]
  },
  {
   "cell_type": "markdown",
   "id": "cc1d5cc0",
   "metadata": {},
   "source": [
    "##My First Attempt\n",
    "\n",
    "This was really clever and cool but by reducing checking the neighbors to less than ten lines made it much harder to keep track of the satisfied and unsatisfied. It also made it difficult to move since my data had to be in a data frame for it to work. Here is my first attempt at it."
   ]
  },
  {
   "cell_type": "code",
   "execution_count": null,
   "id": "74067c18",
   "metadata": {},
   "outputs": [],
   "source": [
    "#def move(population,satisfaction_thresh):\n",
    "#    \n",
    "#    not_satisfied_population = pd.DataFrame(population)\n",
    "#    \n",
    "#    for agent_coord in population:\n",
    "#        \n",
    "#        block = Schelling[tuple(agent_coord)]\n",
    "\n",
    "#        coords_to_check = np.array([np.array(agent_coord) + np.array((1,0)),np.array(agent_coord) + np.array((1,1)), np.array(agent_coord) + np.array((0,1)),\n",
    "#                           np.array(agent_coord) + np.array((1,-1)), np.array(agent_coord) + np.array((0,-1)),\n",
    "#                           np.array(agent_coord) + np.array((-1,-1)), np.array(agent_coord) + np.array((-1,0)),\n",
    "#                           np.array(agent_coord) + np.array((-1,1))])\n",
    "#\n",
    "#        coords_to_check = pd.DataFrame(coords_to_check)\n",
    "#        coords_to_check = coords_to_check[coords_to_check>=0].dropna()\n",
    "#        coords_to_check = coords_to_check[coords_to_check.ix[:,0] <= xsize-1].dropna()\n",
    "#        coords_to_check = coords_to_check[coords_to_check.ix[:,1] <= ysize-1].dropna()\n",
    "#        \n",
    "#        if agent_coord == [2,4]:\n",
    "#            display(coords_to_check)\n",
    "#        number_of_neighbors = 0\n",
    "#        same_neighbors = 0\n",
    "#        dif_neighbors = 0\n",
    "#        grey = (236,240,241)\n",
    "#        \n",
    "#        for check_coord in coords_to_check.values:##\n",
    "\n",
    "#            check_block = Schelling[int(check_coord[0]),int(check_coord[1])]\n",
    "#            \n",
    "#            if check_block.rgb == block.rgb:\n",
    "##                same_neighbors += 1\n",
    "##                number_of_neighbors += 1\n",
    "##                \n",
    "##            if check_block.rgb != block.rgb and check_block.rgb != grey:\n",
    "##                dif_neighbors += 1\n",
    "##                number_of_neighbors += 1\n",
    "##        \n",
    "##        if number_of_neighbors == 0 or (same_neighbors-dif_neighbors)/number_of_neighbors >= satisfaction_thresh:\n",
    "#             print('Satisfied!')\n",
    "#             print(agent_coord)\n",
    "#             print((same_neighbors-dif_neighbors)/number_of_neighbors)\n",
    "#             print('\\n')\n",
    "            \n",
    "#            not_satisfied_population = not_satisfied_population[not_satisfied_population.values != agent_coord]\n",
    "#            not_satisfied_population.drop_duplicates(inplace = True)\n",
    "    \n",
    "#         else:\n",
    "#             print('Not Satisfied!')\n",
    "#             print(agent_coord)\n",
    "#             print((same_neighbors-dif_neighbors)/number_of_neighbors)\n",
    "#             print('\\n')\n",
    "    \n",
    "#    return not_satisfied_population"
   ]
  },
  {
   "cell_type": "markdown",
   "id": "87ecd4f0",
   "metadata": {},
   "source": [
    "##Second Attempt\n",
    "\n",
    "After talking to others and just discussing with others what they did, I decided to do a bunch of if statements instead of my previous attempt. This had advantages because it was easier to read, required no data frame to work, and was quite simple to execute."
   ]
  }
 ],
 "metadata": {},
 "nbformat": 4,
 "nbformat_minor": 5
}
