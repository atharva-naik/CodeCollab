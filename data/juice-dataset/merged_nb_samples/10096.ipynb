{
 "cells": [
  {
   "cell_type": "markdown",
   "id": "3c96229a",
   "metadata": {},
   "source": [
    "# Data Parsing & Time Series"
   ]
  },
  {
   "cell_type": "markdown",
   "id": "03806805",
   "metadata": {},
   "source": [
    "## Michael Mallon - UCD"
   ]
  },
  {
   "cell_type": "markdown",
   "id": "dd004fac",
   "metadata": {},
   "source": [
    "#### This is an anaylsis of Google's performance in the stock market over the past 5 years, 2013-2017"
   ]
  },
  {
   "cell_type": "markdown",
   "id": "5d2b7e34",
   "metadata": {},
   "source": [
    "Import the required libraries for later use"
   ]
  },
  {
   "cell_type": "code",
   "execution_count": null,
   "id": "4c7c0f0c",
   "metadata": {},
   "outputs": [],
   "source": [
    "import pandas as pd\n",
    "import matplotlib\n",
    "import matplotlib.pylab as plt\n",
    "%matplotlib inline \n",
    "from datetime import datetime\n",
    "import matplotlib.dates as mdates\n",
    "import numpy as np\n",
    "import seaborn as sns\n",
    "import matplotlib.gridspec as gridspec\n",
    "import calendar"
   ]
  },
  {
   "cell_type": "markdown",
   "id": "991509f3",
   "metadata": {},
   "source": [
    "# Data Collection"
   ]
  },
  {
   "cell_type": "markdown",
   "id": "3ac4483c",
   "metadata": {},
   "source": [
    "Creating a universal url to use for each pd.read_html"
   ]
  },
  {
   "cell_type": "code",
   "execution_count": null,
   "id": "0256e1f7",
   "metadata": {},
   "outputs": [],
   "source": [
    "url = 'http://mlg.ucd.ie/modules/COMP30760/stocks/goog.html'"
   ]
  },
  {
   "cell_type": "markdown",
   "id": "ccbcfdb4",
   "metadata": {},
   "source": [
    "Reading in each individual year rather than the entire 5 years for ease of later use"
   ]
  },
  {
   "cell_type": "markdown",
   "id": "198bf739",
   "metadata": {},
   "source": [
    "In the graph above its very clear that both the end and the start of the year seem to be a more unstable time at Google with its returns fluctuating up and down.The closer the value is to 0 the more stable it is. In the final graph the highest point of return is shown towering over the others."
   ]
  },
  {
   "cell_type": "markdown",
   "id": "3610968f",
   "metadata": {},
   "source": [
    "#### Seperating all the years for analysis now all the columns I wish to add now included"
   ]
  },
  {
   "cell_type": "code",
   "execution_count": null,
   "id": "9ec60ef3",
   "metadata": {},
   "outputs": [],
   "source": [
    "Google2013 = Google['2013']\n",
    "Google2014 = Google['2014']\n",
    "Google2015 = Google['2015']\n",
    "Google2016 = Google['2016']\n",
    "Google2017 = Google['2017']"
   ]
  },
  {
   "cell_type": "markdown",
   "id": "c9275aaf",
   "metadata": {},
   "source": [
    "### Quarterly Returns"
   ]
  },
  {
   "cell_type": "markdown",
   "id": "e4e6816f",
   "metadata": {},
   "source": [
    "Creating a new dataframes for each year based on daily Opening value"
   ]
  },
  {
   "cell_type": "code",
   "execution_count": null,
   "id": "3466eb12",
   "metadata": {},
   "outputs": [],
   "source": [
    "OpenQ2017 = Google2017.Open.resample('D').last().ffill()\n",
    "Quarters2017 = pd.concat([OpenQ2017])\n",
    "\n",
    "OpenQ2016 = Google2016.Open.resample('D').last().ffill()\n",
    "Quarters2016 = pd.concat([OpenQ2016], axis=1)\n",
    "                                   \n",
    "OpenQ2015 = Google2015.Open.resample('D').last().ffill()\n",
    "Quarters2015 = pd.concat([OpenQ2015], axis=1)\n",
    "\n",
    "OpenQ2014 = Google2014.Open.resample('D').last().ffill()\n",
    "Quarters2014 = pd.concat([OpenQ2014], axis=1)\n",
    "\n",
    "OpenQ2013 = Google2013.Open.resample('D').last().ffill()\n",
    "Quarters2013 = pd.concat([OpenQ2013], axis=1)"
   ]
  },
  {
   "cell_type": "code",
   "execution_count": null,
   "id": "c6da0091",
   "metadata": {},
   "outputs": [],
   "source": [
    "Quarters2017 = Quarters2017.reset_index()\n",
    "Quarters2016 = Quarters2016.reset_index()\n",
    "Quarters2015 = Quarters2015.reset_index()\n",
    "Quarters2014 = Quarters2014.reset_index()\n",
    "Quarters2013 = Quarters2013.reset_index()"
   ]
  },
  {
   "cell_type": "markdown",
   "id": "e0e932c7",
   "metadata": {},
   "source": [
    "This graph shows when Googles Third Quarter report was released to the public (red line) according to 'https://www.nasdaq.com/earnings/report/googl'. \n",
    "An imediate increase can be seen after this date in 2017 Googles share prices, obviously more people began to invest then. In the case of 2016 stock prices dropped significantly.\n",
    "\n",
    "This graph also shows when Googles First Quarter report was released to the public (green line) according to 'https://www.nasdaq.com/earnings/report/googl'. \n",
    "Once again an increase can be seen after this date in Googles 2017 share prices with more people investing.\n",
    "In 2016 it seems Googles stocks held its value and neither dropped nor raised.\n",
    "\n",
    "In 2015 in both cases Googles stocks seemed to stay stable and only fluctuates a little."
   ]
  },
  {
   "cell_type": "code",
   "execution_count": null,
   "id": "648c244e",
   "metadata": {},
   "outputs": [],
   "source": [
    "fig, ax = plt.subplots(figsize=(24,12))\n",
    "\n",
    "Quarters2017['Open'].plot(ax=ax,label='2017')\n",
    "plt.axvline(x=[298],color='red',label='Q3')\n",
    "plt.axvline(x=[116],color='green',label='Q1')\n",
    "\n",
    "Quarters2016['Open'].plot(ax=ax,label='2016')\n",
    "Quarters2015['Open'].plot(ax=ax,label='2015')\n",
    "plt.legend(loc='best')\n",
    "plt.title('First and Third Quarter Analysis (2015-2017) - GOOG',fontsize=25)"
   ]
  },
  {
   "cell_type": "markdown",
   "id": "1115f24c",
   "metadata": {},
   "source": [
    "### In what months does Google perform the best?"
   ]
  },
  {
   "cell_type": "markdown",
   "id": "d0dd87f7",
   "metadata": {},
   "source": [
    "Creating a column Month and making abbreviating it."
   ]
  },
  {
   "cell_type": "code",
   "execution_count": null,
   "id": "339543e1",
   "metadata": {},
   "outputs": [],
   "source": [
    "Google = Google.reset_index()\n",
    "Google['Month'] = pd.to_datetime(Google['Date'], format='%m/%d/%y').dt.month\n",
    "Google['Month'] = Google['Month'].apply(lambda x: calendar.month_abbr[x])"
   ]
  },
  {
   "cell_type": "markdown",
   "id": "1eb1006e",
   "metadata": {},
   "source": [
    "Finding all unique month values"
   ]
  },
  {
   "cell_type": "code",
   "execution_count": null,
   "id": "194aeb74",
   "metadata": {},
   "outputs": [],
   "source": [
    "Google.Month.unique()"
   ]
  },
  {
   "cell_type": "markdown",
   "id": "2e499c0d",
   "metadata": {},
   "source": [
    "Making a new dataframe for every month, getting the mean of growth in each month and then merging them into the one dataframe."
   ]
  },
  {
   "cell_type": "code",
   "execution_count": null,
   "id": "7e640067",
   "metadata": {},
   "outputs": [],
   "source": [
    "Jan = Google[Google.Month.str.contains(\"Jan\") == True]\n",
    "Feb = Google[Google.Month.str.contains(\"Feb\") == True]\n",
    "Mar = Google[Google.Month.str.contains(\"Mar\") == True]\n",
    "Apr = Google[Google.Month.str.contains(\"Apr\") == True]\n",
    "May = Google[Google.Month.str.contains(\"May\") == True]\n",
    "Jun = Google[Google.Month.str.contains(\"Jun\") == True]\n",
    "Jul = Google[Google.Month.str.contains(\"Jul\") == True]\n",
    "Aug = Google[Google.Month.str.contains(\"Aug\") == True]\n",
    "Sep = Google[Google.Month.str.contains(\"Sep\") == True]\n",
    "Oct = Google[Google.Month.str.contains(\"Oct\") == True]\n",
    "Nov = Google[Google.Month.str.contains(\"Nov\") == True]\n",
    "Dec = Google[Google.Month.str.contains(\"Dec\") == True]\n",
    "\n",
    "Jan = Jan['Growth'].mean()\n",
    "Feb = Feb['Growth'].mean()\n",
    "Mar = Mar['Growth'].mean()\n",
    "Apr = Apr['Growth'].mean()\n",
    "May = May['Growth'].mean()\n",
    "Jun = Jun['Growth'].mean()\n",
    "Jul = Jul['Growth'].mean()\n",
    "Aug = Aug['Growth'].mean()\n",
    "Sep = Sep['Growth'].mean()\n",
    "Oct = Oct['Growth'].mean()\n",
    "Nov = Nov['Growth'].mean()\n",
    "Dec = Dec['Growth'].mean()\n",
    "\n",
    "columns =  ['Mean_Growth_Per_Month']\n",
    "Month = pd.DataFrame(columns=columns)\n",
    "Month.loc[1] = [Jan]\n",
    "Month.loc[2] = [Feb]\n",
    "Month.loc[3] = [Mar]\n",
    "Month.loc[4] = [Apr]\n",
    "Month.loc[5] = [May]\n",
    "Month.loc[6] = [Jun]\n",
    "Month.loc[7] = [Jul]\n",
    "Month.loc[8] = [Aug]\n",
    "Month.loc[9] = [Sep]\n",
    "Month.loc[10] = [Oct]\n",
    "Month.loc[11] = [Nov]\n",
    "Month.loc[12] = [Dec]"
   ]
  },
  {
   "cell_type": "markdown",
   "id": "c04f3ddf",
   "metadata": {},
   "source": [
    "Resetting the index and reapplying month abrreviations\n",
    "\n",
    "Then setting the month as an index and sorting the table in desceding value"
   ]
  },
  {
   "cell_type": "code",
   "execution_count": null,
   "id": "9bcb5eb1",
   "metadata": {},
   "outputs": [],
   "source": [
    "Month = Month.reset_index()\n",
    "Month['index'] = Month['index'].apply(lambda x: calendar.month_abbr[x])\n",
    "Month = Month.set_index('index')\n",
    "Month = Month.sort_values(['Mean_Growth_Per_Month'], ascending=False)"
   ]
  },
  {
   "cell_type": "markdown",
   "id": "29b198d5",
   "metadata": {},
   "source": [
    "This graph shows Googles average best and worst performing months. October,July and May are their best performing months wheras June, August and March are their worst."
   ]
  },
  {
   "cell_type": "code",
   "execution_count": null,
   "id": "2440ff43",
   "metadata": {},
   "outputs": [],
   "source": [
    "Google2013 = pd.read_html(url)[0]\n",
    "Google2014 = pd.read_html(url)[1]\n",
    "Google2015 = pd.read_html(url)[2]\n",
    "Google2016 = pd.read_html(url)[3]\n",
    "Google2017 = pd.read_html(url)[4]"
   ]
  },
  {
   "cell_type": "markdown",
   "id": "1ad0e0f3",
   "metadata": {},
   "source": [
    "Creating an array of all of the years and using concatenate the tables to create a full table"
   ]
  },
  {
   "cell_type": "code",
   "execution_count": null,
   "id": "ccde8bfb",
   "metadata": {},
   "outputs": [],
   "source": [
    "Google.head(3)"
   ]
  },
  {
   "cell_type": "code",
   "execution_count": null,
   "id": "5fa7af93",
   "metadata": {},
   "outputs": [],
   "source": [
    "Google['AdjustedClose'] = Google['Open']\n",
    "Google.AdjustedClose = Google.AdjustedClose.shift(-1)"
   ]
  },
  {
   "cell_type": "markdown",
   "id": "a328de97",
   "metadata": {},
   "source": [
    "Adjusted close now added and works well"
   ]
  },
  {
   "cell_type": "code",
   "execution_count": null,
   "id": "f80e2fd3",
   "metadata": {},
   "outputs": [],
   "source": [
    "Google.head(20)"
   ]
  },
  {
   "cell_type": "markdown",
   "id": "4f40664a",
   "metadata": {},
   "source": [
    "# Analysis & Interpretation"
   ]
  },
  {
   "cell_type": "markdown",
   "id": "8c692bfc",
   "metadata": {},
   "source": [
    "### Next task is to be able to visualse and analyse this information at daily, monthly and annual frequencies"
   ]
  },
  {
   "cell_type": "markdown",
   "id": "cc425792",
   "metadata": {},
   "source": [
    "Using DataFrame.resample on each indivdual column and concatenate them to one overall table."
   ]
  },
  {
   "cell_type": "markdown",
   "id": "6a9c8e80",
   "metadata": {},
   "source": [
    "###### Daily"
   ]
  },
  {
   "cell_type": "code",
   "execution_count": null,
   "id": "63ddd42b",
   "metadata": {},
   "outputs": [],
   "source": [
    "OpenD = Google.Open.resample('D').last()\n",
    "CloseD = Google.AdjustedClose.resample('D').last()\n",
    "HighD = Google.High.resample('D').max()\n",
    "LowD = Google.Low.resample('D').min()\n",
    "Daily = pd.concat([OpenD, CloseD, HighD, LowD], axis=1)\n",
    "Daily.head(7)"
   ]
  },
  {
   "cell_type": "markdown",
   "id": "99729d6c",
   "metadata": {},
   "source": [
    "I have noticed that there is no values entered in for the weekends (stock markets are closed). This will cause gaps when visualsing. Best resolve I feel is to fill these with each fridays information using ffill()."
   ]
  },
  {
   "cell_type": "code",
   "execution_count": null,
   "id": "737e576b",
   "metadata": {},
   "outputs": [],
   "source": [
    "OpenD = Google.Open.resample('D').last().ffill()\n",
    "CloseD = Google.AdjustedClose.resample('D').last().ffill()\n",
    "HighD = Google.High.resample('D').max().ffill()\n",
    "LowD = Google.Low.resample('D').min().ffill()\n",
    "Daily = pd.concat([OpenD, CloseD, HighD, LowD], axis=1)\n",
    "Daily.head(7)"
   ]
  },
  {
   "cell_type": "markdown",
   "id": "a9425249",
   "metadata": {},
   "source": [
    "Using subplots as its hard to distinguish between each line otherwise."
   ]
  },
  {
   "cell_type": "code",
   "execution_count": null,
   "id": "4a901ff8",
   "metadata": {},
   "outputs": [],
   "source": [
    "GoogleVolatility['Expected Change'] = GoogleVolatility['Volatility'] * Google['AdjustedClose'].shift()"
   ]
  },
  {
   "cell_type": "markdown",
   "id": "fdca33a6",
   "metadata": {},
   "source": [
    "To calculate the actually change you just minus the adjusted close from each day by eachother."
   ]
  },
  {
   "cell_type": "code",
   "execution_count": null,
   "id": "c15b292d",
   "metadata": {},
   "outputs": [],
   "source": [
    "GoogleVolatility['Actual Change'] = Google['AdjustedClose'] - Google['AdjustedClose'].shift()"
   ]
  },
  {
   "cell_type": "markdown",
   "id": "5b3dfeae",
   "metadata": {},
   "source": [
    "Graphing the expected against the actual will show an accurate enough prediction but can be subject to lag meaning its predictions could be late as it uses a 10 day rolling average"
   ]
  },
  {
   "cell_type": "code",
   "execution_count": null,
   "id": "44cd4581",
   "metadata": {},
   "outputs": [],
   "source": [
    "fig, ax = plt.subplots(figsize=(15,8))\n",
    "GoogleVolatility.plot(ax=ax,y=['Actual Change','Expected Change'],color =['lightgreen','magenta'],figsize=(10,10),lw=2)"
   ]
  },
  {
   "cell_type": "markdown",
   "id": "3404750f",
   "metadata": {},
   "source": [
    "## Extra Work - NASDAQ Comparision"
   ]
  },
  {
   "cell_type": "markdown",
   "id": "ab30b9b0",
   "metadata": {},
   "source": [
    "I had a bit of extra time with this assignments extention so I was interested to compare how GOOG performed against NASDAQ (American Stock Exchange Market)"
   ]
  },
  {
   "cell_type": "markdown",
   "id": "11fdb4c9",
   "metadata": {},
   "source": [
    "I researched to see if I could find any information on the market between the years of 2013 and 2017. While searching I came across 'investing.com'.This site allowed me to download a CSV file of the NASDAQ from 2013-2017 which I have included in my submission."
   ]
  },
  {
   "cell_type": "code",
   "execution_count": null,
   "id": "c8f31e74",
   "metadata": {},
   "outputs": [],
   "source": [
    "Google2 = Google"
   ]
  },
  {
   "cell_type": "markdown",
   "id": "148fa1ec",
   "metadata": {},
   "source": [
    "Reading in the data and getting a first look at what I have."
   ]
  },
  {
   "cell_type": "code",
   "execution_count": null,
   "id": "18aef054",
   "metadata": {},
   "outputs": [],
   "source": [
    "Nasdaq = pd.read_csv(\"NASDAQ Composite Historical Data.csv\")\n",
    "Nasdaq.head(7)"
   ]
  },
  {
   "cell_type": "markdown",
   "id": "8c2bea07",
   "metadata": {},
   "source": [
    "Changing the files dates to datetime then converting it to an object."
   ]
  },
  {
   "cell_type": "code",
   "execution_count": null,
   "id": "6eeb4076",
   "metadata": {},
   "outputs": [],
   "source": [
    "Nasdaq['Dates'] = pd.to_datetime(Nasdaq['Date'])\n",
    "Nasdaq['Dates'] = Nasdaq['Dates'].astype(object)\n",
    "Nasdaq.head(7)"
   ]
  },
  {
   "cell_type": "markdown",
   "id": "b19fbb33",
   "metadata": {},
   "source": [
    "Dropping all irrelevant columns from Nasdaq"
   ]
  },
  {
   "cell_type": "code",
   "execution_count": null,
   "id": "4e9dfff6",
   "metadata": {},
   "outputs": [],
   "source": [
    "Nasdaq = Nasdaq.drop(['Vol.','Price','High','Low','Change %','Date'], axis=1)"
   ]
  },
  {
   "cell_type": "markdown",
   "id": "cc5e9f75",
   "metadata": {},
   "source": [
    "Making the column Dates an object"
   ]
  },
  {
   "cell_type": "code",
   "execution_count": null,
   "id": "6420a7dd",
   "metadata": {},
   "outputs": [],
   "source": [
    "Google2 = Google2.reset_index()\n",
    "Google2['Dates'] = Google2['Date']\n",
    "Google2['Dates'] = Google2['Dates'].astype(object)"
   ]
  },
  {
   "cell_type": "markdown",
   "id": "88315d6c",
   "metadata": {},
   "source": [
    "Dropping all irrelevant columns from Google"
   ]
  },
  {
   "cell_type": "markdown",
   "id": "fed1f1e7",
   "metadata": {},
   "source": [
    "No need to use subplots as results more definitive. I feel this is the best represtation of the Companys performance over the past 5 years, the information is much clearer and easier to read."
   ]
  },
  {
   "cell_type": "code",
   "execution_count": null,
   "id": "9fd006d9",
   "metadata": {},
   "outputs": [],
   "source": [
    "fig, ax = plt.subplots(figsize=(10,10))\n",
    "Annual.plot(ax=ax,grid = True)"
   ]
  },
  {
   "cell_type": "markdown",
   "id": "ce7378e5",
   "metadata": {},
   "source": [
    "## Further Anaylsis"
   ]
  },
  {
   "cell_type": "markdown",
   "id": "57377c05",
   "metadata": {},
   "source": [
    "What is the best day of trade over the past 5 years?\n",
    "To do this I am going to find the sum of the open for everyday and compare them "
   ]
  },
  {
   "cell_type": "code",
   "execution_count": null,
   "id": "2afe1b9b",
   "metadata": {},
   "outputs": [],
   "source": [
    "Monday = Google[Google.Day.str.contains(\"Monday\") == True]\n",
    "Tuesday = Google[Google.Day.str.contains(\"Tuesday\") == True]\n",
    "Wednesday = Google[Google.Day.str.contains(\"Wednesday\") == True]\n",
    "Thursday = Google[Google.Day.str.contains(\"Thursday\") == True]\n",
    "Friday = Google[Google.Day.str.contains(\"Friday\") == True]\n",
    "\n",
    "Monday    = Monday['Open'].sum()\n",
    "Tuesday   = Tuesday['Open'].sum()\n",
    "Wednesday = Wednesday['Open'].sum()\n",
    "Thursday  = Thursday['Open'].sum()\n",
    "Friday    = Friday['Open'].sum()\n",
    "\n",
    "columns =  ['Day Total']\n",
    "Week = pd.DataFrame(columns=columns)\n",
    "Week.loc[1] = [Monday]\n",
    "Week.loc[2] = [Tuesday]\n",
    "Week.loc[3] = [Wednesday]\n",
    "Week.loc[4] = [Thursday]\n",
    "Week.loc[5] = [Friday]"
   ]
  },
  {
   "cell_type": "markdown",
   "id": "fcf97b39",
   "metadata": {},
   "source": [
    "Monday seems to be a non day for trading with Friday and Thursday following. Tuesday and Wednesday seem to be the main days of trade. Changes in open"
   ]
  },
  {
   "cell_type": "markdown",
   "id": "51e51314",
   "metadata": {},
   "source": [
    "Two reasons for Monday being the worst day for trading are:\n",
    "1. Monday is the first trading day after two whole days of the stock market being closed.Inturn there is a lot of time for news to come out which can affect a companys stock price.\n",
    "2. A bad trading day could be because of the psychological effect Mondays have on people making the more negative and not risking trades."
   ]
  },
  {
   "cell_type": "code",
   "execution_count": null,
   "id": "5279ef2e",
   "metadata": {},
   "outputs": [],
   "source": [
    "explode = (0.15, 0, 0, 0,0)\n",
    "labels = [\"Monday\",\"Tuesday\",\"Wednesday\",\"Thursday\",\"Friday\"]\n",
    "Week.plot(subplots=True,kind='pie',figsize=(9,9),fontsize=14,explode=explode,autopct='%1.1f%%',shadow=True,labels=labels,labeldistance=1.4)\n",
    "plt.legend(loc='right', bbox_to_anchor=(1.45, .55))\n",
    "plt.title('Best Days Of Trade - GOOG',fontsize=10)"
   ]
  },
  {
   "cell_type": "markdown",
   "id": "fb2577e8",
   "metadata": {},
   "source": [
    "## Stock Return"
   ]
  },
  {
   "cell_type": "markdown",
   "id": "7739d6cc",
   "metadata": {},
   "source": [
    "One way of analysising a stock is by seeing its stock return which is how it performs over time in a set period. To calculate this I will be using the start of a period as 1 and when the stock return fulctuates above or below this figure I will have a good idea on how it is performing."
   ]
  },
  {
   "cell_type": "code",
   "execution_count": null,
   "id": "998c963a",
   "metadata": {},
   "outputs": [],
   "source": [
    "DailyReturn = Daily.drop(Daily.columns[[0,2,3]], axis=1)\n",
    "MonthlyReturn = Monthly.drop(Daily.columns[[0,2,3]], axis=1)\n",
    "AnnualReturn = Annual.drop(Daily.columns[[0,2,3]], axis =1)\n",
    "DailyReturn.head(5)"
   ]
  },
  {
   "cell_type": "markdown",
   "id": "58ac9d82",
   "metadata": {},
   "source": [
    "Seperating each year"
   ]
  },
  {
   "cell_type": "code",
   "execution_count": null,
   "id": "7d165b6d",
   "metadata": {},
   "outputs": [],
   "source": [
    "DailyReturn2017 = DailyReturn['2017']\n",
    "MonthlyReturn2017 = MonthlyReturn['2017']\n",
    "\n",
    "DailyReturn2016 = DailyReturn['2016']\n",
    "MonthlyReturn2016 = MonthlyReturn['2016']\n",
    "\n",
    "DailyReturn2015 = DailyReturn['2015']\n",
    "MonthlyReturn2015 = MonthlyReturn['2015']\n",
    "\n",
    "DailyReturn2014 = DailyReturn['2014']\n",
    "MonthlyReturn2014 = MonthlyReturn['2014']\n",
    "\n",
    "DailyReturn2013 = DailyReturn['2013']\n",
    "MonthlyReturn2013 = MonthlyReturn['2013']"
   ]
  },
  {
   "cell_type": "markdown",
   "id": "15ea04fd",
   "metadata": {},
   "source": [
    "Calculating stock return for every year"
   ]
  },
  {
   "cell_type": "code",
   "execution_count": null,
   "id": "073a2048",
   "metadata": {},
   "outputs": [],
   "source": [
    "Daily_Return2017 = DailyReturn2017.apply(lambda x: x / x[0])\n",
    "Monthly_Return2017 = MonthlyReturn2017.apply(lambda x: x / x[0])\n",
    "\n",
    "Daily_Return2016 = DailyReturn2016.apply(lambda x: x / x[0])\n",
    "Monthly_Return2016 = MonthlyReturn2016.apply(lambda x: x / x[0])\n",
    "\n",
    "Daily_Return2015 = DailyReturn2015.apply(lambda x: x / x[0])\n",
    "Monthly_Return2015 = MonthlyReturn2015.apply(lambda x: x / x[0])\n",
    "\n",
    "Daily_Return2014 = DailyReturn2014.apply(lambda x: x / x[0])\n",
    "Monthly_Return2014 = MonthlyReturn2014.apply(lambda x: x / x[0])\n",
    "\n",
    "Daily_Return2013 = DailyReturn2013.apply(lambda x: x / x[0])\n",
    "Monthly_Return2013 = MonthlyReturn2013.apply(lambda x: x / x[0])\n",
    "\n",
    "Annual_Return = AnnualReturn.apply(lambda x:x /x[0])\n",
    "Daily_Return = DailyReturn.apply(lambda x:x /x[0])\n",
    "Monthly_Return = MonthlyReturn.apply(lambda x:x / x[0])"
   ]
  },
  {
   "cell_type": "markdown",
   "id": "453932f0",
   "metadata": {},
   "source": [
    "First tried plot using time series dataframes but it doesn't look great"
   ]
  },
  {
   "cell_type": "code",
   "execution_count": null,
   "id": "b52664d8",
   "metadata": {},
   "outputs": [],
   "source": [
    "fig, ax = plt.subplots()\n",
    "\n",
    "Monthly_Return2017.plot(ax=ax,label='2017',legend=False)\n",
    "Monthly_Return2016.plot(ax=ax,label='2016',legend=False)\n",
    "Monthly_Return2015.plot(ax=ax,label='2015',legend=False)\n",
    "Monthly_Return2014.plot(ax=ax,label='2014',legend=False)\n",
    "Monthly_Return2013.plot(ax=ax,label='2013',legend=False).axhline(y = 1, color = \"black\", lw = 2)"
   ]
  },
  {
   "cell_type": "markdown",
   "id": "de1be8ad",
   "metadata": {},
   "source": [
    "Resetting the index of every year and plotting them against each other giving a better representation"
   ]
  },
  {
   "cell_type": "code",
   "execution_count": null,
   "id": "89597f3e",
   "metadata": {},
   "outputs": [],
   "source": [
    "Years  = [Google2013,Google2014,Google2015,Google2016,Google2017]\n",
    "Google = pd.concat(Years)\n",
    "Google.head(7)"
   ]
  },
  {
   "cell_type": "markdown",
   "id": "e36fc3f9",
   "metadata": {},
   "source": [
    "# Data Parsing & Cleaning"
   ]
  },
  {
   "cell_type": "markdown",
   "id": "041c78b9",
   "metadata": {},
   "source": [
    "Preparing the columns Day, Month and Year to be changed to a datetime.\n",
    "Merging the three columns using a '-' to join complying to datetimes syntax and droping the three columns."
   ]
  },
  {
   "cell_type": "code",
   "execution_count": null,
   "id": "760a93b8",
   "metadata": {},
   "outputs": [],
   "source": [
    "Google.Year = Google.Year.astype(str)\n",
    "Google.Month = Google.Month.astype(str)\n",
    "Google.Day = Google.Day.astype(str)\n",
    "Google['Date'] = Google[['Year', 'Month','Day']].apply(lambda x: '-'.join(x), axis=1)\n",
    "Google.drop(['Year', 'Month','Day'], axis=1, inplace=True)"
   ]
  },
  {
   "cell_type": "code",
   "execution_count": null,
   "id": "3df41be8",
   "metadata": {},
   "outputs": [],
   "source": [
    "Google.head(5)"
   ]
  },
  {
   "cell_type": "markdown",
   "id": "07f53c06",
   "metadata": {},
   "source": [
    "Changing the new column Date to a time series"
   ]
  },
  {
   "cell_type": "code",
   "execution_count": null,
   "id": "f7faac88",
   "metadata": {},
   "outputs": [],
   "source": [
    "Google['Date'] = pd.to_datetime(Google['Date'])\n",
    "Google.head(5)"
   ]
  },
  {
   "cell_type": "markdown",
   "id": "4a1990bf",
   "metadata": {},
   "source": [
    "Added a new column day"
   ]
  },
  {
   "cell_type": "code",
   "execution_count": null,
   "id": "08d6ebf2",
   "metadata": {},
   "outputs": [],
   "source": [
    "Google['Day'] = pd.to_datetime(Google['Date'], format='%m/%d/%y').dt.weekday_name"
   ]
  },
  {
   "cell_type": "markdown",
   "id": "4d3240d3",
   "metadata": {},
   "source": [
    "Need to move day to first column."
   ]
  },
  {
   "cell_type": "code",
   "execution_count": null,
   "id": "a9a0b39b",
   "metadata": {},
   "outputs": [],
   "source": [
    "Daily_Return2017 = Daily_Return2017.reset_index()\n",
    "Daily_Return2016 = Daily_Return2016.reset_index()\n",
    "Daily_Return2015 = Daily_Return2015.reset_index()\n",
    "Daily_Return2014 = Daily_Return2014.reset_index()\n",
    "Daily_Return2013 = Daily_Return2013.reset_index()"
   ]
  },
  {
   "cell_type": "code",
   "execution_count": null,
   "id": "dd739555",
   "metadata": {},
   "outputs": [],
   "source": [
    "fig, ax = plt.subplots(figsize=(5,5))\n",
    "\n",
    "Daily_Return2017['AdjustedClose'].plot(ax=ax,label='2017').axhline(y = 1, color = \"black\", lw = 3)\n",
    "Daily_Return2016['AdjustedClose'].plot(ax=ax,label='2016')\n",
    "Daily_Return2015['AdjustedClose'].plot(ax=ax,label='2015')\n",
    "Daily_Return2014['AdjustedClose'].plot(ax=ax,label='2014')\n",
    "Daily_Return2013['AdjustedClose'].plot(ax=ax,label='2013')\n",
    "plt.legend()"
   ]
  },
  {
   "cell_type": "markdown",
   "id": "80fc6e18",
   "metadata": {},
   "source": [
    "Daily looks too hard to draw information from so I will use Monthly"
   ]
  },
  {
   "cell_type": "code",
   "execution_count": null,
   "id": "c6d32fb4",
   "metadata": {},
   "outputs": [],
   "source": [
    "Google2 = Google2.drop(['Date','High','Low','Close','AdjustedClose','Growth','Range','Day','Month','Return Change','index'], axis=1)"
   ]
  },
  {
   "cell_type": "markdown",
   "id": "6610f25a",
   "metadata": {},
   "source": [
    "Checking both Nasdaq and Google are in the same format"
   ]
  },
  {
   "cell_type": "code",
   "execution_count": null,
   "id": "6327ebf7",
   "metadata": {},
   "outputs": [],
   "source": [
    "Google2.head(5)"
   ]
  },
  {
   "cell_type": "code",
   "execution_count": null,
   "id": "73ae2348",
   "metadata": {},
   "outputs": [],
   "source": [
    "Nasdaq.head(5)"
   ]
  },
  {
   "cell_type": "markdown",
   "id": "db298162",
   "metadata": {},
   "source": [
    "Merging Google and Nasdaq on the common column Dates"
   ]
  },
  {
   "cell_type": "code",
   "execution_count": null,
   "id": "2588e64b",
   "metadata": {},
   "outputs": [],
   "source": [
    "Common = pd.merge(Google2, Nasdaq, on=['Dates'])\n",
    "Common.columns = ['Open-Google','Date','Open-NASDAQ']"
   ]
  },
  {
   "cell_type": "markdown",
   "id": "def23b96",
   "metadata": {},
   "source": [
    "Setting Date as the index and changing it back to a datetime."
   ]
  },
  {
   "cell_type": "code",
   "execution_count": null,
   "id": "395bb052",
   "metadata": {},
   "outputs": [],
   "source": [
    "Common.set_index('Date')\n",
    "Common['Date'] = pd.to_datetime(Common['Date'])"
   ]
  },
  {
   "cell_type": "code",
   "execution_count": null,
   "id": "72e8f1e8",
   "metadata": {},
   "outputs": [],
   "source": [
    "Common.head(5)"
   ]
  },
  {
   "cell_type": "markdown",
   "id": "dbad84a5",
   "metadata": {},
   "source": [
    "I noticed Open-NASDAQ contained commas when in thousands so I just removed them completely."
   ]
  },
  {
   "cell_type": "code",
   "execution_count": null,
   "id": "aa7bdb16",
   "metadata": {},
   "outputs": [],
   "source": [
    "GoogleRange.head(7)"
   ]
  },
  {
   "cell_type": "markdown",
   "id": "da8675e0",
   "metadata": {},
   "source": [
    "This shows when Alphabets stocks fluctuated the most negatively in the stock market in the last 5 years"
   ]
  },
  {
   "cell_type": "code",
   "execution_count": null,
   "id": "a0f8b8b7",
   "metadata": {},
   "outputs": [],
   "source": [
    "GoogleRange.tail(7)"
   ]
  },
  {
   "cell_type": "markdown",
   "id": "7d356df7",
   "metadata": {},
   "source": [
    "Using this line of best fit graph you can see how as the growth figure gets bigger/smaller so does the range. Using this you could predict the range when you have the growth and visa versa.\n",
    "\n",
    "When the growth exceeds +-5 its much harder to predict the other as these growths don't happen as often."
   ]
  },
  {
   "cell_type": "code",
   "execution_count": null,
   "id": "8e083e5f",
   "metadata": {},
   "outputs": [],
   "source": [
    "fig = plt.figure(figsize=(26, 6))\n",
    "fig.suptitle(\"Line Of Best Fit (Range/Growth) - GOOG\", fontsize=14)\n",
    "gs = gridspec.GridSpec(100,100)\n",
    "ax = fig.add_subplot(gs[:,40:130])\n",
    "sns.regplot(GoogleSpikes['Growth'],GoogleRange['Range'],marker=\"+\",scatter_kws={\"color\": \"blue\"}, line_kws={\"color\":\"red\"})"
   ]
  },
  {
   "cell_type": "markdown",
   "id": "73bd4ef8",
   "metadata": {},
   "source": [
    "Below I have graphed Googles Highest and Worst ever growth which all happened in the same period of two months. As the companys stocks increased so much in July when its growth reversed it actually was not that bad of an impact as it had already grown so much.\n",
    "\n",
    "A great rise can be seen after Googles worst growth this shows the companys stability in the stock market."
   ]
  },
  {
   "cell_type": "code",
   "execution_count": null,
   "id": "19160c99",
   "metadata": {},
   "outputs": [],
   "source": [
    "fig, axes = plt.subplots(nrows=2, ncols=1)\n",
    "fig.subplots_adjust(hspace=0.4, wspace=0.4)\n",
    "GoogleSpikes.plot(ax=axes[0],y='Growth',subplots=False,figsize=(10,10),color='green',label='015-07-10 - 2015-07-31',alpha=.75); axes[0].set_title('Googles Highest Ever Growth')\n",
    "axes[0].set_xlim('2015-07-10', '2015-07-31')\n",
    "axes[0].set_ylim(-13, 14)\n",
    "GoogleSpikes.plot(ax=axes[1],y='Growth',subplots=False,figsize=(10,10),color='orange',label='2015-08-11 - 2015-08-31',alpha=1); axes[1].set_title('Googles Worst Ever Growth')\n",
    "axes[1].set_xlim('2015-08-11', '2015-08-31')\n",
    "axes[1].set_ylim(-13, 14)\n",
    "plt.legend(loc='best')"
   ]
  },
  {
   "cell_type": "markdown",
   "id": "4f35cc0f",
   "metadata": {},
   "source": [
    "Looking from a further out perspective like below this increase and decrease was still a huge raise in Googles stock prices."
   ]
  },
  {
   "cell_type": "code",
   "execution_count": null,
   "id": "f0f0ffd5",
   "metadata": {},
   "outputs": [],
   "source": [
    "fig, ax = plt.subplots(figsize=(20, 5))\n",
    "Google['Open'].plot(ax=ax,label='2015',color='magenta')\n",
    "ax.set_xlim('2015-07', '2015-09')\n",
    "ax.set_ylim(500, 700)"
   ]
  },
  {
   "cell_type": "code",
   "execution_count": null,
   "id": "d56cf2f7",
   "metadata": {},
   "outputs": [],
   "source": [
    "fig, axes = plt.subplots(nrows=3, ncols=1)\n",
    "fig.suptitle(\"Return Per Year (2015-2017) - GOOG\", fontsize=16)\n",
    "fig.subplots_adjust(hspace=0.4, wspace=0.4)\n",
    "\n",
    "Google.plot(ax=axes[0],y= 'Return Change',figsize=(20,10), color='red',legend=True, linestyle='--', marker='o',label='2017')\n",
    "axes[0].set_xlim('2017-01','2017-12')\n",
    "axes[0].set_ylim(-.14, 0.15)\n",
    "\n",
    "Google.plot(ax=axes[1],y= 'Return Change',figsize=(20,10), color='blue',legend=True, linestyle='--', marker='o',label='2016')\n",
    "axes[1].set_xlim('2016-01','2016-12')\n",
    "axes[1].set_ylim(-.14, 0.15)\n",
    "\n",
    "Google.plot(ax=axes[2],y= 'Return Change',figsize=(20,12), color='green',legend=True, linestyle='--', marker='o',label='2015')\n",
    "axes[2].set_xlim('2015-01','2015-12')\n",
    "axes[2].set_ylim(-.14, 0.15)\n",
    "\n",
    "plt.axvline(x=['2015-7-16'],color='red',label='High Point')"
   ]
  },
  {
   "cell_type": "code",
   "execution_count": null,
   "id": "171c0645",
   "metadata": {},
   "outputs": [],
   "source": [
    "fig, ax = plt.subplots(figsize=(20,8))\n",
    "Month.plot(ax=ax,subplots=True,fontsize=14,kind='bar',color = 'blue',alpha=0.7,legend=False)\n",
    "plt.title('Average Growth Per Month - GOOG',fontsize=20)\n",
    "plt.show()"
   ]
  },
  {
   "cell_type": "markdown",
   "id": "2791a375",
   "metadata": {},
   "source": [
    "## Moving Average"
   ]
  },
  {
   "cell_type": "code",
   "execution_count": null,
   "id": "164b81d3",
   "metadata": {},
   "outputs": [],
   "source": [
    "GoogleRolling = Google"
   ]
  },
  {
   "cell_type": "markdown",
   "id": "9f8754cd",
   "metadata": {},
   "source": [
    "This graphs shows the Rolling Average Of Google at both 15 day and 50 day intervals, this could be used to predict when it is a good time to invest in Google."
   ]
  },
  {
   "cell_type": "code",
   "execution_count": null,
   "id": "1e66f35e",
   "metadata": {},
   "outputs": [],
   "source": [
    "GoogleRolling[\"15day\"] = np.round(GoogleRolling[\"Close\"].rolling(window = 15, center = False).mean(), 2)\n",
    "GoogleRolling[\"50day\"] = np.round(GoogleRolling[\"Close\"].rolling(window = 50, center = False).mean(), 2)\n",
    "GoogleRolling.plot(y=['15day','50day','Close'],color =['red','blue','grey'],figsize=(15,8),lw=1.5)\n",
    "plt.title('15day and 50d Moving Average (2013-2017) - GOOG',fontsize=20)"
   ]
  },
  {
   "cell_type": "code",
   "execution_count": null,
   "id": "5f977a4c",
   "metadata": {},
   "outputs": [],
   "source": [
    "Google = Google.drop(['15day','50day'], axis=1)"
   ]
  },
  {
   "cell_type": "markdown",
   "id": "40437673",
   "metadata": {},
   "source": [
    "## Volatility"
   ]
  },
  {
   "cell_type": "markdown",
   "id": "667aa14e",
   "metadata": {},
   "source": [
    "Volatility the degree of variation of a trading price series over time as measured by the standard deviations.\n",
    "\n",
    "After researching online on websites like 'http://stockcharts.com/school/doku.php?id=chart_school:technical_indicators:standard_deviation_volatility' \n",
    "\n",
    "I found you could calculate Volatility and use it to predict change."
   ]
  },
  {
   "cell_type": "code",
   "execution_count": null,
   "id": "260a7dda",
   "metadata": {},
   "outputs": [],
   "source": [
    "GoogleVolatility = Google\n",
    "GoogleVolatility = GoogleVolatility.drop(['Open','High','Low','Close','Growth','Range','Day','AdjustedClose','Month'], axis=1)\n",
    "GoogleVolatility.columns = ['Date', 'Change']\n",
    "GoogleVolatility['Volatility'] = GoogleVolatility.Change.rolling(10).std().shift()"
   ]
  },
  {
   "cell_type": "markdown",
   "id": "b12f0325",
   "metadata": {},
   "source": [
    "This graph shows the Volatility of Google using a ten day rolling standard devisation."
   ]
  },
  {
   "cell_type": "code",
   "execution_count": null,
   "id": "de903dfb",
   "metadata": {},
   "outputs": [],
   "source": [
    "Monthly_Return2017 = Monthly_Return2017.reset_index()\n",
    "Monthly_Return2016 = Monthly_Return2016.reset_index()\n",
    "Monthly_Return2015 = Monthly_Return2015.reset_index()\n",
    "Monthly_Return2014 = Monthly_Return2014.reset_index()\n",
    "Monthly_Return2013 = Monthly_Return2013.reset_index()"
   ]
  },
  {
   "cell_type": "code",
   "execution_count": null,
   "id": "ffa0e58f",
   "metadata": {},
   "outputs": [],
   "source": [
    "fig, ax = plt.subplots(figsize=(15,8))\n",
    "fig.suptitle(\"Stock Return (2013-2017) - GOOG\", fontsize=16)\n",
    "\n",
    "Monthly_Return2017['AdjustedClose'].plot(ax=ax,label='2017').axhline(y = 1, color = \"black\", lw = 2)\n",
    "Monthly_Return2016['AdjustedClose'].plot(ax=ax,label='2016')\n",
    "Monthly_Return2015['AdjustedClose'].plot(ax=ax,label='2015')\n",
    "Monthly_Return2014['AdjustedClose'].plot(ax=ax,label='2014')\n",
    "Monthly_Return2013['AdjustedClose'].plot(ax=ax,label='2013')\n",
    "plt.legend()"
   ]
  },
  {
   "cell_type": "code",
   "execution_count": null,
   "id": "57743b49",
   "metadata": {},
   "outputs": [],
   "source": [
    "Annual_Return.plot(grid = True,color='red',figsize=(15,5)).axhline(y = 1, color = \"black\", lw = 2)"
   ]
  },
  {
   "cell_type": "code",
   "execution_count": null,
   "id": "f5773d2c",
   "metadata": {},
   "outputs": [],
   "source": [
    "Daily_Return.plot(grid = True,color='black',figsize=(5,5),alpha=0.7).axhline(y = 1, color = \"red\", lw = 2)\n",
    "plt.legend(bbox_to_anchor=(1, 1), shadow=True)"
   ]
  },
  {
   "cell_type": "code",
   "execution_count": null,
   "id": "dc7f8526",
   "metadata": {},
   "outputs": [],
   "source": [
    "Google.head(7)"
   ]
  },
  {
   "cell_type": "markdown",
   "id": "7a8f8d3d",
   "metadata": {},
   "source": [
    "## Growth, Return and Range"
   ]
  },
  {
   "cell_type": "markdown",
   "id": "0db801d8",
   "metadata": {},
   "source": [
    "The first step I believe nesseary to get more in depth answers is to create a column Growth % which will show how much the stock of a company has grown or srunk in that time period. I found two ways to calculate this one using returns and the other comparing closes.\n"
   ]
  },
  {
   "cell_type": "code",
   "execution_count": null,
   "id": "194c8ea6",
   "metadata": {},
   "outputs": [],
   "source": [
    "Google['Growth'] = np.where(Google['Open'] < 0, Google['Open'], (((Google['AdjustedClose']-Google['AdjustedClose'].shift(1))/Google['AdjustedClose'])*100))"
   ]
  },
  {
   "cell_type": "code",
   "execution_count": null,
   "id": "a4ecb9c0",
   "metadata": {},
   "outputs": [],
   "source": [
    "Google['Return Change'] = Daily_Return.apply(lambda x: np.log(x) - np.log(x.shift(1))) # shift moves dates back by 1.\n",
    "Google.head(5)"
   ]
  },
  {
   "cell_type": "markdown",
   "id": "118f6eff",
   "metadata": {},
   "source": [
    "Dropping all rows with null values incase it skews results."
   ]
  },
  {
   "cell_type": "markdown",
   "id": "2d4cbe77",
   "metadata": {},
   "source": [
    "Once again using resample to get Annual reports"
   ]
  },
  {
   "cell_type": "code",
   "execution_count": null,
   "id": "fc0dfbc7",
   "metadata": {},
   "outputs": [],
   "source": [
    "OpenA = Google.Open.resample('A').first()\n",
    "CloseA = Google.AdjustedClose.resample('A').last()\n",
    "HighA = Google.High.resample('A').max()\n",
    "LowA = Google.Low.resample('A').min()\n",
    "Annual = pd.concat([OpenA, CloseA, HighA, LowA], axis=1)\n",
    "Annual.head(5)\n"
   ]
  },
  {
   "cell_type": "code",
   "execution_count": null,
   "id": "b0892292",
   "metadata": {},
   "outputs": [],
   "source": [
    "Google = Google.dropna()\n",
    "Google.head(5)"
   ]
  },
  {
   "cell_type": "markdown",
   "id": "19fa5547",
   "metadata": {},
   "source": [
    "Ordering the growth percentage by desceding showing the biggest days first"
   ]
  },
  {
   "cell_type": "code",
   "execution_count": null,
   "id": "6d091ee7",
   "metadata": {},
   "outputs": [],
   "source": [
    "GoogleSpikes = Google.sort_values(['Growth'], ascending=False)"
   ]
  },
  {
   "cell_type": "markdown",
   "id": "3d17da13",
   "metadata": {},
   "source": [
    "This shows Alphabets best days on the stock market in the last 5 years"
   ]
  },
  {
   "cell_type": "code",
   "execution_count": null,
   "id": "6aa89f8e",
   "metadata": {},
   "outputs": [],
   "source": [
    "GoogleSpikes.head(7)"
   ]
  },
  {
   "cell_type": "markdown",
   "id": "981c8a0a",
   "metadata": {},
   "source": [
    "\n",
    "Looking into Googles best day of trade in the last 5 years '2015-07-16' some very interesting information can be found.\n",
    "On the website 'http://money.cnn.com/2015/07/16/technology/google-earnings-q2/index.html' there is an artical written about how Googles stock rised astronomically after Google announched its second quarter earnings and sales.This rise seemed to be attributed to the more people were using their phones had doubled and Google was profiting form ads."
   ]
  },
  {
   "cell_type": "markdown",
   "id": "ec1f4d11",
   "metadata": {},
   "source": [
    "This shows Alphabets worst days on the stock market in the last 5 years"
   ]
  },
  {
   "cell_type": "code",
   "execution_count": null,
   "id": "13aa7cd3",
   "metadata": {},
   "outputs": [],
   "source": [
    "GoogleSpikes.tail(7)"
   ]
  },
  {
   "cell_type": "markdown",
   "id": "23303278",
   "metadata": {},
   "source": [
    "Looking into Googles worst day of trade in the last 5 years the two dates '2015-08-21' and '2013-04-19' some very interesting information can be found.\n",
    "\n",
    "_'2015-08-21'_-  It seems there are two reasons for this huge drop in stock price. One was that only a month before Googles stock had increased around 11% and two the stock markets in general took a huge around this period according to the artical at 'https://www.nytimes.com/2015/08/22/business/dealbook/global-markets-fall-for-second-day.html'\n",
    "\n",
    "_'2013-04-19'_-  On the website 'http://money.cnn.com/2014/04/16/technology/google-earnings/index.html' there is an artical written about how Googles stock dropped dangeriously after Google announched its first quarter earnings and sales and it didn't hit its projected target."
   ]
  },
  {
   "cell_type": "markdown",
   "id": "5618db7c",
   "metadata": {},
   "source": [
    "Another column I feel could be usefull is range which will be able to tell the difference in the open and close for each time period."
   ]
  },
  {
   "cell_type": "code",
   "execution_count": null,
   "id": "327c493f",
   "metadata": {},
   "outputs": [],
   "source": [
    "Google['Range'] = np.where(Google['Open'] < 0, Google['Open'], (Google['Close']-Google['Open']))"
   ]
  },
  {
   "cell_type": "markdown",
   "id": "6fe17495",
   "metadata": {},
   "source": [
    "Ordering the range by desceding showing the biggest days first"
   ]
  },
  {
   "cell_type": "code",
   "execution_count": null,
   "id": "d2d0bd90",
   "metadata": {},
   "outputs": [],
   "source": [
    "GoogleRange = Google.sort_values(['Range'], ascending=False)"
   ]
  },
  {
   "cell_type": "markdown",
   "id": "9898e692",
   "metadata": {},
   "source": [
    "This shows when Alphabets stocks fluctuated the most positively in the stock market in the last 5 years"
   ]
  },
  {
   "cell_type": "code",
   "execution_count": null,
   "id": "34816192",
   "metadata": {},
   "outputs": [],
   "source": [
    "Google.describe()"
   ]
  },
  {
   "cell_type": "markdown",
   "id": "e99727fc",
   "metadata": {},
   "source": [
    "I noticed that the close value of one day does not always equal the same open of the next day so I have created a column adjusted close which contains the correct closing value (adjusted close)"
   ]
  },
  {
   "cell_type": "code",
   "execution_count": null,
   "id": "82c573bf",
   "metadata": {},
   "outputs": [],
   "source": [
    "Daily.plot(subplots=True,grid = True,figsize=(10,10),layout=(2,2))"
   ]
  },
  {
   "cell_type": "markdown",
   "id": "67ddb893",
   "metadata": {},
   "source": [
    "###### Monthly"
   ]
  },
  {
   "cell_type": "markdown",
   "id": "35baf904",
   "metadata": {},
   "source": [
    "Using resample to get only months."
   ]
  },
  {
   "cell_type": "code",
   "execution_count": null,
   "id": "8ae78bcd",
   "metadata": {},
   "outputs": [],
   "source": [
    "OpenM = Google.Open.resample('M').first()\n",
    "CloseM = Google.AdjustedClose.resample('M').last()\n",
    "HighM = Google.High.resample('M').max()\n",
    "LowM = Google.Low.resample('M').min()\n",
    "Monthly = pd.concat([OpenM, CloseM, HighM, LowM], axis=1)\n",
    "Monthly.head(7)"
   ]
  },
  {
   "cell_type": "markdown",
   "id": "1bf5c038",
   "metadata": {},
   "source": [
    "Much easier to read now overall performance can be clearly seen.\n",
    "It seems Googles stock prices have almost trebled in the last 5 years."
   ]
  },
  {
   "cell_type": "code",
   "execution_count": null,
   "id": "41031757",
   "metadata": {},
   "outputs": [],
   "source": [
    "cols = Google.columns.tolist()\n",
    "cols = cols[-2:] + cols[:-2]\n",
    "Google = Google[cols]"
   ]
  },
  {
   "cell_type": "markdown",
   "id": "fd534dcf",
   "metadata": {},
   "source": [
    "Setting date as the index"
   ]
  },
  {
   "cell_type": "code",
   "execution_count": null,
   "id": "9bca9b38",
   "metadata": {},
   "outputs": [],
   "source": [
    "Google = Google.set_index('Date')\n",
    "Google.head(5)"
   ]
  },
  {
   "cell_type": "markdown",
   "id": "99cf3578",
   "metadata": {},
   "source": [
    "First look at the dataframe, not much can be seen excecpt for what looks to the stock rising at a contant rate"
   ]
  },
  {
   "cell_type": "code",
   "execution_count": null,
   "id": "f190d89d",
   "metadata": {},
   "outputs": [],
   "source": [
    "Google.plot(grid = True,figsize=(10,10))"
   ]
  },
  {
   "cell_type": "code",
   "execution_count": null,
   "id": "3d6d9f19",
   "metadata": {},
   "outputs": [],
   "source": [
    "GoogleVolatility['Volatility'].plot(figsize=(5,5))"
   ]
  },
  {
   "cell_type": "markdown",
   "id": "6b62675a",
   "metadata": {},
   "source": [
    "One way of predicting change would be to multiply Googles Volatility at any stage by its AdjustedClose the next day.\n"
   ]
  },
  {
   "cell_type": "code",
   "execution_count": null,
   "id": "7c25669c",
   "metadata": {},
   "outputs": [],
   "source": [
    "Monthly.plot(subplots=True,grid = True,figsize=(10,10),layout=(2,2))"
   ]
  },
  {
   "cell_type": "markdown",
   "id": "9bd59a7e",
   "metadata": {},
   "source": [
    "###### Annual"
   ]
  },
  {
   "cell_type": "code",
   "execution_count": null,
   "id": "6ab2c5e8",
   "metadata": {},
   "outputs": [],
   "source": [
    "Common['Open-NASDAQ'] = Common['Open-NASDAQ'].str.replace(',','').astype(np.float64)"
   ]
  },
  {
   "cell_type": "code",
   "execution_count": null,
   "id": "acc9ba6d",
   "metadata": {},
   "outputs": [],
   "source": [
    "Common.set_index('Date',drop=True,inplace=True)\n",
    "Common.head(5)"
   ]
  },
  {
   "cell_type": "markdown",
   "id": "b6dcfa3d",
   "metadata": {},
   "source": [
    "#### Plotting NASDAQ against GOOG using two different Y axis to make them comparitable"
   ]
  },
  {
   "cell_type": "markdown",
   "id": "3da623cf",
   "metadata": {},
   "source": [
    "Red = Google\n",
    "\n",
    "Green = NASDAQ"
   ]
  }
 ],
 "metadata": {},
 "nbformat": 4,
 "nbformat_minor": 5
}
