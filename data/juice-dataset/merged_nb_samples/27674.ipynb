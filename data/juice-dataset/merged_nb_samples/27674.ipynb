{
 "cells": [
  {
   "cell_type": "markdown",
   "id": "ada807d0",
   "metadata": {},
   "source": [
    "##ThinkDSP\n",
    "\n",
    "This notebook contains code examples from Chapter 7: Discrete Fourier Transform\n",
    "\n",
    "Copyright 2015 Allen Downey\n",
    "\n",
    "License: [Creative Commons Attribution 4.0 International](http://creativecommons.org/licenses/by/4.0/)"
   ]
  },
  {
   "cell_type": "code",
   "execution_count": null,
   "id": "d4f7cda1",
   "metadata": {},
   "outputs": [],
   "source": [
    "from __future__ import print_function, division\n",
    "\n",
    "import thinkdsp\n",
    "import thinkplot\n",
    "import thinkstats2\n",
    "\n",
    "import numpy as np\n",
    "\n",
    "import warnings\n",
    "warnings.filterwarnings('ignore')\n",
    "\n",
    "PI2 = 2 * np.pi\n",
    "\n",
    "np.set_printoptions(precision=3, suppress=True)\n",
    "%matplotlib inline"
   ]
  },
  {
   "cell_type": "markdown",
   "id": "b5aae04c",
   "metadata": {},
   "source": [
    "Here's the definition of ComplexSinusoid, with print statements to display intermediate results."
   ]
  },
  {
   "cell_type": "code",
   "execution_count": null,
   "id": "07291ed8",
   "metadata": {},
   "outputs": [],
   "source": [
    "class ComplexSinusoid(thinkdsp.Sinusoid):\n",
    "    \"\"\"Represents a complex exponential signal.\"\"\"\n",
    "    \n",
    "    def evaluate(self, ts):\n",
    "        \"\"\"Evaluates the signal at the given times.\n",
    "\n",
    "        ts: float array of times\n",
    "        \n",
    "        returns: float wave array\n",
    "        \"\"\"\n",
    "        print(ts)\n",
    "        phases = PI2 * self.freq * ts + self.offset\n",
    "        print(phases)\n",
    "        ys = self.amp * np.exp(1j * phases)\n",
    "        return ys"
   ]
  },
  {
   "cell_type": "markdown",
   "id": "635d0545",
   "metadata": {},
   "source": [
    "Here's an example:"
   ]
  },
  {
   "cell_type": "code",
   "execution_count": null,
   "id": "7120eea0",
   "metadata": {},
   "outputs": [],
   "source": [
    "signal = ComplexSinusoid(freq=1, amp=0.6, offset=1)\n",
    "wave = signal.make_wave(duration=1, framerate=4)\n",
    "print(wave.ys)"
   ]
  },
  {
   "cell_type": "markdown",
   "id": "49a04122",
   "metadata": {},
   "source": [
    "The simplest way to synthesize a mixture of signals is to evaluate the signals and add them up."
   ]
  },
  {
   "cell_type": "code",
   "execution_count": null,
   "id": "e1e235e0",
   "metadata": {},
   "outputs": [],
   "source": [
    "def synthesize1(amps, freqs, ts):\n",
    "    components = [thinkdsp.ComplexSinusoid(freq, amp)\n",
    "                  for amp, freq in zip(amps, freqs)]\n",
    "    signal = thinkdsp.SumSignal(*components)\n",
    "    ys = signal.evaluate(ts)\n",
    "    return ys"
   ]
  },
  {
   "cell_type": "markdown",
   "id": "8a1e4adc",
   "metadata": {},
   "source": [
    "Here's an example that's a mixture of 4 components."
   ]
  },
  {
   "cell_type": "code",
   "execution_count": null,
   "id": "c50f4c10",
   "metadata": {},
   "outputs": [],
   "source": [
    "amps = np.array([0.6, 0.25, 0.1, 0.05])\n",
    "freqs = [100, 200, 300, 400]\n",
    "framerate = 11025\n",
    "\n",
    "ts = np.linspace(0, 1, framerate)\n",
    "ys = synthesize1(amps, freqs, ts)\n",
    "print(ys)"
   ]
  },
  {
   "cell_type": "markdown",
   "id": "df436f1e",
   "metadata": {},
   "source": [
    "Now we can plot the real and imaginary parts:"
   ]
  },
  {
   "cell_type": "code",
   "execution_count": null,
   "id": "50243a44",
   "metadata": {},
   "outputs": [],
   "source": [
    "print(np.fft.fft(ys))"
   ]
  },
  {
   "cell_type": "markdown",
   "id": "f57c622b",
   "metadata": {},
   "source": [
    "The inverse DFT is almost the same, except we don't have to transpose $M$ and we have to divide through by $N$."
   ]
  },
  {
   "cell_type": "code",
   "execution_count": null,
   "id": "030fbbee",
   "metadata": {},
   "outputs": [],
   "source": [
    "def idft(ys):\n",
    "    N = len(ys)\n",
    "    M = synthesis_matrix(N)\n",
    "    amps = M.dot(ys) / N\n",
    "    return amps"
   ]
  },
  {
   "cell_type": "markdown",
   "id": "8b9a808d",
   "metadata": {},
   "source": [
    "We can confirm that `dft(idft(amps))` yields `amps`:"
   ]
  },
  {
   "cell_type": "code",
   "execution_count": null,
   "id": "62cf1f2e",
   "metadata": {},
   "outputs": [],
   "source": [
    "ys = idft(amps)\n",
    "print(dft(ys))"
   ]
  },
  {
   "cell_type": "markdown",
   "id": "43320d18",
   "metadata": {},
   "source": [
    "###Real signals\n",
    "\n",
    "Let's see what happens when we apply DFT to a real-valued signal."
   ]
  },
  {
   "cell_type": "code",
   "execution_count": null,
   "id": "7d3f8a80",
   "metadata": {},
   "outputs": [],
   "source": [
    "framerate = 10000\n",
    "signal = thinkdsp.SawtoothSignal(freq=500)\n",
    "wave = signal.make_wave(duration=0.1, framerate=framerate)\n",
    "wave.make_audio()"
   ]
  },
  {
   "cell_type": "markdown",
   "id": "f5e8bebb",
   "metadata": {},
   "source": [
    "`wave` is a 500 Hz sawtooth signal sampled at 10 kHz."
   ]
  },
  {
   "cell_type": "code",
   "execution_count": null,
   "id": "7cee871a",
   "metadata": {},
   "outputs": [],
   "source": [
    "hs = dft(wave.ys)\n",
    "len(wave.ys), len(hs)"
   ]
  },
  {
   "cell_type": "markdown",
   "id": "0f080beb",
   "metadata": {},
   "source": [
    "`hs` is the DFT of this wave, and `amps` contains the amplitudes."
   ]
  },
  {
   "cell_type": "code",
   "execution_count": null,
   "id": "d8e93aa4",
   "metadata": {},
   "outputs": [],
   "source": [
    "amps = np.absolute(hs)\n",
    "thinkplot.plot(amps)\n",
    "thinkplot.config(xlabel='Frequency (unspecified units)', ylabel='DFT')"
   ]
  },
  {
   "cell_type": "markdown",
   "id": "573276cc",
   "metadata": {},
   "source": [
    "The DFT assumes that the sampling rate is N per time unit, for an arbitrary time unit.  We have to convert to actual units -- seconds -- like this:"
   ]
  },
  {
   "cell_type": "code",
   "execution_count": null,
   "id": "56acf4eb",
   "metadata": {},
   "outputs": [],
   "source": [
    "N = len(hs)\n",
    "fs = np.arange(N) * framerate / N"
   ]
  },
  {
   "cell_type": "markdown",
   "id": "344c9237",
   "metadata": {},
   "source": [
    "Also, the DFT of a real signal is symmetric, so the right side is redundant.  Normally, we only compute and plot the first half:"
   ]
  },
  {
   "cell_type": "code",
   "execution_count": null,
   "id": "08f14750",
   "metadata": {},
   "outputs": [],
   "source": [
    "thinkplot.plot(fs[:N//2+1], amps[:N//2+1])\n",
    "thinkplot.config(xlabel='Frequency (Hz)', ylabel='DFT')"
   ]
  },
  {
   "cell_type": "markdown",
   "id": "76633b82",
   "metadata": {},
   "source": [
    "Let's get a better sense for why the DFT of a real signal is symmetric.  I'll start by making the inverse DFT matrix for $N=8$."
   ]
  },
  {
   "cell_type": "code",
   "execution_count": null,
   "id": "777ae30d",
   "metadata": {},
   "outputs": [],
   "source": [
    "wave = thinkdsp.TriangleSignal(freq=1).make_wave(duration=1, framerate=8)\n",
    "wave.ys"
   ]
  },
  {
   "cell_type": "markdown",
   "id": "9c031426",
   "metadata": {},
   "source": [
    "Here's what the wave looks like."
   ]
  },
  {
   "cell_type": "code",
   "execution_count": null,
   "id": "4671ae69",
   "metadata": {},
   "outputs": [],
   "source": [
    "wave.plot()"
   ]
  },
  {
   "cell_type": "markdown",
   "id": "d752c537",
   "metadata": {},
   "source": [
    "Now let's look at rows 3 and 5 of the DFT matrix:"
   ]
  },
  {
   "cell_type": "code",
   "execution_count": null,
   "id": "7a4ea4fa",
   "metadata": {},
   "outputs": [],
   "source": [
    "row3 = Mstar[3, :]\n",
    "print(row3)"
   ]
  },
  {
   "cell_type": "code",
   "execution_count": null,
   "id": "01ab376f",
   "metadata": {},
   "outputs": [],
   "source": [
    "row5 = Mstar[5, :]\n",
    "row5"
   ]
  },
  {
   "cell_type": "markdown",
   "id": "034a7473",
   "metadata": {},
   "source": [
    "They are almost the same, but row5 is the complex conjugate of row3."
   ]
  },
  {
   "cell_type": "code",
   "execution_count": null,
   "id": "d928213d",
   "metadata": {},
   "outputs": [],
   "source": [
    "def approx_equal(a, b, tol=1e-10):\n",
    "    return sum(abs(a-b)) < tol"
   ]
  },
  {
   "cell_type": "code",
   "execution_count": null,
   "id": "df9514f3",
   "metadata": {},
   "outputs": [],
   "source": [
    "approx_equal(row3, row5.conj())"
   ]
  },
  {
   "cell_type": "markdown",
   "id": "e1d81736",
   "metadata": {},
   "source": [
    "When we multiply the DFT matrix and the wave array, the element with index 3 is:"
   ]
  },
  {
   "cell_type": "code",
   "execution_count": null,
   "id": "6798d2db",
   "metadata": {},
   "outputs": [],
   "source": [
    "X3 = row3.dot(wave.ys)\n",
    "X3"
   ]
  },
  {
   "cell_type": "markdown",
   "id": "7f8ccf51",
   "metadata": {},
   "source": [
    "And the element with index 5 is:"
   ]
  },
  {
   "cell_type": "code",
   "execution_count": null,
   "id": "c8494bdd",
   "metadata": {},
   "outputs": [],
   "source": [
    "n = 500\n",
    "thinkplot.plot(ts[:n], ys[:n].real)\n",
    "thinkplot.plot(ts[:n], ys[:n].imag)"
   ]
  },
  {
   "cell_type": "markdown",
   "id": "6a727a44",
   "metadata": {},
   "source": [
    "The real part is a mixture of cosines; the imaginary part is a mixture of sines.  They contain the same frequency components with the same amplitudes, so they sound the same to us:"
   ]
  },
  {
   "cell_type": "code",
   "execution_count": null,
   "id": "664f633f",
   "metadata": {},
   "outputs": [],
   "source": [
    "wave = thinkdsp.Wave(ys.real, framerate)\n",
    "wave.apodize()\n",
    "wave.make_audio()"
   ]
  },
  {
   "cell_type": "code",
   "execution_count": null,
   "id": "fb08e315",
   "metadata": {},
   "outputs": [],
   "source": [
    "wave = thinkdsp.Wave(ys.imag, framerate)\n",
    "wave.apodize()\n",
    "wave.make_audio()"
   ]
  },
  {
   "cell_type": "markdown",
   "id": "ae9b192c",
   "metadata": {},
   "source": [
    "We can express the same process using matrix multiplication."
   ]
  },
  {
   "cell_type": "code",
   "execution_count": null,
   "id": "a264ea79",
   "metadata": {},
   "outputs": [],
   "source": [
    "def synthesize2(amps, freqs, ts):\n",
    "    args = np.outer(ts, freqs)\n",
    "    M = np.exp(1j * PI2 * args)\n",
    "    ys = np.dot(M, amps)\n",
    "    return ys"
   ]
  },
  {
   "cell_type": "markdown",
   "id": "c6b18a6f",
   "metadata": {},
   "source": [
    "And it should sound the same."
   ]
  },
  {
   "cell_type": "code",
   "execution_count": null,
   "id": "be9fd530",
   "metadata": {},
   "outputs": [],
   "source": [
    "amps = np.array([0.6, 0.25, 0.1, 0.05])\n",
    "ys = synthesize2(amps, freqs, ts)\n",
    "print(ys)"
   ]
  },
  {
   "cell_type": "markdown",
   "id": "58091f6a",
   "metadata": {},
   "source": [
    "To see the effect of a complex amplitude, we can rotate the amplitudes by 1.5 radian:"
   ]
  },
  {
   "cell_type": "code",
   "execution_count": null,
   "id": "6af6864b",
   "metadata": {},
   "outputs": [],
   "source": [
    "phi = 1.5\n",
    "amps2 = amps * np.exp(1j * phi)\n",
    "ys2 = synthesize2(amps2, freqs, ts)\n",
    "\n",
    "n = 500\n",
    "thinkplot.plot(ts[:n], ys.real[:n], label=r'$\\phi_0 = 0$')\n",
    "thinkplot.plot(ts[:n], ys2.real[:n], label=r'$\\phi_0 = 1.5$')\n",
    "thinkplot.config(ylim=[-1.15, 1.05], loc='lower right')"
   ]
  },
  {
   "cell_type": "markdown",
   "id": "92f0b920",
   "metadata": {},
   "source": [
    "Rotating all components by the same phase offset changes the shape of the waveform because the components have different periods; a constant offset has a different effect on each component."
   ]
  },
  {
   "cell_type": "markdown",
   "id": "ae2b0e9b",
   "metadata": {},
   "source": [
    "###Analysis\n",
    "\n",
    "The simplest way to analyze a signal---that is, find the amplitude for each component---is to create the same matrix we used for synthesis and then solve the system of linear equations."
   ]
  },
  {
   "cell_type": "code",
   "execution_count": null,
   "id": "671b4535",
   "metadata": {},
   "outputs": [],
   "source": [
    "def analyze1(ys, freqs, ts):\n",
    "    args = np.outer(ts, freqs)\n",
    "    M = np.exp(1j * PI2 * args)\n",
    "    amps = np.linalg.solve(M, ys)\n",
    "    return amps"
   ]
  },
  {
   "cell_type": "markdown",
   "id": "c516fa97",
   "metadata": {},
   "source": [
    "Using the first 4 values from the wave array, we can recover the amplitudes."
   ]
  },
  {
   "cell_type": "code",
   "execution_count": null,
   "id": "2156c579",
   "metadata": {},
   "outputs": [],
   "source": [
    "n = len(freqs)\n",
    "amps2 = analyze1(ys[:n], freqs, ts[:n])\n",
    "print(amps2)"
   ]
  },
  {
   "cell_type": "markdown",
   "id": "8be5cee1",
   "metadata": {},
   "source": [
    "If we define the `freqs` from 0 to N-1 and `ts` from 0 to (N-1)/N, we get a unitary matrix. "
   ]
  },
  {
   "cell_type": "code",
   "execution_count": null,
   "id": "0cad91c2",
   "metadata": {},
   "outputs": [],
   "source": [
    "N = 4\n",
    "ts = np.arange(N) / N\n",
    "freqs = np.arange(N)\n",
    "args = np.outer(ts, freqs)\n",
    "M = np.exp(1j * PI2 * args)\n",
    "print(M)"
   ]
  },
  {
   "cell_type": "markdown",
   "id": "dc92bc76",
   "metadata": {},
   "source": [
    "To check whether a matrix is unitary, we can compute $M^* M$, which should be the identity matrix:"
   ]
  },
  {
   "cell_type": "code",
   "execution_count": null,
   "id": "e06ce49c",
   "metadata": {},
   "outputs": [],
   "source": [
    "def dft(ys):\n",
    "    N = len(ys)\n",
    "    M = synthesis_matrix(N)\n",
    "    amps = M.conj().transpose().dot(ys)\n",
    "    return amps"
   ]
  },
  {
   "cell_type": "markdown",
   "id": "0ef5f6ea",
   "metadata": {},
   "source": [
    "And compare it to analyze2:"
   ]
  },
  {
   "cell_type": "code",
   "execution_count": null,
   "id": "9b865fc5",
   "metadata": {},
   "outputs": [],
   "source": [
    "print(dft(ys))"
   ]
  },
  {
   "cell_type": "markdown",
   "id": "ee06e7e6",
   "metadata": {},
   "source": [
    "The result is close to `amps * 4`.\n",
    "\n",
    "We can also compare it to `np.fft.fft`.  FFT stands for Fast Fourier Transform, which is an even faster implementation of DFT."
   ]
  },
  {
   "cell_type": "code",
   "execution_count": null,
   "id": "1b15d41b",
   "metadata": {},
   "outputs": [],
   "source": [
    "M = synthesis_matrix(N=8)"
   ]
  },
  {
   "cell_type": "markdown",
   "id": "810d6b8e",
   "metadata": {},
   "source": [
    "And the DFT matrix:"
   ]
  },
  {
   "cell_type": "code",
   "execution_count": null,
   "id": "acfdf240",
   "metadata": {},
   "outputs": [],
   "source": [
    "Mstar = M.conj().transpose()"
   ]
  },
  {
   "cell_type": "markdown",
   "id": "f9389b89",
   "metadata": {},
   "source": [
    "And a triangle wave with 8 elements:"
   ]
  },
  {
   "cell_type": "code",
   "execution_count": null,
   "id": "29b02510",
   "metadata": {},
   "outputs": [],
   "source": [
    "X5 = row5.dot(wave.ys)\n",
    "X5"
   ]
  },
  {
   "cell_type": "markdown",
   "id": "a39efa6d",
   "metadata": {},
   "source": [
    "And they are the same, within floating point error."
   ]
  },
  {
   "cell_type": "code",
   "execution_count": null,
   "id": "b20c5944",
   "metadata": {},
   "outputs": [],
   "source": [
    "abs(X3 - X5)"
   ]
  },
  {
   "cell_type": "markdown",
   "id": "58c56b81",
   "metadata": {},
   "source": [
    "Let's try the same thing with a complex signal:"
   ]
  },
  {
   "cell_type": "code",
   "execution_count": null,
   "id": "b4943e90",
   "metadata": {},
   "outputs": [],
   "source": [
    "wave2 = thinkdsp.ComplexSinusoid(freq=1).make_wave(duration=1, framerate=8)\n",
    "thinkplot.plot(wave2.ts, wave2.ys.real)\n",
    "thinkplot.plot(wave2.ts, wave2.ys.imag)"
   ]
  },
  {
   "cell_type": "markdown",
   "id": "c3184c1a",
   "metadata": {},
   "source": [
    "Now the elements with indices 3 and 5 are different:"
   ]
  },
  {
   "cell_type": "code",
   "execution_count": null,
   "id": "ca319b34",
   "metadata": {},
   "outputs": [],
   "source": [
    "MstarM = M.conj().transpose().dot(M)\n",
    "print(MstarM.real)"
   ]
  },
  {
   "cell_type": "markdown",
   "id": "3fd761e3",
   "metadata": {},
   "source": [
    "The result is actually $4 I$, so in general we have an extra factor of $N$ to deal with, but that's a minor problem.\n",
    "\n",
    "We can use this result to write a faster version of `analyze1`:\n"
   ]
  },
  {
   "cell_type": "code",
   "execution_count": null,
   "id": "17452fbf",
   "metadata": {},
   "outputs": [],
   "source": [
    "def analyze2(ys, freqs, ts):\n",
    "    args = np.outer(ts, freqs)\n",
    "    M = np.exp(1j * PI2 * args)\n",
    "    amps = M.conj().transpose().dot(ys) / N\n",
    "    return amps"
   ]
  },
  {
   "cell_type": "code",
   "execution_count": null,
   "id": "6a0d2fe6",
   "metadata": {},
   "outputs": [],
   "source": [
    "N = 4\n",
    "amps = np.array([0.6, 0.25, 0.1, 0.05])\n",
    "freqs = np.arange(N)\n",
    "ts = np.arange(N) / N\n",
    "ys = synthesize2(amps, freqs, ts)\n",
    "\n",
    "amps3 = analyze2(ys, freqs, ts)\n",
    "print(amps3)"
   ]
  },
  {
   "cell_type": "markdown",
   "id": "dca7c316",
   "metadata": {},
   "source": [
    "Now we can write our own version of DFT:"
   ]
  },
  {
   "cell_type": "code",
   "execution_count": null,
   "id": "54d08f6d",
   "metadata": {},
   "outputs": [],
   "source": [
    "def synthesis_matrix(N):\n",
    "    ts = np.arange(N) / N\n",
    "    freqs = np.arange(N)\n",
    "    args = np.outer(ts, freqs)\n",
    "    M = np.exp(1j * PI2 * args)\n",
    "    return M"
   ]
  },
  {
   "cell_type": "code",
   "execution_count": null,
   "id": "0bc8bedb",
   "metadata": {},
   "outputs": [],
   "source": [
    "X3 = row3.dot(wave2.ys)\n",
    "X3"
   ]
  },
  {
   "cell_type": "code",
   "execution_count": null,
   "id": "a1eb43f6",
   "metadata": {},
   "outputs": [],
   "source": [
    "X5 = row5.dot(wave2.ys)\n",
    "X5"
   ]
  },
  {
   "cell_type": "markdown",
   "id": "6d12a08f",
   "metadata": {},
   "source": [
    "Visually we can confirm that the FFT of the real signal is symmetric:"
   ]
  },
  {
   "cell_type": "code",
   "execution_count": null,
   "id": "c96ae740",
   "metadata": {},
   "outputs": [],
   "source": [
    "hs = np.fft.fft(wave.ys)\n",
    "thinkplot.plot(abs(hs))"
   ]
  },
  {
   "cell_type": "markdown",
   "id": "df6f3296",
   "metadata": {},
   "source": [
    "And the FFT of the complex signal is not."
   ]
  },
  {
   "cell_type": "code",
   "execution_count": null,
   "id": "f91012e1",
   "metadata": {},
   "outputs": [],
   "source": [
    "hs = np.fft.fft(wave2.ys)\n",
    "thinkplot.plot(abs(hs))"
   ]
  },
  {
   "cell_type": "markdown",
   "id": "c12303a3",
   "metadata": {},
   "source": [
    "Another way to think about all of this is to evaluate the DFT matrix for different frequencies.  Instead of $0$ through $N-1$, let's try $0, 1, 2, 3, 4, -3, -2, -1$."
   ]
  },
  {
   "cell_type": "code",
   "execution_count": null,
   "id": "c4df92b5",
   "metadata": {},
   "outputs": [],
   "source": [
    "N = 8\n",
    "ts = np.arange(N) / N\n",
    "freqs = np.arange(N)\n",
    "freqs = [0, 1, 2, 3, 4, -3, -2, -1]\n",
    "args = np.outer(ts, freqs)\n",
    "M2 = np.exp(1j * PI2 * args)"
   ]
  },
  {
   "cell_type": "code",
   "execution_count": null,
   "id": "f85f3394",
   "metadata": {},
   "outputs": [],
   "source": [
    "approx_equal(M, M2)"
   ]
  },
  {
   "cell_type": "markdown",
   "id": "22c305db",
   "metadata": {},
   "source": [
    "So you can think of the second half of the DFT as positive frequencies that get aliased (which is how I explained them), or as negative frequencies (which is the more conventional way to explain them).  But the DFT doesn't care either way.\n",
    "\n",
    "The `thinkdsp` library provides support for computing the \"full\" FFT instead of the real FFT."
   ]
  }
 ],
 "metadata": {},
 "nbformat": 4,
 "nbformat_minor": 5
}
