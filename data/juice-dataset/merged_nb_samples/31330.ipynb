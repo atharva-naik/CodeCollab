{
 "cells": [
  {
   "cell_type": "markdown",
   "id": "d37bb155",
   "metadata": {},
   "source": [
    "# Capstone project - Brain tumour classification\n"
   ]
  },
  {
   "cell_type": "markdown",
   "id": "183c0686",
   "metadata": {},
   "source": [
    "## Image processing"
   ]
  },
  {
   "cell_type": "markdown",
   "id": "fdfad0ed",
   "metadata": {},
   "source": [
    "References:\n",
    " - Scarpace, Lisa, Flanders, Adam E., Jain, Rajan, Mikkelsen, Tom, & Andrews, David W. (2015). Data From REMBRANDT. The Cancer Imaging Archive. http://doi.org/10.7937/K9/TCIA.2015.588OZUZB  \n",
    " - Clark K, Vendt B, Smith K, Freymann J, Kirby J, Koppel P, Moore S, Phillips S, Maffitt D, Pringle M, Tarbox L, Prior F. The Cancer Imaging Archive (TCIA): Maintaining and Operating a Public Information Repository, Journal of Digital Imaging, Volume 26, Number 6, December, 2013, pp 1045-1057.\n",
    " - PyScience blog, https://pyscience.wordpress.com/"
   ]
  },
  {
   "cell_type": "markdown",
   "id": "ec2e01e5",
   "metadata": {},
   "source": [
    "1. [In 2D with one sequence (T1)](#Part1)   \n",
    "    a. [First option: dicom library & skimage](#Part1a)  \n",
    "      i. [Tumour isolation with edge detection](#Part1ai)  \n",
    "      ii. [Tumour isolation with region-based segmentation](#Part1aii)  \n",
    "    b. [Second option: SimpleITK library](#Part1b)  \n",
    "      i. [Tumour isloation on T1 image (using confidence connected filter with manual seed selection)](#Part1bi)  \n",
    "      ii. [Tumour isloation on T2 image (using thresholding and confidence connected filter with automated seed selection from thresholding)](#Part1bii)    \n",
    "    c. [Third option: FSL FAST](#Part1c)\n",
    "          \n",
    "2. [In 2D with 4 different sequences (T1, T2, FLAIR and T1 GD)](#Part2)   \n",
    "   a. [Reshape images](#Part2a)  \n",
    "   b. [Remove noise](#Part2b)  \n",
    "   c. [Multimodal segmentation - merge T2 and T1 images](#Part2c)     \n",
    "       \n",
    "3. [In 3D](#Part3)   \n",
    "    a. [Segmentation of tumour in each sequence](#Part3a)  \n",
    "    b. [Segmentation of tumour in all four sequences combined](#Part3b)  \n",
    "    c. [Automate seed generation](#Part3c)   \n",
    "    d. [Selection of slice with largest tumour area](#Part3d)  "
   ]
  },
  {
   "cell_type": "code",
   "execution_count": null,
   "id": "0a6473ee",
   "metadata": {},
   "outputs": [],
   "source": [
    "import numpy as np\n",
    "import pandas as pd\n",
    "import matplotlib.pyplot as plt\n",
    "import seaborn as sns\n",
    "from sqlalchemy import create_engine\n",
    "%matplotlib inline\n",
    "pd.set_option(\"display.max_columns\",101)"
   ]
  },
  {
   "cell_type": "markdown",
   "id": "6f9744e3",
   "metadata": {},
   "source": [
    "<a id='Part1'></a>"
   ]
  },
  {
   "cell_type": "markdown",
   "id": "d142d0ee",
   "metadata": {},
   "source": [
    "## 1. In 2D with one sequence (T1)"
   ]
  },
  {
   "cell_type": "markdown",
   "id": "a754b22b",
   "metadata": {},
   "source": [
    "<a id='Part1a'></a>"
   ]
  },
  {
   "cell_type": "markdown",
   "id": "d1a44109",
   "metadata": {},
   "source": [
    "### a. First option: dicom library & skimage"
   ]
  },
  {
   "cell_type": "markdown",
   "id": "6c38dd47",
   "metadata": {},
   "source": [
    " - Let's try manual thresholding instead"
   ]
  },
  {
   "cell_type": "code",
   "execution_count": null,
   "id": "ed8e0930",
   "metadata": {},
   "outputs": [],
   "source": [
    "# Get histogram of image intensities\n",
    "\n",
    "intensity_values_T2 = SimpleITK.GetArrayFromImage(imgSmooth_T2)\n",
    "\n",
    "plt.hist(intensity_values_T2, bins=256)\n",
    "plt.title(\"Intensity Values\")\n",
    "plt.show()"
   ]
  },
  {
   "cell_type": "code",
   "execution_count": null,
   "id": "2b22d49c",
   "metadata": {},
   "outputs": [],
   "source": [
    "# Tumour segmentation with Binary Thresholding\n",
    "tumour_thres = SimpleITK.BinaryThreshold(imgSmooth_T2, lowerThreshold=695, upperThreshold=900, \n",
    "                                         insideValue=labelTumour, outsideValue=0)\n",
    "\n",
    "imgSmoothInt_T2 = SimpleITK.Cast(SimpleITK.RescaleIntensity(imgSmooth_T2), tumour_thres.GetPixelID())\n",
    "\n",
    "sitk_show(tumour_thres, dpi=100)\n",
    "sitk_show(SimpleITK.LabelOverlay(imgSmoothInt_T2, tumour_thres), dpi=100)"
   ]
  },
  {
   "cell_type": "markdown",
   "id": "65a54916",
   "metadata": {},
   "source": [
    "This doesn't isolate the whole tumour perfectly but it seems to be more easily reproducible for other images. We will then be able to extract seeds to compute a confidence connected automatically (without having to define the seeds manually)"
   ]
  },
  {
   "cell_type": "markdown",
   "id": "81374603",
   "metadata": {},
   "source": [
    "##### Generate only a few seeds from calculating the tumour's parameters from the thresholding segmentation"
   ]
  },
  {
   "cell_type": "code",
   "execution_count": null,
   "id": "8b736f6a",
   "metadata": {},
   "outputs": [],
   "source": [
    "# Compute LabelShapeStatisticsImageFilter to get a basic description of the tumour thresholding segmentation\n",
    "label_shape_analysis_T2 = SimpleITK.LabelShapeStatisticsImageFilter()\n",
    "label_shape_analysis_T2.SetBackgroundValue(0)\n",
    "label_shape_analysis_T2.Execute(tumour_thres)"
   ]
  },
  {
   "cell_type": "code",
   "execution_count": null,
   "id": "8da74f50",
   "metadata": {},
   "outputs": [],
   "source": [
    "# Get main parameters to find seeds\n",
    "\n",
    "tumour_thres_centroid = label_shape_analysis_T2.GetCentroid(labelTumour)\n",
    "\n",
    "tumour_thres_principalAxesRotation = label_shape_analysis_T2.GetPrincipalAxes(labelTumour)\n",
    "cosTheta = tumour_thres_principalAxesRotation[0]\n",
    "\n",
    "tumour_thres_EllipsoidDiameters = label_shape_analysis_T2.GetEquivalentEllipsoidDiameter(labelTumour)\n",
    "\n",
    "# Print results\n",
    "print 'Centroid:', tumour_thres_centroid\n",
    "\n",
    "print 'Diameter along first principal axis projected on x:', tumour_thres_EllipsoidDiameters[0]*cosTheta\n",
    "print 'Diameter along second principal axis projected on y:', tumour_thres_EllipsoidDiameters[1]*cosTheta"
   ]
  },
  {
   "cell_type": "code",
   "execution_count": null,
   "id": "662be4b5",
   "metadata": {},
   "outputs": [],
   "source": [
    "# Get tumour bounding box to find seeds\n",
    "(x0, y0, l, L) = label_shape_analysis_T2.GetBoundingBox(labelTumour)\n",
    "print 'Bounding box start index and size:', (x0, y0, l, L)\n",
    "\n",
    "# Plot bounding box\n",
    "T2_box = SimpleITK.Image(imgSmoothInt_T2)\n",
    "\n",
    "T2_box[x0,y0] = 0\n",
    "    \n",
    "for x in range(l):\n",
    "    T2_box[x0+x,y0] = 0\n",
    "    T2_box[x0+x,y0+L] = 0\n",
    "    \n",
    "for y in range(L):\n",
    "    T2_box[x0,y0+y] = 0\n",
    "    T2_box[x0+l,y0+y] = 0\n",
    "    \n",
    "sitk_show(T2_box, dpi=100)"
   ]
  },
  {
   "cell_type": "code",
   "execution_count": null,
   "id": "7b74b9a6",
   "metadata": {},
   "outputs": [],
   "source": [
    "# Generate Seeds\n",
    "centre = imgSmoothInt_T2.TransformPhysicalPointToIndex(tumour_thres_centroid)\n",
    "\n",
    "seeds_auto = [centre, (centre[0], y0+1), (centre[0], y0+L-1), (x0+1, centre[1]), (x0+l-1, centre[1]),\n",
    "              (x0+10, y0+10), (x0+l-10, y0+10), (x0+10, y0+L-10), (x0+l-10, y0+L-10)]\n",
    "\n",
    "# Show seeds on the image\n",
    "seeds_locs = SimpleITK.Image(imgSmoothInt_T2)\n",
    "for pt in seeds_auto:\n",
    "    seeds_locs[pt[0],pt[1]] = 0\n",
    "    \n",
    "sitk_show(seeds_locs, dpi=100)"
   ]
  },
  {
   "cell_type": "markdown",
   "id": "b6179cf6",
   "metadata": {},
   "source": [
    "##### - Or simply take the whole tumour segented with thresholding as seeds"
   ]
  },
  {
   "cell_type": "code",
   "execution_count": null,
   "id": "5897079a",
   "metadata": {},
   "outputs": [],
   "source": [
    "seeds_auto_2 = np.argwhere(SimpleITK.GetArrayFromImage(tumour_thres)==2)\n",
    "\n",
    "# Inverse dimensions as the function GetArryFromImage returns vertical image values in lines and horizontal image values in columns \n",
    "for seed in seeds_auto_2:\n",
    "    seed[0], seed[1] = seed[1], seed[0]\n",
    "\n",
    "# Show seeds on the image\n",
    "seeds_locs_2 = SimpleITK.Image(imgSmoothInt_T2)\n",
    "for pt in seeds_auto_2:\n",
    "    seeds_locs_2.SetPixel(pt[0],pt[1], 0)\n",
    "    \n",
    "sitk_show(seeds_locs_2, dpi=100)"
   ]
  },
  {
   "cell_type": "markdown",
   "id": "2dc3e39b",
   "metadata": {},
   "source": [
    "##### - Apply confidence connected filter from automatedly generated seeds to isolate the tumour"
   ]
  },
  {
   "cell_type": "code",
   "execution_count": null,
   "id": "b2b18800",
   "metadata": {},
   "outputs": [],
   "source": [
    "# As we can see images have different sizes\n",
    "for seq, img in zip(sequence_names, img_4seq):\n",
    "    print seq,':', img.GetSize()"
   ]
  },
  {
   "cell_type": "code",
   "execution_count": null,
   "id": "881fe8e5",
   "metadata": {},
   "outputs": [],
   "source": [
    "# Resize T2 and T1GD images to 256x256 pixels\n",
    "shrinker = SimpleITK.ShrinkImageFilter()\n",
    "shrinker.SetShrinkFactors([2,2,1])\n",
    "img_T2_Original = shrinker.Execute(img_T2_Original)\n",
    "img_T1GD_Original = shrinker.Execute(img_T1GD_Original)\n",
    "\n",
    "img_4seq = [img_T1_Original, img_T2_Original, img_FLAIR_Original, img_T1GD_Original]\n",
    "\n",
    "for seq, img in zip(sequence_names, img_4seq):\n",
    "    print seq,':', img.GetSize()"
   ]
  },
  {
   "cell_type": "code",
   "execution_count": null,
   "id": "a156ba0d",
   "metadata": {},
   "outputs": [],
   "source": [
    "# Images also have slightly different origins and spacings which makes it impossible to superimpose them\n",
    "\n",
    "print 'Origins:'\n",
    "for i in img_4seq:\n",
    "    print i.GetOrigin()\n",
    "print '---'\n",
    "print 'Spacings:'\n",
    "for i in img_4seq:\n",
    "    print i.GetSpacing()"
   ]
  },
  {
   "cell_type": "code",
   "execution_count": null,
   "id": "5c02f6b6",
   "metadata": {},
   "outputs": [],
   "source": [
    "# Redefine images origins and spacings to be able to compose a mix of these 4 images\n",
    "\n",
    "for i in img_4seq:\n",
    "    i.SetOrigin((-105.0097885131836, -92.68102264404297, -69.89035034179688))\n",
    "    i.SetSpacing((0.859375, 0.859375, 7.5))"
   ]
  },
  {
   "cell_type": "code",
   "execution_count": null,
   "id": "13f3e1ba",
   "metadata": {},
   "outputs": [],
   "source": [
    "# Origins and spacing are now the same for all 4 images\n",
    "\n",
    "print 'Origins:'\n",
    "for i in img_4seq:\n",
    "    print i.GetOrigin()\n",
    "print '---'\n",
    "print 'Spacings:'\n",
    "for i in img_4seq:\n",
    "    print i.GetSpacing()"
   ]
  },
  {
   "cell_type": "code",
   "execution_count": null,
   "id": "a4676374",
   "metadata": {},
   "outputs": [],
   "source": [
    "# Define list of images of slice 10 in 4 sequences (2D images)\n",
    "img_4seq_slice10 = [img_T1_Original[:,:,10], img_T2_Original[:,:,10], \n",
    "                    img_FLAIR_Original[:,:,10], img_T1GD_Original[:,:,10]]\n",
    "\n",
    "sitk_show_4seq(img_4seq_slice10)"
   ]
  },
  {
   "cell_type": "markdown",
   "id": "9bc2c38d",
   "metadata": {},
   "source": [
    "#### - Second approach: resample filter copying T1 image attributes"
   ]
  },
  {
   "cell_type": "code",
   "execution_count": null,
   "id": "dcb90277",
   "metadata": {},
   "outputs": [],
   "source": [
    "# Reinitalise all four images\n",
    "img_T1_Original = import_img_series(PathDicom_T1)\n",
    "img_T2_Original = import_img_series(PathDicom_T2)\n",
    "img_FLAIR_Original = import_img_series(PathDicom_FLAIR)\n",
    "img_T1GD_Original = import_img_series(PathDicom_T1GD)"
   ]
  },
  {
   "cell_type": "code",
   "execution_count": null,
   "id": "1fc42c58",
   "metadata": {},
   "outputs": [],
   "source": [
    "# Define resample filter to match T1 image dimension and settings\n",
    "resample = SimpleITK.ResampleImageFilter()\n",
    "resample.SetReferenceImage(img_T1_Original)\n",
    "resample.SetInterpolator(SimpleITK.sitkBSpline)\n",
    "\n",
    "# Resize all other three images\n",
    "img_T2_Resized = resample.Execute(img_T2_Original)\n",
    "img_FLAIR_Resized = resample.Execute(img_FLAIR_Original)\n",
    "img_T1GD_Resized = resample.Execute(img_T1GD_Original)\n",
    "\n",
    "# Define list of all 4 resized images\n",
    "img_4seq_resized = [img_T1_Original, img_T2_Resized, img_FLAIR_Resized, img_T1GD_Resized]\n",
    "\n",
    "# Define list of images of slice 10 of the 4 sequences (2D images)\n",
    "img_4seq_slice10 = [img_T1_Original[:,:,10], img_T2_Resized[:,:,10], \n",
    "                    img_FLAIR_Resized[:,:,10], img_T1GD_Resized[:,:,10]]"
   ]
  },
  {
   "cell_type": "code",
   "execution_count": null,
   "id": "338e5818",
   "metadata": {},
   "outputs": [],
   "source": [
    "# Show that images are now all aligned\n",
    "\n",
    "for seq, img in zip(sequence_names, img_4seq_resized):\n",
    "    print seq\n",
    "    print 'Size:', img.GetSize()\n",
    "    print 'Origin:', img.GetOrigin()\n",
    "    print 'Spacing:', img.GetSpacing(), '\\n'\n",
    "    \n",
    "sitk_show(SimpleITK.Tile(img_4seq_slice10, (2,2,0)),\n",
    "         dpi=200)"
   ]
  },
  {
   "cell_type": "markdown",
   "id": "255ed0b6",
   "metadata": {},
   "source": [
    "<a id='Part2b'></a>"
   ]
  },
  {
   "cell_type": "markdown",
   "id": "de704491",
   "metadata": {},
   "source": [
    "### b. Remove noise"
   ]
  },
  {
   "cell_type": "code",
   "execution_count": null,
   "id": "631590c7",
   "metadata": {},
   "outputs": [],
   "source": [
    "# Segmentation of tumour using confidence connected filter\n",
    "\n",
    "imgTumour_T2 = SimpleITK.ConfidenceConnected(image1=imgSmoothInt_T2, \n",
    "                                              seedList=seeds_auto,\n",
    "                                              numberOfIterations=3,\n",
    "                                              multiplier=1.5,\n",
    "                                              replaceValue=labelTumour)\n",
    "\n",
    "sitk_show(SimpleITK.LabelOverlay(imgSmoothInt_T2, imgTumour_T2), axis='on', dpi=100)"
   ]
  },
  {
   "cell_type": "code",
   "execution_count": null,
   "id": "d41c3d23",
   "metadata": {},
   "outputs": [],
   "source": [
    "imgTumour_T2 = SimpleITK.ConfidenceConnected(image1=imgSmoothInt_T2, \n",
    "                                              seedList=seeds_auto_2,\n",
    "                                              numberOfIterations=3,\n",
    "                                              multiplier=4,\n",
    "                                              replaceValue=labelTumour)\n",
    "\n",
    "sitk_show(SimpleITK.LabelOverlay(imgSmoothInt_T2, imgTumour_T2), axis='on', dpi=100)"
   ]
  },
  {
   "cell_type": "markdown",
   "id": "f0715302",
   "metadata": {},
   "source": [
    "We get similar results if we only use a couple of points from the thresholding segmentation or if we use the whole segment. Since the second approach is much easier to implement, this is the one we will use going further."
   ]
  },
  {
   "cell_type": "code",
   "execution_count": null,
   "id": "f14909d3",
   "metadata": {},
   "outputs": [],
   "source": [
    "# Do we get similar sizes and centres with T2 image as for T1 image?\n",
    "\n",
    "label_shape_analysis_T2 = SimpleITK.LabelShapeStatisticsImageFilter()\n",
    "label_shape_analysis_T2.SetBackgroundValue(0)\n",
    "label_shape_analysis_T2.Execute(imgTumour_T2)\n",
    "\n",
    "print 'T1 Confidence Connected dimensions'\n",
    "print 'Centre location:', imgTumour.TransformPhysicalPointToIndex(label_shape_analysis.GetCentroid(labelTumour))\n",
    "print 'Ellipsoid diameters:', label_shape_analysis.GetEquivalentEllipsoidDiameter(labelTumour)\n",
    "print 'Number of pixels in tumour:', label_shape_analysis.GetNumberOfPixels(labelTumour)\n",
    "\n",
    "print '-----'\n",
    "\n",
    "print 'T2 Confidence Connected dimensions'\n",
    "print 'Centre location:', imgTumour_T2.TransformPhysicalPointToIndex(label_shape_analysis_T2.GetCentroid(labelTumour))\n",
    "print 'Ellipsoid diameters:', label_shape_analysis_T2.GetEquivalentEllipsoidDiameter(labelTumour)\n",
    "print 'Number of pixels in tumour:', label_shape_analysis_T2.GetNumberOfPixels(labelTumour)\n",
    "\n",
    "print '-----'\n",
    "label_shape_analysis_T2.Execute(tumour_thres)\n",
    "print 'T2 Thresholding dimensions'\n",
    "print 'Centre location:', tumour_thres.TransformPhysicalPointToIndex(label_shape_analysis_T2.GetCentroid(labelTumour))\n",
    "print 'Ellipsoid diameters:', label_shape_analysis_T2.GetEquivalentEllipsoidDiameter(labelTumour)\n",
    "print 'Number of pixels in tumour:', label_shape_analysis_T2.GetNumberOfPixels(labelTumour)"
   ]
  },
  {
   "cell_type": "markdown",
   "id": "020d1a68",
   "metadata": {},
   "source": [
    "Please note the thresholding segmentation is quite poor but should only be used to automatically generate seeds for a confidence connected filter."
   ]
  },
  {
   "cell_type": "markdown",
   "id": "b5934af3",
   "metadata": {},
   "source": [
    "<a id='Part1c'></a>"
   ]
  },
  {
   "cell_type": "markdown",
   "id": "322e6127",
   "metadata": {},
   "source": [
    "### c. Third option: FSL FAST"
   ]
  },
  {
   "cell_type": "markdown",
   "id": "04b4030c",
   "metadata": {},
   "source": [
    "FAST (FMRIB's Automated Segmentation Tool) segments a 3D image of the brain into different tissue types (Grey Matter, White Matter, CSF, etc.), whilst also correcting for spatial intensity variations (also known as bias field or RF inhomogeneities). The underlying method is based on a hidden Markov random field model and an associated Expectation-Maximization algorithm. The whole process is fully automated and can also produce a bias field-corrected input image and a probabilistic and/or partial volume tissue segmentation.  \n",
    "  \n",
    "Ref: Zhang Y et al. Segmentation of brain MR images through a hidden Markov random field model and the expectation-maximization algorithm. *IEEE Trans Med Imag*. 2001;20(1):45-57."
   ]
  },
  {
   "cell_type": "code",
   "execution_count": null,
   "id": "c11e1194",
   "metadata": {},
   "outputs": [],
   "source": [
    "import nipype.interfaces.fsl as fsl"
   ]
  },
  {
   "cell_type": "markdown",
   "id": "906d21e8",
   "metadata": {},
   "source": [
    "First apply **skull stripping** using FSL Brain Extraxtion Tool (BET) to remove skull and Nipype for the FSL Python interface.\n",
    "**FSL** is a comprehensive library of analysis tools for FMRI, MRI and DTI brain imaging data. In particular the BET deletes non-brain tissue from an image of the whole head.\n",
    "**Nipype** is a Python-based workflow environment for neuroimaging that expands the potential applications of neuroimaging software by allowing different algorithms from different software packages (including FSL) to be utilized in a single workflow.\n",
    "References:\n",
    " - Smith. S.M. Fast robust automated brain extraction. Human Brain Mapping. 2002:17(3):143-155.\n",
    " - Gorgolewski K J et al. Nipype: a flexible, lightweight and extensible neuroimaging data processing framework in Python. 2016. 0.12.0-rc1. Zenodo. 10.5281/zenodo.50186"
   ]
  },
  {
   "cell_type": "markdown",
   "id": "81a9a9ad",
   "metadata": {},
   "source": [
    "#### (ii) Tumour isloation on T2 image (using thresholding and confidence connected filter with automated seed selection from thresholding)"
   ]
  },
  {
   "cell_type": "code",
   "execution_count": null,
   "id": "6ae73291",
   "metadata": {},
   "outputs": [],
   "source": [
    "# Read-in T2 sequence\n",
    "PathDicom = \"../REMBRANDT/900-00-1961/AX_T2/\"\n",
    "\n",
    "reader_T2 = SimpleITK.ImageSeriesReader()\n",
    "filenamesDICOM_T2 = reader_T2.GetGDCMSeriesFileNames(PathDicom)\n",
    "reader_T2.SetFileNames(filenamesDICOM_T2)\n",
    "imgOriginal_T2 = reader_T2.Execute()"
   ]
  },
  {
   "cell_type": "code",
   "execution_count": null,
   "id": "37455433",
   "metadata": {},
   "outputs": [],
   "source": [
    "imgSlice_T2 = imgOriginal_T2[:,:,10]\n",
    "\n",
    "print 'Original image size:', imgSlice_T2.GetSize()\n",
    "\n",
    "# Reshape to 256x256 pixels (as T1 image)\n",
    "shrinker = SimpleITK.ShrinkImageFilter()\n",
    "shrinker.SetShrinkFactors([2,2,1])\n",
    "imgSlice_T2 = shrinker.Execute(imgSlice_T2)\n",
    "\n",
    "print 'Reshaped image size:', imgSlice_T2.GetSize()\n",
    "\n",
    "sitk_show(imgSlice_T2, dpi=100)"
   ]
  },
  {
   "cell_type": "code",
   "execution_count": null,
   "id": "1b1c5a48",
   "metadata": {},
   "outputs": [],
   "source": [
    "# Apply a curvature-flow filter to smoothen the image (get rid of image noise)\n",
    "\n",
    "imgSmooth_T2 = SimpleITK.CurvatureFlow(image1=imgSlice_T2,\n",
    "                                    timeStep=0.125,\n",
    "                                    numberOfIterations=5)"
   ]
  },
  {
   "cell_type": "markdown",
   "id": "56fc4cca",
   "metadata": {},
   "source": [
    "##### - Apply intensity thresholding to detect basic tumour shape\n",
    "(This is only possible on T2 and FLAIR images as the tumour appears bright on these images; contrary to T1 images on which it appears dark)"
   ]
  },
  {
   "cell_type": "markdown",
   "id": "837ef5e6",
   "metadata": {},
   "source": [
    " - Tumour with Otsu thresholding (automatic thresholding) - does not isolate the tumour correctly"
   ]
  },
  {
   "cell_type": "code",
   "execution_count": null,
   "id": "472c4501",
   "metadata": {},
   "outputs": [],
   "source": [
    "otsu_filter = SimpleITK.OtsuThresholdImageFilter()\n",
    "otsu_filter.SetInsideValue(labelTumour)\n",
    "otsu_filter.SetOutsideValue(0)\n",
    "otsu_filter.SetNumberOfHistogramBins(256)\n",
    "\n",
    "tumour_otsu = otsu_filter.Execute(imgSmooth_T2)\n",
    "\n",
    "print otsu_filter.GetThreshold()\n",
    "\n",
    "imgSmoothOtsu_T2 = SimpleITK.Cast(SimpleITK.RescaleIntensity(imgSmooth_T2), tumour_otsu.GetPixelID())\n",
    "\n",
    "sitk_show(SimpleITK.LabelOverlay(imgSmoothOtsu_T2, tumour_otsu), dpi=100)"
   ]
  },
  {
   "cell_type": "markdown",
   "id": "abf87f97",
   "metadata": {},
   "source": [
    "<a id='Part1ai'></a>"
   ]
  },
  {
   "cell_type": "markdown",
   "id": "a7cf2aee",
   "metadata": {},
   "source": [
    "#### (i) Tumour isolation with edge detection"
   ]
  },
  {
   "cell_type": "code",
   "execution_count": null,
   "id": "877e60ae",
   "metadata": {},
   "outputs": [],
   "source": [
    "# Edge detection on the image itself didn't give any results\n",
    "\n",
    "from skimage import feature\n",
    "\n",
    "edges = feature.canny(ArrayDicom[:, :, 8], sigma=0.5)\n",
    "pylab.imshow(edges, cmap=pylab.cm.bone)"
   ]
  },
  {
   "cell_type": "code",
   "execution_count": null,
   "id": "92d48df6",
   "metadata": {},
   "outputs": [],
   "source": [
    "# Edge detection on a Gamma filtered image didn't give any results either\n",
    "\n",
    "from skimage import exposure\n",
    "gamma_corrected = exposure.adjust_gamma(ArrayDicom[:, :, 8], 1.5)\n",
    "\n",
    "edges1 = feature.canny(gamma_corrected, sigma=0.5)\n",
    "pylab.imshow(edges1, cmap=pylab.cm.bone)"
   ]
  },
  {
   "cell_type": "code",
   "execution_count": null,
   "id": "1c4ba7d4",
   "metadata": {},
   "outputs": [],
   "source": [
    "# Edge detection on a logarithmic filtered image wasn't able to detect the tumour\n",
    "logarithmic_corrected = exposure.adjust_log(ArrayDicom[:, :, 8], 10)\n",
    "\n",
    "edges2 = feature.canny(logarithmic_corrected, sigma=0.5)\n",
    "\n",
    "pylab.imshow(edges2, cmap=pylab.cm.bone)"
   ]
  },
  {
   "cell_type": "code",
   "execution_count": null,
   "id": "e5558fb6",
   "metadata": {},
   "outputs": [],
   "source": [
    "# Edge detection on a logarithmic filtered image with thresholding detected too much\n",
    "edges3 = feature.canny(logarithmic_corrected>5500, sigma=0.5)\n",
    "\n",
    "pylab.imshow(edges3, cmap=pylab.cm.bone)"
   ]
  },
  {
   "cell_type": "markdown",
   "id": "8925d66a",
   "metadata": {},
   "source": [
    "<a id='Part1aii'></a>"
   ]
  },
  {
   "cell_type": "markdown",
   "id": "113e9536",
   "metadata": {},
   "source": [
    "#### (ii) Tumour isolation with region-based segmentation"
   ]
  },
  {
   "cell_type": "code",
   "execution_count": null,
   "id": "8414d0d2",
   "metadata": {},
   "outputs": [],
   "source": [
    "# Find an elevation map using the Sobel gradient of the image\n",
    "\n",
    "from skimage.filters import sobel\n",
    "elevation_map = sobel(ArrayDicom[:, :, 8])\n",
    "\n",
    "# Find markers of the background and the brain based on the extreme parts of the histogram of grey values\n",
    "\n",
    "markers = np.zeros_like(logarithmic_corrected)\n",
    "markers[logarithmic_corrected<6000] = 1\n",
    "markers[logarithmic_corrected>6500] = 2\n",
    "\n",
    "# Use the watershed transform to fill regions of the elevation map starting from the markers determined above\n",
    "from skimage import morphology\n",
    "segmentation = morphology.watershed(elevation_map, markers)\n",
    "\n",
    "from skimage.color import label2rgb\n",
    "from scipy import ndimage as ndi\n",
    "\n",
    "segmentation = ndi.binary_fill_holes(segmentation - 1)\n",
    "labeled_regions, _ = ndi.label(segmentation)\n",
    "image_label_overlay = label2rgb(labeled_regions, image=logarithmic_corrected)\n",
    "\n",
    "fig, (ax1, ax2) = plt.subplots(1, 2, figsize=(6, 3), sharex=True, sharey=True)\n",
    "ax1.imshow(logarithmic_corrected, cmap=plt.cm.gray, interpolation='nearest')\n",
    "ax1.contour(segmentation, [0.5], linewidths=1.2, colors='y')\n",
    "ax1.axis('off')\n",
    "ax1.set_adjustable('box-forced')\n",
    "ax2.imshow(image_label_overlay, interpolation='nearest')\n",
    "ax2.axis('off')\n",
    "ax2.set_adjustable('box-forced')"
   ]
  },
  {
   "cell_type": "markdown",
   "id": "b95b4525",
   "metadata": {},
   "source": [
    "These libraries seemed more difficult to use than the next librairy which has been designed specifically for medical images visualisation and analysis. I therefore stopped using DICOM and Skimage to extract tumour features and switched to SimpleITK."
   ]
  },
  {
   "cell_type": "markdown",
   "id": "e8645706",
   "metadata": {},
   "source": [
    "<a id='Part1b'></a>"
   ]
  },
  {
   "cell_type": "markdown",
   "id": "df20462b",
   "metadata": {},
   "source": [
    "### b. Second option: SimpleITK library"
   ]
  },
  {
   "cell_type": "code",
   "execution_count": null,
   "id": "be7bafa1",
   "metadata": {},
   "outputs": [],
   "source": [
    "import SimpleITK"
   ]
  },
  {
   "cell_type": "markdown",
   "id": "af56e3e5",
   "metadata": {},
   "source": [
    "<a id='Part1bi'></a>"
   ]
  },
  {
   "cell_type": "markdown",
   "id": "14b297c3",
   "metadata": {},
   "source": [
    "#### (i) Tumour isloation on T1 image (using confidence connected filter with manual seed selection)"
   ]
  },
  {
   "cell_type": "code",
   "execution_count": null,
   "id": "c1a4216c",
   "metadata": {},
   "outputs": [],
   "source": [
    "# Apply a curvature-flow filter to smoothen the image (get rid of image noise)\n",
    "\n",
    "imgSmooth_4seq = []\n",
    "\n",
    "for img in img_4seq_resized:\n",
    "    imgSmooth_4seq.append(SimpleITK.CurvatureFlow(image1=img,timeStep=0.125,\n",
    "                        numberOfIterations=5))\n",
    "\n",
    "# Define slice 10\n",
    "imgSmooth_4seq_slice10 = [imgSmooth_4seq[i][:,:,10] for i in range(4)]\n",
    "\n",
    "\n",
    "sitk_show_4seq(imgSmooth_4seq_slice10, axis='on', size=(5,5))"
   ]
  },
  {
   "cell_type": "markdown",
   "id": "2d1c0e70",
   "metadata": {},
   "source": [
    "<a id='Part2c'></a>"
   ]
  },
  {
   "cell_type": "markdown",
   "id": "0038b654",
   "metadata": {},
   "source": [
    "### c. Multimodal segmentation - merge T2 and T1 images"
   ]
  },
  {
   "cell_type": "code",
   "execution_count": null,
   "id": "10ff770f",
   "metadata": {},
   "outputs": [],
   "source": [
    "# Fill holes in the white matter label through BinaryClosingByReconstruction\n",
    "\n",
    "imgWhiteMatterNoHoles = SimpleITK.BinaryClosingByReconstruction(imgWhiteMatter, 10)\n",
    "\n",
    "sitk_show(SimpleITK.LabelOverlay(imgSmoothInt, imgWhiteMatterNoHoles), dpi=100)"
   ]
  },
  {
   "cell_type": "code",
   "execution_count": null,
   "id": "e0235231",
   "metadata": {},
   "outputs": [],
   "source": [
    "# Segmentation of tumour\n",
    "\n",
    "lstSeeds = [(80, 120), (70, 130)]\n",
    "\n",
    "imgTumour = SimpleITK.ConfidenceConnected(image1=imgSmooth, \n",
    "                                              seedList=lstSeeds,\n",
    "                                              numberOfIterations=3,\n",
    "                                              multiplier=1.75,\n",
    "                                              replaceValue=labelTumour)\n",
    "\n",
    "sitk_show(SimpleITK.LabelOverlay(imgSmoothInt, imgTumour), axis='on', dpi=100)"
   ]
  },
  {
   "cell_type": "code",
   "execution_count": null,
   "id": "42fdcb34",
   "metadata": {},
   "outputs": [],
   "source": [
    "imgSmooth.GetPixelIDTypeAsString()"
   ]
  },
  {
   "cell_type": "code",
   "execution_count": null,
   "id": "e4317ec8",
   "metadata": {},
   "outputs": [],
   "source": [
    "# Bitwire OR combination of the white matter and gray matter labels\n",
    "\n",
    "imgLabels = imgWhiteMatterNoHoles | imgTumour\n",
    "\n",
    "\n",
    "sitk_show(SimpleITK.LabelOverlay(imgSmoothInt, imgLabels), dpi=100)"
   ]
  },
  {
   "cell_type": "code",
   "execution_count": null,
   "id": "ecd38850",
   "metadata": {},
   "outputs": [],
   "source": [
    "# Assignment of common areas to the tumour\n",
    "\n",
    "imgMask = (imgWhiteMatterNoHoles / labelWhiteMatter) * (imgTumour / labelTumour)\n",
    "imgWhiteMatterNoHoles -= imgMask*labelWhiteMatter\n",
    "\n",
    "imgLabels = imgWhiteMatterNoHoles + imgTumour\n",
    "\n",
    "sitk_show(SimpleITK.LabelOverlay(imgSmoothInt, imgLabels), dpi=100)"
   ]
  },
  {
   "cell_type": "code",
   "execution_count": null,
   "id": "1a2df2fd",
   "metadata": {},
   "outputs": [],
   "source": [
    "sitk_show(SimpleITK.LabelOverlay(imgSmoothInt, SimpleITK.LabelContour(imgLabels)), axis='off', dpi=100)"
   ]
  },
  {
   "cell_type": "code",
   "execution_count": null,
   "id": "3e102998",
   "metadata": {},
   "outputs": [],
   "source": [
    "# Estimate the tumour radius from the segmented image using the LabelShapeStatisticsImageFilter.\n",
    "label_shape_analysis = SimpleITK.LabelShapeStatisticsImageFilter()\n",
    "label_shape_analysis.SetBackgroundValue(1)\n",
    "label_shape_analysis.Execute(imgTumour)\n",
    "print(\"The tumour's radius is: {0:.2f}mm\".format(label_shape_analysis.GetEquivalentSphericalRadius(labelTumour)))"
   ]
  },
  {
   "cell_type": "code",
   "execution_count": null,
   "id": "a983f433",
   "metadata": {},
   "outputs": [],
   "source": [
    "# Tumour center location out of 256x256 pixels \n",
    "# Assign to 3 if left (ie [0] > 128), 1 if right - HOW TO CHECK IF BILATERAL??\n",
    "# CAREFUL : this is the side of the brain so will appear opposite on image!\n",
    "\n",
    "imgTumour.TransformPhysicalPointToIndex(label_shape_analysis.GetCentroid(labelTumour))"
   ]
  },
  {
   "cell_type": "code",
   "execution_count": null,
   "id": "e4d6f056",
   "metadata": {},
   "outputs": [],
   "source": [
    "# = f29 & f30\n",
    "# Assign labels from 0 to 18 to closest size and insert in df\n",
    "\n",
    "label_shape_analysis.GetEquivalentEllipsoidDiameter(labelTumour)"
   ]
  },
  {
   "cell_type": "code",
   "execution_count": null,
   "id": "9810dcd9",
   "metadata": {},
   "outputs": [],
   "source": [
    "# Will be needed to compute proportions\n",
    "label_shape_analysis.GetNumberOfPixels(2)"
   ]
  },
  {
   "cell_type": "markdown",
   "id": "1426ca8c",
   "metadata": {},
   "source": [
    "<a id='Part1bii'></a>"
   ]
  },
  {
   "cell_type": "code",
   "execution_count": null,
   "id": "e19c974f",
   "metadata": {},
   "outputs": [],
   "source": [
    "def sitk_show_slices(imgs, margin=0.05, dpi=40, axis='off', size=(10,10), first_slice=8, last_slice=14):\n",
    "    fig, im = plt.subplots(4, last_slice - first_slice +1, figsize=size)\n",
    "        \n",
    "    for ax, img, seq in zip([im[0],im[1],im[2],im[3]], imgs, sequence_names):\n",
    "        for i in range(first_slice, last_slice+1):\n",
    "            nda = SimpleITK.GetArrayFromImage(img[:,:,i])\n",
    "            spacing = img[:,:,i].GetSpacing()\n",
    "            figsize = (1 + margin) * nda.shape[0] / dpi, (1 + margin) * nda.shape[1] / dpi\n",
    "            extent = (0, nda.shape[1]*spacing[1], nda.shape[0]*spacing[0], 0)\n",
    "\n",
    "            plt.set_cmap(\"gray\")\n",
    "            ax[i-first_slice].imshow(nda,extent=extent,interpolation=None)\n",
    "            ax[i-first_slice].set_title(seq+', slice'+str(i))\n",
    "            ax[i-first_slice].axis(axis)\n",
    "    \n",
    "    fig.show()"
   ]
  },
  {
   "cell_type": "code",
   "execution_count": null,
   "id": "13a6fc54",
   "metadata": {},
   "outputs": [],
   "source": [
    "sitk_show_slices(imgSmooth_4seq)"
   ]
  },
  {
   "cell_type": "markdown",
   "id": "6f799026",
   "metadata": {},
   "source": [
    "<a id='Part3a'></a>"
   ]
  },
  {
   "cell_type": "markdown",
   "id": "5d030c5f",
   "metadata": {},
   "source": [
    "### a. Segmentation of tumour in each sequence"
   ]
  },
  {
   "cell_type": "code",
   "execution_count": null,
   "id": "4a1b5ebd",
   "metadata": {},
   "outputs": [],
   "source": [
    "lstSeeds_3D = [(80, 115, 10), (75, 125, 10), (85, 130, 10), (80,145,10), (95,125, 10), \n",
    "               (85,130,9), (85,130,11), (85,130,12), (85,130,13)]\n",
    "\n",
    "imgTumour_perseq = []\n",
    "imgSmoothInt_4seq = []\n",
    "\n",
    "for img in imgSmooth_4seq:\n",
    "    tum = SimpleITK.ConfidenceConnected(image1=img, seedList=lstSeeds_3D, numberOfIterations=3,\n",
    "                                        multiplier=1.5,replaceValue=labelTumour)\n",
    "    imgTumour_perseq.append(tum)\n",
    "    imgSmoothInt_4seq.append(SimpleITK.Cast(SimpleITK.RescaleIntensity(img), tum.GetPixelID()))\n",
    "\n",
    "sitk_show_slices([SimpleITK.LabelOverlay(i,j) for i,j in zip(imgSmoothInt_4seq, imgTumour_perseq)])"
   ]
  },
  {
   "cell_type": "markdown",
   "id": "ed615d59",
   "metadata": {},
   "source": [
    "This technique doesn't seem to give good results (unless we finetune the multiplier parameter of each sequence ConfidenceConnected algorithm. Therefore we will try combining the four sequences together instead to get a more accurate tuour segmentation."
   ]
  },
  {
   "cell_type": "markdown",
   "id": "7476a6d6",
   "metadata": {},
   "source": [
    "<a id='Part3b'></a>"
   ]
  },
  {
   "cell_type": "markdown",
   "id": "4d3f4887",
   "metadata": {},
   "source": [
    "### b. Segmentation of tumour in all four sequences combined"
   ]
  },
  {
   "cell_type": "code",
   "execution_count": null,
   "id": "7eefa36b",
   "metadata": {},
   "outputs": [],
   "source": [
    "# Merge three images (in this case the FLAIR image is too blurry to give relevant results)\n",
    "imgCompAll = SimpleITK.Compose(imgSmooth_4seq[0], imgSmooth_4seq[1], imgSmooth_4seq[3])\n",
    "\n",
    "# Compute tumour volume based on newly composed image\n",
    "imgTumourCompAll = SimpleITK.VectorConfidenceConnected(image1=imgCompAll, \n",
    "                                                       seedList=lstSeeds_3D,\n",
    "                                                       numberOfIterations=3,\n",
    "                                                       multiplier=1.5,\n",
    "                                                       replaceValue=labelTumour)\n",
    "\n",
    "imgSmoothInt_4seq = []\n",
    "for img in imgSmooth_4seq:\n",
    "    imgSmoothInt_4seq.append(SimpleITK.Cast(SimpleITK.RescaleIntensity(img), imgTumourCompAll.GetPixelID()))\n",
    "\n",
    "\n",
    "sitk_show_slices([SimpleITK.LabelOverlay(i, imgTumourCompAll) for i in imgSmoothInt_4seq])"
   ]
  },
  {
   "cell_type": "markdown",
   "id": "1261a4d4",
   "metadata": {},
   "source": [
    "This technique seems to give a proper segmentation of the tumour accross all 4 sequences and 7 slices.   \n",
    "We would still need to isolate the tumour on each sequence separately as the differences in size and contrasts between sequences are relevant features for tumour characterisation but this could be used to compute all the geometric properties of the tumour. (Or even to select the slice which contains the largest tumour diameter on which we can then conduct the rest of the analysis and extract the relevant features)."
   ]
  },
  {
   "cell_type": "markdown",
   "id": "881ba435",
   "metadata": {},
   "source": [
    "<a id='Part3c'></a>"
   ]
  },
  {
   "cell_type": "markdown",
   "id": "6d2e05b4",
   "metadata": {},
   "source": [
    "### c. Automate seed generation"
   ]
  },
  {
   "cell_type": "code",
   "execution_count": null,
   "id": "4950027d",
   "metadata": {},
   "outputs": [],
   "source": [
    "# Merge T2 and FLAIR images\n",
    "imgComp = SimpleITK.Compose(imgSmooth_4seq_slice10[1], imgSmooth_4seq_slice10[0])\n",
    "\n",
    "# Compute tumour volume based on newly composed image\n",
    "imgTumourComp = SimpleITK.VectorConfidenceConnected(image1=imgComp, \n",
    "                                               seedList=lstSeeds,\n",
    "                                               numberOfIterations=3,\n",
    "                                               multiplier=1.5,\n",
    "                                               replaceValue=labelTumour)\n",
    "imgSmoothInt_T2 = SimpleITK.Cast(SimpleITK.RescaleIntensity(imgSmooth_4seq_slice10[1]), \n",
    "                                           imgTumourComp.GetPixelID())\n",
    "\n",
    "# Display resulting segmentation on top of composed image\n",
    "sitk_show(SimpleITK.LabelOverlay(imgSmoothInt_T2, imgTumourComp), dpi=100)"
   ]
  },
  {
   "cell_type": "code",
   "execution_count": null,
   "id": "8f847b53",
   "metadata": {},
   "outputs": [],
   "source": [
    "# Get tumour dimensions with this new segmentation\n",
    "\n",
    "label_shape_analysis_comp = SimpleITK.LabelShapeStatisticsImageFilter()\n",
    "label_shape_analysis_comp.SetBackgroundValue(0)\n",
    "label_shape_analysis_comp.Execute(imgTumourComp)\n",
    "\n",
    "print 'T2 and T1 composed image Confidence Connected dimensions'\n",
    "print 'Centre location:', imgTumourComp.TransformPhysicalPointToIndex(label_shape_analysis_comp.GetCentroid(labelTumour))\n",
    "print 'Ellipsoid diameters:', label_shape_analysis_comp.GetEquivalentEllipsoidDiameter(labelTumour)\n",
    "print 'Number of pixels in tumour:', label_shape_analysis_comp.GetNumberOfPixels(labelTumour)"
   ]
  },
  {
   "cell_type": "markdown",
   "id": "c9b31a28",
   "metadata": {},
   "source": [
    "<a id='Part3'></a>"
   ]
  },
  {
   "cell_type": "markdown",
   "id": "8ab3500c",
   "metadata": {},
   "source": [
    "## 3. In 3D"
   ]
  },
  {
   "cell_type": "code",
   "execution_count": null,
   "id": "030006da",
   "metadata": {},
   "outputs": [],
   "source": [
    "# Define a function to display the 4 sequences\n",
    "\n",
    "sequence_names = ['T1', 'T2', 'FLAIR', 'T1 GD']\n",
    "\n",
    "def sitk_show_4seq(imgs, margin=0.05, dpi=40, axis='off', size=(5,5)):\n",
    "    fig, ((ax1, ax2), (ax3, ax4)) = plt.subplots(2, 2, figsize=size)\n",
    "        \n",
    "    for ax, img, seq in zip([ax1,ax2,ax3,ax4], imgs, sequence_names):\n",
    "        nda = SimpleITK.GetArrayFromImage(img)\n",
    "        spacing = img.GetSpacing()\n",
    "        figsize = (1 + margin) * nda.shape[0] / dpi, (1 + margin) * nda.shape[1] / dpi\n",
    "        extent = (0, nda.shape[1]*spacing[1], nda.shape[0]*spacing[0], 0)\n",
    "\n",
    "        plt.set_cmap(\"gray\")\n",
    "        ax.imshow(nda,extent=extent,interpolation=None)\n",
    "        ax.set_title(seq)\n",
    "        ax.axis(axis)\n",
    "    \n",
    "    fig.show()"
   ]
  },
  {
   "cell_type": "code",
   "execution_count": null,
   "id": "5be788f4",
   "metadata": {},
   "outputs": [],
   "source": [
    "# Load in DICOM images for 1 patient\n",
    "\n",
    "# Load in the 4 main sequences: T1, T2, FLAIR and post-IV (= T1 GD)\n",
    "PathDicom_T1 = \"../REMBRANDT/900-00-1961/AX_T1/\"\n",
    "PathDicom_T2 = \"../REMBRANDT/900-00-1961/AX_T2/\"\n",
    "PathDicom_FLAIR = \"../REMBRANDT/900-00-1961/AX_FLAIR/\"\n",
    "PathDicom_T1GD = \"../REMBRANDT/900-00-1961/AX_T1_GD/\"\n",
    "\n",
    "# Load in image series\n",
    "def import_img_series(path):\n",
    "    reader = SimpleITK.ImageSeriesReader()\n",
    "    filenamesDICOM = reader.GetGDCMSeriesFileNames(path)\n",
    "    reader.SetFileNames(filenamesDICOM)\n",
    "    return reader.Execute()\n",
    "\n",
    "img_T1_Original = import_img_series(PathDicom_T1)\n",
    "img_T2_Original = import_img_series(PathDicom_T2)\n",
    "img_FLAIR_Original = import_img_series(PathDicom_FLAIR)\n",
    "img_T1GD_Original = import_img_series(PathDicom_T1GD)\n",
    "\n",
    "img_4seq = [img_T1_Original, img_T2_Original, img_FLAIR_Original, img_T1GD_Original]"
   ]
  },
  {
   "cell_type": "markdown",
   "id": "44362a3a",
   "metadata": {},
   "source": [
    "<a id='Part2a'></a>"
   ]
  },
  {
   "cell_type": "markdown",
   "id": "268c826a",
   "metadata": {},
   "source": [
    "### a. Reshape images"
   ]
  },
  {
   "cell_type": "markdown",
   "id": "4f4eb347",
   "metadata": {},
   "source": [
    "#### - First approach: Shrink images to 256x256, reset paremeters and crop T1 GD image\n",
    "This approach was the first I tried to reshape all images to the same dimensions. However while it allowed for images to be superimposed it didn't allow them to have the same brain orientation/size/centre/alignment. In particular T1GD image wasn't aligned at all with the other three images."
   ]
  },
  {
   "cell_type": "code",
   "execution_count": null,
   "id": "022dc1e6",
   "metadata": {},
   "outputs": [],
   "source": [
    "import dicom\n",
    "from skimage import io\n",
    "import os\n",
    "import numpy\n",
    "from matplotlib import cm"
   ]
  },
  {
   "cell_type": "code",
   "execution_count": null,
   "id": "8ac92205",
   "metadata": {},
   "outputs": [],
   "source": [
    "# Extracting scans fron the first patient\n",
    "\n",
    "PathDicom = \"../REMBRANDT/900-00-1961/AX_T1\"\n",
    "lstFilesDCM = []  # create an empty list\n",
    "for dirName, subdirList, fileList in os.walk(PathDicom):\n",
    "    for filename in fileList:\n",
    "        if \".dcm\" in filename.lower():  # check whether the file's DICOM\n",
    "            lstFilesDCM.append(os.path.join(dirName,filename))"
   ]
  },
  {
   "cell_type": "code",
   "execution_count": null,
   "id": "7e4fe0e4",
   "metadata": {},
   "outputs": [],
   "source": [
    "# Get ref file\n",
    "RefDs = dicom.read_file(lstFilesDCM[0])\n",
    "\n",
    "# Load dimensions based on the number of rows, columns, and slices (along the Z axis)\n",
    "ConstPixelDims = (int(RefDs.Rows), int(RefDs.Columns), len(lstFilesDCM))\n",
    "\n",
    "# Load spacing values (in mm)\n",
    "ConstPixelSpacing = (float(RefDs.PixelSpacing[0]), float(RefDs.PixelSpacing[1]), float(RefDs.SliceThickness))"
   ]
  },
  {
   "cell_type": "code",
   "execution_count": null,
   "id": "dac1650c",
   "metadata": {},
   "outputs": [],
   "source": [
    "# DICOM images characteristics\n",
    "dicom.read_file(lstFilesDCM[0])"
   ]
  },
  {
   "cell_type": "code",
   "execution_count": null,
   "id": "c08330c8",
   "metadata": {},
   "outputs": [],
   "source": [
    "# The array is sized based on 'ConstPixelDims'\n",
    "ArrayDicom = numpy.zeros(ConstPixelDims, dtype=RefDs.pixel_array.dtype)\n",
    "\n",
    "# loop through all the DICOM files\n",
    "for filenameDCM in lstFilesDCM:\n",
    "    # read the file\n",
    "    ds = dicom.read_file(filenameDCM)\n",
    "    # store the raw image data\n",
    "    ArrayDicom[:, :, lstFilesDCM.index(filenameDCM)] = ds.pixel_array "
   ]
  },
  {
   "cell_type": "code",
   "execution_count": null,
   "id": "61f2c42b",
   "metadata": {},
   "outputs": [],
   "source": [
    "# Display all images in the first sequence of the first patient\n",
    "import pylab\n",
    "\n",
    "for i in range(19):\n",
    "    fig, ax = plt.subplots(dpi=300)\n",
    "    pylab.imshow(ArrayDicom[:, :, i], cmap=pylab.cm.bone)\n",
    "    plt.axis('off')\n",
    "    pylab.show()"
   ]
  }
 ],
 "metadata": {},
 "nbformat": 4,
 "nbformat_minor": 5
}
