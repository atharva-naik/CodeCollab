{
 "cells": [
  {
   "cell_type": "markdown",
   "id": "bc16e236",
   "metadata": {},
   "source": [
    "# GPU vs CPU on PolyACO\n"
   ]
  },
  {
   "cell_type": "code",
   "execution_count": null,
   "id": "6b3d595f",
   "metadata": {},
   "outputs": [],
   "source": [
    "%matplotlib inline\n",
    "import matplotlib\n",
    "import numpy as np\n",
    "import pickle\n",
    "from matplotlib import pyplot as plt\n",
    "\n",
    "from acoc import acoc_plotter \n",
    "\n",
    "\n",
    "fig, ax = plt.subplots()\n",
    "\n",
    "d = pickle.load(open('/Users/torrytufteland/Dropbox/Guro og Torry/experiments/Guro/experiments_tests/gpu_cpu_preformanceSpeed_BIG/results.pickle', 'rb'))\n",
    "d = d[0].T\n",
    "performance_gain = d[1] / d[0]\n",
    "\n",
    "xpoints = np.array([(i+1) * 10 for i in range(10)])\n",
    "plt.plot(xpoints, performance_gain, color='#0097E8')\n",
    "ax.yaxis.grid(color='gray')\n",
    "acoc_plotter.hide_top_and_right_axis(ax)\n",
    "\n",
    "plt.xlabel(r'Grid granularity ($\\mu$)')\n",
    "plt.ylabel('CPython / GPU')\n",
    "\n",
    "plt.show()\n",
    "fig.savefig('performance_gain.eps')"
   ]
  },
  {
   "cell_type": "markdown",
   "id": "da1d8d6f",
   "metadata": {},
   "source": [
    "## Profiling of CPU implementation with high granularity\n",
    "\n",
    "* Granularity: 100\n",
    "* Time: 200 seconds per ant\n",
    "* 5 total runs"
   ]
  }
 ],
 "metadata": {},
 "nbformat": 4,
 "nbformat_minor": 5
}
