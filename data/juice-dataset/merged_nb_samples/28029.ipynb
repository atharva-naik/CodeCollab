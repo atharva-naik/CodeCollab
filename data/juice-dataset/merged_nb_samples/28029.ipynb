{
 "cells": [
  {
   "cell_type": "markdown",
   "id": "34c2dde1",
   "metadata": {},
   "source": [
    "<center><h1>1. Adience Overview</h1></center>"
   ]
  },
  {
   "cell_type": "markdown",
   "id": "f1641114",
   "metadata": {},
   "source": [
    "## About this notebook"
   ]
  },
  {
   "cell_type": "markdown",
   "id": "994900ce",
   "metadata": {},
   "source": [
    "In order to evaluate our model, we need to split our available data intro training, validation and testing portions. That way, we can use the traning split to learn parameters, the validation set to decide on hyperparameters and the testing set to determine the final performance of our models unseen data. This method of model evaluation is called <b>Cross Validation</b>.\n",
    "\n",
    "However, it is often problematic to decide on which portions of the dataset should be used for training, testing and validation because the quality of the splits has a non-trivial effect on the model's performance. Luckily enough, the question of which portion to use for testing is already answered by the Adience Benchmark guidelines. More precisely, the 5th fold - that would be the fold4 because the folds are indexed starting at 0- is to be used as the testing set.\n",
    "\n",
    "With that question out of the way, we're still concerned with how to split the remaining data into a training and validation split. The technique of <b>K-Fold Cross Validation</b> answer this question by creating K different training and validation splits out of the remaining data, then testing our model and all of them and having the average performance of our models on all splits be our measure of accuracy / 'goodness'. We'll be using a specific variant of K-Fold Cross Validation called <b>Stratified K-Fold Cross Validation</b>.\n",
    "\n",
    "Stratified K-Fold Cross Validation forces the K different training-validation splits to have roughly the same distribution of classes in each of them. The idea here is to prevent any fold from having a non-trivial excess of a given class that would then bias the classifier created on it.\n",
    "\n",
    "Lastly, after our folds have been created, we'll organize them into directories in such a way that Keras's Image Processing tools can make use of it without extra -often hacky- workarounds"
   ]
  },
  {
   "cell_type": "markdown",
   "id": "3cd34d17",
   "metadata": {},
   "source": [
    "## Suggested Sources"
   ]
  },
  {
   "cell_type": "markdown",
   "id": "f003bc55",
   "metadata": {},
   "source": [
    "If the explanation above didn't quite make sense. I recommend reviewing the sources below.\n",
    "\n",
    "1. https://www.youtube.com/watch?v=TIgfjmp-4BA\n",
    "2. stats.stackexchange.com/questions/117643/why-use-stratified-cross-validation-why-does-this-not-damage-variance-related-b"
   ]
  },
  {
   "cell_type": "markdown",
   "id": "04095691",
   "metadata": {},
   "source": [
    "## Creating the foundational splits on the Adience Benchmark"
   ]
  },
  {
   "cell_type": "markdown",
   "id": "5a59864e",
   "metadata": {},
   "source": [
    "Adience Benchmark source: http://www.openu.ac.il/home/hassner/Adience/data.html"
   ]
  },
  {
   "cell_type": "code",
   "execution_count": null,
   "id": "d16cbe5b",
   "metadata": {},
   "outputs": [],
   "source": [
    "# Necessary imports\n",
    "import os\n",
    "import pandas as pd\n",
    "import numpy  as np\n",
    "from sklearn.model_selection import StratifiedShuffleSplit"
   ]
  },
  {
   "cell_type": "code",
   "execution_count": null,
   "id": "284406c7",
   "metadata": {},
   "outputs": [],
   "source": [
    "# Ensure reproducibility\n",
    "np.random.seed(0)"
   ]
  },
  {
   "cell_type": "code",
   "execution_count": null,
   "id": "6d60dd9c",
   "metadata": {},
   "outputs": [],
   "source": [
    "# Path constants\n",
    "ADIENCE_TEMPALTE  = \"../../data/adience/%s\"\n",
    "METADATA_TEMPLATE = \"../../data/adience/meta/fold_%s_data.txt\"\n",
    "IMG_TEMPLATE      = \"../../data/adience/aligned/%s/landmark_aligned_face.%d.%s\"\n",
    "\n",
    "AGE_TRAIN_TEMPLATE = \"../../data/adience/keras_format/age/train/%d/%s/%d.jpg\"\n",
    "AGE_VALID_TEMPLATE = \"../../data/adience/keras_format/age/valid/%d/%s/%d.jpg\"\n",
    "AGE_TEST_TEMPLATE  = \"../../data/adience/keras_format/age/test/%s/%d.jpg\"\n",
    "\n",
    "GENDER_TRAIN_TEMPLATE = \"../../data/adience/keras_format/gender/train/%d/%s/%d.jpg\"\n",
    "GENDER_VALID_TEMPLATE = \"../../data/adience/keras_format/gender/valid/%d/%s/%d.jpg\"\n",
    "GENDER_TEST_TEMPLATE  = \"../../data/adience/keras_format/gender/test/%s/%d.jpg\"\n",
    "\n",
    "RELEVANT_COLS = [\"user_id\",\"face_id\",\"original_image\",\"gender\",\"age\"]\n",
    "\n",
    "META_SAVE_TEMPLATE = \"../../data/adience/meta/%s_%d.csv\""
   ]
  },
  {
   "cell_type": "code",
   "execution_count": null,
   "id": "7ea95f7c",
   "metadata": {},
   "outputs": [],
   "source": [
    "# Indepdendent constants\n",
    "NUM_TRAIN_FOLDS = 4\n",
    "IDX_TEST_FOLD   = 4\n",
    "NUM_SPLITS      = 5"
   ]
  },
  {
   "cell_type": "code",
   "execution_count": null,
   "id": "8b3f0c9f",
   "metadata": {},
   "outputs": [],
   "source": [
    "# Dependendent constants\n",
    "METADATA_TEST = METADATA_TEMPLATE % IDX_TEST_FOLD"
   ]
  },
  {
   "cell_type": "code",
   "execution_count": null,
   "id": "cad702e6",
   "metadata": {},
   "outputs": [],
   "source": [
    "# Extracting the test partition and \n",
    "# creating a combined train_validation (trvl) superset\n",
    "\n",
    "folds = []\n",
    "for index in range(NUM_TRAIN_FOLDS):\n",
    "    path = METADATA_TEMPLATE % index\n",
    "    folds.append(pd.read_csv(filepath_or_buffer=path, sep=\"\\t\"))\n",
    "    \n",
    "trvl_meta = pd.concat(folds, ignore_index=True)\n",
    "test_meta = pd.read_csv(filepath_or_buffer=METADATA_TEST, sep=\"\\t\")\n",
    "\n",
    "trvl_meta = trvl_meta[RELEVANT_COLS]\n",
    "test_meta = test_meta[RELEVANT_COLS]"
   ]
  },
  {
   "cell_type": "markdown",
   "id": "066f76c1",
   "metadata": {},
   "source": [
    "At this point, we've created an initial partition of our dataset into a testing split and its complement. Both splits still need more processing before they're ready for primetime"
   ]
  },
  {
   "cell_type": "markdown",
   "id": "55aa5156",
   "metadata": {},
   "source": [
    "## Overview of current splits"
   ]
  },
  {
   "cell_type": "markdown",
   "id": "d6dfb92e",
   "metadata": {},
   "source": [
    "### Testing split"
   ]
  },
  {
   "cell_type": "code",
   "execution_count": null,
   "id": "87f8ee1c",
   "metadata": {},
   "outputs": [],
   "source": [
    "test_meta[\"gender\"].value_counts()"
   ]
  },
  {
   "cell_type": "code",
   "execution_count": null,
   "id": "c9e76462",
   "metadata": {},
   "outputs": [],
   "source": [
    "test_meta[\"age\"].value_counts()"
   ]
  },
  {
   "cell_type": "markdown",
   "id": "90841b56",
   "metadata": {},
   "source": [
    "### Nan Genders"
   ]
  },
  {
   "cell_type": "code",
   "execution_count": null,
   "id": "2bd1e44b",
   "metadata": {},
   "outputs": [],
   "source": [
    "NaN_gender_trvl = trvl_meta[\"gender\"].notnull()\n",
    "NaN_gender_trvl.value_counts()"
   ]
  },
  {
   "cell_type": "code",
   "execution_count": null,
   "id": "d5081ad1",
   "metadata": {},
   "outputs": [],
   "source": [
    "NaN_gender_test = test_meta[\"gender\"].notnull()\n",
    "NaN_gender_test.value_counts()"
   ]
  },
  {
   "cell_type": "markdown",
   "id": "8231e5ac",
   "metadata": {},
   "source": [
    "Since the number of NaN gender is quite small, there's no problem with dropping those as wel"
   ]
  },
  {
   "cell_type": "code",
   "execution_count": null,
   "id": "23cd493c",
   "metadata": {},
   "outputs": [],
   "source": [
    "test_meta = test_meta[NaN_gender_test]\n",
    "trvl_meta = trvl_meta[NaN_gender_trvl]"
   ]
  },
  {
   "cell_type": "markdown",
   "id": "5633484d",
   "metadata": {},
   "source": [
    "Checking value counts again for sanity check"
   ]
  },
  {
   "cell_type": "markdown",
   "id": "66c0fb33",
   "metadata": {},
   "source": [
    "Perfect! The dataset has been fully curated"
   ]
  },
  {
   "cell_type": "markdown",
   "id": "46ad4181",
   "metadata": {},
   "source": [
    "## No U gender"
   ]
  },
  {
   "cell_type": "code",
   "execution_count": null,
   "id": "f65e7cc7",
   "metadata": {},
   "outputs": [],
   "source": [
    "trvl_meta_X     = trvl_meta\n",
    "trvl_meta_X_arr = trvl_meta_X.as_matrix()\n",
    "trvl_meta_X_arr = trvl_meta_X_arr[:,1:]"
   ]
  },
  {
   "cell_type": "code",
   "execution_count": null,
   "id": "3d8c8814",
   "metadata": {},
   "outputs": [],
   "source": [
    "trvl_meta_Y_gender  = trvl_meta[\"gender\"].as_matrix()\n",
    "trvl_meta_Y_age     = trvl_meta[\"age\"].as_matrix()"
   ]
  },
  {
   "cell_type": "markdown",
   "id": "9dacfe48",
   "metadata": {},
   "source": [
    "### Splits for gender-only classication"
   ]
  },
  {
   "cell_type": "code",
   "execution_count": null,
   "id": "770168b9",
   "metadata": {},
   "outputs": [],
   "source": [
    "from sklearn.model_selection import StratifiedShuffleSplit\n",
    "X = trvl_meta_X_arr\n",
    "y = trvl_meta_Y_gender\n",
    "sss = StratifiedShuffleSplit(n_splits=num_splits, test_size=validation_prop, random_state=0)\n",
    "sss.get_n_splits(X, y)\n",
    "\n",
    "fold_count   = 1\n",
    "fold_container_gender = []\n",
    "for train_index, test_index in sss.split(X, y):\n",
    "    print \"FOLD #: %d\" % fold_count\n",
    "    print \"TRAIN      :\", train_index\n",
    "    print \"VALIDATION :\", test_index\n",
    "    print \"=========================================================\"\n",
    "    fold_count += 1\n",
    "    X_train, X_valid = X[train_index], X[test_index]\n",
    "    fold_container_gender.append([X_train,X_valid])"
   ]
  },
  {
   "cell_type": "markdown",
   "id": "fccf1dc4",
   "metadata": {},
   "source": [
    "### Splits for age-only classication"
   ]
  },
  {
   "cell_type": "code",
   "execution_count": null,
   "id": "9a064851",
   "metadata": {},
   "outputs": [],
   "source": [
    "from sklearn.model_selection import StratifiedShuffleSplit\n",
    "X = trvl_meta_X_arr\n",
    "y = trvl_meta_Y_age\n",
    "sss = StratifiedShuffleSplit(n_splits=num_splits, test_size=validation_prop, random_state=0)\n",
    "sss.get_n_splits(X, y)\n",
    "\n",
    "fold_count   = 1\n",
    "fold_container_age = []\n",
    "for train_index, test_index in sss.split(X, y):\n",
    "    print \"FOLD #: %d\" % fold_count\n",
    "    print \"TRAIN      :\", train_index\n",
    "    print \"VALIDATION :\", test_index\n",
    "    print \"=========================================================\"\n",
    "    fold_count += 1\n",
    "    X_train, X_valid = X[train_index], X[test_index]\n",
    "    fold_container_age.append([X_train,X_valid])"
   ]
  },
  {
   "cell_type": "markdown",
   "id": "c9081391",
   "metadata": {},
   "source": [
    "## Generating dataframes for each classification task"
   ]
  },
  {
   "cell_type": "code",
   "execution_count": null,
   "id": "545477cc",
   "metadata": {},
   "outputs": [],
   "source": [
    "headers = [\"user_id\",\"face_id\",\"original_image\",\"gender\",\"age\"]"
   ]
  },
  {
   "cell_type": "code",
   "execution_count": null,
   "id": "cf9b4a0b",
   "metadata": {},
   "outputs": [],
   "source": [
    "gender_fold1_train = pd.DataFrame(fold_container_gender[0][0], columns=headers)\n",
    "gender_fold1_valid = pd.DataFrame(fold_container_gender[0][1], columns=headers)"
   ]
  },
  {
   "cell_type": "code",
   "execution_count": null,
   "id": "f41e9720",
   "metadata": {},
   "outputs": [],
   "source": [
    "age_fold1_train = pd.DataFrame(fold_container_age[0][0], columns=headers)\n",
    "age_fold1_valid = pd.DataFrame(fold_container_age[0][1], columns=headers)"
   ]
  },
  {
   "cell_type": "markdown",
   "id": "61a0baec",
   "metadata": {},
   "source": [
    "## Augment Dataframes to contain the current image path and the image path to generate"
   ]
  },
  {
   "cell_type": "markdown",
   "id": "3820f15b",
   "metadata": {},
   "source": [
    "### Image path"
   ]
  },
  {
   "cell_type": "markdown",
   "id": "a7bee54e",
   "metadata": {},
   "source": [
    "This is weird. There should not be ages outside ranges. Let's look into this as well"
   ]
  },
  {
   "cell_type": "code",
   "execution_count": null,
   "id": "18d700a9",
   "metadata": {},
   "outputs": [],
   "source": [
    "trvl_meta.isnull().values.any()"
   ]
  },
  {
   "cell_type": "markdown",
   "id": "b55c6901",
   "metadata": {},
   "source": [
    "Is is TRUE that there are NaN value in this set as well. We'll have to fix it too"
   ]
  },
  {
   "cell_type": "markdown",
   "id": "b2c19eeb",
   "metadata": {},
   "source": [
    "## Fixing dataset inconsistencies and filling missing values"
   ]
  },
  {
   "cell_type": "markdown",
   "id": "d66d669b",
   "metadata": {},
   "source": [
    "The summaries above show problems with the dataset. Namely, NaNs as gender values, None as age values and inconsistent / overlapping labels for age. We address those issues right here."
   ]
  },
  {
   "cell_type": "markdown",
   "id": "f039112d",
   "metadata": {},
   "source": [
    "### Dropping rows with NaN gender and None age simultaneously"
   ]
  },
  {
   "cell_type": "markdown",
   "id": "1228d9b4",
   "metadata": {},
   "source": [
    "Rows with NaN gender and None age are the most problematic because we cannot average any values in order to 'guesstimate' their real values. A possible solution would be to fill in those values by running a state-of-the-art model such as Face++ or Microsofts' Facial Features model but we think that'd be unecessary given that there aren't that many rows with these two characteristics at the same time"
   ]
  },
  {
   "cell_type": "code",
   "execution_count": null,
   "id": "e86cb67f",
   "metadata": {},
   "outputs": [],
   "source": [
    "# Conditions for dropping\n",
    "NaN_gender_trvl = trvl_meta[\"gender\"].isnull()\n",
    "None_age_trvl   = trvl_meta[\"age\"] == \"None\"\n",
    "trvl_bad_rows    = NaN_gender_trvl & None_age_trvl\n",
    "trvl_bad_indices = trvl_meta[trvl_bad_rows].index.values\n",
    "\n",
    "# Dropping rows when two conditions are present\n",
    "trvl_meta.drop(labels=trvl_bad_indices, inplace=True)"
   ]
  },
  {
   "cell_type": "code",
   "execution_count": null,
   "id": "ce6e8865",
   "metadata": {},
   "outputs": [],
   "source": [
    "# Conditions for dropping\n",
    "NaN_gender_test = test_meta[\"gender\"].isnull()\n",
    "None_age_test   = test_meta[\"age\"] == \"None\"\n",
    "test_bad_rows   = NaN_gender_test & None_age_test\n",
    "test_bad_indices = test_meta[test_bad_rows].index.values\n",
    "\n",
    "# Dropping rows when two conditions are present\n",
    "test_meta.drop(labels=test_bad_indices, inplace=True)"
   ]
  },
  {
   "cell_type": "markdown",
   "id": "7e682988",
   "metadata": {},
   "source": [
    "### Fixing bad age ranges"
   ]
  },
  {
   "cell_type": "markdown",
   "id": "3845c82f",
   "metadata": {},
   "source": [
    "We already know that some of the age labels for some reason are not declared as a range, as most other labels, but instead as a single number. This is problematic. The next section transform real, continuous ages into their matching ranges"
   ]
  },
  {
   "cell_type": "markdown",
   "id": "77e975e0",
   "metadata": {},
   "source": [
    "#### Testing complement"
   ]
  },
  {
   "cell_type": "code",
   "execution_count": null,
   "id": "adbad17f",
   "metadata": {},
   "outputs": [],
   "source": [
    "test_meta.head()"
   ]
  },
  {
   "cell_type": "code",
   "execution_count": null,
   "id": "a9735785",
   "metadata": {},
   "outputs": [],
   "source": [
    "test_meta.shape"
   ]
  },
  {
   "cell_type": "markdown",
   "id": "ffabde94",
   "metadata": {},
   "source": [
    "Aha! There are 'None'-valued ages. That's problematic. We'll need to do something about those. Thanfully, it's apparently only a few"
   ]
  },
  {
   "cell_type": "code",
   "execution_count": null,
   "id": "9400fe82",
   "metadata": {},
   "outputs": [],
   "source": [
    "test_meta.isnull().values.any()"
   ]
  },
  {
   "cell_type": "markdown",
   "id": "b7685ab7",
   "metadata": {},
   "source": [
    "This is unexpected, there are null / NaN values in this split. Let us inspect that further"
   ]
  },
  {
   "cell_type": "code",
   "execution_count": null,
   "id": "82e53276",
   "metadata": {},
   "outputs": [],
   "source": [
    "test_meta[test_meta.isnull().any(axis=1)].head()"
   ]
  },
  {
   "cell_type": "markdown",
   "id": "2e2e2017",
   "metadata": {},
   "source": [
    "### test complement set"
   ]
  },
  {
   "cell_type": "code",
   "execution_count": null,
   "id": "f96eed71",
   "metadata": {},
   "outputs": [],
   "source": [
    "trvl_meta.head()"
   ]
  },
  {
   "cell_type": "code",
   "execution_count": null,
   "id": "d0dead16",
   "metadata": {},
   "outputs": [],
   "source": [
    "trvl_meta.shape"
   ]
  },
  {
   "cell_type": "code",
   "execution_count": null,
   "id": "06ec58a6",
   "metadata": {},
   "outputs": [],
   "source": [
    "trvl_meta[\"gender\"].value_counts()"
   ]
  },
  {
   "cell_type": "code",
   "execution_count": null,
   "id": "a2d4e5e5",
   "metadata": {},
   "outputs": [],
   "source": [
    "trvl_meta[\"age\"].value_counts()"
   ]
  },
  {
   "cell_type": "markdown",
   "id": "e1c14f70",
   "metadata": {},
   "source": [
    "What follows is a non-trivial change. For some reason, some of the ages don't fit into the supposed labeled ranges in the dataset. So we're gonna have to take some ages and simply group them inside their closest label, which will not necessary extend to the right range"
   ]
  },
  {
   "cell_type": "code",
   "execution_count": null,
   "id": "cd6ce865",
   "metadata": {},
   "outputs": [],
   "source": [
    "trvl_meta[\"age\"] = trvl_meta[\"age\"].replace(\"35\",\"(25, 32)\")\n",
    "trvl_meta[\"age\"] = trvl_meta[\"age\"].replace(\"22\",\"(15, 20)\")\n",
    "trvl_meta[\"age\"] = trvl_meta[\"age\"].replace(\"34\",\"(25, 32)\")\n",
    "trvl_meta[\"age\"] = trvl_meta[\"age\"].replace(\"23\",\"(25, 32)\")\n",
    "trvl_meta[\"age\"] = trvl_meta[\"age\"].replace(\"45\",\"(48, 53)\")\n",
    "trvl_meta[\"age\"] = trvl_meta[\"age\"].replace(\"55\",\"(48, 53)\")\n",
    "trvl_meta[\"age\"] = trvl_meta[\"age\"].replace(\"36\",\"(38, 43)\")\n",
    "trvl_meta[\"age\"] = trvl_meta[\"age\"].replace(\"3\",\"(0, 2)\")\n",
    "\n",
    "\n",
    "trvl_meta[\"age\"] = trvl_meta[\"age\"].replace(\"57\",\"(60, 100)\")\n",
    "trvl_meta[\"age\"] = trvl_meta[\"age\"].replace(\"58\",\"(60, 100)\")\n",
    "trvl_meta[\"age\"] = trvl_meta[\"age\"].replace(\"56\",\"(60, 100)\")\n",
    "trvl_meta[\"age\"] = trvl_meta[\"age\"].replace(\"46\",\"(48, 53)\")\n",
    "trvl_meta[\"age\"] = trvl_meta[\"age\"].replace(\"(27, 32)\",\"(25, 32)\")\n",
    "trvl_meta[\"age\"] = trvl_meta[\"age\"].replace(\"(38, 48)\",\"(38, 43)\")\n",
    "trvl_meta[\"age\"] = trvl_meta[\"age\"].replace(\"(38, 42)\",\"(38, 43)\")\n",
    "trvl_meta[\"age\"] = trvl_meta[\"age\"].replace(\"(8, 23)\",\"(8, 13)\")"
   ]
  },
  {
   "cell_type": "code",
   "execution_count": null,
   "id": "b030134e",
   "metadata": {},
   "outputs": [],
   "source": [
    "# Dropping None ages. Not worth manually tagging them\n",
    "trvl_meta = trvl_meta[trvl_meta[\"age\"] != \"None\"]"
   ]
  },
  {
   "cell_type": "markdown",
   "id": "aac372d5",
   "metadata": {},
   "source": [
    "Now we do the same procedure as above but with the testing set"
   ]
  },
  {
   "cell_type": "markdown",
   "id": "2b89b13b",
   "metadata": {},
   "source": [
    "#### Testing set"
   ]
  },
  {
   "cell_type": "code",
   "execution_count": null,
   "id": "55c07f8c",
   "metadata": {},
   "outputs": [],
   "source": [
    "test_meta[\"age\"] = test_meta[\"age\"].replace(\"35\", \"(25, 32)\")\n",
    "test_meta[\"age\"] = test_meta[\"age\"].replace(\"57\", \"(60, 100)\")\n",
    "test_meta[\"age\"] = test_meta[\"age\"].replace(\"55\", \"(48, 53)\")\n",
    "test_meta[\"age\"] = test_meta[\"age\"].replace(\"45\", \"(38, 43)\")\n",
    "test_meta[\"age\"] = test_meta[\"age\"].replace(\"32\", \"(25, 32)\")\n",
    "test_meta[\"age\"] = test_meta[\"age\"].replace(\"(8, 14)\", \"(8, 13)\")\n",
    "test_meta[\"age\"] = test_meta[\"age\"].replace(\"(38, 48)\", \"(38, 43)\")"
   ]
  },
  {
   "cell_type": "code",
   "execution_count": null,
   "id": "36364b31",
   "metadata": {},
   "outputs": [],
   "source": [
    "binary_gender = test_meta[\"gender\"] != \"u\"\n",
    "test_meta = test_meta[binary_gender]\n",
    "test_meta.reset_index(inplace=True)"
   ]
  },
  {
   "cell_type": "code",
   "execution_count": null,
   "id": "e94f2c7c",
   "metadata": {},
   "outputs": [],
   "source": [
    "binary_gender = trvl_meta[\"gender\"] != \"u\"\n",
    "trvl_meta = trvl_meta[binary_gender]\n",
    "trvl_meta.reset_index(inplace=True)"
   ]
  },
  {
   "cell_type": "markdown",
   "id": "8072bec8",
   "metadata": {},
   "source": [
    "## Generating k-folds of train and validation splits"
   ]
  },
  {
   "cell_type": "markdown",
   "id": "9b515a8a",
   "metadata": {},
   "source": [
    "In this section we create K stratified folds of training and validation splits out of the complement of the testing set. We'll set the number of folds created to be equal to 5 as that is the number of splits suggested by the Adience Benchmark README file.\n",
    "\n",
    "Let us take this moment to discuss propotions. Each fold of the original, unprocessed, dataset contains roughly the same amount of data. Given that there are a total of 5 folds and one of them is reserved for testing, the percentage of the dataset used for testing will be roughly 20%. Out of the remaining data, we'll use  25% of each of the k-folds to be reserved for validation. This means that our testing dataset split follows roughly the following proportions.\n",
    "\n",
    "<ul>\n",
    "<li><b>Testing:</b> 20%</li>\n",
    "<li><b>Validation:</b>20%</li>\n",
    "<li><b>Training</b>:60%</li>\n",
    "</ul>\n",
    "\n",
    "This configuration is not accidental, we've chosen this proportions because they're common practice"
   ]
  },
  {
   "cell_type": "code",
   "execution_count": null,
   "id": "6a8aefd2",
   "metadata": {},
   "outputs": [],
   "source": [
    "num_splits = 1\n",
    "validation_prop = 0.25"
   ]
  },
  {
   "cell_type": "code",
   "execution_count": null,
   "id": "16c9dfbe",
   "metadata": {},
   "outputs": [],
   "source": [
    "sss = StratifiedShuffleSplit(n_splits=num_splits, test_size=validation_prop, random_state=0)"
   ]
  },
  {
   "cell_type": "markdown",
   "id": "a6290663",
   "metadata": {},
   "source": [
    "### Prepping the test complement set"
   ]
  },
  {
   "cell_type": "markdown",
   "id": "d3fcd577",
   "metadata": {},
   "source": [
    "For the stratified k-fold partitioning tool to function, all classes need to appear at least twice in the training dataset. Given the amount of data we've dropped, such is not the case anymore. Observe below the current frequency of targets for age."
   ]
  },
  {
   "cell_type": "markdown",
   "id": "e4577024",
   "metadata": {},
   "source": [
    "Now we're good to go! "
   ]
  },
  {
   "cell_type": "markdown",
   "id": "c59b7f94",
   "metadata": {},
   "source": [
    "Here I'll introduce a minor but necessary fix to the dataset. Directory names in UNIX cannot start with parenthesis. Thus, I'll remove the parenthesis from the age column and replace them with '_'"
   ]
  },
  {
   "cell_type": "code",
   "execution_count": null,
   "id": "f1c21e6b",
   "metadata": {},
   "outputs": [],
   "source": [
    "trvl_meta[\"age\"] = trvl_meta[\"age\"].str.replace(\"(\", \"_\")\n",
    "trvl_meta[\"age\"] = trvl_meta[\"age\"].str.replace(\")\", \"_\")\n",
    "trvl_meta[\"age\"] = trvl_meta[\"age\"].str.replace(\" \", \"-\")\n",
    "trvl_meta[\"age\"] = trvl_meta[\"age\"].str.replace(\",\", \"\")\n",
    "trvl_meta[\"age\"].value_counts()"
   ]
  },
  {
   "cell_type": "code",
   "execution_count": null,
   "id": "3cc615f8",
   "metadata": {},
   "outputs": [],
   "source": [
    "test_meta[\"age\"] = test_meta[\"age\"].str.replace(\"(\", \"_\")\n",
    "test_meta[\"age\"] = test_meta[\"age\"].str.replace(\")\", \"_\")\n",
    "test_meta[\"age\"] = test_meta[\"age\"].str.replace(\" \", \"-\")\n",
    "test_meta[\"age\"] = test_meta[\"age\"].str.replace(\",\", \"\")\n",
    "test_meta[\"age\"].value_counts()"
   ]
  },
  {
   "cell_type": "code",
   "execution_count": null,
   "id": "9dce48fa",
   "metadata": {},
   "outputs": [],
   "source": [
    "gender_fold1_train[\"img_path\"] = gender_fold1_train[RELEVANT_COLS].apply(lambda x: IMG_TEMPLATE % (x[0],x[1],x[2]), axis=1)\n",
    "gender_fold1_valid[\"img_path\"] = gender_fold1_valid[RELEVANT_COLS].apply(lambda x: IMG_TEMPLATE % (x[0],x[1],x[2]), axis=1)"
   ]
  },
  {
   "cell_type": "code",
   "execution_count": null,
   "id": "423cd676",
   "metadata": {},
   "outputs": [],
   "source": [
    "age_fold1_train[\"img_path\"] = age_fold1_train[RELEVANT_COLS].apply(lambda x: IMG_TEMPLATE % (x[0],x[1],x[2]), axis=1)\n",
    "age_fold1_valid[\"img_path\"] = age_fold1_valid[RELEVANT_COLS].apply(lambda x: IMG_TEMPLATE % (x[0],x[1],x[2]), axis=1)"
   ]
  },
  {
   "cell_type": "code",
   "execution_count": null,
   "id": "71a6f248",
   "metadata": {},
   "outputs": [],
   "source": [
    "test_meta[\"img_path\"] = test_meta[RELEVANT_COLS].apply(lambda x: IMG_TEMPLATE % (x[0],x[1],x[2]), axis=1)"
   ]
  },
  {
   "cell_type": "markdown",
   "id": "d5da013d",
   "metadata": {},
   "source": [
    "### Keras path"
   ]
  },
  {
   "cell_type": "markdown",
   "id": "495c7581",
   "metadata": {},
   "source": [
    "So we see that there are a lot of ages that are not in range format. Since the number of such occurences is rather limited. We'll fix them manually in the cell below."
   ]
  }
 ],
 "metadata": {},
 "nbformat": 4,
 "nbformat_minor": 5
}
