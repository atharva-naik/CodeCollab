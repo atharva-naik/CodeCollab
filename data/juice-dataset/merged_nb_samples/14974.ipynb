{
 "cells": [
  {
   "cell_type": "markdown",
   "id": "953c58d2",
   "metadata": {},
   "source": [
    "# Plotting Nyquist plots of impedance spectra\n",
    "\n",
    "Plotting a basically formated Nyquist plot is as easy as 1, 2, 3..."
   ]
  },
  {
   "cell_type": "code",
   "execution_count": null,
   "id": "5463990c",
   "metadata": {},
   "outputs": [],
   "source": [
    "import matplotlib.pyplot as plt\n",
    "import numpy as np\n",
    "\n",
    "import sys\n",
    "sys.path.append('../../../')\n",
    "\n",
    "from impedance.circuits import CustomCircuit\n"
   ]
  },
  {
   "cell_type": "markdown",
   "id": "204fc091",
   "metadata": {},
   "source": [
    "### 1. Read in data"
   ]
  },
  {
   "cell_type": "code",
   "execution_count": null,
   "id": "3599133e",
   "metadata": {},
   "outputs": [],
   "source": [
    "data = np.genfromtxt('../../../data/exampleData.csv', delimiter=',')\n",
    "\n",
    "frequencies = data[:,0]\n",
    "Z = data[:,1] + 1j*data[:,2]\n",
    "\n",
    "frequencies = frequencies[np.imag(Z) < 0]\n",
    "Z = Z[np.imag(Z) < 0]"
   ]
  },
  {
   "cell_type": "markdown",
   "id": "cc338a26",
   "metadata": {},
   "source": [
    "### 2. Fit a custom circuit\n",
    "\n",
    "(If you want to just plot experimental data without fitting a model to it, you should check out the `plotting.plot_nyquist()` function)"
   ]
  },
  {
   "cell_type": "code",
   "execution_count": null,
   "id": "4e7376ae",
   "metadata": {},
   "outputs": [],
   "source": [
    "circuit = CustomCircuit(initial_guess=[.01, .005, .1, .005, .1, .001, 200], circuit='R_0-p(R_1,C_1)-p(R_1,C_1)-W_1/W_2')\n",
    "\n",
    "circuit.fit(frequencies, Z)\n",
    "\n",
    "print(circuit)"
   ]
  },
  {
   "cell_type": "markdown",
   "id": "1853c700",
   "metadata": {},
   "source": [
    "### 3. Plot the data and fit model with confidence bounds"
   ]
  },
  {
   "cell_type": "code",
   "execution_count": null,
   "id": "bcbcec92",
   "metadata": {},
   "outputs": [],
   "source": [
    "circuit.plot(f_data=frequencies, Z_data=Z, conf_bounds='filled')"
   ]
  },
  {
   "cell_type": "markdown",
   "id": "0ec849f2",
   "metadata": {},
   "source": [
    "### Bonus: Easy access to all the customization of matplotlib\n",
    "\n",
    "Here we plot the data, changing the size of the figure, axes label fontsize, and turning off the grid by accessing the plt.Axes() object, ax\n"
   ]
  }
 ],
 "metadata": {},
 "nbformat": 4,
 "nbformat_minor": 5
}
