{
 "cells": [
  {
   "cell_type": "markdown",
   "id": "e380768f",
   "metadata": {},
   "source": [
    "# Election Tweets Analysis"
   ]
  },
  {
   "cell_type": "markdown",
   "id": "49d107d2",
   "metadata": {},
   "source": [
    "## Load Python Dependencies"
   ]
  },
  {
   "cell_type": "code",
   "execution_count": null,
   "id": "24de4b2c",
   "metadata": {},
   "outputs": [],
   "source": [
    "import graphlab as gl\n",
    "import re\n",
    "from os import path\n",
    "import matplotlib.pyplot as plt\n",
    "import seaborn as sns\n",
    "from wordcloud import WordCloud, STOPWORDS\n",
    "from scipy.misc import imread\n",
    "import pandas as pd\n",
    "\n",
    "%matplotlib inline\n",
    "pd.set_option('display.max_colwidth', -1)"
   ]
  },
  {
   "cell_type": "markdown",
   "id": "9db17bd6",
   "metadata": {},
   "source": [
    "### Load and clean tweets"
   ]
  },
  {
   "cell_type": "code",
   "execution_count": null,
   "id": "3bb3e645",
   "metadata": {},
   "outputs": [],
   "source": [
    "raw_tweets = gl.SFrame('data/tweets.csv')"
   ]
  },
  {
   "cell_type": "code",
   "execution_count": null,
   "id": "3e9ba1fe",
   "metadata": {},
   "outputs": [],
   "source": [
    "# cleanup scripts\n",
    "def cleanup_text(value):\n",
    "    \"\"\"Cleanup tweets by removing 'retweeted', stopwords and other characters\"\"\"\n",
    "    output = []\n",
    "    value = re.sub(r'((retweeted))', '', value, flags=re.I)\n",
    "    value = re.sub(r'[^\\w\\s]+', ' ', value)\n",
    "    for word in value.split():\n",
    "        if len(word) > 2 and word not in gl.text_analytics.stopwords():\n",
    "            output.append(word.strip())\n",
    "    return ' '.join(output)"
   ]
  },
  {
   "cell_type": "code",
   "execution_count": null,
   "id": "04f1e4c8",
   "metadata": {},
   "outputs": [],
   "source": [
    "raw_tweets['clean_text'] = raw_tweets['text'].apply(cleanup_text)"
   ]
  },
  {
   "cell_type": "code",
   "execution_count": null,
   "id": "a2f5b8c8",
   "metadata": {},
   "outputs": [],
   "source": [
    "tweets = raw_tweets[raw_tweets['clean_text'] != '']"
   ]
  },
  {
   "cell_type": "code",
   "execution_count": null,
   "id": "9b303b61",
   "metadata": {},
   "outputs": [],
   "source": [
    "tweets.show()"
   ]
  },
  {
   "cell_type": "markdown",
   "id": "70570118",
   "metadata": {},
   "source": [
    "# Wordcloud"
   ]
  },
  {
   "cell_type": "code",
   "execution_count": null,
   "id": "cf9da9c5",
   "metadata": {},
   "outputs": [],
   "source": [
    "ghana_map_mask = imread('./assets/ghana_map.png')\n",
    "text = ' '.join(tweets['clean_text'])\n",
    "wordcloud = WordCloud(\n",
    "    font_path='./assets/RobotoDraft-Regular.ttf',\n",
    "    stopwords=STOPWORDS,\n",
    "    background_color='white',\n",
    "    max_words=500,\n",
    "    mask=ghana_map_mask,\n",
    "    random_state=90\n",
    ").generate(text)"
   ]
  },
  {
   "cell_type": "markdown",
   "id": "07888370",
   "metadata": {},
   "source": [
    "## save word cloud as image"
   ]
  },
  {
   "cell_type": "code",
   "execution_count": null,
   "id": "0960e2cf",
   "metadata": {},
   "outputs": [],
   "source": [
    "plt.imshow(wordcloud)\n",
    "plt.axis('off')\n",
    "plt.savefig('./tweet_cloud.png', dpi=600)\n",
    "plt.show()"
   ]
  },
  {
   "cell_type": "markdown",
   "id": "a9be42f9",
   "metadata": {},
   "source": [
    "# Predict sentiments of tweets"
   ]
  },
  {
   "cell_type": "code",
   "execution_count": null,
   "id": "bd5bcd89",
   "metadata": {},
   "outputs": [],
   "source": [
    "sentiment_model = gl.sentiment_analysis.create(tweets, features=['clean_text'])"
   ]
  },
  {
   "cell_type": "code",
   "execution_count": null,
   "id": "82d52283",
   "metadata": {},
   "outputs": [],
   "source": [
    "tweets['sentiment_score'] = sentiment_model.predict(tweets)"
   ]
  },
  {
   "cell_type": "code",
   "execution_count": null,
   "id": "6597ced3",
   "metadata": {},
   "outputs": [],
   "source": [
    "def get_sentiment_from_score(value):\n",
    "    if value > 0.65:\n",
    "        return 'positive'\n",
    "    elif value < 0.45:\n",
    "        return 'negative'\n",
    "    return 'neutral'"
   ]
  },
  {
   "cell_type": "code",
   "execution_count": null,
   "id": "11722f73",
   "metadata": {},
   "outputs": [],
   "source": [
    "tweets['sentiment'] = tweets['sentiment_score'].apply(get_sentiment_from_score)"
   ]
  },
  {
   "cell_type": "markdown",
   "id": "4546176b",
   "metadata": {},
   "source": [
    "# Detects emotions in tweets"
   ]
  },
  {
   "cell_type": "markdown",
   "id": "9ab030f4",
   "metadata": {},
   "source": [
    "### Load NRC emotion lexicons"
   ]
  },
  {
   "cell_type": "code",
   "execution_count": null,
   "id": "e4b90c7b",
   "metadata": {},
   "outputs": [],
   "source": [
    "lexicons = gl.SFrame('data/emotion_lexicons.csv')\n",
    "topics = lexicons['emotion'].unique()"
   ]
  },
  {
   "cell_type": "code",
   "execution_count": null,
   "id": "aa654d40",
   "metadata": {},
   "outputs": [],
   "source": [
    "lexicons"
   ]
  },
  {
   "cell_type": "markdown",
   "id": "1096b0d3",
   "metadata": {},
   "source": [
    "### Convert lexicons from str to int type"
   ]
  },
  {
   "cell_type": "code",
   "execution_count": null,
   "id": "8d160bc1",
   "metadata": {},
   "outputs": [],
   "source": [
    "topics.sort()\n",
    "map_topics = {}\n",
    "for k, v in enumerate(topics.sort()):\n",
    "    map_topics[v] = k\n",
    "\n",
    "\n",
    "def get_emotion(value):\n",
    "    for k, v in map_topics.items():\n",
    "        if v == value:\n",
    "            return k"
   ]
  },
  {
   "cell_type": "code",
   "execution_count": null,
   "id": "93571bed",
   "metadata": {},
   "outputs": [],
   "source": [
    "lexicons['emotion'] = lexicons['emotion'].apply(lambda k: map_topics[k])"
   ]
  },
  {
   "cell_type": "markdown",
   "id": "82660248",
   "metadata": {},
   "source": [
    "### Perform word count on tweets"
   ]
  },
  {
   "cell_type": "code",
   "execution_count": null,
   "id": "108b2469",
   "metadata": {},
   "outputs": [],
   "source": [
    "tweets['word_count'] = gl.text_analytics.count_words(tweets['clean_text'])"
   ]
  },
  {
   "cell_type": "markdown",
   "id": "43436a96",
   "metadata": {},
   "source": [
    "### Load emotion model"
   ]
  },
  {
   "cell_type": "code",
   "execution_count": null,
   "id": "686af0fc",
   "metadata": {},
   "outputs": [],
   "source": [
    "emotion_model = gl.load_model('models/emotion_model')"
   ]
  },
  {
   "cell_type": "code",
   "execution_count": null,
   "id": "45f01e33",
   "metadata": {},
   "outputs": [],
   "source": [
    "tweets['emotion_score'] = emotion_model.predict(tweets['word_count'])\n",
    "tweets['emotion'] = tweets['emotion_score'].apply(get_emotion)\n",
    "tweets['emotion'].show()"
   ]
  },
  {
   "cell_type": "markdown",
   "id": "50243db3",
   "metadata": {},
   "source": [
    "# Visualization of Analysis"
   ]
  },
  {
   "cell_type": "markdown",
   "id": "4553f252",
   "metadata": {},
   "source": [
    "## Top tweets"
   ]
  },
  {
   "cell_type": "code",
   "execution_count": null,
   "id": "fd58fc97",
   "metadata": {},
   "outputs": [],
   "source": [
    "ndc_emotions.sort('NDC', ascending=False)"
   ]
  },
  {
   "cell_type": "code",
   "execution_count": null,
   "id": "2033eec5",
   "metadata": {},
   "outputs": [],
   "source": [
    "npp_emotions.sort('NPP', ascending=False)"
   ]
  },
  {
   "cell_type": "code",
   "execution_count": null,
   "id": "56e14c8c",
   "metadata": {},
   "outputs": [],
   "source": [
    "party_emotions = ndc_emotions.add_columns(npp_emotions[['NPP']])"
   ]
  },
  {
   "cell_type": "code",
   "execution_count": null,
   "id": "91760c10",
   "metadata": {},
   "outputs": [],
   "source": [
    "df_party_emotions = party_emotions.to_dataframe()\n",
    "df_party_emotions"
   ]
  },
  {
   "cell_type": "code",
   "execution_count": null,
   "id": "acd25ca4",
   "metadata": {},
   "outputs": [],
   "source": [
    "ax = df_party_emotions.plot.bar(x=df_party_emotions['emotion'], \n",
    "                           color=['#60BD68', '#5DA5DA'],\n",
    "                           sharex=True, rot=0,\n",
    "                           title='Emotion Displayed In Tweets By Political Party',\n",
    "                          )"
   ]
  },
  {
   "cell_type": "code",
   "execution_count": null,
   "id": "2f6f8312",
   "metadata": {},
   "outputs": [],
   "source": [
    "ax.set_ylabel(\"Count\")\n",
    "ax.set_xlabel(\"Emotion\")\n",
    "fig = ax.get_figure()\n",
    "fig.tight_layout()\n",
    "fig.savefig('plots/tweets_emotions_party.png', dpi=200)"
   ]
  },
  {
   "cell_type": "markdown",
   "id": "5418a626",
   "metadata": {},
   "source": [
    "### NPP emotions"
   ]
  },
  {
   "cell_type": "code",
   "execution_count": null,
   "id": "9301ffc2",
   "metadata": {},
   "outputs": [],
   "source": [
    "npp_surprise = npp.sort('score', ascending=False).filter_by('fear', 'emotion').to_dataframe()"
   ]
  },
  {
   "cell_type": "code",
   "execution_count": null,
   "id": "0d375b29",
   "metadata": {},
   "outputs": [],
   "source": [
    "npp_surprise[['emotion', 'text', 'permalink']]"
   ]
  },
  {
   "cell_type": "markdown",
   "id": "716a50ce",
   "metadata": {},
   "source": [
    "### NDC emotions"
   ]
  },
  {
   "cell_type": "code",
   "execution_count": null,
   "id": "a2b0aaed",
   "metadata": {},
   "outputs": [],
   "source": [
    "ndc_surprise = ndc.sort('score', ascending=False).filter_by('anticipation', 'emotion').to_dataframe()\n",
    "ndc_surprise[['score', 'text', 'permalink']]"
   ]
  },
  {
   "cell_type": "markdown",
   "id": "d2ec5bcc",
   "metadata": {},
   "source": [
    "# Save final tweets data as csv"
   ]
  },
  {
   "cell_type": "code",
   "execution_count": null,
   "id": "5fd80ff4",
   "metadata": {},
   "outputs": [],
   "source": [
    "fig = ax.get_figure()\n",
    "fig.tight_layout()\n",
    "fig.savefig('plots/tweets_users_count.png', dpi=200)"
   ]
  },
  {
   "cell_type": "markdown",
   "id": "f8c3d8a4",
   "metadata": {},
   "source": [
    "### Based on Tweet Score"
   ]
  },
  {
   "cell_type": "code",
   "execution_count": null,
   "id": "e6e8344d",
   "metadata": {},
   "outputs": [],
   "source": [
    "top_users_df = top_users_df.sort_values(by=['Tweet Score'], ascending=False)\n",
    "top_users_df.reset_index(drop=True, inplace=True)\n",
    "top_users_df.index += 1\n",
    "users_score = top_users_df[:10]\n",
    "users_score = users_score.sort_values('Tweet Score')\n",
    "ax = users_score.plot(x='Twitter Id', y='Tweet Score', kind='barh', colormap='Accent', \n",
    "                          title='Cummulative Tweet Score of Users', figsize=(6, 4))"
   ]
  },
  {
   "cell_type": "code",
   "execution_count": null,
   "id": "d880026f",
   "metadata": {},
   "outputs": [],
   "source": [
    "fig = ax.get_figure()\n",
    "fig.tight_layout()\n",
    "fig.savefig('plots/tweets_users_score.png', dpi=200)"
   ]
  },
  {
   "cell_type": "markdown",
   "id": "ad158af9",
   "metadata": {},
   "source": [
    "### Based on Avg Score Per Tweet"
   ]
  },
  {
   "cell_type": "code",
   "execution_count": null,
   "id": "cce16f88",
   "metadata": {},
   "outputs": [],
   "source": [
    "top_users_df = top_users_df.sort_values(by=['Avg Score Per Tweet'], ascending=False)\n",
    "top_users_df.reset_index(drop=True, inplace=True)\n",
    "top_users_df.index += 1\n",
    "users_avg_score = top_users_df[:10]\n",
    "users_avg_score = users_avg_score.sort_values('Avg Score Per Tweet')\n",
    "ax = users_avg_score.plot(x='Twitter Id', y='Avg Score Per Tweet', kind='barh', colormap='Accent', \n",
    "                          title='Avg Score Per Tweet of Users', figsize=(6, 4))"
   ]
  },
  {
   "cell_type": "code",
   "execution_count": null,
   "id": "4ca5c753",
   "metadata": {},
   "outputs": [],
   "source": [
    "fig = ax.get_figure()\n",
    "fig.tight_layout()\n",
    "fig.savefig('plots/tweets_users_avg_score.png', dpi=200)"
   ]
  },
  {
   "cell_type": "markdown",
   "id": "fc471370",
   "metadata": {},
   "source": [
    "## Top hashtags"
   ]
  },
  {
   "cell_type": "code",
   "execution_count": null,
   "id": "2c9d7be2",
   "metadata": {},
   "outputs": [],
   "source": [
    "top_hashtags = tweets.groupby(key_columns='hashtag', \n",
    "                           operations={'Count': gl.aggregate.COUNT(), \n",
    "                                       'Score': gl.aggregate.SUM('score'),\n",
    "                                       'Avg Score': gl.aggregate.MEAN('score')\n",
    "                                      })\n",
    "top_hashtags.rename({'hashtag': 'Hashtag'})\n",
    "top_hashtags_df = top_hashtags.to_dataframe()\n",
    "top_hashtags_df.sort_values('Avg Score', ascending=True, inplace=True)"
   ]
  },
  {
   "cell_type": "code",
   "execution_count": null,
   "id": "306635c9",
   "metadata": {},
   "outputs": [],
   "source": [
    "ax = top_hashtags_df.plot(x='Hashtag', y='Avg Score', kind='barh', colormap='Pastel1',\n",
    "                    title='Avg Score of Tweets in Hashtags', figsize=(6, 4))"
   ]
  },
  {
   "cell_type": "code",
   "execution_count": null,
   "id": "2bc4f835",
   "metadata": {},
   "outputs": [],
   "source": [
    "fig = ax.get_figure()\n",
    "fig.tight_layout()\n",
    "fig.savefig('plots/tweets_hashtag_score.png', dpi=200)"
   ]
  },
  {
   "cell_type": "markdown",
   "id": "679a384d",
   "metadata": {},
   "source": [
    "## Sentiment Polarity"
   ]
  },
  {
   "cell_type": "code",
   "execution_count": null,
   "id": "8c9b4ac3",
   "metadata": {},
   "outputs": [],
   "source": [
    "emotions = tweets[['emotion']].groupby(['emotion'], [gl.aggregate.COUNT()])\n",
    "df_emotions = emotions.to_dataframe()"
   ]
  },
  {
   "cell_type": "code",
   "execution_count": null,
   "id": "ee572934",
   "metadata": {},
   "outputs": [],
   "source": [
    "ax = df_emotions.plot.bar(x='emotion', color=['#60BD68', '#DECF3F', '#5DA5DA', '#F15854', '#FAA43A',\n",
    "                                              '#B276B2', '#F17CB0', '#4D4D4D'\n",
    "                                             ],\n",
    "                          title='Emotion Displayed In All Tweets',\n",
    "                          legend=False,rot=0\n",
    "                        )\n",
    "ax.set_ylabel(\"Count\")\n",
    "ax.set_xlabel(\"Emotion\")\n",
    "fig = ax.get_figure()\n",
    "fig.tight_layout()\n",
    "fig.savefig('plots/tweets_emotions.png', dpi=200)"
   ]
  },
  {
   "cell_type": "markdown",
   "id": "af15674e",
   "metadata": {},
   "source": [
    "### Emotion displayed by Political Party"
   ]
  },
  {
   "cell_type": "code",
   "execution_count": null,
   "id": "448cdd49",
   "metadata": {},
   "outputs": [],
   "source": [
    "ndc = tweets.filter_by(['VoteforJMnumber3', 'Vote4JM', 'JMToaso', 'VoteJM2016', 'TransformingGhana', 'ChangingLives'], \n",
    "                       column_name='hashtag')\n",
    "npp = tweets.filter_by(['VoteAkufoAddo', 'VoteNPP', 'VoteForChange', 'ChooseChange', 'Kalyppo', 'Vote4Change'], column_name='hashtag')"
   ]
  },
  {
   "cell_type": "code",
   "execution_count": null,
   "id": "f43a45a8",
   "metadata": {},
   "outputs": [],
   "source": [
    "ndc_emotions = ndc[['emotion']].groupby(['emotion'], {'NDC': gl.aggregate.COUNT()})\n",
    "df_ndc_emotions = ndc_emotions.to_dataframe()\n",
    "\n",
    "npp_emotions = npp[['emotion']].groupby(['emotion'], {'NPP': gl.aggregate.COUNT()})\n",
    "df_npp_emotions = npp_emotions.to_dataframe()"
   ]
  },
  {
   "cell_type": "code",
   "execution_count": null,
   "id": "3dc6fb14",
   "metadata": {},
   "outputs": [],
   "source": [
    "top_tweets = tweets.sort('score', ascending=False)[:10]\n",
    "ts = top_tweets[['timestamp', 'text', 'username', 'hashtag', 'score']]\n",
    "top_tweets_df = ts.to_dataframe()\n",
    "top_tweets_df.reset_index(drop=True, inplace=True)\n",
    "top_tweets_df.index += 1\n",
    "top_tweets_df"
   ]
  },
  {
   "cell_type": "markdown",
   "id": "251ad9a7",
   "metadata": {},
   "source": [
    "## Top users"
   ]
  },
  {
   "cell_type": "code",
   "execution_count": null,
   "id": "aebe01c3",
   "metadata": {},
   "outputs": [],
   "source": [
    "top_users = tweets.groupby(key_columns='username', \n",
    "                           operations={'Tweet Count': gl.aggregate.COUNT(), \n",
    "                                       'Tweet Score': gl.aggregate.SUM('score')}\n",
    "                          )\n",
    "top_users.rename({'username': 'Twitter Id'})\n",
    "top_users = top_users[top_users['Tweet Count'] > top_users['Tweet Count'].mean()]"
   ]
  },
  {
   "cell_type": "code",
   "execution_count": null,
   "id": "a4fe8cc6",
   "metadata": {},
   "outputs": [],
   "source": [
    "top_users['Avg Score Per Tweet'] = top_users['Tweet Score'] / top_users['Tweet Count']\n",
    "top_users_df = top_users.to_dataframe()\n",
    "top_users_df"
   ]
  },
  {
   "cell_type": "markdown",
   "id": "0d480eec",
   "metadata": {},
   "source": [
    "### Based on Tweet Count"
   ]
  },
  {
   "cell_type": "code",
   "execution_count": null,
   "id": "e9a8bd85",
   "metadata": {},
   "outputs": [],
   "source": [
    "top_users_df = top_users_df.sort_values(by=['Tweet Count'], ascending=False)\n",
    "top_users_df.reset_index(drop=True, inplace=True)\n",
    "top_users_df.index += 1\n",
    "users_count = top_users_df[:10]\n",
    "users_count = users_count.sort_values('Tweet Count')\n",
    "ax = users_count.plot(x='Twitter Id', y='Tweet Count', kind='barh', colormap='Accent', \n",
    "                          title='Tweet Count of Users', figsize=(6, 4))"
   ]
  },
  {
   "cell_type": "code",
   "execution_count": null,
   "id": "ce273a99",
   "metadata": {},
   "outputs": [],
   "source": [
    "sentiments = tweets[['sentiment']].groupby(['sentiment'], [gl.aggregate.COUNT()])"
   ]
  },
  {
   "cell_type": "code",
   "execution_count": null,
   "id": "4f85c5d2",
   "metadata": {},
   "outputs": [],
   "source": [
    "plt.pie(sentiments['Count'], labels=sentiments['sentiment'], \n",
    "        colors=['#DECF3F', '#60BD68', '#F15854'], explode = (0, 0.1, 0),\n",
    "        autopct='%1.1f%%'\n",
    "       )\n",
    "plt.axis('off')\n",
    "plt.savefig('plots/tweets_sentiment.png', dpi=300)\n",
    "plt.show()"
   ]
  },
  {
   "cell_type": "markdown",
   "id": "8632d8b5",
   "metadata": {},
   "source": [
    "### Sentiment by hashtags"
   ]
  },
  {
   "cell_type": "code",
   "execution_count": null,
   "id": "7b324c97",
   "metadata": {},
   "outputs": [],
   "source": [
    "df_tweets = tweets.to_dataframe()"
   ]
  },
  {
   "cell_type": "code",
   "execution_count": null,
   "id": "787eabad",
   "metadata": {},
   "outputs": [],
   "source": [
    "neg_tweets = tweets.filter_by('negative', column_name='sentiment')\n",
    "neg_tweets = neg_tweets.groupby(['hashtag'], {'Negative Tweets': gl.aggregate.COUNT()})"
   ]
  },
  {
   "cell_type": "code",
   "execution_count": null,
   "id": "94110e30",
   "metadata": {},
   "outputs": [],
   "source": [
    "pos_tweets = tweets.filter_by('positive', column_name='sentiment')\n",
    "pos_tweets = pos_tweets.groupby(['hashtag'], {'Positive Tweets': gl.aggregate.COUNT()})"
   ]
  },
  {
   "cell_type": "code",
   "execution_count": null,
   "id": "d8504f39",
   "metadata": {},
   "outputs": [],
   "source": [
    "neu_tweets = tweets.filter_by('neutral', column_name='sentiment')\n",
    "neu_tweets = neu_tweets.groupby(['hashtag'], {'Neutral Tweets': gl.aggregate.COUNT()})"
   ]
  },
  {
   "cell_type": "code",
   "execution_count": null,
   "id": "fb5f1186",
   "metadata": {},
   "outputs": [],
   "source": [
    "pos_tweets.add_columns(neu_tweets[['Neutral Tweets']])\n",
    "pos_tweets.add_columns(neg_tweets[['Negative Tweets']])"
   ]
  },
  {
   "cell_type": "code",
   "execution_count": null,
   "id": "1c23a5a7",
   "metadata": {},
   "outputs": [],
   "source": [
    "hashtag_sentiment = pos_tweets.to_dataframe()"
   ]
  },
  {
   "cell_type": "code",
   "execution_count": null,
   "id": "11c6b605",
   "metadata": {},
   "outputs": [],
   "source": [
    "ax = hashtag_sentiment.plot.barh(x='hashtag', stacked='True',\n",
    "                            color=['#60BD68', '#DECF3F', '#F15854'], \n",
    "                            title='Sentiment Polarity For Hashtags',\n",
    "                                )\n",
    "fig = ax.get_figure()\n",
    "fig.tight_layout()\n",
    "fig.savefig('plots/tweets_hashtag_sentiment.png', dpi=200)"
   ]
  },
  {
   "cell_type": "markdown",
   "id": "29586216",
   "metadata": {},
   "source": [
    "## Emotion displayed"
   ]
  }
 ],
 "metadata": {},
 "nbformat": 4,
 "nbformat_minor": 5
}
