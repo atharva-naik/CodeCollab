{
 "cells": [
  {
   "cell_type": "code",
   "execution_count": null,
   "id": "70813e25",
   "metadata": {},
   "outputs": [],
   "source": [
    "def read_credentials(source):\n",
    "    try:\n",
    "       datasource=open(source)\n",
    "    except IOError:\n",
    "       user=\"anonymous\"\n",
    "       password=None\n",
    "    else:\n",
    "       config=yaml.load(datasource)\n",
    "       user=config[\"userid\"]\n",
    "       password=config[\"password\"]\n",
    "    finally:\n",
    "        datasource.close()\n",
    "    return user, password"
   ]
  },
  {
   "cell_type": "markdown",
   "id": "715bf407",
   "metadata": {},
   "source": [
    "\n",
    "\n",
    "Exceptions do not have to be caught close to the part of the program calling\n",
    "them. They can be caught anywhere \"above\" the calling point in\n",
    "the call stack: control can jump arbitrarily far in the program: up to the `except` clause of the \"highest\" containing try statement.\n",
    "\n",
    "\n"
   ]
  },
  {
   "cell_type": "code",
   "execution_count": null,
   "id": "6767d13d",
   "metadata": {},
   "outputs": [],
   "source": [
    "def f4(x):\n",
    "    if x==0:\n",
    "        return\n",
    "    if x==1:\n",
    "        raise ArithmeticError()\n",
    "    if x==2:\n",
    "        raise SyntaxError()\n",
    "    if x==3:\n",
    "        raise TypeError()"
   ]
  },
  {
   "cell_type": "code",
   "execution_count": null,
   "id": "46b344fa",
   "metadata": {},
   "outputs": [],
   "source": [
    "def f3(x):\n",
    "    try:\n",
    "        print(\"F3Before\")\n",
    "        f4(x)\n",
    "        print(\"F3After\")\n",
    "    except ArithmeticError:\n",
    "        print(\"F3Except\")"
   ]
  },
  {
   "cell_type": "code",
   "execution_count": null,
   "id": "011ed932",
   "metadata": {},
   "outputs": [],
   "source": [
    "def f2(x):\n",
    "    try:\n",
    "        print(\"F2Before\")\n",
    "        f3(x)\n",
    "        print(\"F2After\")\n",
    "    except SyntaxError:\n",
    "        print(\"F2Except\")"
   ]
  },
  {
   "cell_type": "code",
   "execution_count": null,
   "id": "bbe358b7",
   "metadata": {},
   "outputs": [],
   "source": [
    "def f1(x):\n",
    "    try:\n",
    "        print(\"F1Before\")\n",
    "        f2(x)\n",
    "        print(\"F1After\")\n",
    "    except TypeError:\n",
    "        print(\"F1Except\")"
   ]
  },
  {
   "cell_type": "code",
   "execution_count": null,
   "id": "7babfe0c",
   "metadata": {},
   "outputs": [],
   "source": [
    "f1(0)"
   ]
  },
  {
   "cell_type": "code",
   "execution_count": null,
   "id": "ad8f2576",
   "metadata": {},
   "outputs": [],
   "source": [
    "f1(1)"
   ]
  },
  {
   "cell_type": "code",
   "execution_count": null,
   "id": "9200467f",
   "metadata": {},
   "outputs": [],
   "source": [
    "f1(2)"
   ]
  },
  {
   "cell_type": "code",
   "execution_count": null,
   "id": "819c379c",
   "metadata": {},
   "outputs": [],
   "source": [
    "f1(3)"
   ]
  },
  {
   "cell_type": "markdown",
   "id": "f6cbe118",
   "metadata": {},
   "source": [
    "### Design with Exceptions"
   ]
  },
  {
   "cell_type": "markdown",
   "id": "f15bbe44",
   "metadata": {},
   "source": [
    "\n",
    "Now we know how exceptions work, we need to think about the design implications... How best to use them.\n",
    "\n",
    "Traditional software design theory will tell you that they should only be used\n",
    "to describe and recover from **exceptional** conditions: things going wrong.\n",
    "Normal program flow shouldn't use them.\n",
    "\n",
    "Python's designers take a different view: use of exceptions in normal flow is\n",
    "considered OK. For example, all iterators raise a `StopIteration` exception to\n",
    "indicate the iteration is complete.\n",
    "\n",
    "A commonly recommended python design pattern is to use exceptions to determine\n",
    "whether an object implments a protocol (concept/interface), rather than testing\n",
    "on type.\n",
    "\n",
    "For example, we might want a function which can be supplied *either* a data\n",
    "series *or* a path to a location on disk where data can be found. We can\n",
    "examine the type of the supplied content:\n",
    "\n",
    "\n"
   ]
  },
  {
   "cell_type": "markdown",
   "id": "7f84cc48",
   "metadata": {},
   "source": [
    "\n",
    "\n",
    "So we can see that a zero division error is a particular kind of Arithmetic Error.\n",
    "\n",
    "\n"
   ]
  },
  {
   "cell_type": "code",
   "execution_count": null,
   "id": "158c46a0",
   "metadata": {},
   "outputs": [],
   "source": [
    "x=1\n",
    "\n",
    "for y in x: print(y)"
   ]
  },
  {
   "cell_type": "code",
   "execution_count": null,
   "id": "10f15d70",
   "metadata": {},
   "outputs": [],
   "source": [
    "inspect.getmro(TypeError)"
   ]
  },
  {
   "cell_type": "markdown",
   "id": "7bdd2947",
   "metadata": {},
   "source": [
    "\n",
    "\n",
    "\n",
    "When we were looking at testing, we saw that it is important for code to crash with a meaningful exception type when something is wrong.\n",
    "We raise an Exception with `raise`. Often, we can look for an appropriate exception from the standard set to raise. \n",
    "\n",
    "However, we may want to define our own exceptions. Doing this is as simple as inheriting from Exception:\n",
    "\n",
    "\n"
   ]
  },
  {
   "cell_type": "code",
   "execution_count": null,
   "id": "001c5fd5",
   "metadata": {},
   "outputs": [],
   "source": [
    "class MyCustomErrorType(ArithmeticError):\n",
    "    pass\n",
    "\n",
    "raise(MyCustomErrorType(\"Problem\"))"
   ]
  },
  {
   "cell_type": "markdown",
   "id": "31988266",
   "metadata": {},
   "source": [
    "\n",
    "\n",
    "You can add custom data to your exception:\n",
    "\n",
    "\n"
   ]
  },
  {
   "cell_type": "code",
   "execution_count": null,
   "id": "30a42b1a",
   "metadata": {},
   "outputs": [],
   "source": [
    "class MyCustomErrorType(Exception):\n",
    "    def __init__(self, category=None):\n",
    "        self.category=category\n",
    "        \n",
    "    def __str__(self):\n",
    "        return \"Error, cateory \" + str(self. category)\n",
    "\n",
    "raise(MyCustomErrorType(404))"
   ]
  },
  {
   "cell_type": "markdown",
   "id": "af1108f9",
   "metadata": {},
   "source": [
    "\n",
    "\n",
    "The real power of exceptions comes, however, not in letting them crash the program, but in letting your program handle them. We say that an exception has been \"thrown\" and then \"caught\".\n",
    "\n",
    "\n"
   ]
  },
  {
   "cell_type": "code",
   "execution_count": null,
   "id": "601c5f57",
   "metadata": {},
   "outputs": [],
   "source": [
    "import yaml\n",
    "\n",
    "try:\n",
    "    config=yaml.load(open(\"datasource.yaml\"))\n",
    "    user=config[\"userid\"]\n",
    "    password=config[\"password\"]\n",
    "    \n",
    "except FileNotFoundError:\n",
    "    print(\"No password file found, using anonymous user.\")\n",
    "    user=\"anonymous\"\n",
    "    password=None\n",
    "\n",
    "\n",
    "print(user)"
   ]
  },
  {
   "cell_type": "markdown",
   "id": "826bfb19",
   "metadata": {},
   "source": [
    "\n",
    "\n",
    "Note that we specify only the error we expect to happen and want to handle. Sometimes you see code that catches everything:\n",
    "\n",
    "\n"
   ]
  },
  {
   "cell_type": "code",
   "execution_count": null,
   "id": "fc6fafc4",
   "metadata": {},
   "outputs": [],
   "source": [
    "try:\n",
    "    config=yaml.lod(open(\"datasource.yaml\"))\n",
    "    user=config[\"userid\"]\n",
    "    password=config[\"password\"]\n",
    "except: \n",
    "    user=\"anonymous\"\n",
    "    password=None\n",
    "\n",
    "print(user)"
   ]
  },
  {
   "cell_type": "markdown",
   "id": "381c4348",
   "metadata": {},
   "source": [
    "There was a mistyped function name there ('`lod`'), but we did not notice the error, as the generic except caught it. \n",
    "Therefore, we should catch only the error we want."
   ]
  },
  {
   "cell_type": "code",
   "execution_count": null,
   "id": "709a4ede",
   "metadata": {},
   "outputs": [],
   "source": [
    "with open('datasource2.yaml','w') as outfile:\n",
    "    outfile.write('userid: jamespjh\\n')\n",
    "    outfile.write('password: secret\\n')\n",
    "\n",
    "with open('datasource3.yaml','w') as outfile:\n",
    "    outfile.write('user: jamespjh\\n')\n",
    "    outfile.write('password: secret\\n')"
   ]
  },
  {
   "cell_type": "code",
   "execution_count": null,
   "id": "b1b8aebb",
   "metadata": {},
   "outputs": [],
   "source": [
    "def read_credentials(source):\n",
    "    try:\n",
    "       datasource=open(source)\n",
    "       config=yaml.load(datasource)\n",
    "       user=config[\"userid\"]\n",
    "       password=config[\"password\"]\n",
    "       datasource.close()\n",
    "    except FileNotFoundError:\n",
    "       print(\"Password file missing\")\n",
    "       user=\"anonymous\"\n",
    "       password=None\n",
    "    except KeyError:\n",
    "        print(\"Expected keys not found in file\")\n",
    "        user = \"anonymous\"\n",
    "        password=None\n",
    "    return user, password"
   ]
  },
  {
   "cell_type": "code",
   "execution_count": null,
   "id": "64c4ea42",
   "metadata": {},
   "outputs": [],
   "source": [
    "print(read_credentials('datasource2.yaml'))"
   ]
  },
  {
   "cell_type": "code",
   "execution_count": null,
   "id": "e20995fc",
   "metadata": {},
   "outputs": [],
   "source": [
    "print(read_credentials('datasource.yaml'))"
   ]
  },
  {
   "cell_type": "code",
   "execution_count": null,
   "id": "57e50c0f",
   "metadata": {},
   "outputs": [],
   "source": [
    "print(read_credentials('datasource3.yaml'))"
   ]
  },
  {
   "cell_type": "markdown",
   "id": "19192b4b",
   "metadata": {},
   "source": [
    "\n",
    "\n",
    "\n",
    "This last code has a flaw: the file was successfully opened, the missing key was noticed, but not explicitly closed. It's normally OK, as python will close the file as soon as it notices there are no longer any references to datasource in memory, after the function exits. But this is not good practice, you should keep a file handle for as short a time as possible.\n",
    "\n",
    "\n"
   ]
  },
  {
   "cell_type": "code",
   "execution_count": null,
   "id": "a1cd83bf",
   "metadata": {},
   "outputs": [],
   "source": [
    "def read_credentials(source):\n",
    "    try:\n",
    "       datasource=open(source)\n",
    "       config=yaml.load(datasource)\n",
    "       user=config[\"userid\"]\n",
    "       password=config[\"password\"]\n",
    "    except IOError:\n",
    "       user=\"anonymous\"\n",
    "       password=None\n",
    "    finally:\n",
    "        datasource.close()\n",
    "        \n",
    "    return user, password"
   ]
  },
  {
   "cell_type": "markdown",
   "id": "92a4c6dd",
   "metadata": {},
   "source": [
    "\n",
    "\n",
    "\n",
    "The `finally` clause is executed whether or not an exception occurs.\n",
    "\n",
    "The last optional clause of a `try` statement, an `else` clause is called only if an exception is NOT raised. It can be a better place than the `try` clause to put code other than that which you expect to raise the error, and which you do not want to be executed if the error is raised. It is executed in the same circumstances as code put in the end of the `try` block, the only difference is that errors raised during the `else` clause are not caught. Don't worry if this seems useless to you; most languages implementations of try/except don't support such a clause.\n",
    "\n",
    "\n"
   ]
  }
 ],
 "metadata": {},
 "nbformat": 4,
 "nbformat_minor": 5
}
