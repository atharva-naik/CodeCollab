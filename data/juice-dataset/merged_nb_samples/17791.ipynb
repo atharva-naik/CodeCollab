{
 "cells": [
  {
   "cell_type": "markdown",
   "id": "d5772e83",
   "metadata": {},
   "source": [
    "# Import packages"
   ]
  },
  {
   "cell_type": "code",
   "execution_count": null,
   "id": "eb01d2fb",
   "metadata": {},
   "outputs": [],
   "source": [
    "import cv2\n",
    "import csv\n",
    "import numpy as np\n",
    "import os\n",
    "import sklearn\n",
    "import warnings\n",
    "from keras.models import Sequential, Model\n",
    "from keras.layers import Flatten, Dense, Lambda, Convolution2D, Cropping2D, ELU, Dropout, Conv2D, BatchNormalization\n",
    "from sklearn.model_selection import train_test_split\n",
    "\n",
    "warnings.filterwarnings(\"always\")"
   ]
  },
  {
   "cell_type": "markdown",
   "id": "32c0f29e",
   "metadata": {},
   "source": [
    "# Prepare Training Data"
   ]
  },
  {
   "cell_type": "code",
   "execution_count": null,
   "id": "60b2678b",
   "metadata": {},
   "outputs": [],
   "source": [
    "def prepare_data(csv_path):\n",
    "    folder_name = csv_path.split(\"/\")[0]\n",
    "    center_imgs = []\n",
    "    left_imgs = []\n",
    "    right_imgs = []\n",
    "    steer_angles = []\n",
    "    with open(csv_path) as csv_file:\n",
    "        reader = csv.reader(csv_file)\n",
    "        for line in reader:\n",
    "            #line: center, left, right, steering angle, throttle, break, speed\n",
    "            center_imgs.append(folder_name + \"/\" + line[0].strip())\n",
    "            left_imgs.append(folder_name + \"/\" + line[1].strip())\n",
    "            right_imgs.append(folder_name + \"/\" + line[2].strip())\n",
    "            steer_angles.append(float(line[3].strip()))\n",
    "    return (center_imgs, left_imgs, right_imgs, steer_angles)"
   ]
  },
  {
   "cell_type": "markdown",
   "id": "df153b40",
   "metadata": {},
   "source": [
    "## Self generate data 0: official data"
   ]
  },
  {
   "cell_type": "code",
   "execution_count": null,
   "id": "5c272d33",
   "metadata": {},
   "outputs": [],
   "source": [
    "csv_path_0 = 'data/driving_log.csv'\n",
    "center_paths_0, left_paths_0, right_paths_0, steer_angles_0 = prepare_data(csv_path_0)"
   ]
  },
  {
   "cell_type": "markdown",
   "id": "70497c68",
   "metadata": {},
   "source": [
    "### Explore data"
   ]
  },
  {
   "cell_type": "code",
   "execution_count": null,
   "id": "de7ed4ea",
   "metadata": {},
   "outputs": [],
   "source": [
    "center_paths_0[:3]"
   ]
  },
  {
   "cell_type": "code",
   "execution_count": null,
   "id": "69785e1a",
   "metadata": {},
   "outputs": [],
   "source": [
    "left_paths_0[:3]"
   ]
  },
  {
   "cell_type": "code",
   "execution_count": null,
   "id": "b267106a",
   "metadata": {},
   "outputs": [],
   "source": [
    "right_paths_0[:3]"
   ]
  },
  {
   "cell_type": "code",
   "execution_count": null,
   "id": "106d16ee",
   "metadata": {},
   "outputs": [],
   "source": [
    "steer_angles_0[:3]"
   ]
  },
  {
   "cell_type": "markdown",
   "id": "76ce4978",
   "metadata": {},
   "source": [
    "## Self generate data 1: normal track"
   ]
  },
  {
   "cell_type": "code",
   "execution_count": null,
   "id": "b95034f5",
   "metadata": {},
   "outputs": [],
   "source": [
    "csv_path_1 = 'new_data/driving_log.csv'\n",
    "center_paths_1, left_paths_1, right_paths_1, steer_angles_1 = prepare_data(csv_path_1)"
   ]
  },
  {
   "cell_type": "code",
   "execution_count": null,
   "id": "a77cb4f0",
   "metadata": {},
   "outputs": [],
   "source": [
    "center_paths_1[:3]"
   ]
  },
  {
   "cell_type": "code",
   "execution_count": null,
   "id": "2c3d88af",
   "metadata": {},
   "outputs": [],
   "source": [
    "left_paths_1[:3]"
   ]
  },
  {
   "cell_type": "code",
   "execution_count": null,
   "id": "2b142a30",
   "metadata": {},
   "outputs": [],
   "source": [
    "right_paths_1[:3]"
   ]
  },
  {
   "cell_type": "code",
   "execution_count": null,
   "id": "1c5593b0",
   "metadata": {},
   "outputs": [],
   "source": [
    "steer_angles_1[:3]"
   ]
  },
  {
   "cell_type": "markdown",
   "id": "b0e327b9",
   "metadata": {},
   "source": [
    "## Self generate data 2: reverse track"
   ]
  },
  {
   "cell_type": "code",
   "execution_count": null,
   "id": "5eff7925",
   "metadata": {},
   "outputs": [],
   "source": [
    "center_paths_2[:3]"
   ]
  },
  {
   "cell_type": "code",
   "execution_count": null,
   "id": "f51aaf53",
   "metadata": {},
   "outputs": [],
   "source": [
    "left_paths_2[:3]"
   ]
  },
  {
   "cell_type": "code",
   "execution_count": null,
   "id": "b397fcc6",
   "metadata": {},
   "outputs": [],
   "source": [
    "right_paths_2[:3]"
   ]
  },
  {
   "cell_type": "code",
   "execution_count": null,
   "id": "39ea1081",
   "metadata": {},
   "outputs": [],
   "source": [
    "steer_angles_2[:3]"
   ]
  },
  {
   "cell_type": "markdown",
   "id": "936819f2",
   "metadata": {},
   "source": [
    "## Merge training data together"
   ]
  },
  {
   "cell_type": "code",
   "execution_count": null,
   "id": "496d8b6d",
   "metadata": {},
   "outputs": [],
   "source": [
    "all_paths = []\n",
    "all_paths.extend(center_paths_0)\n",
    "all_paths.extend(left_paths_0)\n",
    "all_paths.extend(right_paths_0)\n",
    "all_paths.extend(center_paths_1)\n",
    "all_paths.extend(left_paths_1)\n",
    "all_paths.extend(right_paths_1)\n",
    "all_paths.extend(center_paths_2)\n",
    "all_paths.extend(left_paths_2)\n",
    "all_paths.extend(right_paths_2)\n",
    "\n",
    "all_angles = []\n",
    "correction = 0.2\n",
    "all_angles.extend(steer_angles_0)\n",
    "all_angles.extend([angle + correction for angle in steer_angles_0])\n",
    "all_angles.extend([angle - correction for angle in steer_angles_0])\n",
    "all_angles.extend(steer_angles_1)\n",
    "all_angles.extend([angle + correction for angle in steer_angles_1])\n",
    "all_angles.extend([angle - correction for angle in steer_angles_1])\n",
    "all_angles.extend(steer_angles_2)\n",
    "all_angles.extend([angle + correction for angle in steer_angles_2])\n",
    "all_angles.extend([angle - correction for angle in steer_angles_2])\n"
   ]
  },
  {
   "cell_type": "code",
   "execution_count": null,
   "id": "4f13896b",
   "metadata": {},
   "outputs": [],
   "source": [
    "len(all_paths)"
   ]
  },
  {
   "cell_type": "code",
   "execution_count": null,
   "id": "a6282951",
   "metadata": {},
   "outputs": [],
   "source": [
    "len(all_angles)"
   ]
  },
  {
   "cell_type": "code",
   "execution_count": null,
   "id": "497fdd37",
   "metadata": {},
   "outputs": [],
   "source": [
    "samples = list(zip(all_paths, all_angles))"
   ]
  },
  {
   "cell_type": "code",
   "execution_count": null,
   "id": "7c60badd",
   "metadata": {},
   "outputs": [],
   "source": [
    "# Show the samples data steering distribution\n",
    "\n",
    "import matplotlib.pyplot as plt\n",
    "%matplotlib inline\n",
    "\n",
    "def show_steering(y_train):\n",
    "    max_degree = 25\n",
    "    degree_per_steering =10\n",
    "    n_classes = max_degree * degree_per_steering\n",
    "    plt.hist(y_train, bins = n_classes, histtype='bar', color='blue', rwidth=0.6, label='train')\n",
    "    plt.show()\n"
   ]
  },
  {
   "cell_type": "code",
   "execution_count": null,
   "id": "f9bc7e94",
   "metadata": {},
   "outputs": [],
   "source": [
    "show_steering(all_angles)"
   ]
  },
  {
   "cell_type": "markdown",
   "id": "6fc8aa8a",
   "metadata": {},
   "source": [
    "# Define Model Architecture"
   ]
  },
  {
   "cell_type": "code",
   "execution_count": null,
   "id": "1ea09519",
   "metadata": {},
   "outputs": [],
   "source": [
    "def resize(img):\n",
    "    import tensorflow\n",
    "    return tensorflow.image.resize_images(img, (60, 120))"
   ]
  },
  {
   "cell_type": "code",
   "execution_count": null,
   "id": "fac528f2",
   "metadata": {},
   "outputs": [],
   "source": [
    "def nvidia_car_model():\n",
    "    \"\"\"\n",
    "    Implementation of nvidia autonomous car model\n",
    "    \"\"\"\n",
    "\n",
    "    # Prepreocessing layers\n",
    "    model = Sequential()\n",
    "    model.add(Lambda(lambda x: (x / 255.0) - 0.5, input_shape = (160, 320, 3)))\n",
    "    model.add(Cropping2D(cropping = ((50, 20), (0,0))))\n",
    "\n",
    "    # Main network\n",
    "    model.add(Convolution2D(24,5,5, subsample=(2,2), activation='relu'))\n",
    "    model.add(Convolution2D(36,5,5, subsample=(2,2), activation='relu'))\n",
    "    model.add(Convolution2D(48,5,5, subsample=(2,2), activation='relu'))\n",
    "    model.add(Convolution2D(64,3,3, activation='relu'))\n",
    "    model.add(Convolution2D(64,3,3, activation='relu'))\n",
    "    model.add(Flatten())\n",
    "    model.add(Dense(100))\n",
    "    model.add(Dense(50))\n",
    "    model.add(Dense(10))\n",
    "    model.add(Dense(1))\n",
    "\n",
    "    return model"
   ]
  },
  {
   "cell_type": "markdown",
   "id": "bac7bf96",
   "metadata": {},
   "source": [
    "# Training"
   ]
  },
  {
   "cell_type": "markdown",
   "id": "f6c27fc7",
   "metadata": {},
   "source": [
    "## Create Training set and validation set"
   ]
  },
  {
   "cell_type": "code",
   "execution_count": null,
   "id": "905ac281",
   "metadata": {},
   "outputs": [],
   "source": [
    "train_samples, validation_samples = train_test_split(samples, test_size=0.2)"
   ]
  },
  {
   "cell_type": "code",
   "execution_count": null,
   "id": "449eab67",
   "metadata": {},
   "outputs": [],
   "source": [
    "len(train_samples)"
   ]
  },
  {
   "cell_type": "code",
   "execution_count": null,
   "id": "bc878d36",
   "metadata": {},
   "outputs": [],
   "source": [
    "len(validation_samples)"
   ]
  },
  {
   "cell_type": "markdown",
   "id": "a30d0fc6",
   "metadata": {},
   "source": [
    "## Create model"
   ]
  },
  {
   "cell_type": "code",
   "execution_count": null,
   "id": "a6103488",
   "metadata": {},
   "outputs": [],
   "source": [
    "model = nvidia_car_model()"
   ]
  },
  {
   "cell_type": "code",
   "execution_count": null,
   "id": "ac3cb43f",
   "metadata": {},
   "outputs": [],
   "source": [
    "model.summary()"
   ]
  },
  {
   "cell_type": "markdown",
   "id": "2f621575",
   "metadata": {},
   "source": [
    "## Complile model"
   ]
  }
 ],
 "metadata": {},
 "nbformat": 4,
 "nbformat_minor": 5
}
