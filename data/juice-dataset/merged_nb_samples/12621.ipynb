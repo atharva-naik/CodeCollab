{
 "cells": [
  {
   "cell_type": "markdown",
   "id": "59d47149",
   "metadata": {},
   "source": [
    "# Example usage for `weightedcalcs`\n",
    "\n",
    "The example below uawa `weightedcalcs` to analyze a slice of the [American Community Survey's 2015 data](https://www.census.gov/programs-surveys/acs/technical-documentation/pums/documentation.html) for Wyoming."
   ]
  },
  {
   "cell_type": "code",
   "execution_count": null,
   "id": "df4bf5b7",
   "metadata": {},
   "outputs": [],
   "source": [
    "import weightedcalcs as wc\n",
    "import pandas as pd"
   ]
  },
  {
   "cell_type": "markdown",
   "id": "0ba28522",
   "metadata": {},
   "source": [
    "## Load the ACS data into a `pandas.DataFrame`"
   ]
  },
  {
   "cell_type": "code",
   "execution_count": null,
   "id": "03ac1878",
   "metadata": {},
   "outputs": [],
   "source": [
    "responses = pd.read_csv(\"../data/acs-2015-pums-wy-simple.csv\")"
   ]
  },
  {
   "cell_type": "code",
   "execution_count": null,
   "id": "7f5fd613",
   "metadata": {},
   "outputs": [],
   "source": [
    "responses.head()"
   ]
  },
  {
   "cell_type": "markdown",
   "id": "7dc301b3",
   "metadata": {},
   "source": [
    "In addition to the full list of responses, let's create a subset including only adult respondents, since we'll be focusing on income later."
   ]
  },
  {
   "cell_type": "code",
   "execution_count": null,
   "id": "5c2f89fc",
   "metadata": {},
   "outputs": [],
   "source": [
    "adults = responses[responses[\"age\"] >= 18]"
   ]
  },
  {
   "cell_type": "code",
   "execution_count": null,
   "id": "47c8a9a1",
   "metadata": {},
   "outputs": [],
   "source": [
    "adults.head()"
   ]
  },
  {
   "cell_type": "markdown",
   "id": "ce5e0ad4",
   "metadata": {},
   "source": [
    "## Create an instance of `weightedcalcs.Calculator`\n",
    "\n",
    "The ACS' `PWGTP` variable is respondents the Census-assigned survey weight. All our weighted calculations will use this variable."
   ]
  },
  {
   "cell_type": "code",
   "execution_count": null,
   "id": "1f77abc9",
   "metadata": {},
   "outputs": [],
   "source": [
    "calc = wc.Calculator(\"PWGTP\")"
   ]
  },
  {
   "cell_type": "markdown",
   "id": "7c1fc576",
   "metadata": {},
   "source": [
    "## Basic weighted calculations"
   ]
  },
  {
   "cell_type": "markdown",
   "id": "acb0982a",
   "metadata": {},
   "source": [
    "### Weighted mean income"
   ]
  },
  {
   "cell_type": "code",
   "execution_count": null,
   "id": "30d26eb0",
   "metadata": {},
   "outputs": [],
   "source": [
    "calc.mean(adults, \"income\").round()"
   ]
  },
  {
   "cell_type": "markdown",
   "id": "797ed392",
   "metadata": {},
   "source": [
    "### Weighted standard deviation of income"
   ]
  },
  {
   "cell_type": "code",
   "execution_count": null,
   "id": "2a6e5114",
   "metadata": {},
   "outputs": [],
   "source": [
    "calc.std(adults, \"income\").round()"
   ]
  },
  {
   "cell_type": "markdown",
   "id": "2b8bda30",
   "metadata": {},
   "source": [
    "### Weighted median income"
   ]
  },
  {
   "cell_type": "code",
   "execution_count": null,
   "id": "af308e4e",
   "metadata": {},
   "outputs": [],
   "source": [
    "calc.median(adults, \"income\")"
   ]
  },
  {
   "cell_type": "markdown",
   "id": "7f6dc07a",
   "metadata": {},
   "source": [
    "### Weighted 75th percentile of income"
   ]
  },
  {
   "cell_type": "code",
   "execution_count": null,
   "id": "fec8cdf4",
   "metadata": {},
   "outputs": [],
   "source": [
    "calc.quantile(adults, \"income\", 0.75)"
   ]
  },
  {
   "cell_type": "markdown",
   "id": "a06bfc69",
   "metadata": {},
   "source": [
    "### Weighted distribution of marriage statuses"
   ]
  },
  {
   "cell_type": "markdown",
   "id": "6bd1b9ff",
   "metadata": {},
   "source": [
    "~43% of Wyoming residents are married:"
   ]
  },
  {
   "cell_type": "code",
   "execution_count": null,
   "id": "648a65a3",
   "metadata": {},
   "outputs": [],
   "source": [
    "calc.distribution(responses, \"marriage_status\").round(3).sort_values(ascending=False)"
   ]
  },
  {
   "cell_type": "markdown",
   "id": "4f52bb60",
   "metadata": {},
   "source": [
    "~56% of *adult* Wyoming residents are married:"
   ]
  },
  {
   "cell_type": "code",
   "execution_count": null,
   "id": "26f5348a",
   "metadata": {},
   "outputs": [],
   "source": [
    "calc.distribution(adults, \"marriage_status\").round(3).sort_values(ascending=False)"
   ]
  },
  {
   "cell_type": "markdown",
   "id": "1216d46f",
   "metadata": {},
   "source": [
    "## Grouped weighted calculations\n",
    "\n",
    "Below, we perform similar calculations as above, but now take advantage of the fact that `weightedcalcs` can handle `DataFrameGroupBy` objects. In the examples below, we group by the ACS's marriage status categories and gender."
   ]
  },
  {
   "cell_type": "code",
   "execution_count": null,
   "id": "ae12d5cd",
   "metadata": {},
   "outputs": [],
   "source": [
    "grp_marriage_sex = adults.groupby([\"marriage_status\", \"gender\"])"
   ]
  },
  {
   "cell_type": "markdown",
   "id": "960d8bf1",
   "metadata": {},
   "source": [
    "For reference, here's how many responses fall into each category:"
   ]
  }
 ],
 "metadata": {},
 "nbformat": 4,
 "nbformat_minor": 5
}
