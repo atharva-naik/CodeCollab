{
 "cells": [
  {
   "cell_type": "markdown",
   "id": "0594c37a",
   "metadata": {},
   "source": [
    "$R^2$ goes up when we take into account both"
   ]
  },
  {
   "cell_type": "code",
   "execution_count": null,
   "id": "09ab0d36",
   "metadata": {},
   "outputs": [],
   "source": [
    "sns.pairplot(df_quality_living, hue='City')"
   ]
  },
  {
   "cell_type": "markdown",
   "id": "8e69c487",
   "metadata": {},
   "source": [
    "### QualityLife * PurchasePower Interaction Effects"
   ]
  },
  {
   "cell_type": "code",
   "execution_count": null,
   "id": "853a764c",
   "metadata": {},
   "outputs": [],
   "source": [
    "model = smf.ols(formula = 'MovehubRating ~ QualityLife * PurchasePower', data=df_quality_living).fit()\n",
    "model.summary()"
   ]
  },
  {
   "cell_type": "code",
   "execution_count": null,
   "id": "7623f2d7",
   "metadata": {},
   "outputs": [],
   "source": [
    "model.params"
   ]
  },
  {
   "cell_type": "code",
   "execution_count": null,
   "id": "7fe1f0fe",
   "metadata": {},
   "outputs": [],
   "source": [
    "model.tvalues"
   ]
  },
  {
   "cell_type": "code",
   "execution_count": null,
   "id": "f16db695",
   "metadata": {},
   "outputs": [],
   "source": [
    "model.rsquared"
   ]
  },
  {
   "cell_type": "markdown",
   "id": "77d91eb6",
   "metadata": {},
   "source": [
    "74% of the variability of MovehubRating is captured by the linear model\n",
    "\n"
   ]
  },
  {
   "cell_type": "code",
   "execution_count": null,
   "id": "07d047d3",
   "metadata": {},
   "outputs": [],
   "source": [
    "print 'QualityLife:'\n",
    "print \"\\t- coefficient =\", model.params.QualityLife\n",
    "print \"\\t- std error =\", model.bse.QualityLife\n",
    "print \"\\t- t-value =\", model.tvalues.QualityLife\n",
    "print \"\\t- p-value =\", model.pvalues.QualityLife\n",
    "\n",
    "confidence_interval = model.conf_int().loc['QualityLife']\n",
    "\n",
    "print \"\\t- 95% confidence interval = [{}, {}]\".format(confidence_interval[0], confidence_interval[1])"
   ]
  },
  {
   "cell_type": "code",
   "execution_count": null,
   "id": "5d8d530e",
   "metadata": {},
   "outputs": [],
   "source": [
    "print 'PurchasePower:'\n",
    "print \"\\t- coefficient =\", model.params.PurchasePower\n",
    "print \"\\t- std error =\", model.bse.PurchasePower\n",
    "print \"\\t- t-value =\", model.tvalues.PurchasePower\n",
    "print \"\\t- p-value =\", model.pvalues.PurchasePower\n",
    "\n",
    "confidence_interval = model.conf_int().loc['PurchasePower']\n",
    "\n",
    "print \"\\t- 95% confidence interval = [{}, {}]\".format(confidence_interval[0], confidence_interval[1])"
   ]
  },
  {
   "cell_type": "code",
   "execution_count": null,
   "id": "abdf56a0",
   "metadata": {},
   "outputs": [],
   "source": [
    "df_quality_living.plot(kind='scatter', x='QualityLife', y='MovehubRating')"
   ]
  },
  {
   "cell_type": "code",
   "execution_count": null,
   "id": "fe459761",
   "metadata": {},
   "outputs": [],
   "source": [
    "# Rename column names to not have spaces\n",
    "df_cost_living.columns = ['City', 'Coffee', 'Cinema', 'Wine', 'Gas', 'AvgRent', 'AvgDispIncome']"
   ]
  },
  {
   "cell_type": "code",
   "execution_count": null,
   "id": "7bf5dd94",
   "metadata": {},
   "outputs": [],
   "source": [
    "df_cost_living[['City','AvgRent']]"
   ]
  },
  {
   "cell_type": "code",
   "execution_count": null,
   "id": "60c9c6c5",
   "metadata": {},
   "outputs": [],
   "source": [
    "# Sort by highest rent\n",
    "\n",
    "# df_cost_living[df_cost_living.AvgRent >= 1000].sort(['Av'])\n",
    "df_cost_living.sort_values(['AvgRent'], ascending=False)"
   ]
  },
  {
   "cell_type": "markdown",
   "id": "fa7a6d86",
   "metadata": {},
   "source": [
    "### Graph pipelining for quality of living"
   ]
  },
  {
   "cell_type": "code",
   "execution_count": null,
   "id": "98459bbb",
   "metadata": {},
   "outputs": [],
   "source": [
    "plt.figure(figsize=(20,10))\n",
    "\n",
    "df_quality_living = pd.read_csv('datasets/movehubqualityoflife.csv')\n",
    "\n",
    "cost = pd.melt(df_quality_living, \"City\", var_name=\"Attributes\")\n",
    "\n",
    "swarm_plot = sns.swarmplot(x=\"Attributes\", y=\"value\", hue=\"City\", data=cost)\n",
    "box = swarm_plot.get_position()\n",
    "swarm_plot.set_position([box.x0 - 0.09, box.y0, box.width * 0.8, box.height])\n",
    "plt.legend(bbox_to_anchor=(1.05, 1.08), loc=2, borderaxespad=0., ncol=5)\n",
    "\n",
    "plt.show()"
   ]
  },
  {
   "cell_type": "code",
   "execution_count": null,
   "id": "6b8056c5",
   "metadata": {},
   "outputs": [],
   "source": [
    "df_quality_living.columns = ['City', 'MovehubRating', 'PurchasePower', 'HealthCare', 'Pollution', 'QualityLife', 'CrimeRating']"
   ]
  },
  {
   "cell_type": "code",
   "execution_count": null,
   "id": "8664413f",
   "metadata": {},
   "outputs": [],
   "source": [
    "#df_quality_living"
   ]
  },
  {
   "cell_type": "markdown",
   "id": "59d81ca6",
   "metadata": {},
   "source": [
    "### What independent variable am I trying to predict?\n",
    "\n",
    "### What does the movehub rating mean?\n",
    "Can we use that to initially create a predictive model for smart cities? From movehub:\n",
    "\n",
    "```Our data comes from a number of different sources and is always improving. We combine data from www.numbeo.com, data from the CIA World Factbook, Census data from several governments, data from the WHO and our own vast database of real international moves to come up with cost of living figures, crime rates, quality of life, pollution, purchasing power and our overall MoveHub rating (a balance of all of the scores)```\n",
    "\n"
   ]
  },
  {
   "cell_type": "markdown",
   "id": "63528644",
   "metadata": {},
   "source": [
    "### Correlations\n",
    "Let's try to answer the following questions, with the goal of interpretation:\n",
    "- Which 2 variables seem to affect MovehubRating the most?\n",
    "- Can we use these 2 variables simulatenously? Why or why not?"
   ]
  },
  {
   "cell_type": "code",
   "execution_count": null,
   "id": "15a7422b",
   "metadata": {},
   "outputs": [],
   "source": [
    "# Try out some correlation\n",
    "df_quality_living[ ['City', 'MovehubRating', 'PurchasePower', 'HealthCare', 'Pollution', 'QualityLife', 'CrimeRating']].corr()"
   ]
  },
  {
   "cell_type": "code",
   "execution_count": null,
   "id": "1a0a137a",
   "metadata": {},
   "outputs": [],
   "source": [
    "# Correlation Matrix\n",
    "corr = df_quality_living.corr()\n",
    "corr = (corr)\n",
    "sns.heatmap(corr,\n",
    "            xticklabels = corr.columns.values,\n",
    "            yticklabels = corr.columns.values)\n"
   ]
  },
  {
   "cell_type": "markdown",
   "id": "1d0527e6",
   "metadata": {},
   "source": [
    "### Correlations: PurchasePower and QualityLife\n",
    "PurchasePower and QualityLife are most highly correlated with the MovehubRating, which makes sense.. but its like pollution and crime rating don't even matter. \n",
    "\n",
    "We cannot use these 2 variables simulatenously because they are highly correlated (0.845 correlation)\n",
    "\n",
    "They're more correlated with each other than the MovehubRating"
   ]
  },
  {
   "cell_type": "code",
   "execution_count": null,
   "id": "6fa98528",
   "metadata": {},
   "outputs": [],
   "source": [
    "sns.lmplot(x='QualityLife', y='MovehubRating', data=df_quality_living)"
   ]
  },
  {
   "cell_type": "markdown",
   "id": "a0a20366",
   "metadata": {},
   "source": [
    "### Residuals"
   ]
  },
  {
   "cell_type": "code",
   "execution_count": null,
   "id": "936fe8c3",
   "metadata": {},
   "outputs": [],
   "source": [
    "sm.qqplot(model.resid, line='s')\n"
   ]
  },
  {
   "cell_type": "code",
   "execution_count": null,
   "id": "792f929f",
   "metadata": {},
   "outputs": [],
   "source": [
    "df_quality_living.columns"
   ]
  },
  {
   "cell_type": "markdown",
   "id": "900b30ef",
   "metadata": {},
   "source": [
    "## Logistic Regression"
   ]
  },
  {
   "cell_type": "markdown",
   "id": "d7f4135c",
   "metadata": {},
   "source": [
    "Can't do it as is, because my response vector is continuous (MovehubRating), but maybe I could one-hot encode it based on a limit. e.g. for > 100, mark 1, as a high score city. Then I could define feature matrix and response vector, etc like so below:"
   ]
  },
  {
   "cell_type": "markdown",
   "id": "7dc9d2d1",
   "metadata": {},
   "source": [
    "### Notes on the model above\n",
    "* **Dependent variable:** MovehubRating\n",
    "* **Independent variable:** PurchasePower\n",
    "* **Association: Coefficient** reported is 26%?\n",
    "* **Is this relationship statistically significant?:** Yes, It has a t-value well over 2, p-value < .025 and the confidence interval doesnt cross 0"
   ]
  },
  {
   "cell_type": "code",
   "execution_count": null,
   "id": "5a3cdc40",
   "metadata": {},
   "outputs": [],
   "source": [
    "model.resid.plot(kind='hist', bins=250)"
   ]
  },
  {
   "cell_type": "code",
   "execution_count": null,
   "id": "41f2c8a0",
   "metadata": {},
   "outputs": [],
   "source": [
    "sm.qqplot(model.resid, line='s')\n",
    "pass"
   ]
  },
  {
   "cell_type": "code",
   "execution_count": null,
   "id": "cb66196d",
   "metadata": {},
   "outputs": [],
   "source": [
    "sm.graphics.plot_regress_exog(model, 'PurchasePower', fig = plt.figure(figsize = (12, 8)))\n",
    "\n",
    "pass"
   ]
  },
  {
   "cell_type": "markdown",
   "id": "0ccedfb6",
   "metadata": {},
   "source": [
    "## Linear Regression: QualityLife\n",
    "MovehubRating + QualityLife\n"
   ]
  },
  {
   "cell_type": "code",
   "execution_count": null,
   "id": "2881ebf1",
   "metadata": {},
   "outputs": [],
   "source": [
    "model = smf.ols(formula = 'MovehubRating ~ QualityLife', data=df_quality_living).fit()\n",
    "model.summary()"
   ]
  },
  {
   "cell_type": "code",
   "execution_count": null,
   "id": "438b1ff9",
   "metadata": {},
   "outputs": [],
   "source": [
    "sm.graphics.plot_regress_exog(model, 'QualityLife', fig = plt.figure(figsize = (12, 8)))\n",
    "\n",
    "pass"
   ]
  },
  {
   "cell_type": "markdown",
   "id": "d6aaab60",
   "metadata": {},
   "source": [
    "$R^2$ for `QualityOfLife` model: 0.55 <br />\n",
    "55% of the variability of `MovehubRating`is captured by the linear model  <br />\n",
    "$R^2$ for `PurchasePower` model: 0.68  <br />\n",
    "68% of the variability of `MovehubRating`is captured by the linear model  <br />\n",
    "        "
   ]
  },
  {
   "cell_type": "code",
   "execution_count": null,
   "id": "a29a6590",
   "metadata": {},
   "outputs": [],
   "source": [
    "X = df_quality_living[['PurchasePower', 'QualityLife']]\n",
    "y = df_quality_living.MovehubRating\n",
    "\n",
    "model = linear_model.LinearRegression().fit(X,y)\n",
    "\n",
    "print model.intercept_\n",
    "print model.coef_"
   ]
  },
  {
   "cell_type": "code",
   "execution_count": null,
   "id": "e71213ea",
   "metadata": {},
   "outputs": [],
   "source": [
    "model.score(X, y)"
   ]
  }
 ],
 "metadata": {},
 "nbformat": 4,
 "nbformat_minor": 5
}
