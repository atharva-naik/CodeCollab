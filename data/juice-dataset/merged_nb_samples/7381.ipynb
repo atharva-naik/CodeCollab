{
 "cells": [
  {
   "cell_type": "code",
   "execution_count": null,
   "id": "463f0ef0",
   "metadata": {},
   "outputs": [],
   "source": [
    "type(True)"
   ]
  },
  {
   "cell_type": "code",
   "execution_count": null,
   "id": "8dc6d01e",
   "metadata": {},
   "outputs": [],
   "source": [
    "type(False)"
   ]
  },
  {
   "cell_type": "markdown",
   "id": "2ccbed9d",
   "metadata": {},
   "source": [
    "If we cast a Boolean true to an integer or float we will get a 1, if we cast a Boolean false to an integer or float. If we get a zero   if you cast a 1 to a boolean, you get a true similarly, if you cast a 0 to a Boolean you get a false. "
   ]
  },
  {
   "cell_type": "code",
   "execution_count": null,
   "id": "daeef04b",
   "metadata": {},
   "outputs": [],
   "source": [
    "int(True)"
   ]
  },
  {
   "cell_type": "code",
   "execution_count": null,
   "id": "54b84170",
   "metadata": {},
   "outputs": [],
   "source": [
    "bool(1)"
   ]
  },
  {
   "cell_type": "code",
   "execution_count": null,
   "id": "3ec3515e",
   "metadata": {},
   "outputs": [],
   "source": [
    "bool(0)"
   ]
  },
  {
   "cell_type": "code",
   "execution_count": null,
   "id": "d6e0ee7a",
   "metadata": {},
   "outputs": [],
   "source": [
    "float(True)"
   ]
  },
  {
   "cell_type": "markdown",
   "id": "297763f4",
   "metadata": {},
   "source": [
    "### Quiz on types  "
   ]
  },
  {
   "cell_type": "markdown",
   "id": "7367b885",
   "metadata": {},
   "source": [
    "#### What is the type of the result of: `6 / 2`"
   ]
  },
  {
   "cell_type": "code",
   "execution_count": null,
   "id": "ac101eec",
   "metadata": {},
   "outputs": [],
   "source": [
    "type(6/2)"
   ]
  },
  {
   "cell_type": "markdown",
   "id": "dec569bd",
   "metadata": {},
   "source": [
    " <div align=\"right\">\n",
    "<a href=\"#3\" class=\"btn btn-default\" data-toggle=\"collapse\">Click here for the solution</a>\n",
    "\n",
    "</div>\n",
    "<div id=\"3\" class=\"collapse\">\n",
    "```\n",
    "the type if float \n",
    "type(6/2)\n",
    "```\n",
    "</div>"
   ]
  },
  {
   "cell_type": "markdown",
   "id": "5f33d0bb",
   "metadata": {},
   "source": [
    "#### What is the type of the result of: `6 // 2`? (Note the double slash //)"
   ]
  },
  {
   "cell_type": "markdown",
   "id": "f3a99bf0",
   "metadata": {},
   "source": [
    "Before continuing, it's important to note when things go wrong in Python, and we cause **errors**."
   ]
  },
  {
   "cell_type": "markdown",
   "id": "10f04730",
   "metadata": {},
   "source": [
    "There are many kinds of errors, and you **do not need to memorize the various types of errors**. Instead, what's most important is know **what the error messages mean**.\n",
    "\n",
    "For example, if you spell **print** as **frint**, you will get an error message."
   ]
  },
  {
   "cell_type": "code",
   "execution_count": null,
   "id": "26044463",
   "metadata": {},
   "outputs": [],
   "source": [
    "frint(\"Hello World!\")"
   ]
  },
  {
   "cell_type": "markdown",
   "id": "71ca7ef6",
   "metadata": {},
   "source": [
    "The error message tells you (1) where the error occurred, and (2) what kind of error it was. Here, Python attempted to run the function `frint`, but could not determine what `frint` -- since it is _undefined_."
   ]
  },
  {
   "cell_type": "markdown",
   "id": "903fad2e",
   "metadata": {},
   "source": [
    "### Does Python know the error in the script before you run it?\n",
    "No, Python is naive! Python will try to run the code line-by-line, and it will stop if it runs into an error."
   ]
  },
  {
   "cell_type": "code",
   "execution_count": null,
   "id": "0566a920",
   "metadata": {},
   "outputs": [],
   "source": [
    "print(\"This will be printed\")\n",
    "frint(\"This will cause an error\")\n",
    "print(\"This will NOT be printed\")"
   ]
  },
  {
   "cell_type": "markdown",
   "id": "7e40c3b1",
   "metadata": {},
   "source": [
    "More on errors later on in this course!"
   ]
  },
  {
   "cell_type": "markdown",
   "id": "a2856e9f",
   "metadata": {},
   "source": [
    "### Exercise: Your First Program"
   ]
  },
  {
   "cell_type": "markdown",
   "id": "e613fc30",
   "metadata": {},
   "source": [
    "#### Using the `print()` function, print out the phrase: \"hello world\""
   ]
  },
  {
   "cell_type": "code",
   "execution_count": null,
   "id": "fbc0b1e0",
   "metadata": {},
   "outputs": [],
   "source": [
    "# Write your code below and press Shift+Enter to execute \n",
    "print(\"hello world\")\n",
    "\n",
    "\n"
   ]
  },
  {
   "cell_type": "markdown",
   "id": "8e6d9d05",
   "metadata": {},
   "source": [
    "<div align=\"right\">\n",
    "<a href=\"#1\" class=\"btn btn-default\" data-toggle=\"collapse\">Click here for the solution</a>\n",
    "\n",
    "</div>\n",
    "<div id=\"1\" class=\"collapse\">\n",
    "```\n",
    "print(\"hello world!\")\n",
    "```\n",
    "</div>"
   ]
  },
  {
   "cell_type": "markdown",
   "id": "796d388a",
   "metadata": {},
   "source": [
    "#### Print out the phrase: \"Hello World\"  and comment it with the phrase \"printing Hello World\" _all in one line of code_"
   ]
  },
  {
   "cell_type": "markdown",
   "id": "fb65e347",
   "metadata": {},
   "source": [
    "#### Converting to integer:"
   ]
  },
  {
   "cell_type": "markdown",
   "id": "f6942f36",
   "metadata": {},
   "source": [
    " Nothing really changes. If you cast a float to an integer, you must be careful. For example, if you cast the float 1.1 to 1 you will lose some information : "
   ]
  },
  {
   "cell_type": "code",
   "execution_count": null,
   "id": "702ae5cd",
   "metadata": {},
   "outputs": [],
   "source": [
    "int(1.1)"
   ]
  },
  {
   "cell_type": "markdown",
   "id": "cd5a2a37",
   "metadata": {},
   "source": [
    "#### Converting from strings to integers/floats:"
   ]
  },
  {
   "cell_type": "markdown",
   "id": "8f061ad8",
   "metadata": {},
   "source": [
    "If a string contains an integer value, you can convert it to an integer:"
   ]
  },
  {
   "cell_type": "code",
   "execution_count": null,
   "id": "22057e16",
   "metadata": {},
   "outputs": [],
   "source": [
    "int('1')"
   ]
  },
  {
   "cell_type": "markdown",
   "id": "b0c8aef9",
   "metadata": {},
   "source": [
    "You can also convert strings containing float values into float objects"
   ]
  },
  {
   "cell_type": "code",
   "execution_count": null,
   "id": "6f679fcc",
   "metadata": {},
   "outputs": [],
   "source": [
    "float('1.2')"
   ]
  },
  {
   "cell_type": "markdown",
   "id": "8803701a",
   "metadata": {},
   "source": [
    "However, if we attempt to convert a string that contains a non-numerical value, we get an error:"
   ]
  },
  {
   "cell_type": "code",
   "execution_count": null,
   "id": "282499f6",
   "metadata": {},
   "outputs": [],
   "source": [
    "int(\"A\")"
   ]
  },
  {
   "cell_type": "markdown",
   "id": "2578e6b8",
   "metadata": {},
   "source": [
    "#### Converting to strings:"
   ]
  },
  {
   "cell_type": "markdown",
   "id": "ea38b36f",
   "metadata": {},
   "source": [
    "You can convert an int to a string:"
   ]
  },
  {
   "cell_type": "code",
   "execution_count": null,
   "id": "0f72ed1a",
   "metadata": {},
   "outputs": [],
   "source": [
    "type(6//2)"
   ]
  },
  {
   "cell_type": "markdown",
   "id": "65d02659",
   "metadata": {},
   "source": [
    " <div align=\"right\">\n",
    "<a href=\"#4\" class=\"btn btn-default\" data-toggle=\"collapse\">Click here for the solution</a>\n",
    "\n",
    "</div>\n",
    "<div id=\"4\" class=\"collapse\">\n",
    "```\n",
    "int:\n",
    "double slashes stand for integer division \n",
    "\n",
    "\n",
    "```\n",
    "</div>"
   ]
  },
  {
   "cell_type": "markdown",
   "id": "8fe5f3e4",
   "metadata": {},
   "source": [
    "<a id=\"ref2\"></a>\n",
    "<h2 align=center> Expression and Variables </h2>\n",
    "\n"
   ]
  },
  {
   "cell_type": "markdown",
   "id": "58d2e44b",
   "metadata": {},
   "source": [
    "### Expressions "
   ]
  },
  {
   "cell_type": "markdown",
   "id": "48088c97",
   "metadata": {},
   "source": [
    "Expressions are operations that Python performs. For example, basic arithmetic operations like adding multiple numbers."
   ]
  },
  {
   "cell_type": "code",
   "execution_count": null,
   "id": "1ec8a364",
   "metadata": {},
   "outputs": [],
   "source": [
    "43 + 60 + 16 + 41"
   ]
  },
  {
   "cell_type": "markdown",
   "id": "ba534b08",
   "metadata": {},
   "source": [
    " We can perform operations such as subtraction using the subtraction sign. In this case the result is a negative number."
   ]
  },
  {
   "cell_type": "code",
   "execution_count": null,
   "id": "f81ca0a5",
   "metadata": {},
   "outputs": [],
   "source": [
    "print('Hello World!')"
   ]
  },
  {
   "cell_type": "markdown",
   "id": "fae430d6",
   "metadata": {},
   "source": [
    "After executing the cell above, you should see that Python return the string, `Hello Python 101`. Congratulations on running your first Python code!"
   ]
  },
  {
   "cell_type": "markdown",
   "id": "08dd86d3",
   "metadata": {},
   "source": [
    "<div class=\"alert alert-success alertsuccess\" style=\"margin-top: 20px\">\n",
    "**Tip:** **`print()`** is the **function** that you **executed**, and you *passed in* an **argument** of `'Hello World!'`.\n",
    "</div>\n"
   ]
  },
  {
   "cell_type": "markdown",
   "id": "49d61b95",
   "metadata": {},
   "source": [
    "### Python 3"
   ]
  },
  {
   "cell_type": "markdown",
   "id": "6f999853",
   "metadata": {},
   "source": [
    "How do we know that Python 3 is running? Take a look in the top-right hand corner of this notebook. You should see \"Python 3\"!"
   ]
  },
  {
   "cell_type": "markdown",
   "id": "e3cca424",
   "metadata": {},
   "source": [
    "### Writing comments in Python"
   ]
  },
  {
   "cell_type": "markdown",
   "id": "f68e63fa",
   "metadata": {},
   "source": [
    "In addition to writing code, note that it is customary to comment your code to help describe what it does. Not only does this help **other people** understand your code, it can also serve as a _reminder_ **to you** of what your code does. (This is especially true when you write some code and then come back to it weeks or months later.)\n",
    "\n",
    "To write comments in your Python code, use the hash symbol (#) before writing your comment. When you run the code Python will ignore everything after the # in that line."
   ]
  },
  {
   "cell_type": "code",
   "execution_count": null,
   "id": "f4eacf09",
   "metadata": {},
   "outputs": [],
   "source": [
    "print('Hello Python 101') #this my comment\n",
    "#print('Hi')"
   ]
  },
  {
   "cell_type": "markdown",
   "id": "f4c2ae35",
   "metadata": {},
   "source": [
    "Great! After executing the cell above, you should notice that **\"this is my comment** did not appeared in the output, because it was a comment (and thus ignored by Python). \n",
    "The second line was also not executed because `print('Hi')` was preceded by a hash symbol (#) as well!"
   ]
  },
  {
   "cell_type": "markdown",
   "id": "7c2fe36f",
   "metadata": {},
   "source": [
    "### Errors in Python"
   ]
  },
  {
   "cell_type": "code",
   "execution_count": null,
   "id": "bf2706ba",
   "metadata": {},
   "outputs": [],
   "source": [
    "total_hr = total_min / 60  \n",
    "total_hr"
   ]
  },
  {
   "cell_type": "markdown",
   "id": "46bd1862",
   "metadata": {},
   "source": [
    "You can put this all into a single expression, but remember to use **round brackets** to add together the album lengths first, before dividing by 60."
   ]
  },
  {
   "cell_type": "code",
   "execution_count": null,
   "id": "2f3f851d",
   "metadata": {},
   "outputs": [],
   "source": [
    "total_hr = (43 + 42 + 57) / 60  # get total hours in a single expression\n",
    "total_hr"
   ]
  },
  {
   "cell_type": "markdown",
   "id": "68a3c98b",
   "metadata": {},
   "source": [
    "<hr></hr>\n",
    "<div class=\"alert alert-success alertsuccess\" style=\"margin-top: 0px\">\n",
    "<h4> [Tip] Variables in Python </h4>\n",
    "<p></p>\n",
    "As you just learned, you can use **variables** to store values for repeated use. Here are some more **characteristics of variables in Python**:\n",
    "<li>variables store the output of a block of code </li>\n",
    "<li>variables are typically assigned using **=** (as in **x = 1**) </li>\n",
    "<p></p>\n",
    "</div>\n",
    "<hr></hr>"
   ]
  },
  {
   "cell_type": "markdown",
   "id": "af0c408c",
   "metadata": {},
   "source": [
    " <a id=\"#ref1a\"></a>\n",
    "<h2 align=center> Quiz on Expression and Variables in Python</h2>"
   ]
  },
  {
   "cell_type": "markdown",
   "id": "5c30c1b8",
   "metadata": {},
   "source": [
    "####  What is the value of x ? <p> x = 3 + 2 * 2</p>"
   ]
  },
  {
   "cell_type": "code",
   "execution_count": null,
   "id": "848eec25",
   "metadata": {},
   "outputs": [],
   "source": [
    "x = 3 + 2 * 2\n",
    "x"
   ]
  },
  {
   "cell_type": "markdown",
   "id": "c83a418c",
   "metadata": {},
   "source": [
    "<div align=\"right\">\n",
    "<a href=\"#SM1\" class=\"btn btn-default\" data-toggle=\"collapse\">Click here for the solution</a>\n",
    "\n",
    "</div>\n",
    "<div id=\"SM1\" class=\"collapse\">\n",
    "```\n",
    "7\n",
    "```\n",
    "</div>\n"
   ]
  },
  {
   "cell_type": "markdown",
   "id": "6bc440e1",
   "metadata": {},
   "source": [
    "####  What is the value of y ? <p> y = (3 + 2) * 2</p>"
   ]
  },
  {
   "cell_type": "code",
   "execution_count": null,
   "id": "3f7bd0d2",
   "metadata": {},
   "outputs": [],
   "source": [
    "y = (3 + 2) * 2\n",
    "y"
   ]
  },
  {
   "cell_type": "markdown",
   "id": "35bacc47",
   "metadata": {},
   "source": [
    "<div align=\"right\">\n",
    "<a href=\"#SM2\" class=\"btn btn-default\" data-toggle=\"collapse\">Click here for the solution</a>\n",
    "\n",
    "</div>\n",
    "<div id=\"SM2\" class=\"collapse\">\n",
    "```\n",
    "10\n",
    "```\n",
    "</div>\n"
   ]
  },
  {
   "cell_type": "markdown",
   "id": "31e6b0b7",
   "metadata": {},
   "source": [
    "#### What is the value of z ? <p> z = x + y</p>"
   ]
  },
  {
   "cell_type": "code",
   "execution_count": null,
   "id": "2c3c4ea9",
   "metadata": {},
   "outputs": [],
   "source": [
    " 2 * 60 + 30"
   ]
  },
  {
   "cell_type": "markdown",
   "id": "1177f574",
   "metadata": {},
   "source": [
    " The expressions in the parentheses are performed first. We then multiply the result by 60, the result is 1920."
   ]
  },
  {
   "cell_type": "code",
   "execution_count": null,
   "id": "d88baaf9",
   "metadata": {},
   "outputs": [],
   "source": [
    "(30 + 2) * 60"
   ]
  },
  {
   "cell_type": "markdown",
   "id": "21a9e67b",
   "metadata": {},
   "source": [
    "<div class=\"alert alert-success alertsuccess\" style=\"margin-top: 20px\">\n",
    "<h4> [Tip] Summary  </h4>\n",
    "<p></p>\n",
    "You can do a variety of mathematical operations in Python including:  \n",
    "<li> addition: **2 + 2** </li>\n",
    "<li> subtraction: **5 - 2** </li>\n",
    "<li> multiplication: **3 \\* 2** </li>\n",
    "<li> division: **4 / 2** </li>\n",
    "<li> exponentiation: **4 \\*\\* 2** </li>\n",
    "</div>"
   ]
  },
  {
   "cell_type": "markdown",
   "id": "f70a5b3a",
   "metadata": {},
   "source": [
    "### Variables"
   ]
  },
  {
   "cell_type": "markdown",
   "id": "3034a465",
   "metadata": {},
   "source": [
    "We can also **store** our output in **variables**, so we can use them later on. For example:"
   ]
  },
  {
   "cell_type": "code",
   "execution_count": null,
   "id": "bdd1c6aa",
   "metadata": {},
   "outputs": [],
   "source": [
    "x = 43 + 60 + 16 + 41"
   ]
  },
  {
   "cell_type": "markdown",
   "id": "fa65880e",
   "metadata": {},
   "source": [
    "To return the value of **`x`**, we can simply run the variable as a command:"
   ]
  },
  {
   "cell_type": "code",
   "execution_count": null,
   "id": "40b58982",
   "metadata": {},
   "outputs": [],
   "source": [
    "x"
   ]
  },
  {
   "cell_type": "markdown",
   "id": "1f4b6eff",
   "metadata": {},
   "source": [
    "We can also perform operations on **`x`** and save the result to a **new variable**:"
   ]
  },
  {
   "cell_type": "code",
   "execution_count": null,
   "id": "00571d93",
   "metadata": {},
   "outputs": [],
   "source": [
    "y = x / 60\n",
    "y"
   ]
  },
  {
   "cell_type": "markdown",
   "id": "8d113693",
   "metadata": {},
   "source": [
    "If we save something to an **existing variable**, it will **overwrite** the previous value:"
   ]
  },
  {
   "cell_type": "code",
   "execution_count": null,
   "id": "53bea676",
   "metadata": {},
   "outputs": [],
   "source": [
    "50 - 60"
   ]
  },
  {
   "cell_type": "markdown",
   "id": "36e401c2",
   "metadata": {},
   "source": [
    "We can use multiplication using an asterisk:"
   ]
  },
  {
   "cell_type": "code",
   "execution_count": null,
   "id": "1d33d412",
   "metadata": {},
   "outputs": [],
   "source": [
    "5 * 5"
   ]
  },
  {
   "cell_type": "markdown",
   "id": "12b8218d",
   "metadata": {},
   "source": [
    "We can also perform division with the forward slash"
   ]
  },
  {
   "cell_type": "code",
   "execution_count": null,
   "id": "78291f2a",
   "metadata": {},
   "outputs": [],
   "source": [
    "25 / 5"
   ]
  },
  {
   "cell_type": "code",
   "execution_count": null,
   "id": "ee04d920",
   "metadata": {},
   "outputs": [],
   "source": [
    "25 / 6"
   ]
  },
  {
   "cell_type": "markdown",
   "id": "5e185807",
   "metadata": {},
   "source": [
    "We can use the double slash for integer division, where the result is rounded "
   ]
  },
  {
   "cell_type": "code",
   "execution_count": null,
   "id": "938380e4",
   "metadata": {},
   "outputs": [],
   "source": [
    "type(4)"
   ]
  },
  {
   "cell_type": "code",
   "execution_count": null,
   "id": "f6f46ebd",
   "metadata": {},
   "outputs": [],
   "source": [
    "type(0)"
   ]
  },
  {
   "cell_type": "markdown",
   "id": "5796ac66",
   "metadata": {},
   "source": [
    "### Floats "
   ]
  },
  {
   "cell_type": "markdown",
   "id": "503357e9",
   "metadata": {},
   "source": [
    " Floats are real numbers; they include the integers but also \"numbers in-between the integers\". Consider the numbers between  0 and one we can select numbers in-between them, these numbers are floats. Similarly, consider the numbers between 0.5 and 0.6. We can select numbers in-between them, these are floats as well. We can continue the process, zooming in for different numbers, of course, there is a limit, but it is quite small."
   ]
  },
  {
   "cell_type": "markdown",
   "id": "e80649a6",
   "metadata": {},
   "source": [
    " We can verify some of the above examples using the type command:"
   ]
  },
  {
   "cell_type": "code",
   "execution_count": null,
   "id": "fc8395bd",
   "metadata": {},
   "outputs": [],
   "source": [
    "type(1.0)"
   ]
  },
  {
   "cell_type": "code",
   "execution_count": null,
   "id": "296e2adc",
   "metadata": {},
   "outputs": [],
   "source": [
    "type(0.5)"
   ]
  },
  {
   "cell_type": "code",
   "execution_count": null,
   "id": "2858a715",
   "metadata": {},
   "outputs": [],
   "source": [
    "type(0.56)"
   ]
  },
  {
   "cell_type": "markdown",
   "id": "8fcbc564",
   "metadata": {},
   "source": [
    "### Converting from one object type to a different object type"
   ]
  },
  {
   "cell_type": "markdown",
   "id": "ba5a55f5",
   "metadata": {},
   "source": [
    "You can change the type of the object in Python; this is called typecasting. For example, you can convert an integer into a float, as in 2 to 2.0."
   ]
  },
  {
   "cell_type": "code",
   "execution_count": null,
   "id": "17eda834",
   "metadata": {},
   "outputs": [],
   "source": [
    "type(2) #verify that this is an integer"
   ]
  },
  {
   "cell_type": "markdown",
   "id": "f8e9d1f3",
   "metadata": {},
   "source": [
    "#### Converting to float:"
   ]
  },
  {
   "cell_type": "code",
   "execution_count": null,
   "id": "792710b6",
   "metadata": {},
   "outputs": [],
   "source": [
    "# Write your code below\n",
    "print(\"Hello World\") #printing Hello World\n",
    "\n",
    "\n"
   ]
  },
  {
   "cell_type": "markdown",
   "id": "132ba3c7",
   "metadata": {},
   "source": [
    " <div align=\"right\">\n",
    "<a href=\"#2\" class=\"btn btn-default\" data-toggle=\"collapse\">Click here for the solution</a>\n",
    "\n",
    "</div>\n",
    "<div id=\"2\" class=\"collapse\">\n",
    "```\n",
    "print(\"Hello World\") #print Hello World\n",
    "```\n",
    "</div>"
   ]
  },
  {
   "cell_type": "markdown",
   "id": "1797bcda",
   "metadata": {},
   "source": [
    "<a id=\"ref1\"></a>\n",
    "<h2 align=center> Types of objects in Python </h2>"
   ]
  },
  {
   "cell_type": "markdown",
   "id": "51477b50",
   "metadata": {},
   "source": [
    "You can have many different object types in Python, let's start with **strings**, **integers** and **floats**. Anytime you write words (text) in Python, you're using character **strings** (strings for short). Numbers, on the other hand, depend: numbers can be **integers** (like -1, 0, 100) or **floats**, which are real numbers (like 3.14, -42.0)."
   ]
  },
  {
   "cell_type": "markdown",
   "id": "cdb64763",
   "metadata": {},
   "source": [
    " <img src = \"https://ibm.box.com/shared/static/8zp0t4oh7kuzleudrszhkqukcup1708f.png\" width = 600, align = \"center\"></a>"
   ]
  },
  {
   "cell_type": "markdown",
   "id": "fe06ad00",
   "metadata": {},
   "source": [
    "The following chart summarizes three data types for the last examples,  the first column indicates the expression  the second column indicates the data type\n"
   ]
  },
  {
   "cell_type": "code",
   "execution_count": null,
   "id": "ac0a388d",
   "metadata": {},
   "outputs": [],
   "source": [
    "11 #integer"
   ]
  },
  {
   "cell_type": "code",
   "execution_count": null,
   "id": "437fb260",
   "metadata": {},
   "outputs": [],
   "source": [
    "2.14 #float"
   ]
  },
  {
   "cell_type": "code",
   "execution_count": null,
   "id": "fcda2973",
   "metadata": {},
   "outputs": [],
   "source": [
    "\"Hello Python 101\" #character string"
   ]
  },
  {
   "cell_type": "markdown",
   "id": "c319e495",
   "metadata": {},
   "source": [
    " We can see the actual data type in python by using the **`type()`** command"
   ]
  },
  {
   "cell_type": "code",
   "execution_count": null,
   "id": "9823c18e",
   "metadata": {},
   "outputs": [],
   "source": [
    "x = x / 60\n",
    "x"
   ]
  },
  {
   "cell_type": "markdown",
   "id": "0ac0e694",
   "metadata": {},
   "source": [
    "It's good practice to use **meaningful variable names**, so you don't have to keep track of what variable is what:"
   ]
  },
  {
   "cell_type": "code",
   "execution_count": null,
   "id": "6328e422",
   "metadata": {},
   "outputs": [],
   "source": [
    "type(12)"
   ]
  },
  {
   "cell_type": "code",
   "execution_count": null,
   "id": "8390e6e9",
   "metadata": {},
   "outputs": [],
   "source": [
    "type(2.14)"
   ]
  },
  {
   "cell_type": "code",
   "execution_count": null,
   "id": "bfd80fd6",
   "metadata": {},
   "outputs": [],
   "source": [
    "type(\"Hello Python 101\")"
   ]
  },
  {
   "cell_type": "markdown",
   "id": "dea408b3",
   "metadata": {},
   "source": [
    "#### Using the `type()` function, check the object type of `12.0`?"
   ]
  },
  {
   "cell_type": "code",
   "execution_count": null,
   "id": "a144fa82",
   "metadata": {},
   "outputs": [],
   "source": [
    "# Write your code below\n",
    "type(12.0)\n",
    "\n"
   ]
  },
  {
   "cell_type": "markdown",
   "id": "c24936ec",
   "metadata": {},
   "source": [
    "### Integers"
   ]
  },
  {
   "cell_type": "markdown",
   "id": "f785d6d2",
   "metadata": {},
   "source": [
    "Here are some integers, integers  can be negative or positive:\n"
   ]
  },
  {
   "cell_type": "markdown",
   "id": "d2f755c7",
   "metadata": {},
   "source": [
    "<img src = \"https://ibm.box.com/shared/static/19iqm3q5pvxzuwa22d5ihxcr6eftjl48.png\" width = 600, align = \"center\"></a>"
   ]
  },
  {
   "cell_type": "markdown",
   "id": "52ccc148",
   "metadata": {},
   "source": [
    "We can verify some of the above examples using the type command:"
   ]
  },
  {
   "cell_type": "code",
   "execution_count": null,
   "id": "5e252495",
   "metadata": {},
   "outputs": [],
   "source": [
    "type(-1)"
   ]
  },
  {
   "cell_type": "code",
   "execution_count": null,
   "id": "be270c9d",
   "metadata": {},
   "outputs": [],
   "source": [
    "float(2)"
   ]
  },
  {
   "cell_type": "code",
   "execution_count": null,
   "id": "4252af3b",
   "metadata": {},
   "outputs": [],
   "source": [
    "type(float(2))"
   ]
  },
  {
   "cell_type": "code",
   "execution_count": null,
   "id": "50ca763f",
   "metadata": {},
   "outputs": [],
   "source": [
    "25//5"
   ]
  },
  {
   "cell_type": "code",
   "execution_count": null,
   "id": "4e626645",
   "metadata": {},
   "outputs": [],
   "source": [
    "25//6"
   ]
  },
  {
   "cell_type": "markdown",
   "id": "f29768b0",
   "metadata": {},
   "source": [
    "**What is 160 min in hours?**"
   ]
  },
  {
   "cell_type": "code",
   "execution_count": null,
   "id": "eb3d055f",
   "metadata": {},
   "outputs": [],
   "source": [
    "160/60"
   ]
  },
  {
   "cell_type": "markdown",
   "id": "d849b426",
   "metadata": {},
   "source": [
    " <div align=\"right\">\n",
    "<a href=\"#6\" class=\"btn btn-default\" data-toggle=\"collapse\">Click here for the solution</a>\n",
    "\n",
    "</div>\n",
    "<div id=\"6\" class=\"collapse\">\n",
    "```\n",
    "160.0 / 60.0\n",
    "```\n",
    "</div>"
   ]
  },
  {
   "cell_type": "markdown",
   "id": "13d955ac",
   "metadata": {},
   "source": [
    " Python follows mathematical conventions when performing mathematical expressions. The following operations are in different order. In both cases Python performs multiplication, then addition to obtain the final result. "
   ]
  },
  {
   "cell_type": "code",
   "execution_count": null,
   "id": "0032ce07",
   "metadata": {},
   "outputs": [],
   "source": [
    "str(1)"
   ]
  },
  {
   "cell_type": "markdown",
   "id": "ea8cbf30",
   "metadata": {},
   "source": [
    " You can convert a  float to a string "
   ]
  },
  {
   "cell_type": "code",
   "execution_count": null,
   "id": "33a605c3",
   "metadata": {},
   "outputs": [],
   "source": [
    "str(1.2)"
   ]
  },
  {
   "cell_type": "markdown",
   "id": "4df2e5e6",
   "metadata": {},
   "source": [
    "### Boolean "
   ]
  },
  {
   "cell_type": "markdown",
   "id": "b364d2a7",
   "metadata": {},
   "source": [
    "Boolean is another important  type in Python; a Boolean can take on two values. The first value is true, just remember we use an uppercase T:"
   ]
  },
  {
   "cell_type": "code",
   "execution_count": null,
   "id": "70ede35c",
   "metadata": {},
   "outputs": [],
   "source": [
    "True"
   ]
  },
  {
   "cell_type": "markdown",
   "id": "e545c4e1",
   "metadata": {},
   "source": [
    " Boolean values can also be false, with  an uppercase F:"
   ]
  },
  {
   "cell_type": "code",
   "execution_count": null,
   "id": "9497e016",
   "metadata": {},
   "outputs": [],
   "source": [
    "False"
   ]
  },
  {
   "cell_type": "markdown",
   "id": "7d26a220",
   "metadata": {},
   "source": [
    "Using the type command on a Boolean value we  obtain the term bool, this is short for Boolean "
   ]
  },
  {
   "cell_type": "markdown",
   "id": "e6bee4c2",
   "metadata": {},
   "source": [
    "# Welcome!\n",
    "\n",
    "By the end of this notebook, you will have learned the basics of Python, including writing some basic commands, understanding object types, and some simple operations!  "
   ]
  },
  {
   "cell_type": "markdown",
   "id": "3e5a052a",
   "metadata": {},
   "source": [
    "# Table of Contents\n",
    "\n",
    "\n",
    "<div class=\"alert alert-block alert-info\" style=\"margin-top: 20px\">\n",
    "<li><a href=\"#ref0\">First Program in Python</a></li>\n",
    "<li><a href=\"#ref1\">Object Types  </a></li>\n",
    "<li><a href=\"#ref2\">Expressions and Variables</a></li>\n",
    "\n",
    "<br>\n",
    "<p></p>\n",
    "Estimated Time Needed: <strong>25 min</strong>\n",
    "</div>\n",
    "\n",
    "<hr>"
   ]
  },
  {
   "cell_type": "markdown",
   "id": "ea98ed28",
   "metadata": {},
   "source": [
    " <a id=\"ref0\"></a>\n",
    "<h2 align=center>Your First Program in Python </h2> "
   ]
  },
  {
   "cell_type": "markdown",
   "id": "8fe19f2e",
   "metadata": {},
   "source": [
    "A statement or expression is an instruction the computer will run or execute. Perhaps the simplest program you can write is to print a statement in Python."
   ]
  },
  {
   "cell_type": "markdown",
   "id": "0c5b72ff",
   "metadata": {},
   "source": [
    "<div class=\"alert alert-success alertsuccess\" style=\"margin-top: 20px\">\n",
    "**Tip**: To *execute* the Python code in the grey code cell below, **click on it and press Shift + Enter**.\n",
    "</div>"
   ]
  },
  {
   "cell_type": "code",
   "execution_count": null,
   "id": "d3f386d8",
   "metadata": {},
   "outputs": [],
   "source": [
    "total_min = (43 + 42 )\n",
    "total_min"
   ]
  }
 ],
 "metadata": {},
 "nbformat": 4,
 "nbformat_minor": 5
}
