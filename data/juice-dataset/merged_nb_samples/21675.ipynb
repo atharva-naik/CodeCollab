{
 "cells": [
  {
   "cell_type": "code",
   "execution_count": null,
   "id": "bd9ad204",
   "metadata": {},
   "outputs": [],
   "source": [
    "import pandas as pd\n",
    "import numpy as np\n",
    "import matplotlib.pyplot as plt\n",
    "import seaborn as sns\n",
    "%matplotlib inline\n",
    "\n",
    "from IPython.core.interactiveshell import InteractiveShell\n",
    "InteractiveShell.ast_node_interactivity = \"all\""
   ]
  },
  {
   "cell_type": "code",
   "execution_count": null,
   "id": "64d3f67b",
   "metadata": {},
   "outputs": [],
   "source": [
    "df = pd.read_csv(\"flight_data_cleaned.csv\")"
   ]
  },
  {
   "cell_type": "code",
   "execution_count": null,
   "id": "266f9f2d",
   "metadata": {},
   "outputs": [],
   "source": [
    "df.head()"
   ]
  },
  {
   "cell_type": "markdown",
   "id": "de35e339",
   "metadata": {},
   "source": [
    "# Visualize dep_delay for each airport"
   ]
  },
  {
   "cell_type": "code",
   "execution_count": null,
   "id": "2575d33d",
   "metadata": {},
   "outputs": [],
   "source": [
    "df.origin.value_counts()"
   ]
  },
  {
   "cell_type": "code",
   "execution_count": null,
   "id": "bf282627",
   "metadata": {},
   "outputs": [],
   "source": [
    "#df.pivot(columns=\"origin\", values=\"dep_delay\")"
   ]
  },
  {
   "cell_type": "code",
   "execution_count": null,
   "id": "4eb72f35",
   "metadata": {},
   "outputs": [],
   "source": [
    "sns.boxplot(data=np.log(df.pivot(columns=\"origin\", values=\"dep_delay\") + 45) )"
   ]
  },
  {
   "cell_type": "code",
   "execution_count": null,
   "id": "60d2b9e7",
   "metadata": {},
   "outputs": [],
   "source": [
    "df.pivot(columns=\"origin\", values=\"dep_delay\").describe()"
   ]
  },
  {
   "cell_type": "markdown",
   "id": "63f307a0",
   "metadata": {},
   "source": [
    "Dep_delay from each of the airports looks almost similar. Need to find the difference statistically (Later).\n",
    "\n",
    "Find month wise dep_delay for airports."
   ]
  },
  {
   "cell_type": "code",
   "execution_count": null,
   "id": "813e0da4",
   "metadata": {},
   "outputs": [],
   "source": [
    "avg_dep_delays = df.pivot_table(index=\"origin\", columns=\"month\", values=\"dep_delay\")\n",
    "sns.heatmap( avg_dep_delays, annot=True )\n",
    "plt.title(\"Airport-wise Avg dep_delay (monthly)\");"
   ]
  },
  {
   "cell_type": "markdown",
   "id": "90b331c1",
   "metadata": {},
   "source": [
    "From heatmap it's very clear that LGA is having, on an average, lighter shade. \n",
    "That means LGA shows lesser dep_delay. <br>\n",
    "Hence LGA is marginally the best airport in terms of timely departure.\n",
    "\n",
    "<b><font color=red>What's the reason for better performance (marginally) of LGA? </font></b>\n",
    "\n"
   ]
  },
  {
   "cell_type": "code",
   "execution_count": null,
   "id": "3b0fde5b",
   "metadata": {},
   "outputs": [],
   "source": [
    "# No. of flights departing various month\n",
    "count_flight_launches = df.pivot_table(index=\"origin\", columns=\"month\", values=\"dep_delay\", aggfunc=np.size)\n",
    "sns.heatmap( count_flight_launches )\n",
    "plt.title(\"Airport traffic (monthly)\");\n",
    "# So LGA is having least load"
   ]
  },
  {
   "cell_type": "markdown",
   "id": "a7c51804",
   "metadata": {},
   "source": [
    "Observation\n",
    "1. EWR is most busy airport throughout the year.\n",
    "2. JFK sees seasonal traffic\n",
    "3. LGA traffic is lowest <br>\n",
    "\n",
    "<b>How airport traffic impacts dep_delays </b>"
   ]
  },
  {
   "cell_type": "code",
   "execution_count": null,
   "id": "84f0e548",
   "metadata": {},
   "outputs": [],
   "source": [
    "sns.heatmap( avg_dep_delays / count_flight_launches );\n",
    "plt.title(\"Airport inefficiencies (monthly overview)\");"
   ]
  },
  {
   "cell_type": "markdown",
   "id": "ffb895b6",
   "metadata": {},
   "source": [
    "Below points are obvious from above charting:\n",
    "1. LGA is marginally efficient and has managed the dep_delay better than the rest (for every unit of traffic)\n",
    "2. Seasonal challenge (in June, July & Dec) has impacted all airports adversely.<br>\n",
    "Following may be probable explanations:\n",
    "    - Systemic issue: \n",
    "        - Seasonal impact on input, i.e. Labour unavailability etc.\n",
    "        - Insufficient capacity clogging airports during high traffic\n",
    "    - Airport specific issue: (need further analysis)\n"
   ]
  },
  {
   "cell_type": "markdown",
   "id": "4a1b9c14",
   "metadata": {},
   "source": [
    "<b>Seasons fueling inefficiency</b>"
   ]
  }
 ],
 "metadata": {},
 "nbformat": 4,
 "nbformat_minor": 5
}
