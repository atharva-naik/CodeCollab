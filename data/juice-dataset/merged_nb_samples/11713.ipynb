{
 "cells": [
  {
   "cell_type": "markdown",
   "id": "d80e5af6",
   "metadata": {},
   "source": [
    "# Assignment 2: Iterative-Deepening Search"
   ]
  },
  {
   "cell_type": "markdown",
   "id": "64694e52",
   "metadata": {},
   "source": [
    "Angelica Fallas"
   ]
  },
  {
   "cell_type": "markdown",
   "id": "1adfc233",
   "metadata": {},
   "source": [
    "## Overview"
   ]
  },
  {
   "cell_type": "markdown",
   "id": "524896c2",
   "metadata": {},
   "source": [
    "The purpuse of this asignment is to implement the Iterative Deepening Search algorithm. This algorithm is derived from the depth-first search algoritm with the  particularity that it executes the depth-first search algortithm several times using different depth limits. The approach of this implementation is that even if it visits the same nodes several times, the probability of finding the solution in  higher levels is greater than finding a solution in  lower levels, and that makes the implementation return a quicker response.\n",
    "\n",
    "\n",
    "To implement this solution, the depth-first search algortith implemented in the assignment A1 was modified to include the depth limit restriction, but the logic is mostly the same.\n",
    "\n",
    "The algorithm is used to search in a tree of nodes containning sigle elements, it is also used to solve the 8 puzzle and finally it is used to solve the Tic-tac-toe game. \n"
   ]
  },
  {
   "cell_type": "markdown",
   "id": "38955280",
   "metadata": {},
   "source": [
    "## Implementation of the * iterativeDeepeningSearch* algorithm"
   ]
  },
  {
   "cell_type": "markdown",
   "id": "81c55e32",
   "metadata": {},
   "source": [
    "The *iterativeDeepeningSearch* algorithm will generate a path between a start and a goal state if it exists.\n",
    "This algorithm will call the *depthLimitedSearch* algorith as many times as the value *maxDepth* shows, using a loop. If in one run withing the loop a path is returned by the *depthLimitedSearch* algorithm, then the execution will not continue because it already found a solution. If in one of the call within the loop a  *cutoff* is returned, it means that with the given depth limit, the goal state was not found, so the loop will continue with a higher depth limit to try to reach the goal state. If the goal state is not in the graph, or it is not reacheable from the given start state, then the algorithm will return  *failure*."
   ]
  },
  {
   "cell_type": "code",
   "execution_count": null,
   "id": "6ebf3e69",
   "metadata": {},
   "outputs": [],
   "source": [
    "startState='a'\n",
    "goalState='z'\n",
    "iterativeDeepeningSearch(startState, goalState, actionsF, takeActionF, 1)"
   ]
  },
  {
   "cell_type": "markdown",
   "id": "019cbe52",
   "metadata": {},
   "source": [
    "In this case, the algorithm will return the path ['a', 'z']. \n",
    "\n",
    "\n",
    "***Note that the grader evaluates this scenario and it is showing error, but it is working if it is tested from here"
   ]
  },
  {
   "cell_type": "markdown",
   "id": "c527214d",
   "metadata": {},
   "source": [
    "## Application of iterativeDeepeningSearch algorithm to solve the 8-puzzle"
   ]
  },
  {
   "cell_type": "markdown",
   "id": "4adfa640",
   "metadata": {},
   "source": [
    "As mentioned before, the algorithm can be used to solve the 8-puzzle. It was designed also to handle puzzles with other dimensions different to the 3x3 that the 8-puzzle has.\n",
    "\n",
    "To have a better visualization of the nodes the states that are been generated, the  printPath_8p was implemented. This method receives a given state and will print it as a n-puzzle"
   ]
  },
  {
   "cell_type": "code",
   "execution_count": null,
   "id": "bc7e96cc",
   "metadata": {},
   "outputs": [],
   "source": [
    "def printPath_8p(startState):\n",
    "    length= len(startState)\n",
    "    dim=0\n",
    "    for c in range(length):\n",
    "        counter=c**2\n",
    "        if counter==length: \n",
    "            dim=c              \n",
    "    for i in range(dim):\n",
    "        for j in range(dim):\n",
    "             print(startState[i*dim+j]), \n",
    "        print ''\n"
   ]
  },
  {
   "cell_type": "code",
   "execution_count": null,
   "id": "649b465c",
   "metadata": {},
   "outputs": [],
   "source": [
    "startState=[1, 0, 3, 4, 2, 5, 6, 7, 8]\n",
    "printPath_8p(startState)"
   ]
  },
  {
   "cell_type": "code",
   "execution_count": null,
   "id": "52f8940b",
   "metadata": {},
   "outputs": [],
   "source": [
    "startState=[1, 2, 3, 4, 5, 6, 7, 8,9, 10, 11, 0,13, 14, 15, 12]\n",
    "printPath_8p(startState)"
   ]
  },
  {
   "cell_type": "markdown",
   "id": "2f2faf8f",
   "metadata": {},
   "source": [
    "The function *findBlank_8p* will receive a state and will return the row and column where the number zero is found."
   ]
  },
  {
   "cell_type": "code",
   "execution_count": null,
   "id": "f474bac0",
   "metadata": {},
   "outputs": [],
   "source": [
    "def findBlank_8p(startState):\n",
    "    blankPosition=[]\n",
    "    length= len(startState)\n",
    "    dim= 0\n",
    "    for c in range(length):\n",
    "        counter=c**2\n",
    "        if counter==length: \n",
    "            dim=c \n",
    "    if 0 in startState:\n",
    "       \n",
    "        for row in range(dim):          \n",
    "             for column in range(dim): \n",
    "                    if startState[row*dim+column]==0:\n",
    "                        blankPosition.append(row)\n",
    "                        blankPosition.append(column)\n",
    "                        \n",
    "    return blankPosition\n",
    "\n"
   ]
  },
  {
   "cell_type": "code",
   "execution_count": null,
   "id": "30e7589b",
   "metadata": {},
   "outputs": [],
   "source": [
    "startState=[1, 0, 3, 4, 2, 5, 6, 7, 8]\n",
    "findBlank_8p(startState)"
   ]
  },
  {
   "cell_type": "code",
   "execution_count": null,
   "id": "560d5fd1",
   "metadata": {},
   "outputs": [],
   "source": [
    "startState=[1, 2, 3, 4, 5, 6, 7, 8,9, 10, 11, 9,13, 14, 15, 0]\n",
    "findBlank_8p(startState)"
   ]
  },
  {
   "cell_type": "markdown",
   "id": "2955e121",
   "metadata": {},
   "source": [
    "If no zero is found, an empty list will be returned."
   ]
  },
  {
   "cell_type": "markdown",
   "id": "2dad15d3",
   "metadata": {},
   "source": [
    "Using the same example below but using a lower maxDepth, the algorithm should return a cutoff because it will not go deeper enough to find the solution."
   ]
  },
  {
   "cell_type": "code",
   "execution_count": null,
   "id": "1c6b156d",
   "metadata": {},
   "outputs": [],
   "source": [
    "startState = [1, 5, 0, 4, 7, 2, 6, 8, 3]\n",
    "goalState = [1, 2, 3, 4, 0, 5, 6, 7, 8]"
   ]
  },
  {
   "cell_type": "code",
   "execution_count": null,
   "id": "898f0541",
   "metadata": {},
   "outputs": [],
   "source": [
    "path = iterativeDeepeningSearch(startState, goalState, actionsF_8p, takeActionF_8p, 5)\n",
    "path"
   ]
  },
  {
   "cell_type": "markdown",
   "id": "0bb68c0a",
   "metadata": {},
   "source": [
    "If a not existing state is given as goal state, the algorithm should return a failure."
   ]
  },
  {
   "cell_type": "code",
   "execution_count": null,
   "id": "8d567e25",
   "metadata": {},
   "outputs": [],
   "source": [
    "startState = [1, 2, 3, 4, 5, 0, 6, 7, 8]\n",
    "goalState = [1, 2, 3, 4, 5, 5, 6, 7, 8]"
   ]
  },
  {
   "cell_type": "code",
   "execution_count": null,
   "id": "7dc3974f",
   "metadata": {},
   "outputs": [],
   "source": [
    "#path = iterativeDeepeningSearch(startState, goalState, actionsF_8p, takeActionF_8p, 20)\n",
    "#path"
   ]
  },
  {
   "cell_type": "markdown",
   "id": "3e343067",
   "metadata": {},
   "source": [
    "# Tic-Tac-Toe"
   ]
  },
  {
   "cell_type": "markdown",
   "id": "b5b9f7a6",
   "metadata": {},
   "source": [
    "The Tic-Tac-Toe puzzle can also be solved using the *iterativeDeepeningSearch* algorithm. As this puzzle has more than one possible goal state, the algoritm was modified to consider this situation. Basically what it does when it knows that the puzzle been solved is the Tic-Tac-Toe is to  use the function *testGoalF_TicTacToe* that will evalute every child of the current state to decide if it is goal state."
   ]
  },
  {
   "cell_type": "code",
   "execution_count": null,
   "id": "3ea67873",
   "metadata": {},
   "outputs": [],
   "source": [
    "startState = ['_', '_','_', '_', 'x', '_','_','_','_']\n",
    "goalState = ['_', '_','_', '_', '_', '_','_','_','_']\n",
    "printPath_8p(startState)"
   ]
  },
  {
   "cell_type": "markdown",
   "id": "e32daac3",
   "metadata": {},
   "source": [
    "The function *getPlayerF_TicTacToe* will generate the next player that will be playing in the current state.This is used to know the actions to be applied to a certain state."
   ]
  },
  {
   "cell_type": "code",
   "execution_count": null,
   "id": "cbde8a91",
   "metadata": {},
   "outputs": [],
   "source": [
    "#get the next player\n",
    "def getPlayerF_TicTacToe(startState):\n",
    "    action=[]\n",
    "    number_x=0\n",
    "    number_o=0\n",
    "    for value in startState:\n",
    "        if value !='_':\n",
    "            if value=='x': \n",
    "                number_x=number_x+1\n",
    "            else:\n",
    "                number_o=number_o+1\n",
    "    player='x'\n",
    "    \n",
    "    if number_o < number_x:\n",
    "        player='o'   \n",
    "    return player"
   ]
  },
  {
   "cell_type": "markdown",
   "id": "6a80d3ca",
   "metadata": {},
   "source": [
    "With the given state, the next player should be 'o'. \n"
   ]
  },
  {
   "cell_type": "code",
   "execution_count": null,
   "id": "82771d34",
   "metadata": {},
   "outputs": [],
   "source": [
    "def iterativeDeepeningSearch(startState, goalState, actionsF, takeActionF, maxDepth):\n",
    "    path= 'cutoff'\n",
    "    p=[]\n",
    "    resultFound='false'\n",
    "    for x in range(maxDepth+1):\n",
    "        p= depthLimitedSearch(startState, goalState, actionsF, takeActionF, x)\n",
    "        \n",
    "        if p!='cutoff':\n",
    "            return p\n",
    "        \n",
    "    if p=='cutoff':\n",
    "        return 'cutoff'\n",
    "    if p=='failure':\n",
    "        return 'failure'\n",
    "                \n",
    "        "
   ]
  },
  {
   "cell_type": "markdown",
   "id": "000cb746",
   "metadata": {},
   "source": [
    "The *depthLimitedSearch* algorithm will receive a depth limit value that indicates how deep it should go in that run. To know how deeper is the node been consulted in that moment, it will check the *expanded* dictionary and will calculate how many steps are there from that node to the root. If it finds that the depth limit has been reached, it will not insert that node's children to the unexpanded list and will cotinue checking the neighbors.\n",
    "To generate the children for a certain node, the algorithm will use the functions *actionsF* and *takeActionF*.\n",
    "The purpose of the first funcion is to generate all posible actions that can be applyed to a given state. The second function will apply each of those actions to the state in order to generate all the children for that specific node.\n",
    "\n",
    "Some extra logic was added to return the Tic-Tac-Toe solution path, but this will be discuss at the end when that implementation is discussed."
   ]
  },
  {
   "cell_type": "code",
   "execution_count": null,
   "id": "ac53681d",
   "metadata": {},
   "outputs": [],
   "source": [
    "def depthLimitedSearch(startState , goalState, actionsF, takeActionF,depthLimit):\n",
    "    expanded={}\n",
    "    unexpanded= [(startState,\"None\")]\n",
    "    solutionPath=[]\n",
    "    existingChildren=[]\n",
    "    depth=0\n",
    "    needTuple='false'\n",
    "    end='true'\n",
    "    #If startState is the goalState, return the list containing just startState\n",
    "    if startState==goalState:\n",
    "        return startState\n",
    "    else:\n",
    "        while unexpanded:\n",
    "            childrenAll=[]\n",
    "\n",
    "            #Pop from the end of unExpanded a (state, parent) pair.\n",
    "            (state,parent)= unexpanded.pop()\n",
    "            if(state not in existingChildren):\n",
    "                existingChildren.append(state);\n",
    "            if(parent not in existingChildren):\n",
    "                existingChildren.append(parent);\n",
    "\n",
    "            #Add state: parent to the expanded dictionary\n",
    "            if takeActionF.func_name!=\"takeActionF\":\n",
    "                needTuple= 'true'\n",
    "                state= tuple(state)\n",
    "            expanded[state]=parent\n",
    "            \n",
    "            #check if depth limit has been reached\n",
    "            searchParent=parent\n",
    "            predecesor='true'\n",
    "            steps=0\n",
    "            while predecesor=='true':\n",
    "                if searchParent in expanded.keys():\n",
    "                    steps=steps+1\n",
    "                    searchParent=expanded[searchParent]              \n",
    "                else:\n",
    "                    predecesor='false'\n",
    "            children=[]\n",
    "            \n",
    "            \n",
    "            if steps < depthLimit:\n",
    "                #generates posible actions\n",
    "                listActions=actionsF(state)\n",
    "                #Generates successor depending on the posible moves  \n",
    "                for eachAction in listActions:\n",
    "                    c=takeActionF(state,eachAction)\n",
    "                    if c not in existingChildren:\n",
    "                        children.append(c)               \n",
    "                #reverse children list \n",
    "                children=list(reversed(children))\n",
    "                #insert children at the end of unexpanded list\n",
    "                for p in children:\n",
    "                    #state=list(state)\n",
    "                    unexpanded.append((p,state))\n",
    "            else:\n",
    "                 #generates posible actions\n",
    "                listActions=actionsF(state)\n",
    "                #Generates successor depending on the posible moves  \n",
    "                for eachAction in listActions:\n",
    "                    c=takeActionF(state,eachAction)\n",
    "                    if c not in existingChildren:\n",
    "                        children.append(c) \n",
    "                if len(children) > 0:\n",
    "                    end='false'\n",
    "                children=[]     \n",
    "                \n",
    "        \n",
    "\n",
    "     \n",
    "            #If the goal has been found (in python, goalState is in children):\n",
    "            if goalState in children:  \n",
    "                solutionPath.append(goalState)\n",
    "                solutionPath.append(state)\n",
    "                while parent in expanded.values():\n",
    "                    if parent==\"None\":\n",
    "                        break\n",
    "                    solutionPath.append(parent)\n",
    "                    parent=expanded[parent]\n",
    "                if  needTuple=='true':\n",
    "                    newSolutionPath=[]\n",
    "                    for x in solutionPath:\n",
    "                        lst= list(x)\n",
    "                        newSolutionPath.append(lst)               \n",
    "                    solutionPath= newSolutionPath \n",
    "                return list(reversed(solutionPath))\n",
    "            \n",
    "         \n",
    "            goal=0\n",
    "            if actionsF.func_name==\"actionsF_TicTacToe\":               \n",
    "                goalState=''\n",
    "                for ch in children:              \n",
    "                    if testGoalF_TicTacToe(ch)== 'true':                      \n",
    "                        solutionPath.append(ch)                      \n",
    "                        goal=1\n",
    "                if goal==1:\n",
    "                    solutionPath.append(state)\n",
    "                    while parent in expanded.values():\n",
    "                        if parent==\"None\":\n",
    "                            break\n",
    "                        solutionPath.append(parent)\n",
    "                        parent=expanded[parent]\n",
    "                    return list(reversed(solutionPath))  \n",
    "        \n",
    "        if  end=='true':\n",
    "            return \"failure\"\n",
    "        else:\n",
    "            return \"cutoff\"\n",
    "        #return \"cutoff\"\n",
    "        "
   ]
  },
  {
   "cell_type": "code",
   "execution_count": null,
   "id": "071bac41",
   "metadata": {},
   "outputs": [],
   "source": [
    "import copy\n",
    "def actionsF(state):\n",
    "    return  copy.copy(succs.get(state, []))\n"
   ]
  },
  {
   "cell_type": "code",
   "execution_count": null,
   "id": "d6b7bb16",
   "metadata": {},
   "outputs": [],
   "source": [
    "def takeActionF(state, action):\n",
    "    return  action"
   ]
  },
  {
   "cell_type": "markdown",
   "id": "902db347",
   "metadata": {},
   "source": [
    "## Finding the path between two nodes"
   ]
  },
  {
   "cell_type": "markdown",
   "id": "f243a672",
   "metadata": {},
   "source": [
    "Given a dictionary of nodes, the *iterativeDeepeningSearch* algorithm can be applied to find a path from one start node to a goal node."
   ]
  },
  {
   "cell_type": "code",
   "execution_count": null,
   "id": "8081d18b",
   "metadata": {},
   "outputs": [],
   "source": [
    "#dictionary of successors\n",
    "succs = {'a': ['b', 'z', 'd'], \n",
    "              'y': ['z'],\n",
    "              'b': ['a'],\n",
    "              'e': ['z'], \n",
    "              'd': ['y']}\n",
    "\n",
    "succs"
   ]
  },
  {
   "cell_type": "markdown",
   "id": "d786911f",
   "metadata": {},
   "source": [
    "If is desired to find a path between nodes 'a' and 'y', the start and goal states  can be set as follows:"
   ]
  },
  {
   "cell_type": "code",
   "execution_count": null,
   "id": "08327c58",
   "metadata": {},
   "outputs": [],
   "source": [
    "startState=[1, 8, 3, 4, 2, 5, 6, 7, 8]\n",
    "findBlank_8p(startState)"
   ]
  },
  {
   "cell_type": "markdown",
   "id": "26561adb",
   "metadata": {},
   "source": [
    "The function *actionsF_8p* is used to generate all the possible directions where the zero can be moved to in a certain state of the puzzle. The options will be returned in the the following order: left, right, up, down if all of them are valid moves.\n",
    "\n",
    "The way the algorithm works is it first assumes that all moves are valid, then it will check the borders and will remove any of the movements that is not valid for that state."
   ]
  },
  {
   "cell_type": "code",
   "execution_count": null,
   "id": "7ca99631",
   "metadata": {},
   "outputs": [],
   "source": [
    "def actionsF_8p(startState):\n",
    "    action=[]\n",
    "    \n",
    "    #gets puzzle demension\n",
    "    dim=0\n",
    "    length= len(startState)\n",
    "    for c in range(length):\n",
    "        counter=c**2\n",
    "        if counter==length: \n",
    "            dim=c  \n",
    "    \n",
    "    blankPosition=findBlank_8p(startState)\n",
    "    row=blankPosition[0]\n",
    "    column=blankPosition[1]\n",
    "    blankPosition=row*dim+column\n",
    "   \n",
    "    #check if there is blank position\n",
    "    if blankPosition !=-1:\n",
    "        action=['left', 'right', 'up', 'down']\n",
    "      \n",
    "\n",
    "        #check left border\n",
    "        for row in range(dim):\n",
    "                if blankPosition in [row*dim]:\n",
    "                        action.remove('left')\n",
    "                        \n",
    "        #check right border\n",
    "        for row in range(dim):\n",
    "            if blankPosition in [(row*dim)+(dim-1)]:\n",
    "                     action.remove('right')\n",
    "        \n",
    "        #check top border\n",
    "        if blankPosition -dim <0:\n",
    "            action.remove('up')\n",
    "            \n",
    "        #check bottom border\n",
    "        if blankPosition +dim >=len(startState):\n",
    "            action.remove(\"down\")        \n",
    "    return action"
   ]
  },
  {
   "cell_type": "markdown",
   "id": "0519552b",
   "metadata": {},
   "source": [
    "Given the following startState, the possible moves should be all the possible movements."
   ]
  },
  {
   "cell_type": "code",
   "execution_count": null,
   "id": "c218b757",
   "metadata": {},
   "outputs": [],
   "source": [
    "startState=[1, 2, 3, 4, 0, 5, 6, 7, 8]\n",
    "actionsF_8p(startState)"
   ]
  },
  {
   "cell_type": "markdown",
   "id": "b119d34b",
   "metadata": {},
   "source": [
    "If the blank space is in one of the borders, for example in the first column, the left movement should not appear in the list of possible actions."
   ]
  },
  {
   "cell_type": "code",
   "execution_count": null,
   "id": "f151af17",
   "metadata": {},
   "outputs": [],
   "source": [
    "startState=[1, 2, 3, 0, 4, 5, 6, 7, 8]\n",
    "actionsF_8p(startState)"
   ]
  },
  {
   "cell_type": "markdown",
   "id": "7adad5f8",
   "metadata": {},
   "source": [
    "The same case if the blank space is in the right border column, the right move is not a valid action."
   ]
  },
  {
   "cell_type": "code",
   "execution_count": null,
   "id": "14c4b82a",
   "metadata": {},
   "outputs": [],
   "source": [
    "startState=[1, 2, 3, 5, 4, 0, 6, 7, 8]\n",
    "actionsF_8p(startState)"
   ]
  },
  {
   "cell_type": "markdown",
   "id": "9b0d9c3f",
   "metadata": {},
   "source": [
    "For the top and bottom borders the behaivor should be the same. For example, if the blank position is in the first row, the up movement should not appear."
   ]
  },
  {
   "cell_type": "code",
   "execution_count": null,
   "id": "c375ebc5",
   "metadata": {},
   "outputs": [],
   "source": [
    "startState=[1, 0, 3, 5, 4, 2, 6, 7, 8]\n",
    "actionsF_8p(startState)"
   ]
  },
  {
   "cell_type": "markdown",
   "id": "51fee4ec",
   "metadata": {},
   "source": [
    "The *takeActionF_8p* function will receive a state and an action, and will generate a new state applying that action to the currect state."
   ]
  },
  {
   "cell_type": "code",
   "execution_count": null,
   "id": "ae5f3f0a",
   "metadata": {},
   "outputs": [],
   "source": [
    "def takeActionF_8p(startState, action):\n",
    "    newState=[]\n",
    "    invalidLeft='false'\n",
    "    invalidRight='false'\n",
    "    invalidDown='false'\n",
    "    invalidUp='false'\n",
    "    #gets puzzle demension\n",
    "    dim=0\n",
    "    length= len(startState)\n",
    "    for c in range(length):\n",
    "        counter=c**2\n",
    "        if counter==length: \n",
    "            dim=c  \n",
    "    \n",
    "    blankPosition=findBlank_8p(startState)\n",
    "    row=blankPosition[0]\n",
    "    column=blankPosition[1]\n",
    "    blankPosition=row*dim+column\n",
    "    \n",
    "    \n",
    "    #check left border\n",
    "    for r in range(dim):\n",
    "        if blankPosition in [r*dim]:\n",
    "            invalidLeft='true'\n",
    "                   \n",
    "\n",
    "    #check right border\n",
    "    for row in range(dim):\n",
    "        if blankPosition in [(r*dim)+(dim-1)]:\n",
    "            invalidRight='true'\n",
    "\n",
    "    #check top border\n",
    "    if blankPosition -dim <0:\n",
    "         invalidUp='true'\n",
    "\n",
    "    #check bottom border\n",
    "    if blankPosition +dim >=len(startState):\n",
    "        invalidDown='true'  \n",
    "    \n",
    "    \n",
    "    pos=0\n",
    "    for x in startState:\n",
    "        newState.append(x)\n",
    "    if action=='left' and invalidLeft=='false':\n",
    "        pos=blankPosition\n",
    "        pos=pos-1\n",
    "        newState[blankPosition]=startState[pos]\n",
    "        newState[pos]=0\n",
    "    if action=='right'and invalidRight=='false':\n",
    "        pos=blankPosition\n",
    "        pos=pos+1\n",
    "        newState[blankPosition]=startState[pos]\n",
    "        newState[pos]=0\n",
    "    if action=='up' and invalidUp=='false':\n",
    "        pos=blankPosition\n",
    "        pos=pos-dim\n",
    "        newState[blankPosition]=startState[pos]\n",
    "        newState[pos]=0\n",
    "    if action=='down' and invalidDown=='false':\n",
    "        pos=blankPosition\n",
    "        pos=pos+dim      \n",
    "        newState[blankPosition]=startState[pos]\n",
    "        newState[pos]=0\n",
    "      \n",
    "    return newState\n"
   ]
  },
  {
   "cell_type": "markdown",
   "id": "53a0b4da",
   "metadata": {},
   "source": [
    "The algorithm will return a new state that will be a direct successor of the given state. In this case, the new state will contain the number 4 in the position 0,1 and the blank position will be 1,1."
   ]
  },
  {
   "cell_type": "code",
   "execution_count": null,
   "id": "fe7b8f77",
   "metadata": {},
   "outputs": [],
   "source": [
    "startState=[1, 0, 3, 5, 4, 2, 6, 7, 8]\n",
    "takeActionF_8p(startState, 'down')"
   ]
  },
  {
   "cell_type": "markdown",
   "id": "6fbd9c1a",
   "metadata": {},
   "source": [
    "If an invalid action is given, the current state with reamin with no changes."
   ]
  },
  {
   "cell_type": "code",
   "execution_count": null,
   "id": "a08d05c0",
   "metadata": {},
   "outputs": [],
   "source": [
    "startState=[1, 0, 3, 5, 4, 2, 6, 7, 8]\n",
    "takeActionF_8p(startState, 'up')"
   ]
  },
  {
   "cell_type": "markdown",
   "id": "42f11802",
   "metadata": {},
   "source": [
    "Solving an 8-puzzle using the *iterativeDeepeningSearch* algorithm"
   ]
  },
  {
   "cell_type": "code",
   "execution_count": null,
   "id": "77d8c4dd",
   "metadata": {},
   "outputs": [],
   "source": [
    "startState = [1, 0, 3, 4, 2, 5, 6, 7, 8]\n",
    "goalState = [1, 2, 3, 4, 0, 5, 6, 7, 8]"
   ]
  },
  {
   "cell_type": "code",
   "execution_count": null,
   "id": "ad0e3d26",
   "metadata": {},
   "outputs": [],
   "source": [
    "path = iterativeDeepeningSearch(startState, goalState, actionsF_8p, takeActionF_8p, 1)\n",
    "path"
   ]
  },
  {
   "cell_type": "markdown",
   "id": "e7dbda8b",
   "metadata": {},
   "source": [
    "Another example that will have a longer solution path."
   ]
  },
  {
   "cell_type": "code",
   "execution_count": null,
   "id": "9a871c73",
   "metadata": {},
   "outputs": [],
   "source": [
    "path = iterativeDeepeningSearch(startState, goalState, actionsF_8p, takeActionF_8p, 20)\n",
    "path"
   ]
  },
  {
   "cell_type": "code",
   "execution_count": null,
   "id": "46639f52",
   "metadata": {},
   "outputs": [],
   "source": [
    "startState='a'\n",
    "goalState='y'"
   ]
  },
  {
   "cell_type": "markdown",
   "id": "774162eb",
   "metadata": {},
   "source": [
    "In this case, the algorithm will return *cutoff* because the goal state is not in levels 0 or 1. \n",
    "\n",
    "\n",
    "***Note that the grader evaluates this scenario and it is showing erro, but it is working if it is tested from here"
   ]
  },
  {
   "cell_type": "code",
   "execution_count": null,
   "id": "33856fea",
   "metadata": {},
   "outputs": [],
   "source": [
    "iterativeDeepeningSearch(startState, goalState, actionsF, takeActionF, 1)"
   ]
  },
  {
   "cell_type": "markdown",
   "id": "65f2f1fe",
   "metadata": {},
   "source": [
    "For a *maxDepth* value of 2, a solution path is returned."
   ]
  },
  {
   "cell_type": "code",
   "execution_count": null,
   "id": "78321511",
   "metadata": {},
   "outputs": [],
   "source": [
    "iterativeDeepeningSearch(startState, goalState, actionsF, takeActionF, 2)"
   ]
  },
  {
   "cell_type": "markdown",
   "id": "8ee77130",
   "metadata": {},
   "source": [
    "If the path between  'b' and 'a'is searched, the result will be"
   ]
  },
  {
   "cell_type": "code",
   "execution_count": null,
   "id": "a36b8333",
   "metadata": {},
   "outputs": [],
   "source": [
    "startState='b'\n",
    "goalState='a'\n",
    "iterativeDeepeningSearch(startState, goalState, actionsF, takeActionF, 1)"
   ]
  },
  {
   "cell_type": "markdown",
   "id": "8c02f4d7",
   "metadata": {},
   "source": [
    "If a non existent node is given as goal state,  the algorithm should return *failure* after searching in all the possible nodes."
   ]
  },
  {
   "cell_type": "code",
   "execution_count": null,
   "id": "fbbb5c2a",
   "metadata": {},
   "outputs": [],
   "source": [
    "startState='a'\n",
    "goalState='v'\n",
    "iterativeDeepeningSearch(startState, goalState, actionsF, takeActionF, 8)"
   ]
  },
  {
   "cell_type": "markdown",
   "id": "a7f1fcd9",
   "metadata": {},
   "source": [
    "Another example:"
   ]
  },
  {
   "cell_type": "code",
   "execution_count": null,
   "id": "9af45ae9",
   "metadata": {},
   "outputs": [],
   "source": [
    "startState = ['_', '_','_', '_', 'x', '_','_','_','_']\n",
    "getPlayerF_TicTacToe(startState)"
   ]
  },
  {
   "cell_type": "markdown",
   "id": "bd469243",
   "metadata": {},
   "source": [
    "The *actionsF_TicTacToe* function will generate a list containning all the available spaces in a certain state.With this positions, the *takeActionF_TicTacToe* function will write a letter 'x' or 'o' depending on who is the current player in the available position. The list with the available positions is in disorder, to avoid generating always the same state."
   ]
  },
  {
   "cell_type": "code",
   "execution_count": null,
   "id": "21091ce6",
   "metadata": {},
   "outputs": [],
   "source": [
    "import random\n",
    "def actionsF_TicTacToe(startState):\n",
    "    player=getPlayerF_TicTacToe(startState)\n",
    "    listActions=[]\n",
    "    for pos in range(len(startState)):\n",
    "        a=startState[pos]\n",
    "        if a=='_':\n",
    "            listActions.append(pos) \n",
    "    random.shuffle(listActions)\n",
    "    return listActions\n",
    "        "
   ]
  },
  {
   "cell_type": "markdown",
   "id": "c9816254",
   "metadata": {},
   "source": [
    "The following state is given to the funtion, and it generated a list of available positions.It can be run several times to see that the generated list do not has the same order.\n"
   ]
  }
 ],
 "metadata": {},
 "nbformat": 4,
 "nbformat_minor": 5
}
