{
 "cells": [
  {
   "cell_type": "code",
   "execution_count": null,
   "id": "9c12933c",
   "metadata": {},
   "outputs": [],
   "source": [
    "import numpy as np\n",
    "from matplotlib import pyplot as plt\n",
    "from IPython.display import HTML\n",
    "%matplotlib inline"
   ]
  },
  {
   "cell_type": "markdown",
   "id": "6543106c",
   "metadata": {},
   "source": [
    "<img src=\"astropy_banner_96.png\"/>\n",
    "\n",
    "# AstroPy: Basic Astronomy tools in Python\n",
    "Karl Kosack (SAp, LEPCHE)"
   ]
  },
  {
   "cell_type": "markdown",
   "id": "af875179",
   "metadata": {},
   "source": [
    "## What is AstroPy?\n",
    "\n",
    "WebSite and Documentation : http://www.astropy.org\n",
    "\n",
    "Previously there were a number of astronomy-realted packages that were scattered throughout the Python world. Generally each had a specific use, and they were not interoperable. \n",
    "\n",
    "<span style=\"color: darkcyan\">Recently, AstroPy changed all that! now there is a **central package with all astronomy-related modules**! It collects the best of what was available, and provides a unified interface. </span>"
   ]
  },
  {
   "cell_type": "code",
   "execution_count": null,
   "id": "e8312ea5",
   "metadata": {},
   "outputs": [],
   "source": [
    "HTML('<iframe src=\"http://docs.astropy.org/en/stable/\" width=800 height=500></iframe>')"
   ]
  },
  {
   "cell_type": "markdown",
   "id": "23075fb7",
   "metadata": {},
   "source": [
    "### What we will cover:\n",
    "\n",
    "* Units and Constants\n",
    "* Coordinates Systems\n",
    "    * spatial \n",
    "    * time\n",
    "* Astronomical Table Access\n",
    "* Astronomical Image Access"
   ]
  },
  {
   "cell_type": "markdown",
   "id": "8b32a1c2",
   "metadata": {},
   "source": [
    "## Units and Constants\n",
    "\n",
    "Very useful when doing computations in Python! Units are **convertable**, **combinable**,  and **propegate automatically**!"
   ]
  },
  {
   "cell_type": "code",
   "execution_count": null,
   "id": "925acd48",
   "metadata": {},
   "outputs": [],
   "source": [
    "from astropy import units as u"
   ]
  },
  {
   "cell_type": "markdown",
   "id": "8ae3c2ee",
   "metadata": {},
   "source": [
    "Defining a quanity that has a unit:"
   ]
  },
  {
   "cell_type": "code",
   "execution_count": null,
   "id": "30293e02",
   "metadata": {},
   "outputs": [],
   "source": [
    "d = 12.3 * u.kpc\n",
    "M = np.linspace( 50,60,10 ) * u.kg\n",
    "\n",
    "print(d)\n",
    "print(M)"
   ]
  },
  {
   "cell_type": "markdown",
   "id": "9d541097",
   "metadata": {},
   "source": [
    "Note that units are associated with a scalar or an NDArray, and are thus efficient (only one per n-dimensional vector)\n",
    "\n",
    "Now let's see the power of units:\n",
    "\n",
    "### Simple Unit Conversion"
   ]
  },
  {
   "cell_type": "code",
   "execution_count": null,
   "id": "23c3d1f0",
   "metadata": {},
   "outputs": [],
   "source": [
    "print( d.to( u.m ) )\n",
    "print( d.to( u.Angstrom ) )\n",
    "print( d.to( u.imperial.foot ) )\n",
    "print( d.to( u.lightyear ) )\n",
    "\n",
    "# can also use a string representation:\n",
    "print(d.to( \"m\" ))"
   ]
  },
  {
   "cell_type": "code",
   "execution_count": null,
   "id": "01438be9",
   "metadata": {},
   "outputs": [],
   "source": [
    "print( d.to( u.kg ) )   # this fails of course! "
   ]
  },
  {
   "cell_type": "markdown",
   "id": "ab9868cb",
   "metadata": {},
   "source": [
    "Getting at the value directly: use the ``value`` property (useful if you need to pass something that has units into a function that doesn't understand units, like for plotting)"
   ]
  },
  {
   "cell_type": "code",
   "execution_count": null,
   "id": "265ec220",
   "metadata": {},
   "outputs": [],
   "source": [
    "print(\"Distance in feet=\", d.to( u.imperial.foot).value)   #strips off any units"
   ]
  },
  {
   "cell_type": "markdown",
   "id": "e725db33",
   "metadata": {},
   "source": [
    "### Composing units"
   ]
  },
  {
   "cell_type": "code",
   "execution_count": null,
   "id": "7df13b88",
   "metadata": {},
   "outputs": [],
   "source": [
    "dNdE = 1e-10 * u.TeV/u.cm**2/u.s\n",
    "print(dNdE)"
   ]
  },
  {
   "cell_type": "code",
   "execution_count": null,
   "id": "4a6f6e42",
   "metadata": {},
   "outputs": [],
   "source": [
    "dNdE   # the IPython Notebook knows how to do it in a nicer way! "
   ]
  },
  {
   "cell_type": "markdown",
   "id": "40a542a3",
   "metadata": {},
   "source": [
    "You can even convert between complex units:"
   ]
  },
  {
   "cell_type": "code",
   "execution_count": null,
   "id": "2efe91ca",
   "metadata": {},
   "outputs": [],
   "source": [
    "print(dNdE.to( u.erg/u.m**2 * u.Hz))\n",
    "print(dNdE.to( \"erg cm^-2 s^-1\"))"
   ]
  },
  {
   "cell_type": "markdown",
   "id": "345e27e8",
   "metadata": {},
   "source": [
    "get the unit string in LaTeX:"
   ]
  },
  {
   "cell_type": "code",
   "execution_count": null,
   "id": "efcdd6f5",
   "metadata": {},
   "outputs": [],
   "source": [
    "print(dNdE.unit.to_string(format='latex'))\n",
    "dNdE.unit   # in notebook, automatically will \"pretty print\""
   ]
  },
  {
   "cell_type": "markdown",
   "id": "0e14d70c",
   "metadata": {},
   "source": [
    "Lots of astonomy-compatible string representations!"
   ]
  },
  {
   "cell_type": "code",
   "execution_count": null,
   "id": "420f8eaa",
   "metadata": {},
   "outputs": [],
   "source": [
    "print(dNdE.unit.to_string( format='vounit' ))  #virtual-observatory complient\n",
    "print(dNdE.unit.to_string( format='fits' ))    # FITS complient\n",
    "print(dNdE.unit.to_string( format='cds' ))     #CDS Strasbourg table complient\n",
    "print(dNdE.unit.to_string( format='console' )) # console pretty-print"
   ]
  },
  {
   "cell_type": "markdown",
   "id": "b4b1c34e",
   "metadata": {},
   "source": [
    "#### Other interesting things you can do:"
   ]
  },
  {
   "cell_type": "code",
   "execution_count": null,
   "id": "2ad997e8",
   "metadata": {},
   "outputs": [],
   "source": [
    "print(dNdE.cgs)\n",
    "print(dNdE.si)\n",
    "print(u.Newton.decompose())"
   ]
  },
  {
   "cell_type": "code",
   "execution_count": null,
   "id": "1a6266f3",
   "metadata": {},
   "outputs": [],
   "source": [
    "u.kg.find_equivalent_units()"
   ]
  },
  {
   "cell_type": "code",
   "execution_count": null,
   "id": "529b8e7d",
   "metadata": {},
   "outputs": [],
   "source": [
    "# How much do I weigh in Solar Masses?\n",
    "(85*u.kg).to( u.M_sun )"
   ]
  },
  {
   "cell_type": "markdown",
   "id": "fb4e56ca",
   "metadata": {},
   "source": [
    "There are also many **CONSTANTS** that are defined in ``astropy.constants``.  Constants are  Quantities that have units units, and also have some extra metadata (a bibliographical reference, and error)"
   ]
  },
  {
   "cell_type": "code",
   "execution_count": null,
   "id": "b569f5f9",
   "metadata": {},
   "outputs": [],
   "source": [
    "nu = np.logspace(1,5,100) * u.Hz\n",
    "Y = 100*(nu/1*u.Hz)**(-2.0)\n",
    "\n",
    "plt.loglog( nu.value, Y.value)\n",
    "plt.xlabel(\"Frequency (Hz)\")"
   ]
  },
  {
   "cell_type": "markdown",
   "id": "4c4d47a5",
   "metadata": {},
   "source": [
    "Let's convert this now from frequency (Hz) to energy (erg)! "
   ]
  },
  {
   "cell_type": "code",
   "execution_count": null,
   "id": "da3c1af7",
   "metadata": {},
   "outputs": [],
   "source": [
    "E = nu.to( u.erg )"
   ]
  },
  {
   "cell_type": "markdown",
   "id": "524e55ac",
   "metadata": {},
   "source": [
    "Of course, that fails, since there is a factor of planck's constant that we need to apply... We could do it using astropy.constants.h, but there's an even better way: **units can have some physics knowledge!**.  This is expressed by giving an *equivalencies* option:"
   ]
  },
  {
   "cell_type": "code",
   "execution_count": null,
   "id": "6f2c5e90",
   "metadata": {},
   "outputs": [],
   "source": [
    "E = nu.to( u.eV, equivalencies=u.spectral() )\n",
    "print(E.unit)"
   ]
  },
  {
   "cell_type": "code",
   "execution_count": null,
   "id": "ef176ccb",
   "metadata": {},
   "outputs": [],
   "source": [
    "plt.loglog( E.value, Y.value )\n",
    "plt.xlabel( \"eV\" )"
   ]
  },
  {
   "cell_type": "code",
   "execution_count": null,
   "id": "bc72acbe",
   "metadata": {},
   "outputs": [],
   "source": [
    "print(dir(u.equivalencies))"
   ]
  },
  {
   "cell_type": "markdown",
   "id": "af17159b",
   "metadata": {},
   "source": [
    "\n",
    "-----------------------------------------\n",
    "\n",
    "## Coordinates and Times\n",
    "Some common task in astronomy are:\n",
    "* convert positions between spatial coordinate systems\n",
    "* lookup the coordinates of an object by name\n",
    "* work with times, and convert them between time representations"
   ]
  },
  {
   "cell_type": "code",
   "execution_count": null,
   "id": "8f50f175",
   "metadata": {},
   "outputs": [],
   "source": [
    "from astropy import coordinates as c\n",
    "from astropy import time as t"
   ]
  },
  {
   "cell_type": "markdown",
   "id": "9bb49991",
   "metadata": {},
   "source": [
    "First, let's get a coordinate object and play with it! (let's start with the cool stuff:)"
   ]
  },
  {
   "cell_type": "code",
   "execution_count": null,
   "id": "e10e2630",
   "metadata": {},
   "outputs": [],
   "source": [
    "crabpos = c.SkyCoord.from_name( \"Crab Nebula\" ) \n",
    "print(crabpos)\n",
    "print(\"--------\")\n",
    "print(crabpos.ra)\n",
    "print(crabpos.ra.deg)\n",
    "print(crabpos.ra.hour)"
   ]
  },
  {
   "cell_type": "markdown",
   "id": "75fb5505",
   "metadata": {},
   "source": [
    "Some cool features of SkyCoords:"
   ]
  },
  {
   "cell_type": "code",
   "execution_count": null,
   "id": "d8bb0bc2",
   "metadata": {},
   "outputs": [],
   "source": [
    "etacarpos = c.SkyCoord.from_name(\"Eta Car\")\n",
    "print(\"Distance from Eta Car to the Crab is: \", etacarpos.separation( crabpos ))"
   ]
  },
  {
   "cell_type": "code",
   "execution_count": null,
   "id": "c126a9b1",
   "metadata": {},
   "outputs": [],
   "source": [
    "print(c.SkyCoord(\"12h16m35s\", \"-10d45m19s\")) #other string formats are automaticaly understood\n",
    "\n",
    "# or we can use values directly:\n",
    "pos1 = c.SkyCoord( 10*u.hour, -20*u.deg )   \n",
    "print(pos1)\n",
    "\n",
    "# let's make one in another frame (default was ICRS, but let's use FK4, i.e. \"B1950\")\n",
    "pos2 = c.SkyCoord( 10*u.hour, -20*u.deg, frame=c.FK4)\n",
    "print(pos2)"
   ]
  },
  {
   "cell_type": "code",
   "execution_count": null,
   "id": "6cddf371",
   "metadata": {},
   "outputs": [],
   "source": [
    "# note that RA/Dec expressed ICRS and FK4 are not the same! \n",
    "# What is the angualr distance between our two coordinates?\n",
    "pos1.separation(pos2)"
   ]
  },
  {
   "cell_type": "code",
   "execution_count": null,
   "id": "d7f26319",
   "metadata": {},
   "outputs": [],
   "source": [
    "print(\"sep in deg:\", pos1.separation(pos2).deg)\n",
    "print(\"sep in rad:\", pos1.separation(pos2).rad)"
   ]
  },
  {
   "cell_type": "markdown",
   "id": "f3a0e238",
   "metadata": {},
   "source": [
    "Let's do some conversion: just use the appriate property:\n",
    "* icrs\n",
    "* fk5\n",
    "* fk4\n",
    "* galactic\n",
    "* galactocentric\n",
    "* altaz (see later...)"
   ]
  },
  {
   "cell_type": "code",
   "execution_count": null,
   "id": "00c17a43",
   "metadata": {},
   "outputs": [],
   "source": [
    "print(\"ICRS:\", pos1.icrs)\n",
    "print(\"GALACTIC:\", pos1.galactic)  # common helper attribute\n",
    "print(\"GALACTIC:\", pos1.transform_to( c.Galactic ))  # more general: transform to a frame\n",
    "print(\"\")\n",
    "print(\"\")\n",
    "print(\"The Crab Nebula is {0:.1f} deg off-plane\"\\\n",
    "    .format(crabpos.galactic.b.deg))"
   ]
  },
  {
   "cell_type": "markdown",
   "id": "791bb00e",
   "metadata": {},
   "source": [
    "### More complex conversion: go from RA/Dec to Alt/Az! "
   ]
  },
  {
   "cell_type": "code",
   "execution_count": null,
   "id": "e195632c",
   "metadata": {},
   "outputs": [],
   "source": [
    "crab = c.SkyCoord.from_name(\"Crab Nebula\")\n",
    "\n",
    "# need to know two pieces of info: Location on Earth + time!\n",
    "paris = c.EarthLocation( lat=48.8567*u.deg, lon=2.3508*u.deg )\n",
    "print(paris)\n",
    "\n",
    "now = t.Time.now()  # gets the current time\n",
    "print(now)\n",
    "\n",
    "crab_altaz = crab.transform_to( c.AltAz(obstime=now, location=paris) )\n",
    "\n",
    "print(\"CRAB IS AT ELEVATION: {0:.3f} deg , AZIMUTH: {1:.3f} deg\"\\\n",
    "    .format( crab_altaz.alt.deg, crab_altaz.az.deg))"
   ]
  },
  {
   "cell_type": "markdown",
   "id": "d5c07ff1",
   "metadata": {},
   "source": [
    "> NOTE: you can even give an atmospheric pressure to the AltAz frame to get even more accuracy with refraction corrections!"
   ]
  },
  {
   "cell_type": "markdown",
   "id": "f70bf3f2",
   "metadata": {},
   "source": [
    "### Time Conversion\n",
    "Times are similar to SkyCoordinates, so we won't go into as much detail.  \n"
   ]
  },
  {
   "cell_type": "markdown",
   "id": "e31bd129",
   "metadata": {},
   "source": [
    "\n",
    "-----------------------------------\n",
    "\n",
    "## Table Access\n",
    "\n",
    "One of the most powerful tools in AstroPy is the table access library.  It allows one to work with tables in many different formats with ease! You don't even normally have to care what the format is.\n",
    "\n",
    "### reading tables"
   ]
  },
  {
   "cell_type": "code",
   "execution_count": null,
   "id": "8bd80c71",
   "metadata": {},
   "outputs": [],
   "source": [
    "from astropy import table\n",
    "\n",
    "# let's open an existing FITS table:\n",
    "\n",
    "atnf = table.Table.read( \"atnf_PSR_07.fits\" )\n"
   ]
  },
  {
   "cell_type": "code",
   "execution_count": null,
   "id": "b41f59b7",
   "metadata": {},
   "outputs": [],
   "source": [
    "atnf"
   ]
  },
  {
   "cell_type": "code",
   "execution_count": null,
   "id": "d11454db",
   "metadata": {},
   "outputs": [],
   "source": [
    "print(\"COLUMNS:\",atnf.colnames)\n",
    "print(\"\")\n",
    "print(\"HEADERS:\")\n",
    "for key in atnf.meta:   # headers are key=value in an OrderedDict\n",
    "    print(\"    -> \",key,\"=\",atnf.meta[key])"
   ]
  },
  {
   "cell_type": "code",
   "execution_count": null,
   "id": "2348c1cd",
   "metadata": {},
   "outputs": [],
   "source": [
    "atnf['NAME']"
   ]
  },
  {
   "cell_type": "code",
   "execution_count": null,
   "id": "600bc371",
   "metadata": {},
   "outputs": [],
   "source": [
    "# make a smaller table from this table, with only the cols you want:\n",
    "small = atnf['NAME','RA_OBJ','DEC_OBJ']\n",
    "small"
   ]
  },
  {
   "cell_type": "markdown",
   "id": "1c4c6701",
   "metadata": {},
   "source": [
    "The display in the Notebook is nice, but we can also do it fancier:"
   ]
  },
  {
   "cell_type": "code",
   "execution_count": null,
   "id": "922b391c",
   "metadata": {},
   "outputs": [],
   "source": [
    "atnf.show_in_browser( jsviewer=True )"
   ]
  },
  {
   "cell_type": "markdown",
   "id": "f782885c",
   "metadata": {},
   "source": [
    "> Note that it is just concidence that we loaded a FITS table. We will see later we can load   >  tables in nearly any format! ASCII (multiple formats), HDF5, HTML, LATEX, etc. Even very  >astro-specific formats like **ascii.sextractor**.\n",
    "\n",
    "###Tables and Columns act like NumPy NDArrays! "
   ]
  },
  {
   "cell_type": "code",
   "execution_count": null,
   "id": "7308fc33",
   "metadata": {},
   "outputs": [],
   "source": [
    "print(atnf['EDOTD2'][10:15]) # just entries 10 to 15\n",
    "print(atnf[10:15]) # just entries 10 to 15"
   ]
  },
  {
   "cell_type": "code",
   "execution_count": null,
   "id": "03ea66b5",
   "metadata": {},
   "outputs": [],
   "source": [
    "# you can even get at just the data exactly as NumPy array:\n",
    "atnf['EDOTD2'].data"
   ]
  },
  {
   "cell_type": "markdown",
   "id": "cce46329",
   "metadata": {},
   "source": [
    "so you can use the same slicing features of NumPy to make selections of your data!"
   ]
  },
  {
   "cell_type": "code",
   "execution_count": null,
   "id": "c5cc56df",
   "metadata": {},
   "outputs": [],
   "source": [
    "# find just the sources that have a spin-down flux above 1e36:\n",
    "selected = atnf[ atnf['EDOTD2'] > 1e36 ]\n",
    "selected"
   ]
  },
  {
   "cell_type": "code",
   "execution_count": null,
   "id": "d3e15839",
   "metadata": {},
   "outputs": [],
   "source": [
    "print(\"The following {0} are very powerful pulsars!\".format( len(selected) ))\n",
    "print(selected['NAME'])"
   ]
  },
  {
   "cell_type": "markdown",
   "id": "6a1cd643",
   "metadata": {},
   "source": [
    "### writing tables\n",
    "Let's now write the selected pulsars to **another FITS file**!"
   ]
  },
  {
   "cell_type": "code",
   "execution_count": null,
   "id": "a70c20de",
   "metadata": {},
   "outputs": [],
   "source": [
    "selected.write(\"selected.fits\")\n",
    "#that's it!\n",
    "\n",
    "#DEMO: open that fits file in a terminal..."
   ]
  },
  {
   "cell_type": "markdown",
   "id": "f3def8fe",
   "metadata": {},
   "source": [
    "But that's not all: we have **many formats** to choose from:\n",
    "\n",
    "http://docs.astropy.org/en/stable/io/unified.html#built-in-table-readers-writers\n"
   ]
  },
  {
   "cell_type": "code",
   "execution_count": null,
   "id": "78341099",
   "metadata": {},
   "outputs": [],
   "source": [
    "selected.write(\"selected.tex\", format=\"latex\") # publication ready!\n",
    "selected.write(\"snrs.h5\", \"/SNRs\", format=\"hdf5\") # some need extra arguments\n",
    "\n",
    "! cat selected.tex\n"
   ]
  },
  {
   "cell_type": "markdown",
   "id": "22c72dd5",
   "metadata": {},
   "source": [
    "note that you can **read tables from URLs** too:\n",
    "    "
   ]
  },
  {
   "cell_type": "code",
   "execution_count": null,
   "id": "a5db4820",
   "metadata": {},
   "outputs": [],
   "source": [
    "snrs = table.Table.read(\"ftp://cdsarc.u-strasbg.fr/pub/cats/VII/253/snrs.dat\",\n",
    "                         readme=\"ftp://cdsarc.u-strasbg.fr/pub/cats/VII/253/ReadMe\",\n",
    "                         format=\"ascii.cds\")\n",
    "\n",
    "print(\"COLS: \",snrs.colnames)\n",
    "snrs[:5]"
   ]
  },
  {
   "cell_type": "markdown",
   "id": "ff47091e",
   "metadata": {},
   "source": [
    "### Making a table from scratch \n",
    "\n",
    "We don't always want to load a table to work with it.. SOmetimes we want to generate some data and write it to a table"
   ]
  },
  {
   "cell_type": "code",
   "execution_count": null,
   "id": "7eb17ccc",
   "metadata": {},
   "outputs": [],
   "source": [
    "a = [1, 4, 5]\n",
    "b = [2.0, 5.0, 8.2]\n",
    "c = ['x', 'y', 'z']\n",
    "t = table.Table([a, b, c], names=('a', 'b', 'c'), meta={'name': 'first table'})\n",
    "print(t)\n",
    "t.meta  # header keywords"
   ]
  },
  {
   "cell_type": "code",
   "execution_count": null,
   "id": "0b7acbf1",
   "metadata": {},
   "outputs": [],
   "source": [
    "table.Table?"
   ]
  },
  {
   "cell_type": "markdown",
   "id": "9be0687f",
   "metadata": {},
   "source": [
    "### Cool stuff: that I don't have time to show you\n",
    "* joining tables\n",
    "* fancy masking tables\n",
    "* stacking tables\n"
   ]
  },
  {
   "cell_type": "markdown",
   "id": "3e785d61",
   "metadata": {},
   "source": [
    "\n",
    "---------------------------\n",
    "\n",
    "\n",
    "## FITS Image access\n",
    "\n",
    "Ok, we can access FITS tables (and other kinds as well), but what about FITS images and datacubes?  For taht we need to go to the lower-level fits interface.  \n",
    "\n",
    "SOme of you make have used ``pyfits`` in the past. Development been moved ``astropy.io.fits`` (pyfits is not longer supported)"
   ]
  },
  {
   "cell_type": "code",
   "execution_count": null,
   "id": "54d13bd2",
   "metadata": {},
   "outputs": [],
   "source": [
    "from astropy.io import fits\n"
   ]
  },
  {
   "cell_type": "code",
   "execution_count": null,
   "id": "e50a650a",
   "metadata": {},
   "outputs": [],
   "source": [
    "fitsfile = fits.open(\"vela_2.0-8.0_flux.fits\")\n",
    "\n",
    "fitsfile.info()\n"
   ]
  },
  {
   "cell_type": "code",
   "execution_count": null,
   "id": "36df6017",
   "metadata": {},
   "outputs": [],
   "source": [
    "image = fitsfile[0] # first HDU (there's only one in this file, but may be more)"
   ]
  },
  {
   "cell_type": "code",
   "execution_count": null,
   "id": "cb4d2d99",
   "metadata": {},
   "outputs": [],
   "source": [
    "image.header"
   ]
  },
  {
   "cell_type": "markdown",
   "id": "8fb31546",
   "metadata": {},
   "source": [
    "get a header keyword:"
   ]
  },
  {
   "cell_type": "code",
   "execution_count": null,
   "id": "7294a759",
   "metadata": {},
   "outputs": [],
   "source": [
    "print(image.header['MJD_OBS'])"
   ]
  },
  {
   "cell_type": "code",
   "execution_count": null,
   "id": "a41d01e9",
   "metadata": {},
   "outputs": [],
   "source": [
    "image.data"
   ]
  },
  {
   "cell_type": "markdown",
   "id": "18bae248",
   "metadata": {},
   "source": [
    "It's just a **NumPy** ``NDArray`` again!  Easy to work with..."
   ]
  },
  {
   "cell_type": "code",
   "execution_count": null,
   "id": "8fbde243",
   "metadata": {},
   "outputs": [],
   "source": [
    "plt.imshow( image.data, origin='lower' )\n",
    "plt.colorbar()"
   ]
  },
  {
   "cell_type": "code",
   "execution_count": null,
   "id": "44a60171",
   "metadata": {},
   "outputs": [],
   "source": [
    "print(\"Value Range: \",image.data.min(), image.data.max())"
   ]
  },
  {
   "cell_type": "markdown",
   "id": "204c242d",
   "metadata": {},
   "source": [
    "Let's scale the plot nicer by taking the SQRT and changing the min/max values"
   ]
  },
  {
   "cell_type": "code",
   "execution_count": null,
   "id": "49ddd679",
   "metadata": {},
   "outputs": [],
   "source": [
    "obs = t.Time( \"2015-10-11 15:17:45.3\", format=\"iso\", scale=\"utc\")\n",
    "print(obs)\n",
    "print(obs.mjd)  # Modified Julian Day\n",
    "print(obs.gps)  # GPS time\n",
    "print(obs.unix) # UNIX timestamp\n",
    "print(obs.iso)  # ISO string\n",
    "print(obs.isot) # ISO string with T\n",
    "print(obs.tt)   # Terrestrial Time\n",
    "print(obs.tai)  # International atomic time\n",
    "print(obs.datetime) # python datetime object\n",
    "# etc..."
   ]
  },
  {
   "cell_type": "markdown",
   "id": "29059fe1",
   "metadata": {},
   "source": [
    "How about differences?"
   ]
  },
  {
   "cell_type": "code",
   "execution_count": null,
   "id": "6c9aa17f",
   "metadata": {},
   "outputs": [],
   "source": [
    "plt.imshow( np.sqrt(image.data), vmin=0, vmax=np.sqrt(0.3e-5), origin='lower' )\n",
    "plt.colorbar()"
   ]
  },
  {
   "cell_type": "code",
   "execution_count": null,
   "id": "ea6170e0",
   "metadata": {},
   "outputs": [],
   "source": [
    "clip = image.data[100:300,100:300]\n"
   ]
  },
  {
   "cell_type": "markdown",
   "id": "c95a42f8",
   "metadata": {},
   "source": [
    "####Basic Image Smoothing"
   ]
  },
  {
   "cell_type": "code",
   "execution_count": null,
   "id": "b5805c98",
   "metadata": {},
   "outputs": [],
   "source": [
    "from astropy import convolution as conv\n",
    "from astropy import visualization as vis\n",
    "from astropy.visualization.mpl_normalize import ImageNormalize\n",
    "\n",
    "# gaussian-smooth the image with a std of 8.0 pixelsl\n",
    "gauss = conv.Gaussian2DKernel( 8.0 )\n",
    "smooth = conv.convolve_fft( clip, gauss ) \n",
    "plt.imshow( np.sqrt(smooth), vmin=0, vmax=np.sqrt(0.3e-5), origin='lower' )"
   ]
  },
  {
   "cell_type": "markdown",
   "id": "ffe3c049",
   "metadata": {},
   "source": [
    "#### Fancier image scaling/plotting (like DS9)"
   ]
  },
  {
   "cell_type": "code",
   "execution_count": null,
   "id": "b80b5f25",
   "metadata": {},
   "outputs": [],
   "source": [
    "stretch =  vis.ContrastBiasStretch(0.2,0.9)  # there are many other types\n",
    "interval = vis.PercentileInterval(95.0)   # many other types too\n",
    "\n",
    "limits = interval.get_limits( image.data )\n",
    "norm = ImageNormalize( vmin=limits[0], vmax=limits[1], \n",
    "                        stretch=stretch, clip=False )\n",
    "\n",
    "fig, ax = plt.subplots(1,2)\n",
    "im1 = ax[0].imshow( clip, norm=norm, origin='lower' )\n",
    "im2 = ax[1].imshow( smooth, norm=norm, origin='lower' )"
   ]
  },
  {
   "cell_type": "code",
   "execution_count": null,
   "id": "2e466764",
   "metadata": {},
   "outputs": [],
   "source": [
    "R = fits.open( \"casa_0.5-1.5keV.fits\" )[0].data \n",
    "G = fits.open( \"casa_1.5-3.0keV.fits\" )[0].data\n",
    "B = fits.open( \"casa_4.0-6.0keV.fits\" )[0].data\n",
    "\n",
    "plt.hot()\n",
    "plt.figure( figsize=(13,3) )\n",
    "plt.subplot( 1,3,1 )\n",
    "plt.imshow( R, origin='lower', vmax=10 )\n",
    "plt.subplot( 1,3,2 )\n",
    "plt.imshow( G, origin='lower', vmax=10)\n",
    "plt.subplot( 1,3,3 )\n",
    "plt.imshow( B, origin='lower',vmax=10 )\n"
   ]
  },
  {
   "cell_type": "code",
   "execution_count": null,
   "id": "0420d03c",
   "metadata": {},
   "outputs": [],
   "source": [
    "stacked = np.array( (R/R.max(),G/G.max(),B/B.max()) ).T \n",
    "print(stacked.shape)"
   ]
  },
  {
   "cell_type": "markdown",
   "id": "b6d99017",
   "metadata": {},
   "source": [
    "**note:**\n",
    "  - we took the Transpose to make it 1024 x 1024 x 3 , rather than 3 x 1024 x 1024\n",
    "  - we did some division since RGB images must be in the range (0,1) for each plane \n",
    "  \n",
    "Now, let's plot it! **imshow** understands RGB images if they are a NxMx3 NDArray"
   ]
  },
  {
   "cell_type": "code",
   "execution_count": null,
   "id": "4da9fae9",
   "metadata": {},
   "outputs": [],
   "source": [
    "t0 = t.Time( \"2016-01-01\" ) # defaults to ISO UTC\n",
    "t1 = t.Time.now()\n",
    "\n",
    "diff = t1-t0\n",
    "diff"
   ]
  },
  {
   "cell_type": "code",
   "execution_count": null,
   "id": "6b9d56fd",
   "metadata": {},
   "outputs": [],
   "source": [
    "print(\"time since {0} is {1} seconds\".format( t0, diff.sec))"
   ]
  },
  {
   "cell_type": "code",
   "execution_count": null,
   "id": "10aee0c4",
   "metadata": {},
   "outputs": [],
   "source": [
    "# Generally it's good to work with vectors of times, since it's faster.\n",
    "# let's make a time vector and add some times\n",
    "\n",
    "t0 = t.Time('1999-01-01T00:00:00.123456789')\n",
    "dt = t.TimeDelta( 1*u.day )\n",
    "deltas = dt * np.linspace(0.,1.,12)\n",
    "\n",
    "times = t0 + deltas\n",
    "print(times.iso)"
   ]
  },
  {
   "cell_type": "code",
   "execution_count": null,
   "id": "96881c0d",
   "metadata": {},
   "outputs": [],
   "source": [
    "t0 = t.Time('1999-01-01T00:00:00.123456789')\n",
    "dt = t.TimeDelta( 1*u.minute )\n",
    "deltas = dt * np.linspace(0.,1500,100)\n",
    "times = t0 + deltas\n",
    "\n",
    "crab_altaz = crab.transform_to( c.AltAz(obstime=times, location=paris) )\n",
    "\n",
    "plt.plot( times.jd, crab_altaz.alt )\n",
    "plt.ylabel(\"Altitude of Crab\")\n"
   ]
  },
  {
   "cell_type": "code",
   "execution_count": null,
   "id": "dbf1bb52",
   "metadata": {},
   "outputs": [],
   "source": [
    "from astropy import constants"
   ]
  },
  {
   "cell_type": "code",
   "execution_count": null,
   "id": "38ed851d",
   "metadata": {},
   "outputs": [],
   "source": [
    "print( constants.M_sun )"
   ]
  },
  {
   "cell_type": "code",
   "execution_count": null,
   "id": "266844c4",
   "metadata": {},
   "outputs": [],
   "source": [
    "print(constants.R_jup)"
   ]
  },
  {
   "cell_type": "code",
   "execution_count": null,
   "id": "cb08a498",
   "metadata": {},
   "outputs": [],
   "source": [
    "print(\"Jupiter's radius is\",constants.R_jup.to( u.km ))\n",
    "print(\"Jupiter is\",constants.R_jup/constants.R_earth,\" x the radius of earth\")"
   ]
  },
  {
   "cell_type": "markdown",
   "id": "4e2280ed",
   "metadata": {},
   "source": [
    "### Advanced unit conversion:"
   ]
  }
 ],
 "metadata": {},
 "nbformat": 4,
 "nbformat_minor": 5
}
