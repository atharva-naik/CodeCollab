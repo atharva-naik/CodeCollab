{
 "cells": [
  {
   "cell_type": "markdown",
   "id": "b2f705dc",
   "metadata": {},
   "source": [
    "# Lab 1a. Arrays\n",
    "Probability and Statistics, Spring 2017    \n",
    "Chanh Nguyen 1504202   \n",
    "Helsinki Metropolia University of Applied Sciences\n",
    "\n",
    "Book: Johansson. (2015). [Numerical Python: A Practical Techniques Approach For Industry.](https://metropolia.finna.fi/Record/nelli15.3710000000486209)"
   ]
  },
  {
   "cell_type": "markdown",
   "id": "ef64c7e4",
   "metadata": {},
   "source": [
    "## Chapter 2. Vectors, Matrices and Multidimensional Arrays"
   ]
  },
  {
   "cell_type": "markdown",
   "id": "d5772469",
   "metadata": {},
   "source": [
    "###### Import numerical python library and refer it as np."
   ]
  },
  {
   "cell_type": "code",
   "execution_count": null,
   "id": "857ed47a",
   "metadata": {},
   "outputs": [],
   "source": [
    "import numpy as np\n",
    "%pylab inline"
   ]
  },
  {
   "cell_type": "markdown",
   "id": "118e765a",
   "metadata": {},
   "source": [
    "###### Create a numerical array having the values: `1, 3, 3, 4, 2, 2, 5, 6, 9'"
   ]
  },
  {
   "cell_type": "code",
   "execution_count": null,
   "id": "ea417042",
   "metadata": {},
   "outputs": [],
   "source": [
    "x = array([1, 3, 3, 4, 2, 2, 5, 6, 7])\n",
    "x"
   ]
  },
  {
   "cell_type": "markdown",
   "id": "9fd61709",
   "metadata": {},
   "source": [
    "###### Find the dimensions, shape, size, data type and number of bytes in the array."
   ]
  },
  {
   "cell_type": "code",
   "execution_count": null,
   "id": "059ec34f",
   "metadata": {},
   "outputs": [],
   "source": [
    "print('The dimensions is: '+str(x.ndim))\n",
    "print('The shape is: '+str(x.shape))\n",
    "print('The size is: '+str(x.size))\n",
    "print('The data type is: '+str(x.dtype))\n",
    "print('The number of bytes: '+str(x.nbytes))"
   ]
  },
  {
   "cell_type": "markdown",
   "id": "bf64ee63",
   "metadata": {},
   "source": [
    "###### Create an array of of shape (100,1) filled with \n",
    "\n",
    "a) zeros,    \n",
    "b) ones,    \n",
    "c) value of 3.14.   "
   ]
  },
  {
   "cell_type": "code",
   "execution_count": null,
   "id": "1de54b07",
   "metadata": {},
   "outputs": [],
   "source": [
    "a = zeros((100,))\n",
    "print('a) Array of shape (100,1) filled with zeros:\\n'+str(a)+'\\n')\n",
    "b = empty(100)\n",
    "b.fill(1)\n",
    "print('b) Array of shape (100,1) filled with ones:\\n'+str(b)+'\\n')\n",
    "c = zeros((100,))\n",
    "c.fill(3.14)\n",
    "print('c) Array of shape (100,1) filled with value of 3.14:\\n'+str(c)+'\\n')"
   ]
  },
  {
   "cell_type": "markdown",
   "id": "8ece7d25",
   "metadata": {},
   "source": [
    "###### Create an array having numbers from 1 to 100."
   ]
  },
  {
   "cell_type": "code",
   "execution_count": null,
   "id": "9c94f4ea",
   "metadata": {},
   "outputs": [],
   "source": [
    "k = arange(0,1.05,.05)\n",
    "k"
   ]
  },
  {
   "cell_type": "markdown",
   "id": "df8b7ea1",
   "metadata": {},
   "source": [
    "###### Calculate the sine of each element in the previous exercise."
   ]
  },
  {
   "cell_type": "code",
   "execution_count": null,
   "id": "27a7fec1",
   "metadata": {},
   "outputs": [],
   "source": [
    "sin(k)"
   ]
  },
  {
   "cell_type": "markdown",
   "id": "21e28f5b",
   "metadata": {},
   "source": [
    "###### Calculate the square root of each element."
   ]
  },
  {
   "cell_type": "code",
   "execution_count": null,
   "id": "bfc6e47b",
   "metadata": {},
   "outputs": [],
   "source": [
    "k**2"
   ]
  },
  {
   "cell_type": "markdown",
   "id": "31e21e45",
   "metadata": {},
   "source": [
    "###### Calculate $y=3x^2 - 5x + 3$, when x varies from -5 to 5 with stepsize of 0.5"
   ]
  },
  {
   "cell_type": "code",
   "execution_count": null,
   "id": "64803824",
   "metadata": {},
   "outputs": [],
   "source": [
    "x = arange(-5,5,.5)\n",
    "y = 3*x**2-5*x+3\n",
    "y"
   ]
  },
  {
   "cell_type": "markdown",
   "id": "40e57131",
   "metadata": {},
   "source": [
    "###### Convert the values of the previous exercise to the closest integer."
   ]
  },
  {
   "cell_type": "code",
   "execution_count": null,
   "id": "fa608393",
   "metadata": {},
   "outputs": [],
   "source": [
    "around(y)"
   ]
  },
  {
   "cell_type": "code",
   "execution_count": null,
   "id": "1fe5bf60",
   "metadata": {},
   "outputs": [],
   "source": [
    "l = array([1,3,3,4,2,2,5,6,9])\n",
    "l"
   ]
  },
  {
   "cell_type": "markdown",
   "id": "b6ae8b28",
   "metadata": {},
   "source": [
    "###### Calculate the mean and standard deviation of the array"
   ]
  },
  {
   "cell_type": "code",
   "execution_count": null,
   "id": "50055147",
   "metadata": {},
   "outputs": [],
   "source": [
    "d = arange(1,101,1)\n",
    "d"
   ]
  },
  {
   "cell_type": "markdown",
   "id": "d251da4f",
   "metadata": {},
   "source": [
    "###### Create an array having number from 1.0 to 3.0 with step size of 0.1"
   ]
  },
  {
   "cell_type": "code",
   "execution_count": null,
   "id": "6839eb1b",
   "metadata": {},
   "outputs": [],
   "source": [
    "e = arange(1.,3.1,0.1)\n",
    "e"
   ]
  },
  {
   "cell_type": "markdown",
   "id": "76712eb4",
   "metadata": {},
   "source": [
    "###### Create an array having 10 evenly spaced value between 1.0 and 7.2."
   ]
  },
  {
   "cell_type": "code",
   "execution_count": null,
   "id": "0a684f7e",
   "metadata": {},
   "outputs": [],
   "source": [
    "mean(l), std(l)"
   ]
  },
  {
   "cell_type": "markdown",
   "id": "386633be",
   "metadata": {},
   "source": [
    "###### Find the minimum, the maximum, and the median values of the array."
   ]
  },
  {
   "cell_type": "code",
   "execution_count": null,
   "id": "c68645ef",
   "metadata": {},
   "outputs": [],
   "source": [
    "f = linspace(1.,7.2,10)\n",
    "f"
   ]
  },
  {
   "cell_type": "markdown",
   "id": "2e53a1f6",
   "metadata": {},
   "source": [
    "###### What is the value of the 5th element in the array created in previous exercise?"
   ]
  },
  {
   "cell_type": "code",
   "execution_count": null,
   "id": "2524544e",
   "metadata": {},
   "outputs": [],
   "source": [
    "f[4]"
   ]
  },
  {
   "cell_type": "markdown",
   "id": "31268322",
   "metadata": {},
   "source": [
    "###### Select the elements from 5 to 7 from the array."
   ]
  },
  {
   "cell_type": "code",
   "execution_count": null,
   "id": "954d1eb2",
   "metadata": {},
   "outputs": [],
   "source": [
    "f[5:8]"
   ]
  },
  {
   "cell_type": "markdown",
   "id": "63aa44eb",
   "metadata": {},
   "source": [
    "###### Select two last elements from the array."
   ]
  },
  {
   "cell_type": "code",
   "execution_count": null,
   "id": "e5e39cad",
   "metadata": {},
   "outputs": [],
   "source": [
    "f[f.size-2:]"
   ]
  },
  {
   "cell_type": "markdown",
   "id": "e82e7584",
   "metadata": {},
   "source": [
    "###### Create a 10 x 10 array filled with zeros."
   ]
  },
  {
   "cell_type": "code",
   "execution_count": null,
   "id": "20ea80c4",
   "metadata": {},
   "outputs": [],
   "source": [
    "g = zeros((10,10))\n",
    "g"
   ]
  },
  {
   "cell_type": "markdown",
   "id": "eb6b436c",
   "metadata": {},
   "source": [
    "###### Replace the values with values from 1 to 100 in the previous array."
   ]
  },
  {
   "cell_type": "code",
   "execution_count": null,
   "id": "14ece946",
   "metadata": {},
   "outputs": [],
   "source": [
    "g = arange(1,101,1).reshape(10,10)\n",
    "g"
   ]
  },
  {
   "cell_type": "markdown",
   "id": "afbc551a",
   "metadata": {},
   "source": [
    "###### Clear (change the values to zero) the 3rd row in the array."
   ]
  },
  {
   "cell_type": "code",
   "execution_count": null,
   "id": "6bd10f08",
   "metadata": {},
   "outputs": [],
   "source": [
    "g[2]=0\n",
    "g"
   ]
  },
  {
   "cell_type": "markdown",
   "id": "56d26700",
   "metadata": {},
   "source": [
    "###### Clear the 7th column in the array"
   ]
  },
  {
   "cell_type": "code",
   "execution_count": null,
   "id": "3fd422d6",
   "metadata": {},
   "outputs": [],
   "source": [
    "for i in range(10): g[i][6]=0\n",
    "g"
   ]
  },
  {
   "cell_type": "markdown",
   "id": "81ddb00c",
   "metadata": {},
   "source": [
    "###### Create and array having the values `1, 3, 3, 5, 4, 2, 7, 9`"
   ]
  },
  {
   "cell_type": "code",
   "execution_count": null,
   "id": "78bd96cf",
   "metadata": {},
   "outputs": [],
   "source": [
    "h = array([1,3,3,5,4,2,7,9])\n",
    "h"
   ]
  },
  {
   "cell_type": "markdown",
   "id": "5e10e83f",
   "metadata": {},
   "source": [
    "###### Find all values in the array being greater than 4."
   ]
  },
  {
   "cell_type": "code",
   "execution_count": null,
   "id": "c01949b1",
   "metadata": {},
   "outputs": [],
   "source": [
    "min(l), max(l), median(l)"
   ]
  },
  {
   "cell_type": "markdown",
   "id": "54d60640",
   "metadata": {},
   "source": [
    "###### Find the index for the minimum value."
   ]
  },
  {
   "cell_type": "code",
   "execution_count": null,
   "id": "0e5fed2e",
   "metadata": {},
   "outputs": [],
   "source": [
    "where(l == min(l))"
   ]
  },
  {
   "cell_type": "markdown",
   "id": "2866dfbe",
   "metadata": {},
   "source": [
    "###### Find the index for the maximum value."
   ]
  },
  {
   "cell_type": "code",
   "execution_count": null,
   "id": "ca10daa3",
   "metadata": {},
   "outputs": [],
   "source": [
    "where(l == max(l))"
   ]
  },
  {
   "cell_type": "markdown",
   "id": "375eb026",
   "metadata": {},
   "source": [
    "##### Sum all elements together."
   ]
  },
  {
   "cell_type": "code",
   "execution_count": null,
   "id": "764294f5",
   "metadata": {},
   "outputs": [],
   "source": [
    "sum(l)"
   ]
  },
  {
   "cell_type": "markdown",
   "id": "59d76b00",
   "metadata": {},
   "source": [
    "###### Check if all elements are less than 9."
   ]
  },
  {
   "cell_type": "code",
   "execution_count": null,
   "id": "48a95c7b",
   "metadata": {},
   "outputs": [],
   "source": [
    "h[h>4]"
   ]
  },
  {
   "cell_type": "markdown",
   "id": "821fe87f",
   "metadata": {},
   "source": [
    "###### Change all the value being less or equal to 3 to value `nan`"
   ]
  },
  {
   "cell_type": "code",
   "execution_count": null,
   "id": "e57caded",
   "metadata": {},
   "outputs": [],
   "source": [
    "h = where(h<=3, nan, h)\n",
    "h"
   ]
  },
  {
   "cell_type": "markdown",
   "id": "d9e78f9d",
   "metadata": {},
   "source": [
    "###### Create two arrays, the first having values `1, 3, 5` and the second `2, 4, 6`"
   ]
  },
  {
   "cell_type": "code",
   "execution_count": null,
   "id": "a93e1daf",
   "metadata": {},
   "outputs": [],
   "source": [
    "i = array([1,3,5])\n",
    "j = array([2,4,6])\n",
    "i,j"
   ]
  },
  {
   "cell_type": "markdown",
   "id": "11dc1ccc",
   "metadata": {},
   "source": [
    "###### Combine the arrays horizontally (e.g. make a one long row)."
   ]
  },
  {
   "cell_type": "code",
   "execution_count": null,
   "id": "b5960a6b",
   "metadata": {},
   "outputs": [],
   "source": [
    "where(l >= 9)"
   ]
  },
  {
   "cell_type": "markdown",
   "id": "5833cce4",
   "metadata": {},
   "source": [
    "###### Check if any of the elements is equal to 5"
   ]
  },
  {
   "cell_type": "code",
   "execution_count": null,
   "id": "a5fa689b",
   "metadata": {},
   "outputs": [],
   "source": [
    "where(l == 5)"
   ]
  },
  {
   "cell_type": "markdown",
   "id": "58e9f4b1",
   "metadata": {},
   "source": [
    "###### Sort the values in array in descending order (from maximum to minimum)."
   ]
  },
  {
   "cell_type": "code",
   "execution_count": null,
   "id": "14100bc8",
   "metadata": {},
   "outputs": [],
   "source": [
    "sort(l)[::-1]"
   ]
  },
  {
   "cell_type": "markdown",
   "id": "6d2d9ca2",
   "metadata": {},
   "source": [
    "Multiply the following matrices using the matrix multiplication (dot-product).   \n",
    "$ A= \\begin{bmatrix}\n",
    "1 & 2 \\\\\n",
    "5 & 3\\\\\n",
    "\\end{bmatrix}$ and \n",
    "$x = \\begin{bmatrix}\n",
    "-2 \\\\ \n",
    "3\\\\ \n",
    "\\end{bmatrix}$"
   ]
  },
  {
   "cell_type": "code",
   "execution_count": null,
   "id": "f131e2cd",
   "metadata": {},
   "outputs": [],
   "source": [
    "A = array([[1,3],[5,3]])\n",
    "x = array([-2,3])\n",
    "np.dot([2j, 3j], [2j, 3j])"
   ]
  },
  {
   "cell_type": "markdown",
   "id": "fd04bf67",
   "metadata": {},
   "source": [
    "###### Import from `numpy.linalg` module the functions `inv` and `solve`"
   ]
  },
  {
   "cell_type": "code",
   "execution_count": null,
   "id": "5d9df105",
   "metadata": {},
   "outputs": [],
   "source": [
    "from numpy.linalg import inv, solve"
   ]
  },
  {
   "cell_type": "markdown",
   "id": "01fb9f98",
   "metadata": {},
   "source": [
    "Find the inverse of matrix A."
   ]
  },
  {
   "cell_type": "code",
   "execution_count": null,
   "id": "f8290d64",
   "metadata": {},
   "outputs": [],
   "source": [
    "inv(A)"
   ]
  },
  {
   "cell_type": "markdown",
   "id": "3450fe15",
   "metadata": {},
   "source": [
    "Using `solve` function solve the system of equations \n",
    "$\\begin{bmatrix}1 & 2 \\\\ 5 & 3\\end{bmatrix}\n",
    "\\begin{bmatrix} x_1 \\\\ x_2 \\end{bmatrix} = \\begin{bmatrix} 9 \\\\ 31 \\end{bmatrix}$"
   ]
  },
  {
   "cell_type": "code",
   "execution_count": null,
   "id": "a5af47dd",
   "metadata": {},
   "outputs": [],
   "source": [
    "b = array([9, 31])\n",
    "solve(A, b)"
   ]
  },
  {
   "cell_type": "markdown",
   "id": "31ca41fd",
   "metadata": {},
   "source": [
    "Solve the $Ax=b$, where $A = \\begin{bmatrix} 4 & 8 & 20 \\\\ 8 & 13 & 16 \\\\ 20 & 16 & -91\\end{bmatrix}$ and $b = \\begin{bmatrix}24 \\\\ 18 \\\\ -199 \\end{bmatrix}$."
   ]
  },
  {
   "cell_type": "code",
   "execution_count": null,
   "id": "11ea9f5c",
   "metadata": {},
   "outputs": [],
   "source": [
    "append(i,j)"
   ]
  },
  {
   "cell_type": "markdown",
   "id": "401ff704",
   "metadata": {},
   "source": [
    "###### Combine the arrays vertically (e.g. make an array having two rows)."
   ]
  },
  {
   "cell_type": "code",
   "execution_count": null,
   "id": "40cf4526",
   "metadata": {},
   "outputs": [],
   "source": [
    "vstack((i,j))"
   ]
  },
  {
   "cell_type": "markdown",
   "id": "8b4cbdf1",
   "metadata": {},
   "source": [
    "###### Combine the arrays and sort them in ascending order."
   ]
  },
  {
   "cell_type": "code",
   "execution_count": null,
   "id": "8bf7912e",
   "metadata": {},
   "outputs": [],
   "source": [
    "sort(append(i,j))"
   ]
  },
  {
   "cell_type": "markdown",
   "id": "7a610b79",
   "metadata": {},
   "source": [
    "###### Create an array having numbers from 0.0 to 1.0 with stepsize 0.05."
   ]
  }
 ],
 "metadata": {},
 "nbformat": 4,
 "nbformat_minor": 5
}
