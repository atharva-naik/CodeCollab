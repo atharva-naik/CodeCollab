{
 "cells": [
  {
   "cell_type": "markdown",
   "id": "9141a0ab",
   "metadata": {},
   "source": [
    "### Filtering - Noise Reduction\n",
    "\n",
    "#### Defining a function to reduce noise"
   ]
  },
  {
   "cell_type": "code",
   "execution_count": null,
   "id": "68c02705",
   "metadata": {},
   "outputs": [],
   "source": [
    "\n",
    "def noise_red(train_sample):\n",
    "    fig = plt.figure(1,figsize=(15,15))\n",
    "    for i in range(9):\n",
    "        ax = fig.add_subplot(3,3,i+1)\n",
    "        band_square = data_prep(train_sample,i)\n",
    "        tt= np.uint8((255. - 0) / (band_square.max() - band_square.min()) * (band_square - band_square.min()) + band_square.min())\n",
    "        blur = cv2.GaussianBlur(tt, (75, 75), 2)\n",
    "\n",
    "        _,th3 = cv2.threshold(blur,0,255,cv2.THRESH_TOZERO+cv2.THRESH_OTSU)\n",
    "    \n",
    "        titles = ['Ship','Iceberg']\n",
    "        plt.imshow(th3,cmap='jet')\n",
    "        ax.set_title(titles[train_df.is_iceberg[i]])        \n",
    "    plt.show()\n"
   ]
  },
  {
   "cell_type": "markdown",
   "id": "8e769985",
   "metadata": {},
   "source": [
    "### Filtering Noise from Band_1\n",
    "##### Band_1 ---  Vertical"
   ]
  },
  {
   "cell_type": "code",
   "execution_count": null,
   "id": "923b1079",
   "metadata": {},
   "outputs": [],
   "source": [
    "# Band 1\n",
    "print(\"Reducing Noise from Band_1 Images\")\n",
    "noise_red(sample_band1)\n"
   ]
  },
  {
   "cell_type": "markdown",
   "id": "96a9523e",
   "metadata": {},
   "source": [
    "### Filtering Noise from Band_2\n",
    "### Band_2 ---  Horizontal\n"
   ]
  },
  {
   "cell_type": "code",
   "execution_count": null,
   "id": "ae99ac51",
   "metadata": {},
   "outputs": [],
   "source": [
    "# Band 2\n",
    "\n",
    "print(\"Reducing Noise from Band_2 Images\")\n",
    "noise_red(sample_band2)"
   ]
  },
  {
   "cell_type": "markdown",
   "id": "747b99b1",
   "metadata": {},
   "source": [
    "### Observations\n",
    "\n",
    "### 1. Band-2 images seem to have more noise than Band-1 images on an average\n",
    "\n",
    "### 2. Iceberg images seem to have more intensity deviation than the ship ones on an average\n",
    "\n",
    "### (like an iceberg may have small parts floating around while the ship is a single-blob)"
   ]
  },
  {
   "cell_type": "markdown",
   "id": "62fa0f01",
   "metadata": {},
   "source": [
    "### Edge Detection\n",
    "\n",
    "#### An X-derivative will typically be antisymmetric with respect to reversing the values around the x-axis. \n",
    "#### This will provide some level of edge detection in the x-direction. "
   ]
  },
  {
   "cell_type": "code",
   "execution_count": null,
   "id": "c5de72c6",
   "metadata": {},
   "outputs": [],
   "source": [
    "\n",
    "\n",
    "def edge_detect(train_sample):\n",
    "    xder = np.array([[-1,0,1],[-2,0,2],[-1,0,1]])\n",
    "    yder = np.array([[1,2,1],[0,0,0],[-1,-2,-1]])\n",
    "    fig = plt.figure(1,figsize=(15,15))\n",
    "    for i in range(9):\n",
    "        ax = fig.add_subplot(3,3,i+1)\n",
    "        band_square = data_prep(train_sample,i)\n",
    "        arr = signal.convolve2d(band_square,xder,mode='valid')\n",
    "        ax.imshow(arr,cmap='inferno')\n",
    "        titles = ['Ship','Iceberg']\n",
    "        ax.set_title('X-derivative of %s' % titles[train_df.is_iceberg[i]])\n",
    "    \n",
    "    plt.show()"
   ]
  },
  {
   "cell_type": "markdown",
   "id": "5e4c60e1",
   "metadata": {},
   "source": [
    "#### Edge Detection for Band_1\n",
    "\n",
    "##### Band_1 ---  Vertical"
   ]
  },
  {
   "cell_type": "code",
   "execution_count": null,
   "id": "84e9d6ba",
   "metadata": {},
   "outputs": [],
   "source": [
    "# Band 1\n",
    "\n",
    "print(\"Edge Detection for Band_1 Images\")\n",
    "edge_detect(sample_band1)\n"
   ]
  },
  {
   "cell_type": "markdown",
   "id": "1e80b0e6",
   "metadata": {},
   "source": [
    "#### Edge Detection for Band_2\n",
    "##### Band_2 ---  Horizontal"
   ]
  },
  {
   "cell_type": "code",
   "execution_count": null,
   "id": "e434edb5",
   "metadata": {},
   "outputs": [],
   "source": [
    "from IPython.core.interactiveshell import InteractiveShell\n",
    "InteractiveShell.ast_node_interactivity = \"all\""
   ]
  },
  {
   "cell_type": "markdown",
   "id": "a8eb1cc4",
   "metadata": {},
   "source": [
    "# Image Processing: Iceberg or Ship\n"
   ]
  },
  {
   "cell_type": "markdown",
   "id": "6df714a0",
   "metadata": {},
   "source": [
    "\n",
    "\n",
    "\n",
    "## Project     : Final Project\n",
    "## Student Name: Madhuri Kalani\n",
    "## Email ID    : Madhuri.Kalani@gmail.com\n",
    "## Date        : '2018-06-27'\n"
   ]
  },
  {
   "cell_type": "markdown",
   "id": "9a752103",
   "metadata": {},
   "source": [
    "## Business Problem: \n",
    "\n",
    "#### Drifting icebergs present threats to navigation and activities in areas such as offshore of the East Coast of Canada. \n",
    "#### Currently, many institutions and companies use aerial reconnaissance and shore-based support to monitor environmental conditions and assess risks from icebergs.  \n",
    "#### However, in remote areas with particularly harsh weather, these methods are not feasible, and the only viable monitoring option is via satellite. "
   ]
  },
  {
   "cell_type": "markdown",
   "id": "7a1b2636",
   "metadata": {},
   "source": [
    "## Objective:\n",
    "\n",
    "#### The purpose is to identify if a remotely sensed target is a ship or iceberg and find out which features will be most helpful for doing classification.  \n",
    "#### I will have to explore a variety of transformation techniques to better understand how ships and icebergs reflect light and will try to use these insights to distinguish the images. "
   ]
  },
  {
   "cell_type": "markdown",
   "id": "0f0d823d",
   "metadata": {},
   "source": [
    "## Background\n",
    "\n",
    "#### This project processes synthetic-aperture radar images and uses machine learning to identify whether each image contains a ship or an iceberg.\n",
    "\n",
    "#### Synthetic aperture radar (SAR) images are captured from a moving antenna emitting successive pulses of radio waves. Institutions mount these antenna on unmanned aerial reconnaissance vessels to surveil land areas.\n",
    "\n",
    "#### The images in this case study were collected from the Sentinel-1 satelite constillation, orbitting 600 kilometers above the earth. The Sentinel-1 is a side looking radar (SLAR), which means that the radar points in a direction perpendicular to the direction of flight.\n",
    "\n",
    "#### The Sentinel-1 transmits and receives energy in two channels: a vertical channel and a horizontal channel. \n",
    "\n",
    "#### These separate channels will help when analyzing the images because different objects have different polarimetric scattering features. \n",
    "\n",
    "<img src='https://storage.googleapis.com/kaggle-media/competitions/statoil/lhYaHT0.png'>\n",
    "\n",
    "\n",
    "#### I will explore a variety of transformation techniques to better understand how ships and icebergs reflect light and use these insights to distinguish our images.\n",
    "\n",
    "#### The purpose is to do some analysis and find out which features will be most helpful for doing classification.\n"
   ]
  },
  {
   "cell_type": "markdown",
   "id": "4bccc31c",
   "metadata": {},
   "source": [
    "## Import Packages "
   ]
  },
  {
   "cell_type": "code",
   "execution_count": null,
   "id": "fb29010f",
   "metadata": {},
   "outputs": [],
   "source": [
    "# Data Manipulation\n",
    "import pandas as pd\n",
    "pd.options.display.max_columns = 25\n",
    "import numpy as np\n",
    "from IPython.display import display\n",
    "\n",
    "# Visualizations\n",
    "import matplotlib.pyplot as plt\n",
    "%matplotlib inline\n",
    "import pylab as plb\n",
    "import seaborn as sns  # might have to install pip install seaborn\n",
    "sns.set_style(\"whitegrid\", {\"axes.grid\": False})\n",
    "import missingno as msno  # might have to install pip install missingno\n",
    "import cv2  # might have to install pip install cv2\n",
    "from scipy import signal\n"
   ]
  },
  {
   "cell_type": "markdown",
   "id": "e56c7d9b",
   "metadata": {},
   "source": [
    "## Loading the Data"
   ]
  },
  {
   "cell_type": "code",
   "execution_count": null,
   "id": "bbb48c27",
   "metadata": {},
   "outputs": [],
   "source": [
    "\n",
    "train = pd.read_json('data/train.json')\n",
    "train = pd.DataFrame(train)\n",
    "train.info()\n",
    "display(train.head())\n",
    "train.describe()\n",
    "display(train.inc_angle.describe())"
   ]
  },
  {
   "cell_type": "markdown",
   "id": "c7bdd480",
   "metadata": {},
   "source": [
    "### Observations\n",
    "\n",
    "#### As you can see there are 133 missing values in inc_angle"
   ]
  },
  {
   "cell_type": "markdown",
   "id": "829dbc2d",
   "metadata": {},
   "source": [
    "### Font Size Controls for Plotting"
   ]
  },
  {
   "cell_type": "code",
   "execution_count": null,
   "id": "982d5d3c",
   "metadata": {},
   "outputs": [],
   "source": [
    "\n",
    "SMALL_SIZE = 20\n",
    "MEDIUM_SIZE = 22\n",
    "BIGGER_SIZE = 24\n",
    "\n",
    "plt.rc('font', size=SMALL_SIZE)          # controls default text sizes\n",
    "plt.rc('axes', titlesize=SMALL_SIZE)     # fontsize of the axes title\n",
    "plt.rc('axes', labelsize=MEDIUM_SIZE)    # fontsize of the x and y labels\n",
    "plt.rc('xtick', labelsize=SMALL_SIZE)    # fontsize of the tick labels\n",
    "plt.rc('ytick', labelsize=SMALL_SIZE)    # fontsize of the tick labels\n",
    "plt.rc('legend', fontsize=SMALL_SIZE)    # legend fontsize\n",
    "plt.rc('figure', titlesize=BIGGER_SIZE)  # fontsize of the figure title"
   ]
  },
  {
   "cell_type": "markdown",
   "id": "764543c8",
   "metadata": {},
   "source": [
    "### Handling Missing values "
   ]
  },
  {
   "cell_type": "code",
   "execution_count": null,
   "id": "298e5db5",
   "metadata": {},
   "outputs": [],
   "source": [
    "train.replace('na', np.NaN, inplace=True)\n",
    "train['inc_angle'] = pd.to_numeric(train['inc_angle'])\n",
    "train.inc_angle.describe()\n",
    "plt.figure(figsize=(10,10))\n",
    "sns.swarmplot(x=\"inc_angle\", data=train_df, size=2, color=\".3\", linewidth=0, label=\"Inc_angle Distribution\")\n",
    "plt.legend()\n"
   ]
  },
  {
   "cell_type": "markdown",
   "id": "9b8c55af",
   "metadata": {},
   "source": [
    "### Showing Missing Values"
   ]
  },
  {
   "cell_type": "code",
   "execution_count": null,
   "id": "5a963745",
   "metadata": {},
   "outputs": [],
   "source": [
    "msno.matrix(train)"
   ]
  },
  {
   "cell_type": "markdown",
   "id": "5db370cc",
   "metadata": {},
   "source": [
    "## Data Visualization\n",
    "\n",
    "### Let's visualize the data to gain a new perspective. \n"
   ]
  },
  {
   "cell_type": "markdown",
   "id": "fdd306fc",
   "metadata": {},
   "source": [
    "### Class Distribution\n",
    "\n",
    "#### I can see from the plot below that there are more ships than icebergs in our dataset but still the class is not unbalanced."
   ]
  },
  {
   "cell_type": "code",
   "execution_count": null,
   "id": "071cb2bd",
   "metadata": {},
   "outputs": [],
   "source": [
    "count_iceberg = train.is_iceberg.value_counts()\n",
    "plt.figure(figsize=(10,10))\n",
    "b= plb.round_(count_iceberg.values)\n",
    "c=['green','red']\n",
    "e=[0,0.1]\n",
    "l = 'Ship','Iceberg'\n",
    "plb.pie(b, explode= e, labels=l, colors=c, radius=.9, autopct='%1.2f%%', shadow=True, startangle=15)\n",
    "#plt.xticks(range(2), ['Ships', 'Icebergs'])\n",
    "plt.title('Class Distribution: Ship or Iceberg')\n",
    "plt.show()\n"
   ]
  },
  {
   "cell_type": "markdown",
   "id": "b26f1a4c",
   "metadata": {},
   "source": [
    "### Density Distribution using Backscattering \n",
    "\n",
    "#### Backscatter (or backscattering) is the reflection of waves, particles, or signals back to the direction from which they came. \n",
    "#### It is a diffuse reflection due to scattering, as opposed to specular reflection as from a mirror.\n"
   ]
  },
  {
   "cell_type": "code",
   "execution_count": null,
   "id": "10c3a18b",
   "metadata": {},
   "outputs": [],
   "source": [
    "def clean_df(df):\n",
    "    df['inc_angle'] = df['inc_angle'].replace(\"na\", np.nan, inplace=False).astype(float)\n",
    "    mean_inc_angle = df['inc_angle'].dropna(inplace=False).mean()\n",
    "    df['inc_angle'] = df['inc_angle'].fillna(mean_inc_angle)\n",
    "    df['band_1'] = df['band_1'].astype(list)\n",
    "    df['band_2'] = df['band_2'].astype(list)\n",
    "    return df\n",
    "train_df = clean_df(train)\n",
    "\n",
    "#traindf = train_df.sample(16)\n",
    "#traindf\n"
   ]
  },
  {
   "cell_type": "markdown",
   "id": "1683ca6f",
   "metadata": {},
   "source": [
    "### Inc_angle Distribution for Iceberg and Ship"
   ]
  },
  {
   "cell_type": "code",
   "execution_count": null,
   "id": "a8c27203",
   "metadata": {},
   "outputs": [],
   "source": [
    "angle_count  = train_df.inc_angle.value_counts()\n",
    "plt.figure(figsize=(8,8))\n",
    "sns.distplot(\n",
    "    train_df[train_df.is_iceberg==0].inc_angle,\n",
    "    color='b', label='Ship'\n",
    ")\n",
    "sns.distplot(\n",
    "    train_df[train_df.is_iceberg==1].inc_angle, color='g', label='Iceberg'\n",
    ")\n",
    "plt.legend()\n",
    "plt.show()"
   ]
  },
  {
   "cell_type": "markdown",
   "id": "253fc53f",
   "metadata": {},
   "source": [
    "### Observation\n",
    "#### Inc_angle for Iceberg has more variance"
   ]
  },
  {
   "cell_type": "markdown",
   "id": "4486c362",
   "metadata": {},
   "source": [
    "### Frequency Distribution of Inc_Angle for Iceberg and Ship"
   ]
  },
  {
   "cell_type": "code",
   "execution_count": null,
   "id": "f1008075",
   "metadata": {},
   "outputs": [],
   "source": [
    "\n",
    "angle_count  = train.inc_angle.value_counts()\n",
    "plt.figure(figsize=(8,8))\n",
    "f,(ax1,ax2)=plt.subplots(1,2,figsize=(20,8))\n",
    "\n",
    "len(train_df[train_df.is_iceberg==0])\n",
    "ax1.axvline(np.asarray(train_df[train_df.is_iceberg==0].inc_angle).mean(), color='k', linestyle='dashed', linewidth=1)\n",
    "ax1.hist(np.asarray(train_df[train_df.is_iceberg==0].inc_angle), color='y', label='Iceberg')\n",
    "ax2.axvline(np.asarray(train_df[train_df.is_iceberg==1].inc_angle).mean(), color='k', linestyle='dashed', linewidth=1)\n",
    "ax2.hist(np.asarray(train_df[train_df.is_iceberg==1].inc_angle),color='g', label='Ship')\n",
    "ax1.set_title('Ship')\n",
    "ax2.set_title('Iceberg')\n",
    "ax1.set_xlabel('Incident Angle')\n",
    "ax2.set_xlabel('Incident Angle')\n",
    "ax1.set_ylabel('Count')\n",
    "plt.show()"
   ]
  },
  {
   "cell_type": "markdown",
   "id": "3a29536c",
   "metadata": {},
   "source": [
    "## Image Processing\n",
    "\n",
    "### Defining a function to show band_1 and band_2 images from the training data set"
   ]
  },
  {
   "cell_type": "code",
   "execution_count": null,
   "id": "3b1ac608",
   "metadata": {},
   "outputs": [],
   "source": [
    "sample_band1 = train_df['band_1']\n",
    "sample_band2 = train_df['band_2']\n",
    "def data_prep(train_sample,i):\n",
    "    band_ex = train_sample.loc[i,]\n",
    "    band_ex = np.array(band_ex)\n",
    "    band_square = band_ex.reshape(75, 75)\n",
    "    return(band_square)"
   ]
  },
  {
   "cell_type": "code",
   "execution_count": null,
   "id": "a34dead9",
   "metadata": {},
   "outputs": [],
   "source": [
    "def img_show(train_sample):\n",
    "    fig = plt.figure(1,figsize=(15,15))\n",
    "    for i in range(9):\n",
    "        ax = fig.add_subplot(3,3,i+1)\n",
    "        band_square = data_prep(train_sample,i)\n",
    "        ax.imshow(band_square)\n",
    "        titles = ['Ship','Iceberg']\n",
    "        ax.set_title('Image of %s' % titles[train_df.is_iceberg[i]])\n",
    "    \n",
    "    plt.show()"
   ]
  },
  {
   "cell_type": "markdown",
   "id": "7fe9ba9a",
   "metadata": {},
   "source": [
    "#### Showing Band_1 Images\n",
    "##### Band_1 ---  Vertical"
   ]
  },
  {
   "cell_type": "code",
   "execution_count": null,
   "id": "889ac70a",
   "metadata": {},
   "outputs": [],
   "source": [
    "print(\"Displaying Band_1 Images\")\n",
    "img_show(sample_band1)"
   ]
  },
  {
   "cell_type": "markdown",
   "id": "ee2b8f99",
   "metadata": {},
   "source": [
    "#### Showing Band_2 Images\n",
    "##### Band_2 ---  Horizontal"
   ]
  },
  {
   "cell_type": "code",
   "execution_count": null,
   "id": "ab7171f6",
   "metadata": {},
   "outputs": [],
   "source": [
    "plt.figure(figsize=(8,9))\n",
    "tBand1 = []\n",
    "tBand2 = []\n",
    "for imgvec in train['band_1']:\n",
    "    for db in imgvec:\n",
    "        tBand1.append(db)\n",
    "for imgvec in train['band_2']:\n",
    "    for db in imgvec:\n",
    "        tBand2.append(db)\n",
    "sns.distplot(tBand1, label='Band 1')\n",
    "sns.distplot(tBand2, label='Band 2')\n",
    "plt.legend()\n",
    "plt.show()"
   ]
  },
  {
   "cell_type": "markdown",
   "id": "1912a45c",
   "metadata": {},
   "source": [
    "## Data Cleansing\n",
    "\n",
    "### Defining a function to clean the training data set. I will call this function again for Test dataset."
   ]
  },
  {
   "cell_type": "code",
   "execution_count": null,
   "id": "8f3bd6ee",
   "metadata": {},
   "outputs": [],
   "source": [
    "print(\"Displaying Band_2 Images\")\n",
    "img_show(sample_band2)\n"
   ]
  },
  {
   "cell_type": "code",
   "execution_count": null,
   "id": "0b6b9778",
   "metadata": {},
   "outputs": [],
   "source": [
    "# Band 2\n",
    "\n",
    "print(\"Edge Detection for Band_2 Images\")\n",
    "edge_detect(sample_band2)"
   ]
  },
  {
   "cell_type": "markdown",
   "id": "0e21ac4d",
   "metadata": {},
   "source": [
    "### Gradient Magnitude of X- and Y- Derivative\n",
    "#### Treating the x and y derivatives as a gradient vector at each position and then taking the magnitude at each point.\n",
    "\n"
   ]
  },
  {
   "cell_type": "code",
   "execution_count": null,
   "id": "e2685b78",
   "metadata": {},
   "outputs": [],
   "source": [
    "\n",
    "def grad_magn(train_sample):\n",
    "    xder = np.array([[-1,0,1],[-2,0,2],[-1,0,1]])\n",
    "    yder = np.array([[1,2,1],[0,0,0],[-1,-2,-1]])\n",
    "    fig = plt.figure(1,figsize=(15,15))\n",
    "    for i in range(9):\n",
    "        ax = fig.add_subplot(3,3,i+1)\n",
    "        band_square = data_prep(train_sample,i)\n",
    "        arrx = signal.convolve2d(band_square,xder,mode='valid')\n",
    "        arry = signal.convolve2d(band_square,yder,mode='valid')\n",
    "        ax.imshow(np.hypot(arrx,arry),cmap='inferno')\n",
    "        titles = ['Ship','Iceberg']\n",
    "        ax.set_title(' %s' % titles[train_df.is_iceberg[i]])\n",
    "    plt.show()"
   ]
  },
  {
   "cell_type": "markdown",
   "id": "d07ffcb5",
   "metadata": {},
   "source": [
    "#### Gradient Magnitude for Band_1\n",
    "##### Band_1 ---  Vertical"
   ]
  },
  {
   "cell_type": "code",
   "execution_count": null,
   "id": "eff58ec0",
   "metadata": {},
   "outputs": [],
   "source": [
    "\n",
    "print(\"Gradient Magnitude for Band_1 Images\")\n",
    "grad_magn(sample_band1)"
   ]
  },
  {
   "cell_type": "markdown",
   "id": "7fd13e33",
   "metadata": {},
   "source": [
    "#### Gradient Magnitude for Band_2\n",
    "##### Band_2 ---  Horizontal"
   ]
  }
 ],
 "metadata": {},
 "nbformat": 4,
 "nbformat_minor": 5
}
