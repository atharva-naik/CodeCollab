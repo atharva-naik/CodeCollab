{
 "cells": [
  {
   "cell_type": "markdown",
   "id": "ade87eeb",
   "metadata": {},
   "source": [
    "# Guided Project: Predicting Board Game Reviews\n",
    "### Apply clustering and regression techniques to predict board game review scores.\n",
    "\n",
    "##### Contents:\n",
    "- KMeans\n",
    "- set()\n",
    "- list.remove()\n",
    "- df.apply(np.mean, axis=1)\n",
    "- df.corr()\n",
    "- sklearn.linear_model.LinearRegression\n",
    "- Other\n",
    "    - SVR\n",
    "    - RandomForestRegressor\n",
    "\n",
    "## 1: Board Game Reviews\n",
    "Board games have been making a comeback lately, and deeper, more strategic boardgames, like [Settlers of Catan](https://en.wikipedia.org/wiki/Catan) have become hugely popular. A popular site where these types of board games are discussed and reviewed is [BoardGameGeek](http://www.boardgamegeek.com/).\n",
    "\n",
    "In this project, you'll be working with a data set that contains `80000` board games and their associated review scores. The data was scraped from BoardGameGeek and compiled into CSV format by [Sean Beck](https://github.com/ThaWeatherman). The data set is stored in `board_games.csv`, and can be downloaded [here](https://github.com/ThaWeatherman/scrapers/blob/master/boardgamegeek/games.csv). If you need help at any point, you can consult our solution notebook [here](https://github.com/dataquestio/solutions/blob/master/Mission211Solution.ipynb).\n",
    "\n",
    "Here's a preview of the first 5 rows and columns:\n",
    "\n",
    "| id     | type      | name                                      | yearpublished | minplayers |\n",
    "|--------|-----------|-------------------------------------------|---------------|------------|\n",
    "| 12333  | boardgame | Twilight Struggle                         | 2005          | 2          |\n",
    "| 120677 | boardgame | Terra Mystica                             | 2012          | 2          |\n",
    "| 102794 | boardgame | Caverna: The Cave Farmers                 | 2013          | 1          |\n",
    "| 25613  | boardgame | Through the Ages: A Story of Civilization | 2006          | 2          |\n",
    "| 3076   | boardgame | Puerto Rico                               | 2002          | 2          |\n",
    "\n",
    "Each row represents a single board game, and has descriptive statistics about the board game, as well as review information. Here are some of the interesting columns:\n",
    "\n",
    "- `name`: name of the board game.\n",
    "- `playingtime`: the playing time (given by the manufacturer).\n",
    "- `minplaytime`: the minimum playing time (given by the manufacturer).\n",
    "- `maxplaytime`: the maximum playing time (given by the manufacturer).\n",
    "- `minage`: the minimum recommended age to play.\n",
    "- `users_rated`: the number of users who rated the game.\n",
    "- `average_rating`: the average rating given to the game by users. (0-10)\n",
    "- `total_weights`: Number of weights given by users. Read more about what BoardGameGeek considers weights [here](http://boardgamegeek.com/wiki/page/Weight).\n",
    "- `average_weight`: the average of all the subjective weights (0-5).\n",
    "\n",
    "One interesting machine learning task might be to predict `average_rating` using the other columns. The data set contains quite a few missing values, and rows where there are no reviews. You'll need to remove these as you explore the data to make prediction easier.\n",
    "\n",
    "#### Instructions:\n",
    "\n",
    "- `Read board_games.csv` into a Dataframe called `board_games` using the pandas library.\n",
    "- Display the first few rows of `board_games` and get familiar with the data set.\n",
    "- Use the [DataFrame.dropna()](http://pandas.pydata.org/pandas-docs/stable/generated/pandas.DataFrame.dropna.html) method to remove rows containing missing values.\n",
    "- Remove any rows that have no reviews."
   ]
  },
  {
   "cell_type": "code",
   "execution_count": null,
   "id": "a2c68bcf",
   "metadata": {},
   "outputs": [],
   "source": [
    "import numpy as np\n",
    "import pandas as pd\n",
    "import matplotlib.pyplot as plt\n",
    "%matplotlib inline\n",
    "import seaborn as sns"
   ]
  },
  {
   "cell_type": "code",
   "execution_count": null,
   "id": "b1922be7",
   "metadata": {},
   "outputs": [],
   "source": [
    "board_games = pd.read_csv('data/board_games.csv')\n",
    "board_games.head(3)"
   ]
  },
  {
   "cell_type": "code",
   "execution_count": null,
   "id": "44b54d7a",
   "metadata": {},
   "outputs": [],
   "source": [
    "board_games.describe()"
   ]
  },
  {
   "cell_type": "code",
   "execution_count": null,
   "id": "82c2cc1d",
   "metadata": {},
   "outputs": [],
   "source": [
    "board_games.dropna(inplace=True)\n",
    "board_games = board_games[board_games['users_rated'] > 0]"
   ]
  },
  {
   "cell_type": "markdown",
   "id": "0100c5d0",
   "metadata": {},
   "source": [
    "## 2: Picking An Error Metric\n",
    "\n",
    "You want to predict the average_rating column using the other columns, but you'll need to do some data exploration before you're ready to do so. The exploration will help you understand the distribution of average_rating better, as well as select an error metric that you'll use to evaluate the performance of your machine learning model.\n",
    "\n",
    "#### Instructions:\n",
    "- Become familiar with the distribution of average ratings by generating plots and calculating summary statistics. For each of the following, write down your observations in a Markdown cell.\n",
    "    - Generate a histogram of the average ratings.\n",
    "    - Generate a box and whisker plot of the average ratings.\n",
    "    - Calculate the standard deviation.\n",
    "    - Calculating the mean.\n",
    "- Think about what error metric might make sense for this data, and write a markdown cell with your thoughts."
   ]
  },
  {
   "cell_type": "code",
   "execution_count": null,
   "id": "49f2c2ba",
   "metadata": {},
   "outputs": [],
   "source": [
    "plt.hist(board_games.average_rating)\n",
    "plt.show()"
   ]
  },
  {
   "cell_type": "code",
   "execution_count": null,
   "id": "8023346b",
   "metadata": {},
   "outputs": [],
   "source": [
    "plt.boxplot(board_games.average_rating)\n",
    "plt.show()"
   ]
  },
  {
   "cell_type": "code",
   "execution_count": null,
   "id": "c94e8978",
   "metadata": {},
   "outputs": [],
   "source": [
    "avg_rating_std = board_games.average_rating.std()\n",
    "avg_rating_mean = board_games.average_rating.mean()\n",
    "\n",
    "print(avg_rating_std, avg_rating_mean)"
   ]
  },
  {
   "cell_type": "markdown",
   "id": "1c18615d",
   "metadata": {},
   "source": [
    "The `average_rating` data is continuous, so MSE could be a good metric since it penalizes larger errors."
   ]
  },
  {
   "cell_type": "markdown",
   "id": "19130bfb",
   "metadata": {},
   "source": [
    "## 3: Plotting Clusters\n",
    "\n",
    "Now that you have a handle on the `average_rating` column, and have picked an error metric, you're ready for the next step. If you haven't picked an error metric, you should look at Mean Squared Error. As the data is continuous, and you want to penalize larger errors more, Mean Squared Error is a good error metric choice.\n",
    "\n",
    "You can look at the data for patterns that may help you develop a machine learning model. One way to look for patterns is to use a clustering algorithm to create clusters, then plot them out.\n",
    "\n",
    "You can first use the [sklearn.cluster.KMeans](http://scikit-learn.org/stable/modules/generated/sklearn.cluster.KMeans.html) class to fit a k-means clustering model. This class only works with numeric columns, so you have to extract the numeric columns of `board_games` before passing them into the [KMeans.fit()](http://scikit-learn.org/stable/modules/generated/sklearn.cluster.KMeans.html#sklearn.cluster.KMeans.fit) method.\n",
    "\n",
    "To visualize how board games are clustered, we can calculate the row means and row standard deviations and then generate a scatter plot that compares the means against the standard deviations. We encourage you to think of other ways to visualize the rows as clusters as well.\n",
    "\n",
    "#### Instructions:\n",
    "\n",
    "- Use the KMeans class to create clusters.\n",
    "    - Initialize the KMeans class with 5 clusters.\n",
    "    - Extract the numeric columns of board_games, and assign to the variable numeric_columns.\n",
    "        - Leave out name, type, and id.\n",
    "    - Fit the KMeans class to numeric_columns using the fit method.\n",
    "    - Extract the labels_ attribute of the KMeans class, and assign to the variable labels.\n",
    "- Plot out the cluster assignments.\n",
    "    - Use the apply method on numeric_columns with the keyword argument axis set to 1 to find the mean of each row. Assign the result to game_mean.\n",
    "    - Use the apply method on numeric_columns with the keyword argument axis set to 1 to find the standard deviation of each row. Assign the result to game_std.\n",
    "    - Create a plot using the matplotlib scatter function, with the c keyword argument set to labels, the keyword argument x set to game_mean, and the keyword argument y set to game_std.\n",
    "- What do the results tell you? Write up the results in a markdown cell."
   ]
  },
  {
   "cell_type": "code",
   "execution_count": null,
   "id": "cc6aa30a",
   "metadata": {},
   "outputs": [],
   "source": [
    "from sklearn.cluster import KMeans\n",
    "\n",
    "kmeans_model = KMeans(5)"
   ]
  },
  {
   "cell_type": "code",
   "execution_count": null,
   "id": "88ae96ac",
   "metadata": {},
   "outputs": [],
   "source": [
    "numeric_columns = list(board_games._get_numeric_data().columns)\n",
    "numeric_columns"
   ]
  },
  {
   "cell_type": "code",
   "execution_count": null,
   "id": "f04fb240",
   "metadata": {},
   "outputs": [],
   "source": [
    "set(board_games.columns) - set(numeric_columns)"
   ]
  },
  {
   "cell_type": "code",
   "execution_count": null,
   "id": "27ef53d4",
   "metadata": {},
   "outputs": [],
   "source": [
    "numeric_columns.remove('id')\n",
    "board_games[numeric_columns]"
   ]
  },
  {
   "cell_type": "code",
   "execution_count": null,
   "id": "1e399021",
   "metadata": {},
   "outputs": [],
   "source": [
    "kmeans_model.fit(board_games[numeric_columns])\n",
    "labels = kmeans_model.labels_"
   ]
  },
  {
   "cell_type": "code",
   "execution_count": null,
   "id": "894c538c",
   "metadata": {},
   "outputs": [],
   "source": [
    "game_mean = board_games[numeric_columns].apply(np.mean,axis=1)\n",
    "game_std = board_games[numeric_columns].apply(np.std, axis=1)"
   ]
  },
  {
   "cell_type": "code",
   "execution_count": null,
   "id": "189dd1eb",
   "metadata": {},
   "outputs": [],
   "source": [
    "plt.scatter(game_mean, game_std, c=labels)"
   ]
  },
  {
   "cell_type": "markdown",
   "id": "92b7341e",
   "metadata": {},
   "source": [
    "## 4: Finding Correlations\n",
    "\n",
    "Now that you're done some data exploration, you can figure out which columns correlate well with `average_rating`. This will enable you to remove columns that don't add much predictive power to the model. For example, columns that are uncorrelated with the target won't help a linear regression model. It will also enable you to remove columns that are derived from the target, or otherwise cause overfitting.\n",
    "\n",
    "#### Instructions:\n",
    "\n",
    "- Use the [DataFrame.corr()](http://pandas.pydata.org/pandas-docs/stable/generated/pandas.DataFrame.corr.html) method to compute pairwise correlations between only the numeric columns. Assign the result to correlations.\n",
    "- Display the average_rating column of correlations, which shows how much the other columns correlate with the average_rating column.\n",
    "- Do any of the correlations surprise you? Write up your thoughts in a markdown cell.\n",
    "- Remove any columns that seem to be derived from the average_rating. The bayes_average_rating is an example of this.\n",
    "- Remove any columns that don't seem to correlate at all with the average_rating column."
   ]
  },
  {
   "cell_type": "code",
   "execution_count": null,
   "id": "dce073ee",
   "metadata": {},
   "outputs": [],
   "source": [
    "correlations = board_games[numeric_columns].corr()\n",
    "correlations.average_rating"
   ]
  },
  {
   "cell_type": "markdown",
   "id": "0d51de06",
   "metadata": {},
   "source": [
    "The other ratings columns (users_rated, bayes_average_rating) obviously correlate with average_rating."
   ]
  },
  {
   "cell_type": "code",
   "execution_count": null,
   "id": "1bd14b70",
   "metadata": {},
   "outputs": [],
   "source": [
    "exclude = ['users_rated', 'average_rating', 'bayes_average_rating', \n",
    "           'average_weight', 'minplayers', 'maxplayers', 'playingtime',\n",
    "          'minplaytime', 'maxplaytime']\n",
    "features = list(set(numeric_columns) - set(exclude))\n",
    "\n",
    "features"
   ]
  },
  {
   "cell_type": "markdown",
   "id": "c9fbd5a9",
   "metadata": {},
   "source": [
    "## 5: Creating A Model\n",
    "\n",
    "Now that you're done exploring the data, you're ready to create a linear regression model and make predictions for newly created board games.\n",
    "\n",
    "Ordinarily, you'd want to split the data into training and testing sets, train the algorithm on the training set, and test its performance on the test set. In this case, because we haven't covered training and testing sets yet, you'll evaluate the performance of the model on the training set.\n",
    "\n",
    "You'll fit a linear regression model to board_games, using the columns you think should be predictors, and average_rating as the target. You'll then generate predictions using the same predictors you used in the fitting process.\n",
    "\n",
    "#### Instructions:\n",
    "\n",
    "- Initialize a [LinearRegression](http://scikit-learn.org/stable/modules/generated/sklearn.linear_model.LinearRegression.html) model, and assign it to the variable `reg`.\n",
    "- Use the [LinearRegression.fit()](http://scikit-learn.org/stable/modules/generated/sklearn.linear_model.LinearRegression.html#sklearn.linear_model.LinearRegression.fit) method to set the predictor columns you want the model to use and set the target column to `average_rating`.\n",
    "- Use the [LinearRegression.predict()](http://scikit-learn.org/stable/modules/generated/sklearn.linear_model.LinearRegression.html#sklearn.linear_model.LinearRegression.predict) method to make predictions using the columns of board_games that you think should be used as predictors.\n",
    "    - The predictors you pass into LinearRegression.predict() should be the same predictors you passed into [LinearRegression.fit](http://scikit-learn.org/stable/modules/generated/sklearn.linear_model.LinearRegression.html#sklearn.linear_model.LinearRegression.fit).\n",
    "    - Assign the result to `predictions`.\n",
    "- Calculate the error metric that you chose earlier.\n",
    "- Write up what the error value tells you in a markdown cell."
   ]
  },
  {
   "cell_type": "code",
   "execution_count": null,
   "id": "02e749fb",
   "metadata": {},
   "outputs": [],
   "source": [
    "from sklearn.linear_model import LinearRegression\n",
    "\n",
    "lr = LinearRegression()\n",
    "lr.fit(board_games[features], board_games.average_rating)\n",
    "predictions = lr.predict(board_games[features])"
   ]
  },
  {
   "cell_type": "code",
   "execution_count": null,
   "id": "b172b283",
   "metadata": {},
   "outputs": [],
   "source": [
    "from sklearn.metrics import mean_squared_error\n",
    "\n",
    "mse = mean_squared_error(board_games.average_rating, predictions)\n",
    "mse"
   ]
  },
  {
   "cell_type": "markdown",
   "id": "a7e788fe",
   "metadata": {},
   "source": [
    "Error rate 2.28 above the standard deviation 1.58 which indicates that model may not perform well. "
   ]
  },
  {
   "cell_type": "markdown",
   "id": "2afa797c",
   "metadata": {},
   "source": [
    "## 6: Next Steps\n",
    "\n",
    "That's it for the guided steps. We recommend downloading this notebook and building on it. Here are some potential next steps:\n",
    "\n",
    "- Split the data into training and testing sets, and calculate error on the testing set.\n",
    "- Try algorithms other than linear regression.\n",
    "- Calculate new predictors based off the existing columns, such as:\n",
    "    - Player range (maxplayers - minplayers)\n",
    "    - Playing time range (maxplaytime - minplaytime)\n",
    "    - Average number of ratings (total_owners / users_rated)\n",
    "- Scrape the latest data from [BoardGameGeek](http://www.boardgamegeek.com/) to acquire more data."
   ]
  }
 ],
 "metadata": {},
 "nbformat": 4,
 "nbformat_minor": 5
}
