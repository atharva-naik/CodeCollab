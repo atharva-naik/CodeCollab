{
 "cells": [
  {
   "cell_type": "markdown",
   "id": "01d5802f",
   "metadata": {},
   "source": [
    "# Chapter 6: Algorithm Chains and Pipelines"
   ]
  },
  {
   "cell_type": "code",
   "execution_count": null,
   "id": "d155f882",
   "metadata": {},
   "outputs": [],
   "source": [
    "import numpy as np\n",
    "import matplotlib.pyplot as plt\n",
    "import scipy as sp\n",
    "import pandas as pd\n",
    "import sklearn\n",
    "import mglearn"
   ]
  },
  {
   "cell_type": "code",
   "execution_count": null,
   "id": "9d6328d7",
   "metadata": {},
   "outputs": [],
   "source": [
    "from sklearn.svm import SVC\n",
    "from sklearn.datasets import load_breast_cancer\n",
    "from sklearn.preprocessing import MinMaxScaler\n",
    "from sklearn.model_selection import train_test_split"
   ]
  },
  {
   "cell_type": "code",
   "execution_count": null,
   "id": "49ebd706",
   "metadata": {},
   "outputs": [],
   "source": [
    "cancer = load_breast_cancer()\n",
    "X_train, X_test, y_train, y_test = train_test_split(cancer.data, cancer.target, random_state=0)\n",
    "\n",
    "# calculate min and max on the training data\n",
    "scaler = MinMaxScaler().fit(X_train)\n",
    "\n",
    "# rescale the training data\n",
    "X_train_scaled = scaler.transform(X_train)\n",
    "\n",
    "svm = SVC()\n",
    "# learn an SVM on the training scaled data\n",
    "svm.fit(X_train_scaled, y_train)\n",
    "# scale the test data and score the scaled data\n",
    "X_test_scaled = scaler.transform(X_test)\n",
    "print(\"Test score: {:.2f}\".format(svm.score(X_test_scaled, y_test)))"
   ]
  },
  {
   "cell_type": "markdown",
   "id": "fac87774",
   "metadata": {},
   "source": [
    "## 1. Parameter Selection with Preprocessing"
   ]
  },
  {
   "cell_type": "markdown",
   "id": "daf23b08",
   "metadata": {},
   "source": [
    "IMPROPER preprocessing:"
   ]
  },
  {
   "cell_type": "code",
   "execution_count": null,
   "id": "d2f6b250",
   "metadata": {},
   "outputs": [],
   "source": [
    "from sklearn.model_selection import GridSearchCV\n",
    "# for illustration purposes only, don't use this code!\n",
    "param_grid = {'C': [0.001, 0.01, 0.1, 1, 10, 100],\n",
    "              'gamma': [0.001, 0.01, 0.1, 1, 10, 100]}\n",
    "grid = GridSearchCV(SVC(), param_grid=param_grid, cv=5)\n",
    "grid.fit(X_train_scaled, y_train)\n",
    "print(\"Best cross-validation accuracy: {:.2f}\".format(grid.best_score_))\n",
    "print(\"Best parameters: \", grid.best_params_)\n",
    "print(\"Test set accuracy: {:.2f}\".format(grid.score(X_test_scaled, y_test)))"
   ]
  },
  {
   "cell_type": "code",
   "execution_count": null,
   "id": "6107c21a",
   "metadata": {},
   "outputs": [],
   "source": [
    "mglearn.plots.plot_improper_processing()"
   ]
  },
  {
   "cell_type": "markdown",
   "id": "bd5024c5",
   "metadata": {},
   "source": [
    "## 2. Building Pipelines"
   ]
  },
  {
   "cell_type": "code",
   "execution_count": null,
   "id": "f81cdb98",
   "metadata": {},
   "outputs": [],
   "source": [
    "from sklearn.preprocessing import StandardScaler\n",
    "from sklearn.decomposition import PCA\n",
    "\n",
    "pipe = make_pipeline(StandardScaler(), PCA(n_components=2), StandardScaler())\n",
    "print(\"Pipeline steps:\\n\", pipe.steps)"
   ]
  },
  {
   "cell_type": "markdown",
   "id": "7ebe956c",
   "metadata": {},
   "source": [
    "### 4.2 Accessing step attributes"
   ]
  },
  {
   "cell_type": "code",
   "execution_count": null,
   "id": "3de35001",
   "metadata": {},
   "outputs": [],
   "source": [
    "# fit the pipeline defined before to the cancer dataset\n",
    "pipe.fit(cancer.data)\n",
    "# extract the first two principal components\n",
    "components = pipe.named_steps[\"pca\"].components_\n",
    "print(\"components.shape: \", components.shape)"
   ]
  },
  {
   "cell_type": "markdown",
   "id": "06156aeb",
   "metadata": {},
   "source": [
    "### 4.3 Accessing Attributes in a Pipeline inside GridSearchCV"
   ]
  },
  {
   "cell_type": "code",
   "execution_count": null,
   "id": "933b2957",
   "metadata": {},
   "outputs": [],
   "source": [
    "from sklearn.linear_model import LogisticRegression\n",
    "\n",
    "pipe = make_pipeline(StandardScaler(), LogisticRegression())"
   ]
  },
  {
   "cell_type": "markdown",
   "id": "3cf6a3c0",
   "metadata": {},
   "source": [
    "We must use 'logisticregression' since make_pipeline generates this name for the second step"
   ]
  },
  {
   "cell_type": "code",
   "execution_count": null,
   "id": "927e056d",
   "metadata": {},
   "outputs": [],
   "source": [
    "param_grid = {'logisticregression__C': [0.01, 0.1, 1, 10, 100]}"
   ]
  },
  {
   "cell_type": "code",
   "execution_count": null,
   "id": "4b96f5c8",
   "metadata": {},
   "outputs": [],
   "source": [
    "X_train, X_test, y_train, y_test = train_test_split(cancer.data, cancer.target, random_state=4)\n",
    "grid = GridSearchCV(pipe, param_grid=param_grid, cv=5)\n",
    "grid.fit(X_train, y_train)"
   ]
  },
  {
   "cell_type": "code",
   "execution_count": null,
   "id": "00d20c74",
   "metadata": {},
   "outputs": [],
   "source": [
    "print(\"Best model:\\n\", grid.best_estimator_)"
   ]
  },
  {
   "cell_type": "code",
   "execution_count": null,
   "id": "59cb8896",
   "metadata": {},
   "outputs": [],
   "source": [
    "print(\"Logistic regression step:\\n\", grid.best_estimator_.named_steps[\"logisticregression\"])"
   ]
  },
  {
   "cell_type": "code",
   "execution_count": null,
   "id": "c889ef33",
   "metadata": {},
   "outputs": [],
   "source": [
    "print(\"Logistic regression coefficients:\\n\", grid.best_estimator_.named_steps[\"logisticregression\"].coef_)"
   ]
  },
  {
   "cell_type": "markdown",
   "id": "0e1bb414",
   "metadata": {},
   "source": [
    "## 5. Grid-searching preprocessing steps and model parameters"
   ]
  },
  {
   "cell_type": "code",
   "execution_count": null,
   "id": "3665faa9",
   "metadata": {},
   "outputs": [],
   "source": [
    "from sklearn.datasets import load_boston\n",
    "boston = load_boston()\n",
    "X_train, X_test, y_train, y_test = train_test_split(boston.data, boston.target, random_state=0)\n",
    "\n",
    "from sklearn.preprocessing import PolynomialFeatures\n",
    "pipe = make_pipeline(StandardScaler(), PolynomialFeatures(), Ridge())"
   ]
  },
  {
   "cell_type": "code",
   "execution_count": null,
   "id": "b8d7b905",
   "metadata": {},
   "outputs": [],
   "source": [
    "param_grid = {'polynomialfeatures__degree': [1, 2, 3],\n",
    "              'ridge__alpha': [0.001, 0.01, 0.1, 1, 10, 100]}\n",
    "grid = GridSearchCV(pipe, param_grid, cv=5, n_jobs=-1)\n",
    "grid.fit(X_train, y_train)"
   ]
  },
  {
   "cell_type": "code",
   "execution_count": null,
   "id": "6e90a170",
   "metadata": {},
   "outputs": [],
   "source": [
    "grid.cv_results_['mean_test_score']"
   ]
  },
  {
   "cell_type": "code",
   "execution_count": null,
   "id": "2ed39639",
   "metadata": {},
   "outputs": [],
   "source": [
    "plt.matshow(grid.cv_results_['mean_test_score'].reshape(3, -1), vmin=0, cmap='viridis')\n",
    "plt.xlabel(\"ridge__alpha\")\n",
    "plt.ylabel(\"polynomialfeatures__degree\")\n",
    "plt.xticks(range(len(param_grid['ridge__alpha'])), param_grid['ridge__alpha'])\n",
    "plt.yticks(range(len(param_grid['polynomialfeatures__degree'])), param_grid['polynomialfeatures__degree'])\n",
    "plt.colorbar();"
   ]
  },
  {
   "cell_type": "code",
   "execution_count": null,
   "id": "4d404b16",
   "metadata": {},
   "outputs": [],
   "source": [
    "print(\"Best parameters: \", grid.best_params_)"
   ]
  },
  {
   "cell_type": "code",
   "execution_count": null,
   "id": "eef8bbf7",
   "metadata": {},
   "outputs": [],
   "source": [
    "print(\"Test score: {:.2f}\".format(grid.score(X_test, y_test)))"
   ]
  },
  {
   "cell_type": "markdown",
   "id": "e50436e5",
   "metadata": {},
   "source": [
    "To compare results run grid-search withoun polynomial transformation"
   ]
  },
  {
   "cell_type": "code",
   "execution_count": null,
   "id": "51553b0c",
   "metadata": {},
   "outputs": [],
   "source": [
    "param_grid = {'ridge__alpha': [0.001, 0.01, 0.1, 1, 10, 100]}\n",
    "pipe = make_pipeline(StandardScaler(), Ridge())\n",
    "grid = GridSearchCV(pipe, param_grid, cv=5)\n",
    "grid.fit(X_train, y_train)\n",
    "print(\"Accuracy without poly features: {:.2f}\".format(grid.score(X_test, y_test)))"
   ]
  },
  {
   "cell_type": "markdown",
   "id": "712b4375",
   "metadata": {},
   "source": [
    "### 5.1 Best model selection with Grid-search"
   ]
  },
  {
   "cell_type": "code",
   "execution_count": null,
   "id": "da3e7f28",
   "metadata": {},
   "outputs": [],
   "source": [
    "from sklearn.pipeline import Pipeline\n",
    "pipe = Pipeline([(\"scaler\", MinMaxScaler()), (\"svm\", SVC())])"
   ]
  },
  {
   "cell_type": "code",
   "execution_count": null,
   "id": "7e5756bc",
   "metadata": {},
   "outputs": [],
   "source": [
    "pipe.fit(X_train, y_train)"
   ]
  },
  {
   "cell_type": "code",
   "execution_count": null,
   "id": "7739460f",
   "metadata": {},
   "outputs": [],
   "source": [
    "print(\"Test set accuracy: {:.2f}\".format(pipe.score(X_test, y_test)))"
   ]
  },
  {
   "cell_type": "markdown",
   "id": "c3589104",
   "metadata": {},
   "source": [
    "## 3. Using Pipelines in Grid-searches "
   ]
  },
  {
   "cell_type": "code",
   "execution_count": null,
   "id": "ec9e092e",
   "metadata": {},
   "outputs": [],
   "source": [
    "from sklearn.model_selection import GridSearchCV"
   ]
  },
  {
   "cell_type": "code",
   "execution_count": null,
   "id": "109b8c72",
   "metadata": {},
   "outputs": [],
   "source": [
    "param_grid = {'svm__C': [0.001, 0.01, 0.1, 1, 10, 100], \n",
    "              'svm__gamma': [0.001, 0.01, 0.1, 1, 10, 100]}"
   ]
  },
  {
   "cell_type": "code",
   "execution_count": null,
   "id": "f92808ba",
   "metadata": {},
   "outputs": [],
   "source": [
    "grid = GridSearchCV(pipe, param_grid=param_grid, cv=5)\n",
    "grid.fit(X_train, y_train)\n",
    "print(\"Best cross-validation accuracy: {:.2f}\".format(grid.best_score_))\n",
    "print(\"Test set score: {:.2f}\".format(grid.score(X_test, y_test)))\n",
    "print(\"Best parameters: \", grid.best_params_)"
   ]
  },
  {
   "cell_type": "markdown",
   "id": "a1c831a7",
   "metadata": {},
   "source": [
    "PROPER preprocessing:"
   ]
  },
  {
   "cell_type": "code",
   "execution_count": null,
   "id": "d0b3b565",
   "metadata": {},
   "outputs": [],
   "source": [
    "mglearn.plots.plot_proper_processing()"
   ]
  },
  {
   "cell_type": "markdown",
   "id": "07465751",
   "metadata": {},
   "source": [
    "### 3.1 Information leak"
   ]
  },
  {
   "cell_type": "code",
   "execution_count": null,
   "id": "83d0c13b",
   "metadata": {},
   "outputs": [],
   "source": [
    "rnd = np.random.RandomState(seed=0)\n",
    "X = rnd.normal(size=(100, 10000))\n",
    "y = rnd.normal(size=(100,))"
   ]
  },
  {
   "cell_type": "code",
   "execution_count": null,
   "id": "f49934a3",
   "metadata": {},
   "outputs": [],
   "source": [
    "from sklearn.feature_selection import SelectPercentile, f_regression\n",
    "\n",
    "select = SelectPercentile(score_func=f_regression, percentile=5).fit(X, y)\n",
    "X_selected = select.transform(X)\n",
    "print(\"X_selected shape: \", X_selected.shape)"
   ]
  },
  {
   "cell_type": "markdown",
   "id": "b233b6fe",
   "metadata": {},
   "source": [
    "The following is a wrong case! We have absolutely independent X and y - our model shouldn't 'learn' anything, but it can..."
   ]
  },
  {
   "cell_type": "code",
   "execution_count": null,
   "id": "cedb18be",
   "metadata": {},
   "outputs": [],
   "source": [
    "from sklearn.model_selection import cross_val_score\n",
    "from sklearn.linear_model import Ridge\n",
    "\n",
    "print(\"Cross-validation accuracy (cv on ridge only): {:.2f}\".format(np.mean(cross_val_score(Ridge(), X_selected, y, cv=5))))"
   ]
  },
  {
   "cell_type": "markdown",
   "id": "edfb4af4",
   "metadata": {},
   "source": [
    "The following is a right realisation:"
   ]
  },
  {
   "cell_type": "code",
   "execution_count": null,
   "id": "62ffd807",
   "metadata": {},
   "outputs": [],
   "source": [
    "pipe = Pipeline([(\"select\", SelectPercentile(score_func=f_regression, percentile=5)),\n",
    "                 (\"ridge\", Ridge())])\n",
    "print(\"Cross-validation accuracy (pipeline): {:.2f}\".format(np.mean(cross_val_score(pipe, X, y, cv=5))))"
   ]
  },
  {
   "cell_type": "markdown",
   "id": "5b6f316b",
   "metadata": {},
   "source": [
    "## 4. The General Pipeline Interface"
   ]
  },
  {
   "cell_type": "code",
   "execution_count": null,
   "id": "eb59a83f",
   "metadata": {},
   "outputs": [],
   "source": [
    "def fit(self, X, y):\n",
    "    X_transformed = X\n",
    "    for name, estimator in self.steps[:-1]:\n",
    "        # iterate over all but the final step\n",
    "        # fit and transform the data\n",
    "        X_transformed = estimator.fit_transform(X_transformed, y)\n",
    "    # fit the last step\n",
    "    self.steps[-1][1].fit(X_transformed, y)\n",
    "    return self"
   ]
  },
  {
   "cell_type": "code",
   "execution_count": null,
   "id": "6c78bbc4",
   "metadata": {},
   "outputs": [],
   "source": [
    "def predict(self, X):\n",
    "    X_transformed = X\n",
    "    for step in self.steps[:-1]:\n",
    "        # iterate over all but the final step\n",
    "        # transform the data\n",
    "        X_transformed = step[1].transform(X_transformed)\n",
    "    # predict using the last step\n",
    "    return self.steps[-1][1].predict(X_transformed)"
   ]
  },
  {
   "cell_type": "markdown",
   "id": "551045b9",
   "metadata": {},
   "source": [
    "![pipeline.png](attachment:pipeline.png)"
   ]
  },
  {
   "cell_type": "markdown",
   "id": "96c4139d",
   "metadata": {},
   "source": [
    "### 4.1 Convenient Pipeline creation with ```make_pipeline```"
   ]
  },
  {
   "cell_type": "code",
   "execution_count": null,
   "id": "7b7fbcfd",
   "metadata": {},
   "outputs": [],
   "source": [
    "from sklearn.pipeline import make_pipeline\n",
    "# standard syntax\n",
    "pipe_long = Pipeline([(\"scaler\", MinMaxScaler()), (\"svm\", SVC(C=100))])\n",
    "# abbreviated syntax\n",
    "pipe_short = make_pipeline(MinMaxScaler(), SVC(C=100))"
   ]
  },
  {
   "cell_type": "code",
   "execution_count": null,
   "id": "562cc5a7",
   "metadata": {},
   "outputs": [],
   "source": [
    "print(\"Pipeline steps:\\n\", pipe_short.steps)"
   ]
  }
 ],
 "metadata": {},
 "nbformat": 4,
 "nbformat_minor": 5
}
