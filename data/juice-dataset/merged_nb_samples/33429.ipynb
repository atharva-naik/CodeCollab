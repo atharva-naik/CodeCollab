{
 "cells": [
  {
   "cell_type": "markdown",
   "id": "e7634b3e",
   "metadata": {},
   "source": [
    "Problem at https://fivethirtyeight.com/features/can-you-please-the-oracle-can-you-escape-the-prison/"
   ]
  },
  {
   "cell_type": "markdown",
   "id": "3fead533",
   "metadata": {},
   "source": [
    "## Riddler Express\n",
    "From Andrew Simmons, a puzzle of colorful architecture:\n",
    "\n",
    "You must build a very specific tower out of four differently colored pieces that can be stacked in any order. But when you start building, you don’t know what the correct order is. Upon assembling the pieces in some order, you can consult an architectural oracle (he goes by Frank) who will inform you if zero, one, two or all four pieces of the tower are in the correct position. Your tower doesn’t count as finished until the oracle confirms your solution is correct. How many times should you have to consult the oracle, in the worst case,2 to assemble the tower correctly?"
   ]
  },
  {
   "cell_type": "markdown",
   "id": "c0c374b7",
   "metadata": {},
   "source": [
    "The first guess is essentially random, and there are 4! = 24 ways for the guess to be a permutation of the 4 pieces. These 24 permutations are distributed as follows, when sorted by Frank's answer:\n",
    "\n",
    "1. All 4 pieces are correct: There's 1 permutation, which is the identity.\n",
    "2. 2 pieces are correct: There are 6 permutations that are pure 2-cycles.\n",
    "3. 1 piece is correct: There are 8 permutations that are pure 3-cycles.\n",
    "4. No pieces are correct: There are 3 4-cycles, and 6 permutations that consist of 2 distinct 2-cycles.\n",
    "\n",
    "After one guess, we find which category the guess belongs to. Since there are only 4 possible answers after a guess, and $4^2 = 16$ possible answers after 2 guesses, we need at least 2 more guesses to figure out the correct answer. This proves that the solution must be at least 3. Consider each of the 4 categories to see if it's possible to distinguish within each category using only 2 guesses."
   ]
  },
  {
   "cell_type": "markdown",
   "id": "63af6519",
   "metadata": {},
   "source": [
    "### Produce multiplication table with Frank's answer as entries\n",
    "Make a list of permutations, and make a $24 \\times 24$ table where entries give how many elements are unmoved."
   ]
  },
  {
   "cell_type": "code",
   "execution_count": null,
   "id": "fb625e45",
   "metadata": {},
   "outputs": [],
   "source": [
    "import numpy as np\n",
    "from itertools import permutations"
   ]
  },
  {
   "cell_type": "code",
   "execution_count": null,
   "id": "61ce649f",
   "metadata": {},
   "outputs": [],
   "source": [
    "perm4 = list(permutations(range(4))) #list of permutations of 4 elements\n",
    "#I'll interpret permutation (a, b, c, d) as 0 being taken to position a,\n",
    "#1 being taken to position b, etc.\n",
    "\n",
    "def inplace(perm):\n",
    "    \"\"\"Counts how many elements of a permutation are unmoved.\"\"\"\n",
    "    return sum(perm[index] == index for index in range(4))\n",
    "\n",
    "def product(perm1, perm2):\n",
    "    \"\"\"Multiplies 2 permutations.\"\"\"\n",
    "    return tuple(perm2[perm1[i]] for i in range(4))\n",
    "\n",
    "table = np.array([[inplace(product(perm1, perm2)) for perm1 in perm4] for perm2 in perm4])"
   ]
  },
  {
   "cell_type": "markdown",
   "id": "83d13ee7",
   "metadata": {},
   "source": [
    "### Case 1.\n",
    "This is the best case scenario, where we've already found the solution. Only 1 consultation was needed."
   ]
  },
  {
   "cell_type": "markdown",
   "id": "49e1ef90",
   "metadata": {},
   "source": [
    "### Case 2.\n",
    "There are 6 permutations that are 2-cycles. The relevant rows of the multiplication table are"
   ]
  },
  {
   "cell_type": "code",
   "execution_count": null,
   "id": "84a13449",
   "metadata": {},
   "outputs": [],
   "source": [
    "table2 = np.array([row for row in table if row[0] == 2])"
   ]
  },
  {
   "cell_type": "code",
   "execution_count": null,
   "id": "0819179c",
   "metadata": {},
   "outputs": [],
   "source": [
    "table2"
   ]
  },
  {
   "cell_type": "markdown",
   "id": "48253d0d",
   "metadata": {},
   "source": [
    "The goal is to find a pair of columns such that the pair of entries are different for each row."
   ]
  },
  {
   "cell_type": "code",
   "execution_count": null,
   "id": "c274b661",
   "metadata": {},
   "outputs": [],
   "source": [
    "table2[:,(0,1)]"
   ]
  },
  {
   "cell_type": "code",
   "execution_count": null,
   "id": "8ddecb00",
   "metadata": {},
   "outputs": [],
   "source": [
    "for column1 in range(24):\n",
    "    for column2 in range(24):\n",
    "        distinct = np.unique([table2[i,(column1,column2)] for i in range(6)], axis=0)\n",
    "        if len(distinct) == 6:\n",
    "            print(column1, column2)"
   ]
  },
  {
   "cell_type": "markdown",
   "id": "5bd964c2",
   "metadata": {},
   "source": [
    "There's no combination of 2 multiplications that can distinguish among the 6 2-cycles."
   ]
  },
  {
   "cell_type": "code",
   "execution_count": null,
   "id": "845d1101",
   "metadata": {},
   "outputs": [],
   "source": [
    "for column1 in range(24):\n",
    "    for column2 in range(24):\n",
    "        for column3 in range(24):\n",
    "            distinct = np.unique([table2[i,(column1,column2, column3)] for i in range(6)], axis=0)\n",
    "            if len(distinct) == 6:\n",
    "                print(column1, column2, column3)"
   ]
  },
  {
   "cell_type": "markdown",
   "id": "d2d60817",
   "metadata": {},
   "source": [
    "There are many sets of 3 multiplications that can do this."
   ]
  },
  {
   "cell_type": "markdown",
   "id": "2442ab6e",
   "metadata": {},
   "source": [
    "### Case 3.\n",
    "There are 8 permutations that are 3-cycles. The relevant rows of the multiplication table are"
   ]
  },
  {
   "cell_type": "code",
   "execution_count": null,
   "id": "076f511b",
   "metadata": {},
   "outputs": [],
   "source": [
    "table3 = np.array([row for row in table if row[0] == 1])\n",
    "table3"
   ]
  },
  {
   "cell_type": "code",
   "execution_count": null,
   "id": "15a18cbe",
   "metadata": {},
   "outputs": [],
   "source": [
    "for column1 in range(24):\n",
    "    for column2 in range(24):\n",
    "        distinct = np.unique([table3[i,(column1,column2)] for i in range(8)], axis=0)\n",
    "        if len(distinct) == 8:\n",
    "            print(column1, column2)"
   ]
  },
  {
   "cell_type": "markdown",
   "id": "afcfe8c6",
   "metadata": {},
   "source": [
    "Again, there are no pairs of permutations that can distinguish among the 8 permutations."
   ]
  },
  {
   "cell_type": "code",
   "execution_count": null,
   "id": "bcc17a91",
   "metadata": {},
   "outputs": [],
   "source": [
    "for column1 in range(24):\n",
    "    for column2 in range(24):\n",
    "        for column3 in range(24):\n",
    "            distinct = np.unique([table3[i,(column1,column2, column3)] for i in range(8)], axis=0)\n",
    "            if len(distinct) == 8:\n",
    "                print(column1, column2, column3)"
   ]
  },
  {
   "cell_type": "markdown",
   "id": "b133cbe6",
   "metadata": {},
   "source": [
    "But there are many triplets that can."
   ]
  },
  {
   "cell_type": "markdown",
   "id": "8c3d9d63",
   "metadata": {},
   "source": [
    "### Case 4.\n",
    "There are 9 permutations that have no elements in their correct place. The relevant rows of the multiplication table are"
   ]
  },
  {
   "cell_type": "code",
   "execution_count": null,
   "id": "023527af",
   "metadata": {},
   "outputs": [],
   "source": [
    "table4 = np.array([row for row in table if row[0] == 0])\n",
    "table4"
   ]
  },
  {
   "cell_type": "code",
   "execution_count": null,
   "id": "a2dfa75d",
   "metadata": {},
   "outputs": [],
   "source": [
    "for column1 in range(24):\n",
    "    for column2 in range(24):\n",
    "        distinct = np.unique([table4[i,(column1,column2)] for i in range(9)], axis=0)\n",
    "        if len(distinct) == 9:\n",
    "            print(column1, column2)"
   ]
  },
  {
   "cell_type": "code",
   "execution_count": null,
   "id": "90a8709f",
   "metadata": {},
   "outputs": [],
   "source": [
    "for column1 in range(24):\n",
    "    for column2 in range(24):\n",
    "        for column3 in range(24):\n",
    "            distinct = np.unique([table4[i,(column1,column2, column3)] for i in range(9)], axis=0)\n",
    "            if len(distinct) == 9:\n",
    "                print(column1, column2, column3)"
   ]
  },
  {
   "cell_type": "markdown",
   "id": "7422a525",
   "metadata": {},
   "source": [
    "But there are many quadruplets that can do this."
   ]
  },
  {
   "cell_type": "markdown",
   "id": "7dcb0fc8",
   "metadata": {},
   "source": [
    "### All cases at once\n",
    "Is there a set of 3 permutations that always works?"
   ]
  },
  {
   "cell_type": "code",
   "execution_count": null,
   "id": "69b84645",
   "metadata": {},
   "outputs": [],
   "source": [
    "for column1 in range(24):\n",
    "    for column2 in range(24):\n",
    "        for column3 in range(24):\n",
    "            distinct = np.unique([table[i,(0,column1,column2, column3)] for i in range(24)], axis=0)\n",
    "            if len(distinct) == 24:\n",
    "                print(column1, column2, column3)"
   ]
  },
  {
   "cell_type": "markdown",
   "id": "de0cb00e",
   "metadata": {},
   "source": [
    "Yes, for example"
   ]
  }
 ],
 "metadata": {},
 "nbformat": 4,
 "nbformat_minor": 5
}
