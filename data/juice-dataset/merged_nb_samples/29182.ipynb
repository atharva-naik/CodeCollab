{
 "cells": [
  {
   "cell_type": "markdown",
   "id": "fe99e5e2",
   "metadata": {},
   "source": [
    "### Background:\n",
    "Dataset of personal health tracking app including system/device information and personalized app attributes from each user and app installation.\n",
    "### Purpose of this notebook:\n",
    "- Exploratory data analysis\n",
    "- Clean up raw data\n",
    "- Add new features"
   ]
  },
  {
   "cell_type": "code",
   "execution_count": null,
   "id": "178402d8",
   "metadata": {},
   "outputs": [],
   "source": [
    "# import libraries\n",
    "import numpy as np\n",
    "import pandas as pd\n",
    "import matplotlib.pyplot as plt\n",
    "%matplotlib inline\n",
    "import seaborn as sns"
   ]
  },
  {
   "cell_type": "code",
   "execution_count": null,
   "id": "3a2d3066",
   "metadata": {},
   "outputs": [],
   "source": [
    "# read Excel file and save as pickle\n",
    "df = pd.read_excel('App Stats 2018-03-16.xlsx', sheetname='Sheet1')\n",
    "df.to_pickle('df_2018-03-16')"
   ]
  },
  {
   "cell_type": "code",
   "execution_count": null,
   "id": "d4b193ad",
   "metadata": {},
   "outputs": [],
   "source": [
    "df = pd.read_pickle('df_2018-03-16')"
   ]
  },
  {
   "cell_type": "code",
   "execution_count": null,
   "id": "64d5e527",
   "metadata": {},
   "outputs": [],
   "source": [
    "# conversion rate 0.34%, according to PM, this is average/good for this type of app\n",
    "df[df['IsPaid']==True]['IsPaid'].count()/df['IsPaid'].count()"
   ]
  },
  {
   "cell_type": "code",
   "execution_count": null,
   "id": "d866780e",
   "metadata": {},
   "outputs": [],
   "source": [
    "df.info()"
   ]
  },
  {
   "cell_type": "code",
   "execution_count": null,
   "id": "2a3da334",
   "metadata": {},
   "outputs": [],
   "source": [
    "# Visual representation of where the missing data is. This graph does not include zero values\n",
    "plt.figure(figsize=(12,6))\n",
    "sns.heatmap(df.isnull(), yticklabels=False, cbar=False, cmap='viridis')"
   ]
  },
  {
   "cell_type": "markdown",
   "id": "0389fa49",
   "metadata": {},
   "source": [
    "# Exploratory data analysis\n",
    "Which features might be used in a pricing model and/or predicting user conversion? Looking for any signals in the data."
   ]
  },
  {
   "cell_type": "markdown",
   "id": "c6ad2095",
   "metadata": {},
   "source": [
    "## Device features:"
   ]
  },
  {
   "cell_type": "markdown",
   "id": "f703adf4",
   "metadata": {},
   "source": [
    "### Platform\n",
    "- iOS users 6x more likely to purchase product compared to Android users"
   ]
  },
  {
   "cell_type": "code",
   "execution_count": null,
   "id": "05e7438b",
   "metadata": {},
   "outputs": [],
   "source": [
    "pd.pivot_table(df, index='ReminderFrequency', values='IsPaid', aggfunc=('count','mean'))"
   ]
  },
  {
   "cell_type": "markdown",
   "id": "2fc00a8d",
   "metadata": {},
   "source": [
    "### ShowMealTime\n",
    "- whether or not this feature is chosen is a signal"
   ]
  },
  {
   "cell_type": "code",
   "execution_count": null,
   "id": "24df809c",
   "metadata": {},
   "outputs": [],
   "source": [
    "pd.pivot_table(df, index='ShowMealTime', values='IsPaid', aggfunc=('count','mean'))"
   ]
  },
  {
   "cell_type": "markdown",
   "id": "dcf93024",
   "metadata": {},
   "source": [
    "### TargetWeight\n",
    "- whether or not target weight is inputted is a signal\n",
    "- correlation with age\n",
    "- target weight > 200 kg looks suspicious- software bug?\n",
    "- minimum age required for downloading app is officially 15 years old"
   ]
  },
  {
   "cell_type": "code",
   "execution_count": null,
   "id": "1350aaba",
   "metadata": {},
   "outputs": [],
   "source": [
    "pivot_by_weight = pd.pivot_table(df, index=df['TargetWeight'].apply(lambda x: x!=0),\n",
    "              values='IsPaid', aggfunc=('count', 'mean'))\n",
    "\n",
    "pivot_by_weight"
   ]
  },
  {
   "cell_type": "code",
   "execution_count": null,
   "id": "aca16534",
   "metadata": {},
   "outputs": [],
   "source": [
    "rate1 = pivot_by_weight.iloc[1,1]*100\n",
    "print(\"Conversion rate, input TargetWeight: %.2f%%\" %rate1)\n",
    "rate2 = pivot_by_weight.iloc[0,1]*100\n",
    "print(\"Conversion rate, DID NOT input TargetWeight: %.2f%%\" %rate2)"
   ]
  },
  {
   "cell_type": "code",
   "execution_count": null,
   "id": "5144cc18",
   "metadata": {},
   "outputs": [],
   "source": [
    "plt.figure()\n",
    "df[df['TargetWeight']>0]['TargetWeight'].plot.hist(bins=100)\n",
    "plt.xlim(0,300)\n",
    "plt.xlabel('Target weight (kg)')"
   ]
  },
  {
   "cell_type": "code",
   "execution_count": null,
   "id": "eb6a53ff",
   "metadata": {},
   "outputs": [],
   "source": [
    "# cumulative distribution plot\n",
    "df_tw = df[df['TargetWeight']>0]['TargetWeight']\n",
    "#unique_elements, counts_elements = np.unique(df_tw.values, return_counts=True)\n",
    "\n",
    "num_bins=100\n",
    "counts, bin_edges = np.histogram(df_tw.values, bins=num_bins)\n",
    "cdf = np.cumsum(counts/df_tw.count())\n",
    "\n",
    "plt.step(bin_edges[1:], cdf)\n",
    "plt.xlim(-10,210)\n",
    "plt.ylim(-0.05,1.05)\n",
    "plt.xlabel('Target weight (kg)')\n",
    "plt.ylabel('CDF')"
   ]
  },
  {
   "cell_type": "code",
   "execution_count": null,
   "id": "a7c7be95",
   "metadata": {},
   "outputs": [],
   "source": [
    "df[df['TargetWeight']>0]['TargetWeight'].describe()"
   ]
  },
  {
   "cell_type": "code",
   "execution_count": null,
   "id": "fe5b3c27",
   "metadata": {},
   "outputs": [],
   "source": [
    "sns.lmplot(x='AgeWhenGoalsSet', y='TargetWeight', data=df, hue='IsPaid', fit_reg=False)"
   ]
  },
  {
   "cell_type": "markdown",
   "id": "4f471bc9",
   "metadata": {},
   "source": [
    "## Cleaning the data and adding new features"
   ]
  },
  {
   "cell_type": "markdown",
   "id": "3fb1529c",
   "metadata": {},
   "source": [
    "### DaysSinceInstall: all zeros, calculate # days since install including first day "
   ]
  },
  {
   "cell_type": "code",
   "execution_count": null,
   "id": "6980f969",
   "metadata": {},
   "outputs": [],
   "source": [
    "# list of top 20 UICultures with the most users\n",
    "top_20_UICultures = df['UICulture'].value_counts().head(20).index.tolist()"
   ]
  },
  {
   "cell_type": "code",
   "execution_count": null,
   "id": "76431ccb",
   "metadata": {},
   "outputs": [],
   "source": [
    "pivot_UICulture = pd.pivot_table(df[df['UICulture'].isin(top_20_UICultures)], index='UICulture', values='IsPaid', aggfunc=('count','mean'))\n"
   ]
  },
  {
   "cell_type": "code",
   "execution_count": null,
   "id": "02620fbf",
   "metadata": {},
   "outputs": [],
   "source": [
    "pivot_UICulture = pivot_UICulture.reindex(pivot_UICulture['count'].sort_values(ascending=False).index)"
   ]
  },
  {
   "cell_type": "code",
   "execution_count": null,
   "id": "60d61309",
   "metadata": {},
   "outputs": [],
   "source": [
    "pivot_UICulture['mean'] = (pivot_UICulture['mean'].round(decimals=4))*100\n",
    "pivot_UICulture.columns = ['total installs','conversion rate']"
   ]
  },
  {
   "cell_type": "code",
   "execution_count": null,
   "id": "6b8089fd",
   "metadata": {},
   "outputs": [],
   "source": [
    "pivot_UICulture"
   ]
  },
  {
   "cell_type": "markdown",
   "id": "77b36443",
   "metadata": {},
   "source": [
    "### Variation"
   ]
  },
  {
   "cell_type": "code",
   "execution_count": null,
   "id": "7b1aa4ed",
   "metadata": {},
   "outputs": [],
   "source": [
    "pd.pivot_table(df, index='Variation', values='IsPaid', aggfunc=('count', 'mean'))"
   ]
  },
  {
   "cell_type": "markdown",
   "id": "7c404839",
   "metadata": {},
   "source": [
    "### LockedBottom "
   ]
  },
  {
   "cell_type": "code",
   "execution_count": null,
   "id": "54da4d65",
   "metadata": {},
   "outputs": [],
   "source": [
    "pd.pivot_table(df, index='LockedBottom', values='IsPaid', aggfunc=('count', 'mean'))"
   ]
  },
  {
   "cell_type": "markdown",
   "id": "f449490f",
   "metadata": {},
   "source": [
    "### Session count\n",
    "- even amongst paid users, large drop after 20 app sessions -- suggests app retention and/or user compliance issue"
   ]
  },
  {
   "cell_type": "code",
   "execution_count": null,
   "id": "66e6afb8",
   "metadata": {},
   "outputs": [],
   "source": [
    "df[df['IsPaid']==True]['SessionCount'].plot.hist(bins=500)\n",
    "plt.xlim(0,600)"
   ]
  },
  {
   "cell_type": "markdown",
   "id": "625ac41e",
   "metadata": {},
   "source": [
    "### InstallDate\n",
    "- number of installs jumped up at end of year/beginning of new year attributed to better download funnel (higher ratings, higher placing in search results) and seasonal differences (new year's resolutions)\n",
    "- drop in conversion rate over time suggests difference between early and later users and maybe app competition\n",
    "- data after 4-2018 is invalid, dataset only contains data up to 3-2018"
   ]
  },
  {
   "cell_type": "code",
   "execution_count": null,
   "id": "0a2b2d4b",
   "metadata": {},
   "outputs": [],
   "source": [
    "df['AgeWhenGoalsSet'].plot.hist(bins=100)"
   ]
  },
  {
   "cell_type": "code",
   "execution_count": null,
   "id": "04110a61",
   "metadata": {},
   "outputs": [],
   "source": [
    "fig, ax = plt.subplots(1,2, figsize=(10,6))\n",
    "sns.distplot(df[df['AgeWhenGoalsSet'].apply(lambda x: x>0) & df['IsPaid']==True]['AgeWhenGoalsSet'],\n",
    "             kde=False, bins=60, ax=ax[0])\n",
    "ax[0].set_title('Paid users')\n",
    "\n",
    "sns.distplot(df[df['AgeWhenGoalsSet'].apply(lambda x: x>0) & df['IsPaid']==False]['AgeWhenGoalsSet'],\n",
    "             kde=False, bins=60, ax=ax[1])\n",
    "ax[1].set_title('Non-paid users')\n",
    "\n",
    "plt.suptitle('Age distribution for paid vs unpaid users', fontsize=16)"
   ]
  },
  {
   "cell_type": "code",
   "execution_count": null,
   "id": "f1b3789f",
   "metadata": {},
   "outputs": [],
   "source": [
    "rate = df[(df['AgeWhenGoalsSet']!=0) & (df['IsPaid']==True)]['AgeWhenGoalsSet'].count()/df['AgeWhenGoalsSet'].count()*100\n",
    "print(\"Conversion rate, input age: %.2f%%\" %rate)\n",
    "\n",
    "rate = df[(df['AgeWhenGoalsSet']==0) & (df['IsPaid']==True)]['AgeWhenGoalsSet'].count()/df['AgeWhenGoalsSet'].count()*100\n",
    "print(\"Conversion rate, DID NOT input age: %.2f%%\" %rate)"
   ]
  },
  {
   "cell_type": "markdown",
   "id": "be796082",
   "metadata": {},
   "source": [
    "### Gender\n",
    "- conversion rate (listed as mean) for males is 3x that of females or none (no response)"
   ]
  },
  {
   "cell_type": "code",
   "execution_count": null,
   "id": "f860bedd",
   "metadata": {},
   "outputs": [],
   "source": [
    "pd.pivot_table(df, index='Gender', values='IsPaid', aggfunc=('count','mean'))"
   ]
  },
  {
   "cell_type": "markdown",
   "id": "8b68a0e6",
   "metadata": {},
   "source": [
    "### Program\n",
    "- this feature does not provide a strong signal and is inherently very subjective"
   ]
  },
  {
   "cell_type": "code",
   "execution_count": null,
   "id": "c5e77d70",
   "metadata": {},
   "outputs": [],
   "source": [
    "pd.pivot_table(df, index='Program', values='IsPaid', aggfunc=('count','mean'))"
   ]
  },
  {
   "cell_type": "markdown",
   "id": "d7235162",
   "metadata": {},
   "source": [
    "### Onboarding goal\n",
    "- most users want to lose/maintain/gain weight"
   ]
  },
  {
   "cell_type": "code",
   "execution_count": null,
   "id": "65687db0",
   "metadata": {},
   "outputs": [],
   "source": [
    "pd.pivot_table(df, index='OnboardingGoal', values='IsPaid', aggfunc=('count','mean'))"
   ]
  },
  {
   "cell_type": "markdown",
   "id": "e6a2da17",
   "metadata": {},
   "source": [
    "### ReminderFrequency"
   ]
  },
  {
   "cell_type": "code",
   "execution_count": null,
   "id": "aad6f36a",
   "metadata": {},
   "outputs": [],
   "source": [
    "pivot_by_platform = pd.pivot_table(df, index='Platform', values='IsPaid', aggfunc=('count','mean','std'))\n",
    "pivot_by_platform"
   ]
  },
  {
   "cell_type": "code",
   "execution_count": null,
   "id": "d2bd5c00",
   "metadata": {},
   "outputs": [],
   "source": [
    "# Sample size is large but we can use this as an example.\n",
    "# Example: check for statistical significance using t-test\n",
    "# Ho (null hypothesis) = means for Android and iOS groups are the same\n",
    "# Ha (alterntive hypothesis) = means are different\n",
    "# two-tailed test"
   ]
  },
  {
   "cell_type": "code",
   "execution_count": null,
   "id": "1ca017f0",
   "metadata": {},
   "outputs": [],
   "source": [
    "from scipy.stats import ttest_ind, ttest_ind_from_stats"
   ]
  },
  {
   "cell_type": "code",
   "execution_count": null,
   "id": "b366852d",
   "metadata": {},
   "outputs": [],
   "source": [
    "a = df[df['Platform']=='Android']['IsPaid']\n",
    "b = df[df['Platform']=='iOS']['IsPaid']\n",
    "t, p = ttest_ind(a, b, equal_var=False)\n",
    "print('t = ', t)\n",
    "print('p = ', p)"
   ]
  },
  {
   "cell_type": "code",
   "execution_count": null,
   "id": "b6396f6a",
   "metadata": {},
   "outputs": [],
   "source": [
    "t2, p2 = ttest_ind_from_stats(pivot_by_platform.iloc[0,1], pivot_by_platform.iloc[0,2], pivot_by_platform.iloc[0,0], \n",
    "                             pivot_by_platform.iloc[1,1], pivot_by_platform.iloc[1,2], pivot_by_platform.iloc[1,0], \n",
    "                              equal_var=False)\n",
    "print('t: ', t2)\n",
    "print('p: ', p2)"
   ]
  },
  {
   "cell_type": "markdown",
   "id": "27d83b7f",
   "metadata": {},
   "source": [
    "### Free offer product\n",
    "- conversion rate for those who were offered 'free' product (trial w/ full access to app features) is 0.71% compared to 0.24% for those not offered trial"
   ]
  },
  {
   "cell_type": "code",
   "execution_count": null,
   "id": "85d7c22b",
   "metadata": {},
   "outputs": [],
   "source": [
    "pivot_by_offer = pd.pivot_table(df, index='OfferFree', values='IsPaid', aggfunc=('count','mean'))\n",
    "pivot_by_offer['mean'] = (pivot_by_offer['mean'].round(decimals=4))*100\n",
    "pivot_by_offer.columns = ['total installs','conversion rate']\n",
    "pivot_by_offer"
   ]
  },
  {
   "cell_type": "markdown",
   "id": "8e325ecb",
   "metadata": {},
   "source": [
    "### UICulture\n",
    " - different conversion (subscription) rates for countries likely arises from difference in average app spending and relative competition (availability of similar apps in each language)"
   ]
  },
  {
   "cell_type": "markdown",
   "id": "a7197b95",
   "metadata": {},
   "source": [
    "### TargetWeightInput: whether or not user input any data"
   ]
  },
  {
   "cell_type": "code",
   "execution_count": null,
   "id": "98bc1b47",
   "metadata": {},
   "outputs": [],
   "source": [
    "df['TargetWeightInput'] = df['TargetWeight']/df['TargetWeight']"
   ]
  },
  {
   "cell_type": "code",
   "execution_count": null,
   "id": "78600ecf",
   "metadata": {},
   "outputs": [],
   "source": [
    "df['TargetWeightInput'].fillna(value=0, inplace=True)\n",
    "df['TargetWeightInput'] = df['TargetWeightInput'].astype(bool)"
   ]
  },
  {
   "cell_type": "code",
   "execution_count": null,
   "id": "f04dacc3",
   "metadata": {},
   "outputs": [],
   "source": [
    "df['TargetWeightInput'].value_counts()"
   ]
  },
  {
   "cell_type": "markdown",
   "id": "5dbaec15",
   "metadata": {},
   "source": [
    "### SessionsPerDay\n",
    "- for paid users, appears as if most have stopped using the app (assuming active user would access app 1-5x per day)\n",
    "- possible issue with recording sessions in app data\n",
    "- need to define what constitues an active user"
   ]
  },
  {
   "cell_type": "code",
   "execution_count": null,
   "id": "fe6ed57b",
   "metadata": {},
   "outputs": [],
   "source": [
    "# SessionsPerDay\n",
    "df['SessionsPerDay'] = df['SessionCount']/df['DaysSinceInstall']"
   ]
  },
  {
   "cell_type": "code",
   "execution_count": null,
   "id": "4f02c60b",
   "metadata": {},
   "outputs": [],
   "source": [
    "df[df['IsPaid']==True]['SessionsPerDay'].plot.hist(bins=100)\n",
    "plt.xlim(0,5)"
   ]
  },
  {
   "cell_type": "markdown",
   "id": "1946ec15",
   "metadata": {},
   "source": [
    "### WeightDiff\n",
    "- user's goal (weight loss or gain)"
   ]
  },
  {
   "cell_type": "code",
   "execution_count": null,
   "id": "5ece110e",
   "metadata": {},
   "outputs": [],
   "source": [
    "df['WeightDiff'] = df['TargetWeight'] - df['LastWeight']"
   ]
  },
  {
   "cell_type": "markdown",
   "id": "199f1ef8",
   "metadata": {},
   "source": [
    "### LastBMI and TargetBMI\n",
    "- combine height and weight into one variable\n",
    "- indicator of \"health\" or \"fitness\""
   ]
  },
  {
   "cell_type": "code",
   "execution_count": null,
   "id": "98c9a8a0",
   "metadata": {},
   "outputs": [],
   "source": [
    "# current BMI (kg/m^2) = last weight (kg)/height^2 (m^2)\n",
    "df['LastBMI'] = df['LastWeight']/((df['Height']/100)**2)\n",
    "\n",
    "# target BMI (kg/m^2) = target weight(kg)/height^2 (m^2)\n",
    "df['TargetBMI'] = df['TargetWeight']/((df['Height']/100)**2)"
   ]
  },
  {
   "cell_type": "markdown",
   "id": "1b48a79f",
   "metadata": {},
   "source": [
    "### AgeGroup: add new feature for age groups based on distribution\n",
    "- address sparse data issue with few paid users for a given age year\n",
    "- as anticipated, older users are willing to and/or have the means to pay compared to younger users"
   ]
  },
  {
   "cell_type": "code",
   "execution_count": null,
   "id": "204ef45d",
   "metadata": {},
   "outputs": [],
   "source": [
    "# split dataframe into two: 1) zero value of AgeWhenGoalsSet and 2) non-zero values of AgeWhenGoalsSet\n",
    "df_age_zero = df[df['AgeWhenGoalsSet']==0]\n",
    "df_age_nonzero = df[df['AgeWhenGoalsSet']!=0]\n",
    "\n",
    "# bin age into quintiles and assign to column AgeGroup\n",
    "quintiles = pd.qcut(df_age_nonzero['AgeWhenGoalsSet'], 5, labels=[1,2,3,4,5])\n",
    "df_age_nonzero = df_age_nonzero.assign(AgeGroup=quintiles.values)\n",
    "\n",
    "# change from category to int\n",
    "df_age_nonzero['AgeGroup'] = df_age_nonzero['AgeGroup'].astype(int)\n",
    "\n",
    "# set AgeGroup=0 for zero age (no input)\n",
    "df_age_zero = df_age_zero.assign(AgeGroup=0)\n",
    "\n",
    "# recombine dataframes\n",
    "df = pd.concat([df_age_zero,df_age_nonzero])"
   ]
  },
  {
   "cell_type": "code",
   "execution_count": null,
   "id": "10d53713",
   "metadata": {},
   "outputs": [],
   "source": [
    "pd.pivot_table(df, index='AgeGroup', values='IsPaid', aggfunc=('count','mean'))"
   ]
  },
  {
   "cell_type": "markdown",
   "id": "3f453de4",
   "metadata": {},
   "source": [
    "### LastProduct, LastProductValue, SingleProduct, TwoProducts\n",
    "- change nan values to 'not paid' or zero"
   ]
  },
  {
   "cell_type": "code",
   "execution_count": null,
   "id": "8f9bbe41",
   "metadata": {},
   "outputs": [],
   "source": [
    "df['LastProduct'].fillna(value='not_paid', inplace=True)\n",
    "df['LastProductValue'].fillna(value=0, inplace=True)\n",
    "df['SingleProduct'].fillna(value='not_offered', inplace=True)\n",
    "df['TwoProducts'].fillna(value='not_offered', inplace=True)"
   ]
  },
  {
   "cell_type": "markdown",
   "id": "9ad66c68",
   "metadata": {},
   "source": [
    "### Save cleaned data and new features"
   ]
  },
  {
   "cell_type": "code",
   "execution_count": null,
   "id": "e6cf4add",
   "metadata": {},
   "outputs": [],
   "source": [
    "df.to_pickle('df_clean-2018-03-16-newfeat')"
   ]
  },
  {
   "cell_type": "markdown",
   "id": "f53b17f8",
   "metadata": {},
   "source": [
    "### QProductAmtOffer: add new feature to show dollar amount offered for a Q subscription product"
   ]
  },
  {
   "cell_type": "code",
   "execution_count": null,
   "id": "af43cba8",
   "metadata": {},
   "outputs": [],
   "source": [
    "Conversion_by_date = pd.pivot_table(df, index=[df['InstallDate'].dt.year, df['InstallDate'].dt.month],\n",
    "                                    values='IsPaid', aggfunc=('count', 'mean'))"
   ]
  },
  {
   "cell_type": "code",
   "execution_count": null,
   "id": "a1a10a8a",
   "metadata": {},
   "outputs": [],
   "source": [
    "Conversion_by_date['mean'] = (Conversion_by_date['mean'].round(decimals=4))*100"
   ]
  },
  {
   "cell_type": "code",
   "execution_count": null,
   "id": "bbd94c00",
   "metadata": {},
   "outputs": [],
   "source": [
    "Conversion_by_date.columns = ['total installs', 'conversion rate']"
   ]
  },
  {
   "cell_type": "code",
   "execution_count": null,
   "id": "123d38e3",
   "metadata": {},
   "outputs": [],
   "source": [
    "Conversion_by_date"
   ]
  },
  {
   "cell_type": "markdown",
   "id": "6a5ae5cb",
   "metadata": {},
   "source": [
    "## App personalization features input by user:"
   ]
  },
  {
   "cell_type": "markdown",
   "id": "790e8a60",
   "metadata": {},
   "source": [
    "### User age distribution"
   ]
  },
  {
   "cell_type": "code",
   "execution_count": null,
   "id": "46162c63",
   "metadata": {},
   "outputs": [],
   "source": [
    "df_clean = pd.read_pickle('df_clean-2018-03-16-newfeat')"
   ]
  },
  {
   "cell_type": "code",
   "execution_count": null,
   "id": "52d1e324",
   "metadata": {},
   "outputs": [],
   "source": [
    "# save subset of dataframe with Q product as separate\n",
    "df_Q = pd.DataFrame(df_clean.loc[df['SingleProduct'].str.contains('q'), df_clean.columns])"
   ]
  },
  {
   "cell_type": "code",
   "execution_count": null,
   "id": "c67c3e2e",
   "metadata": {},
   "outputs": [],
   "source": [
    "df_Q = df_Q.reset_index(drop=True)"
   ]
  },
  {
   "cell_type": "code",
   "execution_count": null,
   "id": "651d232c",
   "metadata": {},
   "outputs": [],
   "source": [
    "df_Q['SingleProduct'].value_counts()"
   ]
  },
  {
   "cell_type": "code",
   "execution_count": null,
   "id": "5ba5873c",
   "metadata": {},
   "outputs": [],
   "source": [
    "# The number following 'q' is the price offered.\n",
    "df_Q['QProductAmtOffer']=df_Q['SingleProduct'].str.extract(r'(?<=q)(\\d+)', expand=False).fillna(0).astype(int)"
   ]
  },
  {
   "cell_type": "markdown",
   "id": "1119d27e",
   "metadata": {},
   "source": [
    "### QProductAmtPaid: amount paid for a Q product subscription offer"
   ]
  },
  {
   "cell_type": "code",
   "execution_count": null,
   "id": "d26af958",
   "metadata": {},
   "outputs": [],
   "source": [
    "# If user pays, LastProduct records the subscription. \n",
    "# Find all subscriptions with 'q' and strip the number following it."
   ]
  },
  {
   "cell_type": "code",
   "execution_count": null,
   "id": "b45cd1d9",
   "metadata": {},
   "outputs": [],
   "source": [
    "df_Q['QProductAmtPaid']=df_Q['LastProduct'].str.extract(r'(?<=q)(\\d+)', expand=False).fillna(0).astype(int)"
   ]
  },
  {
   "cell_type": "code",
   "execution_count": null,
   "id": "b06c79bc",
   "metadata": {},
   "outputs": [],
   "source": [
    "df_Q['QProductAmtPaid'].value_counts()"
   ]
  },
  {
   "cell_type": "markdown",
   "id": "01627169",
   "metadata": {},
   "source": [
    "### Save cleaned data"
   ]
  },
  {
   "cell_type": "code",
   "execution_count": null,
   "id": "1e30fcfa",
   "metadata": {},
   "outputs": [],
   "source": [
    "# DaysSinceInstall does not have values\n",
    "df['DaysSinceInstall'].value_counts()"
   ]
  },
  {
   "cell_type": "code",
   "execution_count": null,
   "id": "94f4efce",
   "metadata": {},
   "outputs": [],
   "source": [
    "from datetime import datetime\n",
    "from datetime import timedelta"
   ]
  },
  {
   "cell_type": "code",
   "execution_count": null,
   "id": "3d904f9a",
   "metadata": {},
   "outputs": [],
   "source": [
    "# include the day it was installed\n",
    "df['DaysSinceInstall'] = datetime(2018,3,16) - df['InstallDate'] + timedelta(days=1)"
   ]
  },
  {
   "cell_type": "code",
   "execution_count": null,
   "id": "8d657acc",
   "metadata": {},
   "outputs": [],
   "source": [
    "# change to integer type\n",
    "df['DaysSinceInstall']=(df['DaysSinceInstall'] / np.timedelta64(1, 'D')).astype(int)"
   ]
  },
  {
   "cell_type": "code",
   "execution_count": null,
   "id": "aea0cbed",
   "metadata": {},
   "outputs": [],
   "source": [
    "# something wrong with InstallDate, has many dates in the future\n",
    "df[df['DaysSinceInstall']<=0]['DaysSinceInstall'].count()"
   ]
  },
  {
   "cell_type": "code",
   "execution_count": null,
   "id": "98b45d08",
   "metadata": {},
   "outputs": [],
   "source": [
    "# No paid entries with negative DaysSinceInstall\n",
    "df[(df['DaysSinceInstall']<=0) & (df['IsPaid']==True)]['ID'].count()"
   ]
  },
  {
   "cell_type": "code",
   "execution_count": null,
   "id": "0cb15cb6",
   "metadata": {},
   "outputs": [],
   "source": [
    "# Reset the entries with negative DaysSinceInstall to 1 day\n",
    "df.loc[df['DaysSinceInstall']<=0, 'DaysSinceInstall']=1"
   ]
  },
  {
   "cell_type": "code",
   "execution_count": null,
   "id": "1faa38b9",
   "metadata": {},
   "outputs": [],
   "source": [
    "df[df['DaysSinceInstall']<=0]['DaysSinceInstall'].count()"
   ]
  },
  {
   "cell_type": "markdown",
   "id": "1f798a39",
   "metadata": {},
   "source": [
    "## Add new features\n",
    "- create features that allow for comparison\n",
    "- create features that indicate whether or not user input any data (Age, TargetWeight)"
   ]
  },
  {
   "cell_type": "markdown",
   "id": "982261c2",
   "metadata": {},
   "source": [
    "### AgeInput: whether or not user input any data"
   ]
  },
  {
   "cell_type": "code",
   "execution_count": null,
   "id": "561abf0b",
   "metadata": {},
   "outputs": [],
   "source": [
    "df['AgeInput']=df['AgeWhenGoalsSet']/df['AgeWhenGoalsSet']"
   ]
  },
  {
   "cell_type": "code",
   "execution_count": null,
   "id": "8825dc10",
   "metadata": {},
   "outputs": [],
   "source": [
    "df['AgeInput'].fillna(value=0, inplace=True)"
   ]
  },
  {
   "cell_type": "code",
   "execution_count": null,
   "id": "b2c25cdc",
   "metadata": {},
   "outputs": [],
   "source": [
    "df['AgeInput'] = df['AgeInput'].astype(bool)"
   ]
  },
  {
   "cell_type": "code",
   "execution_count": null,
   "id": "8a5e5dc7",
   "metadata": {},
   "outputs": [],
   "source": [
    "df['AgeInput'].value_counts()"
   ]
  }
 ],
 "metadata": {},
 "nbformat": 4,
 "nbformat_minor": 5
}
