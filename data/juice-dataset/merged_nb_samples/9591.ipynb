{
 "cells": [
  {
   "cell_type": "markdown",
   "id": "ef9983e4",
   "metadata": {},
   "source": [
    "<img src=\"http://oproject.org/img/PYMVA.png\" height=\"30%\" width=\"30%\">"
   ]
  },
  {
   "cell_type": "markdown",
   "id": "f6a91905",
   "metadata": {},
   "source": [
    "<hr style=\"border-top-width: 4px; border-top-color: #34609b;\">"
   ]
  },
  {
   "cell_type": "markdown",
   "id": "63230854",
   "metadata": {},
   "source": [
    "# Binary classification with PyMVA"
   ]
  },
  {
   "cell_type": "code",
   "execution_count": null,
   "id": "cec1616e",
   "metadata": {},
   "outputs": [],
   "source": [
    "import ROOT"
   ]
  },
  {
   "cell_type": "code",
   "execution_count": null,
   "id": "4aaa6e45",
   "metadata": {},
   "outputs": [],
   "source": [
    "# Select Theano as backend for Keras\n",
    "from os import environ\n",
    "environ['KERAS_BACKEND'] = 'theano'\n",
    "\n",
    "# Set architecture of system (AVX instruction set is not supported on SWAN)\n",
    "environ['THEANO_FLAGS'] = 'gcc.cxxflags=-march=corei7'\n",
    "\n",
    "from keras.models import Sequential\n",
    "from keras.layers.core import Dense, Dropout\n",
    "from keras.optimizers import Adam"
   ]
  },
  {
   "cell_type": "markdown",
   "id": "6e8f10ea",
   "metadata": {},
   "source": [
    "## Load data"
   ]
  },
  {
   "cell_type": "code",
   "execution_count": null,
   "id": "0bf122af",
   "metadata": {},
   "outputs": [],
   "source": [
    "# Open file\n",
    "data = ROOT.TFile.Open('https://raw.githubusercontent.com/iml-wg/tmvatutorials/master/inputdata.root')\n",
    "\n",
    "# Get signal and background trees from file\n",
    "signal = data.Get('TreeS')\n",
    "background = data.Get('TreeB')\n",
    "\n",
    "# Add variables to dataloader\n",
    "dataloader = ROOT.TMVA.DataLoader('dataset_pymva')\n",
    "numVariables = len(signal.GetListOfBranches())\n",
    "for branch in signal.GetListOfBranches():\n",
    "    dataloader.AddVariable(branch.GetName())\n",
    "\n",
    "# Add trees to dataloader\n",
    "dataloader.AddSignalTree(signal, 1.0)\n",
    "dataloader.AddBackgroundTree(background, 1.0)\n",
    "trainTestSplit = 0.8\n",
    "dataloader.PrepareTrainingAndTestTree(ROOT.TCut(''),\n",
    "        'TrainTestSplit_Signal={}:'.format(trainTestSplit)+\\\n",
    "        'TrainTestSplit_Background={}:'.format(trainTestSplit)+\\\n",
    "        'SplitMode=Random')"
   ]
  },
  {
   "cell_type": "markdown",
   "id": "bd57ca5c",
   "metadata": {},
   "source": [
    "## Set up TMVA"
   ]
  },
  {
   "cell_type": "code",
   "execution_count": null,
   "id": "76f3457f",
   "metadata": {},
   "outputs": [],
   "source": [
    "# Setup TMVA\n",
    "ROOT.TMVA.Tools.Instance()\n",
    "ROOT.TMVA.PyMethodBase.PyInitialize()\n",
    "\n",
    "outputFile = ROOT.TFile.Open('TMVAOutputPyMVA.root', 'RECREATE')\n",
    "factory = ROOT.TMVA.Factory('TMVAClassification', outputFile,\n",
    "        '!V:!Silent:Color:DrawProgressBar:Transformations=I,G:'+\\\n",
    "        'AnalysisType=Classification')"
   ]
  },
  {
   "cell_type": "markdown",
   "id": "bbe7ada8",
   "metadata": {},
   "source": [
    "## Define model for Keras"
   ]
  },
  {
   "cell_type": "code",
   "execution_count": null,
   "id": "c228da33",
   "metadata": {},
   "outputs": [],
   "source": [
    "# Define model\n",
    "model = Sequential()\n",
    "model.add(Dense(32, init='glorot_normal', activation='relu',\n",
    "        input_dim=numVariables))\n",
    "model.add(Dropout(0.5))\n",
    "model.add(Dense(32, init='glorot_normal', activation='relu'))\n",
    "model.add(Dropout(0.5))\n",
    "model.add(Dense(2, init='glorot_uniform', activation='softmax'))\n",
    "\n",
    "# Set loss and optimizer\n",
    "model.compile(loss='categorical_crossentropy', optimizer=Adam(),\n",
    "        metrics=['categorical_accuracy',])\n",
    "\n",
    "# Store model to file\n",
    "model.save('model.h5')\n",
    "\n",
    "# Print summary of model\n",
    "model.summary()"
   ]
  },
  {
   "cell_type": "markdown",
   "id": "2277f013",
   "metadata": {},
   "source": [
    "## Book methods\n",
    "\n",
    "Just run the cells that contain the classifiers you want to try."
   ]
  },
  {
   "cell_type": "code",
   "execution_count": null,
   "id": "8d341bff",
   "metadata": {},
   "outputs": [],
   "source": [
    "# Keras interface with previously defined model\n",
    "factory.BookMethod(dataloader, ROOT.TMVA.Types.kPyKeras, 'PyKeras',\n",
    "        'H:!V:VarTransform=G:FilenameModel=model.h5:'+\\\n",
    "        'NumEpochs=10:BatchSize=32:'+\\\n",
    "        'TriesEarlyStopping=3')"
   ]
  },
  {
   "cell_type": "code",
   "execution_count": null,
   "id": "68a05e77",
   "metadata": {},
   "outputs": [],
   "source": [
    "# Gradient tree boosting from scikit-learn package\n",
    "factory.BookMethod(dataloader, ROOT.TMVA.Types.kPyGTB, 'GTB',\n",
    "        'H:!V:VarTransform=None:'+\\\n",
    "        'NEstimators=100:LearningRate=0.1:MaxDepth=3')"
   ]
  },
  {
   "cell_type": "markdown",
   "id": "5b8ab2bd",
   "metadata": {},
   "source": [
    "## Run training, testing and evaluation"
   ]
  },
  {
   "cell_type": "code",
   "execution_count": null,
   "id": "7271e213",
   "metadata": {},
   "outputs": [],
   "source": [
    "factory.TrainAllMethods()"
   ]
  },
  {
   "cell_type": "code",
   "execution_count": null,
   "id": "d4b6209b",
   "metadata": {},
   "outputs": [],
   "source": [
    "factory.TestAllMethods()"
   ]
  },
  {
   "cell_type": "code",
   "execution_count": null,
   "id": "ba7981ad",
   "metadata": {},
   "outputs": [],
   "source": [
    "factory.EvaluateAllMethods()"
   ]
  },
  {
   "cell_type": "markdown",
   "id": "99d7593a",
   "metadata": {},
   "source": [
    "## Print ROC"
   ]
  }
 ],
 "metadata": {},
 "nbformat": 4,
 "nbformat_minor": 5
}
