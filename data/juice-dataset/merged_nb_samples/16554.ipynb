{
 "cells": [
  {
   "cell_type": "markdown",
   "id": "7e32fe3f",
   "metadata": {},
   "source": [
    "# Using Polara for custom evaluation scenarios"
   ]
  },
  {
   "cell_type": "markdown",
   "id": "041e2544",
   "metadata": {},
   "source": [
    "Polara is designed to automate the process of model prototyping and evaluation as much as possible. As a part of it,\n",
    "<div class=\"alert alert-block alert-info\">Polara follows a certain data management workflow, aimed at maintaining a consistent and predictable internal state.</div> \n",
    "\n",
    "By default, it implements several conventional evaluation scenarios fully controlled by a set of configurational parameters. A user does not have to worry about anything beyond just setting the appropriate values of these parameters (a complete list of them can be obtained by calling the `get_configuration` method of a `RecommenderData` instance). As the result an input preferences data will be automatically pre-processed and converted into a convenient representation with an independent access to the training and evaluation parts. \n",
    "\n",
    "This default behaviour, however, can be flexibly manipulated to run custom scenarios with externally provided evaluation data. This flexibility is achieved with the help of the special `set_test_data` method implemented in the `RecommenderData` class. This guide demonstrates how to use the configuration parameters in conjunction with this method to cover various customizations."
   ]
  },
  {
   "cell_type": "markdown",
   "id": "ba944d58",
   "metadata": {},
   "source": [
    "## Prepare data"
   ]
  },
  {
   "cell_type": "markdown",
   "id": "9e9fdc77",
   "metadata": {},
   "source": [
    "We will use Movielens-1M data for experimentation. The data will be divided into several parts:\n",
    "1. *observations*, used for training, \n",
    "2. *holdout*, used for evaluating recommendations against the true preferences,\n",
    "3. *unseen data*, used for warm-start scenarios, where test users with their preferences are not a part of training.\n",
    "\n",
    "The last two datasets serve as an imitation of external data sources, which are not a part of initial data model.  \n",
    "Also note, that *holdout* dataset contains items of both known and unseen (warm-start) users."
   ]
  },
  {
   "cell_type": "code",
   "execution_count": null,
   "id": "a11c0336",
   "metadata": {},
   "outputs": [],
   "source": [
    "from __future__ import print_function\n",
    "import numpy as np\n",
    "from polara.datasets.movielens import get_movielens_data"
   ]
  },
  {
   "cell_type": "code",
   "execution_count": null,
   "id": "7ccacb54",
   "metadata": {},
   "outputs": [],
   "source": [
    "seed = 0\n",
    "def random_state(seed=seed): # to fix random state in experiments\n",
    "    return np.random.RandomState(seed=seed)"
   ]
  },
  {
   "cell_type": "markdown",
   "id": "04038a85",
   "metadata": {},
   "source": [
    "Downloading the data (alternatively you can provide a path to the local copy of the data as an argument to the function):"
   ]
  },
  {
   "cell_type": "code",
   "execution_count": null,
   "id": "e5124d06",
   "metadata": {},
   "outputs": [],
   "source": [
    "data = get_movielens_data()"
   ]
  },
  {
   "cell_type": "markdown",
   "id": "1e8f006c",
   "metadata": {},
   "source": [
    "Sampling 5% of the preferences data to form the *holdout* dataset:"
   ]
  },
  {
   "cell_type": "code",
   "execution_count": null,
   "id": "6c83d3dd",
   "metadata": {},
   "outputs": [],
   "source": [
    "data_model.set_test_data(test_users=test_users, warm_start=False)"
   ]
  },
  {
   "cell_type": "markdown",
   "id": "4fb1b2bf",
   "metadata": {},
   "source": [
    "Recommendations in that case will have a corresponding shape of `number of test users` x `top-n` (by default top-10)."
   ]
  },
  {
   "cell_type": "code",
   "execution_count": null,
   "id": "bbe380f1",
   "metadata": {},
   "outputs": [],
   "source": [
    "svd.get_recommendations().shape"
   ]
  },
  {
   "cell_type": "code",
   "execution_count": null,
   "id": "d1949d2a",
   "metadata": {},
   "outputs": [],
   "source": [
    "print((len(test_users), svd.topk))"
   ]
  },
  {
   "cell_type": "markdown",
   "id": "84768b28",
   "metadata": {},
   "source": [
    "As the holdout was not provided, it's previous state is cleared from the data model:"
   ]
  },
  {
   "cell_type": "code",
   "execution_count": null,
   "id": "255f8778",
   "metadata": {},
   "outputs": [],
   "source": [
    "print(data_model.test.holdout)"
   ]
  },
  {
   "cell_type": "markdown",
   "id": "167aa9ca",
   "metadata": {},
   "source": [
    "The order of test user id's in the recommendations matrix may not correspond to their order in the `test_users` list. The true order can be obtained via `index` attribute - the users are sorted in ascending order by their internal index. This order is used to construct the recommendations matrix."
   ]
  },
  {
   "cell_type": "code",
   "execution_count": null,
   "id": "4f7f109e",
   "metadata": {},
   "outputs": [],
   "source": [
    "data_model.index.userid.training.query('old in @test_users')"
   ]
  },
  {
   "cell_type": "code",
   "execution_count": null,
   "id": "04d5a706",
   "metadata": {},
   "outputs": [],
   "source": [
    "test_users"
   ]
  },
  {
   "cell_type": "markdown",
   "id": "59218aa1",
   "metadata": {},
   "source": [
    "Note, that **there's no need to provide *testset* argument in the case of known users**.\n",
    "All the information about test users' preferences is assumed to be fully present in the training data and the following function call will intentionally raise an error:  \n",
    "```python\n",
    "data_model.set_test_data(testset=some_test_data, warm_start=False)\n",
    "```\n",
    "If the testset contains new (unseen) information, you should consider the warm-start scenarios, described below."
   ]
  },
  {
   "cell_type": "markdown",
   "id": "5e9a1109",
   "metadata": {},
   "source": [
    "## Scenario 3: see recommendations for unseen users without evaluation"
   ]
  },
  {
   "cell_type": "markdown",
   "id": "a42b7a46",
   "metadata": {},
   "source": [
    "Let's form a dataset with new users and their preferences:"
   ]
  },
  {
   "cell_type": "code",
   "execution_count": null,
   "id": "9a81d9f7",
   "metadata": {},
   "outputs": [],
   "source": [
    "unseen_data = data_sampled.query('userid in @unseen_users')\n",
    "unseen_data.shape"
   ]
  },
  {
   "cell_type": "code",
   "execution_count": null,
   "id": "a7545d2a",
   "metadata": {},
   "outputs": [],
   "source": [
    "assert unseen_data.userid.nunique() == len(unseen_users)\n",
    "print(len(unseen_users))"
   ]
  },
  {
   "cell_type": "markdown",
   "id": "ede1dce2",
   "metadata": {},
   "source": [
    "None of these users are present in the training:"
   ]
  },
  {
   "cell_type": "markdown",
   "id": "ff4c5a2f",
   "metadata": {},
   "source": [
    "In the competitions like [*Netflix Prize*](https://en.wikipedia.org/wiki/Netflix_Prize) you may be provided with a dedicated evaluation dataset (a *probe* set), which contains hidden preferences information about *known* users. In terms of the Polara syntax, this is a *holdout* set.\n",
    "\n",
    "You can assign this holdout set to the data model by calling the `set_test_data` method as follows:"
   ]
  },
  {
   "cell_type": "code",
   "execution_count": null,
   "id": "f452908b",
   "metadata": {},
   "outputs": [],
   "source": [
    "data_model.set_test_data(holdout=holdout, warm_start=False)"
   ]
  },
  {
   "cell_type": "markdown",
   "id": "bcdf0028",
   "metadata": {},
   "source": [
    "Mind the `warm_start=False` argument, which tells Polara to work only with known users. If some users from holdout are not a part of the training data, they will be filtered out and the corresponding notification message will be displayed (you can turn it off by setting `data_model.verbose=False`). In this example 1129 users were filtered out, as initially the holdout set contained both known and unknown users.\n",
    "\n",
    "Note, that items not present in the training data are also filtered. This behavior can be changed by setting `data_model.ensure_consistency=False` (not recommended)."
   ]
  },
  {
   "cell_type": "code",
   "execution_count": null,
   "id": "fd7fe283",
   "metadata": {},
   "outputs": [],
   "source": [
    "data_model.test.holdout.userid.nunique()"
   ]
  },
  {
   "cell_type": "markdown",
   "id": "c3889cbd",
   "metadata": {},
   "source": [
    "The recommendation model can now be evaluated:"
   ]
  },
  {
   "cell_type": "code",
   "execution_count": null,
   "id": "96d09e61",
   "metadata": {},
   "outputs": [],
   "source": [
    "svd.switch_positive = 4 # treat ratings below 4 as negative feedback\n",
    "svd.evaluate()"
   ]
  },
  {
   "cell_type": "code",
   "execution_count": null,
   "id": "491dec87",
   "metadata": {},
   "outputs": [],
   "source": [
    "data_model.test.holdout.query('rating>=4').shape[0] # maximum number of possible true_positive hits"
   ]
  },
  {
   "cell_type": "code",
   "execution_count": null,
   "id": "ed04b660",
   "metadata": {},
   "outputs": [],
   "source": [
    "svd.evaluate('relevance')"
   ]
  },
  {
   "cell_type": "markdown",
   "id": "3fc0d1ba",
   "metadata": {},
   "source": [
    "## Scenario 2: see recommendations for selected known users without evaluation"
   ]
  },
  {
   "cell_type": "markdown",
   "id": "0a489358",
   "metadata": {},
   "source": [
    "Polara also allows to handle cases, where you don't have a probe set and the task is to simply generate recommendations for a list of selected test users. The evaluation in that case is to be performed externally.\n",
    "\n",
    "Let's randomly pick a few test users from all known users (i.e. those who are present in the training data):"
   ]
  },
  {
   "cell_type": "code",
   "execution_count": null,
   "id": "b5a1dccf",
   "metadata": {},
   "outputs": [],
   "source": [
    "test_users = random_state().choice(users, size=5, replace=False)\n",
    "test_users"
   ]
  },
  {
   "cell_type": "markdown",
   "id": "744f5fe6",
   "metadata": {},
   "source": [
    "You can provide this list by setting the `test_users` argument of the `set_test_data` method:"
   ]
  },
  {
   "cell_type": "code",
   "execution_count": null,
   "id": "c16dee42",
   "metadata": {},
   "outputs": [],
   "source": [
    "data_model.index.userid.training.old.isin(unseen_users).any()"
   ]
  },
  {
   "cell_type": "markdown",
   "id": "00166828",
   "metadata": {},
   "source": [
    "In order to generate recommendations for these users, we assign the dataset of their preferences as a *testset* (mind the *warm_start* argument value):"
   ]
  },
  {
   "cell_type": "code",
   "execution_count": null,
   "id": "b0b4790e",
   "metadata": {},
   "outputs": [],
   "source": [
    "data_model.set_test_data(testset=unseen_data, warm_start=True)"
   ]
  },
  {
   "cell_type": "markdown",
   "id": "e75bb508",
   "metadata": {},
   "source": [
    "As we use an SVD-based model, there is no need for any modifications to generate recommendations - it uses the same analytical formula for both standard and warm-start regime:"
   ]
  },
  {
   "cell_type": "markdown",
   "id": "29c326c4",
   "metadata": {},
   "source": [
    "Note, that internally the `unseen_data` dataset is transformed: users are reindexed starting from 0 and items are reindexed based on the current item index of the training set."
   ]
  },
  {
   "cell_type": "code",
   "execution_count": null,
   "id": "819022b4",
   "metadata": {},
   "outputs": [],
   "source": [
    "data_sampled = data.sample(frac=0.95, random_state=random_state()).sort_values('userid')"
   ]
  },
  {
   "cell_type": "code",
   "execution_count": null,
   "id": "7c5204ae",
   "metadata": {},
   "outputs": [],
   "source": [
    "holdout = data[~data.index.isin(data_sampled.index)]"
   ]
  },
  {
   "cell_type": "markdown",
   "id": "093630e7",
   "metadata": {},
   "source": [
    "Make 20% of all users unseen during the training phase:"
   ]
  },
  {
   "cell_type": "code",
   "execution_count": null,
   "id": "308a38e9",
   "metadata": {},
   "outputs": [],
   "source": [
    "users, unseen_users = np.split(data_sampled.userid.drop_duplicates().values,\n",
    "                               [int(0.8*data_sampled.userid.nunique()),])"
   ]
  },
  {
   "cell_type": "code",
   "execution_count": null,
   "id": "6ed39c9d",
   "metadata": {},
   "outputs": [],
   "source": [
    "observations = data_sampled.query('userid in @users')"
   ]
  },
  {
   "cell_type": "markdown",
   "id": "bdb38bd9",
   "metadata": {},
   "source": [
    "## Scenario 0: building a recommender model without any evaluation"
   ]
  },
  {
   "cell_type": "markdown",
   "id": "f0dfd44b",
   "metadata": {},
   "source": [
    "This is the simplest case, which allows to completely ignore evaluation phase. **This sets an initial configuration for all further evaluation scenarios**."
   ]
  },
  {
   "cell_type": "code",
   "execution_count": null,
   "id": "18562076",
   "metadata": {},
   "outputs": [],
   "source": [
    "from polara.recommender.data import RecommenderData\n",
    "from polara.recommender.models import SVDModel"
   ]
  },
  {
   "cell_type": "code",
   "execution_count": null,
   "id": "1b71b40d",
   "metadata": {},
   "outputs": [],
   "source": [
    "data_model = RecommenderData(observations, 'userid', 'movieid', 'rating', seed=seed)"
   ]
  },
  {
   "cell_type": "markdown",
   "id": "b74a31f7",
   "metadata": {},
   "source": [
    "We will use `prepare_training_only` method instead of the general `prepare`:"
   ]
  },
  {
   "cell_type": "code",
   "execution_count": null,
   "id": "c3086471",
   "metadata": {},
   "outputs": [],
   "source": [
    "data_model.prepare_training_only()"
   ]
  },
  {
   "cell_type": "markdown",
   "id": "cda70d5d",
   "metadata": {},
   "source": [
    "This sets all the required configuration parameters and transform the data accordingly."
   ]
  },
  {
   "cell_type": "markdown",
   "id": "edf07ba8",
   "metadata": {},
   "source": [
    "Let's check that test data is empty,"
   ]
  },
  {
   "cell_type": "code",
   "execution_count": null,
   "id": "ca8ec244",
   "metadata": {},
   "outputs": [],
   "source": [
    "data_model.test"
   ]
  },
  {
   "cell_type": "markdown",
   "id": "5ab1bed2",
   "metadata": {},
   "source": [
    "and the whole input was used as a training part:"
   ]
  },
  {
   "cell_type": "code",
   "execution_count": null,
   "id": "553ef8b7",
   "metadata": {},
   "outputs": [],
   "source": [
    "data_model.training.shape"
   ]
  },
  {
   "cell_type": "code",
   "execution_count": null,
   "id": "84085356",
   "metadata": {},
   "outputs": [],
   "source": [
    "observations.shape"
   ]
  },
  {
   "cell_type": "markdown",
   "id": "9c472ff0",
   "metadata": {},
   "source": [
    "Internally, the data was transformed to have a certain numeric representation, which Polara relies on:"
   ]
  },
  {
   "cell_type": "code",
   "execution_count": null,
   "id": "ae2f9c91",
   "metadata": {},
   "outputs": [],
   "source": [
    "data_model.training.head()"
   ]
  },
  {
   "cell_type": "code",
   "execution_count": null,
   "id": "00ee9d5e",
   "metadata": {},
   "outputs": [],
   "source": [
    "observations.head()"
   ]
  },
  {
   "cell_type": "markdown",
   "id": "5db4ed0f",
   "metadata": {},
   "source": [
    "<div class=\"alert alert-block alert-info\">The mapping between external and internal data representations is stored in the `data_model.index` attribute.</div>\n",
    "The transformation can be disabled by setting the `build_index` attribute to `False` before data processing (not recommended)."
   ]
  },
  {
   "cell_type": "markdown",
   "id": "43ef9cb2",
   "metadata": {},
   "source": [
    "You can easily build a recommendation model now:"
   ]
  },
  {
   "cell_type": "code",
   "execution_count": null,
   "id": "5b31a710",
   "metadata": {},
   "outputs": [],
   "source": [
    "svd = SVDModel(data_model)\n",
    "svd.build()"
   ]
  },
  {
   "cell_type": "markdown",
   "id": "a6a3b251",
   "metadata": {},
   "source": [
    "However, the recommendations cannot be generated, as there is no testing data. The following function call will raise an error:\n",
    "```python\n",
    "svd.get_recommendations()\n",
    "```"
   ]
  },
  {
   "cell_type": "markdown",
   "id": "425ebd34",
   "metadata": {},
   "source": [
    "## Scenario 1: evaluation with pre-specified holdout data for known users"
   ]
  },
  {
   "cell_type": "code",
   "execution_count": null,
   "id": "df6df6f3",
   "metadata": {},
   "outputs": [],
   "source": [
    "data_model.test.testset.head()"
   ]
  },
  {
   "cell_type": "code",
   "execution_count": null,
   "id": "fd06b936",
   "metadata": {},
   "outputs": [],
   "source": [
    "data_model.index.userid.test.head() # test user index mapping, new index starts from 0"
   ]
  },
  {
   "cell_type": "code",
   "execution_count": null,
   "id": "069b83dc",
   "metadata": {},
   "outputs": [],
   "source": [
    "data_model.index.itemid.head() # item index mapping"
   ]
  },
  {
   "cell_type": "code",
   "execution_count": null,
   "id": "7abbf2a2",
   "metadata": {},
   "outputs": [],
   "source": [
    "unseen_data.head()"
   ]
  },
  {
   "cell_type": "markdown",
   "id": "2f40ec4e",
   "metadata": {},
   "source": [
    "## Scenario 4: evaluate recommendations for unseen users with external holdout data"
   ]
  },
  {
   "cell_type": "markdown",
   "id": "a9df95f3",
   "metadata": {},
   "source": [
    "This is the most complete scenario. We generate recommendations based on the test users' preferences, encoded in the `testset`, and evaluate them against the `holdout`. You should use this setup only when the Polara's built-in warm-start evaluation pipeline (turned on by `data_model.warm_start=True` ) is not sufficient, , e.g. when the preferences data is fixed and provided externally."
   ]
  },
  {
   "cell_type": "code",
   "execution_count": null,
   "id": "c61ee954",
   "metadata": {},
   "outputs": [],
   "source": [
    "data_model.set_test_data(testset=unseen_data, holdout=holdout, warm_start=True)"
   ]
  },
  {
   "cell_type": "markdown",
   "id": "30af9abc",
   "metadata": {},
   "source": [
    "As previously, all unrelated users and items are removed from the datasets and the remaining entities are reindexed."
   ]
  }
 ],
 "metadata": {},
 "nbformat": 4,
 "nbformat_minor": 5
}
