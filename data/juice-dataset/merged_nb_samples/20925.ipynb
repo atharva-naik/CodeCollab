{
 "cells": [
  {
   "cell_type": "markdown",
   "id": "ad056620",
   "metadata": {},
   "source": [
    "# Transversity-Pretzelosity Analysis"
   ]
  },
  {
   "cell_type": "code",
   "execution_count": null,
   "id": "8a851a57",
   "metadata": {},
   "outputs": [],
   "source": [
    "import sys\n",
    "import os;os.chdir('../')\n",
    "import itertools as it\n",
    "import numpy as np\n",
    "import pandas as pd\n",
    "import pylab as py\n",
    "from  matplotlib import rc\n",
    "from matplotlib.colors import LogNorm\n",
    "%matplotlib inline\n",
    "from tools.tools import save,load,lprint,load_config\n",
    "from tools.bar import BAR\n",
    "from fitlab.resman import RESMAN\n",
    "from fitlab.parman import PARMAN\n",
    "rc('font',**{'family':'sans-serif','sans-serif':['Helvetica']})\n",
    "rc('text',usetex=True)"
   ]
  },
  {
   "cell_type": "code",
   "execution_count": null,
   "id": "6f1a9b85",
   "metadata": {},
   "outputs": [],
   "source": [
    "conf=load_config('inputs/transversity-pretzelosity.py')\n",
    "conf['resman']=RESMAN(conf)\n",
    "conf['resman'].get_residuals(conf['parman'].par);"
   ]
  },
  {
   "cell_type": "markdown",
   "id": "74294691",
   "metadata": {},
   "source": [
    "## Data vs Theory"
   ]
  }
 ],
 "metadata": {},
 "nbformat": 4,
 "nbformat_minor": 5
}
