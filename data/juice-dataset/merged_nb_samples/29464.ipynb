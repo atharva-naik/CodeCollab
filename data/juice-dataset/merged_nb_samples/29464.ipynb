{
 "cells": [
  {
   "cell_type": "markdown",
   "id": "7652fa0d",
   "metadata": {},
   "source": [
    "# Geocoding And Reverse Geocoding\n",
    "\n",
    "Geocoding (converting a phyiscal address or location into latitude/longitude) and reverse geocoding (converting a lat/long to a phyiscal address or location) are common tasks when working with geo-data.\n",
    "\n",
    "Python offers a number of packages to make the task incredibly easy. In the tutorial below, I use pygeocoder, a wrapper for Google's geo-API, to both geocode and reverse geocode."
   ]
  },
  {
   "cell_type": "markdown",
   "id": "666ca5f7",
   "metadata": {},
   "source": [
    "## Preliminaries\n",
    "\n",
    "First we want to load the packages we will want to use in the script. Specifically, I am loading pygeocoder for its geo-functionality, pandas for it's dataframe structures, and numpy for it's missing value (np.nan) functionality."
   ]
  },
  {
   "cell_type": "code",
   "execution_count": null,
   "id": "653b8e5c",
   "metadata": {},
   "outputs": [],
   "source": [
    "# Load packages\n",
    "from pygeocoder import Geocoder\n",
    "import pandas as pd\n",
    "import numpy as np"
   ]
  },
  {
   "cell_type": "markdown",
   "id": "d4e829d8",
   "metadata": {},
   "source": [
    "## Create some simulated geo data\n",
    "\n",
    "Geo-data comes in a wide variety of forms, in this case we have a Python dictionary of five latitude and longitude strings, with each coordinate in a coordinate pair seperated by a comma."
   ]
  },
  {
   "cell_type": "code",
   "execution_count": null,
   "id": "db869781",
   "metadata": {},
   "outputs": [],
   "source": [
    "# Create a dictionary of raw data\n",
    "data = {'Site 1': '31.336968, -109.560959',\n",
    "        'Site 2': '31.347745, -108.229963',\n",
    "        'Site 3': '32.277621, -107.734724',\n",
    "        'Site 4': '31.655494, -106.420484',\n",
    "        'Site 5': '30.295053, -104.014528'}"
   ]
  },
  {
   "cell_type": "markdown",
   "id": "f5ee05dd",
   "metadata": {},
   "source": [
    "While technically unneccesary, because I originally come from R, I am a big fan of dataframes, so let us turn the dictionary of simulated data into a dataframe."
   ]
  },
  {
   "cell_type": "code",
   "execution_count": null,
   "id": "f9f4dfb6",
   "metadata": {},
   "outputs": [],
   "source": [
    "# Convert the dictionary into a pandas dataframe\n",
    "df = pd.DataFrame.from_dict(data, orient='index')"
   ]
  },
  {
   "cell_type": "code",
   "execution_count": null,
   "id": "86da570c",
   "metadata": {},
   "outputs": [],
   "source": [
    "# View the dataframe\n",
    "df"
   ]
  },
  {
   "cell_type": "markdown",
   "id": "b63c5d41",
   "metadata": {},
   "source": [
    "You can see now that we have a a dataframe with five rows, with each now containing a string of latitude and longitude. Before we can work with the data, we'll need to 1) seperate the strings into latitude and longitude and 2) convert them into floats. The function below does just that."
   ]
  },
  {
   "cell_type": "code",
   "execution_count": null,
   "id": "fed76414",
   "metadata": {},
   "outputs": [],
   "source": [
    "# Create two lists for the loop results to be placed\n",
    "lat = []\n",
    "lon = []\n",
    "\n",
    "# For each row in a varible,\n",
    "for row in df[0]:\n",
    "    # Try to,\n",
    "    try:\n",
    "        # Split the row by comma, convert to float, and append\n",
    "        # everything before the comma to lat\n",
    "        lat.append(float(row.split(',')[0]))\n",
    "        # Split the row by comma, convert to float, and append\n",
    "        # everything after the comma to lon\n",
    "        lon.append(float(row.split(',')[1]))\n",
    "    # But if you get an error\n",
    "    except:\n",
    "        # append a missing value to lat\n",
    "        lat.append(np.NaN)\n",
    "        # append a missing value to lon\n",
    "        lon.append(np.NaN)\n",
    "\n",
    "# Create two new columns from lat and lon\n",
    "df['latitude'] = lat\n",
    "df['longitude'] = lon"
   ]
  },
  {
   "cell_type": "markdown",
   "id": "30191483",
   "metadata": {},
   "source": [
    "Let's take a took a what we have now."
   ]
  },
  {
   "cell_type": "markdown",
   "id": "c32b59e3",
   "metadata": {},
   "source": [
    "Awesome. This is exactly what we want to see, one column of floats for latitude and one column of floats for longitude."
   ]
  },
  {
   "cell_type": "markdown",
   "id": "5ed8d0a2",
   "metadata": {},
   "source": [
    "## Reverse Geocoding\n",
    "\n",
    "To reverse geocode, we feed a specific latitude and longitude pair, in this case the first row (indexed as '0') into pygeocoder's reverse_geocoder function. "
   ]
  },
  {
   "cell_type": "code",
   "execution_count": null,
   "id": "d50a625d",
   "metadata": {},
   "outputs": [],
   "source": [
    "# Convert longitude and latitude to a location\n",
    "results = Geocoder.reverse_geocode(df['latitude'][0], df['longitude'][0])"
   ]
  },
  {
   "cell_type": "markdown",
   "id": "8bbb39e3",
   "metadata": {},
   "source": [
    "Now we can take can start pulling out the data that we want."
   ]
  },
  {
   "cell_type": "code",
   "execution_count": null,
   "id": "dd413697",
   "metadata": {},
   "outputs": [],
   "source": [
    "# Print the lat/long\n",
    "results.coordinates"
   ]
  },
  {
   "cell_type": "code",
   "execution_count": null,
   "id": "5683f881",
   "metadata": {},
   "outputs": [],
   "source": [
    "# Print the city\n",
    "results.city"
   ]
  },
  {
   "cell_type": "code",
   "execution_count": null,
   "id": "43b259cd",
   "metadata": {},
   "outputs": [],
   "source": [
    "# Print the country\n",
    "results.country"
   ]
  },
  {
   "cell_type": "code",
   "execution_count": null,
   "id": "8a17d3c1",
   "metadata": {},
   "outputs": [],
   "source": [
    "# Print the street address (if applicable)\n",
    "results.street_address"
   ]
  },
  {
   "cell_type": "code",
   "execution_count": null,
   "id": "0fae22dd",
   "metadata": {},
   "outputs": [],
   "source": [
    "# Print the admin1 level\n",
    "results.administrative_area_level_1"
   ]
  },
  {
   "cell_type": "markdown",
   "id": "766a9755",
   "metadata": {},
   "source": [
    "## Geocoding\n",
    "\n",
    "For geocoding, we need to submit a string containing an address or location (such as a city) into the geocode function. However, not all strings are formatted in a way that Google's geo-API can make sense of them. We can text if an input is valid by using the .geocode().valid_address function."
   ]
  },
  {
   "cell_type": "code",
   "execution_count": null,
   "id": "cf0e9072",
   "metadata": {},
   "outputs": [],
   "source": [
    "# Verify that an address is valid (i.e. in Google's system)\n",
    "Geocoder.geocode(\"7250 South Tucson Boulevard, Tucson, AZ 85756\").valid_address"
   ]
  },
  {
   "cell_type": "markdown",
   "id": "06a12696",
   "metadata": {},
   "source": [
    "Because the output was True, we now know that this is a valid address and thus can print the latitude and longitude coordinates."
   ]
  },
  {
   "cell_type": "markdown",
   "id": "a5a4f8c3",
   "metadata": {},
   "source": [
    "But even more interesting, once the address is processed by the Google geo API, we can parse it and easily seperate street numbers, street names, etc. "
   ]
  }
 ],
 "metadata": {},
 "nbformat": 4,
 "nbformat_minor": 5
}
