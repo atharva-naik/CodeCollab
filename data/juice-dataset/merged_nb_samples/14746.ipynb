{
 "cells": [
  {
   "cell_type": "markdown",
   "id": "00131cf4",
   "metadata": {},
   "source": [
    "###Mistakes I've made with (S)ARIMA models and Timeseries\n",
    "1. What the hell is a (S)ARIMA Model\n",
    "2. Application and prediction of SARIMA\n",
    "3. Predicting the future\n",
    "4. Questions I've been asked about my model"
   ]
  },
  {
   "cell_type": "markdown",
   "id": "c44e734c",
   "metadata": {},
   "source": [
    "####What the hell is a (S)ARIMA Model\n",
    "* ARIMA = Generalized case of ARMA model, Autoregressive (AR), Moving Average (MA) model\n",
    "    * I = Integrated = Differencing step, Y2 - Y1\n",
    "    * Autoregressive Integrated Moving Average Model\n",
    "* Used when data isn't stationary, aka there is some seasonality to the data (ex. weekly cycles)\n",
    "    * This is our ultimate goal\n",
    "* ARIMA(p,d,q)\n",
    "    * p = Order of the Autoregressive\n",
    "    * d = Degree of differencing\n",
    "    * q = Order of the Moving Average Model\n",
    "* SARIMA - Seasonal ARIMA(p,d,q)(P,D,Q)m - under active developement\n",
    "    * p = Order of the Autoregressive\n",
    "    * d = Degree of differencing\n",
    "    * q = Order of the Moving Average Model\n",
    "    * m = Number of periods in each season\n",
    "    * P = Order of the Autoregressive - Seasonal part\n",
    "    * D = Degree of differencing - Seasonal part\n",
    "    * Q = Order of the Moving Average Model - Seasonal part\n",
    "* ARIMA (1,0,0) is AR(1), ARIMA(0,1,0) is I(1), and ARIMA(0,0,1) is MA(1).\n",
    "* In identifying a seasonal model, the first step is to determine whether or not a seasonal difference is needed, in addition to or perhaps instead of a non-seasonal difference."
   ]
  },
  {
   "cell_type": "markdown",
   "id": "e723c95f",
   "metadata": {},
   "source": [
    "### Application and prediction of SARIMA"
   ]
  },
  {
   "cell_type": "markdown",
   "id": "00aedbc5",
   "metadata": {},
   "source": [
    "#####Steps\n",
    "1. Plot data\n",
    "2. Plot predictions\n",
    "3. Plot resids\n",
    "4. Check ACF, PACF of resids\n",
    "5. Adjust parameters of model\n",
    "6. Rinse and repeat steps 4 and 5 till you achieve stationary data, you'll know you have white noise data through acf/pacf"
   ]
  },
  {
   "cell_type": "code",
   "execution_count": null,
   "id": "f25817a7",
   "metadata": {},
   "outputs": [],
   "source": [
    "import pandas as pd\n",
    "import numpy as np\n",
    "import matplotlib.pyplot as plt\n",
    "import statsmodels.api as sm\n",
    "%matplotlib inline"
   ]
  },
  {
   "cell_type": "code",
   "execution_count": null,
   "id": "996f32c5",
   "metadata": {},
   "outputs": [],
   "source": [
    "df = pd.read_csv('broadway_spring_by_day.csv', header=None)\n",
    "df.columns = ['date', 'num']\n",
    "# df.head()\n",
    "print len(df)\n",
    "model = sm.tsa.ARIMA(df['num'].values, order=(0,0,1)).fit()"
   ]
  },
  {
   "cell_type": "markdown",
   "id": "ea2933cf",
   "metadata": {},
   "source": [
    "#####1 .What does our taxi data look like?"
   ]
  },
  {
   "cell_type": "code",
   "execution_count": null,
   "id": "42dbccfe",
   "metadata": {},
   "outputs": [],
   "source": [
    "plt.figure(figsize=(12,8))\n",
    "plt.plot(df['num'])"
   ]
  },
  {
   "cell_type": "markdown",
   "id": "64a98b64",
   "metadata": {},
   "source": [
    "#####2. What do the predictions look like?"
   ]
  },
  {
   "cell_type": "code",
   "execution_count": null,
   "id": "24475a61",
   "metadata": {},
   "outputs": [],
   "source": [
    "plt.figure(figsize=(12,8))\n",
    "plt.plot(model.predict(7,355))"
   ]
  },
  {
   "cell_type": "markdown",
   "id": "f61b9a64",
   "metadata": {},
   "source": [
    "#####3. Cool lets check our residuals"
   ]
  },
  {
   "cell_type": "code",
   "execution_count": null,
   "id": "89bb993a",
   "metadata": {},
   "outputs": [],
   "source": [
    "resid = ((df['num'].values)[7:365] - model.predict(7,364))\n",
    "plt.figure(figsize=(12,8))\n",
    "plt.plot(resid)"
   ]
  },
  {
   "cell_type": "markdown",
   "id": "435a1214",
   "metadata": {},
   "source": [
    "#####4 .Doesn't look great, but lets check the PACF and ACF"
   ]
  },
  {
   "cell_type": "code",
   "execution_count": null,
   "id": "8ea7cdac",
   "metadata": {},
   "outputs": [],
   "source": [
    "def acf_pacf(ts, lags):\n",
    "    fig = plt.figure(figsize=(12,8))\n",
    "    ax1 = fig.add_subplot(211)\n",
    "    fig = sm.graphics.tsa.plot_acf(ts, lags=lags, ax=ax1)\n",
    "    ax2 = fig.add_subplot(212)\n",
    "    fig = sm.graphics.tsa.plot_pacf(ts, lags=lags, ax=ax2)"
   ]
  },
  {
   "cell_type": "code",
   "execution_count": null,
   "id": "56c57d8a",
   "metadata": {},
   "outputs": [],
   "source": [
    "acf_pacf(resid, 20)\n",
    "# print model.summary()"
   ]
  },
  {
   "cell_type": "markdown",
   "id": "92c00d26",
   "metadata": {},
   "source": [
    "#####Predicting the future\n",
    "Bursting bubble: didn't work out great"
   ]
  }
 ],
 "metadata": {},
 "nbformat": 4,
 "nbformat_minor": 5
}
