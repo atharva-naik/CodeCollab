{
 "cells": [
  {
   "cell_type": "code",
   "execution_count": null,
   "id": "8deb7051",
   "metadata": {},
   "outputs": [],
   "source": [
    "import warnings\n",
    "warnings.simplefilter('ignore', FutureWarning)\n",
    "\n",
    "from pandas import *\n",
    "\n",
    "#pandas.set_option('display.max_rows', None)\n",
    "\n",
    "pandas.__version__"
   ]
  },
  {
   "cell_type": "markdown",
   "id": "dd09833f",
   "metadata": {},
   "source": [
    "# A bit of analysis of runCambridge results"
   ]
  },
  {
   "cell_type": "markdown",
   "id": "3347a6f4",
   "metadata": {},
   "source": [
    "When we were discussing the best female/male club runner in the ERC meeting I realised I didn't have a good idea of who should be nominated. Later I realised I could probably get the results from Run Cambridge and get a better idea so I asked Andy Irvine and he provided a dump of all the results from Oct 2016 - Sept 2016.\n",
    "\n",
    "\n",
    "First load all the results downloaded from runCambridge into the analysis. I haven't done any data cleanup as it all looks pretty good. As this is just for guidance I didn't think it was worth the effort.\n",
    "\n",
    "Show what columns are available in the data set.\n",
    "\n",
    "BTW df is just a name I have given the dataframe, and a dataframe is like a table that has been created from the data dump i.e. it has columns and rows. "
   ]
  },
  {
   "cell_type": "code",
   "execution_count": null,
   "id": "34cac7ca",
   "metadata": {},
   "outputs": [],
   "source": [
    "df = read_excel('runCambridge.xlsx')\n",
    "df.columns"
   ]
  },
  {
   "cell_type": "markdown",
   "id": "4509ecd3",
   "metadata": {},
   "source": [
    "Show the distinct race names and the number of results per race. Unsurprisingly Cambridge and Wimpole parkruns have the most results."
   ]
  },
  {
   "cell_type": "code",
   "execution_count": null,
   "id": "ab8cc677",
   "metadata": {},
   "outputs": [],
   "source": [
    "df['name'].value_counts()"
   ]
  },
  {
   "cell_type": "markdown",
   "id": "801f6efa",
   "metadata": {},
   "source": [
    "Total number of results in data set."
   ]
  },
  {
   "cell_type": "code",
   "execution_count": null,
   "id": "ecdb135d",
   "metadata": {},
   "outputs": [],
   "source": [
    "totalNumResults = len(df)\n",
    "totalNumResults"
   ]
  },
  {
   "cell_type": "markdown",
   "id": "d2f8c2ba",
   "metadata": {},
   "source": [
    "If I focus on what we might consider club races and only include races with the text C&C or League or Championships or Cambourne or Relay in the name then I get this many results. I've created a new dataframe here called justCCraces."
   ]
  },
  {
   "cell_type": "code",
   "execution_count": null,
   "id": "63734611",
   "metadata": {},
   "outputs": [],
   "source": [
    "justCCraces = df[df['name'].str.contains('C&C|Frostbite|Kevin Henry|Championships|Cambourne|Relay')]\n",
    "len(justCCraces)"
   ]
  },
  {
   "cell_type": "markdown",
   "id": "a2bc48c6",
   "metadata": {},
   "source": [
    "And these are the races in my new result set."
   ]
  },
  {
   "cell_type": "code",
   "execution_count": null,
   "id": "fbcccea4",
   "metadata": {},
   "outputs": [],
   "source": [
    "justCCraces['name'].value_counts()"
   ]
  },
  {
   "cell_type": "markdown",
   "id": "75f886e5",
   "metadata": {},
   "source": [
    "###Top 40 club runners\n",
    "So in that case here is the top 40 runners with the most occurrences for club races. There is no sex column in the data so it's male and female combined."
   ]
  },
  {
   "cell_type": "code",
   "execution_count": null,
   "id": "201a70f0",
   "metadata": {},
   "outputs": [],
   "source": [
    "justCCraces['runner name'].value_counts().head(40)"
   ]
  },
  {
   "cell_type": "markdown",
   "id": "e08a0e63",
   "metadata": {},
   "source": [
    "###Excluding Parkrun\n",
    "Out of curiosity, I'm going to do the same but just exclude Parkrun. I'm searching for 'arkrun' because it's case sensitive, then reversing it with the '~'. I've created another new dataframe here called notParkrun.\n",
    "\n",
    "So now the number of results is greater."
   ]
  },
  {
   "cell_type": "code",
   "execution_count": null,
   "id": "08a1d4ef",
   "metadata": {},
   "outputs": [],
   "source": [
    "notParkrun = df[~df['name'].str.contains('arkrun')]\n",
    "len(notParkrun)"
   ]
  },
  {
   "cell_type": "markdown",
   "id": "86a9cb72",
   "metadata": {},
   "source": [
    "And the list of runners has changed a bit."
   ]
  },
  {
   "cell_type": "code",
   "execution_count": null,
   "id": "23e17f7e",
   "metadata": {},
   "outputs": [],
   "source": [
    "notParkrun['runner name'].value_counts().head(40)"
   ]
  },
  {
   "cell_type": "markdown",
   "id": "1b60b985",
   "metadata": {},
   "source": [
    "### All races\n",
    "And for completeness let's just look at all the results using the original dataframe."
   ]
  }
 ],
 "metadata": {},
 "nbformat": 4,
 "nbformat_minor": 5
}
