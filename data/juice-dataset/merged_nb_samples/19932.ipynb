{
 "cells": [
  {
   "cell_type": "markdown",
   "id": "336cd888",
   "metadata": {},
   "source": [
    "# About this notebook"
   ]
  },
  {
   "cell_type": "markdown",
   "id": "229736ee",
   "metadata": {},
   "source": [
    "Let's learn the forward kinematics and the inverse kinematics of the robot arm by moving our hands. We will explain how to construct forward kinematics using trigonometric functions and how to estimate joint angle using Newton's method."
   ]
  },
  {
   "cell_type": "markdown",
   "id": "14f4b93b",
   "metadata": {},
   "source": [
    "Written by Yosuke Matsusaka (MID Academic Promotions, Inc. [@yosuke](https://twitter.com/yosuke))"
   ]
  },
  {
   "cell_type": "markdown",
   "id": "87b764f3",
   "metadata": {},
   "source": [
    "This note is published under Creative Commons BY-SA license. ![CC BY-SA](http://i.creativecommons.org/l/by-sa/3.0/88x31.png)"
   ]
  },
  {
   "cell_type": "markdown",
   "id": "3ffe6715",
   "metadata": {},
   "source": [
    "# Preparation"
   ]
  },
  {
   "cell_type": "markdown",
   "id": "06abbb4a",
   "metadata": {},
   "source": [
    "This note is a hands-on type teaching material using the ipython notebook. On Ubuntu type following commands:\n",
    "```\n",
    "sudo apt-get install imagemagick asymptote graphviz\n",
    "sudo pip3 install jupyter matplotlib sympy graphviz\n",
    "jupyter notebook\n",
    "```\n",
    "to launch the environment."
   ]
  },
  {
   "cell_type": "markdown",
   "id": "ea954fac",
   "metadata": {},
   "source": [
    "Once you have launched the ipython notebook, please create a new notebook, and read the library for graph drawing and symbolic math processing as follows:"
   ]
  },
  {
   "cell_type": "code",
   "execution_count": null,
   "id": "6719dab3",
   "metadata": {},
   "outputs": [],
   "source": [
    "import matplotlib.pyplot as plt\n",
    "import matplotlib.animation as animation\n",
    "from IPython.display import Image\n",
    "from sympy import *\n",
    "init_printing()"
   ]
  },
  {
   "cell_type": "markdown",
   "id": "648f87e7",
   "metadata": {},
   "source": [
    "Please enter the following code as well. This part will give us a magic of displaying animated GIF."
   ]
  },
  {
   "cell_type": "markdown",
   "id": "f28dfff1",
   "metadata": {},
   "source": [
    "## How to calculate inverse kinematics analytically"
   ]
  },
  {
   "cell_type": "markdown",
   "id": "03f96111",
   "metadata": {},
   "source": [
    "Since the forward kinematics is already given, what we have to do is to seek the opposite. In mathematical word, we have to find an inverse function. Analytical method tries to find such inverse function in a mathematical sense."
   ]
  },
  {
   "cell_type": "markdown",
   "id": "00ebbf9c",
   "metadata": {},
   "source": [
    "Forward kinematics is finally expressed as the following two equations."
   ]
  },
  {
   "cell_type": "code",
   "execution_count": null,
   "id": "bfc1b50b",
   "metadata": {},
   "outputs": [],
   "source": [
    "[x, y]"
   ]
  },
  {
   "cell_type": "markdown",
   "id": "154ae056",
   "metadata": {},
   "source": [
    "In the analytical method, we will transform combine the expression like a puzzle with trial and error.\n",
    "\n",
    "When converting the trigonometric functions, it have been known that it sometimes become better organized by summing the squared equations."
   ]
  },
  {
   "cell_type": "code",
   "execution_count": null,
   "id": "4f5d8f11",
   "metadata": {},
   "outputs": [],
   "source": [
    "i = expand(x**2 + y**2)\n",
    "i"
   ]
  },
  {
   "cell_type": "markdown",
   "id": "45f8e7b4",
   "metadata": {},
   "source": [
    "This formula looks still complicated, but it can be greatly simplified by using the each theorem of trigonometric function shown below.\n",
    "\n",
    "Pythagorean theorem: $ cos^2 \\theta + sin^2 \\theta = 1 $\n",
    "\n",
    "Addition theorem: $ cos(\\alpha - \\beta) = cos(\\alpha) cos(\\beta) + sin(\\alpha) sin(\\beta) $\n",
    "\n",
    "Based on these knowledge, we will use sympy to organize the equation automatically (yes, I am lazy)."
   ]
  },
  {
   "cell_type": "code",
   "execution_count": null,
   "id": "d74448c3",
   "metadata": {},
   "outputs": [],
   "source": [
    "j = simplify(i)\n",
    "j"
   ]
  },
  {
   "cell_type": "markdown",
   "id": "3c0b20e6",
   "metadata": {},
   "source": [
    "After the simplification, $\\theta_1$ disappears (such thing will not always happen, but we are lucky in this case).\n",
    "\n",
    "Calculation of the inverse function becomes easy after we converted to a simple formula. $\\theta_2$ will be solved by using the $cos$ inverse function $acos$ as the follows. Here we get two solutions, we will discuss about this later."
   ]
  },
  {
   "cell_type": "code",
   "execution_count": null,
   "id": "f6ee41cf",
   "metadata": {},
   "outputs": [],
   "source": [
    "from sympy.solvers import solve\n",
    "x2 = Symbol('x')\n",
    "y2 = Symbol('y')\n",
    "j2 = (x2**2 + y2**2)\n",
    "k = solve(j2 - j, t2)\n",
    "k"
   ]
  },
  {
   "cell_type": "markdown",
   "id": "2dd9c227",
   "metadata": {},
   "source": [
    "> FYI note:\n",
    "> The sympy \"solve\" function provides us a high-performance solving algorithm. Why don't we solve the inverse kinematics directly by using this function? However, it can not be solved automatically given the forward kinematics equation of the original form. This not is because sympy is low-performance, but the conversion necessary to solve inverse kinematics is fairly complex. At the end of this notebook, we have information on the recently developed powerful libraries such as IKFast which has a function to express the kinematic structure of the robot in easily solvable form and solve inverse kinematics automatically by applying several conversion techniques specialized for kinematics."
   ]
  },
  {
   "cell_type": "markdown",
   "id": "16a47bb9",
   "metadata": {},
   "source": [
    "We got $\\theta_2$ already, so let's calculate $\\theta_1$. Here, we solve by using the law of cosines.\n",
    "\n",
    "First, we draw the auxiliary line from the first joint to the hand, and let the angle formed by the auxiliary line and the $x$ axis as $\\alpha$."
   ]
  },
  {
   "cell_type": "code",
   "execution_count": null,
   "id": "56a0f304",
   "metadata": {},
   "outputs": [],
   "source": [
    "# Part of code is taken from: http://nbviewer.ipython.org/url/jakevdp.github.io/downloads/notebooks/AnimationEmbedding.ipynb\n",
    "from tempfile import NamedTemporaryFile\n",
    "import base64\n",
    "\n",
    "GIF_TAG = \"\"\"<img src=\"data:image/gif;bogus=ABCDEF;base64,{0}\">\"\"\"\n",
    "\n",
    "def anim_to_html(anim):\n",
    "    if not hasattr(anim, '_encoded_video'):\n",
    "        with NamedTemporaryFile(suffix='.gif') as f:\n",
    "            anim.save(f.name, writer='imagemagick', fps=4)\n",
    "            video = open(f.name, \"rb\").read()\n",
    "        anim._encoded_video = base64.b64encode(video).decode('utf-8')\n",
    "    return GIF_TAG.format(anim._encoded_video)\n",
    "\n",
    "animation.Animation._repr_html_ = anim_to_html"
   ]
  },
  {
   "cell_type": "markdown",
   "id": "efd33aaa",
   "metadata": {},
   "source": [
    "Here, we will initialize the graph area. We will confirm the operation of the robot arm on this graph."
   ]
  },
  {
   "cell_type": "code",
   "execution_count": null,
   "id": "16c36017",
   "metadata": {},
   "outputs": [],
   "source": [
    "# Part of code is taken from: http://studywolf.wordpress.com/2013/09/20/python-visualization-with-matplotlib/\n",
    "fig = plt.figure(figsize=(4,4))\n",
    "ax = fig.add_subplot(111, aspect='equal', autoscale_on=False,\n",
    "                     xlim=(-1, 1), ylim=(-1, 1))\n",
    "ax.grid()\n",
    "line, = ax.plot([], [], 'o-', lw=4, mew=5)\n",
    "infoline = ax.text(0.02, 0.95, '', transform=ax.transAxes)\n",
    "\n",
    "def init():\n",
    "    line.set_data([], [])\n",
    "    infoline.set_text('')\n",
    "    return line, infoline"
   ]
  },
  {
   "cell_type": "markdown",
   "id": "71ae9b27",
   "metadata": {},
   "source": [
    "The following is plotting library to draw description figures (installation is optional)."
   ]
  },
  {
   "cell_type": "code",
   "execution_count": null,
   "id": "ad1ae7db",
   "metadata": {},
   "outputs": [],
   "source": [
    "import graphviz"
   ]
  },
  {
   "cell_type": "code",
   "execution_count": null,
   "id": "2f68d022",
   "metadata": {},
   "outputs": [],
   "source": [
    "import subprocess # to run asymptote\n",
    "import shlex"
   ]
  },
  {
   "cell_type": "markdown",
   "id": "764ba250",
   "metadata": {},
   "source": [
    "Let's get started."
   ]
  },
  {
   "cell_type": "markdown",
   "id": "6b360466",
   "metadata": {},
   "source": [
    "# Forward kinematics of the robot arm"
   ]
  },
  {
   "cell_type": "markdown",
   "id": "96cbf206",
   "metadata": {},
   "source": [
    "The term \"forward kinematics\" means the task to estimate the position of the robot hand when each joint angle of the robot arm is provided."
   ]
  },
  {
   "cell_type": "code",
   "execution_count": null,
   "id": "e15083a8",
   "metadata": {},
   "outputs": [],
   "source": [
    "graphviz.Source('digraph G { rankdir=LR; joint_angle -> hand_position [label=\"estimate\"] }')"
   ]
  },
  {
   "cell_type": "markdown",
   "id": "e3c5a051",
   "metadata": {},
   "source": [
    "People tends to think difficultly, because it contains the word \"kinematics\". However, the task is not so complex as described as the follows.\n",
    "\n",
    "Calculate the forward kinematics, we need to know the structure of the robot arm. For this specific notebook we will select PA10-7C robot arm made by Mitsubishi Heavy Industries. Technical information of the arm has been published on the following pages.\n",
    "\n",
    "https://www.mhi.co.jp/products/detail/pa10_6c_7c.html\n",
    "\n",
    "The length of the links and joints of the robot arm are described in the following figure.\n",
    "\n",
    "https://www.mhi.co.jp/products/detail/images/7c_mass.jpg"
   ]
  },
  {
   "cell_type": "markdown",
   "id": "05df9e3d",
   "metadata": {},
   "source": [
    "PA10 is the robot arm with 7 degree-of-freedom (7 joints). However for this specific notebook, we will take into account only the 2 degree-of-freedom (2 joints) on up and down direction to greatly simplify the model.\n",
    "\n",
    "From Mitsubishi Heavy Industry's technical information, length between the first and the second joint from the root of PA10 is 450mm, length between the second joint and the hand is 480mm. By using this information, let's try to estimate the position of the hand given the angle of the first and the second joint."
   ]
  },
  {
   "cell_type": "code",
   "execution_count": null,
   "id": "bf56bfc3",
   "metadata": {},
   "outputs": [],
   "source": [
    "f=open('/tmp/pa10-simplified.asy', 'w')\n",
    "f.write('''\n",
    "import math; import graph; import geometry;\n",
    "size(12cm); xaxis(\"$x$\"); yaxis(\"$y$\");\n",
    "real theta1=pi/4; real theta2=pi/3;\n",
    "real L1=0.45; real L2=0.48;\n",
    "pair l1p = (L1*sin(theta1), L1*cos(theta1));\n",
    "pair l2p = l1p + (L2*sin(theta1+theta2), L2*cos(theta1+theta2));\n",
    "draw((0,0)--l1p--l2p); draw(l1p--l1p*1.5, dashed); dot(l2p);\n",
    "label(\"$J1(0,0)$\", (0,0), NW); label(\"$J2(u,v)$\", l1p, NW); label(\"$H(x,y)$\", l2p, NE);\n",
    "draw(\"$L1=450mm$\",(0,0)-0.02*I*l1p--l1p-0.02*I*l1p, red, Arrows, Bars, PenMargins);\n",
    "draw(\"$L2=480mm$\", l1p-0.02*I*l2p--l2p-0.02*I*l2p, red, Arrows, Bars, PenMargins);\n",
    "draw(\"$\\theta_1$\", arc((0,1),(0,0),l1p,0.1), blue, PenMargins);\n",
    "draw(\"$\\theta_2$\", arc(l1p,0.1,degrees(l1p),degrees(l2p-l1p),CW), blue, PenMargins);\n",
    "''')\n",
    "f.close()\n",
    "subprocess.call(shlex.split('asy /tmp/pa10-simplified.asy -f png -o pa10-simplified.png'))"
   ]
  },
  {
   "cell_type": "markdown",
   "id": "4142b6ad",
   "metadata": {},
   "source": [
    "![PA10 simplified](pa10-simplified.png)"
   ]
  },
  {
   "cell_type": "markdown",
   "id": "75e8112f",
   "metadata": {},
   "source": [
    "First we define the angle of each joint as a variable."
   ]
  },
  {
   "cell_type": "code",
   "execution_count": null,
   "id": "54c802a3",
   "metadata": {},
   "outputs": [],
   "source": [
    "t1 = Symbol('theta_1')\n",
    "t2 = Symbol('theta_2')"
   ]
  },
  {
   "cell_type": "markdown",
   "id": "b72170d3",
   "metadata": {},
   "source": [
    "We define the distance between each joint as a constant."
   ]
  },
  {
   "cell_type": "code",
   "execution_count": null,
   "id": "7c8fbd66",
   "metadata": {},
   "outputs": [],
   "source": [
    "L1 = Symbol('L_1')\n",
    "L2 = Symbol('L_2')"
   ]
  },
  {
   "cell_type": "markdown",
   "id": "ed4c2465",
   "metadata": {},
   "source": [
    "Before estimating the position of the hand, We first estimate the position of the second joint. Position of the second joint will be calculated in the following manner using the trigonometric functions."
   ]
  },
  {
   "cell_type": "code",
   "execution_count": null,
   "id": "62a628da",
   "metadata": {},
   "outputs": [],
   "source": [
    "xdt1 = diff(x, t1)\n",
    "xdt2 = diff(x, t2)\n",
    "ydt1 = diff(y, t1)\n",
    "ydt2 = diff(y, t2)\n",
    "j = [[xdt1, ydt1], [xdt2, ydt2]]\n",
    "j"
   ]
  },
  {
   "cell_type": "markdown",
   "id": "84eeef2a",
   "metadata": {},
   "source": [
    "Lets calculate $A$ and $A^{-1}$ from a suitable initial value."
   ]
  },
  {
   "cell_type": "code",
   "execution_count": null,
   "id": "3e732d13",
   "metadata": {},
   "outputs": [],
   "source": [
    "subs = {\n",
    "    L1: 450.0 / 1000.0,\n",
    "    L2: 480.0 / 1000.0,\n",
    "    t1: 0.1,\n",
    "    t2: 0.1\n",
    "}\n",
    "\n",
    "A = Matrix([[xdt1.evalf(subs=subs), ydt1.evalf(subs=subs)], [xdt2.evalf(subs=subs), ydt2.evalf(subs=subs)]])\n",
    "A"
   ]
  },
  {
   "cell_type": "markdown",
   "id": "779f0d97",
   "metadata": {},
   "source": [
    "$A^{-1}$ is the inverse function of $A$, but it can be calculated easily because it is a constant. If $A$ is one-dimension\n",
    "\n",
    "$$A^{-1} = \\frac{1}{A}$$\n",
    "\n",
    "But, here in our case the input and output of the system is 2-dimension because the expression is $r = (x, y)$ and $\\theta = (\\theta_1, \\theta_2)$. Such case, $A$ will be a matrix. Inverse function (inverse matrix) of 2-dimension matrix can be calculated as follows.\n",
    "\n",
    "$$A^{-1} = \\begin{pmatrix} a & b \\\\ c & d \\end{pmatrix}^{-1} = \\frac{1}{ad-bc}\\begin{pmatrix} d & -b \\\\ -c & a \\end{pmatrix}$$\n",
    "\n",
    "This apparently looks like a complex formula, but we can calculate them instantly because it is simply a multiplication and division of each matrix element."
   ]
  },
  {
   "cell_type": "code",
   "execution_count": null,
   "id": "29600957",
   "metadata": {},
   "outputs": [],
   "source": [
    "AI = A.pinv()\n",
    "AI"
   ]
  },
  {
   "cell_type": "markdown",
   "id": "0039f3ca",
   "metadata": {},
   "source": [
    "In this specific notebook we use function pinv() to calculate pseudo-inverse matrix instead of function inv() to calculate normal inverse matrix. To explain in brief, the stability of the calculation can be improved by using pseudo-inverse matrix in such a state in which the hand of the robot is fully extended.\n",
    "\n",
    "Let's write a program to find a solution by calculating literately."
   ]
  },
  {
   "cell_type": "code",
   "execution_count": null,
   "id": "ba813323",
   "metadata": {},
   "outputs": [],
   "source": [
    "subs = {\n",
    "    L1: 450.0 / 1000.0,\n",
    "    L2: 480.0 / 1000.0,\n",
    "    t1: 0.0,\n",
    "    t2: 0.0\n",
    "}\n",
    "\n",
    "def newton(t1_initial, t2_initial, target_x, target_y, times):\n",
    "    subs[t1] = t1_initial\n",
    "    subs[t2] = t2_initial\n",
    "    for i in range(0, times):\n",
    "        A = Matrix([[xdt1.evalf(subs=subs), ydt1.evalf(subs=subs)], [xdt2.evalf(subs=subs), ydt2.evalf(subs=subs)]])\n",
    "        AI = A.pinv()\n",
    "        t1_next = subs[t1] + 0.1 * (AI[0,0]*(target_x - x.evalf(subs=subs)) + AI[0,1]*(target_y - y.evalf(subs=subs)))\n",
    "        t2_next = subs[t2] + 0.1 * (AI[1,0]*(target_x - x.evalf(subs=subs)) + AI[1,1]*(target_y - y.evalf(subs=subs)))\n",
    "        subs[t1] = t1_next\n",
    "        subs[t2] = t2_next\n",
    "    return [subs[t1], subs[t2]]"
   ]
  },
  {
   "cell_type": "markdown",
   "id": "c4f5c39e",
   "metadata": {},
   "source": [
    "Let's confirm the result by drawing a graph."
   ]
  },
  {
   "cell_type": "code",
   "execution_count": null,
   "id": "d001119b",
   "metadata": {},
   "outputs": [],
   "source": [
    "subs2 = {\n",
    "    L1: 450.0 / 1000.0,\n",
    "    L2: 480.0 / 1000.0,\n",
    "    t1: -0.5,\n",
    "    t2: 3.0\n",
    "}\n",
    "\n",
    "target_x = 0.2\n",
    "target_y = 0.2\n",
    "\n",
    "def animate(i):\n",
    "    global target_x, target_y\n",
    "    if i < 10:\n",
    "        target_x = target_x + 0.04\n",
    "    elif i < 20:\n",
    "        target_y = target_y + 0.04\n",
    "    else:\n",
    "        target_x = target_x - 0.04\n",
    "        target_y = target_y - 0.04\n",
    "    [subs2[t1], subs2[t2]] = newton(subs2[t1], subs2[t2], target_x, target_y, 10)\n",
    "    line.set_data([0, u.evalf(subs=subs2), x.evalf(subs=subs2)],\n",
    "                  [0, v.evalf(subs=subs2), y.evalf(subs=subs2)])\n",
    "    infoline.set_text('x = %.2f, y = %.2f' % (target_x, target_y))\n",
    "    return line, infoline\n",
    "\n",
    "animation.FuncAnimation(fig, animate, frames=30,\n",
    "                        interval=25, blit=True, \n",
    "                        init_func=init)"
   ]
  },
  {
   "cell_type": "markdown",
   "id": "5f447616",
   "metadata": {},
   "source": [
    "It seems it is correctly estimating the solution.\n",
    "\n",
    "We have calculated the inverse kinematics by using a numerical method without having to derive the inverse function.\n",
    "\n",
    "Newton's method is a very powerful algorithm that can approximate optimal parameters even for the very complex function which is difficult to derive an inverse function. Not only limited to robotic application, it is applied to wide variety of optimization problems.\n",
    "On the other hand, we have to note that the convergence is not guaranteed in such method, but actually depend on how appropriate we can select the initial value. You need to take advantage of the method at the same time understanding their characters.\n",
    "\n",
    "Although there are few characters to be cared when using the numerical method, we can easily calculate the inverse kinematics even for the robot with complex structure it only from some repetitive calculations. In recent years, performance the computer has significantly increased. Even the small embedded processor is capable to calculate the inverse kinematics at practical speed. From this background, numerical method has been widely used in many advanced robotic systems."
   ]
  },
  {
   "cell_type": "markdown",
   "id": "c3f7edd5",
   "metadata": {},
   "source": [
    "# Implementation to the robot"
   ]
  },
  {
   "cell_type": "markdown",
   "id": "fc6d3d9e",
   "metadata": {},
   "source": [
    "You might have expected the content of this notebook is programming with Python,  but probably have noticed it was actually a continuing transformation of the equations. But it is now over!\n",
    "\n",
    "Finally we will program the above inverse kinematics in C ++ and control the robot.\n",
    "\n",
    "In the [previous article (in Japanese)](http://tech.mid-japan.com/blog/2014/07/10/learn-pid-control-and-rtm/) we have already implemented a PID controller to PA10 robot and did the adjustment. In addition, we know that by using the middle-ware framework such as RTM, we can developed the system divided into parts which is called \"component\". This time we will try to compose a system of the following design by rearranging the PID controller was developed previously."
   ]
  },
  {
   "cell_type": "code",
   "execution_count": null,
   "id": "0661694f",
   "metadata": {},
   "outputs": [],
   "source": [
    "u = L1 * sin(t1)\n",
    "v = L1 * cos(t1)\n",
    "[u, v]"
   ]
  },
  {
   "cell_type": "markdown",
   "id": "123f253f",
   "metadata": {},
   "source": [
    "Then we estimate the position of the hand. We add the distance to the hand to the position of the second joint."
   ]
  },
  {
   "cell_type": "code",
   "execution_count": null,
   "id": "a312f2c7",
   "metadata": {},
   "outputs": [],
   "source": [
    "x = u + L2 * sin(t1+t2)\n",
    "y = v + L2 * cos(t1+t2)\n",
    "[x, y]"
   ]
  },
  {
   "cell_type": "markdown",
   "id": "4a4a525b",
   "metadata": {},
   "source": [
    "Now the hand the position is estimated. We will confirm the result by drawing a graph."
   ]
  },
  {
   "cell_type": "code",
   "execution_count": null,
   "id": "b268e885",
   "metadata": {},
   "outputs": [],
   "source": [
    "import math\n",
    "\n",
    "subs = {\n",
    "    L1: 450.0 / 1000.0,\n",
    "    L2: 480.0 / 1000.0,\n",
    "    t1: 0.0,\n",
    "    t2: 0.0\n",
    "}\n",
    "\n",
    "def animate(i):\n",
    "    if i < 10:\n",
    "        subs[t1] = subs[t1] + math.pi / 30.0\n",
    "    elif i < 20:\n",
    "        subs[t2] = subs[t2] + math.pi / 30.0\n",
    "    else:\n",
    "        subs[t1] = subs[t1] - math.pi / 30.0\n",
    "        subs[t2] = subs[t2] - math.pi / 30.0\n",
    "    line.set_data([0, u.evalf(subs=subs), x.evalf(subs=subs)],\n",
    "                  [0, v.evalf(subs=subs), y.evalf(subs=subs)])\n",
    "    infoline.set_text('t1 = %.2f, t2 = %.2f' % (subs[t1], subs[t2]))\n",
    "    return line, infoline\n",
    "\n",
    "animation.FuncAnimation(fig, animate, frames=30,\n",
    "                        interval=25, blit=True, \n",
    "                        init_func=init)"
   ]
  },
  {
   "cell_type": "markdown",
   "id": "e28347c0",
   "metadata": {},
   "source": [
    "Seems there is no problem. Forward kinematics is now being solved."
   ]
  },
  {
   "cell_type": "markdown",
   "id": "6ae593da",
   "metadata": {},
   "source": [
    "# Inverse kinematics of the robot arm"
   ]
  },
  {
   "cell_type": "markdown",
   "id": "0ce71183",
   "metadata": {},
   "source": [
    "The term \"inverse kinematics\" stands for the task to estimate the angle of each joint from the position of the hand. Just as the reverse of the forward kinematics."
   ]
  },
  {
   "cell_type": "code",
   "execution_count": null,
   "id": "e36582a2",
   "metadata": {},
   "outputs": [],
   "source": [
    "k2 = solve(beta2 - beta, t1)\n",
    "k2"
   ]
  },
  {
   "cell_type": "markdown",
   "id": "a4f315ca",
   "metadata": {},
   "source": [
    "Now both $\\theta_1$ and $\\theta_2$ should be solved. To make sure, we draw the movement in the graph. Let's let the robot to draw the trajectory of the triangle."
   ]
  },
  {
   "cell_type": "code",
   "execution_count": null,
   "id": "b9b484e5",
   "metadata": {},
   "outputs": [],
   "source": [
    "subs = {\n",
    "    L1: 450.0 / 1000.0,\n",
    "    L2: 480.0 / 1000.0,\n",
    "    x2: 0.2,\n",
    "    y2: 0.2\n",
    "}\n",
    "\n",
    "subs2 = {\n",
    "    L1: 450.0 / 1000.0,\n",
    "    L2: 480.0 / 1000.0,\n",
    "    t1: 0.0,\n",
    "    t2: 0.0\n",
    "}\n",
    "\n",
    "def animate(i):\n",
    "    if i < 10:\n",
    "        subs[x2] = subs[x2] + 0.04\n",
    "    elif i < 20:\n",
    "        subs[y2] = subs[y2] + 0.04\n",
    "    else:\n",
    "        subs[x2] = subs[x2] - 0.04\n",
    "        subs[y2] = subs[y2] - 0.04\n",
    "    subs2[t2] = subs[t2] = k[0].evalf(subs=subs)\n",
    "    subs2[t1] = k2[0].evalf(subs=subs)\n",
    "    line.set_data([0, u.evalf(subs=subs2), x.evalf(subs=subs2)],\n",
    "                  [0, v.evalf(subs=subs2), y.evalf(subs=subs2)])\n",
    "    infoline.set_text('x = %.2f, y = %.2f' % (subs[x2], subs[y2]))\n",
    "    return line, infoline\n",
    "\n",
    "animation.FuncAnimation(fig, animate, frames=30,\n",
    "                        interval=25, blit=True, \n",
    "                        init_func=init)"
   ]
  },
  {
   "cell_type": "markdown",
   "id": "e432f34f",
   "metadata": {},
   "source": [
    "The trajectory of a triangle is drawn correctly by the robot hand. But if we imagine the real PA10 robot, elbow of the robot will hit the ground. In the above calculation $\\theta_2$ had two solutions. So, let's draw a graph using the second solution."
   ]
  },
  {
   "cell_type": "code",
   "execution_count": null,
   "id": "cc79d77e",
   "metadata": {},
   "outputs": [],
   "source": [
    "subs = {\n",
    "    L1: 450.0 / 1000.0,\n",
    "    L2: 480.0 / 1000.0,\n",
    "    x2: 0.2,\n",
    "    y2: 0.2\n",
    "}\n",
    "\n",
    "subs2 = {\n",
    "    L1: 450.0 / 1000.0,\n",
    "    L2: 480.0 / 1000.0,\n",
    "    t1: 0.0,\n",
    "    t2: 0.0\n",
    "}\n",
    "\n",
    "def animate(i):\n",
    "    if i < 10:\n",
    "        subs[x2] = subs[x2] + 0.04\n",
    "    elif i < 20:\n",
    "        subs[y2] = subs[y2] + 0.04\n",
    "    else:\n",
    "        subs[x2] = subs[x2] - 0.04\n",
    "        subs[y2] = subs[y2] - 0.04\n",
    "    subs2[t2] = subs[t2] = k[1].evalf(subs=subs)\n",
    "    subs2[t1] = k2[0].evalf(subs=subs)\n",
    "    line.set_data([0, u.evalf(subs=subs2), x.evalf(subs=subs2)],\n",
    "                  [0, v.evalf(subs=subs2), y.evalf(subs=subs2)])\n",
    "    infoline.set_text('x = %.2f, y = %.2f' % (subs[x2], subs[y2]))\n",
    "    return line, infoline\n",
    "\n",
    "animation.FuncAnimation(fig, animate, frames=30,\n",
    "                        interval=25, blit=True, \n",
    "                        init_func=init)"
   ]
  },
  {
   "cell_type": "markdown",
   "id": "ece1315e",
   "metadata": {},
   "source": [
    "Now we get much preferred behavior. We can also understand the meaning of two solutions that came out. Even to realize the same hand coordinate, multiple solutions depending on the position of the elbow is possible due to the redundant degrees of freedom of the robot. Mathematically, both are correct. However in practice, there is a intended position of the elbow so we need to choose either solution."
   ]
  },
  {
   "cell_type": "markdown",
   "id": "86b2e546",
   "metadata": {},
   "source": [
    "> FYI note:\n",
    "> The \"position of the elbow\" of the robot can become a big problem. This time the ground is the problem, however, if we want to extend the robot arm in a narrow space, we have to take care both the hand and the elbow must not hit the obstacle. In this specific notebook we assumed the two-degree-of-freedom robot, however, it is also possible to design the robot with further redundant degrees of freedom. Such a robot has wide range of freedom the position of the elbow to realize the same hand coordinate. We can make an interesting robot since it is possible to proceed while avoiding obstacles to control the position of the elbow even in a narrow space, while on the other hands calculation of inverse kinematics becomes much challenging."
   ]
  },
  {
   "cell_type": "markdown",
   "id": "6e29eec2",
   "metadata": {},
   "source": [
    "> FYI note 2:\n",
    "> However in practice, if we use a robot with high redundant degree of freedom, not only the calculation of inverse kinematics become difficult, but also, securing of hand coordinate accuracy become difficult because the backlash of each motor and distortion of each link will be accumulated. In practice, we try to make high degree of freedom of the robot at the same time from the simple kinematics. \"SCARA robot\" is one of such robot. In SCARA robot, xy-axis has the same structure as the two-degree-of-freedom robot we calculated in this notebook. There is additional z-axis direction linear joint close to the hand. Thanks to this structure, mechanical rigidity is easily secured, and it is an excellent design of the robot that can balance the high precision control and the ease of kinematic calculation."
   ]
  },
  {
   "cell_type": "markdown",
   "id": "5fc4d5d7",
   "metadata": {},
   "source": [
    "## Numerical method to solve inverse kinematics"
   ]
  },
  {
   "cell_type": "markdown",
   "id": "94894e97",
   "metadata": {},
   "source": [
    "We have already studied how to calculate inverse kinematics using \"analytical method\" which takes the mathematical approach to calculate inverse function. But I think it was pretty tiring work even for the greatly simplified robot like we assumed here. If we want to calculate the joint angles of the complex robot with complex kinematics will be even more difficult task.\n",
    "\n",
    "In the analytical method, we tried to calculate joint angles using an inverse function. However, without using the inverse function, we can calculate the joint angles by iterative calculations using computer. Such method is called \"numerical method\". Here, we will explain the example of using Newton's method."
   ]
  },
  {
   "cell_type": "markdown",
   "id": "004d15b1",
   "metadata": {},
   "source": [
    "In Newton's method, we will approach to the solution by the following way.\n",
    "\n",
    "First of all, we give the appropriate initial value to the joint angles. \"Appropriate value\" is difficult than we think, but lets say we set a random value that was determined by shaking a dice.\n",
    "\n",
    "$$ \\theta_1 = initial value $$\n",
    "\n",
    "From the initial value of the joint angles, we calculate the hand coordinate by using the formula in forward kinematics.\n",
    "\n",
    "$$ r_1 = f(\\theta_1) $$\n",
    "\n",
    "Except for the case where the initial value that we selected randomly was actually the correct answer, this hand coordinate should be different from the target coordinate.\n",
    "\n",
    "We calculate the difference between the target coordinate and the current hand coordinate. This value will measure how the current coordinate and the target coordinate is distant in either direction in the xy-axis of the hand coordinate system.\n",
    "\n",
    "$$ r - r_1 $$\n",
    "\n",
    "Although, we obtained the measure in the hand coordinate system, we have to the decrease the measure by adjusting joint angles of the robot. To do that, in the Newton's method we use a derivative of the function. By substituting the value of the current joint angle to the differentiation of the forward kinematics function, we will get constant which is proportion to \"how much the xy-axis values in hand coordinate system will be changed by changing joint angle values\".\n",
    "\n",
    "$$ A_1 = f '(\\theta_1) $$\n",
    "\n",
    "Because the original forward kinematics formula contains trigonometric functions, this constant should make complex change depending on the joint angle. So the resulting constant only effective \"in the vicinity of the current joint angle\". But it is enough to make an approximation.\n",
    "\n",
    "We use the above constant as the \"glue\" to connect the joint angle to the hand xy-axis coordinate system.\n",
    "\n",
    "We place xy-axis hand coordinate system to the left side of the equation, the right side is the joint angle coordinate system and put them together with the glue. Here $r$ and $\\theta$ is the respective target value of the hand coordinate and the joint angles.\n",
    "\n",
    "$$ r - r_1 = A_1 (\\theta - \\theta_1) $$\n",
    "\n",
    "Strictly speaking, this does not means this equality is established. But we try to think at this specific moment, the approximately holds such relationship.\n",
    "\n",
    "Now we solve the above equation with respect to $\\theta$.\n",
    "\n",
    "$$ \\theta = \\theta_1 + A_1^{-1} (r - r_1) $$\n",
    "\n",
    "By replacing $r_1$ and $A_1$ to the actual values we calculated from the forward kinematics, we will get the following equation which determining the correct joint angle $\\theta$ from the target hand coordinate $r$ and the initial value $\\theta_1$.\n",
    "\n",
    "$$ \\theta = \\theta_1 + f'(\\theta_1)^{-1} (r - f(\\theta_1)) $$\n",
    "\n",
    "Since $f '(\\theta_1)$ is only an approximation near $\\theta_1$, we improve the accuracy by calculating repeatedly as follows.\n",
    "\n",
    "$$ \\theta_{i+1} = \\theta_i + k f'(\\theta_i)^{-1} (r - f(\\theta_i)) $$\n",
    "\n",
    "Here, $k$ is the coefficient used when $A=f '(\\theta)$ is not so creditable as an approximation (including our case). If this coefficient is set to small value, the approach to the solution will be little-by-little and required numbers of calculation will be increased, but can realize more reliable convergence."
   ]
  },
  {
   "cell_type": "markdown",
   "id": "59e858d0",
   "metadata": {},
   "source": [
    "Please note that in Newton's method, we can calculate the solution by using only the derivative of the function. Unlike the complex conversions required in analytical method to get inverse function, derivative of the function can be easily calculated."
   ]
  },
  {
   "cell_type": "code",
   "execution_count": null,
   "id": "855be766",
   "metadata": {},
   "outputs": [],
   "source": [
    "f=open('/tmp/pa10-firstjoint.asy', 'w')\n",
    "f.write('''\n",
    "import math; import graph; import geometry;\n",
    "size(12cm); xaxis(\"$x$\"); yaxis(\"$y$\");\n",
    "real theta1=pi/4; real theta2=pi/3;\n",
    "real L1=0.45; real L2=0.48;\n",
    "pair l1p = (L1*sin(theta1), L1*cos(theta1));\n",
    "pair l2p = l1p + (L2*sin(theta1+theta2), L2*cos(theta1+theta2));\n",
    "draw((0,0)--l1p--l2p); draw(l1p--l1p*1.5, dashed); dot(l2p); draw((0,0)--l2p, dashed); \n",
    "label(\"$J1(0,0)$\", (0,0), NW); label(\"$J2(u,v)$\", l1p, NW); label(\"$H(x,y)$\", l2p, NE);\n",
    "draw(\"$L1$\",(0,0)-0.02*I*l1p--l1p-0.02*I*l1p, red, Arrows, Bars, PenMargins);\n",
    "draw(\"$L2$\", l1p-0.02*I*l2p--l2p-0.02*I*l2p, red, Arrows, Bars, PenMargins);\n",
    "draw(\"$\\\\theta_1$\", arc((0,1),(0,0),l1p,0.1), blue, PenMargins);\n",
    "draw(\"$\\\\theta_2$\", arc(l1p,0.1,degrees(l1p),degrees(l2p-l1p),CW), blue, PenMargins);\n",
    "draw(\"$\\\\alpha$\", arc((1,0),(0,0),l2p,0.2), blue, PenMargins);\n",
    "''')\n",
    "f.close()\n",
    "subprocess.call(shlex.split('asy /tmp/pa10-firstjoint.asy -f png -o pa10-firstjoint.png'))"
   ]
  },
  {
   "cell_type": "markdown",
   "id": "42b4cab0",
   "metadata": {},
   "source": [
    "![PA10 fist joint](pa10-firstjoint.png)"
   ]
  },
  {
   "cell_type": "markdown",
   "id": "c5d216c8",
   "metadata": {},
   "source": [
    "$\\alpha$ can be expressed by using $atan$ as the follows."
   ]
  },
  {
   "cell_type": "code",
   "execution_count": null,
   "id": "88cee18a",
   "metadata": {},
   "outputs": [],
   "source": [
    "alpha = atan(y2/x2)\n",
    "alpha"
   ]
  },
  {
   "cell_type": "markdown",
   "id": "6943e42f",
   "metadata": {},
   "source": [
    "Further"
   ]
  },
  {
   "cell_type": "code",
   "execution_count": null,
   "id": "a0a974c9",
   "metadata": {},
   "outputs": [],
   "source": [
    "beta = pi / 2 - t1 - alpha\n",
    "beta"
   ]
  },
  {
   "cell_type": "markdown",
   "id": "d47a64c3",
   "metadata": {},
   "source": [
    "Assuming a corner $\\beta$ described as the above, we can draw following triangle with a focus on the second joint."
   ]
  },
  {
   "cell_type": "code",
   "execution_count": null,
   "id": "0f734abc",
   "metadata": {},
   "outputs": [],
   "source": [
    "f=open('/tmp/pa10-secondjoint.asy', 'w')\n",
    "f.write('''\n",
    "import math; import graph; import geometry;\n",
    "size(12cm); xaxis(\"$x$\"); yaxis(\"$y$\");\n",
    "real theta1=pi*0.327; real theta2=pi/3;\n",
    "real L1=0.45; real L2=0.48;\n",
    "pair l1p = (L1*sin(theta1), L1*cos(theta1));\n",
    "pair l2p = l1p + (L2*sin(theta1+theta2), L2*cos(theta1+theta2));\n",
    "draw((0,0)--l1p--l2p); draw(l1p--l1p*1.5, dashed);\n",
    "label(\"$J1(0,0)$\", (0,0), NW); label(\"$J2(u,v)$\", l1p, NW); label(\"$H(x,y)$\", l2p, NE);\n",
    "draw(\"$L1$\",(0,0)-0.02*I*l1p--l1p-0.02*I*l1p, red, Arrows, Bars, PenMargins);\n",
    "draw(\"$L2$\", l1p-0.02*I*l2p--l2p-0.02*I*l2p, red, Arrows, Bars, PenMargins);\n",
    "draw(\"$\\\\theta_2$\", arc(l1p,0.1,degrees(l1p),degrees(l2p-l1p),CW), blue, PenMargins);\n",
    "draw(\"$\\\\beta$\", arc((1,0),(0,0),l1p,0.15), blue, PenMargins);\n",
    "''')\n",
    "f.close()\n",
    "subprocess.call(shlex.split('asy /tmp/pa10-secondjoint.asy -f png -o pa10-secondjoint.png'))"
   ]
  },
  {
   "cell_type": "markdown",
   "id": "580517c3",
   "metadata": {},
   "source": [
    "![PA10 second joint](pa10-secondjoint.png)"
   ]
  },
  {
   "cell_type": "markdown",
   "id": "7dee5f52",
   "metadata": {},
   "source": [
    "Between $\\beta$ and $\\theta_2$ following relationship should exist from cosine theorem (the same way of thinking when decompose the triangle to derive the theorem)."
   ]
  },
  {
   "cell_type": "code",
   "execution_count": null,
   "id": "6c783930",
   "metadata": {},
   "outputs": [],
   "source": [
    "beta2 = atan((L2 * sin(t2))/(L1 + L2 * cos(t2)))\n",
    "beta2"
   ]
  },
  {
   "cell_type": "markdown",
   "id": "68c04a2f",
   "metadata": {},
   "source": [
    "By combining the above equation to the $\\beta$ formula, $\\theta_1$ can be calculated in the following manner."
   ]
  },
  {
   "cell_type": "code",
   "execution_count": null,
   "id": "c3fd1748",
   "metadata": {},
   "outputs": [],
   "source": [
    "graphviz.Source('''\n",
    "digraph G {\n",
    "  rankdir=LR;\n",
    "  input -> IK [label=\"hand position\"]\n",
    "  IK -> PID_control [label=\"joint angles\"]\n",
    "  PID_control -> PA10 [label=\"joint torques\"]\n",
    "  PA10 -> PID_control [label=\"joint angles\"]\n",
    "}\n",
    "''')"
   ]
  },
  {
   "cell_type": "markdown",
   "id": "8f5bf0a9",
   "metadata": {},
   "source": [
    "The main part of today is the \"inverse kinematics component\" located at the center of the figure.\n",
    "\n",
    "We have already calculated the inverse kinematics in both the analytical methods and numerical methods. Here, to thank to our valuable work on converting equations, let's implement our component using the analytical method.\n",
    "\n",
    "We get the following formula as the final outcome obtained from the analytical method:"
   ]
  },
  {
   "cell_type": "code",
   "execution_count": null,
   "id": "cc08d715",
   "metadata": {},
   "outputs": [],
   "source": [
    "[k2[0], k[1]]"
   ]
  },
  {
   "cell_type": "markdown",
   "id": "8216d1d4",
   "metadata": {},
   "source": [
    "Implementation of this formula in C++ is as follows.\n",
    "\n",
    "```cpp\n",
    "#include <math.h>\n",
    "\n",
    "#define L1 0.45\n",
    "#define L2 0.48\n",
    "\n",
    "double calc_t1(double x, double y, double t2) {\n",
    "  double t1;\n",
    "  t1 = - atan2(y, x) - atan2(L2*sin(t2), L1+L2*cos(t2)) + M_PI/2.0;\n",
    "  return t1;\n",
    "}\n",
    "\n",
    "double calc_t2(double x, double y) {\n",
    "  double t2;\n",
    "  t2 = acos((-L1*L1 - L2*L2 + x*x + y*y)/(2*L1*L2));\n",
    "  return t2;\n",
    "}\n",
    "```"
   ]
  },
  {
   "cell_type": "markdown",
   "id": "96078e58",
   "metadata": {},
   "source": [
    "The entire source code is available at the following repository.\n",
    "\n",
    "https://github.com/devrt/inverse-kinematics-primer\n",
    "\n",
    "Please first read file InverseKinematics.cpp, HandMotionGeneration.cpp, PIDController.cpp which is the source code of each component.\n",
    "\n",
    "To start the simulation, it require hrpsys-base installed on Linux environment.\n",
    "It is possible to launch the environment using the Vagrant environment, we have introduced [several times before] (tech.mid-japan.com/blog/2014/06/28/vagrant-hrpsys-watchdog/). It is recommended particular for those who are using Windows.\n",
    "\n",
    "Once startup the environment and logged in, please checkout the repository and then start the script.\n",
    "\n",
    "```\n",
    "git clone https://github.com/devrt/inverse-kinematics-primer.git\n",
    "cd inverese-kinematic-primer\n",
    "./run.sh\n",
    "```\n",
    "\n",
    "Program to draw a triangular trajectory by the hand has been implemented as a default."
   ]
  },
  {
   "cell_type": "code",
   "execution_count": null,
   "id": "2ab2714d",
   "metadata": {},
   "outputs": [],
   "source": [
    "Image(url=\"http://devrt.tk/build/repo/53d8a5497466b5fd34fe25bb.gif\")"
   ]
  },
  {
   "cell_type": "markdown",
   "id": "095f0838",
   "metadata": {},
   "source": [
    "It seems it has worked without problems.\n",
    "\n",
    "Let's reach to the box by editing the HandMotionGeneration.cpp."
   ]
  },
  {
   "cell_type": "code",
   "execution_count": null,
   "id": "b60ddc50",
   "metadata": {},
   "outputs": [],
   "source": [
    "graphviz.Source('digraph G { rankdir=LR; hand_position -> joint_angle [label=\"estimate\"] }')"
   ]
  },
  {
   "cell_type": "markdown",
   "id": "3199040d",
   "metadata": {},
   "source": [
    "It is necessary to calculate the inverse kinematics for the operations such as pick-and-place manipulating the robot arm freely. It will be somewhat more difficult than the forward kinematics, but it is yet not so difficult as you imagine from the word \"kinematics\".\n",
    "\n",
    "There are two ways to calculate the inverse kinematics, one is analytical method and the other is numerical method."
   ]
  },
  {
   "cell_type": "code",
   "execution_count": null,
   "id": "cf3d6fb6",
   "metadata": {},
   "outputs": [],
   "source": [
    "Image(url=\"http://devrt.tk/build/repo/53d8aa637466b5fd34fe25bd.gif\")"
   ]
  },
  {
   "cell_type": "markdown",
   "id": "44660685",
   "metadata": {},
   "source": [
    "We have successfully touched the box ! (It is also possible to pick a box, by using fingers. Please go ahead and try to modify the source code.)"
   ]
  },
  {
   "cell_type": "markdown",
   "id": "b17c11fc",
   "metadata": {},
   "source": [
    "# Appendix"
   ]
  },
  {
   "cell_type": "markdown",
   "id": "b50316a6",
   "metadata": {},
   "source": [
    "In this specific notebook we have calculated and implemented the inverse kinematics formula from scratch. However, various libraries to solve the inverse kinematics already exist, because they are frequently used to control the robot.\n",
    "\n",
    "Currently, the most popular library used in the robotics society is IKFast developed by Rosen Diankov.\n",
    "\n",
    "http://openrave.org/docs/latest_stable/openravepy/ikfast/\n",
    "\n",
    "IKFast can automatically the analytical solution given the structure of the robot (it internally uses sympy). It will also convert and output the solved equation to C++ code.\n",
    "\n",
    "Because it is using analytical solution, the results of inverse kinematics is stable and work very fast.\n",
    "\n",
    "To take advantage of the IKFast from ROS, you can use the following package.\n",
    "\n",
    "http://moveit.ros.org/wiki/Kinematics/IKFast\n",
    "\n",
    "Package utilize OpenRAVE (parent project of IKFast) from the RTM have been developed and published by Okada's lab (Tamagawa University).\n",
    "\n",
    "https://code.google.com/p/rtc-openrave/\n",
    "\n",
    "\n",
    "There is also a library to calculate the inverse kinematics in OpenHRP.\n",
    "\n",
    "We have to be careful about the stability, because the inverse kinematics is calculated by numerical method, but it is very convenient because it can calculate the inverse kinematics from the same VRML model as used in the simulation.\n",
    "\n",
    "http://www.openrtp.jp/openhrp3/jp/reference/idl/html/interfaceOpenHRP_1_1DynamicsSimulator.html\n",
    "\n",
    "By using this library, you can create a demo application, such as the following video (see the source code used in this demo from the following link).\n",
    "\n",
    "https://github.com/yosuke/OpenHRIWorlds/blob/master/openhriworlds/BlocksWorld.py"
   ]
  }
 ],
 "metadata": {},
 "nbformat": 4,
 "nbformat_minor": 5
}
