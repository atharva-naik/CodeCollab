{
 "cells": [
  {
   "cell_type": "markdown",
   "id": "72272300",
   "metadata": {},
   "source": [
    "# NYC Taxi Data\n",
    "\n",
    "In August 2015, the NYC Taxi and Limosine Commission released taxi data up through June 2015. This project analyzes some of that data, which is available at: \n",
    "    http://www.nyc.gov/html/tlc/html/about/trip_record_data.shtml"
   ]
  },
  {
   "cell_type": "code",
   "execution_count": null,
   "id": "d9f08a4f",
   "metadata": {},
   "outputs": [],
   "source": [
    "import numpy as np\n",
    "import pandas as pd\n",
    "import matplotlib\n",
    "import matplotlib.pyplot as plt\n",
    "from matplotlib import rcParams \n",
    "import pickle\n",
    "import os"
   ]
  },
  {
   "cell_type": "markdown",
   "id": "b033738c",
   "metadata": {},
   "source": [
    "## Getting and Checking the Data"
   ]
  },
  {
   "cell_type": "code",
   "execution_count": null,
   "id": "10fa0739",
   "metadata": {},
   "outputs": [],
   "source": [
    "# Read in the data. We'll just start with the data for June, 2015, for yellow cabs.\n",
    "yellowDF = pd.read_csv('Data/yellow_tripdata_2015-06.csv')\n",
    "\n",
    "print yellowDF.shape"
   ]
  },
  {
   "cell_type": "markdown",
   "id": "443d34dc",
   "metadata": {},
   "source": [
    "Just the data in June gives us over 12 million records. We don't need all 18 columns, but we'll leave them for now. However, it might be nice to clean up the labels a bit. Then we'll need to clean the data to remove anything that won't help us, like NaNs, trips that take zero time, or those that clearly have incorrect entries."
   ]
  },
  {
   "cell_type": "code",
   "execution_count": null,
   "id": "2dbd4428",
   "metadata": {},
   "outputs": [],
   "source": [
    "labels = ['VendorID', 'pickup_time', 'dropoff_time', 'passenger_count', 'distance', \n",
    "          'pickup_long', 'pickup_lat', 'RateCodeID', 'flag', 'dropoff_long', \n",
    "          'dropoff_lat', 'payment_type', 'fare', 'extra', 'mta_tax', 'tip', \n",
    "          'tolls', 'total']\n",
    "yellowDF.columns = labels"
   ]
  },
  {
   "cell_type": "code",
   "execution_count": null,
   "id": "a77dcdd2",
   "metadata": {},
   "outputs": [],
   "source": [
    "# Let's get the summary of this dataframe to get an idea of what we have. \n",
    "# Then we'll just print out some of the values of interest.\n",
    "yellowDF.describe().loc[['min','max'],\n",
    "                        ['passenger_count', 'distance','pickup_long','pickup_lat', \n",
    "                         'dropoff_long', 'dropoff_lat', 'total']]"
   ]
  },
  {
   "cell_type": "markdown",
   "id": "11e62e87",
   "metadata": {},
   "source": [
    "Uh oh. Looks like there are some wacky values here. A longitude of -759.23 goes around the Earth twice, then ends up somewhere in the Atlantic Ocean. And the range for the pickup latitude is far too great. In the next section, we'll clean up the data so we remove the entries that don't make sense. "
   ]
  },
  {
   "cell_type": "markdown",
   "id": "c7628177",
   "metadata": {},
   "source": [
    "## Cleaning the Data\n",
    "\n",
    "Here's what we'd like to get rid of:\n",
    "* Trips that take zero time or have zero distance\n",
    "* Trips that take many hours or have distances more than 100 miles\n",
    "* Trips that start or end far outside of New York City\n",
    "* Fares that are below zero, or far above anything reasonable"
   ]
  },
  {
   "cell_type": "code",
   "execution_count": null,
   "id": "20d25f38",
   "metadata": {},
   "outputs": [],
   "source": [
    "# Remove any rows that include NaNs.\n",
    "yellowDF = yellowDF.dropna()\n",
    "\n",
    "# Remove distances less than zero or over 100 miles\n",
    "yellowDF = yellowDF[(yellowDF.distance > 0) & (yellowDF.distance < 100)]\n",
    "\n",
    "# Only get trips in NYC\n",
    "yellowDF = yellowDF[(yellowDF.pickup_long >= -74.1) & (yellowDF.pickup_long <= -73.7) & \\\n",
    "                   (yellowDF.dropoff_long >= -74.1) & (yellowDF.dropoff_long <= -73.7) & \\\n",
    "                   (yellowDF.pickup_lat >= 40.6) & (yellowDF.pickup_lat <= 41.0) & \\\n",
    "                   (yellowDF.dropoff_lat >= 40.6) & (yellowDF.dropoff_lat <= 41.0)]\n",
    "\n",
    "# Remove trips with total fares less than zero or more than $200. (Yes, \n",
    "# it's possible to spend more on a cab ride in NYC, but some of those were for \n",
    "# short trips, so they seem like bad data.)\n",
    "yellowDF = yellowDF[(yellowDF.total > 0) & (yellowDF.total < 200)]"
   ]
  },
  {
   "cell_type": "markdown",
   "id": "ae9e7572",
   "metadata": {},
   "source": [
    "Part of our analysis will concern the difference between the pickup and dropoff times. For this, we first need to convert the date-time strings into datetime objects. Then it would be helpful to remove trips that took zero time, since those will only mess up our calculations."
   ]
  },
  {
   "cell_type": "code",
   "execution_count": null,
   "id": "e6c5c53b",
   "metadata": {},
   "outputs": [],
   "source": [
    "# Convert times to datetime objects.\n",
    "yellowDF['pickup_time'] = pd.to_datetime(yellowDF['pickup_time'])\n",
    "yellowDF['dropoff_time'] = pd.to_datetime(yellowDF['dropoff_time'])\n",
    "\n",
    "# Remove all trips that are 0 seconds in length.\n",
    "trip_duration = yellowDF['dropoff_time'] - yellowDF['pickup_time']\n",
    "yellowDF = yellowDF[trip_duration > 0]"
   ]
  },
  {
   "cell_type": "markdown",
   "id": "b15306c1",
   "metadata": {},
   "source": [
    "At this point, we've removed 293,497 records, which is only about 2.4% of the original data."
   ]
  },
  {
   "cell_type": "markdown",
   "id": "6cb97c97",
   "metadata": {},
   "source": [
    "## Analyzing the Data\n",
    "\n",
    "Now let's answer some questions about taxi rides for the June 2015 data."
   ]
  },
  {
   "cell_type": "markdown",
   "id": "995756c3",
   "metadata": {},
   "source": [
    "### 1) What is the mean fare per minute driven?"
   ]
  },
  {
   "cell_type": "code",
   "execution_count": null,
   "id": "b82bde20",
   "metadata": {},
   "outputs": [],
   "source": [
    "# Convert the trip duration series to seconds, divide by 60 to get minutes,\n",
    "# divide the fare by that result, then take the mean.\n",
    "avg_fare_per_minute = np.mean(yellowDF['fare']/(np.divide(trip_duration, \n",
    "                                                          np.timedelta64(1,'s'))/60))\n",
    "print('Mean fare: $%2.2f per minute' % avg_fare_per_minute)"
   ]
  },
  {
   "cell_type": "markdown",
   "id": "394189f7",
   "metadata": {},
   "source": [
    "### 2) What is the median of the taxi's fare per mile driven?"
   ]
  },
  {
   "cell_type": "code",
   "execution_count": null,
   "id": "aeee9374",
   "metadata": {},
   "outputs": [],
   "source": [
    "# Divide the fare by the distance, then get the median.\n",
    "med_per_mile = np.median(yellowDF['fare']/yellowDF['distance'])\n",
    "print('Median fare: $%2.2f per mile' % med_per_mile)"
   ]
  },
  {
   "cell_type": "markdown",
   "id": "8c395861",
   "metadata": {},
   "source": [
    "### 3) What is the taxi's average driving speed in miles per hour?"
   ]
  },
  {
   "cell_type": "code",
   "execution_count": null,
   "id": "7347a95f",
   "metadata": {},
   "outputs": [],
   "source": [
    "# First get the duration of each trip, in hours, then divide the distance\n",
    "# driven by the duration to get the average speed of each trip.\n",
    "duration_in_hours = np.divide(trip_duration, np.timedelta64(1,'s'))/3600\n",
    "speed = yellowDF['distance']/duration_in_hours\n",
    "\n",
    "# Note that if we look at np.sum(speed>100), we see there are 8,115 trips where\n",
    "# the speed exceeded 80 miles per hour! Let's consider that bad data and remove those.\n",
    "speed = speed[speed < 80]\n",
    "\n",
    "print('Mean driving speed: %2.2f miles per hour' % np.mean(speed))"
   ]
  },
  {
   "cell_type": "markdown",
   "id": "82459175",
   "metadata": {},
   "source": [
    "### 4) What is the average ratio of the distance between the pickup and dropoff divided by the distance driven?"
   ]
  },
  {
   "cell_type": "code",
   "execution_count": null,
   "id": "02db9d9f",
   "metadata": {},
   "outputs": [],
   "source": [
    "# We first need to get the distance in miles between the pickup and dropoff\n",
    "# locations based on latitude and longitude, ignoring the curvature of the Earth.\n",
    "\n",
    "# Note that each 0.00001 degree longitude = 1.1132m, but 0.00001 degrees \n",
    "# latitude = 0.787m at 45 deg. N [http://en.wikipedia.org/wiki/Decimal_degrees]  \n",
    "# NYC is about 40 deg N, so we'll use the 0.787m figure.\n",
    "\n",
    "x = (yellowDF['dropoff_long'] - yellowDF['pickup_long'])* 100000 * 0.787\n",
    "y = (yellowDF['dropoff_lat'] - yellowDF['pickup_lat'])* 100000 * 1.1132\n",
    "dist = np.sqrt(x*x + y*y)/1609.34 # Convert from meters to miles\n",
    "\n",
    "print('Avg driving distance: %2.2f miles' % np.mean(yellowDF['distance']))\n",
    "print('Avg distance traveled: %2.2f miles' % np.mean(dist))"
   ]
  },
  {
   "cell_type": "markdown",
   "id": "628546ea",
   "metadata": {},
   "source": [
    "It's reasonable that the distance driven is on average greater than the Euclidian distance traveled. However, before we can get the final answer, we need to consider that there are 41,010 trips where the start and end points are the same, i.e., the distance traveled was zero, even if the driving distance wasn't. Perhaps the passenger had the cab return them to the same spot after performing some errand. We don't know. \n",
    "\n",
    "This represents about 0.3% of the data, so it probably won't affect the outcome much. However, we still have to look for records where the driving distance is less than the Euclidian distance traveled, since the straight-line distance should always be the shortest distance. We find 418,271 records where this is the case, so let's remove those before getting our final ratio."
   ]
  },
  {
   "cell_type": "code",
   "execution_count": null,
   "id": "e9c9ffca",
   "metadata": {},
   "outputs": [],
   "source": [
    "# Remove trips where driving distance < Euclidian distance\n",
    "yellowDF = yellowDF[(yellowDF['distance'] - dist) >= 0]\n",
    "dist = dist[(yellowDF['distance'] - dist) >= 0]\n",
    "\n",
    "print('Avg driving distance: %2.2f miles' % np.mean(yellowDF['distance']))\n",
    "print('Avg distance traveled: %2.2f miles' % np.mean(dist))\n",
    "print('Avg ratio of distance traveled to distance driven: %2.2f ' \n",
    "      % np.mean(dist/yellowDF['distance']))"
   ]
  },
  {
   "cell_type": "markdown",
   "id": "78b0b929",
   "metadata": {},
   "source": [
    "### 5) What is the distribution of rides by hour of the day?"
   ]
  },
  {
   "cell_type": "code",
   "execution_count": null,
   "id": "885382f6",
   "metadata": {},
   "outputs": [],
   "source": [
    "# Create series of the total number of rides grouped by hour of the day.\n",
    "yellowDF['hour'] = yellowDF.pickup_time\n",
    "yellowDF['hour'] = yellowDF['hour'].apply(lambda x: x.hour)\n",
    "hourly_rides = yellowDF.groupby(['hour']).count()['VendorID']"
   ]
  },
  {
   "cell_type": "code",
   "execution_count": null,
   "id": "8ae9cd4e",
   "metadata": {},
   "outputs": [],
   "source": [
    "%matplotlib inline\n",
    "\n",
    "rcParams['figure.figsize'] = (14, 8) # Figure size in inches\n",
    "\n",
    "fig = plt.figure()\n",
    "ax = plt.subplot(111)\n",
    "ax.bar(hourly_rides.index, hourly_rides.values)\n",
    "ax.set_title('Distribution of Taxi Rides by Hour of Day')\n",
    "ax.set_xlabel('Hour of Day')\n",
    "ax.set_ylabel('Number of Taxi Rides')\n",
    "ax.set_xticks(hourly_rides.index)\n",
    "ax.set_xticklabels(['0:00','1:00','2:00','3:00','4:00','5:00',\n",
    "                    '6:00','7:00','8:00','9:00','10:00','11:00',\n",
    "                    '12:00','13:00','14:00','15:00','16:00','17:00',\n",
    "                    '18:00','19:00','20:00','21:00','22:00','23:00'], rotation=90)\n",
    "plt.show()"
   ]
  },
  {
   "cell_type": "markdown",
   "id": "6eeb02bb",
   "metadata": {},
   "source": [
    "We see a steady drop in cab rides starting at about 11:00 p.m., until about 5:00 a.m., when there's a rapid rise as the day starts for most people in the city."
   ]
  },
  {
   "cell_type": "markdown",
   "id": "ce7d062e",
   "metadata": {},
   "source": [
    "## Visualizing the Pickup and Dropoff Locations\n",
    "\n",
    "Time to make a nice visualization of where the taxis make their rounds. We'll first try a basic graph, then refine it with a more sophisticated approach."
   ]
  },
  {
   "cell_type": "code",
   "execution_count": null,
   "id": "0707c979",
   "metadata": {},
   "outputs": [],
   "source": [
    "%matplotlib inline\n",
    "\n",
    "rcParams['figure.figsize'] = (14, 14) # Figure size in inches\n",
    "rcParams['figure.dpi'] = 250\n",
    "\n",
    "# Just get the pickup locations, then plot those as a scatter plot.\n",
    "pickup = yellowDF.loc[:, ['pickup_long', 'pickup_lat']]\n",
    "Taxi_pickup = pickup.plot(kind='scatter', x='pickup_long', y='pickup_lat', color='white',\n",
    "              xlim=(-74.06,-73.75), ylim=(40.6, 40.9), s=.01, alpha=.5)\n",
    "\n",
    "Taxi_pickup.set_axis_bgcolor('black') # Make the background black"
   ]
  },
  {
   "cell_type": "markdown",
   "id": "90fffed1",
   "metadata": {},
   "source": [
    "This is a good start. Unfortunately, there's a lot more activity downtown, so that area is saturated with points. We need to refine the image. \n",
    "\n",
    "Rather than make a scatter plot from the dataframe, we can create an array where each cell represents a latitude and longitude value. We increment each cell based on the number of taxi trips that began or ended there. To even out the values, we can take the logarithm, so that the outlying areas show up nearly as well as the downtown area. We then create an image from that revised array."
   ]
  }
 ],
 "metadata": {},
 "nbformat": 4,
 "nbformat_minor": 5
}
