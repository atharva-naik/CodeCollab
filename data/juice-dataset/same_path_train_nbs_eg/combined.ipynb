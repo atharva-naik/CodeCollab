{
 "cells": [
  {
   "cell_type": "code",
   "execution_count": null,
   "id": "c2eb6bb1",
   "metadata": {},
   "outputs": [],
   "source": [
    "%matplotlib inline\n",
    "import pandas as pd\n",
    "import numpy as np\n",
    "import matplotlib.pyplot as plt\n",
    "import matplotlib.mlab as mlab\n",
    "import math"
   ]
  },
  {
   "cell_type": "code",
   "execution_count": null,
   "id": "2ce31f59",
   "metadata": {},
   "outputs": [],
   "source": [
    "donations = pd.DataFrame.from_csv('opendata_donations.csv', index_col=None).ix[:,0:23]\n",
    "donations = donations.rename(columns=lambda x: x.strip()) # removing whitespaces from columns\n",
    "donations = donations[(donations.donor_zip!='SC')&(donations.donor_zip!='NY')&(donations.donor_zip!='NJ')&(donations.donor_zip!='TX')]\n",
    "donations.head(5)"
   ]
  },
  {
   "cell_type": "code",
   "execution_count": null,
   "id": "39acb0e5",
   "metadata": {},
   "outputs": [],
   "source": [
    "projects = pd.DataFrame.from_csv('opendata_projects.csv', index_col=None)\n",
    "projects.head(5)"
   ]
  },
  {
   "cell_type": "code",
   "execution_count": null,
   "id": "567b8c8a",
   "metadata": {},
   "outputs": [],
   "source": [
    "# Join donations and projects data\n",
    "projects_donations = projects.merge(donations, on='_projectid',how='inner')\n",
    "projects_donations.head(5)"
   ]
  },
  {
   "cell_type": "code",
   "execution_count": null,
   "id": "f3e0c001",
   "metadata": {},
   "outputs": [],
   "source": [
    "len(projects_donations)"
   ]
  },
  {
   "cell_type": "markdown",
   "id": "d9ce9750",
   "metadata": {},
   "source": [
    "### 1) Is there a correlation between project's state and donor's state in terms of donation amount ?"
   ]
  },
  {
   "cell_type": "code",
   "execution_count": null,
   "id": "e700a57c",
   "metadata": {},
   "outputs": [],
   "source": [
    "#1) Proportions of state wise donations against state wise projects \n",
    "# Creating a n*n empty data frame for each state\n",
    "states = projects_donations.school_state.drop_duplicates()\n",
    "df = pd.DataFrame(columns = states)\n",
    "for state in states:\n",
    "    df.loc[state] = states\n",
    "\n",
    "# Filling the data frame\n",
    "p_g = projects_donations.groupby('school_state')\n",
    "for state_p,group_p in p_g:\n",
    "    #print state_p,'--',group_p.donation_total.sum()\n",
    "    d_g = group_p.groupby('donor_state')\n",
    "    for state_d,group_d in d_g:\n",
    "        #print state_d, group_d.donation_total.sum()\n",
    "        df.loc[state_p,state_d] = 100*(group_d.donation_total.sum())/(group_p.donation_total.sum())"
   ]
  },
  {
   "cell_type": "code",
   "execution_count": null,
   "id": "acf9af65",
   "metadata": {},
   "outputs": [],
   "source": [
    "df.fillna(0).head(5)"
   ]
  },
  {
   "cell_type": "markdown",
   "id": "5142883f",
   "metadata": {},
   "source": [
    "**Yes, there is a correlation if you look at the diagonal line. A onor is more likely to donate to a project that belongs to a school in their own state**"
   ]
  },
  {
   "cell_type": "code",
   "execution_count": null,
   "id": "dd716b65",
   "metadata": {},
   "outputs": [],
   "source": [
    "## Randomly picked few states - for data story sake\n",
    "df.fillna(0)#.head(5)\n",
    "df.loc[(df.index == 'NY')|(df.index == 'CA')|(df.index == 'DC')|(df.index == 'IA')|(df.index == 'NV')|(df.index == 'SC') ,(df.columns == 'NY')|(df.columns == 'CA')|(df.columns == 'DC')|(df.columns == 'IA')|(df.columns == 'NV')|(df.columns == 'SC')]"
   ]
  },
  {
   "cell_type": "markdown",
   "id": "44b2c302",
   "metadata": {},
   "source": [
    "**Getting top donation states for Iowa**"
   ]
  },
  {
   "cell_type": "code",
   "execution_count": null,
   "id": "36458024",
   "metadata": {},
   "outputs": [],
   "source": [
    "df[df.index == 'IA'].sum().sort_values(ascending=False).head(5)"
   ]
  },
  {
   "cell_type": "markdown",
   "id": "b1bf59ef",
   "metadata": {},
   "source": [
    "**It is found that a donor is more likely to donate to a project that belongs to a neighbouring state **"
   ]
  },
  {
   "cell_type": "markdown",
   "id": "460baf57",
   "metadata": {},
   "source": [
    "### 2) How does donor category effect the donation amount ?"
   ]
  },
  {
   "cell_type": "code",
   "execution_count": null,
   "id": "542be9f6",
   "metadata": {},
   "outputs": [],
   "source": [
    "# Identify donations that came from the teacher who created the project\n",
    "# and assigning donor category\n",
    "pds = projects_donations\n",
    "pds.loc[:, 'donor_category'] = 'donor_other'\n",
    "pds.loc[pds._teacher_acctid == pds._donor_acctid, 'donor_category'] = 'donor_teacher_project'\n",
    "pds.loc[(pds._teacher_acctid != pds._donor_acctid) & (pds.is_teacher_acct == 't'), 'donor_category'] = 'donor_teacher_other'"
   ]
  },
  {
   "cell_type": "code",
   "execution_count": null,
   "id": "f8f5fbc4",
   "metadata": {},
   "outputs": [],
   "source": [
    "pds_g = pds.groupby(by='donor_category')\n",
    "pds_g = pds_g['donation_total'].mean()\n",
    "pds_gx = pds_g.plot(kind='bar')\n",
    "pds_gx.set_ylabel(\"Average Donation Amount\")\n",
    "pds_gx.set_title('Plot between donor category and Average donation amount', fontsize=14)"
   ]
  },
  {
   "cell_type": "code",
   "execution_count": null,
   "id": "afc3ea65",
   "metadata": {},
   "outputs": [],
   "source": [
    "subjects = pds.primary_focus_subject.drop_duplicates()\n",
    "df = pd.DataFrame(columns = ['Subjects','donor_teacher_project','donor_teacher_other','donor_other'])\n",
    "df['Subjects'] = subjects\n",
    "df = df.set_index('Subjects')\n",
    "\n",
    "# Filling the data frame\n",
    "pds1 = pds.groupby('primary_focus_subject')\n",
    "for sub,group_s in pds1:\n",
    "    pds2 = group_s.groupby('donor_category')\n",
    "    for dc,group_dc in pds2:\n",
    "        df.loc[sub,dc] = 100*(group_dc.donation_total.sum())/(group_s.donation_total.sum())\n",
    "df.head(10)"
   ]
  },
  {
   "cell_type": "markdown",
   "id": "2ed5a7cd",
   "metadata": {},
   "source": [
    "### 3) How does subject vary with donation amount among teachers donating to own projects ?"
   ]
  },
  {
   "cell_type": "code",
   "execution_count": null,
   "id": "f0d62e86",
   "metadata": {},
   "outputs": [],
   "source": [
    "a = pds[pds.donor_category == 'donor_teacher_project']\n",
    "#a = a[(100 * a.donation_total / a.total_donations) > 33]\n",
    "ax = a.groupby(by='primary_focus_subject')['donation_total'].mean().plot(kind='bar',figsize=(20,5))\n",
    "ax.set_ylabel('Average Donation Amount')\n",
    "ax.set_title('Plot between Subject and Donation amount for a teacher contributing to own project', fontsize=14)"
   ]
  },
  {
   "cell_type": "markdown",
   "id": "3119576c",
   "metadata": {},
   "source": [
    "### 4) How does subject vary with donation amount among teachers donating to other's projects ?"
   ]
  },
  {
   "cell_type": "code",
   "execution_count": null,
   "id": "b36bd35e",
   "metadata": {},
   "outputs": [],
   "source": [
    "b = pds[pds.donor_category == 'donor_teacher_other']\n",
    "#a = a[(100 * a.donation_total / a.total_donations) > 33]\n",
    "bx = b.groupby(by='primary_focus_subject')['donation_total'].mean().plot(kind='bar',figsize=(20,5))\n",
    "bx.set_ylabel('Average Donation Amount')\n",
    "bx.set_title('Plot between Subject and Donation amount for a teacher contributing to other project', fontsize=14)"
   ]
  },
  {
   "cell_type": "markdown",
   "id": "50079285",
   "metadata": {},
   "source": [
    "### 5) How does subject vary with donation amount among non - teachers ?"
   ]
  },
  {
   "cell_type": "code",
   "execution_count": null,
   "id": "1a53467c",
   "metadata": {},
   "outputs": [],
   "source": [
    "c = pds[pds.donor_category == 'donor_other']\n",
    "#a = a[(100 * a.donation_total / a.total_donations) > 33]\n",
    "cx = c.groupby(by='primary_focus_subject')['donation_total'].mean().plot(kind='bar',figsize=(20,5))\n",
    "cx.set_ylabel('Average Donation Amount')\n",
    "cx.set_title('Plot between Subject and Donation amount for a non-teacher', fontsize=14)"
   ]
  },
  {
   "cell_type": "markdown",
   "id": "98a8cbef",
   "metadata": {},
   "source": [
    "### 6) How does donor category vary with sucess of a project ?"
   ]
  },
  {
   "cell_type": "code",
   "execution_count": null,
   "id": "d912669b",
   "metadata": {},
   "outputs": [],
   "source": [
    "p = pds[pds.funding_status != 'live'] # Considering only completed projects\n",
    "p.loc[:,'date_completed'] = pd.to_datetime(p['date_completed'])\n",
    "p.loc[:,'date_posted'] = pd.to_datetime(p['date_posted'])\n",
    "p.loc[:,'date_expiration'] = pd.to_datetime(p['date_expiration'])\n",
    "p1 = p.groupby(by='donor_category')\n",
    "p2 = p[p.funding_status == 'completed']\n",
    "p2.loc[:,'project_duration'] = p2['date_completed'] - p2['date_posted']\n",
    "p2.loc[:,'project_expire_duration'] = p2['date_expiration'] - p2['date_posted']\n",
    "p2.loc[:,'project_duration_days'] = p2['project_duration'].astype('timedelta64[D]')\n",
    "p2.loc[:,'project_expire_duration_days'] = p2['project_expire_duration'].astype('timedelta64[D]')\n",
    "p2 = p2[(p2.project_duration_days < p2.project_expire_duration_days) & (p2.project_duration_days < 200)]\n",
    "p3 = p2.groupby(by='donor_category')\n",
    "a = 100*p3.size()/p1.size()\n",
    "b = p3['project_duration_days'].mean()"
   ]
  },
  {
   "cell_type": "code",
   "execution_count": null,
   "id": "47afab6e",
   "metadata": {},
   "outputs": [],
   "source": [
    "#a.plot(kind='bar')\n",
    "ax = a.plot(kind='bar',figsize=(7,5),ylim=(50,100))\n",
    "ax.set_ylabel(\"Project Completion Percent\")"
   ]
  },
  {
   "cell_type": "markdown",
   "id": "2057fa80",
   "metadata": {},
   "source": [
    "### 7) How does donor category vary with duration of the project ?"
   ]
  }
 ],
 "metadata": {},
 "nbformat": 4,
 "nbformat_minor": 5
}
