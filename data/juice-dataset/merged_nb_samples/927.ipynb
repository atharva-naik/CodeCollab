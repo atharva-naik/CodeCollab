{
 "cells": [
  {
   "cell_type": "code",
   "execution_count": null,
   "id": "b04f3adb",
   "metadata": {},
   "outputs": [],
   "source": [
    "%matplotlib inline"
   ]
  },
  {
   "cell_type": "markdown",
   "id": "8c95253c",
   "metadata": {},
   "source": [
    "\n",
    "# Plot Data as a Bar Plot\n",
    "\n",
    "\n",
    "\n"
   ]
  },
  {
   "cell_type": "code",
   "execution_count": null,
   "id": "0398b29b",
   "metadata": {},
   "outputs": [],
   "source": [
    "# sphinx_gallery_thumbnail_number = 3\n",
    "import matplotlib.pyplot as plt\n",
    "import pyam"
   ]
  },
  {
   "cell_type": "markdown",
   "id": "743bf599",
   "metadata": {},
   "source": [
    "Read in some example data\n",
    "\n"
   ]
  },
  {
   "cell_type": "code",
   "execution_count": null,
   "id": "fff0cf4e",
   "metadata": {},
   "outputs": [],
   "source": [
    "fname = 'msg_input.csv'\n",
    "df = pyam.IamDataFrame(fname, encoding='ISO-8859-1')\n",
    "print(df.head())"
   ]
  },
  {
   "cell_type": "markdown",
   "id": "f4a8e548",
   "metadata": {},
   "source": [
    "We generated a simple stacked bar chart as below\n",
    "\n"
   ]
  },
  {
   "cell_type": "code",
   "execution_count": null,
   "id": "9cc41b5d",
   "metadata": {},
   "outputs": [],
   "source": [
    "data = df.filter({'variable': 'Emissions|CO2|*',\n",
    "                  'level': 0,\n",
    "                  'region': 'World'})\n",
    "\n",
    "fig, ax = plt.subplots(figsize=(10, 10))\n",
    "data.bar_plot(ax=ax, stacked=True)\n",
    "fig.subplots_adjust(right=0.55)\n",
    "plt.show()"
   ]
  },
  {
   "cell_type": "markdown",
   "id": "50cc2fa7",
   "metadata": {},
   "source": [
    "We can flip that round for a horizontal chart\n",
    "\n"
   ]
  }
 ],
 "metadata": {},
 "nbformat": 4,
 "nbformat_minor": 5
}
