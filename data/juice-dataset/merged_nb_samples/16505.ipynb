{
 "cells": [
  {
   "cell_type": "code",
   "execution_count": null,
   "id": "c97639e9",
   "metadata": {},
   "outputs": [],
   "source": [
    "%matplotlib inline"
   ]
  },
  {
   "cell_type": "markdown",
   "id": "7a5c0991",
   "metadata": {},
   "source": [
    "# Matplotlib tutorial\n",
    "\n",
    "Before going through this tutorial, read this [short description](http://matplotlib.org/faq/usage_faq.html#general-concepts) of Matplotlib.\n",
    "\n",
    "There are two different interfaces: a matlab-like interface and an object-oriented interface. I prefer the object-oriented and will use it here, although it will be easy to switch to the other interface if you choose. In general, a reasonable approch is to use the matlab-like interface for interactive plotting from ipython and use the object-oriented interface for scripting (but again, I typically just use the object-oriented interface).\n",
    "\n",
    "When you are trying to find your way around Matplotlib, a good place to start is the [gallery](http://matplotlib.org/gallery.html), where you can scan through images to find something similar to what you are trying to produce. To explore the difference between the object-oriented interface and the matlab-like interface, you can compare code from the [api](http://matplotlib.org/gallery.html#api) and [pylab](http://matplotlib.org/gallery.html#pylab_examples) examples.\n",
    "\n",
    "To get started, we'll need to import `matplotlib.pyplot` as well as `numpy` and `pandas`, which we'll use to work with the data."
   ]
  },
  {
   "cell_type": "code",
   "execution_count": null,
   "id": "f2b7c2e6",
   "metadata": {},
   "outputs": [],
   "source": [
    "import numpy as np\n",
    "import pandas as pd\n",
    "import matplotlib.pyplot as plt"
   ]
  },
  {
   "cell_type": "markdown",
   "id": "79af8108",
   "metadata": {},
   "source": [
    "For many of the plots below, we'll work with the data set from the last Pandas tutorial."
   ]
  },
  {
   "cell_type": "code",
   "execution_count": null,
   "id": "dd44b078",
   "metadata": {},
   "outputs": [],
   "source": [
    "dat = pd.read_csv('../data/array.csv')"
   ]
  },
  {
   "cell_type": "code",
   "execution_count": null,
   "id": "cf11f008",
   "metadata": {},
   "outputs": [],
   "source": [
    "dat.info()"
   ]
  },
  {
   "cell_type": "code",
   "execution_count": null,
   "id": "8cd7c90f",
   "metadata": {},
   "outputs": [],
   "source": [
    "dat.head()"
   ]
  },
  {
   "cell_type": "code",
   "execution_count": null,
   "id": "e2a6d5c7",
   "metadata": {},
   "outputs": [],
   "source": [
    "print('The data set contains {} genes, {} brains, and {} regions'.format(dat.gene.nunique(),\n",
    "                                                                         dat.brain.nunique(),\n",
    "                                                                         dat.region.nunique()))"
   ]
  },
  {
   "cell_type": "markdown",
   "id": "5a74c5d8",
   "metadata": {},
   "source": [
    "## Creating figures and axes\n",
    "\n",
    "The easiest way to create a figure is `plt.subplots`. A figure can consists of several different subplots, which each have their own axes. At first, we'll just focus on the single axes case. If no arguments are passed, it returns a figure object and a single axes object.\n",
    "\n",
    "    fig, ax = plt.subplots()\n",
    "Both the figure and axes objects have a lot of methods, so just pressing `fig.<TAB>` or `ax.<TAB>` can be pretty overwhelming. The main plotting commands can be accessed under `ax`. Some popular ones include `scatter`, `plot`, `bar`, `boxplot`, and `hist`.\n",
    "\n",
    "## Histograms\n",
    "\n",
    "First, we'll create a histogram using the \"value\" column from `dat`. Each plot method returns objects that you may want to customize further or use for something else. In the case of a histogram, it is the height of the bars, the bin locations, and the bar objects themselves. If you don't need them for anything, you don't have to assign them a name (and, because they're not assigned, they'll show up in the output of ipython)."
   ]
  },
  {
   "cell_type": "code",
   "execution_count": null,
   "id": "ca7304b0",
   "metadata": {},
   "outputs": [],
   "source": [
    "fig, ax = plt.subplots()\n",
    "ax.hist(dat.value)"
   ]
  },
  {
   "cell_type": "markdown",
   "id": "1ba7b8f3",
   "metadata": {},
   "source": [
    "Change the bin size."
   ]
  },
  {
   "cell_type": "markdown",
   "id": "ee835ae4",
   "metadata": {},
   "source": [
    "Add grid lines."
   ]
  },
  {
   "cell_type": "code",
   "execution_count": null,
   "id": "eabd13e3",
   "metadata": {},
   "outputs": [],
   "source": [
    "fig, ax = plt.subplots()\n",
    "ax.scatter(mean_exp.CBC, mean_exp.DFC, alpha=0.7, edgecolor='none')\n",
    "\n",
    "ax.grid(True)\n",
    "\n",
    "ax.set_xlabel('CBC')\n",
    "ax.set_ylabel('DFC')"
   ]
  },
  {
   "cell_type": "markdown",
   "id": "c098e5d0",
   "metadata": {},
   "source": [
    "Keep grid but reduce number of ticks."
   ]
  },
  {
   "cell_type": "code",
   "execution_count": null,
   "id": "73a8581e",
   "metadata": {},
   "outputs": [],
   "source": [
    "fig, ax = plt.subplots()\n",
    "ax.scatter(mean_exp.CBC, mean_exp.DFC, alpha=0.7, edgecolor='none')\n",
    "\n",
    "ax.grid(True)\n",
    "ax.locator_params(nbins=5)\n",
    "\n",
    "ax.set_xlabel('CBC')\n",
    "ax.set_ylabel('DFC')"
   ]
  },
  {
   "cell_type": "markdown",
   "id": "ee33aad8",
   "metadata": {},
   "source": [
    "## Bar plots"
   ]
  },
  {
   "cell_type": "markdown",
   "id": "539b1748",
   "metadata": {},
   "source": [
    "For the bar plots, we'll use the gene that has the maximum expression difference between the two regions."
   ]
  },
  {
   "cell_type": "code",
   "execution_count": null,
   "id": "d7991863",
   "metadata": {},
   "outputs": [],
   "source": [
    "max_diff_gene = mean_by_reg.abs_diff.idxmax()\n",
    "max_diff = mean_by_reg.loc[max_diff_gene, ['CBC', 'DFC']]"
   ]
  },
  {
   "cell_type": "code",
   "execution_count": null,
   "id": "c71596fe",
   "metadata": {},
   "outputs": [],
   "source": [
    "max_diff"
   ]
  },
  {
   "cell_type": "code",
   "execution_count": null,
   "id": "2ddba49d",
   "metadata": {},
   "outputs": [],
   "source": [
    "fig, ax = plt.subplots()\n",
    "xlocs = np.arange(max_diff.size)\n",
    "ax.bar(xlocs, max_diff)"
   ]
  },
  {
   "cell_type": "markdown",
   "id": "5aa6ac70",
   "metadata": {},
   "source": [
    "Change width of bar and move to center."
   ]
  },
  {
   "cell_type": "code",
   "execution_count": null,
   "id": "815944a5",
   "metadata": {},
   "outputs": [],
   "source": [
    "fig, ax = plt.subplots()\n",
    "xlocs = np.arange(max_diff.size)\n",
    "ax.bar(xlocs, max_diff, width=0.6, align='center')"
   ]
  },
  {
   "cell_type": "markdown",
   "id": "3fc0a06e",
   "metadata": {},
   "source": [
    "Relabel x axis and only keep two x-tick locations."
   ]
  },
  {
   "cell_type": "markdown",
   "id": "a5c85d61",
   "metadata": {},
   "source": [
    "For the scatter plots, we'll use mean expression of each game for the two regions present."
   ]
  },
  {
   "cell_type": "code",
   "execution_count": null,
   "id": "4f89031e",
   "metadata": {},
   "outputs": [],
   "source": [
    "mean_exp = dat.groupby(['gene', 'region'])['value'].mean().unstack()"
   ]
  },
  {
   "cell_type": "code",
   "execution_count": null,
   "id": "1c6ebf12",
   "metadata": {},
   "outputs": [],
   "source": [
    "mean_exp.head()"
   ]
  },
  {
   "cell_type": "code",
   "execution_count": null,
   "id": "50eb2c61",
   "metadata": {},
   "outputs": [],
   "source": [
    "fig, ax = plt.subplots()\n",
    "\n",
    "ax.scatter(mean_exp.CBC, mean_exp.DFC)\n",
    "ax.set_xlabel('CBC')\n",
    "ax.set_ylabel('DFC')"
   ]
  },
  {
   "cell_type": "markdown",
   "id": "a165286a",
   "metadata": {},
   "source": [
    "Make dots semi-transparent and remove edgecolor."
   ]
  },
  {
   "cell_type": "code",
   "execution_count": null,
   "id": "c8851138",
   "metadata": {},
   "outputs": [],
   "source": [
    "fig, ax = plt.subplots()\n",
    "ax.scatter(mean_exp.CBC, mean_exp.DFC, alpha=0.7, edgecolor='none')\n",
    "ax.set_xlabel('CBC')\n",
    "ax.set_ylabel('DFC')"
   ]
  },
  {
   "cell_type": "markdown",
   "id": "51cf603a",
   "metadata": {},
   "source": [
    "Change color by the difference between CBC and DFC (which is a bit silly, considering that is already reflected in the position)."
   ]
  },
  {
   "cell_type": "code",
   "execution_count": null,
   "id": "b8501a29",
   "metadata": {},
   "outputs": [],
   "source": [
    "mean_by_reg = dat.groupby(['gene', 'region'])['value'].mean().unstack()\n",
    "mean_by_reg['abs_diff'] = np.abs(mean_by_reg.CBC - mean_by_reg.DFC)"
   ]
  },
  {
   "cell_type": "code",
   "execution_count": null,
   "id": "0f69b5f3",
   "metadata": {},
   "outputs": [],
   "source": [
    "fig, ax = plt.subplots()\n",
    "ax.scatter(mean_exp.CBC, mean_exp.DFC, edgecolor='none', c=mean_by_reg.abs_diff)\n",
    "ax.set_xlabel('CBC')\n",
    "ax.set_ylabel('DFC')"
   ]
  },
  {
   "cell_type": "markdown",
   "id": "623f96da",
   "metadata": {},
   "source": [
    "Change the tick locations."
   ]
  },
  {
   "cell_type": "code",
   "execution_count": null,
   "id": "f85de530",
   "metadata": {},
   "outputs": [],
   "source": [
    "fig, ax = plt.subplots()\n",
    "ax.scatter(mean_exp.CBC, mean_exp.DFC, alpha=0.7, edgecolor='none')\n",
    "\n",
    "ax.locator_params(nbins=5)  ## reduce the number of ticks\n",
    "\n",
    "ax.set_xlabel('CBC')\n",
    "ax.set_ylabel('DFC')"
   ]
  },
  {
   "cell_type": "markdown",
   "id": "5aaab880",
   "metadata": {},
   "source": [
    "Remove the ticks completely."
   ]
  },
  {
   "cell_type": "markdown",
   "id": "c3d4da8b",
   "metadata": {},
   "source": [
    "Move legend to the top."
   ]
  },
  {
   "cell_type": "code",
   "execution_count": null,
   "id": "676bf1c8",
   "metadata": {},
   "outputs": [],
   "source": [
    "fig, ax = plt.subplots()\n",
    "ax.plot(x, np.sin(x), label='sine')\n",
    "ax.plot(x, np.cos(x), label='cosine')\n",
    "ax.legend(bbox_to_anchor=(0.5, 1.1), ncol=2,\n",
    "          loc='center', frameon=False)"
   ]
  },
  {
   "cell_type": "markdown",
   "id": "14b25cf0",
   "metadata": {},
   "source": [
    "Fill area between curves."
   ]
  },
  {
   "cell_type": "code",
   "execution_count": null,
   "id": "93ff8def",
   "metadata": {},
   "outputs": [],
   "source": [
    "fig, ax = plt.subplots()\n",
    "xsin = np.sin(x)\n",
    "\n",
    "ax.plot(x, xsin)\n",
    "\n",
    "ax.fill_between(x, 0, xsin, alpha=0.3)\n",
    "ax.set_xlim(0, 6)"
   ]
  },
  {
   "cell_type": "markdown",
   "id": "a7bb225b",
   "metadata": {},
   "source": [
    "## Box plots"
   ]
  },
  {
   "cell_type": "markdown",
   "id": "1a1c133b",
   "metadata": {},
   "source": [
    "For the box plots, we'll use the expression values for the gene that has the maximum difference between the two regions."
   ]
  },
  {
   "cell_type": "code",
   "execution_count": null,
   "id": "97dcee73",
   "metadata": {},
   "outputs": [],
   "source": [
    "max_dat = dat[dat.gene == max_diff_gene]"
   ]
  },
  {
   "cell_type": "code",
   "execution_count": null,
   "id": "612fb733",
   "metadata": {},
   "outputs": [],
   "source": [
    "max_dat"
   ]
  },
  {
   "cell_type": "markdown",
   "id": "9829634a",
   "metadata": {},
   "source": [
    "The `boxplot` method accepts a sequence of vectors, so below we make a list of containing the expression values for each region."
   ]
  },
  {
   "cell_type": "code",
   "execution_count": null,
   "id": "ff39b066",
   "metadata": {},
   "outputs": [],
   "source": [
    "regions = max_dat.region.unique()\n",
    "\n",
    "## make a list that contains value column for each region\n",
    "## [ [CBC values], [DFC values] ]\n",
    "region_vals = [max_dat[max_dat.region == reg].value for reg in regions]"
   ]
  },
  {
   "cell_type": "code",
   "execution_count": null,
   "id": "afa6fc69",
   "metadata": {},
   "outputs": [],
   "source": [
    "fig, ax = plt.subplots()\n",
    "ax.boxplot(region_vals)"
   ]
  },
  {
   "cell_type": "markdown",
   "id": "7d83eefe",
   "metadata": {},
   "source": [
    "Set the x label names."
   ]
  },
  {
   "cell_type": "code",
   "execution_count": null,
   "id": "29bee5b2",
   "metadata": {},
   "outputs": [],
   "source": [
    "fig, ax = plt.subplots()\n",
    "ax.boxplot(region_vals)\n",
    "ax.set_xticklabels(regions)\n",
    "\n",
    "ax.set_ylabel('Expression value')\n",
    "ax.set_xlabel('Region')"
   ]
  },
  {
   "cell_type": "markdown",
   "id": "3c0e45b3",
   "metadata": {},
   "source": [
    "Change box colors and increase width."
   ]
  },
  {
   "cell_type": "code",
   "execution_count": null,
   "id": "622c376b",
   "metadata": {},
   "outputs": [],
   "source": [
    "fig, ax = plt.subplots()\n",
    "ax.hist(dat.value, bins=25)"
   ]
  },
  {
   "cell_type": "markdown",
   "id": "9b285198",
   "metadata": {},
   "source": [
    "Adjust colors."
   ]
  },
  {
   "cell_type": "code",
   "execution_count": null,
   "id": "740b2228",
   "metadata": {},
   "outputs": [],
   "source": [
    "fig, ax = plt.subplots()\n",
    "ax.hist(dat.value, bins=25,\n",
    "        edgecolor='w', facecolor='0.5')"
   ]
  },
  {
   "cell_type": "markdown",
   "id": "17557081",
   "metadata": {},
   "source": [
    "Set axis labels."
   ]
  },
  {
   "cell_type": "code",
   "execution_count": null,
   "id": "16353f13",
   "metadata": {},
   "outputs": [],
   "source": [
    "fig, ax = plt.subplots()\n",
    "ax.hist(dat.value, bins=25,\n",
    "        edgecolor='w', facecolor='0.5')\n",
    "ax.set_xlabel('Expression value')\n",
    "ax.set_ylabel('Frequency')"
   ]
  },
  {
   "cell_type": "markdown",
   "id": "c91f9ea6",
   "metadata": {},
   "source": [
    "Normalize the histogram."
   ]
  },
  {
   "cell_type": "code",
   "execution_count": null,
   "id": "69be5ad0",
   "metadata": {},
   "outputs": [],
   "source": [
    "fig, ax = plt.subplots()\n",
    "ax.hist(dat.value, bins=25,\n",
    "        edgecolor='w', facecolor='0.5',\n",
    "        normed=True)\n",
    "ax.set_xlabel('Expression value')\n",
    "ax.set_ylabel('Frequency')"
   ]
  },
  {
   "cell_type": "markdown",
   "id": "8c929b82",
   "metadata": {},
   "source": [
    "Create a cumulative histogram."
   ]
  },
  {
   "cell_type": "markdown",
   "id": "fc773fa7",
   "metadata": {},
   "source": [
    "## Line plots"
   ]
  },
  {
   "cell_type": "code",
   "execution_count": null,
   "id": "2e152136",
   "metadata": {},
   "outputs": [],
   "source": [
    "x = np.linspace(0, 10)\n",
    "\n",
    "fig, ax = plt.subplots()\n",
    "ax.plot(x, np.sin(x))\n",
    "ax.set_title('A wave')"
   ]
  },
  {
   "cell_type": "code",
   "execution_count": null,
   "id": "91c8fc3c",
   "metadata": {},
   "outputs": [],
   "source": [
    "fig, ax = plt.subplots()\n",
    "ax.plot(x, np.sin(x), label='sine')\n",
    "ax.plot(x, np.cos(x), label='cosine')\n",
    "ax.set_title('Some waves')\n",
    "ax.legend()"
   ]
  },
  {
   "cell_type": "code",
   "execution_count": null,
   "id": "3d527ceb",
   "metadata": {},
   "outputs": [],
   "source": [
    "fig, ax = plt.subplots()\n",
    "bp = ax.boxplot(region_vals, widths=0.5)\n",
    "\n",
    "## bp is just a dictionary of elements\n",
    "## that make up the box.\n",
    "## Iterate through the values and set the color.\n",
    "## plt.setp is often used instead of a for loop\n",
    "for elems in bp.values():\n",
    "    for elem in elems:\n",
    "        elem.set_color('g')\n",
    "    \n",
    "ax.set_xticklabels(regions)\n",
    "\n",
    "ax.set_ylabel('Expression value')\n",
    "ax.set_xlabel('Region')"
   ]
  },
  {
   "cell_type": "markdown",
   "id": "55458aca",
   "metadata": {},
   "source": [
    "Fill the box instead and only change the box color."
   ]
  },
  {
   "cell_type": "code",
   "execution_count": null,
   "id": "6fe2a8a1",
   "metadata": {},
   "outputs": [],
   "source": [
    "fig, ax = plt.subplots()\n",
    "bp = ax.boxplot(region_vals, widths=0.5,\n",
    "                patch_artist=True)\n",
    "\n",
    "for box in bp['boxes']:\n",
    "    box.set_color('0.6')\n",
    "    \n",
    "ax.set_xticklabels(regions)\n",
    "\n",
    "ax.set_ylabel('Expression value')\n",
    "ax.set_xlabel('Region')"
   ]
  },
  {
   "cell_type": "markdown",
   "id": "890e7c79",
   "metadata": {},
   "source": [
    "Same as above, but make outliers red dots."
   ]
  },
  {
   "cell_type": "code",
   "execution_count": null,
   "id": "dc3351ed",
   "metadata": {},
   "outputs": [],
   "source": [
    "fig, ax = plt.subplots()\n",
    "bp = ax.boxplot(region_vals, widths=0.5,\n",
    "                patch_artist=True,\n",
    "                sym='.')\n",
    "\n",
    "for box in bp['boxes']:\n",
    "    box.set_color('0.6')\n",
    "    \n",
    "for flier in bp['fliers']:\n",
    "    flier.set_color('r')\n",
    "    \n",
    "ax.set_xticklabels(regions)\n",
    "\n",
    "ax.set_ylabel('Expression value')\n",
    "ax.set_xlabel('Region')"
   ]
  },
  {
   "cell_type": "markdown",
   "id": "734e3307",
   "metadata": {},
   "source": [
    "## Multiple subplots"
   ]
  },
  {
   "cell_type": "markdown",
   "id": "539f741c",
   "metadata": {},
   "source": [
    "Above we have been calling `plt.subplots` without arguments. If we pass `ncols` or `nrows` to this method, it will create several axes objects for us."
   ]
  },
  {
   "cell_type": "code",
   "execution_count": null,
   "id": "6a46bf0d",
   "metadata": {},
   "outputs": [],
   "source": [
    "vals1, vals2 = np.random.randn(2, 100)\n",
    "\n",
    "fig, axes = plt.subplots(ncols=2, figsize=(9, 4))\n",
    "axes[0].hist(vals1)\n",
    "axes[1].hist(vals2)"
   ]
  },
  {
   "cell_type": "markdown",
   "id": "caca4530",
   "metadata": {},
   "source": [
    "Share the y axis."
   ]
  },
  {
   "cell_type": "code",
   "execution_count": null,
   "id": "04f20423",
   "metadata": {},
   "outputs": [],
   "source": [
    "fig, axes = plt.subplots(ncols=2, figsize=(9, 4),\n",
    "                         sharey=True)\n",
    "axes[0].hist(vals1)\n",
    "axes[1].hist(vals2)"
   ]
  },
  {
   "cell_type": "markdown",
   "id": "c9967583",
   "metadata": {},
   "source": [
    "Add plot titles and legends as usual."
   ]
  },
  {
   "cell_type": "code",
   "execution_count": null,
   "id": "f70d1d75",
   "metadata": {},
   "outputs": [],
   "source": [
    "fig, ax = plt.subplots()\n",
    "ax.scatter(mean_exp.CBC, mean_exp.DFC, alpha=0.7, edgecolor='none')\n",
    "\n",
    "ax.tick_params(length=0)\n",
    "ax.locator_params(nbins=5)\n",
    "\n",
    "ax.set_xlabel('CBC')\n",
    "ax.set_ylabel('DFC')"
   ]
  },
  {
   "cell_type": "code",
   "execution_count": null,
   "id": "600d4f55",
   "metadata": {},
   "outputs": [],
   "source": [
    "fig, ax = plt.subplots()\n",
    "xlocs = np.arange(max_diff.size)\n",
    "\n",
    "ax.bar(xlocs, max_diff, width=0.6, align='center')\n",
    "\n",
    "ax.set_xticks(xlocs)  # only label where bar is placed\n",
    "ax.set_xticklabels(max_diff.index)  # use region names instead of numbers\n",
    "\n",
    "ax.set_xlabel('Region')\n",
    "ax.set_ylabel('Expression value')"
   ]
  },
  {
   "cell_type": "markdown",
   "id": "a558558b",
   "metadata": {},
   "source": [
    "Change figure size, remove x ticks, and reduce number of y ticks."
   ]
  },
  {
   "cell_type": "code",
   "execution_count": null,
   "id": "4548b0ae",
   "metadata": {},
   "outputs": [],
   "source": [
    "fig, (ax1, ax2) = plt.subplots(ncols=2, figsize=(9, 4),\n",
    "                               sharey=True)\n",
    "ax1.hist(vals1)\n",
    "ax2.hist(vals2)\n",
    "\n",
    "ax1.set_title('Histogram 1')\n",
    "ax2.set_title('Histogram 2')\n",
    "\n",
    "ax1.set_ylabel('Frequency')"
   ]
  },
  {
   "cell_type": "markdown",
   "id": "deccaf32",
   "metadata": {},
   "source": [
    "If the two x axes would have the same title, we might not want to add an x label to each. We can instead add text to the add just one label."
   ]
  },
  {
   "cell_type": "code",
   "execution_count": null,
   "id": "417e4d70",
   "metadata": {},
   "outputs": [],
   "source": [
    "fig, ax = plt.subplots()\n",
    "ax.hist(dat.value, bins=25,\n",
    "        edgecolor='w', facecolor='0.5',\n",
    "        cumulative=True)\n",
    "ax.set_xlabel('Expression value')\n",
    "ax.set_ylabel('Frequency')"
   ]
  },
  {
   "cell_type": "markdown",
   "id": "b462ef57",
   "metadata": {},
   "source": [
    "## Scatter plots"
   ]
  },
  {
   "cell_type": "code",
   "execution_count": null,
   "id": "4acac566",
   "metadata": {},
   "outputs": [],
   "source": [
    "fig, ax = plt.subplots(figsize=(5, 5))\n",
    "xlocs = np.arange(max_diff.size)\n",
    "\n",
    "ax.bar(xlocs, max_diff, width=0.7, align='center')\n",
    "\n",
    "ax.locator_params(axis='y', nbins=5)\n",
    "ax.tick_params(axis='x', length=0)\n",
    "\n",
    "ax.set_xticks(xlocs)  # only label where bar is placed\n",
    "ax.set_xticklabels(max_diff.index)  # use region names instead of numbers\n",
    "\n",
    "ax.set_xlim(-0.5, 1.5)\n",
    "\n",
    "ax.set_xlabel('Region')\n",
    "ax.set_ylabel('Expression value')"
   ]
  },
  {
   "cell_type": "markdown",
   "id": "369a2fe9",
   "metadata": {},
   "source": [
    "Tweak colors and line width."
   ]
  },
  {
   "cell_type": "code",
   "execution_count": null,
   "id": "fe6c6692",
   "metadata": {},
   "outputs": [],
   "source": [
    "fig, ax = plt.subplots(figsize=(5, 5))\n",
    "xlocs = np.arange(max_diff.size)\n",
    "\n",
    "ax.bar(xlocs, max_diff, width=0.7, align='center',\n",
    "       edgecolor='#006699', facecolor='#006699',\n",
    "       alpha=0.5,\n",
    "       linewidth=3)\n",
    "\n",
    "ax.locator_params(axis='y', nbins=5)\n",
    "ax.tick_params(axis='x', length=0)\n",
    "\n",
    "ax.set_xticks(xlocs)  # only label where bar is placed\n",
    "ax.set_xticklabels(max_diff.index)  # use region names instead of numbers\n",
    "\n",
    "ax.set_xlim(-0.5, 1.5)\n",
    "\n",
    "ax.set_xlabel('Region')\n",
    "ax.set_ylabel('Expression value')"
   ]
  },
  {
   "cell_type": "code",
   "execution_count": null,
   "id": "d701e51c",
   "metadata": {},
   "outputs": [],
   "source": [
    "fig, (ax1, ax2) = plt.subplots(ncols=2, figsize=(9, 4),\n",
    "                         sharey=True)\n",
    "ax1.hist(vals1)\n",
    "ax2.hist(vals2)\n",
    "\n",
    "ax1.set_title('Histogram 1')\n",
    "ax2.set_title('Histogram 2')\n",
    "\n",
    "ax1.set_ylabel('Frequency')\n",
    "\n",
    "fig.text(0.5, 0, 'Thing',\n",
    "         ha='center')"
   ]
  },
  {
   "cell_type": "markdown",
   "id": "9fbd505c",
   "metadata": {},
   "source": [
    "Add a title for the figure."
   ]
  },
  {
   "cell_type": "code",
   "execution_count": null,
   "id": "116450ad",
   "metadata": {},
   "outputs": [],
   "source": [
    "fig, (ax1, ax2) = plt.subplots(ncols=2, figsize=(9, 4),\n",
    "                         sharey=True)\n",
    "ax1.hist(vals1)\n",
    "ax2.hist(vals2)\n",
    "\n",
    "ax1.set_ylabel('Frequency')\n",
    "\n",
    "fig.text(0.5, 0, 'Thing',\n",
    "         ha='center')\n",
    "fig.suptitle('Both histograms',\n",
    "             size='large')"
   ]
  },
  {
   "cell_type": "markdown",
   "id": "57cc60ac",
   "metadata": {},
   "source": [
    "Add more rows."
   ]
  },
  {
   "cell_type": "code",
   "execution_count": null,
   "id": "9ea20e16",
   "metadata": {},
   "outputs": [],
   "source": [
    "vals = np.random.randn(4, 100)"
   ]
  },
  {
   "cell_type": "code",
   "execution_count": null,
   "id": "2a387997",
   "metadata": {},
   "outputs": [],
   "source": [
    "fig, axes = plt.subplots(nrows=2, ncols=2,\n",
    "                         sharex=True, sharey=True)\n",
    "\n",
    "for val, ax in zip(vals, axes.ravel()):\n",
    "    ax.hist(val)\n",
    "    ax.locator_params(nbins=4)\n",
    "    \n",
    "fig.tight_layout()"
   ]
  },
  {
   "cell_type": "markdown",
   "id": "2d1d7006",
   "metadata": {},
   "source": [
    "## Heat map"
   ]
  }
 ],
 "metadata": {},
 "nbformat": 4,
 "nbformat_minor": 5
}
