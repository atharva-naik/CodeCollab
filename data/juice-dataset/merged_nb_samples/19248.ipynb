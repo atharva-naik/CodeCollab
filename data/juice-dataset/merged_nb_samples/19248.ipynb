{
 "cells": [
  {
   "cell_type": "markdown",
   "id": "863152da",
   "metadata": {},
   "source": [
    "# Tables (2) - Making a table"
   ]
  },
  {
   "cell_type": "markdown",
   "id": "c70b2b61",
   "metadata": {},
   "source": [
    "In this lesson we're going to learn how make a table in Plotly.\n",
    "\n",
    "We'll learn how to make one from a list and a Pandas DataFrame."
   ]
  },
  {
   "cell_type": "markdown",
   "id": "55de8dd1",
   "metadata": {},
   "source": [
    "## Module Imports"
   ]
  },
  {
   "cell_type": "code",
   "execution_count": null,
   "id": "46c9b302",
   "metadata": {},
   "outputs": [],
   "source": [
    "#plotly.offline doesn't push your charts to the clouds\n",
    "import plotly.offline as pyo\n",
    "#allows us to create the Data and Figure objects\n",
    "from plotly.graph_objs import *\n",
    "#plotly.plotly pushes your charts to the cloud  \n",
    "import plotly.plotly as py\n",
    "\n",
    "#pandas is a data analysis library\n",
    "import pandas as pd\n",
    "from pandas import DataFrame"
   ]
  },
  {
   "cell_type": "markdown",
   "id": "2a35ff9e",
   "metadata": {},
   "source": [
    "#### New Modules:\n",
    "\n",
    "In order to make a table in Plotly, we have to use a different library called the <code>'FigureFactory'</code>. This is an in-development part of the Plotly codebase and is liable to change without notice.\n",
    "\n",
    "The <code>'FigureFactory'</code> gives options for creating many different types of chart . . . I suggest trying a few of them out if you're curious!"
   ]
  },
  {
   "cell_type": "code",
   "execution_count": null,
   "id": "6893056c",
   "metadata": {},
   "outputs": [],
   "source": [
    "from plotly.tools import FigureFactory as FF"
   ]
  },
  {
   "cell_type": "code",
   "execution_count": null,
   "id": "a1b3c734",
   "metadata": {},
   "outputs": [],
   "source": [
    "#lets us see the charts in an iPython Notebook\n",
    "pyo.offline.init_notebook_mode() # run at the start of every ipython "
   ]
  },
  {
   "cell_type": "markdown",
   "id": "d5adcc03",
   "metadata": {},
   "source": [
    "## Making a table from a list\n",
    "\n",
    "We can use the <code>FigureFactory.create_table()</code> function to create a table. This function actually uses the Heatmap chart type (which we won't cover in this course) to create a table, and we'll use different aspects of the Heatmap chart to make stylistic changes to our tables.\n",
    "\n",
    "It's very simple to create a table from a list, provided that the list is in the correct format.\n",
    "\n",
    "The list must be comprised of several sublists. Each sublist will be a row in the table, and the first sublist will be the column titles.\n",
    "\n",
    "Let's try this out and create a table showing the population and area of the different countries in the United Kingdom. I sourced this data from <a href = \"https://en.wikipedia.org/wiki/Population_of_the_countries_of_the_United_Kingdom\">Wikipedia</a>.\n",
    "\n",
    "Here's our table data with the row for the column headings and space for the data:"
   ]
  },
  {
   "cell_type": "code",
   "execution_count": null,
   "id": "94ad42b0",
   "metadata": {},
   "outputs": [],
   "source": [
    "tableData = [['Country','Population','Area (km2)'],\n",
    "             [],\n",
    "             [],\n",
    "             [],\n",
    "             []]"
   ]
  },
  {
   "cell_type": "markdown",
   "id": "2ab629bf",
   "metadata": {},
   "source": [
    "Here's the table data with the values completed:"
   ]
  },
  {
   "cell_type": "code",
   "execution_count": null,
   "id": "7586f331",
   "metadata": {},
   "outputs": [],
   "source": [
    "tableData = [['Country','Population','Area (km2)'],\n",
    "             ['England',53865800, 130395],\n",
    "             ['Scotland',5327700, 78772],\n",
    "             ['Wales',3082400,20779],\n",
    "             ['Northern Ireland', 1829700, 13843]]"
   ]
  },
  {
   "cell_type": "markdown",
   "id": "25924156",
   "metadata": {},
   "source": [
    "We can now pass this into the <code>FF.create_table()</code> function and create an object to plot:"
   ]
  },
  {
   "cell_type": "code",
   "execution_count": null,
   "id": "0c22fb49",
   "metadata": {},
   "outputs": [],
   "source": [
    "UKCountries = FF.create_table(tableData)\n",
    "pyo.iplot(UKCountries)"
   ]
  },
  {
   "cell_type": "markdown",
   "id": "ed09d64c",
   "metadata": {},
   "source": [
    "You can see that Plotly follows many of the recommendations for designing clear tables. The header row is a different colour, the row colours alternate, and the font allows for comparisons between the numbers.\n",
    "\n",
    "There are still improvements to make which we will look at later in this section.\n",
    "\n",
    "#### The structure of a table object\n",
    "\n",
    "Let's have a look at the structure of our table object.\n",
    "\n",
    "You can see that the data displayed in the table is not contained within the data element of the figure. The data element actually contains the instructions for colouring the rows and header.\n",
    "\n",
    "The data displayed in the table is stored as annotations which are positioned by the <code>FF.create_table()</code> function. We will use this knowledge later to allow us to style the data in the table."
   ]
  },
  {
   "cell_type": "code",
   "execution_count": null,
   "id": "606d746e",
   "metadata": {},
   "outputs": [],
   "source": [
    "UKCountries"
   ]
  },
  {
   "cell_type": "markdown",
   "id": "92d90fc5",
   "metadata": {},
   "source": [
    "## Making a table from a DataFrame\n",
    "\n",
    "Let's get the same data that we used earlier, but rather than writing it out in a dictionary, we'll get it as a csv:"
   ]
  },
  {
   "cell_type": "code",
   "execution_count": null,
   "id": "33198382",
   "metadata": {},
   "outputs": [],
   "source": [
    "df = pd.read_csv('http://richard-muir.com/data/public/csv/UKCountryPopulation.csv', index_col = 0)\n",
    "df"
   ]
  },
  {
   "cell_type": "markdown",
   "id": "04d02915",
   "metadata": {},
   "source": [
    "We can now pass this DataFrame directly into the <code>create_table()</code> function:"
   ]
  },
  {
   "cell_type": "code",
   "execution_count": null,
   "id": "1d36e8a4",
   "metadata": {},
   "outputs": [],
   "source": [
    "UKCountryInfo = FF.create_table(df)\n",
    "pyo.iplot(UKCountryInfo)"
   ]
  },
  {
   "cell_type": "markdown",
   "id": "f8357560",
   "metadata": {},
   "source": [
    "So you can see that the entire DataFrame gets translated into a Plotly table, but it looks a bit cramped. We could increase the size of the table to include all the information, but for now, let's reduce the number of columns. We'll take the column for 2011 because we'll use data from another source for 2011 in a later lesson in this section."
   ]
  }
 ],
 "metadata": {},
 "nbformat": 4,
 "nbformat_minor": 5
}
