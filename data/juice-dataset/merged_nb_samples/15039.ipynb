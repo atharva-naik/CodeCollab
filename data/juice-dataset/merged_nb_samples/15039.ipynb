{
 "cells": [
  {
   "cell_type": "code",
   "execution_count": null,
   "id": "6cb5bdb4",
   "metadata": {},
   "outputs": [],
   "source": [
    "from __future__ import print_function, division\n",
    "import requests\n",
    "import datetime\n",
    "from datetime import datetime, timedelta\n",
    "import json\n",
    "from matplotlib import pyplot as plt\n",
    "import numpy as np\n",
    "import pandas as pd\n",
    "import seaborn as sns\n",
    "%matplotlib inline\n",
    "from sklearn.linear_model import LinearRegression\n",
    "from sklearn.linear_model import RidgeCV\n",
    "from sklearn.preprocessing import PolynomialFeatures\n",
    "from sklearn.preprocessing import normalize\n",
    "from sklearn.preprocessing import MinMaxScaler\n",
    "from sklearn.pipeline import make_pipeline\n",
    "from sklearn.linear_model import LinearRegression\n",
    "from sklearn import metrics\n",
    "from sklearn.cross_validation import train_test_split\n",
    "from sklearn.cross_validation import KFold\n",
    "import statsmodels.api as sm\n",
    "import statsmodels.formula.api as smf\n",
    "import patsy\n",
    "from scipy import stats\n",
    "from scipy import special\n",
    "from sklearn.preprocessing import PolynomialFeatures"
   ]
  },
  {
   "cell_type": "markdown",
   "id": "80beebb7",
   "metadata": {},
   "source": [
    "Import Lists of Academy Award winning directors and actors"
   ]
  },
  {
   "cell_type": "code",
   "execution_count": null,
   "id": "7ea2afe5",
   "metadata": {},
   "outputs": [],
   "source": [
    "actor_list = {\"actor\": [\"Emil Jannings\", \"Richard Barthelmess\", \"Warner Baxter\", \"The Cisco Kid\", \"George Bancroft\", \"Chester Morris\", \"Paul Muni\", \"Lewis Stone\", \"Count Pahlen\", \"George Arliss\", \"George Arliss\", \"Wallace Beery\", \"Maurice Chevalier\", \"Ronald Colman\", \"Capt. Hugh \\\"Bulldog\\\" Drummond\", \"Lawrence Tibbett\", \"Lionel Barrymore\", \"Jackie Cooper\", \"Richard Dix\", \"Fredric March\", \"Adolphe Menjou\", \"Wallace Beery\", \"Fredric March\", \n",
    "                    \"Dr. Henry Jekyll / Mr. Edward Hyde\", \"Alfred Lunt\", \"Charles Laughton\", \"King Henry VIII of England\", \"Leslie Howard\", \"Paul Muni\", \"Clark Gable\", \"Frank Morgan\", \"Alessandro \\u2013 Duke of Florence\", \"William Powell\", \"Nick Charles\", \"Victor McLaglen\", \"Clark Gable\", \"Lieutenant Fletcher Christian\", \"Charles Laughton\", \"Captain William Bligh\", \"Franchot Tone\", \"Midshipman\", \"Roger Byam\", \"Paul Muni\", \"Paul Muni\", \n",
    "                    \"Louis Pasteur\", \"Gary Cooper\", \"Walter Huston\", \"William Powell\", \"Spencer Tracy\", \"Spencer Tracy\", \"Charles Boyer\", \"Emperor Napoleon Bonaparte\", \"Fredric March\", \"Robert Montgomery\", \"Paul Muni\", \"\\u00c9mile Zola\", \"Spencer Tracy\", \"Father Flanagan\", \"Charles Boyer\", \"James Cagney\", \"Robert Donat\", \"Leslie Howard\", \"Robert Donat\", \"Clark Gable\", \"Rhett Butler\", \"Laurence Olivier\", \"Mickey Rooney\", \"James Stewart\", \n",
    "                    \"James Stewart\", \"Charlie Chaplin\", \"Henry Fonda\", \"Tom Joad\", \"Raymond Massey\", \"Abraham Lincoln\", \"Laurence Olivier\", \"Gary Cooper\", \"Cary Grant\", \"Walter Huston\", \"Robert Montgomery\", \"Orson Welles\", \"Charles Foster Kane\", \"James Cagney\", \"George M. Cohan\", \"Ronald Colman\", \"Gary Cooper\", \"Lou Gehrig\", \"Walter Pidgeon\", \"Monty Woolley\", \"Paul Lukas\", \"Humphrey Bogart\", \"Gary Cooper\", \"Walter Pidgeon\", \"Pierre Curie\",\n",
    "                    \"Mickey Rooney\", \"Bing Crosby\", \"Charles Boyer\", \"Barry Fitzgerald\", \"Cary Grant\", \"Alexander Knox\", \"Woodrow Wilson\", \"Ray Milland\", \"Bing Crosby\", \"Gene Kelly\", \"Gregory Peck\", \"Cornel Wilde\", \"Fr\\u00e9d\\u00e9ric Chopin\", \"Fredric March\", \"Laurence Olivier\", \"King Henry V of England\", \"Larry Parks\", \"Al Jolson\", \"Gregory Peck\", \"James Stewart\", \"George Bailey\", \"Ronald Colman\", \"John Garfield\", \"Gregory Peck\", \"William Powell\", \n",
    "                    \"Michael Redgrave\", \"Laurence Olivier\", \"Lew Ayres\", \"Montgomery Clift\", \"Dan Dailey\", \"Clifton Webb\", \"Lynn Aloysius Belvedere\", \"Broderick Crawford\", \"Kirk Douglas\", \"Gregory Peck\", \"Richard Todd\", \"John Wayne\", \"Jos\\u00e9 Ferrer\", \"Cyrano de Bergerac\", \"Louis Calhern\", \"Oliver Wendell Holmes\", \"William Holden\", \"James Stewart\", \"Spencer Tracy\", \"Humphrey Bogart\", \"Marlon Brando\", \"Stanley Kowalski\", \"Montgomery Clift\", \"Arthur Kennedy\", \n",
    "                    \"Fredric March\", \"Willy Loman\", \"Gary Cooper\", \"Marshal Will Kane\", \"Marlon Brando\", \"Emiliano Zapata\", \"Kirk Douglas\", \"Jos\\u00e9 Ferrer\", \"Alec Guinness\", \"William Holden\", \"Marlon Brando\", \"Mark Antony\", \"Richard Burton\", \"Montgomery Clift\", \"Burt Lancaster\", \"Marlon Brando\", \"Humphrey Bogart\", \"Bing Crosby\", \"James Mason\", \"Dan O'Herlihy\", \"Ernest Borgnine\", \"James Cagney\", \"Martin Snyder\", \"James Dean\", \"Frank Sinatra\", \"Spencer Tracy\", \n",
    "                    \"Yul Brynner\", \"King Mongkut of Siam\", \"James Dean\", \"Kirk Douglas\", \"Vincent van Gogh\", \"Rock Hudson\", \"Laurence Olivier\", \"King Richard III of England\", \"Alec Guinness\", \"Marlon Brando\", \"Anthony Franciosa\", \"Charles Laughton\", \"Anthony Quinn\", \"David Niven\", \"Tony Curtis\", \"Paul Newman\", \"Sidney Poitier\", \"Spencer Tracy\", \"Charlton Heston\", \"Judah Ben-Hur\", \"Laurence Harvey\", \"Jack Lemmon\", \"Paul Muni\", \"James Stewart\", \"Burt Lancaster\", \n",
    "                    \"Trevor Howard\", \"Jack Lemmon\", \"Laurence Olivier\", \"Spencer Tracy\", \"Maximilian Schell\", \"Charles Boyer\", \"Paul Newman\", \"Spencer Tracy\", \"Stuart Whitman\", \"Gregory Peck\", \"Atticus Finch\", \"Burt Lancaster\", \"Robert Franklin Stroud\", \"Jack Lemmon\", \"Marcello Mastroianni\", \"Peter O'Toole\", \"T. E. Lawrence\", \"Sidney Poitier\", \"Albert Finney\", \"Richard Harris\", \"Rex Harrison\", \"Julius Caesar\", \"Paul Newman\", \"Rex Harrison\", \"Richard Burton\", \n",
    "                    \"Thomas Becket\", \"Peter O'Toole\", \"King Henry II of England\", \"Anthony Quinn\", \"Peter Sellers\", \"Lee Marvin\", \"Richard Burton\", \"Laurence Olivier\", \"Rod Steiger\", \"Oskar Werner\", \"Paul Scofield\", \"Sir Thomas More\", \"Alan Arkin\", \"Richard Burton\", \"Michael Caine\", \"Steve McQueen\", \"Rod Steiger\", \"Warren Beatty\", \"Clyde Barrow\", \"Dustin Hoffman\", \"Paul Newman\", \"Spencer Tracy\", \"Cliff Robertson\", \"Alan Arkin\", \"Alan Bates\", \"Ron Moody\", \n",
    "                    \"Peter O'Toole\", \"King Henry II of England\", \"John Wayne\", \"Reuben \\\"Rooster\\\" Cogburn\", \"Richard Burton\", \"King Henry VIII of England\", \"Dustin Hoffman\", \"Peter O'Toole\", \"Jon Voight\", \"George C. Scott\", \"General George S. Patton Jr.\", \"Melvyn Douglas\", \"James Earl Jones\", \"Jack Jefferson\", \"Jack Nicholson\", \"Ryan O'Neal\", \"Gene Hackman\", \"Detective Jimmy \\\"Popeye\\\" Doyle\", \"Peter Finch\", \"Walter Matthau\", \"George C. Scott\", \"Tevye\", \n",
    "                    \"Marlon Brando\", \"Vito Corleone\", \"Michael Caine\", \"Laurence Olivier\", \"Peter O'Toole\", \"Paul Winfield\", \"Jack Lemmon\", \"Marlon Brando\", \"Jack Nicholson\", \"Al Pacino\", \"Frank Serpico\", \"Robert Redford\", \"Art Carney\", \"Albert Finney\", \"Hercule Poirot\", \"Dustin Hoffman\", \"Lenny Bruce\", \"Jack Nicholson\", \"Al Pacino\", \"Michael Corleone\", \"Jack Nicholson\", \"Randle Patrick \\\"Mac\\\" McMurphy\", \"Walter Matthau\", \"Al Pacino\", \"Sonny Wortzik\", \n",
    "                    \"Maximilian Schell\", \"James Whitmore\", \"Harry S. Truman\", \"Peter Finch\", \"Howard Beale\", \"Robert De Niro\", \"Travis Bickle\", \"Giancarlo Giannini\", \"William Holden\", \"Sylvester Stallone\", \"Rocky Balboa\", \"Richard Dreyfuss\", \"Woody Allen\", \"Richard Burton\", \"Marcello Mastroianni\", \"John Travolta\", \"Jon Voight\", \"Warren Beatty\", \"Gary Busey\", \"Buddy Holly\", \"Robert De Niro\", \"Laurence Olivier\", \"Dustin Hoffman\", \"Jack Lemmon\", \"Al Pacino\", \n",
    "                    \"...And Justice for All\", \"Roy Scheider\", \"Peter Sellers\", \"Robert De Niro\", \"Jake LaMotta\", \"Robert Duvall\", \"John Hurt\", \"John Merrick\", \"Jack Lemmon\", \"Peter O'Toole\", \"Henry Fonda\", \"Warren Beatty\", \"John Silas \\\"Jack\\\" Reed\", \"Burt Lancaster\", \"Dudley Moore\", \"Paul Newman\", \"Ben Kingsley\", \"Mohandas Karamchand Gandhi\", \"Dustin Hoffman\", \"Jack Lemmon\", \"Paul Newman\", \"Peter O'Toole\", \"Robert Duvall\", \"Michael Caine\", \"Tom Conti\", \n",
    "                    \"Tom Courtenay\", \"Albert Finney\", \"F. Murray Abraham\", \"Antonio Salieri\", \"Jeff Bridges\", \"Albert Finney\", \"Tom Hulce\", \"Wolfgang Amadeus Mozart\", \"Sam Waterston\", \"Sydney Schanberg\", \"William Hurt\", \"Harrison Ford\", \"James Garner\", \"Jack Nicholson\", \"Jon Voight\", \"Paul Newman\", \"Dexter Gordon\", \"Bob Hoskins\", \"William Hurt\", \"James Woods\", \"Michael Douglas\", \"Gordon Gekko\", \"William Hurt\", \"Marcello Mastroianni\", \"Jack Nicholson\", \n",
    "                    \"Francis Phelan\", \"Robin Williams\", \"Adrian Cronauer\", \"Dustin Hoffman\", \"Gene Hackman\", \"Tom Hanks\", \"Edward James Olmos\", \"Jaime Escalante\", \"Max von Sydow\", \"Daniel Day-Lewis\", \"Christy Brown\", \"Kenneth Branagh\", \"King Henry V of England\", \"Tom Cruise\", \"Ron Kovic\", \"Morgan Freeman\", \"Robin Williams\", \"Jeremy Irons\", \"Kevin Costner\", \"Robert De Niro\", \"G\\u00e9rard Depardieu\", \"Cyrano de Bergerac\", \"Richard Harris\", \"Anthony Hopkins\", \n",
    "                    \"Warren Beatty\", \"Benjamin \\\"Bugsy\\\" Siegel\", \"Robert De Niro\", \"Maximilian \\\"Max\\\" Cady\", \"Nick Nolte\", \"Robin Williams\", \"Al Pacino\", \"Robert Downey Jr.\", \"Charlie Chaplin\", \"Clint Eastwood\", \"Stephen Rea\", \"Denzel Washington\", \"Tom Hanks\", \"Daniel Day-Lewis\", \"Gerry Conlon\", \"Laurence Fishburne\", \"Ike Turner\", \"Anthony Hopkins\", \"Liam Neeson\", \"Oskar Schindler\", \"Tom Hanks\", \"Forrest Gump\", \"Morgan Freeman\", \"Nigel Hawthorne\", \n",
    "                    \"King George III\", \"Paul Newman\", \"John Travolta\", \"Nicolas Cage\", \"Richard Dreyfuss\", \"Anthony Hopkins\", \"Richard Nixon\", \"Sean Penn\", \"Matthew Poncelet\", \"Massimo Troisi\", \"Geoffrey Rush\", \"David Helfgott\", \"Tom Cruise\", \"Ralph Fiennes\", \"Count L\\u00e1szl\\u00f3 de Alm\\u00e1sy\", \"Woody Harrelson\", \"Larry Flynt\", \"Billy Bob Thornton\", \"Jack Nicholson\", \"Matt Damon\", \"Robert Duvall\", \"Peter Fonda\", \"Dustin Hoffman\", \"Roberto Benigni\", \n",
    "                    \"Tom Hanks\", \"Ian McKellen\", \"James Whale\", \"Nick Nolte\", \"Edward Norton\", \"Kevin Spacey\", \"Russell Crowe\", \"Jeffrey Wigand\", \"Richard Farnsworth\", \"Alvin Straight\", \"Sean Penn\", \"Denzel Washington\", \"Rubin \\\"The Hurricane\\\" Carter\", \"Russell Crowe\", \"Javier Bardem\", \"Reinaldo Arenas\", \"Tom Hanks\", \"Ed Harris\", \"Jackson Pollock\", \"Geoffrey Rush\", \"The Marquis de Sade\", \"Denzel Washington\", \"Detective Alonzo Harris\", \"Russell Crowe\", \n",
    "                    \"John Forbes Nash Jr.\", \"Sean Penn\", \"Will Smith\", \"Muhammad Ali\", \"Tom Wilkinson\", \"Adrien Brody\", \"W\\u0142adys\\u0142aw Szpilman\", \"Nicolas Cage\", \"Charlie Kaufman\", \"Michael Caine\", \"Daniel Day-Lewis\", \"William \\\"Bill the Butcher\\\" Cutting\", \"Jack Nicholson\", \"Sean Penn\", \"Johnny Depp\", \"Captain Jack Sparrow\", \"Ben Kingsley\", \"Jude Law\", \"Bill Murray\", \"Jamie Foxx\", \"Ray Charles\", \"Don Cheadle\", \"Paul Rusesabagina\", \"Johnny Depp\", \n",
    "                    \"J. M. Barrie\", \"Leonardo DiCaprio\", \"Howard Hughes\", \"Clint Eastwood\", \"Philip Seymour Hoffman\", \"Truman Capote\", \"Terrence Howard\", \"Heath Ledger\", \"Ennis Del Mar\", \"Joaquin Phoenix\", \"Johnny Cash\", \"David Strathairn\", \"Edward R. Murrow\", \"Forest Whitaker\", \"Idi Amin\", \"Leonardo DiCaprio\", \"Ryan Gosling\", \"Peter O'Toole\", \"Will Smith\", \"Chris Gardner\", \"Daniel Day-Lewis\", \"George Clooney\", \"Johnny Depp\", \"Sweeney Todd / Benjamin Barker\", \n",
    "                    \"Tommy Lee Jones\", \"Viggo Mortensen\", \"Sean Penn\", \"Harvey Milk\", \"Richard Jenkins\", \"Frank Langella\", \"Richard Nixon\", \"Brad Pitt\", \"Mickey Rourke\", \"Jeff Bridges\", \"George Clooney\", \"Colin Firth\", \"Morgan Freeman\", \"Nelson Mandela\", \"Jeremy Renner\", \"Colin Firth\", \"King George VI\", \"Javier Bardem\", \"Jeff Bridges\", \"Reuben \\\"Rooster\\\" Cogburn\", \"Jesse Eisenberg\", \"Mark Zuckerberg\", \"James Franco\", \"Aron Ralston\", \"Jean Dujardin\", \n",
    "                    \"Demi\\u00e1n Bichir\", \"George Clooney\", \"Gary Oldman\", \"George Smiley\", \"Brad Pitt\", \"Billy Beane\", \"Daniel Day-Lewis\", \"Abraham Lincoln\", \"Bradley Cooper\", \"Hugh Jackman\", \"Jean Valjean\", \"Joaquin Phoenix\", \"Denzel Washington\", \"Matthew McConaughey\", \"Ron Woodroof\", \"Christian Bale\", \"Irving Rosenfeld\", \"Bruce Dern\", \"Leonardo DiCaprio\", \"Jordan Belfort\", \"Chiwetel Ejiofor\", \"Solomon Northup\", \n",
    "                    \"Eddie Redmayne\", \"Stephen Hawking\", \"Steve Carell\", \"John du Pont\", \"Bradley Cooper\", \"Chris Kyle\", \"Benedict Cumberbatch\", \"Alan Turing\", \"Michael Keaton\", \"Leonardo DiCaprio\", \"Hugh Glass\", \"Bryan Cranston\", \"Dalton Trumbo\", \"Matt Damon\", \"Michael Fassbender\", \"Steve Jobs\", \"Eddie Redmayne\", \"Lili Elbe\", \"Casey Affleck\", \"Andrew Garfield\", \"Desmond Doss\", \"Ryan Gosling\", \"Viggo Mortensen\", \"Denzel Washington\"]}\n",
    "\n",
    "actress_list = {\"actress\": [\"Janet Gaynor\", \"Louise Dresser\", \"Gloria Swanson\", \"Mary Pickford\", \"Ruth Chatterton\", \"Betty Compson\", \"Jeanne Eagels\", \"Corinne Griffith\", \"Bessie Love\", \"Norma Shearer\", \"The Divorcee\", \"Nancy Carroll\", \"Ruth Chatterton\", \"Greta Garbo\", \"Norma Shearer\", \"Gloria Swanson\", \"Marie Dressler\", \"Marlene Dietrich\", \"Irene Dunne\", \"Ann Harding\", \"Norma Shearer\", \"Helen Hayes\", \"Marie Dressler\", \"Lynn Fontanne\", \"Katharine Hepburn\", \n",
    "                            \"May Robson\", \"Diana Wynyard\", \"Claudette Colbert\", \"Grace Moore\", \"Norma Shearer\", \"Elizabeth Barrett\", \"Bette Davis\", \"Bette Davis\", \"Elisabeth Bergner\", \"Claudette Colbert\", \"Katharine Hepburn\", \"Miriam Hopkins\", \"Becky Sharp\", \"Merle Oberon\", \"Luise Rainer\", \"Anna Held\", \"Irene Dunne\", \"Gladys George\", \"Carole Lombard\", \"Norma Shearer\", \"Luise Rainer\", \"Irene Dunne\", \"Greta Garbo\", \"Janet Gaynor\", \"Barbara Stanwyck\", \"Bette Davis\", \n",
    "                            \"Fay Bainter\", \"Wendy Hiller\", \"Eliza Doolittle\", \"Norma Shearer\", \"Marie Antoinette\", \"Margaret Sullavan\", \"Vivien Leigh\", \"Scarlett O'Hara\", \"Bette Davis\", \"Irene Dunne\", \"Greta Garbo\", \"Greer Garson\", \"Ginger Rogers\", \"Bette Davis\", \"Joan Fontaine\", \"Katharine Hepburn\", \"Martha Scott\", \"Joan Fontaine\", \"Bette Davis\", \"Olivia de Havilland\", \"Greer Garson\", \"Edna Gladney\", \"Barbara Stanwyck\", \"Greer Garson\", \"Kay Miniver\", \"Bette Davis\", \n",
    "                            \"Katharine Hepburn\", \"Rosalind Russell\", \"Ruth Sherwood\", \"Teresa Wright\", \"Eleanor Twitchell Gehrig\", \"Jennifer Jones\", \"Bernadette Soubirous\", \"Jean Arthur\", \"Ingrid Bergman\", \"Joan Fontaine\", \"Greer Garson\", \"Marie Curie\", \"Ingrid Bergman\", \"Claudette Colbert\", \"Bette Davis\", \"Greer Garson\", \"Barbara Stanwyck\", \"Phyllis Dietrichson\", \"Joan Crawford\", \"Ingrid Bergman\", \"Greer Garson\", \"Jennifer Jones\", \"Gene Tierney\", \"Olivia de Havilland\", \n",
    "                            \"Celia Johnson\", \"Jennifer Jones\", \"Rosalind Russell\", \"Elizabeth Kenny\", \"Jane Wyman\", \"Loretta Young\", \"Joan Crawford\", \"Susan Hayward\", \"Angelica Evans Conway\", \"Dorothy McGuire\", \"Rosalind Russell\", \"Jane Wyman\", \"Ingrid Bergman\", \"Olivia de Havilland\", \"Virginia Stuart Cunningham\", \"Irene Dunne\", \"Barbara Stanwyck\", \"Olivia de Havilland\", \"Jeanne Crain\", \"Susan Hayward\", \"Deborah Kerr\", \"Loretta Young\", \"Judy Holliday\", \"Anne Baxter\", \n",
    "                            \"Bette Davis\", \"Eleanor Parker\", \"Gloria Swanson\", \"Vivien Leigh\", \"Blanche DuBois\", \"Katharine Hepburn\", \"Eleanor Parker\", \"Shelley Winters\", \"Alice Tripp\", \"Jane Wyman\", \"Shirley Booth\", \"Joan Crawford\", \"Bette Davis\", \"The Star\", \"Julie Harris\", \"Susan Hayward\", \"Jane Froman\", \"Audrey Hepburn\", \"Leslie Caron\", \"Ava Gardner\", \"Deborah Kerr\", \"Maggie McNamara\", \"Grace Kelly\", \"Dorothy Dandridge\", \"Judy Garland\", \"Audrey Hepburn\", \"Jane Wyman\", \n",
    "                            \"Anna Magnani\", \"Susan Hayward\", \"Lillian Roth\", \"Katharine Hepburn\", \"Jennifer Jones\", \"Han Suyin\", \"Eleanor Parker\", \"Ingrid Bergman\", \"Anna Koreff\", \"Anastasia\", \"Carroll Baker\", \"Katharine Hepburn\", \"Nancy Kelly\", \"Deborah Kerr\", \"Anna Leonowens\", \"Joanne Woodward\", \"Eve White / Eve Black / Jane\", \"Deborah Kerr\", \"Anna Magnani\", \"Elizabeth Taylor\", \"Lana Turner\", \"Constance MacKenzie\", \"Susan Hayward\", \"Barbara Graham\", \"Deborah Kerr\", \n",
    "                            \"Shirley MacLaine\", \"Rosalind Russell\", \"Elizabeth Taylor\", \"Simone Signoret\", \"Doris Day\", \"Audrey Hepburn\", \"Gabrielle van der Mal\", \"Katharine Hepburn\", \"Elizabeth Taylor\", \"Elizabeth Taylor\", \"Greer Garson\", \"Eleanor Roosevelt\", \"Deborah Kerr\", \"Shirley MacLaine\", \"Melina Mercouri\", \"Sophia Loren\", \"Audrey Hepburn\", \"Piper Laurie\", \"Geraldine Page\", \"Natalie Wood\", \"Anne Bancroft\", \"Annie Sullivan\", \"Bette Davis\", \"Baby Jane Hudson\", \n",
    "                            \"Katharine Hepburn\", \"Mary Cavan Tyrone\", \"Geraldine Page\", \"Lee Remick\", \"Patricia Neal\", \"Leslie Caron\", \"Shirley MacLaine\", \"Rachel Roberts\", \"Natalie Wood\", \"Julie Andrews\", \"Mary Poppins\", \"Anne Bancroft\", \"Jo Armitage\", \"Sophia Loren\", \"Debbie Reynolds\", \"Molly Brown\", \"Kim Stanley\", \"Julie Christie\", \"Julie Andrews\", \"Maria von Trapp\", \"Samantha Eggar\", \"Elizabeth Hartman\", \"Simone Signoret\", \"Elizabeth Taylor\", \"Anouk Aim\\u00e9e\", \n",
    "                            \"Ida Kami\\u0144ska\", \"Lynn Redgrave\", \"Vanessa Redgrave\", \"Katharine Hepburn\", \"Anne Bancroft\", \"Faye Dunaway\", \"Bonnie Parker\", \"Edith Evans\", \"Audrey Hepburn\", \"Katharine Hepburn\", \"Barbra Streisand\", \"Fanny Brice\", \"Patricia Neal\", \"Vanessa Redgrave\", \"Isadora Duncan\", \"Joanne Woodward\", \"Maggie Smith\", \"Jean Brodie\", \"Genevi\\u00e8ve Bujold\", \"Anne Boleyn\", \"Jane Fonda\", \"Liza Minnelli\", \"Jean Simmons\", \"Glenda Jackson\", \"Jane Alexander\", \n",
    "                            \"Ali MacGraw\", \"Sarah Miles\", \"Carrie Snodgress\", \"Bettina \\\"Tina\\\" Balser\", \"Jane Fonda\", \"Julie Christie\", \"Glenda Jackson\", \"Vanessa Redgrave\", \"Janet Suzman\", \"Empress Alexandra of Russia\", \"Liza Minnelli\", \"Sally Bowles\", \"Diana Ross\", \"Billie Holiday\", \"Maggie Smith\", \"Cicely Tyson\", \"Liv Ullmann\", \"Glenda Jackson\", \"Ellen Burstyn\", \"Marsha Mason\", \"Barbra Streisand\", \"Joanne Woodward\", \"Ellen Burstyn\", \"Alice Graham-Hyatt\", \"Diahann Carroll\", \n",
    "                            \"Faye Dunaway\", \"Valerie Perrine\", \"Harriett Jolliff / Honey Bruce\", \"Gena Rowlands\", \"Louise Fletcher\", \"Nurse Mildred Ratched\", \"Isabelle Adjani\", \"Ad\\u00e8le Hugo / Ad\\u00e8le Lewly\", \"Glenda Jackson\", \"Carol Kane\", \"Faye Dunaway\", \"Marie-Christine Barrault\", \"Talia Shire\", \"Adrian Pennino\", \"Sissy Spacek\", \"Carrie White\", \"Liv Ullmann\", \"Diane Keaton\", \"Anne Bancroft\", \"Emma Jacklin\", \"Jane Fonda\", \"Lillian Hellman\", \"Shirley MacLaine\", \"Deedee Rodgers\", \n",
    "                            \"Marsha Mason\", \"Jane Fonda\", \"Ingrid Bergman\", \"Ellen Burstyn\", \"Jill Clayburgh\", \"Geraldine Page\", \"Sally Field\", \"Norma Rae Webster\", \"Jill Clayburgh\", \"Jane Fonda\", \"Marsha Mason\", \"Bette Midler\", \"Sissy Spacek\", \"Loretta Lynn\", \"Ellen Burstyn\", \"Goldie Hawn\", \"Mary Tyler Moore\", \"Gena Rowlands\", \"Katharine Hepburn\", \"Diane Keaton\", \"Louise Bryant\", \"Marsha Mason\", \"Susan Sarandon\", \"Meryl Streep\", \"Meryl Streep\", \"Julie Andrews\", \"Jessica Lange\", \"Frances Farmer\", \n",
    "                            \"Sissy Spacek\", \"Beth Horman\", \"Debra Winger\", \"Shirley MacLaine\", \"Jane Alexander\", \"Meryl Streep\", \"Karen Silkwood\", \"Julie Walters\", \"Debra Winger\", \"Sally Field\", \"Judy Davis\", \"Jessica Lange\", \"Vanessa Redgrave\", \"Sissy Spacek\", \"Geraldine Page\", \"Anne Bancroft\", \"Whoopi Goldberg\", \"Celie Harris-Johnson\", \"Jessica Lange\", \"Patsy Cline\", \"Meryl Streep\", \"Karen Blixen\", \"Marlee Matlin\", \"Jane Fonda\", \"Sissy Spacek\", \"Kathleen Turner\", \"Sigourney Weaver\", \"Ellen Ripley\", \n",
    "                            \"Cher\", \"Glenn Close\", \"Holly Hunter\", \"Jane Craig\", \"Sally Kirkland\", \"Meryl Streep\", \"Jodie Foster\", \"Sarah Tobias\", \"Glenn Close\", \"Melanie Griffith\", \"Meryl Streep\", \"Lindy Chamberlain\", \"Sigourney Weaver\", \"Dian Fossey\", \"Jessica Tandy\", \"Isabelle Adjani\", \"Camille Claudel\", \"Pauline Collins\", \"Jessica Lange\", \"Michelle Pfeiffer\", \"Kathy Bates\", \"Annie Wilkes\", \"Anjelica Huston\", \"Julia Roberts\", \"Meryl Streep\", \"Suzanne Vale\", \"Joanne Woodward\", \"India Bridge\", \"Jodie Foster\", \n",
    "                            \"Clarice Starling\", \"Geena Davis\", \"Laura Dern\", \"Bette Midler\", \"Susan Sarandon\", \"Emma Thompson\", \"Catherine Deneuve\", \"Mary McDonnell\", \"Michelle Pfeiffer\", \"Susan Sarandon\", \"Michaela Murphy Odone\", \"Holly Hunter\", \"Angela Bassett\", \"Anna Mae Bullock / Tina Turner\", \"Stockard Channing\", \"Louisa \\\"Ouisa\\\" Kittredge\", \"Emma Thompson\", \"Debra Winger\", \"Joy Davidman\", \"Jessica Lange\", \"Jodie Foster\", \"Nell Kellty\", \"Miranda Richardson\", \"Vivienne Haigh-Wood\", \"Winona Ryder\", \n",
    "                            \"Josephine \\\"Jo\\\" March\", \"Susan Sarandon\", \"Susan Sarandon\", \"Helen Prejean\", \"Elisabeth Shue\", \"Sharon Stone\", \"Ginger McKenna\", \"Meryl Streep\", \"Emma Thompson\", \"Elinor Dashwood\", \"Frances McDormand\", \"Marge Gunderson\", \"Brenda Blethyn\", \"Diane Keaton\", \"Kristin Scott Thomas\", \"Emily Watson\", \"Helen Hunt\", \"Helena Bonham Carter\", \"Julie Christie\", \"Judi Dench\", \"Queen Victoria\", \"Kate Winslet\", \"Gwyneth Paltrow\", \"Viola de Lesseps / Thomas Kent\", \"Cate Blanchett\", \"Fernanda Montenegro\", \n",
    "                            \"Meryl Streep\", \"Kate Gulden\", \"Emily Watson\", \"Jacqueline du Pr\\u00e9\", \"Hilary Swank\", \"Brandon Teena\", \"Annette Bening\", \"Janet McTeer\", \"Julianne Moore\", \"Sarah Miles\", \"Meryl Streep\", \"Roberta Guaspari\", \"Julia Roberts\", \"Erin Brockovich\", \"Joan Allen\", \"Juliette Binoche\", \"Ellen Burstyn\", \"Laura Linney\", \"Halle Berry\", \"Judi Dench\", \"Iris Murdoch\", \"Nicole Kidman\", \"Sissy Spacek\", \"Ren\\u00e9e Zellweger\", \"Bridget Jones\", \"Nicole Kidman\", \"Virginia Woolf\", \"Salma Hayek\", \"Frida Kahlo\", \n",
    "                            \"Diane Lane\", \"Julianne Moore\", \"Ren\\u00e9e Zellweger\", \"Roxie Hart\", \"Charlize Theron\", \"Aileen Wuornos\", \"Keisha Castle-Hughes\", \"Diane Keaton\", \"Samantha Morton\", \"Naomi Watts\", \"Hilary Swank\", \"Annette Bening\", \"Catalina Sandino Moreno\", \"Imelda Staunton\", \"Kate Winslet\", \"Reese Witherspoon\", \"June Carter Cash\", \"Judi Dench\", \"Laura Forster-Henderson\", \"Felicity Huffman\", \"Keira Knightley\", \"Elizabeth Bennet\", \"Charlize Theron\", \"Josey Aimes\", \"Helen Mirren\", \"Queen Elizabeth II\", \n",
    "                            \"Pen\\u00e9lope Cruz\", \"Judi Dench\", \"Meryl Streep\", \"Miranda Priestly\", \"Kate Winslet\", \"Marion Cotillard\", \"\\u00c9dith Piaf\", \"Cate Blanchett\", \"Queen Elizabeth I\", \"Julie Christie\", \"Laura Linney\", \"Ellen Page\", \"Kate Winslet\", \"Anne Hathaway\", \"Angelina Jolie\", \"Christine Collins\", \"Melissa Leo\", \"Meryl Streep\", \"Sandra Bullock\", \"Leigh Anne Tuohy\", \"Helen Mirren\", \"Sophia Tolstaya\", \"Carey Mulligan\", \"Jenny Mellor\", \"Gabourey Sidibe\", \"Meryl Streep\", \"Julia Child\", \"Natalie Portman\", \n",
    "                            \"Annette Bening\", \"Nicole Kidman\", \"Jennifer Lawrence\", \"Michelle Williams\", \"Meryl Streep\", \"Margaret Thatcher\", \"Glenn Close\", \"Viola Davis\", \"Rooney Mara\", \"Lisbeth Salander\", \"Michelle Williams\", \"Marilyn Monroe\", \"Jennifer Lawrence\", \"Jessica Chastain\", \"Emmanuelle Riva\", \"Quvenzhan\\u00e9 Wallis\", \"Naomi Watts\", \"Maria Bennett\", \"Cate Blanchett\", \"Amy Adams\", \"Sandra Bullock\", \"Judi Dench\", \"Philomena Lee\", \"Meryl Streep\", \"Julianne Moore\", \"Marion Cotillard\", \"Felicity Jones\", \n",
    "                            \"Jane Wilde-Hawking\", \"Rosamund Pike\", \"Reese Witherspoon\", \"Cheryl Strayed\", \"Brie Larson\", \"Cate Blanchett\", \"Jennifer Lawrence\", \"Joy Mangano\", \"Charlotte Rampling\", \"Saoirse Ronan\", \"Emma Stone\", \"Isabelle Huppert\", \"Ruth Negga\", \"Mildred Loving\", \n",
    "                            \"Natalie Portman\", \"Jackie Kennedy\", \"Meryl Streep\", \"Florence Foster Jenkins\"]}\n",
    "\n",
    "director_list = {\"director\": [\"Frank Borzage\", \"Herbert Brenon\", \"King Vidor\", \"The Crowd\", \"Lewis Milestone\", \"Ted Wilde\", \"Frank Lloyd\", \"The Divine Lady\", \"Lionel Barrymore\", \"Harry Beaumont\", \"Irving Cummings\", \"Frank Lloyd\", \"Ernst Lubitsch\", \"The Patriot\", \"Lewis Milestone\", \"Clarence Brown\", \"Robert Z. Leonard\", \"The Divorcee\", \"Ernst Lubitsch\", \"The Love Parade\", \"King Vidor\", \"Norman Taurog\", \"Clarence Brown\", \"A Free Soul\", \"Lewis Milestone\", \"The Front Page\", \"Wesley Ruggles\", \"Josef von Sternberg\", \"Frank Borzage\", \n",
    "                         \"King Vidor\", \"The Champ\", \"Josef von Sternberg\", \"Frank Lloyd\", \"Frank Capra\", \"George Cukor\", \"Frank Capra\", \"Victor Schertzinger\", \"W. S. Van Dyke\", \"The Thin Man\", \"John Ford\", \"The Informer\", \"Henry Hathaway\", \"The Lives of a Bengal Lancer\", \"Frank Lloyd\", \"Frank Capra\", \"Gregory La Cava\", \"Robert Z. Leonard\", \"The Great Ziegfeld\", \"W. S. Van Dyke\", \"William Wyler\", \"Leo McCarey\", \"The Awful Truth\", \"William Dieterle\", \"The Life of Emile Zola\", \"Sidney Franklin\", \"The Good Earth\", \"Gregory La Cava\", \n",
    "                         \"William A. Wellman\", \"A Star Is Born\", \"Frank Capra\", \"Michael Curtiz\", \"Norman Taurog\", \"King Vidor\", \"The Citadel\", \"Victor Fleming\", \"Frank Capra\", \"John Ford\", \"Sam Wood\", \"William Wyler\", \"John Ford\", \"The Grapes of Wrath\", \"George Cukor\", \"The Philadelphia Story\", \"Alfred Hitchcock\", \"Sam Wood\", \"William Wyler\", \"The Letter\", \"John Ford\", \"Alexander Hall\", \"Howard Hawks\", \"Orson Welles\", \"William Wyler\", \"The Little Foxes\", \"William Wyler\", \"Michael Curtiz\", \"John Farrow\", \"Mervyn LeRoy\", \"Sam Wood\", \n",
    "                         \"Michael Curtiz\", \"Clarence Brown\", \"The Human Comedy\", \"Henry King\", \"The Song of Bernadette\", \"Ernst Lubitsch\", \"George Stevens\", \"The More the Merrier\", \"Leo McCarey\", \"Alfred Hitchcock\", \"Henry King\", \"Otto Preminger\", \"Billy Wilder\", \"Billy Wilder\", \"The Lost Weekend\", \"Clarence Brown\", \"Alfred Hitchcock\", \"Leo McCarey\", \"The Bells of St. Mary's\", \"Jean Renoir\", \"The Southerner\", \"William Wyler\", \"The Best Years of Our Lives\", \"Clarence Brown\", \"The Yearling\", \"Frank Capra\", \"David Lean\", \"Robert Siodmak\", \n",
    "                         \"The Killers\", \"Elia Kazan\", \"George Cukor\", \"Edward Dmytryk\", \"Henry Koster\", \"David Lean\", \"John Huston\", \"Anatole Litvak\", \"Jean Negulesco\", \"Laurence Olivier\", \"Fred Zinnemann\", \"Joseph L. Mankiewicz\", \"Carol Reed\", \"Robert Rossen\", \"William A. Wellman\", \"William Wyler\", \"Joseph L. Mankiewicz\", \"George Cukor\", \"John Huston\", \"Carol Reed\", \"Billy Wilder\", \"George Stevens\", \"John Huston\", \"Elia Kazan\", \"Vincente Minnelli\", \"William Wyler\", \"John Ford\", \"Cecil B. DeMille\", \"John Huston\", \"Joseph L. Mankiewicz\", \n",
    "                         \"Fred Zinnemann\", \"Fred Zinnemann\", \"George Stevens\", \"Charles Walters\", \"Billy Wilder\", \"William Wyler\", \"Elia Kazan\", \"Alfred Hitchcock\", \"George Seaton\", \"William A. Wellman\", \"Billy Wilder\", \"Delbert Mann\", \"Elia Kazan\", \"David Lean\", \"Joshua Logan\", \"John Sturges\", \"George Stevens\", \"Michael Anderson\", \"Walter Lang\", \"King Vidor\", \"William Wyler\", \"David Lean\", \"Joshua Logan\", \"Sidney Lumet\", \"Mark Robson\", \"Billy Wilder\", \"Vincente Minnelli\", \"Richard Brooks\", \"Stanley Kramer\", \"Mark Robson\", \"Robert Wise\", \n",
    "                         \"William Wyler\", \"Jack Clayton\", \"George Stevens\", \"Billy Wilder\", \"Fred Zinnemann\", \"Billy Wilder\", \"Jack Cardiff\", \"Jules Dassin\", \"Alfred Hitchcock\", \"Fred Zinnemann\", \"Robert Wise\", \"Jerome Robbins\", \"Federico Fellini\", \"Stanley Kramer\", \"Robert Rossen\", \"J. Lee Thompson\", \"David Lean\", \"Pietro Germi\", \"Robert Mulligan\", \"Arthur Penn\", \"Frank Perry\", \"Tony Richardson\", \"Federico Fellini\", \"Elia Kazan\", \"Otto Preminger\", \"Martin Ritt\", \"George Cukor\", \"Michael Cacoyannis\", \"Peter Glenville\", \"Stanley Kubrick\",\n",
    "                        \"Robert Stevenson\", \"Robert Wise\", \"David Lean\", \"John Schlesinger\", \"Hiroshi Teshigahara\", \"William Wyler\", \"Fred Zinnemann\", \"Michelangelo Antonioni\", \"Richard Brooks\", \"Claude Lelouch\", \"Mike Nichols\", \"Mike Nichols\", \"Richard Brooks\", \"Norman Jewison\", \"Stanley Kramer\", \"Arthur Penn\", \"Carol Reed\", \"Anthony Harvey\", \"Stanley Kubrick\", \"Gillo Pontecorvo\", \"Franco Zeffirelli\", \"John Schlesinger\", \"Costa Gavras\", \"George Roy Hill\", \"Arthur Penn\", \"Sydney Pollack\", \"Franklin J. Schaffner\", \"Robert Altman\", \n",
    "                        \"Federico Fellini\", \"Arthur Hiller\", \"Ken Russell\", \"William Friedkin\", \"Peter Bogdanovich\", \"Norman Jewison\", \"Stanley Kubrick\", \"John Schlesinger\", \"Bob Fosse\", \"John Boorman\", \"Francis Ford Coppola\", \"Joseph L. Mankiewicz\", \"Jan Troell\", \"George Roy Hill\", \"Ingmar Bergman\", \"Bernardo Bertolucci\", \"William Friedkin\", \"George Lucas\", \"Francis Ford Coppola\", \"John Cassavetes\", \"Bob Fosse\", \"Roman Polanski\", \"Fran\\u00e7ois Truffaut\", \"Milo\\u0161 Forman\", \"Robert Altman\", \"Federico Fellini\", \"Stanley Kubrick\", \n",
    "                         \"Sidney Lumet\", \"John G. Avildsen\", \"Ingmar Bergman\", \"Sidney Lumet\", \"Alan J. Pakula\", \"Lina Wertm\\u00fcller\", \"Woody Allen\", \"George Lucas\", \"Herbert Ross\", \"Steven Spielberg\", \"Fred Zinnemann\", \"Michael Cimino\", \"Woody Allen\", \"Hal Ashby\", \"Warren Beatty\", \"Buck Henry\", \"Alan Parker\", \"Robert Benton\", \"Francis Ford Coppola\", \"Bob Fosse\", \"\\u00c9douard Molinaro\", \"Peter Yates\", \"Robert Redford\", \"David Lynch\", \"Roman Polanski\", \"Richard Rush\", \"Martin Scorsese\", \"Warren Beatty\", \"Hugh Hudson\", \"Louis Malle\", \n",
    "                        \"Mark Rydell\", \"Steven Spielberg\", \"Richard Attenborough\", \"Sidney Lumet\", \"Wolfgang Petersen\", \"Sydney Pollack\", \"Steven Spielberg\", \"James L. Brooks\", \"Bruce Beresford\", \"Ingmar Bergman\", \"Mike Nichols\", \"Peter Yates\", \"Milo\\u0161 Forman\", \"Woody Allen\", \"Robert Benton\", \"Roland Joff\\u00e9\", \"David Lean\", \"Sydney Pollack\", \"H\\u00e9ctor Babenco\", \"John Huston\", \"Akira Kurosawa\", \"Peter Weir\", \"Oliver Stone\", \"Woody Allen\", \"James Ivory\", \"Roland Joff\\u00e9\", \"David Lynch\", \"Bernardo Bertolucci\", \"John Boorman\", \n",
    "                        \"Lasse Hallstr\\u00f6m\", \"Norman Jewison\", \"Adrian Lyne\", \"Barry Levinson\", \"Charles Crichton\", \"Mike Nichols\", \"Alan Parker\", \"Martin Scorsese\", \"Oliver Stone\", \"Woody Allen\", \"Kenneth Branagh\", \"Jim Sheridan\", \"Peter Weir\", \"Kevin Costner\", \"Francis Ford Coppola\", \"Stephen Frears\", \"Barbet Schroeder\", \"Martin Scorsese\", \"Jonathan Demme\", \"Barry Levinson\", \"Ridley Scott\", \"John Singleton\", \"Oliver Stone\", \"Clint Eastwood\", \"Robert Altman\", \"Martin Brest\", \"James Ivory\", \"Neil Jordan\", \"Steven Spielberg\", \"Robert Altman\", \n",
    "                        \"Jane Campion\", \"James Ivory\", \"Jim Sheridan\", \"Robert Zemeckis\", \"Woody Allen\", \"Krzysztof Kie\\u015blowski\", \"Robert Redford\", \"Quentin Tarantino\", \"Mel Gibson\", \"Mike Figgis\", \"Chris Noonan\", \"Michael Radford\", \"Tim Robbins\", \"Anthony Minghella\", \"Joel Coen\", \"Milo\\u0161 Forman\", \"Scott Hicks\", \"Mike Leigh\", \"James Cameron\", \"Peter Cattaneo\", \"Atom Egoyan\", \"Curtis Hanson\", \"Gus Van Sant\", \"Steven Spielberg\", \"Roberto Benigni\", \"John Madden\", \"Terrence Malick\", \"Peter Weir\", \"Sam Mendes\", \"Lasse Hallstr\\u00f6m\", \"Spike Jonze\", \n",
    "                        \"Michael Mann\", \"M. Night Shyamalan\", \"Steven Soderbergh\", \"Stephen Daldry\", \"Ang Lee\", \"Ridley Scott\", \"Steven Soderbergh\", \"Ron Howard\", \"Robert Altman\", \"Peter Jackson\", \"David Lynch\", \"Ridley Scott\", \"Roman Polanski\", \"Pedro Almod\\u00f3var\", \"Stephen Daldry\", \"Rob Marshall\", \"Martin Scorsese\", \"Peter Jackson\", \"Sofia Coppola\", \"Clint Eastwood\", \"Fernando Meirelles\", \"Peter Weir\", \"Clint Eastwood\", \"Taylor Hackford\", \"Mike Leigh\", \"Alexander Payne\", \"Martin Scorsese\", \"Ang Lee\", \"George Clooney\", \"Paul Haggis\", \"Bennett Miller\", \n",
    "                        \"Steven Spielberg\", \"Martin Scorsese\", \"Clint Eastwood\", \"Stephen Frears\", \"Paul Greengrass\", \"Alejandro Gonz\\u00e1lez I\\u00f1\\u00e1rritu\", \"Joel Coen\", \"Ethan Coen\", \"Paul Thomas Anderson\", \"Tony Gilroy\", \"Jason Reitman\", \"Julian Schnabel\", \"Danny Boyle\", \"Stephen Daldry\", \"David Fincher\", \"Ron Howard\", \"Gus Van Sant\", \"Kathryn Bigelow\", \"James Cameron\", \"Lee Daniels\", \"Jason Reitman\", \"Quentin Tarantino\", \"Tom Hooper\", \"Darren Aronofsky\", \"Joel Coen\", \"Ethan Coen\", \"David Fincher\", \"David O. Russell\", \"Michel Hazanavicius\", \"Woody Allen\", \n",
    "                        \"Terrence Malick\", \"Alexander Payne\", \"Martin Scorsese\", \"Ang Lee\", \"Michael Haneke\", \"David O. Russell\", \"Steven Spielberg\", \"Benh Zeitlin\", \"Alfonso Cuar\\u00f3n\", \"Steve McQueen\", \"Alexander Payne\", \"David O. Russell\", \"Martin Scorsese\", \"Alejandro G. I\\u00f1\\u00e1rritu\", \"Wes Anderson\", \"Richard Linklater\", \"Bennett Miller\", \"Morten Tyldum\", \"Alejandro G. I\\u00f1\\u00e1rritu\", \"Lenny Abrahamson\", \"Tom McCarthy\", \"Adam McKay\", \"George Miller\", \"Damien Chazelle\", \"Mel Gibson\", \"Barry Jenkins\", \"Kenneth Lonergan\", \"Denis Villeneuve\"]}"
   ]
  },
  {
   "cell_type": "markdown",
   "id": "d44f1b69",
   "metadata": {},
   "source": [
    "Modify dataframe to include all categorical variables"
   ]
  },
  {
   "cell_type": "code",
   "execution_count": null,
   "id": "135cbae3",
   "metadata": {},
   "outputs": [],
   "source": [
    "IMDB = pd.read_json('IMDB.json')\n",
    "\n",
    "IMDB['actor_nominee'] = IMDB.cast_list.apply(lambda x: int(bool(set(actor_list['actor']) & set(x))))\n",
    "IMDB['actress_nominee'] = IMDB.cast_list.apply(lambda x: int(bool(set(actress_list['actress']) & set(x))))\n",
    "IMDB['director_nominee'] = IMDB.cast_list.apply(lambda x: int(bool(set(director_list['director']) & set(x))))\n",
    "IMDB.columns.values[5] = 'genres'\n",
    "IMDB['drama'] = IMDB.genres.apply(lambda x: int(bool(set(['Drama']) & set(x))))\n",
    "IMDB['comedy'] = IMDB.genres.apply(lambda x: int(bool(set(['Comedy']) & set(x))))\n",
    "IMDB['romance'] = IMDB.genres.apply(lambda x: int(bool(set(['Romance']) & set(x))))\n",
    "IMDB['biography'] = IMDB.genres.apply(lambda x: int(bool(set(['Biography']) & set(x))))\n",
    "IMDB['sport'] = IMDB.genres.apply(lambda x: int(bool(set(['Sport']) & set(x))))\n",
    "IMDB['thriller'] = IMDB.genres.apply(lambda x: int(bool(set(['Thriller']) & set(x))))\n",
    "IMDB['crime'] = IMDB.genres.apply(lambda x: int(bool(set(['Crime']) & set(x))))\n",
    "IMDB['adventure'] = IMDB.genres.apply(lambda x: int(bool(set(['Adventure']) & set(x))))\n",
    "IMDB['num_voted_users'] = IMDB.num_voted_users.apply(lambda x: int(''.join(x.split(','))))\n",
    "IMDB['ROI'] = IMDB['worldwide_income']/IMDB['budget']"
   ]
  },
  {
   "cell_type": "code",
   "execution_count": null,
   "id": "739923c7",
   "metadata": {},
   "outputs": [],
   "source": [
    "IMDB_Test = IMDB[['worldwide_income','budget','imdb_score', 'duration_sorted']]"
   ]
  },
  {
   "cell_type": "markdown",
   "id": "e8803a7f",
   "metadata": {},
   "source": [
    "Generate Pairplot for some values"
   ]
  },
  {
   "cell_type": "code",
   "execution_count": null,
   "id": "b5ed02b7",
   "metadata": {},
   "outputs": [],
   "source": [
    "sns = sns.pairplot(IMDB_Test, size = 5, aspect=1.5)\n"
   ]
  },
  {
   "cell_type": "markdown",
   "id": "4a5f6f00",
   "metadata": {},
   "source": [
    "Look at correlation between selected variables"
   ]
  },
  {
   "cell_type": "code",
   "execution_count": null,
   "id": "fdcead8d",
   "metadata": {},
   "outputs": [],
   "source": [
    "IMDB_Test.corr()"
   ]
  },
  {
   "cell_type": "markdown",
   "id": "b7dfced2",
   "metadata": {},
   "source": [
    "Look at first model with budget alone as dependent variable"
   ]
  },
  {
   "cell_type": "code",
   "execution_count": null,
   "id": "fdca0d16",
   "metadata": {},
   "outputs": [],
   "source": [
    "IMDB_log['worldwide_income_log'] = IMDB_log['worldwide_income'].apply(lambda x: np.log(x))"
   ]
  },
  {
   "cell_type": "code",
   "execution_count": null,
   "id": "9980341c",
   "metadata": {},
   "outputs": [],
   "source": [
    "plt.hist(IMDB['worldwide_income_log'])"
   ]
  },
  {
   "cell_type": "markdown",
   "id": "8edf3d83",
   "metadata": {},
   "source": [
    "Run test train split on model"
   ]
  },
  {
   "cell_type": "code",
   "execution_count": null,
   "id": "5b471fde",
   "metadata": {},
   "outputs": [],
   "source": [
    "X9 = IMDB_log[['budget','director_nominee','actor_nominee','actress_nominee','comedy','biography',\n",
    "       'romance','sport','thriller','crime','adventure','budget&director_nominee','budget&actor_nominee','budget&actress_nominee','budget&comedy','budget&biography',\n",
    "       'budget&romance','budget&sport','budget&thriller','budget&crime','budget&adventure','imdb_score','budget&imdb']]\n",
    "\n",
    "y9 = IMDB_log['worldwide_income_log'] \n",
    "\n",
    "def test_train_split(X9,y9):\n",
    "    X_train, X_test, y_train, y_test = train_test_split(X9, y9, test_size=0.3)\n",
    "    lr = LinearRegression()\n",
    "    lr.fit(X_train, y_train)\n",
    "    return lr.score(X_test, y_test), lr.score(X_train, y_train)\n",
    "\n",
    "test_train_split(X9,y9)\n",
    "\n"
   ]
  },
  {
   "cell_type": "markdown",
   "id": "8b9f7713",
   "metadata": {},
   "source": [
    "Transform predicted Y and compare with original Y"
   ]
  },
  {
   "cell_type": "code",
   "execution_count": null,
   "id": "9902b6bf",
   "metadata": {},
   "outputs": [],
   "source": [
    "stats_model9 = LinearRegression(fit_intercept=True)\n",
    "stats_model9.fit(X9,y9)\n",
    "IMDB_log['pred_income_log'] = stats_model9.predict(X9)\n",
    "IMDB_log['pred_income'] = IMDB_log['pred_income_log'].apply(lambda x: np.exp(x))\n",
    "def r2(a,b):\n",
    "    SSE = 0\n",
    "    SST = 0\n",
    "    for i, j in zip(a,b):\n",
    "        SSE += (j - i)**2\n",
    "        SST += (i - a.mean())**2 \n",
    "    return 1 - SSE/SST\n",
    "\n",
    "r2(IMDB_log['worldwide_income'],IMDB_log['pred_income'])"
   ]
  },
  {
   "cell_type": "markdown",
   "id": "de61ca41",
   "metadata": {},
   "source": [
    "The R^2 does not look favorable. Now looking at distribution of residuals"
   ]
  },
  {
   "cell_type": "code",
   "execution_count": null,
   "id": "41c9c6df",
   "metadata": {},
   "outputs": [],
   "source": [
    "IMDB_log['resid'] = IMDB_log['worldwide_income'] - IMDB_log['pred_income'];\n",
    "plt.hist(IMDB_log['resid']);"
   ]
  },
  {
   "cell_type": "markdown",
   "id": "716bcec0",
   "metadata": {},
   "source": [
    "The data is not normally distributed, although the model is worth further exploration. Let's transform features as well."
   ]
  },
  {
   "cell_type": "code",
   "execution_count": null,
   "id": "a080efff",
   "metadata": {},
   "outputs": [],
   "source": [
    "IMDB_log2 = IMDB\n",
    "IMDB_log2['worldwide_income_log'] = IMDB_log2['worldwide_income'].apply(lambda x: np.log(x))\n",
    "IMDB_log2['budget_log'] = IMDB_log2['budget'].apply(lambda x: np.log(x))"
   ]
  },
  {
   "cell_type": "code",
   "execution_count": null,
   "id": "9117f34c",
   "metadata": {},
   "outputs": [],
   "source": [
    "IMDB_log2['budget&director_nominee_log']=IMDB_log2['budget_log']*IMDB_log2['director_nominee']\n",
    "IMDB_log2['budget&actor_nominee_log']=IMDB_log2['budget_log']*IMDB_log2['actor_nominee']\n",
    "IMDB_log2['budget&actress_nominee_log']=IMDB_log2['budget_log']*IMDB_log2['actress_nominee']\n",
    "IMDB_log2['budget&comedy_log']=IMDB_log2['budget_log']*IMDB_log2['comedy']\n",
    "IMDB_log2['budget&biography_log']=IMDB_log2['budget_log']*IMDB_log2['biography']\n",
    "IMDB_log2['budget&romance_log']=IMDB_log2['budget_log']*IMDB_log2['romance']\n",
    "IMDB_log2['budget&sport_log']=IMDB_log2['budget_log']*IMDB_log2['sport']\n",
    "IMDB_log2['budget&thriller_log']=IMDB_log2['budget_log']*IMDB_log2['thriller']\n",
    "IMDB_log2['budget&crime_log']=IMDB_log2['budget_log']*IMDB_log2['crime']\n",
    "IMDB_log2['budget&adventure_log']=IMDB_log2['budget_log']*IMDB_log2['adventure']\n",
    "IMDB_log2['imdb&director_nominee']=IMDB_log2['imdb_score']*IMDB_log2['director_nominee']\n",
    "IMDB_log2['imdb&actor_nominee']=IMDB_log2['imdb_score']*IMDB_log2['actor_nominee']\n",
    "IMDB_log2['imdb&actress_nominee_log']=IMDB_log2['imdb_score']*IMDB_log2['actress_nominee']\n",
    "IMDB_log2['imdb&comedy']=IMDB_log2['imdb_score']*IMDB_log2['comedy']\n",
    "IMDB_log2['imdb&biography']=IMDB_log2['imdb_score']*IMDB_log2['biography']\n",
    "IMDB_log2['imdb&romance']=IMDB_log2['imdb_score']*IMDB_log2['romance']\n",
    "IMDB_log2['imdb&sport']=IMDB_log2['imdb_score']*IMDB_log2['sport']\n",
    "IMDB_log2['imdb&thriller']=IMDB_log2['imdb_score']*IMDB_log2['thriller']\n",
    "IMDB_log2['imdb&crime']=IMDB_log2['imdb_score']*IMDB_log2['crime']\n",
    "IMDB_log2['imdb&adventure']=IMDB_log2['imdb_score']*IMDB_log2['adventure']\n",
    "IMDB_log2['budget&imdb_log']=IMDB_log2['budget_log']*IMDB_log2['imdb_score']\n",
    "IMDB_log2['ROI_log'] = IMDB_log2['worldwide_income_log']/IMDB_log2['budget_log']"
   ]
  },
  {
   "cell_type": "markdown",
   "id": "c4c0e09c",
   "metadata": {},
   "source": [
    "Test train split after log transformation is not favorable"
   ]
  },
  {
   "cell_type": "code",
   "execution_count": null,
   "id": "cea36559",
   "metadata": {},
   "outputs": [],
   "source": [
    "stats_model = LinearRegression(fit_intercept=True)\n",
    "X = IMDB[['budget']]\n",
    "y = IMDB['worldwide_income'] \n",
    "stats_model.fit(X, y)\n",
    "stats_model.score(X, y), stats_model.coef_\n"
   ]
  },
  {
   "cell_type": "code",
   "execution_count": null,
   "id": "d46bbd0d",
   "metadata": {},
   "outputs": [],
   "source": [
    "IMDB['pred_inc_bud'] = stats_model.predict(X)"
   ]
  },
  {
   "cell_type": "markdown",
   "id": "9417c81c",
   "metadata": {},
   "source": [
    "Plot initial figures using budget as the independent variable"
   ]
  },
  {
   "cell_type": "code",
   "execution_count": null,
   "id": "52de711d",
   "metadata": {},
   "outputs": [],
   "source": [
    "plt.figure(figsize = (20,10));\n",
    "plt.scatter(x=IMDB.budget, y=IMDB.worldwide_income);\n",
    "plt.scatter(x=IMDB.budget, y=IMDB.pred_inc_bud)\n",
    "plt.ylabel('Worldwide Income (billions)', fontsize = 20);\n",
    "plt.xlabel('budget (100 millions)', fontsize = 20);\n",
    "plt.title('Worldwide Income vs Budget', fontsize = 30);\n",
    "plt.ylim(1000000,1000000000,1000000)\n",
    "scale_y = 1e3"
   ]
  },
  {
   "cell_type": "markdown",
   "id": "79e36d92",
   "metadata": {},
   "source": [
    "Plot histogram of Worldwide Income"
   ]
  },
  {
   "cell_type": "code",
   "execution_count": null,
   "id": "69b340c3",
   "metadata": {},
   "outputs": [],
   "source": [
    "plt.figure(figsize = (5,5));\n",
    "plt.hist(IMDB.worldwide_income);\n",
    "plt.xlabel('Worldwide Income (Billions)');\n",
    "plt.ylabel('Count');"
   ]
  },
  {
   "cell_type": "markdown",
   "id": "23558560",
   "metadata": {},
   "source": [
    "Filter out outliers using ROI cap"
   ]
  },
  {
   "cell_type": "code",
   "execution_count": null,
   "id": "0a24c024",
   "metadata": {},
   "outputs": [],
   "source": [
    "sorted(IMDB['ROI'].values, reverse = True)\n",
    "\n",
    "IMDB = IMDB[IMDB['ROI'] < 15];\n",
    "IMDB = IMDB[IMDB['worldwide_income'] < 1200000000];"
   ]
  },
  {
   "cell_type": "code",
   "execution_count": null,
   "id": "adc76487",
   "metadata": {},
   "outputs": [],
   "source": [
    "sorted(IMDB['ROI'].values, reverse = True);"
   ]
  },
  {
   "cell_type": "markdown",
   "id": "f1ef0ee1",
   "metadata": {},
   "source": [
    "Run second regression model having added categorical variables"
   ]
  },
  {
   "cell_type": "code",
   "execution_count": null,
   "id": "3b08675e",
   "metadata": {},
   "outputs": [],
   "source": [
    "IMDB['budget&voters']=IMDB['budget']*IMDB['num_voted_users']"
   ]
  },
  {
   "cell_type": "code",
   "execution_count": null,
   "id": "61e2fd65",
   "metadata": {},
   "outputs": [],
   "source": [
    "stats_model7 = LinearRegression()\n",
    "X7 = IMDB[['budget','director_nominee','actor_nominee','actress_nominee','comedy','biography',\n",
    "           'romance','sport','thriller','crime','adventure','budget&director_nominee',\n",
    "           'budget&actor_nominee','budget&actress_nominee','imdb_score','budget&imdb',\n",
    "           'num_voted_users','budget&voters','budget&comedy','budget&biography','budget&romance','budget&sport','budget&thriller','budget&crime','budget&adventure']]\n",
    "y7 = IMDB['worldwide_income'] \n",
    "stats_model7.fit(X7, y7)\n",
    "stats_model7.score(X7, y7), stats_model7.coef_, 1 - (1-stats_model7.score(X7, y7))*(len(y7)-1)/(len(y7)-X7.shape[1]-1)"
   ]
  },
  {
   "cell_type": "markdown",
   "id": "ae10488e",
   "metadata": {},
   "source": [
    "Add other combinations using IMDB Score"
   ]
  },
  {
   "cell_type": "code",
   "execution_count": null,
   "id": "903bd070",
   "metadata": {},
   "outputs": [],
   "source": [
    "IMDB['imdb&director_nominee']=IMDB['imdb_score']*IMDB['director_nominee']\n",
    "IMDB['imdb&actor_nominee']=IMDB['imdb_score']*IMDB['actor_nominee']\n",
    "IMDB['imdb&actress_nominee']=IMDB['imdb_score']*IMDB['actress_nominee']\n",
    "IMDB['imdb&comedy']=IMDB['imdb_score']*IMDB['comedy']\n",
    "IMDB['imdb&biography']=IMDB['imdb_score']*IMDB['biography']\n",
    "IMDB['imdb&romance']=IMDB['imdb_score']*IMDB['romance']\n",
    "IMDB['imdb&sport']=IMDB['imdb_score']*IMDB['sport']\n",
    "IMDB['imdb&thriller']=IMDB['imdb_score']*IMDB['thriller']\n",
    "IMDB['imdb&crime']=IMDB['imdb_score']*IMDB['crime']\n",
    "IMDB['imdb&adventure']=IMDB['imdb_score']*IMDB['adventure']"
   ]
  },
  {
   "cell_type": "code",
   "execution_count": null,
   "id": "8caca601",
   "metadata": {},
   "outputs": [],
   "source": [
    "stats_model8 = LinearRegression(fit_intercept=True)\n",
    "X8 = IMDB[['budget','director_nominee','actor_nominee','actress_nominee','comedy','biography',\n",
    "           'romance','sport','thriller','crime','adventure','budget&director_nominee',\n",
    "           'budget&actor_nominee','budget&actress_nominee','budget&comedy','budget&biography',\n",
    "           'budget&romance','budget&sport','budget&thriller','budget&crime','budget&adventure','imdb_score','budget&imdb',\n",
    "           'imdb&director_nominee','imdb&actor_nominee','imdb&actress_nominee','num_voted_users','budget&voters',\n",
    "           'imdb&comedy','imdb&biography', 'imdb&romance','imdb&sport', 'imdb&thriller','imdb&crime','imdb&adventure']]\n",
    "y8 = IMDB['worldwide_income'] \n",
    "stats_model8.fit(X8, y8)\n",
    "stats_model8.score(X8, y8), 1 - (1-stats_model8.score(X8, y8))*(len(y8)-1)/(len(y8)-X8.shape[1]-1)"
   ]
  },
  {
   "cell_type": "code",
   "execution_count": null,
   "id": "b4a35822",
   "metadata": {},
   "outputs": [],
   "source": [
    "X8P = stats_model8.predict(X8)\n",
    "def r2(a,b):\n",
    "    SSE = 0\n",
    "    SST = 0\n",
    "    for i, j in zip(a,b):\n",
    "        SSE += (j - i)**2\n",
    "        SST += (i - a.mean())**2 \n",
    "    return 1 - SSE/SST\n",
    "\n",
    "r2(IMDB['worldwide_income'],X8P)"
   ]
  },
  {
   "cell_type": "markdown",
   "id": "32bc55a7",
   "metadata": {},
   "source": [
    "This failed to add value, so we stay with 'X5,y5' model"
   ]
  },
  {
   "cell_type": "code",
   "execution_count": null,
   "id": "ad931f62",
   "metadata": {},
   "outputs": [],
   "source": [
    "X5_I = sm.tools.add_constant(X5)\n",
    "model_p = sm.OLS(y5,X5_I)\n",
    "model_p.fit().summary()"
   ]
  },
  {
   "cell_type": "markdown",
   "id": "2a6da257",
   "metadata": {},
   "source": [
    "Plot resuduals to look for discrepancies"
   ]
  },
  {
   "cell_type": "code",
   "execution_count": null,
   "id": "d39ded08",
   "metadata": {},
   "outputs": [],
   "source": [
    "residual_set = sm.OLS(y5,X5_I)\n",
    "residual_fit = residual_set.fit();\n",
    "residual_fit.resid.plot(style='o', figsize=(12,8), title = 'Residuals for Model');"
   ]
  },
  {
   "cell_type": "code",
   "execution_count": null,
   "id": "03fe0c2c",
   "metadata": {},
   "outputs": [],
   "source": [
    "IMDB['resid'] = IMDB['worldwide_income'] - IMDB['pred_inc5']"
   ]
  },
  {
   "cell_type": "markdown",
   "id": "30613b06",
   "metadata": {},
   "source": [
    "The residuals look as close to a normal distribution as we could get with a small data set"
   ]
  },
  {
   "cell_type": "code",
   "execution_count": null,
   "id": "75c22423",
   "metadata": {},
   "outputs": [],
   "source": [
    "stats_model10 = LinearRegression(fit_intercept=True)\n",
    "X10 = IMDB_log[['budget_log','director_nominee','actor_nominee','actress_nominee','comedy','biography',\n",
    "       'romance','sport','thriller','crime','adventure','budget&director_nominee_log','budget&actor_nominee_log','budget&actress_nominee_log','budget&comedy_log','budget&biography_log',\n",
    "       'budget&romance_log','budget&sport_log','budget&thriller_log','budget&crime_log','budget&adventure_log','imdb_score','budget&imdb']]\n",
    "\n",
    "y10 = IMDB_log['worldwide_income_log'] \n",
    "\n",
    "def test_train_iterations(X10,y10,z): \n",
    "    for i in range(z):\n",
    "        print(test_train_split(X10,y10))\n",
    "\n",
    "test_train_iterations(X10,y10,10)"
   ]
  },
  {
   "cell_type": "markdown",
   "id": "7e0e54f5",
   "metadata": {},
   "source": [
    "However, R^2 comparison between redicted Y and original Y is now better, but not as good as my original model"
   ]
  },
  {
   "cell_type": "code",
   "execution_count": null,
   "id": "7ed98479",
   "metadata": {},
   "outputs": [],
   "source": [
    "stats_model10.fit(X10,y10)\n",
    "IMDB_log['pred_income_logx'] = stats_model10.predict(X10)\n",
    "IMDB_log['pred_incomex'] = IMDB_log['pred_income_logx'].apply(lambda x: np.exp(x))\n",
    "r2(IMDB_log['worldwide_income'],IMDB_log['pred_incomex'])"
   ]
  },
  {
   "cell_type": "markdown",
   "id": "9dc71a64",
   "metadata": {},
   "source": [
    "When transforming predicted data back to real terms, we see a decent R^2 value. Plot this new model "
   ]
  },
  {
   "cell_type": "code",
   "execution_count": null,
   "id": "913bc133",
   "metadata": {},
   "outputs": [],
   "source": [
    "plt.figure(figsize = (20,10));\n",
    "plt.scatter(x=IMDB.budget, y=IMDB_log.worldwide_income);\n",
    "plt.scatter(x=IMDB.budget, y=IMDB_log.pred_incomex, label = 'Pred Inc')\n",
    "plt.ylabel('Worldwide Income (Billions)', fontsize = 20);\n",
    "plt.xlabel('Budget (100 Millions)', fontsize = 20);\n",
    "plt.title('Worldwide Income vs Budget', fontsize = 30);\n",
    "plt.legend(fontsize = 20);"
   ]
  },
  {
   "cell_type": "markdown",
   "id": "fa30e19c",
   "metadata": {},
   "source": [
    "Develop the model summary"
   ]
  },
  {
   "cell_type": "code",
   "execution_count": null,
   "id": "d00e2020",
   "metadata": {},
   "outputs": [],
   "source": [
    "X10_I = sm.tools.add_constant(X10)\n",
    "model_log = sm.OLS(y10,X10_I)\n",
    "model_log.fit().summary()"
   ]
  },
  {
   "cell_type": "markdown",
   "id": "aa7b526b",
   "metadata": {},
   "source": [
    "All in all, our original model looks best. We can also look at a Box Cox Transformation"
   ]
  },
  {
   "cell_type": "code",
   "execution_count": null,
   "id": "0745edc4",
   "metadata": {},
   "outputs": [],
   "source": [
    "IMDB_box = IMDB"
   ]
  },
  {
   "cell_type": "code",
   "execution_count": null,
   "id": "8a6f7905",
   "metadata": {},
   "outputs": [],
   "source": [
    "lamb=stats.boxcox_normmax(IMDB_box['worldwide_income'], brack=(-1.9, 1.9), method='mle')\n",
    "print(lamb)"
   ]
  },
  {
   "cell_type": "code",
   "execution_count": null,
   "id": "5c2f6ecd",
   "metadata": {},
   "outputs": [],
   "source": [
    "IMDB_box['income_box'] = (np.power(IMDB_box['worldwide_income'],0.178352561673)-1)/-0.178352561673"
   ]
  },
  {
   "cell_type": "markdown",
   "id": "68c1b447",
   "metadata": {},
   "source": [
    "Box Cox Transformation has transformed Y accurately. However, values are negative. We are unable to transform the data back to real terms, so we will shelve this idea."
   ]
  },
  {
   "cell_type": "code",
   "execution_count": null,
   "id": "20aaf618",
   "metadata": {},
   "outputs": [],
   "source": [
    "plt.hist(IMDB_box['income_box']);"
   ]
  },
  {
   "cell_type": "markdown",
   "id": "e41d4fc7",
   "metadata": {},
   "source": [
    "Create new unseen data from 2017, and clean data"
   ]
  },
  {
   "cell_type": "code",
   "execution_count": null,
   "id": "5eafc4e0",
   "metadata": {},
   "outputs": [],
   "source": [
    "IMDB2 = pd.read_json('IMDB2.json')\n",
    "\n",
    "IMDB2['actor_nominee'] = IMDB2.cast_list.apply(lambda x: int(bool(set(actor_list['actor']) & set(x))))\n",
    "IMDB2['actress_nominee'] = IMDB2.cast_list.apply(lambda x: int(bool(set(actress_list['actress']) & set(x))))\n",
    "IMDB2['director_nominee'] = IMDB2.cast_list.apply(lambda x: int(bool(set(director_list['director']) & set(x))))\n",
    "IMDB2.columns.values[5] = 'genres'\n",
    "IMDB2['drama'] = IMDB2.genres.apply(lambda x: int(bool(set(['Drama']) & set(x))))\n",
    "IMDB2['comedy'] = IMDB2.genres.apply(lambda x: int(bool(set(['Comedy']) & set(x))))\n",
    "IMDB2['romance'] = IMDB2.genres.apply(lambda x: int(bool(set(['Romance']) & set(x))))\n",
    "IMDB2['biography'] = IMDB2.genres.apply(lambda x: int(bool(set(['Biography']) & set(x))))\n",
    "IMDB2['sport'] = IMDB2.genres.apply(lambda x: int(bool(set(['Sport']) & set(x))))\n",
    "IMDB2['thriller'] = IMDB2.genres.apply(lambda x: int(bool(set(['Thriller']) & set(x))))\n",
    "IMDB2['crime'] = IMDB2.genres.apply(lambda x: int(bool(set(['Crime']) & set(x))))\n",
    "IMDB2['adventure'] = IMDB2.genres.apply(lambda x: int(bool(set(['Adventure']) & set(x))))\n",
    "IMDB2['num_voted_users'] = IMDB2.num_voted_users.apply(lambda x: int(''.join(x.split(','))))\n",
    "IMDB2['budget&director_nominee']=IMDB2['budget']*IMDB2['director_nominee']\n",
    "IMDB2['budget&actor_nominee']=IMDB2['budget']*IMDB2['actor_nominee']\n",
    "IMDB2['budget&actress_nominee']=IMDB2['budget']*IMDB2['actress_nominee']\n",
    "IMDB2['budget&comedy']=IMDB2['budget']*IMDB2['comedy']\n",
    "IMDB2['budget&biography']=IMDB2['budget']*IMDB2['biography']\n",
    "IMDB2['budget&romance']=IMDB2['budget']*IMDB2['romance']\n",
    "IMDB2['budget&sport']=IMDB2['budget']*IMDB2['sport']\n",
    "IMDB2['budget&thriller']=IMDB2['budget']*IMDB2['thriller']\n",
    "IMDB2['budget&crime']=IMDB2['budget']*IMDB2['crime']\n",
    "IMDB2['budget&adventure']=IMDB2['budget']*IMDB2['adventure']\n",
    "IMDB2['imdb&director_nominee']=IMDB2['imdb_score']*IMDB2['director_nominee']\n",
    "IMDB2['imdb&actor_nominee']=IMDB2['imdb_score']*IMDB2['actor_nominee']\n",
    "IMDB2['imdb&actress_nominee']=IMDB2['imdb_score']*IMDB2['actress_nominee']\n",
    "IMDB2['imdb&comedy']=IMDB2['imdb_score']*IMDB2['comedy']\n",
    "IMDB2['imdb&biography']=IMDB2['imdb_score']*IMDB2['biography']\n",
    "IMDB2['imdb&romance']=IMDB2['imdb_score']*IMDB2['romance']\n",
    "IMDB2['imdb&sport']=IMDB2['imdb_score']*IMDB2['sport']\n",
    "IMDB2['imdb&thriller']=IMDB2['imdb_score']*IMDB2['thriller']\n",
    "IMDB2['imdb&crime']=IMDB2['imdb_score']*IMDB2['crime']\n",
    "IMDB2['imdb&adventure']=IMDB2['imdb_score']*IMDB2['adventure']\n",
    "IMDB2['budget&imdb']=IMDB2['budget']*IMDB2['imdb_score']\n",
    "IMDB2['ROI'] = IMDB2['worldwide_income']/IMDB2['budget']"
   ]
  },
  {
   "cell_type": "code",
   "execution_count": null,
   "id": "c46600fd",
   "metadata": {},
   "outputs": [],
   "source": [
    "IMDB2 = IMDB2[IMDB2['ROI'] < 15]"
   ]
  },
  {
   "cell_type": "markdown",
   "id": "7b18d324",
   "metadata": {},
   "source": [
    "Run chosen model on unseen data"
   ]
  },
  {
   "cell_type": "code",
   "execution_count": null,
   "id": "1b5af8a9",
   "metadata": {},
   "outputs": [],
   "source": [
    "stats_model2 = LinearRegression(fit_intercept=True)\n",
    "X2 = IMDB[['budget','director_nominee','actor_nominee','actress_nominee','comedy','biography','romance','sport','thriller','crime','adventure']]\n",
    "y2 = IMDB['worldwide_income'] \n",
    "stats_model2.fit(X2, y2);\n",
    "stats_model2.score(X2, y2),1 - (1-stats_model2.score(X2, y2))*(len(y2)-1)/(len(y2)-X2.shape[1]-1)"
   ]
  },
  {
   "cell_type": "markdown",
   "id": "da154e44",
   "metadata": {},
   "source": [
    "Add Polynomial Features"
   ]
  },
  {
   "cell_type": "code",
   "execution_count": null,
   "id": "88ed5929",
   "metadata": {},
   "outputs": [],
   "source": [
    "poly= PolynomialFeatures(degree=3, interaction_only=False, include_bias=True)\n",
    "XP = pd.DataFrame(poly.fit_transform(X2))\n",
    "stats_model2.fit(XP, y2)\n",
    "stats_model2.score(XP, y2)\n"
   ]
  },
  {
   "cell_type": "markdown",
   "id": "db9757f2",
   "metadata": {},
   "source": [
    "Adding polynomial features hasn't helped. Add relationships between Budget and categorical features"
   ]
  },
  {
   "cell_type": "code",
   "execution_count": null,
   "id": "97cbd98b",
   "metadata": {},
   "outputs": [],
   "source": [
    "IMDB['budget&director_nominee']=IMDB['budget']*IMDB['director_nominee']\n",
    "IMDB['budget&actor_nominee']=IMDB['budget']*IMDB['actor_nominee']\n",
    "IMDB['budget&actress_nominee']=IMDB['budget']*IMDB['actress_nominee']\n",
    "IMDB['budget&comedy']=IMDB['budget']*IMDB['comedy']\n",
    "IMDB['budget&biography']=IMDB['budget']*IMDB['biography']\n",
    "IMDB['budget&romance']=IMDB['budget']*IMDB['romance']\n",
    "IMDB['budget&sport']=IMDB['budget']*IMDB['sport']\n",
    "IMDB['budget&thriller']=IMDB['budget']*IMDB['thriller']\n",
    "IMDB['budget&crime']=IMDB['budget']*IMDB['crime']\n",
    "IMDB['budget&adventure']=IMDB['budget']*IMDB['adventure']"
   ]
  },
  {
   "cell_type": "code",
   "execution_count": null,
   "id": "b0555aa9",
   "metadata": {},
   "outputs": [],
   "source": [
    "stats_model3 = LinearRegression(fit_intercept=True)\n",
    "X3 = IMDB[['budget','director_nominee','actor_nominee','actress_nominee','comedy','biography',\n",
    "           'romance','sport','thriller','crime','adventure','budget&director_nominee',\n",
    "           'budget&actor_nominee','budget&actress_nominee','budget&comedy','budget&biography',\n",
    "           'budget&romance','budget&sport','budget&thriller','budget&crime','budget&adventure']]\n",
    "y3 = IMDB['worldwide_income'] \n",
    "stats_model3.fit(X3, y3)\n",
    "stats_model3.score(X3, y3), 1 - (1-stats_model3.score(X3, y3))*(len(y3)-1)/(len(y3)-X3.shape[1]-1)"
   ]
  },
  {
   "cell_type": "markdown",
   "id": "2a8dd581",
   "metadata": {},
   "source": [
    "Add IMDB score"
   ]
  },
  {
   "cell_type": "code",
   "execution_count": null,
   "id": "cb6e42d2",
   "metadata": {},
   "outputs": [],
   "source": [
    "stats_model4 = LinearRegression(fit_intercept=True)\n",
    "X4 = IMDB[['budget','director_nominee','actor_nominee','actress_nominee','comedy','biography',\n",
    "           'romance','sport','thriller','crime','adventure','budget&director_nominee',\n",
    "           'budget&actor_nominee','budget&actress_nominee','budget&comedy','budget&biography',\n",
    "           'budget&romance','budget&sport','budget&thriller','budget&crime','budget&adventure','imdb_score']]\n",
    "y4 = IMDB['worldwide_income'] \n",
    "stats_model4.fit(X4, y4)\n",
    "stats_model4.score(X4, y4), 1 - (1-stats_model4.score(X4, y4))*(len(y4)-1)/(len(y4)-X4.shape[1]-1)"
   ]
  },
  {
   "cell_type": "markdown",
   "id": "1603f05a",
   "metadata": {},
   "source": [
    "Add relationship between budget and IMDB score"
   ]
  },
  {
   "cell_type": "code",
   "execution_count": null,
   "id": "64d499c1",
   "metadata": {},
   "outputs": [],
   "source": [
    "IMDB['budget&imdb']=IMDB['budget']*IMDB['imdb_score']"
   ]
  },
  {
   "cell_type": "code",
   "execution_count": null,
   "id": "88dca569",
   "metadata": {},
   "outputs": [],
   "source": [
    "stats_model5 = LinearRegression(fit_intercept=True, normalize = True)\n",
    "X5 = IMDB[['budget','director_nominee','actor_nominee','actress_nominee','comedy','biography',\n",
    "           'romance','sport','thriller','crime','adventure','budget&director_nominee',\n",
    "           'budget&actor_nominee','budget&actress_nominee','budget&comedy','budget&biography',\n",
    "           'budget&romance','budget&sport','budget&thriller','budget&crime','budget&adventure','imdb_score','budget&imdb']]\n",
    "y5 = IMDB['worldwide_income'] \n",
    "stats_model5.fit(X5, y5)\n",
    "IMDB['pred_inc5'] = stats_model5.predict(X5)\n",
    "stats_model5.score(X5, y5), 1 - (1-stats_model5.score(X5, y5))*(len(y5)-1)/(len(y5)-X5.shape[1]-1)"
   ]
  },
  {
   "cell_type": "markdown",
   "id": "8e643eff",
   "metadata": {},
   "source": [
    "Plot values"
   ]
  },
  {
   "cell_type": "code",
   "execution_count": null,
   "id": "f8af00c5",
   "metadata": {},
   "outputs": [],
   "source": [
    "plt.figure(figsize = (20,10));\n",
    "plt.scatter(x=IMDB.budget, y=IMDB.worldwide_income);\n",
    "plt.scatter(x=IMDB.budget, y=IMDB.pred_inc5, label = 'Pred Inc')\n",
    "plt.ylabel('Worldwide Income (Billions)', fontsize = 20);\n",
    "plt.xlabel('Budget (100 Millions)', fontsize = 20);\n",
    "plt.title('Worldwide Income vs Budget', fontsize = 30);\n",
    "plt.legend(fontsize = 20);"
   ]
  },
  {
   "cell_type": "markdown",
   "id": "6c60c074",
   "metadata": {},
   "source": [
    "Add optional 'Number of Voted Users' as well relationship to budget"
   ]
  },
  {
   "cell_type": "code",
   "execution_count": null,
   "id": "bc0ed4aa",
   "metadata": {},
   "outputs": [],
   "source": [
    "stats_model6 = LinearRegression(normalize = True)\n",
    "X6 = IMDB[['budget','director_nominee','actor_nominee','actress_nominee','comedy','biography',\n",
    "           'romance','sport','thriller','crime','adventure','budget&director_nominee',\n",
    "           'budget&actor_nominee','budget&actress_nominee','budget&comedy','budget&biography',\n",
    "           'budget&romance','budget&sport','budget&thriller','budget&crime','budget&adventure','imdb_score',\n",
    "           'budget&imdb','num_voted_users']]\n",
    "y6 = IMDB['worldwide_income'] \n",
    "stats_model6.fit(X6, y6)\n",
    "stats_model6.score(X6, y6), 1 - (1-stats_model6.score(X6, y6))*(len(y6)-1)/(len(y6)-X6.shape[1]-1)"
   ]
  },
  {
   "cell_type": "code",
   "execution_count": null,
   "id": "386cb5fe",
   "metadata": {},
   "outputs": [],
   "source": [
    "X13 = IMDB2[['budget','director_nominee','actor_nominee','actress_nominee','comedy','biography',\n",
    "           'romance','sport','thriller','crime','adventure','budget&director_nominee',\n",
    "           'budget&actor_nominee','budget&actress_nominee','budget&comedy','budget&biography',\n",
    "           'budget&romance','budget&sport','budget&thriller','budget&crime','budget&adventure','imdb_score','budget&imdb']]\n",
    "y13 = IMDB2['worldwide_income']\n",
    "IMDB2['pred_gross'] = stats_model5.predict(X13)"
   ]
  },
  {
   "cell_type": "code",
   "execution_count": null,
   "id": "d0a01faa",
   "metadata": {},
   "outputs": [],
   "source": [
    "plt.figure(figsize = (20,10));\n",
    "plt.scatter(x=IMDB2.budget, y=IMDB2.worldwide_income, s=100);\n",
    "plt.scatter(x=IMDB2.budget, y=IMDB2.pred_gross, s = 100);\n",
    "plt.ylabel('worldwide income (100 Millions)', fontsize = 20);\n",
    "plt.xlabel('Budget (100 Millions)', fontsize = 20);\n",
    "plt.title('Worldwide Income vs Budget', fontsize = 30);\n",
    "plt.legend(fontsize = 20);"
   ]
  },
  {
   "cell_type": "markdown",
   "id": "bed8a22d",
   "metadata": {},
   "source": [
    "We see a decent R^2 of .55 between test data and model"
   ]
  },
  {
   "cell_type": "code",
   "execution_count": null,
   "id": "b7a1562b",
   "metadata": {},
   "outputs": [],
   "source": [
    "plt.hist(IMDB['resid']);"
   ]
  },
  {
   "cell_type": "markdown",
   "id": "f3187fe5",
   "metadata": {},
   "source": [
    "The qq plot confirms the above"
   ]
  },
  {
   "cell_type": "code",
   "execution_count": null,
   "id": "7505f759",
   "metadata": {},
   "outputs": [],
   "source": [
    "stats.probplot(IMDB['resid'], dist=\"norm\", plot=plt);\n",
    "plt.show();"
   ]
  },
  {
   "cell_type": "markdown",
   "id": "6a7397fb",
   "metadata": {},
   "source": [
    "Run Test Train Split to look for variances in R^2"
   ]
  },
  {
   "cell_type": "code",
   "execution_count": null,
   "id": "429d445c",
   "metadata": {},
   "outputs": [],
   "source": [
    "def test_train_split(X5,y5):\n",
    "    X_train, X_test, y_train, y_test = train_test_split(X5, y5, test_size=0.3)\n",
    "    lr = LinearRegression()\n",
    "    lr.fit(X_train, y_train)\n",
    "    return lr.score(X_test, y_test), lr.score(X_train, y_train)\n",
    "\n",
    "def test_train_iterations(X5,y5,z): \n",
    "    for i in range(z):\n",
    "        print(test_train_split(X5,y5))\n",
    "\n",
    "test_train_iterations(X5,y5,10)"
   ]
  },
  {
   "cell_type": "markdown",
   "id": "df4caf7f",
   "metadata": {},
   "source": [
    "The train test splits show that there is no overfit. The only inconsistency could be attributed to outliers "
   ]
  },
  {
   "cell_type": "code",
   "execution_count": null,
   "id": "a545f390",
   "metadata": {},
   "outputs": [],
   "source": [
    "scaler = MinMaxScaler()\n",
    "X15 = scaler.fit_transform(X5)"
   ]
  },
  {
   "cell_type": "code",
   "execution_count": null,
   "id": "38f5411d",
   "metadata": {},
   "outputs": [],
   "source": [
    "X15_I = sm.tools.add_constant(X15)\n",
    "model_p15 = sm.OLS(y5, X15_I)\n",
    "model_p15.fit().summary()"
   ]
  },
  {
   "cell_type": "code",
   "execution_count": null,
   "id": "0322b8ac",
   "metadata": {},
   "outputs": [],
   "source": [
    "IMDB_log = IMDB"
   ]
  }
 ],
 "metadata": {},
 "nbformat": 4,
 "nbformat_minor": 5
}
