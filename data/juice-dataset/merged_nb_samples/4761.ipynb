{
 "cells": [
  {
   "cell_type": "markdown",
   "id": "a4376673",
   "metadata": {},
   "source": [
    "# Table of Contents\n",
    "\n",
    "1. [Custom Plotting Functions](#functions)<br>\n",
    "2. [Dataset Description](#dataset)<br>\n",
    "3. [Data Preprocessing](#preprocessing)<br>\n",
    "4. [Exploratory Data Analysis](#EDA)<br>\n",
    "5. [Logistic Regression Model](#logreg)<br>\n",
    "    5a. [Logistic Regression Observations](#logreg_obs)<br>\n",
    "6. [Support Vector Classifier](#SVC)<br>\n",
    "7. [Decision Tree Classifier](#dtree)<br>\n",
    "8. [K Nearest Neighbors Classifier](#knn)<br>\n",
    "9. [Naive Bayes Classifiers](#nbayes)<br>\n",
    "    9a. [Naive Bayes without Scaling](#nbayes_unscaled)<br>\n",
    "10. [Random Forest Classifier](#random_forest)<br>\n",
    "    10a. [Random Forest Feature Importances](#random_forest_feats)<br>\n",
    "11. [AdaBoost Classifier](#ada)<br>\n",
    "12. [Stochastic Gradient Boosting Classifier](#sgb)<br>\n",
    "13. [Neural Network](#nn) <br>\n",
    "14. [Voting Classifiers](#voting)<br>\n",
    "    14a. [Performance Summary of Prior Classifiers](#performance)<br>\n",
    "    14b. [Voting Classifier with Unscaled Data](#voting_unscaled)<br>\n",
    "    14c. [Voting Classifier with Scaled Data](#voting_scaled)<br>\n",
    "    14d. [Voting Classifier with 3 Best Classifiers](#voting_3best)<br>\n",
    "\n"
   ]
  },
  {
   "cell_type": "markdown",
   "id": "e3d44014",
   "metadata": {},
   "source": [
    "# Using Machine Learning to Identify Heart Disease \n",
    "\n",
    "[Heart Disease is the cause of 1 out of every 4 deaths in the United States](https://www.cdc.gov/heartdisease/facts.htm). Heart disease is a treatable condition, but we can only treat a condition if we can correctly diagnose the condition. \n",
    "\n",
    "In this notebook, I train and tune many of the most commonly used classifiers to survey their performance. In the process, I explore how different preprocessing steps and different sets of hyperparameters impact the performance of different classifiers and visual methods for exploring the hyperparameter spaces to get a better sense of how models react to slight variations in hyperparameters. \n",
    "\n",
    "In general, more training data will make models more accurate, but some data is very costly to acquire, so I've selected a smaller dataset to show how powerful these techniques are even with small datasets. This dataset didn't have any missing or illegal values so there was no need to delete observations or impute any values, but with sklearn's pipeline framework, adding imputation is a simple process. You can see examples of this pipeline framework below.\n",
    "\n",
    "For each of the machine learning algorithms used in this notebook, I provide a short theoretical explanation of how the algorithm works, and use that understanding to guide the classifier tuning process."
   ]
  },
  {
   "cell_type": "markdown",
   "id": "fd1cd900",
   "metadata": {},
   "source": [
    "### Random Forest Classifier <a id=\"random_forest\"></a>\n",
    "\n",
    "**Random Forest** classifiers are an extension of **Decision Tree** classifiers which produce more reliable predictions. Random Forests are an ensemble of similar decision trees, and the predictions of a random forest classifier are the most common prediction of the individual Decision Trees in that forest. As many trees are used to make the forest, we can't produce an easily interpretable tree as we did above, but we can look at the significance of each of the individual features."
   ]
  },
  {
   "cell_type": "code",
   "execution_count": null,
   "id": "a591f358",
   "metadata": {},
   "outputs": [],
   "source": [
    "steps = [('rf', RandomForestClassifier())]\n",
    "pipeline = Pipeline(steps)\n",
    "parameters = [{'rf__n_estimators':[200,300,400], \n",
    "               'rf__criterion': ['gini', 'entropy'], \n",
    "               'rf__max_features':[6,12,18], \n",
    "               'rf__max_depth': [2,5,8,11], \n",
    "               'rf__min_samples_leaf': [1,3,5]}]\n",
    "rf_gs = GridSearchCV(pipeline, parameters, cv=30, return_train_score=True, scoring='recall', n_jobs=-1, verbose=4)\n",
    "rf_gs.fit(X_train, y_train.values.reshape((y_train.size,)))"
   ]
  },
  {
   "cell_type": "code",
   "execution_count": null,
   "id": "e970cebe",
   "metadata": {},
   "outputs": [],
   "source": [
    "print(\"Best CV params\", rf_gs.best_params_)\n",
    "print('Average Accuracy of the best model: {}'.format(rf_gs.best_score_))"
   ]
  },
  {
   "cell_type": "markdown",
   "id": "cb4dd105",
   "metadata": {},
   "source": [
    "From the printout, we can see that the best model uses the following hyperparameter values:\n",
    "* Information Criterion: Gini\n",
    "* Max Depth: 11\n",
    "* Max Features: 6 \n",
    "* Min Samples Per Leaf: 3\n",
    "* Number of Trees: 200"
   ]
  },
  {
   "cell_type": "code",
   "execution_count": null,
   "id": "ab51bca8",
   "metadata": {},
   "outputs": [],
   "source": [
    "grid_clf = rf_gs\n",
    "rf_grid_dict = {'mean_train_score': grid_clf.cv_results_['mean_train_score'],\n",
    "                'mean_test_score': grid_clf.cv_results_['mean_test_score'], \n",
    "                'criterion': grid_clf.cv_results_['param_rf__criterion'], \n",
    "                'n_estimators': grid_clf.cv_results_['param_rf__n_estimators'],\n",
    "                'max_depth': grid_clf.cv_results_['param_rf__max_depth'],\n",
    "                'max_features': grid_clf.cv_results_['param_rf__max_features'],\n",
    "                'min_samples_leaf': grid_clf.cv_results_['param_rf__min_samples_leaf']} \n",
    "\n",
    "map_df = pd.DataFrame(rf_grid_dict)"
   ]
  },
  {
   "cell_type": "markdown",
   "id": "88fa14f0",
   "metadata": {},
   "source": [
    "#### Hyperparameter Performance"
   ]
  },
  {
   "cell_type": "code",
   "execution_count": null,
   "id": "f34be5ca",
   "metadata": {},
   "outputs": [],
   "source": [
    "# Looking at variation over max_depth and n_estimators \n",
    "# using the best values of max_features, min_samples_leaf, and criterion\n",
    "tmp = map_df[(map_df['criterion'] == 'gini') & \\\n",
    "             (map_df['min_samples_leaf'] == 3) & \\\n",
    "             (map_df['max_features'] == 6)]\n",
    "\n",
    "train_test_param_map(x_var_='max_depth', y_var_='n_estimators', map_df_=tmp)"
   ]
  },
  {
   "cell_type": "code",
   "execution_count": null,
   "id": "710d4638",
   "metadata": {},
   "outputs": [],
   "source": [
    "# Looking at variation over criterion and n_estimators \n",
    "# using the best values of max_features, min_samples_leaf, and max_depth\n",
    "tmp = map_df[(map_df['max_depth'] == 11) & \\\n",
    "             (map_df['min_samples_leaf'] == 3) & \\\n",
    "             (map_df['max_features'] == 6)]\n",
    "\n",
    "train_test_param_map(x_var_='criterion', y_var_='n_estimators', map_df_=tmp)"
   ]
  },
  {
   "cell_type": "code",
   "execution_count": null,
   "id": "4ef19785",
   "metadata": {},
   "outputs": [],
   "source": [
    "# Looking at variation over max_depth and max_features \n",
    "# using the best values of criterion, min_samples_leaf, and n_estimators\n",
    "tmp = map_df[(map_df['criterion'] == 'gini') & \\\n",
    "             (map_df['min_samples_leaf'] == 3) & \\\n",
    "             (map_df['n_estimators'] == 200)]\n",
    "\n",
    "train_test_param_map(x_var_='max_depth', y_var_='max_features', map_df_=tmp)"
   ]
  },
  {
   "cell_type": "code",
   "execution_count": null,
   "id": "e64bdddb",
   "metadata": {},
   "outputs": [],
   "source": [
    "# Looking at variation over max_depth and min_samples_leaf \n",
    "# using the best values of criterion, max_features, and n_estimators\n",
    "tmp = map_df[(map_df['criterion'] == 'gini') & \\\n",
    "             (map_df['max_features'] == 6) & \\\n",
    "             (map_df['n_estimators'] == 200)]\n",
    "\n",
    "train_test_param_map(x_var_='max_depth', y_var_='min_samples_leaf', map_df_=tmp)"
   ]
  },
  {
   "cell_type": "code",
   "execution_count": null,
   "id": "0d42584a",
   "metadata": {},
   "outputs": [],
   "source": [
    "print('Best accuracy: {:0.3f}%'.format(rf_gs.best_score_ * 100))\n",
    "print('Best parameter(s): {}'.format(rf_gs.best_params_))"
   ]
  },
  {
   "cell_type": "markdown",
   "id": "d397cfb3",
   "metadata": {},
   "source": [
    "The confusion matrices below are for the **Random Forest Classifier** with above parameters, was trained with **unnormalized** data, and used parameters that were selected by the **recall** scoring measure rather than simple accuracy. Over the 30 runs and over a sample of 35 people, this model labeled (on average) $3.67$ unhealthy people as being healthy, and this model labeled $3.47$ healthy.\n",
    "\n",
    "While this classifier is average among the other classifiers we've seen so far, it did perform significantly better than singular Decision Trees, which demonstrates the power of using ensembles of classifiers."
   ]
  },
  {
   "cell_type": "code",
   "execution_count": null,
   "id": "460a2504",
   "metadata": {},
   "outputs": [],
   "source": [
    "# Euclidean distance\n",
    "train_test_param_map(x_var_='weights', y_var_='n_neighbors', map_df_=map_df[map_df['metric'] == 'euclidean'])"
   ]
  },
  {
   "cell_type": "code",
   "execution_count": null,
   "id": "928ab8c0",
   "metadata": {},
   "outputs": [],
   "source": [
    "# Manhattan Distance\n",
    "train_test_param_map(x_var_='weights', y_var_='n_neighbors', map_df_=map_df[map_df['metric'] == 'manhattan'])"
   ]
  },
  {
   "cell_type": "code",
   "execution_count": null,
   "id": "c21d4f37",
   "metadata": {},
   "outputs": [],
   "source": [
    "# Chebyshev Metric\n",
    "train_test_param_map(x_var_='weights', y_var_='n_neighbors', map_df_=map_df[map_df['metric'] == 'chebyshev'])"
   ]
  },
  {
   "cell_type": "code",
   "execution_count": null,
   "id": "ae44664f",
   "metadata": {},
   "outputs": [],
   "source": [
    "x_var = map_df[map_df['metric'] == 'euclidean']\n",
    "x_var = x_var[x_var['weights'] == 'uniform']['n_neighbors']\n",
    "euclidean = map_df[map_df['metric'] == 'euclidean']\n",
    "euclidean = euclidean[euclidean['weights'] == 'uniform']\n",
    "manhattan = map_df[map_df['metric'] == 'manhattan']\n",
    "manhattan = manhattan[manhattan['weights'] == 'uniform']\n",
    "chebyshev = map_df[map_df['metric'] == 'chebyshev']\n",
    "chebyshev = chebyshev[chebyshev['weights'] == 'uniform']\n",
    "\n",
    "fig, ax = plt.subplots(figsize=(12,8))\n",
    "ax.plot(x_var, euclidean['mean_train_score'], label='Euclidean Distance Train', linewidth=3)\n",
    "ax.plot(x_var, euclidean['mean_test_score'], label='Euclidean Distance Test', linewidth=3)\n",
    "ax.plot(x_var, manhattan['mean_train_score'], label='Manhattan Distance Train', linewidth=3)\n",
    "ax.plot(x_var, manhattan['mean_test_score'], label='Manhattan Distance Test', linewidth=3)\n",
    "ax.plot(x_var, chebyshev['mean_train_score'], label='Chebyshev Distance Train', linewidth=3)\n",
    "ax.plot(x_var, chebyshev['mean_test_score'], label='Chebyshev Distance Test', linewidth=3)\n",
    "ax.legend(fontsize=14, loc='best')\n",
    "ax.set_title('Model Recall Score as a function of Number of Neighbors and Distance Metric \\n(for weights = uniform)', fontsize=16)\n",
    "ax.set_xlabel('Max Depth', fontsize=14)\n",
    "ax.set_ylabel('Recall Score', fontsize=14)\n",
    "plt.show()"
   ]
  },
  {
   "cell_type": "code",
   "execution_count": null,
   "id": "e0aa836e",
   "metadata": {},
   "outputs": [],
   "source": [
    "print('Best accuracy: {:0.3f}%'.format(knn_gs.best_score_ * 100))\n",
    "print('Best parameter(s): {}'.format(knn_gs.best_params_))"
   ]
  },
  {
   "cell_type": "markdown",
   "id": "24d6e760",
   "metadata": {},
   "source": [
    "The confusion matrices below used a **K-Nearest Neighbors Classifier** with parameters {n_neighbors = 11, weights = uniform, and distance metric = manhattan}, used  normalized data, and used parameters that were selected by the **recall** scoring measure rather than simple accuracy. Over the 30 runs and over a sample of 35 people, this model labeled (on average) $3.23$ unhealthy people as being healthy, which is better than all of the previous classifiers, and this model labeled $3.37$ healthy people as unhealthy which is better than all other classifiers that used the recall scoring measure.\n",
    "\n",
    "This is our best model so far."
   ]
  },
  {
   "cell_type": "code",
   "execution_count": null,
   "id": "a8c5a7ad",
   "metadata": {},
   "outputs": [],
   "source": [
    "cross_validated_cm_generator(clf_=knn_gs.best_estimator_, \n",
    "                             X_train_=X_train,\n",
    "                             y_train_ = y_train.values.reshape((len(y_train),)), \n",
    "                             class_labels=['No Heart Disease', 'Heart Disease'], \n",
    "                             n_splits_=5, \n",
    "                             n_reps_=6, \n",
    "                             labels=[0,1])"
   ]
  },
  {
   "cell_type": "markdown",
   "id": "06644b33",
   "metadata": {},
   "source": [
    "## Naive Bayes <a id=\"nbayes\"></a>\n",
    "\n",
    "**Bayes theorem** states that for independent events $A$ and $B$, the probability of $A$ given knowledge of $B$ is the probability of $B$ given $A$ times the probability of $A$ divided by the probability of $B$. Or stated more formally,\n",
    "\n",
    "$$P(A\\, | \\,B) = \\frac{P(B \\, | \\, A)P(A)}{P(B)}$$\n",
    "\n",
    "**Naive Bayes** classifiers make the 'naive' assumption that all features are independent and uses the values of other features to determine the class probability. While this assumption is rarely true in practice, naive Bayes classifiers are extremely quick and surprisingly accurate."
   ]
  },
  {
   "cell_type": "code",
   "execution_count": null,
   "id": "03c3759f",
   "metadata": {},
   "outputs": [],
   "source": [
    "steps = [('scaler', StandardScaler()),\n",
    "         ('bnb', BernoulliNB())]\n",
    "pipeline = Pipeline(steps)\n",
    "parameters = [{'bnb__alpha':[0.0001, 0.001, 0.01, 0.1, 1, 2, 5, 10, 100]}]\n",
    "bnb_gs = GridSearchCV(pipeline, parameters, cv=30, return_train_score=True, scoring='recall', n_jobs=-1, verbose=4)\n",
    "bnb_gs.fit(X_train, y_train.values.reshape((y_train.size,)))"
   ]
  },
  {
   "cell_type": "code",
   "execution_count": null,
   "id": "8fe50388",
   "metadata": {},
   "outputs": [],
   "source": [
    "print(\"Best CV params\", bnb_gs.best_params_)\n",
    "print('Average Accuracy of the best model: {}'.format(bnb_gs.best_score_))"
   ]
  },
  {
   "cell_type": "markdown",
   "id": "b862949b",
   "metadata": {},
   "source": [
    "From the printout, we can see that the best model uses an alpha (smoothing parameter) value of 0.0001."
   ]
  },
  {
   "cell_type": "code",
   "execution_count": null,
   "id": "d02392c3",
   "metadata": {},
   "outputs": [],
   "source": [
    "# Linear Classifiers\n",
    "from sklearn.linear_model import LogisticRegression, SGDClassifier\n",
    "from sklearn.svm import SVC, LinearSVC\n",
    "from sklearn.feature_selection import RFE"
   ]
  },
  {
   "cell_type": "code",
   "execution_count": null,
   "id": "7ebff044",
   "metadata": {},
   "outputs": [],
   "source": [
    "# Base Classifiers\n",
    "from sklearn.tree import DecisionTreeClassifier\n",
    "from sklearn.neighbors import KNeighborsClassifier\n",
    "from sklearn.naive_bayes import BernoulliNB"
   ]
  },
  {
   "cell_type": "code",
   "execution_count": null,
   "id": "9a6e2fff",
   "metadata": {},
   "outputs": [],
   "source": [
    "# Ensembles\n",
    "from sklearn.ensemble import RandomForestClassifier\n",
    "from sklearn.ensemble import AdaBoostClassifier\n",
    "from sklearn.ensemble import GradientBoostingClassifier\n",
    "from sklearn.ensemble import VotingClassifier"
   ]
  },
  {
   "cell_type": "code",
   "execution_count": null,
   "id": "aafd02cd",
   "metadata": {},
   "outputs": [],
   "source": [
    "# Neural Network\n",
    "from sklearn.neural_network import MLPClassifier"
   ]
  },
  {
   "cell_type": "code",
   "execution_count": null,
   "id": "bd2a46c7",
   "metadata": {},
   "outputs": [],
   "source": [
    "# Notebook Styling \n",
    "sns.set()\n",
    "pd.options.display.max_columns = None\n",
    "# display(HTML(\"<style>.container { width:100% !important; }</style>\"))\n",
    "# pd.set_option('display.float_format',lambda x: '%.5f' % x)\n",
    "nb_seed = 1234"
   ]
  },
  {
   "cell_type": "code",
   "execution_count": null,
   "id": "feffcadc",
   "metadata": {},
   "outputs": [],
   "source": [
    "g_cmap = sns.light_palette('seagreen', n_colors=10, as_cmap=True)"
   ]
  },
  {
   "cell_type": "markdown",
   "id": "99283c94",
   "metadata": {},
   "source": [
    "## Custom Functions <a id=\"functions\"></a>"
   ]
  },
  {
   "cell_type": "code",
   "execution_count": null,
   "id": "9df7d654",
   "metadata": {},
   "outputs": [],
   "source": [
    "RepeatedStratifiedKFold"
   ]
  },
  {
   "cell_type": "code",
   "execution_count": null,
   "id": "ce0e40f3",
   "metadata": {},
   "outputs": [],
   "source": [
    "def param_heat_mapper(ax_, df_, ind_col, val_col, col_col, base_clfname, cmap=g_cmap):\n",
    "    '''Formats a heatmap of model performance given two hyperparameters\n",
    "    \n",
    "    Args:\n",
    "        ax_:                a matplotlib axes object to plot to\n",
    "        df_:                a Pandas DataFrame containing results from GridSearch in \n",
    "                              a tidy format where column names = parameter names\n",
    "        ind_col_, col_col_: a string contaning the name of the feature to map\n",
    "        val_col:            a string contining the name of the value column to map\n",
    "        base_clfname:       a string containing a title prefix\n",
    "    '''\n",
    "    logit_piv = df_.pivot(index=ind_col, values=val_col, columns=col_col)\n",
    "    title_ = base_clfname + ' Params: ' + ind_col + ' and ' + col_col\n",
    "    with plt.style.context('seaborn-whitegrid'):\n",
    "        sns.heatmap(logit_piv, linewidths=0.0, annot=True, fmt='0.3f',\n",
    "                    ax=ax_, cmap=cmap, robust=True, annot_kws={'size':16})\n",
    "        ax_.set_title(title_, fontsize=14)\n",
    "        ax_.set_xlabel('Param: ' + col_col, fontsize=14)\n",
    "        ax_.set_ylabel('Param: ' + ind_col, fontsize=14)"
   ]
  },
  {
   "cell_type": "code",
   "execution_count": null,
   "id": "df4f38bb",
   "metadata": {},
   "outputs": [],
   "source": [
    "def train_test_param_map(x_var_, y_var_, map_df_):\n",
    "    '''Prints two heatmaps showing model performance for different hyperparameter combinations.\n",
    "    \n",
    "    Args:\n",
    "        x_var_, y_var_:   strings containing the names of the parameters to be mapped\n",
    "        map_df_:          a Pandas DataFrame containing results from GridSearch in a \n",
    "                            tidy format where column names = parameter names\n",
    "    '''\n",
    "    with plt.style.context('seaborn-whitegrid'):\n",
    "        fig, ax = plt.subplots(nrows=1, ncols=2, sharex=False, figsize=(14,6))\n",
    "        param_heat_mapper(ax[0], map_df_, y_var_, 'mean_train_score', x_var_, '[Training_Data]')\n",
    "        param_heat_mapper(ax[1], map_df_, y_var_, 'mean_test_score', x_var_, '[Testing_Data]')"
   ]
  },
  {
   "cell_type": "markdown",
   "id": "9354cab3",
   "metadata": {},
   "source": [
    "# Dataset Description <a id=\"dataset\"></a>\n",
    "\n",
    "This dataset was collected from the Cleveland Heart Disease Database and consists of 13 features for 270 patients as well as a labeled vector indicating whether specimen has heart disease or not. The 13 features (and their types) are listed and described below.\n",
    "\n",
    "Features are described here https://www.ncbi.nlm.nih.gov/pmc/articles/PMC4441402/"
   ]
  },
  {
   "cell_type": "markdown",
   "id": "c684a919",
   "metadata": {},
   "source": [
    "Attribute Information: \n",
    "------------------------ \n",
    "1. age \n",
    "2. sex \n",
    "3. chest pain type (4 values) \n",
    "4. resting blood pressure \n",
    "5. serum cholestoral in mg/dl \n",
    "6. fasting blood sugar > 120 mg/dl \n",
    "7. resting electrocardiographic results (values 0,1,2) \n",
    "8. maximum heart rate achieved \n",
    "9. exercise induced angina \n",
    "10. oldpeak = ST depression induced by exercise relative to rest \n",
    "11. the slope of the peak exercise ST segment \n",
    "12. number of major vessels (0-3) colored by flourosopy \n",
    "13. thal: 3 = normal; 6 = fixed defect; 7 = reversable defect \n",
    "\n",
    "Attributes types \n",
    "----------------- \n",
    "\n",
    "* Real: 1,4,5,8,10,12 \n",
    "* Ordered:11, \n",
    "* Binary: 2,6,9 \n",
    "* Nominal:7,3,13 "
   ]
  },
  {
   "cell_type": "markdown",
   "id": "acea971f",
   "metadata": {},
   "source": [
    "# Models <a id=\"models\"></a>\n",
    "\n",
    "Now that we've preprocessed our data and reformulated it to be suitable with sklearn's numpy framework, and explored the data to develop an intuition about the data, let's start building classifiers! "
   ]
  },
  {
   "cell_type": "markdown",
   "id": "e4a09cc6",
   "metadata": {},
   "source": [
    "## Logistic Regression <a id=\"logreg\"></a>"
   ]
  },
  {
   "cell_type": "code",
   "execution_count": null,
   "id": "e810ea43",
   "metadata": {},
   "outputs": [],
   "source": [
    "logreg = LogisticRegression()\n",
    "parameters = {'penalty':['l1','l2'],\n",
    "              'C':[0.001, 0.01, 0.1, 1, 10, 100, 1000]}\n",
    "logreg_gs = GridSearchCV(logreg, parameters, cv=30, return_train_score=True)\n",
    "logreg_gs.fit(X_train, y_train.values.reshape((y_train.size,)))\n",
    "\n",
    "print(\"Best CV params\", logreg_gs.best_params_)\n",
    "best_lr = logreg_gs.best_estimator_\n",
    "coefs = best_lr.coef_\n",
    "print(\"Total number of features:\", coefs.size)\n",
    "print('Number of selected features: {}'.format(np.count_nonzero(coefs)))"
   ]
  },
  {
   "cell_type": "code",
   "execution_count": null,
   "id": "b7f7417a",
   "metadata": {},
   "outputs": [],
   "source": [
    "grid_clf = logreg_gs\n",
    "logreg_grid_dict = {'mean_train_score': grid_clf.cv_results_['mean_train_score'],\n",
    "                    'mean_test_score': grid_clf.cv_results_['mean_test_score'], \n",
    "                    'C': grid_clf.cv_results_['param_C'], \n",
    "                    'penalty': grid_clf.cv_results_['param_penalty']} "
   ]
  },
  {
   "cell_type": "code",
   "execution_count": null,
   "id": "778e7c22",
   "metadata": {},
   "outputs": [],
   "source": [
    "train_test_param_map(x_var_='penalty', y_var_='C', map_df_=pd.DataFrame(logreg_grid_dict))"
   ]
  },
  {
   "cell_type": "code",
   "execution_count": null,
   "id": "9cfc9dfd",
   "metadata": {},
   "outputs": [],
   "source": [
    "map_df = pd.DataFrame(logreg_grid_dict)\n",
    "x_var = map_df[map_df['penalty'] == 'l1']['C']\n",
    "\n",
    "fig, ax = plt.subplots(figsize=(12,8))\n",
    "ax.semilogx(x_var, map_df[map_df['penalty'] == 'l1']['mean_train_score'], label='L1 Train')\n",
    "ax.semilogx(x_var, map_df[map_df['penalty'] == 'l1']['mean_test_score'], label='L1 Test')\n",
    "ax.semilogx(x_var, map_df[map_df['penalty'] == 'l2']['mean_train_score'], label='L2 Train')\n",
    "ax.semilogx(x_var, map_df[map_df['penalty'] == 'l2']['mean_test_score'], label='L2 Test')\n",
    "ax.legend(fontsize=14, loc='best')\n",
    "ax.set_title('Model Accuracy as a function of C and Regularization Type', fontsize=16)\n",
    "ax.set_xlabel('C (Inverse Regularization Strength)', fontsize=14)\n",
    "ax.set_ylabel('Accuracy', fontsize=14)\n",
    "plt.show()"
   ]
  },
  {
   "cell_type": "code",
   "execution_count": null,
   "id": "f18f1406",
   "metadata": {},
   "outputs": [],
   "source": [
    "print('Best accuracy: {:0.3f}%'.format(logreg_gs.best_score_ * 100))\n",
    "print('Best parameter(s): {}'.format(logreg_gs.best_params_))"
   ]
  },
  {
   "cell_type": "code",
   "execution_count": null,
   "id": "3d834614",
   "metadata": {},
   "outputs": [],
   "source": [
    "cross_validated_cm_generator(clf_=logreg_gs.best_estimator_, \n",
    "                             X_train_=X_train,\n",
    "                             y_train_ = y_train.values.reshape((len(y_train),)), \n",
    "                             class_labels=['No Heart Disease', 'Heart Disease'], \n",
    "                             n_splits_=5, \n",
    "                             n_reps_=6, \n",
    "                             labels=[0,1])"
   ]
  },
  {
   "cell_type": "markdown",
   "id": "327f6300",
   "metadata": {},
   "source": [
    "### Logistic Regression Observations <a id=\"logreg_obs\"></a>\n",
    "From the plot and printout above, we see that the highest accuracy is achieved when the parameter $C$ is set to $0.1$ and the penalty parameter is set to 'l2' (aka **Ridge Regression**). However, accuracy is a measure of how well **all** cases were classified, and the 2 different kinds of misclassifications (labeling a healthy person as unhealthy, and labeling an unhealthy person as healthy) are not equally bad. It's definitely worse to label someone as healthy if they actually have heart disease, as their heart disease would go untreated, and they may continue with an unhealthy diet or pursue dangerous activity levels. In terms of classification metrics, that kind of prediction mistake is a **False Negative**. The alternative mistake (a **False Positive**) is to label someone as unhealthy when they are actually healthy, which would lead to someone unnecessarily changing their diet and lifestyle, which would be unpleasant, but not potentially lethal, as in the other case. From the **confusion matrices** above, we see that the most 'accurate' model tends to make the worse kind of mistake.\n",
    "\n",
    "We should try to build a model again, but we should use a scoring metric that takes the cost of mistakes into account. "
   ]
  },
  {
   "cell_type": "code",
   "execution_count": null,
   "id": "5a6af6f0",
   "metadata": {},
   "outputs": [],
   "source": [
    "logreg = LogisticRegression()\n",
    "parameters = {'penalty':['l1','l2'],\n",
    "              'C':[0.001, 0.01, 0.1, 1, 10, 100, 1000]}\n",
    "logreg_gs = GridSearchCV(logreg, parameters, cv=30, return_train_score=True, scoring='recall')\n",
    "logreg_gs.fit(X_train, y_train.values.reshape((y_train.size,)))\n",
    "\n",
    "print(\"Best CV params\", logreg_gs.best_params_)\n",
    "best_lr = logreg_gs.best_estimator_\n",
    "coefs = best_lr.coef_\n",
    "print('Total number of features: {}'.format(coefs.size))\n",
    "print('Number of selected features: {}'.format(np.count_nonzero(coefs)))\n",
    "print('Average Accuracy of the best model: {}'.format(logreg_gs.best_score_))"
   ]
  },
  {
   "cell_type": "markdown",
   "id": "bc47edc1",
   "metadata": {},
   "source": [
    "This time, the number of significant features is less than the total number of features, so I'll recursively eliminate unimportant features."
   ]
  },
  {
   "cell_type": "markdown",
   "id": "e4af7216",
   "metadata": {},
   "source": [
    "## Support Vector Classifiers <a id=\"SVC\"></a>\n",
    "\n",
    "Support Vector classifiers are another linear classifier (ie another classifier which uses a linear combination of feature weights), except SVCs are able to produce a much more sophisticated decision boundary. This time, I'll start off using a pipeline and normalizing features."
   ]
  },
  {
   "cell_type": "code",
   "execution_count": null,
   "id": "d4bb7a4b",
   "metadata": {},
   "outputs": [],
   "source": [
    "steps = [('scaler', StandardScaler()),\n",
    "         ('svm', SVC())]\n",
    "pipeline = Pipeline(steps)\n",
    "parameters = [{'svm__kernel':['rbf', 'poly', 'sigmoid'],\n",
    "               'svm__C':[0.0001, 0.001, 0.01, 0.1, 1, 10, 100, 1000, 10000], \n",
    "               'svm__gamma':[0.001, 0.005, 0.01, 0.05, 0.1]}]\n",
    "svm_gs = GridSearchCV(pipeline, parameters, cv=30, return_train_score=True, scoring='recall', n_jobs=-1, verbose=4)\n",
    "svm_gs.fit(X_train, y_train.values.reshape((y_train.size,)))"
   ]
  },
  {
   "cell_type": "code",
   "execution_count": null,
   "id": "ae5c65b0",
   "metadata": {},
   "outputs": [],
   "source": [
    "print(\"Best CV params\", svm_gs.best_params_)\n",
    "print('Average Accuracy of the best model: {}'.format(svm_gs.best_score_))"
   ]
  },
  {
   "cell_type": "markdown",
   "id": "cf4c5e8c",
   "metadata": {},
   "source": [
    "From the printout, we can see that the best model uses the 'rbf' kernel (Radial Basis Function) and hyperparamaters $C = 100$ and $\\gamma \\text{ (gamma)} = 0.01$ "
   ]
  },
  {
   "cell_type": "code",
   "execution_count": null,
   "id": "cc3d7dee",
   "metadata": {},
   "outputs": [],
   "source": [
    "grid_clf = svm_gs\n",
    "svm_grid_dict = {'mean_train_score': grid_clf.cv_results_['mean_train_score'],\n",
    "                    'mean_test_score': grid_clf.cv_results_['mean_test_score'], \n",
    "                    'kernel': grid_clf.cv_results_['param_svm__kernel'],\n",
    "                    'C': grid_clf.cv_results_['param_svm__C'], \n",
    "                    'gamma': grid_clf.cv_results_['param_svm__gamma']} \n",
    "\n",
    "map_df = pd.DataFrame(svm_grid_dict)"
   ]
  },
  {
   "cell_type": "code",
   "execution_count": null,
   "id": "3d2a488e",
   "metadata": {},
   "outputs": [],
   "source": [
    "train_test_param_map(x_var_='gamma', y_var_='C', map_df_=map_df[map_df['kernel'] == 'rbf'])"
   ]
  },
  {
   "cell_type": "code",
   "execution_count": null,
   "id": "ab6f0919",
   "metadata": {},
   "outputs": [],
   "source": [
    "# Sigmoid SVC results\n",
    "train_test_param_map(x_var_='gamma', y_var_='C', map_df_=map_df[map_df['kernel'] == 'sigmoid'])"
   ]
  },
  {
   "cell_type": "code",
   "execution_count": null,
   "id": "a3eb732b",
   "metadata": {},
   "outputs": [],
   "source": [
    "# Polynomial SVC results\n",
    "train_test_param_map(x_var_='gamma', y_var_='C', map_df_=map_df[map_df['kernel'] == 'poly'])"
   ]
  },
  {
   "cell_type": "code",
   "execution_count": null,
   "id": "be4cf917",
   "metadata": {},
   "outputs": [],
   "source": [
    "x_var = map_df[map_df['kernel'] == 'rbf']\n",
    "x_var = x_var[x_var['gamma'] == 0.005]['C']\n",
    "rbf = map_df[map_df['kernel'] == 'rbf']\n",
    "rbf = rbf[rbf['gamma'] == 0.005]\n",
    "poly = map_df[map_df['kernel'] == 'poly']\n",
    "poly = poly[poly['gamma'] == 0.005]\n",
    "sigmoid = map_df[map_df['kernel'] == 'sigmoid']\n",
    "sigmoid = sigmoid[sigmoid['gamma'] == 0.005]\n",
    "\n",
    "fig, ax = plt.subplots(figsize=(12,8))\n",
    "ax.semilogx(x_var, rbf['mean_train_score'], label='rbf Train', linewidth=3)\n",
    "ax.semilogx(x_var, rbf['mean_test_score'], label='rbf Test', linewidth=3)\n",
    "ax.semilogx(x_var, poly['mean_train_score'], label='poly Train', linewidth=3)\n",
    "ax.semilogx(x_var, poly['mean_test_score'], label='poly Test', linewidth=3)\n",
    "ax.semilogx(x_var, sigmoid['mean_train_score'], label='sigmoid Train', linewidth=3)\n",
    "ax.semilogx(x_var, sigmoid['mean_test_score'], label='sigmoid Test', linewidth=3)\n",
    "ax.legend(fontsize=14, loc='best')\n",
    "ax.set_title('Model Recall Score as a function of C and Regularization Type (for gamma = 0.005)', fontsize=16)\n",
    "ax.set_xlabel('C (Inverse Regularization Strength)', fontsize=14)\n",
    "ax.set_ylabel('Recall Score', fontsize=14)\n",
    "plt.show()"
   ]
  },
  {
   "cell_type": "code",
   "execution_count": null,
   "id": "aa3c98f4",
   "metadata": {},
   "outputs": [],
   "source": [
    "print('Best accuracy: {:0.3f}%'.format(svm_gs.best_score_ * 100))\n",
    "print('Best parameter(s): {}'.format(svm_gs.best_params_))"
   ]
  },
  {
   "cell_type": "markdown",
   "id": "85d75fbc",
   "metadata": {},
   "source": [
    "The confusion matrices below used a **Support Vector Classifier** with parameters {$C = 100$, kernel $= \\text{rbf}$, and $\\gamma = 0.01$}, used normalized data, and used parameters that were selected by the **recall** scoring measure rather than simple accuracy. Over the 30 runs and over a sample of 35 people, this model labeled (on average) $3.97$ unhealthy people as being healthy, which is slightly worse than the best logistic regression classifier above, and this model labeled $4.17$ healthy people as unhealthy which is slightly worse than the best logistic regression model.\n",
    "\n",
    "This is a not an improvement on our best model."
   ]
  },
  {
   "cell_type": "code",
   "execution_count": null,
   "id": "f0546bed",
   "metadata": {},
   "outputs": [],
   "source": [
    "val_map = {0: 'false', 1: 'true'}\n",
    "print('Before mapping: {}'.format(X_train['exercise_induced_angina'].unique()))\n",
    "X_train['exercise_induced_angina'] = X_train['exercise_induced_angina'].map(val_map)\n",
    "print('After mapping: {}'.format(X_train['exercise_induced_angina'].unique()))"
   ]
  },
  {
   "cell_type": "markdown",
   "id": "d39bca39",
   "metadata": {},
   "source": [
    "## Exploratory Data Analysis <a id=\"EDA\"></a>\n",
    "Before creating dummy variables (and increasing the number of features), we should examine the data."
   ]
  },
  {
   "cell_type": "code",
   "execution_count": null,
   "id": "56b03e66",
   "metadata": {},
   "outputs": [],
   "source": [
    "# Joining the labeled output with the features, for plotting\n",
    "train_df = y_train.join(X_train)"
   ]
  },
  {
   "cell_type": "code",
   "execution_count": null,
   "id": "ec0060be",
   "metadata": {},
   "outputs": [],
   "source": [
    "train_df.head()"
   ]
  },
  {
   "cell_type": "markdown",
   "id": "8f024ef7",
   "metadata": {},
   "source": [
    "**As we'll be plotting some categorical features, I'll set an appropriate palette.**"
   ]
  },
  {
   "cell_type": "code",
   "execution_count": null,
   "id": "0d245af5",
   "metadata": {},
   "outputs": [],
   "source": [
    "colors = ['#66c2a5', '#fc8d62', '#8da0cb']\n",
    "cat_palette = sns.color_palette(['#66c2a5', '#fc8d62', '#8da0cb'])\n",
    "sns.palplot(cat_palette)"
   ]
  },
  {
   "cell_type": "markdown",
   "id": "6a9089bf",
   "metadata": {},
   "source": [
    "**From the frequency plot of heart disease below, we see that the two classes ('Heart Disease' and 'No Heart Disease') are approximately balanced, with 45% of observations having heart disease and the remaining population not having heart disease. **"
   ]
  },
  {
   "cell_type": "code",
   "execution_count": null,
   "id": "35b56ec1",
   "metadata": {},
   "outputs": [],
   "source": [
    "fig, ax = plt.subplots(figsize=(8,6))\n",
    "sns.countplot(data=train_df, x='heart_disease_present', palette=cat_palette, ax=ax)\n",
    "ax.set_title('Distribution of Heart Disease', fontsize=16)\n",
    "ax.set_xlabel('Heart Disease', fontsize=14)\n",
    "ax.set_xticklabels(['No Heart Disease', 'Heart Disease'], fontsize=12)\n",
    "ax.set_ylabel('Count', fontsize=14)\n",
    "ax.set_ylim([0,105])\n",
    "plt.show()"
   ]
  },
  {
   "cell_type": "code",
   "execution_count": null,
   "id": "be3d3189",
   "metadata": {},
   "outputs": [],
   "source": [
    "with sns.axes_style(\"whitegrid\"):\n",
    "    plt.rcParams[\"axes.labelsize\"] = 14\n",
    "    sns.pairplot(train_df, \n",
    "                 vars=['num_major_vessels', 'serum_cholesterol_mg_per_dl', 'age', \n",
    "                       'resting_blood_pressure', 'max_heart_rate_achieved'], \n",
    "                 kind='reg',\n",
    "                 diag_kind='kde',\n",
    "                 hue='heart_disease_present',\n",
    "                 diag_kws={'shade':True},\n",
    "                 palette=cat_palette, \n",
    "                 size=3)"
   ]
  },
  {
   "cell_type": "markdown",
   "id": "b640ed45",
   "metadata": {},
   "source": [
    "**I've plotted all of the numerical features in the pairplot above, and I've colored the data by the 'heart_disease_present' label. The off-diagonal scatter plots include regression lines to show the trends for both populations relative to that plot's features, and the diagonal shows kernel density plots showing the rough distributions of the two populations.**\n",
    "\n",
    "We can make a couple observations:\n",
    "* From the plot of resting blood pressure as a function of age, we see that resting blood pressure tends to increase with age regardless of heart disease.\n",
    "* From the plot of max heart rate as a function of age, we see that max heart rates are significantly lower for people without heart disease. \n",
    "* From the plot of 'serum cholesterol' (colloquially 'cholesterol levels'), we see that cholesterol levels increase with age regardless of heart disease.\n",
    "* From the distribution plot of resting blood pressure, we see nearly perfect overlap of the distributions, indicating that feature probably won't be useful in discriminating between healthy and unhealthy cases."
   ]
  },
  {
   "cell_type": "code",
   "execution_count": null,
   "id": "7a7be49d",
   "metadata": {},
   "outputs": [],
   "source": [
    "fig, ax = plt.subplots(nrows=1, ncols=2, sharey=True, sharex=True, figsize=(14,6))\n",
    "train_df[train_df['heart_disease_present']==0]['age'].plot(kind='hist', color=colors[0], ax=ax[0])\n",
    "train_df[train_df['heart_disease_present']==1]['age'].plot(kind='hist', color=colors[1], ax=ax[1])\n",
    "ax[0].set_xlabel('Age', fontsize=14)\n",
    "ax[1].set_xlabel('Age', fontsize=14)\n",
    "ax[0].set_title('Age Distribution (No Heart Disease)', fontsize=14)\n",
    "ax[1].set_title('Age Distribution (Heart Disease)', fontsize=14)\n",
    "plt.show()"
   ]
  },
  {
   "cell_type": "markdown",
   "id": "c1620eb4",
   "metadata": {},
   "source": [
    "From the distributions of age plots, we see a fair amount of overlap, but the distribution of people with heart disease skews a little bit older than those without heart disease. This is intuitive."
   ]
  },
  {
   "cell_type": "code",
   "execution_count": null,
   "id": "12399a3e",
   "metadata": {},
   "outputs": [],
   "source": [
    "cross_validated_cm_generator(clf_=rf_gs.best_estimator_, \n",
    "                             X_train_=X_train,\n",
    "                             y_train_ = y_train.values.reshape((len(y_train),)), \n",
    "                             class_labels=['No Heart Disease', 'Heart Disease'], \n",
    "                             n_splits_=5, \n",
    "                             n_reps_=6, \n",
    "                             labels=[0,1])"
   ]
  },
  {
   "cell_type": "code",
   "execution_count": null,
   "id": "b4a784db",
   "metadata": {},
   "outputs": [],
   "source": [
    "rf_best = RandomForestClassifier(criterion='gini', max_depth=11, max_features=6, min_samples_leaf=3, n_estimators=200)\n",
    "rf_best.fit(X_train, y_train)"
   ]
  },
  {
   "cell_type": "markdown",
   "id": "a5746561",
   "metadata": {},
   "source": [
    "#### Random Forest Feature Importances  <a id=\"random_forest_feats\"></a>\n",
    "\n",
    "While the best Random Forest Classifier had slightly sub-par overall performance, it does allow us to see how significant features were in the predictions it generated. As the model was rather accurate (>80%), we can be confident that these features importances will be reasonably representative of the true feature importances. \n",
    "\n",
    "In making dummy variables, I had to drop one column per feature as a full set of columns would always have a redundant column (details: if 1 column had 3 unique values, it would require 1 new column for each unique variable. If, for any given observation, 2 of those columns both contained zeros, then we would know the last column contained a 1, or if either of the first 2 columns contained a 1, we would know the last column contained a 0. Essentially, one column would always be redundant and for linear algebra reasons, could distort results). Consequently, having all but one of the columns from a feature could indicate that the missing feature is the significant one. I suspect that may be the case with the thalium stress test features, as all two remaining thalium stress test features are important. \n",
    "\n",
    "We also see that oldpeak_eq_st_depression (the ST depression in an EKG reading observed after exercise) is significant, as well as the number of major blood vessels colored by fluoroscopy (an indicator of ischemic insufficiency), max heart rate, exercise induced angina, cholesterol level, and age are also fairly significant, with importance dwindling after this point. "
   ]
  },
  {
   "cell_type": "code",
   "execution_count": null,
   "id": "7cd51c8d",
   "metadata": {},
   "outputs": [],
   "source": [
    "logreg = LogisticRegression(C=1, penalty='l1')\n",
    "logreg_rfe = RFE(logreg, 13)\n",
    "logreg_rfe.fit(X_train, y_train.values.reshape((len(y_train), )))\n",
    "print(logreg_rfe.support_)\n",
    "print(logreg_rfe.ranking_)"
   ]
  },
  {
   "cell_type": "code",
   "execution_count": null,
   "id": "b61c8495",
   "metadata": {},
   "outputs": [],
   "source": [
    "X_train.loc[:,logreg_rfe.support_].columns.tolist()"
   ]
  },
  {
   "cell_type": "code",
   "execution_count": null,
   "id": "118f0f81",
   "metadata": {},
   "outputs": [],
   "source": [
    "logreg = LogisticRegression()\n",
    "parameters = {'penalty':['l1','l2'],\n",
    "              'C':[0.001, 0.01, 0.1, 1, 10, 100, 1000]}\n",
    "logreg_gs = GridSearchCV(logreg, parameters, cv=30, return_train_score=True, scoring='recall')\n",
    "logreg_gs.fit(X_train.loc[:,logreg_rfe.support_], y_train.values.reshape((y_train.size,)))\n",
    "\n",
    "print(\"Best CV params\", logreg_gs.best_params_)\n",
    "best_lr = logreg_gs.best_estimator_\n",
    "coefs = best_lr.coef_\n",
    "print('Total number of features: {}'.format(coefs.size))\n",
    "print('Number of selected features: {}'.format(np.count_nonzero(coefs)))\n",
    "print('Average Accuracy of the best model: {}'.format(logreg_gs.best_score_))"
   ]
  },
  {
   "cell_type": "markdown",
   "id": "357407a4",
   "metadata": {},
   "source": [
    "Ok, so we can see that the l1 logistic regression (aka **Lasso Regression**) was smart enough to assign 0 importance to features below the significance threshold.  "
   ]
  },
  {
   "cell_type": "markdown",
   "id": "44380db6",
   "metadata": {},
   "source": [
    "### AdaBoost Classifier <a id=\"ada\"></a>\n",
    "\n",
    "Up to this point, all of the ensemble classifiers we've trained have generated a lot of models in parallel and polled the individual models to generate predictions. The **AdaBoost** classifier introduce the concept of **learner strength**. The previous classifiers are **strong learners** that quickly learn the bias of the data. The AdaBoost classifier, in contrast, generates an ensemble of **weak learners** that only perform slightly better than random (50/50), but the output from an AdaBoost classifier is then passed as input into the AdaBoost classifier, and this process repeats and ever iteration, the AdaBoost classifier adjusts the weighting for the ensemble elements that misclassified observations. After $n$ iterations, the classifier is well tuned and can perform comparably to other classifiers. \n",
    "\n",
    "Because AdaBoost classifiers require sequential improvement, they can't be parallelized in the way that strong learner classifiers can be parallelized. "
   ]
  },
  {
   "cell_type": "code",
   "execution_count": null,
   "id": "05637518",
   "metadata": {},
   "outputs": [],
   "source": [
    "dt = DecisionTreeClassifier()\n",
    "bnb = BernoulliNB()\n",
    "steps = [('ada', AdaBoostClassifier())]\n",
    "pipeline = Pipeline(steps)\n",
    "parameters = [{'ada__base_estimator':[dt, bnb], \n",
    "               'ada__n_estimators': [100,200,300], \n",
    "               'ada__learning_rate':[0.1, 0.2, 0.3, 0.4, 0.5, 0.6], \n",
    "               'ada__algorithm': ['SAMME.R']}]\n",
    "ada_gs = GridSearchCV(pipeline, parameters, cv=30, return_train_score=True, scoring='recall', n_jobs=-1, verbose=4)\n",
    "ada_gs.fit(X_train, y_train.values.reshape((y_train.size,)))"
   ]
  },
  {
   "cell_type": "code",
   "execution_count": null,
   "id": "668824f5",
   "metadata": {},
   "outputs": [],
   "source": [
    "print(\"Best CV params\", ada_gs.best_params_)\n",
    "print('Average Accuracy of the best model: {}'.format(ada_gs.best_score_))"
   ]
  },
  {
   "cell_type": "markdown",
   "id": "9e06e058",
   "metadata": {},
   "source": [
    "From the printout, we can see that the best model uses the following hyperparameter values:\n",
    "* Algorithm: SAMME.R\n",
    "* Base Estimator: Naive Bayes (Bernoulli Implementation)\n",
    "* Learning Rate: 0.1\n",
    "* Number of Models: 30"
   ]
  },
  {
   "cell_type": "code",
   "execution_count": null,
   "id": "41a42455",
   "metadata": {},
   "outputs": [],
   "source": [
    "grid_clf = ada_gs\n",
    "ada_grid_dict = {'mean_train_score': grid_clf.cv_results_['mean_train_score'],\n",
    "                'mean_test_score': grid_clf.cv_results_['mean_test_score'], \n",
    "                'estimator': grid_clf.cv_results_['param_ada__base_estimator'], \n",
    "                'n_estimators': grid_clf.cv_results_['param_ada__n_estimators'],\n",
    "                'learning_rate': grid_clf.cv_results_['param_ada__learning_rate']} \n",
    "\n",
    "map_df = pd.DataFrame(ada_grid_dict)"
   ]
  },
  {
   "cell_type": "code",
   "execution_count": null,
   "id": "81c04af0",
   "metadata": {},
   "outputs": [],
   "source": [
    "# Looking at variation over learning_rate and n_estimators with a Naive Bayes base_estimator\n",
    "tmp = map_df[(map_df['estimator'] == bnb)]\n",
    "\n",
    "train_test_param_map(x_var_='n_estimators', y_var_='learning_rate', map_df_=tmp)"
   ]
  },
  {
   "cell_type": "code",
   "execution_count": null,
   "id": "468b9c82",
   "metadata": {},
   "outputs": [],
   "source": [
    "# Looking at variation over learning_rate and n_estimators with a Decision Tree base_estimator\n",
    "tmp = map_df[(map_df['estimator'] == dt)]\n",
    "\n",
    "train_test_param_map(x_var_='n_estimators', y_var_='learning_rate', map_df_=tmp)"
   ]
  },
  {
   "cell_type": "markdown",
   "id": "3953df7f",
   "metadata": {},
   "source": [
    "When Decision Trees were used as the base estimator, we see that AdaBoost was able to tune the weights on the training set to adjust weights to completely fit the training data, but it did not generalize very well to the testing data. This is an extreme example of overfitting. "
   ]
  },
  {
   "cell_type": "code",
   "execution_count": null,
   "id": "c694b5db",
   "metadata": {},
   "outputs": [],
   "source": [
    "x_var = map_df[(map_df['estimator'] == bnb) & (map_df['n_estimators'] == 200)]['learning_rate']\n",
    "ada_bnb = map_df[(map_df['estimator'] == bnb) & (map_df['n_estimators'] == 200)]\n",
    "dt_bnb = map_df[(map_df['estimator'] == dt) & (map_df['n_estimators'] == 200)]\n",
    "\n",
    "fig, ax = plt.subplots(figsize=(12,8))\n",
    "ax.plot(x_var, ada_bnb['mean_train_score'], label='Ada NBayes Train', linewidth=3)\n",
    "ax.plot(x_var, ada_bnb['mean_test_score'], label='Ada NBayes Test', linewidth=3)\n",
    "ax.plot(x_var, dt_bnb['mean_train_score'], label='Ada DTree Train', linewidth=3)\n",
    "ax.plot(x_var, dt_bnb['mean_test_score'], label='Ada DTree Test', linewidth=3)\n",
    "ax.legend(fontsize=14, loc='best')\n",
    "ax.set_title('AdaBoost Recall Score as a function of Base Estimator and Learning Rate)', fontsize=16)\n",
    "ax.set_xlabel('Learning Rate', fontsize=14)\n",
    "ax.set_ylabel('Recall Score', fontsize=14)\n",
    "plt.show()"
   ]
  },
  {
   "cell_type": "code",
   "execution_count": null,
   "id": "98eb9117",
   "metadata": {},
   "outputs": [],
   "source": [
    "print('Best accuracy: {:0.3f}%'.format(ada_gs.best_score_ * 100))\n",
    "print('Best parameter(s): {}'.format(ada_gs.best_params_))"
   ]
  },
  {
   "cell_type": "markdown",
   "id": "88ceaceb",
   "metadata": {},
   "source": [
    "The confusion matrices below are for the **AdaBoost Classifier** with above parameters, was trained with **unnormalized** data, and used parameters that were selected by the **recall** scoring measure rather than simple accuracy. Over the 30 runs and over a sample of 35 people, this model labeled (on average) $3.03$ unhealthy people as being healthy, and this model labeled $2.97$ healthy as unhealthy.\n",
    "\n",
    "This is our best model up to this point."
   ]
  },
  {
   "cell_type": "code",
   "execution_count": null,
   "id": "bcabce6b",
   "metadata": {},
   "outputs": [],
   "source": [
    "fig, ax = plt.subplots(figsize=(8,6))\n",
    "sns.countplot(data=train_df, x='fasting_blood_sugar_gt_120_mg_per_dl', hue='heart_disease_present', palette=cat_palette, ax=ax)\n",
    "ax.set_title('Fasting Blood Sugar Level > 120 mg per deciliter', fontsize=16)\n",
    "ax.set_xlabel('EKG Result', fontsize=14)\n",
    "ax.set_xticklabels(['False', 'True'], fontsize=12)\n",
    "ax.set_ylabel('Count', fontsize=14)\n",
    "ax.set_ylim([0,100])\n",
    "plt.show()"
   ]
  },
  {
   "cell_type": "markdown",
   "id": "6b51eaa7",
   "metadata": {},
   "source": [
    "Looking at the histogram of fasting blood sugar levels relative to 120 mg per deciliter, we see that the relative distributions are approximately equal. There may be other interactions with other features that allow models to use this value to discriminate between those with and without heart disease, but at this point, this evidence implies fasting blood sugar levels aren't a significant predictor of heart disease."
   ]
  },
  {
   "cell_type": "code",
   "execution_count": null,
   "id": "6dd00065",
   "metadata": {},
   "outputs": [],
   "source": [
    "fig, ax = plt.subplots(nrows=3, ncols=1, sharex=True, figsize=(8,9))\n",
    "sns.boxplot(data=train_df, \n",
    "            y='exercise_induced_angina', \n",
    "            x='max_heart_rate_achieved', \n",
    "            hue='heart_disease_present', \n",
    "            palette=cat_palette,\n",
    "            ax=ax[0])\n",
    "handles, _ = ax[0].get_legend_handles_labels()\n",
    "ax[0].legend(handles, ['No Heart Disease','Heart Diseasee'], loc='best')\n",
    "ax[2].set_xlabel('Max Heart Rate Achieved [bpm]', fontsize=14)\n",
    "ax[0].set_ylabel('Exercise Induced Angina', fontsize=14)\n",
    "\n",
    "sns.boxplot(data=train_df, \n",
    "            y='sex', \n",
    "            x='max_heart_rate_achieved', \n",
    "            hue='heart_disease_present', \n",
    "            palette=cat_palette,\n",
    "            ax=ax[1])\n",
    "handles, _ = ax[1].get_legend_handles_labels()\n",
    "ax[1].legend(handles, ['No Heart Disease','Heart Diseasee'], loc='best')\n",
    "ax[1].set_ylabel('Gender', fontsize=14)\n",
    "\n",
    "sns.boxplot(data=train_df, \n",
    "            y='fasting_blood_sugar_gt_120_mg_per_dl', \n",
    "            x='max_heart_rate_achieved', \n",
    "            hue='heart_disease_present', \n",
    "            palette=cat_palette,\n",
    "            ax=ax[2])\n",
    "handles, _ = ax[2].get_legend_handles_labels()\n",
    "ax[2].legend(handles, ['No Heart Disease','Heart Diseasee'], loc='best')\n",
    "ax[2].set_ylabel('Fasting Blood Sugar > 120 mg/dl', fontsize=14)\n",
    "plt.show()"
   ]
  },
  {
   "cell_type": "markdown",
   "id": "d488a6d5",
   "metadata": {},
   "source": [
    "Looking at the boxplots above we see for all three y-axis features, people with heart disease tend to achieve a lower max heart rate than those without heart disease. This makes intuitive sense, as max heart rate is an intuitive indicator of cardiac performance, and it makes sense that heart disease would reduce performance. In the boxplot broken down by gender, from the interquartile ranges, we see that healthy men and women achieve similar max heart rates, and for both genders, there is relatively little overlap between healthy and unhealthy populations."
   ]
  },
  {
   "cell_type": "code",
   "execution_count": null,
   "id": "baadb0f0",
   "metadata": {},
   "outputs": [],
   "source": [
    "fig, ax = plt.subplots(nrows=3, ncols=1, sharex=True, figsize=(8,10))\n",
    "sns.boxplot(data=train_df, \n",
    "            y='slope_of_peak_exercise_st_segment', \n",
    "            x='max_heart_rate_achieved', \n",
    "            hue='heart_disease_present', \n",
    "            palette=cat_palette,\n",
    "            ax=ax[0])\n",
    "handles, _ = ax[0].get_legend_handles_labels()\n",
    "ax[0].legend(handles, ['No Heart Disease','Heart Diseasee'], loc='best')\n",
    "ax[2].set_xlabel('Max Heart Rate Achieved [bpm]', fontsize=14)\n",
    "ax[0].set_ylabel('Peak Exercise ST Segment Slope', fontsize=14)\n",
    "\n",
    "sns.boxplot(data=train_df, \n",
    "            y='thal', \n",
    "            x='max_heart_rate_achieved', \n",
    "            hue='heart_disease_present', \n",
    "            palette=cat_palette,\n",
    "            ax=ax[1])\n",
    "handles, _ = ax[1].get_legend_handles_labels()\n",
    "ax[1].legend(handles, ['No Heart Disease','Heart Diseasee'], loc='best')\n",
    "ax[1].set_ylabel('Thalium Stress Test Results ', fontsize=14)\n",
    "\n",
    "sns.boxplot(data=train_df, \n",
    "            y='chest_pain_type', \n",
    "            x='max_heart_rate_achieved', \n",
    "            hue='heart_disease_present', \n",
    "            palette=cat_palette,\n",
    "            ax=ax[2])\n",
    "handles, _ = ax[2].get_legend_handles_labels()\n",
    "ax[2].legend(handles, ['No Heart Disease','Heart Diseasee'], loc='best')\n",
    "ax[2].set_ylabel('Chest Pain Type ', fontsize=14)\n",
    "plt.show()"
   ]
  },
  {
   "cell_type": "markdown",
   "id": "4d23a69d",
   "metadata": {},
   "source": [
    "From the peak exercise ST segment slope, we see for downsloping cases that there's no overlap between interquartile ranges, so these should be easy cases to classify. There's moderate overlap between healthy and unhealthy populatons for flat and upsloping cases, so max heart rate will be less useful in separating healthy and unhealthy cases.\n",
    "\n",
    "From the thalium stress test boxplot, we see that the median max heart rate for people with heart disease is less than the lower quartile max heart rate for people without disease. We also see for fixed_defect cases that there is no overlap between the interquartile ranges, so these should be easy samples for classifiers to distinguish. The thalium stress test features (relative to max heart rate) are probably going to be significant factors in classifying new examples.\n",
    "\n",
    "From the chest pain type boxplot, we see for atypical angina and non angina cases, there's almost no overlap between the interquartile ranges. These cases will probably be easy to classify."
   ]
  },
  {
   "cell_type": "code",
   "execution_count": null,
   "id": "90d6d346",
   "metadata": {},
   "outputs": [],
   "source": [
    "X_train = pd.get_dummies(X_train, drop_first=True)\n",
    "X_test = pd.get_dummies(X_test, drop_first=True)"
   ]
  },
  {
   "cell_type": "markdown",
   "id": "cbb8d908",
   "metadata": {},
   "source": [
    "The confusion matrices directly below as well as the confusion matrices a bit further up were made by fitting classifiers with 30 different slices of the data and generating a confusion matrix for each data slice. The confusion matrices below used a classifier with parameters {$C = 1$, penalty $= \\text{L2}$}, only used the 13 features that the recursive feature elimination found to be significant, and used parameters that were selected by the **recall** scoring measure rather than simple accuracy. Over the 30 runs and over a sample of 35 people, this model labeled (on average) $3.30$ unhealthy people as being healthy, which is slightly better than the above model, which labeled $3.67$ unhealthy people as healthy, and this model labeled $1.93$ healthy people as unhealthy while the above model labeled $1.97$ healthy people as unhealthy.\n",
    "\n",
    "This is an improvement."
   ]
  },
  {
   "cell_type": "code",
   "execution_count": null,
   "id": "fa0a4dd0",
   "metadata": {},
   "outputs": [],
   "source": [
    "cross_validated_cm_generator(clf_=logreg_gs.best_estimator_, \n",
    "                             X_train_=X_train.loc[:,logreg_rfe.support_],\n",
    "                             y_train_ = y_train.values.reshape((len(y_train),)), \n",
    "                             class_labels=['No Heart Disease', 'Heart Disease'], \n",
    "                             n_splits_=5, \n",
    "                             n_reps_=6, \n",
    "                             labels=[0,1])"
   ]
  },
  {
   "cell_type": "markdown",
   "id": "b1f29312",
   "metadata": {},
   "source": [
    "### Normalizing Feature Values (Pipeline Example)"
   ]
  },
  {
   "cell_type": "markdown",
   "id": "5b7b13bd",
   "metadata": {},
   "source": [
    "In the previous models, I didn't normalize the data to a consistent scale. This means features that had a very small unit size may have a high nominal value, which can mislead some learning algorithms into overestimating the significance of that feature. In this model, I'll try scaling the features and I'll revert to using the full set of training features. "
   ]
  },
  {
   "cell_type": "code",
   "execution_count": null,
   "id": "08e0e9d4",
   "metadata": {},
   "outputs": [],
   "source": [
    "steps = [('scaler', StandardScaler()),\n",
    "         ('logreg', LogisticRegression())]\n",
    "pipeline = Pipeline(steps)\n",
    "parameters = {'logreg__penalty':['l1','l2'],\n",
    "              'logreg__C':[0.0001, 0.001, 0.01, 0.1, 1, 10, 100, 1000]}\n",
    "logreg_gs = GridSearchCV(pipeline, parameters, cv=30, return_train_score=True, scoring='recall')\n",
    "logreg_gs.fit(X_train, y_train.values.reshape((y_train.size,)))\n",
    "\n",
    "print(\"Best CV params\", logreg_gs.best_params_)\n",
    "print('Average Accuracy of the best model: {}'.format(logreg_gs.best_score_))"
   ]
  },
  {
   "cell_type": "code",
   "execution_count": null,
   "id": "abe16a3b",
   "metadata": {},
   "outputs": [],
   "source": [
    "grid_clf = logreg_gs\n",
    "logreg_grid_dict = {'mean_train_score': grid_clf.cv_results_['mean_train_score'],\n",
    "                    'mean_test_score': grid_clf.cv_results_['mean_test_score'], \n",
    "                    'C': grid_clf.cv_results_['param_logreg__C'], \n",
    "                    'penalty': grid_clf.cv_results_['param_logreg__penalty']} "
   ]
  },
  {
   "cell_type": "code",
   "execution_count": null,
   "id": "426056ce",
   "metadata": {},
   "outputs": [],
   "source": [
    "map_df = pd.DataFrame(logreg_grid_dict)\n",
    "x_var = map_df[map_df['penalty'] == 'l1']['C']\n",
    "\n",
    "fig, ax = plt.subplots(figsize=(12,8))\n",
    "ax.semilogx(x_var, map_df[map_df['penalty'] == 'l1']['mean_train_score'], label='L1 Train')\n",
    "ax.semilogx(x_var, map_df[map_df['penalty'] == 'l1']['mean_test_score'], label='L1 Test')\n",
    "ax.semilogx(x_var, map_df[map_df['penalty'] == 'l2']['mean_train_score'], label='L2 Train')\n",
    "ax.semilogx(x_var, map_df[map_df['penalty'] == 'l2']['mean_test_score'], label='L2 Test')\n",
    "ax.legend(fontsize=14, loc='best')\n",
    "ax.set_title('Model Recall Score as a function of C and Regularization Type', fontsize=16)\n",
    "ax.set_xlabel('C (Inverse Regularization Strength)', fontsize=14)\n",
    "ax.set_ylabel('Recall Score', fontsize=14)\n",
    "plt.show()"
   ]
  },
  {
   "cell_type": "markdown",
   "id": "61c77170",
   "metadata": {},
   "source": [
    "The confusion matrices below used a classifier with parameters {$C = 0.0001$, penalty $= \\text{L2}$}, used normalized data, and used parameters that were selected by the **recall** scoring measure rather than simple accuracy. Over the 30 runs and over a sample of 35 people, this model labeled (on average) $3.17$ unhealthy people as being healthy, which is slightly better than both of the above models, which labeled $3.67$ and $3.30$ unhealthy people as healthy, but this model labeled $4.00$ healthy people as unhealthy which is more than both of the previous models.\n",
    "\n",
    "Considering the differing costs of mistakes, I'd say this is yet another improvement."
   ]
  },
  {
   "cell_type": "code",
   "execution_count": null,
   "id": "da8e2373",
   "metadata": {},
   "outputs": [],
   "source": [
    "val_map = {1: 'typical_angina', \n",
    "           2: 'atypical_angina', \n",
    "           3: 'non_angina', \n",
    "           4: 'asymptotic_angina'}\n",
    "\n",
    "print('Before mapping: {}'.format(X_train['chest_pain_type'].unique()))\n",
    "X_train['chest_pain_type'] = X_train['chest_pain_type'].map(val_map)\n",
    "print('After mapping: {}'.format(X_train['chest_pain_type'].unique()))"
   ]
  },
  {
   "cell_type": "code",
   "execution_count": null,
   "id": "2d2873bd",
   "metadata": {},
   "outputs": [],
   "source": [
    "# Resting electrocardiographic results (names too long to map)\n",
    "# 0: normal, \n",
    "# 1: having ST-T wave abnormality (T wave inversions and/or ST elevation or depression of > 0.05 mV), \n",
    "# 2: showing probable or definite left ventricular hypertrophy by Estes’ criteria;\n",
    "X_train['resting_ekg_results'].unique()"
   ]
  },
  {
   "cell_type": "code",
   "execution_count": null,
   "id": "24a4c425",
   "metadata": {},
   "outputs": [],
   "source": [
    "# Thalium heart scan\n",
    "X_train['thal'].unique()"
   ]
  },
  {
   "cell_type": "code",
   "execution_count": null,
   "id": "ced24680",
   "metadata": {},
   "outputs": [],
   "source": [
    "val_map = {1: 'upsloping',\n",
    "           2: 'flat',\n",
    "           3: 'downsloping'}\n",
    "print(X_train['slope_of_peak_exercise_st_segment'].unique())\n",
    "X_train['slope_of_peak_exercise_st_segment'] = X_train['slope_of_peak_exercise_st_segment'].map(val_map)\n",
    "print('After mapping: {}'.format(X_train['slope_of_peak_exercise_st_segment'].unique()))"
   ]
  },
  {
   "cell_type": "markdown",
   "id": "4549c9be",
   "metadata": {},
   "source": [
    "### Binary Categorical Types"
   ]
  },
  {
   "cell_type": "code",
   "execution_count": null,
   "id": "3fb4545c",
   "metadata": {},
   "outputs": [],
   "source": [
    "val_map = {0: 'female', \n",
    "           1: 'male'}\n",
    "print('Before mapping: {}'.format(X_train['sex'].unique()))\n",
    "X_train['sex'] = X_train['sex'].map(val_map)\n",
    "print('After mapping: {}'.format(X_train['sex'].unique()))"
   ]
  },
  {
   "cell_type": "code",
   "execution_count": null,
   "id": "88013cc2",
   "metadata": {},
   "outputs": [],
   "source": [
    "val_map = {0: 'false', 1: 'true'}\n",
    "print('Before mapping: {} '.format(X_train['fasting_blood_sugar_gt_120_mg_per_dl'].unique()))\n",
    "X_train['fasting_blood_sugar_gt_120_mg_per_dl'] = X_train['fasting_blood_sugar_gt_120_mg_per_dl'].map(val_map)\n",
    "print('After mapping: {} '.format(X_train['fasting_blood_sugar_gt_120_mg_per_dl'].unique()))"
   ]
  },
  {
   "cell_type": "code",
   "execution_count": null,
   "id": "3c9b58b0",
   "metadata": {},
   "outputs": [],
   "source": [
    "# Looking at variation over Alpha and hidden_layer_sizes \n",
    "# with hidden_layer_sizes, alpha, and solver set to best values\n",
    "tmp = map_df[(map_df['activation'] == 'logistic') & \\\n",
    "             (map_df['learning_rate'] == 'constant') & \\\n",
    "             (map_df['solver'] == 'adam')]\n",
    "\n",
    "train_test_param_map(x_var_='hidden_layer_sizes', y_var_='alpha', map_df_=tmp)"
   ]
  },
  {
   "cell_type": "markdown",
   "id": "08ed0bda",
   "metadata": {},
   "source": [
    "We also see no variance across different numbers of hidden layers or alpha, given best other parameters."
   ]
  },
  {
   "cell_type": "code",
   "execution_count": null,
   "id": "8eb6fef8",
   "metadata": {},
   "outputs": [],
   "source": [
    "# Looking at variation over Alpha and solver \n",
    "# with hidden_layer_sizes, alpha, and solver set to best values\n",
    "tmp = map_df[(map_df['activation'] == 'logistic') & \\\n",
    "             (map_df['learning_rate'] == 'constant') & \\\n",
    "             (map_df['hidden_layer_sizes'] == (40,))]\n",
    "\n",
    "train_test_param_map(x_var_='solver', y_var_='alpha', map_df_=tmp)"
   ]
  },
  {
   "cell_type": "code",
   "execution_count": null,
   "id": "138e965f",
   "metadata": {},
   "outputs": [],
   "source": [
    "print('Best accuracy: {:0.3f}%'.format(nn_gs.best_score_ * 100))\n",
    "print('Best parameter(s): {}'.format(nn_gs.best_params_))"
   ]
  },
  {
   "cell_type": "markdown",
   "id": "da80aa77",
   "metadata": {},
   "source": [
    "We're using a differnt measure now, **f1**, which is the harmonic average of the **recall score** and **precision score**, so we can't directly compare it to prior runs, but we can still compare the confusion matrices values. Over the 30 runs and over a sample of 35 people, this model labeled (on average) $3.40$ unhealthy people as being healthy, and this model labeled $2.97$ healthy. \n",
    "\n",
    "This is above average."
   ]
  },
  {
   "cell_type": "code",
   "execution_count": null,
   "id": "18681edd",
   "metadata": {},
   "outputs": [],
   "source": [
    "%%capture --no-display\n",
    "cross_validated_cm_generator(clf_=nn_gs.best_estimator_, \n",
    "                             X_train_=X_train,\n",
    "                             y_train_=y_train.values.reshape((len(y_train),)), \n",
    "                             class_labels=['No Heart Disease', 'Heart Disease'], \n",
    "                             n_splits_=5, \n",
    "                             n_reps_=6, \n",
    "                             labels=[0,1])"
   ]
  },
  {
   "cell_type": "markdown",
   "id": "1f51088e",
   "metadata": {},
   "source": [
    "## Voting Classifier <a id=\"voting\"></a>\n",
    "\n",
    "As you can see from the summary table below, the best classifier so far has been a simple Logistic Regression classifier. None of the classifiers have achieved a recall score above 85%.\n",
    "\n",
    "Each of these different machine learning algorithms has a slightly different bias and may make different misclassifications. To smooth out this effect, the final classifier I'll explore is the **Voting Classifier** which trains a number of different kinds of classifiers, uses those different classifiers to make predictions about data, and treats those predictions as votes.\n"
   ]
  },
  {
   "cell_type": "markdown",
   "id": "c4d7ff3c",
   "metadata": {},
   "source": [
    "## Performance Summary of Prior Classifiers <a id=\"performance\"></a>"
   ]
  },
  {
   "cell_type": "markdown",
   "id": "fd354e69",
   "metadata": {},
   "source": [
    "| Base Classifier | Best Parameters | Scaling | Recall Score | False Negative Avg | False Positive Avg |\n",
    "| --------------- | --------------- | ------- | ------------ | ------------------ | ------------------ |\n",
    "| Logistic Regression | C: 0.0001, penalty: L2 | yes | 0.7982 | 3.17 | 4.00 |\n",
    "| SVC | C: 100, gamma: 0.01, kernel: rbf | yes | 0.7954 | 3.97 | 4.17 |\n",
    "| Decision Tree | Criterion: Gini, max_depth: 5, min_samples_leaf: 1 | no | 0.7333 | 5.10 | 4.50 |\n",
    "| K Nearest Neighbors | n_neighbors: 9, weights: uniform, metric: Manhattan | yes | 0.8222 | 3.23 | 3.37 |\n",
    "| Naive Bayes | alpha: <= 1 | yes | 0.7963 | 3.17 | 3.93 |\n",
    "| Naive Bayes | alpha: 10 | no | 0.7963 | 3.30 | 3.60 |\n",
    "| Random Forest | Criterion: Gini, max_depth: 11, min_samples_leaf: 3, max_features: 6 | no | 0.7741 | 3.67 | 3.47 |\n",
    "| AdaBoost | Algorithm: SAMME.R, base estimator: Naive Bayes, learning_rate: 0.1 | no | 0.7972 | 3.03 | 2.97 |\n",
    "| AdaBoost | Algorithm: SAMME, base estimator: Logistic Regression, learining_rate: 0.1 | yes | 0.8120 | 3.13 | 3.17 |\n",
    "| Stochastic Gradient Boosting | Criterion: MSE, learning_rate: 0.1, subsample: 0.7, max_depth: 8, max_features: 4 | yes | 0.8120 | 3.83 | 3.50 |\n",
    "| Neural Network | activation: logistic, alpha: 0.001, hidden_layer_sizes: (40,), learning_rate: constant, solver: adam | yes | 0.8068 | 3.40 | 2.97 |"
   ]
  },
  {
   "cell_type": "code",
   "execution_count": null,
   "id": "72caee2f",
   "metadata": {},
   "outputs": [],
   "source": [
    "logreg = LogisticRegression(C=0.0001, penalty='l2')\n",
    "svm = SVC(C=100, gamma=0.01, kernel='rbf', probability=True)\n",
    "dt = DecisionTreeClassifier(criterion='gini', max_depth=5, min_samples_leaf=1)\n",
    "knn = KNeighborsClassifier(n_neighbors=9, weights='uniform', metric='manhattan')\n",
    "bnb_s = BernoulliNB(alpha=1)\n",
    "bnb = BernoulliNB(alpha=10)\n",
    "rf = RandomForestClassifier(criterion='gini',max_depth=11, min_samples_leaf=3, max_features=6)\n",
    "ada = AdaBoostClassifier(algorithm='SAMME.R',base_estimator=BernoulliNB(), learning_rate=0.1)\n",
    "ada_s = AdaBoostClassifier(algorithm='SAMME', base_estimator=LogisticRegression(), learning_rate=0.1)\n",
    "sgb = GradientBoostingClassifier(criterion='mse', learning_rate=0.1, subsample=0.7, max_depth=8, max_features=4)\n",
    "nn = MLPClassifier(activation='logistic', hidden_layer_sizes=(40,), learning_rate='constant', solver='adam', alpha=0.001)"
   ]
  },
  {
   "cell_type": "code",
   "execution_count": null,
   "id": "7edb2144",
   "metadata": {},
   "outputs": [],
   "source": [
    "clfs_w_scaling = [('logreg', logreg), \n",
    "                  ('svm', svm), \n",
    "                  ('knn', knn), \n",
    "                  ('bnb_s', bnb_s),\n",
    "                  ('ada_s', ada_s), \n",
    "                  ('sgb', sgb), \n",
    "                  ('nn', nn)]\n",
    "clfs_w_o = [('dt', dt), \n",
    "            ('bnb', bnb), \n",
    "            ('rf', rf), \n",
    "            ('ada', ada)]"
   ]
  },
  {
   "cell_type": "markdown",
   "id": "52429fe4",
   "metadata": {},
   "source": [
    "### Voting Classifier with Unscaled Data <a id=\"voting_unscaled\"></a>"
   ]
  },
  {
   "cell_type": "code",
   "execution_count": null,
   "id": "07af029d",
   "metadata": {},
   "outputs": [],
   "source": [
    "importances = pd.Series(data=rf_best.feature_importances_, index= X_train.columns)\n",
    "importances_sorted = importances.sort_values()\n",
    "ax = importances_sorted.plot(kind='barh', figsize=(12,8), fontsize=14)\n",
    "ax.set_title('Random Forest: Features Importances', fontsize=14)\n",
    "ax.set_xlabel('Feature Importance', fontsize=14)\n",
    "plt.show()"
   ]
  },
  {
   "cell_type": "code",
   "execution_count": null,
   "id": "ad199e1f",
   "metadata": {},
   "outputs": [],
   "source": [
    "X_train.info()"
   ]
  },
  {
   "cell_type": "markdown",
   "id": "5b89802e",
   "metadata": {},
   "source": [
    "## Data Preprocessing <a id=\"preprocessing\"></a>"
   ]
  },
  {
   "cell_type": "code",
   "execution_count": null,
   "id": "df051bf9",
   "metadata": {},
   "outputs": [],
   "source": [
    "categoricals = ['chest_pain_type', 'resting_ekg_results', 'thal', \n",
    "                'sex', 'fasting_blood_sugar_gt_120_mg_per_dl', \n",
    "                'exercise_induced_angina', 'slope_of_peak_exercise_st_segment']\n",
    "\n",
    "def categorize_features(df, cats):\n",
    "    df_cols = df.columns.tolist()\n",
    "    for cat in cats:\n",
    "        if cat in df_cols:\n",
    "            df[cat] = df[cat].astype('category')\n",
    "    return df"
   ]
  },
  {
   "cell_type": "code",
   "execution_count": null,
   "id": "ca1d5146",
   "metadata": {},
   "outputs": [],
   "source": [
    "X_train = categorize_features(X_train, categoricals)\n",
    "X_test = categorize_features(X_test, categoricals)"
   ]
  },
  {
   "cell_type": "markdown",
   "id": "08c9af3f",
   "metadata": {},
   "source": [
    "**After changing the data types of the categorical features, we see that the memory usage dropped from 19.7 KB to 11.8 KB. While this is an extremely small dataset, on larger datasets this would produce a substantial improvement in runtime.**"
   ]
  },
  {
   "cell_type": "markdown",
   "id": "67224b9a",
   "metadata": {},
   "source": [
    "### Nominal Categorical Types "
   ]
  },
  {
   "cell_type": "markdown",
   "id": "e0c99f0f",
   "metadata": {},
   "source": [
    "The best recall score is 100%, that's pretty incredible! However, looking at the confusion matrices, we see what happened. Recall is defined as $\\frac{TP}{TP + FN}$, and the neural network chose a very simple rule to achieve this; always predict heart disease. While this doesn't make any of the costly error, it's if a doctor simply diagnosed every single patient as having heart disease, that doctor would quickly lose credibility. \n",
    "\n",
    "I'll run this again, but this time, I'll use a different scoring metric."
   ]
  },
  {
   "cell_type": "code",
   "execution_count": null,
   "id": "626ed499",
   "metadata": {},
   "outputs": [],
   "source": [
    "cross_validated_cm_generator(clf_=nn_gs.best_estimator_, \n",
    "                             X_train_=X_train,\n",
    "                             y_train_=y_train.values.reshape((len(y_train),)), \n",
    "                             class_labels=['No Heart Disease', 'Heart Disease'], \n",
    "                             n_splits_=5, \n",
    "                             n_reps_=6, \n",
    "                             labels=[0,1])"
   ]
  },
  {
   "cell_type": "markdown",
   "id": "2ae22754",
   "metadata": {},
   "source": [
    "## Multilayer Perceptron (a Neural Network) <a id=\"nn_scored\"></a>"
   ]
  },
  {
   "cell_type": "code",
   "execution_count": null,
   "id": "b3e91437",
   "metadata": {},
   "outputs": [],
   "source": [
    "steps = [('scaler', StandardScaler()),\n",
    "         ('nn', MLPClassifier())]\n",
    "pipeline = Pipeline(steps)\n",
    "parameters = [{'nn__hidden_layer_sizes': [(20,),(40,),(60,)], \n",
    "               'nn__activation':['identity', 'logistic', 'tanh', 'relu'], \n",
    "               'nn__solver': ['lbfgs', 'sgd','adam'],\n",
    "               'nn__alpha': [0.001, 0.01],\n",
    "               'nn__learning_rate':['constant','invscaling','adaptive'], \n",
    "               'nn__random_state':[nb_seed]}]\n",
    "nn_gs = GridSearchCV(pipeline, parameters, cv=30, return_train_score=True, scoring='f1', n_jobs=-1, verbose=4)\n",
    "nn_gs.fit(X_train, y_train.values.reshape((y_train.size,)))"
   ]
  },
  {
   "cell_type": "code",
   "execution_count": null,
   "id": "34d48ec9",
   "metadata": {},
   "outputs": [],
   "source": [
    "print(\"Best CV params\", nn_gs.best_params_)\n",
    "print('Average Accuracy of the best model: {}'.format(nn_gs.best_score_))"
   ]
  },
  {
   "cell_type": "markdown",
   "id": "bf06130a",
   "metadata": {},
   "source": [
    "From the printout, we can see that the best model uses the following hyperparameter values:\n",
    "* Hidden Layer Sizes: (40,)\n",
    "* Solver: Adam\n",
    "* Activation Function: logistic\n",
    "* Learning Rate: constant\n",
    "* Alpha: 0.00001"
   ]
  },
  {
   "cell_type": "code",
   "execution_count": null,
   "id": "a35fa8f2",
   "metadata": {},
   "outputs": [],
   "source": [
    "grid_clf = nn_gs\n",
    "nn_grid_dict = {'mean_train_score': grid_clf.cv_results_['mean_train_score'],\n",
    "                 'mean_test_score': grid_clf.cv_results_['mean_test_score'], \n",
    "                 'hidden_layer_sizes': grid_clf.cv_results_['param_nn__hidden_layer_sizes'], \n",
    "                 'activation': grid_clf.cv_results_['param_nn__activation'],\n",
    "                 'solver': grid_clf.cv_results_['param_nn__solver'],\n",
    "                 'alpha': grid_clf.cv_results_['param_nn__alpha'], \n",
    "                 'learning_rate': grid_clf.cv_results_['param_nn__learning_rate']} \n",
    "\n",
    "map_df = pd.DataFrame(nn_grid_dict)"
   ]
  },
  {
   "cell_type": "code",
   "execution_count": null,
   "id": "f3a43e91",
   "metadata": {},
   "outputs": [],
   "source": [
    "# Looking at variation over Solver and Activation Function \n",
    "# with hidden_layer_sizes, alpha, and learning_rate set to best values\n",
    "tmp = map_df[(map_df['hidden_layer_sizes'] == (40,)) & \\\n",
    "             (map_df['alpha'] == 0.001) & \\\n",
    "             (map_df['learning_rate'] == 'constant')]\n",
    "\n",
    "train_test_param_map(x_var_='solver', y_var_='activation', map_df_=tmp)"
   ]
  },
  {
   "cell_type": "code",
   "execution_count": null,
   "id": "ed919b66",
   "metadata": {},
   "outputs": [],
   "source": [
    "# Looking at variation over Learning Rate and Activation Function \n",
    "# with hidden_layer_sizes, alpha, and solver set to best values\n",
    "tmp = map_df[(map_df['hidden_layer_sizes'] == (40,)) & \\\n",
    "             (map_df['alpha'] == 0.001) & \\\n",
    "             (map_df['solver'] == 'adam')]\n",
    "\n",
    "train_test_param_map(x_var_='learning_rate', y_var_='activation', map_df_=tmp)"
   ]
  },
  {
   "cell_type": "code",
   "execution_count": null,
   "id": "eaaad3b8",
   "metadata": {},
   "outputs": [],
   "source": [
    "# Looking at variation over Learning Rate and hidden_layer_sizes \n",
    "# with hidden_layer_sizes, alpha, and solver set to best values\n",
    "tmp = map_df[(map_df['activation'] == 'logistic') & \\\n",
    "             (map_df['alpha'] == 0.001) & \\\n",
    "             (map_df['solver'] == 'adam')]\n",
    "\n",
    "train_test_param_map(x_var_='learning_rate', y_var_='hidden_layer_sizes', map_df_=tmp)"
   ]
  },
  {
   "cell_type": "markdown",
   "id": "4cf6d06d",
   "metadata": {},
   "source": [
    "Ok, we see no variance across different numbers of hidden layers or learning rates, given best other parameters."
   ]
  },
  {
   "cell_type": "code",
   "execution_count": null,
   "id": "7fcc8714",
   "metadata": {},
   "outputs": [],
   "source": [
    "steps = [('vc', VotingClassifier(estimators=clfs_w_o))]\n",
    "pipeline = Pipeline(steps)\n",
    "parameters = [{'vc__voting':['hard','soft']}]\n",
    "vc_gs = GridSearchCV(pipeline, parameters, cv=30, return_train_score=True, scoring='recall', n_jobs=-1, verbose=4)\n",
    "vc_gs.fit(X_train, y_train.values.reshape((y_train.size,)))"
   ]
  },
  {
   "cell_type": "code",
   "execution_count": null,
   "id": "3d847fdc",
   "metadata": {},
   "outputs": [],
   "source": [
    "print(\"Best CV params\", vc_gs.best_params_)\n",
    "print('Average Accuracy of the best model: {}'.format(vc_gs.best_score_))"
   ]
  },
  {
   "cell_type": "markdown",
   "id": "eedfe6fd",
   "metadata": {},
   "source": [
    "From the printout, we can see that the voting classifier model uses soft voting, which takes predicted probabilities into account rather than just using hard voting."
   ]
  },
  {
   "cell_type": "code",
   "execution_count": null,
   "id": "5e12c48a",
   "metadata": {},
   "outputs": [],
   "source": [
    "grid_clf = vc_gs\n",
    "vc_grid_dict = {'mean_train_score': grid_clf.cv_results_['mean_train_score'],\n",
    "                 'mean_test_score': grid_clf.cv_results_['mean_test_score'], \n",
    "                 'voting': grid_clf.cv_results_['param_vc__voting']} \n",
    "\n",
    "map_df = pd.DataFrame(vc_grid_dict)"
   ]
  },
  {
   "cell_type": "code",
   "execution_count": null,
   "id": "bfb1ea9f",
   "metadata": {},
   "outputs": [],
   "source": [
    "map_df"
   ]
  },
  {
   "cell_type": "markdown",
   "id": "acdca416",
   "metadata": {},
   "source": [
    "The confusion matrices below are for the **Voting Classifier** consisting of all prior classifiers that used **unnormalized** data, used **soft voting**, and used parameters that were selected by the **recall** scoring measure rather than simple accuracy. Over the 30 runs and over a sample of 35 people, this model labeled (on average) $3.70$ unhealthy people as being healthy, and this model labeled $3.47$ healthy.\n",
    "\n",
    "This is a rather underwhelming classifier."
   ]
  },
  {
   "cell_type": "code",
   "execution_count": null,
   "id": "2d8e005a",
   "metadata": {},
   "outputs": [],
   "source": [
    "x_var = map_df[map_df['criterion'] == 'gini']\n",
    "x_var = x_var[x_var['min_samples_leaf'] == 1]['max_depth']\n",
    "gini = map_df[map_df['criterion'] == 'gini']\n",
    "gini = gini[gini['min_samples_leaf'] == 1]\n",
    "entropy = map_df[map_df['criterion'] == 'entropy']\n",
    "entropy = entropy[entropy['min_samples_leaf'] == 1]\n",
    "\n",
    "fig, ax = plt.subplots(figsize=(12,8))\n",
    "ax.plot(x_var, gini['mean_train_score'], label='gini Train',linewidth=3)\n",
    "ax.plot(x_var, gini['mean_test_score'], label='gini Test', linewidth=3)\n",
    "ax.plot(x_var, entropy['mean_train_score'], label='entropy Train', linewidth=3)\n",
    "ax.plot(x_var, entropy['mean_test_score'], label='entropy Test', linewidth=3)\n",
    "ax.legend(fontsize=14, loc='best')\n",
    "ax.set_title('Model Recall Score as a function of Max Depth and Information Criterion \\n(for min_samples_leaf = 3)', fontsize=16)\n",
    "ax.set_xlabel('Max Depth', fontsize=14)\n",
    "ax.set_ylabel('Recall Score', fontsize=14)\n",
    "plt.show()"
   ]
  },
  {
   "cell_type": "code",
   "execution_count": null,
   "id": "27ba48a1",
   "metadata": {},
   "outputs": [],
   "source": [
    "print('Best accuracy: {:0.3f}%'.format(dt_gs.best_score_ * 100))\n",
    "print('Best parameter(s): {}'.format(dt_gs.best_params_))"
   ]
  },
  {
   "cell_type": "markdown",
   "id": "ebe4a93c",
   "metadata": {},
   "source": [
    "The confusion matrices below used a single **Decision Tree Classifier** with parameters {max_depth = 5, information criterion = gini, and min_samples_leaf = 1}, used  unnormalized data, and used parameters that were selected by the **recall** scoring measure rather than simple accuracy. Over the 30 runs and over a sample of 35 people, this model labeled (on average) $5.10$ unhealthy people as being healthy, which is worse than all of the previous classifiers, and this model labeled $4.50$ healthy people as unhealthy which is also worse than all previous classifiers.\n",
    "\n",
    "This model is not an improvement over our previous models, but as I explain below, this kind of model has a very convenient method for interpretation. "
   ]
  },
  {
   "cell_type": "code",
   "execution_count": null,
   "id": "ba3a2afa",
   "metadata": {},
   "outputs": [],
   "source": [
    "cross_validated_cm_generator(clf_=dt_gs.best_estimator_, \n",
    "                             X_train_=X_train,\n",
    "                             y_train_ = y_train.values.reshape((len(y_train),)), \n",
    "                             class_labels=['No Heart Disease', 'Heart Disease'], \n",
    "                             n_splits_=5, \n",
    "                             n_reps_=6, \n",
    "                             labels=[0,1])"
   ]
  },
  {
   "cell_type": "code",
   "execution_count": null,
   "id": "cd30bca8",
   "metadata": {},
   "outputs": [],
   "source": [
    "data_train, data_test, class_train, class_test = train_test_split(X_train,\n",
    "                                                                  y_train,\n",
    "                                                                  test_size=0.3,\n",
    "                                                                  stratify=y_train,\n",
    "                                                                  random_state=123)\n",
    "dt_best = DecisionTreeClassifier(max_depth=7, min_samples_leaf=3, criterion='gini')\n",
    "dt_best.fit(data_train, class_train)"
   ]
  },
  {
   "cell_type": "code",
   "execution_count": null,
   "id": "b68cd24b",
   "metadata": {},
   "outputs": [],
   "source": [
    "export_graphviz(dt_best,out_file='single_dtree.dot', feature_names=data_train.columns,\n",
    "                rounded=True, filled=True, rotate=True,\n",
    "                class_names=['No Heart Disease', 'Heart Disease'])"
   ]
  },
  {
   "cell_type": "markdown",
   "id": "4fca746b",
   "metadata": {},
   "source": [
    "**Decision Trees** are easily interpretable. To classify a new observation, you simply evaluate the question at each node (eg: is the observation's value for thal_reversible_defect less than 0.5? (note: thal_reversible_defect is a binary category, so essentially this is asking did the observation have thal_reversible_defect?)), and if true, you follow the upper branch and if false, you follow the lower branch. Continue this process until you arrive at a node with no branches, and whatever class is listed at that node is the class predicted by the model. "
   ]
  },
  {
   "cell_type": "code",
   "execution_count": null,
   "id": "650797a3",
   "metadata": {},
   "outputs": [],
   "source": [
    "with open('single_dtree.dot') as f:\n",
    "    dot_graph = f.read()\n",
    "graphviz.Source(dot_graph)"
   ]
  },
  {
   "cell_type": "markdown",
   "id": "a1dbd8e3",
   "metadata": {},
   "source": [
    "## K Nearest Neighbors <a id=\"knn\"></a>\n",
    "\n",
    "**K Nearest Neighbors** (or **KNN**) is an algorithm that determines an observation's class by polling the $k$-nearest observations what their classes are and choosing the most common class. The nearness of different observations depends on the distance function used. The most commonly used distance function is the euclidean function, which extends the Pythogorean equation up from $2$ dimensions to $n$ dimensions (for datasets with $n$ features)."
   ]
  },
  {
   "cell_type": "code",
   "execution_count": null,
   "id": "057e37d7",
   "metadata": {},
   "outputs": [],
   "source": [
    "steps = [('scaler', StandardScaler()),\n",
    "         ('knn', KNeighborsClassifier())]\n",
    "pipeline = Pipeline(steps)\n",
    "parameters = [{'knn__n_neighbors':[1,3,5,7,9,11,13,15],\n",
    "               'knn__weights':['uniform', 'distance'], \n",
    "               'knn__metric':['manhattan', 'chebyshev', 'euclidean']}]\n",
    "knn_gs = GridSearchCV(pipeline, parameters, cv=30, return_train_score=True, scoring='recall', n_jobs=-1, verbose=9)\n",
    "knn_gs.fit(X_train, y_train.values.reshape((y_train.size,)))"
   ]
  },
  {
   "cell_type": "code",
   "execution_count": null,
   "id": "76c1f009",
   "metadata": {},
   "outputs": [],
   "source": [
    "print(\"Best CV params\", knn_gs.best_params_)\n",
    "print('Average Accuracy of the best model: {}'.format(knn_gs.best_score_))"
   ]
  },
  {
   "cell_type": "markdown",
   "id": "1ec848a6",
   "metadata": {},
   "source": [
    "From the printout, we can see that the best model uses the manhattan distance metric, a uniform weighting of distance (ie closer neighbors don't have a more significant vote), and polls the 11 nearest neighbors."
   ]
  },
  {
   "cell_type": "code",
   "execution_count": null,
   "id": "05c5cdfe",
   "metadata": {},
   "outputs": [],
   "source": [
    "# Looking at variation over subsample and learning_rate \n",
    "# with criterion, max_depth, and max_features set to best values\n",
    "tmp = map_df[(map_df['criterion'] == 'mse') & \\\n",
    "             (map_df['max_depth'] == 8) & \\\n",
    "             (map_df['max_features'] == 4)]\n",
    "\n",
    "train_test_param_map(x_var_='subsample', y_var_='learning_rate', map_df_=tmp)"
   ]
  },
  {
   "cell_type": "code",
   "execution_count": null,
   "id": "d8a5a86c",
   "metadata": {},
   "outputs": [],
   "source": [
    "# Looking at variation over criterion and learning_rate \n",
    "# with subsample, max_depth, and max_features set to best values\n",
    "tmp = map_df[(map_df['subsample'] == 0.7) & \\\n",
    "             (map_df['max_depth'] == 8) & \\\n",
    "             (map_df['max_features'] == 4)]\n",
    "\n",
    "train_test_param_map(x_var_='criterion', y_var_='learning_rate', map_df_=tmp)"
   ]
  },
  {
   "cell_type": "code",
   "execution_count": null,
   "id": "efb1169d",
   "metadata": {},
   "outputs": [],
   "source": [
    "# Looking at variation over criterion and subsample \n",
    "# with learning_rate, max_depth, and max_features set to best values\n",
    "tmp = map_df[(map_df['learning_rate'] == 0.1) & \\\n",
    "             (map_df['max_depth'] == 8) & \\\n",
    "             (map_df['max_features'] == 4)]\n",
    "\n",
    "train_test_param_map(x_var_='criterion', y_var_='subsample', map_df_=tmp)"
   ]
  },
  {
   "cell_type": "code",
   "execution_count": null,
   "id": "68ba0513",
   "metadata": {},
   "outputs": [],
   "source": [
    "# Looking at variation over max_depth and subsample \n",
    "# with learning_rate, criterion, and max_features set to best values\n",
    "tmp = map_df[(map_df['learning_rate'] == 0.1) & \\\n",
    "             (map_df['criterion'] == 'mse') & \\\n",
    "             (map_df['max_features'] == 4)]\n",
    "\n",
    "train_test_param_map(x_var_='max_depth', y_var_='subsample', map_df_=tmp)"
   ]
  },
  {
   "cell_type": "code",
   "execution_count": null,
   "id": "c029aeb6",
   "metadata": {},
   "outputs": [],
   "source": [
    "# Looking at variation over max_depth and max_features\n",
    "# with learning_rate, criterion, and max_features set to best values\n",
    "tmp = map_df[(map_df['learning_rate'] == 0.1) & \\\n",
    "             (map_df['criterion'] == 'mse') & \\\n",
    "             (map_df['subsample'] == 0.7)]\n",
    "\n",
    "train_test_param_map(x_var_='max_depth', y_var_='max_features', map_df_=tmp)"
   ]
  },
  {
   "cell_type": "markdown",
   "id": "77d642da",
   "metadata": {},
   "source": [
    "The confusion matrices below are for the **Stochastic Gradient Boosting Classifier** with above parameters, was trained with **unnormalized** data, and used parameters that were selected by the **recall** scoring measure rather than simple accuracy. Over the 30 runs and over a sample of 35 people, this model labeled (on average) $3.83$ unhealthy people as being healthy, and this model labeled $3.50$ healthy people as unhealthy.\n",
    "\n",
    "Worse than average overall."
   ]
  },
  {
   "cell_type": "code",
   "execution_count": null,
   "id": "70d37ee9",
   "metadata": {},
   "outputs": [],
   "source": [
    "cross_validated_cm_generator(clf_=sgb_gs.best_estimator_, \n",
    "                             X_train_=X_train,\n",
    "                             y_train_=y_train.values.reshape((len(y_train),)), \n",
    "                             class_labels=['No Heart Disease', 'Heart Disease'], \n",
    "                             n_splits_=5, \n",
    "                             n_reps_=6, \n",
    "                             labels=[0,1])"
   ]
  },
  {
   "cell_type": "markdown",
   "id": "e64443ba",
   "metadata": {},
   "source": [
    "## Multilayer Perceptron (a Neural Network) <a id=\"nn\"></a>\n",
    "\n",
    "**Neural Networks** are yet another distinct class of classifier. Neural Networks mimic the biological neural networks that constitute our brains by building rich networks of neurons that can be activated by input data. Neural networks consist of many hidden layers of neurons and if the signal isn't strong enough at specific nodes, then they don't transmit any signal at all. This allows neural networks to produce complex, non-linear models for observed phenomena, and update these models through a backpropagation process. \n",
    "\n",
    "Neural networks are among the most powerful kinds of classifiers, and the Tensorflow, Keras, and Theano packages provide far more support for neural networks than sklearn."
   ]
  },
  {
   "cell_type": "code",
   "execution_count": null,
   "id": "60e7949f",
   "metadata": {},
   "outputs": [],
   "source": [
    "steps = [('scaler', StandardScaler()),\n",
    "         ('nn', MLPClassifier())]\n",
    "pipeline = Pipeline(steps)\n",
    "parameters = [{'nn__hidden_layer_sizes': [(10,),(20,),(40,)], \n",
    "               'nn__activation':['identity', 'logistic', 'tanh', 'relu'], \n",
    "               'nn__solver': ['lbfgs', 'sgd','adam'],\n",
    "               'nn__alpha': [0.00001, 0.0001, 0.001, 0.01],\n",
    "               'nn__learning_rate':['constant','invscaling','adaptive'], \n",
    "               'nn__random_state':[nb_seed]}]\n",
    "nn_gs = GridSearchCV(pipeline, parameters, cv=30, return_train_score=True, scoring='recall', n_jobs=-1, verbose=4)\n",
    "nn_gs.fit(X_train, y_train.values.reshape((y_train.size,)))"
   ]
  },
  {
   "cell_type": "markdown",
   "id": "e0049713",
   "metadata": {},
   "source": [
    "From the printout, we can see that the best model uses the following hyperparameter values:\n",
    "* Hidden Layer Sizes: (20,)\n",
    "* Solver: Stochastic Gradient Descent\n",
    "* Activation Function: Logistic\n",
    "* Learning Rate: Inverse Scaling\n",
    "* Alpha: 0.00001"
   ]
  },
  {
   "cell_type": "code",
   "execution_count": null,
   "id": "15303d58",
   "metadata": {},
   "outputs": [],
   "source": [
    "cross_validated_cm_generator(clf_=svm_gs.best_estimator_, \n",
    "                             X_train_=X_train,\n",
    "                             y_train_ = y_train.values.reshape((len(y_train),)), \n",
    "                             class_labels=['No Heart Disease', 'Heart Disease'], \n",
    "                             n_splits_=5, \n",
    "                             n_reps_=6, \n",
    "                             labels=[0,1])"
   ]
  },
  {
   "cell_type": "markdown",
   "id": "4a1cf9c2",
   "metadata": {},
   "source": [
    "## Decision Tree Classifier <a id=\"dtree\"></a>"
   ]
  },
  {
   "cell_type": "code",
   "execution_count": null,
   "id": "40ecf37b",
   "metadata": {},
   "outputs": [],
   "source": [
    "steps = [('dt', DecisionTreeClassifier())]\n",
    "pipeline = Pipeline(steps)\n",
    "parameters = [{'dt__criterion':['entropy', 'gini'],\n",
    "               'dt__max_depth':[2,5,7,10], \n",
    "               'dt__min_samples_leaf':[1,2,3,4,5], \n",
    "               'dt__random_state':[nb_seed]}]\n",
    "dt_gs = GridSearchCV(pipeline, parameters, cv=30, return_train_score=True, scoring='recall', n_jobs=-1, verbose=9)\n",
    "dt_gs.fit(X_train, y_train.values.reshape((y_train.size,)))"
   ]
  },
  {
   "cell_type": "code",
   "execution_count": null,
   "id": "066efaeb",
   "metadata": {},
   "outputs": [],
   "source": [
    "print(\"Best CV params\", dt_gs.best_params_)\n",
    "print('Average Accuracy of the best model: {}'.format(dt_gs.best_score_))"
   ]
  },
  {
   "cell_type": "markdown",
   "id": "db1daa26",
   "metadata": {},
   "source": [
    "From the printout, we can see that the best model uses the 'gini' information criterion to determine when to split, a max depth of 5 nodes, and at least 1 sample for any leaf."
   ]
  },
  {
   "cell_type": "code",
   "execution_count": null,
   "id": "247902bc",
   "metadata": {},
   "outputs": [],
   "source": [
    "grid_clf = dt_gs\n",
    "dt_grid_dict = {'mean_train_score': grid_clf.cv_results_['mean_train_score'],\n",
    "                'mean_test_score': grid_clf.cv_results_['mean_test_score'], \n",
    "                'criterion': grid_clf.cv_results_['param_dt__criterion'],\n",
    "                'max_depth': grid_clf.cv_results_['param_dt__max_depth'], \n",
    "                'min_samples_leaf': grid_clf.cv_results_['param_dt__min_samples_leaf']} \n",
    "\n",
    "map_df = pd.DataFrame(dt_grid_dict)"
   ]
  },
  {
   "cell_type": "code",
   "execution_count": null,
   "id": "7a711f22",
   "metadata": {},
   "outputs": [],
   "source": [
    "train_test_param_map(x_var_='max_depth', y_var_='min_samples_leaf', map_df_=map_df[map_df['criterion'] == 'gini'])"
   ]
  },
  {
   "cell_type": "code",
   "execution_count": null,
   "id": "09ec9a86",
   "metadata": {},
   "outputs": [],
   "source": [
    "train_test_param_map(x_var_='max_depth', y_var_='min_samples_leaf', map_df_=map_df[map_df['criterion'] == 'entropy'])"
   ]
  },
  {
   "cell_type": "code",
   "execution_count": null,
   "id": "c88cf1ae",
   "metadata": {},
   "outputs": [],
   "source": [
    "steps = [('scaler', StandardScaler()),\n",
    "         ('sgb', GradientBoostingClassifier())]\n",
    "pipeline = Pipeline(steps)\n",
    "parameters = [{'sgb__n_estimators': [200], \n",
    "               'sgb__learning_rate':[0.1, 0.2, 0.3, 0.4, 0.5, 0.6], \n",
    "               'sgb__subsample': [0.5, 0.7, 0.9],\n",
    "               'sgb__criterion': ['friedman_mse', 'mse'],\n",
    "               'sgb__max_depth':[5,8,11,14], \n",
    "               'sgb__max_features':[4,8,12], \n",
    "               'sgb__random_state':[nb_seed]}]\n",
    "sgb_gs = GridSearchCV(pipeline, parameters, cv=30, return_train_score=True, scoring='recall', n_jobs=-1, verbose=4)\n",
    "sgb_gs.fit(X_train, y_train.values.reshape((y_train.size,)))"
   ]
  },
  {
   "cell_type": "code",
   "execution_count": null,
   "id": "d3a6f47a",
   "metadata": {},
   "outputs": [],
   "source": [
    "print(\"Best CV params\", sgb_gs.best_params_)\n",
    "print('Average Accuracy of the best model: {}'.format(sgb_gs.best_score_))"
   ]
  },
  {
   "cell_type": "markdown",
   "id": "d981570e",
   "metadata": {},
   "source": [
    "From the printout, we can see that the best model uses the following hyperparameter values:\n",
    "* Criterion: Mean Squared Error\n",
    "* Learning Rate: 0.1\n",
    "* Subsample: 0.7\n",
    "* Max Depth: 8\n",
    "* Max Features: 4\n",
    "* Number of Models: 200"
   ]
  },
  {
   "cell_type": "code",
   "execution_count": null,
   "id": "dd4773a6",
   "metadata": {},
   "outputs": [],
   "source": [
    "grid_clf = sgb_gs\n",
    "sgb_grid_dict = {'mean_train_score': grid_clf.cv_results_['mean_train_score'],\n",
    "                 'mean_test_score': grid_clf.cv_results_['mean_test_score'], \n",
    "                 'subsample': grid_clf.cv_results_['param_sgb__subsample'], \n",
    "                 'n_estimators': grid_clf.cv_results_['param_sgb__n_estimators'],\n",
    "                 'learning_rate': grid_clf.cv_results_['param_sgb__learning_rate'],\n",
    "                 'criterion': grid_clf.cv_results_['param_sgb__criterion'], \n",
    "                 'max_depth': grid_clf.cv_results_['param_sgb__max_depth'], \n",
    "                 'max_features': grid_clf.cv_results_['param_sgb__max_features']} \n",
    "\n",
    "map_df = pd.DataFrame(sgb_grid_dict)"
   ]
  },
  {
   "cell_type": "code",
   "execution_count": null,
   "id": "98b5606c",
   "metadata": {},
   "outputs": [],
   "source": [
    "fig, ax = plt.subplots(figsize=(8,6))\n",
    "sns.boxplot(data=train_df, \n",
    "            y='thal', \n",
    "            x='resting_blood_pressure', \n",
    "            hue='heart_disease_present', \n",
    "            palette=cat_palette,\n",
    "            ax=ax)\n",
    "handles, _ = ax.get_legend_handles_labels()\n",
    "ax.legend(handles, ['No Heart Disease','Heart Diseasee'], loc='best', )\n",
    "ax.set_xlabel('Resting Blood Pressure', fontsize=14)\n",
    "ax.set_ylabel('Thalium Stress Test Result', fontsize=14)\n",
    "plt.show()"
   ]
  },
  {
   "cell_type": "markdown",
   "id": "4e93a98e",
   "metadata": {},
   "source": [
    "In the boxplot above, we see that there is a lot of overlap of resting blood pressure range across all thalium stress test results, so resting blood pressure probably won't be a significant factor in detecting heart disease."
   ]
  },
  {
   "cell_type": "code",
   "execution_count": null,
   "id": "e13da8f3",
   "metadata": {},
   "outputs": [],
   "source": [
    "fig, ax = plt.subplots(figsize=(8,6))\n",
    "sns.boxplot(data=train_df, \n",
    "            y='resting_ekg_results', \n",
    "            x='resting_blood_pressure', \n",
    "            hue='heart_disease_present', \n",
    "            palette=cat_palette,\n",
    "            ax=ax)\n",
    "handles, _ = ax.get_legend_handles_labels()\n",
    "ax.legend(handles, ['No Heart Disease','Heart Diseasee'], loc='best', )\n",
    "ax.set_xlabel('Resting Blood Pressure', fontsize=14)\n",
    "ax.set_ylabel('Resting EKG Results', fontsize=14)\n",
    "plt.show()"
   ]
  },
  {
   "cell_type": "markdown",
   "id": "8ffb3c48",
   "metadata": {},
   "source": [
    "That's kind of strange, from that box plot, it appears there are very few examples of EKG result #1. We confirm that via the countplot below. As our only observations of this EKG type have heart disease, our classifier won't have any prior data to form an intuition about heart-disease free examples. Also, as we only have 1 example of this case in the training set, the cross validation process will leave it out of the cross-validation model trainings. In any case, our classifiers won't have enough data to learn how to handle this class."
   ]
  },
  {
   "cell_type": "code",
   "execution_count": null,
   "id": "f7d833e6",
   "metadata": {},
   "outputs": [],
   "source": [
    "fig, ax = plt.subplots(figsize=(8,6))\n",
    "sns.countplot(data=train_df, x='resting_ekg_results', hue='heart_disease_present', palette=cat_palette, ax=ax)\n",
    "ax.set_title('Distribution of EKG Result by Heart Disease', fontsize=16)\n",
    "ax.set_xlabel('EKG Result', fontsize=14)\n",
    "ax.set_xticklabels(['Normal', 'ST-T Wave Abnormality', 'left Ventricular Hypertrophy'], fontsize=12)\n",
    "ax.set_ylabel('Count', fontsize=14)\n",
    "ax.set_ylim([0,60])\n",
    "plt.show()"
   ]
  },
  {
   "cell_type": "code",
   "execution_count": null,
   "id": "6b08941f",
   "metadata": {},
   "outputs": [],
   "source": [
    "cross_validated_cm_generator(clf_=vc_gs.best_estimator_, \n",
    "                             X_train_=X_train,\n",
    "                             y_train_=y_train.values.reshape((len(y_train),)), \n",
    "                             class_labels=['No Heart Disease', 'Heart Disease'], \n",
    "                             n_splits_=5, \n",
    "                             n_reps_=6, \n",
    "                             labels=[0,1])"
   ]
  },
  {
   "cell_type": "markdown",
   "id": "d7323242",
   "metadata": {},
   "source": [
    "### Voting Classifier with Scaled Data <a id=\"voting_scaled\"></a>"
   ]
  },
  {
   "cell_type": "code",
   "execution_count": null,
   "id": "47aa111e",
   "metadata": {},
   "outputs": [],
   "source": [
    "steps = [('scaler', StandardScaler()),\n",
    "         ('vc', VotingClassifier(estimators=clfs_w_scaling))]\n",
    "pipeline = Pipeline(steps)\n",
    "parameters = [{'vc__voting':['hard','soft']}]\n",
    "vc_gs = GridSearchCV(pipeline, parameters, cv=30, return_train_score=True, scoring='recall', n_jobs=-1, verbose=4)\n",
    "vc_gs.fit(X_train, y_train.values.reshape((y_train.size,)))"
   ]
  },
  {
   "cell_type": "markdown",
   "id": "af5319c3",
   "metadata": {},
   "source": [
    "From the printout, we can see that the voting classifier model uses hard voting, which simply tallies votes even if the predicted probability is just barely over 50%."
   ]
  },
  {
   "cell_type": "markdown",
   "id": "202fae1b",
   "metadata": {},
   "source": [
    "The confusion matrices below are for the **Voting Classifier** consisting of all prior classifiers that used **normalized** data, used **soft voting**, and used parameters that were selected by the **recall** scoring measure rather than simple accuracy. Over the 30 runs and over a sample of 35 people, this model labeled (on average) $3.10$ unhealthy people as being healthy, and this model labeled $3.50$ healthy.\n",
    "\n",
    "Regarding false negatives, this is the 2nd best classifier to this point. "
   ]
  },
  {
   "cell_type": "code",
   "execution_count": null,
   "id": "19676bae",
   "metadata": {},
   "outputs": [],
   "source": [
    "%%capture --no-display\n",
    "cross_validated_cm_generator(clf_=vc_gs.best_estimator_, \n",
    "                             X_train_=X_train,\n",
    "                             y_train_=y_train.values.reshape((len(y_train),)), \n",
    "                             class_labels=['No Heart Disease', 'Heart Disease'], \n",
    "                             n_splits_=5, \n",
    "                             n_reps_=6, \n",
    "                             labels=[0,1])"
   ]
  },
  {
   "cell_type": "markdown",
   "id": "3d7fa748",
   "metadata": {},
   "source": [
    "### Voting Classifier with Scaled Data (3 Best Classifiers) <a id=\"voting_3best\"></a>"
   ]
  },
  {
   "cell_type": "code",
   "execution_count": null,
   "id": "a420f383",
   "metadata": {},
   "outputs": [],
   "source": [
    "grid_clf = bnb_gs\n",
    "bnb_grid_dict = {'mean_train_score': grid_clf.cv_results_['mean_train_score'],\n",
    "                'mean_test_score': grid_clf.cv_results_['mean_test_score'], \n",
    "                'alpha': grid_clf.cv_results_['param_bnb__alpha']} \n",
    "\n",
    "map_df = pd.DataFrame(bnb_grid_dict)"
   ]
  },
  {
   "cell_type": "code",
   "execution_count": null,
   "id": "9bf70f08",
   "metadata": {},
   "outputs": [],
   "source": [
    "x_var = map_df['alpha']\n",
    "\n",
    "fig, ax = plt.subplots(figsize=(12,8))\n",
    "ax.semilogx(x_var, map_df['mean_train_score'], label='Train', linewidth=3)\n",
    "ax.semilogx(x_var, map_df['mean_test_score'], label='Test', linewidth=3)\n",
    "ax.legend(fontsize=14, loc='best')\n",
    "ax.set_title('Naive Bayes Model Recall Score as a function Alpha', fontsize=16)\n",
    "ax.set_xlabel('Alpha (smoothing parameter)', fontsize=14)\n",
    "ax.set_ylabel('Recall Score', fontsize=14)\n",
    "plt.show()"
   ]
  },
  {
   "cell_type": "code",
   "execution_count": null,
   "id": "636d9627",
   "metadata": {},
   "outputs": [],
   "source": [
    "print('Best accuracy: {:0.3f}%'.format(bnb_gs.best_score_ * 100))\n",
    "print('Best parameter(s): {}'.format(bnb_gs.best_params_))"
   ]
  },
  {
   "cell_type": "markdown",
   "id": "254b3e85",
   "metadata": {},
   "source": [
    "The confusion matrices below used a **Naive Bayes Classifier** with parameter {alpha = 0.0001} (although it looks like the accuracy was the same for all values of alpha up to 1.0), used normalized data, and used parameters that were selected by the **recall** scoring measure rather than simple accuracy. Over the 30 runs and over a sample of 35 people, this model labeled (on average) $3.17$ unhealthy people as being healthy, which is as good as the best classifier yet (logistic regression), and this model labeled $3.93$ healthy people as unhealthy, which is better than our best previous classifier.\n",
    "\n",
    "This model is our best model so far, and it's lightning fast. If runtime is an issue, Naive Bayes is a strong choice."
   ]
  },
  {
   "cell_type": "code",
   "execution_count": null,
   "id": "ad09eece",
   "metadata": {},
   "outputs": [],
   "source": [
    "cross_validated_cm_generator(clf_=bnb_gs.best_estimator_, \n",
    "                             X_train_=X_train,\n",
    "                             y_train_ = y_train.values.reshape((len(y_train),)), \n",
    "                             class_labels=['No Heart Disease', 'Heart Disease'], \n",
    "                             n_splits_=5, \n",
    "                             n_reps_=6, \n",
    "                             labels=[0,1])"
   ]
  },
  {
   "cell_type": "markdown",
   "id": "94baa7c2",
   "metadata": {},
   "source": [
    "### Naive Bayes without Scaling <a id=\"nbayes_unscaled\"></a>\n",
    "\n",
    "Last time, I used normalized (scaled) data to train the naive Bayes classifier. Here, I'll see the effect of using **unnormalized** data. "
   ]
  },
  {
   "cell_type": "code",
   "execution_count": null,
   "id": "659dbd09",
   "metadata": {},
   "outputs": [],
   "source": [
    "cross_validated_cm_generator(clf_=ada_gs.best_estimator_, \n",
    "                             X_train_=X_train,\n",
    "                             y_train_ = y_train.values.reshape((len(y_train),)), \n",
    "                             class_labels=['No Heart Disease', 'Heart Disease'], \n",
    "                             n_splits_=5, \n",
    "                             n_reps_=6, \n",
    "                             labels=[0,1])"
   ]
  },
  {
   "cell_type": "markdown",
   "id": "db936b94",
   "metadata": {},
   "source": [
    "## AdaBoost with Scaled Data <a id=\"ada_scaled\"></a>\n",
    "\n",
    "The previous run was performed with base classifiers that do not do well with unscaled data. This time, I'll used the classifiers that reqire data to be scaled"
   ]
  },
  {
   "cell_type": "code",
   "execution_count": null,
   "id": "6bab4dc6",
   "metadata": {},
   "outputs": [],
   "source": [
    "svm = SVC()\n",
    "logreg = LogisticRegression()\n",
    "steps = [('scaler', StandardScaler()),\n",
    "         ('ada', AdaBoostClassifier())]\n",
    "pipeline = Pipeline(steps)\n",
    "parameters = [{'ada__base_estimator':[svm, logreg], \n",
    "               'ada__n_estimators': [100,200,300], \n",
    "               'ada__learning_rate':[0.1, 0.2, 0.3, 0.4, 0.5, 0.6], \n",
    "               'ada__algorithm': ['SAMME']}]\n",
    "ada_gs = GridSearchCV(pipeline, parameters, cv=30, return_train_score=True, scoring='recall', n_jobs=-1, verbose=4)\n",
    "ada_gs.fit(X_train, y_train.values.reshape((y_train.size,)))"
   ]
  },
  {
   "cell_type": "markdown",
   "id": "eff533e0",
   "metadata": {},
   "source": [
    "From the printout, we can see that the best model uses the following hyperparameter values:\n",
    "* Algorithm: SAMME\n",
    "* Base Estimator: Logistic Regression\n",
    "* Learning Rate: 0.1\n",
    "* Number of Models: 100"
   ]
  },
  {
   "cell_type": "code",
   "execution_count": null,
   "id": "ef07eaf7",
   "metadata": {},
   "outputs": [],
   "source": [
    "# Looking at variation over learning_rate and n_estimators with a LogisticRegression base_estimator\n",
    "tmp = map_df[(map_df['estimator'] == logreg)]\n",
    "\n",
    "train_test_param_map(x_var_='n_estimators', y_var_='learning_rate', map_df_=tmp)"
   ]
  },
  {
   "cell_type": "code",
   "execution_count": null,
   "id": "fd58177f",
   "metadata": {},
   "outputs": [],
   "source": [
    "# Looking at variation over learning_rate and n_estimators with a Decision Tree base_estimator\n",
    "tmp = map_df[(map_df['estimator'] == svm)]\n",
    "\n",
    "train_test_param_map(x_var_='n_estimators', y_var_='learning_rate', map_df_=tmp)"
   ]
  },
  {
   "cell_type": "markdown",
   "id": "6133b34c",
   "metadata": {},
   "source": [
    "Clearly something was misconfigured for the SVM classifier as that's garbage output."
   ]
  },
  {
   "cell_type": "code",
   "execution_count": null,
   "id": "83082740",
   "metadata": {},
   "outputs": [],
   "source": [
    "CSV_PATH = os.path.join('data', 'heart_disease', 'train_values.csv')\n",
    "X_train = pd.read_csv(CSV_PATH, encoding='latin1', index_col='patient_id') \n",
    "X_train.head()"
   ]
  },
  {
   "cell_type": "code",
   "execution_count": null,
   "id": "6af1acff",
   "metadata": {},
   "outputs": [],
   "source": [
    "CSV_PATH = os.path.join('data', 'heart_disease', 'test_values.csv')\n",
    "X_test = pd.read_csv(CSV_PATH, encoding='latin1', index_col='patient_id') \n",
    "X_test.head()"
   ]
  },
  {
   "cell_type": "code",
   "execution_count": null,
   "id": "6c4a1f98",
   "metadata": {},
   "outputs": [],
   "source": [
    "CSV_PATH = os.path.join('data', 'heart_disease', 'train_labels.csv')\n",
    "y_train = pd.read_csv(CSV_PATH, encoding='latin1', index_col='patient_id') \n",
    "y_train.head()"
   ]
  },
  {
   "cell_type": "markdown",
   "id": "57698c74",
   "metadata": {},
   "source": [
    "From the info printout below, we see that all of the features except for 'thal' (Thalium heart scan observation), which is has the object (string) type. From the given feature information, we know that features\n",
    "* **sex**\n",
    "* **fasting_blood_sugar_gt_120_mg_per_dl**\n",
    "* **exercise_induced_angina**\n",
    "\n",
    "are binary categories and features\n",
    "\n",
    "* **resting_ekg_results**\n",
    "* **chest_pain_type**\n",
    "* **thal**\n",
    "* **slope_of_peak_exercise_st_segment**\n",
    "\n",
    "are categorical features with more than 2 categories.\n",
    "\n",
    "I'm using sklearn's machine learning libraries for my analysis, and sklearn is built on the numpy library which cannot correctly handle features of categorical data. To produce correct results, we'll have to make dummy variables for categorical features."
   ]
  },
  {
   "cell_type": "code",
   "execution_count": null,
   "id": "77cf7033",
   "metadata": {},
   "outputs": [],
   "source": [
    "map_df = pd.DataFrame(logreg_grid_dict)\n",
    "x_var = map_df[map_df['penalty'] == 'l1']['C']\n",
    "\n",
    "fig, ax = plt.subplots(figsize=(12,8))\n",
    "ax.semilogx(x_var, map_df[map_df['penalty'] == 'l1']['mean_train_score'], label='L1 Train', linewidth=3)\n",
    "ax.semilogx(x_var, map_df[map_df['penalty'] == 'l1']['mean_test_score'], label='L1 Test', linewidth=3)\n",
    "ax.semilogx(x_var, map_df[map_df['penalty'] == 'l2']['mean_train_score'], label='L2 Train', linewidth=3)\n",
    "ax.semilogx(x_var, map_df[map_df['penalty'] == 'l2']['mean_test_score'], label='L2 Test', linewidth=3)\n",
    "ax.legend(fontsize=14, loc='best')\n",
    "ax.set_title('Model Recall Score as a function of C and Regularization Type', fontsize=16)\n",
    "ax.set_xlabel('C (Inverse Regularization Strength)', fontsize=14)\n",
    "ax.set_ylabel('Recall Score', fontsize=14)\n",
    "plt.show()"
   ]
  },
  {
   "cell_type": "code",
   "execution_count": null,
   "id": "0738ae2d",
   "metadata": {},
   "outputs": [],
   "source": [
    "# Looking at variation over Solver and Activation Function \n",
    "# with hidden_layer_sizes, alpha, and learning_rate set to best values\n",
    "tmp = map_df[(map_df['hidden_layer_sizes'] == (20,)) & \\\n",
    "             (map_df['alpha'] == 0.00001) & \\\n",
    "             (map_df['learning_rate'] == 'invscaling')]\n",
    "\n",
    "train_test_param_map(x_var_='solver', y_var_='activation', map_df_=tmp)"
   ]
  },
  {
   "cell_type": "code",
   "execution_count": null,
   "id": "11426ed2",
   "metadata": {},
   "outputs": [],
   "source": [
    "# Looking at variation over Learning Rate and Activation Function \n",
    "# with hidden_layer_sizes, alpha, and solver set to best values\n",
    "tmp = map_df[(map_df['hidden_layer_sizes'] == (20,)) & \\\n",
    "             (map_df['alpha'] == 0.00001) & \\\n",
    "             (map_df['solver'] == 'sgd')]\n",
    "\n",
    "train_test_param_map(x_var_='learning_rate', y_var_='activation', map_df_=tmp)"
   ]
  },
  {
   "cell_type": "markdown",
   "id": "a12ff4db",
   "metadata": {},
   "source": [
    "From the printout, we can see that the best model uses an alpha (smoothing parameter) value of 10."
   ]
  },
  {
   "cell_type": "markdown",
   "id": "7c2ccc82",
   "metadata": {},
   "source": [
    "The confusion matrices below used a **Naive Bayes Classifier** with parameter {alpha = 10} (although it looks like the accuracy was the same for all values of alpha up to 0.1), used **unnormalized** data, and used parameters that were selected by the **recall** scoring measure rather than simple accuracy. Over the 30 runs and over a sample of 35 people, this model labeled (on average) $3.30$ unhealthy people as being healthy, and this model labeled $3.60$ healthy people as unhealthy.\n",
    "\n",
    "Data normalization was the only difference between this and the previous model, and from this result, normalizing produced better accuracy. "
   ]
  },
  {
   "cell_type": "code",
   "execution_count": null,
   "id": "ab6ff4d8",
   "metadata": {},
   "outputs": [],
   "source": [
    "map_df[(map_df['estimator'] == logreg) & (map_df['n_estimators'] == 200)]['learning_rate']"
   ]
  },
  {
   "cell_type": "code",
   "execution_count": null,
   "id": "e07d0238",
   "metadata": {},
   "outputs": [],
   "source": [
    "x_var = map_df[(map_df['estimator'] == logreg) & (map_df['n_estimators'] == 200)]['learning_rate']\n",
    "ada_logreg = map_df[(map_df['estimator'] == logreg) & (map_df['n_estimators'] == 200)]\n",
    "ada_svm = map_df[(map_df['estimator'] == svm) & (map_df['n_estimators'] == 200)]\n",
    "\n",
    "fig, ax = plt.subplots(figsize=(12,8))\n",
    "ax.plot(x_var, ada_logreg['mean_train_score'], label='Ada LogReg Train', linewidth=3)\n",
    "ax.plot(x_var, ada_logreg['mean_test_score'], label='Ada LogReg Test', linewidth=3)\n",
    "ax.legend(fontsize=14, loc='best')\n",
    "ax.set_title('AdaBoost Recall Score as a function of Base Estimator and Learning Rate)', fontsize=16)\n",
    "ax.set_xlabel('Learning Rate', fontsize=14)\n",
    "ax.set_ylabel('Recall Score', fontsize=14)\n",
    "plt.show()"
   ]
  },
  {
   "cell_type": "markdown",
   "id": "03ff4cd7",
   "metadata": {},
   "source": [
    "The confusion matrices below are for the **AdaBoost Classifier** with above parameters, was trained with **normalized** data, and used parameters that were selected by the **recall** scoring measure rather than simple accuracy. Over the 30 runs and over a sample of 35 people, this model labeled (on average) $3.13$ unhealthy people as being healthy, and this model labeled $3.17$ healthy.\n",
    "\n",
    "This performed pretty well. Not best, but in the upper fifth."
   ]
  },
  {
   "cell_type": "markdown",
   "id": "6212c14a",
   "metadata": {},
   "source": [
    "## Stochastic Gradient Boosting <a id=\"sgb\"></a>\n",
    "\n",
    "**Gradient Boosting** is similar to AdaBoost in that it uses an ensemble of weak learners that improve through iterative adjustment. At each iteration in the process, the constituent estimators adjust feature weights to minimize some differentiable cost/loss function, and they determine how to adjust these feature weights by calculating the gradient of the training data and then trying to fit to the negative gradient. \n",
    "\n",
    "It's a fairly sophisticated mathematical process and it's best to understand it in 3 dimensions first before jumping up to higher dimensions (each feature gets its own dimension). Imagine you're standing on the side of a hill and you're facing uphill. Behind you, the ground slopes down, in front of you, the ground slopes up, and to your left and right, the ground stays at the same height. Let's say the loss function is your gravitational potential energy (which is basically how high up you are). Some equation describes the shape of the hill you're standing on (for the hill below, it would be $z = 20 - (x^2 + y^2)$), and some function describes your gravitational potential energy ($F(x,y,z) = mgz = mg(20 - (x^2 + y^2))$). The gradient of $F(x,y,z) = \\nabla F(x,y,z) = \\big( \\frac{\\partial x}{\\partial F}, \\frac{\\partial y}{\\partial F}, \\frac{\\partial z}{\\partial F} \\big)$ is vector showing the direction that minimizes $F$, and the negative of the gradient is the vector showing the direction that minimizes $F$. For this hill, the negative gradient would be $2mg\\big< x, y, 0 \\big>$, so if you were on the hill at coordinates $(1,1,18)$ and wanted to minimize your gravitational potential energy, you would move in the direction $\\big<1,1,0\\big>$. Stated in plain english, you would move in the direction that was steepest downward.  \n",
    "\n",
    "Gradient Boosting works by using the training data to define the surface and then tries to fit the negative gradient of that surface, and **Stochastic Gradient Boosting** extends this by only using a subset of the training data to generate this surface.\n",
    "\n",
    "You can read more about this in Jerome H. Friedman's [whitepaper on Stochastic Gradient Boosting](https://statweb.stanford.edu/~jhf/ftp/stobst.pdf)."
   ]
  },
  {
   "cell_type": "code",
   "execution_count": null,
   "id": "dbd3080a",
   "metadata": {},
   "outputs": [],
   "source": [
    "fig = plt.figure(figsize=(12,8))\n",
    "def f(x, y):\n",
    "    return 20 - (x ** 2 + y ** 2) \n",
    "X, Y = np.meshgrid(np.linspace(-3, 3, 30), np.linspace(-3, 3, 30))\n",
    "ax = plt.axes(projection='3d')\n",
    "ax.plot_wireframe(X, Y, f(X, Y))\n",
    "ax.set_xlabel('x')\n",
    "ax.set_ylabel('y')\n",
    "ax.set_zlabel('z');"
   ]
  },
  {
   "cell_type": "code",
   "execution_count": null,
   "id": "28f96acc",
   "metadata": {},
   "outputs": [],
   "source": [
    "grid_clf = knn_gs\n",
    "knn_grid_dict = {'mean_train_score': grid_clf.cv_results_['mean_train_score'],\n",
    "                'mean_test_score': grid_clf.cv_results_['mean_test_score'], \n",
    "                'n_neighbors': grid_clf.cv_results_['param_knn__n_neighbors'],\n",
    "                'weights': grid_clf.cv_results_['param_knn__weights'], \n",
    "                'metric': grid_clf.cv_results_['param_knn__metric']} \n",
    "\n",
    "map_df = pd.DataFrame(knn_grid_dict)"
   ]
  }
 ],
 "metadata": {},
 "nbformat": 4,
 "nbformat_minor": 5
}
