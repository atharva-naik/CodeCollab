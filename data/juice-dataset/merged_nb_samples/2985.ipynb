{
 "cells": [
  {
   "cell_type": "markdown",
   "id": "74b85b0c",
   "metadata": {},
   "source": [
    "# Basic R\n",
    "\n",
    "## Introduction\n",
    "\n",
    "One cannot acquire a new programming language without investing numerous hours.\n",
    "[R-Introduction](https://cran.r-project.org/doc/manuals/r-release/R-intro.pdf) is an official manual\n",
    "maintained by the R core team.\n",
    "It was the first document that I perused painstakingly when I began to learn R in 2005.\n",
    "After so many years, this is still the best starting point for you to have a taste.\n",
    "\n",
    "This lecture quickly sketches some key points of the manual, while you should carefully go over R-Introduction\n",
    "after today's lecture.\n",
    "\n",
    "## Help System\n",
    "\n",
    "The help system is the first thing we must learn for a new language.\n",
    "In R, if we know the exact name of a function and want to check its usage, we can either call `help(function_name)` or a single question mark `?function_name`.\n",
    "If we do not know the exact function name, we can instead use the double question mark `??key_words`. It will provide a list of related function names from a fuzzy search.\n",
    "\n",
    "**Example**: `?seq`, `??sequence`"
   ]
  },
  {
   "cell_type": "markdown",
   "id": "b99c2c00",
   "metadata": {},
   "source": [
    "## Vector\n",
    "\n",
    "A *vector* is a collection of elements of the same type, say, integer, logical value, real number, complex number, characters or factor.\n",
    "Unlike C, R does not require explicit type declaration.\n",
    "\n",
    " `<-` assigns the value on its right-hand side to a self-defined variable name on its left-hand side. `=` is an alternative for assignment, which I prefer.\n",
    "\n",
    " `c()`  combines two or more vectors into a long vector.\n",
    "\n",
    "\n",
    "Binary arithmetic operations `+`, `-`, `*` and `\\` are performed element by element.\n",
    "So are the binary logical operations `&` `|` `!=`.\n",
    "\n",
    "*Factor* is a categorical number. *Character* is text.\n",
    "\n",
    "Missing values in R is represented as `NA` (Not Available). When some operations are not allowed, say, `log(-1)`, R returns  `NaN` (Not a Number).\n",
    "\n",
    "Vector selection is specified in square bracket `a[ ]` by either positive integer or logical vector.\n",
    "\n",
    "**Example**\n",
    "\n",
    "Logical vector operation."
   ]
  },
  {
   "cell_type": "code",
   "execution_count": null,
   "id": "710071c3",
   "metadata": {},
   "outputs": [],
   "source": [
    "logi_1 = [True,True,False]\n",
    "logi_2 = [False,True,True]\n",
    "\n",
    "logi_12 = logi_1 and logi_2\n",
    "print(logi_12)"
   ]
  },
  {
   "cell_type": "markdown",
   "id": "d41a87a7",
   "metadata": {},
   "source": [
    "## Array and Matrix\n",
    "\n",
    "An array is a table of numbers.  \n",
    "A matrix is a 2-dimensional array.\n",
    "\n",
    "* array arithmetic: element-by-element. Caution must be exercised in binary operations involving two objects of different length. This is error-prone.\n",
    "* `%*%`, `solve`, `eigen`\n",
    "\n",
    "**Example**\n",
    "\n",
    "OLS estimation with one $x$ regressor and a constant.\n",
    "Graduate textbook expresses the OLS in matrix form\n",
    "$$\\hat{\\beta} = (X' X)^{-1} X'y.$$\n",
    "To conduct OLS estimation in R, we literally translate the mathematical expression into code.\n",
    "\n",
    "Step 1: We need data $Y$ and $X$ to run OLS. We simulate an artificial dataset."
   ]
  }
 ],
 "metadata": {},
 "nbformat": 4,
 "nbformat_minor": 5
}
