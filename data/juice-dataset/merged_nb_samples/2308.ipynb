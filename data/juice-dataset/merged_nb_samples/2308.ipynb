{
 "cells": [
  {
   "cell_type": "markdown",
   "id": "25879fa8",
   "metadata": {},
   "source": [
    "## Common plot-saving code (use this in all notebooks)\n",
    "**Use `savefigure('my-plot-name.png')` to save figures.** This will put them in a subdirectory of `figures` with the same name as this script so they will be easy to find. \n",
    "\n",
    "`savefigure` is defined below. Set `disable_savefig=True` to disable saving, so you can run this notebook without overwriting figures already created."
   ]
  }
 ],
 "metadata": {},
 "nbformat": 4,
 "nbformat_minor": 5
}
