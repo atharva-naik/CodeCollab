{
 "cells": [
  {
   "cell_type": "markdown",
   "id": "3a240b35",
   "metadata": {},
   "source": [
    "# Matplotlib styles examples\n",
    "\n",
    "The matplotlib documentation is pretty incomplete, and all you really want to know about its style sheets is what they look like - but they're not shown in an easily comparable way. So here they are!"
   ]
  },
  {
   "cell_type": "code",
   "execution_count": null,
   "id": "eecc9eb8",
   "metadata": {},
   "outputs": [],
   "source": [
    "%matplotlib inline\n",
    "\n",
    "from matplotlib import pyplot as plt\n",
    "import numpy as np\n",
    "\n",
    "sorted(plt.style.available)"
   ]
  },
  {
   "cell_type": "markdown",
   "id": "df030f34",
   "metadata": {},
   "source": [
    "## And what do they look like?\n",
    "\n",
    "To globally change the style, use `plt.style.use(<name>)`. Here, we're going to temporarily switch between them using the context manager form: `with plt.style.context((<name>))`. But first let's set up the plots we want to show."
   ]
  },
  {
   "cell_type": "code",
   "execution_count": null,
   "id": "d604a367",
   "metadata": {},
   "outputs": [],
   "source": [
    "def make_title(s):\n",
    "    return s.replace('-', ' ').replace('_', ' ').title()\n",
    "\n",
    "\n",
    "def make_plots(style_str=None):\n",
    "    fig, axes_array = plt.subplots(2, 2)\n",
    "    ((ax1, ax2), (ax3, ax4)) = axes_array\n",
    "    \n",
    "    # sine and cosine line plots\n",
    "    x = np.arange(10)\n",
    "    y_sin = np.sin(x)\n",
    "    y_cos = np.cos(x)\n",
    "    ax1.plot(x, y_sin)\n",
    "    ax1.plot(x, y_cos)\n",
    "    ax1.set_title('sine and cosine line plots')\n",
    "    \n",
    "    # a random scatter plot\n",
    "    points1 = np.random.rand(20,2)\n",
    "    points2 = np.random.rand(20,2)\n",
    "    ax2.scatter(points1[:, 0], points1[:, 1])\n",
    "    ax2.scatter(points2[:, 0], points1[:, 1])\n",
    "    ax2.set_title('a random scatter plot')\n",
    "    \n",
    "    # a random bar graph\n",
    "    width = 0.4\n",
    "    middles = np.arange(1, 6)\n",
    "    heights1 = np.random.rand(5)\n",
    "    heights2 = np.random.rand(5)\n",
    "    ax3.bar(middles - width, heights1, width)\n",
    "    ax3.bar(middles, heights2, width)\n",
    "    ax3.set_title('a random bar graph')\n",
    "    \n",
    "    # a random pie chart\n",
    "    values = np.random.rand(5)\n",
    "    frac_values = values/values.sum()\n",
    "    labels = ['A', 'B', 'C', 'D', 'E']\n",
    "    ax4.pie(frac_values, labels=labels)\n",
    "    ax4.set_title('a random pie chart')\n",
    "    \n",
    "    # draw them!\n",
    "    fig.suptitle('{} ({})'.format(make_title(style_str), style_str) if style_str else 'Default Settings', fontsize=20)\n",
    "    fig.subplots_adjust(hspace=0.3)\n",
    "    fig.set_size_inches(10, 10)\n",
    "    plt.show()"
   ]
  },
  {
   "cell_type": "markdown",
   "id": "1eb40008",
   "metadata": {},
   "source": [
    "## Things you'll note\n",
    "\n",
    "- Pie charts don't play nice with style sheet colours\n",
    "- Seaborn styles are generally quite nice (note: your matplotlib starts using a seaborn style if you simply `import seaborn`!) \n",
    "- Matlab-like styles make horrible graphs for horrible people\n",
    "- None of these plots are really ready for presenting without more tinkering! "
   ]
  },
  {
   "cell_type": "markdown",
   "id": "8ad2d594",
   "metadata": {},
   "source": [
    "### Default settings"
   ]
  },
  {
   "cell_type": "code",
   "execution_count": null,
   "id": "b5819ec2",
   "metadata": {},
   "outputs": [],
   "source": [
    "make_plots()"
   ]
  },
  {
   "cell_type": "markdown",
   "id": "37ee2f3b",
   "metadata": {},
   "source": [
    "### Seaborn Darkgrid (`'seaborn-darkgrid'`)"
   ]
  },
  {
   "cell_type": "code",
   "execution_count": null,
   "id": "15a71594",
   "metadata": {},
   "outputs": [],
   "source": [
    "with plt.style.context(('seaborn-darkgrid')):\n",
    "    make_plots('seaborn-darkgrid')        "
   ]
  },
  {
   "cell_type": "markdown",
   "id": "2ef04203",
   "metadata": {},
   "source": [
    "### Seaborn Whitegrid (`'seaborn-whitegrid'`)"
   ]
  },
  {
   "cell_type": "code",
   "execution_count": null,
   "id": "81e8462c",
   "metadata": {},
   "outputs": [],
   "source": [
    "with plt.style.context(('seaborn-colorblind')):\n",
    "    make_plots('seaborn-colorblind')        "
   ]
  },
  {
   "cell_type": "markdown",
   "id": "7ab8e55c",
   "metadata": {},
   "source": [
    "### Seaborn Ticks (`'seaborn-ticks'`)"
   ]
  },
  {
   "cell_type": "code",
   "execution_count": null,
   "id": "1e678c59",
   "metadata": {},
   "outputs": [],
   "source": [
    "with plt.style.context(('seaborn-ticks')):\n",
    "    make_plots('seaborn-ticks')        "
   ]
  },
  {
   "cell_type": "markdown",
   "id": "db91ff22",
   "metadata": {},
   "source": [
    "### Fivethirtyeight (`'fivethirtyeight'`)"
   ]
  },
  {
   "cell_type": "code",
   "execution_count": null,
   "id": "8f5e7e1d",
   "metadata": {},
   "outputs": [],
   "source": [
    "with plt.style.context(('fivethirtyeight')):\n",
    "    make_plots('fivethirtyeight')        "
   ]
  },
  {
   "cell_type": "markdown",
   "id": "b2639c1f",
   "metadata": {},
   "source": [
    "### Dark Background (`'dark_background'`)"
   ]
  },
  {
   "cell_type": "code",
   "execution_count": null,
   "id": "a009f050",
   "metadata": {},
   "outputs": [],
   "source": [
    "with plt.style.context(('dark_background')):\n",
    "    make_plots('dark_background')        "
   ]
  },
  {
   "cell_type": "markdown",
   "id": "7e8b1ac2",
   "metadata": {},
   "source": [
    "### Seaborn White (`'seaborn-white'`)"
   ]
  },
  {
   "cell_type": "code",
   "execution_count": null,
   "id": "ac9e0fd1",
   "metadata": {},
   "outputs": [],
   "source": [
    "with plt.style.context(('seaborn-white')):\n",
    "    make_plots('seaborn-white')        "
   ]
  },
  {
   "cell_type": "markdown",
   "id": "81fb5fff",
   "metadata": {},
   "source": [
    "### Classic (`'classic'`)"
   ]
  },
  {
   "cell_type": "code",
   "execution_count": null,
   "id": "4f6603be",
   "metadata": {},
   "outputs": [],
   "source": [
    "with plt.style.context(('classic')):\n",
    "    make_plots('classic')        "
   ]
  },
  {
   "cell_type": "markdown",
   "id": "055002fd",
   "metadata": {},
   "source": [
    "### Seaborn Notebook (`'seaborn-notebook'`)"
   ]
  },
  {
   "cell_type": "code",
   "execution_count": null,
   "id": "c16ef9ca",
   "metadata": {},
   "outputs": [],
   "source": [
    "with plt.style.context(('seaborn-whitegrid')):\n",
    "    make_plots('seaborn-whitegrid')        "
   ]
  },
  {
   "cell_type": "markdown",
   "id": "83ce1629",
   "metadata": {},
   "source": [
    "### Seaborn Dark Palette (`'seaborn-dark-palette'`)"
   ]
  },
  {
   "cell_type": "code",
   "execution_count": null,
   "id": "15a8b736",
   "metadata": {},
   "outputs": [],
   "source": [
    "with plt.style.context(('seaborn-dark-palette')):\n",
    "    make_plots('seaborn-dark-palette')        "
   ]
  },
  {
   "cell_type": "markdown",
   "id": "89d59e25",
   "metadata": {},
   "source": [
    "### Seaborn Paper (`'seaborn-paper'`)"
   ]
  },
  {
   "cell_type": "code",
   "execution_count": null,
   "id": "1383d09c",
   "metadata": {},
   "outputs": [],
   "source": [
    "with plt.style.context(('seaborn-paper')):\n",
    "    make_plots('seaborn-paper')        "
   ]
  },
  {
   "cell_type": "markdown",
   "id": "3dc1720e",
   "metadata": {},
   "source": [
    "### Seaborn Talk (`'seaborn-talk'`)"
   ]
  },
  {
   "cell_type": "code",
   "execution_count": null,
   "id": "52df2594",
   "metadata": {},
   "outputs": [],
   "source": [
    "with plt.style.context(('seaborn-pastel')):\n",
    "    make_plots('seaborn-pastel')        "
   ]
  },
  {
   "cell_type": "markdown",
   "id": "70c6acdd",
   "metadata": {},
   "source": [
    "### Bmh (`'bmh'`)"
   ]
  },
  {
   "cell_type": "code",
   "execution_count": null,
   "id": "f888506b",
   "metadata": {},
   "outputs": [],
   "source": [
    "with plt.style.context(('bmh')):\n",
    "    make_plots('bmh')        "
   ]
  },
  {
   "cell_type": "markdown",
   "id": "15ad7a00",
   "metadata": {},
   "source": [
    "### Seaborn Colorblind (`'seaborn-colorblind'`)"
   ]
  },
  {
   "cell_type": "code",
   "execution_count": null,
   "id": "5d4e5d65",
   "metadata": {},
   "outputs": [],
   "source": [
    "with plt.style.context(('seaborn-notebook')):\n",
    "    make_plots('seaborn-notebook')        "
   ]
  },
  {
   "cell_type": "markdown",
   "id": "69397d85",
   "metadata": {},
   "source": [
    "### Seaborn Muted (`'seaborn-muted'`)"
   ]
  },
  {
   "cell_type": "code",
   "execution_count": null,
   "id": "3e6cff8d",
   "metadata": {},
   "outputs": [],
   "source": [
    "with plt.style.context(('seaborn-muted')):\n",
    "    make_plots('seaborn-muted')        "
   ]
  },
  {
   "cell_type": "markdown",
   "id": "04f8a16e",
   "metadata": {},
   "source": [
    "### Seaborn Deep (`'seaborn-deep'`)"
   ]
  },
  {
   "cell_type": "code",
   "execution_count": null,
   "id": "f623cdc7",
   "metadata": {},
   "outputs": [],
   "source": [
    "with plt.style.context(('seaborn-deep')):\n",
    "    make_plots('seaborn-deep')        "
   ]
  },
  {
   "cell_type": "markdown",
   "id": "7dbdef3c",
   "metadata": {},
   "source": [
    "### Seaborn Poster (`'seaborn-poster'`)"
   ]
  },
  {
   "cell_type": "code",
   "execution_count": null,
   "id": "412173c8",
   "metadata": {},
   "outputs": [],
   "source": [
    "with plt.style.context(('seaborn-talk')):\n",
    "    make_plots('seaborn-talk')        "
   ]
  },
  {
   "cell_type": "markdown",
   "id": "3f37ca56",
   "metadata": {},
   "source": [
    "### Seaborn Dark (`'seaborn-dark'`)"
   ]
  },
  {
   "cell_type": "code",
   "execution_count": null,
   "id": "202010f6",
   "metadata": {},
   "outputs": [],
   "source": [
    "with plt.style.context(('seaborn-dark')):\n",
    "    make_plots('seaborn-dark')        "
   ]
  },
  {
   "cell_type": "markdown",
   "id": "f7a47643",
   "metadata": {},
   "source": [
    "### Seaborn Bright (`'seaborn-bright'`)"
   ]
  },
  {
   "cell_type": "code",
   "execution_count": null,
   "id": "c03b23d7",
   "metadata": {},
   "outputs": [],
   "source": [
    "with plt.style.context(('seaborn-bright')):\n",
    "    make_plots('seaborn-bright')        "
   ]
  },
  {
   "cell_type": "markdown",
   "id": "0e1c41e1",
   "metadata": {},
   "source": [
    "### Ggplot (`'ggplot'`)"
   ]
  },
  {
   "cell_type": "code",
   "execution_count": null,
   "id": "56b25166",
   "metadata": {},
   "outputs": [],
   "source": [
    "with plt.style.context(('ggplot')):\n",
    "    make_plots('ggplot')        "
   ]
  },
  {
   "cell_type": "markdown",
   "id": "da484078",
   "metadata": {},
   "source": [
    "### Grayscale (`'grayscale'`)"
   ]
  },
  {
   "cell_type": "code",
   "execution_count": null,
   "id": "98c6d17a",
   "metadata": {},
   "outputs": [],
   "source": [
    "with plt.style.context(('grayscale')):\n",
    "    make_plots('grayscale')        "
   ]
  },
  {
   "cell_type": "markdown",
   "id": "1e280b2f",
   "metadata": {},
   "source": [
    "### Seaborn Pastel (`'seaborn-pastel'`)"
   ]
  }
 ],
 "metadata": {},
 "nbformat": 4,
 "nbformat_minor": 5
}
