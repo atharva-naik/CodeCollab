{
 "cells": [
  {
   "cell_type": "code",
   "execution_count": null,
   "id": "01d63142",
   "metadata": {},
   "outputs": [],
   "source": [
    "def random_warp(img):\n",
    " \n",
    "    #getting rows, cols form the input img\n",
    "    r,c,_ = img.shape\n",
    "    #degree of warping\n",
    "    degree = 0.09\n",
    "    # random scaling coefficients\n",
    "    rndx = np.random.rand(3) - 0.5\n",
    "    rndx *= c * degree\n",
    "    rndy = np.random.rand(3) - 0.5\n",
    "    rndy *= r * degree\n",
    "    # 3 starting points for transform, 1/4 way from edges\n",
    "    x1 = c/4\n",
    "    x2 = 3*c/4\n",
    "    y1 = r/4\n",
    "    y2 = 3*r/4\n",
    "\n",
    "    pts1 = np.float32([[y1,x1],[y2,x1],[y1,x2]])\n",
    "    pts2 = np.float32([[y1+rndy[0],x1+rndx[0]],[y2+rndy[1],x1+rndx[1]],[y1+rndy[2],x2+rndx[2]]])\n",
    "    \n",
    "    M = cv2.getAffineTransform(pts1,pts2)\n",
    "    dst = cv2.warpAffine(img,M,(c,r))   \n",
    "    dst = dst[:,:,np.newaxis]   \n",
    "    return dst"
   ]
  },
  {
   "cell_type": "markdown",
   "id": "1770600e",
   "metadata": {},
   "source": [
    "Testing random_warp:"
   ]
  },
  {
   "cell_type": "code",
   "execution_count": null,
   "id": "64e30fc2",
   "metadata": {},
   "outputs": [],
   "source": [
    "test_img = X_train_norm[random.randint(0,len(X_train_norm))]\n",
    "test_dst = random_warp(test_img)\n",
    "fig, axes = plt.subplots(1,2, figsize=(7, 3))\n",
    "\n",
    "axes[0].axis('off')\n",
    "axes[0].imshow(test_img.squeeze(), cmap='gray')\n",
    "axes[0].set_title('original')\n",
    "\n",
    "axes[1].axis('off')\n",
    "axes[1].imshow(test_dst.squeeze(), cmap='gray')\n",
    "axes[1].set_title('warped')\n",
    "\n",
    "print('shape input/output:', test_img.shape,\"/\", test_dst.shape)"
   ]
  },
  {
   "cell_type": "markdown",
   "id": "99178431",
   "metadata": {},
   "source": [
    "#### Third function: random_zoom"
   ]
  },
  {
   "cell_type": "code",
   "execution_count": null,
   "id": "6cc4b8bb",
   "metadata": {},
   "outputs": [],
   "source": [
    "def random_zoom(img): \n",
    "    #getting rows, cols form the input img\n",
    "    r,c,_ = img.shape\n",
    "    # zooming factor\n",
    "    px = np.random.randint(-4,4)\n",
    "    # ending locations\n",
    "    pts1 = np.float32([[px,px],[r-px,px],[px,c-px],[r-px,c-px]])\n",
    "    # starting locations (4 corners)\n",
    "    pts2 = np.float32([[0,0],[r,0],[0,c],[r,c]])\n",
    "    M = cv2.getPerspectiveTransform(pts1,pts2)\n",
    "    dst = cv2.warpPerspective(img,M,(r,c))  \n",
    "    dst = dst[:,:,np.newaxis]   \n",
    "    return dst"
   ]
  },
  {
   "cell_type": "markdown",
   "id": "c5e1e1e0",
   "metadata": {},
   "source": [
    "Testing random_zoom:"
   ]
  },
  {
   "cell_type": "code",
   "execution_count": null,
   "id": "944355c5",
   "metadata": {},
   "outputs": [],
   "source": [
    "test_img = X_train_norm[random.randint(0,len(X_train_norm))]\n",
    "test_dst = random_zoom(test_img)\n",
    "fig, axes = plt.subplots(1,2, figsize=(7, 3))\n",
    "\n",
    "axes[0].axis('off')\n",
    "axes[0].imshow(test_img.squeeze(), cmap='gray')\n",
    "axes[0].set_title('original')\n",
    "\n",
    "axes[1].axis('off')\n",
    "axes[1].imshow(test_dst.squeeze(), cmap='gray')\n",
    "axes[1].set_title('zoomed')\n",
    "\n",
    "print('shape input/output:', test_img.shape,\"/\", test_dst.shape)"
   ]
  },
  {
   "cell_type": "markdown",
   "id": "1a1e0fe4",
   "metadata": {},
   "source": [
    "### Stacking up the dataset"
   ]
  },
  {
   "cell_type": "code",
   "execution_count": null,
   "id": "b229d1b5",
   "metadata": {},
   "outputs": [],
   "source": [
    "input_indices = []\n",
    "output_indices = []\n",
    "\n",
    "for i in range(n_classes):\n",
    "    class_indices = np.where(y_train == i)\n",
    "    n_samples = len(class_indices[0])\n",
    "    if n_samples < 1000:\n",
    "        for j in range(1000 - n_samples):\n",
    "            input_indices.append(class_indices[0][j%n_samples])\n",
    "            output_indices.append(X_train_norm.shape[0])\n",
    "            new_img = X_train_norm[class_indices[0][j % n_samples]]\n",
    "            new_img = random_translate(random_zoom(random_warp(new_img)))\n",
    "            #combining \n",
    "            X_train_norm = np.concatenate((X_train_norm, [new_img]), axis=0)\n",
    "            y_train = np.concatenate((y_train, [i]), axis=0)\n",
    "\n",
    "print('X/y shapes after augmentation:', X_train_norm.shape, y_train.shape)   "
   ]
  },
  {
   "cell_type": "code",
   "execution_count": null,
   "id": "474f02c7",
   "metadata": {},
   "outputs": [],
   "source": [
    "# show comparisons of 5 random augmented data points\n",
    "choices = list(range(len(input_indices)))\n",
    "picks = []\n",
    "for i in range(5):\n",
    "    rnd_index = np.random.randint(low=0,high=len(choices))\n",
    "    picks.append(choices.pop(rnd_index))\n",
    "fig, axes = plt.subplots(2,5, figsize=(15, 6))\n",
    "fig.subplots_adjust(hspace = .2, wspace=.001)\n",
    "axes = axes.ravel()\n",
    "for i in range(5):\n",
    "    image = X_train_norm[input_indices[picks[i]]].squeeze()\n",
    "    axes[i].axis('off')\n",
    "    axes[i].imshow(image, cmap = 'gray')\n",
    "    axes[i].set_title(y_train[input_indices[picks[i]]])\n",
    "for i in range(5):\n",
    "    image = X_train_norm[output_indices[picks[i]]].squeeze()\n",
    "    axes[i+5].axis('off')\n",
    "    axes[i+5].imshow(image, cmap = 'gray')\n",
    "    axes[i+5].set_title(y_train[output_indices[picks[i]]])\n",
    "    print(image.shape)\n"
   ]
  },
  {
   "cell_type": "code",
   "execution_count": null,
   "id": "72ee484a",
   "metadata": {},
   "outputs": [],
   "source": [
    "his = np.histogram(y_train,bins=n_classes)\n",
    "fig, axes = plt.subplots(1,1, figsize= (12,4))\n",
    "plt.bar(his[1][1:],his[0], width = 0.8)\n",
    "axes.set_xticks(his[1][1:])\n",
    "axes.set_xticklabels(i for i in range(43))\n",
    "plt.axhline(y=1000, color='r', linestyle='--')\n",
    "plt.show()"
   ]
  },
  {
   "cell_type": "markdown",
   "id": "81512073",
   "metadata": {},
   "source": [
    "Splitting into train und validation set with [sklearn](http://scikit-learn.org/stable/modules/generated/sklearn.model_selection.train_test_split.html)"
   ]
  },
  {
   "cell_type": "markdown",
   "id": "dce116ca",
   "metadata": {},
   "source": [
    "### Model Architecture"
   ]
  },
  {
   "cell_type": "code",
   "execution_count": null,
   "id": "384dcd2f",
   "metadata": {},
   "outputs": [],
   "source": [
    "### Define your architecture here.\n",
    "### Feel free to use as many code cells as needed."
   ]
  },
  {
   "cell_type": "code",
   "execution_count": null,
   "id": "221e4722",
   "metadata": {},
   "outputs": [],
   "source": [
    "import tensorflow as tf\n",
    "\n",
    "EPOCHS = 100\n",
    "BATCH_SIZE = 190"
   ]
  },
  {
   "cell_type": "code",
   "execution_count": null,
   "id": "fb2782a1",
   "metadata": {},
   "outputs": [],
   "source": [
    "from tensorflow.contrib.layers import flatten\n",
    "\n",
    "def LeNet(x):    \n",
    "    # Arguments used for tf.truncated_normal, randomly defines variables for the weights and biases for each layer\n",
    "    mu = 0\n",
    "    sigma = 0.1\n",
    "    #keep_prob = 0.75\n",
    "    # Layer 1: Convolutional. Input = 32x32x1. Output = 28x28x20. \n",
    "    conv1_W = tf.Variable(tf.truncated_normal(shape=(5, 5, 1, 20), mean = mu, stddev = sigma))\n",
    "    conv1_b = tf.Variable(tf.zeros(20))\n",
    "    conv1   = tf.nn.conv2d(x, conv1_W, strides=[1, 1, 1, 1], padding='VALID') + conv1_b\n",
    "    # Activation.\n",
    "    conv1 = tf.nn.relu(conv1)\n",
    "    # Pooling. Input = 28x28x20. Output = 14x14x20.\n",
    "    conv1 = tf.nn.max_pool(conv1, ksize=[1, 2, 2, 1], strides=[1, 2, 2, 1], padding='VALID')\n",
    "    # Layer 2: Convolutional. Output = 10x10x40.  \n",
    "    conv2_W = tf.Variable(tf.truncated_normal(shape=(5, 5, 20, 40), mean = mu, stddev = sigma))\n",
    "    conv2_b = tf.Variable(tf.zeros(40))\n",
    "    conv2   = tf.nn.conv2d(conv1, conv2_W, strides=[1, 1, 1, 1], padding='VALID') + conv2_b    \n",
    "    # Activation.\n",
    "    conv2 = tf.nn.relu(conv2)\n",
    "    # Pooling. Input = 10x10x40. Output = 5x5x40.\n",
    "    conv2 = tf.nn.max_pool(conv2, ksize=[1, 2, 2, 1], strides=[1, 2, 2, 1], padding='VALID')\n",
    "    # Flatten. Input = 5x5x40. Output = 1000.\n",
    "    fc0   = flatten(conv2)    \n",
    "    # Layer 3: Fully Connected. Input = 1000. Output = 325.\n",
    "    fc1_W = tf.Variable(tf.truncated_normal(shape=(1000, 325), mean = mu, stddev = sigma))\n",
    "    fc1_b = tf.Variable(tf.zeros(325))\n",
    "    fc1   = tf.matmul(fc0, fc1_W) + fc1_b   \n",
    "    # Activation.\n",
    "    fc1    = tf.nn.relu(fc1)\n",
    "    #Dropout\n",
    "    fc1 = tf.nn.dropout(fc1, keep_prob)\n",
    "    # Layer 4: Fully Connected. Input = 325. Output = 175.\n",
    "    fc2_W  = tf.Variable(tf.truncated_normal(shape=(325, 175), mean = mu, stddev = sigma))\n",
    "    fc2_b  = tf.Variable(tf.zeros(175))\n",
    "    fc2    = tf.matmul(fc1, fc2_W) + fc2_b\n",
    "    # Activation.\n",
    "    fc2    = tf.nn.relu(fc2)\n",
    "    # Dropout\n",
    "    fc2 = tf.nn.dropout(fc2, keep_prob)\n",
    "    # Layer 5: Fully Connected. Input = 175. Output = 43.\n",
    "    fc3_W  = tf.Variable(tf.truncated_normal(shape=(175, 43), mean = mu, stddev = sigma))\n",
    "    fc3_b  = tf.Variable(tf.zeros(43))\n",
    "    logits = tf.matmul(fc2, fc3_W) + fc3_b    \n",
    "    return logits"
   ]
  },
  {
   "cell_type": "code",
   "execution_count": null,
   "id": "376ef4db",
   "metadata": {},
   "outputs": [],
   "source": [
    "x = tf.placeholder(tf.float32, (None, 32, 32, 1))\n",
    "y = tf.placeholder(tf.int32, (None))\n",
    "keep_prob = tf.placeholder(tf.float32)\n",
    "one_hot_y = tf.one_hot(y, 43)"
   ]
  },
  {
   "cell_type": "markdown",
   "id": "0d929745",
   "metadata": {},
   "source": [
    "### Train, Validate and Test the Model"
   ]
  },
  {
   "cell_type": "markdown",
   "id": "6ff7746b",
   "metadata": {},
   "source": [
    "A validation set can be used to assess how well the model is performing. A low accuracy on the training and validation\n",
    "sets imply underfitting. A high accuracy on the training set but low accuracy on the validation set implies overfitting."
   ]
  },
  {
   "cell_type": "code",
   "execution_count": null,
   "id": "c492a41f",
   "metadata": {},
   "outputs": [],
   "source": [
    "### Train your model here.\n",
    "### Calculate and report the accuracy on the training and validation set.\n",
    "### Once a final model architecture is selected, \n",
    "### the accuracy on the test set should be calculated and reported as well.\n",
    "### Feel free to use as many code cells as needed."
   ]
  },
  {
   "cell_type": "code",
   "execution_count": null,
   "id": "a9d6785d",
   "metadata": {},
   "outputs": [],
   "source": [
    "rate = 0.0009\n",
    "\n",
    "logits = LeNet(x)\n",
    "cross_entropy = tf.nn.softmax_cross_entropy_with_logits(labels=one_hot_y, logits=logits)\n",
    "loss_operation = tf.reduce_mean(cross_entropy)\n",
    "optimizer = tf.train.AdamOptimizer(learning_rate = rate)\n",
    "training_operation = optimizer.minimize(loss_operation)"
   ]
  },
  {
   "cell_type": "code",
   "execution_count": null,
   "id": "98ca16f3",
   "metadata": {},
   "outputs": [],
   "source": [
    "correct_prediction = tf.equal(tf.argmax(logits, 1), tf.argmax(one_hot_y, 1))\n",
    "accuracy_operation = tf.reduce_mean(tf.cast(correct_prediction, tf.float32))\n",
    "saver = tf.train.Saver()\n",
    "\n",
    "def evaluate(X_data, y_data):\n",
    "    num_examples = len(X_data)\n",
    "    total_accuracy = 0\n",
    "    sess = tf.get_default_session()\n",
    "    for offset in range(0, num_examples, BATCH_SIZE):\n",
    "        batch_x, batch_y = X_data[offset:offset+BATCH_SIZE], y_data[offset:offset+BATCH_SIZE]\n",
    "        accuracy = sess.run(accuracy_operation, feed_dict={x: batch_x, y: batch_y, keep_prob: 1.0})\n",
    "        total_accuracy += (accuracy * len(batch_x))\n",
    "    return total_accuracy / num_examples"
   ]
  },
  {
   "cell_type": "code",
   "execution_count": null,
   "id": "c6ef30ad",
   "metadata": {},
   "outputs": [],
   "source": [
    "with tf.Session() as sess:\n",
    "    sess.run(tf.global_variables_initializer())\n",
    "    num_examples = len(X_train)\n",
    "    Epochs_plot = []\n",
    "    Acc = []\n",
    "    \n",
    "    print(\"Training...\")\n",
    "    print()\n",
    "    for i in range(EPOCHS):\n",
    "        X_train, y_train = shuffle(X_train, y_train)\n",
    "        for offset in range(0, num_examples, BATCH_SIZE):\n",
    "            end = offset + BATCH_SIZE\n",
    "            batch_x, batch_y = X_train[offset:end], y_train[offset:end]\n",
    "            sess.run(training_operation, feed_dict={x: batch_x, y: batch_y, keep_prob: 0.5})\n",
    "            \n",
    "        validation_accuracy = evaluate(X_valid, y_valid)\n",
    "        training_accuracy = evaluate(X_train, y_train)\n",
    "        if i%10 == 0:\n",
    "            print(\"EPOCH {} ...\".format(i+1))\n",
    "            print(\"Training Accuracy = {:.3f}\".format(training_accuracy))\n",
    "            print(\"Validation Accuracy = {:.3f}\".format(validation_accuracy))\n",
    "            print()\n",
    "        Epochs_plot.append(i+1)\n",
    "        Acc.append(validation_accuracy)\n",
    "    if validation_accuracy > 0.990:\n",
    "        saver.save(sess, './lenet_v06')\n",
    "        print(\"Model saved\")\n",
    "#save Acc for Documentation\n",
    "fig = plt.figure(figsize=(5,3))\n",
    "plt.plot(Acc)\n",
    "fig.savefig('Documentation/optimum1.png', dpi=fig.dpi)"
   ]
  },
  {
   "cell_type": "markdown",
   "id": "237ce56f",
   "metadata": {},
   "source": [
    "### Testing on the Test Set"
   ]
  },
  {
   "cell_type": "code",
   "execution_count": null,
   "id": "94bd1042",
   "metadata": {},
   "outputs": [],
   "source": [
    "import numpy as np\n",
    "import pandas as pd\n",
    "\n",
    "n_train = len(X_train)\n",
    "n_validation = len(X_valid)\n",
    "n_test = len(X_test)\n",
    "image_shape = X_train[0].shape\n",
    "n_classes = len(np.unique(y_train))\n",
    "\n",
    "print(\"Number of training examples =\", n_train)\n",
    "print(\"Number of testing examples =\", n_test)\n",
    "print(\"Image data shape =\", image_shape)\n",
    "print(\"Number of classes =\", n_classes)\n",
    "print(len(X_valid))"
   ]
  },
  {
   "cell_type": "markdown",
   "id": "30378781",
   "metadata": {},
   "source": [
    "### Include an exploratory visualization of the dataset"
   ]
  },
  {
   "cell_type": "markdown",
   "id": "c27332c3",
   "metadata": {},
   "source": [
    "Visualize the German Traffic Signs Dataset using the pickled file(s). This is open ended, suggestions include: plotting traffic sign images, plotting the count of each sign, etc. \n",
    "\n",
    "The [Matplotlib](http://matplotlib.org/) [examples](http://matplotlib.org/examples/index.html) and [gallery](http://matplotlib.org/gallery.html) pages are a great resource for doing visualizations in Python.\n",
    "\n",
    "**NOTE:** It's recommended you start with something simple first. If you wish to do more, come back to it after you've completed the rest of the sections. It can be interesting to look at the distribution of classes in the training, validation and test set. Is the distribution the same? Are there more examples of some classes than others?"
   ]
  },
  {
   "cell_type": "code",
   "execution_count": null,
   "id": "afa7c0f7",
   "metadata": {},
   "outputs": [],
   "source": [
    "import matplotlib.pyplot as plt\n",
    "import random\n",
    "%matplotlib inline\n",
    "\n",
    "fig, axes = plt.subplots(3,5, figsize=(15, 6))\n",
    "fig.subplots_adjust(hspace = .2, wspace=.001)\n",
    "axes = axes.ravel()\n",
    "for i in range(15):\n",
    "    index = random.randint(0, len(X_train))\n",
    "    img = X_train[index]\n",
    "    axes[i].axis('off')\n",
    "    axes[i].imshow(img)\n",
    "    axes[i].set_title(y_train[index])"
   ]
  },
  {
   "cell_type": "code",
   "execution_count": null,
   "id": "480c0717",
   "metadata": {},
   "outputs": [],
   "source": [
    "import pandas as pd \n",
    "names = pd.read_csv(\"signnames.csv\")\n",
    "names.head()"
   ]
  },
  {
   "cell_type": "markdown",
   "id": "6c3ac969",
   "metadata": {},
   "source": [
    "distribiution is not optimal. trying to stock up to at least 1000 images each class."
   ]
  },
  {
   "cell_type": "markdown",
   "id": "8203c3dc",
   "metadata": {},
   "source": [
    "----\n",
    "\n",
    "## Step 2: Design and Test a Model Architecture\n",
    "\n",
    "Design and implement a deep learning model that learns to recognize traffic signs. Train and test your model on the [German Traffic Sign Dataset](http://benchmark.ini.rub.de/?section=gtsrb&subsection=dataset).\n",
    "\n",
    "The LeNet-5 implementation shown in the [classroom](https://classroom.udacity.com/nanodegrees/nd013/parts/fbf77062-5703-404e-b60c-95b78b2f3f9e/modules/6df7ae49-c61c-4bb2-a23e-6527e69209ec/lessons/601ae704-1035-4287-8b11-e2c2716217ad/concepts/d4aca031-508f-4e0b-b493-e7b706120f81) at the end of the CNN lesson is a solid starting point. You'll have to change the number of classes and possibly the preprocessing, but aside from that it's plug and play! \n",
    "\n",
    "With the LeNet-5 solution from the lecture, you should expect a validation set accuracy of about 0.89. To meet specifications, the validation set accuracy will need to be at least 0.93. It is possible to get an even higher accuracy, but 0.93 is the minimum for a successful project submission. \n",
    "\n",
    "There are various aspects to consider when thinking about this problem:\n",
    "\n",
    "- Neural network architecture (is the network over or underfitting?)\n",
    "- Play around preprocessing techniques (normalization, rgb to grayscale, etc)\n",
    "- Number of examples per label (some have more than others).\n",
    "- Generate fake data.\n",
    "\n",
    "Here is an example of a [published baseline model on this problem](http://yann.lecun.com/exdb/publis/pdf/sermanet-ijcnn-11.pdf). It's not required to be familiar with the approach used in the paper but, it's good practice to try to read papers like these."
   ]
  },
  {
   "cell_type": "markdown",
   "id": "dbe6c6a8",
   "metadata": {},
   "source": [
    "### Pre-process the Data Set (normalization, grayscale, etc.)"
   ]
  },
  {
   "cell_type": "markdown",
   "id": "5520280e",
   "metadata": {},
   "source": [
    "Minimally, the image data should be normalized so that the data has mean zero and equal variance. For image data, `(pixel - 128)/ 128` is a quick way to approximately normalize the data and can be used in this project. \n",
    "\n",
    "Other pre-processing steps are optional. You can try different techniques to see if it improves performance. \n",
    "\n",
    "Use the code cell (or multiple code cells, if necessary) to implement the first step of your project."
   ]
  },
  {
   "cell_type": "code",
   "execution_count": null,
   "id": "ae850aa6",
   "metadata": {},
   "outputs": [],
   "source": [
    "X_train_rgb = np.copy(X_train)\n",
    "X_test_rgb = np.copy(X_test)\n",
    "X_valid_rgb = np.copy(X_valid)"
   ]
  },
  {
   "cell_type": "markdown",
   "id": "a027a099",
   "metadata": {},
   "source": [
    "Converting to grayscale"
   ]
  },
  {
   "cell_type": "code",
   "execution_count": null,
   "id": "257195ab",
   "metadata": {},
   "outputs": [],
   "source": [
    "def grayscale(x):\n",
    "    return np.sum(x/3, axis=3, keepdims=True)"
   ]
  },
  {
   "cell_type": "code",
   "execution_count": null,
   "id": "ff7bbac4",
   "metadata": {},
   "outputs": [],
   "source": [
    "X_train_gry = grayscale(X_train)\n",
    "X_test_gry = grayscale(X_test)\n",
    "X_valid_gry = grayscale(X_valid)"
   ]
  },
  {
   "cell_type": "code",
   "execution_count": null,
   "id": "f9e6f9f7",
   "metadata": {},
   "outputs": [],
   "source": [
    "# Visualize rgb vs grayscale\n",
    "\n",
    "offset = 2017\n",
    "fig, axes = plt.subplots(8,10, figsize=(15, 11))\n",
    "fig.subplots_adjust(hspace = .1, wspace=.001)\n",
    "axes = axes.ravel()\n",
    "for j in range(0,8,2):\n",
    "    for i in range(10):\n",
    "        index = i + j*10\n",
    "        image = X_train_rgb[index + offset]\n",
    "        axes[index].axis('off')\n",
    "        axes[index].imshow(image)\n",
    "    for i in range(10):\n",
    "        index = i + j*10 + 10 \n",
    "        image = X_train_gry[index + offset - 10].squeeze()\n",
    "        axes[index].axis('off')\n",
    "        axes[index].imshow(image, cmap='gray')"
   ]
  },
  {
   "cell_type": "code",
   "execution_count": null,
   "id": "eb03ce7a",
   "metadata": {},
   "outputs": [],
   "source": [
    "#Normalize the Images\n",
    "def normalize(x):\n",
    "    return (x - 128)/128 "
   ]
  },
  {
   "cell_type": "code",
   "execution_count": null,
   "id": "edde70e3",
   "metadata": {},
   "outputs": [],
   "source": [
    "X_train_norm = normalize(X_train_gry)\n",
    "X_test_norm = normalize(X_test_gry)\n",
    "X_valid_norm = normalize(X_valid_gry)"
   ]
  },
  {
   "cell_type": "code",
   "execution_count": null,
   "id": "2528c5f5",
   "metadata": {},
   "outputs": [],
   "source": [
    "# Compare normalized and gray image\n",
    "fig, axes = plt.subplots(1,2, figsize=(7, 3))\n",
    "axes = axes.ravel()\n",
    "\n",
    "\n",
    "axes[0].axis('off')\n",
    "axes[0].set_title('original_gray')\n",
    "axes[0].imshow(X_train_gry[0].squeeze(), cmap='gray')\n",
    "\n",
    "axes[1].axis('off')\n",
    "axes[1].set_title('normalized_img')\n",
    "axes[1].imshow(X_train_norm[0].squeeze(), cmap='gray')\n",
    "\n",
    "print(\"Shape gray Train-img: \", X_train_gry.shape,\", \", \"Mean: \", np.mean(X_train_gry))\n",
    "print(\"Shape normalized Train-img: \", X_train_norm.shape,\", \", \"Mean: \", np.mean(X_train_norm))"
   ]
  },
  {
   "cell_type": "markdown",
   "id": "dcb3aa16",
   "metadata": {},
   "source": [
    "### Augmentation\n",
    "Augmenting the Training Dataset to at least 1000 examples each class.\n",
    "The augmentation will be applied by 3 functions.\n",
    "1. random_translate \n",
    "2. random_warp\n",
    "3. random_scale\n",
    "\n",
    "[Useful cv2 functions](https://docs.opencv.org/trunk/da/d6e/tutorial_py_geometric_transformations.html)"
   ]
  },
  {
   "cell_type": "markdown",
   "id": "9cb4cce8",
   "metadata": {},
   "source": [
    "#### First function for augmenting: random_translate"
   ]
  }
 ],
 "metadata": {},
 "nbformat": 4,
 "nbformat_minor": 5
}
