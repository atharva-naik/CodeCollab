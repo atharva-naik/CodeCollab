{
 "cells": [
  {
   "cell_type": "markdown",
   "id": "af07904e",
   "metadata": {},
   "source": [
    "# How to start"
   ]
  },
  {
   "cell_type": "markdown",
   "id": "9f27aedf",
   "metadata": {},
   "source": [
    "As first step, start grass7 with:\n",
    "    \n",
    "    $ grass70 gis/nc_basic/user1\n",
    "    \n",
    "Then from the GRASS shell, change the directory, with:\n",
    "    \n",
    "    > cd doc/pygrass\n",
    "    \n",
    "and then run:\n",
    "    \n",
    "    > ipython notebook --pylab inline"
   ]
  },
  {
   "cell_type": "markdown",
   "id": "84faaf4d",
   "metadata": {},
   "source": [
    "# Modules"
   ]
  },
  {
   "cell_type": "markdown",
   "id": "41d09185",
   "metadata": {},
   "source": [
    "The Modules module permits to work directly with the GRASS GIS module"
   ]
  },
  {
   "cell_type": "code",
   "execution_count": null,
   "id": "25fa8273",
   "metadata": {},
   "outputs": [],
   "source": [
    "from __future__ import print_function\n",
    "from IPython.display import Image\n",
    "from pprint import pprint\n",
    "from subprocess import PIPE\n",
    "\n",
    "import numpy as np\n",
    "\n",
    "from show import show\n",
    "\n",
    "print('Hello!')\n"
   ]
  },
  {
   "cell_type": "markdown",
   "id": "3a6e1cfe",
   "metadata": {},
   "source": [
    "## Replace BASH"
   ]
  },
  {
   "cell_type": "markdown",
   "id": "703d423d",
   "metadata": {},
   "source": [
    "GRASS6 and GRASS7, the traditional way for scripting."
   ]
  },
  {
   "cell_type": "markdown",
   "id": "634713a1",
   "metadata": {},
   "source": [
    "Import grass script module, which has some useful functions:"
   ]
  },
  {
   "cell_type": "code",
   "execution_count": null,
   "id": "b734dc83",
   "metadata": {},
   "outputs": [],
   "source": [
    "from grass import script\n",
    "import subprocess"
   ]
  },
  {
   "cell_type": "markdown",
   "id": "6f3e102b",
   "metadata": {},
   "source": [
    "Let's have a look which function containing the word command are available, with:"
   ]
  },
  {
   "cell_type": "markdown",
   "id": "97b7a244",
   "metadata": {},
   "source": [
    "We have seen:\n",
    "\n",
    "* how we can replace Bash script with Python;\n",
    "* how we can update existing Python script to use pygrass;\n",
    "* play with the grass modules as objects, changing only few parameters;\n",
    "* give more power to the user with the special parameters \"*_\"."
   ]
  },
  {
   "cell_type": "markdown",
   "id": "eac36888",
   "metadata": {},
   "source": [
    "# Exercise"
   ]
  },
  {
   "cell_type": "markdown",
   "id": "265bd2b1",
   "metadata": {},
   "source": [
    "## Time for coding!"
   ]
  },
  {
   "cell_type": "markdown",
   "id": "30f649d9",
   "metadata": {},
   "source": [
    "Transform the following Bash script:"
   ]
  },
  {
   "cell_type": "raw",
   "id": "ac6ac57f",
   "metadata": {},
   "source": [
    "#!/bin/bash\n",
    "#\n",
    "# Compute the distance from a road\n",
    "#\n",
    "\n",
    "# set the region to elevation map:\n",
    "g.region rast=elevation\n",
    "\n",
    "# convert street vector to raster\n",
    "v.to.rast input=streets type=line output=streets use=cat --overwrite\n",
    "\n",
    "# create a unitary map of the cost\n",
    "r.mapcalc expression=\"dist_cost=10./cos(slope)\" --overwrite\n",
    "\n",
    "# compute the distance\n",
    "r.cost input=dist_cost output=distance_from_streets outdir=direction start_rast=streets -k --overwrite \n"
   ]
  },
  {
   "cell_type": "markdown",
   "id": "7d293077",
   "metadata": {},
   "source": [
    "into a Python one:"
   ]
  },
  {
   "cell_type": "code",
   "execution_count": null,
   "id": "6f8a3d41",
   "metadata": {},
   "outputs": [],
   "source": [
    "!g.region -p"
   ]
  },
  {
   "cell_type": "markdown",
   "id": "646d71b5",
   "metadata": {},
   "source": [
    "Read the output of g.region and return a dictionary."
   ]
  },
  {
   "cell_type": "markdown",
   "id": "ff516040",
   "metadata": {},
   "source": [
    "# Create a GRASS module"
   ]
  },
  {
   "cell_type": "code",
   "execution_count": null,
   "id": "a663361e",
   "metadata": {},
   "outputs": [],
   "source": [
    "print(slp.flags.overwrite) # --overwrite, --verbose, --quite"
   ]
  },
  {
   "cell_type": "code",
   "execution_count": null,
   "id": "c0457d9a",
   "metadata": {},
   "outputs": [],
   "source": [
    "slp.flags.overwrite = True\n",
    "\n",
    "# run the module\n",
    "slp.run()"
   ]
  },
  {
   "cell_type": "markdown",
   "id": "522153e9",
   "metadata": {},
   "source": [
    "### Methods"
   ]
  },
  {
   "cell_type": "code",
   "execution_count": null,
   "id": "1b29f759",
   "metadata": {},
   "outputs": [],
   "source": [
    "print(slp)  # __str__"
   ]
  },
  {
   "cell_type": "code",
   "execution_count": null,
   "id": "a264179c",
   "metadata": {},
   "outputs": [],
   "source": [
    "repr(slp)  # __repr__"
   ]
  },
  {
   "cell_type": "code",
   "execution_count": null,
   "id": "e06faac0",
   "metadata": {},
   "outputs": [],
   "source": [
    "from grass.pygrass.modules import Module\n",
    "\n",
    "slp = Module(\"r.slope.aspect\")\n",
    "\n",
    "slp(elevation='elevation', \n",
    "    slope='slp',  aspect='asp', \n",
    "    format='percent', overwrite=True, \n",
    "    verbose=False, flags='a', run_=False)\n",
    "\n",
    "print(slp.get_bash())\n",
    "print(slp.get_python())"
   ]
  },
  {
   "cell_type": "markdown",
   "id": "23ddb1a8",
   "metadata": {},
   "source": [
    "## Run as a function"
   ]
  },
  {
   "cell_type": "code",
   "execution_count": null,
   "id": "6318e2cd",
   "metadata": {},
   "outputs": [],
   "source": [
    "slp(elevation='elevation', slope='slp',  aspect='asp', format='percent', overwrite=True)"
   ]
  },
  {
   "cell_type": "markdown",
   "id": "575aa774",
   "metadata": {},
   "source": [
    "## Special parameters"
   ]
  },
  {
   "cell_type": "markdown",
   "id": "89e7c827",
   "metadata": {},
   "source": [
    "### \"run_\" to run later"
   ]
  },
  {
   "cell_type": "code",
   "execution_count": null,
   "id": "9170c58c",
   "metadata": {},
   "outputs": [],
   "source": [
    "slp(elevation='elevation', slope='slp',  aspect='asp', format='percent', overwrite=True, run_=False)"
   ]
  },
  {
   "cell_type": "markdown",
   "id": "17f09f44",
   "metadata": {},
   "source": [
    "### \"finish_\" to manage the process"
   ]
  },
  {
   "cell_type": "code",
   "execution_count": null,
   "id": "7510c041",
   "metadata": {},
   "outputs": [],
   "source": [
    "from grass.pygrass.utils import looking\n",
    "\n",
    "looking(script, '*command*')"
   ]
  },
  {
   "cell_type": "code",
   "execution_count": null,
   "id": "9f2c3546",
   "metadata": {},
   "outputs": [],
   "source": [
    "script.list_pairs(type='raster')"
   ]
  },
  {
   "cell_type": "markdown",
   "id": "993de3f5",
   "metadata": {},
   "source": [
    "### Start and wait until the end of the process"
   ]
  },
  {
   "cell_type": "code",
   "execution_count": null,
   "id": "9a1be833",
   "metadata": {},
   "outputs": [],
   "source": [
    "script.run_command('r.info', map='elevation')"
   ]
  },
  {
   "cell_type": "markdown",
   "id": "1fe1f55f",
   "metadata": {},
   "source": [
    "### Parse the kwargs and return a list of parameters"
   ]
  },
  {
   "cell_type": "code",
   "execution_count": null,
   "id": "48f72f14",
   "metadata": {},
   "outputs": [],
   "source": [
    "slp.inputs.format = 'percents'"
   ]
  },
  {
   "cell_type": "code",
   "execution_count": null,
   "id": "7287c43f",
   "metadata": {},
   "outputs": [],
   "source": [
    "slp.inputs.format = 'percent'"
   ]
  },
  {
   "cell_type": "code",
   "execution_count": null,
   "id": "9a461391",
   "metadata": {},
   "outputs": [],
   "source": [
    "slp.outputs.slope = 'slope'"
   ]
  },
  {
   "cell_type": "code",
   "execution_count": null,
   "id": "ff35222b",
   "metadata": {},
   "outputs": [],
   "source": [
    "slp.flags.g = True"
   ]
  },
  {
   "cell_type": "code",
   "execution_count": null,
   "id": "20b1f64d",
   "metadata": {},
   "outputs": [],
   "source": [
    "slp.flags.a = True"
   ]
  },
  {
   "cell_type": "code",
   "execution_count": null,
   "id": "c8ac8cee",
   "metadata": {},
   "outputs": [],
   "source": [
    "show('slope')"
   ]
  },
  {
   "cell_type": "markdown",
   "id": "0f8eeaed",
   "metadata": {},
   "source": [
    "Some small tips of the new interface in python/ipython:\n",
    "\n",
    "* Tab inside brackets gives the help of the command;\n",
    "* or using:"
   ]
  },
  {
   "cell_type": "code",
   "execution_count": null,
   "id": "ee073d61",
   "metadata": {},
   "outputs": [],
   "source": [
    "r.slope_aspect?"
   ]
  },
  {
   "cell_type": "markdown",
   "id": "75b29c26",
   "metadata": {},
   "source": [
    "Do something with the vectors:"
   ]
  },
  {
   "cell_type": "code",
   "execution_count": null,
   "id": "6b0c1b51",
   "metadata": {},
   "outputs": [],
   "source": [
    "script.list_pairs(type='vect')"
   ]
  },
  {
   "cell_type": "code",
   "execution_count": null,
   "id": "a5d2ee9e",
   "metadata": {},
   "outputs": [],
   "source": [
    "v.to_rast(input='hospitals', output='hospitals', type=\"point\", use='cat', overwrite=True, quiet=True)"
   ]
  },
  {
   "cell_type": "code",
   "execution_count": null,
   "id": "e65e7e63",
   "metadata": {},
   "outputs": [],
   "source": [
    "script.list_pairs(type='rast')"
   ]
  },
  {
   "cell_type": "markdown",
   "id": "2d61c229",
   "metadata": {},
   "source": [
    "## Backwards compatibility"
   ]
  },
  {
   "cell_type": "markdown",
   "id": "382212b0",
   "metadata": {},
   "source": [
    "If you have a python script and want to convert it to use the new python interface, you just need to transform:"
   ]
  },
  {
   "cell_type": "code",
   "execution_count": null,
   "id": "e4abbaa6",
   "metadata": {},
   "outputs": [],
   "source": [
    "#from grass.script.core import run_command\n",
    "from grass.pygrass.modules import Module as run_command\n",
    "\n",
    "run_command(\"r.info\", map='elevation')\n",
    "#etc..."
   ]
  },
  {
   "cell_type": "markdown",
   "id": "dd9c1b8e",
   "metadata": {},
   "source": [
    "## Module as object"
   ]
  },
  {
   "cell_type": "markdown",
   "id": "0e663574",
   "metadata": {},
   "source": [
    "Import the Module class, and instantiate the command, the name of the GRASS module is required."
   ]
  },
  {
   "cell_type": "code",
   "execution_count": null,
   "id": "10f6500a",
   "metadata": {},
   "outputs": [],
   "source": [
    "script.make_command('r.info', map='elevation', flags='r')"
   ]
  },
  {
   "cell_type": "markdown",
   "id": "7a5926b3",
   "metadata": {},
   "source": [
    "### Start and return a `Popen` object"
   ]
  },
  {
   "cell_type": "code",
   "execution_count": null,
   "id": "e90a067e",
   "metadata": {},
   "outputs": [],
   "source": [
    "script.start_command('r.info', map='elevation')"
   ]
  },
  {
   "cell_type": "code",
   "execution_count": null,
   "id": "1f567dc9",
   "metadata": {},
   "outputs": [],
   "source": [
    "process = script.start_command('r.info', map='elevation', flags='r', stdout=PIPE)"
   ]
  },
  {
   "cell_type": "code",
   "execution_count": null,
   "id": "431f68cf",
   "metadata": {},
   "outputs": [],
   "source": [
    "stdout = process.stdout"
   ]
  },
  {
   "cell_type": "code",
   "execution_count": null,
   "id": "7e588c05",
   "metadata": {},
   "outputs": [],
   "source": [
    "print([line.strip().split(b'=') for line in stdout])"
   ]
  },
  {
   "cell_type": "markdown",
   "id": "d5ddb98f",
   "metadata": {},
   "source": [
    "### Parse the output of a command"
   ]
  },
  {
   "cell_type": "code",
   "execution_count": null,
   "id": "758cc19f",
   "metadata": {},
   "outputs": [],
   "source": [
    "script.parse_command('r.info', map='elevation', flags='g', delimiter='=')"
   ]
  },
  {
   "cell_type": "code",
   "execution_count": null,
   "id": "e70a93f2",
   "metadata": {},
   "outputs": [],
   "source": [
    "script.parse_command('g.region', flags='p', delimiter=':')"
   ]
  },
  {
   "cell_type": "markdown",
   "id": "5b28ee65",
   "metadata": {},
   "source": [
    "### Catch the command output"
   ]
  },
  {
   "cell_type": "code",
   "execution_count": null,
   "id": "57db13e6",
   "metadata": {},
   "outputs": [],
   "source": [
    "region = script.pipe_command('r.info', map='elevation', flags='r')\n",
    "region"
   ]
  },
  {
   "cell_type": "code",
   "execution_count": null,
   "id": "12021963",
   "metadata": {},
   "outputs": [],
   "source": [
    "stdout = ''.join(line for line in region.stdout)\n",
    "print(stdout)"
   ]
  },
  {
   "cell_type": "markdown",
   "id": "3ff4c645",
   "metadata": {},
   "source": [
    "### Catch and return the stdout"
   ]
  },
  {
   "cell_type": "code",
   "execution_count": null,
   "id": "c7751ed1",
   "metadata": {},
   "outputs": [],
   "source": [
    "stdout = script.read_command('r.info', map='elevation', flags='r')\n",
    "print(stdout)"
   ]
  },
  {
   "cell_type": "code",
   "execution_count": null,
   "id": "29b1712a",
   "metadata": {},
   "outputs": [],
   "source": [
    "mrange = dict([line.split(b'=') for line in stdout.split(b'\\n') if line != b''])\n",
    "for k in mrange:\n",
    "    mrange[k] = float(mrange[k])\n",
    "mrange"
   ]
  },
  {
   "cell_type": "markdown",
   "id": "351677a1",
   "metadata": {},
   "source": [
    "### Use the pipe as input for another command"
   ]
  },
  {
   "cell_type": "markdown",
   "id": "301fdfa1",
   "metadata": {},
   "source": [
    "Write the rules that we want to use for the reclassification:"
   ]
  },
  {
   "cell_type": "code",
   "execution_count": null,
   "id": "4fabc67f",
   "metadata": {},
   "outputs": [],
   "source": [
    "keys = ['low', 'medium low', 'medium', 'medium high', 'high']\n",
    "vals = np.linspace(mrange[b'min']-1, mrange[b'max']+1, num=len(keys)+1, endpoint=True)\n",
    "\n",
    "rvals = [(int(vals[i-1])+1, int(vals[i]), i, keys[i-1]) for i in range(1, len(vals))]\n",
    "rules = '\\n'.join(['%3d thru %3d = %2d %s' % v for v in rvals])\n",
    "print(rules)"
   ]
  },
  {
   "cell_type": "markdown",
   "id": "ca214f1e",
   "metadata": {},
   "source": [
    "Now we can pass as input for the r.reclass the rules using the function `write_command`:"
   ]
  },
  {
   "cell_type": "code",
   "execution_count": null,
   "id": "35ba8f5c",
   "metadata": {},
   "outputs": [],
   "source": [
    "script.write_command('r.reclass', input='elevation', output='elev', rules='-', overwrite=True, stdin=rules.encode())"
   ]
  },
  {
   "cell_type": "markdown",
   "id": "3de08adb",
   "metadata": {},
   "source": [
    "### Display the map inside the ipython notebook"
   ]
  },
  {
   "cell_type": "markdown",
   "id": "9645f089",
   "metadata": {},
   "source": [
    "Start a new virtual monitor that generate a file: `view.png` that we can display inside the ipython notebook."
   ]
  },
  {
   "cell_type": "code",
   "execution_count": null,
   "id": "cc3cd259",
   "metadata": {},
   "outputs": [],
   "source": [
    "script.run_command('d.mon', start='png', output='view.png', overwrite=True)"
   ]
  },
  {
   "cell_type": "code",
   "execution_count": null,
   "id": "ed918196",
   "metadata": {},
   "outputs": [],
   "source": [
    "script.run_command('d.rast', map='elevation')\n",
    "Image('view.png')"
   ]
  },
  {
   "cell_type": "code",
   "execution_count": null,
   "id": "2212aae3",
   "metadata": {},
   "outputs": [],
   "source": [
    "script.run_command('d.rast', map='elev')\n",
    "Image('view.png')"
   ]
  },
  {
   "cell_type": "code",
   "execution_count": null,
   "id": "36a73978",
   "metadata": {},
   "outputs": [],
   "source": [
    "script.run_command('d.mon', stop='png')"
   ]
  },
  {
   "cell_type": "markdown",
   "id": "3cbd355f",
   "metadata": {},
   "source": [
    "## Using the pygrass module interface"
   ]
  },
  {
   "cell_type": "markdown",
   "id": "89f5b1ac",
   "metadata": {},
   "source": [
    "User who just wants to replace BASH with python has to import modules in the following manner:"
   ]
  },
  {
   "cell_type": "code",
   "execution_count": null,
   "id": "b46c1db3",
   "metadata": {},
   "outputs": [],
   "source": [
    "slp(elevation='elevation', slope='slp',  aspect='asp', format='percent', overwrite=True, run_=True, finish_=False)"
   ]
  },
  {
   "cell_type": "code",
   "execution_count": null,
   "id": "216372cf",
   "metadata": {},
   "outputs": [],
   "source": [
    "slp.popen.wait() # .kill()"
   ]
  },
  {
   "cell_type": "markdown",
   "id": "4ead9a89",
   "metadata": {},
   "source": [
    "### `stdin_`, `stdout_`, `stderr_`"
   ]
  },
  {
   "cell_type": "code",
   "execution_count": null,
   "id": "62e9a86e",
   "metadata": {},
   "outputs": [],
   "source": [
    "from grass.pygrass.modules.shortcuts import raster as r, vector as v, general as g, display as d\n",
    "from grass.pygrass.modules import Module"
   ]
  },
  {
   "cell_type": "markdown",
   "id": "1a4e8617",
   "metadata": {},
   "source": [
    "And then call the grass modules"
   ]
  },
  {
   "cell_type": "code",
   "execution_count": null,
   "id": "4f72a712",
   "metadata": {},
   "outputs": [],
   "source": [
    "g.region(raster='elevation', flags='p')"
   ]
  },
  {
   "cell_type": "code",
   "execution_count": null,
   "id": "fe384522",
   "metadata": {},
   "outputs": [],
   "source": [
    "print(g.region(flags='p', stdout_=PIPE).outputs.stdout.decode())"
   ]
  },
  {
   "cell_type": "markdown",
   "id": "31f586f8",
   "metadata": {},
   "source": [
    "If the name of the grass module contains \".\" you should replace it with \"_\". See the example bellow:"
   ]
  },
  {
   "cell_type": "code",
   "execution_count": null,
   "id": "12acda70",
   "metadata": {},
   "outputs": [],
   "source": [
    "r.slope_aspect(elevation='elevation', slope='slope', aspect='aspect', overwrite=True)\n",
    "r.mapcalc(\"slope_gt_10 = if(slope > 10, slope, null())\", overwrite=True)\n",
    "print(r.info(map='slope_gt_10', flags='r', stdout_=PIPE).outputs.stdout.decode())"
   ]
  },
  {
   "cell_type": "code",
   "execution_count": null,
   "id": "fd85e15a",
   "metadata": {},
   "outputs": [],
   "source": [
    "show('slope_gt_10', flags='n')"
   ]
  },
  {
   "cell_type": "code",
   "execution_count": null,
   "id": "7d84ac32",
   "metadata": {},
   "outputs": [],
   "source": [
    "from grass.pygrass.modules import Module\n",
    "\n",
    "slp = Module(\"r.slope.aspect\")"
   ]
  },
  {
   "cell_type": "markdown",
   "id": "0e102108",
   "metadata": {},
   "source": [
    "### Attributes"
   ]
  },
  {
   "cell_type": "code",
   "execution_count": null,
   "id": "a29f2969",
   "metadata": {},
   "outputs": [],
   "source": [
    "slp.name"
   ]
  },
  {
   "cell_type": "code",
   "execution_count": null,
   "id": "1685c3f4",
   "metadata": {},
   "outputs": [],
   "source": [
    "slp.description"
   ]
  },
  {
   "cell_type": "code",
   "execution_count": null,
   "id": "7cf91c1c",
   "metadata": {},
   "outputs": [],
   "source": [
    "slp.keywords"
   ]
  },
  {
   "cell_type": "code",
   "execution_count": null,
   "id": "42724d74",
   "metadata": {},
   "outputs": [],
   "source": [
    "slp.label"
   ]
  },
  {
   "cell_type": "code",
   "execution_count": null,
   "id": "6144d6b6",
   "metadata": {},
   "outputs": [],
   "source": [
    "# get the documentation 'of the module\n",
    "slp?"
   ]
  },
  {
   "cell_type": "markdown",
   "id": "ed8ac2f3",
   "metadata": {},
   "source": [
    "The instantiated module splits the parameters in:\n",
    "\n",
    "* inputs\n",
    "* outputs\n",
    "\n",
    "both parameters are an [OrderedDict](http://docs.python.org/2/library/collections.html#collections.OrderedDict) python object. Additionally, the 'required' attribute returns a list of the parameters that are required.\n",
    "\n"
   ]
  }
 ],
 "metadata": {},
 "nbformat": 4,
 "nbformat_minor": 5
}
