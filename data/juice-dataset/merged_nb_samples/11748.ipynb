{
 "cells": [
  {
   "cell_type": "code",
   "execution_count": null,
   "id": "70f97222",
   "metadata": {},
   "outputs": [],
   "source": [
    "df.drop([u'tripduration', u'starttime', u'stoptime', u'start station id',\n",
    "       u'start station name', u'start station latitude',\n",
    "       u'start station longitude', u'end station id', u'end station name',\n",
    "       u'end station latitude', u'end station longitude', u'bikeid',\n",
    "       u'usertype', u'birth year', u'gender', u'date'], axis=1, inplace=True)\n",
    "df.head()"
   ]
  },
  {
   "cell_type": "code",
   "execution_count": null,
   "id": "3add7b24",
   "metadata": {},
   "outputs": [],
   "source": [
    "df.describe()"
   ]
  },
  {
   "cell_type": "code",
   "execution_count": null,
   "id": "59699286",
   "metadata": {},
   "outputs": [],
   "source": [
    "df['ageM'].dropna(inplace= True)\n",
    "df['ageF'].dropna(inplace= True)"
   ]
  },
  {
   "cell_type": "code",
   "execution_count": null,
   "id": "e12bfdc2",
   "metadata": {},
   "outputs": [],
   "source": [
    "bins = np.arange(10, 99, 5)\n",
    "axM = df.ageM.groupby(pd.cut(df.ageM, bins)).agg([count_nonzero]).plot(kind='bar', \n",
    "                                                                legend=False)\n",
    "axM.set_title(\"male riders\")\n",
    "axF = df.ageF.groupby(pd.cut(df.ageF, bins)).agg([count_nonzero]).plot(kind='bar',\n",
    "                                                                legend=False)\n",
    "axF.set_title(\"female riders\")"
   ]
  },
  {
   "cell_type": "markdown",
   "id": "19e6a316",
   "metadata": {},
   "source": [
    "### Figure 1: histogrammed distribution of riders' ages by gender"
   ]
  },
  {
   "cell_type": "code",
   "execution_count": null,
   "id": "68fc97d4",
   "metadata": {},
   "outputs": [],
   "source": [
    "csM=df.ageM.groupby(pd.cut(df.ageM, bins)).agg([count_nonzero]).cumsum()\n",
    "\n",
    "csF=df.ageF.groupby(pd.cut(df.ageF, bins)).agg([count_nonzero]).cumsum()\n",
    "\n",
    "print (np.abs(csM / csM.max()-csF / csF.max()))\n",
    "\n",
    "pl.plot(bins[:-1] + 5, csM / csM.max(), label = \"M\")\n",
    "pl.plot(bins[:-1] + 5, csF / csF.max(), label = \"F\")\n",
    "pl.plot(bins[:-1] + 5, np.sqrt(csF / csF.max() - csM / csM.max())**2, 'k-',\n",
    "        label = \"difference\")\n",
    "pl.xlabel(\"Age\")\n",
    "pl.ylabel(\"Normalized Cumulative Number\")\n",
    "pl.legend()"
   ]
  },
  {
   "cell_type": "markdown",
   "id": "27f7e631",
   "metadata": {},
   "source": [
    "### Figure 2: the cumulative distribution of CitiBike riders' ages by gender"
   ]
  },
  {
   "cell_type": "code",
   "execution_count": null,
   "id": "c3d33c63",
   "metadata": {},
   "outputs": [],
   "source": [
    "import scipy.stats"
   ]
  },
  {
   "cell_type": "markdown",
   "id": "5d0b40ad",
   "metadata": {},
   "source": [
    "### KS tests to compare 2 samples\n",
    "\n",
    "#### Null Hypothesis: the sample of female Citi Bike rider ages is from the same sample distribution as the sample of male Citi Bike rider ages\n",
    "#### alpha = 0.05"
   ]
  },
  {
   "cell_type": "code",
   "execution_count": null,
   "id": "42f19352",
   "metadata": {},
   "outputs": [],
   "source": [
    "ks = scipy.stats.ks_2samp(df.ageM, df.ageF)\n",
    "print (ks)"
   ]
  },
  {
   "cell_type": "markdown",
   "id": "26890432",
   "metadata": {},
   "source": [
    "###### The KS test returned the D statistic of .11 and a p value of 0.0.  According to the critical values table c(alpha) for alpha = 0.05 is 1.36. The null hypotheis cannot be rejected because D (.11)  is not larger than c(alpha) of 1.36."
   ]
  },
  {
   "cell_type": "markdown",
   "id": "c0221b00",
   "metadata": {},
   "source": [
    "## Now redo the test with a subsample of the data: take only 1 ride every of 200\n",
    "\n",
    "#### Null Hypothesis: the sample of female Citi Bike rider ages is from the same sample distribution as the sample of male Citi Bike rider ages\n",
    "\n",
    "#### alpha = 0.05"
   ]
  },
  {
   "cell_type": "code",
   "execution_count": null,
   "id": "874227e0",
   "metadata": {},
   "outputs": [],
   "source": [
    "# pull 1 ride from every 200 rides\n",
    "df1 = df[::200]\n",
    "df1.head()"
   ]
  },
  {
   "cell_type": "code",
   "execution_count": null,
   "id": "ac75530e",
   "metadata": {},
   "outputs": [],
   "source": [
    "df1['ageM'].dropna(inplace= True)\n",
    "df1['ageF'].dropna(inplace= True)\n",
    "\n",
    "ks = scipy.stats.ks_2samp(df1.ageM, df1.ageF)\n",
    "print (ks)"
   ]
  },
  {
   "cell_type": "markdown",
   "id": "f9a90684",
   "metadata": {},
   "source": [
    "##### The KS test returned the D statistic of .10 and a p value of 2.8.  According to the critical values table c(alpha) for alpha = 0.05 is 1.36. The null hypotheis cannot be rejected because D (.10)  is not larger than c(alpha) of 1.36."
   ]
  },
  {
   "cell_type": "markdown",
   "id": "1a4dc767",
   "metadata": {},
   "source": [
    "###  Pearson's test for correlation - performing with subsample set obtained in previous exercise\n",
    "\n",
    "#### Null Hypothesis: there is no correlation between the dataset of female Citi Bike rider ages and the dataset of male Citi Bike rider ages\n",
    "\n",
    "#### alpha = 0.05"
   ]
  },
  {
   "cell_type": "code",
   "execution_count": null,
   "id": "13c9f44b",
   "metadata": {},
   "outputs": [],
   "source": [
    "df1.describe()\n",
    "#3428 entries for men 1084 entries for women, samples must be same size"
   ]
  },
  {
   "cell_type": "code",
   "execution_count": null,
   "id": "291a0dd2",
   "metadata": {},
   "outputs": [],
   "source": [
    "dfm = df[['ageM']] #create dataframe to hold ageM\n",
    "dfm = dfm[::200] # select 1 ride for every 200\n",
    "dfm = dfm[dfm['ageM'] >= 0.0] #select only rows that contain a value\n",
    "dfm = dfm[:1084] #select the first 1084 rows, known from before there are 1084 entries for ageF\n",
    "dfm.describe()"
   ]
  },
  {
   "cell_type": "code",
   "execution_count": null,
   "id": "2c73913b",
   "metadata": {},
   "outputs": [],
   "source": [
    "dff = df[['ageF']] #create datafram to hold ageF\n",
    "dff = dff[::200] #select 1 ride for every 200\n",
    "dff = dff[dff['ageF'] >= 0.0] #select only rows that contain a value\n",
    "dff.describe()"
   ]
  },
  {
   "cell_type": "code",
   "execution_count": null,
   "id": "f6371f8d",
   "metadata": {},
   "outputs": [],
   "source": [
    "dff2 = dff.sort_values(['ageF'], ascending = True)\n",
    "dfm2 = dfm.sort_values(['ageM'], ascending=True,)\n",
    "pr = scipy.stats.pearsonr(dfm2.ageM, dff2.ageF)\n",
    "print (pr)"
   ]
  },
  {
   "cell_type": "markdown",
   "id": "cb886bdf",
   "metadata": {},
   "source": [
    "##### The Pearson's R test resulted in a correlation coefficient of .992 and a p-value of .0. The correlation coefficient is almost equal to one which indicates a very strong positive correlation between the male and female rider data. The p-value of .0 shows that this relationship is statistically signficant and we can reject the null hypothesis."
   ]
  },
  {
   "cell_type": "markdown",
   "id": "004d7f4c",
   "metadata": {},
   "source": [
    "### Spearman's test for correlation\n",
    "\n",
    "#### Null Hypothesis: there is no association between the dataset of female Citi Bike rider ages and the dataset of male Citi Bike rider ages\n",
    "\n",
    "#### alpha = 0.05"
   ]
  }
 ],
 "metadata": {},
 "nbformat": 4,
 "nbformat_minor": 5
}
