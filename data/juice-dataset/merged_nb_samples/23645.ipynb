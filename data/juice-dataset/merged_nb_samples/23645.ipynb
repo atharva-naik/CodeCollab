{
 "cells": [
  {
   "cell_type": "markdown",
   "id": "5386deff",
   "metadata": {},
   "source": [
    "# Tutorial: Pandas for software engineering research\n",
    "\n",
    "- **Auhtor**: Felipe Ortega.\n",
    "- **Date**: June 7, 2017.\n",
    "- **Venue**: SATToSE 2017 Workshop.\n",
    "- **Location**: URJC. Madrid.\n",
    "- **Part**: 2 of 2."
   ]
  },
  {
   "cell_type": "markdown",
   "id": "e009390b",
   "metadata": {},
   "source": [
    "## 6. Basic descriptive analysis"
   ]
  },
  {
   "cell_type": "markdown",
   "id": "7ff501a5",
   "metadata": {},
   "source": [
    "Let's obtain some basic descriptive analytics from the data describing Scratch projects."
   ]
  },
  {
   "cell_type": "code",
   "execution_count": null,
   "id": "0fc74520",
   "metadata": {},
   "outputs": [],
   "source": [
    "import numpy as np\n",
    "import pandas as pd\n",
    "import matplotlib.pyplot as plt\n",
    "# Display graphs in the notebook\n",
    "%matplotlib inline\n",
    "matplotlib.rcParams['figure.figsize'] = (10, 6)\n",
    "\n",
    "# To use the 'ggplot' style for graphs uncomment the following line\n",
    "# matplotlib.style.use('ggplot')"
   ]
  },
  {
   "cell_type": "markdown",
   "id": "d127e630",
   "metadata": {},
   "source": [
    "### 6.1 Average grades"
   ]
  },
  {
   "cell_type": "code",
   "execution_count": null,
   "id": "4807d625",
   "metadata": {},
   "outputs": [],
   "source": [
    "import pymysql.cursors\n",
    "\n",
    "# Get new connection with local MySQL DB\n",
    "connection = pymysql.connect(host='localhost',\n",
    "                             user='jfelipe',\n",
    "                             password='phoenix',\n",
    "                             db='Scratch_data',\n",
    "                             charset='utf8mb4',\n",
    "                             cursorclass=pymysql.cursors.DictCursor)\n",
    "\n",
    "try:\n",
    "    with connection.cursor() as cursor:\n",
    "        # Read some data\n",
    "        sql = \"\"\"SELECT * FROM grades\"\"\"\n",
    "        cursor.execute(sql)\n",
    "        grades = cursor.fetchall()\n",
    "finally:\n",
    "    connection.close()"
   ]
  },
  {
   "cell_type": "code",
   "execution_count": null,
   "id": "f20835c3",
   "metadata": {},
   "outputs": [],
   "source": [
    "col_names = [x[0] for x in cursor.description]\n",
    "grades_df = pd.DataFrame(grades, columns = col_names)"
   ]
  },
  {
   "cell_type": "code",
   "execution_count": null,
   "id": "a9374cff",
   "metadata": {},
   "outputs": [],
   "source": [
    "grades_df.info()"
   ]
  },
  {
   "cell_type": "code",
   "execution_count": null,
   "id": "91525262",
   "metadata": {},
   "outputs": [],
   "source": [
    "grades_df.columns"
   ]
  },
  {
   "cell_type": "code",
   "execution_count": null,
   "id": "cfa00699",
   "metadata": {},
   "outputs": [],
   "source": [
    "grades_df.iloc[:, 1:].mean()"
   ]
  },
  {
   "cell_type": "markdown",
   "id": "5661b125",
   "metadata": {},
   "source": [
    "### 6.2 Statistics per project"
   ]
  },
  {
   "cell_type": "code",
   "execution_count": null,
   "id": "af257a85",
   "metadata": {},
   "outputs": [],
   "source": [
    "import pymysql.cursors\n",
    "\n",
    "# Get new connection with local MySQL DB\n",
    "connection = pymysql.connect(host='localhost',\n",
    "                             user='jfelipe',\n",
    "                             password='phoenix',\n",
    "                             db='Scratch_data',\n",
    "                             charset='utf8mb4',\n",
    "                             cursorclass=pymysql.cursors.DictCursor)\n",
    "\n",
    "try:\n",
    "    with connection.cursor() as cursor:\n",
    "        # Read some data\n",
    "        sql = \"\"\"SELECT * FROM project\"\"\"\n",
    "        cursor.execute(sql)\n",
    "        projects = cursor.fetchall()\n",
    "finally:\n",
    "    connection.close()"
   ]
  },
  {
   "cell_type": "code",
   "execution_count": null,
   "id": "d1d090e6",
   "metadata": {},
   "outputs": [],
   "source": [
    "col_names = [x[0] for x in cursor.description]\n",
    "projects_df = pd.DataFrame(projects, columns = col_names)\n",
    "projects_df.rename(columns={\"project-name\": \"project_name\", \"total-views\":\"total_views\",\n",
    "                            \"total-remixes\": \"total_remixes\", \"total-favorites\": \"total_favorites\",\n",
    "                            \"total-loves\": \"total_loves\", \"is-remix\": \"is_remix\"}, inplace=True)"
   ]
  },
  {
   "cell_type": "code",
   "execution_count": null,
   "id": "f92c4b1a",
   "metadata": {},
   "outputs": [],
   "source": [
    "projects_df.columns"
   ]
  },
  {
   "cell_type": "markdown",
   "id": "0bc3698c",
   "metadata": {},
   "source": [
    "#### Histogram of total_views"
   ]
  }
 ],
 "metadata": {},
 "nbformat": 4,
 "nbformat_minor": 5
}
