{
 "cells": [
  {
   "cell_type": "markdown",
   "id": "4eb80667",
   "metadata": {},
   "source": [
    "# Child Poverty in the United States: <br>Contributing Factors and Geographical Variations"
   ]
  },
  {
   "cell_type": "markdown",
   "id": "c6a21fd3",
   "metadata": {},
   "source": [
    "#### Principal Investigator: Yushi Wu <br> Email: yw2122@nyu.edu"
   ]
  },
  {
   "cell_type": "markdown",
   "id": "b806fa5a",
   "metadata": {},
   "source": [
    "## Introduction"
   ]
  },
  {
   "cell_type": "markdown",
   "id": "99d1190f",
   "metadata": {},
   "source": [
    "Child poverty refers to the state of people under the age of 18 living in families with income below poverty level. Although the United States is one of the richest countries in the world, it has one of the highest child poverty rates, which is a very concerning fact.\n",
    "\n",
    "This project will investigate factors that might affect child poverty in the United States and geographical variations at the county level. The main factors that are examined are races and family types (whether the child is raised by two or one parent in the family). Also, the geographical distribution and variation of child poverty rates seem to correlate to the demographics of different areas. This project will try to visualize the geographical variation and its correlation with one of the most outstanding demographics, which is racial concentration."
   ]
  },
  {
   "cell_type": "markdown",
   "id": "88688830",
   "metadata": {},
   "source": [
    "The key element of this project is the use of Census API providing access to data of poverty status in different aspects (age, family type, race, etc) at the county level, and the use of matplotlib and geopandas to plot comparing charts and national maps."
   ]
  },
  {
   "cell_type": "markdown",
   "id": "38295ebe",
   "metadata": {},
   "source": [
    "This project has three sections:\n",
    "\n",
    "- Basic statistics about child poverty in the United States will be presented.\n",
    "\n",
    "- A detailed examination of two factors, which are race and family type, in year 2016 (the most recent available data from American Community Survey from Census API) will be presented.\n",
    "\n",
    "- National maps showing the relationship between geographical variations and racial concentration distribution will be presented."
   ]
  },
  {
   "cell_type": "markdown",
   "id": "016f420c",
   "metadata": {},
   "source": [
    "### Requisite Packages"
   ]
  },
  {
   "cell_type": "code",
   "execution_count": null,
   "id": "22494183",
   "metadata": {},
   "outputs": [],
   "source": [
    "from IPython.display import display, Image # Displays things nicely\n",
    "import pandas as pd # Data Package \n",
    "import matplotlib.pyplot as plt # Graphics\n",
    "from matplotlib.patches import Ellipse \n",
    "import numpy as np # Numerical operations\n",
    "import os\n",
    "\n",
    "from census import Census # for grabbing data from Census API\n",
    "from us import states\n",
    "\n",
    "import fiona # Needed for geopandas to run\n",
    "import geopandas as gpd # this is the main geopandas \n",
    "from shapely.geometry import Point, Polygon "
   ]
  },
  {
   "cell_type": "markdown",
   "id": "c1b54c7e",
   "metadata": {},
   "source": [
    "## Part 1: Basic Statistics about US Child Poverty\n",
    "---\n",
    "In this part, I will access and read data from Census API about total population under 18 and the population in poverty under 18. Then I will calculate the child poverty rate and young child(under 6 years old) poverty rate based on these data."
   ]
  },
  {
   "cell_type": "code",
   "execution_count": null,
   "id": "57d1979a",
   "metadata": {},
   "outputs": [],
   "source": [
    "print(avg_b,avg_b_y)"
   ]
  },
  {
   "cell_type": "markdown",
   "id": "4b3ff8a4",
   "metadata": {},
   "source": [
    "ASIAN ALONE"
   ]
  },
  {
   "cell_type": "code",
   "execution_count": null,
   "id": "4eeb93ae",
   "metadata": {},
   "outputs": [],
   "source": [
    "code = (\"NAME\",\n",
    "        \"B17020D_011E\", # Above Poverty Level, Asian:Under 5 years\n",
    "        \"B17020D_012E\", # Above Poverty Level:5\n",
    "        \"B17020D_013E\", # Above Poverty Level:6-11\n",
    "        \"B17020D_014E\", # Above Poverty Level:12-17\n",
    "        \"B17020D_003E\", # Below Poverty Level, Asian:Under 5 years\n",
    "        \"B17020D_004E\", # Below Poverty Level:5\n",
    "        \"B17020D_005E\", # Below Poverty Level:6-11\n",
    "        \"B17020D_006E\", # Below Poverty Level:12-17\n",
    "        \n",
    "       )\n",
    "\n",
    "a = c.acs5.get(code, {'for': 'county:*' }, year=2016)\n",
    "\n",
    "a = pd.DataFrame(a)\n",
    "\n",
    "a = a.rename(columns = \n",
    "               {\"B17020D_011E\":\"Above Poverty Level, Asian:Under 5 years\",\n",
    "                \"B17020D_012E\":\"Above Poverty Level:5\",\n",
    "                \"B17020D_013E\":\"Above Poverty Level:6-11\",\n",
    "                \"B17020D_014E\":\"Above Poverty Level:12-17\",\n",
    "                \"B17020D_003E\":\"Below Poverty Level, Asian:Under 5 years\",\n",
    "                \"B17020D_004E\":\"Below Poverty Level:5\",\n",
    "                \"B17020D_005E\":\"Below Poverty Level:6-11\",\n",
    "                \"B17020D_006E\":\"Below Poverty Level:12-17\",\n",
    "                })\n",
    "\n",
    "# Calculating total children (Asian) below poverty line \n",
    "a[\"Total Children in Poverty\"]=a[\"Below Poverty Level, Asian:Under 5 years\"]+a[\"Below Poverty Level:5\"]\n",
    "a[\"Total Children in Poverty\"]=a[\"Total Children in Poverty\"]+a[\"Below Poverty Level:6-11\"]\n",
    "a[\"Total Children in Poverty\"]=a[\"Total Children in Poverty\"]+a[\"Below Poverty Level:12-17\"]\n",
    "\n",
    "# Calculating total children (Asian) above poverty line\n",
    "a[\"Total Children not in Poverty\"]=a[\"Above Poverty Level, Asian:Under 5 years\"]+a[\"Above Poverty Level:5\"]\n",
    "a[\"Total Children not in Poverty\"]=a[\"Total Children not in Poverty\"]+a[\"Above Poverty Level:6-11\"]\n",
    "a[\"Total Children not in Poverty\"]=a[\"Total Children not in Poverty\"]+a[\"Above Poverty Level:12-17\"]\n",
    "\n",
    "# Calculating total population of children (Asian)\n",
    "a[\"Total Asian Chidren Population\"]=a[\"Total Children in Poverty\"]+a[\"Total Children not in Poverty\"]\n",
    "\n",
    "# Calculating poverty rate within race group (Asian)\n",
    "a[\"Child Poverty Rate(Asian)\"] = a[\"Total Children in Poverty\"]/a[\"Total Asian Chidren Population\"]\n",
    "\n",
    "# Calculating total young children(<= 5 years) (Asian)\n",
    "a[\"Total Young Children\"] = (a[\"Below Poverty Level, Asian:Under 5 years\"]+a[\"Below Poverty Level:5\"]\n",
    "                            +a[\"Above Poverty Level, Asian:Under 5 years\"]+a[\"Above Poverty Level:5\"])\n",
    "\n",
    "# Calculating young children poverty rate (Asian)\n",
    "a[\"Young Children Poverty Rate\"] =((a[\"Below Poverty Level, Asian:Under 5 years\"]+\n",
    "                                   a[\"Below Poverty Level:5\"])/a[\"Total Young Children\"])\n"
   ]
  },
  {
   "cell_type": "code",
   "execution_count": null,
   "id": "8678db4d",
   "metadata": {},
   "outputs": [],
   "source": [
    "a.set_index(\"state\", inplace = True)\n",
    "\n",
    "a.drop([\"02\",\"15\",\"72\"],inplace = True) # dropping Alaska, Hawaii and Puerto Rico\n",
    "\n",
    "a.head()"
   ]
  },
  {
   "cell_type": "code",
   "execution_count": null,
   "id": "328cd05f",
   "metadata": {},
   "outputs": [],
   "source": [
    "# Calculating average child poverty rate and young child poverty rate\n",
    "avg_a = (a[\"Total Children in Poverty\"].sum())/(a[\"Total Asian Chidren Population\"].sum())\n",
    "avg_a_y = ((a[\"Below Poverty Level, Asian:Under 5 years\"].sum() + a[\"Below Poverty Level:5\"].sum())\n",
    "           /(a[\"Total Young Children\"].sum()))"
   ]
  },
  {
   "cell_type": "code",
   "execution_count": null,
   "id": "6d03acc2",
   "metadata": {},
   "outputs": [],
   "source": [
    "print(avg_a,avg_a_y)"
   ]
  },
  {
   "cell_type": "markdown",
   "id": "141d0a29",
   "metadata": {},
   "source": [
    "HISPANIC OR LATINO"
   ]
  },
  {
   "cell_type": "code",
   "execution_count": null,
   "id": "afc75490",
   "metadata": {},
   "outputs": [],
   "source": [
    "code = (\"NAME\",\n",
    "        \"B17020I_011E\", # Above Poverty Level, Hispanic or Latino:Under 5 years\n",
    "        \"B17020I_012E\", # Above Poverty Level:5\n",
    "        \"B17020I_013E\", # Above Poverty Level:6-11\n",
    "        \"B17020I_014E\", # Above Poverty Level:12-17\n",
    "        \"B17020I_003E\", # Below Poverty Level, Hispanic or Latino:Under 5 years\n",
    "        \"B17020I_004E\", # Below Poverty Level:5\n",
    "        \"B17020I_005E\", # Below Poverty Level:6-11\n",
    "        \"B17020I_006E\", # Below Poverty Level:12-17\n",
    "        \n",
    "       )\n",
    "\n",
    "hl = c.acs5.get(code, {'for': 'county:*' }, year=2016)\n",
    "\n",
    "hl = pd.DataFrame(hl)\n",
    "\n",
    "hl = hl.rename(columns = \n",
    "               {\"B17020I_011E\":\"Above Poverty Level, His./Latino:Under 5 years\",\n",
    "                \"B17020I_012E\":\"Above Poverty Level:5\",\n",
    "                \"B17020I_013E\":\"Above Poverty Level:6-11\",\n",
    "                \"B17020I_014E\":\"Above Poverty Level:12-17\",\n",
    "                \"B17020I_003E\":\"Below Poverty Level, His./Latino:Under 5 years\",\n",
    "                \"B17020I_004E\":\"Below Poverty Level:5\",\n",
    "                \"B17020I_005E\":\"Below Poverty Level:6-11\",\n",
    "                \"B17020I_006E\":\"Below Poverty Level:12-17\",\n",
    "                })\n",
    "\n",
    "# Calculating total children (Hispanic or Latino) below poverty line \n",
    "hl[\"Total Children in Poverty\"]=hl[\"Below Poverty Level, His./Latino:Under 5 years\"]+hl[\"Below Poverty Level:5\"]\n",
    "hl[\"Total Children in Poverty\"]=hl[\"Total Children in Poverty\"]+hl[\"Below Poverty Level:6-11\"]\n",
    "hl[\"Total Children in Poverty\"]=hl[\"Total Children in Poverty\"]+hl[\"Below Poverty Level:12-17\"]\n",
    "\n",
    "# Calculating total children (Hispanic or Latino) above poverty line\n",
    "hl[\"Total Children not in Poverty\"]=hl[\"Above Poverty Level, His./Latino:Under 5 years\"]+hl[\"Above Poverty Level:5\"]\n",
    "hl[\"Total Children not in Poverty\"]=hl[\"Total Children not in Poverty\"]+hl[\"Above Poverty Level:6-11\"]\n",
    "hl[\"Total Children not in Poverty\"]=hl[\"Total Children not in Poverty\"]+hl[\"Above Poverty Level:12-17\"]\n",
    "\n",
    "# Calculating total population of children (Hispanic or Latino)\n",
    "hl[\"Total His./Latino Chidren Population\"]=hl[\"Total Children in Poverty\"]+hl[\"Total Children not in Poverty\"]\n",
    "\n",
    "# Calculating poverty rate within race group (Hispanic or Latino)\n",
    "hl[\"Child Poverty Rate(Hispanic/Latino)\"]=hl[\"Total Children in Poverty\"]/hl[\"Total His./Latino Chidren Population\"]\n",
    "\n",
    "# Calculating total young children(< 5 years) (Hispanic or Latino)\n",
    "hl[\"Total Young Children\"] = (hl[\"Below Poverty Level, His./Latino:Under 5 years\"]+hl[\"Below Poverty Level:5\"]\n",
    "                             +hl[\"Above Poverty Level, His./Latino:Under 5 years\"]+hl[\"Above Poverty Level:5\"])\n",
    "\n",
    "\n",
    "# Calculating young children poverty rate (Hispanic or Latino)\n",
    "hl[\"Young Children Poverty Rate\"] = ((hl[\"Below Poverty Level, His./Latino:Under 5 years\"]+hl[\"Below Poverty Level:5\"])\n",
    "                                     /hl[\"Total Young Children\"])"
   ]
  },
  {
   "cell_type": "code",
   "execution_count": null,
   "id": "ecbe870f",
   "metadata": {},
   "outputs": [],
   "source": [
    "hl.set_index(\"state\", inplace = True)\n",
    "\n",
    "hl.drop([\"02\",\"15\",\"72\"],inplace = True) # dropping Alaska, Hawaii and Puerto Rico\n",
    "\n",
    "hl.head()"
   ]
  },
  {
   "cell_type": "code",
   "execution_count": null,
   "id": "99b1e08d",
   "metadata": {},
   "outputs": [],
   "source": [
    "# Calculating average child poverty rate and young child poverty rate\n",
    "avg_h = (hl[\"Total Children in Poverty\"].sum())/(hl[\"Total His./Latino Chidren Population\"].sum())\n",
    "avg_h_y = ((hl[\"Below Poverty Level, His./Latino:Under 5 years\"].sum()+hl[\"Below Poverty Level:5\"].sum())\n",
    "           /(hl[\"Total Young Children\"].sum()))"
   ]
  },
  {
   "cell_type": "code",
   "execution_count": null,
   "id": "e64e0c33",
   "metadata": {},
   "outputs": [],
   "source": [
    "print(avg_h,avg_h_y)"
   ]
  },
  {
   "cell_type": "markdown",
   "id": "1409c169",
   "metadata": {},
   "source": [
    "Then I create a new DataFrame summarizing the average child poverty rates and young child poverty rates for different races and plot a bar chart to visually show the results."
   ]
  },
  {
   "cell_type": "code",
   "execution_count": null,
   "id": "072f8214",
   "metadata": {},
   "outputs": [],
   "source": [
    "f_w.set_index(\"state\", inplace = True)\n",
    "\n",
    "f_w.drop([\"02\",\"15\",\"72\"],inplace = True) # dropping Alaska, Hawaii and Puerto Rico"
   ]
  },
  {
   "cell_type": "code",
   "execution_count": null,
   "id": "63cb6b82",
   "metadata": {},
   "outputs": [],
   "source": [
    "f_w_1 = f_w[bp_1].sum()/f_w[\"Total Married Families with Children\"].sum()\n",
    "f_w_2 = f_w[bp_2].sum()/f_w[\"Total families with children with male householder only\"].sum()\n",
    "f_w_3 = f_w[bp_3].sum()/f_w[\"total families with children with female householder only\"].sum()"
   ]
  },
  {
   "cell_type": "code",
   "execution_count": null,
   "id": "66f1bd6e",
   "metadata": {},
   "outputs": [],
   "source": [
    "# Black\n",
    "code = (\"NAME\",\n",
    "        \"B17010B_004E\",#below poverty line:Number of Married-Couple Families with children under18\n",
    "        \"B17010B_011E\",#below poverty line:Male householder with children under 18\n",
    "        \"B17010B_017E\",#below poverty line:Female householder with children under 18\n",
    "        \"B17010B_024E\",#above poverty line:Number of Married-Couple Families with children under18\n",
    "        \"B17010B_031E\",#above poverty line:Male householder with children under 18\n",
    "        \"B17010B_037E\" #above poverty line:Female householder with children under 18\n",
    "       )\n",
    "\n",
    "f_b = c.acs5.get(code, {'for': 'county:*' }, year=2016)\n",
    "f_b = pd.DataFrame(f_b)\n",
    "\n",
    "f_b =f_b.rename(columns=\n",
    "    {\"B17010B_004E\":\"Below Poverty Line:Married-Couple families with children under 18\",\n",
    "    \"B17010B_011E\":\"Below Poverty Line:Male householder with children under 18\",\n",
    "    \"B17010B_017E\":\"Below Poverty Line:Female householder with children under 18\",\n",
    "    \"B17010B_024E\":\"Above Poverty Line: Number of Married-Couple Families with children under 18\",\n",
    "    \"B17010B_031E\":\"Above Poverty Line: Male householder with children under 18\",\n",
    "    \"B17010B_037E\":\"Above Poverty Line: Female householder with children under 18\"\n",
    "    })\n",
    "\n",
    "f_b[\"Total Married Families with Children\"] = f_b[bp_1] + f_b[ap_1]\n",
    "\n",
    "f_b[\"Total families with children with male householder only\"] = f_b[bp_2] + f_b[ap_2]\n",
    "\n",
    "f_b[\"total families with children with female householder only\"] = f_b[bp_3]+ f_b[ap_3]"
   ]
  },
  {
   "cell_type": "code",
   "execution_count": null,
   "id": "87eda89c",
   "metadata": {},
   "outputs": [],
   "source": [
    "f_b.set_index(\"state\", inplace = True)\n",
    "\n",
    "f_b.drop([\"02\",\"15\",\"72\"],inplace = True) # dropping Alaska, Hawaii and Puerto Rico"
   ]
  },
  {
   "cell_type": "code",
   "execution_count": null,
   "id": "dd58cb76",
   "metadata": {},
   "outputs": [],
   "source": [
    "f_b_1 = f_b[bp_1].sum()/f_b[\"Total Married Families with Children\"].sum()\n",
    "f_b_2 = f_b[bp_2].sum()/f_b[\"Total families with children with male householder only\"].sum()\n",
    "f_b_3 = f_b[bp_3].sum()/f_b[\"total families with children with female householder only\"].sum()"
   ]
  },
  {
   "cell_type": "code",
   "execution_count": null,
   "id": "f60747f2",
   "metadata": {},
   "outputs": [],
   "source": [
    "# Asian\n",
    "code = (\"NAME\",\n",
    "        \"B17010D_004E\",#below poverty line:Number of Married-Couple Families with children under18\n",
    "        \"B17010D_011E\",#below poverty line:Male householder with children under 18\n",
    "        \"B17010D_017E\",#below poverty line:Female householder with children under 18\n",
    "        \"B17010D_024E\",#above poverty line:Number of Married-Couple Families with children under18\n",
    "        \"B17010D_031E\",#above poverty line:Male householder with children under 18\n",
    "        \"B17010D_037E\" #above poverty line:Female householder with children under 18\n",
    "       )\n",
    "\n",
    "f_a = c.acs5.get(code, {'for': 'county:*' }, year=2016)\n",
    "f_a = pd.DataFrame(f_a)\n",
    "\n",
    "f_a = f_a.rename(columns = \n",
    "    {\"B17010D_004E\":\"Below Poverty Line:Married-Couple families with children under 18\",\n",
    "    \"B17010D_011E\":\"Below Poverty Line:Male householder with children under 18\",\n",
    "    \"B17010D_017E\":\"Below Poverty Line:Female householder with children under 18\",\n",
    "    \"B17010D_024E\":\"Above Poverty Line: Number of Married-Couple Families with children under 18\",\n",
    "    \"B17010D_031E\":\"Above Poverty Line: Male householder with children under 18\",\n",
    "    \"B17010D_037E\":\"Above Poverty Line: Female householder with children under 18\"\n",
    "    })\n",
    "\n",
    "bp_1 = \"Below Poverty Line:Married-Couple families with children under 18\"\n",
    "ap_1 = \"Above Poverty Line: Number of Married-Couple Families with children under 18\"\n",
    "\n",
    "f_a[\"Total Married Families with Children\"] = f_a[bp_1] + f_a[ap_1]\n",
    "\n",
    "bp_2 = \"Below Poverty Line:Male householder with children under 18\"\n",
    "ap_2 = \"Above Poverty Line: Male householder with children under 18\"\n",
    "\n",
    "f_a[\"Total families with children with male householder only\"] = f_a[bp_2] + f_a[ap_2]\n",
    "\n",
    "bp_3 = \"Below Poverty Line:Female householder with children under 18\"\n",
    "ap_3 = \"Above Poverty Line: Female householder with children under 18\"\n",
    "\n",
    "f_a[\"total families with children with female householder only\"] = f_a[bp_3]+ f_a[ap_3]"
   ]
  },
  {
   "cell_type": "code",
   "execution_count": null,
   "id": "d1398f3d",
   "metadata": {},
   "outputs": [],
   "source": [
    "f_a.set_index(\"state\", inplace = True)\n",
    "\n",
    "f_a.drop([\"02\",\"15\",\"72\"],inplace = True) # dropping Alaska, Hawaii and Puerto Rico"
   ]
  },
  {
   "cell_type": "code",
   "execution_count": null,
   "id": "274e7ab3",
   "metadata": {},
   "outputs": [],
   "source": [
    "f_a_1 = f_a[bp_1].sum()/f_a[\"Total Married Families with Children\"].sum()\n",
    "f_a_2 = f_a[bp_2].sum()/f_a[\"Total families with children with male householder only\"].sum()\n",
    "f_a_3 = f_a[bp_3].sum()/f_a[\"total families with children with female householder only\"].sum()"
   ]
  },
  {
   "cell_type": "code",
   "execution_count": null,
   "id": "10151651",
   "metadata": {},
   "outputs": [],
   "source": [
    "# Hispanic or latino\n",
    "code = (\"NAME\",\n",
    "        \"B17010I_004E\",#below poverty line:Number of Married-Couple Families with children under18\n",
    "        \"B17010I_011E\",#below poverty line:Male householder with children under 18\n",
    "        \"B17010I_017E\",#below poverty line:Female householder with children under 18\n",
    "        \"B17010I_024E\",#above poverty line:Number of Married-Couple Families with children under18\n",
    "        \"B17010I_031E\",#above poverty line:Male householder with children under 18\n",
    "        \"B17010I_037E\" #above poverty line:Female householder with children under 18\n",
    "       )\n",
    "\n",
    "f_h = c.acs5.get(code, {'for': 'county:*' }, year=2016)\n",
    "f_h = pd.DataFrame(f_h)\n",
    "\n",
    "f_h = f_h.rename(columns =\n",
    "    {\"B17010I_004E\":\"Below Poverty Line:Married-Couple families with children under 18\",\n",
    "    \"B17010I_011E\":\"Below Poverty Line:Male householder with children under 18\",\n",
    "    \"B17010I_017E\":\"Below Poverty Line:Female householder with children under 18\",\n",
    "    \"B17010I_024E\":\"Above Poverty Line: Number of Married-Couple Families with children under 18\",\n",
    "    \"B17010I_031E\":\"Above Poverty Line: Male householder with children under 18\",\n",
    "    \"B17010I_037E\":\"Above Poverty Line: Female householder with children under 18\"\n",
    "    })\n",
    "\n",
    "f_h[\"Total Married Families with Children\"] = f_h[bp_1] +f_h[ap_1]\n",
    "\n",
    "f_h[\"Total families with children with male householder only\"] = f_h[bp_2] + f_h[ap_2]\n",
    "\n",
    "f_h[\"total families with children with female householder only\"] = f_h[bp_3]+ f_h[ap_3]"
   ]
  },
  {
   "cell_type": "code",
   "execution_count": null,
   "id": "052a827f",
   "metadata": {},
   "outputs": [],
   "source": [
    "f_h.set_index(\"state\", inplace = True)\n",
    "\n",
    "f_h.drop([\"02\",\"15\",\"72\"],inplace = True) # dropping Alaska, Hawaii and Puerto Rico"
   ]
  },
  {
   "cell_type": "code",
   "execution_count": null,
   "id": "2dc28ae8",
   "metadata": {},
   "outputs": [],
   "source": [
    "f_h_1 = f_h[bp_1].sum()/f_h[\"Total Married Families with Children\"].sum()\n",
    "f_h_2 = f_h[bp_2].sum()/f_h[\"Total families with children with male householder only\"].sum()\n",
    "f_h_3 = f_h[bp_3].sum()/f_h[\"total families with children with female householder only\"].sum()"
   ]
  },
  {
   "cell_type": "markdown",
   "id": "5a34deb9",
   "metadata": {},
   "source": [
    "Then I create a new DataFrame summarizing poverty rates of different family types and plot a bar chart to visually show the results."
   ]
  },
  {
   "cell_type": "code",
   "execution_count": null,
   "id": "7c8b3196",
   "metadata": {},
   "outputs": [],
   "source": [
    "d1 = {\"Race\":[\"All Races\",\"White\",\"Black\",\"Asian\",\"Hispanic/Latino\"],\n",
    "     \"Married-Couple families with children Below Poverty Line\":[f_1,f_w_1,f_b_1,f_a_1,f_h_1],\n",
    "     \"Families with Male householder only with children Below Poverty Line\":[f_2,f_w_2,f_b_2,f_a_2,f_h_2],\n",
    "     \"Families with Female householder only with children Below Poverty Line\":[f_3,f_w_3,f_b_3,f_a_3,f_h_3]\n",
    "    }\n",
    "\n",
    "family_type = pd.DataFrame(data = d1)\n",
    "\n",
    "\n",
    "family_type.set_index(\"Race\",inplace = True)                \n",
    "\n",
    "family_type"
   ]
  },
  {
   "cell_type": "code",
   "execution_count": null,
   "id": "d71387c7",
   "metadata": {},
   "outputs": [],
   "source": [
    "fig, ax = plt.subplots(figsize = (12,6))\n",
    "\n",
    "family_type.plot(ax=ax,kind = \"bar\", rot=1)\n",
    "\n",
    "ax.set_title(\"Poverty Rate By Family Type By Race\", fontsize = 17)\n",
    "\n",
    "ax.spines[\"right\"].set_visible(False) \n",
    "ax.spines[\"top\"].set_visible(False) \n",
    "\n",
    "ax.set_xlabel(\"Races\", fontsize = 14)\n",
    "ax.set_ylabel(\"Average Poverty Rate\",fontsize = 14)\n",
    "\n",
    "ax.legend([\"Female householder only\",\"Male householder only\",\"Married-Couple families\"])\n",
    "\n",
    "plt.show()\n"
   ]
  },
  {
   "cell_type": "markdown",
   "id": "0cd560ea",
   "metadata": {},
   "source": [
    "**Summary**: We can see clearly from this graph that family type plays a role in child poverty, and the patterns persist across different races. Children from single-mother families are suffering highest poverty rates, and children from married-couple families have the lowest poverty rates. This shows that children from single-parent families are more likely to be in poverty than married-coupled families, and children with a single mother are more likely to be in poverty than children with a single father. "
   ]
  },
  {
   "cell_type": "markdown",
   "id": "4fbe2d92",
   "metadata": {},
   "source": [
    "## Part 3: Geographic Variations and Racial Distribution\n",
    "---\n",
    "As we can see from the map at the end of part one, child poverty has geographical variations. Regarding the above two contributing factors, I think family type is more like a micro factor that is not very related to geographics,however, racial concentration is one of the most important demographics for a region and varies across different regions. In this part, I will investigate the relationship between geographic variations of child poverty and racial distribution."
   ]
  },
  {
   "cell_type": "markdown",
   "id": "779b1de5",
   "metadata": {},
   "source": [
    "Below, I grab data and calculate non-white population for different counties. Then I plot a national map indicating the non-white concentration across different counties, with counties with high non-white concentration(>25%) outlined in red."
   ]
  },
  {
   "cell_type": "code",
   "execution_count": null,
   "id": "0d437721",
   "metadata": {},
   "outputs": [],
   "source": [
    "my_api_key = \"6d08ff7a7a1f5f90fb8d1972aedd83d457ea17e3\"\n",
    "\n",
    "c = Census(my_api_key)"
   ]
  },
  {
   "cell_type": "code",
   "execution_count": null,
   "id": "2e5fdb38",
   "metadata": {},
   "outputs": [],
   "source": [
    "code = (\"NAME\",\"B09001_001E\",# grabbing the total population under 18,\n",
    "        \"B17020_003E\",  # poverty population, under 6 years\n",
    "        \"B17020_004E\",  # poverty population, 6-11 years\n",
    "        \"B17020_005E\",  # poverty population, 12-17 years\n",
    "        \"B17020_011E\"   # above poverty level, under 6 years\n",
    "        ) \n",
    "\n",
    "c_pov = c.acs5.get(code, {'for': 'county:*' }, year=2016) # grabbing data for year 2016 at the conuty level\n",
    "\n",
    "c_pov = pd.DataFrame(c_pov) # Convert into DataFrame\n",
    "\n",
    "c_pov = c_pov.rename(columns = \n",
    "    {\"B09001_001E\":\"Total Population under 18\",\n",
    "     \"B17020_003E\":\"Poverty Population, under 6 years\",\n",
    "     \"B17020_004E\":\"Poverty Population, 6-11 years\",\n",
    "     \"B17020_005E\":\"Poverty Population, 12-17 years\",\n",
    "     \"B17020_011E\":\"Above Poverty Level, under 6 years\"\n",
    "    })\n",
    "\n",
    "# Calculating total child population in poverty\n",
    "c_pov[\"Total Children in Poverty\"] = c_pov[\"Poverty Population, under 6 years\"]+c_pov[\"Poverty Population, 6-11 years\"]\n",
    "c_pov[\"Total Children in Poverty\"] = c_pov[\"Total Children in Poverty\"]+c_pov[\"Poverty Population, 12-17 years\"]\n",
    "\n",
    "# Calculating poverty rate\n",
    "c_pov[\"Child Poverty Rate in 2016\"] = c_pov[\"Total Children in Poverty\"]/c_pov[\"Total Population under 18\"]\n",
    "\n",
    "# Calculating total young children\n",
    "c_pov[\"Total Young Children\"] = c_pov[\"Poverty Population, under 6 years\"]+c_pov[\"Above Poverty Level, under 6 years\"]\n"
   ]
  },
  {
   "cell_type": "code",
   "execution_count": null,
   "id": "7adbbfa1",
   "metadata": {},
   "outputs": [],
   "source": [
    "c_pov.set_index(\"state\", inplace = True)\n",
    "c_pov.drop([\"02\",\"15\",\"72\"],inplace = True)   # dropping Alaska, Hawaii and Puerto Rico\n",
    "c_pov.head()"
   ]
  },
  {
   "cell_type": "code",
   "execution_count": null,
   "id": "5832afad",
   "metadata": {},
   "outputs": [],
   "source": [
    "(c_pov[\"Total Children in Poverty\"].sum())/(c_pov[\"Total Population under 18\"].sum())"
   ]
  },
  {
   "cell_type": "code",
   "execution_count": null,
   "id": "7a923963",
   "metadata": {},
   "outputs": [],
   "source": [
    "c_pov[\"Poverty Population, under 6 years\"].sum()/c_pov[\"Total Young Children\"].sum()"
   ]
  },
  {
   "cell_type": "markdown",
   "id": "6c155961",
   "metadata": {},
   "source": [
    "**Summary**: So, in aggregate, child poverty rate in the US in 2016 is **20.88%**, which means one in five children in US is suffering from poverty. Young child poverty rate is even higher, which is **23.58%** in 2016."
   ]
  },
  {
   "cell_type": "markdown",
   "id": "e2e94625",
   "metadata": {},
   "source": [
    "Next, let's see how child poverty is distributed within US. I will use geopandas to plot child poverty distribution at county level."
   ]
  }
 ],
 "metadata": {},
 "nbformat": 4,
 "nbformat_minor": 5
}
