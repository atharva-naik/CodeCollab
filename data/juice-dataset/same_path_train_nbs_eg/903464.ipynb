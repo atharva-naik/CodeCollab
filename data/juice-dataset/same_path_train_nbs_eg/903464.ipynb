{
 "cells": [
  {
   "cell_type": "markdown",
   "id": "d2c2469b",
   "metadata": {},
   "source": [
    "**Getting top donation states for Iowa**"
   ]
  },
  {
   "cell_type": "code",
   "execution_count": null,
   "id": "072a200d",
   "metadata": {},
   "outputs": [],
   "source": [
    "df[df.index == 'IA'].sum().sort_values(ascending=False).head(5)"
   ]
  },
  {
   "cell_type": "markdown",
   "id": "e1bebb52",
   "metadata": {},
   "source": [
    "**It is found that a donor is more likely to donate to a project that belongs to a neighbouring state **"
   ]
  },
  {
   "cell_type": "markdown",
   "id": "3e82247d",
   "metadata": {},
   "source": [
    "### 2) How does donor category effect the donation amount ?"
   ]
  },
  {
   "cell_type": "code",
   "execution_count": null,
   "id": "1583d171",
   "metadata": {},
   "outputs": [],
   "source": [
    "# Identify donations that came from the teacher who created the project\n",
    "# and assigning donor category\n",
    "pds = projects_donations\n",
    "pds.loc[:, 'donor_category'] = 'donor_other'\n",
    "pds.loc[pds._teacher_acctid == pds._donor_acctid, 'donor_category'] = 'donor_teacher_project'\n",
    "pds.loc[(pds._teacher_acctid != pds._donor_acctid) & (pds.is_teacher_acct == 't'), 'donor_category'] = 'donor_teacher_other'"
   ]
  },
  {
   "cell_type": "code",
   "execution_count": null,
   "id": "cb217210",
   "metadata": {},
   "outputs": [],
   "source": [
    "pds_g = pds.groupby(by='donor_category')\n",
    "pds_g = pds_g['donation_total'].mean()\n",
    "pds_gx = pds_g.plot(kind='bar')\n",
    "pds_gx.set_ylabel(\"Average Donation Amount\")\n",
    "pds_gx.set_title('Plot between donor category and Average donation amount', fontsize=14)"
   ]
  },
  {
   "cell_type": "code",
   "execution_count": null,
   "id": "eb34e07f",
   "metadata": {},
   "outputs": [],
   "source": [
    "subjects = pds.primary_focus_subject.drop_duplicates()\n",
    "df = pd.DataFrame(columns = ['Subjects','donor_teacher_project','donor_teacher_other','donor_other'])\n",
    "df['Subjects'] = subjects\n",
    "df = df.set_index('Subjects')\n",
    "\n",
    "# Filling the data frame\n",
    "pds1 = pds.groupby('primary_focus_subject')\n",
    "for sub,group_s in pds1:\n",
    "    pds2 = group_s.groupby('donor_category')\n",
    "    for dc,group_dc in pds2:\n",
    "        df.loc[sub,dc] = 100*(group_dc.donation_total.sum())/(group_s.donation_total.sum())\n",
    "df.head(10)"
   ]
  },
  {
   "cell_type": "markdown",
   "id": "d45ac0dc",
   "metadata": {},
   "source": [
    "### 3) How does subject vary with donation amount among teachers donating to own projects ?"
   ]
  },
  {
   "cell_type": "code",
   "execution_count": null,
   "id": "238a3830",
   "metadata": {},
   "outputs": [],
   "source": [
    "a = pds[pds.donor_category == 'donor_teacher_project']\n",
    "#a = a[(100 * a.donation_total / a.total_donations) > 33]\n",
    "ax = a.groupby(by='primary_focus_subject')['donation_total'].mean().plot(kind='bar',figsize=(20,5))\n",
    "ax.set_ylabel('Average Donation Amount')\n",
    "ax.set_title('Plot between Subject and Donation amount for a teacher contributing to own project', fontsize=14)"
   ]
  },
  {
   "cell_type": "markdown",
   "id": "ae9e6e6a",
   "metadata": {},
   "source": [
    "### 4) How does subject vary with donation amount among teachers donating to other's projects ?"
   ]
  },
  {
   "cell_type": "code",
   "execution_count": null,
   "id": "ab9ce7c5",
   "metadata": {},
   "outputs": [],
   "source": [
    "b = pds[pds.donor_category == 'donor_teacher_other']\n",
    "#a = a[(100 * a.donation_total / a.total_donations) > 33]\n",
    "bx = b.groupby(by='primary_focus_subject')['donation_total'].mean().plot(kind='bar',figsize=(20,5))\n",
    "bx.set_ylabel('Average Donation Amount')\n",
    "bx.set_title('Plot between Subject and Donation amount for a teacher contributing to other project', fontsize=14)"
   ]
  },
  {
   "cell_type": "markdown",
   "id": "9b3a2a9e",
   "metadata": {},
   "source": [
    "### 5) How does subject vary with donation amount among non - teachers ?"
   ]
  }
 ],
 "metadata": {},
 "nbformat": 4,
 "nbformat_minor": 5
}
