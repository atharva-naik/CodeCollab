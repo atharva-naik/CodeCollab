{
 "cells": [
  {
   "cell_type": "markdown",
   "id": "3b296e4d",
   "metadata": {},
   "source": [
    "# Examining Racial Discrimination in the US Job Market\n",
    "\n",
    "### Background\n",
    "Racial discrimination continues to be pervasive in cultures throughout the world. Researchers examined the level of racial discrimination in the United States labor market by randomly assigning identical résumés to black-sounding or white-sounding names and observing the impact on requests for interviews from employers.\n",
    "\n",
    "### Data\n",
    "In the dataset provided, each row represents a resume. The 'race' column has two values, 'b' and 'w', indicating black-sounding and white-sounding. The column 'call' has two values, 1 and 0, indicating whether the resume received a call from employers or not.\n",
    "\n",
    "Note that the 'b' and 'w' values in race are assigned randomly to the resumes when presented to the employer."
   ]
  },
  {
   "cell_type": "markdown",
   "id": "5448cc3d",
   "metadata": {},
   "source": [
    "### Exercises\n",
    "You will perform a statistical analysis to establish whether race has a significant impact on the rate of callbacks for resumes.\n",
    "\n",
    "Answer the following questions **in this notebook below and submit to your Github account**. \n",
    "\n",
    "   1. What test is appropriate for this problem? Does CLT apply?\n",
    "   2. What are the null and alternate hypotheses?\n",
    "   3. Compute margin of error, confidence interval, and p-value.\n",
    "   4. Write a story describing the statistical significance in the context or the original problem.\n",
    "   5. Does your analysis mean that race/name is the most important factor in callback success? Why or why not? If not, how would you amend your analysis?\n",
    "\n",
    "You can include written notes in notebook cells using Markdown: \n",
    "   - In the control panel at the top, choose Cell > Cell Type > Markdown\n",
    "   - Markdown syntax: http://nestacms.com/docs/creating-content/markdown-cheat-sheet\n",
    "\n",
    "\n",
    "#### Resources\n",
    "+ Experiment information and data source: http://www.povertyactionlab.org/evaluation/discrimination-job-market-united-states\n",
    "+ Scipy statistical methods: http://docs.scipy.org/doc/scipy/reference/stats.html \n",
    "+ Markdown syntax: http://nestacms.com/docs/creating-content/markdown-cheat-sheet\n",
    "****"
   ]
  },
  {
   "cell_type": "code",
   "execution_count": null,
   "id": "2017e53d",
   "metadata": {},
   "outputs": [],
   "source": [
    "import pandas as pd\n",
    "import numpy as np\n",
    "from scipy import stats\n",
    "import math\n",
    "from math import sqrt\n",
    "from scipy.stats import t"
   ]
  },
  {
   "cell_type": "code",
   "execution_count": null,
   "id": "1c3779f2",
   "metadata": {},
   "outputs": [],
   "source": [
    "data = pd.io.stata.read_stata('data/us_job_market_discrimination.dta')"
   ]
  },
  {
   "cell_type": "code",
   "execution_count": null,
   "id": "a929c21a",
   "metadata": {},
   "outputs": [],
   "source": [
    "# number of callbacks for black-sounding names\n",
    "sum(data[data.race=='b'].call)"
   ]
  },
  {
   "cell_type": "code",
   "execution_count": null,
   "id": "e96b102b",
   "metadata": {},
   "outputs": [],
   "source": [
    "data.head()"
   ]
  },
  {
   "cell_type": "code",
   "execution_count": null,
   "id": "903ff678",
   "metadata": {},
   "outputs": [],
   "source": [
    "data.describe()"
   ]
  },
  {
   "cell_type": "markdown",
   "id": "462aff4e",
   "metadata": {},
   "source": [
    "Let's confine our analysis to race factor only"
   ]
  },
  {
   "cell_type": "code",
   "execution_count": null,
   "id": "233d637f",
   "metadata": {},
   "outputs": [],
   "source": [
    "df = data[['race','call']]\n",
    "df.head()"
   ]
  },
  {
   "cell_type": "markdown",
   "id": "6aa4c26b",
   "metadata": {},
   "source": [
    "We will check proportion of calls in the white(w) and black(b) populations"
   ]
  },
  {
   "cell_type": "code",
   "execution_count": null,
   "id": "d51cf942",
   "metadata": {},
   "outputs": [],
   "source": [
    "# Compute proportion of call backs for each group\n",
    "# the w and b datasets\n",
    "df_w = df[df['race'] == 'w']\n",
    "df_b = df[df['race'] == 'b']\n",
    "# Sample size for each type\n",
    "n_w = len(df_w)\n",
    "n_b = len(df_b)\n",
    "print(\"white count \" + str(n_w))\n",
    "print(\"black count \" + str(n_b))\n",
    "\n",
    "# number that received call\n",
    "n_call_w = np.sum(df_w.call)\n",
    "n_call_b = np.sum(df_b.call)\n",
    "# Proportion\n",
    "p_w = n_call_w/n_w\n",
    "p_b = n_call_b/n_b\n",
    "[p_w, p_b]"
   ]
  },
  {
   "cell_type": "markdown",
   "id": "889afea1",
   "metadata": {},
   "source": [
    "Approximately 9.7% of white resumes got call back compared to 6.4% for black sounding resumes\n",
    "Now, the question is : Is this difference statictically significant?\n",
    "The Null Hypothesis: There is no difference between the black and white sounding resumes\n",
    "The alternate hypothesis : There is significant difference\n",
    "We will do a two sample t test to determine if the two samples are different. We will use 95% confidence interval\n"
   ]
  },
  {
   "cell_type": "code",
   "execution_count": null,
   "id": "46303e1f",
   "metadata": {},
   "outputs": [],
   "source": [
    "stats.ttest_ind(df_w.call,df_b.call,equal_var=False)"
   ]
  },
  {
   "cell_type": "markdown",
   "id": "e3ad1037",
   "metadata": {},
   "source": [
    "The two sample returns a t value of 4.11 and a p value which is very small. Hence the null hypothesis is rejected.\n",
    "We conclude that there is a signifcant difference between the means."
   ]
  },
  {
   "cell_type": "markdown",
   "id": "418fdf12",
   "metadata": {},
   "source": [
    " -1.What test is appropriate for this problem? Does CLT apply?"
   ]
  },
  {
   "cell_type": "markdown",
   "id": "2653732f",
   "metadata": {},
   "source": [
    "A two sample T test is appropriate for this problem. Yes, CLT applies"
   ]
  },
  {
   "cell_type": "markdown",
   "id": "f4b14c83",
   "metadata": {},
   "source": [
    " -2. What are the null and alternate hypotheses?"
   ]
  },
  {
   "cell_type": "markdown",
   "id": "86bbb0e7",
   "metadata": {},
   "source": [
    "The Null Hypothesis: There is no difference between the black and white sounding resumes \n",
    "    \n",
    "The alternate hypothesis : There is significant difference "
   ]
  },
  {
   "cell_type": "markdown",
   "id": "0669fa06",
   "metadata": {},
   "source": [
    " -3. Compute margin of error, confidence interval, and p-value."
   ]
  },
  {
   "cell_type": "markdown",
   "id": "cdba2c2d",
   "metadata": {},
   "source": [
    "At 95% confidence interval the p-value was very small"
   ]
  }
 ],
 "metadata": {},
 "nbformat": 4,
 "nbformat_minor": 5
}
