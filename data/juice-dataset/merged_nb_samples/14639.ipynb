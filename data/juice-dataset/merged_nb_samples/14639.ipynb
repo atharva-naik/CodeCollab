{
 "cells": [
  {
   "cell_type": "markdown",
   "id": "ae21e7e9",
   "metadata": {},
   "source": [
    "# Dispa-SET Post-processing"
   ]
  },
  {
   "cell_type": "markdown",
   "id": "a0632a11",
   "metadata": {},
   "source": [
    "This Notebook illustrates how Dispa-SET simulation results can be loaded, analysed and plotted. It uses the functions provided within the PostProcessing.py file.\n",
    "\n",
    "Sylvain Quoilin, Joint Research Centre\n",
    "\n",
    "November 2016"
   ]
  },
  {
   "cell_type": "markdown",
   "id": "59927e00",
   "metadata": {},
   "source": [
    "### Load DispaSET and the required libraries:"
   ]
  },
  {
   "cell_type": "code",
   "execution_count": null,
   "id": "ef35d954",
   "metadata": {},
   "outputs": [],
   "source": [
    "%matplotlib inline\n",
    "from __future__ import division\n",
    "import sys\n",
    "sys.path.append(\"..\")  \n",
    "\n",
    "import DispaSET as ds\n",
    "import pandas as pd\n",
    "import numpy as np"
   ]
  },
  {
   "cell_type": "markdown",
   "id": "bdd9d5c4",
   "metadata": {},
   "source": [
    "### Define the path to the simulation environment"
   ]
  },
  {
   "cell_type": "markdown",
   "id": "6fbe15f1",
   "metadata": {},
   "source": [
    "The folder must contain the simulatin inputs (written by the pre-processing tool) as wall as the simulation results (Results.gdx)."
   ]
  },
  {
   "cell_type": "code",
   "execution_count": null,
   "id": "5c56dc92",
   "metadata": {},
   "outputs": [],
   "source": [
    "path = '../Simulations/simulation_test'"
   ]
  },
  {
   "cell_type": "markdown",
   "id": "4d9c1fc8",
   "metadata": {},
   "source": [
    "### Load the inputs and the results of the simulation"
   ]
  },
  {
   "cell_type": "markdown",
   "id": "22658088",
   "metadata": {},
   "source": [
    "This can be computationally intensive for large simulations:"
   ]
  },
  {
   "cell_type": "code",
   "execution_count": null,
   "id": "3fcd118a",
   "metadata": {},
   "outputs": [],
   "source": [
    "inputs,results = ds.get_sim_results(path=path,cache=True)"
   ]
  },
  {
   "cell_type": "markdown",
   "id": "0edea05f",
   "metadata": {},
   "source": [
    "### Format the inputs as a dictionary of dataframes:"
   ]
  },
  {
   "cell_type": "code",
   "execution_count": null,
   "id": "6493c4d2",
   "metadata": {},
   "outputs": [],
   "source": [
    "datain = ds.ds_to_df(inputs)"
   ]
  },
  {
   "cell_type": "markdown",
   "id": "06bc4d3d",
   "metadata": {},
   "source": [
    "### Select the time period for plotting"
   ]
  },
  {
   "cell_type": "code",
   "execution_count": null,
   "id": "1897b878",
   "metadata": {},
   "outputs": [],
   "source": [
    "rng = pd.DatetimeIndex(start='2015-01-02 00:00:00',end='2015-02-02 04:01:00',freq='h')"
   ]
  },
  {
   "cell_type": "markdown",
   "id": "e8053e34",
   "metadata": {},
   "source": [
    "### Plotting the detailed analysis for one of the zones, randomly"
   ]
  },
  {
   "cell_type": "code",
   "execution_count": null,
   "id": "f1e72f3d",
   "metadata": {},
   "outputs": [],
   "source": [
    "Nzones = len(inputs['sets']['n'])\n",
    "c = inputs['sets']['n'][np.random.randint(Nzones)]\n",
    "print('Randomly selected zone for the detailed analysis: '+ c)"
   ]
  },
  {
   "cell_type": "markdown",
   "id": "27d3d56f",
   "metadata": {},
   "source": [
    "### Generate plots"
   ]
  },
  {
   "cell_type": "markdown",
   "id": "7013237b",
   "metadata": {},
   "source": [
    "for the selected zone:\n",
    "- dispatch plot (generation per fuel type) \n",
    "- rug  plog (ON/OFF status of each power plant "
   ]
  },
  {
   "cell_type": "code",
   "execution_count": null,
   "id": "5a25f566",
   "metadata": {},
   "outputs": [],
   "source": [
    "ds.plot_country(inputs,results,c,rng=rng)"
   ]
  },
  {
   "cell_type": "markdown",
   "id": "32957fc4",
   "metadata": {},
   "source": [
    "### Analyse the results for each country and provide quantitative indicators:"
   ]
  },
  {
   "cell_type": "code",
   "execution_count": null,
   "id": "d9a940fd",
   "metadata": {},
   "outputs": [],
   "source": [
    "r = ds.get_result_analysis(inputs,results)"
   ]
  },
  {
   "cell_type": "markdown",
   "id": "69148ace",
   "metadata": {},
   "source": [
    "### Plot the levels of all storage units:"
   ]
  },
  {
   "cell_type": "code",
   "execution_count": null,
   "id": "82cf9ca4",
   "metadata": {},
   "outputs": [],
   "source": [
    "if 'OutputStorageLevel' in results:\n",
    "    results['OutputStorageLevel'].plot()"
   ]
  },
  {
   "cell_type": "markdown",
   "id": "900fd8c0",
   "metadata": {},
   "source": [
    "### Bar plot of the overall generation in each zone by fuel type:"
   ]
  }
 ],
 "metadata": {},
 "nbformat": 4,
 "nbformat_minor": 5
}
