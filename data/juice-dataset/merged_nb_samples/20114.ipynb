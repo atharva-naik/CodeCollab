{
 "cells": [
  {
   "cell_type": "markdown",
   "id": "d4fb9ad1",
   "metadata": {},
   "source": [
    "# Exercise Introduction\n",
    "\n",
    "The cameraman who shot our deep learning videos mentioned a problem that we can solve with deep learning.  \n",
    "\n",
    "He offers a service that scans photographs to store them digitally.  He uses a machine that quickly scans many photos. But depending on the orientation of the original photo, many images are digitized sideways.  He fixes these manually, looking at each photo to determine which ones to rotate.\n",
    "\n",
    "In this exercise, you will build a model that distinguishes which photos are sideways and which are upright, so an app could automatically rotate each image if necessary.\n",
    "\n",
    "If you were going to sell this service commercially, you might use a large dataset to train the model. But you'll have great success with even a small dataset.  You'll work with a small dataset of dog pictures, half of which are rotated sideways.\n",
    "\n",
    "Specifying and compiling the model look the same as in the example you've seen. But you'll need to make some changes to fit the model.\n",
    "\n",
    "**Run the following cell to set up automatic feedback.**"
   ]
  },
  {
   "cell_type": "code",
   "execution_count": null,
   "id": "7b69b8fd",
   "metadata": {},
   "outputs": [],
   "source": [
    "# Set up code checking\n",
    "from learntools.core import binder\n",
    "binder.bind(globals())\n",
    "from learntools.deep_learning.exercise_4 import *\n",
    "print(\"Setup Complete\")"
   ]
  },
  {
   "cell_type": "markdown",
   "id": "998d50e4",
   "metadata": {},
   "source": [
    "# 1) Specify the Model\n",
    "\n",
    "Since this is your first time, we'll provide some starter code for you to modify. You will probably copy and modify code the first few times you work on your own projects.\n",
    "\n",
    "There are some important parts left blank in the following code.\n",
    "\n",
    "Fill in the blanks (marked with `____`) and run the cell\n"
   ]
  },
  {
   "cell_type": "code",
   "execution_count": null,
   "id": "c1e2a750",
   "metadata": {},
   "outputs": [],
   "source": [
    "from tensorflow.keras.applications import ResNet50\n",
    "from tensorflow.keras.models import Sequential\n",
    "from tensorflow.keras.layers import Dense, Flatten, GlobalAveragePooling2D\n",
    "\n",
    "num_classes = 2\n",
    "resnet_weights_path = '../input/resnet50/resnet50_weights_tf_dim_ordering_tf_kernels_notop.h5'\n",
    "\n",
    "my_new_model = Sequential()\n",
    "my_new_model.add(ResNet50(include_top=False, pooling='avg', weights=resnet_weights_path))\n",
    "my_new_model.add(Dense(num_classes, activation='softmax'))\n",
    "\n",
    "# Indicate whether the first layer should be trained/changed or not.\n",
    "my_new_model.layers[0].trainable = False\n",
    "\n",
    "step_1.check()"
   ]
  },
  {
   "cell_type": "code",
   "execution_count": null,
   "id": "e54b4004",
   "metadata": {},
   "outputs": [],
   "source": [
    " step_1.hint()\n",
    " step_1.solution()"
   ]
  },
  {
   "cell_type": "markdown",
   "id": "1cfc2c05",
   "metadata": {},
   "source": [
    "# 2) Compile the Model\n",
    "\n",
    "You now compile the model with the following line.  Run this cell."
   ]
  },
  {
   "cell_type": "code",
   "execution_count": null,
   "id": "8440c3e9",
   "metadata": {},
   "outputs": [],
   "source": [
    "my_new_model.compile(optimizer='sgd', \n",
    "                     loss='categorical_crossentropy', \n",
    "                     metrics=['accuracy'])"
   ]
  },
  {
   "cell_type": "markdown",
   "id": "6b816ce9",
   "metadata": {},
   "source": [
    "That ran nearly instantaneously.  Deep learning models have a reputation for being computationally demanding.  Why did that run so quickly?\n",
    "\n",
    "After thinking about this, check your answer by uncommenting the cell below."
   ]
  },
  {
   "cell_type": "code",
   "execution_count": null,
   "id": "b3d270b3",
   "metadata": {},
   "outputs": [],
   "source": [
    " step_2.solution()"
   ]
  },
  {
   "cell_type": "markdown",
   "id": "2ccaabe1",
   "metadata": {},
   "source": [
    "# 3) Review the Compile Step\n",
    "You provided three arguments in the compile step.  \n",
    "- optimizer=  determines how we determine the numerical values that make up the model. So it can affect the resulting model and predictions\n",
    "- loss= determines what goal we optimize when determining numerical values in the model. So it can affect the resulting model and predictions\n",
    "- metrics=determines only what we print out while the model is being built, but it doesn't affect the model itself.\n",
    "\n",
    "Which arguments could affect the accuracy of the predictions that come out of the model?  After you have your answer, run the cell below to see the solution."
   ]
  },
  {
   "cell_type": "code",
   "execution_count": null,
   "id": "e5ca49ae",
   "metadata": {},
   "outputs": [],
   "source": [
    " step_3.solution()"
   ]
  },
  {
   "cell_type": "markdown",
   "id": "e4bed4bc",
   "metadata": {},
   "source": [
    " # 4) Fit Model\n",
    "\n",
    "**Your training data is in the directory `../input/dogs-gone-sideways/images/train`. The validation data is in `../input/dogs-gone-sideways/images/val`**. Use that information when setting up `train_generator` and `validation_generator`.\n",
    "\n",
    "You have 220 images of training data and 217 of validation data.  For the training generator, we set a batch size of 10. Figure out the appropriate value of `steps_per_epoch` in your `fit_generator` call.\n",
    "\n",
    "Fill in all the blanks (again marked as `____`).  Then run the cell of code.  Watch as your model trains the weights and the accuracy improves."
   ]
  }
 ],
 "metadata": {},
 "nbformat": 4,
 "nbformat_minor": 5
}
