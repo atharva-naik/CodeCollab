{
 "cells": [
  {
   "cell_type": "markdown",
   "id": "554c08e4",
   "metadata": {},
   "source": [
    "<img src=\"http://imgur.com/1ZcRyrc.png\" style=\"float: left; margin: 15px; height: 80px\">\n",
    "\n",
    "# Project 3\n",
    "\n",
    "### Regression and Classification with the Ames Housing Data\n",
    "\n",
    "---\n",
    "\n",
    "You have just joined a new \"full stack\" real estate company in Ames, Iowa. The strategy of the firm is two-fold:\n",
    "- Own the entire process from the purchase of the land all the way to sale of the house, and anything in between.\n",
    "- Use statistical analysis to optimize investment and maximize return.\n",
    "\n",
    "The company is still small, and though investment is substantial the short-term goals of the company are more oriented towards purchasing existing houses and flipping them as opposed to constructing entirely new houses. That being said, the company has access to a large construction workforce operating at rock-bottom prices.\n",
    "\n",
    "This project uses the [Ames housing data recently made available on kaggle](https://www.kaggle.com/c/house-prices-advanced-regression-techniques)."
   ]
  },
  {
   "cell_type": "markdown",
   "id": "8b9ef6b6",
   "metadata": {},
   "source": [
    "# Ames, Iowa:\n",
    "- Pop: ~60k\n",
    "- Its a Collegetown: ISU\n",
    "- Size: ~25sqmiles\n",
    "\n",
    "# Ideas:\n",
    "- Open concept = 1st floor sqft / first floor # rooms\n",
    "- School district per neighborhood\n",
    "- Ratio of Bedrooms to bathrooms\n",
    "- Yard size\n",
    "- Amount of rooms * Quality\n",
    "\n",
    "<img src='http://cdn.ames.k12.ia.us/wp-content/uploads/2015/02/boundary20142-gray.jpg' style='width:300px'>\n"
   ]
  },
  {
   "cell_type": "code",
   "execution_count": null,
   "id": "aa93a3a1",
   "metadata": {},
   "outputs": [],
   "source": [
    "import numpy as np\n",
    "import scipy.stats as stats\n",
    "import seaborn as sns\n",
    "import matplotlib.pyplot as plt\n",
    "import pandas as pd\n",
    "\n",
    "sns.set_style('whitegrid')\n",
    "\n",
    "%config InlineBackend.figure_format = 'retina'\n",
    "%matplotlib inline"
   ]
  },
  {
   "cell_type": "code",
   "execution_count": null,
   "id": "f0c8ec46",
   "metadata": {},
   "outputs": [],
   "source": [
    "# Load the data\n",
    "h = pd.read_csv('./housing.csv')"
   ]
  },
  {
   "cell_type": "code",
   "execution_count": null,
   "id": "f549eec2",
   "metadata": {},
   "outputs": [],
   "source": [
    "orig = pd.read_csv('./housing.csv')"
   ]
  },
  {
   "cell_type": "code",
   "execution_count": null,
   "id": "50b1ab44",
   "metadata": {},
   "outputs": [],
   "source": [
    "h.head(1)"
   ]
  },
  {
   "cell_type": "markdown",
   "id": "bbbeb7d7",
   "metadata": {},
   "source": [
    "# Quick exploration of the data"
   ]
  },
  {
   "cell_type": "markdown",
   "id": "80899245",
   "metadata": {},
   "source": [
    "# Neighborhood: Physical locations within Ames city limits\n",
    "\n",
    "       Blmngtn\tBloomington Heights\n",
    "       Blueste\tBluestem\n",
    "       BrDale\tBriardale\n",
    "       BrkSide\tBrookside\n",
    "       ClearCr\tClear Creek\n",
    "       CollgCr\tCollege Creek\n",
    "       Crawfor\tCrawford\n",
    "       Edwards\tEdwards\n",
    "       Gilbert\tGilbert\n",
    "       IDOTRR\tIowa DOT and Rail Road\n",
    "       MeadowV\tMeadow Village\n",
    "       Mitchel\tMitchell\n",
    "       Names\tNorth Ames\n",
    "       NoRidge\tNorthridge\n",
    "       NPkVill\tNorthpark Villa\n",
    "       NridgHt\tNorthridge Heights\n",
    "       NWAmes\tNorthwest Ames\n",
    "       OldTown\tOld Town\n",
    "       SWISU\tSouth & West of Iowa State University\n",
    "       Sawyer\tSawyer\n",
    "       SawyerW\tSawyer West\n",
    "       Somerst\tSomerset\n",
    "       StoneBr\tStone Brook\n",
    "       Timber\tTimberland\n",
    "       Veenker\tVeenker"
   ]
  },
  {
   "cell_type": "markdown",
   "id": "0ff57dd3",
   "metadata": {},
   "source": [
    "# Since real estate is usually all about location, I bet the prices of the neighborhoods will differ.\n",
    "Very interesting to see the top three neighborhoods have average salep rices ~120k above the Ames average sale price. I bet some of these will be very good predictors."
   ]
  },
  {
   "cell_type": "code",
   "execution_count": null,
   "id": "55c2f8ef",
   "metadata": {},
   "outputs": [],
   "source": [
    "from sklearn import linear_model"
   ]
  },
  {
   "cell_type": "code",
   "execution_count": null,
   "id": "63823e57",
   "metadata": {},
   "outputs": [],
   "source": [
    "a = [.0005,.0008,.001,.002,.0025,.003,.0035,.004,.005,.01,.05,.1]\n",
    "score = []\n",
    "for i in a:\n",
    "    reg = linear_model.Lasso(alpha = i)\n",
    "    reg.fit(X_train,y_train)\n",
    "    score.append(reg.score(X_test,y_test))\n",
    "zip(a,score)"
   ]
  },
  {
   "cell_type": "markdown",
   "id": "13386ded",
   "metadata": {},
   "source": [
    "# This looks promising but again, we should take a look at the cross-val scores to get a more realistic score. Lets make a function to put a model into the Kfolds and return RMSE"
   ]
  },
  {
   "cell_type": "code",
   "execution_count": null,
   "id": "05972157",
   "metadata": {},
   "outputs": [],
   "source": [
    "def cv_rmse(estimator):\n",
    "    score = cross_val_score(estimator,X,y,scoring='neg_mean_squared_error',cv=kfold)\n",
    "    positive_score = -score\n",
    "    return np.sqrt(positive_score) #np.sqrt(positive_score)"
   ]
  },
  {
   "cell_type": "code",
   "execution_count": null,
   "id": "ac3880db",
   "metadata": {},
   "outputs": [],
   "source": [
    "cv_rmse(lr).mean()"
   ]
  },
  {
   "cell_type": "markdown",
   "id": "7ded318c",
   "metadata": {},
   "source": [
    "# Lasso cross validation with cv=10 and alpha=[that list]\n",
    "#### Leads to sparsity and simplification of a model, which is very good in this case because we want to be able to explain the outcome of salesprice in terms of the coeficients"
   ]
  },
  {
   "cell_type": "code",
   "execution_count": null,
   "id": "a4c1df4b",
   "metadata": {},
   "outputs": [],
   "source": [
    "a = [.0005,.0008,.001,.002,.003,.004,.005,.01,.05]\n",
    "Lasso_rmse = []\n",
    "Lasso_std = []\n",
    "for i in a:\n",
    "    Lasso_rmse.append(cv_rmse(linear_model.Lasso(alpha=i)).mean())\n",
    "    Lasso_std.append(cv_rmse(linear_model.Lasso(alpha=i)).std())\n",
    "    "
   ]
  },
  {
   "cell_type": "code",
   "execution_count": null,
   "id": "8e61d88f",
   "metadata": {},
   "outputs": [],
   "source": [
    "from pprint import pprint\n",
    "ls = zip(a,Lasso_rmse,Lasso_std)\n",
    "ls = pd.DataFrame(ls,columns=['Alpha','RMSE','Std'])"
   ]
  },
  {
   "cell_type": "code",
   "execution_count": null,
   "id": "16d3918e",
   "metadata": {},
   "outputs": [],
   "source": [
    "ls.plot('Alpha','RMSE',title='Lasso k=10 Cross-Validated RMSE')"
   ]
  },
  {
   "cell_type": "code",
   "execution_count": null,
   "id": "20081a61",
   "metadata": {},
   "outputs": [],
   "source": [
    "# import pylab\n",
    "# from scipy.stats import norm\n",
    "\n",
    "# for i in range(len(ls)):\n",
    "#     xp = np.linspace(.05,.3,100)\n",
    "#     yp = norm.pdf(xp, loc=ls[i][1], scale=ls[i][2])    # for example\n",
    "#     pylab.plot(xp,yp,label=ls[i][0])\n",
    "#     pylab.legend()\n",
    "#     #ax.legend(loc='upper center', shadow=True)\n",
    "# pylab.show()"
   ]
  },
  {
   "cell_type": "markdown",
   "id": "66ca72f4",
   "metadata": {},
   "source": [
    "# Train Lasso model on best hyperparameter alpha"
   ]
  },
  {
   "cell_type": "code",
   "execution_count": null,
   "id": "62dd3150",
   "metadata": {},
   "outputs": [],
   "source": [
    "lasso = linear_model.Lasso(alpha=.004)\n",
    "lasso.fit(X,y)\n",
    "Lasso_coef = pd.DataFrame(lasso.coef_,index=Xn.columns)"
   ]
  },
  {
   "cell_type": "code",
   "execution_count": null,
   "id": "73aacfec",
   "metadata": {},
   "outputs": [],
   "source": [
    "lasso.score(X_hold,y_hold)"
   ]
  },
  {
   "cell_type": "code",
   "execution_count": null,
   "id": "47799bea",
   "metadata": {},
   "outputs": [],
   "source": [
    "print(X_hold.shape)\n",
    "print(y_hold.shape)\n",
    "print(y_pred.shape)"
   ]
  },
  {
   "cell_type": "code",
   "execution_count": null,
   "id": "185c6a1c",
   "metadata": {},
   "outputs": [],
   "source": [
    "y_pred = lasso.predict(X_hold)"
   ]
  },
  {
   "cell_type": "code",
   "execution_count": null,
   "id": "01ca432e",
   "metadata": {},
   "outputs": [],
   "source": [
    "#X_hold.reset_index()\n",
    "lasso_pred = pd.concat([X_hold.reset_index(),y_hold.reset_ndex(),pd.DataFrame(y_pred,columns=['Pred_SalePrice'])],axis=1)"
   ]
  },
  {
   "cell_type": "code",
   "execution_count": null,
   "id": "45181e09",
   "metadata": {},
   "outputs": [],
   "source": [
    "lasso_pred.plot.scatter('SalePrice','Pred_SalePrice')"
   ]
  },
  {
   "cell_type": "code",
   "execution_count": null,
   "id": "d56d9c70",
   "metadata": {},
   "outputs": [],
   "source": [
    "lasso_pred.plot.scatter('GrLivArea','Pred_SalePrice')\n",
    "lasso_pred.plot.scatter('GrLivArea','SalePrice')"
   ]
  },
  {
   "cell_type": "code",
   "execution_count": null,
   "id": "9f737e0b",
   "metadata": {},
   "outputs": [],
   "source": [
    "lasso_pred.plot.scatter('QualOnSqft','Pred_SalePrice')\n",
    "lasso_pred.plot.scatter('QualOnSqft','SalePrice')"
   ]
  },
  {
   "cell_type": "markdown",
   "id": "569d2990",
   "metadata": {},
   "source": [
    "# Lasso strength of top 20 coef (out of 53 Lasso selected)"
   ]
  },
  {
   "cell_type": "code",
   "execution_count": null,
   "id": "b80e95ae",
   "metadata": {},
   "outputs": [],
   "source": [
    "zip(X.columns,lr.coef_)[:5]"
   ]
  },
  {
   "cell_type": "code",
   "execution_count": null,
   "id": "53a93520",
   "metadata": {},
   "outputs": [],
   "source": [
    "np.e**lr.intercept_"
   ]
  },
  {
   "cell_type": "markdown",
   "id": "d755ac3a",
   "metadata": {},
   "source": [
    "# Lets get a more confident value, and run the lr through cross validation\n",
    "#### Okay, our R2 value got hammered. But it typically falls when comparing test/train to cross-val"
   ]
  },
  {
   "cell_type": "code",
   "execution_count": null,
   "id": "8f20a844",
   "metadata": {},
   "outputs": [],
   "source": [
    "from sklearn.model_selection import cross_val_score\n",
    "from sklearn.model_selection import KFold\n",
    "kfold = KFold(n_splits=10, random_state=4)\n",
    "score = cross_val_score(lr,X,y,scoring='neg_mean_squared_error',cv=kfold)\n",
    "positive_score = -score\n",
    "np.sqrt(positive_score).mean()"
   ]
  },
  {
   "cell_type": "code",
   "execution_count": null,
   "id": "ed2070bd",
   "metadata": {},
   "outputs": [],
   "source": [
    "from sklearn.model_selection import cross_val_score\n",
    "from sklearn.model_selection import KFold\n",
    "kfold = KFold(n_splits=10, random_state=4)\n",
    "score = cross_val_score(lr,X,y,scoring='r2',cv=kfold)\n",
    "np.mean(score)"
   ]
  },
  {
   "cell_type": "markdown",
   "id": "e8191ef6",
   "metadata": {},
   "source": [
    "# Look at all those coeficients! This needs some regularization.\n",
    "#### AKA: this needs to be simplified. Regularization injects bias into the model and limits the values of the coeficients based on an alpha value\n"
   ]
  },
  {
   "cell_type": "markdown",
   "id": "68c5f982",
   "metadata": {},
   "source": [
    "# Take a look at the corr of new features I added.\n",
    "- They are built off one another there is a high correlation between each other. \n",
    "- They may be less useful than it looks, but for now they show strong correlations to the saleprice"
   ]
  },
  {
   "cell_type": "code",
   "execution_count": null,
   "id": "9de7aa62",
   "metadata": {},
   "outputs": [],
   "source": [
    "#saleprice correlation matrix\n",
    "k = 15 #number of variables for heatmap\n",
    "corr = h.corr()\n",
    "cols = corr.nlargest(k, 'SalePrice')['SalePrice'].index\n",
    "cm = np.corrcoef(h[cols].values.T)\n",
    "sns.set(font_scale=1.25)\n",
    "hm = sns.heatmap(cm, cbar=True, annot=True, square=True, \n",
    "                 fmt='.2f', annot_kws={'size': 6}, yticklabels=cols.values, xticklabels=cols.values)\n",
    "plt.show()"
   ]
  },
  {
   "cell_type": "markdown",
   "id": "94fbbc95",
   "metadata": {},
   "source": [
    "# Make sure added cols have non Nans"
   ]
  },
  {
   "cell_type": "code",
   "execution_count": null,
   "id": "4e71652b",
   "metadata": {},
   "outputs": [],
   "source": [
    "#h.fillna(0,inplace=True)\n",
    "h.isnull().sum().sort_values(ascending=False).head()"
   ]
  },
  {
   "cell_type": "markdown",
   "id": "3f6ef13e",
   "metadata": {},
   "source": [
    "# Start Evaluation of data\n",
    "- h_log_dummy is the fully log transformed and categorical dummy dataframe\n",
    "- h_no_transforms is the original data cleaned\n",
    "- h_no_dummy is log transformed, but doesn't have categorical dummy variables\n",
    "- h_dummy is not transformed but has dummy variables"
   ]
  },
  {
   "cell_type": "code",
   "execution_count": null,
   "id": "27fa0919",
   "metadata": {},
   "outputs": [],
   "source": [
    "#h = h_dummy.copy()\n",
    "h = h_log_dummy.copy()"
   ]
  },
  {
   "cell_type": "markdown",
   "id": "283ad79b",
   "metadata": {},
   "source": [
    "# Create a fixed and non-fixed feature dataframes to evaluate separately"
   ]
  },
  {
   "cell_type": "code",
   "execution_count": null,
   "id": "e2e89108",
   "metadata": {},
   "outputs": [],
   "source": [
    "h_fixed = h_log_dummy.copy()"
   ]
  },
  {
   "cell_type": "code",
   "execution_count": null,
   "id": "56c76893",
   "metadata": {},
   "outputs": [],
   "source": [
    "#fixed features only\n",
    "fixed_col = []\n",
    "for col in h_fixed.columns:\n",
    "    for fix in feature_dict['fixed']:\n",
    "        if fix in col:\n",
    "            #del h_fixed[col]\n",
    "            fixed_col.append(col)\n",
    "h_fixed = h_fixed[fixed_col]"
   ]
  },
  {
   "cell_type": "code",
   "execution_count": null,
   "id": "e2cf00de",
   "metadata": {},
   "outputs": [],
   "source": [
    "#non-fixed features only\n",
    "nonfixed_col = []\n",
    "for col in h_nonfixed.columns:\n",
    "    for nonfix in feature_dict['non-fixed']:\n",
    "        if nonfix in col:\n",
    "            #del h_fixed[col]\n",
    "            nonfixed_col.append(col)\n",
    "h_nonfixed = h_nonfixed[nonfixed_col]"
   ]
  },
  {
   "cell_type": "code",
   "execution_count": null,
   "id": "551f2604",
   "metadata": {},
   "outputs": [],
   "source": [
    "h = h_nonfixed.copy()\n",
    "#h = h_fixed.copy()"
   ]
  },
  {
   "cell_type": "markdown",
   "id": "b1885134",
   "metadata": {},
   "source": [
    "# Remove the target variable"
   ]
  },
  {
   "cell_type": "code",
   "execution_count": null,
   "id": "56b30ecb",
   "metadata": {},
   "outputs": [],
   "source": [
    "y = h['SalePrice']\n",
    "X = h.drop(\"SalePrice\", axis=1)\n",
    "Xn = h.drop(\"SalePrice\", axis=1)"
   ]
  },
  {
   "cell_type": "code",
   "execution_count": null,
   "id": "998b884e",
   "metadata": {},
   "outputs": [],
   "source": [
    "#X = h\n",
    "print(X.shape)\n",
    "print(y.shape)"
   ]
  },
  {
   "cell_type": "code",
   "execution_count": null,
   "id": "870b96fc",
   "metadata": {},
   "outputs": [],
   "source": [
    "#y"
   ]
  },
  {
   "cell_type": "code",
   "execution_count": null,
   "id": "a0d5344a",
   "metadata": {},
   "outputs": [],
   "source": [
    "#h = pd.concat([h,y],axis=1)\n",
    "#h.describe().T.head()"
   ]
  },
  {
   "cell_type": "markdown",
   "id": "8eb84f23",
   "metadata": {},
   "source": [
    "# Scale it"
   ]
  },
  {
   "cell_type": "code",
   "execution_count": null,
   "id": "22be2bac",
   "metadata": {},
   "outputs": [],
   "source": [
    "from sklearn.preprocessing import StandardScaler\n",
    "ss = StandardScaler()\n",
    "X = ss.fit_transform(X)\n",
    "X = pd.DataFrame(X,columns=Xn.columns)"
   ]
  },
  {
   "cell_type": "markdown",
   "id": "3a654d18",
   "metadata": {},
   "source": [
    "# Create Holdouts"
   ]
  },
  {
   "cell_type": "markdown",
   "id": "1d52e9de",
   "metadata": {},
   "source": [
    "# BldgType: Type of dwelling\n",
    "\t\t\n",
    "       1Fam\tSingle-family Detached\t\n",
    "       2FmCon\tTwo-family Conversion; originally built as one-family dwelling\n",
    "       Duplx\tDuplex\n",
    "       TwnhsE\tTownhouse End Unit\n",
    "       TwnhsI\tTownhouse Inside Unit"
   ]
  },
  {
   "cell_type": "markdown",
   "id": "6bd01676",
   "metadata": {},
   "source": [
    "# Some types of houses are more desireable than others as well. Detached single familys and the townhouses on the end of the block have the highest mean price"
   ]
  },
  {
   "cell_type": "code",
   "execution_count": null,
   "id": "7deb3bf3",
   "metadata": {},
   "outputs": [],
   "source": [
    "h.groupby('BldgType')['SalePrice'].mean()"
   ]
  },
  {
   "cell_type": "markdown",
   "id": "333e7e8a",
   "metadata": {},
   "source": [
    "# To get a feel for what type of houses are in ames I did a quick gmaps streetview look around. \n",
    "\n",
    "# There are nice victorians and alot of ranches\n",
    "<img src='https://upload.wikimedia.org/wikipedia/commons/thumb/3/3a/Carey_house_denison_iowa.jpg/800px-Carey_house_denison_iowa.jpg',style='width:300px'><img src='http://images.housesforsalelists.com/Images/Houses/ia/ames/3318-southdale-dr-ames-iowa-50010.jpg',style='width:300px'>\n",
    "# And there are some very nice townhouses\n",
    "<img src='https://thumbs.frmonline.com/imgs/fr/propertyFiles/865/591/1000/resized/08_139698905401514141024076890008020.jpg',style='width:300px'>"
   ]
  },
  {
   "cell_type": "markdown",
   "id": "b98f005b",
   "metadata": {},
   "source": [
    "# Take a look at the mean price by type and neighborhood! \n",
    "- Interesting to see in the nicest neighborhoods single familys are most valueable, while the townhouses trend better in average neighborhoods especially crawford and bloomington.\n",
    "- In long term realestate plays, it might be a good idea to pick up the single family houses in a neighborhood on the cusp of becoming a 'nice' neighborhood because they have a higher topout."
   ]
  },
  {
   "cell_type": "code",
   "execution_count": null,
   "id": "3fe589d9",
   "metadata": {},
   "outputs": [],
   "source": [
    "h.groupby(['Neighborhood','BldgType'])['SalePrice'].mean().unstack().sort_values(by='1Fam',ascending=False)"
   ]
  },
  {
   "cell_type": "markdown",
   "id": "f67dab83",
   "metadata": {},
   "source": [
    "# Condition2: Proximity to various conditions (if more than one is present)\n",
    "\t\t\n",
    "       Artery\tAdjacent to arterial street\n",
    "       Feedr\tAdjacent to feeder street\t\n",
    "       Norm\tNormal\t\n",
    "       RRNn\tWithin 200' of North-South Railroad\n",
    "       RRAn\tAdjacent to North-South Railroad\n",
    "       PosN\tNear positive off-site feature--park, greenbelt, etc.\n",
    "       PosA\tAdjacent to postive off-site feature\n",
    "       RRNe\tWithin 200' of East-West Railroad\n",
    "       RRAe\tAdjacent to East-West Railroad"
   ]
  },
  {
   "cell_type": "markdown",
   "id": "f5ad1b29",
   "metadata": {},
   "source": [
    "# Define fixed/non-fixed features"
   ]
  },
  {
   "cell_type": "markdown",
   "id": "508dcac0",
   "metadata": {},
   "source": [
    "### 'Fixed': \n",
    "'MSSubClassCat'\n",
    ",'MSZoning'\n",
    ",'LotFrontage'\n",
    ",'LotArea'\n",
    ",'Street'\n",
    ",'Alley'\n",
    ",'LotShape'\n",
    ",'LandContour'\n",
    ",'Utilities'\n",
    ",'LotConfig'\n",
    ",'LandSlope'\n",
    ",'Neighborhood'\n",
    ",'Condition1'\n",
    ",'Condition2'\n",
    ",'BldgType'\n",
    ",'YearBuilt'\n",
    ",'YearRemodAdd'\n",
    ",'RoofStyle'\n",
    ",'Foundation'\n",
    ",'BsmtQual'\n",
    ",'BsmtExposure'\n",
    ",'GarageYrBlt'\n",
    ",'MoSold'\n",
    ",'YrSold'\n",
    ",'SaleType'\n",
    ",'SaleCondition'\n",
    ",'SalePrice'\n",
    "\n",
    "### 'Non-Fixed': \n",
    "'HouseStyle'\n",
    ",'OverallQual'\n",
    ",'OverallCond'\n",
    ",'RoofMatl'\n",
    ",'Exterior1st'\n",
    ",'Exterior2nd'\n",
    ",'MasVnrType'\n",
    ",'MasVnrArea'\n",
    ",'ExterQual'\n",
    ",'ExterCond'\n",
    ",'BsmtCond'\n",
    ",'BsmtFinType1'\n",
    ",'BsmtFinSF1'\n",
    ",'BsmtFinType2'\n",
    ",'BsmtFinSF2'\n",
    ",'BsmtUnfSF'\n",
    ",'TotalBsmtSF'\n",
    ",'Heating'\n",
    ",'HeatingQC'\n",
    ",'CentralAir'\n",
    ",'Electrical'\n",
    ",'1stFlrSF'\n",
    ",'2ndFlrSF'\n",
    ",'LowQualFinSF'\n",
    ",'GrLivArea'\n",
    ",'BsmtFullBath'\n",
    ",'BsmtHalfBath'\n",
    ",'FullBath'\n",
    ",'HalfBath'\n",
    ",'BedroomAbvGr'\n",
    ",'KitchenAbvGr'\n",
    ",'KitchenQual'\n",
    ",'TotRmsAbvGrd'\n",
    ",'Functional'\n",
    ",'Fireplaces'\n",
    ",'FireplaceQu'\n",
    ",'GarageType'\n",
    ",'GarageFinish'\n",
    ",'GarageCars'\n",
    ",'GarageArea'\n",
    ",'GarageQual'\n",
    ",'GarageCond'\n",
    ",'PavedDrive'\n",
    ",'WoodDeckSF'\n",
    ",'OpenPorchSF'\n",
    ",'EnclosedPorch'\n",
    ",'3SsnPorch'\n",
    ",'ScreenPorch'\n",
    ",'PoolArea'\n",
    ",'PoolQC'\n",
    ",'Fence'\n",
    ",'MiscFeature'\n",
    ",'MiscVal'"
   ]
  },
  {
   "cell_type": "code",
   "execution_count": null,
   "id": "c8193dc9",
   "metadata": {},
   "outputs": [],
   "source": [
    "#create dict from string above, manually selected\n",
    "feature_dict = {\n",
    "    'fixed': ['MSSubClassCat'\n",
    ",'MSZoning'\n",
    ",'LotFrontage'\n",
    ",'LotArea'\n",
    ",'Street'\n",
    ",'Alley'\n",
    ",'LotShape'\n",
    ",'LandContour'\n",
    ",'Utilities'\n",
    ",'LotConfig'\n",
    ",'LandSlope'\n",
    ",'Neighborhood'\n",
    ",'Condition1'\n",
    ",'Condition2'\n",
    ",'BldgType'\n",
    ",'YearBuilt'\n",
    ",'YearRemodAdd'\n",
    ",'RoofStyle'\n",
    ",'Foundation'\n",
    ",'BsmtQual'\n",
    ",'BsmtExposure'\n",
    ",'GarageYrBlt'\n",
    ",'MoSold'\n",
    ",'YrSold'\n",
    ",'SaleType'\n",
    ",'SaleCondition'\n",
    ",'SalePrice'],\n",
    "    'non-fixed': ['HouseStyle'\n",
    ",'OverallQual'\n",
    ",'OverallCond'\n",
    ",'RoofMatl'\n",
    ",'Exterior1st'\n",
    ",'Exterior2nd'\n",
    ",'MasVnrType'\n",
    ",'MasVnrArea'\n",
    ",'ExterQual'\n",
    ",'ExterCond'\n",
    ",'BsmtCond'\n",
    ",'BsmtFinType1'\n",
    ",'BsmtFinSF1'\n",
    ",'BsmtFinType2'\n",
    ",'BsmtFinSF2'\n",
    ",'BsmtUnfSF'\n",
    ",'TotalBsmtSF'\n",
    ",'Heating'\n",
    ",'HeatingQC'\n",
    ",'CentralAir'\n",
    ",'Electrical'\n",
    ",'1stFlrSF'\n",
    ",'2ndFlrSF'\n",
    ",'LowQualFinSF'\n",
    ",'GrLivArea'\n",
    ",'BsmtFullBath'\n",
    ",'BsmtHalfBath'\n",
    ",'FullBath'\n",
    ",'HalfBath'\n",
    ",'BedroomAbvGr'\n",
    ",'KitchenAbvGr'\n",
    ",'KitchenQual'\n",
    ",'TotRmsAbvGrd'\n",
    ",'Functional'\n",
    ",'Fireplaces'\n",
    ",'FireplaceQu'\n",
    ",'GarageType'\n",
    ",'GarageFinish'\n",
    ",'GarageCars'\n",
    ",'GarageArea'\n",
    ",'GarageQual'\n",
    ",'GarageCond'\n",
    ",'PavedDrive'\n",
    ",'WoodDeckSF'\n",
    ",'OpenPorchSF'\n",
    ",'EnclosedPorch'\n",
    ",'3SsnPorch'\n",
    ",'ScreenPorch'\n",
    ",'PoolArea'\n",
    ",'PoolQC'\n",
    ",'Fence'\n",
    ",'MiscFeature'\n",
    ",'MiscVal'\n",
    ",'SalePrice']\n",
    "}\n",
    "\n",
    "#pprint(feature_dict)"
   ]
  },
  {
   "cell_type": "code",
   "execution_count": null,
   "id": "762fdaf5",
   "metadata": {},
   "outputs": [],
   "source": [
    "#confirm all features are in dict\n",
    "j = 0\n",
    "for i, feature in enumerate(feature_dict.keys()):\n",
    "    #pprint(feature_dict[feature])\n",
    "    j += len(feature_dict[feature])\n",
    "#print(j)"
   ]
  },
  {
   "cell_type": "markdown",
   "id": "04e28dfc",
   "metadata": {},
   "source": [
    "# Elementary Schools and ratings:\n",
    "- Expect the northwest part of town to be the highest priced based on scool districts\n",
    "\n",
    "\n",
    "http://www.greatschools.org/iowa/ames/schools/\n",
    "http://www.ames.k12.ia.us/boundaries/"
   ]
  },
  {
   "cell_type": "code",
   "execution_count": null,
   "id": "fd3561f4",
   "metadata": {},
   "outputs": [],
   "source": [
    "elem_rating = {\n",
    "    'Edwards': 8,\n",
    "    'Sawyer': 9,\n",
    "    'Fellows': 9,\n",
    "    'Meeker': 7,\n",
    "    'Mitchell': 7\n",
    "}"
   ]
  },
  {
   "cell_type": "markdown",
   "id": "3476e794",
   "metadata": {},
   "source": [
    "# Remove commercial properties from the dataset"
   ]
  },
  {
   "cell_type": "code",
   "execution_count": null,
   "id": "e4671c1a",
   "metadata": {},
   "outputs": [],
   "source": [
    "h.groupby(['MSZoning']).size()"
   ]
  },
  {
   "cell_type": "code",
   "execution_count": null,
   "id": "626c186d",
   "metadata": {},
   "outputs": [],
   "source": [
    "h = h[h['MSZoning'] != 'C (all)']"
   ]
  },
  {
   "cell_type": "markdown",
   "id": "0ccd9705",
   "metadata": {},
   "source": [
    "# Set Id as index"
   ]
  },
  {
   "cell_type": "code",
   "execution_count": null,
   "id": "5a1b8186",
   "metadata": {},
   "outputs": [],
   "source": [
    "h.set_index('Id',inplace=True)"
   ]
  },
  {
   "cell_type": "markdown",
   "id": "308f6670",
   "metadata": {},
   "source": [
    "# Take a look at hist and top pair plots"
   ]
  },
  {
   "cell_type": "code",
   "execution_count": null,
   "id": "1d79175b",
   "metadata": {},
   "outputs": [],
   "source": [
    "#h.hist(bins=50,figsize=(20,20))"
   ]
  },
  {
   "cell_type": "markdown",
   "id": "0a232743",
   "metadata": {},
   "source": [
    "# Remove cols with less than 90% data in cols"
   ]
  },
  {
   "cell_type": "code",
   "execution_count": null,
   "id": "7b731e08",
   "metadata": {},
   "outputs": [],
   "source": [
    "#keep all columns that have more than 10% null values\n",
    "print((1 - (h.isnull().sum().sort_values(ascending=False) / len(h)) < .9).head(10))\n",
    "h.drop(['PoolQC','MiscFeature','Alley','Fence','FireplaceQu','LotFrontage'],axis=1,inplace=True)"
   ]
  },
  {
   "cell_type": "markdown",
   "id": "74cf37ad",
   "metadata": {},
   "source": [
    "# Convert MSSubClass to cat"
   ]
  },
  {
   "cell_type": "code",
   "execution_count": null,
   "id": "919f84b4",
   "metadata": {},
   "outputs": [],
   "source": [
    "def MSconvert(num):\n",
    "    MS_dict = {\n",
    "        20: '1STORY1946',\n",
    "        30: '1STORY1945',\n",
    "        40: '1STORYATTIC',\n",
    "        45: '1.5STORYUNFIN',\n",
    "        50: '1.5STORYFIN',\n",
    "        60: '2STORY1946N',\n",
    "        70: '2STORY1945O',\n",
    "        75: '2.5STORY',\n",
    "        80: 'SPLITLEVEL',\n",
    "        85: 'SPLITFOYER',\n",
    "        90: 'DUPLEX',\n",
    "       120: '1STORYPUD',\n",
    "       150: '1.5STORYPUD',\n",
    "       160: '2STORYPUD',\n",
    "       180: 'MULTILEVELPUD',\n",
    "       190: '2FAMILY'}\n",
    "    return MS_dict[num]\n",
    "\n",
    "MSconvert(orig['MSSubClass'][0])"
   ]
  },
  {
   "cell_type": "code",
   "execution_count": null,
   "id": "a793f3cf",
   "metadata": {},
   "outputs": [],
   "source": [
    "h['MSSubClassCat'] = h['MSSubClass'].apply(MSconvert)"
   ]
  },
  {
   "cell_type": "code",
   "execution_count": null,
   "id": "46cee1ea",
   "metadata": {},
   "outputs": [],
   "source": [
    "h.drop('MSSubClass',axis=1,inplace=True)"
   ]
  },
  {
   "cell_type": "markdown",
   "id": "79ba1662",
   "metadata": {},
   "source": [
    "# Take copy"
   ]
  },
  {
   "cell_type": "code",
   "execution_count": null,
   "id": "1341fea9",
   "metadata": {},
   "outputs": [],
   "source": [
    "hcopy = h.copy()"
   ]
  },
  {
   "cell_type": "markdown",
   "id": "002efb4c",
   "metadata": {},
   "source": [
    "# Function to fillna with median (numerics only)"
   ]
  },
  {
   "cell_type": "code",
   "execution_count": null,
   "id": "79b5d3eb",
   "metadata": {},
   "outputs": [],
   "source": [
    "#np.median(h['GarageYrBlt'])\n",
    "#h.info()"
   ]
  },
  {
   "cell_type": "code",
   "execution_count": null,
   "id": "e1654990",
   "metadata": {},
   "outputs": [],
   "source": [
    "for col in h.columns:\n",
    "    if h[col].dtype != 'object':\n",
    "        h[col].fillna(value = h[col].median(), inplace=True)"
   ]
  },
  {
   "cell_type": "code",
   "execution_count": null,
   "id": "81a26e02",
   "metadata": {},
   "outputs": [],
   "source": [
    "for col in h.columns:\n",
    "    if h[col].dtype == 'object':\n",
    "        h[col].fillna(value = 'None', inplace=True)"
   ]
  },
  {
   "cell_type": "markdown",
   "id": "a51726dc",
   "metadata": {},
   "source": [
    "# Take a look at NaNs"
   ]
  },
  {
   "cell_type": "code",
   "execution_count": null,
   "id": "3e4a67fc",
   "metadata": {},
   "outputs": [],
   "source": [
    "(h.groupby('Neighborhood')['SalePrice'].mean() / h.groupby('Neighborhood')['GrLivArea'].mean()).sort_values(ascending=False)\n"
   ]
  },
  {
   "cell_type": "code",
   "execution_count": null,
   "id": "0c5f7a2a",
   "metadata": {},
   "outputs": [],
   "source": [
    "#h.groupby('Neighborhood').size().sort_values(ascending=False)\n",
    "#pd.options.display.float_format = '{:,.2f}'.format\n",
    "print(str('Mean saleprice for Ames dataset: ' + str(h['SalePrice'].mean())))\n",
    "h.groupby('Neighborhood')['SalePrice'].describe().unstack().sort_values(by='mean',ascending=False)['mean']"
   ]
  },
  {
   "cell_type": "markdown",
   "id": "ba04ba8f",
   "metadata": {},
   "source": [
    "# Condition1: Proximity to various conditions\n",
    "\t\n",
    "       Artery\tAdjacent to arterial street\n",
    "       Feedr\tAdjacent to feeder street\t\n",
    "       Norm\tNormal\t\n",
    "       RRNn\tWithin 200' of North-South Railroad\n",
    "       RRAn\tAdjacent to North-South Railroad\n",
    "       PosN\tNear positive off-site feature--park, greenbelt, etc.\n",
    "       PosA\tAdjacent to postive off-site feature\n",
    "       RRNe\tWithin 200' of East-West Railroad\n",
    "       RRAe\tAdjacent to East-West Railroad"
   ]
  },
  {
   "cell_type": "markdown",
   "id": "7598c9fb",
   "metadata": {},
   "source": [
    "# The condition feature is also an interesting one, PosA and PosN we expect will have a positive impact on price. Wouldn't expect to see RRNe to be positive\n",
    "Taking a closer look it turns out being closer to the East-West railroad also benefits the price! Turns out you can get to chicago in ~4.5hrs via amtrak."
   ]
  },
  {
   "cell_type": "code",
   "execution_count": null,
   "id": "e2bfb173",
   "metadata": {},
   "outputs": [],
   "source": [
    "h.isnull().sum().sort_values(ascending=False).head()"
   ]
  },
  {
   "cell_type": "markdown",
   "id": "71a101d4",
   "metadata": {},
   "source": [
    "# Correlation matrix"
   ]
  },
  {
   "cell_type": "code",
   "execution_count": null,
   "id": "e532fe1b",
   "metadata": {},
   "outputs": [],
   "source": [
    "#saleprice correlation matrix\n",
    "k = 15 #number of variables for heatmap\n",
    "corr = h.corr()\n",
    "cols = corr.nlargest(k, 'SalePrice')['SalePrice'].index\n",
    "cm = np.corrcoef(h[cols].values.T)\n",
    "sns.set(font_scale=1.25)\n",
    "hm = sns.heatmap(cm, cbar=True, annot=True, square=True, \n",
    "                 fmt='.2f', annot_kws={'size': 10}, yticklabels=cols.values, xticklabels=cols.values)\n",
    "plt.show()"
   ]
  },
  {
   "cell_type": "markdown",
   "id": "7659b7b5",
   "metadata": {},
   "source": [
    "# Pairplot top corrs\n",
    "- Overall Qual is the best indicator, interesting as this definately a Non-Fixed somewhat subjective valiable. It ties right into the obsession that realestate brokers have with 'staging' a house with higher quality art and such.\n",
    "- GrLivArea makes sense as well, since we generally think of larger houses as higher price.\n",
    "- I'm somewhat surprised with the next two garage variables, though garages are imortant in suburbia, I didn't expect them to play this large of a roll."
   ]
  },
  {
   "cell_type": "code",
   "execution_count": null,
   "id": "330f16d3",
   "metadata": {},
   "outputs": [],
   "source": [
    "h.groupby('Condition1')[['SalePrice']].mean()\n",
    "#h.groupby('Condition1')['SalePrice'].size()"
   ]
  },
  {
   "cell_type": "code",
   "execution_count": null,
   "id": "187e193d",
   "metadata": {},
   "outputs": [],
   "source": [
    "#Setup an odered list of neighborhoods\n",
    "Ordered_Nbs = list(h.groupby('Neighborhood')['SalePrice'].mean().sort_values(ascending=False).index)"
   ]
  },
  {
   "cell_type": "code",
   "execution_count": null,
   "id": "2083f738",
   "metadata": {},
   "outputs": [],
   "source": [
    "print('mean price for 5 best neighborhoods: ' + str(h[h['Neighborhood'].isin(Ordered_Nbs[:5])]['SalePrice'].mean()))\n",
    "print('mean lotarea for 5 best neighborhoods: ' + str(h[h['Neighborhood'].isin(Ordered_Nbs[:5])]['LotArea'].mean()))\n",
    "print('\\n')\n",
    "print('mean price for 5 worst neighborhoods: ' + str(h[h['Neighborhood'].isin(Ordered_Nbs[-5:])]['SalePrice'].mean()))\n",
    "print('mean lotarea for 5 worst neighborhoods: ' + str(h[h['Neighborhood'].isin(Ordered_Nbs[-5:])]['LotArea'].mean()))"
   ]
  },
  {
   "cell_type": "code",
   "execution_count": null,
   "id": "481179b7",
   "metadata": {},
   "outputs": [],
   "source": [
    "from sklearn.model_selection import train_test_split\n",
    "X_train, X_hold, y_train, y_hold = train_test_split(X,y,test_size=0.2)"
   ]
  },
  {
   "cell_type": "markdown",
   "id": "ba871cc3",
   "metadata": {},
   "source": [
    "# Create new test/train set off the non-holdout terms"
   ]
  },
  {
   "cell_type": "code",
   "execution_count": null,
   "id": "15cc0705",
   "metadata": {},
   "outputs": [],
   "source": [
    "X = X_train.copy()\n",
    "y = y_train.copy()\n",
    "X_train, X_test, y_train, y_test = train_test_split(X,y,test_size=0.2)"
   ]
  },
  {
   "cell_type": "code",
   "execution_count": null,
   "id": "159e998f",
   "metadata": {},
   "outputs": [],
   "source": [
    "from sklearn.linear_model import LinearRegression\n",
    "lr = LinearRegression()\n",
    "lr.fit(X_train, y_train)\n",
    "lr.score(X_test, y_test)"
   ]
  },
  {
   "cell_type": "code",
   "execution_count": null,
   "id": "b4812f53",
   "metadata": {},
   "outputs": [],
   "source": [
    "#h = h_no_dummy.copy()"
   ]
  },
  {
   "cell_type": "code",
   "execution_count": null,
   "id": "a49cb98d",
   "metadata": {},
   "outputs": [],
   "source": [
    "#h = h_no_log.copy()"
   ]
  },
  {
   "cell_type": "markdown",
   "id": "bfaee214",
   "metadata": {},
   "source": [
    "# Add dummy cols"
   ]
  },
  {
   "cell_type": "code",
   "execution_count": null,
   "id": "1390b96e",
   "metadata": {},
   "outputs": [],
   "source": [
    "# #old version\n",
    "# for col in h.columns:\n",
    "#     if h[col].dtype == 'object':\n",
    "#         h = pd.concat([h, pd.get_dummies(h[col])], axis=1)\n",
    "#         del h[col]"
   ]
  },
  {
   "cell_type": "code",
   "execution_count": null,
   "id": "92102290",
   "metadata": {},
   "outputs": [],
   "source": [
    "#drop base case per dummies col\n",
    "for col in h.columns:\n",
    "    if h[col].dtype == 'object':\n",
    "        dummies = pd.DataFrame()\n",
    "        dummies = pd.get_dummies(h[col]).rename(columns=lambda x: str(col) + '_' + str(x))\n",
    "        drop_col = str(col) + '_' + str(h[col].unique()[-1])\n",
    "        h = pd.concat([h, dummies], axis=1)\n",
    "        #h = pd.concat([h, pd.get_dummies(h[col])], axis=1)\n",
    "        del h[col]\n",
    "        del h[drop_col]"
   ]
  },
  {
   "cell_type": "code",
   "execution_count": null,
   "id": "d59ad676",
   "metadata": {},
   "outputs": [],
   "source": [
    "#categorize Mosold and any other categorical numerics into dummies too\n",
    "col = 'MoSold'\n",
    "dummies = pd.DataFrame()\n",
    "dummies = pd.get_dummies(h[col]).rename(columns=lambda x: str(col) + '_' + str(x))\n",
    "drop_col = str(col) + '_' + str(h[col].unique()[-1])\n",
    "h = pd.concat([h, dummies], axis=1)\n",
    "del h[col]\n",
    "del h[drop_col]"
   ]
  },
  {
   "cell_type": "code",
   "execution_count": null,
   "id": "26c0a993",
   "metadata": {},
   "outputs": [],
   "source": [
    "#h.columns\n",
    "#h['MSSubClassCat'].value_counts()[-1]\n",
    "#h.groupby('MSSubClassCat')['MSSubClassCat'].size().min()\n",
    "#h['MSSubClassCat'].unique()[-1]\n",
    "#dummies = pd.get_dummies(h['MSSubClassCat']).rename(columns=lambda x: str('MSSubClassCat') + '_' + str(x))\n",
    "#dummies = dummies.drop(dummies.columns[0],axis=1)\n",
    "#len(dummies.columns)"
   ]
  },
  {
   "cell_type": "markdown",
   "id": "f0cf57c0",
   "metadata": {},
   "source": [
    "# Add some features"
   ]
  },
  {
   "cell_type": "code",
   "execution_count": null,
   "id": "13518f24",
   "metadata": {},
   "outputs": [],
   "source": [
    "#amount of high quality sqft\n",
    "h['Qualsqft'] = (h.GrLivArea  - h.LowQualFinSF)\n",
    "\n",
    "#2 story building, assuming multiple floors is a more desireable house\n",
    "#h['2story'] = h['2ndFlrSF'] > 0\n",
    "#h['Y' if h[h['2ndFlrSF'] > 0] else 'N']\n",
    "\n",
    "#sqft of rooms other than bedrooms, indicitive of open concept?\n",
    "h['oConcept'] = (h['1stFlrSF'] / (h.TotRmsAbvGrd - h.BedroomAbvGr + 1))\n",
    "\n",
    "#rooms other than bedrooms\n",
    "h['Rooms'] = (h.TotRmsAbvGrd - h.BedroomAbvGr)\n",
    "\n",
    "#avg sqft per room\n",
    "h['SqftPerRoom'] = (h.GrLivArea / h.TotRmsAbvGrd)\n",
    "\n",
    "#yard size, based on lot size minus all other measured areas we have\n",
    "h['Yard'] = h.LotArea - h['1stFlrSF'] - h.GarageArea# - h.WoodDeckSF - h.OpenPorchSF - h['3SsnPorch'] - h.ScreenPorch\n",
    "\n",
    "#bathroom to bed ratio, weighting halfbaths appropriately\n",
    "h['Bath2Bed'] = ((h.FullBath + (h.HalfBath)*.5) / (h.BedroomAbvGr + 1))\n",
    "\n",
    "#bathroom to kitchen ratio, weighting halfbaths appropriately\n",
    "h['Bath2Kitch'] = ((h.FullBath + (h.HalfBath)*.5) / (h.KitchenAbvGr + 1))\n",
    "\n",
    "#overall quality squared\n",
    "h['OverallQualSq'] = h['OverallQual'] ** 2\n",
    "\n",
    "h['QualOnLot'] =  (h['Qualsqft'] ** h['OverallQualSq'])\n",
    "\n",
    "h['QualOnSqft'] =  (h['GrLivArea'] * h['OverallQualSq'])\n",
    "\n",
    "h['QualOnRooms'] =  ((h['BedroomAbvGr'] + h['KitchenAbvGr'] + \n",
    "                      h['TotRmsAbvGrd'] + h['GarageCars'] + \n",
    "                      h['FullBath'] + h['HalfBath'] + \n",
    "                      h['BsmtFullBath'] + h['BsmtHalfBath'] + h['Fireplaces']) * h['OverallQualSq'])\n",
    "\n",
    "h['RoomsOverArea'] = h['TotRmsAbvGrd'] / h['GrLivArea']\n",
    "\n",
    "#price per bed\n",
    "#h['PriceRoom'] = h['SalePrice'] / h['TotRmsAbvGrd']# + h['FullBath'] + h['HalfBath']\n",
    "\n",
    "#price per bed\n",
    "#h['PriceBed'] = h['SalePrice'] / h['BedroomAbvGr']\n",
    "#h['SalePrice'] / h['BedroomAbvGr']\n",
    "\n",
    "#years since renovations\n",
    "h['YearsBetween'] = h['YearRemodAdd'] - h['YearBuilt']\n",
    "\n",
    "h['Qualsqft2'] = np.sqrt(h['Qualsqft']) * h['OverallQual'] # * h['sqftperroom']\n",
    "#h['Qualsqft2'].fillna(0)\n",
    "\n",
    "h['Qualsqft3'] = np.sqrt(h['Qualsqft']) * h['OverallQualSq'] # * h['sqftperroom']\n",
    "#h['Qualsqft3'].fillna(0)\n",
    "\n",
    "h['BKG'] =  (h['Bath2Bed'] * h['Qualsqft'])\n",
    "\n",
    "#h['PriceOnRooms'] =  (h['SalePrice'] / (h['BedroomAbvGr'] + h['KitchenAbvGr'] + h['TotRmsAbvGrd']))\n",
    "\n",
    "h['BKP'] =  (h['Bath2Kitch'] * h['QualOnRooms'])"
   ]
  },
  {
   "cell_type": "code",
   "execution_count": null,
   "id": "2556bca4",
   "metadata": {},
   "outputs": [],
   "source": [
    "#add features\n",
    "#(h.groupby('Neighborhood')['SalePrice'].mean() / h.groupby('Neighborhood')['GrLivArea'].mean()).sort_values(ascending=False)"
   ]
  },
  {
   "cell_type": "code",
   "execution_count": null,
   "id": "eaa66a42",
   "metadata": {},
   "outputs": [],
   "source": [
    "#h['Qualsqft2']\n",
    "h['Qualsqft2'].fillna(0,inplace=True)\n",
    "h['Qualsqft3'].fillna(0,inplace=True)\n",
    "h['QualOnLot'].fillna(0,inplace=True)"
   ]
  },
  {
   "cell_type": "code",
   "execution_count": null,
   "id": "2de8d4fb",
   "metadata": {},
   "outputs": [],
   "source": [
    "sns.pairplot(h, \n",
    "             x_vars=['OverallQual', 'GrLivArea', 'GarageCars', 'GarageArea',\n",
    "       'TotalBsmtSF', '1stFlrSF', 'FullBath', 'TotRmsAbvGrd', 'YearBuilt'],\n",
    "             y_vars=['SalePrice'],size=7,aspect=.7,kind='reg')"
   ]
  },
  {
   "cell_type": "markdown",
   "id": "decdf9f9",
   "metadata": {},
   "source": [
    "# Take a look at distributions, looks like a few of the top candidates are not normally distributed"
   ]
  },
  {
   "cell_type": "code",
   "execution_count": null,
   "id": "dcc8a7b9",
   "metadata": {},
   "outputs": [],
   "source": [
    "from scipy.stats import norm"
   ]
  },
  {
   "cell_type": "code",
   "execution_count": null,
   "id": "5a4cd0a6",
   "metadata": {},
   "outputs": [],
   "source": [
    "f, (ax1, ax2, ax3, ax4, ax5, ax6, ax7, ax8, ax9, ax10) = plt.subplots(10,figsize=(7,36))\n",
    "sns.distplot(h['SalePrice'], fit=norm, ax=ax1)\n",
    "sns.distplot(h['OverallQual'], fit=norm, ax=ax2)\n",
    "sns.distplot(h['FullBath'], fit=norm, ax=ax3)\n",
    "sns.distplot(h['GrLivArea'], fit=norm, ax=ax4)\n",
    "sns.distplot(h['GarageArea'], fit=norm, ax=ax5)\n",
    "sns.distplot(h['GarageCars'], fit=norm, ax=ax6)\n",
    "sns.distplot(h['TotalBsmtSF'], fit=norm, ax=ax7)\n",
    "sns.distplot(h['1stFlrSF'], fit=norm, ax=ax8)\n",
    "sns.distplot(h['TotRmsAbvGrd'], fit=norm, ax=ax9)\n",
    "sns.distplot(h['YearBuilt'], fit=norm, ax=ax10)"
   ]
  },
  {
   "cell_type": "markdown",
   "id": "d8dbe517",
   "metadata": {},
   "source": [
    "# Save cleaned no_transforms dataframe"
   ]
  },
  {
   "cell_type": "code",
   "execution_count": null,
   "id": "576d7db9",
   "metadata": {},
   "outputs": [],
   "source": [
    "h_no_transforms = h.copy()"
   ]
  },
  {
   "cell_type": "code",
   "execution_count": null,
   "id": "7fac73dd",
   "metadata": {},
   "outputs": [],
   "source": [
    "#h_no_log = h_no_transforms.copy()"
   ]
  },
  {
   "cell_type": "markdown",
   "id": "106d74aa",
   "metadata": {},
   "source": [
    "# Transform the variables that are not normally distributed - linear regression assumes values are normally distributed\n",
    "- log transform salesprice, grlivarea, 1stflrsq, \n",
    "- do something about the 0's in garagearea, totalbsmtsf"
   ]
  },
  {
   "cell_type": "code",
   "execution_count": null,
   "id": "396ecd8f",
   "metadata": {},
   "outputs": [],
   "source": [
    "#saleprice\n",
    "f, (ax1, ax2) = plt.subplots(2,figsize=(10,10))\n",
    "res = stats.probplot(h['SalePrice'], plot=ax1)\n",
    "h['SalePrice'] = np.log(h['SalePrice'])\n",
    "res = stats.probplot(h['SalePrice'], plot=ax2)"
   ]
  },
  {
   "cell_type": "code",
   "execution_count": null,
   "id": "42da418e",
   "metadata": {},
   "outputs": [],
   "source": [
    "#GrLivArea\n",
    "f, (ax1, ax2) = plt.subplots(2,figsize=(10,10))\n",
    "res = stats.probplot(h['GrLivArea'], plot=ax1)\n",
    "h['GrLivArea'] = np.log(h['GrLivArea'])\n",
    "res = stats.probplot(h['GrLivArea'], plot=ax2)"
   ]
  },
  {
   "cell_type": "code",
   "execution_count": null,
   "id": "8a862315",
   "metadata": {},
   "outputs": [],
   "source": [
    "#1stFlrSF\n",
    "f, (ax1, ax2) = plt.subplots(2,figsize=(10,10))\n",
    "res = stats.probplot(h['1stFlrSF'], plot=ax1)\n",
    "h['1stFlrSF'] = np.log(h['1stFlrSF'])\n",
    "res = stats.probplot(h['1stFlrSF'], plot=ax2)"
   ]
  },
  {
   "cell_type": "code",
   "execution_count": null,
   "id": "b9694fcf",
   "metadata": {},
   "outputs": [],
   "source": [
    "#OverallQual - debateable if this should have it\n",
    "f, (ax1, ax2) = plt.subplots(2,figsize=(10,10))\n",
    "res = stats.probplot(h['OverallQual'], plot=ax1)\n",
    "h['OverallQual'] = np.log(h['OverallQual'])\n",
    "res = stats.probplot(h['OverallQual'], plot=ax2)"
   ]
  },
  {
   "cell_type": "markdown",
   "id": "801dbb9b",
   "metadata": {},
   "source": [
    "# Convert 0's in some numerics to categorical - BsmtSq"
   ]
  },
  {
   "cell_type": "code",
   "execution_count": null,
   "id": "50153867",
   "metadata": {},
   "outputs": [],
   "source": [
    "def Zeroconvert(num):\n",
    "    if num == 0:\n",
    "        out = 1\n",
    "    else:\n",
    "        out = 0\n",
    "    return out\n",
    "Zeroconvert(orig['TotalBsmtSF'][0])"
   ]
  },
  {
   "cell_type": "code",
   "execution_count": null,
   "id": "c0794aee",
   "metadata": {},
   "outputs": [],
   "source": [
    "#there are 37 samples without a basement\n",
    "h['TotalBsmtSF'].value_counts().head()"
   ]
  },
  {
   "cell_type": "code",
   "execution_count": null,
   "id": "e6fd4308",
   "metadata": {},
   "outputs": [],
   "source": [
    "h['NoBsmt'] = h['TotalBsmtSF'].apply(Zeroconvert)"
   ]
  },
  {
   "cell_type": "code",
   "execution_count": null,
   "id": "29b7a47e",
   "metadata": {},
   "outputs": [],
   "source": [
    "h['NoBsmt'].value_counts().head()"
   ]
  },
  {
   "cell_type": "code",
   "execution_count": null,
   "id": "682cdc94",
   "metadata": {},
   "outputs": [],
   "source": [
    "#there are 79 samples without a Garage\n",
    "h['GarageArea'].value_counts().head()"
   ]
  },
  {
   "cell_type": "code",
   "execution_count": null,
   "id": "2356c7fc",
   "metadata": {},
   "outputs": [],
   "source": [
    "h['NoGarage'] = h['GarageArea'].apply(Zeroconvert)"
   ]
  },
  {
   "cell_type": "code",
   "execution_count": null,
   "id": "b2591aa7",
   "metadata": {},
   "outputs": [],
   "source": [
    "#TotalBsmtSF\n",
    "f, (ax1, ax2) = plt.subplots(2,figsize=(10,10))\n",
    "res = stats.probplot(h[h['TotalBsmtSF'] > 0]['TotalBsmtSF'], plot=ax1)\n",
    "h.loc[h['NoBsmt'] == 0,'TotalBsmtSF'] = np.log(h['TotalBsmtSF'])\n",
    "res = stats.probplot(h[h['TotalBsmtSF'] > 0]['TotalBsmtSF'], plot=ax2)"
   ]
  },
  {
   "cell_type": "code",
   "execution_count": null,
   "id": "c5bedd10",
   "metadata": {},
   "outputs": [],
   "source": [
    "#GarageArea\n",
    "f, (ax1, ax2) = plt.subplots(2,figsize=(10,10))\n",
    "res = stats.probplot(h[h['GarageArea'] > 0]['GarageArea'], plot=ax1)\n",
    "h.loc[h['NoGarage'] == 0,'GarageArea'] = np.log(h['GarageArea'])\n",
    "res = stats.probplot(h[h['GarageArea'] > 0]['GarageArea'], plot=ax2)"
   ]
  },
  {
   "cell_type": "markdown",
   "id": "e2890457",
   "metadata": {},
   "source": [
    "# Check distribution afterwards"
   ]
  },
  {
   "cell_type": "code",
   "execution_count": null,
   "id": "538c150e",
   "metadata": {},
   "outputs": [],
   "source": [
    "# f, (ax1, ax2, ax3, ax4, ax5, ax6, ax7, ax8, ax9, ax10) = plt.subplots(10,figsize=(7,36))\n",
    "# sns.distplot(h['SalePrice'], fit=norm, ax=ax1)\n",
    "# #ax1.set_title('SalePrice')\n",
    "# sns.distplot(h['OverallQual'], fit=norm, ax=ax2)\n",
    "# #ax2.set_title('OverallQual')\n",
    "# sns.distplot(h['FullBath'], fit=norm, ax=ax3)\n",
    "# sns.distplot(h['GrLivArea'], fit=norm, ax=ax4)\n",
    "# sns.distplot(h['GarageArea'], fit=norm, ax=ax5)\n",
    "# sns.distplot(h['GarageCars'], fit=norm, ax=ax6)\n",
    "# sns.distplot(h['TotalBsmtSF'], fit=norm, ax=ax7)\n",
    "# sns.distplot(h['1stFlrSF'], fit=norm, ax=ax8)\n",
    "# sns.distplot(h['TotRmsAbvGrd'], fit=norm, ax=ax9)\n",
    "# sns.distplot(h['YearBuilt'], fit=norm, ax=ax10)"
   ]
  },
  {
   "cell_type": "markdown",
   "id": "45c27bbf",
   "metadata": {},
   "source": [
    "# Copy of transformed data without dummies"
   ]
  }
 ],
 "metadata": {},
 "nbformat": 4,
 "nbformat_minor": 5
}
