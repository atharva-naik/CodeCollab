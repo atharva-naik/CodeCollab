{
 "cells": [
  {
   "cell_type": "markdown",
   "id": "f26931ca",
   "metadata": {},
   "source": [
    "# Lyric DEA #"
   ]
  },
  {
   "cell_type": "markdown",
   "id": "ac88d07d",
   "metadata": {},
   "source": [
    "## Imports, Inits, and Method definitions ##"
   ]
  },
  {
   "cell_type": "code",
   "execution_count": null,
   "id": "48989b46",
   "metadata": {},
   "outputs": [],
   "source": [
    "import pandas as pd\n",
    "import numpy as np\n",
    "from sqlalchemy import create_engine\n",
    "\n",
    "import matplotlib.pyplot as plt\n",
    "import matplotlib as mpl\n",
    "import seaborn as sns\n",
    "sns.set()\n",
    "\n",
    "%matplotlib inline\n",
    "\n",
    "from sklearn.model_selection import train_test_split, cross_val_score\n",
    "from sklearn.metrics import accuracy_score, precision_score, recall_score, f1_score, roc_curve, roc_auc_score\n",
    "from sklearn.linear_model import LogisticRegression\n",
    "from sklearn.naive_bayes import GaussianNB\n",
    "from sklearn.svm import SVC\n",
    "from sklearn.tree import DecisionTreeClassifier\n",
    "from sklearn.ensemble import RandomForestClassifier\n",
    "\n",
    "import importlib\n",
    "\n",
    "import mcnulty_methods\n",
    "import word_utils\n",
    "importlib.reload(mcnulty_methods);\n",
    "importlib.reload(word_utils);\n",
    "from mcnulty_methods import get_formatted_feature_df, get_lyrics_for_tracks\n",
    "from word_utils import get_word_counts, generate_word_charts\n"
   ]
  },
  {
   "cell_type": "code",
   "execution_count": null,
   "id": "65bd0b03",
   "metadata": {},
   "outputs": [],
   "source": [
    "mpl.rcParams['axes.titlesize'] = 16\n",
    "mpl.rcParams['axes.labelsize'] = 16\n",
    "mpl.rcParams['xtick.labelsize'] = 13\n",
    "mpl.rcParams['ytick.labelsize'] = 13"
   ]
  },
  {
   "cell_type": "markdown",
   "id": "79725280",
   "metadata": {},
   "source": [
    "## Fetch Tracks for Particular Genres"
   ]
  },
  {
   "cell_type": "code",
   "execution_count": null,
   "id": "937e27ab",
   "metadata": {},
   "outputs": [],
   "source": [
    "conn = create_engine('postgresql://*******@localhost:5432/mcnulty_songs').raw_connection()\n",
    "cursor = conn.cursor()"
   ]
  },
  {
   "cell_type": "code",
   "execution_count": null,
   "id": "20d46d09",
   "metadata": {},
   "outputs": [],
   "source": [
    "features = get_formatted_feature_df(conn)"
   ]
  },
  {
   "cell_type": "code",
   "execution_count": null,
   "id": "340db306",
   "metadata": {},
   "outputs": [],
   "source": [
    "features.shape"
   ]
  },
  {
   "cell_type": "code",
   "execution_count": null,
   "id": "69b6d994",
   "metadata": {},
   "outputs": [],
   "source": [
    "features.sample(5)"
   ]
  },
  {
   "cell_type": "markdown",
   "id": "83031693",
   "metadata": {},
   "source": [
    "## Fetch Lyrics from Tracks ##"
   ]
  },
  {
   "cell_type": "code",
   "execution_count": null,
   "id": "f41b9c45",
   "metadata": {},
   "outputs": [],
   "source": [
    "genre_labels = ['hip hop', 'pop']\n",
    "unique_words = set()\n",
    "\n",
    "all_lyrics = None\n",
    "hiphop_lyrics = None\n",
    "pop_lyrics = None\n",
    "\n",
    "for genre_label in genre_labels:\n",
    "    genre_df = features[(features['term'] == genre_label)]\n",
    "\n",
    "    genre_ids = genre_df['track_id']\n",
    "    \n",
    "    genre_lyrics = get_lyrics_for_tracks(conn, genre_ids)\n",
    "\n",
    "    \n",
    "    if genre_label == 'pop':\n",
    "        pop_lyrics = genre_lyrics\n",
    "    elif genre_label == 'hip hop':\n",
    "        hiphop_lyrics = genre_lyrics\n",
    "        \n",
    "    if all_lyrics is None:\n",
    "        all_lyrics = genre_lyrics\n",
    "    else:\n",
    "        all_lyrics = pd.concat([all_lyrics, genre_lyrics])\n",
    "    \n",
    "    "
   ]
  },
  {
   "cell_type": "code",
   "execution_count": null,
   "id": "d9001de7",
   "metadata": {},
   "outputs": [],
   "source": [
    "total_count_of_words = all_lyrics.groupby('word')['count'].sum().reset_index()\n",
    "\n",
    "total_count_of_words.sort_values('count', ascending=False, inplace=True)\n",
    "\n",
    "total_count_of_words.head(10)"
   ]
  },
  {
   "cell_type": "code",
   "execution_count": null,
   "id": "4d2d7d60",
   "metadata": {},
   "outputs": [],
   "source": [
    "track_word_counts = all_lyrics.groupby('track_id')['count'].sum()\n",
    "\n",
    "#track_word_counts.sort_values('count', ascending=False, inplace=True)"
   ]
  },
  {
   "cell_type": "markdown",
   "id": "81f3c979",
   "metadata": {},
   "source": [
    "## Hip Hop: Analyze per track word counts ##"
   ]
  },
  {
   "cell_type": "code",
   "execution_count": null,
   "id": "d41f0da2",
   "metadata": {},
   "outputs": [],
   "source": [
    "track_word_counts = hiphop_lyrics.groupby('track_id')['count'].sum().reset_index()\n",
    "\n",
    "track_word_counts.sort_values('count', ascending=False, inplace=True)\n",
    "\n",
    "track_word_counts['count'].describe()"
   ]
  },
  {
   "cell_type": "markdown",
   "id": "7463edd9",
   "metadata": {},
   "source": [
    "## Pop: Analyze per track word counts ##"
   ]
  },
  {
   "cell_type": "code",
   "execution_count": null,
   "id": "79e56940",
   "metadata": {},
   "outputs": [],
   "source": [
    "track_word_counts = pop_lyrics.groupby('track_id')['count'].sum().reset_index()\n",
    "\n",
    "track_word_counts.sort_values('count', ascending=False, inplace=True)\n",
    "\n",
    "track_word_counts['count'].describe()"
   ]
  },
  {
   "cell_type": "markdown",
   "id": "669ce81b",
   "metadata": {},
   "source": [
    "May want to consider dropping tracks with very few words"
   ]
  },
  {
   "cell_type": "code",
   "execution_count": null,
   "id": "90cde0f2",
   "metadata": {},
   "outputs": [],
   "source": [
    "features.set_index('track_id', inplace=True)"
   ]
  },
  {
   "cell_type": "markdown",
   "id": "15db773a",
   "metadata": {},
   "source": [
    "## Word Analysis and Reshaping for Modeling ##"
   ]
  }
 ],
 "metadata": {},
 "nbformat": 4,
 "nbformat_minor": 5
}
