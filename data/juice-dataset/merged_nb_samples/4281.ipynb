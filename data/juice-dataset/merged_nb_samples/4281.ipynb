{
 "cells": [
  {
   "cell_type": "markdown",
   "id": "e92de3b1",
   "metadata": {},
   "source": [
    "# Harvesting Models for the Logistic Population\n",
    "\n",
    "This set of activities has the following goals:\n",
    "\n",
    "- Present variations of the logistic population growth model that include harvesting.\n",
    "- Demonstrate how to solve a diferential equation using the course tools.\n",
    "- Introduce ``pyplot``, the ``matplotlib`` interactive graphics module.\n",
    "\n",
    "The first step in any computer lab in this course is to import the modules that will be used. Click on the cell below and press ``Shift-Enter`` to run the cell."
   ]
  },
  {
   "cell_type": "code",
   "execution_count": null,
   "id": "4d4b1333",
   "metadata": {},
   "outputs": [],
   "source": [
    "%matplotlib inline\n",
    "import numpy as np\n",
    "import matplotlib.pyplot as plt\n",
    "import detools"
   ]
  },
  {
   "cell_type": "markdown",
   "id": "791d4bfc",
   "metadata": {},
   "source": [
    "The statements in cell do the following:\n",
    "\n",
    "- **Line 1**: Tells Jupyter that plots should be displayed \"inline\", that is, in the notebook itself, instead of using an external backend.\n",
    "- **Line 2**: Imports the ``numpy`` module, which contains basic data structures and functions for numerical computations. The module is given the abbreviation ``np`` for easy of access.\n",
    "- **Line 3**: Imports the ``pyplot`` module for interactive graphics, with the abbreviation ``plt``.\n",
    "- **Line 4**: Imports the module ``detools``. \n",
    "\n",
    "**Important note**: For this to work, the file ``detools.py`` _must_ be in the same folder as this notebook file.\n",
    "\n",
    "We will use ``detools``, a module designed specially for the needs of the course, containing a simplified interface for the solution of differential equations. In the background, the module ``scipy.integrate`` is used to compute the solutions. Functions in ``detools`` will be sufficient for the purposes of this course, but ``scipy.integrate`` should be used directly for professional work. "
   ]
  },
  {
   "cell_type": "markdown",
   "id": "5ca1f019",
   "metadata": {},
   "source": [
    "## The Logistic Population Model\n",
    "\n",
    "The logistic population model is:\n",
    "$$\n",
    "P'=rP\\left(1-\\frac{P}{c}\\right)\n",
    "$$\n",
    "where:\n",
    "\n",
    "- $P(t)$ is the population size at time $t$. Notice that the population may be measured in units such as thousands of individuals, so that fractional population values are valid.\n",
    "- $r$ is a parameter that represents the _growth rate_ of the population when it is small, so that the environment does not pose significant constraints.\n",
    "- $c$ is a parameter that represents the limit the environment poses on the population growth.\n",
    "\n",
    "Notice that the model has two parameters, $r$ and $c$. Each actual population has different values of $r$ and $c$. Setting up the equation this way allows it to be used to model several different populations. In this section, we will use the logistic model to demonstrate how to solve differential equations in Python.\n",
    "\n",
    "Before we start, let's think about what is required to solve the equation. We need to do the following:\n",
    "\n",
    "- Define a way to evaluate the right-hand side of the equation generically.\n",
    "- Define the actual values of the parameters for the current model.\n",
    "- Define the initial condition, so that a unique solution is singled out.\n",
    "- Specify the interval where we want the solution to be solved.\n",
    "\n",
    "The differential equation is defined as a standard Python function. Notice that we only need to specify the right-hand side of the equation, as shown in the cell below:"
   ]
  },
  {
   "cell_type": "code",
   "execution_count": null,
   "id": "2a2a104e",
   "metadata": {},
   "outputs": [],
   "source": [
    "def logistic_model(t, P, r, c):\n",
    "    return r * P * (1 - P / c) "
   ]
  },
  {
   "cell_type": "markdown",
   "id": "ee3f50d6",
   "metadata": {},
   "source": [
    "This code does the following:\n",
    "\n",
    "- **Line 1**: Define the signature of the function ``logistic_model``. The function takes the following input arguments:\n",
    "\n",
    "    - `t`: Current time, a ``float``\n",
    "    - `P`: Current population size, a ``float``\n",
    "    - `r`: Growth rate, a positive ``float``\n",
    "    - `c`: Carrying capacity, a positive ``float``\n",
    "    \n",
    "- **Line 2**: The formula for the return value, which computes the value of $P'$ for at time ``t`` for a population of size ``P``. The _return value_ of a function is simply the \"result\" of the function application in the mathematical sense.\n",
    "\n",
    "The next cell shows how to define the required input values, and solve the equation:"
   ]
  },
  {
   "cell_type": "code",
   "execution_count": null,
   "id": "445ebd3f",
   "metadata": {},
   "outputs": [],
   "source": [
    "r, c = 0.15, 15.75\n",
    "t0, P0 = 0, 3.47\n",
    "tmin, tmax = 0, 10\n",
    "tstep = 1\n",
    "solution = detools.solve_de(logistic_model, t0, P0, tmin, tmax, tstep, args=(r,c))"
   ]
  },
  {
   "cell_type": "markdown",
   "id": "adb94a10",
   "metadata": {},
   "source": [
    "The code above does the following:\n",
    "\n",
    "- **Line 1**: Set the values of the parameters ``r`` and ``c``, respectively, to ``0.15`` and ``15.75``. Both assignments are done in a single line of code, using a Python feature called _multiple assignment_.\n",
    "- **Line 2**: Set the intial condition $P(t_0)=P_0$. The variables ``t0`` and ``P0`` are assigned, respectively, the values ``0`` and ``3.47``.\n",
    "- **Line 3**: Set the interval for the solution. Variables ``tmin`` and ``tmax`` are assigned, respectively, the values ``0`` and ``10``, so the solution interval is $[0,10]$.\n",
    "- **Line 4**: Set the time step for the solution, ``tstep`` to ``1``. The solution will be computed at the points $0,1,2,\\ldots,10$.\n",
    "- ** Line 5**: Call the function ``solve_de`` from the module ``detools`` to solve the differential equation, and stores the result in the variable ``solution``. Notice the parameters in the call:\n",
    "    \n",
    "    - ``logistic_model`` is the function that defines the differential equation.\n",
    "    - ``t0`` is the time at which the initial condition is specified.\n",
    "    - ``P0`` is the population value at time ``t0``.\n",
    "    - ``tmin`` is the smallest value of time for which the solution is computed.\n",
    "    - ``tmax`` is the largest value of time for which the solution is computed.\n",
    "    - ``tstep`` is the time step for time values at which the solution is computed.\n",
    "    - ``args=(r,c)`` specify the values of the parameters.\n",
    "    \n",
    "Notice that the result of the computation is not printed, since it is assigned to the variable ``solution``. To print the contents of ``solution``, execute the following cell:"
   ]
  },
  {
   "cell_type": "code",
   "execution_count": null,
   "id": "14f02708",
   "metadata": {},
   "outputs": [],
   "source": [
    "solution"
   ]
  },
  {
   "cell_type": "markdown",
   "id": "f56ebe80",
   "metadata": {},
   "source": [
    "The solution is given in two arrays. The first is the sequence of time values where the solution is computed, and the second contains the solution values. So, for example, $P(4)=4.46682534$. It is convenient to \"unpack\" the time and population arrays:"
   ]
  },
  {
   "cell_type": "code",
   "execution_count": null,
   "id": "e6c1e480",
   "metadata": {},
   "outputs": [],
   "source": [
    "tvalues, Pvalues = solution"
   ]
  },
  {
   "cell_type": "markdown",
   "id": "b6ea6aa3",
   "metadata": {},
   "source": [
    "We can now easily plot the solution, as shown in the cell below. Notice that, since we computed the solution in a discrete set of points, we do not join the solution points by straight lines."
   ]
  },
  {
   "cell_type": "code",
   "execution_count": null,
   "id": "7f632c7f",
   "metadata": {},
   "outputs": [],
   "source": [
    "plt.plot(tvalues, Pvalues, 'o')\n",
    "plt.xlabel('$t$')\n",
    "plt.ylabel('$P$')\n",
    "plt.title('Logistic model with parameter values $r={}$, $c={}$'.format(r,c))\n",
    "None"
   ]
  },
  {
   "cell_type": "markdown",
   "id": "51f476cf",
   "metadata": {},
   "source": [
    "The details of this code are as follows:\n",
    "\n",
    "- **Line 1**: Create a plot with ``tvalues`` on the horizontal axis and ``Pvalues`` on the vertical axes, using a filled circle as plot symbol (as specifyied by the argument ``'o'``).\n",
    "- **Line 2**: Set the label for the horizontal axis to ``'$t$'``. The dollar signs specify the use of Latex.\n",
    "- **Line 3**: Set the label for the vertical axis to ``'$P$'``.\n",
    "- **Line 4**: Set the title of the plot. We use a formatted Python string to insert the values of $r$ and $c$ in the title string.\n",
    "- **Line 5**: We add ``None`` as the last line, to prevent Jupyter from printing the result of the last call in the plot construction. Most functions of the module ``plt`` return a value, but we usually won't need to see what this value is.\n",
    "\n",
    "Solutions of differential equations are continuous curves. The following cell shows how to modify the computation to obtain a continuous graph. We also put all code needed to build the graph in a single cell, which is safer from the point of view of the computation, but may make the code a little harder to read."
   ]
  },
  {
   "cell_type": "code",
   "execution_count": null,
   "id": "b80fc55c",
   "metadata": {},
   "outputs": [],
   "source": [
    "r, c = 0.15, 15.75\n",
    "t0, P0 = 0, 3.47\n",
    "tmin, tmax = 0, 50\n",
    "tstep = 0.01\n",
    "tvalues, Pvalues = detools.solve_de(logistic_model, t0, P0, tmin, tmax, tstep, args=(r,c))\n",
    "plt.plot(tvalues, Pvalues, lw=2)\n",
    "plt.xlabel('$t$')\n",
    "plt.ylabel('$P$')\n",
    "plt.title('Logistic model with parameter values $r={}$, $c={}$'.format(r,c))\n",
    "None"
   ]
  },
  {
   "cell_type": "markdown",
   "id": "861f72eb",
   "metadata": {},
   "source": [
    "Most of the above is repetition of code that we have already seen. We just comment on the differences:\n",
    "\n",
    "- **Lines 3 and 4**: The solution interval is now set to $[0,50]$, with a time step of $0.01$.\n",
    "- **Line 5**: The solution now is directly unpacked in the arrays ``tvalues``, ``Pvalues``.\n",
    "- **Line 6**: In the ``plot`` call, we do not specify a symbol, so that the points are connected by a line. The option ``lw=2`` specifies the line width.\n",
    "\n",
    "Notice that the solution, as expected, converges to a stable equilibrium. The logistic model theory says that this limit should be equal to the carrying capacity $c=15.75$. We can verify this by displaying the value of the solution at the last computed time:"
   ]
  },
  {
   "cell_type": "code",
   "execution_count": null,
   "id": "1faa7422",
   "metadata": {},
   "outputs": [],
   "source": [
    "Pvalues[-1]"
   ]
  },
  {
   "cell_type": "markdown",
   "id": "e6fc3b2c",
   "metadata": {},
   "source": [
    "The notation ``Pvalues[-1]`` is used to access the last element of an array. This is close to the expected limit.\n",
    "\n",
    "In general, we want to plot various solutions simultaneously. The following cell shows how to do that."
   ]
  }
 ],
 "metadata": {},
 "nbformat": 4,
 "nbformat_minor": 5
}
