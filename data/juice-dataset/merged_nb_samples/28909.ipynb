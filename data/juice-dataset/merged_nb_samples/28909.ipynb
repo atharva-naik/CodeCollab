{
 "cells": [
  {
   "cell_type": "code",
   "execution_count": null,
   "id": "7ae1ac34",
   "metadata": {},
   "outputs": [],
   "source": [
    "import numpy as np\n",
    "import pandas as pd\n",
    "import scipy\n",
    "import matplotlib.pyplot as plt\n",
    "import seaborn as sns\n",
    "%matplotlib inline\n",
    "\n",
    "from sklearn.datasets.samples_generator import make_blobs\n",
    "from sklearn.model_selection import train_test_split\n",
    "from sklearn.cluster import SpectralClustering, MeanShift, estimate_bandwidth, AffinityPropagation, KMeans\n",
    "from sklearn.preprocessing import normalize\n",
    "from sklearn.decomposition import PCA\n",
    "from sklearn import metrics\n",
    "from itertools import cycle"
   ]
  },
  {
   "cell_type": "markdown",
   "id": "c66c2e91",
   "metadata": {},
   "source": [
    "# DRILL: Mo' blobs, mo' problems?\n",
    "\n",
    "You've seen how these three methods work on three blobs of reasonably separated data. Now go back and change the data. Create more or fewer blobs, and set the blobs closer together or farther apart. Set up at least three different blob configuations, then run the four methods ($k$-means, mean shift, spectral clustering and affinity propagation) on each one.  Write up a report for your mentor where you discuss what you learned about the clustering methods based on their relative performance for your different blob setups. "
   ]
  },
  {
   "cell_type": "markdown",
   "id": "03937935",
   "metadata": {},
   "source": [
    "### Blob 1 - More and Close"
   ]
  },
  {
   "cell_type": "code",
   "execution_count": null,
   "id": "d197f87d",
   "metadata": {},
   "outputs": [],
   "source": [
    "centers = [[1, 1], [-1, -1], [1, -1]]\n",
    "\n",
    "X1, y1 = make_blobs(\n",
    "    n_samples=20000,\n",
    "    centers=centers,\n",
    "    cluster_std=1,\n",
    "    n_features=2,\n",
    "    random_state=42)\n",
    "\n",
    "X_train1, X_test1, y_train1, y_test1 = train_test_split(\n",
    "    X1,\n",
    "    y1,\n",
    "    test_size=0.9,\n",
    "    random_state=42)"
   ]
  },
  {
   "cell_type": "code",
   "execution_count": null,
   "id": "f28fd348",
   "metadata": {},
   "outputs": [],
   "source": [
    "plt.scatter(X1[:, 0], X1[:, 1], c=y1)\n",
    "plt.show()"
   ]
  },
  {
   "cell_type": "markdown",
   "id": "4df61d3f",
   "metadata": {},
   "source": [
    "### Blob 2 - Few and Close"
   ]
  },
  {
   "cell_type": "code",
   "execution_count": null,
   "id": "c5096ac4",
   "metadata": {},
   "outputs": [],
   "source": [
    "centers = [[1, 1], [-1, -1], [1, -1]]\n",
    "\n",
    "X2, y2 = make_blobs(\n",
    "    n_samples=2000,\n",
    "    centers=centers,\n",
    "    cluster_std=1,\n",
    "    n_features=2,\n",
    "    random_state=42)\n",
    "\n",
    "X_train2, X_test2, y_train2, y_test2 = train_test_split(\n",
    "    X2,\n",
    "    y2,\n",
    "    test_size=0.9,\n",
    "    random_state=42)"
   ]
  },
  {
   "cell_type": "code",
   "execution_count": null,
   "id": "c61864ad",
   "metadata": {},
   "outputs": [],
   "source": [
    "plt.scatter(X2[:, 0], X2[:, 1], c=y2)\n",
    "plt.show()"
   ]
  },
  {
   "cell_type": "markdown",
   "id": "b34e7f18",
   "metadata": {},
   "source": [
    "### Blob 3 - Few and Far"
   ]
  },
  {
   "cell_type": "code",
   "execution_count": null,
   "id": "a55edede",
   "metadata": {},
   "outputs": [],
   "source": [
    "centers = [[4, 4], [-4, -4], [4, -4]]\n",
    "\n",
    "X3, y3 = make_blobs(\n",
    "    n_samples=2000,\n",
    "    centers=centers,\n",
    "    cluster_std=1,\n",
    "    n_features=2,\n",
    "    random_state=42)\n",
    "\n",
    "X_train3, X_test3, y_train3, y_test3 = train_test_split(\n",
    "    X3,\n",
    "    y3,\n",
    "    test_size=0.9,\n",
    "    random_state=42)"
   ]
  },
  {
   "cell_type": "code",
   "execution_count": null,
   "id": "9ce7b451",
   "metadata": {},
   "outputs": [],
   "source": [
    "plt.scatter(X3[:, 0], X3[:, 1], c=y3)\n",
    "plt.show()"
   ]
  },
  {
   "cell_type": "markdown",
   "id": "cad25755",
   "metadata": {},
   "source": [
    "## K-Means"
   ]
  },
  {
   "cell_type": "markdown",
   "id": "6736ff00",
   "metadata": {},
   "source": [
    "### Blob 1"
   ]
  },
  {
   "cell_type": "code",
   "execution_count": null,
   "id": "2a97f945",
   "metadata": {},
   "outputs": [],
   "source": [
    "X_norm = normalize(X1)\n",
    "X_pca = PCA(2).fit_transform(X_norm)\n",
    "y_pred = KMeans(n_clusters=3, random_state=42).fit_predict(X_pca)\n",
    "\n",
    "print(\"Number of estimated clusters: {}\".format(n_clusters_))\n",
    "\n",
    "plt.scatter(X_pca[:, 0], X_pca[:, 1], c=y_pred)\n",
    "plt.show()"
   ]
  },
  {
   "cell_type": "markdown",
   "id": "734a7d17",
   "metadata": {},
   "source": [
    "### Blob 2"
   ]
  },
  {
   "cell_type": "code",
   "execution_count": null,
   "id": "d18ba071",
   "metadata": {},
   "outputs": [],
   "source": [
    "X_norm2 = normalize(X2)\n",
    "y_pred = KMeans(n_clusters=3, random_state=42).fit_predict(X_norm2)\n",
    "\n",
    "print(\"Number of estimated clusters: {}\".format(n_clusters_))\n",
    "\n",
    "plt.scatter(X_pca[:, 0], X_pca[:, 1], c=y_pred)\n",
    "plt.show()"
   ]
  },
  {
   "cell_type": "markdown",
   "id": "58e4ec4a",
   "metadata": {},
   "source": [
    "### Blob 3"
   ]
  }
 ],
 "metadata": {},
 "nbformat": 4,
 "nbformat_minor": 5
}
