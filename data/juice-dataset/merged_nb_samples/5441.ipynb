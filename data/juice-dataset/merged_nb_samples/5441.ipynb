{
 "cells": [
  {
   "cell_type": "markdown",
   "id": "6ae38cd2",
   "metadata": {},
   "source": [
    "# Automated Trading Algorithms\n"
   ]
  },
  {
   "cell_type": "code",
   "execution_count": null,
   "id": "6f58d2cc",
   "metadata": {},
   "outputs": [],
   "source": [
    "# Import libraries\n",
    "% matplotlib inline\n",
    "\n",
    "import datetime as dt\n",
    "import numpy as np\n",
    "\n",
    "from trading_session import * \n",
    "from financial_series.everything import * \n",
    "from financial_series.stationary_test import adf\n",
    "from metallic_blue_lizard.neural_net import adaline"
   ]
  },
  {
   "cell_type": "markdown",
   "id": "5e22d1ca",
   "metadata": {},
   "source": [
    "## Open a new 'trading session' and get available trading stocks"
   ]
  },
  {
   "cell_type": "code",
   "execution_count": null,
   "id": "a221b8c9",
   "metadata": {},
   "outputs": [],
   "source": [
    "# Create instance of trading_session object\n",
    "\n",
    "ts = TradingSession(user='sd8892',pw='Mexico0r',alias='Trading Session')"
   ]
  },
  {
   "cell_type": "code",
   "execution_count": null,
   "id": "bb1aebff",
   "metadata": {},
   "outputs": [],
   "source": [
    "# Get exchange rate\n",
    "er = ts.getExchangeRates()\n",
    "er "
   ]
  },
  {
   "cell_type": "code",
   "execution_count": null,
   "id": "0a1c1e76",
   "metadata": {},
   "outputs": [],
   "source": [
    "# Print available stocks\n",
    "available_stocks = ts.getOptions()\n",
    "print(available_stocks)\n",
    "\n",
    "# close session\n",
    "ts.close()"
   ]
  },
  {
   "cell_type": "markdown",
   "id": "b003bd8c",
   "metadata": {},
   "source": [
    "## Download prices "
   ]
  },
  {
   "cell_type": "code",
   "execution_count": null,
   "id": "fbf562b7",
   "metadata": {},
   "outputs": [],
   "source": [
    "\n",
    "# Create list of Stock instances.\n",
    "obj = list(map(lambda x: \n",
    "               Stock(units='MXN',stock_name=yahoo_dict[x],t0='2016/01/01',tf='2017/02/02'), \n",
    "               available_stocks))\n",
    "\n",
    "# Save information in stocks dictionary \n",
    "stocks = {}\n",
    "total_errors = 0\n",
    "for i,j in zip(obj,available_stocks):\n",
    "    print('\\n- Downloading data: {}'.format(i.name()),end=' ')\n",
    "    try:\n",
    "        i.fill()\n",
    "    except:\n",
    "        print('\\n\\t>> Error: cannot download data: {}\\n'.format(i.name()))\n",
    "        total_errors += 1\n",
    "        continue\n",
    "    stocks[j] = i\n",
    "    print('Done.')\n",
    "\n",
    "# print total of unavailable stock information \n",
    "del obj\n",
    "print('\\nTotal Errors: {}'.format(total_errors))"
   ]
  },
  {
   "cell_type": "code",
   "execution_count": null,
   "id": "a31ced8c",
   "metadata": {},
   "outputs": [],
   "source": [
    "stocks['ALSEA'].plot([stocks['MEXCHEM']])\n"
   ]
  },
  {
   "cell_type": "code",
   "execution_count": null,
   "id": "b6baaf1b",
   "metadata": {},
   "outputs": [],
   "source": [
    "def temp_func(x):\n",
    "    x.plot();plt.grid()\n",
    "    plt.show()\n",
    "    \n",
    "temp = [temp_func(k) for k in stocks.values()]"
   ]
  },
  {
   "cell_type": "markdown",
   "id": "d1db5de6",
   "metadata": {},
   "source": [
    "# Download exchange rate "
   ]
  },
  {
   "cell_type": "code",
   "execution_count": null,
   "id": "914b477f",
   "metadata": {},
   "outputs": [],
   "source": [
    "USDMXN = Currency(base='USD',units='MXN',t0='2016/01/01',tf='2017/02/02')\n",
    "USDMXN.fill()"
   ]
  },
  {
   "cell_type": "code",
   "execution_count": null,
   "id": "1f2fcf72",
   "metadata": {},
   "outputs": [],
   "source": [
    "USDMXN.plot();plt.grid()"
   ]
  },
  {
   "cell_type": "markdown",
   "id": "d39d699f",
   "metadata": {},
   "source": [
    "## Identify Correlation with Exchange Rate"
   ]
  },
  {
   "cell_type": "code",
   "execution_count": null,
   "id": "9b59b4b3",
   "metadata": {},
   "outputs": [],
   "source": [
    "def getReturns(x):\n",
    "    return x.returns.Adj_close.values\n",
    "\n",
    "def equalReturnsLength(x,y):\n",
    "    _x = getReturns(x).shape\n",
    "    _y = getReturns(y).shape\n",
    "    return _x[0] == _y[0] \n",
    "\n",
    "def getCov(x,y):\n",
    "    return np.cov(np.matrix([getReturns(x),getReturns(y)]))\n",
    "\n",
    "def getCorr(x,y):\n",
    "    cov_mat = getCov(x,y)\n",
    "    cov = cov_mat[0,1]\n",
    "    return cov / (np.std(getReturns(x))*np.std(getReturns(y)))\n",
    "\n",
    "def matchObj(x,y):\n",
    "    import copy\n",
    "    df = pd.concat([x.prices.Adj_close, y.prices.Adj_close],1).dropna().copy()\n",
    "    _x,_y = df.iloc[:,0],df.iloc[:,1]\n",
    "    temp_x = copy.deepcopy(x)\n",
    "    temp_x.prices = pd.DataFrame({'Adj_close':_x.values})\n",
    "    temp_x.calc_returns()\n",
    "    \n",
    "    temp_y = copy.deepcopy(y)\n",
    "    temp_y.prices = pd.DataFrame({'Adj_close':_y.values})\n",
    "    temp_y.calc_returns()\n",
    "    return temp_x, temp_y\n",
    "    \n",
    "    \n",
    "def scatterPlotReturns(x,y):\n",
    "    _x,_y = matchObj(x,y)\n",
    "    x_d = pd.DataFrame({'x1':getReturns(_x)})\n",
    "    y_d = pd.DataFrame({'y':getReturns(_y)})\n",
    "    neuron = adaline(x_data = x_d, y_data = y_d) \n",
    "    neuron.train()\n",
    "    neuron.evaluate()\n",
    "\n",
    "    plt.plot(neuron.x_data, neuron.y_data,'b.',\n",
    "             neuron.x_data, neuron.y_estimate, 'r-')\n",
    "    plt.title('Scatter Plot of Returns and Linear Estimation \\nCorrelation: {}'.format(getCorr(_x,_y)))\n",
    "    plt.xlabel('Returns of : {}'.format(x.name()))\n",
    "    plt.ylabel('Returns of : {}'.format(y.name()))\n",
    "    plt.grid()\n",
    "    plt.show()"
   ]
  },
  {
   "cell_type": "code",
   "execution_count": null,
   "id": "b5026f43",
   "metadata": {},
   "outputs": [],
   "source": [
    "positive_corr = []\n",
    "negative_corr = []\n",
    "best_positive_corr = -float('inf')\n",
    "best_negative_corr = float('inf')\n",
    "evaluated_stocks = 0\n",
    "\n",
    "for k in stocks:\n",
    "    \n",
    "    temp_x, temp_y = matchObj(USDMXN,stocks[k])\n",
    "    \n",
    "    temp = getCorr(temp_x,temp_y)\n",
    "    \n",
    "    # save positive corr\n",
    "    if temp > 0.5:\n",
    "        positive_corr.append(k)\n",
    "        \n",
    "    if temp < -0.5:\n",
    "        negative_corr.append(k)\n",
    "        \n",
    "    if temp > best_positive_corr:\n",
    "        best_positive_corr = temp\n",
    "        pos = k\n",
    "        \n",
    "    if temp < best_negative_corr:\n",
    "        best_negative_corr = temp\n",
    "        neg = k\n",
    "\n"
   ]
  },
  {
   "cell_type": "code",
   "execution_count": null,
   "id": "4666dd28",
   "metadata": {},
   "outputs": [],
   "source": [
    "scatterPlotReturns(USDMXN,stocks[pos])\n",
    "scatterPlotReturns(USDMXN,stocks[neg])"
   ]
  },
  {
   "cell_type": "markdown",
   "id": "f1879ff9",
   "metadata": {},
   "source": [
    "\n",
    "## Stationary Tests - ADF"
   ]
  },
  {
   "cell_type": "code",
   "execution_count": null,
   "id": "e6f6e21a",
   "metadata": {},
   "outputs": [],
   "source": [
    "found = []\n",
    "\n",
    "for k in stocks:\n",
    "    print('Evalualting: {}'.format(k))\n",
    "    temp = (lambda x: adf(x.prices.Adj_close,0,1))(stocks[k])\n",
    "    print('\\n')\n",
    "    if temp == 1:\n",
    "        found.append(k)\n"
   ]
  },
  {
   "cell_type": "code",
   "execution_count": null,
   "id": "79e5e99d",
   "metadata": {},
   "outputs": [],
   "source": [
    "for k in found:\n",
    "    stocks[k].plot();plt.grid();plt.show()"
   ]
  },
  {
   "cell_type": "markdown",
   "id": "12fc7daf",
   "metadata": {},
   "source": [
    "## Perform operations "
   ]
  }
 ],
 "metadata": {},
 "nbformat": 4,
 "nbformat_minor": 5
}
