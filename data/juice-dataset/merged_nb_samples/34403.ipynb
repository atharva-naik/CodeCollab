{
 "cells": [
  {
   "cell_type": "markdown",
   "id": "f148e999",
   "metadata": {},
   "source": [
    "# B6: $^{13}$C MFA for microbial communities"
   ]
  },
  {
   "cell_type": "markdown",
   "id": "ea0737c9",
   "metadata": {},
   "source": [
    "# Introduction"
   ]
  },
  {
   "cell_type": "markdown",
   "id": "cac070df",
   "metadata": {},
   "source": [
    "This notebook reproduces the results obtained by an excel notebook provided by Paul Djkistra (personal communication) and used to obtain the fits to $CO_2$ labeling and the  Carbon Use Efficiency (CUE) results in Hagerty *et al* 2014. The mathematical framework is explained in Djikstra *et al* 2011."
   ]
  },
  {
   "cell_type": "markdown",
   "id": "8b7ea9b2",
   "metadata": {},
   "source": [
    "# Setup"
   ]
  },
  {
   "cell_type": "markdown",
   "id": "3bc3b60b",
   "metadata": {},
   "source": [
    "First, we need to set the path and environment variable properly:"
   ]
  },
  {
   "cell_type": "code",
   "execution_count": null,
   "id": "f50fc00e",
   "metadata": {},
   "outputs": [],
   "source": [
    "quantmodelDir = '/users/hgmartin/libraries/quantmodel'"
   ]
  },
  {
   "cell_type": "markdown",
   "id": "0ee2a748",
   "metadata": {},
   "source": [
    "This is the only place where the jQMM library path needs to be set."
   ]
  },
  {
   "cell_type": "code",
   "execution_count": null,
   "id": "c0c36c1c",
   "metadata": {},
   "outputs": [],
   "source": [
    "%matplotlib inline\n",
    "\n",
    "import sys, os\n",
    "pythonPath = quantmodelDir+\"/code/core\"\n",
    "if pythonPath not in sys.path:\n",
    "    sys.path.append(pythonPath)\n",
    "os.environ[\"QUANTMODELPATH\"] = quantmodelDir\n",
    "\n",
    "dirFiles = os.environ[\"QUANTMODELPATH\"]+'/data/tests/Hagerty2014/'"
   ]
  },
  {
   "cell_type": "markdown",
   "id": "e892e7b1",
   "metadata": {},
   "source": [
    "Then, let's load all needed python packages:"
   ]
  },
  {
   "cell_type": "code",
   "execution_count": null,
   "id": "b5acf266",
   "metadata": {},
   "outputs": [],
   "source": [
    "%matplotlib inline\n",
    "import unittest, os, sys\n",
    "from IPython.display import SVG\n",
    "import ToyaData as TD\n",
    "import shelve\n",
    "import enhancedLists, GAMSclasses, FluxModels"
   ]
  },
  {
   "cell_type": "markdown",
   "id": "a660d8bb",
   "metadata": {},
   "source": [
    "And move to a scratch directory (to make things faster):"
   ]
  },
  {
   "cell_type": "markdown",
   "id": "5b9a0676",
   "metadata": {},
   "source": [
    "# General functions for input file generation"
   ]
  },
  {
   "cell_type": "markdown",
   "id": "d6679c3c",
   "metadata": {},
   "source": [
    "In this section, we define the functions needed to create the input files for the library.\n",
    "\n",
    "This first function creates input files for solving the Djikstra problem, which is not a standard $^{13}$C MFA problem:"
   ]
  },
  {
   "cell_type": "code",
   "execution_count": null,
   "id": "18fd2b25",
   "metadata": {},
   "outputs": [],
   "source": [
    "def DijkstraInputFiles2(transitionsFile1,transitionsFile2,feedAFile,feedBFile,feedCFile,feedDFile,fluxLimitsFile,ratios):\n",
    "    # Load carbon transitions \n",
    "    atomTransitionsA = enhancedLists.AtomTransitionList(transitionsFile1)\n",
    "    atomTransitionsB = enhancedLists.AtomTransitionList(transitionsFile1)\n",
    "    atomTransitionsC = enhancedLists.AtomTransitionList(transitionsFile2)\n",
    "    atomTransitionsD = enhancedLists.AtomTransitionList(transitionsFile2)\n",
    "    \n",
    "    # Add both feeds\n",
    "    ReacNetA = atomTransitionsA.getReactionNetwork('E. coli wt5h 13C MFA')\n",
    "    ReacNetA.addFeed(feedAFile)\n",
    "    ReacNetA.loadFluxBounds(fluxLimitsFile,measured=True)\n",
    "    ReacNetB = atomTransitionsB.getReactionNetwork('E. coli wt5h 13C MFA')\n",
    "    ReacNetB.addFeed(feedBFile)\n",
    "    ReacNetC = atomTransitionsC.getReactionNetwork('E. coli wt5h 13C MFA')\n",
    "    ReacNetC.addFeed(feedCFile)\n",
    "    ReacNetD = atomTransitionsD.getReactionNetwork('E. coli wt5h 13C MFA')\n",
    "    ReacNetD.addFeed(feedDFile)\n",
    "    \n",
    "    # Obtain input files from first feed\n",
    "    inputFiles = []\n",
    "    filesA = ReacNetA.getEMUfiles()\n",
    "    filesA.extend(ReacNetA.getStoichMetRxn13CFiles())\n",
    "    filesA.extend(ReacNetA.getSourceLabelFile())\n",
    "    \n",
    "    # Obtain source labeling file for second feed (all others are the same)\n",
    "    filesB = ReacNetB.getSourceLabelFile()\n",
    "    \n",
    "    # Obtain source labeling file for third and fourth feed\n",
    "    filesC = ReacNetC.getSourceLabelFile()\n",
    "    filesD = ReacNetD.getSourceLabelFile()\n",
    "    \n",
    "    # Obtain second emm file and change to EMM2\n",
    "    emm2files = ReacNetC.getEMUfiles()\n",
    "    for name,string in emm2files:\n",
    "        if 'emm_simplified' in name:\n",
    "            name   = name.replace(\"emm_simplified\",\"emm_simplified2\")\n",
    "            string = string.replace(\"EMM\",\"EMM2\")\n",
    "            inputFiles.append((name,string))\n",
    "            \n",
    "    # Obtain second set of metabolites\n",
    "    stoich2files = ReacNetC.getStoichMetRxn13CFiles()\n",
    "    for name,string in stoich2files:\n",
    "        if 'StoichNetwork' in name:\n",
    "            name = name.replace('StoichNetwork','StoichNetwork2')\n",
    "            string = string.replace(\"S(\",\"S2(\")\n",
    "            inputFiles.append((name,string))\n",
    "\n",
    "    # Change source labeling file for first feed \n",
    "    for name,string in filesA:\n",
    "        if 'Source_Labeling' not in name:\n",
    "            inputFiles.append((name,string))\n",
    "        else:\n",
    "            newName = 'Source_LabelingA.txt'\n",
    "            string = string.replace(\"f.fx\",\"fA.fx\")\n",
    "            inputFiles.append((newName,string))\n",
    "    \n",
    "    # Change source labeling file for others feed\n",
    "    \n",
    "    for fileList, tag in zip([filesB,filesC,filesD],['B','C','D']):\n",
    "        for name,string in fileList:\n",
    "            if 'Source_Labeling' in name:\n",
    "                newName = \"Source_Labeling\"+str(tag)+\".txt\"\n",
    "                string = string.replace(\"f.fx\",\"f\"+str(tag)+\".fx\")\n",
    "                inputFiles.append((newName,string))\n",
    "    \n",
    "    # Extra files that are needed \n",
    "    twelveset = ['0','1','2','3','4','5','6','7','8','9','10','11','12']\n",
    "    mset      =  GAMSclasses.GAMSSet('mset',set(twelveset))\n",
    "    nset      =  GAMSclasses.GAMSSet('nset',set(twelveset))\n",
    "\n",
    "    msetfilename = 'mset.txt'\n",
    "    msetSt = mset.write('toString')\n",
    "    nsetfilename = 'nset.txt'\n",
    "    nsetSt = nset.write('toString')\n",
    "\n",
    "    inputFiles.append((msetfilename,msetSt))\n",
    "    inputFiles.append((nsetfilename,nsetSt))\n",
    "    \n",
    "    # Add glucose and pyruvate ratios\n",
    "    ratioFile = 'ratios.txt'\n",
    "    lines = []\n",
    "    ratioGlc = ratios[0]\n",
    "    ratioPyr = ratios[1]\n",
    "    \n",
    "    lines.append('ratioGlu = '+str(ratioGlc)+';')\n",
    "    lines.append('ratioPyr = '+str(ratioPyr)+';')        \n",
    "    \n",
    "    inputFiles.append((ratioFile,'\\n'.join(lines)))\n",
    "    \n",
    "    return inputFiles"
   ]
  },
  {
   "cell_type": "markdown",
   "id": "72ee6ef3",
   "metadata": {},
   "source": [
    "This function is used to automatically create flux bounds files:"
   ]
  },
  {
   "cell_type": "code",
   "execution_count": null,
   "id": "7410036e",
   "metadata": {},
   "outputs": [],
   "source": [
    "def createFluxBoundsFile(r10s,r14s):\n",
    "    boundsFile = open('fluxBounds.txt','w')\n",
    "    boundsFile.write('r10:\t'+str(r10s[0])+' [==] '+str(r10s[1])+'\\n')\n",
    "    boundsFile.write('r14:\t'+str(r14s[0])+' [==] '+str(r14s[1])+'\\n')\n",
    "    boundsFile.close()"
   ]
  },
  {
   "cell_type": "markdown",
   "id": "00ef6475",
   "metadata": {},
   "source": [
    "This function finds the CUE (Carbon Use Efficieny) as per equation 12 in Dijkstra *et al* Soil Biology and Biochemistry 2011:"
   ]
  },
  {
   "cell_type": "code",
   "execution_count": null,
   "id": "d72bb946",
   "metadata": {},
   "outputs": [],
   "source": [
    "def findCUE(resultsDict):\n",
    "    CUEfluxes = [5,7,8,10]\n",
    "    co2Flux = 0\n",
    "    for key in sorted(resultsDict['Vout'].elements.keys(),key=lambda rname: int(rname[0].replace('r','')) ):\n",
    "        name = key[0]\n",
    "        fluxNumber = int(name.replace('r',''))\n",
    "        if fluxNumber in CUEfluxes:\n",
    "            co2Flux += resultsDict['Vout'].elements[key]\n",
    "            \n",
    "    CUE = (600 - co2Flux)/600\n",
    "    \n",
    "    return CUE"
   ]
  },
  {
   "cell_type": "markdown",
   "id": "00793c8d",
   "metadata": {},
   "source": [
    "This function takes the labeling ratios and does the full calculation to provide the CUE: "
   ]
  },
  {
   "cell_type": "code",
   "execution_count": null,
   "id": "d7f4274f",
   "metadata": {},
   "outputs": [],
   "source": [
    "def ratio2CUE(ratios):\n",
    "    # Get input Files\n",
    "    createFluxBoundsFile([0,100],[0,100])\n",
    "    inputFiles = DijkstraInputFiles2(dirFiles+'REACTIONSDijkstraGlu.txt',dirFiles+'REACTIONSDijkstraPyr.txt',\n",
    "                                     dirFiles+'FEEDgluA.txt',dirFiles+'FEEDgluB.txt',\n",
    "                                     dirFiles+'FEEDpyrA.txt',dirFiles+'FEEDpyrB.txt',dirFiles+'fluxBounds.txt',\n",
    "                                     ratios)    \n",
    "    \n",
    "    # Create GAMS problem\n",
    "    GAMSfileName = dirFiles+'Hagerty.gms'   # The gams files contains all the problem formulation as\n",
    "                                            # per Dijkstra et al 2011\n",
    "    outputFuncs = { 'fAout':(GAMSclasses.GAMSParameterFromResult,['fAout.txt','fAout']),\n",
    "                    'fBout':(GAMSclasses.GAMSParameterFromResult,['fBout.txt','fBout']),\n",
    "                    'fCout':(GAMSclasses.GAMSParameterFromResult,['fCout.txt','fBout']),\n",
    "                    'fDout':(GAMSclasses.GAMSParameterFromResult,['fDout.txt','fBout']),                \n",
    "                    'Vout' :(FluxModels.fluxParOut,['Vout.txt','Vout']),\n",
    "                    'Info' :(FluxModels.infoOut,['OFGenInfo.txt']),                \n",
    "                        }\n",
    "    GAMSInputFiles = inputFiles\n",
    "\n",
    "    GAMSprob       = GAMSclasses.GAMSProblem('Djkistra',GAMSfileName,GAMSInputFiles,outputFuncs,execType='serial')  \n",
    "    GAMSprob.erase = True\n",
    "    \n",
    "    # Solve GAMS problem\n",
    "    with GAMSprob as prob:\n",
    "        # Run problem\n",
    "        prob.run()\n",
    "\n",
    "        # Check if it is done\n",
    "        prob.waitTilDone()\n",
    "\n",
    "        # Collect data\n",
    "        prob.collect()\n",
    "        \n",
    "        # Output data \n",
    "        resultsDict = prob.Results \n",
    "        \n",
    "    # Find CUE and rest of output\n",
    "    CUE = findCUE(resultsDict)\n",
    "    \n",
    "    fitRatioGlu = resultsDict['fAout'].elements[('co2_c_1', '1')]/resultsDict['fBout'].elements[('co2_c_1', '1')]\n",
    "    fitRatioPyr = resultsDict['fCout'].elements[('co2_c_1', '1')]/resultsDict['fDout'].elements[('co2_c_1', '1')]\n",
    "    OF = resultsDict['Info'].OF\n",
    "    solve = resultsDict['Info'].solvestat\n",
    "    model = resultsDict['Info'].modelstat\n",
    "    \n",
    "    return CUE, [fitRatioGlu,fitRatioPyr], [OF, solve, model]"
   ]
  },
  {
   "cell_type": "markdown",
   "id": "5b87a105",
   "metadata": {},
   "source": [
    "# Application to Hagerty *et al* 2014 data"
   ]
  },
  {
   "cell_type": "markdown",
   "id": "2ac2b4ce",
   "metadata": {},
   "source": [
    "## Create input files"
   ]
  },
  {
   "cell_type": "markdown",
   "id": "bd3fed5a",
   "metadata": {},
   "source": [
    "Creating input files:"
   ]
  },
  {
   "cell_type": "code",
   "execution_count": null,
   "id": "748158ef",
   "metadata": {},
   "outputs": [],
   "source": [
    "createFluxBoundsFile([0,100],[0,100])\n",
    "ratios = [2.48,2.00]\n",
    "\n",
    "inputFiles = DijkstraInputFiles2(dirFiles+'REACTIONSDijkstraGlu.txt',dirFiles+'REACTIONSDijkstraPyr.txt',\n",
    "                                 dirFiles+'FEEDgluA.txt',dirFiles+'FEEDgluB.txt',\n",
    "                                 dirFiles+'FEEDpyrA.txt',dirFiles+'FEEDpyrB.txt',dirFiles+'fluxBounds.txt',\n",
    "                                 ratios)"
   ]
  },
  {
   "cell_type": "markdown",
   "id": "6238268f",
   "metadata": {},
   "source": [
    "## Create GAMS problem"
   ]
  },
  {
   "cell_type": "markdown",
   "id": "8b1562c7",
   "metadata": {},
   "source": [
    "Producing optimization problem in GAMS mode:"
   ]
  },
  {
   "cell_type": "code",
   "execution_count": null,
   "id": "8d87679f",
   "metadata": {},
   "outputs": [],
   "source": [
    "GAMSfileName = dirFiles+'Hagerty.gms'\n",
    "outputFuncs = { 'fAout':(GAMSclasses.GAMSParameterFromResult,['fAout.txt','fAout']),\n",
    "                'fBout':(GAMSclasses.GAMSParameterFromResult,['fBout.txt','fBout']),\n",
    "                'fCout':(GAMSclasses.GAMSParameterFromResult,['fCout.txt','fBout']),\n",
    "                'fDout':(GAMSclasses.GAMSParameterFromResult,['fDout.txt','fBout']),                \n",
    "                'Vout' :(FluxModels.fluxParOut,['Vout.txt','Vout']),\n",
    "                'Info' :(FluxModels.infoOut,['OFGenInfo.txt']),                \n",
    "                        }\n",
    "GAMSInputFiles = inputFiles"
   ]
  },
  {
   "cell_type": "code",
   "execution_count": null,
   "id": "9322ed17",
   "metadata": {},
   "outputs": [],
   "source": [
    "GAMSprob       = GAMSclasses.GAMSProblem('Djkistra',GAMSfileName,GAMSInputFiles,outputFuncs,execType='serial')  \n",
    "GAMSprob.erase = False"
   ]
  },
  {
   "cell_type": "markdown",
   "id": "3348c1cc",
   "metadata": {},
   "source": [
    "## Solve GAMS problem"
   ]
  },
  {
   "cell_type": "code",
   "execution_count": null,
   "id": "46278efb",
   "metadata": {},
   "outputs": [],
   "source": [
    "cd /scratch/hgmartin_scratch/tests"
   ]
  }
 ],
 "metadata": {},
 "nbformat": 4,
 "nbformat_minor": 5
}
