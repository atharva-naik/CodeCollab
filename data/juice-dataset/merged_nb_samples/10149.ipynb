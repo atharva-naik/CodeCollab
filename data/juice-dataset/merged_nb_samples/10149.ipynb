{
 "cells": [
  {
   "cell_type": "markdown",
   "id": "d7228bf4",
   "metadata": {},
   "source": [
    "# Eventador Brewery Example"
   ]
  },
  {
   "cell_type": "markdown",
   "id": "990143c7",
   "metadata": {},
   "source": [
    "For this example we will do some hypothetical brewery automation based on real time sensor data. Sensors on beer mash tuns gather the current temperature levels and produce it to the pipeline. The data is then aggregated in real-time in PipelineDB. This allows the brewer to monitor the temperature levels and ensure it's below a particular threshold for good beer. If it gets out of threshold an actuator can reduce or increase the temperature."
   ]
  },
  {
   "cell_type": "markdown",
   "id": "e3ba09b2",
   "metadata": {},
   "source": [
    "Every notebook has a suite of helper commands that make life easier. These helpers already understand your login creds, endpoints and context. They can be referenced with ```e.help()```"
   ]
  },
  {
   "cell_type": "code",
   "execution_count": null,
   "id": "4f9c572d",
   "metadata": {},
   "outputs": [],
   "source": [
    "e.help()"
   ]
  },
  {
   "cell_type": "markdown",
   "id": "0430ea78",
   "metadata": {},
   "source": [
    "### Inspect the data coming into the pipeline. Let's pull a few messages"
   ]
  },
  {
   "cell_type": "code",
   "execution_count": null,
   "id": "b5d13749",
   "metadata": {},
   "outputs": [],
   "source": [
    "for i in range(1, 10):\n",
    "    e.kfetch('defaultsink')"
   ]
  },
  {
   "cell_type": "markdown",
   "id": "6f6ffe91",
   "metadata": {},
   "source": [
    "### Display the continuous views we have (created as part of the getting started guide)"
   ]
  },
  {
   "cell_type": "code",
   "execution_count": null,
   "id": "4803b15f",
   "metadata": {},
   "outputs": [],
   "source": [
    "display(e.df(e.views))"
   ]
  },
  {
   "cell_type": "markdown",
   "id": "92a74a34",
   "metadata": {},
   "source": [
    "### Setup the SQL we will be running"
   ]
  },
  {
   "cell_type": "code",
   "execution_count": null,
   "id": "16dc1497",
   "metadata": {},
   "outputs": [],
   "source": [
    "sql = \"select * from brewery_sensor_temps\""
   ]
  },
  {
   "cell_type": "markdown",
   "id": "a12db145",
   "metadata": {},
   "source": [
    "### Test query the continuous view"
   ]
  },
  {
   "cell_type": "code",
   "execution_count": null,
   "id": "07c8ebea",
   "metadata": {},
   "outputs": [],
   "source": [
    "display(e.df(e.query(sql)))"
   ]
  },
  {
   "cell_type": "markdown",
   "id": "f544f175",
   "metadata": {},
   "source": [
    "### Tell us if temperatures are out of spec, page the brewmaster. The continuous view is the last 5 minutes of rolling temperature averages."
   ]
  },
  {
   "cell_type": "code",
   "execution_count": null,
   "id": "acb01e61",
   "metadata": {},
   "outputs": [],
   "source": [
    "import pandas as pd\n",
    "df = pd.DataFrame(e.query(sql))\n",
    "df['alert'] = False\n",
    "for index, row in df.iterrows():\n",
    "    if row.avg < 59 or row.avg > 62:\n",
    "       df.set_value(index, 'alert', True)\n",
    "       ''' perhaps we page the brewmaster\n",
    "           page_brewmaster(df['sensor'], df['avg'])\n",
    "       '''\n",
    "display(df)"
   ]
  },
  {
   "cell_type": "markdown",
   "id": "a243b5d5",
   "metadata": {},
   "source": [
    "### Adjust the temperature using controller API"
   ]
  },
  {
   "cell_type": "code",
   "execution_count": null,
   "id": "b18c3df7",
   "metadata": {},
   "outputs": [],
   "source": [
    "target_temp = 60\n",
    "df = pd.DataFrame(e.query(sql))\n",
    "for index, row in df.iterrows():\n",
    "    if row.avg < 59 or row.avg > 62:\n",
    "       delta = target_temp-row.avg\n",
    "       ''' throttle the heating equipment\n",
    "           element.set_target_adjust(delta)\n",
    "       '''\n",
    "       print \"need adjustment: element by {}\".format(delta)"
   ]
  },
  {
   "cell_type": "markdown",
   "id": "ae1687ac",
   "metadata": {},
   "source": [
    "### Watch the data stream in real time by sensor."
   ]
  },
  {
   "cell_type": "code",
   "execution_count": null,
   "id": "3458b577",
   "metadata": {},
   "outputs": [],
   "source": [
    "import time\n",
    "sql = \"select * from brewery_sensor_temps\"\n",
    "df = pd.DataFrame(e.query(sql))\n",
    "display(df)\n",
    "for i in range(1, 20):\n",
    "    u = pd.DataFrame(e.query(sql))\n",
    "    df.update(u)\n",
    "    clear_output()\n",
    "    display(df)\n",
    "    time.sleep(1)"
   ]
  },
  {
   "cell_type": "code",
   "execution_count": null,
   "id": "37d7bc0c",
   "metadata": {},
   "outputs": [],
   "source": [
    "sql = \"select * from brewery_sensor_temps\"\n",
    "df = pd.DataFrame(e.query(sql))\n",
    "display(df)"
   ]
  },
  {
   "cell_type": "markdown",
   "id": "2b48cda5",
   "metadata": {},
   "source": [
    "### Create a graph of temperatures by device over time"
   ]
  }
 ],
 "metadata": {},
 "nbformat": 4,
 "nbformat_minor": 5
}
