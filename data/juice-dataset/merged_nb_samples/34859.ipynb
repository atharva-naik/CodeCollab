{
 "cells": [
  {
   "cell_type": "markdown",
   "id": "e610dbd6",
   "metadata": {},
   "source": [
    "# Import Libraries"
   ]
  },
  {
   "cell_type": "code",
   "execution_count": null,
   "id": "402ca014",
   "metadata": {},
   "outputs": [],
   "source": [
    "import pandas as pd\n",
    "import numpy as np\n",
    "from collections import Counter"
   ]
  },
  {
   "cell_type": "markdown",
   "id": "7afaf377",
   "metadata": {},
   "source": [
    "# Import Data"
   ]
  },
  {
   "cell_type": "markdown",
   "id": "276ebf8b",
   "metadata": {},
   "source": [
    "Upload User Data "
   ]
  },
  {
   "cell_type": "code",
   "execution_count": null,
   "id": "72941de3",
   "metadata": {},
   "outputs": [],
   "source": [
    "users_path = ('/Users/ivettetapia 1/Symbolic Link Seagate Drive/Springboard/Capstone 1_Mus_Recomend/Data/msd_user_data.csv')\n",
    "\n",
    "users = pd.read_csv(users_path, na_values = 'NaN', index_col = 0)\n",
    "\n",
    "users.index.names = ['index']\n",
    "\n",
    "print(users.info())\n",
    "\n",
    "users.head()"
   ]
  },
  {
   "cell_type": "markdown",
   "id": "cb98005d",
   "metadata": {},
   "source": [
    "Upload Metadata Data"
   ]
  },
  {
   "cell_type": "code",
   "execution_count": null,
   "id": "c2ee01e6",
   "metadata": {},
   "outputs": [],
   "source": [
    "songs_path = ('/Users/ivettetapia 1/Symbolic Link Seagate Drive/Springboard/Capstone 1_Mus_Recomend/Data/msd_song_metadata.csv')\n",
    "\n",
    "songs = pd.read_csv(songs_path, na_values = 'NaN', index_col = 0)\n",
    "\n",
    "songs.index.names = ['index']\n",
    "\n",
    "print(songs.info())\n",
    "\n",
    "songs.head()"
   ]
  },
  {
   "cell_type": "markdown",
   "id": "ea1781cb",
   "metadata": {},
   "source": [
    "Upload Artist Tags"
   ]
  },
  {
   "cell_type": "code",
   "execution_count": null,
   "id": "403dfe6a",
   "metadata": {},
   "outputs": [],
   "source": [
    "# Upload Artist Tags \n",
    "\n",
    "tags_path = ('/Users/ivettetapia 1/Symbolic Link Seagate Drive/Springboard/Capstone 1_Mus_Recomend/Data/msd_tags.csv')\n",
    "\n",
    "tags_data = pd.read_csv(tags_path, index_col = 0, na_values = 'NaN',\n",
    "                        dtype = {0:'int', 1:'str',2:'str',3:'str'})\n",
    "\n",
    "tags_data.index.names = ['index']"
   ]
  },
  {
   "cell_type": "markdown",
   "id": "82373fa9",
   "metadata": {},
   "source": [
    "# Filter User Data"
   ]
  },
  {
   "cell_type": "markdown",
   "id": "fbc0e731",
   "metadata": {},
   "source": [
    "+ Remove users with less than five different song listens.\n",
    "+ Remove users with more than 1,750 song listens."
   ]
  },
  {
   "cell_type": "markdown",
   "id": "3e4b4818",
   "metadata": {},
   "source": [
    "**Remove and save users with less than five different song interactions**"
   ]
  },
  {
   "cell_type": "code",
   "execution_count": null,
   "id": "31ab3851",
   "metadata": {},
   "outputs": [],
   "source": [
    "threshold_count = 5\n",
    "\n",
    "c = Counter(users.user_id)\n",
    "\n",
    "relevant_items = [k for k, count in c.iteritems() if count > threshold_count]"
   ]
  },
  {
   "cell_type": "code",
   "execution_count": null,
   "id": "77bf713e",
   "metadata": {},
   "outputs": [],
   "source": [
    "# Least Interactions\n",
    "\n",
    "Counter(c).most_common()[-1]\n",
    "\n",
    "# The least interactions is 10. So at threshold 5, no users are removed."
   ]
  },
  {
   "cell_type": "code",
   "execution_count": null,
   "id": "80649751",
   "metadata": {},
   "outputs": [],
   "source": [
    "users_filtered = users.loc[users.user_id.isin(relevant_items), :]\n",
    "\n",
    "users_filtered.info()"
   ]
  },
  {
   "cell_type": "markdown",
   "id": "de53403b",
   "metadata": {},
   "source": [
    "**Remove users with more than 1,750 song listens**"
   ]
  },
  {
   "cell_type": "code",
   "execution_count": null,
   "id": "4f1f4173",
   "metadata": {},
   "outputs": [],
   "source": [
    "#Average song duration in minutes\n",
    "\n",
    "print('Average Song Duration:', np.mean(songs.duration)/60)\n",
    "\n",
    "# Listens an user can do in 24 hrs without interruptions. \n",
    "\n",
    "min_day = 60*24 # minutes in a day\n",
    "\n",
    "days = 10 #days of user listening represented in the dataset\n",
    "\n",
    "print('Max User Listening Per Day Estimate:', min_day/(np.mean(songs.duration)/60))\n",
    "\n",
    "# Listens an user can do over ten days WITHOUT INTERRUPTION\n",
    "\n",
    "days = 10 #days of user listening represented in the dataset\n",
    "\n",
    "print('Max User Un-interrupted Listening in Ten Days Estimate:', days*(min_day/(np.mean(songs.duration)/60)))\n"
   ]
  },
  {
   "cell_type": "markdown",
   "id": "4de55901",
   "metadata": {},
   "source": [
    "In my opinion, users with more than 12hrs of un-interrupted listening over 10 days should be investigated further.\n",
    "\n",
    "\n",
    "These will be users with more than 1,750 listens. It is highly unlikely a 'typical' user will behave this way, also it is physically unlikely. I will eliminate these users from the dataset."
   ]
  },
  {
   "cell_type": "code",
   "execution_count": null,
   "id": "577eff3f",
   "metadata": {},
   "outputs": [],
   "source": [
    "users_grouped = users.groupby('user_id').sum()\n",
    "\n",
    "users_grouped = users_grouped[users_grouped['play_count'] > 1749]\n",
    "\n",
    "users_grouped.info()"
   ]
  },
  {
   "cell_type": "code",
   "execution_count": null,
   "id": "f969a808",
   "metadata": {},
   "outputs": [],
   "source": [
    "users_filtered[users_filtered['user_id'] != users_grouped['user_id']]"
   ]
  },
  {
   "cell_type": "markdown",
   "id": "edbd4ae6",
   "metadata": {},
   "source": [
    "# Create User-Song Matrix"
   ]
  },
  {
   "cell_type": "markdown",
   "id": "6229bf71",
   "metadata": {},
   "source": [
    "Merge song and user data to create 'relationships' between users and items."
   ]
  },
  {
   "cell_type": "code",
   "execution_count": null,
   "id": "9d11c16a",
   "metadata": {},
   "outputs": [],
   "source": [
    "%time\n",
    "\n",
    "#Merge user matrix with song matrix. Use keys from left df to match.\n",
    "\n",
    "user_song_matrix = songs.merge(users, on='song_id', how = 'outer')\n",
    "\n",
    "#Based in exploratory analysis, some songs will have no interactions at all."
   ]
  },
  {
   "cell_type": "markdown",
   "id": "34fbc2d6",
   "metadata": {},
   "source": [
    "Replace missing values with zeroes in the play count and play."
   ]
  },
  {
   "cell_type": "code",
   "execution_count": null,
   "id": "33d40314",
   "metadata": {},
   "outputs": [],
   "source": [
    "#Replace missing values with zeroes in the play indicator and play counts.\n",
    "\n",
    "user_song_matrix[['play','play_count']] = user_song_matrix[['play','play_count']].fillna(0)\n",
    "\n",
    "#Reset index\n",
    "\n",
    "user_song_matrix.reset_index()\n",
    "\n",
    "user_song_matrix.head()"
   ]
  },
  {
   "cell_type": "markdown",
   "id": "16ced4ac",
   "metadata": {},
   "source": [
    "# Drop Unneded Columns"
   ]
  },
  {
   "cell_type": "code",
   "execution_count": null,
   "id": "32681805",
   "metadata": {},
   "outputs": [],
   "source": [
    "user_song_matrix.info()"
   ]
  },
  {
   "cell_type": "code",
   "execution_count": null,
   "id": "1219243f",
   "metadata": {},
   "outputs": [],
   "source": [
    "user_song_matrix.drop(labels = ['artist_7digitalid','artist_latitude','artist_location','artist_longitude',\n",
    "                                'artist_mbid','artist_playmeid','idx_artist_terms','idx_similar_artists',\n",
    "                                'release_7digitalid','track_7digitalid','analysis_sample_rate',\n",
    "                                'audio_md5','danceability','energy','end_of_fade_in','idx_bars_confidence',\n",
    "                                'idx_bars_start','idx_beats_confidence','idx_sections_start',\n",
    "                                'idx_segments_confidence','idx_segments_loudness_max',\n",
    "                                'idx_segments_loudness_max_time','idx_segments_loudness_start',\n",
    "                                'idx_segments_pitches','idx_segments_start','idx_segments_timbre',\n",
    "                                'idx_tatums_confidence','idx_tatums_start','key_confidence','mode_confidence',\n",
    "                                'start_of_fade_out','time_signature_confidence','track_id','idx_artist_mbtags',\n",
    "                                'idx_beats_start','idx_sections_confidence'], axis = 1,inplace = True)"
   ]
  },
  {
   "cell_type": "markdown",
   "id": "dd24b7b7",
   "metadata": {},
   "source": [
    "# Randomly shuffle data"
   ]
  },
  {
   "cell_type": "markdown",
   "id": "67b38ae0",
   "metadata": {},
   "source": [
    "The data comes ordered by song and users. Shuffle this order."
   ]
  },
  {
   "cell_type": "code",
   "execution_count": null,
   "id": "b18b7ade",
   "metadata": {},
   "outputs": [],
   "source": [
    "user_song_matrix = user_song_matrix.sample(frac=1).reset_index(drop=True)"
   ]
  },
  {
   "cell_type": "markdown",
   "id": "70a2aede",
   "metadata": {},
   "source": [
    "# Output User - Song Matrix to CSV"
   ]
  }
 ],
 "metadata": {},
 "nbformat": 4,
 "nbformat_minor": 5
}
