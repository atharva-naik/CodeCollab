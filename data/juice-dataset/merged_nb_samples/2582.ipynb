{
 "cells": [
  {
   "cell_type": "code",
   "execution_count": null,
   "id": "56a9a531",
   "metadata": {},
   "outputs": [],
   "source": [
    "df['zip'].value_counts().head(5)"
   ]
  },
  {
   "cell_type": "markdown",
   "id": "a9c178f9",
   "metadata": {},
   "source": [
    "** What are the top 5 townships (twp) for 911 calls? **"
   ]
  },
  {
   "cell_type": "code",
   "execution_count": null,
   "id": "1e13a643",
   "metadata": {},
   "outputs": [],
   "source": [
    "df['twp'].value_counts().head(5)"
   ]
  },
  {
   "cell_type": "markdown",
   "id": "17972af1",
   "metadata": {},
   "source": [
    "** Take a look at the 'title' column, how many unique title codes are there? **"
   ]
  },
  {
   "cell_type": "code",
   "execution_count": null,
   "id": "5ed387bc",
   "metadata": {},
   "outputs": [],
   "source": [
    "df['title'].nunique()"
   ]
  },
  {
   "cell_type": "markdown",
   "id": "e8a8e517",
   "metadata": {},
   "source": [
    "## Creating new features"
   ]
  },
  {
   "cell_type": "markdown",
   "id": "b67ffde9",
   "metadata": {},
   "source": [
    "** In the titles column there are \"Reasons/Departments\" specified before the title code. These are EMS, Fire, and Traffic. Use .apply() with a custom lambda expression to create a new column called \"Reason\" that contains this string value.** \n",
    "\n",
    "**For example, if the title column value is EMS: BACK PAINS/INJURY , the Reason column value would be EMS. **"
   ]
  },
  {
   "cell_type": "code",
   "execution_count": null,
   "id": "2028b67c",
   "metadata": {},
   "outputs": [],
   "source": [
    "df['Reason'] = df['title'].apply(lambda s: s.split(':')[0])\n",
    "df['Reason'].unique()"
   ]
  },
  {
   "cell_type": "markdown",
   "id": "f9574cbc",
   "metadata": {},
   "source": [
    "**<font color='green'>Added:</font> Are there causes that are transversal to Reasons (i.e. appear in different Reason categories)?**"
   ]
  },
  {
   "cell_type": "code",
   "execution_count": null,
   "id": "49ded3a4",
   "metadata": {},
   "outputs": [],
   "source": [
    "df['Cause'] = df['title'].apply(lambda s: s.split(':')[1])\n",
    "df['Cause'].nunique()"
   ]
  },
  {
   "cell_type": "code",
   "execution_count": null,
   "id": "0902a349",
   "metadata": {},
   "outputs": [],
   "source": [
    "# Define function that returns the number of reason a cause is present\n",
    "def howManyReasons(a,df):\n",
    "    x = df.loc[df['Cause']==a,'Reason'].nunique()\n",
    "    return x"
   ]
  },
  {
   "cell_type": "code",
   "execution_count": null,
   "id": "fc2ad318",
   "metadata": {},
   "outputs": [],
   "source": [
    "# Define function that returns the number of reason a cause is present\n",
    "def whichReasons(a,df):\n",
    "    x = df.loc[df['Cause']==a,'Reason'].unique()\n",
    "    return x"
   ]
  },
  {
   "cell_type": "code",
   "execution_count": null,
   "id": "4ba190d4",
   "metadata": {},
   "outputs": [],
   "source": [
    "newdf = df[['Reason','Cause']]\n",
    "causes = pd.DataFrame(dict(Cause=newdf['Cause'].unique())) #convert unique() to dataFrame so that .apply() can be used\n",
    "causes['Nb Reasons'] = causes['Cause'].apply(howManyReasons, df=newdf)\n",
    "causes['Reasons'] = causes['Cause'].apply(whichReasons, df=newdf)"
   ]
  },
  {
   "cell_type": "code",
   "execution_count": null,
   "id": "171b0367",
   "metadata": {},
   "outputs": [],
   "source": [
    "causes.set_index('Cause').sort_values(by='Nb Reasons',ascending=False)"
   ]
  },
  {
   "cell_type": "markdown",
   "id": "9adf7101",
   "metadata": {},
   "source": [
    "<font color='green'>**Or try with group by:**</font> _(better option)_"
   ]
  }
 ],
 "metadata": {},
 "nbformat": 4,
 "nbformat_minor": 5
}
