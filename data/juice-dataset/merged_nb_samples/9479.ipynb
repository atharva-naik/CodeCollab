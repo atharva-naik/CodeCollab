{
 "cells": [
  {
   "cell_type": "markdown",
   "id": "28abf111",
   "metadata": {},
   "source": [
    "# Youtube URL Analysis"
   ]
  },
  {
   "cell_type": "code",
   "execution_count": null,
   "id": "a5d378cc",
   "metadata": {},
   "outputs": [],
   "source": [
    "import psycopg2\n",
    "import pandas as pd\n",
    "import config\n",
    "from matplotlib import pylab as plt\n",
    "import seaborn as sns\n",
    "import numpy as np\n",
    "from IPython.display import display, HTML\n",
    "import re\n",
    "from urllib.parse import parse_qs,urlparse\n",
    "\n",
    "#color_palette = sns.color_palette(palette='muted', n_colors=None, desat=.75)\n",
    "#sns.set(context='notebook', palette=color_palette, style='whitegrid', font='sans-serif', font_scale=1.5, color_codes=False, rc=None)\n",
    "pd.set_option('display.max_colwidth', -1)\n",
    "table_styles = [{'selector': 'td',\n",
    "                 'props': [('min-width', '100px'), ('text-align', 'center')]},\n",
    "                {'selector': 'tr',\n",
    "                 'props': [('border-bottom', '1px dotted black')]},\n",
    "                {'selector': 'th',\n",
    "                 'props': [('text-align', 'center')]}\n",
    "               ]\n",
    "\n",
    "%matplotlib inline\n",
    "\n",
    "directory = \"url_top_lists/\"\n",
    "stream = \"comparison\""
   ]
  },
  {
   "cell_type": "code",
   "execution_count": null,
   "id": "84b0b885",
   "metadata": {},
   "outputs": [],
   "source": [
    "conn = None\n",
    "try:\n",
    "    # read connection parameters\n",
    "    paramsS17 = config.cfgAzureS17()\n",
    "    paramsS03 = config.cfgAzureS03()\n",
    "\n",
    "    paramsF17 = config.cfgAzureF17()\n",
    "    paramsF03 = config.cfgAzureF03()\n",
    "    \n",
    "    # connect to the PostgreSQL server\n",
    "    print('Connecting to the PostgreSQL database...')\n",
    "    connS17 = psycopg2.connect(**paramsS17)\n",
    "    connS03 = psycopg2.connect(**paramsS03)\n",
    "    \n",
    "    connF17 = psycopg2.connect(**paramsF17)\n",
    "    connF03 = psycopg2.connect(**paramsF03)\n",
    "\n",
    "    # create a cursor\n",
    "    curS17 = connS17.cursor()\n",
    "    curS03 = connS03.cursor()\n",
    "    \n",
    "    curF17 = connF17.cursor()\n",
    "    curF03 = connF03.cursor()\n",
    "\n",
    "    # execute a statement\n",
    "    print('PostgreSQL database version:')\n",
    "    \n",
    "    curS17.execute('SELECT version()')\n",
    "    curS03.execute('SELECT version()')\n",
    "    curF17.execute('SELECT version()')\n",
    "    curF03.execute('SELECT version()')\n",
    "    \n",
    "    # display the PostgreSQL database server version\n",
    "    db_version_curS17 = curS17.fetchone()\n",
    "    db_version_curS03 = curS03.fetchone()\n",
    "    db_version_curF17 = curF17.fetchone()\n",
    "    db_version_curF03 = curF03.fetchone()\n",
    "    \n",
    "    print(db_version_curS17)\n",
    "    print(db_version_curS03)\n",
    "    print(db_version_curF17)\n",
    "    print(db_version_curF03)\n",
    "\n",
    "    # close the communication with the PostgreSQL\n",
    "    curS17.close()\n",
    "    curS03.close()\n",
    "    curF17.close()\n",
    "    curF03.close()\n",
    "\n",
    "except (Exception, psycopg2.DatabaseError) as error:\n",
    "    print(error)"
   ]
  },
  {
   "cell_type": "markdown",
   "id": "30b18838",
   "metadata": {},
   "source": [
    "## Util Methods"
   ]
  },
  {
   "cell_type": "code",
   "execution_count": null,
   "id": "0f644a1e",
   "metadata": {},
   "outputs": [],
   "source": [
    "def compareRows(row, df_to_compare, column_name):\n",
    "    comparison_row = df_to_compare.loc[df_to_compare[column_name] == row[column_name]]\n",
    "    if comparison_row.empty:\n",
    "        comparison = \" - \"\n",
    "    else:\n",
    "        percentage_dif = row['percentage'] - comparison_row['percentage'].values[0]\n",
    "        difference = \"(%s. / %.3f%% / %.3f%%)\" % (comparison_row['rank'].values[0], comparison_row['percentage'].values[0], percentage_dif)\n",
    "        if comparison_row['rank'].values[0] == row['rank']:\n",
    "            comparison = \" = <br>\" + difference\n",
    "        else:\n",
    "            if comparison_row['rank'].values[0] > row['rank']:\n",
    "                comparison = \" v <br>\" + difference\n",
    "            else:\n",
    "                comparison = \" ^ <br>\" + difference\n",
    "    return comparison\n",
    "\n",
    "def getOpacity(val):\n",
    "    value = abs(float(re.findall(r\"[-+]?\\d*\\.\\d+|\\d+\", val.split(\"/\")[2])[0]))\n",
    "    if value < 0.005:\n",
    "        return 1\n",
    "    if value < 0.01:\n",
    "        return 0.95\n",
    "    if value < 0.05:\n",
    "        return 0.8\n",
    "    if value < 0.1:\n",
    "        return 0.7\n",
    "    if value < 0.5:\n",
    "        return 0.6\n",
    "    if value < 1:\n",
    "        return 0.5\n",
    "    if value < 10:\n",
    "        return 0.3\n",
    "    if value < 40:\n",
    "        return 0.2\n",
    "    if value < 80:\n",
    "        return 0.1\n",
    "    if value < 100:\n",
    "        return 0.05\n",
    "\n",
    "def colorComparisonField(val):\n",
    "    \n",
    "    if isinstance(val, str):\n",
    "        if ' ^ ' in val or ' v ' in val:\n",
    "            return 'background-color: rgba(246, 185, 59, %s)' %getOpacity(val)\n",
    "        if ' = ' in val:\n",
    "            return 'background-color: rgba(184, 233, 148, %s)' %getOpacity(val)\n",
    "        if ' - ' in val and len(val) == 3:\n",
    "            return 'background-color: #e55039' \n",
    "    return ''\n",
    "\n",
    "def generateRankingDataframe(series, attribute_name):\n",
    "    size = series.sum()\n",
    "    rank = []\n",
    "    parameter = []\n",
    "    count = []\n",
    "    percentage = []\n",
    "\n",
    "    i = 1\n",
    "    for index, value in series.iteritems():\n",
    "        rank.append(i)\n",
    "        parameter.append(index)\n",
    "        count.append(value)\n",
    "        percentage.append((value/size)*100)\n",
    "        i += 1\n",
    "\n",
    "    data = {'rank': rank, attribute_name: parameter, 'value': count, 'percentage': percentage}\n",
    "    return pd.DataFrame(data=data)\n",
    "\n",
    "def generateComparisonDataframes(df1, df2, column_name, size):\n",
    "    compare_list = []\n",
    "    for index, row in df1.iterrows():\n",
    "        if row['rank'] <= size:\n",
    "            compare_list.append(compareRows(row, df2, column_name))\n",
    "\n",
    "    data = {'rank': df1['rank'][:size], column_name: df1[column_name][:size], 'value': df1['value'][:size], 'percentage': df1['percentage'][:size],\n",
    "            'difference (rank / percentage / diff)': compare_list}\n",
    "    \n",
    "    df1_compared = pd.DataFrame(data=data)\n",
    "    df1_compared.set_index(keys='rank', inplace=True)\n",
    "    \n",
    "    compare_list = []\n",
    "    for index, row in df2.iterrows():\n",
    "        if row['rank'] <= size:\n",
    "            compare_list.append(compareRows(row, df1, column_name))\n",
    "\n",
    "    data = {'rank': df2['rank'][:size], column_name: df2[column_name][:size], 'value': df2['value'][:size], 'percentage': df2['percentage'][:size],\n",
    "            'difference (rank / percentage / diff)': compare_list}\n",
    "    \n",
    "    df2_compared = pd.DataFrame(data=data)\n",
    "    df2_compared.set_index(keys='rank', inplace=True)\n",
    "    \n",
    "    return df1_compared, df2_compared\n",
    "\n",
    "def getPrettyComparisonDataframe(df, title):\n",
    "    s = df.style.applymap(colorComparisonField)\n",
    "    s.set_caption(title)\n",
    "    s.set_table_styles(table_styles)\n",
    "    return s"
   ]
  },
  {
   "cell_type": "markdown",
   "id": "476cc1b4",
   "metadata": {},
   "source": [
    "## Query URLs - Sampled"
   ]
  },
  {
   "cell_type": "code",
   "execution_count": null,
   "id": "f58eedd8",
   "metadata": {},
   "outputs": [],
   "source": [
    "urlsS03 = pd.read_sql_query(\"SELECT * FROM tweets_urls;\", connS03 )\n",
    "print(\"# of URLs sampled 03: %s\" %len(urlsS03))\n",
    "\n",
    "urlsS17 = pd.read_sql_query(\"SELECT * FROM tweets_urls;\", connS17 )\n",
    "print(\"# of URLs sampled 17: %s\" %len(urlsS17))\n",
    "\n",
    "urlsS = urlsS17.append(urlsS03)\n",
    "print(\"# of URLs sampled: %s\" %len(urlsS))\n",
    "\n",
    "urlsS.head()"
   ]
  },
  {
   "cell_type": "markdown",
   "id": "5108ca89",
   "metadata": {},
   "source": [
    "## Query URLs - Filtered"
   ]
  },
  {
   "cell_type": "code",
   "execution_count": null,
   "id": "d21f078c",
   "metadata": {},
   "outputs": [],
   "source": [
    "urlsF03 = pd.read_sql_query(\"SELECT * FROM tweets_urls;\", connF03 )\n",
    "print(\"# of URLs filtered 03: %s\" %len(urlsF03))\n",
    "\n",
    "urlsF17 = pd.read_sql_query(\"SELECT * FROM tweets_urls;\", connF17 )\n",
    "print(\"# of URLs filtered 17: %s\" %len(urlsF17))\n",
    "\n",
    "urlsF = urlsF17.append(urlsF03)\n",
    "print(\"# of URLs filtered: %s\" %len(urlsF))\n",
    "\n",
    "urlsF.head()"
   ]
  },
  {
   "cell_type": "markdown",
   "id": "91223b7f",
   "metadata": {},
   "source": [
    "## Merged URLs"
   ]
  },
  {
   "cell_type": "code",
   "execution_count": null,
   "id": "c1cc3ee3",
   "metadata": {},
   "outputs": [],
   "source": [
    "urls = urlsS.append(urlsF)\n",
    "\n",
    "print(\"# of URLs merged: %s\" %len(urls))"
   ]
  },
  {
   "cell_type": "markdown",
   "id": "7d4627d7",
   "metadata": {},
   "source": [
    "## Dataframes"
   ]
  },
  {
   "cell_type": "markdown",
   "id": "8fd48c39",
   "metadata": {},
   "source": [
    "### Youtube URLs from merged Filtered and Sampled Datasets - Dataframe"
   ]
  },
  {
   "cell_type": "code",
   "execution_count": null,
   "id": "29ba15ec",
   "metadata": {},
   "outputs": [],
   "source": [
    "youtube_urls = urls[urls['top_level_domain'] == 'youtube.com']\n",
    "print(\"# of URLs in Dataframe: %s\" %len(youtube_urls))"
   ]
  },
  {
   "cell_type": "markdown",
   "id": "27b3e5ff",
   "metadata": {},
   "source": [
    "### Unique Youtube URLs from merged Filtered and Sampled Datasets - Series"
   ]
  },
  {
   "cell_type": "code",
   "execution_count": null,
   "id": "6ba771af",
   "metadata": {},
   "outputs": [],
   "source": [
    "unique_youtube_urls = youtube_urls['resolved_url'].unique()\n",
    "print(\"# of unique URLs in Dataframe: %s\" %len(unique_youtube_urls))"
   ]
  },
  {
   "cell_type": "code",
   "execution_count": null,
   "id": "e5e6a6b2",
   "metadata": {},
   "outputs": [],
   "source": [
    "len(youtube_urls['resolved_url'].unique())"
   ]
  },
  {
   "cell_type": "markdown",
   "id": "b4fbc286",
   "metadata": {},
   "source": [
    "## Youtube Link Types\n"
   ]
  },
  {
   "cell_type": "code",
   "execution_count": null,
   "id": "b5822742",
   "metadata": {},
   "outputs": [],
   "source": [
    "\n",
    "path_list = []\n",
    "field_list = []\n",
    "\n",
    "for url in unique_youtube_urls:\n",
    "    parsed_url = urlparse(url)\n",
    "    parsed_query = parse_qs(parsed_url.query)\n",
    "    \n",
    "    path_list.append(parsed_url.path.split(\"/\")[1])\n",
    "\n",
    "    #print(parsed_url)\n",
    "    #print(parsed_query)\n",
    "    for field in parsed_query.keys():\n",
    "        field_list.append(field)\n",
    "        #print(field)\n",
    "        \n",
    "\n",
    "    "
   ]
  },
  {
   "cell_type": "markdown",
   "id": "ead5de56",
   "metadata": {},
   "source": [
    "### Count by Path (youtube.com/{path}/ ... )"
   ]
  },
  {
   "cell_type": "code",
   "execution_count": null,
   "id": "9d4613cc",
   "metadata": {},
   "outputs": [],
   "source": [
    "path_series = pd.Series(np.array(path_list))\n",
    "print(\"# of different path types: %s\" %len(path_series.value_counts()))\n",
    "\n",
    "print(\"\\n\\n#count\", \"#path\\n\", sep=\"\\t\")\n",
    "for path, count in path_series.value_counts().iteritems():\n",
    "    print(count, path, sep=\"\\t\")"
   ]
  },
  {
   "cell_type": "markdown",
   "id": "b85039d7",
   "metadata": {},
   "source": [
    "### Count by Query Fields (youtube.com/watch?{field}={parameter} )"
   ]
  },
  {
   "cell_type": "code",
   "execution_count": null,
   "id": "2ac7502e",
   "metadata": {},
   "outputs": [],
   "source": [
    "field_series = pd.Series(np.array(field_list))\n",
    "print(\"# of different query fields: %s\" %len(field_series.value_counts()))\n",
    "\n",
    "\n",
    "\n",
    "print(\"\\n\\n#count\", \"#field\\n\", sep=\"\\t\")\n",
    "for field, count in field_series.value_counts().iteritems():\n",
    "    print(count, field, sep=\"\\t\")"
   ]
  },
  {
   "cell_type": "markdown",
   "id": "6be6eb97",
   "metadata": {},
   "source": [
    "## Top Links"
   ]
  }
 ],
 "metadata": {},
 "nbformat": 4,
 "nbformat_minor": 5
}
