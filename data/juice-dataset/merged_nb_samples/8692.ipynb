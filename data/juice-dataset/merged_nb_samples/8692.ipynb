{
 "cells": [
  {
   "cell_type": "code",
   "execution_count": null,
   "id": "d7e013f4",
   "metadata": {},
   "outputs": [],
   "source": [
    "# Trying to see if multiple displays will plot\n",
    "from IPython.core.interactiveshell import InteractiveShell\n",
    "InteractiveShell.ast_node_interactivity = \"all\""
   ]
  },
  {
   "cell_type": "markdown",
   "id": "d91ef7fc",
   "metadata": {},
   "source": [
    "###### Helpers"
   ]
  },
  {
   "cell_type": "code",
   "execution_count": null,
   "id": "8501f727",
   "metadata": {},
   "outputs": [],
   "source": [
    "def cv2mpl(frame, color=False):\n",
    "    \"\"\"Helper function to convert a BGR img to RGB and display using Matplotlib.\n",
    "    color (cv.COLOR_)\n",
    "        cv.COLOR_BGR2RGB for normal webcam photos\n",
    "        cv.COLOR_BGR2GRAY for normal to grey\n",
    "        cv.COLOR_GRAY2RGB for grey to image\n",
    "    \"\"\"\n",
    "    final_frame = cv.cvtColor(frame, color) if color else frame\n",
    "    fig = imshow(final_frame)\n",
    "    return fig\n",
    "\n",
    "    \n",
    "def crop_photo(frame, dim):\n",
    "    \"\"\"Helper function to crop a photo from given dimensions.\"\"\"\n",
    "    x,y,w,h = dim\n",
    "    return frame[y:y+h, x:x+w]\n",
    "\n",
    "\n",
    "def get_left_eye(eyes):\n",
    "    \"\"\"Helper function to get the left eye.\n",
    "    Eyes: n * [x, y, w, h] for each eye detected in photo.\"\"\"\n",
    "    left_idx, left_val = -1, float('inf')\n",
    "    \n",
    "    for idx, val in enumerate(eyes):\n",
    "        if val[0] < left_val:\n",
    "            left_val = val[0]\n",
    "            left_idx = idx\n",
    "    \n",
    "    return eyes[left_idx]\n",
    "\n",
    "\n",
    "def draw_circle(frame, x, y, radius):\n",
    "    img_copy = frame.copy()\n",
    "    cv.circle(img_copy, (int(x), int(y)), radius, (255,255,255))\n",
    "    return img_copy"
   ]
  },
  {
   "cell_type": "markdown",
   "id": "4bb7ea7c",
   "metadata": {},
   "source": [
    "---"
   ]
  },
  {
   "cell_type": "markdown",
   "id": "aa0adbad",
   "metadata": {},
   "source": [
    "###### Classifiers"
   ]
  },
  {
   "cell_type": "code",
   "execution_count": null,
   "id": "c4819a7d",
   "metadata": {},
   "outputs": [],
   "source": [
    "face_clf = cv.CascadeClassifier('pysight/models/haarcascade_frontalface_alt.xml')\n",
    "eyes_clf = cv.CascadeClassifier('pysight/models/haarcascade_eye.xml')"
   ]
  },
  {
   "cell_type": "markdown",
   "id": "62e95cc4",
   "metadata": {},
   "source": [
    "##### Preprocessing"
   ]
  },
  {
   "cell_type": "code",
   "execution_count": null,
   "id": "a0b7cbf5",
   "metadata": {},
   "outputs": [],
   "source": [
    "%ls -1 tests/test_imgs/"
   ]
  },
  {
   "cell_type": "code",
   "execution_count": null,
   "id": "b1d5c6ee",
   "metadata": {},
   "outputs": [],
   "source": [
    "test_img = cv.imread('tests/test_imgs/webcam-single-01.png') #00.jpg\n",
    "\n",
    "print (\"orig dim:\\t{}\".format(test_img.shape))\n",
    "\n",
    "test_img_proc_scale = pysight.Camera().process(test_img, 2)\n",
    "test_img_proc_nscale = pysight.Camera().process(test_img, 1)\n",
    "\n",
    "print (\"proc scale dim:\\t{}\".format(test_img_proc_scale.shape))\n",
    "print (\"proc NO scale dim:\\t{}\".format(test_img_proc_nscale.shape))\n",
    "\n",
    "\n",
    "# Regular image\n",
    "#cv2mpl(test_img, cv.COLOR_BGR2RGB) \n",
    "\n",
    "# Greyscale image\n",
    "#cv2mpl(test_img_proc_scale, cv.COLOR_GRAY2RGB)"
   ]
  },
  {
   "cell_type": "markdown",
   "id": "a7d301fd",
   "metadata": {},
   "source": [
    "Test our face classifier"
   ]
  },
  {
   "cell_type": "code",
   "execution_count": null,
   "id": "4ec95d4e",
   "metadata": {},
   "outputs": [],
   "source": [
    "faces = face_clf.detectMultiScale(test_img_proc_nscale, scaleFactor=1.03, minNeighbors=5, flags=0, minSize=(30, 30))\n",
    "print (faces)\n",
    "\n",
    "test_face = crop_photo(test_img_proc_nscale, faces[0])\n",
    "cv2mpl(test_face, cv.COLOR_GRAY2RGB)"
   ]
  },
  {
   "cell_type": "markdown",
   "id": "62531a33",
   "metadata": {},
   "source": [
    "Eyes Classifier"
   ]
  }
 ],
 "metadata": {},
 "nbformat": 4,
 "nbformat_minor": 5
}
