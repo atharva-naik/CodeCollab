{
 "cells": [
  {
   "cell_type": "code",
   "execution_count": null,
   "id": "9b9d32b1",
   "metadata": {},
   "outputs": [],
   "source": [
    "import numpy as np\n",
    "import scipy.stats as stats\n",
    "import seaborn as sns\n",
    "import matplotlib.pyplot as plt\n",
    "import pandas as pd\n",
    "\n",
    "sns.set_style('darkgrid')\n",
    "\n",
    "%config InlineBackend.figure_format = 'retina'\n",
    "%matplotlib inline"
   ]
  },
  {
   "cell_type": "markdown",
   "id": "8ced3294",
   "metadata": {},
   "source": [
    "<a id='load_data'></a>\n",
    "\n",
    "### 1. Load the data\n",
    "\n",
    "---\n",
    "\n",
    "Import the csv into a pandas DataFrame."
   ]
  },
  {
   "cell_type": "code",
   "execution_count": null,
   "id": "67444139",
   "metadata": {},
   "outputs": [],
   "source": [
    "boston_file = './datasets/housing.csv'\n",
    "bf = pd.read_csv(boston_file)\n",
    "bf.head()"
   ]
  },
  {
   "cell_type": "code",
   "execution_count": null,
   "id": "70243d3c",
   "metadata": {},
   "outputs": [],
   "source": [
    "# A:\n",
    "bf.columns"
   ]
  },
  {
   "cell_type": "markdown",
   "id": "6b9c1857",
   "metadata": {},
   "source": [
    "<a id='header'></a>\n",
    "\n",
    "### 2. Describe the basic format of the data and the columns\n",
    "\n",
    "---\n",
    "\n",
    "Use the `.head()` function (and optionally pass in an integer for the number of rows you want to see) to examine what the loaded data looks like. This is a good initial step to get a feel for what is in the csv and what problems may be present.\n",
    "\n",
    "The `.dtypes` attribute tells you the data type for each of your columns."
   ]
  },
  {
   "cell_type": "code",
   "execution_count": null,
   "id": "215d24c1",
   "metadata": {},
   "outputs": [],
   "source": [
    "# Print out the first 8 rows:\n",
    "bf.head(8)"
   ]
  },
  {
   "cell_type": "code",
   "execution_count": null,
   "id": "c9675985",
   "metadata": {},
   "outputs": [],
   "source": [
    "# Look at the dtypes of the columns:\n",
    "bf.dtypes"
   ]
  },
  {
   "cell_type": "code",
   "execution_count": null,
   "id": "69e68057",
   "metadata": {},
   "outputs": [],
   "source": [
    "bf.info()"
   ]
  },
  {
   "cell_type": "code",
   "execution_count": null,
   "id": "3693c488",
   "metadata": {},
   "outputs": [],
   "source": [
    "bf.shape"
   ]
  },
  {
   "cell_type": "code",
   "execution_count": null,
   "id": "37ccf163",
   "metadata": {},
   "outputs": [],
   "source": [
    "bf.describe()"
   ]
  },
  {
   "cell_type": "code",
   "execution_count": null,
   "id": "b66284ad",
   "metadata": {},
   "outputs": [],
   "source": [
    "bf.describe().T"
   ]
  },
  {
   "cell_type": "markdown",
   "id": "45a86f59",
   "metadata": {},
   "source": [
    "<a id='drop'></a>\n",
    "\n",
    "### 2. Drop unwanted columns\n",
    "\n",
    "---\n",
    "\n",
    "There is a column labeled `Unnamed: 0` which appears to simply number the rows. We already have the number id of the rows in the DataFrame's index and so we don't need this column.\n",
    "\n",
    "The `.drop()` built-in function can be used to get rid of a column. When removing a column, we need to specify `axis=1` to the function.\n",
    "\n",
    "For the record, the `.index` attribute holds the row indices. This is the the sister attribute to the `.columns` attribute that we work with more often.\n",
    "\n"
   ]
  },
  {
   "cell_type": "code",
   "execution_count": null,
   "id": "eaf6c71e",
   "metadata": {},
   "outputs": [],
   "source": [
    "# print out the index object and the first 20 items in the DataFrame's index \n",
    "# to see that we have these row numbers already:\n",
    "type(bf.index)\n",
    "bf.index.values[:21]"
   ]
  },
  {
   "cell_type": "code",
   "execution_count": null,
   "id": "5996a03d",
   "metadata": {},
   "outputs": [],
   "source": [
    "# Remove the unneccesary column:\n",
    "bf = bf.drop('Unnamed: 0', axis = 1).head()\n"
   ]
  },
  {
   "cell_type": "code",
   "execution_count": null,
   "id": "b761c49f",
   "metadata": {},
   "outputs": [],
   "source": [
    "bf.columns"
   ]
  },
  {
   "cell_type": "markdown",
   "id": "024d5b78",
   "metadata": {},
   "source": [
    "<a id='clean'></a>\n",
    "\n",
    "### 3. Clean corrupted columns\n",
    "\n",
    "---\n",
    "\n",
    "You may have noticed when we examined the `dtypes` attribute that two of the columns were of type \"object\", indicating that they were string. However, we know from the data description above (and we can infer from the header of the data) that `DIS` and `RAD` should in fact be numeric.\n",
    "\n",
    "It is pretty common to have numeric columns represented as strings in your data if some of the observations are corrupted. It is important to always check the data types of your columns.\n",
    "\n",
    "**3.A What is causing the `DIS` column to be encoded as a string? Figure out a way to make sure the column is numeric while preserving information.**\n",
    "\n",
    "*Tip: Either use a for loop OR use  \n",
    "The `.map()` built-in function on a column will apply a function to each element of the column.*"
   ]
  },
  {
   "cell_type": "code",
   "execution_count": null,
   "id": "76a72466",
   "metadata": {},
   "outputs": [],
   "source": [
    "# Dictionary Method"
   ]
  },
  {
   "cell_type": "code",
   "execution_count": null,
   "id": "c8cc80af",
   "metadata": {},
   "outputs": [],
   "source": [
    "# List Replacement Method"
   ]
  },
  {
   "cell_type": "markdown",
   "id": "4b7a1fa6",
   "metadata": {},
   "source": [
    "<a id='describe'></a>\n",
    "\n",
    "### 6. Describe the summary statistics for the columns\n",
    "\n",
    "---\n",
    "\n",
    "The `.describe()` function gives summary statistics for each of your variables. What are some, if any, oddities you notice about the variables based on this output?"
   ]
  },
  {
   "cell_type": "code",
   "execution_count": null,
   "id": "9da7a20e",
   "metadata": {},
   "outputs": [],
   "source": [
    "# A:"
   ]
  },
  {
   "cell_type": "markdown",
   "id": "89e61ad9",
   "metadata": {},
   "source": [
    "<a id='boxplots'></a>\n",
    "\n",
    "### 7. Plot variables with potential outliers using boxplots.\n",
    "\n",
    "---\n",
    "\n",
    "Here we will plot boxplots of the variables we have identified as potentially having outliers.\n",
    "\n",
    "_If you want to check out more, place your cursor in the `boxplot` argument bracket and press `shift+tab` (Press four times repeatedly to bring up detailed documentation)._\n",
    "    "
   ]
  },
  {
   "cell_type": "code",
   "execution_count": null,
   "id": "47909523",
   "metadata": {},
   "outputs": [],
   "source": [
    "# rate of crime\n"
   ]
  },
  {
   "cell_type": "code",
   "execution_count": null,
   "id": "8fe7a777",
   "metadata": {},
   "outputs": [],
   "source": [
    "# percent owner occupied\n"
   ]
  },
  {
   "cell_type": "code",
   "execution_count": null,
   "id": "78003299",
   "metadata": {},
   "outputs": [],
   "source": [
    "# business zone percent\n"
   ]
  },
  {
   "cell_type": "code",
   "execution_count": null,
   "id": "4918aa22",
   "metadata": {},
   "outputs": [],
   "source": [
    "# black population statistic\n"
   ]
  },
  {
   "cell_type": "markdown",
   "id": "912fe62f",
   "metadata": {},
   "source": [
    "<a id='plot_all'></a>\n",
    "\n",
    "### 8. Plot all the variables on boxplots together.\n",
    "\n",
    "---\n",
    "\n",
    "Plot all the variables"
   ]
  },
  {
   "cell_type": "markdown",
   "id": "65e7f62e",
   "metadata": {},
   "source": [
    "\n",
    "<a id='standardization'></a>\n",
    "\n",
    "### 9. Standardizing variables\n",
    "\n",
    "---\n",
    "\n",
    "Rescaling variables is very common, and sometimes essential. For example, when we get to regularization of models the rescaling procedure becomes a requirement before fitting the model.\n",
    "\n",
    "Here we'll rescale the variables using a procedure called \"standardization\", which forces the distribution of each variable to have a mean of 0 and a standard deviation of 1.\n",
    "\n",
    "Standardization is not complicated:\n",
    "\n",
    "    standardized_variable = (variable - mean_of_variable) / std_dev_of_variable\n",
    "    \n",
    "Note: Nothing else is changed about the distribution of the variable. It doesn't become normally distributed.\n",
    "\n",
    "**9.A Pull out rate of crime and plot the distribution.**\n",
    "\n",
    "Also print out the mean and standard deviation of the original variable."
   ]
  },
  {
   "cell_type": "code",
   "execution_count": null,
   "id": "5dce9ae6",
   "metadata": {},
   "outputs": [],
   "source": [
    "# A:\n",
    "bf.describe()"
   ]
  },
  {
   "cell_type": "code",
   "execution_count": null,
   "id": "ee5baa09",
   "metadata": {},
   "outputs": [],
   "source": [
    "bf['CRIM'].std()"
   ]
  },
  {
   "cell_type": "markdown",
   "id": "d83a2884",
   "metadata": {},
   "source": [
    "**9.B Standardize the rate_of_crime variable. Notice the new mean is centered at 0.**"
   ]
  }
 ],
 "metadata": {},
 "nbformat": 4,
 "nbformat_minor": 5
}
