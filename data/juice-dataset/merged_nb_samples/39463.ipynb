{
 "cells": [
  {
   "cell_type": "markdown",
   "id": "5e49bd3c",
   "metadata": {},
   "source": [
    "#Categorical Data and the Dirichlet Discrete Distribution\n",
    "\n",
    "---\n",
    "\n",
    "Let's consider some examples of data with categorical variables"
   ]
  },
  {
   "cell_type": "code",
   "execution_count": null,
   "id": "5efeeed3",
   "metadata": {},
   "outputs": [],
   "source": [
    "import pandas as pd\n",
    "import seaborn as sns\n",
    "import numpy as np\n",
    "import matplotlib.pyplot as plt\n",
    "%matplotlib inline\n",
    "sns.set_context('talk')\n",
    "sns.set_style('darkgrid')"
   ]
  },
  {
   "cell_type": "markdown",
   "id": "75be1348",
   "metadata": {},
   "source": [
    "First, the passenger list of the Titanic"
   ]
  },
  {
   "cell_type": "code",
   "execution_count": null,
   "id": "0f0dd924",
   "metadata": {},
   "outputs": [],
   "source": [
    "titanic = sns.load_dataset(\"titanic\")"
   ]
  },
  {
   "cell_type": "code",
   "execution_count": null,
   "id": "243fc7e5",
   "metadata": {},
   "outputs": [],
   "source": [
    "titanic.head(n=10)"
   ]
  },
  {
   "cell_type": "markdown",
   "id": "16a63fd7",
   "metadata": {},
   "source": [
    "One of the categorical variables in this dataset is `embark_town`\n",
    "\n",
    "Let's plot the number of passengers departing from each town"
   ]
  },
  {
   "cell_type": "code",
   "execution_count": null,
   "id": "4cbe3657",
   "metadata": {},
   "outputs": [],
   "source": [
    "ax = titanic.groupby(['embark_town'])['age'].count().plot(kind='bar')\n",
    "plt.xticks(rotation=0)\n",
    "plt.xlabel('Departure Town')\n",
    "plt.ylabel('Passengers')\n",
    "plt.title('Number of Passengers by Town of Departure')"
   ]
  },
  {
   "cell_type": "markdown",
   "id": "c2ed15ba",
   "metadata": {},
   "source": [
    "Let's look at another example: the [cars93 dataset](https://stat.ethz.ch/R-manual/R-devel/library/MASS/html/Cars93.html)"
   ]
  },
  {
   "cell_type": "code",
   "execution_count": null,
   "id": "53b0fc2e",
   "metadata": {},
   "outputs": [],
   "source": [
    "cars = pd.read_csv('https://vincentarelbundock.github.io/Rdatasets/csv/MASS/Cars93.csv', index_col=0)"
   ]
  },
  {
   "cell_type": "code",
   "execution_count": null,
   "id": "23b42a37",
   "metadata": {},
   "outputs": [],
   "source": [
    "cars.head()"
   ]
  },
  {
   "cell_type": "code",
   "execution_count": null,
   "id": "fdcbefd9",
   "metadata": {},
   "outputs": [],
   "source": [
    "cars.ix[1]"
   ]
  },
  {
   "cell_type": "markdown",
   "id": "340381fd",
   "metadata": {},
   "source": [
    "This dataset has multiple categorical variables\n",
    "\n",
    "Based on the description of the cars93 datatset, we'll consider `Manufacturer`, and `DriveTrain` to be categorical variables\n",
    "\n",
    "Let's plot `Manufacturer` and `DriveTrain`"
   ]
  },
  {
   "cell_type": "code",
   "execution_count": null,
   "id": "aaaec1d3",
   "metadata": {},
   "outputs": [],
   "source": [
    "cars.groupby('Manufacturer')['Model'].count().plot(kind='bar')\n",
    "plt.ylabel('Cars')\n",
    "plt.title('Number of Cars by Manufacturer')"
   ]
  },
  {
   "cell_type": "code",
   "execution_count": null,
   "id": "c8919b7e",
   "metadata": {},
   "outputs": [],
   "source": [
    "cars.groupby('DriveTrain')['Model'].count().plot(kind='bar')\n",
    "plt.ylabel('Cars')\n",
    "plt.title('Number of Cars by Drive Train')"
   ]
  },
  {
   "cell_type": "markdown",
   "id": "7188c22f",
   "metadata": {},
   "source": [
    "If our categorical data has labels, we need to convert them to integer id's"
   ]
  },
  {
   "cell_type": "code",
   "execution_count": null,
   "id": "5fa8b73a",
   "metadata": {},
   "outputs": [],
   "source": [
    "def col_2_ids(df, col):\n",
    "    ids = df[col].drop_duplicates().sort(inplace=False).reset_index(drop=True)\n",
    "    ids.index.name = '%s_ids' % col\n",
    "    ids = ids.reset_index()\n",
    "    df = pd.merge(df, ids, how='left')\n",
    "    del df[col]\n",
    "    return df"
   ]
  },
  {
   "cell_type": "code",
   "execution_count": null,
   "id": "bdeb19b2",
   "metadata": {},
   "outputs": [],
   "source": [
    "cat_columns = ['Manufacturer', 'DriveTrain']\n",
    "\n",
    "for c in cat_columns:\n",
    "    print c\n",
    "    cars = col_2_ids(cars, c)"
   ]
  },
  {
   "cell_type": "code",
   "execution_count": null,
   "id": "55d3b314",
   "metadata": {},
   "outputs": [],
   "source": [
    "cars[['%s_ids' % c for c in cat_columns]].head()"
   ]
  },
  {
   "cell_type": "markdown",
   "id": "77ec59ca",
   "metadata": {},
   "source": [
    "Just as we model binary data with the beta Bernoulli distribution, we can model categorical data with the Dirichlet discrete distribution\n",
    "\n",
    "The beta Bernoulli distribution allows us to learn the underlying probability, $\\theta$, of the binary random variable, $x$\n",
    "\n",
    "$$P(x=1) =\\theta$$\n",
    "$$P(x=0) = 1-\\theta$$\n",
    "\n",
    "The Dirichlet discrete distribution extends the beta Bernoulli distribution to the case in which $x$ can assume more than two states\n",
    "\n",
    "$$\\forall i \\in [0,1,...n] \\hspace{2mm} P(x = i) = \\theta_i$$\n",
    "$$\\sum_{i=0}^n \\theta_i = 1$$\n",
    "\n",
    "Again, the Dirichlet distribution takes advantage of the fact that the Dirichlet distribution and the discrete distribution are conjugate. Note that the discrete distriution is sometimes called the categorical distribution or the multinomial distribution.\n",
    "\n",
    "To import the Dirichlet discrete distribution call"
   ]
  },
  {
   "cell_type": "code",
   "execution_count": null,
   "id": "b2b25ecd",
   "metadata": {},
   "outputs": [],
   "source": [
    "from microscopes.models import dd as dirichlet_discrete"
   ]
  },
  {
   "cell_type": "markdown",
   "id": "61544801",
   "metadata": {},
   "source": [
    "Then given the specific model we'd want we'd import\n",
    "\n",
    "`from microscopes.model_name.definition import model_definition`\n",
    "\n",
    "**NOTE: You must specify the number of categories in your Dirichlet Discrete distribution**\n",
    "\n",
    "For `5` categories, for examples you must specify the likelihood as:"
   ]
  },
  {
   "cell_type": "code",
   "execution_count": null,
   "id": "f06b238d",
   "metadata": {},
   "outputs": [],
   "source": [
    "dd5 = dirichlet_discrete(5)"
   ]
  },
  {
   "cell_type": "markdown",
   "id": "9fbbffb4",
   "metadata": {},
   "source": [
    "You can then use the model definition as appropriate for your desired model:"
   ]
  }
 ],
 "metadata": {},
 "nbformat": 4,
 "nbformat_minor": 5
}
