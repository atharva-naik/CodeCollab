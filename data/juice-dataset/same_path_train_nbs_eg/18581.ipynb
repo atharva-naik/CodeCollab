{
 "cells": [
  {
   "cell_type": "code",
   "execution_count": null,
   "id": "cd497f3c",
   "metadata": {},
   "outputs": [],
   "source": [
    "#1) Proportions of state wise donations against state wise projects \n",
    "# Creating a n*n empty data frame for each state\n",
    "states = projects_donations.school_state.drop_duplicates()\n",
    "df = pd.DataFrame(columns = states)\n",
    "for state in states:\n",
    "    df.loc[state] = states\n",
    "\n",
    "# Filling the data frame\n",
    "p_g = projects_donations.groupby('school_state')\n",
    "for state_p,group_p in p_g:\n",
    "    #print state_p,'--',group_p.donation_total.sum()\n",
    "    d_g = group_p.groupby('donor_state')\n",
    "    for state_d,group_d in d_g:\n",
    "        #print state_d, group_d.donation_total.sum()\n",
    "        df.loc[state_p,state_d] = 100*(group_d.donation_total.sum())/(group_p.donation_total.sum())"
   ]
  },
  {
   "cell_type": "code",
   "execution_count": null,
   "id": "d372052b",
   "metadata": {},
   "outputs": [],
   "source": [
    "df.fillna(0).head(5)"
   ]
  },
  {
   "cell_type": "markdown",
   "id": "30a1afb9",
   "metadata": {},
   "source": [
    "**Yes, there is a correlation if you look at the diagonal line. A onor is more likely to donate to a project that belongs to a school in their own state**"
   ]
  },
  {
   "cell_type": "code",
   "execution_count": null,
   "id": "00fd2ed7",
   "metadata": {},
   "outputs": [],
   "source": [
    "## Randomly picked few states - for data story sake\n",
    "df.fillna(0)#.head(5)\n",
    "df.loc[(df.index == 'NY')|(df.index == 'CA')|(df.index == 'DC')|(df.index == 'IA')|(df.index == 'NV')|(df.index == 'SC') ,(df.columns == 'NY')|(df.columns == 'CA')|(df.columns == 'DC')|(df.columns == 'IA')|(df.columns == 'NV')|(df.columns == 'SC')]"
   ]
  },
  {
   "cell_type": "markdown",
   "id": "d29c752a",
   "metadata": {},
   "source": [
    "**Getting top donation states for Iowa**"
   ]
  },
  {
   "cell_type": "code",
   "execution_count": null,
   "id": "e7f6d512",
   "metadata": {},
   "outputs": [],
   "source": [
    "df[df.index == 'IA'].sum().sort_values(ascending=False).head(5)"
   ]
  },
  {
   "cell_type": "markdown",
   "id": "579f19b5",
   "metadata": {},
   "source": [
    "**It is found that a donor is more likely to donate to a project that belongs to a neighbouring state **"
   ]
  },
  {
   "cell_type": "markdown",
   "id": "6e029e90",
   "metadata": {},
   "source": [
    "### 2) How does donor category effect the donation amount ?"
   ]
  },
  {
   "cell_type": "code",
   "execution_count": null,
   "id": "70c695a1",
   "metadata": {},
   "outputs": [],
   "source": [
    "# Identify donations that came from the teacher who created the project\n",
    "# and assigning donor category\n",
    "pds = projects_donations\n",
    "pds.loc[:, 'donor_category'] = 'donor_other'\n",
    "pds.loc[pds._teacher_acctid == pds._donor_acctid, 'donor_category'] = 'donor_teacher_project'\n",
    "pds.loc[(pds._teacher_acctid != pds._donor_acctid) & (pds.is_teacher_acct == 't'), 'donor_category'] = 'donor_teacher_other'"
   ]
  },
  {
   "cell_type": "code",
   "execution_count": null,
   "id": "51b370c5",
   "metadata": {},
   "outputs": [],
   "source": [
    "pds_g = pds.groupby(by='donor_category')\n",
    "pds_g = pds_g['donation_total'].mean()\n",
    "pds_gx = pds_g.plot(kind='bar')\n",
    "pds_gx.set_ylabel(\"Average Donation Amount\")\n",
    "pds_gx.set_title('Plot between donor category and Average donation amount', fontsize=14)"
   ]
  },
  {
   "cell_type": "code",
   "execution_count": null,
   "id": "7bb06d87",
   "metadata": {},
   "outputs": [],
   "source": [
    "subjects = pds.primary_focus_subject.drop_duplicates()\n",
    "df = pd.DataFrame(columns = ['Subjects','donor_teacher_project','donor_teacher_other','donor_other'])\n",
    "df['Subjects'] = subjects\n",
    "df = df.set_index('Subjects')\n",
    "\n",
    "# Filling the data frame\n",
    "pds1 = pds.groupby('primary_focus_subject')\n",
    "for sub,group_s in pds1:\n",
    "    pds2 = group_s.groupby('donor_category')\n",
    "    for dc,group_dc in pds2:\n",
    "        df.loc[sub,dc] = 100*(group_dc.donation_total.sum())/(group_s.donation_total.sum())\n",
    "df.head(10)"
   ]
  },
  {
   "cell_type": "markdown",
   "id": "8d0c9304",
   "metadata": {},
   "source": [
    "### 3) How does subject vary with donation amount among teachers donating to own projects ?"
   ]
  }
 ],
 "metadata": {},
 "nbformat": 4,
 "nbformat_minor": 5
}
