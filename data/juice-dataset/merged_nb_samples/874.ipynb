{
 "cells": [
  {
   "cell_type": "code",
   "execution_count": null,
   "id": "a2415563",
   "metadata": {},
   "outputs": [],
   "source": [
    "import pandas as pd\n",
    "import numpy as np\n",
    "import matplotlib.pyplot as plt\n",
    "from pandas.tools.plotting import scatter_matrix\n",
    "import seaborn as sns"
   ]
  },
  {
   "cell_type": "code",
   "execution_count": null,
   "id": "c719d156",
   "metadata": {},
   "outputs": [],
   "source": [
    "# Read in the text document and view the first five rows\n",
    "clothingFile = pd.read_table('Clothing_Store',sep=',')\n",
    "clothingFile.head()"
   ]
  },
  {
   "cell_type": "code",
   "execution_count": null,
   "id": "cdfa6c36",
   "metadata": {},
   "outputs": [],
   "source": [
    "#Count the number of rows and columns. There are 51 features and 21,740 rows.\n",
    "clothingFile.shape"
   ]
  },
  {
   "cell_type": "markdown",
   "id": "454c0d39",
   "metadata": {},
   "source": [
    "#### Column Descriptions\n",
    "\n",
    "'HHKEY' - Customer ID: unique, encrypted customer identification\n",
    "\n",
    "'ZIP_CODE' - Zip code\n",
    "\n",
    "'REC' - a variable showing the brand of choice (encrypted)\n",
    "\n",
    "'FRE' - Number of purchase visits\n",
    "\n",
    "'MON' - Total net sales\n",
    "\n",
    "'CC_CARD' - Flag: credit card user\n",
    "\n",
    "'AVRG' - Average amount spent per visit\n",
    "\n",
    "'PC_CALC20',\n",
    "\n",
    "'PSWEATERS' - percentages spent by the customer on Sweaters\n",
    "\n",
    "'PKNIT_TOPS' - percentages spent by the customer on knit tops\n",
    "\n",
    "'PKNIT_DRES' - percentages spent by the customer on knit dresses\n",
    "\n",
    "'PBLOUSES' - percentages spent by the customer on blouses\n",
    "\n",
    "'PJACKETS' - percentages spent by the customer on jackets\n",
    "\n",
    "'PCAR_PNTS' - percentages spent by the customer on career pants\n",
    "\n",
    "'PCAS_PNTS' - percentages spent by the customer on casual pants\n",
    "\n",
    "'PSHIRTS' - percentages spent by the customer on shirts\n",
    "\n",
    "'PDRESSES' - percentages spent by the customer on dresses\n",
    "\n",
    "'PSUITS' - percentages spent by the customer on suits\n",
    "\n",
    "'POUTERWEAR' - percentages spent by the customer on outerwear\n",
    "\n",
    "'PJEWELRY' - percentages spent by the customer on jewelry\n",
    "\n",
    "'PFASHION' - percentages spent by the customer on fashion\n",
    "\n",
    "'PLEGWEAR' - percentages spent by the customer on legwear\n",
    "\n",
    "'PCOLLSPND' - percentages spent by the customer on collectibles line\n",
    "\n",
    "'AMSPEND' - Spending at the AM store\n",
    "\n",
    "'PSSPEND' - Spending at the PS store\n",
    "\n",
    "'CCSPEND' - Spending at the CC store\n",
    "\n",
    "'AXSPEND' - Spending at the AX store\n",
    "\n",
    "'TMONSPEND' - Amount spent in the past three months\n",
    "\n",
    "'OMONSPEND' - Amount spent in the past month\n",
    "\n",
    "'SMONSPEND' - Amount spent in the past six months\n",
    "\n",
    "'PREVPD',\n",
    "\n",
    "'GMP' - Gross margin percentage\n",
    "\n",
    "'PROMOS' - Number of marketing promotions on file\n",
    "\n",
    "'DAYS' - Number of days the customer has been on file\n",
    "\n",
    "'FREDAYS' - Number of days between purchases\n",
    "\n",
    "'MARKDOWN' - Markdown percentage on customer purchases - indicates which customers have purchased merchandise that has been marked down\n",
    "\n",
    "'CLASSES' - Number of different product classes purchased\n",
    "\n",
    "'COUPONS' - Number of coupons used by the customer\n",
    "\n",
    "'STYLES' - Total number of individual items purchased by the customer\n",
    "\n",
    "'STORES' - Number of stores the customer shopped at\n",
    "\n",
    "'STORELOY' - Spending in the same period last year (?)\n",
    "\n",
    "'VALPHON' - Flag: valid phone number on file\n",
    "\n",
    "'WEB' - Flag: Web shopper\n",
    "\n",
    "'MAILED' - Number of promotions mailed in the past year\n",
    "\n",
    "'RESPONDED' - Number of promotions responded to in the past year\n",
    "\n",
    "'RESPONSERATE' - Promotion response rate for the past year - indicates which customers have ever responded to a marketing promotion before\n",
    "\n",
    "'HI' - Product uniformity (low score = diverse spending patterns)\n",
    "\n",
    "'LTFREDAY' - Lifetime average time between visits\n",
    "\n",
    "'CLUSTYPE' - Microvision lifestyle cluster type\n",
    "\n",
    "'PERCRET' - Percent of returns\n",
    "\n",
    "'RESP' - Target variable: response to promotion"
   ]
  },
  {
   "cell_type": "markdown",
   "id": "94120455",
   "metadata": {},
   "source": [
    "My exploration will be in two sections...\n",
    "\n",
    "In the first section, I will explore the data compared to the target variable 'RESP' - a variable showing which customers responded to the promotion, and those who did not. By focusing on the target variable 'RESP', I can get a better idea of who the responsive and active customers are. This will help the clothing store \"Threads\" maximize future marketing dollars by reaching out to specific customers.\n",
    "\n",
    "The second section will be a broader exploration of Threads' customers. Providing Threads a better understanding of who their customers are will allow them to focus marketing promotions on differnt \"types\" of customers, and allow them to reach out to potential new customers. Customers benefit in that they receive more curated content based on their preferences.\n",
    "\n",
    "After each plot, I will include a include a small analysis of the plot. At the end of each section I will present a larger summary of the findings as a whole."
   ]
  },
  {
   "cell_type": "markdown",
   "id": "bd2e73c9",
   "metadata": {},
   "source": [
    "EXPLORING RESPONSE TO PROMOTION"
   ]
  },
  {
   "cell_type": "code",
   "execution_count": null,
   "id": "1fad3f6b",
   "metadata": {},
   "outputs": [],
   "source": [
    "# Count how many people responded to the promotion\n",
    "print(clothingFile['RESP'] != 0).sum()"
   ]
  },
  {
   "cell_type": "code",
   "execution_count": null,
   "id": "8e48162a",
   "metadata": {},
   "outputs": [],
   "source": [
    "# Count how many people did not respond to the promotion\n",
    "print(clothingFile['RESP'] == 0).sum()"
   ]
  },
  {
   "cell_type": "code",
   "execution_count": null,
   "id": "55ec40fe",
   "metadata": {},
   "outputs": [],
   "source": [
    "#Response rate to the promotion (target variable)\n",
    "3611 / float(21740)"
   ]
  },
  {
   "cell_type": "code",
   "execution_count": null,
   "id": "afaca86e",
   "metadata": {},
   "outputs": [],
   "source": [
    "#Create a dataframe of just people who responded\n",
    "responded = clothingFile[clothingFile['RESP'] == 1]\n",
    "responded.shape"
   ]
  },
  {
   "cell_type": "code",
   "execution_count": null,
   "id": "30d827ed",
   "metadata": {},
   "outputs": [],
   "source": [
    "#Create a dataframe of just people who did not respond to the promotion\n",
    "norespond = clothingFile[clothingFile['RESP'] == 0]\n",
    "norespond.shape"
   ]
  },
  {
   "cell_type": "code",
   "execution_count": null,
   "id": "d73c3056",
   "metadata": {},
   "outputs": [],
   "source": [
    "# Barplot showing amount spent at each store by people who responded to the promotion and total customers\n",
    "# Sum amount spent by responding customers\n",
    "amResp = responded['AMSPEND'].sum()\n",
    "psResp = responded['PSSPEND'].sum()\n",
    "ccResp = responded['CCSPEND'].sum()\n",
    "axResp = responded['AXSPEND'].sum()\n",
    "\n",
    "#Sum amount spent by total customers\n",
    "amTotal = clothingFile['AMSPEND'].sum()\n",
    "psTotal = clothingFile['PSSPEND'].sum()\n",
    "ccTotal = clothingFile['CCSPEND'].sum()\n",
    "axTotal = clothingFile['AXSPEND'].sum()\n",
    "\n",
    "x = ['AM', 'PS', 'CC', 'AX']\n",
    "y = [amResp,psResp,ccResp,axResp]\n",
    "z = [amTotal,psTotal,ccTotal,axTotal]\n",
    "storePlt = np.arange(len(x))\n",
    "\n",
    "ax = plt.subplot()\n",
    "ax.bar(storePlt-0.1, y,width=0.2,color='b',align='center')\n",
    "ax.bar(storePlt+0.1, z,width=0.2,color='g',align='center')\n",
    "plt.xlabel('Store', fontsize=10)\n",
    "plt.ylabel('Amount of Money Spent ($)', fontsize=10)\n",
    "plt.xticks(storePlt, x, fontsize=10)\n",
    "plt.title('Amount Spent Per Store - Responsive vs. Total Customers')\n",
    "plt.legend(('Responsive Customers', 'Total Customers'), loc='upper left')\n",
    "plt.tight_layout()\n",
    "\n",
    "# save plot to word doc for report\n",
    "plt.savefig('/Users/Molfer/Documents/Lisa/Springboard/Capstone 1/DataClothing/Images/amSpent.png')\n",
    "\n",
    "plt.show()"
   ]
  },
  {
   "cell_type": "markdown",
   "id": "5a7a65c5",
   "metadata": {},
   "source": [
    "ANALYSIS: The store preference of customers who responded to the promotion seemed to generally match the trend of the customer group as a whole. The specific store does not seem to influence response to the promotion."
   ]
  },
  {
   "cell_type": "code",
   "execution_count": null,
   "id": "433a58e5",
   "metadata": {},
   "outputs": [],
   "source": [
    "#Boxplot showing the number of purchase visits for customers who responded to the promotion (1) and customers who did not (0)\n",
    "clothingFile.boxplot(column='FRE', by='RESP', showmeans=True)\n",
    "plt.legend(('0=Non-Responsive', '1=Responsive'), loc='upper center')\n",
    "\n",
    "plt.show()"
   ]
  },
  {
   "cell_type": "markdown",
   "id": "0c7e1eaf",
   "metadata": {},
   "source": [
    "ANALYSIS: Customers who responded to the promotion generally have more purchase visits than customers who did not respond. "
   ]
  },
  {
   "cell_type": "code",
   "execution_count": null,
   "id": "ce3a60f0",
   "metadata": {},
   "outputs": [],
   "source": [
    "#Boxplot showing the range of total money spent by customers who did not respond to the promotion (0) and customers who did (1)\n",
    "clothingFile.boxplot(column='MON', by='RESP', showmeans=True)\n",
    "plt.legend(('0=Non-Responsive', '1=Responsive'), loc='upper center')\n",
    "plt.title('Total Money Spent ($)')\n",
    "\n",
    "plt.suptitle(\"\")\n",
    "\n",
    "# save plot to word doc for report\n",
    "plt.savefig('/Users/Molfer/Documents/Lisa/Springboard/Capstone 1/DataClothing/Images/totMoney.png')\n",
    "\n",
    "plt.show()"
   ]
  },
  {
   "cell_type": "markdown",
   "id": "c490d9b5",
   "metadata": {},
   "source": [
    "ANALYSIS: Generally, customers who responded to the promotion spend more money per visit."
   ]
  },
  {
   "cell_type": "code",
   "execution_count": null,
   "id": "eb437098",
   "metadata": {},
   "outputs": [],
   "source": [
    "#Histograms showing amount of money spent per visit of customers who responded, and the log transform of the same\n",
    "fig, (ax1, ax2) = plt.subplots(1, 2)\n",
    "fig.set_size_inches(18, 7)\n",
    "ax1.hist(responded.MON, 100)\n",
    "ax1.set_title('Average Amount of Money Spent ($) - Responded')\n",
    "ax1.set_ylabel('Frequency')\n",
    "ax2.hist(np.log(responded.MON))\n",
    "ax2.set_title('Log Transform of Average Amount of Money Spent ($) - Responded')\n",
    "ax1.set_ylabel('Frequency')\n",
    "plt.show()"
   ]
  },
  {
   "cell_type": "code",
   "execution_count": null,
   "id": "60bac541",
   "metadata": {},
   "outputs": [],
   "source": [
    "#Histogram showing amount of money spent per visit of customers who did not respond, and the log transform of the same\n",
    "fig, (bx1, bx2) = plt.subplots(1, 2)\n",
    "fig.set_size_inches(18, 7)\n",
    "bx1.hist(norespond.MON, 100)\n",
    "bx1.set_title('Average Amount of Money Spent ($) - Did Not Respond')\n",
    "bx1.set_ylabel('Frequency')\n",
    "bx2.hist(np.log(norespond.MON))\n",
    "bx2.set_title('Log Transform of Average Amount of Money Spent ($) - Did Not Respond')\n",
    "bx1.set_ylabel('Frequency')\n",
    "plt.show()"
   ]
  },
  {
   "cell_type": "markdown",
   "id": "34a73655",
   "metadata": {},
   "source": [
    "ANALYSIS: Customers who responded to the promotion generally spend more money each visit."
   ]
  },
  {
   "cell_type": "code",
   "execution_count": null,
   "id": "c8476b2e",
   "metadata": {},
   "outputs": [],
   "source": [
    "#Histogram showing number of days customers have been on file - Responded and Not Responded\n",
    "fig, (cx1, cx2) = plt.subplots(1, 2)\n",
    "fig.set_size_inches(18, 7)\n",
    "cx1.hist(responded.DAYS,30)\n",
    "cx1.set_title('Number of Days Responsive Customers On File')\n",
    "cx1.set_ylabel('Frequency')\n",
    "cx2.hist(norespond.DAYS,30)\n",
    "cx2.set_title('Number of Days Non-Responsive Customers On File')\n",
    "cx2.set_ylabel('Frequency')\n",
    "plt.show()"
   ]
  },
  {
   "cell_type": "markdown",
   "id": "50d1f3e9",
   "metadata": {},
   "source": [
    "ANALYSIS: Customers who responded to the promotion have generally been on file with the store for a longer period of time."
   ]
  },
  {
   "cell_type": "code",
   "execution_count": null,
   "id": "fbdcd007",
   "metadata": {},
   "outputs": [],
   "source": [
    "#Histogram showing number of days between purchases - Responded and Not Responded\n",
    "fig, (dx1, dx2) = plt.subplots(1, 2)\n",
    "fig.set_size_inches(18, 7)\n",
    "dx1.hist(responded.FREDAYS,30)\n",
    "dx1.set_title('Number of Days Between Purchases - Responsive')\n",
    "dx1.set_ylabel('Frequency')\n",
    "dx2.hist(norespond.FREDAYS,30)\n",
    "dx2.set_title('Number of Days Between Purchases - Non-Responsive')\n",
    "dx2.set_ylabel('Frequency')\n",
    "plt.show()"
   ]
  },
  {
   "cell_type": "markdown",
   "id": "713c5527",
   "metadata": {},
   "source": [
    "ANALYSIS: The responsive customers generally have fewer days between purchase visits."
   ]
  },
  {
   "cell_type": "code",
   "execution_count": null,
   "id": "32da67d7",
   "metadata": {},
   "outputs": [],
   "source": [
    "# Histogram showing number of different product classes purchased - Responded and Not Responded\n",
    "fig, (ex1, ex2) = plt.subplots(1, 2)\n",
    "fig.set_size_inches(18, 7)\n",
    "ex1.hist(responded.CLASSES,30)\n",
    "ex1.set_title('Number of different product classes purchased - Responsive',fontsize=16)\n",
    "ex1.set_ylabel('Frequency',fontsize=16)\n",
    "ex2.hist(norespond.CLASSES,30)\n",
    "ex2.set_title('Number of different product classes purchased - Non-Responsive',fontsize=16)\n",
    "ex2.set_ylabel('Frequency',fontsize=16)\n",
    "\n",
    "# save plot to word doc for report\n",
    "plt.savefig('/Users/Molfer/Documents/Lisa/Springboard/Capstone 1/DataClothing/Images/prodClass.png')\n",
    "\n",
    "plt.show()"
   ]
  },
  {
   "cell_type": "markdown",
   "id": "c317192d",
   "metadata": {},
   "source": [
    "ANALYSIS: The responsive customers generally buy more classes of products."
   ]
  },
  {
   "cell_type": "code",
   "execution_count": null,
   "id": "2e84f953",
   "metadata": {},
   "outputs": [],
   "source": [
    "#Number of Stores Customer Shopped At \n",
    "fig, (fx1, fx2) = plt.subplots(1, 2)\n",
    "fig.set_size_inches(18, 7)\n",
    "fx1.hist(responded.STORES,20)\n",
    "fx1.set_title('Number of Different Stores Shopped - Responsive')\n",
    "fx1.set_ylabel('Frequency')\n",
    "fx2.hist(norespond.STORES,20)\n",
    "fx2.set_title('Number of Different Stores Shopped - Non-Responsive')\n",
    "fx2.set_ylabel('Frequency')\n",
    "plt.show()"
   ]
  },
  {
   "cell_type": "markdown",
   "id": "82bc5412",
   "metadata": {},
   "source": [
    "ANALYSIS: There does not seem to be a significant difference in the number of stores the responsive customers shop at."
   ]
  },
  {
   "cell_type": "code",
   "execution_count": null,
   "id": "411b6201",
   "metadata": {},
   "outputs": [],
   "source": [
    "#Responsive/Non-responsive Internet Shoppers\n",
    "sns.set(style=\"whitegrid\", color_codes=True)\n",
    "\n",
    "f, ax = plt.subplots(figsize=(10, 6))\n",
    "sns.countplot(y=\"WEB\", data=clothingFile, hue=\"RESP\")\n",
    "plt.ylabel('Internet Shopper - 0=No, 1=Yes')\n",
    "plt.legend(('Non-Responsive', 'Responsive'), loc='lower right')\n",
    "plt.show()"
   ]
  },
  {
   "cell_type": "markdown",
   "id": "9c2f7f84",
   "metadata": {},
   "source": [
    "ANALYSIS: Customers who shop on the internet seem to have a higher rate of responsiveness to the promotion."
   ]
  },
  {
   "cell_type": "markdown",
   "id": "31029992",
   "metadata": {},
   "source": [
    "Overall, just under 17% of customers responded to the promotion. Responsive customers showed the following characteristics...\n",
    "1. they have more purchase visits\n",
    "2. they spend more money than non-responsive customers\n",
    "3. they spent more money when they purchase items\n",
    "4. they are long-time customers\n",
    "5. they do not leave as much time between visits as non-responsive customers\n",
    "6. they buy a larger range of products\n",
    "7. they are often internet-shoppers\n",
    "\n",
    "Most of these trends seemed fairly expected. They are trends that would match those of loyal shoppers. Loyal shoppers would be familiar with a brand for a long time; they trust the brand, so they would spend more money on the store. They would also check in fairly consistently as they need new items or to check if there are deals. Being an internet shopper also makes sense - customers know what they like and what size they wear in the brand. It's easier to buy online when you know what you prefer before you shop.\n",
    "\n",
    "The trend that most surprised me above was responsive customers bought a larger range of products. It makes sense that customers would build trust for the brand with one or two categories of products to start, and then expand once they trust and like the brand. Although this was not a trend I had thought about. I am interested in digging more into the types of products customers buy and what trends are present."
   ]
  },
  {
   "cell_type": "markdown",
   "id": "eb2d2fcd",
   "metadata": {},
   "source": [
    "EXPLORING CUSTOMER PATTERNS"
   ]
  },
  {
   "cell_type": "code",
   "execution_count": null,
   "id": "f00eedd5",
   "metadata": {},
   "outputs": [],
   "source": [
    "#'FRE' - Number of purchase visits\n",
    "#'MON' - Total net sales\n",
    "#'AVRG' - Average amount spent per visit\n",
    "#'DAYS' - Number of days the customer has been on file\n",
    "#'FREDAYS' - Number of days between purchases\n",
    "#'MARKDOWN' - Markdown percentage on customer purchases - indicates which customers have purchased merchandise that has been marked down\n",
    "#'CLASSES' - Number of different product classes purchased\n",
    "#'COUPONS' - Number of coupons used by the customer\n",
    "#'STYLES' - Total number of individual items purchased by the customer\n",
    "#'PERCRET' - Percent of returns\n",
    "\n",
    "#Plot a scatter matrix of the variables above.\n",
    "pd.plotting.scatter_matrix(clothingFile[['FRE', 'MON', 'AVRG', 'DAYS','FREDAYS','MARKDOWN','CLASSES','COUPONS','STYLES','PERCRET']],alpha=0.5, figsize=(15, 15))\n",
    "plt.show()"
   ]
  },
  {
   "cell_type": "markdown",
   "id": "e30fbe12",
   "metadata": {},
   "source": [
    "ANALYSIS: This scatter matrix has a lot of information. It may be too big to be very helpful, but can give us a general feel for the variables when compared to many others to see the correlations. I will choose several that surprised me or bring up further exploration. Some interesting observations...\n",
    "1. FRE - The number of purchase visits did not have as large of an impact on total money spent (MON) as I would've thought. Up to about 10 days it seems to have an impact on how much people have spent at Threads, but after that the distribution is fairly even. The number of product classes purchased (CLASSES) has a very similar distribution when compared to  the number of purchase visits.\n",
    "2. MON - The total money spent has a strong correlation to the total number of individual items purchased (STYLES). While this makes sense, it would be interesting to know the range of prices for items in the stores.\n",
    "3. COUPONS - The number of coupons a customer uses can positively effect the number of product classes purchased (CLASSES).\n",
    "4. PERCRET - do not show strong correlations. The percent of returns is fairly evenly spread across groups."
   ]
  },
  {
   "cell_type": "code",
   "execution_count": null,
   "id": "ba9bb316",
   "metadata": {},
   "outputs": [],
   "source": [
    "clothingFile.ZIP_CODE.unique().shape"
   ]
  },
  {
   "cell_type": "code",
   "execution_count": null,
   "id": "0899b109",
   "metadata": {},
   "outputs": [],
   "source": [
    "#Look at Zip Codes\n",
    "densestZip = clothingFile['ZIP_CODE'].value_counts().sort_values(ascending=False).head(20)\n",
    "densestZip = densestZip.to_frame()\n",
    "densestZip['zipcode'] = densestZip.index\n",
    "densestZip.columns = ['count','zipcode']\n",
    "densestZip"
   ]
  },
  {
   "cell_type": "code",
   "execution_count": null,
   "id": "d9a4c6cd",
   "metadata": {},
   "outputs": [],
   "source": [
    "#Show Zipcodes\n",
    "densestZip.plot.bar(x='zipcode', y='count')\n",
    "plt.xlabel('Zip Code')\n",
    "plt.ylabel('Number of Customers')\n",
    "plt.title('Number of Customers in the Top 20 Zip Codes')\n",
    "\n",
    "# Get current size\n",
    "fig_size = plt.rcParams[\"figure.figsize\"]\n",
    " \n",
    "# Prints: [8.0, 6.0]\n",
    "print \"Current size:\", fig_size\n",
    "\n",
    "# Set figure width to 12 and height to 9\n",
    "fig_size[0] = 16\n",
    "fig_size[1] = 12\n",
    "plt.rcParams[\"figure.figsize\"] = fig_size\n",
    "\n",
    "plt.show()"
   ]
  },
  {
   "cell_type": "markdown",
   "id": "13bd8304",
   "metadata": {},
   "source": [
    "ANALYSIS: It's surprising how many unique zip codes there are - 7419. It would be interesting to plot these on a map to better see where people are located. They look to be from many different parts of the country, but would be good to see on a map. The first two are Minnesota and Pennsylvania."
   ]
  },
  {
   "cell_type": "code",
   "execution_count": null,
   "id": "2ba95717",
   "metadata": {},
   "outputs": [],
   "source": [
    "#Look at correlations of types of clothing\n",
    "#'PSWEATERS' - percentages spent by the customer on Sweaters\n",
    "#'PKNIT_TOPS' - percentages spent by the customer on knit tops\n",
    "#'PKNIT_DRES' - percentages spent by the customer on knit dresses\n",
    "#'PBLOUSES' - percentages spent by the customer on blouses\n",
    "#'PJACKETS' - percentages spent by the customer on jackets\n",
    "#'PCAR_PNTS' - percentages spent by the customer on career pants\n",
    "#'PCAS_PNTS' - percentages spent by the customer on casual pants\n",
    "#'PSHIRTS' - percentages spent by the customer on shirts\n",
    "#'PDRESSES' - percentages spent by the customer on dresses\n",
    "#'PSUITS' - percentages spent by the customer on suits\n",
    "#'POUTERWEAR' - percentages spent by the customer on outerwear\n",
    "#'PJEWELRY' - percentages spent by the customer on jewelry\n",
    "#'PFASHION' - percentages spent by the customer on fashion\n",
    "#'PLEGWEAR' - percentages spent by the customer on legwear\n",
    "#'PCOLLSPND' - percentages spent by the customer on collectibles line\n",
    "\n",
    "#Plot a scatter matrix of the variables above to see if there are patterns in what people tend to buy together.\n",
    "pd.plotting.scatter_matrix(clothingFile[['PSWEATERS','PKNIT_TOPS','PKNIT_DRES','PBLOUSES','PJACKETS','PCAR_PNTS','PCAS_PNTS','PSHIRTS','PDRESSES','PSUITS','POUTERWEAR','PJEWELRY','PFASHION','PLEGWEAR','PCOLLSPND']],alpha=0.5, figsize=(15, 15))\n",
    "plt.show()"
   ]
  },
  {
   "cell_type": "markdown",
   "id": "684677d3",
   "metadata": {},
   "source": [
    "ANALYSIS: There is a lot to look at with the scatter matrix above. The sweaters, jewelry, fashion and legwear do not seem to have strong correlations for any of the groups, so I will remove them to make it a bit easier to look at."
   ]
  }
 ],
 "metadata": {},
 "nbformat": 4,
 "nbformat_minor": 5
}
