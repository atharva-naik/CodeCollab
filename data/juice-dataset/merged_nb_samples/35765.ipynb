{
 "cells": [
  {
   "cell_type": "code",
   "execution_count": null,
   "id": "8aa13282",
   "metadata": {},
   "outputs": [],
   "source": [
    "import agate"
   ]
  },
  {
   "cell_type": "markdown",
   "id": "6382f67f",
   "metadata": {},
   "source": [
    "Pull in Say Yes schools enrollment data csv"
   ]
  },
  {
   "cell_type": "code",
   "execution_count": null,
   "id": "34f549ae",
   "metadata": {},
   "outputs": [],
   "source": [
    "schools = agate.Table.from_csv('bpssayyes.csv')"
   ]
  },
  {
   "cell_type": "markdown",
   "id": "53984c8a",
   "metadata": {},
   "source": [
    "The output shows which columns were in the spreadsheet and what column type agate thinks that column is"
   ]
  }
 ],
 "metadata": {},
 "nbformat": 4,
 "nbformat_minor": 5
}
