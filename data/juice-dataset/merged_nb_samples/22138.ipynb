{
 "cells": [
  {
   "cell_type": "markdown",
   "id": "ed77f845",
   "metadata": {},
   "source": [
    "# Symbulate Documentation: Random Variables"
   ]
  },
  {
   "cell_type": "markdown",
   "id": "562ca55f",
   "metadata": {},
   "source": [
    "<a id='contents'></a>"
   ]
  },
  {
   "cell_type": "markdown",
   "id": "96081fbb",
   "metadata": {},
   "source": [
    "1. [**Introduction and installing Symbulate**](index.html)\n",
    "1. [**Probability spaces**](probspace.html)\n",
    "1. [**Simulation tools**](sim.html)\n",
    "1. [**Random variables**](#rv)\n",
    "  1. [**Defining a random variable with RV:**](#RV)\n",
    "  1. [**Plot:**](#plot) Use **.plot()** to display a plot summary of the simulated values of a RV.\n",
    "  1. [**Distribution of a random variable:**](#distribution)\n",
    "  1. [**Functions of a random variable:**](#transform)\n",
    "  1. [**Mean:**](#mean) Use **.mean()** to compute the average of the simulated values of a RV.\n",
    "  1. [**Variance:**](#var): Use **.var()** to compute the variance of the simulated values of a RV.\n",
    "  1. [**Standard deviation:**](#var): Use **.sd()** to compute the standard deviation of the simulated values of a RV.\n",
    "1. [**Commonly used probability models**](common.html)\n",
    "1. [**Multiple random variables and joint distributions**](joint.html)\n",
    "1. [**Conditioning**](conditioning.html)\n",
    "1. [**Random processes**](process.html)\n",
    "1. [**Markov processes**](mc.html)"
   ]
  },
  {
   "cell_type": "markdown",
   "id": "f218f1d6",
   "metadata": {},
   "source": [
    "Instructions for downloading and installing Symbulate can be found [here](http://calpoly.edu/~dsun09/python.html).  During a session, be sure to import Symbulate using the following commands.\n",
    "<a id='rv'></a>"
   ]
  },
  {
   "cell_type": "code",
   "execution_count": null,
   "id": "2142aeb1",
   "metadata": {},
   "outputs": [],
   "source": [
    "from symbulate import *\n",
    "%matplotlib inline"
   ]
  },
  {
   "cell_type": "markdown",
   "id": "bc395222",
   "metadata": {},
   "source": [
    "## Random variables\n",
    "\n",
    "A random variable is a function that takes as an input an outcome of a probability space and returns a real number.  Commonly encountered random variables are either discrete or continuous.\n",
    "  * A **discrete** random variable can take at most countably many distinct values.\n",
    "  * A **continuous** random variable can take any value in some interval of real numbers.\n",
    "\n",
    "Values of a random variable can be simulated and analyzed much like the outcomes of a probability space.  However, several additional tools are available for RV."
   ]
  },
  {
   "cell_type": "markdown",
   "id": "5a377de0",
   "metadata": {},
   "source": [
    "<a id='RV'></a>\n",
    "[Back to contents](#contents)"
   ]
  },
  {
   "cell_type": "markdown",
   "id": "cde51f0f",
   "metadata": {},
   "source": [
    "### Defining a random variable with RV\n",
    "\n",
    "Use the RV class to define random variables on a probability space.  A random variable is a function which maps the outcomes of a probability space to a real number; therefore a probability space must be defined first.\n",
    "\n",
    "*Example.* Consider the random variable $X$ representing the number of Heads in 5 flips of a fair coin.  With 1 representing Heads and 0 Tails, we can count the number of Heads by summing the 0/1 values.  We define a probability space corresponding to 5 flips of a fair coin, and then a RV on that space which takes an outcome and sums its values."
   ]
  },
  {
   "cell_type": "code",
   "execution_count": null,
   "id": "f7c39baa",
   "metadata": {},
   "outputs": [],
   "source": [
    "P = BoxModel([0,1], size = 5)\n",
    "X = RV(P, sum)"
   ]
  },
  {
   "cell_type": "markdown",
   "id": "86124bc3",
   "metadata": {},
   "source": [
    "If no function is specified in RV, the default is the identity function."
   ]
  },
  {
   "cell_type": "markdown",
   "id": "f89eb9de",
   "metadata": {},
   "source": [
    "Like the probability space defintions, the RV command only defines a random variable.  [Simulation tools](sim.html) like `.sim()`, `.tabulate()`, `.filter()`, and `.count()`  work for `RV` just like for `ProbabilitySpace`."
   ]
  },
  {
   "cell_type": "code",
   "execution_count": null,
   "id": "53f5077d",
   "metadata": {},
   "outputs": [],
   "source": [
    "P = BoxModel([0,1], size = 5)\n",
    "X = RV(P, sum)\n",
    "values = X.sim(10000)\n",
    "values"
   ]
  },
  {
   "cell_type": "code",
   "execution_count": null,
   "id": "bb806fa8",
   "metadata": {},
   "outputs": [],
   "source": [
    "values.tabulate(normalize = True)"
   ]
  },
  {
   "cell_type": "code",
   "execution_count": null,
   "id": "5622c0bf",
   "metadata": {},
   "outputs": [],
   "source": [
    "values.count_gt(3) / 10000"
   ]
  },
  {
   "cell_type": "markdown",
   "id": "4549972e",
   "metadata": {},
   "source": [
    "Random variables can also be specified by user defined functions.\n",
    "\n",
    "*Example.* Ten cards labeled 1, 2, $\\ldots$ , 10 are shuffled and dealt one at a time. Let $X$ be the number of the cards (out of ten) for which the number on the card matches its position in the deal. (For example, a match occurs if card 3 is the third card dealt.)"
   ]
  },
  {
   "cell_type": "code",
   "execution_count": null,
   "id": "6edb1ac9",
   "metadata": {},
   "outputs": [],
   "source": [
    "n = 10\n",
    "labels = list(range(n))\n",
    "# remember, Python starts the index at 0, so the cards are labebeled 0, ..., 9\n",
    "\n",
    "def number_matches(x):\n",
    "    count = 0\n",
    "    for i in range(n):\n",
    "        if x[i] == labels[i]:\n",
    "            count += 1\n",
    "    return count\n",
    "\n",
    "\n",
    "P = BoxModel(labels, size = n, replace = False)\n",
    "X = RV(P, number_matches)\n",
    "X.sim(10000)"
   ]
  },
  {
   "cell_type": "markdown",
   "id": "e2828cd6",
   "metadata": {},
   "source": [
    "<a id='plot'></a>\n",
    "[Back to contents](#contents)"
   ]
  },
  {
   "cell_type": "markdown",
   "id": "5979e3e8",
   "metadata": {},
   "source": [
    "### Plot\n",
    "\n",
    "Tabulate provides a tabular summary of the simulated values of a RV.  A plot summary can be obtained with `.plot()`.  The type of plot returned depends on the type of the random variable, discrete or continuous.\n",
    "\n",
    "For *discrete* random variables, `.plot()` generally returns an \"impulse\" (or \"spike\") plot of the relative frequencies (by default) or frequencies (with `normalize = False`) for each of the possible values."
   ]
  },
  {
   "cell_type": "code",
   "execution_count": null,
   "id": "085c1b77",
   "metadata": {},
   "outputs": [],
   "source": [
    "P = BoxModel([0,1], size = 5)\n",
    "X = RV(P, sum)\n",
    "X.sim(10000).plot()"
   ]
  },
  {
   "cell_type": "markdown",
   "id": "0e27d319",
   "metadata": {},
   "source": [
    "Symbulate allows a plot to be defined using either `x.plot()` or `plot(x)`."
   ]
  },
  {
   "cell_type": "code",
   "execution_count": null,
   "id": "4cabedc5",
   "metadata": {},
   "outputs": [],
   "source": [
    "P = BoxModel([0,1], size = 5)\n",
    "X = RV(P, sum)\n",
    "plot(X.sim(10000), normalize = False)"
   ]
  },
  {
   "cell_type": "markdown",
   "id": "02d2e6ba",
   "metadata": {},
   "source": [
    "For *continuous* random variables, `.plot()` returns a histogram, which provides the frequencies of simulated values falling in interval \"bins\".  By default, normalize = False and the vertical axis of the histogram is on the *density* scale, so that *areas* of the bars correspond to relative frequencies.  "
   ]
  },
  {
   "cell_type": "code",
   "execution_count": null,
   "id": "89f7ce71",
   "metadata": {},
   "outputs": [],
   "source": [
    "P = Normal(0,1)\n",
    "X = RV(P)\n",
    "X.sim(10000).plot()"
   ]
  },
  {
   "cell_type": "markdown",
   "id": "e4940f28",
   "metadata": {},
   "source": [
    "The number of bins can be set manually with `bins=`."
   ]
  },
  {
   "cell_type": "code",
   "execution_count": null,
   "id": "d0e18c1c",
   "metadata": {},
   "outputs": [],
   "source": [
    "X.sim(10000).plot(bins = 30)"
   ]
  },
  {
   "cell_type": "markdown",
   "id": "efd1b4e3",
   "metadata": {},
   "source": [
    "If many of the simulated values have small frequencies `.plot()` will return a histogram for both discrete and continuous random variables."
   ]
  },
  {
   "cell_type": "code",
   "execution_count": null,
   "id": "c1a86b34",
   "metadata": {},
   "outputs": [],
   "source": [
    "P = BoxModel([0,1], size = 1000)\n",
    "X = RV(P, sum)\n",
    "X.sim(100).plot()"
   ]
  },
  {
   "cell_type": "markdown",
   "id": "b2486b4a",
   "metadata": {},
   "source": [
    "The type of plot, impulse versus histogram, can be overriden with the `type =` option, which can be set to either `type = 'impulse'` or `type = 'bar'` (the latter type for histograms)."
   ]
  },
  {
   "cell_type": "code",
   "execution_count": null,
   "id": "b4eac658",
   "metadata": {},
   "outputs": [],
   "source": [
    "P = BoxModel([0,1], size = 1000)\n",
    "X = RV(P, sum)\n",
    "X.sim(100).plot(type = 'impulse', normalize = False)"
   ]
  },
  {
   "cell_type": "markdown",
   "id": "ede7746c",
   "metadata": {},
   "source": [
    "It is not recommended to use `type = 'impulse'` for continuous random variables."
   ]
  },
  {
   "cell_type": "code",
   "execution_count": null,
   "id": "0c4d6301",
   "metadata": {},
   "outputs": [],
   "source": [
    "P = Normal(0,1)\n",
    "X = RV(P)\n",
    "X.sim(100).plot(type = 'impulse')"
   ]
  },
  {
   "cell_type": "markdown",
   "id": "e3ee1ba4",
   "metadata": {},
   "source": [
    "Several distributions can be overlaid on the same plot.  The parameter `alpha`, which can take a value between 0 and 1, controls the level of transparency."
   ]
  },
  {
   "cell_type": "code",
   "execution_count": null,
   "id": "90ee9e3a",
   "metadata": {},
   "outputs": [],
   "source": [
    "for mu in [-2, 0, 2]:\n",
    "    RV(Normal(mean = mu, sd = 1)).sim(10000).plot(alpha = 0.5)"
   ]
  },
  {
   "cell_type": "markdown",
   "id": "b4a01095",
   "metadata": {},
   "source": [
    "When overlaying several discrete distributions in a plot, it is recommended to use the `jitter = True` option so that the bars do not coincide."
   ]
  },
  {
   "cell_type": "code",
   "execution_count": null,
   "id": "5de0576b",
   "metadata": {},
   "outputs": [],
   "source": [
    "RV(Binomial(10, 0.1)).sim(10000).plot(jitter = True)\n",
    "RV(Poisson(1)).sim(10000).plot(jitter = True)"
   ]
  },
  {
   "cell_type": "markdown",
   "id": "2e9ace54",
   "metadata": {},
   "source": [
    "<a id='distribution'></a>\n",
    "[Back to contents](#contents)"
   ]
  },
  {
   "cell_type": "markdown",
   "id": "fa085c9e",
   "metadata": {},
   "source": [
    "### Distribution of a random variable\n",
    "\n",
    "Tabulate and plot provide summaries of the *distribution* of a random variable.  A distribution is a probability model on the real line which describes the possible values that the random variable can take and their relative likelihoods.   The distribution of a random variable is determined by (1) the underlying probability space on which the random variable is defined and (2) the function (mapping the probability space outcomes to real numbers) that defines the random variable.\n",
    "\n",
    "It also common to specify the distribution of a random variable directly.  For example, a problem may  state \"let $X$ have a Binomial(5, 0.5) distribution\" without mention of the underlying probabilty space or random variable.  `RV` can also be used to define a random variable by specifying its distribution.  (Many [common probability distributions](common.html) are built into Symbulate.)"
   ]
  },
  {
   "cell_type": "code",
   "execution_count": null,
   "id": "98f81f8d",
   "metadata": {},
   "outputs": [],
   "source": [
    "X = RV(Binomial(n = 5, p = 0.5))\n",
    "X.sim(10000).plot()"
   ]
  },
  {
   "cell_type": "markdown",
   "id": "878bf03e",
   "metadata": {},
   "source": [
    "Note that specifying a random variable by specifying its distribution in this way has the effect of defining the probability space to be the distribution of the random variable and the function defined on this space to be the identity.  However, it is more appropriate to think of defining a random variable with the given distribution on an *unspecified probability space* through an *unspecified function*."
   ]
  },
  {
   "cell_type": "markdown",
   "id": "00ba6227",
   "metadata": {},
   "source": [
    "<a id='transform'></a>\n",
    "[Back to contents](#contents)"
   ]
  },
  {
   "cell_type": "markdown",
   "id": "af1a8ade",
   "metadata": {},
   "source": [
    "### Functions of a random variable"
   ]
  },
  {
   "cell_type": "markdown",
   "id": "15f88bf9",
   "metadata": {},
   "source": [
    "Functions of random variables are also random variables.  If X is an RV, define a new RV $Y=g(X)$ using `X.apply(g)`.  The resulting $Y$ behaves like any other RV.\n",
    "\n",
    "Note that for many math functions such as `exp` and `log` and `sin`, you can simply call `g(X)` rather than `X.apply(g)`.\n",
    "\n",
    "*Example.* If $X$ has a normal distribution, then $e^X$ has a *lognormal* distribution."
   ]
  },
  {
   "cell_type": "code",
   "execution_count": null,
   "id": "0088bd8a",
   "metadata": {},
   "outputs": [],
   "source": [
    "P = Normal(0,1)\n",
    "X = RV(P)"
   ]
  }
 ],
 "metadata": {},
 "nbformat": 4,
 "nbformat_minor": 5
}
