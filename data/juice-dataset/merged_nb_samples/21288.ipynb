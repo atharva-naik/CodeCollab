{
 "cells": [
  {
   "cell_type": "markdown",
   "id": "cf626796",
   "metadata": {},
   "source": [
    "<h1>Table of Contents<span class=\"tocSkip\"></span></h1>\n",
    "<div class=\"toc\"><ul class=\"toc-item\"><li><span><a href=\"#Preamble\" data-toc-modified-id=\"Preamble-1\"><span class=\"toc-item-num\">1&nbsp;&nbsp;</span>Preamble</a></span><ul class=\"toc-item\"><li><span><a href=\"#Some-general-parameters\" data-toc-modified-id=\"Some-general-parameters-1.1\"><span class=\"toc-item-num\">1.1&nbsp;&nbsp;</span>Some general parameters</a></span></li><li><span><a href=\"#Functions\" data-toc-modified-id=\"Functions-1.2\"><span class=\"toc-item-num\">1.2&nbsp;&nbsp;</span>Functions</a></span><ul class=\"toc-item\"><li><ul class=\"toc-item\"><li><span><a href=\"#get_weights_structure\" data-toc-modified-id=\"get_weights_structure-1.2.0.1\"><span class=\"toc-item-num\">1.2.0.1&nbsp;&nbsp;</span>get_weights_structure</a></span></li><li><span><a href=\"#Plot-profile-color\" data-toc-modified-id=\"Plot-profile-color-1.2.0.2\"><span class=\"toc-item-num\">1.2.0.2&nbsp;&nbsp;</span>Plot profile color</a></span></li><li><span><a href=\"#Profile-black-points\" data-toc-modified-id=\"Profile-black-points-1.2.0.3\"><span class=\"toc-item-num\">1.2.0.3&nbsp;&nbsp;</span>Profile black points</a></span></li><li><span><a href=\"#Plot-gray-profile\" data-toc-modified-id=\"Plot-gray-profile-1.2.0.4\"><span class=\"toc-item-num\">1.2.0.4&nbsp;&nbsp;</span>Plot gray profile</a></span></li></ul></li></ul></li></ul></li><li><span><a href=\"#An-example-of-recall\" data-toc-modified-id=\"An-example-of-recall-2\"><span class=\"toc-item-num\">2&nbsp;&nbsp;</span>An example of recall</a></span><ul class=\"toc-item\"><li><span><a href=\"#The-example\" data-toc-modified-id=\"The-example-2.1\"><span class=\"toc-item-num\">2.1&nbsp;&nbsp;</span>The example</a></span></li><li><span><a href=\"#Matrix-variability\" data-toc-modified-id=\"Matrix-variability-2.2\"><span class=\"toc-item-num\">2.2&nbsp;&nbsp;</span>Matrix variability</a></span></li></ul></li><li><span><a href=\"#General-plot\" data-toc-modified-id=\"General-plot-3\"><span class=\"toc-item-num\">3&nbsp;&nbsp;</span>General plot</a></span><ul class=\"toc-item\"><li><span><a href=\"#Load-an-example-to-plot\" data-toc-modified-id=\"Load-an-example-to-plot-3.1\"><span class=\"toc-item-num\">3.1&nbsp;&nbsp;</span>Load an example to plot</a></span></li><li><span><a href=\"#The-plot\" data-toc-modified-id=\"The-plot-3.2\"><span class=\"toc-item-num\">3.2&nbsp;&nbsp;</span>The plot</a></span></li></ul></li></ul></div>"
   ]
  },
  {
   "cell_type": "markdown",
   "id": "db6bd264",
   "metadata": {},
   "source": [
    "# Preamble"
   ]
  },
  {
   "cell_type": "code",
   "execution_count": null,
   "id": "70e21d1e",
   "metadata": {},
   "outputs": [],
   "source": [
    "import  pprint\n",
    "import  subprocess \n",
    "import sys \n",
    "sys.path.append('../')\n",
    "\n",
    "import numpy as np\n",
    "import scipy as sp\n",
    "import statsmodels.api as sm\n",
    "import matplotlib.pyplot as plt\n",
    "import matplotlib\n",
    "import matplotlib.gridspec as gridspec\n",
    "from mpl_toolkits.axes_grid1 import make_axes_locatable\n",
    "import seaborn as sns\n",
    "\n",
    "%matplotlib inline\n",
    "\n",
    "np.set_printoptions(suppress=True, precision=5)\n",
    "\n",
    "from network import Protocol, NetworkManager, Network\n",
    "from patterns_representation import PatternsRepresentation\n",
    "from analysis_functions import calculate_persistence_time, calculate_recall_quantities,calculate_triad_connectivity\n",
    "from plotting_functions import plot_weight_matrix, plot_network_activity_angle, plot_persistent_matrix"
   ]
  },
  {
   "cell_type": "markdown",
   "id": "a38f5e76",
   "metadata": {},
   "source": [
    "## Some general parameters"
   ]
  },
  {
   "cell_type": "code",
   "execution_count": null,
   "id": "f404171b",
   "metadata": {},
   "outputs": [],
   "source": [
    "def plot_profile_color(training_times_vector, ax=None):\n",
    "    \n",
    "    if ax is None:\n",
    "        fig = plt.figure()\n",
    "        ax = fig.add_subplot(111)\n",
    "    colors1 = sns.color_palette(\"Reds\", num)\n",
    "    colors2 = sns.color_palette(\"Blues\", num)\n",
    "\n",
    "    inter_pulse_interval = 0\n",
    "    \n",
    "    for index, training_time in enumerate(training_times_vector):\n",
    "        results_dictionary = get_weights_structure(training_time, inter_pulse_interval, tau_z_pre, \n",
    "                                                   tau_z_post, include_first=True)\n",
    "        w_backs = results_dictionary['w_backs']\n",
    "        range_backs = results_dictionary['range backs']\n",
    "        w_rests = results_dictionary['w_rests']\n",
    "        range_rests = results_dictionary['range rests']\n",
    "\n",
    "        ax.plot(range_rests, w_rests, 'o-', color=colors1[index], ms=ms, lw=lw)\n",
    "        ax.plot(range_backs, w_backs, 'o-', color=colors2[index], ms=ms, lw=lw)\n",
    "        ax.plot(from_index, results_dictionary['ws'], 'o', color='black', ms=ms)\n",
    "\n",
    "    ax.set_title('Connectivity profile')\n",
    "    ax.set_xlabel('Unit')\n",
    "    ax.set_ylabel('w')\n",
    "    \n",
    "    ax.axvline(from_index, ls='--', color='black')\n",
    "    \n",
    "    return ax "
   ]
  },
  {
   "cell_type": "markdown",
   "id": "100713cc",
   "metadata": {},
   "source": [
    "#### Profile black points"
   ]
  },
  {
   "cell_type": "code",
   "execution_count": null,
   "id": "f2dc72fa",
   "metadata": {},
   "outputs": [],
   "source": [
    "def plot_profile_black_points(training_times_vector, ax=None):\n",
    "    num = training_times_vector.size\n",
    "    colors1 = sns.color_palette(\"Reds\", num)\n",
    "    colors2 = sns.color_palette(\"Blues\", num)\n",
    "\n",
    "    inter_pulse_interval = 0\n",
    "\n",
    "    if ax is None:\n",
    "        fig = plt.figure()\n",
    "        ax = fig.add_subplot(111)\n",
    "\n",
    "\n",
    "    for index, training_time in enumerate(training_times_vector):\n",
    "        results_dictionary = get_weights_structure(training_time, inter_pulse_interval, tau_z_pre, \n",
    "                                                   tau_z_post, include_first=True)\n",
    "\n",
    "        w_here = results_dictionary['w']\n",
    "        w_backs = results_dictionary['w_backs']\n",
    "        range_backs = results_dictionary['range backs']\n",
    "        w_rests = results_dictionary['w_rests']\n",
    "        range_rests = results_dictionary['range rests']\n",
    "\n",
    "        ax.plot(w_here, 'o', ms=ms, color='black')\n",
    "        ax.plot(range_rests, w_rests, ls='-', lw=lw, color=colors1[index])\n",
    "        ax.plot(range_backs, w_backs, ls='-', lw=lw, color=colors2[index])\n",
    "\n",
    "    ax.set_title('Connectivity profile')\n",
    "    ax.set_xlabel('Unit id')\n",
    "    ax.set_ylabel('w')\n",
    "    \n",
    "    ax.axvline(from_index, ls='--', color='black')\n",
    "\n",
    "    return ax"
   ]
  },
  {
   "cell_type": "markdown",
   "id": "5a450ede",
   "metadata": {},
   "source": [
    "#### Plot gray profile"
   ]
  },
  {
   "cell_type": "code",
   "execution_count": null,
   "id": "4282ffd5",
   "metadata": {},
   "outputs": [],
   "source": [
    "def plot_profile_grays(training_times_vector, ax=None, title=False):\n",
    "    \n",
    "    num = int(training_times_vector.size * 1.5)\n",
    "    colors = sns.color_palette(\"Greys_r\", num)\n",
    "\n",
    "    inter_pulse_interval = 0\n",
    "    \n",
    "    if ax is None:\n",
    "        fig = plt.figure()\n",
    "        ax = fig.add_subplot(111)\n",
    "        \n",
    "    \n",
    "    for index, training_time in enumerate(training_times_vector):\n",
    "        results_dictionary = get_weights_structure(training_time, inter_pulse_interval, tau_z_pre, \n",
    "                                                   tau_z_post, include_first=False)\n",
    "        w = results_dictionary['w']\n",
    "        ax.plot(w, 'o-', color=colors[index], ms=ms, lw=lw)\n",
    "    \n",
    "    if title:\n",
    "        ax.set_title('Connectivity profile')\n",
    "    \n",
    "    ax.set_xlabel('Unit id')\n",
    "    ax.set_ylabel('w')\n",
    "    \n",
    "    ax.axvline(from_index, ls='--', color='black')\n",
    "\n",
    "    \n",
    "    return ax"
   ]
  },
  {
   "cell_type": "markdown",
   "id": "94a9d22c",
   "metadata": {},
   "source": [
    "# An example of recall"
   ]
  },
  {
   "cell_type": "markdown",
   "id": "4aa0312e",
   "metadata": {},
   "source": [
    "## The example"
   ]
  },
  {
   "cell_type": "code",
   "execution_count": null,
   "id": "3f8bbb3a",
   "metadata": {},
   "outputs": [],
   "source": [
    "strict_maximum = True\n",
    "\n",
    "g_a = 1.0\n",
    "g_I = 2.0\n",
    "tau_a = 0.250\n",
    "G = 25.0\n",
    "sigma_out = 0.0\n",
    "tau_s = 0.010\n",
    "\n",
    "hypercolumns = 2\n",
    "minicolumns = 11\n",
    "n_patterns = minicolumns\n",
    "\n",
    "# Training protocol\n",
    "training_times = 0.100\n",
    "training_times = [training_times for i in range(n_patterns)]\n",
    "inter_pulse_intervals = [0 for i in range(n_patterns)]\n",
    "inter_sequence_interval = 0.0\n",
    "resting_time = 0.0\n",
    "epochs = 1\n",
    "\n",
    "# Manager properties\n",
    "values_to_save = ['o']\n",
    "\n",
    "# Neural Network\n",
    "nn = Network(hypercolumns, minicolumns, G=G, tau_s=tau_s, tau_z_pre=tau_z_pre, tau_z_post=tau_z_post,\n",
    "             tau_a=tau_a, g_a=g_a, g_I=g_I, sigma_out=sigma_out, epsilon=epsilon, prng=np.random,\n",
    "             strict_maximum=strict_maximum, perfect=False, normalized_currents=True)\n",
    "\n",
    "\n",
    "# Build the manager\n",
    "manager = NetworkManager(nn=nn, dt=dt, values_to_save=values_to_save)\n",
    "# Build the representation\n",
    "representation = PatternsRepresentation(manager.canonical_activity_representation[:n_patterns],\n",
    "                                        minicolumns=minicolumns)\n",
    "\n",
    "# Build the protocol\n",
    "protocol = Protocol()\n",
    "protocol.simple_protocol(representation, training_times=training_times, inter_pulse_intervals=inter_pulse_intervals, inter_sequence_interval=inter_sequence_interval, epochs=epochs, resting_time=resting_time)\n",
    "\n",
    "# Run the protocol\n",
    "timed_input = manager.run_network_protocol_offline(protocol=protocol)\n",
    "plot_weight_matrix(manager);"
   ]
  },
  {
   "cell_type": "code",
   "execution_count": null,
   "id": "b02e38a9",
   "metadata": {},
   "outputs": [],
   "source": [
    "T_persistence = 0.100\n",
    "manager.set_persistent_time_with_adaptation_gain(T_persistence=T_persistence)\n",
    "T_recall = T_persistence * minicolumns\n",
    "T_cue = 1 * tau_s\n",
    "nr = manager.canonical_network_representation\n",
    "aux = calculate_recall_quantities(manager, nr, T_recall, T_cue, remove=remove,\n",
    "                                  reset=True, empty_history=True)"
   ]
  },
  {
   "cell_type": "code",
   "execution_count": null,
   "id": "5fde77fe",
   "metadata": {},
   "outputs": [],
   "source": [
    "cmap = matplotlib.cm.binary\n",
    "o1 = manager.history['o']\n",
    "fig = plt.figure()\n",
    "ax = fig.add_subplot(211)\n",
    "extent = [0, manager.T_recall_total, 0, minicolumns]\n",
    "ax.imshow(o1.T, cmap=cmap, origin='lower', aspect='auto', extent=extent)\n",
    "\n",
    "ax.set_ylabel('Unit id')\n",
    "ax.set_title(r'$T_{persistence}$ = ' + str(T_persistence) + ' (s)')"
   ]
  },
  {
   "cell_type": "code",
   "execution_count": null,
   "id": "e62c6786",
   "metadata": {},
   "outputs": [],
   "source": [
    "plot_network_activity_angle(manager, cmap=cmap)"
   ]
  },
  {
   "cell_type": "markdown",
   "id": "38ad68bb",
   "metadata": {},
   "source": [
    "## Matrix variability"
   ]
  }
 ],
 "metadata": {},
 "nbformat": 4,
 "nbformat_minor": 5
}
