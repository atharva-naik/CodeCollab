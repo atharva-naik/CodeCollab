{
 "cells": [
  {
   "cell_type": "markdown",
   "id": "f7544626",
   "metadata": {},
   "source": [
    "Running pyGLAS for stability check"
   ]
  },
  {
   "cell_type": "markdown",
   "id": "48b28bd0",
   "metadata": {},
   "source": [
    "It is possible to run pyGLAS to determine the structural stabilty of GPCRs exposed to different temperatures"
   ]
  },
  {
   "cell_type": "code",
   "execution_count": null,
   "id": "3cac35fe",
   "metadata": {},
   "outputs": [],
   "source": [
    "ls"
   ]
  },
  {
   "cell_type": "markdown",
   "id": "7960b796",
   "metadata": {},
   "source": [
    "Receptor file = Receptor_400K_GPCRDB.pdb\n",
    "Trajectory file = Trajectory_400K.xtc"
   ]
  },
  {
   "cell_type": "code",
   "execution_count": null,
   "id": "b389e605",
   "metadata": {},
   "outputs": [],
   "source": [
    "run ../../../scripts/pyGLAS.py -r Receptor_400K_GPCRDB.pdb -x Trajectory_400K.xtc --no_nachos"
   ]
  },
  {
   "cell_type": "markdown",
   "id": "034d5c57",
   "metadata": {},
   "source": [
    "As with the other examples, there is now a pickle file (GLAS_change_Receptor_400K_GPCRDB.p) with the results, \n",
    "as well as a plot (Receptor_400K_GPCRDB_GLAS_overTime.svg) and the CHICOs (Receptor_400K_GPCRDB_CHICOs.txt)."
   ]
  }
 ],
 "metadata": {},
 "nbformat": 4,
 "nbformat_minor": 5
}
