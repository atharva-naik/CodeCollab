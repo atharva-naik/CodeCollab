{
 "cells": [
  {
   "cell_type": "markdown",
   "id": "90d9d98c",
   "metadata": {},
   "source": [
    "# Chapter 6: Bayesian Model fitting II"
   ]
  },
  {
   "cell_type": "markdown",
   "id": "554f658e",
   "metadata": {},
   "source": [
    "# Exercises"
   ]
  },
  {
   "cell_type": "markdown",
   "id": "4cc98ebe",
   "metadata": {},
   "source": [
    "## Exercise 1 (20 points)\n",
    "\n",
    "You have a set of $n$ data points, $\\{x_i\\}$, which have been drawn from a Gaussian distribution of known mean $\\mu$, and unknown variance, $\\sigma^2$\n",
    "We want to find the posterior PDF over the variance. Show that when you adopt the following prior for the variance\n",
    "\n",
    "$$p(\\sigma^2 | \\alpha, \\beta) = \\frac{1}{Z} \\sigma^{-2 \\alpha - 2} \\exp\\left(-\\frac{\\beta}{\\sigma^2}\\right)$$\n",
    "\n",
    "the posterior is conjugate with this prior ($\\alpha > 0$ and $\\beta>0$). Write down all of your steps."
   ]
  },
  {
   "cell_type": "markdown",
   "id": "543f1e27",
   "metadata": {},
   "source": [
    "## Exercice 2 (35 points)\n",
    "\n",
    "We revisit the exercise of the lighthouse, but this time we will completely solve the problem in 2 dimensions.\n",
    "\n",
    "**Recall of the problem**: A lighthouse is somewhere off a piece of straight coastline at a position $x$ along the shore and a distance $y$ out at sea. It emits short flashes (perfectly collimated) at random times and hence at random azimuths, $\\theta$, from its position, _i.e._, $p(\\theta) = constant$. You see these flashes on the coast while walking along the shore. You record your position $D_k$ along the coastline at the instant you see a flash, but you do not record the direction the flash came from.\n",
    "\n",
    "* the dataset of $\\{D_k\\}$ is in the file `lighthouse.dat`. (Same dataset as before) \n",
    "* All distances are in $km$.\n",
    "\n",
    "We assume (prior information) that the lighthouse is constrained to be located within the rectangle $-2 < x < 2$ , $0 < y < 2$ , with uniform prior, where $x=0$ coincides with $D=0$.\n",
    "\n",
    "Below is a schematic to help you understand the situation."
   ]
  }
 ],
 "metadata": {},
 "nbformat": 4,
 "nbformat_minor": 5
}
