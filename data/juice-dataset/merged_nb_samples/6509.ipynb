{
 "cells": [
  {
   "cell_type": "markdown",
   "id": "876e469c",
   "metadata": {},
   "source": [
    "```HTML\n",
    "<!doctype html>\n",
    "<html lang=\"en\">\n",
    "  <head>\n",
    "    <!-- Required meta tags -->\n",
    "    <meta charset=\"utf-8\">\n",
    "    <meta name=\"viewport\" content=\"width=device-width, initial-scale=1, shrink-to-fit=no\">\n",
    "\n",
    "    <!-- Bootstrap CSS -->\n",
    "    <link rel=\"stylesheet\" href=\"https://maxcdn.bootstrapcdn.com/bootstrap/4.0.0-beta.3/css/bootstrap.min.css\" crossorigin=\"anonymous\">\n",
    "\n",
    "    <!-- Page title -->\n",
    "    <title>Hello, world!</title>\n",
    "  </head>\n",
    "  <body>\n",
    "    \n",
    "    <!-- Content inside Bootstrap class container -->\n",
    "    <div class=\"container\">\n",
    "     <div class=\"col-6\">\n",
    "        <h1>{{ content.company }} from {{ content.country }}</h1>\n",
    "        <img src=\"{{ logo }}\" style=\"width:50%\"/>\n",
    "        <p class=\"lead\">\n",
    "            Use this document as a way to quickly start any new project.<br>\n",
    "            Find examples of objects and layouts <a href='https://getbootstrap.com/docs/4.0/examples/'>here</a>\n",
    "        </p>\n",
    "      </div>\n",
    "    </div><!-- /.container -->\n",
    "\n",
    "    \n",
    "\n",
    "    <!-- Load JavaScript -->\n",
    "    <!-- jQuery first, then Popper.js, then Bootstrap JS -->\n",
    "    <script src=\"https://code.jquery.com/jquery-3.2.1.slim.min.js\" crossorigin=\"anonymous\"></script>\n",
    "    <script src=\"https://cdnjs.cloudflare.com/ajax/libs/popper.js/1.12.9/umd/popper.min.js\" crossorigin=\"anonymous\"></script>\n",
    "    <script src=\"https://maxcdn.bootstrapcdn.com/bootstrap/4.0.0-beta.3/js/bootstrap.min.js\" crossorigin=\"anonymous\"></script>\n",
    "  </body>\n",
    "</html>\n",
    "```"
   ]
  },
  {
   "cell_type": "markdown",
   "id": "a97e7355",
   "metadata": {},
   "source": [
    "Note the `{{ }}` tags inside the HTML code. This are tags that Jinja2 will process and fill with the apropiate variables passed from Flask. Below is a new version of the code that should go inside `app.py` in order to pass the information that Jinja expects to render the template correctly."
   ]
  },
  {
   "cell_type": "markdown",
   "id": "fb3d8f6d",
   "metadata": {},
   "source": [
    "```Python\n",
    "from flask import Flask, render_template\n",
    "\n",
    "app = Flask(__name__)\n",
    "\n",
    "@app.route('/jinja_template')\n",
    "def jinja_template():\n",
    "    dictionary = {'company': 'Agile', 'country': 'Canada'}\n",
    "    image_location = 'http://bit.ly/2mY5YUz'\n",
    "    return render_template('jinja_template.html', logo=image_location, content=dictionary)\n",
    "\n",
    "if __name__ == '__main__':\n",
    "    app.run()\n",
    "```"
   ]
  },
  {
   "cell_type": "markdown",
   "id": "e96114c7",
   "metadata": {},
   "source": [
    "<div class=\"alert alert-success\">\n",
    "    <b>Exercise</b>:\n",
    "     <ul>\n",
    "      <li>\n",
    "      Use `numpy` to make numerical calculations and return the results to your template!\n",
    "      </li>\n",
    "      <p>\n",
    "    </ul>\n",
    "</div>"
   ]
  },
  {
   "cell_type": "markdown",
   "id": "680562f6",
   "metadata": {},
   "source": [
    "Let's now do something even better. Let's generate an new image everytime we access one of the views and display it on the template!"
   ]
  },
  {
   "cell_type": "markdown",
   "id": "bc833647",
   "metadata": {},
   "source": [
    "```Python\n",
    "import numpy as np\n",
    "import matplotlib.pyplot as plt\n",
    "%matplotlib inline\n",
    "\n",
    "points = np.random.rand(10)\n",
    "plt.plot(points)\n",
    "plt.savefig(\"static/myfig.png\")\n",
    "```"
   ]
  },
  {
   "cell_type": "markdown",
   "id": "19d5e941",
   "metadata": {},
   "source": [
    "<div class=\"alert alert-success\">\n",
    "    <b>Exercise</b>:\n",
    "     <ul>\n",
    "      <li>\n",
    "      Incorporate the previous code into your `app.py` to store an image inside the directory `static/` and display it on your template!\n",
    "      </li>\n",
    "      <p>\n",
    "    </ul>\n",
    "</div>"
   ]
  },
  {
   "cell_type": "markdown",
   "id": "e50ec98c",
   "metadata": {},
   "source": [
    "If you're feeling confident, take it one step further!"
   ]
  },
  {
   "cell_type": "markdown",
   "id": "aaeb996a",
   "metadata": {},
   "source": [
    "<div class=\"alert alert-success\">\n",
    "    <b>Exercise</b>:\n",
    "     <ul>\n",
    "      <li>\n",
    "      Write a function to make a LAS plot using matplotlib and any other library you may need and display it on the `index.html` template.\n",
    "      </li>\n",
    "      <p>\n",
    "    </ul>\n",
    "</div>"
   ]
  },
  {
   "cell_type": "markdown",
   "id": "ccd0a6c5",
   "metadata": {},
   "source": [
    "You can also pass to your template lists of elements. This is useful if you have a number of objects that are meant to be displayed with the same style like a list. The Jinja2 tags that handle this are:\n",
    "\n",
    "```HTML\n",
    "{% for element in elements %}\n",
    "    <div><p>{{ element }} says: <b>{{ element }}</b></p></div>\n",
    "{% endfor %}\n",
    "```\n",
    "\n",
    "Let's put that HTML code back in our template and modify `app.py` to pass a list call `elements` to it!"
   ]
  },
  {
   "cell_type": "markdown",
   "id": "f2780b27",
   "metadata": {},
   "source": [
    "```Python\n",
    "from flask import Flask, render_template\n",
    "\n",
    "app = Flask(__name__)\n",
    "\n",
    "@app.route('/')\n",
    "def index():\n",
    "    content = {'company': 'Agile', 'country': 'Canada'}\n",
    "    logo = '/static/logo.png'\n",
    "    elements = ['One', 'Two', 'Three']\n",
    "    return render_template('index.html', logo=logo,\n",
    "                           content=content, elements=elements)\n",
    "\n",
    "@app.route('/hello')\n",
    "def hello_world():\n",
    "    return 'Hello World!'\n",
    "\n",
    "if __name__ == '__main__':\n",
    "    app.run()\n",
    "```"
   ]
  },
  {
   "cell_type": "markdown",
   "id": "3c9c6642",
   "metadata": {},
   "source": [
    "---\n",
    "### APIs\n",
    "\n",
    "An application programming interface (API) is used to make simple the communication between computer programs or services. APIs remove the need for users to have to understand or compile a program in order to use it. This makes developing software that depends or uses third party services much easier. In the case of web APIs, almost every major web service has an API waiting for requests to use their services.\n",
    "\n",
    "|   HTTP |   Action | \n",
    "|---------|---------|\n",
    "| GET |  Retrieve |\n",
    "| POST | Create |\n",
    "| PUT | Update |\n",
    "| DELETE | Delete |\n",
    "\n",
    "To understand how to use a simple API, we will make requests to `curvenam.es`API. This particular API serves as a lookup tool of wireline log mnemonics. First we need to load helper libraries `requests` and `json` to communicate with the [RESTful](https://en.wikipedia.org/wiki/Representational_state_transfer) API. To install `requests` we can use either `conda` or `pip`:\n",
    "- `conda install requests`\n",
    "- `pip install requests`\n",
    "\n",
    "The `json` library is standard and comes with the Python installation."
   ]
  },
  {
   "cell_type": "code",
   "execution_count": null,
   "id": "37b5614e",
   "metadata": {},
   "outputs": [],
   "source": [
    "import requests\n",
    "\n",
    "# The following line makes a GET request to the API\n",
    "payload = {'mnemonic': 'GR', 'method': 'fuzzy'}\n",
    "response = requests.get('http://curvenam.es/lookup', params=payload)\n",
    "# json.loads() parses the response and makes a Python dict object\n",
    "response_dict = response.json()"
   ]
  },
  {
   "cell_type": "markdown",
   "id": "45b9db0c",
   "metadata": {},
   "source": [
    "Part of the key in APIs is the documentation. To use them, you need to know what is needed in a request in order for it to be sucessful. In the case of `curvenam.es`, the API entry point or web address is `http://curvenam.es/lookup` and requires the keywords `mnemonic`, `method`, `limit` and `maxdist` to be specified. The syntax is the same for any `RESTful` API: `API_entry_point?keyword1=value1&keyword2=value2` and so on, for other keywords."
   ]
  }
 ],
 "metadata": {},
 "nbformat": 4,
 "nbformat_minor": 5
}
