{
 "cells": [
  {
   "cell_type": "code",
   "execution_count": null,
   "id": "d0cec6f6",
   "metadata": {},
   "outputs": [],
   "source": [
    "import pandas as pd\n",
    "import numpy as np\n",
    "\n",
    "from sklearn.linear_model import LinearRegression\n",
    "from sklearn.metrics import mean_squared_error, r2_score, explained_variance_score\n",
    "\n",
    "import statsmodels.formula.api as smf\n",
    "from statsmodels.stats.outliers_influence import variance_inflation_factor\n",
    "from patsy import dmatrices\n",
    "\n",
    "import seaborn as sns\n",
    "%matplotlib inline\n",
    "sns.set(style=\"darkgrid\", \n",
    "        rc={\"figure.figsize\":(12,8), \n",
    "            \"axes.labelsize\":14, \n",
    "            \"xtick.labelsize\":12, \n",
    "            \"ytick.labelsize\":12})"
   ]
  },
  {
   "cell_type": "markdown",
   "id": "48be3a7b",
   "metadata": {},
   "source": [
    "## A. Potential Problems with Linear Regression\n",
    " \n",
    "1. Correlation of error terms\n",
    "1. Non-linear relationship between $Y$ and $X$\n",
    "1. Heteroscedasticity: non-constant variance of error terms\n",
    "1. High-leverage points\n",
    "1. Outliers\n",
    "1. Collinearity\n",
    "\n",
    "### Boston Housing Data"
   ]
  },
  {
   "cell_type": "code",
   "execution_count": null,
   "id": "61412d18",
   "metadata": {},
   "outputs": [],
   "source": [
    "df = pd.read_csv(\"../../data/csv/Boston.csv\")\n",
    "df.head()"
   ]
  },
  {
   "cell_type": "code",
   "execution_count": null,
   "id": "035fd187",
   "metadata": {},
   "outputs": [],
   "source": [
    "df.columns.tolist()"
   ]
  },
  {
   "cell_type": "markdown",
   "id": "38cc9437",
   "metadata": {},
   "source": [
    "CRIM - per capita crime rate by town  \n",
    "ZN - proportion of residential land zoned for lots over 25,000 sq.ft.  \n",
    "INDUS - proportion of non-retail business acres per town  \n",
    "CHAS - Charles River dummy variable (1 if tract bounds river; 0 otherwise)  \n",
    "NOX - nitric oxides concentration (parts per 10 million)  \n",
    "RM - average number of rooms per dwelling  \n",
    "AGE - proportion of owner-occupied units built prior to 1940  \n",
    "DIS - weighted distances to five Boston employment centres  \n",
    "RAD - index of accessibility to radial highways  \n",
    "TAX - full-value property-tax rate per \\$10,000  \n",
    "PTRATIO - pupil-teacher ratio by town  \n",
    "BLACK - $1000(Bk - 0.63)^2$, where Bk is the proportion of blacks by town  \n",
    "LSTAT - percentage lower status of the population  \n",
    "MEDV - Median value of owner-occupied homes in $1000's"
   ]
  },
  {
   "cell_type": "code",
   "execution_count": null,
   "id": "50054a7b",
   "metadata": {},
   "outputs": [],
   "source": [
    "df.describe()"
   ]
  },
  {
   "cell_type": "markdown",
   "id": "db4cfd5f",
   "metadata": {},
   "source": [
    "#### 2. Non-linear Relationship Between $Y$ and $X$\n",
    "\n",
    "Identification:  \n",
    "The plot of residuals vs. fitted (predicted) values $\\hat{y_i}$ has a pattern\n",
    "\n",
    "Solution:  \n",
    "Transform $X$\n",
    "\n",
    "#### 3. Heteroscedasticity\n",
    "\n",
    "Identification:  \n",
    "The plot of residuals vs. fitted values has a pattern\n",
    "\n",
    "Solution:  \n",
    "Transform $Y$"
   ]
  },
  {
   "cell_type": "code",
   "execution_count": null,
   "id": "e1cb9fd1",
   "metadata": {},
   "outputs": [],
   "source": [
    "# Predictors\n",
    "x = df.iloc[:,:-1]\n",
    "x.head()"
   ]
  },
  {
   "cell_type": "code",
   "execution_count": null,
   "id": "779f46ed",
   "metadata": {},
   "outputs": [],
   "source": [
    "# Fit the linear model\n",
    "lm = smf.ols(formula = \"medv ~ x\", data = df).fit()"
   ]
  },
  {
   "cell_type": "code",
   "execution_count": null,
   "id": "e337ea2b",
   "metadata": {},
   "outputs": [],
   "source": [
    "fig = sns.regplot(x=lm.predict(), y=lm.resid, order=2)\n",
    "fig.set(xlabel='Fitted Values', ylabel='Residuals', title='Response: Y');"
   ]
  },
  {
   "cell_type": "markdown",
   "id": "8f370957",
   "metadata": {},
   "source": [
    "The plot of residuals vs. fitted values has a parabolic shape. Let's try fitting the model with $\\log(Y)$ and $\\sqrt{Y}$:"
   ]
  },
  {
   "cell_type": "code",
   "execution_count": null,
   "id": "fb66848c",
   "metadata": {},
   "outputs": [],
   "source": [
    "lmLog = smf.ols(formula = \"np.log(medv) ~ x\", data = df).fit()\n",
    "fig = sns.regplot(x=lmLog.predict(), y=lmLog.resid, fit_reg=False)\n",
    "fig.set(xlabel='Fitted Values', ylabel='Residuals', title=r'Response: $log(Y)$');"
   ]
  },
  {
   "cell_type": "code",
   "execution_count": null,
   "id": "b8e868c1",
   "metadata": {},
   "outputs": [],
   "source": [
    "lmSqrt = smf.ols(formula = \"np.sqrt(medv) ~ x\", data = df).fit()\n",
    "fig = sns.regplot(x=lmSqrt.predict(), y=lmSqrt.resid)\n",
    "fig.set(xlabel='Fitted Values', ylabel='Residuals', title=r'Response: $\\sqrt{Y}$');"
   ]
  },
  {
   "cell_type": "markdown",
   "id": "e206cef3",
   "metadata": {},
   "source": [
    "The plot with $log(Y)$ has a fan-in, funnel shape. The plot with $\\sqrt{Y}$ has a better random pattern about 0."
   ]
  },
  {
   "cell_type": "markdown",
   "id": "53997ccf",
   "metadata": {},
   "source": [
    "#### 4. High-leverage Points\n",
    "\n",
    "Definition:  \n",
    "A predictor value $x_i$ that doesn't follow the pattern of the remaining predictor values, and thus affecting the estimated regression line.\n",
    "\n",
    "Identification:  \n",
    "$x_i$ is said to have high leverage if its leverage statistic $> \\frac{p+1}{n}$, where $p=$ # of predictors and $n=$ # observations\n",
    "\n",
    "Solution:  \n",
    "Consider removing this $x_i$ from the overall dataset, particularly if it is also an outlier\n"
   ]
  },
  {
   "cell_type": "code",
   "execution_count": null,
   "id": "8764d366",
   "metadata": {},
   "outputs": [],
   "source": [
    "df.shape"
   ]
  },
  {
   "cell_type": "markdown",
   "id": "e927e10b",
   "metadata": {},
   "source": [
    "Any observation whose leverage statistic is greater than $\\frac{p+1}{n}=\\frac{13+1}{506}=0.0277$ counts as a high-leverage point."
   ]
  },
  {
   "cell_type": "code",
   "execution_count": null,
   "id": "ec40df71",
   "metadata": {},
   "outputs": [],
   "source": [
    "influence = lm.get_influence()"
   ]
  },
  {
   "cell_type": "code",
   "execution_count": null,
   "id": "a8cf054b",
   "metadata": {},
   "outputs": [],
   "source": [
    "# Calculate Leverage Statistic\n",
    "leverage = influence.hat_matrix_diag\n",
    "dfRes = pd.concat([df, pd.Series(leverage, name=\"leverage\")], axis=1)\n",
    "print dfRes.shape\n",
    "dfRes.head()"
   ]
  },
  {
   "cell_type": "code",
   "execution_count": null,
   "id": "151da42b",
   "metadata": {},
   "outputs": [],
   "source": [
    "# Top 5 high leverage data points\n",
    "dfRes[dfRes[\"leverage\"] > 0.0277].sort_values(by = \"leverage\", ascending = False).head()"
   ]
  },
  {
   "cell_type": "markdown",
   "id": "c70ba11c",
   "metadata": {},
   "source": [
    "#### 5. Outliers\n",
    "\n",
    "Definition:  \n",
    "$x_i$ is an outlier if the corresponding $y_i$ is far from the value predicted by the model\n",
    "\n",
    "Identification:  \n",
    "$x_i$ is an outlier if its studentized residual $>\\left|3\\right|$. A studentized residual $=\\frac{e_i}{SE(e_i)}$\n",
    "\n",
    "Solution:  \n",
    "Consider removing this $x_i$ from the overall dataset"
   ]
  },
  {
   "cell_type": "code",
   "execution_count": null,
   "id": "3f7f2619",
   "metadata": {},
   "outputs": [],
   "source": [
    "# Calculate Studentized Residuals\n",
    "studentRes = influence.resid_studentized_external\n",
    "dfRes = pd.concat([dfRes, pd.Series(studentRes, name=\"studentRes\")], axis=1)\n",
    "dfRes.head()"
   ]
  },
  {
   "cell_type": "code",
   "execution_count": null,
   "id": "026133db",
   "metadata": {},
   "outputs": [],
   "source": [
    "# Data points with high studentized residuals\n",
    "dfRes[np.absolute(dfRes[\"studentRes\"]) > 3]"
   ]
  },
  {
   "cell_type": "markdown",
   "id": "81469c90",
   "metadata": {},
   "source": [
    "The above 8 data points have both high studentized residuals > $|3|$ and high leverage of > 0.0277."
   ]
  },
  {
   "cell_type": "markdown",
   "id": "b14efd39",
   "metadata": {},
   "source": [
    "#### 6. Collinearity\n",
    "\n",
    "Definition:  \n",
    "Collinearity = two or more predictors are related to one another  \n",
    "Multicollinearity = three or more predictors are related to one another\n",
    "\n",
    "Identification:  \n",
    "Large absolute values in the correlation matrix detects collinearity  \n",
    "Large VIF (variance inflation factor) detects multicollinearity, where minimum VIF value is 1   \n",
    "Convention: VIF > 10 is considered large and VIF > 5 is moderate\n",
    "\n",
    "Solution:  \n",
    "Either drop one of the correlated variables, or  \n",
    "combine the collinear variables to form a new variable"
   ]
  },
  {
   "cell_type": "code",
   "execution_count": null,
   "id": "b4e33f9a",
   "metadata": {},
   "outputs": [],
   "source": [
    "# Correlation Matrix\n",
    "corr = df.corr()\n",
    "corr"
   ]
  },
  {
   "cell_type": "code",
   "execution_count": null,
   "id": "c1e57176",
   "metadata": {},
   "outputs": [],
   "source": [
    "# Correlation Heatmap\n",
    "\n",
    "# generate a mask for the upper triangle\n",
    "mask = np.zeros_like(corr, dtype=np.bool)\n",
    "mask[np.triu_indices_from(mask)] = True\n",
    "\n",
    "# generate a custom diverging colormap\n",
    "cmap = sns.diverging_palette(220, 10, as_cmap=True)\n",
    "\n",
    "# draw the heatmap with the mask and correct aspect ratio; detecting absolute correlations >= 0.7\n",
    "sns.heatmap(np.absolute(corr), \n",
    "            mask=mask, \n",
    "            cmap=cmap, \n",
    "            vmax=.7, \n",
    "            center=0, \n",
    "            square=True, \n",
    "            linewidths=.5, \n",
    "            cbar_kws={\"shrink\": .5});"
   ]
  },
  {
   "cell_type": "markdown",
   "id": "7d498325",
   "metadata": {},
   "source": [
    "Lots of collinear variables (absolute correlation value of >=0.7):   \n",
    "Indus, Nox, Age, Dis, Rad, Tax are all correlated with each other, and  \n",
    "Medv, Lstat, Rm are correlated.  \n",
    "We see strong patterns (not necessarily linear) in the graphs of each combination of these variables."
   ]
  }
 ],
 "metadata": {},
 "nbformat": 4,
 "nbformat_minor": 5
}
