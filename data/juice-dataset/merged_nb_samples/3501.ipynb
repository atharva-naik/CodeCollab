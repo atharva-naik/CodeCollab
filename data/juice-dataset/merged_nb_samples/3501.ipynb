{
 "cells": [
  {
   "cell_type": "markdown",
   "id": "81ea19d1",
   "metadata": {},
   "source": [
    "# Table of Contents\n",
    " <p><div class=\"lev1\"><a href=\"#Task-1.-Compiling-Ebola-Data\"><span class=\"toc-item-num\">Task 1.&nbsp;&nbsp;</span>Compiling Ebola Data</a></div>\n",
    " <div class=\"lev1\"><a href=\"#Task-2.-RNA-Sequences\"><span class=\"toc-item-num\">Task 2.&nbsp;&nbsp;</span>RNA Sequences</a></div>\n",
    " <div class=\"lev1\"><a href=\"#Task-3.-Class-War-in-Titanic\"><span class=\"toc-item-num\">Task 3.&nbsp;&nbsp;</span>Class War in Titanic</a></div></p>"
   ]
  },
  {
   "cell_type": "code",
   "execution_count": null,
   "id": "6bd1e424",
   "metadata": {},
   "outputs": [],
   "source": [
    "DATA_FOLDER = 'Data' # Use the data folder provided in Tutorial 02 - Intro to Pandas.\n",
    "import pandas as pd\n",
    "import numpy as np"
   ]
  },
  {
   "cell_type": "markdown",
   "id": "12ab053b",
   "metadata": {},
   "source": [
    "## Task 1. Compiling Ebola Data\n",
    "\n",
    "The `DATA_FOLDER/ebola` folder contains summarized reports of Ebola cases from three countries (Guinea, Liberia and Sierra Leone) during the recent outbreak of the disease in West Africa. For each country, there are daily reports that contain various information about the outbreak in several cities in each country.\n",
    "\n",
    "Use pandas to import these data files into a single `Dataframe`.\n",
    "Using this `DataFrame`, calculate for *each country*, the *daily average per month* of *new cases* and *deaths*.\n",
    "Make sure you handle all the different expressions for *new cases* and *deaths* that are used in the reports."
   ]
  },
  {
   "cell_type": "markdown",
   "id": "95050999",
   "metadata": {},
   "source": [
    "## Way of thinking"
   ]
  },
  {
   "cell_type": "markdown",
   "id": "ce9a3271",
   "metadata": {},
   "source": [
    "The final results to the question \"calculate for *each country*, the *daily average per month* of *new cases* and *deaths*\" are found in the last three data frames before the start of Task 2. In the course of this solution, there will be many intermediate data frames."
   ]
  },
  {
   "cell_type": "markdown",
   "id": "05151a2d",
   "metadata": {},
   "source": [
    "**1st approach**: Transform the data to obtain a final DataFrame containing all the information about new cases and deaths depending on `date` and `Country`. Then aggregate by grouping by `Country` and `month` and count a mean."
   ]
  },
  {
   "cell_type": "markdown",
   "id": "30697964",
   "metadata": {},
   "source": [
    "**2nd approach**: Transform the data to obtain a DataFrame that collects data of total number of cases and deaths. Next find the first and the last day of each month, substract these values and divide by the number of days between those two dates."
   ]
  },
  {
   "cell_type": "markdown",
   "id": "8fee238b",
   "metadata": {},
   "source": [
    "### Import necessary libraries"
   ]
  },
  {
   "cell_type": "code",
   "execution_count": null,
   "id": "802365b2",
   "metadata": {},
   "outputs": [],
   "source": [
    "%matplotlib inline\n",
    "import pandas as pd\n",
    "import numpy as np\n",
    "import matplotlib.pyplot as plt\n",
    "import seaborn as sns\n",
    "import os as os\n",
    "import re"
   ]
  },
  {
   "cell_type": "markdown",
   "id": "22e37848",
   "metadata": {},
   "source": [
    "### Extract file paths and names from directory"
   ]
  },
  {
   "cell_type": "code",
   "execution_count": null,
   "id": "14d95bf4",
   "metadata": {},
   "outputs": [],
   "source": [
    "sl_2nd_solution"
   ]
  },
  {
   "cell_type": "markdown",
   "id": "ef0e9c03",
   "metadata": {},
   "source": [
    "## Guinea"
   ]
  },
  {
   "cell_type": "code",
   "execution_count": null,
   "id": "51721abf",
   "metadata": {},
   "outputs": [],
   "source": [
    "tmp = pd.read_csv('./Data/ebola/guinea_data/2014-08-04.csv')\n",
    "np.array(tmp['Description'])"
   ]
  },
  {
   "cell_type": "code",
   "execution_count": null,
   "id": "8f67241a",
   "metadata": {},
   "outputs": [],
   "source": [
    "def read_data_guinea(file_list, columns):\n",
    "    df = pd.DataFrame()\n",
    "    for file in file_list:\n",
    "        temp = pd.read_csv(file)\n",
    "        country, date = (file.split(\"/\")[3][:-5], file.split(\"/\")[4][:10])\n",
    "        temp = temp.loc[temp['Description'].isin(columns)]\n",
    "        temp[temp.columns.values[2:]] = temp[temp.columns.values[2:]].apply(pd.to_numeric)\n",
    "        temp = temp[['Description', 'Totals']]\n",
    "        temp = temp.set_index('Description')\n",
    "        temp = temp.T\n",
    "        temp['Date'] = pd.to_datetime(date)\n",
    "        temp['Country'] = country\n",
    "        temp = temp.set_index('Date')\n",
    "        #temp = column_filter(temp, country = country)\n",
    "        df = pd.concat([df, temp])\n",
    "    df = df.sort_index()\n",
    "        \n",
    "    return df"
   ]
  },
  {
   "cell_type": "markdown",
   "id": "3b027404",
   "metadata": {},
   "source": [
    "## Solution 1st approach"
   ]
  },
  {
   "cell_type": "code",
   "execution_count": null,
   "id": "b1e4e76e",
   "metadata": {},
   "outputs": [],
   "source": [
    "guinea_new_case_deaths = ['New deaths registered', 'New deaths registered today', 'Total new cases registered so far']"
   ]
  },
  {
   "cell_type": "code",
   "execution_count": null,
   "id": "e5bf93cf",
   "metadata": {},
   "outputs": [],
   "source": [
    "guinea = read_data_guinea([file for file in file_list if file.split(\"/\")[3][:-5] == 'guinea'], guinea_new_case_deaths)\n",
    "guinea.head()"
   ]
  },
  {
   "cell_type": "code",
   "execution_count": null,
   "id": "12c48f3c",
   "metadata": {},
   "outputs": [],
   "source": [
    "guinea[guinea_new_case_deaths] = guinea[guinea_new_case_deaths].apply(pd.to_numeric)"
   ]
  },
  {
   "cell_type": "markdown",
   "id": "371d494f",
   "metadata": {},
   "source": [
    "**Assumption**: Attributes `New deaths registered today`, `New deaths registered` represent the same measure and call it differently."
   ]
  },
  {
   "cell_type": "markdown",
   "id": "7678437c",
   "metadata": {},
   "source": [
    "## Final DataFrame Guinea - 1st approach"
   ]
  },
  {
   "cell_type": "code",
   "execution_count": null,
   "id": "2a1424b6",
   "metadata": {},
   "outputs": [],
   "source": [
    "guinea['New deaths'] = guinea[['New deaths registered today', 'New deaths registered']].sum(axis = 1)\n",
    "guinea.columns = ['Country', 'New deaths registered', 'New deaths registered today', 'New cases', 'New deaths']\n",
    "guinea = guinea[['New cases', 'New deaths', 'Country']]\n",
    "guinea"
   ]
  },
  {
   "cell_type": "markdown",
   "id": "b6ec78ac",
   "metadata": {},
   "source": [
    "## Solution 2nd approach"
   ]
  },
  {
   "cell_type": "code",
   "execution_count": null,
   "id": "d982982f",
   "metadata": {},
   "outputs": [],
   "source": [
    "liberia_2nd_solution"
   ]
  },
  {
   "cell_type": "code",
   "execution_count": null,
   "id": "e422c0e1",
   "metadata": {},
   "outputs": [],
   "source": [
    "liberia.plot(y = ['New Case/s (Probable)', 'New Case/s (Suspected)',\n",
    "       'New case/s (confirmed)', 'Newly Reported Cases in HCW'])"
   ]
  },
  {
   "cell_type": "markdown",
   "id": "93bc5585",
   "metadata": {},
   "source": [
    "**Assumption**: Values of new cases between 2014-12-04 and 2014-12-09 seem to be wrong, because of the very high values that hardly fluctuate. It seems that there is some offset added to these values. As these values are not monotonically increasing it is sure that they are not cumulative values written in the wrong field or cell. That is the reason why we decided to discard this part of data suspecting it to be wrong. "
   ]
  },
  {
   "cell_type": "code",
   "execution_count": null,
   "id": "301b23ed",
   "metadata": {},
   "outputs": [],
   "source": [
    "liberia = liberia.loc[:'2014-12-03']\n",
    "liberia_2nd_solution = liberia_2nd_solution.loc[:'2014-12-03']"
   ]
  },
  {
   "cell_type": "markdown",
   "id": "36a456e1",
   "metadata": {},
   "source": [
    "Create new attributes that aggregate values of New cases/deaths\n",
    "\n",
    "**Assumption**: `New Case/s (Probable)`, `New Case/s (Suspected)`, `New case/s (confirmed)`, `Newly Reported Cases in HCW` are separate sets. The same goes for `Newly Reported deaths in HCW`, `Newly reported deaths`."
   ]
  },
  {
   "cell_type": "code",
   "execution_count": null,
   "id": "1fc5174c",
   "metadata": {},
   "outputs": [],
   "source": [
    "pd.set_option('mode.chained_assignment', None)\n",
    "liberia.loc[:,'New cases'] = liberia[['New Case/s (Probable)', 'New Case/s (Suspected)',\n",
    "       'New case/s (confirmed)', 'Newly Reported Cases in HCW']].sum(axis = 1)\n",
    "liberia.loc[:,'New deaths'] = liberia[['Newly Reported deaths in HCW',\n",
    "                                 'Newly reported deaths']].sum(axis = 1)\n",
    "liberia = liberia[['Country', 'New cases', 'New deaths']]"
   ]
  },
  {
   "cell_type": "markdown",
   "id": "a74cd5d3",
   "metadata": {},
   "source": [
    "### Final Liberia DataFrame - 1st approach"
   ]
  },
  {
   "cell_type": "code",
   "execution_count": null,
   "id": "f1a41026",
   "metadata": {},
   "outputs": [],
   "source": [
    "liberia.head()"
   ]
  },
  {
   "cell_type": "code",
   "execution_count": null,
   "id": "21b75fa2",
   "metadata": {},
   "outputs": [],
   "source": [
    "#Aggregated values grouped by months\n",
    "liberia.groupby(liberia.index.month).sum()"
   ]
  },
  {
   "cell_type": "code",
   "execution_count": null,
   "id": "92f0cc21",
   "metadata": {},
   "outputs": [],
   "source": [
    "liberia.plot(y = 'New cases')"
   ]
  },
  {
   "cell_type": "code",
   "execution_count": null,
   "id": "529c81f3",
   "metadata": {},
   "outputs": [],
   "source": [
    "#Aggregated values grouped by months and Country\n",
    "liberia.groupby([liberia.index.month, 'Country']).sum()"
   ]
  },
  {
   "cell_type": "markdown",
   "id": "b961f5ce",
   "metadata": {},
   "source": [
    "Function that counts number of days in each month according to provided data.\n",
    "For example: we have data from 3rd of November up to day 28, it will return 26.\n",
    "It is needed to compute daily average per month, we have to know how many days we have in particular month based on data."
   ]
  },
  {
   "cell_type": "code",
   "execution_count": null,
   "id": "bdbb43d4",
   "metadata": {},
   "outputs": [],
   "source": [
    "def first_n_last_days(df):\n",
    "    first_days = [np.append([], 0)]\n",
    "    last_days = []\n",
    "    last = 0\n",
    "    for i in range(len(df.index.day)):\n",
    "        if df.index.day[i] < last:\n",
    "            first_days = np.append(first_days, i)\n",
    "            last_days = np.append(last_days, i-1)\n",
    "        last = df.index.day[i]\n",
    "    last_days = np.append(last_days, len(df.index.day)-1)\n",
    "    \n",
    "    return(last_days, first_days) "
   ]
  },
  {
   "cell_type": "code",
   "execution_count": null,
   "id": "a761cc71",
   "metadata": {},
   "outputs": [],
   "source": [
    "last_days, first_days = first_n_last_days(liberia_2nd_solution)\n",
    "print(first_days, last_days)"
   ]
  },
  {
   "cell_type": "code",
   "execution_count": null,
   "id": "aa5b2ad9",
   "metadata": {},
   "outputs": [],
   "source": [
    "#Generate list of months for indexing purposes\n",
    "liberia_months = np.array(liberia_2nd_solution.index.month.drop_duplicates())"
   ]
  },
  {
   "cell_type": "code",
   "execution_count": null,
   "id": "84449d91",
   "metadata": {},
   "outputs": [],
   "source": [
    "last_liberia = liberia_2nd_solution.iloc[last_days]\n",
    "last_liberia"
   ]
  },
  {
   "cell_type": "code",
   "execution_count": null,
   "id": "db305860",
   "metadata": {},
   "outputs": [],
   "source": [
    "first_liberia = liberia_2nd_solution.iloc[first_days]\n",
    "first_liberia"
   ]
  },
  {
   "cell_type": "code",
   "execution_count": null,
   "id": "37ba81f1",
   "metadata": {},
   "outputs": [],
   "source": [
    "#Substracting last-day-of-the-month values with first-day-of-the-month values\n",
    "New_cases = last_liberia['Total cases'].values - first_liberia['Total cases'].values\n",
    "New_deaths = last_liberia['Total deaths'].values - first_liberia['Total deaths'].values\n",
    "d = {'New cases': New_cases, 'New deaths': New_deaths, 'Country': 'liberia'}\n",
    "liberia_2nd_solution = pd.DataFrame(data=d, index=liberia_months)"
   ]
  },
  {
   "cell_type": "markdown",
   "id": "2df0087e",
   "metadata": {},
   "source": [
    "## Final Liberia DataFrame - 2nd approach"
   ]
  },
  {
   "cell_type": "markdown",
   "id": "bc5fa1b6",
   "metadata": {},
   "source": [
    "**Assumption**: As there is a lot of incomplete data we will focus only on `National` attribute of deaths and new cases. Sometimes there are informations about these facts only from a few cities, but there is lack of information about this at `national scale`. In such situation we are not taking into account that informations, because we do not want to infer informations about country on the basis of only few cities."
   ]
  },
  {
   "cell_type": "markdown",
   "id": "67ea4f0a",
   "metadata": {},
   "source": [
    "# Sierra Leone"
   ]
  },
  {
   "cell_type": "code",
   "execution_count": null,
   "id": "9de574e0",
   "metadata": {},
   "outputs": [],
   "source": [
    "#Almost the same function as above\n",
    "def read_data_sl(file_list, columns):\n",
    "    df = pd.DataFrame()\n",
    "    for file in file_list:\n",
    "        temp = pd.read_csv(file, na_values='-')\n",
    "        country, date = (file.split(\"/\")[3][:-5], file.split(\"/\")[4][:10])\n",
    "        #Filtering rows that we are intrested in\n",
    "        temp = temp.loc[temp['variable'].isin(columns)]\n",
    "        #Casting objects to numeric type\n",
    "        temp[['National']] = temp[['National']].apply(lambda x: pd.to_numeric(x.astype(str).str.replace(',',''), errors='coerce'))\n",
    "        temp[temp.columns.values[2:]] = temp[temp.columns.values[2:]].apply(pd.to_numeric)\n",
    "        #If there is no value in the 'National' column, sum values from columns with regional information, \n",
    "        #which should sum up to 'National' value (a poor way of filling NA values)\n",
    "        temp.loc[temp['National'].isnull(), 'National'] = temp.sum(axis = 1)\n",
    "        temp = temp[['variable', 'National']]\n",
    "        temp = temp.set_index('variable')\n",
    "        temp = temp.T\n",
    "        temp['Date'] = pd.to_datetime(date)\n",
    "        temp['Country'] = country\n",
    "        temp = temp.set_index('Date')\n",
    "        df = pd.concat([df, temp])\n",
    "    df = df.sort_index()\n",
    "        \n",
    "    return df"
   ]
  },
  {
   "cell_type": "markdown",
   "id": "44acf32a",
   "metadata": {},
   "source": [
    "## Final DataFrame Guinea - 2nd solution"
   ]
  },
  {
   "cell_type": "code",
   "execution_count": null,
   "id": "7491fbb1",
   "metadata": {},
   "outputs": [],
   "source": [
    "guinea_2nd_solution"
   ]
  },
  {
   "cell_type": "markdown",
   "id": "ed4633ca",
   "metadata": {},
   "source": [
    "## Merge all DataFrames"
   ]
  },
  {
   "cell_type": "markdown",
   "id": "4070b611",
   "metadata": {},
   "source": [
    "## 1st approach\n",
    "#### Reminder:\n",
    "**1st approach**: Transform the data to obtain a final DataFrame containing all the information about new cases and deaths depending on `date` and `Country`. Then aggregate by grouping by `Country` and `month` and count a mean."
   ]
  },
  {
   "cell_type": "code",
   "execution_count": null,
   "id": "a0e7cc80",
   "metadata": {},
   "outputs": [],
   "source": [
    "total = pd.concat([sl, liberia, guinea])"
   ]
  },
  {
   "cell_type": "code",
   "execution_count": null,
   "id": "7d8e54ea",
   "metadata": {},
   "outputs": [],
   "source": [
    "total.index"
   ]
  },
  {
   "cell_type": "code",
   "execution_count": null,
   "id": "2b735d12",
   "metadata": {},
   "outputs": [],
   "source": [
    "total['colDateToSort'] = total.index\n",
    "total = total.sort_values(['Country', 'colDateToSort'])\n",
    "total = total.drop('colDateToSort', axis=1)\n",
    "total"
   ]
  },
  {
   "cell_type": "code",
   "execution_count": null,
   "id": "0d640cd0",
   "metadata": {},
   "outputs": [],
   "source": [
    "days_in_each_month = np.concatenate((number_of_days(guinea), number_of_days(liberia), number_of_days(sl)))\n",
    "days_in_each_month"
   ]
  },
  {
   "cell_type": "code",
   "execution_count": null,
   "id": "32967e42",
   "metadata": {},
   "outputs": [],
   "source": [
    "total.groupby([total.index.month, 'Country']).sum().reset_index().set_index(['Country', 'Date']).sort_index()"
   ]
  },
  {
   "cell_type": "markdown",
   "id": "b408c56d",
   "metadata": {},
   "source": [
    "### 1st approach solution\n",
    "**Assumption**: We treated the ebola dataset as complete, that means there is no missing files and if there is a gap of few day between next and current file, we assume that the next file contains information about days between these two dates."
   ]
  },
  {
   "cell_type": "code",
   "execution_count": null,
   "id": "55d07139",
   "metadata": {},
   "outputs": [],
   "source": [
    "#The code after the sum function is used only for visual purposes, to present the data in easy way or to make a proper division.\n",
    "sol1 = total.groupby([total.index.month, 'Country']).sum().reset_index().set_index(['Country', 'Date']).sort_index().divide(days_in_each_month, axis = 0)\n",
    "sol1 = sol1.rename(columns = {'New cases' : 'New cases daily avg', 'New deaths' : 'New deaths daily avg'})\n",
    "sol1.index.rename(['Country','Month'],inplace=True)\n",
    "sol1"
   ]
  },
  {
   "cell_type": "markdown",
   "id": "ea207a8b",
   "metadata": {},
   "source": [
    "### 1st aproach - another solution\n",
    "**Assumption**: We can treat each file as a daily report concerning only this one particular date."
   ]
  },
  {
   "cell_type": "code",
   "execution_count": null,
   "id": "97f90a79",
   "metadata": {},
   "outputs": [],
   "source": [
    "#Search of negative values of daily deaths\n",
    "negatives = (sl['Deaths'].values[1:] - sl['Deaths'].values[:-1]).astype(int) < 0\n",
    "negatives"
   ]
  },
  {
   "cell_type": "code",
   "execution_count": null,
   "id": "e1263145",
   "metadata": {},
   "outputs": [],
   "source": [
    "sl.plot(y = 'Deaths')"
   ]
  },
  {
   "cell_type": "code",
   "execution_count": null,
   "id": "55855742",
   "metadata": {},
   "outputs": [],
   "source": [
    "indicies_negatives = np.array([i for i, x in enumerate(negatives) if x])\n",
    "indicies_negatives"
   ]
  },
  {
   "cell_type": "code",
   "execution_count": null,
   "id": "c8e4f442",
   "metadata": {},
   "outputs": [],
   "source": [
    "sl.iloc[indicies_negatives-1]['Deaths'].values"
   ]
  },
  {
   "cell_type": "code",
   "execution_count": null,
   "id": "bc0e3025",
   "metadata": {},
   "outputs": [],
   "source": [
    "sl.iloc[(indicies_negatives)]['Deaths'].values"
   ]
  },
  {
   "cell_type": "code",
   "execution_count": null,
   "id": "e271965b",
   "metadata": {},
   "outputs": [],
   "source": [
    "sl.iloc[(indicies_negatives+1)]['Deaths'].values"
   ]
  },
  {
   "cell_type": "code",
   "execution_count": null,
   "id": "bc81ee2b",
   "metadata": {},
   "outputs": [],
   "source": [
    "#Overwritiing the negative value with a mean of neighbouring values\n",
    "sl.loc[negatives, 'Deaths'] = np.round((sl.iloc[(indicies_negatives+1)]['Deaths'].values + sl.iloc[(indicies_negatives-1)]['Deaths'].values)/2)"
   ]
  },
  {
   "cell_type": "code",
   "execution_count": null,
   "id": "90834823",
   "metadata": {},
   "outputs": [],
   "source": [
    "sl['Deaths'].plot()"
   ]
  },
  {
   "cell_type": "code",
   "execution_count": null,
   "id": "066361cc",
   "metadata": {},
   "outputs": [],
   "source": [
    "#creating new attribute 'New deaths' by substracion 'Deaths' with shifted 'Deaths' attribute and appending\n",
    "#with a value for a first day using value in 'etc_new_deaths'\n",
    "#It can be done because Sierra Leone data is pretty complete in terms of having almost all daily reports\n",
    "sl['New deaths'] = np.append(sl['etc_new_deaths'].values[0], (sl['Deaths'].values[1:] - sl['Deaths'].values[:-1]).astype(int))"
   ]
  },
  {
   "cell_type": "code",
   "execution_count": null,
   "id": "e18793a0",
   "metadata": {},
   "outputs": [],
   "source": [
    "#Creating new attribute 'New cases'\n",
    "sl['New cases'] = sl[['new_suspected', 'new_probable', 'new_confirmed']].sum(axis=1)"
   ]
  },
  {
   "cell_type": "code",
   "execution_count": null,
   "id": "3f189625",
   "metadata": {},
   "outputs": [],
   "source": [
    "#Create new DataFrame only with significant attributes\n",
    "sl = sl[['New cases', 'New deaths', 'Country']]"
   ]
  },
  {
   "cell_type": "markdown",
   "id": "32fd54f8",
   "metadata": {},
   "source": [
    "## Final Sierra Leone DataFrame - 1st approach"
   ]
  },
  {
   "cell_type": "code",
   "execution_count": null,
   "id": "d416e13a",
   "metadata": {},
   "outputs": [],
   "source": [
    "sol2 = total.groupby([total.index.month, 'Country']).mean().reset_index().set_index(['Country', 'Date']).sort_index()\n",
    "sol2 = sol2.rename(columns = {'New cases' : 'New cases daily avg', 'New deaths' : 'New deaths daily avg'})\n",
    "sol2.index.rename(['Country','Month'],inplace=True)\n",
    "sol2"
   ]
  },
  {
   "cell_type": "markdown",
   "id": "e81beeaa",
   "metadata": {},
   "source": [
    "## 2nd approach\n",
    "#### Reminder:\n",
    "**2nd approach**: Transform the data to obtain a DataFrame that collects data of total number of cases and deaths. Next find the first and the last day of each month, substract these values and divide by the number of days between those two dates."
   ]
  },
  {
   "cell_type": "code",
   "execution_count": null,
   "id": "f0d11e72",
   "metadata": {},
   "outputs": [],
   "source": [
    "total_cum = pd.concat([sl_2nd_solution, liberia_2nd_solution, guinea_2nd_solution])\n",
    "total_cum.index.name = 'Month'\n",
    "total_cum.reset_index().set_index(['Country', 'Month']).sort_index().divide(days_in_each_month, axis = 0)"
   ]
  },
  {
   "cell_type": "markdown",
   "id": "15bbb04c",
   "metadata": {},
   "source": [
    "## Task 2. RNA Sequences\n",
    "\n",
    "In the `DATA_FOLDER/microbiome` subdirectory, there are 9 spreadsheets of microbiome data that was acquired from high-throughput RNA sequencing procedures, along with a 10<sup>th</sup> file that describes the content of each. \n",
    "\n",
    "Use pandas to import the first 9 spreadsheets into a single `DataFrame`.\n",
    "Then, add the metadata information from the 10<sup>th</sup> spreadsheet as columns in the combined `DataFrame`.\n",
    "Make sure that the final `DataFrame` has a unique index and all the `NaN` values have been replaced by the tag `unknown`."
   ]
  },
  {
   "cell_type": "markdown",
   "id": "cf1dab62",
   "metadata": {},
   "source": [
    "**Solution:**\n",
    "\n",
    "First, we want to combine the 9+1 different Excel spreadsheets into one data frame. We do this by for-loop: first, outside the loop, we read the first file (MID1.xls) to a data frame (rna_data), and then loop over numbers 2-9 and read and append each file's contents to our data frame. In order to preserve information on which entry came from which file, we create a `MultiIndex` index for the data frame, where the first level corresponds to the file name and the second level is the index of the entry (row number in file, starting from 0). Column names in the data frame default to 0 and 1, and we leave them as is, since we don't have more information on what the data represents.\n",
    "\n",
    "Once the data has been read, we name the first level of the `MultiIndex` \"BARCODE\" and the second level \"index_no\". Then, we read the metadata file (metadata.xls) to a data frame using the column \"BARCODE\" as index, and join it with the rna_data data frame. The join is performed on the common index, which in this case is \"BARCODE\". Since all \"BARCODE\" values are contained in both data frames, it doesn't matter whether we do an inner or outer join.\n",
    "\n",
    "Finally, we change NaN values to \"unknown\", and check that our indices are unique and that no NaN values are left in the data frame."
   ]
  },
  {
   "cell_type": "code",
   "execution_count": null,
   "id": "c02963e1",
   "metadata": {},
   "outputs": [],
   "source": [
    "# Load first file\n",
    "rna_data = pd.read_excel(DATA_FOLDER+\"/microbiome/MID1.xls\",sheetname=\"Sheet 1\",header=None)\n",
    "rna_indices = [[\"MID1\"]*len(rna_data.index), list(rna_data.index)] # List of lists of first and second level indices\n",
    "tuples = list(zip(*rna_indices)) # Make indices into tuples of first and second level\n",
    "rna_data.index = pd.MultiIndex.from_tuples(tuples) # Create MultiIndex where each index is from a tuple\n",
    "\n",
    "# Append other files\n",
    "for ii in range(2,10):\n",
    "    next_sheet = pd.read_excel(DATA_FOLDER+\"/microbiome/MID%d.xls\" % ii,sheetname=\"Sheet 1\",header=None)\n",
    "    rna_indices = [[\"MID%d\" % ii]*len(next_sheet.index), list(next_sheet.index)] # First level index according to file\n",
    "    tuples = list(zip(*rna_indices))\n",
    "    next_sheet.index = pd.MultiIndex.from_tuples(tuples)\n",
    "    rna_data = rna_data.append(next_sheet,verify_integrity=True) # Append next sheet to data frame\n",
    "\n",
    "# Change index names to match metadata\n",
    "rna_data.index.names = [\"BARCODE\",\"index_no\"]\n",
    "\n",
    "# Read and join metadata, use BARCODE as index for metadata\n",
    "rna_metadata = pd.read_excel(DATA_FOLDER+\"/microbiome/metadata.xls\",index_col=\"BARCODE\")\n",
    "rna_data = rna_data.join(rna_metadata, how='outer')\n",
    "\n",
    "# Change NaNs to unknown\n",
    "rna_data.fillna(value=\"unknown\",inplace=True)\n",
    "\n",
    "# Check that indices are unique and that no NaNs are left, and print data frame dimensions\n",
    "print(\"All indices are unique: \" + str(rna_data.index.is_unique))\n",
    "print(\"Data frame contains NaN values: \" + str(rna_data.isnull().any().any()))\n",
    "print(\"Data frame dimensions: \" + str(rna_data.shape))"
   ]
  },
  {
   "cell_type": "code",
   "execution_count": null,
   "id": "d6a9dde8",
   "metadata": {},
   "outputs": [],
   "source": [
    "rna_data"
   ]
  },
  {
   "cell_type": "markdown",
   "id": "6530d17b",
   "metadata": {},
   "source": [
    "**Another solution:**\n",
    "\n",
    "We might also want to index the data based on the first column (that was named 0 in rna_data). We construct a new data frame (rna_data_v2), where we rename columns 0 and 1 to NAME and VALUE, respectively (we assume that column 0 refers to species name and column 1 is some measured value). We then use BARCODE and NAME as a `MultiIndex` in rna_data_v2.\n",
    "\n",
    "We also check that indices are unique and no NaNs are left. The number of columns in rna_data_v2 is one less than in rna_data, because here we use one of the columns as index instead."
   ]
  },
  {
   "cell_type": "code",
   "execution_count": null,
   "id": "a6ceb609",
   "metadata": {},
   "outputs": [],
   "source": [
    "sl.head()"
   ]
  },
  {
   "cell_type": "code",
   "execution_count": null,
   "id": "a4677ce3",
   "metadata": {},
   "outputs": [],
   "source": [
    "sl_deaths_cases_cum = ['cum_confirmed', 'cum_probable', 'cum_suspected', \n",
    "                       'death_suspected', 'death_probable','death_confirmed']\n",
    "sl_cum = read_data_sl([file for file in file_list if file.split(\"/\")[3][:-5] == 'sl'], columns = sl_deaths_cases_cum)\n",
    "\n",
    "sl_cum['Total cases'] = sl_cum[['cum_confirmed', 'cum_probable', 'cum_suspected']].sum(axis = 1).replace(to_replace=0, method='ffill')\n",
    "sl_cum['Total deaths'] = sl_cum[['death_suspected', 'death_probable','death_confirmed']].sum(axis = 1).replace(to_replace=0, method='ffill')\n",
    "\n",
    "sl_cum.head()"
   ]
  },
  {
   "cell_type": "code",
   "execution_count": null,
   "id": "cf4f9dee",
   "metadata": {},
   "outputs": [],
   "source": [
    "sl_cum = sl_cum[['Total cases', 'Total deaths']]\n",
    "last_days, first_days = first_n_last_days(sl_cum)\n",
    "last_sl = sl_cum.iloc[last_days]\n",
    "last_sl"
   ]
  },
  {
   "cell_type": "code",
   "execution_count": null,
   "id": "83e26cf1",
   "metadata": {},
   "outputs": [],
   "source": [
    "first_sl = sl_cum.iloc[first_days]\n",
    "first_sl"
   ]
  },
  {
   "cell_type": "code",
   "execution_count": null,
   "id": "5869a215",
   "metadata": {},
   "outputs": [],
   "source": [
    "#Substracting last-day-of-the-month values with first-day-of-the-month values\n",
    "New_cases = last_sl['Total cases'].values - first_sl['Total cases'].values\n",
    "New_deaths = last_sl['Total deaths'].values - first_sl['Total deaths'].values\n",
    "\n",
    "#Generate list of months for indexing purposes\n",
    "sl_months = np.array(sl_cum.index.month.drop_duplicates())\n",
    "\n",
    "d = {'New cases': New_cases, 'New deaths': New_deaths, 'Country': 'sl'}\n",
    "sl_2nd_solution = pd.DataFrame(data=d, index=sl_months)"
   ]
  },
  {
   "cell_type": "markdown",
   "id": "d949e8a3",
   "metadata": {},
   "source": [
    "### Final Sierra Leone DataFrame - 2nd approach"
   ]
  },
  {
   "cell_type": "code",
   "execution_count": null,
   "id": "b5be427d",
   "metadata": {},
   "outputs": [],
   "source": [
    "def number_of_days(df):\n",
    "    first_days = [np.append([], df.index.day[0])]\n",
    "    last_days = []\n",
    "    last = 0\n",
    "    for x in np.array(df.index.day):\n",
    "        if x < last:\n",
    "            first_days = np.append(first_days, x)\n",
    "            last_days = np.append(last_days, last)\n",
    "        last = x\n",
    "    last_days = np.append(last_days, df.index.day[-1])\n",
    "    \n",
    "    return(last_days - first_days + 1) \n"
   ]
  },
  {
   "cell_type": "code",
   "execution_count": null,
   "id": "6ab052f7",
   "metadata": {},
   "outputs": [],
   "source": [
    "print(number_of_days(liberia))"
   ]
  },
  {
   "cell_type": "markdown",
   "id": "86e8d06b",
   "metadata": {},
   "source": [
    "Function that returns two arrays, one with indicies of first days of the months, second with the indicies of the last day of the month"
   ]
  },
  {
   "cell_type": "markdown",
   "id": "34f115f8",
   "metadata": {},
   "source": [
    "#### Additional function to filter attributes by words (used nowhere right now)\n",
    "This function keeps only these columns that have specific key words in their name"
   ]
  },
  {
   "cell_type": "code",
   "execution_count": null,
   "id": "5986e7f9",
   "metadata": {},
   "outputs": [],
   "source": [
    "def column_filter(data_frame, country = 'liberia'):\n",
    "    mylist = data_frame.columns.values\n",
    "    if country == 'liberia':\n",
    "        r = re.compile(\".*(([D|d]eath)|([C|c]ase)).*\")\n",
    "    elif country == 'sl':\n",
    "        r = re.compile(\".*([N|n]ew).*\")\n",
    "    elif country == 'guinea':\n",
    "        r = re.compile(\".*([N|n]ew).*\")\n",
    "    newlist = list(filter(r.match, mylist))\n",
    "    data_frame = data_frame[newlist]\n",
    "    newlist = [\" \".join(name.replace('\\n ','').replace('/s', 's').replace('_', ' ').split()) for name in newlist[:]]\n",
    "    data_frame.columns = newlist\n",
    "    return data_frame"
   ]
  },
  {
   "cell_type": "markdown",
   "id": "52a1b59c",
   "metadata": {},
   "source": [
    "### Function to read Liberia files"
   ]
  },
  {
   "cell_type": "code",
   "execution_count": null,
   "id": "fc2f9b71",
   "metadata": {},
   "outputs": [],
   "source": [
    "def read_data_liberia(file_list, columns):\n",
    "    df = pd.DataFrame()\n",
    "    for file in file_list:\n",
    "        temp = pd.read_csv(file)\n",
    "        #retrive country name/abbreviation and date from the file name (files have different notation of date\n",
    "        #the only consistent one is the notation in filename)\n",
    "        country, date = (file.split(\"/\")[3][:-5], file.split(\"/\")[4][:10])\n",
    "        #Leave only these rows of the table which have in their variable attribute value from columns argument \n",
    "        temp = temp.loc[temp['Variable'].isin(columns)]\n",
    "        temp = temp[['Variable', 'National']]\n",
    "        #Set 'Variable' as an index to make it easier to transpose in terms of cleaning and DataFrame format\n",
    "        temp = temp.set_index('Variable')\n",
    "        temp = temp.T\n",
    "        #Change type of 'date' object\n",
    "        temp['Date'] = pd.to_datetime(date)\n",
    "        #Get country name from file path\n",
    "        temp['Country'] = country\n",
    "        temp = temp.set_index('Date')\n",
    "        #temp = column_filter(temp, country = country)\n",
    "        #concatenate created DataFrame with cumulative DataFrame\n",
    "        df = pd.concat([df, temp])\n",
    "    df = df.sort_index()\n",
    "        \n",
    "    return df"
   ]
  },
  {
   "cell_type": "markdown",
   "id": "78295489",
   "metadata": {},
   "source": [
    "##### Read files concerning Liberia cases"
   ]
  },
  {
   "cell_type": "code",
   "execution_count": null,
   "id": "5e7c5bb3",
   "metadata": {},
   "outputs": [],
   "source": [
    "'''Attributes choosen as those that contribute to New cases/deaths. \n",
    "   These were choosen just by inspecting the csv files'''\n",
    "new_cases_deaths_liberia = ['New Case/s (Probable)', 'New Case/s (Suspected)',\n",
    "       'New case/s (confirmed)','Newly Reported Cases in HCW', 'Newly Reported deaths in HCW',\n",
    "       'Newly reported deaths']\n",
    "\n",
    "total_cases_deaths_liberia = ['Total death/s in confirmed, probable, suspected cases', \n",
    "                      'Total suspected cases', 'Total probable cases',\n",
    "                      'Total confirmed cases','Total death/s in confirmed, \\n probable, suspected cases']\n",
    "\n",
    "#Read files that have 'liberia' word in their filepath\n",
    "liberia = read_data_liberia([file for file in file_list if file.split(\"/\")[3][:-5] == 'liberia'], new_cases_deaths_liberia)\n",
    "\n",
    "#We discard values from 'ebola/liberia_data/2014-10-04-v142.csv' because it has duplicated columns\n",
    "#with different values so the data is wrong, but in the second approach it doesn't matter at all.\n",
    "liberia_2nd_solution = read_data_liberia([file for file in file_list if file.split(\"/\")[3][:-5] == 'liberia' and file !='./Data/ebola/liberia_data/2014-10-04-v142.csv'], total_cases_deaths_liberia)\n",
    "liberia_2nd_solution['Total cases'] = liberia_2nd_solution[['Total suspected cases', 'Total probable cases', 'Total confirmed cases']].sum(axis = 1)\n",
    "liberia_2nd_solution['Total deaths'] = liberia_2nd_solution[['Total death/s in confirmed, \\n probable, suspected cases',\n",
    "                                                            'Total death/s in confirmed, probable, suspected cases']].sum(axis = 1)\n",
    "liberia_2nd_solution = liberia_2nd_solution[['Total cases', 'Total deaths', 'Country']]"
   ]
  },
  {
   "cell_type": "code",
   "execution_count": null,
   "id": "a73a94f4",
   "metadata": {},
   "outputs": [],
   "source": [
    "liberia"
   ]
  },
  {
   "cell_type": "code",
   "execution_count": null,
   "id": "7c910448",
   "metadata": {},
   "outputs": [],
   "source": [
    "#Columns that we are interested in\n",
    "new_cases_deaths_sl = ['etc_new_deaths','new_confirmed', 'new_probable', 'new_suspected', \n",
    "                       'death_suspected', 'death_probable','death_confirmed']"
   ]
  },
  {
   "cell_type": "code",
   "execution_count": null,
   "id": "6ff64707",
   "metadata": {},
   "outputs": [],
   "source": [
    "sl = read_data_sl([file for file in file_list if file.split(\"/\")[3][:-5] == 'sl'], columns = new_cases_deaths_sl)\n",
    "sl"
   ]
  },
  {
   "cell_type": "markdown",
   "id": "6af0cfb0",
   "metadata": {},
   "source": [
    "**Assumption**: Attribute `etc_new_deaths` is a part of a `New deaths` attribute"
   ]
  },
  {
   "cell_type": "code",
   "execution_count": null,
   "id": "15b51326",
   "metadata": {},
   "outputs": [],
   "source": [
    "file_list = []\n",
    "for path, subdirs, files in os.walk(\"./\" + DATA_FOLDER + \"/ebola/\"):\n",
    "    for name in files:\n",
    "        if(name.split(\".\")[-1]) == \"csv\":\n",
    "            file_list.append(os.path.join(path, name))\n",
    "\n",
    "#Just in case of Windows users\n",
    "file_list = [file.replace('\\\\', '/') for file in file_list]\n",
    "file_list"
   ]
  },
  {
   "cell_type": "code",
   "execution_count": null,
   "id": "6681367f",
   "metadata": {},
   "outputs": [],
   "source": [
    "guinea_total_case_deaths = ['Cumulative (confirmed + probable + suspects)', 'Total deaths (confirmed + probables + suspects)']"
   ]
  },
  {
   "cell_type": "code",
   "execution_count": null,
   "id": "1f0bdfd1",
   "metadata": {},
   "outputs": [],
   "source": [
    "guinea_total = read_data_guinea([file for file in file_list if file.split(\"/\")[3][:-5] == 'guinea'], guinea_total_case_deaths)\n",
    "guinea_total"
   ]
  },
  {
   "cell_type": "code",
   "execution_count": null,
   "id": "129936a0",
   "metadata": {},
   "outputs": [],
   "source": [
    "guinea_total['Total deaths (confirmed + probables + suspects)'].plot()"
   ]
  },
  {
   "cell_type": "code",
   "execution_count": null,
   "id": "2a5ff598",
   "metadata": {},
   "outputs": [],
   "source": [
    "#Replacing obviously bad value with next day value, which is much better approximation rather than previous value\n",
    "guinea_total.loc['2014-08-26', 'Total deaths (confirmed + probables + suspects)'] = guinea_total.loc['2014-08-27', 'Total deaths (confirmed + probables + suspects)']"
   ]
  },
  {
   "cell_type": "code",
   "execution_count": null,
   "id": "43837e15",
   "metadata": {},
   "outputs": [],
   "source": [
    "guinea_total[['Total cases', 'Total deaths']] = guinea_total[guinea_total_case_deaths]\n",
    "guinea_total = guinea_total[['Total cases', 'Total deaths', 'Country']]\n",
    "guinea_total.head()"
   ]
  },
  {
   "cell_type": "code",
   "execution_count": null,
   "id": "1dd09b9e",
   "metadata": {},
   "outputs": [],
   "source": [
    "guinea_cum = guinea_total[['Total cases', 'Total deaths']]\n",
    "last_days, first_days = first_n_last_days(guinea_cum)\n",
    "last_guinea = guinea_cum.iloc[last_days]\n",
    "last_guinea"
   ]
  },
  {
   "cell_type": "code",
   "execution_count": null,
   "id": "ddeab62c",
   "metadata": {},
   "outputs": [],
   "source": [
    "first_guinea = guinea_cum.iloc[first_days]\n",
    "first_guinea"
   ]
  },
  {
   "cell_type": "code",
   "execution_count": null,
   "id": "df51fc79",
   "metadata": {},
   "outputs": [],
   "source": [
    "#Substracting last-day-of-the-month values with first-day-of-the-month values\n",
    "New_cases = last_guinea['Total cases'].values - first_guinea['Total cases'].values\n",
    "New_deaths = last_guinea['Total deaths'].values - first_guinea['Total deaths'].values\n",
    "\n",
    "#Generate list of months for indexing purposes\n",
    "guinea_months = np.array(guinea_cum.index.month.drop_duplicates())\n",
    "\n",
    "d = {'New cases': New_cases, 'New deaths': New_deaths, 'Country': 'guinea'}\n",
    "guinea_2nd_solution = pd.DataFrame(data=d, index=guinea_months)"
   ]
  },
  {
   "cell_type": "markdown",
   "id": "4e8da5b0",
   "metadata": {},
   "source": [
    "**Note**: that approach has a drawback, if there is only one day in month, first and last day is the same."
   ]
  },
  {
   "cell_type": "code",
   "execution_count": null,
   "id": "c5f27f1c",
   "metadata": {},
   "outputs": [],
   "source": [
    "#Assign proper value\n",
    "guinea_2nd_solution.loc[10] = guinea.loc['2014-10-01']"
   ]
  }
 ],
 "metadata": {},
 "nbformat": 4,
 "nbformat_minor": 5
}
