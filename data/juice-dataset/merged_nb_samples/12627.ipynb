{
 "cells": [
  {
   "cell_type": "markdown",
   "id": "4eb4fa87",
   "metadata": {},
   "source": [
    "# Exploration"
   ]
  },
  {
   "cell_type": "markdown",
   "id": "b4fc423b",
   "metadata": {},
   "source": [
    "We will be building a statistical model to estimate the distribution of Pokemon stats and to predict the stats of future (or unseen) Pokemons.\n",
    "\n",
    "In this notebook, we will explore the Pokemon dataset (https://www.kaggle.com/abcsds/pokemon) and try to answer a few questions about Pokemons:\n",
    "1. How are the attributes of a Pokemon roughly distributed?\n",
    "2. Are there any significant difference between the attribute allocation between different Pokemon types?\n",
    "3. Do certain attributes correlate with each other?\n",
    "4. How much better is a \"Legendary\" Pokemon?\n",
    "5. What are the most \"unusual\" Pokemons? What about most \"normal\"?\n",
    "\n",
    "Let us first inspect the data:"
   ]
  },
  {
   "cell_type": "code",
   "execution_count": null,
   "id": "fd219cc0",
   "metadata": {},
   "outputs": [],
   "source": [
    "import numpy as np\n",
    "import pandas as pd\n",
    "import matplotlib.pyplot as plt\n",
    "%matplotlib inline\n",
    "import seaborn as sns"
   ]
  },
  {
   "cell_type": "code",
   "execution_count": null,
   "id": "ad8505fb",
   "metadata": {},
   "outputs": [],
   "source": [
    "pokemon = pd.read_csv(\"./Pokemon.csv\")"
   ]
  },
  {
   "cell_type": "code",
   "execution_count": null,
   "id": "e4acf9ea",
   "metadata": {},
   "outputs": [],
   "source": [
    "pokemon.shape"
   ]
  },
  {
   "cell_type": "code",
   "execution_count": null,
   "id": "a61af42e",
   "metadata": {},
   "outputs": [],
   "source": [
    "pokemon.head()"
   ]
  },
  {
   "cell_type": "markdown",
   "id": "46721637",
   "metadata": {},
   "source": [
    "Quoting the attribute description on Kaggle:\n",
    "\n",
    ">#: ID for each pokemon \n",
    ">\n",
    "Name: Name of each pokemon \n",
    ">\n",
    "Type 1: Each pokemon has a type, this determines weakness/resistance to attacks \n",
    ">\n",
    "Type 2: Some pokemon are dual type and have 2 \n",
    ">\n",
    "Total: sum of all stats that come after this, a general guide to how strong a pokemon is \n",
    ">\n",
    "HP: hit points, or health, defines how much damage a pokemon can withstand before fainting \n",
    ">\n",
    "Attack: the base modifier for normal attacks (eg. Scratch, Punch) \n",
    ">\n",
    "Defense: the base damage resistance against normal attacks \n",
    ">\n",
    "SP Atk: special attack, the base modifier for special attacks (e.g. fire blast, bubble beam) \n",
    ">\n",
    "SP Def: the base damage resistance against special attacks \n",
    ">\n",
    "Speed: determines which pokemon attacks first each round\n",
    "\n",
    "We begin by inspecting the basic descriptive statistics of the attributes:"
   ]
  },
  {
   "cell_type": "code",
   "execution_count": null,
   "id": "a6e1e526",
   "metadata": {},
   "outputs": [],
   "source": [
    "pokemon.describe()"
   ]
  },
  {
   "cell_type": "code",
   "execution_count": null,
   "id": "24299b41",
   "metadata": {},
   "outputs": [],
   "source": [
    "pokemon.describe(exclude=[np.number])"
   ]
  },
  {
   "cell_type": "markdown",
   "id": "4aaf6e57",
   "metadata": {},
   "source": [
    "Some characteristics of the data:\n",
    "\n",
    "1. There are 13 attributes (including ID) per pokemon, and there are 800 pokemons in total.\n",
    "2. All the 6 basic stats are on the same order of magnitude in terms of range, and have similar std as well. HP has the lowest deviation whereas Sp.Atk has the highest. The range of total stat points is pretty large.\n",
    "3. All pokemons have one type, and about half of them have two types."
   ]
  },
  {
   "cell_type": "markdown",
   "id": "7d98a924",
   "metadata": {},
   "source": [
    "Let us compare the pokemon stat values pairwise:"
   ]
  },
  {
   "cell_type": "markdown",
   "id": "14eda366",
   "metadata": {},
   "source": [
    "Since we have modelled the effect of types and legendary status on the attributes, the correlation being explained by the multivariate normal distribution is smaller than that in the data overall (e.g. in many types, Sp. Atk and Sp.Def are either high or low at the same time). However, there seems to be a correlation between Defense and Sp.Def that is not sufficiently explained by our type model."
   ]
  },
  {
   "cell_type": "markdown",
   "id": "00ce3369",
   "metadata": {},
   "source": [
    "# Investigating the Relationship between Attributes Given Total Points"
   ]
  },
  {
   "cell_type": "markdown",
   "id": "9e92aa0a",
   "metadata": {},
   "source": [
    "So far, we have modelled the relationship between the attributes of a pokemon and its types. What if we include the total attribute points of a pokemon as an input variable?"
   ]
  },
  {
   "cell_type": "code",
   "execution_count": null,
   "id": "af845710",
   "metadata": {},
   "outputs": [],
   "source": [
    "pos = pd.DataFrame(samp['att'].reshape(-1, M), columns=labels)\n",
    "pos['Total'] = pos.sum(axis=1)\n",
    "pos.describe()"
   ]
  },
  {
   "cell_type": "code",
   "execution_count": null,
   "id": "6c53a578",
   "metadata": {},
   "outputs": [],
   "source": [
    "nr = 6\n",
    "nc = 3\n",
    "f, ax = plt.subplots(figsize=(20, 25), nrows=nr, ncols=nc)\n",
    "START = 100\n",
    "RANGE = 50\n",
    "for i in range(nr * nc):\n",
    "    slice_dat = pos.loc[(pos['Total'] >= START + RANGE * i) & (pos['Total'] < START + RANGE * (1 + i)), :]\\\n",
    "        .iloc[:-1, :-1]\n",
    "    ax[i//nc, i%nc].set_title(\"Total = {0} to {1}, count={2}\"\\\n",
    "                            .format(START + RANGE * i, START + RANGE * (1 + i), slice_dat.shape[0]))\n",
    "    slice_cov = slice_dat.cov()\n",
    "    slice_diag = np.sqrt(np.diag(slice_cov))\n",
    "    corr = pd.DataFrame(slice_cov.values / slice_diag.reshape(-1, 1) / slice_diag.reshape(1, -1),\n",
    "                        columns=labels, index=labels)\n",
    "    sns.heatmap(corr, cmap=sns.color_palette(\"coolwarm\", 10), ax=ax[i//nc, i%nc], annot=True)\n",
    "plt.show()"
   ]
  },
  {
   "cell_type": "markdown",
   "id": "32f8460b",
   "metadata": {},
   "source": [
    "Here we can look at how the relationships between attributes change over the range of total attribute points. There are more positive correlation between certain attribute pairs at very low and very high total attr ranges (altough likely be chance, as the sample size is small on the extreme ends). Opposite attack and defense (e.g. Attack vs Sp. Def) seems to be consistently negatively correlated given total attrs. Speed and Defense are more consistently negatively correlated."
   ]
  },
  {
   "cell_type": "markdown",
   "id": "cd4db253",
   "metadata": {},
   "source": [
    "# Fun Time - Find the weirdest Pokemon!"
   ]
  },
  {
   "cell_type": "markdown",
   "id": "f64a7339",
   "metadata": {},
   "source": [
    "We define \"weirdness\" as having low likeliness as predicted by our model. To find the most unlikely Pokemon, we need to calculate the likeliness for each row:"
   ]
  },
  {
   "cell_type": "code",
   "execution_count": null,
   "id": "6c0d696e",
   "metadata": {},
   "outputs": [],
   "source": [
    "with model:\n",
    "    logp = attributes.logp_elemwise(mu=trace['mu'].mean(axis=0), \n",
    "                   w=trace['w'].mean(axis=0),\n",
    "                   nu_interval__=trace['nu_interval__'].mean(axis=0),\n",
    "                   chol_cholesky_cov_packed__=trace['chol_cholesky_cov_packed__'].mean(axis=0),\n",
    "                   amp_interval__=trace['amp_interval__'].mean(axis=0))"
   ]
  },
  {
   "cell_type": "markdown",
   "id": "0b5eb9e0",
   "metadata": {},
   "source": [
    "Now we just have to rank the Pokemons by their log-likeliness:"
   ]
  },
  {
   "cell_type": "code",
   "execution_count": null,
   "id": "756a7c8e",
   "metadata": {},
   "outputs": [],
   "source": [
    "sort_ind = np.argsort(logp)"
   ]
  },
  {
   "cell_type": "markdown",
   "id": "f793288a",
   "metadata": {},
   "source": [
    "And here is our 20 weirdest Pokemon:"
   ]
  },
  {
   "cell_type": "code",
   "execution_count": null,
   "id": "3368a420",
   "metadata": {},
   "outputs": [],
   "source": [
    "sns.pairplot(pokemon, hue='Legendary')"
   ]
  },
  {
   "cell_type": "markdown",
   "id": "9448698b",
   "metadata": {},
   "source": [
    "We found some further insights:\n",
    "\n",
    "1. Stats are distributed rather evenly across generations barring a few outliers, but the averages seem to increase by pokemon IDs - likely power creep?\n",
    "2. Individual stats are somewhat positively correlated with total stats.\n",
    "3. All stats are skewed to the right.\n",
    "4. The correlations between individual stats are not clear.\n",
    "5. Legendaries have significantly higher total stats."
   ]
  },
  {
   "cell_type": "markdown",
   "id": "3c9fd829",
   "metadata": {},
   "source": [
    "We would also like to know the relationship between type and stats."
   ]
  },
  {
   "cell_type": "code",
   "execution_count": null,
   "id": "d779df4b",
   "metadata": {},
   "outputs": [],
   "source": [
    "vec_concat = np.vectorize(lambda x, y: \" \".join([x, y]))"
   ]
  },
  {
   "cell_type": "code",
   "execution_count": null,
   "id": "6d417c5c",
   "metadata": {},
   "outputs": [],
   "source": [
    "pokemon['CombinedType'] = vec_concat(pokemon['Type 1'].fillna(\"\"), pokemon['Type 2'].fillna(\"\"))"
   ]
  },
  {
   "cell_type": "code",
   "execution_count": null,
   "id": "585cb8eb",
   "metadata": {},
   "outputs": [],
   "source": [
    "combined_types = pokemon.groupby('CombinedType')['#'].count().reset_index().\\\n",
    "    rename(columns={'#':'val'}).query('val > 13')['CombinedType']"
   ]
  },
  {
   "cell_type": "code",
   "execution_count": null,
   "id": "04f280e0",
   "metadata": {},
   "outputs": [],
   "source": [
    "fig, ax = plt.subplots(figsize=(14, 6))\n",
    "sns.violinplot(data=pokemon.iloc[np.isin(pokemon['CombinedType'], combined_types), :],\n",
    "               x='CombinedType', y='Total', ax=ax)"
   ]
  },
  {
   "cell_type": "markdown",
   "id": "76b44792",
   "metadata": {},
   "source": [
    "As we see above, type definitely have an effect on the value distribution and allocation of different stats. Notice that for many types, there is a bimodal pattern in their attribute distributions. This is likely due to evolution stages, and we will verify that later.\n",
    "\n",
    "Now we look at the mean values of attributes in each commom pokemon type:"
   ]
  },
  {
   "cell_type": "markdown",
   "id": "30a89434",
   "metadata": {},
   "source": [
    "PPC for model validation - we draw samples of the observed variables from the posterior distribution and see if it demonstrates similar distribution to the actual data given."
   ]
  },
  {
   "cell_type": "code",
   "execution_count": null,
   "id": "d5831571",
   "metadata": {},
   "outputs": [],
   "source": [
    "with model:\n",
    "    samp = pm.sample_ppc(trace, 1000)"
   ]
  },
  {
   "cell_type": "code",
   "execution_count": null,
   "id": "841fecfb",
   "metadata": {},
   "outputs": [],
   "source": [
    "labels = ['HP', 'Attack', 'Defense', 'Sp. Atk', 'Sp. Def', 'Speed']"
   ]
  },
  {
   "cell_type": "markdown",
   "id": "33a121cc",
   "metadata": {},
   "source": [
    "Posterior value:"
   ]
  },
  {
   "cell_type": "code",
   "execution_count": null,
   "id": "70d5d202",
   "metadata": {},
   "outputs": [],
   "source": [
    "pd.DataFrame(samp['att'].reshape(-1, 6), columns=labels).agg([np.mean, np.std, \n",
    "                                                              lambda x: x.quantile(0.05),\n",
    "                                                              lambda x: x.quantile(0.95)])"
   ]
  },
  {
   "cell_type": "markdown",
   "id": "11d023fa",
   "metadata": {},
   "source": [
    "Data value:"
   ]
  },
  {
   "cell_type": "code",
   "execution_count": null,
   "id": "88a53647",
   "metadata": {},
   "outputs": [],
   "source": [
    "df[labels].agg([np.mean, np.std, lambda x: x.quantile(0.05), lambda x: x.quantile(0.95)])"
   ]
  },
  {
   "cell_type": "markdown",
   "id": "1fbf7ec0",
   "metadata": {},
   "source": [
    "As we see here, our sample estimate is somewhat close to the true data values, but there are some underestimates and overestimates. We suspect this is due to the fact that being legendary affects different attributes differently, and when two types mix, they do not affect each attribute equally."
   ]
  },
  {
   "cell_type": "markdown",
   "id": "521aa427",
   "metadata": {},
   "source": [
    "Let us compare the distribution of different attributes from the posterior sample and from the data:"
   ]
  },
  {
   "cell_type": "code",
   "execution_count": null,
   "id": "d5b1e59b",
   "metadata": {},
   "outputs": [],
   "source": [
    "f, ax = plt.subplots(nrows=3, ncols=2, figsize=(12, 10))\n",
    "tdf = pd.DataFrame(samp['att'].reshape(-1, 6))\n",
    "for i in range(3):\n",
    "    for j in range(2):\n",
    "        tdf.iloc[:, 2 * i + j].sample(10000).plot.kde(xlim=(0, 200), \n",
    "                                        title=labels[2 * i + j], \n",
    "                                        ax=ax[i, j])\n",
    "tdf = pd.DataFrame(df[labels])\n",
    "for i in range(3):\n",
    "    for j in range(2):\n",
    "        tdf.iloc[:, 2 * i + j].plot.kde(xlim=(0, 200), \n",
    "                                        title=labels[2 * i + j],\n",
    "                                        ax=ax[i, j], color='red')\n",
    "tdf = pd.DataFrame(df.query('Legendary == False')[labels])\n",
    "for i in range(3):\n",
    "    for j in range(2):\n",
    "        tdf.iloc[:, 2 * i + j].plot.kde(xlim=(0, 200), \n",
    "                                        title=labels[2 * i + j],\n",
    "                                        ax=ax[i, j], color='green')\n",
    "plt.show()"
   ]
  },
  {
   "cell_type": "markdown",
   "id": "c94b474d",
   "metadata": {},
   "source": [
    "There are still some imperfections about this model, for example it does not fit the peaks of some attributes very well."
   ]
  },
  {
   "cell_type": "markdown",
   "id": "df458442",
   "metadata": {},
   "source": [
    "One of the easiest inferences we can make is about the bonus of being \"Legendary\":"
   ]
  },
  {
   "cell_type": "code",
   "execution_count": null,
   "id": "9ec9e056",
   "metadata": {},
   "outputs": [],
   "source": [
    "pm.plot_posterior(trace, varnames=['amp'])"
   ]
  },
  {
   "cell_type": "markdown",
   "id": "748c9802",
   "metadata": {},
   "source": [
    "According to our model, legendary Pokemons are expected to be 1.434 times stronger than an ordinary Pokemon. The 95% credible interval of the multiplier is (1.367, 1.494). This is a reasonable estimate given the scatterplot of total attribute points versus legendary status, however from the scatterplot we can also see that being \"legendary\" is clearly not equal to receiving a flat bonus across the broad. A legendary Pokemon might only receive bonus in a few attributes and not at all in others. This is a limitation of our current model. However, due to the small number of legendary Pokemons, we might not be able to infer the **true** \"legendary generating algorithm\"."
   ]
  },
  {
   "cell_type": "markdown",
   "id": "697ef496",
   "metadata": {},
   "source": [
    "One interesting observation from the posterior is that not all types affect the attributes equally. We plot the distribution and relative mean of the mixture weight variables $w_{type_i}$:"
   ]
  },
  {
   "cell_type": "code",
   "execution_count": null,
   "id": "0ea65b7b",
   "metadata": {},
   "outputs": [],
   "source": [
    "f, ax = plt.subplots(figsize=(12, 6))\n",
    "pd.DataFrame(trace['w'], columns=cata1.categories).plot.kde(ax=ax)"
   ]
  },
  {
   "cell_type": "code",
   "execution_count": null,
   "id": "2badb1ae",
   "metadata": {},
   "outputs": [],
   "source": [
    "(pd.DataFrame(trace['w'], columns=cata1.categories).mean() - 1).plot.bar()"
   ]
  },
  {
   "cell_type": "markdown",
   "id": "08956649",
   "metadata": {},
   "source": [
    "Although the effect is subtle and the result is not likely to be very significant, we do find that Steel type is more likely to dominate the stat allocation in mixed-type pokemons and Bug type tends to have a smaller influence in mixed-types."
   ]
  },
  {
   "cell_type": "code",
   "execution_count": null,
   "id": "9bd5c60a",
   "metadata": {},
   "outputs": [],
   "source": [
    "pm.plots.forestplot(trace, varnames=['w'], ylabels=cata1.categories)\n",
    "plt.show()"
   ]
  },
  {
   "cell_type": "markdown",
   "id": "f809d7e1",
   "metadata": {},
   "source": [
    "As we see above, pretty much all of the type weights' 95% credible intervals overlap, so we really cannot conclude for certain whether some types affect attributes more than others."
   ]
  },
  {
   "cell_type": "markdown",
   "id": "1544ff1b",
   "metadata": {},
   "source": [
    "We may also investigate the covariance matrix and derive our estimate of attribute correlation from it. Let us contrast this with the correlation matrix from the data:"
   ]
  },
  {
   "cell_type": "code",
   "execution_count": null,
   "id": "0581b7eb",
   "metadata": {},
   "outputs": [],
   "source": [
    "cov_mean = trace['cov'].mean(axis=0)\n",
    "cov_diag = np.sqrt(np.diag(cov_mean))\n",
    "corr = pd.DataFrame(cov_mean / cov_diag.reshape(-1, 1) / cov_diag.reshape(1, -1), index=labels, columns=labels)\n",
    "\n",
    "f, ax = plt.subplots(figsize=(16, 6), ncols=2)\n",
    "ax[0].set_title(\"data\")\n",
    "sns.heatmap(df[labels].corr(), ax=ax[0], cmap=sns.color_palette(\"coolwarm\", 10), annot=True)\n",
    "ax[1].set_title('posterior')\n",
    "sns.heatmap(corr, ax=ax[1], cmap=sns.color_palette(\"coolwarm\", 10), annot=True)\n",
    "plt.show()"
   ]
  },
  {
   "cell_type": "markdown",
   "id": "4c7adbde",
   "metadata": {},
   "source": [
    "As we see here, the attributes of a combined type is not always the average of two component types."
   ]
  },
  {
   "cell_type": "markdown",
   "id": "d1303231",
   "metadata": {},
   "source": [
    "Now we look at the joint distributions of the attributes."
   ]
  },
  {
   "cell_type": "code",
   "execution_count": null,
   "id": "d23d86cc",
   "metadata": {},
   "outputs": [],
   "source": [
    "g = sns.PairGrid(pokemon[[\"HP\", \"Attack\", \"Defense\", \"Sp. Atk\", \"Sp. Def\", \"Speed\"]], diag_sharey=False)\n",
    "g.map_lower(sns.kdeplot, cmap=\"Blues_d\")\n",
    "g.map_upper(plt.scatter)\n",
    "g.map_diag(sns.kdeplot, lw=3)"
   ]
  },
  {
   "cell_type": "markdown",
   "id": "9096ce8c",
   "metadata": {},
   "source": [
    "There exist some correlation between attributes, but each attribute appears to be distributed mostly normally. It is reasonable to believe that we can roughly fit this distribution pattern with a multivariate normal distribution."
   ]
  },
  {
   "cell_type": "markdown",
   "id": "5df01952",
   "metadata": {},
   "source": [
    "# Modelling"
   ]
  },
  {
   "cell_type": "markdown",
   "id": "cc9085f7",
   "metadata": {},
   "source": [
    "Let us build a basic attribute generation model. We make the following assumptions:\n",
    "\n",
    "1. All six attributes of a pokemon follow a joint multivariate normal distribution. The mean vector and covariance matrix are random variables to be estimated.\n",
    "2. The mean vector of the attribute distribution is dependent on the type of the pokemon. For each type, the mean follows a normal distribution prior. If the pokemon has two types, the distribution of the mean is the mixture of the two component distributions.\n",
    "3. Some types may have a stronger influence on the attributes than others. This is modelled with weight variables that are different for all types.\n",
    "4. \"Legendary\" is a multiplier on the mean of the attributes.\n",
    "\n",
    "We begin by converting the \"type\" fields into numberical IDs."
   ]
  },
  {
   "cell_type": "code",
   "execution_count": null,
   "id": "0c7cdf01",
   "metadata": {},
   "outputs": [],
   "source": [
    "df = pokemon[['Type 1', 'Type 2', 'Legendary', 'HP', 'Attack', 'Defense',\n",
    "              'Sp. Atk', 'Sp. Def', 'Speed']].copy()\n",
    "df['Single'] = pd.isnull(df['Type 2'])\n",
    "df.loc[pd.isnull(df['Type 2']), 'Type 2'] = df[pd.isnull(df['Type 2'])]['Type 1']\n",
    "cata1 = df['Type 1'].astype('category').cat\n",
    "cata1_map = {cata1.categories[i]:i for i in range(len(cata1.categories))}\n",
    "df['Type 1'] = df['Type 1'].apply(lambda x: cata1_map[x])\n",
    "df['Type 2'] = df['Type 2'].apply(lambda x: cata1_map[x])\n",
    "df.head()"
   ]
  },
  {
   "cell_type": "code",
   "execution_count": null,
   "id": "e18b5381",
   "metadata": {},
   "outputs": [],
   "source": [
    "import pymc3 as pm\n",
    "import theano.tensor as tt\n",
    "from theano import shared\n",
    "import theano as th"
   ]
  },
  {
   "cell_type": "markdown",
   "id": "a015cbee",
   "metadata": {},
   "source": [
    "Let us construct the model in PyMC3. Some tricks must be used to model the prior of the covariance matrix."
   ]
  },
  {
   "cell_type": "code",
   "execution_count": null,
   "id": "bd0e9c78",
   "metadata": {},
   "outputs": [],
   "source": [
    "M = 6\n",
    "T = 18\n",
    "\n",
    "with pm.Model() as model:\n",
    "    type_1 = shared(df['Type 1'].astype(np.int16).values)\n",
    "    type_2 = shared(df['Type 2'].astype(np.int16).values)\n",
    "    leg_ph = shared(df['Legendary'].astype(np.bool).values)\n",
    "    obs = shared(df.loc[:, ['HP', 'Attack', 'Defense', 'Sp. Atk', 'Sp. Def', 'Speed']].astype(np.float32).values)\n",
    "\n",
    "    leg = tt.reshape(leg_ph, (df.shape[0], 1))\n",
    "    \n",
    "    type_mu = pm.Normal(\"mu\", mu=70., sd=10., shape=(T, M))  # prior of attr mean by type\n",
    "#     r = pm.Beta(\"r_{mix}\", 2, 2)\n",
    "    w = pm.Normal(\"w\", mu=1., sd=0.2, shape=T)\n",
    "    r = w[type_1] / (w[type_1] + w[type_2])\n",
    "    r = tt.reshape(r, (r.shape[0], 1))\n",
    "    selected_type_mu = r * type_mu[type_1, :] + (1 - r) * type_mu[type_2, :]\n",
    "\n",
    "#     sigma = pm.Lognormal('sigma', 30., 5.)\n",
    "    \n",
    "    # prior for the covariance matrix\n",
    "    nu = pm.Uniform('nu', 0., 5.)\n",
    "    chol = pm.LKJCholeskyCov('chol', n=M, eta=nu, sd_dist=pm.Lognormal.dist(30., 5.))\n",
    "    chol = pm.expand_packed_triangular(M, chol, lower=True)\n",
    "    cov = pm.Deterministic(\"cov\", tt.dot(chol, chol.T))  # dummy\n",
    "    \n",
    "    amp = pm.Uniform(\"amp\", 0., 2.)  # legendary multiplier, i.e. legendaries are k times stronger\n",
    "    attributes = pm.MvNormal('att', mu=selected_type_mu * (leg * amp + 1), \n",
    "                             chol=chol, observed=obs)\n",
    "#     attributes = pm.Normal('att', mu=selected_type_mu * (leg * amp + 1), sd=sigma, observed=obs)"
   ]
  },
  {
   "cell_type": "markdown",
   "id": "c4a270a6",
   "metadata": {},
   "source": [
    "Model description:\n",
    "$$\n",
    "\\mu_{type_i} \\sim Normal(\\mu_{type_i}, \\sigma_{type_i}) \\\\\n",
    "w_{type_i} \\sim Normal(\\mu_{w}, \\sigma_{w}) \\\\\n",
    "r = \\dfrac{w[type_1]}{w[type_1] + w[type_2]} \\\\\n",
    "\\mu_{actual} = r\\mu_{type_1} + (1-r)\\mu_{type_2} \\\\\n",
    "\\nu \\sim Uniform(a_\\nu, b_\\nu) \\\\\n",
    "\\varsigma \\sim Lognormal(\\mu_\\varsigma, \\sigma_\\varsigma) \\\\\n",
    "\\Sigma \\sim LKJ(\\varsigma, \\nu) \\\\\n",
    "k \\sim Uniform(a_k, b_k) \\\\\n",
    "Y \\sim MvNormal(\\mu_{actual} \\cdot (1 + kI_{legendary}), \\Sigma)\n",
    "$$\n",
    "\n",
    "Input values:\n",
    "$$\n",
    "type_1, type_2, I_{legendary}\n",
    "$$\n",
    "\n",
    "Observed variable: $$Y$$"
   ]
  },
  {
   "cell_type": "markdown",
   "id": "53fa2e7c",
   "metadata": {},
   "source": [
    "We run the sampler to perform inference on the data:"
   ]
  },
  {
   "cell_type": "code",
   "execution_count": null,
   "id": "043d55f4",
   "metadata": {},
   "outputs": [],
   "source": [
    "with model:\n",
    "    trace = pm.sample(2000, tune=2000, init='ADVI')"
   ]
  },
  {
   "cell_type": "code",
   "execution_count": null,
   "id": "e77701b8",
   "metadata": {},
   "outputs": [],
   "source": [
    "pm.traceplot(trace, varnames=['mu', 'w', 'amp'])\n",
    "plt.show()"
   ]
  },
  {
   "cell_type": "markdown",
   "id": "4267fabc",
   "metadata": {},
   "source": [
    "We can check the inferred attribute means of two opposite types to see if the inferred distribution makes sense:"
   ]
  },
  {
   "cell_type": "code",
   "execution_count": null,
   "id": "ac507ad7",
   "metadata": {},
   "outputs": [],
   "source": [
    "SELECTED_TYPE = ['Fighting', 'Psychic']\n",
    "f, ax = plt.subplots(nrows=3, ncols=2, figsize=(12, 12))\n",
    "pd.DataFrame(trace['mu'][:, :, 0]).rename(columns={i:cata1.categories[i] for i in range(T)})[SELECTED_TYPE]\\\n",
    "    .plot.kde(title=\"HP\", ax = ax[0, 0], legend=False, xlim=(40, 120))\n",
    "pd.DataFrame(trace['mu'][:, :, 1]).rename(columns={i:cata1.categories[i] for i in range(T)})[SELECTED_TYPE]\\\n",
    "    .plot.kde(title=\"Attack\", ax=ax[0,1], legend=False, xlim=(40, 120))\n",
    "pd.DataFrame(trace['mu'][:, :, 2]).rename(columns={i:cata1.categories[i] for i in range(T)})[SELECTED_TYPE]\\\n",
    "    .plot.kde(title=\"Defense\", ax=ax[1,0], legend=False, xlim=(40, 120))\n",
    "pd.DataFrame(trace['mu'][:, :, 3]).rename(columns={i:cata1.categories[i] for i in range(T)})[SELECTED_TYPE]\\\n",
    "    .plot.kde(title=\"Sp. Atk\", ax=ax[1,1], legend=False, xlim=(40, 120))\n",
    "pd.DataFrame(trace['mu'][:, :, 4]).rename(columns={i:cata1.categories[i] for i in range(T)})[SELECTED_TYPE]\\\n",
    "    .plot.kde(title=\"Sp. Def\", ax=ax[2,0],legend=False, xlim=(40, 120))\n",
    "pd.DataFrame(trace['mu'][:, :, 5]).rename(columns={i:cata1.categories[i] for i in range(T)})[SELECTED_TYPE]\\\n",
    "    .plot.kde(title=\"Speed\", ax=ax[2,1], xlim=(40, 120))\n",
    "plt.show()"
   ]
  },
  {
   "cell_type": "markdown",
   "id": "a48578e0",
   "metadata": {},
   "source": [
    "The model infers that Fighting Type has a higher HP and attack than Psychic Type, yet the Psychic Type has higher Sp. Atk and Sp. Def, which is correct according to Pokemon lore. So at least this small part of the model fits our \"real world\" experiences!"
   ]
  },
  {
   "cell_type": "code",
   "execution_count": null,
   "id": "c1939976",
   "metadata": {},
   "outputs": [],
   "source": [
    "combined_types = pokemon.groupby('CombinedType')['#'].count().reset_index().\\\n",
    "    rename(columns={'#':'val'}).query('val >= 10')['CombinedType']\n",
    "type_mean = pokemon.iloc[np.isin(pokemon['CombinedType'], combined_types), :]\\\n",
    "    .groupby('CombinedType')[[\"HP\", \"Attack\", \"Defense\", \"Sp. Atk\", \"Sp. Def\", \"Speed\"]]\\\n",
    "    .mean()"
   ]
  },
  {
   "cell_type": "code",
   "execution_count": null,
   "id": "dd24c954",
   "metadata": {},
   "outputs": [],
   "source": [
    "f, ax = plt.subplots(figsize=(11, 9))\n",
    "cmap = sns.diverging_palette(220, 10, as_cmap=True)\n",
    "sns.heatmap(type_mean, cmap=cmap, linewidths=.5, cbar_kws={\"shrink\": .5})"
   ]
  },
  {
   "cell_type": "markdown",
   "id": "a24c4852",
   "metadata": {},
   "source": [
    "It is also interesting to look at attribute distributions of single-typed pokemons versus double-typed pokemons."
   ]
  },
  {
   "cell_type": "code",
   "execution_count": null,
   "id": "54e12a8d",
   "metadata": {},
   "outputs": [],
   "source": [
    "mm = pokemon.iloc[np.isin(pokemon['CombinedType'], ['Water ', 'Water Ground', 'Ground ']), :]\\\n",
    "    [['CombinedType', \"HP\", \"Attack\", \"Defense\", \"Sp. Atk\", \"Sp. Def\", \"Speed\"]].melt(id_vars=['CombinedType'])\n",
    "    \n",
    "f, ax = plt.subplots(figsize=(11, 9))\n",
    "sns.stripplot(x=\"value\", y=\"variable\", hue=\"CombinedType\", hue_order=['Water ', 'Water Ground', 'Ground '],\n",
    "              data=mm, dodge=True, jitter=True, palette='dark',\n",
    "              alpha=.25, zorder=1)\n",
    "sns.pointplot(x=\"value\", y=\"variable\", hue=\"CombinedType\", hue_order=['Water ', 'Water Ground', 'Ground '],\n",
    "              data=mm, dodge=.532, join=False, palette=\"dark\",\n",
    "              markers=\"d\", scale=.75, ci=None)\n",
    "# Improve the legend \n",
    "handles, labels = ax.get_legend_handles_labels()\n",
    "ax.legend(handles[3:], labels[3:], title=\"Combined Type\",\n",
    "          handletextpad=0, columnspacing=1,\n",
    "          loc=\"lower right\", ncol=3, frameon=True)"
   ]
  },
  {
   "cell_type": "code",
   "execution_count": null,
   "id": "cf9ae541",
   "metadata": {},
   "outputs": [],
   "source": [
    "mm = pokemon.iloc[np.isin(pokemon['CombinedType'], ['Bug ', 'Bug Poison', 'Poison ']), :]\\\n",
    "    [['CombinedType', \"HP\", \"Attack\", \"Defense\", \"Sp. Atk\", \"Sp. Def\", \"Speed\"]].melt(id_vars=['CombinedType'])\n",
    "    \n",
    "f, ax = plt.subplots(figsize=(11, 9))\n",
    "sns.stripplot(x=\"value\", y=\"variable\", hue=\"CombinedType\", hue_order=['Bug ', 'Bug Poison', 'Poison '],\n",
    "              data=mm, dodge=True, jitter=True, palette='dark',\n",
    "              alpha=.25, zorder=1)\n",
    "sns.pointplot(x=\"value\", y=\"variable\", hue=\"CombinedType\", hue_order=['Bug ', 'Bug Poison', 'Poison '],\n",
    "              data=mm, dodge=.532, join=False, palette=\"dark\",\n",
    "              markers=\"d\", scale=.75, ci=None)\n",
    "# Improve the legend \n",
    "handles, labels = ax.get_legend_handles_labels()\n",
    "ax.legend(handles[3:], labels[3:], title=\"Combined Type\",\n",
    "          handletextpad=0, columnspacing=1,\n",
    "          loc=\"lower right\", ncol=3, frameon=True)"
   ]
  }
 ],
 "metadata": {},
 "nbformat": 4,
 "nbformat_minor": 5
}
