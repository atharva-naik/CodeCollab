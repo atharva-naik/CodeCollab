{
 "cells": [
  {
   "cell_type": "markdown",
   "id": "1f3a5105",
   "metadata": {},
   "source": [
    "## Make multiple predictions"
   ]
  },
  {
   "cell_type": "markdown",
   "id": "5747e204",
   "metadata": {},
   "source": [
    "Write a function to predict the value of *each and every* house in a query set. (The query set can be any subset of the dataset, be it the test set or validation set.) The idea is to have a loop where we take each house in the query set as the query house and make a prediction for that specific house. The new function should take the following parameters:\n",
    " * the value of k;\n",
    " * the feature matrix for the training houses;\n",
    " * the output values (prices) of the training houses; and\n",
    " * the feature matrix for the query set.\n",
    " \n",
    "The function should return a set of predicted values, one for each house in the query set.\n",
    "\n",
    "**Hint**: To get the number of houses in the query set, use the `.shape` field of the query features matrix. See [the documentation](http://docs.scipy.org/doc/numpy-1.10.1/reference/generated/numpy.ndarray.shape.html)."
   ]
  },
  {
   "cell_type": "code",
   "execution_count": null,
   "id": "2a00aeff",
   "metadata": {},
   "outputs": [],
   "source": [
    "def KNN_predict(k,train_features,train_output,query_features):\n",
    "    num_query = query_features.shape[0]\n",
    "    predict_list = np.zeros(num_query)\n",
    "    for i in range(0,num_query):\n",
    "        predict_price = knn_search(k,train_features, query_features[i],train_output)\n",
    "        predict_list[i] = predict_price\n",
    "    return predict_list"
   ]
  },
  {
   "cell_type": "markdown",
   "id": "2673bc68",
   "metadata": {},
   "source": [
    "*** QUIZ QUESTION ***\n",
    "\n",
    "Make predictions for the first 10 houses in the test set using k-nearest neighbors with `k=10`. \n",
    "\n",
    "1. What is the index of the house in this query set that has the lowest predicted value? 6\n",
    "2. What is the predicted value of this house?350032.0"
   ]
  },
  {
   "cell_type": "code",
   "execution_count": null,
   "id": "05b7acac",
   "metadata": {},
   "outputs": [],
   "source": [
    "predict_all = KNN_predict(10,features_train, output_train, features_test[0:10,:])\n",
    "print predict_all.shape\n",
    "print np.argsort(predict_all,axis = 0)[0]\n",
    "print np.min(predict_all)"
   ]
  },
  {
   "cell_type": "markdown",
   "id": "f1d66b73",
   "metadata": {},
   "source": [
    "## Choosing the best value of k using a validation set"
   ]
  },
  {
   "cell_type": "markdown",
   "id": "8bc495e8",
   "metadata": {},
   "source": [
    "There remains a question of choosing the value of k to use in making predictions. Here, we use a validation set to choose this value. Write a loop that does the following:\n",
    "\n",
    "* For `k` in [1, 2, ..., 15]:\n",
    "    * Makes predictions for each house in the VALIDATION set using the k-nearest neighbors from the TRAINING set.\n",
    "    * Computes the RSS for these predictions on the VALIDATION set\n",
    "    * Stores the RSS computed above in `rss_all`\n",
    "* Report which `k` produced the lowest RSS on VALIDATION set.8"
   ]
  },
  {
   "cell_type": "markdown",
   "id": "5972dd56",
   "metadata": {},
   "source": [
    "(Depending on your computing environment, this computation may take 10-15 minutes.)"
   ]
  },
  {
   "cell_type": "code",
   "execution_count": null,
   "id": "1bc6d5bf",
   "metadata": {},
   "outputs": [],
   "source": [
    "def RSS(predict,output):\n",
    "    RSS_output = ((predict-output)**2).sum()\n",
    "    return RSS_output\n",
    "RSS_all = np.zeros(15)\n",
    "for k in range(1,16):\n",
    "    predict_all = KNN_predict(k,features_train, output_train, features_valid)\n",
    "    RSS_value = RSS(predict_all,output_valid)\n",
    "    RSS_all[k-1] = RSS_value\n",
    "print RSS_all"
   ]
  },
  {
   "cell_type": "markdown",
   "id": "ca08f607",
   "metadata": {},
   "source": [
    "To visualize the performance as a function of `k`, plot the RSS on the VALIDATION set for each considered `k` value:"
   ]
  },
  {
   "cell_type": "code",
   "execution_count": null,
   "id": "78b8d3c6",
   "metadata": {},
   "outputs": [],
   "source": [
    "import matplotlib.pyplot as plt\n",
    "%matplotlib inline\n",
    "\n",
    "kvals = range(1, 16)\n",
    "plt.plot(kvals, RSS_all,'bo-')"
   ]
  },
  {
   "cell_type": "markdown",
   "id": "6df7b7ad",
   "metadata": {},
   "source": [
    "***QUIZ QUESTION ***\n",
    "\n",
    "What is the RSS on the TEST data using the value of k found above?  1.33118823552e+14\n",
    "To be clear, sum over all houses in the TEST set."
   ]
  },
  {
   "cell_type": "markdown",
   "id": "5933b5f3",
   "metadata": {},
   "source": [
    "To test the code above, run the following cell, which should output a value 0.0237082324496:"
   ]
  },
  {
   "cell_type": "code",
   "execution_count": null,
   "id": "c71ea26f",
   "metadata": {},
   "outputs": [],
   "source": [
    "print distances[100] # Euclidean distance between the query house and the 101th training house\n",
    "# should print 0.0237082324496"
   ]
  },
  {
   "cell_type": "markdown",
   "id": "da2f54db",
   "metadata": {},
   "source": [
    "Now you are ready to write a function that computes the distances from a query house to all training houses. The function should take two parameters: (i) the matrix of training features and (ii) the single feature vector associated with the query."
   ]
  },
  {
   "cell_type": "code",
   "execution_count": null,
   "id": "1cf4fde0",
   "metadata": {},
   "outputs": [],
   "source": [
    "def house_distance(train_features,query_features):\n",
    "    distance = distances = np.sqrt(np.sum((train_features[:] - query_features)**2,axis = 1))\n",
    "    return distance\n",
    "    "
   ]
  },
  {
   "cell_type": "markdown",
   "id": "ca81366e",
   "metadata": {},
   "source": [
    "*** QUIZ QUESTIONS ***\n",
    "\n",
    "1.  Take the query house to be third house of the test set (`features_test[2]`).  What is the index of the house in the training set that is closest to this query house?382\n",
    "2.  What is the predicted value of the query house based on 1-nearest neighbor regression?600000"
   ]
  },
  {
   "cell_type": "code",
   "execution_count": null,
   "id": "63dd6519",
   "metadata": {},
   "outputs": [],
   "source": [
    "np.argmin(house_distance(features_train[:],features_test[2]))\n"
   ]
  },
  {
   "cell_type": "code",
   "execution_count": null,
   "id": "a87dd374",
   "metadata": {},
   "outputs": [],
   "source": [
    "output_train[382]"
   ]
  },
  {
   "cell_type": "markdown",
   "id": "0eb706bf",
   "metadata": {},
   "source": [
    "# Perform k-nearest neighbor regression"
   ]
  },
  {
   "cell_type": "markdown",
   "id": "f17183cc",
   "metadata": {},
   "source": [
    "For k-nearest neighbors, we need to find a *set* of k houses in the training set closest to a given query house. We then make predictions based on these k nearest neighbors."
   ]
  },
  {
   "cell_type": "markdown",
   "id": "f0963d1e",
   "metadata": {},
   "source": [
    "## Fetch k-nearest neighbors\n",
    "\n",
    "Using the functions above, implement a function that takes in\n",
    " * the value of k;\n",
    " * the feature matrix for the training houses; and\n",
    " * the feature vector of the query house\n",
    " \n",
    "and returns the indices of the k closest training houses. For instance, with 2-nearest neighbor, a return value of [5, 10] would indicate that the 6th and 11th training houses are closest to the query house.\n",
    "\n",
    "**Hint**: Look at the [documentation for `np.argsort`](http://docs.scipy.org/doc/numpy/reference/generated/numpy.argsort.html)."
   ]
  },
  {
   "cell_type": "code",
   "execution_count": null,
   "id": "17b44130",
   "metadata": {},
   "outputs": [],
   "source": [
    "def k_nearest_neighbors(k,train_features, query_feature):\n",
    "    all_distance = house_distance(train_features,query_feature)\n",
    "    sort_index = np.argsort(all_distance)\n",
    "    index_list = sort_index[0:k]\n",
    "    return index_list"
   ]
  },
  {
   "cell_type": "markdown",
   "id": "3b5b547e",
   "metadata": {},
   "source": [
    "*** QUIZ QUESTION ***\n",
    "\n",
    "Take the query house to be third house of the test set (`features_test[2]`).  What are the indices of the 4 training houses closest to the query house?[ 382, 1149, 4087, 3142]"
   ]
  },
  {
   "cell_type": "code",
   "execution_count": null,
   "id": "c469b38d",
   "metadata": {},
   "outputs": [],
   "source": [
    "diff = (features_train[:] - features_test[0])\n",
    "#diff1 = np.sqrt((features_train[:] - features_test[0])**2)\n",
    "print diff\n"
   ]
  },
  {
   "cell_type": "markdown",
   "id": "6ce38ccf",
   "metadata": {},
   "source": [
    "To test the code above, run the following cell, which should output a value -0.0934339605842:"
   ]
  },
  {
   "cell_type": "code",
   "execution_count": null,
   "id": "2ef2b9c5",
   "metadata": {},
   "outputs": [],
   "source": [
    "print diff[-1].sum() # sum of the feature differences between the query and last training house\n",
    "# should print -0.0934339605842"
   ]
  },
  {
   "cell_type": "markdown",
   "id": "0651aea2",
   "metadata": {},
   "source": [
    "The next step in computing the Euclidean distances is to take these feature-by-feature differences in `diff`, square each, and take the sum over feature indices.  That is, compute the sum of square feature differences for each training house (row in `diff`).\n",
    "\n",
    "By default, `np.sum` sums up everything in the matrix and returns a single number. To instead sum only over a row or column, we need to specifiy the `axis` parameter described in the `np.sum` [documentation](http://docs.scipy.org/doc/numpy-1.10.1/reference/generated/numpy.sum.html). In particular, `axis=1` computes the sum across each row.\n",
    "\n",
    "Below, we compute this sum of square feature differences for all training houses and verify that the output for the 16th house in the training set is equivalent to having examined only the 16th row of `diff` and computing the sum of squares on that row alone."
   ]
  },
  {
   "cell_type": "code",
   "execution_count": null,
   "id": "9089dcab",
   "metadata": {},
   "outputs": [],
   "source": [
    "print np.sum(diff**2, axis=1)[15] # take sum of squares across each row, and print the 16th sum\n",
    "print np.sum(diff[15]**2) # print the sum of squares for the 16th row -- should be same as above"
   ]
  },
  {
   "cell_type": "markdown",
   "id": "3b0bbbe8",
   "metadata": {},
   "source": [
    "With this result in mind, write a single-line expression to compute the Euclidean distances between the query house and all houses in the training set. Assign the result to a variable `distances`.\n",
    "\n",
    "**Hint**: Do not forget to take the square root of the sum of squares."
   ]
  },
  {
   "cell_type": "code",
   "execution_count": null,
   "id": "d3273b76",
   "metadata": {},
   "outputs": [],
   "source": [
    "distances = np.sqrt(np.sum((features_train[:] - features_test[0])**2,axis = 1))"
   ]
  }
 ],
 "metadata": {},
 "nbformat": 4,
 "nbformat_minor": 5
}
