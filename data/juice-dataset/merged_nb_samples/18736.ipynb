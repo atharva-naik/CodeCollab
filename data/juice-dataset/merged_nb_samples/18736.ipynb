{
 "cells": [
  {
   "cell_type": "markdown",
   "id": "6f7e8fea",
   "metadata": {},
   "source": [
    "# A Short matplotlib Guide"
   ]
  },
  {
   "cell_type": "markdown",
   "id": "9f2323e0",
   "metadata": {},
   "source": [
    "### Importing matplotlib into our environment\n",
    "\n",
    "First of all we will import matplotlib in our code/script/notebook as below using the Python syntax:"
   ]
  },
  {
   "cell_type": "code",
   "execution_count": null,
   "id": "c3f0b6cd",
   "metadata": {},
   "outputs": [],
   "source": [
    "import matplotlib.pyplot as plt"
   ]
  },
  {
   "cell_type": "markdown",
   "id": "f5249401",
   "metadata": {},
   "source": [
    "After making a plot using matplotlib, one needs to call ```plt.show()```. To avoid doing so, one can enter the following line in their code/script/notebook:"
   ]
  },
  {
   "cell_type": "code",
   "execution_count": null,
   "id": "77a5c8bc",
   "metadata": {},
   "outputs": [],
   "source": [
    "%matplotlib inline"
   ]
  },
  {
   "cell_type": "markdown",
   "id": "791884c2",
   "metadata": {},
   "source": [
    "### The annoying message!"
   ]
  },
  {
   "cell_type": "code",
   "execution_count": null,
   "id": "a65a9787",
   "metadata": {},
   "outputs": [],
   "source": [
    "plt.scatter(1, 1)"
   ]
  },
  {
   "cell_type": "markdown",
   "id": "916f3b50",
   "metadata": {},
   "source": [
    "We see that we get a message saying \"<matplotlib.collections.PathCollection at 0x7f8331506b00>\". To avoid these messages, we will put semicolons at the end of our line as below:"
   ]
  },
  {
   "cell_type": "code",
   "execution_count": null,
   "id": "a718d1b6",
   "metadata": {},
   "outputs": [],
   "source": [
    "plt.scatter(1, 1);"
   ]
  },
  {
   "cell_type": "markdown",
   "id": "31de2e9f",
   "metadata": {},
   "source": [
    "### How to increase the size of a figure?"
   ]
  },
  {
   "cell_type": "markdown",
   "id": "763dc5f4",
   "metadata": {},
   "source": [
    "Many times, the default size is too small. To change the size, we can add a figsize argument and specify the width and height in inches."
   ]
  },
  {
   "cell_type": "code",
   "execution_count": null,
   "id": "5fb45508",
   "metadata": {},
   "outputs": [],
   "source": [
    "plt.figure(figsize=(20, 10))"
   ]
  },
  {
   "cell_type": "markdown",
   "id": "f71c62c9",
   "metadata": {},
   "source": [
    "### Subplots\n",
    "\n",
    "Subplots are a group of smaller axes that exist together within a single figure. Below is an example of four subplots in a 2 x 2 form."
   ]
  },
  {
   "cell_type": "code",
   "execution_count": null,
   "id": "a2cdbdf6",
   "metadata": {},
   "outputs": [],
   "source": [
    "for i in range (1, 5):\n",
    "    plt.subplot(2, 2, i)\n",
    "    plt.text(0.5, 0.5, str((2, 2, i)), ha='center', fontsize = 10)"
   ]
  },
  {
   "cell_type": "markdown",
   "id": "3b063753",
   "metadata": {},
   "source": [
    "### Styles and Properties"
   ]
  },
  {
   "cell_type": "markdown",
   "id": "fdccea2c",
   "metadata": {},
   "source": [
    "To make the plots align with proper padding, we use ```plt.tight_layout()```"
   ]
  },
  {
   "cell_type": "code",
   "execution_count": null,
   "id": "a9ce47fb",
   "metadata": {},
   "outputs": [],
   "source": [
    "for i in range (1, 5):\n",
    "    plt.subplot(2, 2, i)\n",
    "    plt.text(0.5, 0.5, str((2, 2, i)), ha='center', fontsize = 10)\n",
    "    plt.tight_layout()"
   ]
  },
  {
   "cell_type": "markdown",
   "id": "46d46135",
   "metadata": {},
   "source": [
    "To add gridlines to the plot, we use ```plt.grid(True)```"
   ]
  },
  {
   "cell_type": "code",
   "execution_count": null,
   "id": "11a43b78",
   "metadata": {},
   "outputs": [],
   "source": [
    "plt.scatter(1, 1)\n",
    "plt.grid(True)"
   ]
  },
  {
   "cell_type": "markdown",
   "id": "927dfd8d",
   "metadata": {},
   "source": [
    "Color arguments, linewidth and linestyle can be passed in as arguments too."
   ]
  }
 ],
 "metadata": {},
 "nbformat": 4,
 "nbformat_minor": 5
}
