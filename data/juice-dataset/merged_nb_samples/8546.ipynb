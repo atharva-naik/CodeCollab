{
 "cells": [
  {
   "cell_type": "markdown",
   "id": "a1df9af9",
   "metadata": {},
   "source": [
    "# Transiciones Radiativas\n",
    "\n",
    "Nicolas Unger"
   ]
  },
  {
   "cell_type": "code",
   "execution_count": null,
   "id": "8c3600df",
   "metadata": {},
   "outputs": [],
   "source": [
    "import numpy as np\n",
    "import matplotlib.pyplot as plt\n",
    "import sympy as sp\n",
    "from scipy.special import sph_harm\n",
    "\n",
    "Ry = 13.605693 # Energia de Rydberg (eV)\n",
    "h = 4.135667e-15 # Constante de Planck (eV*s)\n",
    "c = 299792458 # Velocidad de la luz (m/s)"
   ]
  },
  {
   "cell_type": "markdown",
   "id": "ffbaf049",
   "metadata": {},
   "source": [
    "## Uso el programa de diagonalizacion para sacar las energias"
   ]
  },
  {
   "cell_type": "code",
   "execution_count": null,
   "id": "2b70938c",
   "metadata": {},
   "outputs": [],
   "source": [
    "from numpy import diag,  linspace, array ,arange\n",
    "from matplotlib.pyplot import axhline, xlabel, ylabel, plot, axis, \\\n",
    "                                figure, title, show\n",
    "from numpy import pi,sqrt,zeros,sin,cos\n",
    "\n",
    "    \n",
    "%matplotlib inline\n",
    "\n",
    "import time\n",
    "from __future__ import division"
   ]
  },
  {
   "cell_type": "code",
   "execution_count": null,
   "id": "c4de1347",
   "metadata": {},
   "outputs": [],
   "source": [
    "from numpy import identity \n",
    "\n",
    "def Laplacian(x):\n",
    "    h = x[1]-x[0] # assume uniformly spaced points\n",
    "    n = len(x)\n",
    "    M = -2*identity(n,'d')\n",
    "    for i in range(1,n):\n",
    "        M[i,i-1] = M[i-1,i] = 1\n",
    "    return M/h**2"
   ]
  },
  {
   "cell_type": "code",
   "execution_count": null,
   "id": "cf6bf7db",
   "metadata": {},
   "outputs": [],
   "source": [
    "from numpy import sqrt\n",
    "\n",
    "# Normalización de las funciones \n",
    "\n",
    "def Normalizate(U,x):\n",
    "    \n",
    "    h = x[1]-x[0] # assume uniformly spaced points\n",
    "    n = len(x)\n",
    "\n",
    "        \n",
    "    for j in range(0,n):\n",
    "        suma = 0.0\n",
    "        for i in range(1,n):\n",
    "             suma = suma + U[i,j]**2\n",
    "\n",
    "        suma = suma*h\n",
    "        rnorm = 1/sqrt(suma)\n",
    "#        print j,' integral (sin normalizar) =',rnorm\n",
    "       \n",
    "#       Normalization\n",
    "        rsign = 1\n",
    "        if U[1,j] < 0:\n",
    "            rsign = -1\n",
    "            \n",
    "        rnorm = rnorm * rsign\n",
    "        for i in range(0,n):\n",
    "            U[i,j] = U[i,j]*rnorm\n",
    "         \n",
    "    return  U"
   ]
  },
  {
   "cell_type": "code",
   "execution_count": null,
   "id": "a720fbaf",
   "metadata": {},
   "outputs": [],
   "source": [
    "from numpy import diag,  linspace, array, arange, zeros\n",
    "from numpy.linalg import eigh\n",
    "from matplotlib.pyplot import axhline, xlabel, ylabel, plot, axis, \\\n",
    "                                figure, title, show\n",
    "\n",
    "step = 0.02\n",
    "xmin = step\n",
    "xmax = 40\n",
    "x = arange(xmin,xmax,step)\n",
    "nsize = len(x)\n",
    "\n",
    "x = linspace(xmin,xmax,nsize)\n",
    "T = array([nsize,nsize])\n",
    "V = array([nsize,nsize])\n",
    "H = array([nsize,nsize])"
   ]
  },
  {
   "cell_type": "markdown",
   "id": "e6cf78fb",
   "metadata": {},
   "source": [
    "# Diferencia de energia entre el estado 2p y 1s del Hidrogeno (H)"
   ]
  },
  {
   "cell_type": "markdown",
   "id": "3e43d07d",
   "metadata": {},
   "source": [
    "### Estado 1s"
   ]
  },
  {
   "cell_type": "code",
   "execution_count": null,
   "id": "f78d770c",
   "metadata": {},
   "outputs": [],
   "source": [
    "# Kinetic (T) and Potential (V)\n",
    "lq = 0 # s\n",
    "zq = 1 # H\n",
    "\n",
    "T = -0.5*Laplacian(x)\n",
    "V = -zq/x + lq*(lq+1)/(2 * x * x)\n",
    "\n",
    "# Hamiltonian\n",
    "H = T + diag(V)\n",
    "\n",
    "# Eigenvalues (E) and Eigenvectors (U)\n",
    "E_Hs,U_Hs = eigh(H)\n",
    "E_H1s = E_Hs[0]\n",
    "\n",
    "# Normalization\n",
    "U_Hs=Normalizate(U_Hs,x)"
   ]
  },
  {
   "cell_type": "markdown",
   "id": "faa09d9f",
   "metadata": {},
   "source": [
    "### Estado 2p"
   ]
  },
  {
   "cell_type": "code",
   "execution_count": null,
   "id": "8dfd8c56",
   "metadata": {},
   "outputs": [],
   "source": [
    "# Kinetic (T) and Potential (V)\n",
    "lq = 1 # p\n",
    "zq = 1 # H\n",
    "\n",
    "T = -0.5*Laplacian(x)\n",
    "V = -zq/x + lq*(lq+1)/(2 * x * x)\n",
    "\n",
    "# Hamiltonian\n",
    "H = T + diag(V)\n",
    "\n",
    "# Eigenvalues (E) and Eigenvectors (U)\n",
    "E_Hp,U_Hp = eigh(H)\n",
    "E_H2p = E_Hp[0]\n",
    "\n",
    "# Normalization\n",
    "U_Hp=Normalizate(U_Hp,x)"
   ]
  },
  {
   "cell_type": "code",
   "execution_count": null,
   "id": "88e3a99d",
   "metadata": {},
   "outputs": [],
   "source": [
    "Delta_E = E_H2p - E_H1s\n",
    "DE_eV = Delta_E * 2 * Ry\n",
    "print \"La diferencia de energia entre el estado 2p y 1s es: {:.3f} eV\".format(DE_eV)"
   ]
  },
  {
   "cell_type": "code",
   "execution_count": null,
   "id": "5a5cb53b",
   "metadata": {},
   "outputs": [],
   "source": [
    "omegaH = 2*np.pi * DE_eV / h\n",
    "omegaH_au = Delta_E # En unidades atomicas (h(barra) = 1)\n",
    "lamdaH = h*c/DE_eV\n",
    "print \"La fercuencia angular de esa transicion es: {} Hz\".format(omegaH)\n",
    "print \"La longitud de onda de la transicion es: {:.3f} nm\".format(lamdaH*1e9)"
   ]
  },
  {
   "cell_type": "markdown",
   "id": "a395fe22",
   "metadata": {},
   "source": [
    "### Elemento de Matriz $\\left< \\phi_{1s} \\; \\middle| \\; r \\; \\middle| \\; \\phi_{2p} \\right>$\n"
   ]
  },
  {
   "cell_type": "code",
   "execution_count": null,
   "id": "3a310c78",
   "metadata": {},
   "outputs": [],
   "source": [
    "#Y00 = sph_harm(0,0,0,0) # Armonico esferico del 1s\n",
    "#theta = np.linspace(0,np.pi,300)\n",
    "#int_sph = np.trapz(sph_harm(0,1,0,theta),theta) # Integracion del armonico esferico del 2p\n",
    "\n",
    "rif = np.trapz(U_Hs[:,0] * x * U_Hp[:,0], x) #* 4*np.pi #* int_sph * Y00\n",
    "rif.real"
   ]
  },
  {
   "cell_type": "markdown",
   "id": "1daf3396",
   "metadata": {},
   "source": [
    "### Coeficiente de Einstein para la transicion de 2p a 1s"
   ]
  },
  {
   "cell_type": "code",
   "execution_count": null,
   "id": "3c3440e7",
   "metadata": {},
   "outputs": [],
   "source": [
    "c_au = 137\n",
    "Aif = 4*omegaH_au**3 * rif**2 / (3 * c_au**3)\n",
    "Aif"
   ]
  },
  {
   "cell_type": "markdown",
   "id": "ceddaa9e",
   "metadata": {},
   "source": [
    "Da del orden correcto. Encontre que deberia dar 6.25e-8"
   ]
  },
  {
   "cell_type": "code",
   "execution_count": null,
   "id": "6a3bcef0",
   "metadata": {},
   "outputs": [],
   "source": [
    "plot(x,U_Hs[:,0],label=\"1s\")\n",
    "plot(x,U_Hp[:,0],label=\"2p\")\n",
    "xlabel(\"r (au)\")\n",
    "ylabel(\"$\\Psi$\")\n",
    "title(\"Funciones de onda radiales del hidrogeno\")\n",
    "plt.legend()\n",
    "show()"
   ]
  },
  {
   "cell_type": "markdown",
   "id": "3c3ac6e9",
   "metadata": {},
   "source": [
    "# Transicion entre el 2p y 1s del Molibdeno ($Mo^{+41}$)"
   ]
  },
  {
   "cell_type": "code",
   "execution_count": null,
   "id": "bd90a544",
   "metadata": {},
   "outputs": [],
   "source": [
    "xmin = 0.0005\n",
    "xmax = 1\n",
    "nsize = 1000\n",
    "x = linspace(xmin,xmax,nsize)\n",
    "\n",
    "x = linspace(xmin,xmax,nsize)\n",
    "T = array([nsize,nsize])\n",
    "V = array([nsize,nsize])\n",
    "H = array([nsize,nsize])"
   ]
  },
  {
   "cell_type": "code",
   "execution_count": null,
   "id": "bdb2a5fc",
   "metadata": {},
   "outputs": [],
   "source": [
    "# Kinetic (T) and Potential (V)\n",
    "lq = 0 # s\n",
    "zq = 42 # H\n",
    "\n",
    "T = -0.5*Laplacian(x)\n",
    "V = -zq/x + lq*(lq+1)/(2 * x * x)\n",
    "\n",
    "# Hamiltonian\n",
    "H = T + diag(V)\n",
    "\n",
    "# Eigenvalues (E) and Eigenvectors (U)\n",
    "E_Mos,U_Mos = eigh(H)\n",
    "E_Mo1s = E_Mos[0]\n",
    "\n",
    "# Normalization\n",
    "U_Mos=Normalizate(U_Mos,x)"
   ]
  },
  {
   "cell_type": "code",
   "execution_count": null,
   "id": "05026da8",
   "metadata": {},
   "outputs": [],
   "source": [
    "# Kinetic (T) and Potential (V)\n",
    "lq = 1 # p\n",
    "zq = 42 # H\n",
    "\n",
    "T = -0.5*Laplacian(x)\n",
    "V = -zq/x + lq*(lq+1)/(2 * x * x)\n",
    "\n",
    "# Hamiltonian\n",
    "H = T + diag(V)\n",
    "\n",
    "# Eigenvalues (E) and Eigenvectors (U)\n",
    "E_Mop,U_Mop = eigh(H)\n",
    "E_Mo2p = E_Mop[1]\n",
    "\n",
    "# Normalization\n",
    "U_Mop=Normalizate(U_Mop,x)"
   ]
  },
  {
   "cell_type": "code",
   "execution_count": null,
   "id": "ec161775",
   "metadata": {},
   "outputs": [],
   "source": [
    "Delta_E_Mo = E_Mo2p - E_Mo1s\n",
    "DE_eV_Mo = Delta_E_Mo * 2 * Ry\n",
    "print \"La diferencia de energia entre el estado 2p y 1s es: {:.3f} eV\".format(DE_eV_Mo)"
   ]
  },
  {
   "cell_type": "code",
   "execution_count": null,
   "id": "b3b96f40",
   "metadata": {},
   "outputs": [],
   "source": [
    "omegaMo = 2*np.pi * DE_eV_Mo / h\n",
    "omegaMo_au = Delta_E_Mo # En unidades atomicas (h(barra) = 1)\n",
    "lamdaMo = h*c/DE_eV_Mo\n",
    "print \"La fercuencia de esa transicion es: {:.3f} THz\".format(DE_eV*1e-12/h)\n",
    "print \"La longitud de onda de la transicion es: {:.3f} nm\".format(h*c/DE_eV*1e9)"
   ]
  },
  {
   "cell_type": "code",
   "execution_count": null,
   "id": "443df31d",
   "metadata": {},
   "outputs": [],
   "source": [
    "plot(x,U_Mos[:,0],label=\"1s\")\n",
    "plot(x,U_Mop[:,0],label=\"2p\")\n",
    "xlabel(\"r (au)\")\n",
    "ylabel(\"$\\Psi$\")\n",
    "title(\"Funciones de onda radiales del Molibdeno(+41)\")\n",
    "plt.xlim([-0.05,0.5])\n",
    "plt.legend()\n",
    "show()"
   ]
  },
  {
   "cell_type": "code",
   "execution_count": null,
   "id": "b68d60f6",
   "metadata": {},
   "outputs": [],
   "source": [
    "rif_Mo = np.trapz(U_Mos[:,0] * x * U_Mop[:,0], x)\n",
    "rif_Mo"
   ]
  },
  {
   "cell_type": "markdown",
   "id": "193cc492",
   "metadata": {},
   "source": [
    "### Coeficiente de Einstein"
   ]
  }
 ],
 "metadata": {},
 "nbformat": 4,
 "nbformat_minor": 5
}
