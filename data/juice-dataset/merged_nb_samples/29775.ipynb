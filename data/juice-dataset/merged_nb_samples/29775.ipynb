{
 "cells": [
  {
   "cell_type": "markdown",
   "id": "981cd172",
   "metadata": {},
   "source": [
    "## The Stroop Effect\n",
    "\n",
    "### In this project, we will have a look at a classic phenomenon from experimental psychology called the Stroop Effect.\n",
    "\n",
    "\n",
    "Link to The Stroop Effect (https://en.wikipedia.org/wiki/Stroop_effect)\n",
    "\n",
    "### An investigation for determining the time it takes to name the ink colors in equally-sized lists.\n",
    "\n",
    "In a Stroop task, participants are presented with a list of words, with each word displayed in a color of ink. The participant’s task is to say out loud the color of the ink in which the word is printed. The task has two conditions: a congruent words condition, and an incongruent words condition. In the congruent words condition, the words being displayed are color words whose names match the colors in which they are printed: for example RED, BLUE. In the incongruent words condition, the words displayed are color words whose names do not match the colors in which they are printed: for example PURPLE, ORANGE. In each case, we measure the time it takes to name the ink colors in equally-sized lists. Each participant will go through and record a time from each condition. "
   ]
  },
  {
   "cell_type": "markdown",
   "id": "94e59172",
   "metadata": {},
   "source": [
    "### 1. What is our independent variable? What is our dependent variable?"
   ]
  },
  {
   "cell_type": "markdown",
   "id": "ed518f3d",
   "metadata": {},
   "source": [
    "### 1.1. What is the independent variable in the experiment?\n",
    "\n",
    "### \"Condition\" (congruent words or incongruent words).\n",
    "#### In the congruent words condition, the words being displayed are color words whose names match the colors in which they are printed. The value of the variable in this case \"True\".\n",
    "#### In the incongruent words condition, the words displayed are color words whose names do not match the colors in which they are printed. The value of the variable - \"False\".\n"
   ]
  },
  {
   "cell_type": "markdown",
   "id": "f18f140b",
   "metadata": {},
   "source": [
    "### 1.2. What is the dependent variable in the experiment?\n",
    "\n",
    "### \"Reading time\"."
   ]
  },
  {
   "cell_type": "markdown",
   "id": "f4940d61",
   "metadata": {},
   "source": [
    "### 1.3. How is the dependent variable operationally defined?\n",
    "\n",
    "\n",
    "#### The operational definition of the dependent variable \"Reading time\" is \"the time it takes to name the ink colors in equally-sized lists\"."
   ]
  },
  {
   "cell_type": "markdown",
   "id": "649d36d4",
   "metadata": {},
   "source": [
    "### 2. What is an appropriate set of hypotheses for this task? What kind of statistical test do you expect to perform? Justify your choices."
   ]
  },
  {
   "cell_type": "markdown",
   "id": "d84c831e",
   "metadata": {},
   "source": [
    "### 2.1. What is an appropriate set of hypotheses for this task? \n",
    "#### The set of hypotheses:\n",
    "#### 1) Supposing the value of the variable \"Condition\" (congruent words or incongruent words) does not significantly affect the value of the variable \"Reading time\", let us formulate the null hypothesis. \n",
    "### Ho: μ1 = μ2, where\n",
    "#### μ1 - the population mean of the dependent variable \"Reading time\" under the congruent words condition;\n",
    "#### μ2 - the population mean of the dependent variable \"Reading time\" under the incongruent words condition.\n",
    "####  2) This time let us suppose that in the incongruent words condition the value of the variable \"Reading time\" does not equal (exceeds) the value of this indicator for the congruent words condition. The alternative hypothesis is\n",
    "### H1: μ1< μ2, where\n",
    "#### μ1 - the  population mean of the dependent variable \"Reading time\" under the congruent words condition;\n",
    "#### μ2 - the population mean of the dependent variable \"Reading time\" under the incongruent words condition.\n",
    "#### Here we can use the one-sided alternative hypothesis, since the tendency of increasing the time of reading for the incongruent words condition  is clearly traceable."
   ]
  },
  {
   "cell_type": "markdown",
   "id": "15fe61d4",
   "metadata": {},
   "source": [
    "### 2.2. What kind of statistical test do you expect to perform? \n",
    "#### I think a t-test will be needed in this case.\n",
    "#### This test usually helps us to compare whether two groups have different average values. The t-test asks can be a difference between averages of two groups because of random chance in sample selection or not. A difference is meaningful if it'is large or the sample size is big or responses are not widely spread out (the standard deviation is small).\n",
    "#### Perhaps, it should be a test of the null hypothesis that the difference between two responses measured on the same statistical unit has a mean value of zero. This is often referred to as the \"paired\" or \"repeated measures\" t-test.\n",
    "#### And about the confidence intervals. Of course, in applied practice they are typically stated at the 95% confidence level. But here it's possible to use the level 99% because of the obvious data trend."
   ]
  },
  {
   "cell_type": "markdown",
   "id": "92436edf",
   "metadata": {},
   "source": [
    "### 3. Report some descriptive statistics regarding this dataset. Include at least one measure of central tendency and at least one measure of variability."
   ]
  },
  {
   "cell_type": "markdown",
   "id": "78b15de1",
   "metadata": {},
   "source": [
    "### Let's do a basic statistical calculation on the data using code."
   ]
  },
  {
   "cell_type": "code",
   "execution_count": null,
   "id": "4eda8b45",
   "metadata": {},
   "outputs": [],
   "source": [
    "import pandas as pd\n",
    "path = r'~/Downloads/stroopdata.csv'\n",
    "\n",
    "dataFrame = pd.read_csv(path)\n",
    "dataFrame"
   ]
  },
  {
   "cell_type": "markdown",
   "id": "e56c48b3",
   "metadata": {},
   "source": [
    "### The data shows a significant difference between the time of reading: the congruent words condition has a higher speed. This conclusion is confirmed by the description of each database column. For the congruent words condition all the important indicators (mean, min, max) for the time of reading are less."
   ]
  },
  {
   "cell_type": "code",
   "execution_count": null,
   "id": "57f6f692",
   "metadata": {},
   "outputs": [],
   "source": [
    "dataFrame['Congruent'].describe()"
   ]
  },
  {
   "cell_type": "code",
   "execution_count": null,
   "id": "623af0d7",
   "metadata": {},
   "outputs": [],
   "source": [
    "dataFrame['Incongruent'].describe()"
   ]
  },
  {
   "cell_type": "markdown",
   "id": "38d0da9d",
   "metadata": {},
   "source": [
    "### Having seen clearly the central tendency, we can find the difference between the two measures and evaluate it using the t-test."
   ]
  },
  {
   "cell_type": "code",
   "execution_count": null,
   "id": "b7ee8aad",
   "metadata": {},
   "outputs": [],
   "source": [
    "difference = dataFrame['Incongruent'] - dataFrame['Congruent']"
   ]
  },
  {
   "cell_type": "code",
   "execution_count": null,
   "id": "0442740b",
   "metadata": {},
   "outputs": [],
   "source": [
    "difference.describe()"
   ]
  },
  {
   "cell_type": "code",
   "execution_count": null,
   "id": "b698ce2b",
   "metadata": {},
   "outputs": [],
   "source": [
    "from scipy.stats import ttest_rel\n",
    "a = dataFrame['Incongruent']\n",
    "b = dataFrame['Congruent']\n",
    "t_statistic, pvalue_2tailed = ttest_rel(a, b, axis=0)"
   ]
  },
  {
   "cell_type": "code",
   "execution_count": null,
   "id": "56480e47",
   "metadata": {},
   "outputs": [],
   "source": [
    "t_statistic"
   ]
  },
  {
   "cell_type": "code",
   "execution_count": null,
   "id": "2ff15af1",
   "metadata": {},
   "outputs": [],
   "source": [
    "pvalue_2tailed"
   ]
  },
  {
   "cell_type": "code",
   "execution_count": null,
   "id": "dd14db35",
   "metadata": {},
   "outputs": [],
   "source": [
    "pvalue_1tailed = pvalue_2tailed*2\n",
    "pvalue_1tailed"
   ]
  },
  {
   "cell_type": "markdown",
   "id": "69e80d9a",
   "metadata": {},
   "source": [
    "### Let us also appreciate the difference in percentage between the indicators for two states. "
   ]
  },
  {
   "cell_type": "code",
   "execution_count": null,
   "id": "b7920f12",
   "metadata": {},
   "outputs": [],
   "source": [
    "difference_in_percentages = 100*(dataFrame['Incongruent'] - dataFrame['Congruent'])/dataFrame['Congruent']"
   ]
  },
  {
   "cell_type": "code",
   "execution_count": null,
   "id": "01edb3b0",
   "metadata": {},
   "outputs": [],
   "source": [
    "difference_in_percentages.describe()"
   ]
  },
  {
   "cell_type": "markdown",
   "id": "f5a4f8ae",
   "metadata": {},
   "source": [
    "### It is possible to describe how many times one indicator is superior to the another."
   ]
  },
  {
   "cell_type": "code",
   "execution_count": null,
   "id": "6ad5857e",
   "metadata": {},
   "outputs": [],
   "source": [
    "coefficient = dataFrame['Incongruent']/dataFrame['Congruent']"
   ]
  },
  {
   "cell_type": "code",
   "execution_count": null,
   "id": "6a520933",
   "metadata": {},
   "outputs": [],
   "source": [
    "coefficient.describe()"
   ]
  },
  {
   "cell_type": "markdown",
   "id": "83d8ebdd",
   "metadata": {},
   "source": [
    "\n",
    "### Let's unite the obtained data into one table of the indicators. "
   ]
  },
  {
   "cell_type": "code",
   "execution_count": null,
   "id": "93ba623c",
   "metadata": {},
   "outputs": [],
   "source": [
    "difference_df = pd.DataFrame(data={'Coefficient': coefficient,'Difference in percentages': difference_in_percentages, \n",
    "                        'Difference': difference,})\n",
    "difference_df"
   ]
  },
  {
   "cell_type": "markdown",
   "id": "bf097b20",
   "metadata": {},
   "source": [
    "### 4. Provide one or two visualizations that show the distribution of the sample data. Write one or two sentences noting what you observe about the plot or plots."
   ]
  },
  {
   "cell_type": "code",
   "execution_count": null,
   "id": "38f25930",
   "metadata": {},
   "outputs": [],
   "source": [
    "%pylab inline\n",
    "\n",
    "import matplotlib.pyplot as plt\n",
    "\n",
    "import seaborn as sns"
   ]
  },
  {
   "cell_type": "markdown",
   "id": "52b7f89a",
   "metadata": {},
   "source": [
    "### The difference in the time of reading is clearly visible on the graph."
   ]
  },
  {
   "cell_type": "code",
   "execution_count": null,
   "id": "8de9d24a",
   "metadata": {},
   "outputs": [],
   "source": [
    "dataFrame.plot()"
   ]
  },
  {
   "cell_type": "markdown",
   "id": "ebaae35d",
   "metadata": {},
   "source": [
    "### This indicator is always greater than zero."
   ]
  },
  {
   "cell_type": "code",
   "execution_count": null,
   "id": "6b6e23db",
   "metadata": {},
   "outputs": [],
   "source": [
    "difference.plot()"
   ]
  },
  {
   "cell_type": "markdown",
   "id": "8618e90a",
   "metadata": {},
   "source": [
    "### How many times the time of reading under the incongruent words condition is more than in another condition is reviewed at the next graph."
   ]
  }
 ],
 "metadata": {},
 "nbformat": 4,
 "nbformat_minor": 5
}
