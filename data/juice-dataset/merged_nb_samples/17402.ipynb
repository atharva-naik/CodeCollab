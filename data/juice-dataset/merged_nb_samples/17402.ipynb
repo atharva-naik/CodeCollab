{
 "cells": [
  {
   "cell_type": "markdown",
   "id": "febacbb5",
   "metadata": {},
   "source": [
    "<div class=\"alert alert-block alert-warning\">\n",
    "<b>REQUIREMENT:</b> Before running any code, please be sure you have installed or updated to the latest version of <a href=\"https://astroconda.readthedocs.io/en/latest/\" target=\"new\" class=\"alert-link\">AstroConda</a>.\n",
    "</div>"
   ]
  },
  {
   "cell_type": "markdown",
   "id": "0cb667ff",
   "metadata": {},
   "source": [
    "# Calculating ACS Zeropoints\n",
    "\n",
    "## Introduction\n",
    "\n",
    "***\n",
    "\n",
    "While we can use [PySynphot](http://pysynphot.readthedocs.io/en/latest/) to estimate the aperture corrections, it is best to measure these values from a selection of isolated point sources in your data. In the example below, we have used the PySynphot method. These examples give the same results as the  [Zeropoint Calculator](https://acszeropoints.stsci.edu).\n",
    "\n",
    "Aperture corrections from 0.5 and 1.0 arcseconds to \"infinity\" can be found on the [Aperture Corrections](http://www.stsci.edu/hst/acs/analysis/apcorr) webpage. These tables are a collection of information from several publications and include information for all ACS cameras (WFC, SBC, and HRC). For ACS, the \"infinite\" aperture corresponds to a radius of 5.5 arcseconds.\n",
    "\n",
    "Recall that the appropriate `PHOTFLAM` and `PHOTPLAM` values for a given observation can be found in the SCI extention headers of every ACS image.\n",
    "\n",
    "### This tutorial will show you how to...\n",
    "\n",
    "#### 1. Set up stsynphot\n",
    "\n",
    "* Download\n",
    "* Update path\n",
    "* Install\n",
    "\n",
    "#### 1. [Understand Basic Photometric Systems](#_systems)\n",
    "\n",
    "* Flux \n",
    "* VegaMag\n",
    "* ABMag\n",
    "* STMag\n",
    "\n",
    "#### 2. [Understand Photometry Keywords in ACS Images](#_keywords) \n",
    "\n",
    "* Use `astroquery` to download data products from the *HST* archive using a known dataset name\n",
    "\n",
    "#### 3. [Calculate Zeropoints](#_zeropoint) \n",
    "\n",
    "* Use `astroquery` to download data products from the *HST* archive using a known dataset name\n",
    "\n",
    "#### 4. [Convert Between Instrumental and Physical Fluxes/Magnitudes](#_convert)\n",
    "\n",
    "* Use `AstroDrizzle` with ASN files to combine images."
   ]
  },
  {
   "cell_type": "markdown",
   "id": "bf849be6",
   "metadata": {},
   "source": [
    "## Imports\n",
    "\n",
    "***\n",
    "\n",
    "Here we list the Python packages used in this notebook. Links to the documentation for each module is provided for convenience.\n",
    "\n",
    "| Package Name     | module           | docs          | used for    |\n",
    "|------------------|:-----------------|:-------------:|:------------|\n",
    "| `os`             | `system`           | <a class=\"divlink\" href=\"https://docs.python.org/2/library/os.html#os.system\">link</a>|command line input|\n",
    "| `os`             | `environ`          | <a class=\"divlink\" href=\"https://docs.python.org/2/library/os.html#os.environ\">link</a>| setting environments |\n",
    "|`shutil`          | `rmtree`           | <a class=\"divlink\" href=\"https://docs.python.org/2/library/shutil.html#shutil.rmtree\">link</a>| remove directory tree |\n",
    "|`glob`            | `glob`             | <a class=\"divlink\" href=\"https://docs.python.org/2/library/glob.html#glob.glob\">link</a>| search for files based on Unix shell rules |\n",
    "|`astropy.io`      | `fits`             | <a class=\"divlink\" href=\"http://docs.astropy.org/en/stable/io/fits/\">link</a>| access and update fits files\n",
    "|`astropy.table`   | `Table`            | <a class=\"divlink\" href=\"http://docs.astropy.org/en/stable/table/\">link</a>| constructing and editing in a tabular format\n",
    "|`numpy`           | `_s`               | <a class=\"divlink\" href=\"https://docs.scipy.org/doc/numpy-1.13.0/reference/generated/numpy.s_.html\">link</a>| functions for array handling and operations\n",
    "|`astroquery.mast` |`Observations`      | <a class=\"divlink\" href=\"https://astroquery.readthedocs.io/en/latest/mast/mast.html\">link</a>| download data from MAST\n",
    "|`stwcs`           |`updatewcs`         | <a class=\"divlink\" href=\"https://stwcs.readthedocs.io/en/latest/updatewcs_ui.html\">link</a>| update wcs solution\n",
    "|`drizzlepac`      |`astrodrizzle`      | <a class=\"divlink\" href=\"https://drizzlepac.readthedocs.io/en/deployment/astrodrizzle.html\">link</a>| drizzle combine images\n",
    "|`acs_pypack`      |`notebook_tools`    | N/A | convenience functions written for the purpose of this notebook\n",
    "|`matplotlib`      |`pyplot`            | <a class=\"divlink\" href=\"https://matplotlib.org/api/pyplot_api.html\">link</a>| plotting functions\n",
    "|`matplotlib`      |`colors.LogNorm`    | <a class=\"divlink\" href=\"https://matplotlib.org/api/_as_gen/matplotlib.colors.LogNorm.html#matplotlib.colors.LogNorm\">link</a>| data normalization used for contrast plotting\n",
    "|`photutils`       |`EllipticalAperture`| <a class=\"divlink\" href=\"https://photutils.readthedocs.io/en/stable/api/photutils.EllipticalAperture.html\">link</a>| construct aperture object for plotting"
   ]
  },
  {
   "cell_type": "code",
   "execution_count": null,
   "id": "9cd376bb",
   "metadata": {},
   "outputs": [],
   "source": [
    "import os\n",
    "\n",
    "import matplotlib.pyplot as plt\n",
    "import numpy as np\n",
    "\n",
    "from astropy.table import Table"
   ]
  },
  {
   "cell_type": "markdown",
   "id": "40fe765e",
   "metadata": {},
   "source": [
    "## Setting up stsynphot\n",
    "\n",
    "***\n",
    "\n",
    "Before you begin, you'll need to download the instrument throughput curves that will be used by the Space Telescope Synthetic Photometry package, stsynphot. This can be done through command line input."
   ]
  },
  {
   "cell_type": "code",
   "execution_count": null,
   "id": "a40be401",
   "metadata": {},
   "outputs": [],
   "source": [
    "cmd_input = 'curl -O ftp://archive.stsci.edu/pub/hst/pysynphot/synphot1.tar.gz'\n",
    "os.system(cmd_input)"
   ]
  },
  {
   "cell_type": "markdown",
   "id": "4e47b639",
   "metadata": {},
   "source": [
    "Alternatively, you can go to ftp://archive.stsci.edu/pub/hst/pysynphot/ and download `synphot1.tar.gz`.\n",
    "\n",
    "Once you have downloaded the tar file, we need unpack it and set 'PYSYN_CDBS' to the path of where your unpacked files are."
   ]
  },
  {
   "cell_type": "code",
   "execution_count": null,
   "id": "566bae4a",
   "metadata": {},
   "outputs": [],
   "source": [
    "cmd_input = 'tar -xvf synphot1.tar.gz'\n",
    "os.system(cmd_input)\n",
    "os.environ['PYSYN_CDBS'] = './grp/hst/cdbs/'"
   ]
  },
  {
   "cell_type": "markdown",
   "id": "e5b0275c",
   "metadata": {},
   "source": [
    "Now, you can import the package. You may need to install it with pip or conda if you have not already done so."
   ]
  },
  {
   "cell_type": "code",
   "execution_count": null,
   "id": "56d06ed5",
   "metadata": {},
   "outputs": [],
   "source": [
    "import stsynphot as stS\n",
    "import pysynphot as pyS"
   ]
  },
  {
   "cell_type": "markdown",
   "id": "9130160b",
   "metadata": {},
   "source": [
    "## Photometric Systems <a id=\"_systems\"></a>\n",
    "\n",
    "***\n",
    "\n",
    "Here we define several terms generally used in the photometric analysis of *HST*/ACS observations.\n",
    "\n",
    "| Term               | Definition                         | Equation             |\n",
    "|--------------------|:-----------------------------------|:---------------------|\n",
    "| <b>Flux</b>        | The average flux $F$ in units of erg s$^{-1}$ |\n",
    "| $F_{\\mathrm{Vega}}$| Flux spectrum of Vega|\n",
    "| <b>VegaMag</b> | Magnitude system where Vega has an apparent magnitude of 0 at all wavelengths.|$m_{\\mathrm{Vega}}=-2.5\\log_{10}(F/F_{\\mathrm{Vega}})$|\n",
    "| <b>ABMag</b>       | Artificially defined magnitude system with constant flux per unit frequency.|$m_{\\mathrm{AB}} = -2.5\\log_{10}(F_\\nu) - 48.60$|\n",
    "| <b>STMag</b>       | Artificially defined magnitude with constant flux per unit wavelength |$m_{\\mathrm{ST}} = -2.5\\log_{10}(F_\\lambda) - 21.10$|"
   ]
  },
  {
   "cell_type": "markdown",
   "id": "05bdd4fd",
   "metadata": {},
   "source": [
    "## Photometric Keywords in the SCI Extension of ACS Images <a id=\"_keywords\"></a>\n",
    "***\n",
    "\n",
    "The following header keywords present in ACS FITS files contain useful photometric calibration information.\n",
    "\n",
    "| Keyword | Description |\n",
    "|---------|:------------|\n",
    "|`PHOTMODE`| Observation configuration for photometric calibration.|\n",
    "|`PHOTFLAM`| The scaling factor to convert instrumental flux (counts/s) to a physical flux density. The flux in the pivot wavelength that produces 1 count. Units of ergs $\\unicode{x212B}^{-1}$cm$^{-2}$ count$^{-1}$.|\n",
    "|`PHOTZPT`| STMag zeropoint.|\n",
    "|`PHOTPLAM`| Pivot wavelength. Units of $\\unicode{x212B}$.|\n",
    "\n",
    "The `PHOTFLAM` and `PHOTPLAM` header keywords are used to derive the instrumental zeropoint magnitudes, which are defined to be the magnitude of an object that produces one count per second. The instrumental magnitudes are defined as follows:\n",
    "\n",
    "* $\\mathrm{ZP}_{\\mathrm{ST}} = -2.5\\log_{10}($ `PHOTFLAM` $) - 21.10$\n",
    "\n",
    "* $\\mathrm{ZP}_{\\mathrm{AB}} = -2.5\\log_{10}($ `PHOTFLAM` $) - 5\\log_{10}($ `PHOTPLAM` $) - 2.408$"
   ]
  },
  {
   "cell_type": "markdown",
   "id": "20a5c34f",
   "metadata": {},
   "source": [
    "## Generating the Data\n",
    "\n",
    "***\n",
    "\n",
    "Set up bandpass and source spectrum. Perform a synthetic observation of the source. Note that the term 'counts' in PySynphot is variable for each instrument. For ACS, 'counts' refers to electrons.\n",
    "\n",
    "By choosing a spectrum that produces a count rate of 1 count/second (we can do this by normalizing our source spectrum), [PySynphot](http://pysynphot.readthedocs.io/en/latest/) can be made to return the VegaMag, STMag, and ABMag zeropoints. First we will generate a blackbody spectrum for an object with a temperature of 10000K"
   ]
  },
  {
   "cell_type": "code",
   "execution_count": null,
   "id": "a731345b",
   "metadata": {},
   "outputs": [],
   "source": [
    "spec_bb = pyS.BlackBody(10000)\n",
    "plt.plot(spec_bb.wave, spec_bb.flux)\n",
    "plt.show()\n",
    "\n",
    "bp = pyS.ObsBandpass('acs,wfc1,f555w,mjd#57754')\n",
    "plt.plot(bp.wave, bp(bp.wave))\n",
    "plt.show()\n",
    "\n",
    "spec_bb_norm = spec_bb.renorm(1, 'counts', bp)\n",
    "plt.plot(spec_bb_norm.wave, spec_bb_norm.flux)\n",
    "plt.show()"
   ]
  },
  {
   "cell_type": "code",
   "execution_count": null,
   "id": "ceb35588",
   "metadata": {},
   "outputs": [],
   "source": [
    "from synphot import SourceSpectrum\n",
    "from synphot.models import BlackBodyNorm1D\n",
    "\n",
    "spec_bb = SourceSpectrum(BlackBodyNorm1D, temperature=10000)\n",
    "plt.plot(spec_bb.waveset,spec_bb(spec_bb.waveset))\n",
    "plt.show()\n",
    "\n",
    "bp = stS.band('acs, wfc1, f555w, mjd#57754')\n",
    "plt.plot(bp.waveset, bp(bp.waveset))\n",
    "plt.show()\n",
    "\n",
    "spec_bb_norm = spec_bb.normalize(1, band=bp, wavelengths=bp.waveset)\n",
    "\n",
    "plt.plot(spec_bb_norm.waveset,\n",
    "         spec_bb_norm(spec_bb_norm.waveset))\n",
    "\n",
    "plt.show()"
   ]
  },
  {
   "cell_type": "markdown",
   "id": "a8b8888d",
   "metadata": {},
   "source": [
    "We want to calculate all of the zeropoints (VegaMag, STMag, and ABMag) for a specific date and filter. In this case, we will use Jan 1, 2017 (the MJD of this date is 57754) and the F555W filter. "
   ]
  },
  {
   "cell_type": "code",
   "execution_count": null,
   "id": "79aa7c86",
   "metadata": {},
   "outputs": [],
   "source": [
    "\n",
    "\n",
    "\n"
   ]
  },
  {
   "cell_type": "markdown",
   "id": "7839a903",
   "metadata": {},
   "source": [
    "The spectrum is multiplied by a numeric factor so that the total integrated flux will be the given value in the given unit in the given bandpass."
   ]
  },
  {
   "cell_type": "code",
   "execution_count": null,
   "id": "c39e78ed",
   "metadata": {},
   "outputs": [],
   "source": [
    "help(spec_bb.renorm)"
   ]
  },
  {
   "cell_type": "markdown",
   "id": "a915fc23",
   "metadata": {},
   "source": [
    "## Calculating the Zeropoints <a id=\"_zeropoint\"></a>\n",
    "\n",
    "***\n",
    "\n",
    "Using this information, [PySynphot](http://pysynphot.readthedocs.io/en/latest/) will determine the appropriate `PHOTFLAM` and `PHOTPLAM` values. \n",
    "\n",
    "Given a source spectrum, it will also calculate the VegaMag, STMag, and ABMag magnitudes for the source. "
   ]
  },
  {
   "cell_type": "code",
   "execution_count": null,
   "id": "b4ced8b7",
   "metadata": {},
   "outputs": [],
   "source": [
    "obs = pyS.Observation(spec_bb_norm, bp)"
   ]
  },
  {
   "cell_type": "markdown",
   "id": "d07ca42b",
   "metadata": {},
   "source": [
    "Now, we can get the photometric calibration information from our specified type of observation"
   ]
  },
  {
   "cell_type": "code",
   "execution_count": null,
   "id": "19f27f96",
   "metadata": {},
   "outputs": [],
   "source": [
    "photflam = obs.effstim('flam') \n",
    "photplam = bp.pivot() \n",
    "\n",
    "print('PHOTFLAM = {}'.format(photflam))\n",
    "print('PHOTPLAM = {}'.format(photplam))"
   ]
  },
  {
   "cell_type": "markdown",
   "id": "460596a8",
   "metadata": {},
   "source": [
    "Get the magnitudes of the source spectrum in the bandpass. Because the source was normalized to 1 electron per second, the magnitudes are the zeropoints in their respective systems. \n",
    "\n",
    "<center>$m_{\\mathrm{Vega}}=-2.5\\log_{10}(counts)+\\mathrm{ZP}_\\mathrm{Vega}$</center>"
   ]
  },
  {
   "cell_type": "code",
   "execution_count": null,
   "id": "5f44213f",
   "metadata": {},
   "outputs": [],
   "source": [
    "zp_vega = obs.effstim('vegamag')\n",
    "zp_st = obs.effstim('stmag')\n",
    "zp_ab = obs.effstim('abmag')\n",
    "\n",
    "print('VegaMag_ZP = {}'.format(zp_vega))\n",
    "print('STMag_ZP = {}'.format(zp_st))\n",
    "print('ABMag_ZP = {}'.format(zp_ab))"
   ]
  },
  {
   "cell_type": "markdown",
   "id": "5b1bea60",
   "metadata": {},
   "source": [
    "## Converting Between Instrumental and Physical Fluxes/Magnitudes <a id=\"_convert\"></a>\n",
    "***\n",
    "\n",
    "In this example, we have a measurement of the fluxes of several point sources in 0.2 arcsecond (4 pixel) radius apertures using the ACS/WFC camera and the F555W filter taken on Jan 1, 2017. We will need to first apply an aperture correction to our measurements and then convert from the instrumental units of electrons per second to physically meaningful values (e.g., STMag and ABMag)."
   ]
  },
  {
   "cell_type": "code",
   "execution_count": null,
   "id": "23a7d561",
   "metadata": {},
   "outputs": [],
   "source": [
    "instrumental_flux = np.array([5.2393, 7.2935, 3.2355, 4.9368])"
   ]
  },
  {
   "cell_type": "markdown",
   "id": "b425ead2",
   "metadata": {},
   "source": [
    "Going to the aperture correction table, corrections are available from 0.5\" or 1\" to infinity (absolute). From the table, we find correction from 0.5\" to infinity for the ACS/WFC camera in F555W is 0.915."
   ]
  },
  {
   "cell_type": "code",
   "execution_count": null,
   "id": "537e14f0",
   "metadata": {},
   "outputs": [],
   "source": [
    "correction_05_to_inf = 0.915"
   ]
  },
  {
   "cell_type": "markdown",
   "id": "13aef4ca",
   "metadata": {},
   "source": [
    "However, since our count rates come from a 0.2\" aperture, we'll need to first get the apperture correction from 0.2\" to 0.5\"\n",
    "\n",
    "Use the blackbody defined in the previous example to be our source and simulate the count rate in a 0.2\" and 0.5\" aperture."
   ]
  },
  {
   "cell_type": "code",
   "execution_count": null,
   "id": "5138ed6f",
   "metadata": {},
   "outputs": [],
   "source": [
    "band02 = pyS.ObsBandpass('acs,wfc1,f555w,mjd#57754,aper#0.2')\n",
    "band05 = pyS.ObsBandpass('acs,wfc1,f555w,mjd#57754,aper#0.5')\n",
    "\n",
    "obs02 = pyS.Observation(spec_bb, band02)\n",
    "obs05 = pyS.Observation(spec_bb, band05)"
   ]
  },
  {
   "cell_type": "markdown",
   "id": "2a8fa759",
   "metadata": {},
   "source": [
    "Now we can get our aperture correction!"
   ]
  },
  {
   "cell_type": "code",
   "execution_count": null,
   "id": "9887e5c3",
   "metadata": {},
   "outputs": [],
   "source": [
    "correction_02_to_05 = obs02.countrate()/obs05.countrate()\n",
    "print('Aperture correction 0.2 -> 0.5 = {}'.format(correction_02_to_05))"
   ]
  },
  {
   "cell_type": "markdown",
   "id": "e8cf7873",
   "metadata": {},
   "source": [
    "Now to obtain our estimated absolute flux values, we can apply our the aperture correction from 0.2\" to 0.5\" to measured fluxes, then apply the correction from 0.5\" to infinity."
   ]
  },
  {
   "cell_type": "code",
   "execution_count": null,
   "id": "7ba23b8e",
   "metadata": {},
   "outputs": [],
   "source": [
    "flux05 = instrumental_flux / correction_02_to_05\n",
    "flux_inf = flux05 / correction_05_to_inf"
   ]
  },
  {
   "cell_type": "markdown",
   "id": "47035613",
   "metadata": {},
   "source": [
    "We can recalculate the zeropoints using the PHOTFLAM and PHOTPLAM we calculated earlier"
   ]
  },
  {
   "cell_type": "code",
   "execution_count": null,
   "id": "75194038",
   "metadata": {},
   "outputs": [],
   "source": [
    "zp_stmag = -2.5 * np.log10(photflam) - 21.10 \n",
    "zp_abmag = -2.5 * np.log10(photflam) - (5 * np.log10(photplam)) - 2.408"
   ]
  },
  {
   "cell_type": "markdown",
   "id": "cf08597b",
   "metadata": {},
   "source": [
    "Now convert instrumental fluxes to physical fluxes and magnitudes. f_lambda is the flux density in units of erg/sec/cm^2/$\\unicode{x212B}$."
   ]
  },
  {
   "cell_type": "code",
   "execution_count": null,
   "id": "e69c8665",
   "metadata": {},
   "outputs": [],
   "source": [
    "f_lambda = flux_inf * photflam\n",
    "stmags = -2.5 * np.log10(flux_inf) + zp_stmag\n",
    "abmags = -2.5 * np.log10(flux_inf) + zp_abmag\n",
    "vegamags = -2.5 * np.log10(flux_inf) + zp_vega"
   ]
  },
  {
   "cell_type": "markdown",
   "id": "3535d6eb",
   "metadata": {},
   "source": [
    "For easier viewing, we can organize the values into an Astropy Table."
   ]
  }
 ],
 "metadata": {},
 "nbformat": 4,
 "nbformat_minor": 5
}
