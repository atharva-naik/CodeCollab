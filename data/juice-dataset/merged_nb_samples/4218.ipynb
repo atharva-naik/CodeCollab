{
 "cells": [
  {
   "cell_type": "markdown",
   "id": "7b4d43f3",
   "metadata": {},
   "source": [
    "This example generates the speech waveform directly from a gestural score.\n",
    "\n",
    "Look into example1.py for more thorough comments on how to interface\n",
    "vocaltractlab API from python3."
   ]
  },
  {
   "cell_type": "code",
   "execution_count": null,
   "id": "35e89019",
   "metadata": {},
   "outputs": [],
   "source": [
    "import ctypes\n",
    "import os\n",
    "import shutil\n",
    "import sys\n"
   ]
  },
  {
   "cell_type": "code",
   "execution_count": null,
   "id": "7e43a5b6",
   "metadata": {},
   "outputs": [],
   "source": [
    "VTL = ctypes.cdll.LoadLibrary('vtlapi-2.1b/VocalTractLabApi64.so')"
   ]
  },
  {
   "cell_type": "markdown",
   "id": "5f274801",
   "metadata": {},
   "source": [
    "## Get version / compile date## "
   ]
  },
  {
   "cell_type": "code",
   "execution_count": null,
   "id": "d86230af",
   "metadata": {},
   "outputs": [],
   "source": [
    "version = ctypes.c_char_p(b'                                ')\n",
    "VTL.vtlGetVersion(version)\n",
    "print('Compile date of the library: \"%s\"' % version.value.decode())"
   ]
  },
  {
   "cell_type": "markdown",
   "id": "9d5e2aa4",
   "metadata": {},
   "source": [
    "## Synthesize from a gestural score."
   ]
  },
  {
   "cell_type": "code",
   "execution_count": null,
   "id": "e35163a2",
   "metadata": {},
   "outputs": [],
   "source": [
    "speaker_file_name = ctypes.c_char_p(b'vtlapi-2.1b/JD2.speaker')\n",
    "gesture_file_name = ctypes.c_char_p(b'vtlapi-2.1b/example-hallo.ges')\n",
    "wav_file_name = ctypes.c_char_p(b'example-hallo.wav')\n",
    "feedback_file_name = ctypes.c_char_p(b'example-hallo.txt')"
   ]
  },
  {
   "cell_type": "code",
   "execution_count": null,
   "id": "96765853",
   "metadata": {},
   "outputs": [],
   "source": [
    "failure = VTL.vtlGesToWav(speaker_file_name,  # input\n",
    "                          gesture_file_name,  # input\n",
    "                          wav_file_name,  # output\n",
    "                          feedback_file_name)  # output\n",
    "if failure != 0:\n",
    "    raise ValueError('Error in vtlGesToWav! Errorcode: %i' % failure)"
   ]
  },
  {
   "cell_type": "code",
   "execution_count": null,
   "id": "6821e7b2",
   "metadata": {},
   "outputs": [],
   "source": [
    "print('Stored results in \"%s\" and \"%s\".' % (wav_file_name.value.decode(),\n",
    "                                            feedback_file_name.value.decode()))"
   ]
  },
  {
   "cell_type": "markdown",
   "id": "209fd9dd",
   "metadata": {},
   "source": [
    "## Fix wav header on non windows os"
   ]
  }
 ],
 "metadata": {},
 "nbformat": 4,
 "nbformat_minor": 5
}
