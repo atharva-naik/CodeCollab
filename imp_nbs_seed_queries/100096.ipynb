{
 "cells": [
  {
   "cell_type": "markdown",
   "id": "20fe7899",
   "metadata": {},
   "source": [
    "# Everything Is an Object:\n",
    "## What Makes Python So Sweet\n",
    "A Super Python Talk by Nicholas A. Del Grosso\n",
    "\n",
    "> \"Objects are Python’s abstraction for data. All data in a Python program is represented by objects or by relations between objects. \"\n",
    "> **Python Data Model Documentation** (https://docs.python.org/3/reference/datamodel.html)"
   ]
  },
  {
   "cell_type": "markdown",
   "id": "0e3e5ad8",
   "metadata": {},
   "source": [
    "# A Quick Introduction to Object-Oriented Programming"
   ]
  },
  {
   "cell_type": "markdown",
   "id": "60817b5d",
   "metadata": {},
   "source": [
    "# Terminology Overview: OOP, Class, Object, Method, Attribute\n"
   ]
  },
  {
   "cell_type": "code",
   "execution_count": null,
   "id": "a6bd5c57",
   "metadata": {},
   "outputs": [],
   "source": [
    "list_class = list\n",
    "list_object = list()\n",
    "list_method = list_object.sort()\n",
    "list_attribute = list_object.count  # Note: Not actually an attribute; lists don't have them."
   ]
  },
  {
   "cell_type": "markdown",
   "id": "2d4b1cfc",
   "metadata": {},
   "source": [
    "# Term: \"Syntactic Sugar\":\n",
    "Language Features that Make Code Easier to Read or Write"
   ]
  },
  {
   "cell_type": "code",
   "execution_count": null,
   "id": "dfddf51c",
   "metadata": {},
   "outputs": [],
   "source": [
    "dogs = list()\n",
    "dogs.append('Henry')\n",
    "dogs.append('Sam')\n",
    "dogs"
   ]
  },
  {
   "cell_type": "code",
   "execution_count": null,
   "id": "8adc897a",
   "metadata": {},
   "outputs": [],
   "source": [
    "dogs = ['Henry', 'Sam', 'Buttonz']\n",
    "dogs"
   ]
  },
  {
   "cell_type": "markdown",
   "id": "9567f463",
   "metadata": {},
   "source": [
    "# In Python, Everything Is an Object"
   ]
  },
  {
   "cell_type": "markdown",
   "id": "438afee4",
   "metadata": {},
   "source": [
    "# For loop"
   ]
  },
  {
   "cell_type": "code",
   "execution_count": null,
   "id": "2b1401b2",
   "metadata": {},
   "outputs": [],
   "source": [
    "class Vector:\n",
    "    def __init__(self, real, imag): self.real, self.imag = real, imag\n",
    "    def __repr__(self): return \"<Vector({self.real}, {self.imag})>\".format(self=self)\n",
    "    def __iter__(self):\n",
    "        return iter([self.real, self.imag])\n",
    "        \n",
    "x = Vector(3, 4)\n",
    "for el in Vector(4, 6):\n",
    "    print(el)"
   ]
  },
  {
   "cell_type": "markdown",
   "id": "5ef7ac59",
   "metadata": {},
   "source": [
    "# Iterators: value = next(iterator)"
   ]
  },
  {
   "cell_type": "code",
   "execution_count": null,
   "id": "cb8ebad8",
   "metadata": {},
   "outputs": [],
   "source": [
    "aa = iter([10, 20])\n",
    "print(next(aa))\n",
    "print(next(aa))\n",
    "print(next(aa))"
   ]
  },
  {
   "cell_type": "markdown",
   "id": "bb5f189a",
   "metadata": {},
   "source": [
    "# Generators: Code that runs when next() is called on its iterator"
   ]
  },
  {
   "cell_type": "code",
   "execution_count": null,
   "id": "714485aa",
   "metadata": {},
   "outputs": [],
   "source": [
    "aa = range(3)\n",
    "aa"
   ]
  },
  {
   "cell_type": "code",
   "execution_count": null,
   "id": "ac9b67a6",
   "metadata": {},
   "outputs": [],
   "source": [
    "bb = iter(aa)"
   ]
  },
  {
   "cell_type": "code",
   "execution_count": null,
   "id": "70b1a550",
   "metadata": {},
   "outputs": [],
   "source": [
    "next(bb)"
   ]
  },
  {
   "cell_type": "markdown",
   "id": "f8798378",
   "metadata": {},
   "source": [
    "# (Aside): Iterators are Single-Use and Efficient"
   ]
  },
  {
   "cell_type": "code",
   "execution_count": null,
   "id": "f19f0826",
   "metadata": {},
   "outputs": [],
   "source": [
    "aa = iter(range(6))\n",
    "[el for el in zip(aa, aa)]"
   ]
  },
  {
   "cell_type": "code",
   "execution_count": null,
   "id": "f22d96aa",
   "metadata": {},
   "outputs": [],
   "source": [
    "import itertools\n",
    "print(dir(itertools))"
   ]
  },
  {
   "cell_type": "markdown",
   "id": "f55a6d45",
   "metadata": {},
   "source": [
    "# Yield: Make Your Own Generator Functions"
   ]
  },
  {
   "cell_type": "code",
   "execution_count": null,
   "id": "48f2b32a",
   "metadata": {},
   "outputs": [],
   "source": [
    "def double(a_list):\n",
    "    for val in a_list:\n",
    "        yield val * 2\n",
    "        \n",
    "xx = double([10, 20, 30])\n",
    "print(next(xx))\n",
    "print(next(xx))\n",
    "print(next(xx))"
   ]
  },
  {
   "cell_type": "markdown",
   "id": "1c925607",
   "metadata": {},
   "source": [
    "# Context Managers: If You Open, You Must Close."
   ]
  },
  {
   "cell_type": "code",
   "execution_count": null,
   "id": "c863fa48",
   "metadata": {},
   "outputs": [],
   "source": [
    "f = open('myfile.txt', 'w')\n",
    "f.write('Hello')\n",
    "f.close()"
   ]
  },
  {
   "cell_type": "markdown",
   "id": "00fd50d6",
   "metadata": {},
   "source": [
    "## The \"with\" keyword: Automatically run closing code for you."
   ]
  },
  {
   "cell_type": "code",
   "execution_count": null,
   "id": "dadaf486",
   "metadata": {},
   "outputs": [],
   "source": [
    "with open('myfile.txt', 'w') as f:\n",
    "    f.write('Hello')"
   ]
  },
  {
   "cell_type": "markdown",
   "id": "d0bf2b19",
   "metadata": {},
   "source": [
    "# 'with' Uses the Magic Methods \\__enter\\__ and \\__exit\\__ to do this"
   ]
  },
  {
   "cell_type": "code",
   "execution_count": null,
   "id": "ffcb5b22",
   "metadata": {},
   "outputs": [],
   "source": [
    "class LoudFile:\n",
    "    def __init__(self, fname): self.fname = fname\n",
    "    def __enter__(self):\n",
    "        self.f = open(self.fname, 'w')\n",
    "        print('File Opened')\n",
    "    def __exit__(self, exc_type, exc_val, exc_tb):\n",
    "        self.f.close()\n",
    "        print('File Closed')\n",
    "        \n",
    "with LoudFile('myfile.txt') as f:\n",
    "    print('Hello')"
   ]
  },
  {
   "cell_type": "markdown",
   "id": "4c281a3f",
   "metadata": {},
   "source": [
    "# The contextlib module makes it even easier."
   ]
  },
  {
   "cell_type": "code",
   "execution_count": null,
   "id": "9882ad91",
   "metadata": {},
   "outputs": [],
   "source": [
    "from contextlib import contextmanager\n",
    "\n",
    "@contextmanager\n",
    "def LoudFile(fname):\n",
    "    f = open(fname, 'w')\n",
    "    yield f\n",
    "  \n",
    "with LoudFile('myfile.txt') as f:\n",
    "    f.write('Hello\\n')\n",
    "    f.write('Goodbye\\n')"
   ]
  },
  {
   "cell_type": "markdown",
   "id": "e7172559",
   "metadata": {},
   "source": [
    "# Review: Getting Length of Each Line in a File"
   ]
  },
  {
   "cell_type": "markdown",
   "id": "6fd807a2",
   "metadata": {},
   "source": [
    "# Magic Methods Enable Polymorphism through \"Duck Typing\""
   ]
  },
  {
   "cell_type": "code",
   "execution_count": null,
   "id": "db13a957",
   "metadata": {},
   "outputs": [],
   "source": [
    "class Vector:\n",
    "    def __init__(self, real, imag):\n",
    "        self.real, self.imag = real, imag\n",
    "\n",
    "    def __repr__(self):\n",
    "        return \"<Vector({self.real}, {self.imag})>\".format(self=self)\n",
    "    \n",
    "    def __add__(self, other):\n",
    "        return Vector(self.real + other.real, self.imag + other.imag)"
   ]
  },
  {
   "cell_type": "code",
   "execution_count": null,
   "id": "eb888980",
   "metadata": {},
   "outputs": [],
   "source": [
    "x + x"
   ]
  },
  {
   "cell_type": "markdown",
   "id": "1086dfc5",
   "metadata": {},
   "source": [
    "# Magic Methods And Keyword Arguments\n",
    "## If Statements, For Loops, Iterators, Generators, and Context Managers"
   ]
  },
  {
   "cell_type": "markdown",
   "id": "92358acc",
   "metadata": {},
   "source": [
    "# 'If' statements and 'for' loops are also syntactic sugar"
   ]
  },
  {
   "cell_type": "code",
   "execution_count": null,
   "id": "deaec56b",
   "metadata": {},
   "outputs": [],
   "source": [
    "class Vector:\n",
    "    def __init__(self, real, imag): self.real, self.imag = real, imag\n",
    "    def __repr__(self): return \"<Vector({self.real}, {self.imag})>\".format(self=self)\n",
    "    \n",
    "    def __bool__(self):\n",
    "        return True if bool(self.real) or bool(self.imag) else False\n",
    "    \n",
    "x = Vector(2, 3)\n",
    "bool(x)"
   ]
  },
  {
   "cell_type": "code",
   "execution_count": null,
   "id": "26346b3e",
   "metadata": {},
   "outputs": [],
   "source": [
    "if x:\n",
    "    print('Vector has length greater than 0!')"
   ]
  },
  {
   "cell_type": "markdown",
   "id": "ac22c801",
   "metadata": {},
   "source": [
    "# Object-Oriented Programming"
   ]
  },
  {
   "cell_type": "code",
   "execution_count": null,
   "id": "b5be0317",
   "metadata": {},
   "outputs": [],
   "source": [
    "import math\n",
    "\n",
    "class Vector:\n",
    "    \n",
    "    def __init__(self, real, imag):\n",
    "        self.real = real\n",
    "        self.imag = imag\n",
    "\n",
    "    def get_length(self):\n",
    "        return math.sqrt(self.real ** 2 + self.imag ** 2)\n",
    "\n",
    "x = Vector(3, 4)\n",
    "x"
   ]
  },
  {
   "cell_type": "markdown",
   "id": "7e8343d9",
   "metadata": {},
   "source": [
    "# (Aside) Properties vs Attributes"
   ]
  },
  {
   "cell_type": "code",
   "execution_count": null,
   "id": "33a012b8",
   "metadata": {},
   "outputs": [],
   "source": [
    "class Vector:\n",
    "    def __init__(self, real, imag):\n",
    "        self.real, self.imag = real, imag\n",
    "\n",
    "    @property\n",
    "    def length(self):\n",
    "        return math.sqrt(self.real ** 2 + self.imag ** 2)\n",
    "\n",
    "x = Vector(3, 4)\n",
    "x.length"
   ]
  },
  {
   "cell_type": "markdown",
   "id": "5e710411",
   "metadata": {},
   "source": [
    "# What Class does this Object Belong To?"
   ]
  },
  {
   "cell_type": "code",
   "execution_count": null,
   "id": "e162c273",
   "metadata": {},
   "outputs": [],
   "source": [
    "type(x)"
   ]
  },
  {
   "cell_type": "code",
   "execution_count": null,
   "id": "112fe332",
   "metadata": {},
   "outputs": [],
   "source": [
    "isinstance(x, Vector)"
   ]
  },
  {
   "cell_type": "code",
   "execution_count": null,
   "id": "a5455fcb",
   "metadata": {},
   "outputs": [],
   "source": [
    "isinstance(x, list)"
   ]
  },
  {
   "cell_type": "code",
   "execution_count": null,
   "id": "12503dc7",
   "metadata": {},
   "outputs": [],
   "source": [
    "x.__class__"
   ]
  },
  {
   "cell_type": "markdown",
   "id": "0050e552",
   "metadata": {},
   "source": [
    "# (Aside) Inheritence"
   ]
  },
  {
   "cell_type": "code",
   "execution_count": null,
   "id": "28ac3029",
   "metadata": {},
   "outputs": [],
   "source": [
    "class NegatableVector(Vector):\n",
    "    @property\n",
    "    def negative(self):\n",
    "        return NegatableVector(-self.real, -self.imag)\n",
    "    \n",
    "nn = NegatableVector(3, 5)\n",
    "nn.length"
   ]
  },
  {
   "cell_type": "markdown",
   "id": "54ac6be6",
   "metadata": {},
   "source": [
    "# Python's Magic Methods\n"
   ]
  },
  {
   "cell_type": "code",
   "execution_count": null,
   "id": "508849cd",
   "metadata": {},
   "outputs": [],
   "source": [
    "print(dir(list))"
   ]
  },
  {
   "cell_type": "markdown",
   "id": "fbb1354c",
   "metadata": {},
   "source": [
    "# Python's Functions look for Similarly-named Methods in an Object"
   ]
  },
  {
   "cell_type": "code",
   "execution_count": null,
   "id": "e60d1b44",
   "metadata": {},
   "outputs": [],
   "source": [
    "class Vector:\n",
    "    def __init__(self, real, imag):\n",
    "        self.real, self.imag = real, imag\n",
    "\n",
    "    def __repr__(self):\n",
    "        return \"<Vector({self.real}, {self.imag})>\".format(self=self)\n",
    "\n",
    "x = Vector(3, 4)\n",
    "repr(x)"
   ]
  },
  {
   "cell_type": "markdown",
   "id": "544a3d50",
   "metadata": {},
   "source": [
    "# Operators call Magic Methods, too."
   ]
  },
  {
   "cell_type": "code",
   "execution_count": null,
   "id": "1cafc9e2",
   "metadata": {},
   "outputs": [],
   "source": [
    "class Vector:\n",
    "    def __init__(self, real, imag):\n",
    "        self.real, self.imag = real, imag\n",
    "\n",
    "    def __repr__(self):\n",
    "        return \"<Vector({self.real}, {self.imag})>\".format(self=self)\n",
    "    \n",
    "    def __add__(self, other):\n",
    "        return Vector(self.real + other.real, self.imag + other.imag)\n",
    "\n",
    "x = Vector(3, 4)\n",
    "y = Vector(10, 20)\n",
    "x + y"
   ]
  },
  {
   "cell_type": "markdown",
   "id": "531cfffc",
   "metadata": {},
   "source": [
    "# Most Magic Methods Have a Corresponding Function that Calls them"
   ]
  },
  {
   "cell_type": "code",
   "execution_count": null,
   "id": "21d7ae2a",
   "metadata": {},
   "outputs": [],
   "source": [
    "import operator\n",
    "operator.add.__doc__"
   ]
  },
  {
   "cell_type": "markdown",
   "id": "91e1d084",
   "metadata": {},
   "source": [
    "# Even the Dot (.) calls a Magic Method: getattr()"
   ]
  },
  {
   "cell_type": "code",
   "execution_count": null,
   "id": "7e6a95d2",
   "metadata": {},
   "outputs": [],
   "source": [
    "x.real"
   ]
  },
  {
   "cell_type": "code",
   "execution_count": null,
   "id": "9fea262b",
   "metadata": {},
   "outputs": [],
   "source": [
    "getattr(x, 'real')"
   ]
  },
  {
   "cell_type": "code",
   "execution_count": null,
   "id": "48540c80",
   "metadata": {},
   "outputs": [],
   "source": [
    "x.__getattribute__('real')"
   ]
  },
  {
   "cell_type": "markdown",
   "id": "cf310696",
   "metadata": {},
   "source": [
    "# Yep, Dictionaries, Too: getitem()"
   ]
  },
  {
   "cell_type": "code",
   "execution_count": null,
   "id": "7acc6505",
   "metadata": {},
   "outputs": [],
   "source": [
    "(1).__add__(1)\n",
    "int.__add__(1, 1)"
   ]
  },
  {
   "cell_type": "code",
   "execution_count": null,
   "id": "d59293c8",
   "metadata": {},
   "outputs": [],
   "source": [
    "getattr(int, '__add__')(1, 1)"
   ]
  }
 ],
 "metadata": {},
 "nbformat": 4,
 "nbformat_minor": 5
}
