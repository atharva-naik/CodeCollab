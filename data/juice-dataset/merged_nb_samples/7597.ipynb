{
 "cells": [
  {
   "cell_type": "markdown",
   "id": "14ab3fd0",
   "metadata": {},
   "source": [
    "# Lab 1: Getting started with Numpy\n",
    "I am excited about getting going and working on cool stuff, but first let's spend a bit of time learning the basics of the tools we will be using  \n",
    "\n",
    "## Numpy\n",
    "\n",
    "Let's spend a few minutes just learning some of the fundamentals of numpy. (pronounced in most circles as num-pie) \n",
    "\n",
    "### what is numpy\n",
    "\"Definition\"\n",
    "\n",
    "Let's look at an example. Suppose I start with a little table:\n",
    "\n",
    "| a  | b | c  |  d | e |\n",
    "| :---: | :---: | :---: | :---: | :---: |\n",
    "| 0 | 1 | 2 | 3 | 4 |\n",
    "|10| 11| 12 | 13 | 14|\n",
    "|20| 21 | 22 | 23 | 24 |\n",
    "|30 | 31 | 32 | 33 | 34 |\n",
    "|40 |41 | 42 | 43 | 44 |\n",
    "\n",
    "and I simply want to add 10 to each cell:\n",
    "\n",
    "| a  | b | c  |  d | e |\n",
    "| :---: | :---: | :---: | :---: | :---: |\n",
    "| 10 | 11 | 12 | 13 | 14 |\n",
    "|20| 21| 22 | 23 | 24|\n",
    "|30| 31 | 32 | 33 | 34 |\n",
    "|40 | 41 | 42 | 43 | 44 |\n",
    "|50 |51 | 52 | 53 | 54 |\n",
    "\n",
    "To make things interesting, instead of a a 5 x5 array, let's make it 1,000x1,000 -- so 1 million cells!\n",
    "\n",
    "So I construct it in generic Python"
   ]
  },
  {
   "cell_type": "code",
   "execution_count": null,
   "id": "fb56ddea",
   "metadata": {},
   "outputs": [],
   "source": [
    "     a = [[x + y * 1000 for x in range(1000)] for y in range(1000)]\n"
   ]
  },
  {
   "cell_type": "markdown",
   "id": "077ef5eb",
   "metadata": {},
   "source": [
    "and then write a little function that will make the addition"
   ]
  },
  {
   "cell_type": "code",
   "execution_count": null,
   "id": "d8de654f",
   "metadata": {},
   "outputs": [],
   "source": [
    "def addToArr(sizeof):\n",
    "    for i in range(sizeof):\n",
    "        for j in range(sizeof):\n",
    "            a[i][j] = a[i][j] + 10\n"
   ]
  },
  {
   "cell_type": "markdown",
   "id": "9f0bdb6a",
   "metadata": {},
   "source": [
    "Here's how much time it takes to run that function:"
   ]
  },
  {
   "cell_type": "code",
   "execution_count": null,
   "id": "51c68a90",
   "metadata": {},
   "outputs": [],
   "source": [
    "%time addToArr(1000)"
   ]
  },
  {
   "cell_type": "markdown",
   "id": "05d93d67",
   "metadata": {},
   "source": [
    "So about 1/8 of a second. \n",
    "\n",
    "Now using Numpy"
   ]
  },
  {
   "cell_type": "markdown",
   "id": "899efcc0",
   "metadata": {},
   "source": [
    "#### in Numpy"
   ]
  },
  {
   "cell_type": "markdown",
   "id": "f6a2ad14",
   "metadata": {},
   "source": [
    "### built in functions\n",
    "In addition to being faster, numpy has a wide range of built in functions. So, for example, instead of you writing code to calculate the mean or sum or standard deviation of a multidimensional array you can just use numpy:"
   ]
  },
  {
   "cell_type": "code",
   "execution_count": null,
   "id": "f71484ea",
   "metadata": {},
   "outputs": [],
   "source": [
    "arr.mean()"
   ]
  },
  {
   "cell_type": "code",
   "execution_count": null,
   "id": "22c52613",
   "metadata": {},
   "outputs": [],
   "source": [
    "arr.sum()"
   ]
  },
  {
   "cell_type": "code",
   "execution_count": null,
   "id": "6bee844b",
   "metadata": {},
   "outputs": [],
   "source": [
    " arr.std()"
   ]
  },
  {
   "cell_type": "markdown",
   "id": "62282be6",
   "metadata": {},
   "source": [
    "So not only is it faster, but it minimizes the code you have to write. A win, win.\n",
    "\n",
    "Let's continue with some basics."
   ]
  },
  {
   "cell_type": "markdown",
   "id": "d336faf8",
   "metadata": {},
   "source": [
    "## numpy examined \n",
    "So Numpy is a library containing a super-fast n-dimensional array object and a load of functions that can operate on those arrays. To use numpy, we must first load the library into our code and we do that with the statement:\n"
   ]
  },
  {
   "cell_type": "code",
   "execution_count": null,
   "id": "0af9e42b",
   "metadata": {},
   "outputs": [],
   "source": [
    " import numpy as np"
   ]
  },
  {
   "cell_type": "markdown",
   "id": "611e43ab",
   "metadata": {},
   "source": [
    "Perhaps most of you are saying \"fine, fine, I know this already\", but let me catch others up to speed. This is just one of several ways we can load a library into Python. We could just say:"
   ]
  },
  {
   "cell_type": "code",
   "execution_count": null,
   "id": "7717b30c",
   "metadata": {},
   "outputs": [],
   "source": [
    " import numpy"
   ]
  },
  {
   "cell_type": "markdown",
   "id": "7d011bd2",
   "metadata": {},
   "source": [
    "and everytime we need to use one of the functions builtin to numpy we would need to preface that function with `numpy` . So for example, we could create an array with\n"
   ]
  },
  {
   "cell_type": "code",
   "execution_count": null,
   "id": "3aca86bf",
   "metadata": {},
   "outputs": [],
   "source": [
    "arr = numpy.array([1, 2, 3, 4, 5])"
   ]
  },
  {
   "cell_type": "markdown",
   "id": "e9b2ef49",
   "metadata": {},
   "source": [
    "If we got tired of writing `numpy` in front of every function instead of"
   ]
  },
  {
   "cell_type": "code",
   "execution_count": null,
   "id": "b823c338",
   "metadata": {},
   "outputs": [],
   "source": [
    "import numpy"
   ]
  },
  {
   "cell_type": "markdown",
   "id": "f7bfa9a8",
   "metadata": {},
   "source": [
    "we could write:"
   ]
  },
  {
   "cell_type": "code",
   "execution_count": null,
   "id": "9e024680",
   "metadata": {},
   "outputs": [],
   "source": [
    "from numpy import *"
   ]
  },
  {
   "cell_type": "markdown",
   "id": "7d1d315e",
   "metadata": {},
   "source": [
    "(where that * means 'everything' and the whole expression means import everything from the numpy library).  Now we can use any numpy function without putting numpy in front of it:"
   ]
  },
  {
   "cell_type": "code",
   "execution_count": null,
   "id": "bbeceedc",
   "metadata": {},
   "outputs": [],
   "source": [
    "np.subtract(arr1, arr2)"
   ]
  },
  {
   "cell_type": "code",
   "execution_count": null,
   "id": "9b098bcc",
   "metadata": {},
   "outputs": [],
   "source": [
    "np.multiply(arr1, arr2)"
   ]
  },
  {
   "cell_type": "code",
   "execution_count": null,
   "id": "618e2b1d",
   "metadata": {},
   "outputs": [],
   "source": [
    "np.divide(arr1, arr2)"
   ]
  },
  {
   "cell_type": "markdown",
   "id": "6bcc34fa",
   "metadata": {},
   "source": [
    "#### maximum / minimum\n"
   ]
  },
  {
   "cell_type": "code",
   "execution_count": null,
   "id": "ef9776e2",
   "metadata": {},
   "outputs": [],
   "source": [
    "arr1 = np.array([[10, 2], [3, 40]])\n",
    "arr2 = np.array([[1, 20], [30, 4]])\n",
    "np.maximum(arr1, arr2)"
   ]
  },
  {
   "cell_type": "markdown",
   "id": "4aac1da4",
   "metadata": {},
   "source": [
    "#### these are just examples. There are more unary and binary functions"
   ]
  },
  {
   "cell_type": "markdown",
   "id": "d12bffd4",
   "metadata": {},
   "source": [
    "## Numpy Uber\n",
    "lets say I have Uber drivers at various intersections around Austin. I will represent that as a set of x,y coordinates.\n",
    "\n",
    " | Driver |xPos | yPos |\n",
    " | :---: | :---: | :---: |\n",
    " | Ann | 4 | 5 |\n",
    " | Clara | 6 | 6 |\n",
    " | Dora | 3 | 1 |\n",
    " | Erica | 9 | 5 |\n",
    " \n",
    " \n",
    " Now I would like to find the closest driver to a customer who is at 6, 3.\n",
    " And to further define *closest* I am going to use what is called **Manhattan Distance**. Roughly put, Manhattan distance is distance if you followed streets. Ann, for example, is two blocks West of our customer and two blocks north. So the Manhattan distance from Ann to our customer is `2+2` or `4`. \n",
    " \n",
    " First, to make things easy (and because the data in a numpy array must be of the same type), I will represent the x and y positions in one numpy array and the driver names in another:"
   ]
  },
  {
   "cell_type": "code",
   "execution_count": null,
   "id": "7349dbf4",
   "metadata": {},
   "outputs": [],
   "source": [
    "locations = np.array([[4, 5], [6, 6], [3, 1], [9,5]])\n",
    "locations"
   ]
  },
  {
   "cell_type": "code",
   "execution_count": null,
   "id": "5873cb39",
   "metadata": {},
   "outputs": [],
   "source": [
    "drivers = np.array([\"Ann\", \"Clara\", \"Dora\", \"Erica\"])"
   ]
  },
  {
   "cell_type": "markdown",
   "id": "8285f02d",
   "metadata": {},
   "source": [
    "Our customer is at"
   ]
  },
  {
   "cell_type": "code",
   "execution_count": null,
   "id": "cfbd41e3",
   "metadata": {},
   "outputs": [],
   "source": [
    "cust = np.array([6, 3])"
   ]
  },
  {
   "cell_type": "markdown",
   "id": "463aaef4",
   "metadata": {},
   "source": [
    "now we are going to figure out the distance between each of our drivers and the customer"
   ]
  },
  {
   "cell_type": "markdown",
   "id": "3d7631a7",
   "metadata": {},
   "source": [
    "We don't need to name arrays `arr`, we can name them anything we want. "
   ]
  },
  {
   "cell_type": "code",
   "execution_count": null,
   "id": "da8939cd",
   "metadata": {},
   "outputs": [],
   "source": [
    "ratings = np.array([[1, 2, 3], [4, 5, 6], [7, 8, 9]])"
   ]
  },
  {
   "cell_type": "code",
   "execution_count": null,
   "id": "bb113f13",
   "metadata": {},
   "outputs": [],
   "source": [
    "ratings"
   ]
  },
  {
   "cell_type": "markdown",
   "id": "e87a165e",
   "metadata": {},
   "source": [
    "So far, we've been creating numpy arrays by using Python lists. I can make that more explicit by first creating the Python list and then using it to create the ndarray:"
   ]
  },
  {
   "cell_type": "code",
   "execution_count": null,
   "id": "2e49a3f0",
   "metadata": {},
   "outputs": [],
   "source": [
    "pythonArray = [[1, 2, 3, 4, 5], [6, 7, 8, 9, 10]]\n",
    "sweet = np.array(pythonArray)\n",
    "sweet"
   ]
  },
  {
   "cell_type": "markdown",
   "id": "0a875e4d",
   "metadata": {},
   "source": [
    "I can also create an of all zeros or all ones directly:"
   ]
  },
  {
   "cell_type": "code",
   "execution_count": null,
   "id": "2b0ab5cc",
   "metadata": {},
   "outputs": [],
   "source": [
    "np.zeros(10)"
   ]
  },
  {
   "cell_type": "code",
   "execution_count": null,
   "id": "f5e07660",
   "metadata": {},
   "outputs": [],
   "source": [
    "np.ones((5, 2))"
   ]
  },
  {
   "cell_type": "markdown",
   "id": "9ee4dd1e",
   "metadata": {},
   "source": [
    "### indexing\n",
    "Indexing elements in ndarrays works pretty much the same as it does in Python. We have already seen one example, here is another example with a one dimensional array:\n"
   ]
  },
  {
   "cell_type": "code",
   "execution_count": null,
   "id": "36e0a6f1",
   "metadata": {},
   "outputs": [],
   "source": [
    "temperatures = np.array([48, 44, 37, 35, 32, 29, 33, 36, 42])\n",
    "temperatures[0]"
   ]
  },
  {
   "cell_type": "code",
   "execution_count": null,
   "id": "01c47399",
   "metadata": {},
   "outputs": [],
   "source": [
    "temperatures[3]"
   ]
  },
  {
   "cell_type": "markdown",
   "id": "f65a2faf",
   "metadata": {},
   "source": [
    "and a two dimensional one:"
   ]
  },
  {
   "cell_type": "code",
   "execution_count": null,
   "id": "64970c91",
   "metadata": {},
   "outputs": [],
   "source": [
    "sample = np.array([[10, 20, 30], [40, 50, 60]])\n",
    "sample[0][1]"
   ]
  },
  {
   "cell_type": "markdown",
   "id": "dbdced08",
   "metadata": {},
   "source": [
    "For numpy ndarrays we can also use a comma to separate the indices of multi-dimensional arrays:"
   ]
  },
  {
   "cell_type": "code",
   "execution_count": null,
   "id": "15776a37",
   "metadata": {},
   "outputs": [],
   "source": [
    "sample[1,2]"
   ]
  },
  {
   "cell_type": "markdown",
   "id": "2af08e67",
   "metadata": {},
   "source": [
    "And, like Python you can also get a slice of an array. First, here is the basic Python example:"
   ]
  },
  {
   "cell_type": "code",
   "execution_count": null,
   "id": "93e91f7d",
   "metadata": {},
   "outputs": [],
   "source": [
    "a = [10, 20, 30, 40, 50, 60]\n",
    "b = a[1:4]\n",
    "b"
   ]
  },
  {
   "cell_type": "markdown",
   "id": "044fe1c9",
   "metadata": {},
   "source": [
    "and the similar numpy example:"
   ]
  },
  {
   "cell_type": "code",
   "execution_count": null,
   "id": "b6ac240e",
   "metadata": {},
   "outputs": [],
   "source": [
    "aarr = np.array(a)\n",
    "barr = aarr[1:4]\n",
    "barr"
   ]
  },
  {
   "cell_type": "markdown",
   "id": "77c9d6a7",
   "metadata": {},
   "source": [
    "### maybe wacky\n",
    "But there is a difference between Python arrays and numpy ndarrays. If I alter the array `b` in Python the orginal `a` array is not altered:"
   ]
  },
  {
   "cell_type": "code",
   "execution_count": null,
   "id": "0c19d475",
   "metadata": {},
   "outputs": [],
   "source": [
    "b[1] = b[1] + 5"
   ]
  },
  {
   "cell_type": "code",
   "execution_count": null,
   "id": "57489137",
   "metadata": {},
   "outputs": [],
   "source": [
    "b"
   ]
  },
  {
   "cell_type": "code",
   "execution_count": null,
   "id": "5d185507",
   "metadata": {},
   "outputs": [],
   "source": [
    "a"
   ]
  },
  {
   "cell_type": "markdown",
   "id": "8f1a6f21",
   "metadata": {},
   "source": [
    "but if we do the same in numpy:"
   ]
  },
  {
   "cell_type": "code",
   "execution_count": null,
   "id": "98530b91",
   "metadata": {},
   "outputs": [],
   "source": [
    "xydiff = locations - cust\n",
    "xydiff"
   ]
  },
  {
   "cell_type": "markdown",
   "id": "9fb83eae",
   "metadata": {},
   "source": [
    "NOTE: displaying the results with `xydiff` isn't a necessary step. I just like seeing intermediate results.\n",
    "\n",
    "Ok. now I am goint to sum the absolute values:"
   ]
  },
  {
   "cell_type": "code",
   "execution_count": null,
   "id": "3fc23770",
   "metadata": {},
   "outputs": [],
   "source": [
    "distances =np.abs(xydiff).sum(axis = 1)\n",
    "distances"
   ]
  },
  {
   "cell_type": "markdown",
   "id": "c15d250d",
   "metadata": {},
   "source": [
    "So the output is the array `[4, 3, 5, 5]` which shows that Ann is 4 away from our customer; Clara is 3 away and so on.\n",
    "\n",
    "Now I am going to sort these using `argsort`:"
   ]
  },
  {
   "cell_type": "markdown",
   "id": "8afdbb28",
   "metadata": {},
   "source": [
    "This is a one dimensional array. The position of an element in the array is called the index. The first element of the array is at index 0, the next at index 1 and so on. We can get the item at a particular index by using the syntax:"
   ]
  },
  {
   "cell_type": "code",
   "execution_count": null,
   "id": "0dcb55a6",
   "metadata": {},
   "outputs": [],
   "source": [
    " arr[0]"
   ]
  },
  {
   "cell_type": "code",
   "execution_count": null,
   "id": "9fccad71",
   "metadata": {},
   "outputs": [],
   "source": [
    "arr[3]"
   ]
  },
  {
   "cell_type": "code",
   "execution_count": null,
   "id": "4e6e0529",
   "metadata": {},
   "outputs": [],
   "source": [
    "<h1 style=\"color:red\">aaaa</h1>"
   ]
  },
  {
   "cell_type": "markdown",
   "id": "807a613c",
   "metadata": {},
   "source": [
    "We can create a 2 dimensional array that looks like\n",
    "\n",
    "      10  20  30\n",
    "      40  50  60\n",
    " \n",
    "by:\n"
   ]
  },
  {
   "cell_type": "code",
   "execution_count": null,
   "id": "531c71ca",
   "metadata": {},
   "outputs": [],
   "source": [
    " arr = np.array([[10, 20, 30], [40, 50, 60]])"
   ]
  },
  {
   "cell_type": "markdown",
   "id": "1ed0e5dc",
   "metadata": {},
   "source": [
    "and we can show the contents of that array just be using the name of the array, `arr`\n"
   ]
  },
  {
   "cell_type": "code",
   "execution_count": null,
   "id": "befc682c",
   "metadata": {},
   "outputs": [],
   "source": [
    "arr"
   ]
  },
  {
   "cell_type": "code",
   "execution_count": null,
   "id": "0cc4494c",
   "metadata": {},
   "outputs": [],
   "source": [
    "barr[1] = barr[1] + 5"
   ]
  },
  {
   "cell_type": "code",
   "execution_count": null,
   "id": "dadf52ec",
   "metadata": {},
   "outputs": [],
   "source": [
    "barr"
   ]
  },
  {
   "cell_type": "code",
   "execution_count": null,
   "id": "c9aee39d",
   "metadata": {},
   "outputs": [],
   "source": [
    "aarr`"
   ]
  },
  {
   "cell_type": "markdown",
   "id": "ab09155b",
   "metadata": {},
   "source": [
    "we see that the original array is altered if we modify the slice. This may seem wacky to you, or maybe it doesn't. In any case, it is something you will get used to. For now, just be aware of this. \n",
    "\n",
    "## functions on arrays\n",
    "\n",
    "Numpy has a wide range of array functons. Here is just a sample.\n",
    "\n",
    "### Unary functions\n",
    "\n",
    "#### absolute value"
   ]
  },
  {
   "cell_type": "code",
   "execution_count": null,
   "id": "01ca6e9e",
   "metadata": {},
   "outputs": [],
   "source": [
    "arr = np.array([-2, 12, -25, 0])\n",
    "arr2 = np.abs(arr)\n",
    "arr2"
   ]
  },
  {
   "cell_type": "code",
   "execution_count": null,
   "id": "911fd143",
   "metadata": {},
   "outputs": [],
   "source": [
    "arr = np.array([[-2, 12], [-25, 0]])\n",
    "arr2 = np.abs(arr)\n",
    "arr2               "
   ]
  },
  {
   "cell_type": "markdown",
   "id": "4b50eb26",
   "metadata": {},
   "source": [
    "#### square"
   ]
  },
  {
   "cell_type": "code",
   "execution_count": null,
   "id": "5494652f",
   "metadata": {},
   "outputs": [],
   "source": [
    "arr = np.array([-1, 2, -3, 4])\n",
    "arr2 = np.square(arr)\n",
    "arr2"
   ]
  },
  {
   "cell_type": "markdown",
   "id": "30703ce9",
   "metadata": {},
   "source": [
    "#### squareroot"
   ]
  },
  {
   "cell_type": "code",
   "execution_count": null,
   "id": "45f2162b",
   "metadata": {},
   "outputs": [],
   "source": [
    "arr = np.array([[4, 9], [16, 25]])\n",
    "arr2 = np.sqrt(arr)\n",
    "arr2"
   ]
  },
  {
   "cell_type": "markdown",
   "id": "7d984344",
   "metadata": {},
   "source": [
    "## Binary functions\n",
    "\n",
    "#### add /subtract / multiply / divide\n"
   ]
  },
  {
   "cell_type": "code",
   "execution_count": null,
   "id": "b8559405",
   "metadata": {},
   "outputs": [],
   "source": [
    "arr1 = np.array([[10, 20], [30, 40]])\n",
    "arr2 = np.array([[1, 2], [3, 4]])\n",
    "np.add(arr1, arr2)"
   ]
  },
  {
   "cell_type": "code",
   "execution_count": null,
   "id": "313cbb48",
   "metadata": {},
   "outputs": [],
   "source": [
    "arr = np.array([1, 2, 3, 4, 5])"
   ]
  },
  {
   "cell_type": "markdown",
   "id": "dee17dac",
   "metadata": {},
   "source": [
    "and to display what `arr` equals"
   ]
  },
  {
   "cell_type": "code",
   "execution_count": null,
   "id": "db75568e",
   "metadata": {},
   "outputs": [],
   "source": [
    "arr = array([1, 2, 3, 4, 5])"
   ]
  },
  {
   "cell_type": "markdown",
   "id": "7ad1be6e",
   "metadata": {},
   "source": [
    "This may at first seem like a good idea, but it is considered bad form by Python developers. \n",
    "\n",
    "The solution is to use what we initially introduced:"
   ]
  },
  {
   "cell_type": "markdown",
   "id": "59b20bad",
   "metadata": {},
   "source": [
    "this makes `np` an alias for numpy. so now we would put *np* in front of numpy functions."
   ]
  },
  {
   "cell_type": "code",
   "execution_count": null,
   "id": "80863f22",
   "metadata": {},
   "outputs": [],
   "source": [
    " arr = np.array([1, 2, 3, 4, 5])"
   ]
  },
  {
   "cell_type": "markdown",
   "id": "0a93d156",
   "metadata": {},
   "source": [
    "Of course I could use anything as an alias for numpy:"
   ]
  },
  {
   "cell_type": "code",
   "execution_count": null,
   "id": "3a8c72b8",
   "metadata": {},
   "outputs": [],
   "source": [
    "sorted = np.argsort(distances)\n",
    "sorted"
   ]
  },
  {
   "cell_type": "markdown",
   "id": "0f88bf64",
   "metadata": {},
   "source": [
    "`argsort` returns an array of sorted indices. So the element at position 1 is the smallest followed by the element at position 0 and so on.\n",
    "\n",
    "Next, I am going to get the first element of that array (in this case 1) and find the name of the driver at that position in the `drivers` array"
   ]
  },
  {
   "cell_type": "code",
   "execution_count": null,
   "id": "e57c6f91",
   "metadata": {},
   "outputs": [],
   "source": [
    "drivers[sorted[0]]"
   ]
  },
  {
   "cell_type": "markdown",
   "id": "0aa873b3",
   "metadata": {},
   "source": [
    "<h3 style=\"color:red\">Q2. You Try</h3>\n",
    "<span style=\"color:red\">Can you put all the above in a function. that takes 3 arguments, the location array, the array containing the names of the drivers, and the array containing the location of the customer. It should return the name of the closest driver.</span>\n"
   ]
  },
  {
   "cell_type": "code",
   "execution_count": null,
   "id": "af2f6107",
   "metadata": {},
   "outputs": [],
   "source": [
    "def findDriver(distanceArr, driversArr, customerArr):\n",
    "   result = ''\n",
    "   ### put your code here\n",
    "   return result\n",
    "print(findDriver(locations, drivers, cust)) # this should return Clara"
   ]
  },
  {
   "cell_type": "markdown",
   "id": "31ffd4f3",
   "metadata": {},
   "source": [
    "### CONGRATULATIONS\n",
    "\n",
    "Even though this is just an intro to Numpy, I am going to throw some math at you. So far we have been looking at a two dimensional example, x and y (or North-South and East-West) and our distance formula for the distance, Dist between Ann, A and Customer C is\n",
    "\n",
    "$$ DIST_{AC} = |A_x - C_x | + |A_y - C_y | $$\n",
    "\n",
    "Now I am going to warp this a bit. In this example, each driver is represented by an array (as is the customer) So, Ann is represented by `[1,2]` and the customer by `[3,4]`. So Ann's 0th element is 1 and the customer's 0th element is 3. And, sorry, computer science people start counting at 0 but math people (and all other normal people) start at 1 so we  can rewrite the above formula as:\n",
    "\n",
    "$$ DIST_{AC} = |A_1 - C_1 | + |A_2 - C_2 | $$\n",
    "\n",
    "That's the distance formula for Ann and the Customer. We can make the formula by saying the distance between and two people, let's call them *x* and *y* is\n",
    "\n",
    "\n",
    "$$ DIST_{xy} = |x_1 - y_1 | + |x_2 - y_2 | $$\n",
    "\n",
    "That is the formula for  2 dimensional Manhattan Distance. We can imagine a three dimensional case.  \n",
    "\n",
    "$$ DIST_{xy} = |x_1 - y_1 | + |x_2 - y_2 | + |x_3 - y_3 | $$\n",
    "\n",
    "and we can generalize the formula to the n-dimensional case.\n",
    " \n",
    "$$ DIST_{xy}=\\sum_{i=1}^n |x_i - y_i| $$\n",
    "\n",
    "Just in time for a five dimensional example:\n",
    "\n",
    "\n",
    "# The Amazing 5D Music example\n",
    "\n",
    "Guests went into a listening both and rated the following tunes:\n",
    "\n",
    "* Janelle Monae Tightrope\n",
    "* Major Lazer - Cold Water \n",
    "* Tim McGraw - Humble & Kind\n",
    "* Maren Morris - My Church\n",
    "* Hailee Steinfeld - Starving\n",
    "\n",
    "\n",
    "Here are the results:\n",
    "\n",
    "| Guest  | Janelle Monae  | Major Lazer  | Tim McGraw  |  Maren Morris | Hailee Steinfeld| \n",
    "|---|---|---|---|---|---|\n",
    "|  Ann | 4  |  5 | 2  |  1 | 3 |\n",
    "| Ben  |  3 |  1 |  5 | 4  | 2|\n",
    "| Jordyn  | 5  |  5 | 2  | 2  | 3|\n",
    "|  Sam | 4 | 1 | 4 | 4 | 1|\n",
    "| Hyunseo | 1 | 1 | 5 | 4 | 1 |\n",
    "| Ahmed | 4 | 5 | 3 |  3 | 1 |\n",
    "\n",
    "My task is to find out who is closest in musical taste to Ahmed. I'll set up a few numpy arrays.\n"
   ]
  },
  {
   "cell_type": "code",
   "execution_count": null,
   "id": "81113e9d",
   "metadata": {},
   "outputs": [],
   "source": [
    "customers = np.array([[4, 5, 2, 1, 3],\n",
    "                      [3, 1, 5, 4, 2],\n",
    "                      [5, 5, 2, 2, 3],\n",
    "                      [4, 1, 4, 4, 1], \n",
    "                      [1, 1, 5, 4, 1]])\n",
    "\n",
    "customerNames = np.array([\"Ann\", \"Ben\", 'Jordyn', \"Sam\", \"Hyunseo\"])\n",
    "\n",
    "ahmed = np.array([4, 5, 3, 3, 1])"
   ]
  },
  {
   "cell_type": "markdown",
   "id": "dd43599e",
   "metadata": {},
   "source": [
    "<h3 style=\"color:red\">Q3. You Try</h3>\n",
    "<span style=\"color:red\">Can you write a function findClosest that takes 3 arguments: customers, customerNames, and an array representing one customers ratings and returns the name of the closest customer?</span>\n"
   ]
  },
  {
   "cell_type": "code",
   "execution_count": null,
   "id": "1d230753",
   "metadata": {},
   "outputs": [],
   "source": [
    "def findClosest(customers, customerNames, x):\n",
    "   result = ''\n",
    "   ### your code here   \n",
    "   return result\n",
    "findClosest(customers, customerNames, ahmed) # Should return Ann"
   ]
  },
  {
   "cell_type": "markdown",
   "id": "ad5a24a7",
   "metadata": {},
   "source": [
    "## Numpy Amazon\n",
    "\n",
    "We are going to start with the same array:\n",
    "\n",
    " \n",
    " | Drone |xPos | yPos |\n",
    " | :---: | :---: | :---: |\n",
    " | Ann | 4 | 5 |\n",
    " | Clara | 6 | 6 |\n",
    " | Dora | 3 | 1 |\n",
    " | Erica | 9 | 5 |\n",
    " \n",
    " But this time, instead of Uber drivers, think of these as positions of Amazon delivery drones (and of course Amazon gives its delivery drones female names)\n",
    " Now we would like to find the closest drone to a customer who is at 7, 1.\n",
    " \n",
    "With the previous example we used Manhattan Distance.  With drones, we can compute the distance as the crow flies -- or Euclidean Distance.  We probably learned how to do this way back in 7th grade when we learned the Pythagorean Theorem which states:\n",
    "\n",
    "$$c^2 = a^2 + b^2$$\n",
    "\n",
    "Where *c* is the hypotenuse and *a* and *b* are the two other sides. So, if we want to find *c*:\n",
    "\n",
    "$$c = \\sqrt{a^2 + b^2}$$\n",
    "\n",
    "\n",
    "If we want to find the distance between two people, *x* and *y* then the formula becomes\n",
    "\n",
    "$$Dist_{xy} = \\sqrt{(x_1-y_1)^2 + (x_2-y_2)^2}$$\n",
    "\n",
    "and for Ann who is at `[4,5]` and our customer who is at `[7,1]` then the formula becomes:\n",
    "\n",
    "$$Dist_{xy} = \\sqrt{(x_1-y_1)^2 + (x_2-y_2)^2} = \\sqrt{(4-7)^2 + (5-1)^2} =\\sqrt{-3^2 + 4^2}  = \\sqrt{9 + 16} = \\sqrt{25} = 5$$\n",
    "\n",
    "Sweet!  And to generalize this distance formula:\n",
    "\n",
    "$$Dist_{xy} = \\sqrt{(x_1-y_1)^2 + (x_2-y_2)^2}$$\n",
    "\n",
    "to n-dimensions:\n",
    "\n",
    "$$Dist_{xy} = \\sum_{i=1}^n{\\sqrt{(x_i-y_i)^2}}$$\n",
    "\n",
    "\n",
    "<h4 style=\"color:red\">Q4. You Try</h3>\n",
    "<span style=\"color:red\">Can you write a function euclidean that takes 3 arguments: customers, customerNames, and an array representing one customers ratings and returns the name of the closest customer?</span>\n"
   ]
  }
 ],
 "metadata": {},
 "nbformat": 4,
 "nbformat_minor": 5
}
