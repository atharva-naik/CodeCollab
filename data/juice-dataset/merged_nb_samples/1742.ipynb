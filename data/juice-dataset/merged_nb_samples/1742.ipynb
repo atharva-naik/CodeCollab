{
 "cells": [
  {
   "cell_type": "code",
   "execution_count": null,
   "id": "3e5c996f",
   "metadata": {},
   "outputs": [],
   "source": [
    "import numpy as np\n",
    "from mscs_boost import BootBagRegressor\n",
    "import matplotlib.pyplot as plt\n",
    "%matplotlib inline"
   ]
  },
  {
   "cell_type": "markdown",
   "id": "7206f9ac",
   "metadata": {},
   "source": [
    "# Some training and testing data that is easy to visualize"
   ]
  },
  {
   "cell_type": "code",
   "execution_count": null,
   "id": "f329e44a",
   "metadata": {},
   "outputs": [],
   "source": [
    "train_x = np.linspace(0, 4*np.pi, 100).reshape(100,1)\n",
    "train_y = np.sin(train_x).reshape(100,)\n",
    "test_x = np.linspace(0, 4*np.pi, 49).reshape(49,1) # 49 and 100 are relatively prime\n",
    "test_y = np.sin(test_x).reshape(49,)"
   ]
  },
  {
   "cell_type": "markdown",
   "id": "41af21f2",
   "metadata": {},
   "source": [
    "# Let's fit a BootBag ensemble of linear models to this data."
   ]
  },
  {
   "cell_type": "code",
   "execution_count": null,
   "id": "9c1f6b70",
   "metadata": {},
   "outputs": [],
   "source": [
    "from sklearn.linear_model import LinearRegression\n",
    "linbag = BootBagRegressor(LinearRegression,\n",
    "                          num_bootstraps=5,\n",
    "                          bootstrap_size=20,\n",
    "                          rand_seed=2018,\n",
    "                           model_args={'fit_intercept':True})\n",
    "linbag.fit(train_x,train_y)\n",
    "linbag.score(test_x, test_y)"
   ]
  },
  {
   "cell_type": "markdown",
   "id": "c1e96541",
   "metadata": {},
   "source": [
    "# Obviously, the average of linear models is just a linear model, so this is not very good.  Let's see a picture."
   ]
  },
  {
   "cell_type": "code",
   "execution_count": null,
   "id": "df6a2698",
   "metadata": {},
   "outputs": [],
   "source": [
    "ax,fig = plt.subplots(figsize=(6,6), dpi=120)\n",
    "fig.scatter(train_x, train_y, color='blue')\n",
    "fig.scatter(train_x, linbag.predict(train_x), color='red')\n",
    "for lin in linbag._bootstrap_models:\n",
    "    fig.plot(train_x, lin.predict(train_x))\n",
    "\n",
    "plt.show(fig)"
   ]
  },
  {
   "cell_type": "markdown",
   "id": "b9cb9019",
   "metadata": {},
   "source": [
    "# Now, let's apply a BootBag ensemble of trees to the same problem."
   ]
  }
 ],
 "metadata": {},
 "nbformat": 4,
 "nbformat_minor": 5
}
