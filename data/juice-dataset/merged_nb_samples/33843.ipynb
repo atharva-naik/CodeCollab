{
 "cells": [
  {
   "cell_type": "markdown",
   "id": "037a74b6",
   "metadata": {},
   "source": [
    "# Importing pandas and Data"
   ]
  },
  {
   "cell_type": "code",
   "execution_count": null,
   "id": "874bdf36",
   "metadata": {},
   "outputs": [],
   "source": [
    "import pandas as pd\n",
    "pd.__version__"
   ]
  },
  {
   "cell_type": "markdown",
   "id": "95942474",
   "metadata": {},
   "source": [
    "### Group By"
   ]
  },
  {
   "cell_type": "code",
   "execution_count": null,
   "id": "d5bd1a82",
   "metadata": {},
   "outputs": [],
   "source": [
    "oo = pd.read_csv('olympics.csv')"
   ]
  },
  {
   "cell_type": "code",
   "execution_count": null,
   "id": "bf5b9d66",
   "metadata": {},
   "outputs": [],
   "source": [
    "oo = pd.read_csv('olympics.csv',skiprows=4) #shift+tab dile suggestion ase\n",
    "oo.head(7)"
   ]
  },
  {
   "cell_type": "code",
   "execution_count": null,
   "id": "984ca32b",
   "metadata": {},
   "outputs": [],
   "source": [
    "oo.NOC.value_counts().head(10)"
   ]
  },
  {
   "cell_type": "code",
   "execution_count": null,
   "id": "0daeb997",
   "metadata": {},
   "outputs": [],
   "source": [
    "oo.groupby('NOC')"
   ]
  },
  {
   "cell_type": "code",
   "execution_count": null,
   "id": "3eb116c5",
   "metadata": {},
   "outputs": [],
   "source": [
    "list(oo.groupby('NOC'))"
   ]
  },
  {
   "cell_type": "markdown",
   "id": "a0a86bbe",
   "metadata": {},
   "source": [
    "##### Using groupby(), show the total number of medals awarded at each of the Olympic games throughout history."
   ]
  },
  {
   "cell_type": "code",
   "execution_count": null,
   "id": "7695d311",
   "metadata": {},
   "outputs": [],
   "source": [
    "oo.groupby('Edition').size() #kon year e koyta kore podok"
   ]
  },
  {
   "cell_type": "markdown",
   "id": "c319096b",
   "metadata": {},
   "source": [
    "#### Iterating through groups"
   ]
  },
  {
   "cell_type": "code",
   "execution_count": null,
   "id": "1f9c0db2",
   "metadata": {},
   "outputs": [],
   "source": [
    "for key, value in oo.groupby('NOC'):\n",
    "    print(key)\n",
    "    print(value)"
   ]
  },
  {
   "cell_type": "markdown",
   "id": "dadc06d1",
   "metadata": {},
   "source": [
    "#### Groupby computations\n"
   ]
  },
  {
   "cell_type": "code",
   "execution_count": null,
   "id": "1cdcb96c",
   "metadata": {},
   "outputs": [],
   "source": [
    "oo.groupby('NOC').size() #kon des total koyt apaise medal"
   ]
  },
  {
   "cell_type": "markdown",
   "id": "fcf10d16",
   "metadata": {},
   "source": [
    "### Aggregated Function"
   ]
  },
  {
   "cell_type": "code",
   "execution_count": null,
   "id": "89603125",
   "metadata": {},
   "outputs": [],
   "source": [
    "oo[['Edition','NOC','Medal']].groupby(['Edition','NOC']).agg(['count'])"
   ]
  },
  {
   "cell_type": "markdown",
   "id": "5407df8c",
   "metadata": {},
   "source": [
    "#### Task : Create a list showing the total number of medals won for each country over the history of the Olympics. For each country, include the year of the first and most recent Olympic medal wins."
   ]
  },
  {
   "cell_type": "code",
   "execution_count": null,
   "id": "9069c839",
   "metadata": {},
   "outputs": [],
   "source": [
    "#oo[['Edition','NOC','Medal']].groupby(['Edition','NOC']).size() #sal onujai kon des koyta paise\n",
    "#oo[['Edition','NOC','Medal']].groupby(['Edition','NOC']).agg(['count'])\n",
    "oo.groupby('NOC').agg(['count'])"
   ]
  },
  {
   "cell_type": "code",
   "execution_count": null,
   "id": "f8d0a8f2",
   "metadata": {},
   "outputs": [],
   "source": [
    "oo.groupby('NOC').agg({'Edition':['count','min','max']})"
   ]
  },
  {
   "cell_type": "markdown",
   "id": "e7b317c3",
   "metadata": {},
   "source": [
    "### Practise"
   ]
  },
  {
   "cell_type": "markdown",
   "id": "605bf92b",
   "metadata": {},
   "source": [
    "### Load Wine Review data"
   ]
  },
  {
   "cell_type": "code",
   "execution_count": null,
   "id": "f1a72ef1",
   "metadata": {},
   "outputs": [],
   "source": [
    "pp = pd.read_csv('winemag-data-130k-v2.csv',index_col=0) #0 no col ke index korlam\n",
    "pp.head(7)"
   ]
  },
  {
   "cell_type": "code",
   "execution_count": null,
   "id": "ea04223d",
   "metadata": {},
   "outputs": [],
   "source": [
    "pp.shape #row and column dekhabe"
   ]
  },
  {
   "cell_type": "markdown",
   "id": "c51b2ffb",
   "metadata": {},
   "source": [
    "#### Who are the most common wine reviewers in the dataset? Create a `Series` whose index is the `taster_twitter_handle` category from the dataset, and whose values count how many reviews each person wrote."
   ]
  },
  {
   "cell_type": "code",
   "execution_count": null,
   "id": "ba3eb78e",
   "metadata": {},
   "outputs": [],
   "source": [
    "pp.groupby('taster_twitter_handle').size().sort_values(ascending=False) "
   ]
  },
  {
   "cell_type": "code",
   "execution_count": null,
   "id": "dc8f9465",
   "metadata": {},
   "outputs": [],
   "source": [
    "pp.groupby('taster_twitter_handle').taster_twitter_handle.count().sort_values(ascending=False) "
   ]
  },
  {
   "cell_type": "code",
   "execution_count": null,
   "id": "352f163c",
   "metadata": {},
   "outputs": [],
   "source": [
    "pp.groupby('taster_twitter_handle').agg({'taster_twitter_handle':['count']})"
   ]
  },
  {
   "cell_type": "markdown",
   "id": "f4b17092",
   "metadata": {},
   "source": [
    "#### What is the best wine I can buy for a given amount of money? Create a `Series` whose index is wine prices and whose values is the maximum number of points a wine costing that much was given in a review. Sort the valeus by price, ascending (so that `4.0` dollars is at the top and `3300.0` dollars is at the bottom)"
   ]
  },
  {
   "cell_type": "code",
   "execution_count": null,
   "id": "4f152ba0",
   "metadata": {},
   "outputs": [],
   "source": [
    "#pp.sort_values(['price','points'])\n",
    "pp.groupby('price').max()"
   ]
  },
  {
   "cell_type": "code",
   "execution_count": null,
   "id": "387da496",
   "metadata": {},
   "outputs": [],
   "source": [
    "pp.groupby('price').points.max()"
   ]
  },
  {
   "cell_type": "code",
   "execution_count": null,
   "id": "1f64a5b2",
   "metadata": {},
   "outputs": [],
   "source": [
    "pp.groupby('price').points.max().sort_index(ascending=False) #price onujayi sort hope highest rating gula dekhabe"
   ]
  },
  {
   "cell_type": "markdown",
   "id": "04838513",
   "metadata": {},
   "source": [
    "#### Are there significant differences in the average scores assigned by the various reviewers? Create a `Series` whose index is reviewers and whose values is the average review score given out by that reviewer. Hint: you will need the `taster_name` and `points` columns."
   ]
  },
  {
   "cell_type": "code",
   "execution_count": null,
   "id": "d088964c",
   "metadata": {},
   "outputs": [],
   "source": [
    "pp.groupby('taster_name').points.mean()"
   ]
  },
  {
   "cell_type": "code",
   "execution_count": null,
   "id": "a6569d41",
   "metadata": {},
   "outputs": [],
   "source": [
    "pp.groupby('taster_name').points.mean().sort_index(ascending=False) # name decending"
   ]
  },
  {
   "cell_type": "code",
   "execution_count": null,
   "id": "d6c2255a",
   "metadata": {},
   "outputs": [],
   "source": [
    "pp.groupby('taster_name').points.mean().sort_values() #rating wise ascending sort"
   ]
  },
  {
   "cell_type": "markdown",
   "id": "c46ddd53",
   "metadata": {},
   "source": [
    "#### What are the rarest, most expensive wine varieties? Create a `DataFrame` whose index is wine varieties and whose values are columns with the `min` and the `max` price of wines of this variety. Sort in descending order based on `min` first, `max` second."
   ]
  }
 ],
 "metadata": {},
 "nbformat": 4,
 "nbformat_minor": 5
}
