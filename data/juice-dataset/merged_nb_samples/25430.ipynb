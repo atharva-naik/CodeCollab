{
 "cells": [
  {
   "cell_type": "code",
   "execution_count": null,
   "id": "fb2d9216",
   "metadata": {},
   "outputs": [],
   "source": [
    "import scipy as sp\n",
    "import seaborn as sb\n",
    "import pandas as pd\n",
    "import numpy as np\n",
    "import matplotlib.pyplot as plt\n",
    "%matplotlib inline\n"
   ]
  },
  {
   "cell_type": "code",
   "execution_count": null,
   "id": "6e5b4f3c",
   "metadata": {},
   "outputs": [],
   "source": [
    "df_video_games = pd.read_csv('Video_Games_Sales_as_at_22_Dec_2016.csv')\n"
   ]
  },
  {
   "cell_type": "markdown",
   "id": "6e002dd1",
   "metadata": {},
   "source": [
    "## Popularity and  Video Game sales World Wide\n",
    "My data set was derived from Kaggle and it contains the video game sales, critics scores and popular platformes. It is of significance because such data can give you an understadning of what games or consoles are better or more popular to buy in the future. Or perhapes propose business oppurtunities for Gaming companys.\n",
    "\n",
    "Below is my summary Statistics where I dscribed my data, looked at the shape and the first five rows."
   ]
  },
  {
   "cell_type": "code",
   "execution_count": null,
   "id": "fef2e74f",
   "metadata": {},
   "outputs": [],
   "source": [
    "df_video_games.shape"
   ]
  },
  {
   "cell_type": "code",
   "execution_count": null,
   "id": "5cd74977",
   "metadata": {},
   "outputs": [],
   "source": [
    "df_video_games.head()"
   ]
  },
  {
   "cell_type": "code",
   "execution_count": null,
   "id": "e351817a",
   "metadata": {},
   "outputs": [],
   "source": [
    "df_video_games.describe()"
   ]
  },
  {
   "cell_type": "code",
   "execution_count": null,
   "id": "9abad786",
   "metadata": {},
   "outputs": [],
   "source": [
    "df_video_games = df_video_games.dropna(axis = 0)\n",
    "df_video_games.isnull().sum()"
   ]
  },
  {
   "cell_type": "markdown",
   "id": "89578578",
   "metadata": {},
   "source": [
    "# Analytic Questions\n",
    "\n",
    "### 1. Which group of consoles sold tremedously over the year globally (7th generation consoles PS3, Xbox360 and Wii) or (8th generation consoles, Xbox1, PS4 and WIIU) and why. "
   ]
  },
  {
   "cell_type": "markdown",
   "id": "f6c01827",
   "metadata": {},
   "source": [
    "Lets compare 7th gen consols xbox360 vs ps3 vs wii And 8th gen consol XOne, PS4, WiiU. \n",
    "\n",
    "Now lets filter the platform column to spicify what what platforms we want to work with"
   ]
  },
  {
   "cell_type": "markdown",
   "id": "f6fbb31c",
   "metadata": {},
   "source": [
    "### 2.  Which Genre of games sold more globally and perhapes  more popular to play."
   ]
  },
  {
   "cell_type": "markdown",
   "id": "cccb3b59",
   "metadata": {},
   "source": [
    "##### I grouped the Genre with the global sales with a perecentage to give me an idea which genre of games are bought frequently. "
   ]
  },
  {
   "cell_type": "code",
   "execution_count": null,
   "id": "ebf9fafc",
   "metadata": {},
   "outputs": [],
   "source": [
    "f,ax=plt.subplots(1,1,figsize=(4,4))\n",
    "df_video_games.groupby(\"Genre\")[\"Global_Sales\"].sum().sort_values(ascending=False)[:10].plot.pie( autopct='%1.1f%%')\n",
    "ax.set_ylabel(\"\")\n",
    "plt.tight_layout()\n",
    "\n",
    "\n",
    "\n"
   ]
  },
  {
   "cell_type": "markdown",
   "id": "46d466a1",
   "metadata": {},
   "source": [
    "As you can see above Shooter, Sports and Action taking the lead are the top three games that where sold globally\n",
    "Action games being the highest with 23.3%.\n",
    "On that note if you wanted to know what type of games to by an individual, you wont go wrong in buying any of those top 3 games.\n"
   ]
  },
  {
   "cell_type": "code",
   "execution_count": null,
   "id": "af52fa4d",
   "metadata": {},
   "outputs": [],
   "source": [
    "new_genre = df_video_games[(df_video_games['Genre'] == 'Shooter') | (df_video_games['Genre'] == 'Sports') | (df_video_games['Genre'] == 'Action')]\n",
    "G_video = df_video_games.groupby(['Year_of_Release', 'Genre']).Global_Sales.sum()\n",
    "G_video2 = new_genre.groupby(['Year_of_Release', 'Genre']).Global_Sales.sum()\n",
    "G_video2.unstack().plot(kind = 'bar', colormap = 'Greens', stacked = True)\n",
    "plt.ylabel('Global sales')\n",
    "plt.title( 'Yearly sales of Action, Shooter, Sports games sold globaly')\n",
    "plt.show()\n",
    "\n"
   ]
  },
  {
   "cell_type": "markdown",
   "id": "54daaf86",
   "metadata": {},
   "source": [
    "This stacked chart supports the pie chart above. I took the most 4 popular genre of games from the pie chart and ploted there yearly sales. The three popular games sell great throughout the year from 2001 - 2016."
   ]
  },
  {
   "cell_type": "markdown",
   "id": "981f41ba",
   "metadata": {},
   "source": [
    "### 3. Now I want to know which gaming company earns the most globally."
   ]
  },
  {
   "cell_type": "code",
   "execution_count": null,
   "id": "2cfa4e0e",
   "metadata": {},
   "outputs": [],
   "source": [
    "df_video_games.groupby(\"Publisher\")[\"Global_Sales\"].sum().sort_values(ascending=False)[:10].plot.pie( autopct='%1.1f%%')\n",
    "ax.set_ylabel(\"\")\n",
    "plt.tight_layout()\n"
   ]
  },
  {
   "cell_type": "markdown",
   "id": "0dccfcee",
   "metadata": {},
   "source": [
    "To answer my question I see that Electronics Arts earns more globally (21.7%) following Nintendo then Activision.\n",
    "This is so because those three publishers perfect in Shooter, Sports and Action games just from my experiences."
   ]
  },
  {
   "cell_type": "markdown",
   "id": "87cd53dd",
   "metadata": {},
   "source": [
    "# Propose Business Oppurtunity.\n",
    "## If I am a publisher (Activision, EA, Nintendo etc), to maximize my revenue I would want to know \n",
    "1. What Genre of games to put out.\n",
    "2. What platform to release them on.\n",
    "3. Including what platforms generates the most money with those genre.\n",
    "4. What countries to focus on."
   ]
  },
  {
   "cell_type": "code",
   "execution_count": null,
   "id": "e5e33055",
   "metadata": {},
   "outputs": [],
   "source": [
    "# Plotting our pie charts\n",
    "# Create a list of colors \n",
    "colors = ['#008DB8','#00AAAA','#00C69C']\n",
    "plt.subplot(121)\n",
    "plt.pie(\n",
    "   Gen8th.groupby('Platform').Global_Sales.sum(),\n",
    "    # with the labels being platform\n",
    "    labels=Gen8th.groupby('Platform').Global_Sales.sum().index,\n",
    "    # with no shadows\n",
    "    shadow=False,\n",
    "    # stating our colors\n",
    "    colors=colors,\n",
    "    explode=(0.05, 0.05, 0.05),\n",
    "    # with the start angle at 90%\n",
    "    startangle=90,\n",
    "    # with the percent listed as a fraction\n",
    "    autopct='%1.1f%%'\n",
    "    )\n",
    "plt.axis('equal')\n",
    "plt.title('Pie Chart of 8th Gen Global Sales')\n",
    "\n",
    "plt.axis('equal')\n",
    "plt.title('Pie Chart of 8th Global Sales')\n",
    "plt.tight_layout()\n",
    "plt.show()\n",
    "\n",
    "plt.subplot(122)\n",
    "plt.pie(\n",
    "   Gen8th.groupby('Platform').User_Count.sum(),\n",
    "    labels=Gen8th.groupby('Platform').User_Count.sum().index,\n",
    "    shadow=False,\n",
    "    colors=colors,\n",
    "    explode=(0.05, 0.05, 0.05),\n",
    "    startangle=90,\n",
    "    autopct='%1.1f%%'\n",
    "    )\n",
    "plt.axis('equal')\n",
    "plt.title('Pie Chart of 8th Gen User Base')\n",
    "plt.tight_layout()\n",
    "plt.show()"
   ]
  },
  {
   "cell_type": "markdown",
   "id": "7f65b11c",
   "metadata": {},
   "source": [
    "According to my pie charts, If i am a publisher i would want to make more action, shooter and sports games for PS4 and xbox1 platforms just because globle sales are high in those platforms and there are alot more users on those platforms."
   ]
  },
  {
   "cell_type": "markdown",
   "id": "d145e7cb",
   "metadata": {},
   "source": [
    "##### Now we group our colums first, group the years released and platforms and some the global sales for each row.\n"
   ]
  },
  {
   "cell_type": "code",
   "execution_count": null,
   "id": "8fec2484",
   "metadata": {},
   "outputs": [],
   "source": [
    "Gen7th = df_video_games[(df_video_games['Platform'] == 'PS3' )| (df_video_games['Platform'] == 'X360') | (df_video_games['Platform'] == 'Wii')]"
   ]
  },
  {
   "cell_type": "code",
   "execution_count": null,
   "id": "e37567a4",
   "metadata": {},
   "outputs": [],
   "source": [
    "Gen8th = df_video_games[(df_video_games['Platform'] == 'PS4') | (df_video_games['Platform'] == 'XOne') | (df_video_games['Platform'] == 'WiiU')]"
   ]
  },
  {
   "cell_type": "code",
   "execution_count": null,
   "id": "c2048da5",
   "metadata": {},
   "outputs": [],
   "source": [
    "yearly_sales_Gen8th = Gen8th.groupby([ 'Year_of_Release', 'Platform']).Global_Sales.sum()\n"
   ]
  },
  {
   "cell_type": "markdown",
   "id": "3cdd29aa",
   "metadata": {},
   "source": [
    "##### Now that we have specifyed what platforms we want to compare... now we group."
   ]
  },
  {
   "cell_type": "code",
   "execution_count": null,
   "id": "7619a2e0",
   "metadata": {},
   "outputs": [],
   "source": [
    "yearly_sales_Gen7th = Gen7th.groupby(['Year_of_Release', 'Platform']).Global_Sales.sum()"
   ]
  },
  {
   "cell_type": "code",
   "execution_count": null,
   "id": "f9b615e9",
   "metadata": {},
   "outputs": [],
   "source": [
    "plt.figure(figsize = (10, 5))\n",
    "yearly_sales_Gen8th.unstack().plot(kind = 'bar', colormap = 'Reds', stacked = True, grid = False)\n",
    "plt.ylabel('Global Sales')\n",
    "plt.title( '8th Gen Yearly Global sales of PS4, Xone and WiiU')\n",
    "plt.style.use(\"fivethirtyeight\")\n",
    "plt.show()\n",
    "\n",
    "yearly_sales_Gen7th.unstack().plot(kind = 'bar', stacked = True, colormap = 'Blues', grid = False )\n",
    "plt.title('Stacked Barplot of Global Yearly Sales of the 7th Generation games')\n",
    "plt.ylabel('Global Sales')\n",
    "plt.style.use(\"fivethirtyeight\")\n",
    "plt.show()\n"
   ]
  },
  {
   "cell_type": "markdown",
   "id": "75a96b1a",
   "metadata": {},
   "source": [
    "Wii sales had its peak in 2009 because it was the first conole to come out with a type of virtual reality and it was very popular. However, it then tremendously decreased 2010-2015, because wii did not come out with more better high in demand games. \n",
    "\n",
    "As you can see 8th generation cosoles sold less globally from 2012 - 2016, because they were very expensive and 7th Gen consoles were still popular to play. \n",
    "8th genration console sold 4.38 million in the course of 5 years.\n",
    "While 7th generation consoles sold about 22.96 million over 10 years.\n",
    "This is so because 7th gen console sales has a better spread of data than the 8th Gen consoles. As you can see 8th Gen only has a course five years while 7th Gen has 10 years."
   ]
  },
  {
   "cell_type": "code",
   "execution_count": null,
   "id": "59f35848",
   "metadata": {},
   "outputs": [],
   "source": [
    "(Gen8th['Global_Sales']/100).sum()\n",
    "\n"
   ]
  },
  {
   "cell_type": "code",
   "execution_count": null,
   "id": "460687ee",
   "metadata": {},
   "outputs": [],
   "source": [
    "(Gen7th['Global_Sales']/100).sum()\n"
   ]
  },
  {
   "cell_type": "code",
   "execution_count": null,
   "id": "b8fcb55e",
   "metadata": {},
   "outputs": [],
   "source": [
    "NA_Sales = Gen8th.groupby('Platform').NA_Sales.sum()"
   ]
  },
  {
   "cell_type": "markdown",
   "id": "e7508819",
   "metadata": {},
   "source": [
    "##### The bar chart below represents 8th generation platform sales in North America. If was a publisher I would make more games for PS4 and Xone platforms in America just because there sales are high."
   ]
  },
  {
   "cell_type": "code",
   "execution_count": null,
   "id": "c1d8eff3",
   "metadata": {},
   "outputs": [],
   "source": [
    "NA_Sales.plot(kind= 'bar' )\n",
    "plt.title('8th Generation Platform Sales in North America')\n",
    "plt.show()\n"
   ]
  },
  {
   "cell_type": "markdown",
   "id": "890a9521",
   "metadata": {},
   "source": [
    "##### In Europe publishers should make more games for PS4 because PS4 sales are tremendous and surpasses WIIU and XONE sales."
   ]
  },
  {
   "cell_type": "code",
   "execution_count": null,
   "id": "dadd35ec",
   "metadata": {},
   "outputs": [],
   "source": [
    "EU_Sales = Gen8th.groupby('Platform').EU_Sales.sum()\n",
    "EU_Sales.plot(kind='bar', color = 'green')\n",
    "plt.title('8th Generation Platform Sales in Europe')\n",
    "plt.show()"
   ]
  },
  {
   "cell_type": "markdown",
   "id": "d695de3f",
   "metadata": {},
   "source": [
    "##### As you can see below, XONE does not sell very well in Japan but extremely well in America and Europe. In Japan, publishers should focus more on WIIU games and PS4. This is no surprise because WIIU is made in Japan and very popular among natives in Japan."
   ]
  },
  {
   "cell_type": "code",
   "execution_count": null,
   "id": "1ee86a12",
   "metadata": {},
   "outputs": [],
   "source": [
    "df_video_games['Platform'].unique()"
   ]
  }
 ],
 "metadata": {},
 "nbformat": 4,
 "nbformat_minor": 5
}
