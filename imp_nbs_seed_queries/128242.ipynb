{
 "cells": [
  {
   "cell_type": "markdown",
   "id": "ba7fe887",
   "metadata": {},
   "source": [
    "\n",
    "# Preliminaries\n",
    "\n"
   ]
  },
  {
   "cell_type": "markdown",
   "id": "9cc51c39",
   "metadata": {},
   "source": [
    "\n",
    "## Importing libraries\n",
    "\n"
   ]
  },
  {
   "cell_type": "code",
   "execution_count": null,
   "id": "c1910196",
   "metadata": {},
   "outputs": [],
   "source": [
    "import numpy\n",
    "from matplotlib import pyplot\n",
    "from ipywidgets import interact\n",
    "from scipy.integrate import odeint\n",
    "from scipy.optimize import minimize\n",
    "from scipy import stats"
   ]
  },
  {
   "cell_type": "markdown",
   "id": "46bd9603",
   "metadata": {},
   "source": [
    "\n",
    "## Information from literature\n",
    "\n"
   ]
  },
  {
   "cell_type": "code",
   "execution_count": null,
   "id": "64d2dfe0",
   "metadata": {},
   "outputs": [],
   "source": [
    "exposure_to_rash = 17\n",
    "rash = 5.5\n",
    "# Source: https://www.cdc.gov/vaccines/pubs/pinkbook/downloads/meas.pdf\n",
    "\n",
    "infectious_without_rash = 4\n",
    "latent_period = exposure_to_rash - infectious_without_rash\n",
    "infectious_period = rash + 2*infectious_without_rash\n",
    "# Source: https://www.cdc.gov/measles/about/transmission.html\n",
    "\n",
    "VE = 0.93\n",
    "# Source: https://www.cdc.gov/measles/vaccination.html\n",
    "\n",
    "coverage = 0.14\n",
    "population = 32630 # Amish population\n",
    "outbreak_final_size = 383\n",
    "epidemic_peak = 17\n",
    "# Source: https://www.nejm.org/doi/pdf/10.1056/NEJMoa1602295"
   ]
  },
  {
   "cell_type": "markdown",
   "id": "522a6e46",
   "metadata": {},
   "source": [
    "\n",
    "## Measles model\n",
    "\n"
   ]
  },
  {
   "cell_type": "code",
   "execution_count": null,
   "id": "76228a9e",
   "metadata": {},
   "outputs": [],
   "source": [
    "def f(x, t, alpha, beta, gamma):\n",
    "    S = x[0]\n",
    "    L = x[1]\n",
    "    I = x[2]\n",
    "    R = x[3]\n",
    "\n",
    "    N = S + L + I + R\n",
    "\n",
    "    dS_dt = - beta*I/N*S\n",
    "    dL_dt = (beta*I/N)*S - alpha*L\n",
    "    dI_dt = alpha*L - gamma*I\n",
    "    dR_dt = gamma*I\n",
    "\n",
    "    return [dS_dt, dL_dt, dI_dt, dR_dt]\n",
    "\n",
    "\n",
    "def compute_ODE(alpha, beta, gamma, p, N):\n",
    "\n",
    "    S0 = (1-p)*N - 1\n",
    "    L0 = 0\n",
    "    I0 = 1\n",
    "    R0 = p*N\n",
    "\n",
    "    ts = numpy.arange(0, 366)\n",
    "    x0 = [S0, L0, I0, R0]\n",
    "    xs = odeint(f, x0, ts, (alpha, beta, gamma))\n",
    "\n",
    "    return xs\n",
    "\n",
    "\n",
    "def plot(xs):\n",
    "    ts = numpy.arange(0, 366)\n",
    "    pyplot.plot(ts, xs[:, 2])\n",
    "    pyplot.legend([\"Infected\"])\n",
    "    pyplot.xlabel(\"Time (days)\")\n",
    "    pyplot.ylim([0, 500])\n",
    "    pyplot.show()\n",
    "\n",
    "    pyplot.plot(ts, xs[:, [0, -1]])\n",
    "    pyplot.legend([\"Susceptible\", \"Recovered\"])\n",
    "    pyplot.xlabel(\"Time (days)\")\n",
    "    pyplot.ylim([0, numpy.sum(xs[0])])\n",
    "    pyplot.show()\n",
    "\n",
    "\n",
    "def print_info(xs):\n",
    "    final_size = xs[-1, -1] - xs[0, -1]\n",
    "    print(\"Final size outbreak: {:.0f}\".format(final_size))\n",
    "\n",
    "\n",
    "def model(beta,\n",
    "          alpha=1/latent_period,\n",
    "          gamma=1/infectious_period,\n",
    "          p=coverage*VE,\n",
    "          N=population):\n",
    "    xs = compute_ODE(alpha, beta, gamma, p, N)\n",
    "    plot(xs)\n",
    "    print_info(xs)"
   ]
  },
  {
   "cell_type": "markdown",
   "id": "def735c8",
   "metadata": {},
   "source": [
    "\n",
    "# Estimating $\\beta$ with $\\mathcal{R}_{0}$\n",
    "\n"
   ]
  },
  {
   "cell_type": "code",
   "execution_count": null,
   "id": "f1a092e8",
   "metadata": {},
   "outputs": [],
   "source": [
    "R_0 = 15\n",
    "bar_beta = R_0 / infectious_period\n",
    "bar_beta"
   ]
  },
  {
   "cell_type": "code",
   "execution_count": null,
   "id": "29bef9a7",
   "metadata": {},
   "outputs": [],
   "source": [
    "model(bar_beta)"
   ]
  },
  {
   "cell_type": "markdown",
   "id": "9853fd09",
   "metadata": {},
   "source": [
    "Perhaps one value of $\\mathcal{R}_{0}$ in the rage\n",
    "\n"
   ]
  },
  {
   "cell_type": "code",
   "execution_count": null,
   "id": "66e576a1",
   "metadata": {},
   "outputs": [],
   "source": [
    "interact(model, beta=(0.01, 1.1, 0.001))"
   ]
  },
  {
   "cell_type": "markdown",
   "id": "d23ef047",
   "metadata": {},
   "source": [
    "Back to presentation\n",
    "\n"
   ]
  },
  {
   "cell_type": "markdown",
   "id": "853d7e06",
   "metadata": {},
   "source": [
    "\n",
    "# Bisection approach\n",
    "\n"
   ]
  },
  {
   "cell_type": "code",
   "execution_count": null,
   "id": "77863773",
   "metadata": {},
   "outputs": [],
   "source": [
    "def compute_final_size(beta, alpha=1/latent_period,\n",
    "                       gamma=1/infectious_period, p=coverage*VE,\n",
    "                       N=population):\n",
    "    xs = compute_ODE(alpha, beta, gamma, p, N)\n",
    "    return xs[-1, -1] - xs[0, -1]"
   ]
  },
  {
   "cell_type": "code",
   "execution_count": null,
   "id": "a3fce7c2",
   "metadata": {},
   "outputs": [],
   "source": [
    "compute_final_size(0.8)"
   ]
  },
  {
   "cell_type": "code",
   "execution_count": null,
   "id": "9238a27f",
   "metadata": {},
   "outputs": [],
   "source": [
    "compute_final_size(0.01)"
   ]
  },
  {
   "cell_type": "code",
   "execution_count": null,
   "id": "9d6eb7dc",
   "metadata": {},
   "outputs": [],
   "source": [
    "tolerance = 0.5\n",
    "\n",
    "beta1 = 0.01\n",
    "beta2 = 0.8\n",
    "\n",
    "bar_beta = (beta1 + beta2)/2\n",
    "\n",
    "while numpy.abs(compute_final_size(bar_beta) - outbreak_final_size) > tolerance:\n",
    "    if compute_final_size(bar_beta) < outbreak_final_size:\n",
    "        beta1 = bar_beta\n",
    "    else:\n",
    "        beta2 = bar_beta\n",
    "\n",
    "    bar_beta = (beta1 + beta2)/2"
   ]
  },
  {
   "cell_type": "code",
   "execution_count": null,
   "id": "0baecab7",
   "metadata": {},
   "outputs": [],
   "source": [
    "bar_beta"
   ]
  },
  {
   "cell_type": "code",
   "execution_count": null,
   "id": "141ccc1e",
   "metadata": {},
   "outputs": [],
   "source": [
    "compute_final_size(bar_beta)"
   ]
  },
  {
   "cell_type": "markdown",
   "id": "02ad3419",
   "metadata": {},
   "source": [
    "\n",
    "# Least squares method\n",
    "\n"
   ]
  },
  {
   "cell_type": "code",
   "execution_count": null,
   "id": "5f87cfb8",
   "metadata": {},
   "outputs": [],
   "source": [
    "def function_to_minize(variables):\n",
    "    beta = variables[0]\n",
    "    N = variables[1]\n",
    "\n",
    "    final_size = compute_final_size(beta=beta, N=N)\n",
    "    return (final_size-outbreak_final_size)**2\n",
    "\n",
    "minimize(function_to_minize, [0.9, 400])"
   ]
  },
  {
   "cell_type": "code",
   "execution_count": null,
   "id": "4d7cd899",
   "metadata": {},
   "outputs": [],
   "source": [
    "model(beta=2.34228733, N=440.33110651)"
   ]
  },
  {
   "cell_type": "markdown",
   "id": "dd098a1b",
   "metadata": {},
   "source": [
    "How about another initial guess\n",
    "\n"
   ]
  },
  {
   "cell_type": "code",
   "execution_count": null,
   "id": "c4152a34",
   "metadata": {},
   "outputs": [],
   "source": [
    "minimize(function_to_minize, [0.5, 3000])"
   ]
  },
  {
   "cell_type": "code",
   "execution_count": null,
   "id": "ca8ede1d",
   "metadata": {},
   "outputs": [],
   "source": [
    "model(beta=1.21481947e-01, N=2.93685955e+03)"
   ]
  },
  {
   "cell_type": "markdown",
   "id": "6671f8b4",
   "metadata": {},
   "source": [
    "Back to the presentation\n",
    "\n"
   ]
  },
  {
   "cell_type": "markdown",
   "id": "bd6fba75",
   "metadata": {},
   "source": [
    "\n",
    "# Informing on the peak of the epidemic\n",
    "\n"
   ]
  },
  {
   "cell_type": "code",
   "execution_count": null,
   "id": "8efdb38b",
   "metadata": {},
   "outputs": [],
   "source": [
    "R_0_range = [12, 18]\n",
    "bar_beta_range = [R_0_range[i] / infectious_period for i in [0, 1]]\n",
    "bar_beta_range"
   ]
  },
  {
   "cell_type": "code",
   "execution_count": null,
   "id": "b5b08b49",
   "metadata": {},
   "outputs": [],
   "source": [
    "[model(beta) for beta in bar_beta_range]"
   ]
  },
  {
   "cell_type": "markdown",
   "id": "f771d1aa",
   "metadata": {},
   "source": [
    "\n",
    "# Adjusting $\\beta$ to match epidemic size\n",
    "\n"
   ]
  },
  {
   "cell_type": "code",
   "execution_count": null,
   "id": "72703382",
   "metadata": {},
   "outputs": [],
   "source": [
    "def print_info(xs):\n",
    "    final_size = xs[-1, -1] - xs[0, -1]\n",
    "    print(\"Final size outbreak: {:.0f}\".format(final_size))\n",
    "\n",
    "    peak = numpy.max(xs[:, 2])\n",
    "    print(\"Epidemic peak: {:.0f}\".format(peak))"
   ]
  },
  {
   "cell_type": "code",
   "execution_count": null,
   "id": "3b6629c5",
   "metadata": {},
   "outputs": [],
   "source": [
    "model(beta=2.34228733, N=440)"
   ]
  },
  {
   "cell_type": "markdown",
   "id": "af4e9012",
   "metadata": {},
   "source": [
    "\n",
    "# Least squares sum\n",
    "\n"
   ]
  },
  {
   "cell_type": "code",
   "execution_count": null,
   "id": "3a68e87b",
   "metadata": {},
   "outputs": [],
   "source": [
    "def compute_peak(beta, alpha=1/latent_period,\n",
    "                 gamma=1/infectious_period, p=coverage*VE,\n",
    "                 N=population):\n",
    "    xs = compute_ODE(alpha, beta, gamma, p, N)\n",
    "    return numpy.max(xs[:, 2])"
   ]
  },
  {
   "cell_type": "code",
   "execution_count": null,
   "id": "52720a99",
   "metadata": {},
   "outputs": [],
   "source": [
    "def function_to_minize(variables):\n",
    "    beta = variables[0]\n",
    "    N = variables[1]\n",
    "\n",
    "    final_size = compute_final_size(beta=beta, N=N)\n",
    "    peak = compute_peak(beta=beta, N=N)\n",
    "    return (final_size-outbreak_final_size)**2 + (peak-epidemic_peak)**2\n",
    "\n",
    "minimize(function_to_minize, [2.3, 440])"
   ]
  },
  {
   "cell_type": "code",
   "execution_count": null,
   "id": "4c0ccc2a",
   "metadata": {},
   "outputs": [],
   "source": [
    "model(beta=2.41907583e-01, N=4.39793937e+02)"
   ]
  },
  {
   "cell_type": "markdown",
   "id": "ef39c7e2",
   "metadata": {},
   "source": [
    "\n",
    "# Penalizing least squares sum\n",
    "\n"
   ]
  },
  {
   "cell_type": "code",
   "execution_count": null,
   "id": "5594542b",
   "metadata": {},
   "outputs": [],
   "source": [
    "def function_to_minize(variables):\n",
    "    beta = variables[0]\n",
    "    N = variables[1]\n",
    "\n",
    "    final_size = compute_final_size(beta=beta, N=N)\n",
    "    peak = compute_peak(beta=beta, N=N)\n",
    "    return (final_size-outbreak_final_size)**2 + 20*(peak-epidemic_peak)**2\n",
    "\n",
    "minimize(function_to_minize, [2.3, 440])"
   ]
  },
  {
   "cell_type": "markdown",
   "id": "830ae116",
   "metadata": {},
   "source": [
    "\n",
    "## Solving negative values problem\n",
    "\n"
   ]
  }
 ],
 "metadata": {},
 "nbformat": 4,
 "nbformat_minor": 5
}
