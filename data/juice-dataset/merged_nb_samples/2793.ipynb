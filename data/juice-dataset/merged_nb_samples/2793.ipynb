{
 "cells": [
  {
   "cell_type": "markdown",
   "id": "e8048257",
   "metadata": {},
   "source": [
    "# Shane's Super Amazing Python Crash Course:"
   ]
  },
  {
   "cell_type": "markdown",
   "id": "90baedf3",
   "metadata": {},
   "source": [
    "## Table of Contents:\n",
    "\n",
    "* [1 - Basic operators](#1)\n",
    "    * [1.1 - Print statement](#1.1)\n",
    "    * [1.2 - Arithmetic operators](#1.2)\n",
    "    * [1.3 - Comparison operators](#1.3)\n",
    "    * [1.4 - Assignment operators](#1.4)\n",
    "    * [1.5 - Logical operators](#1.5)\n",
    "    * [1.6 - Membership operators](#1.6)\n",
    "    * [1.7 - Identity operators](#1.7)\n",
    "\n",
    "\n",
    "* [2 - Data structures](#2)\n",
    "    * [2.1 - Lists](#2.1)\n",
    "    * [2.2 - Tuples](#2.2)\n",
    "    * [2.3 - Strings](#2.3)\n",
    "    * [2.4 - Dictionaries](#2.4)\n",
    "\n",
    "\n",
    " * [3 - Control structures](#3)\n",
    "    * [3.1 - If else](#3.1)\n",
    "    * [3.2 - For loop](#3.2)\n",
    "    * [3.3 - While loop](#3.3)\n",
    "    * [3.4 - Loop control statements](#3.4)\n",
    "    * [3.5 - Try except](#3.5)\n",
    "\n",
    "\n",
    " * [4 - Object-oriented programming](#4)\n",
    "    * [4.1 - Functions](#4.1)\n",
    "    * [4.2 - Classes](#4.2)\n",
    "    * [4.3 - Methods](#4.3)\n",
    "\n",
    "\n",
    " * [5 - Packages you cannot live without](#5)\n",
    "    * [5.1 - NumPy](#5.1)\n",
    "    * [5.2 - Pandas](#5.2)\n",
    "    * [5.3 - Matplotlib](#5.3)\n",
    "    * [5.4 - SciPy](#5.4)\n",
    "    * [5.5 - Sklearn](#5.5)\n",
    "\n",
    "\n",
    " * [6 - Online resources](#6)"
   ]
  },
  {
   "cell_type": "markdown",
   "id": "31738ea5",
   "metadata": {},
   "source": [
    "<a id='1'></a>\n",
    "## 1 - Basic operators:"
   ]
  },
  {
   "cell_type": "markdown",
   "id": "6faef42c",
   "metadata": {},
   "source": [
    "<a id='1.1'></a>\n",
    "### 1.1 - Print statement:"
   ]
  },
  {
   "cell_type": "code",
   "execution_count": null,
   "id": "6d119d24",
   "metadata": {},
   "outputs": [],
   "source": [
    "print('Hello world!')"
   ]
  },
  {
   "cell_type": "markdown",
   "id": "1fe9ef33",
   "metadata": {},
   "source": [
    "<a id='1.2'></a>\n",
    "### 1.2 - Arithmetic operators:"
   ]
  },
  {
   "cell_type": "code",
   "execution_count": null,
   "id": "68cecad3",
   "metadata": {},
   "outputs": [],
   "source": [
    "print('Addition:', 7 + 2)\n",
    "print('Subtraction:', 7 - 2)\n",
    "print('Multiplication:', 7 * 2)\n",
    "print('Division:', 7 / 2)\n",
    "print('Exponent:', 7 ** 2)\n",
    "print('Floor division:', 7 // 2)\n",
    "print('Modulus:', 7 % 2)"
   ]
  },
  {
   "cell_type": "markdown",
   "id": "22af2aa7",
   "metadata": {},
   "source": [
    "<a id='1.3'></a>\n",
    "### 1.3 - Comparison operators:"
   ]
  },
  {
   "cell_type": "code",
   "execution_count": null,
   "id": "1270f9b2",
   "metadata": {},
   "outputs": [],
   "source": [
    "a = 10\n",
    "b = 20\n",
    "\n",
    "print('a equals b:', a == b)\n",
    "print('a not equal to b:', a != b)\n",
    "print('a greater than b:', a > b)\n",
    "print('a less than b:', a < b)\n",
    "print('a greater than or equal to b:', a >= b)\n",
    "print('a less than b or equal to b:', a <= b)"
   ]
  },
  {
   "cell_type": "markdown",
   "id": "3db668d2",
   "metadata": {},
   "source": [
    "<a id='1.4'></a>\n",
    "### 1.4 - Assignment operators:"
   ]
  },
  {
   "cell_type": "code",
   "execution_count": null,
   "id": "0f630ef1",
   "metadata": {},
   "outputs": [],
   "source": [
    "for letter in 'chafhts arfhe hahwefhsfomhe':\n",
    "    pass\n",
    "\n",
    "print(letter)"
   ]
  },
  {
   "cell_type": "markdown",
   "id": "761c0e79",
   "metadata": {},
   "source": [
    "<a id='3.5'></a>\n",
    "### 3.5 - Try except:"
   ]
  },
  {
   "cell_type": "code",
   "execution_count": null,
   "id": "78b9d20e",
   "metadata": {},
   "outputs": [],
   "source": [
    "try:\n",
    "    if 1 / 0 is 'pie':\n",
    "        print('Great success!')\n",
    "except ZeroDivisionError or OverflowError:\n",
    "    print('Ermahgerd, error!')"
   ]
  },
  {
   "cell_type": "markdown",
   "id": "1942e09a",
   "metadata": {},
   "source": [
    "<a id='4'></a>\n",
    "## 4 - Object-oriented programming:"
   ]
  },
  {
   "cell_type": "markdown",
   "id": "cd67763f",
   "metadata": {},
   "source": [
    "<a id='4.1'></a>\n",
    "### 4.1 - Functions:"
   ]
  },
  {
   "cell_type": "code",
   "execution_count": null,
   "id": "a3220c98",
   "metadata": {},
   "outputs": [],
   "source": [
    "def calculate(a, b, operation):\n",
    "    if operation is 'add':\n",
    "        if a == 9 and b == 10:\n",
    "            return 21\n",
    "        else:\n",
    "            return a + b\n",
    "    elif operation is 'sub':\n",
    "        return a - b\n",
    "    elif operation is 'mul':\n",
    "        return a * b\n",
    "    elif operation is 'div':\n",
    "        try:\n",
    "            return a / b\n",
    "        except:\n",
    "            return 'Oh you are a special snowflake!'\n",
    "    else:\n",
    "        return 'I can\\'t do that!'\n",
    "\n",
    "print(calculate(7, 2, 'sub'))\n",
    "print(calculate(9, 10, 'add'))\n",
    "print(calculate(1, 0, 'div'))"
   ]
  },
  {
   "cell_type": "markdown",
   "id": "6b875da4",
   "metadata": {},
   "source": [
    "<a id='4.2'></a>\n",
    "### 4.2 - Classes:"
   ]
  },
  {
   "cell_type": "code",
   "execution_count": null,
   "id": "74592090",
   "metadata": {},
   "outputs": [],
   "source": [
    "class Animal:\n",
    "    def __init__(self, animal_name, cuteness, num_legs, run_speed, eats_meat):\n",
    "        self.animal_name = animal_name\n",
    "        self.cuteness = cuteness\n",
    "        self.num_legs = num_legs\n",
    "        self.run_speed = run_speed\n",
    "        self.eats_meat = eats_meat\n",
    "\n",
    "zebra = Animal('Zebra', 7, 4, 35, False)\n",
    "cat = Animal('Cat', 9001, 4, 30, True)\n",
    "penguin = Animal('Penguin', 9, 2, 4, True)\n",
    "\n",
    "print('{0}s can run up to {1} miles per hour!'.format(zebra.animal_name, zebra.run_speed))\n",
    "print('{0}s eat meat.'.format(cat.animal_name)) if cat.eats_meat else print('{0}s do not eat meat.'.format(cat.animal_name))"
   ]
  },
  {
   "cell_type": "markdown",
   "id": "401e2aee",
   "metadata": {},
   "source": [
    "<a id='4.3'></a>\n",
    "### 4.3 - Methods:"
   ]
  },
  {
   "cell_type": "code",
   "execution_count": null,
   "id": "5739e3c8",
   "metadata": {},
   "outputs": [],
   "source": [
    "class Person:\n",
    "    def __init__(self, name, is_male, hair_length):\n",
    "        self.name = name\n",
    "        self.is_male = is_male\n",
    "        self.hair_length = hair_length\n",
    "        \n",
    "    def barber(self):\n",
    "        self.hair_length -= 1\n",
    "    \n",
    "    def salon(self):\n",
    "        self.hair_length -= 3\n",
    "    \n",
    "    def get_haircut(self):\n",
    "        if self.is_male:\n",
    "            self.barber()\n",
    "        else:\n",
    "            self.salon()\n",
    "\n",
    "daniel = Person('Daniel', True, 3)\n",
    "print('Before: {0}\\'s hair is {1} cm(s) long'.format(daniel.name, daniel.hair_length))\n",
    "daniel.get_haircut()\n",
    "print('After: {0}\\'s hair is {1} cm(s) long\\n'.format(daniel.name, daniel.hair_length))\n",
    "\n",
    "jacqui = Person('Jacqui', False, 10)\n",
    "print('Before: {0}\\'s hair is {1} cm(s) long'.format(jacqui.name, jacqui.hair_length))\n",
    "jacqui.get_haircut()\n",
    "print('After: {0}\\'s hair is {1} cm(s) long'.format(jacqui.name, jacqui.hair_length))"
   ]
  },
  {
   "cell_type": "markdown",
   "id": "aadab101",
   "metadata": {},
   "source": [
    "<a id='5'></a>\n",
    "## 5 - Packages you cannot live without:"
   ]
  },
  {
   "cell_type": "markdown",
   "id": "d2efd685",
   "metadata": {},
   "source": [
    "<a id='5.1'></a>\n",
    "### 5.1 - NumPy:\n",
    "NumPy is a general-purpose array-processing package designed to efficiently manipulate large multi-dimensional arrays of arbitrary records without sacrificing too much speed for small multi-dimensional arrays.\n",
    "\n",
    "User's guide: https://docs.scipy.org/doc/numpy-1.14.0/user/"
   ]
  },
  {
   "cell_type": "code",
   "execution_count": null,
   "id": "e17f3f7d",
   "metadata": {},
   "outputs": [],
   "source": [
    "import numpy as np\n",
    "\n",
    "A = np.array([[1,2], [2,1]])\n",
    "B = np.array([[2,0,3], [3,4,2]])\n",
    "\n",
    "print('A:\\n', A)\n",
    "print('Shape: ', A.shape)\n",
    "\n",
    "print('\\n')\n",
    "\n",
    "print('B:\\n', B)\n",
    "print('Shape: ', B.shape)\n",
    "\n",
    "print('\\n2 * A:\\n', 2 * A)\n",
    "print('\\nA . B:\\n', A.dot(B))\n",
    "print('\\n b^T\\n', B.transpose())"
   ]
  },
  {
   "cell_type": "markdown",
   "id": "9d7a0e20",
   "metadata": {},
   "source": [
    "<a id='5.2'></a>\n",
    "### 5.2 - Pandas:\n",
    "Pandas is an open source, BSD-licensed library providing high-performance, easy-to-use data structures and data analysis tools for the Python programming language.\n",
    "\n",
    "User's guide: https://pandas.pydata.org/pandas-docs/stable/tutorials.html"
   ]
  },
  {
   "cell_type": "code",
   "execution_count": null,
   "id": "ed36aee7",
   "metadata": {},
   "outputs": [],
   "source": [
    "print('Tuple methods:', dir(tuple))"
   ]
  },
  {
   "cell_type": "markdown",
   "id": "33e42628",
   "metadata": {},
   "source": [
    "#### 2.2.2 - Lists vs tuples:"
   ]
  },
  {
   "cell_type": "code",
   "execution_count": null,
   "id": "5e16be5c",
   "metadata": {},
   "outputs": [],
   "source": [
    "a_side_list = ['Ryan', 'Hano', 'Stephan', 'Mattie', 'Johan', 'Shane']\n",
    "\n",
    "a_side_list[0] = 'Marno'\n",
    "\n",
    "print(a_side_list)"
   ]
  },
  {
   "cell_type": "code",
   "execution_count": null,
   "id": "6941330f",
   "metadata": {},
   "outputs": [],
   "source": [
    "a_side_tuple = ('Ryan', 'Hano', 'Stephan', 'Mattie', 'Johan', 'Shane')\n",
    "\n",
    "a_side_tuple[0] = 'Marno'\n",
    "\n",
    "print(a_side_tuple)"
   ]
  },
  {
   "cell_type": "markdown",
   "id": "e9cad2c4",
   "metadata": {},
   "source": [
    "<a id='2.3'></a>\n",
    "### 2.3 - Strings:"
   ]
  },
  {
   "cell_type": "markdown",
   "id": "3d3ea4e4",
   "metadata": {},
   "source": [
    "#### 2.3.1 - String methods:"
   ]
  },
  {
   "cell_type": "code",
   "execution_count": null,
   "id": "e0f12018",
   "metadata": {},
   "outputs": [],
   "source": [
    "print('String methods:', dir(str))"
   ]
  },
  {
   "cell_type": "markdown",
   "id": "87616a89",
   "metadata": {},
   "source": [
    "#### 2.3.2 - String formatting:"
   ]
  },
  {
   "cell_type": "code",
   "execution_count": null,
   "id": "fd66ac6b",
   "metadata": {},
   "outputs": [],
   "source": [
    "first_name = 'Danie'\n",
    "last_name = 'Lotter'\n",
    "age = 31\n",
    "\n",
    "print('Dr ' + first_name + ' ' + last_name + ' is ' + str(age) + ' years old!')\n",
    "print('Dr %s %s is %d years old!' % (first_name, last_name, age))\n",
    "print('Dr {0} {1} is {2} years old!'.format(first_name, last_name, age))"
   ]
  },
  {
   "cell_type": "markdown",
   "id": "b8b177f6",
   "metadata": {},
   "source": [
    "#### 2.3.3 - String escape characters:"
   ]
  },
  {
   "cell_type": "code",
   "execution_count": null,
   "id": "8f7f4619",
   "metadata": {},
   "outputs": [],
   "source": [
    "sentence = 'I stepped on a corn flake,\\nnow I\\'m a\\tcereal killer.'\n",
    "print(sentence)"
   ]
  },
  {
   "cell_type": "markdown",
   "id": "1715cada",
   "metadata": {},
   "source": [
    "#### 2.3.4 - String operators:"
   ]
  },
  {
   "cell_type": "code",
   "execution_count": null,
   "id": "6f1a8f86",
   "metadata": {},
   "outputs": [],
   "source": [
    "name = 'Meowingtons'\n",
    "print(name[:4])\n",
    "\n",
    "word ='really '\n",
    "print('Cats are ' + word*5 + 'awesome.')"
   ]
  },
  {
   "cell_type": "markdown",
   "id": "32a54c2b",
   "metadata": {},
   "source": [
    "#### 2.3.5 - Raw strings:"
   ]
  },
  {
   "cell_type": "code",
   "execution_count": null,
   "id": "6d309db1",
   "metadata": {},
   "outputs": [],
   "source": [
    "path = r'C:\\Users\\Shane\\Pictures\\cat496.png'\n",
    "print(path)"
   ]
  },
  {
   "cell_type": "markdown",
   "id": "addbce1f",
   "metadata": {},
   "source": [
    "<a id='2.4'></a>\n",
    "### 2.4 - Dictionaries:"
   ]
  },
  {
   "cell_type": "markdown",
   "id": "ca0c2b7f",
   "metadata": {},
   "source": [
    "#### 2.4.1 - Dictionary methods:"
   ]
  },
  {
   "cell_type": "code",
   "execution_count": null,
   "id": "bce2f1eb",
   "metadata": {},
   "outputs": [],
   "source": [
    "print('Dictionary methods:', dir(dict))"
   ]
  },
  {
   "cell_type": "markdown",
   "id": "262ec9a5",
   "metadata": {},
   "source": [
    "<a id='3'></a>\n",
    "## 3 - Control structures:"
   ]
  },
  {
   "cell_type": "markdown",
   "id": "ac7ebb07",
   "metadata": {},
   "source": [
    "<a id='3.1'></a>\n",
    "### 3.1 - If else:"
   ]
  },
  {
   "cell_type": "code",
   "execution_count": null,
   "id": "85d06beb",
   "metadata": {},
   "outputs": [],
   "source": [
    "num_of_cats = 10\n",
    "\n",
    "if num_of_cats >= 100:\n",
    "    print('That\\'s a lot of cats!')\n",
    "else:\n",
    "    print('You need more cats!')"
   ]
  },
  {
   "cell_type": "markdown",
   "id": "87c5a04d",
   "metadata": {},
   "source": [
    "<a id='3.2'></a>\n",
    "### 3.2 - For loop:"
   ]
  },
  {
   "cell_type": "code",
   "execution_count": null,
   "id": "14b54b23",
   "metadata": {},
   "outputs": [],
   "source": [
    "import pandas as pd\n",
    "\n",
    "df = pd.DataFrame({'A' : 1.,\n",
    "                   'B' : pd.Timestamp('20130102'),\n",
    "                   'C' : pd.Series(1,index=list(range(4)),dtype='float32'),\n",
    "                   'D' : np.array([3] * 4,dtype='int32'),\n",
    "                   'E' : pd.Categorical([\"test\",\"train\",\"test\",\"train\"]),\n",
    "                   'F' : 'foo' })\n",
    "\n",
    "print(df)"
   ]
  },
  {
   "cell_type": "markdown",
   "id": "6631dc9d",
   "metadata": {},
   "source": [
    "<a id='5.3'></a>\n",
    "### 5.3 - Matplotlib:\n",
    "Matplotlib strives to produce publication quality 2D graphics for interactive graphing, scientific publishing, user interface development and web application servers targeting multiple user interfaces and hardcopy output formats.\n",
    "\n",
    "User's guide: https://matplotlib.org/users/index.html"
   ]
  },
  {
   "cell_type": "code",
   "execution_count": null,
   "id": "3032e22f",
   "metadata": {},
   "outputs": [],
   "source": [
    "a = 10\n",
    "b = 20\n",
    "\n",
    "c = a + b\n",
    "print('Value of c:', c)\n",
    "c += 10\n",
    "print('Value of c:', c)\n",
    "c -= 20\n",
    "print('Value of c:', c)\n",
    "c *= 3\n",
    "print('Value of c:', c)\n",
    "c /= 2\n",
    "print('Value of c:', c)\n",
    "c %= 7\n",
    "print('Value of c:', c)\n",
    "c **= 4\n",
    "print('Value of c:', c)\n",
    "c //= 3\n",
    "print('Value of c:', c)"
   ]
  },
  {
   "cell_type": "markdown",
   "id": "ad54e5fa",
   "metadata": {},
   "source": [
    "<a id='1.5'></a>\n",
    "### 1.5 - Logical operators:"
   ]
  },
  {
   "cell_type": "code",
   "execution_count": null,
   "id": "df0fe1ff",
   "metadata": {},
   "outputs": [],
   "source": [
    "a = True\n",
    "b = False\n",
    "\n",
    "print('a AND b:', a and b)\n",
    "print('a OR b:', a or b)\n",
    "print('NOT b', not b)"
   ]
  },
  {
   "cell_type": "markdown",
   "id": "619c3b9e",
   "metadata": {},
   "source": [
    "<a id='1.6'></a>\n",
    "### 1.6 - Membership operators:"
   ]
  },
  {
   "cell_type": "code",
   "execution_count": null,
   "id": "a77f285d",
   "metadata": {},
   "outputs": [],
   "source": [
    "a = 3\n",
    "list = [1, 2, 3, 4, 5]\n",
    "\n",
    "print('a IN list:', a in list)\n",
    "print('a NOT IN list:', a not in list)"
   ]
  },
  {
   "cell_type": "markdown",
   "id": "eaad90d5",
   "metadata": {},
   "source": [
    "<a id='1.7'></a>\n",
    "### 1.7 - Identity operators:"
   ]
  },
  {
   "cell_type": "code",
   "execution_count": null,
   "id": "b7032c41",
   "metadata": {},
   "outputs": [],
   "source": [
    "a = 'cat'\n",
    "b = 'dog'\n",
    "\n",
    "print('a IS b:', a is b)\n",
    "print('a IS NOT b:', a is not b)"
   ]
  },
  {
   "cell_type": "markdown",
   "id": "6c218a0b",
   "metadata": {},
   "source": [
    "<a id='2'></a>\n",
    "## 2 - Data structures:"
   ]
  },
  {
   "cell_type": "markdown",
   "id": "f7c05248",
   "metadata": {},
   "source": [
    "<a id='2.1'></a>\n",
    "### 2.1 - Lists:"
   ]
  },
  {
   "cell_type": "markdown",
   "id": "97b1adab",
   "metadata": {},
   "source": [
    "#### 2.1.1 - List methods:"
   ]
  },
  {
   "cell_type": "code",
   "execution_count": null,
   "id": "d060e5c0",
   "metadata": {},
   "outputs": [],
   "source": [
    "print('List methods:', dir(list))"
   ]
  },
  {
   "cell_type": "markdown",
   "id": "ec2a502a",
   "metadata": {},
   "source": [
    "#### 2.1.2 - List operations:"
   ]
  },
  {
   "cell_type": "code",
   "execution_count": null,
   "id": "37dfa5f9",
   "metadata": {},
   "outputs": [],
   "source": [
    "cat_names = ['Cinnamon', 'Patrick', 'Maki']\n",
    "\n",
    "print('I have', len(cat_names), 'cats!')\n",
    "print(cat_names[1], 'is my favourite cat.')\n",
    "print('Maki' in cat_names)"
   ]
  },
  {
   "cell_type": "markdown",
   "id": "161acbb7",
   "metadata": {},
   "source": [
    "#### 2.1.3 - List functions:"
   ]
  },
  {
   "cell_type": "code",
   "execution_count": null,
   "id": "8279c9c8",
   "metadata": {},
   "outputs": [],
   "source": [
    "my_list = [1, 1, 2, 3, 8, 13, 21]\n",
    "\n",
    "print('Minimum:', min(my_list))\n",
    "print('Maximum:', max(my_list))\n",
    "print('Count:', my_list.count(1))\n",
    "\n",
    "my_list.insert(4, 'five')\n",
    "print('List after insert:', my_list)\n",
    "my_list.append(34)\n",
    "print('List after append:', my_list)\n",
    "my_list.extend([55, 89, 144])\n",
    "print('List after extend:', my_list)\n",
    "my_list.reverse()\n",
    "print('List after reverse:', my_list)"
   ]
  },
  {
   "cell_type": "markdown",
   "id": "4a289a2b",
   "metadata": {},
   "source": [
    "#### 2.1.4 - Remove vs delete vs pop:"
   ]
  },
  {
   "cell_type": "code",
   "execution_count": null,
   "id": "0f56adf3",
   "metadata": {},
   "outputs": [],
   "source": [
    "for i in range(10, 0, -1):\n",
    "    print('{0} fluffy cats on the wall, {0} fluffy cats, take one down, pass it around, {1} fluffy cats on the wall.'.format(i, i-1))"
   ]
  },
  {
   "cell_type": "code",
   "execution_count": null,
   "id": "c1e3d1c3",
   "metadata": {},
   "outputs": [],
   "source": [
    "cats = ['Patrick', 'Cinnomon', 'Maki']\n",
    "attributes = ['fluffy', 'fat', 'fabulous']\n",
    "\n",
    "for i, j in zip(cats, attributes):\n",
    "    print('My cat, {0}, is {1}.'.format(i, j))"
   ]
  },
  {
   "cell_type": "code",
   "execution_count": null,
   "id": "ae1a6b95",
   "metadata": {},
   "outputs": [],
   "source": [
    "print(['cat{0}'.format(i) for i in range(10)])"
   ]
  },
  {
   "cell_type": "markdown",
   "id": "b599d6ac",
   "metadata": {},
   "source": [
    "<a id='3.3'></a>\n",
    "### 3.3 - While loop:"
   ]
  },
  {
   "cell_type": "code",
   "execution_count": null,
   "id": "91a45f49",
   "metadata": {},
   "outputs": [],
   "source": [
    "import time\n",
    "\n",
    "prof_in_office = True\n",
    "minutes = 0\n",
    "\n",
    "while prof_in_office is True:\n",
    "    print('Pretend to be doing important work')\n",
    "    print('{0} minute(s) pass...'.format(minutes))\n",
    "    \n",
    "    time.sleep(1)\n",
    "    minutes += 1\n",
    "    \n",
    "    if minutes == 5:\n",
    "        prof_in_office = False\n",
    "print('Party time!')"
   ]
  },
  {
   "cell_type": "markdown",
   "id": "fe848c1e",
   "metadata": {},
   "source": [
    "<a id='3.4'></a>\n",
    "### 3.4 - Loop control statements:"
   ]
  },
  {
   "cell_type": "code",
   "execution_count": null,
   "id": "ee5839fa",
   "metadata": {},
   "outputs": [],
   "source": [
    "for letter in 'chafhts arfhe hahwefhsfomhe': \n",
    "    if letter == 'h' or letter == 'f':\n",
    "         continue\n",
    "    print(letter)"
   ]
  },
  {
   "cell_type": "code",
   "execution_count": null,
   "id": "d59270ee",
   "metadata": {},
   "outputs": [],
   "source": [
    "for letter in 'chafhts arfhe hahwefhsfomhe': \n",
    "    if letter == 'h' or letter == 'f':\n",
    "         break\n",
    "            \n",
    "print(letter)"
   ]
  },
  {
   "cell_type": "code",
   "execution_count": null,
   "id": "9dc4a61c",
   "metadata": {},
   "outputs": [],
   "source": [
    "a_side = ['Ryan', 'Hano', 'Stephan', 'Mattie', 'Johan', 'Shane']\n",
    "\n",
    "a_side.remove('Stephan')\n",
    "print(a_side)\n",
    "\n",
    "del a_side[-1]\n",
    "print(a_side)\n",
    "\n",
    "print(a_side.pop(2))\n",
    "print(a_side)"
   ]
  },
  {
   "cell_type": "markdown",
   "id": "35b9e575",
   "metadata": {},
   "source": [
    "<a id='2.2'></a>\n",
    "### 2.2 - Tuples:"
   ]
  },
  {
   "cell_type": "markdown",
   "id": "704813bf",
   "metadata": {},
   "source": [
    "#### 2.2.1 - Tuple methods:"
   ]
  },
  {
   "cell_type": "code",
   "execution_count": null,
   "id": "c30ab16f",
   "metadata": {},
   "outputs": [],
   "source": [
    "import matplotlib.pyplot as plt\n",
    "\n",
    "plt.plot([1,2,3,4], [1,4,9,16], 'ro')\n",
    "plt.axis([0, 6, 0, 20])\n",
    "plt.show()"
   ]
  },
  {
   "cell_type": "code",
   "execution_count": null,
   "id": "a7c38b48",
   "metadata": {},
   "outputs": [],
   "source": [
    "import numpy as np\n",
    "import matplotlib.pyplot as plt\n",
    "\n",
    "# Evenly sampled time at 200ms intervals\n",
    "t = np.arange(0., 5., 0.2)\n",
    "\n",
    "# Red dashes, blue squares and green triangles\n",
    "plt.plot(t, t, 'r--', t, t**2, 'bs', t, t**3, 'g^')\n",
    "plt.show()"
   ]
  },
  {
   "cell_type": "code",
   "execution_count": null,
   "id": "a17ca9a7",
   "metadata": {},
   "outputs": [],
   "source": [
    "import numpy as np\n",
    "import matplotlib.pyplot as plt\n",
    "\n",
    "# Fixing random state for reproducibility\n",
    "np.random.seed(19680801)\n",
    "\n",
    "mu, sigma = 100, 15\n",
    "x = mu + sigma * np.random.randn(10000)\n",
    "\n",
    "# The histogram of the data\n",
    "n, bins, patches = plt.hist(x, 50, normed=1, facecolor='g', alpha=0.75)\n",
    "\n",
    "\n",
    "plt.xlabel('Smarts')\n",
    "plt.ylabel('Probability')\n",
    "plt.title('Histogram of IQ')\n",
    "plt.text(60, .025, r'$\\mu=100,\\ \\sigma=15$')\n",
    "plt.axis([40, 160, 0, 0.03])\n",
    "plt.grid(True)\n",
    "plt.show()"
   ]
  },
  {
   "cell_type": "markdown",
   "id": "27cdca71",
   "metadata": {},
   "source": [
    "<a id='5.4'></a>\n",
    "### 5.4 - SciPy:\n",
    "SciPy is an open-source software for mathematics, science, and engineering. The SciPy library depends on NumPy, which provides convenient and fast N-dimensional array manipulation.\n",
    "\n",
    "User's guide: https://docs.scipy.org/doc/scipy/reference/tutorial/"
   ]
  }
 ],
 "metadata": {},
 "nbformat": 4,
 "nbformat_minor": 5
}
