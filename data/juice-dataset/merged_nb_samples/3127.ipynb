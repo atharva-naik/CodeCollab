{
 "cells": [
  {
   "cell_type": "markdown",
   "id": "500a4d65",
   "metadata": {},
   "source": [
    "# Working around with Strings,Lists,Sorting & dictionary in Python"
   ]
  },
  {
   "cell_type": "markdown",
   "id": "4f879bb9",
   "metadata": {},
   "source": [
    "## 1.STRINGS"
   ]
  },
  {
   "cell_type": "markdown",
   "id": "55b22c2b",
   "metadata": {},
   "source": [
    "*** Assigning string values to variables***"
   ]
  },
  {
   "cell_type": "code",
   "execution_count": null,
   "id": "57542340",
   "metadata": {},
   "outputs": [],
   "source": [
    "var1='Data'\n",
    "var2='Science'"
   ]
  },
  {
   "cell_type": "code",
   "execution_count": null,
   "id": "559bd40f",
   "metadata": {},
   "outputs": [],
   "source": [
    "print(var1)"
   ]
  },
  {
   "cell_type": "markdown",
   "id": "649a7be5",
   "metadata": {},
   "source": [
    "***Concatenation of two strings***\n"
   ]
  },
  {
   "cell_type": "code",
   "execution_count": null,
   "id": "6a307daf",
   "metadata": {},
   "outputs": [],
   "source": [
    "print (var1 +\" \" + var2)"
   ]
  },
  {
   "cell_type": "markdown",
   "id": "654f3162",
   "metadata": {},
   "source": [
    "***Repetition of Strings***"
   ]
  },
  {
   "cell_type": "code",
   "execution_count": null,
   "id": "081eb541",
   "metadata": {},
   "outputs": [],
   "source": [
    "print (\"We can repeat the string for as many times we want\")\n",
    "print (var2 * 5) # As we wanted to repeat Science for 5 times we have used * 5 here "
   ]
  },
  {
   "cell_type": "markdown",
   "id": "12ef5f9b",
   "metadata": {},
   "source": [
    "***Accessing character in a string***"
   ]
  },
  {
   "cell_type": "code",
   "execution_count": null,
   "id": "1188cf39",
   "metadata": {},
   "outputs": [],
   "source": [
    "print(\"Len() function can be used to check the length of the String\")\n",
    "print(\"\")\n",
    "print(\"Length of var1:\" +\" \",len(var1))"
   ]
  },
  {
   "cell_type": "markdown",
   "id": "4e46a58b",
   "metadata": {},
   "source": [
    "***Deleting a string using del keyword***"
   ]
  },
  {
   "cell_type": "code",
   "execution_count": null,
   "id": "09ad7f10",
   "metadata": {},
   "outputs": [],
   "source": [
    "print (\"We can delete a string using del keyword:\")\n",
    "del var1\n",
    "print(var1)"
   ]
  },
  {
   "cell_type": "markdown",
   "id": "65d07591",
   "metadata": {},
   "source": [
    "As we can see from last print statement it is giving an erro of var1 not found since we have recently deleted var1 variable in above statement 'del var1' "
   ]
  },
  {
   "cell_type": "markdown",
   "id": "074bcd84",
   "metadata": {},
   "source": [
    "***Capitalization of the string using capitalize() function***"
   ]
  },
  {
   "cell_type": "code",
   "execution_count": null,
   "id": "51227804",
   "metadata": {},
   "outputs": [],
   "source": [
    "statement1='new York is the most beautiful city'\n",
    "print (\"Use Capitalize() function to capitalise the 1st letter of the string\")\n",
    "\n",
    "print (statement1.capitalize())"
   ]
  },
  {
   "cell_type": "markdown",
   "id": "639d8ce0",
   "metadata": {},
   "source": [
    "***Updation of an existing string***"
   ]
  },
  {
   "cell_type": "code",
   "execution_count": null,
   "id": "74694ec8",
   "metadata": {},
   "outputs": [],
   "source": [
    "print(\"Updation of exisiting string can be done as follows-\")\n",
    "print(\"\")\n",
    "stringToBeUpdated= 'Rutgers School'\n",
    "print(\"Updated string:\" + stringToBeUpdated[:8]+'Business school')"
   ]
  },
  {
   "cell_type": "markdown",
   "id": "9944706e",
   "metadata": {},
   "source": [
    "## 2. LISTS \n"
   ]
  },
  {
   "cell_type": "markdown",
   "id": "42cd3157",
   "metadata": {},
   "source": [
    "***Types of Lists***"
   ]
  },
  {
   "cell_type": "code",
   "execution_count": null,
   "id": "4928cbed",
   "metadata": {},
   "outputs": [],
   "source": [
    "print(\"These are the different types of the List\")\n",
    "\n",
    "list_example1 = [] #empty list\n",
    "list_example2 = [1,2,3,4] #list of integers\n",
    "list_example3 = [1, 'Ash', 3.4] #list of mixed data types\n",
    "list_example4 = [1,'Alpine', 44, ['List within List']] #a list can have another list as an item, this is called as a nested list\n"
   ]
  },
  {
   "cell_type": "markdown",
   "id": "9f68d794",
   "metadata": {},
   "source": [
    "***Accessing items from the List***"
   ]
  },
  {
   "cell_type": "code",
   "execution_count": null,
   "id": "9fbdb31b",
   "metadata": {},
   "outputs": [],
   "source": [
    "print(\"Accessing items from List with the help of index number of the respective item\")\n",
    "list1= ['Orchid','Rose','Lily','Sunflower']\n",
    "print(\"\")\n",
    "print(\"Second item from list1:\",list1[1]) "
   ]
  },
  {
   "cell_type": "markdown",
   "id": "d4f6bb92",
   "metadata": {},
   "source": [
    "*** Determining Length of the List using len() function***"
   ]
  },
  {
   "cell_type": "code",
   "execution_count": null,
   "id": "a3f53a77",
   "metadata": {},
   "outputs": [],
   "source": [
    "print(\"Length of the List can be determined by using len() function as follows\")\n",
    "print(\"\")\n",
    "print(\"Length of list1:\",len(list1)) \n"
   ]
  },
  {
   "cell_type": "markdown",
   "id": "e7aaae79",
   "metadata": {},
   "source": [
    "***Concatenation of two Lists***"
   ]
  },
  {
   "cell_type": "code",
   "execution_count": null,
   "id": "5d8956b7",
   "metadata": {},
   "outputs": [],
   "source": [
    "print(\"Lists can be concatenated with the help of + operator\")\n",
    "ListA=['Data Science', 'BDM','ABI']\n",
    "ListB=['DAV','DADM']\n",
    "print(\"\")\n",
    "print(\"Concatenating ListA and ListB:\",ListA + ListB)"
   ]
  },
  {
   "cell_type": "markdown",
   "id": "73100660",
   "metadata": {},
   "source": [
    "***Repetition of List Items***"
   ]
  },
  {
   "cell_type": "code",
   "execution_count": null,
   "id": "8706669e",
   "metadata": {},
   "outputs": [],
   "source": [
    "print(\"List items can be repeated using * with list and the number of times of list repetition as follows:\")\n",
    "list_repetition= ['USA']\n",
    "list_repetition * 5\n",
    "list_repetition * 5"
   ]
  },
  {
   "cell_type": "markdown",
   "id": "2f27ac08",
   "metadata": {},
   "source": [
    "***Appending new Items in Existing List using append() function***"
   ]
  },
  {
   "cell_type": "code",
   "execution_count": null,
   "id": "f3fb9270",
   "metadata": {},
   "outputs": [],
   "source": [
    "print(\"We can append new items in an existing list using append() function as below\")\n",
    "list_append_example= [100,'Hannah',20,'Alex']\n",
    "list_append_example.append('Justin')\n",
    "list_append_example"
   ]
  },
  {
   "cell_type": "markdown",
   "id": "82d0e80b",
   "metadata": {},
   "source": [
    "***Reversing order of Items from  using reverse() function***"
   ]
  },
  {
   "cell_type": "code",
   "execution_count": null,
   "id": "f0f6146d",
   "metadata": {},
   "outputs": [],
   "source": [
    "print(\"We can reverse the order of list using reverse() function\")\n",
    "list_append_example.reverse()\n",
    "list_append_example"
   ]
  },
  {
   "cell_type": "markdown",
   "id": "f8818ab7",
   "metadata": {},
   "source": [
    "***Iterating List Using for loop***"
   ]
  },
  {
   "cell_type": "code",
   "execution_count": null,
   "id": "8748c853",
   "metadata": {},
   "outputs": [],
   "source": [
    "print(\"for loop is used to iterate the list elements based on the index number\")\n",
    "print(\"\")\n",
    "list1= [26,'Cross St',1994,'Warren St','Cleveland Avenue']\n",
    "for x in list1: print(x)"
   ]
  },
  {
   "cell_type": "markdown",
   "id": "bdd9db94",
   "metadata": {},
   "source": [
    "***Updating an exisiting List***"
   ]
  },
  {
   "cell_type": "code",
   "execution_count": null,
   "id": "58ea33d2",
   "metadata": {},
   "outputs": [],
   "source": [
    "list_update_example= ['11','22','33','44']\n",
    "print(\"We can replace any item from list with some other value by assiging a new value to existing item position\")\n",
    "print(\"\")\n",
    "print(\"List before updation:\",list_update_example)\n",
    "list_update_example[1]='55'\n",
    "print(\"List after updation:\",list_update_example)"
   ]
  },
  {
   "cell_type": "markdown",
   "id": "fa5d70ad",
   "metadata": {},
   "source": [
    "***Deletion of Items from List using del keyword***"
   ]
  },
  {
   "cell_type": "code",
   "execution_count": null,
   "id": "722534b9",
   "metadata": {},
   "outputs": [],
   "source": [
    "print(\"We can delete an item from list by using del funtion along with the position of item to be deleted\")\n",
    "print(\"\")\n",
    "print(\"Original list:\",list_update_example)\n",
    "del list_update_example[3]\n",
    "print(\"Updated list after deletion of 4th item:\", list_update_example)"
   ]
  },
  {
   "cell_type": "markdown",
   "id": "43c2fd69",
   "metadata": {},
   "source": [
    "## 3.SORTING"
   ]
  },
  {
   "cell_type": "code",
   "execution_count": null,
   "id": "874a2829",
   "metadata": {},
   "outputs": [],
   "source": [
    "print(\"Sorting of list items in Ascending or Descending order\")\n",
    "print(\"\")\n",
    "List_sort= ['n','t','a']\n",
    "print(\"List before sorting operation:\",List_sort)\n",
    "List_sort.sort()\n",
    "print(\"List after sorting opration:\",List_sort)"
   ]
  },
  {
   "cell_type": "markdown",
   "id": "7c60b4d9",
   "metadata": {},
   "source": [
    "## 4.DICTIONARY"
   ]
  },
  {
   "cell_type": "markdown",
   "id": "913d661d",
   "metadata": {},
   "source": [
    "***Defining a Dictionary***"
   ]
  },
  {
   "cell_type": "code",
   "execution_count": null,
   "id": "572cf87d",
   "metadata": {},
   "outputs": [],
   "source": [
    "print(\"Dictionary can be defined using a pair of key and value attributes which can be considered as single element\")\n",
    "print(\"\")\n",
    "Dict_example1= {'Name':'Rutgers University','Course':'MIT', 'Campus':'Newark','Established':1766}\n",
    "print(\"Example of dictionary:\",Dict_example1)"
   ]
  },
  {
   "cell_type": "markdown",
   "id": "ad421541",
   "metadata": {},
   "source": [
    "***Accessing the values from dictionary*** "
   ]
  },
  {
   "cell_type": "code",
   "execution_count": null,
   "id": "2d7b99ef",
   "metadata": {},
   "outputs": [],
   "source": [
    "print(\"We can access any value from dictionary based on the subsequent key as follows:\")\n",
    "print(\"\")\n",
    "print(\"University name from dictionary:\",Dict_example1['Name'])\n",
    "print(\"Campus from dictionary:\",Dict_example1['Campus'])"
   ]
  },
  {
   "cell_type": "markdown",
   "id": "8d091992",
   "metadata": {},
   "source": [
    "***items() method in Dictionary***"
   ]
  },
  {
   "cell_type": "code",
   "execution_count": null,
   "id": "b2086d12",
   "metadata": {},
   "outputs": [],
   "source": [
    "print(\"All Dictionary items can be printed with the help of items() method as follows:\")\n",
    "print(\" \")\n",
    "print(Dict_example1.items())\n"
   ]
  },
  {
   "cell_type": "markdown",
   "id": "47a09bc9",
   "metadata": {},
   "source": [
    "***Keys() & Values() methods in Dictionary***"
   ]
  },
  {
   "cell_type": "code",
   "execution_count": null,
   "id": "fef1ec4a",
   "metadata": {},
   "outputs": [],
   "source": [
    "print(\"Keys and values of dictionary can individually be printed using keys() and values() methods as follows\")\n",
    "print(\" \")\n",
    "print(\"Keys from Dictionary:\",Dict_example1.keys())\n",
    "print(\"Values from Dictionary:\",Dict_example1.values())"
   ]
  },
  {
   "cell_type": "markdown",
   "id": "2872c217",
   "metadata": {},
   "source": [
    "***copy() method in Dictionary*** "
   ]
  },
  {
   "cell_type": "code",
   "execution_count": null,
   "id": "9e930cd3",
   "metadata": {},
   "outputs": [],
   "source": [
    "print(\"This method creates a exact replica of existing dictionary\")\n",
    "Dict_example1.copy()"
   ]
  },
  {
   "cell_type": "markdown",
   "id": "781b8294",
   "metadata": {},
   "source": [
    "***Updating an Existing Dictionary using update() method***"
   ]
  },
  {
   "cell_type": "code",
   "execution_count": null,
   "id": "d5980d58",
   "metadata": {},
   "outputs": [],
   "source": [
    "print(\"This method adds new key-value pair in the existing dictionary.\")\n",
    "print(\"\")\n",
    "print(\"Existing dictionary:\",Dict_example1)\n",
    "Dict_example2={'type':'Public'}\n",
    "print(\"New dictionary:\",Dict_example2)\n",
    "print(\"\")\n",
    "print(\"Using update() method for merging of new dictionary with the existing ones:\")\n",
    "Dict_example1.update(Dict_example2)\n",
    "Dict_example1"
   ]
  },
  {
   "cell_type": "markdown",
   "id": "c9d689ee",
   "metadata": {},
   "source": [
    "***Deleting items from Dictionary***"
   ]
  },
  {
   "cell_type": "code",
   "execution_count": null,
   "id": "892f10c6",
   "metadata": {},
   "outputs": [],
   "source": [
    "print(\"\"\"If we need to access 3rd character of var1 then it can be done in a following way  \"\"\")\n",
    "##\"\"\" triple quotes can be used to form a paragraph\n",
    "print(\"\")\n",
    "print ('Third letter of var1:' +var1[2])\n",
    "print ('Last character of var2:' +var2[-1]) #Last character of any string can be refered as index -1,second last character as -2 and so on."
   ]
  },
  {
   "cell_type": "markdown",
   "id": "29bb3a72",
   "metadata": {},
   "source": [
    "***Determining Length of the string using len() function***"
   ]
  },
  {
   "cell_type": "code",
   "execution_count": null,
   "id": "c8af1124",
   "metadata": {},
   "outputs": [],
   "source": [
    "print(\"delete() method: This method helps to delete the items from dictionary.\")\n",
    "print(\"\")\n",
    "del Dict_example1['type'];\n",
    "print(Dict_example1)\n"
   ]
  },
  {
   "cell_type": "markdown",
   "id": "650a868d",
   "metadata": {},
   "source": [
    "***clear() method in Dictionary***"
   ]
  }
 ],
 "metadata": {},
 "nbformat": 4,
 "nbformat_minor": 5
}
