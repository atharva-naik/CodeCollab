{
 "cells": [
  {
   "cell_type": "markdown",
   "id": "8b8fd342",
   "metadata": {},
   "source": [
    "### Setters and Getters\n",
    "We mentioned that there is no private or protected keyword to hide attributes but there is a way to simulate it by using a public name to private names attributes with the **property** keyword.\n",
    "\n",
    "More info at: https://docs.python.org/3/howto/descriptor.html"
   ]
  },
  {
   "cell_type": "markdown",
   "id": "21844624",
   "metadata": {},
   "source": [
    "#### Getters"
   ]
  },
  {
   "cell_type": "code",
   "execution_count": null,
   "id": "4fc10031",
   "metadata": {},
   "outputs": [],
   "source": [
    "class MyHiddenAttributesClass:\n",
    "    def __init__(self):\n",
    "        self.__a = 0\n",
    "        self.__b = 1\n",
    "\n",
    "    @property\n",
    "    def a(self):\n",
    "        return self.__a\n",
    "    \n",
    "    @property\n",
    "    def b(self):\n",
    "        return self.__b\n",
    "\n",
    "my_hidden_object = MyHiddenAttributesClass()\n",
    "print(my_hidden_object.a)\n",
    "print(my_hidden_object.double_b)"
   ]
  },
  {
   "cell_type": "markdown",
   "id": "11e8e332",
   "metadata": {},
   "source": [
    "#### Trying to access \"private\" attribute __a"
   ]
  },
  {
   "cell_type": "code",
   "execution_count": null,
   "id": "56bd965a",
   "metadata": {},
   "outputs": [],
   "source": [
    "try:\n",
    "    print(my_hidden_object.__a)\n",
    "except AttributeError:\n",
    "    print(\"ERROR: Per python mangling we don't find .__a directly. Let's look at __dict__\")\n",
    "    print(my_hidden_object.__dict__)"
   ]
  },
  {
   "cell_type": "markdown",
   "id": "fc43c3e4",
   "metadata": {},
   "source": [
    "#### We cannot modify the property value"
   ]
  },
  {
   "cell_type": "code",
   "execution_count": null,
   "id": "07e2a0ae",
   "metadata": {},
   "outputs": [],
   "source": [
    "# \n",
    "try:\n",
    "    my_hidden_object.a = 2\n",
    "except AttributeError as e:\n",
    "    print('ERROR:', str(e))"
   ]
  },
  {
   "cell_type": "markdown",
   "id": "b614d38a",
   "metadata": {},
   "source": [
    "#### As we said there is no real private attribute, we can modify the mangled attribute, it is just long to type"
   ]
  },
  {
   "cell_type": "code",
   "execution_count": null,
   "id": "057f7553",
   "metadata": {},
   "outputs": [],
   "source": [
    "my_hidden_object._MyHiddenAttributesClass__a = 2"
   ]
  },
  {
   "cell_type": "markdown",
   "id": "d3964697",
   "metadata": {},
   "source": [
    "#### Setters and Deleters \n",
    "We can add the possibility to set and delete by using the setter and deleter methods"
   ]
  },
  {
   "cell_type": "code",
   "execution_count": null,
   "id": "23a9d3cb",
   "metadata": {},
   "outputs": [],
   "source": [
    "class MyHiddenAttributesClassExpandedOperations:\n",
    "    def __init__(self):\n",
    "        self.__a = 0\n",
    "        self.__b = 1\n",
    "\n",
    "    @property\n",
    "    def a(self):\n",
    "        return self.__a\n",
    "\n",
    "    @a.setter\n",
    "    def a(self, value):\n",
    "        self.__a = value\n",
    "\n",
    "    @a.deleter\n",
    "    def a(self):\n",
    "        del self.__a\n",
    "\n",
    "    @property\n",
    "    def b(self):\n",
    "        return self.__b\n",
    "\n",
    "my_hidden_object_expanded_oper = MyHiddenAttributesClassExpandedOperations()"
   ]
  },
  {
   "cell_type": "markdown",
   "id": "14f1397d",
   "metadata": {},
   "source": [
    "#### We can now set the value"
   ]
  }
 ],
 "metadata": {},
 "nbformat": 4,
 "nbformat_minor": 5
}
