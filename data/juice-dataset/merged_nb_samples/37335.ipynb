{
 "cells": [
  {
   "cell_type": "code",
   "execution_count": null,
   "id": "68e713b3",
   "metadata": {},
   "outputs": [],
   "source": [
    "import numpy as np\n",
    "from keras.models import Sequential\n",
    "from keras.layers import Dense\n",
    "from keras.layers import Dropout\n",
    "from keras.layers import LSTM\n",
    "from keras.callbacks import ModelCheckpoint\n",
    "from keras.utils import np_utils"
   ]
  },
  {
   "cell_type": "markdown",
   "id": "1cceb39f",
   "metadata": {},
   "source": [
    "## Text to train on, utf-8 encoded from a book"
   ]
  },
  {
   "cell_type": "code",
   "execution_count": null,
   "id": "1efd2d6f",
   "metadata": {},
   "outputs": [],
   "source": [
    "filename = \"/Users/pranavbarot/Desktop/DataSci/wonderland.txt\"\n",
    "raw_text = open(filename).read()\n",
    "raw_text = raw_text.lower()"
   ]
  },
  {
   "cell_type": "markdown",
   "id": "a7b20303",
   "metadata": {},
   "source": [
    "## Map each character to a number"
   ]
  },
  {
   "cell_type": "code",
   "execution_count": null,
   "id": "991dfbfe",
   "metadata": {},
   "outputs": [],
   "source": [
    "chars = sorted(list(set(raw_text)))\n",
    "char_to_int = dict((c,i) for i,c in enumerate(chars))"
   ]
  },
  {
   "cell_type": "code",
   "execution_count": null,
   "id": "d0587631",
   "metadata": {},
   "outputs": [],
   "source": [
    "n_chars = len(raw_text)\n",
    "n_vocab = len(chars)\n",
    "print (\"Total Characters: \", n_chars)\n",
    "print (\"Total Vocab: \", n_vocab)"
   ]
  },
  {
   "cell_type": "code",
   "execution_count": null,
   "id": "5e50233e",
   "metadata": {},
   "outputs": [],
   "source": [
    "seq_length = 100\n",
    "\n",
    "dataX = []\n",
    "dataY = []\n",
    "\n",
    "for i in range(0, n_chars-seq_length, 1):\n",
    "    seq_in = raw_text[i:i + seq_length]\n",
    "    seq_out = raw_text[i + seq_length]\n",
    "    dataX.append([char_to_int[char] for char in seq_in])\n",
    "    dataY.append(char_to_int[seq_out])\n",
    "n_patterns = len(dataX)\n",
    "print (\"Total Patterns: \", n_patterns)\n"
   ]
  },
  {
   "cell_type": "markdown",
   "id": "22c91517",
   "metadata": {},
   "source": [
    "## one hot encoding for the characters"
   ]
  },
  {
   "cell_type": "code",
   "execution_count": null,
   "id": "4223837c",
   "metadata": {},
   "outputs": [],
   "source": [
    "X = np.reshape(dataX, (n_patterns, seq_length, 1))\n",
    "\n",
    "X = X/float(n_vocab)\n",
    "\n",
    "y = np_utils.to_categorical(dataY)"
   ]
  },
  {
   "cell_type": "markdown",
   "id": "14fc48f5",
   "metadata": {},
   "source": [
    "## Keras LSTM, dropout = 0.2, cross entropy loss, 'adam' optimizer is for speed"
   ]
  },
  {
   "cell_type": "code",
   "execution_count": null,
   "id": "c25b1934",
   "metadata": {},
   "outputs": [],
   "source": [
    "model = Sequential()\n",
    "model.add(LSTM(256, input_shape=(X.shape[1], X.shape[2])))\n",
    "model.add(Dropout(0.2))\n",
    "model.add(Dense(y.shape[1], activation='softmax'))\n",
    "model.compile(loss='categorical_crossentropy', optimizer='adam')"
   ]
  },
  {
   "cell_type": "code",
   "execution_count": null,
   "id": "aaac3ba0",
   "metadata": {},
   "outputs": [],
   "source": [
    "\n",
    "# define the checkpoint\n",
    "filepath=\"weights-improvement-{epoch:02d}-{loss:.4f}.hdf5\"\n",
    "checkpoint = ModelCheckpoint(filepath, monitor='loss', verbose=1, save_best_only=True, mode='min')\n",
    "callbacks_list = [checkpoint]\n"
   ]
  },
  {
   "cell_type": "markdown",
   "id": "b65eaa1f",
   "metadata": {},
   "source": [
    "## not going to fit it on my own computer! training time too long and expensive"
   ]
  }
 ],
 "metadata": {},
 "nbformat": 4,
 "nbformat_minor": 5
}
