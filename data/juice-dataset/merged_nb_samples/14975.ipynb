{
 "cells": [
  {
   "cell_type": "markdown",
   "id": "8f188155",
   "metadata": {},
   "source": [
    "The following cells will load the Vegas dataset."
   ]
  },
  {
   "cell_type": "code",
   "execution_count": null,
   "id": "744fc3b8",
   "metadata": {},
   "outputs": [],
   "source": [
    "import numpy as np\n",
    "import pandas as pd\n",
    "pd.options.display.float_format = '{:,.2f}'.format\n",
    "import matplotlib.pyplot as plt\n",
    "%matplotlib inline"
   ]
  },
  {
   "cell_type": "code",
   "execution_count": null,
   "id": "42b3e821",
   "metadata": {},
   "outputs": [],
   "source": [
    "Vegas = pd.read_csv('vegas.csv')\n",
    "Vegas.columns = Vegas.columns.str.replace('\\.*\\s+', '_').str.lower()"
   ]
  },
  {
   "cell_type": "markdown",
   "id": "534e155d",
   "metadata": {},
   "source": [
    "Before we get started, we're going to want to sort the month variable in order.  The easiest way to do this is to convert this to a `datetime` object.  The following command does this."
   ]
  },
  {
   "cell_type": "code",
   "execution_count": null,
   "id": "2c4cc654",
   "metadata": {},
   "outputs": [],
   "source": [
    "Vegas.review_month = pd.to_datetime( Vegas.review_month, format = '%B' )"
   ]
  },
  {
   "cell_type": "code",
   "execution_count": null,
   "id": "114355af",
   "metadata": {},
   "outputs": [],
   "source": [
    "by_month_pool = Vegas.groupby(['review_month','pool'])"
   ]
  },
  {
   "cell_type": "code",
   "execution_count": null,
   "id": "ff7940bc",
   "metadata": {},
   "outputs": [],
   "source": [
    "by_month_pool.mean()"
   ]
  },
  {
   "cell_type": "markdown",
   "id": "fe77e252",
   "metadata": {},
   "source": [
    "Compute the mean again, but select only the score variable.  Unstack the output so you have a column for hotels with a pool and a column for no pool."
   ]
  },
  {
   "cell_type": "code",
   "execution_count": null,
   "id": "a518fab0",
   "metadata": {},
   "outputs": [],
   "source": [
    "by_month_pool.score.mean().unstack()"
   ]
  },
  {
   "cell_type": "markdown",
   "id": "c43a2db9",
   "metadata": {},
   "source": [
    "Now create a bar plot.  You should have one color for pool, one color for no pool.  Along the x-axis, you should have a pair of bars for January, a pair for February, and so forth. \n",
    "\n",
    "Examine the plot and see if the score increase associated with a pool varies by the time of year."
   ]
  }
 ],
 "metadata": {},
 "nbformat": 4,
 "nbformat_minor": 5
}
