{
 "cells": [
  {
   "cell_type": "markdown",
   "id": "11a86f15",
   "metadata": {},
   "source": [
    "# Malaria Classification Example"
   ]
  },
  {
   "cell_type": "code",
   "execution_count": null,
   "id": "ce76be84",
   "metadata": {},
   "outputs": [],
   "source": [
    "from sklearn import cross_validation, neighbors, metrics\n",
    "%pylab inline"
   ]
  },
  {
   "cell_type": "markdown",
   "id": "571f4b2c",
   "metadata": {},
   "source": [
    "Load dataset of blood smear image patches, with labels corresponding to the presence of absence of plasmodium.\n",
    "\n",
    "<b>Dataset citation:</b><br>\n",
    "J.A. Quinn, A. Andama, I. Munabi, F.N. Kiwanuka. <i>Automated Blood Smear Analysis for Mobile Malaria Diagnosis</i>. Chapter in Mobile Point-of-Care Monitors and Diagnostic Device Design, eds. W. Karlen and K. Iniewski, CRC Press, 2014. <br>http://air.ug/~jquinn/papers/AutomatedMalariaDiagnosisChapter.pdf\n",
    "\n"
   ]
  },
  {
   "cell_type": "code",
   "execution_count": null,
   "id": "e7ea0117",
   "metadata": {},
   "outputs": [],
   "source": [
    "data = np.load('malaria-classification-example.npz')\n",
    "X = data['X']\n",
    "y = data['y']\n",
    "images = data['images']\n"
   ]
  },
  {
   "cell_type": "markdown",
   "id": "3f64e842",
   "metadata": {},
   "source": [
    "### Show sample images with positive labels"
   ]
  },
  {
   "cell_type": "code",
   "execution_count": null,
   "id": "ab63ddb3",
   "metadata": {},
   "outputs": [],
   "source": [
    "pos = np.where(y==1)[0]\n",
    "\n",
    "figsize(6,6)\n",
    "for i in range(36):\n",
    "    plt.subplot(6,6,i+1)\n",
    "    plt.imshow(images[pos[i],:,:], cmap=plt.cm.gray)\n",
    "    plt.xticks([])\n",
    "    \n",
    "    plt.yticks([])"
   ]
  },
  {
   "cell_type": "markdown",
   "id": "26bd27f7",
   "metadata": {},
   "source": [
    "### Show sample images with negative labels"
   ]
  },
  {
   "cell_type": "code",
   "execution_count": null,
   "id": "53b4a788",
   "metadata": {},
   "outputs": [],
   "source": [
    "neg = np.where(y==0)[0]\n",
    "\n",
    "figsize(6,6)\n",
    "for i in range(1,37):\n",
    "    plt.subplot(6,6,i)\n",
    "    plt.imshow(images[neg[i],:,:], cmap=plt.cm.gray)\n",
    "    plt.xticks([])\n",
    "    plt.yticks([])"
   ]
  },
  {
   "cell_type": "markdown",
   "id": "35eeb75a",
   "metadata": {},
   "source": [
    "### Train and test a nearest neighbour classifier"
   ]
  },
  {
   "cell_type": "code",
   "execution_count": null,
   "id": "f6789ff5",
   "metadata": {},
   "outputs": [],
   "source": [
    "X_train, X_test, y_train, y_test = cross_validation.train_test_split(X, y, test_size=0.25)"
   ]
  },
  {
   "cell_type": "code",
   "execution_count": null,
   "id": "af652be5",
   "metadata": {},
   "outputs": [],
   "source": [
    "clf = neighbors.KNeighborsClassifier(n_neighbors=1, weights='distance')\n",
    "clf.fit(X_train, y_train)\n",
    "y_pred = clf.predict(X_test)\n",
    "\n",
    "print('Accuracy = %.3f' % (metrics.accuracy_score(y_test,y_pred>0.5)))"
   ]
  },
  {
   "cell_type": "markdown",
   "id": "73a90e2f",
   "metadata": {},
   "source": [
    "### Show the nearest neighbours for test images"
   ]
  },
  {
   "cell_type": "code",
   "execution_count": null,
   "id": "727d55d8",
   "metadata": {},
   "outputs": [],
   "source": [
    "nn = neighbors.NearestNeighbors(n_neighbors=1)\n",
    "nn.fit(X_train)\n",
    "\n",
    "N_examples = 10\n",
    "figsize(2,15)\n",
    "for i in range(N_examples):\n",
    "    subplot(N_examples,2,2*i+1)\n",
    "    plt.imshow(np.reshape(X_test[i,:],(40,40)), cmap=plt.cm.gray)\n",
    "    plt.title(y_test[i])\n",
    "    plt.xticks([])\n",
    "    plt.yticks([])\n",
    "    \n",
    "    subplot(N_examples,2,2*i+2)\n",
    "    neighbour_idx = int(nn.kneighbors(X_test[i,:])[1])\n",
    "    plt.imshow(np.reshape(X_train[neighbour_idx,:],(40,40)), cmap=plt.cm.gray)\n",
    "    plt.title(y_train[neighbour_idx])\n",
    "    plt.xticks([])\n",
    "    plt.yticks([])"
   ]
  },
  {
   "cell_type": "markdown",
   "id": "1ac10581",
   "metadata": {},
   "source": [
    "### Show the neighbours for test images where the classifier was wrong"
   ]
  },
  {
   "cell_type": "code",
   "execution_count": null,
   "id": "f07db9d5",
   "metadata": {},
   "outputs": [],
   "source": [
    "mistakes = np.where(np.logical_xor(y_pred>.5,y_test))[0]\n",
    "\n",
    "nn = neighbors.NearestNeighbors(n_neighbors=1)\n",
    "nn.fit(X_train)\n",
    "\n",
    "N_examples = 10\n",
    "figsize(2,15)\n",
    "for i in range(N_examples):\n",
    "    subplot(N_examples,2,2*i+1)\n",
    "    plt.imshow(np.reshape(X_test[mistakes[i],:],(40,40)), cmap=plt.cm.gray)\n",
    "    plt.title(y_test[mistakes[i]])\n",
    "    plt.xticks([])\n",
    "    plt.yticks([])\n",
    "    \n",
    "    subplot(N_examples,2,2*i+2)\n",
    "    neighbour_idx = int(nn.kneighbors(X_test[mistakes[i],:])[1])\n",
    "    plt.imshow(np.reshape(X_train[neighbour_idx,:],(40,40)), cmap=plt.cm.gray)\n",
    "    plt.title(y_train[neighbour_idx])\n",
    "    plt.xticks([])\n",
    "    plt.yticks([])"
   ]
  },
  {
   "cell_type": "markdown",
   "id": "6706496a",
   "metadata": {},
   "source": [
    "### Show Receiver Operating Characteristics curve\n",
    "\n",
    "**Exercise 1:** Below we can see the ROC for the classifier on the malaria example. Can you adjust the classifier to make the ROC area better?"
   ]
  },
  {
   "cell_type": "code",
   "execution_count": null,
   "id": "94fa4b5d",
   "metadata": {},
   "outputs": [],
   "source": [
    "from sklearn import neighbors\n",
    "from sklearn import svm\n",
    "from sklearn import naive_bayes\n",
    "from sklearn import tree\n",
    "from sklearn import ensemble\n",
    "\n",
    "clf = neighbors.KNeighborsClassifier(n_neighbors=15, weights='distance')\n",
    "#clf = tree.DecisionTreeClassifier()\n",
    "#clf = ensemble.RandomForestClassifier(n_estimators=50, min_samples_split=1, max_depth=None, max_features=16)\n",
    "#clf = ensemble.ExtraTreesClassifier(n_estimators=100, min_samples_split=1, max_depth=None, max_features=8)\n",
    "#clf = naive_bayes.GaussianNB()\n",
    "    \n",
    "clf.fit(X_train, y_train)\n",
    "y_pred = clf.predict_proba(X_test)[:,1]\n",
    "fpr, tpr, thresholds = metrics.roc_curve(y_test, y_pred)\n",
    "\n",
    "figsize(6,6)\n",
    "plot(fpr, tpr)\n",
    "title('ROC (area under curve=%.3f)' % (metrics.roc_auc_score(y_test, y_pred)))\n",
    "plt.xlabel('FPR')\n",
    "plt.ylabel('TPR')"
   ]
  },
  {
   "cell_type": "markdown",
   "id": "9db8abb5",
   "metadata": {},
   "source": [
    "### Show classifier probabilities on test images"
   ]
  }
 ],
 "metadata": {},
 "nbformat": 4,
 "nbformat_minor": 5
}
