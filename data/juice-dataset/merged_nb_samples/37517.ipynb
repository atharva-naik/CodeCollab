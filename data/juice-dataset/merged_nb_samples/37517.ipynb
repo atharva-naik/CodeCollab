{
 "cells": [
  {
   "cell_type": "markdown",
   "id": "78c27046",
   "metadata": {},
   "source": [
    "# Analysis of Neutron Diffraction Data"
   ]
  },
  {
   "cell_type": "markdown",
   "id": "927115c5",
   "metadata": {},
   "source": [
    "This notebook can be foun in the github repo:\n",
    "https://github.com/gcsantucci/SMC_DataChallenge_Diffraction/blob/master/figs/analysis.md"
   ]
  },
  {
   "cell_type": "markdown",
   "id": "7f33cbe4",
   "metadata": {},
   "source": [
    "This is part of a data science challenge promoted by Oak Ridge National Lab. See more here:\n",
    "\n",
    "https://smc-datachallenge.ornl.gov/\n",
    "\n",
    "This particular challenge is described in more details here:\n",
    "\n",
    "https://smc-datachallenge.ornl.gov/2017/challenge-4/"
   ]
  },
  {
   "cell_type": "markdown",
   "id": "5404c2d0",
   "metadata": {},
   "source": [
    "The main idea of this challenge is to be able to detect phase transitions in a material by looking at curves of intensity as a function of distance (characteristical spacingof the material).\n",
    "The strategy is to look for peaks of intensity at a given temperature, count the number of peaks and characterize them (area, center and width). Then, by doing the same analysis at the adjacent temperatue, we can study if the peak structure changed due to a phase transition."
   ]
  },
  {
   "cell_type": "code",
   "execution_count": null,
   "id": "00b18d42",
   "metadata": {},
   "outputs": [],
   "source": [
    "%matplotlib inline  \n",
    "import os\n",
    "import time\n",
    "import h5py\n",
    "import numpy as np\n",
    "import matplotlib.pyplot as plt\n",
    "from matplotlib import gridspec, pylab\n",
    "from scipy.optimize import curve_fit\n",
    "from scipy import asarray as ar,exp\n",
    "from scipy.integrate import quad\n",
    "from visuals import *\n",
    "from peaks import *"
   ]
  },
  {
   "cell_type": "markdown",
   "id": "70c585ee",
   "metadata": {},
   "source": [
    "Change file location accordingly:"
   ]
  },
  {
   "cell_type": "code",
   "execution_count": null,
   "id": "76bb9943",
   "metadata": {},
   "outputs": [],
   "source": [
    "path = '/Users/santucci/Dropbox/DataScience/SMC_DataChallenge'\n",
    "infile = 'data/Powder_Diffraction.nxs'\n",
    "infile = os.path.join(path, infile)"
   ]
  },
  {
   "cell_type": "markdown",
   "id": "e3bc91ef",
   "metadata": {},
   "source": [
    "Read the file and inpect it:"
   ]
  },
  {
   "cell_type": "code",
   "execution_count": null,
   "id": "520702d2",
   "metadata": {},
   "outputs": [],
   "source": [
    "f = h5py.File(infile, 'r')"
   ]
  },
  {
   "cell_type": "code",
   "execution_count": null,
   "id": "a4c973de",
   "metadata": {},
   "outputs": [],
   "source": [
    "for i in f:\n",
    "    print(i)"
   ]
  },
  {
   "cell_type": "code",
   "execution_count": null,
   "id": "5b1ee1c0",
   "metadata": {},
   "outputs": [],
   "source": [
    "for i in f['entry']:\n",
    "    print(i)"
   ]
  },
  {
   "cell_type": "code",
   "execution_count": null,
   "id": "302056a0",
   "metadata": {},
   "outputs": [],
   "source": [
    "for i in f['entry']['data']:\n",
    "    print(i)"
   ]
  },
  {
   "cell_type": "markdown",
   "id": "384490ff",
   "metadata": {},
   "source": [
    "Let's define the necessary arrays that will be used in our analysis:\n",
    "- ds: Since dspacing (Angstrom) is an array containing the bin edges, we can define a new array contaning the bin centers to plot our data.\n",
    "- I: The intensities 2d-array, containing all the intensity values for a given temperature T: I[T][i]\n",
    "- T: The corresponding temperature (Kelvin) array."
   ]
  },
  {
   "cell_type": "markdown",
   "id": "bc4b31b5",
   "metadata": {},
   "source": [
    "The GetPeaks function below is a simplified version of a matlab based peak detection algorithm (insert reference here!!).\n",
    "This is one of the key parts of our algorithm. The way it works is basically we say that all points in the data are peaks, then we remove all of the points that are below some threshold (user input), and then we remove points that are too close to other peaks (user input).\n",
    "\n",
    "The full algorithm can also look for valleys (by negating the data) and more complicated peak structure. But we have simplified the function since the data structure that we have is simpler."
   ]
  },
  {
   "cell_type": "markdown",
   "id": "764b18d4",
   "metadata": {},
   "source": [
    "### Inspecting the data:"
   ]
  },
  {
   "cell_type": "markdown",
   "id": "10c8cf30",
   "metadata": {},
   "source": [
    "Let's look at a few curves I(d) for random values of temperature to get familiarized with the data:"
   ]
  },
  {
   "cell_type": "code",
   "execution_count": null,
   "id": "9d456e87",
   "metadata": {},
   "outputs": [],
   "source": [
    "ncols = 3\n",
    "nrows = 3\n",
    "nfigs = ncols * nrows\n",
    "\n",
    "fig = plt.figure(1, figsize=(6*ncols, 5*nrows))\n",
    "for ifig in range(nfigs):\n",
    "    itemp = np.random.randint(len(T))\n",
    "    plt.subplot(nrows, ncols, ifig+1)\n",
    "    plt.title('I(d) for T = {} K'.format(round(T[itemp]),2))\n",
    "    plt.plot(ds,I[itemp])\n",
    "    plt.xlabel('d (Angstrom)')\n",
    "    plt.ylabel('Intensity')\n",
    "plt.show()"
   ]
  },
  {
   "cell_type": "markdown",
   "id": "abeb0bf0",
   "metadata": {},
   "source": [
    "# Characterization of the 3.25 A Peak"
   ]
  },
  {
   "cell_type": "markdown",
   "id": "5e8658a1",
   "metadata": {},
   "source": [
    "Let's study the peak between 3.2 and 3.3 A for all temperatures. Namely, let's look at the center of the peak (d spacing coordinate), the area under the peak and a typical width."
   ]
  },
  {
   "cell_type": "markdown",
   "id": "9522b126",
   "metadata": {},
   "source": [
    "Let's concentrate in the (3.2,3.3) A region:"
   ]
  },
  {
   "cell_type": "code",
   "execution_count": null,
   "id": "216c91d5",
   "metadata": {},
   "outputs": [],
   "source": [
    "def CharacterizePeaks(dsmin, dsmax):\n",
    "    X = ds[np.argwhere((ds>dsmin)&(ds<dsmax))].flatten()\n",
    "    Y = np.array([i[np.argwhere((ds>dsmin)&(ds<dsmax))].flatten() for i in I])\n",
    "\n",
    "    AreaPeak = []\n",
    "    MeanPeak = []\n",
    "    WidthPeak = []\n",
    "    BkgPeak = []\n",
    "    AvgPeak = []\n",
    "    LSEPeak = []\n",
    "\n",
    "    for temp, y in enumerate(Y):\n",
    "        area, mean, sigma = GetSeed(X, y)\n",
    "        bkg, err = GetBkg(I[temp])\n",
    "        popt, pcov = curve_fit(gaus_b, X, y, p0=[area, mean, sigma, bkg])\n",
    "        A, x0, sigma, b = popt\n",
    "        Yhat = np.array([gaus_b(x, A, x0, sigma, b) for x in X])\n",
    "        res = Yhat - y\n",
    "        AreaPeak.append(A)\n",
    "        MeanPeak.append(x0)\n",
    "        WidthPeak.append(sigma)\n",
    "        BkgPeak.append(b)\n",
    "        AvgPeak.append(y[np.argwhere(X<3.24)].flatten().mean())\n",
    "        LSEPeak.append(LSE(X, y, A, x0, sigma, b, err))\n",
    "\n",
    "    AreaPeak = np.array(AreaPeak)\n",
    "    MeanPeak = np.array(MeanPeak)\n",
    "    WidthPeak = np.array(WidthPeak)\n",
    "    BkgPeak = np.array(BkgPeak)\n",
    "    AvgPeak = np.array(AvgPeak)\n",
    "    LSEPeak = np.array(LSEPeak)\n",
    "    return X, Y, AreaPeak, MeanPeak, WidthPeak, BkgPeak, AvgPeak, LSEPeak"
   ]
  },
  {
   "cell_type": "code",
   "execution_count": null,
   "id": "f34d70ad",
   "metadata": {},
   "outputs": [],
   "source": [
    "X, Y, AreaPeak, MeanPeak, WidthPeak, BkgPeak, AvgPeak, LSEPeak = CharacterizePeaks(3.2, 3.3)"
   ]
  },
  {
   "cell_type": "markdown",
   "id": "5184b9b9",
   "metadata": {},
   "source": [
    "After fitting a gausian+background to all 3.25 A peaks (for all temperatures), we can look at the distribution of area, center and width for these different temperatures:"
   ]
  },
  {
   "cell_type": "code",
   "execution_count": null,
   "id": "ef371b06",
   "metadata": {},
   "outputs": [],
   "source": [
    "fig = plt.figure(5, figsize=(12,18))\n",
    "\n",
    "ax1 = plt.subplot(511)\n",
    "plt.plot(T, AreaPeak, 'b.-', label='Area')\n",
    "plt.legend()\n",
    "plt.title('Area under the 3.25 A Peak vs Temperature (K)')\n",
    "plt.xlabel('Temperature (K)')\n",
    "plt.ylabel('Area under the 3.25 A Peak')\n",
    "plt.setp(ax1.get_xticklabels(), fontsize=10)\n",
    "\n",
    "ax2 = plt.subplot(512, sharex=ax1)\n",
    "plt.plot(T, MeanPeak, 'r.-', label='Mean')\n",
    "plt.legend()\n",
    "plt.title('Mean of the 3.25 A Peak vs Temperature (K)')\n",
    "plt.xlabel('Temperature (K)')\n",
    "plt.ylabel('Mean of the 3.25 A Peak')\n",
    "\n",
    "ax3 = plt.subplot(513, sharex=ax1)\n",
    "plt.plot(T, WidthPeak, 'k.-', label='Width')\n",
    "plt.legend()\n",
    "plt.title('Width of the 3.25 A Peak vs Temperature (K)')\n",
    "plt.xlabel('Temperature (K)')\n",
    "plt.ylabel('Width of the 3.25 A Peak')\n",
    "\n",
    "ax4 = plt.subplot(514, sharex=ax1)\n",
    "plt.plot(T, BkgPeak, 'g.-', label='Background')\n",
    "plt.plot(T, AvgPeak, 'y.-', label='Average <3.24')\n",
    "plt.legend()\n",
    "plt.title('Background level around the 3.25 A Peak vs Temperature (K)')\n",
    "plt.xlabel('Temperature (K)')\n",
    "plt.ylabel('Background level around the 3.25 A Peak')\n",
    "\n",
    "ax5 = plt.subplot(515, sharex=ax1)\n",
    "plt.plot(T, LSEPeak, '.-', label='LSE')\n",
    "plt.legend()\n",
    "plt.title('Least Squares for the 3.25 A Peak vs Temperature (K)')\n",
    "plt.xlabel('Temperature (K)')\n",
    "plt.ylabel('LSE')\n",
    "\n",
    "plt.tight_layout()\n",
    "plt.show()"
   ]
  },
  {
   "cell_type": "markdown",
   "id": "ee11d4a2",
   "metadata": {},
   "source": [
    "Let's normalize the data for visualization purposes:"
   ]
  },
  {
   "cell_type": "code",
   "execution_count": null,
   "id": "f5baf8ad",
   "metadata": {},
   "outputs": [],
   "source": [
    "AreaNorm = Norm(AreaPeak)\n",
    "MeanNorm = Norm(MeanPeak)\n",
    "WidthNorm = Norm(WidthPeak)"
   ]
  },
  {
   "cell_type": "code",
   "execution_count": null,
   "id": "548b1819",
   "metadata": {},
   "outputs": [],
   "source": [
    "fig = plt.figure(3, figsize=(12,15))\n",
    "\n",
    "ax1 = plt.subplot(311)\n",
    "plt.plot(T, AreaNorm, 'b.-', label='Area')\n",
    "plt.plot(T, MeanNorm, 'r.-', label='Mean')\n",
    "plt.plot(T, WidthNorm, 'k.-', label='Width')\n",
    "plt.legend()\n",
    "plt.xlabel('Temperature (K)')\n",
    "plt.show()"
   ]
  },
  {
   "cell_type": "markdown",
   "id": "8523efcc",
   "metadata": {},
   "source": [
    "We can clearly see some interesting structure around T=150 K. Let's study this region more carefully:"
   ]
  },
  {
   "cell_type": "code",
   "execution_count": null,
   "id": "bab33dad",
   "metadata": {},
   "outputs": [],
   "source": [
    "phase = [i[0] for i in np.argwhere((T>149)&(T<151))]"
   ]
  },
  {
   "cell_type": "code",
   "execution_count": null,
   "id": "497ebf8a",
   "metadata": {},
   "outputs": [],
   "source": [
    "T[phase]"
   ]
  },
  {
   "cell_type": "code",
   "execution_count": null,
   "id": "019c2739",
   "metadata": {},
   "outputs": [],
   "source": [
    "temp = 0\n",
    "\n",
    "fig = plt.figure(2, figsize=(8,6))\n",
    "ax1 = plt.subplot(211)\n",
    "plt.plot(X, Y[temp], 'b.', label='T = {}'.format(round(T[temp], 1) ))\n",
    "plt.legend()\n",
    "plt.title('Intensity Curves')\n",
    "frame = pylab.gca()\n",
    "frame.axes.get_xaxis().set_ticks([])\n",
    "plt.ylabel('Intensity')\n",
    "\n",
    "temp = 64\n",
    "ax2 = plt.subplot(212)\n",
    "plt.plot(X, Y[temp], 'b.', label='T = {}'.format(round(T[temp], 1)))\n",
    "plt.legend()\n",
    "plt.xlabel('dspacing (A)')\n",
    "plt.ylabel('Intensity')\n",
    "\n",
    "plt.subplots_adjust(hspace=.003)\n",
    "\n",
    "plt.show()"
   ]
  },
  {
   "cell_type": "code",
   "execution_count": null,
   "id": "03ca8081",
   "metadata": {},
   "outputs": [],
   "source": [
    "temp = [0, 30, 64, 100]\n",
    "for itemp in temp:\n",
    "    TestFit(X, Y[itemp], round(T[itemp], 1))"
   ]
  },
  {
   "cell_type": "markdown",
   "id": "19d092fb",
   "metadata": {},
   "source": [
    "We can clearly see that the 3.25 A peak structure at $T = 150$ K does not look gausian at all. Therefore the fit fails ( chi2 and residues indicate a problem) and our fitted values for A, c and w are not good. But since we are interested in finding a phase transition temperature we can still use the simple tools developed here so far. We can not trust the value for Area for example, but the value itslef is not important.\n",
    "\n",
    "The important thing to keep in mind is how to find $T_{transition}$ !"
   ]
  },
  {
   "cell_type": "markdown",
   "id": "698154a0",
   "metadata": {},
   "source": [
    "## Peak Detection"
   ]
  },
  {
   "cell_type": "markdown",
   "id": "41f7104b",
   "metadata": {},
   "source": [
    "Given a temperature T, let's find all the Intensity peaks and characterize them. We find peaks by using the detect_peaks function [1] and characterize them with the gausian fit just like in Q2.\n",
    "\n",
    "[1] http://nbviewer.jupyter.org/github/demotu/BMC/blob/master/notebooks/DetectPeaks.ipynb"
   ]
  }
 ],
 "metadata": {},
 "nbformat": 4,
 "nbformat_minor": 5
}
