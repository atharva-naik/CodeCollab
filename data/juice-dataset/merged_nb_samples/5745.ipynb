{
 "cells": [
  {
   "cell_type": "code",
   "execution_count": null,
   "id": "1b728da6",
   "metadata": {},
   "outputs": [],
   "source": [
    "import adaptive_trapezint as prob1\n",
    "import sinesum1 as prob2\n",
    "import centered_diff as prob3\n",
    "import find_primes as prob4"
   ]
  },
  {
   "cell_type": "markdown",
   "id": "efc624d7",
   "metadata": {},
   "source": [
    "# Homework 1\n",
    "\n",
    "## Chinmai Raman\n",
    "\n",
    "2/12/2016\n",
    "\n",
    "### Problem Set:\n",
    "\n",
    "3.8 adaptive_trapezint.py\n",
    "\n",
    "3.15 sinesum1.py\n",
    "\n",
    "3.18 centered_diff.py\n",
    "\n",
    "3.34 find_primes.py\n",
    "\n",
    "## Adaptive Trapezint\n",
    "Uses the Trapezoid Rule to find the integral of a function within a given error margin,\n",
    "and outputs the number of trapezoids used."
   ]
  },
  {
   "cell_type": "code",
   "execution_count": null,
   "id": "d6ade7f7",
   "metadata": {},
   "outputs": [],
   "source": [
    "prob1.integrals()"
   ]
  },
  {
   "cell_type": "markdown",
   "id": "c54c5f5f",
   "metadata": {},
   "source": [
    "## Sine Summation\n",
    "\n",
    "Approximates a piecewise constant function by a sum of sines"
   ]
  },
  {
   "cell_type": "code",
   "execution_count": null,
   "id": "6c6e15ec",
   "metadata": {},
   "outputs": [],
   "source": [
    "prob2.output()"
   ]
  },
  {
   "cell_type": "markdown",
   "id": "713fffa7",
   "metadata": {},
   "source": [
    "As n increases, the quality of the approximation is better, and error is reduced. For a given n\n",
    "(for example, 100) as alpha increases, the error seems to reduce and subsequently increase. "
   ]
  },
  {
   "cell_type": "markdown",
   "id": "613b8831",
   "metadata": {},
   "source": [
    "## Centered Differentiation\n",
    "\n",
    "A function for numerical differentiation and errors in approximation."
   ]
  },
  {
   "cell_type": "code",
   "execution_count": null,
   "id": "a6512aff",
   "metadata": {},
   "outputs": [],
   "source": [
    "prob3.application()"
   ]
  },
  {
   "cell_type": "markdown",
   "id": "07dcfa82",
   "metadata": {},
   "source": [
    "## Sieve of Eratosthenes\n",
    "\n",
    "Finds all prime numbers less than or equal to a given number N."
   ]
  }
 ],
 "metadata": {},
 "nbformat": 4,
 "nbformat_minor": 5
}
