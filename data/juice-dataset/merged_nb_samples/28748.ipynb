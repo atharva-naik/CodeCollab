{
 "cells": [
  {
   "cell_type": "markdown",
   "id": "3eec1121",
   "metadata": {},
   "source": [
    "# Unit roots\n",
    "By Evgenia \"Jenny\" Nitishinskaya and Delaney Granizo-Mackenzie\n",
    "\n",
    "Notebook released under the Creative Commons Attribution 4.0 License.\n",
    "\n",
    "---\n",
    "\n",
    "A time series is said to have a unit root if it is described by the equation $y_t = b_0 + y_{t-1} + \\epsilon_t$, where $\\epsilon_t$ is an error term with mean 0. Such a time series is not covariance stationary, i.e. its covariance changes through time. For example, a random walk has a unit root, and its covariance grows over time.\n",
    "\n",
    "The Dickey-Fuller test (available in `statsmodels`) tests for the presense of a unit root in a series."
   ]
  }
 ],
 "metadata": {},
 "nbformat": 4,
 "nbformat_minor": 5
}
