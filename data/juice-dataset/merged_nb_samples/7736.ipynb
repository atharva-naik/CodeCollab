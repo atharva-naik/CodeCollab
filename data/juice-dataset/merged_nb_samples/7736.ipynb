{
 "cells": [
  {
   "cell_type": "markdown",
   "id": "31bfa61a",
   "metadata": {},
   "source": [
    "# Writing Functions\n",
    "\n",
    "This lecture discusses the mechanics of writing functions and how to encapsulate scripts as functions."
   ]
  },
  {
   "cell_type": "code",
   "execution_count": null,
   "id": "907bcbb1",
   "metadata": {},
   "outputs": [],
   "source": [
    "# Example: We're going to use Pandas dataframes to create a gradebook for this course\n",
    "\n",
    "import pandas as pd\n",
    "\n",
    "# Student Rosters:\n",
    "section_1_students = ['Hao', 'Jennifer', 'Alex']\n",
    "section_2_students = ['Christa', 'Troy', 'Xin']\n",
    "\n",
    "# Gradebook columns:\n",
    "columns = ['raw_grade', 'did_extra_credit', 'final_grade']\n",
    "\n",
    "# Let's create two dataframes, one for each class section\n",
    "section_1_gradebook = pd.DataFrame(index=section_1_students, columns=columns)\n",
    "section_2_gradebook = pd.DataFrame(index=section_2_students, columns=columns)\n",
    "\n",
    "print(\"Section 1 Gradebook:\")\n",
    "print(section_1_gradebook)\n",
    "\n",
    "print(\"\\n\") # prints a newline character to put an empty line\n",
    "\n",
    "print(\"Section 2 Gradebook:\")\n",
    "print(section_2_gradebook)"
   ]
  },
  {
   "cell_type": "code",
   "execution_count": null,
   "id": "35808de2",
   "metadata": {},
   "outputs": [],
   "source": [
    "# Now let's add some data\n",
    "# (in real life we might load this from a CSV or other file)\n",
    "section_1_gradebook.loc['Hao']['raw_grade'] = 80\n",
    "section_1_gradebook.loc['Hao']['did_extra_credit'] = True # python supports boolean (True/False) values\n",
    "section_1_gradebook.loc['Jennifer']['raw_grade'] = 98\n",
    "section_1_gradebook.loc['Jennifer']['did_extra_credit'] = False\n",
    "section_1_gradebook.loc['Alex']['raw_grade'] = 85\n",
    "section_1_gradebook.loc['Alex']['did_extra_credit'] = True\n",
    "\n",
    "section_2_gradebook.loc['Christa']['raw_grade'] = 91\n",
    "section_2_gradebook.loc['Christa']['did_extra_credit'] = False\n",
    "section_2_gradebook.loc['Troy']['raw_grade'] = 89\n",
    "section_2_gradebook.loc['Troy']['did_extra_credit'] = True\n",
    "section_2_gradebook.loc['Xin']['raw_grade'] = 89\n",
    "section_2_gradebook.loc['Xin']['did_extra_credit'] = False\n",
    "                            \n",
    "print(\"Section 1 Gradebook:\")\n",
    "print(section_1_gradebook)\n",
    "\n",
    "print(\"\\n\") # prints a newline character to put an empty line\n",
    "\n",
    "print(\"Section 2 Gradebook:\")\n",
    "print(section_2_gradebook)\n",
    "\n"
   ]
  },
  {
   "cell_type": "code",
   "execution_count": null,
   "id": "db3cd42e",
   "metadata": {},
   "outputs": [],
   "source": [
    "# Let's give everyone who did Extra Credit 5 additional points\n",
    "# But we'll put a max of 100 points\n",
    "\n",
    "# We'll do section 1 first:\n",
    "\n",
    "\n",
    "\n",
    "\n",
    "# Now let's print out the results:\n",
    "print(\"Section 1 Final Grades:\")\n",
    "print(section_1_gradebook)\n",
    "\n"
   ]
  },
  {
   "cell_type": "code",
   "execution_count": null,
   "id": "cfcb0810",
   "metadata": {},
   "outputs": [],
   "source": [
    "# Now let's do Section 2:\n",
    "\n",
    "\n",
    "        \n",
    "# Now let's print out the results:        \n",
    "print(\"Section 2 Final Grades:\")\n",
    "print(section_2_gradebook)"
   ]
  },
  {
   "cell_type": "markdown",
   "id": "2d0dd035",
   "metadata": {},
   "source": [
    "## Copying and pasting code can introduce bugs:  \n",
    "You might forget to change a variable name.  \n",
    "\n",
    "If you later make a change (like making extra credit worth 10 points instead of 5), you need to remember to change it in multiple places.\n",
    "\n",
    "If we put the code in a function, we can avoid these problems!"
   ]
  },
  {
   "cell_type": "code",
   "execution_count": null,
   "id": "1916a1bc",
   "metadata": {},
   "outputs": [],
   "source": [
    "# Let's put our extra credit code in a function!\n",
    "\n"
   ]
  },
  {
   "cell_type": "markdown",
   "id": "70c7c872",
   "metadata": {},
   "source": [
    "## Why write functions?\n",
    "1. Easily reuse code (without introducing bugs)\n",
    "2. Easy testing of components\n",
    "    <ul>\n",
    "    <li>Later in the course we will learn about writing unit tests. You will create a set of input values for a function representing potential scenarios, and will test that the function is generating the expected output.\n",
    "    </ul>\n",
    "3. Better readability\n",
    "    <ul>\n",
    "    <li>Functions encapsulate your code into components with meaningful names. You can get a high-level view of what the code is doing, then dive into the function definitions if you need more detail.         \n",
    "    </ul>"
   ]
  },
  {
   "cell_type": "markdown",
   "id": "c9a401f3",
   "metadata": {},
   "source": [
    "## A function should have one task\n",
    "\n",
    "Functions should usually be pretty short.  \n",
    "\n",
    "It's good to think about functions as trying to do one single thing."
   ]
  },
  {
   "cell_type": "code",
   "execution_count": null,
   "id": "7cfb1f2e",
   "metadata": {},
   "outputs": [],
   "source": [
    "# Let's decompose our other function into two functions that each do one thing\n",
    "\n",
    "\n",
    "extra_credit_value = 10\n",
    "add_final_grades_for_section(section_1_gradebook, extra_credit_value)\n",
    "add_final_grades_for_section(section_2_gradebook, extra_credit_value)"
   ]
  },
  {
   "cell_type": "markdown",
   "id": "1290a41c",
   "metadata": {},
   "source": [
    "## Mechanics of Writing a Function\n",
    "- Function definition line - How python knows that this is a function\n",
    "- Function body - Code that does the computation of the function\n",
    "- Arguments - the values passed to a function\n",
    "- Formal parameters - the values accepted by the function\n",
    "    (the arguments become the formal parameters once they are inside the function)\n",
    "- Return values - value returned to the caller\n",
    "\n",
    "\n",
    "If you are familiar with other languages like Java, you may have needed to declare the types of the parameters and return value. This is not necessary in Python."
   ]
  },
  {
   "cell_type": "code",
   "execution_count": null,
   "id": "d7df40ae",
   "metadata": {},
   "outputs": [],
   "source": [
    "\n",
    "def example_addition_function(num_1, num_2):\n",
    "    \"\"\"\n",
    "    This function adds two numbers.\n",
    "    \n",
    "    example_addition_function is the function name\n",
    "\n",
    "    Parameters:\n",
    "        num_1: This is the first formal parameter\n",
    "        num_2: This is the second formal parameter\n",
    "\n",
    "    Returns:\n",
    "        sum of num_1 and num_2\n",
    "    \n",
    "    \"\"\"    \n",
    "    added_value = num_1 + num_2\n",
    "    return added_value\n",
    "\n",
    "arg_1 = 5\n",
    "arg_2 = 10\n",
    "result_value = example_addition_function(arg_1, arg_2) # arg_1 and arg_2 are the arguments to the function\n",
    "    "
   ]
  },
  {
   "cell_type": "markdown",
   "id": "7213eb1f",
   "metadata": {},
   "source": [
    "# Variable names and scope\n",
    "\n",
    "In Python, variables have a scope (a context in which they are valid).  \n",
    "\n",
    "Variables created in a function cannot be referenced outside of a function"
   ]
  },
  {
   "cell_type": "code",
   "execution_count": null,
   "id": "198d642b",
   "metadata": {},
   "outputs": [],
   "source": [
    "def print_message(message):\n",
    "    message_to_print = \"Here is your message: \" + message\n",
    "    print(message_to_print)\n",
    "    \n",
    "my_message = \"Hello, class!\"\n",
    "print_message(my_message)\n",
    "\n",
    "#print(message_to_print) # this will cause an error. This variable only exists within the function."
   ]
  },
  {
   "cell_type": "markdown",
   "id": "e0e551c4",
   "metadata": {},
   "source": [
    "If you modify an object (like a list or a dataframe) inside of a function, the modifications will affect its value outside of the function"
   ]
  },
  {
   "cell_type": "code",
   "execution_count": null,
   "id": "45bbc186",
   "metadata": {},
   "outputs": [],
   "source": [
    "def add_name_to_list(name_list, new_name):\n",
    "    name_list.append(new_name)\n",
    "    \n",
    "teachers = [\"Bernease\", \"Dave\", \"Joe\"]\n",
    "print(teachers)\n",
    "add_name_to_list(teachers, \"Colin\")\n",
    "print(teachers)"
   ]
  },
  {
   "cell_type": "markdown",
   "id": "caf80830",
   "metadata": {},
   "source": [
    "## Exercise: Write a function to determine if a number is prime\n",
    "\n",
    "Below is some code that checks if a number is prime. The code has a bug in it!\n"
   ]
  }
 ],
 "metadata": {},
 "nbformat": 4,
 "nbformat_minor": 5
}
