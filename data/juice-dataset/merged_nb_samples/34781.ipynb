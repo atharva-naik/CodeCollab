{
 "cells": [
  {
   "cell_type": "code",
   "execution_count": null,
   "id": "9e6ae65a",
   "metadata": {},
   "outputs": [],
   "source": [
    "#  Ebnable HTML/CSS \n",
    "from IPython.core.display import HTML\n",
    "HTML(\"<link href='https://fonts.googleapis.com/css?family=Passion+One' rel='stylesheet' type='text/css'><style>div.attn { font-family: 'Helvetica Neue'; font-size: 30px; line-height: 40px; color: #FFFFFF; text-align: center; margin: 30px 0; border-width: 10px 0; border-style: solid; border-color: #5AAAAA; padding: 30px 0; background-color: #DDDDFF; }hr { border: 0; background-color: #ffffff; border-top: 1px solid black; }hr.major { border-top: 10px solid #5AAA5A; }hr.minor { border: none; background-color: #ffffff; border-top: 5px dotted #CC3333; }div.bubble { width: 65%; padding: 20px; background: #DDDDDD; border-radius: 15px; margin: 0 auto; font-style: italic; color: #f00; }em { color: #AAA; }div.c1{visibility:hidden;margin:0;height:0;}div.note{color:red;}</style>\")"
   ]
  },
  {
   "cell_type": "markdown",
   "id": "10faa669",
   "metadata": {},
   "source": [
    "___\n",
    "Enter Team Member Names here (*double click to edit*):\n",
    "\n",
    "- Name 1: Ian Johnson\n",
    "- Name 2: Derek Phanekham\n",
    "- Name 3: Travis Siems\n",
    "\n",
    "___"
   ]
  },
  {
   "cell_type": "markdown",
   "id": "abce2ef7",
   "metadata": {},
   "source": [
    "# In Class Assignment Two\n",
    "In the following assignment you will be asked to fill in python code and derivations for a number of different problems. Please read all instructions carefully and turn in the rendered notebook (or HTML of the rendered notebook)  before the end of class (or right after class). The initial portion of this notebook is given before class and the remainder is given during class. Please answer the initial questions before class, to the best of your ability. Once class has started you may rework your answers as a team for the initial part of the assignment. \n",
    "\n",
    "<a id=\"top\"></a>\n",
    "## Contents\n",
    "* <a href=\"#Loading\">Loading the Data</a>\n",
    "* <a href=\"#svm\">Linear SVMs</a>\n",
    "* <a href=\"#svm_using\">Using Linear SVMs</a>\n",
    "* <a href=\"#nonlinear\">Non-linear SVMs</a>\n",
    "\n",
    "________________________________________________________________________________________________________\n",
    "\n",
    "<a id=\"Loading\"></a>\n",
    "<a href=\"#top\">Back to Top</a>\n",
    "## Loading the Data\n",
    "Please run the following code to read in the \"olivetti faces\" dataset from sklearn's data loading module. \n",
    "\n",
    "This will load the data into the variable `ds`. `ds` is a `bunch` object with fields like `ds.data` and `ds.target`. The field `ds.data` is a numpy matrix of the continuous features in the dataset. **The object is not a pandas dataframe. It is a numpy matrix.** Each row is a set of observed instances, each column is a different feature. It also has a field called `ds.target` that is an integer value we are trying to predict (i.e., a specific integer represents a specific person). Each entry in `ds.target` is a label for each row of the `ds.data` matrix. "
   ]
  },
  {
   "cell_type": "code",
   "execution_count": null,
   "id": "dfba59ab",
   "metadata": {},
   "outputs": [],
   "source": [
    "# fetch the images for the dataset\n",
    "# this will take a long time the first run because it needs to download\n",
    "# after the first time, the dataset will be save to your disk (in sklearn package somewhere) \n",
    "# if this does not run, you may need additional libraries installed on your system (install at your own risk!!)\n",
    "from sklearn.datasets import fetch_lfw_people\n",
    "\n",
    "lfw_people = fetch_lfw_people(min_faces_per_person=20, resize=None)"
   ]
  },
  {
   "cell_type": "code",
   "execution_count": null,
   "id": "36f505d6",
   "metadata": {},
   "outputs": [],
   "source": [
    "# get some of the specifics of the dataset\n",
    "X = lfw_people.data\n",
    "y = lfw_people.target\n",
    "names = lfw_people.target_names\n",
    "\n",
    "n_samples, n_features = X.shape\n",
    "_, h, w = lfw_people.images.shape\n",
    "n_classes = len(names)\n",
    "\n",
    "print(\"n_samples: {}\".format(n_samples))\n",
    "print(\"n_features: {}\".format(n_features))\n",
    "print(\"n_classes: {}\".format(n_classes))\n",
    "print(\"Original Image Sizes {} by {}\".format(h,w))\n",
    "print (125*94) # the size of the images are the size of the feature vectors"
   ]
  },
  {
   "cell_type": "markdown",
   "id": "88a4c75e",
   "metadata": {},
   "source": [
    "**Question 1:** For the faces dataset, describe what the data represents? That is, what is each column? What is each row? What do the unique class values represent?"
   ]
  },
  {
   "cell_type": "markdown",
   "id": "e5d08f49",
   "metadata": {},
   "source": [
    "Every column is a pixel location in a 125x94 photograph.\n",
    "\n",
    "Each row is a single image of someone's face.\n",
    "\n",
    "The unique class values are the names of the people in the photographs."
   ]
  },
  {
   "cell_type": "markdown",
   "id": "3b16adbe",
   "metadata": {},
   "source": [
    "<a id=\"svm\"></a>\n",
    "<a href=\"#top\">Back to Top</a>\n",
    "## Linear Support Vector Machines\n",
    "\n",
    "**Question 2:** If we were to train a linear Support Vector Machine (SVM) upon the faces data, how many parameters would need to be optimized in the model? That is, how many coefficients would need to be calculated?\n"
   ]
  },
  {
   "cell_type": "markdown",
   "id": "ff7a4004",
   "metadata": {},
   "source": [
    "728,562 coefficients need to be calculated"
   ]
  },
  {
   "cell_type": "code",
   "execution_count": null,
   "id": "aba02579",
   "metadata": {},
   "outputs": [],
   "source": [
    "# Enter any scratchwork or calculations here\n",
    "w_size = 62*(11750+1)\n",
    "print(w_size)"
   ]
  },
  {
   "cell_type": "markdown",
   "id": "f899cf96",
   "metadata": {},
   "source": [
    "**Question 3:** \n",
    "- **Part A:** Given the number of parameters calculated above, would you expect the model to train quickly using **batch optimization techniques**? Why or why not? \n",
    "- **Part B:** Is there a way to reduce training time?\n",
    "- **Part C:** If we transformed the X data using principle components analysis (PCA) with 100 components, how many parameters would we need to find for a linear Support Vector Machine (SVM)?"
   ]
  },
  {
   "cell_type": "markdown",
   "id": "5f2ff999",
   "metadata": {},
   "source": [
    "*Enter you answer here (double click)*\n",
    "\n",
    "\n",
    "A. It would be very slow using batch optimization techniques due to the cost of computing the gradient. Lots of multiplies and accumulates are required due to the large number of parameters in the data.\n",
    "\n",
    "B.  Yes. This could be done using minibatch or stochastic gradient descent, which would run a lot faster.\n",
    "We could also use PCA to reduce the dimensionality and then train a model using the reduced dimensions.\n",
    "\n",
    "C. 6262 parameters would need to be optimized.\n",
    "___"
   ]
  },
  {
   "cell_type": "code",
   "execution_count": null,
   "id": "5cf3f7d9",
   "metadata": {},
   "outputs": [],
   "source": [
    "# Enter any scratchwork or calculations here\n",
    "\n",
    "print('Part C. With 100 features: ', 62*(101))"
   ]
  },
  {
   "cell_type": "markdown",
   "id": "ccf48667",
   "metadata": {},
   "source": [
    "___\n",
    "<a id=\"svm_using\"></a>\n",
    "<a href=\"#top\">Back to Top</a>\n",
    "\n",
    "# Using Linear SVMs\n",
    "\n",
    "**Exercise 1:** Use the block of code below to check if the number of parameters you calculated is equal to the number of parameters returned by `sklearn`'s implementation of the Linear SVM. **Was your calculation correct? If different, can you think of a reason why the parameters would not match?**"
   ]
  },
  {
   "cell_type": "code",
   "execution_count": null,
   "id": "27b6f243",
   "metadata": {},
   "outputs": [],
   "source": [
    "from sklearn.svm import LinearSVC\n",
    "from sklearn.decomposition import RandomizedPCA\n",
    "\n",
    "n_components = 100\n",
    "pca = RandomizedPCA(n_components=n_components)\n",
    "Xpca = pca.fit_transform(X)\n",
    "\n",
    "clf = LinearSVC()\n",
    "clf.fit(Xpca,y)"
   ]
  },
  {
   "cell_type": "code",
   "execution_count": null,
   "id": "e8540e50",
   "metadata": {},
   "outputs": [],
   "source": [
    "#===================================================================\n",
    "# Enter you code below to calculate the number of parameters in the model \n",
    "\n",
    "print(sum([len(x) for x in clf.coef_]) + len(clf.intercept_))\n",
    "#==================================================================="
   ]
  },
  {
   "cell_type": "markdown",
   "id": "bea5f2be",
   "metadata": {},
   "source": [
    "Our calculation is the same. Between the 6200 items in the coefficient matrix and the 62 values in the intercept vector, the total number of weights computed is 6262, which is what we originally calculated"
   ]
  },
  {
   "cell_type": "markdown",
   "id": "af891e33",
   "metadata": {},
   "source": [
    "___\n",
    "**Exercise 2:** Use the starter code below to calculate two quantities: \n",
    "- **Part A.:** The overall accuracy of the trained linear svm on the training set\n",
    "- **Part B.:** The *mean, standard deviation, maximum, and minimum* of the **accuracy per class** on the training set\n",
    "\n",
    "You might be interested in the following documentation of the confusion matrix calculated by `scikit-learn`:\n",
    "- http://scikit-learn.org/stable/auto_examples/model_selection/plot_confusion_matrix.html\n",
    "\n",
    "And an example matrix returned by the confusion matrix function:\n",
    "<img src=\"http://scikit-learn.org/stable/_images/plot_confusion_matrix_001.png\",width=400,height=400>"
   ]
  },
  {
   "cell_type": "code",
   "execution_count": null,
   "id": "f4bf0083",
   "metadata": {},
   "outputs": [],
   "source": [
    "from sklearn.metrics import accuracy_score\n",
    "from sklearn.metrics import confusion_matrix\n",
    "import numpy as np\n",
    "\n",
    "yhat = clf.predict(Xpca)\n",
    "\n",
    "#===================================================\n",
    "# Enter your code below\n",
    "print('Overall Accuracy is ',sum(yhat == y) / len(y))\n",
    "#print(clf.score(Xpca, y))\n",
    "\n",
    "list_accuracies = [x[i] / sum(x) for i, x in enumerate(confusion_matrix(y, yhat))]\n",
    "\n",
    "print('The class accuracy is ',np.mean(list_accuracies), '+-', np.std(list_accuracies),end=' ')\n",
    "print('(min,max) (',min(list_accuracies), ',' ,max(list_accuracies),')')\n",
    "\n",
    "#==================================================="
   ]
  },
  {
   "cell_type": "markdown",
   "id": "b956860a",
   "metadata": {},
   "source": [
    "___\n",
    "<a id=\"nonlinear\"></a>\n",
    "<a href=\"#top\">Back to Top</a>\n",
    "\n",
    "# Non-linear SVMs\n",
    "Now let's explore the use of non-linear svms. More explicitly, using different kernels. Take a look at the example training and testing code below for the non-linear SVM. All parameters are left as default, except we change the kernel to be `rbf`. Run the block of code below.\n",
    "\n"
   ]
  },
  {
   "cell_type": "code",
   "execution_count": null,
   "id": "adccc51d",
   "metadata": {},
   "outputs": [],
   "source": [
    "from sklearn.svm import SVC\n",
    "\n",
    "clf = SVC(kernel='rbf')\n",
    "clf.fit(Xpca,y)\n",
    "yhat = clf.predict(Xpca)\n",
    "print('Overall Accuracy is ',accuracy_score(y,yhat))"
   ]
  },
  {
   "cell_type": "markdown",
   "id": "390c5664",
   "metadata": {},
   "source": [
    "___\n",
    "**Exercise 3:** Use the starter code from above to calculate the accuracy for three different non-linear SVM kernels. That is, repeat the code above for different `kernel` parameters. ** Which kernel is most accurate with the default parameters?**\n",
    "\n",
    "You might be interested in the documentation of the scikit-learn SVM implementation, available here:\n",
    "- http://scikit-learn.org/stable/modules/generated/sklearn.svm.SVC.html"
   ]
  },
  {
   "cell_type": "code",
   "execution_count": null,
   "id": "38538e6c",
   "metadata": {},
   "outputs": [],
   "source": [
    "#===================================================\n",
    "# Enter your code below\n",
    "clf = SVC(kernel='rbf')\n",
    "clf.fit(Xpca,y)\n",
    "yhat = clf.predict(Xpca)\n",
    "print('Overall Accuracy is ',accuracy_score(y,yhat), 'for the rbf kernel')\n",
    " \n",
    "clf = SVC(kernel='poly')\n",
    "clf.fit(Xpca,y)\n",
    "yhat = clf.predict(Xpca)\n",
    "print('Overall Accuracy is ',accuracy_score(y,yhat), 'for the poly kernel')\n",
    "\n",
    "clf = SVC(kernel='sigmoid')\n",
    "clf.fit(Xpca,y)\n",
    "yhat = clf.predict(Xpca)\n",
    "print('Overall Accuracy is ',accuracy_score(y,yhat), 'for the sigmoid kernel')\n",
    "#==================================================="
   ]
  },
  {
   "cell_type": "markdown",
   "id": "b11051fc",
   "metadata": {},
   "source": [
    "The most accurate kernel with default parameters is the poly kernel."
   ]
  },
  {
   "cell_type": "markdown",
   "id": "2ee334c2",
   "metadata": {},
   "source": [
    "___\n",
    "**Exercise 4:** Choose the **most accurate kernel** and manipulate the settings for `gamma` to make the classification more accurate. \n",
    "- **Part A:** How accurate can you make it? \n",
    "- **Part B:** Would you expect the results to generalize well? Why or why not?"
   ]
  },
  {
   "cell_type": "code",
   "execution_count": null,
   "id": "2be18795",
   "metadata": {},
   "outputs": [],
   "source": [
    "#===================================================\n",
    "# Enter your code below\n",
    "\n",
    "kern = 'poly'\n",
    "g = .02\n",
    "\n",
    "yhat = SVC(kernel=kern, gamma=g).fit(Xpca,y).predict(Xpca)\n",
    "print('Overall Accuracy is ', accuracy_score(y,yhat)) \n",
    "\n",
    "#==================================================="
   ]
  },
  {
   "cell_type": "markdown",
   "id": "98c9c0da",
   "metadata": {},
   "source": [
    "A. The highest accuracy we could achieve was 1.0, or 100% accuracy. This was achieved with a gamma value of 0.02\n",
    "\n",
    "B. We would **not** expect this to generalize because this gamma value is large enough that the model is likely fitting to noise in the original dataset. Therefore, this model may not work well on other photos and the given gamma value may not be ideal for creating other models, depending on the number of attributes.\n",
    "\n"
   ]
  },
  {
   "cell_type": "markdown",
   "id": "6489b3da",
   "metadata": {},
   "source": [
    "___\n",
    "**Final Question:** Using the most accurate non-linear SVM you found in the previous question, how many parameter coefficients does the trained model contain?"
   ]
  },
  {
   "cell_type": "markdown",
   "id": "632a3858",
   "metadata": {},
   "source": [
    "181,292 parameter coefficients exist in the trained model."
   ]
  }
 ],
 "metadata": {},
 "nbformat": 4,
 "nbformat_minor": 5
}
