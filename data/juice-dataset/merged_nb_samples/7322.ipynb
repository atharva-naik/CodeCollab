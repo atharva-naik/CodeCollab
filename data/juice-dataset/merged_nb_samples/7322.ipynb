{
 "cells": [
  {
   "cell_type": "markdown",
   "id": "9b5e2916",
   "metadata": {},
   "source": [
    "## Data Preparation\n",
    "1. Deleting talks with missing values\n",
    "2. Cleaning up transcripts\n",
    "3. Data Exploration\n"
   ]
  },
  {
   "cell_type": "code",
   "execution_count": null,
   "id": "0c1d7c06",
   "metadata": {},
   "outputs": [],
   "source": [
    "import pandas as pd\n",
    "import json\n",
    "\n",
    "import numpy as np\n",
    "import matplotlib.pyplot as plt\n",
    "\n",
    "import pickle \n",
    "import re\n",
    "\n",
    "import statsmodels.api as sm\n",
    "import statsmodels.formula.api as smf\n",
    "import patsy\n",
    "import seaborn as sns\n",
    "from sklearn.linear_model import LinearRegression\n",
    "from sklearn.linear_model import RidgeCV\n",
    "sns.set_style(\"darkgrid\")\n",
    "from copy import deepcopy\n",
    "\n",
    "%pylab inline\n",
    "\n",
    "%matplotlib inline"
   ]
  },
  {
   "cell_type": "code",
   "execution_count": null,
   "id": "c3b4691f",
   "metadata": {},
   "outputs": [],
   "source": [
    "pd.set_option('display.max_columns', 25)\n",
    "pd.set_option('display.max_rows', 50)\n",
    "pd.set_option('display.precision', 3)"
   ]
  },
  {
   "cell_type": "code",
   "execution_count": null,
   "id": "2ea482b2",
   "metadata": {},
   "outputs": [],
   "source": [
    "df = pd.read_csv('../Data/TED_Talks_FullSet.csv', encoding='latin-1')"
   ]
  },
  {
   "cell_type": "code",
   "execution_count": null,
   "id": "50bcc9af",
   "metadata": {},
   "outputs": [],
   "source": [
    "df"
   ]
  },
  {
   "cell_type": "code",
   "execution_count": null,
   "id": "974c8375",
   "metadata": {},
   "outputs": [],
   "source": [
    "listCol = list(df.columns)"
   ]
  },
  {
   "cell_type": "code",
   "execution_count": null,
   "id": "077ae989",
   "metadata": {},
   "outputs": [],
   "source": [
    "listCol"
   ]
  },
  {
   "cell_type": "markdown",
   "id": "fad86501",
   "metadata": {},
   "source": [
    "#### Storing only columns that are information fields from TED"
   ]
  },
  {
   "cell_type": "code",
   "execution_count": null,
   "id": "c10e6bd0",
   "metadata": {},
   "outputs": [],
   "source": [
    "Data[(Data['year_filmed']== 17.72)]"
   ]
  },
  {
   "cell_type": "code",
   "execution_count": null,
   "id": "524f70a7",
   "metadata": {},
   "outputs": [],
   "source": [
    "Data[(Data['year_filmed']==  15.1)]"
   ]
  },
  {
   "cell_type": "code",
   "execution_count": null,
   "id": "c0b661cc",
   "metadata": {},
   "outputs": [],
   "source": [
    "Data[(Data['year_filmed']==  17.75)]"
   ]
  },
  {
   "cell_type": "markdown",
   "id": "d8bf9d3b",
   "metadata": {},
   "source": [
    "Deleting the above rows of data"
   ]
  },
  {
   "cell_type": "code",
   "execution_count": null,
   "id": "70fdd1d9",
   "metadata": {},
   "outputs": [],
   "source": [
    "Data = Data[Data.year_filmed != 18.41]\n",
    "Data = Data[Data.year_filmed != 17.72]\n",
    "Data = Data[Data.year_filmed != 15.1]\n",
    "Data = Data[Data.year_filmed != 17.75]\n"
   ]
  },
  {
   "cell_type": "markdown",
   "id": "43879db0",
   "metadata": {},
   "source": [
    "#### Checking if rows were deleted"
   ]
  },
  {
   "cell_type": "code",
   "execution_count": null,
   "id": "074aae10",
   "metadata": {},
   "outputs": [],
   "source": [
    "Data.year_filmed.unique()"
   ]
  },
  {
   "cell_type": "code",
   "execution_count": null,
   "id": "e91233a7",
   "metadata": {},
   "outputs": [],
   "source": [
    "Data[Data['year_filmed']==  1984.]"
   ]
  },
  {
   "cell_type": "markdown",
   "id": "0f0affdb",
   "metadata": {},
   "source": [
    "### Reset Index"
   ]
  },
  {
   "cell_type": "code",
   "execution_count": null,
   "id": "59d7000c",
   "metadata": {},
   "outputs": [],
   "source": [
    "Data = Data.reset_index(drop=True)"
   ]
  },
  {
   "cell_type": "markdown",
   "id": "0b2b6c19",
   "metadata": {},
   "source": [
    "## Data Exploration"
   ]
  },
  {
   "cell_type": "markdown",
   "id": "1772455d",
   "metadata": {},
   "source": [
    "### No. of Talks"
   ]
  },
  {
   "cell_type": "code",
   "execution_count": null,
   "id": "1409ffae",
   "metadata": {},
   "outputs": [],
   "source": [
    "Data[Data['headline']=='WhatÛªs wrong with your pa$$w0rd?']"
   ]
  },
  {
   "cell_type": "code",
   "execution_count": null,
   "id": "3caeef66",
   "metadata": {},
   "outputs": [],
   "source": [
    "Data = Data.replace('WhatÛªs wrong with your pa$$w0rd?', 'What\\'s wrong with your password?')"
   ]
  },
  {
   "cell_type": "code",
   "execution_count": null,
   "id": "cdbcd398",
   "metadata": {},
   "outputs": [],
   "source": [
    "Data[Data['headline']=='What\\'s wrong with your password?']"
   ]
  },
  {
   "cell_type": "code",
   "execution_count": null,
   "id": "67b28534",
   "metadata": {},
   "outputs": [],
   "source": [
    "import pickle "
   ]
  },
  {
   "cell_type": "code",
   "execution_count": null,
   "id": "6eaea900",
   "metadata": {},
   "outputs": [],
   "source": [
    "with open('../Data/DataDF.pkl', 'wb') as picklefile:\n",
    "    pickle.dump(Data, picklefile)"
   ]
  },
  {
   "cell_type": "code",
   "execution_count": null,
   "id": "1def488c",
   "metadata": {},
   "outputs": [],
   "source": [
    "with open('../Data/DataDF.pkl', 'rb') as picklefile5:\n",
    "    Data2 = pickle.load(picklefile5)\n"
   ]
  },
  {
   "cell_type": "code",
   "execution_count": null,
   "id": "429af5e7",
   "metadata": {},
   "outputs": [],
   "source": [
    "Data2"
   ]
  },
  {
   "cell_type": "markdown",
   "id": "e5b72be6",
   "metadata": {},
   "source": [
    "# Popularity Exploration"
   ]
  },
  {
   "cell_type": "markdown",
   "id": "d165f8e1",
   "metadata": {},
   "source": [
    "## Sorting the talks by the no. of views"
   ]
  },
  {
   "cell_type": "markdown",
   "id": "5b4b7579",
   "metadata": {},
   "source": [
    "#### Sorting by No. of Views (High to low)"
   ]
  },
  {
   "cell_type": "code",
   "execution_count": null,
   "id": "9b1cdd48",
   "metadata": {},
   "outputs": [],
   "source": [
    "Data.sort_values(by=['views_as_of_06162017'],ascending=False)"
   ]
  },
  {
   "cell_type": "markdown",
   "id": "358e24b0",
   "metadata": {},
   "source": [
    "### Top 25"
   ]
  },
  {
   "cell_type": "code",
   "execution_count": null,
   "id": "708a0355",
   "metadata": {},
   "outputs": [],
   "source": [
    "Data.groupby('year_filmed').id.count()"
   ]
  },
  {
   "cell_type": "markdown",
   "id": "18f2dcbe",
   "metadata": {},
   "source": [
    "### Date/Year Published Analysis"
   ]
  },
  {
   "cell_type": "code",
   "execution_count": null,
   "id": "9cd36355",
   "metadata": {},
   "outputs": [],
   "source": [
    "import datetime as dt"
   ]
  },
  {
   "cell_type": "code",
   "execution_count": null,
   "id": "1fb339d4",
   "metadata": {},
   "outputs": [],
   "source": [
    "Data['date_published'] = pd.to_datetime(Data['date_published'])"
   ]
  },
  {
   "cell_type": "code",
   "execution_count": null,
   "id": "6f6d8aac",
   "metadata": {},
   "outputs": [],
   "source": [
    "#check change\n",
    "Data.date_published.dtypes"
   ]
  },
  {
   "cell_type": "code",
   "execution_count": null,
   "id": "0410fa97",
   "metadata": {},
   "outputs": [],
   "source": [
    "# Creating columns for date and month of publications\n",
    "Data['Pub_Year'] = Data['date_published'].dt.year\n",
    "Data['Pub_Month'] = Data['date_published'].dt.month"
   ]
  },
  {
   "cell_type": "code",
   "execution_count": null,
   "id": "612bbb5c",
   "metadata": {},
   "outputs": [],
   "source": [
    "Data.head()"
   ]
  },
  {
   "cell_type": "markdown",
   "id": "002949cb",
   "metadata": {},
   "source": [
    "### No. of talks published by Year"
   ]
  },
  {
   "cell_type": "code",
   "execution_count": null,
   "id": "8149241a",
   "metadata": {},
   "outputs": [],
   "source": [
    "Data.groupby('Pub_Year').id.count()"
   ]
  },
  {
   "cell_type": "markdown",
   "id": "8141e793",
   "metadata": {},
   "source": [
    "## Removing Time (5:30), \\r,\\n,(Laughter),(Applause)"
   ]
  },
  {
   "cell_type": "code",
   "execution_count": null,
   "id": "f548ff6c",
   "metadata": {},
   "outputs": [],
   "source": [
    "Data['transcript'].head(2)"
   ]
  },
  {
   "cell_type": "markdown",
   "id": "d454e81d",
   "metadata": {},
   "source": [
    "Use http://www.rubular.com/r/JsdNM3nFJ3\n"
   ]
  },
  {
   "cell_type": "markdown",
   "id": "f7f28552",
   "metadata": {},
   "source": [
    "# Checks"
   ]
  },
  {
   "cell_type": "code",
   "execution_count": null,
   "id": "a7115b7a",
   "metadata": {},
   "outputs": [],
   "source": [
    "with open('../Data/DataDF.pkl', 'rb') as picklefile5:\n",
    "    Data2 = pickle.load(picklefile5)"
   ]
  },
  {
   "cell_type": "markdown",
   "id": "0fe7a0fb",
   "metadata": {},
   "source": [
    "### Check DF"
   ]
  },
  {
   "cell_type": "code",
   "execution_count": null,
   "id": "a6f8b965",
   "metadata": {},
   "outputs": [],
   "source": [
    "Data2.head(2)"
   ]
  },
  {
   "cell_type": "code",
   "execution_count": null,
   "id": "e7d1d52d",
   "metadata": {},
   "outputs": [],
   "source": [
    "Data2.tail()"
   ]
  },
  {
   "cell_type": "code",
   "execution_count": null,
   "id": "fc45d83e",
   "metadata": {},
   "outputs": [],
   "source": [
    "Data2.shape"
   ]
  },
  {
   "cell_type": "markdown",
   "id": "7d9b8914",
   "metadata": {},
   "source": [
    "### Check Speaker Details"
   ]
  },
  {
   "cell_type": "code",
   "execution_count": null,
   "id": "914a7164",
   "metadata": {},
   "outputs": [],
   "source": [
    "Data2[Data2.speaker == \"Amy Cuddy\"]"
   ]
  },
  {
   "cell_type": "markdown",
   "id": "b5e17008",
   "metadata": {},
   "source": [
    "### Check Speech Details with Index No."
   ]
  },
  {
   "cell_type": "code",
   "execution_count": null,
   "id": "d6fb1e6a",
   "metadata": {},
   "outputs": [],
   "source": [
    "Data2.iloc[1260,:]"
   ]
  },
  {
   "cell_type": "code",
   "execution_count": null,
   "id": "24217f6f",
   "metadata": {},
   "outputs": [],
   "source": [
    "Data2.iloc[1260:1261,:]   #Above in DF format"
   ]
  },
  {
   "cell_type": "markdown",
   "id": "9403db4d",
   "metadata": {},
   "source": [
    "### Check Transcript with Index No."
   ]
  },
  {
   "cell_type": "code",
   "execution_count": null,
   "id": "7c67f086",
   "metadata": {},
   "outputs": [],
   "source": [
    "top25 = Data.sort_values(by=['views_as_of_06162017'],ascending=False).head(25)"
   ]
  },
  {
   "cell_type": "code",
   "execution_count": null,
   "id": "f342f701",
   "metadata": {},
   "outputs": [],
   "source": [
    "top25"
   ]
  },
  {
   "cell_type": "code",
   "execution_count": null,
   "id": "29e9e4fd",
   "metadata": {},
   "outputs": [],
   "source": [
    "with open('../Data/Top25.pkl', 'wb') as picklefile2:\n",
    "    pickle.dump(top25, picklefile2)"
   ]
  },
  {
   "cell_type": "markdown",
   "id": "62aaec26",
   "metadata": {},
   "source": [
    "#### Bottom25"
   ]
  },
  {
   "cell_type": "code",
   "execution_count": null,
   "id": "69ca56cf",
   "metadata": {},
   "outputs": [],
   "source": [
    "Data = df.filter(['id',\n",
    " 'speaker',\n",
    " 'headline',\n",
    " 'URL',\n",
    " 'description',\n",
    " 'transcript_URL',\n",
    " 'month_filmed',\n",
    " 'year_filmed',\n",
    " 'event',\n",
    " 'duration',\n",
    " 'date_published',\n",
    " 'views_as_of_06162017',\n",
    " 'tags',\n",
    " 'transcript'])"
   ]
  },
  {
   "cell_type": "code",
   "execution_count": null,
   "id": "b04d9f60",
   "metadata": {},
   "outputs": [],
   "source": [
    "Data"
   ]
  },
  {
   "cell_type": "code",
   "execution_count": null,
   "id": "7644f11c",
   "metadata": {},
   "outputs": [],
   "source": [
    "Data.dtypes"
   ]
  },
  {
   "cell_type": "markdown",
   "id": "fd03cc05",
   "metadata": {},
   "source": [
    "### Clean up Missing Transcipts"
   ]
  },
  {
   "cell_type": "code",
   "execution_count": null,
   "id": "d6cf48c1",
   "metadata": {},
   "outputs": [],
   "source": [
    "bottom25 = Data.sort_values(by=['views_as_of_06162017'],ascending=False).tail(25)\n",
    "bottom25"
   ]
  },
  {
   "cell_type": "code",
   "execution_count": null,
   "id": "0afdac46",
   "metadata": {},
   "outputs": [],
   "source": [
    "with open('../Data/Bottom25.pkl', 'wb') as picklefile3:\n",
    "    pickle.dump(bottom25, picklefile3)"
   ]
  },
  {
   "cell_type": "markdown",
   "id": "2494b83e",
   "metadata": {},
   "source": [
    "## Top 5 Most Viewed for each Year"
   ]
  },
  {
   "cell_type": "code",
   "execution_count": null,
   "id": "c446368a",
   "metadata": {},
   "outputs": [],
   "source": [
    "#Drop the rows where transcript is null\n",
    "len(Data[(Data['transcript'].isnull())] ) "
   ]
  },
  {
   "cell_type": "code",
   "execution_count": null,
   "id": "39aaca3d",
   "metadata": {},
   "outputs": [],
   "source": [
    "mask = Data['transcript'].isnull()"
   ]
  },
  {
   "cell_type": "code",
   "execution_count": null,
   "id": "7b65db6f",
   "metadata": {},
   "outputs": [],
   "source": [
    "Data = Data[~mask]"
   ]
  },
  {
   "cell_type": "code",
   "execution_count": null,
   "id": "9f0e046a",
   "metadata": {},
   "outputs": [],
   "source": [
    "Data.columns"
   ]
  },
  {
   "cell_type": "code",
   "execution_count": null,
   "id": "0ac4ef1c",
   "metadata": {},
   "outputs": [],
   "source": [
    "len(Data[(Data['transcript'].isnull())] ) "
   ]
  },
  {
   "cell_type": "code",
   "execution_count": null,
   "id": "fd03609b",
   "metadata": {},
   "outputs": [],
   "source": [
    "Data['tags'].head(5)"
   ]
  },
  {
   "cell_type": "code",
   "execution_count": null,
   "id": "3a767c05",
   "metadata": {},
   "outputs": [],
   "source": [
    "Data['headline'].head(5)"
   ]
  },
  {
   "cell_type": "markdown",
   "id": "97e8fa6b",
   "metadata": {},
   "source": [
    "#### Cleaning Up more rows"
   ]
  },
  {
   "cell_type": "markdown",
   "id": "830add75",
   "metadata": {},
   "source": [
    "#### No.of Years"
   ]
  },
  {
   "cell_type": "code",
   "execution_count": null,
   "id": "4c8969b2",
   "metadata": {},
   "outputs": [],
   "source": [
    "Data.year_filmed.nunique()"
   ]
  },
  {
   "cell_type": "markdown",
   "id": "be8aee74",
   "metadata": {},
   "source": [
    "#### No. of Talks by Actual Year of Talk "
   ]
  },
  {
   "cell_type": "code",
   "execution_count": null,
   "id": "5a3b05bb",
   "metadata": {},
   "outputs": [],
   "source": [
    "Data['transcript'].head(5)"
   ]
  },
  {
   "cell_type": "markdown",
   "id": "d2e42b82",
   "metadata": {},
   "source": [
    "#### Correcting A Headline"
   ]
  },
  {
   "cell_type": "code",
   "execution_count": null,
   "id": "e6cc41f3",
   "metadata": {},
   "outputs": [],
   "source": [
    "Data.sort_values(by=['Pub_Year','views_as_of_06162017'],ascending=False).groupby('Pub_Year').head(5)"
   ]
  },
  {
   "cell_type": "code",
   "execution_count": null,
   "id": "db7e0252",
   "metadata": {},
   "outputs": [],
   "source": [
    "YearlyTop5 = Data.sort_values(by=['Pub_Year','views_as_of_06162017'],ascending=False).groupby('Pub_Year').head(5)"
   ]
  },
  {
   "cell_type": "code",
   "execution_count": null,
   "id": "48b6ad74",
   "metadata": {},
   "outputs": [],
   "source": [
    "with open('../Data/YearlyTop5.pkl', 'wb') as picklefile4:\n",
    "    pickle.dump(YearlyTop5, picklefile4)"
   ]
  },
  {
   "cell_type": "markdown",
   "id": "422c679e",
   "metadata": {},
   "source": [
    "  "
   ]
  },
  {
   "cell_type": "markdown",
   "id": "ce1d7505",
   "metadata": {},
   "source": [
    "\n",
    "\n"
   ]
  },
  {
   "cell_type": "code",
   "execution_count": null,
   "id": "dda78f1a",
   "metadata": {},
   "outputs": [],
   "source": [
    "Data[(Data['year_filmed']==18.41)]"
   ]
  },
  {
   "cell_type": "code",
   "execution_count": null,
   "id": "5337d975",
   "metadata": {},
   "outputs": [],
   "source": [
    "Data.shape"
   ]
  },
  {
   "cell_type": "markdown",
   "id": "acb575a9",
   "metadata": {},
   "source": [
    "### No. of unique speakers"
   ]
  },
  {
   "cell_type": "code",
   "execution_count": null,
   "id": "613043bd",
   "metadata": {},
   "outputs": [],
   "source": [
    "Data.speaker.nunique()"
   ]
  },
  {
   "cell_type": "markdown",
   "id": "fdf9d5b1",
   "metadata": {},
   "source": [
    "#### No. of events"
   ]
  },
  {
   "cell_type": "code",
   "execution_count": null,
   "id": "f2ac0514",
   "metadata": {},
   "outputs": [],
   "source": [
    "Data.event.nunique()"
   ]
  },
  {
   "cell_type": "code",
   "execution_count": null,
   "id": "57e61929",
   "metadata": {},
   "outputs": [],
   "source": [
    "text =Data['transcript'].head(1)"
   ]
  },
  {
   "cell_type": "code",
   "execution_count": null,
   "id": "7d9b8cdb",
   "metadata": {},
   "outputs": [],
   "source": [
    "text[0] "
   ]
  },
  {
   "cell_type": "markdown",
   "id": "b9bbe473",
   "metadata": {},
   "source": [
    "r'(\\d{1,2}:\\d{2})' Explanation for removing time (eg. 2:41 or 15:20)  \n",
    "( ) - for exact pattern match --> matches all elements in the exact order within ( )  \n",
    "\\d{1,2} - digits between 1 to 2 digits  \n",
    ": - digits followed by :  \n",
    "\\d{2} -  Exactly 2 digits after :  "
   ]
  },
  {
   "cell_type": "code",
   "execution_count": null,
   "id": "db5f8746",
   "metadata": {},
   "outputs": [],
   "source": [
    "def StripTranscript(x):\n",
    "        p = re.compile(r'(\\d{1,2}:\\d{2})')\n",
    "        a = p.sub('', x)\n",
    "        a=a.replace('\\n',' ')\n",
    "       \n",
    "        #a=a.replace(\"'\",\"\") # don't include as it is included in stop words\n",
    "        a=a.replace('(Laughter)', ' ')\n",
    "        a=a.replace('(Applause)', ' ')\n",
    "        lista = a.split()\n",
    "        for i in range(len(lista)):\n",
    "            if lista[i] =='\\r':\n",
    "                if lista[i+1]=='\\r':\n",
    "                    lista[i]=lista[i].replace('\\r','')\n",
    "                else:\n",
    "                    lista[i]=lista[i].replace('\\r',' ')      \n",
    "        a=\" \".join(lista)\n",
    "        return  a\n"
   ]
  },
  {
   "cell_type": "code",
   "execution_count": null,
   "id": "248217a2",
   "metadata": {},
   "outputs": [],
   "source": [
    "StripTranscript(text[0])"
   ]
  },
  {
   "cell_type": "code",
   "execution_count": null,
   "id": "1c4b9345",
   "metadata": {},
   "outputs": [],
   "source": [
    "StripTranscript(text[0][200:300])"
   ]
  },
  {
   "cell_type": "code",
   "execution_count": null,
   "id": "8b1360af",
   "metadata": {},
   "outputs": [],
   "source": [
    "Data['transcript'] = Data['transcript'].map(StripTranscript)"
   ]
  }
 ],
 "metadata": {},
 "nbformat": 4,
 "nbformat_minor": 5
}
