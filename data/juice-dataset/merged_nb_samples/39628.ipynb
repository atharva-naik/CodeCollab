{
 "cells": [
  {
   "cell_type": "markdown",
   "id": "e8abf38f",
   "metadata": {},
   "source": [
    "# Regression Model For Predicting House Prices"
   ]
  },
  {
   "cell_type": "markdown",
   "id": "d8aa73ae",
   "metadata": {},
   "source": [
    "Author: Nishant Sahni"
   ]
  },
  {
   "cell_type": "code",
   "execution_count": null,
   "id": "ed7c8223",
   "metadata": {},
   "outputs": [],
   "source": [
    "import numpy as np\n",
    "import matplotlib.pyplot as plt\n",
    "import pandas as pd\n",
    "from sklearn.model_selection import train_test_split\n",
    "from sklearn.metrics import accuracy_score\n",
    "from sklearn.model_selection import GridSearchCV\n",
    "from sklearn.metrics import mean_squared_error, r2_score\n",
    "from sklearn.linear_model import LinearRegression, Lasso\n",
    "from sklearn.kernel_ridge import KernelRidge\n",
    "from sklearn.preprocessing import normalize\n",
    "from sklearn.preprocessing import StandardScaler"
   ]
  },
  {
   "cell_type": "markdown",
   "id": "a39f7984",
   "metadata": {},
   "source": [
    "The data is first loaded onto a pandas dataframe and some summary statistics are obtained. The correlation between attribute columns is also obtained. The data.describe() function gives some summary statistics for each feature including count, mean, minimum value, maximum value, etc. The data.isna() is used to determine if there are any missing values or erroneous values in the data."
   ]
  },
  {
   "cell_type": "code",
   "execution_count": null,
   "id": "e752e2be",
   "metadata": {},
   "outputs": [],
   "source": [
    "data = pd.read_csv('/Users/Nishant/Desktop/Machine Learning/Exam/regression_housing_prices.csv')\n",
    "data.head()\n",
    "print(data.keys())\n",
    "print(\"\")\n",
    "print(data.describe())\n",
    "print(\"\")\n",
    "print(data.corr())\n",
    "print(data.isna())"
   ]
  },
  {
   "cell_type": "markdown",
   "id": "af0803b4",
   "metadata": {},
   "source": [
    "After observing and exploring the information above, the columns having low correlation with the target (price) are droped as they have a low impact on the prediction. The final list of features is then obtained."
   ]
  },
  {
   "cell_type": "code",
   "execution_count": null,
   "id": "eee24efe",
   "metadata": {},
   "outputs": [],
   "source": [
    "featurelist = []\n",
    "threshold = 0.25\n",
    "\n",
    "for item in data:\n",
    "\tif item != 'date' and item != 'price':\n",
    "\t\tcorr = float(data[item].corr(data['price']))\n",
    "\t\tprint(item, corr)\n",
    "\t\tif corr >= threshold:\n",
    "\t\t\tfeaturelist.append(item)\n",
    "\n",
    "print(\"\")\n",
    "print(\"Final Feature List: \", featurelist)"
   ]
  },
  {
   "cell_type": "markdown",
   "id": "954b8677",
   "metadata": {},
   "source": [
    "The X and y values are then loaded into dataframes as follows."
   ]
  },
  {
   "cell_type": "code",
   "execution_count": null,
   "id": "9ea98812",
   "metadata": {},
   "outputs": [],
   "source": [
    "X = (pd.DataFrame(data, columns=(featurelist))).as_matrix()\n",
    "y = (pd.DataFrame(data, columns=(['price']))).as_matrix()"
   ]
  },
  {
   "cell_type": "markdown",
   "id": "6e96256b",
   "metadata": {},
   "source": [
    "The data is then split into training and testing sets with a 80:20 split. This is done so that the model can be trained with the training data and the prediction accuracy can be measured with respect to the testing data."
   ]
  },
  {
   "cell_type": "markdown",
   "id": "323afa95",
   "metadata": {},
   "source": [
    "A series of plots is obtained for each feature with the target to further examine their correlation."
   ]
  },
  {
   "cell_type": "code",
   "execution_count": null,
   "id": "e850e214",
   "metadata": {},
   "outputs": [],
   "source": [
    "for i in range(0, len(featurelist), 1):\n",
    "\tplt.title(\"Scatter Plot - %s vs price\" %featurelist[i])\n",
    "\tplt.xlabel(featurelist[i])\n",
    "\tplt.ylabel('price')\n",
    "\tplt.scatter(x_train[:, i], y_train[:, 0], c='red')\n",
    "\tplt.show()"
   ]
  },
  {
   "cell_type": "markdown",
   "id": "6b18446d",
   "metadata": {},
   "source": [
    "# Ordinary Least Squares Regression"
   ]
  },
  {
   "cell_type": "markdown",
   "id": "a472e532",
   "metadata": {},
   "source": [
    "We then start by trying Linear Regression with our data. Since the data has values with varying ranges, it is decided to normalize it so that it gives better results with regression. This is done by setting normalize to True."
   ]
  },
  {
   "cell_type": "code",
   "execution_count": null,
   "id": "a584db69",
   "metadata": {},
   "outputs": [],
   "source": [
    "linreg = LinearRegression(normalize=True)"
   ]
  },
  {
   "cell_type": "markdown",
   "id": "5628a6f5",
   "metadata": {},
   "source": [
    "GridSearchCV is used to carry out 5-fold cross validation. Cross validation is used to avoid over fitting by training multiple models on a certain number of subsets of the data and then evaluating the model."
   ]
  },
  {
   "cell_type": "code",
   "execution_count": null,
   "id": "7ae8c976",
   "metadata": {},
   "outputs": [],
   "source": [
    "ols = GridSearchCV(linreg, cv=5, param_grid={})"
   ]
  },
  {
   "cell_type": "markdown",
   "id": "1af63f21",
   "metadata": {},
   "source": [
    "We then train the data."
   ]
  },
  {
   "cell_type": "code",
   "execution_count": null,
   "id": "9127fc3b",
   "metadata": {},
   "outputs": [],
   "source": [
    "ols.fit(x_train, np.ravel(y_train))"
   ]
  },
  {
   "cell_type": "markdown",
   "id": "0565803b",
   "metadata": {},
   "source": [
    "A set of scores is obtained for the model. This includes the cross validation score."
   ]
  },
  {
   "cell_type": "code",
   "execution_count": null,
   "id": "491fe344",
   "metadata": {},
   "outputs": [],
   "source": [
    "print(\"\")\n",
    "print(\"SCORES FOR ORDINARY LEAST SQUARES:\")\n",
    "print(\"\")\n",
    "print(\"Gridsearch CV score: \", ols.best_score_)\n",
    "print(\"Training set score: \", ols.score(x_train, y_train))\n",
    "print(\"Linear accuracy score: \", ols.score(x_test, y_test))"
   ]
  },
  {
   "cell_type": "markdown",
   "id": "290f24d2",
   "metadata": {},
   "source": [
    "We then use the trained model to predict the test data."
   ]
  },
  {
   "cell_type": "code",
   "execution_count": null,
   "id": "0026b3d3",
   "metadata": {},
   "outputs": [],
   "source": [
    "ols_predictions = ols.predict(x_test)"
   ]
  },
  {
   "cell_type": "markdown",
   "id": "e4ad1ace",
   "metadata": {},
   "source": [
    "The mean square error and r^2 score are obtained for the predictions."
   ]
  },
  {
   "cell_type": "code",
   "execution_count": null,
   "id": "8667ed28",
   "metadata": {},
   "outputs": [],
   "source": [
    "print(\"Mean squared error: \", mean_squared_error(y_test, ols_predictions))\n",
    "print('r^2 score: ', r2_score(y_test, ols_predictions))"
   ]
  },
  {
   "cell_type": "markdown",
   "id": "91d434e3",
   "metadata": {},
   "source": [
    "A graph is then plotted between predicted prices and actual prices."
   ]
  },
  {
   "cell_type": "code",
   "execution_count": null,
   "id": "2a2d3368",
   "metadata": {},
   "outputs": [],
   "source": [
    "plt.scatter(ols_predictions, y_test, c='red')\n",
    "plt.xlabel('Predicted Prices')\n",
    "plt.ylabel('Actual Prices')\n",
    "plt.show()"
   ]
  },
  {
   "cell_type": "markdown",
   "id": "56368e36",
   "metadata": {},
   "source": [
    "# Lasso Regression "
   ]
  },
  {
   "cell_type": "markdown",
   "id": "d15c0b20",
   "metadata": {},
   "source": [
    "We then move on to Lasso Regression. Since the data has values with varying ranges, it is decided to normalize it so that it gives better results with regression. This is done by setting normalize to True."
   ]
  },
  {
   "cell_type": "code",
   "execution_count": null,
   "id": "1902f6cd",
   "metadata": {},
   "outputs": [],
   "source": [
    "lassreg = Lasso(normalize=True)"
   ]
  },
  {
   "cell_type": "markdown",
   "id": "e7849139",
   "metadata": {},
   "source": [
    "GridSearchCV is used to conduct 5-fold cross validation and for the selection of the alpha parameter. The model is then trained."
   ]
  },
  {
   "cell_type": "code",
   "execution_count": null,
   "id": "77a95658",
   "metadata": {},
   "outputs": [],
   "source": [
    "lasso = GridSearchCV(lassreg, cv=5, param_grid={'alpha': [0.001, 0.01, 0.1, 1, 2]})\n",
    "lasso.fit(x_train, np.ravel(y_train))"
   ]
  },
  {
   "cell_type": "markdown",
   "id": "6de2f6b9",
   "metadata": {},
   "source": [
    "Some scores are then obtained. Also, the best parameters selected by GridSearchCV can be found below."
   ]
  },
  {
   "cell_type": "code",
   "execution_count": null,
   "id": "ee802871",
   "metadata": {},
   "outputs": [],
   "source": [
    "print(\"\")\n",
    "print(\"SCORES FOR LASSO:\")\n",
    "print(\"\")\n",
    "print(\"Gridsearch CV score: \", lasso.best_score_)\n",
    "print(\"Training set score: \", lasso.score(x_train, y_train))\n",
    "print(\"Linear accuracy score: \", lasso.score(x_test, y_test))\n",
    "print(\"Best Parameters Selected: \", lasso.best_params_)"
   ]
  },
  {
   "cell_type": "markdown",
   "id": "85999296",
   "metadata": {},
   "source": [
    "As we can see, the best value of alpha was selected to be 2. We now use the trained model to predict our test data."
   ]
  },
  {
   "cell_type": "code",
   "execution_count": null,
   "id": "c0846ff7",
   "metadata": {},
   "outputs": [],
   "source": [
    "lasso_predictions = lasso.predict(x_test)"
   ]
  },
  {
   "cell_type": "markdown",
   "id": "22fb25c0",
   "metadata": {},
   "source": [
    "The mean square error and r^2 score are then obtained as follows."
   ]
  },
  {
   "cell_type": "code",
   "execution_count": null,
   "id": "57f27fbb",
   "metadata": {},
   "outputs": [],
   "source": [
    "print(\"Mean squared error: \", mean_squared_error(y_test, lasso_predictions))\n",
    "print('r^2 score: ', r2_score(y_test, lasso_predictions))"
   ]
  },
  {
   "cell_type": "markdown",
   "id": "f5626674",
   "metadata": {},
   "source": [
    "A graph is then plotted showing the predicted values versus the actual values of the price."
   ]
  },
  {
   "cell_type": "code",
   "execution_count": null,
   "id": "41663cf4",
   "metadata": {},
   "outputs": [],
   "source": [
    "plt.scatter(lasso_predictions, y_test, c='red')\n",
    "plt.xlabel('Predicted Prices')\n",
    "plt.ylabel('Actual Prices')\n",
    "plt.show()"
   ]
  },
  {
   "cell_type": "markdown",
   "id": "321981f0",
   "metadata": {},
   "source": [
    "# Kernalized Ridge Regression"
   ]
  },
  {
   "cell_type": "markdown",
   "id": "43c763c8",
   "metadata": {},
   "source": [
    "Kernelized Ridge Regression is attempted with our data next."
   ]
  },
  {
   "cell_type": "code",
   "execution_count": null,
   "id": "37d49c9a",
   "metadata": {},
   "outputs": [],
   "source": [
    "x_train, x_test, y_train, y_test = train_test_split(X, y, test_size=0.20, random_state=10)"
   ]
  },
  {
   "cell_type": "code",
   "execution_count": null,
   "id": "76c326c8",
   "metadata": {},
   "outputs": [],
   "source": [
    "kernreg = KernelRidge()"
   ]
  },
  {
   "cell_type": "markdown",
   "id": "c055e495",
   "metadata": {},
   "source": [
    "Since the data has values with varying ranges, it is decided to normalize it so that it gives better results with regression. Also, since this is a non-linear model, this helps to speed up the training process."
   ]
  },
  {
   "cell_type": "code",
   "execution_count": null,
   "id": "1448045c",
   "metadata": {},
   "outputs": [],
   "source": [
    "x_train_normalized = normalize(x_train, norm='l2')\n",
    "x_test_normalized = normalize(x_test, norm='l2')"
   ]
  },
  {
   "cell_type": "markdown",
   "id": "0ebb6157",
   "metadata": {},
   "source": [
    "GridSearchCV is then used to conduct 5-fold cross validation and to select the best parameters and kernels from the ones specified in the question. The data is then trained with this model."
   ]
  },
  {
   "cell_type": "code",
   "execution_count": null,
   "id": "b4c058c3",
   "metadata": {},
   "outputs": [],
   "source": [
    "ridge = GridSearchCV(kernreg, cv=5, param_grid=[{'kernel': ['linear']}, {'alpha': [1], 'kernel': ['poly'], 'gamma': [1], 'degree': [2, 4, 7]}, {'kernel': ['rbf'], 'gamma': [0.1, 0.5, 1, 2, 4]}])\n",
    "ridge.fit(x_train_normalized, np.ravel(y_train))"
   ]
  },
  {
   "cell_type": "markdown",
   "id": "866473c6",
   "metadata": {},
   "source": [
    "The cross validation score and a few other statistics are obtained as follows."
   ]
  },
  {
   "cell_type": "code",
   "execution_count": null,
   "id": "d8aa65fc",
   "metadata": {},
   "outputs": [],
   "source": [
    "print(\"\")\n",
    "print(\"SCORES FOR KERNALIZED RIDGE:\")\n",
    "print(\"\")\n",
    "print(\"Gridsearch CV score: \", ridge.best_score_)\n",
    "print(\"Training set score: \", ridge.score(x_train_normalized, y_train))\n",
    "print(\"Linear accuracy score: \", ridge.score(x_test_normalized, y_test))\n",
    "print(\"Best Parameters Selected: \", ridge.best_params_)"
   ]
  },
  {
   "cell_type": "markdown",
   "id": "a3e8e2ed",
   "metadata": {},
   "source": [
    "The best parameters selected by GridSearchCV can be observed above. The trained model is then used to predict the test values."
   ]
  },
  {
   "cell_type": "code",
   "execution_count": null,
   "id": "f8a4cc63",
   "metadata": {},
   "outputs": [],
   "source": [
    "ridge_predictions = ridge.predict(x_test_normalized)"
   ]
  },
  {
   "cell_type": "markdown",
   "id": "e9cb777a",
   "metadata": {},
   "source": [
    "The mean square error and r^2 scores are then obtained."
   ]
  },
  {
   "cell_type": "code",
   "execution_count": null,
   "id": "73d19c86",
   "metadata": {},
   "outputs": [],
   "source": [
    "print(\"Mean squared error: \", mean_squared_error(y_test, ridge_predictions))\n",
    "print('r^2 score: ', r2_score(y_test, ridge_predictions))"
   ]
  },
  {
   "cell_type": "markdown",
   "id": "124d45af",
   "metadata": {},
   "source": [
    "A graph is then plotted to show the predicted results versus actual prices."
   ]
  }
 ],
 "metadata": {},
 "nbformat": 4,
 "nbformat_minor": 5
}
