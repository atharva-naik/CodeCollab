{
 "cells": [
  {
   "cell_type": "markdown",
   "id": "c11bdc3e",
   "metadata": {},
   "source": [
    "# MDAnalysis PCA Tutorial\n",
    "Author: [Kathleen Clark](https://becksteinlab.physics.asu.edu/people/75/kathleen-clark) ([@kaceyreidy](https://github.com/kaceyreidy))"
   ]
  },
  {
   "cell_type": "markdown",
   "id": "4496c1f1",
   "metadata": {},
   "source": [
    "Principal component analysis (PCA) is a method of converting one corrdinate system into another where the data as represented by the resulting coordinate system is uncorrelated. The resulting coordinates are ordered such that the first principal component (coordinate axis) accounts for the most variation in the data, the second prinicpal component accounts for the most variation that it can while being perpendicular to the first, and so on. ([Wikipedia](https://en.wikipedia.org/wiki/Principal_component_analysis))\n",
    "\n",
    "In this tutorial we use [MDAnalysis](https://mdanalysis.org) to show how to use PCA to analyze and visualize large macromolecular conformational changes. As example we use the closed -> open transition of the enzyme adenylate kinase (AdK). The AdK trajectory is included with the MDAnalysis test data."
   ]
  },
  {
   "cell_type": "markdown",
   "id": "cc2d9dcd",
   "metadata": {},
   "source": [
    "## Conducting PCA"
   ]
  },
  {
   "cell_type": "markdown",
   "id": "5f2024d5",
   "metadata": {},
   "source": [
    "First let's import all of the necessary modules."
   ]
  },
  {
   "cell_type": "code",
   "execution_count": null,
   "id": "bb583eeb",
   "metadata": {},
   "outputs": [],
   "source": [
    "import MDAnalysis as mda\n",
    "import MDAnalysis.analysis.pca as pca\n",
    "from MDAnalysis.coordinates.base import Timestep\n",
    "from MDAnalysisTests.datafiles import PSF, DCD\n",
    "\n",
    "import numpy as np\n",
    "import os\n",
    "import glob\n",
    "\n",
    "import pandas as pd\n",
    "import seaborn as sns\n",
    "\n",
    "import matplotlib.pyplot as plt\n",
    "import matplotlib.cm\n",
    "import matplotlib.ticker as ticker\n",
    "%matplotlib inline"
   ]
  },
  {
   "cell_type": "markdown",
   "id": "f1b58f15",
   "metadata": {},
   "source": [
    "Now, let's define our paths and some our analysis preferences.\n",
    "\n",
    "- save data in the _PCA_tutorial_ directory\n",
    "- use the protein backbone atoms for the analysis (selection \"backbone\")\n",
    "- analyze every step in the trajectory\n",
    "- visualize the first 5 principal components (`npc = 5`)"
   ]
  },
  {
   "cell_type": "code",
   "execution_count": null,
   "id": "02d8a13e",
   "metadata": {},
   "outputs": [],
   "source": [
    "datapath = os.path.join('PCA_tutorial', 'AdK')\n",
    "selection = 'backbone'\n",
    "stepsize = 1\n",
    "npc = 5\n",
    "\n",
    "\n",
    "os.makedirs(datapath, exist_ok=True)\n",
    "for dirname in ('pcs', 'variances', 'cumulative_variances', \n",
    "                'mean_atoms', 'transforms', \n",
    "                os.path.join('trajectories', 'PC'),\n",
    "                'images'):\n",
    "    os.makedirs(os.path.join(datapath, dirname), exist_ok=True)"
   ]
  },
  {
   "cell_type": "markdown",
   "id": "0815d35f",
   "metadata": {},
   "source": [
    "Let's make a universe object of our trajectory."
   ]
  },
  {
   "cell_type": "code",
   "execution_count": null,
   "id": "07da39ad",
   "metadata": {},
   "outputs": [],
   "source": [
    "u = mda.Universe(PSF, DCD)\n",
    "ag = u.select_atoms(selection)"
   ]
  },
  {
   "cell_type": "markdown",
   "id": "f2787e9c",
   "metadata": {},
   "source": [
    "Let's conduct principal component analysis of the trajectory."
   ]
  },
  {
   "cell_type": "markdown",
   "id": "2da079dd",
   "metadata": {},
   "source": [
    "[pca.PCA](http://www.mdanalysis.org/mdanalysis/documentation_pages/analysis/pca.html#pca-tutorial) creates a pca object which has all of the properties that we will need to use."
   ]
  },
  {
   "cell_type": "code",
   "execution_count": null,
   "id": "41b1ea39",
   "metadata": {},
   "outputs": [],
   "source": [
    "pc = pca.PCA(u, select=selection, align=True, verbose=True, step=stepsize)\n",
    "pc.run()"
   ]
  },
  {
   "cell_type": "markdown",
   "id": "5c43e4cc",
   "metadata": {},
   "source": [
    "The PCA object computes the eigenvectors of the corrdinate matrix in our protein universe (using numpy.linalg.eig); this calculation may take a few seconds. Let's save these principal component vectors themselves."
   ]
  },
  {
   "cell_type": "code",
   "execution_count": null,
   "id": "dad2e96d",
   "metadata": {},
   "outputs": [],
   "source": [
    "pc_pc = pc.p_components\n",
    "np.save(os.path.join(datapath, 'pcs', 'pcomponents.npy'), pc_pc)"
   ]
  },
  {
   "cell_type": "markdown",
   "id": "b344006c",
   "metadata": {},
   "source": [
    "We should also save the variance and cumulative variance data for later analysis."
   ]
  },
  {
   "cell_type": "markdown",
   "id": "d13b0f4c",
   "metadata": {},
   "source": [
    "The corresponding eigenvalue to each of these eigenvectors is equivalent to that eigenvector's variance."
   ]
  },
  {
   "cell_type": "code",
   "execution_count": null,
   "id": "d673883e",
   "metadata": {},
   "outputs": [],
   "source": [
    "pc_vars = pc.variance\n",
    "np.save(os.path.join(datapath,'variances', 'vars.npy'), pc_vars)"
   ]
  },
  {
   "cell_type": "markdown",
   "id": "56273e6e",
   "metadata": {},
   "source": [
    "The cumulative variance of one of the prinicipal components is the variance or eigenvalue associated with that component summed with all of the preceding variances."
   ]
  },
  {
   "cell_type": "markdown",
   "id": "0f0eacd8",
   "metadata": {},
   "source": [
    "How much of the total variance is capture by the first `npc` PCs?"
   ]
  },
  {
   "cell_type": "code",
   "execution_count": null,
   "id": "7ba27620",
   "metadata": {},
   "outputs": [],
   "source": [
    "pc.cumulated_variance[npc]"
   ]
  },
  {
   "cell_type": "code",
   "execution_count": null,
   "id": "6ddd1934",
   "metadata": {},
   "outputs": [],
   "source": [
    "npc"
   ]
  },
  {
   "cell_type": "markdown",
   "id": "d4a0448b",
   "metadata": {},
   "source": [
    "Save the data for later."
   ]
  },
  {
   "cell_type": "code",
   "execution_count": null,
   "id": "821365d9",
   "metadata": {},
   "outputs": [],
   "source": [
    "pc_cvars = pc.cumulated_variance\n",
    "np.save(os.path.join(datapath, 'cumulative_variances',\n",
    "                     'cumulativevars.npy'), pc_cvars)"
   ]
  },
  {
   "cell_type": "markdown",
   "id": "0cf8230a",
   "metadata": {},
   "source": [
    "Finally, let's save the average position of the atoms."
   ]
  },
  {
   "cell_type": "code",
   "execution_count": null,
   "id": "bd273455",
   "metadata": {},
   "outputs": [],
   "source": [
    "pc_ma = pc.mean_atoms\n",
    "pc_ma.write(os.path.join(datapath, 'mean_atoms' , 'meanatoms.pdb'))"
   ]
  },
  {
   "cell_type": "markdown",
   "id": "8510fd3a",
   "metadata": {},
   "source": [
    "## Creating projections"
   ]
  },
  {
   "cell_type": "markdown",
   "id": "ee28ac9c",
   "metadata": {},
   "source": [
    "We can now convert our original simulation data into the principal component coordinate system to view it in a new way."
   ]
  },
  {
   "cell_type": "markdown",
   "id": "20f99dc5",
   "metadata": {},
   "source": [
    "Now, we need to project the original projectory onto the principal components and store the projected data."
   ]
  },
  {
   "cell_type": "markdown",
   "id": "d93dd21c",
   "metadata": {},
   "source": [
    "$Y(t)=\\sum_{i=0}^{m}((X(t)-\\overline X) \\cdot u_i)u_i+\\overline X$ where\n",
    "\n",
    "$Y(t)$ is the projected trajectory,\n",
    "\n",
    "$X(t)$ is the original trajectory,\n",
    "\n",
    "$u_i$ is the principal component $i$, and\n",
    "\n",
    "$\\overline X$ is the coordinates of the average structure."
   ]
  },
  {
   "cell_type": "markdown",
   "id": "56f90fc0",
   "metadata": {},
   "source": [
    "`pca.transform()` computes the weights $w_i(t) = (X(t)-\\overline X) \\cdot u_i$ for each principal component $i$."
   ]
  },
  {
   "cell_type": "code",
   "execution_count": null,
   "id": "2241ef3a",
   "metadata": {},
   "outputs": [],
   "source": [
    "pc_transform = pc.transform(ag, n_components=npc)\n",
    "np.save(os.path.join(datapath, 'transforms', str(npc)+'components.npy'), pc_transform)"
   ]
  },
  {
   "cell_type": "markdown",
   "id": "c3f5d0cc",
   "metadata": {},
   "source": [
    "## Analyzing Data"
   ]
  },
  {
   "cell_type": "markdown",
   "id": "f5a02973",
   "metadata": {},
   "source": [
    "First, let's load our newly projected data."
   ]
  },
  {
   "cell_type": "code",
   "execution_count": null,
   "id": "72ac1458",
   "metadata": {},
   "outputs": [],
   "source": [
    "tpcs = np.load(os.path.join(datapath, 'transforms', \n",
    "                            str(npc)+'components.npy'))"
   ]
  },
  {
   "cell_type": "markdown",
   "id": "bc576729",
   "metadata": {},
   "source": [
    "We want to store this data into a more usable format, a pandas DataFrame, so we need to make a list of the columns we want to have."
   ]
  },
  {
   "cell_type": "code",
   "execution_count": null,
   "id": "bda3649b",
   "metadata": {},
   "outputs": [],
   "source": [
    "columns=[]\n",
    "for i in range(npc):\n",
    "    columns.append('PC'+str(i))"
   ]
  },
  {
   "cell_type": "markdown",
   "id": "161c5a89",
   "metadata": {},
   "source": [
    "Next, let's put our data into a DataFrame and set the index to be an indicator of time."
   ]
  },
  {
   "cell_type": "code",
   "execution_count": null,
   "id": "1dc175aa",
   "metadata": {},
   "outputs": [],
   "source": [
    "df = pd.DataFrame(tpcs, columns=columns)\n",
    "df['time']=df.index\n",
    "df = df.reset_index(drop=True)\n",
    "cols = df.columns.tolist()\n",
    "cols = cols[-1:] + cols[:-1]\n",
    "df = df[cols]\n",
    "df = df[::stepsize]"
   ]
  },
  {
   "cell_type": "markdown",
   "id": "2a4967c7",
   "metadata": {},
   "source": [
    "Now, we can use seaborn's PairGrid function to create a grid of principal component graphs."
   ]
  },
  {
   "cell_type": "code",
   "execution_count": null,
   "id": "ef10d88d",
   "metadata": {},
   "outputs": [],
   "source": [
    "g = sns.PairGrid(df, hue='time', \n",
    "                 palette=reversed(sns.color_palette('Oranges_d', n_colors=len(df))))\n",
    "g.map_lower(plt.scatter, edgecolor=\"white\", marker='.')\n",
    "g.savefig(os.path.join(datapath,'images', 'PCs.pdf'))\n",
    "g.savefig(os.path.join(datapath,'images', 'PCs.png'))"
   ]
  },
  {
   "cell_type": "markdown",
   "id": "07500269",
   "metadata": {},
   "source": [
    "We can also look at plots of the cumulative variance to visualize our data."
   ]
  },
  {
   "cell_type": "code",
   "execution_count": null,
   "id": "b36f6692",
   "metadata": {},
   "outputs": [],
   "source": [
    "cvars = np.load(os.path.join(datapath, 'cumulative_variances', 'cumulativevars.npy'))"
   ]
  },
  {
   "cell_type": "markdown",
   "id": "fc90e4d1",
   "metadata": {},
   "source": [
    "We need to create an axes object and set some labels, and then we can graph the cumulative variance."
   ]
  },
  {
   "cell_type": "code",
   "execution_count": null,
   "id": "af924197",
   "metadata": {},
   "outputs": [],
   "source": [
    "fig = plt.figure(figsize=(4,3))\n",
    "ax = fig.add_subplot(1,1,1)\n",
    "ax.set_title('AdK PCA '+selection)\n",
    "ax.set_xlabel('component number')\n",
    "ax.set_ylabel('cumulated variance')\n",
    "ax.set_xlim(None, 20)\n",
    "ax.plot(cvars)\n",
    "ax.axhline(y=1, color='r', linestyle='--')\n",
    "ax.xaxis.set_major_locator(ticker.MaxNLocator(integer=True))"
   ]
  },
  {
   "cell_type": "markdown",
   "id": "1bf1b400",
   "metadata": {},
   "source": [
    "Finally, we can save this plot."
   ]
  },
  {
   "cell_type": "code",
   "execution_count": null,
   "id": "a160159a",
   "metadata": {},
   "outputs": [],
   "source": [
    "ax.figure.savefig(os.path.join(datapath, 'images', 'cumulative_variances.pdf'))\n",
    "ax.figure.savefig(os.path.join(datapath, 'images', 'cumulative_variances.png'))"
   ]
  },
  {
   "cell_type": "markdown",
   "id": "66d49535",
   "metadata": {},
   "source": [
    "## Visualizing Projections"
   ]
  },
  {
   "cell_type": "markdown",
   "id": "c695d83c",
   "metadata": {},
   "source": [
    "We want to project the original trajectory on the principal components, i.e., we want to see the motions of the protein that are contained in the PC. The first few PCs contain most of the motion so large conformational changes should be obvious in the first few projections. Smaller scale motions should be filtered out."
   ]
  },
  {
   "cell_type": "markdown",
   "id": "5b9481ab",
   "metadata": {},
   "source": [
    "But first we need to finish the rest of the projection from where pca.transform leaves off."
   ]
  },
  {
   "cell_type": "markdown",
   "id": "507fdca5",
   "metadata": {},
   "source": [
    "First, let's load the data we saved."
   ]
  },
  {
   "cell_type": "code",
   "execution_count": null,
   "id": "779004f4",
   "metadata": {},
   "outputs": [],
   "source": [
    "pc_components = np.load(os.path.join(datapath, 'pcs' ,'pcomponents.npy'))\n",
    "u_mean = mda.Universe(os.path.join(datapath, 'mean_atoms', 'meanatoms.pdb'))"
   ]
  },
  {
   "cell_type": "markdown",
   "id": "33da0186",
   "metadata": {},
   "source": [
    "We also need to set the size of the projected trajectory and get some other data about our initial conditions."
   ]
  },
  {
   "cell_type": "code",
   "execution_count": null,
   "id": "83124f12",
   "metadata": {},
   "outputs": [],
   "source": [
    "start, stop, step = u.trajectory.check_slice_indices(None, None, 1)\n",
    "n_frames = len(range(start, stop, step))\n",
    "n_components = pc_components.shape[1]\n",
    "n_atoms = int(pc_components.shape[0]/3)"
   ]
  },
  {
   "cell_type": "markdown",
   "id": "67ddbb0d",
   "metadata": {},
   "source": [
    "We also need the principal component space."
   ]
  }
 ],
 "metadata": {},
 "nbformat": 4,
 "nbformat_minor": 5
}
