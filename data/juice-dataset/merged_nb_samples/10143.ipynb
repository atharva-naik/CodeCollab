{
 "cells": [
  {
   "cell_type": "markdown",
   "id": "c02e785d",
   "metadata": {},
   "source": [
    "# Week 9 Pandas Part 3\n",
    "\n",
    "This week we will introduce another data structure in python: Dictionaries. Dictionaries are a useful way of storing key:value relationships and can help us be more efficient in manipulating dataframes. We will look at how we can use dictionaries to load in data more efficiently, do advanced aggregations, rename columns, and create new columns."
   ]
  },
  {
   "cell_type": "markdown",
   "id": "b8caea61",
   "metadata": {},
   "source": [
    "## Dictionarys\n",
    "\n",
    "Dictionaries are a helpful way to store information when a element (key) is attached to another specific element (value). If you were to look up a apple (key) in webster's dictionary there would be the definition, the round fruit of a tree of the rose family (value)."
   ]
  },
  {
   "cell_type": "code",
   "execution_count": null,
   "id": "3496328f",
   "metadata": {},
   "outputs": [],
   "source": [
    "import pandas as pd\n",
    "import numpy as np\n",
    "\n",
    "# dictionary syntax\n",
    "# {key:value}\n",
    "\n",
    "my_dict = {'apple':['the round fruit of a tree of the rose family']}"
   ]
  },
  {
   "cell_type": "code",
   "execution_count": null,
   "id": "437bc43a",
   "metadata": {},
   "outputs": [],
   "source": [
    "# we can call the value of any given key of the dictionary\n",
    "\n",
    "my_dict['apple']"
   ]
  },
  {
   "cell_type": "code",
   "execution_count": null,
   "id": "954a4c5d",
   "metadata": {},
   "outputs": [],
   "source": [
    "# we cant call information positionally like we would with a list\n",
    "\n",
    "my_dict[0]"
   ]
  },
  {
   "cell_type": "code",
   "execution_count": null,
   "id": "0178c57e",
   "metadata": {},
   "outputs": [],
   "source": [
    "# dictionaries can store many different types of structures as values\n",
    "\n",
    "my_dict = {\n",
    "    \n",
    "    'my_string':'round',\n",
    "    'my_int':1,\n",
    "    'my_list':[1,2,3,4],\n",
    "    'my_tuple':(3,5),\n",
    "    'my_df':pd.DataFrame(),\n",
    "}\n"
   ]
  },
  {
   "cell_type": "code",
   "execution_count": null,
   "id": "99f5dbd5",
   "metadata": {},
   "outputs": [],
   "source": [
    "# only unmutable data structures can be used as keys (strings, integers, tuples)\n",
    "\n",
    "my_dict = {\n",
    "    \n",
    "    1:143,\n",
    "    'one':5653,\n",
    "    (9,3):34534\n",
    "}"
   ]
  },
  {
   "cell_type": "markdown",
   "id": "65c400dc",
   "metadata": {},
   "source": [
    "## Loading in Columns as Specific Data Types\n",
    "\n",
    "In order to be efficient with memory, we can load our data in with specifc data types that might take up less space."
   ]
  },
  {
   "cell_type": "code",
   "execution_count": null,
   "id": "781b514b",
   "metadata": {},
   "outputs": [],
   "source": [
    "cereal_data = pd.read_csv('data//cereal.csv')\n",
    "\n",
    "cereal_data.info()"
   ]
  },
  {
   "cell_type": "code",
   "execution_count": null,
   "id": "551db3f4",
   "metadata": {},
   "outputs": [],
   "source": [
    "dtype_dict = {\n",
    "    \n",
    "    'calories':'int8',\n",
    "    'protein':'int8',\n",
    "    'fat':'int8',\n",
    "    'sodium':'int8',\n",
    "    'sugars':'int8',\n",
    "    'potass':'int8',\n",
    "    'vitamins':'int8',\n",
    "    'shelf':'int8',\n",
    "    'fiber':'float16',\n",
    "    'carbo':'float16'\n",
    "}\n",
    "\n",
    "cereal_small = pd.read_csv('data//cereal.csv', dtype = dtype_dict)\n",
    "\n",
    "cereal_small.info()"
   ]
  },
  {
   "cell_type": "markdown",
   "id": "d4fd25e6",
   "metadata": {},
   "source": [
    "## Advanced Group by\n",
    "\n",
    "Doing a groupby where we assign different operations to different columns is a situation where dictionaries come in handy."
   ]
  },
  {
   "cell_type": "code",
   "execution_count": null,
   "id": "e4c3b878",
   "metadata": {},
   "outputs": [],
   "source": [
    "cereal_data.head()"
   ]
  },
  {
   "cell_type": "code",
   "execution_count": null,
   "id": "a0cd609a",
   "metadata": {},
   "outputs": [],
   "source": [
    "# what if we want the sum of calories and the mean of fat?\n",
    "\n",
    "cereal_data.groupby('mfr').agg(['sum','mean'])"
   ]
  },
  {
   "cell_type": "code",
   "execution_count": null,
   "id": "1d432324",
   "metadata": {},
   "outputs": [],
   "source": [
    "f = {\n",
    "    \n",
    "    'calories':'sum',\n",
    "    'protein':'median',\n",
    "    'fiber':'count'\n",
    "    \n",
    "}\n",
    "\n",
    "cereal_grp = cereal_data.groupby('mfr').agg(f).reset_index()\n",
    "\n",
    "cereal_grp"
   ]
  },
  {
   "cell_type": "markdown",
   "id": "e2f21281",
   "metadata": {},
   "source": [
    "## Renaming columns\n",
    "\n",
    "Now we have our aggregated data, we might want to rename the columns so we dont get confused with our original dataset. We can use another dictionary to do this!"
   ]
  },
  {
   "cell_type": "code",
   "execution_count": null,
   "id": "2a6f59f6",
   "metadata": {},
   "outputs": [],
   "source": [
    "rename_dict = {\n",
    "    \n",
    "    'calories':'calories_sum',\n",
    "    'protein':'protein_median',\n",
    "    'fiber':'mfr_item_count'\n",
    "}\n",
    "\n",
    "cereal_grp = cereal_grp.rename(columns = rename_dict)\n",
    "\n",
    "cereal_grp"
   ]
  },
  {
   "cell_type": "markdown",
   "id": "8a3b7454",
   "metadata": {},
   "source": [
    "## Mapping values to create columns"
   ]
  }
 ],
 "metadata": {},
 "nbformat": 4,
 "nbformat_minor": 5
}
