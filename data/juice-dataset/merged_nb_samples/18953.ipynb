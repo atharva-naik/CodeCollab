{
 "cells": [
  {
   "cell_type": "markdown",
   "id": "51213026",
   "metadata": {},
   "source": [
    "In the [last notebook](1-Build%20Simulations.ipynb), we generated simulated data for five types of parametric tests: a one sample t test, an independent sample t test, a one-way ANOVA with three groups, a one-way ANOVA with eight groups, and a simple linear correlation.\n",
    "\n",
    "We will calculate the the distribution-based power using equations described in *Statistical Power Analysis for the Social and Behavioral Sciences : Basic and Advanced Techniques* [<a href=\"#1\">1</a>].\n",
    "\n",
    "This notebook is expected to take about an hour to run. You can limit run time by downloading the precomputed files from [location]."
   ]
  },
  {
   "cell_type": "code",
   "execution_count": null,
   "id": "39180a12",
   "metadata": {},
   "outputs": [],
   "source": [
    "from functools import partial\n",
    "import os\n",
    "import pickle\n",
    "import warnings\n",
    "\n",
    "import numpy as np\n",
    "import scipy.stats\n",
    "import skbio\n",
    "\n",
    "from machivellian.power import subsample_power\n",
    "import machivellian.traditional as trad"
   ]
  },
  {
   "cell_type": "markdown",
   "id": "d3e4edb0",
   "metadata": {},
   "source": [
    "# Simulation Parameters"
   ]
  },
  {
   "cell_type": "markdown",
   "id": "4d37f6af",
   "metadata": {},
   "source": [
    "In notebook 1, we simulated 100 distributions for each test."
   ]
  },
  {
   "cell_type": "code",
   "execution_count": null,
   "id": "e597a378",
   "metadata": {},
   "outputs": [],
   "source": [
    "num_rounds = 100"
   ]
  },
  {
   "cell_type": "markdown",
   "id": "38bbe2aa",
   "metadata": {},
   "source": [
    "The distributions should be kept in a directory called `simulations` in the current directory. If the downloaded files have been moved to a different location, this directory needs to be adjusted."
   ]
  },
  {
   "cell_type": "code",
   "execution_count": null,
   "id": "8a3f70ee",
   "metadata": {},
   "outputs": [],
   "source": [
    "sim_location = './simulations/'\n",
    "if not os.path.exists(sim_location):\n",
    "    raise ValueError('The simulation directory does not exist.' \n",
    "                     'Go back and simulate some data!')"
   ]
  },
  {
   "cell_type": "markdown",
   "id": "323f76d4",
   "metadata": {},
   "source": [
    "Power calculations are expensive, so users may prefer not to perform them if power has already been calculated."
   ]
  },
  {
   "cell_type": "code",
   "execution_count": null,
   "id": "e7675787",
   "metadata": {},
   "outputs": [],
   "source": [
    "overwrite = False"
   ]
  },
  {
   "cell_type": "markdown",
   "id": "11d78089",
   "metadata": {},
   "source": [
    "We can bootstrap power, so we will calculate power with between 5 and 100 observations, counting by 10s. We will use a critical value of 0.05. Each power calculation will be calculated from 100 tests, and we'll repeat the calcualations 5 times at each depth."
   ]
  },
  {
   "cell_type": "markdown",
   "id": "377f0dce",
   "metadata": {},
   "source": [
    "# 3.2 Independent T test"
   ]
  },
  {
   "cell_type": "markdown",
   "id": "6706d12b",
   "metadata": {},
   "source": [
    "The case II t test is a test for two independent samples, to determine if the samples are drawn from different distributions.\n",
    "\n",
    "$\\begin{matrix}\n",
    "\\textbf{H}_{0} & \\bar{x}_{1} = \\bar{x}_{2} \\\\\n",
    "\\textbf{H}_{1} & \\bar{x}_{1} \\neq \\bar{x}_{2}\\\\\n",
    "\\end{matrix} \\tag{3.1}$"
   ]
  },
  {
   "cell_type": "markdown",
   "id": "d0650e1e",
   "metadata": {},
   "source": [
    "## 3.2.1 Test Statistic"
   ]
  },
  {
   "cell_type": "markdown",
   "id": "894cec1c",
   "metadata": {},
   "source": [
    "There are several ways to calculate this t statistic, but we will operate on the assumption that the two populations have different variances, giving the most extensibe calculation of the test statistic. So,\n",
    "\n",
    "$\\begin{align*}\n",
    "t &= \\frac{\\bar{x}_{1} - \\bar{x}_{2}}{\\sqrt{\\frac{s_{1}^{2}}{n_{1}} + \\frac{s_{2}^{2}}{n_{2}}}}\\\\\n",
    "&= \\frac{\\bar{x}_{1} - \\bar{x}_{2}}{\\sqrt{\\frac{n_{2}s_{1}^{2} + n_{1}s_{2}^{2}}{n_{1}n_{2}}}}\n",
    "\\end{align*}\\tag{3.2}$\n",
    "\n",
    "The t statistic follows a T distribution with $df$ degrees of freedom, where $df$ is given as\n",
    "$df = \\frac{(s_{1}^{2}/n_{1} + s_{2}^{2}/n_{2})^{2}}{(s_{1}^{2}/n_{1})^2/(n_{1}-1) + s_{2}^{2}/n_{2})^2/(n_{2}-1)} \\tag{3.3}$\n",
    "\n",
    "For the sake of simplicity, we'll assume that $n_{1} = n_{2}$, which allows us to redefine equation (2.1) as\n",
    "$\\begin{align*}\n",
    "t &= \\frac{(\\bar{x}_{1} - \\bar{x}_{2})}{\\sqrt{\\frac{s_{1}^{2}}{n} + \\frac{s_{2}^{2}}{n}}}\\\\\n",
    "&= \\frac{\\sqrt{n}(\\bar{x}_{1} - \\bar{x}_{2})}{\\sqrt{s_{1}^{2} + s_{2}^{2}}}\n",
    "\\end{align*}\\tag{3.4}$\n",
    "which means the test statitic is now drawn from a t distribution with df degrees of freedom, where\n",
    "df is defined as\n",
    "$\\begin{align*}\n",
    "df &= \\left (n-1 \\right ) \\left (\\frac{\\left (s_{1}^{2} + s_{2}^{2}  \\right )^{2}}{\\left (s_{1}^{2} \\right)^{2} + \\left (s_{2}^{2}  \\right )^{2}} \\right )\\\\\n",
    "\\end{align*}\\tag{3.5}$\n",
    "\n",
    "For the emperical test, we can use the `scipy.stats.ttest_ind` function, which will return a p value.\n",
    "\n",
    "For the sake of simplicity, we'll assume that $n_{1} = n_{2}$, which allows us to redefine equation (2.1) as\n",
    "$\\begin{align*}\n",
    "t &= \\frac{(\\bar{x}_{1} - \\bar{x}_{2})}{\\sqrt{\\frac{s_{1}^{2}}{n} + \\frac{s_{2}^{2}}{n}}}\\\\\n",
    "&= \\frac{\\sqrt{n}(\\bar{x}_{1} - \\bar{x}_{2})}{\\sqrt{s_{1}^{2} + s_{2}^{2}}}\n",
    "\\end{align*}\\tag{3.4}$\n",
    "which means the test statitic is now drawn from a t distribution with df degrees of freedom, where\n",
    "df is defined as\n",
    "$\\begin{align*}\n",
    "df &= \\left (n-1 \\right ) \\left (\\frac{\\left (s_{1}^{2} + s_{2}^{2}  \\right )^{2}}{\\left (s_{1}^{2} \\right)^{2} + \\left (s_{2}^{2}  \\right )^{2}} \\right )\\\\\n",
    "\\end{align*}\\tag{3.5}$\n",
    "\n",
    "For the emperical test, we can use the `scipy.stats.ttest_ind` function, which will return a p value."
   ]
  },
  {
   "cell_type": "code",
   "execution_count": null,
   "id": "e8a2c66e",
   "metadata": {},
   "outputs": [],
   "source": [
    "def emp_ttest_ind(samples):\n",
    "    sample1, sample2 = samples\n",
    "    return scipy.stats.ttest_ind(sample1, sample2)[1]"
   ]
  },
  {
   "cell_type": "markdown",
   "id": "b941db04",
   "metadata": {},
   "source": [
    "## 3.2.2 Noncentrality Parameter"
   ]
  },
  {
   "cell_type": "markdown",
   "id": "95bb9d49",
   "metadata": {},
   "source": [
    "The effect size, non-centrality parameter, for an independent sample t test where samples are the same size is once again related to the test statistic as\n",
    "$\\begin{align*}\n",
    "\\lambda &= \\frac{t}{\\sqrt{n}}\\\\\n",
    "&= \\left (\\frac{\\sqrt{n} \\left (\\bar{x}_{1} - \\bar{x}_{2} \\right )}{\\sqrt{s_{1}^{2} + s_{2}^{2}}} \\right ) \\left (\\frac{1}{\\sqrt{n}} \\right )\\\\\n",
    "&= \\left (\\frac{\\bar{x}_{1}^{2} - \\bar{x}_{2}^{2}}{\\sqrt{s_{1}^{2} + s_{2}^{2}}} \\right )\n",
    "\\end{align*}\\tag{3.8}$"
   ]
  },
  {
   "cell_type": "code",
   "execution_count": null,
   "id": "6bcd57f5",
   "metadata": {},
   "outputs": [],
   "source": [
    "distributions['ttest_ind'] = {'clean_name': 'Independent Sample T test',\n",
    "                              'test': emp_ttest_ind,\n",
    "                              'trad_power': partial(trad.calc_ttest_ind, \n",
    "                                                    counts=counts),\n",
    "                              'empr_power': partial(subsample_power, \n",
    "                                                  counts=counts, \n",
    "                                                  num_iter=1000, \n",
    "                                                  num_runs=3,\n",
    "                                                  test=emp_ttest_ind)\n",
    "                              }"
   ]
  },
  {
   "cell_type": "markdown",
   "id": "a70ae3e8",
   "metadata": {},
   "source": [
    "# 3.3 One way Analysis of Variance"
   ]
  },
  {
   "cell_type": "markdown",
   "id": "e25777c5",
   "metadata": {},
   "source": [
    "Assume there exist a set of samples, $\\{S_{1}, S_{2}, ..., S_{k} \\}$ where there are a total of $N$ observations distributed over the $k$ groups. The $i$th sample, $S_{i}$ contains $n_{i}$ observations, and has a mean of $\\bar{x}_{.i}$ and a standard deviation, $s_{i}$ where\n",
    "\n",
    "$\\begin{align*}\n",
    "s_{i} = \\sqrt{\\frac{\\sum_{j=1}^{n}{\\left (x_{ij} - \\bar{x}_{.i} \\right)^{2}}}{n_{i}-1}}\n",
    "\\end{align*}\\tag{4.1}$\n",
    "\n",
    "A one-way Analysis of Variance (ANOVA) tests that at least one sample mean in a set of three or more are not equal. Assume that \n",
    "\n",
    "$\\begin{matrix}\n",
    "\\textbf{H}_{0} & \\bar{x}_{1} = \\bar{x}_{2} = ... \\bar{x}_{k} & \\\\\n",
    "\\textbf{H}_{1} & \\bar{x}_{i} \\neq \\bar{x}_{j} & \\exists i,j \\epsilon [1, k], i \\neq j\n",
    "\\end{matrix} \\tag{4.2}$"
   ]
  },
  {
   "cell_type": "markdown",
   "id": "a1068ef1",
   "metadata": {},
   "source": [
    "## 3.3.1 Test Statistic"
   ]
  },
  {
   "cell_type": "markdown",
   "id": "15a60316",
   "metadata": {},
   "source": [
    "Assume there exist a set of samples, $\\{S_{1}, S_{2}, ..., S_{k} \\}$ where there are a total of $N$ observations distributed over the $k$ groups. The $i$th sample, $S_{i}$ contains $n_{i}$ observations, and has a mean of $\\bar{x}_{.i}$ and a standard deviation, $s_{i}$ where\n",
    "\n",
    "$\\begin{align*}\n",
    "s_{i} = \\sqrt{\\frac{\\sum_{j=1}^{n}{\\left (x_{ij} - \\bar{x}_{.i} \\right)^{2}}}{n_{i}-1}}\n",
    "\\end{align*}\\tag{4.1}$\n",
    "\n",
    "A one-way Analysis of Variance (ANOVA) tests that at least one sample mean in a set of three or more are not equal. Assume that \n",
    "\n",
    "$\\begin{matrix}\n",
    "\\textbf{H}_{0} & \\bar{x}_{1} = \\bar{x}_{2} = ... \\bar{x}_{k} & \\\\\n",
    "\\textbf{H}_{1} & \\bar{x}_{i} \\neq \\bar{x}_{j} & \\exists i,j \\epsilon [1, k], i \\neq j\n",
    "\\end{matrix} \\tag{4.2}$\n",
    "\n",
    "The test statistic for ANOVA is given by\n",
    "$\\begin{align*}\n",
    "F &= \\frac{\\frac{\\textrm{SS}_{\\textrm{between}}}{\\textrm{DF}_{\\textrm{between}}}}{\\frac{\\textrm{SS}_{\\textrm{within}}}{\\textrm{DF}_{\\textrm{within}}}}\n",
    "\\end{align*}\\tag{4.3}$\n",
    "and test statistic is drawn from an $F$ distribution with $k - 1$ and $N - k$ degrees of freedom [[3](#Zar)].\n",
    "\n",
    "For the emperical test, we can use the `scipy.stats.f_oneway` function, which will return a p value."
   ]
  },
  {
   "cell_type": "code",
   "execution_count": null,
   "id": "44c70af7",
   "metadata": {},
   "outputs": [],
   "source": [
    "def emp_anova(samples):\n",
    "    return scipy.stats.f_oneway(*samples)[1]"
   ]
  },
  {
   "cell_type": "markdown",
   "id": "c7ef12d0",
   "metadata": {},
   "source": [
    "## 3.3.2 Noncentrality Parameter"
   ]
  },
  {
   "cell_type": "markdown",
   "id": "f6b6e2f7",
   "metadata": {},
   "source": [
    "Under the alternatively hypothesis, the non-centrality $F'$ is given by\n",
    "\n",
    "$\\begin{align*}\n",
    "F' = \\left(\\frac{\\textrm{SS}_{\\textrm{between}}}{\\textrm{SS}_{\\textrm{within}}} \\right) \\left (\\frac{\\textrm{DF}_{\\textrm{within}}}{\\textrm{DF}_{\\textrm{between}}}{} \\right )\n",
    "\\end{align*}\\tag{4.9}$\n",
    "\n",
    "For a given pair of hypotheses, the noncentrality parameter is defined according to equation (2.4), where the grand mean can be substituted for the the test mean. The overall effect size is therefore given as\n",
    "$\\begin{align*}\n",
    "\\lambda &= \\sum_{i=1}^{k}{\\lambda_{i}^{2}}\\\\\n",
    "&= \\sum_{i=1}^{k}\\left (\\frac{\\bar{x}_{i} - \\bar{x}_{..}}{s_{i}} \\right )^{2} \n",
    "\\end{align*} \\tag{4.10}$"
   ]
  },
  {
   "cell_type": "markdown",
   "id": "b694aeb1",
   "metadata": {},
   "source": [
    "Our simulations will focus on the 3 sample ANOVA we generated earlier."
   ]
  },
  {
   "cell_type": "code",
   "execution_count": null,
   "id": "d02cb45c",
   "metadata": {},
   "outputs": [],
   "source": [
    "distributions['anova_3'] = {'clean_name': 'ANOVA (3 groups)',\n",
    "                            'test': emp_anova,\n",
    "                            'trad_power': partial(trad.calc_anova, \n",
    "                                                  counts=counts),\n",
    "                            'empr_power': partial(subsample_power, \n",
    "                                                  counts=counts, \n",
    "                                                  num_iter=1000, \n",
    "                                                  num_runs=3,\n",
    "                                                  test=emp_anova)\n",
    "                              }\n",
    "distributions['anova_8'] = {'clean_name': 'ANOVA (8 groups)',\n",
    "                            'test': emp_anova,\n",
    "                            'trad_power': partial(trad.calc_anova, \n",
    "                                                  counts=counts),\n",
    "                            'empr_power': partial(subsample_power, \n",
    "                                                  counts=counts, \n",
    "                                                  num_iter=1000, \n",
    "                                                  num_runs=3,\n",
    "                                                  test=emp_anova)\n",
    "                              }"
   ]
  },
  {
   "cell_type": "markdown",
   "id": "97b7313d",
   "metadata": {},
   "source": [
    "# 3.4 Pearson's R"
   ]
  },
  {
   "cell_type": "markdown",
   "id": "53c029bf",
   "metadata": {},
   "source": [
    "Pearson's correlation coeffecient looks for a linear one-to-one relationship between two vectors, $x$ and $y$, both of size $n$. Closely related vectors have a correlation coeffecient with an absloute value of 1, unrelated data have a correlation coeffecient of 0."
   ]
  },
  {
   "cell_type": "markdown",
   "id": "f078a87b",
   "metadata": {},
   "source": [
    "## 3.4.1 Test Statistic"
   ]
  },
  {
   "cell_type": "markdown",
   "id": "08e0df2f",
   "metadata": {},
   "source": [
    "The correlation coeffecient between the two vectors is given by\n",
    "$\\begin{align*}\n",
    "r = \\frac{\\sum{xy}}{\\sqrt{\\sum{x^{2}}\\sum{y^{2}}}}\n",
    "\\end{align*}\\tag{5.1}$\n",
    "\n",
    "We can test the hypotheses,\n",
    "$\\begin{matrix}\n",
    "\\textbf{H}_{0} & r = 0 \\\\\n",
    "\\textbf{H}_{1} & x \\neq 0\\\\\n",
    "\\end{matrix} \\tag{5.2}$\n",
    "with a test statistic drawn from the $t$ distribution with $n - 2$ degrees of freedom. The statistic is calculated as\n",
    "$\\begin{align*}\n",
    "t = \\frac{r\\sqrt{n-2}}{\\sqrt{1 - r^{2}}}\n",
    "\\end{align*}\\tag{5.3}$\n",
    "\n",
    "Scipy's `scipy.stats.pearsonr` can calculate the correlation coeffecient *and* a p value for the coeffecient."
   ]
  },
  {
   "cell_type": "code",
   "execution_count": null,
   "id": "6e2a398b",
   "metadata": {},
   "outputs": [],
   "source": [
    "def emp_pearson(samples):\n",
    "    return scipy.stats.pearsonr(*samples)[1]"
   ]
  },
  {
   "cell_type": "markdown",
   "id": "304e42ef",
   "metadata": {},
   "source": [
    "## 3.4.2 Noncentrality Parameter"
   ]
  },
  {
   "cell_type": "markdown",
   "id": "0c6a4343",
   "metadata": {},
   "source": [
    "The noncentrality parameter for pearson's correlation coeffecient is given by\n",
    "$\\begin{align}\n",
    "\\lambda = \\frac{r}{\\sqrt{1 - r^{2}}}\n",
    "\\end{align}\\tag{5.4}$"
   ]
  },
  {
   "cell_type": "markdown",
   "id": "8f8800ea",
   "metadata": {},
   "source": [
    "The test statistic for the case I t test is given as\n",
    "$t = \\frac{(\\bar{x} - x)\\sqrt{n}}{s} \\tag{2.2}$\n",
    "The probability distribution follows a T distribution with $n-1$ degrees of freedom, where $n$ is the number of observations in the sample.\n",
    "\n",
    "\n",
    "For the emperical test, we will use the `scipy.stats.ttest_1samp` function, which returns a p value."
   ]
  },
  {
   "cell_type": "code",
   "execution_count": null,
   "id": "7324784b",
   "metadata": {},
   "outputs": [],
   "source": [
    "def emp_ttest_1(sample, x0=0):\n",
    "    return scipy.stats.ttest_1samp(sample[0], x0)[1]"
   ]
  },
  {
   "cell_type": "markdown",
   "id": "ef4d3ab6",
   "metadata": {},
   "source": [
    "## 3.1.2 Effect Size"
   ]
  },
  {
   "cell_type": "markdown",
   "id": "cab41996",
   "metadata": {},
   "source": [
    "The non centrality paramter for the statistic, $\\lambda$ is given by\n",
    "$\\begin{align*}\n",
    "\\lambda &= \\frac{t}{\\sqrt{n}}\\\\\n",
    "&=\\frac{1}{\\sqrt{n}}\\left(\\frac{(\\bar{x} - x)\\sqrt{n}}{s}\\right )\\\\\n",
    "&=\\frac{(\\bar{x} - x)}{s}\n",
    "\\end{align*}\\tag{2.4}$\n",
    "\n",
    "We will encorperate this in the power calculation. To allow for testing, the power calculation has been moved into a library."
   ]
  },
  {
   "cell_type": "code",
   "execution_count": null,
   "id": "c05f1d01",
   "metadata": {},
   "outputs": [],
   "source": [
    "distributions['ttest_1'] = {'clean_name': 'One Sample T Test',\n",
    "                            'test': emp_ttest_1,\n",
    "                            'trad_power': partial(trad.calc_ttest_1, \n",
    "                                                  x0=0, \n",
    "                                                  counts=counts),\n",
    "                            'empr_power': partial(subsample_power, \n",
    "                                                  counts=counts, \n",
    "                                                  num_iter=1000, \n",
    "                                                  num_runs=3,\n",
    "                                                  test=emp_ttest_1)\n",
    "                            }"
   ]
  },
  {
   "cell_type": "code",
   "execution_count": null,
   "id": "948429a5",
   "metadata": {},
   "outputs": [],
   "source": [
    "counts = np.arange(5, 100, 10)\n",
    "alpha = 0.05\n",
    "\n",
    "num_iter = 100\n",
    "run_runs = 5"
   ]
  },
  {
   "cell_type": "markdown",
   "id": "f67bc39d",
   "metadata": {},
   "source": [
    "We have five parametric distributions we'll investigate. We'll go through them starting with the categorical tests with increasing group sizes, and then the continous data."
   ]
  },
  {
   "cell_type": "code",
   "execution_count": null,
   "id": "ed2ec2f6",
   "metadata": {},
   "outputs": [],
   "source": [
    "parametric = ['ttest_1', 'ttest_ind', 'anova_3', 'anova_8', 'correlation']\n",
    "distributions = {}"
   ]
  },
  {
   "cell_type": "markdown",
   "id": "d85f2d23",
   "metadata": {},
   "source": [
    "# 3.1 One Sample T test"
   ]
  },
  {
   "cell_type": "markdown",
   "id": "bf9f075a",
   "metadata": {},
   "source": [
    "A case I t-test checks if an observation is drawn from a sample. We are testing the alternatively hypotheses,\n",
    "\n",
    "$\\begin{matrix}\n",
    "\\textbf{H}_{0} & x = \\bar{x} \\\\\n",
    "\\textbf{H}_{1} & x \\neq \\bar{x}\\\\\n",
    "\\end{matrix} \\tag{2.1}$\n",
    "\n",
    "where $\\bar{x}$ is the mean of the population, $x$ is the value being compared to the sample, $s$ is the standard devation of the sample, and there are $n$ observations in the sample."
   ]
  },
  {
   "cell_type": "markdown",
   "id": "97de4c8e",
   "metadata": {},
   "source": [
    "## 3.1.1 Test Statistic"
   ]
  }
 ],
 "metadata": {},
 "nbformat": 4,
 "nbformat_minor": 5
}
