{
 "cells": [
  {
   "cell_type": "markdown",
   "id": "78d78567",
   "metadata": {},
   "source": [
    "# Retrieve Images in new Grids and Sampling\n",
    "\n",
    "### Fei Zhang @Geoscience Australia\n",
    "\n",
    "August 2016"
   ]
  },
  {
   "cell_type": "markdown",
   "id": "cada2612",
   "metadata": {},
   "source": [
    "## Introduction"
   ]
  },
  {
   "cell_type": "markdown",
   "id": "91b28343",
   "metadata": {},
   "source": [
    "Datacube APIs to retrieve gridded data (images), and output in new CRS and samplings - as long as the CRS is supported by python GDAL lib. \n",
    "\n",
    "### Related Topics: \n",
    "\n",
    "1) Userguide how to index a dataset (like DSM) make it recognised by datacube ?\n",
    "\n",
    "2) How to export proper geotiff (and netcdf) files from the new images?"
   ]
  },
  {
   "cell_type": "markdown",
   "id": "c539fa33",
   "metadata": {},
   "source": [
    "## Interactive Computing"
   ]
  },
  {
   "cell_type": "code",
   "execution_count": null,
   "id": "61af646c",
   "metadata": {},
   "outputs": [],
   "source": [
    "%matplotlib inline\n",
    "import matplotlib.pyplot as plt\n",
    "from scipy import stats\n",
    "import numpy as np\n",
    "import math\n",
    "import pandas\n",
    "\n",
    "import sys\n",
    "sys.path.insert(0, '/g/data/u46/fxz547/Githubz/agdc-v2')#'/home/547/fxz547/myGithub/agdc-v2')  #prepend a path"
   ]
  },
  {
   "cell_type": "code",
   "execution_count": null,
   "id": "35e19e8b",
   "metadata": {},
   "outputs": [],
   "source": [
    "# import AGDC Python API modules\n",
    "\n",
    "import datacube\n",
    "from datacube.storage import masking\n",
    "\n",
    "# Create an API data access object\n",
    "dc = datacube.Datacube(app='GetData')\n",
    "\n",
    "dc"
   ]
  },
  {
   "cell_type": "markdown",
   "id": "4f8c9e88",
   "metadata": {},
   "source": [
    "We can access the Postgres Database (metadata index) and its associated imagery data."
   ]
  },
  {
   "cell_type": "markdown",
   "id": "49f703ef",
   "metadata": {},
   "source": [
    "## Datacube Products List \n",
    "The Datacube provides pandas.DataFrame representations of the available products and measurements:"
   ]
  },
  {
   "cell_type": "code",
   "execution_count": null,
   "id": "bcd68829",
   "metadata": {},
   "outputs": [],
   "source": [
    "nbar_by_solar_day"
   ]
  },
  {
   "cell_type": "markdown",
   "id": "4164428e",
   "metadata": {},
   "source": [
    "## Clear-sky images and cloudy images, we have to deal with in AGDC\n"
   ]
  },
  {
   "cell_type": "code",
   "execution_count": null,
   "id": "1fa30b77",
   "metadata": {},
   "outputs": [],
   "source": [
    "# 0, 5, 8 not cloudy\n",
    "# 1,2,3,4 cloudy day\n",
    "make_rgb_images(nbar_by_solar_day, 5 )"
   ]
  },
  {
   "cell_type": "code",
   "execution_count": null,
   "id": "47b7f98a",
   "metadata": {},
   "outputs": [],
   "source": [
    "# import os\n",
    "itime=0\n",
    "ds=nbar_by_solar_day\n",
    "fname=str(nbar.time.values[itime])[:19].replace(':','')\n",
    "fname =\"nbarsolar%s.tiff\"%fname\n",
    "path2fname=os.path.join(\"/short/v10/fxz547/Dexport\",fname)\n",
    "write_geotiff(path2fname, ds, itime)"
   ]
  },
  {
   "cell_type": "markdown",
   "id": "69f571c7",
   "metadata": {},
   "source": [
    "##  Applications based on AGDC\n",
    "\n",
    "### Derive information products \n",
    "### Must identify and remove invalid observations: cloud, shadow, satuared pixels\n",
    "\n",
    "### Band maths: combine the bands to derive new variables (artificial bands)\n",
    "\n",
    "-  Normalized Difference Vegetation Index, NDVI\n",
    "-  Normalized Difference Water Index,  NDWI\n",
    "-  These index can help to clearly identify certain land cover features: Vegetation, water bodies"
   ]
  },
  {
   "cell_type": "code",
   "execution_count": null,
   "id": "f69d381e",
   "metadata": {},
   "outputs": [],
   "source": [
    "#  from datacube.storage import masking\n",
    "\n",
    "bands = dc.load(product='ls8_nbar_albers', x=xp, y=yp, time=tp, measurements=['red', 'nir', 'green', 'swir1'], \n",
    "                group_by='solar_day')\n",
    "red = bands.red.where(bands.red != bands.red.attrs['nodata'])\n",
    "nir = bands.nir.where(bands.nir != bands.nir.attrs['nodata'])\n",
    "                    \n",
    "green = bands.green.where(bands.green != bands.green.attrs['nodata'])\n",
    "swir1 = bands.swir1.where(bands.swir1 != bands.swir1.attrs['nodata'])\n",
    "\n",
    "# Retrieve the associated Pixel Quality datasets\n",
    "pq = dc.load(product='ls8_pq_albers', x=xp, y=yp,  time=tp, group_by='solar_day') #, fuse_func='')\n",
    "\n",
    "cloud_free = masking.make_mask(pq, cloud_acca='no_cloud', cloud_fmask='no_cloud', contiguous=True).pixelquality\n",
    "\n"
   ]
  },
  {
   "cell_type": "markdown",
   "id": "00dc46c8",
   "metadata": {},
   "source": [
    "### Compute Indexes: NDVI and NDWI\n",
    "\n",
    "#### Numpy array arithmetics without looping"
   ]
  },
  {
   "cell_type": "code",
   "execution_count": null,
   "id": "3a5e99fc",
   "metadata": {},
   "outputs": [],
   "source": [
    "\n",
    "# Normalized Differenc Vegetation Index: Red and near Infrared bands\n",
    "\n",
    "ndvi = ((nir - red) / (nir + red)).where(cloud_free)\n",
    "\n",
    "# Normalized Differenc Water Index: Green and Shortwave Infrared Bands\n",
    "\n",
    "ndwi = ((swir1- green)/(green + swir1)).where(cloud_free)\n",
    "\n",
    "#ndwi = ((green- swir1)/(green + swir1)).where(cloud_free)\n",
    "\n",
    "ndvi.shape\n"
   ]
  },
  {
   "cell_type": "code",
   "execution_count": null,
   "id": "7bc45f56",
   "metadata": {},
   "outputs": [],
   "source": [
    "ndwi.shape"
   ]
  },
  {
   "cell_type": "code",
   "execution_count": null,
   "id": "8f354924",
   "metadata": {},
   "outputs": [],
   "source": [
    "# skip ndvi plots \n",
    "#ndvi.plot(col='time', col_wrap=6)"
   ]
  },
  {
   "cell_type": "markdown",
   "id": "97cfe37d",
   "metadata": {},
   "source": [
    "###  Weed out the low quality images."
   ]
  },
  {
   "cell_type": "code",
   "execution_count": null,
   "id": "7da218de",
   "metadata": {},
   "outputs": [],
   "source": [
    "df_prodlist = dc.list_products()\n",
    "\n",
    "df_prodlist.shape"
   ]
  },
  {
   "cell_type": "code",
   "execution_count": null,
   "id": "52358edd",
   "metadata": {},
   "outputs": [],
   "source": [
    "df_prodlist.head()"
   ]
  },
  {
   "cell_type": "markdown",
   "id": "39e3b81d",
   "metadata": {},
   "source": [
    "## Measurements List of the Products\n",
    "\n",
    "- Each of the datacube products may have multiple measurements.\n",
    "\n",
    "- Measurements are related to the sensors characteristics,  also known as _bands_ in the remote-sensing domain.\n",
    "\n",
    "- _bands_ comes from electromagnetic wave spectral ranges, generally include Red-Green-Blue (RGB). "
   ]
  },
  {
   "cell_type": "code",
   "execution_count": null,
   "id": "34f30a40",
   "metadata": {},
   "outputs": [],
   "source": [
    "# show the images of bands at itime=0,1, 10\n",
    "\n",
    "show_images(nbar, 1)"
   ]
  },
  {
   "cell_type": "markdown",
   "id": "2df6451a",
   "metadata": {},
   "source": [
    "Each band is a grayscale image. They can be combined to make a better image."
   ]
  },
  {
   "cell_type": "code",
   "execution_count": null,
   "id": "093bbaf0",
   "metadata": {},
   "outputs": [],
   "source": [
    "# define a scale function to strech an image \n",
    "\n",
    "def scale_array(arr, prcnt, min_val, max_val, nan_val):\n",
    "    \"\"\"\n",
    "    Linearly scales array 'arr' at the 'prcnt' percentile between 'min_val' and 'max_val', \n",
    "    replacing 'nan_val' values with NaN's.\n",
    "    #f_arr = 1.0*arr #.astype('float')    # required for NaN's \n",
    "    \"\"\"\n",
    "  \n",
    "    f_arr = arr.astype('float')\n",
    "    #f_arr[f_arr==nan_val] = np.nan\n",
    "    prcnt_delta = (100-prcnt)/2\n",
    "    clip_lim = np.nanpercentile(f_arr,(prcnt_delta,100-prcnt_delta))\n",
    "    f_arr = np.clip(f_arr,clip_lim[0],clip_lim[1])\n",
    "    f_arr = (f_arr-clip_lim[0]) / (clip_lim[1]-clip_lim[0])\n",
    "    f_arr = f_arr * (max_val-min_val) + min_val\n",
    "    \n",
    "    return f_arr\n"
   ]
  },
  {
   "cell_type": "code",
   "execution_count": null,
   "id": "0053bce0",
   "metadata": {},
   "outputs": [],
   "source": [
    "def make_rgb_images(nbar, itime):\n",
    "    \"\"\"\n",
    "    Create a RGB image using bands acquired at itime\n",
    "    \"\"\"\n",
    "    print (\"RGB image acquired in datetime \", nbar.time.values[itime])\n",
    "        \n",
    "    red_img=nbar.red.isel(time=itime)\n",
    "    green_img=nbar.green.isel(time=itime)\n",
    "    blue_img = nbar.blue.isel(time=itime)\n",
    "\n",
    "\n",
    "    plt.figure( figsize=(10,10) )\n",
    "    \n",
    "    red_img=nbar.red.isel(time=itime)\n",
    "    green_img=nbar.green.isel(time=itime)\n",
    "    blue_img = nbar.blue.isel(time=itime)\n",
    "    y_size = red_img.shape[0]; x_size = red_img.shape[1]\n",
    "\n",
    "    print (y_size,x_size)\n",
    "    #print red_img.shape\n",
    "\n",
    "    sB1data = scale_array(red_img, 99.0, 0, 255, -999)\n",
    "    sB2data = scale_array(green_img, 99.0, 0, 255, -999)\n",
    "    sB3data = scale_array(blue_img, 99.0, 0, 255, -999)\n",
    "\n",
    "\n",
    "    rgb_image = np.zeros((y_size, x_size, 3), dtype='uint8')\n",
    "    rgb_image[:,:,0] = sB1data; \n",
    "    rgb_image[:,:,1] = sB2data; \n",
    "    rgb_image[:,:,2] = sB3data\n",
    "\n",
    "    plt.imshow(rgb_image, interpolation='none') \n",
    "    title_str= 'Landsat Image over the Area: %s, %s'% (str(xp), str(yp))\n",
    "    plt.title(title_str)\n",
    "    plt.ylabel('northing'); plt.xlabel('easting');"
   ]
  },
  {
   "cell_type": "code",
   "execution_count": null,
   "id": "a67fc25f",
   "metadata": {},
   "outputs": [],
   "source": [
    "# good images: 3,4, 6\n",
    "# cloudy images: itime=0,1\n",
    "# no-data blank tiles: 2,5\n",
    "\n",
    "make_rgb_images(nbar, 0)"
   ]
  },
  {
   "cell_type": "markdown",
   "id": "3024a2c2",
   "metadata": {},
   "source": [
    "# Export to geotiff raster file"
   ]
  },
  {
   "cell_type": "code",
   "execution_count": null,
   "id": "a1e4976e",
   "metadata": {},
   "outputs": [],
   "source": [
    "import rasterio\n",
    "\n",
    "DEFAULT_PROFILE = {\n",
    "    'blockxsize': 256,\n",
    "    'blockysize': 256,\n",
    "    'compress': 'lzw',\n",
    "    'driver': 'GTiff',\n",
    "    'interleave': 'band',\n",
    "    'nodata': 0.0,\n",
    "    'photometric': 'RGBA',\n",
    "    'tiled': True}\n",
    "\n",
    "\n",
    "def write_geotiff(filename, dataset, time_index=None, profile_override=None):\n",
    "    \"\"\"\n",
    "    Write an xarray dataset to a geotiff\n",
    "\n",
    "    :attr bands: ordered list of dataset names\n",
    "    :attr time_index: time index to write to file\n",
    "    :attr dataset: xarray dataset containing multiple bands to write to file\n",
    "    :attr profile_override: option dict, overrides rasterio file creation options.\n",
    "    \"\"\"\n",
    "    profile_override = profile_override or {}\n",
    "\n",
    "    dtypes = {val.dtype for val in dataset.data_vars.values()}\n",
    "    assert len(dtypes) == 1  # Check for multiple dtypes\n",
    "\n",
    "    profile = DEFAULT_PROFILE.copy()\n",
    "    profile.update({\n",
    "        'width': dataset.dims[dataset.crs.dimensions[1]],\n",
    "        'height': dataset.dims[dataset.crs.dimensions[0]],\n",
    "        'affine': dataset.affine,\n",
    "        'crs': dataset.crs.crs_str,\n",
    "        'count': len(dataset.data_vars),\n",
    "        'dtype': str(dtypes.pop())\n",
    "    })\n",
    "    profile.update(profile_override)\n",
    "\n",
    "    with rasterio.open(filename, 'w', **profile) as dest:\n",
    "        for bandnum, data in enumerate(dataset.data_vars.values(), start=1):\n",
    "            dest.write(data.isel(time=time_index).data, bandnum)"
   ]
  },
  {
   "cell_type": "code",
   "execution_count": null,
   "id": "214a7bb6",
   "metadata": {},
   "outputs": [],
   "source": [
    "nbar.time.shape\n",
    "\n",
    "stop"
   ]
  },
  {
   "cell_type": "code",
   "execution_count": null,
   "id": "45dd36c2",
   "metadata": {},
   "outputs": [],
   "source": [
    "import os\n",
    "for itime in xrange (0,1\n",
    "ds=nbar\n",
    "fname=str(ds.time.values[itime])[:19].replace(':','')\n",
    "fname =\"nbar%s.tiff\"%fname\n",
    "path2fname=os.path.join(\"/short/v10/fxz547/Dexport\",fname)\n",
    "\n",
    "write_geotiff(path2fname,ds, itime)"
   ]
  },
  {
   "cell_type": "markdown",
   "id": "cbcb62a9",
   "metadata": {},
   "source": [
    "## Group  by solar day function\n",
    "\n",
    "- There is a bit of overlap between two adjacent scenes (\"cut\").\n",
    "- To remove the overlap duplication, we combine the data slices with datetimes less than a minute apart.  \n"
   ]
  },
  {
   "cell_type": "code",
   "execution_count": null,
   "id": "18804126",
   "metadata": {},
   "outputs": [],
   "source": [
    "nbar_by_solar_day = dc.load(product='ls8_nbar_albers', x=xp, y=yp, time=tp, group_by='solar_day')\n",
    "len(nbar_by_solar_day.time)"
   ]
  },
  {
   "cell_type": "markdown",
   "id": "c05ab9be",
   "metadata": {},
   "source": [
    "Now we have fewer timeslices than found previously without solar-day-grouping\n",
    "\n",
    "According to Landsat cycle 16 days, 365/16 = 22 re-visit a place at least per year \n",
    "\n",
    "(For some region like Canberra, there will be overlap between passes)\n",
    "Can be checked in the Clear Observation Layer at: http://eos-test.ga.gov.au/geoserver/www/remote_scripts/WOfS_v1.6.htm"
   ]
  },
  {
   "cell_type": "code",
   "execution_count": null,
   "id": "02c4f949",
   "metadata": {},
   "outputs": [],
   "source": [
    "# show the images of bands at itime=0,1,2,3,4,... 10\n",
    "\n",
    "show_images(nbar_by_solar_day, 0)"
   ]
  },
  {
   "cell_type": "markdown",
   "id": "0fda3cfe",
   "metadata": {},
   "source": [
    "## Create and Display a multi-band image\n",
    "\n",
    "###  select a time-slice of the imagery stack\n",
    "###  use pandas-style slicing to select a time period"
   ]
  },
  {
   "cell_type": "code",
   "execution_count": null,
   "id": "68f54918",
   "metadata": {},
   "outputs": [],
   "source": [
    "itime=1\n",
    "\n",
    "def show_images(nbar, itime):\n",
    "    \n",
    "    print (\"Showing images acquired in datetime \", nbar.time.values[itime])\n",
    "    \n",
    "    red_img=nbar.red.isel(time=itime)\n",
    "    green_img=nbar.green.isel(time=itime)\n",
    "    blue_img = nbar.blue.isel(time=itime)\n",
    "\n",
    "\n",
    "    plt.figure( figsize=(16,14) )\n",
    "    \n",
    "    plt.subplot( 1,3,1 )\n",
    "    plt.imshow(red_img)#, cmap='gray')\n",
    "    plt.title(\"Red band\"); plt.xlabel('easting'); plt.ylabel('northing')\n",
    "    plt.colorbar(orientation='vertical', shrink=0.3, label='red sensor measurement');\n",
    "\n",
    "    \n",
    "    plt.subplot( 1,3,2 )\n",
    "    plt.imshow(green_img)   # plotting the subset data directly\n",
    "    #plt.imshow(green_img, cmap='gray')\n",
    "    plt.title(\"Green band\"); plt.xlabel('easting'); plt.ylabel('northing')\n",
    "    plt.colorbar(orientation='vertical', shrink=0.3, label='green sensor measurement');\n",
    "\n",
    "\n",
    "    plt.subplot( 1,3,3 )\n",
    "    plt.imshow(blue_img)   # plotting the subset data directly\n",
    "    #plt.imshow(blue_img, cmap='gray')\n",
    "    plt.title(\"Blue band\"); plt.xlabel('easting'); plt.ylabel('northing')\n",
    "    plt.colorbar(orientation='vertical', shrink=0.3, label='blue sensor measurement');\n",
    "\n",
    "    return\n"
   ]
  },
  {
   "cell_type": "code",
   "execution_count": null,
   "id": "f9174d3a",
   "metadata": {},
   "outputs": [],
   "source": [
    "# How many images selected?\n",
    "\n",
    "mostly_cloud_free.sum().values"
   ]
  },
  {
   "cell_type": "code",
   "execution_count": null,
   "id": "19ebd53b",
   "metadata": {},
   "outputs": [],
   "source": [
    "# Apply the time-dim mask to the 3D-array (time, x, y)\n",
    "mostly_good_ndvi = ndvi.where(mostly_cloud_free).dropna('time', how='all')\n",
    "mostly_good_ndvi.plot(col='time', col_wrap=4)"
   ]
  },
  {
   "cell_type": "code",
   "execution_count": null,
   "id": "90c34167",
   "metadata": {},
   "outputs": [],
   "source": [
    "mostly_good_ndvi"
   ]
  },
  {
   "cell_type": "code",
   "execution_count": null,
   "id": "d2869b1c",
   "metadata": {},
   "outputs": [],
   "source": [
    "# import os\n",
    "itime=0\n",
    "ds= mostly_good_ndvi\n",
    "fname=str(ds.time.values[itime])[:19].replace(':','')\n",
    "fname =\"ndvi%s.tiff\"%fname\n",
    "path2fname=os.path.join(\"/short/v10/fxz547/Dexport\",fname)\n",
    "write_geotiff(path2fname, ds, itime)"
   ]
  },
  {
   "cell_type": "markdown",
   "id": "8c5c3e38",
   "metadata": {},
   "source": [
    "## Normalised Difference Water Index"
   ]
  },
  {
   "cell_type": "code",
   "execution_count": null,
   "id": "fdd1868e",
   "metadata": {},
   "outputs": [],
   "source": [
    "# images after removed invalid pixels. \n",
    "#ndwi.plot(col='time', col_wrap=6)\n"
   ]
  },
  {
   "cell_type": "markdown",
   "id": "9850fefa",
   "metadata": {},
   "source": [
    "### Weed out the low quality images."
   ]
  },
  {
   "cell_type": "code",
   "execution_count": null,
   "id": "0b6ef4f7",
   "metadata": {},
   "outputs": [],
   "source": [
    "# apply the cloud_threshold mask, which will select a subset images with good pixels. \n",
    "\n",
    "mostly_good_ndwi = ndwi.where(mostly_cloud_free).dropna('time', how='all')\n",
    "\n",
    "mostly_good_ndwi.plot(col='time', col_wrap=5)"
   ]
  },
  {
   "cell_type": "markdown",
   "id": "abeedca7",
   "metadata": {},
   "source": [
    "## Statistics Median and Mean Images\n",
    "\n",
    "### Normalised Vegetation Index vs Water Index"
   ]
  },
  {
   "cell_type": "code",
   "execution_count": null,
   "id": "819fde8d",
   "metadata": {},
   "outputs": [],
   "source": [
    "plt.figure( figsize=(16,12) )\n",
    "    \n",
    "plt.subplot( 2,2,1 )\n",
    "mostly_good_ndvi.median(dim='time').plot()\n",
    "plt.title(\"Median Normalised Difference Vegetation Index - NDVI\"); plt.xlabel('easting'); plt.ylabel('northing')\n",
    "\n",
    "\n",
    "plt.subplot( 2,2,2 )\n",
    "mostly_good_ndvi.mean(dim='time').plot()\n",
    "# ndvi.mean(dim='time').plot()\n",
    "plt.title(\"Mean Normalised Difference Vegetation Index - NDVI\"); plt.xlabel('easting'); plt.ylabel('northing')\n",
    "\n",
    "#------------------------------\n",
    "plt.subplot( 2,2,3 )\n",
    "mostly_good_ndwi.median(dim='time').plot()\n",
    "plt.title(\"Median Normalised Difference Water Index - NDWI\"); plt.xlabel('easting'); plt.ylabel('northing')\n",
    "\n",
    "\n",
    "plt.subplot( 2,2,4 )\n",
    "mostly_good_ndwi.mean(dim='time').plot()\n",
    "# ndwi.mean(dim='time').plot()\n",
    "plt.title(\"Mean Normalised Difference Water Index - NDWI\"); plt.xlabel('easting'); plt.ylabel('northing')"
   ]
  },
  {
   "cell_type": "markdown",
   "id": "45ab9685",
   "metadata": {},
   "source": [
    "# Water Observation from Space\n",
    "\n",
    "http://eos-test.ga.gov.au/geoserver/www/remote_scripts/WOfS_v1.6.htm\n"
   ]
  },
  {
   "cell_type": "markdown",
   "id": "73015e50",
   "metadata": {},
   "source": [
    "## DSM dataset indexed in DC"
   ]
  },
  {
   "cell_type": "code",
   "execution_count": null,
   "id": "39f34f25",
   "metadata": {},
   "outputs": [],
   "source": [
    "\n",
    "nbar = dc.load(product='ls8_nbar_albers', x=xp, y=yp, time=tp, output_crs=v_output_crs, resolution=v_resolution)\n"
   ]
  },
  {
   "cell_type": "markdown",
   "id": "14f3e95b",
   "metadata": {},
   "source": [
    "The returned data is an `xarray.Dataset` object, which is a labelled n-dimensional array wrapping a `numpy` array.\n",
    "\n",
    "We can investigate the data to see the variables (measurement bands) and dimensions that were returned:"
   ]
  },
  {
   "cell_type": "code",
   "execution_count": null,
   "id": "76d60810",
   "metadata": {},
   "outputs": [],
   "source": [
    "nbar"
   ]
  },
  {
   "cell_type": "markdown",
   "id": "e9a49e1a",
   "metadata": {},
   "source": [
    "We can look at the data by name directly, or through the `data_vars` dictionary:"
   ]
  },
  {
   "cell_type": "code",
   "execution_count": null,
   "id": "7ebfc936",
   "metadata": {},
   "outputs": [],
   "source": [
    "nbar.data_vars"
   ]
  },
  {
   "cell_type": "code",
   "execution_count": null,
   "id": "fa460c50",
   "metadata": {},
   "outputs": [],
   "source": [
    "nbar.green"
   ]
  },
  {
   "cell_type": "code",
   "execution_count": null,
   "id": "b10c4fb3",
   "metadata": {},
   "outputs": [],
   "source": [
    "print(nbar.red.shape)\n",
    "print(nbar.green.shape)\n",
    "print(nbar.blue.shape)\n",
    "print(nbar.swir1.shape)  # short wave Length Infrared sensor"
   ]
  },
  {
   "cell_type": "code",
   "execution_count": null,
   "id": "5ec49a8c",
   "metadata": {},
   "outputs": [],
   "source": [
    "print(nbar.time.min())\n",
    "\n",
    "print(nbar.time.max())\n"
   ]
  }
 ],
 "metadata": {},
 "nbformat": 4,
 "nbformat_minor": 5
}
