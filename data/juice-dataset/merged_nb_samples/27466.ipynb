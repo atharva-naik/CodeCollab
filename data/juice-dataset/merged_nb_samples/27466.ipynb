{
 "cells": [
  {
   "cell_type": "markdown",
   "id": "fb4cbe89",
   "metadata": {},
   "source": [
    "# Exploratory Data Analysis and Story Telling."
   ]
  },
  {
   "cell_type": "code",
   "execution_count": null,
   "id": "1da827df",
   "metadata": {},
   "outputs": [],
   "source": [
    "%matplotlib inline  \n",
    "import pandas as pd\n",
    "import numpy as np\n",
    "import matplotlib.pyplot as plt\n",
    "import seaborn as sns"
   ]
  },
  {
   "cell_type": "code",
   "execution_count": null,
   "id": "8ff717f3",
   "metadata": {},
   "outputs": [],
   "source": [
    "train_df = pd.read_pickle(\"../data/train_data_wrangle.plk\")"
   ]
  },
  {
   "cell_type": "markdown",
   "id": "cf8ce117",
   "metadata": {},
   "source": [
    "## We sample the training data, find any patterns which can catch our attention."
   ]
  },
  {
   "cell_type": "markdown",
   "id": "5677d8ab",
   "metadata": {},
   "source": [
    "### Firstly in the given sample what is the distribution of males and females."
   ]
  },
  {
   "cell_type": "code",
   "execution_count": null,
   "id": "e92786c7",
   "metadata": {},
   "outputs": [],
   "source": [
    "ct1 = pd.crosstab(index=train_df['age'],columns=train_df['sex'])\n",
    "ct1.plot(kind='bar',figsize=(20,8), stacked=False).legend(('Male','Female'))\n",
    "plt.title('Number of male and female in the given sample')\n",
    "plt.ylabel('number of people')\n",
    "plt.show()"
   ]
  },
  {
   "cell_type": "markdown",
   "id": "a7d26e3b",
   "metadata": {},
   "source": [
    "### From the above distribution males are more than females in the sample."
   ]
  },
  {
   "cell_type": "markdown",
   "id": "562c069f",
   "metadata": {},
   "source": [
    "## Thyroid disease can be classified into 3 classes.\n",
    "## 1. Hyperthyroid\n",
    "## 2. Hypothyroid\n",
    "## 3. Normal"
   ]
  },
  {
   "cell_type": "markdown",
   "id": "aa1f0f05",
   "metadata": {},
   "source": [
    "### Let's see the percentage of people who are normal in the given sample."
   ]
  },
  {
   "cell_type": "markdown",
   "id": "87cbee66",
   "metadata": {},
   "source": [
    "### Number of males, females suffering from hyperthyroid."
   ]
  },
  {
   "cell_type": "code",
   "execution_count": null,
   "id": "e03ea842",
   "metadata": {},
   "outputs": [],
   "source": [
    "print(male_thyroid.shape)\n",
    "print(female_thyroid.shape)"
   ]
  },
  {
   "cell_type": "markdown",
   "id": "c7b83538",
   "metadata": {},
   "source": [
    "### Let's see whether do they suffer from additional issues ?"
   ]
  },
  {
   "cell_type": "code",
   "execution_count": null,
   "id": "aabe4c07",
   "metadata": {},
   "outputs": [],
   "source": [
    "x_colnames = ['sick','thyroid surgery','lithium','goitre','tumor']\n",
    "f, ax = plt.subplots(1,len(x_colnames),figsize=(20,5), sharex=True, sharey=False)\n",
    "for i in range(len(x_colnames)):\n",
    "    sns.swarmplot(x=male_thyroid[x_colnames[i]], y=male_thyroid['age'], data=male_thyroid, ax=ax[i]).legend(('No','Yes'))\n",
    "    ax[i].set_title(str(x_colnames[i])+\" v age\", fontsize=16)\n",
    "plt.tight_layout()"
   ]
  },
  {
   "cell_type": "code",
   "execution_count": null,
   "id": "4d95c55a",
   "metadata": {},
   "outputs": [],
   "source": [
    "f, ax = plt.subplots(1,len(continuous_cols),figsize=(20,5), sharex=True, sharey=False)\n",
    "for i in range(len(x_colnames)):\n",
    "    sns.swarmplot(x=female_thyroid[x_colnames[i]], y=female_thyroid['age'], data=female_thyroid, ax=ax[i]).legend(('No','Yes'))\n",
    "    ax[i].set_title(str(x_colnames[i])+\" v age\", fontsize=16)\n",
    "plt.tight_layout()"
   ]
  },
  {
   "cell_type": "markdown",
   "id": "c238dbe8",
   "metadata": {},
   "source": [
    "### We see female sample with hyperthyroid do not suffer from any conditions."
   ]
  },
  {
   "cell_type": "markdown",
   "id": "34ce7397",
   "metadata": {},
   "source": [
    "### Let's check hyperthyroid sample measurements between genders and find any interesting pattern."
   ]
  },
  {
   "cell_type": "code",
   "execution_count": null,
   "id": "3d72d6b7",
   "metadata": {},
   "outputs": [],
   "source": [
    "f, ax = plt.subplots(1,len(continuous_cols),figsize=(20,8), sharex=True, sharey=False)\n",
    "for i in range(len(continuous_cols)):\n",
    "    sns.kdeplot(male_thyroid['age'], male_thyroid[continuous_cols[i]],ax=ax[i], cmap='Reds',legend=True, shade=False)\n",
    "    sns.kdeplot(female_thyroid['age'], female_thyroid[continuous_cols[i]],ax=ax[i], cmap='Blues', shade=False, legend=True)\n",
    "    ax[i].set_title(\"age v \" + str(continuous_cols[i]) + '\\nRed:Male\\nBlue:Female', fontsize=16)\n",
    "plt.tight_layout()"
   ]
  },
  {
   "cell_type": "markdown",
   "id": "b4076c44",
   "metadata": {},
   "source": [
    "### Now check hyperthyroid with the general sample measurements and see where the hyperthyroid lie."
   ]
  },
  {
   "cell_type": "code",
   "execution_count": null,
   "id": "c77b3725",
   "metadata": {},
   "outputs": [],
   "source": [
    "cmap = sns.cubehelix_palette(as_cmap=True, dark=0, light=1, reverse=False)\n",
    "f, ax = plt.subplots(1,len(continuous_cols),figsize=(20,8), sharex=True, sharey=False)\n",
    "for i in range(len(continuous_cols)):\n",
    "    sns.kdeplot(train_df['age'], train_df[continuous_cols[i]],ax=ax[i], cmap=cmap, shade=True)\n",
    "    sns.kdeplot(male_thyroid['age'], male_thyroid[continuous_cols[i]],ax=ax[i], cmap='Reds', shade=False)\n",
    "    sns.kdeplot(female_thyroid['age'], female_thyroid[continuous_cols[i]],ax=ax[i], cmap='Blues', shade=False)\n",
    "    ax[i].set_title(\"age v \" + str(continuous_cols[i]) + '\\ncategory:Hyperthyroid\\nRed:Male, Blue:Female', fontsize=16)\n",
    "plt.tight_layout()"
   ]
  },
  {
   "cell_type": "markdown",
   "id": "b4bac73a",
   "metadata": {},
   "source": [
    "### We see where the measurements lie for hyperthyroid class.\n",
    "### They seem to be lie a bit outside of the general sample."
   ]
  },
  {
   "cell_type": "markdown",
   "id": "f3b5a6b8",
   "metadata": {},
   "source": [
    "### From the data set we first try to find some correlations between features.\n",
    "### We use a heatmap to find correlations."
   ]
  },
  {
   "cell_type": "code",
   "execution_count": null,
   "id": "4dd4d982",
   "metadata": {},
   "outputs": [],
   "source": [
    "f, ax = plt.subplots(figsize=(10,8))\n",
    "corr = train_df.corr()\n",
    "#cmap = sns.cubehelix_palette(as_cmap=True, dark=1, light=0, reverse=False)\n",
    "sns.heatmap(corr,cmap=cmap)\n",
    "ax.set_title('Heat map (correlations) between features.', fontsize=20)"
   ]
  },
  {
   "cell_type": "code",
   "execution_count": null,
   "id": "004d0f30",
   "metadata": {},
   "outputs": [],
   "source": [
    "df_age = train_df[[\"age\",\"TSH measured\",\"T3 measured\",\"TT4 measured\",\"T4U measured\",\"FTI measured\",\"class\"]]\n",
    "df_sex = train_df[[\"sex\",\"TSH measured\",\"T3 measured\",\"TT4 measured\",\"T4U measured\",\"FTI measured\",\"class\"]]\n",
    "df_corr_age = df_age.corr()\n",
    "df_corr_sex = df_sex.corr()"
   ]
  },
  {
   "cell_type": "markdown",
   "id": "b0cc0038",
   "metadata": {},
   "source": [
    "### From the heatmap, let's take a sub-section and see some correlations."
   ]
  },
  {
   "cell_type": "code",
   "execution_count": null,
   "id": "34bfb589",
   "metadata": {},
   "outputs": [],
   "source": [
    "classes = ['hyperthyroid','hypothyroid','normal']"
   ]
  },
  {
   "cell_type": "code",
   "execution_count": null,
   "id": "a2ae1ca2",
   "metadata": {},
   "outputs": [],
   "source": [
    "plt.subplots(figsize=(10,8))\n",
    "class_cnt = train_df['age'].groupby(train_df['class']).count()\n",
    "plt.axis('equal')\n",
    "plt.pie(class_cnt, startangle=45, labels=classes, shadow=False, explode=(0.2,0.1,0), autopct='%1.1f%%')\n",
    "plt.legend(classes, loc=4)\n",
    "plt.title('Class Represenation')\n",
    "plt.show()"
   ]
  },
  {
   "cell_type": "markdown",
   "id": "bd154c31",
   "metadata": {},
   "source": [
    "### We see only 2.5% of the sample suffer from hyperthyroid condition."
   ]
  },
  {
   "cell_type": "markdown",
   "id": "2d3a5ce3",
   "metadata": {},
   "source": [
    "### Now from the sample, group males and females by the class, find the number of people in each class."
   ]
  },
  {
   "cell_type": "code",
   "execution_count": null,
   "id": "05a3f671",
   "metadata": {},
   "outputs": [],
   "source": [
    "ct2 = pd.crosstab(index=train_df['class'],columns=train_df['sex'])\n",
    "ct2.plot(kind='bar',figsize=(5,5), stacked=False).legend(('Male','Female'))#, loc='best')\n",
    "plt.title('Number of male and female grouped by class')\n",
    "plt.ylabel('number of people')\n",
    "plt.show()"
   ]
  },
  {
   "cell_type": "markdown",
   "id": "f095058c",
   "metadata": {},
   "source": [
    "### Let's classify according to class, and plot them"
   ]
  },
  {
   "cell_type": "code",
   "execution_count": null,
   "id": "b72a508c",
   "metadata": {},
   "outputs": [],
   "source": [
    "plt.figure(figsize=(20,10))\n",
    "sns.stripplot(x='class', y='age', data=train_df, jitter=True, dodge=True, hue='sex').legend(('Male','Female'))\n",
    "plt.title('Number of age groups classified by class')"
   ]
  },
  {
   "cell_type": "markdown",
   "id": "88f807a4",
   "metadata": {},
   "source": [
    "### Split by sex"
   ]
  },
  {
   "cell_type": "code",
   "execution_count": null,
   "id": "5965cfac",
   "metadata": {},
   "outputs": [],
   "source": [
    "plt.figure(figsize=(20,10))\n",
    "sns.swarmplot(x='class', y='age', data=train_df, hue='sex', dodge=True).legend(('Male','Female'))\n",
    "plt.title('Distribution of age group classified by class, split by sex')"
   ]
  },
  {
   "cell_type": "markdown",
   "id": "68d85b43",
   "metadata": {},
   "source": [
    "### Above we see the age distribution of males, females classified by class."
   ]
  },
  {
   "cell_type": "markdown",
   "id": "315f9ec1",
   "metadata": {},
   "source": [
    "### Let's get some analysis on checking whether there are corelations between conditions and age."
   ]
  },
  {
   "cell_type": "code",
   "execution_count": null,
   "id": "bf0d258a",
   "metadata": {},
   "outputs": [],
   "source": [
    "colorMap = {3:'yellow',2:'violet',1:'red'}\n",
    "x_colnames = ['sick','thyroid surgery','lithium','goitre','tumor']\n",
    "\n",
    "f, ax = plt.subplots(1,len(x_colnames),figsize=(20,10), sharex=True, sharey=True)\n",
    "for i in range(len(x_colnames)):\n",
    "    sns.swarmplot(x=train_df[x_colnames[i]], y=train_df['age'], data=train_df,hue='class', palette=colorMap, ax=ax[i])\n",
    "    ax[i].set_title(str(x_colnames[i]) +\" v age\", fontsize=16)\n",
    "plt.tight_layout()"
   ]
  },
  {
   "cell_type": "markdown",
   "id": "f74b77d3",
   "metadata": {},
   "source": [
    "### Similarly let's get count of males, females with conditions"
   ]
  },
  {
   "cell_type": "code",
   "execution_count": null,
   "id": "fac28678",
   "metadata": {},
   "outputs": [],
   "source": [
    "x_colnames = ['sick','lithium','goitre','tumor', 'thyroid surgery', 'psych']\n",
    "f, ax = plt.subplots(1,len(x_colnames),figsize=(20,8), sharex=False, sharey=False)\n",
    "for i in range(len(x_colnames)):\n",
    "    sns.countplot(x=x_colnames[i], data=train_df, ax=ax[i], hue='sex').legend(('Male','Female'))\n",
    "    ax[i].set_title(str(x_colnames[i]) +\" v age\", fontsize=16)\n",
    "plt.tight_layout()"
   ]
  },
  {
   "cell_type": "markdown",
   "id": "342e85ae",
   "metadata": {},
   "source": [
    "### Density distributions of measurements"
   ]
  },
  {
   "cell_type": "code",
   "execution_count": null,
   "id": "30129a36",
   "metadata": {},
   "outputs": [],
   "source": [
    "continuous_cols = [\"TSH measured\",\"T3 measured\",\"TT4 measured\",\"T4U measured\",\"FTI measured\"]"
   ]
  },
  {
   "cell_type": "code",
   "execution_count": null,
   "id": "b8610297",
   "metadata": {},
   "outputs": [],
   "source": [
    "train_df[continuous_cols].plot(kind='density', subplots=True, layout=(5,1), sharex=True, sharey=True)\n",
    "plt.xlabel('Continous measurements')\n",
    "plt.show()"
   ]
  },
  {
   "cell_type": "markdown",
   "id": "4e90f565",
   "metadata": {},
   "source": [
    "### Let's plot kde distributions w.r.t age."
   ]
  },
  {
   "cell_type": "code",
   "execution_count": null,
   "id": "e331bfdd",
   "metadata": {},
   "outputs": [],
   "source": [
    "f, ax = plt.subplots(1,len(continuous_cols),figsize=(20,8), sharex=True, sharey=False)\n",
    "cmap = sns.cubehelix_palette(as_cmap=True, dark=0, light=1, reverse=False)\n",
    "for i in range(len(continuous_cols)):\n",
    "    sns.kdeplot(train_df['age'], train_df[continuous_cols[i]],ax=ax[i], cmap=cmap,cbar=True,shade=True)\n",
    "    ax[i].set_title(\"age v \" + str(continuous_cols[i]), fontsize=16)\n",
    "plt.tight_layout()"
   ]
  },
  {
   "cell_type": "markdown",
   "id": "f8bdb10f",
   "metadata": {},
   "source": [
    "### We see as age increases, measurements increase."
   ]
  },
  {
   "cell_type": "markdown",
   "id": "0f8a343c",
   "metadata": {},
   "source": [
    "### Now let's split the measurements based on gender and see some patterns."
   ]
  },
  {
   "cell_type": "code",
   "execution_count": null,
   "id": "603896d6",
   "metadata": {},
   "outputs": [],
   "source": [
    "males= train_df.loc[(train_df['sex']==0)]\n",
    "females = train_df.loc[(train_df['sex']==1)]\n",
    "f, ax = plt.subplots(1,len(continuous_cols),figsize=(20,8), sharex=True, sharey=False)\n",
    "\n",
    "for i in range(len(continuous_cols)):\n",
    "    sns.kdeplot(males['age'], males[continuous_cols[i]],ax=ax[i], cmap='Reds', shade=False)\n",
    "    sns.kdeplot(females['age'], females[continuous_cols[i]],ax=ax[i], cmap='Blues', shade=False)\n",
    "    ax[i].set_title(\"age v \" + str(continuous_cols[i]) + '\\nRed:Male\\nBlue:Female', fontsize=16)\n",
    "plt.tight_layout()"
   ]
  },
  {
   "cell_type": "markdown",
   "id": "bc830b28",
   "metadata": {},
   "source": [
    "## Pickout the Hyperthyroid class, see some distributions."
   ]
  },
  {
   "cell_type": "code",
   "execution_count": null,
   "id": "6dac6cad",
   "metadata": {},
   "outputs": [],
   "source": [
    "fig,ax = plt.subplots(figsize=(10,5))\n",
    "male_thyroid = train_df.loc[(train_df['sex']==0) & (train_df['class']==1)]\n",
    "female_thyroid = train_df.loc[(train_df['sex']==1) & (train_df['class']==1)]\n",
    "sns.distplot(male_thyroid['age'], bins=100, kde=False, label=\"male\")\n",
    "sns.distplot(female_thyroid['age'], bins=100, kde=False, label=\"female\")\n",
    "plt.legend()\n",
    "plt.ylabel('number of people with hyperthyroid')\n",
    "plt.title('age v number of people with hyperthyroid (class 1)')\n",
    "plt.show()"
   ]
  },
  {
   "cell_type": "code",
   "execution_count": null,
   "id": "5ad7e93e",
   "metadata": {},
   "outputs": [],
   "source": [
    "f, ax = plt.subplots( 1, 2, figsize=(10,5), sharex=False, sharey=False)\n",
    "sns.heatmap(df_corr_age, ax=ax[0],cmap=cmap)\n",
    "ax[0].set_title('heatmap of measurements and age', fontsize=16)\n",
    "sns.heatmap(df_corr_sex, ax=ax[1],cmap=cmap)\n",
    "ax[1].set_title('heatmap of measurements for sex', fontsize=16)\n",
    "plt.tight_layout()"
   ]
  },
  {
   "cell_type": "markdown",
   "id": "588f2191",
   "metadata": {},
   "source": [
    "### Let's find where each class lie based on the measurements taken.\n",
    "### We plot scatter plots using age, measurements and class."
   ]
  },
  {
   "cell_type": "code",
   "execution_count": null,
   "id": "67af7265",
   "metadata": {},
   "outputs": [],
   "source": [
    "colorMap = {3:'green',2:'blue',1:'red'}\n",
    "sns.pairplot(df_age, hue=\"class\",  markers=[\"x\", \"D\", \"o\"], palette=colorMap)\n",
    "plt.show()"
   ]
  },
  {
   "cell_type": "markdown",
   "id": "81fae6be",
   "metadata": {},
   "source": [
    "### plot scatter plots using sex, measurements and class."
   ]
  }
 ],
 "metadata": {},
 "nbformat": 4,
 "nbformat_minor": 5
}
