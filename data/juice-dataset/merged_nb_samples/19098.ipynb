{
 "cells": [
  {
   "cell_type": "markdown",
   "id": "aaef14b2",
   "metadata": {},
   "source": [
    "# Introduction to Python and Basic Web Scraping\n",
    "\n",
    "## Basic maneuvering: Import statements\n",
    "\n",
    "To use a Python library in a script, we have to import it. You do that using what are known as import statements. Below we'll import the csv module, which lets us read and write csvs"
   ]
  },
  {
   "cell_type": "code",
   "execution_count": null,
   "id": "f274fd73",
   "metadata": {},
   "outputs": [],
   "source": [
    "import csv"
   ]
  },
  {
   "cell_type": "markdown",
   "id": "f96a3979",
   "metadata": {},
   "source": [
    "Now we'll import the BeautifulSoup module"
   ]
  },
  {
   "cell_type": "code",
   "execution_count": null,
   "id": "8290aa80",
   "metadata": {},
   "outputs": [],
   "source": [
    "from bs4 import BeautifulSoup"
   ]
  },
  {
   "cell_type": "markdown",
   "id": "d1e57f75",
   "metadata": {},
   "source": [
    "And we'll import the requests module"
   ]
  },
  {
   "cell_type": "code",
   "execution_count": null,
   "id": "9cf1bae6",
   "metadata": {},
   "outputs": [],
   "source": [
    "import requests"
   ]
  },
  {
   "cell_type": "markdown",
   "id": "3e2330cd",
   "metadata": {},
   "source": [
    "## Introduction to lists\n",
    "\n",
    "Lists are what are known in python as a collection. They are ordered and can be changed. I like to think of them as containers. We will be using a list later on to store the individual records we scrape down from the FBI's FOIA Reading Room website.\n",
    "\n",
    "In python, text is stored in a datatype called a string. Strings are bytes that represent characters but for our purposes just think of them as ways to store words and letters.\n",
    "Numbers are stored in three data types: int, float and complex. \n",
    "\n",
    "We generally use integers (whole numbers) and floats (decimals).\n",
    "\n",
    "Here we have a list with two string, or text, objects:"
   ]
  },
  {
   "cell_type": "code",
   "execution_count": null,
   "id": "60680237",
   "metadata": {},
   "outputs": [],
   "source": [
    "list_of_strings = ['hello', 'world']"
   ]
  },
  {
   "cell_type": "markdown",
   "id": "fd303d52",
   "metadata": {},
   "source": [
    "Here we have a list of five python integers."
   ]
  },
  {
   "cell_type": "code",
   "execution_count": null,
   "id": "48ca8b94",
   "metadata": {},
   "outputs": [],
   "source": [
    "list_of_nums =  [1, 3, 5, 7, 11]"
   ]
  },
  {
   "cell_type": "markdown",
   "id": "73e6dea1",
   "metadata": {},
   "source": [
    "Python can tell you what type you're working with. Below tells us this is a list."
   ]
  },
  {
   "cell_type": "code",
   "execution_count": null,
   "id": "e577ba15",
   "metadata": {},
   "outputs": [],
   "source": [
    "type(list_of_strings)"
   ]
  },
  {
   "cell_type": "code",
   "execution_count": null,
   "id": "032217bd",
   "metadata": {},
   "outputs": [],
   "source": [
    "type(list_of_nums)"
   ]
  },
  {
   "cell_type": "markdown",
   "id": "413d66fb",
   "metadata": {},
   "source": [
    "Or how many objects are in our list."
   ]
  },
  {
   "cell_type": "code",
   "execution_count": null,
   "id": "28eb7fd0",
   "metadata": {},
   "outputs": [],
   "source": [
    "len(list_of_strings)"
   ]
  },
  {
   "cell_type": "code",
   "execution_count": null,
   "id": "0100c1b9",
   "metadata": {},
   "outputs": [],
   "source": [
    "len(list_of_nums)"
   ]
  },
  {
   "cell_type": "markdown",
   "id": "36c5fcbd",
   "metadata": {},
   "source": [
    "Or tell you the type of object located in a certain position of your list. For instance, this tells us the type of the first item in your list of strings which is 'hello'"
   ]
  },
  {
   "cell_type": "code",
   "execution_count": null,
   "id": "b251aebe",
   "metadata": {},
   "outputs": [],
   "source": [
    "type(list_of_strings[0])"
   ]
  },
  {
   "cell_type": "markdown",
   "id": "8c398c32",
   "metadata": {},
   "source": [
    "This tells us the type of the second item in your list of numbers, which is 3"
   ]
  },
  {
   "cell_type": "code",
   "execution_count": null,
   "id": "2ceab55b",
   "metadata": {},
   "outputs": [],
   "source": [
    "type(list_of_nums[1])"
   ]
  },
  {
   "cell_type": "markdown",
   "id": "9ed33d1c",
   "metadata": {},
   "source": [
    "## Printing\n",
    "\n",
    "Sometimes we want the python console to display things in the console. For example, the contents of our lists or a specific item in the list. We use print() to do this. Note: In Python2.7, you don't use the (). It's just print. \n",
    "\n",
    "Let's print the items in our list of strings."
   ]
  },
  {
   "cell_type": "code",
   "execution_count": null,
   "id": "6484c737",
   "metadata": {},
   "outputs": [],
   "source": [
    "for n in list_of_nums: \n",
    "    print(n)"
   ]
  },
  {
   "cell_type": "markdown",
   "id": "2b44c76e",
   "metadata": {},
   "source": [
    "## Printing specific ways\n",
    "\n",
    "Talk about .join()"
   ]
  },
  {
   "cell_type": "markdown",
   "id": "83f28d6a",
   "metadata": {},
   "source": [
    "Join allows us to print in specific ways. For example, let's print each item of our list of strings on a new line."
   ]
  },
  {
   "cell_type": "code",
   "execution_count": null,
   "id": "f75e1194",
   "metadata": {},
   "outputs": [],
   "source": [
    "print('\\n'.join(list_of_strings))"
   ]
  },
  {
   "cell_type": "markdown",
   "id": "40662015",
   "metadata": {},
   "source": [
    "Now we're ready to starting working with csvs.\n",
    "\n",
    "## Reading and writing csvs\n",
    "\n",
    "Remember our import statements. Let's import the built-in csv module."
   ]
  },
  {
   "cell_type": "markdown",
   "id": "724b2bda",
   "metadata": {},
   "source": [
    "When working with csvs in Python, we first need to read in the data from the csv. You do this by using the csvreader. For this exercise, we'll be using the county_pops.csv we used last week that includes population data for Maryland counties from the U.S. Census Bureau."
   ]
  },
  {
   "cell_type": "markdown",
   "id": "ee2dcfd2",
   "metadata": {},
   "source": [
    "First for ease of use in this exercise, we'll import a module called ```os``` and create a variable called work_dir with our current working directory. It will make it easier for us to have a variable assigned to the working directoy path for now rathre than having to type it in every time."
   ]
  },
  {
   "cell_type": "code",
   "execution_count": null,
   "id": "c0bf350a",
   "metadata": {},
   "outputs": [],
   "source": [
    "import os"
   ]
  },
  {
   "cell_type": "code",
   "execution_count": null,
   "id": "57fbc0d5",
   "metadata": {},
   "outputs": [],
   "source": [
    "work_dir = os.getcwd()"
   ]
  },
  {
   "cell_type": "code",
   "execution_count": null,
   "id": "d843b983",
   "metadata": {},
   "outputs": [],
   "source": [
    "print(work_dir)"
   ]
  },
  {
   "cell_type": "markdown",
   "id": "393ad4e2",
   "metadata": {},
   "source": [
    "Now let's use the work_dir as we read in our county pops csv like below."
   ]
  },
  {
   "cell_type": "code",
   "execution_count": null,
   "id": "402c2bd8",
   "metadata": {},
   "outputs": [],
   "source": [
    "csvreader = csv.reader(open(work_dir+'/county_pops.csv'), delimiter=',', quotechar='\"')"
   ]
  },
  {
   "cell_type": "markdown",
   "id": "4db6457d",
   "metadata": {},
   "source": [
    "Now we have a Python object named csvreader that contains the data from our county_pops.csv. Next, let's take a look at what's inside. We'll use a loop like we discussed before to do this."
   ]
  },
  {
   "cell_type": "code",
   "execution_count": null,
   "id": "fd10abb1",
   "metadata": {},
   "outputs": [],
   "source": [
    "for row in csvreader:\n",
    "    print(', '.join(row))"
   ]
  },
  {
   "cell_type": "markdown",
   "id": "48c26e4e",
   "metadata": {},
   "source": [
    "Now let's make that data into a list"
   ]
  },
  {
   "cell_type": "code",
   "execution_count": null,
   "id": "8222a072",
   "metadata": {},
   "outputs": [],
   "source": [
    "csvreader = csv.reader(open(work_dir+'/county_pops.csv'), delimiter=',', quotechar='\"')\n",
    "things = list(csvreader)\n",
    "\n",
    "print(things)"
   ]
  },
  {
   "cell_type": "markdown",
   "id": "21d0bfe2",
   "metadata": {},
   "source": [
    "And let's cut out a line or two"
   ]
  },
  {
   "cell_type": "code",
   "execution_count": null,
   "id": "afe1b8b9",
   "metadata": {},
   "outputs": [],
   "source": [
    "csv_things=things[0:5]\n",
    "\n",
    "print(csv_things)"
   ]
  },
  {
   "cell_type": "markdown",
   "id": "c3874d8f",
   "metadata": {},
   "source": [
    "## Writing to a csv\n",
    "\n",
    "Now let's take the smaller subset of data we've cut off and named csv_things and write that to another csv"
   ]
  },
  {
   "cell_type": "code",
   "execution_count": null,
   "id": "3bd34518",
   "metadata": {},
   "outputs": [],
   "source": [
    "print(list_of_strings)"
   ]
  },
  {
   "cell_type": "markdown",
   "id": "bef06ec7",
   "metadata": {},
   "source": [
    "Now let's print the objects in our list of numbers."
   ]
  },
  {
   "cell_type": "code",
   "execution_count": null,
   "id": "2bbf9d0b",
   "metadata": {},
   "outputs": [],
   "source": [
    "print(list_of_nums)"
   ]
  },
  {
   "cell_type": "markdown",
   "id": "01a694d6",
   "metadata": {},
   "source": [
    "And let's print just an item from each. In this case, the second object in our list of strings and the fifth item in our list of numbers."
   ]
  },
  {
   "cell_type": "code",
   "execution_count": null,
   "id": "a0789285",
   "metadata": {},
   "outputs": [],
   "source": [
    "print(list_of_strings[1])"
   ]
  },
  {
   "cell_type": "code",
   "execution_count": null,
   "id": "9ace8694",
   "metadata": {},
   "outputs": [],
   "source": [
    "print(list_of_nums[4])"
   ]
  },
  {
   "cell_type": "markdown",
   "id": "8720a2b6",
   "metadata": {},
   "source": [
    "## Looping and printing\n",
    "\n",
    "In Python and most programming languages, we use loops. Loops are a construct of programming that allows us repeat a series of commands and apply them to every object in a grouping, or in this case, a list. "
   ]
  },
  {
   "cell_type": "code",
   "execution_count": null,
   "id": "efadf797",
   "metadata": {},
   "outputs": [],
   "source": [
    "for i in list_of_strings: # Read: For each item in my list do the following\n",
    "    print(i) # Print, or display, the item"
   ]
  },
  {
   "cell_type": "markdown",
   "id": "cd3bee68",
   "metadata": {},
   "source": [
    "Now try the same for our list of numbers."
   ]
  }
 ],
 "metadata": {},
 "nbformat": 4,
 "nbformat_minor": 5
}
