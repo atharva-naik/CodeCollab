{
 "cells": [
  {
   "cell_type": "markdown",
   "id": "8882f7be",
   "metadata": {},
   "source": [
    "# Data Products\n",
    "Make the FITS files from the flattened data for each instrument."
   ]
  },
  {
   "cell_type": "code",
   "execution_count": null,
   "id": "0673fd18",
   "metadata": {},
   "outputs": [],
   "source": [
    "import os\n",
    "import logging\n",
    "\n",
    "import numpy as np\n",
    "import astropy.units as u\n",
    "import matplotlib.pyplot as plt\n",
    "\n",
    "import synthesizAR\n",
    "from synthesizAR.instruments import InstrumentHinodeEIS,InstrumentSDOAIA\n",
    "\n",
    "%matplotlib inline"
   ]
  },
  {
   "cell_type": "code",
   "execution_count": null,
   "id": "1b467a88",
   "metadata": {},
   "outputs": [],
   "source": [
    "ar_root = '/data/datadrive2/ar_viz/seminar_poc/'"
   ]
  },
  {
   "cell_type": "markdown",
   "id": "cf6d5714",
   "metadata": {},
   "source": [
    "First reload the field."
   ]
  },
  {
   "cell_type": "code",
   "execution_count": null,
   "id": "4b3bf395",
   "metadata": {},
   "outputs": [],
   "source": [
    "field = synthesizAR.Skeleton.restore(os.path.join(ar_root,'checkpoint'))"
   ]
  },
  {
   "cell_type": "markdown",
   "id": "26a24679",
   "metadata": {},
   "source": [
    "Setup the instruments."
   ]
  },
  {
   "cell_type": "code",
   "execution_count": null,
   "id": "a828b8df",
   "metadata": {},
   "outputs": [],
   "source": [
    "eis = InstrumentHinodeEIS([0,4990]*u.s)\n",
    "aia = InstrumentSDOAIA([0,4990]*u.s,use_temperature_response_functions=False)"
   ]
  },
  {
   "cell_type": "markdown",
   "id": "90b5e853",
   "metadata": {},
   "source": [
    "Create the observer."
   ]
  },
  {
   "cell_type": "code",
   "execution_count": null,
   "id": "1dac6766",
   "metadata": {},
   "outputs": [],
   "source": [
    "observer = synthesizAR.Observer(field,[eis,aia],ds=field._convert_angle_to_length(0.3*u.arcsec))"
   ]
  },
  {
   "cell_type": "markdown",
   "id": "c6b1a080",
   "metadata": {},
   "source": [
    "Get the detector files."
   ]
  },
  {
   "cell_type": "code",
   "execution_count": null,
   "id": "846075c7",
   "metadata": {},
   "outputs": [],
   "source": [
    "observer.build_detector_files(ar_root)"
   ]
  },
  {
   "cell_type": "markdown",
   "id": "842c1da9",
   "metadata": {},
   "source": [
    "Finally, make the data products."
   ]
  }
 ],
 "metadata": {},
 "nbformat": 4,
 "nbformat_minor": 5
}
