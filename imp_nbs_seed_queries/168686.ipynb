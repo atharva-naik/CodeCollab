{
 "cells": [
  {
   "cell_type": "code",
   "execution_count": null,
   "id": "3562b69e",
   "metadata": {},
   "outputs": [],
   "source": [
    "import numpy as np\n",
    "import pandas as pd\n",
    "import matplotlib.pyplot as plt\n",
    "from sklearn import datasets\n",
    "from sklearn.naive_bayes import GaussianNB\n",
    "from sklearn.naive_bayes import MultinomialNB\n",
    "from sklearn import metrics\n",
    "from sklearn.metrics import classification_report\n",
    "from sklearn import cross_validation\n",
    "from sklearn.model_selection import StratifiedKFold\n",
    "from sklearn.model_selection import KFold\n",
    "from sklearn.model_selection import ShuffleSplit\n",
    "from sklearn.model_selection import cross_validate\n",
    "import warnings\n",
    "warnings.filterwarnings('ignore')\n",
    "import seaborn as sns\n",
    "import collections"
   ]
  },
  {
   "cell_type": "markdown",
   "id": "4cd1bcad",
   "metadata": {},
   "source": [
    "Dataset import\n",
    "============"
   ]
  },
  {
   "cell_type": "markdown",
   "id": "28fe662d",
   "metadata": {},
   "source": [
    "*Iris*\n",
    "---------------------------"
   ]
  },
  {
   "cell_type": "code",
   "execution_count": null,
   "id": "98e7b729",
   "metadata": {},
   "outputs": [],
   "source": [
    "def import_iris_dataset():\n",
    "    data = datasets.load_iris()\n",
    "\n",
    "    target = data.target\n",
    "    data = data.data\n",
    "#     print(\"----------------Dane Wejściowe--------------------\")\n",
    "#     print(data[0])\n",
    "#     print(data[1])\n",
    "#     print(data[2])\n",
    "#     print(data[3])\n",
    "\n",
    "    return data, target"
   ]
  },
  {
   "cell_type": "markdown",
   "id": "666f1769",
   "metadata": {},
   "source": [
    "*Glass*\n",
    "---------------------------"
   ]
  },
  {
   "cell_type": "code",
   "execution_count": null,
   "id": "0ac2affd",
   "metadata": {},
   "outputs": [],
   "source": [
    "def import_glass_dataset():\n",
    "    data = np.loadtxt('Datasets/Glass/glass.data', delimiter=',')\n",
    "    target = []\n",
    "    for x in data:\n",
    "        target.append(x[-1])\n",
    "    data = data[:,:-1]\n",
    "    target = np.asarray(target)\n",
    "\n",
    "    return data, target"
   ]
  },
  {
   "cell_type": "markdown",
   "id": "b6aa8895",
   "metadata": {},
   "source": [
    "*Diabetes*\n",
    "---------------------------"
   ]
  },
  {
   "cell_type": "code",
   "execution_count": null,
   "id": "05e7c2f8",
   "metadata": {},
   "outputs": [],
   "source": [
    "def import_diabetes_dataset():\n",
    "    data = np.loadtxt('Datasets/PrimaIndiansDiabetes/pima-indians-diabetes.csv', delimiter=',')\n",
    "    target = []\n",
    "    for x in data:\n",
    "        target.append(x[-1])\n",
    "    data = data[:,:-1]\n",
    "    target = np.asarray(target)\n",
    "\n",
    "    return data, target"
   ]
  },
  {
   "cell_type": "markdown",
   "id": "f793044b",
   "metadata": {},
   "source": [
    "*Wine*\n",
    "---------------------------"
   ]
  },
  {
   "cell_type": "code",
   "execution_count": null,
   "id": "4f144fe1",
   "metadata": {},
   "outputs": [],
   "source": [
    "def import_wine_dataset():\n",
    "    data = datasets.load_wine()\n",
    "    \n",
    "    target = data.target\n",
    "    data = data.data\n",
    "    \n",
    "    return data, target"
   ]
  },
  {
   "cell_type": "markdown",
   "id": "a41bfbfd",
   "metadata": {},
   "source": [
    "*User Knowledge*\n",
    "---------------------------"
   ]
  },
  {
   "cell_type": "code",
   "execution_count": null,
   "id": "4d7fc34f",
   "metadata": {},
   "outputs": [],
   "source": [
    "def import_knowledge_dataset():\n",
    "    data = np.loadtxt('Datasets/user-knowledge.csv', delimiter=',')\n",
    "    target = []\n",
    "    for x in data:\n",
    "        target.append(x[-1])\n",
    "    data = data[:,:-1]\n",
    "    target = np.asarray(target)\n",
    "\n",
    "    return data, target"
   ]
  },
  {
   "cell_type": "markdown",
   "id": "837b6f45",
   "metadata": {},
   "source": [
    "Discretiazation\n",
    "============"
   ]
  },
  {
   "cell_type": "code",
   "execution_count": null,
   "id": "54080f54",
   "metadata": {},
   "outputs": [],
   "source": [
    "def mean_of_bin(min_value, max_value, cutoffs):\n",
    "    means = [(min_value + cutoffs[0]) / 2]\n",
    "    for x in range(0, len(cutoffs)- 1):\n",
    "        means.append((cutoffs[x] + cutoffs[x+1]) / 2)\n",
    "    means.append((cutoffs[-1] + max_value) / 2)\n",
    "    return means"
   ]
  },
  {
   "cell_type": "code",
   "execution_count": null,
   "id": "f394a7c7",
   "metadata": {},
   "outputs": [],
   "source": [
    "def adjust_value(data, means):\n",
    "    for i, r in enumerate(data):\n",
    "        data[i] = means[int(data[i])]\n",
    "    return data   "
   ]
  },
  {
   "cell_type": "markdown",
   "id": "e34b07a4",
   "metadata": {},
   "source": [
    "*Discretize by Frequency*\n",
    "---------------------------"
   ]
  },
  {
   "cell_type": "code",
   "execution_count": null,
   "id": "aec07a9c",
   "metadata": {},
   "outputs": [],
   "source": [
    "def freqenty_discretize(data, bins):\n",
    "    min_value = np.min(data)\n",
    "    max_value = np.max(data)\n",
    "    split = np.array_split(np.sort(data), bins)\n",
    "    cutoffs = [x[-1] for x in split]\n",
    "    cutoffs = cutoffs[:-1]\n",
    "    discrete = np.digitize(data, cutoffs, right=True)\n",
    "\n",
    "    return discrete, cutoffs, min_value, max_value"
   ]
  },
  {
   "cell_type": "code",
   "execution_count": null,
   "id": "f7257861",
   "metadata": {},
   "outputs": [],
   "source": [
    "def freqenty_discretization(data, bins_N, color, plot):\n",
    "    unzip_lst = zip(*data)\n",
    "    for index, i in enumerate(unzip_lst):\n",
    "        discrete_dat, cutoff, min_value, max_value = freqenty_discretize(i, bins_N)\n",
    "#         print(\"----------------Kubeczki--------------------\")\n",
    "#         print(discrete_dat)\n",
    "        \n",
    "#         print(\"-------Means-------------\")\n",
    "        means = mean_of_bin(min_value, max_value, cutoff)\n",
    "#         print(means)\n",
    "        \n",
    "#         print(\"----------------Kubeczki z wartości średnich--------------------\") \n",
    "        discrete_dat = np.array(discrete_dat, dtype=float)\n",
    "        discrete_dat = adjust_value(discrete_dat, means)\n",
    "#         print(discrete_dat)\n",
    "                \n",
    "        discrete_data = np.array(discrete_dat)\n",
    "        discrete_data = discrete_data[:,np.newaxis]   \n",
    "\n",
    "        if index == 0:\n",
    "            discreted_data = np.copy(discrete_data)\n",
    "        else: \n",
    "            discreted_data = np.append(discreted_data, discrete_data, axis=1)\n",
    "  \n",
    "        counter = collections.Counter(discrete_data[:,0])\n",
    "        counter = sorted(counter.items())\n",
    "        labels, values = zip(*counter)\n",
    "        if plot == True:\n",
    "            plot_bar_diagram(labels, values, color)            \n",
    "            \n",
    "    return discreted_data"
   ]
  },
  {
   "cell_type": "markdown",
   "id": "c8e8b6e7",
   "metadata": {},
   "source": [
    "*Discretize by Equal*\n",
    "---------------------------"
   ]
  },
  {
   "cell_type": "code",
   "execution_count": null,
   "id": "d0da00c5",
   "metadata": {},
   "outputs": [],
   "source": [
    "def equal_discretize(data, bins):\n",
    "    min_value = np.min(data)\n",
    "    max_value = np.max(data)\n",
    "    \n",
    "    cutoffs = []\n",
    "    width = (max(data) - min(data))/bins\n",
    "    for x in range(1, bins):\n",
    "        cutoffs.append(min(data)+x*width)\n",
    "    discrete = np.digitize(data, cutoffs, right=True)\n",
    "    return discrete, cutoffs, min_value, max_value"
   ]
  },
  {
   "cell_type": "code",
   "execution_count": null,
   "id": "6e180b17",
   "metadata": {},
   "outputs": [],
   "source": [
    "def equal_discretization(data, bins_N, color, plot):\n",
    "    unzip_lst = zip(*data)\n",
    "    for index, i in enumerate(unzip_lst):\n",
    "        discrete_dat, cutoff, min_value, max_value = equal_discretize(i, bins_N)\n",
    "        means = mean_of_bin(min_value, max_value, cutoff)\n",
    "        \n",
    "        discrete_dat = np.array(discrete_dat, dtype=float)\n",
    "        discrete_dat = adjust_value(discrete_dat, means)\n",
    "        \n",
    "        discrete_data = np.array(discrete_dat)\n",
    "        discrete_data = discrete_data[:,np.newaxis]\n",
    "\n",
    "        if index == 0:\n",
    "            discreted_data = np.copy(discrete_data)\n",
    "        else: \n",
    "            discreted_data = np.append(discreted_data, discrete_data, axis=1)\n",
    "\n",
    "        counter = collections.Counter(discrete_data[:,0])\n",
    "        counter = sorted(counter.items())\n",
    "        labels, values = zip(*counter)\n",
    "        if plot == True:\n",
    "            plot_bar_diagram(labels, values, color)\n",
    "\n",
    "    return discreted_data"
   ]
  },
  {
   "cell_type": "markdown",
   "id": "6e7919a6",
   "metadata": {},
   "source": [
    "*Discretize using Histogram*\n",
    "---------------------------"
   ]
  },
  {
   "cell_type": "code",
   "execution_count": null,
   "id": "263ee85e",
   "metadata": {},
   "outputs": [],
   "source": [
    "def histogram_discretize(data):\n",
    "    min_value = np.min(data)\n",
    "    max_value = np.max(data)\n",
    "    \n",
    "    _, bin = np.histogram(data, bins='auto')\n",
    "    bins = np.delete(bin, 0)\n",
    "    discrete = np.digitize(data, bins, right=True)\n",
    "    return discrete, bin, min_value, max_value"
   ]
  },
  {
   "cell_type": "code",
   "execution_count": null,
   "id": "aaead033",
   "metadata": {},
   "outputs": [],
   "source": [
    "def histogram_discretization(data, color, plot):\n",
    "    unzip_lst = zip(*data)\n",
    "    for index, i in enumerate(unzip_lst):\n",
    "        discrete_dat, bin, min_value, max_value = histogram_discretize(i)\n",
    "\n",
    "        means = mean_of_bin(min_value, max_value, bin)\n",
    "        discrete_dat = np.array(discrete_dat, dtype=float)\n",
    "        discrete_dat = adjust_value(discrete_dat, means)\n",
    "        \n",
    "        discrete_data = np.array(discrete_dat)\n",
    "        discrete_data = discrete_data[:,np.newaxis]\n",
    "\n",
    "        \n",
    "        if index == 0:\n",
    "            discreted_data = np.copy(discrete_data)\n",
    "        else: \n",
    "            discreted_data = np.append(discreted_data, discrete_data, axis=1)\n",
    "\n",
    "        counter = collections.Counter(discrete_data[:,0])\n",
    "        counter = sorted(counter.items())\n",
    "        labels, values = zip(*counter)\n",
    "        if plot == True:\n",
    "            plot_bar_diagram(labels, values, color)    \n",
    "    \n",
    "    return discreted_data"
   ]
  },
  {
   "cell_type": "markdown",
   "id": "7c73de10",
   "metadata": {},
   "source": [
    "*Discretization Histogram Diagram*\n",
    "---------------------------"
   ]
  },
  {
   "cell_type": "code",
   "execution_count": null,
   "id": "5e53ec4c",
   "metadata": {},
   "outputs": [],
   "source": [
    "def plot_bar_diagram(labels, values, color):\n",
    "    plt.style.use('ggplot')\n",
    "    fig, ax = plt.subplots(figsize=(7, 4))\n",
    "\n",
    "    ax.set_ylabel('Number of elements')\n",
    "    ax.set_xlabel('Bin value')\n",
    "#     ax.set_title('Discretization Bin Diagram')\n",
    "\n",
    "    y = values\n",
    "\n",
    "    # bar graphs\n",
    "    x = np.arange(len(labels))\n",
    "\n",
    "    width = 0.9\n",
    "    ax.bar(x, y, width, color=color)\n",
    "    ax.set_xticks(x)\n",
    "    labels = list(labels)\n",
    "    for i, element in enumerate(labels):\n",
    "        labels[i] = round(element, 2)\n",
    "\n",
    "    ax.set_xticklabels(labels)\n",
    "    plt.show()"
   ]
  },
  {
   "cell_type": "code",
   "execution_count": null,
   "id": "b2fd8f84",
   "metadata": {},
   "outputs": [],
   "source": [
    "bins_N = 8\n",
    "data, target = import_wine_dataset()\n",
    "# data, target = import_glass_dataset()\n",
    "# data, target = import_glass_dataset()\n",
    "\n",
    "\n",
    "equal_discretization(data, bins_N, 'IndianRed', True)\n",
    "freqenty_discretization(data, bins_N, 'SkyBlue', True)\n",
    "histogram_discretization(data, 'mediumseagreen', True)"
   ]
  },
  {
   "cell_type": "markdown",
   "id": "e0428764",
   "metadata": {},
   "source": [
    "Klasyfikatory (Gaussowski i Multinomial)\n",
    "---------------"
   ]
  },
  {
   "cell_type": "code",
   "execution_count": null,
   "id": "c8a06097",
   "metadata": {},
   "outputs": [],
   "source": [
    "def gauss_classificator(X_train, X_test, Y_train, Y_test):\n",
    "    clf = GaussianNB()\n",
    "    clf.fit(X_train, Y_train)\n",
    "    Y_pred = clf.predict(X_test)\n",
    "    print (classification_report(Y_test, Y_pred))\n",
    "    return clf, Y_pred\n",
    "\n",
    "def multinomial_classificator(X_train, X_test, Y_train, Y_test):\n",
    "    clf = MultinomialNB()\n",
    "    clf.fit(X_train, Y_train)\n",
    "    Y_pred = clf.predict(X_test)\n",
    "    print (classification_report(Y_test, Y_pred))\n",
    "    return clf, Y_pred"
   ]
  },
  {
   "cell_type": "markdown",
   "id": "aaf5048b",
   "metadata": {},
   "source": [
    "Confusion Matrix Generator\n",
    "---------------"
   ]
  },
  {
   "cell_type": "code",
   "execution_count": null,
   "id": "f8b25331",
   "metadata": {},
   "outputs": [],
   "source": [
    "def confusion_matrix_generator(Y_test, Y_pred):\n",
    "    cm = metrics.confusion_matrix(Y_test, Y_pred)\n",
    "    img = plt.matshow(cm, cmap=plt.cm.autumn)\n",
    "    plt.colorbar(img, fraction=0.045)\n",
    "    for x in range(cm.shape[0]):\n",
    "        for y in range(cm.shape[1]):\n",
    "            plt.text(x, y, \"%0.2f\" % cm[x,y], \n",
    "                     size=12, color='black', ha=\"center\", va=\"center\")\n",
    "    plt.show()"
   ]
  },
  {
   "cell_type": "markdown",
   "id": "2c425897",
   "metadata": {},
   "source": [
    "K-Fold vs Stratified K-Fold Diagram\n",
    "=================="
   ]
  },
  {
   "cell_type": "code",
   "execution_count": null,
   "id": "493ba83b",
   "metadata": {},
   "outputs": [],
   "source": [
    "folds_number = [2, 5, 10, 20, 30, 50]\n",
    "f1_kfold_score = []\n",
    "f1_stratified_kfold_score = []\n",
    "\n",
    "for i in folds_number:\n",
    "    scores = cross_validation_test(data, target, KFold(n_splits=i), True)\n",
    "    f1_kfold_score.append(return_f1_macro_mean_score(scores))\n",
    "    print(return_f1_macro_mean_score(scores))\n",
    "    scores = cross_validation_test(data, target, StratifiedKFold(n_splits=i), True)\n",
    "    f1_stratified_kfold_score.append(return_f1_macro_mean_score(scores))\n",
    "    print(return_f1_macro_mean_score(scores))\n",
    "    print(\"\")\n"
   ]
  },
  {
   "cell_type": "code",
   "execution_count": null,
   "id": "02a56ef9",
   "metadata": {},
   "outputs": [],
   "source": [
    "plt.style.use('ggplot')\n",
    "\n",
    "fig, ax = plt.subplots(figsize=(20, 10))\n",
    "\n",
    "ax.set_ylabel('F1-Score')\n",
    "ax.set_title('K-Fold vs Stratified K-Fold for Wine Dataset (Gaussian Classifier)')\n",
    "\n",
    "y1 = f1_kfold_score\n",
    "y2 = f1_stratified_kfold_score\n",
    "\n",
    "# bar graphs\n",
    "x = np.arange(len(folds_number))\n",
    "\n",
    "width = 0.25\n",
    "ax.bar(x, y1, width, label='K-Fold')\n",
    "ax.bar(x + width, y2, width,\n",
    "        color=list(plt.rcParams['axes.prop_cycle'])[2]['color'], label='Stratified K-Fold')\n",
    "ax.set_xticks(x + width)\n",
    "ax.set_xticklabels(folds_number)\n",
    "ax.legend()\n",
    "\n",
    "plt.show()"
   ]
  },
  {
   "cell_type": "code",
   "execution_count": null,
   "id": "d4472079",
   "metadata": {},
   "outputs": [],
   "source": [
    "def cross_validation_test(data, target, cv, clf):\n",
    "    if clf == True:\n",
    "        clf = MultinomialNB()\n",
    "    else:\n",
    "        clf = GaussianNB()\n",
    "    toReturn = 0\n",
    "    cv = ShuffleSplit(n_splits=2, test_size=0.3, random_state=0)\n",
    "    scoring = ['accuracy', 'precision_macro', 'recall_macro', 'f1_macro']\n",
    "    scores = cross_validate(clf, data, target,\n",
    "                            cv=cv, scoring=scoring, return_train_score=False)\n",
    "    return scores\n",
    "    \n",
    "def print_cross_validation_test(scores):\n",
    "    for key, score in scores.items():\n",
    "#         print('{}: {:.3f}'.format(key, np.mean(score)))\n",
    "        print('{:.3f}'.format(np.mean(score)))\n",
    "\n",
    "def return_f1_macro_mean_score(scores):\n",
    "    for key, score in scores.items():\n",
    "        if key == 'test_f1_macro':\n",
    "            return np.mean(score)"
   ]
  },
  {
   "cell_type": "markdown",
   "id": "3c795b42",
   "metadata": {},
   "source": [
    "Wine - F1-Score, KFold & Discretization ways\n",
    "=================="
   ]
  }
 ],
 "metadata": {},
 "nbformat": 4,
 "nbformat_minor": 5
}
