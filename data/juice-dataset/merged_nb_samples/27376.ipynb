{
 "cells": [
  {
   "cell_type": "markdown",
   "id": "8d9fd0bc",
   "metadata": {},
   "source": [
    "# Tilts and q's with temp using Carsten's COM:"
   ]
  },
  {
   "cell_type": "code",
   "execution_count": null,
   "id": "a6e7610e",
   "metadata": {},
   "outputs": [],
   "source": [
    "import numpy as np\n",
    "import matplotlib.pyplot as plt\n",
    "import lib.calc as calc\n",
    "import h5py\n",
    "from imp import reload\n",
    "import scipy"
   ]
  },
  {
   "cell_type": "markdown",
   "id": "36710e63",
   "metadata": {},
   "source": [
    "### Prepare data"
   ]
  },
  {
   "cell_type": "code",
   "execution_count": null,
   "id": "671ecb8e",
   "metadata": {},
   "outputs": [],
   "source": [
    "slist =  np.load('../stitched_data/scan_list.npy')\n",
    "slist"
   ]
  },
  {
   "cell_type": "code",
   "execution_count": null,
   "id": "e4aa374b",
   "metadata": {},
   "outputs": [],
   "source": [
    "num = 0\n",
    "fname = str(slist[num][0]) + '_' + str(slist[num][3])\n",
    "gint = calc.read_h5_stitched_e16014(fname,'../E16014_stitch.h5') # gridded stitched intensity\n",
    "Qx,Qy,Qz = calc.read_q_h5_stitched_e16014(fname,'../E16014_stitch.h5') # Q's\n",
    "qx, qy, qz = calc.make_qmesh(Qx, Qy, Qz, gint) # mesh the q's"
   ]
  },
  {
   "cell_type": "markdown",
   "id": "fcd75d6c",
   "metadata": {},
   "source": [
    "Define the ROI and inspect"
   ]
  },
  {
   "cell_type": "code",
   "execution_count": null,
   "id": "7ca5f285",
   "metadata": {},
   "outputs": [],
   "source": [
    "# iroi = np.s_[230:300,250:300,140:200]\n",
    "# iroi = np.s_[280:400,240:300,50:150]\n",
    "# iroi = np.s_[230:290,250:300,100:170]"
   ]
  },
  {
   "cell_type": "markdown",
   "id": "4ae38a70",
   "metadata": {},
   "source": [
    "Quick inspection:"
   ]
  },
  {
   "cell_type": "code",
   "execution_count": null,
   "id": "81592c0b",
   "metadata": {},
   "outputs": [],
   "source": [
    "if num <= 5:\n",
    "    iroi = np.s_[280:400,240:300,50:150]\n",
    "else:\n",
    "    iroi = np.s_[230:290,250:300,100:170]\n",
    "roi, qxr, qyr, qzr = [array[iroi] for array in (gint, qx, qy, qz)]\n",
    "roi += 1\n",
    "print(roi.shape)\n",
    "\n",
    "fig, (ax1, ax2, ax3) = plt.subplots(1,3,figsize=(11,4))\n",
    "ax1.pcolormesh(qxr[:,:,0],qyr[:,:,0],roi.sum(axis=2),cmap='jet')\n",
    "ax1.set_ylabel('Qy');ax1.set_xlabel('Qx')\n",
    "ax1.set_aspect('equal')\n",
    "\n",
    "ax2.pcolormesh(qxr[:,0,:],qzr[:,0,:],roi.sum(axis=1),cmap='jet')\n",
    "ax2.set_ylabel('Qz');ax2.set_xlabel('Qx')\n",
    "ax2.set_aspect('equal')\n",
    "\n",
    "ax3.pcolormesh(qyr[0,:,:],qzr[0,:,:],roi.sum(axis=0),cmap='jet')\n",
    "ax3.set_ylabel('Qz');ax3.set_xlabel('Qy')\n",
    "ax3.set_aspect('equal')\n",
    "\n",
    "plt.show()"
   ]
  },
  {
   "cell_type": "markdown",
   "id": "45da6417",
   "metadata": {},
   "source": [
    "### Calculate COR"
   ]
  },
  {
   "cell_type": "code",
   "execution_count": null,
   "id": "1e49dd4f",
   "metadata": {},
   "outputs": [],
   "source": [
    "take = int(30)\n",
    "# print(take/roi.size*100)\n",
    "isort = roi.ravel().argsort()[::-1][:take]\n",
    "roisort = roi.ravel()[isort]  - roi.ravel()[isort].min()\n",
    "qCOM = [(arr.ravel()[isort]*roisort).sum() / roisort.sum() for arr in (qxr,qyr,qzr)]\n",
    "\n",
    "fig, (ax1, ax2, ax3) = plt.subplots(1,3,figsize=(11,4))\n",
    "fig.suptitle(fname)\n",
    "\n",
    "ax1.pcolormesh(qxr[:,:,0],qyr[:,:,0],roi.sum(axis=2),cmap='jet')\n",
    "ax1.set_ylabel('Qy');ax1.set_xlabel('Qx')\n",
    "ax1.scatter(qCOM[0],qCOM[1],c='b')\n",
    "ax1.set_aspect('equal')\n",
    "\n",
    "ax2.pcolormesh(qxr[:,0,:],qzr[:,0,:],roi.sum(axis=1),cmap='jet')\n",
    "ax2.set_ylabel('Qz');ax2.set_xlabel('Qx')\n",
    "ax2.scatter(qCOM[0],qCOM[2],c='b')\n",
    "ax2.set_aspect('equal')\n",
    "\n",
    "ax3.pcolormesh(qyr[0,:,:],qzr[0,:,:],roi.sum(axis=0),cmap='jet')\n",
    "ax3.set_ylabel('Qz');ax3.set_xlabel('Qy')\n",
    "ax3.scatter(qCOM[1],qCOM[2],c='b')\n",
    "ax3.set_aspect('equal')\n",
    "\n",
    "plt.savefig('croi_'+fname)\n",
    "plt.show()\n",
    "print(qCOM)"
   ]
  },
  {
   "cell_type": "markdown",
   "id": "c35ba158",
   "metadata": {},
   "source": [
    "### Calculate $|\\vec{q}|$ and tilts"
   ]
  }
 ],
 "metadata": {},
 "nbformat": 4,
 "nbformat_minor": 5
}
