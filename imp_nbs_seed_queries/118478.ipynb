{
 "cells": [
  {
   "cell_type": "markdown",
   "id": "e3842d09",
   "metadata": {},
   "source": [
    "In order to run: <br>\n",
    "(1) unzip the submit dataset and put the resulting csv files into the submit folder in the repository <br>\n",
    "(2) Make sure you have all the required packages including pyomo installed <br>\n",
    "(3) Make sure cplex is installed and set the path to the executable file <br>\n",
    "This post goes along with the notebook: http://energystoragesense.com/uncategorized/scheduling_batt_optimisation/"
   ]
  },
  {
   "cell_type": "code",
   "execution_count": null,
   "id": "7d752372",
   "metadata": {},
   "outputs": [],
   "source": [
    "import numpy as np\n",
    "import csv\n",
    "import matplotlib.pyplot as plt\n",
    "import math\n",
    "import random\n",
    "import pandas as pd\n",
    "from pyomo.opt import SolverFactory\n",
    "from pyomo.core import Var\n",
    "import pyomo.environ as en\n",
    "import seaborn as sns\n",
    "from __future__ import division\n",
    "import time\n",
    "\n",
    "%matplotlib inline"
   ]
  },
  {
   "cell_type": "code",
   "execution_count": null,
   "id": "a3aa9fc3",
   "metadata": {},
   "outputs": [],
   "source": [
    "# set up seaborn the way you like\n",
    "sns.set_style({'axes.linewidth': 1, 'axes.edgecolor':'black', 'xtick.direction': \\\n",
    "               'out', 'xtick.major.size': 4.0, 'ytick.direction': 'out', 'ytick.major.size': 4.0, \\\n",
    "              'axes.facecolor': 'white','grid.color': '.8', 'grid.linestyle': u'-', 'grid.linewidth': 0.5})"
   ]
  },
  {
   "cell_type": "code",
   "execution_count": null,
   "id": "8c34db9e",
   "metadata": {},
   "outputs": [],
   "source": [
    "# Since using the data-driven data for the testing, use their battery class\n",
    "from battery import Battery"
   ]
  },
  {
   "cell_type": "markdown",
   "id": "139b2f82",
   "metadata": {},
   "source": [
    "read in the data and choose a site that we want to work with <br>\n",
    "all data should be unzipped and put in a folder called data in the parent directory <br>\n",
    "the metadata file containing the site ids and information about each site's batteries is located in the parent dir also"
   ]
  },
  {
   "cell_type": "code",
   "execution_count": null,
   "id": "0e746002",
   "metadata": {},
   "outputs": [],
   "source": [
    "metadata = pd.read_csv('./metadata.csv', index_col=0)"
   ]
  },
  {
   "cell_type": "code",
   "execution_count": null,
   "id": "42d0dcf1",
   "metadata": {},
   "outputs": [],
   "source": [
    "# lets have a look at what the data looks like for each site\n",
    "metadata.head(n=2)"
   ]
  },
  {
   "cell_type": "markdown",
   "id": "26e19866",
   "metadata": {},
   "source": [
    "Let's use the data from site 1 in our test, so we use siteId==1 and the metadata where the siteId==1"
   ]
  },
  {
   "cell_type": "code",
   "execution_count": null,
   "id": "8a8cf475",
   "metadata": {},
   "outputs": [],
   "source": [
    "#### CHNAGE THE SITE ID HERE\n",
    "site_id = 1\n",
    "parameters = metadata.loc[site_id]"
   ]
  },
  {
   "cell_type": "markdown",
   "id": "deac769e",
   "metadata": {},
   "source": [
    "We see that the metadata parameters contains information about two batteries and we only run one at a time <br>\n",
    "Therefore we need to specify a battery id and we use the battery class to store information about the battery characteristics <br>\n",
    "**NOTE:** <br>\n",
    "the metadata info is in kWh and the battery class wants information in Wh (convention from data driven) <br>\n",
    "This could be easily changed but we will keep the convention from the competition data"
   ]
  },
  {
   "cell_type": "code",
   "execution_count": null,
   "id": "8176d956",
   "metadata": {},
   "outputs": [],
   "source": [
    "# have a quick look at the testdata\n",
    "testData.head()"
   ]
  },
  {
   "cell_type": "code",
   "execution_count": null,
   "id": "3eb02f2a",
   "metadata": {},
   "outputs": [],
   "source": [
    "# let's look at the period ids to see how many periods there are\n",
    "np.unique(testData['period_id'].values)"
   ]
  },
  {
   "cell_type": "code",
   "execution_count": null,
   "id": "d03b9b46",
   "metadata": {},
   "outputs": [],
   "source": [
    "for g_id, g_df in testData.groupby('period_id'):\n",
    "    days = []\n",
    "    for ts in g_df.index:\n",
    "        day = str(ts.day)+'/'+str(ts.month)\n",
    "        if day not in days:\n",
    "            days.append(day)         \n",
    "    print g_id, days"
   ]
  },
  {
   "cell_type": "markdown",
   "id": "1387128b",
   "metadata": {},
   "source": [
    "We can see from the above that each period contains 10 consective days <br>\n",
    "We will actually run the optimisation for one period at a time"
   ]
  },
  {
   "cell_type": "code",
   "execution_count": null,
   "id": "ffd4b0ce",
   "metadata": {},
   "outputs": [],
   "source": [
    "# lets take a look at one period\n",
    "for g_id, g_df in testData.groupby('period_id'):\n",
    "    break\n",
    "    \n",
    "g_df.head()"
   ]
  },
  {
   "cell_type": "markdown",
   "id": "00130cd7",
   "metadata": {},
   "source": [
    "We see the structure of the data (which we could have also seen from the testData dataframe) <br>\n",
    "Each 15 minute has <br>\n",
    "an actual consumption (which is the consumption from the previous 15 mins) <br>\n",
    "actual pv production (again from the previous 15 mins) <br>\n",
    "a load_forecast (where load_00 is the forecast for the next 15 mins) <br>\n",
    "a pv forecast (where pv_00 is the forecast for the next 15 mins) <br>\n",
    "a buy price for electricity for the next 96 periods (price_buy_00 is the price for the next 15 mins) <br>\n",
    "a sell price for electricity for the next 96 periods (price_sell_00 is the price for the next 15 mins) <br>"
   ]
  },
  {
   "cell_type": "code",
   "execution_count": null,
   "id": "9b808d79",
   "metadata": {},
   "outputs": [],
   "source": [
    "# first we shift the consumption so it is aligned with the actual period and not the previous period\n",
    "# this is also done in the competition\n",
    "g_df.loc[:, 'actual_consumption'] = g_df.actual_consumption.shift(-1)\n",
    "g_df.loc[:, 'actual_pv'] = g_df.actual_pv.shift(-1)"
   ]
  },
  {
   "cell_type": "markdown",
   "id": "39465224",
   "metadata": {},
   "source": [
    "Now, let's use the data provided to work out the maximum possible saving provided by the battery <br>\n",
    "We will use data from the actual_consumption, actual_pv, price_sell_00 and price_buy_00 columns <br>"
   ]
  },
  {
   "cell_type": "code",
   "execution_count": null,
   "id": "f3c41322",
   "metadata": {},
   "outputs": [],
   "source": [
    "# here convert the various timeseries to numpy arrays\n",
    "# replace these with the arrays from the site you want to model\n",
    "load = g_df['actual_consumption'].values\n",
    "PV = g_df['actual_pv'].values\n",
    "sellPrice = g_df['price_sell_00'].values\n",
    "buyPrice = g_df['price_buy_00'].values\n",
    "\n",
    "# since the last values are nan after the shift we will shorten the arrays\n",
    "# shorten the arrays so the price and actual line up\n",
    "load = load[0:-1]\n",
    "PV = PV[0:-1]\n",
    "sellPrice = sellPrice[0:-1]\n",
    "buyPrice = buyPrice[0:-1]"
   ]
  },
  {
   "cell_type": "code",
   "execution_count": null,
   "id": "a9041b9f",
   "metadata": {},
   "outputs": [],
   "source": [
    "colors = sns.color_palette()\n",
    "hrs = np.arange(0,len(load))/4\n",
    "fig = plt.figure(figsize=(14,4))\n",
    "ax1 = fig.add_subplot(2,1,1)\n",
    "l1, = ax1.plot(hrs,4*load/1000,color=colors[0])\n",
    "l2, = ax1.plot(hrs,4*PV/1000,color=colors[1])\n",
    "ax1.set_xlabel('hour'), ax1.set_ylabel('kW')\n",
    "ax1.legend([l1,l2],['demand','PV'],ncol=2)\n",
    "ax1.set_xlim([0,len(load)/4]);\n",
    "ax2 = fig.add_subplot(2,1,2)\n",
    "l1, = ax2.plot(hrs,buyPrice,color=colors[3])\n",
    "l2, = ax2.plot(hrs,sellPrice,color=colors[4])\n",
    "ax2.set_xlabel('hour'), ax2.set_ylabel('price ($/kWh)')\n",
    "ax2.legend([l1,l2],['buy price','sell price'],ncol=2)\n",
    "ax2.set_xlim([0,len(load)/4]);\n",
    "fig.tight_layout()"
   ]
  },
  {
   "cell_type": "markdown",
   "id": "9739654d",
   "metadata": {},
   "source": [
    "### We are now ready to schedule the battery using pyomo!"
   ]
  },
  {
   "cell_type": "markdown",
   "id": "2adfb801",
   "metadata": {},
   "source": [
    "First of all, pyomo uses indexed variables, therefore we create these using dictionaries"
   ]
  },
  {
   "cell_type": "code",
   "execution_count": null,
   "id": "6c1080c0",
   "metadata": {},
   "outputs": [],
   "source": [
    "priceDict1 = dict(enumerate(sellPrice))\n",
    "priceDict2 = dict(enumerate(buyPrice))"
   ]
  },
  {
   "cell_type": "markdown",
   "id": "e1deabe4",
   "metadata": {},
   "source": [
    "The net is the consumers load+PV <br>\n",
    "The way that the price is formulated is that if the net is greater than 0, then the consumer is buying from the grid and electricity costs the buy_price <br>\n",
    "If the net is less than 0, then the consumer is selling electricity to the grid and the electricity is sold at price_sell <br>\n",
    "Therefore, we split the net into positive (buying) and negative (selling) load"
   ]
  },
  {
   "cell_type": "code",
   "execution_count": null,
   "id": "fa4daa14",
   "metadata": {},
   "outputs": [],
   "source": [
    "net = load-PV\n",
    "# split load into +ve and -ve\n",
    "posLoad = np.copy(load-PV)\n",
    "negLoad = np.copy(load-PV)\n",
    "for j,e in enumerate(net):\n",
    "    if e>=0:\n",
    "        negLoad[j]=0\n",
    "    else:\n",
    "        posLoad[j]=0\n",
    "posLoadDict = dict(enumerate(posLoad))\n",
    "negLoadDict = dict(enumerate(negLoad))"
   ]
  },
  {
   "cell_type": "code",
   "execution_count": null,
   "id": "723e8770",
   "metadata": {},
   "outputs": [],
   "source": [
    "# now set up the pyomo model\n",
    "m = en.ConcreteModel()\n",
    "\n",
    "# we use rangeset to make a sequence of integers\n",
    "# time is what we will use as the model index\n",
    "m.Time = en.RangeSet(0, len(net)-1)"
   ]
  },
  {
   "cell_type": "markdown",
   "id": "7d75c7ee",
   "metadata": {},
   "source": [
    "#### Variables\n",
    "Now we define the variables that we are interested in: <br>\n",
    "We formulate the problem such that our decision variables are *posNetLoad* and *negNetLoad* <br>\n",
    "See the objective fn."
   ]
  },
  {
   "cell_type": "code",
   "execution_count": null,
   "id": "8d7317c8",
   "metadata": {},
   "outputs": [],
   "source": [
    "# variables (all indexed by Time)\n",
    "m.SOC = en.Var(m.Time, bounds=(0,batt.capacity), initialize=0) #0\n",
    "m.posDeltaSOC = en.Var(m.Time, initialize=0) #1\n",
    "m.negDeltaSOC = en.Var(m.Time, initialize=0) #2\n",
    "m.posEInGrid = en.Var(m.Time, bounds=(0,batt.charging_power_limit*(15/60.)), initialize=0) #3\n",
    "m.posEInPV = en.Var(m.Time, bounds=(0,batt.charging_power_limit*(15/60.)), initialize=0) #4\n",
    "m.negEOutLocal = en.Var(m.Time, bounds=(batt.discharging_power_limit*(15/60.),0), initialize=0) #5\n",
    "m.negEOutExport = en.Var(m.Time, bounds=(batt.discharging_power_limit*(15/60.),0), initialize=0) #6\n",
    "m.posNetLoad = en.Var(m.Time, initialize=posLoadDict) #7\n",
    "m.negNetLoad = en.Var(m.Time, initialize=negLoadDict) #8"
   ]
  },
  {
   "cell_type": "markdown",
   "id": "f2703e63",
   "metadata": {},
   "source": [
    "The numbers commented after are the indices that we will use when looping through the model components afterwards to get the final values of the variables after the optimisation has been completed"
   ]
  },
  {
   "cell_type": "markdown",
   "id": "a038c3ac",
   "metadata": {},
   "source": [
    "The Boolean variables are what we will use to denote whether the battery is charging or discharging at a particular period"
   ]
  },
  {
   "cell_type": "code",
   "execution_count": null,
   "id": "22ad0dfc",
   "metadata": {},
   "outputs": [],
   "source": [
    "# Boolean variables (again indexed by Time)\n",
    "m.Bool_char=en.Var(m.Time,within=en.Boolean) #9\n",
    "m.Bool_dis=en.Var(m.Time,within=en.Boolean,initialize=0) #10"
   ]
  },
  {
   "cell_type": "code",
   "execution_count": null,
   "id": "66a88c59",
   "metadata": {},
   "outputs": [],
   "source": [
    "# parameters (indexed by time)\n",
    "m.priceSell = en.Param(m.Time, initialize=priceDict1)\n",
    "m.priceBuy = en.Param(m.Time, initialize=priceDict2)\n",
    "m.posLoad = en.Param(m.Time, initialize=posLoadDict)\n",
    "m.negLoad = en.Param(m.Time, initialize=negLoadDict)"
   ]
  },
  {
   "cell_type": "code",
   "execution_count": null,
   "id": "17ccad00",
   "metadata": {},
   "outputs": [],
   "source": [
    "# single value parameters\n",
    "m.etaChg = en.Param(initialize = batt.charging_efficiency)\n",
    "m.etaDisChg = en.Param(initialize = batt.discharging_efficiency)\n",
    "m.ChargingLimit = en.Param(initialize = batt.charging_power_limit*(15/60.))\n",
    "m.DischargingLimit = en.Param(initialize = batt.discharging_power_limit*(15/60.))"
   ]
  },
  {
   "cell_type": "markdown",
   "id": "37106d75",
   "metadata": {},
   "source": [
    "#### Objective function \n",
    "Now define the objective function that we are going to minimise (the cost of the site's electricity)"
   ]
  },
  {
   "cell_type": "code",
   "execution_count": null,
   "id": "cf6e211d",
   "metadata": {},
   "outputs": [],
   "source": [
    "# ensure that posEInPV cannot exceed local PV\n",
    "def E_solar_charging_rule(m,i):\n",
    "    return m.posEInPV[i]<=-m.negLoad[i]\n",
    "m.solarChargingLimit_cons = en.Constraint(m.Time, rule=E_solar_charging_rule)\n",
    "# ensure that negEOutLocal cannot exceed local demand\n",
    "def E_local_discharge_rule(m,i):\n",
    "    return m.negEOutLocal[i]>=-m.posLoad[i]\n",
    "m.localDischargingLimit_cons = en.Constraint(m.Time, rule=E_local_discharge_rule)"
   ]
  },
  {
   "cell_type": "markdown",
   "id": "61e42cf6",
   "metadata": {},
   "source": [
    "#### Rules for actually calculating the main decision variables"
   ]
  },
  {
   "cell_type": "code",
   "execution_count": null,
   "id": "6001287e",
   "metadata": {},
   "outputs": [],
   "source": [
    "# calculate the net positive demand\n",
    "def E_pos_net_rule(m,i):\n",
    "    return m.posNetLoad[i] == m.posLoad[i]+m.posEInGrid[i]+m.negEOutLocal[i]\n",
    "m.E_posNet_cons = en.Constraint(m.Time,rule=E_pos_net_rule)\n",
    "\n",
    "# calculate export\n",
    "def E_neg_net_rule(m,i):\n",
    "    return m.negNetLoad[i] == m.negLoad[i]+m.posEInPV[i]+m.negEOutExport[i]\n",
    "m.E_negNet_cons = en.Constraint(m.Time,rule=E_neg_net_rule)"
   ]
  },
  {
   "cell_type": "markdown",
   "id": "52fe463b",
   "metadata": {},
   "source": [
    "#### Running pyomo\n",
    "Now we just need to get pyomo to run, so first we need to specify the path to the solver:"
   ]
  },
  {
   "cell_type": "code",
   "execution_count": null,
   "id": "32b7197c",
   "metadata": {},
   "outputs": [],
   "source": [
    "# set the path to the solver\n",
    "# SPECIFY YOUR OWN PATH TO CPLEX OR WHATEVER OTHER SOLVER\n",
    "opt = SolverFactory(\"cplex\", executable=\"/opt/ibm/ILOG/CPLEX_Studio1271/cplex/bin/x86-64_linux/cplex\")"
   ]
  },
  {
   "cell_type": "markdown",
   "id": "d6fe1325",
   "metadata": {},
   "source": [
    "#### Now we can run "
   ]
  },
  {
   "cell_type": "code",
   "execution_count": null,
   "id": "1da25c5b",
   "metadata": {},
   "outputs": [],
   "source": [
    "# time it for good measure\n",
    "t = time.time()\n",
    "results = opt.solve(m)\n",
    "elapsed = time.time() - t\n",
    "print 'Time elapsed:', elapsed"
   ]
  },
  {
   "cell_type": "markdown",
   "id": "ad26457e",
   "metadata": {},
   "source": [
    "#### Reading the outputs\n",
    "I prefer having my outputs as numpy arrays, as I am more used to them <br>\n",
    "Remember the order in which we defined the variables? Well that's the way that pyomo spits them out. Hence we numbered the variables as we declared them <br>\n",
    "I find it easiest to just loop through the variables and store the ones that we are interested in"
   ]
  },
  {
   "cell_type": "code",
   "execution_count": null,
   "id": "21c361d9",
   "metadata": {},
   "outputs": [],
   "source": [
    "j = 0\n",
    "for v in m.component_objects(Var, active=True):\n",
    "    print j, v.getname()\n",
    "    j+=1"
   ]
  },
  {
   "cell_type": "code",
   "execution_count": null,
   "id": "7d2f28fd",
   "metadata": {},
   "outputs": [],
   "source": [
    "# now let's read in the value for each of the variables \n",
    "outputVars = np.zeros((9,len(sellPrice)))"
   ]
  },
  {
   "cell_type": "code",
   "execution_count": null,
   "id": "0f639752",
   "metadata": {},
   "outputs": [],
   "source": [
    "j = 0\n",
    "for v in m.component_objects(Var, active=True):\n",
    "    print v.getname()\n",
    "    #print varobject.get_values()\n",
    "    varobject = getattr(m, str(v))\n",
    "    for index in varobject:\n",
    "        outputVars[j,index] = varobject[index].value\n",
    "    j+=1\n",
    "    if j>=9:\n",
    "        break"
   ]
  },
  {
   "cell_type": "markdown",
   "id": "16a07b82",
   "metadata": {},
   "source": [
    "The above cell is the solution, but we can also calculate how much better this new solution is than the no battery case (or any other battery action that you may consider)"
   ]
  },
  {
   "cell_type": "code",
   "execution_count": null,
   "id": "2690d982",
   "metadata": {},
   "outputs": [],
   "source": [
    "# objective function\n",
    "def Obj_fn(m):\n",
    "    return sum((m.priceBuy[i]*m.posNetLoad[i]) + (m.priceSell[i]*m.negNetLoad[i]) for i in m.Time)  \n",
    "m.total_cost = en.Objective(rule=Obj_fn,sense=en.minimize)"
   ]
  },
  {
   "cell_type": "markdown",
   "id": "ea6d484d",
   "metadata": {},
   "source": [
    "In the above posNetLoad and negNetLoad are variables, indexed by time that will change dependent on the action of the battery <br>\n",
    "They have initially been assigned using posLoad and negLoad, which correspond to no battery action"
   ]
  },
  {
   "cell_type": "markdown",
   "id": "b29fe59e",
   "metadata": {},
   "source": [
    "We now need to think about the constraints on the model. First of all, we add a constraint which represents the finite physical capacity of the battery, which cannot be above the maximum and cannot fall below zero"
   ]
  },
  {
   "cell_type": "code",
   "execution_count": null,
   "id": "aa9cc63f",
   "metadata": {},
   "outputs": [],
   "source": [
    "batt_id = 1\n",
    "# use battery class to store information\n",
    "batt = Battery(capacity=parameters[\"Battery_\"+str(batt_id)+\"_Capacity\"]*1000,\n",
    "           charging_power_limit=parameters[\"Battery_\"+str(batt_id)+\"_Power\"]*1000,\n",
    "           discharging_power_limit=-parameters[\"Battery_\"+str(batt_id)+\"_Power\"]*1000,\n",
    "           charging_efficiency=parameters[\"Battery_\"+str(batt_id)+\"_Charge_Efficiency\"],\n",
    "           discharging_efficiency=parameters[\"Battery_\"+str(batt_id)+\"_Discharge_Efficiency\"])"
   ]
  },
  {
   "cell_type": "code",
   "execution_count": null,
   "id": "f46f95a0",
   "metadata": {},
   "outputs": [],
   "source": [
    "# read the testdata\n",
    "testData = pd.read_csv('./submit/'+str(site_id)+'.csv',parse_dates=['timestamp'],index_col='timestamp')"
   ]
  },
  {
   "cell_type": "markdown",
   "id": "95b758b0",
   "metadata": {},
   "source": [
    "#### boolean constraints - the integers\n",
    "The next set of constraints is the \"Integer\" part in the Mixed Integer Linear Program formulation. <br>\n",
    "These constraints explicitly constrain that the battery can only charge OR discharge during one time period <br>\n",
    "The observant might notice that in this specific example, these constraints aren't actually required, since in our objective function there will never be an economic benefit to this type of action <br>\n",
    "However, it is good to see how they are set up, they can make the optimisation faster and many cases they are required"
   ]
  },
  {
   "cell_type": "code",
   "execution_count": null,
   "id": "9f708f30",
   "metadata": {},
   "outputs": [],
   "source": [
    "# we use bigM to bound the problem\n",
    "# boolean constraints\n",
    "def Bool_char_rule_1(m,i):\n",
    "    bigM=500000\n",
    "    return((m.posDeltaSOC[i])>=-bigM*(m.Bool_char[i]))\n",
    "m.Batt_ch1=en.Constraint(m.Time,rule=Bool_char_rule_1)\n",
    "# if battery is charging, charging must be greater than -large\n",
    "# if not, charging geq zero\n",
    "def Bool_char_rule_2(m,i):\n",
    "    bigM=500000\n",
    "    return((m.posDeltaSOC[i])<=0+bigM*(1-m.Bool_dis[i]))\n",
    "m.Batt_ch2=en.Constraint(m.Time,rule=Bool_char_rule_2)\n",
    "# if batt discharging, charging must be leq zero\n",
    "# if not, charging leq +large\n",
    "def Bool_char_rule_3(m,i):\n",
    "    bigM=500000\n",
    "    return((m.negDeltaSOC[i])<=bigM*(m.Bool_dis[i]))\n",
    "m.Batt_cd3=en.Constraint(m.Time,rule=Bool_char_rule_3)\n",
    "# if batt discharge, discharge leq POSITIVE large\n",
    "# if not, discharge leq 0\n",
    "def Bool_char_rule_4(m,i):\n",
    "    bigM=500000\n",
    "    return((m.negDeltaSOC[i])>=0-bigM*(1-m.Bool_char[i]))\n",
    "m.Batt_cd4=en.Constraint(m.Time,rule=Bool_char_rule_4)\n",
    "# if batt charge, discharge geq zero\n",
    "# if not, discharge geq -large\n",
    "def Batt_char_dis(m,i):\n",
    "    return (m.Bool_char[i]+m.Bool_dis[i],1)\n",
    "m.Batt_char_dis=en.Constraint(m.Time,rule=Batt_char_dis)"
   ]
  },
  {
   "cell_type": "markdown",
   "id": "a50132bf",
   "metadata": {},
   "source": [
    "bigM is a big number to bound the problem...\n",
    "Here is a link from an MIT open course: https://ocw.mit.edu/courses/sloan-school-of-management/15-053-optimization-methods-in-management-science-spring-2013/tutorials/MIT15_053S13_tut09.pdf"
   ]
  },
  {
   "cell_type": "markdown",
   "id": "0f0510ff",
   "metadata": {},
   "source": [
    "#### battery efficiency\n",
    "The next constraints deal with the battery efficiency: <br>\n",
    "We ensure that any change in the battery in the battery's state of charge at a particular period due to charging is reduced by the charging efficieny <br>\n",
    "Similarly, we ensure that the energy output from the battery is reduced when it is converted to an output"
   ]
  },
  {
   "cell_type": "code",
   "execution_count": null,
   "id": "550439c6",
   "metadata": {},
   "outputs": [],
   "source": [
    "#ensure charging efficiency is divided\n",
    "def pos_E_in_rule(m,i):\n",
    "    return (m.posEInGrid[i]+m.posEInPV[i]) == m.posDeltaSOC[i]/m.etaChg\n",
    "m.posEIn_cons = en.Constraint(m.Time, rule=pos_E_in_rule)\n",
    "# ensure discharging eff multiplied\n",
    "def neg_E_out_rule(m,i):\n",
    "    return (m.negEOutLocal[i]+m.negEOutExport[i]) == m.negDeltaSOC[i]*m.etaDisChg\n",
    "m.negEOut_cons = en.Constraint(m.Time, rule=neg_E_out_rule)"
   ]
  },
  {
   "cell_type": "markdown",
   "id": "5812a3f1",
   "metadata": {},
   "source": [
    "#### Charging and discharging power limits\n",
    "Now ensure that the charging and discharging power limits of the battery are respected. <br>\n",
    "Note that we have opted to split the energy into that coming-from the grid (posEInGrid), going-to the grid (negEOutExport), coming from local PV (posEInPV) and being used locally (negEOutLocal)"
   ]
  },
  {
   "cell_type": "code",
   "execution_count": null,
   "id": "123626fa",
   "metadata": {},
   "outputs": [],
   "source": [
    "# ensure charging rate obeyed\n",
    "def E_charging_rate_rule(m,i):\n",
    "    return (m.posEInGrid[i]+m.posEInPV[i])<=m.ChargingLimit\n",
    "m.chargingLimit_cons = en.Constraint(m.Time, rule=E_charging_rate_rule)\n",
    "# ensure DIScharging rate obeyed\n",
    "def E_discharging_rate_rule(m,i):\n",
    "    return (m.negEOutLocal[i]+m.negEOutExport[i])>=m.DischargingLimit\n",
    "m.dischargingLimit_cons = en.Constraint(m.Time, rule=E_discharging_rate_rule)"
   ]
  },
  {
   "cell_type": "markdown",
   "id": "0aa9d655",
   "metadata": {},
   "source": [
    "#### Further constraints to ensure physical sense"
   ]
  }
 ],
 "metadata": {},
 "nbformat": 4,
 "nbformat_minor": 5
}
