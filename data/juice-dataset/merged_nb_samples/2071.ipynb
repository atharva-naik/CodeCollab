{
 "cells": [
  {
   "cell_type": "code",
   "execution_count": null,
   "id": "ad9697b7",
   "metadata": {},
   "outputs": [],
   "source": [
    "url = \"http://climatedataapi.worldbank.org/climateweb/rest/v1/country/cru/tas/year/CAN.csv\"\n",
    "print(\"Getting the data from:\", url)\n",
    "resp = requests.get(url)"
   ]
  },
  {
   "cell_type": "markdown",
   "id": "7d5e2eb6",
   "metadata": {},
   "source": [
    "What happened here? URL, also known as the link, is the text you usually write in your address bar in your browser to go to a certain website. For example, `https://www.google.ca/` is a valid URL and so is `https://www.youtube.com/watch?v=2XID_W4neJo`. Notice how the link to the youtube video is specified by a sequence of characters `2XID_W4neJo` after the equals sign `=` in the link (another video would have a different sequence of characters). \n",
    "\n",
    "Similarly, the link to our data set contains two pieces of information (tas and CAN) in the URL that specify:\n",
    "`https://climatedataapi.worldbank.org/climateweb/rest/v1/country/cru/tas/year/CAN.csv`\n",
    "\n",
    "- tas: we want temperatures (for precipitation this would be `pr`)\n",
    "- CAN: for Canada\n",
    "\n",
    "To see the data we are downloading, open your web-browser and copy and paste the link stored in `url`. You can also get the data for other countries by replacing CAN with other country codes (e.g. DEU for Germany or GBR for the United Kingdom.)"
   ]
  },
  {
   "cell_type": "markdown",
   "id": "9f6f0282",
   "metadata": {},
   "source": [
    "Then, in the next line:\n",
    "```python\n",
    "resp = requests.get(url)\n",
    "```\n",
    "we have used function `get` from `requests` and gave it the link as a parameter. This function knows how to get the website content when we give it a URL. If everything went well, the function will store the data in the variable `resp`. There is a simple way to check if everything went well:"
   ]
  },
  {
   "cell_type": "code",
   "execution_count": null,
   "id": "037e403a",
   "metadata": {},
   "outputs": [],
   "source": [
    "print(\"Response from the website (200 is OK):\", resp.status_code)"
   ]
  },
  {
   "cell_type": "markdown",
   "id": "af728d40",
   "metadata": {},
   "source": [
    "Status codes are messages exchanged among computers on the Web. Sometimes when you try to open a website in your browser you might get a message: `404 Page not found`. The 404 number is a status code meant to tell your web-browser \"Hey, you requested something I don't have... here's a 404 for you\". Here, we are all good  because 200 means \"OK\".\n",
    "\n",
    "To access the data we have received from the website, we can look into the variable `resp.text`. Let's make sure that this is indeed text:"
   ]
  },
  {
   "cell_type": "code",
   "execution_count": null,
   "id": "224232bd",
   "metadata": {},
   "outputs": [],
   "source": [
    "print(\"Type of the data we received:\", type(resp.text))"
   ]
  },
  {
   "cell_type": "markdown",
   "id": "c493c86b",
   "metadata": {},
   "source": [
    "Let's print first 100 characters to peek into the content:"
   ]
  },
  {
   "cell_type": "code",
   "execution_count": null,
   "id": "c57592b1",
   "metadata": {},
   "outputs": [],
   "source": [
    "print(resp.text[:100])"
   ]
  },
  {
   "cell_type": "markdown",
   "id": "d1f36f46",
   "metadata": {},
   "source": [
    "If you are still skeptical (and in programming it's good to be skeptical!), there is an easy way to check that what we have have seen on the website is indeed what we have on our computer now. Go to the website:\n",
    "\n",
    "```\n",
    "http://climatedataapi.worldbank.org/climateweb/rest/v1/country/cru/tas/year/CAN.csv\n",
    "```\n",
    "\n",
    "and compare the first few lines there and the first few lines in your code. Convinced now? Good! You can now use the `np.loadtxt` as before to load this data into a numpy array."
   ]
  },
  {
   "cell_type": "markdown",
   "id": "77e3029b",
   "metadata": {},
   "source": [
    "Now, instead of telling numpy to read a file stored on our computer, we will give it the text stored in the variable `resp.text`. There is a little catch to keep in mind here: we need to tell NumPy where new lines are in the text. To do this, we can split the text in `resp.text` into chunks where each chunk is a new row. In programming a new line is written as `\\n`:"
   ]
  },
  {
   "cell_type": "code",
   "execution_count": null,
   "id": "01ea675a",
   "metadata": {},
   "outputs": [],
   "source": [
    "rows = resp.text.split('\\n')\n",
    "rows[:5]"
   ]
  },
  {
   "cell_type": "markdown",
   "id": "fe35fae8",
   "metadata": {},
   "source": [
    "Compare these numbers with the numbers from before. We should recognize that they are the same! The only difference is how we organized the data: now, we have a list where every element is a row from our `resp.text` and before we had one large string. `np.loadtxt` will now know how to read this and store it into an array:"
   ]
  },
  {
   "cell_type": "code",
   "execution_count": null,
   "id": "88b73df7",
   "metadata": {},
   "outputs": [],
   "source": [
    "plt.figure()\n",
    "plt.plot(years, temperatures)\n",
    "plt.title(\"Average yearly temperatures in Canada from 1901 to 2012\")\n",
    "plt.xlabel(\"Year\")\n",
    "plt.ylabel(\"Temperature in C\")\n",
    "plt.show()"
   ]
  },
  {
   "cell_type": "markdown",
   "id": "0625dd26",
   "metadata": {},
   "source": [
    "We can also get rid of the white space on the right by specifying the limits for our x-axis. This limit will say which years we want to plot. Remember that our x-axis represents years, so we can use `set_xlim` to show the data between 1901 and 2012:"
   ]
  },
  {
   "cell_type": "code",
   "execution_count": null,
   "id": "9ca6d974",
   "metadata": {},
   "outputs": [],
   "source": [
    "plt.figure()\n",
    "plt.plot(years, temperatures)\n",
    "plt.title(\"Average yearly temperatures in Canada from 1901 to 2012\")\n",
    "plt.xlabel(\"Year\")\n",
    "plt.ylabel(\"Temperature in C\")\n",
    "plt.xlim([1901, 2012])\n",
    "plt.show()"
   ]
  },
  {
   "cell_type": "markdown",
   "id": "60ec3d40",
   "metadata": {},
   "source": [
    "**Exercise**: Function `plot` lets you pick a color and the linewidth by specifying parameters `color` and `linewidth`. Pick a color and change the default linewidth to see what happens. Choose among following colors: blue, green, red, cyan, magenta, yellow, black, white (e.g. `color='cyan'`). If you want more colors, try looking up on Google what are other fancy options!\n",
    "\n",
    "**Question**: Looking a this plot: how would you describe what happened with the average temperature over the last 10, 50  and 100 years?\n"
   ]
  },
  {
   "cell_type": "markdown",
   "id": "8884bb36",
   "metadata": {},
   "source": [
    "# Additional exercises:"
   ]
  },
  {
   "cell_type": "markdown",
   "id": "ff28ed00",
   "metadata": {},
   "source": [
    "## 1. Comparing temperatures in different countries"
   ]
  },
  {
   "cell_type": "markdown",
   "id": "518c28ec",
   "metadata": {},
   "source": [
    "We have seen how to do a simple plot using the data we have downloaded. Now, let's load temperature data from different countries and compare them.  In the examples below we will be using 'HRV' which stands for Hrvatska (Croatia) and is very difficult to pronounce if you don't speak a Slavic language, and 'DEU' for Deutschland (Germany). Visit [this page](http://unstats.un.org/unsd/tradekb/Knowledgebase/Country-Code) to find the three-letter country code of another country you can use in your own script. \n",
    "\n",
    "You can download the temperatures for Croatia here:\n",
    "\n",
    "`http://climatedataapi.worldbank.org/climateweb/rest/v1/country/cru/tas/year/HRV.csv`\n",
    "\n",
    "\n",
    "And for Germany here:\n",
    "\n",
    "`http://climatedataapi.worldbank.org/climateweb/rest/v1/country/cru/tas/year/DEU.csv`\n",
    "\n",
    "Again, you go to these websites and save the data in your `workshop` folder by right-clicking on the website and selecting \"Save Page as\"."
   ]
  },
  {
   "cell_type": "markdown",
   "id": "1b809817",
   "metadata": {},
   "source": [
    "To open the files use numpy as before:"
   ]
  },
  {
   "cell_type": "code",
   "execution_count": null,
   "id": "bedd2f4d",
   "metadata": {},
   "outputs": [],
   "source": [
    "temperatures_deu = np.loadtxt('DEU.csv', delimiter=',', skiprows=1)\n",
    "temperatures_hrv = np.loadtxt('HRV.csv', delimiter=',', skiprows=1)"
   ]
  },
  {
   "cell_type": "markdown",
   "id": "f1f64fa2",
   "metadata": {},
   "source": [
    "Let's plot both temperatures on one plot:"
   ]
  },
  {
   "cell_type": "code",
   "execution_count": null,
   "id": "ed82031d",
   "metadata": {},
   "outputs": [],
   "source": [
    "plt.figure()\n",
    "plt.plot(temperatures_hrv[:, 0], temperatures_hrv[:, 1])\n",
    "plt.plot(temperatures_deu[:, 0], temperatures_deu[:, 1])\n",
    "plt.title(\"Average temperatures in HRV and DEU from 1901 to 2012\")\n",
    "plt.xlabel(\"Year\")\n",
    "plt.ylabel(\"Temperature in C\")\n",
    "plt.xlim([1901, 2012])\n",
    "plt.show()"
   ]
  },
  {
   "cell_type": "markdown",
   "id": "f0d03e22",
   "metadata": {},
   "source": [
    "Let's make this plot a bit easier to read by labelling the lines. For that we can pass the argument `label` to the function `plot` and then display a legend. By passing a parameter `loc` (for location), we can tell matplotlib to put the legend in what it estimates to be a best region of the plot:"
   ]
  },
  {
   "cell_type": "code",
   "execution_count": null,
   "id": "f9bccb37",
   "metadata": {},
   "outputs": [],
   "source": [
    "plt.figure()\n",
    "plt.plot(temperatures_hrv[:, 0], temperatures_hrv[:, 1], label='HRV')\n",
    "plt.plot(temperatures_deu[:, 0], temperatures_deu[:, 1], label='DEU')\n",
    "plt.title(\"Average temperatures from 1901 to 2012\")\n",
    "plt.xlabel(\"Year\")\n",
    "plt.ylabel(\"Temperature in C\")\n",
    "plt.xlim([1901, 2012])\n",
    "plt.legend(loc='best')\n",
    "plt.show()"
   ]
  },
  {
   "cell_type": "markdown",
   "id": "d9ca8ab9",
   "metadata": {},
   "source": [
    "**Question**: If you don't specify `loc` and just use `plt.legend()` where does matplotlib put the legend?"
   ]
  },
  {
   "cell_type": "markdown",
   "id": "e3be64af",
   "metadata": {},
   "source": [
    "Let's do a few chages to our plot to make it look more interesting. Change both linewidths to `2` and chage their colors to red for Croatia and blue for Germany. Also, we can easily turn the grid on `plt.grid('on')` to compare the values more easily."
   ]
  },
  {
   "cell_type": "code",
   "execution_count": null,
   "id": "4ff50d9b",
   "metadata": {},
   "outputs": [],
   "source": [
    "plt.figure()\n",
    "plt.plot(temperatures_hrv[:, 0], temperatures_hrv[:, 1], label='HRV', color='r', linewidth=2)\n",
    "plt.plot(temperatures_deu[:, 0], temperatures_deu[:, 1], label='DEU', color='b', linewidth=2)\n",
    "plt.title(\"Average temperatures from 1901 to 2012\")\n",
    "plt.xlabel(\"Year\")\n",
    "plt.ylabel(\"Temperature in C\")\n",
    "plt.xlim([1901, 2012])\n",
    "\n",
    "plt.legend(loc='best')\n",
    "plt.grid(True)\n",
    "plt.show()"
   ]
  },
  {
   "cell_type": "markdown",
   "id": "2ed4dd3b",
   "metadata": {},
   "source": [
    "Finally, we can resize our plot by expanding it in horizontal direction `figsize=(10, 4)`:"
   ]
  },
  {
   "cell_type": "code",
   "execution_count": null,
   "id": "9f6e8a39",
   "metadata": {},
   "outputs": [],
   "source": [
    "plt.figure(figsize=(10, 4))\n",
    "plt.plot(temperatures_hrv[:, 0], temperatures_hrv[:, 1], label='HRV', color='r', linewidth=2)\n",
    "plt.plot(temperatures_deu[:, 0], temperatures_deu[:, 1], label='DEU', color='b', linewidth=2)\n",
    "plt.title(\"Average temperatures from 1901 to 2012\")\n",
    "plt.xlabel(\"Year\")\n",
    "plt.ylabel(\"Temperature in C\")\n",
    "plt.xlim([1901, 2012])\n",
    "\n",
    "plt.legend(loc='best')\n",
    "plt.grid(True)\n",
    "plt.show()"
   ]
  },
  {
   "cell_type": "markdown",
   "id": "5fdfd5b9",
   "metadata": {},
   "source": [
    "**Question  1**: From this plot, can you guess which country is placed more in the south and which one in the north? Check your guess by taking a look at a map of Europe.\n",
    "\n",
    "**Question  2**: Is there anything odd about this plot? \n",
    "\n",
    "Seems like there is a dip in minimal temperature for both countries in 1940. A quick search in the Internet reveals that this was a weather anomaly, where all European countries experienced abnormally cold winters.\n",
    "\n",
    "To save your figure, you can use `plt.savefig` function, which you have to insert before the last `plt.show()` line:"
   ]
  },
  {
   "cell_type": "code",
   "execution_count": null,
   "id": "0bdb19f5",
   "metadata": {},
   "outputs": [],
   "source": [
    "plt.savefig('temperatures_hrv_deu.pdf')"
   ]
  },
  {
   "cell_type": "markdown",
   "id": "636d0d05",
   "metadata": {},
   "source": [
    "To save in another format (e.g. png, jpg) just replace **.pdf** with the desired extension.\n",
    "\n",
    "Congratulations, you have completed the project! Feel free to explore more plotting examples in the [matplotlib gallery](http://matplotlib.org/gallery.html) and analyse more data. Exerises below demonstrate how to do a few more things with our data including saving results and writing Python code that downloads data for us."
   ]
  },
  {
   "cell_type": "markdown",
   "id": "d85bf197",
   "metadata": {},
   "source": [
    "## 2. Saving results\n",
    "\n",
    "In this exercise we will see how to use `np.savetxt` to save the data. For a country of your choice extract the lowest, highest and the average temperature (including the year when those occurred). Create two lists, one containing the text (e.g. `text=['Lowest temp', 'Highest temp', 'Average']`) and another containing the values (`values`). Make sure the lists have the same length and use `np.column_stack` to stack the lists together: \n",
    "```python\n",
    "table = np.column_stack((text, values))\n",
    "print(table)\n",
    "```\n",
    "To save this into a file in the current directory use:\n",
    "```python\n",
    "np.savetxt('stats.txt', table, fmt=\"%s\")\n",
    "```\n",
    "`np.savetxt` expect the file name as the first argument and the data as the second. `fmt` stands for format and indicates that we want to store strings (`%s`). After you have saved the file, open it in the editor to check what's inside!"
   ]
  },
  {
   "cell_type": "markdown",
   "id": "62b1a64c",
   "metadata": {},
   "source": [
    "## 3. More plotting\n",
    "\n",
    "Pick a couple of [country codes](http://unstats.un.org/unsd/tradekb/Knowledgebase/Country-Code) from countries you have never heard of before and make their temperature plots (like we did for Canada). For that, you need to download the data by changing the country code in this link:\n",
    "```\n",
    "http://climatedataapi.worldbank.org/climateweb/rest/v1/country/cru/tas/year/CAN.csv\n",
    "```\n",
    "Use a different color for every country, and make sure to include a legend so you can see which line represents which country. Can you try to guess their relative positions to each other on the Earth by looking at the plot?"
   ]
  },
  {
   "cell_type": "markdown",
   "id": "cd3b0222",
   "metadata": {},
   "source": [
    "## 4. Mini project: Getting the data from the Internet\n",
    "\n",
    "Instead of manually downloading the data sets, we can fetch them directly from the Internet in our Python code! This is a very common practice in programming and is possible because the source of our data (in our case the World's Bank website) provides information on how to access their data. This is called Application Programming Interface (API). \n",
    "\n",
    "Let's write a Python script that fetches historical temperature values for Canada. For that, we will need another new library called `requests`, which knows how to deal with the content of a website. For this part of the exercise, create a new script called **climate_internet.py** and import the requests package (and numpy which we are going to use later):"
   ]
  },
  {
   "cell_type": "code",
   "execution_count": null,
   "id": "f609761e",
   "metadata": {},
   "outputs": [],
   "source": [
    "import requests\n",
    "import numpy as np"
   ]
  },
  {
   "cell_type": "markdown",
   "id": "39da9371",
   "metadata": {},
   "source": [
    "The following line will fetch the temperatures for Canada:"
   ]
  },
  {
   "cell_type": "markdown",
   "id": "1f1b986d",
   "metadata": {},
   "source": [
    "To make things even more confusing, we can omit `0` if we mean \"from the beginning\":"
   ]
  },
  {
   "cell_type": "code",
   "execution_count": null,
   "id": "68c774dc",
   "metadata": {},
   "outputs": [],
   "source": [
    "data[:5, :]"
   ]
  },
  {
   "cell_type": "markdown",
   "id": "7e319191",
   "metadata": {},
   "source": [
    "**Exercise 3**: If you made a typo and wrote `data[5:, :]`, how many rows and columns would you have seen?"
   ]
  },
  {
   "cell_type": "markdown",
   "id": "644bd9c1",
   "metadata": {},
   "source": [
    "Let's say we wanted to get all the years. That means we want to fetch everything in the first column (the column with index 0):"
   ]
  },
  {
   "cell_type": "code",
   "execution_count": null,
   "id": "8ef063a5",
   "metadata": {},
   "outputs": [],
   "source": [
    "print(\"All years:\", data[:, 0])"
   ]
  },
  {
   "cell_type": "markdown",
   "id": "f177f291",
   "metadata": {},
   "source": [
    "Remember, the colon symbol **:** means \"give me everything starting from the first row until the end\"."
   ]
  },
  {
   "cell_type": "markdown",
   "id": "916a0518",
   "metadata": {},
   "source": [
    "We can store years in the separate variable, this will be useful later on:"
   ]
  },
  {
   "cell_type": "code",
   "execution_count": null,
   "id": "ff3fb320",
   "metadata": {},
   "outputs": [],
   "source": [
    "years = data[:, 0]"
   ]
  },
  {
   "cell_type": "markdown",
   "id": "fc70eb75",
   "metadata": {},
   "source": [
    "**Exercise**: How would you get the first five years (without temperatures)?"
   ]
  },
  {
   "cell_type": "markdown",
   "id": "fc96a875",
   "metadata": {},
   "source": [
    "### Moving around in NumPy arrays\n",
    "\n",
    "**Exercise 4**: How would you get the all the temperatures?\n",
    "\n",
    "**Exercise 5**: How would you get last five years? (Hint: use negative indexing)\n",
    "\n",
    "**Exercise 6**: How would you get the temperature in the last row?\n"
   ]
  },
  {
   "cell_type": "markdown",
   "id": "5cefb5c8",
   "metadata": {},
   "source": [
    "# 2. Data analysis\n",
    "\n",
    "Let's take a closer look at our data. One interesting thing we might want to look at is the highest temperature in the period from 1901-2012. "
   ]
  },
  {
   "cell_type": "markdown",
   "id": "9f445836",
   "metadata": {},
   "source": [
    "A very simple thing to do would be to use the `np.max` function with our array `data`:"
   ]
  },
  {
   "cell_type": "code",
   "execution_count": null,
   "id": "fe938ef6",
   "metadata": {},
   "outputs": [],
   "source": [
    "print(np.max(data))"
   ]
  },
  {
   "cell_type": "markdown",
   "id": "cb163c56",
   "metadata": {},
   "source": [
    "2012 seems too hot, if that was the highest temperature we probably wouldn't be here right now. It's more likely this refers to the year -- 2012 is the largest number in our whole array, and we need a way to tell NumPy to look for the highest values among temperatures (not years!). Since our temperatures are stored in the second column, let's first extract temperatures only:"
   ]
  },
  {
   "cell_type": "code",
   "execution_count": null,
   "id": "ae431f19",
   "metadata": {},
   "outputs": [],
   "source": [
    "temperatures = data[:, 1]"
   ]
  },
  {
   "cell_type": "code",
   "execution_count": null,
   "id": "38f509ff",
   "metadata": {},
   "outputs": [],
   "source": [
    "temperatures"
   ]
  },
  {
   "cell_type": "markdown",
   "id": "27744958",
   "metadata": {},
   "source": [
    "...and then ask for the minimum and the maximum:"
   ]
  },
  {
   "cell_type": "code",
   "execution_count": null,
   "id": "08411130",
   "metadata": {},
   "outputs": [],
   "source": [
    "max_temp = np.max(temperatures)\n",
    "min_temp = np.min(temperatures)"
   ]
  },
  {
   "cell_type": "code",
   "execution_count": null,
   "id": "b473686c",
   "metadata": {},
   "outputs": [],
   "source": [
    "print(\"Lowest average temperature in Canada over last 112 years was:\", min_temp)\n",
    "print(\"Highest average temperature in Canada over last 112 years was:\", max_temp)"
   ]
  },
  {
   "cell_type": "markdown",
   "id": "7d76bbbe",
   "metadata": {},
   "source": [
    "**Exercise**: How would you find out the number of elements in the `temperatures` array? "
   ]
  },
  {
   "cell_type": "markdown",
   "id": "33efbc05",
   "metadata": {},
   "source": [
    "It would be neat to know what were the years with the lowest and highest temperatures.\n",
    "\n",
    "To do this, we could again  print the array `data` on the screen and find these values in the second column and take a look at the year in the first column. This will take a long time since we might end up inspecting average temperatures for more than 100 years, and it's also tiring to stare at those numbers... instead, let's make Python do this for us. "
   ]
  },
  {
   "cell_type": "markdown",
   "id": "868d42ef",
   "metadata": {},
   "source": [
    "One way to start is to ask \"when were temperatures equal to the lowest temperature\". We could experiment with a for loop, and do something like this:"
   ]
  },
  {
   "cell_type": "code",
   "execution_count": null,
   "id": "861b5fc6",
   "metadata": {},
   "outputs": [],
   "source": [
    "for index in range(len(temperatures)):\n",
    "    if temperatures[index] == min_temp:\n",
    "        print(years[index])"
   ]
  },
  {
   "cell_type": "markdown",
   "id": "a5c032fb",
   "metadata": {},
   "source": [
    "But there is a better way to do this. We could directly compare every element in the array with a number:"
   ]
  },
  {
   "cell_type": "code",
   "execution_count": null,
   "id": "f81f445c",
   "metadata": {},
   "outputs": [],
   "source": [
    "temperatures == min_temp"
   ]
  },
  {
   "cell_type": "markdown",
   "id": "c26543c4",
   "metadata": {},
   "source": [
    "This line will compare every entry of temperatures with the `min_temp` value. It will print `False` when those are not equal, and `True` otherwise. Now, you could try counting where that `True` is... But chances of making an error are high and it's very inefficient. Instead we can use `np.where` to tell us where the `True` value is:"
   ]
  },
  {
   "cell_type": "markdown",
   "id": "b0c6af11",
   "metadata": {},
   "source": [
    "We can use NumPy to load the data we have downloaded. In the lecture, we did this:\n",
    "```python\n",
    "chocolate = np.loadtxt('chocolate.csv', delimiter=',', skiprows=1)\n",
    "```\n",
    "Where `chocloate.csv` was a file stored on our computer (reminder: `delimiter=','`) told NumPy that the data in the file is separated by commas). We skip the first row that contains the labels and just focus on loading the numerical data."
   ]
  },
  {
   "cell_type": "markdown",
   "id": "63af06ac",
   "metadata": {},
   "source": [
    "Now, let's load the temperature data as an array of numbers."
   ]
  },
  {
   "cell_type": "code",
   "execution_count": null,
   "id": "9b1ad264",
   "metadata": {},
   "outputs": [],
   "source": [
    "data = np.loadtxt('CAN.csv', delimiter=',', skiprows=1)"
   ]
  },
  {
   "cell_type": "markdown",
   "id": "2cc48b2f",
   "metadata": {},
   "source": [
    "Let's take a look at our data:"
   ]
  },
  {
   "cell_type": "code",
   "execution_count": null,
   "id": "ea3edc28",
   "metadata": {},
   "outputs": [],
   "source": [
    "print(data)"
   ]
  },
  {
   "cell_type": "markdown",
   "id": "4b282f30",
   "metadata": {},
   "source": [
    "We notice the first column corresponds to years, the second to temperature averages. To find out how many rows there are, we can look at the shape of that array:"
   ]
  },
  {
   "cell_type": "code",
   "execution_count": null,
   "id": "472e83ec",
   "metadata": {},
   "outputs": [],
   "source": [
    "print(data.shape)"
   ]
  },
  {
   "cell_type": "markdown",
   "id": "3842b247",
   "metadata": {},
   "source": [
    "The output of `data.shape` gives us two numbers, the first one is the number of rows and the second one is the number of columns in the array. Seems like we have yearly temperature averages for 112 years for Canada.\n",
    "\n",
    "The round brackets stand for a data type called tuple, which is very similar to a list. An important difference that elements in tuples can't be changed, we can just access these values.\n",
    "\n",
    "To access the first element and store it in a new variable:"
   ]
  },
  {
   "cell_type": "code",
   "execution_count": null,
   "id": "ab390acb",
   "metadata": {},
   "outputs": [],
   "source": [
    "nr_years = data.shape[0] # this gets the first element in the tuple\n",
    "\n",
    "print(\"Number of years in temperatures:\", nr_years)"
   ]
  },
  {
   "cell_type": "markdown",
   "id": "d4248844",
   "metadata": {},
   "source": [
    "Let's take a look at the first row, corresponding to the average for the year 1901:"
   ]
  },
  {
   "cell_type": "code",
   "execution_count": null,
   "id": "e187d07f",
   "metadata": {},
   "outputs": [],
   "source": [
    "print(\"The first row\", data[0])"
   ]
  },
  {
   "cell_type": "markdown",
   "id": "75da8305",
   "metadata": {},
   "source": [
    "To get the year in the first row we can specify the first column:"
   ]
  },
  {
   "cell_type": "code",
   "execution_count": null,
   "id": "3cad98f0",
   "metadata": {},
   "outputs": [],
   "source": [
    "print(\"The first year:\", data[0, 0])"
   ]
  },
  {
   "cell_type": "markdown",
   "id": "a68cb364",
   "metadata": {},
   "source": [
    "Remember that the first number in `data[0,0]` refers to the row number (here that is zero) and the second number refers to the column number (also zero). If we wanted to get the first five rows we could do it in the following way:"
   ]
  },
  {
   "cell_type": "code",
   "execution_count": null,
   "id": "aa5b5b39",
   "metadata": {},
   "outputs": [],
   "source": [
    "data[0:5, 0:2] "
   ]
  },
  {
   "cell_type": "markdown",
   "id": "2a2338e9",
   "metadata": {},
   "source": [
    "The first `0:5` index can be read as \"everything starting from beginning until the row 5\", and the second `0:2` index as \"everything starting from beginning until the column 2\"."
   ]
  },
  {
   "cell_type": "markdown",
   "id": "22dede76",
   "metadata": {},
   "source": [
    "Notice that our array has two columns, so we could also say to Numpy \"give me all columns\" instead of \"give me the column 0 and the column 1\". Because we often want all columns or all rows, instead of specifying their number, we can use the colon symbol `:` that stands for \"all columns\" (if used as the second index) or \"all rows\" (if used as the first index):"
   ]
  },
  {
   "cell_type": "code",
   "execution_count": null,
   "id": "7ebd927f",
   "metadata": {},
   "outputs": [],
   "source": [
    "data[0:5, :]"
   ]
  },
  {
   "cell_type": "markdown",
   "id": "8fa9bb0f",
   "metadata": {},
   "source": [
    "**Exercise 1**: How would you get the temperature for the year 1901?\n",
    "\n",
    "**Exercise 2**: What does the dot mean after each year, e.g., `1901.`?"
   ]
  },
  {
   "cell_type": "code",
   "execution_count": null,
   "id": "83d2c13d",
   "metadata": {},
   "outputs": [],
   "source": [
    "min_year = np.where(temperatures == min_temp)"
   ]
  },
  {
   "cell_type": "markdown",
   "id": "ed3b7e0c",
   "metadata": {},
   "source": [
    "`np.where` will happily accept that array of booleans and look for the one where there is True. \n",
    " \n",
    "Let's take a look at the output stored in `min_year`:"
   ]
  },
  {
   "cell_type": "code",
   "execution_count": null,
   "id": "9608e389",
   "metadata": {},
   "outputs": [],
   "source": [
    "print(min_year)\n",
    "type(min_year)"
   ]
  },
  {
   "cell_type": "markdown",
   "id": "a23d6c1f",
   "metadata": {},
   "source": [
    "Ok, so we see a number there which looks like it could be the index of a row that contains the lowest temperature and the corresponding year. But this number is wrapped in all sorts of symbols: there are parentheses `()` and the `array()`. Let's try to understand what this means: the outermost parentheses stand for a tuple, whose elements can be accessed like the elements of a list. This tuple contains only one element (`array([71])`) as after the comma `,` there is nothing.\n",
    "\n",
    "So let's get that first element:"
   ]
  },
  {
   "cell_type": "code",
   "execution_count": null,
   "id": "1f7e8a17",
   "metadata": {},
   "outputs": [],
   "source": [
    "min_year_index = min_year[0]\n",
    "print(min_year_index)"
   ]
  },
  {
   "cell_type": "markdown",
   "id": "2ed05932",
   "metadata": {},
   "source": [
    "But the `[]` brackets in the output say we got a list (or maybe a numpy array, how to check this?), so again we need to access the first element:"
   ]
  },
  {
   "cell_type": "code",
   "execution_count": null,
   "id": "5a2728cc",
   "metadata": {},
   "outputs": [],
   "source": [
    "min_year_index = min_year_index[0]\n",
    "print(min_year_index)"
   ]
  },
  {
   "cell_type": "markdown",
   "id": "116e7cf0",
   "metadata": {},
   "source": [
    "Finally we have the index of a row which contains the year with the lowest temperature. It's the row 71 and we can fetch that element in our list of years:"
   ]
  },
  {
   "cell_type": "code",
   "execution_count": null,
   "id": "df829aab",
   "metadata": {},
   "outputs": [],
   "source": [
    "years[min_year_index]"
   ]
  },
  {
   "cell_type": "markdown",
   "id": "a3dcc502",
   "metadata": {},
   "source": [
    "The previous example with `np.where` tends to be confusing, so let's take a look at another example. Can you explain to yourself/your neighbor what would values in `hot_in_canada` mean?"
   ]
  },
  {
   "cell_type": "code",
   "execution_count": null,
   "id": "2f90ee8b",
   "metadata": {},
   "outputs": [],
   "source": [
    "hot_in_canada = np.where(temperatures > -6)\n",
    "hot_in_canada"
   ]
  },
  {
   "cell_type": "markdown",
   "id": "b85c0c01",
   "metadata": {},
   "source": [
    "Finally, how can we find out how many years observed temperature averages above -6 degrees?"
   ]
  },
  {
   "cell_type": "markdown",
   "id": "a96271cb",
   "metadata": {},
   "source": [
    "**Exercise 1**: Instead of getting the index in two lines:\n",
    "```\n",
    "min_year_index = min_year[0]\n",
    "min_year_index = min_year_index[0]\n",
    "```\n",
    "how would you get the same index in just one line? "
   ]
  },
  {
   "cell_type": "markdown",
   "id": "844ea4dc",
   "metadata": {},
   "source": [
    "**Exercise 2**: Get the row containing the year with the highest average temperatures!\n",
    "\n",
    "**Exercise 3**: Get the average temperature for the whole period! (Hint: `np.mean()`)"
   ]
  },
  {
   "cell_type": "markdown",
   "id": "33d930d2",
   "metadata": {},
   "source": [
    "Now we know how to get bits and pieces from an array of numbers. Often when dealing with numerical data, general trends are more apparent if we visualize the data. So let's take a closer look at what happened in the last 100 years with those temperatures!"
   ]
  },
  {
   "cell_type": "markdown",
   "id": "a575f8cd",
   "metadata": {},
   "source": [
    "# 3. Plotting the data"
   ]
  },
  {
   "cell_type": "markdown",
   "id": "a295018b",
   "metadata": {},
   "source": [
    "Plotting the data will allow us to see any trends in the temperature change over years. Did the average temperature decrease or increase, or maybe stayed the same? \n",
    "\n",
    "For plotting we are again going to use the `matplotlib` library, like we have done in the lecture.\n",
    "First, let's create a script called `temperature_plots.py` and import the necessary tools:"
   ]
  },
  {
   "cell_type": "code",
   "execution_count": null,
   "id": "767f463e",
   "metadata": {},
   "outputs": [],
   "source": [
    "import matplotlib.pyplot as plt\n",
    "import numpy as np"
   ]
  },
  {
   "cell_type": "markdown",
   "id": "2e8d152e",
   "metadata": {},
   "source": [
    "Let's make a simple plot of temperature averages over all 111 years, remember to put your years on the x-axis (first parameter) and temperature values (second parameter) on the y-axis:"
   ]
  },
  {
   "cell_type": "code",
   "execution_count": null,
   "id": "8b039a26",
   "metadata": {},
   "outputs": [],
   "source": [
    "plt.figure()\n",
    "plt.plot(years, temperatures)\n",
    "plt.show()"
   ]
  },
  {
   "cell_type": "markdown",
   "id": "7f1ee7b9",
   "metadata": {},
   "source": [
    "There are certain things we can do to make this plot look more informative. First, let's put labels and the title:"
   ]
  },
  {
   "cell_type": "markdown",
   "id": "327a994c",
   "metadata": {},
   "source": [
    "The first few lines should look something like this:\n",
    "```\n",
    "year,data\n",
    "1901,-7.67241907119751\n",
    "1902,-7.862711429595947\n",
    "1903,-7.910782814025879\n",
    "1904,-8.155729293823242\n",
    "1905,-7.547311305999756\n",
    "\n",
    "```"
   ]
  },
  {
   "cell_type": "markdown",
   "id": "a3101eab",
   "metadata": {},
   "source": [
    "## 2. Converting the data into a NumPy array "
   ]
  },
  {
   "cell_type": "markdown",
   "id": "81c0d6b0",
   "metadata": {},
   "source": [
    "For this exercise we will use the NumPy package. Import the package by typing the following line in your **climate.py** script:"
   ]
  },
  {
   "cell_type": "code",
   "execution_count": null,
   "id": "de8d5055",
   "metadata": {},
   "outputs": [],
   "source": [
    "import numpy as np"
   ]
  },
  {
   "cell_type": "markdown",
   "id": "67a102b9",
   "metadata": {},
   "source": [
    "#  Data Analysis Project: Analyzing climate statistics\n",
    "### Programming Workshop for Beginners\n",
    "### University of Waterloo, June 2018\n",
    "author: Ivana Kajić \n"
   ]
  },
  {
   "cell_type": "markdown",
   "id": "bd4337f7",
   "metadata": {},
   "source": [
    "## Introduction"
   ]
  },
  {
   "cell_type": "markdown",
   "id": "a39d6ef9",
   "metadata": {},
   "source": [
    "This project is a continuation of the lecture [Python Workshop for Beginners: Data Analysis](http://uwpyb.github.io/materials/lectures/day_2.slides). \n",
    "In this project we will:\n",
    "\n",
    "1. Load the temperature data into the memory of our computer\n",
    "\n",
    "2. Analyze the data\n",
    "\n",
    "3. Make nice plots that allow us to answer some questions about the data\n",
    "\n",
    "The project is meant to be done at your own, individual pace. We want to encourage you to experiment with the code and try out different things. Trying out things also means breaking them! So, don't be afraid to break pieces of code and get errors. If you don't understand something or want to know more about some part of the code, ping a mentor and ask for an explanation. Sometimes, there are many different ways to do the same thing and we can help you think of alternative solutions.\n"
   ]
  },
  {
   "cell_type": "markdown",
   "id": "66484833",
   "metadata": {},
   "source": [
    "## Workflow\n",
    "\n",
    "Create a script **climate.py** in your **workshop** folder on your Desktop. Write your code there and every time you add new lines run the script in the IPython console:\n",
    "```\n",
    "run climate.py\n",
    "```\n",
    "Make sure that you are running your commands in IPython from the directory where your file is located, otherwise IPython will not be able to find that file. To go to the directory where the file is located type following lines in IPython:\n",
    "```\n",
    "cd\n",
    "cd Desktop\n",
    "cd workshop\n",
    "```"
   ]
  },
  {
   "cell_type": "markdown",
   "id": "44552618",
   "metadata": {},
   "source": [
    "## Data"
   ]
  },
  {
   "cell_type": "markdown",
   "id": "2d6db2c1",
   "metadata": {},
   "source": [
    "We will be accessing the temperature data provided by the [World Bank’s Climate Change Knowledge Portal](http://data.worldbank.org/topic/climate-change). The portal provides historical precipitation and temperature data for a period of time starting from 1901 to 2012 for every country in the world. \n",
    "\n",
    "We will use yearly averages for Canada for this period which can be downloaded here:\n",
    "\n",
    "Temperature: http://climatedataapi.worldbank.org/climateweb/rest/v1/country/cru/tas/year/CAN.csv\n",
    "\n",
    "Go to the website, right click (**Save page as** or **Save as**) and save that file in the **workshop** folder. After you have downloaded the file, go to that folder and open the file in your editor (e.g. Sublime Text or Notepad) to take a look at it."
   ]
  }
 ],
 "metadata": {},
 "nbformat": 4,
 "nbformat_minor": 5
}
