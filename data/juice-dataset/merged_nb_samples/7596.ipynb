{
 "cells": [
  {
   "cell_type": "code",
   "execution_count": null,
   "id": "57591a99",
   "metadata": {},
   "outputs": [],
   "source": [
    "import pandas as pd\n",
    "import matplotlib.pyplot as plt\n",
    "import seaborn as sns\n",
    "import numpy as np\n",
    "import datetime as dt\n",
    "import pylab as pl\n",
    "\n",
    "from sklearn.cross_validation import cross_val_score \n",
    "from sklearn.cross_validation import KFold\n",
    "import sklearn.preprocessing as pp\n",
    "from sklearn.cross_decomposition import PLSRegression\n",
    "from sklearn.linear_model import Lasso\n",
    "from sklearn.decomposition import RandomizedPCA\n",
    "from sklearn.linear_model import Ridge\n",
    "from sklearn import metrics\n",
    "from sklearn import cross_validation\n",
    "from sklearn.datasets import load_digits\n",
    "from sklearn.learning_curve import learning_curve\n",
    "import sklearn.decomposition\n",
    "import sklearn.ensemble as sk\n",
    "from sklearn import linear_model\n",
    "from sklearn.svm import SVR\n",
    "from sklearn.grid_search import GridSearchCV\n",
    "\n",
    "import random\n",
    "import sys\n",
    "from scipy import stats\n",
    "% matplotlib inline\n",
    "%load_ext autoreload\n",
    "%autoreload 2\n",
    "from regression_functions import *\n",
    "from reg_plots import *\n"
   ]
  },
  {
   "cell_type": "markdown",
   "id": "948fcb0e",
   "metadata": {},
   "source": [
    "#Import Data"
   ]
  },
  {
   "cell_type": "code",
   "execution_count": null,
   "id": "25b5b1a2",
   "metadata": {},
   "outputs": [],
   "source": [
    "pod_number = 'F9'"
   ]
  },
  {
   "cell_type": "code",
   "execution_count": null,
   "id": "7cbb4ef6",
   "metadata": {},
   "outputs": [],
   "source": [
    "df_all = pd.io.parsers.read_csv(filepath_or_buffer = 'data/F9_all.csv', parse_dates = [0], index_col = 0)"
   ]
  },
  {
   "cell_type": "markdown",
   "id": "94cf4472",
   "metadata": {},
   "source": [
    "##Declare whether to process raw or filtered data."
   ]
  },
  {
   "cell_type": "code",
   "execution_count": null,
   "id": "2f9d39f8",
   "metadata": {},
   "outputs": [],
   "source": [
    "which_data = 0    #1 = filtered, 0 = raw\n",
    "ref_column, leave_out_pod, pod_ozone = declare_filt_or_raw_dataset(which_data)"
   ]
  },
  {
   "cell_type": "markdown",
   "id": "5851d8b9",
   "metadata": {},
   "source": [
    "####Call the scaling function and create a dataframe with scaled data."
   ]
  },
  {
   "cell_type": "code",
   "execution_count": null,
   "id": "31fe83e2",
   "metadata": {},
   "outputs": [],
   "source": [
    "df_scaled, features, minmax_scale_fit, standard_scale_fit = scale_features_and_create_day_column(df_all, ref_column)\n",
    "len(df_scaled)"
   ]
  },
  {
   "cell_type": "markdown",
   "id": "c0e55858",
   "metadata": {},
   "source": [
    "###Declare whether you'd like to use holdout dates from a previous run."
   ]
  },
  {
   "cell_type": "markdown",
   "id": "35d6995f",
   "metadata": {},
   "source": [
    "The MSE is high for the cross-validation set in this plot, and the training and cross-validation scores come together in this plot tells us that we have resonably high bias. Create more features and add polynomial effects to reduce bias. "
   ]
  },
  {
   "cell_type": "markdown",
   "id": "bbe3abc7",
   "metadata": {},
   "source": [
    "###Plot the residuals and comparison curves."
   ]
  },
  {
   "cell_type": "code",
   "execution_count": null,
   "id": "8be4b8e4",
   "metadata": {},
   "outputs": [],
   "source": [
    "num_good_feat = len(base_features)\n",
    "fitted_vs_ref_plot(df_cv_lin_base, num_good_feat, ref_column)\n",
    "plot_fitted_and_ref_vs_time(df_cv_lin_base, pod_number, 1, ref_column)\n",
    "plot_fitted_and_ref_vs_time(df_cv_lin_base, pod_number, 2, ref_column)\n",
    "plot_fitted_and_ref_vs_time(df_cv_lin_base, pod_number, 3, ref_column)\n",
    "resid = plot_resid_vs_conc(df_cv_lin_base, ref_column)"
   ]
  },
  {
   "cell_type": "markdown",
   "id": "1ee1b272",
   "metadata": {},
   "source": [
    "####Plot the graphs for the holdout data."
   ]
  },
  {
   "cell_type": "code",
   "execution_count": null,
   "id": "4f986d0f",
   "metadata": {},
   "outputs": [],
   "source": [
    "num_good_feat = len(base_features)\n",
    "fitted_vs_ref_plot(df_H_lin_base, num_good_feat, ref_column)\n",
    "plot_fitted_and_ref_vs_time(df_H_lin_base, pod_number, 1, ref_column)\n",
    "plot_fitted_and_ref_vs_time(df_H_lin_base, pod_number, 2, ref_column)\n",
    "plot_fitted_and_ref_vs_time(df_H_lin_base, pod_number, 3, ref_column)\n",
    "resid = plot_resid_vs_conc(df_H_lin_base, ref_column)"
   ]
  },
  {
   "cell_type": "markdown",
   "id": "ae013975",
   "metadata": {},
   "source": [
    "#Linear Reg, Base, Low Ozone"
   ]
  },
  {
   "cell_type": "code",
   "execution_count": null,
   "id": "9addbe27",
   "metadata": {},
   "outputs": [],
   "source": [
    "#Define the model.\n",
    "lin_regr = linear_model.LinearRegression()\n",
    "#find the MSE\n",
    "MSE_CV_low, MSE_T_low, MSE_H_low, high_MSE_cv_low, X_pred_cv_base_low, y_cv_low, df_cv_lin_base_low, df_H_lin_base_low = cross_validation_by_day(lin_regr, base_features, df_tr[df_tr['O3_ppb'] < 50], df_hold[df_hold['O3_ppb'] < 50], days_tr, ref_column, cutoff_value)"
   ]
  },
  {
   "cell_type": "code",
   "execution_count": null,
   "id": "24f8599b",
   "metadata": {},
   "outputs": [],
   "source": [
    "num_good_feat = len(base_features)\n",
    "fitted_vs_ref_plot(df_cv_lin_base_low, num_good_feat, ref_column)\n",
    "plot_fitted_and_ref_vs_time(df_cv_lin_base_low, pod_number, 1, ref_column)\n",
    "plot_fitted_and_ref_vs_time(df_cv_lin_base_low, pod_number, 2, ref_column)\n",
    "plot_fitted_and_ref_vs_time(df_cv_lin_base_low, pod_number, 3, ref_column)\n",
    "resid = plot_resid_vs_conc(df_cv_lin_base_low, ref_column)"
   ]
  },
  {
   "cell_type": "markdown",
   "id": "e2e31f34",
   "metadata": {},
   "source": [
    "#Linear Reg, Base, High Ozone"
   ]
  },
  {
   "cell_type": "code",
   "execution_count": null,
   "id": "df696070",
   "metadata": {},
   "outputs": [],
   "source": [
    "#Define the model.\n",
    "lin_regr = linear_model.LinearRegression()\n",
    "#find the MSE\n",
    "MSE_CV_high, MSE_T_high, MSE_H_high, high_MSE_cv_high, X_pred_cv_base_high, y_cv_high, df_cv_lin_base_high, df_H_lin_base_high = cross_validation_by_day(lin_regr, base_features, df_tr[df_tr['O3_ppb'] > 49], df_hold[df_hold['O3_ppb'] > 49], days_tr, ref_column, cutoff_value)"
   ]
  },
  {
   "cell_type": "code",
   "execution_count": null,
   "id": "c5272da1",
   "metadata": {},
   "outputs": [],
   "source": [
    "num_good_feat = len(base_features)\n",
    "fitted_vs_ref_plot(df_cv_lin_base_high, num_good_feat, ref_column)\n",
    "plot_fitted_and_ref_vs_time(df_cv_lin_base_high, pod_number, 1, ref_column)\n",
    "plot_fitted_and_ref_vs_time(df_cv_lin_base_high, pod_number, 2, ref_column)\n",
    "plot_fitted_and_ref_vs_time(df_cv_lin_base_high, pod_number, 3, ref_column)\n",
    "resid = plot_resid_vs_conc(df_cv_lin_base_high, ref_column)"
   ]
  },
  {
   "cell_type": "markdown",
   "id": "652b341d",
   "metadata": {},
   "source": [
    "##Linear Regression, High & Low Combined (Cross Validation)"
   ]
  },
  {
   "cell_type": "code",
   "execution_count": null,
   "id": "b88e8434",
   "metadata": {},
   "outputs": [],
   "source": [
    "plot_error_vs_features(score, RMSE, [0,10], [1,20])"
   ]
  },
  {
   "cell_type": "markdown",
   "id": "b46584b1",
   "metadata": {},
   "source": [
    "#Check Residuals"
   ]
  },
  {
   "cell_type": "markdown",
   "id": "01b90948",
   "metadata": {},
   "source": [
    "###Plot cross-validation fitted data versus reference data, and choose number of features."
   ]
  },
  {
   "cell_type": "code",
   "execution_count": null,
   "id": "04923020",
   "metadata": {},
   "outputs": [],
   "source": [
    "i = 10\n",
    "while i < 20:\n",
    "    num_good_feat = i\n",
    "    df_cv_1, df_H_1 = find_fitted_cv_values_for_best_features(df_tr, df_hold, fs_features, num_good_feat, linear_model.LinearRegression(), chunks_tr, ref_column)\n",
    "    fitted_vs_ref_plot(df_cv_1, i, ref_column) \n",
    "    plot_learning_curve(lin_regr, \"Learning Curve- Number of features = \" + str(i), df_tr[fs_features[:i]].values, df_tr[ref_column].values, (0,10), 5, np.array([0.1, 0.3, 0.5, 0.7, 0.8, 0.85, 0.9, 0.95,0.97, 1.0]))\n",
    "    i += 1"
   ]
  },
  {
   "cell_type": "code",
   "execution_count": null,
   "id": "03f8d206",
   "metadata": {},
   "outputs": [],
   "source": [
    "fs_features = ['ln_o3_rh_int_lead_5',\n",
    " 'temp_rh_int_lead_90',\n",
    " '03_mult_rh',\n",
    " 'ln_temp_mult_ln_rh',\n",
    " '03_sq_mult_rh_sq',\n",
    " 'ln_03_mult_ln_rh',\n",
    " '03_sq_mult_rh_sq_&_temp_sq',\n",
    " 'temp_rh_int_lag_60',\n",
    " 'days from start',\n",
    " 'ln_temp_rh_slope_lag_90',\n",
    " 'o3_rh_int_lead_5',\n",
    " 'o3_rh_int_lag_5',\n",
    " 'O3_cu',\n",
    " 'Rh_slope_lead_45',\n",
    " 'e2v03_slope_lag_45',\n",
    " 'ln_o3_temp_slope_lag_5']"
   ]
  },
  {
   "cell_type": "markdown",
   "id": "a914dd18",
   "metadata": {},
   "source": [
    "###Enter the chosen number of features, and perform a linear regression."
   ]
  },
  {
   "cell_type": "code",
   "execution_count": null,
   "id": "4f0c3861",
   "metadata": {},
   "outputs": [],
   "source": [
    "num_good_feat = 16\n",
    "best_features = fs_features[:num_good_feat]\n",
    "MSE_CV, MSE_T, MSE_H, high_MSE_cv, X_pred_cv_best, y_cv_best, df_cv_lin_best, df_H_lin_best = cross_validation_by_day(lin_regr, best_features, df_tr, df_hold, days_tr, ref_column, cutoff_value)"
   ]
  },
  {
   "cell_type": "markdown",
   "id": "ea5fe05b",
   "metadata": {},
   "source": [
    "####Print Best Features"
   ]
  },
  {
   "cell_type": "code",
   "execution_count": null,
   "id": "e29ed10a",
   "metadata": {},
   "outputs": [],
   "source": [
    "best_features"
   ]
  },
  {
   "cell_type": "markdown",
   "id": "30105684",
   "metadata": {},
   "source": [
    "### Plot the cross-validation data and residuals below."
   ]
  },
  {
   "cell_type": "code",
   "execution_count": null,
   "id": "eca2e30e",
   "metadata": {},
   "outputs": [],
   "source": [
    "df_lin_regr_best_feat_cv, df_lin_regr_best_feat_H  = find_fitted_cv_values_for_best_features(df_tr, df_hold, fs_features, num_good_feat, linear_model.LinearRegression(), chunks_tr, ref_column)\n",
    "fitted_vs_ref_plot(df_lin_regr_best_feat_cv, num_good_feat, ref_column)\n",
    "plot_fitted_and_ref_vs_time(df_lin_regr_best_feat_cv, pod_number, 1, ref_column)\n",
    "plot_fitted_and_ref_vs_time(df_lin_regr_best_feat_cv, pod_number, 2, ref_column)\n",
    "plot_fitted_and_ref_vs_time(df_lin_regr_best_feat_cv, pod_number, 3, ref_column)\n",
    "resid = plot_resid_vs_conc(df_lin_regr_best_feat_cv, ref_column)"
   ]
  },
  {
   "cell_type": "markdown",
   "id": "cfbe6523",
   "metadata": {},
   "source": [
    "####Make the same plots for the holdout data"
   ]
  },
  {
   "cell_type": "code",
   "execution_count": null,
   "id": "07519812",
   "metadata": {},
   "outputs": [],
   "source": [
    "cust_mse_fact = 0.5"
   ]
  },
  {
   "cell_type": "markdown",
   "id": "ae9967df",
   "metadata": {},
   "source": [
    "#Linear Regression with Base Features"
   ]
  },
  {
   "cell_type": "code",
   "execution_count": null,
   "id": "574394b5",
   "metadata": {},
   "outputs": [],
   "source": [
    "base_features = [pod_ozone,'Temp','Rh']"
   ]
  },
  {
   "cell_type": "code",
   "execution_count": null,
   "id": "ed5dab98",
   "metadata": {},
   "outputs": [],
   "source": [
    "f, ax = plt.subplots(figsize=(9, 9))\n",
    "sns.corrplot(df_tr[[ref_column] + base_features], annot=True, sig_stars=False,\n",
    "             diag_names=False, ax=ax)"
   ]
  },
  {
   "cell_type": "code",
   "execution_count": null,
   "id": "a77f59f7",
   "metadata": {},
   "outputs": [],
   "source": [
    "#Define the model.\n",
    "lin_regr = linear_model.LinearRegression()\n",
    "#find the MSE\n",
    "MSE_CV, MSE_T, MSE_H, high_MSE_cv, X_pred_cv_base, y_cv, df_cv_lin_base, df_H_lin_base = cross_validation_by_day(lin_regr, base_features, df_tr, df_hold, days_tr, ref_column, cutoff_value)"
   ]
  },
  {
   "cell_type": "code",
   "execution_count": null,
   "id": "0918c571",
   "metadata": {},
   "outputs": [],
   "source": [
    "plot_hist(X_pred_cv_base, y_cv, 'Predicted Ozone Concentration')\n",
    "plot_hist(y_cv, X_pred_cv_base, 'Reference Ozone Concentration')"
   ]
  },
  {
   "cell_type": "markdown",
   "id": "a029aab8",
   "metadata": {},
   "source": [
    "####Plot the learning curve for a linear regression with the base features."
   ]
  },
  {
   "cell_type": "code",
   "execution_count": null,
   "id": "dda081b9",
   "metadata": {},
   "outputs": [],
   "source": [
    "plt = plot_learning_curve(lin_regr, \"Learning Curve (Linear Regression- Base Features)\", df_tr[base_features].values, df_tr[ref_column].values, (0,14), days_tr, np.array([ 0.1, 0.2, 0.3, 0.4, 0.5, 0.6, 0.7, 0.8, 0.85, 0.9, 0.95, 1.0]))"
   ]
  },
  {
   "cell_type": "markdown",
   "id": "c4d121c4",
   "metadata": {},
   "source": [
    "####Use the best lambda value found above to find holdout values."
   ]
  },
  {
   "cell_type": "code",
   "execution_count": null,
   "id": "e587f653",
   "metadata": {},
   "outputs": [],
   "source": [
    "MSE_CV_lasso, MSE_T_lasso, MSE_H_lasso, high_MSE_cv_lasso, X_pred_cv_lasso, y_cv_lasso, df_cv_lasso, df_H_lasso = cross_validation_by_day(Lasso(alpha = best_lambda_lasso), all_features, df_tr, df_hold, days_tr, ref_column, cutoff_value)"
   ]
  },
  {
   "cell_type": "code",
   "execution_count": null,
   "id": "8dc8b6d6",
   "metadata": {},
   "outputs": [],
   "source": [
    "fitted_vs_ref_plot(df_cv_lasso, num_good_feat_ridge, ref_column)\n",
    "plot_fitted_and_ref_vs_time(df_cv_lasso, pod_number, 1, ref_column)\n",
    "plot_fitted_and_ref_vs_time(df_cv_lasso, pod_number, 2, ref_column)\n",
    "resid = plot_resid_vs_conc(df_cv_lasso, ref_column)"
   ]
  },
  {
   "cell_type": "markdown",
   "id": "a6818842",
   "metadata": {},
   "source": [
    "#Lasso- Best Features"
   ]
  },
  {
   "cell_type": "code",
   "execution_count": null,
   "id": "a2899ecc",
   "metadata": {},
   "outputs": [],
   "source": [
    "best_lambda_lasso_best, lambda_lasso_best, coefs_lasso_best, mean_score_lambda_lasso_best = find_best_lambda(Lasso, best_features, df_fits_best, ref_column, 'custom_mse_scoring_function', days_tr, X, y, 0.0000000000001, 100, 3, cust_mse_fact, cutoff_value)"
   ]
  },
  {
   "cell_type": "code",
   "execution_count": null,
   "id": "32c514ed",
   "metadata": {},
   "outputs": [],
   "source": [
    "plot_lambda(lambda_lasso_best, coefs_lasso_best, mean_score_lambda_lasso_best)"
   ]
  },
  {
   "cell_type": "code",
   "execution_count": null,
   "id": "11e8b566",
   "metadata": {},
   "outputs": [],
   "source": [
    "MSE_CV_lasso_best, MSE_T_lasso_best, MSE_H_lasso_best, high_MSE_cv_lasso_best, X_pred_cv_lasso_best, y_cv_lasso, df_cv_lasso_best, df_H_lasso_best = cross_validation_by_day(Lasso(alpha = best_lambda_lasso), best_features, df_tr, df_hold, days_tr, ref_column, cutoff_value)"
   ]
  },
  {
   "cell_type": "code",
   "execution_count": null,
   "id": "9c958a4e",
   "metadata": {},
   "outputs": [],
   "source": [
    "fitted_vs_ref_plot(df_cv_lasso_best, num_good_feat_ridge, ref_column)\n",
    "plot_fitted_and_ref_vs_time(df_cv_lasso_best, pod_number, 1, ref_column)\n",
    "plot_fitted_and_ref_vs_time(df_cv_lasso_best, pod_number, 2, ref_column)\n",
    "resid = plot_resid_vs_conc(df_cv_lasso_best, ref_column)"
   ]
  },
  {
   "cell_type": "markdown",
   "id": "c429b075",
   "metadata": {},
   "source": [
    "#Support Vector Machine - Linear"
   ]
  },
  {
   "cell_type": "code",
   "execution_count": null,
   "id": "2356b17d",
   "metadata": {},
   "outputs": [],
   "source": [
    "RMSE_CV_day, df_svm_fit, df_svm_H = fit_svm_and_find_MSE(best_features, df_tr, days_tr, ref_column, cutoff_value, df_hold, cust_mse_fact)  "
   ]
  },
  {
   "cell_type": "code",
   "execution_count": null,
   "id": "b76a1e39",
   "metadata": {},
   "outputs": [],
   "source": [
    "fitted_vs_ref_plot(df_svm_fit, num_good_feat_ridge, ref_column)\n",
    "plot_fitted_and_ref_vs_time(df_svm_fit, pod_number, 1, ref_column)\n",
    "plot_fitted_and_ref_vs_time(df_svm_fit, pod_number, 2, ref_column)\n",
    "resid = plot_resid_vs_conc(df_svm_fit, ref_column)"
   ]
  },
  {
   "cell_type": "markdown",
   "id": "30e87a47",
   "metadata": {},
   "source": [
    "###SVM- best feat, holdout"
   ]
  },
  {
   "cell_type": "markdown",
   "id": "c11a4d48",
   "metadata": {},
   "source": [
    "#Lasso- All Features"
   ]
  },
  {
   "cell_type": "code",
   "execution_count": null,
   "id": "af3083fc",
   "metadata": {},
   "outputs": [],
   "source": [
    "best_lambda_lasso, lambda_lasso, coefs_lasso, mean_score_lambda_lasso = find_best_lambda(Lasso, fs_features[:num_good_feat_ridge], df_fits, ref_column, 'custom_mse_scoring_function', days_tr, X, y, 0.000001, 100, 3, cust_mse_fact, cutoff_value)"
   ]
  },
  {
   "cell_type": "code",
   "execution_count": null,
   "id": "51e3f13d",
   "metadata": {},
   "outputs": [],
   "source": [
    "plot_lambda(lambda_lasso, coefs_lasso, mean_score_lambda_lasso)"
   ]
  }
 ],
 "metadata": {},
 "nbformat": 4,
 "nbformat_minor": 5
}
