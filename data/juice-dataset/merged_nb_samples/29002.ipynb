{
 "cells": [
  {
   "cell_type": "markdown",
   "id": "4840c176",
   "metadata": {},
   "source": [
    "# Analysis\n",
    "\n",
    "**Problem Statement:**\n",
    "\n",
    "There are so many apps on app store, some paid some free; I want to validate few of these scenarios:\n",
    " - What makes an app successfull, what is that metric\n",
    " - What other metrics are available?\n",
    " - Is there correlation between this success metric and other metrics\n",
    " - What does the clusters look like if we try to cluster them\n",
    " \n",
    "This might sound vague at the moment but essentially I want to analyse apps in app store;\n",
    "\n",
    "### Task 1: In this notebook we would essentially be dealing with pre processing of the data to make it more convenient to use;"
   ]
  },
  {
   "cell_type": "code",
   "execution_count": null,
   "id": "789a8a2f",
   "metadata": {},
   "outputs": [],
   "source": [
    "import json\n",
    "import pandas as pd\n",
    "import numpy as np\n",
    "import matplotlib.pyplot as plt\n",
    "import seaborn as sns\n",
    "%matplotlib inline\n",
    "\n",
    "sns.set_style(\"whitegrid\")\n",
    "sns.set_palette(\"Set1\", 8, .75)"
   ]
  },
  {
   "cell_type": "code",
   "execution_count": null,
   "id": "d6c83a8b",
   "metadata": {},
   "outputs": [],
   "source": [
    "df = pd.read_csv(\"../dataset/data.csv\")"
   ]
  },
  {
   "cell_type": "code",
   "execution_count": null,
   "id": "15e0b809",
   "metadata": {},
   "outputs": [],
   "source": [
    "# list of all columns\n",
    "df.columns"
   ]
  },
  {
   "cell_type": "code",
   "execution_count": null,
   "id": "7e46e977",
   "metadata": {},
   "outputs": [],
   "source": [
    "print (\"No of rows in dataset: %d, No of columns: %d\" %  (df.shape[0], df.shape[1]))"
   ]
  },
  {
   "cell_type": "markdown",
   "id": "27a49ab1",
   "metadata": {},
   "source": [
    "**Note that:** `trackName` property is the name of application and `bundleId` is the unique name; we can use these bost as unique properties;\n"
   ]
  },
  {
   "cell_type": "code",
   "execution_count": null,
   "id": "85b82ba8",
   "metadata": {},
   "outputs": [],
   "source": [
    "# let's define a new dataframe where we will store more processed information\n",
    "data = pd.DataFrame()\n",
    "data['bundleId'] = df['bundleId']\n",
    "data['trackName'] = df['trackName']"
   ]
  },
  {
   "cell_type": "markdown",
   "id": "c325dd44",
   "metadata": {},
   "source": [
    "## Pre processing\n",
    "\n",
    "### (1) Kind"
   ]
  },
  {
   "cell_type": "code",
   "execution_count": null,
   "id": "a8a0b509",
   "metadata": {},
   "outputs": [],
   "source": [
    "df.kind.value_counts()"
   ]
  },
  {
   "cell_type": "markdown",
   "id": "eb585d9a",
   "metadata": {},
   "source": [
    "**Summary**: all data in the list is of same kind hence we will ignore this property\n",
    "### (2) features"
   ]
  },
  {
   "cell_type": "code",
   "execution_count": null,
   "id": "4b61aed4",
   "metadata": {},
   "outputs": [],
   "source": [
    "df.features.value_counts(normalize=True) * 100"
   ]
  },
  {
   "cell_type": "markdown",
   "id": "1f933e62",
   "metadata": {},
   "source": [
    "**Summary:** since there are only two possible outcomes I'll conver this to a column called `isUniversal`"
   ]
  },
  {
   "cell_type": "code",
   "execution_count": null,
   "id": "6d7994a3",
   "metadata": {},
   "outputs": [],
   "source": [
    "def getIsUniversal(x):\n",
    "    if x == '[]':\n",
    "        return False\n",
    "    return True\n",
    "\n",
    "data['IsUniversal'] = df['features'].apply(lambda x: getIsUniversal(x))\n",
    "\n",
    "data.head(10)"
   ]
  },
  {
   "cell_type": "markdown",
   "id": "0214f007",
   "metadata": {},
   "source": [
    "### (3) advisories"
   ]
  },
  {
   "cell_type": "code",
   "execution_count": null,
   "id": "c3c4964c",
   "metadata": {},
   "outputs": [],
   "source": [
    "# df.advisories.value_counts()\n",
    "# TODO: this is a categorical data and one row can have one or more of these; Think of how to deal with this\n",
    "# but this could be an important data after all\n",
    "\n",
    "advisories = {}\n",
    "for advisoriesString in df.advisories.values:\n",
    "    ads = json.loads(advisoriesString)\n",
    "    for a in ads:\n",
    "        if a not in advisories:\n",
    "            advisories[a] = 0\n",
    "        advisories[a] = advisories[a] + 1"
   ]
  },
  {
   "cell_type": "code",
   "execution_count": null,
   "id": "6c9529a7",
   "metadata": {},
   "outputs": [],
   "source": [
    "adf = pd.DataFrame([[k,v] for k,v in advisories.items()], columns=['advisory', 'count'])\n",
    "adf.head(10)"
   ]
  },
  {
   "cell_type": "code",
   "execution_count": null,
   "id": "24f12191",
   "metadata": {},
   "outputs": [],
   "source": [
    "adf = adf.sort_values([\"count\"], axis=0, ascending=False)"
   ]
  },
  {
   "cell_type": "code",
   "execution_count": null,
   "id": "5be1093b",
   "metadata": {},
   "outputs": [],
   "source": [
    "plt.figure(figsize=(10, 5))\n",
    "fx = sns.barplot(x='advisory', y='count', data=adf)\n",
    "fx.set_xticklabels(rotation=90, labels=adf['advisory'])\n",
    "plt.title(\"Distribution by advisory\")"
   ]
  },
  {
   "cell_type": "code",
   "execution_count": null,
   "id": "36a07474",
   "metadata": {},
   "outputs": [],
   "source": [
    "data[\"advisories\"] = df.advisories"
   ]
  },
  {
   "cell_type": "markdown",
   "id": "fd14fc61",
   "metadata": {},
   "source": [
    "### (4) trackCensoredName\n",
    "\n",
    "This seem to be very similar to the name of the track itself, let's see the no of rows where these values differ"
   ]
  },
  {
   "cell_type": "code",
   "execution_count": null,
   "id": "15ca2a4d",
   "metadata": {},
   "outputs": [],
   "source": [
    "print (df.loc[df['trackCensoredName'] != df['trackName']].shape)\n",
    "\n",
    "df.loc[df['trackCensoredName'] != df['trackName']][['trackCensoredName', 'trackName']]"
   ]
  },
  {
   "cell_type": "markdown",
   "id": "73b640dd",
   "metadata": {},
   "source": [
    "**Summary:**: only four rows with trackCensoredName differing from trackName so this features is useless for now\n",
    "\n",
    "### (5) fileSizeBytes\n",
    "This seem to be an interesting property let's see"
   ]
  },
  {
   "cell_type": "code",
   "execution_count": null,
   "id": "090ee9b8",
   "metadata": {},
   "outputs": [],
   "source": [
    "meanSize = df.fileSizeBytes.mean()\n",
    "medianSize = df.fileSizeBytes.median()\n",
    "\n",
    "\n",
    "print (\"Average file size in MD: %0.2f \" % (meanSize / (1024 * 1024)))\n",
    "print (\"Median file size in MD: %0.2f \" % (medianSize / (1024 * 1024)))\n",
    "\n",
    "df.fileSizeBytes.plot(figsize=(10,6))"
   ]
  },
  {
   "cell_type": "code",
   "execution_count": null,
   "id": "6ff93ce4",
   "metadata": {},
   "outputs": [],
   "source": [
    "data['fileSizeInMB'] = df['fileSizeBytes'].apply(lambda x: x / (1024 * 1024))\n",
    "data.head(10)"
   ]
  },
  {
   "cell_type": "markdown",
   "id": "280f1936",
   "metadata": {},
   "source": [
    "### (6) contentAdvisoryRating"
   ]
  },
  {
   "cell_type": "code",
   "execution_count": null,
   "id": "81582221",
   "metadata": {},
   "outputs": [],
   "source": [
    "print (df.contentAdvisoryRating.value_counts())\n",
    "print ()\n",
    "print (\"Normalized distribution %\")\n",
    "print (df.contentAdvisoryRating.value_counts(normalize =True) * 100)\n",
    "\n",
    "_ct = pd.crosstab(df.contentAdvisoryRating, \"count\")\n",
    "_ct.plot(kind=\"pie\", subplots=True)\n",
    "\n",
    "_ct.plot(kind=\"bar\")"
   ]
  },
  {
   "cell_type": "code",
   "execution_count": null,
   "id": "01081ea4",
   "metadata": {},
   "outputs": [],
   "source": [
    "data['contentAdvisoryRating'] = df['contentAdvisoryRating']"
   ]
  },
  {
   "cell_type": "markdown",
   "id": "d176f0dd",
   "metadata": {},
   "source": [
    "**Summary**: while nearly `75%` is `4+` rated apps other seem to have a meaning full distribution as well;\n",
    "### (7) genreIds\n",
    "\n",
    "This feature intutively seem to be highly correlated to `genres` property; So we shall rather look at that in place of this;\n",
    "\n",
    "### (8) currentVersionReleaseDate\n",
    "release date of current version; seems an interesting property which doens't need much preprocessing we will keep it as such;"
   ]
  },
  {
   "cell_type": "code",
   "execution_count": null,
   "id": "84c58a03",
   "metadata": {},
   "outputs": [],
   "source": [
    "data['currentVersionReleaseDate'] = df.currentVersionReleaseDate"
   ]
  },
  {
   "cell_type": "markdown",
   "id": "c301df69",
   "metadata": {},
   "source": [
    "### (9) currency"
   ]
  },
  {
   "cell_type": "code",
   "execution_count": null,
   "id": "b1125b21",
   "metadata": {},
   "outputs": [],
   "source": [
    "df.currency.value_counts()"
   ]
  },
  {
   "cell_type": "markdown",
   "id": "fa4ee47e",
   "metadata": {},
   "source": [
    "All values are USD hence we will ignore\n",
    "### (10) wrapperType"
   ]
  },
  {
   "cell_type": "code",
   "execution_count": null,
   "id": "dfdd0a7b",
   "metadata": {},
   "outputs": [],
   "source": [
    "df.wrapperType.value_counts()"
   ]
  },
  {
   "cell_type": "markdown",
   "id": "9ea14de0",
   "metadata": {},
   "source": [
    "all values are software; hence we will ignore\n",
    "### (11) version"
   ]
  },
  {
   "cell_type": "code",
   "execution_count": null,
   "id": "be999c0d",
   "metadata": {},
   "outputs": [],
   "source": [
    "df.version.value_counts().head(20)"
   ]
  },
  {
   "cell_type": "markdown",
   "id": "373db9dd",
   "metadata": {},
   "source": [
    "**Summary**\n",
    " - This seem to be string like property which can have any value;\n",
    " We can maybe extract features like major version and subversions"
   ]
  },
  {
   "cell_type": "code",
   "execution_count": null,
   "id": "fd228587",
   "metadata": {},
   "outputs": [],
   "source": [
    "def getMajorVersion(ver):\n",
    "    return ver.split('.')[0]\n",
    "\n",
    "def getMajorSubVersion(ver):\n",
    "    splt = ver.split('.')\n",
    "    if len(splt) >= 2:\n",
    "        return \".\".join(splt[0:2])\n",
    "    return splt[0] +\".0\"\n",
    "\n",
    "data['version'] = df['version'].apply(lambda x: getMajorVersion(x))\n",
    "data['subversion'] = df['version'].apply(lambda x: getMajorSubVersion(x))\n",
    "\n",
    "data[['bundleId', 'version', 'subversion']].head(10)"
   ]
  },
  {
   "cell_type": "markdown",
   "id": "d885eea0",
   "metadata": {},
   "source": [
    "### (12) artistName"
   ]
  },
  {
   "cell_type": "code",
   "execution_count": null,
   "id": "688daadc",
   "metadata": {},
   "outputs": [],
   "source": [
    "print (\"artists with max applications\")\n",
    "df.artistName.value_counts().head(20)"
   ]
  },
  {
   "cell_type": "code",
   "execution_count": null,
   "id": "189d6abf",
   "metadata": {},
   "outputs": [],
   "source": [
    "data['artist'] = df['artistName']"
   ]
  },
  {
   "cell_type": "markdown",
   "id": "1a98f5cb",
   "metadata": {},
   "source": [
    "### (13) artistId:\n",
    "might is highly correlated to artistName and hence will ignore\n",
    "\n",
    "### (14) genres\n",
    "This is one of very important property; Let's do some analysis here"
   ]
  },
  {
   "cell_type": "code",
   "execution_count": null,
   "id": "6dae0151",
   "metadata": {},
   "outputs": [],
   "source": [
    "import json\n",
    "genres = {}\n",
    "for genreString in df.genres.values:\n",
    "    gs = json.loads(genreString)\n",
    "    for g in gs:\n",
    "        if g not in genres:\n",
    "            genres[g] = 0\n",
    "        genres[g] = genres[g] + 1"
   ]
  },
  {
   "cell_type": "code",
   "execution_count": null,
   "id": "b7acbc94",
   "metadata": {},
   "outputs": [],
   "source": [
    "gdf = pd.DataFrame([[k,v] for k,v in genres.items()], columns=['genre', 'count'])\n",
    "gdf.head(10)"
   ]
  },
  {
   "cell_type": "code",
   "execution_count": null,
   "id": "93c2bb76",
   "metadata": {},
   "outputs": [],
   "source": [
    "gs = gdf.sort_values([\"count\"], axis=0, ascending=False)"
   ]
  },
  {
   "cell_type": "code",
   "execution_count": null,
   "id": "26574903",
   "metadata": {},
   "outputs": [],
   "source": [
    "plt.figure(figsize=(10, 5))\n",
    "fx = sns.barplot(x='genre', y='count', data=gs.head(15))\n",
    "fx.set_xticklabels(rotation=90, labels=gs['genre'])\n",
    "plt.title(\"Distribution by genres\")"
   ]
  },
  {
   "cell_type": "code",
   "execution_count": null,
   "id": "c5af3c77",
   "metadata": {},
   "outputs": [],
   "source": [
    "data['genres'] = df['genres']\n",
    "data.head(10)"
   ]
  },
  {
   "cell_type": "markdown",
   "id": "da624025",
   "metadata": {},
   "source": [
    "### (15) Price\n",
    "One of most important field"
   ]
  },
  {
   "cell_type": "code",
   "execution_count": null,
   "id": "b33da284",
   "metadata": {},
   "outputs": [],
   "source": [
    "percentageFree = df[df.price == 0].shape[0] / df.shape[0] * 100\n",
    "\n",
    "print (\"%% Free: %0.3f %%\" % percentageFree)"
   ]
  },
  {
   "cell_type": "code",
   "execution_count": null,
   "id": "85313ec8",
   "metadata": {},
   "outputs": [],
   "source": [
    "data['price'] = df['price']"
   ]
  },
  {
   "cell_type": "code",
   "execution_count": null,
   "id": "3ab99aeb",
   "metadata": {},
   "outputs": [],
   "source": [
    "data.head(3)"
   ]
  },
  {
   "cell_type": "markdown",
   "id": "a7c45bd3",
   "metadata": {},
   "source": [
    "### (16) Description\n",
    "This is a plain text field, will just copy it to new dataframe and use as text features later"
   ]
  },
  {
   "cell_type": "code",
   "execution_count": null,
   "id": "25e6447b",
   "metadata": {},
   "outputs": [],
   "source": [
    "data['description'] = df.description"
   ]
  },
  {
   "cell_type": "markdown",
   "id": "a4143cd7",
   "metadata": {},
   "source": [
    "### (17) isVppDeviceBasedLicensingEnabled\n",
    "I don't totally know what this feature means (TODO);\n",
    "99.2% sample have true value rest have false, but stills storing this to actual df"
   ]
  },
  {
   "cell_type": "code",
   "execution_count": null,
   "id": "fa93a9e9",
   "metadata": {},
   "outputs": [],
   "source": [
    "df.isVppDeviceBasedLicensingEnabled.value_counts(normalize=True) * 100"
   ]
  },
  {
   "cell_type": "code",
   "execution_count": null,
   "id": "940f1849",
   "metadata": {},
   "outputs": [],
   "source": [
    "data['isVppDeviceBasedLicensingEnabled'] = df.isVppDeviceBasedLicensingEnabled"
   ]
  },
  {
   "cell_type": "markdown",
   "id": "934b8b64",
   "metadata": {},
   "source": [
    "### (17) primaryGenreName\n",
    "This is an interesting feature"
   ]
  },
  {
   "cell_type": "code",
   "execution_count": null,
   "id": "0bf4c629",
   "metadata": {},
   "outputs": [],
   "source": [
    "df.primaryGenreName.value_counts(normalize=True) * 100"
   ]
  },
  {
   "cell_type": "code",
   "execution_count": null,
   "id": "a7cd3efb",
   "metadata": {},
   "outputs": [],
   "source": [
    "_ct = pd.crosstab(df.primaryGenreName, \"count\")\n",
    "_ct.plot(kind='bar', figsize=(10, 5))"
   ]
  },
  {
   "cell_type": "code",
   "execution_count": null,
   "id": "25a21fd6",
   "metadata": {},
   "outputs": [],
   "source": [
    "data['primaryGenreName'] = df.primaryGenreName"
   ]
  },
  {
   "cell_type": "markdown",
   "id": "8e32245a",
   "metadata": {},
   "source": [
    "### (17) releaseDate\n",
    "released date of app; This could be related to how old the app is"
   ]
  },
  {
   "cell_type": "code",
   "execution_count": null,
   "id": "119bb553",
   "metadata": {},
   "outputs": [],
   "source": [
    "# data['releaseDate'] = df.releaseDate\n",
    "from datetime import datetime\n",
    "def getAgeInDays(datestring):\n",
    "    return (datetime.now() - datetime.strptime(datestring, \"%Y-%m-%dT%H:%M:%SZ\")).days\n",
    "\n",
    "data['releaseDate'] = df.releaseDate\n",
    "data['ageInDays'] = df.releaseDate.apply(lambda x: getAgeInDays(x))"
   ]
  },
  {
   "cell_type": "code",
   "execution_count": null,
   "id": "1bd25227",
   "metadata": {},
   "outputs": [],
   "source": [
    "data['ageInDays'].hist()"
   ]
  },
  {
   "cell_type": "markdown",
   "id": "88321361",
   "metadata": {},
   "source": [
    "### (18) minimumOsVersion\n",
    "We will just keep the main version no for simplicity"
   ]
  },
  {
   "cell_type": "code",
   "execution_count": null,
   "id": "81fe0fd4",
   "metadata": {},
   "outputs": [],
   "source": [
    "def getMajorOSVersion(osver):\n",
    "    return osver.split(\".\")[0]\n",
    "data['minimumOsVersion'] = df.minimumOsVersion.apply(lambda x: getMajorOSVersion(x))"
   ]
  },
  {
   "cell_type": "code",
   "execution_count": null,
   "id": "a7b1cf71",
   "metadata": {},
   "outputs": [],
   "source": [
    "# % distribution\n",
    "data['minimumOsVersion'].value_counts(normalize=True) * 100"
   ]
  },
  {
   "cell_type": "markdown",
   "id": "90d54e39",
   "metadata": {},
   "source": [
    "### (19) formattedPrice\n",
    "Since we have price we will ignore this\n",
    "\n",
    "### (20) primaryGenreId\n",
    "Since we have string of primary Genre we will ignore this\n",
    "\n",
    "### (21, 22) averageUserRating & avgUserRatingCV\n",
    "This is another most important feature"
   ]
  },
  {
   "cell_type": "code",
   "execution_count": null,
   "id": "d36baf59",
   "metadata": {},
   "outputs": [],
   "source": [
    "# Actual\n",
    "df.averageUserRating.value_counts(normalize=True) * 100"
   ]
  },
  {
   "cell_type": "code",
   "execution_count": null,
   "id": "bbf2a3ee",
   "metadata": {},
   "outputs": [],
   "source": [
    "# current version\n",
    "df.avgUserRatingCV.value_counts(normalize=True) * 100"
   ]
  },
  {
   "cell_type": "code",
   "execution_count": null,
   "id": "86c0269f",
   "metadata": {},
   "outputs": [],
   "source": [
    "_ct = pd.crosstab(df.averageUserRating, \"Count\")\n",
    "_ct.plot(kind='bar', figsize=(15, 7))\n",
    "plt.title(\"Plot for average user rating\")\n",
    "\n",
    "_ct = pd.crosstab(df.avgUserRatingCV, \"Count\")\n",
    "_ct.plot(kind='bar', figsize=(15, 7))\n",
    "plt.title(\"Plot for average user rating for current version\")"
   ]
  },
  {
   "cell_type": "code",
   "execution_count": null,
   "id": "a16daf88",
   "metadata": {},
   "outputs": [],
   "source": [
    "data['averageUserRating'] = df.averageUserRating\n",
    "data['avgUserRatingCV'] = df.avgUserRatingCV"
   ]
  },
  {
   "cell_type": "markdown",
   "id": "f24de646",
   "metadata": {},
   "source": [
    "**Sumamry**: maximum apps have no user rating at all;\n",
    "### (23, 24) userRatingCount & userRatingCountCV"
   ]
  },
  {
   "cell_type": "code",
   "execution_count": null,
   "id": "01015bc3",
   "metadata": {},
   "outputs": [],
   "source": [
    "data['userRatingCount'] = df.userRatingCount.replace('null', 0)\n",
    "data.userRatingCount = data.userRatingCount.apply(lambda x: int(x))\n",
    "data.userRatingCount.hist(figsize=(10, 5))\n",
    "plt.title(\"Histogram for user rating count\")\n",
    "\n",
    "plt.figure()\n",
    "data['userRatingCountCV'] = df.userRatingCountCV.replace('null', 0)\n",
    "data.userRatingCountCV = data.userRatingCountCV.apply(lambda x: int(x))\n",
    "data.userRatingCountCV.hist(figsize=(10, 5))\n",
    "plt.title(\"Histogram for user rating count for current version\")"
   ]
  },
  {
   "cell_type": "markdown",
   "id": "eaf1429b",
   "metadata": {},
   "source": [
    "### (25) sellerUrl\n",
    " - Not all of the sellers have url, so one interesting property would be to check if website exist on the first place"
   ]
  },
  {
   "cell_type": "code",
   "execution_count": null,
   "id": "f6d60911",
   "metadata": {},
   "outputs": [],
   "source": [
    "data['hasUrl'] = df.sellerUrl.apply(lambda x: x != 'null')\n",
    "\n",
    "print (\"% apps with and without seller url\")\n",
    "print (data.hasUrl.value_counts(normalize=True) * 100)\n",
    "\n",
    "data['hasUrl'].head(10)"
   ]
  },
  {
   "cell_type": "code",
   "execution_count": null,
   "id": "ed5c738f",
   "metadata": {},
   "outputs": [],
   "source": [
    "def getDomain(url):\n",
    "    if url == 'null':\n",
    "        return 'null'\n",
    "    \n",
    "    _splt = url.split('/')\n",
    "    if len(_splt) >= 3:\n",
    "        return _splt[2]\n",
    "    return 'null'\n",
    "\n",
    "data['sellerUrl'] = df.sellerUrl\n",
    "data['sellerUrlDomain'] = df.sellerUrl.apply(lambda x: getDomain(x))"
   ]
  },
  {
   "cell_type": "code",
   "execution_count": null,
   "id": "25860c4a",
   "metadata": {},
   "outputs": [],
   "source": [
    "data.head(10)"
   ]
  },
  {
   "cell_type": "markdown",
   "id": "f224c943",
   "metadata": {},
   "source": [
    "### (26) releaseNotes"
   ]
  },
  {
   "cell_type": "code",
   "execution_count": null,
   "id": "4892a4f1",
   "metadata": {},
   "outputs": [],
   "source": [
    "data['releaseNotes'] = df.releaseNotes"
   ]
  },
  {
   "cell_type": "markdown",
   "id": "c255ec34",
   "metadata": {},
   "source": [
    "## Write new data frame to disk"
   ]
  },
  {
   "cell_type": "code",
   "execution_count": null,
   "id": "66fcc3f4",
   "metadata": {},
   "outputs": [],
   "source": [
    "data.to_csv(\"../dataset/processed.data.csv\", encoding='utf-8', index=False)"
   ]
  },
  {
   "cell_type": "markdown",
   "id": "93732826",
   "metadata": {},
   "source": [
    "### Let's have a look at summary so far for paid apps"
   ]
  }
 ],
 "metadata": {},
 "nbformat": 4,
 "nbformat_minor": 5
}
