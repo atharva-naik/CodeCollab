{
 "cells": [
  {
   "cell_type": "code",
   "execution_count": null,
   "id": "256598b2",
   "metadata": {},
   "outputs": [],
   "source": [
    "import numpy as np"
   ]
  },
  {
   "cell_type": "markdown",
   "id": "68f60d7a",
   "metadata": {},
   "source": [
    "# Scalar"
   ]
  },
  {
   "cell_type": "markdown",
   "id": "a888e9d8",
   "metadata": {},
   "source": [
    "Let's create a scalar below... "
   ]
  },
  {
   "cell_type": "code",
   "execution_count": null,
   "id": "4f096cc4",
   "metadata": {},
   "outputs": [],
   "source": [
    "s = np.array(5)"
   ]
  },
  {
   "cell_type": "markdown",
   "id": "29867d83",
   "metadata": {},
   "source": [
    "Scalars don't have a dimension. They are 0. Let's check out."
   ]
  },
  {
   "cell_type": "code",
   "execution_count": null,
   "id": "80f5cc31",
   "metadata": {},
   "outputs": [],
   "source": [
    "s.shape"
   ]
  },
  {
   "cell_type": "markdown",
   "id": "539fd2b6",
   "metadata": {},
   "source": [
    "# Vectors"
   ]
  },
  {
   "cell_type": "markdown",
   "id": "a2889013",
   "metadata": {},
   "source": [
    "Let's create a vector now. "
   ]
  },
  {
   "cell_type": "code",
   "execution_count": null,
   "id": "a908d746",
   "metadata": {},
   "outputs": [],
   "source": [
    "v = np.array([1, 2, 3])"
   ]
  },
  {
   "cell_type": "code",
   "execution_count": null,
   "id": "a2563c4c",
   "metadata": {},
   "outputs": [],
   "source": [
    "v"
   ]
  },
  {
   "cell_type": "markdown",
   "id": "2ad03f80",
   "metadata": {},
   "source": [
    "We can figure out the shape of the vector. "
   ]
  },
  {
   "cell_type": "code",
   "execution_count": null,
   "id": "d61035d4",
   "metadata": {},
   "outputs": [],
   "source": [
    "v.shape"
   ]
  },
  {
   "cell_type": "markdown",
   "id": "d4ff1595",
   "metadata": {},
   "source": [
    "We can also access the element as well. "
   ]
  },
  {
   "cell_type": "code",
   "execution_count": null,
   "id": "2ca173c8",
   "metadata": {},
   "outputs": [],
   "source": [
    "v[1]"
   ]
  },
  {
   "cell_type": "markdown",
   "id": "af5849a5",
   "metadata": {},
   "source": [
    "Numpy also supports advanced indexing techniques. We can access elements after second elemend onwards... "
   ]
  },
  {
   "cell_type": "code",
   "execution_count": null,
   "id": "6c39d050",
   "metadata": {},
   "outputs": [],
   "source": [
    "v[1:]"
   ]
  },
  {
   "cell_type": "markdown",
   "id": "19e846a2",
   "metadata": {},
   "source": [
    "# Matrices "
   ]
  },
  {
   "cell_type": "markdown",
   "id": "196523cd",
   "metadata": {},
   "source": [
    "You create matrices using NumPy's array function, just you did for vectors. However, instead of just passing in a list, you need to supply a list of lists, where each list represents a row. So to create a 3x3 matrix containing the numbers one through nine, you could do this:"
   ]
  },
  {
   "cell_type": "code",
   "execution_count": null,
   "id": "915bf997",
   "metadata": {},
   "outputs": [],
   "source": [
    "m = np.array([[1,2,3], [4,5,6], [7,8,9]])"
   ]
  },
  {
   "cell_type": "code",
   "execution_count": null,
   "id": "5700d147",
   "metadata": {},
   "outputs": [],
   "source": [
    "m.shape"
   ]
  },
  {
   "cell_type": "markdown",
   "id": "073dfcdf",
   "metadata": {},
   "source": [
    "You can access elements of matrices just like vectors or exactly like Java ;) "
   ]
  },
  {
   "cell_type": "code",
   "execution_count": null,
   "id": "55a8e197",
   "metadata": {},
   "outputs": [],
   "source": [
    "m[1][2]"
   ]
  },
  {
   "cell_type": "markdown",
   "id": "a8f7165f",
   "metadata": {},
   "source": [
    "# Tensors"
   ]
  },
  {
   "cell_type": "code",
   "execution_count": null,
   "id": "32a95c54",
   "metadata": {},
   "outputs": [],
   "source": [
    "t = np.array([[[[1],[2]],[[3],[4]],[[5],[6]]],[[[7],[8]],\\\n",
    "    [[9],[10]],[[11],[12]]],[[[13],[14]],[[15],[16]],[[17],[17]]]])"
   ]
  },
  {
   "cell_type": "code",
   "execution_count": null,
   "id": "b5103d12",
   "metadata": {},
   "outputs": [],
   "source": [
    "t.shape"
   ]
  },
  {
   "cell_type": "markdown",
   "id": "2d76b8a8",
   "metadata": {},
   "source": [
    "Let's access an item."
   ]
  },
  {
   "cell_type": "code",
   "execution_count": null,
   "id": "73212597",
   "metadata": {},
   "outputs": [],
   "source": [
    "t[2][1][1][0]"
   ]
  },
  {
   "cell_type": "markdown",
   "id": "089f1414",
   "metadata": {},
   "source": [
    "# Changing shapes"
   ]
  },
  {
   "cell_type": "markdown",
   "id": "ecdfdd16",
   "metadata": {},
   "source": [
    "There are two ways to reshape your vectors.\n",
    "\n",
    "Method 1:"
   ]
  },
  {
   "cell_type": "markdown",
   "id": "2d5c6c81",
   "metadata": {},
   "source": [
    "One common way to use scalars is to see values to zero. Here's a practical way of doing it:"
   ]
  },
  {
   "cell_type": "code",
   "execution_count": null,
   "id": "f68bbf5d",
   "metadata": {},
   "outputs": [],
   "source": [
    "x *= 0"
   ]
  },
  {
   "cell_type": "code",
   "execution_count": null,
   "id": "d69bfd8a",
   "metadata": {},
   "outputs": [],
   "source": [
    "x"
   ]
  },
  {
   "cell_type": "markdown",
   "id": "844177a2",
   "metadata": {},
   "source": [
    "## Element-wise Matrix Operations"
   ]
  },
  {
   "cell_type": "markdown",
   "id": "7ceac978",
   "metadata": {},
   "source": [
    "While doing matrix operations, we need to take into account that matrices have compatible shapes."
   ]
  },
  {
   "cell_type": "code",
   "execution_count": null,
   "id": "b4760f29",
   "metadata": {},
   "outputs": [],
   "source": [
    "a = np.array([[1,3],[5,7]])"
   ]
  },
  {
   "cell_type": "code",
   "execution_count": null,
   "id": "526e13f1",
   "metadata": {},
   "outputs": [],
   "source": [
    "a"
   ]
  },
  {
   "cell_type": "code",
   "execution_count": null,
   "id": "0eb07546",
   "metadata": {},
   "outputs": [],
   "source": [
    "b = np.array([[2,4],[6,8]])"
   ]
  },
  {
   "cell_type": "code",
   "execution_count": null,
   "id": "f50a63db",
   "metadata": {},
   "outputs": [],
   "source": [
    "b"
   ]
  },
  {
   "cell_type": "code",
   "execution_count": null,
   "id": "c10ca310",
   "metadata": {},
   "outputs": [],
   "source": [
    "a + b"
   ]
  },
  {
   "cell_type": "markdown",
   "id": "e34147e9",
   "metadata": {},
   "source": [
    "# NumPy Matrix Multiplication "
   ]
  },
  {
   "cell_type": "markdown",
   "id": "2151b94d",
   "metadata": {},
   "source": [
    "## Element-wise Multiplication "
   ]
  },
  {
   "cell_type": "code",
   "execution_count": null,
   "id": "96725551",
   "metadata": {},
   "outputs": [],
   "source": [
    "v = np.array([1,2,3,4])"
   ]
  },
  {
   "cell_type": "code",
   "execution_count": null,
   "id": "cb454972",
   "metadata": {},
   "outputs": [],
   "source": [
    "v.reshape(1,4)"
   ]
  },
  {
   "cell_type": "markdown",
   "id": "702391ba",
   "metadata": {},
   "source": [
    "Method 2:"
   ]
  },
  {
   "cell_type": "code",
   "execution_count": null,
   "id": "4160c932",
   "metadata": {},
   "outputs": [],
   "source": [
    "x = v[None, :]"
   ]
  },
  {
   "cell_type": "markdown",
   "id": "cec39f04",
   "metadata": {},
   "source": [
    "# Element-wise operations"
   ]
  },
  {
   "cell_type": "markdown",
   "id": "9aab9ddf",
   "metadata": {},
   "source": [
    "## The python way"
   ]
  },
  {
   "cell_type": "code",
   "execution_count": null,
   "id": "90378b82",
   "metadata": {},
   "outputs": [],
   "source": [
    "values = [1,2,3,4,5]\n",
    "for i in range(len(values)):\n",
    "    values[i] += 5"
   ]
  },
  {
   "cell_type": "code",
   "execution_count": null,
   "id": "48fbbcb1",
   "metadata": {},
   "outputs": [],
   "source": [
    "values"
   ]
  },
  {
   "cell_type": "markdown",
   "id": "a498988f",
   "metadata": {},
   "source": [
    "## The NumPy way"
   ]
  },
  {
   "cell_type": "code",
   "execution_count": null,
   "id": "eba93a36",
   "metadata": {},
   "outputs": [],
   "source": [
    "values = [1,2,3,4,5]"
   ]
  },
  {
   "cell_type": "code",
   "execution_count": null,
   "id": "e8ee78d3",
   "metadata": {},
   "outputs": [],
   "source": [
    "values = np.array(values) + 5"
   ]
  },
  {
   "cell_type": "markdown",
   "id": "48d67a3c",
   "metadata": {},
   "source": [
    "Alternatively, you can directly add as if you add a variable... "
   ]
  },
  {
   "cell_type": "code",
   "execution_count": null,
   "id": "5d086796",
   "metadata": {},
   "outputs": [],
   "source": [
    "values += 5"
   ]
  },
  {
   "cell_type": "markdown",
   "id": "092d461f",
   "metadata": {},
   "source": [
    "Besides addition, NumPy has other functions other than addition. "
   ]
  },
  {
   "cell_type": "markdown",
   "id": "81095eb9",
   "metadata": {},
   "source": [
    "## Matrix Product"
   ]
  },
  {
   "cell_type": "code",
   "execution_count": null,
   "id": "7250eb61",
   "metadata": {},
   "outputs": [],
   "source": [
    "a = np.array([[1,2,3,4],[5,6,7,8]])"
   ]
  },
  {
   "cell_type": "code",
   "execution_count": null,
   "id": "74a504e3",
   "metadata": {},
   "outputs": [],
   "source": [
    "a.shape"
   ]
  },
  {
   "cell_type": "code",
   "execution_count": null,
   "id": "59b389f9",
   "metadata": {},
   "outputs": [],
   "source": [
    "b = np.array([[1,2,3],[4,5,6],[7,8,9],[10,11,12]])"
   ]
  },
  {
   "cell_type": "code",
   "execution_count": null,
   "id": "39b82349",
   "metadata": {},
   "outputs": [],
   "source": [
    "b.shape"
   ]
  },
  {
   "cell_type": "code",
   "execution_count": null,
   "id": "d072f2c7",
   "metadata": {},
   "outputs": [],
   "source": [
    "c = np.matmul(a, b)"
   ]
  },
  {
   "cell_type": "code",
   "execution_count": null,
   "id": "7f22717f",
   "metadata": {},
   "outputs": [],
   "source": [
    "c"
   ]
  },
  {
   "cell_type": "code",
   "execution_count": null,
   "id": "912c7523",
   "metadata": {},
   "outputs": [],
   "source": [
    "c.shape"
   ]
  },
  {
   "cell_type": "markdown",
   "id": "cdac3a11",
   "metadata": {},
   "source": [
    "## Transpose"
   ]
  },
  {
   "cell_type": "code",
   "execution_count": null,
   "id": "a97165eb",
   "metadata": {},
   "outputs": [],
   "source": [
    "m = np.array([[1,2,3,4], [5,6,7,8], [9,10,11,12]])"
   ]
  },
  {
   "cell_type": "code",
   "execution_count": null,
   "id": "50953617",
   "metadata": {},
   "outputs": [],
   "source": [
    "m[2,2]"
   ]
  },
  {
   "cell_type": "markdown",
   "id": "1b246ae9",
   "metadata": {},
   "source": [
    "You can use T to transpose a matrix."
   ]
  },
  {
   "cell_type": "code",
   "execution_count": null,
   "id": "542ec47d",
   "metadata": {},
   "outputs": [],
   "source": [
    "x = np.multiply(values, 5)"
   ]
  },
  {
   "cell_type": "code",
   "execution_count": null,
   "id": "2d1e0ad8",
   "metadata": {},
   "outputs": [],
   "source": [
    "x = x * 5"
   ]
  },
  {
   "cell_type": "markdown",
   "id": "52b82895",
   "metadata": {},
   "source": [
    "We'll usually use the operators instead of the functions. It is much easier to read... "
   ]
  },
  {
   "cell_type": "code",
   "execution_count": null,
   "id": "5c5f02cd",
   "metadata": {},
   "outputs": [],
   "source": [
    "m.T"
   ]
  },
  {
   "cell_type": "code",
   "execution_count": null,
   "id": "21dd3000",
   "metadata": {},
   "outputs": [],
   "source": [
    "m_t = m.T"
   ]
  },
  {
   "cell_type": "code",
   "execution_count": null,
   "id": "c327a183",
   "metadata": {},
   "outputs": [],
   "source": [
    "m_t[3][1] = 200"
   ]
  },
  {
   "cell_type": "code",
   "execution_count": null,
   "id": "e02f022a",
   "metadata": {},
   "outputs": [],
   "source": [
    "m_t"
   ]
  },
  {
   "cell_type": "code",
   "execution_count": null,
   "id": "23321b9c",
   "metadata": {},
   "outputs": [],
   "source": [
    "m"
   ]
  },
  {
   "cell_type": "markdown",
   "id": "d2b2d144",
   "metadata": {},
   "source": [
    "Notice how it modified both the transpose and the original matrix, too! That's because they are sharing the same copy of data. So remember to consider the transpose just as a different view of your matrix, rather than a different matrix entirely.\n",
    "\n"
   ]
  },
  {
   "cell_type": "markdown",
   "id": "0ac37993",
   "metadata": {},
   "source": [
    "#### Let's go through a real use-case now..."
   ]
  },
  {
   "cell_type": "code",
   "execution_count": null,
   "id": "af9494c5",
   "metadata": {},
   "outputs": [],
   "source": [
    "inputs = np.array([[-0.27,  0.45,  0.64, 0.31]])"
   ]
  },
  {
   "cell_type": "code",
   "execution_count": null,
   "id": "a17bdd60",
   "metadata": {},
   "outputs": [],
   "source": [
    "inputs"
   ]
  },
  {
   "cell_type": "code",
   "execution_count": null,
   "id": "38fcad7d",
   "metadata": {},
   "outputs": [],
   "source": [
    "inputs.shape"
   ]
  },
  {
   "cell_type": "code",
   "execution_count": null,
   "id": "d7e3fa21",
   "metadata": {},
   "outputs": [],
   "source": [
    "weights = np.array([[0.02, 0.001, -0.03, 0.036], \\\n",
    "    [0.04, -0.003, 0.025, 0.009], [0.012, -0.045, 0.28, -0.067]])"
   ]
  },
  {
   "cell_type": "code",
   "execution_count": null,
   "id": "e91e9b20",
   "metadata": {},
   "outputs": [],
   "source": [
    "weights"
   ]
  },
  {
   "cell_type": "code",
   "execution_count": null,
   "id": "f81aa197",
   "metadata": {},
   "outputs": [],
   "source": [
    "weights.shape"
   ]
  },
  {
   "cell_type": "markdown",
   "id": "08967ba3",
   "metadata": {},
   "source": [
    "If you try to multiply weights and inputs now, we'll get an error. For that reason, we'll have to transpose."
   ]
  },
  {
   "cell_type": "code",
   "execution_count": null,
   "id": "26c3ab3a",
   "metadata": {},
   "outputs": [],
   "source": [
    "np.matmul(inputs, weights.T)"
   ]
  },
  {
   "cell_type": "markdown",
   "id": "ec3b03ec",
   "metadata": {},
   "source": [
    "This would also work if we were take the transpose of inputs and change the order of dot product. "
   ]
  },
  {
   "cell_type": "code",
   "execution_count": null,
   "id": "f83dbc23",
   "metadata": {},
   "outputs": [],
   "source": [
    "m = np.array([[1,2,3],[4,5,6]])"
   ]
  },
  {
   "cell_type": "code",
   "execution_count": null,
   "id": "4a2ba555",
   "metadata": {},
   "outputs": [],
   "source": [
    "m[0,1]"
   ]
  },
  {
   "cell_type": "code",
   "execution_count": null,
   "id": "5ce1f3aa",
   "metadata": {},
   "outputs": [],
   "source": [
    "m[1,2]"
   ]
  },
  {
   "cell_type": "code",
   "execution_count": null,
   "id": "60721e28",
   "metadata": {},
   "outputs": [],
   "source": [
    "n = m * 0.25"
   ]
  },
  {
   "cell_type": "code",
   "execution_count": null,
   "id": "2f27edf3",
   "metadata": {},
   "outputs": [],
   "source": [
    "n"
   ]
  },
  {
   "cell_type": "code",
   "execution_count": null,
   "id": "8e398653",
   "metadata": {},
   "outputs": [],
   "source": [
    "m*n"
   ]
  }
 ],
 "metadata": {},
 "nbformat": 4,
 "nbformat_minor": 5
}
