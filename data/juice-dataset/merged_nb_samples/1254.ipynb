{
 "cells": [
  {
   "cell_type": "markdown",
   "id": "e38d1e4a",
   "metadata": {},
   "source": [
    "# One Way ANOVA\n",
    "\n",
    "This is a demonstration of how to calculate the F-statistic for one-way ANOVA. Most of the content including the calculation chart is taken from https://onlinecourses.science.psu.edu/stat200/node/66."
   ]
  },
  {
   "cell_type": "code",
   "execution_count": null,
   "id": "aa538afa",
   "metadata": {},
   "outputs": [],
   "source": [
    "import pandas as pd\n",
    "import numpy as np\n",
    "%pylab inline\n",
    "pylab.style.use('ggplot')"
   ]
  },
  {
   "cell_type": "markdown",
   "id": "f72f3fa8",
   "metadata": {},
   "source": [
    "One way ANOVA is a statistical method to compare the means of more than two independent groups. This procedure is known as a one-way analysis of variance, or more often as a \"one-way ANOVA.\"\n",
    "\n",
    "This is an improvement over the paired t-test because given n groups, we would have to conduct $\\binom {n}{2}$ tests."
   ]
  },
  {
   "cell_type": "markdown",
   "id": "16fdd092",
   "metadata": {},
   "source": [
    "# The F-Distribution"
   ]
  },
  {
   "cell_type": "markdown",
   "id": "f050a76c",
   "metadata": {},
   "source": [
    "If a random variable X has an F-distribution with parameters d1 and d2, we write X ~ F(d1, d2). Then the probability density function (pdf) for X is given by\n",
    "\n",
    "<img src='https://wikimedia.org/api/rest_v1/media/math/render/svg/a55e68498f7fd2c02998e8692ce340c3e9a5cedf' />\n",
    "\n",
    "The figure below shows the shape of the PDF for different values of d1 and d2, with mean 0 and variance 1, respectively.\n",
    "\n",
    "<img src='https://onlinecourses.science.psu.edu/stat414/sites/onlinecourses.science.psu.edu.stat414/files/lesson53/Lesson32_Drawing02.gif' />"
   ]
  },
  {
   "cell_type": "markdown",
   "id": "0bebfb84",
   "metadata": {},
   "source": [
    "The test statistic is \n",
    "\n",
    "$F = \\dfrac {\\text {between group variability}} {\\text {within group variability}}$"
   ]
  },
  {
   "cell_type": "markdown",
   "id": "a259aaaf",
   "metadata": {},
   "source": [
    "<img src=\"ss_anova.JPG\" />"
   ]
  },
  {
   "cell_type": "markdown",
   "id": "4e732672",
   "metadata": {},
   "source": [
    "Where,\n",
    "\n",
    "k = Number of groups\n",
    "\n",
    "n = Total sample size (all groups combined)\n",
    "\n",
    "$n_k$ = Sample size of group k\n",
    "\n",
    "$\\bar {x_k}$ = Sample mean of group k\n",
    "\n",
    "$\\bar {x}$ = Grand mean (i.e., mean for all groups combined)\n",
    "\n",
    "SS = Sum of squares\n",
    "\n",
    "MS = Mean square\n",
    "\n",
    "df = Degrees of freedom\n",
    "\n",
    "F = F-ratio (the test statistic)"
   ]
  },
  {
   "cell_type": "markdown",
   "id": "4c3d0569",
   "metadata": {},
   "source": [
    "If the p value is less than the desired significance level, then we will reject the null hypothesis, i.e. the means are different."
   ]
  },
  {
   "cell_type": "markdown",
   "id": "d64aa941",
   "metadata": {},
   "source": [
    "# Example"
   ]
  },
  {
   "cell_type": "markdown",
   "id": "d0272148",
   "metadata": {},
   "source": [
    "In this example, we'll look at the well known Diet Dataset."
   ]
  },
  {
   "cell_type": "code",
   "execution_count": null,
   "id": "a5ac5dd5",
   "metadata": {},
   "outputs": [],
   "source": [
    "diet_url = 'https://www.sheffield.ac.uk/polopoly_fs/1.570199!/file/stcp-Rdataset-Diet.csv'\n",
    "diet_df = pd.read_csv(diet_url)"
   ]
  },
  {
   "cell_type": "code",
   "execution_count": null,
   "id": "2877dda8",
   "metadata": {},
   "outputs": [],
   "source": [
    "diet_df.head()"
   ]
  },
  {
   "cell_type": "markdown",
   "id": "3afc4165",
   "metadata": {},
   "source": [
    "First we calculate the weight lost by each person under study."
   ]
  },
  {
   "cell_type": "code",
   "execution_count": null,
   "id": "b0e6be55",
   "metadata": {},
   "outputs": [],
   "source": [
    "diet_df = diet_df.assign(weight_lost=diet_df['pre.weight'] - diet_df.weight6weeks)"
   ]
  },
  {
   "cell_type": "code",
   "execution_count": null,
   "id": "13813510",
   "metadata": {},
   "outputs": [],
   "source": [
    "weight_lost = diet_df.loc[:, ['Diet', 'weight_lost']]"
   ]
  },
  {
   "cell_type": "markdown",
   "id": "257ea756",
   "metadata": {},
   "source": [
    "# Number of Observations per Group"
   ]
  },
  {
   "cell_type": "code",
   "execution_count": null,
   "id": "db7da1f5",
   "metadata": {},
   "outputs": [],
   "source": [
    "weight_lost.Diet.value_counts().plot(kind='bar')"
   ]
  },
  {
   "cell_type": "markdown",
   "id": "e80ace99",
   "metadata": {},
   "source": [
    "# Spread of weight_lost Across Different Groups"
   ]
  },
  {
   "cell_type": "code",
   "execution_count": null,
   "id": "afdc520a",
   "metadata": {},
   "outputs": [],
   "source": [
    "import seaborn as sns\n",
    "fg = sns.FacetGrid(data=weight_lost, col='Diet')\n",
    "fg = fg.map(pylab.hist, 'weight_lost')"
   ]
  },
  {
   "cell_type": "code",
   "execution_count": null,
   "id": "a3a814fb",
   "metadata": {},
   "outputs": [],
   "source": [
    "weight_lost.boxplot(column='weight_lost', by='Diet')"
   ]
  },
  {
   "cell_type": "code",
   "execution_count": null,
   "id": "293b89ce",
   "metadata": {},
   "outputs": [],
   "source": [
    "sns.factorplot(x='weight_lost', col='Diet', data=weight_lost)"
   ]
  },
  {
   "cell_type": "markdown",
   "id": "20c4fe2d",
   "metadata": {},
   "source": [
    "# Calculate the F-statistic and the Corresponding p-value"
   ]
  },
  {
   "cell_type": "code",
   "execution_count": null,
   "id": "d03fa5ef",
   "metadata": {},
   "outputs": [],
   "source": [
    "total_mean = weight_lost.weight_lost.mean()\n",
    "total_std = weight_lost.weight_lost.std()"
   ]
  },
  {
   "cell_type": "code",
   "execution_count": null,
   "id": "0036ca41",
   "metadata": {},
   "outputs": [],
   "source": [
    "group_means = weight_lost.groupby(by='Diet')['weight_lost'].mean()"
   ]
  },
  {
   "cell_type": "code",
   "execution_count": null,
   "id": "dbe3557f",
   "metadata": {},
   "outputs": [],
   "source": [
    "group_means.plot(kind='bar')"
   ]
  },
  {
   "cell_type": "code",
   "execution_count": null,
   "id": "e811f418",
   "metadata": {},
   "outputs": [],
   "source": [
    "group_counts = weight_lost.Diet.value_counts()"
   ]
  },
  {
   "cell_type": "markdown",
   "id": "a2e0ee9b",
   "metadata": {},
   "source": [
    "## MS_Between"
   ]
  },
  {
   "cell_type": "code",
   "execution_count": null,
   "id": "8120d548",
   "metadata": {},
   "outputs": [],
   "source": [
    "SS_between = group_means.sub(total_mean).pow(2.0).mul(group_counts).sum()"
   ]
  },
  {
   "cell_type": "code",
   "execution_count": null,
   "id": "57601693",
   "metadata": {},
   "outputs": [],
   "source": [
    "SS_between"
   ]
  },
  {
   "cell_type": "code",
   "execution_count": null,
   "id": "685b9931",
   "metadata": {},
   "outputs": [],
   "source": [
    "MS_between = SS_between / (len(group_counts) - 1)"
   ]
  },
  {
   "cell_type": "code",
   "execution_count": null,
   "id": "19928d32",
   "metadata": {},
   "outputs": [],
   "source": [
    "MS_between"
   ]
  },
  {
   "cell_type": "markdown",
   "id": "5d8277b9",
   "metadata": {},
   "source": [
    "## MS_Within"
   ]
  },
  {
   "cell_type": "code",
   "execution_count": null,
   "id": "9a6bd013",
   "metadata": {},
   "outputs": [],
   "source": [
    "groups = weight_lost.groupby('Diet')['weight_lost'].groups\n",
    "\n",
    "SS_within = 0\n",
    "\n",
    "for k, v in groups.items():\n",
    "    SS_in_group = weight_lost.loc[v, 'weight_lost'].sub(group_means[k]).pow(2.0).sum()\n",
    "    SS_within += SS_in_group"
   ]
  },
  {
   "cell_type": "code",
   "execution_count": null,
   "id": "df45dd35",
   "metadata": {},
   "outputs": [],
   "source": [
    "SS_within"
   ]
  },
  {
   "cell_type": "code",
   "execution_count": null,
   "id": "aab8a89e",
   "metadata": {},
   "outputs": [],
   "source": [
    "MS_within = SS_within / (len(weight_lost) - len(groups))"
   ]
  },
  {
   "cell_type": "code",
   "execution_count": null,
   "id": "7883c05f",
   "metadata": {},
   "outputs": [],
   "source": [
    "MS_within"
   ]
  },
  {
   "cell_type": "markdown",
   "id": "4b41f986",
   "metadata": {},
   "source": [
    "## F-Statistics"
   ]
  },
  {
   "cell_type": "code",
   "execution_count": null,
   "id": "0f517865",
   "metadata": {},
   "outputs": [],
   "source": [
    "from scipy.stats import f"
   ]
  },
  {
   "cell_type": "code",
   "execution_count": null,
   "id": "d8173947",
   "metadata": {},
   "outputs": [],
   "source": [
    "params = [(2, 4), (12, 12), (9, 9), (4, 6), (100, 100)]\n",
    "x = np.linspace(0.25, 4, num=100)\n",
    "\n",
    "data = []\n",
    "for p in params:\n",
    "    d1, d2 = p\n",
    "    data.append(f.pdf(x, d1, d2))\n",
    "    \n",
    "data_df = pd.DataFrame(data).T\n",
    "data_df.columns = ['d1={}, d2={}'.format(*p) for p in params]\n",
    "data_df = data_df.assign(x=x)"
   ]
  },
  {
   "cell_type": "code",
   "execution_count": null,
   "id": "e6b32076",
   "metadata": {},
   "outputs": [],
   "source": [
    "data_df.set_index('x').plot()"
   ]
  },
  {
   "cell_type": "markdown",
   "id": "578ecb54",
   "metadata": {},
   "source": [
    "The assumptions for a one-way ANOVA are:\n",
    "\n",
    "* Samples are independent\n",
    "* The response variable is approximately normally distributed\n",
    "* The population variances are equal across responses for the group levels (if the largest sample standard deviation divided by the smallest sample standard deviation is not greater than two, then assume that the population variances are equal). "
   ]
  },
  {
   "cell_type": "markdown",
   "id": "59617bae",
   "metadata": {},
   "source": [
    "Given that we are comparing k independent groups, the null and alternative hypotheses are:\n",
    "\n",
    "$H_0$: $\\mu_1 = \\mu_2 = \\cdots = \\mu_k$\n",
    "\n",
    "$H_{alt}$: Not all $\\mu_i$ are equal\n",
    "\n",
    "In other words, the null hypothesis is that at all of the groups' population means are equal.  The alternative is that they are not all equal; there are at two population means that are not equal to one another. "
   ]
  }
 ],
 "metadata": {},
 "nbformat": 4,
 "nbformat_minor": 5
}
