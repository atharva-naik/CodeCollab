{
 "cells": [
  {
   "cell_type": "markdown",
   "id": "bf2bc96d",
   "metadata": {},
   "source": [
    "### Analysis\n",
    "Now that we've sanity-checked the fields, let's take a deeper look at what we have."
   ]
  },
  {
   "cell_type": "code",
   "execution_count": null,
   "id": "b4a66f63",
   "metadata": {},
   "outputs": [],
   "source": [
    "# Calculate which features correlate most strongly to the TARGET variable\n",
    "correlations = application_train.corr()['TARGET'].sort_values()"
   ]
  },
  {
   "cell_type": "code",
   "execution_count": null,
   "id": "64447e6a",
   "metadata": {},
   "outputs": [],
   "source": [
    "strong_correlations = correlations[:10]\n",
    "\n",
    "# We want to omit TARGET, which is always the last record... \n",
    "strong_correlations = strong_correlations.append(correlations[-10:-1])  "
   ]
  },
  {
   "cell_type": "code",
   "execution_count": null,
   "id": "9532fdd3",
   "metadata": {},
   "outputs": [],
   "source": [
    "#display(correlations)\n",
    "display(strong_correlations)"
   ]
  },
  {
   "cell_type": "markdown",
   "id": "5b82491e",
   "metadata": {},
   "source": [
    "Positive values are more closely tied to failure to repay the loan.  Negative values are more closely tied to successful repayments."
   ]
  },
  {
   "cell_type": "markdown",
   "id": "eadac961",
   "metadata": {},
   "source": [
    "### Looking at  Age vs. Repayment\n",
    "Age is strongly closely correlated with failure to repay.  People that have payment problems trend a few years younger. Not super surprising."
   ]
  },
  {
   "cell_type": "code",
   "execution_count": null,
   "id": "856a3059",
   "metadata": {},
   "outputs": [],
   "source": [
    "# Age is represented as a negative integers of days before the application date.\n",
    "# The absolute value divided by 365 should give us age in years... \n",
    "\n",
    "# The average age of someone who pays on time\n",
    "avg_good = np.average(abs(application_train.loc[application_train['TARGET'] == 0, 'DAYS_BIRTH'])) / 365\n",
    "\n",
    "# The average age of someone who defaults\n",
    "avg_bad = np.average(abs(application_train.loc[application_train['TARGET'] == 1, 'DAYS_BIRTH'])) / 365\n",
    "\n",
    "# Examine distribution\n",
    "plt.figure(figsize=(15,10))\n",
    "plt.title(\"Age Distribution in Years\")\n",
    "plt.axvline(avg_good, color=\"blue\")    # Plot the average\n",
    "plt.axvline(avg_bad, color=\"orange\") # Plot the mean\n",
    "\n",
    "sns.kdeplot(abs(application_train.loc[application_train['TARGET'] == 0, 'DAYS_BIRTH']) / 365, label = \"Paid As Expected\", shade=True)\n",
    "sns.kdeplot(abs(application_train.loc[application_train['TARGET'] == 1, 'DAYS_BIRTH']) / 365, label = \"Payment Problems\", shade=True)\n",
    "\n",
    "print(\"Average age of someone who defaults: {0}  Avg age of someone who pays: {1}\".format(avg_bad, avg_good))"
   ]
  },
  {
   "cell_type": "markdown",
   "id": "029cec11",
   "metadata": {},
   "source": [
    "### Employment Length vs Repayment"
   ]
  },
  {
   "cell_type": "code",
   "execution_count": null,
   "id": "172dbc27",
   "metadata": {},
   "outputs": [],
   "source": [
    "# DAYS_EMPLOYED is represented as a negative integers of days before the application date.\n",
    "# The absolute value divided by 365 should give us age in years... \n",
    "\n",
    "# The average age of someone who pays on time\n",
    "avg_good = np.average(abs(application_train.loc[application_train['TARGET'] == 0, 'DAYS_EMPLOYED'])) / 365\n",
    "\n",
    "# The average age of someone who defaults\n",
    "avg_bad = np.average(abs(application_train.loc[application_train['TARGET'] == 1, 'DAYS_EMPLOYED'])) / 365\n",
    "\n",
    "# Examine distribution\n",
    "plt.figure(figsize=(15,10))\n",
    "plt.title(\"Employment in Years\")\n",
    "plt.axvline(avg_good, color=\"blue\")    # Plot the average\n",
    "plt.axvline(avg_bad, color=\"orange\") # Plot the mean\n",
    "\n",
    "sns.kdeplot(abs(application_train.loc[application_train['TARGET'] == 0, 'DAYS_EMPLOYED']) / 365, label = \"Paid As Expected\", shade=True)\n",
    "sns.kdeplot(abs(application_train.loc[application_train['TARGET'] == 1, 'DAYS_EMPLOYED']) / 365, label = \"Payment Problems\", shade=True)\n",
    "\n",
    "print(\"Average employment of someone who defaults: {0}  Avg employment of someone who pays: {1}\".format(avg_bad, avg_good))"
   ]
  },
  {
   "cell_type": "markdown",
   "id": "cb118993",
   "metadata": {},
   "source": [
    "NOTE: There's a large section of the population that has an impossibly high tenure (~1000 years).  This is clearly problematic, and should probably handle it differently."
   ]
  },
  {
   "cell_type": "markdown",
   "id": "3c99f949",
   "metadata": {},
   "source": [
    "### Output\n",
    "\n",
    "Output lists of fields that need transformation for consumption by the preprocessing script"
   ]
  },
  {
   "cell_type": "code",
   "execution_count": null,
   "id": "39a81198",
   "metadata": {},
   "outputs": [],
   "source": [
    "lb = LabelBinarizer()\n",
    "bool_phone = lb.fit_transform(application_train['FLAG_PHONE'])\n",
    "\n",
    "explore_non_numeric(bool_phone)\n",
    "\n",
    "string_to_bool_features.append('FLAG_PHONE')"
   ]
  },
  {
   "cell_type": "markdown",
   "id": "8af11795",
   "metadata": {},
   "source": [
    "#### FLAG_EMAIL\n",
    "Did client provide email (1=YES, 0=NO)"
   ]
  },
  {
   "cell_type": "code",
   "execution_count": null,
   "id": "0bc13f5f",
   "metadata": {},
   "outputs": [],
   "source": [
    "explore_non_numeric(application_train['FLAG_EMAIL'])"
   ]
  },
  {
   "cell_type": "markdown",
   "id": "e29d7a33",
   "metadata": {},
   "source": [
    "### Preprocessing \n",
    "This is a Y/N string field.  We'll re-encode it as a bool for easier analysis later"
   ]
  },
  {
   "cell_type": "code",
   "execution_count": null,
   "id": "e72c66c2",
   "metadata": {},
   "outputs": [],
   "source": [
    "lb = LabelBinarizer()\n",
    "bool_email = lb.fit_transform(application_train['FLAG_EMAIL'])\n",
    "\n",
    "explore_non_numeric(bool_email)\n",
    "\n",
    "string_to_bool_features.append('FLAG_EMAIL')"
   ]
  },
  {
   "cell_type": "markdown",
   "id": "34889e74",
   "metadata": {},
   "source": [
    "#### OCCUPATION_TYPE\n",
    "Family status of the client"
   ]
  },
  {
   "cell_type": "code",
   "execution_count": null,
   "id": "2dd1c774",
   "metadata": {},
   "outputs": [],
   "source": [
    "occupation_type = application_train['OCCUPATION_TYPE']\n",
    "occupation_type = occupation_type.replace(np.nan, \"Missing\")\n",
    "\n",
    "explore_non_numeric(occupation_type)\n",
    "\n",
    "# Swap the normalized data with the original field\n",
    "application_train['OCCUPATION_TYPE_NORMALIZED'] = occupation_type\n",
    "result = application_train.drop('OCCUPATION_TYPE',axis=1)\n",
    "\n",
    "#Track this for one-hot encoding later\n",
    "non_numeric_features.append(\"OCCUPATION_TYPE\");"
   ]
  },
  {
   "cell_type": "markdown",
   "id": "055615ee",
   "metadata": {},
   "source": [
    "#### CNT_FAM_MEMBERS\n",
    "How many family members does client have"
   ]
  },
  {
   "cell_type": "code",
   "execution_count": null,
   "id": "d5188164",
   "metadata": {},
   "outputs": [],
   "source": [
    "cnt_fam_members_numeric = np.nan_to_num(application_train['CNT_FAM_MEMBERS'])\n",
    "explore_numeric(cnt_fam_members_numeric)\n",
    "numeric_features.append(\"CNT_FAM_MEMBERS\")"
   ]
  },
  {
   "cell_type": "markdown",
   "id": "f858ad9c",
   "metadata": {},
   "source": [
    "#### REGION_RATING_CLIENT\n",
    "Our rating of the region where client lives (1,2,3)"
   ]
  },
  {
   "cell_type": "code",
   "execution_count": null,
   "id": "fd4eaeec",
   "metadata": {},
   "outputs": [],
   "source": [
    "explore_numeric(application_train['REGION_RATING_CLIENT'], graphType=\"hist\", bins=3)"
   ]
  },
  {
   "cell_type": "markdown",
   "id": "dbac3d7c",
   "metadata": {},
   "source": [
    "#### REGION_RATING_CLIENT_W_CITY\n",
    "Our rating of the region where client lives with taking city into account (1,2,3)"
   ]
  },
  {
   "cell_type": "code",
   "execution_count": null,
   "id": "96d06456",
   "metadata": {},
   "outputs": [],
   "source": [
    "obs_30 = np.nan_to_num(application_train['OBS_30_CNT_SOCIAL_CIRCLE'])\n",
    "explore_numeric(obs_30)"
   ]
  },
  {
   "cell_type": "markdown",
   "id": "d11f5c61",
   "metadata": {},
   "source": [
    "#### Preprocessing: \n",
    "This feature is highly skewed, in that we have a large number of values near zero, and body of other values distributed across the range.\n",
    "\n",
    "It's common to do a log transformation for fields like this. The result looks much more like a normal distribution, with mean and average values near the peak."
   ]
  },
  {
   "cell_type": "code",
   "execution_count": null,
   "id": "69d7334b",
   "metadata": {},
   "outputs": [],
   "source": [
    "obs_30 = pd.DataFrame(data=obs_30)\n",
    "obs_30_transformed = obs_30.apply(lambda x: np.log(x + 1))\n",
    "\n",
    "#visualize the new distribution\n",
    "explore_numeric(obs_30_transformed, showMeanLines=False)\n",
    "\n",
    "log_transform_features.append('OBS_30_CNT_SOCIAL_CIRCLE')"
   ]
  },
  {
   "cell_type": "markdown",
   "id": "c85f2c5e",
   "metadata": {},
   "source": [
    "#### DEF_30_CNT_SOCIAL_CIRCLE\n",
    "How many observation of client's social surroundings defaulted on 30 DPD (days past due)"
   ]
  },
  {
   "cell_type": "code",
   "execution_count": null,
   "id": "5a53cbfd",
   "metadata": {},
   "outputs": [],
   "source": [
    "def_30 = np.nan_to_num(application_train['DEF_30_CNT_SOCIAL_CIRCLE'])\n",
    "explore_numeric(def_30)"
   ]
  },
  {
   "cell_type": "code",
   "execution_count": null,
   "id": "bc854c50",
   "metadata": {},
   "outputs": [],
   "source": [
    "# We need it to be a DataFrame column\n",
    "def_30 = pd.DataFrame(data=def_30)\n",
    "\n",
    "# Select the column with the actual data\n",
    "def_30 =  def_30[0]\n",
    "\n",
    "# Apply a log transformation\n",
    "def_30_transformed = def_30.apply(lambda x: np.log(x + 1))\n",
    "\n",
    "#visualize the new distribution\n",
    "explore_numeric(def_30_transformed)\n",
    "\n",
    "#numeric_features.append('DEF_30_CNT_SOCIAL_CIRCLE')\n",
    "log_transform_features.append('DEF_30_CNT_SOCIAL_CIRCLE')"
   ]
  },
  {
   "cell_type": "markdown",
   "id": "5a0daf32",
   "metadata": {},
   "source": [
    "#### OBS_60_CNT_SOCIAL_CIRCLE\n",
    "How many observation of client's social surroundings with observable 30 DPD (days past due) default"
   ]
  },
  {
   "cell_type": "code",
   "execution_count": null,
   "id": "333ba70d",
   "metadata": {},
   "outputs": [],
   "source": [
    "obs_60 = np.nan_to_num(application_train['OBS_60_CNT_SOCIAL_CIRCLE'])\n",
    "explore_numeric(obs_60)"
   ]
  },
  {
   "cell_type": "code",
   "execution_count": null,
   "id": "14bcba84",
   "metadata": {},
   "outputs": [],
   "source": [
    "# We need it to be a DataFrame column\n",
    "obs_60 = pd.DataFrame(data=obs_60)\n",
    "\n",
    "# Select the column in the DataFrame with the actual data\n",
    "obs_60 = obs_60[0]\n",
    "\n",
    "obs_60_transformed = obs_60.apply(lambda x: np.log(x + 1))\n",
    "\n",
    "#visualize the new distribution\n",
    "explore_numeric(obs_60_transformed, showMeanLines=False)\n",
    "\n",
    "#numeric_features.append('OBS_60_CNT_SOCIAL_CIRCLE')\n",
    "log_transform_features.append('OBS_60_CNT_SOCIAL_CIRCLE')"
   ]
  },
  {
   "cell_type": "markdown",
   "id": "df677ddf",
   "metadata": {},
   "source": [
    "#### DEF_60_CNT_SOCIAL_CIRCLE\n",
    "How many observation of client's social surroundings defaulted on 60 DPD (days past due)"
   ]
  },
  {
   "cell_type": "code",
   "execution_count": null,
   "id": "90b39296",
   "metadata": {},
   "outputs": [],
   "source": [
    "explore_non_numeric(application_train['REG_CITY_NOT_LIVE_CITY'])"
   ]
  },
  {
   "cell_type": "markdown",
   "id": "434d0dc9",
   "metadata": {},
   "source": [
    "#### REG_CITY_NOT_WORK_CITY\n",
    "Flag if client's permanent address does not match work address (1=different, 0=same, at city level)"
   ]
  },
  {
   "cell_type": "code",
   "execution_count": null,
   "id": "9021cec4",
   "metadata": {},
   "outputs": [],
   "source": [
    "explore_non_numeric(application_train['REG_CITY_NOT_WORK_CITY'])"
   ]
  },
  {
   "cell_type": "markdown",
   "id": "015cff92",
   "metadata": {},
   "source": [
    "#### LIVE_CITY_NOT_WORK_CITY\n",
    "Flag if client's contact address does not match work address (1=different, 0=same, at city level)"
   ]
  },
  {
   "cell_type": "code",
   "execution_count": null,
   "id": "eff92412",
   "metadata": {},
   "outputs": [],
   "source": [
    "explore_non_numeric(application_train['LIVE_CITY_NOT_WORK_CITY'])"
   ]
  },
  {
   "cell_type": "markdown",
   "id": "4f68016f",
   "metadata": {},
   "source": [
    "#### ORGANIZATION_TYPE\n",
    "Type of organization where client works"
   ]
  },
  {
   "cell_type": "code",
   "execution_count": null,
   "id": "857b5bb8",
   "metadata": {},
   "outputs": [],
   "source": [
    "explore_non_numeric(application_train['ORGANIZATION_TYPE'])\n",
    "\n",
    "# Keep track for one-hot encoding later\n",
    "non_numeric_features.append(\"ORGANIZATION_TYPE\")"
   ]
  },
  {
   "cell_type": "markdown",
   "id": "9e75124f",
   "metadata": {},
   "source": [
    "#### FONDKAPREMONT_MODE\n",
    "Not sure - Described as \"normalized\""
   ]
  },
  {
   "cell_type": "code",
   "execution_count": null,
   "id": "358f8b9c",
   "metadata": {},
   "outputs": [],
   "source": [
    "#explore_non_numeric(application_train['FONDKAPREMONT_MODE'])\n",
    "application_train['FONDKAPREMONT_MODE'] = application_train['FONDKAPREMONT_MODE'].replace({np.nan: \"not specified\"})\n",
    "\n",
    "explore_non_numeric(application_train['FONDKAPREMONT_MODE'])\n",
    "\n",
    "# Keep track for one-hot encoding later\n",
    "non_numeric_features.append(\"FONDKAPREMONT_MODE\")"
   ]
  },
  {
   "cell_type": "markdown",
   "id": "c5c437bc",
   "metadata": {},
   "source": [
    "#### EMERGENCYSTATE_MODE\n",
    "Not sure - Described as \"normalized\""
   ]
  },
  {
   "cell_type": "code",
   "execution_count": null,
   "id": "7a246d91",
   "metadata": {},
   "outputs": [],
   "source": [
    "#explore_non_numeric(application_train['FONDKAPREMONT_MODE'])\n",
    "application_train['EMERGENCYSTATE_MODE'] = application_train['EMERGENCYSTATE_MODE'].replace({np.nan: \"not specified\"})\n",
    "\n",
    "explore_non_numeric(application_train['EMERGENCYSTATE_MODE'])\n",
    "\n",
    "# Keep track for one-hot encoding later\n",
    "non_numeric_features.append(\"EMERGENCYSTATE_MODE\")"
   ]
  },
  {
   "cell_type": "markdown",
   "id": "407fcac3",
   "metadata": {},
   "source": [
    "#### HOUSETYPE_MODE\n",
    "Not sure - Described as \"normalized\""
   ]
  },
  {
   "cell_type": "code",
   "execution_count": null,
   "id": "724eb5d5",
   "metadata": {},
   "outputs": [],
   "source": [
    "explore_numeric(application_train['REGION_RATING_CLIENT_W_CITY'],graphType=\"hist\",bins=3)"
   ]
  },
  {
   "cell_type": "markdown",
   "id": "37e1b0cb",
   "metadata": {},
   "source": [
    "#### WEEKDAY_APPR_PROCESS_START\n",
    "On which day of the week did the client apply for the loan"
   ]
  },
  {
   "cell_type": "code",
   "execution_count": null,
   "id": "91b03bb0",
   "metadata": {},
   "outputs": [],
   "source": [
    "explore_non_numeric(application_train['WEEKDAY_APPR_PROCESS_START'])\n",
    "non_numeric_features.append(\"WEEKDAY_APPR_PROCESS_START\")"
   ]
  },
  {
   "cell_type": "markdown",
   "id": "0d228125",
   "metadata": {},
   "source": [
    "#### HOUR_APPR_PROCESS_START\n",
    "Approximately at what hour did the client apply for the loan"
   ]
  },
  {
   "cell_type": "code",
   "execution_count": null,
   "id": "93df2304",
   "metadata": {},
   "outputs": [],
   "source": [
    "'''\n",
    "NOTE: Although this field is an integer, it rrepresents the hour at which the application was filed.\n",
    "Simply treating it as an integer would impart a higher weight to applications filed later in the day, \n",
    "which doesn't really make any sense.  \n",
    "\n",
    "Instead, I'm treating them as 24 separate categories and one-hot encoding them. \n",
    "\n",
    "This should ensure that the application time is considered, but not arbitrarily weighted.\n",
    "'''\n",
    "explore_non_numeric(application_train['HOUR_APPR_PROCESS_START'])\n",
    "non_numeric_features.append(\"HOUR_APPR_PROCESS_START\")"
   ]
  },
  {
   "cell_type": "markdown",
   "id": "48fa5ec9",
   "metadata": {},
   "source": [
    "#### REG_REGION_NOT_LIVE_REGION\n",
    "Flag if client's permanent address does not match contact address (1=different, 0=same, at region level)"
   ]
  },
  {
   "cell_type": "code",
   "execution_count": null,
   "id": "59e8dc0c",
   "metadata": {},
   "outputs": [],
   "source": [
    "explore_non_numeric(application_train['REG_REGION_NOT_LIVE_REGION'])"
   ]
  },
  {
   "cell_type": "markdown",
   "id": "7ac1ce05",
   "metadata": {},
   "source": [
    "#### REG_REGION_NOT_WORK_REGION\n",
    "Flag if client's permanent address does not match work address (1=different, 0=same, at region level)"
   ]
  },
  {
   "cell_type": "code",
   "execution_count": null,
   "id": "92c84c45",
   "metadata": {},
   "outputs": [],
   "source": [
    "explore_non_numeric(application_train['REG_REGION_NOT_WORK_REGION'])"
   ]
  },
  {
   "cell_type": "markdown",
   "id": "55d67d8c",
   "metadata": {},
   "source": [
    "#### LIVE_REGION_NOT_WORK_REGION\n",
    "Flag if client's contact address does not match work address (1=different, 0=same, at region level)"
   ]
  },
  {
   "cell_type": "code",
   "execution_count": null,
   "id": "70f18db4",
   "metadata": {},
   "outputs": [],
   "source": [
    "explore_non_numeric(application_train['LIVE_REGION_NOT_WORK_REGION'])"
   ]
  },
  {
   "cell_type": "markdown",
   "id": "8d04e748",
   "metadata": {},
   "source": [
    "#### REG_CITY_NOT_LIVE_CITY\n",
    "Flag if client's permanent address does not match contact address (1=different, 0=same, at city level)"
   ]
  },
  {
   "cell_type": "code",
   "execution_count": null,
   "id": "111aa461",
   "metadata": {},
   "outputs": [],
   "source": [
    "# Convert Non-Numerics\n",
    "amt_annuity = np.nan_to_num(application_train['AMT_ANNUITY'], copy=True)\n",
    "explore_numeric(amt_annuity)"
   ]
  },
  {
   "cell_type": "markdown",
   "id": "2abe3c48",
   "metadata": {},
   "source": [
    "#### Preprocessing: \n",
    "This feature is skewed right, in that we have a large number of values near zero, and body of other values distributed across the range.\n",
    "\n",
    "It's common to do a log transformation for fields like this. The result looks normally distributed."
   ]
  },
  {
   "cell_type": "code",
   "execution_count": null,
   "id": "a5c02b63",
   "metadata": {},
   "outputs": [],
   "source": [
    "annuity = application_train['AMT_ANNUITY']\n",
    "annuity_transformed = annuity.apply(lambda x: np.log(x + 1))\n",
    "annuity_transformed_numeric = np.nan_to_num(annuity_transformed, copy=True)\n",
    "\n",
    "#visualize the new distribution\n",
    "explore_numeric(annuity_transformed_numeric)\n",
    "\n",
    "numeric_features.append('AMT_ANNUITY')\n",
    "#log_transform_features.append('AMT_ANNUITY')"
   ]
  },
  {
   "cell_type": "markdown",
   "id": "2527c336",
   "metadata": {},
   "source": [
    "#### AMT_GOODS_PRICE\n",
    "For consumer loans it is the price of the goods for which the loan is given"
   ]
  },
  {
   "cell_type": "code",
   "execution_count": null,
   "id": "69d0a5d3",
   "metadata": {},
   "outputs": [],
   "source": [
    "# Convert Non-Numerics\n",
    "amt_goods_price = np.nan_to_num(application_train['AMT_GOODS_PRICE'], copy=True)\n",
    "explore_numeric(amt_goods_price)"
   ]
  },
  {
   "cell_type": "code",
   "execution_count": null,
   "id": "b892f91e",
   "metadata": {},
   "outputs": [],
   "source": [
    "goods_price = application_train['AMT_GOODS_PRICE']\n",
    "goods_price_transformed = goods_price.apply(lambda x: np.log(x + 1))\n",
    "goods_price_transformed_numeric = np.nan_to_num(goods_price_transformed, copy=True)\n",
    "\n",
    "#visualize the new distribution\n",
    "explore_numeric(goods_price_transformed_numeric)\n",
    "\n",
    "numeric_features.append('AMT_GOODS_PRICE')\n",
    "#log_transform_features.append('AMT_GOODS_PRICE')"
   ]
  },
  {
   "cell_type": "markdown",
   "id": "be2c30de",
   "metadata": {},
   "source": [
    "#### NAME_TYPE_SUITE\n",
    "Who was accompanying client when he was applying for the loan"
   ]
  },
  {
   "cell_type": "code",
   "execution_count": null,
   "id": "0892de98",
   "metadata": {},
   "outputs": [],
   "source": [
    "# Replace any nans with a string for easier encoding\n",
    "# https://stackoverflow.com/questions/43066071/replace-numpy-nan-with-string-in-list-with-strings\n",
    "name_type_suite = ['missing' if x is np.nan else x for x in application_train['NAME_TYPE_SUITE']]\n",
    "\n",
    "explore_non_numeric(name_type_suite)\n",
    "\n",
    "# Replace original data with modified data\n",
    "application_train['NAME_TYPE_SUITE_NORMALIZED'] = name_type_suite\n",
    "result = application_train.drop('NAME_TYPE_SUITE',axis=1)\n",
    "\n",
    "# One-Hot Encode This Later\n",
    "non_numeric_features.append('NAME_TYPE_SUITE')"
   ]
  },
  {
   "cell_type": "markdown",
   "id": "f0d9b24d",
   "metadata": {},
   "source": [
    "#### NAME_INCOME_TYPE\n",
    "Clients income type (businessman, working, maternity leave)"
   ]
  },
  {
   "cell_type": "code",
   "execution_count": null,
   "id": "14895911",
   "metadata": {},
   "outputs": [],
   "source": [
    "explore_non_numeric(application_train['NAME_INCOME_TYPE'])\n",
    "\n",
    "# One-Hot Encode This Later\n",
    "non_numeric_features.append(\"NAME_INCOME_TYPE\")"
   ]
  },
  {
   "cell_type": "markdown",
   "id": "d30c20d9",
   "metadata": {},
   "source": [
    "#### NAME_EDUCATION_TYPE\n",
    "Level of highest education the client achieved"
   ]
  },
  {
   "cell_type": "code",
   "execution_count": null,
   "id": "e96c51d1",
   "metadata": {},
   "outputs": [],
   "source": [
    "explore_numeric(application_train['DAYS_EMPLOYED'])"
   ]
  },
  {
   "cell_type": "markdown",
   "id": "7d29c391",
   "metadata": {},
   "source": [
    "#### Preprocessing: \n",
    "There's a large body of outliers that indicate that someone has worked ~100 years.  This is clearly wrong.  Also, I don't expect this field to be normally distributed (I think you'd see a decreasing number of people employed in the same role over time and a body of people with no job or no work history), so doing a log transformation seems inappropriate.\n"
   ]
  },
  {
   "cell_type": "code",
   "execution_count": null,
   "id": "19d24157",
   "metadata": {},
   "outputs": [],
   "source": [
    "days_employed = application_train['DAYS_EMPLOYED']\n",
    "\n",
    "# A bunch of records indicate that the person has worked for ~100 years.\n",
    "# We'll need to replace those\n",
    "days_employed = days_employed.replace({365243: 0})\n",
    "\n",
    "#visualize the new distribution\n",
    "explore_numeric(days_employed)\n",
    "\n",
    "# Swap the normalized data with the original field\n",
    "application_train['DAYS_EMPLOYED_TRANSFORMED'] = days_employed\n",
    "result = application_train.drop('DAYS_EMPLOYED',axis=1)\n",
    "\n",
    "# Add to our list of numeric features so that we scale the values appropriately later\n",
    "numeric_features.append('DAYS_EMPLOYED')"
   ]
  },
  {
   "cell_type": "markdown",
   "id": "0bc77267",
   "metadata": {},
   "source": [
    "#### DAYS_REGISTRATION\n",
    "How many days before the application did client change his registration"
   ]
  },
  {
   "cell_type": "code",
   "execution_count": null,
   "id": "266983d3",
   "metadata": {},
   "outputs": [],
   "source": [
    "explore_numeric(application_train['DAYS_REGISTRATION'])\n",
    "numeric_features.append('DAYS_REGISTRATION')"
   ]
  },
  {
   "cell_type": "markdown",
   "id": "a4177ac4",
   "metadata": {},
   "source": [
    "#### DAYS_ID_PUBLISH\n",
    "How many days before the application did client change the identity document with which he applied for the loan"
   ]
  },
  {
   "cell_type": "code",
   "execution_count": null,
   "id": "4f336497",
   "metadata": {},
   "outputs": [],
   "source": [
    "days_id_publish = application_train['DAYS_ID_PUBLISH']\n",
    "numeric_features.append('DAYS_ID_PUBLISH')"
   ]
  },
  {
   "cell_type": "markdown",
   "id": "f8276711",
   "metadata": {},
   "source": [
    "#### OWN_CAR_AGE\n",
    "Age of client's car"
   ]
  },
  {
   "cell_type": "code",
   "execution_count": null,
   "id": "14351e83",
   "metadata": {},
   "outputs": [],
   "source": [
    "own_car_age = application_train['OWN_CAR_AGE']\n",
    "own_car_age_numeric = np.nan_to_num(application_train['OWN_CAR_AGE'])\n",
    "own_car_age_numeric = pd.DataFrame(data=own_car_age_numeric)\n",
    "explore_numeric(own_car_age_numeric, showMeanLines=False)"
   ]
  },
  {
   "cell_type": "markdown",
   "id": "88064557",
   "metadata": {},
   "source": [
    "#### Preprocessing: \n",
    "This feature is skewed right, in that we have a large number of values near zero, and body of other values distributed across the range.\n",
    "\n",
    "It's common to do a log transformation for fields like this. The result looks more normally distributed, and I think the high representation of people with new or no cars is more reasonable."
   ]
  },
  {
   "cell_type": "code",
   "execution_count": null,
   "id": "b6e85ff6",
   "metadata": {},
   "outputs": [],
   "source": [
    "own_car_age_numeric_transformed = own_car_age_numeric.apply(lambda x: np.log(x + 1))\n",
    "\n",
    "#visualize the new distribution\n",
    "explore_numeric(own_car_age_numeric_transformed, showMeanLines=False)\n",
    "\n",
    "#numeric_features.append('OWN_CAR_AGE')\n",
    "log_transform_features.append('OWN_CAR_AGE')"
   ]
  },
  {
   "cell_type": "markdown",
   "id": "59b5bd55",
   "metadata": {},
   "source": [
    "#### FLAG_MOBIL\n",
    "Did client provide mobile phone (1=YES, 0=NO)"
   ]
  },
  {
   "cell_type": "code",
   "execution_count": null,
   "id": "d73c1b21",
   "metadata": {},
   "outputs": [],
   "source": [
    "explore_numeric(application_train['AMT_INCOME_TOTAL'])"
   ]
  },
  {
   "cell_type": "code",
   "execution_count": null,
   "id": "df7de78e",
   "metadata": {},
   "outputs": [],
   "source": [
    "income_total = application_train['AMT_INCOME_TOTAL']\n",
    "income_total_transformed = income_total.apply(lambda x: np.log(x + 1))\n",
    "\n",
    "#visualize the new distribution\n",
    "explore_numeric(income_total_transformed)\n",
    "\n",
    "# Let's just try this with outlier removal\n",
    "numeric_features.append('AMT_INCOME_TOTAL')\n",
    "\n",
    "#log_transform_features.append('AMT_INCOME_TOTAL')"
   ]
  },
  {
   "cell_type": "markdown",
   "id": "13c63bb0",
   "metadata": {},
   "source": [
    "#### AMT_CREDIT\n",
    "Credit amount of the loan"
   ]
  },
  {
   "cell_type": "code",
   "execution_count": null,
   "id": "09578244",
   "metadata": {},
   "outputs": [],
   "source": [
    "explore_numeric(application_train['AMT_CREDIT'])"
   ]
  },
  {
   "cell_type": "code",
   "execution_count": null,
   "id": "564a0649",
   "metadata": {},
   "outputs": [],
   "source": [
    "credit_total = application_train['AMT_CREDIT']\n",
    "credit_total_transformed = credit_total.apply(lambda x: np.log(x + 1))\n",
    "\n",
    "#visualize the new distribution\n",
    "explore_numeric(credit_total_transformed)\n",
    "\n",
    "\n",
    "numeric_features.append('AMT_CREDIT')\n",
    "\n",
    "#log_transform_features.append('AMT_CREDIT')"
   ]
  },
  {
   "cell_type": "markdown",
   "id": "984946ac",
   "metadata": {},
   "source": [
    "#### AMT_ANNUITY\n",
    "Loan annuity"
   ]
  },
  {
   "cell_type": "code",
   "execution_count": null,
   "id": "52059d78",
   "metadata": {},
   "outputs": [],
   "source": [
    "def_60 = np.nan_to_num(application_train['DEF_60_CNT_SOCIAL_CIRCLE'])\n",
    "explore_numeric(def_60)"
   ]
  },
  {
   "cell_type": "code",
   "execution_count": null,
   "id": "7670e3a8",
   "metadata": {},
   "outputs": [],
   "source": [
    "# We need it to be a DataFrame column\n",
    "def_60 = pd.DataFrame(data=def_60)\n",
    "\n",
    "# Select the column in the DataFrame with the actual data\n",
    "def_60 = def_60[0]\n",
    "\n",
    "def_60_transformed = def_60.apply(lambda x: np.log(x + 1))\n",
    "\n",
    "#visualize the new distribution\n",
    "explore_numeric(def_60_transformed)\n",
    "\n",
    "#numeric_features.append('DEF_60_CNT_SOCIAL_CIRCLE')\n",
    "log_transform_features.append('DEF_60_CNT_SOCIAL_CIRCLE')"
   ]
  },
  {
   "cell_type": "markdown",
   "id": "e649e9ab",
   "metadata": {},
   "source": [
    "#### DAYS_LAST_PHONE_CHANGE\n",
    "How many days before application did client change phone"
   ]
  },
  {
   "cell_type": "code",
   "execution_count": null,
   "id": "f173dad7",
   "metadata": {},
   "outputs": [],
   "source": [
    "application_train['HOUSETYPE_MODE'] = application_train['HOUSETYPE_MODE'].replace({np.nan: \"not specified\"})\n",
    "\n",
    "explore_non_numeric(application_train['HOUSETYPE_MODE'])\n",
    "\n",
    "# Keep track for one-hot encoding later\n",
    "non_numeric_features.append(\"HOUSETYPE_MODE\")"
   ]
  },
  {
   "cell_type": "markdown",
   "id": "b72c2e43",
   "metadata": {},
   "source": [
    "#### WALLSMATERIAL_MODE\n",
    "Not sure - Described as \"normalized\""
   ]
  },
  {
   "cell_type": "code",
   "execution_count": null,
   "id": "28459bc3",
   "metadata": {},
   "outputs": [],
   "source": [
    "application_train['WALLSMATERIAL_MODE'] = application_train['WALLSMATERIAL_MODE'].replace({np.nan: \"not specified\"})\n",
    "\n",
    "explore_non_numeric(application_train['WALLSMATERIAL_MODE'])\n",
    "\n",
    "# Keep track for one-hot encoding later\n",
    "non_numeric_features.append(\"WALLSMATERIAL_MODE\")"
   ]
  },
  {
   "cell_type": "markdown",
   "id": "e2733a41",
   "metadata": {},
   "source": [
    "#### EXT_SOURCE_1\n",
    "Normalized score from external data source"
   ]
  },
  {
   "cell_type": "code",
   "execution_count": null,
   "id": "178775f2",
   "metadata": {},
   "outputs": [],
   "source": [
    "ext_source_1 = np.nan_to_num(application_train['EXT_SOURCE_1'])\n",
    "explore_numeric(ext_source_1)"
   ]
  },
  {
   "cell_type": "markdown",
   "id": "4d316b79",
   "metadata": {},
   "source": [
    "#### EXT_SOURCE_2\n",
    "Normalized score from external data source"
   ]
  },
  {
   "cell_type": "code",
   "execution_count": null,
   "id": "7cbd6167",
   "metadata": {},
   "outputs": [],
   "source": [
    "ext_source_2 = np.nan_to_num(application_train['EXT_SOURCE_2'])\n",
    "explore_numeric(ext_source_1)"
   ]
  },
  {
   "cell_type": "markdown",
   "id": "be63b05c",
   "metadata": {},
   "source": [
    "#### EXT_SOURCE_3\n",
    "Normalized score from external data source"
   ]
  },
  {
   "cell_type": "code",
   "execution_count": null,
   "id": "859b8066",
   "metadata": {},
   "outputs": [],
   "source": [
    "ext_source_3 = np.nan_to_num(application_train['EXT_SOURCE_3'])\n",
    "explore_numeric(ext_source_3)"
   ]
  },
  {
   "cell_type": "markdown",
   "id": "1eb91851",
   "metadata": {},
   "source": [
    "#### APARTMENTS_AVG\n",
    "Normalized information about building where the client lives, What is average (_AVG suffix), modus (_MODE suffix), median (_MEDI suffix) apartment size, common area, living area, age of building, number of elevators, number of entrances, state of the building, number of floor"
   ]
  },
  {
   "cell_type": "code",
   "execution_count": null,
   "id": "0ca08541",
   "metadata": {},
   "outputs": [],
   "source": [
    "explore_non_numeric(application_train['FLAG_OWN_REALTY'])"
   ]
  },
  {
   "cell_type": "code",
   "execution_count": null,
   "id": "c4b0a484",
   "metadata": {},
   "outputs": [],
   "source": [
    "lb = LabelBinarizer()\n",
    "bool_own_realty = lb.fit_transform(application_train['FLAG_OWN_REALTY'])\n",
    "\n",
    "explore_non_numeric(bool_own_realty)\n",
    "\n",
    "string_to_bool_features.append('FLAG_OWN_REALTY')"
   ]
  },
  {
   "cell_type": "markdown",
   "id": "ca1f0419",
   "metadata": {},
   "source": [
    "### CNT_CHILDREN\n",
    "Number of children the client has"
   ]
  },
  {
   "cell_type": "code",
   "execution_count": null,
   "id": "59069ae7",
   "metadata": {},
   "outputs": [],
   "source": [
    "explore_numeric(application_train['CNT_CHILDREN'])   "
   ]
  },
  {
   "cell_type": "markdown",
   "id": "4a98a59f",
   "metadata": {},
   "source": [
    "#### Preprocessing: \n",
    "This feature is highly skewed, in that we have a large number of values near zero, and body of other values distributed across the range.\n",
    "\n",
    "It's common to do a log transformation for fields like this. "
   ]
  },
  {
   "cell_type": "code",
   "execution_count": null,
   "id": "b04e037c",
   "metadata": {},
   "outputs": [],
   "source": [
    "cnt_children = application_train['CNT_CHILDREN']\n",
    "cnt_children_transformed = cnt_children.apply(lambda x: np.log(x + 1))\n",
    "\n",
    "#visualize the new distribution\n",
    "explore_numeric(cnt_children_transformed, graphType=\"hist\", bins=5)\n",
    "\n",
    "# I think outlier removal might be a better way to handle this\n",
    "#numeric_features.append('CNT_CHILDREN')\n",
    "log_transform_features.append('CNT_CHILDREN')"
   ]
  },
  {
   "cell_type": "markdown",
   "id": "b843fe6b",
   "metadata": {},
   "source": [
    "\n",
    "\n",
    "##### AMT_INCOME_TOTAL\n",
    "Income of the client"
   ]
  },
  {
   "cell_type": "code",
   "execution_count": null,
   "id": "cc6e6ecb",
   "metadata": {},
   "outputs": [],
   "source": [
    "apartments_avg = np.nan_to_num(application_train['APARTMENTS_AVG'])\n",
    "explore_numeric(apartments_avg)"
   ]
  },
  {
   "cell_type": "markdown",
   "id": "1ef86695",
   "metadata": {},
   "source": [
    "#### BASEMENTAREA_AVG\n",
    "Normalized information about building where the client lives, What is average (_AVG suffix), modus (_MODE suffix), median (_MEDI suffix) apartment size, common area, living area, age of building, number of elevators, number of entrances, state of the building, number of floor"
   ]
  },
  {
   "cell_type": "code",
   "execution_count": null,
   "id": "135e1599",
   "metadata": {},
   "outputs": [],
   "source": [
    "basementarea_avg = np.nan_to_num(application_train['BASEMENTAREA_AVG'])\n",
    "explore_numeric(basementarea_avg)"
   ]
  },
  {
   "cell_type": "markdown",
   "id": "027f5887",
   "metadata": {},
   "source": [
    "#### YEARS_BEGINEXPLUATATION_AVG\n",
    "Normalized information about building where the client lives, What is average (_AVG suffix), modus (_MODE suffix), median (_MEDI suffix) apartment size, common area, living area, age of building, number of elevators, number of entrances, state of the building, number of floor"
   ]
  },
  {
   "cell_type": "code",
   "execution_count": null,
   "id": "de4e904f",
   "metadata": {},
   "outputs": [],
   "source": [
    "non_numeric_features = []    # non-numeric features for one-hot encoding\n",
    "numeric_features = []        # numeric features (for feature scaling)\n",
    "string_to_bool_features = [] # boolean features (that need conversion from string to binary)\n",
    "log_transform_features = []  # skewed features that need log transformation"
   ]
  },
  {
   "cell_type": "markdown",
   "id": "4258e799",
   "metadata": {},
   "source": [
    "### Inspect Data"
   ]
  },
  {
   "cell_type": "markdown",
   "id": "1162a5af",
   "metadata": {},
   "source": [
    "#### Application Data"
   ]
  },
  {
   "cell_type": "code",
   "execution_count": null,
   "id": "1f1fbaaa",
   "metadata": {},
   "outputs": [],
   "source": [
    "display(application_train.head(n=10))"
   ]
  },
  {
   "cell_type": "markdown",
   "id": "16fbcd42",
   "metadata": {},
   "source": [
    "### Utility Functions"
   ]
  },
  {
   "cell_type": "code",
   "execution_count": null,
   "id": "3bed8240",
   "metadata": {},
   "outputs": [],
   "source": [
    "# Visualize the contents of a non-numeric column\n",
    "\n",
    "def explore_non_numeric(field, showDetails=True):\n",
    "\n",
    "    # Inspired By: \n",
    "    # https://stackoverflow.com/questions/10741346/numpy-most-efficient-frequency-counts-for-unique-values-in-an-array\n",
    "\n",
    "    unique, counts = np.unique(field, return_counts=True)\n",
    "    total_records = np.size(field)\n",
    "\n",
    "    if (showDetails): \n",
    "        i = 0\n",
    "        while i < np.size(unique): \n",
    "            percentage = (counts[i] / total_records) * 100\n",
    "            print(\"Value: {0} Count: {1} Percentage: {2}\".format(unique[i], counts[i], percentage))\n",
    "            i += 1\n",
    "\n",
    "    # Example code from: https://matplotlib.org/examples/pie_and_polar_charts/pie_demo_features.html\n",
    "    fig1, ax1 = plt.subplots()\n",
    "    ax1.pie(counts, labels=unique, autopct='%1.1f%%',shadow=True, startangle=90)\n",
    "    ax1.axis('equal')  # Equal aspect ratio ensures that pie is drawn as a circle.\n",
    "    plt.show()"
   ]
  },
  {
   "cell_type": "code",
   "execution_count": null,
   "id": "1a9b299d",
   "metadata": {},
   "outputs": [],
   "source": [
    "# Visualize the contents of a numeric column\n",
    "\n",
    "def explore_numeric(field, showUnique=False, graphType=\"dist\", bins=20, showMeanLines=True):     \n",
    "    mean = np.mean(field)\n",
    "    avg = np.average(field)\n",
    "    \n",
    "    # Take a look at the range\n",
    "    print(\"Max: {0} Min: {1} Mean: {2} Avg: {3} Std: {4}\".format(\n",
    "    np.max(field),\n",
    "    np.min(field),\n",
    "    mean,\n",
    "    avg,\n",
    "    np.std(field)))\n",
    "\n",
    "    # Unique Values\n",
    "    # print(\"Values: {0}\".format(application_train['CNT_CHILDREN'].unique()))\n",
    "\n",
    "    if (showUnique): \n",
    "    \n",
    "        unique, counts = np.unique(application_train['CNT_CHILDREN'], return_counts=True)\n",
    "        total_records = np.size(application_train['CNT_CHILDREN'])\n",
    "\n",
    "        i = 0\n",
    "        while i < np.size(unique): \n",
    "            percentage = (counts[i] / total_records) * 100\n",
    "            print(\"Value: {0} Count: {1} Percentage: {2}\".format(unique[i], counts[i], percentage))\n",
    "            i += 1\n",
    "\n",
    "    # Examine distribution\n",
    "    plt.figure(figsize=(15,10))\n",
    "    plt.title(\"Distribution Graph\")\n",
    "    if (showMeanLines):\n",
    "        plt.axvline(avg, color=\"red\")    # Plot the average\n",
    "        plt.axvline(mean, color=\"green\") # Plot the mean\n",
    "    \n",
    "    if (graphType == \"hist\"): \n",
    "        sns.distplot(field,bins=bins)\n",
    "    else: \n",
    "        sns.distplot(field)"
   ]
  },
  {
   "cell_type": "markdown",
   "id": "b36da435",
   "metadata": {},
   "source": [
    "#### TARGET\n",
    "\n",
    "Target variable (1 - client with payment difficulties: he/she had late payment more than X days on at least one of the first Y installments of the loan in our sample, 0 - all other cases)"
   ]
  },
  {
   "cell_type": "code",
   "execution_count": null,
   "id": "cac0d363",
   "metadata": {},
   "outputs": [],
   "source": [
    "explore_non_numeric(application_train['TARGET'])"
   ]
  },
  {
   "cell_type": "markdown",
   "id": "a8986ea7",
   "metadata": {},
   "source": [
    "#### CODE_GENDER\n",
    "Gender of the client"
   ]
  },
  {
   "cell_type": "code",
   "execution_count": null,
   "id": "4f1b52ab",
   "metadata": {},
   "outputs": [],
   "source": [
    "explore_non_numeric(application_train['CODE_GENDER'])\n",
    "\n",
    "# Categorize it for one-hot encoding later\n",
    "non_numeric_features.append('CODE_GENDER')"
   ]
  },
  {
   "cell_type": "markdown",
   "id": "cc332cce",
   "metadata": {},
   "source": [
    "#### NAME_CONTRACT_TYPE\n",
    "Identification if loan is cash or revolving"
   ]
  },
  {
   "cell_type": "code",
   "execution_count": null,
   "id": "08278961",
   "metadata": {},
   "outputs": [],
   "source": [
    "days = np.nan_to_num(application_train['DAYS_LAST_PHONE_CHANGE'])\n",
    "explore_numeric(days)"
   ]
  },
  {
   "cell_type": "code",
   "execution_count": null,
   "id": "7ded9770",
   "metadata": {},
   "outputs": [],
   "source": [
    "days = pd.DataFrame(data=days)\n",
    "\n",
    "# Select the column in the DataFrame with the actual data\n",
    "days = days[0]\n",
    "\n",
    "# Negative numbers are undefined for log, so offset them into the positive range\n",
    "min = np.min(days)\n",
    "offset = 2 * abs(min)\n",
    "\n",
    "days_transformed = days.apply(lambda x: np.log(x + offset + 1))\n",
    "\n",
    "#visualize the new distribution\n",
    "explore_numeric(np.nan_to_num(days_transformed), showMeanLines=False)\n",
    "\n",
    "#numeric_features.append('DAYS_LAST_PHONE_CHANGE')\n",
    "log_transform_features.append('DAYS_LAST_PHONE_CHANGE')"
   ]
  },
  {
   "cell_type": "markdown",
   "id": "3812ed8c",
   "metadata": {},
   "source": [
    "#### AMT_REQ_CREDIT_BUREAU_HOUR\n",
    "Number of enquiries to Credit Bureau about the client one hour before application"
   ]
  },
  {
   "cell_type": "code",
   "execution_count": null,
   "id": "5f6c3cbf",
   "metadata": {},
   "outputs": [],
   "source": [
    "hour = np.nan_to_num(application_train['AMT_REQ_CREDIT_BUREAU_HOUR'])\n",
    "explore_numeric(hour)\n",
    "numeric_features.append(\"AMT_REQ_CREDIT_BUREAU_HOUR\")"
   ]
  },
  {
   "cell_type": "markdown",
   "id": "95b6d68b",
   "metadata": {},
   "source": [
    "#### AMT_REQ_CREDIT_BUREAU_DAY\n",
    "Number of enquiries to Credit Bureau about the client one day before application (excluding one hour before application)"
   ]
  },
  {
   "cell_type": "code",
   "execution_count": null,
   "id": "cc91fa57",
   "metadata": {},
   "outputs": [],
   "source": [
    "day = np.nan_to_num(application_train['AMT_REQ_CREDIT_BUREAU_DAY'])\n",
    "explore_numeric(day)\n",
    "numeric_features.append(\"AMT_REQ_CREDIT_BUREAU_DAY\")"
   ]
  },
  {
   "cell_type": "markdown",
   "id": "9aa0e37b",
   "metadata": {},
   "source": [
    "#### AMT_REQ_CREDIT_BUREAU_WEEK\n",
    "Number of enquiries to Credit Bureau about the client one week before application (excluding one day before application)"
   ]
  },
  {
   "cell_type": "code",
   "execution_count": null,
   "id": "4b94393a",
   "metadata": {},
   "outputs": [],
   "source": [
    "hour = np.nan_to_num(application_train['AMT_REQ_CREDIT_BUREAU_WEEK'])\n",
    "explore_numeric(hour)\n",
    "numeric_features.append(\"AMT_REQ_CREDIT_BUREAU_WEEK\")"
   ]
  },
  {
   "cell_type": "markdown",
   "id": "461a23ad",
   "metadata": {},
   "source": [
    "#### AMT_REQ_CREDIT_BUREAU_MONTH\n",
    "Number of enquiries to Credit Bureau about the client one month before application (excluding one week before application)"
   ]
  },
  {
   "cell_type": "markdown",
   "id": "1335301d",
   "metadata": {},
   "source": [
    "#### LANDAREA_AVG\n",
    "Normalized information about building where the client lives, What is average (_AVG suffix), modus (_MODE suffix), median (_MEDI suffix) apartment size, common area, living area, age of building, number of elevators, number of entrances, state of the building, number of floor"
   ]
  },
  {
   "cell_type": "code",
   "execution_count": null,
   "id": "4a2ae5ed",
   "metadata": {},
   "outputs": [],
   "source": [
    "landarea_avg = np.nan_to_num(application_train['LANDAREA_AVG'])\n",
    "explore_numeric(landarea_avg)"
   ]
  },
  {
   "cell_type": "markdown",
   "id": "de01d579",
   "metadata": {},
   "source": [
    "#### LIVINGAPARTMENTS_AVG\n",
    "Normalized information about building where the client lives, What is average (_AVG suffix), modus (_MODE suffix), median (_MEDI suffix) apartment size, common area, living area, age of building, number of elevators, number of entrances, state of the building, number of floor"
   ]
  },
  {
   "cell_type": "code",
   "execution_count": null,
   "id": "6d05fbeb",
   "metadata": {},
   "outputs": [],
   "source": [
    "livingapartments_avg = np.nan_to_num(application_train['LIVINGAPARTMENTS_AVG'])\n",
    "explore_numeric(livingapartments_avg)"
   ]
  },
  {
   "cell_type": "markdown",
   "id": "badf0d3d",
   "metadata": {},
   "source": [
    "#### LIVINGAREA_AVG\n",
    "Normalized information about building where the client lives, What is average (_AVG suffix), modus (_MODE suffix), median (_MEDI suffix) apartment size, common area, living area, age of building, number of elevators, number of entrances, state of the building, number of floor"
   ]
  },
  {
   "cell_type": "code",
   "execution_count": null,
   "id": "f51ffaac",
   "metadata": {},
   "outputs": [],
   "source": [
    "livingarea_avg = np.nan_to_num(application_train['LIVINGAREA_AVG'])\n",
    "explore_numeric(livingarea_avg)"
   ]
  },
  {
   "cell_type": "markdown",
   "id": "cacb028d",
   "metadata": {},
   "source": [
    "### Note: It looks like these cells are well-normalized and usable as-is.  Skipping the remainder of the normalized housing stats."
   ]
  },
  {
   "cell_type": "markdown",
   "id": "19b1cfb6",
   "metadata": {},
   "source": [
    "#### OBS_30_CNT_SOCIAL_CIRCLE\n",
    "How many observation of client's social surroundings with observable 30 DPD (days past due) default"
   ]
  },
  {
   "cell_type": "code",
   "execution_count": null,
   "id": "e1e0bb95",
   "metadata": {},
   "outputs": [],
   "source": [
    "explore_non_numeric(application_train['NAME_EDUCATION_TYPE'])\n",
    "\n",
    "# One-Hot Encode This Later\n",
    "non_numeric_features.append(\"NAME_EDUCATION_TYPE\")"
   ]
  },
  {
   "cell_type": "markdown",
   "id": "0ccd78f0",
   "metadata": {},
   "source": [
    "#### NAME_FAMILY_STATUS\n",
    "Family status of the client"
   ]
  },
  {
   "cell_type": "code",
   "execution_count": null,
   "id": "104b9675",
   "metadata": {},
   "outputs": [],
   "source": [
    "explore_non_numeric(application_train['NAME_FAMILY_STATUS'])\n",
    "\n",
    "# One-Hot Encode This Later\n",
    "non_numeric_features.append(\"NAME_FAMILY_STATUS\")"
   ]
  },
  {
   "cell_type": "markdown",
   "id": "2dda2f85",
   "metadata": {},
   "source": [
    "#### NAME_HOUSING_TYPE\n",
    "What is the housing situation of the client (renting, living with parents, ...)"
   ]
  },
  {
   "cell_type": "code",
   "execution_count": null,
   "id": "a6b788b7",
   "metadata": {},
   "outputs": [],
   "source": [
    "explore_non_numeric(application_train['NAME_HOUSING_TYPE'])\n",
    "\n",
    "# One-Hot Encode This Later\n",
    "non_numeric_features.append(\"NAME_HOUSING_TYPE\")"
   ]
  },
  {
   "cell_type": "markdown",
   "id": "307caafe",
   "metadata": {},
   "source": [
    "#### REGION_POPULATION_RELATIVE\n",
    "Normalized population of region where client lives (higher number means the client lives in more populated region)"
   ]
  },
  {
   "cell_type": "markdown",
   "id": "715a6751",
   "metadata": {},
   "source": [
    "#### FLOORSMAX_AVG\n",
    "Normalized information about building where the client lives, What is average (_AVG suffix), modus (_MODE suffix), median (_MEDI suffix) apartment size, common area, living area, age of building, number of elevators, number of entrances, state of the building, number of floor"
   ]
  },
  {
   "cell_type": "code",
   "execution_count": null,
   "id": "bf5e479c",
   "metadata": {},
   "outputs": [],
   "source": [
    "floorsmax_avg = np.nan_to_num(application_train['FLOORSMAX_AVG'])\n",
    "explore_numeric(floorsmax_avg)"
   ]
  },
  {
   "cell_type": "markdown",
   "id": "4a45b6e4",
   "metadata": {},
   "source": [
    "#### FLOORSMIN_AVG\n",
    "Normalized information about building where the client lives, What is average (_AVG suffix), modus (_MODE suffix), median (_MEDI suffix) apartment size, common area, living area, age of building, number of elevators, number of entrances, state of the building, number of floor"
   ]
  },
  {
   "cell_type": "code",
   "execution_count": null,
   "id": "3e029627",
   "metadata": {},
   "outputs": [],
   "source": [
    "floorsmin_avg = np.nan_to_num(application_train['FLOORSMIN_AVG'])\n",
    "explore_numeric(floorsmin_avg)"
   ]
  },
  {
   "cell_type": "code",
   "execution_count": null,
   "id": "a4d02b08",
   "metadata": {},
   "outputs": [],
   "source": [
    "month = np.nan_to_num(application_train['AMT_REQ_CREDIT_BUREAU_MON'])\n",
    "explore_numeric(month)\n",
    "numeric_features.append(\"AMT_REQ_CREDIT_BUREAU_MON\")"
   ]
  },
  {
   "cell_type": "markdown",
   "id": "6d740c88",
   "metadata": {},
   "source": [
    "#### AMT_REQ_CREDIT_BUREAU_QRT\n",
    "Number of enquiries to Credit Bureau about the client one month before application (excluding one week before application)"
   ]
  },
  {
   "cell_type": "code",
   "execution_count": null,
   "id": "2d71bc76",
   "metadata": {},
   "outputs": [],
   "source": [
    "explore_non_numeric(application_train['NAME_CONTRACT_TYPE'])\n",
    "\n",
    "# Categorize it for one-hot encoding later\n",
    "non_numeric_features.append('NAME_CONTRACT_TYPE')"
   ]
  },
  {
   "cell_type": "markdown",
   "id": "3a1fe642",
   "metadata": {},
   "source": [
    "#### FLAG_OWN_CAR\n",
    "\n",
    "Flag if the client owns a car"
   ]
  },
  {
   "cell_type": "code",
   "execution_count": null,
   "id": "5f1047f9",
   "metadata": {},
   "outputs": [],
   "source": [
    "explore_non_numeric(application_train['FLAG_OWN_CAR'])"
   ]
  },
  {
   "cell_type": "code",
   "execution_count": null,
   "id": "1d3c37cd",
   "metadata": {},
   "outputs": [],
   "source": [
    "lb = LabelBinarizer()\n",
    "bool_own_car = lb.fit_transform(application_train['FLAG_OWN_CAR'])\n",
    "\n",
    "explore_non_numeric(bool_own_car)\n",
    "\n",
    "string_to_bool_features.append(\"FLAG_OWN_CAR\")"
   ]
  },
  {
   "cell_type": "markdown",
   "id": "14354970",
   "metadata": {},
   "source": [
    "#### FLAG_OWN_REALTY\n",
    "\n",
    "Flag if client owns a house or flat"
   ]
  },
  {
   "cell_type": "code",
   "execution_count": null,
   "id": "b6709962",
   "metadata": {},
   "outputs": [],
   "source": [
    "explore_non_numeric(application_train['FLAG_EMP_PHONE'])"
   ]
  },
  {
   "cell_type": "code",
   "execution_count": null,
   "id": "aa20a92a",
   "metadata": {},
   "outputs": [],
   "source": [
    "lb = LabelBinarizer()\n",
    "bool_emp_phone = lb.fit_transform(application_train['FLAG_EMP_PHONE'])\n",
    "\n",
    "explore_non_numeric(bool_emp_phone)\n",
    "\n",
    "string_to_bool_features.append('FLAG_EMP_PHONE')"
   ]
  },
  {
   "cell_type": "markdown",
   "id": "94b6ddd1",
   "metadata": {},
   "source": [
    "#### FLAG_WORK_PHONE\n",
    "Did client provide home phone (1=YES, 0=NO)"
   ]
  },
  {
   "cell_type": "code",
   "execution_count": null,
   "id": "61472dce",
   "metadata": {},
   "outputs": [],
   "source": [
    "explore_non_numeric(application_train['FLAG_WORK_PHONE'])"
   ]
  },
  {
   "cell_type": "code",
   "execution_count": null,
   "id": "a910ade9",
   "metadata": {},
   "outputs": [],
   "source": [
    "lb = LabelBinarizer()\n",
    "bool_work_phone = lb.fit_transform(application_train['FLAG_WORK_PHONE'])\n",
    "\n",
    "explore_non_numeric(bool_work_phone)\n",
    "\n",
    "string_to_bool_features.append('FLAG_WORK_PHONE')"
   ]
  },
  {
   "cell_type": "markdown",
   "id": "c5180a9a",
   "metadata": {},
   "source": [
    "#### FLAG_PHONE\n",
    "Did client provide home phone (1=YES, 0=NO)"
   ]
  },
  {
   "cell_type": "code",
   "execution_count": null,
   "id": "5b8da586",
   "metadata": {},
   "outputs": [],
   "source": [
    "explore_non_numeric(application_train['FLAG_PHONE'])"
   ]
  },
  {
   "cell_type": "code",
   "execution_count": null,
   "id": "998a2897",
   "metadata": {},
   "outputs": [],
   "source": [
    "explore_numeric(application_train['REGION_POPULATION_RELATIVE'])\n",
    "\n",
    "# Add to our list of numeric features so that we scale the values appropriately later\n",
    "numeric_features.append('REGION_POPULATION_RELATIVE')"
   ]
  },
  {
   "cell_type": "markdown",
   "id": "4736a609",
   "metadata": {},
   "source": [
    "#### DAYS_BIRTH\n",
    "Client's age in days, [subtracted from] at the time of application"
   ]
  },
  {
   "cell_type": "code",
   "execution_count": null,
   "id": "63cf8e43",
   "metadata": {},
   "outputs": [],
   "source": [
    "explore_numeric(application_train['DAYS_BIRTH'])\n",
    "\n",
    "# Add to our list of numeric features so that we scale the values appropriately later\n",
    "numeric_features.append('DAYS_BIRTH')"
   ]
  },
  {
   "cell_type": "markdown",
   "id": "47cd77b1",
   "metadata": {},
   "source": [
    "#### DAYS_EMPLOYED\n",
    "How many days before the application the person started current employment"
   ]
  },
  {
   "cell_type": "code",
   "execution_count": null,
   "id": "8f612040",
   "metadata": {},
   "outputs": [],
   "source": [
    "qrt = np.nan_to_num(application_train['AMT_REQ_CREDIT_BUREAU_QRT'])\n",
    "explore_numeric(qrt)\n",
    "numeric_features.append(\"AMT_REQ_CREDIT_BUREAU_QRT\")"
   ]
  },
  {
   "cell_type": "markdown",
   "id": "d726866b",
   "metadata": {},
   "source": [
    "#### AMT_REQ_CREDIT_BUREAU_YEAR\n",
    "Number of enquiries to Credit Bureau about the client one day year (excluding last 3 months before application)"
   ]
  },
  {
   "cell_type": "code",
   "execution_count": null,
   "id": "02f5a136",
   "metadata": {},
   "outputs": [],
   "source": [
    "year = np.nan_to_num(application_train['AMT_REQ_CREDIT_BUREAU_YEAR'])\n",
    "explore_numeric(year)\n",
    "numeric_features.append(\"AMT_REQ_CREDIT_BUREAU_YEAR\")\n",
    "\n"
   ]
  },
  {
   "cell_type": "markdown",
   "id": "42c23f99",
   "metadata": {},
   "source": [
    "#### FLAG_DOCUMENT_4 - 21\n",
    "Did client provide document 4"
   ]
  },
  {
   "cell_type": "code",
   "execution_count": null,
   "id": "81853b35",
   "metadata": {},
   "outputs": [],
   "source": [
    "print(\"Document 2\")\n",
    "explore_non_numeric(application_train['FLAG_DOCUMENT_2'])\n",
    "\n",
    "print(\"Document 3\")\n",
    "explore_non_numeric(application_train['FLAG_DOCUMENT_3'])\n",
    "\n",
    "print(\"Document 4\")\n",
    "explore_non_numeric(application_train['FLAG_DOCUMENT_4'])\n",
    "\n",
    "print(\"Document 5\")\n",
    "explore_non_numeric(application_train['FLAG_DOCUMENT_5'])\n",
    "\n",
    "print(\"Document 6\")\n",
    "explore_non_numeric(application_train['FLAG_DOCUMENT_6'])\n",
    "\n",
    "print(\"Document 7\")\n",
    "explore_non_numeric(application_train['FLAG_DOCUMENT_7'])\n",
    "\n",
    "print(\"Document 8\")\n",
    "explore_non_numeric(application_train['FLAG_DOCUMENT_8'])\n",
    "\n",
    "print(\"Document 9\")\n",
    "explore_non_numeric(application_train['FLAG_DOCUMENT_9'])\n",
    "\n",
    "print(\"Document 10\")\n",
    "explore_non_numeric(application_train['FLAG_DOCUMENT_10'])\n",
    "\n",
    "print(\"Document 11\")\n",
    "explore_non_numeric(application_train['FLAG_DOCUMENT_11'])\n",
    "\n",
    "print(\"Document 12\")\n",
    "explore_non_numeric(application_train['FLAG_DOCUMENT_12'])\n",
    "\n",
    "print(\"Document 13\")\n",
    "explore_non_numeric(application_train['FLAG_DOCUMENT_13'])\n",
    "\n",
    "print(\"Document 14\")\n",
    "explore_non_numeric(application_train['FLAG_DOCUMENT_14'])\n",
    "\n",
    "print(\"Document 15\")\n",
    "explore_non_numeric(application_train['FLAG_DOCUMENT_15'])\n",
    "\n",
    "print(\"Document 16\")\n",
    "explore_non_numeric(application_train['FLAG_DOCUMENT_16'])\n",
    "\n",
    "print(\"Document 17\")\n",
    "explore_non_numeric(application_train['FLAG_DOCUMENT_17'])\n",
    "\n",
    "print(\"Document 18\")\n",
    "explore_non_numeric(application_train['FLAG_DOCUMENT_18'])\n",
    "\n",
    "print(\"Document 19\")\n",
    "explore_non_numeric(application_train['FLAG_DOCUMENT_19'])\n",
    "\n",
    "print(\"Document 20\")\n",
    "explore_non_numeric(application_train['FLAG_DOCUMENT_20'])\n",
    "\n",
    "print(\"Document 21\")\n",
    "explore_non_numeric(application_train['FLAG_DOCUMENT_21'])"
   ]
  },
  {
   "cell_type": "code",
   "execution_count": null,
   "id": "b9ef758b",
   "metadata": {},
   "outputs": [],
   "source": [
    "# Add some more \"normalized\" fields for numeric processing\n",
    "numeric_features.append(\"APARTMENTS_AVG\")\n",
    "numeric_features.append(\"APARTMENTS_MEDI\")\n",
    "numeric_features.append(\"APARTMENTS_MODE\")\n",
    "numeric_features.append(\"BASEMENTAREA_AVG\")\n",
    "numeric_features.append(\"BASEMENTAREA_MEDI\")\n",
    "numeric_features.append(\"BASEMENTAREA_MODE\")\n",
    "numeric_features.append(\"COMMONAREA_AVG\")\n",
    "numeric_features.append(\"COMMONAREA_MEDI\")\n",
    "numeric_features.append(\"COMMONAREA_MODE\")\n",
    "numeric_features.append(\"ELEVATORS_AVG\")\n",
    "numeric_features.append(\"ELEVATORS_MEDI\")\n",
    "numeric_features.append(\"ELEVATORS_MODE\")\n",
    "numeric_features.append(\"ENTRANCES_AVG\")\n",
    "numeric_features.append(\"ENTRANCES_MEDI\")\n",
    "numeric_features.append(\"ENTRANCES_MODE\")\n",
    "numeric_features.append(\"EXT_SOURCE_1\")\n",
    "numeric_features.append(\"EXT_SOURCE_2\")\n",
    "numeric_features.append(\"EXT_SOURCE_3\")\n",
    "numeric_features.append(\"FLOORSMAX_AVG\")\n",
    "numeric_features.append(\"FLOORSMAX_MEDI\")\n",
    "numeric_features.append(\"FLOORSMAX_MODE\")\n",
    "numeric_features.append(\"FLOORSMIN_AVG\")\n",
    "numeric_features.append(\"FLOORSMIN_MEDI\")\n",
    "numeric_features.append(\"FLOORSMIN_MODE\")\n",
    "numeric_features.append(\"LANDAREA_AVG\")\n",
    "numeric_features.append(\"LANDAREA_MEDI\")\n",
    "numeric_features.append(\"LANDAREA_MODE\")\n",
    "numeric_features.append(\"LANDAREA_AVG\")\n",
    "numeric_features.append(\"LANDAREA_MEDI\")\n",
    "numeric_features.append(\"LANDAREA_MODE\")\n",
    "numeric_features.append(\"LIVINGAPARTMENTS_AVG\")\n",
    "numeric_features.append(\"LIVINGAPARTMENTS_MEDI\")\n",
    "numeric_features.append(\"LIVINGAPARTMENTS_MODE\")\n",
    "numeric_features.append(\"LIVINGAREA_AVG\")\n",
    "numeric_features.append(\"LIVINGAREA_MEDI\")\n",
    "numeric_features.append(\"LIVINGAREA_MODE\")\n",
    "numeric_features.append(\"NONLIVINGAPARTMENTS_AVG\")\n",
    "numeric_features.append(\"NONLIVINGAPARTMENTS_MEDI\")\n",
    "numeric_features.append(\"NONLIVINGAPARTMENTS_MODE\")\n",
    "numeric_features.append(\"NONLIVINGAREA_AVG\")\n",
    "numeric_features.append(\"NONLIVINGAREA_MEDI\")\n",
    "numeric_features.append(\"NONLIVINGAREA_MODE\")\n",
    "numeric_features.append(\"TOTALAREA_MODE\")\n",
    "numeric_features.append(\"YEARS_BEGINEXPLUATATION_AVG\")\n",
    "numeric_features.append(\"YEARS_BEGINEXPLUATATION_MEDI\")\n",
    "numeric_features.append(\"YEARS_BEGINEXPLUATATION_MODE\")\n",
    "numeric_features.append(\"YEARS_BUILD_AVG\")\n",
    "numeric_features.append(\"YEARS_BUILD_MEDI\")\n",
    "numeric_features.append(\"YEARS_BUILD_MODE\")"
   ]
  },
  {
   "cell_type": "code",
   "execution_count": null,
   "id": "6eea1645",
   "metadata": {},
   "outputs": [],
   "source": [
    "explore_non_numeric(application_train['FLAG_MOBIL'])"
   ]
  },
  {
   "cell_type": "markdown",
   "id": "f4176078",
   "metadata": {},
   "source": [
    "NOTE: Given the fact that 99.999% of people have a cellphone, we can drop this feature.  It has no value in terms of differentiation."
   ]
  },
  {
   "cell_type": "markdown",
   "id": "abf05adf",
   "metadata": {},
   "source": [
    "#### FLAG_EMP_PHONE\n",
    "\n",
    "Did client provide work phone (1=YES, 0=NO)"
   ]
  },
  {
   "cell_type": "code",
   "execution_count": null,
   "id": "32924434",
   "metadata": {},
   "outputs": [],
   "source": [
    "years_beginexpluatation_avg = np.nan_to_num(application_train['YEARS_BEGINEXPLUATATION_AVG'])\n",
    "explore_numeric(years_beginexpluatation_avg)"
   ]
  },
  {
   "cell_type": "markdown",
   "id": "49942b2d",
   "metadata": {},
   "source": [
    "#### YEARS_BUILD_AVG\n",
    "Normalized information about building where the client lives, What is average (_AVG suffix), modus (_MODE suffix), median (_MEDI suffix) apartment size, common area, living area, age of building, number of elevators, number of entrances, state of the building, number of floor"
   ]
  },
  {
   "cell_type": "code",
   "execution_count": null,
   "id": "443402d7",
   "metadata": {},
   "outputs": [],
   "source": [
    "years_build_avg = np.nan_to_num(application_train['YEARS_BUILD_AVG'])\n",
    "explore_numeric(years_build_avg)"
   ]
  },
  {
   "cell_type": "markdown",
   "id": "c9530b95",
   "metadata": {},
   "source": [
    "#### COMMONAREA_AVG\n",
    "Normalized information about building where the client lives, What is average (_AVG suffix), modus (_MODE suffix), median (_MEDI suffix) apartment size, common area, living area, age of building, number of elevators, number of entrances, state of the building, number of floor"
   ]
  },
  {
   "cell_type": "code",
   "execution_count": null,
   "id": "aa548fdf",
   "metadata": {},
   "outputs": [],
   "source": [
    "commonarea_avg = np.nan_to_num(application_train['COMMONAREA_AVG'])\n",
    "explore_numeric(commonarea_avg)"
   ]
  },
  {
   "cell_type": "markdown",
   "id": "2c270349",
   "metadata": {},
   "source": [
    "#### ELEVATORS_AVG\n",
    "Normalized information about building where the client lives, What is average (_AVG suffix), modus (_MODE suffix), median (_MEDI suffix) apartment size, common area, living area, age of building, number of elevators, number of entrances, state of the building, number of floor"
   ]
  },
  {
   "cell_type": "code",
   "execution_count": null,
   "id": "38b24266",
   "metadata": {},
   "outputs": [],
   "source": [
    "elevators_avg = np.nan_to_num(application_train['ELEVATORS_AVG'])\n",
    "explore_numeric(elevators_avg)"
   ]
  },
  {
   "cell_type": "markdown",
   "id": "58e239b8",
   "metadata": {},
   "source": [
    "#### ENTRANCES_AVG\n",
    "Normalized information about building where the client lives, What is average (_AVG suffix), modus (_MODE suffix), median (_MEDI suffix) apartment size, common area, living area, age of building, number of elevators, number of entrances, state of the building, number of floor"
   ]
  },
  {
   "cell_type": "markdown",
   "id": "7628d67a",
   "metadata": {},
   "source": [
    "### Imports"
   ]
  },
  {
   "cell_type": "code",
   "execution_count": null,
   "id": "375f4384",
   "metadata": {},
   "outputs": [],
   "source": [
    "import pandas as pd\n",
    "import numpy as np\n",
    "import matplotlib.pyplot as plt\n",
    "import seaborn as sns\n",
    "\n",
    "from IPython.display import display # Allows the use of display() for DataFrames\n",
    "from sklearn.preprocessing import MinMaxScaler\n",
    "from sklearn.preprocessing import LabelBinarizer\n",
    "\n",
    "# Show all of the data in a dataframe\n",
    "pd.set_option('display.max_columns', None)"
   ]
  },
  {
   "cell_type": "markdown",
   "id": "315ee509",
   "metadata": {},
   "source": [
    "### Load Data"
   ]
  },
  {
   "cell_type": "code",
   "execution_count": null,
   "id": "4f97fe49",
   "metadata": {},
   "outputs": [],
   "source": [
    "# Training Set\n",
    "application_train = pd.read_csv('data/application_train.csv')\n",
    "print(\"Loaded Training Set: {0} rows {1} columns\".format(application_train.shape[0], application_train.shape[1]))\n",
    "\n",
    "columns = pd.read_csv('data/HomeCredit_columns_description.csv')"
   ]
  },
  {
   "cell_type": "code",
   "execution_count": null,
   "id": "13d5199b",
   "metadata": {},
   "outputs": [],
   "source": [
    "entrances_avg = np.nan_to_num(application_train['ENTRANCES_AVG'])\n",
    "explore_numeric(entrances_avg)"
   ]
  }
 ],
 "metadata": {},
 "nbformat": 4,
 "nbformat_minor": 5
}
