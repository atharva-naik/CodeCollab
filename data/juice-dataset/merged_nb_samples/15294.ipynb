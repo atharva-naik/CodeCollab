{
 "cells": [
  {
   "cell_type": "code",
   "execution_count": null,
   "id": "385325f6",
   "metadata": {},
   "outputs": [],
   "source": [
    "import pandas as pd\n",
    "\n",
    "from bs4 import BeautifulSoup\n",
    "import requests\n",
    "from requests.exceptions import MissingSchema\n",
    "\n",
    "import re\n",
    "import time\n",
    "import os\n",
    "import random"
   ]
  },
  {
   "cell_type": "code",
   "execution_count": null,
   "id": "8a111a00",
   "metadata": {},
   "outputs": [],
   "source": [
    "def getWikiGlossary(url, start_from=0, end_at=0):\n",
    "    soup = BeautifulSoup(requests.get(url).text, 'lxml')\n",
    "    all_links = soup.findAll('div', {'id': 'mw-pages'})[0]\n",
    "    all_links = all_links.findAll('li')\n",
    "    glossary = [ent.a.contents[0] for ent in all_links]\n",
    "    # remove some useless links\n",
    "    return glossary[start_from:]"
   ]
  },
  {
   "cell_type": "code",
   "execution_count": null,
   "id": "f8bb7cec",
   "metadata": {},
   "outputs": [],
   "source": [
    "full_glossary = set()"
   ]
  },
  {
   "cell_type": "markdown",
   "id": "0853c518",
   "metadata": {},
   "source": [
    "The score of the NIPS conference includes: **machine learning**, **statistics**, **artificial intelligence**, **computational neuroscience**."
   ]
  },
  {
   "cell_type": "markdown",
   "id": "550a3fa9",
   "metadata": {},
   "source": [
    "## Category: Machine Learning"
   ]
  },
  {
   "cell_type": "code",
   "execution_count": null,
   "id": "41f483cc",
   "metadata": {},
   "outputs": [],
   "source": [
    "url = 'https://en.wikipedia.org/w/index.php?title=Category:Machine_learning&oldid=548447226'\n",
    "\n",
    "new_glossary = getWikiGlossary(url, 3)\n",
    "full_glossary = full_glossary.union(set(new_glossary))\n",
    "print(new_glossary[:20])\n",
    "print(new_glossary[-20:])"
   ]
  },
  {
   "cell_type": "markdown",
   "id": "c114d6b2",
   "metadata": {},
   "source": [
    "### Subcategory: Applied machine learning"
   ]
  },
  {
   "cell_type": "code",
   "execution_count": null,
   "id": "ca1da3dd",
   "metadata": {},
   "outputs": [],
   "source": [
    "url = 'https://en.wikipedia.org/w/index.php?title=Category:Applied_machine_learning&oldid=457675041'\n",
    "\n",
    "new_glossary = getWikiGlossary(url, 3)\n",
    "full_glossary = full_glossary.union(set(new_glossary))\n",
    "print(new_glossary[:20])\n",
    "print(new_glossary[-20:])"
   ]
  },
  {
   "cell_type": "markdown",
   "id": "a108458f",
   "metadata": {},
   "source": [
    "### Subcategory: Artificial neural networks"
   ]
  },
  {
   "cell_type": "code",
   "execution_count": null,
   "id": "b3d744bb",
   "metadata": {},
   "outputs": [],
   "source": [
    "url = 'https://en.wikipedia.org/w/index.php?title=Category:Artificial_neural_networks&oldid=717605771'\n",
    "\n",
    "new_glossary = getWikiGlossary(url, 2)\n",
    "full_glossary = full_glossary.union(set(new_glossary))\n",
    "print(new_glossary[:20])\n",
    "print(new_glossary[-20:])"
   ]
  },
  {
   "cell_type": "markdown",
   "id": "b4c61fe1",
   "metadata": {},
   "source": [
    "### Subcategory: Bayesian networks"
   ]
  },
  {
   "cell_type": "markdown",
   "id": "a798cd29",
   "metadata": {},
   "source": [
    "### Subcategory: Statistics stubs"
   ]
  },
  {
   "cell_type": "code",
   "execution_count": null,
   "id": "6cd00da8",
   "metadata": {},
   "outputs": [],
   "source": [
    "url = 'https://en.wikipedia.org/w/index.php?title=Category:Statistics_stubs&oldid=635826380'\n",
    "\n",
    "new_glossary = getWikiGlossary(url, 2)\n",
    "full_glossary = full_glossary.union(set(new_glossary))\n",
    "print(new_glossary[:20])\n",
    "print(new_glossary[-20:])"
   ]
  },
  {
   "cell_type": "markdown",
   "id": "a5a203bc",
   "metadata": {},
   "source": [
    "### Subcategory: Statistics stubs 2"
   ]
  },
  {
   "cell_type": "code",
   "execution_count": null,
   "id": "90b46ab4",
   "metadata": {},
   "outputs": [],
   "source": [
    "url = 'https://en.wikipedia.org/w/index.php?title=Category:Statistics_stubs&oldid=635826380&pagefrom=Owen%27s+T+function#mw-pages'\n",
    "\n",
    "new_glossary = getWikiGlossary(url, 0)\n",
    "full_glossary = full_glossary.union(set(new_glossary))\n",
    "print(new_glossary[:20])\n",
    "print(new_glossary[-20:])"
   ]
  },
  {
   "cell_type": "markdown",
   "id": "863ab948",
   "metadata": {},
   "source": [
    "## Category: Artificial Intelligence"
   ]
  },
  {
   "cell_type": "code",
   "execution_count": null,
   "id": "0923593f",
   "metadata": {},
   "outputs": [],
   "source": [
    "url = 'https://en.wikipedia.org/w/index.php?title=Category:Artificial_intelligence&oldid=735292901'\n",
    "\n",
    "new_glossary = getWikiGlossary(url, 6)\n",
    "full_glossary = full_glossary.union(set(new_glossary))\n",
    "print(new_glossary[:20])\n",
    "print(new_glossary[-20:])"
   ]
  },
  {
   "cell_type": "code",
   "execution_count": null,
   "id": "25c94439",
   "metadata": {},
   "outputs": [],
   "source": [
    "url = 'https://en.wikipedia.org/w/index.php?title=Category:Artificial_intelligence&oldid=735292901&pagefrom=Luminoso#mw-pages'\n",
    "\n",
    "new_glossary = getWikiGlossary(url, 0)\n",
    "full_glossary = full_glossary.union(set(new_glossary))\n",
    "print(new_glossary[:20])\n",
    "print(new_glossary[-20:])"
   ]
  },
  {
   "cell_type": "markdown",
   "id": "11aa9664",
   "metadata": {},
   "source": [
    "### Subcategory: Affective computing"
   ]
  },
  {
   "cell_type": "code",
   "execution_count": null,
   "id": "cfb82264",
   "metadata": {},
   "outputs": [],
   "source": [
    "url = 'https://en.wikipedia.org/w/index.php?title=Category:Affective_computing&oldid=808078520'\n",
    "\n",
    "new_glossary = getWikiGlossary(url, 0)\n",
    "full_glossary = full_glossary.union(set(new_glossary))\n",
    "print(new_glossary)"
   ]
  },
  {
   "cell_type": "markdown",
   "id": "9bcabd37",
   "metadata": {},
   "source": [
    "### Subcategory: Artificial intelligence applications"
   ]
  },
  {
   "cell_type": "code",
   "execution_count": null,
   "id": "3a581b4d",
   "metadata": {},
   "outputs": [],
   "source": [
    "url = 'https://en.wikipedia.org/w/index.php?title=Category:Artificial_intelligence_applications&oldid=588149250'\n",
    "\n",
    "new_glossary = getWikiGlossary(url, 2)\n",
    "full_glossary = full_glossary.union(set(new_glossary))\n",
    "print(new_glossary[:20])\n",
    "print(new_glossary[-20:])"
   ]
  },
  {
   "cell_type": "markdown",
   "id": "0fb803c6",
   "metadata": {},
   "source": [
    "### Subcategory: Artificial immune systems"
   ]
  },
  {
   "cell_type": "markdown",
   "id": "9e7e3857",
   "metadata": {},
   "source": [
    "### Subcategory: Structured prediction"
   ]
  },
  {
   "cell_type": "code",
   "execution_count": null,
   "id": "3087da63",
   "metadata": {},
   "outputs": [],
   "source": [
    "url = 'https://en.wikipedia.org/w/index.php?title=Category:Structured_prediction&oldid=567084110'\n",
    "\n",
    "new_glossary = getWikiGlossary(url, 0)\n",
    "full_glossary = full_glossary.union(set(new_glossary))\n",
    "print(new_glossary)"
   ]
  },
  {
   "cell_type": "markdown",
   "id": "0d99dd18",
   "metadata": {},
   "source": [
    "### Subcategory: Structured prediction (Graphical models)"
   ]
  },
  {
   "cell_type": "code",
   "execution_count": null,
   "id": "2af6e9df",
   "metadata": {},
   "outputs": [],
   "source": [
    "url = 'https://en.wikipedia.org/w/index.php?title=Category:Graphical_models&oldid=567084061'\n",
    "\n",
    "new_glossary = getWikiGlossary(url, 1)\n",
    "full_glossary = full_glossary.union(set(new_glossary))\n",
    "print(new_glossary)"
   ]
  },
  {
   "cell_type": "markdown",
   "id": "e1add453",
   "metadata": {},
   "source": [
    "### Subcategory: Supervised learning"
   ]
  },
  {
   "cell_type": "code",
   "execution_count": null,
   "id": "5944a35a",
   "metadata": {},
   "outputs": [],
   "source": [
    "url = 'https://en.wikipedia.org/w/index.php?title=Category:Supervised_learning&oldid=758108726'\n",
    "\n",
    "new_glossary = getWikiGlossary(url, 0)\n",
    "full_glossary = full_glossary.union(set(new_glossary))\n",
    "print(new_glossary)"
   ]
  },
  {
   "cell_type": "markdown",
   "id": "59bec79f",
   "metadata": {},
   "source": [
    "### Subcategory: Support vector machines"
   ]
  },
  {
   "cell_type": "code",
   "execution_count": null,
   "id": "5b66e4af",
   "metadata": {},
   "outputs": [],
   "source": [
    "url = 'https://en.wikipedia.org/w/index.php?title=Category:Support_vector_machines&oldid=418738709'\n",
    "\n",
    "new_glossary = getWikiGlossary(url, 1)\n",
    "full_glossary = full_glossary.union(set(new_glossary))\n",
    "print(new_glossary)"
   ]
  },
  {
   "cell_type": "markdown",
   "id": "e78bd3f1",
   "metadata": {},
   "source": [
    "### Subcategory: Unsupervised learning"
   ]
  },
  {
   "cell_type": "code",
   "execution_count": null,
   "id": "056280a9",
   "metadata": {},
   "outputs": [],
   "source": [
    "url = 'https://en.wikipedia.org/w/index.php?title=Category:Unsupervised_learning&oldid=776659011'\n",
    "\n",
    "new_glossary = getWikiGlossary(url, 1)\n",
    "full_glossary = full_glossary.union(set(new_glossary))\n",
    "print(new_glossary)"
   ]
  },
  {
   "cell_type": "markdown",
   "id": "34d0dd83",
   "metadata": {},
   "source": [
    "## Category: Statistics"
   ]
  },
  {
   "cell_type": "markdown",
   "id": "913b9001",
   "metadata": {},
   "source": [
    "### Subcategory: Applied statistics"
   ]
  },
  {
   "cell_type": "code",
   "execution_count": null,
   "id": "1a2c5cfd",
   "metadata": {},
   "outputs": [],
   "source": [
    "url = 'https://en.wikipedia.org/w/index.php?title=Category:Game_artificial_intelligence&oldid=547423829'\n",
    "\n",
    "new_glossary = getWikiGlossary(url, 1)\n",
    "full_glossary = full_glossary.union(set(new_glossary))\n",
    "print(new_glossary[:20])\n",
    "print(new_glossary[-20:])"
   ]
  },
  {
   "cell_type": "markdown",
   "id": "2806148f",
   "metadata": {},
   "source": [
    "### Subcategory: History of artificial intelligence"
   ]
  },
  {
   "cell_type": "code",
   "execution_count": null,
   "id": "8a014174",
   "metadata": {},
   "outputs": [],
   "source": [
    "url = 'https://en.wikipedia.org/w/index.php?title=Category:History_of_artificial_intelligence&oldid=548656248'\n",
    "\n",
    "new_glossary = getWikiGlossary(url, 2)\n",
    "full_glossary = full_glossary.union(set(new_glossary))\n",
    "print(new_glossary[:20])\n",
    "print(new_glossary[-20:])"
   ]
  },
  {
   "cell_type": "markdown",
   "id": "05b6a8c3",
   "metadata": {},
   "source": [
    "### Subcategory: Human-computer interaction"
   ]
  },
  {
   "cell_type": "code",
   "execution_count": null,
   "id": "4b0422c0",
   "metadata": {},
   "outputs": [],
   "source": [
    "url = 'https://en.wikipedia.org/w/index.php?title=Category:Human%E2%80%93computer_interaction&oldid=731191675'\n",
    "\n",
    "new_glossary = getWikiGlossary(url, 2)\n",
    "full_glossary = full_glossary.union(set(new_glossary))\n",
    "print(new_glossary[:20])\n",
    "print(new_glossary[-20:])"
   ]
  },
  {
   "cell_type": "markdown",
   "id": "ab4d3e02",
   "metadata": {},
   "source": [
    "### Subcategory: Human-computer interaction 2"
   ]
  },
  {
   "cell_type": "code",
   "execution_count": null,
   "id": "b8ce3d57",
   "metadata": {},
   "outputs": [],
   "source": [
    "url = 'https://en.wikipedia.org/w/index.php?title=Category:Human%E2%80%93computer_interaction&oldid=731191675&pagefrom=Shneiderman%2C+Ben%0ABen+Shneiderman#mw-pages'\n",
    "\n",
    "new_glossary = getWikiGlossary(url, 0)\n",
    "full_glossary = full_glossary.union(set(new_glossary))\n",
    "print(new_glossary[:20])\n",
    "print(new_glossary[-20:])"
   ]
  },
  {
   "cell_type": "markdown",
   "id": "9e9fac33",
   "metadata": {},
   "source": [
    "### Subcategory: Knowledge engineering"
   ]
  },
  {
   "cell_type": "code",
   "execution_count": null,
   "id": "c4203d6b",
   "metadata": {},
   "outputs": [],
   "source": [
    "url = 'https://en.wikipedia.org/w/index.php?title=Category:Knowledge_engineering&oldid=546625892'\n",
    "\n",
    "new_glossary = getWikiGlossary(url, 1)\n",
    "full_glossary = full_glossary.union(set(new_glossary))\n",
    "print(new_glossary)"
   ]
  },
  {
   "cell_type": "markdown",
   "id": "a8468ff6",
   "metadata": {},
   "source": [
    "### Subcategory: Knowledge representation"
   ]
  },
  {
   "cell_type": "code",
   "execution_count": null,
   "id": "15c13cff",
   "metadata": {},
   "outputs": [],
   "source": [
    "url = 'https://en.wikipedia.org/w/index.php?title=Category:Knowledge_representation&oldid=742239637'\n",
    "\n",
    "new_glossary = getWikiGlossary(url, 1)\n",
    "full_glossary = full_glossary.union(set(new_glossary))\n",
    "print(new_glossary[:20])\n",
    "print(new_glossary[-20:])"
   ]
  },
  {
   "cell_type": "markdown",
   "id": "bae04bc1",
   "metadata": {},
   "source": [
    "### Subcategory: Knowledge representation 2"
   ]
  },
  {
   "cell_type": "code",
   "execution_count": null,
   "id": "1cc2dfff",
   "metadata": {},
   "outputs": [],
   "source": [
    "url = 'https://en.wikipedia.org/w/index.php?title=Category:Mind%E2%80%93body_problem&oldid=809794220'\n",
    "\n",
    "new_glossary = getWikiGlossary(url, 1)\n",
    "full_glossary = full_glossary.union(set(new_glossary))\n",
    "print(new_glossary)"
   ]
  },
  {
   "cell_type": "markdown",
   "id": "b26a6072",
   "metadata": {},
   "source": [
    "### Subcategory: Multi-agent systems"
   ]
  },
  {
   "cell_type": "code",
   "execution_count": null,
   "id": "db106abc",
   "metadata": {},
   "outputs": [],
   "source": [
    "url = 'https://en.wikipedia.org/w/index.php?title=Category:Multi-agent_systems&oldid=806268388'\n",
    "\n",
    "new_glossary = getWikiGlossary(url, 2)\n",
    "full_glossary = full_glossary.union(set(new_glossary))\n",
    "print(new_glossary[:20])\n",
    "print(new_glossary[-20:])"
   ]
  },
  {
   "cell_type": "markdown",
   "id": "b96b7342",
   "metadata": {},
   "source": [
    "### Subcategory: Open-source_artificial_intelligence"
   ]
  },
  {
   "cell_type": "code",
   "execution_count": null,
   "id": "0688236a",
   "metadata": {},
   "outputs": [],
   "source": [
    "url = 'https://en.wikipedia.org/w/index.php?title=Category:Open-source_artificial_intelligence&oldid=803874985'\n",
    "\n",
    "new_glossary = getWikiGlossary(url, 0)\n",
    "full_glossary = full_glossary.union(set(new_glossary))\n",
    "print(new_glossary)"
   ]
  },
  {
   "cell_type": "markdown",
   "id": "981addd2",
   "metadata": {},
   "source": [
    "### Subcategory: Philosophy of artificial intelligence"
   ]
  },
  {
   "cell_type": "code",
   "execution_count": null,
   "id": "f7444fab",
   "metadata": {},
   "outputs": [],
   "source": [
    "url = 'https://en.wikipedia.org/w/index.php?title=Category:Philosophy_of_artificial_intelligence&oldid=723451155'\n",
    "\n",
    "new_glossary = getWikiGlossary(url, 1)\n",
    "full_glossary = full_glossary.union(set(new_glossary))\n",
    "print(new_glossary)"
   ]
  },
  {
   "cell_type": "markdown",
   "id": "b05a02ad",
   "metadata": {},
   "source": [
    "### Subcategory: Robotics"
   ]
  },
  {
   "cell_type": "code",
   "execution_count": null,
   "id": "e8791747",
   "metadata": {},
   "outputs": [],
   "source": [
    "url = 'https://en.wikipedia.org/w/index.php?title=Category:Robotics&oldid=737149658'\n",
    "\n",
    "new_glossary = getWikiGlossary(url, 6)\n",
    "full_glossary = full_glossary.union(set(new_glossary))\n",
    "print(new_glossary[:20])\n",
    "print(new_glossary[-20:])"
   ]
  },
  {
   "cell_type": "markdown",
   "id": "75a8bb96",
   "metadata": {},
   "source": [
    "### Subcategory: Robots"
   ]
  },
  {
   "cell_type": "code",
   "execution_count": null,
   "id": "4edc0ba2",
   "metadata": {},
   "outputs": [],
   "source": [
    "url = 'https://en.wikipedia.org/w/index.php?title=Category:Robots&oldid=799202031'\n",
    "\n",
    "new_glossary = getWikiGlossary(url, 2)\n",
    "full_glossary = full_glossary.union(set(new_glossary))\n",
    "print(new_glossary)"
   ]
  },
  {
   "cell_type": "markdown",
   "id": "66d48042",
   "metadata": {},
   "source": [
    "### Subcategory: Rule engines"
   ]
  },
  {
   "cell_type": "code",
   "execution_count": null,
   "id": "667340b8",
   "metadata": {},
   "outputs": [],
   "source": [
    "url = 'https://en.wikipedia.org/w/index.php?title=Category:Computational_learning_theory&oldid=550844741'\n",
    "\n",
    "new_glossary = getWikiGlossary(url, 0)\n",
    "full_glossary = full_glossary.union(set(new_glossary))\n",
    "print(new_glossary)"
   ]
  },
  {
   "cell_type": "markdown",
   "id": "f8b5d48b",
   "metadata": {},
   "source": [
    "### Subcategory: Data mining and machine learning software"
   ]
  },
  {
   "cell_type": "code",
   "execution_count": null,
   "id": "683fbd0f",
   "metadata": {},
   "outputs": [],
   "source": [
    "url = 'https://en.wikipedia.org/w/index.php?title=Category:Data_mining_and_machine_learning_software&oldid=814530060'\n",
    "\n",
    "new_glossary = getWikiGlossary(url, 0)\n",
    "full_glossary = full_glossary.union(set(new_glossary))\n",
    "print(new_glossary[:20])\n",
    "print(new_glossary[-20:])"
   ]
  },
  {
   "cell_type": "markdown",
   "id": "795aa08e",
   "metadata": {},
   "source": [
    "### Subcategory: Dimension reduction"
   ]
  },
  {
   "cell_type": "code",
   "execution_count": null,
   "id": "16828870",
   "metadata": {},
   "outputs": [],
   "source": [
    "url = 'https://en.wikipedia.org/w/index.php?title=Category:Dimension_reduction&oldid=546037650'\n",
    "\n",
    "new_glossary = getWikiGlossary(url, 1)\n",
    "full_glossary = full_glossary.union(set(new_glossary))\n",
    "print(new_glossary[:20])\n",
    "print(new_glossary[-20:])"
   ]
  },
  {
   "cell_type": "markdown",
   "id": "950e24d8",
   "metadata": {},
   "source": [
    "### Subcategory: Ensemble learning"
   ]
  },
  {
   "cell_type": "code",
   "execution_count": null,
   "id": "bb9f0550",
   "metadata": {},
   "outputs": [],
   "source": [
    "url = 'https://en.wikipedia.org/w/index.php?title=Category:Ensemble_learning&oldid=786890664'\n",
    "\n",
    "new_glossary = getWikiGlossary(url, 1)\n",
    "full_glossary = full_glossary.union(set(new_glossary))\n",
    "print(new_glossary)"
   ]
  },
  {
   "cell_type": "markdown",
   "id": "b5360902",
   "metadata": {},
   "source": [
    "### Subcategory: Evolutionary algorithms"
   ]
  },
  {
   "cell_type": "code",
   "execution_count": null,
   "id": "4ec90732",
   "metadata": {},
   "outputs": [],
   "source": [
    "url = 'https://en.wikipedia.org/w/index.php?title=Category:Evolutionary_algorithms&oldid=753173674'\n",
    "\n",
    "new_glossary = getWikiGlossary(url, 1)\n",
    "full_glossary = full_glossary.union(set(new_glossary))\n",
    "print(new_glossary)"
   ]
  },
  {
   "cell_type": "markdown",
   "id": "9d25976f",
   "metadata": {},
   "source": [
    "### Subcategory: Genetic programming"
   ]
  },
  {
   "cell_type": "code",
   "execution_count": null,
   "id": "ff1cd0f6",
   "metadata": {},
   "outputs": [],
   "source": [
    "url = 'https://en.wikipedia.org/w/index.php?title=Category:Genetic_programming&oldid=746268286'\n",
    "\n",
    "new_glossary = getWikiGlossary(url, 1)\n",
    "full_glossary = full_glossary.union(set(new_glossary))\n",
    "print(new_glossary)"
   ]
  },
  {
   "cell_type": "markdown",
   "id": "35c2c177",
   "metadata": {},
   "source": [
    "### Subcategory: Inductive logic programming"
   ]
  },
  {
   "cell_type": "code",
   "execution_count": null,
   "id": "065971fd",
   "metadata": {},
   "outputs": [],
   "source": [
    "url = 'https://en.wikipedia.org/w/index.php?title=Category:Rule_engines&oldid=547862288'\n",
    "\n",
    "new_glossary = getWikiGlossary(url, 0)\n",
    "full_glossary = full_glossary.union(set(new_glossary))\n",
    "print(new_glossary)"
   ]
  },
  {
   "cell_type": "markdown",
   "id": "3f02c7ca",
   "metadata": {},
   "source": [
    "### Subcategory: Turing tests"
   ]
  },
  {
   "cell_type": "code",
   "execution_count": null,
   "id": "c652aa75",
   "metadata": {},
   "outputs": [],
   "source": [
    "url = 'https://en.wikipedia.org/w/index.php?title=Category:Turing_tests&oldid=645051693'\n",
    "\n",
    "new_glossary = getWikiGlossary(url, 1)\n",
    "full_glossary = full_glossary.union(set(new_glossary))\n",
    "print(new_glossary)"
   ]
  },
  {
   "cell_type": "markdown",
   "id": "46c54645",
   "metadata": {},
   "source": [
    "### Subcategory: Virtual assistants"
   ]
  },
  {
   "cell_type": "code",
   "execution_count": null,
   "id": "ea862331",
   "metadata": {},
   "outputs": [],
   "source": [
    "url = 'https://en.wikipedia.org/w/index.php?title=Category:Virtual_assistants&oldid=789667536'\n",
    "\n",
    "new_glossary = getWikiGlossary(url, 0)\n",
    "full_glossary = full_glossary.union(set(new_glossary))\n",
    "print(new_glossary)"
   ]
  },
  {
   "cell_type": "markdown",
   "id": "7d80d455",
   "metadata": {},
   "source": [
    "### Subcategory: Artificial intelligence stubs"
   ]
  },
  {
   "cell_type": "code",
   "execution_count": null,
   "id": "02204045",
   "metadata": {},
   "outputs": [],
   "source": [
    "url = 'https://en.wikipedia.org/w/index.php?title=Category:Markov_models&oldid=757550836'\n",
    "\n",
    "new_glossary = getWikiGlossary(url, 1)\n",
    "full_glossary = full_glossary.union(set(new_glossary))\n",
    "print(new_glossary[:20])\n",
    "print(new_glossary[-20:])"
   ]
  },
  {
   "cell_type": "markdown",
   "id": "196c1757",
   "metadata": {},
   "source": [
    "### Subcategory: Semisupervised learning"
   ]
  },
  {
   "cell_type": "code",
   "execution_count": null,
   "id": "23f508cc",
   "metadata": {},
   "outputs": [],
   "source": [
    "url = 'https://en.wikipedia.org/w/index.php?title=Category:Semisupervised_learning&oldid=758107927'\n",
    "\n",
    "new_glossary = getWikiGlossary(url, 0)\n",
    "full_glossary = full_glossary.union(set(new_glossary))\n",
    "print(new_glossary)"
   ]
  },
  {
   "cell_type": "markdown",
   "id": "69a6d210",
   "metadata": {},
   "source": [
    "### Subcategory: Statistical natural language processing"
   ]
  },
  {
   "cell_type": "code",
   "execution_count": null,
   "id": "277c9adb",
   "metadata": {},
   "outputs": [],
   "source": [
    "url = 'https://en.wikipedia.org/w/index.php?title=Category:Statistical_natural_language_processing&oldid=712166798'\n",
    "\n",
    "new_glossary = getWikiGlossary(url, 1)\n",
    "full_glossary = full_glossary.union(set(new_glossary))\n",
    "print(new_glossary[:20])\n",
    "print(new_glossary[-20:])"
   ]
  },
  {
   "cell_type": "code",
   "execution_count": null,
   "id": "3503db77",
   "metadata": {},
   "outputs": [],
   "source": [
    "url = 'https://en.wikipedia.org/w/index.php?title=Category:Cognitive_architecture&oldid=537849149'\n",
    "\n",
    "new_glossary = getWikiGlossary(url, 1)\n",
    "full_glossary = full_glossary.union(set(new_glossary))\n",
    "print(new_glossary)"
   ]
  },
  {
   "cell_type": "markdown",
   "id": "cf3f6973",
   "metadata": {},
   "source": [
    "### Subcategory: Computer vision"
   ]
  },
  {
   "cell_type": "code",
   "execution_count": null,
   "id": "c44372e0",
   "metadata": {},
   "outputs": [],
   "source": [
    "url = 'https://en.wikipedia.org/w/index.php?title=Category:Computer_vision&oldid=759382254'\n",
    "\n",
    "new_glossary = getWikiGlossary(url, 3)\n",
    "full_glossary = full_glossary.union(set(new_glossary))\n",
    "print(new_glossary[:20])\n",
    "print(new_glossary[-20:])"
   ]
  },
  {
   "cell_type": "markdown",
   "id": "9bc6ca65",
   "metadata": {},
   "source": [
    "### Subcategory: Evolutionary computation"
   ]
  },
  {
   "cell_type": "code",
   "execution_count": null,
   "id": "929db19b",
   "metadata": {},
   "outputs": [],
   "source": [
    "url = 'https://en.wikipedia.org/w/index.php?title=Category:Evolutionary_computation&oldid=544402561'\n",
    "\n",
    "new_glossary = getWikiGlossary(url, 1)\n",
    "full_glossary = full_glossary.union(set(new_glossary))\n",
    "print(new_glossary)"
   ]
  },
  {
   "cell_type": "markdown",
   "id": "055333a8",
   "metadata": {},
   "source": [
    "### Subcategory: Fuzzy logic"
   ]
  },
  {
   "cell_type": "code",
   "execution_count": null,
   "id": "2632df71",
   "metadata": {},
   "outputs": [],
   "source": [
    "url = 'https://en.wikipedia.org/w/index.php?title=Category:Fuzzy_logic&oldid=793087794'\n",
    "\n",
    "new_glossary = getWikiGlossary(url, 4)\n",
    "full_glossary = full_glossary.union(set(new_glossary))\n",
    "print(new_glossary[:20])\n",
    "print(new_glossary[-20:])"
   ]
  },
  {
   "cell_type": "markdown",
   "id": "3348eb13",
   "metadata": {},
   "source": [
    "### Subcategory: Game artificial intelligence"
   ]
  },
  {
   "cell_type": "code",
   "execution_count": null,
   "id": "5d6ea2a8",
   "metadata": {},
   "outputs": [],
   "source": [
    "url = 'https://en.wikipedia.org/w/index.php?title=Category:Inductive_logic_programming&oldid=387913459'\n",
    "\n",
    "new_glossary = getWikiGlossary(url, 1)\n",
    "full_glossary = full_glossary.union(set(new_glossary))\n",
    "print(new_glossary)"
   ]
  },
  {
   "cell_type": "markdown",
   "id": "4325fb82",
   "metadata": {},
   "source": [
    "### Subcategory: Kernel methods for machine learning"
   ]
  },
  {
   "cell_type": "code",
   "execution_count": null,
   "id": "aba6cdcb",
   "metadata": {},
   "outputs": [],
   "source": [
    "url = 'https://en.wikipedia.org/w/index.php?title=Category:Kernel_methods_for_machine_learning&oldid=588588547'\n",
    "\n",
    "new_glossary = getWikiGlossary(url, 1)\n",
    "full_glossary = full_glossary.union(set(new_glossary))\n",
    "print(new_glossary)"
   ]
  },
  {
   "cell_type": "markdown",
   "id": "547df270",
   "metadata": {},
   "source": [
    "### Subcategory: Latent variable models"
   ]
  },
  {
   "cell_type": "code",
   "execution_count": null,
   "id": "b7d89be3",
   "metadata": {},
   "outputs": [],
   "source": [
    "url = 'https://en.wikipedia.org/w/index.php?title=Category:Latent_variable_models&oldid=545529298'\n",
    "\n",
    "new_glossary = getWikiGlossary(url, 2)\n",
    "full_glossary = full_glossary.union(set(new_glossary))\n",
    "print(new_glossary)"
   ]
  },
  {
   "cell_type": "markdown",
   "id": "f2961dbc",
   "metadata": {},
   "source": [
    "### Subcategory: Learning in computer vision"
   ]
  },
  {
   "cell_type": "code",
   "execution_count": null,
   "id": "c70ea17e",
   "metadata": {},
   "outputs": [],
   "source": [
    "url = 'https://en.wikipedia.org/w/index.php?title=Category:Learning_in_computer_vision&oldid=604225892'\n",
    "\n",
    "new_glossary = getWikiGlossary(url, 0)\n",
    "full_glossary = full_glossary.union(set(new_glossary))\n",
    "print(new_glossary)"
   ]
  },
  {
   "cell_type": "markdown",
   "id": "1b9b1014",
   "metadata": {},
   "source": [
    "### Subcategory: Log-linear models"
   ]
  },
  {
   "cell_type": "code",
   "execution_count": null,
   "id": "9bf8bf91",
   "metadata": {},
   "outputs": [],
   "source": [
    "url = 'https://en.wikipedia.org/w/index.php?title=Category:Applied_statistics&oldid=712166689'\n",
    "\n",
    "new_glossary = getWikiGlossary(url, 1)\n",
    "full_glossary = full_glossary.union(set(new_glossary))\n",
    "print(new_glossary)"
   ]
  },
  {
   "cell_type": "markdown",
   "id": "5aa5623c",
   "metadata": {},
   "source": [
    "### Subcategory: Computational statistics"
   ]
  },
  {
   "cell_type": "code",
   "execution_count": null,
   "id": "093ca90b",
   "metadata": {},
   "outputs": [],
   "source": [
    "url = 'https://en.wikipedia.org/w/index.php?title=Category:Computational_statistics&oldid=801225813'\n",
    "\n",
    "new_glossary = getWikiGlossary(url, 1)\n",
    "full_glossary = full_glossary.union(set(new_glossary))\n",
    "print(new_glossary)"
   ]
  },
  {
   "cell_type": "markdown",
   "id": "6a1a1eda",
   "metadata": {},
   "source": [
    "### Subcategory: Philosophy of statistics"
   ]
  },
  {
   "cell_type": "code",
   "execution_count": null,
   "id": "4cfccc0e",
   "metadata": {},
   "outputs": [],
   "source": [
    "url = 'https://en.wikipedia.org/w/index.php?title=Category:Philosophy_of_statistics&oldid=750269865'\n",
    "\n",
    "new_glossary = getWikiGlossary(url, 1)\n",
    "full_glossary = full_glossary.union(set(new_glossary))\n",
    "print(new_glossary)"
   ]
  },
  {
   "cell_type": "markdown",
   "id": "d8292f9e",
   "metadata": {},
   "source": [
    "### Subcategory: Statistical methods"
   ]
  },
  {
   "cell_type": "code",
   "execution_count": null,
   "id": "89da0d36",
   "metadata": {},
   "outputs": [],
   "source": [
    "url = 'https://en.wikipedia.org/w/index.php?title=Category:Statistical_methods&oldid=733800116'\n",
    "\n",
    "new_glossary = getWikiGlossary(url, 0)\n",
    "full_glossary = full_glossary.union(set(new_glossary))\n",
    "print(new_glossary)"
   ]
  },
  {
   "cell_type": "markdown",
   "id": "d6ef6459",
   "metadata": {},
   "source": [
    "### Subcategory: Statistical software"
   ]
  },
  {
   "cell_type": "code",
   "execution_count": null,
   "id": "1e16dbe6",
   "metadata": {},
   "outputs": [],
   "source": [
    "url = 'https://en.wikipedia.org/w/index.php?title=Category:Statistical_software&oldid=750202311'\n",
    "\n",
    "new_glossary = getWikiGlossary(url, 3)\n",
    "full_glossary = full_glossary.union(set(new_glossary))\n",
    "print(new_glossary)"
   ]
  },
  {
   "cell_type": "markdown",
   "id": "68f7f8ef",
   "metadata": {},
   "source": [
    "### Subcategory: Statistical theory"
   ]
  },
  {
   "cell_type": "code",
   "execution_count": null,
   "id": "af4a2e9b",
   "metadata": {},
   "outputs": [],
   "source": [
    "url = 'https://en.wikipedia.org/w/index.php?title=Category:Statistical_theory&oldid=544507250'\n",
    "\n",
    "new_glossary = getWikiGlossary(url, 1)\n",
    "full_glossary = full_glossary.union(set(new_glossary))\n",
    "print(new_glossary)"
   ]
  },
  {
   "cell_type": "code",
   "execution_count": null,
   "id": "9fccdd4c",
   "metadata": {},
   "outputs": [],
   "source": [
    "url = 'https://en.wikipedia.org/w/index.php?title=Category:Artificial_immune_systems&oldid=736603339'\n",
    "\n",
    "new_glossary = getWikiGlossary(url, 1)\n",
    "full_glossary = full_glossary.union(set(new_glossary))\n",
    "print(new_glossary)"
   ]
  },
  {
   "cell_type": "markdown",
   "id": "a9c8e421",
   "metadata": {},
   "source": [
    "### Subcategory: Artificial intelligence associations"
   ]
  },
  {
   "cell_type": "code",
   "execution_count": null,
   "id": "99aa51f1",
   "metadata": {},
   "outputs": [],
   "source": [
    "url = 'https://en.wikipedia.org/w/index.php?title=Category:Artificial_intelligence_associations&oldid=547086824'\n",
    "\n",
    "new_glossary = getWikiGlossary(url, 0)\n",
    "full_glossary = full_glossary.union(set(new_glossary))\n",
    "print(new_glossary)"
   ]
  },
  {
   "cell_type": "markdown",
   "id": "1c87a4c4",
   "metadata": {},
   "source": [
    "### Subcategory: Category:Chatterbots"
   ]
  },
  {
   "cell_type": "code",
   "execution_count": null,
   "id": "becf5a55",
   "metadata": {},
   "outputs": [],
   "source": [
    "url = 'https://en.wikipedia.org/w/index.php?title=Category:Chatterbots&oldid=758306815'\n",
    "\n",
    "new_glossary = getWikiGlossary(url, 1)\n",
    "full_glossary = full_glossary.union(set(new_glossary))\n",
    "print(new_glossary)"
   ]
  },
  {
   "cell_type": "markdown",
   "id": "3b6380cb",
   "metadata": {},
   "source": [
    "### Subcategory: Cloud robotics"
   ]
  },
  {
   "cell_type": "code",
   "execution_count": null,
   "id": "ee81f94a",
   "metadata": {},
   "outputs": [],
   "source": [
    "url = 'https://en.wikipedia.org/w/index.php?title=Category:Cloud_robotics&oldid=758337773'\n",
    "\n",
    "new_glossary = getWikiGlossary(url, 1)\n",
    "full_glossary = full_glossary.union(set(new_glossary))\n",
    "print(new_glossary)"
   ]
  },
  {
   "cell_type": "markdown",
   "id": "20a875e4",
   "metadata": {},
   "source": [
    "### Subcategory: Cognitive architecture"
   ]
  },
  {
   "cell_type": "code",
   "execution_count": null,
   "id": "2a677526",
   "metadata": {},
   "outputs": [],
   "source": [
    "url = 'https://en.wikipedia.org/w/index.php?title=Category:Log-linear_models&oldid=750277203'\n",
    "\n",
    "new_glossary = getWikiGlossary(url, 1)\n",
    "full_glossary = full_glossary.union(set(new_glossary))\n",
    "print(new_glossary)"
   ]
  },
  {
   "cell_type": "markdown",
   "id": "952dcad0",
   "metadata": {},
   "source": [
    "### Subcategory: Loss functions"
   ]
  },
  {
   "cell_type": "code",
   "execution_count": null,
   "id": "0a961987",
   "metadata": {},
   "outputs": [],
   "source": [
    "url = 'https://en.wikipedia.org/w/index.php?title=Category:Loss_functions&oldid=740645154'\n",
    "\n",
    "new_glossary = getWikiGlossary(url, 1)\n",
    "full_glossary = full_glossary.union(set(new_glossary))\n",
    "print(new_glossary)"
   ]
  },
  {
   "cell_type": "markdown",
   "id": "249ce21b",
   "metadata": {},
   "source": [
    "### Subcategory: Machine learning algorithms"
   ]
  },
  {
   "cell_type": "code",
   "execution_count": null,
   "id": "590abcb6",
   "metadata": {},
   "outputs": [],
   "source": [
    "url = 'https://en.wikipedia.org/w/index.php?title=Category:Machine_learning_algorithms&oldid=675167466'\n",
    "\n",
    "new_glossary = getWikiGlossary(url, 0)\n",
    "full_glossary = full_glossary.union(set(new_glossary))\n",
    "print(new_glossary[:20])\n",
    "print(new_glossary[-20:])"
   ]
  },
  {
   "cell_type": "markdown",
   "id": "a6ddbcc3",
   "metadata": {},
   "source": [
    "### Subcategory: Machine learning task"
   ]
  },
  {
   "cell_type": "code",
   "execution_count": null,
   "id": "def74cf7",
   "metadata": {},
   "outputs": [],
   "source": [
    "url = 'https://en.wikipedia.org/w/index.php?title=Category:Machine_learning_task&oldid=683599642'\n",
    "\n",
    "new_glossary = getWikiGlossary(url, 0)\n",
    "full_glossary = full_glossary.union(set(new_glossary))\n",
    "print(new_glossary)"
   ]
  },
  {
   "cell_type": "markdown",
   "id": "1ba6b081",
   "metadata": {},
   "source": [
    "### Subcategory: Markov models"
   ]
  },
  {
   "cell_type": "code",
   "execution_count": null,
   "id": "d211e061",
   "metadata": {},
   "outputs": [],
   "source": [
    "url = 'https://en.wikipedia.org/w/index.php?title=Category:Knowledge_representation&oldid=742239637&pagefrom=VisiRule#mw-pages'\n",
    "\n",
    "new_glossary = getWikiGlossary(url, 0)\n",
    "full_glossary = full_glossary.union(set(new_glossary))\n",
    "print(new_glossary)"
   ]
  },
  {
   "cell_type": "markdown",
   "id": "5830baec",
   "metadata": {},
   "source": [
    "### Subcategory: Logic_programming"
   ]
  },
  {
   "cell_type": "code",
   "execution_count": null,
   "id": "f162a9fc",
   "metadata": {},
   "outputs": [],
   "source": [
    "url = 'https://en.wikipedia.org/w/index.php?title=Category:Logic_programming&oldid=547551230'\n",
    "\n",
    "new_glossary = getWikiGlossary(url, 2)\n",
    "full_glossary = full_glossary.union(set(new_glossary))\n",
    "print(new_glossary)"
   ]
  },
  {
   "cell_type": "markdown",
   "id": "9eaea3ed",
   "metadata": {},
   "source": [
    "### Subcategory: Mind-body problem"
   ]
  },
  {
   "cell_type": "code",
   "execution_count": null,
   "id": "b4d24713",
   "metadata": {},
   "outputs": [],
   "source": [
    "url = 'https://en.wikipedia.org/w/index.php?title=Category:Artificial_intelligence_stubs&oldid=636313568'\n",
    "\n",
    "new_glossary = getWikiGlossary(url, 1)\n",
    "full_glossary = full_glossary.union(set(new_glossary))\n",
    "print(new_glossary[:20])\n",
    "print(new_glossary[-20:])"
   ]
  },
  {
   "cell_type": "markdown",
   "id": "346c440c",
   "metadata": {},
   "source": [
    "## Category: Computational Neuroscience"
   ]
  },
  {
   "cell_type": "code",
   "execution_count": null,
   "id": "ef5b0031",
   "metadata": {},
   "outputs": [],
   "source": [
    "url = 'https://en.wikipedia.org/w/index.php?title=Category:Computational_neuroscience&oldid=748821402'\n",
    "\n",
    "new_glossary = getWikiGlossary(url, 2)\n",
    "full_glossary = full_glossary.union(set(new_glossary))\n",
    "print(new_glossary[:20])\n",
    "print(new_glossary[-20:])"
   ]
  },
  {
   "cell_type": "markdown",
   "id": "6475b959",
   "metadata": {},
   "source": [
    "### Subcategory: Neural coding"
   ]
  },
  {
   "cell_type": "code",
   "execution_count": null,
   "id": "1dff24de",
   "metadata": {},
   "outputs": [],
   "source": [
    "url = 'https://en.wikipedia.org/w/index.php?title=Category:Neural_coding&oldid=547877179'\n",
    "\n",
    "new_glossary = getWikiGlossary(url, 2)\n",
    "full_glossary = full_glossary.union(set(new_glossary))\n",
    "print(new_glossary)"
   ]
  },
  {
   "cell_type": "markdown",
   "id": "b9e8e2b3",
   "metadata": {},
   "source": [
    "### Subcategory: Neurotechnology"
   ]
  },
  {
   "cell_type": "code",
   "execution_count": null,
   "id": "1760e613",
   "metadata": {},
   "outputs": [],
   "source": [
    "url = 'https://en.wikipedia.org/w/index.php?title=Category:Bayesian_networks&oldid=547373464'\n",
    "\n",
    "new_glossary = getWikiGlossary(url, 1)\n",
    "full_glossary = full_glossary.union(set(new_glossary))\n",
    "print(new_glossary)"
   ]
  },
  {
   "cell_type": "markdown",
   "id": "0893f068",
   "metadata": {},
   "source": [
    "### Subcategory: Classification algorithms"
   ]
  },
  {
   "cell_type": "code",
   "execution_count": null,
   "id": "e42e847d",
   "metadata": {},
   "outputs": [],
   "source": [
    "url = 'https://en.wikipedia.org/w/index.php?title=Category:Classification_algorithms&oldid=753358258'\n",
    "\n",
    "new_glossary = getWikiGlossary(url, 0)\n",
    "full_glossary = full_glossary.union(set(new_glossary))\n",
    "print(new_glossary[:20])\n",
    "print(new_glossary[-20:])"
   ]
  },
  {
   "cell_type": "markdown",
   "id": "77dde672",
   "metadata": {},
   "source": [
    "### Subcategory: Cluster analysis"
   ]
  },
  {
   "cell_type": "code",
   "execution_count": null,
   "id": "381860bd",
   "metadata": {},
   "outputs": [],
   "source": [
    "url = 'https://en.wikipedia.org/w/index.php?title=Category:Cluster_analysis&oldid=751632290'\n",
    "\n",
    "new_glossary = getWikiGlossary(url, 1)\n",
    "full_glossary = full_glossary.union(set(new_glossary))\n",
    "print(new_glossary)"
   ]
  },
  {
   "cell_type": "markdown",
   "id": "7c78ecff",
   "metadata": {},
   "source": [
    "### Subcategory: Computational learning theory"
   ]
  },
  {
   "cell_type": "code",
   "execution_count": null,
   "id": "0aef2c27",
   "metadata": {},
   "outputs": [],
   "source": [
    "url = 'https://en.wikipedia.org/w/index.php?title=Category:Neurotechnology&oldid=548277847'\n",
    "\n",
    "new_glossary = getWikiGlossary(url, 1)\n",
    "full_glossary = full_glossary.union(set(new_glossary))\n",
    "print(new_glossary[:20])\n",
    "print(new_glossary[-20:])"
   ]
  },
  {
   "cell_type": "markdown",
   "id": "75b8088b",
   "metadata": {},
   "source": [
    "write glossary to the disk to prevent downloading from wiki each time"
   ]
  },
  {
   "cell_type": "code",
   "execution_count": null,
   "id": "f17ff732",
   "metadata": {},
   "outputs": [],
   "source": [
    "with open('LargeMachineLearningGlossaryRaw.txt', 'w') as out_f:\n",
    "    for term in full_glossary:\n",
    "        out_f.write(str(term) + '\\n')"
   ]
  },
  {
   "cell_type": "markdown",
   "id": "a4c71750",
   "metadata": {},
   "source": [
    "### post-processing"
   ]
  }
 ],
 "metadata": {},
 "nbformat": 4,
 "nbformat_minor": 5
}
