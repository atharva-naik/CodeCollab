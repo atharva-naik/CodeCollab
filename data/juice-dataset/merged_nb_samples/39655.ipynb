{
 "cells": [
  {
   "cell_type": "markdown",
   "id": "39d856f4",
   "metadata": {},
   "source": [
    "# Simple Linear Regression Example"
   ]
  },
  {
   "cell_type": "code",
   "execution_count": null,
   "id": "253e5d89",
   "metadata": {},
   "outputs": [],
   "source": [
    "import keras\n",
    "import numpy as np\n",
    "import matplotlib.pyplot as plt"
   ]
  },
  {
   "cell_type": "markdown",
   "id": "253b6d4c",
   "metadata": {},
   "source": [
    "## Linear Data\n",
    "- Some random noise was added.\n",
    "- Split the data into training and testing dataset. (ratio = 0.2)"
   ]
  },
  {
   "cell_type": "code",
   "execution_count": null,
   "id": "927ff529",
   "metadata": {},
   "outputs": [],
   "source": [
    "# Prepare Data\n",
    "def dataset(ratio=0.2, num=100):\n",
    "    y = lambda x: x * 2 + 1\n",
    "    distribution = 2.5\n",
    "    X_train = np.linspace(0,10,num=num*(1-ratio),endpoint=True)\n",
    "    X_test = np.linspace(0,10,num=num*ratio,endpoint=True)\n",
    "    Y_train = np.random.normal(y(X_train), distribution)\n",
    "    Y_test = np.random.normal(y(X_test), distribution)\n",
    "    return (X_train, Y_train), (X_test, Y_test)\n",
    "\n",
    "(X_train, Y_train), (X_test, Y_test) = dataset()\n",
    "\n",
    "# Visualize Data\n",
    "plt.plot(X_train, Y_train, 'rx')\n",
    "plt.plot(X_test, Y_test, 'bo')"
   ]
  },
  {
   "cell_type": "markdown",
   "id": "ee026bb1",
   "metadata": {},
   "source": [
    "## Model\n",
    "- Sequential : Simple stacking layer type of structure\n",
    "    - Dense: Fully-Connected layer\n",
    "- First layer must have input dimension.\n",
    "    - 'input_dim=1'\n",
    "    - It is possible to add another layer that only takes inputs.\n",
    "\n",
    "### Compile\n",
    "- Define loss function and training method\n",
    "    - SGD: Stochastic gradient descent optimizer\n",
    "    - mse: mean squared error"
   ]
  }
 ],
 "metadata": {},
 "nbformat": 4,
 "nbformat_minor": 5
}
