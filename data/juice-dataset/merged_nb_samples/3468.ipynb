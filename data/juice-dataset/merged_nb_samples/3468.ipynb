{
 "cells": [
  {
   "cell_type": "markdown",
   "id": "a217ea79",
   "metadata": {},
   "source": [
    "\n",
    "- Scripting in large application:\n",
    "    - Blender, gimp, …\n"
   ]
  },
  {
   "cell_type": "markdown",
   "id": "eba9d815",
   "metadata": {},
   "source": [
    "\n",
    "- Graphical user interfaces & visualization:\n",
    "    - Bindings to gtk, Qt, Tcl/Tk, wxWidgets, …\n",
    "    - Libraries for visualization: matplotlib, VTK, bokeh, bqplot, …\n",
    "\n"
   ]
  },
  {
   "cell_type": "markdown",
   "id": "f55bc2a4",
   "metadata": {},
   "source": [
    "- Scientific libraries:\n",
    "    - Numpy, scipy, various scikit-image, -learn, -cuda …\n",
    "    - Pandas, numba, numexpr, …\n"
   ]
  },
  {
   "cell_type": "markdown",
   "id": "7e81eb33",
   "metadata": {},
   "source": [
    "\n",
    "- More locally developed programs and libraries (ESRF driven):\n",
    "    - PyMca, PyHST, PyFAI, FabIO, silx, bliss …\n"
   ]
  },
  {
   "cell_type": "markdown",
   "id": "0a8baa5c",
   "metadata": {},
   "source": [
    "## Why Python for data-analysis ?\n",
    "\n",
    "- Python can be learned in a couple of days\n",
    "- JuPyteR is ideal for prototyping\n",
    "- Free alternative to Matlab\n",
    "- It runs everywhere\n",
    "- Batteries are included\n",
    "- Excellent community support & local expertise\n",
    "- Can be extended into larger projects\n",
    "- Interfaces to low-level languages (for performances)\n",
    "\n",
    "![batteries are included](img/batteries_included.png \"Batteries included\")\n"
   ]
  },
  {
   "cell_type": "markdown",
   "id": "c6c22c93",
   "metadata": {},
   "source": [
    "##  Play with the notebook as a simple calculator \n",
    "\n",
    "- What is the result of 4+7/2?\n",
    "- What Python version is used? Where is the Python interpreter on located on the machine?\n"
   ]
  },
  {
   "cell_type": "code",
   "execution_count": null,
   "id": "bc6638e0",
   "metadata": {},
   "outputs": [],
   "source": [
    "4+7/2"
   ]
  },
  {
   "cell_type": "code",
   "execution_count": null,
   "id": "ee6edbad",
   "metadata": {},
   "outputs": [],
   "source": [
    "#Nota: \n",
    "# - the integer division is obtained from: //\n",
    "# - The division has priority over addition\n",
    "4+7//2"
   ]
  },
  {
   "cell_type": "code",
   "execution_count": null,
   "id": "16174628",
   "metadata": {},
   "outputs": [],
   "source": [
    "import sys\n",
    "print(sys.version)"
   ]
  },
  {
   "cell_type": "code",
   "execution_count": null,
   "id": "5a6f139b",
   "metadata": {},
   "outputs": [],
   "source": [
    "print(sys.executable)"
   ]
  },
  {
   "cell_type": "code",
   "execution_count": null,
   "id": "2e2756e9",
   "metadata": {},
   "outputs": [],
   "source": [
    "#Calculator example\n",
    "N = [1, 3, 4, 5, 7, 8]\n",
    "print('The sum of ∑_i∈N i*i =', sum( i**2 for i in N ) )"
   ]
  },
  {
   "cell_type": "markdown",
   "id": "94e17e30",
   "metadata": {},
   "source": [
    "**Python uses 0-based indexing**"
   ]
  },
  {
   "cell_type": "code",
   "execution_count": null,
   "id": "37200798",
   "metadata": {},
   "outputs": [],
   "source": [
    "N[0]"
   ]
  },
  {
   "cell_type": "markdown",
   "id": "2f11dace",
   "metadata": {},
   "source": [
    "## Getting help !\n",
    "\n",
    "Python has extensive **help** built in. You can execute `help()` for an overview or `help(x)` for any library, object or type x to get more information. For example: help(). Use `quit` to leave the help mode\n"
   ]
  },
  {
   "cell_type": "code",
   "execution_count": null,
   "id": "831a7c36",
   "metadata": {},
   "outputs": [],
   "source": [
    "help()"
   ]
  },
  {
   "cell_type": "markdown",
   "id": "44bb7ef9",
   "metadata": {},
   "source": [
    "Another option is to use the `?` after a function name like `print?`"
   ]
  },
  {
   "cell_type": "code",
   "execution_count": null,
   "id": "0e5f3c16",
   "metadata": {},
   "outputs": [],
   "source": [
    "print?"
   ]
  },
  {
   "cell_type": "markdown",
   "id": "71acbf97",
   "metadata": {},
   "source": [
    " ## Variables & Values\n",
    "    \n",
    "A `name` that is used to denote something or a `value` is called a **variable**. In python, variables can be declared and values can be assigned to it as follows, using the **=** sign."
   ]
  },
  {
   "cell_type": "code",
   "execution_count": null,
   "id": "59b23127",
   "metadata": {},
   "outputs": [],
   "source": [
    "x = 2          # anything after a '#' is a comment\n",
    "y = 5\n",
    "xy = 'Hey'\n",
    "print(x+y, xy) # not really necessary as the last value in a bit of code is displayed by default"
   ]
  },
  {
   "cell_type": "markdown",
   "id": "5c966342",
   "metadata": {},
   "source": [
    " Multiple variables can be assigned with the same value:"
   ]
  },
  {
   "cell_type": "markdown",
   "id": "b8942b77",
   "metadata": {},
   "source": [
    "\n",
    "- Open source\n",
    "    - BSD-like license\n",
    "    - Means free for you\n",
    "    - Guaranteed to stay free\n"
   ]
  },
  {
   "cell_type": "markdown",
   "id": "fff70b68",
   "metadata": {},
   "source": [
    "\n",
    "- Portable\n",
    "    - Runs on any computer you may have access to:\n",
    "        - Supercomputers\n",
    "        - Servers\n",
    "        - Desktop computers\n",
    "        - Smartphones\n",
    "        - Microcontrolers ([micropython](https://micropython.org/))"
   ]
  },
  {
   "cell_type": "markdown",
   "id": "42cda04d",
   "metadata": {},
   "source": [
    "- Easily extendable: The ideal `glue` language.\n",
    "    - in C, Fortran, …\n",
    "    - Once compiled, can be as fast as C"
   ]
  },
  {
   "cell_type": "markdown",
   "id": "0b6090d8",
   "metadata": {},
   "source": [
    "## Examples of applications in Python"
   ]
  },
  {
   "cell_type": "markdown",
   "id": "ad3dbd41",
   "metadata": {},
   "source": [
    "- Scientific programs:\n",
    "    - PyMol, Sage\n"
   ]
  },
  {
   "cell_type": "markdown",
   "id": "3287e500",
   "metadata": {},
   "source": [
    "- Web frameworks:\n",
    "    - Django, Zope, Plone, …\n"
   ]
  }
 ],
 "metadata": {},
 "nbformat": 4,
 "nbformat_minor": 5
}
