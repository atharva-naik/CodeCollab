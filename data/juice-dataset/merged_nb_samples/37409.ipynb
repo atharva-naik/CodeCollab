{
 "cells": [
  {
   "cell_type": "markdown",
   "id": "1c8961a8",
   "metadata": {},
   "source": [
    "#  Image4Layer\n",
    "\n",
    "It is implemented by 'pillow' in blend mode of CSS3. And more...\n",
    "\n",
    "# Install\n",
    "\n",
    "```\n",
    "pip install image4layer\n",
    "```\n",
    "\n",
    "# Usage"
   ]
  },
  {
   "cell_type": "code",
   "execution_count": null,
   "id": "9566d545",
   "metadata": {},
   "outputs": [],
   "source": [
    "from PIL import Image\n",
    "from image4layer import Image4Layer\n",
    "\n",
    "source = Image.open(\"tests/ducky.png\")\n",
    "backdrop = Image.open(\"tests/backdrop.png\")"
   ]
  },
  {
   "cell_type": "code",
   "execution_count": null,
   "id": "f75c5a39",
   "metadata": {},
   "outputs": [],
   "source": [
    "Image4Layer.__version__"
   ]
  },
  {
   "cell_type": "markdown",
   "id": "b3f86d91",
   "metadata": {},
   "source": [
    "# Separable blend modes"
   ]
  },
  {
   "cell_type": "markdown",
   "id": "92809966",
   "metadata": {},
   "source": [
    "### normal"
   ]
  },
  {
   "cell_type": "code",
   "execution_count": null,
   "id": "97e7f659",
   "metadata": {},
   "outputs": [],
   "source": [
    "Image4Layer.normal(backdrop, source)"
   ]
  },
  {
   "cell_type": "markdown",
   "id": "a368d55b",
   "metadata": {},
   "source": [
    "### multiply"
   ]
  },
  {
   "cell_type": "code",
   "execution_count": null,
   "id": "c4d8b5c5",
   "metadata": {},
   "outputs": [],
   "source": [
    "Image4Layer.multiply(backdrop, source)"
   ]
  },
  {
   "cell_type": "markdown",
   "id": "a6f6a9e4",
   "metadata": {},
   "source": [
    "### screen"
   ]
  },
  {
   "cell_type": "code",
   "execution_count": null,
   "id": "17f0e651",
   "metadata": {},
   "outputs": [],
   "source": [
    "Image4Layer.screen(backdrop, source)"
   ]
  },
  {
   "cell_type": "markdown",
   "id": "14a8c49e",
   "metadata": {},
   "source": [
    "### overlay"
   ]
  },
  {
   "cell_type": "code",
   "execution_count": null,
   "id": "e0ac23fc",
   "metadata": {},
   "outputs": [],
   "source": [
    "Image4Layer.overlay(backdrop, source)"
   ]
  },
  {
   "cell_type": "markdown",
   "id": "c24c92c9",
   "metadata": {},
   "source": [
    "### darken"
   ]
  },
  {
   "cell_type": "code",
   "execution_count": null,
   "id": "8ad7070d",
   "metadata": {},
   "outputs": [],
   "source": [
    "Image4Layer.darken(backdrop, source)"
   ]
  },
  {
   "cell_type": "markdown",
   "id": "37816242",
   "metadata": {},
   "source": [
    "### lighten"
   ]
  },
  {
   "cell_type": "code",
   "execution_count": null,
   "id": "3ec8e35b",
   "metadata": {},
   "outputs": [],
   "source": [
    "Image4Layer.lighten(backdrop, source)"
   ]
  },
  {
   "cell_type": "markdown",
   "id": "daebcc6e",
   "metadata": {},
   "source": [
    "### color-dodge"
   ]
  },
  {
   "cell_type": "code",
   "execution_count": null,
   "id": "87ffe7b8",
   "metadata": {},
   "outputs": [],
   "source": [
    "Image4Layer.color_dodge(backdrop, source)"
   ]
  },
  {
   "cell_type": "markdown",
   "id": "ca95918e",
   "metadata": {},
   "source": [
    "### color-burn"
   ]
  },
  {
   "cell_type": "code",
   "execution_count": null,
   "id": "59a595de",
   "metadata": {},
   "outputs": [],
   "source": [
    "Image4Layer.color_burn(backdrop, source)"
   ]
  },
  {
   "cell_type": "markdown",
   "id": "7a8f2617",
   "metadata": {},
   "source": [
    "### hard-light"
   ]
  },
  {
   "cell_type": "code",
   "execution_count": null,
   "id": "057d035a",
   "metadata": {},
   "outputs": [],
   "source": [
    "Image4Layer.hard_light(backdrop, source)"
   ]
  },
  {
   "cell_type": "markdown",
   "id": "db864aed",
   "metadata": {},
   "source": [
    "### soft-light"
   ]
  },
  {
   "cell_type": "code",
   "execution_count": null,
   "id": "6c42f0ec",
   "metadata": {},
   "outputs": [],
   "source": [
    "Image4Layer.soft_light(backdrop, source)"
   ]
  },
  {
   "cell_type": "markdown",
   "id": "e3265850",
   "metadata": {},
   "source": [
    "### difference"
   ]
  },
  {
   "cell_type": "code",
   "execution_count": null,
   "id": "12ed79d4",
   "metadata": {},
   "outputs": [],
   "source": [
    "Image4Layer.difference(backdrop, source)"
   ]
  },
  {
   "cell_type": "markdown",
   "id": "a665d2c7",
   "metadata": {},
   "source": [
    "### exclusion"
   ]
  },
  {
   "cell_type": "code",
   "execution_count": null,
   "id": "2b093608",
   "metadata": {},
   "outputs": [],
   "source": [
    "Image4Layer.exclusion(backdrop, source)"
   ]
  },
  {
   "cell_type": "markdown",
   "id": "67e91a92",
   "metadata": {},
   "source": [
    "# Non-separable blend modes"
   ]
  },
  {
   "cell_type": "markdown",
   "id": "cd1ce2d2",
   "metadata": {},
   "source": [
    "### hue"
   ]
  },
  {
   "cell_type": "code",
   "execution_count": null,
   "id": "ebabf36d",
   "metadata": {},
   "outputs": [],
   "source": [
    "Image4Layer.hue(backdrop, source)"
   ]
  },
  {
   "cell_type": "markdown",
   "id": "86f59258",
   "metadata": {},
   "source": [
    "### saturation"
   ]
  },
  {
   "cell_type": "code",
   "execution_count": null,
   "id": "24fd4a3e",
   "metadata": {},
   "outputs": [],
   "source": [
    "Image4Layer.saturation(backdrop, source)"
   ]
  },
  {
   "cell_type": "markdown",
   "id": "dcda1b57",
   "metadata": {},
   "source": [
    "### color"
   ]
  },
  {
   "cell_type": "code",
   "execution_count": null,
   "id": "11b83409",
   "metadata": {},
   "outputs": [],
   "source": [
    "Image4Layer.color(backdrop, source)"
   ]
  },
  {
   "cell_type": "markdown",
   "id": "23097f58",
   "metadata": {},
   "source": [
    "### luminosity"
   ]
  },
  {
   "cell_type": "code",
   "execution_count": null,
   "id": "c600fce0",
   "metadata": {},
   "outputs": [],
   "source": [
    "Image4Layer.luminosity(backdrop, source)"
   ]
  },
  {
   "cell_type": "markdown",
   "id": "4e0a73dd",
   "metadata": {},
   "source": [
    "# More blend modes"
   ]
  },
  {
   "cell_type": "markdown",
   "id": "088a7a26",
   "metadata": {},
   "source": [
    "### vivid-light"
   ]
  },
  {
   "cell_type": "code",
   "execution_count": null,
   "id": "7caf7dc4",
   "metadata": {},
   "outputs": [],
   "source": [
    "Image4Layer.vivid_light(backdrop, source)"
   ]
  },
  {
   "cell_type": "markdown",
   "id": "9a6b33f1",
   "metadata": {},
   "source": [
    "### pin-light"
   ]
  },
  {
   "cell_type": "code",
   "execution_count": null,
   "id": "8c62f6fa",
   "metadata": {},
   "outputs": [],
   "source": [
    "Image4Layer.pin_light(backdrop, source)"
   ]
  },
  {
   "cell_type": "markdown",
   "id": "37f48d05",
   "metadata": {},
   "source": [
    "### linear-dodge"
   ]
  },
  {
   "cell_type": "code",
   "execution_count": null,
   "id": "56d964a1",
   "metadata": {},
   "outputs": [],
   "source": [
    "Image4Layer.linear_dodge(backdrop, source)"
   ]
  },
  {
   "cell_type": "markdown",
   "id": "80f7c749",
   "metadata": {},
   "source": [
    "### subtract"
   ]
  }
 ],
 "metadata": {},
 "nbformat": 4,
 "nbformat_minor": 5
}
