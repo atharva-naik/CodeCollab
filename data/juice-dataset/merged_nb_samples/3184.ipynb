{
 "cells": [
  {
   "cell_type": "markdown",
   "id": "68086bfd",
   "metadata": {},
   "source": [
    "\n",
    "# Define the species interaction network\n",
    "\n",
    "We define the species interaction network:\n",
    "* `positive_edges_dict`, a dictionary that specifies the positive interactions between species; and \n",
    "* `negative_edges_dict`, a dictionary that specifies the negative interactions between species."
   ]
  },
  {
   "cell_type": "code",
   "execution_count": null,
   "id": "b10254d4",
   "metadata": {},
   "outputs": [],
   "source": [
    "# spp_list = ['s1','s2','s3','s4','s5']\n",
    "\n",
    "# key is recipient of a positive effect\n",
    "positive_edges_dict = {\n",
    "'s5': ['s4'],\n",
    "'s3': ['s2', 's4', 's5'],\n",
    "}\n",
    "\n",
    "# key is recipient of a negative effect\n",
    "negative_edges_dict = {\n",
    "'s5': ['s5'],\n",
    "'s4': ['s4', 's5', 's3'],\n",
    "'s3': ['s3'],\n",
    "'s2': ['s2', 's1', 's3'],\n",
    "'s1': ['s1', 's2'],\n",
    "}"
   ]
  },
  {
   "cell_type": "markdown",
   "id": "da1db091",
   "metadata": {},
   "source": [
    "We encode the network structure as a `networkx` digraph. The function `initialise_foodweb` stores the signs of the interactions in the edge data dictionary."
   ]
  },
  {
   "cell_type": "code",
   "execution_count": null,
   "id": "4c6d379a",
   "metadata": {},
   "outputs": [],
   "source": [
    "from qualmod import initialise_foodweb\n",
    "\n",
    "web = initialise_foodweb(positive_edges_dict, negative_edges_dict)\n",
    "\n",
    "# print edges\n",
    "for edge in web.edges(data=True):\n",
    "    print(edge)\n"
   ]
  },
  {
   "cell_type": "markdown",
   "id": "bdd17290",
   "metadata": {},
   "source": [
    "The package `networkx` provides a quick way to plot the interaction network."
   ]
  },
  {
   "cell_type": "code",
   "execution_count": null,
   "id": "6b6abb30",
   "metadata": {},
   "outputs": [],
   "source": [
    "import networkx as nx\n",
    "import matplotlib.pyplot as plt\n",
    "\n",
    "pos=nx.spring_layout(web)\n",
    "nx.draw_networkx_labels(web, pos)\n",
    "nx.draw_networkx_nodes(web, \n",
    "                       pos, \n",
    "                       node_color = 'white', \n",
    "                       edgecolors='black', \n",
    "                       node_size=500)\n",
    "\n",
    "edge_colors = [ v[2]['color'] for v in web.edges(data=True) ]\n",
    "nx.draw_networkx_edges(web, \n",
    "                       pos, \n",
    "                       edge_color=edge_colors, \n",
    "                       arrows=True, \n",
    "                       arrowsize=40);\n",
    "plt.show()"
   ]
  },
  {
   "cell_type": "markdown",
   "id": "828f027a",
   "metadata": {},
   "source": [
    "The package `qualmod` also includes a function that uses `graphviz` to draw the interaction network. This is useful if we want to create a `.pdf` of the network to embed in a document, etc."
   ]
  },
  {
   "cell_type": "code",
   "execution_count": null,
   "id": "6b2af389",
   "metadata": {},
   "outputs": [],
   "source": [
    "from qualmod import draw_foodweb\n",
    "from IPython.display import IFrame\n",
    "from IPython.display import Image\n",
    "import os\n",
    "\n",
    "# use draw_foodweb to create a graphviz dot file \n",
    "# defining the interaction network\n",
    "draw_foodweb(web, f_name = 'web.dot')\n",
    "\n",
    "# call graphviz externally to create a pdf of the \n",
    "# interaction network\n",
    "os.system(\"dot -Tpdf web.dot > web.pdf\")\n",
    "\n",
    "# display the pdf of the interaction network here in Jupyter\n",
    "# IFrame(\"web.pdf\", width=500, height=600)\n",
    "\n",
    "# call graphviz to create a png, display in \n",
    "# markdown cell\n",
    "os.system(\"dot -Tpng web.dot > web.png\")"
   ]
  },
  {
   "cell_type": "markdown",
   "id": "4df8cc99",
   "metadata": {},
   "source": [
    "![title](web.png)\n",
    "\n",
    "`web.png`"
   ]
  },
  {
   "cell_type": "markdown",
   "id": "8466b556",
   "metadata": {},
   "source": [
    "The interaction network can also be converted into a qualitative community matrix, `Mq` below, using the function `qualitative_community_matrix`."
   ]
  },
  {
   "cell_type": "code",
   "execution_count": null,
   "id": "ff41a5a0",
   "metadata": {},
   "outputs": [],
   "source": [
    "print(s2idx)\n",
    "print(s2idx['s1'])\n",
    "print(s2idx.inv[0])"
   ]
  },
  {
   "cell_type": "markdown",
   "id": "3e4c9676",
   "metadata": {},
   "source": [
    "# Randomly sampling perturbation responses / parameter sweep\n",
    "\n",
    "In the example in Fig. 2 of the paper, we are interested in the response of species `s3`, `s4`, and `s5` to a negative press-perturbation of species `s3`."
   ]
  },
  {
   "cell_type": "code",
   "execution_count": null,
   "id": "14c9003c",
   "metadata": {},
   "outputs": [],
   "source": [
    "# which species is controlled \n",
    "# (i.e. perturbed e.g. by pest control program)\n",
    "control_list = ['s3']\n",
    "\n",
    "# the species we're interested in the responses of\n",
    "monitored_list = ['s3','s4','s5']"
   ]
  },
  {
   "cell_type": "markdown",
   "id": "a51e7bb8",
   "metadata": {},
   "source": [
    "In probabilistic Qualitative Modelling, the monitored species' response to the press-perturbation can be obtained using Monte Carlo simulation. The interaction-strength magnitudes in the community matrix are sampled from $a_{i,j} \\sim \\mathcal{U}(0,1)$, and the positive and negative responses are counted: `countResponses` below.\n",
    "\n",
    "In the Boolean approach, random sampling can also be used to do a parameter-value sweep of the model behaviour. The objective is to obtain a set, `observedResponseCombinations`, that lists every species-response combination that is possible, regardless of what the interaction-strength magnitudes are. Here note that, although we again sample from a uniform distribution, the choice is of distribution is somewhat arbitrary. So long as we obtain good-enough coverage of the parameter space that we obtain every possible response combination, then any sampling distribution can be used.\n",
    "\n",
    "In this example, we apply only one plausibility criterion: the community matrix must be stable.\n",
    "\n",
    "The method uses the sensitivity matrix approach to obtain species responses (`Sq`)."
   ]
  },
  {
   "cell_type": "code",
   "execution_count": null,
   "id": "d7ee8081",
   "metadata": {},
   "outputs": [],
   "source": [
    "import numpy as np\n",
    "\n",
    "# size of the system, can also use sz = web.order()\n",
    "sz = Mq.shape[0] \n",
    "\n",
    "# initialise collected responses with empty sets\n",
    "observedResponseCombinations = set()\n",
    "\n",
    "# initialise counts of positive responses with zeros\n",
    "countResponses = np.array([0]*len(control_list)*len(monitored_list))\n",
    "\n",
    "noSamples = 100\n",
    "for n in range(noSamples): \n",
    "    \n",
    "    # find a random community matrix that is stable\n",
    "    maxEig = 1\n",
    "    while maxEig > 0:\n",
    "        \n",
    "        M = np.multiply( np.random.random_sample((sz,sz)), Mq )\n",
    "        maxEig = max(np.real(np.linalg.eigvals(M)))\n",
    "        \n",
    "    # find sensitivity matrix\n",
    "    Sq = - np.linalg.inv(M)\n",
    "\n",
    "    # Boolean approach:\n",
    "    # ---\n",
    "    \n",
    "    #  find the signs of responses of each monitored species \n",
    "    #  to perturbations in each control species\n",
    "    response = tuple(['neg' if Sq[s2idx[ms],s2idx[cs]]<0 else 'pos' \n",
    "                      for cs in control_list \n",
    "                      for ms in monitored_list ])\n",
    "    \n",
    "    \n",
    "    #  add response to our collection of observed responses\n",
    "    observedResponseCombinations.add(response)\n",
    "    \n",
    "    # Probabilistic approach:\n",
    "    # ---\n",
    "    \n",
    "    #  add positive responses to count\n",
    "    posResponses = np.array([ 0 if Sq[s2idx[ms],s2idx[cs]]<0 else 1 \n",
    "                             for cs in control_list \n",
    "                             for ms in monitored_list ])\n",
    "    countResponses += posResponses\n"
   ]
  },
  {
   "cell_type": "markdown",
   "id": "401b0ed9",
   "metadata": {},
   "source": [
    "The two types of intermediate results are shown below. For the probabilistic approach, we have a count of positive responses in each species:"
   ]
  },
  {
   "cell_type": "code",
   "execution_count": null,
   "id": "28f95628",
   "metadata": {},
   "outputs": [],
   "source": [
    "countResponses"
   ]
  },
  {
   "cell_type": "markdown",
   "id": "85bc1b9b",
   "metadata": {},
   "source": [
    "For the Boolean approach, we have a list of species-response combinations:"
   ]
  },
  {
   "cell_type": "code",
   "execution_count": null,
   "id": "b3b83865",
   "metadata": {},
   "outputs": [],
   "source": [
    "observedResponseCombinations"
   ]
  },
  {
   "cell_type": "markdown",
   "id": "b67a06c3",
   "metadata": {},
   "source": [
    "# Probabilistic approach\n",
    "\n",
    "In the probabilistic approach, the proportions of responses giving positive or negative species response are interpreted probabilistically.\n",
    "\n",
    "In this example, `probabilityResponses` gives stronger support for a positive response in species `s3`, and gives stronger support for a negative response in species `s4` and `s5`."
   ]
  },
  {
   "cell_type": "code",
   "execution_count": null,
   "id": "2f863445",
   "metadata": {},
   "outputs": [],
   "source": [
    "probabilityResponses = countResponses / noSamples\n",
    "\n",
    "plt.title('responses to a negative press perturbation of s3')\n",
    "plt.bar(range(len(monitored_list)), \n",
    "        probabilityResponses, \n",
    "        tick_label=monitored_list)\n",
    "plt.ylim((0,1))\n",
    "plt.ylabel('probability of a positive response')\n",
    "plt.xlabel('species')\n",
    "plt.show()"
   ]
  },
  {
   "cell_type": "markdown",
   "id": "eb7e03f6",
   "metadata": {},
   "source": [
    "# Boolean approach\n",
    "\n",
    "In the Boolean approach, the species response-combinations that the model predicts are interpreted using Boolean algebra.\n",
    "\n",
    "Two species-response combinations were observed during the parameter-value sweep (shown as a table below). "
   ]
  },
  {
   "cell_type": "code",
   "execution_count": null,
   "id": "1ed0424c",
   "metadata": {},
   "outputs": [],
   "source": [
    "# the responses we'll be counting proportions on\n",
    "desiredResponses = [ cs + '_' + ms \n",
    "                    for cs in control_list \n",
    "                    for ms in monitored_list]\n",
    "\n",
    "# I have hardcoded the answer in here in case, by chance, \n",
    "# you miss a response combination in the random sampling above.\n",
    "# For a real example, you will need to check that a large no. \n",
    "# of samples has been drawn since the last new response \n",
    "# combination was found.\n",
    "\n",
    "if len(observedResponseCombinations) < 2:\n",
    "    observedResponseCombinations = {\n",
    "        ('neg', 'pos', 'pos'), \n",
    "        ('pos', 'neg', 'neg')\n",
    "    }\n",
    "\n",
    "# print the species response combinations that were observed \n",
    "# during the parameter sweep above in a table\n",
    "header = ' | '.join(desiredResponses)\n",
    "print(header)\n",
    "print('-'*len(header))\n",
    "for responseCombination in observedResponseCombinations:\n",
    "    print(' ' + '  |  '.join(responseCombination))"
   ]
  },
  {
   "cell_type": "markdown",
   "id": "6389e72d",
   "metadata": {},
   "source": [
    "In order to use Boolean algebra, we need to convert the species responses into Boolean values. The responses have a natural dichotimisation i.e. a positive or a negative species response. Arbitrarily, we assign a positive species response as a `true`, and a negative species response as a `false`."
   ]
  },
  {
   "cell_type": "code",
   "execution_count": null,
   "id": "2c2b37e3",
   "metadata": {},
   "outputs": [],
   "source": [
    "str4true = 'pos'; str4false = 'neg'"
   ]
  },
  {
   "cell_type": "markdown",
   "id": "a64b7b67",
   "metadata": {},
   "source": [
    "The simulations have returned the species-response combinations that are *possible* in the model, but the Boolean analysis is performed on the *impossible* combinations instead. If we assume that parameter sweep (above) was sufficient to obtain every possible combination, then the set of impossible combinations is simply the complement of the set of observed responses. In other words, the set of impossible combinations is the set of every response-combination that is combinatorially possible minus the set of responses that we observed.\n",
    "\n",
    "There are a few different ways that we could obtain the complement, but one convenient way is to first observe that every response combination can be interpreted as a binary string, which can be interpreted as an integer. Then the complement corresponds to the list of integers that are missing from the set of integers that we observed.\n",
    "\n",
    "First, we encode each observed response as a binary string, which is then converted into an integer:"
   ]
  },
  {
   "cell_type": "code",
   "execution_count": null,
   "id": "7a0e8499",
   "metadata": {},
   "outputs": [],
   "source": [
    "observedInts = [\n",
    "    int( ''.join(['1' if i in str4true else '0' \n",
    "                  for i in responseCombination]), 2 ) \n",
    "    for responseCombination in observedResponseCombinations\n",
    "]\n",
    "observedInts"
   ]
  },
  {
   "cell_type": "markdown",
   "id": "572bd052",
   "metadata": {},
   "source": [
    "Then, the unobserved species responses correspond to the integers that are missing from `observedInts`:"
   ]
  },
  {
   "cell_type": "code",
   "execution_count": null,
   "id": "2217e0e0",
   "metadata": {},
   "outputs": [],
   "source": [
    "# Start with set of all possible responses as integers ...\n",
    "unobservedInts = set(range(2**len(desiredResponses)))\n",
    "# ... and loop through the observed response combinations, \n",
    "# discarding those that were observed\n",
    "\n",
    "for i in observedInts:\n",
    "    unobservedInts.discard(i)\n",
    "    \n",
    "unobservedInts"
   ]
  },
  {
   "cell_type": "markdown",
   "id": "95e1bc3d",
   "metadata": {},
   "source": [
    "The function `getRespvarList2BoolvarList` converts the possible species-responses in the model into Boolean variables. It uses the [PyEDA package](https://pyeda.readthedocs.io/en/latest/)."
   ]
  },
  {
   "cell_type": "code",
   "execution_count": null,
   "id": "77e51074",
   "metadata": {},
   "outputs": [],
   "source": [
    "from findpcu import getRespvarList2BoolvarList\n",
    "\n",
    "# create our boolean variables and some useful dictionaries\n",
    "x, x2s, r2idx = getRespvarList2BoolvarList(desiredResponses, \n",
    "                                           str4true, \n",
    "                                           str4false)"
   ]
  },
  {
   "cell_type": "markdown",
   "id": "88978ade",
   "metadata": {},
   "source": [
    "`x` is a list of the Boolean variables that have been created. For example, `s3_s4` is the variable that describes the response of species s4 to a negative perturbation of s3. `s3_s4` has the value `True` if s4 responds positively and `False` if s4 responds negatively."
   ]
  },
  {
   "cell_type": "code",
   "execution_count": null,
   "id": "3d44bb0b",
   "metadata": {},
   "outputs": [],
   "source": [
    "x"
   ]
  },
  {
   "cell_type": "markdown",
   "id": "d421dc07",
   "metadata": {},
   "source": [
    "`x2s` and `r2idx` are a bidirectional dictionaries that convert between a variable values and a corresponding string or index, respectively.\n",
    "\n",
    "The next step is to use the function `intList2boolexpr` to turn the list of integers `unobservedInts`, corresponding to unobserved species responses, into a Boolean expression."
   ]
  },
  {
   "cell_type": "code",
   "execution_count": null,
   "id": "90e6d015",
   "metadata": {},
   "outputs": [],
   "source": [
    "from findpcu import intList2boolexpr\n",
    "\n",
    "# the boolean expression for our unobserved responses\n",
    "unobservedBoolexpr = intList2boolexpr(unobservedInts, x)"
   ]
  },
  {
   "cell_type": "markdown",
   "id": "217c80c2",
   "metadata": {},
   "source": [
    "The Boolean expression is returned in [disjunctive normal form](https://en.wikipedia.org/wiki/Disjunctive_normal_form), as a sum of products. Here the notation `~` is used to represent Not. For example, `~s3_s4` means \"not a positive response in `s4` to a negative press-perturbation in `s3`\", or in other words, \"a negative response in `s4`\"."
   ]
  },
  {
   "cell_type": "code",
   "execution_count": null,
   "id": "82751735",
   "metadata": {},
   "outputs": [],
   "source": [
    "print(unobservedBoolexpr)"
   ]
  },
  {
   "cell_type": "markdown",
   "id": "8f464a93",
   "metadata": {},
   "source": [
    "The list of unobserved species responses can also be easily converted into a truth table using the function `expr2truthtable` from PyEDA. This is the same table as given in Fig. 2a in the paper."
   ]
  },
  {
   "cell_type": "code",
   "execution_count": null,
   "id": "e04241c6",
   "metadata": {},
   "outputs": [],
   "source": [
    "from pyeda.inter import expr2truthtable\n",
    "expr2truthtable(unobservedBoolexpr)"
   ]
  },
  {
   "cell_type": "markdown",
   "id": "28c3e602",
   "metadata": {},
   "source": [
    "In order to summarise the result, we perform a Boolean minimisation using the espresso algorithm.\n"
   ]
  },
  {
   "cell_type": "code",
   "execution_count": null,
   "id": "d1b30381",
   "metadata": {},
   "outputs": [],
   "source": [
    "from pyeda.inter import espresso_exprs\n",
    "\n",
    "# Use espresso to minimise the unobservedBoolexpr\n",
    "boolExprMin, = espresso_exprs(unobservedBoolexpr)"
   ]
  },
  {
   "cell_type": "markdown",
   "id": "47f19515",
   "metadata": {},
   "source": [
    "When we print out the resulting minimised Boolean expression, we see that it is shorter and simpler than the original (compare to `unobservedBoolexpr` above)."
   ]
  },
  {
   "cell_type": "code",
   "execution_count": null,
   "id": "b93880cd",
   "metadata": {},
   "outputs": [],
   "source": [
    "from qualmod import qualitative_community_matrix\n",
    "\n",
    "(Mq, s2idx) = qualitative_community_matrix(web)\n",
    "print(Mq)"
   ]
  },
  {
   "cell_type": "markdown",
   "id": "e82e9ef7",
   "metadata": {},
   "source": [
    "The function `qualitative_community_matrix` also returns `s2idx`, which is a handy bidirection dictionary that maps the name of the species to their index in the qualitative community matrix."
   ]
  },
  {
   "cell_type": "code",
   "execution_count": null,
   "id": "2dfd967f",
   "metadata": {},
   "outputs": [],
   "source": [
    "boolExprMin"
   ]
  },
  {
   "cell_type": "markdown",
   "id": "ec0e30f5",
   "metadata": {},
   "source": [
    "Note however that `boolExprMin` is equivalent to the original expression. We can verify that by printing out its (full) truth table (using `expr2truthtable` again) and comparing it to the one above."
   ]
  },
  {
   "cell_type": "code",
   "execution_count": null,
   "id": "41ded4df",
   "metadata": {},
   "outputs": [],
   "source": [
    "expr2truthtable(boolExprMin)"
   ]
  },
  {
   "cell_type": "markdown",
   "id": "fc715617",
   "metadata": {},
   "source": [
    "Each of the `And` terms in the minimised Boolean expression (`boolExprMin`) is called a PCU (short for the French \"projection canonique ultime\" meaning \"ultimate canonical projection\"), and Theuns (1994) discusses some of the theory behind them.\n",
    "\n",
    "The function `boolexpr2RespvalList` converts each of the PCUs into a string, which can be useful if we wish to store the results in a file. This function also appends the strings (in our case `pos` and `neg`) that we designated above as `True` and `False`, to make the output quicker to read."
   ]
  },
  {
   "cell_type": "code",
   "execution_count": null,
   "id": "38b6d671",
   "metadata": {},
   "outputs": [],
   "source": [
    "from findpcu import boolexpr2RespvalList\n",
    "\n",
    "# returns the PCUs of the boolean expression as a list of strings\n",
    "PCUList = boolexpr2RespvalList(boolExprMin, x2s)\n",
    "\n",
    "PCUList"
   ]
  },
  {
   "cell_type": "markdown",
   "id": "0d618fec",
   "metadata": {},
   "source": [
    "Each PCU can be used to derive a set of logical implications, and these implications can be chained together to create a logical implication network.\n",
    "\n",
    "All that is needed to ensure that the logical implication network describes the full behaviour of the model is to ensure that at least one implication is derived from each PCU. However, for small networks, it may be preferable to include more than one implication. The function `draw_implication_network` draws the network in such a way that every implication with 1 antecedent is included."
   ]
  },
  {
   "cell_type": "code",
   "execution_count": null,
   "id": "fc6d6976",
   "metadata": {},
   "outputs": [],
   "source": [
    "from findpcu import draw_implication_network\n",
    "\n",
    "draw_implication_network(PCUList)\n",
    "\n",
    "# display the pdf of the interaction network here in Jupyter\n",
    "# IFrame(\"implication_network.pdf\", width=500, height=500)\n",
    "\n",
    "# call graphviz to create a png, display in markdown cell\n",
    "os.system(\"dot -Tpng implication_network.dot > implication_network.png\")"
   ]
  },
  {
   "cell_type": "markdown",
   "id": "f9f9796e",
   "metadata": {},
   "source": [
    "![title](implication_network.png)\n",
    "\n",
    "`implication_network.png`"
   ]
  },
  {
   "cell_type": "markdown",
   "id": "23423f9c",
   "metadata": {},
   "source": [
    "We can see that each PCU is represented twice in the implication network above. For example, `['poss3_s3', 'poss3_s4']` translates to saying that the following combination of species responses is impossible in the model: positive s3 and positive s4. Therefore a positive response in s3 implies a negative response in s4 (seen in left-hand subnetwork), and a positive response in s4 implies a negative response in s3 (seen in right-hand subnetwork).\n",
    "\n",
    "Another function is available, `draw_implication_network2`, to draw the implication network with only one implication per PCU. We can specify which species responses we wish to see as the antecedents. The example below also shows some of its other options.\n"
   ]
  }
 ],
 "metadata": {},
 "nbformat": 4,
 "nbformat_minor": 5
}
