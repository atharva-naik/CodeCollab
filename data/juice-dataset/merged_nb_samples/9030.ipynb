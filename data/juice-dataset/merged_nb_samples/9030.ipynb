{
 "cells": [
  {
   "cell_type": "markdown",
   "id": "8d654534",
   "metadata": {},
   "source": [
    "### Rough Schedule\n",
    "\n",
    "- Can be found on https://github.com/tcsai/text-mining/blob/master/Week%201%20-%20Introduction/schedule.ipynb.\n",
    "- (or just under `schedule.ipynb` if you're in Week 1 on github).\n",
    "- Please note: **subject to change** (including deadlines).\n"
   ]
  },
  {
   "cell_type": "markdown",
   "id": "1e2ae229",
   "metadata": {},
   "source": [
    "## Introduction to Text Mining"
   ]
  },
  {
   "cell_type": "markdown",
   "id": "5020a1ac",
   "metadata": {},
   "source": [
    "### 'Google-fu'\n",
    "\n",
    "+/- 5-10 minutes to look up the value of this field yourself.\n",
    "\n",
    "- Scan Text Mining applications on Wikipedia page.\n",
    "- Search LinkedIn for Text Mining jobs.\n",
    "- Look for Text Mining books on Amazon."
   ]
  },
  {
   "cell_type": "markdown",
   "id": "5fd956c3",
   "metadata": {},
   "source": [
    "### Role of Text Mining\n",
    "\n",
    "- For businesses: seen as an important sub-task of a Data Scientist.\n",
    "- Data is 'wild', often valuable. \n",
    "- Your task?\n",
    "- Expectations?"
   ]
  },
  {
   "cell_type": "markdown",
   "id": "a2198de1",
   "metadata": {},
   "source": [
    "### Field Overview\n",
    "\n",
    "- Artificial Intelligence (?)\n",
    "- Machine Learning\n",
    "\n",
    "\n",
    "- Computer Vision\n",
    "- Natural Language Processing\n",
    "- Information Retrieval\n",
    "\n",
    "\n",
    "- Text Mining\n",
    "- Data Mining\n",
    "\n",
    "\n",
    "- Computational Linguistics\n",
    "- etc. (computational social sciences, computational ..., digital humantities, digital forensics, digital ...)"
   ]
  },
  {
   "cell_type": "markdown",
   "id": "18e2316f",
   "metadata": {},
   "source": [
    "### Where's Text Mining at?\n",
    "\n",
    "- Use Machine Learning (supervised and unsupervised) algorithms.\n",
    "- 'Data Mining' with text.\n",
    "- Use techniques from NLP and Information Retrieval.\n",
    "- Both classifcation and search.\n",
    "- These techniques can be applied for anything 'computational' using text data.\n",
    "- Mix of human and computer tasks."
   ]
  },
  {
   "cell_type": "markdown",
   "id": "52194551",
   "metadata": {},
   "source": [
    "### Why use Text Mining?\n",
    "\n",
    "Mostly intelligent interpretation of textual information:\n",
    "\n",
    "\n",
    "- Advertising\n",
    "- Social Media Analysis\n",
    "- Intelligent E-Mail Services\n",
    "- Customer Service\n",
    "- Knowledge Management\n",
    "- Risk Management\n",
    "- Cybercrime\n",
    "- Surveillance\n",
    "\n",
    "Remember: Information Retrieval (/ Search) is relevant to, but not the same as Text Mining."
   ]
  },
  {
   "cell_type": "markdown",
   "id": "dd495b0a",
   "metadata": {},
   "source": [
    "### Research Challenges\n",
    "\n",
    "- Collecting and cleaning data (pretty unpular, 'monkey' work).\n",
    "- Constructing annotated and documented sources (expensive and time consuming).\n",
    "- Developing original- or testing existing methods for common tasks (mostly ML / NLP research).\n",
    "- Coming up with novel tasks (only so useful, usually splintered).\n",
    "- Beating existing scores (most popular, least interesting)."
   ]
  },
  {
   "cell_type": "markdown",
   "id": "5cf627f7",
   "metadata": {},
   "source": [
    "## Introduction to Search"
   ]
  },
  {
   "cell_type": "markdown",
   "id": "47bd9305",
   "metadata": {},
   "source": [
    "### -Very- Quick History\n",
    "\n",
    "Similar to Text Mining, deals with large sets of textual information.\n",
    "\n",
    "- Originates from librarians, hierachical.\n",
    "- Information sources became digital, query systems.\n",
    "- Internet came into existence, unstructured and richer. \n",
    "\n",
    "Casual read: http://ciir-publications.cs.umass.edu/getpdf.php?id=1066\n",
    "\n",
    "![img4](https://toynbeeconvector.files.wordpress.com/2013/01/p1220419.jpg)"
   ]
  },
  {
   "cell_type": "markdown",
   "id": "47029397",
   "metadata": {},
   "source": [
    "### Search versus Classification\n",
    "\n",
    "- Data Mining:\n",
    "    - Numeric features.\n",
    "    - Predict some class label.\n",
    "- Search:\n",
    "    - Textual features.\n",
    "    - Return related documents.\n",
    "- Text Mining:\n",
    "    - Textual features.\n",
    "    - Predict some class label."
   ]
  },
  {
   "cell_type": "markdown",
   "id": "658ad82d",
   "metadata": {},
   "source": [
    "### Working with Corpora / Collections"
   ]
  },
  {
   "cell_type": "code",
   "execution_count": null,
   "id": "d554c86c",
   "metadata": {},
   "outputs": [],
   "source": [
    "from glob import glob\n",
    "print('\\n'.join(glob('data/*.txt')))"
   ]
  },
  {
   "cell_type": "markdown",
   "id": "60ba0e7b",
   "metadata": {},
   "source": [
    "### How to Begin Search?\n",
    "\n",
    "Find which deal with text."
   ]
  },
  {
   "cell_type": "code",
   "execution_count": null,
   "id": "8d17348c",
   "metadata": {},
   "outputs": [],
   "source": [
    "texts = {file_name: open(file_name).read()\n",
    "         for file_name in glob('data/*.txt')}\n",
    "hits = [file_name for file_name, file_contents in texts.items()\n",
    "        if 'text' in file_contents]\n",
    "hits"
   ]
  },
  {
   "cell_type": "markdown",
   "id": "5eb6f438",
   "metadata": {},
   "source": [
    "### Simple (but effective) Queries"
   ]
  }
 ],
 "metadata": {},
 "nbformat": 4,
 "nbformat_minor": 5
}
