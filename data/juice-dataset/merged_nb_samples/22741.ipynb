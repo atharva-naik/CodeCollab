{
 "cells": [
  {
   "cell_type": "markdown",
   "id": "1e675960",
   "metadata": {},
   "source": [
    "# This notebook has been tested with \n",
    "* Python 3.5\n",
    "* OpenCV 3.1.0"
   ]
  },
  {
   "cell_type": "code",
   "execution_count": null,
   "id": "5e01ed1d",
   "metadata": {},
   "outputs": [],
   "source": [
    "%matplotlib inline\n",
    "import cv2\n",
    "import matplotlib.pyplot as plt\n",
    "from PIL import Image\n",
    "import numpy as np\n",
    "import concurrent.futures\n",
    "import os"
   ]
  },
  {
   "cell_type": "markdown",
   "id": "1a0f098b",
   "metadata": {},
   "source": [
    "# Save photo that has faces"
   ]
  },
  {
   "cell_type": "code",
   "execution_count": null,
   "id": "93c97bd6",
   "metadata": {},
   "outputs": [],
   "source": [
    "# Direction is the target directory to save images\n",
    "def detectFace(filename, direction):\n",
    "    faceCascade = cv2.CascadeClassifier(\"haarcascade_frontalface_default.xml\")\n",
    "    image = cv2.imread(filename)\n",
    "    gray = cv2.cvtColor(image, cv2.COLOR_BGR2GRAY)\n",
    "\n",
    "    faces = faceCascade.detectMultiScale(gray, 1.05, 3, minSize = (100,100))\n",
    "\n",
    "    if len(faces):\n",
    "        filename = filename.split('/')[1]\n",
    "        cv2.imwrite(direction + filename, image)"
   ]
  },
  {
   "cell_type": "code",
   "execution_count": null,
   "id": "2ed52761",
   "metadata": {},
   "outputs": [],
   "source": [
    "# Open the source directory of images\n",
    "photoDir = 'female/'\n",
    "photoList = os.listdir(photoDir)\n",
    "# The target directory to save images\n",
    "direction = 'female_detect/'"
   ]
  },
  {
   "cell_type": "code",
   "execution_count": null,
   "id": "5de04a9f",
   "metadata": {},
   "outputs": [],
   "source": [
    "# Multi-threading to speed up\n",
    "with concurrent.futures.ThreadPoolExecutor(max_workers=20) as executor:\n",
    "    for photo in photoList:\n",
    "        try:\n",
    "            filename = photoDir+photo\n",
    "            executor.submit(detectFace, filename, direction)\n",
    "        except Exception as exc:\n",
    "            print(exc)"
   ]
  },
  {
   "cell_type": "markdown",
   "id": "896e5c40",
   "metadata": {},
   "source": [
    "# Extract faces and save"
   ]
  }
 ],
 "metadata": {},
 "nbformat": 4,
 "nbformat_minor": 5
}
