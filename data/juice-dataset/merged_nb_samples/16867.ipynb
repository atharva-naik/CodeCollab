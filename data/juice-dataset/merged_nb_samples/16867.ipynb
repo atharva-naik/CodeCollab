{
 "cells": [
  {
   "cell_type": "markdown",
   "id": "45357df8",
   "metadata": {},
   "source": [
    "# Regression / GPUs Dataset Analysis\n",
    "***"
   ]
  },
  {
   "cell_type": "markdown",
   "id": "1e13174a",
   "metadata": {},
   "source": [
    "***Piotr Skalski - 13.10.2017***\n",
    "\n",
    "<b>Note:</b> The growth of computer games market has resulted in great development of Graphic Cards. In this Kernel I will use <a href=\"https://www.kaggle.com/iliassekkaf/computerparts\">Computer Parts Dataset</a> and regression models to predict how powerfull will Graphics Cards be in 2025. I will focuse on most important parameters of GPUs like:\n",
    "\n",
    "* <b>Core Speed [MHz]</b> - The frequency at which the GPU is running. This can be sort of compared to a CPU's operating frequency. \"Speed\" depends on numerous factors, architecture being one of them. It's not necessarily an apples-to-apples comparison to look at the core clock speed of an older GPU and a newer one (or cross-brand differences), but for sake of ease, greater core frequencies equates faster computing. Be careful with that, though, calculating speed in gaming is never quite so linear.\n",
    "\n",
    "* <b>Memory Bandwidth [GB/sec]</b> - This is one of the single, most important aspects of graphics processors. Memory bandwidth determines your card's ability to utilize its onboard video RAM efficiently when under stress.\n",
    "\n",
    "* <b>Memory Size [MB or GB]</b> - VRAM is the storage location for textures and 3D meshes. So the more available, the more complex the scene can be, before it overflows to the standard RAM.\n",
    "\n",
    "---\n",
    "\n",
    "More informations on GPUs parameters: <a href=\"https://www.gamersnexus.net/guides/717-gpu-dictionary-understanding-gpu-video-card-specs\">GPU Dictionary: Understanding GPU & Video Card Specs</a>\n",
    "\n",
    "---"
   ]
  },
  {
   "cell_type": "markdown",
   "id": "9f0090c0",
   "metadata": {},
   "source": [
    "### Moore's law: Number of transistors in a dense integrated circuit doubles approximately every two years. "
   ]
  },
  {
   "cell_type": "markdown",
   "id": "ca353bf8",
   "metadata": {},
   "source": [
    "<img src='https://upload.wikimedia.org/wikipedia/commons/f/fe/GeForce4_Ti_4800SE_NV28_GPU.jpg'>"
   ]
  },
  {
   "cell_type": "markdown",
   "id": "6b78a966",
   "metadata": {},
   "source": [
    "# Table of Contents"
   ]
  },
  {
   "cell_type": "markdown",
   "id": "9bf1857b",
   "metadata": {},
   "source": [
    "* [1. Importing dataset and data preprocessing](#importing_dataset_and_data_preprocessing) <br>\n",
    "   * [1.1. Dataset import](#dataset_import) <br>\n",
    "   * [1.2. Let's summarize the Dataset](#lets_summarize_the_dataset) <br>\n",
    "   * [1.3. Data preprocessing & feature engineering](#data_preprocessing) <br>\n",
    "<br>\n",
    "* [2. Basic data visualization](#basic_data_visualization) <br>\n",
    "   * [2.1. Grouping GPUs by Release Year](#grouping_gpus_by_release_year) <br>\n",
    "   * [2.2. GPU Memory vs Year of Release by Manufacturer](#gpu_memory_vs_year_of_release_by_manufacturer) <br>\n",
    "   * [2.3. GPU manufacturers market share](#gpu_manufacturers_market_share) <br>\n",
    "<br>\n",
    "* [3. GPU Memory](#gpu_memory) <br>\n",
    "    * [3.1. GPU Memory vs Year of Release (Scatter Plot)](#gpu_memory_vs_year_of_release) <br>\n",
    "    * [3.2. Mean GPU Memory vs Year of Release (Line Plot)](#mean_gpu_memory_vs_year_of_release) <br>\n",
    "    * [3.3. Creating theoretic model and fitting exponential curve](#polynomial_regression_prediction_model) <br>\n",
    "    * [3.4. Polynomial regression prediction model](#creating_theoretic_model_and_fitting_exponential_curve) <br>\n",
    "    * [3.5. Selecting best model](#selecting_best_model) <br>\n",
    "    * [3.6. Predicting GPUs mean memory size in 2025](#predicting_gpus_mean_memory_size_in_2025) <br>\n",
    "<br>\n",
    "* [4. Bibliography](#bibliography) <br>"
   ]
  },
  {
   "cell_type": "markdown",
   "id": "ee06a24f",
   "metadata": {},
   "source": [
    "## 1. Importing dataset and data preprocessing\n",
    "<a id=\"importing_dataset_and_data_preprocessing\"></a>"
   ]
  },
  {
   "cell_type": "markdown",
   "id": "e1c83a59",
   "metadata": {},
   "source": [
    "### 1.1. Dataset import\n",
    "<a id=\"dataset_import\"></a>"
   ]
  },
  {
   "cell_type": "markdown",
   "id": "82148b49",
   "metadata": {},
   "source": [
    "<b>NOTE:</b> Now we will calculate mean and median Memory Size of GPU for each year and create line plots to visualize the upward trend. Right away we see that Moore's law quite accurate."
   ]
  },
  {
   "cell_type": "code",
   "execution_count": null,
   "id": "0e397afb",
   "metadata": {},
   "outputs": [],
   "source": [
    "# Numpy array that holds unique release year values\n",
    "year_arr = dataset.sort_values(\"Release_Year\")['Release_Year'].unique()\n",
    "# Numpy array that holds mean values of GPUs memory for each year\n",
    "memory_arr_mean = dataset.groupby('Release_Year')['Memory'].mean().values\n",
    "# Numpy array that holds median values of GPUs memory for each year\n",
    "memory_arr_median = dataset.groupby('Release_Year')['Memory'].median().values\n",
    "\n",
    "# Minimal value of release year from dataset\n",
    "year_min = year_arr[0]\n",
    "# Median size of memory in year_min\n",
    "memory_min = memory_arr_median[0]"
   ]
  },
  {
   "cell_type": "code",
   "execution_count": null,
   "id": "0b48cd49",
   "metadata": {},
   "outputs": [],
   "source": [
    "plt.figure()\n",
    "plt.figure(figsize=(16,8))\n",
    "plt.title('GPU Memory vs Year of Release', fontsize=20, fontweight='bold', y=1.05,)\n",
    "plt.xlabel('Year of Release', fontsize=15)\n",
    "plt.ylabel('GPU Memory', fontsize=15)\n",
    "sns.set_style(\"whitegrid\")\n",
    "plt.plot(year_arr, memory_arr_mean, label=\"Mean\")\n",
    "plt.plot(year_arr, memory_arr_median, label=\"Median\")\n",
    "plt.legend(loc=4, prop={'size': 15}, frameon=True,shadow=True, facecolor=\"white\", edgecolor=\"black\")\n",
    "plt.show()"
   ]
  },
  {
   "cell_type": "markdown",
   "id": "d77d994a",
   "metadata": {},
   "source": [
    "### 3.3. Creating theoretic model and fitting exponential curve\n",
    "<a id=\"creating_theoretic_model_and_fitting_exponential_curve\"></a>"
   ]
  },
  {
   "cell_type": "markdown",
   "id": "1e74e0c1",
   "metadata": {},
   "source": [
    "<b>NOTE:</b> Let's see how above plot would look like in logarithmic scale. If Moore's law is acurate graph should be close to the straight line. As a matter of fact function that would represent memory size calculated using Moore's law taking into account the initial values would have the following form: \n",
    "\n",
    "$$f(x)=y_{min}2^{\\frac{x-x_{min}}{2}}$$\n",
    "\n",
    "Where: \n",
    "* $y_{min}$ - initial size of memory in MB, \n",
    "* $x_{min}$ - initial year of dataset."
   ]
  },
  {
   "cell_type": "code",
   "execution_count": null,
   "id": "59a76ff5",
   "metadata": {},
   "outputs": [],
   "source": [
    "# Short function to calculate size of memory based on Moore's law\n",
    "def calculateMooresValue(x, y_trans):\n",
    "    return memory_arr_median[0] * 2**((x-y_trans)/2)\n",
    "\n",
    "# GPU Memory Size calculation based on Moore's Law\n",
    "y_pred_moore_law_teoretic = calculateMooresValue(year_arr, int(year_min))"
   ]
  },
  {
   "cell_type": "code",
   "execution_count": null,
   "id": "2fa9092b",
   "metadata": {},
   "outputs": [],
   "source": [
    "# Fitting exponential curve to dataset\n",
    "def exponentialCurve(x, a, b, c):\n",
    "    return a*2**((x-c)*b)\n",
    "\n",
    "popt, pcov = curve_fit(exponentialCurve,  year_arr, memory_arr_mean,  p0=(2, 0.5, 1998))\n",
    "y_pred_moore_law_fitted = exponentialCurve(year_arr, *popt)"
   ]
  },
  {
   "cell_type": "code",
   "execution_count": null,
   "id": "2640cce7",
   "metadata": {},
   "outputs": [],
   "source": [
    "plt.figure()\n",
    "plt.figure(figsize=(16,8))\n",
    "plt.title('GPU Memory vs Year of Release [Logaritmic scale]', fontsize=20, fontweight='bold', y=1.05,)\n",
    "plt.xlabel('Year of Release', fontsize=15)\n",
    "plt.ylabel('GPU Memory', fontsize=15)\n",
    "sns.set_style(\"whitegrid\")\n",
    "plt.loglog(year_arr, memory_arr_mean, label=\"Mean\", basex= 2)\n",
    "plt.loglog(year_arr, memory_arr_median, label=\"Median\", basex= 2)\n",
    "plt.loglog(year_arr, y_pred_moore_law_teoretic, label=\"Moore's law teoretic\", basex= 2)\n",
    "plt.loglog(year_arr, y_pred_moore_law_fitted, label=\"Moore's law fitted\", basex= 2)\n",
    "plt.legend(loc=4, prop={'size': 15}, frameon=True,shadow=True, facecolor=\"white\", edgecolor=\"black\")\n",
    "plt.show()"
   ]
  },
  {
   "cell_type": "markdown",
   "id": "629a778c",
   "metadata": {},
   "source": [
    "<b>NOTE:</b> As we can see, mean size of GPUs memory tends to follow teoretic Moore's law curve [green line] but not ideally. I used curve_fit to create second curve from the same family, that will fit dataset better [red line]."
   ]
  },
  {
   "cell_type": "markdown",
   "id": "b615ae54",
   "metadata": {},
   "source": [
    "### 3.4. Polynomial regression prediction model\n",
    "<a id=\"polynomial_regression_prediction_model\"></a>"
   ]
  },
  {
   "cell_type": "code",
   "execution_count": null,
   "id": "df3a81b3",
   "metadata": {},
   "outputs": [],
   "source": [
    "from sklearn.linear_model import LinearRegression\n",
    "from sklearn.preprocessing import PolynomialFeatures\n",
    "\n",
    "# Fitting Polynomial Regression to the dataset\n",
    "poly_reg_2 = PolynomialFeatures(degree = 2, include_bias=False)\n",
    "poly_reg_3 = PolynomialFeatures(degree = 3, include_bias=False)\n",
    "\n",
    "X_poly_2 = poly_reg_2.fit_transform(year_arr.reshape(-1, 1))\n",
    "X_poly_3 = poly_reg_3.fit_transform(year_arr.reshape(-1, 1))\n",
    "\n",
    "lin_reg_2 = LinearRegression()\n",
    "lin_reg_3 = LinearRegression()\n",
    "\n",
    "lin_reg_2.fit(X_poly_2, memory_arr_mean)\n",
    "lin_reg_3.fit(X_poly_3, memory_arr_mean)\n",
    "\n",
    "y_pred_lin_reg_2 = lin_reg_2.predict(poly_reg_2.fit_transform(year_arr.reshape(-1, 1)))\n",
    "y_pred_lin_reg_3 = lin_reg_3.predict(poly_reg_3.fit_transform(year_arr.reshape(-1, 1)))"
   ]
  },
  {
   "cell_type": "markdown",
   "id": "12f8dd51",
   "metadata": {},
   "source": [
    "### 3.5. Selecting best model\n",
    "<a id=\"selecting_best_model\"></a>"
   ]
  },
  {
   "cell_type": "markdown",
   "id": "2a55cd2c",
   "metadata": {},
   "source": [
    "## 2. Basic data visualization\n",
    "<a id=\"basic_data_visualization\"></a>"
   ]
  },
  {
   "cell_type": "markdown",
   "id": "bc4dc25e",
   "metadata": {},
   "source": [
    "### 2.1. Grouping GPUs by Release Year\n",
    "<a id=\"grouping_gpus_by_release_year\"></a>"
   ]
  },
  {
   "cell_type": "code",
   "execution_count": null,
   "id": "abe3306d",
   "metadata": {},
   "outputs": [],
   "source": [
    "plt.figure(figsize=(16,8))\n",
    "sns.set_style(\"whitegrid\")\n",
    "sns.countplot(x=\"Release_Year\", data=dataset, palette=\"hls\");\n",
    "plt.title('Grouping GPUs by Release Year', fontsize=20, fontweight='bold', y=1.05,)\n",
    "plt.xlabel('Number GPUs', fontsize=15)\n",
    "plt.ylabel('Release Year', fontsize=15)\n",
    "plt.show()"
   ]
  },
  {
   "cell_type": "markdown",
   "id": "b9192850",
   "metadata": {},
   "source": [
    "### 2.2. GPU Memory vs Year of Release by Manufacturer\n",
    "<a id=\"gpu_memory_vs_year_of_release_by_manufacturer\"></a>"
   ]
  },
  {
   "cell_type": "code",
   "execution_count": null,
   "id": "1e05b8cd",
   "metadata": {},
   "outputs": [],
   "source": [
    "data = []\n",
    "\n",
    "for manufacturer in dataset['Manufacturer'].unique():\n",
    "    \n",
    "    trace_dataset = dataset.loc[dataset['Manufacturer'] == manufacturer]\n",
    "    \n",
    "    trace = go.Scatter(\n",
    "        x = trace_dataset['Release_Year'],\n",
    "        y = trace_dataset['Memory'],\n",
    "        mode = 'markers',\n",
    "        name = manufacturer,\n",
    "        marker= dict(symbol=\"circle\",\n",
    "                    size = trace_dataset['PixelNum']/100000,\n",
    "                    opacity = 0.4,\n",
    "                    line= dict(width=1,\n",
    "                               color = 'rgb(255, 255, 255)'\n",
    "                              ),\n",
    "        ),\n",
    "        text= dataset['Name']\n",
    "    )\n",
    "    \n",
    "    data.append(trace)\n",
    "    \n",
    "layout = dict(title = 'GPU Memory vs Year of Release by Manufacturer',\n",
    "              width=1000,\n",
    "              height=800,\n",
    "              paper_bgcolor='rgb(243, 243, 243)',\n",
    "              plot_bgcolor='rgb(243, 243, 243)',\n",
    "              yaxis = dict(title= 'GPUs Memory',\n",
    "                           ticklen= 5,\n",
    "                           gridcolor='rgb(255, 255, 255)',\n",
    "                           gridwidth= 2),\n",
    "              xaxis = dict(title= 'Year of Release',\n",
    "                           ticklen= 5,\n",
    "                           gridcolor='rgb(255, 255, 255)',\n",
    "                           gridwidth= 2)\n",
    "             )\n",
    "\n",
    "fig= go.Figure(data=data, layout=layout)\n",
    "py.iplot(fig)"
   ]
  },
  {
   "cell_type": "markdown",
   "id": "670337b4",
   "metadata": {},
   "source": [
    "<b>NOTE:</b> Circle size represents maximum resolution that is supported by GPU."
   ]
  },
  {
   "cell_type": "markdown",
   "id": "75be81a8",
   "metadata": {},
   "source": [
    "### 2.3. GPU manufacturers market share\n",
    "<a id=\"gpu_manufacturers_market_share\"></a>"
   ]
  },
  {
   "cell_type": "code",
   "execution_count": null,
   "id": "25a4e05e",
   "metadata": {},
   "outputs": [],
   "source": [
    "# Transformed dataset - counting how many GPUs were made by each manufacturer each year\n",
    "market_share = dataset.reset_index().groupby(['Release_Year','Manufacturer'])[\"index\"].count().reset_index(name=\"count\")\n",
    "# Transformed dataset - counting how many GPUs were made each year\n",
    "market_share['Sum_By_Year']  = market_share['count'].groupby(market_share[\"Release_Year\"]).transform('sum')\n",
    "# List that will hold our data dictionaries\n",
    "data = []\n",
    "\n",
    "markers = [\n",
    "    dict(\n",
    "        color='rgba(55, 128, 191, 0.7)',\n",
    "        line=dict(\n",
    "            color='rgba(55, 128, 191, 1.0)',\n",
    "            width=2,\n",
    "        )\n",
    "    ),\n",
    "    dict(\n",
    "        color='rgba(219, 64, 82, 0.7)',\n",
    "        line=dict(\n",
    "            color='rgba(219, 64, 82, 1.0)',\n",
    "            width=2,\n",
    "        )\n",
    "    ),\n",
    "    dict(\n",
    "        color='rgba(0, 168, 107, 0.7)',\n",
    "        line=dict(\n",
    "            color='rgba(0, 168, 107, 1.0)',\n",
    "            width=2,\n",
    "        )\n",
    "    ),\n",
    "    dict(\n",
    "        color='rgba(250, 92, 0, 0.7)',\n",
    "        line=dict(\n",
    "            color='rgba(250, 92, 0, 1.0)',\n",
    "            width=2,\n",
    "        )\n",
    "    )\n",
    "]\n",
    "\n",
    "for i, manufacturer in enumerate(dataset['Manufacturer'].unique()):\n",
    "    \n",
    "    trace_dataset = market_share.loc[market_share['Manufacturer'] == manufacturer]\n",
    "    \n",
    "    \n",
    "    trace = go.Bar(\n",
    "        x = trace_dataset['Release_Year'],\n",
    "        y = round(trace_dataset['count'] / trace_dataset['Sum_By_Year'] * 100, 2),\n",
    "        name= manufacturer,\n",
    "        marker = markers[i],\n",
    "    )\n",
    "    \n",
    "    data.append(trace)\n",
    "    \n",
    "layout = go.Layout(\n",
    "    barmode='stack',\n",
    "    title = 'GPU manufacturers market share',\n",
    "    width=1000,\n",
    "    height=500,\n",
    "    paper_bgcolor='rgb(243, 243, 243)',\n",
    "    plot_bgcolor='rgb(243, 243, 243)',\n",
    "    yaxis = dict(title= 'Manufacturers market share [%]'),\n",
    "    xaxis = dict(title= 'Manufacturers')\n",
    ")\n",
    "\n",
    "fig = go.Figure(data=data, layout=layout)\n",
    "py.iplot(fig)"
   ]
  },
  {
   "cell_type": "markdown",
   "id": "26431291",
   "metadata": {},
   "source": [
    "<b>NOTE:</b> It is very likely that dataset for years 2016/2017 is incomplete."
   ]
  },
  {
   "cell_type": "markdown",
   "id": "0e3f7063",
   "metadata": {},
   "source": [
    "## 3. GPU Memory\n",
    "<a id=\"gpu_memory\"></a>"
   ]
  },
  {
   "cell_type": "markdown",
   "id": "2a296086",
   "metadata": {},
   "source": [
    "### 3.1. GPU Memory vs Year of Release (Scatter Plot)\n",
    "<a id=\"gpu_memory_vs_year_of_release\"></a>"
   ]
  },
  {
   "cell_type": "markdown",
   "id": "380e6fea",
   "metadata": {},
   "source": [
    "<b>NOTE:</b> Firstly, lets prepere simple scatter plot and look at relation between year of release and memory size of GPU."
   ]
  },
  {
   "cell_type": "code",
   "execution_count": null,
   "id": "034c4494",
   "metadata": {},
   "outputs": [],
   "source": [
    "import numpy as np\n",
    "import pandas as pd\n",
    "from scipy.optimize import curve_fit\n",
    "import seaborn as sns\n",
    "import matplotlib.pyplot as plt\n",
    "%matplotlib inline\n",
    "\n",
    "import plotly.offline as py\n",
    "py.init_notebook_mode(connected=True)\n",
    "import plotly.graph_objs as go\n",
    "import plotly.tools as tls"
   ]
  },
  {
   "cell_type": "code",
   "execution_count": null,
   "id": "39394614",
   "metadata": {},
   "outputs": [],
   "source": [
    "# Let's import dataset from csv file\n",
    "dataset = pd.read_csv('../00_Datasets/GPUs/All_GPUs.csv')"
   ]
  },
  {
   "cell_type": "markdown",
   "id": "4eb4953d",
   "metadata": {},
   "source": [
    "### 1.2. Let's try to summarize the Dataset\n",
    "<a id=\"lets_summarize_the_dataset\"></a>"
   ]
  },
  {
   "cell_type": "code",
   "execution_count": null,
   "id": "a5a8c369",
   "metadata": {},
   "outputs": [],
   "source": [
    "dataset.head(10)"
   ]
  },
  {
   "cell_type": "code",
   "execution_count": null,
   "id": "0d2d7f49",
   "metadata": {},
   "outputs": [],
   "source": [
    "dataset.info()"
   ]
  },
  {
   "cell_type": "markdown",
   "id": "c6b0d99b",
   "metadata": {},
   "source": [
    "<b> NOTE: </b> Right away we can see that there is lots of undefined values. Let's use \"Missingno\" package which is a most useful and convenient tool in visualising missing values in the dataset. There are only few columns that can by use as reliable source of information for our analysis. Most of columns are incomplete or in wrong format. We will perform data preprocessing to make some columns usefull in our analysis."
   ]
  },
  {
   "cell_type": "code",
   "execution_count": null,
   "id": "bce79935",
   "metadata": {},
   "outputs": [],
   "source": [
    "import missingno as msno\n",
    "# Nullity or missing values by columns\n",
    "#msno.matrix(df=dataset, figsize=(20, 8), color=(255/255, 83/255, 51/255))\n",
    "msno.bar(df=dataset, figsize=(20, 8), color=(255/255, 83/255, 51/255))"
   ]
  },
  {
   "cell_type": "markdown",
   "id": "50bd017c",
   "metadata": {},
   "source": [
    "<b>NOTE: </b> Basing on the conducted research we will select columns that represents key data for our project."
   ]
  },
  {
   "cell_type": "code",
   "execution_count": null,
   "id": "3b763f94",
   "metadata": {},
   "outputs": [],
   "source": [
    "plt.figure(figsize=(16,10))\n",
    "sns.set_style(\"whitegrid\")\n",
    "plt.title('GPU Memory vs Year of Release', fontsize=20, fontweight='bold', y=1.05,)\n",
    "plt.xlabel('Year of Release', fontsize=15)\n",
    "plt.ylabel('GPU Memory', fontsize=15)\n",
    "\n",
    "years = dataset[\"Release\"].values\n",
    "memory = dataset[\"Memory\"].values\n",
    "\n",
    "plt.scatter(years, memory, edgecolors='black')\n",
    "plt.show()"
   ]
  },
  {
   "cell_type": "markdown",
   "id": "25b1a754",
   "metadata": {},
   "source": [
    "### 3.2. Mean GPU Memory vs Year of Release (Line Plot)\n",
    "<a id=\"mean_gpu_memory_vs_year_of_release\"></a>"
   ]
  },
  {
   "cell_type": "code",
   "execution_count": null,
   "id": "a33fdb89",
   "metadata": {},
   "outputs": [],
   "source": [
    "key_columns = ['Best_Resolution', 'Core_Speed', 'Manufacturer', 'Memory', 'Memory_Bandwidth', 'Name', 'Release_Date']\n",
    "dataset = dataset[key_columns]"
   ]
  },
  {
   "cell_type": "markdown",
   "id": "6d5bc95e",
   "metadata": {},
   "source": [
    "### 1.3. Data preprocessing & feature engineering\n",
    "<a id=\"data_preprocessing\"></a>"
   ]
  },
  {
   "cell_type": "code",
   "execution_count": null,
   "id": "2f482164",
   "metadata": {},
   "outputs": [],
   "source": [
    "dataset['Release_Date']=dataset['Release_Date'].str[1:-1]\n",
    "dataset=dataset[dataset['Release_Date'].str.len()==11]\n",
    "dataset['Release_Date']=pd.to_datetime(dataset['Release_Date'], format='%d-%b-%Y')\n",
    "dataset['Release_Year']=dataset['Release_Date'].dt.year\n",
    "dataset['Release_Month']=dataset['Release_Date'].dt.month\n",
    "dataset['Release']=dataset['Release_Year'] + dataset['Release_Month']/12"
   ]
  },
  {
   "cell_type": "code",
   "execution_count": null,
   "id": "7b0cf663",
   "metadata": {},
   "outputs": [],
   "source": [
    "dataset['Memory'] = dataset['Memory'].str[:-3].fillna(0).astype(int)"
   ]
  },
  {
   "cell_type": "code",
   "execution_count": null,
   "id": "ded93049",
   "metadata": {},
   "outputs": [],
   "source": [
    "def countPixels(x):\n",
    "    if pd.isnull(x):\n",
    "        return 800*600;\n",
    "    else:\n",
    "        values = x.split(' x ')\n",
    "        return(int(values[0]) * int(values[1]))\n",
    "\n",
    "dataset['PixelNum'] = dataset['Best_Resolution'].apply(lambda x: countPixels(x))"
   ]
  },
  {
   "cell_type": "code",
   "execution_count": null,
   "id": "1069c8dd",
   "metadata": {},
   "outputs": [],
   "source": [
    "from sklearn.metrics import r2_score\n",
    "\n",
    "# 2nd degree curve\n",
    "score = r2_score(y_pred_lin_reg_2, memory_arr_mean)\n",
    "print(\"r2 of 2nd degree curve is equal \" + str(round(score, 3)))\n",
    "# 3rd degree curve\n",
    "score = r2_score(y_pred_lin_reg_3, memory_arr_mean)\n",
    "print(\"r2 of 3rd degree curve is equal \" + str(round(score, 3)))\n",
    "# Teoretic Moore's Law curve\n",
    "score = r2_score(y_pred_moore_law_teoretic, memory_arr_mean)\n",
    "print(\"r2 of Teoretic Moore's Law curve is equal \" + str(round(score, 3)))\n",
    "# Fitted Moore's Law curve\n",
    "score = r2_score(y_pred_moore_law_fitted, memory_arr_mean)\n",
    "print(\"r2 of Fitted Moore's Law curve is equal \" + str(round(score, 3)))"
   ]
  },
  {
   "cell_type": "markdown",
   "id": "bf681141",
   "metadata": {},
   "source": [
    "<b>NOTE:</b> Basing on above r2 scores I select Fitted Moore's Law curve for predicting GPUs Mean Memory Size."
   ]
  },
  {
   "cell_type": "code",
   "execution_count": null,
   "id": "b25c04eb",
   "metadata": {},
   "outputs": [],
   "source": [
    "X_grid = np.arange(min(year_arr), max(year_arr) + 5, 0.1)\n",
    "X_grid = X_grid.reshape((len(X_grid), 1))\n",
    "\n",
    "y_pred_lin_reg_2 = lin_reg_2.predict(poly_reg_2.fit_transform(X_grid))\n",
    "y_pred_lin_reg_3 = lin_reg_3.predict(poly_reg_3.fit_transform(X_grid))\n",
    "\n",
    "X_grid = X_grid.flatten()\n",
    "\n",
    "y_pred_moore_law_teoretic = calculateMooresValue(X_grid, int(year_min))\n",
    "y_pred_moore_law_fitted = exponentialCurve(X_grid, *popt)\n",
    "\n",
    "trace1 = go.Scatter(\n",
    "    x = X_grid,\n",
    "    y = y_pred_lin_reg_2,\n",
    "    mode = 'lines',\n",
    "    name = '2nd degree polynomial'\n",
    ")\n",
    "trace2 = go.Scatter(\n",
    "    x = X_grid,\n",
    "    y = y_pred_lin_reg_3,\n",
    "    mode = 'lines',\n",
    "    name = '3rd degree polynomial'\n",
    ")\n",
    "trace3 = go.Scatter(\n",
    "    x = X_grid,\n",
    "    y = y_pred_moore_law_teoretic,\n",
    "    mode = 'lines',\n",
    "    name = \"Teoretic Moore's Law curve\"\n",
    ")\n",
    "trace4 = go.Scatter(\n",
    "    x = X_grid,\n",
    "    y = y_pred_moore_law_fitted,\n",
    "    mode = 'lines',\n",
    "    name = \"Fitted Moore's Law curve\"\n",
    ")\n",
    "\n",
    "data = [trace1, trace2, trace3, trace4]\n",
    "\n",
    "layout = go.Layout(\n",
    "    title = 'Fitting regression model into dataset',\n",
    "    width=1000,\n",
    "    height=500,\n",
    "    paper_bgcolor='rgb(243, 243, 243)',\n",
    "    plot_bgcolor='rgb(243, 243, 243)',\n",
    "    yaxis = dict(title= 'GPU Memory'),\n",
    "    xaxis = dict(title= 'Year of Release'),\n",
    "    legend=dict(\n",
    "        x=0,\n",
    "        y=1,\n",
    "        traceorder='normal',\n",
    "        font=dict(\n",
    "            family='sans-serif',\n",
    "            size=12,\n",
    "            color='#000'\n",
    "        ),\n",
    "        bgcolor='#E2E2E2',\n",
    "        bordercolor='#FFFFFF',\n",
    "        borderwidth=2\n",
    "    )\n",
    ")\n",
    "fig = go.Figure(data=data, layout=layout)\n",
    "\n",
    "py.iplot(fig)"
   ]
  },
  {
   "cell_type": "markdown",
   "id": "72244212",
   "metadata": {},
   "source": [
    "### 3.6. Predicting GPUs mean memory size in 2025\n",
    "<a id=\"predicting_gpus_mean_memory_size_in_2025\"></a>"
   ]
  }
 ],
 "metadata": {},
 "nbformat": 4,
 "nbformat_minor": 5
}
