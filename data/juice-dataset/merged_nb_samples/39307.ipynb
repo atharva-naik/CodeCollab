{
 "cells": [
  {
   "cell_type": "markdown",
   "id": "6a6c96f0",
   "metadata": {},
   "source": [
    "### Q1. Multiply all values in given dictionary and print it."
   ]
  },
  {
   "cell_type": "code",
   "execution_count": null,
   "id": "f2d78ce8",
   "metadata": {},
   "outputs": [],
   "source": [
    "my_dict = {'a':2,'b':3,'c':4}\n",
    "\n",
    "result = 1\n",
    "\n",
    "for key, val in my_dict.items():\n",
    "    result *= val\n",
    "    \n",
    "print(result)"
   ]
  },
  {
   "cell_type": "markdown",
   "id": "a181626f",
   "metadata": {},
   "source": [
    "### Q2. Create and print a dictionary from list of lists where one list values act as key and corresponding value from another list act as value"
   ]
  },
  {
   "cell_type": "code",
   "execution_count": null,
   "id": "ecf8f569",
   "metadata": {},
   "outputs": [],
   "source": [
    "country_name = [\"US\", \"Russia\", \"Japan\", \"Germany\",\"Canada\"]\n",
    "capital_city = [\"Washington,DC\", \"Moscow\", \"Tokyo\", \"Berlin\",\"Toronto\"]\n",
    "\n",
    "dict_ = {}\n",
    "\n",
    "for i in range(len(country_name)):\n",
    "    cn = country_name[i]\n",
    "    cc = capital_city[i]\n",
    "    dict_[cn] = cc\n",
    "    \n",
    "print(dict_)"
   ]
  },
  {
   "cell_type": "markdown",
   "id": "a4f69419",
   "metadata": {},
   "source": [
    "### Q3. Print the elements which are not common between the two lists"
   ]
  },
  {
   "cell_type": "code",
   "execution_count": null,
   "id": "202e382f",
   "metadata": {},
   "outputs": [],
   "source": [
    "list1 = [1, 2, 1, 3, 4]\n",
    "list2 = [1, 2, 5]\n",
    "\n",
    "print(list(set(list1).union(set(list2)) - set(list1).intersection(set(list2))))"
   ]
  },
  {
   "cell_type": "markdown",
   "id": "d28b0f20",
   "metadata": {},
   "source": [
    "### Q4. Sort lists present as values in a dictionary and print the sorted dictionary"
   ]
  },
  {
   "cell_type": "code",
   "execution_count": null,
   "id": "6c8da960",
   "metadata": {},
   "outputs": [],
   "source": [
    "num = {'l1': [30, 10], 'l2': [50, 10, 20], 'l3': [30, 20, 40, 10]}\n",
    "\n",
    "for key in num:\n",
    "    num[key] = sorted(num[key])\n",
    "    \n",
    "print(num)\n",
    "\n",
    "# sorted_dict = {x: sorted(y) for x, y in num.items()}\n",
    "# print(sorted_dict)"
   ]
  },
  {
   "cell_type": "markdown",
   "id": "3a334762",
   "metadata": {},
   "source": [
    "### Q5. Concatenate the following dictionaries and print the newly created one"
   ]
  },
  {
   "cell_type": "code",
   "execution_count": null,
   "id": "fc4fb7ee",
   "metadata": {},
   "outputs": [],
   "source": [
    "dic_1={'a':1, 'b':2}\n",
    "dic_2={'c':3, 'd':4}\n",
    "dic_3={'e':5,'f':6}\n",
    "\n",
    "dic_4 = {}\n",
    "\n",
    "for dic in [dic_1, dic_2, dic_3]:\n",
    "    for key in dic:\n",
    "        dic_4[key] = dic[key]\n",
    "        \n",
    "print(dic_4)\n",
    "\n",
    "# dic_4 = {}\n",
    "# for d in (dic_1, dic_2, dic_3): dic_4.update(d)\n",
    "# print(dic_4)"
   ]
  },
  {
   "cell_type": "markdown",
   "id": "b8a799f2",
   "metadata": {},
   "source": [
    "### Q6. Print all unique values (not the keys) from a list of dictionaries."
   ]
  },
  {
   "cell_type": "code",
   "execution_count": null,
   "id": "c34e5957",
   "metadata": {},
   "outputs": [],
   "source": [
    "my_list = [{\"A\":\"1\"}, {\"A\": \"2\"}, {\"B\": \"1\"}, {\"B\": \"5\"}, {\"C\":\"5\"}, {\"A\":\"9\"},{\"D\":\"7\"}]\n",
    "\n",
    "u_values = []\n",
    "for dic in my_list:\n",
    "    for key, val in dic.items():\n",
    "        if not val in u_values:\n",
    "            u_values.append(val)\n",
    "            \n",
    "print(u_values)\n",
    "\n",
    "# u_values = set([val for dic in my_list for val in dic.values()])\n",
    "# print(u_values)"
   ]
  },
  {
   "cell_type": "markdown",
   "id": "fabc0f6c",
   "metadata": {},
   "source": [
    "### Q7. Find and print common key-value pair in given two dictionaries."
   ]
  },
  {
   "cell_type": "code",
   "execution_count": null,
   "id": "731419be",
   "metadata": {},
   "outputs": [],
   "source": [
    "x = {'1': 1, '2': 2, '3': 2}\n",
    "y = {'1': 1, '2': 2, '3': 3, '4': 4}\n",
    "\n",
    "dic = {}\n",
    "\n",
    "for key in x:\n",
    "    if key in y and x[key] == y[key]:\n",
    "        dic[key] = x[key]\n",
    "        \n",
    "print(dic)"
   ]
  },
  {
   "cell_type": "markdown",
   "id": "b66b7f7a",
   "metadata": {},
   "source": [
    "### Q8. Convert below 2-D array to a single dimension (1XN) array."
   ]
  },
  {
   "cell_type": "code",
   "execution_count": null,
   "id": "f05f4846",
   "metadata": {},
   "outputs": [],
   "source": [
    "import numpy as np\n",
    "\n",
    "x = np.array([[10, 20, 30], [40, 50,60]])\n",
    "\n",
    "new_arr = []\n",
    "\n",
    "for arr in x:\n",
    "    new_arr += list(arr)\n",
    "    \n",
    "new_arr = np.array(new_arr)\n",
    "\n",
    "print(new_arr)\n",
    "\n",
    "# x = x.reshape(1, -1)\n",
    "# print(x)"
   ]
  },
  {
   "cell_type": "markdown",
   "id": "8ed62c5d",
   "metadata": {},
   "source": [
    "### Q9. Write a Python program to convert below 1-D array to 2-D (NxN) array."
   ]
  },
  {
   "cell_type": "code",
   "execution_count": null,
   "id": "6b8eba6c",
   "metadata": {},
   "outputs": [],
   "source": [
    "x = np.array([0,1,2,3,4,5,6,7,8])\n",
    "\n",
    "x = x.reshape(3, -1)\n",
    "print(x)"
   ]
  },
  {
   "cell_type": "markdown",
   "id": "e0fc4140",
   "metadata": {},
   "source": [
    "### Q10. Write a program which can find even numbers in a list by using filter function. "
   ]
  },
  {
   "cell_type": "code",
   "execution_count": null,
   "id": "4e872292",
   "metadata": {},
   "outputs": [],
   "source": [
    "li = [1,2,3,4,5,6,7,8,9,10]\n",
    "\n",
    "evens = filter(lambda x : x % 2 == 0, li)\n",
    "\n",
    "print(list(evens))"
   ]
  },
  {
   "cell_type": "markdown",
   "id": "88d3a074",
   "metadata": {},
   "source": [
    "### Q11. Write a program to make a list whose elements are square of even number in given list.\n",
    "\n",
    "Hint : You can use lambda function"
   ]
  }
 ],
 "metadata": {},
 "nbformat": 4,
 "nbformat_minor": 5
}
