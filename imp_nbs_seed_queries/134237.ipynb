{
 "cells": [
  {
   "cell_type": "code",
   "execution_count": null,
   "id": "ccc5e463",
   "metadata": {},
   "outputs": [],
   "source": [
    "from sklearn import datasets        # To Get iris dataset\n",
    "from sklearn import svm         # To fit the svm classifier\n",
    "from sklearn.metrics import accuracy_score\n",
    "import numpy as np\n",
    "import matplotlib.pyplot as plt "
   ]
  },
  {
   "cell_type": "code",
   "execution_count": null,
   "id": "41e27cc1",
   "metadata": {},
   "outputs": [],
   "source": [
    "iris_dataset = datasets.load_iris()"
   ]
  },
  {
   "cell_type": "code",
   "execution_count": null,
   "id": "cdef1e8f",
   "metadata": {},
   "outputs": [],
   "source": [
    "print (\"Iris data set Description :: \", iris_dataset['DESCR'])"
   ]
  },
  {
   "cell_type": "code",
   "execution_count": null,
   "id": "a032e42c",
   "metadata": {},
   "outputs": [],
   "source": [
    "print (\"Iris feature data :: \", iris_dataset['data'])"
   ]
  },
  {
   "cell_type": "code",
   "execution_count": null,
   "id": "fe76352b",
   "metadata": {},
   "outputs": [],
   "source": [
    "print(\"Iris target :: \", iris_dataset['target'])"
   ]
  },
  {
   "cell_type": "markdown",
   "id": "1845a411",
   "metadata": {},
   "source": [
    "## Visualizing the relationship between sepal and target classes"
   ]
  },
  {
   "cell_type": "code",
   "execution_count": null,
   "id": "b6c65f9b",
   "metadata": {},
   "outputs": [],
   "source": [
    "def visuvalize_sepal_data():\n",
    "    iris = datasets.load_iris()\n",
    "    X = iris.data[:, :2]  # we only take the first two features.\n",
    "    y = iris.target\n",
    "    plt.scatter(X[:, 0], X[:, 1], c=y, cmap=plt.cm.coolwarm)\n",
    "    plt.xlabel('Sepal length')\n",
    "    plt.ylabel('Sepal width')\n",
    "    plt.title('Sepal Width & Length')\n",
    "    plt.show()\n",
    " \n",
    "visuvalize_sepal_data()"
   ]
  },
  {
   "cell_type": "markdown",
   "id": "8b4837c2",
   "metadata": {},
   "source": [
    "## Visualizing the relationship between Petal and target classes"
   ]
  }
 ],
 "metadata": {},
 "nbformat": 4,
 "nbformat_minor": 5
}
