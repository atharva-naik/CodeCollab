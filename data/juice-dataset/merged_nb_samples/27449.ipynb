{
 "cells": [
  {
   "cell_type": "markdown",
   "id": "e503b966",
   "metadata": {},
   "source": [
    "# Twitter Example   \n",
    "## ACE Cluster\n",
    "### School of Psychology, Massey University\n",
    "\n",
    "**Twitter API Setup:**\n",
    "To use the Twitter API you need to register as an app developer. All you need is a Twitter account. When you register an app you are given four encryption keys, two public and two private. One pair is to identify you to the Twitter server and the other is to allow  someone using your app to give you access to their data without them having to share their private credentials with your app."
   ]
  },
  {
   "cell_type": "code",
   "execution_count": null,
   "id": "bdad56a3",
   "metadata": {},
   "outputs": [],
   "source": [
    "import twitter\n",
    "\n",
    "consumer_key, consumer_secret = twitter.read_token_file(\"consumer.txt\")\n",
    "oauth_token, oauth_secret = twitter.read_token_file(\"oauth.txt\") \n",
    "auth = twitter.oauth.OAuth(oauth_token, oauth_secret, consumer_key, consumer_secret)\n",
    "twitter_api = twitter.Twitter(auth=auth)\n",
    "print(twitter_api)"
   ]
  },
  {
   "cell_type": "markdown",
   "id": "5298a1c1",
   "metadata": {},
   "source": [
    "The **twitter_api** object exists which means we are good to go.\n",
    "\n",
    "Let's find out what we know about @MasseyUni:"
   ]
  },
  {
   "cell_type": "code",
   "execution_count": null,
   "id": "20b93a4a",
   "metadata": {},
   "outputs": [],
   "source": [
    "massey_info = twitter_api.users.show(screen_name = \"MasseyUni\")\n",
    "print(massey_info.keys())"
   ]
  },
  {
   "cell_type": "markdown",
   "id": "d565f54a",
   "metadata": {},
   "source": [
    "Lots of goodies. Let's check out the profile image:"
   ]
  },
  {
   "cell_type": "code",
   "execution_count": null,
   "id": "57ef7585",
   "metadata": {},
   "outputs": [],
   "source": [
    "print(massey_info['profile_image_url'])"
   ]
  },
  {
   "cell_type": "markdown",
   "id": "2cd3b91c",
   "metadata": {},
   "source": [
    "How many followers does @MasseyUni have?"
   ]
  },
  {
   "cell_type": "code",
   "execution_count": null,
   "id": "f206931f",
   "metadata": {},
   "outputs": [],
   "source": [
    "print(massey_info[\"followers_count\"])"
   ]
  },
  {
   "cell_type": "markdown",
   "id": "c68cb502",
   "metadata": {},
   "source": [
    "How many Tweets (including retweets) has @MasseyUni issued?"
   ]
  },
  {
   "cell_type": "code",
   "execution_count": null,
   "id": "6475b96b",
   "metadata": {},
   "outputs": [],
   "source": [
    "print(massey_info[\"statuses_count\"])"
   ]
  },
  {
   "cell_type": "markdown",
   "id": "97f9aa7d",
   "metadata": {},
   "source": [
    "Let's grab some Tweets from @MasseyUni (which Twitter also calls **statuses** or **status updates**)."
   ]
  },
  {
   "cell_type": "code",
   "execution_count": null,
   "id": "569eb5e5",
   "metadata": {},
   "outputs": [],
   "source": [
    "q = \"@MasseyUni\" # The query string - the string we are going to search Twitter with\n",
    "count = 5\n",
    "results =  twitter_api.statuses.user_timeline(screen_name=\"@MasseyUni\", count=count)"
   ]
  },
  {
   "cell_type": "markdown",
   "id": "26a6a872",
   "metadata": {},
   "source": [
    " Like most web services, Twitter returns data in **json** format (json = JavaScript Object Notation)\n",
    " which is very similar to a Python dictionary containing other nested dictionaries and lists in its structure. To print json in a readable\n",
    " manner I will use the json dump string function aliased to dump.\n",
    " \n",
    " A tweet is only 140 characters but the information Twitter provides for each tweet is around 5kB."
   ]
  },
  {
   "cell_type": "code",
   "execution_count": null,
   "id": "916b77f3",
   "metadata": {},
   "outputs": [],
   "source": [
    "from json import dumps as dump\n",
    "\n",
    "print(dump(results, indent=2))"
   ]
  },
  {
   "cell_type": "markdown",
   "id": "d09c8307",
   "metadata": {},
   "source": [
    "That is just 5 tweets!\n",
    "\n",
    "The data is returned as a dictionary at the topmost level. The first item is **statuses** which are the actual tweets. The second is **search_metadata**."
   ]
  },
  {
   "cell_type": "code",
   "execution_count": null,
   "id": "fce23086",
   "metadata": {},
   "outputs": [],
   "source": [
    "print(len(results))"
   ]
  },
  {
   "cell_type": "markdown",
   "id": "4c5dd649",
   "metadata": {},
   "source": [
    "Let's take a look at what is inside the first tweet (aka statuses[0])"
   ]
  },
  {
   "cell_type": "code",
   "execution_count": null,
   "id": "cd7e2612",
   "metadata": {},
   "outputs": [],
   "source": [
    "print(results[0].keys())"
   ]
  },
  {
   "cell_type": "markdown",
   "id": "c848138a",
   "metadata": {},
   "source": [
    "**\"text\"** is the actual text of the tweet. Let's print them:"
   ]
  },
  {
   "cell_type": "code",
   "execution_count": null,
   "id": "e4214e85",
   "metadata": {},
   "outputs": [],
   "source": [
    "for n in range(count):\n",
    "    print(results[n][\"text\"])"
   ]
  },
  {
   "cell_type": "code",
   "execution_count": null,
   "id": "db8c7372",
   "metadata": {},
   "outputs": [],
   "source": [
    "for n in range(count):\n",
    "    print(results[n][\"source\"])"
   ]
  },
  {
   "cell_type": "markdown",
   "id": "9819a4cb",
   "metadata": {},
   "source": [
    "Let's see what is inside a single tweet.\n",
    "\n",
    "**\"entities\"** are things like hashtags, users and urls mentioned in a tweet. Let's check out the entities for the first tweet: "
   ]
  },
  {
   "cell_type": "code",
   "execution_count": null,
   "id": "db3bbb25",
   "metadata": {},
   "outputs": [],
   "source": [
    "t1 = results[0] # t1 = tweet 1, saves writing results[\"statuses\"][0] all the time\n",
    "\n",
    "print(dump(t1[\"entities\"], indent=1))"
   ]
  },
  {
   "cell_type": "markdown",
   "id": "205dae32",
   "metadata": {},
   "source": [
    "**\"user\"** contains infromation about the original tweeter:"
   ]
  },
  {
   "cell_type": "code",
   "execution_count": null,
   "id": "592247b2",
   "metadata": {},
   "outputs": [],
   "source": [
    "print(t1[\"user\"][\"screen_name\"])"
   ]
  },
  {
   "cell_type": "markdown",
   "id": "18839073",
   "metadata": {},
   "source": [
    "In this case the original tweeter is MasseyUni but if it was a retweet we could get the original tweeter's user profile, follower, friends and tweets. "
   ]
  },
  {
   "cell_type": "markdown",
   "id": "80d9d0d9",
   "metadata": {},
   "source": [
    "How many users is @MasseyUni following (i.e. @MasseyUni's friends)?"
   ]
  },
  {
   "cell_type": "code",
   "execution_count": null,
   "id": "d0182ece",
   "metadata": {},
   "outputs": [],
   "source": [
    "print(massey_info[\"friends_count\"])"
   ]
  },
  {
   "cell_type": "markdown",
   "id": "3f51e08d",
   "metadata": {},
   "source": [
    "Show the latest 20 users @MasseyUni follows:"
   ]
  },
  {
   "cell_type": "code",
   "execution_count": null,
   "id": "7dce27da",
   "metadata": {},
   "outputs": [],
   "source": [
    "friends = twitter_api.friends.list(screen_name=\"MasseyUni\", count = 20)\n",
    "for friend in friends[\"users\"]:\n",
    "    print(friend[\"screen_name\"])"
   ]
  },
  {
   "cell_type": "markdown",
   "id": "967d1b40",
   "metadata": {},
   "source": [
    "Show the latest 20 followers of @MasseyUni:"
   ]
  },
  {
   "cell_type": "code",
   "execution_count": null,
   "id": "18ba08b1",
   "metadata": {},
   "outputs": [],
   "source": [
    "followers = twitter_api.followers.list(screen_name=\"MasseyUni\", count = 20)\n",
    "for follower in followers[\"users\"]:\n",
    "    print(follower[\"screen_name\"])"
   ]
  },
  {
   "cell_type": "markdown",
   "id": "89a1f38c",
   "metadata": {},
   "source": [
    "**Note:** Twitter places limits on how many friends and followers can be downloaded at once. If obtaining full user data, 200 can be returned in one request (no more than 15 requests in 15 minutes is allowed). If friends/followers are obtained by ID number only, Twitter allows 5000 user IDs to be returned in one request.\n",
    "\n",
    "---\n",
    "\n",
    "How about what is trending in NZ? First we need to find the Yahoo! WOE (Where On Earth) code for NZ. There is a simple lookup page at [http://woeid.rosselliot.co.nz/](http://woeid.rosselliot.co.nz/) \n",
    "\n",
    "It turns out NZ is 23424916"
   ]
  },
  {
   "cell_type": "code",
   "execution_count": null,
   "id": "7d95e481",
   "metadata": {},
   "outputs": [],
   "source": [
    "WOE_NZ = 23424916\n",
    "nz_trends = twitter_api.trends.place(_id=WOE_NZ) \n",
    "# the underscore on _id is needed because of a quirk in the python twitter API (\"id\" is reserved for another purpose)\n",
    "# It turns out trends is a list of dictionaries with only one element. Not much of a list really :)\n",
    "print(nz_trends[0].keys())"
   ]
  },
  {
   "cell_type": "markdown",
   "id": "7908fa5f",
   "metadata": {},
   "source": [
    "The interesting stuff is in the 'trends' key. Let's take a look at the first 10:"
   ]
  },
  {
   "cell_type": "code",
   "execution_count": null,
   "id": "d69b6f3c",
   "metadata": {},
   "outputs": [],
   "source": [
    "for trend in nz_trends[0][\"trends\"][0:10]:\n",
    "    print(dump(trend, indent=2))"
   ]
  },
  {
   "cell_type": "markdown",
   "id": "19f44744",
   "metadata": {},
   "source": [
    "Now I will try something more complicated. Let's compare the **lexical diversity** of Massey tweets with Victoria tweets. Lexical diversity will be crudely defined as **the number of unique words divided by the total number of words** in a list of tweets, N = 100 say.\n",
    "\n",
    "First get 100 tweets from Massey and Victoria:"
   ]
  },
  {
   "cell_type": "code",
   "execution_count": null,
   "id": "d695ab9d",
   "metadata": {},
   "outputs": [],
   "source": [
    "count = 100\n",
    "\n",
    "q = \"@MasseyUni\"\n",
    "#massey_tweets = twitter_api.search.tweets(q=q, count=count)[\"statuses\"]\n",
    "massey_tweets = twitter_api.statuses.user_timeline(screen_name=\"@MasseyUni\", count=count)\n",
    "q = \"@VicUniWgtn\"\n",
    "#victoria_tweets = twitter_api.search.tweets(q=q, count=count)[\"statuses\"]\n",
    "victoria_tweets = twitter_api.statuses.user_timeline(screen_name=\"@VicUniWgtn\", count=count)"
   ]
  },
  {
   "cell_type": "markdown",
   "id": "3aa94a66",
   "metadata": {},
   "source": [
    "Now extract the text of each tweet for both Massey and Victoria (using a Python *list comprehension*):"
   ]
  },
  {
   "cell_type": "code",
   "execution_count": null,
   "id": "c9e7fb93",
   "metadata": {},
   "outputs": [],
   "source": [
    "massey_texts = [tweet[\"text\"] for tweet in massey_tweets]\n",
    "victoria_texts = [tweet[\"text\"] for tweet in victoria_tweets]"
   ]
  },
  {
   "cell_type": "markdown",
   "id": "3ba7ff49",
   "metadata": {},
   "source": [
    "Now we need to break down each text into individual words add the words to a list. I will exclude 'words' that include punctuation (like hastags, screen names etc.) by means of Pythons isalpha() method. We need to iterate over each text and then over each word in the text:"
   ]
  },
  {
   "cell_type": "code",
   "execution_count": null,
   "id": "0054b238",
   "metadata": {},
   "outputs": [],
   "source": [
    "massey_words = [word \n",
    "                    for text in massey_texts\n",
    "                        for word in text.split() if word.isalpha()]\n",
    "victoria_words = [word \n",
    "                    for text in victoria_texts\n",
    "                        for word in text.split() if word.isalpha()]\n",
    "\n",
    "print(\"50 Massey words:\\n\\n\", massey_words[0:50])\n",
    "print(\"\\n50 Victoria words:\\n\\n\", victoria_words[0:50])"
   ]
  },
  {
   "cell_type": "markdown",
   "id": "8de8f1cc",
   "metadata": {},
   "source": [
    "Notice that the words are not unique. We have just split up all the texts and pulled out strings of alpha characters. It's easy to convert a list of words into a *set* of unique words by using Pythons set() method:"
   ]
  },
  {
   "cell_type": "code",
   "execution_count": null,
   "id": "7ee9e8df",
   "metadata": {},
   "outputs": [],
   "source": [
    "unique_massey_words = set(massey_words)\n",
    "unique_victoria_words = set(victoria_words)"
   ]
  },
  {
   "cell_type": "markdown",
   "id": "61172b86",
   "metadata": {},
   "source": [
    "Python makes it that easy! Now we have everything we need to compare the lexical diversity."
   ]
  },
  {
   "cell_type": "code",
   "execution_count": null,
   "id": "68b9c269",
   "metadata": {},
   "outputs": [],
   "source": [
    "print(\"Massey:\", len(unique_massey_words), \"unique words out of\", len(massey_words), \"=\",\n",
    "      len(unique_massey_words) / len(massey_words),\"\\n\")\n",
    "print(unique_massey_words, \"\\n\\n\")\n",
    "print(\"\\nVictoria:\", len(unique_victoria_words), \"unique words out of\", len(victoria_words), \"=\",\n",
    "      len(unique_victoria_words) / len(victoria_words),\"\\n\")\n",
    "print(unique_victoria_words)"
   ]
  },
  {
   "cell_type": "markdown",
   "id": "9be68841",
   "metadata": {},
   "source": [
    "Get the intersection of Massey and Victoria words:"
   ]
  },
  {
   "cell_type": "code",
   "execution_count": null,
   "id": "a8d16aa4",
   "metadata": {},
   "outputs": [],
   "source": [
    "print(unique_victoria_words & unique_massey_words)"
   ]
  },
  {
   "cell_type": "markdown",
   "id": "5bd642d7",
   "metadata": {},
   "source": [
    "The difference:"
   ]
  },
  {
   "cell_type": "code",
   "execution_count": null,
   "id": "b65004c2",
   "metadata": {},
   "outputs": [],
   "source": [
    "print(unique_victoria_words - unique_massey_words)"
   ]
  },
  {
   "cell_type": "code",
   "execution_count": null,
   "id": "8c8cdca5",
   "metadata": {},
   "outputs": [],
   "source": [
    "print(unique_massey_words - unique_victoria_words)"
   ]
  },
  {
   "cell_type": "markdown",
   "id": "5da24f9f",
   "metadata": {},
   "source": [
    "Get the words that in one or other but not in both:\n",
    "|"
   ]
  }
 ],
 "metadata": {},
 "nbformat": 4,
 "nbformat_minor": 5
}
