{
 "cells": [
  {
   "cell_type": "markdown",
   "id": "29a60b04",
   "metadata": {},
   "source": [
    "## Lab 3.4: csvs, functions, numpy, and distributions\n",
    "\n",
    "Run the cell below to load the required packages and set up plotting in the notebook!"
   ]
  },
  {
   "cell_type": "code",
   "execution_count": null,
   "id": "770a0bc0",
   "metadata": {},
   "outputs": [],
   "source": [
    "import numpy as np\n",
    "import scipy.stats as stats\n",
    "import csv\n",
    "import seaborn as sns\n",
    "%matplotlib inline"
   ]
  },
  {
   "cell_type": "markdown",
   "id": "8e1fa28e",
   "metadata": {},
   "source": [
    "### Sales data\n",
    "\n",
    "For this lab we will be using a truncated version of some sales data that we will be looking at further down the line in more detail. \n",
    "\n",
    "The csv has about 200 rows of data and 4 columns. The relative path to the csv ```sales_info.csv``` is provided below. If you copied files over and moved them around, this might be different for you and you will have to figure out the correct relative path to enter."
   ]
  },
  {
   "cell_type": "code",
   "execution_count": null,
   "id": "d47ab6c6",
   "metadata": {},
   "outputs": [],
   "source": [
    "sales_csv_path = '../../assets/datasets/sales_info.csv'"
   ]
  },
  {
   "cell_type": "markdown",
   "id": "9554c4a3",
   "metadata": {},
   "source": [
    "#### 1. Loading the data\n",
    "\n",
    "Set up an empty list called ```rows```.\n",
    "\n",
    "Using the pattern for loading csvs we learned earlier, add all of the rows in the csv file to the rows list.\n",
    "\n",
    "For your reference, the pattern is:\n",
    "```python\n",
    "with open(my_csv_path, 'r') as f:\n",
    "    reader = csv.reader(f)\n",
    "    ...\n",
    "```\n",
    "\n",
    "Beyond this, adding the rows in the csv file to the ```rows``` variable is up to you."
   ]
  },
  {
   "cell_type": "code",
   "execution_count": null,
   "id": "ce9d1c16",
   "metadata": {},
   "outputs": [],
   "source": [
    "rows = []\n",
    "\n",
    "with open(sales_csv_path, 'r') as f:\n",
    "    reader = csv.reader(f)\n",
    "    for row in reader:\n",
    "        rows.append(row)"
   ]
  },
  {
   "cell_type": "markdown",
   "id": "0c7f008a",
   "metadata": {},
   "source": [
    "##### 2. Separate header and data\n",
    "\n",
    "The header of the csv is contained in the first index of the ```rows``` variable, as it is the first row in the csv file. \n",
    "\n",
    "Use python indexing to create two new variables: ```header``` which contains the 4 column names, and ```data``` which contains the list of lists, each sub-list representing a row from the csv.\n",
    "\n",
    "Lastly, print ```header``` to see the names of the columns."
   ]
  },
  {
   "cell_type": "code",
   "execution_count": null,
   "id": "7f9e4104",
   "metadata": {},
   "outputs": [],
   "source": [
    "header = rows[0]\n",
    "data = rows[1:]\n",
    "print(header)"
   ]
  },
  {
   "cell_type": "markdown",
   "id": "0c6a0be6",
   "metadata": {},
   "source": [
    "#### 3. Create a dictionary with the data\n",
    "\n",
    "Use loops or list comprehensions to create a dictionary called ```sales_data```, where the keys of the dictionary are the column names, and the values of the dictionary are lists of the data points of the column corresponding to that column name."
   ]
  },
  {
   "cell_type": "code",
   "execution_count": null,
   "id": "606d206a",
   "metadata": {},
   "outputs": [],
   "source": [
    "sales_data = {}\n",
    "\n",
    "for index, column_name in enumerate(header):\n",
    "    sales_data[column_name] = []\n",
    "    for row in data:\n",
    "        sales_data[column_name].append(row[index])"
   ]
  },
  {
   "cell_type": "markdown",
   "id": "2f79d278",
   "metadata": {},
   "source": [
    "added alternative solution without the enumerate in the loop:"
   ]
  },
  {
   "cell_type": "code",
   "execution_count": null,
   "id": "e5ce3d56",
   "metadata": {},
   "outputs": [],
   "source": [
    "sales_data2 = {}\n",
    "\n",
    "for num in range(0, len(data[0])): \n",
    "    header_name = header[num]\n",
    "    sales_data2[header_name] = [] #initialize key, for the values to be appended\n",
    "    for row in data: \n",
    "        sales_data2[header_name].append(row[num])"
   ]
  },
  {
   "cell_type": "markdown",
   "id": "2a1c084f",
   "metadata": {},
   "source": [
    "**3.A** Print out the first 10 items of the 'volume_sold' column."
   ]
  },
  {
   "cell_type": "code",
   "execution_count": null,
   "id": "24a4d070",
   "metadata": {},
   "outputs": [],
   "source": [
    "sales_data2['volume_sold'][0:10]"
   ]
  },
  {
   "cell_type": "code",
   "execution_count": null,
   "id": "f3089e66",
   "metadata": {},
   "outputs": [],
   "source": [
    "sales_data['volume_sold'][0:10]"
   ]
  },
  {
   "cell_type": "markdown",
   "id": "fff784e9",
   "metadata": {},
   "source": [
    "#### 4. Convert data from string to float\n",
    "\n",
    "As you can see, the data is still in string format (which is how it is read in from the csv). For each key:value pair in our ```sales_data``` dictionary, convert the values (column data) from string values to float values."
   ]
  },
  {
   "cell_type": "code",
   "execution_count": null,
   "id": "23e733d1",
   "metadata": {},
   "outputs": [],
   "source": [
    "for name, col in sales_data.items():\n",
    "    col = [float(x) for x in col]\n",
    "    sales_data[name] = col\n",
    "    "
   ]
  },
  {
   "cell_type": "markdown",
   "id": "248c9fc0",
   "metadata": {},
   "source": [
    "#### 5. Write function to print summary statistics\n",
    "\n",
    "Now write a function to print out summary statistics for the data.\n",
    "\n",
    "Your function should:\n",
    "\n",
    "- Accept two arguments: the column name and the data associated with that column\n",
    "- Print out information, clearly labeling each item when you print it:\n",
    "    1. Print out the column name\n",
    "    2. Print the mean of the data using ```np.mean()```\n",
    "    3. Print out the median of the data using ```np.median()```\n",
    "    4. Print out the mode of the **rounded data** using ```stats.mode()```\n",
    "    5. Print out the variance of the data using ```np.var()```\n",
    "    6. Print out the standard deviation of the data using ```np.std()```\n",
    "    \n",
    "Remember that you will need to convert the numeric data from these function to strings by wrapping them in the ```str()``` function."
   ]
  },
  {
   "cell_type": "code",
   "execution_count": null,
   "id": "618a8493",
   "metadata": {},
   "outputs": [],
   "source": [
    "def summary_statistics(column, data):\n",
    "    print 'COLUMN: ' + column\n",
    "    print 'mean: ' + str(np.mean(data))\n",
    "    print 'median: ' + str(np.median(data))\n",
    "    print 'mode: ' + str(stats.mode([round(d) for d in data]))\n",
    "    print 'variance: ' + str(np.var(data))\n",
    "    print 'standard deviation: ' + str(np.std(data))"
   ]
  },
  {
   "cell_type": "markdown",
   "id": "079220e6",
   "metadata": {},
   "source": [
    "**5.A** Using your function, print the summary statistics for 'volume_sold'"
   ]
  },
  {
   "cell_type": "code",
   "execution_count": null,
   "id": "80cd3daf",
   "metadata": {},
   "outputs": [],
   "source": [
    "summary_statistics('volume_sold', sales_data['volume_sold'])"
   ]
  },
  {
   "cell_type": "markdown",
   "id": "6ccc8646",
   "metadata": {},
   "source": [
    "**5.B** Using your function, print the summary statistics for '2015_margin'"
   ]
  },
  {
   "cell_type": "code",
   "execution_count": null,
   "id": "c357a56e",
   "metadata": {},
   "outputs": [],
   "source": [
    "summary_statistics('2015_margin', sales_data['2015_margin'])"
   ]
  },
  {
   "cell_type": "markdown",
   "id": "29a86478",
   "metadata": {},
   "source": [
    "**5.C** Using your function, print the summary statistics for '2015_q1_sales'"
   ]
  },
  {
   "cell_type": "code",
   "execution_count": null,
   "id": "ce3c07a6",
   "metadata": {},
   "outputs": [],
   "source": [
    "summary_statistics('2015_q1_sales', sales_data['2015_q1_sales'])"
   ]
  },
  {
   "cell_type": "markdown",
   "id": "7f87d449",
   "metadata": {},
   "source": [
    "**5.D** Using your function, print the summary statistics for '2016_q1_sales'"
   ]
  }
 ],
 "metadata": {},
 "nbformat": 4,
 "nbformat_minor": 5
}
