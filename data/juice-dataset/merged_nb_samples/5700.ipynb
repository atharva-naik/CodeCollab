{
 "cells": [
  {
   "cell_type": "markdown",
   "id": "795d4cfb",
   "metadata": {},
   "source": [
    "<img src=\"Ufo-icon.png\" height=\"256\" width=\"256\" style=\"float: right\">\n",
    "\n",
    "# A Needle in a Data Haystack - Final Project\n",
    "## Matan Cohen, Nir Schipper & Ran Shaham\n",
    "### Exploring UFO sightings data (or - ARE ALIENS REAL?)\n",
    "\n",
    "#### Contents\n",
    "<span id=\"the-top\" />\n",
    "We explore UFO sightings data by:\n",
    "- [Shapes](#Shapes)\n",
    "- [Duration](#Duration)\n",
    "- [Location](#Locations)\n",
    "- [Time of day](#Time)\n",
    "\n",
    "If running interactively, start by selecting `Cell` from the menu, and click `Run All`. This will run the code in the notebook and plot the graphs and widgets."
   ]
  },
  {
   "cell_type": "markdown",
   "id": "148b2f07",
   "metadata": {},
   "source": [
    "### Initialization"
   ]
  },
  {
   "cell_type": "code",
   "execution_count": null,
   "id": "1662e6ca",
   "metadata": {},
   "outputs": [],
   "source": [
    "# imports\n",
    "# standard library\n",
    "import re\n",
    "import json\n",
    "import html\n",
    "import datetime as dt\n",
    "# 3rd party\n",
    "import numpy as np\n",
    "import pandas as pd\n",
    "import matplotlib.pyplot as plt\n",
    "import matplotlib.dates as mdates\n",
    "import seaborn as sns\n",
    "import ipywidgets as widgets"
   ]
  },
  {
   "cell_type": "code",
   "execution_count": null,
   "id": "598a2e16",
   "metadata": {},
   "outputs": [],
   "source": [
    "# constants\n",
    "UFO_FILE = 'scrubbed.csv'\n",
    "DRONES_FILE = 'drones_google.csv'\n",
    "POP_DENSITY_FILE = 'pop_density.csv'\n",
    "POP_ESTIMATE_FILE = 'pop_estimate.csv'\n",
    "NAME_TO_CODE_FILE = 'state_name_to_code.json'\n",
    "# column names\n",
    "DATETIME = 'datetime'\n",
    "YEAR = 'year'\n",
    "MONTH = 'month'\n",
    "DAY = 'day'\n",
    "HOUR = 'hour'\n",
    "COUNTRY = 'country'\n",
    "STATE = 'state'\n",
    "SHAPE = 'shape'\n",
    "COUNT = 'count'\n",
    "DUR_HOURS = 'duration (hours/min)'\n",
    "DUR_SECONDS = 'duration (seconds)'\n",
    "DURATION = 'duration'\n",
    "DESCRIPTION = 'comments'\n",
    "LAT = 'latitude'\n",
    "LON = 'longitude'\n",
    "# etc\n",
    "DATE_FORMAT = '%m/%d/%Y %H:%M'\n",
    "FIX_TIME_REGEX = (r'\\s24:(\\d{2})\\s*$', r' 00:\\1')"
   ]
  },
  {
   "cell_type": "code",
   "execution_count": null,
   "id": "af007baa",
   "metadata": {},
   "outputs": [],
   "source": [
    "# magic & settings\n",
    "%matplotlib inline\n",
    "# big, juicy plots\n",
    "sns.set_context('talk')\n",
    "LARGE_FIGSIZE = (12, 8)\n",
    "sns.set_style(style='white', rc={'figsize': LARGE_FIGSIZE})\n",
    "plt.rcParams.update({\n",
    "    'figure.figsize': LARGE_FIGSIZE,\n",
    "})"
   ]
  },
  {
   "cell_type": "markdown",
   "id": "801def08",
   "metadata": {},
   "source": [
    "### Read & Clean the dataset"
   ]
  },
  {
   "cell_type": "markdown",
   "id": "3d395556",
   "metadata": {},
   "source": [
    "Read the csv file:"
   ]
  },
  {
   "cell_type": "code",
   "execution_count": null,
   "id": "2f6b1c4f",
   "metadata": {},
   "outputs": [],
   "source": [
    "data.info()"
   ]
  },
  {
   "cell_type": "markdown",
   "id": "3404f40f",
   "metadata": {},
   "source": [
    "An important thing to note about this dataset is that it grows over time. That is, the number of sightings (per year) is increasing as time passes. Let's plot it:"
   ]
  },
  {
   "cell_type": "code",
   "execution_count": null,
   "id": "f1228040",
   "metadata": {},
   "outputs": [],
   "source": [
    "count = data[YEAR].value_counts()\n",
    "count.name = COUNT\n",
    "count.reset_index().sort_values(by='index').plot(x='index', y=COUNT);\n",
    "plt.xlabel(YEAR);\n",
    "plt.title('Sightings count over the years');\n",
    "\n",
    "interesting_years = [year for year in range(1990, 2015)]\n",
    "count.loc[interesting_years].reset_index().plot(x='index', y=COUNT);\n",
    "plt.xlabel(YEAR);\n",
    "plt.title('Zoom in to the range 1990-2014');"
   ]
  },
  {
   "cell_type": "markdown",
   "id": "852da256",
   "metadata": {},
   "source": [
    "This, in our opinion, is correlated to the development of internet technologies such as search engines, that made the reporting mechanism more efficient and thus more people managed to report."
   ]
  },
  {
   "cell_type": "markdown",
   "id": "e7f5eea5",
   "metadata": {},
   "source": [
    "### Shapes\n",
    "\n",
    "[[back to the top]](#the-top)"
   ]
  },
  {
   "cell_type": "markdown",
   "id": "e3fbd00d",
   "metadata": {},
   "source": [
    "First, we extract the unique shape values from all sightings:"
   ]
  },
  {
   "cell_type": "code",
   "execution_count": null,
   "id": "4e1fded1",
   "metadata": {},
   "outputs": [],
   "source": [
    "shapes = pd.unique(data[SHAPE])\n",
    "shapes = [shape for shape in shapes if not pd.isnull(shape)]"
   ]
  },
  {
   "cell_type": "markdown",
   "id": "08aab56f",
   "metadata": {},
   "source": [
    "... and for every year, get the proportion of sightings with a given shape:"
   ]
  },
  {
   "cell_type": "code",
   "execution_count": null,
   "id": "fbef6dec",
   "metadata": {},
   "outputs": [],
   "source": [
    "# get the distribution of each shape for every year\n",
    "def get_shape_distribution(shape, data):\n",
    "    if len(data) > 0:\n",
    "        return len(data.loc[data[SHAPE] == shape, SHAPE]) / len(data)\n",
    "    else:\n",
    "        return 0\n",
    "\n",
    "shapes_dist = pd.DataFrame(columns=[YEAR, SHAPE, COUNT]).set_index([YEAR, SHAPE])\n",
    "for year in years:\n",
    "    year_data = data.loc[data[YEAR] == year, :]\n",
    "    shapes_distributions = {shape: get_shape_distribution(shape, year_data)\n",
    "                            for shape in shapes}\n",
    "    for shape in shapes:\n",
    "        shapes_dist.loc[(year, shape), COUNT] = shapes_distributions[shape]"
   ]
  },
  {
   "cell_type": "markdown",
   "id": "d0520583",
   "metadata": {},
   "source": [
    "Use the following widget to explore the change in shapes in sightings over the years.\n",
    "\n",
    "_Pro tip: The real action starts at ~1950..._"
   ]
  },
  {
   "cell_type": "code",
   "execution_count": null,
   "id": "439db856",
   "metadata": {},
   "outputs": [],
   "source": [
    "interesting_years = (1960, 2014)\n",
    "\n",
    "select_years_widget = widgets.widgets.IntRangeSlider(\n",
    "    min = years[0],\n",
    "    max = years[-1],\n",
    "    value = interesting_years,\n",
    "    step = 1,\n",
    "    description = 'Years range'\n",
    ")\n",
    "\n",
    "select_shapes_widget = widgets.widgets.SelectMultiple(\n",
    "    options = shapes,\n",
    "    value = ['disk', 'light', 'fireball'],\n",
    "    description = 'Shapes to plot. Use Ctrl to select multiple values:',\n",
    "    disabled = False\n",
    ")\n",
    "\n",
    "# an interactive plotting function\n",
    "@widgets.interact(years_range=select_years_widget,\n",
    "                  selected_shapes=select_shapes_widget)\n",
    "def plot_shape_distributions(years_range, selected_shapes):\n",
    "    # get all years in the selected range\n",
    "    selected_years = years[(years >= years_range[0]) & \n",
    "                           (years <= years_range[1])]\n",
    "    selected_data = shapes_dist.loc[(selected_years, selected_shapes), COUNT].reset_index()\n",
    "    # plot & format\n",
    "    sns.lmplot(x=YEAR, y=COUNT, hue=SHAPE, data=selected_data, size=10)\n",
    "    plt.title('Changes in shape frequency over time')\n",
    "    plt.xlabel('Year')\n",
    "    plt.ylabel('Proportion of sightings')"
   ]
  },
  {
   "cell_type": "markdown",
   "id": "05d994d7",
   "metadata": {},
   "source": [
    "_We get a lot less disk-shaped UFOs these days. What a shame - I liked those._\n",
    "\n",
    "But wait - there's more!"
   ]
  },
  {
   "cell_type": "code",
   "execution_count": null,
   "id": "0758cd69",
   "metadata": {},
   "outputs": [],
   "source": [
    "selected_years = years[(years >= interesting_years[0]) &\n",
    "                       (years <= interesting_years[1])]\n",
    "shapes_dist.loc[(selected_years, ['triangle']), COUNT].reset_index().plot(x=YEAR, y=COUNT);\n",
    "plt.ylabel('proportion of sightings');\n",
    "plt.title('Triangular UFOs count in modern time');\n",
    "plt.legend(['triangle']);"
   ]
  },
  {
   "cell_type": "markdown",
   "id": "fdffed6b",
   "metadata": {},
   "source": [
    "___Fun fact:___\n",
    "<img src=\"https://upload.wikimedia.org/wikipedia/commons/a/a1/F-117_Nighthawk_Front.jpg\" height=\"300\" width=\"200\" style=\"float: right; margin-left: 10px\">\n",
    "The first operational aircraft to be designed around 'stealth technology' was the [Lockhead F-117 Nighthawk](https://en.wikipedia.org/wiki/Lockheed_F-117_Nighthawk). It was introduced in 1983 after having its first flight in 1981. It was officialy retired in 2008. Oh - and it looks like a big, black triangle in the sky.\n",
    "\n",
    "Also, the [B-2 stealth bomber](https://en.wikipedia.org/wiki/Northrop_Grumman_B-2_Spirit) (which is triangular as well) was produced in the years 1987-2000, and its shape is even weirder. \n",
    "\n",
    "These could account for the dramatically higher proportion of triangular shaped UFO sightings in those years (note that most of the sightings in our dataset are [from the US](#Locations), where these aircrafts were present)."
   ]
  },
  {
   "cell_type": "markdown",
   "id": "1353b1ea",
   "metadata": {},
   "source": [
    "### Duration\n",
    "\n",
    "[[back to the top]](#the-top)"
   ]
  },
  {
   "cell_type": "code",
   "execution_count": null,
   "id": "083b07b4",
   "metadata": {},
   "outputs": [],
   "source": [
    "SELECTED_COUNTRIES = ['AU', 'GB', 'US', 'CA']\n",
    "import collections\n",
    "def calcduration(duration):\n",
    "    s = 0\n",
    "    disqualified = 0\n",
    "    for d in duration:\n",
    "        try:\n",
    "            #eliminate outliers\n",
    "            #if a sighting lasts more than two days\n",
    "            if(float(d)/3600 < 48):\n",
    "                s = s+(float(d)/60)\n",
    "            else:\n",
    "                disqualified = disqualified+1\n",
    "        except:\n",
    "            pass\n",
    "    return s,disqualified\n",
    "\n",
    "def averageDurationPerYear():\n",
    "    averageDurationPerYear = {}\n",
    "    for year in years:\n",
    "        num_sightings = len(data.loc[data[YEAR] == year, :])\n",
    "        duration = data.loc[data[YEAR] == year, DURATION]\n",
    "        [sumOfDurations,disqualified] = calcduration(duration)\n",
    "        averageDurationPerYear[year] = sumOfDurations/(num_sightings-disqualified)\n",
    "\n",
    "    x = []\n",
    "    y = []\n",
    "    averageDurationPerYear = collections._OrderedDictItemsView(averageDurationPerYear)\n",
    "    for key,val in averageDurationPerYear:\n",
    "        x.append(key)\n",
    "        y.append(val)\n",
    "    plt.xlabel('Year')\n",
    "    plt.ylabel('average time ogf sighting in minutes ')\n",
    "    plt.title('average time of sighting each year')\n",
    "    plt.plot(x, y)\n",
    "\n",
    "def averageDurationPerCountry():\n",
    "    averageDurationPerCountry = {}\n",
    "    for country in SELECTED_COUNTRIES:\n",
    "        num_sightings = len(data.loc[data[COUNTRY] == country , :])\n",
    "        duration = data.loc[data[COUNTRY] == country, DURATION]\n",
    "        [sumOfDurations,disqualified] = calcduration(duration)\n",
    "        averageDurationPerCountry[country] = sumOfDurations/(num_sightings - disqualified)\n",
    "    x = []\n",
    "    y = []\n",
    "\n",
    "    for key,val in averageDurationPerCountry.items():\n",
    "        x.append(key)\n",
    "        y.append(val)\n",
    "    plt.figure()\n",
    "    plt.xlabel('country')\n",
    "    plt.ylabel('average time of sighting in minutes ')\n",
    "    plt.title('average time of sighting per counrty')\n",
    "    y_pos = np.arange(len(x))\n",
    "    plt.bar(y_pos, y, align = 'center')\n",
    "    plt.xticks(y_pos,x)"
   ]
  },
  {
   "cell_type": "code",
   "execution_count": null,
   "id": "7a2abbf5",
   "metadata": {},
   "outputs": [],
   "source": [
    "averageDurationPerYear()"
   ]
  },
  {
   "cell_type": "markdown",
   "id": "825f2528",
   "metadata": {},
   "source": [
    "In the graph above, we can see two major spikes. one is in the beginning (1906) when there was only one long sighting and a second spike in the mid 1940's. however, we can see that throughout the past 30 years there have been no major spikes (and even before the spikes were much less extreme). this can be attributed to the development of better means of documentation (in the absence of which, inventing accounts of alien invasions would have been easier) and also to better dissemination of information about events which account for strange sightings that might have been percieved as alien sightings."
   ]
  },
  {
   "cell_type": "code",
   "execution_count": null,
   "id": "b0712bbd",
   "metadata": {},
   "outputs": [],
   "source": [
    "averageDurationPerCountry()"
   ]
  },
  {
   "cell_type": "markdown",
   "id": "49f96e4b",
   "metadata": {},
   "source": [
    "### Locations\n",
    "\n",
    "[[back to the top]](#the-top)\n",
    "\n",
    "_We had a hard time with maps, so this analysis is kind of awkward, but we did put a lot of thought into it._"
   ]
  },
  {
   "cell_type": "code",
   "execution_count": null,
   "id": "c5b101f3",
   "metadata": {},
   "outputs": [],
   "source": [
    "data[COUNTRY].value_counts().plot.bar(logy=True);\n",
    "plt.xlabel(COUNTRY);\n",
    "plt.ylabel(COUNT);\n",
    "plt.title('Number of sightings for each country in this dataset (log y scale)');"
   ]
  },
  {
   "cell_type": "markdown",
   "id": "d7e39ba8",
   "metadata": {},
   "source": [
    "This dataset consists mainly of sightings from the US. It was scraped from the [NUFORC](http://www.nuforc.org/), which is an American organization with a website in English. Therefore non English speaking UFO sighters are probably not included in this dataset.\n",
    "\n",
    "From now on, we'll focus on US sightings."
   ]
  },
  {
   "cell_type": "code",
   "execution_count": null,
   "id": "c2ef0c6a",
   "metadata": {},
   "outputs": [],
   "source": [
    "data = pd.read_csv(UFO_FILE, low_memory=False)\n",
    "data.head()"
   ]
  },
  {
   "cell_type": "markdown",
   "id": "b2858f7d",
   "metadata": {},
   "source": [
    "and clean it up:"
   ]
  },
  {
   "cell_type": "code",
   "execution_count": null,
   "id": "e983418f",
   "metadata": {},
   "outputs": [],
   "source": [
    "# make comments readable (unescape html)\n",
    "data.loc[:, DESCRIPTION] = data[DESCRIPTION].apply(lambda val: html.unescape(str(val)))\n",
    "\n",
    "# parse datetime - fix 24h format first (24:xx --> 00:xx)\n",
    "# and insert time columns (year, month, day and hour)\n",
    "data.loc[:, DATETIME] = data[DATETIME].apply(lambda val: re.sub(*FIX_TIME_REGEX, str(val)))\n",
    "data.loc[:, DATETIME] = pd.to_datetime(data[DATETIME], format=DATE_FORMAT, errors='coerce')\n",
    "\n",
    "data.insert(1, YEAR, data[DATETIME].dt.year)\n",
    "data.loc[:, YEAR] = data[YEAR].fillna(0).astype(int)\n",
    "data.insert(2, MONTH, data[DATETIME].dt.month)\n",
    "data.loc[:, MONTH] = data[MONTH].fillna(0).astype(int)\n",
    "data.insert(3, HOUR, data[DATETIME].dt.hour)\n",
    "data.loc[:, HOUR] = data[HOUR].fillna(0).astype(int)\n",
    "\n",
    "# tidy up the rest of the textual columns\n",
    "data.loc[:, 'city'] = data['city'].str.title()\n",
    "for col in ['state', 'country']:\n",
    "    data.loc[:, col] = data[col].str.upper()\n",
    "\n",
    "# parse location data\n",
    "data[LAT] = pd.to_numeric(data[LAT], errors='coerce')\n",
    "data = data.rename(columns={'longitude ': LON})\n",
    "\n",
    "# drop the duration in hours column and rename the one with the seconds\n",
    "data = data.drop(DUR_HOURS, axis=1)\n",
    "data = data.rename(columns={DUR_SECONDS: DURATION})\n",
    "\n",
    "# get a list of all years with sightings\n",
    "years = np.unique(data[YEAR])\n",
    "\n",
    "# display the result\n",
    "data.head()"
   ]
  },
  {
   "cell_type": "markdown",
   "id": "a1578233",
   "metadata": {},
   "source": [
    "Done! Now for some stats on the file:"
   ]
  }
 ],
 "metadata": {},
 "nbformat": 4,
 "nbformat_minor": 5
}
