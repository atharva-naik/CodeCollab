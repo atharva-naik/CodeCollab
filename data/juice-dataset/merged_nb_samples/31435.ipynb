{
 "cells": [
  {
   "cell_type": "markdown",
   "id": "a6429457",
   "metadata": {},
   "source": [
    "# Pilot subject 06 example script\n",
    "\n",
    "## Data import and preprocessing"
   ]
  },
  {
   "cell_type": "code",
   "execution_count": null,
   "id": "a19c538a",
   "metadata": {},
   "outputs": [],
   "source": [
    "import mne\n",
    "from mne.preprocessing import ICA\n",
    "\n",
    "import os\n",
    "\n",
    "import numpy as np\n",
    "\n",
    "os.chdir('F:\\\\TBS_KB\\\\')"
   ]
  },
  {
   "cell_type": "markdown",
   "id": "195e2ec6",
   "metadata": {},
   "source": [
    "MNE provides a broad range of montage files, supporting the 10-05, 10-20 and EGI's geodesic elctrode positioning system as well as many different manufacturers' caps (EGI, biosemi, easycap).\n",
    "\n",
    "For this example, I want to show that the MNE info structure can be easily adapted with custom montages."
   ]
  },
  {
   "cell_type": "code",
   "execution_count": null,
   "id": "56f9b9a3",
   "metadata": {},
   "outputs": [],
   "source": [
    "fname = 'TMSKB0006.vhdr'\n",
    "kind = 'standard_1020'\n",
    "eog = ['VEOG', 'LHZ', 'RHZ']"
   ]
  },
  {
   "cell_type": "markdown",
   "id": "7b30dce3",
   "metadata": {},
   "source": [
    "When reading event codes they are stripped to their integer parts (S1 -> 1)."
   ]
  },
  {
   "cell_type": "code",
   "execution_count": null,
   "id": "bab1c88f",
   "metadata": {},
   "outputs": [],
   "source": [
    "montage = mne.channels.read_montage(kind=kind)\n",
    "raw = mne.io.read_raw_brainvision(fname, preload=True, montage=montage, eog=eog)"
   ]
  },
  {
   "cell_type": "markdown",
   "id": "4989c46d",
   "metadata": {},
   "source": [
    "Let's look at the raw data."
   ]
  },
  {
   "cell_type": "code",
   "execution_count": null,
   "id": "668bd621",
   "metadata": {},
   "outputs": [],
   "source": [
    "raw.plot(duration=20, n_channels=24, scalings=dict(eeg=100e-6));"
   ]
  },
  {
   "cell_type": "markdown",
   "id": "f2e54575",
   "metadata": {},
   "source": [
    "Before starting to preprocess the data, pick the channels to be filtered and refreferenced. Apply a bandpass filter (0.1, 30Hz) and rereference to the mean of the two mastoid positions."
   ]
  },
  {
   "cell_type": "code",
   "execution_count": null,
   "id": "0364a20a",
   "metadata": {},
   "outputs": [],
   "source": [
    "picks = mne.pick_types(raw.info, eeg=True)\n",
    "\n",
    "raw.filter(1, 20) \n",
    "raw.set_eeg_reference(ref_channels=['M1','M2'], projection=False)"
   ]
  },
  {
   "cell_type": "code",
   "execution_count": null,
   "id": "bce592c6",
   "metadata": {},
   "outputs": [],
   "source": [
    "raw.copy().plot_sensors(kind='3d', ch_groups='position', show_names=True);\n",
    "raw.copy().plot_sensors(kind='topomap', ch_groups='position', show_names=True);"
   ]
  },
  {
   "cell_type": "markdown",
   "id": "8f8f9372",
   "metadata": {},
   "source": [
    "Next, put together all arguments necessary for starting an Independent Component Analysis (ICA). For the purpose of this example, let's keep the parameters for reducing the amount of data samples (decim) and for detecting data segments which should be excluded (reject) at None."
   ]
  },
  {
   "cell_type": "code",
   "execution_count": null,
   "id": "9be9f06e",
   "metadata": {},
   "outputs": [],
   "source": [
    "n_components = 10  \n",
    "method = 'extended-infomax'\n",
    "decim = None\n",
    "reject = None\n",
    "\n",
    "ica = ICA(n_components=n_components, method=method)"
   ]
  },
  {
   "cell_type": "code",
   "execution_count": null,
   "id": "90105ac2",
   "metadata": {},
   "outputs": [],
   "source": [
    "ica.fit(raw, decim=decim, reject=reject)"
   ]
  },
  {
   "cell_type": "code",
   "execution_count": null,
   "id": "0c9ef385",
   "metadata": {},
   "outputs": [],
   "source": [
    "ica.plot_components(outlines=\"skirt\");"
   ]
  },
  {
   "cell_type": "markdown",
   "id": "bfebbb8b",
   "metadata": {},
   "source": [
    "For selecting artifact components we check the topographies, frequency spectra and temporal distribution of components. That takes a little bit of practice, but most artifact components are quite distinct and easy to spot."
   ]
  },
  {
   "cell_type": "code",
   "execution_count": null,
   "id": "bfa4cc30",
   "metadata": {},
   "outputs": [],
   "source": [
    "ica.plot_properties(raw, [5,7,9])"
   ]
  },
  {
   "cell_type": "markdown",
   "id": "1f8bbf74",
   "metadata": {},
   "source": [
    "But sometimes you want a more objective way of rating artifact components. So let's look at what automatic algorithms (based on channel activity) classify as artifacts."
   ]
  },
  {
   "cell_type": "code",
   "execution_count": null,
   "id": "67cfb248",
   "metadata": {},
   "outputs": [],
   "source": [
    "from scipy.stats import pearsonr\n",
    "\n",
    "corr = lambda x, y: np.array([pearsonr(a, y.ravel()) for a in x])[:, 0]\n",
    "\n",
    "# The find_sources method returns and array of correlation\n",
    "# scores for each ICA source.\n",
    "eog_scores = ica.score_sources(raw, target='VEOG', score_func=corr)\n",
    "\n",
    "# Get the component index of the maximum correlation with the ECG\n",
    "eog_source_idx = np.abs(eog_scores).argmax()\n",
    "\n",
    "# Mark the sources with the strongest correlations\n",
    "ica.plot_sources(raw, exclude=[eog_source_idx], picks=[0,1,2,3,4,5,6,7,8,9], start=100, stop=200);"
   ]
  },
  {
   "cell_type": "code",
   "execution_count": null,
   "id": "e477227c",
   "metadata": {},
   "outputs": [],
   "source": [
    "# Blinks\n",
    "bad_idxV, scoresV = ica.find_bads_eog(raw, 'VEOG', threshold=2)\n",
    "# Saccades\n",
    "bad_idxH, scoresH = ica.find_bads_eog(raw, 'LHZ', threshold=2)"
   ]
  },
  {
   "cell_type": "code",
   "execution_count": null,
   "id": "5a6b3e75",
   "metadata": {},
   "outputs": [],
   "source": [
    "ica.plot_scores(scoresV, title='ICA component scores, vertical (blinks)',\n",
    "                exclude=bad_idxV, # Mark the identified eog artifact components red\n",
    "                show=True, \n",
    "                axhline=[0.2, -0.2]); # Plot a horizontal line to mark a score threshold\n",
    "ica.plot_scores(scoresH, title='ICA component scores, horizontal (saccades)',\n",
    "                exclude=bad_idxH,\n",
    "                show=True, \n",
    "                axhline=[0.2, -0.2]);"
   ]
  },
  {
   "cell_type": "markdown",
   "id": "fc18417e",
   "metadata": {},
   "source": [
    "Here are some safe picks, which were consistently marked as possible artifacts by algorithms and by conventional visual inspection."
   ]
  },
  {
   "cell_type": "code",
   "execution_count": null,
   "id": "1624f27f",
   "metadata": {},
   "outputs": [],
   "source": [
    "ica.exclude = [0,2,3,5,7,9]"
   ]
  },
  {
   "cell_type": "markdown",
   "id": "f87d227b",
   "metadata": {},
   "source": [
    "Let's compare raw and corrected data ..."
   ]
  },
  {
   "cell_type": "code",
   "execution_count": null,
   "id": "6a13697d",
   "metadata": {},
   "outputs": [],
   "source": [
    "raw.plot(start=1000, duration=10);"
   ]
  },
  {
   "cell_type": "code",
   "execution_count": null,
   "id": "46c6bf89",
   "metadata": {},
   "outputs": [],
   "source": [
    "ica.apply(raw, exclude=ica.exclude).plot(start=1000, duration=10);"
   ]
  },
  {
   "cell_type": "markdown",
   "id": "19822a86",
   "metadata": {},
   "source": [
    "## Epoching\n",
    "\n",
    "Moving on to finding the EEG segments we want to analyze. Here, we first have to import the important information from the event file."
   ]
  },
  {
   "cell_type": "code",
   "execution_count": null,
   "id": "9d870dab",
   "metadata": {},
   "outputs": [],
   "source": [
    "event_id = {'reward_right': 7, 'reward_left': 9, 'no_reward_right': 6, 'no_reward_left': 8}\n",
    "events = mne.find_events(raw, shortest_event=0, initial_event=True)"
   ]
  },
  {
   "cell_type": "markdown",
   "id": "30d9ae8b",
   "metadata": {},
   "source": [
    "events is simply an array (time in samples, zero, trigger);"
   ]
  },
  {
   "cell_type": "code",
   "execution_count": null,
   "id": "c3051f31",
   "metadata": {},
   "outputs": [],
   "source": [
    "events[:10]"
   ]
  },
  {
   "cell_type": "markdown",
   "id": "00f49c8b",
   "metadata": {},
   "source": [
    "For a sanity check, let's look at the distribution of the first 100 events over time."
   ]
  },
  {
   "cell_type": "code",
   "execution_count": null,
   "id": "89c60b1f",
   "metadata": {},
   "outputs": [],
   "source": [
    "mne.viz.plot_events(events[:1000], sfreq=raw.info['sfreq'], event_id=event_id, show=True);"
   ]
  },
  {
   "cell_type": "code",
   "execution_count": null,
   "id": "ab238d65",
   "metadata": {},
   "outputs": [],
   "source": [
    "tmin, tmax = -0.2, 0.8\n",
    "baseline = -0.2, -0.1\n",
    "epochs_evoked = mne.Epochs(raw, events=events, event_id=event_id, picks=picks,\n",
    "                           tmin=tmin, tmax=tmax, baseline=baseline)\n",
    "epochs_tfr = mne.Epochs(raw, events=events, event_id=event_id, picks=picks,\n",
    "                        tmin=-0.5, tmax=1.5, baseline=None)"
   ]
  },
  {
   "cell_type": "markdown",
   "id": "f4364a06",
   "metadata": {},
   "source": [
    "Now we can plot some data."
   ]
  },
  {
   "cell_type": "code",
   "execution_count": null,
   "id": "99f0a71a",
   "metadata": {},
   "outputs": [],
   "source": [
    "epochs_evoked['reward_right', 'reward_left'].plot_psd(fmin=0, fmax=60);\n",
    "epochs_evoked['no_reward_right', 'no_reward_left'].plot_psd(fmin=0, fmax=60);"
   ]
  },
  {
   "cell_type": "code",
   "execution_count": null,
   "id": "2e093a2c",
   "metadata": {},
   "outputs": [],
   "source": [
    "epochs_evoked['reward_right', 'reward_left'].plot_image(picks=[7]);\n",
    "epochs_evoked['no_reward_right', 'no_reward_left'].plot_image(picks=[7]);"
   ]
  },
  {
   "cell_type": "code",
   "execution_count": null,
   "id": "1ce2a4c0",
   "metadata": {},
   "outputs": [],
   "source": [
    "reward = epochs_evoked['reward_left','reward_right'].average()\n",
    "noreward = epochs_evoked['no_reward_left','no_reward_right'].average()\n",
    "\n",
    "difference_feedback = mne.combine_evoked((reward,noreward),[1,-1])"
   ]
  },
  {
   "cell_type": "code",
   "execution_count": null,
   "id": "622f25c1",
   "metadata": {},
   "outputs": [],
   "source": [
    "colors = dict(Reward = 'darkblue', No_reward = 'darkred', \n",
    "              Difference_Wave = 'black')\n",
    "maze_dict = {'Reward': reward, 'No_reward': noreward, \n",
    "               'Difference_Wave': difference_feedback}\n",
    "\n",
    "linestyles = dict(Reward = '-', No_reward = '--', \n",
    "                  Difference_Wave = '-')\n",
    "\n",
    "ylim = dict(eeg=[-7,7])\n",
    "\n",
    "mne.viz.plot_compare_evokeds(maze_dict, picks=[7], \n",
    "                             truncate_yaxis=False, truncate_xaxis=False,\n",
    "                             colors=colors, linestyles=linestyles,\n",
    "                             invert_y=False, ylim = ylim,\n",
    "                             title='Feedback related responses',\n",
    "                             show_sensors=True);"
   ]
  },
  {
   "cell_type": "markdown",
   "id": "ca7dff0e",
   "metadata": {},
   "source": [
    "Perform a rough division of blocks based on trial counts."
   ]
  }
 ],
 "metadata": {},
 "nbformat": 4,
 "nbformat_minor": 5
}
