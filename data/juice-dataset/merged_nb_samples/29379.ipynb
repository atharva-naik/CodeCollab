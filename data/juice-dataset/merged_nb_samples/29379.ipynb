{
 "cells": [
  {
   "cell_type": "markdown",
   "id": "76529e12",
   "metadata": {},
   "source": [
    "# Molecular cloud mass functions\n",
    "\n",
    "Color choice: to emphasize link to Chabrier IMF, start from #3D8EDB.  Then use: https://www.w3schools.com/colors/colors_picker.asp to step around in HSV"
   ]
  },
  {
   "cell_type": "code",
   "execution_count": null,
   "id": "011c40b0",
   "metadata": {},
   "outputs": [],
   "source": [
    "from __future__ import division\n",
    "\n",
    "import numpy as np\n",
    "import matplotlib.pyplot as plt\n",
    "from astropy.table import Table\n",
    "\n",
    "%matplotlib inline"
   ]
  },
  {
   "cell_type": "markdown",
   "id": "7fc098ca",
   "metadata": {},
   "source": [
    "## Rice+ 2016, Sec 4.4 / Table 5\n",
    "\n",
    "The \"r\\_\" prefixes are ugly, but useful to allow quick comparison against Miville-Deschenes data.\n",
    "\n",
    "Sec 2.4.1: Rice+ using H2 masses from XCO, no correction for He and metals."
   ]
  },
  {
   "cell_type": "code",
   "execution_count": null,
   "id": "1f329541",
   "metadata": {},
   "outputs": [],
   "source": [
    "r_mass = np.logspace(4,7,num=100)\n",
    "r_cdf_outer = (r_mass/1.53e6)**(-2.17+1)  # Outer II+III power law\n",
    "r_cdf_inner = 11.19 * ((r_mass/1.02e7)**(-1.59+1) - 1)  # Inner I+IV truncated power law\n",
    "r_cdf_all = (r_mass/5.12e7)**(-1.89+1)  # All clouds\n",
    "r_cdf_all_trunc = 8.54 * ((r_mass/1.05e7)**(-1.72+1) - 1)  # All clouds"
   ]
  },
  {
   "cell_type": "code",
   "execution_count": null,
   "id": "980c4541",
   "metadata": {},
   "outputs": [],
   "source": [
    "plt.loglog(r_mass, r_cdf_outer, '--', label='Outer, II+III')\n",
    "plt.loglog(r_mass, r_cdf_inner, '--', label='Inner, I+IV')\n",
    "plt.loglog(r_mass, r_cdf_outer + r_cdf_inner, label='Outer + Inner')\n",
    "plt.loglog(r_mass, r_cdf_all, ':', label='All')\n",
    "plt.loglog(r_mass, r_cdf_all_trunc, ':', label='All trunc')\n",
    "\n",
    "plt.legend(loc='best', frameon=False)\n",
    "plt.xlim(1e4, 1e7)\n",
    "plt.ylim(ymin=0.8)\n",
    "plt.xlabel(r'Mass ($M_{\\odot}$)')\n",
    "plt.ylabel(r'Cumulative distr., $N(>M)$')\n",
    "plt.show()"
   ]
  },
  {
   "cell_type": "markdown",
   "id": "8b0fca79",
   "metadata": {},
   "source": [
    "Assume that mass sampled is not significantly affected by catalog filters (vLSR > 20 km/s, >20 deg. from l=0 and l=180).  The differential spectrum is just a power law:\n",
    "\n",
    "$$\n",
    "    \\frac{\\mathrm{d}N}{\\mathrm{d}M} = - \\frac{N_0}{M_0} (\\gamma+1) \\left(\\frac{M}{M_0}\\right)^\\gamma\n",
    "$$"
   ]
  },
  {
   "cell_type": "code",
   "execution_count": null,
   "id": "09815889",
   "metadata": {},
   "outputs": [],
   "source": [
    "r_mw_mass = 2.45e8  # Msun, estimated H2 mass of total catalog of 1039 clouds.\n",
    "rho_H2 = 1.9e7  # Msun / Mpc^3 from Obreschkow & Rawlings 2009, based on FCRAO survey\n",
    "\n",
    "# Use numbers from \"r_cdf_all_trunc\" fit\n",
    "N0 = 8.54\n",
    "M0 = 1.05e7\n",
    "gamma = -1.72\n",
    "r_df = -1 * N0/M0 * (gamma+1) * (r_mass/M0)**gamma\n",
    "r_dN_dMdV = r_df * rho_H2 / r_mw_mass"
   ]
  },
  {
   "cell_type": "code",
   "execution_count": null,
   "id": "122b1fe3",
   "metadata": {},
   "outputs": [],
   "source": [
    "plt.loglog(r_mass, r_dN_dMdV, label='Rice+ dN/dM/dV')\n",
    "plt.legend(frameon=False)\n",
    "plt.show()"
   ]
  },
  {
   "cell_type": "code",
   "execution_count": null,
   "id": "bf14bf23",
   "metadata": {},
   "outputs": [],
   "source": [
    "footerText='/GMCs (MW,dendr)/#3ddb8c/--/'\n",
    "np.savetxt('mcloudsMWdendr.txt', np.array([r_mass, r_dN_dMdV]).T,\n",
    "           fmt='%1.3e \\t',header='M (M_s) \\t dN/dMdV (M_s^-1 pc^-3)',footer=footerText)"
   ]
  },
  {
   "cell_type": "markdown",
   "id": "71fee436",
   "metadata": {},
   "source": [
    "## Miville-Deschenes\n",
    "\n",
    "Table doesn't parse well, so finagle Table read arguments.  See API at...\n",
    "http://docs.astropy.org/en/stable/api/astropy.table.Table.html#astropy.table.Table.read\n",
    "\n",
    "Section 3.1.3: they apply factor $\\mu = 1.36$ to account for He and metals, yielding estimates of total MC mass.\n",
    "I remove this factor to just show H2 mass."
   ]
  },
  {
   "cell_type": "code",
   "execution_count": null,
   "id": "ef58c57d",
   "metadata": {},
   "outputs": [],
   "source": [
    "#cols = ['Cloud', 'Ncomp', 'Npix', 'A', 'l', 'e_l', 'b', 'e_b', 'theta', 'WCO',\n",
    "#        'NH2', 'Sigma', 'vcent', 'sigmav', 'Rmax', 'Rmin', 'Rang', 'Rgal',\n",
    "#        'INF', 'Dn', 'Df', 'zn', 'zf', 'Sn', 'Sf', 'Rn', 'Rf', 'Mn', 'Mf']\n",
    "#units=['', '', '', 'deg2', 'deg', 'deg', 'deg', 'deg', 'deg',\n",
    "#       '', 'cm-2', 'solMass/pc2', 'km/s', 'km/s', 'deg', 'deg', 'deg', 'deg',\n",
    "#       '', 'kpc', 'kpc', 'kpc', 'kpc', 'pc2', 'pc2', 'pc', 'pc', 'solMass', 'solMass']\n",
    "\n",
    "md = Table.read('mclouds/apjaa4dfdt1_mrt.txt', format='ascii', data_start=45,\n",
    "                names=['Cloud', 'Ncomp', 'Npix', 'A', 'l', 'e_l', 'b', 'e_b', 'theta',\n",
    "                       'WCO', 'NH2', 'Sigma', 'vcent', 'sigmav', 'Rmax', 'Rmin', 'Rang', 'Rgal',\n",
    "                       'INF', 'Dn', 'Df', 'zn', 'zf', 'Sn', 'Sf', 'Rn', 'Rf', 'Mn', 'Mf'])"
   ]
  },
  {
   "cell_type": "markdown",
   "id": "3739431d",
   "metadata": {},
   "source": [
    "Extract correct cloud mass based on favored kinematic distance"
   ]
  },
  {
   "cell_type": "code",
   "execution_count": null,
   "id": "6ec5e08f",
   "metadata": {},
   "outputs": [],
   "source": [
    "md_masses = []\n",
    "for row in md:\n",
    "    if row['INF'] == 0:  # near kinematic distance\n",
    "        md_masses.append(row['Mn'])\n",
    "    elif row['INF'] == 1:  # far kinematic distance\n",
    "        md_masses.append(row['Mf'])\n",
    "    else:\n",
    "        raise Exception(\"Invalid INF value\")\n",
    "\n",
    "md_masses.sort()\n",
    "md_masses = np.array(md_masses) / 1.36  # Convert total MC mass to H2 mass\n",
    "\n",
    "md_cdf = np.arange(len(md_masses)-1, -1, -1)  # 8106,8105,...,0 for #clouds > current mass"
   ]
  },
  {
   "cell_type": "code",
   "execution_count": null,
   "id": "1cfb4c76",
   "metadata": {},
   "outputs": [],
   "source": [
    "plt.loglog(md_masses, md_cdf, label='M-D all data')\n",
    "plt.plot(r_mass, r_cdf_all_trunc*1.2/0.245, ':', label='Rice+ \"All trunc\" fit * 1.2/0.245')\n",
    "plt.xlim(1e2, 2e7)\n",
    "plt.ylim(1e0, 1e4)\n",
    "plt.xlabel(r'Mass ($M_{\\odot}$)')\n",
    "plt.ylabel(r'Cumulative distr., $N(>M)$')\n",
    "plt.legend()\n",
    "plt.show()"
   ]
  },
  {
   "cell_type": "markdown",
   "id": "7a752020",
   "metadata": {},
   "source": [
    "Use pyplot histogram to generate dN/dM"
   ]
  },
  {
   "cell_type": "code",
   "execution_count": null,
   "id": "022a24d7",
   "metadata": {},
   "outputs": [],
   "source": [
    "md_hist = plt.hist(md_masses, bins=np.logspace(2,7,30), alpha=0.5)\n",
    "plt.xscale('log')\n",
    "plt.yscale('log')\n",
    "\n",
    "num = md_hist[0]\n",
    "edges = md_hist[1]\n",
    "dlog10m = np.mean(np.log10(edges[1:]) - np.log10(edges[:-1]))\n",
    "ctrs = 10**( dlog10m/2 + np.log10(edges[:-1]) )\n",
    "\n",
    "plt.scatter(ctrs, num)\n",
    "plt.show()"
   ]
  },
  {
   "cell_type": "markdown",
   "id": "a952e9d7",
   "metadata": {},
   "source": [
    "To get dN/d(logM), normalize the logarithmic histogram values as:\n",
    "$$\n",
    "    \\frac{\\mathrm{d}N}{\\mathrm{d}\\log M} = \\frac{\\mathtt{hist}}{\\Delta (\\log M)}\n",
    "$$\n",
    "\n",
    "Then convert to dN/dM as:\n",
    "$$\n",
    "    \\frac{\\mathrm{d}N}{\\mathrm{d} M} = \\frac{\\mathrm{d}N}{\\mathrm{d}\\log M} \\frac{1}{\\ln 10} \\frac{1}{M}\n",
    "$$"
   ]
  },
  {
   "cell_type": "code",
   "execution_count": null,
   "id": "65a9e2aa",
   "metadata": {},
   "outputs": [],
   "source": [
    "# NOTE np.logspace is base 10, np.log is base e\n",
    "dN_dM = num / dlog10m / np.log(10) / ctrs\n",
    "plt.plot(ctrs, dN_dM, 'o-')\n",
    "plt.xscale('log')\n",
    "plt.yscale('log')\n",
    "plt.show()"
   ]
  },
  {
   "cell_type": "markdown",
   "id": "56977c01",
   "metadata": {},
   "source": [
    "Finally rescale to dN/dM/dV"
   ]
  },
  {
   "cell_type": "code",
   "execution_count": null,
   "id": "74936eb8",
   "metadata": {},
   "outputs": [],
   "source": [
    "md_mw_mass = 1.2e9  # Msun, estimated H2 mass (not MC mass!) of total catalog\n",
    "rho_H2 = 1.9e7  # Msun / Mpc^3 from Obreschkow & Rawlings 2009, based on FCRAO survey\n",
    "\n",
    "md_dN_dMdV = dN_dM * rho_H2 / md_mw_mass\n",
    "\n",
    "plt.loglog(ctrs, md_dN_dMdV, 'o')\n",
    "plt.loglog(r_mass, r_dN_dMdV)\n",
    "plt.show()"
   ]
  },
  {
   "cell_type": "markdown",
   "id": "2673a97b",
   "metadata": {},
   "source": [
    "Apply completeness filter: within 10 kpc, all clouds >10^4 Msun should be detected by Miville-Deschenes+.\n",
    "There are certainly smaller clouds not being detected.  Calculation using their eq (40) is:\n",
    "\n",
    "    3.5*1e6*5*(4.76e-6) * 10^2 = 8330\n",
    "\n",
    "which matches their Fig. 24."
   ]
  },
  {
   "cell_type": "code",
   "execution_count": null,
   "id": "af114a30",
   "metadata": {},
   "outputs": [],
   "source": [
    "footerText='/GMCs (MW,gauss)/#30e8e8/-/'\n",
    "np.savetxt('mcloudsMWgauss.txt', np.array([ctrs[ctrs>1e4], md_dN_dMdV[ctrs>1e4]]).T,\n",
    "           fmt='%1.3e \\t',header='M (M_s) \\t dN/dMdV (M_s^-1 pc^-3)',footer=footerText)"
   ]
  },
  {
   "cell_type": "markdown",
   "id": "f9b51ee9",
   "metadata": {},
   "source": [
    "UNUSED BRANCH: I tried spline interpolation to estimate the derivative $dN/dM$, but that proved unnecessary.\n",
    "However, it's a useful check that I did the histogram binning correctly."
   ]
  },
  {
   "cell_type": "code",
   "execution_count": null,
   "id": "0784f1ca",
   "metadata": {},
   "outputs": [],
   "source": [
    "from scipy import interpolate"
   ]
  },
  {
   "cell_type": "code",
   "execution_count": null,
   "id": "30a248ef",
   "metadata": {},
   "outputs": [],
   "source": [
    "md_cdf_spline = interpolate.UnivariateSpline(md_masses, md_cdf)\n",
    "md_df_spline = md_cdf_spline.derivative()"
   ]
  },
  {
   "cell_type": "markdown",
   "id": "38f961ff",
   "metadata": {},
   "source": [
    "Show that the smoothed spline describes the data well, and does not contain extra noise"
   ]
  },
  {
   "cell_type": "code",
   "execution_count": null,
   "id": "60466f68",
   "metadata": {},
   "outputs": [],
   "source": [
    "md_mass_samp = np.logspace(2,7,10000)\n",
    "plt.loglog(md_mass_samp, md_cdf_spline(md_mass_samp), label='spline')\n",
    "plt.loglog(md_masses, md_cdf, label='M-D all data')\n",
    "plt.legend()\n",
    "plt.show()"
   ]
  },
  {
   "cell_type": "markdown",
   "id": "5aeb9a03",
   "metadata": {},
   "source": [
    "The spline derivative is very noisy.  Probably easily fixed with a smoothing parameter, but no need."
   ]
  }
 ],
 "metadata": {},
 "nbformat": 4,
 "nbformat_minor": 5
}
