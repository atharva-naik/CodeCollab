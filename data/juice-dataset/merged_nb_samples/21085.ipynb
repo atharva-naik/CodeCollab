{
 "cells": [
  {
   "cell_type": "markdown",
   "id": "a36f9f51",
   "metadata": {},
   "source": [
    "# Toronto Community Health Profiling by Cluster Analysis #\n",
    "This is pilot data science portfolio to cluster neighborhoods within the City of Toronto using socio-economic-health indicators.\n",
    "The dataset was compiled and sourced from Ontario Community Health Profiles Partnership website. The page can be found here (http://www.ontariohealthprofiles.ca/).\n",
    "\n",
    "The dataset is a collection of indicators from multiple data sources to describe the Toronto community health profile at a  neighborhood level. These indicators are categorized by 10 different categories which include population, socio-demographic, language, marginalization index, primary care, emergency care, hospital admissions, adult health, prevention, injuries, palliative care and birth rate.\n",
    "\n",
    "**Problem Statement**: members of government agencies in Toronto Local Health Integration Network (TC LHIN), Minisitry of Health (MoH) and City of Toronto are interested in profiling the community health across Toronto at a neighborhood level. Basically, this will help them to establish the strategic plan for appropriate resource allocation (i.e., to reduce the potential gap between different social-income classes).\n",
    "\n",
    "**Potential Stakeholders**:\n",
    "* Members from Ministry of Health and Long-term Care (MoHLTC)\n",
    "* Members from Toronto Local Health Integration Network (TC LHIN)\n",
    "* Members from Public Health Ontario (PHO)\n",
    "* Members from City of Toronto\n",
    "\n",
    "**Goal**: to provide the community health comparison standards which are segemented at neighborhood level. Unlike hospital service providers (i.e., university teaching, pediatric, mental health), there is no clear peer group comparison standard established for community health service providers. Thus, we want to establish the community health profile segmenation across the City of Toronto.\n",
    "\n",
    "**Future Work**:\n",
    "* Collection of meaningful features - age group, education level, employment level, etc.\n",
    "* Other models: Gaussian Mixtures, K-Medioids, etc.\n",
    "* Other feature scalers: Log scaler, Min-Max scaler.\n",
    "\n",
    "**Recommendation for Clients**:\n",
    "\n",
    "1) Neighborhood identity & positioning strategy\n",
    "* Make the link between segmeneted neighborhood group association and household's behavior (income, health determinants)\n",
    "\n",
    "2) Marketing effectiveness\n",
    "* Assess the household's behaviors (i.e., service usage/visits) to identify the bottle neck\n",
    "* Optimize the resource planning investment on the most demand neighborhoods (i.e., poor, high hospital visits, etc.)\n",
    "\n",
    "3) Neighborhood Segmentation Framework - Evaluation\n",
    "* Evaluate the current vs. future state for peer group comparison at a neighborhood level\n",
    "* Identify area(s) that are not meeting the needs or demands (i.e., low income, high prevalence of chronic conditions, etc.)"
   ]
  },
  {
   "cell_type": "code",
   "execution_count": null,
   "id": "3abcbca0",
   "metadata": {},
   "outputs": [],
   "source": [
    "# Import all libraries:\n",
    "%matplotlib inline\n",
    "import numpy as np\n",
    "import pandas as pd\n",
    "import sklearn\n",
    "from sklearn.preprocessing import StandardScaler\n",
    "from sklearn.cluster import KMeans\n",
    "from sklearn.decomposition import PCA\n",
    "import matplotlib.pyplot as plt\n",
    "import seaborn as sns\n",
    "\n",
    "# Setup Seaborn:\n",
    "sns.set_style('whitegrid')\n",
    "#sns.set_context('poster')"
   ]
  },
  {
   "cell_type": "markdown",
   "id": "164f7b16",
   "metadata": {},
   "source": [
    "## Data Loading ##\n",
    "The dataset consists of information on various community health profile at a neighborhood level across Toronto area. The types of features include but not limited to 10 different types of indicator sources (i.e., population, socio-demographics, primary care, emergency care, adult health disease and etc.)."
   ]
  },
  {
   "cell_type": "code",
   "execution_count": null,
   "id": "282af289",
   "metadata": {},
   "outputs": [],
   "source": [
    "# Load training data: \n",
    "df = pd.read_excel('ochpp_train.xlsx', sheet_name='train')\n",
    "# Map column names to lowercases\n",
    "df.columns = map(str.lower, df.columns)\n",
    "\n",
    "# Check the dataframe: n_observations, data types, missing values\n",
    "df.info()"
   ]
  },
  {
   "cell_type": "code",
   "execution_count": null,
   "id": "74489159",
   "metadata": {},
   "outputs": [],
   "source": [
    "# Check the dataframe observations:\n",
    "df.head()"
   ]
  },
  {
   "cell_type": "markdown",
   "id": "43331d89",
   "metadata": {},
   "source": [
    "# Feature Transformation #\n",
    "**Feature encoding** is a process where features are encoded into right data format. Oridinal feature encoding will be applied on the likert scale measures which contains information about \"order/magnitude\" such as likelihood (i.e., score, level, etc.). \n",
    "\n",
    "**Stratification** is a process where numerical features get divided into group based on the specified range(s). "
   ]
  },
  {
   "cell_type": "code",
   "execution_count": null,
   "id": "407cbc9c",
   "metadata": {},
   "outputs": [],
   "source": [
    "# Ordinal Feature Encoding #\n",
    "# Define the likert scale of ON Marginalization Index Features: avg_instability_scale, ... , avg_ethnic_scale\n",
    "instability_map = {1: '1-least instable', 2: '2-little instable', \n",
    "                   3: '3-neutral instable', 4: '4-somewhat instable', 5: '5-most instable'}\n",
    "deprivation_map = {1: '1-least deprived', 2: '2-little deprived', \n",
    "                   3: '3-neutral deprived', 4: '4-somewhat deprived', 5: '5-most deprived'}\n",
    "dependency_map = {1: '1-least dependent', 2: '2-little dependent', \n",
    "                   3: '3-neutral dependent', 4: '4-somewhat dependent', 5: '5-most dependent'}\n",
    "ethnic_map = {1: '1-least ethnic concentrated', 2: '2-little ethnic concentrated', \n",
    "                   3: '3-neutral ethnic concentrated', 4: '4-somewhat ethnic concentrated', 5: '5-most ethnic concentrated'}\n",
    "\n",
    "# Encode features with each map:\n",
    "df['instability_status'] = df['mi_instability_scale'].map(instability_map)\n",
    "df['deprivation_status'] = df['mi_deprivation_scale'].map(deprivation_map)\n",
    "df['dependency_status'] = df['mi_dependency_scale'].map(dependency_map)\n",
    "df['ethnic_status'] = df['mi_ethnic_scale'].map(ethnic_map)\n",
    "\n",
    "# Check the encoding:\n",
    "print(df['instability_status'].head())"
   ]
  },
  {
   "cell_type": "code",
   "execution_count": null,
   "id": "ad6fde97",
   "metadata": {},
   "outputs": [],
   "source": [
    "# Stratification #\n",
    "## income_bins = [50000, 60000, 70000, 80000, 90000, 100000, 110000, 120000, 130000]\n",
    "## df['inc_avg_group'] = pd.cut(np.array(df['inc_avg_income']), bins=income_bins)\n",
    "## print(df['inc_avg_group'].head())\n",
    "\n",
    "\n",
    "# Define the bin size for grouping continuous measures:\n",
    "# income_grp_bins = [54903, 78881, 102858, 126836]\n",
    "lico_at_grp_bins = [0.0431, 0.1502, 0.2574, 0.3645]\n",
    "ed_visits_grp_bins = [408, 677, 946, 1215]\n",
    "alc_rate_grp_bins = [6, 14, 21, 28]\n",
    "hosp_rate_grp_bins = [97, 129, 160, 191]\n",
    "injury_rate_grp_bins = [13, 19, 25, 31]\n",
    "birth_rate_grp_bins = [16, 29, 42, 55]\n",
    "chronic_4_cond_rate_grp_bins = [9, 19, 28, 37]\n",
    "\n",
    "# Generate ordinal categorical features with assigned label:\n",
    "df['lico_at_grp_label'] = pd.cut(np.array(df['inc_pct_lico_at']), bins=lico_at_grp_bins, \n",
    "                                  labels=['Wealthy', 'Neutral', 'Poor'])\n",
    "df['ed_visits_grp_label'] = pd.cut(np.array(df['health_unsch_ed_visits_rate_1k']), bins=ed_visits_grp_bins, \n",
    "                                  labels=['Low', 'Medium', 'High'])\n",
    "df['alc_rate_grp_label'] = pd.cut(np.array(df['health_alc_rate_100']), bins=alc_rate_grp_bins, \n",
    "                                  labels=['Low', 'Medium', 'High'])\n",
    "df['hosp_rate_grp_label'] = pd.cut(np.array(df['health_hosp_rate_1k']), bins=hosp_rate_grp_bins, \n",
    "                                  labels=['Low', 'Medium', 'High'])\n",
    "df['injury_rate_grp_label'] = pd.cut(np.array(df['health_injury_rate_100']), bins=injury_rate_grp_bins, \n",
    "                                  labels=['Low', 'Medium', 'High'])\n",
    "df['birth_rate_grp_label'] = pd.cut(np.array(df['demo_birth_rate_1k']), bins=birth_rate_grp_bins, \n",
    "                                  labels=['Low', 'Medium', 'High'])\n",
    "df['chronic_4_cond_rate_grp_label'] = pd.cut(np.array(df['health_4_chronic_cond_rate_1k']), bins=chronic_4_cond_rate_grp_bins, \n",
    "                                  labels=['Low', 'Medium', 'High'])\n",
    "\n",
    "# Check newly generated features:\n",
    "print(df['lico_at_grp_label'].head())\n",
    "print(df['ed_visits_grp_label'].head())"
   ]
  },
  {
   "cell_type": "markdown",
   "id": "268b1bbb",
   "metadata": {},
   "source": [
    "## Data Wrangling ##\n",
    "In order to feed the existing data into the K-Means clustering, we are going to transform the dataframe into a table matrix.\n",
    "This table matrix contains the number of features for each neighborhood in Toronto."
   ]
  },
  {
   "cell_type": "code",
   "execution_count": null,
   "id": "b2c5f9b5",
   "metadata": {},
   "outputs": [],
   "source": [
    "# Plot bar charts on and cluster labels:\n",
    "plot_bar_chart('hosp_rate_grp_label','label', df_review, \n",
    "               'Hospital Admission Rate Groups by Neighborhoods in Toronto', 'Hospital Admission Level')"
   ]
  },
  {
   "cell_type": "markdown",
   "id": "e2db01dc",
   "metadata": {},
   "source": [
    "**Bar Chart Interpreation: hospital admission rate per 1000 groups**\n",
    "* Neighborhood group with label 0 has lower counts of hospital admissions across all hospital admission levels.\n",
    "* Neighborhood group with label 1 has the highest count of high and medium hospital admissions among 3 labels.\n",
    "* Neighborhood group with label 2 has the highest count of low hospital admissions among 3 group labels."
   ]
  },
  {
   "cell_type": "code",
   "execution_count": null,
   "id": "224574b0",
   "metadata": {},
   "outputs": [],
   "source": [
    "# Plot bar charts on and cluster labels:\n",
    "plot_bar_chart('alc_rate_grp_label','label', df_review, \n",
    "               'ALC Rate Groups by Neighborhoods in Toronto', 'ALC Rate Level')"
   ]
  },
  {
   "cell_type": "markdown",
   "id": "2b8f2cfd",
   "metadata": {},
   "source": [
    "**Bar Chart Interpreation: Alternative Level of Care rate per 100 groups**\n",
    "* Neighborhood group with label 0 has the highest count of medium ALC rate across the 3 different ALC rate levels.\n",
    "* Neighborhood group with label 1 has the highest count of low ALC rate across the 3 different ALC rate levels.\n",
    "* Neighborhood group with label 1 has the highest count of high ALC rate among 3 neighborhood groups.\n",
    "* Neighborhood group with label 2 has the highest count of low ALC rate followed by medium and high."
   ]
  },
  {
   "cell_type": "code",
   "execution_count": null,
   "id": "4243feae",
   "metadata": {},
   "outputs": [],
   "source": [
    "# Plot bar charts on and cluster labels:\n",
    "plot_bar_chart('injury_rate_grp_label','label', df_review, \n",
    "               'Injury Rate Groups by Neighborhoods in Toronto', 'Injury Rate Level')"
   ]
  },
  {
   "cell_type": "markdown",
   "id": "b79c38e5",
   "metadata": {},
   "source": [
    "**Bar Chart Interpreation: Injury rate per 100 groups**\n",
    "* Low injury rate: counts of neighborhood group label 0 < 2 < 1 --> [group 1]\n",
    "* Medium injury rate: counts of neighborhood group label 0 < 2 < 1 --> [group 1]\n",
    "* High injury rate: counts of neighborhood group label 1 < 2 < 0 --> [group 0]"
   ]
  },
  {
   "cell_type": "code",
   "execution_count": null,
   "id": "206bd64a",
   "metadata": {},
   "outputs": [],
   "source": [
    "# Plot bar charts on and cluster labels:\n",
    "plot_bar_chart('birth_rate_grp_label','label', df_review, \n",
    "               'Birth Rate Groups by Neighborhoods in Toronto', 'Birth Rate Level')"
   ]
  },
  {
   "cell_type": "markdown",
   "id": "bb1e0bf5",
   "metadata": {},
   "source": [
    "**Bar Chart Interpreation: Birth rate per 1000, women aged 15-49 groups**\n",
    "* Low birth rate: counts of neighborhood group label 0 < 1 < 2 --> [group 2] \n",
    "* Medium birth rate: counts of neighborhood group label 0 < 2 < 1 --> [group 1] \n",
    "* High birth rate: counts of neighborhood group label 2 < 0 < 1 --> [group 1] "
   ]
  },
  {
   "cell_type": "code",
   "execution_count": null,
   "id": "44ef7dd8",
   "metadata": {},
   "outputs": [],
   "source": [
    "# Plot bar charts on  and cluster labels:\n",
    "plot_bar_chart('chronic_4_cond_rate_grp_label','label', df_review, \n",
    "               'Prevalence of having x>4 chronic conditions rate by neighborhoods in Toronto', 'Chronic Conditions Level')"
   ]
  },
  {
   "cell_type": "markdown",
   "id": "3f38ae01",
   "metadata": {},
   "source": [
    "**Bar Chart Interpreation: prevalence of having more than 4 chronic conditions rate per 1000**\n",
    "* Neighborhood group with label 1 has the highest count for medium prevalence of having more than 4 chronic conditions across different chronic condition levels [somewhat unhealthy].\n",
    "* Neighborhood group with label 2 has the highest count for low prevalence of having more than 4 chronic conditions across different chronic condition levels [healthy].\n",
    "* Neighborhood group with label 0 has the highest count for medium prevalence of having more than 4 chronic conditions across different chronic condition levels [somewhat unhealthy]."
   ]
  },
  {
   "cell_type": "code",
   "execution_count": null,
   "id": "9d516850",
   "metadata": {},
   "outputs": [],
   "source": [
    "# Plot bar charts on residential instability and cluster labels:\n",
    "plot_bar_chart_order('instability_status','label', df_review, 'Residential Instability by Neighborhoods in Toronto',\n",
    "                     'Residential Instability Status', order=['1-least instable', '2-little instable',\n",
    "                     '3-neutral instable', '4-somewhat instable', '5-most instable'])\n",
    "plt.show()"
   ]
  },
  {
   "cell_type": "markdown",
   "id": "269af547",
   "metadata": {},
   "source": [
    "**Bar Chart Interpreation: residential instability groups in Toronto**\n",
    "* Neighborhood group label 0 represents areas where people most likely to experience family or housing instability problems.\n",
    "* Neighborhood groups with label 1 and 2 represent areas where people least likely to experience family or housing instability problems."
   ]
  },
  {
   "cell_type": "code",
   "execution_count": null,
   "id": "24682dfc",
   "metadata": {},
   "outputs": [],
   "source": [
    "# Plot bar charts on material deprivation and cluster labels:\n",
    "plot_bar_chart_order('deprivation_status','label', df_review, 'Material Deprivation by Neighborhoods in Toronto',\n",
    "                     'Material Deprivation Status', order=['1-least deprived', '2-little deprived',\n",
    "                     '3-neutral deprived','4-somewhat deprived','5-most deprived'])\n",
    "plt.show()"
   ]
  },
  {
   "cell_type": "markdown",
   "id": "0843a9a5",
   "metadata": {},
   "source": [
    "**Bar Chart Interpreation: material deprivation groups in Toronto**\n",
    "* Neighborhood groups with label 0 represent areas where people experience neutral poverty (inability to access basic needs: food, income and education).\n",
    "* Neighborhood groups with label 1 represent areas where people most likely to experience poverty (inability to access basic needs: food, income and education).\n",
    "* Neighborhood groups with label 2 represent areas where people least likely to experience poverty (inability to access basic needs: food, income and education)."
   ]
  },
  {
   "cell_type": "code",
   "execution_count": null,
   "id": "0d6d6549",
   "metadata": {},
   "outputs": [],
   "source": [
    "# Plot bar charts on dependency and cluster labels:\n",
    "plot_bar_chart_order('dependency_status','label', df_review, 'Dependency by Neighborhoods in Toronto', \n",
    "                     'Dependency Status', order=['1-least dependent', '2-little dependent','3-neutral dependent',\n",
    "                     '4-somewhat dependent', '5-most dependent'])\n",
    "plt.show()"
   ]
  },
  {
   "cell_type": "markdown",
   "id": "0bd7f7f2",
   "metadata": {},
   "source": [
    "**Bar Chart Interpreation: dependency groups in Toronto**\n",
    "* Neighborhood group with label 0 account for areas where people being the least dependent on subsidies (i.e., do not have income from employment).\n",
    "* Neighborhood group with label 1 account for areas where people being the most dependent on subsidies (i.e., do not have income from employment).\n",
    "* Neighborhood group with label 2 account for areas where people being somewhat dependent on subsidies (i.e., do not have income from employment)."
   ]
  },
  {
   "cell_type": "code",
   "execution_count": null,
   "id": "1d5102e8",
   "metadata": {},
   "outputs": [],
   "source": [
    "# Plot bar charts on ethnic concentration and cluster labels:\n",
    "plot_bar_chart_order('ethnic_status','label', df_review, 'Ethnic Concentration Degree by Neighborhoods in Toronto',\n",
    "                     'Ethnic Concentration Degree', order=['1-least ethnic concentrated', '2-little ethnic concentrated',\n",
    "                     '3-neutral ethnic concentrated','4-somewhat ethnic concentrated', '5-most ethnic concentrated'])\n",
    "plt.show()"
   ]
  },
  {
   "cell_type": "markdown",
   "id": "31cb3fb6",
   "metadata": {},
   "source": [
    "**Bar Chart Interpreation: ethnic concentration status in Toronto**\n",
    "* Neighborhood group label 0 represents areas where little to medium degree of immigrants or people belonging to a 'visible minority' group live.\n",
    "* Neighborhood group label 1 represents areas where the most immigrants or people belonging to a 'visible minority' group live.\n",
    "* Neighborhood group label 2 represents areas where the least immigrants or people belonging to a 'visible minority' group live."
   ]
  },
  {
   "cell_type": "code",
   "execution_count": null,
   "id": "71a92fab",
   "metadata": {},
   "outputs": [],
   "source": [
    "## Data Wrangling ##\n",
    "# Copy a dataframe:\n",
    "df_copy = df.copy()\n",
    "\n",
    "# Drop unnecessary columns: avoid generating irrelevant dummy variables #\n",
    "df_copy = df.drop(['nh_name','ward_name','ward_id','instability_status','deprivation_status',\n",
    "                   'dependency_status','ethnic_status','lico_at_grp_label','ed_visits_grp_label',\n",
    "                   'alc_rate_grp_label','hosp_rate_grp_label','injury_rate_grp_label',\n",
    "                   'birth_rate_grp_label','chronic_4_cond_rate_grp_label'], axis=1)\n",
    "\n",
    "# Create a new dataframe with dummy variables:\n",
    "df_new = pd.get_dummies(df_copy, drop_first=True)\n",
    "\n",
    "# Set index: nh_id\n",
    "df_new = df_new.set_index('nh_id')\n",
    "\n",
    "# Print the new dataframe:\n",
    "df_new.head()"
   ]
  },
  {
   "cell_type": "markdown",
   "id": "0018cc6d",
   "metadata": {},
   "source": [
    "## Exploratory Data Analysis ##"
   ]
  },
  {
   "cell_type": "code",
   "execution_count": null,
   "id": "fa33d9d1",
   "metadata": {},
   "outputs": [],
   "source": [
    "# Create a separate dataframe for EDA:\n",
    "df_EDA = df_new[['demo_pct_males', 'demo_pct_females', 'demo_pct_eng_speakers', \n",
    "              'demo_pct_other_lang_speakers', 'inc_pct_lico_at', 'inc_pct_econ_no_child',\n",
    "              'inc_pct_econ_w_child', 'inc_pct_lone_parents', \n",
    "              'health_pct_enrolled', 'health_pct_low_continuity', \n",
    "              'health_pct_high_continuity', 'prev_pct_mammogram', 'prev_pct_paptest',\n",
    "              'prev_pct_colorectal', 'prev_pct_colonoscopy', 'prev_pct_fobt',\n",
    "              'inc_avg_fam_size', 'mi_instability_score', 'mi_deprivation_score',\n",
    "              'mi_dependency_score', 'mi_ethnic_score', 'health_unsch_ed_visits_rate_1k',\n",
    "              'health_mh_ed_visits_rate_1k', 'health_alc_rate_100', 'health_hosp_rate_1k',\n",
    "              'health_injury_rate_100', 'health_pc_mortality_rate_100', 'demo_birth_rate_1k',\n",
    "              'health_4_chronic_cond_rate_1k', 'health_diabetes_rate_100', 'health_asthma_rate_100',\n",
    "              'health_hbp_rate_100', 'health_mh_rate_100', 'health_copd_rate_100']].copy()\n",
    "\n",
    "# Feature Scaling: multiply by 100 on percent features\n",
    "# idx: 0:15\n",
    "df_EDA.iloc[:, 0:15] = df_EDA.iloc[:, 0:15] * 100\n",
    "\n",
    "# Compute Summary Statistics #\n",
    "df_stat = df_EDA.describe().T\n",
    "\n",
    "# Re-order columns:\n",
    "df_stat = df_stat[['count','std','min','mean','max','25%','50%','75%']]\n",
    "# Let's look at features of interest (F.O.I): income, ED visits, birth rate, etc.\n",
    "df_stat"
   ]
  },
  {
   "cell_type": "markdown",
   "id": "45a4f75a",
   "metadata": {},
   "source": [
    "### Correlation Matrix: Toronto Neighborhood Indicators ###"
   ]
  },
  {
   "cell_type": "code",
   "execution_count": null,
   "id": "afd4826a",
   "metadata": {},
   "outputs": [],
   "source": [
    "# Correlation Matrix Plot # entire dataset\n",
    "###############################################################################\n",
    "# List numerical column names only:\n",
    "cols =['demo_pct_males', 'inc_pct_lico_at', 'inc_avg_fam_size', 'demo_pct_other_lang_speakers',\n",
    "'mi_instability_score', 'mi_deprivation_score', 'mi_dependency_score', 'mi_ethnic_score',\n",
    "'health_pct_high_continuity', 'health_unsch_ed_visits_rate_1k', 'prev_pct_mammogram',\n",
    "'prev_pct_colorectal', 'health_alc_rate_100', 'health_hosp_rate_1k', 'health_injury_rate_100',\n",
    "'health_pc_mortality_rate_100', 'demo_birth_rate_1k','health_4_chronic_cond_rate_1k']\n",
    "\n",
    "# Create a correlation matrix:\n",
    "cm = df_EDA[cols].corr()\n",
    "\n",
    "# Create a mask to filter correlation matrix: diagonally\n",
    "mask = np.zeros_like(cm, dtype=np.bool)\n",
    "mask[np.triu_indices_from(mask)] = True\n",
    "\n",
    "# Plot correlation matrix heatmap\n",
    "f,ax = plt.subplots(figsize=(10,10))\n",
    "cmap = sns.diverging_palette(220,10,as_cmap=True)\n",
    "sns.set(font_scale=1.1)\n",
    "sns.heatmap(cm, mask=mask, cmap=cmap, fmt='.2f', center=0,\n",
    "           annot=True, square=True, linewidth=.5,\n",
    "           annot_kws={'size':10.5}, cbar_kws={'shrink':.6})\n",
    "plt.xticks(rotation=90, fontsize=13)\n",
    "plt.yticks(rotation=0, fontsize=13)\n",
    "plt.title('Socio-Economic-Health Indicators Correlation Matrix in Toronto', fontsize=14)\n",
    "plt.show()"
   ]
  },
  {
   "cell_type": "code",
   "execution_count": null,
   "id": "20d326ea",
   "metadata": {},
   "outputs": [],
   "source": [
    "# Filter the correlation matrix where Pearson's r > 0.6:\n",
    "for x in cm.columns:\n",
    "    for y in cm.columns:\n",
    "        if x < y and cm[x][y] > abs(0.6):\n",
    "            print(x, y, cm[x][y])"
   ]
  },
  {
   "cell_type": "code",
   "execution_count": null,
   "id": "a33a7aa5",
   "metadata": {},
   "outputs": [],
   "source": [
    "# Feature Scaling: Standardization\n",
    "# Step 1: take the numpy matrix of feature(s) as X_cols: values within each column represent the feature.\n",
    "X_cols = df_new.values\n",
    "\n",
    "# Step 2: let's apply the feature scaling to standardize the range of values\n",
    "sc_X = StandardScaler()\n",
    "X_cols_std = sc_X.fit_transform(X_cols)\n",
    "\n",
    "# Make a dataframe:\n",
    "df_new_std = pd.DataFrame(X_cols_std, columns=df_new.columns)\n",
    "df_new_std.head()"
   ]
  },
  {
   "cell_type": "markdown",
   "id": "8822c947",
   "metadata": {},
   "source": [
    "### Uni-variate Analysis: Histogram ###"
   ]
  },
  {
   "cell_type": "code",
   "execution_count": null,
   "id": "af32b182",
   "metadata": {},
   "outputs": [],
   "source": [
    "# Write a function: to plot a histogram with two subplots\n",
    "def plot_hist(x1,lab1,c1,x2,lab2,c2,bins):\n",
    "    f, (ax1, ax2) = plt.subplots(1,2, figsize=(10,5))\n",
    "    plt.subplots_adjust(hspace=0.9, wspace=0.5)\n",
    "    # Subplot 1: normal scale\n",
    "    ax1.hist(df_EDA[x1], bins=bins, color=c1)\n",
    "    ax1.set_xlabel(lab1)\n",
    "    ax1.set_ylabel('Number of Neighborhoods')\n",
    "    ax1.set_title(lab1)\n",
    "    # Subplot 2: standardized scaled\n",
    "    ax2.hist(df_EDA[x2], bins=bins, color=c2)\n",
    "    ax2.set_xlabel(lab2)\n",
    "    ax2.set_ylabel('Number of Neighborhoods')\n",
    "    ax2.set_title(lab2)"
   ]
  },
  {
   "cell_type": "code",
   "execution_count": null,
   "id": "c62c3ec7",
   "metadata": {},
   "outputs": [],
   "source": [
    "# Histogram Analyses: demographic indicators\n",
    "plot_hist('demo_pct_males','% Males','green',\n",
    "          'demo_pct_females','% Females','red',25)\n",
    "plt.show()\n",
    "\n",
    "plot_hist('demo_pct_eng_speakers','% ENG Speakers','purple',\n",
    "          'demo_pct_other_lang_speakers','% Other Lang Speakers','blue',25)\n",
    "plt.show()"
   ]
  },
  {
   "cell_type": "markdown",
   "id": "18cfa815",
   "metadata": {},
   "source": [
    "#### Summary: Demographic Indicators ####\n",
    "1. Male: distribution is skewed to right. Majority of neighbors have male more than 47.5%.\n",
    "2. Female: distribution is skewed to left. Majority of neighbors have female more than 51%.\n",
    "3. English Speakers: non-normal distribution. Majority of neighbors have English speakers more than 70%.\n",
    "4. Other Language Speakers: non-normal distribution. Majority of neighbors have non English speakers more than 30%."
   ]
  },
  {
   "cell_type": "code",
   "execution_count": null,
   "id": "811ee8ce",
   "metadata": {},
   "outputs": [],
   "source": [
    "# Histogram Analyses: socio-economic indicators\n",
    "plot_hist('inc_pct_lico_at','% Low Income Cut-off','green',\n",
    "          'inc_pct_lone_parents','% Lone Parents','red',25)\n",
    "plt.show()\n",
    "\n",
    "plot_hist('inc_pct_econ_no_child','% Econ Families without Child','purple',\n",
    "          'inc_pct_econ_w_child','% Econ Families with Child','blue',25)\n",
    "plt.show()"
   ]
  },
  {
   "cell_type": "markdown",
   "id": "fa48b353",
   "metadata": {},
   "source": [
    "#### Summary: Socio-Economic Income Indicators ####\n",
    "1. Low Income Cut-off: distribution is close to normal. Majority of neighbors have cut-off at 17%.\n",
    "2. Lone Parents: distribution is skewed to right. Majority of neighbors have lone parents around 20%.\n",
    "3. Families without child: distribution is skewed to right. Majority of neighbors have no children at 30%.\n",
    "4. Families with child: non-normal distribution. Majority of neighbors have children at 45%."
   ]
  },
  {
   "cell_type": "code",
   "execution_count": null,
   "id": "bd209d4c",
   "metadata": {},
   "outputs": [],
   "source": [
    "# Histogram Analyses: marginalization index indicators\n",
    "plot_hist('mi_instability_score','Avg. Residential Instability Score','green',\n",
    "          'mi_deprivation_score','Avg. Material Deprivation Score','red',25)\n",
    "plt.show()\n",
    "\n",
    "plot_hist('mi_dependency_score','Avg. Material Dependency Score','purple',\n",
    "          'mi_ethnic_score','Avg. Ethnic Score','blue',25)\n",
    "plt.show()"
   ]
  },
  {
   "cell_type": "markdown",
   "id": "c0f76aed",
   "metadata": {},
   "source": [
    "#### Summary: Marginalization Index Indicators ####\n",
    "1. Residential Instability: distribution is skewed to right. Majority of neighbors have instability score at 0.7 (middle).\n",
    "2. Material Deprivation: distribution is skewed to right. Majority of neighbors have deprivation score at 0.25 (low end).\n",
    "3. Material Dependency: distribution is skewed to right. Majority of neighbors have dependency score at -0.25 (middle).\n",
    "4. Ethnicity: non-normal distribution. Majority of neighbors have ethnicity score at 1 (middle)."
   ]
  },
  {
   "cell_type": "code",
   "execution_count": null,
   "id": "805d686d",
   "metadata": {},
   "outputs": [],
   "source": [
    "# Histogram Analyses: health & prevention indicators\n",
    "plot_hist('health_pct_low_continuity','% Low continuity visits','green',\n",
    "          'health_pct_high_continuity','% High continuity visits','red',25)\n",
    "plt.show()\n",
    "\n",
    "plot_hist('prev_pct_mammogram','% Mammogram Scanning','purple',\n",
    "          'prev_pct_colorectal','% Colorectal Screening','blue',25)\n",
    "plt.show()"
   ]
  },
  {
   "cell_type": "markdown",
   "id": "aef176c3",
   "metadata": {},
   "source": [
    "#### Summary: Health Prevention/Screening Indicators ####\n",
    "1. Low continuity visits: approximated normal distribution. Majority of neighbors have low continuity visits to Community Health Centre at 30%.\n",
    "2. High continuity visits: approximated normal distribution. Majority of neighbors have high continuity visits to Community Health Centre at 50%.\n",
    "3. Mammogram scanning: distribution is skewed to left. Majority of neighbors have mammogram scanning at 60%.\n",
    "4. Colorectal screening: distribution is skewed to right. Majority of neighbors have colorectal screening at 60%."
   ]
  },
  {
   "cell_type": "markdown",
   "id": "8c2d4981",
   "metadata": {},
   "source": [
    "#### Summary: Health Indicators Group Rate 2 ####\n",
    "1. More than 4 chronic conditions rate per 1k: approximated normal distribution. Majority of neighbors have rate at 19.\n",
    "2. Diabetes rate per 100: non-normal distribution. Majority of neighbors have diabetes rate at 13.\n",
    "3. High blood pressure rate per 100: distribution is skewed to left. Majority of neighbors have mortality rate at 26.\n",
    "4. Mental health/addiction rate per 1k: distribution is skewed to left. Majority of neighbors have birth rate at 9."
   ]
  },
  {
   "cell_type": "markdown",
   "id": "864bf155",
   "metadata": {},
   "source": [
    "## K-Means Clustering ##"
   ]
  },
  {
   "cell_type": "code",
   "execution_count": null,
   "id": "7bad4396",
   "metadata": {},
   "outputs": [],
   "source": [
    "# Print the standardized table matrix:\n",
    "print(X_cols_std)\n",
    "\n",
    "# Apply the K-Means cluster:\n",
    "wcss=[]\n",
    "for i in range(2,11):\n",
    "    km = KMeans(n_clusters=i, init='k-means++', max_iter=300, n_init=10, random_state=0)\n",
    "    km.fit(X_cols_std)\n",
    "    wcss.append(km.inertia_)\n",
    "    \n",
    "# Construct the Elbow method plot:\n",
    "plt.figure(figsize=(10,7))\n",
    "plt.subplot(1,2,1)\n",
    "plt.plot(range(2,11), wcss)\n",
    "plt.title('The Elbow Method', fontsize=15)\n",
    "plt.xlabel('Number of Clusters (K)', fontsize=15)\n",
    "plt.ylabel('WCSS', fontsize=15)\n",
    "plt.xticks(fontsize=15)\n",
    "plt.yticks(fontsize=15)\n",
    "\n",
    "# Fit K-Means cluster with the optimal K=4:\n",
    "km = KMeans(n_clusters=4, init='k-means++', max_iter=300, n_init=10, random_state=0)\n",
    "y_km = km.fit_predict(X_cols_std)\n",
    "# Plot a bar chart: show number of points in each cluster\n",
    "plt.subplot(1,2,2)\n",
    "sns.countplot(y_km)\n",
    "plt.title('Bar chart: K-Means cluster group counts', fontsize=15)\n",
    "plt.xticks(fontsize=15)\n",
    "plt.yticks(fontsize=15)\n",
    "plt.show()"
   ]
  },
  {
   "cell_type": "markdown",
   "id": "44a30b7d",
   "metadata": {},
   "source": [
    "## Choosing the optimal K: The Silhouette Method ##\n",
    "From the elbow method, it is hard to distinguish the optimal point where changes in WCSS is not so significant.\n",
    "Therefore, we are going to apply the Silhouette method for assessing the optimal # of clusters. Silhouette score is computed on every single data point in every cluster. The Silhouette score ranges from -1 to +1 to indicate the level of reasonable groupings/structures."
   ]
  },
  {
   "cell_type": "code",
   "execution_count": null,
   "id": "50d31b8e",
   "metadata": {},
   "outputs": [],
   "source": [
    "# Compute the Silhouette score for optimal K assessment:\n",
    "from sklearn.metrics import silhouette_samples, silhouette_score\n",
    "import matplotlib.cm as cm\n",
    "\n",
    "# Range of clusters: from 2 to 10;\n",
    "rang_clust = list(range(2,11)) \n",
    "silhouette_scores = []\n",
    "\n",
    "for n_clust in rang_clust:\n",
    "    km = KMeans(n_clusters=n_clust, init='k-means++', random_state=0)\n",
    "    km_labels = km.fit_predict(X_cols_std) #X_cols\n",
    "    \n",
    "    silhouette_avg = silhouette_score(X_cols_std, km_labels)\n",
    "    silhouette_scores.append(silhouette_avg)\n",
    "    print(\"n_clusters = \", n_clust,\n",
    "         \"silhouette_avg_score\", silhouette_avg)\n",
    "\n",
    "# Plot for average Silhouette score for each \"K\" cluster(s):\n",
    "plt.figure()\n",
    "plt.title('Average Silhouette Score for each K', fontsize=20)\n",
    "sns.pointplot(x=rang_clust, y=silhouette_scores)\n",
    "plt.show()"
   ]
  },
  {
   "cell_type": "markdown",
   "id": "5d5217e1",
   "metadata": {},
   "source": [
    "The optimal # of clusters (K=2) based on the given avg. score of silhouette (0.1392). Thus, Toronto Community Health Profile can be segmented based on two different neighborhood groups."
   ]
  },
  {
   "cell_type": "code",
   "execution_count": null,
   "id": "b85533f7",
   "metadata": {},
   "outputs": [],
   "source": [
    "# Reduced range of clusters:\n",
    "rang_clust = list(range(2,5)) \n",
    "\n",
    "# Silhouette and cluster plots for n_clusters:\n",
    "for n_clust in rang_clust:\n",
    "    # Create a subplot with 1 row and 2 columns\n",
    "    fig, (ax1, ax2) = plt.subplots(1,2)\n",
    "    fig.set_size_inches(20,10)\n",
    "    \n",
    "    # 1st sub-plot: Silhouette plot\n",
    "    ax1.set_xlim([-0.1, 1])\n",
    "    # Insert blank space between Silhouette plots: each cluster\n",
    "    ax1.set_ylim([0, len(X_cols_std) + (n_clust + 1)*10])\n",
    "    \n",
    "    # Initialize the cluster with n_clust and a random number generator:\n",
    "    km = KMeans(n_clusters=n_clust, init='k-means++', random_state=0)\n",
    "    km_labels = km.fit_predict(X_cols_std)\n",
    "    \n",
    "    # Silhouette_score shows the average value: density and separation of formed cluster(s)\n",
    "    silhouette_avg = silhouette_score(X_cols_std, km_labels)\n",
    "    print(\"For n_clusters =\", n_clust,\n",
    "         \"The average silhouette_score is:\", silhouette_avg)\n",
    "    \n",
    "    # Compute the silhouette score for each sample:\n",
    "    sample_silhouette_values = silhouette_samples(X_cols_std, km_labels)\n",
    "    \n",
    "    y_lower = 10\n",
    "    for i in range(n_clust):\n",
    "        # Aggreate the silhouette scores for samples belonging to\n",
    "        # cluster i and sort them\n",
    "        ith_cluster_silhouette_values = \\\n",
    "            sample_silhouette_values[km_labels == i]\n",
    "        \n",
    "        ith_cluster_silhouette_values.sort()\n",
    "        \n",
    "        size_cluster_i = ith_cluster_silhouette_values.shape[0]\n",
    "        y_upper = y_lower + size_cluster_i\n",
    "        \n",
    "        color = cm.spectral(float(i) / n_clust)\n",
    "        ax1.fill_betweenx(np.arange(y_lower, y_upper), \n",
    "                          0, ith_cluster_silhouette_values,\n",
    "                         facecolor=color, edgecolor=color, alpha=0.7)\n",
    "        \n",
    "        # Label the silhouette plots with their cluster numbers in the middle:\n",
    "        ax1.text(-0.05, y_lower + 0.5 * size_cluster_i, str(i))\n",
    "        \n",
    "        # Compute the new y_lwoer for next plot\n",
    "        y_lower = y_upper + 10 # 10 for the 0 samples;\n",
    "    \n",
    "    ax1.set_title('Silhouette plot for the various clusters')\n",
    "    ax1.set_xlabel('Silhouette coefficient values')\n",
    "    ax1.set_ylabel('Cluster label')\n",
    "    \n",
    "    # The vertical line for avrage silhouette score of all the values\n",
    "    ax1.axvline(x=silhouette_avg, color='red', linestyle='--')\n",
    "    \n",
    "    ax1.set_yticks([]) # clear the y-axis labels/ticks\n",
    "    ax1.set_xticks([-0.1, 0, 0.2, 0.4, 0.6, 0.8, 1])\n",
    "    \n",
    "    # 2nd plot showing the actual formed clusters\n",
    "    colors = cm.spectral(km_labels.astype(float) / n_clust)\n",
    "    ax2.scatter(X_cols_std[:,0], X_cols_std[:,1], marker='.', s=150, lw=0, alpha=0.7, c=colors, edgecolor='k')\n",
    "    \n",
    "    # Labeling the clusters\n",
    "    centers = km.cluster_centers_\n",
    "    # Draw white circles at cluster centers\n",
    "    ax2.scatter(centers[:,0], centers[:,1], marker='o',\n",
    "               c='white', alpha=1, s=300, edgecolor='k')\n",
    "    \n",
    "    for i, c in enumerate(centers):\n",
    "        ax2.scatter(c[0], c[1], marker='$%d$' % i, alpha=1,\n",
    "                   s=100, edgecolor='k')\n",
    "        \n",
    "    ax2.set_title('Visualization of clustered data')\n",
    "    ax2.set_xlabel('Feature space for the 1st feature')\n",
    "    ax2.set_ylabel('Feature space for the 2nd feature')\n",
    "    \n",
    "    plt.suptitle(('Silhouette analysis for KMeans cluster on sample data '\n",
    "                'with n_clusters = %d' % n_clust),\n",
    "               fontsize=14, fontweight='bold')\n",
    "    plt.show()   "
   ]
  },
  {
   "cell_type": "markdown",
   "id": "47dae855",
   "metadata": {},
   "source": [
    "## Hierarchical Clustering ##"
   ]
  },
  {
   "cell_type": "code",
   "execution_count": null,
   "id": "4e957e72",
   "metadata": {},
   "outputs": [],
   "source": [
    "# Step 1: using the dendograms to find the optimal number of clusters (K)\n",
    "import scipy.cluster.hierarchy as sch\n",
    "fig = plt.figure(figsize=(15,15))\n",
    "dn = sch.dendrogram(sch.linkage(X_cols_std, method = 'ward')) \n",
    "plt.title ('Dendrogram')\n",
    "plt.xlabel('Neighborhoods')\n",
    "plt.ylabel('Euclidean Distances')\n",
    "plt.show() "
   ]
  },
  {
   "cell_type": "code",
   "execution_count": null,
   "id": "603ca21b",
   "metadata": {},
   "outputs": [],
   "source": [
    "# Step 2: fitting hierarchical clustering to the dataset\n",
    "from sklearn.cluster import AgglomerativeClustering\n",
    "hc = AgglomerativeClustering(n_clusters = 3, affinity = 'euclidean', linkage = 'ward')\n",
    "y_hc = hc.fit_predict(X_cols_std)"
   ]
  },
  {
   "cell_type": "code",
   "execution_count": null,
   "id": "94fa4739",
   "metadata": {},
   "outputs": [],
   "source": [
    "# Step 3: visualizing the clusters \n",
    "plt.scatter(X_cols_std[y_hc == 0, 0], \n",
    "            X_cols_std[y_hc == 0, 1], \n",
    "            s = 100, c = 'red', \n",
    "            marker='s', edgecolor='black',\n",
    "            label = 'C1')\n",
    "plt.scatter(X_cols_std[y_hc == 1, 0], \n",
    "            X_cols_std[y_hc == 1, 1], \n",
    "            s = 100, c = 'blue', \n",
    "            marker='o', edgecolor='black',\n",
    "            label = 'C2')\n",
    "plt.scatter(X_cols_std[y_hc == 2, 0], \n",
    "            X_cols_std[y_hc == 2, 1], \n",
    "            s = 100, c = 'green', \n",
    "            marker='h', edgecolor='black',\n",
    "            label = 'C3')\n",
    "#plt.scatter(X_cols_std[y_hc == 3, 0], \n",
    "#            X_cols_std[y_hc == 3, 1], \n",
    "#            s = 100, c = 'magenta', \n",
    "#            marker='h', edgecolor='black',\n",
    "#            label = 'C4')\n",
    "plt.title('Hierarchical Clustering', fontsize=15)\n",
    "plt.xlabel('Feature Space 1', fontsize=15)\n",
    "xt = plt.xticks(fontsize=15)        \n",
    "plt.ylabel('Feature Space 2', fontsize=15)\n",
    "yt = plt.yticks(fontsize=15)\n",
    "plt.legend()\n",
    "plt.show()"
   ]
  },
  {
   "cell_type": "markdown",
   "id": "db8909bd",
   "metadata": {},
   "source": [
    "## Visualize Clusters using PCA: K-Means ##\n",
    "We have about 140 neighborhoods (data points) each containing 66 features (dimensions). Principal Component Analysis (PCA) will help us avoid the curse of dimensionality by reducing dimensions into a few dimensions (i.e., 2-D). "
   ]
  },
  {
   "cell_type": "code",
   "execution_count": null,
   "id": "476a4aee",
   "metadata": {},
   "outputs": [],
   "source": [
    "# Re-fit K-Means using 3 clusters:\n",
    "df_merged['label_3'] = KMeans(n_clusters=3, init='k-means++', random_state=0).fit(X_cols_pca).labels_\n",
    "# Visualize the PCA cluster: scatter plot - K-Means 3 clusters\n",
    "plot_pca_scatter('X','Y','label_3',df_merged,'K-Means [3 clusters]')\n",
    "\n",
    "# Assume 3 clusters: label = label_3\n",
    "df_merged['label'] = df_merged['label_3']\n",
    "df_merged = df_merged.drop(['label_3'], axis=1)\n",
    "\n",
    "# Reviewed the clustered data points by merge with other community health profile features:\n",
    "df_review = df_merged.merge(df, on='nh_name')\n",
    "df_review.head()"
   ]
  },
  {
   "cell_type": "markdown",
   "id": "47f50347",
   "metadata": {},
   "source": [
    "## Visualize Clusters using PCA: Hierarchical ##"
   ]
  },
  {
   "cell_type": "code",
   "execution_count": null,
   "id": "4f12ca4d",
   "metadata": {},
   "outputs": [],
   "source": [
    "# Apply Hierarchical clustering: PCA\n",
    "hc_pca = AgglomerativeClustering(n_clusters = 3, affinity = 'euclidean', linkage = 'ward')\n",
    "hc_pca_labels = hc.fit_predict(X_cols_pca)\n",
    "\n",
    "# Create a merged DataFrame: neighborhood name and label - Hierarchical Clustering\n",
    "df_merged_hc = df_pca.merge(df['nh_name'].reset_index(), left_index=True, right_index=True).drop('index', axis=1)\n",
    "# Bind predicted cluster label column:\n",
    "df_merged_hc['label'] = hc_pca_labels\n",
    "# Print the dataframe:\n",
    "df_merged_hc.head()"
   ]
  },
  {
   "cell_type": "code",
   "execution_count": null,
   "id": "43bfcc86",
   "metadata": {},
   "outputs": [],
   "source": [
    "# Visualize the PCA cluster: scatter plot - Hierarchical 3 clusters\n",
    "plot_pca_scatter('X','Y','label',df_merged_hc,'Hierarchical [3 clusters]')"
   ]
  },
  {
   "cell_type": "code",
   "execution_count": null,
   "id": "c6c6c7df",
   "metadata": {},
   "outputs": [],
   "source": [
    "# Re-fit the Hierarchical cluster using 2 clusters:\n",
    "df_merged_hc['label_2'] = AgglomerativeClustering(n_clusters = 2, affinity = 'euclidean', linkage = 'ward').fit_predict(X_cols_pca)\n",
    "# Visualize the PCA cluster: scatter plot - Hierarchical 2 clusters\n",
    "plot_pca_scatter('X','Y','label_2',df_merged_hc,'Hierarchical [2 clusters]')\n",
    "\n",
    "# Assume 2 clusters: label = label_2\n",
    "df_merged_hc['label'] = df_merged_hc['label_2']\n",
    "df_merged_hc = df_merged_hc.drop(['label_2'], axis=1)\n",
    "\n",
    "# Reviewed the clustered data points by merge with other community health profile features:\n",
    "df_review_hc = df_merged_hc.merge(df, on='nh_name')\n",
    "df_review_hc.head()"
   ]
  },
  {
   "cell_type": "markdown",
   "id": "07101365",
   "metadata": {},
   "source": [
    "## Visualization: Biplot ##\n",
    "A biplot is a scatterplot where each data point is represented by its scores along the principal components. The axes are the PCA (dim 1 and dim 2). In addition, the biplot shows the projection of the original reduced features along the components. It helps us to explore relationships between the principal components and original features."
   ]
  },
  {
   "cell_type": "code",
   "execution_count": null,
   "id": "97c7e1b8",
   "metadata": {},
   "outputs": [],
   "source": [
    "def biplot(good_data, reduced_data, pca):\n",
    "    '''\n",
    "    Produce a biplot that shows a scatterplot of the reduced\n",
    "    data and the projections of the original features.\n",
    "    \n",
    "    good_data: original data, before transformation.\n",
    "               Needs to be a pandas dataframe with valid column names\n",
    "\n",
    "reduced_data: the reduced data (the first two dimensions are plotted)\n",
    "    pca: pca object that contains the components_ attribute\n",
    "    return: a matplotlib AxesSubplot object (for any additional customization)\n",
    "    \n",
    "    https://github.com/teddyroland/python-biplot\n",
    "    '''\n",
    "\n",
    "    fig, ax = plt.subplots(figsize = (14,8))\n",
    "    # scatterplot of the reduced data    \n",
    "    ax.scatter(x=reduced_data.loc[:, 'X'], y=reduced_data.loc[:, 'Y'], \n",
    "        facecolors='b', edgecolors='b', s=70, alpha=0.5)\n",
    "    \n",
    "    feature_vectors = pca.components_.T\n",
    "\n",
    "    # we use scaling factors to make the arrows easier to see\n",
    "    arrow_size, text_pos = 9.5, 10.5,\n",
    "\n",
    "    # projections of the original features\n",
    "    for i, v in enumerate(feature_vectors):\n",
    "        ax.arrow(0, 0, arrow_size*v[0], arrow_size*v[1], \n",
    "                  head_width=0.2, head_length=0.2, linewidth=2, color='red')\n",
    "        ax.text(v[0]*text_pos, v[1]*text_pos, good_data.columns[i], color='black', \n",
    "                 ha='center', va='center', fontsize=14)\n",
    "\n",
    "    ax.set_xlabel(\"X\", fontsize=14)\n",
    "    ax.set_ylabel(\"Y\", fontsize=14)\n",
    "    ax.set_title(\"PC plane with original feature projections\", fontsize=16);\n",
    "    return ax\n",
    "\n",
    "# Plot the bi-plot with PCA components:\n",
    "# good_data = standardized dataframe with reduced features\n",
    "good_data = df_new_std[cols]\n",
    "\n",
    "# Apply PCA by fitting the good data with 2 dimensions:\n",
    "pca = PCA(n_components=2) \n",
    "pca.fit(good_data)\n",
    "\n",
    "# reduced_data = PCA applied on good_data (reduced)\n",
    "reduced_data = pca.transform(good_data)\n",
    "reduced_data = pd.DataFrame(reduced_data, columns = ['X', 'Y'])\n",
    "\n",
    "# Create a biplot\n",
    "biplot(good_data, reduced_data, pca)"
   ]
  },
  {
   "cell_type": "markdown",
   "id": "01ad93b0",
   "metadata": {},
   "source": [
    "### Observation ###\n",
    "Red arrows show the original feature projections. Thus, it is easier to interpret the relative position of each data point in the biplot. \n",
    "\n",
    "Here is the summarized interpretations:\n",
    "1. ALC rate, injury rate and instability score strongly associated with each other.\n",
    "2. % high continuity of CHC visits, mortality rate and dependency score strongly associated with each other.\n",
    "3. Avg. family size, % other language speakers, ethnic score strongly associated with each other.\n",
    "4. % male population and rate of having more than 4 chronic conditions strongly associated with each other."
   ]
  },
  {
   "cell_type": "markdown",
   "id": "a5c3d17b",
   "metadata": {},
   "source": [
    "## Model Interpretation: Bar Charts on Clustered Data ##"
   ]
  },
  {
   "cell_type": "code",
   "execution_count": null,
   "id": "ad871add",
   "metadata": {},
   "outputs": [],
   "source": [
    "# Write a function to plot: bar charts\n",
    "def plot_bar_chart(x,y,df,var,label):\n",
    "    plt.figure(figsize=(20,8))\n",
    "    sns.countplot(x=x, hue=y, data=df)\n",
    "    plt.title('Bar Chart: ' + var, fontsize=20)\n",
    "    plt.xticks(rotation=90, fontsize=20)\n",
    "    plt.xlabel(label, fontsize=20)\n",
    "    plt.ylabel('Number of Neighborhoods', fontsize=20)\n",
    "    plt.yticks(fontsize=20)\n",
    "    plt.legend(loc='upper right', fontsize=20)\n",
    "    \n",
    "# Write a function to plot: bar charts by ordinal categorical order\n",
    "def plot_bar_chart_order(x,y,df,var,label,order):\n",
    "    plt.figure(figsize=(20,8))\n",
    "    sns.countplot(x=x, hue=y, data=df, order=order)\n",
    "    plt.title('Bar Chart: ' + var, fontsize=20)\n",
    "    plt.xticks(rotation=90, fontsize=20)\n",
    "    plt.xlabel(label, fontsize=20)\n",
    "    plt.ylabel('Number of Neighborhoods', fontsize=20)\n",
    "    plt.yticks(fontsize=20)\n",
    "    plt.legend(loc='upper right', fontsize=20)"
   ]
  },
  {
   "cell_type": "code",
   "execution_count": null,
   "id": "62ed99f6",
   "metadata": {},
   "outputs": [],
   "source": [
    "# Plot bar charts on City of Toronto Wards and cluster labels:\n",
    "plot_bar_chart('ward_name','label', df_review, 'wards in Toronto', 'Wards')\n",
    "plt.show()"
   ]
  },
  {
   "cell_type": "markdown",
   "id": "56571787",
   "metadata": {},
   "source": [
    "**Bar Chart Interpreation: at ward level in Toronto**\n",
    "\n",
    "Summary: in Toronto, following # of wards are assigned on each neighborhood group\n",
    "* group 0 = 8 wards\n",
    "* group 1 = 16 wards\n",
    "* group 2 = 13 wards\n",
    "\n",
    "From the above bar charts, we can draw couple of interesting observations:\n",
    "* York South-Weston ward was predominant on neighborhood group 1 and small # of neighborhood group 0.\n",
    "* Toronto-Danforth ward was predominant on neighborhood group 2 and no neighborhood groups of 0 and 1.\n",
    "* Toronto Centre-Rosedale ward was predominant on neighborhood group 0 followed by neighborhood group 2."
   ]
  },
  {
   "cell_type": "code",
   "execution_count": null,
   "id": "b08bef5a",
   "metadata": {},
   "outputs": [],
   "source": [
    "# Plot bar charts on most spoken languages and cluster labels:\n",
    "plot_bar_chart('demo_most_sponken_lang','label', df_review, \n",
    "               'Most spoken languages by neighborhoods in Toronto', 'Most Spoken Foreign Languages')\n",
    "plt.show()"
   ]
  },
  {
   "cell_type": "markdown",
   "id": "0c9630a0",
   "metadata": {},
   "source": [
    "**Bar Chart Interpreation: most spoken foreign language by neighborhood area(s)**\n",
    "\n",
    "Note: Mandarin spoken area was predominant in Toronto neighborhoods followed by Tamil, Portuguese, Cantonese, Spanish and etc.\n",
    "* Mandarin spoken area(s), all three-neighborhood group(s) with label 0, 1 and 2 were found.\n",
    "* Also Spanish, Cantonese, Bengali, Tagalog, etc. spoken area(s) had neighborhoods with all 3 labels.\n",
    "* Tibetan spoken area(s) had only neighborhood group(s) with label 0.\n",
    "* Italian, Urdu, Arabic, Somali and Punjabi spoken area(s) had only neighborhood group(s) with label 1.\n",
    "* Korean spoken area(s) had only neighborhood group with label 2."
   ]
  },
  {
   "cell_type": "code",
   "execution_count": null,
   "id": "87a4c8ee",
   "metadata": {},
   "outputs": [],
   "source": [
    "# Plot bar charts on % of low-income cut-off after tax and cluster labels:\n",
    "plot_bar_chart('lico_at_grp_label','label', df_review, \n",
    "               'Prevalence of Low-income Cut-offs by Neighborhoods in Toronto', 'Prevalence of Low-income Class')\n",
    "plt.show()"
   ]
  },
  {
   "cell_type": "markdown",
   "id": "315260c9",
   "metadata": {},
   "source": [
    "**Bar Chart Interpreation: prevalence of low income based on the low-income cut-offs after tax groups**\n",
    "* Neighborhood group with label 0 has the highest prevalence of low income based on neighborhood counts [relative poor].\n",
    "* Neighborhood group with label 1 has neutral level - prevalence of low income based on neighborhood counts [relative middle].\n",
    "* Neighborhood group with label 2 has the lowest prevalence of low income based on neighborhood counts [relative wealthy]."
   ]
  },
  {
   "cell_type": "code",
   "execution_count": null,
   "id": "8ba7b6eb",
   "metadata": {},
   "outputs": [],
   "source": [
    "# Plot bar charts on  and cluster labels:\n",
    "plot_bar_chart('ed_visits_grp_label','label', df_review, \n",
    "               'ED visits Rate Groups by Neighborhoods in Toronto', 'ED Visits Rate Level')"
   ]
  },
  {
   "cell_type": "markdown",
   "id": "c7e388ee",
   "metadata": {},
   "source": [
    "**Bar Chart Interpreation: unscheduled ED visits rate per 1000 groups**\n",
    "* Neighborhood group with label 0 has the highest count of high ED visits rate followed by label 2 [high ED visits].\n",
    "* Neighborhood group with label 1 has the highest count of medium ED visits rate [medium ED visits]\n",
    "* Neighborhood group with label 2 has the highest count of low ED visits rate followed by label 1 [low ED visits]."
   ]
  },
  {
   "cell_type": "code",
   "execution_count": null,
   "id": "65153c14",
   "metadata": {},
   "outputs": [],
   "source": [
    "# Check the lengh of matrix w.r.t: columns\n",
    "len(X_cols_std[0])"
   ]
  },
  {
   "cell_type": "markdown",
   "id": "5919a8db",
   "metadata": {},
   "source": [
    "## Initialize a new PCA model ##\n",
    "\n",
    "We are going to used the explained variance component to plot the optimal # of clusters determined by PCA model!"
   ]
  },
  {
   "cell_type": "code",
   "execution_count": null,
   "id": "01ef064b",
   "metadata": {},
   "outputs": [],
   "source": [
    "# Apply PCA decomposition into 2 components:\n",
    "pca = PCA(n_components=2) # specify into 2 components\n",
    "X_cols_pca = pca.fit_transform(X_cols_std) # fit and transform into PCA components"
   ]
  },
  {
   "cell_type": "markdown",
   "id": "099e4f46",
   "metadata": {},
   "source": [
    "## Choosing Optimal K: Silhouette Method on K-Means with PCA Analysis ##"
   ]
  },
  {
   "cell_type": "code",
   "execution_count": null,
   "id": "b502da98",
   "metadata": {},
   "outputs": [],
   "source": [
    "# Compute the Silhouette score for K-Means on PCA reduced dimensions (X & Y)\n",
    "range_clust_pca = list(range(2,11))\n",
    "silhouette_scores_pca = []\n",
    "\n",
    "for n_clust in range_clust_pca:\n",
    "    km = KMeans(n_clusters=n_clust, init='k-means++', random_state=0)\n",
    "    km_pca_labels = km.fit_predict(X_cols_pca) # PCA component of X features (2 components)\n",
    "    \n",
    "    silhouette_avg_pca = silhouette_score(X_cols_pca, km_pca_labels)\n",
    "    silhouette_scores_pca.append(silhouette_avg_pca)\n",
    "    print(\"n_clusters = \", n_clust,\n",
    "          \"silhouette_avg_score\", silhouette_avg_pca)\n",
    "\n",
    "# Plot for average silhouette score for each \"K\" clusters transformed by PCA:\n",
    "plt.figure()\n",
    "plt.title('Average Silhouette Score for K-Means with PCA 2 components')\n",
    "sns.pointplot(x=range_clust_pca, y=silhouette_scores_pca)\n",
    "plt.show()    "
   ]
  },
  {
   "cell_type": "markdown",
   "id": "b1ed77db",
   "metadata": {},
   "source": [
    "The optimal # of clusters (K=6) based on the given avg. score of silhouette (0.4018). Thus, Toronto community profile can be segmented based on six different neighborhood groups."
   ]
  },
  {
   "cell_type": "code",
   "execution_count": null,
   "id": "3c77166f",
   "metadata": {},
   "outputs": [],
   "source": [
    "# Apply K-Means clustering: PCA\n",
    "km_pca = KMeans(n_clusters=6, init='k-means++', random_state=0).fit(X_cols_pca)\n",
    "km_pca_labels = km_pca.labels_\n",
    "\n",
    "# Create a PCA decomposed reduced dimensions and named two components:x, y\n",
    "df_pca = pd.DataFrame(X_cols_pca)\n",
    "df_pca.columns = ['X','Y']\n",
    "df_pca.head()"
   ]
  },
  {
   "cell_type": "code",
   "execution_count": null,
   "id": "9b8a9ba0",
   "metadata": {},
   "outputs": [],
   "source": [
    "# Create a merged DataFrame: neighborhood name and label\n",
    "df_merged = df_pca.merge(df['nh_name'].reset_index(), left_index=True, right_index=True).drop('index', axis=1)\n",
    "# Bind predicted cluster label column:\n",
    "df_merged['label'] = km_pca_labels\n",
    "# Print the dataframe:\n",
    "df_merged.head()"
   ]
  },
  {
   "cell_type": "code",
   "execution_count": null,
   "id": "29e6d6d1",
   "metadata": {},
   "outputs": [],
   "source": [
    "# Write a function: plot the PCA scatter plot\n",
    "def plot_pca_scatter(x,y,label,df,header):\n",
    "    plt.figure(figsize=(15,15))\n",
    "    sns.lmplot(x=x, y=y, hue=label, data=df, fit_reg=False)\n",
    "    plt.title('PCA Scatter Plot: '+header, fontsize=15)\n",
    "    plt.xticks(fontsize=15)\n",
    "    plt.yticks(fontsize=15)"
   ]
  },
  {
   "cell_type": "code",
   "execution_count": null,
   "id": "4f10e783",
   "metadata": {},
   "outputs": [],
   "source": [
    "# Visualize the PCA cluster: scatter plot - K-Means 6 clusters\n",
    "plot_pca_scatter('X','Y','label',df_merged,'K-Means [6 clusters]')"
   ]
  },
  {
   "cell_type": "code",
   "execution_count": null,
   "id": "374a3f7a",
   "metadata": {},
   "outputs": [],
   "source": [
    "# Histogram Analyses: health monitoring indicators\n",
    "plot_hist('health_alc_rate_100','ALC rate per 100','green',\n",
    "          'health_injury_rate_100','Injury rate per 100','red',25)\n",
    "plt.show()\n",
    "\n",
    "plot_hist('health_pc_mortality_rate_100','Mortality rate per 100','purple',\n",
    "          'demo_birth_rate_1k','Birth rate per 1k','blue',25)\n",
    "plt.show()"
   ]
  },
  {
   "cell_type": "markdown",
   "id": "23de5e39",
   "metadata": {},
   "source": [
    "#### Summary: Health Indicators Group Rate 1 ####\n",
    "1. ALC rate per 100: approximated normal distribution. Majority of neighbors have ALC rate at 15.\n",
    "2. Injury rate per 100: approximated normal distribution. Majority of neighbors have injury rate at 21.\n",
    "3. Mortality rate per 100: non-normal distribution. Majority of neighbors have mortality rate at 42.\n",
    "4. Birth rate per 1k: distribution is skewed to right. Majority of neighbors have birth rate at 31."
   ]
  }
 ],
 "metadata": {},
 "nbformat": 4,
 "nbformat_minor": 5
}
