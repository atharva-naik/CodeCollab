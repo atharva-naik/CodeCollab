{
 "cells": [
  {
   "cell_type": "markdown",
   "id": "55c0792f",
   "metadata": {},
   "source": [
    "## libraries used throughout the program"
   ]
  },
  {
   "cell_type": "code",
   "execution_count": null,
   "id": "9ded4953",
   "metadata": {},
   "outputs": [],
   "source": [
    "import re\n",
    "import os\n",
    "from subprocess import call\n",
    "import json\n",
    "import pandas as pd\n",
    "import math\n",
    "import sys"
   ]
  },
  {
   "cell_type": "markdown",
   "id": "6bfdfed0",
   "metadata": {},
   "source": [
    "## this method is used to split a paragraph into sentences\n",
    "- this creates one entry per sentence in the json file\n",
    "- it is also used then to extract one sentence from the original mp3 file"
   ]
  },
  {
   "cell_type": "code",
   "execution_count": null,
   "id": "a6719d7d",
   "metadata": {},
   "outputs": [],
   "source": [
    "def splitParagraphIntoSentences(paragraph):\n",
    "    # preprocess the paragraph first before splitting into sentences\n",
    "    paragraph = re.sub(r'U\\.S\\.', 'US', paragraph)\n",
    "    paragraph = re.sub(r'Mr\\.', 'Mr', paragraph)\n",
    "    paragraph = re.sub(r'Mrs\\.', 'Mrs', paragraph)\n",
    "    paragraph = re.sub(r'Ms\\.', 'Ms', paragraph)\n",
    "    paragraph = re.sub(r'Operator:', 'O:', paragraph)\n",
    "    paragraph = re.sub(r'\\[ph\\]', '', paragraph)\n",
    "    paragraph = re.sub(r'\\((\\d+\\:*)+\\)', '', paragraph)\n",
    "    \n",
    "#     if the paragraph starts with a Question or Answer tag (Q&A section), temporary store the name ...\n",
    "#     QnA = re.findall('\\<.*\\>:\\s', paragraph)\n",
    "\n",
    "    # replace the question and answer tag with Q: and A: respectively\n",
    "    paragraph = re.sub(r'\\<Q.*\\>:\\s', 'Q: ', paragraph)\n",
    "    paragraph = re.sub(r'\\<A.*\\>:\\s', 'A: ', paragraph)\n",
    "    # split the paragraph after every period what is followed by a white space\n",
    "    sentenceEnders = re.compile('(?<=[\\.\\!\\?])\\s')\n",
    "    sentenceList = sentenceEnders.split(paragraph)\n",
    "    \n",
    "#     if len(QnA):\n",
    "#         add the name later again to restore previous structure\n",
    "#         sentenceList[0] = QnA[0] + sentenceList[0]\n",
    "\n",
    "    return sentenceList"
   ]
  },
  {
   "cell_type": "markdown",
   "id": "d74441e6",
   "metadata": {},
   "source": [
    "## here the text gets preprocessed the first time and stored in a new file in a subfolder\n",
    "- the original file has a new line after every 11th word\n",
    "- with preprocessing these newlines are being removed\n",
    "- this means that one whole conversation of one person gets stored as one paragraph in the new file\n",
    "## stop the execution after here to make manual adjustments to the text"
   ]
  },
  {
   "cell_type": "code",
   "execution_count": null,
   "id": "48009c0e",
   "metadata": {},
   "outputs": [],
   "source": [
    "def processTextFileToParagraph(path, text_file_name, process_folder, text_file):\n",
    "    # open the text file for the current mp3 file\n",
    "    with open(path + text_file_name + '.txt') as f:\n",
    "        # create a new file for the preprocessed text\n",
    "        with open(process_folder + text_file + 'PreprocessToParagraphs.txt', \"w\") as f1:\n",
    "            # while reading the first file write in the second\n",
    "            for line in f:\n",
    "                line.replace(\".\", \". \")\n",
    "                # only remove newline characters if the line is not empty\n",
    "                if line not in ['\\n', '\\r\\n']:\n",
    "                    f1.write(' ')\n",
    "                    f1.write(line.rstrip('\\n'))\n",
    "                else:\n",
    "                    f1.write(line)"
   ]
  },
  {
   "cell_type": "markdown",
   "id": "759f4709",
   "metadata": {},
   "source": [
    "## here the text gets processed a second time and stored again in a new file in the same folder\n",
    "- this step is splitting the paragraph back to sentences\n",
    "- the json file will include then one sentence per entry"
   ]
  },
  {
   "cell_type": "code",
   "execution_count": null,
   "id": "b42cad78",
   "metadata": {},
   "outputs": [],
   "source": [
    "def processTextFileToSentences(process_folder, text_file):\n",
    "    # open the just created file with processed text\n",
    "    with open(process_folder + text_file + \"PreprocessToParagraphs.txt\") as f:\n",
    "        # create another file for the second preprocessing step\n",
    "        with open(process_folder + text_file + 'PreprocessToSentences.txt', \"w\") as f1:\n",
    "            for line in f:\n",
    "                not_needed = ['MANAGEMENT DISCUSSION SECTION',\n",
    "                             'Wire: Bloomberg Transcripts',\n",
    "                             'CallSource: ',\n",
    "                             'For more event information and transcripts',\n",
    "                             'Q&A',\n",
    "                             'This transcript may not be 100 percent',\n",
    "                             'Copyright (c)',\n",
    "                             'END OF STORY']\n",
    "                if not any(x in line for x in not_needed) or ' Q&A' in line:\n",
    "                    # split paragraph into sentences\n",
    "                    sentences = splitParagraphIntoSentences(line)\n",
    "                    for s in sentences:\n",
    "                        if s is not '':\n",
    "                            # remove double white spaces from the text\n",
    "                            f1.write(' '.join(s.split()) + '\\n')"
   ]
  },
  {
   "cell_type": "markdown",
   "id": "b354d50a",
   "metadata": {},
   "source": [
    "## This method creates the json file for the earlier specified original voice mp3\n",
    "#### with the help of aeneas the mp3 gets analyzed and aligned with the preprocessed sentences from the file"
   ]
  }
 ],
 "metadata": {},
 "nbformat": 4,
 "nbformat_minor": 5
}
