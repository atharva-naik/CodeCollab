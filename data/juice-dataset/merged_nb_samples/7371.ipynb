{
 "cells": [
  {
   "cell_type": "markdown",
   "id": "83538a32",
   "metadata": {},
   "source": [
    "# Import packages\n",
    "\n",
    "In this file, we'll need `numpy`, `matplotlib`, `pandas` and a handy tool from `sklearn`. We'll also be using a gpx parser for python, `gpxpy`, which can be installed by entering the following into a cell:\n",
    "```python\n",
    "!pip install gpxpy\n",
    "```"
   ]
  },
  {
   "cell_type": "code",
   "execution_count": null,
   "id": "9bd0c415",
   "metadata": {},
   "outputs": [],
   "source": [
    "#%pylab inline"
   ]
  },
  {
   "cell_type": "code",
   "execution_count": null,
   "id": "df9a6ec0",
   "metadata": {},
   "outputs": [],
   "source": [
    "import numpy as np\n",
    "import matplotlib.pyplot as plt\n",
    "%matplotlib inline\n",
    "# change above to \"notebook\" for 3d viewing excellence"
   ]
  },
  {
   "cell_type": "code",
   "execution_count": null,
   "id": "ee1b17e2",
   "metadata": {},
   "outputs": [],
   "source": [
    "from mpl_toolkits.mplot3d import Axes3D\n",
    "from sklearn.preprocessing import minmax_scale\n",
    "import pandas as pd\n",
    "import gpxpy"
   ]
  },
  {
   "cell_type": "code",
   "execution_count": null,
   "id": "96b65a64",
   "metadata": {},
   "outputs": [],
   "source": [
    "from datetime import datetime"
   ]
  },
  {
   "cell_type": "markdown",
   "id": "ed46b9ea",
   "metadata": {},
   "source": [
    "# Load Strava data"
   ]
  },
  {
   "cell_type": "markdown",
   "id": "9b0cfb60",
   "metadata": {},
   "source": [
    "Find the file on your hard drive and store its location to the variable `gpx_fn`. Open the file using Python's `open` and then parse this file with the gpx parser. "
   ]
  },
  {
   "cell_type": "code",
   "execution_count": null,
   "id": "9d3ac17c",
   "metadata": {},
   "outputs": [],
   "source": [
    "gpx_fn = './Sortie_v_lo_matinale.gpx'\n",
    "gpx_file = open(gpx_fn, 'r')\n",
    "sortie = gpxpy.parse(gpx_file)"
   ]
  },
  {
   "cell_type": "markdown",
   "id": "665922a7",
   "metadata": {},
   "source": [
    "Each strava file contains a single track with a single segment that is broken up into many points. Therefore, the course (`course`) we have ridden is just the set of points of our trip (`sortie`)."
   ]
  },
  {
   "cell_type": "code",
   "execution_count": null,
   "id": "1d50368b",
   "metadata": {},
   "outputs": [],
   "source": [
    "def getMinMax(x):\n",
    "    return (x.min(), x.max())"
   ]
  },
  {
   "cell_type": "code",
   "execution_count": null,
   "id": "0b4bc12a",
   "metadata": {},
   "outputs": [],
   "source": [
    "def getRange(v):\n",
    "    return v[1] - v[0]"
   ]
  },
  {
   "cell_type": "code",
   "execution_count": null,
   "id": "b657bb01",
   "metadata": {},
   "outputs": [],
   "source": [
    "mu_lat = np.mean(getMinMax(course['lat']))\n",
    "mu_lon = np.mean(getMinMax(course['lon']))"
   ]
  },
  {
   "cell_type": "code",
   "execution_count": null,
   "id": "fac988da",
   "metadata": {},
   "outputs": [],
   "source": [
    "halfRange = np.maximum(getRange(getMinMax(course['lat'])), getRange(getMinMax(course['lon'])))/2"
   ]
  },
  {
   "cell_type": "markdown",
   "id": "5a3c4738",
   "metadata": {},
   "source": [
    "## Make elevation plot as a function of lat-lon"
   ]
  },
  {
   "cell_type": "markdown",
   "id": "1c11e218",
   "metadata": {},
   "source": [
    "Lastly, use the `Axes3D` object to plot a 3D elevation plot of the route. "
   ]
  },
  {
   "cell_type": "code",
   "execution_count": null,
   "id": "bcf37646",
   "metadata": {},
   "outputs": [],
   "source": [
    "fig = plt.figure(figsize=(10,6))\n",
    "ax = plt.gca(projection='3d')\n",
    "for j in range(latlonsegs.shape[0]):\n",
    "    if j in [0, latlonsegs.shape[0]-1]:\n",
    "        ax.plot(latlonsegs[j, :, 0], latlonsegs[j, :, 1], latlonsegs[j, :, 2], c=myCmap[j,:], \n",
    "                label='t={}'.format(datetime.fromtimestamp(course['ts'].values[j]).time()))\n",
    "    else:\n",
    "        ax.plot(latlonsegs[j, :, 0], latlonsegs[j, :, 1], latlonsegs[j, :, 2], c=myCmap[j,:])\n",
    "ax.view_init(25, 225)\n",
    "ax.set_xlabel('Longitude')\n",
    "ax.set_ylabel('Latitude')\n",
    "ax.set_zlabel('Elevation')\n",
    "ax.set_zlim(0, 120);\n",
    "ax.legend();\n",
    "plt.axis('tight');\n",
    "ax.set_title('Morning ride to UBC');"
   ]
  },
  {
   "cell_type": "markdown",
   "id": "4dcf16e4",
   "metadata": {},
   "source": [
    "## Notes"
   ]
  },
  {
   "cell_type": "markdown",
   "id": "e2f5c8b1",
   "metadata": {},
   "source": [
    "It should be possible to do this using these tools below"
   ]
  },
  {
   "cell_type": "code",
   "execution_count": null,
   "id": "166cf310",
   "metadata": {},
   "outputs": [],
   "source": [
    "# from matplotlib.colors import ListedColormap, BoundaryNorm\n",
    "# from mpl_toolkits.mplot3d.art3d import Line3DCollection"
   ]
  },
  {
   "cell_type": "markdown",
   "id": "265022c7",
   "metadata": {},
   "source": [
    "but for the life of me I cannot figure out how. "
   ]
  },
  {
   "cell_type": "markdown",
   "id": "b719a8b9",
   "metadata": {},
   "source": [
    "# Another attempt at plotting"
   ]
  },
  {
   "cell_type": "code",
   "execution_count": null,
   "id": "97a688f2",
   "metadata": {},
   "outputs": [],
   "source": [
    "# duration in seconds\n",
    "print('Duration = {} min'.format(sortie.get_duration()/60))\n",
    "sortie.get_elevation_extremes()"
   ]
  },
  {
   "cell_type": "code",
   "execution_count": null,
   "id": "bf1e88a1",
   "metadata": {},
   "outputs": [],
   "source": [
    "course = sortie.tracks[0].segments[0].points"
   ]
  },
  {
   "cell_type": "markdown",
   "id": "a801790b",
   "metadata": {},
   "source": [
    "Format the information of the points as a data frame so that we have easier access to the information. "
   ]
  },
  {
   "cell_type": "code",
   "execution_count": null,
   "id": "30a179aa",
   "metadata": {},
   "outputs": [],
   "source": [
    "from mpl_toolkits.mplot3d.art3d import Line3DCollection"
   ]
  },
  {
   "cell_type": "code",
   "execution_count": null,
   "id": "f957a1f8",
   "metadata": {},
   "outputs": [],
   "source": [
    "from matplotlib.colors import ListedColormap, BoundaryNorm"
   ]
  },
  {
   "cell_type": "markdown",
   "id": "148a6cf5",
   "metadata": {},
   "source": [
    "To do: view from azimuth = -90 (S), azim = -180 (W) and elev=90"
   ]
  },
  {
   "cell_type": "code",
   "execution_count": null,
   "id": "63fb5ab6",
   "metadata": {},
   "outputs": [],
   "source": [
    "course = pd.DataFrame([[pt.latitude, pt.longitude, pt.elevation, pt.time.timestamp()] \n",
    "                       for pt in course], columns=('lat', 'lon', 'elev', 'ts'))"
   ]
  },
  {
   "cell_type": "code",
   "execution_count": null,
   "id": "b984034a",
   "metadata": {},
   "outputs": [],
   "source": [
    "course.head()"
   ]
  },
  {
   "cell_type": "markdown",
   "id": "975a5bc2",
   "metadata": {},
   "source": [
    "# Plot data"
   ]
  },
  {
   "cell_type": "markdown",
   "id": "bae9ffca",
   "metadata": {},
   "source": [
    "## Colourmap stuff"
   ]
  },
  {
   "cell_type": "markdown",
   "id": "3f01b420",
   "metadata": {},
   "source": [
    "For plotting reasons, I've wanted to define pair of functions that stores the colour information in columns in the data frame. Therefore, I will use `cmapFromTimestamp` to compute a colourmap from the timestamp information and use `addNewColumnsInPlace` to insert the colour information into the `course` dataframe. "
   ]
  },
  {
   "cell_type": "code",
   "execution_count": null,
   "id": "6e128b77",
   "metadata": {},
   "outputs": [],
   "source": [
    "def addNewColumnsInPlace(colNames, data, func, **kwargs):\n",
    "    res = func(data, **kwargs)\n",
    "    for j, cn in enumerate(colNames):\n",
    "        data[cn] = res[:, j]\n",
    "    return"
   ]
  },
  {
   "cell_type": "code",
   "execution_count": null,
   "id": "0088fbd0",
   "metadata": {},
   "outputs": [],
   "source": [
    "def cmapFromTimestamp(data, cmap='Blues', columnName='ts', scale_range=(0,1)):\n",
    "    return plt.cm.cmap_d[cmap](minmax_scale(data[columnName], \n",
    "                                            feature_range=scale_range))"
   ]
  },
  {
   "cell_type": "code",
   "execution_count": null,
   "id": "4deef380",
   "metadata": {},
   "outputs": [],
   "source": [
    "colourCols = ['cmap_' + x for x in 'rgba']\n",
    "addNewColumnsInPlace(colourCols, course, cmapFromTimestamp, \n",
    "                     cmap='GnBu', scale_range=(.5,1))"
   ]
  },
  {
   "cell_type": "markdown",
   "id": "7a163673",
   "metadata": {},
   "source": [
    "Above, we have created four new columns, `{{print('{}, {}, {}, {}'.format(*colourCols))}}`, that contain the colour map information for our data frame."
   ]
  },
  {
   "cell_type": "markdown",
   "id": "8398f89e",
   "metadata": {},
   "source": [
    "## More colourmap stuff"
   ]
  },
  {
   "cell_type": "markdown",
   "id": "e69399a3",
   "metadata": {},
   "source": [
    "Instead of using the colourmaps developed above, I want to use a line plot, so I have to do this nonsense in order to colour each indvidual little segment."
   ]
  }
 ],
 "metadata": {},
 "nbformat": 4,
 "nbformat_minor": 5
}
