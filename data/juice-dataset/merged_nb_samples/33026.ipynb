{
 "cells": [
  {
   "cell_type": "markdown",
   "id": "216ea22c",
   "metadata": {},
   "source": [
    "# An analysis of the *Mendoza Line* in MLB batting statistics.\n",
    "-----\n",
    "\n",
    "The *Mendoza Line* is common U.S. slang referring to the threshold for seriously below average performance.\n",
    "The term originated in baseball, referring to the batting average of shortstop Mario Mendoza.\n",
    "For those unfamiliar with the origin of the term, there is good background in the [wikipedia entry on the Mendoza Line] and [this column] from the St. Louis Post-Dispatch.  \n",
    "\n",
    "The term has made Mendoza's last name famous since it was first coined in 1979, but we should verify the figure and analyze where this level of performance falls in the spectrum of other major league batters.\n",
    "In addition, we'll look at how batting averages over time compare to this figure.\n",
    "\n",
    "The data used in this analysis comes from SeanLahman.com's [baseball database](http://www.seanlahman.com/baseball-archive/statistics/).\n",
    "\n",
    "[wikipedia entry on the Mendoza Line]: https://en.wikipedia.org/wiki/Mendoza_Line\n",
    "\n",
    "[this column]: http://www.stltoday.com/sports/baseball/professional/branded-for-life-with-the-mendoza-line/article_cff05af5-032e-5a29-b5a8-ecc9216b0c02.html"
   ]
  },
  {
   "cell_type": "markdown",
   "id": "f808356a",
   "metadata": {},
   "source": [
    "### Table of contents:\n",
    "1.  Set up\n",
    "2.  Data  \n",
    "    2.1  Sources  \n",
    "    2.2  Data wrangling and initial observations  \n",
    "    2.3  Data quality check\n",
    "3.  Exploration and analysis  \n",
    "    3.1  How bad was this average in the years leading up to 1979?  \n",
    "    3.2  What percent of batters are below the Mendoza Line over time?\n",
    "4.  Conclusions  \n",
    "    4.1  Limitations and areas for further investigation"
   ]
  },
  {
   "cell_type": "markdown",
   "id": "1fd914cf",
   "metadata": {},
   "source": [
    "## 1. Set up\n",
    "-----\n",
    "Load the required libraries:"
   ]
  },
  {
   "cell_type": "code",
   "execution_count": null,
   "id": "e31b4769",
   "metadata": {},
   "outputs": [],
   "source": [
    "import numpy as np\n",
    "import pandas as pd\n",
    "import platform\n",
    "import matplotlib.pyplot as plt\n",
    "import seaborn as sns\n",
    "from scipy.stats import norm, percentileofscore\n",
    "%matplotlib inline"
   ]
  },
  {
   "cell_type": "markdown",
   "id": "c953b835",
   "metadata": {},
   "source": [
    "For readers and reviewers, the versions of the major software components are:"
   ]
  },
  {
   "cell_type": "code",
   "execution_count": null,
   "id": "5649b3d7",
   "metadata": {},
   "outputs": [],
   "source": [
    "print('python version:', platform.python_version())\n",
    "print(pd.__name__, 'version', pd.__version__)\n",
    "print(np.__name__, 'version', np.__version__)"
   ]
  },
  {
   "cell_type": "markdown",
   "id": "3c50ab3c",
   "metadata": {},
   "source": [
    "## 2. Data\n",
    "-----\n",
    "\n",
    "### 2.1 Sources\n",
    "As noted earlier, the data used comes from SeanLahman.com's baseball database. Specifically, I used this [dataset](http://seanlahman.com/files/database/baseballdatabank-2017.1.zip) which was updated February 26, 2017 with statistics through the 2016 season."
   ]
  },
  {
   "cell_type": "markdown",
   "id": "44d801f9",
   "metadata": {},
   "source": [
    "While the zip repository contains 27 different .csv files covering various statistics, we're only going to use a subset:\n",
    "\n",
    "1. Master.csv --> player names and biographical data\n",
    "2. Batting.csv --> batting stastics\n",
    "3. Appearances.csv --> positional info"
   ]
  },
  {
   "cell_type": "markdown",
   "id": "0d8b2e9f",
   "metadata": {},
   "source": [
    "### 2.2 Data wrangling and initial observations\n",
    "Import each of the .csv files into a pandas DataFrame object:"
   ]
  },
  {
   "cell_type": "code",
   "execution_count": null,
   "id": "88aa169f",
   "metadata": {},
   "outputs": [],
   "source": [
    "directory = 'core/'\n",
    "master_df = pd.read_csv(directory + 'Master.csv')\n",
    "batting_df = pd.read_csv(directory + 'Batting.csv')\n",
    "appearances_df = pd.read_csv(directory + 'Appearances.csv')"
   ]
  },
  {
   "cell_type": "markdown",
   "id": "66592a3f",
   "metadata": {},
   "source": [
    "Look at the master table to make sure it loaded correctly:"
   ]
  },
  {
   "cell_type": "code",
   "execution_count": null,
   "id": "a93b0d1b",
   "metadata": {},
   "outputs": [],
   "source": [
    "master_df.head()"
   ]
  },
  {
   "cell_type": "markdown",
   "id": "ef4bc682",
   "metadata": {},
   "source": [
    "First, let's see if we can find Mario Mendoza in our database..."
   ]
  },
  {
   "cell_type": "code",
   "execution_count": null,
   "id": "97bdc41d",
   "metadata": {},
   "outputs": [],
   "source": [
    "mendozas = master_df.loc[master_df['nameLast'] == 'Mendoza']\n",
    "mendozas"
   ]
  },
  {
   "cell_type": "markdown",
   "id": "c062771c",
   "metadata": {},
   "source": [
    "Judging by the first names and the dates played compared to the biographical info in the background reading, it's pretty easy to find our man in the third row, born in Chihuahua, Mexico in 1950. Let's save his player ID in a variable **mendoza_ID** so we can look up his stats."
   ]
  },
  {
   "cell_type": "code",
   "execution_count": null,
   "id": "e34b9897",
   "metadata": {},
   "outputs": [],
   "source": [
    "mendoza_ID = mendozas[mendozas['nameFirst'] == 'Mario']['playerID'].values[0]\n",
    "mendoza_ID"
   ]
  },
  {
   "cell_type": "markdown",
   "id": "46400c94",
   "metadata": {},
   "source": [
    "Now, let's look up Mario Mendoza's batting statistics.  First, let's look at the batting dataframe:"
   ]
  },
  {
   "cell_type": "code",
   "execution_count": null,
   "id": "855c6368",
   "metadata": {},
   "outputs": [],
   "source": [
    "batting_df.head()"
   ]
  },
  {
   "cell_type": "markdown",
   "id": "826f5e15",
   "metadata": {},
   "source": [
    "The columns in the batting_df dataframe have the following labels:"
   ]
  },
  {
   "cell_type": "code",
   "execution_count": null,
   "id": "196e3fb5",
   "metadata": {},
   "outputs": [],
   "source": [
    "#playerID       Player ID code\n",
    "#yearID         Year\n",
    "#stint          player's stint (order of appearances within a season)\n",
    "#teamID         Team\n",
    "#lgID           League\n",
    "#G              Games\n",
    "#AB             At Bats\n",
    "#R              Runs\n",
    "#H              Hits\n",
    "#2B             Doubles\n",
    "#3B             Triples\n",
    "#HR             Homeruns\n",
    "#RBI            Runs Batted In\n",
    "#SB             Stolen Bases\n",
    "#CS             Caught Stealing\n",
    "#BB             Base on Balls\n",
    "#SO             Strikeouts\n",
    "#IBB            Intentional walks\n",
    "#HBP            Hit by pitch\n",
    "#SH             Sacrifice hits\n",
    "#SF             Sacrifice flies\n",
    "#GIDP           Grounded into double plays"
   ]
  },
  {
   "cell_type": "markdown",
   "id": "70e58028",
   "metadata": {},
   "source": [
    "Let's examine Mendoza's numbers:"
   ]
  },
  {
   "cell_type": "code",
   "execution_count": null,
   "id": "43a1be85",
   "metadata": {},
   "outputs": [],
   "source": [
    "appearances_df[appearances_df['yearID'] >= 1975].info()"
   ]
  },
  {
   "cell_type": "markdown",
   "id": "4f58043e",
   "metadata": {},
   "source": [
    "Similarly, it looks like there are no missing data points in this subset of the data either. Again, it makes sense that the data sets from 1975 forward would be clean as baseball was very popular during this entire period and keeping detailed statistics had long been part of baseball, even pre-dating the period in question."
   ]
  },
  {
   "cell_type": "markdown",
   "id": "8a459cdd",
   "metadata": {},
   "source": [
    "## 3. Exploration and analysis\n",
    "-----\n",
    "\n",
    "### 3.1 How bad was this average in the years leading up to 1979?\n",
    "In order to quantify how mediocre a performance batting .200 was in 1979 when the phrase was coined, I want to look at typical batting averages in this time period. To do this, I need to adjust the batting_df dataset in a few different ways:\n",
    "* Look only at data in the 5 year window from 1975 - 1979\n",
    "* Remove pitchers\n",
    "* Remove players without at least 50 at bats in a season *(which could be stints with multiple teams in the same season)*\n",
    "\n",
    "#### First, create a new dataframe with just the batting data from 1975 to 1979 (inclusive)"
   ]
  },
  {
   "cell_type": "code",
   "execution_count": null,
   "id": "af9fa994",
   "metadata": {},
   "outputs": [],
   "source": [
    "def stat_window(df, start_year, end_year):\n",
    "    search = str(start_year) + ' <= yearID <= ' + str(end_year)\n",
    "    return df.query(search)\n",
    "\n",
    "start_year = 1975\n",
    "end_year = 1979\n",
    "batting_window = stat_window(batting_df, start_year, end_year)\n",
    "print(len(batting_window), \"batting data records from {} - {}\".format(start_year,\n",
    "                                                                            end_year))\n",
    "batting_window.head()"
   ]
  },
  {
   "cell_type": "code",
   "execution_count": null,
   "id": "5ea3908a",
   "metadata": {},
   "outputs": [],
   "source": [
    "batting_window.info()"
   ]
  },
  {
   "cell_type": "code",
   "execution_count": null,
   "id": "848eef85",
   "metadata": {},
   "outputs": [],
   "source": [
    "players_set = set(batting_window['playerID'])\n",
    "print(len(players_set), \"unique players with batting records during this period\")"
   ]
  },
  {
   "cell_type": "markdown",
   "id": "a873fa04",
   "metadata": {},
   "source": [
    "#### Next, remove pitchers from the dataset.  \n",
    "Pitchers are defined as players with more than one appearance as pitcher during a season. One appeance is used as the threshold to allow for fielders who might pitch rarely during an extra innings situation. This could lead to slight errors on edge cases of fielders who routinely pitched or players who switched positions during their career, but this would be very rare case during the time period being analyzed."
   ]
  },
  {
   "cell_type": "code",
   "execution_count": null,
   "id": "67381abc",
   "metadata": {},
   "outputs": [],
   "source": [
    "# Create a set of all players with more than one game pitched in a stint or season\n",
    "min_G_p = 1\n",
    "all_pitchers = set(appearances_df[appearances_df['G_p'] > min_G_p]['playerID'])\n",
    "\n",
    "# remove these players from the batting dataframe\n",
    "batters_set = set(x for x in batting_window['playerID'] if x not in all_pitchers)\n",
    "print(len(batters_set), \"unique non-pitchers in {} - {}\".format(start_year, end_year))"
   ]
  },
  {
   "cell_type": "code",
   "execution_count": null,
   "id": "42ac7b5b",
   "metadata": {},
   "outputs": [],
   "source": [
    "def remove_position(df, position):\n",
    "    non_position = [x not in position for x in df['playerID']]\n",
    "    return df[non_position]\n",
    "\n",
    "batting_window = remove_position(batting_window, all_pitchers)\n",
    "print(len(batting_window), 'batting data records with pitchers removed')\n",
    "print(len(set(batting_window['playerID'])), \n",
    "      \"unique players, should match unique non-pitchers in cell above\")\n",
    "batting_window.head()"
   ]
  },
  {
   "cell_type": "markdown",
   "id": "553b6455",
   "metadata": {},
   "source": [
    "#### Next, remove players without at least 50 at bats in that year. \n",
    "The intent here is to try to remove \"noisy\" data points from players who didn't have at least 50 at bats in a season, which might included short-term call-ups from the minor leagues, injured players, etc.  However, we must allow for players to achieve this minimum in a combination of 'stints' across different teams in the same season.\n",
    "***To do this, we create a multi-index*** to sum the games played ('G') data by playerID and yearID (to aggregate seasons with multiple stints), so that we can look up our data by player, by year:"
   ]
  },
  {
   "cell_type": "code",
   "execution_count": null,
   "id": "d2400d89",
   "metadata": {},
   "outputs": [],
   "source": [
    "def get_player_year_sum(df, field):\n",
    "    \n",
    "    grouped = df.groupby(['playerID', 'yearID'], as_index=False).sum()\n",
    "    \n",
    "    index_arrays = [grouped['playerID'], grouped['yearID']]\n",
    "    multi_index = pd.MultiIndex.from_arrays(index_arrays, names = ['playerID', 'yearID'])\n",
    "    return pd.Series(grouped[field].values, index=multi_index)\n",
    "\n",
    "stat = 'AB'\n",
    "player_year_stats = get_player_year_sum(batting_window, stat)\n",
    "player_year_stats.head(10)"
   ]
  },
  {
   "cell_type": "markdown",
   "id": "61d62cec",
   "metadata": {},
   "source": [
    "Create a boolean array to check for minimum criteria (at bats) in the season:"
   ]
  },
  {
   "cell_type": "code",
   "execution_count": null,
   "id": "859c5d8c",
   "metadata": {},
   "outputs": [],
   "source": [
    "min_stat = 50\n",
    "required_min = []\n",
    "for x in batting_window.iterrows():\n",
    "    if player_year_stats[x[1][0], x[1][1]] >= min_stat:\n",
    "        required_min.append(True)\n",
    "    else:\n",
    "        required_min.append(False)\n",
    "\n",
    "batting_window = batting_window[required_min]\n",
    "print(len(batting_window), 'batting data records with minimum of {} {}'.format(min_stat, stat))"
   ]
  },
  {
   "cell_type": "markdown",
   "id": "1d716e48",
   "metadata": {},
   "source": [
    "#### Now that we've cleaned up this data, we can analyze the distribution of batting averages.  "
   ]
  },
  {
   "cell_type": "code",
   "execution_count": null,
   "id": "a495cdf9",
   "metadata": {},
   "outputs": [],
   "source": [
    "BAs_window = batting_window['H']/batting_window['AB']\n",
    "BAs_window.describe()"
   ]
  },
  {
   "cell_type": "markdown",
   "id": "98e521d1",
   "metadata": {},
   "source": [
    "From the describe() statement above, the mean of the batting averages was .251, with a standard deviation of 0.47 **- so the Mendoza Line of .200 was about one standard deviation below the mean.**  We can also graph the distribution of batting averages to get a visual feeling for the distribution."
   ]
  },
  {
   "cell_type": "code",
   "execution_count": null,
   "id": "5f9e815a",
   "metadata": {},
   "outputs": [],
   "source": [
    "BA_bins = [x/1000 for x in range(100,410,10)]\n",
    "plt.rcParams['figure.figsize'] = 8, 5\n",
    "BAs_window.hist(bins=BA_bins, normed = True, edgecolor='black')\n",
    "plt.title('MLB batting averages: 1975 - 1979')\n",
    "plt.axvline(x=0.200, color='black')\n",
    "plt.text(.190, 7 , \"Mendoza Line\", rotation=90)\n",
    "plt.xlabel('Batting average')\n",
    "plt.ylabel('Frequency (percentage)')\n",
    "plt.show()"
   ]
  },
  {
   "cell_type": "markdown",
   "id": "0b6a54ea",
   "metadata": {},
   "source": [
    "Calculating some statistics based on a normal distribution..."
   ]
  },
  {
   "cell_type": "code",
   "execution_count": null,
   "id": "46902593",
   "metadata": {},
   "outputs": [],
   "source": [
    "mendoza_Z = (MENDOZA_LINE - BAs_window.mean())/BAs_window.std(ddof=0)\n",
    "print(\"The Z score of a .200 batting average is {:4.2f}\".format(mendoza_Z))\n",
    "print(\"Assuming a normal distribution of batting averages, this would place .200 above\",\n",
    "      \"only {:3.1f}% of batters\".format(100*norm.cdf(mendoza_Z)))"
   ]
  },
  {
   "cell_type": "markdown",
   "id": "c8957993",
   "metadata": {},
   "source": [
    "However, the normal distribution is only and approximation of the data.  We can look at the actual percentile rankings of the batting averages to calculate precisely what percentage of batters would fall below the Mendoza Line:"
   ]
  },
  {
   "cell_type": "code",
   "execution_count": null,
   "id": "13dc7308",
   "metadata": {},
   "outputs": [],
   "source": [
    "BAs_window.quantile([0,.1,.2,.3,.4,.5,.6,.7,.8,.9,1])"
   ]
  },
  {
   "cell_type": "markdown",
   "id": "f8a71e21",
   "metadata": {},
   "source": [
    "Eyeballing the deciles above would imply that and average of .200 would fall just north of the tenth precentile (where only 10% of observations would be below this point).  This is even worse than what the normal distribution would imply. We can use **percentileofscore** from the scipy.stats module to figure out precisely what percentage of scores were below .200:"
   ]
  },
  {
   "cell_type": "code",
   "execution_count": null,
   "id": "540881f7",
   "metadata": {},
   "outputs": [],
   "source": [
    "def mendoza_percentile(series):\n",
    "    return percentileofscore(series, MENDOZA_LINE, kind=\"strict\")\n",
    "\n",
    "print(\"Given the actual distribution, a .200 batting average was above\", \n",
    "      \"only {:3.1f}% of batters\".format(mendoza_percentile(BAs_window)))"
   ]
  },
  {
   "cell_type": "markdown",
   "id": "b07f029f",
   "metadata": {},
   "source": [
    "#### Conculsion: \n",
    "1. The term \"Mendoza Line\" refers to a performance of batting average of approximately .200, as verified by Mario Mendoza's actual batting average in the years before the term was coined.  \n",
    "2. This level of performance in the 1975-1979 time frame would have placed a batter in only the 10th percentile. Said another way, almost *90% of batters had a higher average* when we removed pitchers and players without a minimum number of at bats. "
   ]
  },
  {
   "cell_type": "markdown",
   "id": "d4cd004d",
   "metadata": {},
   "source": [
    "### 3.2 What percent of batters are below the \"Mendoza Line\" over time?\n",
    "\n",
    "In the 1975-1979 time frame, when the term Mendoza Line was coined, batting .200 put a player in roughly the 10th percentile of eligible batters (those with at least 50 ABs, excluding pitchers). I'd like to know how this level varied over time thereafter (from 1980 onward). \n",
    "  \n",
    "**Specifically, what percent of batters are below .200 each year?**"
   ]
  },
  {
   "cell_type": "markdown",
   "id": "d493756a",
   "metadata": {},
   "source": [
    "#### First, create a dataset with just the figures from 1980 forward"
   ]
  },
  {
   "cell_type": "code",
   "execution_count": null,
   "id": "94c9b34f",
   "metadata": {},
   "outputs": [],
   "source": [
    "start_year = 1980\n",
    "end_year = batting_df['yearID'].max()\n",
    "\n",
    "batting_window = stat_window(batting_df, start_year, end_year)\n",
    "print(len(batting_window), \"batting data records from {} - {}\".format(\n",
    "                            start_year, end_year))\n",
    "batting_window.head()"
   ]
  },
  {
   "cell_type": "markdown",
   "id": "536c0b32",
   "metadata": {},
   "source": [
    "#### Again, remove the pitchers"
   ]
  },
  {
   "cell_type": "code",
   "execution_count": null,
   "id": "db224323",
   "metadata": {},
   "outputs": [],
   "source": [
    "mendoza_batting_df = batting_df[batting_df['playerID'] == mendoza_ID]\n",
    "mendoza_batting_df"
   ]
  },
  {
   "cell_type": "markdown",
   "id": "eeaff398",
   "metadata": {},
   "source": [
    "Create a quick summary of Mendoza's hits and at bats per year, and calculate his batting average **('BA')** - note the convention is to round this to three decimals places:"
   ]
  },
  {
   "cell_type": "code",
   "execution_count": null,
   "id": "f6e5caff",
   "metadata": {},
   "outputs": [],
   "source": [
    "def calculate_BA(batting_df):\n",
    "    return (batting_df['H']/batting_df['AB']).round(3)"
   ]
  },
  {
   "cell_type": "code",
   "execution_count": null,
   "id": "4c404eef",
   "metadata": {},
   "outputs": [],
   "source": [
    "mendoza_data = pd.DataFrame.from_items([('BA', calculate_BA(mendoza_batting_df)),\n",
    "                             ('H', mendoza_batting_df['H']), \n",
    "                             ('AB', mendoza_batting_df['AB'])])\n",
    "mendoza_data.index = mendoza_batting_df['yearID']\n",
    "mendoza_data"
   ]
  },
  {
   "cell_type": "markdown",
   "id": "9bd16389",
   "metadata": {},
   "source": [
    "Let's look at his typical batting average in the years up through (and including) 1979 when the phrase was coined:"
   ]
  },
  {
   "cell_type": "code",
   "execution_count": null,
   "id": "5a160542",
   "metadata": {},
   "outputs": [],
   "source": [
    "end_year = 1979\n",
    "start_year = mendoza_data.index.values.min()\n",
    "print('Average {} - {} batting average: {:4.3f}'.format(start_year, end_year, \n",
    "      mendoza_data[(mendoza_data.index) <= end_year]['BA'].mean()))"
   ]
  },
  {
   "cell_type": "markdown",
   "id": "aee2f5c3",
   "metadata": {},
   "source": [
    "#### The Mendoza Line quantified and verified: he was a .200 hitter \n",
    "\n",
    "Now, this \"average of averages\" would give equal weighting to his batting averages from each year regardless of the number of at bats.  Let's redo the previous calculation using the actual hits and at bats from each season:"
   ]
  },
  {
   "cell_type": "code",
   "execution_count": null,
   "id": "dd40e52c",
   "metadata": {},
   "outputs": [],
   "source": [
    "print('Cumulative {} - {} batting average: {:4.3f}'.format(start_year, end_year,\n",
    "    float(mendoza_data[(mendoza_data.index) <= end_year]['H'].sum()/mendoza_data[(mendoza_data.index) <= end_year]['AB'].sum())))"
   ]
  },
  {
   "cell_type": "markdown",
   "id": "7c4ccaea",
   "metadata": {},
   "source": [
    "Looks like the cumulative batting average over that period was almost consistent with the average of his batting averages, so the initial figure wasn't skewed by any outlier years.\n",
    "  \n",
    "How did he fare from 1979 through the end of his career in 1982?"
   ]
  },
  {
   "cell_type": "code",
   "execution_count": null,
   "id": "27b430d3",
   "metadata": {},
   "outputs": [],
   "source": [
    "final_career_year = mendoza_data.index.values.max()\n",
    "print('{} - {} batting average: {:4.3f}'.format(end_year+1, final_career_year, \n",
    "      float(mendoza_data[(mendoza_data.index) > end_year]['H'].sum()/mendoza_data[(mendoza_data.index) > end_year]['AB'].sum())))"
   ]
  },
  {
   "cell_type": "markdown",
   "id": "5f2587a8",
   "metadata": {},
   "source": [
    "He was a little better those last few years, but unfortunately the saying had already become a cultural idoim and the \"Mendoza Line\" was memorialized as a batting average of **0.200**. "
   ]
  },
  {
   "cell_type": "code",
   "execution_count": null,
   "id": "36f75e4e",
   "metadata": {},
   "outputs": [],
   "source": [
    "MENDOZA_LINE = 0.200"
   ]
  },
  {
   "cell_type": "markdown",
   "id": "0ef55d97",
   "metadata": {},
   "source": [
    "### 2.3 Data quality check\n",
    "We've imported the csv files into three dataframes for our analysis\n",
    "\n",
    "1. master_df --> player names and biographical data\n",
    "2. batting_df --> batting stastics\n",
    "3. appearances_df --> positional info\n",
    "\n",
    "The master_df was only needed to find our info for Mario Mendoza as we aren't using biographical data elsewhere in our analysis, so we don't need to scrub this dataset as it has already served its limited purpose. However, we should investigate the batting and appearances datasets to check for data issues."
   ]
  },
  {
   "cell_type": "code",
   "execution_count": null,
   "id": "9563e849",
   "metadata": {},
   "outputs": [],
   "source": [
    "batting_df.info()"
   ]
  },
  {
   "cell_type": "markdown",
   "id": "f42f04a5",
   "metadata": {},
   "source": [
    "We can see in the information above that it looks like there are a good number of missing data points from the batting records.  This data set goes back to 1871 and it's not surprising that some data may not have been tracked in the same way historically.  However, our analysis will only be covering from 1975 onward, a relatively modern period.  We can check that subset of the data:"
   ]
  },
  {
   "cell_type": "code",
   "execution_count": null,
   "id": "55ef3eaa",
   "metadata": {},
   "outputs": [],
   "source": [
    "batting_df[batting_df['yearID'] >= 1975].info()"
   ]
  },
  {
   "cell_type": "markdown",
   "id": "9864b69f",
   "metadata": {},
   "source": [
    "Great - it looks like there is no missing batting data in this period. Now, let's verify the same on the appearances data:"
   ]
  },
  {
   "cell_type": "code",
   "execution_count": null,
   "id": "8c1f0d51",
   "metadata": {},
   "outputs": [],
   "source": [
    "batting_window = remove_position(batting_window, all_pitchers)\n",
    "print(len(batting_window), 'batting data records with pitchers removed')"
   ]
  },
  {
   "cell_type": "markdown",
   "id": "c6bfc0aa",
   "metadata": {},
   "source": [
    "#### Next, remove players without at least 50 at bats in that year. \n",
    "Similar to the process above, we need to create a multiindex to allow for players to have different 'stints' across different teams in the same season.  Note that to qualify for awards like the batting title, the minimum level of appearances is much higher.  \n",
    "\n",
    "Create the at bats multiindex for the 1980 onward batting data:"
   ]
  },
  {
   "cell_type": "code",
   "execution_count": null,
   "id": "bb420203",
   "metadata": {},
   "outputs": [],
   "source": [
    "stat = 'AB'\n",
    "player_year_stats = get_player_year_sum(batting_window, stat)\n",
    "player_year_stats.head(10)"
   ]
  },
  {
   "cell_type": "markdown",
   "id": "e576e80c",
   "metadata": {},
   "source": [
    "And remove the players without less than 50 ABs in a year from our post-1980 batting dataframe"
   ]
  },
  {
   "cell_type": "code",
   "execution_count": null,
   "id": "901bf8b6",
   "metadata": {},
   "outputs": [],
   "source": [
    "batting_window.head(10)"
   ]
  },
  {
   "cell_type": "code",
   "execution_count": null,
   "id": "eb5b8e34",
   "metadata": {},
   "outputs": [],
   "source": [
    "#  helper function to return an array with the qualifying batting averages for any given year\n",
    "def get_annual_BA(year):\n",
    "    annual_data = batting_window[batting_window['yearID'] == year]\n",
    "    return (annual_data['H']/annual_data['AB']).values\n",
    "\n",
    "# create a dataframe with a column containing the qualifying batting averages for each year\n",
    "# note that the columns will be of varying lengths, but pandas will pad the missing values with NaN\n",
    "\n",
    "BA_dict = {x: get_annual_BA(x) for x in range(start_year, end_year+1)}\n",
    "annual_BA_df = pd.DataFrame.from_dict(BA_dict, orient='index')\n",
    "annual_BA_df = annual_BA_df.transpose()\n",
    "annual_BA_df.head()"
   ]
  },
  {
   "cell_type": "markdown",
   "id": "3ee64e4c",
   "metadata": {},
   "source": [
    "#### Quick detour: \n",
    "Let's take a look at the 1980's to get a feel for how batting averages are distributed by year"
   ]
  }
 ],
 "metadata": {},
 "nbformat": 4,
 "nbformat_minor": 5
}
