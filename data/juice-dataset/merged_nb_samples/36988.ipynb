{
 "cells": [
  {
   "cell_type": "markdown",
   "id": "834e11ff",
   "metadata": {},
   "source": [
    "# Basic Distributions\n",
    "\n",
    "### A. Taylan Cemgil\n",
    "### Boğaziçi University, Dept. of Computer Engineering\n"
   ]
  },
  {
   "cell_type": "markdown",
   "id": "3b231ec5",
   "metadata": {},
   "source": [
    "### Notebook Summary\n",
    "* We review the notation and parametrization of densities of some basic distributions that are often encountered\n",
    "* We show how random numbers are generated using python libraries\n",
    "* We show some basic visualization methods such as displaying histograms "
   ]
  },
  {
   "cell_type": "markdown",
   "id": "98ed1b8a",
   "metadata": {},
   "source": [
    "# Sampling From Basic Distributions"
   ]
  },
  {
   "cell_type": "markdown",
   "id": "2a9ec776",
   "metadata": {},
   "source": [
    "Sampling from basic distribution is easy using the numpy library. \n",
    " \n",
    "Formally we will write\n",
    "\n",
    "$x \\sim p(X|\\theta)$\n",
    "\n",
    "where $\\theta$ is the _parameter vector_, $p(X| \\theta)$ denotes the _density_ of the random variable $X$ and $x$ is a _realization_, a particular draw from the density $p$.\n",
    "\n",
    "The following distributions are building blocks from which more complicated processes may be constructed. It is important to have a basic understanding of these distributions.\n",
    "\n",
    "\n",
    "### Continuous Univariate \n",
    "* Uniform $\\mathcal{U}$\n",
    "* Univariate Gaussian $\\mathcal{N}$\n",
    "* Gamma $\\mathcal{G}$\n",
    "* Inverse Gamma $\\mathcal{IG}$\n",
    "* Beta $\\mathcal{B}$\n",
    "\n",
    "### Discrete \n",
    "* Poisson $\\mathcal{P}$\n",
    "* Bernoulli $\\mathcal{BE}$\n",
    "* Binomial $\\mathcal{BI}$\n",
    "* Categorical $\\mathcal{M}$\n",
    "* Multinomial $\\mathcal{M}$\n",
    "\n",
    "### Continuous Multivariate (todo)\n",
    "* Multivariate Gaussian $\\mathcal{N}$\n",
    "* Dirichlet $\\mathcal{D}$\n",
    "\n",
    "### Continuous Matrix-variate (todo)\n",
    "* Wishart $\\mathcal{W}$\n",
    "* Inverse Wishart $\\mathcal{IW}$\n",
    "* Matrix Gaussian $\\mathcal{N}$\n"
   ]
  },
  {
   "cell_type": "markdown",
   "id": "59c0eb00",
   "metadata": {},
   "source": [
    "## Sampling from the standard uniform $\\mathcal{U}(0,1)$ \n",
    "\n",
    "For generating a single random number in the interval $[0, 1)$ we use the notation\n",
    "$$\n",
    "x_1 \\sim \\mathcal{U}(x; 0,1)\n",
    "$$\n",
    "\n",
    "In python, this is implemented as"
   ]
  },
  {
   "cell_type": "code",
   "execution_count": null,
   "id": "e3db53e9",
   "metadata": {},
   "outputs": [],
   "source": [
    "import numpy as np\n",
    "\n",
    "x_1 = np.random.rand()\n",
    "\n",
    "print(x_1)"
   ]
  },
  {
   "cell_type": "markdown",
   "id": "654f8543",
   "metadata": {},
   "source": [
    "We can also generate an array of realizations $x_i$ for $i=1 \\dots N$,\n",
    "$$\n",
    "x_i \\sim \\mathcal{U}(x; 0,1)\n",
    "$$"
   ]
  },
  {
   "cell_type": "code",
   "execution_count": null,
   "id": "25413290",
   "metadata": {},
   "outputs": [],
   "source": [
    "import numpy as np\n",
    "\n",
    "N = 5\n",
    "x = np.random.rand(N)\n",
    "\n",
    "print(x)\n"
   ]
  },
  {
   "cell_type": "markdown",
   "id": "d8b5956b",
   "metadata": {},
   "source": [
    "For large $N$, it is more informative to display an histogram of generated data: "
   ]
  },
  {
   "cell_type": "code",
   "execution_count": null,
   "id": "64accb43",
   "metadata": {},
   "outputs": [],
   "source": [
    "%matplotlib inline\n",
    "import numpy as np\n",
    "import matplotlib.pyplot as plt\n",
    "\n",
    "# Number of realizations\n",
    "N = 50000\n",
    "x = np.random.rand(N)\n",
    "\n",
    "plt.hist(x, bins=20)\n",
    "plt.xlabel('x')\n",
    "plt.ylabel('Count')\n",
    "plt.show()"
   ]
  },
  {
   "cell_type": "markdown",
   "id": "a005e630",
   "metadata": {},
   "source": [
    "$\\newcommand{\\indi}[1]{\\left[{#1}\\right]}$\n",
    "$\\newcommand{\\E}[1]{\\left\\langle{#1}\\right\\rangle}$\n",
    "\n",
    "\n",
    "We know that the density of the uniform distribution $\\mathcal{U}(0,1)$ is\n",
    "\n",
    "$$\n",
    "\\mathcal{U}(x; 0,1) = \\left\\{ \\begin{array}{cc}  1 & 0 \\leq x < 1 \\\\ 0 & \\text{otherwise} \\end{array}  \\right.\n",
    "$$\n",
    "or using the indicator notation\n",
    "$$\n",
    "\\mathcal{U}(x; 0,1) = \\left[ x \\in [0,1) \\right]\n",
    "$$\n",
    "\n",
    "#### Indicator function\n",
    "\n",
    "To write and manipulate discrete probability distributions in algebraic expression, the *indicator* function is useful:\n",
    "\n",
    "$$ \\left[x\\right] = \\left\\{ \\begin{array}{cc}\n",
    "                                  1 & x\\;\\;\\text{is true} \\\\\n",
    "                                  0 & x\\;\\;\\text{is false}\n",
    "                                \\end{array}\n",
    " \\right.$$\n",
    "This notation is also known as the Iverson's convention. "
   ]
  },
  {
   "cell_type": "markdown",
   "id": "2553c6bc",
   "metadata": {},
   "source": [
    "#### Aside: How to plot the density and the histogram onto the same plot? \n",
    "\n",
    "In one dimension, the histogram is simply the count of the data points that fall to a given interval. Mathematically, we have\n",
    "$j = 1\\dots J$ intervals where $B_j = [b_{j-1}, b_j]$ and $b_j$ are bin boundries such that $b_0 < b_1 < \\dots < b_J$. \n",
    "$$\n",
    "h(x) =  \\sum_{j=1}^J \\sum_{i=1}^N \\indi{x \\in B_j} \\indi{x_i \\in B_j}\n",
    "$$\n",
    "This expression, at the first sight looks somewhat more complicated than it really is. The indicator product just encodes the logical condition $x \\in B_j$ __and__ $x_i \\in B_j$. The sum over $j$ is just a convenient way of writing the result instead of specifying the histogram as a case by case basis for each bin. It is important to get used to such nested sums.\n",
    "\n",
    "When the density $p(x)$ is given, the probability that a single realization is in bin $B_j$ is given by\n",
    "$$\n",
    "\\Pr\\left\\{x \\in B_j\\right\\} = \\int_{B_j} dx p(x) = \\int_{-\\infty}^{\\infty} dx \\indi{x\\in B_j} p(x) = \\E{\\indi{x\\in B_j}}\n",
    "$$\n",
    "In other words, the probability is just the expectation of the indicator.\n",
    "\n",
    "The histogram can be written as follows \n",
    "$$\n",
    "h(x) =  \\sum_{j=1}^J \\indi{x \\in B_j} \\sum_{i=1}^N \\indi{x_i \\in B_j}\n",
    "$$\n",
    "\n",
    "We define the counts at each bin as \n",
    "$$\n",
    "c_j \\equiv \\sum_{i=1}^N \\indi{x_i \\in B_j}\n",
    "$$\n",
    "\n",
    "If all bins have the same width, i.e., $b_j - b_{j-1} = \\Delta$ for $\\forall j$, and if $\\Delta$ is sufficiently small we have\n",
    "\n",
    "$$\n",
    "\\E{\\indi{x\\in B_j}} \\approx p(b_{j-1}+\\Delta/2) \\Delta\n",
    "$$\n",
    "\n",
    "i.e., the probability is roughly the interval width times the density evaluated at the middle point of the bin. The expected value of the counts is\n",
    "\n",
    "$$\n",
    "\\E{c_j} = \\sum_{i=1}^N \\E{\\indi{x_i \\in B_j}} \\approx N \\Delta p(b_{j-1}+\\Delta/2) \n",
    "$$\n",
    "\n",
    "Hence, the density should be roughly \n",
    "\n",
    "$$\n",
    "p(b_{j-1}+\\Delta/2) \\approx \\frac{\\E{c_j} }{N \\Delta}\n",
    "$$\n",
    "\n",
    "The $N$ term is intuitive but the $\\Delta$ term is easily forgotten. When plotting the histograms on top of the corresponding densities, we should scale the normalized histogram ${ c_j }/{N}$ by dividing by $\\Delta$."
   ]
  }
 ],
 "metadata": {},
 "nbformat": 4,
 "nbformat_minor": 5
}
