{
 "cells": [
  {
   "cell_type": "markdown",
   "id": "5f652cef",
   "metadata": {},
   "source": [
    "# Summary Statistics - Examples\n",
    "In these exercises you'll use a real life medical dataset to learn how to obtain basic statistics from the data. This dataset comes from [Gluegrant](https://www.gluegrant.org/), an American project that aims to find a which genes are more important for the recovery of severely injured patients! \n",
    "\n",
    "## Dataset information\n",
    "\n",
    "The dataset is a medical dataset with 184 patients, distributed into 2 test groups where each group divided in 2, patients and control.\n",
    "The dataset is composed of clinical values:\n",
    "* Patient.id\n",
    "* Age\n",
    "* Sex\n",
    "* Group (to what group they belong)\n",
    "* Results (the outcome of the patient)\n",
    "* *And __~55k genes__*\n",
    "\n",
    "### Import Data"
   ]
  },
  {
   "cell_type": "code",
   "execution_count": null,
   "id": "ab53b429",
   "metadata": {},
   "outputs": [],
   "source": [
    "import pandas as pd\n",
    "import numpy as np\n",
    "from IPython.display import display, HTML\n",
    "%matplotlib inline\n",
    "import matplotlib.pyplot as plt\n",
    "import seaborn as sns\n",
    "\n",
    "CSS = \"\"\"\n",
    ".output {\n",
    "    flex-direction: row;\n",
    "}\n",
    "\"\"\"\n",
    "\n",
    "complete_data = pd.read_csv(\"../data/Exercises_Summary_Statistics_Data.csv\")\n",
    "complete_data = complete_data.set_index('Patient_id')"
   ]
  },
  {
   "cell_type": "markdown",
   "id": "240c880b",
   "metadata": {},
   "source": [
    "The dimensions of the dataset are"
   ]
  },
  {
   "cell_type": "code",
   "execution_count": null,
   "id": "ce1ed51f",
   "metadata": {},
   "outputs": [],
   "source": [
    "complete_data.shape"
   ]
  },
  {
   "cell_type": "markdown",
   "id": "ccd02f7a",
   "metadata": {},
   "source": [
    "Let's take a look:"
   ]
  },
  {
   "cell_type": "code",
   "execution_count": null,
   "id": "05fd7cc0",
   "metadata": {},
   "outputs": [],
   "source": [
    "complete_data.iloc[:, 0:15].head()"
   ]
  },
  {
   "cell_type": "markdown",
   "id": "ed9ea0fe",
   "metadata": {},
   "source": [
    "### For those without biological background\n",
    "\n",
    "You can consider that this dataset comes from a online shopping service like Amazon. Imagine that they were conducting an A/B test, where a small part of their website was changed, like the related items suggestions. You have 2 groups, the \"control group\" that is the group that is experiencing the original website (without modifications) and Group 1 that is using the website with the new suggestions.\n",
    "\n",
    "Consider also that the genes are products or product categories where the customers buy a certain ammount of products. Your objective now is to find if there is a significant difference between the __control group__ and __Group 1__."
   ]
  },
  {
   "cell_type": "markdown",
   "id": "a54276dc",
   "metadata": {},
   "source": [
    "## Analysis to perform\n",
    "* Basic statistics on the differences between patients of differnet sexes.\n",
    "* Check what happened to the patients.\n",
    "* Check which genes are more or less expressed in the patients.\n",
    "\n",
    "### Age statistics for each of the sexes"
   ]
  },
  {
   "cell_type": "code",
   "execution_count": null,
   "id": "594ac4ca",
   "metadata": {},
   "outputs": [],
   "source": [
    "male_patients = complete_data[complete_data.Sex == \"male\"]\n",
    "female_patients =  complete_data[complete_data.Sex == \"female\"]\n",
    "\n",
    "# Mean\n",
    "male_mean_age = male_patients.Age.mean()\n",
    "female_mean_age = female_patients.Age.mean()\n",
    "\n",
    "# Median\n",
    "male_median_age = male_patients.Age.median()\n",
    "female_median_age = female_patients.Age.median()\n",
    "\n",
    "# Std\n",
    "male_std_age = male_patients.Age.std()\n",
    "female_std_age = female_patients.Age.std()\n",
    "\n",
    "print(\"The male mean age is:\", male_mean_age, \"The median age is:\", male_median_age, \\\n",
    "      \"and the standard dev is:\", male_std_age)\n",
    "print(\"The female mean age is:\", female_mean_age, \"The median age is:\", female_median_age, \\\n",
    "      \"and the standard dev is:\", female_std_age)"
   ]
  },
  {
   "cell_type": "markdown",
   "id": "3c80ba35",
   "metadata": {},
   "source": [
    "### Quantiles"
   ]
  },
  {
   "cell_type": "code",
   "execution_count": null,
   "id": "bcc7df43",
   "metadata": {},
   "outputs": [],
   "source": [
    "display(male_patients.Age.quantile(q=[0,1/4,1/2,3/4,1]))\n",
    "display(female_patients.Age.quantile(q=[0,1/4,1/2,3/4,1]))"
   ]
  },
  {
   "cell_type": "markdown",
   "id": "3da0bd45",
   "metadata": {},
   "source": [
    "There is almost no difference from the sexes! Really strange to see such close numbers...\n",
    "\n",
    "### Check out what happened to the patients\n",
    "\n",
    "We have a column named _Results_ that has the information of what happened to the patient. It has both happy and tragic information. Let's first check out how many results there are."
   ]
  },
  {
   "cell_type": "code",
   "execution_count": null,
   "id": "e6769c0b",
   "metadata": {},
   "outputs": [],
   "source": [
    "#Lets first remove the control patients. Those patients don't hava a result since they weren't injured.\n",
    "patient_data = complete_data[~complete_data.Group.isin([\"Control\"])]\n",
    "patient_data.Result.unique()"
   ]
  },
  {
   "cell_type": "markdown",
   "id": "dd0cb66e",
   "metadata": {},
   "source": [
    "Ok, we have 8 types of outcomes for the patients. _One of them is control, ignore that, it's a problem with the dataset._\n",
    "\n",
    "Let's check the numbers for each of these outcomes."
   ]
  },
  {
   "cell_type": "code",
   "execution_count": null,
   "id": "50febf27",
   "metadata": {},
   "outputs": [],
   "source": [
    "patient_data.Result.value_counts()"
   ]
  },
  {
   "cell_type": "markdown",
   "id": "2a29acbb",
   "metadata": {},
   "source": [
    "Ok, so, good news, most of our patients survived the injury! :)\n",
    "\n",
    "### Is there any gene difference that makes these differences?\n",
    "\n",
    "Next step, is there any gene difference between the patients that survived the injury and those that didn't? \n",
    "\n",
    "(_Optional_): This question is very difficult to answer and in biostatistics we use something called survival analysis to model the patient's outcome according to a set of variables. Here we wont do that, but we will attempt to get a nice result!\n",
    "\n",
    "Let's check if there are any genes that have very different values in the patients that survived and the ones that didn't!"
   ]
  },
  {
   "cell_type": "code",
   "execution_count": null,
   "id": "25cb0336",
   "metadata": {},
   "outputs": [],
   "source": [
    "patients_death = patient_data[patient_data.Result == \"09: Death\"]\n",
    "patients_alive = patient_data[patient_data.Result != \"09: Death\"]\n",
    "\n",
    "gene_names = [\"Gene1\", \"Gene2\", \"Gene3\", \"Gene4\", \"Gene5\", \"Gene6\"]\n",
    "\n",
    "display(patients_death[gene_names].describe())\n",
    "display(patients_alive[gene_names].describe())\n",
    "\n",
    "HTML('<style>{}</style>'.format(CSS))"
   ]
  },
  {
   "cell_type": "markdown",
   "id": "d01efea4",
   "metadata": {},
   "source": [
    "Looking at the mean, **Gene4** seems to be a good one to predict the death of the patient, since it is much higher on the dead patients that in the alive ones.\n",
    "But the median (50% in the tables) say otherwise, I smell something fishy, let's see the plot of the data!"
   ]
  }
 ],
 "metadata": {},
 "nbformat": 4,
 "nbformat_minor": 5
}
