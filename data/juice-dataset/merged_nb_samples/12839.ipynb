{
 "cells": [
  {
   "cell_type": "code",
   "execution_count": null,
   "id": "747e011f",
   "metadata": {},
   "outputs": [],
   "source": [
    "import numpy as np\n",
    "import copy\n",
    "\n",
    "import matplotlib.pyplot as plt\n",
    "%matplotlib inline"
   ]
  },
  {
   "cell_type": "markdown",
   "id": "24159ab0",
   "metadata": {},
   "source": [
    "# Array"
   ]
  },
  {
   "cell_type": "markdown",
   "id": "0e5a7f4d",
   "metadata": {},
   "source": [
    "## Creation"
   ]
  },
  {
   "cell_type": "markdown",
   "id": "cd677516",
   "metadata": {},
   "source": [
    "1D array"
   ]
  },
  {
   "cell_type": "code",
   "execution_count": null,
   "id": "a5fda4cc",
   "metadata": {},
   "outputs": [],
   "source": [
    "np.array([1, 2, 3])"
   ]
  },
  {
   "cell_type": "markdown",
   "id": "c019b36b",
   "metadata": {},
   "source": [
    "2D array"
   ]
  },
  {
   "cell_type": "code",
   "execution_count": null,
   "id": "eda85dbb",
   "metadata": {},
   "outputs": [],
   "source": [
    "np.array([[1, 2, 3], [4, 5, 6]])"
   ]
  },
  {
   "cell_type": "markdown",
   "id": "ab5d856c",
   "metadata": {},
   "source": [
    "Array from python list"
   ]
  },
  {
   "cell_type": "code",
   "execution_count": null,
   "id": "dfb54c40",
   "metadata": {},
   "outputs": [],
   "source": [
    "a = [1, 2, 3, 4]\n",
    "np.array(a)"
   ]
  },
  {
   "cell_type": "markdown",
   "id": "4f10d4f3",
   "metadata": {},
   "source": [
    "Can not contain different type of objects (in contrast with lists)"
   ]
  },
  {
   "cell_type": "code",
   "execution_count": null,
   "id": "a477d575",
   "metadata": {},
   "outputs": [],
   "source": [
    "a = np.ones((4, 7))\n",
    "print(\"Matrix a:\\n\", a)\n",
    "print(\"\\nShape:\\n\", a.shape)\n",
    "print(\"\\nNumber of dimensions:\\n\", a.ndim)"
   ]
  },
  {
   "cell_type": "markdown",
   "id": "68c997ef",
   "metadata": {},
   "source": [
    "We can flatten multidimensional arrays"
   ]
  },
  {
   "cell_type": "code",
   "execution_count": null,
   "id": "501eb9a3",
   "metadata": {},
   "outputs": [],
   "source": [
    "b = a.flatten()\n",
    "print(\"Matrix b:\\n\", b)\n",
    "print(\"Shape:\\n\", b.shape)"
   ]
  },
  {
   "cell_type": "markdown",
   "id": "f824614d",
   "metadata": {},
   "source": [
    "Let's check that the size of the initial array and flattened one is equal"
   ]
  },
  {
   "cell_type": "code",
   "execution_count": null,
   "id": "6234e1fd",
   "metadata": {},
   "outputs": [],
   "source": [
    "a.shape[0] * a.shape[1] == b.shape[0]"
   ]
  },
  {
   "cell_type": "markdown",
   "id": "2725cb04",
   "metadata": {},
   "source": [
    "Reshape flattened array"
   ]
  },
  {
   "cell_type": "code",
   "execution_count": null,
   "id": "f7df0f4b",
   "metadata": {},
   "outputs": [],
   "source": [
    "b.reshape((14, 2))"
   ]
  },
  {
   "cell_type": "markdown",
   "id": "20360e7c",
   "metadata": {},
   "source": [
    "Can't do reshape if the size is not the same"
   ]
  },
  {
   "cell_type": "code",
   "execution_count": null,
   "id": "d18ef722",
   "metadata": {},
   "outputs": [],
   "source": [
    "b.reshape((10, 2))"
   ]
  },
  {
   "cell_type": "markdown",
   "id": "d3bf4988",
   "metadata": {},
   "source": [
    "Can ask array to have at least 2 dimensions"
   ]
  },
  {
   "cell_type": "code",
   "execution_count": null,
   "id": "636f0617",
   "metadata": {},
   "outputs": [],
   "source": [
    "print(\"Before:\\n\", b)\n",
    "c = np.atleast_2d(b)\n",
    "print(\"\\nAfter:\\n\", c)"
   ]
  },
  {
   "cell_type": "markdown",
   "id": "11164a7e",
   "metadata": {},
   "source": [
    "Delete fake dimension"
   ]
  },
  {
   "cell_type": "code",
   "execution_count": null,
   "id": "9a389a87",
   "metadata": {},
   "outputs": [],
   "source": [
    "X = np.arange(1, 20)\n",
    "print(X)"
   ]
  },
  {
   "cell_type": "markdown",
   "id": "a80baad1",
   "metadata": {},
   "source": [
    "\"Ideal\" parameters of regression"
   ]
  },
  {
   "cell_type": "code",
   "execution_count": null,
   "id": "77b30c9e",
   "metadata": {},
   "outputs": [],
   "source": [
    "w, b = 1.5, 3"
   ]
  },
  {
   "cell_type": "code",
   "execution_count": null,
   "id": "f4435506",
   "metadata": {},
   "outputs": [],
   "source": [
    "y = w * X + b\n",
    "print(y)"
   ]
  },
  {
   "cell_type": "markdown",
   "id": "3783ec0f",
   "metadata": {},
   "source": [
    "Add random gaussian noise"
   ]
  },
  {
   "cell_type": "code",
   "execution_count": null,
   "id": "82b89638",
   "metadata": {},
   "outputs": [],
   "source": [
    "np.random.seed(21)\n",
    "y += np.random.normal(loc=0.0, scale=3.0, size=len(X))\n",
    "print(y)"
   ]
  },
  {
   "cell_type": "code",
   "execution_count": null,
   "id": "8479f8ea",
   "metadata": {},
   "outputs": [],
   "source": [
    "plt.figure(figsize=(10, 8))\n",
    "plt.scatter(X, y, s=60, label=\"Available data\")\n",
    "plt.plot([0, 20], [b, w * 20 + b], \"r\", linewidth=2, label=\"Real dependency\")\n",
    "plt.xlim([0, 20])\n",
    "plt.ylim([0, 35])\n",
    "plt.legend(loc=\"lower right\", fontsize=14)\n",
    "plt.grid(\"on\")\n",
    "plt.show()"
   ]
  },
  {
   "cell_type": "markdown",
   "id": "eaba06e1",
   "metadata": {},
   "source": [
    "Reshape data such as first domension is objects and second dimension is features"
   ]
  },
  {
   "cell_type": "code",
   "execution_count": null,
   "id": "77e7eac0",
   "metadata": {},
   "outputs": [],
   "source": [
    "X = X.reshape(-1, 1)\n",
    "print(X)"
   ]
  },
  {
   "cell_type": "markdown",
   "id": "9494b371",
   "metadata": {},
   "source": [
    "Add \"shell\" bias feature"
   ]
  },
  {
   "cell_type": "code",
   "execution_count": null,
   "id": "7506d485",
   "metadata": {},
   "outputs": [],
   "source": [
    "X = np.c_[np.ones(X.shape[0]), X]\n",
    "print(X)"
   ]
  },
  {
   "cell_type": "markdown",
   "id": "f8657cc4",
   "metadata": {},
   "source": [
    "Generate random set of weights"
   ]
  },
  {
   "cell_type": "code",
   "execution_count": null,
   "id": "580afc4e",
   "metadata": {},
   "outputs": [],
   "source": [
    "a = np.array([1, 2, 3, 4])\n",
    "print(\"Array a:\\n\", a)"
   ]
  },
  {
   "cell_type": "code",
   "execution_count": null,
   "id": "9d666ab1",
   "metadata": {},
   "outputs": [],
   "source": [
    "b = copy.deepcopy(a)\n",
    "print(\"Array b:\\n\", b)"
   ]
  },
  {
   "cell_type": "code",
   "execution_count": null,
   "id": "dc893144",
   "metadata": {},
   "outputs": [],
   "source": [
    "b[1] = 7"
   ]
  },
  {
   "cell_type": "code",
   "execution_count": null,
   "id": "460fca0a",
   "metadata": {},
   "outputs": [],
   "source": [
    "print(\"Array a:\\n\", a)\n",
    "print(\"Array b:\\n\", b)"
   ]
  },
  {
   "cell_type": "markdown",
   "id": "7d0ea678",
   "metadata": {},
   "source": [
    "## Shaping & Broadcasting"
   ]
  },
  {
   "cell_type": "markdown",
   "id": "fc5ef0b3",
   "metadata": {},
   "source": [
    "Create an 1D array and see the shape and the number of dimensions"
   ]
  },
  {
   "cell_type": "code",
   "execution_count": null,
   "id": "480c20c9",
   "metadata": {},
   "outputs": [],
   "source": [
    "a = np.array([1, 2, 3, 4])\n",
    "print(\"Array a:\\n\", a)\n",
    "print(\"\\nShape:\\n\", a.shape)\n",
    "print(\"\\nNumber of dimensions:\\n\", a.ndim)"
   ]
  },
  {
   "cell_type": "markdown",
   "id": "e9c36aa5",
   "metadata": {},
   "source": [
    "The same for 2D"
   ]
  },
  {
   "cell_type": "markdown",
   "id": "7ca8fa7f",
   "metadata": {},
   "source": [
    "Can access first column as 1D array"
   ]
  },
  {
   "cell_type": "code",
   "execution_count": null,
   "id": "8bbae94e",
   "metadata": {},
   "outputs": [],
   "source": [
    "a[:, 0]"
   ]
  },
  {
   "cell_type": "markdown",
   "id": "3397fae8",
   "metadata": {},
   "source": [
    "Can access by negative index"
   ]
  },
  {
   "cell_type": "code",
   "execution_count": null,
   "id": "c87a35c6",
   "metadata": {},
   "outputs": [],
   "source": [
    "print(a[-1])\n",
    "print(a[4])"
   ]
  },
  {
   "cell_type": "markdown",
   "id": "cd730e7a",
   "metadata": {},
   "source": [
    "Can access by boolean array"
   ]
  },
  {
   "cell_type": "code",
   "execution_count": null,
   "id": "c819e54e",
   "metadata": {},
   "outputs": [],
   "source": [
    "idx = a == 1.\n",
    "print(idx)"
   ]
  },
  {
   "cell_type": "code",
   "execution_count": null,
   "id": "f4fb2384",
   "metadata": {},
   "outputs": [],
   "source": [
    "a[idx]"
   ]
  },
  {
   "cell_type": "markdown",
   "id": "a4d8abef",
   "metadata": {},
   "source": [
    "One more example of boolean access"
   ]
  },
  {
   "cell_type": "code",
   "execution_count": null,
   "id": "dab984d0",
   "metadata": {},
   "outputs": [],
   "source": [
    "b = np.arange(10)\n",
    "print(b)"
   ]
  },
  {
   "cell_type": "code",
   "execution_count": null,
   "id": "58090270",
   "metadata": {},
   "outputs": [],
   "source": [
    "idx = (b >= 1) * (b <= 7)\n",
    "print(idx)"
   ]
  },
  {
   "cell_type": "code",
   "execution_count": null,
   "id": "90a39cc5",
   "metadata": {},
   "outputs": [],
   "source": [
    "b[idx]"
   ]
  },
  {
   "cell_type": "markdown",
   "id": "d9789446",
   "metadata": {},
   "source": [
    "Also can access with array of indices"
   ]
  },
  {
   "cell_type": "code",
   "execution_count": null,
   "id": "aa32c672",
   "metadata": {},
   "outputs": [],
   "source": [
    "idx_sorted = np.argsort(b)\n",
    "print(idx_sorted)"
   ]
  },
  {
   "cell_type": "code",
   "execution_count": null,
   "id": "fbe59b0c",
   "metadata": {},
   "outputs": [],
   "source": [
    "b[idx_sorted]"
   ]
  },
  {
   "cell_type": "markdown",
   "id": "506c4b69",
   "metadata": {},
   "source": [
    "## Matrix calculations"
   ]
  },
  {
   "cell_type": "code",
   "execution_count": null,
   "id": "bfe980c2",
   "metadata": {},
   "outputs": [],
   "source": [
    "b = np.full((3, 7), 2)\n",
    "print(\"Matrix a:\\n\", a)\n",
    "print(\"\\nMatrix b:\\n\", b)"
   ]
  },
  {
   "cell_type": "markdown",
   "id": "7e66b2f9",
   "metadata": {},
   "source": [
    "Matrix product of two matrices with aligned sizes"
   ]
  },
  {
   "cell_type": "code",
   "execution_count": null,
   "id": "0023f551",
   "metadata": {},
   "outputs": [],
   "source": [
    "np.dot(a, b)"
   ]
  },
  {
   "cell_type": "code",
   "execution_count": null,
   "id": "6cb7bb2e",
   "metadata": {},
   "outputs": [],
   "source": [
    "a.dot(b)"
   ]
  },
  {
   "cell_type": "markdown",
   "id": "f4acee45",
   "metadata": {},
   "source": [
    "Can not do it because dimensions are not aligned"
   ]
  },
  {
   "cell_type": "code",
   "execution_count": null,
   "id": "1faab9c7",
   "metadata": {},
   "outputs": [],
   "source": [
    "b.dot(a)"
   ]
  },
  {
   "cell_type": "code",
   "execution_count": null,
   "id": "a3a7aec3",
   "metadata": {},
   "outputs": [],
   "source": [
    "print(\"Matrix a:\\n\", a)"
   ]
  },
  {
   "cell_type": "code",
   "execution_count": null,
   "id": "51dde2cb",
   "metadata": {},
   "outputs": [],
   "source": [
    "v = np.array([7, 2, 3])\n",
    "print(\"Vector v:\\n\", v)"
   ]
  },
  {
   "cell_type": "markdown",
   "id": "629328f1",
   "metadata": {},
   "source": [
    "Matrix-vector product"
   ]
  },
  {
   "cell_type": "code",
   "execution_count": null,
   "id": "c0331f5c",
   "metadata": {},
   "outputs": [],
   "source": [
    "a.dot(a_inv)"
   ]
  },
  {
   "cell_type": "markdown",
   "id": "aff81228",
   "metadata": {},
   "source": [
    "# Examples"
   ]
  },
  {
   "cell_type": "markdown",
   "id": "ca0dd31e",
   "metadata": {},
   "source": [
    "## Random search linear regression"
   ]
  },
  {
   "cell_type": "markdown",
   "id": "babe7e79",
   "metadata": {},
   "source": [
    "Generate data artificially"
   ]
  },
  {
   "cell_type": "code",
   "execution_count": null,
   "id": "98f983f0",
   "metadata": {},
   "outputs": [],
   "source": [
    "np.dot(a, v)"
   ]
  },
  {
   "cell_type": "markdown",
   "id": "845ef72b",
   "metadata": {},
   "source": [
    "Vector norms"
   ]
  },
  {
   "cell_type": "code",
   "execution_count": null,
   "id": "a59956c0",
   "metadata": {},
   "outputs": [],
   "source": [
    "def naive_norm(x):\n",
    "    v_sum = 0.\n",
    "    for i in x:\n",
    "        v_sum += i * i\n",
    "    return np.sqrt(v_sum)"
   ]
  },
  {
   "cell_type": "code",
   "execution_count": null,
   "id": "ac252f53",
   "metadata": {},
   "outputs": [],
   "source": [
    "def numpy_norm(x):\n",
    "    return np.sqrt(np.sum(x ** 2))"
   ]
  },
  {
   "cell_type": "code",
   "execution_count": null,
   "id": "cec1b2c6",
   "metadata": {},
   "outputs": [],
   "source": [
    "def bultin_norm(x):\n",
    "    return np.linalg.norm(x, 2)"
   ]
  },
  {
   "cell_type": "markdown",
   "id": "f9b20954",
   "metadata": {},
   "source": [
    "Let's define huge random vector"
   ]
  },
  {
   "cell_type": "code",
   "execution_count": null,
   "id": "03d4aaf9",
   "metadata": {},
   "outputs": [],
   "source": [
    "np.random.seed(21)\n",
    "v = np.random.rand(int(1e8))"
   ]
  },
  {
   "cell_type": "markdown",
   "id": "45bf504b",
   "metadata": {},
   "source": [
    "Check times and consistency"
   ]
  },
  {
   "cell_type": "code",
   "execution_count": null,
   "id": "e75197e5",
   "metadata": {},
   "outputs": [],
   "source": [
    "print(\"Naive:\")\n",
    "%time naive_norm(v)"
   ]
  },
  {
   "cell_type": "code",
   "execution_count": null,
   "id": "3e1ce43d",
   "metadata": {},
   "outputs": [],
   "source": [
    "print(\"\\nNumpy:\")\n",
    "%time numpy_norm(v)"
   ]
  },
  {
   "cell_type": "code",
   "execution_count": null,
   "id": "1c0e97bc",
   "metadata": {},
   "outputs": [],
   "source": [
    "print(\"\\nBultin:\")\n",
    "%time bultin_norm(v)"
   ]
  },
  {
   "cell_type": "markdown",
   "id": "adb4e8d7",
   "metadata": {},
   "source": [
    "Inverse matrix for square matrix $\\text{A}$ is square matrix $\\text{B}$ such that:\n",
    "\n",
    "$$\n",
    "\\text{A} \\cdot \\text{B} = \\text{B} \\cdot \\text{A} = \\text{E}\n",
    "$$\n",
    "\n",
    "where $\\text{E}$ is identity matrix of the same size"
   ]
  },
  {
   "cell_type": "code",
   "execution_count": null,
   "id": "10ff3e19",
   "metadata": {},
   "outputs": [],
   "source": [
    "np.random.rand(2, 4)"
   ]
  },
  {
   "cell_type": "markdown",
   "id": "13bf7aa1",
   "metadata": {},
   "source": [
    "Copying"
   ]
  },
  {
   "cell_type": "code",
   "execution_count": null,
   "id": "42a72b7e",
   "metadata": {},
   "outputs": [],
   "source": [
    "b = a\n",
    "print(\"Array b:\\n\", b)"
   ]
  },
  {
   "cell_type": "markdown",
   "id": "c3e60fd8",
   "metadata": {},
   "source": [
    "Elementwise product"
   ]
  },
  {
   "cell_type": "code",
   "execution_count": null,
   "id": "a151c7a1",
   "metadata": {},
   "outputs": [],
   "source": [
    "a * b"
   ]
  },
  {
   "cell_type": "markdown",
   "id": "8feeea96",
   "metadata": {},
   "source": [
    "Elementwise disision"
   ]
  },
  {
   "cell_type": "code",
   "execution_count": null,
   "id": "3c112e13",
   "metadata": {},
   "outputs": [],
   "source": [
    "a / b"
   ]
  },
  {
   "cell_type": "markdown",
   "id": "ea18c25c",
   "metadata": {},
   "source": [
    "Take the global maximum"
   ]
  },
  {
   "cell_type": "code",
   "execution_count": null,
   "id": "ad5163d1",
   "metadata": {},
   "outputs": [],
   "source": [
    "np.max(a)"
   ]
  },
  {
   "cell_type": "markdown",
   "id": "8fe166f7",
   "metadata": {},
   "source": [
    "Take minimum along first axes"
   ]
  },
  {
   "cell_type": "code",
   "execution_count": null,
   "id": "10ac8475",
   "metadata": {},
   "outputs": [],
   "source": [
    "np.min(a, axis=0)"
   ]
  },
  {
   "cell_type": "markdown",
   "id": "b92f7036",
   "metadata": {},
   "source": [
    "Take mean value along second axes and preserve number of dimensions"
   ]
  },
  {
   "cell_type": "code",
   "execution_count": null,
   "id": "a6577694",
   "metadata": {},
   "outputs": [],
   "source": [
    "np.mean(a, axis=1, keepdims=True)"
   ]
  },
  {
   "cell_type": "markdown",
   "id": "914fb22d",
   "metadata": {},
   "source": [
    "Random vector"
   ]
  },
  {
   "cell_type": "code",
   "execution_count": null,
   "id": "19efee67",
   "metadata": {},
   "outputs": [],
   "source": [
    "c.squeeze()"
   ]
  },
  {
   "cell_type": "markdown",
   "id": "efd77104",
   "metadata": {},
   "source": [
    "## Indexing"
   ]
  },
  {
   "cell_type": "markdown",
   "id": "a19672c9",
   "metadata": {},
   "source": [
    "Let's define identity matrix"
   ]
  },
  {
   "cell_type": "code",
   "execution_count": null,
   "id": "c7eb9d75",
   "metadata": {},
   "outputs": [],
   "source": [
    "a = np.eye(5)\n",
    "print(\"Matrix a:\\n\", a)"
   ]
  },
  {
   "cell_type": "markdown",
   "id": "1a681d8d",
   "metadata": {},
   "source": [
    "Can access single element"
   ]
  },
  {
   "cell_type": "code",
   "execution_count": null,
   "id": "4ccc3015",
   "metadata": {},
   "outputs": [],
   "source": [
    "a[1, 1]"
   ]
  },
  {
   "cell_type": "markdown",
   "id": "2eb5bf47",
   "metadata": {},
   "source": [
    "Can access first second and third row"
   ]
  },
  {
   "cell_type": "code",
   "execution_count": null,
   "id": "e2271b80",
   "metadata": {},
   "outputs": [],
   "source": [
    "np.random.seed(21)\n",
    "sampled_weights = np.random.random(size=(100, 2)) * 20 - 10"
   ]
  },
  {
   "cell_type": "code",
   "execution_count": null,
   "id": "fe791678",
   "metadata": {},
   "outputs": [],
   "source": [
    "print(sampled_weights[:5])"
   ]
  },
  {
   "cell_type": "code",
   "execution_count": null,
   "id": "584e685e",
   "metadata": {},
   "outputs": [],
   "source": [
    "X.shape"
   ]
  },
  {
   "cell_type": "code",
   "execution_count": null,
   "id": "37c5f247",
   "metadata": {},
   "outputs": [],
   "source": [
    "sampled_weights.shape"
   ]
  },
  {
   "cell_type": "markdown",
   "id": "08609d6d",
   "metadata": {},
   "source": [
    "Generate predictions for each weight vector"
   ]
  },
  {
   "cell_type": "code",
   "execution_count": null,
   "id": "37bff71d",
   "metadata": {},
   "outputs": [],
   "source": [
    "a = [1, \"asd\", (1, 2)]\n",
    "np.array(a)"
   ]
  },
  {
   "cell_type": "markdown",
   "id": "42e32084",
   "metadata": {},
   "source": [
    "Matrix of zeros"
   ]
  },
  {
   "cell_type": "code",
   "execution_count": null,
   "id": "93256d9c",
   "metadata": {},
   "outputs": [],
   "source": [
    "np.zeros((2, 3))"
   ]
  },
  {
   "cell_type": "markdown",
   "id": "078a76c8",
   "metadata": {},
   "source": [
    "Check the type of elements in matrix"
   ]
  },
  {
   "cell_type": "code",
   "execution_count": null,
   "id": "820b3296",
   "metadata": {},
   "outputs": [],
   "source": [
    "idx = np.array([0, 4, -2])\n",
    "print(idx)"
   ]
  },
  {
   "cell_type": "markdown",
   "id": "4e5f1349",
   "metadata": {},
   "source": [
    "Can access with arrays of indices (for each axes) for multidimensional case"
   ]
  },
  {
   "cell_type": "code",
   "execution_count": null,
   "id": "c2b3c15f",
   "metadata": {},
   "outputs": [],
   "source": [
    "rows = np.arange(a.shape[0])\n",
    "columns = np.array([0, 1, 1, 3, 3])\n",
    "a[rows, columns]"
   ]
  },
  {
   "cell_type": "markdown",
   "id": "a804a0a3",
   "metadata": {},
   "source": [
    "# Arithmetics"
   ]
  },
  {
   "cell_type": "markdown",
   "id": "639a1d76",
   "metadata": {},
   "source": [
    "## Basics"
   ]
  },
  {
   "cell_type": "code",
   "execution_count": null,
   "id": "9180088a",
   "metadata": {},
   "outputs": [],
   "source": [
    "a = np.array([[1,2,3], [4,5,6], [7,8,9], [10, 11, 12]])\n",
    "print(\"Matrix a:\\n\", a)"
   ]
  },
  {
   "cell_type": "markdown",
   "id": "ff08d5a3",
   "metadata": {},
   "source": [
    "Add constant to all elements"
   ]
  },
  {
   "cell_type": "code",
   "execution_count": null,
   "id": "414495c5",
   "metadata": {},
   "outputs": [],
   "source": [
    "a + 1"
   ]
  },
  {
   "cell_type": "markdown",
   "id": "9235fb48",
   "metadata": {},
   "source": [
    "Multiply by constant each element"
   ]
  },
  {
   "cell_type": "code",
   "execution_count": null,
   "id": "3e42bb7a",
   "metadata": {},
   "outputs": [],
   "source": [
    "a * 2"
   ]
  },
  {
   "cell_type": "markdown",
   "id": "2d24fe0d",
   "metadata": {},
   "source": [
    "Raise to the power each element"
   ]
  },
  {
   "cell_type": "code",
   "execution_count": null,
   "id": "45ee7930",
   "metadata": {},
   "outputs": [],
   "source": [
    "a ** 5"
   ]
  },
  {
   "cell_type": "markdown",
   "id": "9ee876c0",
   "metadata": {},
   "source": [
    "Exponentiate each element"
   ]
  },
  {
   "cell_type": "code",
   "execution_count": null,
   "id": "6ee53f4e",
   "metadata": {},
   "outputs": [],
   "source": [
    "np.exp(a)"
   ]
  },
  {
   "cell_type": "markdown",
   "id": "f61c3552",
   "metadata": {},
   "source": [
    "Take logarithm of each element"
   ]
  },
  {
   "cell_type": "code",
   "execution_count": null,
   "id": "4d0d40cf",
   "metadata": {},
   "outputs": [],
   "source": [
    "np.log(a)"
   ]
  },
  {
   "cell_type": "markdown",
   "id": "62e9c271",
   "metadata": {},
   "source": [
    "Take square root of each element"
   ]
  },
  {
   "cell_type": "code",
   "execution_count": null,
   "id": "242ad9ac",
   "metadata": {},
   "outputs": [],
   "source": [
    "np.sqrt(a)"
   ]
  },
  {
   "cell_type": "markdown",
   "id": "24d119c0",
   "metadata": {},
   "source": [
    "Let's define one more matrix with the same shape"
   ]
  },
  {
   "cell_type": "code",
   "execution_count": null,
   "id": "4411949f",
   "metadata": {},
   "outputs": [],
   "source": [
    "np.random.seed(21)\n",
    "b = np.random.randint(low=5, high=15, size=10)\n",
    "print(\"Vector b:\\n\", b)"
   ]
  },
  {
   "cell_type": "markdown",
   "id": "7b87159f",
   "metadata": {},
   "source": [
    "Index at which minimum value is reached"
   ]
  },
  {
   "cell_type": "code",
   "execution_count": null,
   "id": "0f6691e0",
   "metadata": {},
   "outputs": [],
   "source": [
    "a = np.array([[1, 2], [5, 6]])\n",
    "print(\"Matrix a:\\n\", a)"
   ]
  },
  {
   "cell_type": "code",
   "execution_count": null,
   "id": "688db6b4",
   "metadata": {},
   "outputs": [],
   "source": [
    "a_inv = np.linalg.inv(a)\n",
    "print(\"Inverse of a:\\n\", a_inv )"
   ]
  },
  {
   "cell_type": "markdown",
   "id": "6c4f9c53",
   "metadata": {},
   "source": [
    "Indeed"
   ]
  },
  {
   "cell_type": "code",
   "execution_count": null,
   "id": "1b85685c",
   "metadata": {},
   "outputs": [],
   "source": [
    "b = np.full(a.shape, 4)\n",
    "print(\"Matrix b:\\n\", b)\n",
    "print(\"\\nMatrix a:\\n\", a)"
   ]
  },
  {
   "cell_type": "markdown",
   "id": "ec99d358",
   "metadata": {},
   "source": [
    "Elementwise sum"
   ]
  },
  {
   "cell_type": "code",
   "execution_count": null,
   "id": "1d9f8d2c",
   "metadata": {},
   "outputs": [],
   "source": [
    "a + b"
   ]
  },
  {
   "cell_type": "code",
   "execution_count": null,
   "id": "65f002ef",
   "metadata": {},
   "outputs": [],
   "source": [
    "print(a[1:3, :])\n",
    "print(\"\")\n",
    "print(a[1:3])"
   ]
  },
  {
   "cell_type": "markdown",
   "id": "3cc87a3b",
   "metadata": {},
   "source": [
    "Can access first column as a matrix (**slicing**)"
   ]
  },
  {
   "cell_type": "code",
   "execution_count": null,
   "id": "8f63bd13",
   "metadata": {},
   "outputs": [],
   "source": [
    "a[:, :1]"
   ]
  },
  {
   "cell_type": "code",
   "execution_count": null,
   "id": "d226c30f",
   "metadata": {},
   "outputs": [],
   "source": [
    "np.argmin(b)"
   ]
  },
  {
   "cell_type": "code",
   "execution_count": null,
   "id": "1bc1fdc5",
   "metadata": {},
   "outputs": [],
   "source": [
    "np.min(b) == b[3]"
   ]
  },
  {
   "cell_type": "markdown",
   "id": "882a9c3c",
   "metadata": {},
   "source": [
    "Sort array in ascending order"
   ]
  },
  {
   "cell_type": "code",
   "execution_count": null,
   "id": "8bf4cffb",
   "metadata": {},
   "outputs": [],
   "source": [
    "np.sort(b)"
   ]
  },
  {
   "cell_type": "markdown",
   "id": "a817b99e",
   "metadata": {},
   "source": [
    "Sort array in ascending order and return indexes of elements in sorted array"
   ]
  },
  {
   "cell_type": "code",
   "execution_count": null,
   "id": "ff93356f",
   "metadata": {},
   "outputs": [],
   "source": [
    "preds = np.dot(sampled_weights, X.T)"
   ]
  },
  {
   "cell_type": "code",
   "execution_count": null,
   "id": "7b0490ad",
   "metadata": {},
   "outputs": [],
   "source": [
    "print(\"Predictions shape:\\n\", preds.shape)\n",
    "print(\"\\nPredictions:\\n\", preds)"
   ]
  },
  {
   "cell_type": "markdown",
   "id": "169adef9",
   "metadata": {},
   "source": [
    "Calculate errors"
   ]
  },
  {
   "cell_type": "code",
   "execution_count": null,
   "id": "c3f146e5",
   "metadata": {},
   "outputs": [],
   "source": [
    "errors = np.dot(sampled_weights, X.T) - y"
   ]
  },
  {
   "cell_type": "markdown",
   "id": "4dc0931a",
   "metadata": {},
   "source": [
    "MSE"
   ]
  },
  {
   "cell_type": "code",
   "execution_count": null,
   "id": "7f69f947",
   "metadata": {},
   "outputs": [],
   "source": [
    "mses = np.mean((errors)** 2, axis = 1)\n",
    "print(mses.shape)\n",
    "print(mses[:5])"
   ]
  },
  {
   "cell_type": "markdown",
   "id": "a0315569",
   "metadata": {},
   "source": [
    "Find best weight"
   ]
  },
  {
   "cell_type": "code",
   "execution_count": null,
   "id": "12c8f760",
   "metadata": {},
   "outputs": [],
   "source": [
    "np.zeros((2, 3)).dtype"
   ]
  },
  {
   "cell_type": "markdown",
   "id": "3bf305e4",
   "metadata": {},
   "source": [
    "Specify the type of elements in matrix"
   ]
  },
  {
   "cell_type": "code",
   "execution_count": null,
   "id": "9270304e",
   "metadata": {},
   "outputs": [],
   "source": [
    "np.zeros((2, 3), dtype=np.int)"
   ]
  },
  {
   "cell_type": "markdown",
   "id": "c2997603",
   "metadata": {},
   "source": [
    "Matrix of all 1's"
   ]
  },
  {
   "cell_type": "code",
   "execution_count": null,
   "id": "45015c40",
   "metadata": {},
   "outputs": [],
   "source": [
    "np.ones((5, 6))"
   ]
  },
  {
   "cell_type": "markdown",
   "id": "f877b837",
   "metadata": {},
   "source": [
    "Matrix of all 7's"
   ]
  },
  {
   "cell_type": "code",
   "execution_count": null,
   "id": "c9965ad6",
   "metadata": {},
   "outputs": [],
   "source": [
    "np.full((5, 6), 7)"
   ]
  },
  {
   "cell_type": "markdown",
   "id": "32f30ff7",
   "metadata": {},
   "source": [
    "Identitry matrix"
   ]
  },
  {
   "cell_type": "code",
   "execution_count": null,
   "id": "fc08c3ba",
   "metadata": {},
   "outputs": [],
   "source": [
    "np.eye(4)"
   ]
  },
  {
   "cell_type": "markdown",
   "id": "7b97bae4",
   "metadata": {},
   "source": [
    "Random matrix"
   ]
  }
 ],
 "metadata": {},
 "nbformat": 4,
 "nbformat_minor": 5
}
