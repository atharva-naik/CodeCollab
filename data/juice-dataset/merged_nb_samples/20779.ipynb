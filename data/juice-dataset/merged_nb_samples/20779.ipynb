{
 "cells": [
  {
   "cell_type": "markdown",
   "id": "d29b4798",
   "metadata": {},
   "source": [
    "# Simple MVP example"
   ]
  },
  {
   "cell_type": "code",
   "execution_count": null,
   "id": "e1ec2ced",
   "metadata": {},
   "outputs": [],
   "source": [
    "from __future__ import print_function\n",
    "from IPython.display import SVG"
   ]
  },
  {
   "cell_type": "markdown",
   "id": "6bf6142a",
   "metadata": {},
   "source": [
    "## Mid-level API"
   ]
  },
  {
   "cell_type": "code",
   "execution_count": null,
   "id": "3b18be89",
   "metadata": {},
   "outputs": [],
   "source": [
    "from pyvpsolver import VPSolver, MVP, AFG, MPS"
   ]
  },
  {
   "cell_type": "markdown",
   "id": "bcf13558",
   "metadata": {},
   "source": [
    "Define a MVP instance:"
   ]
  },
  {
   "cell_type": "code",
   "execution_count": null,
   "id": "5c5d5496",
   "metadata": {},
   "outputs": [],
   "source": [
    "Ws = [(100, 75), (75, 50)]\n",
    "Cs = [3, 2]\n",
    "Qs = [-1, -1]\n",
    "ws = [\n",
    "    [(75, 50)], \n",
    "    [(40, 15), (25, 25)]\n",
    "]\n",
    "b = [2, 1]\n",
    "instance = MVP(Ws, Cs, Qs, ws, b)"
   ]
  },
  {
   "cell_type": "markdown",
   "id": "6fb90110",
   "metadata": {},
   "source": [
    "Build an arc-flow graph for the MVP instance:"
   ]
  },
  {
   "cell_type": "code",
   "execution_count": null,
   "id": "d5cfd655",
   "metadata": {},
   "outputs": [],
   "source": [
    "afg = AFG(instance)"
   ]
  },
  {
   "cell_type": "markdown",
   "id": "e66c992d",
   "metadata": {},
   "source": [
    "Draw the arc-flow graph for the MVP instance:"
   ]
  },
  {
   "cell_type": "code",
   "execution_count": null,
   "id": "e8f2bb87",
   "metadata": {},
   "outputs": [],
   "source": [
    "afg.draw(\"graph_mvp.svg\", graph_attrs={\"size\": \"8,8\"})\n",
    "SVG(\"graph_mvp.svg\")"
   ]
  },
  {
   "cell_type": "code",
   "execution_count": null,
   "id": "676b2b83",
   "metadata": {},
   "outputs": [],
   "source": [
    "afg.draw(\"graph_mvp_lpaths.svg\", lpaths=True, graph_attrs={\"size\": \"8,8\"})\n",
    "SVG(\"graph_mvp_lpaths.svg\")"
   ]
  },
  {
   "cell_type": "markdown",
   "id": "95978d65",
   "metadata": {},
   "source": [
    "Solve the MVP instance:"
   ]
  },
  {
   "cell_type": "code",
   "execution_count": null,
   "id": "0bbaee6f",
   "metadata": {},
   "outputs": [],
   "source": [
    "output, solution = VPSolver.script(\"vpsolver_glpk.sh\", instance)"
   ]
  },
  {
   "cell_type": "code",
   "execution_count": null,
   "id": "59b836d0",
   "metadata": {},
   "outputs": [],
   "source": [
    "obj, patterns = solution\n",
    "print(\"Obj: {}\".format(obj))\n",
    "print(\"Solution: {}\".format(patterns))"
   ]
  },
  {
   "cell_type": "markdown",
   "id": "7f141405",
   "metadata": {},
   "source": [
    "Pretty-print the MVP solution:"
   ]
  },
  {
   "cell_type": "code",
   "execution_count": null,
   "id": "120fe214",
   "metadata": {},
   "outputs": [],
   "source": [
    "from pyvpsolver.solvers import mvpsolver\n",
    "mvpsolver.print_solution(solution)"
   ]
  },
  {
   "cell_type": "markdown",
   "id": "6545e584",
   "metadata": {},
   "source": [
    "## High-level API"
   ]
  },
  {
   "cell_type": "code",
   "execution_count": null,
   "id": "ebcd8273",
   "metadata": {},
   "outputs": [],
   "source": [
    "from pyvpsolver.solvers import mvpsolver"
   ]
  },
  {
   "cell_type": "markdown",
   "id": "03a3c93b",
   "metadata": {},
   "source": [
    "Solve the MVP instance using the high level API:"
   ]
  }
 ],
 "metadata": {},
 "nbformat": 4,
 "nbformat_minor": 5
}
