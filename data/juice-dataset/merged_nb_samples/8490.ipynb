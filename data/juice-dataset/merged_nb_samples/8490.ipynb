{
 "cells": [
  {
   "cell_type": "markdown",
   "id": "dcdcdbc6",
   "metadata": {},
   "source": [
    "## String Manipulation"
   ]
  },
  {
   "cell_type": "markdown",
   "id": "cd68b555",
   "metadata": {},
   "source": [
    "Using Python to do deal with string operation, very basic but high frequency"
   ]
  },
  {
   "cell_type": "markdown",
   "id": "2c6a79e2",
   "metadata": {},
   "source": [
    "#### get rid of space and other symbol"
   ]
  },
  {
   "cell_type": "code",
   "execution_count": null,
   "id": "31ed2aaa",
   "metadata": {},
   "outputs": [],
   "source": [
    "s = ' hello, world!'\n",
    "print (s.strip())\n",
    "print (s.lstrip(' hello, '))\n",
    "print (s.rstrip('!'))"
   ]
  },
  {
   "cell_type": "markdown",
   "id": "e931958f",
   "metadata": {},
   "source": [
    "#### concate string"
   ]
  },
  {
   "cell_type": "code",
   "execution_count": null,
   "id": "3714ad98",
   "metadata": {},
   "outputs": [],
   "source": [
    "sStr1 = 'strcat'\n",
    "sStr2 = 'append'\n",
    "sStr1 += sStr2\n",
    "print (sStr1)"
   ]
  },
  {
   "cell_type": "markdown",
   "id": "f70e1106",
   "metadata": {},
   "source": [
    "#### Find string"
   ]
  },
  {
   "cell_type": "code",
   "execution_count": null,
   "id": "ee62458a",
   "metadata": {},
   "outputs": [],
   "source": [
    "# < 0 means does not find it\n",
    "sStr1 = 'strchr'\n",
    "sStr2 = 'r'\n",
    "nPos = sStr1.index(sStr2)\n",
    "print (nPos)"
   ]
  },
  {
   "cell_type": "markdown",
   "id": "5ec87f1d",
   "metadata": {},
   "source": [
    "#### Compare string"
   ]
  },
  {
   "cell_type": "code",
   "execution_count": null,
   "id": "c8e6b5aa",
   "metadata": {},
   "outputs": [],
   "source": [
    "sStr1 = 'strchr'\n",
    "sStr2 = 'strch'\n",
    "print (sStr1 == sStr2)"
   ]
  },
  {
   "cell_type": "markdown",
   "id": "e539801a",
   "metadata": {},
   "source": [
    "#### change to upper case and lower case"
   ]
  },
  {
   "cell_type": "code",
   "execution_count": null,
   "id": "33f8564c",
   "metadata": {},
   "outputs": [],
   "source": [
    "sStr1 = 'JCstrlwr'\n",
    "sStr1 = sStr1.upper()\n",
    "#sStr1 = sStr1.lower()\n",
    "print (sStr1)\n",
    "sStr1 = sStr1.lower()\n",
    "print(sStr1)"
   ]
  },
  {
   "cell_type": "markdown",
   "id": "45866f86",
   "metadata": {},
   "source": [
    "#### reverse string"
   ]
  },
  {
   "cell_type": "code",
   "execution_count": null,
   "id": "36d6533d",
   "metadata": {},
   "outputs": [],
   "source": [
    "sStr1 = 'abcdefg'\n",
    "sStr1 = sStr1[::-1]\n",
    "print (sStr1)"
   ]
  },
  {
   "cell_type": "markdown",
   "id": "a35846f1",
   "metadata": {},
   "source": [
    "#### find string"
   ]
  },
  {
   "cell_type": "code",
   "execution_count": null,
   "id": "c21871d1",
   "metadata": {},
   "outputs": [],
   "source": [
    "sStr1 = 'abcdefg'\n",
    "sStr2 = 'cde'\n",
    "print(sStr1.find(sStr2))"
   ]
  },
  {
   "cell_type": "markdown",
   "id": "92abb801",
   "metadata": {},
   "source": [
    "#### split string"
   ]
  },
  {
   "cell_type": "code",
   "execution_count": null,
   "id": "db91d733",
   "metadata": {},
   "outputs": [],
   "source": [
    "sStr1 = 'ab,cde,fgh,ijk'\n",
    "sStr2 = ','\n",
    "sStr1 = sStr1[sStr1.find(sStr2) + 1:]\n",
    "print (sStr1)\n",
    "s = 'ab,cde,fgh,ijk'\n",
    "print(s.split(','))"
   ]
  },
  {
   "cell_type": "markdown",
   "id": "191d28fe",
   "metadata": {},
   "source": [
    "#### find the most frequent word in the string"
   ]
  },
  {
   "cell_type": "code",
   "execution_count": null,
   "id": "bd36f522",
   "metadata": {},
   "outputs": [],
   "source": [
    "#version 1\n",
    "import re\n",
    "from collections import Counter\n",
    "\n",
    "def get_max_value_v1(text):\n",
    "    text = text.lower()\n",
    "    result = re.findall('[a-zA-Z]', text)  # 去掉列表中的符号符\n",
    "    count = Counter(result)  # Counter({'l': 3, 'o': 2, 'd': 1, 'h': 1, 'r': 1, 'e': 1, 'w': 1})\n",
    "    count_list = list(count.values())\n",
    "    max_value = max(count_list)\n",
    "    max_list = []\n",
    "    for k, v in count.items():\n",
    "        if v == max_value:\n",
    "            max_list.append(k)\n",
    "    max_list = sorted(max_list)\n",
    "    return max_list[0]"
   ]
  },
  {
   "cell_type": "code",
   "execution_count": null,
   "id": "80d8e9fd",
   "metadata": {},
   "outputs": [],
   "source": [
    "#version 2\n",
    "from collections import Counter\n",
    "\n",
    "def get_max_value(text):\n",
    "    count = Counter([x.lower() for x in text.split() if x.isalpha()])\n",
    "    m = max(count.values())\n",
    "    return sorted([x for (x, y) in count.items() if y == m])[0]"
   ]
  },
  {
   "cell_type": "code",
   "execution_count": null,
   "id": "e06fe981",
   "metadata": {},
   "outputs": [],
   "source": [
    "#version 3\n",
    "import string\n",
    "\n",
    "def get_max_value(text):\n",
    "    text = text.lower()\n",
    "    return max(string.ascii_lowercase, key=text.count)"
   ]
  },
  {
   "cell_type": "code",
   "execution_count": null,
   "id": "8cb5414d",
   "metadata": {},
   "outputs": [],
   "source": [
    "max(range(6), key = lambda x : x>2)\n",
    "# >>> 3\n",
    "# 带入key函数中，各个元素返回布尔值，相当于[False, False, False, True, True, True]\n",
    "# key函数要求返回值为True，有多个符合的值，则挑选第一个。\n",
    "\n",
    "max([3,5,2,1,4,3,0], key = lambda x : x)\n",
    "# >>> 5\n",
    "# 带入key函数中，各个元素返回自身的值，最大的值为5，返回5.\n",
    "\n",
    "max('ah', 'bf', key=lambda x: x[1])\n",
    "# >>> 'ah'\n",
    "# 带入key函数，各个字符串返回最后一个字符，其中'ah'的h要大于'bf'中的f，因此返回'ah'\n",
    "\n",
    "max('ah', 'bf', key=lambda x: x[0])\n",
    "# >>> 'bf'\n",
    "# 带入key函数，各个字符串返回第一个字符，其中'bf'的b要大于'ah'中的a，因此返回'bf'\n",
    "\n",
    "text = 'Hello World'\n",
    "max('abcdefghijklmnopqrstuvwxyz', key=text.count)\n",
    "# >>> 'l'\n",
    "# 带入key函数，返回各个字符在'Hello World'中出现的次数，出现次数最多的字符为'l',因此输出'l'"
   ]
  },
  {
   "cell_type": "markdown",
   "id": "29eccf56",
   "metadata": {},
   "source": [
    "#### Count occurrence of a character in a Python string"
   ]
  }
 ],
 "metadata": {},
 "nbformat": 4,
 "nbformat_minor": 5
}
