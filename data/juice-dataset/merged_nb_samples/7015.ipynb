{
 "cells": [
  {
   "cell_type": "code",
   "execution_count": null,
   "id": "1027d4b3",
   "metadata": {},
   "outputs": [],
   "source": [
    "%load_ext line_profiler\n",
    "%time import loadit"
   ]
  },
  {
   "cell_type": "markdown",
   "id": "973689b5",
   "metadata": {},
   "source": [
    "### Launch app"
   ]
  },
  {
   "cell_type": "code",
   "execution_count": null,
   "id": "05e695fe",
   "metadata": {},
   "outputs": [],
   "source": [
    "loadit.App()"
   ]
  },
  {
   "cell_type": "markdown",
   "id": "5cdfca91",
   "metadata": {},
   "source": [
    "### Client"
   ]
  },
  {
   "cell_type": "code",
   "execution_count": null,
   "id": "f8c3ec45",
   "metadata": {},
   "outputs": [],
   "source": [
    "client = loadit.Client()"
   ]
  },
  {
   "cell_type": "markdown",
   "id": "7b1bf54c",
   "metadata": {},
   "source": [
    "### Connect to server"
   ]
  },
  {
   "cell_type": "code",
   "execution_count": null,
   "id": "43d83755",
   "metadata": {},
   "outputs": [],
   "source": [
    "client.connect('192.168.0.154:8080')"
   ]
  },
  {
   "cell_type": "markdown",
   "id": "4a32a9b9",
   "metadata": {},
   "source": [
    "### Show cluster info"
   ]
  },
  {
   "cell_type": "code",
   "execution_count": null,
   "id": "67d58fed",
   "metadata": {},
   "outputs": [],
   "source": [
    "client.info()"
   ]
  },
  {
   "cell_type": "code",
   "execution_count": null,
   "id": "06db34df",
   "metadata": {},
   "outputs": [],
   "source": [
    "client.session"
   ]
  },
  {
   "cell_type": "markdown",
   "id": "8857b172",
   "metadata": {},
   "source": [
    "# Database handling"
   ]
  },
  {
   "cell_type": "markdown",
   "id": "30c45b63",
   "metadata": {},
   "source": [
    "### Create local database"
   ]
  },
  {
   "cell_type": "code",
   "execution_count": null,
   "id": "a14b73af",
   "metadata": {},
   "outputs": [],
   "source": [
    "database = client.create_database('foox2')"
   ]
  },
  {
   "cell_type": "markdown",
   "id": "960f701d",
   "metadata": {},
   "source": [
    "### Create remote database"
   ]
  },
  {
   "cell_type": "code",
   "execution_count": null,
   "id": "cc9aadbd",
   "metadata": {},
   "outputs": [],
   "source": [
    "database = client.create_remote_database('foox1')"
   ]
  },
  {
   "cell_type": "markdown",
   "id": "a11c69f7",
   "metadata": {},
   "source": [
    "### Load local database"
   ]
  },
  {
   "cell_type": "code",
   "execution_count": null,
   "id": "a4bf5c58",
   "metadata": {},
   "outputs": [],
   "source": [
    "database = client.load_database('foox2')"
   ]
  },
  {
   "cell_type": "markdown",
   "id": "5162ee1a",
   "metadata": {},
   "source": [
    "### Load remote database"
   ]
  },
  {
   "cell_type": "code",
   "execution_count": null,
   "id": "9aed6f98",
   "metadata": {},
   "outputs": [],
   "source": [
    "database = client.load_remote_database('foox2')"
   ]
  },
  {
   "cell_type": "markdown",
   "id": "1ed91ce6",
   "metadata": {},
   "source": [
    "### Close database"
   ]
  },
  {
   "cell_type": "code",
   "execution_count": null,
   "id": "dd802e97",
   "metadata": {},
   "outputs": [],
   "source": [
    "client.close_database('foox2')"
   ]
  },
  {
   "cell_type": "markdown",
   "id": "5bdae6e1",
   "metadata": {},
   "source": [
    "### Show database info"
   ]
  },
  {
   "cell_type": "code",
   "execution_count": null,
   "id": "2a0a73d1",
   "metadata": {},
   "outputs": [],
   "source": [
    "database.header.info(detailed=False)"
   ]
  },
  {
   "cell_type": "markdown",
   "id": "02410a3a",
   "metadata": {},
   "source": [
    "### Add attachment"
   ]
  },
  {
   "cell_type": "code",
   "execution_count": null,
   "id": "59aa89af",
   "metadata": {},
   "outputs": [],
   "source": [
    "database.add_attachment('/Users/Alvaro/Desktop/nastran_model_input/BulkData.zip')"
   ]
  },
  {
   "cell_type": "markdown",
   "id": "1f01ceee",
   "metadata": {},
   "source": [
    "### Download attachment"
   ]
  },
  {
   "cell_type": "code",
   "execution_count": null,
   "id": "b2726247",
   "metadata": {},
   "outputs": [],
   "source": [
    "database.download_attachment('BulkData.zip', '/Users/Alvaro/Desktop/nastran_model_input/')"
   ]
  },
  {
   "cell_type": "markdown",
   "id": "141cd5a4",
   "metadata": {},
   "source": [
    "### Remove attachment"
   ]
  },
  {
   "cell_type": "code",
   "execution_count": null,
   "id": "e5bd1221",
   "metadata": {},
   "outputs": [],
   "source": [
    "database.remove_attachment('BulkData.zip')"
   ]
  },
  {
   "cell_type": "markdown",
   "id": "e346adf7",
   "metadata": {},
   "source": [
    "### Query database"
   ]
  },
  {
   "cell_type": "code",
   "execution_count": null,
   "id": "3e2b703a",
   "metadata": {},
   "outputs": [],
   "source": [
    "query_file = '/Users/Alvaro/Desktop/loadit/loadit/examples/pick_query_template.json'\n",
    "#query_file = '/Users/Alvaro/Desktop/loadit/loadit/examples/group_query_template.json'\n",
    "\n",
    "df = database.query_from_file(query_file)"
   ]
  },
  {
   "cell_type": "markdown",
   "id": "2ecc7d58",
   "metadata": {},
   "source": [
    "### Append new batches"
   ]
  },
  {
   "cell_type": "code",
   "execution_count": null,
   "id": "a810e61a",
   "metadata": {},
   "outputs": [],
   "source": [
    "pch_files = [\n",
    "    '/Users/Alvaro/Desktop/nastran_model_input/nastranpy_inputs/pch/0_KC390_rf_global_Close_Ramp_H1A_ENV_11_F06.pch',\n",
    "]\n",
    "\n",
    "%time database.new_batch(pch_files, 'Initial batch')"
   ]
  },
  {
   "cell_type": "code",
   "execution_count": null,
   "id": "4ccdf939",
   "metadata": {},
   "outputs": [],
   "source": [
    "pch_files = [\n",
    "    '/Users/Alvaro/Desktop/nastran_model_input/nastranpy_inputs/pch/0_KC390_rf_global_Close_Ramp_H1A_ENV_12_F06.pch',\n",
    "    '/Users/Alvaro/Desktop/nastran_model_input/nastranpy_inputs/pch/0_KC390_rf_global_Close_Ramp_H1A_Bulk_Vehicle_5003095_F06.pch',\n",
    "]\n",
    "\n",
    "%time database.new_batch(pch_files, 'new_batch')"
   ]
  },
  {
   "cell_type": "markdown",
   "id": "ff557801",
   "metadata": {},
   "source": [
    "### Restore database"
   ]
  },
  {
   "cell_type": "code",
   "execution_count": null,
   "id": "1ee31959",
   "metadata": {},
   "outputs": [],
   "source": [
    "%time database.restore('Initial batch')"
   ]
  },
  {
   "cell_type": "markdown",
   "id": "0296599c",
   "metadata": {},
   "source": [
    "### Check database integrity"
   ]
  },
  {
   "cell_type": "code",
   "execution_count": null,
   "id": "bae157ab",
   "metadata": {},
   "outputs": [],
   "source": [
    "database.check()"
   ]
  },
  {
   "cell_type": "markdown",
   "id": "1c8d6424",
   "metadata": {},
   "source": [
    "# Cluster handling"
   ]
  },
  {
   "cell_type": "markdown",
   "id": "680dc86a",
   "metadata": {},
   "source": [
    "### List sessions"
   ]
  },
  {
   "cell_type": "code",
   "execution_count": null,
   "id": "48785389",
   "metadata": {},
   "outputs": [],
   "source": [
    "client.sessions"
   ]
  },
  {
   "cell_type": "markdown",
   "id": "a5a6c822",
   "metadata": {},
   "source": [
    "### Add session"
   ]
  },
  {
   "cell_type": "code",
   "execution_count": null,
   "id": "2e7d240e",
   "metadata": {},
   "outputs": [],
   "source": [
    "client.add_session('foo_user', 'foo_password', is_admin=False)"
   ]
  },
  {
   "cell_type": "markdown",
   "id": "cc44a07e",
   "metadata": {},
   "source": [
    "### Remove session"
   ]
  },
  {
   "cell_type": "code",
   "execution_count": null,
   "id": "b2149f9a",
   "metadata": {},
   "outputs": [],
   "source": [
    "client.remove_session('foo_user')"
   ]
  },
  {
   "cell_type": "markdown",
   "id": "5fd45f44",
   "metadata": {},
   "source": [
    "### Remove database"
   ]
  },
  {
   "cell_type": "code",
   "execution_count": null,
   "id": "7194f580",
   "metadata": {},
   "outputs": [],
   "source": [
    "client.remove_database('project/x')"
   ]
  },
  {
   "cell_type": "markdown",
   "id": "8a7d70f2",
   "metadata": {},
   "source": [
    "### Sync databases"
   ]
  },
  {
   "cell_type": "code",
   "execution_count": null,
   "id": "84ec6d55",
   "metadata": {},
   "outputs": [],
   "source": [
    "client.sync_databases()"
   ]
  },
  {
   "cell_type": "markdown",
   "id": "aeab4a7d",
   "metadata": {},
   "source": [
    "### Shutdown cluster"
   ]
  }
 ],
 "metadata": {},
 "nbformat": 4,
 "nbformat_minor": 5
}
