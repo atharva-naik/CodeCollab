{
 "cells": [
  {
   "cell_type": "markdown",
   "id": "95a27774",
   "metadata": {},
   "source": [
    "this may take much time to download - installing bleeding edge version of theano"
   ]
  },
  {
   "cell_type": "code",
   "execution_count": null,
   "id": "6a857823",
   "metadata": {},
   "outputs": [],
   "source": [
    "#!pip install --upgrade --no-deps git+git://github.com/Theano/Theano.git"
   ]
  },
  {
   "cell_type": "markdown",
   "id": "5c76e248",
   "metadata": {},
   "source": [
    "## Downloading data"
   ]
  },
  {
   "cell_type": "code",
   "execution_count": null,
   "id": "b57773af",
   "metadata": {},
   "outputs": [],
   "source": [
    "# !cd data && wget http://deeplearning.net/data/mnist/mnist.pkl.gz"
   ]
  },
  {
   "cell_type": "code",
   "execution_count": null,
   "id": "53407eb5",
   "metadata": {},
   "outputs": [],
   "source": [
    "# !cd data && gunzip mnist.pkl.gz"
   ]
  },
  {
   "cell_type": "code",
   "execution_count": null,
   "id": "4d4d1230",
   "metadata": {},
   "outputs": [],
   "source": [
    "import numpy\n",
    "from matplotlib import pyplot as plt\n",
    "%matplotlib inline\n",
    "from keras.datasets import mnist\n",
    "from keras.models import Sequential\n",
    "from keras.layers.core import Dense, Dropout, Activation, Flatten\n",
    "from keras.layers.convolutional import Convolution2D, MaxPooling2D\n",
    "from keras.utils import np_utils"
   ]
  },
  {
   "cell_type": "code",
   "execution_count": null,
   "id": "f9d94cc7",
   "metadata": {},
   "outputs": [],
   "source": [
    "nb_classes = 10 # 10 digits\n",
    "nb_epoch = 2 # 12 is recommended\n",
    "\n",
    "# input image dimensions\n",
    "img_rows, img_cols = 28, 28\n",
    "# number of convolutional filters to use\n",
    "nb_filters = 10 # 32 is better\n",
    "# size of pooling area for max pooling\n",
    "nb_pool = 2\n",
    "# convolution kernel size\n",
    "nb_conv = 3"
   ]
  },
  {
   "cell_type": "code",
   "execution_count": null,
   "id": "de30a45f",
   "metadata": {},
   "outputs": [],
   "source": [
    "import cPickle as pickle\n",
    "with open('data/mnist.pkl') as f:\n",
    "    (trainX, trainY), (testX, testY), (validX, validY) = pickle.load(f)"
   ]
  },
  {
   "cell_type": "code",
   "execution_count": null,
   "id": "b5b88788",
   "metadata": {},
   "outputs": [],
   "source": [
    "# adding one more 'color' axis, as required by keras.\n",
    "# for new layers this axis is responsible for 'number of patterns' = number of neuron\n",
    "X_train = trainX.reshape(trainX.shape[0], 1, img_rows, img_cols).astype('float32')\n",
    "X_test  = testX.reshape(testX.shape[0], 1, img_rows, img_cols).astype('float32')\n",
    "\n",
    "print X_train.shape[0], 'train samples'\n",
    "print X_test.shape[0], 'test samples'\n",
    "\n",
    "# convert class vectors to binary class matrices\n",
    "Y_train = np_utils.to_categorical(trainY, nb_classes)\n",
    "Y_test = np_utils.to_categorical(testY, nb_classes)"
   ]
  },
  {
   "cell_type": "code",
   "execution_count": null,
   "id": "a731a284",
   "metadata": {},
   "outputs": [],
   "source": [
    "model = Sequential()\n",
    "model.add(Convolution2D(nb_filters, nb_conv, nb_conv,\n",
    "                        border_mode='valid',\n",
    "                        input_shape=(1, img_rows, img_cols)))\n",
    "# Relu is non-linearity\n",
    "model.add(Activation('relu'))\n",
    "model.add(Convolution2D(nb_filters, nb_conv, nb_conv))\n",
    "model.add(Activation('relu'))\n",
    "# pooling is decreasing size of image with some operation (max in this case)\n",
    "model.add(MaxPooling2D(pool_size=(nb_pool, nb_pool)))\n",
    "# neurons at this layer will 'disappear' with p=0.25\n",
    "model.add(Dropout(0.25)) \n",
    "# flatten all 'images' into single vector\n",
    "model.add(Flatten())\n",
    "model.add(Dense(32)) # 128 recommended\n",
    "model.add(Activation('relu'))\n",
    "model.add(Dropout(0.5))\n",
    "# 10 neurons, each correspons to a digit, \n",
    "model.add(Dense(nb_classes))\n",
    "# and softmax to get probabilities\n",
    "model.add(Activation('softmax'))\n",
    "\n",
    "\n",
    "model.compile(loss='categorical_crossentropy', optimizer='adadelta')"
   ]
  },
  {
   "cell_type": "markdown",
   "id": "3afed62e",
   "metadata": {},
   "source": [
    "## What is pooling with 2 x 2 filter\n",
    "![pooling](http://cdn-ak.f.st-hatena.com/images/fotolife/v/vaaaaaanquish/20150126/20150126055504.png)"
   ]
  },
  {
   "cell_type": "markdown",
   "id": "0a68a459",
   "metadata": {},
   "source": [
    "## Training\n",
    "During training Keras will print loss and validation accuracy.\n",
    "Try to achieve 0.99 accuracy. "
   ]
  }
 ],
 "metadata": {},
 "nbformat": 4,
 "nbformat_minor": 5
}
