{
 "cells": [
  {
   "cell_type": "code",
   "execution_count": null,
   "id": "b46f8bba",
   "metadata": {},
   "outputs": [],
   "source": [
    "%matplotlib inline\n",
    "import pandas as pd\n",
    "import numpy as np\n",
    "import matplotlib.pyplot as plt\n",
    "import matplotlib.mlab as mlab\n",
    "import math"
   ]
  },
  {
   "cell_type": "code",
   "execution_count": null,
   "id": "cfadb95e",
   "metadata": {},
   "outputs": [],
   "source": [
    "donations = pd.DataFrame.from_csv('opendata_donations.csv', index_col=None).ix[:,0:23]\n",
    "donations = donations.rename(columns=lambda x: x.strip()) # removing whitespaces from columns\n",
    "donations = donations[(donations.donor_zip!='SC')&(donations.donor_zip!='NY')&(donations.donor_zip!='NJ')&(donations.donor_zip!='TX')]\n",
    "donations.head(5)"
   ]
  },
  {
   "cell_type": "code",
   "execution_count": null,
   "id": "b57104b8",
   "metadata": {},
   "outputs": [],
   "source": [
    "projects = pd.DataFrame.from_csv('opendata_projects.csv', index_col=None)\n",
    "projects.head(5)"
   ]
  },
  {
   "cell_type": "code",
   "execution_count": null,
   "id": "a317f28f",
   "metadata": {},
   "outputs": [],
   "source": [
    "# Join donations and projects data\n",
    "projects_donations = projects.merge(donations, on='_projectid',how='inner')\n",
    "projects_donations.head(5)"
   ]
  },
  {
   "cell_type": "code",
   "execution_count": null,
   "id": "b367e0e3",
   "metadata": {},
   "outputs": [],
   "source": [
    "len(projects_donations)"
   ]
  },
  {
   "cell_type": "markdown",
   "id": "4154c0ed",
   "metadata": {},
   "source": [
    "### 1) Is there a correlation between project's state and donor's state in terms of donation amount ?"
   ]
  }
 ],
 "metadata": {},
 "nbformat": 4,
 "nbformat_minor": 5
}
