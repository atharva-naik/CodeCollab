{
 "cells": [
  {
   "cell_type": "markdown",
   "id": "3c2bd492",
   "metadata": {},
   "source": [
    "<p style=\"text-align:center\">\n",
    "PSY 394U <b>Python Coding for Psychological Sciences</b>, Fall 2017\n",
    "\n",
    "<img src=\"https://www.python.org/static/community_logos/python-logo-master-v3-TM.png\" alt=\"Python logo\" width=\"200\">\n",
    "</p>\n",
    "\n",
    "<h1 style=\"text-align:center\"> Lists </h1>\n",
    "\n",
    "<h4 style=\"text-align:center\"> September 28 - October 3, 2017 </h4>\n",
    "<hr style=\"height:5px;border:none\" />\n",
    "<p>"
   ]
  },
  {
   "cell_type": "markdown",
   "id": "3c89baa2",
   "metadata": {},
   "source": [
    "# 1. What is a list?\n",
    "<hr style=\"height:1px;border:none\" />"
   ]
  },
  {
   "cell_type": "markdown",
   "id": "5ab22a20",
   "metadata": {},
   "source": [
    "Imagine you have 4 variables with names."
   ]
  },
  {
   "cell_type": "code",
   "execution_count": null,
   "id": "5362086c",
   "metadata": {},
   "outputs": [],
   "source": [
    "memberName1 = 'Paul'\n",
    "memberName2 = 'John'\n",
    "memberName3 = 'George'\n",
    "memberName4 = 'Ringo'"
   ]
  },
  {
   "cell_type": "markdown",
   "id": "15ee0c65",
   "metadata": {},
   "source": [
    "And you can print them with"
   ]
  },
  {
   "cell_type": "code",
   "execution_count": null,
   "id": "421ec8c5",
   "metadata": {},
   "outputs": [],
   "source": [
    "print('The band members are:')\n",
    "print('   ' + memberName1)\n",
    "print('   ' + memberName2)\n",
    "print('   ' + memberName3)\n",
    "print('   ' + memberName4)"
   ]
  },
  {
   "cell_type": "markdown",
   "id": "f0a8aac9",
   "metadata": {},
   "source": [
    "But instead of creating 4 separate variables with similar names, you can store the same information in a container known as a list. Here is a program that does the same thing as above, using a **list**. "
   ]
  },
  {
   "cell_type": "markdown",
   "id": "81ade650",
   "metadata": {},
   "source": [
    "`<BandMembers.py>`"
   ]
  },
  {
   "cell_type": "code",
   "execution_count": null,
   "id": "d67cbc1c",
   "metadata": {},
   "outputs": [],
   "source": [
    "memberNames = ['Paul', 'John', 'George', 'Ringo']\n",
    "\n",
    "print('The band members are:')\n",
    "for iName in memberNames:\n",
    "    print('   ' + iName)"
   ]
  },
  {
   "cell_type": "markdown",
   "id": "08bb5579",
   "metadata": {},
   "source": [
    "If you want to add another item on the list, then you simply modify the list"
   ]
  },
  {
   "cell_type": "code",
   "execution_count": null,
   "id": "386f5cb2",
   "metadata": {},
   "outputs": [],
   "source": [
    "mixedList[2]"
   ]
  },
  {
   "cell_type": "code",
   "execution_count": null,
   "id": "af2d19f6",
   "metadata": {},
   "outputs": [],
   "source": [
    "mixedList[2][0]"
   ]
  },
  {
   "cell_type": "code",
   "execution_count": null,
   "id": "cef6e7f5",
   "metadata": {},
   "outputs": [],
   "source": [
    "mixedList[3]"
   ]
  },
  {
   "cell_type": "markdown",
   "id": "d66917e5",
   "metadata": {},
   "source": [
    "Notice that `mixedList[2]` is a list containing two items. To access an individual item in that list, you add another index. \n",
    "\n",
    "In Python, you can also use a negative index to access individual items on a list. A negative index starts from -1, the last item on the list."
   ]
  },
  {
   "cell_type": "code",
   "execution_count": null,
   "id": "86d27358",
   "metadata": {},
   "outputs": [],
   "source": [
    "fruits = ['apple', 'orange', 'banana', 'pineapple']\n",
    "fruits[-1]"
   ]
  },
  {
   "cell_type": "code",
   "execution_count": null,
   "id": "5c6ab05c",
   "metadata": {},
   "outputs": [],
   "source": [
    "fruits[-4]"
   ]
  },
  {
   "cell_type": "markdown",
   "id": "6b9e9508",
   "metadata": {},
   "source": [
    "The negative index goes as far as the number of items on the list (in this example, -4). "
   ]
  },
  {
   "cell_type": "markdown",
   "id": "d4b79bf9",
   "metadata": {},
   "source": [
    "### Exercise\n",
    "1. You have a list\n",
    "```python\n",
    "animal = ['dog', 'cat', 'tiger', 'lion', 'moose', 'panda']\n",
    "```\n",
    "How do you access the following items using an index?\n",
    "  1. `'dog'`\n",
    "  2. `'lion'`\n",
    "  3. `'moose'`\n",
    "  \n",
    "2. You have a list\n",
    "```python\n",
    "listList = [['car', 'bus', 'bike'], [15, 1.5, 0, -5]]\n",
    "```\n",
    "How do you access the following items using an index?\n",
    "  1. `'bus'`\n",
    "  2. `'bike'`\n",
    "  3. `0`\n",
    "  4. `-5`"
   ]
  },
  {
   "cell_type": "markdown",
   "id": "67e40739",
   "metadata": {},
   "source": [
    "# 3. Slicing a list\n",
    "<hr style=\"height:1px;border:none\" />"
   ]
  },
  {
   "cell_type": "markdown",
   "id": "3ce06f7a",
   "metadata": {},
   "source": [
    "Now, you can access multiple items on a list, to generate a sublist. This is known as *slicing*. For example, in a list"
   ]
  },
  {
   "cell_type": "code",
   "execution_count": null,
   "id": "47e4bded",
   "metadata": {},
   "outputs": [],
   "source": [
    "animal = ['dog', 'cat', 'tiger', 'lion', 'moose', 'panda', 'bear']"
   ]
  },
  {
   "cell_type": "markdown",
   "id": "838119a3",
   "metadata": {},
   "source": [
    "you want to access a sublist consisting of `cat`, `tiger`, and `lion`. In that case, you can use"
   ]
  },
  {
   "cell_type": "markdown",
   "id": "24c7e5ee",
   "metadata": {},
   "source": [
    "# 5. Using a list for a `for` loop\n",
    "<hr style=\"height:1px;border:none\" />"
   ]
  },
  {
   "cell_type": "markdown",
   "id": "977541ae",
   "metadata": {},
   "source": [
    "Remember in a `for` loop, we used a `range()` function to describe values inside the `for` loop. Instead of a `range` function, we can use a list in a `for` loop too."
   ]
  },
  {
   "cell_type": "markdown",
   "id": "15b4751c",
   "metadata": {},
   "source": [
    "`<ForLoopWithNumList.py>`"
   ]
  },
  {
   "cell_type": "code",
   "execution_count": null,
   "id": "57e07d8a",
   "metadata": {},
   "outputs": [],
   "source": [
    "minutes = [0, 15, 30, 45, 60, 75, 90, 105, 120]\n",
    "for iMin in minutes:\n",
    "    print('Elapsed time = ' + str(iMin))"
   ]
  },
  {
   "cell_type": "markdown",
   "id": "fdf0b2e5",
   "metadata": {},
   "source": [
    "Notice that you can use each items in the list individually inside the `for` loop. Here is another example of using a list for a `for` loop."
   ]
  },
  {
   "cell_type": "markdown",
   "id": "d2ad19cf",
   "metadata": {},
   "source": [
    "`<ForLoopWithStrList.py>`"
   ]
  },
  {
   "cell_type": "code",
   "execution_count": null,
   "id": "095e41fd",
   "metadata": {},
   "outputs": [],
   "source": [
    "menu = ['Chili', 'Hot Dog', 'Salad', 'Tacos', 'Pizza']\n",
    "for iMenu in menu:\n",
    "    print(\"Today's special is \" + iMenu)"
   ]
  },
  {
   "cell_type": "markdown",
   "id": "95540593",
   "metadata": {},
   "source": [
    "Whether to use a list or a `range` function is up to you. In some cases, it makes sense to use a `range` function for a `for` loop."
   ]
  },
  {
   "cell_type": "markdown",
   "id": "b8bb54af",
   "metadata": {},
   "source": [
    "`<ForLoopWithRange.py>`"
   ]
  },
  {
   "cell_type": "code",
   "execution_count": null,
   "id": "2783349b",
   "metadata": {},
   "outputs": [],
   "source": [
    "day = ['Monday', 'Tuesday', 'Wednesday', 'Thursday', 'Friday']\n",
    "menu = ['Chili', 'Hot Dog', 'Salad', 'Tacos', 'Pizza']\n",
    "for i in range(len(day)):\n",
    "    print(day[i] + \"'s special is \" + menu[i])"
   ]
  },
  {
   "cell_type": "markdown",
   "id": "8545625c",
   "metadata": {},
   "source": [
    "There is a way to use both an index and an item in a list using the **`enumerate`** function. For example,"
   ]
  },
  {
   "cell_type": "markdown",
   "id": "414de081",
   "metadata": {},
   "source": [
    "`<ForLoopWithEnumerate.py>`"
   ]
  },
  {
   "cell_type": "markdown",
   "id": "8f29f2f5",
   "metadata": {},
   "source": [
    "You can omit one of the numbers when you write a slice. If you omit the first number, then 0 is used. If you omit the second number, then the length of the list is used. For example,"
   ]
  },
  {
   "cell_type": "code",
   "execution_count": null,
   "id": "f94a74d4",
   "metadata": {},
   "outputs": [],
   "source": [
    "animal[:5]"
   ]
  },
  {
   "cell_type": "code",
   "execution_count": null,
   "id": "c928fd7f",
   "metadata": {},
   "outputs": [],
   "source": [
    "animal[5:]"
   ]
  },
  {
   "cell_type": "markdown",
   "id": "a6c75235",
   "metadata": {},
   "source": [
    "Notice that `animal[:5]` is the same as `animal[0:5]`, whereas `animal[5:]` is the same as `animal[5:7]`.\n",
    "\n",
    "You can also create a sublist with every other items in a list. For example,"
   ]
  },
  {
   "cell_type": "code",
   "execution_count": null,
   "id": "651e5db8",
   "metadata": {},
   "outputs": [],
   "source": [
    "animal[0:6:2]"
   ]
  },
  {
   "cell_type": "markdown",
   "id": "c75d8e57",
   "metadata": {},
   "source": [
    "The third number in the slice specifies the step between items. For example, `0:6:2` means 0, 2, and 4 (notice elements are separated by 2 in their indices)."
   ]
  },
  {
   "cell_type": "markdown",
   "id": "861f4d83",
   "metadata": {},
   "source": [
    "### Exercise\n",
    "1. **Animal list**. In the list **`animal`** described above, write a slice that accesses the following items\n",
    "  1. `'dog', 'cat'`\n",
    "  2. `'moose', 'panda'`\n",
    "  3. `'moose', 'panda', 'bear'`\n",
    "  4. `'panda', 'bear'`\n",
    "\n",
    "2.\t**Slicing nested lists**. You have a list\n",
    "```python\n",
    "runs = [['A', 'B', 'C'],['D', 'E', 'F'], [38, 42, 44]]\n",
    "```\n",
    "Write an index and/or a slice to access the following items\n",
    "  1. `['A', 'B', 'C']`\n",
    "  2. `['B', 'C']`\n",
    "  3. `['D', 'E']`\n",
    "  4. `[38, 42]`"
   ]
  },
  {
   "cell_type": "markdown",
   "id": "d58ea5b8",
   "metadata": {},
   "source": [
    "# 4. Manipulating a list\n",
    "<hr style=\"height:1px;border:none\" />"
   ]
  },
  {
   "cell_type": "markdown",
   "id": "59652068",
   "metadata": {},
   "source": [
    "You can change the value of individual items on a list, just the same way as changing a variable."
   ]
  },
  {
   "cell_type": "code",
   "execution_count": null,
   "id": "efd2d6b6",
   "metadata": {},
   "outputs": [],
   "source": [
    "bigCats = ['lion', 'tiger', 'leopard', 'cheetah']\n",
    "bigCats[3] = 'panther'\n",
    "bigCats"
   ]
  },
  {
   "cell_type": "code",
   "execution_count": null,
   "id": "8d7afb18",
   "metadata": {},
   "outputs": [],
   "source": [
    "bigCats[1] = 'lynx'\n",
    "bigCats"
   ]
  },
  {
   "cell_type": "markdown",
   "id": "c2674007",
   "metadata": {},
   "source": [
    "You can concatenate two lists with a `+` operator."
   ]
  },
  {
   "cell_type": "code",
   "execution_count": null,
   "id": "19482d0a",
   "metadata": {},
   "outputs": [],
   "source": [
    "'John' in memberNames"
   ]
  },
  {
   "cell_type": "markdown",
   "id": "71497770",
   "metadata": {},
   "source": [
    "The name `'Yoko'` is not part of the list **`memberNames`**, thus `False` is returned.\n",
    "On the other hand, `'John'` is part of the list, so `True` is returned. Similarly, you\n",
    "can use a **`not in`** operator to evaluate if an item is in a list."
   ]
  },
  {
   "cell_type": "code",
   "execution_count": null,
   "id": "28488227",
   "metadata": {},
   "outputs": [],
   "source": [
    "'Yoko' not in memberNames"
   ]
  },
  {
   "cell_type": "markdown",
   "id": "24724a0d",
   "metadata": {},
   "source": [
    "You can use `in` and `not in` operators as part of a `while` loop or an `if`\n",
    "statement. Here is an example."
   ]
  },
  {
   "cell_type": "markdown",
   "id": "8d7fa540",
   "metadata": {},
   "source": [
    "`<InExample.py>`"
   ]
  },
  {
   "cell_type": "code",
   "execution_count": null,
   "id": "5aefede3",
   "metadata": {},
   "outputs": [],
   "source": [
    "nameList = ['Sarah', 'Paul', 'Jill', 'Robert']\n",
    "print('What is your name?')\n",
    "name = input()\n",
    "while name not in nameList:\n",
    "    print('Your name is not on the list.')\n",
    "    print('What is your name again?')\n",
    "    name = input()\n",
    "\n",
    "print('Welcome to the party, ' + name + '!')"
   ]
  },
  {
   "cell_type": "markdown",
   "id": "ad6ec6f4",
   "metadata": {},
   "source": [
    "### Exercise\n",
    "1. **Passwords**. You have a list of passwords\n",
    "```python\n",
    "passwords = ['aaargh’, ‘fjfjkdg’, ‘qwerty’]\n",
    "```\n",
    "Write a program that keeps asking for a password until a correct password on the list is entered. When a correct password is entered, the program prints out “Access granted”."
   ]
  },
  {
   "cell_type": "markdown",
   "id": "ede8c4f2",
   "metadata": {},
   "source": [
    "# 8. Using methods\n",
    "<hr style=\"height:1px;border:none\" />"
   ]
  },
  {
   "cell_type": "markdown",
   "id": "32208e63",
   "metadata": {},
   "source": [
    "A method is similar to a function, but it is associated with a particular list. There\n",
    "are a number of methods you can use for the list data type. Here are some\n",
    "examples."
   ]
  },
  {
   "cell_type": "markdown",
   "id": "45bb4f73",
   "metadata": {},
   "source": [
    "### `index()` method\n",
    "You can find a particular value in a list using the **`index()`** method. This method\n",
    "returns the index corresponding to the value. For example,"
   ]
  },
  {
   "cell_type": "code",
   "execution_count": null,
   "id": "91f8cbe2",
   "metadata": {},
   "outputs": [],
   "source": [
    "memberNames = ['Paul', 'John', 'George', 'Ringo']\n",
    "memberNames.index('George')"
   ]
  },
  {
   "cell_type": "markdown",
   "id": "dd151b16",
   "metadata": {},
   "source": [
    "The index for the value `'George'` is 2. If you have more than one items with the\n",
    "same value, the `index()` method only returns the index for the first item."
   ]
  },
  {
   "cell_type": "code",
   "execution_count": null,
   "id": "377ce72c",
   "metadata": {},
   "outputs": [],
   "source": [
    "memberNames = ['Bruce', 'Chris', 'Chris', 'Chris', 'Steven']\n",
    "memberNames.index('Chris')"
   ]
  },
  {
   "cell_type": "markdown",
   "id": "85c92c06",
   "metadata": {},
   "source": [
    "If there is no corresponding value is found in the list, it gives you an error."
   ]
  },
  {
   "cell_type": "code",
   "execution_count": null,
   "id": "c558a51e",
   "metadata": {},
   "outputs": [],
   "source": [
    "memberNames = ['Paul', 'John', 'George', 'Ringo']\n",
    "memberNames.index('Yoko')"
   ]
  },
  {
   "cell_type": "markdown",
   "id": "a015dcfa",
   "metadata": {},
   "source": [
    "### `append()`, `insert()` and `remove()` methods\n",
    "To add items to a list, the **`append()`** and **`insert()`** methods can be useful. The **`append()`** method adds an item at the end of the list."
   ]
  },
  {
   "cell_type": "code",
   "execution_count": null,
   "id": "04947503",
   "metadata": {},
   "outputs": [],
   "source": [
    "fruits = ['apple', 'orange', 'banana', 'pineapple']\n",
    "print(fruits)"
   ]
  },
  {
   "cell_type": "markdown",
   "id": "524f5839",
   "metadata": {},
   "source": [
    "Or mixture of them."
   ]
  },
  {
   "cell_type": "code",
   "execution_count": null,
   "id": "94857be0",
   "metadata": {},
   "outputs": [],
   "source": [
    "mixed = ['cashew', 'almond', 55, -10.25]\n",
    "print(mixed)"
   ]
  },
  {
   "cell_type": "markdown",
   "id": "f466c075",
   "metadata": {},
   "source": [
    "You can also have a list inside another list."
   ]
  },
  {
   "cell_type": "code",
   "execution_count": null,
   "id": "cec450b1",
   "metadata": {},
   "outputs": [],
   "source": [
    "mixedList = [10, 25, ['George', 'Ringo'], 'apple']\n",
    "print(mixedList)"
   ]
  },
  {
   "cell_type": "markdown",
   "id": "fd41af93",
   "metadata": {},
   "source": [
    "To access an individual item of a list, you can use an index inside square brackets. For example,"
   ]
  },
  {
   "cell_type": "code",
   "execution_count": null,
   "id": "db773196",
   "metadata": {},
   "outputs": [],
   "source": [
    "memberNames = ['Paul', 'John', 'George', 'Ringo', 'Yoko']\n",
    "memberNames[0]"
   ]
  },
  {
   "cell_type": "code",
   "execution_count": null,
   "id": "40d1bc60",
   "metadata": {},
   "outputs": [],
   "source": [
    "memberNames[1]"
   ]
  },
  {
   "cell_type": "code",
   "execution_count": null,
   "id": "7036deaa",
   "metadata": {},
   "outputs": [],
   "source": [
    "memberNames[4]"
   ]
  },
  {
   "cell_type": "markdown",
   "id": "053bc09a",
   "metadata": {},
   "source": [
    "Notice that the indices start from 0 (referring to the first item on the list) and end with 4 (or, the number of items minus 1). You can use the **`len()`** function to figure out how many items are in a list. "
   ]
  },
  {
   "cell_type": "code",
   "execution_count": null,
   "id": "42b6f808",
   "metadata": {},
   "outputs": [],
   "source": [
    "len(memberNames)"
   ]
  },
  {
   "cell_type": "markdown",
   "id": "68e96a3f",
   "metadata": {},
   "source": [
    "A list can contain just a single item"
   ]
  },
  {
   "cell_type": "markdown",
   "id": "3d036ff4",
   "metadata": {},
   "source": [
    "Even if the variable `a` changes, the variable `b` remains the same. How about a\n",
    "list?"
   ]
  },
  {
   "cell_type": "code",
   "execution_count": null,
   "id": "50085986",
   "metadata": {},
   "outputs": [],
   "source": [
    "c = [100, 500, 1000]\n",
    "# making a copy of the list c\n",
    "d = c"
   ]
  },
  {
   "cell_type": "code",
   "execution_count": null,
   "id": "69a71709",
   "metadata": {},
   "outputs": [],
   "source": [
    "c[0] = 500\n",
    "c"
   ]
  },
  {
   "cell_type": "code",
   "execution_count": null,
   "id": "140fb880",
   "metadata": {},
   "outputs": [],
   "source": [
    "d"
   ]
  },
  {
   "cell_type": "markdown",
   "id": "93147b30",
   "metadata": {},
   "source": [
    "Did you notice that, if we change a value in the list `c`, the list `d` is also changed? This is because, in Python, a list does not store the actual values of the list, but a reference to the list; metaphorically speaking, the location where the values are stored. If you execute `d = c`, that means both lists are pointing to the same reference (of the same list). Thus, changing a value in the list `c` also changes the same value in the list `d`. This becomes problematic if you pass a list to a function."
   ]
  },
  {
   "cell_type": "markdown",
   "id": "f911fe8a",
   "metadata": {},
   "source": [
    "`<ListInFunction.py>`"
   ]
  },
  {
   "cell_type": "code",
   "execution_count": null,
   "id": "cdf6c88a",
   "metadata": {},
   "outputs": [],
   "source": [
    "def append_item(origList):\n",
    "    newList = origList\n",
    "    newList.append('New item')\n",
    "    return newList"
   ]
  },
  {
   "cell_type": "code",
   "execution_count": null,
   "id": "a198a02d",
   "metadata": {},
   "outputs": [],
   "source": [
    "aList = ['apple', 'banana', 'cat']\n",
    "print(aList)"
   ]
  },
  {
   "cell_type": "code",
   "execution_count": null,
   "id": "a1be4818",
   "metadata": {},
   "outputs": [],
   "source": [
    "bList = append_item(aList)\n",
    "print(bList)"
   ]
  },
  {
   "cell_type": "code",
   "execution_count": null,
   "id": "8d515f66",
   "metadata": {},
   "outputs": [],
   "source": [
    "print(aList)"
   ]
  },
  {
   "cell_type": "markdown",
   "id": "6011b9d3",
   "metadata": {},
   "source": [
    "If you run this, then you see that `'New item'` has been added not only to\n",
    "`bList` (a newly made list in the function), but also to `aList` (the original list).\n",
    "To avoid this, you can use the **`copy()`** function under the module **`copy`**."
   ]
  },
  {
   "cell_type": "markdown",
   "id": "e8a74f07",
   "metadata": {},
   "source": [
    "`<CopyExample.py>`"
   ]
  },
  {
   "cell_type": "markdown",
   "id": "fe3196f1",
   "metadata": {},
   "source": [
    "You can repeat a list with a `*` operator."
   ]
  },
  {
   "cell_type": "code",
   "execution_count": null,
   "id": "e553b1da",
   "metadata": {},
   "outputs": [],
   "source": [
    "conditions = ['A', 'B', 'C']\n",
    "taskDesign = conditions * 3\n",
    "taskDesign"
   ]
  },
  {
   "cell_type": "markdown",
   "id": "3cc7f7e2",
   "metadata": {},
   "source": [
    "You can delete items with a **`del`** statement and the item(s) to be deleted. You can use either an index or a slice."
   ]
  },
  {
   "cell_type": "code",
   "execution_count": null,
   "id": "76ef7923",
   "metadata": {},
   "outputs": [],
   "source": [
    "animal = ['dog', 'cat', 'tiger', 'lion', 'moose', 'panda', 'bear']\n",
    "del animal[2]\n",
    "animal"
   ]
  },
  {
   "cell_type": "code",
   "execution_count": null,
   "id": "77d0d952",
   "metadata": {},
   "outputs": [],
   "source": [
    "del animal[:3]\n",
    "animal"
   ]
  },
  {
   "cell_type": "markdown",
   "id": "7c13253e",
   "metadata": {},
   "source": [
    "### Exercise\n",
    "1. You have a list\n",
    "```python\n",
    "minutes = [0, 15, 30, 45, 60, 75, 90, 105, 120]\n",
    "```\n",
    "  Do the following\n",
    "  1. Delete numbers greater than or equal to 60.\n",
    "  2. Then, replace 45 with 40\n",
    "  3. Then, repeat the list 3 times\n",
    "\n",
    "2.\t**`List with repeated numbers`**. Write a function that takes a list of numbers as input, and returns a new list with each item in the original list repeated a number of times based on its value. In other words, if the input is \n",
    "```python\n",
    "[4, 3, 2, 3]\n",
    "```\n",
    "Then the function returns a list\n",
    "```python\n",
    "[4, 4, 4, 4, 3, 3, 3, 2, 2, 3, 3, 3]\n",
    "```"
   ]
  },
  {
   "cell_type": "code",
   "execution_count": null,
   "id": "eb2eafdd",
   "metadata": {},
   "outputs": [],
   "source": [
    "memberNames = ['Paul', 'John', 'George', 'Ringo']\n",
    "memberNames.insert(1,'Yoko')\n",
    "memberNames"
   ]
  },
  {
   "cell_type": "markdown",
   "id": "27a5628d",
   "metadata": {},
   "source": [
    "To remove an item from a list, you can use the **`remove()`** method. One\n",
    "advantage of the `remove()` method, as opposed to the `del` statement, is that\n",
    "you don't need to know the index of the item to be deleted. For example,"
   ]
  },
  {
   "cell_type": "code",
   "execution_count": null,
   "id": "71da6253",
   "metadata": {},
   "outputs": [],
   "source": [
    "mammal = ['cat', 'dog', 'panda', 'owl', 'giraffe']\n",
    "mammal.remove('owl')\n",
    "mammal"
   ]
  },
  {
   "cell_type": "markdown",
   "id": "30e11efc",
   "metadata": {},
   "source": [
    "If there are multiple items with the same value on the list, the `remove()` method\n",
    "removes only the first item."
   ]
  },
  {
   "cell_type": "code",
   "execution_count": null,
   "id": "7fe876b1",
   "metadata": {},
   "outputs": [],
   "source": [
    "mammal = ['cat', 'dog', 'cat', 'cat', 'tiger']\n",
    "mammal.remove('cat')\n",
    "mammal"
   ]
  },
  {
   "cell_type": "markdown",
   "id": "d554b3f2",
   "metadata": {},
   "source": [
    "### Exercise\n",
    "1. **Removing cats**. You have a list\n",
    "```python\n",
    "mammal = ['cat', 'dog', 'cat', 'cat', 'tiger']\n",
    "```\n",
    "Write a program to remove all `'cat'` from this list.\n",
    "2. **Cat-lion substitution**. You have the same list as 1. Write a program to\n",
    "replace all `'cat'` with `'lion'` on the list."
   ]
  },
  {
   "cell_type": "markdown",
   "id": "f7be2ce0",
   "metadata": {},
   "source": [
    "### `sort()` method\n",
    "You can sort the items on a list with the **`sort()`** method. For example,"
   ]
  },
  {
   "cell_type": "code",
   "execution_count": null,
   "id": "1f1024c7",
   "metadata": {},
   "outputs": [],
   "source": [
    "numbers = [-5, -15, 2, 250, 3, 18]\n",
    "numbers.sort()\n",
    "numbers"
   ]
  },
  {
   "cell_type": "code",
   "execution_count": null,
   "id": "bbc102d2",
   "metadata": {},
   "outputs": [],
   "source": [
    "mammal = ['dog', 'cat', 'panda', 'lion', 'horse']\n",
    "mammal.sort()\n",
    "mammal"
   ]
  },
  {
   "cell_type": "markdown",
   "id": "218f7dd1",
   "metadata": {},
   "source": [
    "One thing you need to remember is that upper case letters come before lower\n",
    "case letters by default. For example,"
   ]
  },
  {
   "cell_type": "code",
   "execution_count": null,
   "id": "70a5846f",
   "metadata": {},
   "outputs": [],
   "source": [
    "marsupial = ['koala', 'kangaroo', 'Tasmanian devil', 'possum']\n",
    "marsupial.sort()\n",
    "marsupial"
   ]
  },
  {
   "cell_type": "markdown",
   "id": "d0f83d8e",
   "metadata": {},
   "source": [
    "To ignore the case, you have to use **`key=str.lower`** option in the `sort()`\n",
    "method."
   ]
  },
  {
   "cell_type": "markdown",
   "id": "8600d7cc",
   "metadata": {},
   "source": [
    "This sublist consists of items `animal[1]`, `animal[2]`, and `animal[3]`. But not `animal[4]`. Inside the square brackets (i.e., `1:4`) is often referred as a **slice** (as opposed to an index, which is a single value). In a slice, the first number corresponds to where the slice starts, and the second number corresponds to one after the slice ends. Here are more examples of slices"
   ]
  },
  {
   "cell_type": "code",
   "execution_count": null,
   "id": "6a9a8fc9",
   "metadata": {},
   "outputs": [],
   "source": [
    "animal[4:7]"
   ]
  },
  {
   "cell_type": "code",
   "execution_count": null,
   "id": "260b2354",
   "metadata": {},
   "outputs": [],
   "source": [
    "animal[0:1]"
   ]
  },
  {
   "cell_type": "code",
   "execution_count": null,
   "id": "50281458",
   "metadata": {},
   "outputs": [],
   "source": [
    "text[:6]"
   ]
  },
  {
   "cell_type": "code",
   "execution_count": null,
   "id": "8a324941",
   "metadata": {},
   "outputs": [],
   "source": [
    "text[-4:]"
   ]
  },
  {
   "cell_type": "markdown",
   "id": "eb526080",
   "metadata": {},
   "source": [
    "So, you can do the following."
   ]
  },
  {
   "cell_type": "markdown",
   "id": "1856084e",
   "metadata": {},
   "source": [
    "`<ForLoopWithString.py>`"
   ]
  },
  {
   "cell_type": "code",
   "execution_count": null,
   "id": "40bbf360",
   "metadata": {},
   "outputs": [],
   "source": [
    "text = 'This string is written vertically'\n",
    "for i in text:\n",
    "    print(i)"
   ]
  },
  {
   "cell_type": "markdown",
   "id": "859e4771",
   "metadata": {},
   "source": [
    "Each letter from the string text is used inside the `for` loop."
   ]
  },
  {
   "cell_type": "markdown",
   "id": "def9c9f3",
   "metadata": {},
   "source": [
    "### Exercise\n",
    "1. **Waitlist**. A waitlist for a flight for a certain airline only shows the first 3 letters of the last name of passengers. The last names of the passengers on the waitlist are\n",
    "```\n",
    "Albert\n",
    "Brewer\n",
    "Chu\n",
    "Delgado\n",
    "Ellsworth\n",
    "Franco\n",
    "```\n",
    "  Write a program that displays only the first 3 letters of the last names."
   ]
  },
  {
   "cell_type": "markdown",
   "id": "8f57994e",
   "metadata": {},
   "source": [
    "# 7. `in` and `not in` operators\n",
    "<hr style=\"height:1px;border:none\" />"
   ]
  },
  {
   "cell_type": "markdown",
   "id": "8160e669",
   "metadata": {},
   "source": [
    "A useful operator for a list is the **`in`** and **`not in`** operators. The **`in`** operator\n",
    "evaluates whether an element is in a list. For example,"
   ]
  },
  {
   "cell_type": "code",
   "execution_count": null,
   "id": "4df94eea",
   "metadata": {},
   "outputs": [],
   "source": [
    "memberNames = ['Paul', 'John', 'George', 'Ringo']\n",
    "'Yoko' in memberNames"
   ]
  },
  {
   "cell_type": "code",
   "execution_count": null,
   "id": "8b3dc39a",
   "metadata": {},
   "outputs": [],
   "source": [
    "memberNames = ['Paul', 'John', 'George', 'Ringo']\n",
    "memberNames.append('Yoko')\n",
    "memberNames"
   ]
  },
  {
   "cell_type": "markdown",
   "id": "562506c3",
   "metadata": {},
   "source": [
    "If you want to add an item to a particular location on the list, you can use the\n",
    "**`insert()`** method, with the location to be inserted specified. For example,"
   ]
  },
  {
   "cell_type": "code",
   "execution_count": null,
   "id": "c4189e04",
   "metadata": {},
   "outputs": [],
   "source": [
    "memberNames = ['Paul', 'John', 'George', 'Ringo', 'Yoko']\n",
    "memberNames"
   ]
  },
  {
   "cell_type": "code",
   "execution_count": null,
   "id": "3f957e1b",
   "metadata": {},
   "outputs": [],
   "source": [
    "print('The band members are:')\n",
    "for iName in memberNames:\n",
    "    print('   ' + iName)"
   ]
  },
  {
   "cell_type": "markdown",
   "id": "53a88e91",
   "metadata": {},
   "source": [
    "instead of creating another variable named `memberName5`. "
   ]
  },
  {
   "cell_type": "markdown",
   "id": "1b02fde0",
   "metadata": {},
   "source": [
    "# 2. Content of a list\n",
    "<hr style=\"height:1px;border:none\" />"
   ]
  },
  {
   "cell_type": "markdown",
   "id": "cf1acffb",
   "metadata": {},
   "source": [
    "A **list** consists of a collection of items separated by a comma (`,`) inside square brackets (`[ ]`). You can assign a name to a list in a same way as you name a variable. A list can contain numbers,"
   ]
  },
  {
   "cell_type": "code",
   "execution_count": null,
   "id": "bd58721e",
   "metadata": {},
   "outputs": [],
   "source": [
    "numberList = [1, 5, 23, 512, 1023.5]\n",
    "print(numberList)"
   ]
  },
  {
   "cell_type": "markdown",
   "id": "35d348af",
   "metadata": {},
   "source": [
    "Or strings,"
   ]
  },
  {
   "cell_type": "code",
   "execution_count": null,
   "id": "a9e442ec",
   "metadata": {},
   "outputs": [],
   "source": [
    "oneList = ['one']\n",
    "len(oneList)"
   ]
  },
  {
   "cell_type": "code",
   "execution_count": null,
   "id": "96c335e8",
   "metadata": {},
   "outputs": [],
   "source": [
    "print(oneList)"
   ]
  },
  {
   "cell_type": "markdown",
   "id": "2eaed177",
   "metadata": {},
   "source": [
    "Or  no item at all"
   ]
  },
  {
   "cell_type": "code",
   "execution_count": null,
   "id": "c9891dff",
   "metadata": {},
   "outputs": [],
   "source": [
    "vege = ['kale', 'tomato', 'spinach']\n",
    "fruits = ['apple', 'lemon', 'pear']\n",
    "produce = vege + fruits\n",
    "produce"
   ]
  },
  {
   "cell_type": "code",
   "execution_count": null,
   "id": "e34467a1",
   "metadata": {},
   "outputs": [],
   "source": [
    "marsupial = ['koala', 'kangaroo', 'Tasmanian devil', 'possum']\n",
    "marsupial.sort(key=str.lower)\n",
    "marsupial"
   ]
  },
  {
   "cell_type": "markdown",
   "id": "c0e95415",
   "metadata": {},
   "source": [
    "# 9. A list is actually a reference\n",
    "<hr style=\"height:1px;border:none\" />"
   ]
  },
  {
   "cell_type": "markdown",
   "id": "4a8aae16",
   "metadata": {},
   "source": [
    "Remember when we learned about variables, we can replace the value of a\n",
    "variable."
   ]
  },
  {
   "cell_type": "code",
   "execution_count": null,
   "id": "a82fa9ff",
   "metadata": {},
   "outputs": [],
   "source": [
    "animal[1:4]"
   ]
  },
  {
   "cell_type": "markdown",
   "id": "0722e80a",
   "metadata": {},
   "source": [
    "# 6. A string is list-like\n",
    "<hr style=\"height:1px;border:none\" />"
   ]
  },
  {
   "cell_type": "markdown",
   "id": "b543c0f1",
   "metadata": {},
   "source": [
    "You can also use a string for a `for` loop. This is because a string is similar to a list. "
   ]
  },
  {
   "cell_type": "code",
   "execution_count": null,
   "id": "2bd77102",
   "metadata": {},
   "outputs": [],
   "source": [
    "text = 'Python is fun!'\n",
    "text[0]"
   ]
  },
  {
   "cell_type": "code",
   "execution_count": null,
   "id": "5c060b62",
   "metadata": {},
   "outputs": [],
   "source": [
    "emptyList = []\n",
    "len(emptyList)"
   ]
  },
  {
   "cell_type": "code",
   "execution_count": null,
   "id": "23abc9f5",
   "metadata": {},
   "outputs": [],
   "source": [
    "print(emptyList)"
   ]
  },
  {
   "cell_type": "markdown",
   "id": "620c9036",
   "metadata": {},
   "source": [
    "If you have a list inside another list, then you can access individual values by using two indices. For example,"
   ]
  },
  {
   "cell_type": "code",
   "execution_count": null,
   "id": "dc9e4d8b",
   "metadata": {},
   "outputs": [],
   "source": [
    "mixedList = [10, 25, ['George', 'Ringo'], 'apple']\n",
    "mixedList[0]"
   ]
  },
  {
   "cell_type": "code",
   "execution_count": null,
   "id": "e4756437",
   "metadata": {},
   "outputs": [],
   "source": [
    "day = ['Monday', 'Tuesday', 'Wednesday', 'Thursday', 'Friday']\n",
    "menu = ['Chili', 'Hot Dog', 'Salad', 'Tacos', 'Pizza']\n",
    "for i, iDay in enumerate(day):\n",
    "    print(iDay + \"'s special is \" + menu[i])"
   ]
  },
  {
   "cell_type": "markdown",
   "id": "0d3a4def",
   "metadata": {},
   "source": [
    "The variable **`i`** holds the index of the elements on the list day, whereas **`iDay`** holds the value of the elements. "
   ]
  },
  {
   "cell_type": "markdown",
   "id": "51748d01",
   "metadata": {},
   "source": [
    "### Exercise\n",
    "1. **Experiment info**. You have the following list of study subjects\n",
    "```python\n",
    "subjectID = ['001', '003', '004', '006', '009', '012']\n",
    "```\n",
    "along with the experimental paradigm codes used for these subjects\n",
    "```python\n",
    "expCode = [0, 1, 0, 2, 3, 2]\n",
    "```\n",
    "The paradigm code can be used as the index to look up the list of paradigms\n",
    "```python\n",
    "expParadigm = ['congruent', 'incongruent', 'mixed', 'null']\n",
    "```\n",
    "For example, if the paradigm code is 2, then the corresponding paradigm can be found as `expParadigm[2]`$\\rightarrow$`'mixed'`. Write a program with a `for` loop with `enumerate()` function to produce a table print out of subject IDs and the corresponding experimental paradigms.\n",
    "\n"
   ]
  },
  {
   "cell_type": "code",
   "execution_count": null,
   "id": "5759fcce",
   "metadata": {},
   "outputs": [],
   "source": [
    "a = 100\n",
    "# making a copy of the variable a\n",
    "b = a"
   ]
  },
  {
   "cell_type": "code",
   "execution_count": null,
   "id": "9cbdb087",
   "metadata": {},
   "outputs": [],
   "source": [
    "a = 500\n",
    "a"
   ]
  },
  {
   "cell_type": "code",
   "execution_count": null,
   "id": "8b8f647e",
   "metadata": {},
   "outputs": [],
   "source": [
    "b"
   ]
  }
 ],
 "metadata": {},
 "nbformat": 4,
 "nbformat_minor": 5
}
