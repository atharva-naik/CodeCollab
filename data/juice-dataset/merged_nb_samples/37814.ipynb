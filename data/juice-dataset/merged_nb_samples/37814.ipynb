{
 "cells": [
  {
   "cell_type": "markdown",
   "id": "cc70a360",
   "metadata": {},
   "source": [
    "# Custom Display Logic"
   ]
  },
  {
   "cell_type": "markdown",
   "id": "8392c161",
   "metadata": {},
   "source": [
    "## Overview"
   ]
  },
  {
   "cell_type": "markdown",
   "id": "cdff7fd9",
   "metadata": {},
   "source": [
    "As described in the [Rich Output](Rich Output.ipynb) tutorial, the IPython display system can display rich representations of objects in the following formats:\n",
    "\n",
    "* JavaScript\n",
    "* HTML\n",
    "* PNG\n",
    "* JPEG\n",
    "* SVG\n",
    "* LaTeX\n",
    "* PDF\n",
    "\n",
    "This Notebook shows how you can add custom display logic to your own classes, so that they can be displayed using these rich representations. There are two ways of accomplishing this:\n",
    "\n",
    "1. Implementing special display methods such as `_repr_html_` when you define your class.\n",
    "2. Registering a display function for a particular existing class.\n",
    "\n",
    "This Notebook describes and illustrates both approaches."
   ]
  },
  {
   "cell_type": "markdown",
   "id": "2b80e498",
   "metadata": {},
   "source": [
    "Import the IPython display functions."
   ]
  },
  {
   "cell_type": "code",
   "execution_count": null,
   "id": "215c34f0",
   "metadata": {},
   "outputs": [],
   "source": [
    "from IPython.display import (\n",
    "    display, display_html, display_png, display_svg\n",
    ")"
   ]
  },
  {
   "cell_type": "markdown",
   "id": "7dd39647",
   "metadata": {},
   "source": [
    "Parts of this notebook need the matplotlib inline backend:"
   ]
  },
  {
   "cell_type": "markdown",
   "id": "f3ba24b5",
   "metadata": {},
   "source": [
    "The formatter object has a couple of methods for registering custom display functions for existing types."
   ]
  },
  {
   "cell_type": "code",
   "execution_count": null,
   "id": "82663d2b",
   "metadata": {},
   "outputs": [],
   "source": [
    "help(latex_f.for_type)"
   ]
  },
  {
   "cell_type": "code",
   "execution_count": null,
   "id": "a014eb3c",
   "metadata": {},
   "outputs": [],
   "source": [
    "help(latex_f.for_type_by_name)"
   ]
  },
  {
   "cell_type": "markdown",
   "id": "83b20280",
   "metadata": {},
   "source": [
    "In this case, we will use `for_type_by_name` to register `poly_to_latex` as the display function for the `Polynomial` type:"
   ]
  },
  {
   "cell_type": "code",
   "execution_count": null,
   "id": "598142ed",
   "metadata": {},
   "outputs": [],
   "source": [
    "latex_f.for_type_by_name('numpy.polynomial.polynomial',\n",
    "                                 'Polynomial', poly_to_latex)"
   ]
  },
  {
   "cell_type": "markdown",
   "id": "21d9b6bb",
   "metadata": {},
   "source": [
    "Once the custom display function has been registered, all NumPy `Polynomial` instances will be represented by their LaTeX form instead:"
   ]
  },
  {
   "cell_type": "code",
   "execution_count": null,
   "id": "f0728ce8",
   "metadata": {},
   "outputs": [],
   "source": [
    "p"
   ]
  },
  {
   "cell_type": "code",
   "execution_count": null,
   "id": "cbe08e51",
   "metadata": {},
   "outputs": [],
   "source": [
    "p2 = np.polynomial.Polynomial([-20, 71, -15, 1])\n",
    "p2"
   ]
  },
  {
   "cell_type": "markdown",
   "id": "71c79467",
   "metadata": {},
   "source": [
    "## Custom Mimetypes with `_repr_mimebundle_`\n",
    "\n",
    "Available on IPython 5.4+ and 6.1+.\n",
    "\n",
    "For objects needing full control over the `repr` protocol may decide to implement the `_repr_mimebundle_(include, exclude)` method.\n",
    "Unlike the other `_repr_*_` methods must return many representation of the object in a mapping object which keys are _mimetypes_ and value are associated data. The `_repr_mimebundle_()` method, may also return a second mapping from _mimetypes_ to metadata. \n",
    "\n",
    "Example:"
   ]
  },
  {
   "cell_type": "code",
   "execution_count": null,
   "id": "6eb6b2aa",
   "metadata": {},
   "outputs": [],
   "source": [
    "class Gaussian(object):\n",
    "    \"\"\"A simple object holding data sampled from a Gaussian distribution.\n",
    "    \"\"\"\n",
    "    def __init__(self, mean=0.0, std=1, size=1000):\n",
    "        self.data = np.random.normal(mean, std, size)\n",
    "        self.mean = mean\n",
    "        self.std = std\n",
    "        self.size = size\n",
    "        # For caching plots that may be expensive to compute\n",
    "        self._png_data = None\n",
    "        \n",
    "    def _figure_data(self, format):\n",
    "        fig, ax = plt.subplots()\n",
    "        ax.hist(self.data, bins=50)\n",
    "        ax.set_xlim(-10.0,10.0)\n",
    "        data = print_figure(fig, format)\n",
    "        # We MUST close the figure, otherwise IPython's display machinery\n",
    "        # will pick it up and send it as output, resulting in a double display\n",
    "        plt.close(fig)\n",
    "        return data\n",
    "    \n",
    "    def _compute_mathml(self):\n",
    "        return \"\"\"\n",
    "        <math xmlns=\"http://www.w3.org/1998/Math/MathML\">\n",
    "          <mrow class=\"MJX-TeXAtom-ORD\">\n",
    "            <mi class=\"MJX-tex-caligraphic\" mathvariant=\"script\">N</mi>\n",
    "          </mrow>\n",
    "          <mo stretchy=\"false\">(</mo>\n",
    "          <mi>&#x03BC;<!-- μ --></mi>\n",
    "          <mo>=</mo>\n",
    "          <mn>{mu}</mn>\n",
    "          <mo>,</mo>\n",
    "          <mi>&#x03C3;<!-- σ --></mi>\n",
    "          <mo>=</mo>\n",
    "          <mn>{sigma}</mn>\n",
    "          <mo stretchy=\"false\">)</mo>\n",
    "          <mo>,</mo>\n",
    "          <mtext>&#xA0;</mtext>\n",
    "          <mi>N</mi>\n",
    "          <mo>=</mo>\n",
    "          <mn>{N}</mn>\n",
    "        </math>\n",
    "        \"\"\".format(N=self.size, mu=self.mean, sigma=self.std)\n",
    "        \n",
    "    def _repr_mimebundle_(self, include, exclude, **kwargs):\n",
    "        \"\"\"\n",
    "        repr_mimebundle shoudl accept include, exclude and **kwargs\n",
    "        \"\"\"\n",
    "        if self._png_data is None:\n",
    "            self._png_data = self._figure_data('png')\n",
    "        math = r'$\\mathcal{N}(\\mu=%.2g, \\sigma=%.2g),\\ N=%d$' % (self.mean,\n",
    "                                                                 self.std, self.size)\n",
    "        data = {'image/png':self._png_data,\n",
    "                'text/latex':math,\n",
    "                'application/mathml+xml': self._compute_mathml()\n",
    "                }\n",
    "        if include:\n",
    "            data = {k:v for (k,v) in data.items() if k in include}\n",
    "        if exclude:\n",
    "            data = {k:v for (k,v) in data.items() if k not in exclude}\n",
    "        return data"
   ]
  },
  {
   "cell_type": "code",
   "execution_count": null,
   "id": "db1cb4ad",
   "metadata": {},
   "outputs": [],
   "source": [
    "# that is deffinitively wrong as it shoudl show the PNG. \n",
    "display(Gaussian())"
   ]
  },
  {
   "cell_type": "markdown",
   "id": "ab8cf37f",
   "metadata": {},
   "source": [
    "In the above example, the 3 mimetypes are embeded in the notebook document this allowing custom extensions and converters to display the representation(s) of their choice.\n",
    "\n",
    "For example, converting this noetebook to _epub_ may decide to use the MathML representation as most ebook reader cannot run mathjax (unlike browsers). \n",
    "\n",
    "\n",
    "### Implementation guidelines\n",
    "\n",
    "The `_repr_mimebundle_` methods is also given two keywords parameters :  `include` and `exclude`. Each can be a  containers (e.g.:`list`, `set` ...) of mimetypes to return or `None`, This allows implementation to avoid computing potentially unnecessary and expensive mimetypes representations. \n",
    "\n",
    "When `include` is non-empty (empty `list` or None), `_repr_mimebundle_` may decide to returns only the mimetypes in include.\n",
    "When `exclude` is non-empty, `_repr_mimebundle_` may decide to not return any mimetype in exclude. \n",
    "If both `include` and `exclude` and overlap, mimetypes present in exclude may not be returned. \n",
    "\n",
    "If implementations decide to ignore the `include` and `exclude` logic and always returns a full mimebundles, the IPython kernel will take care of removing non-desired representations.\n",
    "\n",
    "The `_repr_mimebundle_` method should accept arbitrary keyword arguments for future compatiility.\n"
   ]
  }
 ],
 "metadata": {},
 "nbformat": 4,
 "nbformat_minor": 5
}
