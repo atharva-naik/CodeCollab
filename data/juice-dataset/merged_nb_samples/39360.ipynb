{
 "cells": [
  {
   "cell_type": "markdown",
   "id": "898aa519",
   "metadata": {},
   "source": [
    "## Preliminaries\n",
    "Initial setup"
   ]
  },
  {
   "cell_type": "code",
   "execution_count": null,
   "id": "679ec156",
   "metadata": {},
   "outputs": [],
   "source": [
    "import requests   # best library to manage HTTP transactions\n",
    "import csv # library to read/write/parse CSV files\n",
    "from bs4 import BeautifulSoup # web-scraping library\n",
    "\n",
    "acceptMime = 'text/html'\n",
    "cikList = []\n",
    "cikPath = 'cik.txt'\n"
   ]
  },
  {
   "cell_type": "markdown",
   "id": "1527ffb8",
   "metadata": {},
   "source": [
    "Open the file containing the list of CIK codes, read them in, and turn them into a list with whitespace stripped"
   ]
  },
  {
   "cell_type": "code",
   "execution_count": null,
   "id": "4e9f3b9f",
   "metadata": {},
   "outputs": [],
   "source": [
    "cikFileObject = open(cikPath, newline='')\n",
    "cikRows = cikFileObject.readlines()\n",
    "\n",
    "for cik in cikRows:\n",
    "    cikList.append(cik.strip())\n",
    "print(cikList)"
   ]
  },
  {
   "cell_type": "markdown",
   "id": "6e461e2c",
   "metadata": {},
   "source": [
    "## Searching for 10-K forms\n",
    "Create a list of dictionaries for appropriate results"
   ]
  },
  {
   "cell_type": "code",
   "execution_count": null,
   "id": "f27e6824",
   "metadata": {},
   "outputs": [],
   "source": [
    "resultsList = []"
   ]
  },
  {
   "cell_type": "markdown",
   "id": "d1e27792",
   "metadata": {},
   "source": [
    "Create the search URL using one hacked from playing around online"
   ]
  },
  {
   "cell_type": "code",
   "execution_count": null,
   "id": "4ee69381",
   "metadata": {},
   "outputs": [],
   "source": [
    "cik = cikList[2] # in the final script, this will loop through all of the CIK codes. (elements 0 and 1 don't produce any results)\n",
    "# this query string selects for 10-K forms, but also retrieves forms whose code start with 10-K\n",
    "baseUri = 'https://www.sec.gov/cgi-bin/browse-edgar?action=getcompany&CIK='+cik+'&type=10-K&dateb=&owner=exclude&start=0&count=40&output=atom'\n",
    "print(baseUri)\n"
   ]
  },
  {
   "cell_type": "markdown",
   "id": "32c4570b",
   "metadata": {},
   "source": [
    "Retrieve the XML document and turn it into a Beautiful Soup object (well-structured with magical properties)"
   ]
  },
  {
   "cell_type": "code",
   "execution_count": null,
   "id": "5bc0daba",
   "metadata": {},
   "outputs": [],
   "source": [
    "r = requests.get(baseUri, headers={'Accept' : 'application/xml'})\n",
    "soup = BeautifulSoup(r.text,features=\"html5lib\")\n",
    "print(soup)"
   ]
  },
  {
   "cell_type": "markdown",
   "id": "e5a095cf",
   "metadata": {},
   "source": [
    "The search string (term=\"10-k\") limits results to only category elements with the attribute that's exactly equal to\"10-K\"\n",
    "\n",
    "The select function returns a list of soup objects that can each be searched"
   ]
  },
  {
   "cell_type": "code",
   "execution_count": null,
   "id": "338e76ec",
   "metadata": {},
   "outputs": [],
   "source": [
    "for cat in soup.select('category[term=\"10-K\"]'):\n",
    "    # can't use cat.filing-href because hyphen in tag is interpreted by Python as a minus\n",
    "    # also, couldn't get .strings to work, so used first child element (the string content of the tag)\n",
    "    date = cat.find('filing-date').contents[0]\n",
    "    year = date[:4] # the year is the first four characters of the date string\n",
    "    print(year)\n",
    "    # create a dictionary of an individual result\n",
    "    searchResults = {'cik':cik,'year':year,'uri':cat.find('filing-href').contents[0]}\n",
    "    if year == \"2016\" or year == \"2014\":\n",
    "        # append the dictionary to the list of results\n",
    "        resultsList.append(searchResults)"
   ]
  },
  {
   "cell_type": "markdown",
   "id": "1caa6457",
   "metadata": {},
   "source": [
    "The loop is done, now show the results"
   ]
  },
  {
   "cell_type": "code",
   "execution_count": null,
   "id": "71aa4d99",
   "metadata": {},
   "outputs": [],
   "source": [
    "print(resultsList)"
   ]
  },
  {
   "cell_type": "markdown",
   "id": "7af031b0",
   "metadata": {},
   "source": [
    "## Searching for the components of an individual 10-K filing\n",
    "\n",
    "Start by showing the URL to be retrieved"
   ]
  },
  {
   "cell_type": "code",
   "execution_count": null,
   "id": "9c36f862",
   "metadata": {},
   "outputs": [],
   "source": [
    "form10kList = [] # create an empty list to put the results in\n",
    "hitNumber = 0  # in the final script, loop through the resultsList.  Here, just do the first result.\n",
    "# for hitNumber in range(0,len(resultsList)):\n",
    "print(resultsList[hitNumber]['uri'])"
   ]
  },
  {
   "cell_type": "markdown",
   "id": "5fa390a0",
   "metadata": {},
   "source": [
    "Retrieve the HTML and turn it into a cleaned-up soupt object"
   ]
  },
  {
   "cell_type": "code",
   "execution_count": null,
   "id": "064a198e",
   "metadata": {},
   "outputs": [],
   "source": [
    "r = requests.get(resultsList[hitNumber]['uri'], headers={'Accept' : 'text/html'})\n",
    "soup = BeautifulSoup(r.text,features=\"html5lib\")\n",
    "print(soup)"
   ]
  },
  {
   "cell_type": "markdown",
   "id": "6b309bfd",
   "metadata": {},
   "source": [
    "Select the tr elements and generate an array of soup objects for each of the tr elements"
   ]
  },
  {
   "cell_type": "code",
   "execution_count": null,
   "id": "d4901d0f",
   "metadata": {},
   "outputs": [],
   "source": [
    "trArray = soup.select('tr')\n",
    "print(trArray)"
   ]
  },
  {
   "cell_type": "markdown",
   "id": "ca55d221",
   "metadata": {},
   "source": [
    "Loop through each of the tr elements and check whether it has a td element that contains \"10-K\".  If so, then add the value of the href attribute to the results array.  Note: the values are relative, so must prepend 'http://www.sec.gov' to make it an absolute URL."
   ]
  },
  {
   "cell_type": "code",
   "execution_count": null,
   "id": "bf0636ef",
   "metadata": {},
   "outputs": [],
   "source": [
    "for row in trArray:\n",
    "    is10k = False\n",
    "    for cell in row.select('td'):\n",
    "        try:\n",
    "            testString = cell.contents[0]\n",
    "            if cell.contents[0] == \"10-K\":\n",
    "                is10k = True\n",
    "        except:  # handle error caes where the cell doesn't have contents\n",
    "            pass\n",
    "    if is10k:\n",
    "        form10kList.append('http://www.sec.gov' + row.a.get('href'))\n"
   ]
  },
  {
   "cell_type": "markdown",
   "id": "74dbaa87",
   "metadata": {},
   "source": [
    "Print the resulting list"
   ]
  },
  {
   "cell_type": "code",
   "execution_count": null,
   "id": "5abbceb2",
   "metadata": {},
   "outputs": [],
   "source": [
    "print(form10kList)"
   ]
  },
  {
   "cell_type": "markdown",
   "id": "d930f365",
   "metadata": {},
   "source": [
    "## Retrieve the actual 10-K page and pull out the signatory names\n",
    "This will eventually be a loop, but for now, just do the first result"
   ]
  },
  {
   "cell_type": "code",
   "execution_count": null,
   "id": "8b90e4f7",
   "metadata": {},
   "outputs": [],
   "source": [
    "form10kNumber = 0\n",
    "# for form10kNumber in range(0,len(form10kList)):\n",
    "print(form10kList[form10kNumber])"
   ]
  },
  {
   "cell_type": "markdown",
   "id": "115abb38",
   "metadata": {},
   "source": [
    "Retrieve the HTML for the web page and turn it into a Beautiful Soup object"
   ]
  }
 ],
 "metadata": {},
 "nbformat": 4,
 "nbformat_minor": 5
}
