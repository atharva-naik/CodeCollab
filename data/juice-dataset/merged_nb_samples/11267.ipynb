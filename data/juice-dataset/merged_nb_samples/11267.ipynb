{
 "cells": [
  {
   "cell_type": "code",
   "execution_count": null,
   "id": "91e293e2",
   "metadata": {},
   "outputs": [],
   "source": [
    "print(\"Hello world!\")\n",
    "print(\"Hello ComBee!\")\n",
    "print(\"Hello Python Study Group!\")"
   ]
  },
  {
   "cell_type": "markdown",
   "id": "1eb923a4",
   "metadata": {},
   "source": [
    "# Brackets: square, round, and curly"
   ]
  },
  {
   "cell_type": "markdown",
   "id": "24dc949c",
   "metadata": {},
   "source": [
    "## Square brackets: lists"
   ]
  },
  {
   "cell_type": "code",
   "execution_count": null,
   "id": "fa868643",
   "metadata": {},
   "outputs": [],
   "source": [
    "numbers = [1,2,3]"
   ]
  },
  {
   "cell_type": "markdown",
   "id": "3f8041a9",
   "metadata": {},
   "source": [
    "### Lists are ordered "
   ]
  },
  {
   "cell_type": "code",
   "execution_count": null,
   "id": "d0172a27",
   "metadata": {},
   "outputs": [],
   "source": [
    "#Access element by index \n",
    "numbers[0]"
   ]
  },
  {
   "cell_type": "markdown",
   "id": "2e8167b7",
   "metadata": {},
   "source": [
    "### And mutable"
   ]
  },
  {
   "cell_type": "code",
   "execution_count": null,
   "id": "02fee21c",
   "metadata": {},
   "outputs": [],
   "source": [
    "a_set[0]"
   ]
  },
  {
   "cell_type": "markdown",
   "id": "b743c15f",
   "metadata": {},
   "source": [
    "### Also not mutable"
   ]
  },
  {
   "cell_type": "code",
   "execution_count": null,
   "id": "80f74bbd",
   "metadata": {},
   "outputs": [],
   "source": [
    "a_set[0] = 2"
   ]
  },
  {
   "cell_type": "markdown",
   "id": "0bb0c3ee",
   "metadata": {},
   "source": [
    "### And does not allow duplicate items"
   ]
  },
  {
   "cell_type": "code",
   "execution_count": null,
   "id": "87721ead",
   "metadata": {},
   "outputs": [],
   "source": [
    "a_list = [1,2,2,3]\n",
    "a_tuple = (1,2,2,3)\n",
    "a_set = {1,2,2,3}\n",
    "print(a_list)\n",
    "print(a_tuple)\n",
    "print(a_set)"
   ]
  },
  {
   "cell_type": "markdown",
   "id": "5b0debe3",
   "metadata": {},
   "source": [
    "### Method of sets"
   ]
  },
  {
   "cell_type": "code",
   "execution_count": null,
   "id": "d7cd1a80",
   "metadata": {},
   "outputs": [],
   "source": [
    "a = {1,2,3}\n",
    "b = {3,4,5}\n",
    "a | b # Union\n",
    "a & b # Intersection\n",
    "a < b # Subset\n",
    "a - b # Difference\n",
    "b - a # Difference\n",
    "a ^ b # Symmetric Difference"
   ]
  },
  {
   "cell_type": "code",
   "execution_count": null,
   "id": "92e1b4cc",
   "metadata": {},
   "outputs": [],
   "source": [
    "a - b # Difference\n"
   ]
  },
  {
   "cell_type": "code",
   "execution_count": null,
   "id": "55f5aade",
   "metadata": {},
   "outputs": [],
   "source": [
    "b - a # Difference\n"
   ]
  },
  {
   "cell_type": "markdown",
   "id": "f195a5da",
   "metadata": {},
   "source": [
    "## Curly brackets: dictionary"
   ]
  },
  {
   "cell_type": "code",
   "execution_count": null,
   "id": "ff1457b5",
   "metadata": {},
   "outputs": [],
   "source": [
    "IDE = {'Ian': 'jupyter_lab',\n",
    "       'Elizabeth': 'PyCharm',\n",
    "       'Huan': 'jupyter notebook'}\n",
    "\n",
    "# key : value"
   ]
  },
  {
   "cell_type": "markdown",
   "id": "e5a92208",
   "metadata": {},
   "source": [
    "### Not ordered, mutable, does not allow duplicate keys but doesn't care about duplicate values"
   ]
  },
  {
   "cell_type": "code",
   "execution_count": null,
   "id": "93b65441",
   "metadata": {},
   "outputs": [],
   "source": [
    "numbers[1]=5 \n",
    "print(numbers)"
   ]
  },
  {
   "cell_type": "markdown",
   "id": "57760d46",
   "metadata": {},
   "source": [
    "### Loop through each element in a list"
   ]
  },
  {
   "cell_type": "code",
   "execution_count": null,
   "id": "8a46b1e0",
   "metadata": {},
   "outputs": [],
   "source": [
    "for num in numbers:\n",
    "    print(num)"
   ]
  },
  {
   "cell_type": "markdown",
   "id": "36139b38",
   "metadata": {},
   "source": [
    "### Methods of a list"
   ]
  },
  {
   "cell_type": "code",
   "execution_count": null,
   "id": "0babe753",
   "metadata": {},
   "outputs": [],
   "source": [
    "num"
   ]
  },
  {
   "cell_type": "code",
   "execution_count": null,
   "id": "0763e6d5",
   "metadata": {},
   "outputs": [],
   "source": [
    "numbers.append(4)\n",
    "print(numbers)"
   ]
  },
  {
   "cell_type": "markdown",
   "id": "2dba2f89",
   "metadata": {},
   "source": [
    "#### To check all the method for a list"
   ]
  },
  {
   "cell_type": "code",
   "execution_count": null,
   "id": "403fc553",
   "metadata": {},
   "outputs": [],
   "source": [
    "help(numbers)"
   ]
  },
  {
   "cell_type": "code",
   "execution_count": null,
   "id": "fed0b583",
   "metadata": {},
   "outputs": [],
   "source": [
    "?len()"
   ]
  },
  {
   "cell_type": "markdown",
   "id": "8f7eb36c",
   "metadata": {},
   "source": [
    "## Round brackets: tuples"
   ]
  },
  {
   "cell_type": "code",
   "execution_count": null,
   "id": "81873ea0",
   "metadata": {},
   "outputs": [],
   "source": [
    "a_tuple= (1, 2, 3)\n",
    "another_tuple = ('blue', 'green', 'red')"
   ]
  },
  {
   "cell_type": "markdown",
   "id": "dc0588b4",
   "metadata": {},
   "source": [
    "### Tuples are also ordered"
   ]
  },
  {
   "cell_type": "code",
   "execution_count": null,
   "id": "6f570067",
   "metadata": {},
   "outputs": [],
   "source": [
    "a_tuple[0]"
   ]
  },
  {
   "cell_type": "markdown",
   "id": "fe48d112",
   "metadata": {},
   "source": [
    "### But NOT mutable"
   ]
  },
  {
   "cell_type": "code",
   "execution_count": null,
   "id": "45a4b1cd",
   "metadata": {},
   "outputs": [],
   "source": [
    "a_tuple[2]=5 \n",
    "\n",
    "print(a_tuple)\n",
    "print(numbers)"
   ]
  },
  {
   "cell_type": "markdown",
   "id": "1f4fecb3",
   "metadata": {},
   "source": [
    "### Methods of a tuple"
   ]
  },
  {
   "cell_type": "code",
   "execution_count": null,
   "id": "3bb42c7b",
   "metadata": {},
   "outputs": [],
   "source": [
    "help(a_tuple)"
   ]
  },
  {
   "cell_type": "markdown",
   "id": "99a42df1",
   "metadata": {},
   "source": [
    "## Curly brackets: sets"
   ]
  },
  {
   "cell_type": "code",
   "execution_count": null,
   "id": "97bcf3b3",
   "metadata": {},
   "outputs": [],
   "source": [
    "a_set = {1,2,3}"
   ]
  },
  {
   "cell_type": "markdown",
   "id": "aeb35b39",
   "metadata": {},
   "source": [
    "### Sets are NOT ordered"
   ]
  },
  {
   "cell_type": "code",
   "execution_count": null,
   "id": "7d5bbc86",
   "metadata": {},
   "outputs": [],
   "source": [
    "print(IDE)"
   ]
  },
  {
   "cell_type": "code",
   "execution_count": null,
   "id": "e31ad2da",
   "metadata": {},
   "outputs": [],
   "source": [
    "for key in IDE:\n",
    "    print(key)"
   ]
  },
  {
   "cell_type": "code",
   "execution_count": null,
   "id": "80751088",
   "metadata": {},
   "outputs": [],
   "source": [
    "IDE.items()"
   ]
  },
  {
   "cell_type": "code",
   "execution_count": null,
   "id": "2f63992e",
   "metadata": {},
   "outputs": [],
   "source": [
    "IDE[0]"
   ]
  },
  {
   "cell_type": "code",
   "execution_count": null,
   "id": "3f54a2fd",
   "metadata": {},
   "outputs": [],
   "source": [
    "IDE['Ian']"
   ]
  },
  {
   "cell_type": "code",
   "execution_count": null,
   "id": "c67cb905",
   "metadata": {},
   "outputs": [],
   "source": [
    "IDE['Elizabeth'] = 'Charming PyCharm'\n",
    "print(IDE)"
   ]
  },
  {
   "cell_type": "code",
   "execution_count": null,
   "id": "fc3e5fb9",
   "metadata": {},
   "outputs": [],
   "source": [
    "IDE = {'Ian': 'jupyter_lab',\n",
    "       'Elizabeth': 'PyCharm',\n",
    "       'Huan': 'jupyter notebook',\n",
    "       'Huan': 'Spyder'}\n",
    "print(IDE)"
   ]
  },
  {
   "cell_type": "markdown",
   "id": "552a55f3",
   "metadata": {},
   "source": [
    "### Everybody loves PyCharm"
   ]
  },
  {
   "cell_type": "code",
   "execution_count": null,
   "id": "cebb74b9",
   "metadata": {},
   "outputs": [],
   "source": [
    "IDE = {'Ian': 'PyCharm',\n",
    "       'Elizabeth': 'PyCharm',\n",
    "       'Huan': 'PyCharm'}"
   ]
  },
  {
   "cell_type": "markdown",
   "id": "fdb97f8c",
   "metadata": {},
   "source": [
    "## Switch between data structure"
   ]
  }
 ],
 "metadata": {},
 "nbformat": 4,
 "nbformat_minor": 5
}
