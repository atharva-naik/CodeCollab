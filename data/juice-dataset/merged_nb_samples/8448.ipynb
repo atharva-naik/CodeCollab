{
 "cells": [
  {
   "cell_type": "markdown",
   "id": "1fcd4bf9",
   "metadata": {},
   "source": [
    "# What is data wrangling all about?"
   ]
  },
  {
   "cell_type": "markdown",
   "id": "ef560a79",
   "metadata": {},
   "source": [
    "Data wrangling with programming languages such as python and R serves two main purposes:\n",
    "\n",
    "1. **Cleaning data**, which involves things like removing leading and trailing spaces.\n",
    "2. **Reshaping data**, which is what we do when the data contains all the information we need, but is presented in a way that does not fit our use case.\n",
    "\n",
    "The brief examples that follow use a python tool called *pandas*. This is not an extensive tutorial, but is intended rather, to give you a taste of how quickly data can be transformed when the appropriate tools are employed. If the examples that follow whet your appetite, then I would encourage you to pursue further training either in the *pandas* tool for python (https://pandas.pydata.org), or the *tidyverse* tools for the R programming language, especially *dplyr* (https://www.tidyverse.org)."
   ]
  },
  {
   "cell_type": "markdown",
   "id": "7fd35f24",
   "metadata": {},
   "source": [
    "___"
   ]
  },
  {
   "cell_type": "markdown",
   "id": "82bb3d9c",
   "metadata": {},
   "source": [
    "Across this demonstration we'll be looking at how to reshape and clean a dataset of movies, genres and actors. Let's get started!"
   ]
  },
  {
   "cell_type": "markdown",
   "id": "ab5f598a",
   "metadata": {},
   "source": [
    "The following piece of code imports the *pandas* tool into our Jupyter Notebook, which is the name of the programming environment with which we are working:"
   ]
  },
  {
   "cell_type": "code",
   "execution_count": null,
   "id": "0158dc1f",
   "metadata": {},
   "outputs": [],
   "source": [
    "import pandas as pd"
   ]
  },
  {
   "cell_type": "markdown",
   "id": "d259d138",
   "metadata": {},
   "source": [
    "Next we import the data we'll be working with, and assign it the name `df`. The name could be anything, but `df` stands for DataFrame, which is the name of the tabular structures used in *pandas*. You can think of a DataFrame as somewhat equivalent to a single sheet in Excel."
   ]
  },
  {
   "cell_type": "markdown",
   "id": "c381512a",
   "metadata": {},
   "source": [
    "The first thing we should do is check that this new table is exactly three times as long as before, since the three *actors* columns were essentially stacked one on top of the other.\n",
    "\n",
    "We can check this with the following:"
   ]
  },
  {
   "cell_type": "code",
   "execution_count": null,
   "id": "049bba58",
   "metadata": {},
   "outputs": [],
   "source": [
    "melted_df.shape"
   ]
  },
  {
   "cell_type": "code",
   "execution_count": null,
   "id": "c3d4d67b",
   "metadata": {},
   "outputs": [],
   "source": [
    "# Divide the row count of the new table by the row count of the old one\n",
    "melted_df.shape[0] / df.shape[0]"
   ]
  },
  {
   "cell_type": "markdown",
   "id": "856295da",
   "metadata": {},
   "source": [
    "Next we will remove the *variable* column, since this does not offer useful information about the actors:"
   ]
  },
  {
   "cell_type": "code",
   "execution_count": null,
   "id": "17aec1f7",
   "metadata": {},
   "outputs": [],
   "source": [
    "melted_df.drop('variable', inplace=True, axis='columns')"
   ]
  },
  {
   "cell_type": "code",
   "execution_count": null,
   "id": "dbcac0c2",
   "metadata": {},
   "outputs": [],
   "source": [
    "melted_df.head()"
   ]
  },
  {
   "cell_type": "markdown",
   "id": "4bbbb35c",
   "metadata": {},
   "source": [
    "Below we list the actors in the new column, alongside a count of how many times they appear (i.e. how many movies they acted in). For instance, Robert De Niro has appeared in 54 movies:"
   ]
  },
  {
   "cell_type": "code",
   "execution_count": null,
   "id": "cc4e3922",
   "metadata": {},
   "outputs": [],
   "source": [
    "melted_df.actors.value_counts(dropna=False)[:20]"
   ]
  },
  {
   "cell_type": "markdown",
   "id": "24d5881d",
   "metadata": {},
   "source": [
    "In the list above, the third value is `NaN`, with a count of 43. `NaN` stands for *Not a Number*, but what it really means is that the field was empty. We can see examples of this below:"
   ]
  },
  {
   "cell_type": "code",
   "execution_count": null,
   "id": "402293df",
   "metadata": {},
   "outputs": [],
   "source": [
    "melted_df[melted_df.actors.isnull()].head()"
   ]
  },
  {
   "cell_type": "markdown",
   "id": "0fd90a89",
   "metadata": {},
   "source": [
    "These rows with no actors listed are a side effect of the original table with *actor_1*, *actor_2* and *actor_3*. At times there were fewer than three actors listed, in which case one or more of those columns was left empty."
   ]
  },
  {
   "cell_type": "markdown",
   "id": "3612aab3",
   "metadata": {},
   "source": [
    "In our new table, however, these rows are no longer required, they simply duplicate movies and their corresponding genres without listing any new actors. They can be removed as follows:"
   ]
  },
  {
   "cell_type": "code",
   "execution_count": null,
   "id": "3e328229",
   "metadata": {},
   "outputs": [],
   "source": [
    "'  The Good Dinosaur      '.strip()"
   ]
  },
  {
   "cell_type": "markdown",
   "id": "e1044cd2",
   "metadata": {},
   "source": [
    "This also works for the non-breaking spaces shown above:"
   ]
  },
  {
   "cell_type": "code",
   "execution_count": null,
   "id": "ee5bd467",
   "metadata": {},
   "outputs": [],
   "source": [
    "'The Good Dinosaur\\xa0'.strip()"
   ]
  },
  {
   "cell_type": "markdown",
   "id": "9e331ecd",
   "metadata": {},
   "source": [
    "In order to tidy our actors dataset, we need to visit every movie for each actor, and remove superfluous spaces.\n",
    "\n",
    "*pandas* makes this relatively painless, although it is complicated a little by the fact that in a given row, we have multiple movies in the *movie_titles* column:"
   ]
  },
  {
   "cell_type": "code",
   "execution_count": null,
   "id": "53d44e80",
   "metadata": {},
   "outputs": [],
   "source": [
    "combined['movie_titles'] = combined.movie_titles.apply(lambda x: [el.strip() for el in x])"
   ]
  },
  {
   "cell_type": "markdown",
   "id": "ccd01a9d",
   "metadata": {},
   "source": [
    "Now if we look again at the movies in which A.J. Buckley acted, we see that those sneaky little spaces are no longer there:"
   ]
  },
  {
   "cell_type": "code",
   "execution_count": null,
   "id": "273f9d23",
   "metadata": {},
   "outputs": [],
   "source": [
    "for val in combined[combined.actors=='A.J. Buckley'].movie_titles.values:\n",
    "    print(val)"
   ]
  },
  {
   "cell_type": "markdown",
   "id": "91e1e428",
   "metadata": {},
   "source": [
    "Although the *actors* and *genres* columns look OK, we can repeat the process of stripping spaces with them just to be sure. \n",
    "This is a little more complicated for the *genres* column because it contains multiple values:"
   ]
  },
  {
   "cell_type": "code",
   "execution_count": null,
   "id": "a41e3ac0",
   "metadata": {},
   "outputs": [],
   "source": [
    "combined['actors'] = combined.actors.str.strip()"
   ]
  },
  {
   "cell_type": "code",
   "execution_count": null,
   "id": "88845024",
   "metadata": {},
   "outputs": [],
   "source": [
    "combined['genres'] = combined.genres.apply(lambda genres: {genre.strip() for genre in genres} )"
   ]
  },
  {
   "cell_type": "code",
   "execution_count": null,
   "id": "c31e21dd",
   "metadata": {},
   "outputs": [],
   "source": [
    "combined.head()"
   ]
  },
  {
   "cell_type": "markdown",
   "id": "d4f2f953",
   "metadata": {},
   "source": [
    "Finally, we may want our movies and genres to be sorted in alphabetical order. It is important that this is done **after** removing extra spaces:"
   ]
  },
  {
   "cell_type": "code",
   "execution_count": null,
   "id": "b8dc0671",
   "metadata": {},
   "outputs": [],
   "source": [
    "melted_df = pd.melt(df, id_vars=[\"movie_title\", \"genres\"]  , value_name=\"actors\")"
   ]
  },
  {
   "cell_type": "markdown",
   "id": "af9f49cb",
   "metadata": {},
   "source": [
    "Below are the first five rows of our new table. Note that there is now a single column for actors, and another column that specifies whether the actor was numbered one, two or three in the original table."
   ]
  },
  {
   "cell_type": "code",
   "execution_count": null,
   "id": "44037157",
   "metadata": {},
   "outputs": [],
   "source": [
    "melted_df.dropna(subset=['actors'], inplace=True)"
   ]
  },
  {
   "cell_type": "markdown",
   "id": "31dfba6c",
   "metadata": {},
   "source": [
    "If we look again at the movie count for different actors you will notice that the `NaN` values are gone:"
   ]
  },
  {
   "cell_type": "code",
   "execution_count": null,
   "id": "153d542b",
   "metadata": {},
   "outputs": [],
   "source": [
    "melted_df.actors.value_counts()[:20]"
   ]
  },
  {
   "cell_type": "markdown",
   "id": "35cfd6c9",
   "metadata": {},
   "source": [
    "Here again is a reminder of what our table looks like currently:"
   ]
  },
  {
   "cell_type": "markdown",
   "id": "e940c65a",
   "metadata": {},
   "source": [
    "The next step is to group the data such that we have a single row for each unique actor. Within this row all the movies they have acted in will appear in a list:"
   ]
  },
  {
   "cell_type": "code",
   "execution_count": null,
   "id": "73fe6857",
   "metadata": {},
   "outputs": [],
   "source": [
    "actors_movies = melted_df.groupby('actors').movie_title.apply(list).to_frame().reset_index()"
   ]
  },
  {
   "cell_type": "markdown",
   "id": "86798e2f",
   "metadata": {},
   "source": [
    "A lot happened in the above bit of code. It employs some advanced data wrangling concepts that are beyond the scope of this intro. \n",
    "\n",
    "For now, note simply that we obtained the result we were after with only a small amount of code.\n",
    "\n",
    "In the table below, each actor has a row, while all of the movies they have acted in appear in a list:"
   ]
  },
  {
   "cell_type": "code",
   "execution_count": null,
   "id": "46ba84cc",
   "metadata": {},
   "outputs": [],
   "source": [
    "combined[combined.actors=='A.J. Buckley'].movie_titles"
   ]
  },
  {
   "cell_type": "markdown",
   "id": "97d74d48",
   "metadata": {},
   "source": [
    "If we look very closely above, we can see that there is a space between each movie title and the comma that follows.\n",
    "\n",
    "As it happens, this is a special kind of space called a non-breaking space (https://en.wikipedia.org/wiki/Non-breaking_space). It is often represented in a string of text with the following `\\xa0`.\n",
    "We can see this explicitly below:"
   ]
  },
  {
   "cell_type": "markdown",
   "id": "ef62f571",
   "metadata": {},
   "source": [
    "Given a string of text like the following, with leading and/or trailing spaces, `\"  The Good Dinosaur      \"`, superfluous spaces can be removed with the python `strip` function:"
   ]
  },
  {
   "cell_type": "code",
   "execution_count": null,
   "id": "1c350fde",
   "metadata": {},
   "outputs": [],
   "source": [
    "df = pd.read_csv('movie_reduced.csv')"
   ]
  },
  {
   "cell_type": "markdown",
   "id": "2b56874c",
   "metadata": {},
   "source": [
    "After importing the data, we show the first five rows below. Consider the dataset. Have you ever seen something similar? \n",
    "\n",
    "It contains a list of movies, columns containing the names of three people who acted in the movie, and a list of genres that describe the movie, all in a single column. \n",
    "\n",
    "This is perhaps OK if we want to know about a particular movie, but what if we are more interested in individual genres or actors?"
   ]
  },
  {
   "cell_type": "code",
   "execution_count": null,
   "id": "b4033511",
   "metadata": {},
   "outputs": [],
   "source": [
    "df.head()"
   ]
  },
  {
   "cell_type": "markdown",
   "id": "df486f2b",
   "metadata": {},
   "source": [
    "In the example that follows, we are going to imagine that we want to make a Collection in Omeka that is all about the actors. For a given actor, we will have a list of all of the movies that they have acted in and the genres associated with those movies. Eventually, you could build on this approach to have an Omeka database with separate collections for Movies, Actors and Genres, with links connecting them together."
   ]
  },
  {
   "cell_type": "markdown",
   "id": "a0e10285",
   "metadata": {},
   "source": [
    "The main problem with the dataset above is that all of the actors are listed in separate columns. Note too that not all movies have three actors listed."
   ]
  },
  {
   "cell_type": "markdown",
   "id": "1c03f7ee",
   "metadata": {},
   "source": [
    "The first, and most important step in transforming this data, is to put all of the actors in a single column.\n",
    "For our purposes, this is **not** done by concatenating the columns together, as has been done with *genres*.\n",
    "\n",
    "Instead, we can imagine that the three actor columns are stacked vertically, one on top of the other, with the *movie_title* and *genres* duplicated as required."
   ]
  },
  {
   "cell_type": "markdown",
   "id": "c6379c35",
   "metadata": {},
   "source": [
    "Currently, our table has around 5000 rows:"
   ]
  },
  {
   "cell_type": "code",
   "execution_count": null,
   "id": "2c8427de",
   "metadata": {},
   "outputs": [],
   "source": [
    "df.shape"
   ]
  },
  {
   "cell_type": "markdown",
   "id": "3dd2d5fe",
   "metadata": {},
   "source": [
    "Once the actors are placed into a single column, this will triple."
   ]
  },
  {
   "cell_type": "markdown",
   "id": "fbca281d",
   "metadata": {},
   "source": [
    "To perform this transformation, we can use a *pandas* function called `melt`, which can melt down multiple columns into a single column by stacking them one on top of the other.\n",
    "For this to work, we just need to specify those columns that we don't want to melt down: in this case those are the *movie_title* and *genres* columns."
   ]
  },
  {
   "cell_type": "code",
   "execution_count": null,
   "id": "0c993488",
   "metadata": {},
   "outputs": [],
   "source": [
    "actors_movies.head(10)"
   ]
  },
  {
   "cell_type": "markdown",
   "id": "d5307ebc",
   "metadata": {},
   "source": [
    "If we want to see the movies for a single actor, we can do so as follows:"
   ]
  },
  {
   "cell_type": "code",
   "execution_count": null,
   "id": "054de182",
   "metadata": {},
   "outputs": [],
   "source": [
    "for movie in actors_movies[actors_movies.actors=='50 Cent'].movie_title.iloc[0]:\n",
    "    print(movie)"
   ]
  },
  {
   "cell_type": "markdown",
   "id": "ab029455",
   "metadata": {},
   "source": [
    "Let's return to our early table as shown below:"
   ]
  },
  {
   "cell_type": "markdown",
   "id": "98cfa5fa",
   "metadata": {},
   "source": [
    "We now want to get a list of the genres associated with each actor and can do so in a similar manner to above.\n",
    "\n",
    "A first step here is to split the *genres* column into a list of genres, instead of a single string of text, as is currently the case.\n",
    "\n",
    "Below we tell pandas to split this column wherever the pipe `|` character appears:"
   ]
  },
  {
   "cell_type": "code",
   "execution_count": null,
   "id": "3f806934",
   "metadata": {},
   "outputs": [],
   "source": [
    "melted_df['genres'] = melted_df.genres.str.split('|')"
   ]
  },
  {
   "cell_type": "markdown",
   "id": "4aebbffd",
   "metadata": {},
   "source": [
    "We can now create a table of actors and the genres they have been associated with.\n",
    "\n",
    "Again, a deep exploration of the code used here is beyond the scope of this data wrangling taster.\n",
    "\n",
    "However, it serves to give you a sense of the kind of data superpowers you can look forward to if you commit to learning more about data wrangling, be it with python, R, or some other tool."
   ]
  },
  {
   "cell_type": "code",
   "execution_count": null,
   "id": "27f97e08",
   "metadata": {},
   "outputs": [],
   "source": [
    "from itertools import chain\n",
    "actors_genres = melted_df.groupby('actors').genres.apply(lambda x: set(chain.from_iterable(x.values))).to_frame().reset_index()"
   ]
  },
  {
   "cell_type": "code",
   "execution_count": null,
   "id": "ee77ba9b",
   "metadata": {},
   "outputs": [],
   "source": [
    "actors_genres.head(20)"
   ]
  },
  {
   "cell_type": "markdown",
   "id": "11cf745d",
   "metadata": {},
   "source": [
    "To confirm that this all worked, let's take a look at the movies of 'AJ Michalka', listed in the row marked `5` above. We can see that the genres correspond exactly, with duplicates removed in the `actors_genres` table:"
   ]
  },
  {
   "cell_type": "code",
   "execution_count": null,
   "id": "8f6fb35b",
   "metadata": {},
   "outputs": [],
   "source": [
    "melted_df[melted_df.actors == 'AJ Michalka']"
   ]
  },
  {
   "cell_type": "markdown",
   "id": "ead8c25e",
   "metadata": {},
   "source": [
    "After all this we now have two new tables, one with actors and genres, and another with actors and movies. They both have 6255 rows (one row for each actor) and two columns. \n",
    "\n",
    "We can check this with the `shape` attribute of each table:"
   ]
  },
  {
   "cell_type": "code",
   "execution_count": null,
   "id": "2120b508",
   "metadata": {},
   "outputs": [],
   "source": [
    "combined['movie_titles'] = combined.movie_titles.apply(sorted)\n",
    "combined['genres'] = combined.genres.apply(sorted)"
   ]
  },
  {
   "cell_type": "markdown",
   "id": "fdba1b21",
   "metadata": {},
   "source": [
    "This gives the following:"
   ]
  },
  {
   "cell_type": "code",
   "execution_count": null,
   "id": "a711c7c3",
   "metadata": {},
   "outputs": [],
   "source": [
    "combined.head(20)"
   ]
  },
  {
   "cell_type": "markdown",
   "id": "af9758aa",
   "metadata": {},
   "source": [
    "There is more we could do with this dataset. For instance, it doesn't seem right that we have both AJ and A.J. used for initials. If you're up for a challenge, you could investigate the pandas `replace` function to see if you can work out how we could remove full stops from initials: https://pandas.pydata.org/pandas-docs/version/0.22/generated/pandas.Series.str.replace.html"
   ]
  },
  {
   "cell_type": "markdown",
   "id": "887322bf",
   "metadata": {},
   "source": [
    "Having come to the end of this data wrangling taster, the very last step is to export our data as a *csv* file for use elsewhere:"
   ]
  },
  {
   "cell_type": "code",
   "execution_count": null,
   "id": "a53a3c52",
   "metadata": {},
   "outputs": [],
   "source": [
    "combined.to_csv('combined.csv')"
   ]
  },
  {
   "cell_type": "markdown",
   "id": "80a9b72b",
   "metadata": {},
   "source": [
    "___ "
   ]
  },
  {
   "cell_type": "markdown",
   "id": "af1c3c00",
   "metadata": {},
   "source": [
    "# Coda"
   ]
  },
  {
   "cell_type": "markdown",
   "id": "e2a88d4d",
   "metadata": {},
   "source": [
    "The main code used across the whole of this notebook is shown below, with comments preceded by the `#` symbol. We accomplished a lot in only fifteen lines of code!"
   ]
  },
  {
   "cell_type": "code",
   "execution_count": null,
   "id": "5deb58e0",
   "metadata": {},
   "outputs": [],
   "source": [
    "###### IMPORTING DATA ######\n",
    "\n",
    "#1 Import pandas \n",
    "import pandas as pd\n",
    "\n",
    "#2 Read our data from a csv into a table named df\n",
    "df = pd.read_csv('movie_reduced.csv')\n",
    "\n",
    "\n",
    "\n",
    "###### DATA WRANGLING ######\n",
    "\n",
    "#3 Stack our actor_1, actor_2 and actor_3 columns on top of each other with the pandas melt function\n",
    "melted_df = pd.melt(df, id_vars=[\"movie_title\", \"genres\"]  , value_name=\"actors\")\n",
    "\n",
    "#4 Split up the genres that are separated with the \"|\" character\n",
    "melted_df['genres'] = melted_df.genres.str.split('|')\n",
    "\n",
    "#5 Create a table with a row for each actor and a list of the movies they acted in\n",
    "actors_movies = melted_df.groupby('actors').movie_title.apply(list).to_frame().reset_index()\n",
    "\n",
    "#6 Import a tool for connecting lists of items (used in the next step)\n",
    "from itertools import chain\n",
    "\n",
    "#7 Create a table with a row for each actor and a list of the genres they have been part of\n",
    "actors_genres = melted_df.groupby('actors').genres.apply(lambda x: set(chain.from_iterable(x.values))).to_frame().reset_index()\n",
    "\n",
    "#8 Combine the movies and genres tables created above\n",
    "combined = pd.merge(left=actors_movies, right=actors_genres, on=\"actors\")\n",
    "\n",
    "#9 Rename the columns in the combined table (changing movie_title to movie_titles)\n",
    "combined.columns = ['actors', 'movie_titles', 'genres']\n",
    "\n",
    "\n",
    "\n",
    "###### REMOVING SPACES ######\n",
    "\n",
    "#10 Remove any leading or trailing spaces from every movie in the movie_titles column\n",
    "combined['movie_titles'] = combined.movie_titles.apply(lambda x: [el.strip() for el in x])\n",
    "\n",
    "#11 Remove any leading or trailing spaces from every actor in the actors column\n",
    "combined['actors'] = combined.actors.str.strip()\n",
    "\n",
    "#12 Remove any leading or trailing spaces from every genre in the genres column\n",
    "combined['genres'] = combined.genres.apply(lambda genres: {genre.strip() for genre in genres} )\n",
    "\n",
    "\n",
    "\n",
    "###### SORTING ######\n",
    "\n",
    "#13 Sort the movies in the movie_titles column\n",
    "combined['movie_titles'] = combined.movie_titles.apply(sorted)\n",
    "\n",
    "#14 Sort the genres in the genres column\n",
    "combined['genres'] = combined.genres.apply(sorted)\n",
    "\n",
    "\n",
    "\n",
    "###### EXPORT ######\n",
    "\n",
    "#15 Export our table to csv \n",
    "combined.to_csv('combined.csv')"
   ]
  },
  {
   "cell_type": "markdown",
   "id": "72b2cc24",
   "metadata": {},
   "source": [
    "Let's run all this code together and see where we began and where we ended up below:"
   ]
  },
  {
   "cell_type": "code",
   "execution_count": null,
   "id": "467c7f3e",
   "metadata": {},
   "outputs": [],
   "source": [
    "actors_genres.shape"
   ]
  },
  {
   "cell_type": "code",
   "execution_count": null,
   "id": "8f972435",
   "metadata": {},
   "outputs": [],
   "source": [
    "actors_movies.shape"
   ]
  },
  {
   "cell_type": "markdown",
   "id": "97f496e3",
   "metadata": {},
   "source": [
    "The last step is to combine these tables using the \"actor\" column, which appears in both, to join them:"
   ]
  },
  {
   "cell_type": "code",
   "execution_count": null,
   "id": "f3c2162e",
   "metadata": {},
   "outputs": [],
   "source": [
    "combined = pd.merge(left=actors_movies, right=actors_genres, on=\"actors\")\n",
    "combined.columns = ['actors', 'movie_titles', 'genres']"
   ]
  },
  {
   "cell_type": "markdown",
   "id": "3879df06",
   "metadata": {},
   "source": [
    "# Data cleaning"
   ]
  },
  {
   "cell_type": "markdown",
   "id": "eda9055c",
   "metadata": {},
   "source": [
    "Happy as we might be with all the work we did above, there are still a few issues with the data that need attention.\n",
    "\n",
    "Let's look at some of the movies in which A.J. Buckley acted."
   ]
  }
 ],
 "metadata": {},
 "nbformat": 4,
 "nbformat_minor": 5
}
