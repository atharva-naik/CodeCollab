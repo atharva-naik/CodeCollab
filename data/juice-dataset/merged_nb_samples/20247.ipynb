{
 "cells": [
  {
   "cell_type": "code",
   "execution_count": null,
   "id": "abd4dd4f",
   "metadata": {},
   "outputs": [],
   "source": [
    "import vtki\n",
    "from vtki import examples\n",
    "import numpy as np\n",
    "import vtk"
   ]
  },
  {
   "cell_type": "markdown",
   "id": "9e4a1c90",
   "metadata": {},
   "source": [
    "# Overview of `vtki`\n",
    "\n",
    "This notebook demos the examples present directly in the `vtki` package and helps new users learn how to get started using `vtki`. \n",
    "\n",
    "This notebook is outlined in a manner that builds up an understanding of how `vtki` wraps VTK data objects so that we can show how to use the `vtki` objects then demostrate how those `vtki` objects are plotted."
   ]
  },
  {
   "cell_type": "markdown",
   "id": "01b6b81f",
   "metadata": {},
   "source": [
    "-----\n",
    "\n",
    "## Getting Started\n",
    "\n",
    "Do you have some VTK data objects or VTK data files that you'd like to use in a Pythonic manner? Then go ahead and load your data file with its appriate class! The classes available in `vtki` correspond to VTK classes in the following way:\n",
    "\n",
    "| `vtki` Class | `vtk` Class |\n",
    "|--------------|-------------|\n",
    "|`vtki.PolyData`|`vtk.vtkPolyData`|\n",
    "|`vtki.StructuredGrid`|`vtk.vtkStructuredGrid`|\n",
    "|`vtki.UnstructuredGrid`|`vtk.vtkUnstructuredGrid`|\n",
    "|`vtki.UniformGrid`|`vtk.vtkImageData`|\n",
    "|`vtki.RectilinearGrid`|`vtk.vtkRectilinearGrid`|\n",
    "\n",
    "If you want to load a data file, then go ahead and use `vtki`'s `read` method to read your file. This function will handle figuing out what kind of data file you have and return the appropriate `vtki` object for you:\n",
    "\n",
    "```py\n",
    "import vtki\n",
    "filename = 'myfile.vtk'\n",
    "data = vtki.read(filename)\n",
    "```\n",
    "\n",
    "We already have some VTK files under the examples directory so how about we grab that filename and demo this!"
   ]
  },
  {
   "cell_type": "code",
   "execution_count": null,
   "id": "350c12fb",
   "metadata": {},
   "outputs": [],
   "source": [
    "#NBVAL_CHECK_OUTPUT\n",
    "filename = examples.uniformfile\n",
    "data = vtki.read(filename)\n",
    "type(data)"
   ]
  },
  {
   "cell_type": "markdown",
   "id": "047985a7",
   "metadata": {},
   "source": [
    "Awesome! Now we have a `UniformGrid` ready to use (this is essentially just a wrapped `vtkImageData` object, so you could still pass this on to VTK algorithms.\n",
    "\n",
    "*So why do I want a `vtki` wrapped object?* **First**, these allow you to access attributes of the VTK data object in a more Pythonic manner. For example:"
   ]
  },
  {
   "cell_type": "code",
   "execution_count": null,
   "id": "cef3b003",
   "metadata": {},
   "outputs": [],
   "source": [
    "#NBVAL_CHECK_OUTPUT\n",
    "data.n_cells"
   ]
  },
  {
   "cell_type": "code",
   "execution_count": null,
   "id": "8a7c093c",
   "metadata": {},
   "outputs": [],
   "source": [
    "#NBVAL_CHECK_OUTPUT\n",
    "data.n_points"
   ]
  },
  {
   "cell_type": "code",
   "execution_count": null,
   "id": "ad138895",
   "metadata": {},
   "outputs": [],
   "source": [
    "#NBVAL_CHECK_OUTPUT\n",
    "data.n_scalars"
   ]
  },
  {
   "cell_type": "code",
   "execution_count": null,
   "id": "0c6064b6",
   "metadata": {},
   "outputs": [],
   "source": [
    "data.points"
   ]
  },
  {
   "cell_type": "markdown",
   "id": "74cc4044",
   "metadata": {},
   "source": [
    "**Second**, `vtki` has HTML representation for the VTK data objects that will give you a whole lot more insight into the data object that VTK's typicall printing of the class name and memory address:"
   ]
  },
  {
   "cell_type": "code",
   "execution_count": null,
   "id": "6ac17bd1",
   "metadata": {},
   "outputs": [],
   "source": [
    "data"
   ]
  },
  {
   "cell_type": "markdown",
   "id": "f09c7213",
   "metadata": {},
   "source": [
    "**And third**, `vtki` has functions to handle plotting these objects right out of the box. You can simply call the `plot()` method on any `vtki` object and a rendering will be produced for you!\n",
    "You can also pass the scalar name that you'd like to view and `vtki` will handle coloring your dataset by that array:"
   ]
  },
  {
   "cell_type": "code",
   "execution_count": null,
   "id": "86ffb637",
   "metadata": {},
   "outputs": [],
   "source": [
    "data.plot(scalars='Spatial Cell Data')"
   ]
  },
  {
   "cell_type": "markdown",
   "id": "392be93c",
   "metadata": {},
   "source": [
    "-----\n",
    "\n",
    "## Creating new VTK objects on the fly\n",
    "\n",
    "Here is a demo on how to quickly create new VTK data objects using `vtki`"
   ]
  },
  {
   "cell_type": "markdown",
   "id": "eaea8b3b",
   "metadata": {},
   "source": [
    "### vtkPolyData"
   ]
  },
  {
   "cell_type": "code",
   "execution_count": null,
   "id": "c38b6f52",
   "metadata": {},
   "outputs": [],
   "source": [
    "x = np.random.uniform(0, 10, 100)\n",
    "y = np.random.uniform(0, 10, 100)\n",
    "z = np.random.uniform(0, 10, 100)\n",
    "\n",
    "mesh = vtki.PolyData(np.c_[x,y,z])\n",
    "mesh"
   ]
  },
  {
   "cell_type": "markdown",
   "id": "01183b19",
   "metadata": {},
   "source": [
    "### vtkStructuredGrid"
   ]
  },
  {
   "cell_type": "code",
   "execution_count": null,
   "id": "923af85b",
   "metadata": {},
   "outputs": [],
   "source": [
    "xrng = np.arange(-10, 10, 2)\n",
    "yrng = np.arange(-10, 10, 1)\n",
    "zrng = np.arange(-10, 10, 0.5)\n",
    "x, y, z = np.meshgrid(xrng, yrng, zrng)\n",
    "grid = vtki.StructuredGrid(x, y, z)\n",
    "grid.plot()"
   ]
  },
  {
   "cell_type": "markdown",
   "id": "3e9c0668",
   "metadata": {},
   "source": [
    "### vtkUnstructuredGrid"
   ]
  },
  {
   "cell_type": "code",
   "execution_count": null,
   "id": "735c204a",
   "metadata": {},
   "outputs": [],
   "source": [
    "offset = np.array([0, 9])\n",
    "cells = np.array([8, 0, 1, 2, 3, 4, 5, 6, 7, 8, 8, 9, 10, 11, 12, 13, 14, 15])\n",
    "cell_type = np.array([vtk.VTK_HEXAHEDRON, vtk.VTK_HEXAHEDRON], np.int8)\n",
    "\n",
    "cell1 = np.array([[0, 0, 0],\n",
    "                  [1, 0, 0],\n",
    "                  [1, 1, 0],\n",
    "                  [0, 1, 0],\n",
    "                  [0, 0, 1],\n",
    "                  [1, 0, 1],\n",
    "                  [1, 1, 1],\n",
    "                  [0, 1, 1]])\n",
    "\n",
    "cell2 = np.array([[0, 0, 2],\n",
    "                  [1, 0, 2],\n",
    "                  [1, 1, 2],\n",
    "                  [0, 1, 2],\n",
    "                  [0, 0, 3],\n",
    "                  [1, 0, 3],\n",
    "                  [1, 1, 3],\n",
    "                  [0, 1, 3]])\n",
    "\n",
    "points = np.vstack((cell1, cell2))\n",
    "\n",
    "grid = vtki.UnstructuredGrid(offset, cells, cell_type, points)\n",
    "grid.plot()"
   ]
  },
  {
   "cell_type": "markdown",
   "id": "3e4c90fc",
   "metadata": {},
   "source": [
    "### vtkImageData"
   ]
  },
  {
   "cell_type": "code",
   "execution_count": null,
   "id": "6c9474c4",
   "metadata": {},
   "outputs": [],
   "source": [
    "dims = (10, 10, 10)\n",
    "grid = vtki.UniformGrid(dims) # Using default spacing and origin\n",
    "spacing = (2, 1, 5)\n",
    "grid = vtki.UniformGrid(dims, spacing) # Usign default origin\n",
    "origin = (10, 35, 50)\n",
    "grid = vtki.UniformGrid(dims, spacing, origin) # Everything is specified\n",
    "grid.plot()"
   ]
  },
  {
   "cell_type": "markdown",
   "id": "aeabaa90",
   "metadata": {},
   "source": [
    "### vtkRectilinearGrid"
   ]
  }
 ],
 "metadata": {},
 "nbformat": 4,
 "nbformat_minor": 5
}
