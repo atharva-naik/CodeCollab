{
 "cells": [
  {
   "cell_type": "markdown",
   "id": "f3ce4172",
   "metadata": {},
   "source": [
    "# LSST Microlens Rate #"
   ]
  },
  {
   "cell_type": "markdown",
   "id": "ce4f873b",
   "metadata": {},
   "source": [
    "**2016-05-18 (WIC)** - Attempt to find a version of Poleski (2016 MNRAS) appropriate for LSST."
   ]
  },
  {
   "cell_type": "markdown",
   "id": "0cd47e63",
   "metadata": {},
   "source": [
    "## Motivation ##"
   ]
  },
  {
   "cell_type": "markdown",
   "id": "e9df9a4e",
   "metadata": {},
   "source": [
    "Poleski (2016 MNRAS, hereafter P16) has a nice empirical relation for the specific microlensing rate (per square degrees per year) for stellar events with timescale > 8d. This takes the broad form\n",
    "\\begin{equation}\n",
    "    \\gamma \\sim N^{\\alpha}_{lens} N_{src}\n",
    "\\end{equation}\n",
    "where $N_{lens}$ is the surface density of possible lenses, $N_{src}$ the surface density of possible background sources, and $\\alpha$ a parameter fit from the OGLE-III catalog."
   ]
  },
  {
   "cell_type": "markdown",
   "id": "39f03822",
   "metadata": {},
   "source": [
    "P16 use the following parameterization: \n",
    "\n",
    "* $N_{src}$ = $N_{\\ast}(I < I_{max})$, the number density of stars down to the OGLE-III completeness limit. \n",
    "* $N_{lens}$ = $N_{RC}$, the number of Red Clump giants measured by OGLE-III, which was essentially complete to red clump giants.\n",
    "\n",
    "For LSST we don't know $N_{RC}$, and are observing well outside the bulge in some fields. However a reasonable approach would be to parameterize $N_{lens} \\approx N_{\\ast}(I < 27)$ - i.e. the number density of potential lenses down to some deep limit - and plot against the P16 OGLE-III rates to calibrate the normalization. That is what is done here."
   ]
  },
  {
   "cell_type": "markdown",
   "id": "69d8ba6e",
   "metadata": {},
   "source": [
    "## Setup ##"
   ]
  },
  {
   "cell_type": "markdown",
   "id": "2f7ee5b7",
   "metadata": {},
   "source": [
    "On my system sims_maf_contrib doesn't play nice with the system. Since healpyUtils.py will be needed, ensure they are present. I have the following in my working directory:\n",
    "* healpyUtils.py\n",
    "* event_rates_CDS.dat\n",
    "* OpSim outputs in .db format\n",
    "\n",
    "Or, pre-computed density outputs might be stored somewhere. I have starMap_test"
   ]
  },
  {
   "cell_type": "code",
   "execution_count": null,
   "id": "d07e1a6a",
   "metadata": {},
   "outputs": [],
   "source": [
    "! ls -l healpy*py\n",
    "! ls -l event_rates_*dat\n",
    "! ls -l *db\n",
    "! ls -l | grep starMap_test"
   ]
  },
  {
   "cell_type": "markdown",
   "id": "bc2ccd73",
   "metadata": {},
   "source": [
    "Also need to ensure that sims_maps is set up (using gitLFS to take down the actual catalogs) as well as sims_maf."
   ]
  },
  {
   "cell_type": "markdown",
   "id": "2c874b35",
   "metadata": {},
   "source": [
    "**Needed modules and methods**"
   ]
  },
  {
   "cell_type": "code",
   "execution_count": null,
   "id": "27cc520f",
   "metadata": {},
   "outputs": [],
   "source": [
    "# Needed for spatial coords\n",
    "import numpy as np\n",
    "import healpy as hp\n",
    "import healpyUtils\n",
    "from astropy.coordinates import SkyCoord"
   ]
  },
  {
   "cell_type": "code",
   "execution_count": null,
   "id": "a6a41517",
   "metadata": {},
   "outputs": [],
   "source": [
    "# Loading pre-ran metric results\n",
    "import lsst.sims.maf.metricBundles as mb"
   ]
  },
  {
   "cell_type": "markdown",
   "id": "a39ffbfd",
   "metadata": {},
   "source": [
    "### Choices ###"
   ]
  },
  {
   "cell_type": "code",
   "execution_count": null,
   "id": "92807e6f",
   "metadata": {},
   "outputs": [],
   "source": [
    "# filenames for density metrics\n",
    "buildDensities = False\n",
    "filDensLens = 'opsim_iMag_lt_27_5_night_lt_1095_HEAL.npz'\n",
    "filDensSrc = 'opsim_iMag_lt_20_5_night_lt_1095_HEAL.npz'"
   ]
  },
  {
   "cell_type": "code",
   "execution_count": null,
   "id": "fa39e1f0",
   "metadata": {},
   "outputs": [],
   "source": [
    "# control variables\n",
    "dirMetrics = 'starMap_test'\n",
    "\n",
    "# opsimdb with chosen strategy\n",
    "opsimrun = 'minion_1016_sqlite.db'\n",
    "\n",
    "# magnitude limits for lens and source\n",
    "magFaintLens = 27.5\n",
    "magFaintSrc = 20.5\n",
    "filtLens = 'i'\n",
    "filtSrc = 'i'\n",
    "tMax = 365.25 * 3."
   ]
  },
  {
   "cell_type": "markdown",
   "id": "88875be9",
   "metadata": {},
   "source": [
    "## Obtain $N_{lens}$ and $N_{src}$"
   ]
  },
  {
   "cell_type": "code",
   "execution_count": null,
   "id": "483bf314",
   "metadata": {},
   "outputs": [],
   "source": [
    "opsdb = db.OpsimDatabase(opsimrun)\n",
    "resultsDb = db.ResultsDb(outDir=dirMetrics)"
   ]
  },
  {
   "cell_type": "code",
   "execution_count": null,
   "id": "a1bf5b31",
   "metadata": {},
   "outputs": [],
   "source": [
    "bundleList = []\n",
    "sql = 'night < %i' % (tMax) # See How well we do after year 3\n",
    "slicer = slicers.HealpixSlicer(nside=64, useCache=False)\n",
    "\n",
    "# Metrics\n",
    "metricLens = metrics.StarDensityMetric(rmagLimit=magFaintLens, \\\n",
    "                                   metricName='%sMag < %.1f' % (filtLens, magFaintLens))\n",
    "\n",
    "metricSrc = metrics.StarDensityMetric(rmagLimit=magFaintSrc, \\\n",
    "                                      metricName='%sMag < %.1f' % (filtSrc, magFaintSrc))\n",
    "\n",
    "# Maps\n",
    "mafMapLens = maps.StellarDensityMap(filtername=filtLens[:])\n",
    "mafMapSrc = maps.StellarDensityMap(filtername=filtSrc[:])\n",
    "\n",
    "plotDict = {'colorMin':0.001, 'colorMax':.1, 'logScale':True}\n",
    "\n",
    "# Assemble the bundle from the metrics\n",
    "bundle = metricBundles.MetricBundle(metricLens,\\\n",
    "                                    slicer,sql, \\\n",
    "                                    mapsList=[mafMapSrc], \\\n",
    "                                    plotDict=plotDict)\n",
    "bundleList.append(bundle)\n",
    "bundle = metricBundles.MetricBundle(metricSrc, \\\n",
    "                                    slicer,sql, \\\n",
    "                                    mapsList=[mafMapSrc], \\\n",
    "                                    plotDict=plotDict)\n",
    "bundleList.append(bundle)\n",
    "bundleDict = metricBundles.makeBundlesDictFromList(bundleList)"
   ]
  },
  {
   "cell_type": "code",
   "execution_count": null,
   "id": "c8d17597",
   "metadata": {},
   "outputs": [],
   "source": [
    "hasLens =  os.access('%s/%s' % (dirMetrics, filDensLens), os.R_OK)\n",
    "hasSrc =  os.access('%s/%s' % (dirMetrics, filDensSrc), os.R_OK)"
   ]
  },
  {
   "cell_type": "code",
   "execution_count": null,
   "id": "a0e53502",
   "metadata": {},
   "outputs": [],
   "source": [
    "if not hasLens or not hasSrc or buildDensities:\n",
    "    bgroup = metricBundles.MetricBundleGroup(bundleDict, opsdb, \\\n",
    "                                             outDir=dirMetrics, \\\n",
    "                                             resultsDb=resultsDb)\n",
    "    bgroup.runAll()\n",
    "    bgroup.plotAll(closefigs=False)\n",
    "else:\n",
    "    print \"filSrc and filLens already present. Not rebuilding.\""
   ]
  },
  {
   "cell_type": "markdown",
   "id": "b1ae6ba1",
   "metadata": {},
   "source": [
    "## Load the LSST and OGLE datasets ##"
   ]
  },
  {
   "cell_type": "markdown",
   "id": "1ca447f6",
   "metadata": {},
   "source": [
    "### LSST - \"lenses\" and \"sources\" ###"
   ]
  },
  {
   "cell_type": "code",
   "execution_count": null,
   "id": "139a2066",
   "metadata": {},
   "outputs": [],
   "source": [
    "# However we obtained it, load the bundle for lenses. \n",
    "pathLens = '%s/%s' % (dirMetrics, filDensLens)\n",
    "myBundle = mb.createEmptyMetricBundle()\n",
    "myBundle.read(pathLens)"
   ]
  },
  {
   "cell_type": "code",
   "execution_count": null,
   "id": "b4a407c6",
   "metadata": {},
   "outputs": [],
   "source": [
    "# Import the bundle for sources\n",
    "pathSrc = '%s/%s' % (dirMetrics, filDensSrc)\n",
    "srcBundle = mb.createEmptyMetricBundle()\n",
    "srcBundle.read(pathSrc)"
   ]
  },
  {
   "cell_type": "markdown",
   "id": "2826b02f",
   "metadata": {},
   "source": [
    "### OGLE - P16 Table 2 ###"
   ]
  },
  {
   "cell_type": "code",
   "execution_count": null,
   "id": "c168ae30",
   "metadata": {},
   "outputs": [],
   "source": [
    "r = ascii.get_reader(ascii.Cds)\n",
    "tIn = r.read('event_rates_CDS.dat')"
   ]
  },
  {
   "cell_type": "code",
   "execution_count": null,
   "id": "e24e2a50",
   "metadata": {},
   "outputs": [],
   "source": [
    "print tIn.colnames"
   ]
  },
  {
   "cell_type": "markdown",
   "id": "f5f938e5",
   "metadata": {},
   "source": [
    "## Find field centers for LSST estimates in galactic coords ##"
   ]
  },
  {
   "cell_type": "code",
   "execution_count": null,
   "id": "6921079c",
   "metadata": {},
   "outputs": [],
   "source": [
    "# Get the HEALPIX centers\n",
    "npix = myBundle.metricValues.size\n",
    "nside = hp.npix2nside(npix)\n",
    "ra, dec = healpyUtils.hpid2RaDec(nside, np.arange(npix))\n",
    "cc = SkyCoord(ra=np.copy(ra), dec=np.copy(dec), frame='fk5', unit='deg')"
   ]
  },
  {
   "cell_type": "code",
   "execution_count": null,
   "id": "1d08c5fa",
   "metadata": {},
   "outputs": [],
   "source": [
    "# some minor adjustments to do here... Set up convenience views:\n",
    "gL = np.copy(cc.galactic.l)\n",
    "gB = np.copy(cc.galactic.b)\n",
    "\n",
    "bHi = gL > 180.\n",
    "gL[bHi] -= 360."
   ]
  },
  {
   "cell_type": "markdown",
   "id": "ee83b50a",
   "metadata": {},
   "source": [
    "## Plot up the two datasets ##"
   ]
  },
  {
   "cell_type": "code",
   "execution_count": null,
   "id": "a3dd23a2",
   "metadata": {},
   "outputs": [],
   "source": [
    "cMap = plt.cm.get_cmap('gnuplot2')\n",
    "plt.figure(2, figsize=(10,8))\n",
    "plt.clf()\n",
    "plt.subplot(221)\n",
    "plt.scatter(gL, gB, \\\n",
    "            c=myBundle.metricValues, edgecolor='none', s=2, \\\n",
    "           cmap=cMap, norm=LogNorm())\n",
    "plt.xlabel('Galactic longitude')\n",
    "plt.ylabel('Galactic latitude')\n",
    "plt.title('sims_maf')\n",
    "plt.xlim(180., -180.)\n",
    "\n",
    "# overplot the Poleski et al. points\n",
    "plt.scatter(tIn['l'], tIn['b'], \\\n",
    "            c=tIn['gam_0.55,20.5'], \\\n",
    "            edgecolor='none', s=9, \\\n",
    "           cmap=plt.cm.get_cmap('gray'), \\\n",
    "            norm=LogNorm())\n",
    "\n",
    "plt.subplot(212)\n",
    "plt.scatter(gL, gB, \\\n",
    "            c=myBundle.metricValues, edgecolor='none', \\\n",
    "            s=25, \\\n",
    "           cmap=cMap, norm=LogNorm())\n",
    "plt.xlabel('Galactic longitude')\n",
    "plt.ylabel('Galactic latitude')\n",
    "plt.title('sims_maf')\n",
    "plt.colorbar()\n",
    "\n",
    "# overplot the Poleski et al. points\n",
    "plt.scatter(tIn['l'], tIn['b'], \\\n",
    "            c=tIn['gam_0.55,20.5'], \\\n",
    "            edgecolor='none', s=4, \\\n",
    "           cmap=plt.cm.get_cmap('gray'), \\\n",
    "            norm=LogNorm())\n",
    "plt.colorbar()\n",
    "\n",
    "plt.xlim(45., -45.)\n",
    "plt.ylim(-15., 15.)\n",
    "\n",
    "\n",
    "plt.subplot(222)\n",
    "plt.scatter(tIn['l'], tIn['b'], \\\n",
    "            c=tIn['gam_0.55,20.5'], \\\n",
    "            edgecolor='none', s=9, \\\n",
    "           cmap=plt.cm.get_cmap('gray'), \\\n",
    "            norm=LogNorm())\n",
    "plt.xlabel('Galactic longitude')\n",
    "plt.ylabel('Galactic latitude')\n",
    "plt.title('Poleski 2016 Gamma')\n",
    "plt.xlim(15., -15.)"
   ]
  },
  {
   "cell_type": "markdown",
   "id": "8d877699",
   "metadata": {},
   "source": [
    "## Naiive cross-match spatially ##"
   ]
  },
  {
   "cell_type": "code",
   "execution_count": null,
   "id": "53b1883b",
   "metadata": {},
   "outputs": [],
   "source": [
    "# Looks like LSST less spatially-sampled, so cut down on that first\n",
    "loL = np.min(tIn['l'])-0.1\n",
    "hiL = np.max(tIn['l'])+0.1\n",
    "loB = np.min(tIn['b'])-0.1\n",
    "hiB = np.max(tIn['b'])+0.1\n",
    "bReg = (gL >= loL) & (gL < hiL) & (gB >= loB) & (gB < hiB) \n",
    "gReg = np.where(bReg)[0]"
   ]
  },
  {
   "cell_type": "code",
   "execution_count": null,
   "id": "fdda6e77",
   "metadata": {},
   "outputs": [],
   "source": [
    "# select OGLE-III fields for above minimum event rate\n",
    "rateMin = 0.2  # two per HEALPIX per decade\n",
    "bOGLE = (tIn['gam_0.55,20.5'] > rateMin)"
   ]
  },
  {
   "cell_type": "code",
   "execution_count": null,
   "id": "e1fa32ed",
   "metadata": {},
   "outputs": [],
   "source": [
    "plt.figure(3, figsize=(6,4))\n",
    "plt.clf()\n",
    "plt.scatter(gL[bReg], gB[bReg], \\\n",
    "            c=myBundle.metricValues[bReg], edgecolor='none', \\\n",
    "            s=64, \\\n",
    "           cmap=cMap, norm=LogNorm())\n",
    "plt.xlabel('Galactic longitude')\n",
    "plt.ylabel('Galactic latitude')\n",
    "plt.title('sims_maf')\n",
    "plt.colorbar()\n",
    "\n",
    "plt.scatter(tIn['l'], tIn['b'], \\\n",
    "            c='k', \\\n",
    "            edgecolor='none', s=2, \\\n",
    "           cmap=plt.cm.get_cmap('gray'), \\\n",
    "            norm=LogNorm())"
   ]
  },
  {
   "cell_type": "markdown",
   "id": "68450691",
   "metadata": {},
   "source": [
    "Minimum distance... From Slicer:\n",
    "\"Healpix slicer using NSIDE=64, approximate resolution 54.967783 arcminutes\""
   ]
  },
  {
   "cell_type": "code",
   "execution_count": null,
   "id": "40212518",
   "metadata": {},
   "outputs": [],
   "source": [
    "def naiiveMatch(x1, y1, x2, y2, dMin=0.5):\n",
    "    \n",
    "    \"\"\"Quick and rough matching between two sets of coordinates. Returns matching indices.\"\"\"\n",
    "    \n",
    "    n1 = np.size(x1)\n",
    "    n2 = np.size(x2)\n",
    "    \n",
    "    # arrays of matches\n",
    "    l1 = []\n",
    "    l2 = []\n",
    "        \n",
    "    for i1 in range(n1):\n",
    "        xc = np.float(x1[i1])\n",
    "        yc = np.float(y1[i1])\n",
    "        d2 = np.sqrt( (x2 - xc)**2 + (y2 - yc)**2)\n",
    "        if np.min(d2) > dMin:\n",
    "            continue\n",
    "        \n",
    "        l1.append(i1)\n",
    "        l2.append(np.argmin(d2))\n",
    "    \n",
    "    return np.asarray(l1, 'int'), np.asarray(l2, 'int')"
   ]
  },
  {
   "cell_type": "code",
   "execution_count": null,
   "id": "79072256",
   "metadata": {},
   "outputs": [],
   "source": [
    "# find the nearest matches\n",
    "gLSST, gOGLE = naiiveMatch(gL[bReg], gB[bReg], tIn['l'][bOGLE], tIn['b'][bOGLE])"
   ]
  },
  {
   "cell_type": "code",
   "execution_count": null,
   "id": "8bdae254",
   "metadata": {},
   "outputs": [],
   "source": [
    "gReg = np.where(bReg)[0]\n",
    "gNonzer = np.where(bOGLE)[0]\n",
    "\n",
    "# Get the indices we'll actually need\n",
    "gSims = gReg[gLSST]\n",
    "gObs = gNonzer[gOGLE]"
   ]
  },
  {
   "cell_type": "markdown",
   "id": "07c27e72",
   "metadata": {},
   "source": [
    "## What do the P16 data look like? ##"
   ]
  },
  {
   "cell_type": "markdown",
   "id": "873efbf3",
   "metadata": {},
   "source": [
    "P16 does not include the actual microlensing rates observed by OGLE, but instead the predictions for $\\gamma$. So let's take a look at that parameter..."
   ]
  },
  {
   "cell_type": "code",
   "execution_count": null,
   "id": "88d4156e",
   "metadata": {},
   "outputs": [],
   "source": [
    "# try a golden-rule scaling\n",
    "nStars = myBundle.metricValues[gSims][gModerate]\n",
    "nRC = tIn['N_RC'][gObs][gModerate]\n",
    "fLens = np.sum(nStars * nRC) / np.sum(nStars**2)\n",
    "print fLens"
   ]
  },
  {
   "cell_type": "code",
   "execution_count": null,
   "id": "8950f8ab",
   "metadata": {},
   "outputs": [],
   "source": [
    "# let's try a straight scatterplot of the LSST density \n",
    "# vs the P16 R16 density...\n",
    "plt.figure(4, figsize=(12,5))\n",
    "plt.clf()\n",
    "\n",
    "sAnno = r'Dashed: $N_{RC} = %.2f + %.1f N_{LSST}$' % (parsDensMod[1], parsDensMod[0])\n",
    "sLens = r'Dot-dash: $N_{RC} = %.2f N_{LSST}$' % (fLens)\n",
    "sOutly = 'Cyan dotted: fit to |b| < %.1f only' % (bClose)\n",
    "\n",
    "# Setting alphaSho != 1 shows the component in the P16 \"sensitivity\" relation.\n",
    "#alphaSho=0.55\n",
    "alphaSho=1.\n",
    "\n",
    "# what happens if we use our straight-line fit to N_RC from N_LSST?\n",
    "xFine = np.linspace(0.0001, 2.5, 100, endpoint=True)\n",
    "yFine = np.polyval(parsDensMod, xFine)\n",
    "yOutly = np.polyval(parsLensOutly, xFine)\n",
    "\n",
    "\n",
    "plt.subplot(121)\n",
    "plt.scatter(myBundle.metricValues[gSims]**alphaSho, \\\n",
    "            tIn['N_RC'][gObs]**alphaSho, \\\n",
    "           c=tIn['b'][gObs], \\\n",
    "            edgecolor='0.7', s=36)\n",
    "plt.xlabel('(Sims_maf stars per sq arcsec)**alpha')\n",
    "plt.ylabel('(OGLE-III thousands RC/sq deg)**alpha')\n",
    "plt.colorbar()\n",
    "\n",
    "plt.xlim(-0.1,  2.0)\n",
    "#plt.ylim(0., 20.0)\n",
    "\n",
    "# Can we just scale N_LSST to N_RC??\n",
    "#plt.plot(xFine, scaleDens**0.5*xFine, 'r--', lw=2, alpha=0.5)\n",
    "plt.plot(xFine**alphaSho, yFine**alphaSho, 'r--', lw=2, alpha=0.5)\n",
    "plt.plot(xFine**alphaSho, (fLens * xFine)**alphaSho, 'k-.')\n",
    "plt.plot(xFine**alphaSho, yOutly**alphaSho, color='c', ls=':')\n",
    "\n",
    "\n",
    "\n",
    "\n",
    "plt.title(r'$N^{%.1f}$' % (alphaSho), fontsize=16)\n",
    "\n",
    "#plt.annotate(sAnno, \\\n",
    "#            (0.99, 0.15), ha='right', va='bottom', color='r', fontsize=14, \\\n",
    "#            xycoords='axes fraction')\n",
    "\n",
    "#plt.annotate(sLens, \\\n",
    "#            (0.99, 0.08), ha='right', va='bottom', color='k', fontsize=14, \\\n",
    "#            xycoords='axes fraction')\n",
    "\n",
    "plt.annotate(sOutly, \\\n",
    "            (0.95, 0.03), ha='right', va='bottom', color='c', fontsize=12, \\\n",
    "            xycoords='axes fraction')\n",
    "\n",
    "\n",
    "\n",
    "#plt.plot(myBundle.metricValues[gSims][gOutly]**alphaSho, \\\n",
    "#            tIn['N_RC'][gObs][gOutly]**alphaSho, \\\n",
    "#            'kx', zorder=25, marker='x', markersize=6)\n",
    "\n",
    "\n",
    "xFine = np.linspace(0.01, 2.5, 100.)\n",
    "yFine = np.polyval(parsDensMod, xFine)\n",
    "yOutly = np.polyval(parsLensOutly, xFine)\n",
    "\n",
    "plt.subplot(122)\n",
    "ax = plt.gca()\n",
    "ax.scatter(myBundle.metricValues[gSims][gModerate], \\\n",
    "           tIn['N_RC'][gObs][gModerate], \\\n",
    "           c=tIn['b'][gObs][gModerate], \\\n",
    "            edgecolor='0.7', s=36)\n",
    "ax.set_xscale('log')\n",
    "ax.set_yscale('log')\n",
    "ax.plot(xFine, yFine, 'r--')\n",
    "\n",
    "# now try overplotting the golden rule scaling\n",
    "ax.plot(xFine, fLens * xFine, 'k-.')\n",
    "\n",
    "# have a look at the outliers\n",
    "plt.plot(xFine, yOutly, color='c', ls=':')\n",
    "\n",
    "\n",
    "plt.xlabel('(Sims_maf stars per sq arcsec)')\n",
    "plt.ylabel('(OGLE-III thousands RC/sq deg)')\n",
    "plt.colorbar()\n",
    "plt.ylim(10,500)\n",
    "plt.xlim(0.01,10.)\n",
    "plt.title(r'$N$', fontsize=16)\n",
    "\n",
    "plt.suptitle('Color code: galactic latitude')\n",
    "\n",
    "plt.annotate(sAnno, \\\n",
    "            (0.05, 0.90), ha='left', va='top', color='r', fontsize=14, \\\n",
    "            xycoords='axes fraction')\n",
    "\n",
    "plt.annotate(sLens, \\\n",
    "            (0.05, 0.83), ha='left', va='top', color='k', fontsize=14, \\\n",
    "            xycoords='axes fraction')\n",
    "\n",
    "\n",
    "\n",
    "plt.annotate(r'$\\times$: low-latitude fields', \\\n",
    "            (0.05, 0.98), ha='left', va='top', color='c', fontsize=14, \\\n",
    "            xycoords='axes fraction')\n",
    "\n",
    "plt.annotate(sOutly, \\\n",
    "            (0.95, 0.03), ha='right', va='bottom', color='c', fontsize=12, \\\n",
    "            xycoords='axes fraction')\n",
    "\n",
    "\n",
    "# print np.min(tIn['gam_0.55,20.5'][gObs])\n",
    "\n",
    "# Show the pieces not used in the fitting\n",
    "#ax.scatter(myBundle.metricValues[gSims][gOutly], tIn['N_RC'][gObs][gOutly], \\\n",
    "#           c='k', \\\n",
    "#            edgecolor='0.7', marker='x')\n",
    "\n",
    "dum = ax.scatter(myBundle.metricValues[gSims][gOutly], \\\n",
    "           tIn['N_RC'][gObs][gOutly], \\\n",
    "#           c=tIn['b'][gObs][gOutly], \\\n",
    "                 c='c', \\\n",
    "            edgecolor='c', s=36, marker='x')\n"
   ]
  },
  {
   "cell_type": "markdown",
   "id": "c221a756",
   "metadata": {},
   "source": [
    "**Verdict:** sims_maf $N_{\\ast}(I < 27.5)$ can be roughly related to the OGLE-III $N_{RC}$, and indeed by a simple scaling from the Golden Rule... BUT this seems to break down (substantially) at high-density areas close to the plane. \n",
    "\n",
    "That the relation seems to pass close to (0,0) is reassuring, suggesting no large lurking component missing from the model -- for moderate latitudes only.\n",
    "\n",
    "For low latitude fields (light-blue circles in the above-left plot, cyan \"x\" in the right plot), there seems to be no way to force the relation through (0,0). This suggests there may indeed be a component towards the inner MW that is missing from the model used by sims_maf."
   ]
  },
  {
   "cell_type": "markdown",
   "id": "170a2e56",
   "metadata": {},
   "source": [
    "### Try fitting $N_{\\ast}(I < 20.5)$ from both surveys ###"
   ]
  },
  {
   "cell_type": "code",
   "execution_count": null,
   "id": "cc08b4b9",
   "metadata": {},
   "outputs": [],
   "source": [
    "# conversion factor\n",
    "cFac = (3600.)**2 / 1.0e6 # per sq arcsec to millions per sq deg\n",
    "print \"Area unit scale factor: %.2f\" % (cFac)"
   ]
  },
  {
   "cell_type": "code",
   "execution_count": null,
   "id": "7c78c552",
   "metadata": {},
   "outputs": [],
   "source": [
    "parsSrcMod = np.polyfit(srcBundle.metricValues[gSims][gModerate]*cFac, \\\n",
    "                         tIn['N_*(I<20.5)'][gObs][gModerate], \\\n",
    "                         1)\n",
    "print parsSrcMod"
   ]
  },
  {
   "cell_type": "code",
   "execution_count": null,
   "id": "d762f400",
   "metadata": {},
   "outputs": [],
   "source": [
    "# try a fit to the outlyers\n",
    "parsSrcOut = np.polyfit(srcBundle.metricValues[gSims][gOutly]*cFac, \\\n",
    "                         tIn['N_*(I<20.5)'][gObs][gOutly], \\\n",
    "                         1)\n",
    "print parsSrcOut"
   ]
  },
  {
   "cell_type": "code",
   "execution_count": null,
   "id": "483bbed2",
   "metadata": {},
   "outputs": [],
   "source": [
    "# use the Golden Rule to estimate scale factor:\n",
    "nSrc = srcBundle.metricValues[gSims][gModerate]*cFac\n",
    "nObs = tIn['N_*(I<20.5)'][gObs][gModerate]\n",
    "\n",
    "fScal = np.sum(nSrc * nObs) / np.sum(nSrc**2)\n",
    "print \"Golden rule scaling: %.2f\" % (fScal)"
   ]
  },
  {
   "cell_type": "code",
   "execution_count": null,
   "id": "1df75900",
   "metadata": {},
   "outputs": [],
   "source": [
    "# Check the number density  I < 20.5\n",
    "\n",
    "# conversion factor\n",
    "sUnit = 'stars per sq arcsec'\n",
    "if np.abs(cFac - 1.) > 1e-2:\n",
    "    sUnit = 'millions per sq deg'\n",
    "    \n",
    "simSho = srcBundle.metricValues[gSims] * cFac\n",
    "oglSho = tIn['N_*(I<20.5)'][gObs]\n",
    "\n",
    "plt.figure(6, figsize=(12,5))\n",
    "plt.clf()\n",
    "\n",
    "plt.subplot(121)\n",
    "plt.scatter(simSho, \\\n",
    "            oglSho, \\\n",
    "           c=tIn['b'][gObs], \\\n",
    "            s=36, \\\n",
    "           edgecolor='0.7')\n",
    "plt.xlabel('Sims_maf N(I < 20.5), %s' % (sUnit))\n",
    "plt.ylabel('OGLE-III N(I < 20.5), millions per sq deg')\n",
    "plt.colorbar()\n",
    "\n",
    "#dFine = np.linspace(0., 2.5, 100)\n",
    "#plt.plot(dFine, 2.0 + 1.5*dFine, 'g--')\n",
    "\n",
    "xFine2 = np.linspace(np.min(simSho)*0.8, np.max(simSho)*1.2)\n",
    "yFine2 = np.polyval(parsSrcMod, xFine2)\n",
    "yOutly2 = np.polyval(parsSrcOut, xFine2)\n",
    "\n",
    "\n",
    "plt.plot(xFine2, yFine2, 'r--')\n",
    "\n",
    "plt.plot(xFine2, yOutly2, color='c', ls=':')\n",
    "\n",
    "\n",
    "\n",
    "fScal = 3.1\n",
    "plt.plot(xFine2, xFine2 * fScal, 'k-.')\n",
    "\n",
    "\n",
    "sAnnoBri = r'Dashed:   $N_{OGLE} = %.2f + %.1f N_{LSST}$' % (parsSrcMod[1], parsSrcMod[0])\n",
    "sAnnoCon = r'Dot-dash: $N_{OGLE} = %.2f N_{LSST}$' % (fScal)\n",
    "plt.annotate(sAnnoBri, \\\n",
    "            (0.05, 0.15), ha='left', va='bottom', color='r', fontsize=14, \\\n",
    "            xycoords='axes fraction')\n",
    "\n",
    "plt.annotate(sAnnoCon, \\\n",
    "            (0.05, 0.05), ha='left', va='bottom', color='k', fontsize=14, \\\n",
    "            xycoords='axes fraction')\n",
    "\n",
    "sOutly = 'Cyan dotted: fit to |b| < %.1f only' % (bClose)\n",
    "plt.annotate(sOutly, (0.05, 0.95), \\\n",
    "            xycoords='axes fraction', ha='left', va='top', color='c')\n",
    "\n",
    "\n",
    "\n",
    "plt.title(r'$N_{\\ast}(I < 20.5)$, linear scale', fontsize=14)\n",
    "plt.ylim(0,7)\n",
    "\n",
    "plt.subplot(122)\n",
    "ax = plt.gca()\n",
    "ax.scatter(simSho, \\\n",
    "            oglSho, \\\n",
    "           c=tIn['b'][gObs], \\\n",
    "            s=36, \\\n",
    "           edgecolor='0.7')\n",
    "ax.set_xscale('log')\n",
    "ax.set_yscale('log')\n",
    "plt.xlabel('Sims_maf N(I < 20.5), %s' % (sUnit))\n",
    "plt.ylabel('OGLE-III N(I < 20.5), millions per sq deg')\n",
    "plt.colorbar()\n",
    "\n",
    "plt.plot(xFine2, yFine2, 'r--')\n",
    "plt.xlim(0.1,10)\n",
    "plt.ylim(1,10)\n",
    "plt.title(r'$N_{\\ast}(I < 20.5)$, log-log scale', fontsize=14)\n",
    "\n",
    "plt.suptitle('Color scale = galactic latitude')\n",
    "\n",
    "plt.plot(xFine2, xFine2 * fScal, 'k-.')\n",
    "plt.plot(xFine2, yOutly2, color='c', ls=':')\n",
    "\n",
    "\n",
    "\n",
    "plt.annotate(sAnnoBri, \\\n",
    "            (0.05, 0.15), ha='left', va='bottom', color='r', fontsize=14, \\\n",
    "            xycoords='axes fraction')\n",
    "\n",
    "plt.annotate(sAnnoCon, \\\n",
    "            (0.05, 0.05), ha='left', va='bottom', color='k', fontsize=14, \\\n",
    "            xycoords='axes fraction')\n",
    "\n",
    "plt.annotate(sOutly, (0.05, 0.95), \\\n",
    "            xycoords='axes fraction', ha='left', va='top', color='c')\n"
   ]
  },
  {
   "cell_type": "markdown",
   "id": "4bc5006e",
   "metadata": {},
   "source": [
    "As before, the cyan dotted line is the fit to \"outliers\" (i.e. |b| < 2.5$^{\\circ}$ or so)."
   ]
  },
  {
   "cell_type": "markdown",
   "id": "113e22ff",
   "metadata": {},
   "source": [
    "**Verdict:** within a factor few or so, the two densities track each other reasonably well for strongly negative galactic latitudes, but there is substantial departure at low galactic latitudes. There are two options:\n",
    "* Use the linear fit to estimate $N_{OGLE}$ from $N_{LSST}$\n",
    "* Use the scale factor only: $N_{OGLE} = f_{scal} N_{LSST}$\n",
    "\n",
    "At this point my preference is to go straight for the scaling - for both $N_{lens}$ and $N_{src}$. Using the straight-line fit might impose a constant component at all sight-lines that is not present in reality.\n",
    "\n"
   ]
  },
  {
   "cell_type": "markdown",
   "id": "ac58fbd2",
   "metadata": {},
   "source": [
    "## Use P16 from LSST densities ##"
   ]
  },
  {
   "cell_type": "code",
   "execution_count": null,
   "id": "60af6c6b",
   "metadata": {},
   "outputs": [],
   "source": [
    "import os, time"
   ]
  },
  {
   "cell_type": "code",
   "execution_count": null,
   "id": "862b55bb",
   "metadata": {},
   "outputs": [],
   "source": [
    "import matplotlib.pyplot as plt\n",
    "%matplotlib inline\n",
    "import lsst.sims.maf.db as db\n",
    "import lsst.sims.maf.metrics as metrics\n",
    "import lsst.sims.maf.slicers as slicers\n",
    "import lsst.sims.maf.metricBundles as metricBundles\n",
    "import lsst.sims.maf.maps as maps"
   ]
  },
  {
   "cell_type": "code",
   "execution_count": null,
   "id": "3004cc81",
   "metadata": {},
   "outputs": [],
   "source": [
    "# To create new bundle from the pre-loaded ones\n",
    "import copy"
   ]
  },
  {
   "cell_type": "code",
   "execution_count": null,
   "id": "4785ae29",
   "metadata": {},
   "outputs": [],
   "source": [
    "# To load P16 data\n",
    "from astropy.io import ascii"
   ]
  },
  {
   "cell_type": "code",
   "execution_count": null,
   "id": "8b30f107",
   "metadata": {},
   "outputs": [],
   "source": [
    "# handy for display\n",
    "from matplotlib.colors import LogNorm"
   ]
  }
 ],
 "metadata": {},
 "nbformat": 4,
 "nbformat_minor": 5
}
