{
 "cells": [
  {
   "cell_type": "markdown",
   "id": "a1a4bca5",
   "metadata": {},
   "source": [
    "# Accessing MAST using Astroquery: An Example\n",
    "\n",
    "In this example we will:\n",
    "* Look for a specific HST observation\n",
    "* Download and view the associated HST image\n",
    "* Find Gaia and HSC sources which fall within the image footprint\n",
    "* Overlay the catalog sources on the HSC image"
   ]
  },
  {
   "cell_type": "markdown",
   "id": "1e0624b8",
   "metadata": {},
   "source": [
    "## Imports"
   ]
  },
  {
   "cell_type": "markdown",
   "id": "706b7436",
   "metadata": {},
   "source": [
    "### astroquery.mast imports"
   ]
  },
  {
   "cell_type": "code",
   "execution_count": null,
   "id": "8441cf3b",
   "metadata": {},
   "outputs": [],
   "source": [
    "from astroquery.mast import Observations\n",
    "from astroquery.mast import Catalogs"
   ]
  },
  {
   "cell_type": "markdown",
   "id": "516f6e69",
   "metadata": {},
   "source": [
    "### Other imports"
   ]
  },
  {
   "cell_type": "code",
   "execution_count": null,
   "id": "f156e4d9",
   "metadata": {},
   "outputs": [],
   "source": [
    "import numpy as np\n",
    "\n",
    "from astropy.io import fits\n",
    "from astropy.table import Table\n",
    "from astropy.visualization import ImageNormalize, HistEqStretch\n",
    "from astropy.coordinates import SkyCoord\n",
    "import astropy.units as u\n",
    "from astropy.wcs import WCS\n",
    "\n",
    "import matplotlib.pyplot as plt\n",
    "%matplotlib inline "
   ]
  },
  {
   "cell_type": "markdown",
   "id": "9bdf42c7",
   "metadata": {},
   "source": [
    "## Querying for the HST image"
   ]
  },
  {
   "cell_type": "code",
   "execution_count": null,
   "id": "969cd8fb",
   "metadata": {},
   "outputs": [],
   "source": [
    "hst_m51_obs = Observations.query_criteria(obs_id='j97c34xgq')\n",
    "hst_m51_obs"
   ]
  },
  {
   "cell_type": "code",
   "execution_count": null,
   "id": "07f520f3",
   "metadata": {},
   "outputs": [],
   "source": [
    "hst_m51_prods = Observations.get_product_list(hst_m51_obs)\n",
    "print(\"Number of data products:\", len(hst_m51_prods))"
   ]
  },
  {
   "cell_type": "code",
   "execution_count": null,
   "id": "72d1f65e",
   "metadata": {},
   "outputs": [],
   "source": [
    "hst_m51_prods.colnames"
   ]
  },
  {
   "cell_type": "code",
   "execution_count": null,
   "id": "d2580754",
   "metadata": {},
   "outputs": [],
   "source": [
    "hst_m51_prods['description','productType','productSubGroupDescription','productFilename','size']"
   ]
  },
  {
   "cell_type": "code",
   "execution_count": null,
   "id": "f14682f5",
   "metadata": {},
   "outputs": [],
   "source": [
    "hst_m51_manifest = Observations.download_products(hst_m51_prods,productSubGroupDescription='DRZ')\n",
    "hst_m51_manifest"
   ]
  },
  {
   "cell_type": "markdown",
   "id": "7396f018",
   "metadata": {},
   "source": [
    "## Displaying the HST image"
   ]
  },
  {
   "cell_type": "code",
   "execution_count": null,
   "id": "da177e65",
   "metadata": {},
   "outputs": [],
   "source": [
    "m51_image = fits.getdata(hst_m51_manifest['Local Path'][0])"
   ]
  },
  {
   "cell_type": "code",
   "execution_count": null,
   "id": "3a6b7e45",
   "metadata": {},
   "outputs": [],
   "source": [
    "fig = plt.figure(figsize=(12,12))\n",
    "ax = fig.add_subplot(111)\n",
    "\n",
    "norm = ImageNormalize(m51_image, stretch=HistEqStretch(m51_image[~np.isnan(m51_image)]))\n",
    "ax.imshow(m51_image, cmap='gray', norm=norm)\n",
    "\n",
    "plt.show()"
   ]
  },
  {
   "cell_type": "markdown",
   "id": "af57fafa",
   "metadata": {},
   "source": [
    "## Querying for catalog sources within this footprint"
   ]
  },
  {
   "cell_type": "markdown",
   "id": "ffbb8b77",
   "metadata": {},
   "source": [
    "### Use the HST WCS info to determine our search radii"
   ]
  },
  {
   "cell_type": "code",
   "execution_count": null,
   "id": "5ac2e8b5",
   "metadata": {},
   "outputs": [],
   "source": [
    "hst_wcs = WCS(fits.getheader(hst_m51_manifest['Local Path'][0],1))\n",
    "hst_wcs"
   ]
  },
  {
   "cell_type": "code",
   "execution_count": null,
   "id": "f9b1e536",
   "metadata": {},
   "outputs": [],
   "source": [
    "center_ra,center_dec = hst_wcs.wcs.crval\n",
    "corner_ra,corner_dec = hst_wcs.wcs_pix2world(0,0,0)\n",
    "approx_radius = ((corner_ra - center_ra)**2 + (corner_dec - center_dec)**2)**0.5\n",
    "print(approx_radius,\"deg\")"
   ]
  },
  {
   "cell_type": "code",
   "execution_count": null,
   "id": "c52439de",
   "metadata": {},
   "outputs": [],
   "source": [
    "coord = SkyCoord(ra=center_ra, dec=center_dec, unit=(u.degree, u.degree), frame='icrs')\n",
    "radius = u.Quantity(approx_radius, u.deg)"
   ]
  },
  {
   "cell_type": "markdown",
   "id": "327618e8",
   "metadata": {},
   "source": [
    "### Searching for Gaia catalog sources"
   ]
  },
  {
   "cell_type": "code",
   "execution_count": null,
   "id": "34459088",
   "metadata": {},
   "outputs": [],
   "source": [
    "gaia_sources = Catalogs.query_region(coord,radius,\"Gaia\")\n",
    "print(\"Number of Gaia sources found:\",len(gaia_sources))"
   ]
  },
  {
   "cell_type": "code",
   "execution_count": null,
   "id": "56250b7e",
   "metadata": {},
   "outputs": [],
   "source": [
    "gaia_sources[:3]"
   ]
  },
  {
   "cell_type": "markdown",
   "id": "4ec43394",
   "metadata": {},
   "source": [
    "### Searching for HSC sources\n",
    "\n",
    "The HSC is a very dense catalog, so in order to make this search a more resonable size, we will only query a subsection of the footprint."
   ]
  },
  {
   "cell_type": "code",
   "execution_count": null,
   "id": "507ebf91",
   "metadata": {},
   "outputs": [],
   "source": [
    "hsc_sources = Catalogs.query_region(coord,radius/4,\"HSC\")\n",
    "print(\"Number of HSC sources found:\",len(hsc_sources))"
   ]
  },
  {
   "cell_type": "code",
   "execution_count": null,
   "id": "3bbcc058",
   "metadata": {},
   "outputs": [],
   "source": [
    "hsc_sources[:3]"
   ]
  },
  {
   "cell_type": "markdown",
   "id": "41ddd8a5",
   "metadata": {},
   "source": [
    "## Overlaying catalog sources on the HST image"
   ]
  },
  {
   "cell_type": "markdown",
   "id": "6c0ddc58",
   "metadata": {},
   "source": [
    "### Overlaying the Gaia sources"
   ]
  },
  {
   "cell_type": "code",
   "execution_count": null,
   "id": "37fa4159",
   "metadata": {},
   "outputs": [],
   "source": [
    "gaia_x,gaia_y = hst_wcs.wcs_world2pix(gaia_sources['ra'],gaia_sources['dec'],0)"
   ]
  },
  {
   "cell_type": "code",
   "execution_count": null,
   "id": "83c867c8",
   "metadata": {},
   "outputs": [],
   "source": [
    "fig = plt.figure(figsize=(20,20))\n",
    "ax = fig.add_subplot(111)\n",
    "\n",
    "ymax,xmax = m51_image.shape\n",
    "ax.set_xlim(0,xmax)\n",
    "ax.set_ylim(0,ymax)\n",
    "\n",
    "norm = ImageNormalize(m51_image, stretch=HistEqStretch(m51_image[~np.isnan(m51_image)]))\n",
    "ax.imshow(m51_image, cmap='gray', norm=norm)\n",
    "ax.scatter(gaia_x,gaia_y,s=90, facecolors='none', edgecolors='#c0004c', linewidth=2, alpha=0.75)\n",
    "\n",
    "plt.show()"
   ]
  },
  {
   "cell_type": "markdown",
   "id": "7ba1ad69",
   "metadata": {},
   "source": [
    "### Overlaying the HSC sources"
   ]
  }
 ],
 "metadata": {},
 "nbformat": 4,
 "nbformat_minor": 5
}
