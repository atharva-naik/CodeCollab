{
 "cells": [
  {
   "cell_type": "markdown",
   "id": "1139f363",
   "metadata": {},
   "source": [
    "# Are Pitchers Good Batters?\n",
    "\n",
    "*Author: Nate Reed*  \n",
    "*Date: August 18, 2016*\n",
    "\n",
    "The Lahman Baseball Database (available here: http://www.seanlahman.com/baseball-archive/statistics/) provides an extensive historical database of baseball statistics which I will use to answer the following interesting questions:\n",
    "\n",
    "* Have batting averages increased or decreased over time?\n",
    "* Is there a relationship between batting and pitching skills?\n",
    "* Of those pitchers who bat, are pitchers good batters? \n",
    "\n",
    "This report uses some informal techniques (eg. exploratory data analysis) and basic statistics to find answers to these questions. "
   ]
  },
  {
   "cell_type": "markdown",
   "id": "74e58c0e",
   "metadata": {},
   "source": [
    "# Part 1: Preliminaries\n",
    "## 1.1 Obtain the Data\n"
   ]
  },
  {
   "cell_type": "code",
   "execution_count": null,
   "id": "22cc5e41",
   "metadata": {},
   "outputs": [],
   "source": [
    "import urllib.request as request\n",
    "request.urlretrieve('http://seanlahman.com/files/database/baseballdatabank-master_2016-03-02.zip', \"baseballdatabank-master_2016-03-02.zip\")\n",
    "\n",
    "from zipfile import ZipFile\n",
    "zip = ZipFile('baseballdatabank-master_2016-03-02.zip')\n",
    "zip.extractall()"
   ]
  },
  {
   "cell_type": "markdown",
   "id": "66a72f51",
   "metadata": {},
   "source": [
    "## 1.2 Load the Batting Data\n"
   ]
  },
  {
   "cell_type": "code",
   "execution_count": null,
   "id": "861d1ca2",
   "metadata": {},
   "outputs": [],
   "source": [
    "import pandas as pd\n",
    "\n",
    "batting_df = pd.read_csv(\"baseballdatabank-master\\core\\Batting.csv\")\n",
    "print(\"%d observations\" % len(batting_df))"
   ]
  },
  {
   "cell_type": "code",
   "execution_count": null,
   "id": "551b40f3",
   "metadata": {},
   "outputs": [],
   "source": [
    "batting_df.head()"
   ]
  },
  {
   "cell_type": "markdown",
   "id": "21b95338",
   "metadata": {},
   "source": [
    "The data is indexed by playerID, yearID and teamID. Each entry contains the aggregate statistics for a player's stint on a team. A player can have multiple stints per year. "
   ]
  },
  {
   "cell_type": "markdown",
   "id": "8df3cc1b",
   "metadata": {},
   "source": [
    "## 1.3 Select columns for analysis:\n",
    "\n",
    "To understand batting, we will look at one of the common metrics for batting ability, the batting average, which is calculated as Hits / \"At Bat's\". I will select the stint and the team, in addition to hits and \"at bats\":\n"
   ]
  },
  {
   "cell_type": "code",
   "execution_count": null,
   "id": "c8e7a235",
   "metadata": {},
   "outputs": [],
   "source": [
    "batting_df = batting_df[['playerID', 'yearID', 'AB', 'H', 'stint', 'teamID', 'lgID']]\n",
    "batting_df.head(5)"
   ]
  },
  {
   "cell_type": "markdown",
   "id": "6dab908a",
   "metadata": {},
   "source": [
    "\n",
    "## 1.4 Calculate Batting Average"
   ]
  },
  {
   "cell_type": "markdown",
   "id": "3a19f8cb",
   "metadata": {},
   "source": [
    "There are some interesting changes in batting average over time. There was a spike leading up to the 1890's, followed by a steep decline, then a couple spikes leading up to a peak in the 1920's, followed by a long, slow decline into the 1960's. After that batting averages trended up into the 80's and to year 2000. We might want to explore why this happened using other data in our data set, but that is outside the scope of this initial investigation."
   ]
  },
  {
   "cell_type": "markdown",
   "id": "6c14e706",
   "metadata": {},
   "source": [
    "# Part 2: Batting Skills vs. Pitching Skills"
   ]
  },
  {
   "cell_type": "markdown",
   "id": "bdfc78b1",
   "metadata": {},
   "source": [
    "Pitching skill is measured by a few different stats, but one of the most common is Earned Run Average, or ERA. The ERA is calculated as the number of Earned Runs divided by the number of innings pitched. The definition of \"Earned Run\" is rather long. In short, it is a run for which the pitcher is held accountable (See http://www.baseball-almanac.com/rule10.shtml#anchor11198 for the full definition).\n",
    "\n",
    "The variable \"IPouts\" is the number of innings pitched times 3. We can get the number of innings pitched simply by dividing this number by 3.\n",
    "\n",
    "For batting, we refer to the batting average, although there are other statistics we could consider. For brevity, I just use the batting average we calculated above"
   ]
  },
  {
   "cell_type": "markdown",
   "id": "b64d9412",
   "metadata": {},
   "source": [
    "## 2.1 Get Pitching Data"
   ]
  },
  {
   "cell_type": "code",
   "execution_count": null,
   "id": "0f3061d1",
   "metadata": {},
   "outputs": [],
   "source": [
    "import pandas as pd\n",
    "pitching_df = pd.read_csv(\"baseballdatabank-master\\core\\Pitching.csv\")"
   ]
  },
  {
   "cell_type": "markdown",
   "id": "2d6870a7",
   "metadata": {},
   "source": [
    "## 2.2 Calculate Earned Run Average "
   ]
  },
  {
   "cell_type": "code",
   "execution_count": null,
   "id": "ecc521e9",
   "metadata": {},
   "outputs": [],
   "source": [
    "pitching_df['innings_pitched'] = pitching_df['IPouts'] / 3\n",
    "pitching_df['ERA'] = pitching_df['ER'] / pitching_df['innings_pitched'] * 9\n",
    "pitching_df = pitching_df[['playerID', 'yearID', 'stint', 'teamID', 'IPouts', 'ER', 'ERA', 'innings_pitched']]\n",
    "pitching_df.head()"
   ]
  },
  {
   "cell_type": "code",
   "execution_count": null,
   "id": "99c9b416",
   "metadata": {},
   "outputs": [],
   "source": [
    "pitching_df = pitching_df.dropna() # Drop missing values\n",
    "pitching_df.describe()"
   ]
  },
  {
   "cell_type": "code",
   "execution_count": null,
   "id": "5472f3b8",
   "metadata": {},
   "outputs": [],
   "source": [
    "import numpy as np\n",
    "pitching_df[np.isfinite(pitching_df['ERA'])]['ERA'].plot.kde()\n",
    "plt.title('Distribution of Earned Run Average')\n",
    "plt.xlabel('ERA')\n",
    "plt.show()"
   ]
  },
  {
   "cell_type": "code",
   "execution_count": null,
   "id": "0ffa2088",
   "metadata": {},
   "outputs": [],
   "source": [
    "data = pitching_df[pitching_df['innings_pitched'] > 100]\n",
    "data = data['ERA']\n",
    "data.describe()\n",
    "plt.boxplot([data])\n",
    "plt.show()\n",
    "\n",
    "# The variance is so high that a box plot "
   ]
  },
  {
   "cell_type": "markdown",
   "id": "fa01ab08",
   "metadata": {},
   "source": [
    "In the above plot, there is a wide range of values, but most observations are between 0 and 5. A \"good\" ERA is below 4. Between 4 and 5 is OK, but not great. Over 5 is considered unsustainable, as a pitcher with this ERA will likely be replaced.\n",
    "\n",
    "For this analysis, I am interested in all skill levels. Like the batters, some of these pitchers have exceptionally good or bad metrics, mostly due to a small number of games pitched. For the scatterplot below, I've included those outliers. In addition, I will re-load the batters and include those batters with few at bats. Skills are likely correlated with the number of attempts, as players who perform poorly will be given fewer opportunities."
   ]
  },
  {
   "cell_type": "markdown",
   "id": "a2342a70",
   "metadata": {},
   "source": [
    "## 2.3 Merge Pitching and Batting "
   ]
  },
  {
   "cell_type": "code",
   "execution_count": null,
   "id": "0b8e4f14",
   "metadata": {},
   "outputs": [],
   "source": [
    "players_df = pd.merge(pitching_df, batting_df, on=\"playerID\", how=\"inner\")\n",
    "players_df = players_df[players_df['AB'] > 0] # Require at least 1 at bat\n",
    "players_df = players_df[players_df['innings_pitched'] > 0] # Eliminate no innings pitched\n",
    "players_df.describe()\n",
    "\n",
    "players_df.head()"
   ]
  },
  {
   "cell_type": "markdown",
   "id": "7b17788b",
   "metadata": {},
   "source": [
    "## 2.4 Pitching vs. Batting"
   ]
  },
  {
   "cell_type": "code",
   "execution_count": null,
   "id": "24d5c428",
   "metadata": {},
   "outputs": [],
   "source": [
    "apply_common_chart_style()\n",
    "\n",
    "players_df = players_df.dropna()\n",
    "players_df = players_df[players_df['lgID'].isin(['NL', 'AL'])]\n",
    "    \n",
    "# Drop leagues other than National, American \n",
    "player_ids = players_df['playerID'].unique() \n",
    "pgb = players_df.groupby('playerID')\n",
    "eras = pgb['ER'].sum().values / pgb['innings_pitched'].sum().values\n",
    "batting_averages = pgb['H'].sum().values / pgb['AB'].sum().values\n",
    "\n",
    "ip_counts = players_df.groupby('playerID')['innings_pitched'].sum().values\n",
    "ab_counts = players_df.groupby('playerID')['AB'].sum().values\n",
    "\n",
    "summary_df = pd.DataFrame({'playerID' : player_ids,\n",
    "                           'ip_counts' : ip_counts,\n",
    "                           'ab_counts' : ab_counts,\n",
    "                           'ERA' : eras,\n",
    "                           'batting_average' : batting_averages})\n",
    "summary_df = summary_df[summary_df['ip_counts'] > 1000]\n",
    "summary_df = summary_df[summary_df['ab_counts'] > 1000]\n",
    "counts = summary_df['ip_counts'] + summary_df['ab_counts']\n",
    "\n",
    "scaled_counts = counts / (max(counts) - min(counts))  \n",
    "bubble_size = np.pi * (scaled_counts * 15) **2       # 0 to 15 pt radiuses\n",
    "\n",
    "#TBD: Remove other leagues\n",
    "league_colors = players_df.apply(lambda row: tableau20[2] if row['lgID'] == 'NL' else tableau20[0], axis=1)\n",
    "\n",
    "plt.scatter(players_df['ERA'], \n",
    "            players_df['batting_average'],\n",
    "            s=bubble_size,\n",
    "            c=league_colors)\n",
    "#s=bubble_size,\n",
    "plt.title('Pitching vs. Batting Skills')\n",
    "plt.xlabel('ERA')\n",
    "plt.ylabel('Batting Average')\n",
    "plt.show()\n"
   ]
  },
  {
   "cell_type": "markdown",
   "id": "8a215285",
   "metadata": {},
   "source": [
    "Most of the values are clustered between 0 to 10.0 ERA, and 0 to 0.4 batting average. It is hard to discern any clear relationship between great batting averages and pitching skill using this plot. Also, we see quite a few outliers. "
   ]
  },
  {
   "cell_type": "markdown",
   "id": "f8de1f41",
   "metadata": {},
   "source": [
    "# Part 3: Are Pitchers Good Batters?"
   ]
  },
  {
   "cell_type": "markdown",
   "id": "18555872",
   "metadata": {},
   "source": [
    "The \"Designated Hitter\" rule allows a team to use one non-fielding player as a batter, typically in place of the pitcher. This rule was introduced in 1973 in the American League. In the Lahmann database, Appearances.G_dh is the number of games as designated hitter. \n",
    "\n",
    "The common understanding is that pitchers are not typically good at batting. This makes me curious: can we quantify how poorly pitchers perform in comparison to other players at batting?\n",
    "    \n",
    "To compare their respective batting skills, we will divide the batters into two groups -- those who have pitched, and those who haven't. \n"
   ]
  },
  {
   "cell_type": "markdown",
   "id": "2f29ae72",
   "metadata": {},
   "source": [
    "## 3.1 Remove Anomalous Data"
   ]
  },
  {
   "cell_type": "markdown",
   "id": "2d36da49",
   "metadata": {},
   "source": [
    "Some of these values should not be included in analysis because they're not representative of the populations we want to compare. For example, some players that batted relatively few times had unusually low or high averages. There is a disproportionate number of such entries in the Batting data, as we saw in section 1.5, which skews the distribution. We will throw those values out:\n"
   ]
  },
  {
   "cell_type": "code",
   "execution_count": null,
   "id": "9f0f0dba",
   "metadata": {},
   "outputs": [],
   "source": [
    "players_df = players_df[players_df['AB'] > 20]\n",
    "batting_df = batting_df[batting_df['AB'] > 20]"
   ]
  },
  {
   "cell_type": "markdown",
   "id": "9647cf19",
   "metadata": {},
   "source": [
    "## 3.2 Subset Batters"
   ]
  },
  {
   "cell_type": "code",
   "execution_count": null,
   "id": "e15880c3",
   "metadata": {},
   "outputs": [],
   "source": [
    "# Population 1: Pitchers that also bat\n",
    "\n",
    "players_df = players_df[players_df['AB'] > 100]\n",
    "batting_df = batting_df[batting_df['AB'] > 100]\n",
    "\n",
    "pitchers_that_bat = players_df[players_df['innings_pitched'] > 100.0]\n",
    "\n",
    "pitchers_that_bat_grouped_by_playerID = pitchers_that_bat.groupby('playerID', as_index=False)\n",
    "batting_averages_for_pitchers = pitchers_that_bat_grouped_by_playerID.sum()['H'] / pitchers_that_bat_grouped_by_playerID.sum()['AB']\n",
    "print(\"Batting pitchers: %d\" % len(batting_averages_for_pitchers))\n",
    "\n",
    "# Population 2: All other batters\n",
    "non_pitching_batters = batting_df[~batting_df['playerID'].isin(pitchers_that_bat['playerID'])]\n",
    "non_pitching_batters = non_pitching_batters[non_pitching_batters['AB'] > 20]\n",
    "non_pitching_batters_grouped_by_playerID = non_pitching_batters.groupby('playerID', as_index=False)\n",
    "batting_averages_for_non_pitchers = non_pitching_batters_grouped_by_playerID.sum()['H'] / non_pitching_batters_grouped_by_playerID.sum()['AB']\n",
    "print(\"All other batters: %d\" % len(batting_averages_for_non_pitchers))\n"
   ]
  },
  {
   "cell_type": "markdown",
   "id": "0f111410",
   "metadata": {},
   "source": [
    "Boxplot of each group:"
   ]
  },
  {
   "cell_type": "code",
   "execution_count": null,
   "id": "6848200b",
   "metadata": {},
   "outputs": [],
   "source": [
    "import plotly.plotly as py\n",
    "import plotly.graph_objs as go\n",
    "\n",
    "#data = [batting_averages_for_pitchers, batting_averages_for_non_pitchers]\n",
    "x_data = ['Pitchers', 'Non-Pitchers']\n",
    "y_data = [batting_averages_for_pitchers, batting_averages_for_non_pitchers]\n",
    "traces = []\n",
    "colors = [tableau20[0], tableau20[1]]\n",
    "\n",
    "for i in range(2):\n",
    "    yd = y_data[i]\n",
    "    xd = x_data[i]\n",
    "    cls = colors[i]\n",
    "    traces.append(go.Box(\n",
    "            y=yd,\n",
    "            name=xd,\n",
    "            boxpoints='all',\n",
    "            jitter=0.5,\n",
    "            whiskerwidth=0.2,\n",
    "            fillcolor=cls,\n",
    "            marker=dict(\n",
    "                size=2,\n",
    "            ),\n",
    "            line=dict(width=1),\n",
    "        ))\n",
    "    \n",
    "layout = go.Layout(\n",
    "    title='Batting Averages',\n",
    "    yaxis=dict(\n",
    "        autorange=True,\n",
    "        showgrid=True,\n",
    "        zeroline=True,\n",
    "        dtick=.1,\n",
    "        gridcolor='rgb(243, 243, 243)',\n",
    "        gridwidth=1,\n",
    "        zerolinecolor='rgb(243, 243, 243)',\n",
    "        zerolinewidth=2,\n",
    "    ),\n",
    "    margin=dict(\n",
    "        l=40,\n",
    "        r=30,\n",
    "        b=80,\n",
    "        t=100,\n",
    "    ),\n",
    "    paper_bgcolor='rgb(255, 255, 255)',\n",
    "    plot_bgcolor='rgb(255, 255, 255)',\n",
    "    showlegend=False\n",
    ")\n",
    "fig = go.Figure(data=traces, layout=layout)\n",
    "py.iplot(fig)\n"
   ]
  },
  {
   "cell_type": "markdown",
   "id": "f03e7e4f",
   "metadata": {},
   "source": [
    "## 3.3 Compare means\n",
    "\n",
    "We look at the mean batting average for pitchers that bat vs. all other batters:"
   ]
  },
  {
   "cell_type": "code",
   "execution_count": null,
   "id": "8c021593",
   "metadata": {},
   "outputs": [],
   "source": [
    "batting_averages_for_pitchers.mean()"
   ]
  },
  {
   "cell_type": "code",
   "execution_count": null,
   "id": "c81243d4",
   "metadata": {},
   "outputs": [],
   "source": [
    "batting_averages_for_non_pitchers.mean()"
   ]
  },
  {
   "cell_type": "markdown",
   "id": "b0b10e5d",
   "metadata": {},
   "source": [
    "It does appear, at first blush, that pitchers are worse at batting based on the means we calculated for both groups. We can use a t-test to test the null hypothesis that batting pitchers bat no better or worse than all other batters.\n",
    "\n",
    "The t-test assumes a normal distribution. Recall that we observed outliers in the baseball averages due to players that infrequently batted and had either very low or very high batting averages. Similarly, some pitchers pitched few innings. We removed those outliers in section 3.1 in order to get a more accurate confidence interval for the t-test:\n"
   ]
  },
  {
   "cell_type": "markdown",
   "id": "419d4c17",
   "metadata": {},
   "source": [
    "## 3.4 Hypothesis Test"
   ]
  },
  {
   "cell_type": "code",
   "execution_count": null,
   "id": "bfa7c6b1",
   "metadata": {},
   "outputs": [],
   "source": [
    "import scipy.stats as st\n",
    "\n",
    "stderr = st.sem(batting_averages_for_pitchers)\n",
    "interval1 = (batting_averages_for_pitchers.mean() - stderr * 1.96, batting_averages_for_pitchers.mean() + stderr * 1.96)\n",
    "\n",
    "stderr = st.sem(batting_averages_for_non_pitchers)\n",
    "interval2 = (batting_averages_for_non_pitchers.mean() - stderr * 1.96, batting_averages_for_non_pitchers.mean() + stderr * 1.96)\n",
    "\n",
    "\n",
    "plt.figure(figsize=(12, 9))   \n",
    "    # Remove the plot frame lines. They are unnecessary chartjunk.    \n",
    "ax = plt.subplot(111)    \n",
    "ax.spines[\"top\"].set_visible(False)    \n",
    "ax.spines[\"bottom\"].set_visible(False)    \n",
    "ax.spines[\"right\"].set_visible(False)    \n",
    "ax.spines[\"left\"].set_visible(False)\n",
    "\n",
    "# Ensure that the axis ticks only show up on the bottom and left of the plot.    \n",
    "# Ticks on the right and top of the plot are generally unnecessary chartjunk.    \n",
    "ax.get_xaxis().tick_bottom()    \n",
    "ax.get_yaxis().tick_left()   \n",
    "\n",
    "batting_averages_for_pitchers.plot.kde(label=\"Pitcher Batting Averages\", color=tableau20[0])\n",
    "ax = batting_averages_for_non_pitchers.plot.kde(label=\"Non-Pitcher Batting Averages\", color=tableau20[1])\n",
    "\n",
    "# Pitchers\n",
    "ax.vlines(x=batting_averages_for_pitchers.mean(), ymin=-1, ymax=15, color=tableau20[2], label='Mean for Pitchers')\n",
    "ax.vlines(x=interval1[0], ymin=-1, ymax=15, color=tableau20[3], label='95% CI (Pitchers)')\n",
    "ax.vlines(x=interval1[1], ymin=-1, ymax=15, color=tableau20[3])\n",
    "\n",
    "# Non-Pitchers\n",
    "ax.vlines(x=batting_averages_for_non_pitchers.mean(), ymin=-1, ymax=15, color=tableau20[4], label='Mean for Non-Pitchers')\n",
    "ax.vlines(x=interval2[0], ymin=-1, ymax=15, color=tableau20[4], label='95% CI (Non-Pitchers)')\n",
    "ax.vlines(x=interval2[1], ymin=-1, ymax=15, color=tableau20[4])\n",
    "\n",
    "ax.set_ylim([-1,15])\n",
    "ax.legend()\n",
    "ax.set_axis_bgcolor('white')\n",
    "# color=\"black\", alpha=0.3\n",
    "ax.tick_params(axis='x', color=\"black\")\n",
    "#ax.tick_params(axis='y',)\n",
    "\n",
    "plt.title(\"Batting Average for Pitchers vs. Non-Pitchers\")\n",
    "plt.savefig(\"batting-averages-t-test.png\", bbox_inches=\"tight\")  \n",
    "\n",
    "#for y in np.arange(0, 14) / 100:\n",
    "#    x = [x/10 for x in range(-1,5)]\n",
    "#    plt.plot(x, [y] * 0.6, \"--\", lw=0.5, color=\"black\", alpha=0.3)    \n",
    "    \n",
    "plt.show()"
   ]
  },
  {
   "cell_type": "markdown",
   "id": "3c1ebc2f",
   "metadata": {},
   "source": [
    "We see that the confidence intervals for the mean batting average of each population do not overlap. We will confirm this with a t-test below:"
   ]
  },
  {
   "cell_type": "code",
   "execution_count": null,
   "id": "40ff4f25",
   "metadata": {},
   "outputs": [],
   "source": [
    "batting_df['batting_average'] = batting_df['H'] / batting_df['AB']\n",
    "batting_df.head(5)"
   ]
  },
  {
   "cell_type": "markdown",
   "id": "62674e62",
   "metadata": {},
   "source": [
    "## 1.5 Examine the Distribution\n",
    "\n",
    "We will look at the distribution of data to see if we notice any interesting anything interesting. First, we look at the distribution of batting averages, which we plot below in the density plot."
   ]
  },
  {
   "cell_type": "code",
   "execution_count": null,
   "id": "9878c4c3",
   "metadata": {},
   "outputs": [],
   "source": [
    "batting_df['batting_average'].dropna().describe()"
   ]
  },
  {
   "cell_type": "code",
   "execution_count": null,
   "id": "8e159db0",
   "metadata": {},
   "outputs": [],
   "source": [
    "import matplotlib.pyplot as plt\n",
    "import seaborn\n",
    "%matplotlib inline\n",
    "\n",
    "# Plot the distribution\n",
    "batting_df['batting_average'].plot.kde()\n",
    "plt.title(\"Batting Avg. Distribution\")\n",
    "plt.xlabel(\"Avg.\")\n",
    "plt.show()\n",
    "\n",
    "batting_df.describe()\n",
    "batting_df['lgID'].head()"
   ]
  },
  {
   "cell_type": "markdown",
   "id": "32f2626b",
   "metadata": {},
   "source": [
    "This is an interesting distribution. It doesn't quite look normal, as quite a few batters have zero averages. Also, there are a few with unusually high averages (50% and 100%). "
   ]
  },
  {
   "cell_type": "markdown",
   "id": "125906a9",
   "metadata": {},
   "source": [
    "## 1.6 Exploratory Analyis: Batting Average over time"
   ]
  },
  {
   "cell_type": "code",
   "execution_count": null,
   "id": "993989d6",
   "metadata": {},
   "outputs": [],
   "source": [
    "import numpy as np\n",
    "\n",
    "# These are the \"Tableau 20\" colors as RGB.    \n",
    "tableau20 = [(31, 119, 180), (174, 199, 232), (255, 127, 14), (255, 187, 120),    \n",
    "             (44, 160, 44), (152, 223, 138), (214, 39, 40), (255, 152, 150),    \n",
    "             (148, 103, 189), (197, 176, 213), (140, 86, 75), (196, 156, 148),    \n",
    "             (227, 119, 194), (247, 182, 210), (127, 127, 127), (199, 199, 199),    \n",
    "             (188, 189, 34), (219, 219, 141), (23, 190, 207), (158, 218, 229)]\n",
    "for i in range(len(tableau20)):    \n",
    "    r, g, b = tableau20[i]    \n",
    "    tableau20[i] = (r / 255., g / 255., b / 255.)    \n",
    "\n",
    "def apply_common_chart_style():\n",
    "    plt.figure(figsize=(12, 9))   \n",
    "    # Remove the plot frame lines. They are unnecessary chartjunk.    \n",
    "    ax = plt.subplot(111)    \n",
    "    ax.spines[\"top\"].set_visible(False)    \n",
    "    ax.spines[\"bottom\"].set_visible(False)    \n",
    "    ax.spines[\"right\"].set_visible(False)    \n",
    "    ax.spines[\"left\"].set_visible(False)\n",
    "\n",
    "    # Ensure that the axis ticks only show up on the bottom and left of the plot.    \n",
    "    # Ticks on the right and top of the plot are generally unnecessary chartjunk.    \n",
    "    ax.get_xaxis().tick_bottom()    \n",
    "    ax.get_yaxis().tick_left()   \n",
    "\n",
    "    ax.set_axis_bgcolor(\"white\")\n",
    "\n",
    "plt.figure(figsize=(12, 9))   \n",
    "    # Remove the plot frame lines. They are unnecessary chartjunk.    \n",
    "ax = plt.subplot(111)    \n",
    "ax.spines[\"top\"].set_visible(False)    \n",
    "ax.spines[\"bottom\"].set_visible(False)    \n",
    "ax.spines[\"right\"].set_visible(False)    \n",
    "ax.spines[\"left\"].set_visible(False)\n",
    "\n",
    "# Ensure that the axis ticks only show up on the bottom and left of the plot.    \n",
    "# Ticks on the right and top of the plot are generally unnecessary chartjunk.    \n",
    "ax.get_xaxis().tick_bottom()    \n",
    "ax.get_yaxis().tick_left()   \n",
    "\n",
    "ax.set_axis_bgcolor(\"white\")\n",
    "    \n",
    "#apply_common_chart_style()\n",
    "\n",
    "# Limit the range of the plot to only where the data is.    \n",
    "# Avoid unnecessary whitespace.    \n",
    "plt.ylim(.17, 0.26)    \n",
    "plt.xlim(1871, 2020) \n",
    "\n",
    "# Make sure your axis ticks are large enough to be easily read.    \n",
    "# You don't want your viewers squinting to read your plot.    \n",
    "plt.yticks(np.arange(17, 26) / 100, [str(x/100) for x in np.arange(17, 26)], fontsize=14)    \n",
    "plt.xticks(fontsize=14)    \n",
    "  \n",
    "# Provide tick lines across the plot to help your viewers trace along    \n",
    "# the axis ticks. Make sure that the lines are light and small so they    \n",
    "# don't obscure the primary data lines.    \n",
    "for y in np.arange(17, 26) / 100:    \n",
    "    plt.plot(range(1871, 2015), [y] * len(range(1871, 2015)), \"--\", lw=0.5, color=\"black\", alpha=0.3)    \n",
    "    \n",
    "# Remove the tick marks; they are unnecessary with the tick lines we just plotted.    \n",
    "plt.tick_params(axis=\"both\", which=\"both\", bottom=\"off\", top=\"off\",    \n",
    "                labelbottom=\"on\", left=\"off\", right=\"off\", labelleft=\"on\")    \n",
    "  \n",
    "# American League\n",
    "averages = batting_df[batting_df['lgID'] == 'AL'].groupby('yearID')['batting_average'].mean()\n",
    "plt.plot(averages.index, averages, lw=2.5, color=tableau20[0])\n",
    "\n",
    "# National League\n",
    "averages = batting_df[batting_df['lgID'] == 'NL'].groupby('yearID')['batting_average'].mean()\n",
    "plt.plot(averages.index, averages, lw=2.5, color=tableau20[2])\n",
    "\n",
    "plt.text(2015, 0.21, \"American League\", fontsize=14, color=tableau20[0])  \n",
    "plt.text(2015, 0.18, \"National League\", fontsize=14, color=tableau20[2])  \n",
    "\n",
    "plt.title(\"Mean Batting Averages for National and American Leagues, by year (1871-2015)\",\n",
    "         fontsize=17, ha=\"center\")\n",
    "\n",
    "plt.text(1871, 0.155, \"Data source: http://seanlahman.com/files/database/baseballdatabank-master_2016-03-02.zip\"   \n",
    "                   \"\\nAuthor: Sean Lahman\"\n",
    "                   \"\\nCopyright 1996-2016 by Sean Lahman\"\n",
    "                   \"\\nLicense: http://creativecommons.org/licenses/by-sa/3.0/\", fontsize=10)    \n",
    "      \n",
    "ax.annotate('Designated Hitter Rule', xy=(1973, .19), xytext=(1980, 0.1725),\n",
    "            arrowprops=dict(facecolor='black', shrink=0.02),\n",
    "            fontsize=17)\n",
    "\n",
    "plt.savefig(\"batting-averages-by-league-time-series-annotated.png\", bbox_inches=\"tight\")  \n",
    "plt.show()"
   ]
  }
 ],
 "metadata": {},
 "nbformat": 4,
 "nbformat_minor": 5
}
