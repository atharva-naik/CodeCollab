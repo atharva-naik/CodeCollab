{
 "cells": [
  {
   "cell_type": "markdown",
   "id": "9d270a1b",
   "metadata": {},
   "source": [
    "# Predicting digits using MNIST Dataset\n",
    "\n",
    "I'm using my knowledge of TensorFlow to create a basic model of neural network from scratch.\n",
    "This notebook uses one of the sample dataset in TensorFlow libraries, MNIST dataset, which contains images of handwritten digits.\n",
    "\n",
    "I've got 95.14% accuracy on this by using basic model using 3 hidden layers, softmax_crossentropy loss function and AdamOptimizer.\n"
   ]
  },
  {
   "cell_type": "code",
   "execution_count": null,
   "id": "c62db5cb",
   "metadata": {},
   "outputs": [],
   "source": [
    "import tensorflow as tf\n",
    "import numpy as np\n",
    "from tensorflow.examples.tutorials.mnist import input_data"
   ]
  },
  {
   "cell_type": "markdown",
   "id": "db7f6d61",
   "metadata": {},
   "source": [
    "The input data that was imported consists of three parts. Train, Test and Validation. "
   ]
  },
  {
   "cell_type": "code",
   "execution_count": null,
   "id": "5b3a0a94",
   "metadata": {},
   "outputs": [],
   "source": [
    "mnist = input_data.read_data_sets(\"MNIST_data/\", one_hot=True)"
   ]
  },
  {
   "cell_type": "markdown",
   "id": "d0fef777",
   "metadata": {},
   "source": [
    "Let's fix number of nodes for each layer in our neural network."
   ]
  },
  {
   "cell_type": "code",
   "execution_count": null,
   "id": "8244ae2e",
   "metadata": {},
   "outputs": [],
   "source": [
    "n_nodes_hl1 = 500\n",
    "n_nodes_hl2 = 500\n",
    "n_nodes_hl3 = 500"
   ]
  },
  {
   "cell_type": "markdown",
   "id": "2721dc5a",
   "metadata": {},
   "source": [
    "Also, let's look at the number of classes(0..9) to be classified into and also the batch size."
   ]
  },
  {
   "cell_type": "code",
   "execution_count": null,
   "id": "5d03c0f2",
   "metadata": {},
   "outputs": [],
   "source": [
    "n_classes = 10\n",
    "batch_size = 100"
   ]
  },
  {
   "cell_type": "markdown",
   "id": "2ad32dd8",
   "metadata": {},
   "source": [
    "I'm using some TensorFlow placeholders to use them later as parameters. Dataset is 28*28, after Flatten, we get internally dimension of 784 length."
   ]
  }
 ],
 "metadata": {},
 "nbformat": 4,
 "nbformat_minor": 5
}
