{
 "cells": [
  {
   "cell_type": "markdown",
   "id": "8fa1a496",
   "metadata": {},
   "source": [
    "# Titanic Data Evaluation\n",
    "\n",
    "I will use the Titanic data set to ask whether survival was random, or dependent on any external criteria. In particular I will be focusing on three factors:\n",
    "<ol>\n",
    "<li>Was the <b>Passenger Class</b> a factor in the likelihood of survival?</li>\n",
    "<li>Was <b>Gender</b> a factor in survival?</li>\n",
    "<li>Was <b>Age</b> a factor in survial?</li>\n",
    "</ol>\n",
    "\n",
    "In order to do this I will be using the data from the provided \"titanic-data.csv\" file which contains information on a sample of 891 of the 2,224 people onboard.\n",
    "\n",
    "## Procedure\n",
    "\n",
    "### Step 1: Review the raw data\n",
    "In order to answer the question, I will first extract the data from the csv file and examine it to determine the information it contains, and the type of data present.\n",
    "\n",
    "### Step 2: Clean the data\n",
    "The next step will be to clean the data by removing any irrelevent criteria which may be present, as well as combining data into groups in order to help better understand any patterns.\n",
    "\n",
    "### Step 3: Perform analysis to answer the question\n",
    "Once the dataset has been properly formatted, I will begin the analysis to determine whether survival was by chance or was affected by any of the three factors identified in my question.\n",
    "\n",
    "<b>FIRST:</b>\n",
    "I will perform a high-level review of the data to determine a baseline of overall survival.\n",
    "\n",
    "<b>SECOND:</b>\n",
    "I will then examine the data in regards to whether Class had an impact on survival rate.\n",
    "\n",
    "<b>THIRD:</b>\n",
    "I will analyze the data to see if gender was a factor.\n",
    "\n",
    "<b>FOURTH:</b>\n",
    "I will look at the effect of age (in terms of age group) on survival rate.\n"
   ]
  },
  {
   "cell_type": "code",
   "execution_count": null,
   "id": "7fe2ff8a",
   "metadata": {},
   "outputs": [],
   "source": [
    "#Render plots inline\n",
    "%matplotlib inline\n",
    "\n",
    "# Import libraries\n",
    "import pandas as pd\n",
    "import numpy as np\n",
    "import matplotlib.pyplot as plt\n",
    "import seaborn as sns\n",
    "\n",
    "# Set style for all graphs\n",
    "sns.set_style(\"dark\")"
   ]
  },
  {
   "cell_type": "code",
   "execution_count": null,
   "id": "490260f2",
   "metadata": {},
   "outputs": [],
   "source": [
    "# Read in the dataset and create a dataframe called \"titanic_raw_data\"\n",
    "titanic_raw_data = pd.read_csv('titanic-data.csv')"
   ]
  },
  {
   "cell_type": "code",
   "execution_count": null,
   "id": "ab653067",
   "metadata": {},
   "outputs": [],
   "source": [
    "# Print the first few records to review data format and categories\n",
    "titanic_raw_data.head()"
   ]
  },
  {
   "cell_type": "code",
   "execution_count": null,
   "id": "a09bea42",
   "metadata": {},
   "outputs": [],
   "source": [
    "# Print the last few records\n",
    "titanic_raw_data.tail()"
   ]
  },
  {
   "cell_type": "code",
   "execution_count": null,
   "id": "1dbdd67d",
   "metadata": {},
   "outputs": [],
   "source": [
    "# Descriptive statistics on the dataset:\n",
    "titanic_raw_data.describe()"
   ]
  },
  {
   "cell_type": "code",
   "execution_count": null,
   "id": "25de1cac",
   "metadata": {},
   "outputs": [],
   "source": [
    "# Understand data types contained in the set\n",
    "titanic_raw_data.dtypes"
   ]
  },
  {
   "cell_type": "markdown",
   "id": "87e2aa67",
   "metadata": {},
   "source": [
    "## Description of the raw data:\n",
    "\n",
    "The dataset contains the following information:\n",
    "<ol>\n",
    "<li><b>PassengerID:</b> An index for all of the passengers running from 0 to 890, indicating 891 total</li>\n",
    "<li><b>Survived:</b> A simple indicator for whether the passenger survived (\"1\") or died (\"0\")</li>\n",
    "<li><b>Pclass:</b> An indicator of whether the passenger was booked as 1st Class (\"1\"), 2nd Class (\"2\"), or 3rd Class (\"3\")</li>\n",
    "<li><b>Name:</b> The passenger's full name</li>\n",
    "<li><b>Sex:</b> The passenger's gender</li>\n",
    "<li><b>Age:</b> The passenger's age in years</li>\n",
    "<li><b>SibSp</b> The number of Siblings/Spouses the passenger had</li>\n",
    "<li><b>Parch:</b> The number of parents/children the passenger had</li>\n",
    "<li><b>Ticket:</b> The passenger's ticket number</li>\n",
    "<li><b>Fare:</b> The actual fare paid by the passenger</li>\n",
    "<li><b>Cabin:</b> The passenger's assigned cabin number</li>\n",
    "<li><b>Embarked:</b>The port from which the passenger embarked on the journey</li>\n",
    "</ol>\n",
    "\n",
    "After reviewing this list I have determined that the <b>Name</b>, <b>SibSp</b>, <b>Parch</b>, <b>Ticket</b>, <b>Fare</b>, <b>Cabin</b>, and <b>Embarked</b> data are all irrelevent in the context of the question I wish to answer, and will remove them from the dataset:"
   ]
  },
  {
   "cell_type": "code",
   "execution_count": null,
   "id": "5961e7ca",
   "metadata": {},
   "outputs": [],
   "source": [
    "# Remove unnecessary columns\n",
    "titanic_trimmed_data = titanic_raw_data.drop(['Name','Ticket','Cabin','Fare','Embarked', 'Parch', 'SibSp'], axis=1)"
   ]
  },
  {
   "cell_type": "code",
   "execution_count": null,
   "id": "aefc7a66",
   "metadata": {},
   "outputs": [],
   "source": [
    "# Check titanic_trimmed_data type\n",
    "titanic_trimmed_data.head()"
   ]
  },
  {
   "cell_type": "markdown",
   "id": "e9c33541",
   "metadata": {},
   "source": [
    "At this point I will also create a new column called <b>Agegroup</b> to aggregate the passengers into one of three categories according to their age:\n",
    "<ol>\n",
    "<li><b>Child:</b> Containing passengers from 0 - 15 years of age</li>\n",
    "<li><b>Young:</b> Containing passengers from 16 - 25 years of age</li>\n",
    "<li><b>Mature:</b> Containing passengers 26+ years of age</li>\n",
    "</ol>\n",
    "\n",
    "I've chosen to use three broad age categories for convenience, and to facilitate a general analysis of the data.  The cutoff ages were selected based on a combination of broad societal standards, as well as biological maturity.  "
   ]
  },
  {
   "cell_type": "code",
   "execution_count": null,
   "id": "151055a0",
   "metadata": {},
   "outputs": [],
   "source": [
    "# Create new column called Agegroup with Child: 0 - 15, Young: 16 - 25, Mature: 26+\n",
    "\n",
    "titanic_trimmed_data['Agegroup'] = pd.cut(titanic_trimmed_data['Age'], [0, 15, 25, 100], labels=[\"Child\", \"Young\", \"Mature\"])\n",
    "titanic_data = titanic_trimmed_data"
   ]
  },
  {
   "cell_type": "markdown",
   "id": "e300c180",
   "metadata": {},
   "source": [
    "I will check the data types for the new set by looking at the Col headers and data types:"
   ]
  },
  {
   "cell_type": "code",
   "execution_count": null,
   "id": "7683a322",
   "metadata": {},
   "outputs": [],
   "source": [
    "# Confirm column addition by checking the first few rows\n",
    "titanic_data.head()"
   ]
  },
  {
   "cell_type": "code",
   "execution_count": null,
   "id": "82980bb4",
   "metadata": {},
   "outputs": [],
   "source": [
    "# Check data types\n",
    "titanic_data.dtypes"
   ]
  },
  {
   "cell_type": "markdown",
   "id": "0f8e1510",
   "metadata": {},
   "source": [
    "The new <b>Agegroup</b> column needs to have it's data type changed from \"category\" to \"object\":"
   ]
  },
  {
   "cell_type": "code",
   "execution_count": null,
   "id": "3847d24e",
   "metadata": {},
   "outputs": [],
   "source": [
    "# Convert 'Agegroup\" dtype from category to object\n",
    "titanic_data['Agegroup'] = titanic_data['Agegroup'].astype(object)\n",
    "titanic_data_age_cleaned = titanic_data['Agegroup']\n",
    "print titanic_data.dtypes"
   ]
  },
  {
   "cell_type": "markdown",
   "id": "b0eacb20",
   "metadata": {},
   "source": [
    "I also want to have a dataset in which the Surivived categories are strings of \"Deceased\" and \"Survived\" instead of 0 and 1.  So I will create a copy of the titanic_data set as titanic_data_s to hold the conversion"
   ]
  },
  {
   "cell_type": "markdown",
   "id": "92a9002a",
   "metadata": {},
   "source": [
    "Now we can begin our detailed look at the impact of our three identified crieteria, <b>Class</b>, <b>Gender</b>, and <b>Age</b>."
   ]
  },
  {
   "cell_type": "markdown",
   "id": "ff04965f",
   "metadata": {},
   "source": [
    "# Q1: Was Passenger Class a factor in survival?\n",
    "As both the graph and the table above indicated, there is some evidence that Passenger Class may have played a part in survival rate, with 1st and 2nd class passenger survival being disproportionately higher than 3rd class passengers.\n",
    "\n",
    "We will begin by generating a table that breaks down survival by passenger class:"
   ]
  },
  {
   "cell_type": "code",
   "execution_count": null,
   "id": "c1157726",
   "metadata": {},
   "outputs": [],
   "source": [
    "survival_class_group = titanic_data_s.groupby(['Survived', 'Pclass'])\n",
    "survival_class_group.describe()"
   ]
  },
  {
   "cell_type": "markdown",
   "id": "aee6cbb0",
   "metadata": {},
   "source": [
    "The table above contains a considerable amount of information. We'll condense this by first summarizing the total number of survivors by Passenger Class."
   ]
  },
  {
   "cell_type": "code",
   "execution_count": null,
   "id": "78327ec7",
   "metadata": {},
   "outputs": [],
   "source": [
    "# Titanic P Class survial\n",
    "titanic_class_survival_count = titanic_data.groupby(['Pclass'])[['Survived']].count().unstack().plot(kind='bar').set_ylabel('Survival Count')\n",
    "titanic_class_survival_count = titanic_data.groupby(['Pclass'])[['Survived']].count()\n",
    "titanic_class_survival_count"
   ]
  },
  {
   "cell_type": "markdown",
   "id": "eb83b969",
   "metadata": {},
   "source": [
    "Next we'll summarize Survival Rate by Class:"
   ]
  },
  {
   "cell_type": "code",
   "execution_count": null,
   "id": "6d12a094",
   "metadata": {},
   "outputs": [],
   "source": [
    "titanic_class_survival = titanic_data.groupby(['Pclass'])[['Survived']].mean().unstack().plot(kind='bar').set_ylabel('Survival Rate')\n",
    "titanic_class_survival = titanic_data.groupby(['Pclass'])[['Survived']].mean()\n",
    "titanic_class_survival"
   ]
  },
  {
   "cell_type": "markdown",
   "id": "3ac1e5b9",
   "metadata": {},
   "source": [
    "From these we can see that although more 3rd class passengers survived than 1st and 2nd class passengers combined (491 compared to 216 and 184, respectively) the survival rate strongly indicates that Passenger Class was a major contributing factor in the likelihood of survival, as most passengers classified as 1st or 2nd Class managed to survive (63% abd 47%, respectively), while only about 1/4 of 3rd Class passengers did."
   ]
  },
  {
   "cell_type": "markdown",
   "id": "6c601e38",
   "metadata": {},
   "source": [
    "In order to determine whether class had an affect on passenger survival, we will run the chi-square test to check whether our observed results are statistically different from the expected results. Given that we have previously determined the overall surivivor rate, we can use this test to calculate the expected and compare it to the observed.\n",
    "\n",
    "For this test:\n",
    "<blockquote><b>H<sub>0</sub>:</b> There is no difference between the observed and expected survival for each class<br/>\n",
    "<b>H<sub>1</sub>: </b> The observed survival is statistically different from the expected survival for class</blockquote>\n",
    "Once again, we will employ <b>&#945;</b> = 0.05"
   ]
  },
  {
   "cell_type": "code",
   "execution_count": null,
   "id": "f83bc685",
   "metadata": {},
   "outputs": [],
   "source": [
    "# Run the chi_sq function\n",
    "chi_sq(titanic_data, ('Pclass'))"
   ]
  },
  {
   "cell_type": "markdown",
   "id": "22b7999a",
   "metadata": {},
   "source": [
    "The results of the chi square test for Class shows a p = 1.71<sup>-14</sup>, which is well below the significance level of 0.05, meaning we can reject the null.  This test also confirms the t-test results, and allows us to conclude that Class indeed was a factor in survival rate"
   ]
  },
  {
   "cell_type": "markdown",
   "id": "91e1287a",
   "metadata": {},
   "source": [
    "# Q2: Was Gender a factor in survival?\n",
    "While the initial evaluation of all survivors indicated that Passenger Class was a factor in survival, later confirmed through deeper testing, there was little information regarding whether women survived at a higher rate than men.\n",
    "\n",
    "In order to consider whether gender had an effect, we will compare the total number of male vs female survivors:"
   ]
  },
  {
   "cell_type": "code",
   "execution_count": null,
   "id": "98e7656e",
   "metadata": {},
   "outputs": [],
   "source": [
    "# Titanic Gender Survival Count\n",
    "titanic_gender_survival_count = titanic_data.groupby(['Sex'])[['Survived']].count().unstack().plot(kind='bar').set_ylabel('Survival Count')\n",
    "titanic_gender_survival_count = titanic_data.groupby(['Sex'])[['Survived']].count()\n",
    "titanic_gender_survival_count"
   ]
  },
  {
   "cell_type": "markdown",
   "id": "c30f3439",
   "metadata": {},
   "source": [
    "And next do the same to compare male vs female survival rate:"
   ]
  },
  {
   "cell_type": "code",
   "execution_count": null,
   "id": "294a56a2",
   "metadata": {},
   "outputs": [],
   "source": [
    "# Titanic Gender Survival Rate\n",
    "titanic_gender_survival = titanic_data.groupby(['Sex'])[['Survived']].mean().unstack().plot(kind='bar').set_ylabel('Survival Rate')\n",
    "titanic_gender_survival = titanic_data.groupby(['Sex'])[['Survived']].mean()\n",
    "titanic_gender_survival"
   ]
  },
  {
   "cell_type": "markdown",
   "id": "f5548d76",
   "metadata": {},
   "source": [
    "Much like the case for Passenger Class, we see here that the total number of male survivors is nearly double female, yet the survival rates are drastically different, with females surviving at nearly 4 times the rate of men."
   ]
  },
  {
   "cell_type": "markdown",
   "id": "38ed6d91",
   "metadata": {},
   "source": [
    "The numbers lead us to believe that gender was indeed a factor in survival.  This is well illustrated in the pie-graphs below.\n",
    "\n"
   ]
  },
  {
   "cell_type": "markdown",
   "id": "664c9d1b",
   "metadata": {},
   "source": [
    "### Male Survival"
   ]
  },
  {
   "cell_type": "code",
   "execution_count": null,
   "id": "a7484faa",
   "metadata": {},
   "outputs": [],
   "source": [
    "# Copy titanic_data\n",
    "titanic_data_s = titanic_data.copy()\n",
    "\n",
    "# Convert the Survived categories and confirm\n",
    "titanic_data_s['Survived'].replace({0:\"Deceased\", 1:\"Survived\"}, inplace=True)\n",
    "titanic_data_s.head()"
   ]
  },
  {
   "cell_type": "code",
   "execution_count": null,
   "id": "e4ac62ad",
   "metadata": {},
   "outputs": [],
   "source": [
    "titanic_data_s.dtypes"
   ]
  },
  {
   "cell_type": "code",
   "execution_count": null,
   "id": "171e1590",
   "metadata": {},
   "outputs": [],
   "source": [
    "# Chech to see that titanic_data is unchanged\n",
    "titanic_data.head()"
   ]
  },
  {
   "cell_type": "code",
   "execution_count": null,
   "id": "ae7e8dec",
   "metadata": {},
   "outputs": [],
   "source": [
    "titanic_data.dtypes"
   ]
  },
  {
   "cell_type": "code",
   "execution_count": null,
   "id": "640cfd62",
   "metadata": {},
   "outputs": [],
   "source": [
    "# Run descriptive statistics on the entire dataset to see if manipulation had any effect on the data \n",
    "titanic_data_s.describe()"
   ]
  },
  {
   "cell_type": "markdown",
   "id": "5f157632",
   "metadata": {},
   "source": [
    "Looking at the data, we see that there are 177 passengers for whom Age is missing.  This will be important when we evaluate whether the passenger's age had any impact on their likelihood of survival, but for now we will just take note of this."
   ]
  },
  {
   "cell_type": "markdown",
   "id": "b6a4ac3a",
   "metadata": {},
   "source": [
    "Finally, I will create a function <b>chi_sq</b> to test the impact of the three criteria we highlighted"
   ]
  },
  {
   "cell_type": "code",
   "execution_count": null,
   "id": "df8f2e4b",
   "metadata": {},
   "outputs": [],
   "source": [
    "def chi_sq(data_set, criteria):\n",
    "    titanic_chi = data_set.copy()\n",
    "\n",
    "#Overall survival rate by Data Set\n",
    "    titanic_survived = titanic_chi['Survived'].mean()\n",
    "\n",
    "#Observed and expected rates\n",
    "    observed = titanic_chi.groupby(criteria).sum()['Survived']\n",
    "    total = titanic_chi.groupby(criteria).count()['Survived']\n",
    "    expected = titanic_chi.groupby(criteria).count()['Survived']*titanic_survived\n",
    "    proportion=observed/total\n",
    "\n",
    "#data frame\n",
    "    allData=pd.concat([observed, expected, total, proportion], axis=1)\n",
    "    allData.columns=[\"Observed\", \"Expected\", \"Total\", \"Observed Rate\"]\n",
    "    allData['Expected Rate'] = titanic_survived\n",
    "\n",
    "#test\n",
    "    print scipy.stats.chisquare(observed, expected)\n",
    "    return allData\n",
    "   "
   ]
  },
  {
   "cell_type": "markdown",
   "id": "f516b66f",
   "metadata": {},
   "source": [
    "# General Survival Review\n",
    "At this point I want to get an idea of the data set. First, let's check a breakdown of passengers according to age:"
   ]
  },
  {
   "cell_type": "code",
   "execution_count": null,
   "id": "18076d1b",
   "metadata": {},
   "outputs": [],
   "source": [
    "# A look at the age breakdown for all passengers\n",
    "age_hist=titanic_data['Age'].plot.hist(bins=range(0, 86, 5), legend=True, alpha=0.8)\n",
    "age_hist.set_ylabel('Passengers')\n",
    "age_hist.set_xlabel('Age')\n",
    "age_hist.set_title('Titanic Passenger Ages')\n",
    "pd.DataFrame(titanic_data['Age'].describe())"
   ]
  },
  {
   "cell_type": "markdown",
   "id": "5ac254c3",
   "metadata": {},
   "source": [
    "As this shows, most of the passengers on the Titanic were between 20 and 40 years of age. Next, let's see the overall survival rate for all passengers"
   ]
  },
  {
   "cell_type": "code",
   "execution_count": null,
   "id": "1a436de2",
   "metadata": {},
   "outputs": [],
   "source": [
    "# Determine the ratio of total survivors and fatalities\n",
    "overall_titanic_survival = titanic_data_s.groupby('Survived')\n",
    "pid_df = overall_titanic_survival.agg({'PassengerId' : 'size'})\n",
    "pid_df / len(titanic_data)"
   ]
  },
  {
   "cell_type": "markdown",
   "id": "983a5050",
   "metadata": {},
   "source": [
    "From this, we see that only about 38.4% of the passengers survived"
   ]
  },
  {
   "cell_type": "code",
   "execution_count": null,
   "id": "18782bb0",
   "metadata": {},
   "outputs": [],
   "source": [
    "# Comparison of survival according to passenger age to compare with overal ages\n",
    "\n",
    "age_comp = titanic_data_s.groupby('Survived')['Age'].plot.hist(bins=range(0, 86, 5), legend=True, alpha=0.8)\n",
    "plt.xlabel('Age')\n",
    "plt.title('Survived vs Died by Age')\n",
    "pd.DataFrame(overall_titanic_survival['Age'].describe())"
   ]
  },
  {
   "cell_type": "markdown",
   "id": "34790ef8",
   "metadata": {},
   "source": [
    "Projecting the survial-by-age histogram on top of the overall age histogram shows a similar breakdown, with most survivors being between 20 and 40 years of age.  However, passengers younger than 20 seem to have suffered very few fatalities.  This is interesting and leads us to suspect that younger passengers survied at a higher rate, and will be examined further later on."
   ]
  },
  {
   "cell_type": "code",
   "execution_count": null,
   "id": "075d96ce",
   "metadata": {},
   "outputs": [],
   "source": [
    "# Gender Survival Pie Chart\n",
    "\n",
    "labels = 'Survived', 'Deceased'\n",
    "sizes = [titanic_data.groupby('Sex')['Survived'].mean()['male'], 1.0 - titanic_data.groupby('Sex')['Survived'].mean()['male']]\n",
    "colors = ['lightblue', 'Pink']\n",
    "explode = (0.1, 0) # only \"explode\" survivors\n",
    "\n",
    "plt.pie(sizes, explode=explode, labels=labels, colors=colors, autopct='%1.1f%%')\n",
    "plt.axis('equal')\n",
    "plt.title('Survival by Gender')"
   ]
  },
  {
   "cell_type": "markdown",
   "id": "6e7c8ccf",
   "metadata": {},
   "source": [
    "### Female Survival"
   ]
  },
  {
   "cell_type": "code",
   "execution_count": null,
   "id": "e2a287c5",
   "metadata": {},
   "outputs": [],
   "source": [
    "#Female Survival Pie Chart\n",
    "labels = 'Survived', 'Deceased'\n",
    "sizes = [titanic_data.groupby('Sex')['Survived'].mean()['female'], 1.0 - titanic_data.groupby('Sex')['Survived'].mean()['female']]\n",
    "colors = ['lightblue', 'pink']\n",
    "explode = (0.1, 0) # only \"explode\" survivors\n",
    "\n",
    "plt.pie(sizes, explode=explode, labels=labels, colors=colors, autopct='%1.1f%%')\n",
    "plt.axis('equal')\n",
    "plt.title('Female Survival')"
   ]
  },
  {
   "cell_type": "markdown",
   "id": "636eb787",
   "metadata": {},
   "source": [
    "These charts fully illustrate the degree to which females were more likely to survive than men, with approximately 75% of the females surviving compared to less than 20% of men surviving."
   ]
  },
  {
   "cell_type": "markdown",
   "id": "279c1c4e",
   "metadata": {},
   "source": [
    "In order to confirm the impact of gender we again run the chi-square test to check whether our observed results are statistically different from the expected results.\n",
    "\n",
    "For this test:\n",
    "<blockquote><b>H<sub>0</sub>:</b> There is no difference between the observed and expected survival based on gender<br/>\n",
    "<b>H<sub>1</sub>: </b> Survival by gender is not equal</blockquote>\n",
    "Once again, we will employ <b>&#945;</b> = 0.05"
   ]
  },
  {
   "cell_type": "code",
   "execution_count": null,
   "id": "1e399433",
   "metadata": {},
   "outputs": [],
   "source": [
    "# Run the ch_sq function\n",
    "chi_sq(titanic_data, ('Sex'))"
   ]
  },
  {
   "cell_type": "markdown",
   "id": "f28d3515",
   "metadata": {},
   "source": [
    "The results of the chi square test for Gender shows a p = 3.97<sup>-37</sup>, which is well below the significance level of 0.05, meaning we can confidently reject the null.  This test also confirms the t-test results, and allows us to conclude that Gender was a major factor in survival rate"
   ]
  },
  {
   "cell_type": "markdown",
   "id": "79aead18",
   "metadata": {},
   "source": [
    "# Q3: Was age a factor in survival?\n",
    "\n",
    "So far we have seen that both passenger class and gender had an impact on the likelihood of surviving.  Our last question will focus on the second part of the famous \"Women and Children first!\" nautical saying by examining whether passenger age was a factor in survival rate.\n"
   ]
  },
  {
   "cell_type": "markdown",
   "id": "e019f30f",
   "metadata": {},
   "source": [
    "Again, we start by first summarizing the survival data according to age.\n",
    "\n",
    "Remember that we had previously created an Age Group category for us to aggregate the passengers into three categories: \n",
    "<ol>\n",
    "<li><b>Child:</b> 0 - 15 years old</li>\n",
    "<li><b>Young:</b> 16 - 25 years old</li>\n",
    "<li><b>Mature:</b> 25+ years old</li>\n",
    "</ol>"
   ]
  },
  {
   "cell_type": "code",
   "execution_count": null,
   "id": "8301a2f5",
   "metadata": {},
   "outputs": [],
   "source": [
    "# Clean Age data to remove blank ages\n",
    "titanic_data_age_cleaned = titanic_trimmed_data.dropna()\n",
    "\n",
    "# Confirm removal of NaN\n",
    "titanic_data_age_cleaned.describe()"
   ]
  },
  {
   "cell_type": "markdown",
   "id": "664fd2e2",
   "metadata": {},
   "source": [
    "The new count total of 714 confirms that we no longer have passengers without any age data. \n",
    "\n",
    "At this point we have removed all of the passengers without any age data, and confirmed that there has been no change in the resuts, so we can proceed."
   ]
  },
  {
   "cell_type": "markdown",
   "id": "303b9b22",
   "metadata": {},
   "source": [
    "Now we'll look at both counts and rate for Age Group"
   ]
  },
  {
   "cell_type": "code",
   "execution_count": null,
   "id": "dc6005ce",
   "metadata": {},
   "outputs": [],
   "source": [
    "# Titanic Age Group survival total count\n",
    "titanic_age_survival_count = titanic_data_age_cleaned.groupby(['Agegroup'])[['Survived']].count().unstack().plot(kind='bar').set_ylabel('Survival Count')\n",
    "titanic_age_survival_count = titanic_data_age_cleaned.groupby(['Agegroup'])[['Survived']].count()\n",
    "titanic_age_survival_count"
   ]
  },
  {
   "cell_type": "code",
   "execution_count": null,
   "id": "2fef051a",
   "metadata": {},
   "outputs": [],
   "source": [
    "# Titanic Age Group survival Rate\n",
    "titanic_age_survival = titanic_data_age_cleaned.groupby(['Agegroup'])[['Survived']].mean().unstack().plot(kind='bar').set_ylabel('Survival Rate')\n",
    "titanic_age_survival = titanic_data_age_cleaned.groupby(['Agegroup'])[['Survived']].mean()\n",
    "titanic_age_survival"
   ]
  },
  {
   "cell_type": "markdown",
   "id": "2067bcce",
   "metadata": {},
   "source": [
    "We can see that the total number of Child (0 - 15 years) passengers that survived was much lower than either Young (16 - 25) or Mature (26+). This is not surprising, as our passenger breakdown above showed, most passengers in our data set were 20+ years old, so we would expect more of them to survive.\n",
    "\n",
    "However, we also see that roughly 59% of passengers aged 0 - 15 years (Child group) survived, 34.4% of passengers aged 16 - 25 (Young group) survived, and 40% of passengers aged 26+ (Mature group)survived. This is compared to the overall survival rate of 38.4% (obtained from the review of overall data)."
   ]
  },
  {
   "cell_type": "markdown",
   "id": "662cb6d5",
   "metadata": {},
   "source": [
    "Even though this information does appear to support the hypothesis that age impacted survival rate, we will begin to confirm this by running the chi-square test.\n",
    "\n",
    "For this test:\n",
    "<blockquote><b>H<sub>0</sub>:</b> There is no difference between the observed and expected survival for each age group<br/>\n",
    "<b>H<sub>1</sub>: </b> The observed survival is statistically different from the expected survival for age group</blockquote>\n",
    "Once again, we will employ <b>&#945;</b> = 0.05"
   ]
  },
  {
   "cell_type": "code",
   "execution_count": null,
   "id": "4abdf7eb",
   "metadata": {},
   "outputs": [],
   "source": [
    "# Run the chi_sq function\n",
    "chi_sq(titanic_data, ('Agegroup'))"
   ]
  },
  {
   "cell_type": "markdown",
   "id": "45653c34",
   "metadata": {},
   "source": [
    "The chi-square results (p = 0.005) show that indeed the Child group (0 - 15y) did survive at a rate statistically greater than expected.  However, these results also show that both Young and Mature were very close to the expected rate of survival, and that the greater overall number of Young and Mature survivors was due to the greater number of passengers in those groups."
   ]
  },
  {
   "cell_type": "markdown",
   "id": "18ab6266",
   "metadata": {},
   "source": [
    "# Other Observations\n",
    "At this point it may be of interest to check survival rates when we combine multiple criteria to see whether one has a greater influence over another, or if there are any potential correlative relationships.\n",
    "\n",
    "To do so, we will evaluate Class and Gender, Age Group and Gender, and Class and Age Group."
   ]
  },
  {
   "cell_type": "markdown",
   "id": "709afe6a",
   "metadata": {},
   "source": [
    "# Survival according to Class and Gender"
   ]
  },
  {
   "cell_type": "code",
   "execution_count": null,
   "id": "6b8d92d9",
   "metadata": {},
   "outputs": [],
   "source": [
    "# Break down total survival by Class and Gender\n",
    "titanic_c_g_survival=titanic_data.groupby(['Sex', 'Pclass'])[['Survived']].mean().unstack().plot(kind='bar').set_ylabel('Survival Rate')\n",
    "titanic_c_g_survival=titanic_data.groupby(['Sex', 'Pclass'])[['Survived']].mean()\n",
    "titanic_c_g_survival"
   ]
  },
  {
   "cell_type": "markdown",
   "id": "b2e87dbd",
   "metadata": {},
   "source": [
    "We can see that females, regardless of passenger class, were much more likely to suvive than males, although the rate of survival between 1st Class male passengers is close to that of 3rd Class female passengers."
   ]
  },
  {
   "cell_type": "markdown",
   "id": "dec31434",
   "metadata": {},
   "source": [
    "## Survival according to Age Group and Gender"
   ]
  },
  {
   "cell_type": "code",
   "execution_count": null,
   "id": "bc726418",
   "metadata": {},
   "outputs": [],
   "source": [
    "# Break down total survival by Age Group and Gender\n",
    "titanic_a_g_survival=titanic_data.groupby(['Agegroup', 'Sex'])[['Survived']].mean().unstack().plot(kind='bar').set_ylabel('Survival Rate')\n",
    "titanic_a_g_survival=titanic_data.groupby(['Agegroup', 'Sex'])[['Survived']].mean()\n",
    "titanic_a_g_survival"
   ]
  },
  {
   "cell_type": "markdown",
   "id": "aea85cbb",
   "metadata": {},
   "source": [
    "In this case we again see that females have a higher likelihood of surviving than males, although the difference in the Child Age Group is small (65% survival rate for females, and 52.5% for males)."
   ]
  },
  {
   "cell_type": "markdown",
   "id": "649f0518",
   "metadata": {},
   "source": [
    "## Survival by Age Group and Class"
   ]
  }
 ],
 "metadata": {},
 "nbformat": 4,
 "nbformat_minor": 5
}
