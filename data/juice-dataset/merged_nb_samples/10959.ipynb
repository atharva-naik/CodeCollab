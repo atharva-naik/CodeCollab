{
 "cells": [
  {
   "cell_type": "markdown",
   "id": "8fc84837",
   "metadata": {},
   "source": [
    "## Python Demo\n",
    "### A prelude to xxx Python Training"
   ]
  },
  {
   "cell_type": "markdown",
   "id": "a2fa26eb",
   "metadata": {},
   "source": [
    "We're going to follow a normal analyst workflow:\n",
    "1. Pull data from Exadata.\n",
    "2. View the data.\n",
    "3. Split the data into training and test.\n",
    "4. Clean the data and remove outliers.\n",
    "5. Train a model.\n",
    "6. Test the model.\n",
    "7. Export the model.\n",
    "\n",
    "This demo is intended to be something of a [whirlwind](http://www.oreilly.com/programming/free/files/a-whirlwind-tour-of-python.pdf), so don't worry if you aren't able to keep up. This should just give you a taste of the look and feel of Python, along with its power.\n",
    "\n",
    "We're going to model a store's sales of in June 2017, based on its sales in April and June 2017."
   ]
  },
  {
   "cell_type": "markdown",
   "id": "44246feb",
   "metadata": {},
   "source": [
    "### 1. Pull Data"
   ]
  },
  {
   "cell_type": "code",
   "execution_count": null,
   "id": "e1ab3a05",
   "metadata": {},
   "outputs": [],
   "source": [
    "# Import the Oracle connection module from the py_effo library.\n",
    "import py_effo.oracle_connection as oracle_connection\n",
    "# Instantiate a connection object.\n",
    "con = oracle_connection.OracleConnection('an_cm_ws29')\n",
    "# Construct a query for what data we want to pull back.\n",
    "query = '''SELECT store_id,\n",
    "                  -- April Spend\n",
    "                  SUM(CASE WHEN transaction_dttm BETWEEN TO_DATE('20170401', 'YYYYMMDD')\n",
    "                                                     AND TO_DATE('20170430', 'YYYYMMDD')\n",
    "                      THEN basket_net_spend_amt\n",
    "                      ELSE 0\n",
    "                  END) AS apr_spend,\n",
    "                  -- May Spend\n",
    "                  SUM(CASE WHEN transaction_dttm BETWEEN TO_DATE('20170501', 'YYYYMMDD')\n",
    "                                                     AND TO_DATE('20170531', 'YYYYMMDD')\n",
    "                      THEN basket_net_spend_amt\n",
    "                      ELSE 0\n",
    "                  END) AS may_spend,\n",
    "                  -- June Spend\n",
    "                  SUM(CASE WHEN transaction_dttm BETWEEN TO_DATE('20170601', 'YYYYMMDD')\n",
    "                                                     AND TO_DATE('20170630', 'YYYYMMDD')\n",
    "                      THEN basket_net_spend_amt\n",
    "                      ELSE 0\n",
    "                  END) AS june_spend\n",
    "            FROM transaction_basket_fct\n",
    "            WHERE transaction_dttm BETWEEN TO_DATE('20170401', 'YYYYMMDD') AND TO_DATE('20170630', 'YYYYMMDD')\n",
    "            -- Use this modulus to take a sample (just to make this simpler)\n",
    "            AND MOD(store_id, 23) = 0\n",
    "            GROUP BY store_id'''\n",
    "# Execute the query.\n",
    "store_spend = con.query(query)\n",
    "# View a sample of the data\n",
    "store_spend.head()"
   ]
  },
  {
   "cell_type": "markdown",
   "id": "65061206",
   "metadata": {},
   "source": [
    "### 2. View the data\n",
    "If you want to take a look at the whole thing as a table, run the following cell."
   ]
  },
  {
   "cell_type": "code",
   "execution_count": null,
   "id": "684972d9",
   "metadata": {},
   "outputs": [],
   "source": [
    "store_spend"
   ]
  },
  {
   "cell_type": "markdown",
   "id": "118b8202",
   "metadata": {},
   "source": [
    "Let's make density plots of store spend in each month."
   ]
  },
  {
   "cell_type": "code",
   "execution_count": null,
   "id": "0f48600c",
   "metadata": {},
   "outputs": [],
   "source": [
    "# Set up for plotting\n",
    "%matplotlib inline\n",
    "import matplotlib.pyplot as plt\n",
    "import seaborn as sns\n",
    "# Create 3 vertical plots that share an x axis\n",
    "fig, ax = plt.subplots(nrows=3, sharex='row')\n",
    "for i, col_name in enumerate(['APR_SPEND', 'MAY_SPEND', 'JUNE_SPEND']):\n",
    "    sns.distplot(store_spend[col_name], ax=ax[i])"
   ]
  },
  {
   "cell_type": "markdown",
   "id": "1b5e7572",
   "metadata": {},
   "source": [
    "Yes, we could spend time to make this prettier, but that's not what we're after."
   ]
  },
  {
   "cell_type": "markdown",
   "id": "090566df",
   "metadata": {},
   "source": [
    "### 3. Split into training and test\n",
    "First, separate the response and the features into their own NumPy arrays."
   ]
  },
  {
   "cell_type": "code",
   "execution_count": null,
   "id": "cbc6065f",
   "metadata": {},
   "outputs": [],
   "source": [
    "from sklearn.model_selection import train_test_split\n",
    "# Separate response from features\n",
    "X = store_spend[['APR_SPEND', 'MAY_SPEND']]\n",
    "y = store_spend['JUNE_SPEND']\n",
    "# Split into training ang test\n",
    "X_train, X_test, y_train, y_test = train_test_split(X, y)"
   ]
  },
  {
   "cell_type": "markdown",
   "id": "0dcabf2e",
   "metadata": {},
   "source": [
    "### 4. Clean and Remove outliers\n",
    "We'll use a method called Isolation Forest to find outliers."
   ]
  },
  {
   "cell_type": "code",
   "execution_count": null,
   "id": "df0f65ca",
   "metadata": {},
   "outputs": [],
   "source": [
    "from sklearn.ensemble import IsolationForest\n",
    "\n",
    "isolation_forest = IsolationForest(max_samples=100, random_state=8451)\n",
    "iso_fit = isolation_forest.fit(X_train)\n",
    "# Get outlier ratings for all of the points in the training data\n",
    "outlier_ratings = iso_fit.decision_function(X_train)\n",
    "# Take a look at the first 50 outlier ratings\n",
    "outlier_ratings[:50]"
   ]
  },
  {
   "cell_type": "markdown",
   "id": "f3548e54",
   "metadata": {},
   "source": [
    "Plot the outlier ratings to see if there is an obvious cutoff (lower scores mean more likely to be an outlier)."
   ]
  },
  {
   "cell_type": "code",
   "execution_count": null,
   "id": "46460664",
   "metadata": {},
   "outputs": [],
   "source": [
    "sns.distplot(outlier_ratings)"
   ]
  },
  {
   "cell_type": "markdown",
   "id": "0bf1d81e",
   "metadata": {},
   "source": [
    "Let's cut off at -0.10; it looks like there's a gap there. Remove rows that meet this outlier condition."
   ]
  },
  {
   "cell_type": "code",
   "execution_count": null,
   "id": "eb761071",
   "metadata": {},
   "outputs": [],
   "source": [
    "outlier_filter = (outlier_ratings <= -.1)\n",
    "X_train = X_train[~outlier_filter]\n",
    "y_train = y_train[~outlier_filter]\n",
    "print('X_train shape: %s' % str(X_train.shape))\n",
    "print('y_train shape: %s' % str(y_train.shape))"
   ]
  },
  {
   "cell_type": "markdown",
   "id": "e695a327",
   "metadata": {},
   "source": [
    "### Train a model.\n",
    "For the sake of simplicity, let's just do a linear regression."
   ]
  },
  {
   "cell_type": "code",
   "execution_count": null,
   "id": "c9bfcfac",
   "metadata": {},
   "outputs": [],
   "source": [
    "from sklearn.linear_model import LinearRegression\n",
    "lin_reg = LinearRegression()\n",
    "model = lin_reg.fit(X=X_train, y=y_train)\n",
    "print('Coef: %s' % str(model.coef_))\n",
    "print('Intercept: %s' % str(model.intercept_))"
   ]
  },
  {
   "cell_type": "markdown",
   "id": "db3ec52c",
   "metadata": {},
   "source": [
    "That was easy. What's the training MSE?"
   ]
  },
  {
   "cell_type": "code",
   "execution_count": null,
   "id": "d7021d82",
   "metadata": {},
   "outputs": [],
   "source": [
    "from sklearn.metrics import mean_squared_error\n",
    "y_pred_train = model.predict(X_train)\n",
    "mean_squared_error(y_train, y_pred_train)"
   ]
  },
  {
   "cell_type": "markdown",
   "id": "5173b49e",
   "metadata": {},
   "source": [
    "### Test the model.\n",
    "First, make predictions."
   ]
  },
  {
   "cell_type": "code",
   "execution_count": null,
   "id": "c2aaf5a7",
   "metadata": {},
   "outputs": [],
   "source": [
    "y_pred_test = model.predict(X_test)"
   ]
  },
  {
   "cell_type": "markdown",
   "id": "e4a6209d",
   "metadata": {},
   "source": [
    "Now see how good they are."
   ]
  },
  {
   "cell_type": "code",
   "execution_count": null,
   "id": "712b46f3",
   "metadata": {},
   "outputs": [],
   "source": [
    "mean_squared_error(y_test, y_pred_test)"
   ]
  },
  {
   "cell_type": "markdown",
   "id": "2e079dbb",
   "metadata": {},
   "source": [
    "### Export the model.\n",
    "Let's just \"pickle\" the model and save it. Pickling saves Python objects in files, so you can reload them in a later session."
   ]
  }
 ],
 "metadata": {},
 "nbformat": 4,
 "nbformat_minor": 5
}
