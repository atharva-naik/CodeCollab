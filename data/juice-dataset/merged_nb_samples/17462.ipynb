{
 "cells": [
  {
   "cell_type": "markdown",
   "id": "924bbbff",
   "metadata": {},
   "source": [
    "###This notebook covers:\n",
    "###Lesson 2A-L1 Images as Functions"
   ]
  },
  {
   "cell_type": "markdown",
   "id": "8b092c85",
   "metadata": {},
   "source": [
    "#####Import Libraries and Dependencies"
   ]
  },
  {
   "cell_type": "code",
   "execution_count": null,
   "id": "c12135dd",
   "metadata": {},
   "outputs": [],
   "source": [
    "import cv2\n",
    "import os\n",
    "import matplotlib.pyplot as plt\n",
    "import numpy as np\n",
    "%matplotlib inline\n",
    "\n",
    "IMG = 'imgs/'"
   ]
  },
  {
   "cell_type": "markdown",
   "id": "fe70be6b",
   "metadata": {},
   "source": [
    "#####Some Helper Functions"
   ]
  },
  {
   "cell_type": "code",
   "execution_count": null,
   "id": "9ad701eb",
   "metadata": {},
   "outputs": [],
   "source": [
    "def show_img(img):\n",
    "    \"\"\"\n",
    "    Function takes an image, and shows the image using pyplot.\n",
    "    The image is shown in RGB\n",
    "    \"\"\"\n",
    "    img = cv2.cvtColor(img, cv2.COLOR_BGR2RGB)\n",
    "    plt.imshow(img)\n"
   ]
  },
  {
   "cell_type": "markdown",
   "id": "7ab0534a",
   "metadata": {},
   "source": [
    "#####Load and Display an Image"
   ]
  },
  {
   "cell_type": "code",
   "execution_count": null,
   "id": "81c99d65",
   "metadata": {},
   "outputs": [],
   "source": [
    "img_path = os.path.join(IMG, 'sea.jpeg')\n",
    "img = cv2.imread(img_path)\n",
    "# What is the size of the Image?\n",
    "print img.shape\n",
    "# What is the class of the image?\n",
    "print img.dtype\n",
    "show_img(img)"
   ]
  },
  {
   "cell_type": "markdown",
   "id": "1f67f9b0",
   "metadata": {},
   "source": [
    "#####Inspect Image Values\n",
    "My image has three channels: Red, Green, and Blue. That's why when selecting the 50th row and 100th column, three values are returned."
   ]
  },
  {
   "cell_type": "code",
   "execution_count": null,
   "id": "1947d349",
   "metadata": {},
   "outputs": [],
   "source": [
    "img[50,100]"
   ]
  },
  {
   "cell_type": "code",
   "execution_count": null,
   "id": "01c86fd2",
   "metadata": {},
   "outputs": [],
   "source": [
    "plt.plot(img[1500,:,2])"
   ]
  },
  {
   "cell_type": "markdown",
   "id": "cca45abc",
   "metadata": {},
   "source": [
    "TODO: Extract a 2D slice between rows 101 to 103 and columns 201 to 203 (inclusive)"
   ]
  },
  {
   "cell_type": "code",
   "execution_count": null,
   "id": "e8c4c5a2",
   "metadata": {},
   "outputs": [],
   "source": [
    "extraction = img[101:103,201:203]"
   ]
  },
  {
   "cell_type": "markdown",
   "id": "2fdf7389",
   "metadata": {},
   "source": [
    "#####Crop Image"
   ]
  },
  {
   "cell_type": "code",
   "execution_count": null,
   "id": "d6bab5be",
   "metadata": {},
   "outputs": [],
   "source": [
    "cropped = img[1700:,300:,:]"
   ]
  },
  {
   "cell_type": "code",
   "execution_count": null,
   "id": "0e3836fa",
   "metadata": {},
   "outputs": [],
   "source": [
    "show_img(cropped)"
   ]
  },
  {
   "cell_type": "code",
   "execution_count": null,
   "id": "26607f6a",
   "metadata": {},
   "outputs": [],
   "source": [
    "# Size of Cropped Image\n",
    "cropped.shape\n"
   ]
  },
  {
   "cell_type": "markdown",
   "id": "afc6a4b5",
   "metadata": {},
   "source": [
    "#####Color Planes"
   ]
  },
  {
   "cell_type": "code",
   "execution_count": null,
   "id": "18f4e5a3",
   "metadata": {},
   "outputs": [],
   "source": [
    "img_green = img[:,:,1]"
   ]
  },
  {
   "cell_type": "code",
   "execution_count": null,
   "id": "a2c3be59",
   "metadata": {},
   "outputs": [],
   "source": [
    "plt.imshow(img_green, cmap='gray')"
   ]
  },
  {
   "cell_type": "markdown",
   "id": "f81a0383",
   "metadata": {},
   "source": [
    "#####Adding Pixels"
   ]
  },
  {
   "cell_type": "code",
   "execution_count": null,
   "id": "8af4877f",
   "metadata": {},
   "outputs": [],
   "source": [
    "# Load the Dog Image\n",
    "dog_path = os.path.join(IMG, 'dog.jpeg')\n",
    "dog = cv2.imread(dog_path)\n",
    "#dog = cv2.resize\n",
    "dog = cv2.resize(dog, (img.shape[1], img.shape[0]))\n",
    "show_img(dog)"
   ]
  },
  {
   "cell_type": "code",
   "execution_count": null,
   "id": "a2085974",
   "metadata": {},
   "outputs": [],
   "source": [
    "summed = dog/2 + img/2"
   ]
  },
  {
   "cell_type": "code",
   "execution_count": null,
   "id": "27957f03",
   "metadata": {},
   "outputs": [],
   "source": [
    "show_img(summed)"
   ]
  },
  {
   "cell_type": "code",
   "execution_count": null,
   "id": "7982d808",
   "metadata": {},
   "outputs": [],
   "source": [
    "summed_2 = (dog + img)"
   ]
  },
  {
   "cell_type": "code",
   "execution_count": null,
   "id": "fe5fbefb",
   "metadata": {},
   "outputs": [],
   "source": [
    "show_img(summed_2)"
   ]
  },
  {
   "cell_type": "markdown",
   "id": "af759ea7",
   "metadata": {},
   "source": [
    "#####Multiply by a Scalar Demo"
   ]
  },
  {
   "cell_type": "code",
   "execution_count": null,
   "id": "d3e507b5",
   "metadata": {},
   "outputs": [],
   "source": [
    "def scale(img, value):\n",
    "    result = img*value\n",
    "    return result\n",
    "\n",
    "scaled_img = scale(img, 2)\n",
    "print img[0,0,0], '\\n'\n",
    "print scaled_img[0,0,0]\n",
    "show_img(img)"
   ]
  },
  {
   "cell_type": "markdown",
   "id": "3e8c0f14",
   "metadata": {},
   "source": [
    "#####Blending 2 Images\n",
    "Here, I used the opencv function addWeighted, instead of manipulating the matrices directly. I couldn't make it work using numpy array manipulations. If you can, please let me know or file a pull request!"
   ]
  },
  {
   "cell_type": "code",
   "execution_count": null,
   "id": "d9d3e66b",
   "metadata": {},
   "outputs": [],
   "source": [
    "def blend(img_1, img_2, alpha):\n",
    "    #output = alpha*img_1 + (1-alpha)*img_2\n",
    "    #output = cv2.multiply(img_1, alpha)\n",
    "    #output = output.astype('int8')\n",
    "    #output = np.zeros((img_1.shape[0], img_2.shape[1], img_1.shape[2]))\n",
    "    output = cv2.addWeighted(img_1, alpha, img_2, (1-alpha), 0)\n",
    "    return output"
   ]
  },
  {
   "cell_type": "code",
   "execution_count": null,
   "id": "932a1dc8",
   "metadata": {},
   "outputs": [],
   "source": [
    "blended_img = blend(img, dog, 0.25)"
   ]
  },
  {
   "cell_type": "code",
   "execution_count": null,
   "id": "bd172630",
   "metadata": {},
   "outputs": [],
   "source": [
    "show_img(blended_img)"
   ]
  },
  {
   "cell_type": "markdown",
   "id": "1186369d",
   "metadata": {},
   "source": [
    "#####Generate Gaussian Noise\n",
    "TODO: Try Generating Other Kinds of Random Numbers. How about a 2D Grid of Random Gaussian Values?\n",
    "\n",
    "COULDN'T DO: Generate a 2D Gaussian Plot using Matplotlib. Plot of histogram bin counts."
   ]
  },
  {
   "cell_type": "code",
   "execution_count": null,
   "id": "b5a2de99",
   "metadata": {},
   "outputs": [],
   "source": [
    "# grid = np.randn\n",
    "# print np.random.randn.__doc__\n",
    "grid = np.random.randn(100,100)"
   ]
  },
  {
   "cell_type": "markdown",
   "id": "b99ad523",
   "metadata": {},
   "source": [
    "#####Apply Gaussian Noise"
   ]
  }
 ],
 "metadata": {},
 "nbformat": 4,
 "nbformat_minor": 5
}
