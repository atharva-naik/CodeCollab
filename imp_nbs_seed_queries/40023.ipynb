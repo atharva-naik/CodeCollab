{
 "cells": [
  {
   "cell_type": "markdown",
   "id": "0ea68f82",
   "metadata": {},
   "source": [
    "# Blackjack Game\n",
    "\n",
    "This is the second milestone project in the course \"Complete Python Bootcamp\" in Udemy. The script below can serve as detailed step by step tutorial on how to create a simple Blackjack game executed in Jupyter Notebook. <br>\n",
    "<sub> **Important Note:** The current version of the game is developed by me with the help of the Walkthrough Steps Workbook provided in the course materials so more efficient solutions could exist. Link to course:  https://www.udemy.com/complete-python-bootcamp/ <sub/>\n"
   ]
  },
  {
   "cell_type": "markdown",
   "id": "b4b4fab0",
   "metadata": {},
   "source": [
    "## Game Play (step by step)\n",
    "To play a hand of Blackjack the following steps must be followed:\n",
    "1. Create a deck of 52 cards\n",
    "2. Shuffle the deck\n",
    "3. Ask the Player for their bet\n",
    "4. Make sure that the Player's bet does not exceed their available chips\n",
    "5. Deal two cards to the Dealer and two cards to the Player\n",
    "6. Show only one of the Dealer's cards, the other remains hidden\n",
    "7. Show both of the Player's cards\n",
    "8. Ask the Player if they wish to Hit, and take another card\n",
    "9. If the Player's hand doesn't Bust (go over 21), ask if they'd like to Hit again.\n",
    "10. If a Player Stands, play the Dealer's hand. The dealer will always Hit until the Dealer's value meets or exceeds 17\n",
    "11. Determine the winner and adjust the Player's chips accordingly\n",
    "12. Ask the Player if they'd like to play again\n",
    "\n",
    "\n",
    "<sub>Game Rules explained thoroughly here: https://en.wikipedia.org/wiki/Blackjack /</sub><br><sub>However, here is a simplified version of the Blackjack game, so the listed steps above can serve as a guide towards what has been done.<sub/>"
   ]
  },
  {
   "cell_type": "markdown",
   "id": "9e1e0b01",
   "metadata": {},
   "source": [
    "## Playing Cards\n",
    "A standard deck of playing cards has four suits (Hearts, Diamonds, Spades and Clubs) and thirteen ranks (2 through 10, then the face cards Jack, Queen, King and Ace) for a total of 52 cards per deck. Jacks, Queens and Kings all have a rank of 10. Aces have a rank of either 11 or 1 as needed to reach 21 without busting. As a starting point in your program, you may want to assign variables to store a list of suits, ranks, and then use a dictionary to map ranks to values."
   ]
  },
  {
   "cell_type": "markdown",
   "id": "a7489cb9",
   "metadata": {},
   "source": [
    "## The Game\n",
    "### Imports and Global Variables\n",
    "** Step 1: Import the random module. This will be used to shuffle the deck prior to dealing. Then, declare variables to store suits, ranks and values.  Finally, declare a Boolean value to be used to control <code>while</code> loops (this will be used to control the flow of the game). **"
   ]
  },
  {
   "cell_type": "code",
   "execution_count": null,
   "id": "62955bf8",
   "metadata": {},
   "outputs": [],
   "source": [
    "import random\n",
    "\n",
    "allsuits = ('Hearts', 'Diamonds', 'Spades', 'Clubs')\n",
    "allranks = ('Two', 'Three', 'Four', 'Five', 'Six', 'Seven', 'Eight', 'Nine', 'Ten', 'Jack', 'Queen', 'King', 'Ace')\n",
    "allvalues = {'Two':2, 'Three':3, 'Four':4, 'Five':5, 'Six':6, 'Seven':7, 'Eight':8, 'Nine':9, 'Ten':10, 'Jack':10,\n",
    "             'Queen':10, 'King':10, 'Ace':11}\n",
    "\n",
    "playing = True"
   ]
  },
  {
   "cell_type": "markdown",
   "id": "30f739e4",
   "metadata": {},
   "source": [
    "### Class Definitions\n",
    "Consider making a Card class where each Card object has a suit and a rank, then a Deck class to hold all 52 Card objects, and can be shuffled, and finally a Hand class that holds those Cards that have been dealt to each player from the Deck."
   ]
  },
  {
   "cell_type": "markdown",
   "id": "f7bcba32",
   "metadata": {},
   "source": [
    "**Step 2: Create a Card Class**<br>\n",
    "A Card object really only needs two attributes: suit and rank.<br>In addition to the Card's \\_\\_init\\_\\_ method, consider adding a \\_\\_str\\_\\_ method that, when asked to print a Card, returns a string in the form \"Two of Hearts\""
   ]
  },
  {
   "cell_type": "code",
   "execution_count": null,
   "id": "b12fed78",
   "metadata": {},
   "outputs": [],
   "source": [
    "class Card:  \n",
    "    def __init__(self,suit,rank):\n",
    "        self.suit = suit\n",
    "        self.rank = rank\n",
    "    \n",
    "    def __str__(self):\n",
    "        return \"{} of {}\".format(self.rank,self.suit)"
   ]
  },
  {
   "cell_type": "markdown",
   "id": "bb605b6e",
   "metadata": {},
   "source": [
    "**Step 3: Create a Deck Class**<br><br>\n",
    "Here we might store 52 card objects in a list that can later be shuffled. First, though, we need to *instantiate* all 52 unique card objects and add them to our list. So long as the Card class definition appears in our code, we can build Card objects inside our Deck \\_\\_init\\_\\_ method. Consider iterating over sequences of suits and ranks to build out each card. <br>\n",
    "\n",
    "In addition to an \\_\\_init\\_\\_ method we'll want to add methods to shuffle our deck, and to deal out cards during gameplay.<br><br>\n",
    "OPTIONAL: We may never need to print the contents of the deck during gameplay, but having the ability to see the cards inside it may help troubleshoot any problems that occur during development. With this in mind, consider adding a \\_\\_str\\_\\_ method to the class definition."
   ]
  },
  {
   "cell_type": "code",
   "execution_count": null,
   "id": "4ffb0311",
   "metadata": {},
   "outputs": [],
   "source": [
    "class Deck:\n",
    "    \n",
    "    def __init__(self):\n",
    "        self.deck = []  # start with an empty list (empty deck)\n",
    "        for suit in allsuits:\n",
    "            for rank in allranks:\n",
    "                card = Card(suit = suit, rank = rank)\n",
    "                self.deck.append(str(card))\n",
    "    \n",
    "    def __str__(self):\n",
    "        return \"Cards in the deck: {}\".format(self.deck)\n",
    "    \n",
    "    def shuffle(self):\n",
    "        random.shuffle(self.deck)\n",
    "        \n",
    "    def deal(self):\n",
    "        chosen = random.choice(self.deck)\n",
    "        self.deck.remove(chosen)\n",
    "        return chosen"
   ]
  },
  {
   "cell_type": "markdown",
   "id": "746cf83b",
   "metadata": {},
   "source": [
    "**Step 4: Create a Hand Class**<br>\n",
    "In addition to holding Card objects dealt from the Deck, the Hand class may be used to calculate the value of those cards using the values dictionary defined above. It may also need to adjust for the value of Aces when appropriate."
   ]
  },
  {
   "cell_type": "code",
   "execution_count": null,
   "id": "ea4cf918",
   "metadata": {},
   "outputs": [],
   "source": [
    "class Hand:\n",
    "    \n",
    "    def __init__(self):\n",
    "        self.cards = []  # start with an empty list as we did in the Deck class\n",
    "        self.value = 0   # start with zero value\n",
    "        self.aces = 0    # add an attribute to keep track of aces\n",
    "    \n",
    "    def add_card(self,card):\n",
    "        '''\n",
    "        Input:\n",
    "        card - Deck() object (using the method deal())\n",
    "        Output:\n",
    "        A new card is dealt. Its value is added to the overall value of the cards in the current hand. \n",
    "        '''\n",
    "        self.cards.append(card)\n",
    "        self.value += allvalues[card.split()[0]]\n",
    "        if card.split()[0] == \"Ace\":\n",
    "            self.aces +=1\n",
    "    \n",
    "    def adjust_for_ace(self):\n",
    "        '''\n",
    "        This function adjusts the value of Ace when appropriate.\n",
    "        '''\n",
    "        if self.aces == 1:\n",
    "            if self.value > 21:\n",
    "                self.value = self.value - 10 # we make the value of the Ace equal to 1 when the overall sum in the current hand exceeds 21\n",
    "                self.aces = 0\n",
    "        elif self.aces == 2:\n",
    "            self.value = self.value - 10 # in cases when more than one Ace is in the current hand\n",
    "            self.aces = 1\n",
    "        else:\n",
    "            pass            "
   ]
  },
  {
   "cell_type": "markdown",
   "id": "d79af1ec",
   "metadata": {},
   "source": [
    "**Step 5: Create a Chips Class**<br>\n",
    "In addition to decks of cards and hands, we need to keep track of a Player's starting chips, bets, and ongoing winnings. Keep in mind that the Chip Class won't be updated after each round of the game. So, in each new game the player inputs the value of his bet - game progress is not retained. Chips are set to a default value of 500."
   ]
  },
  {
   "cell_type": "code",
   "execution_count": null,
   "id": "9c75b27f",
   "metadata": {},
   "outputs": [],
   "source": [
    "class Chips:\n",
    "    \n",
    "    def __init__(self, total = 500, bet =0):\n",
    "        self.total = total  # This can be set to a default value or supplied by a user input\n",
    "        self.bet = bet # default value\n",
    "        \n",
    "    def win_bet(self):\n",
    "        self.total += self.bet\n",
    "    \n",
    "    def lose_bet(self):\n",
    "        self.total -= self.bet"
   ]
  },
  {
   "cell_type": "markdown",
   "id": "cc82347b",
   "metadata": {},
   "source": [
    "### Function Defintions"
   ]
  },
  {
   "cell_type": "markdown",
   "id": "a8ad13d1",
   "metadata": {},
   "source": [
    "**Step 6: Write a function for taking bets**<br>\n",
    "Remember to check that a Player's bet can be covered by their available chips."
   ]
  },
  {
   "cell_type": "code",
   "execution_count": null,
   "id": "b4bec9da",
   "metadata": {},
   "outputs": [],
   "source": [
    "def take_bet(chip):\n",
    "    '''\n",
    "    Input:\n",
    "    chip - a Chip() object\n",
    "    '''\n",
    "    while True:   \n",
    "        try:\n",
    "            chip.bet = int(input(\"Please provide your bet: \"))\n",
    "        except:\n",
    "            print(\"It looks that you have not provided a number. Please, try again by providing an integer value!\")\n",
    "        else:\n",
    "            if chip.bet > chip.total:\n",
    "                print(\"You exceeded your total amount of chips! You have: {} chips\".format(chip.total))\n",
    "            else:\n",
    "                print(\"Thank you! Your bet is equal to {}\".format(chip.bet))\n",
    "                break"
   ]
  },
  {
   "cell_type": "markdown",
   "id": "cf70481a",
   "metadata": {},
   "source": [
    "**Step 7: Write a function for taking hits**<br>\n",
    "Either player can take hits until they bust. This function will be called during gameplay anytime a Player requests a hit, or a Dealer's hand is less than 17. It should take in Deck and Hand objects as arguments, and deal one card off the deck and add it to the Hand. You may want it to check for aces in the event that a player's hand exceeds 21."
   ]
  },
  {
   "cell_type": "code",
   "execution_count": null,
   "id": "b991eb0a",
   "metadata": {},
   "outputs": [],
   "source": [
    "def hit(deck,hand): \n",
    "    '''\n",
    "    Inputs:\n",
    "    deck - Deck() object (the current deck)\n",
    "    hand - Hand() object (the current hand)\n",
    "    '''\n",
    "    hand.add_card(card = deck.deal())\n",
    "    hand.adjust_for_ace()"
   ]
  },
  {
   "cell_type": "markdown",
   "id": "c7f8b56c",
   "metadata": {},
   "source": [
    "**Step 8: Write a function prompting the Player to Hit or Stand**<br>\n",
    "This function should accept the deck and the player's hand as arguments, and assign playing as a global variable.<br>\n",
    "If the Player Hits, employ the hit() function above. If the Player Stands, set the playing variable to False - this will control the behavior of a <code>while</code> loop later on in our code."
   ]
  },
  {
   "cell_type": "code",
   "execution_count": null,
   "id": "d2818022",
   "metadata": {},
   "outputs": [],
   "source": [
    "def hit_or_stand(deck,hand):\n",
    "    '''\n",
    "    Inputs:\n",
    "    deck - Deck() object (the current deck)\n",
    "    hand - Hand() object (the current hand)\n",
    "    '''\n",
    "    global playing  # to control an upcoming while loop\n",
    "    playerchoice = input(\"Hit or stand?\")\n",
    "    \n",
    "    while playerchoice.lower() not in ['hit','stand']:\n",
    "        playerchoice = input(\"Hit or stand?\")\n",
    "\n",
    "    if playerchoice.lower() == \"hit\":\n",
    "        hit(deck,hand)\n",
    "    else:\n",
    "        print(\"Player stands! Dealer's turn!\")\n",
    "        playing = False"
   ]
  },
  {
   "cell_type": "markdown",
   "id": "35cef3ca",
   "metadata": {},
   "source": [
    "### Graphic Layout\n",
    "**Step 9: Define a simple print function which will be used to inform the user about the game stage in different colours.**"
   ]
  },
  {
   "cell_type": "code",
   "execution_count": null,
   "id": "56fc6664",
   "metadata": {},
   "outputs": [],
   "source": [
    "import colorama # python library which produces colored terminal text \n",
    "from colorama import Fore, Back, Style\n",
    "from IPython.display import Markdown, display\n",
    "def printmd(string):\n",
    "    display(Markdown(string))"
   ]
  },
  {
   "cell_type": "markdown",
   "id": "425c3460",
   "metadata": {},
   "source": [
    "**Step 10: Write functions to display cards**<br>\n",
    "When the game starts, and after each time Player takes a card, the dealer's first card is hidden and all of Player's cards are visible. At the end of the hand all cards are shown, and you may want to show each hand's total value. Write a function for each of these scenarios."
   ]
  }
 ],
 "metadata": {},
 "nbformat": 4,
 "nbformat_minor": 5
}
