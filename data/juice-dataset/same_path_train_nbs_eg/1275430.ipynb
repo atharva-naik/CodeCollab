{
 "cells": [
  {
   "cell_type": "code",
   "execution_count": null,
   "id": "538179ea",
   "metadata": {},
   "outputs": [],
   "source": [
    "projects = pd.DataFrame.from_csv('opendata_projects.csv', index_col=None)\n",
    "projects.head(5)"
   ]
  },
  {
   "cell_type": "code",
   "execution_count": null,
   "id": "2e294138",
   "metadata": {},
   "outputs": [],
   "source": [
    "# Join donations and projects data\n",
    "projects_donations = projects.merge(donations, on='_projectid',how='inner')\n",
    "projects_donations.head(5)"
   ]
  },
  {
   "cell_type": "code",
   "execution_count": null,
   "id": "fc25db1a",
   "metadata": {},
   "outputs": [],
   "source": [
    "len(projects_donations)"
   ]
  },
  {
   "cell_type": "markdown",
   "id": "d8f2e22d",
   "metadata": {},
   "source": [
    "### 1) Is there a correlation between project's state and donor's state in terms of donation amount ?"
   ]
  },
  {
   "cell_type": "code",
   "execution_count": null,
   "id": "8333a266",
   "metadata": {},
   "outputs": [],
   "source": [
    "#1) Proportions of state wise donations against state wise projects \n",
    "# Creating a n*n empty data frame for each state\n",
    "states = projects_donations.school_state.drop_duplicates()\n",
    "df = pd.DataFrame(columns = states)\n",
    "for state in states:\n",
    "    df.loc[state] = states\n",
    "\n",
    "# Filling the data frame\n",
    "p_g = projects_donations.groupby('school_state')\n",
    "for state_p,group_p in p_g:\n",
    "    #print state_p,'--',group_p.donation_total.sum()\n",
    "    d_g = group_p.groupby('donor_state')\n",
    "    for state_d,group_d in d_g:\n",
    "        #print state_d, group_d.donation_total.sum()\n",
    "        df.loc[state_p,state_d] = 100*(group_d.donation_total.sum())/(group_p.donation_total.sum())"
   ]
  },
  {
   "cell_type": "code",
   "execution_count": null,
   "id": "4d7731e8",
   "metadata": {},
   "outputs": [],
   "source": [
    "df.fillna(0).head(5)"
   ]
  },
  {
   "cell_type": "markdown",
   "id": "cb19a449",
   "metadata": {},
   "source": [
    "**Yes, there is a correlation if you look at the diagonal line. A onor is more likely to donate to a project that belongs to a school in their own state**"
   ]
  },
  {
   "cell_type": "code",
   "execution_count": null,
   "id": "16904a03",
   "metadata": {},
   "outputs": [],
   "source": [
    "## Randomly picked few states - for data story sake\n",
    "df.fillna(0)#.head(5)\n",
    "df.loc[(df.index == 'NY')|(df.index == 'CA')|(df.index == 'DC')|(df.index == 'IA')|(df.index == 'NV')|(df.index == 'SC') ,(df.columns == 'NY')|(df.columns == 'CA')|(df.columns == 'DC')|(df.columns == 'IA')|(df.columns == 'NV')|(df.columns == 'SC')]"
   ]
  },
  {
   "cell_type": "markdown",
   "id": "c7b3b4f0",
   "metadata": {},
   "source": [
    "**Getting top donation states for Iowa**"
   ]
  },
  {
   "cell_type": "code",
   "execution_count": null,
   "id": "58d12287",
   "metadata": {},
   "outputs": [],
   "source": [
    "df[df.index == 'IA'].sum().sort_values(ascending=False).head(5)"
   ]
  },
  {
   "cell_type": "markdown",
   "id": "d6364365",
   "metadata": {},
   "source": [
    "**It is found that a donor is more likely to donate to a project that belongs to a neighbouring state **"
   ]
  },
  {
   "cell_type": "markdown",
   "id": "3c6f02fc",
   "metadata": {},
   "source": [
    "### 2) How does donor category effect the donation amount ?"
   ]
  }
 ],
 "metadata": {},
 "nbformat": 4,
 "nbformat_minor": 5
}
