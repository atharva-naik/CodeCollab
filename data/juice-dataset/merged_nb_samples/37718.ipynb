{
 "cells": [
  {
   "cell_type": "markdown",
   "id": "e695dc1e",
   "metadata": {},
   "source": [
    "## ERM for separating hyperlanes (realizable case)"
   ]
  },
  {
   "cell_type": "code",
   "execution_count": null,
   "id": "9e8d9939",
   "metadata": {},
   "outputs": [],
   "source": [
    "%matplotlib inline\n",
    "import numpy as np\n",
    "import matplotlib.pyplot as plt \n",
    "from sklearn import datasets"
   ]
  },
  {
   "cell_type": "markdown",
   "id": "dd200e62",
   "metadata": {},
   "source": [
    "First, we load the famous IRIS dataset"
   ]
  },
  {
   "cell_type": "code",
   "execution_count": null,
   "id": "1e50220c",
   "metadata": {},
   "outputs": [],
   "source": [
    "data = datasets.load_iris()"
   ]
  },
  {
   "cell_type": "markdown",
   "id": "fa2970e3",
   "metadata": {},
   "source": [
    "Next, we print out the IRIS names and feature names"
   ]
  },
  {
   "cell_type": "code",
   "execution_count": null,
   "id": "6525e511",
   "metadata": {},
   "outputs": [],
   "source": [
    "print data.target_names"
   ]
  },
  {
   "cell_type": "code",
   "execution_count": null,
   "id": "c37d5c53",
   "metadata": {},
   "outputs": [],
   "source": [
    "for i,name in enumerate(data.feature_names):\n",
    "    print i, name"
   ]
  },
  {
   "cell_type": "markdown",
   "id": "0f59569d",
   "metadata": {},
   "source": [
    "Let's plot petal length vs. petal width"
   ]
  },
  {
   "cell_type": "code",
   "execution_count": null,
   "id": "960c58eb",
   "metadata": {},
   "outputs": [],
   "source": [
    "leg = []\n",
    "for i,t in enumerate(data.target_names):\n",
    "    x = data.data[np.where(data.target==i)[0],2]\n",
    "    y = data.data[np.where(data.target==i)[0],3]\n",
    "    plt.scatter(x,y)\n",
    "    leg.append(t)\n",
    "plt.legend(leg)"
   ]
  },
  {
   "cell_type": "markdown",
   "id": "aa2361f0",
   "metadata": {},
   "source": [
    "Ok, so **setosa** is linearly separable from the rest (hence, realizability is given). Let's try to find a separating hyperplane. First, we will scale the data (always a good idea)!"
   ]
  },
  {
   "cell_type": "code",
   "execution_count": null,
   "id": "c6170dec",
   "metadata": {},
   "outputs": [],
   "source": [
    "from sklearn.preprocessing import StandardScaler\n",
    "sc = StandardScaler()\n",
    "X = sc.fit_transform(data.data[:,2:4])"
   ]
  },
  {
   "cell_type": "code",
   "execution_count": null,
   "id": "cef0e479",
   "metadata": {},
   "outputs": [],
   "source": [
    "leg = []\n",
    "for i,t in enumerate(data.target_names):\n",
    "    x = X[np.where(data.target==i)[0],0]\n",
    "    y = X[np.where(data.target==i)[0],1]\n",
    "    plt.scatter(x,y)\n",
    "    leg.append(t)\n",
    "plt.legend(leg)"
   ]
  },
  {
   "cell_type": "markdown",
   "id": "f150346a",
   "metadata": {},
   "source": [
    "Ok, now we can formulate our **linear program** and solve it."
   ]
  },
  {
   "cell_type": "markdown",
   "id": "b0fe1e89",
   "metadata": {},
   "source": [
    "We start by creating a label vector of {+1,-1} for setosa (+1) vs. the rest (-1)."
   ]
  },
  {
   "cell_type": "code",
   "execution_count": null,
   "id": "4003bae4",
   "metadata": {},
   "outputs": [],
   "source": [
    "labels = np.where(data.target == 0, 1 , -1)"
   ]
  },
  {
   "cell_type": "markdown",
   "id": "f3326405",
   "metadata": {},
   "source": [
    "Now, we set up the linear program\n",
    "\n",
    "```\n",
    "max <u,w> s.t.\n",
    "Aw >= v (*)\n",
    "```\n",
    "Our rows in A will be [x_i 1] which we then need to multiply the the label y_i. This will give us a matrix ```A_ub``` that when multiplied by ```w``` gives the values for the upper-bound inequality costraint (*).\n",
    "\n",
    "To do this, we multiply the data first (**Step 1**), and then simply add the labels as a separate (last) column (**Step 2**).\n",
    "\n"
   ]
  },
  {
   "cell_type": "code",
   "execution_count": null,
   "id": "afe25c92",
   "metadata": {},
   "outputs": [],
   "source": [
    "# Step 1\n",
    "A = np.array(labels.reshape(-1,1) * X)\n",
    "\n",
    "# construct a matrix A_ub, s.t. when multiplied by w gives the \n",
    "# values of the upper-bound inequality constraint.\n",
    "A_ub = np.append(A, labels.reshape(-1,1), 1)"
   ]
  },
  {
   "cell_type": "markdown",
   "id": "6ca4be62",
   "metadata": {},
   "source": [
    "Now, we can setup ```v``` as a vector of all minus ones."
   ]
  }
 ],
 "metadata": {},
 "nbformat": 4,
 "nbformat_minor": 5
}
