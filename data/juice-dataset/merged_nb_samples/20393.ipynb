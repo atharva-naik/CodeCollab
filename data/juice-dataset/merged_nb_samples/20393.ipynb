{
 "cells": [
  {
   "cell_type": "markdown",
   "id": "5a966d76",
   "metadata": {},
   "source": [
    "\n",
    "## DKRZ CMIP6 submission form for ESGF data publication\n",
    "\n",
    "#### General Information (to be completed based on official CMIP6 references)\n",
    "\n",
    "Data to be submitted for ESGF data publication must follow the rules outlined in the  CMIP6 Archive Design <br />  (https://...) \n",
    "\n",
    "Thus file names have to follow the pattern:<br />\n",
    "> *VariableName_Domain_GCMModelName_CMIP6ExperimentName_CMIP5EnsembleMember_RCMModelName_RCMVersionID_Frequency[_StartTime-EndTime].nc* <br />\n",
    "**Example:** *tas_AFR-44_MPI-M-MPI-ESM-LR_rcp26_r1i1p1_MPI-CSC-REMO2009_v1_mon_yyyymm-yyyymm.nc*\n",
    "\n",
    "The directory structure in which these files are stored follow the pattern:<br />\n",
    "> *activity/product/Domain/Institution/\n",
    "> GCMModelName/CMIP5ExperimentName/CMIP5EnsembleMember/\n",
    "> RCMModelName/RCMVersionID/Frequency/VariableName* <br />\n",
    "**Example:** *CORDEX/output/AFR-44/MPI-CSC/MPI-M-MPI-ESM-LR/rcp26/r1i1p1/MPI-CSC-REMO2009/v1/mon/tas/tas_AFR-44_MPI-M-MPI-ESM-LR_rcp26_r1i1p1_MPI-CSC-REMO2009_v1_mon_yyyymm-yyyymm.nc*\n",
    "\n",
    "**Notice:** If your model is not yet registered, please contact contact **....** \n",
    "\n",
    "This 'data submission form' is used to improve initial information exchange between data providers and the data center. The form has to be filled before the publication process can be started. In case you have questions pleas contact the individual data center:\t\t\n",
    "o DKRZ:\tcmip6@dkrz.de\t\n",
    "\n",
    "---\n"
   ]
  },
  {
   "cell_type": "code",
   "execution_count": null,
   "id": "4fb6bb01",
   "metadata": {},
   "outputs": [],
   "source": [
    "from dkrz_forms import form_widgets\n",
    "form_widgets.show_status('form-submission')"
   ]
  },
  {
   "cell_type": "markdown",
   "id": "0ec0bb1a",
   "metadata": {},
   "source": [
    "# Start submission procedure\n",
    "The submission is based on this interactive document consisting of \"cells\" you can modify and then evaluate\n",
    "\n",
    "evaluation of cells is done by selecting the cell and then press the keys \"Shift\" + \"Enter\"\n",
    "<br /> please evaluate the following cell to initialize your form"
   ]
  },
  {
   "cell_type": "code",
   "execution_count": null,
   "id": "aad6ea0a",
   "metadata": {},
   "outputs": [],
   "source": [
    "# initialize your CORDEX submission form template\n",
    "from dkrz_forms import form_handler\n",
    "from dkrz_forms import checks"
   ]
  },
  {
   "cell_type": "markdown",
   "id": "8517b2a1",
   "metadata": {},
   "source": [
    "please provide information on the contact person for this CORDEX data submission request"
   ]
  },
  {
   "cell_type": "markdown",
   "id": "15b9a525",
   "metadata": {},
   "source": [
    "## Information on directory structure and data access path \n",
    "(and other information needed for data transport and data publication)"
   ]
  },
  {
   "cell_type": "markdown",
   "id": "59e060bf",
   "metadata": {},
   "source": [
    "\n",
    "If there is any directory structure deviation from the CORDEX standard please specify here. \n",
    "Otherwise enter 'compliant'. Please note that deviations MAY imply that data can not be accepted."
   ]
  },
  {
   "cell_type": "code",
   "execution_count": null,
   "id": "2a509750",
   "metadata": {},
   "outputs": [],
   "source": [
    "sf.directory_structure = \"...\" # example: sf.directory_structure = \"compliant\""
   ]
  },
  {
   "cell_type": "markdown",
   "id": "a15ad66a",
   "metadata": {},
   "source": [
    "Give the path where the data reside, for example:\n",
    "blizzard.dkrz.de:/scratch/b/b364034/. If not applicable write N/A and give data access information in the data_information string"
   ]
  },
  {
   "cell_type": "code",
   "execution_count": null,
   "id": "bf0fffbe",
   "metadata": {},
   "outputs": [],
   "source": [
    "sf.data_path = \"...\"        # example: sf.data_path = \"mistral.dkrz.de:/mnt/lustre01/work/bm0021/k204016/CORDEX/archive/\"\n",
    "sf.data_information = \"...\" # ...any info where data can be accessed and transfered to the data center ... \""
   ]
  },
  {
   "cell_type": "markdown",
   "id": "b22d6aea",
   "metadata": {},
   "source": [
    "#### Exclude variable list\n",
    "\n",
    "In each CORDEX file there may be only one variable which shall be published and searchable at the ESGF portal (target variable). In order to facilitate publication, all non-target variables are included in a list used by the publisher to avoid publication. A list of known non-target variables is [time, time_bnds, lon, lat, rlon ,rlat ,x ,y ,z ,height, plev, Lambert_Conformal, rotated_pole]. Please enter other variables into the left field if applicable (e.g. grid description variables), otherwise write 'N/A'.\n",
    "\n"
   ]
  },
  {
   "cell_type": "code",
   "execution_count": null,
   "id": "d9f3e9e3",
   "metadata": {},
   "outputs": [],
   "source": [
    "sf.exclude_variables_list = \"...\" # example: sf.exclude_variables_list=[\"bnds\", \"vertices\"]"
   ]
  },
  {
   "cell_type": "markdown",
   "id": "dcd90d55",
   "metadata": {},
   "source": [
    "#### Uniqueness of tracking_id and creation_date\n",
    "In case any of your files is replacing a file already published, it must not have the same tracking_id nor \n",
    "the same creation_date as the file it replaces. \n",
    "Did you make sure that that this is not the case ? \n",
    "Reply 'yes'; otherwise adapt the new file versions.\n"
   ]
  },
  {
   "cell_type": "code",
   "execution_count": null,
   "id": "e903a948",
   "metadata": {},
   "outputs": [],
   "source": [
    "sf.uniqueness_of_tracking_id = \"...\" # example: sf.uniqueness_of_tracking_id = \"yes\""
   ]
  },
  {
   "cell_type": "markdown",
   "id": "5050fe5b",
   "metadata": {},
   "source": [
    "## Variable list\n",
    "list of variables submitted -- please remove the ones you do not provide:"
   ]
  },
  {
   "cell_type": "code",
   "execution_count": null,
   "id": "eec30215",
   "metadata": {},
   "outputs": [],
   "source": [
    "\n",
    "sf.variable_list_day = [\n",
    "\"clh\",\"clivi\",\"cll\",\"clm\",\"clt\",\"clwvi\",\n",
    "\"evspsbl\",\"evspsblpot\",\n",
    "\"hfls\",\"hfss\",\"hurs\",\"huss\",\"hus850\",\n",
    "\"mrfso\",\"mrro\",\"mrros\",\"mrso\",\n",
    "\"pr\",\"prc\",\"prhmax\",\"prsn\",\"prw\",\"ps\",\"psl\",\n",
    "\"rlds\",\"rlus\",\"rlut\",\"rsds\",\"rsdt\",\"rsus\",\"rsut\",\n",
    "\"sfcWind\",\"sfcWindmax\",\"sic\",\"snc\",\"snd\",\"snm\",\"snw\",\"sund\",\n",
    "\"tas\",\"tasmax\",\"tasmin\",\"tauu\",\"tauv\",\"ta200\",\"ta500\",\"ta850\",\"ts\",\n",
    "\"uas\",\"ua200\",\"ua500\",\"ua850\",\n",
    "\"vas\",\"va200\",\"va500\",\"va850\",\"wsgsmax\",\n",
    "\"zg200\",\"zg500\",\"zmla\"\n",
    "]\n",
    "\n",
    "sf.variable_list_mon = [\n",
    "\"clt\",\n",
    "\"evspsbl\",\n",
    "\"hfls\",\"hfss\",\"hurs\",\"huss\",\"hus850\",\n",
    "\"mrfso\",\"mrro\",\"mrros\",\"mrso\",\n",
    "\"pr\",\"psl\",\n",
    "\"rlds\",\"rlus\",\"rlut\",\"rsds\",\"rsdt\",\"rsus\",\"rsut\",\n",
    "\"sfcWind\",\"sfcWindmax\",\"sic\",\"snc\",\"snd\",\"snm\",\"snw\",\"sund\",\n",
    "\"tas\",\"tasmax\",\"tasmin\",\"ta200\",\n",
    "\"ta500\",\"ta850\",\n",
    "\"uas\",\"ua200\",\"ua500\",\"ua850\",\n",
    "\"vas\",\"va200\",\"va500\",\"va850\",\n",
    "\"zg200\",\"zg500\"\n",
    "]\n",
    "sf.variable_list_sem = [\n",
    "\"clt\",\n",
    "\"evspsbl\",\n",
    "\"hfls\",\"hfss\",\"hurs\",\"huss\",\"hus850\",\n",
    "\"mrfso\",\"mrro\",\"mrros\",\"mrso\",\n",
    "\"pr\",\"psl\",\n",
    "\"rlds\",\"rlus\",\"rlut\",\"rsds\",\"rsdt\",\"rsus\",\"rsut\",\n",
    "\"sfcWind\",\"sfcWindmax\",\"sic\",\"snc\",\"snd\",\"snm\",\"snw\",\"sund\",\n",
    "\"tas\",\"tasmax\",\"tasmin\",\"ta200\",\"ta500\",\"ta850\",\n",
    "\"uas\",\"ua200\",\"ua500\",\"ua850\",\n",
    "\"vas\",\"va200\",\"va500\",\"va850\",\n",
    "\"zg200\",\"zg500\"  \n",
    "]\n",
    "\n",
    "sf.variable_list_fx = [\n",
    "\"areacella\",\n",
    "\"mrsofc\",\n",
    "\"orog\",\n",
    "\"rootd\",\n",
    "\"sftgif\",\"sftlf\"   \n",
    "]"
   ]
  },
  {
   "cell_type": "markdown",
   "id": "95b0c21b",
   "metadata": {},
   "source": [
    "## Check your submission before submission"
   ]
  }
 ],
 "metadata": {},
 "nbformat": 4,
 "nbformat_minor": 5
}
