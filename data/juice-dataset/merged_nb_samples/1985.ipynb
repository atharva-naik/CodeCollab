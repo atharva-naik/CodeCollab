{
 "cells": [
  {
   "cell_type": "code",
   "execution_count": null,
   "id": "3bb17812",
   "metadata": {},
   "outputs": [],
   "source": [
    "def get_images_from_ids(query_result):\n",
    "    return image_train.filter_by(query_result['reference_label'],'id')"
   ]
  },
  {
   "cell_type": "code",
   "execution_count": null,
   "id": "3b6e0100",
   "metadata": {},
   "outputs": [],
   "source": [
    "cat_neighbors = get_images_from_ids(knn_model.query(cat))"
   ]
  },
  {
   "cell_type": "code",
   "execution_count": null,
   "id": "cd3d45a6",
   "metadata": {},
   "outputs": [],
   "source": [
    "cat_neighbors['image'].show()"
   ]
  },
  {
   "cell_type": "markdown",
   "id": "af6e8344",
   "metadata": {},
   "source": [
    "Very cool results showing similar cats.\n",
    "\n",
    "##Finding similar images to a car"
   ]
  },
  {
   "cell_type": "code",
   "execution_count": null,
   "id": "d619cf9c",
   "metadata": {},
   "outputs": [],
   "source": [
    "car = image_train[8:9]\n",
    "car['image'].show()"
   ]
  },
  {
   "cell_type": "code",
   "execution_count": null,
   "id": "200fbbb4",
   "metadata": {},
   "outputs": [],
   "source": [
    "get_images_from_ids(knn_model.query(car))['image'].show()"
   ]
  },
  {
   "cell_type": "markdown",
   "id": "a527ebe4",
   "metadata": {},
   "source": [
    "# Just for fun, let's create a lambda to find and show nearest neighbor images"
   ]
  },
  {
   "cell_type": "code",
   "execution_count": null,
   "id": "8f304c66",
   "metadata": {},
   "outputs": [],
   "source": [
    "show_neighbors = lambda i: get_images_from_ids(knn_model.query(image_train[i:i+1]))['image'].show()"
   ]
  },
  {
   "cell_type": "code",
   "execution_count": null,
   "id": "f64c5865",
   "metadata": {},
   "outputs": [],
   "source": [
    "show_neighbors(8)"
   ]
  },
  {
   "cell_type": "code",
   "execution_count": null,
   "id": "3a9a0473",
   "metadata": {},
   "outputs": [],
   "source": [
    "show_neighbors(26)"
   ]
  },
  {
   "cell_type": "markdown",
   "id": "c4176681",
   "metadata": {},
   "source": [
    "# Quiz\n",
    "\n",
    "## Question 1\n",
    "What is the least common category in the training data?"
   ]
  },
  {
   "cell_type": "code",
   "execution_count": null,
   "id": "c8a9ee4e",
   "metadata": {},
   "outputs": [],
   "source": [
    "least = image_train.num_rows() + 1\n",
    "for label in image_train['label'].unique():\n",
    "    instances = image_train[image_train['label'] == label].num_rows()\n",
    "    if instances < least:\n",
    "        least = instances\n",
    "        least_label = label\n",
    "print(least_label, least)"
   ]
  },
  {
   "cell_type": "code",
   "execution_count": null,
   "id": "05f4943a",
   "metadata": {},
   "outputs": [],
   "source": [
    "print(image_train['label'].sketch_summary())"
   ]
  },
  {
   "cell_type": "markdown",
   "id": "7d677718",
   "metadata": {},
   "source": [
    "## Question 2\n",
    "\n",
    "Create models for each of the categories shown in the summary.\n",
    "\n",
    "### Separate the frame by category into separate frames"
   ]
  },
  {
   "cell_type": "code",
   "execution_count": null,
   "id": "969ebb05",
   "metadata": {},
   "outputs": [],
   "source": [
    "automobile_train = image_train[image_train['label'] == 'automobile']\n",
    "cat_train = image_train[image_train['label'] == 'cat']\n",
    "dog_train = image_train[image_train['label'] == 'dog']\n",
    "bird_train = image_train[image_train['label'] == 'bird']\n",
    "training = {'automobile': automobile_train,\n",
    "            'cat': cat_train,\n",
    "            'dog': dog_train,\n",
    "            'bird': bird_train}"
   ]
  },
  {
   "cell_type": "code",
   "execution_count": null,
   "id": "db07c0da",
   "metadata": {},
   "outputs": [],
   "source": [
    "assert automobile_train.num_rows() == 509\n",
    "assert cat_train.num_rows() == 509\n",
    "assert dog_train.num_rows() == 509\n",
    "assert bird_train.num_rows() == 478\n",
    "for label in training:\n",
    "    assert training[label]['label'].unique() == label"
   ]
  },
  {
   "cell_type": "markdown",
   "id": "d4969cc1",
   "metadata": {},
   "source": [
    "### Create a nearest-neighbors model for each category"
   ]
  },
  {
   "cell_type": "code",
   "execution_count": null,
   "id": "275cbb6c",
   "metadata": {},
   "outputs": [],
   "source": [
    "automobile_model = graphlab.nearest_neighbors.create(automobile_train,\n",
    "                                                         features=['deep_features'],\n",
    "                                                         label='id')"
   ]
  },
  {
   "cell_type": "code",
   "execution_count": null,
   "id": "f971fad9",
   "metadata": {},
   "outputs": [],
   "source": [
    "models = {}\n",
    "for label, training_data in training.items():\n",
    "    models[label] =  graphlab.nearest_neighbors.create(training_data,\n",
    "                                                      features=['deep_features'],\n",
    "                                                      label='id')\n"
   ]
  },
  {
   "cell_type": "markdown",
   "id": "17426736",
   "metadata": {},
   "source": [
    "### What is the nearest 'cat' labeled image in the training data to the first cat image in the `image_test` data?"
   ]
  },
  {
   "cell_type": "code",
   "execution_count": null,
   "id": "d3253434",
   "metadata": {},
   "outputs": [],
   "source": [
    "image_test = graphlab.SFrame('image_test_data/')\n",
    "first_cat = image_test[0:1]"
   ]
  },
  {
   "cell_type": "code",
   "execution_count": null,
   "id": "4bcdba3d",
   "metadata": {},
   "outputs": [],
   "source": [
    "first_cat['image'].show()"
   ]
  },
  {
   "cell_type": "code",
   "execution_count": null,
   "id": "58f8c919",
   "metadata": {},
   "outputs": [],
   "source": [
    "cat_neighbors = models['cat'].query(first_cat)\n",
    "nearest_cat = cat_neighbors[cat_neighbors['rank'] == 1]\n",
    "print(nearest_cat)    "
   ]
  },
  {
   "cell_type": "code",
   "execution_count": null,
   "id": "e3157d9a",
   "metadata": {},
   "outputs": [],
   "source": [
    "images = get_images_from_ids(nearest_cat)\n",
    "images['image'].show()"
   ]
  },
  {
   "cell_type": "markdown",
   "id": "14dc2f9e",
   "metadata": {},
   "source": [
    "The nearest cat has reference label 16289.\n",
    "\n",
    "### What is the nearest 'dog' labeled data in the training set to the same cat image?    "
   ]
  },
  {
   "cell_type": "code",
   "execution_count": null,
   "id": "8bb026fd",
   "metadata": {},
   "outputs": [],
   "source": [
    "dog_neighbors = models['dog'].query(first_cat)\n",
    "nearest_dog = dog_neighbors[dog_neighbors['rank'] == 1]\n",
    "print(nearest_dog)"
   ]
  },
  {
   "cell_type": "code",
   "execution_count": null,
   "id": "20df38de",
   "metadata": {},
   "outputs": [],
   "source": [
    "images = get_images_from_ids(nearest_dog)\n",
    "images['image'].show()"
   ]
  },
  {
   "cell_type": "markdown",
   "id": "26d7e277",
   "metadata": {},
   "source": [
    "The nearest dog has reference label 16976.\n",
    "\n",
    "## Question 3\n",
    "### Find the mean distance for the first 5 nearest neighbors in the cat model to the cat image used above."
   ]
  },
  {
   "cell_type": "code",
   "execution_count": null,
   "id": "7479d82b",
   "metadata": {},
   "outputs": [],
   "source": [
    "cat_neighbors[:5]['distance'].mean()"
   ]
  },
  {
   "cell_type": "markdown",
   "id": "ad198a6c",
   "metadata": {},
   "source": [
    "### Now find the mean distance for the five nearest dog neighbors"
   ]
  },
  {
   "cell_type": "code",
   "execution_count": null,
   "id": "2c396f50",
   "metadata": {},
   "outputs": [],
   "source": [
    "dog_neighbors[:5]['distance'].mean()"
   ]
  },
  {
   "cell_type": "markdown",
   "id": "d5fe8a3e",
   "metadata": {},
   "source": [
    "On average the cat-neighbors are slightly closer to the first cat image than the dog-neighbors.\n",
    "\n",
    "## Question 4 (Challenge Question)\n",
    "\n",
    "### Split the image-test data into category-SFrames like you did with the traning data"
   ]
  },
  {
   "cell_type": "code",
   "execution_count": null,
   "id": "4c38bf0c",
   "metadata": {},
   "outputs": [],
   "source": [
    "testing = {label: image_test[image_test['label'] == label] for label in training}\n",
    "for label in testing:\n",
    "    assert testing[label]['label'].unique() == label"
   ]
  },
  {
   "cell_type": "markdown",
   "id": "1be21bb7",
   "metadata": {},
   "source": [
    "Using each of the testing sets, find the nearest neighbor to each of the models."
   ]
  },
  {
   "cell_type": "code",
   "execution_count": null,
   "id": "9477bdf4",
   "metadata": {},
   "outputs": [],
   "source": [
    "neighbors = {train_label: {test_label: models[train_label].query(testing[test_label], k=1) for test_label in testing} for train_label in training}    "
   ]
  },
  {
   "cell_type": "markdown",
   "id": "d0861ab6",
   "metadata": {},
   "source": [
    "This finds 1 nearest-neighbor for each of the images in each of the test-sets."
   ]
  },
  {
   "cell_type": "markdown",
   "id": "c3fd5bdc",
   "metadata": {},
   "source": [
    "### How many of the dog images in the test set are closer to a dog in the training set than to another category of image?\n",
    "\n",
    "#### Create an SFrame with the distances from the 'dog' test examples to the nearest neighbors in each of the training sets."
   ]
  },
  {
   "cell_type": "code",
   "execution_count": null,
   "id": "35d31ced",
   "metadata": {},
   "outputs": [],
   "source": [
    "neighbors['cat']['dog'].head(3)"
   ]
  },
  {
   "cell_type": "code",
   "execution_count": null,
   "id": "56a94f4e",
   "metadata": {},
   "outputs": [],
   "source": [
    "def get_distances(target='dog'):\n",
    "    \"\"\"\n",
    "    :param: \n",
    "     - `target`: the name of the label in the test-data that you want to check\n",
    "    :return: SFrame with distances between the given label and the other labels\n",
    "    \"\"\"    \n",
    "    return graphlab.SFrame({\"{0}-{1}\".format(target, label): neighbors[label][target]['distance'] for label in neighbors})"
   ]
  },
  {
   "cell_type": "code",
   "execution_count": null,
   "id": "6b194d6a",
   "metadata": {},
   "outputs": [],
   "source": [
    "dog_distances = get_distances()\n",
    "for column in dog_distances.column_names():\n",
    "    print(column, dog_distances[column].mean())"
   ]
  },
  {
   "cell_type": "markdown",
   "id": "f4f603c4",
   "metadata": {},
   "source": [
    "### Compute the number of correct predictions ('dog' label, k=1)"
   ]
  },
  {
   "cell_type": "code",
   "execution_count": null,
   "id": "e7d92106",
   "metadata": {},
   "outputs": [],
   "source": [
    "not_dog_dog =  ('dog-automobile', 'dog-cat', 'dog-bird')\n",
    "    \n",
    "def is_dog_correct(row):\n",
    "    \"\"\"\n",
    "    :param:\n",
    "     - `row`: one row in the sframe of distances\n",
    "    :return: 1 if dog-dog distance is lower than other column distances\n",
    "    \"\"\"\n",
    "    return all((row['dog-dog'] < row[label] for label in not_dog_dog))\n",
    "\n",
    "for index, row in enumerate(dog_distances):\n",
    "    if not is_dog_correct(row):\n",
    "        break\n",
    "assert any(dog_distances['dog-dog'][index] > dog_distances[label][index] for label in not_dog_dog)\n",
    "# this (index -1 ) is safe because I know the first row passes\n",
    "assert all(dog_distances['dog-dog'][index - 1] < dog_distances[label][index - 1] for label in not_dog_dog)"
   ]
  },
  {
   "cell_type": "markdown",
   "id": "4795751d",
   "metadata": {},
   "source": [
    "#### Calculate the number of rows that are correct\n",
    "(as a check, it is given that using 'cat' instead of dog would give 548 correct classifications)"
   ]
  },
  {
   "cell_type": "markdown",
   "id": "1d7e24fc",
   "metadata": {},
   "source": [
    "##### Cat-check"
   ]
  },
  {
   "cell_type": "code",
   "execution_count": null,
   "id": "72f70704",
   "metadata": {},
   "outputs": [],
   "source": [
    "cat_distances = get_distances('cat')\n",
    "others = tuple('cat-{0}'.format(label) for label in training if label != 'cat')\n",
    "def is_cat_correct(row):\n",
    "    \"\"\"\n",
    "    :param:\n",
    "     - `row`: one row in the sframe of distances\n",
    "    :return: 1 if dog-dog distance is lower than other column distances\n",
    "    \"\"\"\n",
    "    return all((row['cat-cat'] < row[label] for label in others))\n",
    "expected = 548\n",
    "cat_correct = cat_distances.apply(is_cat_correct).sum()    \n",
    "assert expected == cat_correct"
   ]
  },
  {
   "cell_type": "code",
   "execution_count": null,
   "id": "ce45c2a4",
   "metadata": {},
   "outputs": [],
   "source": [
    "print('the model had an accuracy of {0:.2f} for cat-classification.'.format(float(cat_correct)/testing['cat'].num_rows()))"
   ]
  },
  {
   "cell_type": "markdown",
   "id": "cce74598",
   "metadata": {},
   "source": [
    "##### And now the dogs"
   ]
  },
  {
   "cell_type": "code",
   "execution_count": null,
   "id": "0999b9b8",
   "metadata": {},
   "outputs": [],
   "source": [
    "correct = dog_distances.apply(is_dog_correct).sum()\n",
    "print('There were {0} correct dog classifications'.format(correct))"
   ]
  },
  {
   "cell_type": "markdown",
   "id": "1c03935e",
   "metadata": {},
   "source": [
    "### What is the accuracy for the dog classifications?"
   ]
  }
 ],
 "metadata": {},
 "nbformat": 4,
 "nbformat_minor": 5
}
