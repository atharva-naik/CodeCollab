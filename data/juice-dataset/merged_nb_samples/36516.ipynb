{
 "cells": [
  {
   "cell_type": "markdown",
   "id": "893e0b70",
   "metadata": {},
   "source": [
    "## Gaussian Mixture ##"
   ]
  },
  {
   "cell_type": "code",
   "execution_count": null,
   "id": "0657614a",
   "metadata": {},
   "outputs": [],
   "source": [
    "%matplotlib inline\n",
    "import matplotlib.pyplot as plt\n",
    "import numpy as np\n",
    "from scipy.stats import multivariate_normal as Nd"
   ]
  },
  {
   "cell_type": "code",
   "execution_count": null,
   "id": "afb1e4cf",
   "metadata": {},
   "outputs": [],
   "source": [
    "from mpl_toolkits.mplot3d import Axes3D\n",
    "from matplotlib import cm"
   ]
  },
  {
   "cell_type": "markdown",
   "id": "5f146da9",
   "metadata": {},
   "source": [
    "A Gaussian mixture is a [mixture distribution](https://en.wikipedia.org/wiki/Mixture_distribution) of $d$ normal  distributions. "
   ]
  },
  {
   "cell_type": "markdown",
   "id": "632cea7f",
   "metadata": {},
   "source": [
    "A multivariate normal distribution is defined in  `scipy.stats`  as : V=Nd(mean=m, cov=Sigma), where $m=(m[0,], m[1], \\ldots m[d-1])^T$ is the vector of means, and  $\\Sigma\\in\\mathbb{R}^{d\\times d}$, the covariance matrix."
   ]
  },
  {
   "cell_type": "markdown",
   "id": "37f1986f",
   "metadata": {},
   "source": [
    "We define a mixture of 4 bivariate normal distributions. For each bivariate distribution we set the mean vector, \n",
    "the standard deviation vector and the correlation coefficient of the corresponding random variables associated to that bivariate distribution:"
   ]
  },
  {
   "cell_type": "code",
   "execution_count": null,
   "id": "98e387c3",
   "metadata": {},
   "outputs": [],
   "source": [
    "pr=[0.2, 0.4, 0.15, 0.25]# the list of probabilities defining the Gaussian mixture\n",
    "means=np.array([[0.5, 1.], [0.9, 2.7], [2., 3.],[2.5, 2]])\n",
    "sigmas=np.array([[0.7, 0.6],   [0.7, 0.9],  [0.41, 0.23 ],[0.53, 0.35]]) # pairs of standard deviations\n",
    "rho=np.array([0.0, -0.67,-0.76,0.5])# coefficients of correlation"
   ]
  },
  {
   "cell_type": "code",
   "execution_count": null,
   "id": "d9a5967b",
   "metadata": {},
   "outputs": [],
   "source": [
    "def Covariance(m, sigma, r):# defines the covariance matrix matrix for a a normal bivariate  (X,Y)~N(m,Sigma)\n",
    "    covar= r*sigma[0]*sigma[1]\n",
    "    return np.array([[sigma[0]**2, covar], [covar, sigma[1]**2]])  \n",
    "    "
   ]
  },
  {
   "cell_type": "markdown",
   "id": "81fd6283",
   "metadata": {},
   "source": [
    "The four covariance matrices are stored in a 3D `numpy.array`, `Sigma`:"
   ]
  },
  {
   "cell_type": "code",
   "execution_count": null,
   "id": "27fb5e60",
   "metadata": {},
   "outputs": [],
   "source": [
    "Sigma=np.zeros((2,2,4), float)\n",
    "#Sigma[:,:, k] is the covariance matrix of the (k+1)^{th} bivariate normal distribution of  the mixture\n",
    "\n",
    "for k in range(4):\n",
    "    Sigma[:,:,k]=Covariance(means[k, :], sigmas[k,:], rho[k])\n",
    "    "
   ]
  },
  {
   "cell_type": "markdown",
   "id": "8a855ada",
   "metadata": {},
   "source": [
    "`mixtureDensity` defines the probability density function of the Gaussian mixture:"
   ]
  },
  {
   "cell_type": "code",
   "execution_count": null,
   "id": "c1304337",
   "metadata": {},
   "outputs": [],
   "source": [
    "def mixtureDensity(x,y, pr, means, Sigma):\n",
    "    pos=np.empty(x.shape + (2,))# if  x.shape is (m,n) then  pos.shape is (m,n,2)\n",
    "    pos[:, :, 0] = x; pos[:, :, 1] = y \n",
    "    z=np.zeros(x.shape)\n",
    "    for k in range(4) :\n",
    "        z=z+pr[k]*Nd.pdf(pos, mean=means[k,:], cov=Sigma[:,:, k])\n",
    "    return z     "
   ]
  },
  {
   "cell_type": "markdown",
   "id": "d2ed06cc",
   "metadata": {},
   "source": [
    "The 3D `numpy.array`, pos, is defined in concordance to the  definition in `scipy.stats` of a \n",
    "[multivariate normal distribution](http://docs.scipy.org/doc/scipy-dev/reference/generated/scipy.stats.multivariate_normal.html). "
   ]
  },
  {
   "cell_type": "markdown",
   "id": "c0fd9eb6",
   "metadata": {},
   "source": [
    "### Matplotlib plot of the Gaussian mixture probability density function ###"
   ]
  },
  {
   "cell_type": "code",
   "execution_count": null,
   "id": "c60a59a2",
   "metadata": {},
   "outputs": [],
   "source": [
    "plt.rcParams['figure.figsize'] = (10.0, 6.0)"
   ]
  },
  {
   "cell_type": "markdown",
   "id": "45aaf04f",
   "metadata": {},
   "source": [
    "We define a custom colormap to plot the mixture's pdf:"
   ]
  },
  {
   "cell_type": "code",
   "execution_count": null,
   "id": "4bd4e81c",
   "metadata": {},
   "outputs": [],
   "source": [
    "xx=np.linspace(-1, 4, 100)\n",
    "yy=np.linspace(0, 4.5, 100)\n",
    "x,y=np.meshgrid(xx,yy)\n",
    "z=mixtureDensity(x, y, pr,  means, Sigma)\n",
    "\n",
    "fig=plt.figure()\n",
    "ax = fig.add_subplot(111, projection='3d')\n",
    "ax.set_xlabel('x')\n",
    "ax.set_ylabel('y')\n",
    "ax.set_title('Probability density function of the Gaussian Mixture')\n",
    "ax.view_init(elev=35, azim=-90)\n",
    "ax.plot_surface(x, y, z, rstride=1, cstride=1, cmap=cm.RdBu,\n",
    "        linewidth=0, antialiased=False)"
   ]
  },
  {
   "cell_type": "markdown",
   "id": "b51706e5",
   "metadata": {},
   "source": [
    "### Plotly plot of the probability density function of the Gaussian mixture ###"
   ]
  },
  {
   "cell_type": "markdown",
   "id": "8faa2e5e",
   "metadata": {},
   "source": [
    "To see this surface from different points of view we generate an interactive \n",
    "   Plotly plot:"
   ]
  },
  {
   "cell_type": "code",
   "execution_count": null,
   "id": "aefc323e",
   "metadata": {},
   "outputs": [],
   "source": [
    "mountain_cs=[[0.0, '#32924c'], # a custom colorscale \n",
    " [0.1, '#52a157'],\n",
    " [0.2, '#74b162'],\n",
    " [0.3, '#94c06d'],\n",
    " [0.4, '#b6d079'],\n",
    " [0.5, '#d7de84'],\n",
    " [0.6, '#c9c370'],\n",
    " [0.7, '#bba65b'],\n",
    " [0.8, '#ad8a47'],\n",
    " [0.9, '#9f6d32'],\n",
    " [1.0, '#91511e']]"
   ]
  },
  {
   "cell_type": "code",
   "execution_count": null,
   "id": "eb00be9e",
   "metadata": {},
   "outputs": [],
   "source": [
    "import plotly.plotly as py\n",
    "from plotly.graph_objs import *"
   ]
  },
  {
   "cell_type": "code",
   "execution_count": null,
   "id": "e728da4f",
   "metadata": {},
   "outputs": [],
   "source": [
    "trace1= Surface(\n",
    "       z=z,\n",
    "       x=x,\n",
    "       y=y, \n",
    "       colorscale=mountain_cs\n",
    "    )"
   ]
  },
  {
   "cell_type": "code",
   "execution_count": null,
   "id": "69ad4054",
   "metadata": {},
   "outputs": [],
   "source": [
    "axis = dict(\n",
    "showbackground=True, \n",
    "backgroundcolor=\"rgb(230, 230,230)\",\n",
    "gridcolor=\"rgb(255, 255, 255)\",      \n",
    "zerolinecolor=\"rgb(255, 255, 255)\",  \n",
    "    )\n",
    "\n",
    "layout = Layout(\n",
    "         title=\"\" , \n",
    "         autosize=False,\n",
    "         width=600,\n",
    "         height=500,\n",
    "         scene=Scene(  \n",
    "             xaxis=XAxis(axis),\n",
    "             yaxis=YAxis(axis),\n",
    "             zaxis=ZAxis(axis), \n",
    "            )\n",
    "        )\n",
    "\n",
    "fig = Figure(data=[trace1], layout=layout)\n",
    "py.sign_in('empet', 'my_api_key')\n",
    "py.plot(fig, filename='Gaussian-Mixture-P-Distrib', world_readable=True)"
   ]
  },
  {
   "cell_type": "markdown",
   "id": "747e3ebf",
   "metadata": {},
   "source": [
    "### Contour plot and a cloud of points as a sample from the Gaussian mixture ###"
   ]
  }
 ],
 "metadata": {},
 "nbformat": 4,
 "nbformat_minor": 5
}
