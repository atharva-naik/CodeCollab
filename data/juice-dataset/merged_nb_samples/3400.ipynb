{
 "cells": [
  {
   "cell_type": "markdown",
   "id": "c27aefa3",
   "metadata": {},
   "source": [
    "# Titanic Data\n",
    "\n",
    "## What factors meant that people were more likely to survive? \n",
    "\n",
    "It is relatively well known that a higher percentage of women passengers survived, but are there other factors, such as class, or age, that were also important in the likelyhood that a passenger would survive?\n",
    "\n",
    "Below is an exploration of the passenger information provided, from 891 of the 2224 passengers and crew onboard the Titanic."
   ]
  },
  {
   "cell_type": "code",
   "execution_count": null,
   "id": "eefc1125",
   "metadata": {},
   "outputs": [],
   "source": [
    "# Importing necessary libraries and reading in the csv file\n",
    "import pandas as pd\n",
    "import numpy as np\n",
    "\n",
    "titanic_data = pd.read_csv('titanic-data.csv')\n",
    "\n",
    "titanic_data.head()  # to get an idea of the data included in the file"
   ]
  },
  {
   "cell_type": "markdown",
   "id": "2e0906c3",
   "metadata": {},
   "source": [
    "### Male versus female survival rates\n",
    "\n",
    "First I will explore the effect of gender on survival rates, using the .groupby function to group by gender."
   ]
  },
  {
   "cell_type": "code",
   "execution_count": null,
   "id": "e28bc22a",
   "metadata": {},
   "outputs": [],
   "source": [
    "#using .count to find out how many males and female in the data set, and to get an idea about the completeness of the data.\n",
    "\n",
    "titanic_grouped_by_sex = titanic_data.groupby('Sex')\n",
    "\n",
    "titanic_grouped_by_sex.count()  "
   ]
  },
  {
   "cell_type": "markdown",
   "id": "5e38b5f6",
   "metadata": {},
   "source": [
    "Looking at the above table it seems that out of the 891 passengers in the dataset, 314 were female and 577 male. Most columns of the dataset are complete, except some ages are unknown, most of the cabins of the passengers are unknown, and there are two missing values for the port at which two female passengers embarked.\n",
    "\n",
    "The 'Survived' column is made up of '1' or '0' depending upon whether the passenger survived or not. By adding up the values in this column, the number of passengers that survived can be found."
   ]
  },
  {
   "cell_type": "code",
   "execution_count": null,
   "id": "5891e8f5",
   "metadata": {},
   "outputs": [],
   "source": [
    "titanic_m_f_survivors = titanic_data.groupby('Sex')['Survived'].sum()\n",
    "\n",
    "titanic_m_f_survivors"
   ]
  },
  {
   "cell_type": "code",
   "execution_count": null,
   "id": "0fcd13e7",
   "metadata": {},
   "outputs": [],
   "source": [
    "percentage_m_f_survivors = (titanic_m_f_survivors.div(titanic_grouped_by_sex['PassengerId'].count()))*100\n",
    "\n",
    "percentage_m_f_survivors"
   ]
  },
  {
   "cell_type": "markdown",
   "id": "77afb417",
   "metadata": {},
   "source": [
    "Out of the dataset provided, there were a total of 342 survivors, giving a survival rate of just over 38 %. Of these, 233 were female passengers, accounting for approximately 74 % of the female passengers onboard the ship, whilst only 109 were male passengers, accounting for just under 19 % of the male passengers onboard. \n",
    "\n",
    "Put another way, although male passengers made up nearly 65 % of the total passengers onboard the Titanic, just under 32 % of the survivors were male."
   ]
  },
  {
   "cell_type": "markdown",
   "id": "e4ba7476",
   "metadata": {},
   "source": [
    "### Did ticket class affect a passenger's survival rate?\n",
    "\n",
    "I was interested to know more about this data set, specifically, within the male and female survivor groups, how did the demographic vary in terms of ticket class."
   ]
  },
  {
   "cell_type": "code",
   "execution_count": null,
   "id": "f74bbf81",
   "metadata": {},
   "outputs": [],
   "source": [
    "# First I looked at the class breakdown of all passengers onboard, grouped by male and female\n",
    "titanic_classes_numbers = titanic_data.groupby(['Sex', 'Pclass'])['PassengerId'].count()\n",
    "print (titanic_classes_numbers)\n",
    "\n",
    "titantic_classes_percent = (titanic_classes_numbers.div(titanic_grouped_by_sex['PassengerId'].count()))*100\n",
    "titantic_classes_percent"
   ]
  },
  {
   "cell_type": "code",
   "execution_count": null,
   "id": "53c965a1",
   "metadata": {},
   "outputs": [],
   "source": [
    "# I then looked at the class breakdown of the survivors, grouped by male and female\n",
    "titanic_classes_numbers_survived = titanic_data.groupby(['Sex', 'Pclass'])['Survived'].sum()\n",
    "print (titanic_classes_numbers_survived)\n",
    "\n",
    "titantic_classes_percent_survived = (titanic_classes_numbers_survived.div(titanic_m_f_survivors))*100\n",
    "titantic_classes_percent_survived"
   ]
  },
  {
   "cell_type": "markdown",
   "id": "c43ce72c",
   "metadata": {},
   "source": [
    "In both the male and females groups, a higher proportion of first class passengers were saved, compared to the proportion of first class passengers onboard. Interestingly, 45 out of the 109 male survivors were travelling in first class, 41 % of the male survivors, even though only 21 % of male passengers were travelling in this class.\n",
    "\n",
    "The differences between total number of passengers and the number of survivors from each class can be more easily communicated using a visualisation."
   ]
  },
  {
   "cell_type": "code",
   "execution_count": null,
   "id": "ec79b9dc",
   "metadata": {},
   "outputs": [],
   "source": [
    "import matplotlib.pyplot as plt\n",
    "import seaborn as sns\n",
    "\n",
    "%matplotlib inline"
   ]
  },
  {
   "cell_type": "code",
   "execution_count": null,
   "id": "3d2b55eb",
   "metadata": {},
   "outputs": [],
   "source": [
    "#function to define style of pie chart subplots\n",
    "def plot_subplot(data):\n",
    "    return plt.pie(data, colors=['navy', 'powderblue', 'darkturquoise'], labels=['first', 'second', 'third'], labeldistance=1.1, startangle=90, counterclock=False)"
   ]
  },
  {
   "cell_type": "code",
   "execution_count": null,
   "id": "98999a65",
   "metadata": {},
   "outputs": [],
   "source": [
    "plt.figure(figsize=(8, 8))\n",
    "plt.subplot(221, title='Ticket classes of the \\n female passengers on board', aspect=1)\n",
    "plot_subplot(titantic_classes_percent['female'])\n",
    "\n",
    "plt.subplot(222, title='Ticket classes of the \\n male passengers on board', aspect=1)\n",
    "plot_subplot(titantic_classes_percent['male'])\n",
    "\n",
    "plt.subplot(223, title='Ticket classes of the \\n female passengers that survived', aspect=1)\n",
    "plot_subplot(titantic_classes_percent_survived['female'])\n",
    "\n",
    "plt.subplot(224, title='Ticket classes of the \\n male passengers that survived', aspect=1)\n",
    "plot_subplot(titantic_classes_percent_survived['male'])"
   ]
  },
  {
   "cell_type": "markdown",
   "id": "d3c447c9",
   "metadata": {},
   "source": [
    "By comparing the visualisations above, it can be seen that although the largest proprotion of passengers in both the male and female groups were travelling in third class, this proportion shrinks when compared to the ticket class of the survivors. Those that travelled in first class made up a far higher percentage of the survivors then would be reflected by the proportion of first class passengers."
   ]
  },
  {
   "cell_type": "markdown",
   "id": "3fa5c149",
   "metadata": {},
   "source": [
    "### Did age affect a passenger's survival rate?\n",
    "Continuing to explore the data, I studied whether the age of a passenger reflected how likely the passenger was to survive."
   ]
  },
  {
   "cell_type": "code",
   "execution_count": null,
   "id": "4437c822",
   "metadata": {},
   "outputs": [],
   "source": [
    "#using the .describe function to get a general idea about the data\n",
    "titanic_ages = titanic_data.groupby(['Sex', 'Survived'])['Age']\n",
    "\n",
    "titanic_ages.describe()"
   ]
  },
  {
   "cell_type": "markdown",
   "id": "0b0697c5",
   "metadata": {},
   "source": [
    "Looking at the data shown above, it seems that the mean and quartile ranges do not vary significantly between those that survived and those that did not. The standard deviation of each dataset is relatively large at between 13.6 and 16.5. \n",
    "\n",
    "To futher check for any relationships between survival and age, I plotted the data in the form of a number of histograms to help visualise the age distribution of the passengers."
   ]
  },
  {
   "cell_type": "code",
   "execution_count": null,
   "id": "3e8a172f",
   "metadata": {},
   "outputs": [],
   "source": [
    "#creating histograms to look at the distribution of ages amongst all on board the Titanic and also amongst\n",
    "#those that survived and those that did not.\n",
    "#Data is first cleaned using .dropna() to remove any NaN values.\n",
    "\n",
    "titanic_data['Age'].dropna().hist(bins=16, range=(0,80));\n",
    "plt.title('Age demographic of passengers onboard the Titanic')\n",
    "titanic_data['Age'].dropna().hist(by=titanic_data['Survived'], bins=16, range=(0,80))\n",
    "plt.suptitle('Age demographic amongst non-survivors (graph 0) \\n and survivors (graph 1) of the Titanic disaster', y=1.05)"
   ]
  },
  {
   "cell_type": "markdown",
   "id": "76718541",
   "metadata": {},
   "source": [
    "Comparing the graphs above it can be seen that for those aged under 10, more passengers survived than did not, something which is not true for any other age group. Other than this, both the graphs for those that survived and those that did not show a similar distribution of ages to the general population of passengers aboard the ship. \n",
    "\n",
    "To investigate further the survival rates of the children onboard the titanic, I was interested in looking further into the data to explore if those with parents or siblings on board (identified in the dataset by 'Parch' > 0) were more likely to survive.\n",
    "\n",
    "### Did the number of siblings and parents a passenger had onboard affect the likelyhood of survival?\n",
    "\n",
    "Below I have grouped the data by 'Parch' to explore this question."
   ]
  },
  {
   "cell_type": "code",
   "execution_count": null,
   "id": "146e78c6",
   "metadata": {},
   "outputs": [],
   "source": [
    "#first looking at the number of entries in the dataset with Parch > 0\n",
    "titanic_grouped_by_parch = titanic_data.groupby('Parch')['PassengerId'].count()\n",
    "\n",
    "titanic_grouped_by_parch"
   ]
  },
  {
   "cell_type": "markdown",
   "id": "2283aa62",
   "metadata": {},
   "source": [
    "There were a total of 213 passengers onboard that also had at least one parent and/or sibling onboard."
   ]
  }
 ],
 "metadata": {},
 "nbformat": 4,
 "nbformat_minor": 5
}
