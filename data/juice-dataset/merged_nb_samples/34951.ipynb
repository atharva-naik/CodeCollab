{
 "cells": [
  {
   "cell_type": "markdown",
   "id": "d671070e",
   "metadata": {},
   "source": [
    "# Project 1: Deaths by tuberculosis \n",
    "\n",
    "## North Africa (2016)\n",
    "\n",
    "### (Mohamed Adjal)"
   ]
  },
  {
   "cell_type": "code",
   "execution_count": null,
   "id": "cf655cd3",
   "metadata": {},
   "outputs": [],
   "source": [
    "import warnings\n",
    "warnings.simplefilter('ignore', FutureWarning)"
   ]
  },
  {
   "cell_type": "code",
   "execution_count": null,
   "id": "a3ca69c9",
   "metadata": {},
   "outputs": [],
   "source": [
    "from pandas import *\n",
    "data = read_excel('TB_North_Africa_2016.xls')\n",
    "data"
   ]
  },
  {
   "cell_type": "code",
   "execution_count": null,
   "id": "102ae4c9",
   "metadata": {},
   "outputs": [],
   "source": [
    "tbCol = data['TB deaths']"
   ]
  },
  {
   "cell_type": "markdown",
   "id": "c4bcfc37",
   "metadata": {},
   "source": [
    "The total number of deaths in 2016 is:"
   ]
  },
  {
   "cell_type": "code",
   "execution_count": null,
   "id": "ab6f5364",
   "metadata": {},
   "outputs": [],
   "source": [
    "tbCol.sum()"
   ]
  },
  {
   "cell_type": "markdown",
   "id": "01589e75",
   "metadata": {},
   "source": [
    "The largest and smallest number of deaths in a single country are:"
   ]
  },
  {
   "cell_type": "code",
   "execution_count": null,
   "id": "30c23604",
   "metadata": {},
   "outputs": [],
   "source": [
    "tbCol.max()"
   ]
  },
  {
   "cell_type": "code",
   "execution_count": null,
   "id": "480f4333",
   "metadata": {},
   "outputs": [],
   "source": [
    "tbCol.min()"
   ]
  },
  {
   "cell_type": "markdown",
   "id": "c5137f7e",
   "metadata": {},
   "source": [
    "The average number of deaths, over all countries in the data."
   ]
  },
  {
   "cell_type": "code",
   "execution_count": null,
   "id": "a0f90070",
   "metadata": {},
   "outputs": [],
   "source": [
    "tbCol.mean()"
   ]
  },
  {
   "cell_type": "code",
   "execution_count": null,
   "id": "35255536",
   "metadata": {},
   "outputs": [],
   "source": [
    "tbCol.median()"
   ]
  },
  {
   "cell_type": "markdown",
   "id": "7eedbbc3",
   "metadata": {},
   "source": [
    "The mean is almost double than the median. This indicates that some of the countries had a very high number of TB deaths in 2016."
   ]
  },
  {
   "cell_type": "markdown",
   "id": "4fa042bd",
   "metadata": {},
   "source": [
    "# The most affected"
   ]
  }
 ],
 "metadata": {},
 "nbformat": 4,
 "nbformat_minor": 5
}
