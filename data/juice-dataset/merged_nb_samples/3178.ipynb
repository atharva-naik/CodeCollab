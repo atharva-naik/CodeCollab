{
 "cells": [
  {
   "cell_type": "markdown",
   "id": "69d188ca",
   "metadata": {},
   "source": [
    "# Exercise: Cherry Blossoms!\n",
    "\n",
    "#### Summary\n",
    "\n",
    "Once upon a time it was サクラ season, which meant the [cherry blossoms](https://en.wikipedia.org/wiki/Cherry_blossom) were in full bloom! This year they bloomed a little early and they've long sinced faded, so for today we'll stick with data-driven blossoms: http://atmenv.envi.osakafu-u.ac.jp/aono/kyophenotemp4/\n",
    "\n",
    "#### Data Source(s)\n",
    "\n",
    "Historical Series of Phenological data for Cherry Tree Flowering at Kyoto City\n",
    "(and March Mean Temperature Reconstructions), http://atmenv.envi.osakafu-u.ac.jp/aono/kyophenotemp4/\n",
    "\n",
    "#### Files\n",
    "\n",
    "- KyotoFullFlower7.xls, \"Full-flowering Dates of Prunus jamasakura in Kyoto City\"\n",
    "\n",
    "#### Skills\n",
    "\n",
    "- Working with Excel files\n",
    "- Ignoring the first few rows\n",
    "- Replacing NaN values\n",
    "- Counting and summarizing columns\n",
    "- Replacing non-NaN values\n",
    "- Extracting with strings\n",
    "- Rolling means"
   ]
  },
  {
   "cell_type": "markdown",
   "id": "5dd3212d",
   "metadata": {},
   "source": [
    "# Read in `KyotoFullFlower7.xls`\n",
    "\n",
    "Be sure to look at the first five rows."
   ]
  },
  {
   "cell_type": "code",
   "execution_count": null,
   "id": "34386b35",
   "metadata": {},
   "outputs": [],
   "source": [
    "import xlrd\n",
    "import pandas as pd\n",
    "df = pd.read_excel('KyotoFullFlower7.xls',skiprows = 25)\n",
    "df.head(5)"
   ]
  },
  {
   "cell_type": "markdown",
   "id": "44742cf8",
   "metadata": {},
   "source": [
    "### That... doesn't look right. Why not? \n",
    "\n",
    "Examine your column names, and maybe even open up the file in Excel."
   ]
  },
  {
   "cell_type": "markdown",
   "id": "1ee21c65",
   "metadata": {},
   "source": [
    "### Read in the file correctly, and look at the first five rows\n",
    "\n",
    "- TIP: The first year should be 801 AD, and it should not have any dates or anything."
   ]
  },
  {
   "cell_type": "markdown",
   "id": "775601f3",
   "metadata": {},
   "source": [
    "### Look at the final five rows of the data"
   ]
  },
  {
   "cell_type": "code",
   "execution_count": null,
   "id": "378c1f7b",
   "metadata": {},
   "outputs": [],
   "source": [
    "df.tail(5)"
   ]
  },
  {
   "cell_type": "markdown",
   "id": "f4b988aa",
   "metadata": {},
   "source": [
    "## Watching out for NaN values"
   ]
  },
  {
   "cell_type": "markdown",
   "id": "c5229f36",
   "metadata": {},
   "source": [
    "Take a look at **Reference name**. Is there something you should set to be `NaN`? Use either of the two ways we have covered."
   ]
  },
  {
   "cell_type": "code",
   "execution_count": null,
   "id": "f439d120",
   "metadata": {},
   "outputs": [],
   "source": [
    "import numpy as np\n",
    "df['Reference Name'].replace('-',np.nan, inplace = True)\n",
    "df.head()"
   ]
  },
  {
   "cell_type": "markdown",
   "id": "30c7441f",
   "metadata": {},
   "source": [
    "### Check that you have 827 values for \"Full-flowering date (DOY)\" and 825 for \"Reference Name\""
   ]
  },
  {
   "cell_type": "code",
   "execution_count": null,
   "id": "94f88667",
   "metadata": {},
   "outputs": [],
   "source": [
    "df['Full-flowering date'].count()"
   ]
  },
  {
   "cell_type": "code",
   "execution_count": null,
   "id": "376d80f9",
   "metadata": {},
   "outputs": [],
   "source": [
    "df['Reference Name'].count()"
   ]
  },
  {
   "cell_type": "markdown",
   "id": "b3a7630a",
   "metadata": {},
   "source": [
    "# Cleaning up our data"
   ]
  },
  {
   "cell_type": "markdown",
   "id": "d9124b85",
   "metadata": {},
   "source": [
    "## What sources are the most common as a reference?"
   ]
  },
  {
   "cell_type": "code",
   "execution_count": null,
   "id": "be614d60",
   "metadata": {},
   "outputs": [],
   "source": [
    "df['Reference Name'].value_counts()"
   ]
  },
  {
   "cell_type": "markdown",
   "id": "051792db",
   "metadata": {},
   "source": [
    "## Filter the list to only include rows that have a `Full-flowering date (DOY)`"
   ]
  },
  {
   "cell_type": "code",
   "execution_count": null,
   "id": "d2cef8e4",
   "metadata": {},
   "outputs": [],
   "source": [
    "df[df['Full-flowering date (DOY)'].notnull()]['Reference Name'].value_counts()\n"
   ]
  },
  {
   "cell_type": "markdown",
   "id": "8056bcf6",
   "metadata": {},
   "source": [
    "## Make a histogram of the full-flowering date."
   ]
  },
  {
   "cell_type": "code",
   "execution_count": null,
   "id": "cd091b29",
   "metadata": {},
   "outputs": [],
   "source": [
    "import matplotlib.pyplot as plt\n",
    "%matplotlib inline\n",
    "\n",
    "df['Full-flowering date (DOY)'].hist()\n"
   ]
  },
  {
   "cell_type": "markdown",
   "id": "2252a434",
   "metadata": {},
   "source": [
    "## Make another histogram of the full-flowering date, but with 39 bins instead of 10"
   ]
  },
  {
   "cell_type": "code",
   "execution_count": null,
   "id": "e1eb05e4",
   "metadata": {},
   "outputs": [],
   "source": [
    "df['Full-flowering date (DOY)'].hist(bins=39)"
   ]
  },
  {
   "cell_type": "markdown",
   "id": "00fa9b18",
   "metadata": {},
   "source": [
    "## What's the average number of days it takes for the flowers to blossom? The max? Min? And how many records do we have?\n",
    "\n",
    "Answer these with one line of code."
   ]
  },
  {
   "cell_type": "code",
   "execution_count": null,
   "id": "7f0b8a64",
   "metadata": {},
   "outputs": [],
   "source": [
    "df['Full-flowering date (DOY)'].describe()"
   ]
  },
  {
   "cell_type": "markdown",
   "id": "f252da5b",
   "metadata": {},
   "source": [
    "## What's the average number of days into the year cherry flowers normally blossomed before 1900?"
   ]
  },
  {
   "cell_type": "code",
   "execution_count": null,
   "id": "bf8ac14c",
   "metadata": {},
   "outputs": [],
   "source": [
    "df[df['AD']<1900]['Full-flowering date (DOY)'].mean()"
   ]
  },
  {
   "cell_type": "markdown",
   "id": "bab9e6ec",
   "metadata": {},
   "source": [
    "## How about after 1900?"
   ]
  },
  {
   "cell_type": "code",
   "execution_count": null,
   "id": "f521b3b1",
   "metadata": {},
   "outputs": [],
   "source": [
    "df[df['AD']>1900]['Full-flowering date (DOY)'].mean()"
   ]
  },
  {
   "cell_type": "markdown",
   "id": "e0ca2a75",
   "metadata": {},
   "source": [
    "## How many times was our data from a title in Japanese poetry?\n",
    "\n",
    "You'll need to read the documentation inside of the Excel file."
   ]
  },
  {
   "cell_type": "code",
   "execution_count": null,
   "id": "789397f4",
   "metadata": {},
   "outputs": [],
   "source": [
    "len(df[df['Data type code'] == 4])"
   ]
  },
  {
   "cell_type": "markdown",
   "id": "f5860f63",
   "metadata": {},
   "source": [
    "## Actually, that looks terrible. Replace the \"Source code\" and \"data type code\" columns with the values they stand for."
   ]
  },
  {
   "cell_type": "code",
   "execution_count": null,
   "id": "1a2f82fd",
   "metadata": {},
   "outputs": [],
   "source": [
    "Source_code = { 1: \"Reported by Taguchi (1939), J. Marine Meteorol. Soc. (Umi to Sora), 19, 217-227\",\n",
    " 2: \"Added by Sekiguchi (1969), Tokyo Geography Papers, 13, 175-190.\",\n",
    " 3: \"Added by Aono and Omoto (1994), J. Agric. Meteorol., 49, 263-272.\",\n",
    " 4: \"Added by Aono and Kazui (2008), Int. J. Climatol., 28, 905-914 (doi: 10.1002/joc.1594).\",\n",
    " 5: \"Cherry phenological data, Added by Aono and Saito (2010), Int. J. Biometeorol., 54, 211-219.\",\n",
    " 6: \"Added by Aono (2011), Time Studies, 4, 17-29. (in Japanese with English abstract)\",\n",
    " 7: \"Added by Aono (2012), Chikyu Kankyo, 17, 21-29. (in Japanese)\",\n",
    " 8: \"Found after the last publication of articles.\"}\n",
    "\n",
    "data_types = {\n",
    "    0: \"modern times (full-bloom date since 1880s)\",\n",
    "    1: \"diary description about full-bloom\",\n",
    "    2: \"diary description about cherry blossom viewing party\",\n",
    "    3: \"diary description about presents of cherry twigs from party participants\",\n",
    "    4: \"title in Japanese poety\",\n",
    "    8: \"Deduced from wisteria phenology, using the relation proposed by Aono and Saito (2010)\",\n",
    "    9: \"Deduced from Japanese kerria phenology, using the relation proposed by Aono (2011)\"\n",
    "}\n",
    "\n",
    "df['Source code'].replace(Source_code, inplace = True)\n",
    "df['Data type code'].replace(data_types, inplace = True)\n",
    "df.tail()"
   ]
  },
  {
   "cell_type": "markdown",
   "id": "d67c539c",
   "metadata": {},
   "source": [
    "## Show only the years where our data was from a title in Japanese poetry"
   ]
  },
  {
   "cell_type": "code",
   "execution_count": null,
   "id": "bbe3fc3d",
   "metadata": {},
   "outputs": [],
   "source": [
    "df[df['Data type code'] == 'title in Japanese poety']"
   ]
  },
  {
   "cell_type": "code",
   "execution_count": null,
   "id": "96199f84",
   "metadata": {},
   "outputs": [],
   "source": [
    "df['Data type code'].value_counts()"
   ]
  },
  {
   "cell_type": "markdown",
   "id": "7008ce41",
   "metadata": {},
   "source": [
    "## Graph the full-flowering date (DOY) over time"
   ]
  },
  {
   "cell_type": "code",
   "execution_count": null,
   "id": "95a7f8c4",
   "metadata": {},
   "outputs": [],
   "source": [
    "df.plot(x = 'AD', y = 'Full-flowering date (DOY)')"
   ]
  },
  {
   "cell_type": "markdown",
   "id": "3931916f",
   "metadata": {},
   "source": [
    "## 15. Smooth out the graph\n",
    "\n",
    "It's so jagged! You can use `df.rolling` to calculate a rolling average.\n",
    "\n",
    "The following code calculates a **10-year mean**, using the `AD` column as the anchor. If there aren't 20 samples to work with in a row, it'll accept down to 5. Neat, right?\n",
    "\n",
    "(We're only looking at the final 5)"
   ]
  },
  {
   "cell_type": "code",
   "execution_count": null,
   "id": "d252dedf",
   "metadata": {},
   "outputs": [],
   "source": [
    "df.rolling(10, on='AD', min_periods=5).mean().tail()\n",
    "# If this gives you an error you're using an old pandas version,\n",
    "# so you can use df.set_index('AD').rolling(10, min_periods=5).mean().reset_index().tail()\n",
    "# instead"
   ]
  },
  {
   "cell_type": "markdown",
   "id": "270c4ca2",
   "metadata": {},
   "source": [
    "Adjust the code above to compute **and graph** a 20-year rolling average for the entire dataset."
   ]
  },
  {
   "cell_type": "code",
   "execution_count": null,
   "id": "e2bdcdd3",
   "metadata": {},
   "outputs": [],
   "source": [
    "df.rolling(20, on='AD', min_periods=5).mean().plot(x = 'AD',y = 'Full-flowering date (DOY)')"
   ]
  },
  {
   "cell_type": "markdown",
   "id": "9e5dfa15",
   "metadata": {},
   "source": [
    "# Adding a month column\n",
    "\n",
    "### HOLD ON, time to learn something\n",
    "\n",
    "**There are a few ways to do the next question**, but a couple popular methods will have pandas yell at you. You might want to try this new thing called `loc`! **It is used to update a column in a row based on a condition.**\n",
    "\n",
    "```\n",
    "df.loc[df.country == 'Angola', \"continent\"] = \"Africa\"\n",
    "```\n",
    "\n",
    "This updates the `continent` column to be `Africa` for every row where `df.country == 'Angola'`. You CANNOT do the following, which is probably what you've wanted to do:\n",
    "\n",
    "```\n",
    "df[df.country == 'Angola']['continent'] = 'Africa'\n",
    "```\n",
    "\n",
    "And now you know.\n",
    "\n",
    "### Actually adding our column\n",
    "\n",
    "Right now the \"Full-flowering date\" column is pretty rough. It uses numbers like '402' to mean \"April 2nd\" and \"416\" to mean \"April 16th.\" Let's make a column to explain what month it happened in.\n",
    "\n",
    "* Every row that happened in April should have 'April' in the `month` column.\n",
    "* Every row that happened in March should have 'March' as the `month` column.\n",
    "* Every row that happened in May should have 'May' as the `month` column."
   ]
  },
  {
   "cell_type": "code",
   "execution_count": null,
   "id": "1927ec7f",
   "metadata": {},
   "outputs": [],
   "source": [
    "df['month'] = df['Full-flowering date'].astype(str).str.extract('(\\d\\d?)(\\d{2}).\\d')[0]\n",
    "df.loc[df.month == '3', 'month'] = \"March\"\n",
    "df.loc[df.month == '4', 'month'] = \"April\"\n",
    "df.loc[df.month == '5', 'month'] = \"May\""
   ]
  },
  {
   "cell_type": "markdown",
   "id": "6bb73438",
   "metadata": {},
   "source": [
    "### Using your new column, how many blossomings happened in each month?"
   ]
  },
  {
   "cell_type": "code",
   "execution_count": null,
   "id": "ad603249",
   "metadata": {},
   "outputs": [],
   "source": [
    "df.tail()"
   ]
  },
  {
   "cell_type": "markdown",
   "id": "13a4a203",
   "metadata": {},
   "source": [
    "### Graph how many blossomings happened in each month."
   ]
  },
  {
   "cell_type": "code",
   "execution_count": null,
   "id": "a2046a5a",
   "metadata": {},
   "outputs": [],
   "source": [
    "df['month'].value_counts()"
   ]
  },
  {
   "cell_type": "markdown",
   "id": "a1a33c63",
   "metadata": {},
   "source": [
    "## 19. Adding a day-of-month column\n",
    "\n",
    "Now we're going to add a new column called **day-of-month** based on the full-flowering date.\n",
    "\n",
    "- 402 means \"April 2\"\n",
    "- 312 means \"March 12\"\n",
    "- 511 means \"May 11\"\n",
    "\n",
    "**We're only interested in the second part**. Previously I've had students convert them to integers to do this, but you know regular expressions!\n",
    "\n",
    "- Tip: You won't be able to extract anything from a float, you'll need it to be a string\n",
    "- Tip: There are two things that mean \"talk about this column as a string,\" maybe you want me to talk about them?"
   ]
  },
  {
   "cell_type": "code",
   "execution_count": null,
   "id": "102d69e5",
   "metadata": {},
   "outputs": [],
   "source": [
    "df['day-of-month'] = df['Full-flowering date'].astype(str).str.extract('(\\d\\d?)(\\d{2}).\\d')[1]\n",
    "df.tail()"
   ]
  },
  {
   "cell_type": "markdown",
   "id": "d20074d6",
   "metadata": {},
   "source": [
    "Now that you've successfully extracted the last two letters, save them into a new column called `'day-of-month'`"
   ]
  },
  {
   "cell_type": "markdown",
   "id": "84889a84",
   "metadata": {},
   "source": [
    "### 20. Adding a date column\n",
    "\n",
    "Now take the `'month'` and `'day-of-month'` columns and combine them in order to create a new column called `'date'`. If should look like \"April 09\"."
   ]
  }
 ],
 "metadata": {},
 "nbformat": 4,
 "nbformat_minor": 5
}
