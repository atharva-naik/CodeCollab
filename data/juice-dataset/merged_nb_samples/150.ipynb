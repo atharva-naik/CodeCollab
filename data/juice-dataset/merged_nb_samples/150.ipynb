{
 "cells": [
  {
   "cell_type": "markdown",
   "id": "2a99cd5b",
   "metadata": {},
   "source": [
    "# Data Analysis Programming --- Assignment 2\n",
    "## NYC Restaurants\n",
    "                                         Tiffany Sung (from Group 3)"
   ]
  },
  {
   "cell_type": "markdown",
   "id": "7c328647",
   "metadata": {},
   "source": [
    "### Setup"
   ]
  },
  {
   "cell_type": "code",
   "execution_count": null,
   "id": "9682527f",
   "metadata": {},
   "outputs": [],
   "source": [
    "from pandas import Series, DataFrame\n",
    "import pandas as pd\n",
    "%pylab inline\n",
    "df = pd.read_csv('NYC_Restaurants.csv', dtype=unicode)"
   ]
  },
  {
   "cell_type": "markdown",
   "id": "470cba7b",
   "metadata": {},
   "source": [
    "### (Q1)"
   ]
  },
  {
   "cell_type": "code",
   "execution_count": null,
   "id": "f65fd8bb",
   "metadata": {},
   "outputs": [],
   "source": [
    "df['RESTAURANT'] = df['DBA']+' '+df['BUILDING']+' '+df['STREET']+' '+df['ZIPCODE']\n",
    "\n",
    "df['RESTAURANT'].iloc[0:10] #use iloc to locate first 10 rows"
   ]
  },
  {
   "cell_type": "markdown",
   "id": "cf242a00",
   "metadata": {},
   "source": [
    "### (Q2)"
   ]
  },
  {
   "cell_type": "code",
   "execution_count": null,
   "id": "93afc5fb",
   "metadata": {},
   "outputs": [],
   "source": [
    "unique_restaurant = df.drop_duplicates(subset='RESTAURANT')\n",
    "len(unique_restaurant)"
   ]
  },
  {
   "cell_type": "markdown",
   "id": "6969be45",
   "metadata": {},
   "source": [
    "### (Q3)\n",
    "* Step 1: select the column 'DBA' and 'RESTAURANT'\n",
    "* Step 2: drop the duplicates in 'RESTAURANT' then you'll have unique address data\n",
    "* Step 3: make a mask that if values in 'DBA' still >1, meaning there's a chain\n",
    "* Step 4: use the mask to find those 'DBA' which have chains\n",
    "* Step 5: return length of chains which is the number of chains"
   ]
  },
  {
   "cell_type": "code",
   "execution_count": null,
   "id": "0820798d",
   "metadata": {},
   "outputs": [],
   "source": [
    "dba_restaurant = df[['DBA','RESTAURANT']]\n",
    "dba_restaurant_dedup = dba_restaurant.drop_duplicates(subset='RESTAURANT')\n",
    "chain_mask = dba_restaurant_dedup['DBA'].value_counts() > 1 \n",
    "have_chains = dba_restaurant_dedup['DBA'].value_counts()[chain_mask]\n",
    "len(have_chains)"
   ]
  },
  {
   "cell_type": "markdown",
   "id": "2ef5258f",
   "metadata": {},
   "source": [
    "### (Q4)"
   ]
  },
  {
   "cell_type": "code",
   "execution_count": null,
   "id": "2da40f20",
   "metadata": {},
   "outputs": [],
   "source": [
    "have_chains[:20].plot(kind='bar')"
   ]
  },
  {
   "cell_type": "markdown",
   "id": "f86e9dbc",
   "metadata": {},
   "source": [
    "### (Q5)\n",
    "* Step 1: count the number of unique restaurants\n",
    "* Step 2: count the number of unique restaurants that are chains\n",
    "* Step 3: divided step2 by step3"
   ]
  },
  {
   "cell_type": "code",
   "execution_count": null,
   "id": "75746d00",
   "metadata": {},
   "outputs": [],
   "source": [
    "num_restaurant = len(unique_restaurant)\n",
    "chains_sum = have_chains.sum()\n",
    "print float(chains_sum)/(num_restaurant)"
   ]
  },
  {
   "cell_type": "markdown",
   "id": "7dea4350",
   "metadata": {},
   "source": [
    "### (Q6)\n",
    "\n",
    "* Step 1: set the 'Missing' in 'BORO' column to be NaN, that way it won't be counted\n",
    "* Step 2: creat dataframe with 'DBA','BORO'and 'RESTAURANT'; drop the duplicates of 'RESTAURANT' return unique restaurants; and set 'DBA' as index\n",
    "* Step 3: find the non-chains restaurants which chain_mask in (Q5), counts the numbers and plot"
   ]
  },
  {
   "cell_type": "code",
   "execution_count": null,
   "id": "af4e2626",
   "metadata": {},
   "outputs": [],
   "source": [
    "#clean the data in column \"BORO\" where values are 'Missing'\n",
    "boro_mask = (df['BORO'] == 'Missing')\n",
    "df.loc[boro_mask, 'BORO'] = np.nan \n",
    "\n",
    "#create a new dataframe and put 'DBA', 'BORO' and 'RESTAURANT' into it.\n",
    "dba_boro_restaurant = df[['DBA','BORO','RESTAURANT']].drop_duplicates(subset='RESTAURANT').set_index('DBA')\n",
    "\n",
    "non_chains = dba_boro_restaurant['BORO'][~chain_mask].value_counts()\n",
    "non_chains.plot(kind='bar')"
   ]
  },
  {
   "cell_type": "markdown",
   "id": "fb8ef215",
   "metadata": {},
   "source": [
    "### (Q7)\n",
    "* Step 1: count the total restaurants in each borough\n",
    "* Step 2: calculate the fraction by dividing non_chains by total restaurants in each borough\n",
    "\n",
    "According to (Q6) and (Q7), the highest ratio of independent restaurant is in Brooklyn, but the borough that has the most independent retaurant is in Mahattan."
   ]
  },
  {
   "cell_type": "code",
   "execution_count": null,
   "id": "8d9c73a6",
   "metadata": {},
   "outputs": [],
   "source": [
    "total_restaurants_boro = dba_boro_restaurant['BORO'].value_counts() \n",
    "boro_fraction = non_chains / total_restaurants_boro\n",
    "boro_fraction.plot(kind='bar')"
   ]
  },
  {
   "cell_type": "markdown",
   "id": "c4c805f0",
   "metadata": {},
   "source": [
    "### (Q8)"
   ]
  },
  {
   "cell_type": "code",
   "execution_count": null,
   "id": "e15e53a8",
   "metadata": {},
   "outputs": [],
   "source": [
    "cuisine = df[['CUISINE DESCRIPTION','RESTAURANT']].drop_duplicates(subset='RESTAURANT')\n",
    "cuisine['CUISINE DESCRIPTION'].value_counts()[:20].plot(kind = 'bar')"
   ]
  },
  {
   "cell_type": "markdown",
   "id": "172414da",
   "metadata": {},
   "source": [
    "### (Q9)\n",
    "* Step 1: set a mask where the 'VIOLATION CODE' is null ; a mask where the 'VIOLATION CODE' is not null\n",
    "* Step 2: apply the mask to violation_restaurant_df dataframe and drop duplicates of 'RESTAURANT'\n",
    "* Step 3: set a mask that is the null_restaurants minus its intersection with not_restaurants\n",
    "* Step 4: apply mask in step 3 to the null_restaurants and we get the truly no violation brands of restaurants"
   ]
  },
  {
   "cell_type": "code",
   "execution_count": null,
   "id": "5843b3ab",
   "metadata": {},
   "outputs": [],
   "source": [
    "violation_restaurant_df = df[['RESTAURANT', 'VIOLATION CODE', 'CUISINE DESCRIPTION']]\n",
    "\n",
    "violations_null_mask = violation_restaurant_df['VIOLATION CODE'].isnull()\n",
    "violations_not_mask = violation_restaurant_df['VIOLATION CODE'].notnull()\n",
    "\n",
    "null_restaurants = violation_restaurant_df[violations_null_mask].drop_duplicates(subset='RESTAURANT')\n",
    "not_restaurants = violation_restaurant_df[violations_not_mask].drop_duplicates(subset='RESTAURANT')\n",
    "\n",
    "clean_mask = ~null_restaurants['RESTAURANT'].isin(not_restaurants['RESTAURANT'])\n",
    "\n",
    "clean_restaurants = null_restaurants[clean_mask]\n",
    "clean_restaurants['CUISINE DESCRIPTION'].value_counts()[:20].plot(kind='bar')"
   ]
  },
  {
   "cell_type": "markdown",
   "id": "ed51240e",
   "metadata": {},
   "source": [
    "### (Q10)"
   ]
  },
  {
   "cell_type": "code",
   "execution_count": null,
   "id": "658b98de",
   "metadata": {},
   "outputs": [],
   "source": [
    "cuisine_20 = cuisine['CUISINE DESCRIPTION'].value_counts() >= 20\n",
    "clean_restaurants.index = clean_restaurants['CUISINE DESCRIPTION']\n",
    "\n",
    "no_violation_cuisine = clean_restaurants[cuisine_20]['CUISINE DESCRIPTION'].value_counts()\n",
    "total_cuisine_restaurant = cuisine['CUISINE DESCRIPTION'].value_counts()[cuisine_20]\n",
    "\n",
    "ratio = no_violation_cuisine*1.0 / total_cuisine_restaurant\n",
    "\n",
    "print ratio.sort_values(ascending=False)[:10]\n",
    "ratio.sort_values(ascending=False)[:10].plot(kind = 'bar')"
   ]
  },
  {
   "cell_type": "markdown",
   "id": "aa1fdedd",
   "metadata": {},
   "source": [
    "### (Q11)\n",
    "* Step 1: create a dataframe of boroughs and violations, dropping any missing values for boroughs\n",
    "* Step 2: create a crosstab of the two columns\n",
    "* Step 3: transpose such that 'BORO' is the row, and return the most common violation"
   ]
  },
  {
   "cell_type": "code",
   "execution_count": null,
   "id": "bef941b5",
   "metadata": {},
   "outputs": [],
   "source": [
    "boro_violation = df[['BORO', 'VIOLATION DESCRIPTION']].dropna(axis = 0)\n",
    "boro_violation_num = pd.crosstab(boro_violation['BORO'], boro_violation['VIOLATION DESCRIPTION'])\n",
    "boro_violation_num.T.idxmax()"
   ]
  },
  {
   "cell_type": "markdown",
   "id": "709723e0",
   "metadata": {},
   "source": [
    "### (Q12)\n",
    "\n",
    "Like the previous question, but divide the boro_violation_num with the total frenquency of each violations of each borough."
   ]
  },
  {
   "cell_type": "code",
   "execution_count": null,
   "id": "daca4c9b",
   "metadata": {},
   "outputs": [],
   "source": [
    "violationFrequency = boro_violation['VIOLATION DESCRIPTION'].value_counts()\n",
    "normalize = boro_violation_num / violationFrequency\n",
    "normalize.T.idxmax()"
   ]
  },
  {
   "cell_type": "markdown",
   "id": "30161b50",
   "metadata": {},
   "source": [
    "### (Q13)"
   ]
  },
  {
   "cell_type": "code",
   "execution_count": null,
   "id": "83abb8e1",
   "metadata": {},
   "outputs": [],
   "source": [
    "zip_phone = df[['PHONE','ZIPCODE']]\n",
    "\n",
    "def substract_code(s):\n",
    "    return str(s)[:3]\n",
    "\n",
    "\n",
    "\n",
    "zip_phone['AREA CODE'] = zip_phone['PHONE'].map(substract_code)\n",
    "\n",
    "zip_phone = zip_phone[['ZIPCODE','AREA CODE']].drop_duplicates()\n",
    "zip_phone_num = pd.crosstab(zip_phone['ZIPCODE'], zip_phone['AREA CODE'],margins = True).T\n",
    "\n",
    "area_code_mask = zip_phone_num['All'] == 1\n",
    "#zip_phone_num[area_code_mask].index\n",
    "len(zip_phone_num[area_code_mask].index)"
   ]
  },
  {
   "cell_type": "markdown",
   "id": "dd2908d7",
   "metadata": {},
   "source": [
    "### (Q14)"
   ]
  }
 ],
 "metadata": {},
 "nbformat": 4,
 "nbformat_minor": 5
}
