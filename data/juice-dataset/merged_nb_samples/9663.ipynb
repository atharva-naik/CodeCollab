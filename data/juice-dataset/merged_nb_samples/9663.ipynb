{
 "cells": [
  {
   "cell_type": "markdown",
   "id": "f75667c9",
   "metadata": {},
   "source": [
    "# Assessing Risk of Portfolio\n",
    "\n",
    "In this project we will be using Python to create a portfolio of assets and analzing its risk. The risk of a portfolio of assets depends on the weights assigned to each asset in the portfolio as well as the relationships of each asset with each other (covariance). \n",
    "\n",
    "One of the most important things to assess riskiness is by looking at its volatility (standard deviation) of the returns of each asset, which can be calculated by first finding the variance of the asset and taking the square root of it. \n",
    "\n",
    "To start with, we will have to import the required libraries. The 4 most important imports in this project are:\n",
    "\n",
    "- Pandas (for dataframes and data analysis) \n",
    "- Quandl (Financial and economic dataset API)\n",
    "- Matplotlib (Graphing purposes) \n",
    "- Numpy (calculations purposes) "
   ]
  },
  {
   "cell_type": "code",
   "execution_count": null,
   "id": "360775fb",
   "metadata": {},
   "outputs": [],
   "source": [
    "import pandas_datareader.data as web\n",
    "import pandas as pd \n",
    "import numpy as np \n",
    "import matplotlib.pyplot as plt\n",
    "%matplotlib inline"
   ]
  },
  {
   "cell_type": "markdown",
   "id": "73e9c8b1",
   "metadata": {},
   "source": [
    "We will first begin by listing the assets that we want to put into our portfolio. In this project we will be using five assets: \n",
    "\n",
    "- Coca-Cola \n",
    "- Pepsi \n",
    "- General Electric \n",
    "- Oracle \n",
    "- Walmart \n",
    "\n",
    "We will place the ticker symbols of these assets inside a Python list."
   ]
  },
  {
   "cell_type": "code",
   "execution_count": null,
   "id": "9be0f3ff",
   "metadata": {},
   "outputs": [],
   "source": [
    "assets = ['KO', 'PEP', 'GE', 'ORCL', 'WMT']"
   ]
  },
  {
   "cell_type": "markdown",
   "id": "f1fd7567",
   "metadata": {},
   "source": [
    "Next we will create an empty dataframe, and populate it with stock data of our selected assets. In this project we will be pulling data from the Quandl API, and since we are only interested in the percentage returns of each asset inside the portfolio for our analysis, we will only be pulling the \"Adjusted Close\" prices of each asset. \n",
    "\n",
    "The data that we will be using is a two-year data from 2016 to 2018."
   ]
  },
  {
   "cell_type": "code",
   "execution_count": null,
   "id": "26877ad6",
   "metadata": {},
   "outputs": [],
   "source": [
    "# Create empty dataframe \n",
    "df = pd.DataFrame()\n",
    "\n",
    "# Use a for-loop to iterate through each ticker symbol and pull out data \n",
    "for stock in assets: \n",
    "    # We only want the Adjusted Close prices\n",
    "    df[stock] = web.DataReader(stock, data_source = 'quandl', start = '2016-01-01', end = '2018-01-01')['AdjClose']\n",
    "    \n",
    "# Let's check the data by printing the first 5 rows\n",
    "df.head()"
   ]
  },
  {
   "cell_type": "markdown",
   "id": "fd2b4fec",
   "metadata": {},
   "source": [
    "Now we will be converting these prices into percentage daily returns, since that is what we will be using for our analysis."
   ]
  },
  {
   "cell_type": "code",
   "execution_count": null,
   "id": "fa517a36",
   "metadata": {},
   "outputs": [],
   "source": [
    "daily_returns = df.pct_change()\n",
    "\n",
    "# Let's check the data \n",
    "daily_returns.head()"
   ]
  },
  {
   "cell_type": "markdown",
   "id": "f9333471",
   "metadata": {},
   "source": [
    "Notice that the first row of our dataframe is filled with NaN. This is because calculating the daily percentage requires us to use at least 2 periods (days) of data, but there is no row above the first one for us to compute the percentage returns.\n",
    "\n",
    "We will have to remove the first row so that it will not interfere with our calculations."
   ]
  },
  {
   "cell_type": "code",
   "execution_count": null,
   "id": "cc2a0153",
   "metadata": {},
   "outputs": [],
   "source": [
    "daily_returns = daily_returns.dropna(axis = 0)\n",
    "\n",
    "# Let's check the data again \n",
    "daily_returns.head()"
   ]
  },
  {
   "cell_type": "markdown",
   "id": "c9ba9897",
   "metadata": {},
   "source": [
    "We can even get additional information from the daily returns by using the \".describe()\" for data summary and \".corr()\" for data correlation."
   ]
  },
  {
   "cell_type": "code",
   "execution_count": null,
   "id": "5cbcba87",
   "metadata": {},
   "outputs": [],
   "source": [
    "daily_returns.describe()"
   ]
  },
  {
   "cell_type": "code",
   "execution_count": null,
   "id": "fbd83c1d",
   "metadata": {},
   "outputs": [],
   "source": [
    "daily_returns.corr()"
   ]
  },
  {
   "cell_type": "markdown",
   "id": "e7cb2f73",
   "metadata": {},
   "source": [
    "Lastly, we can also use matplotlib to graph the daily returns of each asset."
   ]
  },
  {
   "cell_type": "code",
   "execution_count": null,
   "id": "3c5e15ee",
   "metadata": {},
   "outputs": [],
   "source": [
    "daily_returns.plot(figsize = (16,8))"
   ]
  },
  {
   "cell_type": "markdown",
   "id": "2e13de27",
   "metadata": {},
   "source": [
    "Now we will proceed to find the volatility of the stock. It is actually possible for us to use Numpy to directly get to the standard deviation of the portfolio, but in order to better understand how we get volatility, we will take the path of first computing the co-variance of each asset, getting the variance by using a formula, and then taking the square root to get to the standard deviation. \n",
    "\n",
    "In this project, we will be looking for the annual volatility of the portfolio, so we will have to convert all of our calculations to an annual basis.\n",
    "\n",
    "Lastly, note that we will be assigning equal weights for each asset in the portfolio for simplicity."
   ]
  },
  {
   "cell_type": "code",
   "execution_count": null,
   "id": "35ae1dc1",
   "metadata": {},
   "outputs": [],
   "source": [
    "# Get the daily covariance (relationships) of each asset \n",
    "covariance_matrix_daily = daily_returns.cov()\n",
    "\n",
    "# Get the annual covariance\n",
    "covariance_matrix_annual = covariance_matrix_daily * 252 # number of trading days in the US for a year \n",
    "\n",
    "# Assign equal weights to all assets in the portfolio \n",
    "weights = np.array([0.2, 0.2, 0.2, 0.2, 0.2])"
   ]
  },
  {
   "cell_type": "markdown",
   "id": "a21c352a",
   "metadata": {},
   "source": [
    "We can see what the covariance matrix looks like by printing out both the daily and annual versions."
   ]
  },
  {
   "cell_type": "code",
   "execution_count": null,
   "id": "e5d2d0fa",
   "metadata": {},
   "outputs": [],
   "source": [
    "# Print out daily covariance matrix\n",
    "covariance_matrix_daily.head()"
   ]
  },
  {
   "cell_type": "code",
   "execution_count": null,
   "id": "592f0154",
   "metadata": {},
   "outputs": [],
   "source": [
    "# Print out annual covariance matrix \n",
    "covariance_matrix_annual.head()"
   ]
  },
  {
   "cell_type": "markdown",
   "id": "cee26490",
   "metadata": {},
   "source": [
    "Now we can find the variance of the portfolio by performing a dot product calculation on the annual covariance with the weights of each asset. \n",
    "\n",
    "A dot product simply means that all values within the weights array are multiplied with the corresponding values within the covariance dataframe, and the results are added up together."
   ]
  },
  {
   "cell_type": "code",
   "execution_count": null,
   "id": "cbe4284f",
   "metadata": {},
   "outputs": [],
   "source": [
    "portfolio_variance = np.dot(weights.T, np.dot(covariance_matrix_annual, weights))\n",
    "\n",
    "# Print out portfolio variance\n",
    "print(portfolio_variance)"
   ]
  },
  {
   "cell_type": "markdown",
   "id": "ef538a04",
   "metadata": {},
   "source": [
    "Now we can simply find the standard deviation by taking the square root of our portfolio's variance."
   ]
  },
  {
   "cell_type": "code",
   "execution_count": null,
   "id": "e95d2f19",
   "metadata": {},
   "outputs": [],
   "source": [
    "portfolio_volatility = np.sqrt(portfolio_variance)\n",
    "\n",
    "print(portfolio_volatility)"
   ]
  },
  {
   "cell_type": "markdown",
   "id": "b279123d",
   "metadata": {},
   "source": [
    "The portfolio volatility is the risk that we are taking if we are investing in these 5 assets with equally assigned weights. We can convert both the variance and the volatility of the portfolio into a percentage value simply by multiplying them with 100, and print them out in a form that is easy for investors to understand."
   ]
  }
 ],
 "metadata": {},
 "nbformat": 4,
 "nbformat_minor": 5
}
