{
 "cells": [
  {
   "cell_type": "markdown",
   "id": "d5d46877",
   "metadata": {},
   "source": [
    " "
   ]
  },
  {
   "cell_type": "code",
   "execution_count": null,
   "id": "1a4b482f",
   "metadata": {},
   "outputs": [],
   "source": [
    "def any_lowercase5(s):\n",
    "    \"\"\"\n",
    "    Returns false if it finds any uppercase letters.\n",
    "    \"\"\"\n",
    "    for c in s:\n",
    "        if not c.islower():\n",
    "            return False\n",
    "    return True\n",
    "any_lowercase5('String')"
   ]
  },
  {
   "cell_type": "code",
   "execution_count": null,
   "id": "b46ccfb4",
   "metadata": {},
   "outputs": [],
   "source": [
    "def any_lowercase1(s):\n",
    "    for c in s:\n",
    "        if c.islower():\n",
    "            return True\n",
    "        else:\n",
    "            return False"
   ]
  },
  {
   "cell_type": "markdown",
   "id": "949fbfaf",
   "metadata": {},
   "source": [
    "The problem with this function is that it only looks at the first character - if the character is lowercase, the loop hits the return True and stops running.  If the first letter is not lowercase, the loops goes to the else statement and returns false before checking the rest of the characters."
   ]
  },
  {
   "cell_type": "code",
   "execution_count": null,
   "id": "9cc33f28",
   "metadata": {},
   "outputs": [],
   "source": [
    "def any_lowercase2(s):\n",
    "    for c in s:\n",
    "        if 'c'.islower():\n",
    "            return 'True'\n",
    "        else:\n",
    "            return 'False'"
   ]
  },
  {
   "cell_type": "code",
   "execution_count": null,
   "id": "9c86b8ce",
   "metadata": {},
   "outputs": [],
   "source": [
    "any_lowercase2('AAAAAAA')"
   ]
  },
  {
   "cell_type": "markdown",
   "id": "2b6781e4",
   "metadata": {},
   "source": [
    "The problem here is in the if statement - by saying \"if 'c'.islower():\" the function will always return true for every character in s, whether or not it is uppercase or lowercase.  The reason is because the islower function is accepting the string 'c' every time instead of accepting a character from s."
   ]
  },
  {
   "cell_type": "code",
   "execution_count": null,
   "id": "c9c0331a",
   "metadata": {},
   "outputs": [],
   "source": [
    "def any_lowercase3(s):\n",
    "    for c in s:\n",
    "        flag = c.islower()\n",
    "    return flag"
   ]
  },
  {
   "cell_type": "markdown",
   "id": "59da65f4",
   "metadata": {},
   "source": [
    "The problem here appears to be the opposite - each time the loop iterates, flag is redefined.  This means that the function ignores all the characters in the middle and only looks at the last character."
   ]
  },
  {
   "cell_type": "code",
   "execution_count": null,
   "id": "6bfee70d",
   "metadata": {},
   "outputs": [],
   "source": [
    "def any_lowercase5(s):\n",
    "    for c in s:\n",
    "        if not c.islower():\n",
    "            return False\n",
    "    return True\n",
    "any_lowercase5('lalaL') #should be true\n",
    "#any_lowercase5('LALALAL') # should be false\n",
    "#any_lowercase5('lalala') #should be ture\n",
    "#any_lowercase5('***') #should be false"
   ]
  },
  {
   "cell_type": "markdown",
   "id": "cf0b338b",
   "metadata": {},
   "source": [
    "Thus function doesn't work. All of the letters must be lower case for it to return true, but we want it to return true if ANY of the letters are lowercase. As soon as it encounters a single non lower case letter, it immediately returns false; it only returns true if it gets through them all without encounteirng non lower cases. "
   ]
  },
  {
   "cell_type": "markdown",
   "id": "5c2daf3e",
   "metadata": {},
   "source": [
    "That one only checks the first letter. Ends the function call as soon as it returns."
   ]
  },
  {
   "cell_type": "markdown",
   "id": "83143562",
   "metadata": {},
   "source": [
    " Same mistake as before, but added the fact that those are strings and not bools."
   ]
  },
  {
   "cell_type": "markdown",
   "id": "6092c26b",
   "metadata": {},
   "source": [
    " Only returns the result of the last letter."
   ]
  },
  {
   "cell_type": "code",
   "execution_count": null,
   "id": "23e01d04",
   "metadata": {},
   "outputs": [],
   "source": [
    "def any_lowercase4(s):\n",
    "    flag = False\n",
    "    for c in s:\n",
    "        flag = flag or c.islower()\n",
    "    return flag\n",
    "print any_lowercase4('BaANA')"
   ]
  },
  {
   "cell_type": "markdown",
   "id": "46ee5206",
   "metadata": {},
   "source": [
    " It calculates an or on flag, which defaults to FALSE, and c.islower, which is only true if there's a lowercase. So, as soon as islower goes to True, False or True = True, and then the flag always stays true."
   ]
  },
  {
   "cell_type": "code",
   "execution_count": null,
   "id": "89ef46e0",
   "metadata": {},
   "outputs": [],
   "source": [
    "def any_lowercase5(s):\n",
    "    for c in s:\n",
    "        if not c.islower():\n",
    "            return False\n",
    "    return True"
   ]
  },
  {
   "cell_type": "markdown",
   "id": "7929764c",
   "metadata": {},
   "source": [
    "As soon as it gets to an uppercase, it'll return false. This one is \"doesn't contain uppercase?\" "
   ]
  },
  {
   "cell_type": "code",
   "execution_count": null,
   "id": "511721dd",
   "metadata": {},
   "outputs": [],
   "source": [
    "def any_lowercase3(s): #no return value\n",
    "    for c in s:\n",
    "        flag = c.islower() #assigns a new variable each iteration of the loop but does nothing with it\n",
    "    return flag #does not return anything - flag is only a variable within the for loop"
   ]
  },
  {
   "cell_type": "code",
   "execution_count": null,
   "id": "975fd715",
   "metadata": {},
   "outputs": [],
   "source": [
    "def any_lowercase4(s): #always returns false\n",
    "    flag = False\n",
    "    for c in s:\n",
    "        flag = flag or c.islower() #changes the value of false only inside this loop\n",
    "    return flag #the flag inside the loop is destroyed at the end of each iteration, will always return the original value"
   ]
  },
  {
   "cell_type": "code",
   "execution_count": null,
   "id": "a063f4d3",
   "metadata": {},
   "outputs": [],
   "source": [
    "def any_lowercase5(s): #returns false if there is one or more letters that are uppercase, and true if all lowercase\n",
    "    for c in s:\n",
    "        if not c.islower(): #checks to see if a letter is not lowercase\n",
    "            return False #breaks loop and returns false if one is uppercase\n",
    "    return True #only evaluates if every character is lowercase and the if statement never evaluates"
   ]
  },
  {
   "cell_type": "code",
   "execution_count": null,
   "id": "a5217430",
   "metadata": {},
   "outputs": [],
   "source": [
    "def any_lowercase1(s):\n",
    "    for c in s:\n",
    "        if c.islower():\n",
    "            return True\n",
    "        else:\n",
    "            return False\n",
    "        "
   ]
  },
  {
   "cell_type": "markdown",
   "id": "d6e68fe3",
   "metadata": {},
   "source": [
    "This function only check if the first character in the string is upper or lower case."
   ]
  },
  {
   "cell_type": "code",
   "execution_count": null,
   "id": "b665d8c5",
   "metadata": {},
   "outputs": [],
   "source": [
    "def any_lowercase2(s):\n",
    "    for c in s:\n",
    "        if 'c'.islower():\n",
    "            return 'True'\n",
    "        else:\n",
    "            return 'False'\n",
    "        "
   ]
  },
  {
   "cell_type": "markdown",
   "id": "035e408e",
   "metadata": {},
   "source": [
    "This function will always return true, because it is saying to return 'True' if the string 'c' is lower case.  'c' is always lower case because that is how it is written in the string. "
   ]
  },
  {
   "cell_type": "code",
   "execution_count": null,
   "id": "39db86a2",
   "metadata": {},
   "outputs": [],
   "source": [
    "def any_lowercase3(s):\n",
    "    for c in s:\n",
    "        flag = c.islower()\n",
    "    return flag\n"
   ]
  },
  {
   "cell_type": "markdown",
   "id": "95713623",
   "metadata": {},
   "source": [
    "This function tests every character in the string, but it only returns if the last letter is lowercase because it reassigns flag every time it goes through the loop to check the next letter."
   ]
  },
  {
   "cell_type": "code",
   "execution_count": null,
   "id": "ebacd55b",
   "metadata": {},
   "outputs": [],
   "source": [
    "def any_lowercase5(s):\n",
    "    for c in s:\n",
    "        if not c.islower():\n",
    "            return False\n",
    "    return True\n",
    "\n",
    "any_lowercase5('string1')\n",
    "#This checks to see if ALL the letters are lowercase. And if all the characters in the string are letters. "
   ]
  },
  {
   "cell_type": "code",
   "execution_count": null,
   "id": "6e91c17e",
   "metadata": {},
   "outputs": [],
   "source": [
    "def any_lowercase1(s):\n",
    "    \"\"\"\n",
    "    >>> any_lowercase1('hello')\n",
    "    True\n",
    "    >>> any_lowercase1('HeLlo')\n",
    "    True\n",
    "    >>> any_lowercase1('HELLO')\n",
    "    False\n",
    "    \"\"\"\n",
    "    for c in s:\n",
    "        if c.islower():\n",
    "            return True\n",
    "        else:\n",
    "            return False\n",
    "        \n",
    "import doctest\n",
    "doctest.run_docstring_examples(any_lowercase1, globals())"
   ]
  },
  {
   "cell_type": "markdown",
   "id": "aa7b3652",
   "metadata": {},
   "source": [
    "This function does not work on a word that starts with a capital letter. It stops after evaluating the first character to either true or false."
   ]
  },
  {
   "cell_type": "code",
   "execution_count": null,
   "id": "cf960495",
   "metadata": {},
   "outputs": [],
   "source": [
    "def any_lowercase2(s):\n",
    "    \"\"\"\n",
    "    >>> any_lowercase2('hello')\n",
    "    True\n",
    "    >>> any_lowercase2('HeLlo')\n",
    "    True\n",
    "    >>> any_lowercase2('HELLO')\n",
    "    False\n",
    "    \"\"\"\n",
    "    for c in s:\n",
    "        if 'c'.islower():\n",
    "            return 'True'\n",
    "        else:\n",
    "            return 'False'\n",
    "        \n",
    "any_lowercase2(' ')\n",
    "import doctest\n",
    "doctest.run_docstring_examples(any_lowercase2, globals())"
   ]
  },
  {
   "cell_type": "markdown",
   "id": "b907377e",
   "metadata": {},
   "source": [
    "As long as there is an input in the form of a string, the function will run and produce 'True' as the answer"
   ]
  },
  {
   "cell_type": "code",
   "execution_count": null,
   "id": "9d39dde6",
   "metadata": {},
   "outputs": [],
   "source": [
    "def any_lowercase3(s):\n",
    "    \"\"\"\n",
    "    >>> any_lowercase3('hello')\n",
    "    True\n",
    "    >>> any_lowercase3('HellO')\n",
    "    True\n",
    "    >>> any_lowercase3('HELLO')\n",
    "    False\n",
    "    \"\"\"\n",
    "    for c in s:\n",
    "        flag = c.islower()\n",
    "    return flag\n",
    "\n",
    "any_lowercase3('hello')\n",
    "import doctest\n",
    "doctest.run_docstring_examples(any_lowercase3, globals())"
   ]
  },
  {
   "cell_type": "markdown",
   "id": "4293514a",
   "metadata": {},
   "source": [
    "This breaks when the last character of the word evaluates to false, as it returns the last statement of either true or false."
   ]
  },
  {
   "cell_type": "code",
   "execution_count": null,
   "id": "fe1ebfb1",
   "metadata": {},
   "outputs": [],
   "source": [
    "def any_lowercase4(s):\n",
    "    \"\"\"\n",
    "    >>> any_lowercase4('hello')\n",
    "    True\n",
    "    >>> any_lowercase4('HellO')\n",
    "    True\n",
    "    >>> any_lowercase4('HELLO')\n",
    "    False\n",
    "    \"\"\"\n",
    "    flag = False\n",
    "    for c in s:\n",
    "        flag = flag or c.islower()\n",
    "    return flag\n",
    "\n",
    "any_lowercase4('HELlO')\n",
    "import doctest\n",
    "doctest.run_docstring_examples(any_lowercase4, globals())"
   ]
  },
  {
   "cell_type": "markdown",
   "id": "5f11839e",
   "metadata": {},
   "source": [
    "This works!"
   ]
  },
  {
   "cell_type": "code",
   "execution_count": null,
   "id": "96428c11",
   "metadata": {},
   "outputs": [],
   "source": [
    "def any_lowercase4(s):\n",
    "    flag = False\n",
    "    for c in s:\n",
    "        flag = flag or c.islower()\n",
    "    return flag\n",
    "\n",
    "any_lowercase4('strinG')"
   ]
  },
  {
   "cell_type": "markdown",
   "id": "ac5c879d",
   "metadata": {},
   "source": [
    "This function works as intended (but I'm not entirely sure how).  It assumes the all letters are upper case to start.  As it goes through the for loop to check every letter in the word, it rewrites the value of flag, saying either that it equals itself (false) or is true.\n"
   ]
  },
  {
   "cell_type": "code",
   "execution_count": null,
   "id": "0e12a535",
   "metadata": {},
   "outputs": [],
   "source": [
    "def any_lowercase5(s):\n",
    "    for c in s:\n",
    "        if not c.islower():\n",
    "            return False\n",
    "    return True\n",
    "\n",
    "#any_lowercase5('String')"
   ]
  },
  {
   "cell_type": "markdown",
   "id": "ff6afcc3",
   "metadata": {},
   "source": [
    "This function only checks if the first letter is lower case."
   ]
  },
  {
   "cell_type": "code",
   "execution_count": null,
   "id": "61f11222",
   "metadata": {},
   "outputs": [],
   "source": [
    "def any_lowercase2(s):\n",
    "    for c in s:\n",
    "        if 'c'.islower():\n",
    "            return 'True'\n",
    "        else:\n",
    "            return 'False'\n",
    "#this function sees if the letter 'c' is lowercase, which is always True"
   ]
  },
  {
   "cell_type": "code",
   "execution_count": null,
   "id": "2b56d902",
   "metadata": {},
   "outputs": [],
   "source": [
    "def any_lowercase3(s):\n",
    "    for c in s:\n",
    "        flag = c.islower()\n",
    "    return flag\n",
    "#This returns the last letter of the word made lowercase"
   ]
  },
  {
   "cell_type": "code",
   "execution_count": null,
   "id": "c6972b30",
   "metadata": {},
   "outputs": [],
   "source": [
    "def any_lowercase4(s):\n",
    "    flag = False\n",
    "    for c in s:\n",
    "        flag = flag or c.islower()\n",
    "    return flag\n",
    "#flag will always equal flag, so it will always be true"
   ]
  },
  {
   "cell_type": "code",
   "execution_count": null,
   "id": "6af3159c",
   "metadata": {},
   "outputs": [],
   "source": [
    "def any_lowercase5(s):\n",
    "    for c in s:\n",
    "        if not c.islower():\n",
    "            return False\n",
    "    return True\n",
    "#this function returns false if the first letter is not lowercase"
   ]
  },
  {
   "cell_type": "code",
   "execution_count": null,
   "id": "00763e67",
   "metadata": {},
   "outputs": [],
   "source": [
    "def any_lowercase1(s):\n",
    "    for c in s:\n",
    "        if c.islower():\n",
    "            return True\n",
    "        else:\n",
    "            return False\n",
    "\n",
    "any_lowercase1('Yes')"
   ]
  },
  {
   "cell_type": "markdown",
   "id": "2752ba60",
   "metadata": {},
   "source": [
    "This looks at the first character in the string and ignores the rest because return."
   ]
  },
  {
   "cell_type": "code",
   "execution_count": null,
   "id": "e17a4985",
   "metadata": {},
   "outputs": [],
   "source": [
    "def any_lowercase2(s):\n",
    "    for c in s:\n",
    "        if 'c'.islower():\n",
    "            return 'True'\n",
    "        else:\n",
    "            return 'False'\n",
    "\n",
    "any_lowercase2('Yes')"
   ]
  },
  {
   "cell_type": "markdown",
   "id": "aa3f9b6c",
   "metadata": {},
   "source": [
    "Returns true for everything because it is asked if the string 'c' is lowercase. "
   ]
  },
  {
   "cell_type": "code",
   "execution_count": null,
   "id": "d84a91ac",
   "metadata": {},
   "outputs": [],
   "source": [
    "def any_lowercase3(s):\n",
    "    for c in s:\n",
    "        flag = c.islower()\n",
    "    return flag\n",
    "\n",
    "any_lowercase3('nO')"
   ]
  },
  {
   "cell_type": "markdown",
   "id": "e051c292",
   "metadata": {},
   "source": [
    "T/F dependent on last character of the string ."
   ]
  },
  {
   "cell_type": "code",
   "execution_count": null,
   "id": "8f06d1c5",
   "metadata": {},
   "outputs": [],
   "source": [
    "def any_lowercase4(s):\n",
    "    flag = False\n",
    "    for c in s:\n",
    "        flag = flag or c.islower()\n",
    "    return flag\n",
    "\n",
    "any_lowercase4('IS TRUE lower OR NOT?')"
   ]
  },
  {
   "cell_type": "markdown",
   "id": "6d45f3b8",
   "metadata": {},
   "source": [
    "This one works! Assumes that all will be uppercase, so starts with False (the flag). If a lowercase is found, the flag is turned to True. After being turned True, it cannot be turned false because the conditional is to remain the same or turn True. \n",
    "\n",
    "*upon further inspection, i treated meaning of **or** as 'or if' and assumed the True value took precedence over false.  I think i'm still a tad confused about this. "
   ]
  },
  {
   "cell_type": "code",
   "execution_count": null,
   "id": "31bfbbee",
   "metadata": {},
   "outputs": [],
   "source": [
    "def any_lowercase5(s):\n",
    "    for c in s:\n",
    "        if not c.islower():\n",
    "            return False\n",
    "    return True\n",
    "\n",
    "any_lowercase1('Ul')"
   ]
  },
  {
   "cell_type": "markdown",
   "id": "44c25633",
   "metadata": {},
   "source": [
    "Only sees the first letter because returns. If first character is Uppercase, the if statement is triggered and False is returned. If it is lowercase, the if is ignored and True is returned."
   ]
  },
  {
   "cell_type": "code",
   "execution_count": null,
   "id": "11e542c6",
   "metadata": {},
   "outputs": [],
   "source": [
    "def any_lowercase3(s):\n",
    "    for c in s:\n",
    "        flag = c.islower()\n",
    "    return flag\n",
    "\n",
    "#only returns final flag value\n",
    "print any_lowercase3('ArIAnA')\n",
    "print any_lowercase3('arIAna')"
   ]
  },
  {
   "cell_type": "code",
   "execution_count": null,
   "id": "78b28556",
   "metadata": {},
   "outputs": [],
   "source": [
    "def any_lowercase4(s):\n",
    "    flag = False\n",
    "    for c in s:\n",
    "        flag = flag or c.islower()\n",
    "    return flag\n",
    "\n",
    "#if the value of c.islower() is False, flag will be False, otherwise it will be True.\n",
    "#once flag becomes True, it cannot become False again. This works!\n",
    "print any_lowercase4('ArIAnA')\n",
    "print any_lowercase4('ARIANA')"
   ]
  },
  {
   "cell_type": "code",
   "execution_count": null,
   "id": "0a881fb3",
   "metadata": {},
   "outputs": [],
   "source": [
    "def any_lowercase5(s):\n",
    "    for c in s:\n",
    "        if not c.islower():\n",
    "            return False\n",
    "    return True\n",
    "#if any of the letters in this function are uppercase, it will return False\n",
    "print any_lowercase5('ArIAnA')\n",
    "print any_lowercase5('ARIANA')\n",
    "print any_lowercase5('ariana')"
   ]
  },
  {
   "cell_type": "code",
   "execution_count": null,
   "id": "18363fcc",
   "metadata": {},
   "outputs": [],
   "source": [
    "def any_lowercase1(s):\n",
    "    for c in s:\n",
    "        if c.islower():\n",
    "            return True\n",
    "        else:\n",
    "            return False\n",
    "        \n",
    "any_lowercase1('jOHN')"
   ]
  },
  {
   "cell_type": "markdown",
   "id": "2f6640b2",
   "metadata": {},
   "source": [
    "above: checks if characters in string s are lowercase"
   ]
  },
  {
   "cell_type": "code",
   "execution_count": null,
   "id": "5b51f6be",
   "metadata": {},
   "outputs": [],
   "source": [
    "def any_lowercase2(s):\n",
    "    for c in s:\n",
    "        if 'c'.islower():\n",
    "            return 'True'\n",
    "        else:\n",
    "            return 'False'\n",
    "        \n",
    "any_lowercase2('QM')"
   ]
  },
  {
   "cell_type": "markdown",
   "id": "53839ffb",
   "metadata": {},
   "source": [
    "above: checks if string 'c' is lowercase, which is always true\n",
    "\n",
    "'c' != c"
   ]
  },
  {
   "cell_type": "code",
   "execution_count": null,
   "id": "34926937",
   "metadata": {},
   "outputs": [],
   "source": [
    "def any_lowercase4(s):\n",
    "    flag = False\n",
    "    for c in s:\n",
    "        flag = flag or c.islower()\n",
    "    return flag"
   ]
  },
  {
   "cell_type": "markdown",
   "id": "7faaadf2",
   "metadata": {},
   "source": [
    "This function checks whether a string contains all lowercase letters. "
   ]
  },
  {
   "cell_type": "code",
   "execution_count": null,
   "id": "303eb025",
   "metadata": {},
   "outputs": [],
   "source": [
    "def any_lowercase2(s):\n",
    "    for c in s:\n",
    "        if 'c'.islower():\n",
    "            return 'True'\n",
    "        else:\n",
    "            return 'False')"
   ]
  },
  {
   "cell_type": "markdown",
   "id": "a69d0f15",
   "metadata": {},
   "source": [
    "Always returns True because it checks the capitalization of the string 'c' rather than the variable c. "
   ]
  },
  {
   "cell_type": "code",
   "execution_count": null,
   "id": "dbc6f1ed",
   "metadata": {},
   "outputs": [],
   "source": [
    "def any_lowercase3(s):\n",
    "    for c in s:\n",
    "        flag = c.islower()\n",
    "    return flag\n",
    "any_lowercase3('hellO')\n"
   ]
  },
  {
   "cell_type": "markdown",
   "id": "ac502671",
   "metadata": {},
   "source": [
    " This function only returns what it checks for the capitalization of the final character."
   ]
  },
  {
   "cell_type": "code",
   "execution_count": null,
   "id": "e0a9ec29",
   "metadata": {},
   "outputs": [],
   "source": [
    "def any_lowercase5(s):\n",
    "    for c in s:\n",
    "        if not c.islower():\n",
    "            return False\n",
    "    return True\n",
    "# This function returns False if there is any upper case letter in the word. It returns True if all letters in the word are lower case."
   ]
  },
  {
   "cell_type": "markdown",
   "id": "77ee5716",
   "metadata": {},
   "source": [
    " Returns if the 1st character is lowercase."
   ]
  },
  {
   "cell_type": "markdown",
   "id": "412c0162",
   "metadata": {},
   "source": [
    "Returns if the string 'c' is lowercase. (True)"
   ]
  },
  {
   "cell_type": "markdown",
   "id": "7eec14f9",
   "metadata": {},
   "source": [
    "Returns if the last character is lowercase."
   ]
  },
  {
   "cell_type": "markdown",
   "id": "bfe3b8d3",
   "metadata": {},
   "source": [
    "Returns True if there is any lowercase character in s "
   ]
  },
  {
   "cell_type": "markdown",
   "id": "1971ca42",
   "metadata": {},
   "source": [
    "Returns True if no character in s in upper "
   ]
  },
  {
   "cell_type": "code",
   "execution_count": null,
   "id": "82881c99",
   "metadata": {},
   "outputs": [],
   "source": [
    "def any_lowercase1(s):\n",
    "    for c in s:\n",
    "        if c.islower():\n",
    "            return True\n",
    "        else:\n",
    "            return False\n",
    "#This function checks if the first letter in the string is lowercase"
   ]
  },
  {
   "cell_type": "code",
   "execution_count": null,
   "id": "9cbe7951",
   "metadata": {},
   "outputs": [],
   "source": [
    "def any_lowercase4(s):\n",
    "    flag = False\n",
    "    for c in s:\n",
    "        flag = flag or c.islower()\n",
    "    return flag\n",
    "\n",
    "any_lowercase4('StrinG')\n",
    "#This returns True if there are any lowercase letters, False otherwise."
   ]
  },
  {
   "cell_type": "code",
   "execution_count": null,
   "id": "603273c4",
   "metadata": {},
   "outputs": [],
   "source": [
    "def any_lowercase1(s):\n",
    "    for c in s:\n",
    "        if c.islower():\n",
    "            return True\n",
    "        else:\n",
    "            return False\n",
    "print any_lowercase1('ABCDe') #False\n",
    "print any_lowercase1('aBCDE') #True\n",
    "print any_lowercase1('ABcDE') #False\n",
    "print any_lowercase1('ABC def') #False\n",
    "print any_lowercase1('aBC DEF') #True\n",
    "print any_lowercase1('ABc DEF') #False"
   ]
  },
  {
   "cell_type": "markdown",
   "id": "29b4ce42",
   "metadata": {},
   "source": [
    "If there's only one word in the input string, it checks to see if the first character is lower case; if it is, then it returns True. If it isn't, then it returns False.\n",
    "\n",
    "If there's a sentence in the string, it checks the first character of the first sentences to see if it's lowercase. If that first character is, then it returns true. "
   ]
  },
  {
   "cell_type": "code",
   "execution_count": null,
   "id": "323fc9d1",
   "metadata": {},
   "outputs": [],
   "source": [
    "def any_lowercase2(s):\n",
    "    for c in s:\n",
    "        if 'c'.islower():\n",
    "            return 'True'\n",
    "        else:\n",
    "            return 'False'\n",
    "any_lowercase2('ASDF')"
   ]
  },
  {
   "cell_type": "markdown",
   "id": "6ee332d8",
   "metadata": {},
   "source": [
    "This function only returns 'True', which is the string, not the boolean. In addition to the string return, this function has the infinitely true statement, 'c'.islower(), since 'c' is a string."
   ]
  },
  {
   "cell_type": "code",
   "execution_count": null,
   "id": "60539120",
   "metadata": {},
   "outputs": [],
   "source": [
    "def any_lowercase1(s): #checks if the first letter only is lowercase, and returns true if so and false if not\n",
    "    for c in s: #cycles through each letter in the string parameter\n",
    "        if c.islower(): #checks if the character is lowercase\n",
    "            return True #returns true for the entire function on first iteration if the first letter is lowercase\n",
    "        else:\n",
    "            return False #returns false for the entire function on first iteration if the first letter is not lowercase"
   ]
  },
  {
   "cell_type": "code",
   "execution_count": null,
   "id": "cd0fa640",
   "metadata": {},
   "outputs": [],
   "source": [
    "def any_lowercase2(s): #always returns true, no matter the input\n",
    "    for c in s: \n",
    "        if 'c'.islower(): #checks if the lowercase letter c is lowercase - always true, evaluates if statement\n",
    "            return 'True' \n",
    "        else:\n",
    "            return 'False' #this line never used"
   ]
  },
  {
   "cell_type": "code",
   "execution_count": null,
   "id": "257e07f1",
   "metadata": {},
   "outputs": [],
   "source": [
    "def any_lowercase3(s):\n",
    "    for c in s:\n",
    "        flag = c.islower()\n",
    "    return flag\n",
    "\n",
    "any_lowercase3('abcdeF')"
   ]
  },
  {
   "cell_type": "markdown",
   "id": "d2e23485",
   "metadata": {},
   "source": [
    "This function takes the last character of the string and returns True if it is lowercase, and False otherwise. "
   ]
  },
  {
   "cell_type": "code",
   "execution_count": null,
   "id": "efcd04e2",
   "metadata": {},
   "outputs": [],
   "source": [
    "def any_lowercase4(s):\n",
    "    flag = False\n",
    "    for c in s:\n",
    "        flag = flag or c.islower()\n",
    "    return flag\n",
    "print any_lowercase4('ABCdeF ABCDE')\n",
    "\n",
    "\n",
    "str = \"THiS ASDF V\"\n",
    "print any_lowercase4(str)"
   ]
  },
  {
   "cell_type": "markdown",
   "id": "d37e785d",
   "metadata": {},
   "source": [
    "This function assumes there are no lowercase letters in the string and goes through each character. Because there is a lowercase letter (True) in there, the or statement result is True."
   ]
  },
  {
   "cell_type": "code",
   "execution_count": null,
   "id": "7b1bd07a",
   "metadata": {},
   "outputs": [],
   "source": [
    "def any_lowercase5(s):\n",
    "    for c in s:\n",
    "        if not c.islower():\n",
    "            return False\n",
    "    return True\n",
    "\n",
    "print any_lowercase5('abcdef G')\n",
    "\n",
    "\n",
    "str = \"THiS ASDF V\"\n",
    "print any_lowercase5(str)"
   ]
  },
  {
   "cell_type": "markdown",
   "id": "7c462e16",
   "metadata": {},
   "source": [
    "If the string is not completely lowercase, then the if statement proceeds. Once the if statement proceeds, the return is False. Otherwise it returns true. "
   ]
  }
 ],
 "metadata": {},
 "nbformat": 4,
 "nbformat_minor": 5
}
