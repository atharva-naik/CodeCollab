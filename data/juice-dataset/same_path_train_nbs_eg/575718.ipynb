{
 "cells": [
  {
   "cell_type": "code",
   "execution_count": null,
   "id": "e7390ae4",
   "metadata": {},
   "outputs": [],
   "source": [
    "%matplotlib inline\n",
    "import pandas as pd\n",
    "import numpy as np\n",
    "import matplotlib.pyplot as plt\n",
    "import matplotlib.mlab as mlab\n",
    "import math"
   ]
  },
  {
   "cell_type": "code",
   "execution_count": null,
   "id": "96439dc0",
   "metadata": {},
   "outputs": [],
   "source": [
    "donations = pd.DataFrame.from_csv('opendata_donations.csv', index_col=None).ix[:,0:23]\n",
    "donations = donations.rename(columns=lambda x: x.strip()) # removing whitespaces from columns\n",
    "donations = donations[(donations.donor_zip!='SC')&(donations.donor_zip!='NY')&(donations.donor_zip!='NJ')&(donations.donor_zip!='TX')]\n",
    "donations.head(5)"
   ]
  },
  {
   "cell_type": "code",
   "execution_count": null,
   "id": "9302c827",
   "metadata": {},
   "outputs": [],
   "source": [
    "projects = pd.DataFrame.from_csv('opendata_projects.csv', index_col=None)\n",
    "projects.head(5)"
   ]
  },
  {
   "cell_type": "code",
   "execution_count": null,
   "id": "08dab3d0",
   "metadata": {},
   "outputs": [],
   "source": [
    "# Join donations and projects data\n",
    "projects_donations = projects.merge(donations, on='_projectid',how='inner')\n",
    "projects_donations.head(5)"
   ]
  },
  {
   "cell_type": "code",
   "execution_count": null,
   "id": "7f5ece9d",
   "metadata": {},
   "outputs": [],
   "source": [
    "len(projects_donations)"
   ]
  },
  {
   "cell_type": "markdown",
   "id": "d8819e77",
   "metadata": {},
   "source": [
    "### 1) Is there a correlation between project's state and donor's state in terms of donation amount ?"
   ]
  },
  {
   "cell_type": "code",
   "execution_count": null,
   "id": "32a3f05f",
   "metadata": {},
   "outputs": [],
   "source": [
    "#1) Proportions of state wise donations against state wise projects \n",
    "# Creating a n*n empty data frame for each state\n",
    "states = projects_donations.school_state.drop_duplicates()\n",
    "df = pd.DataFrame(columns = states)\n",
    "for state in states:\n",
    "    df.loc[state] = states\n",
    "\n",
    "# Filling the data frame\n",
    "p_g = projects_donations.groupby('school_state')\n",
    "for state_p,group_p in p_g:\n",
    "    #print state_p,'--',group_p.donation_total.sum()\n",
    "    d_g = group_p.groupby('donor_state')\n",
    "    for state_d,group_d in d_g:\n",
    "        #print state_d, group_d.donation_total.sum()\n",
    "        df.loc[state_p,state_d] = 100*(group_d.donation_total.sum())/(group_p.donation_total.sum())"
   ]
  },
  {
   "cell_type": "code",
   "execution_count": null,
   "id": "e7300b19",
   "metadata": {},
   "outputs": [],
   "source": [
    "df.fillna(0).head(5)"
   ]
  },
  {
   "cell_type": "markdown",
   "id": "045cdfc5",
   "metadata": {},
   "source": [
    "**Yes, there is a correlation if you look at the diagonal line. A onor is more likely to donate to a project that belongs to a school in their own state**"
   ]
  }
 ],
 "metadata": {},
 "nbformat": 4,
 "nbformat_minor": 5
}
