{
 "cells": [
  {
   "cell_type": "markdown",
   "id": "a2794fa4",
   "metadata": {},
   "source": [
    "This notebook covers the concepts underlying design efficiency.\n",
    "\n",
    "In order to examine the factors that affect efficiency, we need to be able to generate experimental designs that vary in their timing and correlation between regressors. Let's first create a function that can generate such designs for us."
   ]
  },
  {
   "cell_type": "code",
   "execution_count": null,
   "id": "639d967f",
   "metadata": {},
   "outputs": [],
   "source": [
    "import os\n",
    "import numpy\n",
    "%matplotlib inline\n",
    "import sys\n",
    "sys.path.insert(0,'../utils')\n",
    "from mkdesign import create_design_singlecondition\n",
    "import matplotlib.pyplot as plt\n",
    "#from spm_hrf import spm_hrf\n",
    "from nipy.modalities.fmri.hemodynamic_models import spm_hrf,compute_regressor\n",
    "\n",
    "# the \"blockiness\" argument controls how block-y the design is\n",
    "# from 1( pure block) to 0 (pure random)\n",
    "d,design=create_design_singlecondition(blockiness=0.9)\n",
    "plt.axis([0,400,-0.2,1.2])\n",
    "plt.plot(d)\n",
    "\n",
    "tr=1.0\n",
    "\n",
    "\n",
    "regressor,_=compute_regressor(design,'spm',numpy.arange(0,len(d)))\n",
    "plt.plot(regressor,color='red')"
   ]
  },
  {
   "cell_type": "markdown",
   "id": "40c83c28",
   "metadata": {},
   "source": [
    "Now that we have our design, let's generate some synthetic data.  We will generate AR1 noise to add to the data; this is not a perfect model of the autocorrelation in fMRI, but it's at least a start towards realistic noise.\n"
   ]
  },
  {
   "cell_type": "code",
   "execution_count": null,
   "id": "cdd9b807",
   "metadata": {},
   "outputs": [],
   "source": [
    "from statsmodels.tsa.arima_process import arma_generate_sample\n",
    "\n",
    "ar1_noise=arma_generate_sample([1,0.3],[1,0.],len(regressor))\n",
    "beta=4\n",
    "y=regressor.T*beta + ar1_noise\n",
    "print y.shape"
   ]
  },
  {
   "cell_type": "code",
   "execution_count": null,
   "id": "d4bf721b",
   "metadata": {},
   "outputs": [],
   "source": [
    "plt.plot(y.T)"
   ]
  },
  {
   "cell_type": "markdown",
   "id": "a77ee742",
   "metadata": {},
   "source": [
    "Now let's fit the general linear model to these data. We will ignore serial autocorrelation for now."
   ]
  },
  {
   "cell_type": "code",
   "execution_count": null,
   "id": "445a58da",
   "metadata": {},
   "outputs": [],
   "source": [
    "X=numpy.vstack((regressor.T,numpy.ones(y.shape))).T\n",
    "plt.imshow(X,interpolation='nearest',cmap='gray')\n",
    "plt.axis('auto')"
   ]
  },
  {
   "cell_type": "code",
   "execution_count": null,
   "id": "1f286d55",
   "metadata": {},
   "outputs": [],
   "source": [
    "beta_hat=numpy.linalg.inv(X.T.dot(X)).dot(X.T).dot(y.T)\n",
    "y_est=X.dot(beta_hat)\n",
    "plt.plot(y.T,color='blue')\n",
    "plt.plot(y_est,color='red',linewidth=2)\n",
    "print X.shape"
   ]
  },
  {
   "cell_type": "markdown",
   "id": "07476108",
   "metadata": {},
   "source": [
    "Now let's make a function to repeatedly generate data and fit the model."
   ]
  },
  {
   "cell_type": "code",
   "execution_count": null,
   "id": "d08dc9da",
   "metadata": {},
   "outputs": [],
   "source": [
    "def efficiency(X,c=None):\n",
    "    if not c==None:\n",
    "        c=numpy.ones((X.shape[1]))\n",
    "    else:\n",
    "        c=numpy.array(c)\n",
    "    return 1./c.dot(numpy.linalg.inv(X.T.dot(X))).dot(c)"
   ]
  },
  {
   "cell_type": "markdown",
   "id": "dc3ab33f",
   "metadata": {},
   "source": [
    "Now let's write a simulation that creates datasets with varying levels of blockiness, runs the previous function 1000 times for each level, and plots mean efficiency.  Note that we don't actually need to run it 1000 times for blockiness=1, since that design is exactly the same each time."
   ]
  },
  {
   "cell_type": "code",
   "execution_count": null,
   "id": "997b4f9d",
   "metadata": {},
   "outputs": [],
   "source": [
    "nruns=1000\n",
    "blockiness_vals=numpy.arange(0,1.1,0.1)\n",
    "meaneff_blockiness=numpy.zeros(len(blockiness_vals))\n",
    "\n",
    "for b in range(len(blockiness_vals)):\n",
    "    eff=numpy.zeros(nruns)\n",
    "    for i in range(nruns):\n",
    "        d_sim,design_sim=create_design_singlecondition(blockiness=blockiness_vals[b])\n",
    "        regressor_sim,_=compute_regressor(design_sim,'spm',numpy.arange(0,len(d_sim)))\n",
    "        X=numpy.vstack((regressor_sim.T,numpy.ones(y.shape))).T\n",
    "        eff[i]=efficiency(X,c=[1,0])\n",
    "    meaneff_blockiness[b]=numpy.mean(eff)"
   ]
  },
  {
   "cell_type": "code",
   "execution_count": null,
   "id": "01088eb9",
   "metadata": {},
   "outputs": [],
   "source": [
    "plt.plot(blockiness_vals,meaneff_blockiness)\n",
    "plt.xlabel('blockiness')\n",
    "plt.ylabel('efficiency')"
   ]
  },
  {
   "cell_type": "code",
   "execution_count": null,
   "id": "1008d054",
   "metadata": {},
   "outputs": [],
   "source": [
    "X.shape"
   ]
  },
  {
   "cell_type": "markdown",
   "id": "649b7a2f",
   "metadata": {},
   "source": [
    "Now let's do a similar simulation looking at the effects of varying block length between 10 seconds and 120 seconds (in steps of 10).  since blockiness is 1.0 here, we only need one run per block length."
   ]
  },
  {
   "cell_type": "code",
   "execution_count": null,
   "id": "95658ca3",
   "metadata": {},
   "outputs": [],
   "source": [
    "blocklenvals=numpy.arange(10,120,5)\n",
    "meaneff_blocklen=numpy.zeros(len(blocklenvals))\n",
    "\n",
    "for b in range(len(blocklenvals)):\n",
    "        d_sim,design_sim=create_design_singlecondition(blocklength=blocklenvals[b],blockiness=1.)\n",
    "        regressor_sim,_=compute_regressor(design_sim,'spm',numpy.arange(0,len(d_sim)))\n",
    "        X=numpy.vstack((regressor_sim.T,numpy.ones(y.shape))).T\n",
    "        meaneff_blocklen[b]=efficiency(X,c=[1,0])"
   ]
  },
  {
   "cell_type": "code",
   "execution_count": null,
   "id": "6f0c0645",
   "metadata": {},
   "outputs": [],
   "source": [
    "plt.plot(blocklenvals,meaneff_blocklen)\n",
    "plt.xlabel('block length')\n",
    "plt.ylabel('efficiency')"
   ]
  },
  {
   "cell_type": "markdown",
   "id": "84c4d97b",
   "metadata": {},
   "source": [
    "Now let's look at the effects of correlation between regressors. We first need to create a function to generate a design with two conditions where we can control the correlation between them."
   ]
  },
  {
   "cell_type": "code",
   "execution_count": null,
   "id": "ba74992c",
   "metadata": {},
   "outputs": [],
   "source": [
    "from mkdesign import create_design_twocondition\n",
    "\n",
    "d,des1,des2=create_design_twocondition(correlation=1.0)\n",
    "regressor1,_=compute_regressor(des1,'spm',numpy.arange(0,d.shape[0]))\n",
    "regressor2,_=compute_regressor(des2,'spm',numpy.arange(0,d.shape[0]))\n",
    "\n",
    "X=numpy.vstack((regressor1.T,regressor2.T,numpy.ones(y.shape))).T"
   ]
  },
  {
   "cell_type": "code",
   "execution_count": null,
   "id": "6014485f",
   "metadata": {},
   "outputs": [],
   "source": [
    "nruns=1000\n",
    "corr_vals=numpy.arange(0,1.1,0.1)\n",
    "meaneff_corr=numpy.zeros(len(corr_vals))\n",
    "\n",
    "for b in range(len(corr_vals)):\n",
    "    eff=numpy.zeros(nruns)\n",
    "    corrs=numpy.zeros(nruns)\n",
    "    for i in range(nruns):\n",
    "        d_sim,des1_sim,des2_sim=create_design_twocondition(correlation=corr_vals[b])\n",
    "        regressor1_sim,_=compute_regressor(des1_sim,'spm',numpy.arange(0,d_sim.shape[0]))\n",
    "        regressor2_sim,_=compute_regressor(des2_sim,'spm',numpy.arange(0,d_sim.shape[0]))\n",
    "        X=numpy.vstack((regressor1_sim.T,regressor2_sim.T,numpy.ones(y.shape))).T\n",
    "        # use contrast of first regressor\n",
    "        eff[i]=efficiency(X,c=[1,0,0])\n",
    "        corrs[i]=numpy.corrcoef(X.T)[0,1]\n",
    "    corr_vals[b]=numpy.mean(corrs)\n",
    "    meaneff_corr[b]=numpy.mean(eff)"
   ]
  },
  {
   "cell_type": "code",
   "execution_count": null,
   "id": "4148d651",
   "metadata": {},
   "outputs": [],
   "source": [
    "plt.plot(corr_vals,meaneff_corr)\n",
    "plt.xlabel('mean correlation between regressors')\n",
    "plt.ylabel('efficiency')"
   ]
  },
  {
   "cell_type": "markdown",
   "id": "76d071e5",
   "metadata": {},
   "source": [
    "Now let's look at efficiency of estimation of the shape of the HRF, rather than detection of the activation effect.  This requires that we use a finite impulse response (FIR) model."
   ]
  }
 ],
 "metadata": {},
 "nbformat": 4,
 "nbformat_minor": 5
}
