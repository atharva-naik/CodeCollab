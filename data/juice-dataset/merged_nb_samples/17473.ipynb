{
 "cells": [
  {
   "cell_type": "markdown",
   "id": "ebcddb6f",
   "metadata": {},
   "source": [
    "### power and industry yes/no in area"
   ]
  },
  {
   "cell_type": "code",
   "execution_count": null,
   "id": "83f5cc56",
   "metadata": {},
   "outputs": [],
   "source": [
    "industry_columns = ['thermal_power_plant_raion', 'incineration_raion', 'oil_chemistry_raion', 'radiation_raion', 'railroad_terminal_raion', \n",
    "                    'big_market_raion', 'nuclear_reactor_raion', 'detention_facility_raion']\n",
    "\n",
    "train_df.loc[:3,industry_columns]"
   ]
  },
  {
   "cell_type": "markdown",
   "id": "e40ae54a",
   "metadata": {},
   "source": [
    "## People counts"
   ]
  },
  {
   "cell_type": "markdown",
   "id": "cffd45ee",
   "metadata": {},
   "source": [
    "### people count all"
   ]
  },
  {
   "cell_type": "code",
   "execution_count": null,
   "id": "590b095d",
   "metadata": {},
   "outputs": [],
   "source": [
    "ppl_count_all = ['full_all', 'male_f', 'female_f', 'young_all', 'young_male', 'young_female', 'work_all', 'work_male', 'work_female',\n",
    "                 'ekder_all', 'ekder_male', 'ekder_female']\n",
    "train_df.loc[:3,ppl_count_all]"
   ]
  },
  {
   "cell_type": "markdown",
   "id": "c469c461",
   "metadata": {},
   "source": [
    "### people count 0-6"
   ]
  },
  {
   "cell_type": "code",
   "execution_count": null,
   "id": "44333ef9",
   "metadata": {},
   "outputs": [],
   "source": [
    "ppl_count_0_6 = ['0_6_all', '0_6_male', '0_6_female']\n",
    "train_df.loc[:2,ppl_count_0_6]"
   ]
  },
  {
   "cell_type": "markdown",
   "id": "43adbe75",
   "metadata": {},
   "source": [
    "### people count 7-14"
   ]
  },
  {
   "cell_type": "code",
   "execution_count": null,
   "id": "c1543a42",
   "metadata": {},
   "outputs": [],
   "source": [
    "ppl_count_7_14 = ['7_14_all', '7_14_male', '7_14_female']\n",
    "train_df.loc[:2, ppl_count_7_14]"
   ]
  },
  {
   "cell_type": "markdown",
   "id": "2f25b81e",
   "metadata": {},
   "source": [
    "### people count 0-17"
   ]
  },
  {
   "cell_type": "code",
   "execution_count": null,
   "id": "f8521107",
   "metadata": {},
   "outputs": [],
   "source": [
    "ppl_count_0_17 = ['0_17_all', '0_17_male', '0_17_female']\n",
    "train_df.loc[:2, ppl_count_0_17]"
   ]
  },
  {
   "cell_type": "markdown",
   "id": "f4996239",
   "metadata": {},
   "source": [
    "### people count 16-29"
   ]
  },
  {
   "cell_type": "code",
   "execution_count": null,
   "id": "ebad1846",
   "metadata": {},
   "outputs": [],
   "source": [
    "macro_education_columns = ['load_of_teachers_preschool_per_teacher', 'child_on_acc_pre_school', 'load_of_teachers_school_per_teacher',\n",
    "                           'students_state_oneshift', 'modern_education_share', 'old_education_build_share']\n",
    "train_df.loc[:2, macro_education_columns]"
   ]
  },
  {
   "cell_type": "markdown",
   "id": "4fe87b0d",
   "metadata": {},
   "source": [
    "### Healthcare"
   ]
  },
  {
   "cell_type": "code",
   "execution_count": null,
   "id": "8a871acf",
   "metadata": {},
   "outputs": [],
   "source": [
    "macro_healthcare_columns = ['provision_doctors', 'provision_nurse', 'load_on_doctors', 'power_clinics', \n",
    "                            'hospital_beds_available_per_cap', 'hospital_bed_occupancy_per_year']\n",
    "train_df.loc[:2, macro_healthcare_columns]"
   ]
  },
  {
   "cell_type": "markdown",
   "id": "e30a7496",
   "metadata": {},
   "source": [
    "### Retail"
   ]
  },
  {
   "cell_type": "code",
   "execution_count": null,
   "id": "b55097c4",
   "metadata": {},
   "outputs": [],
   "source": [
    "macro_retail_columns = ['provision_retail_space_sqm', 'provision_retail_space_modern_sqm']\n",
    "train_df.loc[:2, macro_retail_columns]"
   ]
  },
  {
   "cell_type": "markdown",
   "id": "1219f7e6",
   "metadata": {},
   "source": [
    "### Food and Culture"
   ]
  },
  {
   "cell_type": "code",
   "execution_count": null,
   "id": "162316bd",
   "metadata": {},
   "outputs": [],
   "source": [
    "macro_food_culture_columns = ['turnover_catering_per_cap', 'theaters_viewers_per_1000_cap', 'seats_theather_rfmin_per_100000_cap', 'museum_visitis_per_100_cap',\n",
    "                              'bandwidth_sports', 'population_reg_sports_share', 'students_reg_sports_share']\n",
    "train_df.loc[:2, macro_food_culture_columns]"
   ]
  },
  {
   "cell_type": "markdown",
   "id": "a2fbd03c",
   "metadata": {},
   "source": [
    "# Modeling\n",
    "[back to top](#Table-of-Contents)"
   ]
  },
  {
   "cell_type": "markdown",
   "id": "65f7a2ba",
   "metadata": {},
   "source": [
    "### Deleting unwanted columns"
   ]
  },
  {
   "cell_type": "code",
   "execution_count": null,
   "id": "10ac8843",
   "metadata": {},
   "outputs": [],
   "source": [
    "full = del_columns(train_df, [\"id\", \"price_doc\", \"price_doc_euro\", \"price_doc_dollars\"])\n",
    "full = del_columns(test_df, [\"id\"])\n",
    "print(\"\\n\", full.shape)"
   ]
  },
  {
   "cell_type": "code",
   "execution_count": null,
   "id": "a32d666c",
   "metadata": {},
   "outputs": [],
   "source": [
    "numeric_columns = get_numeric_columns(train_df)\n",
    "print(train_df.shape, \"to numeric only:\", train_df[numeric_columns].shape)"
   ]
  },
  {
   "cell_type": "markdown",
   "id": "059641d0",
   "metadata": {},
   "source": [
    "## Train Test Split with last year of training set"
   ]
  },
  {
   "cell_type": "markdown",
   "id": "e51b5371",
   "metadata": {},
   "source": [
    "### build year"
   ]
  },
  {
   "cell_type": "code",
   "execution_count": null,
   "id": "73aa00f7",
   "metadata": {},
   "outputs": [],
   "source": [
    "build_year_columns = [\"build_year\"]\n",
    "train_df.loc[:3,build_year_columns]"
   ]
  },
  {
   "cell_type": "markdown",
   "id": "bab91068",
   "metadata": {},
   "source": [
    "### state"
   ]
  },
  {
   "cell_type": "code",
   "execution_count": null,
   "id": "2f0fae97",
   "metadata": {},
   "outputs": [],
   "source": [
    "state_columns = [\"state\"]\n",
    "train_df.loc[:3,state_columns]"
   ]
  },
  {
   "cell_type": "markdown",
   "id": "5311a761",
   "metadata": {},
   "source": [
    "### product type"
   ]
  },
  {
   "cell_type": "code",
   "execution_count": null,
   "id": "8c4af8ce",
   "metadata": {},
   "outputs": [],
   "source": [
    "product_type_columns = [\"product_type\"]\n",
    "train_df.loc[:3,product_type_columns]"
   ]
  },
  {
   "cell_type": "markdown",
   "id": "50cc4930",
   "metadata": {},
   "source": [
    "## Area / Raion info"
   ]
  },
  {
   "cell_type": "markdown",
   "id": "7e7eb479",
   "metadata": {},
   "source": [
    "### sub_area : until indust_part"
   ]
  },
  {
   "cell_type": "code",
   "execution_count": null,
   "id": "a71aa3ae",
   "metadata": {},
   "outputs": [],
   "source": [
    "sub_area_columns = ['sub_area', 'area_m', 'raion_popul', 'green_zone_part', 'indust_part']\n",
    "train_df.loc[:3,sub_area_columns]"
   ]
  },
  {
   "cell_type": "markdown",
   "id": "3fdcc43b",
   "metadata": {},
   "source": [
    "### children, education, university, additional education"
   ]
  },
  {
   "cell_type": "code",
   "execution_count": null,
   "id": "01bdca90",
   "metadata": {},
   "outputs": [],
   "source": [
    "education_columns = ['children_preschool', 'preschool_quota', 'preschool_education_centers_raion', 'children_school', 'school_quota', 'school_education_centers_raion', \n",
    "                     'school_education_centers_top_20_raion', 'university_top_20_raion', 'additional_education_raion',]\n",
    "train_df.loc[:3,education_columns]"
   ]
  },
  {
   "cell_type": "markdown",
   "id": "f57376f4",
   "metadata": {},
   "source": [
    "### healthcare"
   ]
  },
  {
   "cell_type": "markdown",
   "id": "cdc2e80d",
   "metadata": {},
   "source": [
    "### 2000"
   ]
  },
  {
   "cell_type": "code",
   "execution_count": null,
   "id": "d8720760",
   "metadata": {},
   "outputs": [],
   "source": [
    "count_2000_columns = ['green_part_2000', 'prom_part_2000', 'office_count_2000', 'office_sqm_2000', 'trc_count_2000', 'trc_sqm_2000', \n",
    "                      'cafe_count_2000', 'cafe_sum_2000_min_price_avg', 'cafe_sum_2000_max_price_avg', 'cafe_avg_price_2000', 'cafe_count_2000_na_price',\n",
    "                      'cafe_count_2000_price_500', 'cafe_count_2000_price_1000', 'cafe_count_2000_price_1500', 'cafe_count_2000_price_2500',\n",
    "                      'cafe_count_2000_price_4000', 'cafe_count_2000_price_high',\n",
    "                      'big_church_count_2000', 'church_count_2000', 'mosque_count_2000',\n",
    "                      'leisure_count_2000', 'sport_count_2000', 'market_count_2000']\n",
    "train_df.loc[:3,count_2000_columns]"
   ]
  },
  {
   "cell_type": "markdown",
   "id": "e864a9a3",
   "metadata": {},
   "source": [
    "### 3000"
   ]
  },
  {
   "cell_type": "code",
   "execution_count": null,
   "id": "9a9e404a",
   "metadata": {},
   "outputs": [],
   "source": [
    "count_3000_columns = ['green_part_3000', 'prom_part_3000', 'office_count_3000', 'office_sqm_3000', 'trc_count_3000', 'trc_sqm_3000', \n",
    "                      'cafe_count_3000', 'cafe_sum_3000_min_price_avg', 'cafe_sum_3000_max_price_avg', 'cafe_avg_price_3000', 'cafe_count_3000_na_price',\n",
    "                      'cafe_count_3000_price_500', 'cafe_count_3000_price_1000', 'cafe_count_3000_price_1500', 'cafe_count_3000_price_2500',\n",
    "                      'cafe_count_3000_price_4000', 'cafe_count_3000_price_high',\n",
    "                      'big_church_count_3000', 'church_count_3000', 'mosque_count_3000',\n",
    "                      'leisure_count_3000', 'sport_count_3000', 'market_count_3000']\n",
    "train_df.loc[:3,count_3000_columns]"
   ]
  },
  {
   "cell_type": "markdown",
   "id": "285eb387",
   "metadata": {},
   "source": [
    "### 5000"
   ]
  },
  {
   "cell_type": "code",
   "execution_count": null,
   "id": "83e21edb",
   "metadata": {},
   "outputs": [],
   "source": [
    "count_5000_columns = ['green_part_5000', 'prom_part_5000', 'office_count_5000', 'office_sqm_5000', 'trc_count_5000', 'trc_sqm_5000', \n",
    "                      'cafe_count_5000', 'cafe_sum_5000_min_price_avg', 'cafe_sum_5000_max_price_avg', 'cafe_avg_price_5000', 'cafe_count_5000_na_price',\n",
    "                      'cafe_count_5000_price_500', 'cafe_count_5000_price_1000', 'cafe_count_5000_price_1500', 'cafe_count_5000_price_2500',\n",
    "                      'cafe_count_5000_price_4000', 'cafe_count_5000_price_high',\n",
    "                      'big_church_count_5000', 'church_count_5000', 'mosque_count_5000',\n",
    "                      'leisure_count_5000', 'sport_count_5000', 'market_count_5000']\n",
    "train_df.loc[:3,count_5000_columns]"
   ]
  },
  {
   "cell_type": "markdown",
   "id": "49cb5ebf",
   "metadata": {},
   "source": [
    "## Additional macro economic features"
   ]
  },
  {
   "cell_type": "markdown",
   "id": "c07e5249",
   "metadata": {},
   "source": [
    "### Oil"
   ]
  },
  {
   "cell_type": "code",
   "execution_count": null,
   "id": "3e80e8b9",
   "metadata": {},
   "outputs": [],
   "source": [
    "macro_oil_columns = ['oil_urals', 'brent']\n",
    "train_df.loc[:2, macro_oil_columns]"
   ]
  },
  {
   "cell_type": "markdown",
   "id": "13f17c00",
   "metadata": {},
   "source": [
    "### GDP and GRP (domestic and regional)"
   ]
  },
  {
   "cell_type": "code",
   "execution_count": null,
   "id": "6acf3a8a",
   "metadata": {},
   "outputs": [],
   "source": [
    "macro_gpd_columns = ['gdp_quart', 'gdp_quart_growth', 'gdp_deflator', 'gdp_annual', 'gdp_annual_growth', 'grp', 'grp_growth', 'income_per_cap',\n",
    "       'real_dispos_income_per_cap_growth', 'salary', 'salary_growth']\n",
    "train_df.loc[:2, macro_gpd_columns]"
   ]
  },
  {
   "cell_type": "markdown",
   "id": "ad18ada2",
   "metadata": {},
   "source": [
    "### General Indexes (Consumer & Producer, Russia Trading System, micex Moscow Exchange)"
   ]
  },
  {
   "cell_type": "code",
   "execution_count": null,
   "id": "dd464a3b",
   "metadata": {},
   "outputs": [],
   "source": [
    "ppl_count_16_29 = ['16_29_all', '16_29_male', '16_29_female']\n",
    "train_df.loc[:2, ppl_count_16_29]"
   ]
  },
  {
   "cell_type": "markdown",
   "id": "23ab7e65",
   "metadata": {},
   "source": [
    "### people count 0-13"
   ]
  },
  {
   "cell_type": "code",
   "execution_count": null,
   "id": "9b7aed84",
   "metadata": {},
   "outputs": [],
   "source": [
    "ppl_count_0_13 = ['0_13_all', '0_13_male', '0_13_female']\n",
    "train_df.loc[:2, ppl_count_0_13]"
   ]
  },
  {
   "cell_type": "markdown",
   "id": "7bab96da",
   "metadata": {},
   "source": [
    "## Build Count"
   ]
  },
  {
   "cell_type": "markdown",
   "id": "81eda398",
   "metadata": {},
   "source": [
    "### build count material"
   ]
  },
  {
   "cell_type": "code",
   "execution_count": null,
   "id": "967c9990",
   "metadata": {},
   "outputs": [],
   "source": [
    "build_count_mat_columns = ['raion_build_count_with_material_info', 'build_count_block', 'build_count_wood', 'build_count_frame', \n",
    "                           'build_count_brick', 'build_count_monolith', 'build_count_panel', 'build_count_foam', 'build_count_slag', 'build_count_mix']\n",
    "train_df.loc[:2, build_count_mat_columns]"
   ]
  },
  {
   "cell_type": "markdown",
   "id": "1d9bb1dd",
   "metadata": {},
   "source": [
    "### build count date"
   ]
  },
  {
   "cell_type": "code",
   "execution_count": null,
   "id": "70ad7296",
   "metadata": {},
   "outputs": [],
   "source": [
    "build_count_date_columns = ['raion_build_count_with_builddate_info', 'build_count_before_1920', 'build_count_1921-1945', \n",
    "                           'build_count_1946-1970', 'build_count_1971-1995', 'build_count_after_1995']\n",
    "train_df.loc[:2, build_count_date_columns]"
   ]
  },
  {
   "cell_type": "markdown",
   "id": "4a2d4073",
   "metadata": {},
   "source": [
    "## Nearby Locations"
   ]
  },
  {
   "cell_type": "markdown",
   "id": "95614aa4",
   "metadata": {},
   "source": [
    "### 1line features"
   ]
  },
  {
   "cell_type": "code",
   "execution_count": null,
   "id": "38370920",
   "metadata": {},
   "outputs": [],
   "source": [
    "columns = np.array(train_df.columns)\n",
    "[item for item in columns if \"1line\" in item]"
   ]
  },
  {
   "cell_type": "code",
   "execution_count": null,
   "id": "672cb7b3",
   "metadata": {},
   "outputs": [],
   "source": [
    "one_line_columns = ['water_1line', 'big_road1_1line', 'railroad_1line']\n",
    "train_df.loc[:2,one_line_columns]"
   ]
  },
  {
   "cell_type": "markdown",
   "id": "35650413",
   "metadata": {},
   "source": [
    "### km distances"
   ]
  },
  {
   "cell_type": "code",
   "execution_count": null,
   "id": "2fd88893",
   "metadata": {},
   "outputs": [],
   "source": [
    "healthcare_columns = ['hospital_beds_raion', 'healthcare_centers_raion']\n",
    "train_df.loc[:3,healthcare_columns]"
   ]
  },
  {
   "cell_type": "markdown",
   "id": "cfad857d",
   "metadata": {},
   "source": [
    "### culture"
   ]
  },
  {
   "cell_type": "code",
   "execution_count": null,
   "id": "83d7b44d",
   "metadata": {},
   "outputs": [],
   "source": [
    "culture_columns = ['sport_objects_raion', 'culture_objects_top_25', 'culture_objects_top_25_raion', 'shopping_centers_raion', 'office_raion']\n",
    "train_df.loc[:3,culture_columns]"
   ]
  },
  {
   "cell_type": "code",
   "execution_count": null,
   "id": "5dc5fe90",
   "metadata": {},
   "outputs": [],
   "source": [
    "loc_km_dist_columns = ['kindergarten_km', 'school_km', 'park_km', 'green_zone_km', 'industrial_km', 'water_treatment_km', 'cemetery_km', \n",
    "                       'incineration_km', 'water_km', 'oil_chemistry_km', 'nuclear_reactor_km', 'radiation_km', \n",
    "                       'power_transmission_line_km', 'thermal_power_plant_km', 'ts_km', 'big_market_km', 'market_shop_km', 'fitness_km',\n",
    "                       'swim_pool_km', 'ice_rink_km', 'stadium_km', 'basketball_km', 'hospice_morgue_km', 'detention_facility_km', \n",
    "                       'public_healthcare_km', 'university_km', 'workplaces_km', 'shopping_centers_km', 'office_km', 'additional_education_km',\n",
    "                       'preschool_km', 'big_church_km', 'church_synagogue_km', 'mosque_km', 'theater_km', 'museum_km', 'exhibition_km', 'catering_km']\n",
    "train_df.loc[:2,loc_km_dist_columns]"
   ]
  },
  {
   "cell_type": "markdown",
   "id": "162cbaaa",
   "metadata": {},
   "source": [
    "### Metro"
   ]
  },
  {
   "cell_type": "code",
   "execution_count": null,
   "id": "34d121bd",
   "metadata": {},
   "outputs": [],
   "source": [
    "loc_metro_columns = ['ID_metro', 'metro_min_avto', 'metro_km_avto', 'metro_min_walk', 'metro_km_walk']\n",
    "train_df.loc[:2,loc_metro_columns]"
   ]
  },
  {
   "cell_type": "markdown",
   "id": "e96ae1cd",
   "metadata": {},
   "source": [
    "### railroad and public transport"
   ]
  },
  {
   "cell_type": "code",
   "execution_count": null,
   "id": "3122e9cf",
   "metadata": {},
   "outputs": [],
   "source": [
    "loc_railroad_pubtrans_columns = ['ID_railroad_station_walk', 'railroad_station_walk_km', 'railroad_station_walk_min',\n",
    "                                 'ID_railroad_station_avto', 'railroad_station_avto_km', 'railroad_station_avto_min',\n",
    "                                 'public_transport_station_km', 'public_transport_station_min_walk', \n",
    "                                 'railroad_km', 'zd_vokzaly_avto_km', 'ID_railroad_terminal', \n",
    "                                 'ID_bus_terminal', 'bus_terminal_avto_km']\n",
    "train_df.loc[:2,loc_railroad_pubtrans_columns]"
   ]
  },
  {
   "cell_type": "markdown",
   "id": "1dcf89f4",
   "metadata": {},
   "source": [
    "### Major roads"
   ]
  },
  {
   "cell_type": "markdown",
   "id": "2d30bce6",
   "metadata": {},
   "source": [
    "* mkad = ring road\n",
    "* ttk = TransTelekom ?\n",
    "* sadovoe = Ring Garden"
   ]
  },
  {
   "cell_type": "code",
   "execution_count": null,
   "id": "aa588b62",
   "metadata": {},
   "outputs": [],
   "source": [
    "road_columns = ['mkad_km', 'ttk_km', 'sadovoe_km', 'bulvar_ring_km', 'kremlin_km',\n",
    "                'ID_big_road1', 'big_road1_km',\n",
    "                'ID_big_road2', 'big_road2_km']\n",
    "train_df.loc[:2,road_columns]"
   ]
  },
  {
   "cell_type": "markdown",
   "id": "acf465f8",
   "metadata": {},
   "source": [
    "### ecology"
   ]
  },
  {
   "cell_type": "code",
   "execution_count": null,
   "id": "41c599f3",
   "metadata": {},
   "outputs": [],
   "source": [
    "ecology_columns = ['ecology']\n",
    "train_df.loc[:3, ecology_columns]"
   ]
  },
  {
   "cell_type": "markdown",
   "id": "21903214",
   "metadata": {},
   "source": [
    "## Series 500, 1000, 1500, 2000, 3000, 5000"
   ]
  },
  {
   "cell_type": "markdown",
   "id": "a86827f1",
   "metadata": {},
   "source": [
    "### 500"
   ]
  },
  {
   "cell_type": "code",
   "execution_count": null,
   "id": "7a35573d",
   "metadata": {},
   "outputs": [],
   "source": [
    "count_500_columns = ['green_part_500', 'prom_part_500', 'office_count_500', 'office_sqm_500', 'trc_count_500', 'trc_sqm_500', \n",
    "                     'cafe_count_500', 'cafe_sum_500_min_price_avg', 'cafe_sum_500_max_price_avg', 'cafe_avg_price_500', \n",
    "                     'cafe_count_500_na_price', 'cafe_count_500_price_500', 'cafe_count_500_price_1000', 'cafe_count_500_price_1500',\n",
    "                     'cafe_count_500_price_2500', 'cafe_count_500_price_4000', 'cafe_count_500_price_high',\n",
    "                     'big_church_count_500', 'church_count_500', 'mosque_count_500',\n",
    "                     'leisure_count_500', 'sport_count_500', 'market_count_500']\n",
    "train_df.loc[:3,count_500_columns]"
   ]
  },
  {
   "cell_type": "markdown",
   "id": "a340789a",
   "metadata": {},
   "source": [
    "### 1000"
   ]
  },
  {
   "cell_type": "code",
   "execution_count": null,
   "id": "91ab9177",
   "metadata": {},
   "outputs": [],
   "source": [
    "count_1000_columns = ['green_part_1000', 'prom_part_1000', 'office_count_1000', 'office_sqm_1000', 'trc_count_1000',\n",
    "                     'trc_sqm_1000', 'cafe_count_1000', 'cafe_sum_1000_min_price_avg', 'cafe_sum_1000_max_price_avg', 'cafe_avg_price_1000',\n",
    "                     'cafe_count_1000_na_price', 'cafe_count_1000_price_500', 'cafe_count_1000_price_1000', 'cafe_count_1000_price_1500',\n",
    "                     'cafe_count_1000_price_2500', 'cafe_count_1000_price_4000', 'cafe_count_1000_price_high', \n",
    "                     'big_church_count_1000', 'church_count_1000', 'mosque_count_1000', \n",
    "                     'leisure_count_1000', 'sport_count_1000', 'market_count_1000']\n",
    "train_df.loc[:3,count_1000_columns]"
   ]
  },
  {
   "cell_type": "markdown",
   "id": "80f3aa3b",
   "metadata": {},
   "source": [
    "### 1500"
   ]
  },
  {
   "cell_type": "code",
   "execution_count": null,
   "id": "66723ffe",
   "metadata": {},
   "outputs": [],
   "source": [
    "count_1500_columns = ['green_part_1500', 'prom_part_1500', 'office_count_1500', 'office_sqm_1500', 'trc_count_1500', 'trc_sqm_1500', \n",
    "                      'cafe_count_1500', 'cafe_sum_1500_min_price_avg', 'cafe_sum_1500_max_price_avg', 'cafe_avg_price_1500', 'cafe_count_1500_na_price',\n",
    "                      'cafe_count_1500_price_500', 'cafe_count_1500_price_1000', 'cafe_count_1500_price_1500', 'cafe_count_1500_price_2500',\n",
    "                      'cafe_count_1500_price_4000', 'cafe_count_1500_price_high', \n",
    "                      'big_church_count_1500', 'church_count_1500', 'mosque_count_1500',\n",
    "                      'leisure_count_1500', 'sport_count_1500', 'market_count_1500',]\n",
    "train_df.loc[:3,count_1500_columns]"
   ]
  },
  {
   "cell_type": "code",
   "execution_count": null,
   "id": "57432921",
   "metadata": {},
   "outputs": [],
   "source": [
    "# show_dtypes(train_df)"
   ]
  },
  {
   "cell_type": "markdown",
   "id": "a0deeb99",
   "metadata": {},
   "source": [
    "## Feature Dictionary"
   ]
  },
  {
   "cell_type": "code",
   "execution_count": null,
   "id": "acdf95e9",
   "metadata": {},
   "outputs": [],
   "source": [
    "# price_doc: sale price (this is the target variable)\n",
    "# id: transaction id\n",
    "# timestamp: date of transaction\n",
    "# full_sq: total area in square meters, including loggias, balconies and other non-residential areas\n",
    "# life_sq: living area in square meters, excluding loggias, balconies and other non-residential areas\n",
    "# floor: for apartments, floor of the building\n",
    "# max_floor: number of floors in the building\n",
    "# material: wall material\n",
    "# build_year: year built\n",
    "# num_room: number of living rooms\n",
    "# kitch_sq: kitchen area\n",
    "# state: apartment condition\n",
    "# product_type: owner-occupier purchase or investment\n",
    "# sub_area: name of the district\n",
    "\n",
    "# The dataset also includes a collection of features about each property's surrounding neighbourhood, and some features that are constant across each sub area (known as a Raion). Most of the feature names are self explanatory, with the following notes.\n",
    "\n",
    "# full_all: subarea population\n",
    "# male_f, female_f: subarea population by gender\n",
    "# young_*: population younger than working age\n",
    "# work_*: working-age population\n",
    "# ekder_*: retirement-age population\n",
    "# n_m_{all|male|female}: population between n and m years old\n",
    "# build_count_*: buildings in the subarea by construction type or year\n",
    "# x_count_500: the number of x within 500m of the property\n",
    "# x_part_500: the share of x within 500m of the property\n",
    "# _sqm_: square meters\n",
    "# cafe_count_d_price_p: number of cafes within d meters of the property that have an average bill under p RUB\n",
    "# trc_: shopping malls\n",
    "# prom_: industrial zones\n",
    "# green_: green zones\n",
    "# metro_: subway\n",
    "# _avto_: distances by car\n",
    "# mkad_: Moscow Circle Auto Road\n",
    "# ttk_: Third Transport Ring\n",
    "# sadovoe_: Garden Ring\n",
    "# bulvar_ring_: Boulevard Ring\n",
    "# kremlin_: City center\n",
    "# zd_vokzaly_: Train station\n",
    "# oil_chemistry_: Dirty industry\n",
    "# ts_: Power plant"
   ]
  },
  {
   "cell_type": "markdown",
   "id": "c88daea3",
   "metadata": {},
   "source": [
    "## General features"
   ]
  },
  {
   "cell_type": "code",
   "execution_count": null,
   "id": "6971505d",
   "metadata": {},
   "outputs": [],
   "source": [
    "train_df[\"null_count\"] = train_df.isnull().sum(axis=1)\n",
    "test_df[\"null_count\"] = test_df.isnull().sum(axis=1)"
   ]
  },
  {
   "cell_type": "code",
   "execution_count": null,
   "id": "81763d78",
   "metadata": {},
   "outputs": [],
   "source": [
    "# these make it easier to see if a property has an unusually high or low price if you are not familiar with Rubles\n",
    "train_df[\"price_doc_euro\"] = np.round(train_df[\"price_doc\"]*0.016,0)\n",
    "train_df[\"price_doc_dollars\"] = np.round(train_df[\"price_doc\"]*0.02,0)"
   ]
  },
  {
   "cell_type": "markdown",
   "id": "01a30b1a",
   "metadata": {},
   "source": [
    "## Building info"
   ]
  },
  {
   "cell_type": "markdown",
   "id": "59568d63",
   "metadata": {},
   "source": [
    "### timestamp"
   ]
  },
  {
   "cell_type": "code",
   "execution_count": null,
   "id": "230ab9cb",
   "metadata": {},
   "outputs": [],
   "source": [
    "time_columns = [\"timestamp\"]\n",
    "train_df.loc[:3,time_columns]"
   ]
  },
  {
   "cell_type": "code",
   "execution_count": null,
   "id": "988123f7",
   "metadata": {},
   "outputs": [],
   "source": [
    "train_df[\"time_year\"] = train_df[\"timestamp\"].dt.year\n",
    "test_df[\"time_year\"] = test_df[\"timestamp\"].dt.year\n",
    "\n",
    "train_df[\"time_month_of_year\"] = train_df[\"timestamp\"].dt.month\n",
    "test_df[\"time_month_of_year\"] = test_df[\"timestamp\"].dt.month\n",
    "\n",
    "train_df[\"time_yearmonth\"] = train_df[\"timestamp\"].dt.year*100 + train_df[\"timestamp\"].dt.month-200000\n",
    "test_df[\"time_yearmonth\"] = test_df[\"timestamp\"].dt.year*100 + test_df[\"timestamp\"].dt.month-200000\n",
    "\n",
    "train_df[\"time_week_of_year\"] = train_df[\"timestamp\"].dt.weekofyear\n",
    "test_df[\"time_week_of_year\"] = test_df[\"timestamp\"].dt.weekofyear\n",
    "\n",
    "train_df[\"time_yearweek\"] = train_df[\"timestamp\"].dt.year*100 + train_df[\"timestamp\"].dt.weekofyear-200000\n",
    "test_df[\"time_yearweek\"] = test_df[\"timestamp\"].dt.year*100 + test_df[\"timestamp\"].dt.weekofyear-200000\n",
    "\n",
    "train_df[\"time_day_of_year\"] = train_df[\"timestamp\"].dt.dayofyear\n",
    "test_df[\"time_day_of_year\"] = test_df[\"timestamp\"].dt.dayofyear\n",
    "\n",
    "train_df[\"time_day_of_month\"] = train_df[\"timestamp\"].dt.day\n",
    "test_df[\"time_day_of_month\"] = test_df[\"timestamp\"].dt.day\n",
    "\n",
    "train_df[\"time_day_of_week\"] = train_df[\"timestamp\"].dt.weekday\n",
    "test_df[\"time_day_of_week\"] = test_df[\"timestamp\"].dt.weekday"
   ]
  },
  {
   "cell_type": "code",
   "execution_count": null,
   "id": "10b4e2a9",
   "metadata": {},
   "outputs": [],
   "source": [
    "time_columns = [\"timestamp\", \"time_year\", \"time_month_of_year\", \"time_yearmonth\", \"time_week_of_year\", \"time_yearweek\",\n",
    "                \"time_day_of_year\", \"time_day_of_month\", \"time_day_of_week\"]\n",
    "train_df.loc[:3,time_columns]"
   ]
  },
  {
   "cell_type": "markdown",
   "id": "ffa0fddf",
   "metadata": {},
   "source": [
    "### square meters, floors, rooms"
   ]
  },
  {
   "cell_type": "code",
   "execution_count": null,
   "id": "a670b3e5",
   "metadata": {},
   "outputs": [],
   "source": [
    "macro_demographics_columns = ['labor_force', 'unemployment', 'employment', 'marriages_per_1000_cap', 'divorce_rate', 'pop_natural_increase', \n",
    "                              'pop_migration', 'pop_total_inc', 'childbirth', 'mortality', 'average_life_exp', 'infant_mortarity_per_1000_cap',\n",
    "                              'perinatal_mort_per_1000_cap', 'incidence_population']\n",
    "train_df.loc[:2, macro_demographics_columns]"
   ]
  },
  {
   "cell_type": "markdown",
   "id": "c2f9516d",
   "metadata": {},
   "source": [
    "### Investments and Enterprises"
   ]
  },
  {
   "cell_type": "code",
   "execution_count": null,
   "id": "874e99a5",
   "metadata": {},
   "outputs": [],
   "source": [
    "macro_invest_enterprises_columns = ['invest_fixed_capital_per_cap', 'invest_fixed_assets', 'invest_fixed_assets_phys', 'profitable_enterpr_share', 'unprofitable_enterpr_share', \n",
    "                                    'share_own_revenues', 'overdue_wages_per_cap', 'fin_res_per_cap']\n",
    "train_df.loc[:2, macro_invest_enterprises_columns]"
   ]
  },
  {
   "cell_type": "markdown",
   "id": "57f783c4",
   "metadata": {},
   "source": [
    "### Housing"
   ]
  },
  {
   "cell_type": "code",
   "execution_count": null,
   "id": "0dad9137",
   "metadata": {},
   "outputs": [],
   "source": [
    "macro_housing_columns = ['housing_fund_sqm', 'lodging_sqm_per_cap', 'water_pipes_share', 'baths_share', 'sewerage_share', 'gas_share',\n",
    "                         'hot_water_share', 'electric_stove_share', 'heating_share', 'old_house_share', \n",
    "                         'rent_price_4+room_bus', 'rent_price_3room_bus', 'rent_price_2room_bus', 'rent_price_1room_bus', \n",
    "                         'rent_price_3room_eco',  'rent_price_2room_eco', 'rent_price_1room_eco',\n",
    "                         'apartment_build', 'apartment_fund_sqm']\n",
    "train_df.loc[:2, macro_housing_columns]"
   ]
  },
  {
   "cell_type": "markdown",
   "id": "38d28f05",
   "metadata": {},
   "source": [
    "### Education"
   ]
  },
  {
   "cell_type": "code",
   "execution_count": null,
   "id": "c4a791aa",
   "metadata": {},
   "outputs": [],
   "source": [
    "sqm_floors_columns = ['full_sq', 'life_sq', 'kitch_sq', 'floor', 'max_floor', 'num_room']"
   ]
  },
  {
   "cell_type": "code",
   "execution_count": null,
   "id": "76886363",
   "metadata": {},
   "outputs": [],
   "source": [
    "train_df.loc[10005:10008,sqm_floors_columns]"
   ]
  },
  {
   "cell_type": "markdown",
   "id": "d5b7b7af",
   "metadata": {},
   "source": [
    "### material"
   ]
  },
  {
   "cell_type": "code",
   "execution_count": null,
   "id": "8046f233",
   "metadata": {},
   "outputs": [],
   "source": [
    "material_columns = [\"material\"]\n",
    "train_df.loc[:3,material_columns]"
   ]
  },
  {
   "cell_type": "code",
   "execution_count": null,
   "id": "db735c6b",
   "metadata": {},
   "outputs": [],
   "source": [
    "macro_price_indexes_columns = ['cpi', 'ppi', 'rts', 'micex', 'micex_rgbi_tr', 'micex_cbi_tr', 'fixed_basket']\n",
    "train_df.loc[:2, macro_price_indexes_columns]"
   ]
  },
  {
   "cell_type": "markdown",
   "id": "c65114de",
   "metadata": {},
   "source": [
    "### Trade"
   ]
  },
  {
   "cell_type": "code",
   "execution_count": null,
   "id": "817cf2aa",
   "metadata": {},
   "outputs": [],
   "source": [
    "macro_price_indexes_columns = ['balance_trade', 'balance_trade_growth', 'net_capital_export', 'retail_trade_turnover',\n",
    "                               'retail_trade_turnover_per_cap', 'retail_trade_turnover_growth']\n",
    "train_df.loc[:2, macro_price_indexes_columns]"
   ]
  },
  {
   "cell_type": "markdown",
   "id": "de6e11ab",
   "metadata": {},
   "source": [
    "### Exchange rates"
   ]
  },
  {
   "cell_type": "code",
   "execution_count": null,
   "id": "2f6cfc86",
   "metadata": {},
   "outputs": [],
   "source": [
    "macro_exchange_rates_columns = ['usdrub', 'eurrub']\n",
    "train_df.loc[:2, macro_exchange_rates_columns]"
   ]
  },
  {
   "cell_type": "markdown",
   "id": "fdf3a7a4",
   "metadata": {},
   "source": [
    "### Build Contract"
   ]
  },
  {
   "cell_type": "code",
   "execution_count": null,
   "id": "3492f0e7",
   "metadata": {},
   "outputs": [],
   "source": [
    "macro_build_contract_columns = ['average_provision_of_build_contract', 'average_provision_of_build_contract_moscow']\n",
    "train_df.loc[:2, macro_exchange_rates_columns]"
   ]
  },
  {
   "cell_type": "markdown",
   "id": "2de86568",
   "metadata": {},
   "source": [
    "### Deposits and Mortgages"
   ]
  },
  {
   "cell_type": "code",
   "execution_count": null,
   "id": "74947895",
   "metadata": {},
   "outputs": [],
   "source": [
    "macro_deposits_morgages_columns = ['deposits_value', 'deposits_growth', 'deposits_rate', 'mortgage_value', 'mortgage_growth', 'mortgage_rate']\n",
    "train_df.loc[:2, macro_deposits_morgages_columns]"
   ]
  },
  {
   "cell_type": "markdown",
   "id": "93b4f6f3",
   "metadata": {},
   "source": [
    "### Demographics"
   ]
  },
  {
   "cell_type": "code",
   "execution_count": null,
   "id": "c79cbb61",
   "metadata": {},
   "outputs": [],
   "source": [
    "train_df.price_doc.sort_values(ascending=True).head(5)"
   ]
  },
  {
   "cell_type": "code",
   "execution_count": null,
   "id": "a80fa0f8",
   "metadata": {},
   "outputs": [],
   "source": [
    "train_df.price_doc.sort_values(ascending=False).head(5)"
   ]
  },
  {
   "cell_type": "code",
   "execution_count": null,
   "id": "93dc16f6",
   "metadata": {},
   "outputs": [],
   "source": [
    "ulimit = np.percentile(train_df.price_doc.values, 99.9)\n",
    "llimit = np.percentile(train_df.price_doc.values, .1)\n",
    "train_df.loc[train_df['price_doc']>ulimit, [\"price_doc\"]] = ulimit\n",
    "train_df.loc[train_df['price_doc']<llimit, [\"price_doc\"]] = llimit"
   ]
  },
  {
   "cell_type": "code",
   "execution_count": null,
   "id": "980e542b",
   "metadata": {},
   "outputs": [],
   "source": [
    "train_df[\"price_doc\"].describe().apply(lambda x: '%.f' % x)"
   ]
  },
  {
   "cell_type": "code",
   "execution_count": null,
   "id": "e14c3532",
   "metadata": {},
   "outputs": [],
   "source": [
    "train_y = np.array(train_df[\"price_doc\"])\n",
    "print(train_y[0:10])\n",
    "\n",
    "# Since our metric is \"RMSLE\", let us use log of the target variable for model building rather than using the actual target variable.\n",
    "train_y = np.log1p(train_y)\n",
    "print(train_y[0:10])"
   ]
  },
  {
   "cell_type": "markdown",
   "id": "1efb7a0e",
   "metadata": {},
   "source": [
    "# Exploratory Data Analysis\n",
    "[back to top](#Table-of-Contents)"
   ]
  },
  {
   "cell_type": "code",
   "execution_count": null,
   "id": "ed12f7f1",
   "metadata": {},
   "outputs": [],
   "source": [
    "# put in your code here"
   ]
  },
  {
   "cell_type": "markdown",
   "id": "8dc5f5e8",
   "metadata": {},
   "source": [
    "# Features\n",
    "[back to top](#Table-of-Contents)"
   ]
  }
 ],
 "metadata": {},
 "nbformat": 4,
 "nbformat_minor": 5
}
